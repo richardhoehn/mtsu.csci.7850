{
 "cells": [
  {
   "cell_type": "code",
   "execution_count": 1,
   "id": "6cc7872d-3493-4458-816f-4dbe46ea817f",
   "metadata": {},
   "outputs": [],
   "source": [
    "import numpy as np\n",
    "import torch\n",
    "import lightning.pytorch as pl\n",
    "import torchmetrics\n",
    "import torchvision\n",
    "from torchinfo import summary\n",
    "from torchview import draw_graph\n",
    "from IPython.display import display\n",
    "import sympy as sp\n",
    "sp.init_printing(use_latex=True)\n",
    "\n",
    "import pandas as pd\n",
    "import matplotlib.pyplot as plt\n",
    "\n",
    "import urllib"
   ]
  },
  {
   "cell_type": "code",
   "execution_count": 2,
   "id": "efe22e7e-78d9-40e6-aeca-95f26d850b3c",
   "metadata": {},
   "outputs": [
    {
     "name": "stdout",
     "output_type": "stream",
     "text": [
      "NVIDIA GeForce RTX 2080 Ti\n",
      "_CudaDeviceProperties(name='NVIDIA GeForce RTX 2080 Ti', major=7, minor=5, total_memory=11011MB, multi_processor_count=68)\n",
      "Number of devices: 1\n"
     ]
    }
   ],
   "source": [
    "if torch.cuda.is_available():\n",
    "    print(torch.cuda.get_device_name())\n",
    "    print(torch.cuda.get_device_properties(\"cuda\"))\n",
    "    print(\"Number of devices:\",torch.cuda.device_count())\n",
    "    device = (\"cuda\")\n",
    "else:\n",
    "    print(\"Only CPU is available...\")\n",
    "    device = (\"cpu\")"
   ]
  },
  {
   "cell_type": "code",
   "execution_count": 3,
   "id": "c0701c2e-600e-4eb1-bbd3-0c61af44e6f9",
   "metadata": {},
   "outputs": [
    {
     "data": {
      "image/png": "[encoded data removed]",
      "text/latex": [
       "$\\displaystyle \\left( 170304, \\  2\\right)$"
      ],
      "text/plain": [
       "(170304, 2)"
      ]
     },
     "execution_count": 3,
     "metadata": {},
     "output_type": "execute_result"
    }
   ],
   "source": [
    "# Setup URL to Data File\n",
    "url = \"https://raw.githubusercontent.com/luisroque/deep-learning-articles/main/data/eng-por.txt\"\n",
    "\n",
    "data = []\n",
    "with urllib.request.urlopen(url) as raw_data:\n",
    "    for line in raw_data:\n",
    "        data.append(line.decode(\"utf-8\").split('\\t')[0:2])\n",
    "data = np.array(data)\n",
    "\n",
    "data.shape"
   ]
  },
  {
   "cell_type": "code",
   "execution_count": 4,
   "id": "535e01de-abee-4a33-980c-c581e184d45e",
   "metadata": {},
   "outputs": [
    {
     "name": "stdout",
     "output_type": "stream",
     "text": [
      "max_length = $23\n",
      "data[0] => $['I won.' 'Eu venci.']\n"
     ]
    }
   ],
   "source": [
    "# Subset? - All of the data will take some time...\n",
    "n_seq = data.shape[0]\n",
    "n_seq = 100\n",
    "data = data[0:n_seq]\n",
    "split_point = int(data.shape[0] * 0.8) # Keep 80/20 split\n",
    "np.random.shuffle(data) # In-place modification\n",
    "max_length = np.max([len(i) for i in data.flatten()]) + 2 # Add start/stop\n",
    "\n",
    "print(f\"max_length = ${max_length}\")\n",
    "print(f\"data[0] => ${data[0]}\")"
   ]
  },
  {
   "cell_type": "code",
   "execution_count": 5,
   "id": "4a5c6fd6-7eea-453c-957e-fc86da22f47c",
   "metadata": {},
   "outputs": [],
   "source": [
    "# Setup\n",
    "i_to_c_eng = ['','<START>','<STOP>'] + list({char for word in data[:,0] for char in word})\n",
    "c_to_i_eng = {i_to_c_eng[i]:i for i in range(len(i_to_c_eng))}\n",
    "i_to_c_eng[1] = i_to_c_eng[2] = ''\n",
    "\n",
    "i_to_c_por = ['','<START>','<STOP>'] + list({char for word in data[:,1] for char in word})\n",
    "c_to_i_por = {i_to_c_por[i]:i for i in range(len(i_to_c_por))}\n",
    "i_to_c_por[1] = i_to_c_por[2] = ''\n"
   ]
  },
  {
   "cell_type": "code",
   "execution_count": 6,
   "id": "66ec1043-c582-4f76-aacc-ecddf6836a81",
   "metadata": {},
   "outputs": [],
   "source": [
    "def encode_seq(x, mapping, max_length=0):\n",
    "    # String to integer\n",
    "    return [mapping['<START>']] + \\\n",
    "    [mapping[i] for i in list(x)] + \\\n",
    "    [mapping['<STOP>']] + \\\n",
    "    [0]*(max_length-len(list(x))-2)\n",
    "    \n",
    "def decode_seq(x, mapping):\n",
    "    # Integer-to-string\n",
    "    try:\n",
    "        idx = list(x).index(2) # Stop token?\n",
    "    except:\n",
    "        idx = len(list(x)) # No stop token found\n",
    "    return ''.join([mapping[i] for i in list(x)[0:idx]])"
   ]
  },
  {
   "cell_type": "code",
   "execution_count": 7,
   "id": "2ca41141-d717-4656-9096-ae59f99f7867",
   "metadata": {},
   "outputs": [
    {
     "data": {
      "text/plain": [
       "array(['I won.', 'Eu venci.'], dtype='<U184')"
      ]
     },
     "execution_count": 7,
     "metadata": {},
     "output_type": "execute_result"
    }
   ],
   "source": [
    "data[0]\n"
   ]
  },
  {
   "cell_type": "code",
   "execution_count": 8,
   "id": "aa71463c-84d3-455b-bb8e-477e97519c47",
   "metadata": {},
   "outputs": [
    {
     "data": {
      "text/plain": [
       "'I won.'"
      ]
     },
     "execution_count": 8,
     "metadata": {},
     "output_type": "execute_result"
    }
   ],
   "source": [
    "data[0,0]"
   ]
  },
  {
   "cell_type": "code",
   "execution_count": 9,
   "id": "6943a859-549b-4417-ac70-7cc009ca39b6",
   "metadata": {},
   "outputs": [
    {
     "name": "stdout",
     "output_type": "stream",
     "text": [
      "[1, 34, 4, 22, 33, 24, 10, 2, 0, 0, 0, 0, 0, 0, 0, 0, 0, 0, 0, 0, 0, 0, 0]\n"
     ]
    }
   ],
   "source": [
    "temp = encode_seq(data[0,0],c_to_i_eng,max_length)\n",
    "\n",
    "print(temp)"
   ]
  },
  {
   "cell_type": "code",
   "execution_count": 10,
   "id": "92c3145e-a396-4886-a910-9429f7206903",
   "metadata": {},
   "outputs": [
    {
     "data": {
      "text/plain": [
       "'I won.'"
      ]
     },
     "execution_count": 10,
     "metadata": {},
     "output_type": "execute_result"
    }
   ],
   "source": [
    "decode_seq(temp, i_to_c_eng)"
   ]
  },
  {
   "cell_type": "code",
   "execution_count": 11,
   "id": "8dcff1aa-7c3e-4743-a3c6-de994c999c20",
   "metadata": {},
   "outputs": [
    {
     "data": {
      "text/plain": [
       "'Eu venci.'"
      ]
     },
     "execution_count": 11,
     "metadata": {},
     "output_type": "execute_result"
    }
   ],
   "source": [
    "data[0,1]"
   ]
  },
  {
   "cell_type": "code",
   "execution_count": 12,
   "id": "66c7dc08-60af-4a05-bb2d-b3739d62c57f",
   "metadata": {},
   "outputs": [
    {
     "name": "stdout",
     "output_type": "stream",
     "text": [
      "[1, 45, 21, 6, 48, 18, 32, 31, 39, 17, 2, 0, 0, 0, 0, 0, 0, 0, 0, 0, 0, 0, 0]\n"
     ]
    }
   ],
   "source": [
    "temp = encode_seq(data[0,1],c_to_i_por,max_length)\n",
    "\n",
    "print(temp)"
   ]
  },
  {
   "cell_type": "code",
   "execution_count": 13,
   "id": "ef554a23-38ca-480e-b7a5-5b9477dec38f",
   "metadata": {},
   "outputs": [
    {
     "data": {
      "text/plain": [
       "'Eu venci.'"
      ]
     },
     "execution_count": 13,
     "metadata": {},
     "output_type": "execute_result"
    }
   ],
   "source": [
    "decode_seq(temp, i_to_c_por)"
   ]
  },
  {
   "cell_type": "code",
   "execution_count": 14,
   "id": "b6a5c7af-78cc-49dc-a573-d63ab9cc84e8",
   "metadata": {},
   "outputs": [
    {
     "data": {
      "text/plain": [
       "array([[ 1, 34,  4, ...,  0,  0,  0],\n",
       "       [ 1, 18, 11, ...,  0,  0,  0],\n",
       "       [ 1, 39, 37, ...,  0,  0,  0],\n",
       "       ...,\n",
       "       [ 1, 18, 11, ...,  0,  0,  0],\n",
       "       [ 1, 14,  9, ...,  0,  0,  0],\n",
       "       [ 1, 34,  4, ...,  0,  0,  0]])"
      ]
     },
     "execution_count": 14,
     "metadata": {},
     "output_type": "execute_result"
    }
   ],
   "source": [
    "# Setup\n",
    "X = np.vstack([encode_seq(x, c_to_i_eng, max_length) for x in data[:,0]])\n",
    "Y = np.vstack([encode_seq(x, c_to_i_por, max_length) for x in data[:,1]])\n",
    "\n",
    "enc_x_train = X[:split_point]\n",
    "enc_x_val = X[split_point:]\n",
    "enc_x_train\n"
   ]
  },
  {
   "cell_type": "code",
   "execution_count": 15,
   "id": "d8acac74-4b68-4524-b79e-13d10782edbb",
   "metadata": {},
   "outputs": [
    {
     "data": {
      "text/plain": [
       "array([[ 1, 45, 21, ...,  0,  0,  0],\n",
       "       [ 1, 53, 40, ...,  0,  0,  0],\n",
       "       [ 1, 20,  7, ...,  0,  0,  0],\n",
       "       ...,\n",
       "       [ 1, 27, 41, ...,  0,  0,  0],\n",
       "       [ 1, 20, 14, ...,  0,  0,  0],\n",
       "       [ 1, 45, 21, ...,  0,  0,  0]])"
      ]
     },
     "execution_count": 15,
     "metadata": {},
     "output_type": "execute_result"
    }
   ],
   "source": [
    "# Setup\n",
    "dec_x_train = Y[:,0:-1][:split_point]\n",
    "dec_x_val = Y[:,0:-1][split_point:]\n",
    "dec_x_train"
   ]
  },
  {
   "cell_type": "code",
   "execution_count": 16,
   "id": "01cf865e-a2ff-453b-8586-0765413ea518",
   "metadata": {},
   "outputs": [
    {
     "data": {
      "text/plain": [
       "array([[45, 21,  6, ...,  0,  0,  0],\n",
       "       [53, 40, 23, ...,  0,  0,  0],\n",
       "       [20,  7, 21, ...,  0,  0,  0],\n",
       "       ...,\n",
       "       [27, 41, 31, ...,  0,  0,  0],\n",
       "       [20, 14, 46, ...,  0,  0,  0],\n",
       "       [45, 21,  6, ...,  0,  0,  0]])"
      ]
     },
     "execution_count": 16,
     "metadata": {},
     "output_type": "execute_result"
    }
   ],
   "source": [
    "dec_y_train = Y[:,1:][:split_point]\n",
    "dec_y_val = Y[:,1:][split_point:]\n",
    "dec_y_train"
   ]
  },
  {
   "cell_type": "code",
   "execution_count": 17,
   "id": "0c88beba-1ed6-458b-860d-4035f1e95291",
   "metadata": {},
   "outputs": [
    {
     "name": "stdout",
     "output_type": "stream",
     "text": [
      "(80, 23)\n",
      "(80, 22)\n",
      "(80, 22)\n",
      "----\n",
      "(20, 23)\n",
      "(20, 22)\n",
      "(20, 22)\n"
     ]
    }
   ],
   "source": [
    "print(enc_x_train.shape)\n",
    "print(dec_x_train.shape)\n",
    "print(dec_y_train.shape)\n",
    "\n",
    "print(\"----\")\n",
    "\n",
    "print(enc_x_val.shape)\n",
    "print(dec_x_val.shape)\n",
    "print(dec_y_val.shape)"
   ]
  },
  {
   "cell_type": "code",
   "execution_count": 18,
   "id": "63d4a6ac-b365-400b-8477-9621e76f99bc",
   "metadata": {},
   "outputs": [
    {
     "data": {
      "image/png": "[encoded data removed]",
      "text/latex": [
       "$\\displaystyle 44$"
      ],
      "text/plain": [
       "44"
      ]
     },
     "execution_count": 18,
     "metadata": {},
     "output_type": "execute_result"
    }
   ],
   "source": [
    "len(i_to_c_eng)"
   ]
  },
  {
   "cell_type": "code",
   "execution_count": 19,
   "id": "e289f0d7-7071-43ba-83c7-6fccc571d309",
   "metadata": {},
   "outputs": [
    {
     "data": {
      "image/png": "[encoded data removed]",
      "text/latex": [
       "$\\displaystyle 56$"
      ],
      "text/plain": [
       "56"
      ]
     },
     "execution_count": 19,
     "metadata": {},
     "output_type": "execute_result"
    }
   ],
   "source": [
    "len(i_to_c_por)"
   ]
  },
  {
   "cell_type": "code",
   "execution_count": 20,
   "id": "4142eb37-121d-47aa-a7d0-4f107992638a",
   "metadata": {},
   "outputs": [
    {
     "data": {
      "image/png": "[encoded data removed]",
      "text/latex": [
       "$\\displaystyle \\left( 23,\\right)$"
      ],
      "text/plain": [
       "(23,)"
      ]
     },
     "execution_count": 20,
     "metadata": {},
     "output_type": "execute_result"
    }
   ],
   "source": [
    "enc_x_train.shape[1:]"
   ]
  },
  {
   "cell_type": "code",
   "execution_count": 21,
   "id": "4429f9b2-0c3d-476c-92d6-f65c467b905a",
   "metadata": {},
   "outputs": [],
   "source": [
    "class Lstm(torch.nn.Module):\n",
    "    def __init__(self,\n",
    "                 latent_size = 64,\n",
    "                 bidirectional = False,\n",
    "                 **kwargs):\n",
    "        super().__init__(**kwargs)\n",
    "        self.layer_norm = torch.nn.LayerNorm(latent_size)\n",
    "        self.lstm_layer = torch.nn.LSTM(latent_size,\n",
    "                                      latent_size // 2 if bidirectional else latent_size,\n",
    "                                      bidirectional=bidirectional,\n",
    "                                      batch_first=True)\n",
    "    def forward(self, x):\n",
    "        return x + self.lstm_layer(self.layer_norm(x))[0]\n",
    "\n",
    "class EncoderNetwork(torch.nn.Module):\n",
    "    def __init__(self,\n",
    "                 num_tokens,\n",
    "                 latent_size = 64, # Use something divisible by 2\n",
    "                 n_layers = 4,\n",
    "                 **kwargs):\n",
    "        super().__init__(**kwargs)\n",
    "        self.embedding = torch.nn.Embedding(num_tokens,\n",
    "                                            latent_size,\n",
    "                                            padding_idx=0)\n",
    "        self.dropout = torch.nn.Dropout1d(0.1) # Whole token dropped\n",
    "        self.lstm_layers = torch.nn.Sequential(*[\n",
    "            Lstm(latent_size, True) for _ in range(n_layers)\n",
    "        ])\n",
    "        \n",
    "    def forward(self, x):\n",
    "        y = x\n",
    "        y = self.embedding(y)\n",
    "        y = self.dropout(y)\n",
    "        y = self.lstm_layers(y)[:,-1]\n",
    "        return y\n"
   ]
  },
  {
   "cell_type": "code",
   "execution_count": 22,
   "id": "6b5e0428-2eab-4ab7-91ab-b0a18affd777",
   "metadata": {},
   "outputs": [
    {
     "data": {
      "image/png": "[encoded data removed]",
      "text/latex": [
       "$\\displaystyle \\left( 5, \\  23\\right)$"
      ],
      "text/plain": [
       "(5, 23)"
      ]
     },
     "execution_count": 22,
     "metadata": {},
     "output_type": "execute_result"
    }
   ],
   "source": [
    "enc_x_train[0:5].shape"
   ]
  },
  {
   "cell_type": "code",
   "execution_count": 23,
   "id": "607da314-5e08-4f60-a62d-a4a71bd6777b",
   "metadata": {},
   "outputs": [
    {
     "data": {
      "text/plain": [
       "==========================================================================================\n",
       "Layer (type:depth-idx)                   Output Shape              Param #\n",
       "==========================================================================================\n",
       "EncoderNetwork                           [5, 64]                   --\n",
       "├─Embedding: 1-1                         [5, 23, 64]               2,816\n",
       "├─Dropout1d: 1-2                         [5, 23, 64]               --\n",
       "├─Sequential: 1-3                        [5, 23, 64]               --\n",
       "│    └─Lstm: 2-1                         [5, 23, 64]               --\n",
       "│    │    └─LayerNorm: 3-1               [5, 23, 64]               128\n",
       "│    │    └─LSTM: 3-2                    [5, 23, 64]               25,088\n",
       "│    └─Lstm: 2-2                         [5, 23, 64]               --\n",
       "│    │    └─LayerNorm: 3-3               [5, 23, 64]               128\n",
       "│    │    └─LSTM: 3-4                    [5, 23, 64]               25,088\n",
       "│    └─Lstm: 2-3                         [5, 23, 64]               --\n",
       "│    │    └─LayerNorm: 3-5               [5, 23, 64]               128\n",
       "│    │    └─LSTM: 3-6                    [5, 23, 64]               25,088\n",
       "│    └─Lstm: 2-4                         [5, 23, 64]               --\n",
       "│    │    └─LayerNorm: 3-7               [5, 23, 64]               128\n",
       "│    │    └─LSTM: 3-8                    [5, 23, 64]               25,088\n",
       "==========================================================================================\n",
       "Total params: 103,680\n",
       "Trainable params: 103,680\n",
       "Non-trainable params: 0\n",
       "Total mult-adds (Units.MEGABYTES): 11.56\n",
       "==========================================================================================\n",
       "Input size (MB): 0.00\n",
       "Forward/backward pass size (MB): 0.53\n",
       "Params size (MB): 0.41\n",
       "Estimated Total Size (MB): 0.95\n",
       "=========================================================================================="
      ]
     },
     "execution_count": 23,
     "metadata": {},
     "output_type": "execute_result"
    }
   ],
   "source": [
    "enc_net = EncoderNetwork(num_tokens=len(i_to_c_eng))\n",
    "summary(enc_net,input_data=torch.Tensor(enc_x_train[0:5]).long())"
   ]
  },
  {
   "cell_type": "code",
   "execution_count": 24,
   "id": "c7f4d06b-5e6a-420c-8797-11cfe6e5f754",
   "metadata": {},
   "outputs": [
    {
     "data": {
      "image/svg+xml": [
       "<?xml version=\"1.0\" encoding=\"UTF-8\" standalone=\"no\"?>\n",
       "<!DOCTYPE svg PUBLIC \"-//W3C//DTD SVG 1.1//EN\"\n",
       " \"http://www.w3.org/Graphics/SVG/1.1/DTD/svg11.dtd\">\n",
       "<!-- Generated by graphviz version 8.1.0 (20230707.2238)\n",
       " -->\n",
       "<!-- Title: model Pages: 1 -->\n",
       "<svg width=\"216pt\" height=\"864pt\"\n",
       " viewBox=\"0.00 0.00 215.51 864.00\" xmlns=\"http://www.w3.org/2000/svg\" xmlns:xlink=\"http://www.w3.org/1999/xlink\">\n",
       "<g id=\"graph0\" class=\"graph\" transform=\"scale(0.657034 0.657034) rotate(0) translate(4 1311)\">\n",
       "<title>model</title>\n",
       "<polygon fill=\"white\" stroke=\"none\" points=\"-4,4 -4,-1311 324,-1311 324,4 -4,4\"/>\n",
       "<!-- 0 -->\n",
       "<g id=\"node1\" class=\"node\">\n",
       "<title>0</title>\n",
       "<polygon fill=\"lightyellow\" stroke=\"none\" points=\"141.88,-1307 31.12,-1307 31.12,-1271.5 141.88,-1271.5 141.88,-1307\"/>\n",
       "<polygon fill=\"none\" stroke=\"black\" points=\"31.12,-1271.5 31.12,-1307 100.38,-1307 100.38,-1271.5 31.12,-1271.5\"/>\n",
       "<text text-anchor=\"start\" x=\"36.12\" y=\"-1292.5\" font-family=\"Linux libertine\" font-size=\"10.00\">input&#45;tensor</text>\n",
       "<text text-anchor=\"start\" x=\"47.38\" y=\"-1279.75\" font-family=\"Linux libertine\" font-size=\"10.00\">depth:0</text>\n",
       "<polygon fill=\"none\" stroke=\"black\" points=\"100.38,-1271.5 100.38,-1307 141.88,-1307 141.88,-1271.5 100.38,-1271.5\"/>\n",
       "<text text-anchor=\"start\" x=\"105.38\" y=\"-1286.12\" font-family=\"Linux libertine\" font-size=\"10.00\">(5, 23)</text>\n",
       "</g>\n",
       "<!-- 1 -->\n",
       "<g id=\"node2\" class=\"node\">\n",
       "<title>1</title>\n",
       "<polygon fill=\"#c1ffc1\" stroke=\"none\" points=\"173,-1235.5 0,-1235.5 0,-1191.5 173,-1191.5 173,-1235.5\"/>\n",
       "<polygon fill=\"none\" stroke=\"black\" points=\"0,-1191.5 0,-1235.5 64,-1235.5 64,-1191.5 0,-1191.5\"/>\n",
       "<text text-anchor=\"start\" x=\"4.62\" y=\"-1216.75\" font-family=\"Linux libertine\" font-size=\"10.00\">Embedding</text>\n",
       "<text text-anchor=\"start\" x=\"13.62\" y=\"-1204\" font-family=\"Linux libertine\" font-size=\"10.00\">depth:1</text>\n",
       "<polygon fill=\"none\" stroke=\"black\" points=\"64,-1213.5 64,-1235.5 111,-1235.5 111,-1213.5 64,-1213.5\"/>\n",
       "<text text-anchor=\"start\" x=\"73.62\" y=\"-1221\" font-family=\"Linux libertine\" font-size=\"10.00\">input:</text>\n",
       "<polygon fill=\"none\" stroke=\"black\" points=\"111,-1213.5 111,-1235.5 173,-1235.5 173,-1213.5 111,-1213.5\"/>\n",
       "<text text-anchor=\"start\" x=\"124.75\" y=\"-1221\" font-family=\"Linux libertine\" font-size=\"10.00\">(5, 23) </text>\n",
       "<polygon fill=\"none\" stroke=\"black\" points=\"64,-1191.5 64,-1213.5 111,-1213.5 111,-1191.5 64,-1191.5\"/>\n",
       "<text text-anchor=\"start\" x=\"68.75\" y=\"-1199\" font-family=\"Linux libertine\" font-size=\"10.00\">output: </text>\n",
       "<polygon fill=\"none\" stroke=\"black\" points=\"111,-1191.5 111,-1213.5 173,-1213.5 173,-1191.5 111,-1191.5\"/>\n",
       "<text text-anchor=\"start\" x=\"115.75\" y=\"-1199\" font-family=\"Linux libertine\" font-size=\"10.00\">(5, 23, 64) </text>\n",
       "</g>\n",
       "<!-- 0&#45;&gt;1 -->\n",
       "<g id=\"edge1\" class=\"edge\">\n",
       "<title>0&#45;&gt;1</title>\n",
       "<path fill=\"none\" stroke=\"black\" d=\"M86.5,-1271.51C86.5,-1264.07 86.5,-1255.04 86.5,-1246.39\"/>\n",
       "<polygon fill=\"black\" stroke=\"black\" points=\"90,-1246.39 86.5,-1236.39 83,-1246.39 90,-1246.39\"/>\n",
       "</g>\n",
       "<!-- 2 -->\n",
       "<g id=\"node3\" class=\"node\">\n",
       "<title>2</title>\n",
       "<polygon fill=\"#c1ffc1\" stroke=\"none\" points=\"171.5,-1155.5 1.5,-1155.5 1.5,-1111.5 171.5,-1111.5 171.5,-1155.5\"/>\n",
       "<polygon fill=\"none\" stroke=\"black\" points=\"1.5,-1111.5 1.5,-1155.5 62.5,-1155.5 62.5,-1111.5 1.5,-1111.5\"/>\n",
       "<text text-anchor=\"start\" x=\"6.5\" y=\"-1136.75\" font-family=\"Linux libertine\" font-size=\"10.00\">Dropout1d</text>\n",
       "<text text-anchor=\"start\" x=\"13.62\" y=\"-1124\" font-family=\"Linux libertine\" font-size=\"10.00\">depth:1</text>\n",
       "<polygon fill=\"none\" stroke=\"black\" points=\"62.5,-1133.5 62.5,-1155.5 109.5,-1155.5 109.5,-1133.5 62.5,-1133.5\"/>\n",
       "<text text-anchor=\"start\" x=\"72.12\" y=\"-1141\" font-family=\"Linux libertine\" font-size=\"10.00\">input:</text>\n",
       "<polygon fill=\"none\" stroke=\"black\" points=\"109.5,-1133.5 109.5,-1155.5 171.5,-1155.5 171.5,-1133.5 109.5,-1133.5\"/>\n",
       "<text text-anchor=\"start\" x=\"114.25\" y=\"-1141\" font-family=\"Linux libertine\" font-size=\"10.00\">(5, 23, 64) </text>\n",
       "<polygon fill=\"none\" stroke=\"black\" points=\"62.5,-1111.5 62.5,-1133.5 109.5,-1133.5 109.5,-1111.5 62.5,-1111.5\"/>\n",
       "<text text-anchor=\"start\" x=\"67.25\" y=\"-1119\" font-family=\"Linux libertine\" font-size=\"10.00\">output: </text>\n",
       "<polygon fill=\"none\" stroke=\"black\" points=\"109.5,-1111.5 109.5,-1133.5 171.5,-1133.5 171.5,-1111.5 109.5,-1111.5\"/>\n",
       "<text text-anchor=\"start\" x=\"114.25\" y=\"-1119\" font-family=\"Linux libertine\" font-size=\"10.00\">(5, 23, 64) </text>\n",
       "</g>\n",
       "<!-- 1&#45;&gt;2 -->\n",
       "<g id=\"edge2\" class=\"edge\">\n",
       "<title>1&#45;&gt;2</title>\n",
       "<path fill=\"none\" stroke=\"black\" d=\"M86.5,-1191.6C86.5,-1183.82 86.5,-1174.8 86.5,-1166.26\"/>\n",
       "<polygon fill=\"black\" stroke=\"black\" points=\"90,-1166.46 86.5,-1156.46 83,-1166.46 90,-1166.46\"/>\n",
       "</g>\n",
       "<!-- 3 -->\n",
       "<g id=\"node4\" class=\"node\">\n",
       "<title>3</title>\n",
       "<polygon fill=\"#c1ffc1\" stroke=\"none\" points=\"243,-1075.5 70,-1075.5 70,-1031.5 243,-1031.5 243,-1075.5\"/>\n",
       "<polygon fill=\"none\" stroke=\"black\" points=\"70,-1031.5 70,-1075.5 134,-1075.5 134,-1031.5 70,-1031.5\"/>\n",
       "<text text-anchor=\"start\" x=\"75\" y=\"-1056.75\" font-family=\"Linux libertine\" font-size=\"10.00\">LayerNorm</text>\n",
       "<text text-anchor=\"start\" x=\"83.62\" y=\"-1044\" font-family=\"Linux libertine\" font-size=\"10.00\">depth:3</text>\n",
       "<polygon fill=\"none\" stroke=\"black\" points=\"134,-1053.5 134,-1075.5 181,-1075.5 181,-1053.5 134,-1053.5\"/>\n",
       "<text text-anchor=\"start\" x=\"143.62\" y=\"-1061\" font-family=\"Linux libertine\" font-size=\"10.00\">input:</text>\n",
       "<polygon fill=\"none\" stroke=\"black\" points=\"181,-1053.5 181,-1075.5 243,-1075.5 243,-1053.5 181,-1053.5\"/>\n",
       "<text text-anchor=\"start\" x=\"185.75\" y=\"-1061\" font-family=\"Linux libertine\" font-size=\"10.00\">(5, 23, 64) </text>\n",
       "<polygon fill=\"none\" stroke=\"black\" points=\"134,-1031.5 134,-1053.5 181,-1053.5 181,-1031.5 134,-1031.5\"/>\n",
       "<text text-anchor=\"start\" x=\"138.75\" y=\"-1039\" font-family=\"Linux libertine\" font-size=\"10.00\">output: </text>\n",
       "<polygon fill=\"none\" stroke=\"black\" points=\"181,-1031.5 181,-1053.5 243,-1053.5 243,-1031.5 181,-1031.5\"/>\n",
       "<text text-anchor=\"start\" x=\"185.75\" y=\"-1039\" font-family=\"Linux libertine\" font-size=\"10.00\">(5, 23, 64) </text>\n",
       "</g>\n",
       "<!-- 2&#45;&gt;3 -->\n",
       "<g id=\"edge3\" class=\"edge\">\n",
       "<title>2&#45;&gt;3</title>\n",
       "<path fill=\"none\" stroke=\"black\" d=\"M105.26,-1111.6C113.03,-1102.94 122.17,-1092.76 130.56,-1083.41\"/>\n",
       "<polygon fill=\"black\" stroke=\"black\" points=\"132.62,-1086.24 136.69,-1076.46 127.41,-1081.57 132.62,-1086.24\"/>\n",
       "</g>\n",
       "<!-- 5 -->\n",
       "<g id=\"node6\" class=\"node\">\n",
       "<title>5</title>\n",
       "<polygon fill=\"aliceblue\" stroke=\"none\" points=\"186,-915.5 13,-915.5 13,-871.5 186,-871.5 186,-915.5\"/>\n",
       "<polygon fill=\"none\" stroke=\"black\" points=\"13,-871.5 13,-915.5 59,-915.5 59,-871.5 13,-871.5\"/>\n",
       "<text text-anchor=\"start\" x=\"27\" y=\"-896.75\" font-family=\"Linux libertine\" font-size=\"10.00\">add</text>\n",
       "<text text-anchor=\"start\" x=\"17.62\" y=\"-884\" font-family=\"Linux libertine\" font-size=\"10.00\">depth:3</text>\n",
       "<polygon fill=\"none\" stroke=\"black\" points=\"59,-893.5 59,-915.5 106,-915.5 106,-893.5 59,-893.5\"/>\n",
       "<text text-anchor=\"start\" x=\"68.62\" y=\"-901\" font-family=\"Linux libertine\" font-size=\"10.00\">input:</text>\n",
       "<polygon fill=\"none\" stroke=\"black\" points=\"106,-893.5 106,-915.5 186,-915.5 186,-893.5 106,-893.5\"/>\n",
       "<text text-anchor=\"start\" x=\"110.75\" y=\"-901\" font-family=\"Linux libertine\" font-size=\"10.00\">2 x (5, 23, 64) </text>\n",
       "<polygon fill=\"none\" stroke=\"black\" points=\"59,-871.5 59,-893.5 106,-893.5 106,-871.5 59,-871.5\"/>\n",
       "<text text-anchor=\"start\" x=\"63.75\" y=\"-879\" font-family=\"Linux libertine\" font-size=\"10.00\">output: </text>\n",
       "<polygon fill=\"none\" stroke=\"black\" points=\"106,-871.5 106,-893.5 186,-893.5 186,-871.5 106,-871.5\"/>\n",
       "<text text-anchor=\"start\" x=\"119.75\" y=\"-879\" font-family=\"Linux libertine\" font-size=\"10.00\">(5, 23, 64) </text>\n",
       "</g>\n",
       "<!-- 2&#45;&gt;5 -->\n",
       "<g id=\"edge4\" class=\"edge\">\n",
       "<title>2&#45;&gt;5</title>\n",
       "<path fill=\"none\" stroke=\"black\" d=\"M74.61,-1111.54C56.74,-1077.18 27.24,-1007.14 48.5,-951.5 52.45,-941.17 59.22,-931.54 66.56,-923.23\"/>\n",
       "<polygon fill=\"black\" stroke=\"black\" points=\"68.66,-926.05 73.01,-916.39 63.59,-921.23 68.66,-926.05\"/>\n",
       "</g>\n",
       "<!-- 4 -->\n",
       "<g id=\"node5\" class=\"node\">\n",
       "<title>4</title>\n",
       "<polygon fill=\"#c1ffc1\" stroke=\"none\" points=\"281,-995.5 58,-995.5 58,-951.5 281,-951.5 281,-995.5\"/>\n",
       "<polygon fill=\"none\" stroke=\"black\" points=\"58,-951.5 58,-995.5 104,-995.5 104,-951.5 58,-951.5\"/>\n",
       "<text text-anchor=\"start\" x=\"67.88\" y=\"-976.75\" font-family=\"Linux libertine\" font-size=\"10.00\">LSTM</text>\n",
       "<text text-anchor=\"start\" x=\"62.62\" y=\"-964\" font-family=\"Linux libertine\" font-size=\"10.00\">depth:3</text>\n",
       "<polygon fill=\"none\" stroke=\"black\" points=\"104,-973.5 104,-995.5 151,-995.5 151,-973.5 104,-973.5\"/>\n",
       "<text text-anchor=\"start\" x=\"113.62\" y=\"-981\" font-family=\"Linux libertine\" font-size=\"10.00\">input:</text>\n",
       "<polygon fill=\"none\" stroke=\"black\" points=\"151,-973.5 151,-995.5 281,-995.5 281,-973.5 151,-973.5\"/>\n",
       "<text text-anchor=\"start\" x=\"189.75\" y=\"-981\" font-family=\"Linux libertine\" font-size=\"10.00\">(5, 23, 64) </text>\n",
       "<polygon fill=\"none\" stroke=\"black\" points=\"104,-951.5 104,-973.5 151,-973.5 151,-951.5 104,-951.5\"/>\n",
       "<text text-anchor=\"start\" x=\"108.75\" y=\"-959\" font-family=\"Linux libertine\" font-size=\"10.00\">output: </text>\n",
       "<polygon fill=\"none\" stroke=\"black\" points=\"151,-951.5 151,-973.5 281,-973.5 281,-951.5 151,-951.5\"/>\n",
       "<text text-anchor=\"start\" x=\"156\" y=\"-959\" font-family=\"Linux libertine\" font-size=\"10.00\">(5, 23, 64), 2 x (2, 5, 32) </text>\n",
       "</g>\n",
       "<!-- 3&#45;&gt;4 -->\n",
       "<g id=\"edge5\" class=\"edge\">\n",
       "<title>3&#45;&gt;4</title>\n",
       "<path fill=\"none\" stroke=\"black\" d=\"M159.98,-1031.6C161.28,-1023.82 162.78,-1014.8 164.21,-1006.26\"/>\n",
       "<polygon fill=\"black\" stroke=\"black\" points=\"167.81,-1006.9 166.01,-996.46 160.91,-1005.75 167.81,-1006.9\"/>\n",
       "</g>\n",
       "<!-- 4&#45;&gt;5 -->\n",
       "<g id=\"edge6\" class=\"edge\">\n",
       "<title>4&#45;&gt;5</title>\n",
       "<path fill=\"none\" stroke=\"black\" d=\"M150.74,-951.6C142.97,-942.94 133.83,-932.76 125.44,-923.41\"/>\n",
       "<polygon fill=\"black\" stroke=\"black\" points=\"128.59,-921.57 119.31,-916.46 123.38,-926.24 128.59,-921.57\"/>\n",
       "</g>\n",
       "<!-- 6 -->\n",
       "<g id=\"node7\" class=\"node\">\n",
       "<title>6</title>\n",
       "<polygon fill=\"#c1ffc1\" stroke=\"none\" points=\"256,-835.5 83,-835.5 83,-791.5 256,-791.5 256,-835.5\"/>\n",
       "<polygon fill=\"none\" stroke=\"black\" points=\"83,-791.5 83,-835.5 147,-835.5 147,-791.5 83,-791.5\"/>\n",
       "<text text-anchor=\"start\" x=\"88\" y=\"-816.75\" font-family=\"Linux libertine\" font-size=\"10.00\">LayerNorm</text>\n",
       "<text text-anchor=\"start\" x=\"96.62\" y=\"-804\" font-family=\"Linux libertine\" font-size=\"10.00\">depth:3</text>\n",
       "<polygon fill=\"none\" stroke=\"black\" points=\"147,-813.5 147,-835.5 194,-835.5 194,-813.5 147,-813.5\"/>\n",
       "<text text-anchor=\"start\" x=\"156.62\" y=\"-821\" font-family=\"Linux libertine\" font-size=\"10.00\">input:</text>\n",
       "<polygon fill=\"none\" stroke=\"black\" points=\"194,-813.5 194,-835.5 256,-835.5 256,-813.5 194,-813.5\"/>\n",
       "<text text-anchor=\"start\" x=\"198.75\" y=\"-821\" font-family=\"Linux libertine\" font-size=\"10.00\">(5, 23, 64) </text>\n",
       "<polygon fill=\"none\" stroke=\"black\" points=\"147,-791.5 147,-813.5 194,-813.5 194,-791.5 147,-791.5\"/>\n",
       "<text text-anchor=\"start\" x=\"151.75\" y=\"-799\" font-family=\"Linux libertine\" font-size=\"10.00\">output: </text>\n",
       "<polygon fill=\"none\" stroke=\"black\" points=\"194,-791.5 194,-813.5 256,-813.5 256,-791.5 194,-791.5\"/>\n",
       "<text text-anchor=\"start\" x=\"198.75\" y=\"-799\" font-family=\"Linux libertine\" font-size=\"10.00\">(5, 23, 64) </text>\n",
       "</g>\n",
       "<!-- 5&#45;&gt;6 -->\n",
       "<g id=\"edge7\" class=\"edge\">\n",
       "<title>5&#45;&gt;6</title>\n",
       "<path fill=\"none\" stroke=\"black\" d=\"M118.26,-871.6C126.03,-862.94 135.17,-852.76 143.56,-843.41\"/>\n",
       "<polygon fill=\"black\" stroke=\"black\" points=\"145.62,-846.24 149.69,-836.46 140.41,-841.57 145.62,-846.24\"/>\n",
       "</g>\n",
       "<!-- 8 -->\n",
       "<g id=\"node9\" class=\"node\">\n",
       "<title>8</title>\n",
       "<polygon fill=\"aliceblue\" stroke=\"none\" points=\"199,-675.5 26,-675.5 26,-631.5 199,-631.5 199,-675.5\"/>\n",
       "<polygon fill=\"none\" stroke=\"black\" points=\"26,-631.5 26,-675.5 72,-675.5 72,-631.5 26,-631.5\"/>\n",
       "<text text-anchor=\"start\" x=\"40\" y=\"-656.75\" font-family=\"Linux libertine\" font-size=\"10.00\">add</text>\n",
       "<text text-anchor=\"start\" x=\"30.62\" y=\"-644\" font-family=\"Linux libertine\" font-size=\"10.00\">depth:3</text>\n",
       "<polygon fill=\"none\" stroke=\"black\" points=\"72,-653.5 72,-675.5 119,-675.5 119,-653.5 72,-653.5\"/>\n",
       "<text text-anchor=\"start\" x=\"81.62\" y=\"-661\" font-family=\"Linux libertine\" font-size=\"10.00\">input:</text>\n",
       "<polygon fill=\"none\" stroke=\"black\" points=\"119,-653.5 119,-675.5 199,-675.5 199,-653.5 119,-653.5\"/>\n",
       "<text text-anchor=\"start\" x=\"123.75\" y=\"-661\" font-family=\"Linux libertine\" font-size=\"10.00\">2 x (5, 23, 64) </text>\n",
       "<polygon fill=\"none\" stroke=\"black\" points=\"72,-631.5 72,-653.5 119,-653.5 119,-631.5 72,-631.5\"/>\n",
       "<text text-anchor=\"start\" x=\"76.75\" y=\"-639\" font-family=\"Linux libertine\" font-size=\"10.00\">output: </text>\n",
       "<polygon fill=\"none\" stroke=\"black\" points=\"119,-631.5 119,-653.5 199,-653.5 199,-631.5 119,-631.5\"/>\n",
       "<text text-anchor=\"start\" x=\"132.75\" y=\"-639\" font-family=\"Linux libertine\" font-size=\"10.00\">(5, 23, 64) </text>\n",
       "</g>\n",
       "<!-- 5&#45;&gt;8 -->\n",
       "<g id=\"edge8\" class=\"edge\">\n",
       "<title>5&#45;&gt;8</title>\n",
       "<path fill=\"none\" stroke=\"black\" d=\"M87.61,-871.54C69.74,-837.18 40.24,-767.14 61.5,-711.5 65.45,-701.17 72.22,-691.54 79.56,-683.23\"/>\n",
       "<polygon fill=\"black\" stroke=\"black\" points=\"81.66,-686.05 86.01,-676.39 76.59,-681.23 81.66,-686.05\"/>\n",
       "</g>\n",
       "<!-- 7 -->\n",
       "<g id=\"node8\" class=\"node\">\n",
       "<title>7</title>\n",
       "<polygon fill=\"#c1ffc1\" stroke=\"none\" points=\"294,-755.5 71,-755.5 71,-711.5 294,-711.5 294,-755.5\"/>\n",
       "<polygon fill=\"none\" stroke=\"black\" points=\"71,-711.5 71,-755.5 117,-755.5 117,-711.5 71,-711.5\"/>\n",
       "<text text-anchor=\"start\" x=\"80.88\" y=\"-736.75\" font-family=\"Linux libertine\" font-size=\"10.00\">LSTM</text>\n",
       "<text text-anchor=\"start\" x=\"75.62\" y=\"-724\" font-family=\"Linux libertine\" font-size=\"10.00\">depth:3</text>\n",
       "<polygon fill=\"none\" stroke=\"black\" points=\"117,-733.5 117,-755.5 164,-755.5 164,-733.5 117,-733.5\"/>\n",
       "<text text-anchor=\"start\" x=\"126.62\" y=\"-741\" font-family=\"Linux libertine\" font-size=\"10.00\">input:</text>\n",
       "<polygon fill=\"none\" stroke=\"black\" points=\"164,-733.5 164,-755.5 294,-755.5 294,-733.5 164,-733.5\"/>\n",
       "<text text-anchor=\"start\" x=\"202.75\" y=\"-741\" font-family=\"Linux libertine\" font-size=\"10.00\">(5, 23, 64) </text>\n",
       "<polygon fill=\"none\" stroke=\"black\" points=\"117,-711.5 117,-733.5 164,-733.5 164,-711.5 117,-711.5\"/>\n",
       "<text text-anchor=\"start\" x=\"121.75\" y=\"-719\" font-family=\"Linux libertine\" font-size=\"10.00\">output: </text>\n",
       "<polygon fill=\"none\" stroke=\"black\" points=\"164,-711.5 164,-733.5 294,-733.5 294,-711.5 164,-711.5\"/>\n",
       "<text text-anchor=\"start\" x=\"169\" y=\"-719\" font-family=\"Linux libertine\" font-size=\"10.00\">(5, 23, 64), 2 x (2, 5, 32) </text>\n",
       "</g>\n",
       "<!-- 6&#45;&gt;7 -->\n",
       "<g id=\"edge9\" class=\"edge\">\n",
       "<title>6&#45;&gt;7</title>\n",
       "<path fill=\"none\" stroke=\"black\" d=\"M172.98,-791.6C174.28,-783.82 175.78,-774.8 177.21,-766.26\"/>\n",
       "<polygon fill=\"black\" stroke=\"black\" points=\"180.81,-766.9 179.01,-756.46 173.91,-765.75 180.81,-766.9\"/>\n",
       "</g>\n",
       "<!-- 7&#45;&gt;8 -->\n",
       "<g id=\"edge10\" class=\"edge\">\n",
       "<title>7&#45;&gt;8</title>\n",
       "<path fill=\"none\" stroke=\"black\" d=\"M163.74,-711.6C155.97,-702.94 146.83,-692.76 138.44,-683.41\"/>\n",
       "<polygon fill=\"black\" stroke=\"black\" points=\"141.59,-681.57 132.31,-676.46 136.38,-686.24 141.59,-681.57\"/>\n",
       "</g>\n",
       "<!-- 9 -->\n",
       "<g id=\"node10\" class=\"node\">\n",
       "<title>9</title>\n",
       "<polygon fill=\"#c1ffc1\" stroke=\"none\" points=\"269,-595.5 96,-595.5 96,-551.5 269,-551.5 269,-595.5\"/>\n",
       "<polygon fill=\"none\" stroke=\"black\" points=\"96,-551.5 96,-595.5 160,-595.5 160,-551.5 96,-551.5\"/>\n",
       "<text text-anchor=\"start\" x=\"101\" y=\"-576.75\" font-family=\"Linux libertine\" font-size=\"10.00\">LayerNorm</text>\n",
       "<text text-anchor=\"start\" x=\"109.62\" y=\"-564\" font-family=\"Linux libertine\" font-size=\"10.00\">depth:3</text>\n",
       "<polygon fill=\"none\" stroke=\"black\" points=\"160,-573.5 160,-595.5 207,-595.5 207,-573.5 160,-573.5\"/>\n",
       "<text text-anchor=\"start\" x=\"169.62\" y=\"-581\" font-family=\"Linux libertine\" font-size=\"10.00\">input:</text>\n",
       "<polygon fill=\"none\" stroke=\"black\" points=\"207,-573.5 207,-595.5 269,-595.5 269,-573.5 207,-573.5\"/>\n",
       "<text text-anchor=\"start\" x=\"211.75\" y=\"-581\" font-family=\"Linux libertine\" font-size=\"10.00\">(5, 23, 64) </text>\n",
       "<polygon fill=\"none\" stroke=\"black\" points=\"160,-551.5 160,-573.5 207,-573.5 207,-551.5 160,-551.5\"/>\n",
       "<text text-anchor=\"start\" x=\"164.75\" y=\"-559\" font-family=\"Linux libertine\" font-size=\"10.00\">output: </text>\n",
       "<polygon fill=\"none\" stroke=\"black\" points=\"207,-551.5 207,-573.5 269,-573.5 269,-551.5 207,-551.5\"/>\n",
       "<text text-anchor=\"start\" x=\"211.75\" y=\"-559\" font-family=\"Linux libertine\" font-size=\"10.00\">(5, 23, 64) </text>\n",
       "</g>\n",
       "<!-- 8&#45;&gt;9 -->\n",
       "<g id=\"edge11\" class=\"edge\">\n",
       "<title>8&#45;&gt;9</title>\n",
       "<path fill=\"none\" stroke=\"black\" d=\"M131.26,-631.6C139.03,-622.94 148.17,-612.76 156.56,-603.41\"/>\n",
       "<polygon fill=\"black\" stroke=\"black\" points=\"158.62,-606.24 162.69,-596.46 153.41,-601.57 158.62,-606.24\"/>\n",
       "</g>\n",
       "<!-- 11 -->\n",
       "<g id=\"node12\" class=\"node\">\n",
       "<title>11</title>\n",
       "<polygon fill=\"aliceblue\" stroke=\"none\" points=\"212,-435.5 39,-435.5 39,-391.5 212,-391.5 212,-435.5\"/>\n",
       "<polygon fill=\"none\" stroke=\"black\" points=\"39,-391.5 39,-435.5 85,-435.5 85,-391.5 39,-391.5\"/>\n",
       "<text text-anchor=\"start\" x=\"53\" y=\"-416.75\" font-family=\"Linux libertine\" font-size=\"10.00\">add</text>\n",
       "<text text-anchor=\"start\" x=\"43.62\" y=\"-404\" font-family=\"Linux libertine\" font-size=\"10.00\">depth:3</text>\n",
       "<polygon fill=\"none\" stroke=\"black\" points=\"85,-413.5 85,-435.5 132,-435.5 132,-413.5 85,-413.5\"/>\n",
       "<text text-anchor=\"start\" x=\"94.62\" y=\"-421\" font-family=\"Linux libertine\" font-size=\"10.00\">input:</text>\n",
       "<polygon fill=\"none\" stroke=\"black\" points=\"132,-413.5 132,-435.5 212,-435.5 212,-413.5 132,-413.5\"/>\n",
       "<text text-anchor=\"start\" x=\"136.75\" y=\"-421\" font-family=\"Linux libertine\" font-size=\"10.00\">2 x (5, 23, 64) </text>\n",
       "<polygon fill=\"none\" stroke=\"black\" points=\"85,-391.5 85,-413.5 132,-413.5 132,-391.5 85,-391.5\"/>\n",
       "<text text-anchor=\"start\" x=\"89.75\" y=\"-399\" font-family=\"Linux libertine\" font-size=\"10.00\">output: </text>\n",
       "<polygon fill=\"none\" stroke=\"black\" points=\"132,-391.5 132,-413.5 212,-413.5 212,-391.5 132,-391.5\"/>\n",
       "<text text-anchor=\"start\" x=\"145.75\" y=\"-399\" font-family=\"Linux libertine\" font-size=\"10.00\">(5, 23, 64) </text>\n",
       "</g>\n",
       "<!-- 8&#45;&gt;11 -->\n",
       "<g id=\"edge12\" class=\"edge\">\n",
       "<title>8&#45;&gt;11</title>\n",
       "<path fill=\"none\" stroke=\"black\" d=\"M100.61,-631.54C82.74,-597.18 53.24,-527.14 74.5,-471.5 78.45,-461.17 85.22,-451.54 92.56,-443.23\"/>\n",
       "<polygon fill=\"black\" stroke=\"black\" points=\"94.66,-446.05 99.01,-436.39 89.59,-441.23 94.66,-446.05\"/>\n",
       "</g>\n",
       "<!-- 10 -->\n",
       "<g id=\"node11\" class=\"node\">\n",
       "<title>10</title>\n",
       "<polygon fill=\"#c1ffc1\" stroke=\"none\" points=\"307,-515.5 84,-515.5 84,-471.5 307,-471.5 307,-515.5\"/>\n",
       "<polygon fill=\"none\" stroke=\"black\" points=\"84,-471.5 84,-515.5 130,-515.5 130,-471.5 84,-471.5\"/>\n",
       "<text text-anchor=\"start\" x=\"93.88\" y=\"-496.75\" font-family=\"Linux libertine\" font-size=\"10.00\">LSTM</text>\n",
       "<text text-anchor=\"start\" x=\"88.62\" y=\"-484\" font-family=\"Linux libertine\" font-size=\"10.00\">depth:3</text>\n",
       "<polygon fill=\"none\" stroke=\"black\" points=\"130,-493.5 130,-515.5 177,-515.5 177,-493.5 130,-493.5\"/>\n",
       "<text text-anchor=\"start\" x=\"139.62\" y=\"-501\" font-family=\"Linux libertine\" font-size=\"10.00\">input:</text>\n",
       "<polygon fill=\"none\" stroke=\"black\" points=\"177,-493.5 177,-515.5 307,-515.5 307,-493.5 177,-493.5\"/>\n",
       "<text text-anchor=\"start\" x=\"215.75\" y=\"-501\" font-family=\"Linux libertine\" font-size=\"10.00\">(5, 23, 64) </text>\n",
       "<polygon fill=\"none\" stroke=\"black\" points=\"130,-471.5 130,-493.5 177,-493.5 177,-471.5 130,-471.5\"/>\n",
       "<text text-anchor=\"start\" x=\"134.75\" y=\"-479\" font-family=\"Linux libertine\" font-size=\"10.00\">output: </text>\n",
       "<polygon fill=\"none\" stroke=\"black\" points=\"177,-471.5 177,-493.5 307,-493.5 307,-471.5 177,-471.5\"/>\n",
       "<text text-anchor=\"start\" x=\"182\" y=\"-479\" font-family=\"Linux libertine\" font-size=\"10.00\">(5, 23, 64), 2 x (2, 5, 32) </text>\n",
       "</g>\n",
       "<!-- 9&#45;&gt;10 -->\n",
       "<g id=\"edge13\" class=\"edge\">\n",
       "<title>9&#45;&gt;10</title>\n",
       "<path fill=\"none\" stroke=\"black\" d=\"M185.98,-551.6C187.28,-543.82 188.78,-534.8 190.21,-526.26\"/>\n",
       "<polygon fill=\"black\" stroke=\"black\" points=\"193.81,-526.9 192.01,-516.46 186.91,-525.75 193.81,-526.9\"/>\n",
       "</g>\n",
       "<!-- 10&#45;&gt;11 -->\n",
       "<g id=\"edge14\" class=\"edge\">\n",
       "<title>10&#45;&gt;11</title>\n",
       "<path fill=\"none\" stroke=\"black\" d=\"M176.74,-471.6C168.97,-462.94 159.83,-452.76 151.44,-443.41\"/>\n",
       "<polygon fill=\"black\" stroke=\"black\" points=\"154.59,-441.57 145.31,-436.46 149.38,-446.24 154.59,-441.57\"/>\n",
       "</g>\n",
       "<!-- 12 -->\n",
       "<g id=\"node13\" class=\"node\">\n",
       "<title>12</title>\n",
       "<polygon fill=\"#c1ffc1\" stroke=\"none\" points=\"282,-355.5 109,-355.5 109,-311.5 282,-311.5 282,-355.5\"/>\n",
       "<polygon fill=\"none\" stroke=\"black\" points=\"109,-311.5 109,-355.5 173,-355.5 173,-311.5 109,-311.5\"/>\n",
       "<text text-anchor=\"start\" x=\"114\" y=\"-336.75\" font-family=\"Linux libertine\" font-size=\"10.00\">LayerNorm</text>\n",
       "<text text-anchor=\"start\" x=\"122.62\" y=\"-324\" font-family=\"Linux libertine\" font-size=\"10.00\">depth:3</text>\n",
       "<polygon fill=\"none\" stroke=\"black\" points=\"173,-333.5 173,-355.5 220,-355.5 220,-333.5 173,-333.5\"/>\n",
       "<text text-anchor=\"start\" x=\"182.62\" y=\"-341\" font-family=\"Linux libertine\" font-size=\"10.00\">input:</text>\n",
       "<polygon fill=\"none\" stroke=\"black\" points=\"220,-333.5 220,-355.5 282,-355.5 282,-333.5 220,-333.5\"/>\n",
       "<text text-anchor=\"start\" x=\"224.75\" y=\"-341\" font-family=\"Linux libertine\" font-size=\"10.00\">(5, 23, 64) </text>\n",
       "<polygon fill=\"none\" stroke=\"black\" points=\"173,-311.5 173,-333.5 220,-333.5 220,-311.5 173,-311.5\"/>\n",
       "<text text-anchor=\"start\" x=\"177.75\" y=\"-319\" font-family=\"Linux libertine\" font-size=\"10.00\">output: </text>\n",
       "<polygon fill=\"none\" stroke=\"black\" points=\"220,-311.5 220,-333.5 282,-333.5 282,-311.5 220,-311.5\"/>\n",
       "<text text-anchor=\"start\" x=\"224.75\" y=\"-319\" font-family=\"Linux libertine\" font-size=\"10.00\">(5, 23, 64) </text>\n",
       "</g>\n",
       "<!-- 11&#45;&gt;12 -->\n",
       "<g id=\"edge15\" class=\"edge\">\n",
       "<title>11&#45;&gt;12</title>\n",
       "<path fill=\"none\" stroke=\"black\" d=\"M144.26,-391.6C152.03,-382.94 161.17,-372.76 169.56,-363.41\"/>\n",
       "<polygon fill=\"black\" stroke=\"black\" points=\"171.62,-366.24 175.69,-356.46 166.41,-361.57 171.62,-366.24\"/>\n",
       "</g>\n",
       "<!-- 14 -->\n",
       "<g id=\"node15\" class=\"node\">\n",
       "<title>14</title>\n",
       "<polygon fill=\"aliceblue\" stroke=\"none\" points=\"225,-195.5 52,-195.5 52,-151.5 225,-151.5 225,-195.5\"/>\n",
       "<polygon fill=\"none\" stroke=\"black\" points=\"52,-151.5 52,-195.5 98,-195.5 98,-151.5 52,-151.5\"/>\n",
       "<text text-anchor=\"start\" x=\"66\" y=\"-176.75\" font-family=\"Linux libertine\" font-size=\"10.00\">add</text>\n",
       "<text text-anchor=\"start\" x=\"56.62\" y=\"-164\" font-family=\"Linux libertine\" font-size=\"10.00\">depth:3</text>\n",
       "<polygon fill=\"none\" stroke=\"black\" points=\"98,-173.5 98,-195.5 145,-195.5 145,-173.5 98,-173.5\"/>\n",
       "<text text-anchor=\"start\" x=\"107.62\" y=\"-181\" font-family=\"Linux libertine\" font-size=\"10.00\">input:</text>\n",
       "<polygon fill=\"none\" stroke=\"black\" points=\"145,-173.5 145,-195.5 225,-195.5 225,-173.5 145,-173.5\"/>\n",
       "<text text-anchor=\"start\" x=\"149.75\" y=\"-181\" font-family=\"Linux libertine\" font-size=\"10.00\">2 x (5, 23, 64) </text>\n",
       "<polygon fill=\"none\" stroke=\"black\" points=\"98,-151.5 98,-173.5 145,-173.5 145,-151.5 98,-151.5\"/>\n",
       "<text text-anchor=\"start\" x=\"102.75\" y=\"-159\" font-family=\"Linux libertine\" font-size=\"10.00\">output: </text>\n",
       "<polygon fill=\"none\" stroke=\"black\" points=\"145,-151.5 145,-173.5 225,-173.5 225,-151.5 145,-151.5\"/>\n",
       "<text text-anchor=\"start\" x=\"158.75\" y=\"-159\" font-family=\"Linux libertine\" font-size=\"10.00\">(5, 23, 64) </text>\n",
       "</g>\n",
       "<!-- 11&#45;&gt;14 -->\n",
       "<g id=\"edge16\" class=\"edge\">\n",
       "<title>11&#45;&gt;14</title>\n",
       "<path fill=\"none\" stroke=\"black\" d=\"M113.61,-391.54C95.74,-357.18 66.24,-287.14 87.5,-231.5 91.45,-221.17 98.22,-211.54 105.56,-203.23\"/>\n",
       "<polygon fill=\"black\" stroke=\"black\" points=\"107.66,-206.05 112.01,-196.39 102.59,-201.23 107.66,-206.05\"/>\n",
       "</g>\n",
       "<!-- 13 -->\n",
       "<g id=\"node14\" class=\"node\">\n",
       "<title>13</title>\n",
       "<polygon fill=\"#c1ffc1\" stroke=\"none\" points=\"320,-275.5 97,-275.5 97,-231.5 320,-231.5 320,-275.5\"/>\n",
       "<polygon fill=\"none\" stroke=\"black\" points=\"97,-231.5 97,-275.5 143,-275.5 143,-231.5 97,-231.5\"/>\n",
       "<text text-anchor=\"start\" x=\"106.88\" y=\"-256.75\" font-family=\"Linux libertine\" font-size=\"10.00\">LSTM</text>\n",
       "<text text-anchor=\"start\" x=\"101.62\" y=\"-244\" font-family=\"Linux libertine\" font-size=\"10.00\">depth:3</text>\n",
       "<polygon fill=\"none\" stroke=\"black\" points=\"143,-253.5 143,-275.5 190,-275.5 190,-253.5 143,-253.5\"/>\n",
       "<text text-anchor=\"start\" x=\"152.62\" y=\"-261\" font-family=\"Linux libertine\" font-size=\"10.00\">input:</text>\n",
       "<polygon fill=\"none\" stroke=\"black\" points=\"190,-253.5 190,-275.5 320,-275.5 320,-253.5 190,-253.5\"/>\n",
       "<text text-anchor=\"start\" x=\"228.75\" y=\"-261\" font-family=\"Linux libertine\" font-size=\"10.00\">(5, 23, 64) </text>\n",
       "<polygon fill=\"none\" stroke=\"black\" points=\"143,-231.5 143,-253.5 190,-253.5 190,-231.5 143,-231.5\"/>\n",
       "<text text-anchor=\"start\" x=\"147.75\" y=\"-239\" font-family=\"Linux libertine\" font-size=\"10.00\">output: </text>\n",
       "<polygon fill=\"none\" stroke=\"black\" points=\"190,-231.5 190,-253.5 320,-253.5 320,-231.5 190,-231.5\"/>\n",
       "<text text-anchor=\"start\" x=\"195\" y=\"-239\" font-family=\"Linux libertine\" font-size=\"10.00\">(5, 23, 64), 2 x (2, 5, 32) </text>\n",
       "</g>\n",
       "<!-- 12&#45;&gt;13 -->\n",
       "<g id=\"edge17\" class=\"edge\">\n",
       "<title>12&#45;&gt;13</title>\n",
       "<path fill=\"none\" stroke=\"black\" d=\"M198.98,-311.6C200.28,-303.82 201.78,-294.8 203.21,-286.26\"/>\n",
       "<polygon fill=\"black\" stroke=\"black\" points=\"206.81,-286.9 205.01,-276.46 199.91,-285.75 206.81,-286.9\"/>\n",
       "</g>\n",
       "<!-- 13&#45;&gt;14 -->\n",
       "<g id=\"edge18\" class=\"edge\">\n",
       "<title>13&#45;&gt;14</title>\n",
       "<path fill=\"none\" stroke=\"black\" d=\"M189.74,-231.6C181.97,-222.94 172.83,-212.76 164.44,-203.41\"/>\n",
       "<polygon fill=\"black\" stroke=\"black\" points=\"167.59,-201.57 158.31,-196.46 162.38,-206.24 167.59,-201.57\"/>\n",
       "</g>\n",
       "<!-- 15 -->\n",
       "<g id=\"node16\" class=\"node\">\n",
       "<title>15</title>\n",
       "<polygon fill=\"aliceblue\" stroke=\"none\" points=\"227.5,-115.5 49.5,-115.5 49.5,-71.5 227.5,-71.5 227.5,-115.5\"/>\n",
       "<polygon fill=\"none\" stroke=\"black\" points=\"49.5,-71.5 49.5,-115.5 118.5,-115.5 118.5,-71.5 49.5,-71.5\"/>\n",
       "<text text-anchor=\"start\" x=\"54.38\" y=\"-96.75\" font-family=\"Linux libertine\" font-size=\"10.00\">__getitem__</text>\n",
       "<text text-anchor=\"start\" x=\"65.62\" y=\"-84\" font-family=\"Linux libertine\" font-size=\"10.00\">depth:1</text>\n",
       "<polygon fill=\"none\" stroke=\"black\" points=\"118.5,-93.5 118.5,-115.5 165.5,-115.5 165.5,-93.5 118.5,-93.5\"/>\n",
       "<text text-anchor=\"start\" x=\"128.12\" y=\"-101\" font-family=\"Linux libertine\" font-size=\"10.00\">input:</text>\n",
       "<polygon fill=\"none\" stroke=\"black\" points=\"165.5,-93.5 165.5,-115.5 227.5,-115.5 227.5,-93.5 165.5,-93.5\"/>\n",
       "<text text-anchor=\"start\" x=\"170.25\" y=\"-101\" font-family=\"Linux libertine\" font-size=\"10.00\">(5, 23, 64) </text>\n",
       "<polygon fill=\"none\" stroke=\"black\" points=\"118.5,-71.5 118.5,-93.5 165.5,-93.5 165.5,-71.5 118.5,-71.5\"/>\n",
       "<text text-anchor=\"start\" x=\"123.25\" y=\"-79\" font-family=\"Linux libertine\" font-size=\"10.00\">output: </text>\n",
       "<polygon fill=\"none\" stroke=\"black\" points=\"165.5,-71.5 165.5,-93.5 227.5,-93.5 227.5,-71.5 165.5,-71.5\"/>\n",
       "<text text-anchor=\"start\" x=\"179.25\" y=\"-79\" font-family=\"Linux libertine\" font-size=\"10.00\">(5, 64) </text>\n",
       "</g>\n",
       "<!-- 14&#45;&gt;15 -->\n",
       "<g id=\"edge19\" class=\"edge\">\n",
       "<title>14&#45;&gt;15</title>\n",
       "<path fill=\"none\" stroke=\"black\" d=\"M138.5,-151.6C138.5,-143.82 138.5,-134.8 138.5,-126.26\"/>\n",
       "<polygon fill=\"black\" stroke=\"black\" points=\"142,-126.46 138.5,-116.46 135,-126.46 142,-126.46\"/>\n",
       "</g>\n",
       "<!-- 16 -->\n",
       "<g id=\"node17\" class=\"node\">\n",
       "<title>16</title>\n",
       "<polygon fill=\"lightyellow\" stroke=\"none\" points=\"197.25,-35.5 79.75,-35.5 79.75,0 197.25,0 197.25,-35.5\"/>\n",
       "<polygon fill=\"none\" stroke=\"black\" points=\"79.75,0 79.75,-35.5 155.75,-35.5 155.75,0 79.75,0\"/>\n",
       "<text text-anchor=\"start\" x=\"84.75\" y=\"-21\" font-family=\"Linux libertine\" font-size=\"10.00\">output&#45;tensor</text>\n",
       "<text text-anchor=\"start\" x=\"99.38\" y=\"-8.25\" font-family=\"Linux libertine\" font-size=\"10.00\">depth:0</text>\n",
       "<polygon fill=\"none\" stroke=\"black\" points=\"155.75,0 155.75,-35.5 197.25,-35.5 197.25,0 155.75,0\"/>\n",
       "<text text-anchor=\"start\" x=\"160.75\" y=\"-14.62\" font-family=\"Linux libertine\" font-size=\"10.00\">(5, 64)</text>\n",
       "</g>\n",
       "<!-- 15&#45;&gt;16 -->\n",
       "<g id=\"edge20\" class=\"edge\">\n",
       "<title>15&#45;&gt;16</title>\n",
       "<path fill=\"none\" stroke=\"black\" d=\"M138.5,-71.56C138.5,-63.6 138.5,-54.41 138.5,-45.95\"/>\n",
       "<polygon fill=\"black\" stroke=\"black\" points=\"142,-46.05 138.5,-36.05 135,-46.05 142,-46.05\"/>\n",
       "</g>\n",
       "</g>\n",
       "</svg>\n"
      ],
      "text/plain": [
       "<graphviz.graphs.Digraph at 0x7fad918c8690>"
      ]
     },
     "execution_count": 24,
     "metadata": {},
     "output_type": "execute_result"
    }
   ],
   "source": [
    "model_graph = draw_graph(enc_net,\n",
    "                         input_data = torch.Tensor(enc_x_train[0:5]).long(),\n",
    "                         device=device,\n",
    "                         hide_inner_tensors=True,\n",
    "                         hide_module_functions=True,\n",
    "                         expand_nested=False,\n",
    "                         depth=3,\n",
    "                         dtypes=[torch.long])\n",
    "model_graph.visual_graph"
   ]
  },
  {
   "cell_type": "code",
   "execution_count": 25,
   "id": "98bb5f52-6c74-43f5-9a0f-0fcafae1947c",
   "metadata": {},
   "outputs": [],
   "source": [
    "# Decoder Component\n",
    "class DecoderNetwork(torch.nn.Module):\n",
    "    def __init__(self,\n",
    "                 num_tokens,\n",
    "                 latent_size = 64, # Use something divisible by 2\n",
    "                 n_layers = 4,\n",
    "                 **kwargs):\n",
    "        super().__init__(**kwargs)\n",
    "        self.embedding = torch.nn.Embedding(num_tokens,\n",
    "                                            latent_size,\n",
    "                                            padding_idx=0)\n",
    "        self.dropout = torch.nn.Dropout1d(0.1) # Whole token dropped\n",
    "        self.linear = torch.nn.Linear(latent_size*2, latent_size)\n",
    "        self.lstm_layers = torch.nn.Sequential(*[\n",
    "            Lstm(latent_size,False) for _ in range(n_layers)\n",
    "        ])\n",
    "        self.output_layer = torch.nn.Linear(latent_size,\n",
    "                                            num_tokens)\n",
    "    \n",
    "    def forward(self, x_enc, x_dec):\n",
    "        y_enc = x_enc.unsqueeze(1).repeat(1,x_dec.shape[1],1)\n",
    "        y_dec = self.embedding(x_dec)\n",
    "        y_dec = self.dropout(y_dec)\n",
    "        y = y_enc\n",
    "        y = torch.concatenate([y_enc,y_dec],-1)\n",
    "        y = self.linear(y)\n",
    "        y = self.lstm_layers(y)\n",
    "        y = self.output_layer(y)\n",
    "        return y\n"
   ]
  },
  {
   "cell_type": "code",
   "execution_count": 26,
   "id": "cc8100b3-3f39-4b15-beea-2531cc155d8e",
   "metadata": {},
   "outputs": [
    {
     "data": {
      "image/png": "[encoded data removed]",
      "text/latex": [
       "$\\displaystyle \\left( 5, \\  23\\right)$"
      ],
      "text/plain": [
       "(5, 23)"
      ]
     },
     "execution_count": 26,
     "metadata": {},
     "output_type": "execute_result"
    }
   ],
   "source": [
    "enc_x_train[0:5].shape"
   ]
  },
  {
   "cell_type": "code",
   "execution_count": 27,
   "id": "0e8faf07-5f2a-4a11-a2b8-7da32684d954",
   "metadata": {},
   "outputs": [
    {
     "data": {
      "image/png": "[encoded data removed]",
      "text/latex": [
       "$\\displaystyle \\left( 5, \\  22\\right)$"
      ],
      "text/plain": [
       "(5, 22)"
      ]
     },
     "execution_count": 27,
     "metadata": {},
     "output_type": "execute_result"
    }
   ],
   "source": [
    "dec_x_train[0:5].shape"
   ]
  },
  {
   "cell_type": "code",
   "execution_count": 28,
   "id": "3427a04e-eb1e-49ab-9db4-4b2873c2ef51",
   "metadata": {},
   "outputs": [
    {
     "data": {
      "text/plain": [
       "torch.Size([5, 64])"
      ]
     },
     "execution_count": 28,
     "metadata": {},
     "output_type": "execute_result"
    }
   ],
   "source": [
    "# Passed through the encoder network - output tensor shape for decoder\n",
    "enc_net(torch.Tensor(enc_x_train[0:5]).long().to(device)).shape"
   ]
  },
  {
   "cell_type": "code",
   "execution_count": 29,
   "id": "0ad40adb-93af-434a-b3bb-d51e3a4d2780",
   "metadata": {},
   "outputs": [
    {
     "data": {
      "text/plain": [
       "==========================================================================================\n",
       "Layer (type:depth-idx)                   Output Shape              Param #\n",
       "==========================================================================================\n",
       "DecoderNetwork                           [5, 22, 56]               --\n",
       "├─Embedding: 1-1                         [5, 22, 64]               3,584\n",
       "├─Dropout1d: 1-2                         [5, 22, 64]               --\n",
       "├─Linear: 1-3                            [5, 22, 64]               8,256\n",
       "├─Sequential: 1-4                        [5, 22, 64]               --\n",
       "│    └─Lstm: 2-1                         [5, 22, 64]               --\n",
       "│    │    └─LayerNorm: 3-1               [5, 22, 64]               128\n",
       "│    │    └─LSTM: 3-2                    [5, 22, 64]               33,280\n",
       "│    └─Lstm: 2-2                         [5, 22, 64]               --\n",
       "│    │    └─LayerNorm: 3-3               [5, 22, 64]               128\n",
       "│    │    └─LSTM: 3-4                    [5, 22, 64]               33,280\n",
       "│    └─Lstm: 2-3                         [5, 22, 64]               --\n",
       "│    │    └─LayerNorm: 3-5               [5, 22, 64]               128\n",
       "│    │    └─LSTM: 3-6                    [5, 22, 64]               33,280\n",
       "│    └─Lstm: 2-4                         [5, 22, 64]               --\n",
       "│    │    └─LayerNorm: 3-7               [5, 22, 64]               128\n",
       "│    │    └─LSTM: 3-8                    [5, 22, 64]               33,280\n",
       "├─Linear: 1-5                            [5, 22, 56]               3,640\n",
       "==========================================================================================\n",
       "Total params: 149,112\n",
       "Trainable params: 149,112\n",
       "Non-trainable params: 0\n",
       "Total mult-adds (Units.MEGABYTES): 14.72\n",
       "==========================================================================================\n",
       "Input size (MB): 0.00\n",
       "Forward/backward pass size (MB): 0.61\n",
       "Params size (MB): 0.60\n",
       "Estimated Total Size (MB): 1.21\n",
       "=========================================================================================="
      ]
     },
     "execution_count": 29,
     "metadata": {},
     "output_type": "execute_result"
    }
   ],
   "source": [
    "dec_net = DecoderNetwork(num_tokens=len(i_to_c_por))\n",
    "summary(dec_net,input_data=[enc_net(torch.Tensor(enc_x_train[0:5]).long().to(device)).cpu(), torch.Tensor(dec_x_train[0:5]).long()])"
   ]
  },
  {
   "cell_type": "code",
   "execution_count": 30,
   "id": "8e4070fc-f4f4-4a01-8f11-3c086c9f3361",
   "metadata": {},
   "outputs": [
    {
     "data": {
      "image/svg+xml": [
       "<?xml version=\"1.0\" encoding=\"UTF-8\" standalone=\"no\"?>\n",
       "<!DOCTYPE svg PUBLIC \"-//W3C//DTD SVG 1.1//EN\"\n",
       " \"http://www.w3.org/Graphics/SVG/1.1/DTD/svg11.dtd\">\n",
       "<!-- Generated by graphviz version 8.1.0 (20230707.2238)\n",
       " -->\n",
       "<!-- Title: model Pages: 1 -->\n",
       "<svg width=\"287pt\" height=\"1015pt\"\n",
       " viewBox=\"0.00 0.00 286.95 1015.00\" xmlns=\"http://www.w3.org/2000/svg\" xmlns:xlink=\"http://www.w3.org/1999/xlink\">\n",
       "<g id=\"graph0\" class=\"graph\" transform=\"scale(0.688136 0.688136) rotate(0) translate(4 1471)\">\n",
       "<title>model</title>\n",
       "<polygon fill=\"white\" stroke=\"none\" points=\"-4,4 -4,-1471 413,-1471 413,4 -4,4\"/>\n",
       "<!-- 0 -->\n",
       "<g id=\"node1\" class=\"node\">\n",
       "<title>0</title>\n",
       "<polygon fill=\"lightyellow\" stroke=\"none\" points=\"137.88,-1467 27.12,-1467 27.12,-1431.5 137.88,-1431.5 137.88,-1467\"/>\n",
       "<polygon fill=\"none\" stroke=\"black\" points=\"27.12,-1431.5 27.12,-1467 96.38,-1467 96.38,-1431.5 27.12,-1431.5\"/>\n",
       "<text text-anchor=\"start\" x=\"32.12\" y=\"-1452.5\" font-family=\"Linux libertine\" font-size=\"10.00\">input&#45;tensor</text>\n",
       "<text text-anchor=\"start\" x=\"43.38\" y=\"-1439.75\" font-family=\"Linux libertine\" font-size=\"10.00\">depth:0</text>\n",
       "<polygon fill=\"none\" stroke=\"black\" points=\"96.38,-1431.5 96.38,-1467 137.88,-1467 137.88,-1431.5 96.38,-1431.5\"/>\n",
       "<text text-anchor=\"start\" x=\"101.38\" y=\"-1446.12\" font-family=\"Linux libertine\" font-size=\"10.00\">(5, 64)</text>\n",
       "</g>\n",
       "<!-- 2 -->\n",
       "<g id=\"node3\" class=\"node\">\n",
       "<title>2</title>\n",
       "<polygon fill=\"aliceblue\" stroke=\"none\" points=\"165,-1395.5 0,-1395.5 0,-1351.5 165,-1351.5 165,-1395.5\"/>\n",
       "<polygon fill=\"none\" stroke=\"black\" points=\"0,-1351.5 0,-1395.5 62,-1395.5 62,-1351.5 0,-1351.5\"/>\n",
       "<text text-anchor=\"start\" x=\"4.75\" y=\"-1376.75\" font-family=\"Linux libertine\" font-size=\"10.00\">unsqueeze</text>\n",
       "<text text-anchor=\"start\" x=\"12.62\" y=\"-1364\" font-family=\"Linux libertine\" font-size=\"10.00\">depth:1</text>\n",
       "<polygon fill=\"none\" stroke=\"black\" points=\"62,-1373.5 62,-1395.5 109,-1395.5 109,-1373.5 62,-1373.5\"/>\n",
       "<text text-anchor=\"start\" x=\"71.62\" y=\"-1381\" font-family=\"Linux libertine\" font-size=\"10.00\">input:</text>\n",
       "<polygon fill=\"none\" stroke=\"black\" points=\"109,-1373.5 109,-1395.5 165,-1395.5 165,-1373.5 109,-1373.5\"/>\n",
       "<text text-anchor=\"start\" x=\"119.75\" y=\"-1381\" font-family=\"Linux libertine\" font-size=\"10.00\">(5, 64) </text>\n",
       "<polygon fill=\"none\" stroke=\"black\" points=\"62,-1351.5 62,-1373.5 109,-1373.5 109,-1351.5 62,-1351.5\"/>\n",
       "<text text-anchor=\"start\" x=\"66.75\" y=\"-1359\" font-family=\"Linux libertine\" font-size=\"10.00\">output: </text>\n",
       "<polygon fill=\"none\" stroke=\"black\" points=\"109,-1351.5 109,-1373.5 165,-1373.5 165,-1351.5 109,-1351.5\"/>\n",
       "<text text-anchor=\"start\" x=\"113.75\" y=\"-1359\" font-family=\"Linux libertine\" font-size=\"10.00\">(5, 1, 64) </text>\n",
       "</g>\n",
       "<!-- 0&#45;&gt;2 -->\n",
       "<g id=\"edge1\" class=\"edge\">\n",
       "<title>0&#45;&gt;2</title>\n",
       "<path fill=\"none\" stroke=\"black\" d=\"M82.5,-1431.51C82.5,-1424.07 82.5,-1415.04 82.5,-1406.39\"/>\n",
       "<polygon fill=\"black\" stroke=\"black\" points=\"86,-1406.39 82.5,-1396.39 79,-1406.39 86,-1406.39\"/>\n",
       "</g>\n",
       "<!-- 1 -->\n",
       "<g id=\"node2\" class=\"node\">\n",
       "<title>1</title>\n",
       "<polygon fill=\"lightyellow\" stroke=\"none\" points=\"324.88,-1467 214.12,-1467 214.12,-1431.5 324.88,-1431.5 324.88,-1467\"/>\n",
       "<polygon fill=\"none\" stroke=\"black\" points=\"214.12,-1431.5 214.12,-1467 283.38,-1467 283.38,-1431.5 214.12,-1431.5\"/>\n",
       "<text text-anchor=\"start\" x=\"219.12\" y=\"-1452.5\" font-family=\"Linux libertine\" font-size=\"10.00\">input&#45;tensor</text>\n",
       "<text text-anchor=\"start\" x=\"230.38\" y=\"-1439.75\" font-family=\"Linux libertine\" font-size=\"10.00\">depth:0</text>\n",
       "<polygon fill=\"none\" stroke=\"black\" points=\"283.38,-1431.5 283.38,-1467 324.88,-1467 324.88,-1431.5 283.38,-1431.5\"/>\n",
       "<text text-anchor=\"start\" x=\"288.38\" y=\"-1446.12\" font-family=\"Linux libertine\" font-size=\"10.00\">(5, 22)</text>\n",
       "</g>\n",
       "<!-- 4 -->\n",
       "<g id=\"node5\" class=\"node\">\n",
       "<title>4</title>\n",
       "<polygon fill=\"#c1ffc1\" stroke=\"none\" points=\"356,-1395.5 183,-1395.5 183,-1351.5 356,-1351.5 356,-1395.5\"/>\n",
       "<polygon fill=\"none\" stroke=\"black\" points=\"183,-1351.5 183,-1395.5 247,-1395.5 247,-1351.5 183,-1351.5\"/>\n",
       "<text text-anchor=\"start\" x=\"187.62\" y=\"-1376.75\" font-family=\"Linux libertine\" font-size=\"10.00\">Embedding</text>\n",
       "<text text-anchor=\"start\" x=\"196.62\" y=\"-1364\" font-family=\"Linux libertine\" font-size=\"10.00\">depth:1</text>\n",
       "<polygon fill=\"none\" stroke=\"black\" points=\"247,-1373.5 247,-1395.5 294,-1395.5 294,-1373.5 247,-1373.5\"/>\n",
       "<text text-anchor=\"start\" x=\"256.62\" y=\"-1381\" font-family=\"Linux libertine\" font-size=\"10.00\">input:</text>\n",
       "<polygon fill=\"none\" stroke=\"black\" points=\"294,-1373.5 294,-1395.5 356,-1395.5 356,-1373.5 294,-1373.5\"/>\n",
       "<text text-anchor=\"start\" x=\"307.75\" y=\"-1381\" font-family=\"Linux libertine\" font-size=\"10.00\">(5, 22) </text>\n",
       "<polygon fill=\"none\" stroke=\"black\" points=\"247,-1351.5 247,-1373.5 294,-1373.5 294,-1351.5 247,-1351.5\"/>\n",
       "<text text-anchor=\"start\" x=\"251.75\" y=\"-1359\" font-family=\"Linux libertine\" font-size=\"10.00\">output: </text>\n",
       "<polygon fill=\"none\" stroke=\"black\" points=\"294,-1351.5 294,-1373.5 356,-1373.5 356,-1351.5 294,-1351.5\"/>\n",
       "<text text-anchor=\"start\" x=\"298.75\" y=\"-1359\" font-family=\"Linux libertine\" font-size=\"10.00\">(5, 22, 64) </text>\n",
       "</g>\n",
       "<!-- 1&#45;&gt;4 -->\n",
       "<g id=\"edge2\" class=\"edge\">\n",
       "<title>1&#45;&gt;4</title>\n",
       "<path fill=\"none\" stroke=\"black\" d=\"M269.5,-1431.51C269.5,-1424.07 269.5,-1415.04 269.5,-1406.39\"/>\n",
       "<polygon fill=\"black\" stroke=\"black\" points=\"273,-1406.39 269.5,-1396.39 266,-1406.39 273,-1406.39\"/>\n",
       "</g>\n",
       "<!-- 3 -->\n",
       "<g id=\"node4\" class=\"node\">\n",
       "<title>3</title>\n",
       "<polygon fill=\"aliceblue\" stroke=\"none\" points=\"163,-1315.5 8,-1315.5 8,-1271.5 163,-1271.5 163,-1315.5\"/>\n",
       "<polygon fill=\"none\" stroke=\"black\" points=\"8,-1271.5 8,-1315.5 54,-1315.5 54,-1271.5 8,-1271.5\"/>\n",
       "<text text-anchor=\"start\" x=\"15.25\" y=\"-1296.75\" font-family=\"Linux libertine\" font-size=\"10.00\">repeat</text>\n",
       "<text text-anchor=\"start\" x=\"12.62\" y=\"-1284\" font-family=\"Linux libertine\" font-size=\"10.00\">depth:1</text>\n",
       "<polygon fill=\"none\" stroke=\"black\" points=\"54,-1293.5 54,-1315.5 101,-1315.5 101,-1293.5 54,-1293.5\"/>\n",
       "<text text-anchor=\"start\" x=\"63.62\" y=\"-1301\" font-family=\"Linux libertine\" font-size=\"10.00\">input:</text>\n",
       "<polygon fill=\"none\" stroke=\"black\" points=\"101,-1293.5 101,-1315.5 163,-1315.5 163,-1293.5 101,-1293.5\"/>\n",
       "<text text-anchor=\"start\" x=\"108.75\" y=\"-1301\" font-family=\"Linux libertine\" font-size=\"10.00\">(5, 1, 64) </text>\n",
       "<polygon fill=\"none\" stroke=\"black\" points=\"54,-1271.5 54,-1293.5 101,-1293.5 101,-1271.5 54,-1271.5\"/>\n",
       "<text text-anchor=\"start\" x=\"58.75\" y=\"-1279\" font-family=\"Linux libertine\" font-size=\"10.00\">output: </text>\n",
       "<polygon fill=\"none\" stroke=\"black\" points=\"101,-1271.5 101,-1293.5 163,-1293.5 163,-1271.5 101,-1271.5\"/>\n",
       "<text text-anchor=\"start\" x=\"105.75\" y=\"-1279\" font-family=\"Linux libertine\" font-size=\"10.00\">(5, 22, 64) </text>\n",
       "</g>\n",
       "<!-- 2&#45;&gt;3 -->\n",
       "<g id=\"edge3\" class=\"edge\">\n",
       "<title>2&#45;&gt;3</title>\n",
       "<path fill=\"none\" stroke=\"black\" d=\"M83.3,-1351.6C83.6,-1343.82 83.95,-1334.8 84.28,-1326.26\"/>\n",
       "<polygon fill=\"black\" stroke=\"black\" points=\"87.81,-1326.59 84.69,-1316.46 80.81,-1326.32 87.81,-1326.59\"/>\n",
       "</g>\n",
       "<!-- 6 -->\n",
       "<g id=\"node7\" class=\"node\">\n",
       "<title>6</title>\n",
       "<polygon fill=\"aliceblue\" stroke=\"none\" points=\"274,-1235.5 77,-1235.5 77,-1191.5 274,-1191.5 274,-1235.5\"/>\n",
       "<polygon fill=\"none\" stroke=\"black\" points=\"77,-1191.5 77,-1235.5 147,-1235.5 147,-1191.5 77,-1191.5\"/>\n",
       "<text text-anchor=\"start\" x=\"82\" y=\"-1216.75\" font-family=\"Linux libertine\" font-size=\"10.00\">concatenate</text>\n",
       "<text text-anchor=\"start\" x=\"93.62\" y=\"-1204\" font-family=\"Linux libertine\" font-size=\"10.00\">depth:1</text>\n",
       "<polygon fill=\"none\" stroke=\"black\" points=\"147,-1213.5 147,-1235.5 194,-1235.5 194,-1213.5 147,-1213.5\"/>\n",
       "<text text-anchor=\"start\" x=\"156.62\" y=\"-1221\" font-family=\"Linux libertine\" font-size=\"10.00\">input:</text>\n",
       "<polygon fill=\"none\" stroke=\"black\" points=\"194,-1213.5 194,-1235.5 274,-1235.5 274,-1213.5 194,-1213.5\"/>\n",
       "<text text-anchor=\"start\" x=\"198.75\" y=\"-1221\" font-family=\"Linux libertine\" font-size=\"10.00\">2 x (5, 22, 64) </text>\n",
       "<polygon fill=\"none\" stroke=\"black\" points=\"147,-1191.5 147,-1213.5 194,-1213.5 194,-1191.5 147,-1191.5\"/>\n",
       "<text text-anchor=\"start\" x=\"151.75\" y=\"-1199\" font-family=\"Linux libertine\" font-size=\"10.00\">output: </text>\n",
       "<polygon fill=\"none\" stroke=\"black\" points=\"194,-1191.5 194,-1213.5 274,-1213.5 274,-1191.5 194,-1191.5\"/>\n",
       "<text text-anchor=\"start\" x=\"204.75\" y=\"-1199\" font-family=\"Linux libertine\" font-size=\"10.00\">(5, 22, 128) </text>\n",
       "</g>\n",
       "<!-- 3&#45;&gt;6 -->\n",
       "<g id=\"edge4\" class=\"edge\">\n",
       "<title>3&#45;&gt;6</title>\n",
       "<path fill=\"none\" stroke=\"black\" d=\"M109.62,-1271.6C119.91,-1262.68 132.07,-1252.14 143.13,-1242.56\"/>\n",
       "<polygon fill=\"black\" stroke=\"black\" points=\"145.05,-1244.65 150.32,-1235.46 140.47,-1239.36 145.05,-1244.65\"/>\n",
       "</g>\n",
       "<!-- 5 -->\n",
       "<g id=\"node6\" class=\"node\">\n",
       "<title>5</title>\n",
       "<polygon fill=\"#c1ffc1\" stroke=\"none\" points=\"352.5,-1315.5 182.5,-1315.5 182.5,-1271.5 352.5,-1271.5 352.5,-1315.5\"/>\n",
       "<polygon fill=\"none\" stroke=\"black\" points=\"182.5,-1271.5 182.5,-1315.5 243.5,-1315.5 243.5,-1271.5 182.5,-1271.5\"/>\n",
       "<text text-anchor=\"start\" x=\"187.5\" y=\"-1296.75\" font-family=\"Linux libertine\" font-size=\"10.00\">Dropout1d</text>\n",
       "<text text-anchor=\"start\" x=\"194.62\" y=\"-1284\" font-family=\"Linux libertine\" font-size=\"10.00\">depth:1</text>\n",
       "<polygon fill=\"none\" stroke=\"black\" points=\"243.5,-1293.5 243.5,-1315.5 290.5,-1315.5 290.5,-1293.5 243.5,-1293.5\"/>\n",
       "<text text-anchor=\"start\" x=\"253.12\" y=\"-1301\" font-family=\"Linux libertine\" font-size=\"10.00\">input:</text>\n",
       "<polygon fill=\"none\" stroke=\"black\" points=\"290.5,-1293.5 290.5,-1315.5 352.5,-1315.5 352.5,-1293.5 290.5,-1293.5\"/>\n",
       "<text text-anchor=\"start\" x=\"295.25\" y=\"-1301\" font-family=\"Linux libertine\" font-size=\"10.00\">(5, 22, 64) </text>\n",
       "<polygon fill=\"none\" stroke=\"black\" points=\"243.5,-1271.5 243.5,-1293.5 290.5,-1293.5 290.5,-1271.5 243.5,-1271.5\"/>\n",
       "<text text-anchor=\"start\" x=\"248.25\" y=\"-1279\" font-family=\"Linux libertine\" font-size=\"10.00\">output: </text>\n",
       "<polygon fill=\"none\" stroke=\"black\" points=\"290.5,-1271.5 290.5,-1293.5 352.5,-1293.5 352.5,-1271.5 290.5,-1271.5\"/>\n",
       "<text text-anchor=\"start\" x=\"295.25\" y=\"-1279\" font-family=\"Linux libertine\" font-size=\"10.00\">(5, 22, 64) </text>\n",
       "</g>\n",
       "<!-- 4&#45;&gt;5 -->\n",
       "<g id=\"edge5\" class=\"edge\">\n",
       "<title>4&#45;&gt;5</title>\n",
       "<path fill=\"none\" stroke=\"black\" d=\"M268.96,-1351.6C268.76,-1343.82 268.53,-1334.8 268.31,-1326.26\"/>\n",
       "<polygon fill=\"black\" stroke=\"black\" points=\"271.79,-1326.37 268.04,-1316.46 264.8,-1326.55 271.79,-1326.37\"/>\n",
       "</g>\n",
       "<!-- 5&#45;&gt;6 -->\n",
       "<g id=\"edge6\" class=\"edge\">\n",
       "<title>5&#45;&gt;6</title>\n",
       "<path fill=\"none\" stroke=\"black\" d=\"M242.85,-1271.6C232.33,-1262.68 219.89,-1252.14 208.59,-1242.56\"/>\n",
       "<polygon fill=\"black\" stroke=\"black\" points=\"211.11,-1239.26 201.22,-1235.46 206.59,-1244.6 211.11,-1239.26\"/>\n",
       "</g>\n",
       "<!-- 7 -->\n",
       "<g id=\"node8\" class=\"node\">\n",
       "<title>7</title>\n",
       "<polygon fill=\"#c1ffc1\" stroke=\"none\" points=\"256,-1155.5 95,-1155.5 95,-1111.5 256,-1111.5 256,-1155.5\"/>\n",
       "<polygon fill=\"none\" stroke=\"black\" points=\"95,-1111.5 95,-1155.5 141,-1155.5 141,-1111.5 95,-1111.5\"/>\n",
       "<text text-anchor=\"start\" x=\"103\" y=\"-1136.75\" font-family=\"Linux libertine\" font-size=\"10.00\">Linear</text>\n",
       "<text text-anchor=\"start\" x=\"99.62\" y=\"-1124\" font-family=\"Linux libertine\" font-size=\"10.00\">depth:1</text>\n",
       "<polygon fill=\"none\" stroke=\"black\" points=\"141,-1133.5 141,-1155.5 188,-1155.5 188,-1133.5 141,-1133.5\"/>\n",
       "<text text-anchor=\"start\" x=\"150.62\" y=\"-1141\" font-family=\"Linux libertine\" font-size=\"10.00\">input:</text>\n",
       "<polygon fill=\"none\" stroke=\"black\" points=\"188,-1133.5 188,-1155.5 256,-1155.5 256,-1133.5 188,-1133.5\"/>\n",
       "<text text-anchor=\"start\" x=\"192.75\" y=\"-1141\" font-family=\"Linux libertine\" font-size=\"10.00\">(5, 22, 128) </text>\n",
       "<polygon fill=\"none\" stroke=\"black\" points=\"141,-1111.5 141,-1133.5 188,-1133.5 188,-1111.5 141,-1111.5\"/>\n",
       "<text text-anchor=\"start\" x=\"145.75\" y=\"-1119\" font-family=\"Linux libertine\" font-size=\"10.00\">output: </text>\n",
       "<polygon fill=\"none\" stroke=\"black\" points=\"188,-1111.5 188,-1133.5 256,-1133.5 256,-1111.5 188,-1111.5\"/>\n",
       "<text text-anchor=\"start\" x=\"195.75\" y=\"-1119\" font-family=\"Linux libertine\" font-size=\"10.00\">(5, 22, 64) </text>\n",
       "</g>\n",
       "<!-- 6&#45;&gt;7 -->\n",
       "<g id=\"edge7\" class=\"edge\">\n",
       "<title>6&#45;&gt;7</title>\n",
       "<path fill=\"none\" stroke=\"black\" d=\"M175.5,-1191.6C175.5,-1183.82 175.5,-1174.8 175.5,-1166.26\"/>\n",
       "<polygon fill=\"black\" stroke=\"black\" points=\"179,-1166.46 175.5,-1156.46 172,-1166.46 179,-1166.46\"/>\n",
       "</g>\n",
       "<!-- 8 -->\n",
       "<g id=\"node9\" class=\"node\">\n",
       "<title>8</title>\n",
       "<polygon fill=\"#c1ffc1\" stroke=\"none\" points=\"332,-1075.5 159,-1075.5 159,-1031.5 332,-1031.5 332,-1075.5\"/>\n",
       "<polygon fill=\"none\" stroke=\"black\" points=\"159,-1031.5 159,-1075.5 223,-1075.5 223,-1031.5 159,-1031.5\"/>\n",
       "<text text-anchor=\"start\" x=\"164\" y=\"-1056.75\" font-family=\"Linux libertine\" font-size=\"10.00\">LayerNorm</text>\n",
       "<text text-anchor=\"start\" x=\"172.62\" y=\"-1044\" font-family=\"Linux libertine\" font-size=\"10.00\">depth:3</text>\n",
       "<polygon fill=\"none\" stroke=\"black\" points=\"223,-1053.5 223,-1075.5 270,-1075.5 270,-1053.5 223,-1053.5\"/>\n",
       "<text text-anchor=\"start\" x=\"232.62\" y=\"-1061\" font-family=\"Linux libertine\" font-size=\"10.00\">input:</text>\n",
       "<polygon fill=\"none\" stroke=\"black\" points=\"270,-1053.5 270,-1075.5 332,-1075.5 332,-1053.5 270,-1053.5\"/>\n",
       "<text text-anchor=\"start\" x=\"274.75\" y=\"-1061\" font-family=\"Linux libertine\" font-size=\"10.00\">(5, 22, 64) </text>\n",
       "<polygon fill=\"none\" stroke=\"black\" points=\"223,-1031.5 223,-1053.5 270,-1053.5 270,-1031.5 223,-1031.5\"/>\n",
       "<text text-anchor=\"start\" x=\"227.75\" y=\"-1039\" font-family=\"Linux libertine\" font-size=\"10.00\">output: </text>\n",
       "<polygon fill=\"none\" stroke=\"black\" points=\"270,-1031.5 270,-1053.5 332,-1053.5 332,-1031.5 270,-1031.5\"/>\n",
       "<text text-anchor=\"start\" x=\"274.75\" y=\"-1039\" font-family=\"Linux libertine\" font-size=\"10.00\">(5, 22, 64) </text>\n",
       "</g>\n",
       "<!-- 7&#45;&gt;8 -->\n",
       "<g id=\"edge8\" class=\"edge\">\n",
       "<title>7&#45;&gt;8</title>\n",
       "<path fill=\"none\" stroke=\"black\" d=\"M194.26,-1111.6C202.03,-1102.94 211.17,-1092.76 219.56,-1083.41\"/>\n",
       "<polygon fill=\"black\" stroke=\"black\" points=\"221.62,-1086.24 225.69,-1076.46 216.41,-1081.57 221.62,-1086.24\"/>\n",
       "</g>\n",
       "<!-- 10 -->\n",
       "<g id=\"node11\" class=\"node\">\n",
       "<title>10</title>\n",
       "<polygon fill=\"aliceblue\" stroke=\"none\" points=\"275,-915.5 102,-915.5 102,-871.5 275,-871.5 275,-915.5\"/>\n",
       "<polygon fill=\"none\" stroke=\"black\" points=\"102,-871.5 102,-915.5 148,-915.5 148,-871.5 102,-871.5\"/>\n",
       "<text text-anchor=\"start\" x=\"116\" y=\"-896.75\" font-family=\"Linux libertine\" font-size=\"10.00\">add</text>\n",
       "<text text-anchor=\"start\" x=\"106.62\" y=\"-884\" font-family=\"Linux libertine\" font-size=\"10.00\">depth:3</text>\n",
       "<polygon fill=\"none\" stroke=\"black\" points=\"148,-893.5 148,-915.5 195,-915.5 195,-893.5 148,-893.5\"/>\n",
       "<text text-anchor=\"start\" x=\"157.62\" y=\"-901\" font-family=\"Linux libertine\" font-size=\"10.00\">input:</text>\n",
       "<polygon fill=\"none\" stroke=\"black\" points=\"195,-893.5 195,-915.5 275,-915.5 275,-893.5 195,-893.5\"/>\n",
       "<text text-anchor=\"start\" x=\"199.75\" y=\"-901\" font-family=\"Linux libertine\" font-size=\"10.00\">2 x (5, 22, 64) </text>\n",
       "<polygon fill=\"none\" stroke=\"black\" points=\"148,-871.5 148,-893.5 195,-893.5 195,-871.5 148,-871.5\"/>\n",
       "<text text-anchor=\"start\" x=\"152.75\" y=\"-879\" font-family=\"Linux libertine\" font-size=\"10.00\">output: </text>\n",
       "<polygon fill=\"none\" stroke=\"black\" points=\"195,-871.5 195,-893.5 275,-893.5 275,-871.5 195,-871.5\"/>\n",
       "<text text-anchor=\"start\" x=\"208.75\" y=\"-879\" font-family=\"Linux libertine\" font-size=\"10.00\">(5, 22, 64) </text>\n",
       "</g>\n",
       "<!-- 7&#45;&gt;10 -->\n",
       "<g id=\"edge9\" class=\"edge\">\n",
       "<title>7&#45;&gt;10</title>\n",
       "<path fill=\"none\" stroke=\"black\" d=\"M163.61,-1111.54C145.74,-1077.18 116.24,-1007.14 137.5,-951.5 141.45,-941.17 148.22,-931.54 155.56,-923.23\"/>\n",
       "<polygon fill=\"black\" stroke=\"black\" points=\"157.66,-926.05 162.01,-916.39 152.59,-921.23 157.66,-926.05\"/>\n",
       "</g>\n",
       "<!-- 9 -->\n",
       "<g id=\"node10\" class=\"node\">\n",
       "<title>9</title>\n",
       "<polygon fill=\"#c1ffc1\" stroke=\"none\" points=\"370,-995.5 147,-995.5 147,-951.5 370,-951.5 370,-995.5\"/>\n",
       "<polygon fill=\"none\" stroke=\"black\" points=\"147,-951.5 147,-995.5 193,-995.5 193,-951.5 147,-951.5\"/>\n",
       "<text text-anchor=\"start\" x=\"156.88\" y=\"-976.75\" font-family=\"Linux libertine\" font-size=\"10.00\">LSTM</text>\n",
       "<text text-anchor=\"start\" x=\"151.62\" y=\"-964\" font-family=\"Linux libertine\" font-size=\"10.00\">depth:3</text>\n",
       "<polygon fill=\"none\" stroke=\"black\" points=\"193,-973.5 193,-995.5 240,-995.5 240,-973.5 193,-973.5\"/>\n",
       "<text text-anchor=\"start\" x=\"202.62\" y=\"-981\" font-family=\"Linux libertine\" font-size=\"10.00\">input:</text>\n",
       "<polygon fill=\"none\" stroke=\"black\" points=\"240,-973.5 240,-995.5 370,-995.5 370,-973.5 240,-973.5\"/>\n",
       "<text text-anchor=\"start\" x=\"278.75\" y=\"-981\" font-family=\"Linux libertine\" font-size=\"10.00\">(5, 22, 64) </text>\n",
       "<polygon fill=\"none\" stroke=\"black\" points=\"193,-951.5 193,-973.5 240,-973.5 240,-951.5 193,-951.5\"/>\n",
       "<text text-anchor=\"start\" x=\"197.75\" y=\"-959\" font-family=\"Linux libertine\" font-size=\"10.00\">output: </text>\n",
       "<polygon fill=\"none\" stroke=\"black\" points=\"240,-951.5 240,-973.5 370,-973.5 370,-951.5 240,-951.5\"/>\n",
       "<text text-anchor=\"start\" x=\"245\" y=\"-959\" font-family=\"Linux libertine\" font-size=\"10.00\">(5, 22, 64), 2 x (1, 5, 64) </text>\n",
       "</g>\n",
       "<!-- 8&#45;&gt;9 -->\n",
       "<g id=\"edge10\" class=\"edge\">\n",
       "<title>8&#45;&gt;9</title>\n",
       "<path fill=\"none\" stroke=\"black\" d=\"M248.98,-1031.6C250.28,-1023.82 251.78,-1014.8 253.21,-1006.26\"/>\n",
       "<polygon fill=\"black\" stroke=\"black\" points=\"256.81,-1006.9 255.01,-996.46 249.91,-1005.75 256.81,-1006.9\"/>\n",
       "</g>\n",
       "<!-- 9&#45;&gt;10 -->\n",
       "<g id=\"edge11\" class=\"edge\">\n",
       "<title>9&#45;&gt;10</title>\n",
       "<path fill=\"none\" stroke=\"black\" d=\"M239.74,-951.6C231.97,-942.94 222.83,-932.76 214.44,-923.41\"/>\n",
       "<polygon fill=\"black\" stroke=\"black\" points=\"217.59,-921.57 208.31,-916.46 212.38,-926.24 217.59,-921.57\"/>\n",
       "</g>\n",
       "<!-- 11 -->\n",
       "<g id=\"node12\" class=\"node\">\n",
       "<title>11</title>\n",
       "<polygon fill=\"#c1ffc1\" stroke=\"none\" points=\"345,-835.5 172,-835.5 172,-791.5 345,-791.5 345,-835.5\"/>\n",
       "<polygon fill=\"none\" stroke=\"black\" points=\"172,-791.5 172,-835.5 236,-835.5 236,-791.5 172,-791.5\"/>\n",
       "<text text-anchor=\"start\" x=\"177\" y=\"-816.75\" font-family=\"Linux libertine\" font-size=\"10.00\">LayerNorm</text>\n",
       "<text text-anchor=\"start\" x=\"185.62\" y=\"-804\" font-family=\"Linux libertine\" font-size=\"10.00\">depth:3</text>\n",
       "<polygon fill=\"none\" stroke=\"black\" points=\"236,-813.5 236,-835.5 283,-835.5 283,-813.5 236,-813.5\"/>\n",
       "<text text-anchor=\"start\" x=\"245.62\" y=\"-821\" font-family=\"Linux libertine\" font-size=\"10.00\">input:</text>\n",
       "<polygon fill=\"none\" stroke=\"black\" points=\"283,-813.5 283,-835.5 345,-835.5 345,-813.5 283,-813.5\"/>\n",
       "<text text-anchor=\"start\" x=\"287.75\" y=\"-821\" font-family=\"Linux libertine\" font-size=\"10.00\">(5, 22, 64) </text>\n",
       "<polygon fill=\"none\" stroke=\"black\" points=\"236,-791.5 236,-813.5 283,-813.5 283,-791.5 236,-791.5\"/>\n",
       "<text text-anchor=\"start\" x=\"240.75\" y=\"-799\" font-family=\"Linux libertine\" font-size=\"10.00\">output: </text>\n",
       "<polygon fill=\"none\" stroke=\"black\" points=\"283,-791.5 283,-813.5 345,-813.5 345,-791.5 283,-791.5\"/>\n",
       "<text text-anchor=\"start\" x=\"287.75\" y=\"-799\" font-family=\"Linux libertine\" font-size=\"10.00\">(5, 22, 64) </text>\n",
       "</g>\n",
       "<!-- 10&#45;&gt;11 -->\n",
       "<g id=\"edge12\" class=\"edge\">\n",
       "<title>10&#45;&gt;11</title>\n",
       "<path fill=\"none\" stroke=\"black\" d=\"M207.26,-871.6C215.03,-862.94 224.17,-852.76 232.56,-843.41\"/>\n",
       "<polygon fill=\"black\" stroke=\"black\" points=\"234.62,-846.24 238.69,-836.46 229.41,-841.57 234.62,-846.24\"/>\n",
       "</g>\n",
       "<!-- 13 -->\n",
       "<g id=\"node14\" class=\"node\">\n",
       "<title>13</title>\n",
       "<polygon fill=\"aliceblue\" stroke=\"none\" points=\"288,-675.5 115,-675.5 115,-631.5 288,-631.5 288,-675.5\"/>\n",
       "<polygon fill=\"none\" stroke=\"black\" points=\"115,-631.5 115,-675.5 161,-675.5 161,-631.5 115,-631.5\"/>\n",
       "<text text-anchor=\"start\" x=\"129\" y=\"-656.75\" font-family=\"Linux libertine\" font-size=\"10.00\">add</text>\n",
       "<text text-anchor=\"start\" x=\"119.62\" y=\"-644\" font-family=\"Linux libertine\" font-size=\"10.00\">depth:3</text>\n",
       "<polygon fill=\"none\" stroke=\"black\" points=\"161,-653.5 161,-675.5 208,-675.5 208,-653.5 161,-653.5\"/>\n",
       "<text text-anchor=\"start\" x=\"170.62\" y=\"-661\" font-family=\"Linux libertine\" font-size=\"10.00\">input:</text>\n",
       "<polygon fill=\"none\" stroke=\"black\" points=\"208,-653.5 208,-675.5 288,-675.5 288,-653.5 208,-653.5\"/>\n",
       "<text text-anchor=\"start\" x=\"212.75\" y=\"-661\" font-family=\"Linux libertine\" font-size=\"10.00\">2 x (5, 22, 64) </text>\n",
       "<polygon fill=\"none\" stroke=\"black\" points=\"161,-631.5 161,-653.5 208,-653.5 208,-631.5 161,-631.5\"/>\n",
       "<text text-anchor=\"start\" x=\"165.75\" y=\"-639\" font-family=\"Linux libertine\" font-size=\"10.00\">output: </text>\n",
       "<polygon fill=\"none\" stroke=\"black\" points=\"208,-631.5 208,-653.5 288,-653.5 288,-631.5 208,-631.5\"/>\n",
       "<text text-anchor=\"start\" x=\"221.75\" y=\"-639\" font-family=\"Linux libertine\" font-size=\"10.00\">(5, 22, 64) </text>\n",
       "</g>\n",
       "<!-- 10&#45;&gt;13 -->\n",
       "<g id=\"edge13\" class=\"edge\">\n",
       "<title>10&#45;&gt;13</title>\n",
       "<path fill=\"none\" stroke=\"black\" d=\"M176.61,-871.54C158.74,-837.18 129.24,-767.14 150.5,-711.5 154.45,-701.17 161.22,-691.54 168.56,-683.23\"/>\n",
       "<polygon fill=\"black\" stroke=\"black\" points=\"170.66,-686.05 175.01,-676.39 165.59,-681.23 170.66,-686.05\"/>\n",
       "</g>\n",
       "<!-- 12 -->\n",
       "<g id=\"node13\" class=\"node\">\n",
       "<title>12</title>\n",
       "<polygon fill=\"#c1ffc1\" stroke=\"none\" points=\"383,-755.5 160,-755.5 160,-711.5 383,-711.5 383,-755.5\"/>\n",
       "<polygon fill=\"none\" stroke=\"black\" points=\"160,-711.5 160,-755.5 206,-755.5 206,-711.5 160,-711.5\"/>\n",
       "<text text-anchor=\"start\" x=\"169.88\" y=\"-736.75\" font-family=\"Linux libertine\" font-size=\"10.00\">LSTM</text>\n",
       "<text text-anchor=\"start\" x=\"164.62\" y=\"-724\" font-family=\"Linux libertine\" font-size=\"10.00\">depth:3</text>\n",
       "<polygon fill=\"none\" stroke=\"black\" points=\"206,-733.5 206,-755.5 253,-755.5 253,-733.5 206,-733.5\"/>\n",
       "<text text-anchor=\"start\" x=\"215.62\" y=\"-741\" font-family=\"Linux libertine\" font-size=\"10.00\">input:</text>\n",
       "<polygon fill=\"none\" stroke=\"black\" points=\"253,-733.5 253,-755.5 383,-755.5 383,-733.5 253,-733.5\"/>\n",
       "<text text-anchor=\"start\" x=\"291.75\" y=\"-741\" font-family=\"Linux libertine\" font-size=\"10.00\">(5, 22, 64) </text>\n",
       "<polygon fill=\"none\" stroke=\"black\" points=\"206,-711.5 206,-733.5 253,-733.5 253,-711.5 206,-711.5\"/>\n",
       "<text text-anchor=\"start\" x=\"210.75\" y=\"-719\" font-family=\"Linux libertine\" font-size=\"10.00\">output: </text>\n",
       "<polygon fill=\"none\" stroke=\"black\" points=\"253,-711.5 253,-733.5 383,-733.5 383,-711.5 253,-711.5\"/>\n",
       "<text text-anchor=\"start\" x=\"258\" y=\"-719\" font-family=\"Linux libertine\" font-size=\"10.00\">(5, 22, 64), 2 x (1, 5, 64) </text>\n",
       "</g>\n",
       "<!-- 11&#45;&gt;12 -->\n",
       "<g id=\"edge14\" class=\"edge\">\n",
       "<title>11&#45;&gt;12</title>\n",
       "<path fill=\"none\" stroke=\"black\" d=\"M261.98,-791.6C263.28,-783.82 264.78,-774.8 266.21,-766.26\"/>\n",
       "<polygon fill=\"black\" stroke=\"black\" points=\"269.81,-766.9 268.01,-756.46 262.91,-765.75 269.81,-766.9\"/>\n",
       "</g>\n",
       "<!-- 12&#45;&gt;13 -->\n",
       "<g id=\"edge15\" class=\"edge\">\n",
       "<title>12&#45;&gt;13</title>\n",
       "<path fill=\"none\" stroke=\"black\" d=\"M252.74,-711.6C244.97,-702.94 235.83,-692.76 227.44,-683.41\"/>\n",
       "<polygon fill=\"black\" stroke=\"black\" points=\"230.59,-681.57 221.31,-676.46 225.38,-686.24 230.59,-681.57\"/>\n",
       "</g>\n",
       "<!-- 14 -->\n",
       "<g id=\"node15\" class=\"node\">\n",
       "<title>14</title>\n",
       "<polygon fill=\"#c1ffc1\" stroke=\"none\" points=\"358,-595.5 185,-595.5 185,-551.5 358,-551.5 358,-595.5\"/>\n",
       "<polygon fill=\"none\" stroke=\"black\" points=\"185,-551.5 185,-595.5 249,-595.5 249,-551.5 185,-551.5\"/>\n",
       "<text text-anchor=\"start\" x=\"190\" y=\"-576.75\" font-family=\"Linux libertine\" font-size=\"10.00\">LayerNorm</text>\n",
       "<text text-anchor=\"start\" x=\"198.62\" y=\"-564\" font-family=\"Linux libertine\" font-size=\"10.00\">depth:3</text>\n",
       "<polygon fill=\"none\" stroke=\"black\" points=\"249,-573.5 249,-595.5 296,-595.5 296,-573.5 249,-573.5\"/>\n",
       "<text text-anchor=\"start\" x=\"258.62\" y=\"-581\" font-family=\"Linux libertine\" font-size=\"10.00\">input:</text>\n",
       "<polygon fill=\"none\" stroke=\"black\" points=\"296,-573.5 296,-595.5 358,-595.5 358,-573.5 296,-573.5\"/>\n",
       "<text text-anchor=\"start\" x=\"300.75\" y=\"-581\" font-family=\"Linux libertine\" font-size=\"10.00\">(5, 22, 64) </text>\n",
       "<polygon fill=\"none\" stroke=\"black\" points=\"249,-551.5 249,-573.5 296,-573.5 296,-551.5 249,-551.5\"/>\n",
       "<text text-anchor=\"start\" x=\"253.75\" y=\"-559\" font-family=\"Linux libertine\" font-size=\"10.00\">output: </text>\n",
       "<polygon fill=\"none\" stroke=\"black\" points=\"296,-551.5 296,-573.5 358,-573.5 358,-551.5 296,-551.5\"/>\n",
       "<text text-anchor=\"start\" x=\"300.75\" y=\"-559\" font-family=\"Linux libertine\" font-size=\"10.00\">(5, 22, 64) </text>\n",
       "</g>\n",
       "<!-- 13&#45;&gt;14 -->\n",
       "<g id=\"edge16\" class=\"edge\">\n",
       "<title>13&#45;&gt;14</title>\n",
       "<path fill=\"none\" stroke=\"black\" d=\"M220.26,-631.6C228.03,-622.94 237.17,-612.76 245.56,-603.41\"/>\n",
       "<polygon fill=\"black\" stroke=\"black\" points=\"247.62,-606.24 251.69,-596.46 242.41,-601.57 247.62,-606.24\"/>\n",
       "</g>\n",
       "<!-- 16 -->\n",
       "<g id=\"node17\" class=\"node\">\n",
       "<title>16</title>\n",
       "<polygon fill=\"aliceblue\" stroke=\"none\" points=\"301,-435.5 128,-435.5 128,-391.5 301,-391.5 301,-435.5\"/>\n",
       "<polygon fill=\"none\" stroke=\"black\" points=\"128,-391.5 128,-435.5 174,-435.5 174,-391.5 128,-391.5\"/>\n",
       "<text text-anchor=\"start\" x=\"142\" y=\"-416.75\" font-family=\"Linux libertine\" font-size=\"10.00\">add</text>\n",
       "<text text-anchor=\"start\" x=\"132.62\" y=\"-404\" font-family=\"Linux libertine\" font-size=\"10.00\">depth:3</text>\n",
       "<polygon fill=\"none\" stroke=\"black\" points=\"174,-413.5 174,-435.5 221,-435.5 221,-413.5 174,-413.5\"/>\n",
       "<text text-anchor=\"start\" x=\"183.62\" y=\"-421\" font-family=\"Linux libertine\" font-size=\"10.00\">input:</text>\n",
       "<polygon fill=\"none\" stroke=\"black\" points=\"221,-413.5 221,-435.5 301,-435.5 301,-413.5 221,-413.5\"/>\n",
       "<text text-anchor=\"start\" x=\"225.75\" y=\"-421\" font-family=\"Linux libertine\" font-size=\"10.00\">2 x (5, 22, 64) </text>\n",
       "<polygon fill=\"none\" stroke=\"black\" points=\"174,-391.5 174,-413.5 221,-413.5 221,-391.5 174,-391.5\"/>\n",
       "<text text-anchor=\"start\" x=\"178.75\" y=\"-399\" font-family=\"Linux libertine\" font-size=\"10.00\">output: </text>\n",
       "<polygon fill=\"none\" stroke=\"black\" points=\"221,-391.5 221,-413.5 301,-413.5 301,-391.5 221,-391.5\"/>\n",
       "<text text-anchor=\"start\" x=\"234.75\" y=\"-399\" font-family=\"Linux libertine\" font-size=\"10.00\">(5, 22, 64) </text>\n",
       "</g>\n",
       "<!-- 13&#45;&gt;16 -->\n",
       "<g id=\"edge17\" class=\"edge\">\n",
       "<title>13&#45;&gt;16</title>\n",
       "<path fill=\"none\" stroke=\"black\" d=\"M189.61,-631.54C171.74,-597.18 142.24,-527.14 163.5,-471.5 167.45,-461.17 174.22,-451.54 181.56,-443.23\"/>\n",
       "<polygon fill=\"black\" stroke=\"black\" points=\"183.66,-446.05 188.01,-436.39 178.59,-441.23 183.66,-446.05\"/>\n",
       "</g>\n",
       "<!-- 15 -->\n",
       "<g id=\"node16\" class=\"node\">\n",
       "<title>15</title>\n",
       "<polygon fill=\"#c1ffc1\" stroke=\"none\" points=\"396,-515.5 173,-515.5 173,-471.5 396,-471.5 396,-515.5\"/>\n",
       "<polygon fill=\"none\" stroke=\"black\" points=\"173,-471.5 173,-515.5 219,-515.5 219,-471.5 173,-471.5\"/>\n",
       "<text text-anchor=\"start\" x=\"182.88\" y=\"-496.75\" font-family=\"Linux libertine\" font-size=\"10.00\">LSTM</text>\n",
       "<text text-anchor=\"start\" x=\"177.62\" y=\"-484\" font-family=\"Linux libertine\" font-size=\"10.00\">depth:3</text>\n",
       "<polygon fill=\"none\" stroke=\"black\" points=\"219,-493.5 219,-515.5 266,-515.5 266,-493.5 219,-493.5\"/>\n",
       "<text text-anchor=\"start\" x=\"228.62\" y=\"-501\" font-family=\"Linux libertine\" font-size=\"10.00\">input:</text>\n",
       "<polygon fill=\"none\" stroke=\"black\" points=\"266,-493.5 266,-515.5 396,-515.5 396,-493.5 266,-493.5\"/>\n",
       "<text text-anchor=\"start\" x=\"304.75\" y=\"-501\" font-family=\"Linux libertine\" font-size=\"10.00\">(5, 22, 64) </text>\n",
       "<polygon fill=\"none\" stroke=\"black\" points=\"219,-471.5 219,-493.5 266,-493.5 266,-471.5 219,-471.5\"/>\n",
       "<text text-anchor=\"start\" x=\"223.75\" y=\"-479\" font-family=\"Linux libertine\" font-size=\"10.00\">output: </text>\n",
       "<polygon fill=\"none\" stroke=\"black\" points=\"266,-471.5 266,-493.5 396,-493.5 396,-471.5 266,-471.5\"/>\n",
       "<text text-anchor=\"start\" x=\"271\" y=\"-479\" font-family=\"Linux libertine\" font-size=\"10.00\">(5, 22, 64), 2 x (1, 5, 64) </text>\n",
       "</g>\n",
       "<!-- 14&#45;&gt;15 -->\n",
       "<g id=\"edge18\" class=\"edge\">\n",
       "<title>14&#45;&gt;15</title>\n",
       "<path fill=\"none\" stroke=\"black\" d=\"M274.98,-551.6C276.28,-543.82 277.78,-534.8 279.21,-526.26\"/>\n",
       "<polygon fill=\"black\" stroke=\"black\" points=\"282.81,-526.9 281.01,-516.46 275.91,-525.75 282.81,-526.9\"/>\n",
       "</g>\n",
       "<!-- 15&#45;&gt;16 -->\n",
       "<g id=\"edge19\" class=\"edge\">\n",
       "<title>15&#45;&gt;16</title>\n",
       "<path fill=\"none\" stroke=\"black\" d=\"M265.74,-471.6C257.97,-462.94 248.83,-452.76 240.44,-443.41\"/>\n",
       "<polygon fill=\"black\" stroke=\"black\" points=\"243.59,-441.57 234.31,-436.46 238.38,-446.24 243.59,-441.57\"/>\n",
       "</g>\n",
       "<!-- 17 -->\n",
       "<g id=\"node18\" class=\"node\">\n",
       "<title>17</title>\n",
       "<polygon fill=\"#c1ffc1\" stroke=\"none\" points=\"371,-355.5 198,-355.5 198,-311.5 371,-311.5 371,-355.5\"/>\n",
       "<polygon fill=\"none\" stroke=\"black\" points=\"198,-311.5 198,-355.5 262,-355.5 262,-311.5 198,-311.5\"/>\n",
       "<text text-anchor=\"start\" x=\"203\" y=\"-336.75\" font-family=\"Linux libertine\" font-size=\"10.00\">LayerNorm</text>\n",
       "<text text-anchor=\"start\" x=\"211.62\" y=\"-324\" font-family=\"Linux libertine\" font-size=\"10.00\">depth:3</text>\n",
       "<polygon fill=\"none\" stroke=\"black\" points=\"262,-333.5 262,-355.5 309,-355.5 309,-333.5 262,-333.5\"/>\n",
       "<text text-anchor=\"start\" x=\"271.62\" y=\"-341\" font-family=\"Linux libertine\" font-size=\"10.00\">input:</text>\n",
       "<polygon fill=\"none\" stroke=\"black\" points=\"309,-333.5 309,-355.5 371,-355.5 371,-333.5 309,-333.5\"/>\n",
       "<text text-anchor=\"start\" x=\"313.75\" y=\"-341\" font-family=\"Linux libertine\" font-size=\"10.00\">(5, 22, 64) </text>\n",
       "<polygon fill=\"none\" stroke=\"black\" points=\"262,-311.5 262,-333.5 309,-333.5 309,-311.5 262,-311.5\"/>\n",
       "<text text-anchor=\"start\" x=\"266.75\" y=\"-319\" font-family=\"Linux libertine\" font-size=\"10.00\">output: </text>\n",
       "<polygon fill=\"none\" stroke=\"black\" points=\"309,-311.5 309,-333.5 371,-333.5 371,-311.5 309,-311.5\"/>\n",
       "<text text-anchor=\"start\" x=\"313.75\" y=\"-319\" font-family=\"Linux libertine\" font-size=\"10.00\">(5, 22, 64) </text>\n",
       "</g>\n",
       "<!-- 16&#45;&gt;17 -->\n",
       "<g id=\"edge20\" class=\"edge\">\n",
       "<title>16&#45;&gt;17</title>\n",
       "<path fill=\"none\" stroke=\"black\" d=\"M233.26,-391.6C241.03,-382.94 250.17,-372.76 258.56,-363.41\"/>\n",
       "<polygon fill=\"black\" stroke=\"black\" points=\"260.62,-366.24 264.69,-356.46 255.41,-361.57 260.62,-366.24\"/>\n",
       "</g>\n",
       "<!-- 19 -->\n",
       "<g id=\"node20\" class=\"node\">\n",
       "<title>19</title>\n",
       "<polygon fill=\"aliceblue\" stroke=\"none\" points=\"314,-195.5 141,-195.5 141,-151.5 314,-151.5 314,-195.5\"/>\n",
       "<polygon fill=\"none\" stroke=\"black\" points=\"141,-151.5 141,-195.5 187,-195.5 187,-151.5 141,-151.5\"/>\n",
       "<text text-anchor=\"start\" x=\"155\" y=\"-176.75\" font-family=\"Linux libertine\" font-size=\"10.00\">add</text>\n",
       "<text text-anchor=\"start\" x=\"145.62\" y=\"-164\" font-family=\"Linux libertine\" font-size=\"10.00\">depth:3</text>\n",
       "<polygon fill=\"none\" stroke=\"black\" points=\"187,-173.5 187,-195.5 234,-195.5 234,-173.5 187,-173.5\"/>\n",
       "<text text-anchor=\"start\" x=\"196.62\" y=\"-181\" font-family=\"Linux libertine\" font-size=\"10.00\">input:</text>\n",
       "<polygon fill=\"none\" stroke=\"black\" points=\"234,-173.5 234,-195.5 314,-195.5 314,-173.5 234,-173.5\"/>\n",
       "<text text-anchor=\"start\" x=\"238.75\" y=\"-181\" font-family=\"Linux libertine\" font-size=\"10.00\">2 x (5, 22, 64) </text>\n",
       "<polygon fill=\"none\" stroke=\"black\" points=\"187,-151.5 187,-173.5 234,-173.5 234,-151.5 187,-151.5\"/>\n",
       "<text text-anchor=\"start\" x=\"191.75\" y=\"-159\" font-family=\"Linux libertine\" font-size=\"10.00\">output: </text>\n",
       "<polygon fill=\"none\" stroke=\"black\" points=\"234,-151.5 234,-173.5 314,-173.5 314,-151.5 234,-151.5\"/>\n",
       "<text text-anchor=\"start\" x=\"247.75\" y=\"-159\" font-family=\"Linux libertine\" font-size=\"10.00\">(5, 22, 64) </text>\n",
       "</g>\n",
       "<!-- 16&#45;&gt;19 -->\n",
       "<g id=\"edge21\" class=\"edge\">\n",
       "<title>16&#45;&gt;19</title>\n",
       "<path fill=\"none\" stroke=\"black\" d=\"M202.61,-391.54C184.74,-357.18 155.24,-287.14 176.5,-231.5 180.45,-221.17 187.22,-211.54 194.56,-203.23\"/>\n",
       "<polygon fill=\"black\" stroke=\"black\" points=\"196.66,-206.05 201.01,-196.39 191.59,-201.23 196.66,-206.05\"/>\n",
       "</g>\n",
       "<!-- 18 -->\n",
       "<g id=\"node19\" class=\"node\">\n",
       "<title>18</title>\n",
       "<polygon fill=\"#c1ffc1\" stroke=\"none\" points=\"409,-275.5 186,-275.5 186,-231.5 409,-231.5 409,-275.5\"/>\n",
       "<polygon fill=\"none\" stroke=\"black\" points=\"186,-231.5 186,-275.5 232,-275.5 232,-231.5 186,-231.5\"/>\n",
       "<text text-anchor=\"start\" x=\"195.88\" y=\"-256.75\" font-family=\"Linux libertine\" font-size=\"10.00\">LSTM</text>\n",
       "<text text-anchor=\"start\" x=\"190.62\" y=\"-244\" font-family=\"Linux libertine\" font-size=\"10.00\">depth:3</text>\n",
       "<polygon fill=\"none\" stroke=\"black\" points=\"232,-253.5 232,-275.5 279,-275.5 279,-253.5 232,-253.5\"/>\n",
       "<text text-anchor=\"start\" x=\"241.62\" y=\"-261\" font-family=\"Linux libertine\" font-size=\"10.00\">input:</text>\n",
       "<polygon fill=\"none\" stroke=\"black\" points=\"279,-253.5 279,-275.5 409,-275.5 409,-253.5 279,-253.5\"/>\n",
       "<text text-anchor=\"start\" x=\"317.75\" y=\"-261\" font-family=\"Linux libertine\" font-size=\"10.00\">(5, 22, 64) </text>\n",
       "<polygon fill=\"none\" stroke=\"black\" points=\"232,-231.5 232,-253.5 279,-253.5 279,-231.5 232,-231.5\"/>\n",
       "<text text-anchor=\"start\" x=\"236.75\" y=\"-239\" font-family=\"Linux libertine\" font-size=\"10.00\">output: </text>\n",
       "<polygon fill=\"none\" stroke=\"black\" points=\"279,-231.5 279,-253.5 409,-253.5 409,-231.5 279,-231.5\"/>\n",
       "<text text-anchor=\"start\" x=\"284\" y=\"-239\" font-family=\"Linux libertine\" font-size=\"10.00\">(5, 22, 64), 2 x (1, 5, 64) </text>\n",
       "</g>\n",
       "<!-- 17&#45;&gt;18 -->\n",
       "<g id=\"edge22\" class=\"edge\">\n",
       "<title>17&#45;&gt;18</title>\n",
       "<path fill=\"none\" stroke=\"black\" d=\"M287.98,-311.6C289.28,-303.82 290.78,-294.8 292.21,-286.26\"/>\n",
       "<polygon fill=\"black\" stroke=\"black\" points=\"295.81,-286.9 294.01,-276.46 288.91,-285.75 295.81,-286.9\"/>\n",
       "</g>\n",
       "<!-- 18&#45;&gt;19 -->\n",
       "<g id=\"edge23\" class=\"edge\">\n",
       "<title>18&#45;&gt;19</title>\n",
       "<path fill=\"none\" stroke=\"black\" d=\"M278.74,-231.6C270.97,-222.94 261.83,-212.76 253.44,-203.41\"/>\n",
       "<polygon fill=\"black\" stroke=\"black\" points=\"256.59,-201.57 247.31,-196.46 251.38,-206.24 256.59,-201.57\"/>\n",
       "</g>\n",
       "<!-- 20 -->\n",
       "<g id=\"node21\" class=\"node\">\n",
       "<title>20</title>\n",
       "<polygon fill=\"#c1ffc1\" stroke=\"none\" points=\"305,-115.5 150,-115.5 150,-71.5 305,-71.5 305,-115.5\"/>\n",
       "<polygon fill=\"none\" stroke=\"black\" points=\"150,-71.5 150,-115.5 196,-115.5 196,-71.5 150,-71.5\"/>\n",
       "<text text-anchor=\"start\" x=\"158\" y=\"-96.75\" font-family=\"Linux libertine\" font-size=\"10.00\">Linear</text>\n",
       "<text text-anchor=\"start\" x=\"154.62\" y=\"-84\" font-family=\"Linux libertine\" font-size=\"10.00\">depth:1</text>\n",
       "<polygon fill=\"none\" stroke=\"black\" points=\"196,-93.5 196,-115.5 243,-115.5 243,-93.5 196,-93.5\"/>\n",
       "<text text-anchor=\"start\" x=\"205.62\" y=\"-101\" font-family=\"Linux libertine\" font-size=\"10.00\">input:</text>\n",
       "<polygon fill=\"none\" stroke=\"black\" points=\"243,-93.5 243,-115.5 305,-115.5 305,-93.5 243,-93.5\"/>\n",
       "<text text-anchor=\"start\" x=\"247.75\" y=\"-101\" font-family=\"Linux libertine\" font-size=\"10.00\">(5, 22, 64) </text>\n",
       "<polygon fill=\"none\" stroke=\"black\" points=\"196,-71.5 196,-93.5 243,-93.5 243,-71.5 196,-71.5\"/>\n",
       "<text text-anchor=\"start\" x=\"200.75\" y=\"-79\" font-family=\"Linux libertine\" font-size=\"10.00\">output: </text>\n",
       "<polygon fill=\"none\" stroke=\"black\" points=\"243,-71.5 243,-93.5 305,-93.5 305,-71.5 243,-71.5\"/>\n",
       "<text text-anchor=\"start\" x=\"247.75\" y=\"-79\" font-family=\"Linux libertine\" font-size=\"10.00\">(5, 22, 56) </text>\n",
       "</g>\n",
       "<!-- 19&#45;&gt;20 -->\n",
       "<g id=\"edge24\" class=\"edge\">\n",
       "<title>19&#45;&gt;20</title>\n",
       "<path fill=\"none\" stroke=\"black\" d=\"M227.5,-151.6C227.5,-143.82 227.5,-134.8 227.5,-126.26\"/>\n",
       "<polygon fill=\"black\" stroke=\"black\" points=\"231,-126.46 227.5,-116.46 224,-126.46 231,-126.46\"/>\n",
       "</g>\n",
       "<!-- 21 -->\n",
       "<g id=\"node22\" class=\"node\">\n",
       "<title>21</title>\n",
       "<polygon fill=\"lightyellow\" stroke=\"none\" points=\"295.25,-35.5 159.75,-35.5 159.75,0 295.25,0 295.25,-35.5\"/>\n",
       "<polygon fill=\"none\" stroke=\"black\" points=\"159.75,0 159.75,-35.5 235.75,-35.5 235.75,0 159.75,0\"/>\n",
       "<text text-anchor=\"start\" x=\"164.75\" y=\"-21\" font-family=\"Linux libertine\" font-size=\"10.00\">output&#45;tensor</text>\n",
       "<text text-anchor=\"start\" x=\"179.38\" y=\"-8.25\" font-family=\"Linux libertine\" font-size=\"10.00\">depth:0</text>\n",
       "<polygon fill=\"none\" stroke=\"black\" points=\"235.75,0 235.75,-35.5 295.25,-35.5 295.25,0 235.75,0\"/>\n",
       "<text text-anchor=\"start\" x=\"240.75\" y=\"-14.62\" font-family=\"Linux libertine\" font-size=\"10.00\">(5, 22, 56)</text>\n",
       "</g>\n",
       "<!-- 20&#45;&gt;21 -->\n",
       "<g id=\"edge25\" class=\"edge\">\n",
       "<title>20&#45;&gt;21</title>\n",
       "<path fill=\"none\" stroke=\"black\" d=\"M227.5,-71.56C227.5,-63.6 227.5,-54.41 227.5,-45.95\"/>\n",
       "<polygon fill=\"black\" stroke=\"black\" points=\"231,-46.05 227.5,-36.05 224,-46.05 231,-46.05\"/>\n",
       "</g>\n",
       "</g>\n",
       "</svg>\n"
      ],
      "text/plain": [
       "<graphviz.graphs.Digraph at 0x7fad83026450>"
      ]
     },
     "execution_count": 30,
     "metadata": {},
     "output_type": "execute_result"
    }
   ],
   "source": [
    "model_graph = draw_graph(dec_net,\n",
    "                         input_data=[enc_net(torch.Tensor(enc_x_train[0:5]).long().to(device)), torch.Tensor(dec_x_train[0:5]).long()],\n",
    "                         device=device,\n",
    "                         hide_inner_tensors=True,\n",
    "                         hide_module_functions=True,\n",
    "                         expand_nested=False,\n",
    "                         depth=3,\n",
    "                         dtypes=[torch.long])\n",
    "\n",
    "model_graph.visual_graph"
   ]
  },
  {
   "cell_type": "code",
   "execution_count": 31,
   "id": "8d727be7-c0e3-472c-946a-ffbb436de0a4",
   "metadata": {},
   "outputs": [],
   "source": [
    "class EncDecLightningModule(pl.LightningModule):\n",
    "    def __init__(self,\n",
    "                 output_size,\n",
    "                 **kwargs):\n",
    "        super().__init__(**kwargs)\n",
    "        self.mc_acc = torchmetrics.classification.Accuracy(task='multiclass',\n",
    "                                                           num_classes=output_size,\n",
    "                                                           ignore_index=0)\n",
    "        self.cce_loss = torch.nn.CrossEntropyLoss(ignore_index=0)\n",
    "\n",
    "    def predict(self, x):\n",
    "        return torch.softmax(self(x), -1)\n",
    "\n",
    "    def configure_optimizers(self):\n",
    "        optimizer = torch.optim.Adam(self.parameters(), lr=0.001)\n",
    "        return optimizer\n",
    "\n",
    "    def training_step(self, train_batch, batch_idx):\n",
    "        x_enc, x_dec, y_dec = train_batch\n",
    "        y_pred = self(x_enc, x_dec)\n",
    "        perm = (0,-1) + tuple(range(y_pred.ndim))[1:-1]\n",
    "        acc = self.mc_acc(y_pred.permute(*perm),y_dec)\n",
    "        loss = self.cce_loss(y_pred.permute(*perm),y_dec)\n",
    "        self.log('train_acc', acc, on_step=False, on_epoch=True)\n",
    "        self.log('train_loss', loss, on_step=False, on_epoch=True)\n",
    "        return loss\n",
    "    \n",
    "    # Validate used for Teacher Forcing\n",
    "    def validation_step(self, val_batch, batch_idx):\n",
    "        x_enc, x_dec, y_dec = val_batch\n",
    "        y_pred = self(x_enc, x_dec)\n",
    "        perm = (0,-1) + tuple(range(y_pred.ndim))[1:-1]\n",
    "        acc = self.mc_acc(y_pred.permute(*perm),y_dec)\n",
    "        loss = self.cce_loss(y_pred.permute(*perm),y_dec)\n",
    "        self.log('val_acc', acc, on_step=False, on_epoch=True)\n",
    "        self.log('val_loss', loss, on_step=False, on_epoch=True)\n",
    "        return loss\n",
    "    \n",
    "    # Test used for Non-Teacher Forcing\n",
    "    def test_step(self, test_batch, batch_idx):\n",
    "        x_enc, x_dec, y_dec = test_batch\n",
    "        context = self.enc_net(x_enc)\n",
    "        tokens = torch.zeros_like(x_dec).long()\n",
    "        tokens[:,0] = 1\n",
    "        for i in range(y_dec.shape[1]-1):\n",
    "            tokens[:,i+1] = self.dec_net(context, tokens).argmax(-1)[:,i]\n",
    "        y_pred = self(x_enc, tokens)\n",
    "        perm = (0,-1) + tuple(range(y_pred.ndim))[1:-1]\n",
    "        acc = self.mc_acc(y_pred.permute(*perm),y_dec)\n",
    "        loss = self.cce_loss(y_pred.permute(*perm),y_dec)\n",
    "        self.log('test_acc', acc, on_step=False, on_epoch=True)\n",
    "        self.log('test_loss', loss, on_step=False, on_epoch=True)\n",
    "        return loss\n"
   ]
  },
  {
   "cell_type": "code",
   "execution_count": 32,
   "id": "83614d38-e3d5-4a72-b139-853e91135313",
   "metadata": {},
   "outputs": [],
   "source": [
    "class EncDecNetwork(EncDecLightningModule):\n",
    "    def __init__(self,\n",
    "                 num_enc_tokens,\n",
    "                 num_dec_tokens,\n",
    "                 latent_size = 64, # Use something divisible by 2 \n",
    "                 n_layers = 4,\n",
    "                 **kwargs):\n",
    "        super().__init__(output_size=num_dec_tokens, **kwargs)\n",
    "        self.enc_net = EncoderNetwork(num_enc_tokens,latent_size,n_layers)\n",
    "        self.dec_net = DecoderNetwork(num_dec_tokens,latent_size,n_layers)\n",
    "    \n",
    "    def forward(self, x_enc, x_dec):\n",
    "        return self.dec_net(self.enc_net(x_enc), x_dec)"
   ]
  },
  {
   "cell_type": "code",
   "execution_count": 33,
   "id": "704e5c52-8add-457a-8b48-ebef51a21293",
   "metadata": {},
   "outputs": [
    {
     "data": {
      "text/plain": [
       "==========================================================================================\n",
       "Layer (type:depth-idx)                   Output Shape              Param #\n",
       "==========================================================================================\n",
       "EncDecNetwork                            [1, 22, 56]               --\n",
       "├─EncoderNetwork: 1-1                    [1, 64]                   --\n",
       "│    └─Embedding: 2-1                    [1, 23, 64]               2,816\n",
       "│    └─Dropout1d: 2-2                    [1, 23, 64]               --\n",
       "│    └─Sequential: 2-3                   [1, 23, 64]               --\n",
       "│    │    └─Lstm: 3-1                    [1, 23, 64]               25,216\n",
       "│    │    └─Lstm: 3-2                    [1, 23, 64]               25,216\n",
       "│    │    └─Lstm: 3-3                    [1, 23, 64]               25,216\n",
       "│    │    └─Lstm: 3-4                    [1, 23, 64]               25,216\n",
       "├─DecoderNetwork: 1-2                    [1, 22, 56]               --\n",
       "│    └─Embedding: 2-4                    [1, 22, 64]               3,584\n",
       "│    └─Dropout1d: 2-5                    [1, 22, 64]               --\n",
       "│    └─Linear: 2-6                       [1, 22, 64]               8,256\n",
       "│    └─Sequential: 2-7                   [1, 22, 64]               --\n",
       "│    │    └─Lstm: 3-5                    [1, 22, 64]               33,408\n",
       "│    │    └─Lstm: 3-6                    [1, 22, 64]               33,408\n",
       "│    │    └─Lstm: 3-7                    [1, 22, 64]               33,408\n",
       "│    │    └─Lstm: 3-8                    [1, 22, 64]               33,408\n",
       "│    └─Linear: 2-8                       [1, 22, 56]               3,640\n",
       "==========================================================================================\n",
       "Total params: 252,792\n",
       "Trainable params: 252,792\n",
       "Non-trainable params: 0\n",
       "Total mult-adds (Units.MEGABYTES): 5.26\n",
       "==========================================================================================\n",
       "Input size (MB): 0.00\n",
       "Forward/backward pass size (MB): 0.23\n",
       "Params size (MB): 1.01\n",
       "Estimated Total Size (MB): 1.24\n",
       "=========================================================================================="
      ]
     },
     "execution_count": 33,
     "metadata": {},
     "output_type": "execute_result"
    }
   ],
   "source": [
    "enc_dec_net = EncDecNetwork(num_enc_tokens=len(i_to_c_eng),\n",
    "                            num_dec_tokens=len(i_to_c_por))\n",
    "\n",
    "summary(enc_dec_net,input_data=[torch.Tensor(enc_x_train[0:1]).long(),\n",
    "                                torch.Tensor(dec_x_train[0:1]).long()])"
   ]
  },
  {
   "cell_type": "code",
   "execution_count": 34,
   "id": "8d1db915-ae50-4bbc-aa57-8a9ab15a5c0d",
   "metadata": {},
   "outputs": [
    {
     "data": {
      "image/svg+xml": [
       "<?xml version=\"1.0\" encoding=\"UTF-8\" standalone=\"no\"?>\n",
       "<!DOCTYPE svg PUBLIC \"-//W3C//DTD SVG 1.1//EN\"\n",
       " \"http://www.w3.org/Graphics/SVG/1.1/DTD/svg11.dtd\">\n",
       "<!-- Generated by graphviz version 8.1.0 (20230707.2238)\n",
       " -->\n",
       "<!-- Title: model Pages: 1 -->\n",
       "<svg width=\"309pt\" height=\"1750pt\"\n",
       " viewBox=\"0.00 0.00 309.44 1750.00\" xmlns=\"http://www.w3.org/2000/svg\" xmlns:xlink=\"http://www.w3.org/1999/xlink\">\n",
       "<g id=\"graph0\" class=\"graph\" transform=\"scale(0.654206 0.654206) rotate(0) translate(4 2671)\">\n",
       "<title>model</title>\n",
       "<polygon fill=\"white\" stroke=\"none\" points=\"-4,4 -4,-2671 469,-2671 469,4 -4,4\"/>\n",
       "<!-- 0 -->\n",
       "<g id=\"node1\" class=\"node\">\n",
       "<title>0</title>\n",
       "<polygon fill=\"lightyellow\" stroke=\"none\" points=\"141.88,-2667 31.12,-2667 31.12,-2631.5 141.88,-2631.5 141.88,-2667\"/>\n",
       "<polygon fill=\"none\" stroke=\"black\" points=\"31.12,-2631.5 31.12,-2667 100.38,-2667 100.38,-2631.5 31.12,-2631.5\"/>\n",
       "<text text-anchor=\"start\" x=\"36.12\" y=\"-2652.5\" font-family=\"Linux libertine\" font-size=\"10.00\">input&#45;tensor</text>\n",
       "<text text-anchor=\"start\" x=\"47.38\" y=\"-2639.75\" font-family=\"Linux libertine\" font-size=\"10.00\">depth:0</text>\n",
       "<polygon fill=\"none\" stroke=\"black\" points=\"100.38,-2631.5 100.38,-2667 141.88,-2667 141.88,-2631.5 100.38,-2631.5\"/>\n",
       "<text text-anchor=\"start\" x=\"105.38\" y=\"-2646.12\" font-family=\"Linux libertine\" font-size=\"10.00\">(1, 23)</text>\n",
       "</g>\n",
       "<!-- 2 -->\n",
       "<g id=\"node3\" class=\"node\">\n",
       "<title>2</title>\n",
       "<polygon fill=\"#c1ffc1\" stroke=\"none\" points=\"173,-2595.5 0,-2595.5 0,-2551.5 173,-2551.5 173,-2595.5\"/>\n",
       "<polygon fill=\"none\" stroke=\"black\" points=\"0,-2551.5 0,-2595.5 64,-2595.5 64,-2551.5 0,-2551.5\"/>\n",
       "<text text-anchor=\"start\" x=\"4.62\" y=\"-2576.75\" font-family=\"Linux libertine\" font-size=\"10.00\">Embedding</text>\n",
       "<text text-anchor=\"start\" x=\"13.62\" y=\"-2564\" font-family=\"Linux libertine\" font-size=\"10.00\">depth:2</text>\n",
       "<polygon fill=\"none\" stroke=\"black\" points=\"64,-2573.5 64,-2595.5 111,-2595.5 111,-2573.5 64,-2573.5\"/>\n",
       "<text text-anchor=\"start\" x=\"73.62\" y=\"-2581\" font-family=\"Linux libertine\" font-size=\"10.00\">input:</text>\n",
       "<polygon fill=\"none\" stroke=\"black\" points=\"111,-2573.5 111,-2595.5 173,-2595.5 173,-2573.5 111,-2573.5\"/>\n",
       "<text text-anchor=\"start\" x=\"124.75\" y=\"-2581\" font-family=\"Linux libertine\" font-size=\"10.00\">(1, 23) </text>\n",
       "<polygon fill=\"none\" stroke=\"black\" points=\"64,-2551.5 64,-2573.5 111,-2573.5 111,-2551.5 64,-2551.5\"/>\n",
       "<text text-anchor=\"start\" x=\"68.75\" y=\"-2559\" font-family=\"Linux libertine\" font-size=\"10.00\">output: </text>\n",
       "<polygon fill=\"none\" stroke=\"black\" points=\"111,-2551.5 111,-2573.5 173,-2573.5 173,-2551.5 111,-2551.5\"/>\n",
       "<text text-anchor=\"start\" x=\"115.75\" y=\"-2559\" font-family=\"Linux libertine\" font-size=\"10.00\">(1, 23, 64) </text>\n",
       "</g>\n",
       "<!-- 0&#45;&gt;2 -->\n",
       "<g id=\"edge1\" class=\"edge\">\n",
       "<title>0&#45;&gt;2</title>\n",
       "<path fill=\"none\" stroke=\"black\" d=\"M86.5,-2631.51C86.5,-2624.07 86.5,-2615.04 86.5,-2606.39\"/>\n",
       "<polygon fill=\"black\" stroke=\"black\" points=\"90,-2606.39 86.5,-2596.39 83,-2606.39 90,-2606.39\"/>\n",
       "</g>\n",
       "<!-- 1 -->\n",
       "<g id=\"node2\" class=\"node\">\n",
       "<title>1</title>\n",
       "<polygon fill=\"lightyellow\" stroke=\"none\" points=\"380.88,-1471.25 270.12,-1471.25 270.12,-1435.75 380.88,-1435.75 380.88,-1471.25\"/>\n",
       "<polygon fill=\"none\" stroke=\"black\" points=\"270.12,-1435.75 270.12,-1471.25 339.38,-1471.25 339.38,-1435.75 270.12,-1435.75\"/>\n",
       "<text text-anchor=\"start\" x=\"275.12\" y=\"-1456.75\" font-family=\"Linux libertine\" font-size=\"10.00\">input&#45;tensor</text>\n",
       "<text text-anchor=\"start\" x=\"286.38\" y=\"-1444\" font-family=\"Linux libertine\" font-size=\"10.00\">depth:0</text>\n",
       "<polygon fill=\"none\" stroke=\"black\" points=\"339.38,-1435.75 339.38,-1471.25 380.88,-1471.25 380.88,-1435.75 339.38,-1435.75\"/>\n",
       "<text text-anchor=\"start\" x=\"344.38\" y=\"-1450.38\" font-family=\"Linux libertine\" font-size=\"10.00\">(1, 22)</text>\n",
       "</g>\n",
       "<!-- 19 -->\n",
       "<g id=\"node20\" class=\"node\">\n",
       "<title>19</title>\n",
       "<polygon fill=\"#c1ffc1\" stroke=\"none\" points=\"412,-1395.5 239,-1395.5 239,-1351.5 412,-1351.5 412,-1395.5\"/>\n",
       "<polygon fill=\"none\" stroke=\"black\" points=\"239,-1351.5 239,-1395.5 303,-1395.5 303,-1351.5 239,-1351.5\"/>\n",
       "<text text-anchor=\"start\" x=\"243.62\" y=\"-1376.75\" font-family=\"Linux libertine\" font-size=\"10.00\">Embedding</text>\n",
       "<text text-anchor=\"start\" x=\"252.62\" y=\"-1364\" font-family=\"Linux libertine\" font-size=\"10.00\">depth:2</text>\n",
       "<polygon fill=\"none\" stroke=\"black\" points=\"303,-1373.5 303,-1395.5 350,-1395.5 350,-1373.5 303,-1373.5\"/>\n",
       "<text text-anchor=\"start\" x=\"312.62\" y=\"-1381\" font-family=\"Linux libertine\" font-size=\"10.00\">input:</text>\n",
       "<polygon fill=\"none\" stroke=\"black\" points=\"350,-1373.5 350,-1395.5 412,-1395.5 412,-1373.5 350,-1373.5\"/>\n",
       "<text text-anchor=\"start\" x=\"363.75\" y=\"-1381\" font-family=\"Linux libertine\" font-size=\"10.00\">(1, 22) </text>\n",
       "<polygon fill=\"none\" stroke=\"black\" points=\"303,-1351.5 303,-1373.5 350,-1373.5 350,-1351.5 303,-1351.5\"/>\n",
       "<text text-anchor=\"start\" x=\"307.75\" y=\"-1359\" font-family=\"Linux libertine\" font-size=\"10.00\">output: </text>\n",
       "<polygon fill=\"none\" stroke=\"black\" points=\"350,-1351.5 350,-1373.5 412,-1373.5 412,-1351.5 350,-1351.5\"/>\n",
       "<text text-anchor=\"start\" x=\"354.75\" y=\"-1359\" font-family=\"Linux libertine\" font-size=\"10.00\">(1, 22, 64) </text>\n",
       "</g>\n",
       "<!-- 1&#45;&gt;19 -->\n",
       "<g id=\"edge21\" class=\"edge\">\n",
       "<title>1&#45;&gt;19</title>\n",
       "<path fill=\"none\" stroke=\"black\" d=\"M325.5,-1435.96C325.5,-1427.29 325.5,-1416.37 325.5,-1406.15\"/>\n",
       "<polygon fill=\"black\" stroke=\"black\" points=\"329,-1406.48 325.5,-1396.48 322,-1406.48 329,-1406.48\"/>\n",
       "</g>\n",
       "<!-- 3 -->\n",
       "<g id=\"node4\" class=\"node\">\n",
       "<title>3</title>\n",
       "<polygon fill=\"#c1ffc1\" stroke=\"none\" points=\"171.5,-2515.5 1.5,-2515.5 1.5,-2471.5 171.5,-2471.5 171.5,-2515.5\"/>\n",
       "<polygon fill=\"none\" stroke=\"black\" points=\"1.5,-2471.5 1.5,-2515.5 62.5,-2515.5 62.5,-2471.5 1.5,-2471.5\"/>\n",
       "<text text-anchor=\"start\" x=\"6.5\" y=\"-2496.75\" font-family=\"Linux libertine\" font-size=\"10.00\">Dropout1d</text>\n",
       "<text text-anchor=\"start\" x=\"13.62\" y=\"-2484\" font-family=\"Linux libertine\" font-size=\"10.00\">depth:2</text>\n",
       "<polygon fill=\"none\" stroke=\"black\" points=\"62.5,-2493.5 62.5,-2515.5 109.5,-2515.5 109.5,-2493.5 62.5,-2493.5\"/>\n",
       "<text text-anchor=\"start\" x=\"72.12\" y=\"-2501\" font-family=\"Linux libertine\" font-size=\"10.00\">input:</text>\n",
       "<polygon fill=\"none\" stroke=\"black\" points=\"109.5,-2493.5 109.5,-2515.5 171.5,-2515.5 171.5,-2493.5 109.5,-2493.5\"/>\n",
       "<text text-anchor=\"start\" x=\"114.25\" y=\"-2501\" font-family=\"Linux libertine\" font-size=\"10.00\">(1, 23, 64) </text>\n",
       "<polygon fill=\"none\" stroke=\"black\" points=\"62.5,-2471.5 62.5,-2493.5 109.5,-2493.5 109.5,-2471.5 62.5,-2471.5\"/>\n",
       "<text text-anchor=\"start\" x=\"67.25\" y=\"-2479\" font-family=\"Linux libertine\" font-size=\"10.00\">output: </text>\n",
       "<polygon fill=\"none\" stroke=\"black\" points=\"109.5,-2471.5 109.5,-2493.5 171.5,-2493.5 171.5,-2471.5 109.5,-2471.5\"/>\n",
       "<text text-anchor=\"start\" x=\"114.25\" y=\"-2479\" font-family=\"Linux libertine\" font-size=\"10.00\">(1, 23, 64) </text>\n",
       "</g>\n",
       "<!-- 2&#45;&gt;3 -->\n",
       "<g id=\"edge2\" class=\"edge\">\n",
       "<title>2&#45;&gt;3</title>\n",
       "<path fill=\"none\" stroke=\"black\" d=\"M86.5,-2551.6C86.5,-2543.82 86.5,-2534.8 86.5,-2526.26\"/>\n",
       "<polygon fill=\"black\" stroke=\"black\" points=\"90,-2526.46 86.5,-2516.46 83,-2526.46 90,-2526.46\"/>\n",
       "</g>\n",
       "<!-- 4 -->\n",
       "<g id=\"node5\" class=\"node\">\n",
       "<title>4</title>\n",
       "<polygon fill=\"#c1ffc1\" stroke=\"none\" points=\"243,-2435.5 70,-2435.5 70,-2391.5 243,-2391.5 243,-2435.5\"/>\n",
       "<polygon fill=\"none\" stroke=\"black\" points=\"70,-2391.5 70,-2435.5 134,-2435.5 134,-2391.5 70,-2391.5\"/>\n",
       "<text text-anchor=\"start\" x=\"75\" y=\"-2416.75\" font-family=\"Linux libertine\" font-size=\"10.00\">LayerNorm</text>\n",
       "<text text-anchor=\"start\" x=\"83.62\" y=\"-2404\" font-family=\"Linux libertine\" font-size=\"10.00\">depth:4</text>\n",
       "<polygon fill=\"none\" stroke=\"black\" points=\"134,-2413.5 134,-2435.5 181,-2435.5 181,-2413.5 134,-2413.5\"/>\n",
       "<text text-anchor=\"start\" x=\"143.62\" y=\"-2421\" font-family=\"Linux libertine\" font-size=\"10.00\">input:</text>\n",
       "<polygon fill=\"none\" stroke=\"black\" points=\"181,-2413.5 181,-2435.5 243,-2435.5 243,-2413.5 181,-2413.5\"/>\n",
       "<text text-anchor=\"start\" x=\"185.75\" y=\"-2421\" font-family=\"Linux libertine\" font-size=\"10.00\">(1, 23, 64) </text>\n",
       "<polygon fill=\"none\" stroke=\"black\" points=\"134,-2391.5 134,-2413.5 181,-2413.5 181,-2391.5 134,-2391.5\"/>\n",
       "<text text-anchor=\"start\" x=\"138.75\" y=\"-2399\" font-family=\"Linux libertine\" font-size=\"10.00\">output: </text>\n",
       "<polygon fill=\"none\" stroke=\"black\" points=\"181,-2391.5 181,-2413.5 243,-2413.5 243,-2391.5 181,-2391.5\"/>\n",
       "<text text-anchor=\"start\" x=\"185.75\" y=\"-2399\" font-family=\"Linux libertine\" font-size=\"10.00\">(1, 23, 64) </text>\n",
       "</g>\n",
       "<!-- 3&#45;&gt;4 -->\n",
       "<g id=\"edge3\" class=\"edge\">\n",
       "<title>3&#45;&gt;4</title>\n",
       "<path fill=\"none\" stroke=\"black\" d=\"M105.26,-2471.6C113.03,-2462.94 122.17,-2452.76 130.56,-2443.41\"/>\n",
       "<polygon fill=\"black\" stroke=\"black\" points=\"132.62,-2446.24 136.69,-2436.46 127.41,-2441.57 132.62,-2446.24\"/>\n",
       "</g>\n",
       "<!-- 6 -->\n",
       "<g id=\"node7\" class=\"node\">\n",
       "<title>6</title>\n",
       "<polygon fill=\"aliceblue\" stroke=\"none\" points=\"186,-2275.5 13,-2275.5 13,-2231.5 186,-2231.5 186,-2275.5\"/>\n",
       "<polygon fill=\"none\" stroke=\"black\" points=\"13,-2231.5 13,-2275.5 59,-2275.5 59,-2231.5 13,-2231.5\"/>\n",
       "<text text-anchor=\"start\" x=\"27\" y=\"-2256.75\" font-family=\"Linux libertine\" font-size=\"10.00\">add</text>\n",
       "<text text-anchor=\"start\" x=\"17.62\" y=\"-2244\" font-family=\"Linux libertine\" font-size=\"10.00\">depth:4</text>\n",
       "<polygon fill=\"none\" stroke=\"black\" points=\"59,-2253.5 59,-2275.5 106,-2275.5 106,-2253.5 59,-2253.5\"/>\n",
       "<text text-anchor=\"start\" x=\"68.62\" y=\"-2261\" font-family=\"Linux libertine\" font-size=\"10.00\">input:</text>\n",
       "<polygon fill=\"none\" stroke=\"black\" points=\"106,-2253.5 106,-2275.5 186,-2275.5 186,-2253.5 106,-2253.5\"/>\n",
       "<text text-anchor=\"start\" x=\"110.75\" y=\"-2261\" font-family=\"Linux libertine\" font-size=\"10.00\">2 x (1, 23, 64) </text>\n",
       "<polygon fill=\"none\" stroke=\"black\" points=\"59,-2231.5 59,-2253.5 106,-2253.5 106,-2231.5 59,-2231.5\"/>\n",
       "<text text-anchor=\"start\" x=\"63.75\" y=\"-2239\" font-family=\"Linux libertine\" font-size=\"10.00\">output: </text>\n",
       "<polygon fill=\"none\" stroke=\"black\" points=\"106,-2231.5 106,-2253.5 186,-2253.5 186,-2231.5 106,-2231.5\"/>\n",
       "<text text-anchor=\"start\" x=\"119.75\" y=\"-2239\" font-family=\"Linux libertine\" font-size=\"10.00\">(1, 23, 64) </text>\n",
       "</g>\n",
       "<!-- 3&#45;&gt;6 -->\n",
       "<g id=\"edge4\" class=\"edge\">\n",
       "<title>3&#45;&gt;6</title>\n",
       "<path fill=\"none\" stroke=\"black\" d=\"M74.61,-2471.54C56.74,-2437.18 27.24,-2367.14 48.5,-2311.5 52.45,-2301.17 59.22,-2291.54 66.56,-2283.23\"/>\n",
       "<polygon fill=\"black\" stroke=\"black\" points=\"68.66,-2286.05 73.01,-2276.39 63.59,-2281.23 68.66,-2286.05\"/>\n",
       "</g>\n",
       "<!-- 5 -->\n",
       "<g id=\"node6\" class=\"node\">\n",
       "<title>5</title>\n",
       "<polygon fill=\"#c1ffc1\" stroke=\"none\" points=\"281,-2355.5 58,-2355.5 58,-2311.5 281,-2311.5 281,-2355.5\"/>\n",
       "<polygon fill=\"none\" stroke=\"black\" points=\"58,-2311.5 58,-2355.5 104,-2355.5 104,-2311.5 58,-2311.5\"/>\n",
       "<text text-anchor=\"start\" x=\"67.88\" y=\"-2336.75\" font-family=\"Linux libertine\" font-size=\"10.00\">LSTM</text>\n",
       "<text text-anchor=\"start\" x=\"62.62\" y=\"-2324\" font-family=\"Linux libertine\" font-size=\"10.00\">depth:4</text>\n",
       "<polygon fill=\"none\" stroke=\"black\" points=\"104,-2333.5 104,-2355.5 151,-2355.5 151,-2333.5 104,-2333.5\"/>\n",
       "<text text-anchor=\"start\" x=\"113.62\" y=\"-2341\" font-family=\"Linux libertine\" font-size=\"10.00\">input:</text>\n",
       "<polygon fill=\"none\" stroke=\"black\" points=\"151,-2333.5 151,-2355.5 281,-2355.5 281,-2333.5 151,-2333.5\"/>\n",
       "<text text-anchor=\"start\" x=\"189.75\" y=\"-2341\" font-family=\"Linux libertine\" font-size=\"10.00\">(1, 23, 64) </text>\n",
       "<polygon fill=\"none\" stroke=\"black\" points=\"104,-2311.5 104,-2333.5 151,-2333.5 151,-2311.5 104,-2311.5\"/>\n",
       "<text text-anchor=\"start\" x=\"108.75\" y=\"-2319\" font-family=\"Linux libertine\" font-size=\"10.00\">output: </text>\n",
       "<polygon fill=\"none\" stroke=\"black\" points=\"151,-2311.5 151,-2333.5 281,-2333.5 281,-2311.5 151,-2311.5\"/>\n",
       "<text text-anchor=\"start\" x=\"156\" y=\"-2319\" font-family=\"Linux libertine\" font-size=\"10.00\">(1, 23, 64), 2 x (2, 1, 32) </text>\n",
       "</g>\n",
       "<!-- 4&#45;&gt;5 -->\n",
       "<g id=\"edge5\" class=\"edge\">\n",
       "<title>4&#45;&gt;5</title>\n",
       "<path fill=\"none\" stroke=\"black\" d=\"M159.98,-2391.6C161.28,-2383.82 162.78,-2374.8 164.21,-2366.26\"/>\n",
       "<polygon fill=\"black\" stroke=\"black\" points=\"167.81,-2366.9 166.01,-2356.46 160.91,-2365.75 167.81,-2366.9\"/>\n",
       "</g>\n",
       "<!-- 5&#45;&gt;6 -->\n",
       "<g id=\"edge6\" class=\"edge\">\n",
       "<title>5&#45;&gt;6</title>\n",
       "<path fill=\"none\" stroke=\"black\" d=\"M150.74,-2311.6C142.97,-2302.94 133.83,-2292.76 125.44,-2283.41\"/>\n",
       "<polygon fill=\"black\" stroke=\"black\" points=\"128.59,-2281.57 119.31,-2276.46 123.38,-2286.24 128.59,-2281.57\"/>\n",
       "</g>\n",
       "<!-- 7 -->\n",
       "<g id=\"node8\" class=\"node\">\n",
       "<title>7</title>\n",
       "<polygon fill=\"#c1ffc1\" stroke=\"none\" points=\"256,-2195.5 83,-2195.5 83,-2151.5 256,-2151.5 256,-2195.5\"/>\n",
       "<polygon fill=\"none\" stroke=\"black\" points=\"83,-2151.5 83,-2195.5 147,-2195.5 147,-2151.5 83,-2151.5\"/>\n",
       "<text text-anchor=\"start\" x=\"88\" y=\"-2176.75\" font-family=\"Linux libertine\" font-size=\"10.00\">LayerNorm</text>\n",
       "<text text-anchor=\"start\" x=\"96.62\" y=\"-2164\" font-family=\"Linux libertine\" font-size=\"10.00\">depth:4</text>\n",
       "<polygon fill=\"none\" stroke=\"black\" points=\"147,-2173.5 147,-2195.5 194,-2195.5 194,-2173.5 147,-2173.5\"/>\n",
       "<text text-anchor=\"start\" x=\"156.62\" y=\"-2181\" font-family=\"Linux libertine\" font-size=\"10.00\">input:</text>\n",
       "<polygon fill=\"none\" stroke=\"black\" points=\"194,-2173.5 194,-2195.5 256,-2195.5 256,-2173.5 194,-2173.5\"/>\n",
       "<text text-anchor=\"start\" x=\"198.75\" y=\"-2181\" font-family=\"Linux libertine\" font-size=\"10.00\">(1, 23, 64) </text>\n",
       "<polygon fill=\"none\" stroke=\"black\" points=\"147,-2151.5 147,-2173.5 194,-2173.5 194,-2151.5 147,-2151.5\"/>\n",
       "<text text-anchor=\"start\" x=\"151.75\" y=\"-2159\" font-family=\"Linux libertine\" font-size=\"10.00\">output: </text>\n",
       "<polygon fill=\"none\" stroke=\"black\" points=\"194,-2151.5 194,-2173.5 256,-2173.5 256,-2151.5 194,-2151.5\"/>\n",
       "<text text-anchor=\"start\" x=\"198.75\" y=\"-2159\" font-family=\"Linux libertine\" font-size=\"10.00\">(1, 23, 64) </text>\n",
       "</g>\n",
       "<!-- 6&#45;&gt;7 -->\n",
       "<g id=\"edge7\" class=\"edge\">\n",
       "<title>6&#45;&gt;7</title>\n",
       "<path fill=\"none\" stroke=\"black\" d=\"M118.26,-2231.6C126.03,-2222.94 135.17,-2212.76 143.56,-2203.41\"/>\n",
       "<polygon fill=\"black\" stroke=\"black\" points=\"145.62,-2206.24 149.69,-2196.46 140.41,-2201.57 145.62,-2206.24\"/>\n",
       "</g>\n",
       "<!-- 9 -->\n",
       "<g id=\"node10\" class=\"node\">\n",
       "<title>9</title>\n",
       "<polygon fill=\"aliceblue\" stroke=\"none\" points=\"199,-2035.5 26,-2035.5 26,-1991.5 199,-1991.5 199,-2035.5\"/>\n",
       "<polygon fill=\"none\" stroke=\"black\" points=\"26,-1991.5 26,-2035.5 72,-2035.5 72,-1991.5 26,-1991.5\"/>\n",
       "<text text-anchor=\"start\" x=\"40\" y=\"-2016.75\" font-family=\"Linux libertine\" font-size=\"10.00\">add</text>\n",
       "<text text-anchor=\"start\" x=\"30.62\" y=\"-2004\" font-family=\"Linux libertine\" font-size=\"10.00\">depth:4</text>\n",
       "<polygon fill=\"none\" stroke=\"black\" points=\"72,-2013.5 72,-2035.5 119,-2035.5 119,-2013.5 72,-2013.5\"/>\n",
       "<text text-anchor=\"start\" x=\"81.62\" y=\"-2021\" font-family=\"Linux libertine\" font-size=\"10.00\">input:</text>\n",
       "<polygon fill=\"none\" stroke=\"black\" points=\"119,-2013.5 119,-2035.5 199,-2035.5 199,-2013.5 119,-2013.5\"/>\n",
       "<text text-anchor=\"start\" x=\"123.75\" y=\"-2021\" font-family=\"Linux libertine\" font-size=\"10.00\">2 x (1, 23, 64) </text>\n",
       "<polygon fill=\"none\" stroke=\"black\" points=\"72,-1991.5 72,-2013.5 119,-2013.5 119,-1991.5 72,-1991.5\"/>\n",
       "<text text-anchor=\"start\" x=\"76.75\" y=\"-1999\" font-family=\"Linux libertine\" font-size=\"10.00\">output: </text>\n",
       "<polygon fill=\"none\" stroke=\"black\" points=\"119,-1991.5 119,-2013.5 199,-2013.5 199,-1991.5 119,-1991.5\"/>\n",
       "<text text-anchor=\"start\" x=\"132.75\" y=\"-1999\" font-family=\"Linux libertine\" font-size=\"10.00\">(1, 23, 64) </text>\n",
       "</g>\n",
       "<!-- 6&#45;&gt;9 -->\n",
       "<g id=\"edge8\" class=\"edge\">\n",
       "<title>6&#45;&gt;9</title>\n",
       "<path fill=\"none\" stroke=\"black\" d=\"M87.61,-2231.54C69.74,-2197.18 40.24,-2127.14 61.5,-2071.5 65.45,-2061.17 72.22,-2051.54 79.56,-2043.23\"/>\n",
       "<polygon fill=\"black\" stroke=\"black\" points=\"81.66,-2046.05 86.01,-2036.39 76.59,-2041.23 81.66,-2046.05\"/>\n",
       "</g>\n",
       "<!-- 8 -->\n",
       "<g id=\"node9\" class=\"node\">\n",
       "<title>8</title>\n",
       "<polygon fill=\"#c1ffc1\" stroke=\"none\" points=\"294,-2115.5 71,-2115.5 71,-2071.5 294,-2071.5 294,-2115.5\"/>\n",
       "<polygon fill=\"none\" stroke=\"black\" points=\"71,-2071.5 71,-2115.5 117,-2115.5 117,-2071.5 71,-2071.5\"/>\n",
       "<text text-anchor=\"start\" x=\"80.88\" y=\"-2096.75\" font-family=\"Linux libertine\" font-size=\"10.00\">LSTM</text>\n",
       "<text text-anchor=\"start\" x=\"75.62\" y=\"-2084\" font-family=\"Linux libertine\" font-size=\"10.00\">depth:4</text>\n",
       "<polygon fill=\"none\" stroke=\"black\" points=\"117,-2093.5 117,-2115.5 164,-2115.5 164,-2093.5 117,-2093.5\"/>\n",
       "<text text-anchor=\"start\" x=\"126.62\" y=\"-2101\" font-family=\"Linux libertine\" font-size=\"10.00\">input:</text>\n",
       "<polygon fill=\"none\" stroke=\"black\" points=\"164,-2093.5 164,-2115.5 294,-2115.5 294,-2093.5 164,-2093.5\"/>\n",
       "<text text-anchor=\"start\" x=\"202.75\" y=\"-2101\" font-family=\"Linux libertine\" font-size=\"10.00\">(1, 23, 64) </text>\n",
       "<polygon fill=\"none\" stroke=\"black\" points=\"117,-2071.5 117,-2093.5 164,-2093.5 164,-2071.5 117,-2071.5\"/>\n",
       "<text text-anchor=\"start\" x=\"121.75\" y=\"-2079\" font-family=\"Linux libertine\" font-size=\"10.00\">output: </text>\n",
       "<polygon fill=\"none\" stroke=\"black\" points=\"164,-2071.5 164,-2093.5 294,-2093.5 294,-2071.5 164,-2071.5\"/>\n",
       "<text text-anchor=\"start\" x=\"169\" y=\"-2079\" font-family=\"Linux libertine\" font-size=\"10.00\">(1, 23, 64), 2 x (2, 1, 32) </text>\n",
       "</g>\n",
       "<!-- 7&#45;&gt;8 -->\n",
       "<g id=\"edge9\" class=\"edge\">\n",
       "<title>7&#45;&gt;8</title>\n",
       "<path fill=\"none\" stroke=\"black\" d=\"M172.98,-2151.6C174.28,-2143.82 175.78,-2134.8 177.21,-2126.26\"/>\n",
       "<polygon fill=\"black\" stroke=\"black\" points=\"180.81,-2126.9 179.01,-2116.46 173.91,-2125.75 180.81,-2126.9\"/>\n",
       "</g>\n",
       "<!-- 8&#45;&gt;9 -->\n",
       "<g id=\"edge10\" class=\"edge\">\n",
       "<title>8&#45;&gt;9</title>\n",
       "<path fill=\"none\" stroke=\"black\" d=\"M163.74,-2071.6C155.97,-2062.94 146.83,-2052.76 138.44,-2043.41\"/>\n",
       "<polygon fill=\"black\" stroke=\"black\" points=\"141.59,-2041.57 132.31,-2036.46 136.38,-2046.24 141.59,-2041.57\"/>\n",
       "</g>\n",
       "<!-- 10 -->\n",
       "<g id=\"node11\" class=\"node\">\n",
       "<title>10</title>\n",
       "<polygon fill=\"#c1ffc1\" stroke=\"none\" points=\"269,-1955.5 96,-1955.5 96,-1911.5 269,-1911.5 269,-1955.5\"/>\n",
       "<polygon fill=\"none\" stroke=\"black\" points=\"96,-1911.5 96,-1955.5 160,-1955.5 160,-1911.5 96,-1911.5\"/>\n",
       "<text text-anchor=\"start\" x=\"101\" y=\"-1936.75\" font-family=\"Linux libertine\" font-size=\"10.00\">LayerNorm</text>\n",
       "<text text-anchor=\"start\" x=\"109.62\" y=\"-1924\" font-family=\"Linux libertine\" font-size=\"10.00\">depth:4</text>\n",
       "<polygon fill=\"none\" stroke=\"black\" points=\"160,-1933.5 160,-1955.5 207,-1955.5 207,-1933.5 160,-1933.5\"/>\n",
       "<text text-anchor=\"start\" x=\"169.62\" y=\"-1941\" font-family=\"Linux libertine\" font-size=\"10.00\">input:</text>\n",
       "<polygon fill=\"none\" stroke=\"black\" points=\"207,-1933.5 207,-1955.5 269,-1955.5 269,-1933.5 207,-1933.5\"/>\n",
       "<text text-anchor=\"start\" x=\"211.75\" y=\"-1941\" font-family=\"Linux libertine\" font-size=\"10.00\">(1, 23, 64) </text>\n",
       "<polygon fill=\"none\" stroke=\"black\" points=\"160,-1911.5 160,-1933.5 207,-1933.5 207,-1911.5 160,-1911.5\"/>\n",
       "<text text-anchor=\"start\" x=\"164.75\" y=\"-1919\" font-family=\"Linux libertine\" font-size=\"10.00\">output: </text>\n",
       "<polygon fill=\"none\" stroke=\"black\" points=\"207,-1911.5 207,-1933.5 269,-1933.5 269,-1911.5 207,-1911.5\"/>\n",
       "<text text-anchor=\"start\" x=\"211.75\" y=\"-1919\" font-family=\"Linux libertine\" font-size=\"10.00\">(1, 23, 64) </text>\n",
       "</g>\n",
       "<!-- 9&#45;&gt;10 -->\n",
       "<g id=\"edge11\" class=\"edge\">\n",
       "<title>9&#45;&gt;10</title>\n",
       "<path fill=\"none\" stroke=\"black\" d=\"M131.26,-1991.6C139.03,-1982.94 148.17,-1972.76 156.56,-1963.41\"/>\n",
       "<polygon fill=\"black\" stroke=\"black\" points=\"158.62,-1966.24 162.69,-1956.46 153.41,-1961.57 158.62,-1966.24\"/>\n",
       "</g>\n",
       "<!-- 12 -->\n",
       "<g id=\"node13\" class=\"node\">\n",
       "<title>12</title>\n",
       "<polygon fill=\"aliceblue\" stroke=\"none\" points=\"212,-1795.5 39,-1795.5 39,-1751.5 212,-1751.5 212,-1795.5\"/>\n",
       "<polygon fill=\"none\" stroke=\"black\" points=\"39,-1751.5 39,-1795.5 85,-1795.5 85,-1751.5 39,-1751.5\"/>\n",
       "<text text-anchor=\"start\" x=\"53\" y=\"-1776.75\" font-family=\"Linux libertine\" font-size=\"10.00\">add</text>\n",
       "<text text-anchor=\"start\" x=\"43.62\" y=\"-1764\" font-family=\"Linux libertine\" font-size=\"10.00\">depth:4</text>\n",
       "<polygon fill=\"none\" stroke=\"black\" points=\"85,-1773.5 85,-1795.5 132,-1795.5 132,-1773.5 85,-1773.5\"/>\n",
       "<text text-anchor=\"start\" x=\"94.62\" y=\"-1781\" font-family=\"Linux libertine\" font-size=\"10.00\">input:</text>\n",
       "<polygon fill=\"none\" stroke=\"black\" points=\"132,-1773.5 132,-1795.5 212,-1795.5 212,-1773.5 132,-1773.5\"/>\n",
       "<text text-anchor=\"start\" x=\"136.75\" y=\"-1781\" font-family=\"Linux libertine\" font-size=\"10.00\">2 x (1, 23, 64) </text>\n",
       "<polygon fill=\"none\" stroke=\"black\" points=\"85,-1751.5 85,-1773.5 132,-1773.5 132,-1751.5 85,-1751.5\"/>\n",
       "<text text-anchor=\"start\" x=\"89.75\" y=\"-1759\" font-family=\"Linux libertine\" font-size=\"10.00\">output: </text>\n",
       "<polygon fill=\"none\" stroke=\"black\" points=\"132,-1751.5 132,-1773.5 212,-1773.5 212,-1751.5 132,-1751.5\"/>\n",
       "<text text-anchor=\"start\" x=\"145.75\" y=\"-1759\" font-family=\"Linux libertine\" font-size=\"10.00\">(1, 23, 64) </text>\n",
       "</g>\n",
       "<!-- 9&#45;&gt;12 -->\n",
       "<g id=\"edge12\" class=\"edge\">\n",
       "<title>9&#45;&gt;12</title>\n",
       "<path fill=\"none\" stroke=\"black\" d=\"M100.61,-1991.54C82.74,-1957.18 53.24,-1887.14 74.5,-1831.5 78.45,-1821.17 85.22,-1811.54 92.56,-1803.23\"/>\n",
       "<polygon fill=\"black\" stroke=\"black\" points=\"94.66,-1806.05 99.01,-1796.39 89.59,-1801.23 94.66,-1806.05\"/>\n",
       "</g>\n",
       "<!-- 11 -->\n",
       "<g id=\"node12\" class=\"node\">\n",
       "<title>11</title>\n",
       "<polygon fill=\"#c1ffc1\" stroke=\"none\" points=\"307,-1875.5 84,-1875.5 84,-1831.5 307,-1831.5 307,-1875.5\"/>\n",
       "<polygon fill=\"none\" stroke=\"black\" points=\"84,-1831.5 84,-1875.5 130,-1875.5 130,-1831.5 84,-1831.5\"/>\n",
       "<text text-anchor=\"start\" x=\"93.88\" y=\"-1856.75\" font-family=\"Linux libertine\" font-size=\"10.00\">LSTM</text>\n",
       "<text text-anchor=\"start\" x=\"88.62\" y=\"-1844\" font-family=\"Linux libertine\" font-size=\"10.00\">depth:4</text>\n",
       "<polygon fill=\"none\" stroke=\"black\" points=\"130,-1853.5 130,-1875.5 177,-1875.5 177,-1853.5 130,-1853.5\"/>\n",
       "<text text-anchor=\"start\" x=\"139.62\" y=\"-1861\" font-family=\"Linux libertine\" font-size=\"10.00\">input:</text>\n",
       "<polygon fill=\"none\" stroke=\"black\" points=\"177,-1853.5 177,-1875.5 307,-1875.5 307,-1853.5 177,-1853.5\"/>\n",
       "<text text-anchor=\"start\" x=\"215.75\" y=\"-1861\" font-family=\"Linux libertine\" font-size=\"10.00\">(1, 23, 64) </text>\n",
       "<polygon fill=\"none\" stroke=\"black\" points=\"130,-1831.5 130,-1853.5 177,-1853.5 177,-1831.5 130,-1831.5\"/>\n",
       "<text text-anchor=\"start\" x=\"134.75\" y=\"-1839\" font-family=\"Linux libertine\" font-size=\"10.00\">output: </text>\n",
       "<polygon fill=\"none\" stroke=\"black\" points=\"177,-1831.5 177,-1853.5 307,-1853.5 307,-1831.5 177,-1831.5\"/>\n",
       "<text text-anchor=\"start\" x=\"182\" y=\"-1839\" font-family=\"Linux libertine\" font-size=\"10.00\">(1, 23, 64), 2 x (2, 1, 32) </text>\n",
       "</g>\n",
       "<!-- 10&#45;&gt;11 -->\n",
       "<g id=\"edge13\" class=\"edge\">\n",
       "<title>10&#45;&gt;11</title>\n",
       "<path fill=\"none\" stroke=\"black\" d=\"M185.98,-1911.6C187.28,-1903.82 188.78,-1894.8 190.21,-1886.26\"/>\n",
       "<polygon fill=\"black\" stroke=\"black\" points=\"193.81,-1886.9 192.01,-1876.46 186.91,-1885.75 193.81,-1886.9\"/>\n",
       "</g>\n",
       "<!-- 11&#45;&gt;12 -->\n",
       "<g id=\"edge14\" class=\"edge\">\n",
       "<title>11&#45;&gt;12</title>\n",
       "<path fill=\"none\" stroke=\"black\" d=\"M176.74,-1831.6C168.97,-1822.94 159.83,-1812.76 151.44,-1803.41\"/>\n",
       "<polygon fill=\"black\" stroke=\"black\" points=\"154.59,-1801.57 145.31,-1796.46 149.38,-1806.24 154.59,-1801.57\"/>\n",
       "</g>\n",
       "<!-- 13 -->\n",
       "<g id=\"node14\" class=\"node\">\n",
       "<title>13</title>\n",
       "<polygon fill=\"#c1ffc1\" stroke=\"none\" points=\"282,-1715.5 109,-1715.5 109,-1671.5 282,-1671.5 282,-1715.5\"/>\n",
       "<polygon fill=\"none\" stroke=\"black\" points=\"109,-1671.5 109,-1715.5 173,-1715.5 173,-1671.5 109,-1671.5\"/>\n",
       "<text text-anchor=\"start\" x=\"114\" y=\"-1696.75\" font-family=\"Linux libertine\" font-size=\"10.00\">LayerNorm</text>\n",
       "<text text-anchor=\"start\" x=\"122.62\" y=\"-1684\" font-family=\"Linux libertine\" font-size=\"10.00\">depth:4</text>\n",
       "<polygon fill=\"none\" stroke=\"black\" points=\"173,-1693.5 173,-1715.5 220,-1715.5 220,-1693.5 173,-1693.5\"/>\n",
       "<text text-anchor=\"start\" x=\"182.62\" y=\"-1701\" font-family=\"Linux libertine\" font-size=\"10.00\">input:</text>\n",
       "<polygon fill=\"none\" stroke=\"black\" points=\"220,-1693.5 220,-1715.5 282,-1715.5 282,-1693.5 220,-1693.5\"/>\n",
       "<text text-anchor=\"start\" x=\"224.75\" y=\"-1701\" font-family=\"Linux libertine\" font-size=\"10.00\">(1, 23, 64) </text>\n",
       "<polygon fill=\"none\" stroke=\"black\" points=\"173,-1671.5 173,-1693.5 220,-1693.5 220,-1671.5 173,-1671.5\"/>\n",
       "<text text-anchor=\"start\" x=\"177.75\" y=\"-1679\" font-family=\"Linux libertine\" font-size=\"10.00\">output: </text>\n",
       "<polygon fill=\"none\" stroke=\"black\" points=\"220,-1671.5 220,-1693.5 282,-1693.5 282,-1671.5 220,-1671.5\"/>\n",
       "<text text-anchor=\"start\" x=\"224.75\" y=\"-1679\" font-family=\"Linux libertine\" font-size=\"10.00\">(1, 23, 64) </text>\n",
       "</g>\n",
       "<!-- 12&#45;&gt;13 -->\n",
       "<g id=\"edge15\" class=\"edge\">\n",
       "<title>12&#45;&gt;13</title>\n",
       "<path fill=\"none\" stroke=\"black\" d=\"M144.26,-1751.6C152.03,-1742.94 161.17,-1732.76 169.56,-1723.41\"/>\n",
       "<polygon fill=\"black\" stroke=\"black\" points=\"171.62,-1726.24 175.69,-1716.46 166.41,-1721.57 171.62,-1726.24\"/>\n",
       "</g>\n",
       "<!-- 15 -->\n",
       "<g id=\"node16\" class=\"node\">\n",
       "<title>15</title>\n",
       "<polygon fill=\"aliceblue\" stroke=\"none\" points=\"225,-1555.5 52,-1555.5 52,-1511.5 225,-1511.5 225,-1555.5\"/>\n",
       "<polygon fill=\"none\" stroke=\"black\" points=\"52,-1511.5 52,-1555.5 98,-1555.5 98,-1511.5 52,-1511.5\"/>\n",
       "<text text-anchor=\"start\" x=\"66\" y=\"-1536.75\" font-family=\"Linux libertine\" font-size=\"10.00\">add</text>\n",
       "<text text-anchor=\"start\" x=\"56.62\" y=\"-1524\" font-family=\"Linux libertine\" font-size=\"10.00\">depth:4</text>\n",
       "<polygon fill=\"none\" stroke=\"black\" points=\"98,-1533.5 98,-1555.5 145,-1555.5 145,-1533.5 98,-1533.5\"/>\n",
       "<text text-anchor=\"start\" x=\"107.62\" y=\"-1541\" font-family=\"Linux libertine\" font-size=\"10.00\">input:</text>\n",
       "<polygon fill=\"none\" stroke=\"black\" points=\"145,-1533.5 145,-1555.5 225,-1555.5 225,-1533.5 145,-1533.5\"/>\n",
       "<text text-anchor=\"start\" x=\"149.75\" y=\"-1541\" font-family=\"Linux libertine\" font-size=\"10.00\">2 x (1, 23, 64) </text>\n",
       "<polygon fill=\"none\" stroke=\"black\" points=\"98,-1511.5 98,-1533.5 145,-1533.5 145,-1511.5 98,-1511.5\"/>\n",
       "<text text-anchor=\"start\" x=\"102.75\" y=\"-1519\" font-family=\"Linux libertine\" font-size=\"10.00\">output: </text>\n",
       "<polygon fill=\"none\" stroke=\"black\" points=\"145,-1511.5 145,-1533.5 225,-1533.5 225,-1511.5 145,-1511.5\"/>\n",
       "<text text-anchor=\"start\" x=\"158.75\" y=\"-1519\" font-family=\"Linux libertine\" font-size=\"10.00\">(1, 23, 64) </text>\n",
       "</g>\n",
       "<!-- 12&#45;&gt;15 -->\n",
       "<g id=\"edge16\" class=\"edge\">\n",
       "<title>12&#45;&gt;15</title>\n",
       "<path fill=\"none\" stroke=\"black\" d=\"M113.61,-1751.54C95.74,-1717.18 66.24,-1647.14 87.5,-1591.5 91.45,-1581.17 98.22,-1571.54 105.56,-1563.23\"/>\n",
       "<polygon fill=\"black\" stroke=\"black\" points=\"107.66,-1566.05 112.01,-1556.39 102.59,-1561.23 107.66,-1566.05\"/>\n",
       "</g>\n",
       "<!-- 14 -->\n",
       "<g id=\"node15\" class=\"node\">\n",
       "<title>14</title>\n",
       "<polygon fill=\"#c1ffc1\" stroke=\"none\" points=\"320,-1635.5 97,-1635.5 97,-1591.5 320,-1591.5 320,-1635.5\"/>\n",
       "<polygon fill=\"none\" stroke=\"black\" points=\"97,-1591.5 97,-1635.5 143,-1635.5 143,-1591.5 97,-1591.5\"/>\n",
       "<text text-anchor=\"start\" x=\"106.88\" y=\"-1616.75\" font-family=\"Linux libertine\" font-size=\"10.00\">LSTM</text>\n",
       "<text text-anchor=\"start\" x=\"101.62\" y=\"-1604\" font-family=\"Linux libertine\" font-size=\"10.00\">depth:4</text>\n",
       "<polygon fill=\"none\" stroke=\"black\" points=\"143,-1613.5 143,-1635.5 190,-1635.5 190,-1613.5 143,-1613.5\"/>\n",
       "<text text-anchor=\"start\" x=\"152.62\" y=\"-1621\" font-family=\"Linux libertine\" font-size=\"10.00\">input:</text>\n",
       "<polygon fill=\"none\" stroke=\"black\" points=\"190,-1613.5 190,-1635.5 320,-1635.5 320,-1613.5 190,-1613.5\"/>\n",
       "<text text-anchor=\"start\" x=\"228.75\" y=\"-1621\" font-family=\"Linux libertine\" font-size=\"10.00\">(1, 23, 64) </text>\n",
       "<polygon fill=\"none\" stroke=\"black\" points=\"143,-1591.5 143,-1613.5 190,-1613.5 190,-1591.5 143,-1591.5\"/>\n",
       "<text text-anchor=\"start\" x=\"147.75\" y=\"-1599\" font-family=\"Linux libertine\" font-size=\"10.00\">output: </text>\n",
       "<polygon fill=\"none\" stroke=\"black\" points=\"190,-1591.5 190,-1613.5 320,-1613.5 320,-1591.5 190,-1591.5\"/>\n",
       "<text text-anchor=\"start\" x=\"195\" y=\"-1599\" font-family=\"Linux libertine\" font-size=\"10.00\">(1, 23, 64), 2 x (2, 1, 32) </text>\n",
       "</g>\n",
       "<!-- 13&#45;&gt;14 -->\n",
       "<g id=\"edge17\" class=\"edge\">\n",
       "<title>13&#45;&gt;14</title>\n",
       "<path fill=\"none\" stroke=\"black\" d=\"M198.98,-1671.6C200.28,-1663.82 201.78,-1654.8 203.21,-1646.26\"/>\n",
       "<polygon fill=\"black\" stroke=\"black\" points=\"206.81,-1646.9 205.01,-1636.46 199.91,-1645.75 206.81,-1646.9\"/>\n",
       "</g>\n",
       "<!-- 14&#45;&gt;15 -->\n",
       "<g id=\"edge18\" class=\"edge\">\n",
       "<title>14&#45;&gt;15</title>\n",
       "<path fill=\"none\" stroke=\"black\" d=\"M189.74,-1591.6C181.97,-1582.94 172.83,-1572.76 164.44,-1563.41\"/>\n",
       "<polygon fill=\"black\" stroke=\"black\" points=\"167.59,-1561.57 158.31,-1556.46 162.38,-1566.24 167.59,-1561.57\"/>\n",
       "</g>\n",
       "<!-- 16 -->\n",
       "<g id=\"node17\" class=\"node\">\n",
       "<title>16</title>\n",
       "<polygon fill=\"aliceblue\" stroke=\"none\" points=\"227.5,-1475.5 49.5,-1475.5 49.5,-1431.5 227.5,-1431.5 227.5,-1475.5\"/>\n",
       "<polygon fill=\"none\" stroke=\"black\" points=\"49.5,-1431.5 49.5,-1475.5 118.5,-1475.5 118.5,-1431.5 49.5,-1431.5\"/>\n",
       "<text text-anchor=\"start\" x=\"54.38\" y=\"-1456.75\" font-family=\"Linux libertine\" font-size=\"10.00\">__getitem__</text>\n",
       "<text text-anchor=\"start\" x=\"65.62\" y=\"-1444\" font-family=\"Linux libertine\" font-size=\"10.00\">depth:2</text>\n",
       "<polygon fill=\"none\" stroke=\"black\" points=\"118.5,-1453.5 118.5,-1475.5 165.5,-1475.5 165.5,-1453.5 118.5,-1453.5\"/>\n",
       "<text text-anchor=\"start\" x=\"128.12\" y=\"-1461\" font-family=\"Linux libertine\" font-size=\"10.00\">input:</text>\n",
       "<polygon fill=\"none\" stroke=\"black\" points=\"165.5,-1453.5 165.5,-1475.5 227.5,-1475.5 227.5,-1453.5 165.5,-1453.5\"/>\n",
       "<text text-anchor=\"start\" x=\"170.25\" y=\"-1461\" font-family=\"Linux libertine\" font-size=\"10.00\">(1, 23, 64) </text>\n",
       "<polygon fill=\"none\" stroke=\"black\" points=\"118.5,-1431.5 118.5,-1453.5 165.5,-1453.5 165.5,-1431.5 118.5,-1431.5\"/>\n",
       "<text text-anchor=\"start\" x=\"123.25\" y=\"-1439\" font-family=\"Linux libertine\" font-size=\"10.00\">output: </text>\n",
       "<polygon fill=\"none\" stroke=\"black\" points=\"165.5,-1431.5 165.5,-1453.5 227.5,-1453.5 227.5,-1431.5 165.5,-1431.5\"/>\n",
       "<text text-anchor=\"start\" x=\"179.25\" y=\"-1439\" font-family=\"Linux libertine\" font-size=\"10.00\">(1, 64) </text>\n",
       "</g>\n",
       "<!-- 15&#45;&gt;16 -->\n",
       "<g id=\"edge19\" class=\"edge\">\n",
       "<title>15&#45;&gt;16</title>\n",
       "<path fill=\"none\" stroke=\"black\" d=\"M138.5,-1511.6C138.5,-1503.82 138.5,-1494.8 138.5,-1486.26\"/>\n",
       "<polygon fill=\"black\" stroke=\"black\" points=\"142,-1486.46 138.5,-1476.46 135,-1486.46 142,-1486.46\"/>\n",
       "</g>\n",
       "<!-- 17 -->\n",
       "<g id=\"node18\" class=\"node\">\n",
       "<title>17</title>\n",
       "<polygon fill=\"aliceblue\" stroke=\"none\" points=\"221,-1395.5 56,-1395.5 56,-1351.5 221,-1351.5 221,-1395.5\"/>\n",
       "<polygon fill=\"none\" stroke=\"black\" points=\"56,-1351.5 56,-1395.5 118,-1395.5 118,-1351.5 56,-1351.5\"/>\n",
       "<text text-anchor=\"start\" x=\"60.75\" y=\"-1376.75\" font-family=\"Linux libertine\" font-size=\"10.00\">unsqueeze</text>\n",
       "<text text-anchor=\"start\" x=\"68.62\" y=\"-1364\" font-family=\"Linux libertine\" font-size=\"10.00\">depth:2</text>\n",
       "<polygon fill=\"none\" stroke=\"black\" points=\"118,-1373.5 118,-1395.5 165,-1395.5 165,-1373.5 118,-1373.5\"/>\n",
       "<text text-anchor=\"start\" x=\"127.62\" y=\"-1381\" font-family=\"Linux libertine\" font-size=\"10.00\">input:</text>\n",
       "<polygon fill=\"none\" stroke=\"black\" points=\"165,-1373.5 165,-1395.5 221,-1395.5 221,-1373.5 165,-1373.5\"/>\n",
       "<text text-anchor=\"start\" x=\"175.75\" y=\"-1381\" font-family=\"Linux libertine\" font-size=\"10.00\">(1, 64) </text>\n",
       "<polygon fill=\"none\" stroke=\"black\" points=\"118,-1351.5 118,-1373.5 165,-1373.5 165,-1351.5 118,-1351.5\"/>\n",
       "<text text-anchor=\"start\" x=\"122.75\" y=\"-1359\" font-family=\"Linux libertine\" font-size=\"10.00\">output: </text>\n",
       "<polygon fill=\"none\" stroke=\"black\" points=\"165,-1351.5 165,-1373.5 221,-1373.5 221,-1351.5 165,-1351.5\"/>\n",
       "<text text-anchor=\"start\" x=\"169.75\" y=\"-1359\" font-family=\"Linux libertine\" font-size=\"10.00\">(1, 1, 64) </text>\n",
       "</g>\n",
       "<!-- 16&#45;&gt;17 -->\n",
       "<g id=\"edge20\" class=\"edge\">\n",
       "<title>16&#45;&gt;17</title>\n",
       "<path fill=\"none\" stroke=\"black\" d=\"M138.5,-1431.6C138.5,-1423.82 138.5,-1414.8 138.5,-1406.26\"/>\n",
       "<polygon fill=\"black\" stroke=\"black\" points=\"142,-1406.46 138.5,-1396.46 135,-1406.46 142,-1406.46\"/>\n",
       "</g>\n",
       "<!-- 18 -->\n",
       "<g id=\"node19\" class=\"node\">\n",
       "<title>18</title>\n",
       "<polygon fill=\"aliceblue\" stroke=\"none\" points=\"219,-1315.5 64,-1315.5 64,-1271.5 219,-1271.5 219,-1315.5\"/>\n",
       "<polygon fill=\"none\" stroke=\"black\" points=\"64,-1271.5 64,-1315.5 110,-1315.5 110,-1271.5 64,-1271.5\"/>\n",
       "<text text-anchor=\"start\" x=\"71.25\" y=\"-1296.75\" font-family=\"Linux libertine\" font-size=\"10.00\">repeat</text>\n",
       "<text text-anchor=\"start\" x=\"68.62\" y=\"-1284\" font-family=\"Linux libertine\" font-size=\"10.00\">depth:2</text>\n",
       "<polygon fill=\"none\" stroke=\"black\" points=\"110,-1293.5 110,-1315.5 157,-1315.5 157,-1293.5 110,-1293.5\"/>\n",
       "<text text-anchor=\"start\" x=\"119.62\" y=\"-1301\" font-family=\"Linux libertine\" font-size=\"10.00\">input:</text>\n",
       "<polygon fill=\"none\" stroke=\"black\" points=\"157,-1293.5 157,-1315.5 219,-1315.5 219,-1293.5 157,-1293.5\"/>\n",
       "<text text-anchor=\"start\" x=\"164.75\" y=\"-1301\" font-family=\"Linux libertine\" font-size=\"10.00\">(1, 1, 64) </text>\n",
       "<polygon fill=\"none\" stroke=\"black\" points=\"110,-1271.5 110,-1293.5 157,-1293.5 157,-1271.5 110,-1271.5\"/>\n",
       "<text text-anchor=\"start\" x=\"114.75\" y=\"-1279\" font-family=\"Linux libertine\" font-size=\"10.00\">output: </text>\n",
       "<polygon fill=\"none\" stroke=\"black\" points=\"157,-1271.5 157,-1293.5 219,-1293.5 219,-1271.5 157,-1271.5\"/>\n",
       "<text text-anchor=\"start\" x=\"161.75\" y=\"-1279\" font-family=\"Linux libertine\" font-size=\"10.00\">(1, 22, 64) </text>\n",
       "</g>\n",
       "<!-- 17&#45;&gt;18 -->\n",
       "<g id=\"edge22\" class=\"edge\">\n",
       "<title>17&#45;&gt;18</title>\n",
       "<path fill=\"none\" stroke=\"black\" d=\"M139.3,-1351.6C139.6,-1343.82 139.95,-1334.8 140.28,-1326.26\"/>\n",
       "<polygon fill=\"black\" stroke=\"black\" points=\"143.81,-1326.59 140.69,-1316.46 136.81,-1326.32 143.81,-1326.59\"/>\n",
       "</g>\n",
       "<!-- 21 -->\n",
       "<g id=\"node22\" class=\"node\">\n",
       "<title>21</title>\n",
       "<polygon fill=\"aliceblue\" stroke=\"none\" points=\"330,-1235.5 133,-1235.5 133,-1191.5 330,-1191.5 330,-1235.5\"/>\n",
       "<polygon fill=\"none\" stroke=\"black\" points=\"133,-1191.5 133,-1235.5 203,-1235.5 203,-1191.5 133,-1191.5\"/>\n",
       "<text text-anchor=\"start\" x=\"138\" y=\"-1216.75\" font-family=\"Linux libertine\" font-size=\"10.00\">concatenate</text>\n",
       "<text text-anchor=\"start\" x=\"149.62\" y=\"-1204\" font-family=\"Linux libertine\" font-size=\"10.00\">depth:2</text>\n",
       "<polygon fill=\"none\" stroke=\"black\" points=\"203,-1213.5 203,-1235.5 250,-1235.5 250,-1213.5 203,-1213.5\"/>\n",
       "<text text-anchor=\"start\" x=\"212.62\" y=\"-1221\" font-family=\"Linux libertine\" font-size=\"10.00\">input:</text>\n",
       "<polygon fill=\"none\" stroke=\"black\" points=\"250,-1213.5 250,-1235.5 330,-1235.5 330,-1213.5 250,-1213.5\"/>\n",
       "<text text-anchor=\"start\" x=\"254.75\" y=\"-1221\" font-family=\"Linux libertine\" font-size=\"10.00\">2 x (1, 22, 64) </text>\n",
       "<polygon fill=\"none\" stroke=\"black\" points=\"203,-1191.5 203,-1213.5 250,-1213.5 250,-1191.5 203,-1191.5\"/>\n",
       "<text text-anchor=\"start\" x=\"207.75\" y=\"-1199\" font-family=\"Linux libertine\" font-size=\"10.00\">output: </text>\n",
       "<polygon fill=\"none\" stroke=\"black\" points=\"250,-1191.5 250,-1213.5 330,-1213.5 330,-1191.5 250,-1191.5\"/>\n",
       "<text text-anchor=\"start\" x=\"260.75\" y=\"-1199\" font-family=\"Linux libertine\" font-size=\"10.00\">(1, 22, 128) </text>\n",
       "</g>\n",
       "<!-- 18&#45;&gt;21 -->\n",
       "<g id=\"edge23\" class=\"edge\">\n",
       "<title>18&#45;&gt;21</title>\n",
       "<path fill=\"none\" stroke=\"black\" d=\"M165.62,-1271.6C175.91,-1262.68 188.07,-1252.14 199.13,-1242.56\"/>\n",
       "<polygon fill=\"black\" stroke=\"black\" points=\"201.05,-1244.65 206.32,-1235.46 196.47,-1239.36 201.05,-1244.65\"/>\n",
       "</g>\n",
       "<!-- 20 -->\n",
       "<g id=\"node21\" class=\"node\">\n",
       "<title>20</title>\n",
       "<polygon fill=\"#c1ffc1\" stroke=\"none\" points=\"408.5,-1315.5 238.5,-1315.5 238.5,-1271.5 408.5,-1271.5 408.5,-1315.5\"/>\n",
       "<polygon fill=\"none\" stroke=\"black\" points=\"238.5,-1271.5 238.5,-1315.5 299.5,-1315.5 299.5,-1271.5 238.5,-1271.5\"/>\n",
       "<text text-anchor=\"start\" x=\"243.5\" y=\"-1296.75\" font-family=\"Linux libertine\" font-size=\"10.00\">Dropout1d</text>\n",
       "<text text-anchor=\"start\" x=\"250.62\" y=\"-1284\" font-family=\"Linux libertine\" font-size=\"10.00\">depth:2</text>\n",
       "<polygon fill=\"none\" stroke=\"black\" points=\"299.5,-1293.5 299.5,-1315.5 346.5,-1315.5 346.5,-1293.5 299.5,-1293.5\"/>\n",
       "<text text-anchor=\"start\" x=\"309.12\" y=\"-1301\" font-family=\"Linux libertine\" font-size=\"10.00\">input:</text>\n",
       "<polygon fill=\"none\" stroke=\"black\" points=\"346.5,-1293.5 346.5,-1315.5 408.5,-1315.5 408.5,-1293.5 346.5,-1293.5\"/>\n",
       "<text text-anchor=\"start\" x=\"351.25\" y=\"-1301\" font-family=\"Linux libertine\" font-size=\"10.00\">(1, 22, 64) </text>\n",
       "<polygon fill=\"none\" stroke=\"black\" points=\"299.5,-1271.5 299.5,-1293.5 346.5,-1293.5 346.5,-1271.5 299.5,-1271.5\"/>\n",
       "<text text-anchor=\"start\" x=\"304.25\" y=\"-1279\" font-family=\"Linux libertine\" font-size=\"10.00\">output: </text>\n",
       "<polygon fill=\"none\" stroke=\"black\" points=\"346.5,-1271.5 346.5,-1293.5 408.5,-1293.5 408.5,-1271.5 346.5,-1271.5\"/>\n",
       "<text text-anchor=\"start\" x=\"351.25\" y=\"-1279\" font-family=\"Linux libertine\" font-size=\"10.00\">(1, 22, 64) </text>\n",
       "</g>\n",
       "<!-- 19&#45;&gt;20 -->\n",
       "<g id=\"edge24\" class=\"edge\">\n",
       "<title>19&#45;&gt;20</title>\n",
       "<path fill=\"none\" stroke=\"black\" d=\"M324.96,-1351.6C324.76,-1343.82 324.53,-1334.8 324.31,-1326.26\"/>\n",
       "<polygon fill=\"black\" stroke=\"black\" points=\"327.79,-1326.37 324.04,-1316.46 320.8,-1326.55 327.79,-1326.37\"/>\n",
       "</g>\n",
       "<!-- 20&#45;&gt;21 -->\n",
       "<g id=\"edge25\" class=\"edge\">\n",
       "<title>20&#45;&gt;21</title>\n",
       "<path fill=\"none\" stroke=\"black\" d=\"M298.85,-1271.6C288.33,-1262.68 275.89,-1252.14 264.59,-1242.56\"/>\n",
       "<polygon fill=\"black\" stroke=\"black\" points=\"267.11,-1239.26 257.22,-1235.46 262.59,-1244.6 267.11,-1239.26\"/>\n",
       "</g>\n",
       "<!-- 22 -->\n",
       "<g id=\"node23\" class=\"node\">\n",
       "<title>22</title>\n",
       "<polygon fill=\"#c1ffc1\" stroke=\"none\" points=\"312,-1155.5 151,-1155.5 151,-1111.5 312,-1111.5 312,-1155.5\"/>\n",
       "<polygon fill=\"none\" stroke=\"black\" points=\"151,-1111.5 151,-1155.5 197,-1155.5 197,-1111.5 151,-1111.5\"/>\n",
       "<text text-anchor=\"start\" x=\"159\" y=\"-1136.75\" font-family=\"Linux libertine\" font-size=\"10.00\">Linear</text>\n",
       "<text text-anchor=\"start\" x=\"155.62\" y=\"-1124\" font-family=\"Linux libertine\" font-size=\"10.00\">depth:2</text>\n",
       "<polygon fill=\"none\" stroke=\"black\" points=\"197,-1133.5 197,-1155.5 244,-1155.5 244,-1133.5 197,-1133.5\"/>\n",
       "<text text-anchor=\"start\" x=\"206.62\" y=\"-1141\" font-family=\"Linux libertine\" font-size=\"10.00\">input:</text>\n",
       "<polygon fill=\"none\" stroke=\"black\" points=\"244,-1133.5 244,-1155.5 312,-1155.5 312,-1133.5 244,-1133.5\"/>\n",
       "<text text-anchor=\"start\" x=\"248.75\" y=\"-1141\" font-family=\"Linux libertine\" font-size=\"10.00\">(1, 22, 128) </text>\n",
       "<polygon fill=\"none\" stroke=\"black\" points=\"197,-1111.5 197,-1133.5 244,-1133.5 244,-1111.5 197,-1111.5\"/>\n",
       "<text text-anchor=\"start\" x=\"201.75\" y=\"-1119\" font-family=\"Linux libertine\" font-size=\"10.00\">output: </text>\n",
       "<polygon fill=\"none\" stroke=\"black\" points=\"244,-1111.5 244,-1133.5 312,-1133.5 312,-1111.5 244,-1111.5\"/>\n",
       "<text text-anchor=\"start\" x=\"251.75\" y=\"-1119\" font-family=\"Linux libertine\" font-size=\"10.00\">(1, 22, 64) </text>\n",
       "</g>\n",
       "<!-- 21&#45;&gt;22 -->\n",
       "<g id=\"edge26\" class=\"edge\">\n",
       "<title>21&#45;&gt;22</title>\n",
       "<path fill=\"none\" stroke=\"black\" d=\"M231.5,-1191.6C231.5,-1183.82 231.5,-1174.8 231.5,-1166.26\"/>\n",
       "<polygon fill=\"black\" stroke=\"black\" points=\"235,-1166.46 231.5,-1156.46 228,-1166.46 235,-1166.46\"/>\n",
       "</g>\n",
       "<!-- 23 -->\n",
       "<g id=\"node24\" class=\"node\">\n",
       "<title>23</title>\n",
       "<polygon fill=\"#c1ffc1\" stroke=\"none\" points=\"388,-1075.5 215,-1075.5 215,-1031.5 388,-1031.5 388,-1075.5\"/>\n",
       "<polygon fill=\"none\" stroke=\"black\" points=\"215,-1031.5 215,-1075.5 279,-1075.5 279,-1031.5 215,-1031.5\"/>\n",
       "<text text-anchor=\"start\" x=\"220\" y=\"-1056.75\" font-family=\"Linux libertine\" font-size=\"10.00\">LayerNorm</text>\n",
       "<text text-anchor=\"start\" x=\"228.62\" y=\"-1044\" font-family=\"Linux libertine\" font-size=\"10.00\">depth:4</text>\n",
       "<polygon fill=\"none\" stroke=\"black\" points=\"279,-1053.5 279,-1075.5 326,-1075.5 326,-1053.5 279,-1053.5\"/>\n",
       "<text text-anchor=\"start\" x=\"288.62\" y=\"-1061\" font-family=\"Linux libertine\" font-size=\"10.00\">input:</text>\n",
       "<polygon fill=\"none\" stroke=\"black\" points=\"326,-1053.5 326,-1075.5 388,-1075.5 388,-1053.5 326,-1053.5\"/>\n",
       "<text text-anchor=\"start\" x=\"330.75\" y=\"-1061\" font-family=\"Linux libertine\" font-size=\"10.00\">(1, 22, 64) </text>\n",
       "<polygon fill=\"none\" stroke=\"black\" points=\"279,-1031.5 279,-1053.5 326,-1053.5 326,-1031.5 279,-1031.5\"/>\n",
       "<text text-anchor=\"start\" x=\"283.75\" y=\"-1039\" font-family=\"Linux libertine\" font-size=\"10.00\">output: </text>\n",
       "<polygon fill=\"none\" stroke=\"black\" points=\"326,-1031.5 326,-1053.5 388,-1053.5 388,-1031.5 326,-1031.5\"/>\n",
       "<text text-anchor=\"start\" x=\"330.75\" y=\"-1039\" font-family=\"Linux libertine\" font-size=\"10.00\">(1, 22, 64) </text>\n",
       "</g>\n",
       "<!-- 22&#45;&gt;23 -->\n",
       "<g id=\"edge27\" class=\"edge\">\n",
       "<title>22&#45;&gt;23</title>\n",
       "<path fill=\"none\" stroke=\"black\" d=\"M250.26,-1111.6C258.03,-1102.94 267.17,-1092.76 275.56,-1083.41\"/>\n",
       "<polygon fill=\"black\" stroke=\"black\" points=\"277.62,-1086.24 281.69,-1076.46 272.41,-1081.57 277.62,-1086.24\"/>\n",
       "</g>\n",
       "<!-- 25 -->\n",
       "<g id=\"node26\" class=\"node\">\n",
       "<title>25</title>\n",
       "<polygon fill=\"aliceblue\" stroke=\"none\" points=\"331,-915.5 158,-915.5 158,-871.5 331,-871.5 331,-915.5\"/>\n",
       "<polygon fill=\"none\" stroke=\"black\" points=\"158,-871.5 158,-915.5 204,-915.5 204,-871.5 158,-871.5\"/>\n",
       "<text text-anchor=\"start\" x=\"172\" y=\"-896.75\" font-family=\"Linux libertine\" font-size=\"10.00\">add</text>\n",
       "<text text-anchor=\"start\" x=\"162.62\" y=\"-884\" font-family=\"Linux libertine\" font-size=\"10.00\">depth:4</text>\n",
       "<polygon fill=\"none\" stroke=\"black\" points=\"204,-893.5 204,-915.5 251,-915.5 251,-893.5 204,-893.5\"/>\n",
       "<text text-anchor=\"start\" x=\"213.62\" y=\"-901\" font-family=\"Linux libertine\" font-size=\"10.00\">input:</text>\n",
       "<polygon fill=\"none\" stroke=\"black\" points=\"251,-893.5 251,-915.5 331,-915.5 331,-893.5 251,-893.5\"/>\n",
       "<text text-anchor=\"start\" x=\"255.75\" y=\"-901\" font-family=\"Linux libertine\" font-size=\"10.00\">2 x (1, 22, 64) </text>\n",
       "<polygon fill=\"none\" stroke=\"black\" points=\"204,-871.5 204,-893.5 251,-893.5 251,-871.5 204,-871.5\"/>\n",
       "<text text-anchor=\"start\" x=\"208.75\" y=\"-879\" font-family=\"Linux libertine\" font-size=\"10.00\">output: </text>\n",
       "<polygon fill=\"none\" stroke=\"black\" points=\"251,-871.5 251,-893.5 331,-893.5 331,-871.5 251,-871.5\"/>\n",
       "<text text-anchor=\"start\" x=\"264.75\" y=\"-879\" font-family=\"Linux libertine\" font-size=\"10.00\">(1, 22, 64) </text>\n",
       "</g>\n",
       "<!-- 22&#45;&gt;25 -->\n",
       "<g id=\"edge28\" class=\"edge\">\n",
       "<title>22&#45;&gt;25</title>\n",
       "<path fill=\"none\" stroke=\"black\" d=\"M219.86,-1111.55C202.38,-1077.2 173.54,-1007.18 194.5,-951.5 198.36,-941.24 205,-931.63 212.2,-923.33\"/>\n",
       "<polygon fill=\"black\" stroke=\"black\" points=\"214.25,-926.19 218.5,-916.48 209.13,-921.42 214.25,-926.19\"/>\n",
       "</g>\n",
       "<!-- 24 -->\n",
       "<g id=\"node25\" class=\"node\">\n",
       "<title>24</title>\n",
       "<polygon fill=\"#c1ffc1\" stroke=\"none\" points=\"426,-995.5 203,-995.5 203,-951.5 426,-951.5 426,-995.5\"/>\n",
       "<polygon fill=\"none\" stroke=\"black\" points=\"203,-951.5 203,-995.5 249,-995.5 249,-951.5 203,-951.5\"/>\n",
       "<text text-anchor=\"start\" x=\"212.88\" y=\"-976.75\" font-family=\"Linux libertine\" font-size=\"10.00\">LSTM</text>\n",
       "<text text-anchor=\"start\" x=\"207.62\" y=\"-964\" font-family=\"Linux libertine\" font-size=\"10.00\">depth:4</text>\n",
       "<polygon fill=\"none\" stroke=\"black\" points=\"249,-973.5 249,-995.5 296,-995.5 296,-973.5 249,-973.5\"/>\n",
       "<text text-anchor=\"start\" x=\"258.62\" y=\"-981\" font-family=\"Linux libertine\" font-size=\"10.00\">input:</text>\n",
       "<polygon fill=\"none\" stroke=\"black\" points=\"296,-973.5 296,-995.5 426,-995.5 426,-973.5 296,-973.5\"/>\n",
       "<text text-anchor=\"start\" x=\"334.75\" y=\"-981\" font-family=\"Linux libertine\" font-size=\"10.00\">(1, 22, 64) </text>\n",
       "<polygon fill=\"none\" stroke=\"black\" points=\"249,-951.5 249,-973.5 296,-973.5 296,-951.5 249,-951.5\"/>\n",
       "<text text-anchor=\"start\" x=\"253.75\" y=\"-959\" font-family=\"Linux libertine\" font-size=\"10.00\">output: </text>\n",
       "<polygon fill=\"none\" stroke=\"black\" points=\"296,-951.5 296,-973.5 426,-973.5 426,-951.5 296,-951.5\"/>\n",
       "<text text-anchor=\"start\" x=\"301\" y=\"-959\" font-family=\"Linux libertine\" font-size=\"10.00\">(1, 22, 64), 2 x (1, 1, 64) </text>\n",
       "</g>\n",
       "<!-- 23&#45;&gt;24 -->\n",
       "<g id=\"edge29\" class=\"edge\">\n",
       "<title>23&#45;&gt;24</title>\n",
       "<path fill=\"none\" stroke=\"black\" d=\"M304.98,-1031.6C306.28,-1023.82 307.78,-1014.8 309.21,-1006.26\"/>\n",
       "<polygon fill=\"black\" stroke=\"black\" points=\"312.81,-1006.9 311.01,-996.46 305.91,-1005.75 312.81,-1006.9\"/>\n",
       "</g>\n",
       "<!-- 24&#45;&gt;25 -->\n",
       "<g id=\"edge30\" class=\"edge\">\n",
       "<title>24&#45;&gt;25</title>\n",
       "<path fill=\"none\" stroke=\"black\" d=\"M295.74,-951.6C287.97,-942.94 278.83,-932.76 270.44,-923.41\"/>\n",
       "<polygon fill=\"black\" stroke=\"black\" points=\"273.59,-921.57 264.31,-916.46 268.38,-926.24 273.59,-921.57\"/>\n",
       "</g>\n",
       "<!-- 26 -->\n",
       "<g id=\"node27\" class=\"node\">\n",
       "<title>26</title>\n",
       "<polygon fill=\"#c1ffc1\" stroke=\"none\" points=\"401,-835.5 228,-835.5 228,-791.5 401,-791.5 401,-835.5\"/>\n",
       "<polygon fill=\"none\" stroke=\"black\" points=\"228,-791.5 228,-835.5 292,-835.5 292,-791.5 228,-791.5\"/>\n",
       "<text text-anchor=\"start\" x=\"233\" y=\"-816.75\" font-family=\"Linux libertine\" font-size=\"10.00\">LayerNorm</text>\n",
       "<text text-anchor=\"start\" x=\"241.62\" y=\"-804\" font-family=\"Linux libertine\" font-size=\"10.00\">depth:4</text>\n",
       "<polygon fill=\"none\" stroke=\"black\" points=\"292,-813.5 292,-835.5 339,-835.5 339,-813.5 292,-813.5\"/>\n",
       "<text text-anchor=\"start\" x=\"301.62\" y=\"-821\" font-family=\"Linux libertine\" font-size=\"10.00\">input:</text>\n",
       "<polygon fill=\"none\" stroke=\"black\" points=\"339,-813.5 339,-835.5 401,-835.5 401,-813.5 339,-813.5\"/>\n",
       "<text text-anchor=\"start\" x=\"343.75\" y=\"-821\" font-family=\"Linux libertine\" font-size=\"10.00\">(1, 22, 64) </text>\n",
       "<polygon fill=\"none\" stroke=\"black\" points=\"292,-791.5 292,-813.5 339,-813.5 339,-791.5 292,-791.5\"/>\n",
       "<text text-anchor=\"start\" x=\"296.75\" y=\"-799\" font-family=\"Linux libertine\" font-size=\"10.00\">output: </text>\n",
       "<polygon fill=\"none\" stroke=\"black\" points=\"339,-791.5 339,-813.5 401,-813.5 401,-791.5 339,-791.5\"/>\n",
       "<text text-anchor=\"start\" x=\"343.75\" y=\"-799\" font-family=\"Linux libertine\" font-size=\"10.00\">(1, 22, 64) </text>\n",
       "</g>\n",
       "<!-- 25&#45;&gt;26 -->\n",
       "<g id=\"edge31\" class=\"edge\">\n",
       "<title>25&#45;&gt;26</title>\n",
       "<path fill=\"none\" stroke=\"black\" d=\"M263.26,-871.6C271.03,-862.94 280.17,-852.76 288.56,-843.41\"/>\n",
       "<polygon fill=\"black\" stroke=\"black\" points=\"290.62,-846.24 294.69,-836.46 285.41,-841.57 290.62,-846.24\"/>\n",
       "</g>\n",
       "<!-- 28 -->\n",
       "<g id=\"node29\" class=\"node\">\n",
       "<title>28</title>\n",
       "<polygon fill=\"aliceblue\" stroke=\"none\" points=\"344,-675.5 171,-675.5 171,-631.5 344,-631.5 344,-675.5\"/>\n",
       "<polygon fill=\"none\" stroke=\"black\" points=\"171,-631.5 171,-675.5 217,-675.5 217,-631.5 171,-631.5\"/>\n",
       "<text text-anchor=\"start\" x=\"185\" y=\"-656.75\" font-family=\"Linux libertine\" font-size=\"10.00\">add</text>\n",
       "<text text-anchor=\"start\" x=\"175.62\" y=\"-644\" font-family=\"Linux libertine\" font-size=\"10.00\">depth:4</text>\n",
       "<polygon fill=\"none\" stroke=\"black\" points=\"217,-653.5 217,-675.5 264,-675.5 264,-653.5 217,-653.5\"/>\n",
       "<text text-anchor=\"start\" x=\"226.62\" y=\"-661\" font-family=\"Linux libertine\" font-size=\"10.00\">input:</text>\n",
       "<polygon fill=\"none\" stroke=\"black\" points=\"264,-653.5 264,-675.5 344,-675.5 344,-653.5 264,-653.5\"/>\n",
       "<text text-anchor=\"start\" x=\"268.75\" y=\"-661\" font-family=\"Linux libertine\" font-size=\"10.00\">2 x (1, 22, 64) </text>\n",
       "<polygon fill=\"none\" stroke=\"black\" points=\"217,-631.5 217,-653.5 264,-653.5 264,-631.5 217,-631.5\"/>\n",
       "<text text-anchor=\"start\" x=\"221.75\" y=\"-639\" font-family=\"Linux libertine\" font-size=\"10.00\">output: </text>\n",
       "<polygon fill=\"none\" stroke=\"black\" points=\"264,-631.5 264,-653.5 344,-653.5 344,-631.5 264,-631.5\"/>\n",
       "<text text-anchor=\"start\" x=\"277.75\" y=\"-639\" font-family=\"Linux libertine\" font-size=\"10.00\">(1, 22, 64) </text>\n",
       "</g>\n",
       "<!-- 25&#45;&gt;28 -->\n",
       "<g id=\"edge32\" class=\"edge\">\n",
       "<title>25&#45;&gt;28</title>\n",
       "<path fill=\"none\" stroke=\"black\" d=\"M232.86,-871.55C215.38,-837.2 186.54,-767.18 207.5,-711.5 211.36,-701.24 218,-691.63 225.2,-683.33\"/>\n",
       "<polygon fill=\"black\" stroke=\"black\" points=\"227.25,-686.19 231.5,-676.48 222.13,-681.42 227.25,-686.19\"/>\n",
       "</g>\n",
       "<!-- 27 -->\n",
       "<g id=\"node28\" class=\"node\">\n",
       "<title>27</title>\n",
       "<polygon fill=\"#c1ffc1\" stroke=\"none\" points=\"439,-755.5 216,-755.5 216,-711.5 439,-711.5 439,-755.5\"/>\n",
       "<polygon fill=\"none\" stroke=\"black\" points=\"216,-711.5 216,-755.5 262,-755.5 262,-711.5 216,-711.5\"/>\n",
       "<text text-anchor=\"start\" x=\"225.88\" y=\"-736.75\" font-family=\"Linux libertine\" font-size=\"10.00\">LSTM</text>\n",
       "<text text-anchor=\"start\" x=\"220.62\" y=\"-724\" font-family=\"Linux libertine\" font-size=\"10.00\">depth:4</text>\n",
       "<polygon fill=\"none\" stroke=\"black\" points=\"262,-733.5 262,-755.5 309,-755.5 309,-733.5 262,-733.5\"/>\n",
       "<text text-anchor=\"start\" x=\"271.62\" y=\"-741\" font-family=\"Linux libertine\" font-size=\"10.00\">input:</text>\n",
       "<polygon fill=\"none\" stroke=\"black\" points=\"309,-733.5 309,-755.5 439,-755.5 439,-733.5 309,-733.5\"/>\n",
       "<text text-anchor=\"start\" x=\"347.75\" y=\"-741\" font-family=\"Linux libertine\" font-size=\"10.00\">(1, 22, 64) </text>\n",
       "<polygon fill=\"none\" stroke=\"black\" points=\"262,-711.5 262,-733.5 309,-733.5 309,-711.5 262,-711.5\"/>\n",
       "<text text-anchor=\"start\" x=\"266.75\" y=\"-719\" font-family=\"Linux libertine\" font-size=\"10.00\">output: </text>\n",
       "<polygon fill=\"none\" stroke=\"black\" points=\"309,-711.5 309,-733.5 439,-733.5 439,-711.5 309,-711.5\"/>\n",
       "<text text-anchor=\"start\" x=\"314\" y=\"-719\" font-family=\"Linux libertine\" font-size=\"10.00\">(1, 22, 64), 2 x (1, 1, 64) </text>\n",
       "</g>\n",
       "<!-- 26&#45;&gt;27 -->\n",
       "<g id=\"edge33\" class=\"edge\">\n",
       "<title>26&#45;&gt;27</title>\n",
       "<path fill=\"none\" stroke=\"black\" d=\"M317.98,-791.6C319.28,-783.82 320.78,-774.8 322.21,-766.26\"/>\n",
       "<polygon fill=\"black\" stroke=\"black\" points=\"325.81,-766.9 324.01,-756.46 318.91,-765.75 325.81,-766.9\"/>\n",
       "</g>\n",
       "<!-- 27&#45;&gt;28 -->\n",
       "<g id=\"edge34\" class=\"edge\">\n",
       "<title>27&#45;&gt;28</title>\n",
       "<path fill=\"none\" stroke=\"black\" d=\"M308.74,-711.6C300.97,-702.94 291.83,-692.76 283.44,-683.41\"/>\n",
       "<polygon fill=\"black\" stroke=\"black\" points=\"286.59,-681.57 277.31,-676.46 281.38,-686.24 286.59,-681.57\"/>\n",
       "</g>\n",
       "<!-- 29 -->\n",
       "<g id=\"node30\" class=\"node\">\n",
       "<title>29</title>\n",
       "<polygon fill=\"#c1ffc1\" stroke=\"none\" points=\"414,-595.5 241,-595.5 241,-551.5 414,-551.5 414,-595.5\"/>\n",
       "<polygon fill=\"none\" stroke=\"black\" points=\"241,-551.5 241,-595.5 305,-595.5 305,-551.5 241,-551.5\"/>\n",
       "<text text-anchor=\"start\" x=\"246\" y=\"-576.75\" font-family=\"Linux libertine\" font-size=\"10.00\">LayerNorm</text>\n",
       "<text text-anchor=\"start\" x=\"254.62\" y=\"-564\" font-family=\"Linux libertine\" font-size=\"10.00\">depth:4</text>\n",
       "<polygon fill=\"none\" stroke=\"black\" points=\"305,-573.5 305,-595.5 352,-595.5 352,-573.5 305,-573.5\"/>\n",
       "<text text-anchor=\"start\" x=\"314.62\" y=\"-581\" font-family=\"Linux libertine\" font-size=\"10.00\">input:</text>\n",
       "<polygon fill=\"none\" stroke=\"black\" points=\"352,-573.5 352,-595.5 414,-595.5 414,-573.5 352,-573.5\"/>\n",
       "<text text-anchor=\"start\" x=\"356.75\" y=\"-581\" font-family=\"Linux libertine\" font-size=\"10.00\">(1, 22, 64) </text>\n",
       "<polygon fill=\"none\" stroke=\"black\" points=\"305,-551.5 305,-573.5 352,-573.5 352,-551.5 305,-551.5\"/>\n",
       "<text text-anchor=\"start\" x=\"309.75\" y=\"-559\" font-family=\"Linux libertine\" font-size=\"10.00\">output: </text>\n",
       "<polygon fill=\"none\" stroke=\"black\" points=\"352,-551.5 352,-573.5 414,-573.5 414,-551.5 352,-551.5\"/>\n",
       "<text text-anchor=\"start\" x=\"356.75\" y=\"-559\" font-family=\"Linux libertine\" font-size=\"10.00\">(1, 22, 64) </text>\n",
       "</g>\n",
       "<!-- 28&#45;&gt;29 -->\n",
       "<g id=\"edge35\" class=\"edge\">\n",
       "<title>28&#45;&gt;29</title>\n",
       "<path fill=\"none\" stroke=\"black\" d=\"M276.26,-631.6C284.03,-622.94 293.17,-612.76 301.56,-603.41\"/>\n",
       "<polygon fill=\"black\" stroke=\"black\" points=\"303.62,-606.24 307.69,-596.46 298.41,-601.57 303.62,-606.24\"/>\n",
       "</g>\n",
       "<!-- 31 -->\n",
       "<g id=\"node32\" class=\"node\">\n",
       "<title>31</title>\n",
       "<polygon fill=\"aliceblue\" stroke=\"none\" points=\"357,-435.5 184,-435.5 184,-391.5 357,-391.5 357,-435.5\"/>\n",
       "<polygon fill=\"none\" stroke=\"black\" points=\"184,-391.5 184,-435.5 230,-435.5 230,-391.5 184,-391.5\"/>\n",
       "<text text-anchor=\"start\" x=\"198\" y=\"-416.75\" font-family=\"Linux libertine\" font-size=\"10.00\">add</text>\n",
       "<text text-anchor=\"start\" x=\"188.62\" y=\"-404\" font-family=\"Linux libertine\" font-size=\"10.00\">depth:4</text>\n",
       "<polygon fill=\"none\" stroke=\"black\" points=\"230,-413.5 230,-435.5 277,-435.5 277,-413.5 230,-413.5\"/>\n",
       "<text text-anchor=\"start\" x=\"239.62\" y=\"-421\" font-family=\"Linux libertine\" font-size=\"10.00\">input:</text>\n",
       "<polygon fill=\"none\" stroke=\"black\" points=\"277,-413.5 277,-435.5 357,-435.5 357,-413.5 277,-413.5\"/>\n",
       "<text text-anchor=\"start\" x=\"281.75\" y=\"-421\" font-family=\"Linux libertine\" font-size=\"10.00\">2 x (1, 22, 64) </text>\n",
       "<polygon fill=\"none\" stroke=\"black\" points=\"230,-391.5 230,-413.5 277,-413.5 277,-391.5 230,-391.5\"/>\n",
       "<text text-anchor=\"start\" x=\"234.75\" y=\"-399\" font-family=\"Linux libertine\" font-size=\"10.00\">output: </text>\n",
       "<polygon fill=\"none\" stroke=\"black\" points=\"277,-391.5 277,-413.5 357,-413.5 357,-391.5 277,-391.5\"/>\n",
       "<text text-anchor=\"start\" x=\"290.75\" y=\"-399\" font-family=\"Linux libertine\" font-size=\"10.00\">(1, 22, 64) </text>\n",
       "</g>\n",
       "<!-- 28&#45;&gt;31 -->\n",
       "<g id=\"edge36\" class=\"edge\">\n",
       "<title>28&#45;&gt;31</title>\n",
       "<path fill=\"none\" stroke=\"black\" d=\"M245.86,-631.55C228.38,-597.2 199.54,-527.18 220.5,-471.5 224.36,-461.24 231,-451.63 238.2,-443.33\"/>\n",
       "<polygon fill=\"black\" stroke=\"black\" points=\"240.25,-446.19 244.5,-436.48 235.13,-441.42 240.25,-446.19\"/>\n",
       "</g>\n",
       "<!-- 30 -->\n",
       "<g id=\"node31\" class=\"node\">\n",
       "<title>30</title>\n",
       "<polygon fill=\"#c1ffc1\" stroke=\"none\" points=\"452,-515.5 229,-515.5 229,-471.5 452,-471.5 452,-515.5\"/>\n",
       "<polygon fill=\"none\" stroke=\"black\" points=\"229,-471.5 229,-515.5 275,-515.5 275,-471.5 229,-471.5\"/>\n",
       "<text text-anchor=\"start\" x=\"238.88\" y=\"-496.75\" font-family=\"Linux libertine\" font-size=\"10.00\">LSTM</text>\n",
       "<text text-anchor=\"start\" x=\"233.62\" y=\"-484\" font-family=\"Linux libertine\" font-size=\"10.00\">depth:4</text>\n",
       "<polygon fill=\"none\" stroke=\"black\" points=\"275,-493.5 275,-515.5 322,-515.5 322,-493.5 275,-493.5\"/>\n",
       "<text text-anchor=\"start\" x=\"284.62\" y=\"-501\" font-family=\"Linux libertine\" font-size=\"10.00\">input:</text>\n",
       "<polygon fill=\"none\" stroke=\"black\" points=\"322,-493.5 322,-515.5 452,-515.5 452,-493.5 322,-493.5\"/>\n",
       "<text text-anchor=\"start\" x=\"360.75\" y=\"-501\" font-family=\"Linux libertine\" font-size=\"10.00\">(1, 22, 64) </text>\n",
       "<polygon fill=\"none\" stroke=\"black\" points=\"275,-471.5 275,-493.5 322,-493.5 322,-471.5 275,-471.5\"/>\n",
       "<text text-anchor=\"start\" x=\"279.75\" y=\"-479\" font-family=\"Linux libertine\" font-size=\"10.00\">output: </text>\n",
       "<polygon fill=\"none\" stroke=\"black\" points=\"322,-471.5 322,-493.5 452,-493.5 452,-471.5 322,-471.5\"/>\n",
       "<text text-anchor=\"start\" x=\"327\" y=\"-479\" font-family=\"Linux libertine\" font-size=\"10.00\">(1, 22, 64), 2 x (1, 1, 64) </text>\n",
       "</g>\n",
       "<!-- 29&#45;&gt;30 -->\n",
       "<g id=\"edge37\" class=\"edge\">\n",
       "<title>29&#45;&gt;30</title>\n",
       "<path fill=\"none\" stroke=\"black\" d=\"M330.98,-551.6C332.28,-543.82 333.78,-534.8 335.21,-526.26\"/>\n",
       "<polygon fill=\"black\" stroke=\"black\" points=\"338.81,-526.9 337.01,-516.46 331.91,-525.75 338.81,-526.9\"/>\n",
       "</g>\n",
       "<!-- 30&#45;&gt;31 -->\n",
       "<g id=\"edge38\" class=\"edge\">\n",
       "<title>30&#45;&gt;31</title>\n",
       "<path fill=\"none\" stroke=\"black\" d=\"M321.74,-471.6C313.97,-462.94 304.83,-452.76 296.44,-443.41\"/>\n",
       "<polygon fill=\"black\" stroke=\"black\" points=\"299.59,-441.57 290.31,-436.46 294.38,-446.24 299.59,-441.57\"/>\n",
       "</g>\n",
       "<!-- 32 -->\n",
       "<g id=\"node33\" class=\"node\">\n",
       "<title>32</title>\n",
       "<polygon fill=\"#c1ffc1\" stroke=\"none\" points=\"427,-355.5 254,-355.5 254,-311.5 427,-311.5 427,-355.5\"/>\n",
       "<polygon fill=\"none\" stroke=\"black\" points=\"254,-311.5 254,-355.5 318,-355.5 318,-311.5 254,-311.5\"/>\n",
       "<text text-anchor=\"start\" x=\"259\" y=\"-336.75\" font-family=\"Linux libertine\" font-size=\"10.00\">LayerNorm</text>\n",
       "<text text-anchor=\"start\" x=\"267.62\" y=\"-324\" font-family=\"Linux libertine\" font-size=\"10.00\">depth:4</text>\n",
       "<polygon fill=\"none\" stroke=\"black\" points=\"318,-333.5 318,-355.5 365,-355.5 365,-333.5 318,-333.5\"/>\n",
       "<text text-anchor=\"start\" x=\"327.62\" y=\"-341\" font-family=\"Linux libertine\" font-size=\"10.00\">input:</text>\n",
       "<polygon fill=\"none\" stroke=\"black\" points=\"365,-333.5 365,-355.5 427,-355.5 427,-333.5 365,-333.5\"/>\n",
       "<text text-anchor=\"start\" x=\"369.75\" y=\"-341\" font-family=\"Linux libertine\" font-size=\"10.00\">(1, 22, 64) </text>\n",
       "<polygon fill=\"none\" stroke=\"black\" points=\"318,-311.5 318,-333.5 365,-333.5 365,-311.5 318,-311.5\"/>\n",
       "<text text-anchor=\"start\" x=\"322.75\" y=\"-319\" font-family=\"Linux libertine\" font-size=\"10.00\">output: </text>\n",
       "<polygon fill=\"none\" stroke=\"black\" points=\"365,-311.5 365,-333.5 427,-333.5 427,-311.5 365,-311.5\"/>\n",
       "<text text-anchor=\"start\" x=\"369.75\" y=\"-319\" font-family=\"Linux libertine\" font-size=\"10.00\">(1, 22, 64) </text>\n",
       "</g>\n",
       "<!-- 31&#45;&gt;32 -->\n",
       "<g id=\"edge39\" class=\"edge\">\n",
       "<title>31&#45;&gt;32</title>\n",
       "<path fill=\"none\" stroke=\"black\" d=\"M289.26,-391.6C297.03,-382.94 306.17,-372.76 314.56,-363.41\"/>\n",
       "<polygon fill=\"black\" stroke=\"black\" points=\"316.62,-366.24 320.69,-356.46 311.41,-361.57 316.62,-366.24\"/>\n",
       "</g>\n",
       "<!-- 34 -->\n",
       "<g id=\"node35\" class=\"node\">\n",
       "<title>34</title>\n",
       "<polygon fill=\"aliceblue\" stroke=\"none\" points=\"370,-195.5 197,-195.5 197,-151.5 370,-151.5 370,-195.5\"/>\n",
       "<polygon fill=\"none\" stroke=\"black\" points=\"197,-151.5 197,-195.5 243,-195.5 243,-151.5 197,-151.5\"/>\n",
       "<text text-anchor=\"start\" x=\"211\" y=\"-176.75\" font-family=\"Linux libertine\" font-size=\"10.00\">add</text>\n",
       "<text text-anchor=\"start\" x=\"201.62\" y=\"-164\" font-family=\"Linux libertine\" font-size=\"10.00\">depth:4</text>\n",
       "<polygon fill=\"none\" stroke=\"black\" points=\"243,-173.5 243,-195.5 290,-195.5 290,-173.5 243,-173.5\"/>\n",
       "<text text-anchor=\"start\" x=\"252.62\" y=\"-181\" font-family=\"Linux libertine\" font-size=\"10.00\">input:</text>\n",
       "<polygon fill=\"none\" stroke=\"black\" points=\"290,-173.5 290,-195.5 370,-195.5 370,-173.5 290,-173.5\"/>\n",
       "<text text-anchor=\"start\" x=\"294.75\" y=\"-181\" font-family=\"Linux libertine\" font-size=\"10.00\">2 x (1, 22, 64) </text>\n",
       "<polygon fill=\"none\" stroke=\"black\" points=\"243,-151.5 243,-173.5 290,-173.5 290,-151.5 243,-151.5\"/>\n",
       "<text text-anchor=\"start\" x=\"247.75\" y=\"-159\" font-family=\"Linux libertine\" font-size=\"10.00\">output: </text>\n",
       "<polygon fill=\"none\" stroke=\"black\" points=\"290,-151.5 290,-173.5 370,-173.5 370,-151.5 290,-151.5\"/>\n",
       "<text text-anchor=\"start\" x=\"303.75\" y=\"-159\" font-family=\"Linux libertine\" font-size=\"10.00\">(1, 22, 64) </text>\n",
       "</g>\n",
       "<!-- 31&#45;&gt;34 -->\n",
       "<g id=\"edge40\" class=\"edge\">\n",
       "<title>31&#45;&gt;34</title>\n",
       "<path fill=\"none\" stroke=\"black\" d=\"M258.86,-391.55C241.38,-357.2 212.54,-287.18 233.5,-231.5 237.36,-221.24 244,-211.63 251.2,-203.33\"/>\n",
       "<polygon fill=\"black\" stroke=\"black\" points=\"253.25,-206.19 257.5,-196.48 248.13,-201.42 253.25,-206.19\"/>\n",
       "</g>\n",
       "<!-- 33 -->\n",
       "<g id=\"node34\" class=\"node\">\n",
       "<title>33</title>\n",
       "<polygon fill=\"#c1ffc1\" stroke=\"none\" points=\"465,-275.5 242,-275.5 242,-231.5 465,-231.5 465,-275.5\"/>\n",
       "<polygon fill=\"none\" stroke=\"black\" points=\"242,-231.5 242,-275.5 288,-275.5 288,-231.5 242,-231.5\"/>\n",
       "<text text-anchor=\"start\" x=\"251.88\" y=\"-256.75\" font-family=\"Linux libertine\" font-size=\"10.00\">LSTM</text>\n",
       "<text text-anchor=\"start\" x=\"246.62\" y=\"-244\" font-family=\"Linux libertine\" font-size=\"10.00\">depth:4</text>\n",
       "<polygon fill=\"none\" stroke=\"black\" points=\"288,-253.5 288,-275.5 335,-275.5 335,-253.5 288,-253.5\"/>\n",
       "<text text-anchor=\"start\" x=\"297.62\" y=\"-261\" font-family=\"Linux libertine\" font-size=\"10.00\">input:</text>\n",
       "<polygon fill=\"none\" stroke=\"black\" points=\"335,-253.5 335,-275.5 465,-275.5 465,-253.5 335,-253.5\"/>\n",
       "<text text-anchor=\"start\" x=\"373.75\" y=\"-261\" font-family=\"Linux libertine\" font-size=\"10.00\">(1, 22, 64) </text>\n",
       "<polygon fill=\"none\" stroke=\"black\" points=\"288,-231.5 288,-253.5 335,-253.5 335,-231.5 288,-231.5\"/>\n",
       "<text text-anchor=\"start\" x=\"292.75\" y=\"-239\" font-family=\"Linux libertine\" font-size=\"10.00\">output: </text>\n",
       "<polygon fill=\"none\" stroke=\"black\" points=\"335,-231.5 335,-253.5 465,-253.5 465,-231.5 335,-231.5\"/>\n",
       "<text text-anchor=\"start\" x=\"340\" y=\"-239\" font-family=\"Linux libertine\" font-size=\"10.00\">(1, 22, 64), 2 x (1, 1, 64) </text>\n",
       "</g>\n",
       "<!-- 32&#45;&gt;33 -->\n",
       "<g id=\"edge41\" class=\"edge\">\n",
       "<title>32&#45;&gt;33</title>\n",
       "<path fill=\"none\" stroke=\"black\" d=\"M343.98,-311.6C345.28,-303.82 346.78,-294.8 348.21,-286.26\"/>\n",
       "<polygon fill=\"black\" stroke=\"black\" points=\"351.81,-286.9 350.01,-276.46 344.91,-285.75 351.81,-286.9\"/>\n",
       "</g>\n",
       "<!-- 33&#45;&gt;34 -->\n",
       "<g id=\"edge42\" class=\"edge\">\n",
       "<title>33&#45;&gt;34</title>\n",
       "<path fill=\"none\" stroke=\"black\" d=\"M334.74,-231.6C326.97,-222.94 317.83,-212.76 309.44,-203.41\"/>\n",
       "<polygon fill=\"black\" stroke=\"black\" points=\"312.59,-201.57 303.31,-196.46 307.38,-206.24 312.59,-201.57\"/>\n",
       "</g>\n",
       "<!-- 35 -->\n",
       "<g id=\"node36\" class=\"node\">\n",
       "<title>35</title>\n",
       "<polygon fill=\"#c1ffc1\" stroke=\"none\" points=\"361,-115.5 206,-115.5 206,-71.5 361,-71.5 361,-115.5\"/>\n",
       "<polygon fill=\"none\" stroke=\"black\" points=\"206,-71.5 206,-115.5 252,-115.5 252,-71.5 206,-71.5\"/>\n",
       "<text text-anchor=\"start\" x=\"214\" y=\"-96.75\" font-family=\"Linux libertine\" font-size=\"10.00\">Linear</text>\n",
       "<text text-anchor=\"start\" x=\"210.62\" y=\"-84\" font-family=\"Linux libertine\" font-size=\"10.00\">depth:2</text>\n",
       "<polygon fill=\"none\" stroke=\"black\" points=\"252,-93.5 252,-115.5 299,-115.5 299,-93.5 252,-93.5\"/>\n",
       "<text text-anchor=\"start\" x=\"261.62\" y=\"-101\" font-family=\"Linux libertine\" font-size=\"10.00\">input:</text>\n",
       "<polygon fill=\"none\" stroke=\"black\" points=\"299,-93.5 299,-115.5 361,-115.5 361,-93.5 299,-93.5\"/>\n",
       "<text text-anchor=\"start\" x=\"303.75\" y=\"-101\" font-family=\"Linux libertine\" font-size=\"10.00\">(1, 22, 64) </text>\n",
       "<polygon fill=\"none\" stroke=\"black\" points=\"252,-71.5 252,-93.5 299,-93.5 299,-71.5 252,-71.5\"/>\n",
       "<text text-anchor=\"start\" x=\"256.75\" y=\"-79\" font-family=\"Linux libertine\" font-size=\"10.00\">output: </text>\n",
       "<polygon fill=\"none\" stroke=\"black\" points=\"299,-71.5 299,-93.5 361,-93.5 361,-71.5 299,-71.5\"/>\n",
       "<text text-anchor=\"start\" x=\"303.75\" y=\"-79\" font-family=\"Linux libertine\" font-size=\"10.00\">(1, 22, 56) </text>\n",
       "</g>\n",
       "<!-- 34&#45;&gt;35 -->\n",
       "<g id=\"edge43\" class=\"edge\">\n",
       "<title>34&#45;&gt;35</title>\n",
       "<path fill=\"none\" stroke=\"black\" d=\"M283.5,-151.6C283.5,-143.82 283.5,-134.8 283.5,-126.26\"/>\n",
       "<polygon fill=\"black\" stroke=\"black\" points=\"287,-126.46 283.5,-116.46 280,-126.46 287,-126.46\"/>\n",
       "</g>\n",
       "<!-- 36 -->\n",
       "<g id=\"node37\" class=\"node\">\n",
       "<title>36</title>\n",
       "<polygon fill=\"lightyellow\" stroke=\"none\" points=\"351.25,-35.5 215.75,-35.5 215.75,0 351.25,0 351.25,-35.5\"/>\n",
       "<polygon fill=\"none\" stroke=\"black\" points=\"215.75,0 215.75,-35.5 291.75,-35.5 291.75,0 215.75,0\"/>\n",
       "<text text-anchor=\"start\" x=\"220.75\" y=\"-21\" font-family=\"Linux libertine\" font-size=\"10.00\">output&#45;tensor</text>\n",
       "<text text-anchor=\"start\" x=\"235.38\" y=\"-8.25\" font-family=\"Linux libertine\" font-size=\"10.00\">depth:0</text>\n",
       "<polygon fill=\"none\" stroke=\"black\" points=\"291.75,0 291.75,-35.5 351.25,-35.5 351.25,0 291.75,0\"/>\n",
       "<text text-anchor=\"start\" x=\"296.75\" y=\"-14.62\" font-family=\"Linux libertine\" font-size=\"10.00\">(1, 22, 56)</text>\n",
       "</g>\n",
       "<!-- 35&#45;&gt;36 -->\n",
       "<g id=\"edge44\" class=\"edge\">\n",
       "<title>35&#45;&gt;36</title>\n",
       "<path fill=\"none\" stroke=\"black\" d=\"M283.5,-71.56C283.5,-63.6 283.5,-54.41 283.5,-45.95\"/>\n",
       "<polygon fill=\"black\" stroke=\"black\" points=\"287,-46.05 283.5,-36.05 280,-46.05 287,-46.05\"/>\n",
       "</g>\n",
       "</g>\n",
       "</svg>\n"
      ],
      "text/plain": [
       "<graphviz.graphs.Digraph at 0x7fad83064410>"
      ]
     },
     "execution_count": 34,
     "metadata": {},
     "output_type": "execute_result"
    }
   ],
   "source": [
    "model_graph = draw_graph(enc_dec_net,\n",
    "                         input_data=[torch.Tensor(enc_x_train[0:1]).long(),\n",
    "                                     torch.Tensor(dec_x_train[0:1]).long()], \n",
    "                         device=device,\n",
    "                         hide_inner_tensors=True,\n",
    "                         hide_module_functions=True, \n",
    "                         expand_nested=False, \n",
    "                         depth=4, \n",
    "                         dtypes=[torch.long])\n",
    "\n",
    "model_graph.visual_graph"
   ]
  },
  {
   "cell_type": "code",
   "execution_count": 35,
   "id": "e9579c2c-3839-4636-b2cc-1d6aadcb55fb",
   "metadata": {},
   "outputs": [
    {
     "name": "stderr",
     "output_type": "stream",
     "text": [
      "/opt/conda/lib/python3.11/site-packages/torch/utils/data/dataloader.py:560: UserWarning: This DataLoader will create 8 worker processes in total. Our suggested max number of worker in current system is 2, which is smaller than what this DataLoader is going to create. Please be aware that excessive worker creation might get DataLoader running slow or even freeze, lower the worker number to avoid potential slowness/freeze if necessary.\n",
      "  warnings.warn(_create_warning_msg(\n"
     ]
    }
   ],
   "source": [
    "batch_size = 20\n",
    "xy_train = torch.utils.data.DataLoader(list(zip(torch.Tensor(enc_x_train).long(),\n",
    "                                                torch.Tensor(dec_x_train).long(),\n",
    "                                                torch.Tensor(dec_y_train).long())), \n",
    "                                       shuffle=True, \n",
    "                                       batch_size=batch_size, \n",
    "                                       num_workers=8)\n",
    "\n",
    "xy_val = torch.utils.data.DataLoader(list(zip(torch.Tensor(enc_x_val).long(), \n",
    "                                              torch.Tensor(dec_x_val).long(),\n",
    "                                              torch.Tensor(dec_y_val).long())), \n",
    "                                     shuffle=False, \n",
    "                                     batch_size=batch_size, \n",
    "                                     num_workers=8)"
   ]
  },
  {
   "cell_type": "code",
   "execution_count": 36,
   "id": "4f0f8c66-51ac-4d77-a3dd-c9ce853636e2",
   "metadata": {},
   "outputs": [],
   "source": [
    "logger = pl.loggers.CSVLogger(\"lightning_logs\", \n",
    "                              name=\"Open_Lab_4\",\n",
    "                              version=\"demo-0\")"
   ]
  },
  {
   "cell_type": "code",
   "execution_count": 37,
   "id": "2c98c812-167e-4f80-bb70-a990cf7dfa10",
   "metadata": {},
   "outputs": [
    {
     "name": "stderr",
     "output_type": "stream",
     "text": [
      "GPU available: True (cuda), used: True\n",
      "TPU available: False, using: 0 TPU cores\n",
      "IPU available: False, using: 0 IPUs\n",
      "HPU available: False, using: 0 HPUs\n"
     ]
    }
   ],
   "source": [
    "trainer = pl.Trainer(logger=logger, max_epochs=300,\n",
    "                     enable_progress_bar=True,\n",
    "                     log_every_n_steps=0,\n",
    "                     enable_checkpointing=False, \n",
    "                     callbacks=[pl.callbacks.TQDMProgressBar(refresh_rate=50)])"
   ]
  },
  {
   "cell_type": "code",
   "execution_count": 38,
   "id": "d247058d-55d7-4b63-b9c5-42e1e2764317",
   "metadata": {},
   "outputs": [
    {
     "name": "stderr",
     "output_type": "stream",
     "text": [
      "/opt/conda/lib/python3.11/site-packages/lightning/fabric/loggers/csv_logs.py:195: UserWarning: Experiment logs directory lightning_logs/Open_Lab_4/demo-0 exists and is not empty. Previous log files in this directory will be deleted when the new ones are saved!\n",
      "  rank_zero_warn(\n",
      "LOCAL_RANK: 0 - CUDA_VISIBLE_DEVICES: [0]\n",
      "SLURM auto-requeueing enabled. Setting signal handlers.\n",
      "/opt/conda/lib/python3.11/site-packages/torch/utils/data/dataloader.py:560: UserWarning: This DataLoader will create 8 worker processes in total. Our suggested max number of worker in current system is 2, which is smaller than what this DataLoader is going to create. Please be aware that excessive worker creation might get DataLoader running slow or even freeze, lower the worker number to avoid potential slowness/freeze if necessary.\n",
      "  warnings.warn(_create_warning_msg(\n"
     ]
    },
    {
     "data": {
      "application/vnd.jupyter.widget-view+json": {
       "model_id": "57d1c2b6fc9a4342a1e851896caff7e4",
       "version_major": 2,
       "version_minor": 0
      },
      "text/plain": [
       "Validation: 0it [00:00, ?it/s]"
      ]
     },
     "metadata": {},
     "output_type": "display_data"
    },
    {
     "data": {
      "text/html": [
       "<pre style=\"white-space:pre;overflow-x:auto;line-height:normal;font-family:Menlo,'DejaVu Sans Mono',consolas,'Courier New',monospace\">┏━━━━━━━━━━━━━━━━━━━━━━━━━━━┳━━━━━━━━━━━━━━━━━━━━━━━━━━━┓\n",
       "┃<span style=\"font-weight: bold\">  Runningstage.validating  </span>┃<span style=\"font-weight: bold\">                           </span>┃\n",
       "┃<span style=\"font-weight: bold\">          metric           </span>┃<span style=\"font-weight: bold\">       DataLoader 0        </span>┃\n",
       "┡━━━━━━━━━━━━━━━━━━━━━━━━━━━╇━━━━━━━━━━━━━━━━━━━━━━━━━━━┩\n",
       "│<span style=\"color: #008080; text-decoration-color: #008080\">          val_acc          </span>│<span style=\"color: #800080; text-decoration-color: #800080\">   0.011695906519889832    </span>│\n",
       "│<span style=\"color: #008080; text-decoration-color: #008080\">         val_loss          </span>│<span style=\"color: #800080; text-decoration-color: #800080\">     4.102419853210449     </span>│\n",
       "└───────────────────────────┴───────────────────────────┘\n",
       "</pre>\n"
      ],
      "text/plain": [
       "┏━━━━━━━━━━━━━━━━━━━━━━━━━━━┳━━━━━━━━━━━━━━━━━━━━━━━━━━━┓\n",
       "┃\u001b[1m \u001b[0m\u001b[1m Runningstage.validating \u001b[0m\u001b[1m \u001b[0m┃\u001b[1m                           \u001b[0m┃\n",
       "┃\u001b[1m \u001b[0m\u001b[1m         metric          \u001b[0m\u001b[1m \u001b[0m┃\u001b[1m \u001b[0m\u001b[1m      DataLoader 0       \u001b[0m\u001b[1m \u001b[0m┃\n",
       "┡━━━━━━━━━━━━━━━━━━━━━━━━━━━╇━━━━━━━━━━━━━━━━━━━━━━━━━━━┩\n",
       "│\u001b[36m \u001b[0m\u001b[36m         val_acc         \u001b[0m\u001b[36m \u001b[0m│\u001b[35m \u001b[0m\u001b[35m  0.011695906519889832   \u001b[0m\u001b[35m \u001b[0m│\n",
       "│\u001b[36m \u001b[0m\u001b[36m        val_loss         \u001b[0m\u001b[36m \u001b[0m│\u001b[35m \u001b[0m\u001b[35m    4.102419853210449    \u001b[0m\u001b[35m \u001b[0m│\n",
       "└───────────────────────────┴───────────────────────────┘\n"
      ]
     },
     "metadata": {},
     "output_type": "display_data"
    },
    {
     "data": {
      "text/plain": [
       "[{'val_acc': 0.011695906519889832, 'val_loss': 4.102419853210449}]"
      ]
     },
     "execution_count": 38,
     "metadata": {},
     "output_type": "execute_result"
    }
   ],
   "source": [
    "trainer.validate(enc_dec_net, xy_val)"
   ]
  },
  {
   "cell_type": "code",
   "execution_count": 39,
   "id": "00ad1d95-a6b8-4530-8172-6677a4559f03",
   "metadata": {},
   "outputs": [
    {
     "name": "stderr",
     "output_type": "stream",
     "text": [
      "LOCAL_RANK: 0 - CUDA_VISIBLE_DEVICES: [0]\n",
      "SLURM auto-requeueing enabled. Setting signal handlers.\n"
     ]
    },
    {
     "data": {
      "application/vnd.jupyter.widget-view+json": {
       "model_id": "e05861973aca41c89eefcbdb8dd9f996",
       "version_major": 2,
       "version_minor": 0
      },
      "text/plain": [
       "Testing: 0it [00:00, ?it/s]"
      ]
     },
     "metadata": {},
     "output_type": "display_data"
    },
    {
     "data": {
      "text/html": [
       "<pre style=\"white-space:pre;overflow-x:auto;line-height:normal;font-family:Menlo,'DejaVu Sans Mono',consolas,'Courier New',monospace\">┏━━━━━━━━━━━━━━━━━━━━━━━━━━━┳━━━━━━━━━━━━━━━━━━━━━━━━━━━┓\n",
       "┃<span style=\"font-weight: bold\">   Runningstage.testing    </span>┃<span style=\"font-weight: bold\">                           </span>┃\n",
       "┃<span style=\"font-weight: bold\">          metric           </span>┃<span style=\"font-weight: bold\">       DataLoader 0        </span>┃\n",
       "┡━━━━━━━━━━━━━━━━━━━━━━━━━━━╇━━━━━━━━━━━━━━━━━━━━━━━━━━━┩\n",
       "│<span style=\"color: #008080; text-decoration-color: #008080\">         test_acc          </span>│<span style=\"color: #800080; text-decoration-color: #800080\">   0.011695906519889832    </span>│\n",
       "│<span style=\"color: #008080; text-decoration-color: #008080\">         test_loss         </span>│<span style=\"color: #800080; text-decoration-color: #800080\">     4.031111240386963     </span>│\n",
       "└───────────────────────────┴───────────────────────────┘\n",
       "</pre>\n"
      ],
      "text/plain": [
       "┏━━━━━━━━━━━━━━━━━━━━━━━━━━━┳━━━━━━━━━━━━━━━━━━━━━━━━━━━┓\n",
       "┃\u001b[1m \u001b[0m\u001b[1m  Runningstage.testing   \u001b[0m\u001b[1m \u001b[0m┃\u001b[1m                           \u001b[0m┃\n",
       "┃\u001b[1m \u001b[0m\u001b[1m         metric          \u001b[0m\u001b[1m \u001b[0m┃\u001b[1m \u001b[0m\u001b[1m      DataLoader 0       \u001b[0m\u001b[1m \u001b[0m┃\n",
       "┡━━━━━━━━━━━━━━━━━━━━━━━━━━━╇━━━━━━━━━━━━━━━━━━━━━━━━━━━┩\n",
       "│\u001b[36m \u001b[0m\u001b[36m        test_acc         \u001b[0m\u001b[36m \u001b[0m│\u001b[35m \u001b[0m\u001b[35m  0.011695906519889832   \u001b[0m\u001b[35m \u001b[0m│\n",
       "│\u001b[36m \u001b[0m\u001b[36m        test_loss        \u001b[0m\u001b[36m \u001b[0m│\u001b[35m \u001b[0m\u001b[35m    4.031111240386963    \u001b[0m\u001b[35m \u001b[0m│\n",
       "└───────────────────────────┴───────────────────────────┘\n"
      ]
     },
     "metadata": {},
     "output_type": "display_data"
    },
    {
     "data": {
      "text/plain": [
       "[{'test_acc': 0.011695906519889832, 'test_loss': 4.031111240386963}]"
      ]
     },
     "execution_count": 39,
     "metadata": {},
     "output_type": "execute_result"
    }
   ],
   "source": [
    "trainer.test(enc_dec_net, xy_val)"
   ]
  },
  {
   "cell_type": "code",
   "execution_count": 40,
   "id": "1335279e-ca22-4d4e-b66d-c20a226b981b",
   "metadata": {},
   "outputs": [
    {
     "name": "stderr",
     "output_type": "stream",
     "text": [
      "LOCAL_RANK: 0 - CUDA_VISIBLE_DEVICES: [0]\n",
      "\n",
      "  | Name     | Type               | Params\n",
      "------------------------------------------------\n",
      "0 | mc_acc   | MulticlassAccuracy | 0     \n",
      "1 | cce_loss | CrossEntropyLoss   | 0     \n",
      "2 | enc_net  | EncoderNetwork     | 103 K \n",
      "3 | dec_net  | DecoderNetwork     | 149 K \n",
      "------------------------------------------------\n",
      "252 K     Trainable params\n",
      "0         Non-trainable params\n",
      "252 K     Total params\n",
      "1.011     Total estimated model params size (MB)\n",
      "SLURM auto-requeueing enabled. Setting signal handlers.\n"
     ]
    },
    {
     "data": {
      "application/vnd.jupyter.widget-view+json": {
       "model_id": "",
       "version_major": 2,
       "version_minor": 0
      },
      "text/plain": [
       "Sanity Checking: 0it [00:00, ?it/s]"
      ]
     },
     "metadata": {},
     "output_type": "display_data"
    },
    {
     "data": {
      "application/vnd.jupyter.widget-view+json": {
       "model_id": "917ab7025ed24e1f9b70d7a4f9424df8",
       "version_major": 2,
       "version_minor": 0
      },
      "text/plain": [
       "Training: 0it [00:00, ?it/s]"
      ]
     },
     "metadata": {},
     "output_type": "display_data"
    },
    {
     "data": {
      "application/vnd.jupyter.widget-view+json": {
       "model_id": "",
       "version_major": 2,
       "version_minor": 0
      },
      "text/plain": [
       "Validation: 0it [00:00, ?it/s]"
      ]
     },
     "metadata": {},
     "output_type": "display_data"
    },
    {
     "data": {
      "application/vnd.jupyter.widget-view+json": {
       "model_id": "",
       "version_major": 2,
       "version_minor": 0
      },
      "text/plain": [
       "Validation: 0it [00:00, ?it/s]"
      ]
     },
     "metadata": {},
     "output_type": "display_data"
    },
    {
     "data": {
      "application/vnd.jupyter.widget-view+json": {
       "model_id": "",
       "version_major": 2,
       "version_minor": 0
      },
      "text/plain": [
       "Validation: 0it [00:00, ?it/s]"
      ]
     },
     "metadata": {},
     "output_type": "display_data"
    },
    {
     "data": {
      "application/vnd.jupyter.widget-view+json": {
       "model_id": "",
       "version_major": 2,
       "version_minor": 0
      },
      "text/plain": [
       "Validation: 0it [00:00, ?it/s]"
      ]
     },
     "metadata": {},
     "output_type": "display_data"
    },
    {
     "data": {
      "application/vnd.jupyter.widget-view+json": {
       "model_id": "",
       "version_major": 2,
       "version_minor": 0
      },
      "text/plain": [
       "Validation: 0it [00:00, ?it/s]"
      ]
     },
     "metadata": {},
     "output_type": "display_data"
    },
    {
     "data": {
      "application/vnd.jupyter.widget-view+json": {
       "model_id": "",
       "version_major": 2,
       "version_minor": 0
      },
      "text/plain": [
       "Validation: 0it [00:00, ?it/s]"
      ]
     },
     "metadata": {},
     "output_type": "display_data"
    },
    {
     "data": {
      "application/vnd.jupyter.widget-view+json": {
       "model_id": "",
       "version_major": 2,
       "version_minor": 0
      },
      "text/plain": [
       "Validation: 0it [00:00, ?it/s]"
      ]
     },
     "metadata": {},
     "output_type": "display_data"
    },
    {
     "data": {
      "application/vnd.jupyter.widget-view+json": {
       "model_id": "",
       "version_major": 2,
       "version_minor": 0
      },
      "text/plain": [
       "Validation: 0it [00:00, ?it/s]"
      ]
     },
     "metadata": {},
     "output_type": "display_data"
    },
    {
     "data": {
      "application/vnd.jupyter.widget-view+json": {
       "model_id": "",
       "version_major": 2,
       "version_minor": 0
      },
      "text/plain": [
       "Validation: 0it [00:00, ?it/s]"
      ]
     },
     "metadata": {},
     "output_type": "display_data"
    },
    {
     "data": {
      "application/vnd.jupyter.widget-view+json": {
       "model_id": "",
       "version_major": 2,
       "version_minor": 0
      },
      "text/plain": [
       "Validation: 0it [00:00, ?it/s]"
      ]
     },
     "metadata": {},
     "output_type": "display_data"
    },
    {
     "data": {
      "application/vnd.jupyter.widget-view+json": {
       "model_id": "",
       "version_major": 2,
       "version_minor": 0
      },
      "text/plain": [
       "Validation: 0it [00:00, ?it/s]"
      ]
     },
     "metadata": {},
     "output_type": "display_data"
    },
    {
     "data": {
      "application/vnd.jupyter.widget-view+json": {
       "model_id": "",
       "version_major": 2,
       "version_minor": 0
      },
      "text/plain": [
       "Validation: 0it [00:00, ?it/s]"
      ]
     },
     "metadata": {},
     "output_type": "display_data"
    },
    {
     "data": {
      "application/vnd.jupyter.widget-view+json": {
       "model_id": "",
       "version_major": 2,
       "version_minor": 0
      },
      "text/plain": [
       "Validation: 0it [00:00, ?it/s]"
      ]
     },
     "metadata": {},
     "output_type": "display_data"
    },
    {
     "data": {
      "application/vnd.jupyter.widget-view+json": {
       "model_id": "",
       "version_major": 2,
       "version_minor": 0
      },
      "text/plain": [
       "Validation: 0it [00:00, ?it/s]"
      ]
     },
     "metadata": {},
     "output_type": "display_data"
    },
    {
     "data": {
      "application/vnd.jupyter.widget-view+json": {
       "model_id": "",
       "version_major": 2,
       "version_minor": 0
      },
      "text/plain": [
       "Validation: 0it [00:00, ?it/s]"
      ]
     },
     "metadata": {},
     "output_type": "display_data"
    },
    {
     "data": {
      "application/vnd.jupyter.widget-view+json": {
       "model_id": "",
       "version_major": 2,
       "version_minor": 0
      },
      "text/plain": [
       "Validation: 0it [00:00, ?it/s]"
      ]
     },
     "metadata": {},
     "output_type": "display_data"
    },
    {
     "data": {
      "application/vnd.jupyter.widget-view+json": {
       "model_id": "",
       "version_major": 2,
       "version_minor": 0
      },
      "text/plain": [
       "Validation: 0it [00:00, ?it/s]"
      ]
     },
     "metadata": {},
     "output_type": "display_data"
    },
    {
     "data": {
      "application/vnd.jupyter.widget-view+json": {
       "model_id": "",
       "version_major": 2,
       "version_minor": 0
      },
      "text/plain": [
       "Validation: 0it [00:00, ?it/s]"
      ]
     },
     "metadata": {},
     "output_type": "display_data"
    },
    {
     "data": {
      "application/vnd.jupyter.widget-view+json": {
       "model_id": "",
       "version_major": 2,
       "version_minor": 0
      },
      "text/plain": [
       "Validation: 0it [00:00, ?it/s]"
      ]
     },
     "metadata": {},
     "output_type": "display_data"
    },
    {
     "data": {
      "application/vnd.jupyter.widget-view+json": {
       "model_id": "",
       "version_major": 2,
       "version_minor": 0
      },
      "text/plain": [
       "Validation: 0it [00:00, ?it/s]"
      ]
     },
     "metadata": {},
     "output_type": "display_data"
    },
    {
     "data": {
      "application/vnd.jupyter.widget-view+json": {
       "model_id": "",
       "version_major": 2,
       "version_minor": 0
      },
      "text/plain": [
       "Validation: 0it [00:00, ?it/s]"
      ]
     },
     "metadata": {},
     "output_type": "display_data"
    },
    {
     "data": {
      "application/vnd.jupyter.widget-view+json": {
       "model_id": "",
       "version_major": 2,
       "version_minor": 0
      },
      "text/plain": [
       "Validation: 0it [00:00, ?it/s]"
      ]
     },
     "metadata": {},
     "output_type": "display_data"
    },
    {
     "data": {
      "application/vnd.jupyter.widget-view+json": {
       "model_id": "",
       "version_major": 2,
       "version_minor": 0
      },
      "text/plain": [
       "Validation: 0it [00:00, ?it/s]"
      ]
     },
     "metadata": {},
     "output_type": "display_data"
    },
    {
     "data": {
      "application/vnd.jupyter.widget-view+json": {
       "model_id": "",
       "version_major": 2,
       "version_minor": 0
      },
      "text/plain": [
       "Validation: 0it [00:00, ?it/s]"
      ]
     },
     "metadata": {},
     "output_type": "display_data"
    },
    {
     "data": {
      "application/vnd.jupyter.widget-view+json": {
       "model_id": "",
       "version_major": 2,
       "version_minor": 0
      },
      "text/plain": [
       "Validation: 0it [00:00, ?it/s]"
      ]
     },
     "metadata": {},
     "output_type": "display_data"
    },
    {
     "data": {
      "application/vnd.jupyter.widget-view+json": {
       "model_id": "",
       "version_major": 2,
       "version_minor": 0
      },
      "text/plain": [
       "Validation: 0it [00:00, ?it/s]"
      ]
     },
     "metadata": {},
     "output_type": "display_data"
    },
    {
     "data": {
      "application/vnd.jupyter.widget-view+json": {
       "model_id": "",
       "version_major": 2,
       "version_minor": 0
      },
      "text/plain": [
       "Validation: 0it [00:00, ?it/s]"
      ]
     },
     "metadata": {},
     "output_type": "display_data"
    },
    {
     "data": {
      "application/vnd.jupyter.widget-view+json": {
       "model_id": "",
       "version_major": 2,
       "version_minor": 0
      },
      "text/plain": [
       "Validation: 0it [00:00, ?it/s]"
      ]
     },
     "metadata": {},
     "output_type": "display_data"
    },
    {
     "data": {
      "application/vnd.jupyter.widget-view+json": {
       "model_id": "",
       "version_major": 2,
       "version_minor": 0
      },
      "text/plain": [
       "Validation: 0it [00:00, ?it/s]"
      ]
     },
     "metadata": {},
     "output_type": "display_data"
    },
    {
     "data": {
      "application/vnd.jupyter.widget-view+json": {
       "model_id": "",
       "version_major": 2,
       "version_minor": 0
      },
      "text/plain": [
       "Validation: 0it [00:00, ?it/s]"
      ]
     },
     "metadata": {},
     "output_type": "display_data"
    },
    {
     "data": {
      "application/vnd.jupyter.widget-view+json": {
       "model_id": "",
       "version_major": 2,
       "version_minor": 0
      },
      "text/plain": [
       "Validation: 0it [00:00, ?it/s]"
      ]
     },
     "metadata": {},
     "output_type": "display_data"
    },
    {
     "data": {
      "application/vnd.jupyter.widget-view+json": {
       "model_id": "",
       "version_major": 2,
       "version_minor": 0
      },
      "text/plain": [
       "Validation: 0it [00:00, ?it/s]"
      ]
     },
     "metadata": {},
     "output_type": "display_data"
    },
    {
     "data": {
      "application/vnd.jupyter.widget-view+json": {
       "model_id": "",
       "version_major": 2,
       "version_minor": 0
      },
      "text/plain": [
       "Validation: 0it [00:00, ?it/s]"
      ]
     },
     "metadata": {},
     "output_type": "display_data"
    },
    {
     "data": {
      "application/vnd.jupyter.widget-view+json": {
       "model_id": "",
       "version_major": 2,
       "version_minor": 0
      },
      "text/plain": [
       "Validation: 0it [00:00, ?it/s]"
      ]
     },
     "metadata": {},
     "output_type": "display_data"
    },
    {
     "data": {
      "application/vnd.jupyter.widget-view+json": {
       "model_id": "",
       "version_major": 2,
       "version_minor": 0
      },
      "text/plain": [
       "Validation: 0it [00:00, ?it/s]"
      ]
     },
     "metadata": {},
     "output_type": "display_data"
    },
    {
     "data": {
      "application/vnd.jupyter.widget-view+json": {
       "model_id": "",
       "version_major": 2,
       "version_minor": 0
      },
      "text/plain": [
       "Validation: 0it [00:00, ?it/s]"
      ]
     },
     "metadata": {},
     "output_type": "display_data"
    },
    {
     "data": {
      "application/vnd.jupyter.widget-view+json": {
       "model_id": "",
       "version_major": 2,
       "version_minor": 0
      },
      "text/plain": [
       "Validation: 0it [00:00, ?it/s]"
      ]
     },
     "metadata": {},
     "output_type": "display_data"
    },
    {
     "data": {
      "application/vnd.jupyter.widget-view+json": {
       "model_id": "",
       "version_major": 2,
       "version_minor": 0
      },
      "text/plain": [
       "Validation: 0it [00:00, ?it/s]"
      ]
     },
     "metadata": {},
     "output_type": "display_data"
    },
    {
     "data": {
      "application/vnd.jupyter.widget-view+json": {
       "model_id": "",
       "version_major": 2,
       "version_minor": 0
      },
      "text/plain": [
       "Validation: 0it [00:00, ?it/s]"
      ]
     },
     "metadata": {},
     "output_type": "display_data"
    },
    {
     "data": {
      "application/vnd.jupyter.widget-view+json": {
       "model_id": "",
       "version_major": 2,
       "version_minor": 0
      },
      "text/plain": [
       "Validation: 0it [00:00, ?it/s]"
      ]
     },
     "metadata": {},
     "output_type": "display_data"
    },
    {
     "data": {
      "application/vnd.jupyter.widget-view+json": {
       "model_id": "",
       "version_major": 2,
       "version_minor": 0
      },
      "text/plain": [
       "Validation: 0it [00:00, ?it/s]"
      ]
     },
     "metadata": {},
     "output_type": "display_data"
    },
    {
     "data": {
      "application/vnd.jupyter.widget-view+json": {
       "model_id": "",
       "version_major": 2,
       "version_minor": 0
      },
      "text/plain": [
       "Validation: 0it [00:00, ?it/s]"
      ]
     },
     "metadata": {},
     "output_type": "display_data"
    },
    {
     "data": {
      "application/vnd.jupyter.widget-view+json": {
       "model_id": "",
       "version_major": 2,
       "version_minor": 0
      },
      "text/plain": [
       "Validation: 0it [00:00, ?it/s]"
      ]
     },
     "metadata": {},
     "output_type": "display_data"
    },
    {
     "data": {
      "application/vnd.jupyter.widget-view+json": {
       "model_id": "",
       "version_major": 2,
       "version_minor": 0
      },
      "text/plain": [
       "Validation: 0it [00:00, ?it/s]"
      ]
     },
     "metadata": {},
     "output_type": "display_data"
    },
    {
     "data": {
      "application/vnd.jupyter.widget-view+json": {
       "model_id": "",
       "version_major": 2,
       "version_minor": 0
      },
      "text/plain": [
       "Validation: 0it [00:00, ?it/s]"
      ]
     },
     "metadata": {},
     "output_type": "display_data"
    },
    {
     "data": {
      "application/vnd.jupyter.widget-view+json": {
       "model_id": "",
       "version_major": 2,
       "version_minor": 0
      },
      "text/plain": [
       "Validation: 0it [00:00, ?it/s]"
      ]
     },
     "metadata": {},
     "output_type": "display_data"
    },
    {
     "data": {
      "application/vnd.jupyter.widget-view+json": {
       "model_id": "",
       "version_major": 2,
       "version_minor": 0
      },
      "text/plain": [
       "Validation: 0it [00:00, ?it/s]"
      ]
     },
     "metadata": {},
     "output_type": "display_data"
    },
    {
     "data": {
      "application/vnd.jupyter.widget-view+json": {
       "model_id": "7c47134434894e8cbf2d76b3bf9242e9",
       "version_major": 2,
       "version_minor": 0
      },
      "text/plain": [
       "Validation: 0it [00:00, ?it/s]"
      ]
     },
     "metadata": {},
     "output_type": "display_data"
    },
    {
     "data": {
      "application/vnd.jupyter.widget-view+json": {
       "model_id": "66d7cc95ec654841ac9e27f2f75615ae",
       "version_major": 2,
       "version_minor": 0
      },
      "text/plain": [
       "Validation: 0it [00:00, ?it/s]"
      ]
     },
     "metadata": {},
     "output_type": "display_data"
    },
    {
     "data": {
      "application/vnd.jupyter.widget-view+json": {
       "model_id": "f2c9dbcb3cb64be18da86da66e2bcc6f",
       "version_major": 2,
       "version_minor": 0
      },
      "text/plain": [
       "Validation: 0it [00:00, ?it/s]"
      ]
     },
     "metadata": {},
     "output_type": "display_data"
    },
    {
     "data": {
      "application/vnd.jupyter.widget-view+json": {
       "model_id": "e57b440ca8034fd5b06810f3d6e9ec9c",
       "version_major": 2,
       "version_minor": 0
      },
      "text/plain": [
       "Validation: 0it [00:00, ?it/s]"
      ]
     },
     "metadata": {},
     "output_type": "display_data"
    },
    {
     "data": {
      "application/vnd.jupyter.widget-view+json": {
       "model_id": "1884acc11b994a87a10772164518aa3d",
       "version_major": 2,
       "version_minor": 0
      },
      "text/plain": [
       "Validation: 0it [00:00, ?it/s]"
      ]
     },
     "metadata": {},
     "output_type": "display_data"
    },
    {
     "data": {
      "application/vnd.jupyter.widget-view+json": {
       "model_id": "5ac3dc55807745fba46ae2427c7b9b72",
       "version_major": 2,
       "version_minor": 0
      },
      "text/plain": [
       "Validation: 0it [00:00, ?it/s]"
      ]
     },
     "metadata": {},
     "output_type": "display_data"
    },
    {
     "data": {
      "application/vnd.jupyter.widget-view+json": {
       "model_id": "81142180164d4910a6c3e0f5b2d03760",
       "version_major": 2,
       "version_minor": 0
      },
      "text/plain": [
       "Validation: 0it [00:00, ?it/s]"
      ]
     },
     "metadata": {},
     "output_type": "display_data"
    },
    {
     "data": {
      "application/vnd.jupyter.widget-view+json": {
       "model_id": "e7b352fb893345ae95b58fa00076567c",
       "version_major": 2,
       "version_minor": 0
      },
      "text/plain": [
       "Validation: 0it [00:00, ?it/s]"
      ]
     },
     "metadata": {},
     "output_type": "display_data"
    },
    {
     "data": {
      "application/vnd.jupyter.widget-view+json": {
       "model_id": "a7ceadae207d44eda055cffd550f021b",
       "version_major": 2,
       "version_minor": 0
      },
      "text/plain": [
       "Validation: 0it [00:00, ?it/s]"
      ]
     },
     "metadata": {},
     "output_type": "display_data"
    },
    {
     "data": {
      "application/vnd.jupyter.widget-view+json": {
       "model_id": "6b54e94855474f5bb1dff56130e14179",
       "version_major": 2,
       "version_minor": 0
      },
      "text/plain": [
       "Validation: 0it [00:00, ?it/s]"
      ]
     },
     "metadata": {},
     "output_type": "display_data"
    },
    {
     "data": {
      "application/vnd.jupyter.widget-view+json": {
       "model_id": "e24eeed7b73a4bbaa79233b3b2743273",
       "version_major": 2,
       "version_minor": 0
      },
      "text/plain": [
       "Validation: 0it [00:00, ?it/s]"
      ]
     },
     "metadata": {},
     "output_type": "display_data"
    },
    {
     "data": {
      "application/vnd.jupyter.widget-view+json": {
       "model_id": "5ff6973258dc45f58ca2c3f3d20457cb",
       "version_major": 2,
       "version_minor": 0
      },
      "text/plain": [
       "Validation: 0it [00:00, ?it/s]"
      ]
     },
     "metadata": {},
     "output_type": "display_data"
    },
    {
     "data": {
      "application/vnd.jupyter.widget-view+json": {
       "model_id": "ce4577530c8a42929f3b72a4e840f455",
       "version_major": 2,
       "version_minor": 0
      },
      "text/plain": [
       "Validation: 0it [00:00, ?it/s]"
      ]
     },
     "metadata": {},
     "output_type": "display_data"
    },
    {
     "data": {
      "application/vnd.jupyter.widget-view+json": {
       "model_id": "bd969dd507514fa2983c8b9ae5d17622",
       "version_major": 2,
       "version_minor": 0
      },
      "text/plain": [
       "Validation: 0it [00:00, ?it/s]"
      ]
     },
     "metadata": {},
     "output_type": "display_data"
    },
    {
     "data": {
      "application/vnd.jupyter.widget-view+json": {
       "model_id": "54f33b423ec642e0a51d33db0c18a76d",
       "version_major": 2,
       "version_minor": 0
      },
      "text/plain": [
       "Validation: 0it [00:00, ?it/s]"
      ]
     },
     "metadata": {},
     "output_type": "display_data"
    },
    {
     "data": {
      "application/vnd.jupyter.widget-view+json": {
       "model_id": "925b8ef032e944b4ae30949bc1808c9c",
       "version_major": 2,
       "version_minor": 0
      },
      "text/plain": [
       "Validation: 0it [00:00, ?it/s]"
      ]
     },
     "metadata": {},
     "output_type": "display_data"
    },
    {
     "data": {
      "application/vnd.jupyter.widget-view+json": {
       "model_id": "7fb377488c5c499db53ebcab31139fa8",
       "version_major": 2,
       "version_minor": 0
      },
      "text/plain": [
       "Validation: 0it [00:00, ?it/s]"
      ]
     },
     "metadata": {},
     "output_type": "display_data"
    },
    {
     "data": {
      "application/vnd.jupyter.widget-view+json": {
       "model_id": "da871597434148a4a2c0c76f3d294563",
       "version_major": 2,
       "version_minor": 0
      },
      "text/plain": [
       "Validation: 0it [00:00, ?it/s]"
      ]
     },
     "metadata": {},
     "output_type": "display_data"
    },
    {
     "data": {
      "application/vnd.jupyter.widget-view+json": {
       "model_id": "395ca1f363c0440b91ab8d8e84c55cf6",
       "version_major": 2,
       "version_minor": 0
      },
      "text/plain": [
       "Validation: 0it [00:00, ?it/s]"
      ]
     },
     "metadata": {},
     "output_type": "display_data"
    },
    {
     "data": {
      "application/vnd.jupyter.widget-view+json": {
       "model_id": "1ed8a1ba10d5482fb40590aa20c21fee",
       "version_major": 2,
       "version_minor": 0
      },
      "text/plain": [
       "Validation: 0it [00:00, ?it/s]"
      ]
     },
     "metadata": {},
     "output_type": "display_data"
    },
    {
     "data": {
      "application/vnd.jupyter.widget-view+json": {
       "model_id": "c552ee5b787944bb948daec8cce2b119",
       "version_major": 2,
       "version_minor": 0
      },
      "text/plain": [
       "Validation: 0it [00:00, ?it/s]"
      ]
     },
     "metadata": {},
     "output_type": "display_data"
    },
    {
     "data": {
      "application/vnd.jupyter.widget-view+json": {
       "model_id": "937723bbc3af45688c9b89f6af24f1b2",
       "version_major": 2,
       "version_minor": 0
      },
      "text/plain": [
       "Validation: 0it [00:00, ?it/s]"
      ]
     },
     "metadata": {},
     "output_type": "display_data"
    },
    {
     "data": {
      "application/vnd.jupyter.widget-view+json": {
       "model_id": "ecede164ac174fc0894b2d1581c50f2d",
       "version_major": 2,
       "version_minor": 0
      },
      "text/plain": [
       "Validation: 0it [00:00, ?it/s]"
      ]
     },
     "metadata": {},
     "output_type": "display_data"
    },
    {
     "data": {
      "application/vnd.jupyter.widget-view+json": {
       "model_id": "afd071aaa27248848d9143081073bda8",
       "version_major": 2,
       "version_minor": 0
      },
      "text/plain": [
       "Validation: 0it [00:00, ?it/s]"
      ]
     },
     "metadata": {},
     "output_type": "display_data"
    },
    {
     "data": {
      "application/vnd.jupyter.widget-view+json": {
       "model_id": "a5682aaa9305486f8dc8c7298bd4e539",
       "version_major": 2,
       "version_minor": 0
      },
      "text/plain": [
       "Validation: 0it [00:00, ?it/s]"
      ]
     },
     "metadata": {},
     "output_type": "display_data"
    },
    {
     "data": {
      "application/vnd.jupyter.widget-view+json": {
       "model_id": "e1ef37d3bebb4032829b8b76cc75c933",
       "version_major": 2,
       "version_minor": 0
      },
      "text/plain": [
       "Validation: 0it [00:00, ?it/s]"
      ]
     },
     "metadata": {},
     "output_type": "display_data"
    },
    {
     "data": {
      "application/vnd.jupyter.widget-view+json": {
       "model_id": "98f238e0329947a3a70077027a7f03b9",
       "version_major": 2,
       "version_minor": 0
      },
      "text/plain": [
       "Validation: 0it [00:00, ?it/s]"
      ]
     },
     "metadata": {},
     "output_type": "display_data"
    },
    {
     "data": {
      "application/vnd.jupyter.widget-view+json": {
       "model_id": "71a5ecb7f47c4ad3a9728b0bf247ae6e",
       "version_major": 2,
       "version_minor": 0
      },
      "text/plain": [
       "Validation: 0it [00:00, ?it/s]"
      ]
     },
     "metadata": {},
     "output_type": "display_data"
    },
    {
     "data": {
      "application/vnd.jupyter.widget-view+json": {
       "model_id": "60e8c38127204ae497c07912f6c977e8",
       "version_major": 2,
       "version_minor": 0
      },
      "text/plain": [
       "Validation: 0it [00:00, ?it/s]"
      ]
     },
     "metadata": {},
     "output_type": "display_data"
    },
    {
     "data": {
      "application/vnd.jupyter.widget-view+json": {
       "model_id": "1b0d9bf1be4c441c8c039a2bc056772f",
       "version_major": 2,
       "version_minor": 0
      },
      "text/plain": [
       "Validation: 0it [00:00, ?it/s]"
      ]
     },
     "metadata": {},
     "output_type": "display_data"
    },
    {
     "data": {
      "application/vnd.jupyter.widget-view+json": {
       "model_id": "e16090096ff84a6ea5d4b7f1eef74009",
       "version_major": 2,
       "version_minor": 0
      },
      "text/plain": [
       "Validation: 0it [00:00, ?it/s]"
      ]
     },
     "metadata": {},
     "output_type": "display_data"
    },
    {
     "data": {
      "application/vnd.jupyter.widget-view+json": {
       "model_id": "520003fd25b54b998a8754cfec5c1a65",
       "version_major": 2,
       "version_minor": 0
      },
      "text/plain": [
       "Validation: 0it [00:00, ?it/s]"
      ]
     },
     "metadata": {},
     "output_type": "display_data"
    },
    {
     "data": {
      "application/vnd.jupyter.widget-view+json": {
       "model_id": "c78fc7e5978a42ff93e3fb55d633a216",
       "version_major": 2,
       "version_minor": 0
      },
      "text/plain": [
       "Validation: 0it [00:00, ?it/s]"
      ]
     },
     "metadata": {},
     "output_type": "display_data"
    },
    {
     "data": {
      "application/vnd.jupyter.widget-view+json": {
       "model_id": "2ec6a8e34c2a41fbb061b78eff6cc3f8",
       "version_major": 2,
       "version_minor": 0
      },
      "text/plain": [
       "Validation: 0it [00:00, ?it/s]"
      ]
     },
     "metadata": {},
     "output_type": "display_data"
    },
    {
     "data": {
      "application/vnd.jupyter.widget-view+json": {
       "model_id": "40cb94d38f2e4fe798705b74d96888a0",
       "version_major": 2,
       "version_minor": 0
      },
      "text/plain": [
       "Validation: 0it [00:00, ?it/s]"
      ]
     },
     "metadata": {},
     "output_type": "display_data"
    },
    {
     "data": {
      "application/vnd.jupyter.widget-view+json": {
       "model_id": "cf2ab43c217f43448dcd5f516754c4eb",
       "version_major": 2,
       "version_minor": 0
      },
      "text/plain": [
       "Validation: 0it [00:00, ?it/s]"
      ]
     },
     "metadata": {},
     "output_type": "display_data"
    },
    {
     "data": {
      "application/vnd.jupyter.widget-view+json": {
       "model_id": "88121770dc594dfebfa40301be591ceb",
       "version_major": 2,
       "version_minor": 0
      },
      "text/plain": [
       "Validation: 0it [00:00, ?it/s]"
      ]
     },
     "metadata": {},
     "output_type": "display_data"
    },
    {
     "data": {
      "application/vnd.jupyter.widget-view+json": {
       "model_id": "42377d7d510f471c8ae9e94fb38afff5",
       "version_major": 2,
       "version_minor": 0
      },
      "text/plain": [
       "Validation: 0it [00:00, ?it/s]"
      ]
     },
     "metadata": {},
     "output_type": "display_data"
    },
    {
     "data": {
      "application/vnd.jupyter.widget-view+json": {
       "model_id": "9718d6e4863940f38195b02e4f3df016",
       "version_major": 2,
       "version_minor": 0
      },
      "text/plain": [
       "Validation: 0it [00:00, ?it/s]"
      ]
     },
     "metadata": {},
     "output_type": "display_data"
    },
    {
     "data": {
      "application/vnd.jupyter.widget-view+json": {
       "model_id": "7707632c0bcd45528f8463b68e39a552",
       "version_major": 2,
       "version_minor": 0
      },
      "text/plain": [
       "Validation: 0it [00:00, ?it/s]"
      ]
     },
     "metadata": {},
     "output_type": "display_data"
    },
    {
     "data": {
      "application/vnd.jupyter.widget-view+json": {
       "model_id": "0ed96ef872324e019175b1e159c48cca",
       "version_major": 2,
       "version_minor": 0
      },
      "text/plain": [
       "Validation: 0it [00:00, ?it/s]"
      ]
     },
     "metadata": {},
     "output_type": "display_data"
    },
    {
     "data": {
      "application/vnd.jupyter.widget-view+json": {
       "model_id": "221257db13584d4da5787aef9f25d797",
       "version_major": 2,
       "version_minor": 0
      },
      "text/plain": [
       "Validation: 0it [00:00, ?it/s]"
      ]
     },
     "metadata": {},
     "output_type": "display_data"
    },
    {
     "data": {
      "application/vnd.jupyter.widget-view+json": {
       "model_id": "1863a193e8f7448aab29e500907f9ef3",
       "version_major": 2,
       "version_minor": 0
      },
      "text/plain": [
       "Validation: 0it [00:00, ?it/s]"
      ]
     },
     "metadata": {},
     "output_type": "display_data"
    },
    {
     "data": {
      "application/vnd.jupyter.widget-view+json": {
       "model_id": "1506ae2434744ff3902a8bdb07eefd31",
       "version_major": 2,
       "version_minor": 0
      },
      "text/plain": [
       "Validation: 0it [00:00, ?it/s]"
      ]
     },
     "metadata": {},
     "output_type": "display_data"
    },
    {
     "data": {
      "application/vnd.jupyter.widget-view+json": {
       "model_id": "7c5536591c9845fd8ca0663d5955e078",
       "version_major": 2,
       "version_minor": 0
      },
      "text/plain": [
       "Validation: 0it [00:00, ?it/s]"
      ]
     },
     "metadata": {},
     "output_type": "display_data"
    },
    {
     "data": {
      "application/vnd.jupyter.widget-view+json": {
       "model_id": "0108c8915d4d4eefa394d1d5c4a14d4a",
       "version_major": 2,
       "version_minor": 0
      },
      "text/plain": [
       "Validation: 0it [00:00, ?it/s]"
      ]
     },
     "metadata": {},
     "output_type": "display_data"
    },
    {
     "data": {
      "application/vnd.jupyter.widget-view+json": {
       "model_id": "3ee7d305e48b4885be5baad625664ea7",
       "version_major": 2,
       "version_minor": 0
      },
      "text/plain": [
       "Validation: 0it [00:00, ?it/s]"
      ]
     },
     "metadata": {},
     "output_type": "display_data"
    },
    {
     "data": {
      "application/vnd.jupyter.widget-view+json": {
       "model_id": "ad3cf403ddb04db58701396677b2bf75",
       "version_major": 2,
       "version_minor": 0
      },
      "text/plain": [
       "Validation: 0it [00:00, ?it/s]"
      ]
     },
     "metadata": {},
     "output_type": "display_data"
    },
    {
     "data": {
      "application/vnd.jupyter.widget-view+json": {
       "model_id": "671503a82ab74b1b8b8fe604e77bf1c3",
       "version_major": 2,
       "version_minor": 0
      },
      "text/plain": [
       "Validation: 0it [00:00, ?it/s]"
      ]
     },
     "metadata": {},
     "output_type": "display_data"
    },
    {
     "data": {
      "application/vnd.jupyter.widget-view+json": {
       "model_id": "60ed49d7288346c1b98280f7aa5925f1",
       "version_major": 2,
       "version_minor": 0
      },
      "text/plain": [
       "Validation: 0it [00:00, ?it/s]"
      ]
     },
     "metadata": {},
     "output_type": "display_data"
    },
    {
     "data": {
      "application/vnd.jupyter.widget-view+json": {
       "model_id": "215b5dc684f44654a8c4db29a5a8fe87",
       "version_major": 2,
       "version_minor": 0
      },
      "text/plain": [
       "Validation: 0it [00:00, ?it/s]"
      ]
     },
     "metadata": {},
     "output_type": "display_data"
    },
    {
     "data": {
      "application/vnd.jupyter.widget-view+json": {
       "model_id": "7c2a1c6b6e4a4d5792933e4df30d9a42",
       "version_major": 2,
       "version_minor": 0
      },
      "text/plain": [
       "Validation: 0it [00:00, ?it/s]"
      ]
     },
     "metadata": {},
     "output_type": "display_data"
    },
    {
     "data": {
      "application/vnd.jupyter.widget-view+json": {
       "model_id": "df6834239431443ba1d205bf32d60dc5",
       "version_major": 2,
       "version_minor": 0
      },
      "text/plain": [
       "Validation: 0it [00:00, ?it/s]"
      ]
     },
     "metadata": {},
     "output_type": "display_data"
    },
    {
     "data": {
      "application/vnd.jupyter.widget-view+json": {
       "model_id": "ce0d559d46864679aab7a3c363b87a72",
       "version_major": 2,
       "version_minor": 0
      },
      "text/plain": [
       "Validation: 0it [00:00, ?it/s]"
      ]
     },
     "metadata": {},
     "output_type": "display_data"
    },
    {
     "data": {
      "application/vnd.jupyter.widget-view+json": {
       "model_id": "b52c4eb3d9374c6e97fe8c1d361f6308",
       "version_major": 2,
       "version_minor": 0
      },
      "text/plain": [
       "Validation: 0it [00:00, ?it/s]"
      ]
     },
     "metadata": {},
     "output_type": "display_data"
    },
    {
     "data": {
      "application/vnd.jupyter.widget-view+json": {
       "model_id": "1746167764634eb4ab91186f7ea14de7",
       "version_major": 2,
       "version_minor": 0
      },
      "text/plain": [
       "Validation: 0it [00:00, ?it/s]"
      ]
     },
     "metadata": {},
     "output_type": "display_data"
    },
    {
     "data": {
      "application/vnd.jupyter.widget-view+json": {
       "model_id": "7d6c4a9a0c2a4d41b3ebc60760cd77f9",
       "version_major": 2,
       "version_minor": 0
      },
      "text/plain": [
       "Validation: 0it [00:00, ?it/s]"
      ]
     },
     "metadata": {},
     "output_type": "display_data"
    },
    {
     "data": {
      "application/vnd.jupyter.widget-view+json": {
       "model_id": "15768924bcce4bf2bbaa16d4c514a185",
       "version_major": 2,
       "version_minor": 0
      },
      "text/plain": [
       "Validation: 0it [00:00, ?it/s]"
      ]
     },
     "metadata": {},
     "output_type": "display_data"
    },
    {
     "data": {
      "application/vnd.jupyter.widget-view+json": {
       "model_id": "79e904b4738e488ebac8c97b7c7a19a2",
       "version_major": 2,
       "version_minor": 0
      },
      "text/plain": [
       "Validation: 0it [00:00, ?it/s]"
      ]
     },
     "metadata": {},
     "output_type": "display_data"
    },
    {
     "data": {
      "application/vnd.jupyter.widget-view+json": {
       "model_id": "ee541f5ae708442d94eaf7660579b45e",
       "version_major": 2,
       "version_minor": 0
      },
      "text/plain": [
       "Validation: 0it [00:00, ?it/s]"
      ]
     },
     "metadata": {},
     "output_type": "display_data"
    },
    {
     "data": {
      "application/vnd.jupyter.widget-view+json": {
       "model_id": "31109d6c029241ca812ff735e87a7ba0",
       "version_major": 2,
       "version_minor": 0
      },
      "text/plain": [
       "Validation: 0it [00:00, ?it/s]"
      ]
     },
     "metadata": {},
     "output_type": "display_data"
    },
    {
     "data": {
      "application/vnd.jupyter.widget-view+json": {
       "model_id": "403680e026794fc7ac0b366c4f85228d",
       "version_major": 2,
       "version_minor": 0
      },
      "text/plain": [
       "Validation: 0it [00:00, ?it/s]"
      ]
     },
     "metadata": {},
     "output_type": "display_data"
    },
    {
     "data": {
      "application/vnd.jupyter.widget-view+json": {
       "model_id": "87ac2f41ec1b4483a07c580c7f48b213",
       "version_major": 2,
       "version_minor": 0
      },
      "text/plain": [
       "Validation: 0it [00:00, ?it/s]"
      ]
     },
     "metadata": {},
     "output_type": "display_data"
    },
    {
     "data": {
      "application/vnd.jupyter.widget-view+json": {
       "model_id": "a7817d9ef818422da0f5f7a53cb62d5a",
       "version_major": 2,
       "version_minor": 0
      },
      "text/plain": [
       "Validation: 0it [00:00, ?it/s]"
      ]
     },
     "metadata": {},
     "output_type": "display_data"
    },
    {
     "data": {
      "application/vnd.jupyter.widget-view+json": {
       "model_id": "bf8b574648d84535bb7a14bc9b7165e7",
       "version_major": 2,
       "version_minor": 0
      },
      "text/plain": [
       "Validation: 0it [00:00, ?it/s]"
      ]
     },
     "metadata": {},
     "output_type": "display_data"
    },
    {
     "data": {
      "application/vnd.jupyter.widget-view+json": {
       "model_id": "5d67db44a6cf46d28c69c8acb6b9e5ed",
       "version_major": 2,
       "version_minor": 0
      },
      "text/plain": [
       "Validation: 0it [00:00, ?it/s]"
      ]
     },
     "metadata": {},
     "output_type": "display_data"
    },
    {
     "data": {
      "application/vnd.jupyter.widget-view+json": {
       "model_id": "20eed145cc7d4bad8e95597daee5c8ef",
       "version_major": 2,
       "version_minor": 0
      },
      "text/plain": [
       "Validation: 0it [00:00, ?it/s]"
      ]
     },
     "metadata": {},
     "output_type": "display_data"
    },
    {
     "data": {
      "application/vnd.jupyter.widget-view+json": {
       "model_id": "68ee32ee6e834d4194a09048dc7dc42b",
       "version_major": 2,
       "version_minor": 0
      },
      "text/plain": [
       "Validation: 0it [00:00, ?it/s]"
      ]
     },
     "metadata": {},
     "output_type": "display_data"
    },
    {
     "data": {
      "application/vnd.jupyter.widget-view+json": {
       "model_id": "a9db8149c25842e79a509f852ed7e98e",
       "version_major": 2,
       "version_minor": 0
      },
      "text/plain": [
       "Validation: 0it [00:00, ?it/s]"
      ]
     },
     "metadata": {},
     "output_type": "display_data"
    },
    {
     "data": {
      "application/vnd.jupyter.widget-view+json": {
       "model_id": "6e6a6caf1d9f4b7389e6b80ba73e4233",
       "version_major": 2,
       "version_minor": 0
      },
      "text/plain": [
       "Validation: 0it [00:00, ?it/s]"
      ]
     },
     "metadata": {},
     "output_type": "display_data"
    },
    {
     "data": {
      "application/vnd.jupyter.widget-view+json": {
       "model_id": "ace668e845164aafa66251c7a45ba475",
       "version_major": 2,
       "version_minor": 0
      },
      "text/plain": [
       "Validation: 0it [00:00, ?it/s]"
      ]
     },
     "metadata": {},
     "output_type": "display_data"
    },
    {
     "data": {
      "application/vnd.jupyter.widget-view+json": {
       "model_id": "0293918741cd42508790925e86750617",
       "version_major": 2,
       "version_minor": 0
      },
      "text/plain": [
       "Validation: 0it [00:00, ?it/s]"
      ]
     },
     "metadata": {},
     "output_type": "display_data"
    },
    {
     "data": {
      "application/vnd.jupyter.widget-view+json": {
       "model_id": "4e2da73efd234f9bbf7cfa7360f83c99",
       "version_major": 2,
       "version_minor": 0
      },
      "text/plain": [
       "Validation: 0it [00:00, ?it/s]"
      ]
     },
     "metadata": {},
     "output_type": "display_data"
    },
    {
     "data": {
      "application/vnd.jupyter.widget-view+json": {
       "model_id": "ac073f03106f44f7b94bb7a7f7b34e1c",
       "version_major": 2,
       "version_minor": 0
      },
      "text/plain": [
       "Validation: 0it [00:00, ?it/s]"
      ]
     },
     "metadata": {},
     "output_type": "display_data"
    },
    {
     "data": {
      "application/vnd.jupyter.widget-view+json": {
       "model_id": "4c89aa24542447cfa507db86994b3dbe",
       "version_major": 2,
       "version_minor": 0
      },
      "text/plain": [
       "Validation: 0it [00:00, ?it/s]"
      ]
     },
     "metadata": {},
     "output_type": "display_data"
    },
    {
     "data": {
      "application/vnd.jupyter.widget-view+json": {
       "model_id": "8966c297402d40dfafd406f5b41bd661",
       "version_major": 2,
       "version_minor": 0
      },
      "text/plain": [
       "Validation: 0it [00:00, ?it/s]"
      ]
     },
     "metadata": {},
     "output_type": "display_data"
    },
    {
     "data": {
      "application/vnd.jupyter.widget-view+json": {
       "model_id": "d1a3e5b14cd54b5c96f44a8bd596f35b",
       "version_major": 2,
       "version_minor": 0
      },
      "text/plain": [
       "Validation: 0it [00:00, ?it/s]"
      ]
     },
     "metadata": {},
     "output_type": "display_data"
    },
    {
     "data": {
      "application/vnd.jupyter.widget-view+json": {
       "model_id": "f98d33a400cb46feb4159bdb9167c526",
       "version_major": 2,
       "version_minor": 0
      },
      "text/plain": [
       "Validation: 0it [00:00, ?it/s]"
      ]
     },
     "metadata": {},
     "output_type": "display_data"
    },
    {
     "data": {
      "application/vnd.jupyter.widget-view+json": {
       "model_id": "20b3999d4e534275b169996f20398cb9",
       "version_major": 2,
       "version_minor": 0
      },
      "text/plain": [
       "Validation: 0it [00:00, ?it/s]"
      ]
     },
     "metadata": {},
     "output_type": "display_data"
    },
    {
     "data": {
      "application/vnd.jupyter.widget-view+json": {
       "model_id": "0b28b964b6bb4058bb6c44b07078bdfd",
       "version_major": 2,
       "version_minor": 0
      },
      "text/plain": [
       "Validation: 0it [00:00, ?it/s]"
      ]
     },
     "metadata": {},
     "output_type": "display_data"
    },
    {
     "data": {
      "application/vnd.jupyter.widget-view+json": {
       "model_id": "592842f97cc944d58e00436bc7f7d071",
       "version_major": 2,
       "version_minor": 0
      },
      "text/plain": [
       "Validation: 0it [00:00, ?it/s]"
      ]
     },
     "metadata": {},
     "output_type": "display_data"
    },
    {
     "data": {
      "application/vnd.jupyter.widget-view+json": {
       "model_id": "b59c140e29fd4120ae6584c690809430",
       "version_major": 2,
       "version_minor": 0
      },
      "text/plain": [
       "Validation: 0it [00:00, ?it/s]"
      ]
     },
     "metadata": {},
     "output_type": "display_data"
    },
    {
     "data": {
      "application/vnd.jupyter.widget-view+json": {
       "model_id": "5b67a130cdc64e87ba292a25ffa23ea5",
       "version_major": 2,
       "version_minor": 0
      },
      "text/plain": [
       "Validation: 0it [00:00, ?it/s]"
      ]
     },
     "metadata": {},
     "output_type": "display_data"
    },
    {
     "data": {
      "application/vnd.jupyter.widget-view+json": {
       "model_id": "f5bc204e39374474a874c9c6af45fce9",
       "version_major": 2,
       "version_minor": 0
      },
      "text/plain": [
       "Validation: 0it [00:00, ?it/s]"
      ]
     },
     "metadata": {},
     "output_type": "display_data"
    },
    {
     "data": {
      "application/vnd.jupyter.widget-view+json": {
       "model_id": "e6e94c7579ae4e9ca4ee3d760a48b4cd",
       "version_major": 2,
       "version_minor": 0
      },
      "text/plain": [
       "Validation: 0it [00:00, ?it/s]"
      ]
     },
     "metadata": {},
     "output_type": "display_data"
    },
    {
     "data": {
      "application/vnd.jupyter.widget-view+json": {
       "model_id": "7e05b153daa7424f84af5a40806a1cd5",
       "version_major": 2,
       "version_minor": 0
      },
      "text/plain": [
       "Validation: 0it [00:00, ?it/s]"
      ]
     },
     "metadata": {},
     "output_type": "display_data"
    },
    {
     "data": {
      "application/vnd.jupyter.widget-view+json": {
       "model_id": "139ea4a34c734f5887cbfe261c1e2272",
       "version_major": 2,
       "version_minor": 0
      },
      "text/plain": [
       "Validation: 0it [00:00, ?it/s]"
      ]
     },
     "metadata": {},
     "output_type": "display_data"
    },
    {
     "data": {
      "application/vnd.jupyter.widget-view+json": {
       "model_id": "4879e1860275410fb5ebd3d8186a9571",
       "version_major": 2,
       "version_minor": 0
      },
      "text/plain": [
       "Validation: 0it [00:00, ?it/s]"
      ]
     },
     "metadata": {},
     "output_type": "display_data"
    },
    {
     "data": {
      "application/vnd.jupyter.widget-view+json": {
       "model_id": "f38dd78843c943fc95e27b561a48ae3b",
       "version_major": 2,
       "version_minor": 0
      },
      "text/plain": [
       "Validation: 0it [00:00, ?it/s]"
      ]
     },
     "metadata": {},
     "output_type": "display_data"
    },
    {
     "data": {
      "application/vnd.jupyter.widget-view+json": {
       "model_id": "8e5b4673d44c49a1bce67f880fdff9bb",
       "version_major": 2,
       "version_minor": 0
      },
      "text/plain": [
       "Validation: 0it [00:00, ?it/s]"
      ]
     },
     "metadata": {},
     "output_type": "display_data"
    },
    {
     "data": {
      "application/vnd.jupyter.widget-view+json": {
       "model_id": "890623bc645d406a8451174cae76bc79",
       "version_major": 2,
       "version_minor": 0
      },
      "text/plain": [
       "Validation: 0it [00:00, ?it/s]"
      ]
     },
     "metadata": {},
     "output_type": "display_data"
    },
    {
     "data": {
      "application/vnd.jupyter.widget-view+json": {
       "model_id": "1f9291e6442b465caec74c65afbf0208",
       "version_major": 2,
       "version_minor": 0
      },
      "text/plain": [
       "Validation: 0it [00:00, ?it/s]"
      ]
     },
     "metadata": {},
     "output_type": "display_data"
    },
    {
     "data": {
      "application/vnd.jupyter.widget-view+json": {
       "model_id": "553fed755145442e95365c94374b46c7",
       "version_major": 2,
       "version_minor": 0
      },
      "text/plain": [
       "Validation: 0it [00:00, ?it/s]"
      ]
     },
     "metadata": {},
     "output_type": "display_data"
    },
    {
     "data": {
      "application/vnd.jupyter.widget-view+json": {
       "model_id": "b42383eec60644b089cf9932a99ba37b",
       "version_major": 2,
       "version_minor": 0
      },
      "text/plain": [
       "Validation: 0it [00:00, ?it/s]"
      ]
     },
     "metadata": {},
     "output_type": "display_data"
    },
    {
     "data": {
      "application/vnd.jupyter.widget-view+json": {
       "model_id": "14d8cf3e4b34416883bff89fe885582e",
       "version_major": 2,
       "version_minor": 0
      },
      "text/plain": [
       "Validation: 0it [00:00, ?it/s]"
      ]
     },
     "metadata": {},
     "output_type": "display_data"
    },
    {
     "data": {
      "application/vnd.jupyter.widget-view+json": {
       "model_id": "17fca4cf28cc43609b377d4bc9d4bc54",
       "version_major": 2,
       "version_minor": 0
      },
      "text/plain": [
       "Validation: 0it [00:00, ?it/s]"
      ]
     },
     "metadata": {},
     "output_type": "display_data"
    },
    {
     "data": {
      "application/vnd.jupyter.widget-view+json": {
       "model_id": "30c271b849ac4f0aa2cd9b405ef7fdcc",
       "version_major": 2,
       "version_minor": 0
      },
      "text/plain": [
       "Validation: 0it [00:00, ?it/s]"
      ]
     },
     "metadata": {},
     "output_type": "display_data"
    },
    {
     "data": {
      "application/vnd.jupyter.widget-view+json": {
       "model_id": "147467964d4d49c78030ceeec6107ef4",
       "version_major": 2,
       "version_minor": 0
      },
      "text/plain": [
       "Validation: 0it [00:00, ?it/s]"
      ]
     },
     "metadata": {},
     "output_type": "display_data"
    },
    {
     "data": {
      "application/vnd.jupyter.widget-view+json": {
       "model_id": "ab3e6fa7335148038e7c82cba322aac6",
       "version_major": 2,
       "version_minor": 0
      },
      "text/plain": [
       "Validation: 0it [00:00, ?it/s]"
      ]
     },
     "metadata": {},
     "output_type": "display_data"
    },
    {
     "data": {
      "application/vnd.jupyter.widget-view+json": {
       "model_id": "6ff581054b694f1baf4c185337a89ad2",
       "version_major": 2,
       "version_minor": 0
      },
      "text/plain": [
       "Validation: 0it [00:00, ?it/s]"
      ]
     },
     "metadata": {},
     "output_type": "display_data"
    },
    {
     "data": {
      "application/vnd.jupyter.widget-view+json": {
       "model_id": "2985454a6d264db08abfe6287c82a9c5",
       "version_major": 2,
       "version_minor": 0
      },
      "text/plain": [
       "Validation: 0it [00:00, ?it/s]"
      ]
     },
     "metadata": {},
     "output_type": "display_data"
    },
    {
     "data": {
      "application/vnd.jupyter.widget-view+json": {
       "model_id": "18574eec325f443ca267677aef4492aa",
       "version_major": 2,
       "version_minor": 0
      },
      "text/plain": [
       "Validation: 0it [00:00, ?it/s]"
      ]
     },
     "metadata": {},
     "output_type": "display_data"
    },
    {
     "data": {
      "application/vnd.jupyter.widget-view+json": {
       "model_id": "3e7962940db748738de254d4eb36f6c0",
       "version_major": 2,
       "version_minor": 0
      },
      "text/plain": [
       "Validation: 0it [00:00, ?it/s]"
      ]
     },
     "metadata": {},
     "output_type": "display_data"
    },
    {
     "data": {
      "application/vnd.jupyter.widget-view+json": {
       "model_id": "40bde3f36a0c47cda5eb47e316de6057",
       "version_major": 2,
       "version_minor": 0
      },
      "text/plain": [
       "Validation: 0it [00:00, ?it/s]"
      ]
     },
     "metadata": {},
     "output_type": "display_data"
    },
    {
     "data": {
      "application/vnd.jupyter.widget-view+json": {
       "model_id": "d6d0fc3336a54d5ea79592d32119f649",
       "version_major": 2,
       "version_minor": 0
      },
      "text/plain": [
       "Validation: 0it [00:00, ?it/s]"
      ]
     },
     "metadata": {},
     "output_type": "display_data"
    },
    {
     "data": {
      "application/vnd.jupyter.widget-view+json": {
       "model_id": "42ddbe0f0efe420a86fe1695e89039c7",
       "version_major": 2,
       "version_minor": 0
      },
      "text/plain": [
       "Validation: 0it [00:00, ?it/s]"
      ]
     },
     "metadata": {},
     "output_type": "display_data"
    },
    {
     "data": {
      "application/vnd.jupyter.widget-view+json": {
       "model_id": "e0eb9b2ee6ae4ca8ae941fbb06b6b4df",
       "version_major": 2,
       "version_minor": 0
      },
      "text/plain": [
       "Validation: 0it [00:00, ?it/s]"
      ]
     },
     "metadata": {},
     "output_type": "display_data"
    },
    {
     "data": {
      "application/vnd.jupyter.widget-view+json": {
       "model_id": "e58bfc2904154ca8b466057f71a5c92a",
       "version_major": 2,
       "version_minor": 0
      },
      "text/plain": [
       "Validation: 0it [00:00, ?it/s]"
      ]
     },
     "metadata": {},
     "output_type": "display_data"
    },
    {
     "data": {
      "application/vnd.jupyter.widget-view+json": {
       "model_id": "caecbd0b2e0841a0a1729f8aaf104a1a",
       "version_major": 2,
       "version_minor": 0
      },
      "text/plain": [
       "Validation: 0it [00:00, ?it/s]"
      ]
     },
     "metadata": {},
     "output_type": "display_data"
    },
    {
     "data": {
      "application/vnd.jupyter.widget-view+json": {
       "model_id": "94733f416a8747f2a6e502ccf298f9af",
       "version_major": 2,
       "version_minor": 0
      },
      "text/plain": [
       "Validation: 0it [00:00, ?it/s]"
      ]
     },
     "metadata": {},
     "output_type": "display_data"
    },
    {
     "data": {
      "application/vnd.jupyter.widget-view+json": {
       "model_id": "e25ef1ccdc404a99a973ea4ffc5f75b4",
       "version_major": 2,
       "version_minor": 0
      },
      "text/plain": [
       "Validation: 0it [00:00, ?it/s]"
      ]
     },
     "metadata": {},
     "output_type": "display_data"
    },
    {
     "data": {
      "application/vnd.jupyter.widget-view+json": {
       "model_id": "97052538364d4c38868f003278e34211",
       "version_major": 2,
       "version_minor": 0
      },
      "text/plain": [
       "Validation: 0it [00:00, ?it/s]"
      ]
     },
     "metadata": {},
     "output_type": "display_data"
    },
    {
     "data": {
      "application/vnd.jupyter.widget-view+json": {
       "model_id": "2bbc533bb3cf466c94006fd29db2c561",
       "version_major": 2,
       "version_minor": 0
      },
      "text/plain": [
       "Validation: 0it [00:00, ?it/s]"
      ]
     },
     "metadata": {},
     "output_type": "display_data"
    },
    {
     "data": {
      "application/vnd.jupyter.widget-view+json": {
       "model_id": "6942279dad0a412ca838fd21bef2db45",
       "version_major": 2,
       "version_minor": 0
      },
      "text/plain": [
       "Validation: 0it [00:00, ?it/s]"
      ]
     },
     "metadata": {},
     "output_type": "display_data"
    },
    {
     "data": {
      "application/vnd.jupyter.widget-view+json": {
       "model_id": "e2a82aa2ed6a47a982ea15cf34f61a71",
       "version_major": 2,
       "version_minor": 0
      },
      "text/plain": [
       "Validation: 0it [00:00, ?it/s]"
      ]
     },
     "metadata": {},
     "output_type": "display_data"
    },
    {
     "data": {
      "application/vnd.jupyter.widget-view+json": {
       "model_id": "0187608cd91643129642a4be7a7c458a",
       "version_major": 2,
       "version_minor": 0
      },
      "text/plain": [
       "Validation: 0it [00:00, ?it/s]"
      ]
     },
     "metadata": {},
     "output_type": "display_data"
    },
    {
     "data": {
      "application/vnd.jupyter.widget-view+json": {
       "model_id": "0b4cd95ef380439f82bb4fa536ea537f",
       "version_major": 2,
       "version_minor": 0
      },
      "text/plain": [
       "Validation: 0it [00:00, ?it/s]"
      ]
     },
     "metadata": {},
     "output_type": "display_data"
    },
    {
     "data": {
      "application/vnd.jupyter.widget-view+json": {
       "model_id": "130eb2baf5b243d4898c9c41f90d86b0",
       "version_major": 2,
       "version_minor": 0
      },
      "text/plain": [
       "Validation: 0it [00:00, ?it/s]"
      ]
     },
     "metadata": {},
     "output_type": "display_data"
    },
    {
     "data": {
      "application/vnd.jupyter.widget-view+json": {
       "model_id": "f22061ca804c4ea98f2a2e54f5e147a2",
       "version_major": 2,
       "version_minor": 0
      },
      "text/plain": [
       "Validation: 0it [00:00, ?it/s]"
      ]
     },
     "metadata": {},
     "output_type": "display_data"
    },
    {
     "data": {
      "application/vnd.jupyter.widget-view+json": {
       "model_id": "7e8201a810e14275b080c2553f5cb31c",
       "version_major": 2,
       "version_minor": 0
      },
      "text/plain": [
       "Validation: 0it [00:00, ?it/s]"
      ]
     },
     "metadata": {},
     "output_type": "display_data"
    },
    {
     "data": {
      "application/vnd.jupyter.widget-view+json": {
       "model_id": "919165fd1f1f410d855b3fd45db67b9c",
       "version_major": 2,
       "version_minor": 0
      },
      "text/plain": [
       "Validation: 0it [00:00, ?it/s]"
      ]
     },
     "metadata": {},
     "output_type": "display_data"
    },
    {
     "data": {
      "application/vnd.jupyter.widget-view+json": {
       "model_id": "348f4589bdd84f7c95c1f3d69b0b140f",
       "version_major": 2,
       "version_minor": 0
      },
      "text/plain": [
       "Validation: 0it [00:00, ?it/s]"
      ]
     },
     "metadata": {},
     "output_type": "display_data"
    },
    {
     "data": {
      "application/vnd.jupyter.widget-view+json": {
       "model_id": "f38d2b33238a44e3a86d86a19dbc3c09",
       "version_major": 2,
       "version_minor": 0
      },
      "text/plain": [
       "Validation: 0it [00:00, ?it/s]"
      ]
     },
     "metadata": {},
     "output_type": "display_data"
    },
    {
     "data": {
      "application/vnd.jupyter.widget-view+json": {
       "model_id": "f7946a6839204ec49814383c884b05fb",
       "version_major": 2,
       "version_minor": 0
      },
      "text/plain": [
       "Validation: 0it [00:00, ?it/s]"
      ]
     },
     "metadata": {},
     "output_type": "display_data"
    },
    {
     "data": {
      "application/vnd.jupyter.widget-view+json": {
       "model_id": "57edfa8444ee4e66b4a122d48f9c4da7",
       "version_major": 2,
       "version_minor": 0
      },
      "text/plain": [
       "Validation: 0it [00:00, ?it/s]"
      ]
     },
     "metadata": {},
     "output_type": "display_data"
    },
    {
     "data": {
      "application/vnd.jupyter.widget-view+json": {
       "model_id": "c74be930d83548cd9236f44be98952ec",
       "version_major": 2,
       "version_minor": 0
      },
      "text/plain": [
       "Validation: 0it [00:00, ?it/s]"
      ]
     },
     "metadata": {},
     "output_type": "display_data"
    },
    {
     "data": {
      "application/vnd.jupyter.widget-view+json": {
       "model_id": "25cdc957665d48bca8e21b123543815e",
       "version_major": 2,
       "version_minor": 0
      },
      "text/plain": [
       "Validation: 0it [00:00, ?it/s]"
      ]
     },
     "metadata": {},
     "output_type": "display_data"
    },
    {
     "data": {
      "application/vnd.jupyter.widget-view+json": {
       "model_id": "8f731dde06d647218c6ed01027c2b240",
       "version_major": 2,
       "version_minor": 0
      },
      "text/plain": [
       "Validation: 0it [00:00, ?it/s]"
      ]
     },
     "metadata": {},
     "output_type": "display_data"
    },
    {
     "data": {
      "application/vnd.jupyter.widget-view+json": {
       "model_id": "3128e92a9e45414780d5858d859afbb1",
       "version_major": 2,
       "version_minor": 0
      },
      "text/plain": [
       "Validation: 0it [00:00, ?it/s]"
      ]
     },
     "metadata": {},
     "output_type": "display_data"
    },
    {
     "data": {
      "application/vnd.jupyter.widget-view+json": {
       "model_id": "303bba0dc22f464680bcc7203878974a",
       "version_major": 2,
       "version_minor": 0
      },
      "text/plain": [
       "Validation: 0it [00:00, ?it/s]"
      ]
     },
     "metadata": {},
     "output_type": "display_data"
    },
    {
     "data": {
      "application/vnd.jupyter.widget-view+json": {
       "model_id": "54e9ecec769d4f06923dad1f513181cc",
       "version_major": 2,
       "version_minor": 0
      },
      "text/plain": [
       "Validation: 0it [00:00, ?it/s]"
      ]
     },
     "metadata": {},
     "output_type": "display_data"
    },
    {
     "data": {
      "application/vnd.jupyter.widget-view+json": {
       "model_id": "e1bc65725c704f57ba95014de9cab390",
       "version_major": 2,
       "version_minor": 0
      },
      "text/plain": [
       "Validation: 0it [00:00, ?it/s]"
      ]
     },
     "metadata": {},
     "output_type": "display_data"
    },
    {
     "data": {
      "application/vnd.jupyter.widget-view+json": {
       "model_id": "a29fadb332704acdb2fa5ce59310691e",
       "version_major": 2,
       "version_minor": 0
      },
      "text/plain": [
       "Validation: 0it [00:00, ?it/s]"
      ]
     },
     "metadata": {},
     "output_type": "display_data"
    },
    {
     "data": {
      "application/vnd.jupyter.widget-view+json": {
       "model_id": "ce48d115336e4f84b6ec4245e0076bdd",
       "version_major": 2,
       "version_minor": 0
      },
      "text/plain": [
       "Validation: 0it [00:00, ?it/s]"
      ]
     },
     "metadata": {},
     "output_type": "display_data"
    },
    {
     "data": {
      "application/vnd.jupyter.widget-view+json": {
       "model_id": "e3ebd63acceb4a009cf78885c724a749",
       "version_major": 2,
       "version_minor": 0
      },
      "text/plain": [
       "Validation: 0it [00:00, ?it/s]"
      ]
     },
     "metadata": {},
     "output_type": "display_data"
    },
    {
     "data": {
      "application/vnd.jupyter.widget-view+json": {
       "model_id": "5208f5219b5b421987cc1b462b72e295",
       "version_major": 2,
       "version_minor": 0
      },
      "text/plain": [
       "Validation: 0it [00:00, ?it/s]"
      ]
     },
     "metadata": {},
     "output_type": "display_data"
    },
    {
     "data": {
      "application/vnd.jupyter.widget-view+json": {
       "model_id": "864c7d76c166484ca4bded50e51f62a3",
       "version_major": 2,
       "version_minor": 0
      },
      "text/plain": [
       "Validation: 0it [00:00, ?it/s]"
      ]
     },
     "metadata": {},
     "output_type": "display_data"
    },
    {
     "data": {
      "application/vnd.jupyter.widget-view+json": {
       "model_id": "5bf547a8316c43e5ae1d7d9f201b4e7a",
       "version_major": 2,
       "version_minor": 0
      },
      "text/plain": [
       "Validation: 0it [00:00, ?it/s]"
      ]
     },
     "metadata": {},
     "output_type": "display_data"
    },
    {
     "data": {
      "application/vnd.jupyter.widget-view+json": {
       "model_id": "e395de00f1254336a66f43819ab00b9e",
       "version_major": 2,
       "version_minor": 0
      },
      "text/plain": [
       "Validation: 0it [00:00, ?it/s]"
      ]
     },
     "metadata": {},
     "output_type": "display_data"
    },
    {
     "data": {
      "application/vnd.jupyter.widget-view+json": {
       "model_id": "c6d7d0de29994482b648d652ad29852a",
       "version_major": 2,
       "version_minor": 0
      },
      "text/plain": [
       "Validation: 0it [00:00, ?it/s]"
      ]
     },
     "metadata": {},
     "output_type": "display_data"
    },
    {
     "data": {
      "application/vnd.jupyter.widget-view+json": {
       "model_id": "4aeb3d40403f4b6b88f86126ec99a260",
       "version_major": 2,
       "version_minor": 0
      },
      "text/plain": [
       "Validation: 0it [00:00, ?it/s]"
      ]
     },
     "metadata": {},
     "output_type": "display_data"
    },
    {
     "data": {
      "application/vnd.jupyter.widget-view+json": {
       "model_id": "d2b703a9f7b44df2bf19bd8803bd913f",
       "version_major": 2,
       "version_minor": 0
      },
      "text/plain": [
       "Validation: 0it [00:00, ?it/s]"
      ]
     },
     "metadata": {},
     "output_type": "display_data"
    },
    {
     "data": {
      "application/vnd.jupyter.widget-view+json": {
       "model_id": "e017c253151949d697b31052694d8c28",
       "version_major": 2,
       "version_minor": 0
      },
      "text/plain": [
       "Validation: 0it [00:00, ?it/s]"
      ]
     },
     "metadata": {},
     "output_type": "display_data"
    },
    {
     "data": {
      "application/vnd.jupyter.widget-view+json": {
       "model_id": "800b51414ae7418ba48fa1e363034760",
       "version_major": 2,
       "version_minor": 0
      },
      "text/plain": [
       "Validation: 0it [00:00, ?it/s]"
      ]
     },
     "metadata": {},
     "output_type": "display_data"
    },
    {
     "data": {
      "application/vnd.jupyter.widget-view+json": {
       "model_id": "eecbf73c66e349579efd621ab3e83192",
       "version_major": 2,
       "version_minor": 0
      },
      "text/plain": [
       "Validation: 0it [00:00, ?it/s]"
      ]
     },
     "metadata": {},
     "output_type": "display_data"
    },
    {
     "data": {
      "application/vnd.jupyter.widget-view+json": {
       "model_id": "e753ea7113d04565a51061192045681f",
       "version_major": 2,
       "version_minor": 0
      },
      "text/plain": [
       "Validation: 0it [00:00, ?it/s]"
      ]
     },
     "metadata": {},
     "output_type": "display_data"
    },
    {
     "data": {
      "application/vnd.jupyter.widget-view+json": {
       "model_id": "3a2f048f3d8f4017abb3d0b6b72d0a28",
       "version_major": 2,
       "version_minor": 0
      },
      "text/plain": [
       "Validation: 0it [00:00, ?it/s]"
      ]
     },
     "metadata": {},
     "output_type": "display_data"
    },
    {
     "data": {
      "application/vnd.jupyter.widget-view+json": {
       "model_id": "5b27db55aee64248832ee00423d82d89",
       "version_major": 2,
       "version_minor": 0
      },
      "text/plain": [
       "Validation: 0it [00:00, ?it/s]"
      ]
     },
     "metadata": {},
     "output_type": "display_data"
    },
    {
     "data": {
      "application/vnd.jupyter.widget-view+json": {
       "model_id": "f77ca7ad65e74d3a9e6fb16fce5e6545",
       "version_major": 2,
       "version_minor": 0
      },
      "text/plain": [
       "Validation: 0it [00:00, ?it/s]"
      ]
     },
     "metadata": {},
     "output_type": "display_data"
    },
    {
     "data": {
      "application/vnd.jupyter.widget-view+json": {
       "model_id": "46312a68019f481e9d7fd441524bf5da",
       "version_major": 2,
       "version_minor": 0
      },
      "text/plain": [
       "Validation: 0it [00:00, ?it/s]"
      ]
     },
     "metadata": {},
     "output_type": "display_data"
    },
    {
     "data": {
      "application/vnd.jupyter.widget-view+json": {
       "model_id": "a48e3ca642cf48918174ef9f399b5d8a",
       "version_major": 2,
       "version_minor": 0
      },
      "text/plain": [
       "Validation: 0it [00:00, ?it/s]"
      ]
     },
     "metadata": {},
     "output_type": "display_data"
    },
    {
     "data": {
      "application/vnd.jupyter.widget-view+json": {
       "model_id": "b42a4fb8864f4e8fbcb0bb445ddcb465",
       "version_major": 2,
       "version_minor": 0
      },
      "text/plain": [
       "Validation: 0it [00:00, ?it/s]"
      ]
     },
     "metadata": {},
     "output_type": "display_data"
    },
    {
     "data": {
      "application/vnd.jupyter.widget-view+json": {
       "model_id": "ac2f4fd5afd2420582b2ae6b565102a7",
       "version_major": 2,
       "version_minor": 0
      },
      "text/plain": [
       "Validation: 0it [00:00, ?it/s]"
      ]
     },
     "metadata": {},
     "output_type": "display_data"
    },
    {
     "data": {
      "application/vnd.jupyter.widget-view+json": {
       "model_id": "50a710cab2564e01b6c24eff0bce888d",
       "version_major": 2,
       "version_minor": 0
      },
      "text/plain": [
       "Validation: 0it [00:00, ?it/s]"
      ]
     },
     "metadata": {},
     "output_type": "display_data"
    },
    {
     "data": {
      "application/vnd.jupyter.widget-view+json": {
       "model_id": "b333cf72e963425eb14ad9b8efad8224",
       "version_major": 2,
       "version_minor": 0
      },
      "text/plain": [
       "Validation: 0it [00:00, ?it/s]"
      ]
     },
     "metadata": {},
     "output_type": "display_data"
    },
    {
     "data": {
      "application/vnd.jupyter.widget-view+json": {
       "model_id": "8f54d5adce38492d90227516be915b62",
       "version_major": 2,
       "version_minor": 0
      },
      "text/plain": [
       "Validation: 0it [00:00, ?it/s]"
      ]
     },
     "metadata": {},
     "output_type": "display_data"
    },
    {
     "data": {
      "application/vnd.jupyter.widget-view+json": {
       "model_id": "531db6d5ba4e467ea146f71813b28cb6",
       "version_major": 2,
       "version_minor": 0
      },
      "text/plain": [
       "Validation: 0it [00:00, ?it/s]"
      ]
     },
     "metadata": {},
     "output_type": "display_data"
    },
    {
     "data": {
      "application/vnd.jupyter.widget-view+json": {
       "model_id": "04adad4fcb384da1be8aa9f2d9b58150",
       "version_major": 2,
       "version_minor": 0
      },
      "text/plain": [
       "Validation: 0it [00:00, ?it/s]"
      ]
     },
     "metadata": {},
     "output_type": "display_data"
    },
    {
     "data": {
      "application/vnd.jupyter.widget-view+json": {
       "model_id": "3fb9f719917e481c9fc9e6057a2d87ae",
       "version_major": 2,
       "version_minor": 0
      },
      "text/plain": [
       "Validation: 0it [00:00, ?it/s]"
      ]
     },
     "metadata": {},
     "output_type": "display_data"
    },
    {
     "data": {
      "application/vnd.jupyter.widget-view+json": {
       "model_id": "cddd8edab9e342499afa7c5a08ec5738",
       "version_major": 2,
       "version_minor": 0
      },
      "text/plain": [
       "Validation: 0it [00:00, ?it/s]"
      ]
     },
     "metadata": {},
     "output_type": "display_data"
    },
    {
     "data": {
      "application/vnd.jupyter.widget-view+json": {
       "model_id": "cd5eb21eb7b14bd1b97aba8c77193d1f",
       "version_major": 2,
       "version_minor": 0
      },
      "text/plain": [
       "Validation: 0it [00:00, ?it/s]"
      ]
     },
     "metadata": {},
     "output_type": "display_data"
    },
    {
     "data": {
      "application/vnd.jupyter.widget-view+json": {
       "model_id": "cfd54fd327b542a4ad2d6e2d722f2471",
       "version_major": 2,
       "version_minor": 0
      },
      "text/plain": [
       "Validation: 0it [00:00, ?it/s]"
      ]
     },
     "metadata": {},
     "output_type": "display_data"
    },
    {
     "data": {
      "application/vnd.jupyter.widget-view+json": {
       "model_id": "799b165ffd7f48bd8d2960b0a30df870",
       "version_major": 2,
       "version_minor": 0
      },
      "text/plain": [
       "Validation: 0it [00:00, ?it/s]"
      ]
     },
     "metadata": {},
     "output_type": "display_data"
    },
    {
     "data": {
      "application/vnd.jupyter.widget-view+json": {
       "model_id": "a5ad623c86804aab8ae29157bd9d72cf",
       "version_major": 2,
       "version_minor": 0
      },
      "text/plain": [
       "Validation: 0it [00:00, ?it/s]"
      ]
     },
     "metadata": {},
     "output_type": "display_data"
    },
    {
     "data": {
      "application/vnd.jupyter.widget-view+json": {
       "model_id": "7ef5e65e5f46444a8c5e973cdf8fb464",
       "version_major": 2,
       "version_minor": 0
      },
      "text/plain": [
       "Validation: 0it [00:00, ?it/s]"
      ]
     },
     "metadata": {},
     "output_type": "display_data"
    },
    {
     "data": {
      "application/vnd.jupyter.widget-view+json": {
       "model_id": "f07ebe50362947168c89fd738c522232",
       "version_major": 2,
       "version_minor": 0
      },
      "text/plain": [
       "Validation: 0it [00:00, ?it/s]"
      ]
     },
     "metadata": {},
     "output_type": "display_data"
    },
    {
     "data": {
      "application/vnd.jupyter.widget-view+json": {
       "model_id": "ae208aeb2d044d69ab0798990c037059",
       "version_major": 2,
       "version_minor": 0
      },
      "text/plain": [
       "Validation: 0it [00:00, ?it/s]"
      ]
     },
     "metadata": {},
     "output_type": "display_data"
    },
    {
     "data": {
      "application/vnd.jupyter.widget-view+json": {
       "model_id": "fd511b3507de4393a8da238b086e9ce0",
       "version_major": 2,
       "version_minor": 0
      },
      "text/plain": [
       "Validation: 0it [00:00, ?it/s]"
      ]
     },
     "metadata": {},
     "output_type": "display_data"
    },
    {
     "data": {
      "application/vnd.jupyter.widget-view+json": {
       "model_id": "eac291da6a5a4cc1b94134d02affe430",
       "version_major": 2,
       "version_minor": 0
      },
      "text/plain": [
       "Validation: 0it [00:00, ?it/s]"
      ]
     },
     "metadata": {},
     "output_type": "display_data"
    },
    {
     "data": {
      "application/vnd.jupyter.widget-view+json": {
       "model_id": "d13f36869a4441deb27ca8234f5289ea",
       "version_major": 2,
       "version_minor": 0
      },
      "text/plain": [
       "Validation: 0it [00:00, ?it/s]"
      ]
     },
     "metadata": {},
     "output_type": "display_data"
    },
    {
     "data": {
      "application/vnd.jupyter.widget-view+json": {
       "model_id": "632e446a75fb44ce99cb73a140103bad",
       "version_major": 2,
       "version_minor": 0
      },
      "text/plain": [
       "Validation: 0it [00:00, ?it/s]"
      ]
     },
     "metadata": {},
     "output_type": "display_data"
    },
    {
     "data": {
      "application/vnd.jupyter.widget-view+json": {
       "model_id": "fcb48af652b040dd8a1defd141e39520",
       "version_major": 2,
       "version_minor": 0
      },
      "text/plain": [
       "Validation: 0it [00:00, ?it/s]"
      ]
     },
     "metadata": {},
     "output_type": "display_data"
    },
    {
     "data": {
      "application/vnd.jupyter.widget-view+json": {
       "model_id": "0fc272ee053946b6b2b2121c8df888e1",
       "version_major": 2,
       "version_minor": 0
      },
      "text/plain": [
       "Validation: 0it [00:00, ?it/s]"
      ]
     },
     "metadata": {},
     "output_type": "display_data"
    },
    {
     "data": {
      "application/vnd.jupyter.widget-view+json": {
       "model_id": "61fe2eb093a845e9b778e6c308b3a541",
       "version_major": 2,
       "version_minor": 0
      },
      "text/plain": [
       "Validation: 0it [00:00, ?it/s]"
      ]
     },
     "metadata": {},
     "output_type": "display_data"
    },
    {
     "data": {
      "application/vnd.jupyter.widget-view+json": {
       "model_id": "a76ca60fff7a4020bdf8da2cecdc7859",
       "version_major": 2,
       "version_minor": 0
      },
      "text/plain": [
       "Validation: 0it [00:00, ?it/s]"
      ]
     },
     "metadata": {},
     "output_type": "display_data"
    },
    {
     "data": {
      "application/vnd.jupyter.widget-view+json": {
       "model_id": "1b30a6b6811f4738ab2a7b79a83358a6",
       "version_major": 2,
       "version_minor": 0
      },
      "text/plain": [
       "Validation: 0it [00:00, ?it/s]"
      ]
     },
     "metadata": {},
     "output_type": "display_data"
    },
    {
     "data": {
      "application/vnd.jupyter.widget-view+json": {
       "model_id": "a68c17de08cc42529773e42b66bbd963",
       "version_major": 2,
       "version_minor": 0
      },
      "text/plain": [
       "Validation: 0it [00:00, ?it/s]"
      ]
     },
     "metadata": {},
     "output_type": "display_data"
    },
    {
     "data": {
      "application/vnd.jupyter.widget-view+json": {
       "model_id": "c830be76bb23414c80320432998106f8",
       "version_major": 2,
       "version_minor": 0
      },
      "text/plain": [
       "Validation: 0it [00:00, ?it/s]"
      ]
     },
     "metadata": {},
     "output_type": "display_data"
    },
    {
     "data": {
      "application/vnd.jupyter.widget-view+json": {
       "model_id": "86d7997063ef421d84161fbb69383dd3",
       "version_major": 2,
       "version_minor": 0
      },
      "text/plain": [
       "Validation: 0it [00:00, ?it/s]"
      ]
     },
     "metadata": {},
     "output_type": "display_data"
    },
    {
     "data": {
      "application/vnd.jupyter.widget-view+json": {
       "model_id": "806911f6bbed4480a675ab872e4e1a0d",
       "version_major": 2,
       "version_minor": 0
      },
      "text/plain": [
       "Validation: 0it [00:00, ?it/s]"
      ]
     },
     "metadata": {},
     "output_type": "display_data"
    },
    {
     "data": {
      "application/vnd.jupyter.widget-view+json": {
       "model_id": "1da748ef8230465a9abceebb7d32aabe",
       "version_major": 2,
       "version_minor": 0
      },
      "text/plain": [
       "Validation: 0it [00:00, ?it/s]"
      ]
     },
     "metadata": {},
     "output_type": "display_data"
    },
    {
     "data": {
      "application/vnd.jupyter.widget-view+json": {
       "model_id": "ad1f4cdd6c614f1cb7109e48b4e7dfc7",
       "version_major": 2,
       "version_minor": 0
      },
      "text/plain": [
       "Validation: 0it [00:00, ?it/s]"
      ]
     },
     "metadata": {},
     "output_type": "display_data"
    },
    {
     "data": {
      "application/vnd.jupyter.widget-view+json": {
       "model_id": "9b717cbddc994ff29045dcb284a8f726",
       "version_major": 2,
       "version_minor": 0
      },
      "text/plain": [
       "Validation: 0it [00:00, ?it/s]"
      ]
     },
     "metadata": {},
     "output_type": "display_data"
    },
    {
     "data": {
      "application/vnd.jupyter.widget-view+json": {
       "model_id": "4c99e36927a646439cf1a77b30cd3891",
       "version_major": 2,
       "version_minor": 0
      },
      "text/plain": [
       "Validation: 0it [00:00, ?it/s]"
      ]
     },
     "metadata": {},
     "output_type": "display_data"
    },
    {
     "data": {
      "application/vnd.jupyter.widget-view+json": {
       "model_id": "a42feef36fce4625b130948ac856b4c4",
       "version_major": 2,
       "version_minor": 0
      },
      "text/plain": [
       "Validation: 0it [00:00, ?it/s]"
      ]
     },
     "metadata": {},
     "output_type": "display_data"
    },
    {
     "data": {
      "application/vnd.jupyter.widget-view+json": {
       "model_id": "bea33e2a7ed242a3a0d014ee87bd1c91",
       "version_major": 2,
       "version_minor": 0
      },
      "text/plain": [
       "Validation: 0it [00:00, ?it/s]"
      ]
     },
     "metadata": {},
     "output_type": "display_data"
    },
    {
     "data": {
      "application/vnd.jupyter.widget-view+json": {
       "model_id": "91272298a44e4541afda3328c7bdd386",
       "version_major": 2,
       "version_minor": 0
      },
      "text/plain": [
       "Validation: 0it [00:00, ?it/s]"
      ]
     },
     "metadata": {},
     "output_type": "display_data"
    },
    {
     "data": {
      "application/vnd.jupyter.widget-view+json": {
       "model_id": "538c163ecb7848c3bddc7078e6e724df",
       "version_major": 2,
       "version_minor": 0
      },
      "text/plain": [
       "Validation: 0it [00:00, ?it/s]"
      ]
     },
     "metadata": {},
     "output_type": "display_data"
    },
    {
     "data": {
      "application/vnd.jupyter.widget-view+json": {
       "model_id": "a93ce79107304545854be3f1ae76f9f9",
       "version_major": 2,
       "version_minor": 0
      },
      "text/plain": [
       "Validation: 0it [00:00, ?it/s]"
      ]
     },
     "metadata": {},
     "output_type": "display_data"
    },
    {
     "data": {
      "application/vnd.jupyter.widget-view+json": {
       "model_id": "46055a8009d24145898c2b91c397b570",
       "version_major": 2,
       "version_minor": 0
      },
      "text/plain": [
       "Validation: 0it [00:00, ?it/s]"
      ]
     },
     "metadata": {},
     "output_type": "display_data"
    },
    {
     "data": {
      "application/vnd.jupyter.widget-view+json": {
       "model_id": "6bf33f58866948bf9829610843a81bf8",
       "version_major": 2,
       "version_minor": 0
      },
      "text/plain": [
       "Validation: 0it [00:00, ?it/s]"
      ]
     },
     "metadata": {},
     "output_type": "display_data"
    },
    {
     "data": {
      "application/vnd.jupyter.widget-view+json": {
       "model_id": "4146368cc3b54dcdbcaa221236797987",
       "version_major": 2,
       "version_minor": 0
      },
      "text/plain": [
       "Validation: 0it [00:00, ?it/s]"
      ]
     },
     "metadata": {},
     "output_type": "display_data"
    },
    {
     "data": {
      "application/vnd.jupyter.widget-view+json": {
       "model_id": "8c48bccce8a747c89ad640eb1af0bae8",
       "version_major": 2,
       "version_minor": 0
      },
      "text/plain": [
       "Validation: 0it [00:00, ?it/s]"
      ]
     },
     "metadata": {},
     "output_type": "display_data"
    },
    {
     "data": {
      "application/vnd.jupyter.widget-view+json": {
       "model_id": "1145a3dfd2494fa680517d81c38cc9cd",
       "version_major": 2,
       "version_minor": 0
      },
      "text/plain": [
       "Validation: 0it [00:00, ?it/s]"
      ]
     },
     "metadata": {},
     "output_type": "display_data"
    },
    {
     "data": {
      "application/vnd.jupyter.widget-view+json": {
       "model_id": "f19d1ef54828408ea7e7c7ec16a5e8a6",
       "version_major": 2,
       "version_minor": 0
      },
      "text/plain": [
       "Validation: 0it [00:00, ?it/s]"
      ]
     },
     "metadata": {},
     "output_type": "display_data"
    },
    {
     "data": {
      "application/vnd.jupyter.widget-view+json": {
       "model_id": "56c3d26dd30e4c08ac9dc96e27a1a048",
       "version_major": 2,
       "version_minor": 0
      },
      "text/plain": [
       "Validation: 0it [00:00, ?it/s]"
      ]
     },
     "metadata": {},
     "output_type": "display_data"
    },
    {
     "data": {
      "application/vnd.jupyter.widget-view+json": {
       "model_id": "156409a7ca574e6c8fe5677821863500",
       "version_major": 2,
       "version_minor": 0
      },
      "text/plain": [
       "Validation: 0it [00:00, ?it/s]"
      ]
     },
     "metadata": {},
     "output_type": "display_data"
    },
    {
     "data": {
      "application/vnd.jupyter.widget-view+json": {
       "model_id": "d17e69fb5010400a9510154cba435464",
       "version_major": 2,
       "version_minor": 0
      },
      "text/plain": [
       "Validation: 0it [00:00, ?it/s]"
      ]
     },
     "metadata": {},
     "output_type": "display_data"
    },
    {
     "data": {
      "application/vnd.jupyter.widget-view+json": {
       "model_id": "cb9f395da063420c9286d896e66ff2d6",
       "version_major": 2,
       "version_minor": 0
      },
      "text/plain": [
       "Validation: 0it [00:00, ?it/s]"
      ]
     },
     "metadata": {},
     "output_type": "display_data"
    },
    {
     "data": {
      "application/vnd.jupyter.widget-view+json": {
       "model_id": "64c36d0cf71c49cf86843ac94a51d6b4",
       "version_major": 2,
       "version_minor": 0
      },
      "text/plain": [
       "Validation: 0it [00:00, ?it/s]"
      ]
     },
     "metadata": {},
     "output_type": "display_data"
    },
    {
     "data": {
      "application/vnd.jupyter.widget-view+json": {
       "model_id": "001eaa13fafb49819e7406bbadb4436b",
       "version_major": 2,
       "version_minor": 0
      },
      "text/plain": [
       "Validation: 0it [00:00, ?it/s]"
      ]
     },
     "metadata": {},
     "output_type": "display_data"
    },
    {
     "data": {
      "application/vnd.jupyter.widget-view+json": {
       "model_id": "f4ae0b5e8c5a4ee6b40f0b66d356bdb6",
       "version_major": 2,
       "version_minor": 0
      },
      "text/plain": [
       "Validation: 0it [00:00, ?it/s]"
      ]
     },
     "metadata": {},
     "output_type": "display_data"
    },
    {
     "data": {
      "application/vnd.jupyter.widget-view+json": {
       "model_id": "f3157ca7f3194076bbe3c4a8d3262ffa",
       "version_major": 2,
       "version_minor": 0
      },
      "text/plain": [
       "Validation: 0it [00:00, ?it/s]"
      ]
     },
     "metadata": {},
     "output_type": "display_data"
    },
    {
     "data": {
      "application/vnd.jupyter.widget-view+json": {
       "model_id": "543c7d002316424192815ac7b08a6492",
       "version_major": 2,
       "version_minor": 0
      },
      "text/plain": [
       "Validation: 0it [00:00, ?it/s]"
      ]
     },
     "metadata": {},
     "output_type": "display_data"
    },
    {
     "data": {
      "application/vnd.jupyter.widget-view+json": {
       "model_id": "e2b3218a098c4cf5b3f371513eb36755",
       "version_major": 2,
       "version_minor": 0
      },
      "text/plain": [
       "Validation: 0it [00:00, ?it/s]"
      ]
     },
     "metadata": {},
     "output_type": "display_data"
    },
    {
     "data": {
      "application/vnd.jupyter.widget-view+json": {
       "model_id": "a5bc5ae135d94d11972d37aefb8cffa6",
       "version_major": 2,
       "version_minor": 0
      },
      "text/plain": [
       "Validation: 0it [00:00, ?it/s]"
      ]
     },
     "metadata": {},
     "output_type": "display_data"
    },
    {
     "data": {
      "application/vnd.jupyter.widget-view+json": {
       "model_id": "07bdaed484fc4135bc987ecc38b90a86",
       "version_major": 2,
       "version_minor": 0
      },
      "text/plain": [
       "Validation: 0it [00:00, ?it/s]"
      ]
     },
     "metadata": {},
     "output_type": "display_data"
    },
    {
     "data": {
      "application/vnd.jupyter.widget-view+json": {
       "model_id": "ee9b8d0f4d104e64ae9690c97851d785",
       "version_major": 2,
       "version_minor": 0
      },
      "text/plain": [
       "Validation: 0it [00:00, ?it/s]"
      ]
     },
     "metadata": {},
     "output_type": "display_data"
    },
    {
     "data": {
      "application/vnd.jupyter.widget-view+json": {
       "model_id": "5d59050acf46458fb2df35b7119e790a",
       "version_major": 2,
       "version_minor": 0
      },
      "text/plain": [
       "Validation: 0it [00:00, ?it/s]"
      ]
     },
     "metadata": {},
     "output_type": "display_data"
    },
    {
     "data": {
      "application/vnd.jupyter.widget-view+json": {
       "model_id": "4a4a9fbaa2714bb7a2d3219e44f207d7",
       "version_major": 2,
       "version_minor": 0
      },
      "text/plain": [
       "Validation: 0it [00:00, ?it/s]"
      ]
     },
     "metadata": {},
     "output_type": "display_data"
    },
    {
     "data": {
      "application/vnd.jupyter.widget-view+json": {
       "model_id": "6c76dc720f9b492bb1736e5f526eba91",
       "version_major": 2,
       "version_minor": 0
      },
      "text/plain": [
       "Validation: 0it [00:00, ?it/s]"
      ]
     },
     "metadata": {},
     "output_type": "display_data"
    },
    {
     "data": {
      "application/vnd.jupyter.widget-view+json": {
       "model_id": "d6282965e8ca485fb77fda91d35a2c9c",
       "version_major": 2,
       "version_minor": 0
      },
      "text/plain": [
       "Validation: 0it [00:00, ?it/s]"
      ]
     },
     "metadata": {},
     "output_type": "display_data"
    },
    {
     "data": {
      "application/vnd.jupyter.widget-view+json": {
       "model_id": "94ccec9833f4479380b8f98893c5f7ed",
       "version_major": 2,
       "version_minor": 0
      },
      "text/plain": [
       "Validation: 0it [00:00, ?it/s]"
      ]
     },
     "metadata": {},
     "output_type": "display_data"
    },
    {
     "data": {
      "application/vnd.jupyter.widget-view+json": {
       "model_id": "a489fdd90fca42c0989b16d1091aa098",
       "version_major": 2,
       "version_minor": 0
      },
      "text/plain": [
       "Validation: 0it [00:00, ?it/s]"
      ]
     },
     "metadata": {},
     "output_type": "display_data"
    },
    {
     "data": {
      "application/vnd.jupyter.widget-view+json": {
       "model_id": "c19dad6c75e54ce393556d6e8a23b4b2",
       "version_major": 2,
       "version_minor": 0
      },
      "text/plain": [
       "Validation: 0it [00:00, ?it/s]"
      ]
     },
     "metadata": {},
     "output_type": "display_data"
    },
    {
     "data": {
      "application/vnd.jupyter.widget-view+json": {
       "model_id": "afd812e2e62d41898b338f1d43e94db6",
       "version_major": 2,
       "version_minor": 0
      },
      "text/plain": [
       "Validation: 0it [00:00, ?it/s]"
      ]
     },
     "metadata": {},
     "output_type": "display_data"
    },
    {
     "data": {
      "application/vnd.jupyter.widget-view+json": {
       "model_id": "571ecf4a49cf434ab2fa5a80f000c1f4",
       "version_major": 2,
       "version_minor": 0
      },
      "text/plain": [
       "Validation: 0it [00:00, ?it/s]"
      ]
     },
     "metadata": {},
     "output_type": "display_data"
    },
    {
     "data": {
      "application/vnd.jupyter.widget-view+json": {
       "model_id": "fa74712687d049c8a2a39c4642f85aa7",
       "version_major": 2,
       "version_minor": 0
      },
      "text/plain": [
       "Validation: 0it [00:00, ?it/s]"
      ]
     },
     "metadata": {},
     "output_type": "display_data"
    },
    {
     "data": {
      "application/vnd.jupyter.widget-view+json": {
       "model_id": "2179ea39ed054232adea6958063fd816",
       "version_major": 2,
       "version_minor": 0
      },
      "text/plain": [
       "Validation: 0it [00:00, ?it/s]"
      ]
     },
     "metadata": {},
     "output_type": "display_data"
    },
    {
     "data": {
      "application/vnd.jupyter.widget-view+json": {
       "model_id": "ef5a73832d5845c2a20281d81339d85f",
       "version_major": 2,
       "version_minor": 0
      },
      "text/plain": [
       "Validation: 0it [00:00, ?it/s]"
      ]
     },
     "metadata": {},
     "output_type": "display_data"
    },
    {
     "data": {
      "application/vnd.jupyter.widget-view+json": {
       "model_id": "3875fff255194f579fc781dc381f1964",
       "version_major": 2,
       "version_minor": 0
      },
      "text/plain": [
       "Validation: 0it [00:00, ?it/s]"
      ]
     },
     "metadata": {},
     "output_type": "display_data"
    },
    {
     "data": {
      "application/vnd.jupyter.widget-view+json": {
       "model_id": "d88ed1bcf3084e1ebe52b7c80c234fba",
       "version_major": 2,
       "version_minor": 0
      },
      "text/plain": [
       "Validation: 0it [00:00, ?it/s]"
      ]
     },
     "metadata": {},
     "output_type": "display_data"
    },
    {
     "data": {
      "application/vnd.jupyter.widget-view+json": {
       "model_id": "62ab98c79079482390b7f3bf6d3186bf",
       "version_major": 2,
       "version_minor": 0
      },
      "text/plain": [
       "Validation: 0it [00:00, ?it/s]"
      ]
     },
     "metadata": {},
     "output_type": "display_data"
    },
    {
     "data": {
      "application/vnd.jupyter.widget-view+json": {
       "model_id": "17ba2864b75c44b7a5a0d4dad8cdf36b",
       "version_major": 2,
       "version_minor": 0
      },
      "text/plain": [
       "Validation: 0it [00:00, ?it/s]"
      ]
     },
     "metadata": {},
     "output_type": "display_data"
    },
    {
     "data": {
      "application/vnd.jupyter.widget-view+json": {
       "model_id": "c4a30e09e4484ca4b90b23605d38ad92",
       "version_major": 2,
       "version_minor": 0
      },
      "text/plain": [
       "Validation: 0it [00:00, ?it/s]"
      ]
     },
     "metadata": {},
     "output_type": "display_data"
    },
    {
     "data": {
      "application/vnd.jupyter.widget-view+json": {
       "model_id": "d684dd956aca4fad901a3137f0d928a6",
       "version_major": 2,
       "version_minor": 0
      },
      "text/plain": [
       "Validation: 0it [00:00, ?it/s]"
      ]
     },
     "metadata": {},
     "output_type": "display_data"
    },
    {
     "data": {
      "application/vnd.jupyter.widget-view+json": {
       "model_id": "d35ebb274b43434584c9437e34d968b8",
       "version_major": 2,
       "version_minor": 0
      },
      "text/plain": [
       "Validation: 0it [00:00, ?it/s]"
      ]
     },
     "metadata": {},
     "output_type": "display_data"
    },
    {
     "data": {
      "application/vnd.jupyter.widget-view+json": {
       "model_id": "19acb008fc834333961ba8c485962051",
       "version_major": 2,
       "version_minor": 0
      },
      "text/plain": [
       "Validation: 0it [00:00, ?it/s]"
      ]
     },
     "metadata": {},
     "output_type": "display_data"
    },
    {
     "data": {
      "application/vnd.jupyter.widget-view+json": {
       "model_id": "05d6a5e9a5b448dd839741e3f3cfbd04",
       "version_major": 2,
       "version_minor": 0
      },
      "text/plain": [
       "Validation: 0it [00:00, ?it/s]"
      ]
     },
     "metadata": {},
     "output_type": "display_data"
    },
    {
     "data": {
      "application/vnd.jupyter.widget-view+json": {
       "model_id": "ee51b16c09894e06822e4e366bdfc8f0",
       "version_major": 2,
       "version_minor": 0
      },
      "text/plain": [
       "Validation: 0it [00:00, ?it/s]"
      ]
     },
     "metadata": {},
     "output_type": "display_data"
    },
    {
     "data": {
      "application/vnd.jupyter.widget-view+json": {
       "model_id": "e41727841abc4ce7bcc59e7b33e5c154",
       "version_major": 2,
       "version_minor": 0
      },
      "text/plain": [
       "Validation: 0it [00:00, ?it/s]"
      ]
     },
     "metadata": {},
     "output_type": "display_data"
    },
    {
     "data": {
      "application/vnd.jupyter.widget-view+json": {
       "model_id": "b6e60b7bf89344db8a94b84b7d415a53",
       "version_major": 2,
       "version_minor": 0
      },
      "text/plain": [
       "Validation: 0it [00:00, ?it/s]"
      ]
     },
     "metadata": {},
     "output_type": "display_data"
    },
    {
     "data": {
      "application/vnd.jupyter.widget-view+json": {
       "model_id": "17d84b9dc75e463280c5918d8e797ffe",
       "version_major": 2,
       "version_minor": 0
      },
      "text/plain": [
       "Validation: 0it [00:00, ?it/s]"
      ]
     },
     "metadata": {},
     "output_type": "display_data"
    },
    {
     "data": {
      "application/vnd.jupyter.widget-view+json": {
       "model_id": "b7d303977f3a44b69792d878df40ffde",
       "version_major": 2,
       "version_minor": 0
      },
      "text/plain": [
       "Validation: 0it [00:00, ?it/s]"
      ]
     },
     "metadata": {},
     "output_type": "display_data"
    },
    {
     "data": {
      "application/vnd.jupyter.widget-view+json": {
       "model_id": "f2b50573735b47eb876ba174ba0590bc",
       "version_major": 2,
       "version_minor": 0
      },
      "text/plain": [
       "Validation: 0it [00:00, ?it/s]"
      ]
     },
     "metadata": {},
     "output_type": "display_data"
    },
    {
     "data": {
      "application/vnd.jupyter.widget-view+json": {
       "model_id": "c4082d2854f145198ce69523fec3559e",
       "version_major": 2,
       "version_minor": 0
      },
      "text/plain": [
       "Validation: 0it [00:00, ?it/s]"
      ]
     },
     "metadata": {},
     "output_type": "display_data"
    },
    {
     "data": {
      "application/vnd.jupyter.widget-view+json": {
       "model_id": "41c842a5349d4a92ad3bf5460400fb62",
       "version_major": 2,
       "version_minor": 0
      },
      "text/plain": [
       "Validation: 0it [00:00, ?it/s]"
      ]
     },
     "metadata": {},
     "output_type": "display_data"
    },
    {
     "data": {
      "application/vnd.jupyter.widget-view+json": {
       "model_id": "4c933ff02ed84b0c9a14e0c3237d3e42",
       "version_major": 2,
       "version_minor": 0
      },
      "text/plain": [
       "Validation: 0it [00:00, ?it/s]"
      ]
     },
     "metadata": {},
     "output_type": "display_data"
    },
    {
     "data": {
      "application/vnd.jupyter.widget-view+json": {
       "model_id": "865def5abe8c4bec908079dedf857926",
       "version_major": 2,
       "version_minor": 0
      },
      "text/plain": [
       "Validation: 0it [00:00, ?it/s]"
      ]
     },
     "metadata": {},
     "output_type": "display_data"
    },
    {
     "data": {
      "application/vnd.jupyter.widget-view+json": {
       "model_id": "47d476d556794439b80d80b65927f452",
       "version_major": 2,
       "version_minor": 0
      },
      "text/plain": [
       "Validation: 0it [00:00, ?it/s]"
      ]
     },
     "metadata": {},
     "output_type": "display_data"
    },
    {
     "data": {
      "application/vnd.jupyter.widget-view+json": {
       "model_id": "04b609082023474b97ae2848aea1bff8",
       "version_major": 2,
       "version_minor": 0
      },
      "text/plain": [
       "Validation: 0it [00:00, ?it/s]"
      ]
     },
     "metadata": {},
     "output_type": "display_data"
    },
    {
     "data": {
      "application/vnd.jupyter.widget-view+json": {
       "model_id": "8b62db534e5b4249b079c6c3ed7ba9ee",
       "version_major": 2,
       "version_minor": 0
      },
      "text/plain": [
       "Validation: 0it [00:00, ?it/s]"
      ]
     },
     "metadata": {},
     "output_type": "display_data"
    },
    {
     "data": {
      "application/vnd.jupyter.widget-view+json": {
       "model_id": "838998f8de52421cb1e17f9fdce162b4",
       "version_major": 2,
       "version_minor": 0
      },
      "text/plain": [
       "Validation: 0it [00:00, ?it/s]"
      ]
     },
     "metadata": {},
     "output_type": "display_data"
    },
    {
     "data": {
      "application/vnd.jupyter.widget-view+json": {
       "model_id": "2a8477f8709c44f5a86cc31112578617",
       "version_major": 2,
       "version_minor": 0
      },
      "text/plain": [
       "Validation: 0it [00:00, ?it/s]"
      ]
     },
     "metadata": {},
     "output_type": "display_data"
    },
    {
     "data": {
      "application/vnd.jupyter.widget-view+json": {
       "model_id": "13f639bc36c74e8bb1f7041f08021f87",
       "version_major": 2,
       "version_minor": 0
      },
      "text/plain": [
       "Validation: 0it [00:00, ?it/s]"
      ]
     },
     "metadata": {},
     "output_type": "display_data"
    },
    {
     "data": {
      "application/vnd.jupyter.widget-view+json": {
       "model_id": "46d63f5474644e77b680a38f1e795026",
       "version_major": 2,
       "version_minor": 0
      },
      "text/plain": [
       "Validation: 0it [00:00, ?it/s]"
      ]
     },
     "metadata": {},
     "output_type": "display_data"
    },
    {
     "data": {
      "application/vnd.jupyter.widget-view+json": {
       "model_id": "c9b86e6da1204ac9a166ee825a30d1af",
       "version_major": 2,
       "version_minor": 0
      },
      "text/plain": [
       "Validation: 0it [00:00, ?it/s]"
      ]
     },
     "metadata": {},
     "output_type": "display_data"
    },
    {
     "data": {
      "application/vnd.jupyter.widget-view+json": {
       "model_id": "9419174e027242c3859d75cdd11c847e",
       "version_major": 2,
       "version_minor": 0
      },
      "text/plain": [
       "Validation: 0it [00:00, ?it/s]"
      ]
     },
     "metadata": {},
     "output_type": "display_data"
    },
    {
     "data": {
      "application/vnd.jupyter.widget-view+json": {
       "model_id": "fcde40e16ff446c885cdd7106de87a66",
       "version_major": 2,
       "version_minor": 0
      },
      "text/plain": [
       "Validation: 0it [00:00, ?it/s]"
      ]
     },
     "metadata": {},
     "output_type": "display_data"
    },
    {
     "data": {
      "application/vnd.jupyter.widget-view+json": {
       "model_id": "1b57897ff20e47008725bad36d9d80ee",
       "version_major": 2,
       "version_minor": 0
      },
      "text/plain": [
       "Validation: 0it [00:00, ?it/s]"
      ]
     },
     "metadata": {},
     "output_type": "display_data"
    },
    {
     "data": {
      "application/vnd.jupyter.widget-view+json": {
       "model_id": "3c95e6e309eb43f6ab2c1d96f6b9906e",
       "version_major": 2,
       "version_minor": 0
      },
      "text/plain": [
       "Validation: 0it [00:00, ?it/s]"
      ]
     },
     "metadata": {},
     "output_type": "display_data"
    },
    {
     "data": {
      "application/vnd.jupyter.widget-view+json": {
       "model_id": "71ba6202fa6241dd9f65ddd09a4583e6",
       "version_major": 2,
       "version_minor": 0
      },
      "text/plain": [
       "Validation: 0it [00:00, ?it/s]"
      ]
     },
     "metadata": {},
     "output_type": "display_data"
    },
    {
     "data": {
      "application/vnd.jupyter.widget-view+json": {
       "model_id": "811ccc1c350f40d7a92e8a5af765df7c",
       "version_major": 2,
       "version_minor": 0
      },
      "text/plain": [
       "Validation: 0it [00:00, ?it/s]"
      ]
     },
     "metadata": {},
     "output_type": "display_data"
    },
    {
     "name": "stderr",
     "output_type": "stream",
     "text": [
      "`Trainer.fit` stopped: `max_epochs=300` reached.\n"
     ]
    }
   ],
   "source": [
    "trainer.fit(enc_dec_net, xy_train, xy_val) "
   ]
  },
  {
   "cell_type": "code",
   "execution_count": 41,
   "id": "9aa3536b-174a-4330-a43a-fe75eb276797",
   "metadata": {},
   "outputs": [
    {
     "data": {
      "text/html": [
       "<div>\n",
       "<style scoped>\n",
       "    .dataframe tbody tr th:only-of-type {\n",
       "        vertical-align: middle;\n",
       "    }\n",
       "\n",
       "    .dataframe tbody tr th {\n",
       "        vertical-align: top;\n",
       "    }\n",
       "\n",
       "    .dataframe thead th {\n",
       "        text-align: right;\n",
       "    }\n",
       "</style>\n",
       "<table border=\"1\" class=\"dataframe\">\n",
       "  <thead>\n",
       "    <tr style=\"text-align: right;\">\n",
       "      <th></th>\n",
       "      <th>val_acc</th>\n",
       "      <th>val_loss</th>\n",
       "      <th>epoch</th>\n",
       "      <th>step</th>\n",
       "      <th>test_acc</th>\n",
       "      <th>test_loss</th>\n",
       "      <th>train_acc</th>\n",
       "      <th>train_loss</th>\n",
       "    </tr>\n",
       "  </thead>\n",
       "  <tbody>\n",
       "    <tr>\n",
       "      <th>0</th>\n",
       "      <td>0.011696</td>\n",
       "      <td>4.102420</td>\n",
       "      <td>0</td>\n",
       "      <td>0</td>\n",
       "      <td>NaN</td>\n",
       "      <td>NaN</td>\n",
       "      <td>NaN</td>\n",
       "      <td>NaN</td>\n",
       "    </tr>\n",
       "    <tr>\n",
       "      <th>1</th>\n",
       "      <td>NaN</td>\n",
       "      <td>NaN</td>\n",
       "      <td>0</td>\n",
       "      <td>0</td>\n",
       "      <td>0.011696</td>\n",
       "      <td>4.031111</td>\n",
       "      <td>NaN</td>\n",
       "      <td>NaN</td>\n",
       "    </tr>\n",
       "    <tr>\n",
       "      <th>2</th>\n",
       "      <td>0.169591</td>\n",
       "      <td>3.615376</td>\n",
       "      <td>0</td>\n",
       "      <td>3</td>\n",
       "      <td>NaN</td>\n",
       "      <td>NaN</td>\n",
       "      <td>NaN</td>\n",
       "      <td>NaN</td>\n",
       "    </tr>\n",
       "    <tr>\n",
       "      <th>3</th>\n",
       "      <td>NaN</td>\n",
       "      <td>NaN</td>\n",
       "      <td>0</td>\n",
       "      <td>3</td>\n",
       "      <td>NaN</td>\n",
       "      <td>NaN</td>\n",
       "      <td>0.075708</td>\n",
       "      <td>3.885664</td>\n",
       "    </tr>\n",
       "    <tr>\n",
       "      <th>4</th>\n",
       "      <td>0.210526</td>\n",
       "      <td>3.268421</td>\n",
       "      <td>1</td>\n",
       "      <td>7</td>\n",
       "      <td>NaN</td>\n",
       "      <td>NaN</td>\n",
       "      <td>NaN</td>\n",
       "      <td>NaN</td>\n",
       "    </tr>\n",
       "    <tr>\n",
       "      <th>...</th>\n",
       "      <td>...</td>\n",
       "      <td>...</td>\n",
       "      <td>...</td>\n",
       "      <td>...</td>\n",
       "      <td>...</td>\n",
       "      <td>...</td>\n",
       "      <td>...</td>\n",
       "      <td>...</td>\n",
       "    </tr>\n",
       "    <tr>\n",
       "      <th>597</th>\n",
       "      <td>NaN</td>\n",
       "      <td>NaN</td>\n",
       "      <td>297</td>\n",
       "      <td>1191</td>\n",
       "      <td>NaN</td>\n",
       "      <td>NaN</td>\n",
       "      <td>0.909654</td>\n",
       "      <td>0.210854</td>\n",
       "    </tr>\n",
       "    <tr>\n",
       "      <th>598</th>\n",
       "      <td>0.584795</td>\n",
       "      <td>2.761594</td>\n",
       "      <td>298</td>\n",
       "      <td>1195</td>\n",
       "      <td>NaN</td>\n",
       "      <td>NaN</td>\n",
       "      <td>NaN</td>\n",
       "      <td>NaN</td>\n",
       "    </tr>\n",
       "    <tr>\n",
       "      <th>599</th>\n",
       "      <td>NaN</td>\n",
       "      <td>NaN</td>\n",
       "      <td>298</td>\n",
       "      <td>1195</td>\n",
       "      <td>NaN</td>\n",
       "      <td>NaN</td>\n",
       "      <td>0.917589</td>\n",
       "      <td>0.188617</td>\n",
       "    </tr>\n",
       "    <tr>\n",
       "      <th>600</th>\n",
       "      <td>0.602339</td>\n",
       "      <td>2.748387</td>\n",
       "      <td>299</td>\n",
       "      <td>1199</td>\n",
       "      <td>NaN</td>\n",
       "      <td>NaN</td>\n",
       "      <td>NaN</td>\n",
       "      <td>NaN</td>\n",
       "    </tr>\n",
       "    <tr>\n",
       "      <th>601</th>\n",
       "      <td>NaN</td>\n",
       "      <td>NaN</td>\n",
       "      <td>299</td>\n",
       "      <td>1199</td>\n",
       "      <td>NaN</td>\n",
       "      <td>NaN</td>\n",
       "      <td>0.907680</td>\n",
       "      <td>0.191103</td>\n",
       "    </tr>\n",
       "  </tbody>\n",
       "</table>\n",
       "<p>602 rows × 8 columns</p>\n",
       "</div>"
      ],
      "text/plain": [
       "      val_acc  val_loss  epoch  step  test_acc  test_loss  train_acc  \\\n",
       "0    0.011696  4.102420      0     0       NaN        NaN        NaN   \n",
       "1         NaN       NaN      0     0  0.011696   4.031111        NaN   \n",
       "2    0.169591  3.615376      0     3       NaN        NaN        NaN   \n",
       "3         NaN       NaN      0     3       NaN        NaN   0.075708   \n",
       "4    0.210526  3.268421      1     7       NaN        NaN        NaN   \n",
       "..        ...       ...    ...   ...       ...        ...        ...   \n",
       "597       NaN       NaN    297  1191       NaN        NaN   0.909654   \n",
       "598  0.584795  2.761594    298  1195       NaN        NaN        NaN   \n",
       "599       NaN       NaN    298  1195       NaN        NaN   0.917589   \n",
       "600  0.602339  2.748387    299  1199       NaN        NaN        NaN   \n",
       "601       NaN       NaN    299  1199       NaN        NaN   0.907680   \n",
       "\n",
       "     train_loss  \n",
       "0           NaN  \n",
       "1           NaN  \n",
       "2           NaN  \n",
       "3      3.885664  \n",
       "4           NaN  \n",
       "..          ...  \n",
       "597    0.210854  \n",
       "598         NaN  \n",
       "599    0.188617  \n",
       "600         NaN  \n",
       "601    0.191103  \n",
       "\n",
       "[602 rows x 8 columns]"
      ]
     },
     "execution_count": 41,
     "metadata": {},
     "output_type": "execute_result"
    }
   ],
   "source": [
    "results = pd.read_csv(logger.log_dir+\"/metrics.csv\")\n",
    "results"
   ]
  },
  {
   "cell_type": "code",
   "execution_count": 42,
   "id": "aea2f2ed-2f0b-4c86-8c06-d1594d8a282c",
   "metadata": {},
   "outputs": [
    {
     "data": {
      "image/png": "[encoded data removed]",
      "text/plain": [
       "<Figure size 640x480 with 1 Axes>"
      ]
     },
     "metadata": {},
     "output_type": "display_data"
    }
   ],
   "source": [
    "plt.plot(results[\"epoch\"][np.logical_not(np.isnan(results[\"train_loss\"]))],\n",
    "         results[\"train_loss\"][np.logical_not(np.isnan(results[\"train_loss\"]))],\n",
    "         label=\"Training\")\n",
    "\n",
    "plt.plot(results[\"epoch\"][np.logical_not(np.isnan(results[\"val_loss\"]))], \n",
    "         results[\"val_loss\"][np.logical_not(np.isnan(results[\"val_loss\"]))], \n",
    "         label=\"Validation\")\n",
    "\n",
    "plt.legend() \n",
    "plt.ylabel(\"CCE Loss\") \n",
    "plt.xlabel(\"Epoch\") \n",
    "plt.show()"
   ]
  },
  {
   "cell_type": "code",
   "execution_count": 43,
   "id": "ce8c93f3-affb-4002-b33d-a8cfc98225a8",
   "metadata": {},
   "outputs": [
    {
     "data": {
      "image/png": "[encoded data removed]",
      "text/plain": [
       "<Figure size 640x480 with 1 Axes>"
      ]
     },
     "metadata": {},
     "output_type": "display_data"
    }
   ],
   "source": [
    "plt.plot(results[\"epoch\"][np.logical_not(np.isnan(results[\"train_acc\"]))], \n",
    "         results[\"train_acc\"][np.logical_not(np.isnan(results[\"train_acc\"]))], \n",
    "         label=\"Training\")\n",
    "plt.plot(results[\"epoch\"][np.logical_not(np.isnan(results[\"val_acc\"]))], \n",
    "         results[\"val_acc\"][np.logical_not(np.isnan(results[\"val_acc\"]))], \n",
    "         label=\"Validation\")\n",
    "\n",
    "plt.legend() \n",
    "plt.ylabel(\"Accuracy\")\n",
    "plt.xlabel(\"Epoch\") \n",
    "plt.show()"
   ]
  },
  {
   "cell_type": "code",
   "execution_count": 44,
   "id": "f59b29d9-9376-4739-83c5-ad71e07cad1e",
   "metadata": {},
   "outputs": [
    {
     "name": "stdout",
     "output_type": "stream",
     "text": [
      "\n",
      "Validation accuracy: 0.01169591 0.16959064 0.21052632 0.23391815 0.28070176 0.33918127 0.34502923 0.37426901 0.35672516 0.36842105 0.39181286 0.41520467 0.45614034 0.45614034 0.45614034 0.49707603 0.50292397 0.50877196 0.51461989 0.52631581 0.50877196 0.51461989 0.51461989 0.52046782 0.53801167 0.52631581 0.54385966 0.55555558 0.53801167 0.54385966 0.53216374 0.57894737 0.57309943 0.55555558 0.56140351 0.56140351 0.56725144 0.56140351 0.54385966 0.55555558 0.55555558 0.54385966 0.55555558 0.54970759 0.56725144 0.57309943 0.56725144 0.54970759 0.56140351 0.54970759 0.56140351 0.55555558 0.56140351 0.57309943 0.55555558 0.54970759 0.57309943 0.55555558 0.57894737 0.56725144 0.56725144 0.56725144 0.55555558 0.55555558 0.57309943 0.56140351 0.56140351 0.57309943 0.57894737 0.57309943 0.58479530 0.57894737 0.58479530 0.57894737 0.57309943 0.57309943 0.56725144 0.57894737 0.56140351 0.59064329 0.60233921 0.59064329 0.57309943 0.57894737 0.59064329 0.57309943 0.57894737 0.57894737 0.59064329 0.57894737 0.59064329 0.58479530 0.58479530 0.59649122 0.57894737 0.54970759 0.57309943 0.59064329 0.59064329 0.57309943 0.56725144 0.59064329 0.59649122 0.59064329 0.56140351 0.56140351 0.59649122 0.58479530 0.56725144 0.56725144 0.58479530 0.57309943 0.56725144 0.57309943 0.57894737 0.56725144 0.57309943 0.58479530 0.59064329 0.59064329 0.59064329 0.58479530 0.58479530 0.57894737 0.57894737 0.58479530 0.59064329 0.58479530 0.58479530 0.57894737 0.59649122 0.58479530 0.59649122 0.59649122 0.58479530 0.58479530 0.59649122 0.57894737 0.60233921 0.59649122 0.58479530 0.59064329 0.56725144 0.56725144 0.56725144 0.58479530 0.59064329 0.58479530 0.59649122 0.58479530 0.59649122 0.59649122 0.59064329 0.57894737 0.59649122 0.60233921 0.57309943 0.59064329 0.59649122 0.57309943 0.59649122 0.61403507 0.60818714 0.58479530 0.60818714 0.61403507 0.59649122 0.59649122 0.59064329 0.59649122 0.57894737 0.59064329 0.60233921 0.57894737 0.57894737 0.60818714 0.60818714 0.61403507 0.59649122 0.57894737 0.59649122 0.59064329 0.60233921 0.60233921 0.59064329 0.57894737 0.58479530 0.59064329 0.59064329 0.60233921 0.61988306 0.60818714 0.60233921 0.61403507 0.59649122 0.60818714 0.61988306 0.60233921 0.59649122 0.59064329 0.59064329 0.59064329 0.60233921 0.59649122 0.58479530 0.59649122 0.60233921 0.59649122 0.59649122 0.61988306 0.60818714 0.60818714 0.60233921 0.60233921 0.59649122 0.60233921 0.60233921 0.59649122 0.60818714 0.59064329 0.59064329 0.60233921 0.59649122 0.60818714 0.59064329 0.59064329 0.59649122 0.59064329 0.60233921 0.59649122 0.58479530 0.58479530 0.58479530 0.59649122 0.61403507 0.60233921 0.59649122 0.59649122 0.60818714 0.60818714 0.60233921 0.61403507 0.61403507 0.61988306 0.60233921 0.59649122 0.59649122 0.60818714 0.60233921 0.60818714 0.60233921 0.60818714 0.61988306 0.60818714 0.60818714 0.60233921 0.59649122 0.60233921 0.59649122 0.59649122 0.57894737 0.60233921 0.59649122 0.59064329 0.57894737 0.59064329 0.59064329 0.60818714 0.59649122 0.58479530 0.59064329 0.59064329 0.60233921 0.59649122 0.59649122 0.60233921 0.61403507 0.60233921 0.58479530 0.63157892 0.63157892 0.63157892 0.61988306 0.61403507 0.61988306 0.60233921 0.60818714 0.62573099 0.63742691 0.62573099 0.61988306 0.58479530 0.61988306 0.63157892 0.61403507 0.61403507 0.61988306 0.62573099 0.60233921 0.58479530 0.60233921\n",
      "\n",
      "\n"
     ]
    }
   ],
   "source": [
    "print(\"\")\n",
    "print(\"Validation accuracy:\", *[\"%.8f\"%(x) for x in results['val_acc'][np.logical_not(np.isnan(results[\"val_acc\"]))]])\n",
    "print(\"\")\n",
    "print(\"\")"
   ]
  },
  {
   "cell_type": "code",
   "execution_count": 47,
   "id": "1aea3039-504f-45c6-9c65-413e54d2b865",
   "metadata": {},
   "outputs": [
    {
     "name": "stderr",
     "output_type": "stream",
     "text": [
      "LOCAL_RANK: 0 - CUDA_VISIBLE_DEVICES: [0]\n",
      "SLURM auto-requeueing enabled. Setting signal handlers.\n"
     ]
    },
    {
     "data": {
      "application/vnd.jupyter.widget-view+json": {
       "model_id": "f70fe78c43aa436faf08ded396923219",
       "version_major": 2,
       "version_minor": 0
      },
      "text/plain": [
       "Testing: 0it [00:00, ?it/s]"
      ]
     },
     "metadata": {},
     "output_type": "display_data"
    },
    {
     "data": {
      "text/html": [
       "<pre style=\"white-space:pre;overflow-x:auto;line-height:normal;font-family:Menlo,'DejaVu Sans Mono',consolas,'Courier New',monospace\">┏━━━━━━━━━━━━━━━━━━━━━━━━━━━┳━━━━━━━━━━━━━━━━━━━━━━━━━━━┓\n",
       "┃<span style=\"font-weight: bold\">   Runningstage.testing    </span>┃<span style=\"font-weight: bold\">                           </span>┃\n",
       "┃<span style=\"font-weight: bold\">          metric           </span>┃<span style=\"font-weight: bold\">       DataLoader 0        </span>┃\n",
       "┡━━━━━━━━━━━━━━━━━━━━━━━━━━━╇━━━━━━━━━━━━━━━━━━━━━━━━━━━┩\n",
       "│<span style=\"color: #008080; text-decoration-color: #008080\">         test_acc          </span>│<span style=\"color: #800080; text-decoration-color: #800080\">    0.3684210479259491     </span>│\n",
       "│<span style=\"color: #008080; text-decoration-color: #008080\">         test_loss         </span>│<span style=\"color: #800080; text-decoration-color: #800080\">     6.280609607696533     </span>│\n",
       "└───────────────────────────┴───────────────────────────┘\n",
       "</pre>\n"
      ],
      "text/plain": [
       "┏━━━━━━━━━━━━━━━━━━━━━━━━━━━┳━━━━━━━━━━━━━━━━━━━━━━━━━━━┓\n",
       "┃\u001b[1m \u001b[0m\u001b[1m  Runningstage.testing   \u001b[0m\u001b[1m \u001b[0m┃\u001b[1m                           \u001b[0m┃\n",
       "┃\u001b[1m \u001b[0m\u001b[1m         metric          \u001b[0m\u001b[1m \u001b[0m┃\u001b[1m \u001b[0m\u001b[1m      DataLoader 0       \u001b[0m\u001b[1m \u001b[0m┃\n",
       "┡━━━━━━━━━━━━━━━━━━━━━━━━━━━╇━━━━━━━━━━━━━━━━━━━━━━━━━━━┩\n",
       "│\u001b[36m \u001b[0m\u001b[36m        test_acc         \u001b[0m\u001b[36m \u001b[0m│\u001b[35m \u001b[0m\u001b[35m   0.3684210479259491    \u001b[0m\u001b[35m \u001b[0m│\n",
       "│\u001b[36m \u001b[0m\u001b[36m        test_loss        \u001b[0m\u001b[36m \u001b[0m│\u001b[35m \u001b[0m\u001b[35m    6.280609607696533    \u001b[0m\u001b[35m \u001b[0m│\n",
       "└───────────────────────────┴───────────────────────────┘\n"
      ]
     },
     "metadata": {},
     "output_type": "display_data"
    }
   ],
   "source": [
    "results = trainer.test(enc_dec_net, xy_val)"
   ]
  },
  {
   "cell_type": "code",
   "execution_count": 46,
   "id": "6e46e244-f23b-47a3-b05d-88073b34392f",
   "metadata": {},
   "outputs": [
    {
     "name": "stdout",
     "output_type": "stream",
     "text": [
      "Test Accuracy: 0.3684210479259491\n"
     ]
    }
   ],
   "source": [
    "print(\"Test Accuracy:\",results[0]['test_acc'])"
   ]
  },
  {
   "cell_type": "code",
   "execution_count": 48,
   "id": "7acaf201-d06e-4441-94e9-dcfb7e772ff8",
   "metadata": {},
   "outputs": [
    {
     "data": {
      "text/plain": [
       "[{'test_acc': 0.3684210479259491, 'test_loss': 6.280609607696533}]"
      ]
     },
     "execution_count": 48,
     "metadata": {},
     "output_type": "execute_result"
    }
   ],
   "source": [
    "results"
   ]
  },
  {
   "cell_type": "code",
   "execution_count": null,
   "id": "30f38332-3fa6-4d12-8db5-02ee4de5adb2",
   "metadata": {},
   "outputs": [],
   "source": []
  }
 ],
 "metadata": {
  "kernelspec": {
   "display_name": "Python 3 (ipykernel)",
   "language": "python",
   "name": "python3"
  },
  "language_info": {
   "codemirror_mode": {
    "name": "ipython",
    "version": 3
   },
   "file_extension": ".py",
   "mimetype": "text/x-python",
   "name": "python",
   "nbconvert_exporter": "python",
   "pygments_lexer": "ipython3",
   "version": "3.11.5"
  }
 },
 "nbformat": 4,
 "nbformat_minor": 5
}
