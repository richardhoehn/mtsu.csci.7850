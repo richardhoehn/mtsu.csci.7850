{
 "cells": [
  {
   "cell_type": "code",
   "execution_count": 1,
   "id": "6cc7872d-3493-4458-816f-4dbe46ea817f",
   "metadata": {},
   "outputs": [],
   "source": [
    "import numpy as np\n",
    "import torch\n",
    "import lightning.pytorch as pl\n",
    "import torchmetrics\n",
    "import torchvision\n",
    "from torchinfo import summary\n",
    "from torchview import draw_graph\n",
    "from IPython.display import display\n",
    "import sympy as sp\n",
    "sp.init_printing(use_latex=True)\n",
    "\n",
    "import pandas as pd\n",
    "import matplotlib.pyplot as plt\n",
    "\n",
    "import urllib"
   ]
  },
  {
   "cell_type": "code",
   "execution_count": 2,
   "id": "efe22e7e-78d9-40e6-aeca-95f26d850b3c",
   "metadata": {},
   "outputs": [
    {
     "name": "stdout",
     "output_type": "stream",
     "text": [
      "Only CPU is available...\n"
     ]
    }
   ],
   "source": [
    "if torch.cuda.is_available():\n",
    "    print(torch.cuda.get_device_name())\n",
    "    print(torch.cuda.get_device_properties(\"cuda\"))\n",
    "    print(\"Number of devices:\",torch.cuda.device_count())\n",
    "    device = (\"cuda\")\n",
    "else:\n",
    "    print(\"Only CPU is available...\")\n",
    "    device = (\"cpu\")"
   ]
  },
  {
   "cell_type": "code",
   "execution_count": 7,
   "id": "c0701c2e-600e-4eb1-bbd3-0c61af44e6f9",
   "metadata": {},
   "outputs": [
    {
     "data": {
      "image/png": "[encoded data removed]",
      "text/latex": [
       "$\\displaystyle \\left( 170304, \\  2\\right)$"
      ],
      "text/plain": [
       "(170304, 2)"
      ]
     },
     "execution_count": 7,
     "metadata": {},
     "output_type": "execute_result"
    }
   ],
   "source": [
    "# Setup URL to Data File\n",
    "url = \"https://raw.githubusercontent.com/luisroque/deep-learning-articles/main/data/eng-por.txt\"\n",
    "\n",
    "data = []\n",
    "with urllib.request.urlopen(url) as raw_data:\n",
    "    for line in raw_data:\n",
    "        data.append(line.decode(\"utf-8\").split('\\t')[0:2])\n",
    "data = np.array(data)\n",
    "\n",
    "data.shape"
   ]
  },
  {
   "cell_type": "code",
   "execution_count": 13,
   "id": "535e01de-abee-4a33-980c-c581e184d45e",
   "metadata": {},
   "outputs": [
    {
     "name": "stdout",
     "output_type": "stream",
     "text": [
      "max_length = $23\n",
      "data[0] => $['Run.' 'Corra!']\n"
     ]
    }
   ],
   "source": [
    "# Subset? - All of the data will take some time...\n",
    "n_seq = data.shape[0]\n",
    "n_seq = 100\n",
    "data = data[0:n_seq]\n",
    "split_point = int(data.shape[0] * 0.8) # Keep 80/20 split\n",
    "np.random.shuffle(data) # In-place modification\n",
    "max_length = np.max([len(i) for i in data.flatten()]) + 2 # Add start/stop\n",
    "\n",
    "print(f\"max_length = ${max_length}\")\n",
    "print(f\"data[0] => ${data[0]}\")"
   ]
  },
  {
   "cell_type": "code",
   "execution_count": 14,
   "id": "4a5c6fd6-7eea-453c-957e-fc86da22f47c",
   "metadata": {},
   "outputs": [],
   "source": [
    "# Setup\n",
    "i_to_c_eng = ['','<START>','<STOP>'] + list({char for word in data[:,0] for char in word})\n",
    "c_to_i_eng = {i_to_c_eng[i]:i for i in range(len(i_to_c_eng))}\n",
    "i_to_c_eng[1] = i_to_c_eng[2] = ''\n",
    "\n",
    "i_to_c_por = ['','<START>','<STOP>'] + list({char for word in data[:,1] for char in word})\n",
    "c_to_i_por = {i_to_c_por[i]:i for i in range(len(i_to_c_por))}\n",
    "i_to_c_por[1] = i_to_c_por[2] = ''\n"
   ]
  },
  {
   "cell_type": "code",
   "execution_count": 18,
   "id": "66ec1043-c582-4f76-aacc-ecddf6836a81",
   "metadata": {},
   "outputs": [],
   "source": [
    "def encode_seq(x, mapping, max_length=0):\n",
    "    # String to integer\n",
    "    return [mapping['<START>']] + \\\n",
    "    [mapping[i] for i in list(x)] + \\\n",
    "    [mapping['<STOP>']] + \\\n",
    "    [0]*(max_length-len(list(x))-2)\n",
    "    \n",
    "def decode_seq(x, mapping):\n",
    "    # Integer-to-string\n",
    "    try:\n",
    "        idx = list(x).index(2) # Stop token?\n",
    "    except:\n",
    "        idx = len(list(x)) # No stop token found\n",
    "    return ''.join([mapping[i] for i in list(x)[0:idx]])"
   ]
  },
  {
   "cell_type": "code",
   "execution_count": 19,
   "id": "2ca41141-d717-4656-9096-ae59f99f7867",
   "metadata": {},
   "outputs": [
    {
     "data": {
      "text/plain": [
       "array(['Run.', 'Corra!'], dtype='<U184')"
      ]
     },
     "execution_count": 19,
     "metadata": {},
     "output_type": "execute_result"
    }
   ],
   "source": [
    "data[0]\n"
   ]
  },
  {
   "cell_type": "code",
   "execution_count": 20,
   "id": "aa71463c-84d3-455b-bb8e-477e97519c47",
   "metadata": {},
   "outputs": [
    {
     "data": {
      "text/plain": [
       "'Run.'"
      ]
     },
     "execution_count": 20,
     "metadata": {},
     "output_type": "execute_result"
    }
   ],
   "source": [
    "data[0,0]"
   ]
  },
  {
   "cell_type": "code",
   "execution_count": 26,
   "id": "6943a859-549b-4417-ac70-7cc009ca39b6",
   "metadata": {},
   "outputs": [
    {
     "name": "stdout",
     "output_type": "stream",
     "text": [
      "[1, 17, 36, 3, 15, 2, 0, 0, 0, 0, 0, 0, 0, 0, 0, 0, 0, 0, 0, 0, 0, 0, 0]\n"
     ]
    }
   ],
   "source": [
    "temp = encode_seq(data[0,0],c_to_i_eng,max_length)\n",
    "\n",
    "print(temp)"
   ]
  },
  {
   "cell_type": "code",
   "execution_count": 24,
   "id": "92c3145e-a396-4886-a910-9429f7206903",
   "metadata": {},
   "outputs": [
    {
     "data": {
      "text/plain": [
       "'Run.'"
      ]
     },
     "execution_count": 24,
     "metadata": {},
     "output_type": "execute_result"
    }
   ],
   "source": [
    "decode_seq(temp, i_to_c_eng)"
   ]
  },
  {
   "cell_type": "code",
   "execution_count": 27,
   "id": "8dcff1aa-7c3e-4743-a3c6-de994c999c20",
   "metadata": {},
   "outputs": [
    {
     "data": {
      "text/plain": [
       "'Corra!'"
      ]
     },
     "execution_count": 27,
     "metadata": {},
     "output_type": "execute_result"
    }
   ],
   "source": [
    "data[0,1]"
   ]
  },
  {
   "cell_type": "code",
   "execution_count": 28,
   "id": "66c7dc08-60af-4a05-bb2d-b3739d62c57f",
   "metadata": {},
   "outputs": [
    {
     "name": "stdout",
     "output_type": "stream",
     "text": [
      "[1, 27, 23, 40, 40, 31, 49, 2, 0, 0, 0, 0, 0, 0, 0, 0, 0, 0, 0, 0, 0, 0, 0]\n"
     ]
    }
   ],
   "source": [
    "temp = encode_seq(data[0,1],c_to_i_por,max_length)\n",
    "\n",
    "print(temp)"
   ]
  },
  {
   "cell_type": "code",
   "execution_count": 29,
   "id": "ef554a23-38ca-480e-b7a5-5b9477dec38f",
   "metadata": {},
   "outputs": [
    {
     "data": {
      "text/plain": [
       "'Corra!'"
      ]
     },
     "execution_count": 29,
     "metadata": {},
     "output_type": "execute_result"
    }
   ],
   "source": [
    "decode_seq(temp, i_to_c_por)"
   ]
  },
  {
   "cell_type": "code",
   "execution_count": 30,
   "id": "b6a5c7af-78cc-49dc-a573-d63ab9cc84e8",
   "metadata": {},
   "outputs": [
    {
     "data": {
      "text/plain": [
       "array([[ 1, 17, 36, ...,  0,  0,  0],\n",
       "       [ 1, 35, 18, ...,  0,  0,  0],\n",
       "       [ 1, 29, 36, ...,  0,  0,  0],\n",
       "       ...,\n",
       "       [ 1,  9, 24, ...,  0,  0,  0],\n",
       "       [ 1, 12, 13, ...,  0,  0,  0],\n",
       "       [ 1, 14, 16, ...,  0,  0,  0]])"
      ]
     },
     "execution_count": 30,
     "metadata": {},
     "output_type": "execute_result"
    }
   ],
   "source": [
    "# Setup\n",
    "X = np.vstack([encode_seq(x, c_to_i_eng, max_length) for x in data[:,0]])\n",
    "Y = np.vstack([encode_seq(x, c_to_i_por, max_length) for x in data[:,1]])\n",
    "\n",
    "enc_x_train = X[:split_point]\n",
    "enc_x_val = X[split_point:]\n",
    "enc_x_train\n"
   ]
  },
  {
   "cell_type": "code",
   "execution_count": 31,
   "id": "d8acac74-4b68-4524-b79e-13d10782edbb",
   "metadata": {},
   "outputs": [
    {
     "data": {
      "text/plain": [
       "array([[ 1, 27, 23, ...,  0,  0,  0],\n",
       "       [ 1, 30, 31, ...,  0,  0,  0],\n",
       "       [ 1, 50, 42, ...,  0,  0,  0],\n",
       "       ...,\n",
       "       [ 1, 10, 24, ...,  0,  0,  0],\n",
       "       [ 1, 15, 16, ...,  0,  0,  0],\n",
       "       [ 1,  6, 42, ...,  0,  0,  0]])"
      ]
     },
     "execution_count": 31,
     "metadata": {},
     "output_type": "execute_result"
    }
   ],
   "source": [
    "# Setup\n",
    "dec_x_train = Y[:,0:-1][:split_point]\n",
    "dec_x_val = Y[:,0:-1][split_point:]\n",
    "dec_x_train"
   ]
  },
  {
   "cell_type": "code",
   "execution_count": 33,
   "id": "01cf865e-a2ff-453b-8586-0765413ea518",
   "metadata": {},
   "outputs": [
    {
     "data": {
      "text/plain": [
       "array([[27, 23, 40, ...,  0,  0,  0],\n",
       "       [30, 31, 18, ...,  0,  0,  0],\n",
       "       [50, 42, 36, ...,  0,  0,  0],\n",
       "       ...,\n",
       "       [10, 24, 38, ...,  0,  0,  0],\n",
       "       [15, 16, 31, ...,  0,  0,  0],\n",
       "       [ 6, 42,  7, ...,  0,  0,  0]])"
      ]
     },
     "execution_count": 33,
     "metadata": {},
     "output_type": "execute_result"
    }
   ],
   "source": [
    "dec_y_train = Y[:,1:][:split_point]\n",
    "dec_y_val = Y[:,1:][split_point:]\n",
    "dec_y_train"
   ]
  },
  {
   "cell_type": "code",
   "execution_count": 36,
   "id": "0c88beba-1ed6-458b-860d-4035f1e95291",
   "metadata": {},
   "outputs": [
    {
     "name": "stdout",
     "output_type": "stream",
     "text": [
      "(80, 23)\n",
      "(80, 22)\n",
      "(80, 22)\n",
      "----\n",
      "(20, 23)\n",
      "(20, 22)\n",
      "(20, 22)\n"
     ]
    }
   ],
   "source": [
    "print(enc_x_train.shape)\n",
    "print(dec_x_train.shape)\n",
    "print(dec_y_train.shape)\n",
    "\n",
    "print(\"----\")\n",
    "\n",
    "print(enc_x_val.shape)\n",
    "print(dec_x_val.shape)\n",
    "print(dec_y_val.shape)"
   ]
  },
  {
   "cell_type": "code",
   "execution_count": 37,
   "id": "63d4a6ac-b365-400b-8477-9621e76f99bc",
   "metadata": {},
   "outputs": [
    {
     "data": {
      "image/png": "[encoded data removed]",
      "text/latex": [
       "$\\displaystyle 44$"
      ],
      "text/plain": [
       "44"
      ]
     },
     "execution_count": 37,
     "metadata": {},
     "output_type": "execute_result"
    }
   ],
   "source": [
    "len(i_to_c_eng)"
   ]
  },
  {
   "cell_type": "code",
   "execution_count": 38,
   "id": "e289f0d7-7071-43ba-83c7-6fccc571d309",
   "metadata": {},
   "outputs": [
    {
     "data": {
      "image/png": "[encoded data removed]",
      "text/latex": [
       "$\\displaystyle 56$"
      ],
      "text/plain": [
       "56"
      ]
     },
     "execution_count": 38,
     "metadata": {},
     "output_type": "execute_result"
    }
   ],
   "source": [
    "len(i_to_c_por)"
   ]
  },
  {
   "cell_type": "code",
   "execution_count": 39,
   "id": "4142eb37-121d-47aa-a7d0-4f107992638a",
   "metadata": {},
   "outputs": [
    {
     "data": {
      "image/png": "[encoded data removed]",
      "text/latex": [
       "$\\displaystyle \\left( 23,\\right)$"
      ],
      "text/plain": [
       "(23,)"
      ]
     },
     "execution_count": 39,
     "metadata": {},
     "output_type": "execute_result"
    }
   ],
   "source": [
    "enc_x_train.shape[1:]"
   ]
  },
  {
   "cell_type": "code",
   "execution_count": 40,
   "id": "4429f9b2-0c3d-476c-92d6-f65c467b905a",
   "metadata": {},
   "outputs": [],
   "source": [
    "class RecurrentResidual(torch.nn.Module):\n",
    "    def __init__(self,\n",
    "                 latent_size = 64,\n",
    "                 bidirectional = False,\n",
    "                 **kwargs):\n",
    "        super().__init__(**kwargs)\n",
    "        self.layer_norm = torch.nn.LayerNorm(latent_size)\n",
    "        self.rnn_layer = torch.nn.RNN(latent_size,\n",
    "                                      latent_size // 2 if bidirectional else latent_size,\n",
    "                                      bidirectional=bidirectional,\n",
    "                                      batch_first=True)\n",
    "    def forward(self, x):\n",
    "        return x + self.rnn_layer(self.layer_norm(x))[0]\n",
    "\n",
    "class EncoderNetwork(torch.nn.Module):\n",
    "    def __init__(self,\n",
    "                 num_tokens,\n",
    "                 latent_size = 64, # Use something divisible by 2\n",
    "                 n_layers = 4,\n",
    "                 **kwargs):\n",
    "        super().__init__(**kwargs)\n",
    "        self.embedding = torch.nn.Embedding(num_tokens,\n",
    "                                            latent_size,\n",
    "                                            padding_idx=0)\n",
    "        self.dropout = torch.nn.Dropout1d(0.1) # Whole token dropped\n",
    "        self.rnn_layers = torch.nn.Sequential(*[\n",
    "            RecurrentResidual(latent_size, True) for _ in range(n_layers)\n",
    "        ])\n",
    "        \n",
    "    def forward(self, x):\n",
    "        y = x\n",
    "        y = self.embedding(y)\n",
    "        y = self.dropout(y)\n",
    "        y = self.rnn_layers(y)[:,-1]\n",
    "        return y\n"
   ]
  },
  {
   "cell_type": "code",
   "execution_count": 41,
   "id": "6b5e0428-2eab-4ab7-91ab-b0a18affd777",
   "metadata": {},
   "outputs": [
    {
     "data": {
      "image/png": "[encoded data removed]",
      "text/latex": [
       "$\\displaystyle \\left( 5, \\  23\\right)$"
      ],
      "text/plain": [
       "(5, 23)"
      ]
     },
     "execution_count": 41,
     "metadata": {},
     "output_type": "execute_result"
    }
   ],
   "source": [
    "enc_x_train[0:5].shape"
   ]
  },
  {
   "cell_type": "code",
   "execution_count": 42,
   "id": "607da314-5e08-4f60-a62d-a4a71bd6777b",
   "metadata": {},
   "outputs": [
    {
     "data": {
      "text/plain": [
       "==========================================================================================\n",
       "Layer (type:depth-idx)                   Output Shape              Param #\n",
       "==========================================================================================\n",
       "EncoderNetwork                           [5, 64]                   --\n",
       "├─Embedding: 1-1                         [5, 23, 64]               2,816\n",
       "├─Dropout1d: 1-2                         [5, 23, 64]               --\n",
       "├─Sequential: 1-3                        [5, 23, 64]               --\n",
       "│    └─RecurrentResidual: 2-1            [5, 23, 64]               --\n",
       "│    │    └─LayerNorm: 3-1               [5, 23, 64]               128\n",
       "│    │    └─RNN: 3-2                     [5, 23, 64]               6,272\n",
       "│    └─RecurrentResidual: 2-2            [5, 23, 64]               --\n",
       "│    │    └─LayerNorm: 3-3               [5, 23, 64]               128\n",
       "│    │    └─RNN: 3-4                     [5, 23, 64]               6,272\n",
       "│    └─RecurrentResidual: 2-3            [5, 23, 64]               --\n",
       "│    │    └─LayerNorm: 3-5               [5, 23, 64]               128\n",
       "│    │    └─RNN: 3-6                     [5, 23, 64]               6,272\n",
       "│    └─RecurrentResidual: 2-4            [5, 23, 64]               --\n",
       "│    │    └─LayerNorm: 3-7               [5, 23, 64]               128\n",
       "│    │    └─RNN: 3-8                     [5, 23, 64]               6,272\n",
       "==========================================================================================\n",
       "Total params: 28,416\n",
       "Trainable params: 28,416\n",
       "Non-trainable params: 0\n",
       "Total mult-adds (Units.MEGABYTES): 2.90\n",
       "==========================================================================================\n",
       "Input size (MB): 0.00\n",
       "Forward/backward pass size (MB): 0.53\n",
       "Params size (MB): 0.11\n",
       "Estimated Total Size (MB): 0.64\n",
       "=========================================================================================="
      ]
     },
     "execution_count": 42,
     "metadata": {},
     "output_type": "execute_result"
    }
   ],
   "source": [
    "enc_net = EncoderNetwork(num_tokens=len(i_to_c_eng))\n",
    "summary(enc_net,input_data=torch.Tensor(enc_x_train[0:5]).long())"
   ]
  },
  {
   "cell_type": "code",
   "execution_count": 43,
   "id": "c7f4d06b-5e6a-420c-8797-11cfe6e5f754",
   "metadata": {},
   "outputs": [
    {
     "data": {
      "image/svg+xml": [
       "<?xml version=\"1.0\" encoding=\"UTF-8\" standalone=\"no\"?>\n",
       "<!DOCTYPE svg PUBLIC \"-//W3C//DTD SVG 1.1//EN\"\n",
       " \"http://www.w3.org/Graphics/SVG/1.1/DTD/svg11.dtd\">\n",
       "<!-- Generated by graphviz version 8.1.0 (20230707.2238)\n",
       " -->\n",
       "<!-- Title: model Pages: 1 -->\n",
       "<svg width=\"194pt\" height=\"864pt\"\n",
       " viewBox=\"0.00 0.00 193.83 864.00\" xmlns=\"http://www.w3.org/2000/svg\" xmlns:xlink=\"http://www.w3.org/1999/xlink\">\n",
       "<g id=\"graph0\" class=\"graph\" transform=\"scale(0.657034 0.657034) rotate(0) translate(4 1311)\">\n",
       "<title>model</title>\n",
       "<polygon fill=\"white\" stroke=\"none\" points=\"-4,4 -4,-1311 291,-1311 291,4 -4,4\"/>\n",
       "<!-- 0 -->\n",
       "<g id=\"node1\" class=\"node\">\n",
       "<title>0</title>\n",
       "<polygon fill=\"lightyellow\" stroke=\"none\" points=\"141.88,-1307 31.12,-1307 31.12,-1271.5 141.88,-1271.5 141.88,-1307\"/>\n",
       "<polygon fill=\"none\" stroke=\"black\" points=\"31.12,-1271.5 31.12,-1307 100.38,-1307 100.38,-1271.5 31.12,-1271.5\"/>\n",
       "<text text-anchor=\"start\" x=\"36.12\" y=\"-1292.5\" font-family=\"Linux libertine\" font-size=\"10.00\">input&#45;tensor</text>\n",
       "<text text-anchor=\"start\" x=\"47.38\" y=\"-1279.75\" font-family=\"Linux libertine\" font-size=\"10.00\">depth:0</text>\n",
       "<polygon fill=\"none\" stroke=\"black\" points=\"100.38,-1271.5 100.38,-1307 141.88,-1307 141.88,-1271.5 100.38,-1271.5\"/>\n",
       "<text text-anchor=\"start\" x=\"105.38\" y=\"-1286.12\" font-family=\"Linux libertine\" font-size=\"10.00\">(5, 23)</text>\n",
       "</g>\n",
       "<!-- 1 -->\n",
       "<g id=\"node2\" class=\"node\">\n",
       "<title>1</title>\n",
       "<polygon fill=\"#c1ffc1\" stroke=\"none\" points=\"173,-1235.5 0,-1235.5 0,-1191.5 173,-1191.5 173,-1235.5\"/>\n",
       "<polygon fill=\"none\" stroke=\"black\" points=\"0,-1191.5 0,-1235.5 64,-1235.5 64,-1191.5 0,-1191.5\"/>\n",
       "<text text-anchor=\"start\" x=\"4.62\" y=\"-1216.75\" font-family=\"Linux libertine\" font-size=\"10.00\">Embedding</text>\n",
       "<text text-anchor=\"start\" x=\"13.62\" y=\"-1204\" font-family=\"Linux libertine\" font-size=\"10.00\">depth:1</text>\n",
       "<polygon fill=\"none\" stroke=\"black\" points=\"64,-1213.5 64,-1235.5 111,-1235.5 111,-1213.5 64,-1213.5\"/>\n",
       "<text text-anchor=\"start\" x=\"73.62\" y=\"-1221\" font-family=\"Linux libertine\" font-size=\"10.00\">input:</text>\n",
       "<polygon fill=\"none\" stroke=\"black\" points=\"111,-1213.5 111,-1235.5 173,-1235.5 173,-1213.5 111,-1213.5\"/>\n",
       "<text text-anchor=\"start\" x=\"124.75\" y=\"-1221\" font-family=\"Linux libertine\" font-size=\"10.00\">(5, 23) </text>\n",
       "<polygon fill=\"none\" stroke=\"black\" points=\"64,-1191.5 64,-1213.5 111,-1213.5 111,-1191.5 64,-1191.5\"/>\n",
       "<text text-anchor=\"start\" x=\"68.75\" y=\"-1199\" font-family=\"Linux libertine\" font-size=\"10.00\">output: </text>\n",
       "<polygon fill=\"none\" stroke=\"black\" points=\"111,-1191.5 111,-1213.5 173,-1213.5 173,-1191.5 111,-1191.5\"/>\n",
       "<text text-anchor=\"start\" x=\"115.75\" y=\"-1199\" font-family=\"Linux libertine\" font-size=\"10.00\">(5, 23, 64) </text>\n",
       "</g>\n",
       "<!-- 0&#45;&gt;1 -->\n",
       "<g id=\"edge1\" class=\"edge\">\n",
       "<title>0&#45;&gt;1</title>\n",
       "<path fill=\"none\" stroke=\"black\" d=\"M86.5,-1271.51C86.5,-1264.07 86.5,-1255.04 86.5,-1246.39\"/>\n",
       "<polygon fill=\"black\" stroke=\"black\" points=\"90,-1246.39 86.5,-1236.39 83,-1246.39 90,-1246.39\"/>\n",
       "</g>\n",
       "<!-- 2 -->\n",
       "<g id=\"node3\" class=\"node\">\n",
       "<title>2</title>\n",
       "<polygon fill=\"#c1ffc1\" stroke=\"none\" points=\"171.5,-1155.5 1.5,-1155.5 1.5,-1111.5 171.5,-1111.5 171.5,-1155.5\"/>\n",
       "<polygon fill=\"none\" stroke=\"black\" points=\"1.5,-1111.5 1.5,-1155.5 62.5,-1155.5 62.5,-1111.5 1.5,-1111.5\"/>\n",
       "<text text-anchor=\"start\" x=\"6.5\" y=\"-1136.75\" font-family=\"Linux libertine\" font-size=\"10.00\">Dropout1d</text>\n",
       "<text text-anchor=\"start\" x=\"13.62\" y=\"-1124\" font-family=\"Linux libertine\" font-size=\"10.00\">depth:1</text>\n",
       "<polygon fill=\"none\" stroke=\"black\" points=\"62.5,-1133.5 62.5,-1155.5 109.5,-1155.5 109.5,-1133.5 62.5,-1133.5\"/>\n",
       "<text text-anchor=\"start\" x=\"72.12\" y=\"-1141\" font-family=\"Linux libertine\" font-size=\"10.00\">input:</text>\n",
       "<polygon fill=\"none\" stroke=\"black\" points=\"109.5,-1133.5 109.5,-1155.5 171.5,-1155.5 171.5,-1133.5 109.5,-1133.5\"/>\n",
       "<text text-anchor=\"start\" x=\"114.25\" y=\"-1141\" font-family=\"Linux libertine\" font-size=\"10.00\">(5, 23, 64) </text>\n",
       "<polygon fill=\"none\" stroke=\"black\" points=\"62.5,-1111.5 62.5,-1133.5 109.5,-1133.5 109.5,-1111.5 62.5,-1111.5\"/>\n",
       "<text text-anchor=\"start\" x=\"67.25\" y=\"-1119\" font-family=\"Linux libertine\" font-size=\"10.00\">output: </text>\n",
       "<polygon fill=\"none\" stroke=\"black\" points=\"109.5,-1111.5 109.5,-1133.5 171.5,-1133.5 171.5,-1111.5 109.5,-1111.5\"/>\n",
       "<text text-anchor=\"start\" x=\"114.25\" y=\"-1119\" font-family=\"Linux libertine\" font-size=\"10.00\">(5, 23, 64) </text>\n",
       "</g>\n",
       "<!-- 1&#45;&gt;2 -->\n",
       "<g id=\"edge2\" class=\"edge\">\n",
       "<title>1&#45;&gt;2</title>\n",
       "<path fill=\"none\" stroke=\"black\" d=\"M86.5,-1191.6C86.5,-1183.82 86.5,-1174.8 86.5,-1166.26\"/>\n",
       "<polygon fill=\"black\" stroke=\"black\" points=\"90,-1166.46 86.5,-1156.46 83,-1166.46 90,-1166.46\"/>\n",
       "</g>\n",
       "<!-- 3 -->\n",
       "<g id=\"node4\" class=\"node\">\n",
       "<title>3</title>\n",
       "<polygon fill=\"#c1ffc1\" stroke=\"none\" points=\"239,-1075.5 66,-1075.5 66,-1031.5 239,-1031.5 239,-1075.5\"/>\n",
       "<polygon fill=\"none\" stroke=\"black\" points=\"66,-1031.5 66,-1075.5 130,-1075.5 130,-1031.5 66,-1031.5\"/>\n",
       "<text text-anchor=\"start\" x=\"71\" y=\"-1056.75\" font-family=\"Linux libertine\" font-size=\"10.00\">LayerNorm</text>\n",
       "<text text-anchor=\"start\" x=\"79.62\" y=\"-1044\" font-family=\"Linux libertine\" font-size=\"10.00\">depth:3</text>\n",
       "<polygon fill=\"none\" stroke=\"black\" points=\"130,-1053.5 130,-1075.5 177,-1075.5 177,-1053.5 130,-1053.5\"/>\n",
       "<text text-anchor=\"start\" x=\"139.62\" y=\"-1061\" font-family=\"Linux libertine\" font-size=\"10.00\">input:</text>\n",
       "<polygon fill=\"none\" stroke=\"black\" points=\"177,-1053.5 177,-1075.5 239,-1075.5 239,-1053.5 177,-1053.5\"/>\n",
       "<text text-anchor=\"start\" x=\"181.75\" y=\"-1061\" font-family=\"Linux libertine\" font-size=\"10.00\">(5, 23, 64) </text>\n",
       "<polygon fill=\"none\" stroke=\"black\" points=\"130,-1031.5 130,-1053.5 177,-1053.5 177,-1031.5 130,-1031.5\"/>\n",
       "<text text-anchor=\"start\" x=\"134.75\" y=\"-1039\" font-family=\"Linux libertine\" font-size=\"10.00\">output: </text>\n",
       "<polygon fill=\"none\" stroke=\"black\" points=\"177,-1031.5 177,-1053.5 239,-1053.5 239,-1031.5 177,-1031.5\"/>\n",
       "<text text-anchor=\"start\" x=\"181.75\" y=\"-1039\" font-family=\"Linux libertine\" font-size=\"10.00\">(5, 23, 64) </text>\n",
       "</g>\n",
       "<!-- 2&#45;&gt;3 -->\n",
       "<g id=\"edge3\" class=\"edge\">\n",
       "<title>2&#45;&gt;3</title>\n",
       "<path fill=\"none\" stroke=\"black\" d=\"M104.19,-1111.6C111.44,-1103.03 119.95,-1092.96 127.8,-1083.69\"/>\n",
       "<polygon fill=\"black\" stroke=\"black\" points=\"130.98,-1086.35 134.76,-1076.46 125.63,-1081.83 130.98,-1086.35\"/>\n",
       "</g>\n",
       "<!-- 5 -->\n",
       "<g id=\"node6\" class=\"node\">\n",
       "<title>5</title>\n",
       "<polygon fill=\"aliceblue\" stroke=\"none\" points=\"181,-915.5 8,-915.5 8,-871.5 181,-871.5 181,-915.5\"/>\n",
       "<polygon fill=\"none\" stroke=\"black\" points=\"8,-871.5 8,-915.5 54,-915.5 54,-871.5 8,-871.5\"/>\n",
       "<text text-anchor=\"start\" x=\"22\" y=\"-896.75\" font-family=\"Linux libertine\" font-size=\"10.00\">add</text>\n",
       "<text text-anchor=\"start\" x=\"12.62\" y=\"-884\" font-family=\"Linux libertine\" font-size=\"10.00\">depth:3</text>\n",
       "<polygon fill=\"none\" stroke=\"black\" points=\"54,-893.5 54,-915.5 101,-915.5 101,-893.5 54,-893.5\"/>\n",
       "<text text-anchor=\"start\" x=\"63.62\" y=\"-901\" font-family=\"Linux libertine\" font-size=\"10.00\">input:</text>\n",
       "<polygon fill=\"none\" stroke=\"black\" points=\"101,-893.5 101,-915.5 181,-915.5 181,-893.5 101,-893.5\"/>\n",
       "<text text-anchor=\"start\" x=\"105.75\" y=\"-901\" font-family=\"Linux libertine\" font-size=\"10.00\">2 x (5, 23, 64) </text>\n",
       "<polygon fill=\"none\" stroke=\"black\" points=\"54,-871.5 54,-893.5 101,-893.5 101,-871.5 54,-871.5\"/>\n",
       "<text text-anchor=\"start\" x=\"58.75\" y=\"-879\" font-family=\"Linux libertine\" font-size=\"10.00\">output: </text>\n",
       "<polygon fill=\"none\" stroke=\"black\" points=\"101,-871.5 101,-893.5 181,-893.5 181,-871.5 101,-871.5\"/>\n",
       "<text text-anchor=\"start\" x=\"114.75\" y=\"-879\" font-family=\"Linux libertine\" font-size=\"10.00\">(5, 23, 64) </text>\n",
       "</g>\n",
       "<!-- 2&#45;&gt;5 -->\n",
       "<g id=\"edge4\" class=\"edge\">\n",
       "<title>2&#45;&gt;5</title>\n",
       "<path fill=\"none\" stroke=\"black\" d=\"M73.06,-1111.68C66.97,-1101.23 60.3,-1088.14 56.5,-1075.5 40.6,-1022.61 30.11,-1003.57 48.5,-951.5 52.05,-941.44 58.21,-931.86 64.89,-923.52\"/>\n",
       "<polygon fill=\"black\" stroke=\"black\" points=\"68.09,-926.17 71.95,-916.3 62.78,-921.6 68.09,-926.17\"/>\n",
       "</g>\n",
       "<!-- 4 -->\n",
       "<g id=\"node5\" class=\"node\">\n",
       "<title>4</title>\n",
       "<polygon fill=\"#c1ffc1\" stroke=\"none\" points=\"263,-995.5 58,-995.5 58,-951.5 263,-951.5 263,-995.5\"/>\n",
       "<polygon fill=\"none\" stroke=\"black\" points=\"58,-951.5 58,-995.5 104,-995.5 104,-951.5 58,-951.5\"/>\n",
       "<text text-anchor=\"start\" x=\"70.12\" y=\"-976.75\" font-family=\"Linux libertine\" font-size=\"10.00\">RNN</text>\n",
       "<text text-anchor=\"start\" x=\"62.62\" y=\"-964\" font-family=\"Linux libertine\" font-size=\"10.00\">depth:3</text>\n",
       "<polygon fill=\"none\" stroke=\"black\" points=\"104,-973.5 104,-995.5 151,-995.5 151,-973.5 104,-973.5\"/>\n",
       "<text text-anchor=\"start\" x=\"113.62\" y=\"-981\" font-family=\"Linux libertine\" font-size=\"10.00\">input:</text>\n",
       "<polygon fill=\"none\" stroke=\"black\" points=\"151,-973.5 151,-995.5 263,-995.5 263,-973.5 151,-973.5\"/>\n",
       "<text text-anchor=\"start\" x=\"180.75\" y=\"-981\" font-family=\"Linux libertine\" font-size=\"10.00\">(5, 23, 64) </text>\n",
       "<polygon fill=\"none\" stroke=\"black\" points=\"104,-951.5 104,-973.5 151,-973.5 151,-951.5 104,-951.5\"/>\n",
       "<text text-anchor=\"start\" x=\"108.75\" y=\"-959\" font-family=\"Linux libertine\" font-size=\"10.00\">output: </text>\n",
       "<polygon fill=\"none\" stroke=\"black\" points=\"151,-951.5 151,-973.5 263,-973.5 263,-951.5 151,-951.5\"/>\n",
       "<text text-anchor=\"start\" x=\"156\" y=\"-959\" font-family=\"Linux libertine\" font-size=\"10.00\">(5, 23, 64), (2, 5, 32) </text>\n",
       "</g>\n",
       "<!-- 3&#45;&gt;4 -->\n",
       "<g id=\"edge5\" class=\"edge\">\n",
       "<title>3&#45;&gt;4</title>\n",
       "<path fill=\"none\" stroke=\"black\" d=\"M154.64,-1031.6C155.44,-1023.82 156.37,-1014.8 157.24,-1006.26\"/>\n",
       "<polygon fill=\"black\" stroke=\"black\" points=\"160.81,-1006.77 158.35,-996.46 153.85,-1006.05 160.81,-1006.77\"/>\n",
       "</g>\n",
       "<!-- 4&#45;&gt;5 -->\n",
       "<g id=\"edge6\" class=\"edge\">\n",
       "<title>4&#45;&gt;5</title>\n",
       "<path fill=\"none\" stroke=\"black\" d=\"M142.81,-951.6C135.56,-943.03 127.05,-932.96 119.2,-923.69\"/>\n",
       "<polygon fill=\"black\" stroke=\"black\" points=\"121.37,-921.83 112.24,-916.46 116.02,-926.35 121.37,-921.83\"/>\n",
       "</g>\n",
       "<!-- 6 -->\n",
       "<g id=\"node7\" class=\"node\">\n",
       "<title>6</title>\n",
       "<polygon fill=\"#c1ffc1\" stroke=\"none\" points=\"247,-835.5 74,-835.5 74,-791.5 247,-791.5 247,-835.5\"/>\n",
       "<polygon fill=\"none\" stroke=\"black\" points=\"74,-791.5 74,-835.5 138,-835.5 138,-791.5 74,-791.5\"/>\n",
       "<text text-anchor=\"start\" x=\"79\" y=\"-816.75\" font-family=\"Linux libertine\" font-size=\"10.00\">LayerNorm</text>\n",
       "<text text-anchor=\"start\" x=\"87.62\" y=\"-804\" font-family=\"Linux libertine\" font-size=\"10.00\">depth:3</text>\n",
       "<polygon fill=\"none\" stroke=\"black\" points=\"138,-813.5 138,-835.5 185,-835.5 185,-813.5 138,-813.5\"/>\n",
       "<text text-anchor=\"start\" x=\"147.62\" y=\"-821\" font-family=\"Linux libertine\" font-size=\"10.00\">input:</text>\n",
       "<polygon fill=\"none\" stroke=\"black\" points=\"185,-813.5 185,-835.5 247,-835.5 247,-813.5 185,-813.5\"/>\n",
       "<text text-anchor=\"start\" x=\"189.75\" y=\"-821\" font-family=\"Linux libertine\" font-size=\"10.00\">(5, 23, 64) </text>\n",
       "<polygon fill=\"none\" stroke=\"black\" points=\"138,-791.5 138,-813.5 185,-813.5 185,-791.5 138,-791.5\"/>\n",
       "<text text-anchor=\"start\" x=\"142.75\" y=\"-799\" font-family=\"Linux libertine\" font-size=\"10.00\">output: </text>\n",
       "<polygon fill=\"none\" stroke=\"black\" points=\"185,-791.5 185,-813.5 247,-813.5 247,-791.5 185,-791.5\"/>\n",
       "<text text-anchor=\"start\" x=\"189.75\" y=\"-799\" font-family=\"Linux libertine\" font-size=\"10.00\">(5, 23, 64) </text>\n",
       "</g>\n",
       "<!-- 5&#45;&gt;6 -->\n",
       "<g id=\"edge7\" class=\"edge\">\n",
       "<title>5&#45;&gt;6</title>\n",
       "<path fill=\"none\" stroke=\"black\" d=\"M112.19,-871.6C119.44,-863.03 127.95,-852.96 135.8,-843.69\"/>\n",
       "<polygon fill=\"black\" stroke=\"black\" points=\"138.98,-846.35 142.76,-836.46 133.63,-841.83 138.98,-846.35\"/>\n",
       "</g>\n",
       "<!-- 8 -->\n",
       "<g id=\"node9\" class=\"node\">\n",
       "<title>8</title>\n",
       "<polygon fill=\"aliceblue\" stroke=\"none\" points=\"189,-675.5 16,-675.5 16,-631.5 189,-631.5 189,-675.5\"/>\n",
       "<polygon fill=\"none\" stroke=\"black\" points=\"16,-631.5 16,-675.5 62,-675.5 62,-631.5 16,-631.5\"/>\n",
       "<text text-anchor=\"start\" x=\"30\" y=\"-656.75\" font-family=\"Linux libertine\" font-size=\"10.00\">add</text>\n",
       "<text text-anchor=\"start\" x=\"20.62\" y=\"-644\" font-family=\"Linux libertine\" font-size=\"10.00\">depth:3</text>\n",
       "<polygon fill=\"none\" stroke=\"black\" points=\"62,-653.5 62,-675.5 109,-675.5 109,-653.5 62,-653.5\"/>\n",
       "<text text-anchor=\"start\" x=\"71.62\" y=\"-661\" font-family=\"Linux libertine\" font-size=\"10.00\">input:</text>\n",
       "<polygon fill=\"none\" stroke=\"black\" points=\"109,-653.5 109,-675.5 189,-675.5 189,-653.5 109,-653.5\"/>\n",
       "<text text-anchor=\"start\" x=\"113.75\" y=\"-661\" font-family=\"Linux libertine\" font-size=\"10.00\">2 x (5, 23, 64) </text>\n",
       "<polygon fill=\"none\" stroke=\"black\" points=\"62,-631.5 62,-653.5 109,-653.5 109,-631.5 62,-631.5\"/>\n",
       "<text text-anchor=\"start\" x=\"66.75\" y=\"-639\" font-family=\"Linux libertine\" font-size=\"10.00\">output: </text>\n",
       "<polygon fill=\"none\" stroke=\"black\" points=\"109,-631.5 109,-653.5 189,-653.5 189,-631.5 109,-631.5\"/>\n",
       "<text text-anchor=\"start\" x=\"122.75\" y=\"-639\" font-family=\"Linux libertine\" font-size=\"10.00\">(5, 23, 64) </text>\n",
       "</g>\n",
       "<!-- 5&#45;&gt;8 -->\n",
       "<g id=\"edge8\" class=\"edge\">\n",
       "<title>5&#45;&gt;8</title>\n",
       "<path fill=\"none\" stroke=\"black\" d=\"M81.06,-871.68C74.97,-861.23 68.3,-848.14 64.5,-835.5 48.6,-782.61 38.11,-763.57 56.5,-711.5 60.05,-701.44 66.21,-691.86 72.89,-683.52\"/>\n",
       "<polygon fill=\"black\" stroke=\"black\" points=\"76.09,-686.17 79.95,-676.3 70.78,-681.6 76.09,-686.17\"/>\n",
       "</g>\n",
       "<!-- 7 -->\n",
       "<g id=\"node8\" class=\"node\">\n",
       "<title>7</title>\n",
       "<polygon fill=\"#c1ffc1\" stroke=\"none\" points=\"271,-755.5 66,-755.5 66,-711.5 271,-711.5 271,-755.5\"/>\n",
       "<polygon fill=\"none\" stroke=\"black\" points=\"66,-711.5 66,-755.5 112,-755.5 112,-711.5 66,-711.5\"/>\n",
       "<text text-anchor=\"start\" x=\"78.12\" y=\"-736.75\" font-family=\"Linux libertine\" font-size=\"10.00\">RNN</text>\n",
       "<text text-anchor=\"start\" x=\"70.62\" y=\"-724\" font-family=\"Linux libertine\" font-size=\"10.00\">depth:3</text>\n",
       "<polygon fill=\"none\" stroke=\"black\" points=\"112,-733.5 112,-755.5 159,-755.5 159,-733.5 112,-733.5\"/>\n",
       "<text text-anchor=\"start\" x=\"121.62\" y=\"-741\" font-family=\"Linux libertine\" font-size=\"10.00\">input:</text>\n",
       "<polygon fill=\"none\" stroke=\"black\" points=\"159,-733.5 159,-755.5 271,-755.5 271,-733.5 159,-733.5\"/>\n",
       "<text text-anchor=\"start\" x=\"188.75\" y=\"-741\" font-family=\"Linux libertine\" font-size=\"10.00\">(5, 23, 64) </text>\n",
       "<polygon fill=\"none\" stroke=\"black\" points=\"112,-711.5 112,-733.5 159,-733.5 159,-711.5 112,-711.5\"/>\n",
       "<text text-anchor=\"start\" x=\"116.75\" y=\"-719\" font-family=\"Linux libertine\" font-size=\"10.00\">output: </text>\n",
       "<polygon fill=\"none\" stroke=\"black\" points=\"159,-711.5 159,-733.5 271,-733.5 271,-711.5 159,-711.5\"/>\n",
       "<text text-anchor=\"start\" x=\"164\" y=\"-719\" font-family=\"Linux libertine\" font-size=\"10.00\">(5, 23, 64), (2, 5, 32) </text>\n",
       "</g>\n",
       "<!-- 6&#45;&gt;7 -->\n",
       "<g id=\"edge9\" class=\"edge\">\n",
       "<title>6&#45;&gt;7</title>\n",
       "<path fill=\"none\" stroke=\"black\" d=\"M162.64,-791.6C163.44,-783.82 164.37,-774.8 165.24,-766.26\"/>\n",
       "<polygon fill=\"black\" stroke=\"black\" points=\"168.81,-766.77 166.35,-756.46 161.85,-766.05 168.81,-766.77\"/>\n",
       "</g>\n",
       "<!-- 7&#45;&gt;8 -->\n",
       "<g id=\"edge10\" class=\"edge\">\n",
       "<title>7&#45;&gt;8</title>\n",
       "<path fill=\"none\" stroke=\"black\" d=\"M150.81,-711.6C143.56,-703.03 135.05,-692.96 127.2,-683.69\"/>\n",
       "<polygon fill=\"black\" stroke=\"black\" points=\"129.37,-681.83 120.24,-676.46 124.02,-686.35 129.37,-681.83\"/>\n",
       "</g>\n",
       "<!-- 9 -->\n",
       "<g id=\"node10\" class=\"node\">\n",
       "<title>9</title>\n",
       "<polygon fill=\"#c1ffc1\" stroke=\"none\" points=\"255,-595.5 82,-595.5 82,-551.5 255,-551.5 255,-595.5\"/>\n",
       "<polygon fill=\"none\" stroke=\"black\" points=\"82,-551.5 82,-595.5 146,-595.5 146,-551.5 82,-551.5\"/>\n",
       "<text text-anchor=\"start\" x=\"87\" y=\"-576.75\" font-family=\"Linux libertine\" font-size=\"10.00\">LayerNorm</text>\n",
       "<text text-anchor=\"start\" x=\"95.62\" y=\"-564\" font-family=\"Linux libertine\" font-size=\"10.00\">depth:3</text>\n",
       "<polygon fill=\"none\" stroke=\"black\" points=\"146,-573.5 146,-595.5 193,-595.5 193,-573.5 146,-573.5\"/>\n",
       "<text text-anchor=\"start\" x=\"155.62\" y=\"-581\" font-family=\"Linux libertine\" font-size=\"10.00\">input:</text>\n",
       "<polygon fill=\"none\" stroke=\"black\" points=\"193,-573.5 193,-595.5 255,-595.5 255,-573.5 193,-573.5\"/>\n",
       "<text text-anchor=\"start\" x=\"197.75\" y=\"-581\" font-family=\"Linux libertine\" font-size=\"10.00\">(5, 23, 64) </text>\n",
       "<polygon fill=\"none\" stroke=\"black\" points=\"146,-551.5 146,-573.5 193,-573.5 193,-551.5 146,-551.5\"/>\n",
       "<text text-anchor=\"start\" x=\"150.75\" y=\"-559\" font-family=\"Linux libertine\" font-size=\"10.00\">output: </text>\n",
       "<polygon fill=\"none\" stroke=\"black\" points=\"193,-551.5 193,-573.5 255,-573.5 255,-551.5 193,-551.5\"/>\n",
       "<text text-anchor=\"start\" x=\"197.75\" y=\"-559\" font-family=\"Linux libertine\" font-size=\"10.00\">(5, 23, 64) </text>\n",
       "</g>\n",
       "<!-- 8&#45;&gt;9 -->\n",
       "<g id=\"edge11\" class=\"edge\">\n",
       "<title>8&#45;&gt;9</title>\n",
       "<path fill=\"none\" stroke=\"black\" d=\"M120.19,-631.6C127.44,-623.03 135.95,-612.96 143.8,-603.69\"/>\n",
       "<polygon fill=\"black\" stroke=\"black\" points=\"146.98,-606.35 150.76,-596.46 141.63,-601.83 146.98,-606.35\"/>\n",
       "</g>\n",
       "<!-- 11 -->\n",
       "<g id=\"node12\" class=\"node\">\n",
       "<title>11</title>\n",
       "<polygon fill=\"aliceblue\" stroke=\"none\" points=\"197,-435.5 24,-435.5 24,-391.5 197,-391.5 197,-435.5\"/>\n",
       "<polygon fill=\"none\" stroke=\"black\" points=\"24,-391.5 24,-435.5 70,-435.5 70,-391.5 24,-391.5\"/>\n",
       "<text text-anchor=\"start\" x=\"38\" y=\"-416.75\" font-family=\"Linux libertine\" font-size=\"10.00\">add</text>\n",
       "<text text-anchor=\"start\" x=\"28.62\" y=\"-404\" font-family=\"Linux libertine\" font-size=\"10.00\">depth:3</text>\n",
       "<polygon fill=\"none\" stroke=\"black\" points=\"70,-413.5 70,-435.5 117,-435.5 117,-413.5 70,-413.5\"/>\n",
       "<text text-anchor=\"start\" x=\"79.62\" y=\"-421\" font-family=\"Linux libertine\" font-size=\"10.00\">input:</text>\n",
       "<polygon fill=\"none\" stroke=\"black\" points=\"117,-413.5 117,-435.5 197,-435.5 197,-413.5 117,-413.5\"/>\n",
       "<text text-anchor=\"start\" x=\"121.75\" y=\"-421\" font-family=\"Linux libertine\" font-size=\"10.00\">2 x (5, 23, 64) </text>\n",
       "<polygon fill=\"none\" stroke=\"black\" points=\"70,-391.5 70,-413.5 117,-413.5 117,-391.5 70,-391.5\"/>\n",
       "<text text-anchor=\"start\" x=\"74.75\" y=\"-399\" font-family=\"Linux libertine\" font-size=\"10.00\">output: </text>\n",
       "<polygon fill=\"none\" stroke=\"black\" points=\"117,-391.5 117,-413.5 197,-413.5 197,-391.5 117,-391.5\"/>\n",
       "<text text-anchor=\"start\" x=\"130.75\" y=\"-399\" font-family=\"Linux libertine\" font-size=\"10.00\">(5, 23, 64) </text>\n",
       "</g>\n",
       "<!-- 8&#45;&gt;11 -->\n",
       "<g id=\"edge12\" class=\"edge\">\n",
       "<title>8&#45;&gt;11</title>\n",
       "<path fill=\"none\" stroke=\"black\" d=\"M89.06,-631.68C82.97,-621.23 76.3,-608.14 72.5,-595.5 56.6,-542.61 46.11,-523.57 64.5,-471.5 68.05,-461.44 74.21,-451.86 80.89,-443.52\"/>\n",
       "<polygon fill=\"black\" stroke=\"black\" points=\"84.09,-446.17 87.95,-436.3 78.78,-441.6 84.09,-446.17\"/>\n",
       "</g>\n",
       "<!-- 10 -->\n",
       "<g id=\"node11\" class=\"node\">\n",
       "<title>10</title>\n",
       "<polygon fill=\"#c1ffc1\" stroke=\"none\" points=\"279,-515.5 74,-515.5 74,-471.5 279,-471.5 279,-515.5\"/>\n",
       "<polygon fill=\"none\" stroke=\"black\" points=\"74,-471.5 74,-515.5 120,-515.5 120,-471.5 74,-471.5\"/>\n",
       "<text text-anchor=\"start\" x=\"86.12\" y=\"-496.75\" font-family=\"Linux libertine\" font-size=\"10.00\">RNN</text>\n",
       "<text text-anchor=\"start\" x=\"78.62\" y=\"-484\" font-family=\"Linux libertine\" font-size=\"10.00\">depth:3</text>\n",
       "<polygon fill=\"none\" stroke=\"black\" points=\"120,-493.5 120,-515.5 167,-515.5 167,-493.5 120,-493.5\"/>\n",
       "<text text-anchor=\"start\" x=\"129.62\" y=\"-501\" font-family=\"Linux libertine\" font-size=\"10.00\">input:</text>\n",
       "<polygon fill=\"none\" stroke=\"black\" points=\"167,-493.5 167,-515.5 279,-515.5 279,-493.5 167,-493.5\"/>\n",
       "<text text-anchor=\"start\" x=\"196.75\" y=\"-501\" font-family=\"Linux libertine\" font-size=\"10.00\">(5, 23, 64) </text>\n",
       "<polygon fill=\"none\" stroke=\"black\" points=\"120,-471.5 120,-493.5 167,-493.5 167,-471.5 120,-471.5\"/>\n",
       "<text text-anchor=\"start\" x=\"124.75\" y=\"-479\" font-family=\"Linux libertine\" font-size=\"10.00\">output: </text>\n",
       "<polygon fill=\"none\" stroke=\"black\" points=\"167,-471.5 167,-493.5 279,-493.5 279,-471.5 167,-471.5\"/>\n",
       "<text text-anchor=\"start\" x=\"172\" y=\"-479\" font-family=\"Linux libertine\" font-size=\"10.00\">(5, 23, 64), (2, 5, 32) </text>\n",
       "</g>\n",
       "<!-- 9&#45;&gt;10 -->\n",
       "<g id=\"edge13\" class=\"edge\">\n",
       "<title>9&#45;&gt;10</title>\n",
       "<path fill=\"none\" stroke=\"black\" d=\"M170.64,-551.6C171.44,-543.82 172.37,-534.8 173.24,-526.26\"/>\n",
       "<polygon fill=\"black\" stroke=\"black\" points=\"176.81,-526.77 174.35,-516.46 169.85,-526.05 176.81,-526.77\"/>\n",
       "</g>\n",
       "<!-- 10&#45;&gt;11 -->\n",
       "<g id=\"edge14\" class=\"edge\">\n",
       "<title>10&#45;&gt;11</title>\n",
       "<path fill=\"none\" stroke=\"black\" d=\"M158.81,-471.6C151.56,-463.03 143.05,-452.96 135.2,-443.69\"/>\n",
       "<polygon fill=\"black\" stroke=\"black\" points=\"137.37,-441.83 128.24,-436.46 132.02,-446.35 137.37,-441.83\"/>\n",
       "</g>\n",
       "<!-- 12 -->\n",
       "<g id=\"node13\" class=\"node\">\n",
       "<title>12</title>\n",
       "<polygon fill=\"#c1ffc1\" stroke=\"none\" points=\"263,-355.5 90,-355.5 90,-311.5 263,-311.5 263,-355.5\"/>\n",
       "<polygon fill=\"none\" stroke=\"black\" points=\"90,-311.5 90,-355.5 154,-355.5 154,-311.5 90,-311.5\"/>\n",
       "<text text-anchor=\"start\" x=\"95\" y=\"-336.75\" font-family=\"Linux libertine\" font-size=\"10.00\">LayerNorm</text>\n",
       "<text text-anchor=\"start\" x=\"103.62\" y=\"-324\" font-family=\"Linux libertine\" font-size=\"10.00\">depth:3</text>\n",
       "<polygon fill=\"none\" stroke=\"black\" points=\"154,-333.5 154,-355.5 201,-355.5 201,-333.5 154,-333.5\"/>\n",
       "<text text-anchor=\"start\" x=\"163.62\" y=\"-341\" font-family=\"Linux libertine\" font-size=\"10.00\">input:</text>\n",
       "<polygon fill=\"none\" stroke=\"black\" points=\"201,-333.5 201,-355.5 263,-355.5 263,-333.5 201,-333.5\"/>\n",
       "<text text-anchor=\"start\" x=\"205.75\" y=\"-341\" font-family=\"Linux libertine\" font-size=\"10.00\">(5, 23, 64) </text>\n",
       "<polygon fill=\"none\" stroke=\"black\" points=\"154,-311.5 154,-333.5 201,-333.5 201,-311.5 154,-311.5\"/>\n",
       "<text text-anchor=\"start\" x=\"158.75\" y=\"-319\" font-family=\"Linux libertine\" font-size=\"10.00\">output: </text>\n",
       "<polygon fill=\"none\" stroke=\"black\" points=\"201,-311.5 201,-333.5 263,-333.5 263,-311.5 201,-311.5\"/>\n",
       "<text text-anchor=\"start\" x=\"205.75\" y=\"-319\" font-family=\"Linux libertine\" font-size=\"10.00\">(5, 23, 64) </text>\n",
       "</g>\n",
       "<!-- 11&#45;&gt;12 -->\n",
       "<g id=\"edge15\" class=\"edge\">\n",
       "<title>11&#45;&gt;12</title>\n",
       "<path fill=\"none\" stroke=\"black\" d=\"M128.19,-391.6C135.44,-383.03 143.95,-372.96 151.8,-363.69\"/>\n",
       "<polygon fill=\"black\" stroke=\"black\" points=\"154.98,-366.35 158.76,-356.46 149.63,-361.83 154.98,-366.35\"/>\n",
       "</g>\n",
       "<!-- 14 -->\n",
       "<g id=\"node15\" class=\"node\">\n",
       "<title>14</title>\n",
       "<polygon fill=\"aliceblue\" stroke=\"none\" points=\"205,-195.5 32,-195.5 32,-151.5 205,-151.5 205,-195.5\"/>\n",
       "<polygon fill=\"none\" stroke=\"black\" points=\"32,-151.5 32,-195.5 78,-195.5 78,-151.5 32,-151.5\"/>\n",
       "<text text-anchor=\"start\" x=\"46\" y=\"-176.75\" font-family=\"Linux libertine\" font-size=\"10.00\">add</text>\n",
       "<text text-anchor=\"start\" x=\"36.62\" y=\"-164\" font-family=\"Linux libertine\" font-size=\"10.00\">depth:3</text>\n",
       "<polygon fill=\"none\" stroke=\"black\" points=\"78,-173.5 78,-195.5 125,-195.5 125,-173.5 78,-173.5\"/>\n",
       "<text text-anchor=\"start\" x=\"87.62\" y=\"-181\" font-family=\"Linux libertine\" font-size=\"10.00\">input:</text>\n",
       "<polygon fill=\"none\" stroke=\"black\" points=\"125,-173.5 125,-195.5 205,-195.5 205,-173.5 125,-173.5\"/>\n",
       "<text text-anchor=\"start\" x=\"129.75\" y=\"-181\" font-family=\"Linux libertine\" font-size=\"10.00\">2 x (5, 23, 64) </text>\n",
       "<polygon fill=\"none\" stroke=\"black\" points=\"78,-151.5 78,-173.5 125,-173.5 125,-151.5 78,-151.5\"/>\n",
       "<text text-anchor=\"start\" x=\"82.75\" y=\"-159\" font-family=\"Linux libertine\" font-size=\"10.00\">output: </text>\n",
       "<polygon fill=\"none\" stroke=\"black\" points=\"125,-151.5 125,-173.5 205,-173.5 205,-151.5 125,-151.5\"/>\n",
       "<text text-anchor=\"start\" x=\"138.75\" y=\"-159\" font-family=\"Linux libertine\" font-size=\"10.00\">(5, 23, 64) </text>\n",
       "</g>\n",
       "<!-- 11&#45;&gt;14 -->\n",
       "<g id=\"edge16\" class=\"edge\">\n",
       "<title>11&#45;&gt;14</title>\n",
       "<path fill=\"none\" stroke=\"black\" d=\"M97.06,-391.68C90.97,-381.23 84.3,-368.14 80.5,-355.5 64.6,-302.61 54.11,-283.57 72.5,-231.5 76.05,-221.44 82.21,-211.86 88.89,-203.52\"/>\n",
       "<polygon fill=\"black\" stroke=\"black\" points=\"92.09,-206.17 95.95,-196.3 86.78,-201.6 92.09,-206.17\"/>\n",
       "</g>\n",
       "<!-- 13 -->\n",
       "<g id=\"node14\" class=\"node\">\n",
       "<title>13</title>\n",
       "<polygon fill=\"#c1ffc1\" stroke=\"none\" points=\"287,-275.5 82,-275.5 82,-231.5 287,-231.5 287,-275.5\"/>\n",
       "<polygon fill=\"none\" stroke=\"black\" points=\"82,-231.5 82,-275.5 128,-275.5 128,-231.5 82,-231.5\"/>\n",
       "<text text-anchor=\"start\" x=\"94.12\" y=\"-256.75\" font-family=\"Linux libertine\" font-size=\"10.00\">RNN</text>\n",
       "<text text-anchor=\"start\" x=\"86.62\" y=\"-244\" font-family=\"Linux libertine\" font-size=\"10.00\">depth:3</text>\n",
       "<polygon fill=\"none\" stroke=\"black\" points=\"128,-253.5 128,-275.5 175,-275.5 175,-253.5 128,-253.5\"/>\n",
       "<text text-anchor=\"start\" x=\"137.62\" y=\"-261\" font-family=\"Linux libertine\" font-size=\"10.00\">input:</text>\n",
       "<polygon fill=\"none\" stroke=\"black\" points=\"175,-253.5 175,-275.5 287,-275.5 287,-253.5 175,-253.5\"/>\n",
       "<text text-anchor=\"start\" x=\"204.75\" y=\"-261\" font-family=\"Linux libertine\" font-size=\"10.00\">(5, 23, 64) </text>\n",
       "<polygon fill=\"none\" stroke=\"black\" points=\"128,-231.5 128,-253.5 175,-253.5 175,-231.5 128,-231.5\"/>\n",
       "<text text-anchor=\"start\" x=\"132.75\" y=\"-239\" font-family=\"Linux libertine\" font-size=\"10.00\">output: </text>\n",
       "<polygon fill=\"none\" stroke=\"black\" points=\"175,-231.5 175,-253.5 287,-253.5 287,-231.5 175,-231.5\"/>\n",
       "<text text-anchor=\"start\" x=\"180\" y=\"-239\" font-family=\"Linux libertine\" font-size=\"10.00\">(5, 23, 64), (2, 5, 32) </text>\n",
       "</g>\n",
       "<!-- 12&#45;&gt;13 -->\n",
       "<g id=\"edge17\" class=\"edge\">\n",
       "<title>12&#45;&gt;13</title>\n",
       "<path fill=\"none\" stroke=\"black\" d=\"M178.64,-311.6C179.44,-303.82 180.37,-294.8 181.24,-286.26\"/>\n",
       "<polygon fill=\"black\" stroke=\"black\" points=\"184.81,-286.77 182.35,-276.46 177.85,-286.05 184.81,-286.77\"/>\n",
       "</g>\n",
       "<!-- 13&#45;&gt;14 -->\n",
       "<g id=\"edge18\" class=\"edge\">\n",
       "<title>13&#45;&gt;14</title>\n",
       "<path fill=\"none\" stroke=\"black\" d=\"M166.81,-231.6C159.56,-223.03 151.05,-212.96 143.2,-203.69\"/>\n",
       "<polygon fill=\"black\" stroke=\"black\" points=\"145.37,-201.83 136.24,-196.46 140.02,-206.35 145.37,-201.83\"/>\n",
       "</g>\n",
       "<!-- 15 -->\n",
       "<g id=\"node16\" class=\"node\">\n",
       "<title>15</title>\n",
       "<polygon fill=\"aliceblue\" stroke=\"none\" points=\"207.5,-115.5 29.5,-115.5 29.5,-71.5 207.5,-71.5 207.5,-115.5\"/>\n",
       "<polygon fill=\"none\" stroke=\"black\" points=\"29.5,-71.5 29.5,-115.5 98.5,-115.5 98.5,-71.5 29.5,-71.5\"/>\n",
       "<text text-anchor=\"start\" x=\"34.38\" y=\"-96.75\" font-family=\"Linux libertine\" font-size=\"10.00\">__getitem__</text>\n",
       "<text text-anchor=\"start\" x=\"45.62\" y=\"-84\" font-family=\"Linux libertine\" font-size=\"10.00\">depth:1</text>\n",
       "<polygon fill=\"none\" stroke=\"black\" points=\"98.5,-93.5 98.5,-115.5 145.5,-115.5 145.5,-93.5 98.5,-93.5\"/>\n",
       "<text text-anchor=\"start\" x=\"108.12\" y=\"-101\" font-family=\"Linux libertine\" font-size=\"10.00\">input:</text>\n",
       "<polygon fill=\"none\" stroke=\"black\" points=\"145.5,-93.5 145.5,-115.5 207.5,-115.5 207.5,-93.5 145.5,-93.5\"/>\n",
       "<text text-anchor=\"start\" x=\"150.25\" y=\"-101\" font-family=\"Linux libertine\" font-size=\"10.00\">(5, 23, 64) </text>\n",
       "<polygon fill=\"none\" stroke=\"black\" points=\"98.5,-71.5 98.5,-93.5 145.5,-93.5 145.5,-71.5 98.5,-71.5\"/>\n",
       "<text text-anchor=\"start\" x=\"103.25\" y=\"-79\" font-family=\"Linux libertine\" font-size=\"10.00\">output: </text>\n",
       "<polygon fill=\"none\" stroke=\"black\" points=\"145.5,-71.5 145.5,-93.5 207.5,-93.5 207.5,-71.5 145.5,-71.5\"/>\n",
       "<text text-anchor=\"start\" x=\"159.25\" y=\"-79\" font-family=\"Linux libertine\" font-size=\"10.00\">(5, 64) </text>\n",
       "</g>\n",
       "<!-- 14&#45;&gt;15 -->\n",
       "<g id=\"edge19\" class=\"edge\">\n",
       "<title>14&#45;&gt;15</title>\n",
       "<path fill=\"none\" stroke=\"black\" d=\"M118.5,-151.6C118.5,-143.82 118.5,-134.8 118.5,-126.26\"/>\n",
       "<polygon fill=\"black\" stroke=\"black\" points=\"122,-126.46 118.5,-116.46 115,-126.46 122,-126.46\"/>\n",
       "</g>\n",
       "<!-- 16 -->\n",
       "<g id=\"node17\" class=\"node\">\n",
       "<title>16</title>\n",
       "<polygon fill=\"lightyellow\" stroke=\"none\" points=\"177.25,-35.5 59.75,-35.5 59.75,0 177.25,0 177.25,-35.5\"/>\n",
       "<polygon fill=\"none\" stroke=\"black\" points=\"59.75,0 59.75,-35.5 135.75,-35.5 135.75,0 59.75,0\"/>\n",
       "<text text-anchor=\"start\" x=\"64.75\" y=\"-21\" font-family=\"Linux libertine\" font-size=\"10.00\">output&#45;tensor</text>\n",
       "<text text-anchor=\"start\" x=\"79.38\" y=\"-8.25\" font-family=\"Linux libertine\" font-size=\"10.00\">depth:0</text>\n",
       "<polygon fill=\"none\" stroke=\"black\" points=\"135.75,0 135.75,-35.5 177.25,-35.5 177.25,0 135.75,0\"/>\n",
       "<text text-anchor=\"start\" x=\"140.75\" y=\"-14.62\" font-family=\"Linux libertine\" font-size=\"10.00\">(5, 64)</text>\n",
       "</g>\n",
       "<!-- 15&#45;&gt;16 -->\n",
       "<g id=\"edge20\" class=\"edge\">\n",
       "<title>15&#45;&gt;16</title>\n",
       "<path fill=\"none\" stroke=\"black\" d=\"M118.5,-71.56C118.5,-63.6 118.5,-54.41 118.5,-45.95\"/>\n",
       "<polygon fill=\"black\" stroke=\"black\" points=\"122,-46.05 118.5,-36.05 115,-46.05 122,-46.05\"/>\n",
       "</g>\n",
       "</g>\n",
       "</svg>\n"
      ],
      "text/plain": [
       "<graphviz.graphs.Digraph at 0x7f3882f041d0>"
      ]
     },
     "execution_count": 43,
     "metadata": {},
     "output_type": "execute_result"
    }
   ],
   "source": [
    "model_graph = draw_graph(enc_net,\n",
    "                         input_data = torch.Tensor(enc_x_train[0:5]).long(),\n",
    "                         device=device,\n",
    "                         hide_inner_tensors=True,\n",
    "                         hide_module_functions=True,\n",
    "                         expand_nested=False,\n",
    "                         depth=3,\n",
    "                         dtypes=[torch.long])\n",
    "model_graph.visual_graph"
   ]
  },
  {
   "cell_type": "code",
   "execution_count": null,
   "id": "98bb5f52-6c74-43f5-9a0f-0fcafae1947c",
   "metadata": {},
   "outputs": [],
   "source": []
  }
 ],
 "metadata": {
  "kernelspec": {
   "display_name": "Python 3 (ipykernel)",
   "language": "python",
   "name": "python3"
  },
  "language_info": {
   "codemirror_mode": {
    "name": "ipython",
    "version": 3
   },
   "file_extension": ".py",
   "mimetype": "text/x-python",
   "name": "python",
   "nbconvert_exporter": "python",
   "pygments_lexer": "ipython3",
   "version": "3.11.5"
  }
 },
 "nbformat": 4,
 "nbformat_minor": 5
}
