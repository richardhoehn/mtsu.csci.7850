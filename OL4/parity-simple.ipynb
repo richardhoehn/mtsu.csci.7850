{
 "cells": [
  {
   "cell_type": "code",
   "execution_count": 6,
   "id": "6cc7872d-3493-4458-816f-4dbe46ea817f",
   "metadata": {},
   "outputs": [],
   "source": [
    "import numpy as np\n",
    "import torch\n",
    "import lightning.pytorch as pl\n",
    "import torchmetrics\n",
    "import torchvision\n",
    "from torchinfo import summary\n",
    "from torchview import draw_graph\n",
    "from IPython.display import display\n",
    "import sympy as sp\n",
    "sp.init_printing(use_latex=True)\n",
    "\n",
    "import pandas as pd\n",
    "import matplotlib.pyplot as plt\n",
    "\n",
    "import urllib"
   ]
  },
  {
   "cell_type": "code",
   "execution_count": 51,
   "id": "bb044039-c847-4234-8b4e-887518ea75e5",
   "metadata": {},
   "outputs": [
    {
     "name": "stdout",
     "output_type": "stream",
     "text": [
      "\n",
      "Array of 0s and 1s:\n",
      "Data Array:          [1 1 0 1 0 1 1 0 0 1 0 1 1 0 1 0]\n",
      "Parity Array:        [1 0 0 1 1 0 1 1 1 0 0 1 0 0 1 1]\n",
      "\n",
      "Encoded:\n",
      "Key: 1 = Start, 2 = Stop, 3 = Zero, 4 = One, 0 = Padding / Empty\n",
      "Data Array (enc):    [1 4 4 3 4 3 4 4 3 3 4 3 4 4 3 4 3 2 0 0 0 0 0 0 0 0 0 0 0 0 0 0]\n",
      "Parity Array (enc):  [1 4 3 3 4 4 3 4 4 4 3 3 4 3 3 4 4 2 0 0 0 0 0 0 0 0 0 0 0 0 0 0]\n"
     ]
    }
   ],
   "source": [
    "\n",
    "# Generate a random length between 10 and 30\n",
    "length = np.random.randint(10, 31)\n",
    "\n",
    "# Create a random array of 0s and 1s with the random length\n",
    "data_array = np.random.randint(2, size=length)\n",
    "\n",
    "# Initialize an array to store the cumulative sum of random_array\n",
    "cumulative_sum = np.cumsum(data_array)\n",
    "\n",
    "# Calculate parity for each cumulative sum and save to a separate array\n",
    "parity_array = cumulative_sum % 2\n",
    "\n",
    "# No We need to convert Array to Encoding 0s = 3 and 1s = 4\n",
    "enc_data_array = np.where(data_array == 0, 3, 4)\n",
    "enc_parity_array = np.where(parity_array == 0, 3, 4)\n",
    "\n",
    "enc_data_array = np.concatenate(([1], enc_data_array, [2]))\n",
    "enc_parity_array = np.concatenate(([1], enc_parity_array, [2]))\n",
    "\n",
    "enc_data_array = np.pad(enc_data_array, (0, 30 - length), 'constant')\n",
    "enc_parity_array = np.pad(enc_parity_array, (0, 30 - length), 'constant')\n",
    "\n",
    "\n",
    "\n",
    "print(\"\\nArray of 0s and 1s:\")\n",
    "print(\"Data Array:         \", data_array)\n",
    "print(\"Parity Array:       \", parity_array)\n",
    "print(\"\\nEncoded:\\nKey: 1 = Start, 2 = Stop, 3 = Zero, 4 = One, 0 = Padding / Empty\")\n",
    "print(\"Data Array (enc):   \", enc_data_array)\n",
    "print(\"Parity Array (enc): \", enc_parity_array)\n"
   ]
  },
  {
   "cell_type": "code",
   "execution_count": 30,
   "id": "630a6dbf-0769-4e08-9c45-2fe34894f80e",
   "metadata": {},
   "outputs": [
    {
     "name": "stdout",
     "output_type": "stream",
     "text": [
      "(100, 30)\n"
     ]
    },
    {
     "data": {
      "text/plain": [
       "array([1, 1, 0, 1, 1, 1, 1, 1, 1, 1, 0, 0, 1, 0, 0, 0, 0, 0, 1, 0, 1, 1,\n",
       "       0, 0, 0, 0, 0, 0, 0, 0])"
      ]
     },
     "execution_count": 30,
     "metadata": {},
     "output_type": "execute_result"
    }
   ],
   "source": [
    "# Set the seed for reproducibility (optional)\n",
    "np.random.seed(0)\n",
    "\n",
    "# Generate 100 random arrays with lengths between 10 and 30\n",
    "num_arrays = 100\n",
    "min_length = 10\n",
    "max_length = 30\n",
    "arrays_list = []\n",
    "\n",
    "for _ in range(num_arrays):\n",
    "    length = np.random.randint(min_length, max_length + 1)\n",
    "    random_array = np.random.randint(2, size=length)\n",
    "    # Right pad with 0s to make the length consistent\n",
    "    padded_array = np.pad(random_array, (0, max_length - length), 'constant')\n",
    "    arrays_list.append(padded_array)\n",
    "\n",
    "# Convert the list of arrays into a 2D NumPy array\n",
    "final_array = np.array(arrays_list)\n",
    "\n",
    "# Print the shape of the final array\n",
    "print(final_array.shape)\n",
    "\n",
    "final_array[0]\n"
   ]
  },
  {
   "cell_type": "code",
   "execution_count": 2,
   "id": "efe22e7e-78d9-40e6-aeca-95f26d850b3c",
   "metadata": {},
   "outputs": [
    {
     "name": "stdout",
     "output_type": "stream",
     "text": [
      "NVIDIA GeForce RTX 2080 Ti\n",
      "_CudaDeviceProperties(name='NVIDIA GeForce RTX 2080 Ti', major=7, minor=5, total_memory=11011MB, multi_processor_count=68)\n",
      "Number of devices: 1\n"
     ]
    }
   ],
   "source": [
    "if torch.cuda.is_available():\n",
    "    print(torch.cuda.get_device_name())\n",
    "    print(torch.cuda.get_device_properties(\"cuda\"))\n",
    "    print(\"Number of devices:\",torch.cuda.device_count())\n",
    "    device = (\"cuda\")\n",
    "else:\n",
    "    print(\"Only CPU is available...\")\n",
    "    device = (\"cpu\")"
   ]
  },
  {
   "cell_type": "code",
   "execution_count": 3,
   "id": "c0701c2e-600e-4eb1-bbd3-0c61af44e6f9",
   "metadata": {},
   "outputs": [
    {
     "data": {
      "image/png": "[encoded data removed]",
      "text/latex": [
       "$\\displaystyle \\left( 170304, \\  2\\right)$"
      ],
      "text/plain": [
       "(170304, 2)"
      ]
     },
     "execution_count": 3,
     "metadata": {},
     "output_type": "execute_result"
    }
   ],
   "source": [
    "# Setup URL to Data File\n",
    "url = \"https://raw.githubusercontent.com/luisroque/deep-learning-articles/main/data/eng-por.txt\"\n",
    "\n",
    "data = []\n",
    "with urllib.request.urlopen(url) as raw_data:\n",
    "    for line in raw_data:\n",
    "        data.append(line.decode(\"utf-8\").split('\\t')[0:2])\n",
    "data = np.array(data)\n",
    "\n",
    "data.shape"
   ]
  },
  {
   "cell_type": "code",
   "execution_count": 4,
   "id": "535e01de-abee-4a33-980c-c581e184d45e",
   "metadata": {},
   "outputs": [
    {
     "name": "stdout",
     "output_type": "stream",
     "text": [
      "max_length = $23\n",
      "data[0] => $['Jump.' 'Pulem.']\n"
     ]
    }
   ],
   "source": [
    "# Subset? - All of the data will take some time...\n",
    "n_seq = data.shape[0]\n",
    "n_seq = 100\n",
    "data = data[0:n_seq]\n",
    "split_point = int(data.shape[0] * 0.8) # Keep 80/20 split\n",
    "np.random.shuffle(data) # In-place modification\n",
    "max_length = np.max([len(i) for i in data.flatten()]) + 2 # Add start/stop\n",
    "\n",
    "print(f\"max_length = ${max_length}\")\n",
    "print(f\"data[0] => ${data[0]}\")"
   ]
  },
  {
   "cell_type": "code",
   "execution_count": 5,
   "id": "4a5c6fd6-7eea-453c-957e-fc86da22f47c",
   "metadata": {},
   "outputs": [],
   "source": [
    "# Setup\n",
    "i_to_c_eng = ['','<START>','<STOP>'] + list({char for word in data[:,0] for char in word})\n",
    "c_to_i_eng = {i_to_c_eng[i]:i for i in range(len(i_to_c_eng))}\n",
    "i_to_c_eng[1] = i_to_c_eng[2] = ''\n",
    "\n",
    "i_to_c_por = ['','<START>','<STOP>'] + list({char for word in data[:,1] for char in word})\n",
    "c_to_i_por = {i_to_c_por[i]:i for i in range(len(i_to_c_por))}\n",
    "i_to_c_por[1] = i_to_c_por[2] = ''\n"
   ]
  },
  {
   "cell_type": "code",
   "execution_count": 6,
   "id": "66ec1043-c582-4f76-aacc-ecddf6836a81",
   "metadata": {},
   "outputs": [],
   "source": [
    "def encode_seq(x, mapping, max_length=0):\n",
    "    # String to integer\n",
    "    return [mapping['<START>']] + \\\n",
    "    [mapping[i] for i in list(x)] + \\\n",
    "    [mapping['<STOP>']] + \\\n",
    "    [0]*(max_length-len(list(x))-2)\n",
    "    \n",
    "def decode_seq(x, mapping):\n",
    "    # Integer-to-string\n",
    "    try:\n",
    "        idx = list(x).index(2) # Stop token?\n",
    "    except:\n",
    "        idx = len(list(x)) # No stop token found\n",
    "    return ''.join([mapping[i] for i in list(x)[0:idx]])"
   ]
  },
  {
   "cell_type": "code",
   "execution_count": 7,
   "id": "2ca41141-d717-4656-9096-ae59f99f7867",
   "metadata": {},
   "outputs": [
    {
     "data": {
      "text/plain": [
       "array(['Jump.', 'Pulem.'], dtype='<U184')"
      ]
     },
     "execution_count": 7,
     "metadata": {},
     "output_type": "execute_result"
    }
   ],
   "source": [
    "data[0]\n"
   ]
  },
  {
   "cell_type": "code",
   "execution_count": 8,
   "id": "aa71463c-84d3-455b-bb8e-477e97519c47",
   "metadata": {},
   "outputs": [
    {
     "data": {
      "text/plain": [
       "'Jump.'"
      ]
     },
     "execution_count": 8,
     "metadata": {},
     "output_type": "execute_result"
    }
   ],
   "source": [
    "data[0,0]"
   ]
  },
  {
   "cell_type": "code",
   "execution_count": 9,
   "id": "6943a859-549b-4417-ac70-7cc009ca39b6",
   "metadata": {},
   "outputs": [
    {
     "name": "stdout",
     "output_type": "stream",
     "text": [
      "[1, 22, 37, 16, 33, 12, 2, 0, 0, 0, 0, 0, 0, 0, 0, 0, 0, 0, 0, 0, 0, 0, 0]\n"
     ]
    }
   ],
   "source": [
    "temp = encode_seq(data[0,0],c_to_i_eng,max_length)\n",
    "\n",
    "print(temp)"
   ]
  },
  {
   "cell_type": "code",
   "execution_count": 10,
   "id": "92c3145e-a396-4886-a910-9429f7206903",
   "metadata": {},
   "outputs": [
    {
     "data": {
      "text/plain": [
       "'Jump.'"
      ]
     },
     "execution_count": 10,
     "metadata": {},
     "output_type": "execute_result"
    }
   ],
   "source": [
    "decode_seq(temp, i_to_c_eng)"
   ]
  },
  {
   "cell_type": "code",
   "execution_count": 11,
   "id": "8dcff1aa-7c3e-4743-a3c6-de994c999c20",
   "metadata": {},
   "outputs": [
    {
     "data": {
      "text/plain": [
       "'Pulem.'"
      ]
     },
     "execution_count": 11,
     "metadata": {},
     "output_type": "execute_result"
    }
   ],
   "source": [
    "data[0,1]"
   ]
  },
  {
   "cell_type": "code",
   "execution_count": 12,
   "id": "66c7dc08-60af-4a05-bb2d-b3739d62c57f",
   "metadata": {},
   "outputs": [
    {
     "name": "stdout",
     "output_type": "stream",
     "text": [
      "[1, 34, 48, 31, 9, 21, 14, 2, 0, 0, 0, 0, 0, 0, 0, 0, 0, 0, 0, 0, 0, 0, 0]\n"
     ]
    }
   ],
   "source": [
    "temp = encode_seq(data[0,1],c_to_i_por,max_length)\n",
    "\n",
    "print(temp)"
   ]
  },
  {
   "cell_type": "code",
   "execution_count": 13,
   "id": "ef554a23-38ca-480e-b7a5-5b9477dec38f",
   "metadata": {},
   "outputs": [
    {
     "data": {
      "text/plain": [
       "'Pulem.'"
      ]
     },
     "execution_count": 13,
     "metadata": {},
     "output_type": "execute_result"
    }
   ],
   "source": [
    "decode_seq(temp, i_to_c_por)"
   ]
  },
  {
   "cell_type": "code",
   "execution_count": 14,
   "id": "b6a5c7af-78cc-49dc-a573-d63ab9cc84e8",
   "metadata": {},
   "outputs": [
    {
     "data": {
      "text/plain": [
       "array([[ 1, 22, 37, ...,  0,  0,  0],\n",
       "       [ 1, 34, 37, ...,  0,  0,  0],\n",
       "       [ 1, 43, 15, ...,  0,  0,  0],\n",
       "       ...,\n",
       "       [ 1,  6,  7, ...,  0,  0,  0],\n",
       "       [ 1, 20, 11, ...,  0,  0,  0],\n",
       "       [ 1,  4, 15, ...,  0,  0,  0]])"
      ]
     },
     "execution_count": 14,
     "metadata": {},
     "output_type": "execute_result"
    }
   ],
   "source": [
    "# Setup\n",
    "X = np.vstack([encode_seq(x, c_to_i_eng, max_length) for x in data[:,0]])\n",
    "Y = np.vstack([encode_seq(x, c_to_i_por, max_length) for x in data[:,1]])\n",
    "\n",
    "enc_x_train = X[:split_point]\n",
    "enc_x_val = X[split_point:]\n",
    "enc_x_train\n"
   ]
  },
  {
   "cell_type": "code",
   "execution_count": 15,
   "id": "d8acac74-4b68-4524-b79e-13d10782edbb",
   "metadata": {},
   "outputs": [
    {
     "data": {
      "text/plain": [
       "array([[ 1, 34, 48, ...,  0,  0,  0],\n",
       "       [ 1, 23, 37, ...,  0,  0,  0],\n",
       "       [ 1, 34, 42, ...,  0,  0,  0],\n",
       "       ...,\n",
       "       [ 1, 25,  9, ...,  0,  0,  0],\n",
       "       [ 1,  4, 48, ...,  0,  0,  0],\n",
       "       [ 1,  5, 20, ...,  0,  0,  0]])"
      ]
     },
     "execution_count": 15,
     "metadata": {},
     "output_type": "execute_result"
    }
   ],
   "source": [
    "# Setup\n",
    "dec_x_train = Y[:,0:-1][:split_point]\n",
    "dec_x_val = Y[:,0:-1][split_point:]\n",
    "dec_x_train"
   ]
  },
  {
   "cell_type": "code",
   "execution_count": 16,
   "id": "01cf865e-a2ff-453b-8586-0765413ea518",
   "metadata": {},
   "outputs": [
    {
     "data": {
      "text/plain": [
       "array([[34, 48, 31, ...,  0,  0,  0],\n",
       "       [23, 37, 47, ...,  0,  0,  0],\n",
       "       [34, 42, 47, ...,  0,  0,  0],\n",
       "       ...,\n",
       "       [25,  9, 35, ...,  0,  0,  0],\n",
       "       [ 4, 48,  9, ...,  0,  0,  0],\n",
       "       [ 5, 20, 42, ...,  0,  0,  0]])"
      ]
     },
     "execution_count": 16,
     "metadata": {},
     "output_type": "execute_result"
    }
   ],
   "source": [
    "dec_y_train = Y[:,1:][:split_point]\n",
    "dec_y_val = Y[:,1:][split_point:]\n",
    "dec_y_train"
   ]
  },
  {
   "cell_type": "code",
   "execution_count": 17,
   "id": "0c88beba-1ed6-458b-860d-4035f1e95291",
   "metadata": {},
   "outputs": [
    {
     "name": "stdout",
     "output_type": "stream",
     "text": [
      "(80, 23)\n",
      "(80, 22)\n",
      "(80, 22)\n",
      "----\n",
      "(20, 23)\n",
      "(20, 22)\n",
      "(20, 22)\n"
     ]
    }
   ],
   "source": [
    "print(enc_x_train.shape)\n",
    "print(dec_x_train.shape)\n",
    "print(dec_y_train.shape)\n",
    "\n",
    "print(\"----\")\n",
    "\n",
    "print(enc_x_val.shape)\n",
    "print(dec_x_val.shape)\n",
    "print(dec_y_val.shape)"
   ]
  },
  {
   "cell_type": "code",
   "execution_count": 18,
   "id": "63d4a6ac-b365-400b-8477-9621e76f99bc",
   "metadata": {},
   "outputs": [
    {
     "data": {
      "image/png": "[encoded data removed]",
      "text/latex": [
       "$\\displaystyle 44$"
      ],
      "text/plain": [
       "44"
      ]
     },
     "execution_count": 18,
     "metadata": {},
     "output_type": "execute_result"
    }
   ],
   "source": [
    "len(i_to_c_eng)"
   ]
  },
  {
   "cell_type": "code",
   "execution_count": 19,
   "id": "e289f0d7-7071-43ba-83c7-6fccc571d309",
   "metadata": {},
   "outputs": [
    {
     "data": {
      "image/png": "[encoded data removed]",
      "text/latex": [
       "$\\displaystyle 56$"
      ],
      "text/plain": [
       "56"
      ]
     },
     "execution_count": 19,
     "metadata": {},
     "output_type": "execute_result"
    }
   ],
   "source": [
    "len(i_to_c_por)"
   ]
  },
  {
   "cell_type": "code",
   "execution_count": 20,
   "id": "4142eb37-121d-47aa-a7d0-4f107992638a",
   "metadata": {},
   "outputs": [
    {
     "data": {
      "image/png": "[encoded data removed]",
      "text/latex": [
       "$\\displaystyle \\left( 23,\\right)$"
      ],
      "text/plain": [
       "(23,)"
      ]
     },
     "execution_count": 20,
     "metadata": {},
     "output_type": "execute_result"
    }
   ],
   "source": [
    "enc_x_train.shape[1:]"
   ]
  },
  {
   "cell_type": "code",
   "execution_count": 21,
   "id": "4429f9b2-0c3d-476c-92d6-f65c467b905a",
   "metadata": {},
   "outputs": [],
   "source": [
    "class RecurrentResidual(torch.nn.Module):\n",
    "    def __init__(self,\n",
    "                 latent_size = 64,\n",
    "                 bidirectional = False,\n",
    "                 **kwargs):\n",
    "        super().__init__(**kwargs)\n",
    "        self.layer_norm = torch.nn.LayerNorm(latent_size)\n",
    "        self.rnn_layer = torch.nn.RNN(latent_size,\n",
    "                                      latent_size // 2 if bidirectional else latent_size,\n",
    "                                      bidirectional=bidirectional,\n",
    "                                      nonlinearity='tanh',\n",
    "                                      batch_first=True)\n",
    "    def forward(self, x):\n",
    "        return x + self.rnn_layer(self.layer_norm(x))[0]\n",
    "\n",
    "class EncoderNetwork(torch.nn.Module):\n",
    "    def __init__(self,\n",
    "                 num_tokens,\n",
    "                 latent_size = 64, # Use something divisible by 2\n",
    "                 n_layers = 4,\n",
    "                 **kwargs):\n",
    "        super().__init__(**kwargs)\n",
    "        self.embedding = torch.nn.Embedding(num_tokens,\n",
    "                                            latent_size,\n",
    "                                            padding_idx=0)\n",
    "        self.dropout = torch.nn.Dropout1d(0.1) # Whole token dropped\n",
    "        self.rnn_layers = torch.nn.Sequential(*[\n",
    "            RecurrentResidual(latent_size, True) for _ in range(n_layers)\n",
    "        ])\n",
    "        \n",
    "    def forward(self, x):\n",
    "        y = x\n",
    "        y = self.embedding(y)\n",
    "        y = self.dropout(y)\n",
    "        y = self.rnn_layers(y)[:,-1]\n",
    "        return y\n"
   ]
  },
  {
   "cell_type": "code",
   "execution_count": 22,
   "id": "6b5e0428-2eab-4ab7-91ab-b0a18affd777",
   "metadata": {},
   "outputs": [
    {
     "data": {
      "image/png": "[encoded data removed]",
      "text/latex": [
       "$\\displaystyle \\left( 5, \\  23\\right)$"
      ],
      "text/plain": [
       "(5, 23)"
      ]
     },
     "execution_count": 22,
     "metadata": {},
     "output_type": "execute_result"
    }
   ],
   "source": [
    "enc_x_train[0:5].shape"
   ]
  },
  {
   "cell_type": "code",
   "execution_count": 23,
   "id": "607da314-5e08-4f60-a62d-a4a71bd6777b",
   "metadata": {},
   "outputs": [
    {
     "data": {
      "text/plain": [
       "==========================================================================================\n",
       "Layer (type:depth-idx)                   Output Shape              Param #\n",
       "==========================================================================================\n",
       "EncoderNetwork                           [5, 64]                   --\n",
       "├─Embedding: 1-1                         [5, 23, 64]               2,816\n",
       "├─Dropout1d: 1-2                         [5, 23, 64]               --\n",
       "├─Sequential: 1-3                        [5, 23, 64]               --\n",
       "│    └─RecurrentResidual: 2-1            [5, 23, 64]               --\n",
       "│    │    └─LayerNorm: 3-1               [5, 23, 64]               128\n",
       "│    │    └─RNN: 3-2                     [5, 23, 64]               6,272\n",
       "│    └─RecurrentResidual: 2-2            [5, 23, 64]               --\n",
       "│    │    └─LayerNorm: 3-3               [5, 23, 64]               128\n",
       "│    │    └─RNN: 3-4                     [5, 23, 64]               6,272\n",
       "│    └─RecurrentResidual: 2-3            [5, 23, 64]               --\n",
       "│    │    └─LayerNorm: 3-5               [5, 23, 64]               128\n",
       "│    │    └─RNN: 3-6                     [5, 23, 64]               6,272\n",
       "│    └─RecurrentResidual: 2-4            [5, 23, 64]               --\n",
       "│    │    └─LayerNorm: 3-7               [5, 23, 64]               128\n",
       "│    │    └─RNN: 3-8                     [5, 23, 64]               6,272\n",
       "==========================================================================================\n",
       "Total params: 28,416\n",
       "Trainable params: 28,416\n",
       "Non-trainable params: 0\n",
       "Total mult-adds (Units.MEGABYTES): 2.90\n",
       "==========================================================================================\n",
       "Input size (MB): 0.00\n",
       "Forward/backward pass size (MB): 0.53\n",
       "Params size (MB): 0.11\n",
       "Estimated Total Size (MB): 0.64\n",
       "=========================================================================================="
      ]
     },
     "execution_count": 23,
     "metadata": {},
     "output_type": "execute_result"
    }
   ],
   "source": [
    "enc_net = EncoderNetwork(num_tokens=len(i_to_c_eng))\n",
    "summary(enc_net,input_data=torch.Tensor(enc_x_train[0:5]).long())"
   ]
  },
  {
   "cell_type": "code",
   "execution_count": 24,
   "id": "c7f4d06b-5e6a-420c-8797-11cfe6e5f754",
   "metadata": {},
   "outputs": [
    {
     "data": {
      "image/svg+xml": [
       "<?xml version=\"1.0\" encoding=\"UTF-8\" standalone=\"no\"?>\n",
       "<!DOCTYPE svg PUBLIC \"-//W3C//DTD SVG 1.1//EN\"\n",
       " \"http://www.w3.org/Graphics/SVG/1.1/DTD/svg11.dtd\">\n",
       "<!-- Generated by graphviz version 8.1.0 (20230707.2238)\n",
       " -->\n",
       "<!-- Title: model Pages: 1 -->\n",
       "<svg width=\"194pt\" height=\"864pt\"\n",
       " viewBox=\"0.00 0.00 193.83 864.00\" xmlns=\"http://www.w3.org/2000/svg\" xmlns:xlink=\"http://www.w3.org/1999/xlink\">\n",
       "<g id=\"graph0\" class=\"graph\" transform=\"scale(0.657034 0.657034) rotate(0) translate(4 1311)\">\n",
       "<title>model</title>\n",
       "<polygon fill=\"white\" stroke=\"none\" points=\"-4,4 -4,-1311 291,-1311 291,4 -4,4\"/>\n",
       "<!-- 0 -->\n",
       "<g id=\"node1\" class=\"node\">\n",
       "<title>0</title>\n",
       "<polygon fill=\"lightyellow\" stroke=\"none\" points=\"141.88,-1307 31.12,-1307 31.12,-1271.5 141.88,-1271.5 141.88,-1307\"/>\n",
       "<polygon fill=\"none\" stroke=\"black\" points=\"31.12,-1271.5 31.12,-1307 100.38,-1307 100.38,-1271.5 31.12,-1271.5\"/>\n",
       "<text text-anchor=\"start\" x=\"36.12\" y=\"-1292.5\" font-family=\"Linux libertine\" font-size=\"10.00\">input&#45;tensor</text>\n",
       "<text text-anchor=\"start\" x=\"47.38\" y=\"-1279.75\" font-family=\"Linux libertine\" font-size=\"10.00\">depth:0</text>\n",
       "<polygon fill=\"none\" stroke=\"black\" points=\"100.38,-1271.5 100.38,-1307 141.88,-1307 141.88,-1271.5 100.38,-1271.5\"/>\n",
       "<text text-anchor=\"start\" x=\"105.38\" y=\"-1286.12\" font-family=\"Linux libertine\" font-size=\"10.00\">(5, 23)</text>\n",
       "</g>\n",
       "<!-- 1 -->\n",
       "<g id=\"node2\" class=\"node\">\n",
       "<title>1</title>\n",
       "<polygon fill=\"#c1ffc1\" stroke=\"none\" points=\"173,-1235.5 0,-1235.5 0,-1191.5 173,-1191.5 173,-1235.5\"/>\n",
       "<polygon fill=\"none\" stroke=\"black\" points=\"0,-1191.5 0,-1235.5 64,-1235.5 64,-1191.5 0,-1191.5\"/>\n",
       "<text text-anchor=\"start\" x=\"4.62\" y=\"-1216.75\" font-family=\"Linux libertine\" font-size=\"10.00\">Embedding</text>\n",
       "<text text-anchor=\"start\" x=\"13.62\" y=\"-1204\" font-family=\"Linux libertine\" font-size=\"10.00\">depth:1</text>\n",
       "<polygon fill=\"none\" stroke=\"black\" points=\"64,-1213.5 64,-1235.5 111,-1235.5 111,-1213.5 64,-1213.5\"/>\n",
       "<text text-anchor=\"start\" x=\"73.62\" y=\"-1221\" font-family=\"Linux libertine\" font-size=\"10.00\">input:</text>\n",
       "<polygon fill=\"none\" stroke=\"black\" points=\"111,-1213.5 111,-1235.5 173,-1235.5 173,-1213.5 111,-1213.5\"/>\n",
       "<text text-anchor=\"start\" x=\"124.75\" y=\"-1221\" font-family=\"Linux libertine\" font-size=\"10.00\">(5, 23) </text>\n",
       "<polygon fill=\"none\" stroke=\"black\" points=\"64,-1191.5 64,-1213.5 111,-1213.5 111,-1191.5 64,-1191.5\"/>\n",
       "<text text-anchor=\"start\" x=\"68.75\" y=\"-1199\" font-family=\"Linux libertine\" font-size=\"10.00\">output: </text>\n",
       "<polygon fill=\"none\" stroke=\"black\" points=\"111,-1191.5 111,-1213.5 173,-1213.5 173,-1191.5 111,-1191.5\"/>\n",
       "<text text-anchor=\"start\" x=\"115.75\" y=\"-1199\" font-family=\"Linux libertine\" font-size=\"10.00\">(5, 23, 64) </text>\n",
       "</g>\n",
       "<!-- 0&#45;&gt;1 -->\n",
       "<g id=\"edge1\" class=\"edge\">\n",
       "<title>0&#45;&gt;1</title>\n",
       "<path fill=\"none\" stroke=\"black\" d=\"M86.5,-1271.51C86.5,-1264.07 86.5,-1255.04 86.5,-1246.39\"/>\n",
       "<polygon fill=\"black\" stroke=\"black\" points=\"90,-1246.39 86.5,-1236.39 83,-1246.39 90,-1246.39\"/>\n",
       "</g>\n",
       "<!-- 2 -->\n",
       "<g id=\"node3\" class=\"node\">\n",
       "<title>2</title>\n",
       "<polygon fill=\"#c1ffc1\" stroke=\"none\" points=\"171.5,-1155.5 1.5,-1155.5 1.5,-1111.5 171.5,-1111.5 171.5,-1155.5\"/>\n",
       "<polygon fill=\"none\" stroke=\"black\" points=\"1.5,-1111.5 1.5,-1155.5 62.5,-1155.5 62.5,-1111.5 1.5,-1111.5\"/>\n",
       "<text text-anchor=\"start\" x=\"6.5\" y=\"-1136.75\" font-family=\"Linux libertine\" font-size=\"10.00\">Dropout1d</text>\n",
       "<text text-anchor=\"start\" x=\"13.62\" y=\"-1124\" font-family=\"Linux libertine\" font-size=\"10.00\">depth:1</text>\n",
       "<polygon fill=\"none\" stroke=\"black\" points=\"62.5,-1133.5 62.5,-1155.5 109.5,-1155.5 109.5,-1133.5 62.5,-1133.5\"/>\n",
       "<text text-anchor=\"start\" x=\"72.12\" y=\"-1141\" font-family=\"Linux libertine\" font-size=\"10.00\">input:</text>\n",
       "<polygon fill=\"none\" stroke=\"black\" points=\"109.5,-1133.5 109.5,-1155.5 171.5,-1155.5 171.5,-1133.5 109.5,-1133.5\"/>\n",
       "<text text-anchor=\"start\" x=\"114.25\" y=\"-1141\" font-family=\"Linux libertine\" font-size=\"10.00\">(5, 23, 64) </text>\n",
       "<polygon fill=\"none\" stroke=\"black\" points=\"62.5,-1111.5 62.5,-1133.5 109.5,-1133.5 109.5,-1111.5 62.5,-1111.5\"/>\n",
       "<text text-anchor=\"start\" x=\"67.25\" y=\"-1119\" font-family=\"Linux libertine\" font-size=\"10.00\">output: </text>\n",
       "<polygon fill=\"none\" stroke=\"black\" points=\"109.5,-1111.5 109.5,-1133.5 171.5,-1133.5 171.5,-1111.5 109.5,-1111.5\"/>\n",
       "<text text-anchor=\"start\" x=\"114.25\" y=\"-1119\" font-family=\"Linux libertine\" font-size=\"10.00\">(5, 23, 64) </text>\n",
       "</g>\n",
       "<!-- 1&#45;&gt;2 -->\n",
       "<g id=\"edge2\" class=\"edge\">\n",
       "<title>1&#45;&gt;2</title>\n",
       "<path fill=\"none\" stroke=\"black\" d=\"M86.5,-1191.6C86.5,-1183.82 86.5,-1174.8 86.5,-1166.26\"/>\n",
       "<polygon fill=\"black\" stroke=\"black\" points=\"90,-1166.46 86.5,-1156.46 83,-1166.46 90,-1166.46\"/>\n",
       "</g>\n",
       "<!-- 3 -->\n",
       "<g id=\"node4\" class=\"node\">\n",
       "<title>3</title>\n",
       "<polygon fill=\"#c1ffc1\" stroke=\"none\" points=\"239,-1075.5 66,-1075.5 66,-1031.5 239,-1031.5 239,-1075.5\"/>\n",
       "<polygon fill=\"none\" stroke=\"black\" points=\"66,-1031.5 66,-1075.5 130,-1075.5 130,-1031.5 66,-1031.5\"/>\n",
       "<text text-anchor=\"start\" x=\"71\" y=\"-1056.75\" font-family=\"Linux libertine\" font-size=\"10.00\">LayerNorm</text>\n",
       "<text text-anchor=\"start\" x=\"79.62\" y=\"-1044\" font-family=\"Linux libertine\" font-size=\"10.00\">depth:3</text>\n",
       "<polygon fill=\"none\" stroke=\"black\" points=\"130,-1053.5 130,-1075.5 177,-1075.5 177,-1053.5 130,-1053.5\"/>\n",
       "<text text-anchor=\"start\" x=\"139.62\" y=\"-1061\" font-family=\"Linux libertine\" font-size=\"10.00\">input:</text>\n",
       "<polygon fill=\"none\" stroke=\"black\" points=\"177,-1053.5 177,-1075.5 239,-1075.5 239,-1053.5 177,-1053.5\"/>\n",
       "<text text-anchor=\"start\" x=\"181.75\" y=\"-1061\" font-family=\"Linux libertine\" font-size=\"10.00\">(5, 23, 64) </text>\n",
       "<polygon fill=\"none\" stroke=\"black\" points=\"130,-1031.5 130,-1053.5 177,-1053.5 177,-1031.5 130,-1031.5\"/>\n",
       "<text text-anchor=\"start\" x=\"134.75\" y=\"-1039\" font-family=\"Linux libertine\" font-size=\"10.00\">output: </text>\n",
       "<polygon fill=\"none\" stroke=\"black\" points=\"177,-1031.5 177,-1053.5 239,-1053.5 239,-1031.5 177,-1031.5\"/>\n",
       "<text text-anchor=\"start\" x=\"181.75\" y=\"-1039\" font-family=\"Linux libertine\" font-size=\"10.00\">(5, 23, 64) </text>\n",
       "</g>\n",
       "<!-- 2&#45;&gt;3 -->\n",
       "<g id=\"edge3\" class=\"edge\">\n",
       "<title>2&#45;&gt;3</title>\n",
       "<path fill=\"none\" stroke=\"black\" d=\"M104.19,-1111.6C111.44,-1103.03 119.95,-1092.96 127.8,-1083.69\"/>\n",
       "<polygon fill=\"black\" stroke=\"black\" points=\"130.98,-1086.35 134.76,-1076.46 125.63,-1081.83 130.98,-1086.35\"/>\n",
       "</g>\n",
       "<!-- 5 -->\n",
       "<g id=\"node6\" class=\"node\">\n",
       "<title>5</title>\n",
       "<polygon fill=\"aliceblue\" stroke=\"none\" points=\"181,-915.5 8,-915.5 8,-871.5 181,-871.5 181,-915.5\"/>\n",
       "<polygon fill=\"none\" stroke=\"black\" points=\"8,-871.5 8,-915.5 54,-915.5 54,-871.5 8,-871.5\"/>\n",
       "<text text-anchor=\"start\" x=\"22\" y=\"-896.75\" font-family=\"Linux libertine\" font-size=\"10.00\">add</text>\n",
       "<text text-anchor=\"start\" x=\"12.62\" y=\"-884\" font-family=\"Linux libertine\" font-size=\"10.00\">depth:3</text>\n",
       "<polygon fill=\"none\" stroke=\"black\" points=\"54,-893.5 54,-915.5 101,-915.5 101,-893.5 54,-893.5\"/>\n",
       "<text text-anchor=\"start\" x=\"63.62\" y=\"-901\" font-family=\"Linux libertine\" font-size=\"10.00\">input:</text>\n",
       "<polygon fill=\"none\" stroke=\"black\" points=\"101,-893.5 101,-915.5 181,-915.5 181,-893.5 101,-893.5\"/>\n",
       "<text text-anchor=\"start\" x=\"105.75\" y=\"-901\" font-family=\"Linux libertine\" font-size=\"10.00\">2 x (5, 23, 64) </text>\n",
       "<polygon fill=\"none\" stroke=\"black\" points=\"54,-871.5 54,-893.5 101,-893.5 101,-871.5 54,-871.5\"/>\n",
       "<text text-anchor=\"start\" x=\"58.75\" y=\"-879\" font-family=\"Linux libertine\" font-size=\"10.00\">output: </text>\n",
       "<polygon fill=\"none\" stroke=\"black\" points=\"101,-871.5 101,-893.5 181,-893.5 181,-871.5 101,-871.5\"/>\n",
       "<text text-anchor=\"start\" x=\"114.75\" y=\"-879\" font-family=\"Linux libertine\" font-size=\"10.00\">(5, 23, 64) </text>\n",
       "</g>\n",
       "<!-- 2&#45;&gt;5 -->\n",
       "<g id=\"edge4\" class=\"edge\">\n",
       "<title>2&#45;&gt;5</title>\n",
       "<path fill=\"none\" stroke=\"black\" d=\"M73.06,-1111.68C66.97,-1101.23 60.3,-1088.14 56.5,-1075.5 40.6,-1022.61 30.11,-1003.57 48.5,-951.5 52.05,-941.44 58.21,-931.86 64.89,-923.52\"/>\n",
       "<polygon fill=\"black\" stroke=\"black\" points=\"68.09,-926.17 71.95,-916.3 62.78,-921.6 68.09,-926.17\"/>\n",
       "</g>\n",
       "<!-- 4 -->\n",
       "<g id=\"node5\" class=\"node\">\n",
       "<title>4</title>\n",
       "<polygon fill=\"#c1ffc1\" stroke=\"none\" points=\"263,-995.5 58,-995.5 58,-951.5 263,-951.5 263,-995.5\"/>\n",
       "<polygon fill=\"none\" stroke=\"black\" points=\"58,-951.5 58,-995.5 104,-995.5 104,-951.5 58,-951.5\"/>\n",
       "<text text-anchor=\"start\" x=\"70.12\" y=\"-976.75\" font-family=\"Linux libertine\" font-size=\"10.00\">RNN</text>\n",
       "<text text-anchor=\"start\" x=\"62.62\" y=\"-964\" font-family=\"Linux libertine\" font-size=\"10.00\">depth:3</text>\n",
       "<polygon fill=\"none\" stroke=\"black\" points=\"104,-973.5 104,-995.5 151,-995.5 151,-973.5 104,-973.5\"/>\n",
       "<text text-anchor=\"start\" x=\"113.62\" y=\"-981\" font-family=\"Linux libertine\" font-size=\"10.00\">input:</text>\n",
       "<polygon fill=\"none\" stroke=\"black\" points=\"151,-973.5 151,-995.5 263,-995.5 263,-973.5 151,-973.5\"/>\n",
       "<text text-anchor=\"start\" x=\"180.75\" y=\"-981\" font-family=\"Linux libertine\" font-size=\"10.00\">(5, 23, 64) </text>\n",
       "<polygon fill=\"none\" stroke=\"black\" points=\"104,-951.5 104,-973.5 151,-973.5 151,-951.5 104,-951.5\"/>\n",
       "<text text-anchor=\"start\" x=\"108.75\" y=\"-959\" font-family=\"Linux libertine\" font-size=\"10.00\">output: </text>\n",
       "<polygon fill=\"none\" stroke=\"black\" points=\"151,-951.5 151,-973.5 263,-973.5 263,-951.5 151,-951.5\"/>\n",
       "<text text-anchor=\"start\" x=\"156\" y=\"-959\" font-family=\"Linux libertine\" font-size=\"10.00\">(5, 23, 64), (2, 5, 32) </text>\n",
       "</g>\n",
       "<!-- 3&#45;&gt;4 -->\n",
       "<g id=\"edge5\" class=\"edge\">\n",
       "<title>3&#45;&gt;4</title>\n",
       "<path fill=\"none\" stroke=\"black\" d=\"M154.64,-1031.6C155.44,-1023.82 156.37,-1014.8 157.24,-1006.26\"/>\n",
       "<polygon fill=\"black\" stroke=\"black\" points=\"160.81,-1006.77 158.35,-996.46 153.85,-1006.05 160.81,-1006.77\"/>\n",
       "</g>\n",
       "<!-- 4&#45;&gt;5 -->\n",
       "<g id=\"edge6\" class=\"edge\">\n",
       "<title>4&#45;&gt;5</title>\n",
       "<path fill=\"none\" stroke=\"black\" d=\"M142.81,-951.6C135.56,-943.03 127.05,-932.96 119.2,-923.69\"/>\n",
       "<polygon fill=\"black\" stroke=\"black\" points=\"121.37,-921.83 112.24,-916.46 116.02,-926.35 121.37,-921.83\"/>\n",
       "</g>\n",
       "<!-- 6 -->\n",
       "<g id=\"node7\" class=\"node\">\n",
       "<title>6</title>\n",
       "<polygon fill=\"#c1ffc1\" stroke=\"none\" points=\"247,-835.5 74,-835.5 74,-791.5 247,-791.5 247,-835.5\"/>\n",
       "<polygon fill=\"none\" stroke=\"black\" points=\"74,-791.5 74,-835.5 138,-835.5 138,-791.5 74,-791.5\"/>\n",
       "<text text-anchor=\"start\" x=\"79\" y=\"-816.75\" font-family=\"Linux libertine\" font-size=\"10.00\">LayerNorm</text>\n",
       "<text text-anchor=\"start\" x=\"87.62\" y=\"-804\" font-family=\"Linux libertine\" font-size=\"10.00\">depth:3</text>\n",
       "<polygon fill=\"none\" stroke=\"black\" points=\"138,-813.5 138,-835.5 185,-835.5 185,-813.5 138,-813.5\"/>\n",
       "<text text-anchor=\"start\" x=\"147.62\" y=\"-821\" font-family=\"Linux libertine\" font-size=\"10.00\">input:</text>\n",
       "<polygon fill=\"none\" stroke=\"black\" points=\"185,-813.5 185,-835.5 247,-835.5 247,-813.5 185,-813.5\"/>\n",
       "<text text-anchor=\"start\" x=\"189.75\" y=\"-821\" font-family=\"Linux libertine\" font-size=\"10.00\">(5, 23, 64) </text>\n",
       "<polygon fill=\"none\" stroke=\"black\" points=\"138,-791.5 138,-813.5 185,-813.5 185,-791.5 138,-791.5\"/>\n",
       "<text text-anchor=\"start\" x=\"142.75\" y=\"-799\" font-family=\"Linux libertine\" font-size=\"10.00\">output: </text>\n",
       "<polygon fill=\"none\" stroke=\"black\" points=\"185,-791.5 185,-813.5 247,-813.5 247,-791.5 185,-791.5\"/>\n",
       "<text text-anchor=\"start\" x=\"189.75\" y=\"-799\" font-family=\"Linux libertine\" font-size=\"10.00\">(5, 23, 64) </text>\n",
       "</g>\n",
       "<!-- 5&#45;&gt;6 -->\n",
       "<g id=\"edge7\" class=\"edge\">\n",
       "<title>5&#45;&gt;6</title>\n",
       "<path fill=\"none\" stroke=\"black\" d=\"M112.19,-871.6C119.44,-863.03 127.95,-852.96 135.8,-843.69\"/>\n",
       "<polygon fill=\"black\" stroke=\"black\" points=\"138.98,-846.35 142.76,-836.46 133.63,-841.83 138.98,-846.35\"/>\n",
       "</g>\n",
       "<!-- 8 -->\n",
       "<g id=\"node9\" class=\"node\">\n",
       "<title>8</title>\n",
       "<polygon fill=\"aliceblue\" stroke=\"none\" points=\"189,-675.5 16,-675.5 16,-631.5 189,-631.5 189,-675.5\"/>\n",
       "<polygon fill=\"none\" stroke=\"black\" points=\"16,-631.5 16,-675.5 62,-675.5 62,-631.5 16,-631.5\"/>\n",
       "<text text-anchor=\"start\" x=\"30\" y=\"-656.75\" font-family=\"Linux libertine\" font-size=\"10.00\">add</text>\n",
       "<text text-anchor=\"start\" x=\"20.62\" y=\"-644\" font-family=\"Linux libertine\" font-size=\"10.00\">depth:3</text>\n",
       "<polygon fill=\"none\" stroke=\"black\" points=\"62,-653.5 62,-675.5 109,-675.5 109,-653.5 62,-653.5\"/>\n",
       "<text text-anchor=\"start\" x=\"71.62\" y=\"-661\" font-family=\"Linux libertine\" font-size=\"10.00\">input:</text>\n",
       "<polygon fill=\"none\" stroke=\"black\" points=\"109,-653.5 109,-675.5 189,-675.5 189,-653.5 109,-653.5\"/>\n",
       "<text text-anchor=\"start\" x=\"113.75\" y=\"-661\" font-family=\"Linux libertine\" font-size=\"10.00\">2 x (5, 23, 64) </text>\n",
       "<polygon fill=\"none\" stroke=\"black\" points=\"62,-631.5 62,-653.5 109,-653.5 109,-631.5 62,-631.5\"/>\n",
       "<text text-anchor=\"start\" x=\"66.75\" y=\"-639\" font-family=\"Linux libertine\" font-size=\"10.00\">output: </text>\n",
       "<polygon fill=\"none\" stroke=\"black\" points=\"109,-631.5 109,-653.5 189,-653.5 189,-631.5 109,-631.5\"/>\n",
       "<text text-anchor=\"start\" x=\"122.75\" y=\"-639\" font-family=\"Linux libertine\" font-size=\"10.00\">(5, 23, 64) </text>\n",
       "</g>\n",
       "<!-- 5&#45;&gt;8 -->\n",
       "<g id=\"edge8\" class=\"edge\">\n",
       "<title>5&#45;&gt;8</title>\n",
       "<path fill=\"none\" stroke=\"black\" d=\"M81.06,-871.68C74.97,-861.23 68.3,-848.14 64.5,-835.5 48.6,-782.61 38.11,-763.57 56.5,-711.5 60.05,-701.44 66.21,-691.86 72.89,-683.52\"/>\n",
       "<polygon fill=\"black\" stroke=\"black\" points=\"76.09,-686.17 79.95,-676.3 70.78,-681.6 76.09,-686.17\"/>\n",
       "</g>\n",
       "<!-- 7 -->\n",
       "<g id=\"node8\" class=\"node\">\n",
       "<title>7</title>\n",
       "<polygon fill=\"#c1ffc1\" stroke=\"none\" points=\"271,-755.5 66,-755.5 66,-711.5 271,-711.5 271,-755.5\"/>\n",
       "<polygon fill=\"none\" stroke=\"black\" points=\"66,-711.5 66,-755.5 112,-755.5 112,-711.5 66,-711.5\"/>\n",
       "<text text-anchor=\"start\" x=\"78.12\" y=\"-736.75\" font-family=\"Linux libertine\" font-size=\"10.00\">RNN</text>\n",
       "<text text-anchor=\"start\" x=\"70.62\" y=\"-724\" font-family=\"Linux libertine\" font-size=\"10.00\">depth:3</text>\n",
       "<polygon fill=\"none\" stroke=\"black\" points=\"112,-733.5 112,-755.5 159,-755.5 159,-733.5 112,-733.5\"/>\n",
       "<text text-anchor=\"start\" x=\"121.62\" y=\"-741\" font-family=\"Linux libertine\" font-size=\"10.00\">input:</text>\n",
       "<polygon fill=\"none\" stroke=\"black\" points=\"159,-733.5 159,-755.5 271,-755.5 271,-733.5 159,-733.5\"/>\n",
       "<text text-anchor=\"start\" x=\"188.75\" y=\"-741\" font-family=\"Linux libertine\" font-size=\"10.00\">(5, 23, 64) </text>\n",
       "<polygon fill=\"none\" stroke=\"black\" points=\"112,-711.5 112,-733.5 159,-733.5 159,-711.5 112,-711.5\"/>\n",
       "<text text-anchor=\"start\" x=\"116.75\" y=\"-719\" font-family=\"Linux libertine\" font-size=\"10.00\">output: </text>\n",
       "<polygon fill=\"none\" stroke=\"black\" points=\"159,-711.5 159,-733.5 271,-733.5 271,-711.5 159,-711.5\"/>\n",
       "<text text-anchor=\"start\" x=\"164\" y=\"-719\" font-family=\"Linux libertine\" font-size=\"10.00\">(5, 23, 64), (2, 5, 32) </text>\n",
       "</g>\n",
       "<!-- 6&#45;&gt;7 -->\n",
       "<g id=\"edge9\" class=\"edge\">\n",
       "<title>6&#45;&gt;7</title>\n",
       "<path fill=\"none\" stroke=\"black\" d=\"M162.64,-791.6C163.44,-783.82 164.37,-774.8 165.24,-766.26\"/>\n",
       "<polygon fill=\"black\" stroke=\"black\" points=\"168.81,-766.77 166.35,-756.46 161.85,-766.05 168.81,-766.77\"/>\n",
       "</g>\n",
       "<!-- 7&#45;&gt;8 -->\n",
       "<g id=\"edge10\" class=\"edge\">\n",
       "<title>7&#45;&gt;8</title>\n",
       "<path fill=\"none\" stroke=\"black\" d=\"M150.81,-711.6C143.56,-703.03 135.05,-692.96 127.2,-683.69\"/>\n",
       "<polygon fill=\"black\" stroke=\"black\" points=\"129.37,-681.83 120.24,-676.46 124.02,-686.35 129.37,-681.83\"/>\n",
       "</g>\n",
       "<!-- 9 -->\n",
       "<g id=\"node10\" class=\"node\">\n",
       "<title>9</title>\n",
       "<polygon fill=\"#c1ffc1\" stroke=\"none\" points=\"255,-595.5 82,-595.5 82,-551.5 255,-551.5 255,-595.5\"/>\n",
       "<polygon fill=\"none\" stroke=\"black\" points=\"82,-551.5 82,-595.5 146,-595.5 146,-551.5 82,-551.5\"/>\n",
       "<text text-anchor=\"start\" x=\"87\" y=\"-576.75\" font-family=\"Linux libertine\" font-size=\"10.00\">LayerNorm</text>\n",
       "<text text-anchor=\"start\" x=\"95.62\" y=\"-564\" font-family=\"Linux libertine\" font-size=\"10.00\">depth:3</text>\n",
       "<polygon fill=\"none\" stroke=\"black\" points=\"146,-573.5 146,-595.5 193,-595.5 193,-573.5 146,-573.5\"/>\n",
       "<text text-anchor=\"start\" x=\"155.62\" y=\"-581\" font-family=\"Linux libertine\" font-size=\"10.00\">input:</text>\n",
       "<polygon fill=\"none\" stroke=\"black\" points=\"193,-573.5 193,-595.5 255,-595.5 255,-573.5 193,-573.5\"/>\n",
       "<text text-anchor=\"start\" x=\"197.75\" y=\"-581\" font-family=\"Linux libertine\" font-size=\"10.00\">(5, 23, 64) </text>\n",
       "<polygon fill=\"none\" stroke=\"black\" points=\"146,-551.5 146,-573.5 193,-573.5 193,-551.5 146,-551.5\"/>\n",
       "<text text-anchor=\"start\" x=\"150.75\" y=\"-559\" font-family=\"Linux libertine\" font-size=\"10.00\">output: </text>\n",
       "<polygon fill=\"none\" stroke=\"black\" points=\"193,-551.5 193,-573.5 255,-573.5 255,-551.5 193,-551.5\"/>\n",
       "<text text-anchor=\"start\" x=\"197.75\" y=\"-559\" font-family=\"Linux libertine\" font-size=\"10.00\">(5, 23, 64) </text>\n",
       "</g>\n",
       "<!-- 8&#45;&gt;9 -->\n",
       "<g id=\"edge11\" class=\"edge\">\n",
       "<title>8&#45;&gt;9</title>\n",
       "<path fill=\"none\" stroke=\"black\" d=\"M120.19,-631.6C127.44,-623.03 135.95,-612.96 143.8,-603.69\"/>\n",
       "<polygon fill=\"black\" stroke=\"black\" points=\"146.98,-606.35 150.76,-596.46 141.63,-601.83 146.98,-606.35\"/>\n",
       "</g>\n",
       "<!-- 11 -->\n",
       "<g id=\"node12\" class=\"node\">\n",
       "<title>11</title>\n",
       "<polygon fill=\"aliceblue\" stroke=\"none\" points=\"197,-435.5 24,-435.5 24,-391.5 197,-391.5 197,-435.5\"/>\n",
       "<polygon fill=\"none\" stroke=\"black\" points=\"24,-391.5 24,-435.5 70,-435.5 70,-391.5 24,-391.5\"/>\n",
       "<text text-anchor=\"start\" x=\"38\" y=\"-416.75\" font-family=\"Linux libertine\" font-size=\"10.00\">add</text>\n",
       "<text text-anchor=\"start\" x=\"28.62\" y=\"-404\" font-family=\"Linux libertine\" font-size=\"10.00\">depth:3</text>\n",
       "<polygon fill=\"none\" stroke=\"black\" points=\"70,-413.5 70,-435.5 117,-435.5 117,-413.5 70,-413.5\"/>\n",
       "<text text-anchor=\"start\" x=\"79.62\" y=\"-421\" font-family=\"Linux libertine\" font-size=\"10.00\">input:</text>\n",
       "<polygon fill=\"none\" stroke=\"black\" points=\"117,-413.5 117,-435.5 197,-435.5 197,-413.5 117,-413.5\"/>\n",
       "<text text-anchor=\"start\" x=\"121.75\" y=\"-421\" font-family=\"Linux libertine\" font-size=\"10.00\">2 x (5, 23, 64) </text>\n",
       "<polygon fill=\"none\" stroke=\"black\" points=\"70,-391.5 70,-413.5 117,-413.5 117,-391.5 70,-391.5\"/>\n",
       "<text text-anchor=\"start\" x=\"74.75\" y=\"-399\" font-family=\"Linux libertine\" font-size=\"10.00\">output: </text>\n",
       "<polygon fill=\"none\" stroke=\"black\" points=\"117,-391.5 117,-413.5 197,-413.5 197,-391.5 117,-391.5\"/>\n",
       "<text text-anchor=\"start\" x=\"130.75\" y=\"-399\" font-family=\"Linux libertine\" font-size=\"10.00\">(5, 23, 64) </text>\n",
       "</g>\n",
       "<!-- 8&#45;&gt;11 -->\n",
       "<g id=\"edge12\" class=\"edge\">\n",
       "<title>8&#45;&gt;11</title>\n",
       "<path fill=\"none\" stroke=\"black\" d=\"M89.06,-631.68C82.97,-621.23 76.3,-608.14 72.5,-595.5 56.6,-542.61 46.11,-523.57 64.5,-471.5 68.05,-461.44 74.21,-451.86 80.89,-443.52\"/>\n",
       "<polygon fill=\"black\" stroke=\"black\" points=\"84.09,-446.17 87.95,-436.3 78.78,-441.6 84.09,-446.17\"/>\n",
       "</g>\n",
       "<!-- 10 -->\n",
       "<g id=\"node11\" class=\"node\">\n",
       "<title>10</title>\n",
       "<polygon fill=\"#c1ffc1\" stroke=\"none\" points=\"279,-515.5 74,-515.5 74,-471.5 279,-471.5 279,-515.5\"/>\n",
       "<polygon fill=\"none\" stroke=\"black\" points=\"74,-471.5 74,-515.5 120,-515.5 120,-471.5 74,-471.5\"/>\n",
       "<text text-anchor=\"start\" x=\"86.12\" y=\"-496.75\" font-family=\"Linux libertine\" font-size=\"10.00\">RNN</text>\n",
       "<text text-anchor=\"start\" x=\"78.62\" y=\"-484\" font-family=\"Linux libertine\" font-size=\"10.00\">depth:3</text>\n",
       "<polygon fill=\"none\" stroke=\"black\" points=\"120,-493.5 120,-515.5 167,-515.5 167,-493.5 120,-493.5\"/>\n",
       "<text text-anchor=\"start\" x=\"129.62\" y=\"-501\" font-family=\"Linux libertine\" font-size=\"10.00\">input:</text>\n",
       "<polygon fill=\"none\" stroke=\"black\" points=\"167,-493.5 167,-515.5 279,-515.5 279,-493.5 167,-493.5\"/>\n",
       "<text text-anchor=\"start\" x=\"196.75\" y=\"-501\" font-family=\"Linux libertine\" font-size=\"10.00\">(5, 23, 64) </text>\n",
       "<polygon fill=\"none\" stroke=\"black\" points=\"120,-471.5 120,-493.5 167,-493.5 167,-471.5 120,-471.5\"/>\n",
       "<text text-anchor=\"start\" x=\"124.75\" y=\"-479\" font-family=\"Linux libertine\" font-size=\"10.00\">output: </text>\n",
       "<polygon fill=\"none\" stroke=\"black\" points=\"167,-471.5 167,-493.5 279,-493.5 279,-471.5 167,-471.5\"/>\n",
       "<text text-anchor=\"start\" x=\"172\" y=\"-479\" font-family=\"Linux libertine\" font-size=\"10.00\">(5, 23, 64), (2, 5, 32) </text>\n",
       "</g>\n",
       "<!-- 9&#45;&gt;10 -->\n",
       "<g id=\"edge13\" class=\"edge\">\n",
       "<title>9&#45;&gt;10</title>\n",
       "<path fill=\"none\" stroke=\"black\" d=\"M170.64,-551.6C171.44,-543.82 172.37,-534.8 173.24,-526.26\"/>\n",
       "<polygon fill=\"black\" stroke=\"black\" points=\"176.81,-526.77 174.35,-516.46 169.85,-526.05 176.81,-526.77\"/>\n",
       "</g>\n",
       "<!-- 10&#45;&gt;11 -->\n",
       "<g id=\"edge14\" class=\"edge\">\n",
       "<title>10&#45;&gt;11</title>\n",
       "<path fill=\"none\" stroke=\"black\" d=\"M158.81,-471.6C151.56,-463.03 143.05,-452.96 135.2,-443.69\"/>\n",
       "<polygon fill=\"black\" stroke=\"black\" points=\"137.37,-441.83 128.24,-436.46 132.02,-446.35 137.37,-441.83\"/>\n",
       "</g>\n",
       "<!-- 12 -->\n",
       "<g id=\"node13\" class=\"node\">\n",
       "<title>12</title>\n",
       "<polygon fill=\"#c1ffc1\" stroke=\"none\" points=\"263,-355.5 90,-355.5 90,-311.5 263,-311.5 263,-355.5\"/>\n",
       "<polygon fill=\"none\" stroke=\"black\" points=\"90,-311.5 90,-355.5 154,-355.5 154,-311.5 90,-311.5\"/>\n",
       "<text text-anchor=\"start\" x=\"95\" y=\"-336.75\" font-family=\"Linux libertine\" font-size=\"10.00\">LayerNorm</text>\n",
       "<text text-anchor=\"start\" x=\"103.62\" y=\"-324\" font-family=\"Linux libertine\" font-size=\"10.00\">depth:3</text>\n",
       "<polygon fill=\"none\" stroke=\"black\" points=\"154,-333.5 154,-355.5 201,-355.5 201,-333.5 154,-333.5\"/>\n",
       "<text text-anchor=\"start\" x=\"163.62\" y=\"-341\" font-family=\"Linux libertine\" font-size=\"10.00\">input:</text>\n",
       "<polygon fill=\"none\" stroke=\"black\" points=\"201,-333.5 201,-355.5 263,-355.5 263,-333.5 201,-333.5\"/>\n",
       "<text text-anchor=\"start\" x=\"205.75\" y=\"-341\" font-family=\"Linux libertine\" font-size=\"10.00\">(5, 23, 64) </text>\n",
       "<polygon fill=\"none\" stroke=\"black\" points=\"154,-311.5 154,-333.5 201,-333.5 201,-311.5 154,-311.5\"/>\n",
       "<text text-anchor=\"start\" x=\"158.75\" y=\"-319\" font-family=\"Linux libertine\" font-size=\"10.00\">output: </text>\n",
       "<polygon fill=\"none\" stroke=\"black\" points=\"201,-311.5 201,-333.5 263,-333.5 263,-311.5 201,-311.5\"/>\n",
       "<text text-anchor=\"start\" x=\"205.75\" y=\"-319\" font-family=\"Linux libertine\" font-size=\"10.00\">(5, 23, 64) </text>\n",
       "</g>\n",
       "<!-- 11&#45;&gt;12 -->\n",
       "<g id=\"edge15\" class=\"edge\">\n",
       "<title>11&#45;&gt;12</title>\n",
       "<path fill=\"none\" stroke=\"black\" d=\"M128.19,-391.6C135.44,-383.03 143.95,-372.96 151.8,-363.69\"/>\n",
       "<polygon fill=\"black\" stroke=\"black\" points=\"154.98,-366.35 158.76,-356.46 149.63,-361.83 154.98,-366.35\"/>\n",
       "</g>\n",
       "<!-- 14 -->\n",
       "<g id=\"node15\" class=\"node\">\n",
       "<title>14</title>\n",
       "<polygon fill=\"aliceblue\" stroke=\"none\" points=\"205,-195.5 32,-195.5 32,-151.5 205,-151.5 205,-195.5\"/>\n",
       "<polygon fill=\"none\" stroke=\"black\" points=\"32,-151.5 32,-195.5 78,-195.5 78,-151.5 32,-151.5\"/>\n",
       "<text text-anchor=\"start\" x=\"46\" y=\"-176.75\" font-family=\"Linux libertine\" font-size=\"10.00\">add</text>\n",
       "<text text-anchor=\"start\" x=\"36.62\" y=\"-164\" font-family=\"Linux libertine\" font-size=\"10.00\">depth:3</text>\n",
       "<polygon fill=\"none\" stroke=\"black\" points=\"78,-173.5 78,-195.5 125,-195.5 125,-173.5 78,-173.5\"/>\n",
       "<text text-anchor=\"start\" x=\"87.62\" y=\"-181\" font-family=\"Linux libertine\" font-size=\"10.00\">input:</text>\n",
       "<polygon fill=\"none\" stroke=\"black\" points=\"125,-173.5 125,-195.5 205,-195.5 205,-173.5 125,-173.5\"/>\n",
       "<text text-anchor=\"start\" x=\"129.75\" y=\"-181\" font-family=\"Linux libertine\" font-size=\"10.00\">2 x (5, 23, 64) </text>\n",
       "<polygon fill=\"none\" stroke=\"black\" points=\"78,-151.5 78,-173.5 125,-173.5 125,-151.5 78,-151.5\"/>\n",
       "<text text-anchor=\"start\" x=\"82.75\" y=\"-159\" font-family=\"Linux libertine\" font-size=\"10.00\">output: </text>\n",
       "<polygon fill=\"none\" stroke=\"black\" points=\"125,-151.5 125,-173.5 205,-173.5 205,-151.5 125,-151.5\"/>\n",
       "<text text-anchor=\"start\" x=\"138.75\" y=\"-159\" font-family=\"Linux libertine\" font-size=\"10.00\">(5, 23, 64) </text>\n",
       "</g>\n",
       "<!-- 11&#45;&gt;14 -->\n",
       "<g id=\"edge16\" class=\"edge\">\n",
       "<title>11&#45;&gt;14</title>\n",
       "<path fill=\"none\" stroke=\"black\" d=\"M97.06,-391.68C90.97,-381.23 84.3,-368.14 80.5,-355.5 64.6,-302.61 54.11,-283.57 72.5,-231.5 76.05,-221.44 82.21,-211.86 88.89,-203.52\"/>\n",
       "<polygon fill=\"black\" stroke=\"black\" points=\"92.09,-206.17 95.95,-196.3 86.78,-201.6 92.09,-206.17\"/>\n",
       "</g>\n",
       "<!-- 13 -->\n",
       "<g id=\"node14\" class=\"node\">\n",
       "<title>13</title>\n",
       "<polygon fill=\"#c1ffc1\" stroke=\"none\" points=\"287,-275.5 82,-275.5 82,-231.5 287,-231.5 287,-275.5\"/>\n",
       "<polygon fill=\"none\" stroke=\"black\" points=\"82,-231.5 82,-275.5 128,-275.5 128,-231.5 82,-231.5\"/>\n",
       "<text text-anchor=\"start\" x=\"94.12\" y=\"-256.75\" font-family=\"Linux libertine\" font-size=\"10.00\">RNN</text>\n",
       "<text text-anchor=\"start\" x=\"86.62\" y=\"-244\" font-family=\"Linux libertine\" font-size=\"10.00\">depth:3</text>\n",
       "<polygon fill=\"none\" stroke=\"black\" points=\"128,-253.5 128,-275.5 175,-275.5 175,-253.5 128,-253.5\"/>\n",
       "<text text-anchor=\"start\" x=\"137.62\" y=\"-261\" font-family=\"Linux libertine\" font-size=\"10.00\">input:</text>\n",
       "<polygon fill=\"none\" stroke=\"black\" points=\"175,-253.5 175,-275.5 287,-275.5 287,-253.5 175,-253.5\"/>\n",
       "<text text-anchor=\"start\" x=\"204.75\" y=\"-261\" font-family=\"Linux libertine\" font-size=\"10.00\">(5, 23, 64) </text>\n",
       "<polygon fill=\"none\" stroke=\"black\" points=\"128,-231.5 128,-253.5 175,-253.5 175,-231.5 128,-231.5\"/>\n",
       "<text text-anchor=\"start\" x=\"132.75\" y=\"-239\" font-family=\"Linux libertine\" font-size=\"10.00\">output: </text>\n",
       "<polygon fill=\"none\" stroke=\"black\" points=\"175,-231.5 175,-253.5 287,-253.5 287,-231.5 175,-231.5\"/>\n",
       "<text text-anchor=\"start\" x=\"180\" y=\"-239\" font-family=\"Linux libertine\" font-size=\"10.00\">(5, 23, 64), (2, 5, 32) </text>\n",
       "</g>\n",
       "<!-- 12&#45;&gt;13 -->\n",
       "<g id=\"edge17\" class=\"edge\">\n",
       "<title>12&#45;&gt;13</title>\n",
       "<path fill=\"none\" stroke=\"black\" d=\"M178.64,-311.6C179.44,-303.82 180.37,-294.8 181.24,-286.26\"/>\n",
       "<polygon fill=\"black\" stroke=\"black\" points=\"184.81,-286.77 182.35,-276.46 177.85,-286.05 184.81,-286.77\"/>\n",
       "</g>\n",
       "<!-- 13&#45;&gt;14 -->\n",
       "<g id=\"edge18\" class=\"edge\">\n",
       "<title>13&#45;&gt;14</title>\n",
       "<path fill=\"none\" stroke=\"black\" d=\"M166.81,-231.6C159.56,-223.03 151.05,-212.96 143.2,-203.69\"/>\n",
       "<polygon fill=\"black\" stroke=\"black\" points=\"145.37,-201.83 136.24,-196.46 140.02,-206.35 145.37,-201.83\"/>\n",
       "</g>\n",
       "<!-- 15 -->\n",
       "<g id=\"node16\" class=\"node\">\n",
       "<title>15</title>\n",
       "<polygon fill=\"aliceblue\" stroke=\"none\" points=\"207.5,-115.5 29.5,-115.5 29.5,-71.5 207.5,-71.5 207.5,-115.5\"/>\n",
       "<polygon fill=\"none\" stroke=\"black\" points=\"29.5,-71.5 29.5,-115.5 98.5,-115.5 98.5,-71.5 29.5,-71.5\"/>\n",
       "<text text-anchor=\"start\" x=\"34.38\" y=\"-96.75\" font-family=\"Linux libertine\" font-size=\"10.00\">__getitem__</text>\n",
       "<text text-anchor=\"start\" x=\"45.62\" y=\"-84\" font-family=\"Linux libertine\" font-size=\"10.00\">depth:1</text>\n",
       "<polygon fill=\"none\" stroke=\"black\" points=\"98.5,-93.5 98.5,-115.5 145.5,-115.5 145.5,-93.5 98.5,-93.5\"/>\n",
       "<text text-anchor=\"start\" x=\"108.12\" y=\"-101\" font-family=\"Linux libertine\" font-size=\"10.00\">input:</text>\n",
       "<polygon fill=\"none\" stroke=\"black\" points=\"145.5,-93.5 145.5,-115.5 207.5,-115.5 207.5,-93.5 145.5,-93.5\"/>\n",
       "<text text-anchor=\"start\" x=\"150.25\" y=\"-101\" font-family=\"Linux libertine\" font-size=\"10.00\">(5, 23, 64) </text>\n",
       "<polygon fill=\"none\" stroke=\"black\" points=\"98.5,-71.5 98.5,-93.5 145.5,-93.5 145.5,-71.5 98.5,-71.5\"/>\n",
       "<text text-anchor=\"start\" x=\"103.25\" y=\"-79\" font-family=\"Linux libertine\" font-size=\"10.00\">output: </text>\n",
       "<polygon fill=\"none\" stroke=\"black\" points=\"145.5,-71.5 145.5,-93.5 207.5,-93.5 207.5,-71.5 145.5,-71.5\"/>\n",
       "<text text-anchor=\"start\" x=\"159.25\" y=\"-79\" font-family=\"Linux libertine\" font-size=\"10.00\">(5, 64) </text>\n",
       "</g>\n",
       "<!-- 14&#45;&gt;15 -->\n",
       "<g id=\"edge19\" class=\"edge\">\n",
       "<title>14&#45;&gt;15</title>\n",
       "<path fill=\"none\" stroke=\"black\" d=\"M118.5,-151.6C118.5,-143.82 118.5,-134.8 118.5,-126.26\"/>\n",
       "<polygon fill=\"black\" stroke=\"black\" points=\"122,-126.46 118.5,-116.46 115,-126.46 122,-126.46\"/>\n",
       "</g>\n",
       "<!-- 16 -->\n",
       "<g id=\"node17\" class=\"node\">\n",
       "<title>16</title>\n",
       "<polygon fill=\"lightyellow\" stroke=\"none\" points=\"177.25,-35.5 59.75,-35.5 59.75,0 177.25,0 177.25,-35.5\"/>\n",
       "<polygon fill=\"none\" stroke=\"black\" points=\"59.75,0 59.75,-35.5 135.75,-35.5 135.75,0 59.75,0\"/>\n",
       "<text text-anchor=\"start\" x=\"64.75\" y=\"-21\" font-family=\"Linux libertine\" font-size=\"10.00\">output&#45;tensor</text>\n",
       "<text text-anchor=\"start\" x=\"79.38\" y=\"-8.25\" font-family=\"Linux libertine\" font-size=\"10.00\">depth:0</text>\n",
       "<polygon fill=\"none\" stroke=\"black\" points=\"135.75,0 135.75,-35.5 177.25,-35.5 177.25,0 135.75,0\"/>\n",
       "<text text-anchor=\"start\" x=\"140.75\" y=\"-14.62\" font-family=\"Linux libertine\" font-size=\"10.00\">(5, 64)</text>\n",
       "</g>\n",
       "<!-- 15&#45;&gt;16 -->\n",
       "<g id=\"edge20\" class=\"edge\">\n",
       "<title>15&#45;&gt;16</title>\n",
       "<path fill=\"none\" stroke=\"black\" d=\"M118.5,-71.56C118.5,-63.6 118.5,-54.41 118.5,-45.95\"/>\n",
       "<polygon fill=\"black\" stroke=\"black\" points=\"122,-46.05 118.5,-36.05 115,-46.05 122,-46.05\"/>\n",
       "</g>\n",
       "</g>\n",
       "</svg>\n"
      ],
      "text/plain": [
       "<graphviz.graphs.Digraph at 0x7f555782c150>"
      ]
     },
     "execution_count": 24,
     "metadata": {},
     "output_type": "execute_result"
    }
   ],
   "source": [
    "model_graph = draw_graph(enc_net,\n",
    "                         input_data = torch.Tensor(enc_x_train[0:5]).long(),\n",
    "                         device=device,\n",
    "                         hide_inner_tensors=True,\n",
    "                         hide_module_functions=True,\n",
    "                         expand_nested=False,\n",
    "                         depth=3,\n",
    "                         dtypes=[torch.long])\n",
    "model_graph.visual_graph"
   ]
  },
  {
   "cell_type": "code",
   "execution_count": 25,
   "id": "98bb5f52-6c74-43f5-9a0f-0fcafae1947c",
   "metadata": {},
   "outputs": [],
   "source": [
    "# Decoder Component\n",
    "class DecoderNetwork(torch.nn.Module):\n",
    "    def __init__(self,\n",
    "                 num_tokens,\n",
    "                 latent_size = 64, # Use something divisible by 2\n",
    "                 n_layers = 4,\n",
    "                 **kwargs):\n",
    "        super().__init__(**kwargs)\n",
    "        self.embedding = torch.nn.Embedding(num_tokens,\n",
    "                                            latent_size,\n",
    "                                            padding_idx=0)\n",
    "        self.dropout = torch.nn.Dropout1d(0.1) # Whole token dropped\n",
    "        self.linear = torch.nn.Linear(latent_size*2, latent_size)\n",
    "        self.rnn_layers = torch.nn.Sequential(*[\n",
    "            RecurrentResidual(latent_size,False) for _ in range(n_layers)\n",
    "        ])\n",
    "        self.output_layer = torch.nn.Linear(latent_size,\n",
    "                                            num_tokens)\n",
    "    \n",
    "    def forward(self, x_enc, x_dec):\n",
    "        y_enc = x_enc.unsqueeze(1).repeat(1,x_dec.shape[1],1)\n",
    "        y_dec = self.embedding(x_dec)\n",
    "        y_dec = self.dropout(y_dec)\n",
    "        y = y_enc\n",
    "        y = torch.concatenate([y_enc,y_dec],-1)\n",
    "        y = self.linear(y)\n",
    "        y = self.rnn_layers(y)\n",
    "        y = self.output_layer(y)\n",
    "        return y\n"
   ]
  },
  {
   "cell_type": "code",
   "execution_count": 26,
   "id": "cc8100b3-3f39-4b15-beea-2531cc155d8e",
   "metadata": {},
   "outputs": [
    {
     "data": {
      "image/png": "[encoded data removed]",
      "text/latex": [
       "$\\displaystyle \\left( 5, \\  23\\right)$"
      ],
      "text/plain": [
       "(5, 23)"
      ]
     },
     "execution_count": 26,
     "metadata": {},
     "output_type": "execute_result"
    }
   ],
   "source": [
    "enc_x_train[0:5].shape"
   ]
  },
  {
   "cell_type": "code",
   "execution_count": 27,
   "id": "0e8faf07-5f2a-4a11-a2b8-7da32684d954",
   "metadata": {},
   "outputs": [
    {
     "data": {
      "image/png": "[encoded data removed]",
      "text/latex": [
       "$\\displaystyle \\left( 5, \\  22\\right)$"
      ],
      "text/plain": [
       "(5, 22)"
      ]
     },
     "execution_count": 27,
     "metadata": {},
     "output_type": "execute_result"
    }
   ],
   "source": [
    "dec_x_train[0:5].shape"
   ]
  },
  {
   "cell_type": "code",
   "execution_count": 28,
   "id": "3427a04e-eb1e-49ab-9db4-4b2873c2ef51",
   "metadata": {},
   "outputs": [
    {
     "data": {
      "text/plain": [
       "torch.Size([5, 64])"
      ]
     },
     "execution_count": 28,
     "metadata": {},
     "output_type": "execute_result"
    }
   ],
   "source": [
    "# Passed through the encoder network - output tensor shape for decoder\n",
    "enc_net(torch.Tensor(enc_x_train[0:5]).long().to(device)).shape"
   ]
  },
  {
   "cell_type": "code",
   "execution_count": 29,
   "id": "0ad40adb-93af-434a-b3bb-d51e3a4d2780",
   "metadata": {},
   "outputs": [
    {
     "data": {
      "text/plain": [
       "==========================================================================================\n",
       "Layer (type:depth-idx)                   Output Shape              Param #\n",
       "==========================================================================================\n",
       "DecoderNetwork                           [5, 22, 56]               --\n",
       "├─Embedding: 1-1                         [5, 22, 64]               3,584\n",
       "├─Dropout1d: 1-2                         [5, 22, 64]               --\n",
       "├─Linear: 1-3                            [5, 22, 64]               8,256\n",
       "├─Sequential: 1-4                        [5, 22, 64]               --\n",
       "│    └─RecurrentResidual: 2-1            [5, 22, 64]               --\n",
       "│    │    └─LayerNorm: 3-1               [5, 22, 64]               128\n",
       "│    │    └─RNN: 3-2                     [5, 22, 64]               8,320\n",
       "│    └─RecurrentResidual: 2-2            [5, 22, 64]               --\n",
       "│    │    └─LayerNorm: 3-3               [5, 22, 64]               128\n",
       "│    │    └─RNN: 3-4                     [5, 22, 64]               8,320\n",
       "│    └─RecurrentResidual: 2-3            [5, 22, 64]               --\n",
       "│    │    └─LayerNorm: 3-5               [5, 22, 64]               128\n",
       "│    │    └─RNN: 3-6                     [5, 22, 64]               8,320\n",
       "│    └─RecurrentResidual: 2-4            [5, 22, 64]               --\n",
       "│    │    └─LayerNorm: 3-7               [5, 22, 64]               128\n",
       "│    │    └─RNN: 3-8                     [5, 22, 64]               8,320\n",
       "├─Linear: 1-5                            [5, 22, 56]               3,640\n",
       "==========================================================================================\n",
       "Total params: 49,272\n",
       "Trainable params: 49,272\n",
       "Non-trainable params: 0\n",
       "Total mult-adds (Units.MEGABYTES): 3.74\n",
       "==========================================================================================\n",
       "Input size (MB): 0.00\n",
       "Forward/backward pass size (MB): 0.61\n",
       "Params size (MB): 0.20\n",
       "Estimated Total Size (MB): 0.81\n",
       "=========================================================================================="
      ]
     },
     "execution_count": 29,
     "metadata": {},
     "output_type": "execute_result"
    }
   ],
   "source": [
    "dec_net = DecoderNetwork(num_tokens=len(i_to_c_por))\n",
    "summary(dec_net,input_data=[enc_net(torch.Tensor(enc_x_train[0:5]).long().to(device)).cpu(), torch.Tensor(dec_x_train[0:5]).long()])"
   ]
  },
  {
   "cell_type": "code",
   "execution_count": 32,
   "id": "8e4070fc-f4f4-4a01-8f11-3c086c9f3361",
   "metadata": {},
   "outputs": [
    {
     "data": {
      "image/svg+xml": [
       "<?xml version=\"1.0\" encoding=\"UTF-8\" standalone=\"no\"?>\n",
       "<!DOCTYPE svg PUBLIC \"-//W3C//DTD SVG 1.1//EN\"\n",
       " \"http://www.w3.org/Graphics/SVG/1.1/DTD/svg11.dtd\">\n",
       "<!-- Generated by graphviz version 8.1.0 (20230707.2238)\n",
       " -->\n",
       "<!-- Title: model Pages: 1 -->\n",
       "<svg width=\"264pt\" height=\"1015pt\"\n",
       " viewBox=\"0.00 0.00 264.24 1015.00\" xmlns=\"http://www.w3.org/2000/svg\" xmlns:xlink=\"http://www.w3.org/1999/xlink\">\n",
       "<g id=\"graph0\" class=\"graph\" transform=\"scale(0.688136 0.688136) rotate(0) translate(4 1471)\">\n",
       "<title>model</title>\n",
       "<polygon fill=\"white\" stroke=\"none\" points=\"-4,4 -4,-1471 380,-1471 380,4 -4,4\"/>\n",
       "<!-- 0 -->\n",
       "<g id=\"node1\" class=\"node\">\n",
       "<title>0</title>\n",
       "<polygon fill=\"lightyellow\" stroke=\"none\" points=\"137.88,-1467 27.12,-1467 27.12,-1431.5 137.88,-1431.5 137.88,-1467\"/>\n",
       "<polygon fill=\"none\" stroke=\"black\" points=\"27.12,-1431.5 27.12,-1467 96.38,-1467 96.38,-1431.5 27.12,-1431.5\"/>\n",
       "<text text-anchor=\"start\" x=\"32.12\" y=\"-1452.5\" font-family=\"Linux libertine\" font-size=\"10.00\">input&#45;tensor</text>\n",
       "<text text-anchor=\"start\" x=\"43.38\" y=\"-1439.75\" font-family=\"Linux libertine\" font-size=\"10.00\">depth:0</text>\n",
       "<polygon fill=\"none\" stroke=\"black\" points=\"96.38,-1431.5 96.38,-1467 137.88,-1467 137.88,-1431.5 96.38,-1431.5\"/>\n",
       "<text text-anchor=\"start\" x=\"101.38\" y=\"-1446.12\" font-family=\"Linux libertine\" font-size=\"10.00\">(5, 64)</text>\n",
       "</g>\n",
       "<!-- 2 -->\n",
       "<g id=\"node3\" class=\"node\">\n",
       "<title>2</title>\n",
       "<polygon fill=\"aliceblue\" stroke=\"none\" points=\"165,-1395.5 0,-1395.5 0,-1351.5 165,-1351.5 165,-1395.5\"/>\n",
       "<polygon fill=\"none\" stroke=\"black\" points=\"0,-1351.5 0,-1395.5 62,-1395.5 62,-1351.5 0,-1351.5\"/>\n",
       "<text text-anchor=\"start\" x=\"4.75\" y=\"-1376.75\" font-family=\"Linux libertine\" font-size=\"10.00\">unsqueeze</text>\n",
       "<text text-anchor=\"start\" x=\"12.62\" y=\"-1364\" font-family=\"Linux libertine\" font-size=\"10.00\">depth:1</text>\n",
       "<polygon fill=\"none\" stroke=\"black\" points=\"62,-1373.5 62,-1395.5 109,-1395.5 109,-1373.5 62,-1373.5\"/>\n",
       "<text text-anchor=\"start\" x=\"71.62\" y=\"-1381\" font-family=\"Linux libertine\" font-size=\"10.00\">input:</text>\n",
       "<polygon fill=\"none\" stroke=\"black\" points=\"109,-1373.5 109,-1395.5 165,-1395.5 165,-1373.5 109,-1373.5\"/>\n",
       "<text text-anchor=\"start\" x=\"119.75\" y=\"-1381\" font-family=\"Linux libertine\" font-size=\"10.00\">(5, 64) </text>\n",
       "<polygon fill=\"none\" stroke=\"black\" points=\"62,-1351.5 62,-1373.5 109,-1373.5 109,-1351.5 62,-1351.5\"/>\n",
       "<text text-anchor=\"start\" x=\"66.75\" y=\"-1359\" font-family=\"Linux libertine\" font-size=\"10.00\">output: </text>\n",
       "<polygon fill=\"none\" stroke=\"black\" points=\"109,-1351.5 109,-1373.5 165,-1373.5 165,-1351.5 109,-1351.5\"/>\n",
       "<text text-anchor=\"start\" x=\"113.75\" y=\"-1359\" font-family=\"Linux libertine\" font-size=\"10.00\">(5, 1, 64) </text>\n",
       "</g>\n",
       "<!-- 0&#45;&gt;2 -->\n",
       "<g id=\"edge1\" class=\"edge\">\n",
       "<title>0&#45;&gt;2</title>\n",
       "<path fill=\"none\" stroke=\"black\" d=\"M82.5,-1431.51C82.5,-1424.07 82.5,-1415.04 82.5,-1406.39\"/>\n",
       "<polygon fill=\"black\" stroke=\"black\" points=\"86,-1406.39 82.5,-1396.39 79,-1406.39 86,-1406.39\"/>\n",
       "</g>\n",
       "<!-- 1 -->\n",
       "<g id=\"node2\" class=\"node\">\n",
       "<title>1</title>\n",
       "<polygon fill=\"lightyellow\" stroke=\"none\" points=\"324.88,-1467 214.12,-1467 214.12,-1431.5 324.88,-1431.5 324.88,-1467\"/>\n",
       "<polygon fill=\"none\" stroke=\"black\" points=\"214.12,-1431.5 214.12,-1467 283.38,-1467 283.38,-1431.5 214.12,-1431.5\"/>\n",
       "<text text-anchor=\"start\" x=\"219.12\" y=\"-1452.5\" font-family=\"Linux libertine\" font-size=\"10.00\">input&#45;tensor</text>\n",
       "<text text-anchor=\"start\" x=\"230.38\" y=\"-1439.75\" font-family=\"Linux libertine\" font-size=\"10.00\">depth:0</text>\n",
       "<polygon fill=\"none\" stroke=\"black\" points=\"283.38,-1431.5 283.38,-1467 324.88,-1467 324.88,-1431.5 283.38,-1431.5\"/>\n",
       "<text text-anchor=\"start\" x=\"288.38\" y=\"-1446.12\" font-family=\"Linux libertine\" font-size=\"10.00\">(5, 22)</text>\n",
       "</g>\n",
       "<!-- 4 -->\n",
       "<g id=\"node5\" class=\"node\">\n",
       "<title>4</title>\n",
       "<polygon fill=\"#c1ffc1\" stroke=\"none\" points=\"356,-1395.5 183,-1395.5 183,-1351.5 356,-1351.5 356,-1395.5\"/>\n",
       "<polygon fill=\"none\" stroke=\"black\" points=\"183,-1351.5 183,-1395.5 247,-1395.5 247,-1351.5 183,-1351.5\"/>\n",
       "<text text-anchor=\"start\" x=\"187.62\" y=\"-1376.75\" font-family=\"Linux libertine\" font-size=\"10.00\">Embedding</text>\n",
       "<text text-anchor=\"start\" x=\"196.62\" y=\"-1364\" font-family=\"Linux libertine\" font-size=\"10.00\">depth:1</text>\n",
       "<polygon fill=\"none\" stroke=\"black\" points=\"247,-1373.5 247,-1395.5 294,-1395.5 294,-1373.5 247,-1373.5\"/>\n",
       "<text text-anchor=\"start\" x=\"256.62\" y=\"-1381\" font-family=\"Linux libertine\" font-size=\"10.00\">input:</text>\n",
       "<polygon fill=\"none\" stroke=\"black\" points=\"294,-1373.5 294,-1395.5 356,-1395.5 356,-1373.5 294,-1373.5\"/>\n",
       "<text text-anchor=\"start\" x=\"307.75\" y=\"-1381\" font-family=\"Linux libertine\" font-size=\"10.00\">(5, 22) </text>\n",
       "<polygon fill=\"none\" stroke=\"black\" points=\"247,-1351.5 247,-1373.5 294,-1373.5 294,-1351.5 247,-1351.5\"/>\n",
       "<text text-anchor=\"start\" x=\"251.75\" y=\"-1359\" font-family=\"Linux libertine\" font-size=\"10.00\">output: </text>\n",
       "<polygon fill=\"none\" stroke=\"black\" points=\"294,-1351.5 294,-1373.5 356,-1373.5 356,-1351.5 294,-1351.5\"/>\n",
       "<text text-anchor=\"start\" x=\"298.75\" y=\"-1359\" font-family=\"Linux libertine\" font-size=\"10.00\">(5, 22, 64) </text>\n",
       "</g>\n",
       "<!-- 1&#45;&gt;4 -->\n",
       "<g id=\"edge2\" class=\"edge\">\n",
       "<title>1&#45;&gt;4</title>\n",
       "<path fill=\"none\" stroke=\"black\" d=\"M269.5,-1431.51C269.5,-1424.07 269.5,-1415.04 269.5,-1406.39\"/>\n",
       "<polygon fill=\"black\" stroke=\"black\" points=\"273,-1406.39 269.5,-1396.39 266,-1406.39 273,-1406.39\"/>\n",
       "</g>\n",
       "<!-- 3 -->\n",
       "<g id=\"node4\" class=\"node\">\n",
       "<title>3</title>\n",
       "<polygon fill=\"aliceblue\" stroke=\"none\" points=\"163,-1315.5 8,-1315.5 8,-1271.5 163,-1271.5 163,-1315.5\"/>\n",
       "<polygon fill=\"none\" stroke=\"black\" points=\"8,-1271.5 8,-1315.5 54,-1315.5 54,-1271.5 8,-1271.5\"/>\n",
       "<text text-anchor=\"start\" x=\"15.25\" y=\"-1296.75\" font-family=\"Linux libertine\" font-size=\"10.00\">repeat</text>\n",
       "<text text-anchor=\"start\" x=\"12.62\" y=\"-1284\" font-family=\"Linux libertine\" font-size=\"10.00\">depth:1</text>\n",
       "<polygon fill=\"none\" stroke=\"black\" points=\"54,-1293.5 54,-1315.5 101,-1315.5 101,-1293.5 54,-1293.5\"/>\n",
       "<text text-anchor=\"start\" x=\"63.62\" y=\"-1301\" font-family=\"Linux libertine\" font-size=\"10.00\">input:</text>\n",
       "<polygon fill=\"none\" stroke=\"black\" points=\"101,-1293.5 101,-1315.5 163,-1315.5 163,-1293.5 101,-1293.5\"/>\n",
       "<text text-anchor=\"start\" x=\"108.75\" y=\"-1301\" font-family=\"Linux libertine\" font-size=\"10.00\">(5, 1, 64) </text>\n",
       "<polygon fill=\"none\" stroke=\"black\" points=\"54,-1271.5 54,-1293.5 101,-1293.5 101,-1271.5 54,-1271.5\"/>\n",
       "<text text-anchor=\"start\" x=\"58.75\" y=\"-1279\" font-family=\"Linux libertine\" font-size=\"10.00\">output: </text>\n",
       "<polygon fill=\"none\" stroke=\"black\" points=\"101,-1271.5 101,-1293.5 163,-1293.5 163,-1271.5 101,-1271.5\"/>\n",
       "<text text-anchor=\"start\" x=\"105.75\" y=\"-1279\" font-family=\"Linux libertine\" font-size=\"10.00\">(5, 22, 64) </text>\n",
       "</g>\n",
       "<!-- 2&#45;&gt;3 -->\n",
       "<g id=\"edge3\" class=\"edge\">\n",
       "<title>2&#45;&gt;3</title>\n",
       "<path fill=\"none\" stroke=\"black\" d=\"M83.3,-1351.6C83.6,-1343.82 83.95,-1334.8 84.28,-1326.26\"/>\n",
       "<polygon fill=\"black\" stroke=\"black\" points=\"87.81,-1326.59 84.69,-1316.46 80.81,-1326.32 87.81,-1326.59\"/>\n",
       "</g>\n",
       "<!-- 6 -->\n",
       "<g id=\"node7\" class=\"node\">\n",
       "<title>6</title>\n",
       "<polygon fill=\"aliceblue\" stroke=\"none\" points=\"274,-1235.5 77,-1235.5 77,-1191.5 274,-1191.5 274,-1235.5\"/>\n",
       "<polygon fill=\"none\" stroke=\"black\" points=\"77,-1191.5 77,-1235.5 147,-1235.5 147,-1191.5 77,-1191.5\"/>\n",
       "<text text-anchor=\"start\" x=\"82\" y=\"-1216.75\" font-family=\"Linux libertine\" font-size=\"10.00\">concatenate</text>\n",
       "<text text-anchor=\"start\" x=\"93.62\" y=\"-1204\" font-family=\"Linux libertine\" font-size=\"10.00\">depth:1</text>\n",
       "<polygon fill=\"none\" stroke=\"black\" points=\"147,-1213.5 147,-1235.5 194,-1235.5 194,-1213.5 147,-1213.5\"/>\n",
       "<text text-anchor=\"start\" x=\"156.62\" y=\"-1221\" font-family=\"Linux libertine\" font-size=\"10.00\">input:</text>\n",
       "<polygon fill=\"none\" stroke=\"black\" points=\"194,-1213.5 194,-1235.5 274,-1235.5 274,-1213.5 194,-1213.5\"/>\n",
       "<text text-anchor=\"start\" x=\"198.75\" y=\"-1221\" font-family=\"Linux libertine\" font-size=\"10.00\">2 x (5, 22, 64) </text>\n",
       "<polygon fill=\"none\" stroke=\"black\" points=\"147,-1191.5 147,-1213.5 194,-1213.5 194,-1191.5 147,-1191.5\"/>\n",
       "<text text-anchor=\"start\" x=\"151.75\" y=\"-1199\" font-family=\"Linux libertine\" font-size=\"10.00\">output: </text>\n",
       "<polygon fill=\"none\" stroke=\"black\" points=\"194,-1191.5 194,-1213.5 274,-1213.5 274,-1191.5 194,-1191.5\"/>\n",
       "<text text-anchor=\"start\" x=\"204.75\" y=\"-1199\" font-family=\"Linux libertine\" font-size=\"10.00\">(5, 22, 128) </text>\n",
       "</g>\n",
       "<!-- 3&#45;&gt;6 -->\n",
       "<g id=\"edge4\" class=\"edge\">\n",
       "<title>3&#45;&gt;6</title>\n",
       "<path fill=\"none\" stroke=\"black\" d=\"M109.62,-1271.6C119.91,-1262.68 132.07,-1252.14 143.13,-1242.56\"/>\n",
       "<polygon fill=\"black\" stroke=\"black\" points=\"145.05,-1244.65 150.32,-1235.46 140.47,-1239.36 145.05,-1244.65\"/>\n",
       "</g>\n",
       "<!-- 5 -->\n",
       "<g id=\"node6\" class=\"node\">\n",
       "<title>5</title>\n",
       "<polygon fill=\"#c1ffc1\" stroke=\"none\" points=\"352.5,-1315.5 182.5,-1315.5 182.5,-1271.5 352.5,-1271.5 352.5,-1315.5\"/>\n",
       "<polygon fill=\"none\" stroke=\"black\" points=\"182.5,-1271.5 182.5,-1315.5 243.5,-1315.5 243.5,-1271.5 182.5,-1271.5\"/>\n",
       "<text text-anchor=\"start\" x=\"187.5\" y=\"-1296.75\" font-family=\"Linux libertine\" font-size=\"10.00\">Dropout1d</text>\n",
       "<text text-anchor=\"start\" x=\"194.62\" y=\"-1284\" font-family=\"Linux libertine\" font-size=\"10.00\">depth:1</text>\n",
       "<polygon fill=\"none\" stroke=\"black\" points=\"243.5,-1293.5 243.5,-1315.5 290.5,-1315.5 290.5,-1293.5 243.5,-1293.5\"/>\n",
       "<text text-anchor=\"start\" x=\"253.12\" y=\"-1301\" font-family=\"Linux libertine\" font-size=\"10.00\">input:</text>\n",
       "<polygon fill=\"none\" stroke=\"black\" points=\"290.5,-1293.5 290.5,-1315.5 352.5,-1315.5 352.5,-1293.5 290.5,-1293.5\"/>\n",
       "<text text-anchor=\"start\" x=\"295.25\" y=\"-1301\" font-family=\"Linux libertine\" font-size=\"10.00\">(5, 22, 64) </text>\n",
       "<polygon fill=\"none\" stroke=\"black\" points=\"243.5,-1271.5 243.5,-1293.5 290.5,-1293.5 290.5,-1271.5 243.5,-1271.5\"/>\n",
       "<text text-anchor=\"start\" x=\"248.25\" y=\"-1279\" font-family=\"Linux libertine\" font-size=\"10.00\">output: </text>\n",
       "<polygon fill=\"none\" stroke=\"black\" points=\"290.5,-1271.5 290.5,-1293.5 352.5,-1293.5 352.5,-1271.5 290.5,-1271.5\"/>\n",
       "<text text-anchor=\"start\" x=\"295.25\" y=\"-1279\" font-family=\"Linux libertine\" font-size=\"10.00\">(5, 22, 64) </text>\n",
       "</g>\n",
       "<!-- 4&#45;&gt;5 -->\n",
       "<g id=\"edge5\" class=\"edge\">\n",
       "<title>4&#45;&gt;5</title>\n",
       "<path fill=\"none\" stroke=\"black\" d=\"M268.96,-1351.6C268.76,-1343.82 268.53,-1334.8 268.31,-1326.26\"/>\n",
       "<polygon fill=\"black\" stroke=\"black\" points=\"271.79,-1326.37 268.04,-1316.46 264.8,-1326.55 271.79,-1326.37\"/>\n",
       "</g>\n",
       "<!-- 5&#45;&gt;6 -->\n",
       "<g id=\"edge6\" class=\"edge\">\n",
       "<title>5&#45;&gt;6</title>\n",
       "<path fill=\"none\" stroke=\"black\" d=\"M242.85,-1271.6C232.33,-1262.68 219.89,-1252.14 208.59,-1242.56\"/>\n",
       "<polygon fill=\"black\" stroke=\"black\" points=\"211.11,-1239.26 201.22,-1235.46 206.59,-1244.6 211.11,-1239.26\"/>\n",
       "</g>\n",
       "<!-- 7 -->\n",
       "<g id=\"node8\" class=\"node\">\n",
       "<title>7</title>\n",
       "<polygon fill=\"#c1ffc1\" stroke=\"none\" points=\"256,-1155.5 95,-1155.5 95,-1111.5 256,-1111.5 256,-1155.5\"/>\n",
       "<polygon fill=\"none\" stroke=\"black\" points=\"95,-1111.5 95,-1155.5 141,-1155.5 141,-1111.5 95,-1111.5\"/>\n",
       "<text text-anchor=\"start\" x=\"103\" y=\"-1136.75\" font-family=\"Linux libertine\" font-size=\"10.00\">Linear</text>\n",
       "<text text-anchor=\"start\" x=\"99.62\" y=\"-1124\" font-family=\"Linux libertine\" font-size=\"10.00\">depth:1</text>\n",
       "<polygon fill=\"none\" stroke=\"black\" points=\"141,-1133.5 141,-1155.5 188,-1155.5 188,-1133.5 141,-1133.5\"/>\n",
       "<text text-anchor=\"start\" x=\"150.62\" y=\"-1141\" font-family=\"Linux libertine\" font-size=\"10.00\">input:</text>\n",
       "<polygon fill=\"none\" stroke=\"black\" points=\"188,-1133.5 188,-1155.5 256,-1155.5 256,-1133.5 188,-1133.5\"/>\n",
       "<text text-anchor=\"start\" x=\"192.75\" y=\"-1141\" font-family=\"Linux libertine\" font-size=\"10.00\">(5, 22, 128) </text>\n",
       "<polygon fill=\"none\" stroke=\"black\" points=\"141,-1111.5 141,-1133.5 188,-1133.5 188,-1111.5 141,-1111.5\"/>\n",
       "<text text-anchor=\"start\" x=\"145.75\" y=\"-1119\" font-family=\"Linux libertine\" font-size=\"10.00\">output: </text>\n",
       "<polygon fill=\"none\" stroke=\"black\" points=\"188,-1111.5 188,-1133.5 256,-1133.5 256,-1111.5 188,-1111.5\"/>\n",
       "<text text-anchor=\"start\" x=\"195.75\" y=\"-1119\" font-family=\"Linux libertine\" font-size=\"10.00\">(5, 22, 64) </text>\n",
       "</g>\n",
       "<!-- 6&#45;&gt;7 -->\n",
       "<g id=\"edge7\" class=\"edge\">\n",
       "<title>6&#45;&gt;7</title>\n",
       "<path fill=\"none\" stroke=\"black\" d=\"M175.5,-1191.6C175.5,-1183.82 175.5,-1174.8 175.5,-1166.26\"/>\n",
       "<polygon fill=\"black\" stroke=\"black\" points=\"179,-1166.46 175.5,-1156.46 172,-1166.46 179,-1166.46\"/>\n",
       "</g>\n",
       "<!-- 8 -->\n",
       "<g id=\"node9\" class=\"node\">\n",
       "<title>8</title>\n",
       "<polygon fill=\"#c1ffc1\" stroke=\"none\" points=\"328,-1075.5 155,-1075.5 155,-1031.5 328,-1031.5 328,-1075.5\"/>\n",
       "<polygon fill=\"none\" stroke=\"black\" points=\"155,-1031.5 155,-1075.5 219,-1075.5 219,-1031.5 155,-1031.5\"/>\n",
       "<text text-anchor=\"start\" x=\"160\" y=\"-1056.75\" font-family=\"Linux libertine\" font-size=\"10.00\">LayerNorm</text>\n",
       "<text text-anchor=\"start\" x=\"168.62\" y=\"-1044\" font-family=\"Linux libertine\" font-size=\"10.00\">depth:3</text>\n",
       "<polygon fill=\"none\" stroke=\"black\" points=\"219,-1053.5 219,-1075.5 266,-1075.5 266,-1053.5 219,-1053.5\"/>\n",
       "<text text-anchor=\"start\" x=\"228.62\" y=\"-1061\" font-family=\"Linux libertine\" font-size=\"10.00\">input:</text>\n",
       "<polygon fill=\"none\" stroke=\"black\" points=\"266,-1053.5 266,-1075.5 328,-1075.5 328,-1053.5 266,-1053.5\"/>\n",
       "<text text-anchor=\"start\" x=\"270.75\" y=\"-1061\" font-family=\"Linux libertine\" font-size=\"10.00\">(5, 22, 64) </text>\n",
       "<polygon fill=\"none\" stroke=\"black\" points=\"219,-1031.5 219,-1053.5 266,-1053.5 266,-1031.5 219,-1031.5\"/>\n",
       "<text text-anchor=\"start\" x=\"223.75\" y=\"-1039\" font-family=\"Linux libertine\" font-size=\"10.00\">output: </text>\n",
       "<polygon fill=\"none\" stroke=\"black\" points=\"266,-1031.5 266,-1053.5 328,-1053.5 328,-1031.5 266,-1031.5\"/>\n",
       "<text text-anchor=\"start\" x=\"270.75\" y=\"-1039\" font-family=\"Linux libertine\" font-size=\"10.00\">(5, 22, 64) </text>\n",
       "</g>\n",
       "<!-- 7&#45;&gt;8 -->\n",
       "<g id=\"edge8\" class=\"edge\">\n",
       "<title>7&#45;&gt;8</title>\n",
       "<path fill=\"none\" stroke=\"black\" d=\"M193.19,-1111.6C200.44,-1103.03 208.95,-1092.96 216.8,-1083.69\"/>\n",
       "<polygon fill=\"black\" stroke=\"black\" points=\"219.98,-1086.35 223.76,-1076.46 214.63,-1081.83 219.98,-1086.35\"/>\n",
       "</g>\n",
       "<!-- 10 -->\n",
       "<g id=\"node11\" class=\"node\">\n",
       "<title>10</title>\n",
       "<polygon fill=\"aliceblue\" stroke=\"none\" points=\"270,-915.5 97,-915.5 97,-871.5 270,-871.5 270,-915.5\"/>\n",
       "<polygon fill=\"none\" stroke=\"black\" points=\"97,-871.5 97,-915.5 143,-915.5 143,-871.5 97,-871.5\"/>\n",
       "<text text-anchor=\"start\" x=\"111\" y=\"-896.75\" font-family=\"Linux libertine\" font-size=\"10.00\">add</text>\n",
       "<text text-anchor=\"start\" x=\"101.62\" y=\"-884\" font-family=\"Linux libertine\" font-size=\"10.00\">depth:3</text>\n",
       "<polygon fill=\"none\" stroke=\"black\" points=\"143,-893.5 143,-915.5 190,-915.5 190,-893.5 143,-893.5\"/>\n",
       "<text text-anchor=\"start\" x=\"152.62\" y=\"-901\" font-family=\"Linux libertine\" font-size=\"10.00\">input:</text>\n",
       "<polygon fill=\"none\" stroke=\"black\" points=\"190,-893.5 190,-915.5 270,-915.5 270,-893.5 190,-893.5\"/>\n",
       "<text text-anchor=\"start\" x=\"194.75\" y=\"-901\" font-family=\"Linux libertine\" font-size=\"10.00\">2 x (5, 22, 64) </text>\n",
       "<polygon fill=\"none\" stroke=\"black\" points=\"143,-871.5 143,-893.5 190,-893.5 190,-871.5 143,-871.5\"/>\n",
       "<text text-anchor=\"start\" x=\"147.75\" y=\"-879\" font-family=\"Linux libertine\" font-size=\"10.00\">output: </text>\n",
       "<polygon fill=\"none\" stroke=\"black\" points=\"190,-871.5 190,-893.5 270,-893.5 270,-871.5 190,-871.5\"/>\n",
       "<text text-anchor=\"start\" x=\"203.75\" y=\"-879\" font-family=\"Linux libertine\" font-size=\"10.00\">(5, 22, 64) </text>\n",
       "</g>\n",
       "<!-- 7&#45;&gt;10 -->\n",
       "<g id=\"edge9\" class=\"edge\">\n",
       "<title>7&#45;&gt;10</title>\n",
       "<path fill=\"none\" stroke=\"black\" d=\"M162.06,-1111.68C155.97,-1101.23 149.3,-1088.14 145.5,-1075.5 129.6,-1022.61 119.11,-1003.57 137.5,-951.5 141.05,-941.44 147.21,-931.86 153.89,-923.52\"/>\n",
       "<polygon fill=\"black\" stroke=\"black\" points=\"157.09,-926.17 160.95,-916.3 151.78,-921.6 157.09,-926.17\"/>\n",
       "</g>\n",
       "<!-- 9 -->\n",
       "<g id=\"node10\" class=\"node\">\n",
       "<title>9</title>\n",
       "<polygon fill=\"#c1ffc1\" stroke=\"none\" points=\"352,-995.5 147,-995.5 147,-951.5 352,-951.5 352,-995.5\"/>\n",
       "<polygon fill=\"none\" stroke=\"black\" points=\"147,-951.5 147,-995.5 193,-995.5 193,-951.5 147,-951.5\"/>\n",
       "<text text-anchor=\"start\" x=\"159.12\" y=\"-976.75\" font-family=\"Linux libertine\" font-size=\"10.00\">RNN</text>\n",
       "<text text-anchor=\"start\" x=\"151.62\" y=\"-964\" font-family=\"Linux libertine\" font-size=\"10.00\">depth:3</text>\n",
       "<polygon fill=\"none\" stroke=\"black\" points=\"193,-973.5 193,-995.5 240,-995.5 240,-973.5 193,-973.5\"/>\n",
       "<text text-anchor=\"start\" x=\"202.62\" y=\"-981\" font-family=\"Linux libertine\" font-size=\"10.00\">input:</text>\n",
       "<polygon fill=\"none\" stroke=\"black\" points=\"240,-973.5 240,-995.5 352,-995.5 352,-973.5 240,-973.5\"/>\n",
       "<text text-anchor=\"start\" x=\"269.75\" y=\"-981\" font-family=\"Linux libertine\" font-size=\"10.00\">(5, 22, 64) </text>\n",
       "<polygon fill=\"none\" stroke=\"black\" points=\"193,-951.5 193,-973.5 240,-973.5 240,-951.5 193,-951.5\"/>\n",
       "<text text-anchor=\"start\" x=\"197.75\" y=\"-959\" font-family=\"Linux libertine\" font-size=\"10.00\">output: </text>\n",
       "<polygon fill=\"none\" stroke=\"black\" points=\"240,-951.5 240,-973.5 352,-973.5 352,-951.5 240,-951.5\"/>\n",
       "<text text-anchor=\"start\" x=\"245\" y=\"-959\" font-family=\"Linux libertine\" font-size=\"10.00\">(5, 22, 64), (1, 5, 64) </text>\n",
       "</g>\n",
       "<!-- 8&#45;&gt;9 -->\n",
       "<g id=\"edge10\" class=\"edge\">\n",
       "<title>8&#45;&gt;9</title>\n",
       "<path fill=\"none\" stroke=\"black\" d=\"M243.64,-1031.6C244.44,-1023.82 245.37,-1014.8 246.24,-1006.26\"/>\n",
       "<polygon fill=\"black\" stroke=\"black\" points=\"249.81,-1006.77 247.35,-996.46 242.85,-1006.05 249.81,-1006.77\"/>\n",
       "</g>\n",
       "<!-- 9&#45;&gt;10 -->\n",
       "<g id=\"edge11\" class=\"edge\">\n",
       "<title>9&#45;&gt;10</title>\n",
       "<path fill=\"none\" stroke=\"black\" d=\"M231.81,-951.6C224.56,-943.03 216.05,-932.96 208.2,-923.69\"/>\n",
       "<polygon fill=\"black\" stroke=\"black\" points=\"210.37,-921.83 201.24,-916.46 205.02,-926.35 210.37,-921.83\"/>\n",
       "</g>\n",
       "<!-- 11 -->\n",
       "<g id=\"node12\" class=\"node\">\n",
       "<title>11</title>\n",
       "<polygon fill=\"#c1ffc1\" stroke=\"none\" points=\"336,-835.5 163,-835.5 163,-791.5 336,-791.5 336,-835.5\"/>\n",
       "<polygon fill=\"none\" stroke=\"black\" points=\"163,-791.5 163,-835.5 227,-835.5 227,-791.5 163,-791.5\"/>\n",
       "<text text-anchor=\"start\" x=\"168\" y=\"-816.75\" font-family=\"Linux libertine\" font-size=\"10.00\">LayerNorm</text>\n",
       "<text text-anchor=\"start\" x=\"176.62\" y=\"-804\" font-family=\"Linux libertine\" font-size=\"10.00\">depth:3</text>\n",
       "<polygon fill=\"none\" stroke=\"black\" points=\"227,-813.5 227,-835.5 274,-835.5 274,-813.5 227,-813.5\"/>\n",
       "<text text-anchor=\"start\" x=\"236.62\" y=\"-821\" font-family=\"Linux libertine\" font-size=\"10.00\">input:</text>\n",
       "<polygon fill=\"none\" stroke=\"black\" points=\"274,-813.5 274,-835.5 336,-835.5 336,-813.5 274,-813.5\"/>\n",
       "<text text-anchor=\"start\" x=\"278.75\" y=\"-821\" font-family=\"Linux libertine\" font-size=\"10.00\">(5, 22, 64) </text>\n",
       "<polygon fill=\"none\" stroke=\"black\" points=\"227,-791.5 227,-813.5 274,-813.5 274,-791.5 227,-791.5\"/>\n",
       "<text text-anchor=\"start\" x=\"231.75\" y=\"-799\" font-family=\"Linux libertine\" font-size=\"10.00\">output: </text>\n",
       "<polygon fill=\"none\" stroke=\"black\" points=\"274,-791.5 274,-813.5 336,-813.5 336,-791.5 274,-791.5\"/>\n",
       "<text text-anchor=\"start\" x=\"278.75\" y=\"-799\" font-family=\"Linux libertine\" font-size=\"10.00\">(5, 22, 64) </text>\n",
       "</g>\n",
       "<!-- 10&#45;&gt;11 -->\n",
       "<g id=\"edge12\" class=\"edge\">\n",
       "<title>10&#45;&gt;11</title>\n",
       "<path fill=\"none\" stroke=\"black\" d=\"M201.19,-871.6C208.44,-863.03 216.95,-852.96 224.8,-843.69\"/>\n",
       "<polygon fill=\"black\" stroke=\"black\" points=\"227.98,-846.35 231.76,-836.46 222.63,-841.83 227.98,-846.35\"/>\n",
       "</g>\n",
       "<!-- 13 -->\n",
       "<g id=\"node14\" class=\"node\">\n",
       "<title>13</title>\n",
       "<polygon fill=\"aliceblue\" stroke=\"none\" points=\"278,-675.5 105,-675.5 105,-631.5 278,-631.5 278,-675.5\"/>\n",
       "<polygon fill=\"none\" stroke=\"black\" points=\"105,-631.5 105,-675.5 151,-675.5 151,-631.5 105,-631.5\"/>\n",
       "<text text-anchor=\"start\" x=\"119\" y=\"-656.75\" font-family=\"Linux libertine\" font-size=\"10.00\">add</text>\n",
       "<text text-anchor=\"start\" x=\"109.62\" y=\"-644\" font-family=\"Linux libertine\" font-size=\"10.00\">depth:3</text>\n",
       "<polygon fill=\"none\" stroke=\"black\" points=\"151,-653.5 151,-675.5 198,-675.5 198,-653.5 151,-653.5\"/>\n",
       "<text text-anchor=\"start\" x=\"160.62\" y=\"-661\" font-family=\"Linux libertine\" font-size=\"10.00\">input:</text>\n",
       "<polygon fill=\"none\" stroke=\"black\" points=\"198,-653.5 198,-675.5 278,-675.5 278,-653.5 198,-653.5\"/>\n",
       "<text text-anchor=\"start\" x=\"202.75\" y=\"-661\" font-family=\"Linux libertine\" font-size=\"10.00\">2 x (5, 22, 64) </text>\n",
       "<polygon fill=\"none\" stroke=\"black\" points=\"151,-631.5 151,-653.5 198,-653.5 198,-631.5 151,-631.5\"/>\n",
       "<text text-anchor=\"start\" x=\"155.75\" y=\"-639\" font-family=\"Linux libertine\" font-size=\"10.00\">output: </text>\n",
       "<polygon fill=\"none\" stroke=\"black\" points=\"198,-631.5 198,-653.5 278,-653.5 278,-631.5 198,-631.5\"/>\n",
       "<text text-anchor=\"start\" x=\"211.75\" y=\"-639\" font-family=\"Linux libertine\" font-size=\"10.00\">(5, 22, 64) </text>\n",
       "</g>\n",
       "<!-- 10&#45;&gt;13 -->\n",
       "<g id=\"edge13\" class=\"edge\">\n",
       "<title>10&#45;&gt;13</title>\n",
       "<path fill=\"none\" stroke=\"black\" d=\"M170.06,-871.68C163.97,-861.23 157.3,-848.14 153.5,-835.5 137.6,-782.61 127.11,-763.57 145.5,-711.5 149.05,-701.44 155.21,-691.86 161.89,-683.52\"/>\n",
       "<polygon fill=\"black\" stroke=\"black\" points=\"165.09,-686.17 168.95,-676.3 159.78,-681.6 165.09,-686.17\"/>\n",
       "</g>\n",
       "<!-- 12 -->\n",
       "<g id=\"node13\" class=\"node\">\n",
       "<title>12</title>\n",
       "<polygon fill=\"#c1ffc1\" stroke=\"none\" points=\"360,-755.5 155,-755.5 155,-711.5 360,-711.5 360,-755.5\"/>\n",
       "<polygon fill=\"none\" stroke=\"black\" points=\"155,-711.5 155,-755.5 201,-755.5 201,-711.5 155,-711.5\"/>\n",
       "<text text-anchor=\"start\" x=\"167.12\" y=\"-736.75\" font-family=\"Linux libertine\" font-size=\"10.00\">RNN</text>\n",
       "<text text-anchor=\"start\" x=\"159.62\" y=\"-724\" font-family=\"Linux libertine\" font-size=\"10.00\">depth:3</text>\n",
       "<polygon fill=\"none\" stroke=\"black\" points=\"201,-733.5 201,-755.5 248,-755.5 248,-733.5 201,-733.5\"/>\n",
       "<text text-anchor=\"start\" x=\"210.62\" y=\"-741\" font-family=\"Linux libertine\" font-size=\"10.00\">input:</text>\n",
       "<polygon fill=\"none\" stroke=\"black\" points=\"248,-733.5 248,-755.5 360,-755.5 360,-733.5 248,-733.5\"/>\n",
       "<text text-anchor=\"start\" x=\"277.75\" y=\"-741\" font-family=\"Linux libertine\" font-size=\"10.00\">(5, 22, 64) </text>\n",
       "<polygon fill=\"none\" stroke=\"black\" points=\"201,-711.5 201,-733.5 248,-733.5 248,-711.5 201,-711.5\"/>\n",
       "<text text-anchor=\"start\" x=\"205.75\" y=\"-719\" font-family=\"Linux libertine\" font-size=\"10.00\">output: </text>\n",
       "<polygon fill=\"none\" stroke=\"black\" points=\"248,-711.5 248,-733.5 360,-733.5 360,-711.5 248,-711.5\"/>\n",
       "<text text-anchor=\"start\" x=\"253\" y=\"-719\" font-family=\"Linux libertine\" font-size=\"10.00\">(5, 22, 64), (1, 5, 64) </text>\n",
       "</g>\n",
       "<!-- 11&#45;&gt;12 -->\n",
       "<g id=\"edge14\" class=\"edge\">\n",
       "<title>11&#45;&gt;12</title>\n",
       "<path fill=\"none\" stroke=\"black\" d=\"M251.64,-791.6C252.44,-783.82 253.37,-774.8 254.24,-766.26\"/>\n",
       "<polygon fill=\"black\" stroke=\"black\" points=\"257.81,-766.77 255.35,-756.46 250.85,-766.05 257.81,-766.77\"/>\n",
       "</g>\n",
       "<!-- 12&#45;&gt;13 -->\n",
       "<g id=\"edge15\" class=\"edge\">\n",
       "<title>12&#45;&gt;13</title>\n",
       "<path fill=\"none\" stroke=\"black\" d=\"M239.81,-711.6C232.56,-703.03 224.05,-692.96 216.2,-683.69\"/>\n",
       "<polygon fill=\"black\" stroke=\"black\" points=\"218.37,-681.83 209.24,-676.46 213.02,-686.35 218.37,-681.83\"/>\n",
       "</g>\n",
       "<!-- 14 -->\n",
       "<g id=\"node15\" class=\"node\">\n",
       "<title>14</title>\n",
       "<polygon fill=\"#c1ffc1\" stroke=\"none\" points=\"344,-595.5 171,-595.5 171,-551.5 344,-551.5 344,-595.5\"/>\n",
       "<polygon fill=\"none\" stroke=\"black\" points=\"171,-551.5 171,-595.5 235,-595.5 235,-551.5 171,-551.5\"/>\n",
       "<text text-anchor=\"start\" x=\"176\" y=\"-576.75\" font-family=\"Linux libertine\" font-size=\"10.00\">LayerNorm</text>\n",
       "<text text-anchor=\"start\" x=\"184.62\" y=\"-564\" font-family=\"Linux libertine\" font-size=\"10.00\">depth:3</text>\n",
       "<polygon fill=\"none\" stroke=\"black\" points=\"235,-573.5 235,-595.5 282,-595.5 282,-573.5 235,-573.5\"/>\n",
       "<text text-anchor=\"start\" x=\"244.62\" y=\"-581\" font-family=\"Linux libertine\" font-size=\"10.00\">input:</text>\n",
       "<polygon fill=\"none\" stroke=\"black\" points=\"282,-573.5 282,-595.5 344,-595.5 344,-573.5 282,-573.5\"/>\n",
       "<text text-anchor=\"start\" x=\"286.75\" y=\"-581\" font-family=\"Linux libertine\" font-size=\"10.00\">(5, 22, 64) </text>\n",
       "<polygon fill=\"none\" stroke=\"black\" points=\"235,-551.5 235,-573.5 282,-573.5 282,-551.5 235,-551.5\"/>\n",
       "<text text-anchor=\"start\" x=\"239.75\" y=\"-559\" font-family=\"Linux libertine\" font-size=\"10.00\">output: </text>\n",
       "<polygon fill=\"none\" stroke=\"black\" points=\"282,-551.5 282,-573.5 344,-573.5 344,-551.5 282,-551.5\"/>\n",
       "<text text-anchor=\"start\" x=\"286.75\" y=\"-559\" font-family=\"Linux libertine\" font-size=\"10.00\">(5, 22, 64) </text>\n",
       "</g>\n",
       "<!-- 13&#45;&gt;14 -->\n",
       "<g id=\"edge16\" class=\"edge\">\n",
       "<title>13&#45;&gt;14</title>\n",
       "<path fill=\"none\" stroke=\"black\" d=\"M209.19,-631.6C216.44,-623.03 224.95,-612.96 232.8,-603.69\"/>\n",
       "<polygon fill=\"black\" stroke=\"black\" points=\"235.98,-606.35 239.76,-596.46 230.63,-601.83 235.98,-606.35\"/>\n",
       "</g>\n",
       "<!-- 16 -->\n",
       "<g id=\"node17\" class=\"node\">\n",
       "<title>16</title>\n",
       "<polygon fill=\"aliceblue\" stroke=\"none\" points=\"286,-435.5 113,-435.5 113,-391.5 286,-391.5 286,-435.5\"/>\n",
       "<polygon fill=\"none\" stroke=\"black\" points=\"113,-391.5 113,-435.5 159,-435.5 159,-391.5 113,-391.5\"/>\n",
       "<text text-anchor=\"start\" x=\"127\" y=\"-416.75\" font-family=\"Linux libertine\" font-size=\"10.00\">add</text>\n",
       "<text text-anchor=\"start\" x=\"117.62\" y=\"-404\" font-family=\"Linux libertine\" font-size=\"10.00\">depth:3</text>\n",
       "<polygon fill=\"none\" stroke=\"black\" points=\"159,-413.5 159,-435.5 206,-435.5 206,-413.5 159,-413.5\"/>\n",
       "<text text-anchor=\"start\" x=\"168.62\" y=\"-421\" font-family=\"Linux libertine\" font-size=\"10.00\">input:</text>\n",
       "<polygon fill=\"none\" stroke=\"black\" points=\"206,-413.5 206,-435.5 286,-435.5 286,-413.5 206,-413.5\"/>\n",
       "<text text-anchor=\"start\" x=\"210.75\" y=\"-421\" font-family=\"Linux libertine\" font-size=\"10.00\">2 x (5, 22, 64) </text>\n",
       "<polygon fill=\"none\" stroke=\"black\" points=\"159,-391.5 159,-413.5 206,-413.5 206,-391.5 159,-391.5\"/>\n",
       "<text text-anchor=\"start\" x=\"163.75\" y=\"-399\" font-family=\"Linux libertine\" font-size=\"10.00\">output: </text>\n",
       "<polygon fill=\"none\" stroke=\"black\" points=\"206,-391.5 206,-413.5 286,-413.5 286,-391.5 206,-391.5\"/>\n",
       "<text text-anchor=\"start\" x=\"219.75\" y=\"-399\" font-family=\"Linux libertine\" font-size=\"10.00\">(5, 22, 64) </text>\n",
       "</g>\n",
       "<!-- 13&#45;&gt;16 -->\n",
       "<g id=\"edge17\" class=\"edge\">\n",
       "<title>13&#45;&gt;16</title>\n",
       "<path fill=\"none\" stroke=\"black\" d=\"M178.06,-631.68C171.97,-621.23 165.3,-608.14 161.5,-595.5 145.6,-542.61 135.11,-523.57 153.5,-471.5 157.05,-461.44 163.21,-451.86 169.89,-443.52\"/>\n",
       "<polygon fill=\"black\" stroke=\"black\" points=\"173.09,-446.17 176.95,-436.3 167.78,-441.6 173.09,-446.17\"/>\n",
       "</g>\n",
       "<!-- 15 -->\n",
       "<g id=\"node16\" class=\"node\">\n",
       "<title>15</title>\n",
       "<polygon fill=\"#c1ffc1\" stroke=\"none\" points=\"368,-515.5 163,-515.5 163,-471.5 368,-471.5 368,-515.5\"/>\n",
       "<polygon fill=\"none\" stroke=\"black\" points=\"163,-471.5 163,-515.5 209,-515.5 209,-471.5 163,-471.5\"/>\n",
       "<text text-anchor=\"start\" x=\"175.12\" y=\"-496.75\" font-family=\"Linux libertine\" font-size=\"10.00\">RNN</text>\n",
       "<text text-anchor=\"start\" x=\"167.62\" y=\"-484\" font-family=\"Linux libertine\" font-size=\"10.00\">depth:3</text>\n",
       "<polygon fill=\"none\" stroke=\"black\" points=\"209,-493.5 209,-515.5 256,-515.5 256,-493.5 209,-493.5\"/>\n",
       "<text text-anchor=\"start\" x=\"218.62\" y=\"-501\" font-family=\"Linux libertine\" font-size=\"10.00\">input:</text>\n",
       "<polygon fill=\"none\" stroke=\"black\" points=\"256,-493.5 256,-515.5 368,-515.5 368,-493.5 256,-493.5\"/>\n",
       "<text text-anchor=\"start\" x=\"285.75\" y=\"-501\" font-family=\"Linux libertine\" font-size=\"10.00\">(5, 22, 64) </text>\n",
       "<polygon fill=\"none\" stroke=\"black\" points=\"209,-471.5 209,-493.5 256,-493.5 256,-471.5 209,-471.5\"/>\n",
       "<text text-anchor=\"start\" x=\"213.75\" y=\"-479\" font-family=\"Linux libertine\" font-size=\"10.00\">output: </text>\n",
       "<polygon fill=\"none\" stroke=\"black\" points=\"256,-471.5 256,-493.5 368,-493.5 368,-471.5 256,-471.5\"/>\n",
       "<text text-anchor=\"start\" x=\"261\" y=\"-479\" font-family=\"Linux libertine\" font-size=\"10.00\">(5, 22, 64), (1, 5, 64) </text>\n",
       "</g>\n",
       "<!-- 14&#45;&gt;15 -->\n",
       "<g id=\"edge18\" class=\"edge\">\n",
       "<title>14&#45;&gt;15</title>\n",
       "<path fill=\"none\" stroke=\"black\" d=\"M259.64,-551.6C260.44,-543.82 261.37,-534.8 262.24,-526.26\"/>\n",
       "<polygon fill=\"black\" stroke=\"black\" points=\"265.81,-526.77 263.35,-516.46 258.85,-526.05 265.81,-526.77\"/>\n",
       "</g>\n",
       "<!-- 15&#45;&gt;16 -->\n",
       "<g id=\"edge19\" class=\"edge\">\n",
       "<title>15&#45;&gt;16</title>\n",
       "<path fill=\"none\" stroke=\"black\" d=\"M247.81,-471.6C240.56,-463.03 232.05,-452.96 224.2,-443.69\"/>\n",
       "<polygon fill=\"black\" stroke=\"black\" points=\"226.37,-441.83 217.24,-436.46 221.02,-446.35 226.37,-441.83\"/>\n",
       "</g>\n",
       "<!-- 17 -->\n",
       "<g id=\"node18\" class=\"node\">\n",
       "<title>17</title>\n",
       "<polygon fill=\"#c1ffc1\" stroke=\"none\" points=\"352,-355.5 179,-355.5 179,-311.5 352,-311.5 352,-355.5\"/>\n",
       "<polygon fill=\"none\" stroke=\"black\" points=\"179,-311.5 179,-355.5 243,-355.5 243,-311.5 179,-311.5\"/>\n",
       "<text text-anchor=\"start\" x=\"184\" y=\"-336.75\" font-family=\"Linux libertine\" font-size=\"10.00\">LayerNorm</text>\n",
       "<text text-anchor=\"start\" x=\"192.62\" y=\"-324\" font-family=\"Linux libertine\" font-size=\"10.00\">depth:3</text>\n",
       "<polygon fill=\"none\" stroke=\"black\" points=\"243,-333.5 243,-355.5 290,-355.5 290,-333.5 243,-333.5\"/>\n",
       "<text text-anchor=\"start\" x=\"252.62\" y=\"-341\" font-family=\"Linux libertine\" font-size=\"10.00\">input:</text>\n",
       "<polygon fill=\"none\" stroke=\"black\" points=\"290,-333.5 290,-355.5 352,-355.5 352,-333.5 290,-333.5\"/>\n",
       "<text text-anchor=\"start\" x=\"294.75\" y=\"-341\" font-family=\"Linux libertine\" font-size=\"10.00\">(5, 22, 64) </text>\n",
       "<polygon fill=\"none\" stroke=\"black\" points=\"243,-311.5 243,-333.5 290,-333.5 290,-311.5 243,-311.5\"/>\n",
       "<text text-anchor=\"start\" x=\"247.75\" y=\"-319\" font-family=\"Linux libertine\" font-size=\"10.00\">output: </text>\n",
       "<polygon fill=\"none\" stroke=\"black\" points=\"290,-311.5 290,-333.5 352,-333.5 352,-311.5 290,-311.5\"/>\n",
       "<text text-anchor=\"start\" x=\"294.75\" y=\"-319\" font-family=\"Linux libertine\" font-size=\"10.00\">(5, 22, 64) </text>\n",
       "</g>\n",
       "<!-- 16&#45;&gt;17 -->\n",
       "<g id=\"edge20\" class=\"edge\">\n",
       "<title>16&#45;&gt;17</title>\n",
       "<path fill=\"none\" stroke=\"black\" d=\"M217.19,-391.6C224.44,-383.03 232.95,-372.96 240.8,-363.69\"/>\n",
       "<polygon fill=\"black\" stroke=\"black\" points=\"243.98,-366.35 247.76,-356.46 238.63,-361.83 243.98,-366.35\"/>\n",
       "</g>\n",
       "<!-- 19 -->\n",
       "<g id=\"node20\" class=\"node\">\n",
       "<title>19</title>\n",
       "<polygon fill=\"aliceblue\" stroke=\"none\" points=\"294,-195.5 121,-195.5 121,-151.5 294,-151.5 294,-195.5\"/>\n",
       "<polygon fill=\"none\" stroke=\"black\" points=\"121,-151.5 121,-195.5 167,-195.5 167,-151.5 121,-151.5\"/>\n",
       "<text text-anchor=\"start\" x=\"135\" y=\"-176.75\" font-family=\"Linux libertine\" font-size=\"10.00\">add</text>\n",
       "<text text-anchor=\"start\" x=\"125.62\" y=\"-164\" font-family=\"Linux libertine\" font-size=\"10.00\">depth:3</text>\n",
       "<polygon fill=\"none\" stroke=\"black\" points=\"167,-173.5 167,-195.5 214,-195.5 214,-173.5 167,-173.5\"/>\n",
       "<text text-anchor=\"start\" x=\"176.62\" y=\"-181\" font-family=\"Linux libertine\" font-size=\"10.00\">input:</text>\n",
       "<polygon fill=\"none\" stroke=\"black\" points=\"214,-173.5 214,-195.5 294,-195.5 294,-173.5 214,-173.5\"/>\n",
       "<text text-anchor=\"start\" x=\"218.75\" y=\"-181\" font-family=\"Linux libertine\" font-size=\"10.00\">2 x (5, 22, 64) </text>\n",
       "<polygon fill=\"none\" stroke=\"black\" points=\"167,-151.5 167,-173.5 214,-173.5 214,-151.5 167,-151.5\"/>\n",
       "<text text-anchor=\"start\" x=\"171.75\" y=\"-159\" font-family=\"Linux libertine\" font-size=\"10.00\">output: </text>\n",
       "<polygon fill=\"none\" stroke=\"black\" points=\"214,-151.5 214,-173.5 294,-173.5 294,-151.5 214,-151.5\"/>\n",
       "<text text-anchor=\"start\" x=\"227.75\" y=\"-159\" font-family=\"Linux libertine\" font-size=\"10.00\">(5, 22, 64) </text>\n",
       "</g>\n",
       "<!-- 16&#45;&gt;19 -->\n",
       "<g id=\"edge21\" class=\"edge\">\n",
       "<title>16&#45;&gt;19</title>\n",
       "<path fill=\"none\" stroke=\"black\" d=\"M186.06,-391.68C179.97,-381.23 173.3,-368.14 169.5,-355.5 153.6,-302.61 143.11,-283.57 161.5,-231.5 165.05,-221.44 171.21,-211.86 177.89,-203.52\"/>\n",
       "<polygon fill=\"black\" stroke=\"black\" points=\"181.09,-206.17 184.95,-196.3 175.78,-201.6 181.09,-206.17\"/>\n",
       "</g>\n",
       "<!-- 18 -->\n",
       "<g id=\"node19\" class=\"node\">\n",
       "<title>18</title>\n",
       "<polygon fill=\"#c1ffc1\" stroke=\"none\" points=\"376,-275.5 171,-275.5 171,-231.5 376,-231.5 376,-275.5\"/>\n",
       "<polygon fill=\"none\" stroke=\"black\" points=\"171,-231.5 171,-275.5 217,-275.5 217,-231.5 171,-231.5\"/>\n",
       "<text text-anchor=\"start\" x=\"183.12\" y=\"-256.75\" font-family=\"Linux libertine\" font-size=\"10.00\">RNN</text>\n",
       "<text text-anchor=\"start\" x=\"175.62\" y=\"-244\" font-family=\"Linux libertine\" font-size=\"10.00\">depth:3</text>\n",
       "<polygon fill=\"none\" stroke=\"black\" points=\"217,-253.5 217,-275.5 264,-275.5 264,-253.5 217,-253.5\"/>\n",
       "<text text-anchor=\"start\" x=\"226.62\" y=\"-261\" font-family=\"Linux libertine\" font-size=\"10.00\">input:</text>\n",
       "<polygon fill=\"none\" stroke=\"black\" points=\"264,-253.5 264,-275.5 376,-275.5 376,-253.5 264,-253.5\"/>\n",
       "<text text-anchor=\"start\" x=\"293.75\" y=\"-261\" font-family=\"Linux libertine\" font-size=\"10.00\">(5, 22, 64) </text>\n",
       "<polygon fill=\"none\" stroke=\"black\" points=\"217,-231.5 217,-253.5 264,-253.5 264,-231.5 217,-231.5\"/>\n",
       "<text text-anchor=\"start\" x=\"221.75\" y=\"-239\" font-family=\"Linux libertine\" font-size=\"10.00\">output: </text>\n",
       "<polygon fill=\"none\" stroke=\"black\" points=\"264,-231.5 264,-253.5 376,-253.5 376,-231.5 264,-231.5\"/>\n",
       "<text text-anchor=\"start\" x=\"269\" y=\"-239\" font-family=\"Linux libertine\" font-size=\"10.00\">(5, 22, 64), (1, 5, 64) </text>\n",
       "</g>\n",
       "<!-- 17&#45;&gt;18 -->\n",
       "<g id=\"edge22\" class=\"edge\">\n",
       "<title>17&#45;&gt;18</title>\n",
       "<path fill=\"none\" stroke=\"black\" d=\"M267.64,-311.6C268.44,-303.82 269.37,-294.8 270.24,-286.26\"/>\n",
       "<polygon fill=\"black\" stroke=\"black\" points=\"273.81,-286.77 271.35,-276.46 266.85,-286.05 273.81,-286.77\"/>\n",
       "</g>\n",
       "<!-- 18&#45;&gt;19 -->\n",
       "<g id=\"edge23\" class=\"edge\">\n",
       "<title>18&#45;&gt;19</title>\n",
       "<path fill=\"none\" stroke=\"black\" d=\"M255.81,-231.6C248.56,-223.03 240.05,-212.96 232.2,-203.69\"/>\n",
       "<polygon fill=\"black\" stroke=\"black\" points=\"234.37,-201.83 225.24,-196.46 229.02,-206.35 234.37,-201.83\"/>\n",
       "</g>\n",
       "<!-- 20 -->\n",
       "<g id=\"node21\" class=\"node\">\n",
       "<title>20</title>\n",
       "<polygon fill=\"#c1ffc1\" stroke=\"none\" points=\"285,-115.5 130,-115.5 130,-71.5 285,-71.5 285,-115.5\"/>\n",
       "<polygon fill=\"none\" stroke=\"black\" points=\"130,-71.5 130,-115.5 176,-115.5 176,-71.5 130,-71.5\"/>\n",
       "<text text-anchor=\"start\" x=\"138\" y=\"-96.75\" font-family=\"Linux libertine\" font-size=\"10.00\">Linear</text>\n",
       "<text text-anchor=\"start\" x=\"134.62\" y=\"-84\" font-family=\"Linux libertine\" font-size=\"10.00\">depth:1</text>\n",
       "<polygon fill=\"none\" stroke=\"black\" points=\"176,-93.5 176,-115.5 223,-115.5 223,-93.5 176,-93.5\"/>\n",
       "<text text-anchor=\"start\" x=\"185.62\" y=\"-101\" font-family=\"Linux libertine\" font-size=\"10.00\">input:</text>\n",
       "<polygon fill=\"none\" stroke=\"black\" points=\"223,-93.5 223,-115.5 285,-115.5 285,-93.5 223,-93.5\"/>\n",
       "<text text-anchor=\"start\" x=\"227.75\" y=\"-101\" font-family=\"Linux libertine\" font-size=\"10.00\">(5, 22, 64) </text>\n",
       "<polygon fill=\"none\" stroke=\"black\" points=\"176,-71.5 176,-93.5 223,-93.5 223,-71.5 176,-71.5\"/>\n",
       "<text text-anchor=\"start\" x=\"180.75\" y=\"-79\" font-family=\"Linux libertine\" font-size=\"10.00\">output: </text>\n",
       "<polygon fill=\"none\" stroke=\"black\" points=\"223,-71.5 223,-93.5 285,-93.5 285,-71.5 223,-71.5\"/>\n",
       "<text text-anchor=\"start\" x=\"227.75\" y=\"-79\" font-family=\"Linux libertine\" font-size=\"10.00\">(5, 22, 56) </text>\n",
       "</g>\n",
       "<!-- 19&#45;&gt;20 -->\n",
       "<g id=\"edge24\" class=\"edge\">\n",
       "<title>19&#45;&gt;20</title>\n",
       "<path fill=\"none\" stroke=\"black\" d=\"M207.5,-151.6C207.5,-143.82 207.5,-134.8 207.5,-126.26\"/>\n",
       "<polygon fill=\"black\" stroke=\"black\" points=\"211,-126.46 207.5,-116.46 204,-126.46 211,-126.46\"/>\n",
       "</g>\n",
       "<!-- 21 -->\n",
       "<g id=\"node22\" class=\"node\">\n",
       "<title>21</title>\n",
       "<polygon fill=\"lightyellow\" stroke=\"none\" points=\"275.25,-35.5 139.75,-35.5 139.75,0 275.25,0 275.25,-35.5\"/>\n",
       "<polygon fill=\"none\" stroke=\"black\" points=\"139.75,0 139.75,-35.5 215.75,-35.5 215.75,0 139.75,0\"/>\n",
       "<text text-anchor=\"start\" x=\"144.75\" y=\"-21\" font-family=\"Linux libertine\" font-size=\"10.00\">output&#45;tensor</text>\n",
       "<text text-anchor=\"start\" x=\"159.38\" y=\"-8.25\" font-family=\"Linux libertine\" font-size=\"10.00\">depth:0</text>\n",
       "<polygon fill=\"none\" stroke=\"black\" points=\"215.75,0 215.75,-35.5 275.25,-35.5 275.25,0 215.75,0\"/>\n",
       "<text text-anchor=\"start\" x=\"220.75\" y=\"-14.62\" font-family=\"Linux libertine\" font-size=\"10.00\">(5, 22, 56)</text>\n",
       "</g>\n",
       "<!-- 20&#45;&gt;21 -->\n",
       "<g id=\"edge25\" class=\"edge\">\n",
       "<title>20&#45;&gt;21</title>\n",
       "<path fill=\"none\" stroke=\"black\" d=\"M207.5,-71.56C207.5,-63.6 207.5,-54.41 207.5,-45.95\"/>\n",
       "<polygon fill=\"black\" stroke=\"black\" points=\"211,-46.05 207.5,-36.05 204,-46.05 211,-46.05\"/>\n",
       "</g>\n",
       "</g>\n",
       "</svg>\n"
      ],
      "text/plain": [
       "<graphviz.graphs.Digraph at 0x7f5542ec4410>"
      ]
     },
     "execution_count": 32,
     "metadata": {},
     "output_type": "execute_result"
    }
   ],
   "source": [
    "model_graph = draw_graph(dec_net,\n",
    "                         input_data=[enc_net(torch.Tensor(enc_x_train[0:5]).long().to(device)), torch.Tensor(dec_x_train[0:5]).long()],\n",
    "                         device=device,\n",
    "                         hide_inner_tensors=True,\n",
    "                         hide_module_functions=True,\n",
    "                         expand_nested=False,\n",
    "                         depth=3,\n",
    "                         dtypes=[torch.long])\n",
    "\n",
    "model_graph.visual_graph"
   ]
  },
  {
   "cell_type": "code",
   "execution_count": 35,
   "id": "8d727be7-c0e3-472c-946a-ffbb436de0a4",
   "metadata": {},
   "outputs": [],
   "source": [
    "class EncDecLightningModule(pl.LightningModule):\n",
    "    def __init__(self,\n",
    "                 output_size,\n",
    "                 **kwargs):\n",
    "        super().__init__(**kwargs)\n",
    "        self.mc_acc = torchmetrics.classification.Accuracy(task='multiclass',\n",
    "                                                           num_classes=output_size,\n",
    "                                                           ignore_index=0)\n",
    "        self.cce_loss = torch.nn.CrossEntropyLoss(ignore_index=0)\n",
    "\n",
    "    def predict(self, x):\n",
    "        return torch.softmax(self(x),-1)\n",
    "\n",
    "    def configure_optimizers(self):\n",
    "        optimizer = torch.optim.Adam(self.parameters(), lr=0.001)\n",
    "        return optimizer\n",
    "\n",
    "    def training_step(self, train_batch, batch_idx):\n",
    "        x_enc, x_dec, y_dec = train_batch\n",
    "        y_pred = self(x_enc, x_dec)\n",
    "        perm = (0,-1) + tuple(range(y_pred.ndim))[1:-1]\n",
    "        acc = self.mc_acc(y_pred.permute(*perm),y_dec)\n",
    "        loss = self.cce_loss(y_pred.permute(*perm),y_dec)\n",
    "        self.log('train_acc', acc, on_step=False, on_epoch=True)\n",
    "        self.log('train_loss', loss, on_step=False, on_epoch=True)\n",
    "        return loss\n",
    "    \n",
    "    # Validate used for Teacher Forcing\n",
    "    def validation_step(self, val_batch, batch_idx):\n",
    "        x_enc, x_dec, y_dec = val_batch\n",
    "        y_pred = self(x_enc, x_dec)\n",
    "        perm = (0,-1) + tuple(range(y_pred.ndim))[1:-1]\n",
    "        acc = self.mc_acc(y_pred.permute(*perm),y_dec)\n",
    "        loss = self.cce_loss(y_pred.permute(*perm),y_dec)\n",
    "        self.log('val_acc', acc, on_step=False, on_epoch=True)\n",
    "        self.log('val_loss', loss, on_step=False, on_epoch=True)\n",
    "        return loss\n",
    "    \n",
    "    # Test used for Non-Teacher Forcing\n",
    "    def test_step(self, test_batch, batch_idx):\n",
    "        x_enc, x_dec, y_dec = test_batch\n",
    "        context = self.enc_net(x_enc)\n",
    "        tokens = torch.zeros_like(x_dec).long()\n",
    "        tokens[:,0] = 1\n",
    "        for i in range(y_dec.shape[1]-1):\n",
    "            tokens[:,i+1] = self.dec_net(context, tokens).argmax(-1)[:,i]\n",
    "        y_pred = self(x_enc, tokens)\n",
    "        perm = (0,-1) + tuple(range(y_pred.ndim))[1:-1]\n",
    "        acc = self.mc_acc(y_pred.permute(*perm),y_dec)\n",
    "        loss = self.cce_loss(y_pred.permute(*perm),y_dec)\n",
    "        self.log('test_acc', acc, on_step=False, on_epoch=True)\n",
    "        self.log('test_loss', loss, on_step=False, on_epoch=True)\n",
    "        return loss\n"
   ]
  },
  {
   "cell_type": "code",
   "execution_count": 37,
   "id": "83614d38-e3d5-4a72-b139-853e91135313",
   "metadata": {},
   "outputs": [],
   "source": [
    "class EncDecNetwork(EncDecLightningModule):\n",
    "    def __init__(self,\n",
    "                 num_enc_tokens,\n",
    "                 num_dec_tokens,\n",
    "                 latent_size = 64, # Use something divisible by 2 \n",
    "                 n_layers = 4,\n",
    "                 **kwargs):\n",
    "        super().__init__(output_size=num_dec_tokens, **kwargs)\n",
    "        self.enc_net = EncoderNetwork(num_enc_tokens,latent_size,n_layers)\n",
    "        self.dec_net = DecoderNetwork(num_dec_tokens,latent_size,n_layers)\n",
    "    \n",
    "    def forward(self, x_enc, x_dec):\n",
    "        return self.dec_net(self.enc_net(x_enc), x_dec)"
   ]
  },
  {
   "cell_type": "code",
   "execution_count": 38,
   "id": "704e5c52-8add-457a-8b48-ebef51a21293",
   "metadata": {},
   "outputs": [
    {
     "data": {
      "text/plain": [
       "==========================================================================================\n",
       "Layer (type:depth-idx)                   Output Shape              Param #\n",
       "==========================================================================================\n",
       "EncDecNetwork                            [1, 22, 56]               --\n",
       "├─EncoderNetwork: 1-1                    [1, 64]                   --\n",
       "│    └─Embedding: 2-1                    [1, 23, 64]               2,816\n",
       "│    └─Dropout1d: 2-2                    [1, 23, 64]               --\n",
       "│    └─Sequential: 2-3                   [1, 23, 64]               --\n",
       "│    │    └─RecurrentResidual: 3-1       [1, 23, 64]               6,400\n",
       "│    │    └─RecurrentResidual: 3-2       [1, 23, 64]               6,400\n",
       "│    │    └─RecurrentResidual: 3-3       [1, 23, 64]               6,400\n",
       "│    │    └─RecurrentResidual: 3-4       [1, 23, 64]               6,400\n",
       "├─DecoderNetwork: 1-2                    [1, 22, 56]               --\n",
       "│    └─Embedding: 2-4                    [1, 22, 64]               3,584\n",
       "│    └─Dropout1d: 2-5                    [1, 22, 64]               --\n",
       "│    └─Linear: 2-6                       [1, 22, 64]               8,256\n",
       "│    └─Sequential: 2-7                   [1, 22, 64]               --\n",
       "│    │    └─RecurrentResidual: 3-5       [1, 22, 64]               8,448\n",
       "│    │    └─RecurrentResidual: 3-6       [1, 22, 64]               8,448\n",
       "│    │    └─RecurrentResidual: 3-7       [1, 22, 64]               8,448\n",
       "│    │    └─RecurrentResidual: 3-8       [1, 22, 64]               8,448\n",
       "│    └─Linear: 2-8                       [1, 22, 56]               3,640\n",
       "==========================================================================================\n",
       "Total params: 77,688\n",
       "Trainable params: 77,688\n",
       "Non-trainable params: 0\n",
       "Total mult-adds (Units.MEGABYTES): 1.33\n",
       "==========================================================================================\n",
       "Input size (MB): 0.00\n",
       "Forward/backward pass size (MB): 0.23\n",
       "Params size (MB): 0.31\n",
       "Estimated Total Size (MB): 0.54\n",
       "=========================================================================================="
      ]
     },
     "execution_count": 38,
     "metadata": {},
     "output_type": "execute_result"
    }
   ],
   "source": [
    "enc_dec_net = EncDecNetwork(num_enc_tokens=len(i_to_c_eng),\n",
    "                            num_dec_tokens=len(i_to_c_por))\n",
    "\n",
    "summary(enc_dec_net,input_data=[torch.Tensor(enc_x_train[0:1]).long(),\n",
    "                                torch.Tensor(dec_x_train[0:1]).long()])"
   ]
  },
  {
   "cell_type": "code",
   "execution_count": 39,
   "id": "8d1db915-ae50-4bbc-aa57-8a9ab15a5c0d",
   "metadata": {},
   "outputs": [
    {
     "data": {
      "image/svg+xml": [
       "<?xml version=\"1.0\" encoding=\"UTF-8\" standalone=\"no\"?>\n",
       "<!DOCTYPE svg PUBLIC \"-//W3C//DTD SVG 1.1//EN\"\n",
       " \"http://www.w3.org/Graphics/SVG/1.1/DTD/svg11.dtd\">\n",
       "<!-- Generated by graphviz version 8.1.0 (20230707.2238)\n",
       " -->\n",
       "<!-- Title: model Pages: 1 -->\n",
       "<svg width=\"275pt\" height=\"1750pt\"\n",
       " viewBox=\"0.00 0.00 274.77 1750.00\" xmlns=\"http://www.w3.org/2000/svg\" xmlns:xlink=\"http://www.w3.org/1999/xlink\">\n",
       "<g id=\"graph0\" class=\"graph\" transform=\"scale(0.654206 0.654206) rotate(0) translate(4 2671)\">\n",
       "<title>model</title>\n",
       "<polygon fill=\"white\" stroke=\"none\" points=\"-4,4 -4,-2671 416,-2671 416,4 -4,4\"/>\n",
       "<!-- 0 -->\n",
       "<g id=\"node1\" class=\"node\">\n",
       "<title>0</title>\n",
       "<polygon fill=\"lightyellow\" stroke=\"none\" points=\"141.88,-2667 31.12,-2667 31.12,-2631.5 141.88,-2631.5 141.88,-2667\"/>\n",
       "<polygon fill=\"none\" stroke=\"black\" points=\"31.12,-2631.5 31.12,-2667 100.38,-2667 100.38,-2631.5 31.12,-2631.5\"/>\n",
       "<text text-anchor=\"start\" x=\"36.12\" y=\"-2652.5\" font-family=\"Linux libertine\" font-size=\"10.00\">input&#45;tensor</text>\n",
       "<text text-anchor=\"start\" x=\"47.38\" y=\"-2639.75\" font-family=\"Linux libertine\" font-size=\"10.00\">depth:0</text>\n",
       "<polygon fill=\"none\" stroke=\"black\" points=\"100.38,-2631.5 100.38,-2667 141.88,-2667 141.88,-2631.5 100.38,-2631.5\"/>\n",
       "<text text-anchor=\"start\" x=\"105.38\" y=\"-2646.12\" font-family=\"Linux libertine\" font-size=\"10.00\">(1, 23)</text>\n",
       "</g>\n",
       "<!-- 2 -->\n",
       "<g id=\"node3\" class=\"node\">\n",
       "<title>2</title>\n",
       "<polygon fill=\"#c1ffc1\" stroke=\"none\" points=\"173,-2595.5 0,-2595.5 0,-2551.5 173,-2551.5 173,-2595.5\"/>\n",
       "<polygon fill=\"none\" stroke=\"black\" points=\"0,-2551.5 0,-2595.5 64,-2595.5 64,-2551.5 0,-2551.5\"/>\n",
       "<text text-anchor=\"start\" x=\"4.62\" y=\"-2576.75\" font-family=\"Linux libertine\" font-size=\"10.00\">Embedding</text>\n",
       "<text text-anchor=\"start\" x=\"13.62\" y=\"-2564\" font-family=\"Linux libertine\" font-size=\"10.00\">depth:2</text>\n",
       "<polygon fill=\"none\" stroke=\"black\" points=\"64,-2573.5 64,-2595.5 111,-2595.5 111,-2573.5 64,-2573.5\"/>\n",
       "<text text-anchor=\"start\" x=\"73.62\" y=\"-2581\" font-family=\"Linux libertine\" font-size=\"10.00\">input:</text>\n",
       "<polygon fill=\"none\" stroke=\"black\" points=\"111,-2573.5 111,-2595.5 173,-2595.5 173,-2573.5 111,-2573.5\"/>\n",
       "<text text-anchor=\"start\" x=\"124.75\" y=\"-2581\" font-family=\"Linux libertine\" font-size=\"10.00\">(1, 23) </text>\n",
       "<polygon fill=\"none\" stroke=\"black\" points=\"64,-2551.5 64,-2573.5 111,-2573.5 111,-2551.5 64,-2551.5\"/>\n",
       "<text text-anchor=\"start\" x=\"68.75\" y=\"-2559\" font-family=\"Linux libertine\" font-size=\"10.00\">output: </text>\n",
       "<polygon fill=\"none\" stroke=\"black\" points=\"111,-2551.5 111,-2573.5 173,-2573.5 173,-2551.5 111,-2551.5\"/>\n",
       "<text text-anchor=\"start\" x=\"115.75\" y=\"-2559\" font-family=\"Linux libertine\" font-size=\"10.00\">(1, 23, 64) </text>\n",
       "</g>\n",
       "<!-- 0&#45;&gt;2 -->\n",
       "<g id=\"edge1\" class=\"edge\">\n",
       "<title>0&#45;&gt;2</title>\n",
       "<path fill=\"none\" stroke=\"black\" d=\"M86.5,-2631.51C86.5,-2624.07 86.5,-2615.04 86.5,-2606.39\"/>\n",
       "<polygon fill=\"black\" stroke=\"black\" points=\"90,-2606.39 86.5,-2596.39 83,-2606.39 90,-2606.39\"/>\n",
       "</g>\n",
       "<!-- 1 -->\n",
       "<g id=\"node2\" class=\"node\">\n",
       "<title>1</title>\n",
       "<polygon fill=\"lightyellow\" stroke=\"none\" points=\"360.88,-1471.25 250.12,-1471.25 250.12,-1435.75 360.88,-1435.75 360.88,-1471.25\"/>\n",
       "<polygon fill=\"none\" stroke=\"black\" points=\"250.12,-1435.75 250.12,-1471.25 319.38,-1471.25 319.38,-1435.75 250.12,-1435.75\"/>\n",
       "<text text-anchor=\"start\" x=\"255.12\" y=\"-1456.75\" font-family=\"Linux libertine\" font-size=\"10.00\">input&#45;tensor</text>\n",
       "<text text-anchor=\"start\" x=\"266.38\" y=\"-1444\" font-family=\"Linux libertine\" font-size=\"10.00\">depth:0</text>\n",
       "<polygon fill=\"none\" stroke=\"black\" points=\"319.38,-1435.75 319.38,-1471.25 360.88,-1471.25 360.88,-1435.75 319.38,-1435.75\"/>\n",
       "<text text-anchor=\"start\" x=\"324.38\" y=\"-1450.38\" font-family=\"Linux libertine\" font-size=\"10.00\">(1, 22)</text>\n",
       "</g>\n",
       "<!-- 19 -->\n",
       "<g id=\"node20\" class=\"node\">\n",
       "<title>19</title>\n",
       "<polygon fill=\"#c1ffc1\" stroke=\"none\" points=\"392,-1395.5 219,-1395.5 219,-1351.5 392,-1351.5 392,-1395.5\"/>\n",
       "<polygon fill=\"none\" stroke=\"black\" points=\"219,-1351.5 219,-1395.5 283,-1395.5 283,-1351.5 219,-1351.5\"/>\n",
       "<text text-anchor=\"start\" x=\"223.62\" y=\"-1376.75\" font-family=\"Linux libertine\" font-size=\"10.00\">Embedding</text>\n",
       "<text text-anchor=\"start\" x=\"232.62\" y=\"-1364\" font-family=\"Linux libertine\" font-size=\"10.00\">depth:2</text>\n",
       "<polygon fill=\"none\" stroke=\"black\" points=\"283,-1373.5 283,-1395.5 330,-1395.5 330,-1373.5 283,-1373.5\"/>\n",
       "<text text-anchor=\"start\" x=\"292.62\" y=\"-1381\" font-family=\"Linux libertine\" font-size=\"10.00\">input:</text>\n",
       "<polygon fill=\"none\" stroke=\"black\" points=\"330,-1373.5 330,-1395.5 392,-1395.5 392,-1373.5 330,-1373.5\"/>\n",
       "<text text-anchor=\"start\" x=\"343.75\" y=\"-1381\" font-family=\"Linux libertine\" font-size=\"10.00\">(1, 22) </text>\n",
       "<polygon fill=\"none\" stroke=\"black\" points=\"283,-1351.5 283,-1373.5 330,-1373.5 330,-1351.5 283,-1351.5\"/>\n",
       "<text text-anchor=\"start\" x=\"287.75\" y=\"-1359\" font-family=\"Linux libertine\" font-size=\"10.00\">output: </text>\n",
       "<polygon fill=\"none\" stroke=\"black\" points=\"330,-1351.5 330,-1373.5 392,-1373.5 392,-1351.5 330,-1351.5\"/>\n",
       "<text text-anchor=\"start\" x=\"334.75\" y=\"-1359\" font-family=\"Linux libertine\" font-size=\"10.00\">(1, 22, 64) </text>\n",
       "</g>\n",
       "<!-- 1&#45;&gt;19 -->\n",
       "<g id=\"edge21\" class=\"edge\">\n",
       "<title>1&#45;&gt;19</title>\n",
       "<path fill=\"none\" stroke=\"black\" d=\"M305.5,-1435.96C305.5,-1427.29 305.5,-1416.37 305.5,-1406.15\"/>\n",
       "<polygon fill=\"black\" stroke=\"black\" points=\"309,-1406.48 305.5,-1396.48 302,-1406.48 309,-1406.48\"/>\n",
       "</g>\n",
       "<!-- 3 -->\n",
       "<g id=\"node4\" class=\"node\">\n",
       "<title>3</title>\n",
       "<polygon fill=\"#c1ffc1\" stroke=\"none\" points=\"171.5,-2515.5 1.5,-2515.5 1.5,-2471.5 171.5,-2471.5 171.5,-2515.5\"/>\n",
       "<polygon fill=\"none\" stroke=\"black\" points=\"1.5,-2471.5 1.5,-2515.5 62.5,-2515.5 62.5,-2471.5 1.5,-2471.5\"/>\n",
       "<text text-anchor=\"start\" x=\"6.5\" y=\"-2496.75\" font-family=\"Linux libertine\" font-size=\"10.00\">Dropout1d</text>\n",
       "<text text-anchor=\"start\" x=\"13.62\" y=\"-2484\" font-family=\"Linux libertine\" font-size=\"10.00\">depth:2</text>\n",
       "<polygon fill=\"none\" stroke=\"black\" points=\"62.5,-2493.5 62.5,-2515.5 109.5,-2515.5 109.5,-2493.5 62.5,-2493.5\"/>\n",
       "<text text-anchor=\"start\" x=\"72.12\" y=\"-2501\" font-family=\"Linux libertine\" font-size=\"10.00\">input:</text>\n",
       "<polygon fill=\"none\" stroke=\"black\" points=\"109.5,-2493.5 109.5,-2515.5 171.5,-2515.5 171.5,-2493.5 109.5,-2493.5\"/>\n",
       "<text text-anchor=\"start\" x=\"114.25\" y=\"-2501\" font-family=\"Linux libertine\" font-size=\"10.00\">(1, 23, 64) </text>\n",
       "<polygon fill=\"none\" stroke=\"black\" points=\"62.5,-2471.5 62.5,-2493.5 109.5,-2493.5 109.5,-2471.5 62.5,-2471.5\"/>\n",
       "<text text-anchor=\"start\" x=\"67.25\" y=\"-2479\" font-family=\"Linux libertine\" font-size=\"10.00\">output: </text>\n",
       "<polygon fill=\"none\" stroke=\"black\" points=\"109.5,-2471.5 109.5,-2493.5 171.5,-2493.5 171.5,-2471.5 109.5,-2471.5\"/>\n",
       "<text text-anchor=\"start\" x=\"114.25\" y=\"-2479\" font-family=\"Linux libertine\" font-size=\"10.00\">(1, 23, 64) </text>\n",
       "</g>\n",
       "<!-- 2&#45;&gt;3 -->\n",
       "<g id=\"edge2\" class=\"edge\">\n",
       "<title>2&#45;&gt;3</title>\n",
       "<path fill=\"none\" stroke=\"black\" d=\"M86.5,-2551.6C86.5,-2543.82 86.5,-2534.8 86.5,-2526.26\"/>\n",
       "<polygon fill=\"black\" stroke=\"black\" points=\"90,-2526.46 86.5,-2516.46 83,-2526.46 90,-2526.46\"/>\n",
       "</g>\n",
       "<!-- 4 -->\n",
       "<g id=\"node5\" class=\"node\">\n",
       "<title>4</title>\n",
       "<polygon fill=\"#c1ffc1\" stroke=\"none\" points=\"239,-2435.5 66,-2435.5 66,-2391.5 239,-2391.5 239,-2435.5\"/>\n",
       "<polygon fill=\"none\" stroke=\"black\" points=\"66,-2391.5 66,-2435.5 130,-2435.5 130,-2391.5 66,-2391.5\"/>\n",
       "<text text-anchor=\"start\" x=\"71\" y=\"-2416.75\" font-family=\"Linux libertine\" font-size=\"10.00\">LayerNorm</text>\n",
       "<text text-anchor=\"start\" x=\"79.62\" y=\"-2404\" font-family=\"Linux libertine\" font-size=\"10.00\">depth:4</text>\n",
       "<polygon fill=\"none\" stroke=\"black\" points=\"130,-2413.5 130,-2435.5 177,-2435.5 177,-2413.5 130,-2413.5\"/>\n",
       "<text text-anchor=\"start\" x=\"139.62\" y=\"-2421\" font-family=\"Linux libertine\" font-size=\"10.00\">input:</text>\n",
       "<polygon fill=\"none\" stroke=\"black\" points=\"177,-2413.5 177,-2435.5 239,-2435.5 239,-2413.5 177,-2413.5\"/>\n",
       "<text text-anchor=\"start\" x=\"181.75\" y=\"-2421\" font-family=\"Linux libertine\" font-size=\"10.00\">(1, 23, 64) </text>\n",
       "<polygon fill=\"none\" stroke=\"black\" points=\"130,-2391.5 130,-2413.5 177,-2413.5 177,-2391.5 130,-2391.5\"/>\n",
       "<text text-anchor=\"start\" x=\"134.75\" y=\"-2399\" font-family=\"Linux libertine\" font-size=\"10.00\">output: </text>\n",
       "<polygon fill=\"none\" stroke=\"black\" points=\"177,-2391.5 177,-2413.5 239,-2413.5 239,-2391.5 177,-2391.5\"/>\n",
       "<text text-anchor=\"start\" x=\"181.75\" y=\"-2399\" font-family=\"Linux libertine\" font-size=\"10.00\">(1, 23, 64) </text>\n",
       "</g>\n",
       "<!-- 3&#45;&gt;4 -->\n",
       "<g id=\"edge3\" class=\"edge\">\n",
       "<title>3&#45;&gt;4</title>\n",
       "<path fill=\"none\" stroke=\"black\" d=\"M104.19,-2471.6C111.44,-2463.03 119.95,-2452.96 127.8,-2443.69\"/>\n",
       "<polygon fill=\"black\" stroke=\"black\" points=\"130.98,-2446.35 134.76,-2436.46 125.63,-2441.83 130.98,-2446.35\"/>\n",
       "</g>\n",
       "<!-- 6 -->\n",
       "<g id=\"node7\" class=\"node\">\n",
       "<title>6</title>\n",
       "<polygon fill=\"aliceblue\" stroke=\"none\" points=\"181,-2275.5 8,-2275.5 8,-2231.5 181,-2231.5 181,-2275.5\"/>\n",
       "<polygon fill=\"none\" stroke=\"black\" points=\"8,-2231.5 8,-2275.5 54,-2275.5 54,-2231.5 8,-2231.5\"/>\n",
       "<text text-anchor=\"start\" x=\"22\" y=\"-2256.75\" font-family=\"Linux libertine\" font-size=\"10.00\">add</text>\n",
       "<text text-anchor=\"start\" x=\"12.62\" y=\"-2244\" font-family=\"Linux libertine\" font-size=\"10.00\">depth:4</text>\n",
       "<polygon fill=\"none\" stroke=\"black\" points=\"54,-2253.5 54,-2275.5 101,-2275.5 101,-2253.5 54,-2253.5\"/>\n",
       "<text text-anchor=\"start\" x=\"63.62\" y=\"-2261\" font-family=\"Linux libertine\" font-size=\"10.00\">input:</text>\n",
       "<polygon fill=\"none\" stroke=\"black\" points=\"101,-2253.5 101,-2275.5 181,-2275.5 181,-2253.5 101,-2253.5\"/>\n",
       "<text text-anchor=\"start\" x=\"105.75\" y=\"-2261\" font-family=\"Linux libertine\" font-size=\"10.00\">2 x (1, 23, 64) </text>\n",
       "<polygon fill=\"none\" stroke=\"black\" points=\"54,-2231.5 54,-2253.5 101,-2253.5 101,-2231.5 54,-2231.5\"/>\n",
       "<text text-anchor=\"start\" x=\"58.75\" y=\"-2239\" font-family=\"Linux libertine\" font-size=\"10.00\">output: </text>\n",
       "<polygon fill=\"none\" stroke=\"black\" points=\"101,-2231.5 101,-2253.5 181,-2253.5 181,-2231.5 101,-2231.5\"/>\n",
       "<text text-anchor=\"start\" x=\"114.75\" y=\"-2239\" font-family=\"Linux libertine\" font-size=\"10.00\">(1, 23, 64) </text>\n",
       "</g>\n",
       "<!-- 3&#45;&gt;6 -->\n",
       "<g id=\"edge4\" class=\"edge\">\n",
       "<title>3&#45;&gt;6</title>\n",
       "<path fill=\"none\" stroke=\"black\" d=\"M73.06,-2471.68C66.97,-2461.23 60.3,-2448.14 56.5,-2435.5 40.6,-2382.61 30.11,-2363.57 48.5,-2311.5 52.05,-2301.44 58.21,-2291.86 64.89,-2283.52\"/>\n",
       "<polygon fill=\"black\" stroke=\"black\" points=\"68.09,-2286.17 71.95,-2276.3 62.78,-2281.6 68.09,-2286.17\"/>\n",
       "</g>\n",
       "<!-- 5 -->\n",
       "<g id=\"node6\" class=\"node\">\n",
       "<title>5</title>\n",
       "<polygon fill=\"#c1ffc1\" stroke=\"none\" points=\"263,-2355.5 58,-2355.5 58,-2311.5 263,-2311.5 263,-2355.5\"/>\n",
       "<polygon fill=\"none\" stroke=\"black\" points=\"58,-2311.5 58,-2355.5 104,-2355.5 104,-2311.5 58,-2311.5\"/>\n",
       "<text text-anchor=\"start\" x=\"70.12\" y=\"-2336.75\" font-family=\"Linux libertine\" font-size=\"10.00\">RNN</text>\n",
       "<text text-anchor=\"start\" x=\"62.62\" y=\"-2324\" font-family=\"Linux libertine\" font-size=\"10.00\">depth:4</text>\n",
       "<polygon fill=\"none\" stroke=\"black\" points=\"104,-2333.5 104,-2355.5 151,-2355.5 151,-2333.5 104,-2333.5\"/>\n",
       "<text text-anchor=\"start\" x=\"113.62\" y=\"-2341\" font-family=\"Linux libertine\" font-size=\"10.00\">input:</text>\n",
       "<polygon fill=\"none\" stroke=\"black\" points=\"151,-2333.5 151,-2355.5 263,-2355.5 263,-2333.5 151,-2333.5\"/>\n",
       "<text text-anchor=\"start\" x=\"180.75\" y=\"-2341\" font-family=\"Linux libertine\" font-size=\"10.00\">(1, 23, 64) </text>\n",
       "<polygon fill=\"none\" stroke=\"black\" points=\"104,-2311.5 104,-2333.5 151,-2333.5 151,-2311.5 104,-2311.5\"/>\n",
       "<text text-anchor=\"start\" x=\"108.75\" y=\"-2319\" font-family=\"Linux libertine\" font-size=\"10.00\">output: </text>\n",
       "<polygon fill=\"none\" stroke=\"black\" points=\"151,-2311.5 151,-2333.5 263,-2333.5 263,-2311.5 151,-2311.5\"/>\n",
       "<text text-anchor=\"start\" x=\"156\" y=\"-2319\" font-family=\"Linux libertine\" font-size=\"10.00\">(1, 23, 64), (2, 1, 32) </text>\n",
       "</g>\n",
       "<!-- 4&#45;&gt;5 -->\n",
       "<g id=\"edge5\" class=\"edge\">\n",
       "<title>4&#45;&gt;5</title>\n",
       "<path fill=\"none\" stroke=\"black\" d=\"M154.64,-2391.6C155.44,-2383.82 156.37,-2374.8 157.24,-2366.26\"/>\n",
       "<polygon fill=\"black\" stroke=\"black\" points=\"160.81,-2366.77 158.35,-2356.46 153.85,-2366.05 160.81,-2366.77\"/>\n",
       "</g>\n",
       "<!-- 5&#45;&gt;6 -->\n",
       "<g id=\"edge6\" class=\"edge\">\n",
       "<title>5&#45;&gt;6</title>\n",
       "<path fill=\"none\" stroke=\"black\" d=\"M142.81,-2311.6C135.56,-2303.03 127.05,-2292.96 119.2,-2283.69\"/>\n",
       "<polygon fill=\"black\" stroke=\"black\" points=\"121.37,-2281.83 112.24,-2276.46 116.02,-2286.35 121.37,-2281.83\"/>\n",
       "</g>\n",
       "<!-- 7 -->\n",
       "<g id=\"node8\" class=\"node\">\n",
       "<title>7</title>\n",
       "<polygon fill=\"#c1ffc1\" stroke=\"none\" points=\"247,-2195.5 74,-2195.5 74,-2151.5 247,-2151.5 247,-2195.5\"/>\n",
       "<polygon fill=\"none\" stroke=\"black\" points=\"74,-2151.5 74,-2195.5 138,-2195.5 138,-2151.5 74,-2151.5\"/>\n",
       "<text text-anchor=\"start\" x=\"79\" y=\"-2176.75\" font-family=\"Linux libertine\" font-size=\"10.00\">LayerNorm</text>\n",
       "<text text-anchor=\"start\" x=\"87.62\" y=\"-2164\" font-family=\"Linux libertine\" font-size=\"10.00\">depth:4</text>\n",
       "<polygon fill=\"none\" stroke=\"black\" points=\"138,-2173.5 138,-2195.5 185,-2195.5 185,-2173.5 138,-2173.5\"/>\n",
       "<text text-anchor=\"start\" x=\"147.62\" y=\"-2181\" font-family=\"Linux libertine\" font-size=\"10.00\">input:</text>\n",
       "<polygon fill=\"none\" stroke=\"black\" points=\"185,-2173.5 185,-2195.5 247,-2195.5 247,-2173.5 185,-2173.5\"/>\n",
       "<text text-anchor=\"start\" x=\"189.75\" y=\"-2181\" font-family=\"Linux libertine\" font-size=\"10.00\">(1, 23, 64) </text>\n",
       "<polygon fill=\"none\" stroke=\"black\" points=\"138,-2151.5 138,-2173.5 185,-2173.5 185,-2151.5 138,-2151.5\"/>\n",
       "<text text-anchor=\"start\" x=\"142.75\" y=\"-2159\" font-family=\"Linux libertine\" font-size=\"10.00\">output: </text>\n",
       "<polygon fill=\"none\" stroke=\"black\" points=\"185,-2151.5 185,-2173.5 247,-2173.5 247,-2151.5 185,-2151.5\"/>\n",
       "<text text-anchor=\"start\" x=\"189.75\" y=\"-2159\" font-family=\"Linux libertine\" font-size=\"10.00\">(1, 23, 64) </text>\n",
       "</g>\n",
       "<!-- 6&#45;&gt;7 -->\n",
       "<g id=\"edge7\" class=\"edge\">\n",
       "<title>6&#45;&gt;7</title>\n",
       "<path fill=\"none\" stroke=\"black\" d=\"M112.19,-2231.6C119.44,-2223.03 127.95,-2212.96 135.8,-2203.69\"/>\n",
       "<polygon fill=\"black\" stroke=\"black\" points=\"138.98,-2206.35 142.76,-2196.46 133.63,-2201.83 138.98,-2206.35\"/>\n",
       "</g>\n",
       "<!-- 9 -->\n",
       "<g id=\"node10\" class=\"node\">\n",
       "<title>9</title>\n",
       "<polygon fill=\"aliceblue\" stroke=\"none\" points=\"189,-2035.5 16,-2035.5 16,-1991.5 189,-1991.5 189,-2035.5\"/>\n",
       "<polygon fill=\"none\" stroke=\"black\" points=\"16,-1991.5 16,-2035.5 62,-2035.5 62,-1991.5 16,-1991.5\"/>\n",
       "<text text-anchor=\"start\" x=\"30\" y=\"-2016.75\" font-family=\"Linux libertine\" font-size=\"10.00\">add</text>\n",
       "<text text-anchor=\"start\" x=\"20.62\" y=\"-2004\" font-family=\"Linux libertine\" font-size=\"10.00\">depth:4</text>\n",
       "<polygon fill=\"none\" stroke=\"black\" points=\"62,-2013.5 62,-2035.5 109,-2035.5 109,-2013.5 62,-2013.5\"/>\n",
       "<text text-anchor=\"start\" x=\"71.62\" y=\"-2021\" font-family=\"Linux libertine\" font-size=\"10.00\">input:</text>\n",
       "<polygon fill=\"none\" stroke=\"black\" points=\"109,-2013.5 109,-2035.5 189,-2035.5 189,-2013.5 109,-2013.5\"/>\n",
       "<text text-anchor=\"start\" x=\"113.75\" y=\"-2021\" font-family=\"Linux libertine\" font-size=\"10.00\">2 x (1, 23, 64) </text>\n",
       "<polygon fill=\"none\" stroke=\"black\" points=\"62,-1991.5 62,-2013.5 109,-2013.5 109,-1991.5 62,-1991.5\"/>\n",
       "<text text-anchor=\"start\" x=\"66.75\" y=\"-1999\" font-family=\"Linux libertine\" font-size=\"10.00\">output: </text>\n",
       "<polygon fill=\"none\" stroke=\"black\" points=\"109,-1991.5 109,-2013.5 189,-2013.5 189,-1991.5 109,-1991.5\"/>\n",
       "<text text-anchor=\"start\" x=\"122.75\" y=\"-1999\" font-family=\"Linux libertine\" font-size=\"10.00\">(1, 23, 64) </text>\n",
       "</g>\n",
       "<!-- 6&#45;&gt;9 -->\n",
       "<g id=\"edge8\" class=\"edge\">\n",
       "<title>6&#45;&gt;9</title>\n",
       "<path fill=\"none\" stroke=\"black\" d=\"M81.06,-2231.68C74.97,-2221.23 68.3,-2208.14 64.5,-2195.5 48.6,-2142.61 38.11,-2123.57 56.5,-2071.5 60.05,-2061.44 66.21,-2051.86 72.89,-2043.52\"/>\n",
       "<polygon fill=\"black\" stroke=\"black\" points=\"76.09,-2046.17 79.95,-2036.3 70.78,-2041.6 76.09,-2046.17\"/>\n",
       "</g>\n",
       "<!-- 8 -->\n",
       "<g id=\"node9\" class=\"node\">\n",
       "<title>8</title>\n",
       "<polygon fill=\"#c1ffc1\" stroke=\"none\" points=\"271,-2115.5 66,-2115.5 66,-2071.5 271,-2071.5 271,-2115.5\"/>\n",
       "<polygon fill=\"none\" stroke=\"black\" points=\"66,-2071.5 66,-2115.5 112,-2115.5 112,-2071.5 66,-2071.5\"/>\n",
       "<text text-anchor=\"start\" x=\"78.12\" y=\"-2096.75\" font-family=\"Linux libertine\" font-size=\"10.00\">RNN</text>\n",
       "<text text-anchor=\"start\" x=\"70.62\" y=\"-2084\" font-family=\"Linux libertine\" font-size=\"10.00\">depth:4</text>\n",
       "<polygon fill=\"none\" stroke=\"black\" points=\"112,-2093.5 112,-2115.5 159,-2115.5 159,-2093.5 112,-2093.5\"/>\n",
       "<text text-anchor=\"start\" x=\"121.62\" y=\"-2101\" font-family=\"Linux libertine\" font-size=\"10.00\">input:</text>\n",
       "<polygon fill=\"none\" stroke=\"black\" points=\"159,-2093.5 159,-2115.5 271,-2115.5 271,-2093.5 159,-2093.5\"/>\n",
       "<text text-anchor=\"start\" x=\"188.75\" y=\"-2101\" font-family=\"Linux libertine\" font-size=\"10.00\">(1, 23, 64) </text>\n",
       "<polygon fill=\"none\" stroke=\"black\" points=\"112,-2071.5 112,-2093.5 159,-2093.5 159,-2071.5 112,-2071.5\"/>\n",
       "<text text-anchor=\"start\" x=\"116.75\" y=\"-2079\" font-family=\"Linux libertine\" font-size=\"10.00\">output: </text>\n",
       "<polygon fill=\"none\" stroke=\"black\" points=\"159,-2071.5 159,-2093.5 271,-2093.5 271,-2071.5 159,-2071.5\"/>\n",
       "<text text-anchor=\"start\" x=\"164\" y=\"-2079\" font-family=\"Linux libertine\" font-size=\"10.00\">(1, 23, 64), (2, 1, 32) </text>\n",
       "</g>\n",
       "<!-- 7&#45;&gt;8 -->\n",
       "<g id=\"edge9\" class=\"edge\">\n",
       "<title>7&#45;&gt;8</title>\n",
       "<path fill=\"none\" stroke=\"black\" d=\"M162.64,-2151.6C163.44,-2143.82 164.37,-2134.8 165.24,-2126.26\"/>\n",
       "<polygon fill=\"black\" stroke=\"black\" points=\"168.81,-2126.77 166.35,-2116.46 161.85,-2126.05 168.81,-2126.77\"/>\n",
       "</g>\n",
       "<!-- 8&#45;&gt;9 -->\n",
       "<g id=\"edge10\" class=\"edge\">\n",
       "<title>8&#45;&gt;9</title>\n",
       "<path fill=\"none\" stroke=\"black\" d=\"M150.81,-2071.6C143.56,-2063.03 135.05,-2052.96 127.2,-2043.69\"/>\n",
       "<polygon fill=\"black\" stroke=\"black\" points=\"129.37,-2041.83 120.24,-2036.46 124.02,-2046.35 129.37,-2041.83\"/>\n",
       "</g>\n",
       "<!-- 10 -->\n",
       "<g id=\"node11\" class=\"node\">\n",
       "<title>10</title>\n",
       "<polygon fill=\"#c1ffc1\" stroke=\"none\" points=\"255,-1955.5 82,-1955.5 82,-1911.5 255,-1911.5 255,-1955.5\"/>\n",
       "<polygon fill=\"none\" stroke=\"black\" points=\"82,-1911.5 82,-1955.5 146,-1955.5 146,-1911.5 82,-1911.5\"/>\n",
       "<text text-anchor=\"start\" x=\"87\" y=\"-1936.75\" font-family=\"Linux libertine\" font-size=\"10.00\">LayerNorm</text>\n",
       "<text text-anchor=\"start\" x=\"95.62\" y=\"-1924\" font-family=\"Linux libertine\" font-size=\"10.00\">depth:4</text>\n",
       "<polygon fill=\"none\" stroke=\"black\" points=\"146,-1933.5 146,-1955.5 193,-1955.5 193,-1933.5 146,-1933.5\"/>\n",
       "<text text-anchor=\"start\" x=\"155.62\" y=\"-1941\" font-family=\"Linux libertine\" font-size=\"10.00\">input:</text>\n",
       "<polygon fill=\"none\" stroke=\"black\" points=\"193,-1933.5 193,-1955.5 255,-1955.5 255,-1933.5 193,-1933.5\"/>\n",
       "<text text-anchor=\"start\" x=\"197.75\" y=\"-1941\" font-family=\"Linux libertine\" font-size=\"10.00\">(1, 23, 64) </text>\n",
       "<polygon fill=\"none\" stroke=\"black\" points=\"146,-1911.5 146,-1933.5 193,-1933.5 193,-1911.5 146,-1911.5\"/>\n",
       "<text text-anchor=\"start\" x=\"150.75\" y=\"-1919\" font-family=\"Linux libertine\" font-size=\"10.00\">output: </text>\n",
       "<polygon fill=\"none\" stroke=\"black\" points=\"193,-1911.5 193,-1933.5 255,-1933.5 255,-1911.5 193,-1911.5\"/>\n",
       "<text text-anchor=\"start\" x=\"197.75\" y=\"-1919\" font-family=\"Linux libertine\" font-size=\"10.00\">(1, 23, 64) </text>\n",
       "</g>\n",
       "<!-- 9&#45;&gt;10 -->\n",
       "<g id=\"edge11\" class=\"edge\">\n",
       "<title>9&#45;&gt;10</title>\n",
       "<path fill=\"none\" stroke=\"black\" d=\"M120.19,-1991.6C127.44,-1983.03 135.95,-1972.96 143.8,-1963.69\"/>\n",
       "<polygon fill=\"black\" stroke=\"black\" points=\"146.98,-1966.35 150.76,-1956.46 141.63,-1961.83 146.98,-1966.35\"/>\n",
       "</g>\n",
       "<!-- 12 -->\n",
       "<g id=\"node13\" class=\"node\">\n",
       "<title>12</title>\n",
       "<polygon fill=\"aliceblue\" stroke=\"none\" points=\"197,-1795.5 24,-1795.5 24,-1751.5 197,-1751.5 197,-1795.5\"/>\n",
       "<polygon fill=\"none\" stroke=\"black\" points=\"24,-1751.5 24,-1795.5 70,-1795.5 70,-1751.5 24,-1751.5\"/>\n",
       "<text text-anchor=\"start\" x=\"38\" y=\"-1776.75\" font-family=\"Linux libertine\" font-size=\"10.00\">add</text>\n",
       "<text text-anchor=\"start\" x=\"28.62\" y=\"-1764\" font-family=\"Linux libertine\" font-size=\"10.00\">depth:4</text>\n",
       "<polygon fill=\"none\" stroke=\"black\" points=\"70,-1773.5 70,-1795.5 117,-1795.5 117,-1773.5 70,-1773.5\"/>\n",
       "<text text-anchor=\"start\" x=\"79.62\" y=\"-1781\" font-family=\"Linux libertine\" font-size=\"10.00\">input:</text>\n",
       "<polygon fill=\"none\" stroke=\"black\" points=\"117,-1773.5 117,-1795.5 197,-1795.5 197,-1773.5 117,-1773.5\"/>\n",
       "<text text-anchor=\"start\" x=\"121.75\" y=\"-1781\" font-family=\"Linux libertine\" font-size=\"10.00\">2 x (1, 23, 64) </text>\n",
       "<polygon fill=\"none\" stroke=\"black\" points=\"70,-1751.5 70,-1773.5 117,-1773.5 117,-1751.5 70,-1751.5\"/>\n",
       "<text text-anchor=\"start\" x=\"74.75\" y=\"-1759\" font-family=\"Linux libertine\" font-size=\"10.00\">output: </text>\n",
       "<polygon fill=\"none\" stroke=\"black\" points=\"117,-1751.5 117,-1773.5 197,-1773.5 197,-1751.5 117,-1751.5\"/>\n",
       "<text text-anchor=\"start\" x=\"130.75\" y=\"-1759\" font-family=\"Linux libertine\" font-size=\"10.00\">(1, 23, 64) </text>\n",
       "</g>\n",
       "<!-- 9&#45;&gt;12 -->\n",
       "<g id=\"edge12\" class=\"edge\">\n",
       "<title>9&#45;&gt;12</title>\n",
       "<path fill=\"none\" stroke=\"black\" d=\"M89.06,-1991.68C82.97,-1981.23 76.3,-1968.14 72.5,-1955.5 56.6,-1902.61 46.11,-1883.57 64.5,-1831.5 68.05,-1821.44 74.21,-1811.86 80.89,-1803.52\"/>\n",
       "<polygon fill=\"black\" stroke=\"black\" points=\"84.09,-1806.17 87.95,-1796.3 78.78,-1801.6 84.09,-1806.17\"/>\n",
       "</g>\n",
       "<!-- 11 -->\n",
       "<g id=\"node12\" class=\"node\">\n",
       "<title>11</title>\n",
       "<polygon fill=\"#c1ffc1\" stroke=\"none\" points=\"279,-1875.5 74,-1875.5 74,-1831.5 279,-1831.5 279,-1875.5\"/>\n",
       "<polygon fill=\"none\" stroke=\"black\" points=\"74,-1831.5 74,-1875.5 120,-1875.5 120,-1831.5 74,-1831.5\"/>\n",
       "<text text-anchor=\"start\" x=\"86.12\" y=\"-1856.75\" font-family=\"Linux libertine\" font-size=\"10.00\">RNN</text>\n",
       "<text text-anchor=\"start\" x=\"78.62\" y=\"-1844\" font-family=\"Linux libertine\" font-size=\"10.00\">depth:4</text>\n",
       "<polygon fill=\"none\" stroke=\"black\" points=\"120,-1853.5 120,-1875.5 167,-1875.5 167,-1853.5 120,-1853.5\"/>\n",
       "<text text-anchor=\"start\" x=\"129.62\" y=\"-1861\" font-family=\"Linux libertine\" font-size=\"10.00\">input:</text>\n",
       "<polygon fill=\"none\" stroke=\"black\" points=\"167,-1853.5 167,-1875.5 279,-1875.5 279,-1853.5 167,-1853.5\"/>\n",
       "<text text-anchor=\"start\" x=\"196.75\" y=\"-1861\" font-family=\"Linux libertine\" font-size=\"10.00\">(1, 23, 64) </text>\n",
       "<polygon fill=\"none\" stroke=\"black\" points=\"120,-1831.5 120,-1853.5 167,-1853.5 167,-1831.5 120,-1831.5\"/>\n",
       "<text text-anchor=\"start\" x=\"124.75\" y=\"-1839\" font-family=\"Linux libertine\" font-size=\"10.00\">output: </text>\n",
       "<polygon fill=\"none\" stroke=\"black\" points=\"167,-1831.5 167,-1853.5 279,-1853.5 279,-1831.5 167,-1831.5\"/>\n",
       "<text text-anchor=\"start\" x=\"172\" y=\"-1839\" font-family=\"Linux libertine\" font-size=\"10.00\">(1, 23, 64), (2, 1, 32) </text>\n",
       "</g>\n",
       "<!-- 10&#45;&gt;11 -->\n",
       "<g id=\"edge13\" class=\"edge\">\n",
       "<title>10&#45;&gt;11</title>\n",
       "<path fill=\"none\" stroke=\"black\" d=\"M170.64,-1911.6C171.44,-1903.82 172.37,-1894.8 173.24,-1886.26\"/>\n",
       "<polygon fill=\"black\" stroke=\"black\" points=\"176.81,-1886.77 174.35,-1876.46 169.85,-1886.05 176.81,-1886.77\"/>\n",
       "</g>\n",
       "<!-- 11&#45;&gt;12 -->\n",
       "<g id=\"edge14\" class=\"edge\">\n",
       "<title>11&#45;&gt;12</title>\n",
       "<path fill=\"none\" stroke=\"black\" d=\"M158.81,-1831.6C151.56,-1823.03 143.05,-1812.96 135.2,-1803.69\"/>\n",
       "<polygon fill=\"black\" stroke=\"black\" points=\"137.37,-1801.83 128.24,-1796.46 132.02,-1806.35 137.37,-1801.83\"/>\n",
       "</g>\n",
       "<!-- 13 -->\n",
       "<g id=\"node14\" class=\"node\">\n",
       "<title>13</title>\n",
       "<polygon fill=\"#c1ffc1\" stroke=\"none\" points=\"263,-1715.5 90,-1715.5 90,-1671.5 263,-1671.5 263,-1715.5\"/>\n",
       "<polygon fill=\"none\" stroke=\"black\" points=\"90,-1671.5 90,-1715.5 154,-1715.5 154,-1671.5 90,-1671.5\"/>\n",
       "<text text-anchor=\"start\" x=\"95\" y=\"-1696.75\" font-family=\"Linux libertine\" font-size=\"10.00\">LayerNorm</text>\n",
       "<text text-anchor=\"start\" x=\"103.62\" y=\"-1684\" font-family=\"Linux libertine\" font-size=\"10.00\">depth:4</text>\n",
       "<polygon fill=\"none\" stroke=\"black\" points=\"154,-1693.5 154,-1715.5 201,-1715.5 201,-1693.5 154,-1693.5\"/>\n",
       "<text text-anchor=\"start\" x=\"163.62\" y=\"-1701\" font-family=\"Linux libertine\" font-size=\"10.00\">input:</text>\n",
       "<polygon fill=\"none\" stroke=\"black\" points=\"201,-1693.5 201,-1715.5 263,-1715.5 263,-1693.5 201,-1693.5\"/>\n",
       "<text text-anchor=\"start\" x=\"205.75\" y=\"-1701\" font-family=\"Linux libertine\" font-size=\"10.00\">(1, 23, 64) </text>\n",
       "<polygon fill=\"none\" stroke=\"black\" points=\"154,-1671.5 154,-1693.5 201,-1693.5 201,-1671.5 154,-1671.5\"/>\n",
       "<text text-anchor=\"start\" x=\"158.75\" y=\"-1679\" font-family=\"Linux libertine\" font-size=\"10.00\">output: </text>\n",
       "<polygon fill=\"none\" stroke=\"black\" points=\"201,-1671.5 201,-1693.5 263,-1693.5 263,-1671.5 201,-1671.5\"/>\n",
       "<text text-anchor=\"start\" x=\"205.75\" y=\"-1679\" font-family=\"Linux libertine\" font-size=\"10.00\">(1, 23, 64) </text>\n",
       "</g>\n",
       "<!-- 12&#45;&gt;13 -->\n",
       "<g id=\"edge15\" class=\"edge\">\n",
       "<title>12&#45;&gt;13</title>\n",
       "<path fill=\"none\" stroke=\"black\" d=\"M128.19,-1751.6C135.44,-1743.03 143.95,-1732.96 151.8,-1723.69\"/>\n",
       "<polygon fill=\"black\" stroke=\"black\" points=\"154.98,-1726.35 158.76,-1716.46 149.63,-1721.83 154.98,-1726.35\"/>\n",
       "</g>\n",
       "<!-- 15 -->\n",
       "<g id=\"node16\" class=\"node\">\n",
       "<title>15</title>\n",
       "<polygon fill=\"aliceblue\" stroke=\"none\" points=\"205,-1555.5 32,-1555.5 32,-1511.5 205,-1511.5 205,-1555.5\"/>\n",
       "<polygon fill=\"none\" stroke=\"black\" points=\"32,-1511.5 32,-1555.5 78,-1555.5 78,-1511.5 32,-1511.5\"/>\n",
       "<text text-anchor=\"start\" x=\"46\" y=\"-1536.75\" font-family=\"Linux libertine\" font-size=\"10.00\">add</text>\n",
       "<text text-anchor=\"start\" x=\"36.62\" y=\"-1524\" font-family=\"Linux libertine\" font-size=\"10.00\">depth:4</text>\n",
       "<polygon fill=\"none\" stroke=\"black\" points=\"78,-1533.5 78,-1555.5 125,-1555.5 125,-1533.5 78,-1533.5\"/>\n",
       "<text text-anchor=\"start\" x=\"87.62\" y=\"-1541\" font-family=\"Linux libertine\" font-size=\"10.00\">input:</text>\n",
       "<polygon fill=\"none\" stroke=\"black\" points=\"125,-1533.5 125,-1555.5 205,-1555.5 205,-1533.5 125,-1533.5\"/>\n",
       "<text text-anchor=\"start\" x=\"129.75\" y=\"-1541\" font-family=\"Linux libertine\" font-size=\"10.00\">2 x (1, 23, 64) </text>\n",
       "<polygon fill=\"none\" stroke=\"black\" points=\"78,-1511.5 78,-1533.5 125,-1533.5 125,-1511.5 78,-1511.5\"/>\n",
       "<text text-anchor=\"start\" x=\"82.75\" y=\"-1519\" font-family=\"Linux libertine\" font-size=\"10.00\">output: </text>\n",
       "<polygon fill=\"none\" stroke=\"black\" points=\"125,-1511.5 125,-1533.5 205,-1533.5 205,-1511.5 125,-1511.5\"/>\n",
       "<text text-anchor=\"start\" x=\"138.75\" y=\"-1519\" font-family=\"Linux libertine\" font-size=\"10.00\">(1, 23, 64) </text>\n",
       "</g>\n",
       "<!-- 12&#45;&gt;15 -->\n",
       "<g id=\"edge16\" class=\"edge\">\n",
       "<title>12&#45;&gt;15</title>\n",
       "<path fill=\"none\" stroke=\"black\" d=\"M97.06,-1751.68C90.97,-1741.23 84.3,-1728.14 80.5,-1715.5 64.6,-1662.61 54.11,-1643.57 72.5,-1591.5 76.05,-1581.44 82.21,-1571.86 88.89,-1563.52\"/>\n",
       "<polygon fill=\"black\" stroke=\"black\" points=\"92.09,-1566.17 95.95,-1556.3 86.78,-1561.6 92.09,-1566.17\"/>\n",
       "</g>\n",
       "<!-- 14 -->\n",
       "<g id=\"node15\" class=\"node\">\n",
       "<title>14</title>\n",
       "<polygon fill=\"#c1ffc1\" stroke=\"none\" points=\"287,-1635.5 82,-1635.5 82,-1591.5 287,-1591.5 287,-1635.5\"/>\n",
       "<polygon fill=\"none\" stroke=\"black\" points=\"82,-1591.5 82,-1635.5 128,-1635.5 128,-1591.5 82,-1591.5\"/>\n",
       "<text text-anchor=\"start\" x=\"94.12\" y=\"-1616.75\" font-family=\"Linux libertine\" font-size=\"10.00\">RNN</text>\n",
       "<text text-anchor=\"start\" x=\"86.62\" y=\"-1604\" font-family=\"Linux libertine\" font-size=\"10.00\">depth:4</text>\n",
       "<polygon fill=\"none\" stroke=\"black\" points=\"128,-1613.5 128,-1635.5 175,-1635.5 175,-1613.5 128,-1613.5\"/>\n",
       "<text text-anchor=\"start\" x=\"137.62\" y=\"-1621\" font-family=\"Linux libertine\" font-size=\"10.00\">input:</text>\n",
       "<polygon fill=\"none\" stroke=\"black\" points=\"175,-1613.5 175,-1635.5 287,-1635.5 287,-1613.5 175,-1613.5\"/>\n",
       "<text text-anchor=\"start\" x=\"204.75\" y=\"-1621\" font-family=\"Linux libertine\" font-size=\"10.00\">(1, 23, 64) </text>\n",
       "<polygon fill=\"none\" stroke=\"black\" points=\"128,-1591.5 128,-1613.5 175,-1613.5 175,-1591.5 128,-1591.5\"/>\n",
       "<text text-anchor=\"start\" x=\"132.75\" y=\"-1599\" font-family=\"Linux libertine\" font-size=\"10.00\">output: </text>\n",
       "<polygon fill=\"none\" stroke=\"black\" points=\"175,-1591.5 175,-1613.5 287,-1613.5 287,-1591.5 175,-1591.5\"/>\n",
       "<text text-anchor=\"start\" x=\"180\" y=\"-1599\" font-family=\"Linux libertine\" font-size=\"10.00\">(1, 23, 64), (2, 1, 32) </text>\n",
       "</g>\n",
       "<!-- 13&#45;&gt;14 -->\n",
       "<g id=\"edge17\" class=\"edge\">\n",
       "<title>13&#45;&gt;14</title>\n",
       "<path fill=\"none\" stroke=\"black\" d=\"M178.64,-1671.6C179.44,-1663.82 180.37,-1654.8 181.24,-1646.26\"/>\n",
       "<polygon fill=\"black\" stroke=\"black\" points=\"184.81,-1646.77 182.35,-1636.46 177.85,-1646.05 184.81,-1646.77\"/>\n",
       "</g>\n",
       "<!-- 14&#45;&gt;15 -->\n",
       "<g id=\"edge18\" class=\"edge\">\n",
       "<title>14&#45;&gt;15</title>\n",
       "<path fill=\"none\" stroke=\"black\" d=\"M166.81,-1591.6C159.56,-1583.03 151.05,-1572.96 143.2,-1563.69\"/>\n",
       "<polygon fill=\"black\" stroke=\"black\" points=\"145.37,-1561.83 136.24,-1556.46 140.02,-1566.35 145.37,-1561.83\"/>\n",
       "</g>\n",
       "<!-- 16 -->\n",
       "<g id=\"node17\" class=\"node\">\n",
       "<title>16</title>\n",
       "<polygon fill=\"aliceblue\" stroke=\"none\" points=\"207.5,-1475.5 29.5,-1475.5 29.5,-1431.5 207.5,-1431.5 207.5,-1475.5\"/>\n",
       "<polygon fill=\"none\" stroke=\"black\" points=\"29.5,-1431.5 29.5,-1475.5 98.5,-1475.5 98.5,-1431.5 29.5,-1431.5\"/>\n",
       "<text text-anchor=\"start\" x=\"34.38\" y=\"-1456.75\" font-family=\"Linux libertine\" font-size=\"10.00\">__getitem__</text>\n",
       "<text text-anchor=\"start\" x=\"45.62\" y=\"-1444\" font-family=\"Linux libertine\" font-size=\"10.00\">depth:2</text>\n",
       "<polygon fill=\"none\" stroke=\"black\" points=\"98.5,-1453.5 98.5,-1475.5 145.5,-1475.5 145.5,-1453.5 98.5,-1453.5\"/>\n",
       "<text text-anchor=\"start\" x=\"108.12\" y=\"-1461\" font-family=\"Linux libertine\" font-size=\"10.00\">input:</text>\n",
       "<polygon fill=\"none\" stroke=\"black\" points=\"145.5,-1453.5 145.5,-1475.5 207.5,-1475.5 207.5,-1453.5 145.5,-1453.5\"/>\n",
       "<text text-anchor=\"start\" x=\"150.25\" y=\"-1461\" font-family=\"Linux libertine\" font-size=\"10.00\">(1, 23, 64) </text>\n",
       "<polygon fill=\"none\" stroke=\"black\" points=\"98.5,-1431.5 98.5,-1453.5 145.5,-1453.5 145.5,-1431.5 98.5,-1431.5\"/>\n",
       "<text text-anchor=\"start\" x=\"103.25\" y=\"-1439\" font-family=\"Linux libertine\" font-size=\"10.00\">output: </text>\n",
       "<polygon fill=\"none\" stroke=\"black\" points=\"145.5,-1431.5 145.5,-1453.5 207.5,-1453.5 207.5,-1431.5 145.5,-1431.5\"/>\n",
       "<text text-anchor=\"start\" x=\"159.25\" y=\"-1439\" font-family=\"Linux libertine\" font-size=\"10.00\">(1, 64) </text>\n",
       "</g>\n",
       "<!-- 15&#45;&gt;16 -->\n",
       "<g id=\"edge19\" class=\"edge\">\n",
       "<title>15&#45;&gt;16</title>\n",
       "<path fill=\"none\" stroke=\"black\" d=\"M118.5,-1511.6C118.5,-1503.82 118.5,-1494.8 118.5,-1486.26\"/>\n",
       "<polygon fill=\"black\" stroke=\"black\" points=\"122,-1486.46 118.5,-1476.46 115,-1486.46 122,-1486.46\"/>\n",
       "</g>\n",
       "<!-- 17 -->\n",
       "<g id=\"node18\" class=\"node\">\n",
       "<title>17</title>\n",
       "<polygon fill=\"aliceblue\" stroke=\"none\" points=\"201,-1395.5 36,-1395.5 36,-1351.5 201,-1351.5 201,-1395.5\"/>\n",
       "<polygon fill=\"none\" stroke=\"black\" points=\"36,-1351.5 36,-1395.5 98,-1395.5 98,-1351.5 36,-1351.5\"/>\n",
       "<text text-anchor=\"start\" x=\"40.75\" y=\"-1376.75\" font-family=\"Linux libertine\" font-size=\"10.00\">unsqueeze</text>\n",
       "<text text-anchor=\"start\" x=\"48.62\" y=\"-1364\" font-family=\"Linux libertine\" font-size=\"10.00\">depth:2</text>\n",
       "<polygon fill=\"none\" stroke=\"black\" points=\"98,-1373.5 98,-1395.5 145,-1395.5 145,-1373.5 98,-1373.5\"/>\n",
       "<text text-anchor=\"start\" x=\"107.62\" y=\"-1381\" font-family=\"Linux libertine\" font-size=\"10.00\">input:</text>\n",
       "<polygon fill=\"none\" stroke=\"black\" points=\"145,-1373.5 145,-1395.5 201,-1395.5 201,-1373.5 145,-1373.5\"/>\n",
       "<text text-anchor=\"start\" x=\"155.75\" y=\"-1381\" font-family=\"Linux libertine\" font-size=\"10.00\">(1, 64) </text>\n",
       "<polygon fill=\"none\" stroke=\"black\" points=\"98,-1351.5 98,-1373.5 145,-1373.5 145,-1351.5 98,-1351.5\"/>\n",
       "<text text-anchor=\"start\" x=\"102.75\" y=\"-1359\" font-family=\"Linux libertine\" font-size=\"10.00\">output: </text>\n",
       "<polygon fill=\"none\" stroke=\"black\" points=\"145,-1351.5 145,-1373.5 201,-1373.5 201,-1351.5 145,-1351.5\"/>\n",
       "<text text-anchor=\"start\" x=\"149.75\" y=\"-1359\" font-family=\"Linux libertine\" font-size=\"10.00\">(1, 1, 64) </text>\n",
       "</g>\n",
       "<!-- 16&#45;&gt;17 -->\n",
       "<g id=\"edge20\" class=\"edge\">\n",
       "<title>16&#45;&gt;17</title>\n",
       "<path fill=\"none\" stroke=\"black\" d=\"M118.5,-1431.6C118.5,-1423.82 118.5,-1414.8 118.5,-1406.26\"/>\n",
       "<polygon fill=\"black\" stroke=\"black\" points=\"122,-1406.46 118.5,-1396.46 115,-1406.46 122,-1406.46\"/>\n",
       "</g>\n",
       "<!-- 18 -->\n",
       "<g id=\"node19\" class=\"node\">\n",
       "<title>18</title>\n",
       "<polygon fill=\"aliceblue\" stroke=\"none\" points=\"199,-1315.5 44,-1315.5 44,-1271.5 199,-1271.5 199,-1315.5\"/>\n",
       "<polygon fill=\"none\" stroke=\"black\" points=\"44,-1271.5 44,-1315.5 90,-1315.5 90,-1271.5 44,-1271.5\"/>\n",
       "<text text-anchor=\"start\" x=\"51.25\" y=\"-1296.75\" font-family=\"Linux libertine\" font-size=\"10.00\">repeat</text>\n",
       "<text text-anchor=\"start\" x=\"48.62\" y=\"-1284\" font-family=\"Linux libertine\" font-size=\"10.00\">depth:2</text>\n",
       "<polygon fill=\"none\" stroke=\"black\" points=\"90,-1293.5 90,-1315.5 137,-1315.5 137,-1293.5 90,-1293.5\"/>\n",
       "<text text-anchor=\"start\" x=\"99.62\" y=\"-1301\" font-family=\"Linux libertine\" font-size=\"10.00\">input:</text>\n",
       "<polygon fill=\"none\" stroke=\"black\" points=\"137,-1293.5 137,-1315.5 199,-1315.5 199,-1293.5 137,-1293.5\"/>\n",
       "<text text-anchor=\"start\" x=\"144.75\" y=\"-1301\" font-family=\"Linux libertine\" font-size=\"10.00\">(1, 1, 64) </text>\n",
       "<polygon fill=\"none\" stroke=\"black\" points=\"90,-1271.5 90,-1293.5 137,-1293.5 137,-1271.5 90,-1271.5\"/>\n",
       "<text text-anchor=\"start\" x=\"94.75\" y=\"-1279\" font-family=\"Linux libertine\" font-size=\"10.00\">output: </text>\n",
       "<polygon fill=\"none\" stroke=\"black\" points=\"137,-1271.5 137,-1293.5 199,-1293.5 199,-1271.5 137,-1271.5\"/>\n",
       "<text text-anchor=\"start\" x=\"141.75\" y=\"-1279\" font-family=\"Linux libertine\" font-size=\"10.00\">(1, 22, 64) </text>\n",
       "</g>\n",
       "<!-- 17&#45;&gt;18 -->\n",
       "<g id=\"edge22\" class=\"edge\">\n",
       "<title>17&#45;&gt;18</title>\n",
       "<path fill=\"none\" stroke=\"black\" d=\"M119.3,-1351.6C119.6,-1343.82 119.95,-1334.8 120.28,-1326.26\"/>\n",
       "<polygon fill=\"black\" stroke=\"black\" points=\"123.81,-1326.59 120.69,-1316.46 116.81,-1326.32 123.81,-1326.59\"/>\n",
       "</g>\n",
       "<!-- 21 -->\n",
       "<g id=\"node22\" class=\"node\">\n",
       "<title>21</title>\n",
       "<polygon fill=\"aliceblue\" stroke=\"none\" points=\"310,-1235.5 113,-1235.5 113,-1191.5 310,-1191.5 310,-1235.5\"/>\n",
       "<polygon fill=\"none\" stroke=\"black\" points=\"113,-1191.5 113,-1235.5 183,-1235.5 183,-1191.5 113,-1191.5\"/>\n",
       "<text text-anchor=\"start\" x=\"118\" y=\"-1216.75\" font-family=\"Linux libertine\" font-size=\"10.00\">concatenate</text>\n",
       "<text text-anchor=\"start\" x=\"129.62\" y=\"-1204\" font-family=\"Linux libertine\" font-size=\"10.00\">depth:2</text>\n",
       "<polygon fill=\"none\" stroke=\"black\" points=\"183,-1213.5 183,-1235.5 230,-1235.5 230,-1213.5 183,-1213.5\"/>\n",
       "<text text-anchor=\"start\" x=\"192.62\" y=\"-1221\" font-family=\"Linux libertine\" font-size=\"10.00\">input:</text>\n",
       "<polygon fill=\"none\" stroke=\"black\" points=\"230,-1213.5 230,-1235.5 310,-1235.5 310,-1213.5 230,-1213.5\"/>\n",
       "<text text-anchor=\"start\" x=\"234.75\" y=\"-1221\" font-family=\"Linux libertine\" font-size=\"10.00\">2 x (1, 22, 64) </text>\n",
       "<polygon fill=\"none\" stroke=\"black\" points=\"183,-1191.5 183,-1213.5 230,-1213.5 230,-1191.5 183,-1191.5\"/>\n",
       "<text text-anchor=\"start\" x=\"187.75\" y=\"-1199\" font-family=\"Linux libertine\" font-size=\"10.00\">output: </text>\n",
       "<polygon fill=\"none\" stroke=\"black\" points=\"230,-1191.5 230,-1213.5 310,-1213.5 310,-1191.5 230,-1191.5\"/>\n",
       "<text text-anchor=\"start\" x=\"240.75\" y=\"-1199\" font-family=\"Linux libertine\" font-size=\"10.00\">(1, 22, 128) </text>\n",
       "</g>\n",
       "<!-- 18&#45;&gt;21 -->\n",
       "<g id=\"edge23\" class=\"edge\">\n",
       "<title>18&#45;&gt;21</title>\n",
       "<path fill=\"none\" stroke=\"black\" d=\"M145.62,-1271.6C155.91,-1262.68 168.07,-1252.14 179.13,-1242.56\"/>\n",
       "<polygon fill=\"black\" stroke=\"black\" points=\"181.05,-1244.65 186.32,-1235.46 176.47,-1239.36 181.05,-1244.65\"/>\n",
       "</g>\n",
       "<!-- 20 -->\n",
       "<g id=\"node21\" class=\"node\">\n",
       "<title>20</title>\n",
       "<polygon fill=\"#c1ffc1\" stroke=\"none\" points=\"388.5,-1315.5 218.5,-1315.5 218.5,-1271.5 388.5,-1271.5 388.5,-1315.5\"/>\n",
       "<polygon fill=\"none\" stroke=\"black\" points=\"218.5,-1271.5 218.5,-1315.5 279.5,-1315.5 279.5,-1271.5 218.5,-1271.5\"/>\n",
       "<text text-anchor=\"start\" x=\"223.5\" y=\"-1296.75\" font-family=\"Linux libertine\" font-size=\"10.00\">Dropout1d</text>\n",
       "<text text-anchor=\"start\" x=\"230.62\" y=\"-1284\" font-family=\"Linux libertine\" font-size=\"10.00\">depth:2</text>\n",
       "<polygon fill=\"none\" stroke=\"black\" points=\"279.5,-1293.5 279.5,-1315.5 326.5,-1315.5 326.5,-1293.5 279.5,-1293.5\"/>\n",
       "<text text-anchor=\"start\" x=\"289.12\" y=\"-1301\" font-family=\"Linux libertine\" font-size=\"10.00\">input:</text>\n",
       "<polygon fill=\"none\" stroke=\"black\" points=\"326.5,-1293.5 326.5,-1315.5 388.5,-1315.5 388.5,-1293.5 326.5,-1293.5\"/>\n",
       "<text text-anchor=\"start\" x=\"331.25\" y=\"-1301\" font-family=\"Linux libertine\" font-size=\"10.00\">(1, 22, 64) </text>\n",
       "<polygon fill=\"none\" stroke=\"black\" points=\"279.5,-1271.5 279.5,-1293.5 326.5,-1293.5 326.5,-1271.5 279.5,-1271.5\"/>\n",
       "<text text-anchor=\"start\" x=\"284.25\" y=\"-1279\" font-family=\"Linux libertine\" font-size=\"10.00\">output: </text>\n",
       "<polygon fill=\"none\" stroke=\"black\" points=\"326.5,-1271.5 326.5,-1293.5 388.5,-1293.5 388.5,-1271.5 326.5,-1271.5\"/>\n",
       "<text text-anchor=\"start\" x=\"331.25\" y=\"-1279\" font-family=\"Linux libertine\" font-size=\"10.00\">(1, 22, 64) </text>\n",
       "</g>\n",
       "<!-- 19&#45;&gt;20 -->\n",
       "<g id=\"edge24\" class=\"edge\">\n",
       "<title>19&#45;&gt;20</title>\n",
       "<path fill=\"none\" stroke=\"black\" d=\"M304.96,-1351.6C304.76,-1343.82 304.53,-1334.8 304.31,-1326.26\"/>\n",
       "<polygon fill=\"black\" stroke=\"black\" points=\"307.79,-1326.37 304.04,-1316.46 300.8,-1326.55 307.79,-1326.37\"/>\n",
       "</g>\n",
       "<!-- 20&#45;&gt;21 -->\n",
       "<g id=\"edge25\" class=\"edge\">\n",
       "<title>20&#45;&gt;21</title>\n",
       "<path fill=\"none\" stroke=\"black\" d=\"M278.85,-1271.6C268.33,-1262.68 255.89,-1252.14 244.59,-1242.56\"/>\n",
       "<polygon fill=\"black\" stroke=\"black\" points=\"247.11,-1239.26 237.22,-1235.46 242.59,-1244.6 247.11,-1239.26\"/>\n",
       "</g>\n",
       "<!-- 22 -->\n",
       "<g id=\"node23\" class=\"node\">\n",
       "<title>22</title>\n",
       "<polygon fill=\"#c1ffc1\" stroke=\"none\" points=\"292,-1155.5 131,-1155.5 131,-1111.5 292,-1111.5 292,-1155.5\"/>\n",
       "<polygon fill=\"none\" stroke=\"black\" points=\"131,-1111.5 131,-1155.5 177,-1155.5 177,-1111.5 131,-1111.5\"/>\n",
       "<text text-anchor=\"start\" x=\"139\" y=\"-1136.75\" font-family=\"Linux libertine\" font-size=\"10.00\">Linear</text>\n",
       "<text text-anchor=\"start\" x=\"135.62\" y=\"-1124\" font-family=\"Linux libertine\" font-size=\"10.00\">depth:2</text>\n",
       "<polygon fill=\"none\" stroke=\"black\" points=\"177,-1133.5 177,-1155.5 224,-1155.5 224,-1133.5 177,-1133.5\"/>\n",
       "<text text-anchor=\"start\" x=\"186.62\" y=\"-1141\" font-family=\"Linux libertine\" font-size=\"10.00\">input:</text>\n",
       "<polygon fill=\"none\" stroke=\"black\" points=\"224,-1133.5 224,-1155.5 292,-1155.5 292,-1133.5 224,-1133.5\"/>\n",
       "<text text-anchor=\"start\" x=\"228.75\" y=\"-1141\" font-family=\"Linux libertine\" font-size=\"10.00\">(1, 22, 128) </text>\n",
       "<polygon fill=\"none\" stroke=\"black\" points=\"177,-1111.5 177,-1133.5 224,-1133.5 224,-1111.5 177,-1111.5\"/>\n",
       "<text text-anchor=\"start\" x=\"181.75\" y=\"-1119\" font-family=\"Linux libertine\" font-size=\"10.00\">output: </text>\n",
       "<polygon fill=\"none\" stroke=\"black\" points=\"224,-1111.5 224,-1133.5 292,-1133.5 292,-1111.5 224,-1111.5\"/>\n",
       "<text text-anchor=\"start\" x=\"231.75\" y=\"-1119\" font-family=\"Linux libertine\" font-size=\"10.00\">(1, 22, 64) </text>\n",
       "</g>\n",
       "<!-- 21&#45;&gt;22 -->\n",
       "<g id=\"edge26\" class=\"edge\">\n",
       "<title>21&#45;&gt;22</title>\n",
       "<path fill=\"none\" stroke=\"black\" d=\"M211.5,-1191.6C211.5,-1183.82 211.5,-1174.8 211.5,-1166.26\"/>\n",
       "<polygon fill=\"black\" stroke=\"black\" points=\"215,-1166.46 211.5,-1156.46 208,-1166.46 215,-1166.46\"/>\n",
       "</g>\n",
       "<!-- 23 -->\n",
       "<g id=\"node24\" class=\"node\">\n",
       "<title>23</title>\n",
       "<polygon fill=\"#c1ffc1\" stroke=\"none\" points=\"364,-1075.5 191,-1075.5 191,-1031.5 364,-1031.5 364,-1075.5\"/>\n",
       "<polygon fill=\"none\" stroke=\"black\" points=\"191,-1031.5 191,-1075.5 255,-1075.5 255,-1031.5 191,-1031.5\"/>\n",
       "<text text-anchor=\"start\" x=\"196\" y=\"-1056.75\" font-family=\"Linux libertine\" font-size=\"10.00\">LayerNorm</text>\n",
       "<text text-anchor=\"start\" x=\"204.62\" y=\"-1044\" font-family=\"Linux libertine\" font-size=\"10.00\">depth:4</text>\n",
       "<polygon fill=\"none\" stroke=\"black\" points=\"255,-1053.5 255,-1075.5 302,-1075.5 302,-1053.5 255,-1053.5\"/>\n",
       "<text text-anchor=\"start\" x=\"264.62\" y=\"-1061\" font-family=\"Linux libertine\" font-size=\"10.00\">input:</text>\n",
       "<polygon fill=\"none\" stroke=\"black\" points=\"302,-1053.5 302,-1075.5 364,-1075.5 364,-1053.5 302,-1053.5\"/>\n",
       "<text text-anchor=\"start\" x=\"306.75\" y=\"-1061\" font-family=\"Linux libertine\" font-size=\"10.00\">(1, 22, 64) </text>\n",
       "<polygon fill=\"none\" stroke=\"black\" points=\"255,-1031.5 255,-1053.5 302,-1053.5 302,-1031.5 255,-1031.5\"/>\n",
       "<text text-anchor=\"start\" x=\"259.75\" y=\"-1039\" font-family=\"Linux libertine\" font-size=\"10.00\">output: </text>\n",
       "<polygon fill=\"none\" stroke=\"black\" points=\"302,-1031.5 302,-1053.5 364,-1053.5 364,-1031.5 302,-1031.5\"/>\n",
       "<text text-anchor=\"start\" x=\"306.75\" y=\"-1039\" font-family=\"Linux libertine\" font-size=\"10.00\">(1, 22, 64) </text>\n",
       "</g>\n",
       "<!-- 22&#45;&gt;23 -->\n",
       "<g id=\"edge27\" class=\"edge\">\n",
       "<title>22&#45;&gt;23</title>\n",
       "<path fill=\"none\" stroke=\"black\" d=\"M229.19,-1111.6C236.44,-1103.03 244.95,-1092.96 252.8,-1083.69\"/>\n",
       "<polygon fill=\"black\" stroke=\"black\" points=\"255.98,-1086.35 259.76,-1076.46 250.63,-1081.83 255.98,-1086.35\"/>\n",
       "</g>\n",
       "<!-- 25 -->\n",
       "<g id=\"node26\" class=\"node\">\n",
       "<title>25</title>\n",
       "<polygon fill=\"aliceblue\" stroke=\"none\" points=\"306,-915.5 133,-915.5 133,-871.5 306,-871.5 306,-915.5\"/>\n",
       "<polygon fill=\"none\" stroke=\"black\" points=\"133,-871.5 133,-915.5 179,-915.5 179,-871.5 133,-871.5\"/>\n",
       "<text text-anchor=\"start\" x=\"147\" y=\"-896.75\" font-family=\"Linux libertine\" font-size=\"10.00\">add</text>\n",
       "<text text-anchor=\"start\" x=\"137.62\" y=\"-884\" font-family=\"Linux libertine\" font-size=\"10.00\">depth:4</text>\n",
       "<polygon fill=\"none\" stroke=\"black\" points=\"179,-893.5 179,-915.5 226,-915.5 226,-893.5 179,-893.5\"/>\n",
       "<text text-anchor=\"start\" x=\"188.62\" y=\"-901\" font-family=\"Linux libertine\" font-size=\"10.00\">input:</text>\n",
       "<polygon fill=\"none\" stroke=\"black\" points=\"226,-893.5 226,-915.5 306,-915.5 306,-893.5 226,-893.5\"/>\n",
       "<text text-anchor=\"start\" x=\"230.75\" y=\"-901\" font-family=\"Linux libertine\" font-size=\"10.00\">2 x (1, 22, 64) </text>\n",
       "<polygon fill=\"none\" stroke=\"black\" points=\"179,-871.5 179,-893.5 226,-893.5 226,-871.5 179,-871.5\"/>\n",
       "<text text-anchor=\"start\" x=\"183.75\" y=\"-879\" font-family=\"Linux libertine\" font-size=\"10.00\">output: </text>\n",
       "<polygon fill=\"none\" stroke=\"black\" points=\"226,-871.5 226,-893.5 306,-893.5 306,-871.5 226,-871.5\"/>\n",
       "<text text-anchor=\"start\" x=\"239.75\" y=\"-879\" font-family=\"Linux libertine\" font-size=\"10.00\">(1, 22, 64) </text>\n",
       "</g>\n",
       "<!-- 22&#45;&gt;25 -->\n",
       "<g id=\"edge28\" class=\"edge\">\n",
       "<title>22&#45;&gt;25</title>\n",
       "<path fill=\"none\" stroke=\"black\" d=\"M198.06,-1111.68C191.97,-1101.23 185.3,-1088.14 181.5,-1075.5 165.6,-1022.61 155.11,-1003.57 173.5,-951.5 177.05,-941.44 183.21,-931.86 189.89,-923.52\"/>\n",
       "<polygon fill=\"black\" stroke=\"black\" points=\"193.09,-926.17 196.95,-916.3 187.78,-921.6 193.09,-926.17\"/>\n",
       "</g>\n",
       "<!-- 24 -->\n",
       "<g id=\"node25\" class=\"node\">\n",
       "<title>24</title>\n",
       "<polygon fill=\"#c1ffc1\" stroke=\"none\" points=\"388,-995.5 183,-995.5 183,-951.5 388,-951.5 388,-995.5\"/>\n",
       "<polygon fill=\"none\" stroke=\"black\" points=\"183,-951.5 183,-995.5 229,-995.5 229,-951.5 183,-951.5\"/>\n",
       "<text text-anchor=\"start\" x=\"195.12\" y=\"-976.75\" font-family=\"Linux libertine\" font-size=\"10.00\">RNN</text>\n",
       "<text text-anchor=\"start\" x=\"187.62\" y=\"-964\" font-family=\"Linux libertine\" font-size=\"10.00\">depth:4</text>\n",
       "<polygon fill=\"none\" stroke=\"black\" points=\"229,-973.5 229,-995.5 276,-995.5 276,-973.5 229,-973.5\"/>\n",
       "<text text-anchor=\"start\" x=\"238.62\" y=\"-981\" font-family=\"Linux libertine\" font-size=\"10.00\">input:</text>\n",
       "<polygon fill=\"none\" stroke=\"black\" points=\"276,-973.5 276,-995.5 388,-995.5 388,-973.5 276,-973.5\"/>\n",
       "<text text-anchor=\"start\" x=\"305.75\" y=\"-981\" font-family=\"Linux libertine\" font-size=\"10.00\">(1, 22, 64) </text>\n",
       "<polygon fill=\"none\" stroke=\"black\" points=\"229,-951.5 229,-973.5 276,-973.5 276,-951.5 229,-951.5\"/>\n",
       "<text text-anchor=\"start\" x=\"233.75\" y=\"-959\" font-family=\"Linux libertine\" font-size=\"10.00\">output: </text>\n",
       "<polygon fill=\"none\" stroke=\"black\" points=\"276,-951.5 276,-973.5 388,-973.5 388,-951.5 276,-951.5\"/>\n",
       "<text text-anchor=\"start\" x=\"281\" y=\"-959\" font-family=\"Linux libertine\" font-size=\"10.00\">(1, 22, 64), (1, 1, 64) </text>\n",
       "</g>\n",
       "<!-- 23&#45;&gt;24 -->\n",
       "<g id=\"edge29\" class=\"edge\">\n",
       "<title>23&#45;&gt;24</title>\n",
       "<path fill=\"none\" stroke=\"black\" d=\"M279.64,-1031.6C280.44,-1023.82 281.37,-1014.8 282.24,-1006.26\"/>\n",
       "<polygon fill=\"black\" stroke=\"black\" points=\"285.81,-1006.77 283.35,-996.46 278.85,-1006.05 285.81,-1006.77\"/>\n",
       "</g>\n",
       "<!-- 24&#45;&gt;25 -->\n",
       "<g id=\"edge30\" class=\"edge\">\n",
       "<title>24&#45;&gt;25</title>\n",
       "<path fill=\"none\" stroke=\"black\" d=\"M267.81,-951.6C260.56,-943.03 252.05,-932.96 244.2,-923.69\"/>\n",
       "<polygon fill=\"black\" stroke=\"black\" points=\"246.37,-921.83 237.24,-916.46 241.02,-926.35 246.37,-921.83\"/>\n",
       "</g>\n",
       "<!-- 26 -->\n",
       "<g id=\"node27\" class=\"node\">\n",
       "<title>26</title>\n",
       "<polygon fill=\"#c1ffc1\" stroke=\"none\" points=\"372,-835.5 199,-835.5 199,-791.5 372,-791.5 372,-835.5\"/>\n",
       "<polygon fill=\"none\" stroke=\"black\" points=\"199,-791.5 199,-835.5 263,-835.5 263,-791.5 199,-791.5\"/>\n",
       "<text text-anchor=\"start\" x=\"204\" y=\"-816.75\" font-family=\"Linux libertine\" font-size=\"10.00\">LayerNorm</text>\n",
       "<text text-anchor=\"start\" x=\"212.62\" y=\"-804\" font-family=\"Linux libertine\" font-size=\"10.00\">depth:4</text>\n",
       "<polygon fill=\"none\" stroke=\"black\" points=\"263,-813.5 263,-835.5 310,-835.5 310,-813.5 263,-813.5\"/>\n",
       "<text text-anchor=\"start\" x=\"272.62\" y=\"-821\" font-family=\"Linux libertine\" font-size=\"10.00\">input:</text>\n",
       "<polygon fill=\"none\" stroke=\"black\" points=\"310,-813.5 310,-835.5 372,-835.5 372,-813.5 310,-813.5\"/>\n",
       "<text text-anchor=\"start\" x=\"314.75\" y=\"-821\" font-family=\"Linux libertine\" font-size=\"10.00\">(1, 22, 64) </text>\n",
       "<polygon fill=\"none\" stroke=\"black\" points=\"263,-791.5 263,-813.5 310,-813.5 310,-791.5 263,-791.5\"/>\n",
       "<text text-anchor=\"start\" x=\"267.75\" y=\"-799\" font-family=\"Linux libertine\" font-size=\"10.00\">output: </text>\n",
       "<polygon fill=\"none\" stroke=\"black\" points=\"310,-791.5 310,-813.5 372,-813.5 372,-791.5 310,-791.5\"/>\n",
       "<text text-anchor=\"start\" x=\"314.75\" y=\"-799\" font-family=\"Linux libertine\" font-size=\"10.00\">(1, 22, 64) </text>\n",
       "</g>\n",
       "<!-- 25&#45;&gt;26 -->\n",
       "<g id=\"edge31\" class=\"edge\">\n",
       "<title>25&#45;&gt;26</title>\n",
       "<path fill=\"none\" stroke=\"black\" d=\"M237.19,-871.6C244.44,-863.03 252.95,-852.96 260.8,-843.69\"/>\n",
       "<polygon fill=\"black\" stroke=\"black\" points=\"263.98,-846.35 267.76,-836.46 258.63,-841.83 263.98,-846.35\"/>\n",
       "</g>\n",
       "<!-- 28 -->\n",
       "<g id=\"node29\" class=\"node\">\n",
       "<title>28</title>\n",
       "<polygon fill=\"aliceblue\" stroke=\"none\" points=\"314,-675.5 141,-675.5 141,-631.5 314,-631.5 314,-675.5\"/>\n",
       "<polygon fill=\"none\" stroke=\"black\" points=\"141,-631.5 141,-675.5 187,-675.5 187,-631.5 141,-631.5\"/>\n",
       "<text text-anchor=\"start\" x=\"155\" y=\"-656.75\" font-family=\"Linux libertine\" font-size=\"10.00\">add</text>\n",
       "<text text-anchor=\"start\" x=\"145.62\" y=\"-644\" font-family=\"Linux libertine\" font-size=\"10.00\">depth:4</text>\n",
       "<polygon fill=\"none\" stroke=\"black\" points=\"187,-653.5 187,-675.5 234,-675.5 234,-653.5 187,-653.5\"/>\n",
       "<text text-anchor=\"start\" x=\"196.62\" y=\"-661\" font-family=\"Linux libertine\" font-size=\"10.00\">input:</text>\n",
       "<polygon fill=\"none\" stroke=\"black\" points=\"234,-653.5 234,-675.5 314,-675.5 314,-653.5 234,-653.5\"/>\n",
       "<text text-anchor=\"start\" x=\"238.75\" y=\"-661\" font-family=\"Linux libertine\" font-size=\"10.00\">2 x (1, 22, 64) </text>\n",
       "<polygon fill=\"none\" stroke=\"black\" points=\"187,-631.5 187,-653.5 234,-653.5 234,-631.5 187,-631.5\"/>\n",
       "<text text-anchor=\"start\" x=\"191.75\" y=\"-639\" font-family=\"Linux libertine\" font-size=\"10.00\">output: </text>\n",
       "<polygon fill=\"none\" stroke=\"black\" points=\"234,-631.5 234,-653.5 314,-653.5 314,-631.5 234,-631.5\"/>\n",
       "<text text-anchor=\"start\" x=\"247.75\" y=\"-639\" font-family=\"Linux libertine\" font-size=\"10.00\">(1, 22, 64) </text>\n",
       "</g>\n",
       "<!-- 25&#45;&gt;28 -->\n",
       "<g id=\"edge32\" class=\"edge\">\n",
       "<title>25&#45;&gt;28</title>\n",
       "<path fill=\"none\" stroke=\"black\" d=\"M206.06,-871.68C199.97,-861.23 193.3,-848.14 189.5,-835.5 173.6,-782.61 163.11,-763.57 181.5,-711.5 185.05,-701.44 191.21,-691.86 197.89,-683.52\"/>\n",
       "<polygon fill=\"black\" stroke=\"black\" points=\"201.09,-686.17 204.95,-676.3 195.78,-681.6 201.09,-686.17\"/>\n",
       "</g>\n",
       "<!-- 27 -->\n",
       "<g id=\"node28\" class=\"node\">\n",
       "<title>27</title>\n",
       "<polygon fill=\"#c1ffc1\" stroke=\"none\" points=\"396,-755.5 191,-755.5 191,-711.5 396,-711.5 396,-755.5\"/>\n",
       "<polygon fill=\"none\" stroke=\"black\" points=\"191,-711.5 191,-755.5 237,-755.5 237,-711.5 191,-711.5\"/>\n",
       "<text text-anchor=\"start\" x=\"203.12\" y=\"-736.75\" font-family=\"Linux libertine\" font-size=\"10.00\">RNN</text>\n",
       "<text text-anchor=\"start\" x=\"195.62\" y=\"-724\" font-family=\"Linux libertine\" font-size=\"10.00\">depth:4</text>\n",
       "<polygon fill=\"none\" stroke=\"black\" points=\"237,-733.5 237,-755.5 284,-755.5 284,-733.5 237,-733.5\"/>\n",
       "<text text-anchor=\"start\" x=\"246.62\" y=\"-741\" font-family=\"Linux libertine\" font-size=\"10.00\">input:</text>\n",
       "<polygon fill=\"none\" stroke=\"black\" points=\"284,-733.5 284,-755.5 396,-755.5 396,-733.5 284,-733.5\"/>\n",
       "<text text-anchor=\"start\" x=\"313.75\" y=\"-741\" font-family=\"Linux libertine\" font-size=\"10.00\">(1, 22, 64) </text>\n",
       "<polygon fill=\"none\" stroke=\"black\" points=\"237,-711.5 237,-733.5 284,-733.5 284,-711.5 237,-711.5\"/>\n",
       "<text text-anchor=\"start\" x=\"241.75\" y=\"-719\" font-family=\"Linux libertine\" font-size=\"10.00\">output: </text>\n",
       "<polygon fill=\"none\" stroke=\"black\" points=\"284,-711.5 284,-733.5 396,-733.5 396,-711.5 284,-711.5\"/>\n",
       "<text text-anchor=\"start\" x=\"289\" y=\"-719\" font-family=\"Linux libertine\" font-size=\"10.00\">(1, 22, 64), (1, 1, 64) </text>\n",
       "</g>\n",
       "<!-- 26&#45;&gt;27 -->\n",
       "<g id=\"edge33\" class=\"edge\">\n",
       "<title>26&#45;&gt;27</title>\n",
       "<path fill=\"none\" stroke=\"black\" d=\"M287.64,-791.6C288.44,-783.82 289.37,-774.8 290.24,-766.26\"/>\n",
       "<polygon fill=\"black\" stroke=\"black\" points=\"293.81,-766.77 291.35,-756.46 286.85,-766.05 293.81,-766.77\"/>\n",
       "</g>\n",
       "<!-- 27&#45;&gt;28 -->\n",
       "<g id=\"edge34\" class=\"edge\">\n",
       "<title>27&#45;&gt;28</title>\n",
       "<path fill=\"none\" stroke=\"black\" d=\"M275.81,-711.6C268.56,-703.03 260.05,-692.96 252.2,-683.69\"/>\n",
       "<polygon fill=\"black\" stroke=\"black\" points=\"254.37,-681.83 245.24,-676.46 249.02,-686.35 254.37,-681.83\"/>\n",
       "</g>\n",
       "<!-- 29 -->\n",
       "<g id=\"node30\" class=\"node\">\n",
       "<title>29</title>\n",
       "<polygon fill=\"#c1ffc1\" stroke=\"none\" points=\"380,-595.5 207,-595.5 207,-551.5 380,-551.5 380,-595.5\"/>\n",
       "<polygon fill=\"none\" stroke=\"black\" points=\"207,-551.5 207,-595.5 271,-595.5 271,-551.5 207,-551.5\"/>\n",
       "<text text-anchor=\"start\" x=\"212\" y=\"-576.75\" font-family=\"Linux libertine\" font-size=\"10.00\">LayerNorm</text>\n",
       "<text text-anchor=\"start\" x=\"220.62\" y=\"-564\" font-family=\"Linux libertine\" font-size=\"10.00\">depth:4</text>\n",
       "<polygon fill=\"none\" stroke=\"black\" points=\"271,-573.5 271,-595.5 318,-595.5 318,-573.5 271,-573.5\"/>\n",
       "<text text-anchor=\"start\" x=\"280.62\" y=\"-581\" font-family=\"Linux libertine\" font-size=\"10.00\">input:</text>\n",
       "<polygon fill=\"none\" stroke=\"black\" points=\"318,-573.5 318,-595.5 380,-595.5 380,-573.5 318,-573.5\"/>\n",
       "<text text-anchor=\"start\" x=\"322.75\" y=\"-581\" font-family=\"Linux libertine\" font-size=\"10.00\">(1, 22, 64) </text>\n",
       "<polygon fill=\"none\" stroke=\"black\" points=\"271,-551.5 271,-573.5 318,-573.5 318,-551.5 271,-551.5\"/>\n",
       "<text text-anchor=\"start\" x=\"275.75\" y=\"-559\" font-family=\"Linux libertine\" font-size=\"10.00\">output: </text>\n",
       "<polygon fill=\"none\" stroke=\"black\" points=\"318,-551.5 318,-573.5 380,-573.5 380,-551.5 318,-551.5\"/>\n",
       "<text text-anchor=\"start\" x=\"322.75\" y=\"-559\" font-family=\"Linux libertine\" font-size=\"10.00\">(1, 22, 64) </text>\n",
       "</g>\n",
       "<!-- 28&#45;&gt;29 -->\n",
       "<g id=\"edge35\" class=\"edge\">\n",
       "<title>28&#45;&gt;29</title>\n",
       "<path fill=\"none\" stroke=\"black\" d=\"M245.19,-631.6C252.44,-623.03 260.95,-612.96 268.8,-603.69\"/>\n",
       "<polygon fill=\"black\" stroke=\"black\" points=\"271.98,-606.35 275.76,-596.46 266.63,-601.83 271.98,-606.35\"/>\n",
       "</g>\n",
       "<!-- 31 -->\n",
       "<g id=\"node32\" class=\"node\">\n",
       "<title>31</title>\n",
       "<polygon fill=\"aliceblue\" stroke=\"none\" points=\"322,-435.5 149,-435.5 149,-391.5 322,-391.5 322,-435.5\"/>\n",
       "<polygon fill=\"none\" stroke=\"black\" points=\"149,-391.5 149,-435.5 195,-435.5 195,-391.5 149,-391.5\"/>\n",
       "<text text-anchor=\"start\" x=\"163\" y=\"-416.75\" font-family=\"Linux libertine\" font-size=\"10.00\">add</text>\n",
       "<text text-anchor=\"start\" x=\"153.62\" y=\"-404\" font-family=\"Linux libertine\" font-size=\"10.00\">depth:4</text>\n",
       "<polygon fill=\"none\" stroke=\"black\" points=\"195,-413.5 195,-435.5 242,-435.5 242,-413.5 195,-413.5\"/>\n",
       "<text text-anchor=\"start\" x=\"204.62\" y=\"-421\" font-family=\"Linux libertine\" font-size=\"10.00\">input:</text>\n",
       "<polygon fill=\"none\" stroke=\"black\" points=\"242,-413.5 242,-435.5 322,-435.5 322,-413.5 242,-413.5\"/>\n",
       "<text text-anchor=\"start\" x=\"246.75\" y=\"-421\" font-family=\"Linux libertine\" font-size=\"10.00\">2 x (1, 22, 64) </text>\n",
       "<polygon fill=\"none\" stroke=\"black\" points=\"195,-391.5 195,-413.5 242,-413.5 242,-391.5 195,-391.5\"/>\n",
       "<text text-anchor=\"start\" x=\"199.75\" y=\"-399\" font-family=\"Linux libertine\" font-size=\"10.00\">output: </text>\n",
       "<polygon fill=\"none\" stroke=\"black\" points=\"242,-391.5 242,-413.5 322,-413.5 322,-391.5 242,-391.5\"/>\n",
       "<text text-anchor=\"start\" x=\"255.75\" y=\"-399\" font-family=\"Linux libertine\" font-size=\"10.00\">(1, 22, 64) </text>\n",
       "</g>\n",
       "<!-- 28&#45;&gt;31 -->\n",
       "<g id=\"edge36\" class=\"edge\">\n",
       "<title>28&#45;&gt;31</title>\n",
       "<path fill=\"none\" stroke=\"black\" d=\"M214.58,-631.61C208.72,-621.14 202.26,-608.05 198.5,-595.5 182.63,-542.57 171.1,-523.6 189.5,-471.5 193.05,-461.44 199.21,-451.86 205.89,-443.52\"/>\n",
       "<polygon fill=\"black\" stroke=\"black\" points=\"209.09,-446.17 212.95,-436.3 203.78,-441.6 209.09,-446.17\"/>\n",
       "</g>\n",
       "<!-- 30 -->\n",
       "<g id=\"node31\" class=\"node\">\n",
       "<title>30</title>\n",
       "<polygon fill=\"#c1ffc1\" stroke=\"none\" points=\"404,-515.5 199,-515.5 199,-471.5 404,-471.5 404,-515.5\"/>\n",
       "<polygon fill=\"none\" stroke=\"black\" points=\"199,-471.5 199,-515.5 245,-515.5 245,-471.5 199,-471.5\"/>\n",
       "<text text-anchor=\"start\" x=\"211.12\" y=\"-496.75\" font-family=\"Linux libertine\" font-size=\"10.00\">RNN</text>\n",
       "<text text-anchor=\"start\" x=\"203.62\" y=\"-484\" font-family=\"Linux libertine\" font-size=\"10.00\">depth:4</text>\n",
       "<polygon fill=\"none\" stroke=\"black\" points=\"245,-493.5 245,-515.5 292,-515.5 292,-493.5 245,-493.5\"/>\n",
       "<text text-anchor=\"start\" x=\"254.62\" y=\"-501\" font-family=\"Linux libertine\" font-size=\"10.00\">input:</text>\n",
       "<polygon fill=\"none\" stroke=\"black\" points=\"292,-493.5 292,-515.5 404,-515.5 404,-493.5 292,-493.5\"/>\n",
       "<text text-anchor=\"start\" x=\"321.75\" y=\"-501\" font-family=\"Linux libertine\" font-size=\"10.00\">(1, 22, 64) </text>\n",
       "<polygon fill=\"none\" stroke=\"black\" points=\"245,-471.5 245,-493.5 292,-493.5 292,-471.5 245,-471.5\"/>\n",
       "<text text-anchor=\"start\" x=\"249.75\" y=\"-479\" font-family=\"Linux libertine\" font-size=\"10.00\">output: </text>\n",
       "<polygon fill=\"none\" stroke=\"black\" points=\"292,-471.5 292,-493.5 404,-493.5 404,-471.5 292,-471.5\"/>\n",
       "<text text-anchor=\"start\" x=\"297\" y=\"-479\" font-family=\"Linux libertine\" font-size=\"10.00\">(1, 22, 64), (1, 1, 64) </text>\n",
       "</g>\n",
       "<!-- 29&#45;&gt;30 -->\n",
       "<g id=\"edge37\" class=\"edge\">\n",
       "<title>29&#45;&gt;30</title>\n",
       "<path fill=\"none\" stroke=\"black\" d=\"M295.64,-551.6C296.44,-543.82 297.37,-534.8 298.24,-526.26\"/>\n",
       "<polygon fill=\"black\" stroke=\"black\" points=\"301.81,-526.77 299.35,-516.46 294.85,-526.05 301.81,-526.77\"/>\n",
       "</g>\n",
       "<!-- 30&#45;&gt;31 -->\n",
       "<g id=\"edge38\" class=\"edge\">\n",
       "<title>30&#45;&gt;31</title>\n",
       "<path fill=\"none\" stroke=\"black\" d=\"M283.81,-471.6C276.56,-463.03 268.05,-452.96 260.2,-443.69\"/>\n",
       "<polygon fill=\"black\" stroke=\"black\" points=\"262.37,-441.83 253.24,-436.46 257.02,-446.35 262.37,-441.83\"/>\n",
       "</g>\n",
       "<!-- 32 -->\n",
       "<g id=\"node33\" class=\"node\">\n",
       "<title>32</title>\n",
       "<polygon fill=\"#c1ffc1\" stroke=\"none\" points=\"388,-355.5 215,-355.5 215,-311.5 388,-311.5 388,-355.5\"/>\n",
       "<polygon fill=\"none\" stroke=\"black\" points=\"215,-311.5 215,-355.5 279,-355.5 279,-311.5 215,-311.5\"/>\n",
       "<text text-anchor=\"start\" x=\"220\" y=\"-336.75\" font-family=\"Linux libertine\" font-size=\"10.00\">LayerNorm</text>\n",
       "<text text-anchor=\"start\" x=\"228.62\" y=\"-324\" font-family=\"Linux libertine\" font-size=\"10.00\">depth:4</text>\n",
       "<polygon fill=\"none\" stroke=\"black\" points=\"279,-333.5 279,-355.5 326,-355.5 326,-333.5 279,-333.5\"/>\n",
       "<text text-anchor=\"start\" x=\"288.62\" y=\"-341\" font-family=\"Linux libertine\" font-size=\"10.00\">input:</text>\n",
       "<polygon fill=\"none\" stroke=\"black\" points=\"326,-333.5 326,-355.5 388,-355.5 388,-333.5 326,-333.5\"/>\n",
       "<text text-anchor=\"start\" x=\"330.75\" y=\"-341\" font-family=\"Linux libertine\" font-size=\"10.00\">(1, 22, 64) </text>\n",
       "<polygon fill=\"none\" stroke=\"black\" points=\"279,-311.5 279,-333.5 326,-333.5 326,-311.5 279,-311.5\"/>\n",
       "<text text-anchor=\"start\" x=\"283.75\" y=\"-319\" font-family=\"Linux libertine\" font-size=\"10.00\">output: </text>\n",
       "<polygon fill=\"none\" stroke=\"black\" points=\"326,-311.5 326,-333.5 388,-333.5 388,-311.5 326,-311.5\"/>\n",
       "<text text-anchor=\"start\" x=\"330.75\" y=\"-319\" font-family=\"Linux libertine\" font-size=\"10.00\">(1, 22, 64) </text>\n",
       "</g>\n",
       "<!-- 31&#45;&gt;32 -->\n",
       "<g id=\"edge39\" class=\"edge\">\n",
       "<title>31&#45;&gt;32</title>\n",
       "<path fill=\"none\" stroke=\"black\" d=\"M253.19,-391.6C260.44,-383.03 268.95,-372.96 276.8,-363.69\"/>\n",
       "<polygon fill=\"black\" stroke=\"black\" points=\"279.98,-366.35 283.76,-356.46 274.63,-361.83 279.98,-366.35\"/>\n",
       "</g>\n",
       "<!-- 34 -->\n",
       "<g id=\"node35\" class=\"node\">\n",
       "<title>34</title>\n",
       "<polygon fill=\"aliceblue\" stroke=\"none\" points=\"330,-195.5 157,-195.5 157,-151.5 330,-151.5 330,-195.5\"/>\n",
       "<polygon fill=\"none\" stroke=\"black\" points=\"157,-151.5 157,-195.5 203,-195.5 203,-151.5 157,-151.5\"/>\n",
       "<text text-anchor=\"start\" x=\"171\" y=\"-176.75\" font-family=\"Linux libertine\" font-size=\"10.00\">add</text>\n",
       "<text text-anchor=\"start\" x=\"161.62\" y=\"-164\" font-family=\"Linux libertine\" font-size=\"10.00\">depth:4</text>\n",
       "<polygon fill=\"none\" stroke=\"black\" points=\"203,-173.5 203,-195.5 250,-195.5 250,-173.5 203,-173.5\"/>\n",
       "<text text-anchor=\"start\" x=\"212.62\" y=\"-181\" font-family=\"Linux libertine\" font-size=\"10.00\">input:</text>\n",
       "<polygon fill=\"none\" stroke=\"black\" points=\"250,-173.5 250,-195.5 330,-195.5 330,-173.5 250,-173.5\"/>\n",
       "<text text-anchor=\"start\" x=\"254.75\" y=\"-181\" font-family=\"Linux libertine\" font-size=\"10.00\">2 x (1, 22, 64) </text>\n",
       "<polygon fill=\"none\" stroke=\"black\" points=\"203,-151.5 203,-173.5 250,-173.5 250,-151.5 203,-151.5\"/>\n",
       "<text text-anchor=\"start\" x=\"207.75\" y=\"-159\" font-family=\"Linux libertine\" font-size=\"10.00\">output: </text>\n",
       "<polygon fill=\"none\" stroke=\"black\" points=\"250,-151.5 250,-173.5 330,-173.5 330,-151.5 250,-151.5\"/>\n",
       "<text text-anchor=\"start\" x=\"263.75\" y=\"-159\" font-family=\"Linux libertine\" font-size=\"10.00\">(1, 22, 64) </text>\n",
       "</g>\n",
       "<!-- 31&#45;&gt;34 -->\n",
       "<g id=\"edge40\" class=\"edge\">\n",
       "<title>31&#45;&gt;34</title>\n",
       "<path fill=\"none\" stroke=\"black\" d=\"M222.52,-391.63C216.63,-381.17 210.19,-368.07 206.5,-355.5 190.96,-302.5 180.39,-283.67 198.5,-231.5 201.97,-221.51 207.99,-211.95 214.53,-203.61\"/>\n",
       "<polygon fill=\"black\" stroke=\"black\" points=\"217.68,-206.29 221.44,-196.39 212.32,-201.79 217.68,-206.29\"/>\n",
       "</g>\n",
       "<!-- 33 -->\n",
       "<g id=\"node34\" class=\"node\">\n",
       "<title>33</title>\n",
       "<polygon fill=\"#c1ffc1\" stroke=\"none\" points=\"412,-275.5 207,-275.5 207,-231.5 412,-231.5 412,-275.5\"/>\n",
       "<polygon fill=\"none\" stroke=\"black\" points=\"207,-231.5 207,-275.5 253,-275.5 253,-231.5 207,-231.5\"/>\n",
       "<text text-anchor=\"start\" x=\"219.12\" y=\"-256.75\" font-family=\"Linux libertine\" font-size=\"10.00\">RNN</text>\n",
       "<text text-anchor=\"start\" x=\"211.62\" y=\"-244\" font-family=\"Linux libertine\" font-size=\"10.00\">depth:4</text>\n",
       "<polygon fill=\"none\" stroke=\"black\" points=\"253,-253.5 253,-275.5 300,-275.5 300,-253.5 253,-253.5\"/>\n",
       "<text text-anchor=\"start\" x=\"262.62\" y=\"-261\" font-family=\"Linux libertine\" font-size=\"10.00\">input:</text>\n",
       "<polygon fill=\"none\" stroke=\"black\" points=\"300,-253.5 300,-275.5 412,-275.5 412,-253.5 300,-253.5\"/>\n",
       "<text text-anchor=\"start\" x=\"329.75\" y=\"-261\" font-family=\"Linux libertine\" font-size=\"10.00\">(1, 22, 64) </text>\n",
       "<polygon fill=\"none\" stroke=\"black\" points=\"253,-231.5 253,-253.5 300,-253.5 300,-231.5 253,-231.5\"/>\n",
       "<text text-anchor=\"start\" x=\"257.75\" y=\"-239\" font-family=\"Linux libertine\" font-size=\"10.00\">output: </text>\n",
       "<polygon fill=\"none\" stroke=\"black\" points=\"300,-231.5 300,-253.5 412,-253.5 412,-231.5 300,-231.5\"/>\n",
       "<text text-anchor=\"start\" x=\"305\" y=\"-239\" font-family=\"Linux libertine\" font-size=\"10.00\">(1, 22, 64), (1, 1, 64) </text>\n",
       "</g>\n",
       "<!-- 32&#45;&gt;33 -->\n",
       "<g id=\"edge41\" class=\"edge\">\n",
       "<title>32&#45;&gt;33</title>\n",
       "<path fill=\"none\" stroke=\"black\" d=\"M303.64,-311.6C304.44,-303.82 305.37,-294.8 306.24,-286.26\"/>\n",
       "<polygon fill=\"black\" stroke=\"black\" points=\"309.81,-286.77 307.35,-276.46 302.85,-286.05 309.81,-286.77\"/>\n",
       "</g>\n",
       "<!-- 33&#45;&gt;34 -->\n",
       "<g id=\"edge42\" class=\"edge\">\n",
       "<title>33&#45;&gt;34</title>\n",
       "<path fill=\"none\" stroke=\"black\" d=\"M291.81,-231.6C284.56,-223.03 276.05,-212.96 268.2,-203.69\"/>\n",
       "<polygon fill=\"black\" stroke=\"black\" points=\"270.37,-201.83 261.24,-196.46 265.02,-206.35 270.37,-201.83\"/>\n",
       "</g>\n",
       "<!-- 35 -->\n",
       "<g id=\"node36\" class=\"node\">\n",
       "<title>35</title>\n",
       "<polygon fill=\"#c1ffc1\" stroke=\"none\" points=\"321,-115.5 166,-115.5 166,-71.5 321,-71.5 321,-115.5\"/>\n",
       "<polygon fill=\"none\" stroke=\"black\" points=\"166,-71.5 166,-115.5 212,-115.5 212,-71.5 166,-71.5\"/>\n",
       "<text text-anchor=\"start\" x=\"174\" y=\"-96.75\" font-family=\"Linux libertine\" font-size=\"10.00\">Linear</text>\n",
       "<text text-anchor=\"start\" x=\"170.62\" y=\"-84\" font-family=\"Linux libertine\" font-size=\"10.00\">depth:2</text>\n",
       "<polygon fill=\"none\" stroke=\"black\" points=\"212,-93.5 212,-115.5 259,-115.5 259,-93.5 212,-93.5\"/>\n",
       "<text text-anchor=\"start\" x=\"221.62\" y=\"-101\" font-family=\"Linux libertine\" font-size=\"10.00\">input:</text>\n",
       "<polygon fill=\"none\" stroke=\"black\" points=\"259,-93.5 259,-115.5 321,-115.5 321,-93.5 259,-93.5\"/>\n",
       "<text text-anchor=\"start\" x=\"263.75\" y=\"-101\" font-family=\"Linux libertine\" font-size=\"10.00\">(1, 22, 64) </text>\n",
       "<polygon fill=\"none\" stroke=\"black\" points=\"212,-71.5 212,-93.5 259,-93.5 259,-71.5 212,-71.5\"/>\n",
       "<text text-anchor=\"start\" x=\"216.75\" y=\"-79\" font-family=\"Linux libertine\" font-size=\"10.00\">output: </text>\n",
       "<polygon fill=\"none\" stroke=\"black\" points=\"259,-71.5 259,-93.5 321,-93.5 321,-71.5 259,-71.5\"/>\n",
       "<text text-anchor=\"start\" x=\"263.75\" y=\"-79\" font-family=\"Linux libertine\" font-size=\"10.00\">(1, 22, 56) </text>\n",
       "</g>\n",
       "<!-- 34&#45;&gt;35 -->\n",
       "<g id=\"edge43\" class=\"edge\">\n",
       "<title>34&#45;&gt;35</title>\n",
       "<path fill=\"none\" stroke=\"black\" d=\"M243.5,-151.6C243.5,-143.82 243.5,-134.8 243.5,-126.26\"/>\n",
       "<polygon fill=\"black\" stroke=\"black\" points=\"247,-126.46 243.5,-116.46 240,-126.46 247,-126.46\"/>\n",
       "</g>\n",
       "<!-- 36 -->\n",
       "<g id=\"node37\" class=\"node\">\n",
       "<title>36</title>\n",
       "<polygon fill=\"lightyellow\" stroke=\"none\" points=\"311.25,-35.5 175.75,-35.5 175.75,0 311.25,0 311.25,-35.5\"/>\n",
       "<polygon fill=\"none\" stroke=\"black\" points=\"175.75,0 175.75,-35.5 251.75,-35.5 251.75,0 175.75,0\"/>\n",
       "<text text-anchor=\"start\" x=\"180.75\" y=\"-21\" font-family=\"Linux libertine\" font-size=\"10.00\">output&#45;tensor</text>\n",
       "<text text-anchor=\"start\" x=\"195.38\" y=\"-8.25\" font-family=\"Linux libertine\" font-size=\"10.00\">depth:0</text>\n",
       "<polygon fill=\"none\" stroke=\"black\" points=\"251.75,0 251.75,-35.5 311.25,-35.5 311.25,0 251.75,0\"/>\n",
       "<text text-anchor=\"start\" x=\"256.75\" y=\"-14.62\" font-family=\"Linux libertine\" font-size=\"10.00\">(1, 22, 56)</text>\n",
       "</g>\n",
       "<!-- 35&#45;&gt;36 -->\n",
       "<g id=\"edge44\" class=\"edge\">\n",
       "<title>35&#45;&gt;36</title>\n",
       "<path fill=\"none\" stroke=\"black\" d=\"M243.5,-71.56C243.5,-63.6 243.5,-54.41 243.5,-45.95\"/>\n",
       "<polygon fill=\"black\" stroke=\"black\" points=\"247,-46.05 243.5,-36.05 240,-46.05 247,-46.05\"/>\n",
       "</g>\n",
       "</g>\n",
       "</svg>\n"
      ],
      "text/plain": [
       "<graphviz.graphs.Digraph at 0x7f55433bc150>"
      ]
     },
     "execution_count": 39,
     "metadata": {},
     "output_type": "execute_result"
    }
   ],
   "source": [
    "model_graph = draw_graph(enc_dec_net,\n",
    "                         input_data=[torch.Tensor(enc_x_train[0:1]).long(),\n",
    "                                     torch.Tensor(dec_x_train[0:1]).long()], \n",
    "                         device=device,\n",
    "                         hide_inner_tensors=True,\n",
    "                         hide_module_functions=True, \n",
    "                         expand_nested=False, \n",
    "                         depth=4, \n",
    "                         dtypes=[torch.long])\n",
    "\n",
    "model_graph.visual_graph"
   ]
  },
  {
   "cell_type": "code",
   "execution_count": 40,
   "id": "e9579c2c-3839-4636-b2cc-1d6aadcb55fb",
   "metadata": {},
   "outputs": [
    {
     "name": "stderr",
     "output_type": "stream",
     "text": [
      "/opt/conda/lib/python3.11/site-packages/torch/utils/data/dataloader.py:560: UserWarning: This DataLoader will create 8 worker processes in total. Our suggested max number of worker in current system is 2, which is smaller than what this DataLoader is going to create. Please be aware that excessive worker creation might get DataLoader running slow or even freeze, lower the worker number to avoid potential slowness/freeze if necessary.\n",
      "  warnings.warn(_create_warning_msg(\n"
     ]
    }
   ],
   "source": [
    "batch_size = 20\n",
    "xy_train = torch.utils.data.DataLoader(list(zip(torch.Tensor(enc_x_train).long(),\n",
    "                                                torch.Tensor(dec_x_train).long(),\n",
    "                                                torch.Tensor(dec_y_train).long())), \n",
    "                                       shuffle=True, \n",
    "                                       batch_size=batch_size, \n",
    "                                       num_workers=8)\n",
    "\n",
    "xy_val = torch.utils.data.DataLoader(list(zip(torch.Tensor(enc_x_val).long(), \n",
    "                                              torch.Tensor(dec_x_val).long(),\n",
    "                                              torch.Tensor(dec_y_val).long())), \n",
    "                                     shuffle=False, \n",
    "                                     batch_size=batch_size, \n",
    "                                     num_workers=8)"
   ]
  },
  {
   "cell_type": "code",
   "execution_count": 41,
   "id": "4f0f8c66-51ac-4d77-a3dd-c9ce853636e2",
   "metadata": {},
   "outputs": [],
   "source": [
    "logger = pl.loggers.CSVLogger(\"lightning_logs\", \n",
    "                              name=\"Open_Lab_4\",\n",
    "                              version=\"demo-0\")"
   ]
  },
  {
   "cell_type": "code",
   "execution_count": 42,
   "id": "2c98c812-167e-4f80-bb70-a990cf7dfa10",
   "metadata": {},
   "outputs": [
    {
     "name": "stderr",
     "output_type": "stream",
     "text": [
      "GPU available: True (cuda), used: True\n",
      "TPU available: False, using: 0 TPU cores\n",
      "IPU available: False, using: 0 IPUs\n",
      "HPU available: False, using: 0 HPUs\n"
     ]
    }
   ],
   "source": [
    "trainer = pl.Trainer(logger=logger, max_epochs=300,\n",
    "                     enable_progress_bar=True,\n",
    "                     log_every_n_steps=0,\n",
    "                     enable_checkpointing=False, \n",
    "                     callbacks=[pl.callbacks.TQDMProgressBar(refresh_rate=50)])"
   ]
  },
  {
   "cell_type": "code",
   "execution_count": 43,
   "id": "d247058d-55d7-4b63-b9c5-42e1e2764317",
   "metadata": {},
   "outputs": [
    {
     "name": "stderr",
     "output_type": "stream",
     "text": [
      "LOCAL_RANK: 0 - CUDA_VISIBLE_DEVICES: [0]\n",
      "SLURM auto-requeueing enabled. Setting signal handlers.\n",
      "/opt/conda/lib/python3.11/site-packages/torch/utils/data/dataloader.py:560: UserWarning: This DataLoader will create 8 worker processes in total. Our suggested max number of worker in current system is 2, which is smaller than what this DataLoader is going to create. Please be aware that excessive worker creation might get DataLoader running slow or even freeze, lower the worker number to avoid potential slowness/freeze if necessary.\n",
      "  warnings.warn(_create_warning_msg(\n"
     ]
    },
    {
     "data": {
      "application/vnd.jupyter.widget-view+json": {
       "model_id": "f809527f5a5e4ebe98e6c97db3259beb",
       "version_major": 2,
       "version_minor": 0
      },
      "text/plain": [
       "Validation: 0it [00:00, ?it/s]"
      ]
     },
     "metadata": {},
     "output_type": "display_data"
    },
    {
     "data": {
      "text/html": [
       "<pre style=\"white-space:pre;overflow-x:auto;line-height:normal;font-family:Menlo,'DejaVu Sans Mono',consolas,'Courier New',monospace\">┏━━━━━━━━━━━━━━━━━━━━━━━━━━━┳━━━━━━━━━━━━━━━━━━━━━━━━━━━┓\n",
       "┃<span style=\"font-weight: bold\">  Runningstage.validating  </span>┃<span style=\"font-weight: bold\">                           </span>┃\n",
       "┃<span style=\"font-weight: bold\">          metric           </span>┃<span style=\"font-weight: bold\">       DataLoader 0        </span>┃\n",
       "┡━━━━━━━━━━━━━━━━━━━━━━━━━━━╇━━━━━━━━━━━━━━━━━━━━━━━━━━━┩\n",
       "│<span style=\"color: #008080; text-decoration-color: #008080\">          val_acc          </span>│<span style=\"color: #800080; text-decoration-color: #800080\">   0.005681818351149559    </span>│\n",
       "│<span style=\"color: #008080; text-decoration-color: #008080\">         val_loss          </span>│<span style=\"color: #800080; text-decoration-color: #800080\">     4.304074287414551     </span>│\n",
       "└───────────────────────────┴───────────────────────────┘\n",
       "</pre>\n"
      ],
      "text/plain": [
       "┏━━━━━━━━━━━━━━━━━━━━━━━━━━━┳━━━━━━━━━━━━━━━━━━━━━━━━━━━┓\n",
       "┃\u001b[1m \u001b[0m\u001b[1m Runningstage.validating \u001b[0m\u001b[1m \u001b[0m┃\u001b[1m                           \u001b[0m┃\n",
       "┃\u001b[1m \u001b[0m\u001b[1m         metric          \u001b[0m\u001b[1m \u001b[0m┃\u001b[1m \u001b[0m\u001b[1m      DataLoader 0       \u001b[0m\u001b[1m \u001b[0m┃\n",
       "┡━━━━━━━━━━━━━━━━━━━━━━━━━━━╇━━━━━━━━━━━━━━━━━━━━━━━━━━━┩\n",
       "│\u001b[36m \u001b[0m\u001b[36m         val_acc         \u001b[0m\u001b[36m \u001b[0m│\u001b[35m \u001b[0m\u001b[35m  0.005681818351149559   \u001b[0m\u001b[35m \u001b[0m│\n",
       "│\u001b[36m \u001b[0m\u001b[36m        val_loss         \u001b[0m\u001b[36m \u001b[0m│\u001b[35m \u001b[0m\u001b[35m    4.304074287414551    \u001b[0m\u001b[35m \u001b[0m│\n",
       "└───────────────────────────┴───────────────────────────┘\n"
      ]
     },
     "metadata": {},
     "output_type": "display_data"
    },
    {
     "data": {
      "text/plain": [
       "[{'val_acc': 0.005681818351149559, 'val_loss': 4.304074287414551}]"
      ]
     },
     "execution_count": 43,
     "metadata": {},
     "output_type": "execute_result"
    }
   ],
   "source": [
    "trainer.validate(enc_dec_net, xy_val)"
   ]
  },
  {
   "cell_type": "code",
   "execution_count": 44,
   "id": "00ad1d95-a6b8-4530-8172-6677a4559f03",
   "metadata": {},
   "outputs": [
    {
     "name": "stderr",
     "output_type": "stream",
     "text": [
      "LOCAL_RANK: 0 - CUDA_VISIBLE_DEVICES: [0]\n",
      "SLURM auto-requeueing enabled. Setting signal handlers.\n"
     ]
    },
    {
     "data": {
      "application/vnd.jupyter.widget-view+json": {
       "model_id": "236e68c84e6e4fb090bf73d5d5e4c2ba",
       "version_major": 2,
       "version_minor": 0
      },
      "text/plain": [
       "Testing: 0it [00:00, ?it/s]"
      ]
     },
     "metadata": {},
     "output_type": "display_data"
    },
    {
     "data": {
      "text/html": [
       "<pre style=\"white-space:pre;overflow-x:auto;line-height:normal;font-family:Menlo,'DejaVu Sans Mono',consolas,'Courier New',monospace\">┏━━━━━━━━━━━━━━━━━━━━━━━━━━━┳━━━━━━━━━━━━━━━━━━━━━━━━━━━┓\n",
       "┃<span style=\"font-weight: bold\">   Runningstage.testing    </span>┃<span style=\"font-weight: bold\">                           </span>┃\n",
       "┃<span style=\"font-weight: bold\">          metric           </span>┃<span style=\"font-weight: bold\">       DataLoader 0        </span>┃\n",
       "┡━━━━━━━━━━━━━━━━━━━━━━━━━━━╇━━━━━━━━━━━━━━━━━━━━━━━━━━━┩\n",
       "│<span style=\"color: #008080; text-decoration-color: #008080\">         test_acc          </span>│<span style=\"color: #800080; text-decoration-color: #800080\">   0.005681818351149559    </span>│\n",
       "│<span style=\"color: #008080; text-decoration-color: #008080\">         test_loss         </span>│<span style=\"color: #800080; text-decoration-color: #800080\">     4.483646392822266     </span>│\n",
       "└───────────────────────────┴───────────────────────────┘\n",
       "</pre>\n"
      ],
      "text/plain": [
       "┏━━━━━━━━━━━━━━━━━━━━━━━━━━━┳━━━━━━━━━━━━━━━━━━━━━━━━━━━┓\n",
       "┃\u001b[1m \u001b[0m\u001b[1m  Runningstage.testing   \u001b[0m\u001b[1m \u001b[0m┃\u001b[1m                           \u001b[0m┃\n",
       "┃\u001b[1m \u001b[0m\u001b[1m         metric          \u001b[0m\u001b[1m \u001b[0m┃\u001b[1m \u001b[0m\u001b[1m      DataLoader 0       \u001b[0m\u001b[1m \u001b[0m┃\n",
       "┡━━━━━━━━━━━━━━━━━━━━━━━━━━━╇━━━━━━━━━━━━━━━━━━━━━━━━━━━┩\n",
       "│\u001b[36m \u001b[0m\u001b[36m        test_acc         \u001b[0m\u001b[36m \u001b[0m│\u001b[35m \u001b[0m\u001b[35m  0.005681818351149559   \u001b[0m\u001b[35m \u001b[0m│\n",
       "│\u001b[36m \u001b[0m\u001b[36m        test_loss        \u001b[0m\u001b[36m \u001b[0m│\u001b[35m \u001b[0m\u001b[35m    4.483646392822266    \u001b[0m\u001b[35m \u001b[0m│\n",
       "└───────────────────────────┴───────────────────────────┘\n"
      ]
     },
     "metadata": {},
     "output_type": "display_data"
    },
    {
     "data": {
      "text/plain": [
       "[{'test_acc': 0.005681818351149559, 'test_loss': 4.483646392822266}]"
      ]
     },
     "execution_count": 44,
     "metadata": {},
     "output_type": "execute_result"
    }
   ],
   "source": [
    "trainer.test(enc_dec_net, xy_val)"
   ]
  },
  {
   "cell_type": "code",
   "execution_count": null,
   "id": "1335279e-ca22-4d4e-b66d-c20a226b981b",
   "metadata": {},
   "outputs": [
    {
     "name": "stderr",
     "output_type": "stream",
     "text": [
      "LOCAL_RANK: 0 - CUDA_VISIBLE_DEVICES: [0]\n",
      "\n",
      "  | Name     | Type               | Params\n",
      "------------------------------------------------\n",
      "0 | mc_acc   | MulticlassAccuracy | 0     \n",
      "1 | cce_loss | CrossEntropyLoss   | 0     \n",
      "2 | enc_net  | EncoderNetwork     | 28.4 K\n",
      "3 | dec_net  | DecoderNetwork     | 49.3 K\n",
      "------------------------------------------------\n",
      "77.7 K    Trainable params\n",
      "0         Non-trainable params\n",
      "77.7 K    Total params\n",
      "0.311     Total estimated model params size (MB)\n",
      "SLURM auto-requeueing enabled. Setting signal handlers.\n"
     ]
    },
    {
     "data": {
      "application/vnd.jupyter.widget-view+json": {
       "model_id": "",
       "version_major": 2,
       "version_minor": 0
      },
      "text/plain": [
       "Sanity Checking: 0it [00:00, ?it/s]"
      ]
     },
     "metadata": {},
     "output_type": "display_data"
    },
    {
     "data": {
      "application/vnd.jupyter.widget-view+json": {
       "model_id": "65a1856b0b574a42948e0553bac059cd",
       "version_major": 2,
       "version_minor": 0
      },
      "text/plain": [
       "Training: 0it [00:00, ?it/s]"
      ]
     },
     "metadata": {},
     "output_type": "display_data"
    },
    {
     "data": {
      "application/vnd.jupyter.widget-view+json": {
       "model_id": "",
       "version_major": 2,
       "version_minor": 0
      },
      "text/plain": [
       "Validation: 0it [00:00, ?it/s]"
      ]
     },
     "metadata": {},
     "output_type": "display_data"
    },
    {
     "data": {
      "application/vnd.jupyter.widget-view+json": {
       "model_id": "",
       "version_major": 2,
       "version_minor": 0
      },
      "text/plain": [
       "Validation: 0it [00:00, ?it/s]"
      ]
     },
     "metadata": {},
     "output_type": "display_data"
    },
    {
     "data": {
      "application/vnd.jupyter.widget-view+json": {
       "model_id": "",
       "version_major": 2,
       "version_minor": 0
      },
      "text/plain": [
       "Validation: 0it [00:00, ?it/s]"
      ]
     },
     "metadata": {},
     "output_type": "display_data"
    },
    {
     "data": {
      "application/vnd.jupyter.widget-view+json": {
       "model_id": "",
       "version_major": 2,
       "version_minor": 0
      },
      "text/plain": [
       "Validation: 0it [00:00, ?it/s]"
      ]
     },
     "metadata": {},
     "output_type": "display_data"
    },
    {
     "data": {
      "application/vnd.jupyter.widget-view+json": {
       "model_id": "",
       "version_major": 2,
       "version_minor": 0
      },
      "text/plain": [
       "Validation: 0it [00:00, ?it/s]"
      ]
     },
     "metadata": {},
     "output_type": "display_data"
    },
    {
     "data": {
      "application/vnd.jupyter.widget-view+json": {
       "model_id": "",
       "version_major": 2,
       "version_minor": 0
      },
      "text/plain": [
       "Validation: 0it [00:00, ?it/s]"
      ]
     },
     "metadata": {},
     "output_type": "display_data"
    },
    {
     "data": {
      "application/vnd.jupyter.widget-view+json": {
       "model_id": "",
       "version_major": 2,
       "version_minor": 0
      },
      "text/plain": [
       "Validation: 0it [00:00, ?it/s]"
      ]
     },
     "metadata": {},
     "output_type": "display_data"
    },
    {
     "data": {
      "application/vnd.jupyter.widget-view+json": {
       "model_id": "",
       "version_major": 2,
       "version_minor": 0
      },
      "text/plain": [
       "Validation: 0it [00:00, ?it/s]"
      ]
     },
     "metadata": {},
     "output_type": "display_data"
    },
    {
     "data": {
      "application/vnd.jupyter.widget-view+json": {
       "model_id": "",
       "version_major": 2,
       "version_minor": 0
      },
      "text/plain": [
       "Validation: 0it [00:00, ?it/s]"
      ]
     },
     "metadata": {},
     "output_type": "display_data"
    },
    {
     "data": {
      "application/vnd.jupyter.widget-view+json": {
       "model_id": "",
       "version_major": 2,
       "version_minor": 0
      },
      "text/plain": [
       "Validation: 0it [00:00, ?it/s]"
      ]
     },
     "metadata": {},
     "output_type": "display_data"
    },
    {
     "data": {
      "application/vnd.jupyter.widget-view+json": {
       "model_id": "",
       "version_major": 2,
       "version_minor": 0
      },
      "text/plain": [
       "Validation: 0it [00:00, ?it/s]"
      ]
     },
     "metadata": {},
     "output_type": "display_data"
    },
    {
     "data": {
      "application/vnd.jupyter.widget-view+json": {
       "model_id": "",
       "version_major": 2,
       "version_minor": 0
      },
      "text/plain": [
       "Validation: 0it [00:00, ?it/s]"
      ]
     },
     "metadata": {},
     "output_type": "display_data"
    },
    {
     "data": {
      "application/vnd.jupyter.widget-view+json": {
       "model_id": "",
       "version_major": 2,
       "version_minor": 0
      },
      "text/plain": [
       "Validation: 0it [00:00, ?it/s]"
      ]
     },
     "metadata": {},
     "output_type": "display_data"
    },
    {
     "data": {
      "application/vnd.jupyter.widget-view+json": {
       "model_id": "",
       "version_major": 2,
       "version_minor": 0
      },
      "text/plain": [
       "Validation: 0it [00:00, ?it/s]"
      ]
     },
     "metadata": {},
     "output_type": "display_data"
    },
    {
     "data": {
      "application/vnd.jupyter.widget-view+json": {
       "model_id": "",
       "version_major": 2,
       "version_minor": 0
      },
      "text/plain": [
       "Validation: 0it [00:00, ?it/s]"
      ]
     },
     "metadata": {},
     "output_type": "display_data"
    },
    {
     "data": {
      "application/vnd.jupyter.widget-view+json": {
       "model_id": "",
       "version_major": 2,
       "version_minor": 0
      },
      "text/plain": [
       "Validation: 0it [00:00, ?it/s]"
      ]
     },
     "metadata": {},
     "output_type": "display_data"
    },
    {
     "data": {
      "application/vnd.jupyter.widget-view+json": {
       "model_id": "",
       "version_major": 2,
       "version_minor": 0
      },
      "text/plain": [
       "Validation: 0it [00:00, ?it/s]"
      ]
     },
     "metadata": {},
     "output_type": "display_data"
    },
    {
     "data": {
      "application/vnd.jupyter.widget-view+json": {
       "model_id": "",
       "version_major": 2,
       "version_minor": 0
      },
      "text/plain": [
       "Validation: 0it [00:00, ?it/s]"
      ]
     },
     "metadata": {},
     "output_type": "display_data"
    },
    {
     "data": {
      "application/vnd.jupyter.widget-view+json": {
       "model_id": "",
       "version_major": 2,
       "version_minor": 0
      },
      "text/plain": [
       "Validation: 0it [00:00, ?it/s]"
      ]
     },
     "metadata": {},
     "output_type": "display_data"
    },
    {
     "data": {
      "application/vnd.jupyter.widget-view+json": {
       "model_id": "",
       "version_major": 2,
       "version_minor": 0
      },
      "text/plain": [
       "Validation: 0it [00:00, ?it/s]"
      ]
     },
     "metadata": {},
     "output_type": "display_data"
    },
    {
     "data": {
      "application/vnd.jupyter.widget-view+json": {
       "model_id": "",
       "version_major": 2,
       "version_minor": 0
      },
      "text/plain": [
       "Validation: 0it [00:00, ?it/s]"
      ]
     },
     "metadata": {},
     "output_type": "display_data"
    },
    {
     "data": {
      "application/vnd.jupyter.widget-view+json": {
       "model_id": "",
       "version_major": 2,
       "version_minor": 0
      },
      "text/plain": [
       "Validation: 0it [00:00, ?it/s]"
      ]
     },
     "metadata": {},
     "output_type": "display_data"
    },
    {
     "data": {
      "application/vnd.jupyter.widget-view+json": {
       "model_id": "",
       "version_major": 2,
       "version_minor": 0
      },
      "text/plain": [
       "Validation: 0it [00:00, ?it/s]"
      ]
     },
     "metadata": {},
     "output_type": "display_data"
    },
    {
     "data": {
      "application/vnd.jupyter.widget-view+json": {
       "model_id": "",
       "version_major": 2,
       "version_minor": 0
      },
      "text/plain": [
       "Validation: 0it [00:00, ?it/s]"
      ]
     },
     "metadata": {},
     "output_type": "display_data"
    },
    {
     "data": {
      "application/vnd.jupyter.widget-view+json": {
       "model_id": "",
       "version_major": 2,
       "version_minor": 0
      },
      "text/plain": [
       "Validation: 0it [00:00, ?it/s]"
      ]
     },
     "metadata": {},
     "output_type": "display_data"
    },
    {
     "data": {
      "application/vnd.jupyter.widget-view+json": {
       "model_id": "",
       "version_major": 2,
       "version_minor": 0
      },
      "text/plain": [
       "Validation: 0it [00:00, ?it/s]"
      ]
     },
     "metadata": {},
     "output_type": "display_data"
    },
    {
     "data": {
      "application/vnd.jupyter.widget-view+json": {
       "model_id": "",
       "version_major": 2,
       "version_minor": 0
      },
      "text/plain": [
       "Validation: 0it [00:00, ?it/s]"
      ]
     },
     "metadata": {},
     "output_type": "display_data"
    },
    {
     "data": {
      "application/vnd.jupyter.widget-view+json": {
       "model_id": "",
       "version_major": 2,
       "version_minor": 0
      },
      "text/plain": [
       "Validation: 0it [00:00, ?it/s]"
      ]
     },
     "metadata": {},
     "output_type": "display_data"
    },
    {
     "data": {
      "application/vnd.jupyter.widget-view+json": {
       "model_id": "",
       "version_major": 2,
       "version_minor": 0
      },
      "text/plain": [
       "Validation: 0it [00:00, ?it/s]"
      ]
     },
     "metadata": {},
     "output_type": "display_data"
    },
    {
     "data": {
      "application/vnd.jupyter.widget-view+json": {
       "model_id": "",
       "version_major": 2,
       "version_minor": 0
      },
      "text/plain": [
       "Validation: 0it [00:00, ?it/s]"
      ]
     },
     "metadata": {},
     "output_type": "display_data"
    },
    {
     "data": {
      "application/vnd.jupyter.widget-view+json": {
       "model_id": "",
       "version_major": 2,
       "version_minor": 0
      },
      "text/plain": [
       "Validation: 0it [00:00, ?it/s]"
      ]
     },
     "metadata": {},
     "output_type": "display_data"
    },
    {
     "data": {
      "application/vnd.jupyter.widget-view+json": {
       "model_id": "",
       "version_major": 2,
       "version_minor": 0
      },
      "text/plain": [
       "Validation: 0it [00:00, ?it/s]"
      ]
     },
     "metadata": {},
     "output_type": "display_data"
    },
    {
     "data": {
      "application/vnd.jupyter.widget-view+json": {
       "model_id": "",
       "version_major": 2,
       "version_minor": 0
      },
      "text/plain": [
       "Validation: 0it [00:00, ?it/s]"
      ]
     },
     "metadata": {},
     "output_type": "display_data"
    },
    {
     "data": {
      "application/vnd.jupyter.widget-view+json": {
       "model_id": "",
       "version_major": 2,
       "version_minor": 0
      },
      "text/plain": [
       "Validation: 0it [00:00, ?it/s]"
      ]
     },
     "metadata": {},
     "output_type": "display_data"
    },
    {
     "data": {
      "application/vnd.jupyter.widget-view+json": {
       "model_id": "",
       "version_major": 2,
       "version_minor": 0
      },
      "text/plain": [
       "Validation: 0it [00:00, ?it/s]"
      ]
     },
     "metadata": {},
     "output_type": "display_data"
    },
    {
     "data": {
      "application/vnd.jupyter.widget-view+json": {
       "model_id": "",
       "version_major": 2,
       "version_minor": 0
      },
      "text/plain": [
       "Validation: 0it [00:00, ?it/s]"
      ]
     },
     "metadata": {},
     "output_type": "display_data"
    },
    {
     "data": {
      "application/vnd.jupyter.widget-view+json": {
       "model_id": "",
       "version_major": 2,
       "version_minor": 0
      },
      "text/plain": [
       "Validation: 0it [00:00, ?it/s]"
      ]
     },
     "metadata": {},
     "output_type": "display_data"
    },
    {
     "data": {
      "application/vnd.jupyter.widget-view+json": {
       "model_id": "",
       "version_major": 2,
       "version_minor": 0
      },
      "text/plain": [
       "Validation: 0it [00:00, ?it/s]"
      ]
     },
     "metadata": {},
     "output_type": "display_data"
    },
    {
     "data": {
      "application/vnd.jupyter.widget-view+json": {
       "model_id": "",
       "version_major": 2,
       "version_minor": 0
      },
      "text/plain": [
       "Validation: 0it [00:00, ?it/s]"
      ]
     },
     "metadata": {},
     "output_type": "display_data"
    },
    {
     "data": {
      "application/vnd.jupyter.widget-view+json": {
       "model_id": "",
       "version_major": 2,
       "version_minor": 0
      },
      "text/plain": [
       "Validation: 0it [00:00, ?it/s]"
      ]
     },
     "metadata": {},
     "output_type": "display_data"
    },
    {
     "data": {
      "application/vnd.jupyter.widget-view+json": {
       "model_id": "",
       "version_major": 2,
       "version_minor": 0
      },
      "text/plain": [
       "Validation: 0it [00:00, ?it/s]"
      ]
     },
     "metadata": {},
     "output_type": "display_data"
    },
    {
     "data": {
      "application/vnd.jupyter.widget-view+json": {
       "model_id": "",
       "version_major": 2,
       "version_minor": 0
      },
      "text/plain": [
       "Validation: 0it [00:00, ?it/s]"
      ]
     },
     "metadata": {},
     "output_type": "display_data"
    },
    {
     "data": {
      "application/vnd.jupyter.widget-view+json": {
       "model_id": "",
       "version_major": 2,
       "version_minor": 0
      },
      "text/plain": [
       "Validation: 0it [00:00, ?it/s]"
      ]
     },
     "metadata": {},
     "output_type": "display_data"
    },
    {
     "data": {
      "application/vnd.jupyter.widget-view+json": {
       "model_id": "",
       "version_major": 2,
       "version_minor": 0
      },
      "text/plain": [
       "Validation: 0it [00:00, ?it/s]"
      ]
     },
     "metadata": {},
     "output_type": "display_data"
    },
    {
     "data": {
      "application/vnd.jupyter.widget-view+json": {
       "model_id": "",
       "version_major": 2,
       "version_minor": 0
      },
      "text/plain": [
       "Validation: 0it [00:00, ?it/s]"
      ]
     },
     "metadata": {},
     "output_type": "display_data"
    },
    {
     "data": {
      "application/vnd.jupyter.widget-view+json": {
       "model_id": "",
       "version_major": 2,
       "version_minor": 0
      },
      "text/plain": [
       "Validation: 0it [00:00, ?it/s]"
      ]
     },
     "metadata": {},
     "output_type": "display_data"
    },
    {
     "data": {
      "application/vnd.jupyter.widget-view+json": {
       "model_id": "",
       "version_major": 2,
       "version_minor": 0
      },
      "text/plain": [
       "Validation: 0it [00:00, ?it/s]"
      ]
     },
     "metadata": {},
     "output_type": "display_data"
    },
    {
     "data": {
      "application/vnd.jupyter.widget-view+json": {
       "model_id": "804d74f09e5348118403f9f75ee21d96",
       "version_major": 2,
       "version_minor": 0
      },
      "text/plain": [
       "Validation: 0it [00:00, ?it/s]"
      ]
     },
     "metadata": {},
     "output_type": "display_data"
    },
    {
     "data": {
      "application/vnd.jupyter.widget-view+json": {
       "model_id": "a087d40b11334a13a2334e019a1756a5",
       "version_major": 2,
       "version_minor": 0
      },
      "text/plain": [
       "Validation: 0it [00:00, ?it/s]"
      ]
     },
     "metadata": {},
     "output_type": "display_data"
    },
    {
     "data": {
      "application/vnd.jupyter.widget-view+json": {
       "model_id": "5053c28f707b44dc9a0b2c2ad63620b6",
       "version_major": 2,
       "version_minor": 0
      },
      "text/plain": [
       "Validation: 0it [00:00, ?it/s]"
      ]
     },
     "metadata": {},
     "output_type": "display_data"
    },
    {
     "data": {
      "application/vnd.jupyter.widget-view+json": {
       "model_id": "680b1408738d4964871049a844248ec7",
       "version_major": 2,
       "version_minor": 0
      },
      "text/plain": [
       "Validation: 0it [00:00, ?it/s]"
      ]
     },
     "metadata": {},
     "output_type": "display_data"
    },
    {
     "data": {
      "application/vnd.jupyter.widget-view+json": {
       "model_id": "c6544919629842b68745d150597e9234",
       "version_major": 2,
       "version_minor": 0
      },
      "text/plain": [
       "Validation: 0it [00:00, ?it/s]"
      ]
     },
     "metadata": {},
     "output_type": "display_data"
    },
    {
     "data": {
      "application/vnd.jupyter.widget-view+json": {
       "model_id": "d3fee80be8c744eeb6df68015b6ce1d3",
       "version_major": 2,
       "version_minor": 0
      },
      "text/plain": [
       "Validation: 0it [00:00, ?it/s]"
      ]
     },
     "metadata": {},
     "output_type": "display_data"
    },
    {
     "data": {
      "application/vnd.jupyter.widget-view+json": {
       "model_id": "9c4b6e6164ec41718be82484d4f1703a",
       "version_major": 2,
       "version_minor": 0
      },
      "text/plain": [
       "Validation: 0it [00:00, ?it/s]"
      ]
     },
     "metadata": {},
     "output_type": "display_data"
    },
    {
     "data": {
      "application/vnd.jupyter.widget-view+json": {
       "model_id": "c6bff923374641f8890ea07d88db1c97",
       "version_major": 2,
       "version_minor": 0
      },
      "text/plain": [
       "Validation: 0it [00:00, ?it/s]"
      ]
     },
     "metadata": {},
     "output_type": "display_data"
    },
    {
     "data": {
      "application/vnd.jupyter.widget-view+json": {
       "model_id": "eb7b78bc657844debd2dbf42741be145",
       "version_major": 2,
       "version_minor": 0
      },
      "text/plain": [
       "Validation: 0it [00:00, ?it/s]"
      ]
     },
     "metadata": {},
     "output_type": "display_data"
    },
    {
     "data": {
      "application/vnd.jupyter.widget-view+json": {
       "model_id": "053c80cede5d4aa0a4288bb339adf321",
       "version_major": 2,
       "version_minor": 0
      },
      "text/plain": [
       "Validation: 0it [00:00, ?it/s]"
      ]
     },
     "metadata": {},
     "output_type": "display_data"
    },
    {
     "data": {
      "application/vnd.jupyter.widget-view+json": {
       "model_id": "0f4e0626b4b64cc89202c6e69be08c84",
       "version_major": 2,
       "version_minor": 0
      },
      "text/plain": [
       "Validation: 0it [00:00, ?it/s]"
      ]
     },
     "metadata": {},
     "output_type": "display_data"
    },
    {
     "data": {
      "application/vnd.jupyter.widget-view+json": {
       "model_id": "3eccc6512f8d4592a136c747dd660b10",
       "version_major": 2,
       "version_minor": 0
      },
      "text/plain": [
       "Validation: 0it [00:00, ?it/s]"
      ]
     },
     "metadata": {},
     "output_type": "display_data"
    },
    {
     "data": {
      "application/vnd.jupyter.widget-view+json": {
       "model_id": "cf2aca2b43384f4c80c36eb23b7844c2",
       "version_major": 2,
       "version_minor": 0
      },
      "text/plain": [
       "Validation: 0it [00:00, ?it/s]"
      ]
     },
     "metadata": {},
     "output_type": "display_data"
    },
    {
     "data": {
      "application/vnd.jupyter.widget-view+json": {
       "model_id": "d019ac24501a44cabc2de8e190209a5d",
       "version_major": 2,
       "version_minor": 0
      },
      "text/plain": [
       "Validation: 0it [00:00, ?it/s]"
      ]
     },
     "metadata": {},
     "output_type": "display_data"
    },
    {
     "data": {
      "application/vnd.jupyter.widget-view+json": {
       "model_id": "27ccec193c40407ebbbd20bb04d30bf4",
       "version_major": 2,
       "version_minor": 0
      },
      "text/plain": [
       "Validation: 0it [00:00, ?it/s]"
      ]
     },
     "metadata": {},
     "output_type": "display_data"
    },
    {
     "data": {
      "application/vnd.jupyter.widget-view+json": {
       "model_id": "ac7403d8db14402a880c3bc0a351d188",
       "version_major": 2,
       "version_minor": 0
      },
      "text/plain": [
       "Validation: 0it [00:00, ?it/s]"
      ]
     },
     "metadata": {},
     "output_type": "display_data"
    },
    {
     "data": {
      "application/vnd.jupyter.widget-view+json": {
       "model_id": "1002d5eecd2e495ba6995ce0d61b4215",
       "version_major": 2,
       "version_minor": 0
      },
      "text/plain": [
       "Validation: 0it [00:00, ?it/s]"
      ]
     },
     "metadata": {},
     "output_type": "display_data"
    },
    {
     "data": {
      "application/vnd.jupyter.widget-view+json": {
       "model_id": "c2325b55766b48b89930daff1ebce0eb",
       "version_major": 2,
       "version_minor": 0
      },
      "text/plain": [
       "Validation: 0it [00:00, ?it/s]"
      ]
     },
     "metadata": {},
     "output_type": "display_data"
    },
    {
     "data": {
      "application/vnd.jupyter.widget-view+json": {
       "model_id": "a3cdbbb7c8ed4f288c7b0ba9f01b6a60",
       "version_major": 2,
       "version_minor": 0
      },
      "text/plain": [
       "Validation: 0it [00:00, ?it/s]"
      ]
     },
     "metadata": {},
     "output_type": "display_data"
    },
    {
     "data": {
      "application/vnd.jupyter.widget-view+json": {
       "model_id": "7e283d05fb674452af4bd56a8e922c50",
       "version_major": 2,
       "version_minor": 0
      },
      "text/plain": [
       "Validation: 0it [00:00, ?it/s]"
      ]
     },
     "metadata": {},
     "output_type": "display_data"
    },
    {
     "data": {
      "application/vnd.jupyter.widget-view+json": {
       "model_id": "49f1bd4df6ab46bca39144ace13eb332",
       "version_major": 2,
       "version_minor": 0
      },
      "text/plain": [
       "Validation: 0it [00:00, ?it/s]"
      ]
     },
     "metadata": {},
     "output_type": "display_data"
    },
    {
     "data": {
      "application/vnd.jupyter.widget-view+json": {
       "model_id": "76c588a726824620b88143b3a6647cf7",
       "version_major": 2,
       "version_minor": 0
      },
      "text/plain": [
       "Validation: 0it [00:00, ?it/s]"
      ]
     },
     "metadata": {},
     "output_type": "display_data"
    },
    {
     "data": {
      "application/vnd.jupyter.widget-view+json": {
       "model_id": "bd91020f6ff64c948fd1e1a81bf01b01",
       "version_major": 2,
       "version_minor": 0
      },
      "text/plain": [
       "Validation: 0it [00:00, ?it/s]"
      ]
     },
     "metadata": {},
     "output_type": "display_data"
    },
    {
     "data": {
      "application/vnd.jupyter.widget-view+json": {
       "model_id": "92f4049c004a43f2bc487e104ff49d38",
       "version_major": 2,
       "version_minor": 0
      },
      "text/plain": [
       "Validation: 0it [00:00, ?it/s]"
      ]
     },
     "metadata": {},
     "output_type": "display_data"
    },
    {
     "data": {
      "application/vnd.jupyter.widget-view+json": {
       "model_id": "f24c8c136c4a42ad8d768c94447f2bc0",
       "version_major": 2,
       "version_minor": 0
      },
      "text/plain": [
       "Validation: 0it [00:00, ?it/s]"
      ]
     },
     "metadata": {},
     "output_type": "display_data"
    },
    {
     "data": {
      "application/vnd.jupyter.widget-view+json": {
       "model_id": "673ad41b79514027ae30617e4d84487c",
       "version_major": 2,
       "version_minor": 0
      },
      "text/plain": [
       "Validation: 0it [00:00, ?it/s]"
      ]
     },
     "metadata": {},
     "output_type": "display_data"
    },
    {
     "data": {
      "application/vnd.jupyter.widget-view+json": {
       "model_id": "0b38d06377d04d4a9e602a4ed9ca83a7",
       "version_major": 2,
       "version_minor": 0
      },
      "text/plain": [
       "Validation: 0it [00:00, ?it/s]"
      ]
     },
     "metadata": {},
     "output_type": "display_data"
    },
    {
     "data": {
      "application/vnd.jupyter.widget-view+json": {
       "model_id": "f2a2ee698a254e238f7228a5d715fba4",
       "version_major": 2,
       "version_minor": 0
      },
      "text/plain": [
       "Validation: 0it [00:00, ?it/s]"
      ]
     },
     "metadata": {},
     "output_type": "display_data"
    },
    {
     "data": {
      "application/vnd.jupyter.widget-view+json": {
       "model_id": "7c72e4a8703e4060a3ce5a66e097d5f4",
       "version_major": 2,
       "version_minor": 0
      },
      "text/plain": [
       "Validation: 0it [00:00, ?it/s]"
      ]
     },
     "metadata": {},
     "output_type": "display_data"
    },
    {
     "data": {
      "application/vnd.jupyter.widget-view+json": {
       "model_id": "a3382b24b4aa4809b87089f9d85ac06d",
       "version_major": 2,
       "version_minor": 0
      },
      "text/plain": [
       "Validation: 0it [00:00, ?it/s]"
      ]
     },
     "metadata": {},
     "output_type": "display_data"
    },
    {
     "data": {
      "application/vnd.jupyter.widget-view+json": {
       "model_id": "a285dd81afe04a0e92bc6f302aadbad5",
       "version_major": 2,
       "version_minor": 0
      },
      "text/plain": [
       "Validation: 0it [00:00, ?it/s]"
      ]
     },
     "metadata": {},
     "output_type": "display_data"
    },
    {
     "data": {
      "application/vnd.jupyter.widget-view+json": {
       "model_id": "9c4bd1ae944245e9954653a5e504e918",
       "version_major": 2,
       "version_minor": 0
      },
      "text/plain": [
       "Validation: 0it [00:00, ?it/s]"
      ]
     },
     "metadata": {},
     "output_type": "display_data"
    },
    {
     "data": {
      "application/vnd.jupyter.widget-view+json": {
       "model_id": "65e88dd1745c4657aba4461c5f192308",
       "version_major": 2,
       "version_minor": 0
      },
      "text/plain": [
       "Validation: 0it [00:00, ?it/s]"
      ]
     },
     "metadata": {},
     "output_type": "display_data"
    },
    {
     "data": {
      "application/vnd.jupyter.widget-view+json": {
       "model_id": "7aa18dfb550e470c92baf5a20d1e43b8",
       "version_major": 2,
       "version_minor": 0
      },
      "text/plain": [
       "Validation: 0it [00:00, ?it/s]"
      ]
     },
     "metadata": {},
     "output_type": "display_data"
    },
    {
     "data": {
      "application/vnd.jupyter.widget-view+json": {
       "model_id": "d4f250d8b1f442ebb4cddcf4b7029b67",
       "version_major": 2,
       "version_minor": 0
      },
      "text/plain": [
       "Validation: 0it [00:00, ?it/s]"
      ]
     },
     "metadata": {},
     "output_type": "display_data"
    },
    {
     "data": {
      "application/vnd.jupyter.widget-view+json": {
       "model_id": "e491ad20b9b24acd8dd43e30419a23e3",
       "version_major": 2,
       "version_minor": 0
      },
      "text/plain": [
       "Validation: 0it [00:00, ?it/s]"
      ]
     },
     "metadata": {},
     "output_type": "display_data"
    },
    {
     "data": {
      "application/vnd.jupyter.widget-view+json": {
       "model_id": "bd0ebcde29964a05958245eae44b8a87",
       "version_major": 2,
       "version_minor": 0
      },
      "text/plain": [
       "Validation: 0it [00:00, ?it/s]"
      ]
     },
     "metadata": {},
     "output_type": "display_data"
    },
    {
     "data": {
      "application/vnd.jupyter.widget-view+json": {
       "model_id": "e8ae9b208a9949709da178b25a0e0848",
       "version_major": 2,
       "version_minor": 0
      },
      "text/plain": [
       "Validation: 0it [00:00, ?it/s]"
      ]
     },
     "metadata": {},
     "output_type": "display_data"
    },
    {
     "data": {
      "application/vnd.jupyter.widget-view+json": {
       "model_id": "1e73e775e1d8447fa8a247da1b8b9baf",
       "version_major": 2,
       "version_minor": 0
      },
      "text/plain": [
       "Validation: 0it [00:00, ?it/s]"
      ]
     },
     "metadata": {},
     "output_type": "display_data"
    },
    {
     "data": {
      "application/vnd.jupyter.widget-view+json": {
       "model_id": "ec7f68ec140542839bff1243f741b0ab",
       "version_major": 2,
       "version_minor": 0
      },
      "text/plain": [
       "Validation: 0it [00:00, ?it/s]"
      ]
     },
     "metadata": {},
     "output_type": "display_data"
    },
    {
     "data": {
      "application/vnd.jupyter.widget-view+json": {
       "model_id": "b7041a183e1f4c86a1c9fab30b470a6a",
       "version_major": 2,
       "version_minor": 0
      },
      "text/plain": [
       "Validation: 0it [00:00, ?it/s]"
      ]
     },
     "metadata": {},
     "output_type": "display_data"
    },
    {
     "data": {
      "application/vnd.jupyter.widget-view+json": {
       "model_id": "aa38988268c04b2784db00053d98adb0",
       "version_major": 2,
       "version_minor": 0
      },
      "text/plain": [
       "Validation: 0it [00:00, ?it/s]"
      ]
     },
     "metadata": {},
     "output_type": "display_data"
    },
    {
     "data": {
      "application/vnd.jupyter.widget-view+json": {
       "model_id": "f5276b59317b4bbbb0ebd00d3e5ca15c",
       "version_major": 2,
       "version_minor": 0
      },
      "text/plain": [
       "Validation: 0it [00:00, ?it/s]"
      ]
     },
     "metadata": {},
     "output_type": "display_data"
    },
    {
     "data": {
      "application/vnd.jupyter.widget-view+json": {
       "model_id": "29f4c72a299c43388aff00710e27d519",
       "version_major": 2,
       "version_minor": 0
      },
      "text/plain": [
       "Validation: 0it [00:00, ?it/s]"
      ]
     },
     "metadata": {},
     "output_type": "display_data"
    },
    {
     "data": {
      "application/vnd.jupyter.widget-view+json": {
       "model_id": "a08c7f099aab43b1b8f97d032e65317a",
       "version_major": 2,
       "version_minor": 0
      },
      "text/plain": [
       "Validation: 0it [00:00, ?it/s]"
      ]
     },
     "metadata": {},
     "output_type": "display_data"
    },
    {
     "data": {
      "application/vnd.jupyter.widget-view+json": {
       "model_id": "855d7452692143a79bfadc846572bd6f",
       "version_major": 2,
       "version_minor": 0
      },
      "text/plain": [
       "Validation: 0it [00:00, ?it/s]"
      ]
     },
     "metadata": {},
     "output_type": "display_data"
    },
    {
     "data": {
      "application/vnd.jupyter.widget-view+json": {
       "model_id": "14fd75b4fbaf481f850c57b390412175",
       "version_major": 2,
       "version_minor": 0
      },
      "text/plain": [
       "Validation: 0it [00:00, ?it/s]"
      ]
     },
     "metadata": {},
     "output_type": "display_data"
    },
    {
     "data": {
      "application/vnd.jupyter.widget-view+json": {
       "model_id": "ecca703378a84d5b945703ca1cece37c",
       "version_major": 2,
       "version_minor": 0
      },
      "text/plain": [
       "Validation: 0it [00:00, ?it/s]"
      ]
     },
     "metadata": {},
     "output_type": "display_data"
    },
    {
     "data": {
      "application/vnd.jupyter.widget-view+json": {
       "model_id": "22e63544400643f1bac71e8aeda57ec2",
       "version_major": 2,
       "version_minor": 0
      },
      "text/plain": [
       "Validation: 0it [00:00, ?it/s]"
      ]
     },
     "metadata": {},
     "output_type": "display_data"
    },
    {
     "data": {
      "application/vnd.jupyter.widget-view+json": {
       "model_id": "abf5add966e24b968ecd55f84e45e40b",
       "version_major": 2,
       "version_minor": 0
      },
      "text/plain": [
       "Validation: 0it [00:00, ?it/s]"
      ]
     },
     "metadata": {},
     "output_type": "display_data"
    },
    {
     "data": {
      "application/vnd.jupyter.widget-view+json": {
       "model_id": "b911df6055514bc2883c148019dd5555",
       "version_major": 2,
       "version_minor": 0
      },
      "text/plain": [
       "Validation: 0it [00:00, ?it/s]"
      ]
     },
     "metadata": {},
     "output_type": "display_data"
    },
    {
     "data": {
      "application/vnd.jupyter.widget-view+json": {
       "model_id": "5563132d535746148b13789dba87c8ae",
       "version_major": 2,
       "version_minor": 0
      },
      "text/plain": [
       "Validation: 0it [00:00, ?it/s]"
      ]
     },
     "metadata": {},
     "output_type": "display_data"
    },
    {
     "data": {
      "application/vnd.jupyter.widget-view+json": {
       "model_id": "1b422fd50e564c7ea6ac33fa467c8bb3",
       "version_major": 2,
       "version_minor": 0
      },
      "text/plain": [
       "Validation: 0it [00:00, ?it/s]"
      ]
     },
     "metadata": {},
     "output_type": "display_data"
    },
    {
     "data": {
      "application/vnd.jupyter.widget-view+json": {
       "model_id": "819debc2a557411cb3ec21c5267c1a5b",
       "version_major": 2,
       "version_minor": 0
      },
      "text/plain": [
       "Validation: 0it [00:00, ?it/s]"
      ]
     },
     "metadata": {},
     "output_type": "display_data"
    },
    {
     "data": {
      "application/vnd.jupyter.widget-view+json": {
       "model_id": "c60fa1753a4b4261913f75ab168a50c5",
       "version_major": 2,
       "version_minor": 0
      },
      "text/plain": [
       "Validation: 0it [00:00, ?it/s]"
      ]
     },
     "metadata": {},
     "output_type": "display_data"
    },
    {
     "data": {
      "application/vnd.jupyter.widget-view+json": {
       "model_id": "20a6f3427b124feb8fbfa4348e390d36",
       "version_major": 2,
       "version_minor": 0
      },
      "text/plain": [
       "Validation: 0it [00:00, ?it/s]"
      ]
     },
     "metadata": {},
     "output_type": "display_data"
    },
    {
     "data": {
      "application/vnd.jupyter.widget-view+json": {
       "model_id": "f5e21c22dbdc414486df1221f2c2a93e",
       "version_major": 2,
       "version_minor": 0
      },
      "text/plain": [
       "Validation: 0it [00:00, ?it/s]"
      ]
     },
     "metadata": {},
     "output_type": "display_data"
    },
    {
     "data": {
      "application/vnd.jupyter.widget-view+json": {
       "model_id": "f6300113406f4d72b804ff2cd5641521",
       "version_major": 2,
       "version_minor": 0
      },
      "text/plain": [
       "Validation: 0it [00:00, ?it/s]"
      ]
     },
     "metadata": {},
     "output_type": "display_data"
    },
    {
     "data": {
      "application/vnd.jupyter.widget-view+json": {
       "model_id": "e3ddff00af704ac585574873f2deca16",
       "version_major": 2,
       "version_minor": 0
      },
      "text/plain": [
       "Validation: 0it [00:00, ?it/s]"
      ]
     },
     "metadata": {},
     "output_type": "display_data"
    },
    {
     "data": {
      "application/vnd.jupyter.widget-view+json": {
       "model_id": "aaf28aa6431345e2b7f2db594f7c525e",
       "version_major": 2,
       "version_minor": 0
      },
      "text/plain": [
       "Validation: 0it [00:00, ?it/s]"
      ]
     },
     "metadata": {},
     "output_type": "display_data"
    },
    {
     "data": {
      "application/vnd.jupyter.widget-view+json": {
       "model_id": "002176398df449ab9e615ade47cf4991",
       "version_major": 2,
       "version_minor": 0
      },
      "text/plain": [
       "Validation: 0it [00:00, ?it/s]"
      ]
     },
     "metadata": {},
     "output_type": "display_data"
    },
    {
     "data": {
      "application/vnd.jupyter.widget-view+json": {
       "model_id": "d42a9cdce6aa4fb08a3f3e14008ae736",
       "version_major": 2,
       "version_minor": 0
      },
      "text/plain": [
       "Validation: 0it [00:00, ?it/s]"
      ]
     },
     "metadata": {},
     "output_type": "display_data"
    },
    {
     "data": {
      "application/vnd.jupyter.widget-view+json": {
       "model_id": "f90e0f7993f74e61859ecbc546594850",
       "version_major": 2,
       "version_minor": 0
      },
      "text/plain": [
       "Validation: 0it [00:00, ?it/s]"
      ]
     },
     "metadata": {},
     "output_type": "display_data"
    },
    {
     "data": {
      "application/vnd.jupyter.widget-view+json": {
       "model_id": "f3e86c1c6e8e4c8e886d411fb3707be3",
       "version_major": 2,
       "version_minor": 0
      },
      "text/plain": [
       "Validation: 0it [00:00, ?it/s]"
      ]
     },
     "metadata": {},
     "output_type": "display_data"
    },
    {
     "data": {
      "application/vnd.jupyter.widget-view+json": {
       "model_id": "9bdc47538db24a099250fc27c2849e12",
       "version_major": 2,
       "version_minor": 0
      },
      "text/plain": [
       "Validation: 0it [00:00, ?it/s]"
      ]
     },
     "metadata": {},
     "output_type": "display_data"
    },
    {
     "data": {
      "application/vnd.jupyter.widget-view+json": {
       "model_id": "f445770532424d99a852b0ce23e068a5",
       "version_major": 2,
       "version_minor": 0
      },
      "text/plain": [
       "Validation: 0it [00:00, ?it/s]"
      ]
     },
     "metadata": {},
     "output_type": "display_data"
    },
    {
     "data": {
      "application/vnd.jupyter.widget-view+json": {
       "model_id": "84c82d55a60d4788a18c1b4e342c3ca9",
       "version_major": 2,
       "version_minor": 0
      },
      "text/plain": [
       "Validation: 0it [00:00, ?it/s]"
      ]
     },
     "metadata": {},
     "output_type": "display_data"
    },
    {
     "data": {
      "application/vnd.jupyter.widget-view+json": {
       "model_id": "53159d9e572e40dea8e2a20ba923f4ee",
       "version_major": 2,
       "version_minor": 0
      },
      "text/plain": [
       "Validation: 0it [00:00, ?it/s]"
      ]
     },
     "metadata": {},
     "output_type": "display_data"
    },
    {
     "data": {
      "application/vnd.jupyter.widget-view+json": {
       "model_id": "8d3867fb160d420a9f50cd369573b5e6",
       "version_major": 2,
       "version_minor": 0
      },
      "text/plain": [
       "Validation: 0it [00:00, ?it/s]"
      ]
     },
     "metadata": {},
     "output_type": "display_data"
    },
    {
     "data": {
      "application/vnd.jupyter.widget-view+json": {
       "model_id": "e0b9fc04b48c4dce98d9bc49d58c1917",
       "version_major": 2,
       "version_minor": 0
      },
      "text/plain": [
       "Validation: 0it [00:00, ?it/s]"
      ]
     },
     "metadata": {},
     "output_type": "display_data"
    },
    {
     "data": {
      "application/vnd.jupyter.widget-view+json": {
       "model_id": "3570052c9e07477a8058d1c935fca92d",
       "version_major": 2,
       "version_minor": 0
      },
      "text/plain": [
       "Validation: 0it [00:00, ?it/s]"
      ]
     },
     "metadata": {},
     "output_type": "display_data"
    },
    {
     "data": {
      "application/vnd.jupyter.widget-view+json": {
       "model_id": "f37e9004444743bc8044370eccbc6673",
       "version_major": 2,
       "version_minor": 0
      },
      "text/plain": [
       "Validation: 0it [00:00, ?it/s]"
      ]
     },
     "metadata": {},
     "output_type": "display_data"
    },
    {
     "data": {
      "application/vnd.jupyter.widget-view+json": {
       "model_id": "4e0bf545d7f148d79e9c248911cf00db",
       "version_major": 2,
       "version_minor": 0
      },
      "text/plain": [
       "Validation: 0it [00:00, ?it/s]"
      ]
     },
     "metadata": {},
     "output_type": "display_data"
    },
    {
     "data": {
      "application/vnd.jupyter.widget-view+json": {
       "model_id": "35e460ab82294be89a21b77ea5bb4d6f",
       "version_major": 2,
       "version_minor": 0
      },
      "text/plain": [
       "Validation: 0it [00:00, ?it/s]"
      ]
     },
     "metadata": {},
     "output_type": "display_data"
    },
    {
     "data": {
      "application/vnd.jupyter.widget-view+json": {
       "model_id": "54aceb2ee0644bac92dc30c007fd0e95",
       "version_major": 2,
       "version_minor": 0
      },
      "text/plain": [
       "Validation: 0it [00:00, ?it/s]"
      ]
     },
     "metadata": {},
     "output_type": "display_data"
    },
    {
     "data": {
      "application/vnd.jupyter.widget-view+json": {
       "model_id": "fed562d387334d9cbebd7459527cb925",
       "version_major": 2,
       "version_minor": 0
      },
      "text/plain": [
       "Validation: 0it [00:00, ?it/s]"
      ]
     },
     "metadata": {},
     "output_type": "display_data"
    },
    {
     "data": {
      "application/vnd.jupyter.widget-view+json": {
       "model_id": "a9e9c9e524824db7b86c8076382db4c8",
       "version_major": 2,
       "version_minor": 0
      },
      "text/plain": [
       "Validation: 0it [00:00, ?it/s]"
      ]
     },
     "metadata": {},
     "output_type": "display_data"
    },
    {
     "data": {
      "application/vnd.jupyter.widget-view+json": {
       "model_id": "69df2cfe1595442a8e435b6842b1d6ff",
       "version_major": 2,
       "version_minor": 0
      },
      "text/plain": [
       "Validation: 0it [00:00, ?it/s]"
      ]
     },
     "metadata": {},
     "output_type": "display_data"
    },
    {
     "data": {
      "application/vnd.jupyter.widget-view+json": {
       "model_id": "5ce96d913e424a70a070f12f6d8496e8",
       "version_major": 2,
       "version_minor": 0
      },
      "text/plain": [
       "Validation: 0it [00:00, ?it/s]"
      ]
     },
     "metadata": {},
     "output_type": "display_data"
    },
    {
     "data": {
      "application/vnd.jupyter.widget-view+json": {
       "model_id": "0c08bcbb2e5b4062989d38c69205f21d",
       "version_major": 2,
       "version_minor": 0
      },
      "text/plain": [
       "Validation: 0it [00:00, ?it/s]"
      ]
     },
     "metadata": {},
     "output_type": "display_data"
    },
    {
     "data": {
      "application/vnd.jupyter.widget-view+json": {
       "model_id": "5c8a2c83bc17416d8e1269b6cd8fbb00",
       "version_major": 2,
       "version_minor": 0
      },
      "text/plain": [
       "Validation: 0it [00:00, ?it/s]"
      ]
     },
     "metadata": {},
     "output_type": "display_data"
    },
    {
     "data": {
      "application/vnd.jupyter.widget-view+json": {
       "model_id": "11a8320475ec4518adb3db897e78325d",
       "version_major": 2,
       "version_minor": 0
      },
      "text/plain": [
       "Validation: 0it [00:00, ?it/s]"
      ]
     },
     "metadata": {},
     "output_type": "display_data"
    },
    {
     "data": {
      "application/vnd.jupyter.widget-view+json": {
       "model_id": "b57a98f81320493589fc0c439ab5ae46",
       "version_major": 2,
       "version_minor": 0
      },
      "text/plain": [
       "Validation: 0it [00:00, ?it/s]"
      ]
     },
     "metadata": {},
     "output_type": "display_data"
    },
    {
     "data": {
      "application/vnd.jupyter.widget-view+json": {
       "model_id": "321a728fdb544f29a2e0ea8ef42cd814",
       "version_major": 2,
       "version_minor": 0
      },
      "text/plain": [
       "Validation: 0it [00:00, ?it/s]"
      ]
     },
     "metadata": {},
     "output_type": "display_data"
    },
    {
     "data": {
      "application/vnd.jupyter.widget-view+json": {
       "model_id": "a8dabaca4bc6415190b552a6f8fbf05d",
       "version_major": 2,
       "version_minor": 0
      },
      "text/plain": [
       "Validation: 0it [00:00, ?it/s]"
      ]
     },
     "metadata": {},
     "output_type": "display_data"
    },
    {
     "data": {
      "application/vnd.jupyter.widget-view+json": {
       "model_id": "ed729214de0c4b2bbeb6987588b72ceb",
       "version_major": 2,
       "version_minor": 0
      },
      "text/plain": [
       "Validation: 0it [00:00, ?it/s]"
      ]
     },
     "metadata": {},
     "output_type": "display_data"
    },
    {
     "data": {
      "application/vnd.jupyter.widget-view+json": {
       "model_id": "936ac777ec5341989c49c69df279c127",
       "version_major": 2,
       "version_minor": 0
      },
      "text/plain": [
       "Validation: 0it [00:00, ?it/s]"
      ]
     },
     "metadata": {},
     "output_type": "display_data"
    },
    {
     "data": {
      "application/vnd.jupyter.widget-view+json": {
       "model_id": "e25d938a09524d9aa2f7a064e92a2fa9",
       "version_major": 2,
       "version_minor": 0
      },
      "text/plain": [
       "Validation: 0it [00:00, ?it/s]"
      ]
     },
     "metadata": {},
     "output_type": "display_data"
    },
    {
     "data": {
      "application/vnd.jupyter.widget-view+json": {
       "model_id": "a31c754fde7740d1bb1bafcc0bec1306",
       "version_major": 2,
       "version_minor": 0
      },
      "text/plain": [
       "Validation: 0it [00:00, ?it/s]"
      ]
     },
     "metadata": {},
     "output_type": "display_data"
    },
    {
     "data": {
      "application/vnd.jupyter.widget-view+json": {
       "model_id": "0f71bc754d744483bbc5716674d64390",
       "version_major": 2,
       "version_minor": 0
      },
      "text/plain": [
       "Validation: 0it [00:00, ?it/s]"
      ]
     },
     "metadata": {},
     "output_type": "display_data"
    },
    {
     "data": {
      "application/vnd.jupyter.widget-view+json": {
       "model_id": "affb250f8e564417905e5fb240a21c6c",
       "version_major": 2,
       "version_minor": 0
      },
      "text/plain": [
       "Validation: 0it [00:00, ?it/s]"
      ]
     },
     "metadata": {},
     "output_type": "display_data"
    },
    {
     "data": {
      "application/vnd.jupyter.widget-view+json": {
       "model_id": "237f1d7821c04517bfdd16752cdf39b2",
       "version_major": 2,
       "version_minor": 0
      },
      "text/plain": [
       "Validation: 0it [00:00, ?it/s]"
      ]
     },
     "metadata": {},
     "output_type": "display_data"
    },
    {
     "data": {
      "application/vnd.jupyter.widget-view+json": {
       "model_id": "f40e5eec287d4f2cb79f701a5a543b90",
       "version_major": 2,
       "version_minor": 0
      },
      "text/plain": [
       "Validation: 0it [00:00, ?it/s]"
      ]
     },
     "metadata": {},
     "output_type": "display_data"
    },
    {
     "data": {
      "application/vnd.jupyter.widget-view+json": {
       "model_id": "28335184f0d142a69e7cda7bcfc6238d",
       "version_major": 2,
       "version_minor": 0
      },
      "text/plain": [
       "Validation: 0it [00:00, ?it/s]"
      ]
     },
     "metadata": {},
     "output_type": "display_data"
    },
    {
     "data": {
      "application/vnd.jupyter.widget-view+json": {
       "model_id": "0e90de442ffe4d37a2e62e288c2d66f2",
       "version_major": 2,
       "version_minor": 0
      },
      "text/plain": [
       "Validation: 0it [00:00, ?it/s]"
      ]
     },
     "metadata": {},
     "output_type": "display_data"
    }
   ],
   "source": [
    "trainer.fit(enc_dec_net, xy_train, xy_val) "
   ]
  },
  {
   "cell_type": "code",
   "execution_count": 46,
   "id": "9aa3536b-174a-4330-a43a-fe75eb276797",
   "metadata": {},
   "outputs": [
    {
     "data": {
      "text/html": [
       "<div>\n",
       "<style scoped>\n",
       "    .dataframe tbody tr th:only-of-type {\n",
       "        vertical-align: middle;\n",
       "    }\n",
       "\n",
       "    .dataframe tbody tr th {\n",
       "        vertical-align: top;\n",
       "    }\n",
       "\n",
       "    .dataframe thead th {\n",
       "        text-align: right;\n",
       "    }\n",
       "</style>\n",
       "<table border=\"1\" class=\"dataframe\">\n",
       "  <thead>\n",
       "    <tr style=\"text-align: right;\">\n",
       "      <th></th>\n",
       "      <th>val_acc</th>\n",
       "      <th>val_loss</th>\n",
       "      <th>epoch</th>\n",
       "      <th>step</th>\n",
       "      <th>test_acc</th>\n",
       "      <th>test_loss</th>\n",
       "      <th>train_acc</th>\n",
       "      <th>train_loss</th>\n",
       "    </tr>\n",
       "  </thead>\n",
       "  <tbody>\n",
       "    <tr>\n",
       "      <th>0</th>\n",
       "      <td>0.005682</td>\n",
       "      <td>4.304074</td>\n",
       "      <td>0</td>\n",
       "      <td>0</td>\n",
       "      <td>NaN</td>\n",
       "      <td>NaN</td>\n",
       "      <td>NaN</td>\n",
       "      <td>NaN</td>\n",
       "    </tr>\n",
       "    <tr>\n",
       "      <th>1</th>\n",
       "      <td>NaN</td>\n",
       "      <td>NaN</td>\n",
       "      <td>0</td>\n",
       "      <td>0</td>\n",
       "      <td>0.005682</td>\n",
       "      <td>4.483646</td>\n",
       "      <td>NaN</td>\n",
       "      <td>NaN</td>\n",
       "    </tr>\n",
       "    <tr>\n",
       "      <th>2</th>\n",
       "      <td>0.232955</td>\n",
       "      <td>3.381238</td>\n",
       "      <td>0</td>\n",
       "      <td>3</td>\n",
       "      <td>NaN</td>\n",
       "      <td>NaN</td>\n",
       "      <td>NaN</td>\n",
       "      <td>NaN</td>\n",
       "    </tr>\n",
       "    <tr>\n",
       "      <th>3</th>\n",
       "      <td>NaN</td>\n",
       "      <td>NaN</td>\n",
       "      <td>0</td>\n",
       "      <td>3</td>\n",
       "      <td>NaN</td>\n",
       "      <td>NaN</td>\n",
       "      <td>0.095816</td>\n",
       "      <td>3.815603</td>\n",
       "    </tr>\n",
       "    <tr>\n",
       "      <th>4</th>\n",
       "      <td>0.244318</td>\n",
       "      <td>3.016538</td>\n",
       "      <td>1</td>\n",
       "      <td>7</td>\n",
       "      <td>NaN</td>\n",
       "      <td>NaN</td>\n",
       "      <td>NaN</td>\n",
       "      <td>NaN</td>\n",
       "    </tr>\n",
       "    <tr>\n",
       "      <th>...</th>\n",
       "      <td>...</td>\n",
       "      <td>...</td>\n",
       "      <td>...</td>\n",
       "      <td>...</td>\n",
       "      <td>...</td>\n",
       "      <td>...</td>\n",
       "      <td>...</td>\n",
       "      <td>...</td>\n",
       "    </tr>\n",
       "    <tr>\n",
       "      <th>597</th>\n",
       "      <td>NaN</td>\n",
       "      <td>NaN</td>\n",
       "      <td>297</td>\n",
       "      <td>1191</td>\n",
       "      <td>NaN</td>\n",
       "      <td>NaN</td>\n",
       "      <td>0.752423</td>\n",
       "      <td>0.638893</td>\n",
       "    </tr>\n",
       "    <tr>\n",
       "      <th>598</th>\n",
       "      <td>0.500000</td>\n",
       "      <td>2.722973</td>\n",
       "      <td>298</td>\n",
       "      <td>1195</td>\n",
       "      <td>NaN</td>\n",
       "      <td>NaN</td>\n",
       "      <td>NaN</td>\n",
       "      <td>NaN</td>\n",
       "    </tr>\n",
       "    <tr>\n",
       "      <th>599</th>\n",
       "      <td>NaN</td>\n",
       "      <td>NaN</td>\n",
       "      <td>298</td>\n",
       "      <td>1195</td>\n",
       "      <td>NaN</td>\n",
       "      <td>NaN</td>\n",
       "      <td>0.754551</td>\n",
       "      <td>0.596562</td>\n",
       "    </tr>\n",
       "    <tr>\n",
       "      <th>600</th>\n",
       "      <td>0.494318</td>\n",
       "      <td>2.749142</td>\n",
       "      <td>299</td>\n",
       "      <td>1199</td>\n",
       "      <td>NaN</td>\n",
       "      <td>NaN</td>\n",
       "      <td>NaN</td>\n",
       "      <td>NaN</td>\n",
       "    </tr>\n",
       "    <tr>\n",
       "      <th>601</th>\n",
       "      <td>NaN</td>\n",
       "      <td>NaN</td>\n",
       "      <td>299</td>\n",
       "      <td>1199</td>\n",
       "      <td>NaN</td>\n",
       "      <td>NaN</td>\n",
       "      <td>0.753089</td>\n",
       "      <td>0.625587</td>\n",
       "    </tr>\n",
       "  </tbody>\n",
       "</table>\n",
       "<p>602 rows × 8 columns</p>\n",
       "</div>"
      ],
      "text/plain": [
       "      val_acc  val_loss  epoch  step  test_acc  test_loss  train_acc  \\\n",
       "0    0.005682  4.304074      0     0       NaN        NaN        NaN   \n",
       "1         NaN       NaN      0     0  0.005682   4.483646        NaN   \n",
       "2    0.232955  3.381238      0     3       NaN        NaN        NaN   \n",
       "3         NaN       NaN      0     3       NaN        NaN   0.095816   \n",
       "4    0.244318  3.016538      1     7       NaN        NaN        NaN   \n",
       "..        ...       ...    ...   ...       ...        ...        ...   \n",
       "597       NaN       NaN    297  1191       NaN        NaN   0.752423   \n",
       "598  0.500000  2.722973    298  1195       NaN        NaN        NaN   \n",
       "599       NaN       NaN    298  1195       NaN        NaN   0.754551   \n",
       "600  0.494318  2.749142    299  1199       NaN        NaN        NaN   \n",
       "601       NaN       NaN    299  1199       NaN        NaN   0.753089   \n",
       "\n",
       "     train_loss  \n",
       "0           NaN  \n",
       "1           NaN  \n",
       "2           NaN  \n",
       "3      3.815603  \n",
       "4           NaN  \n",
       "..          ...  \n",
       "597    0.638893  \n",
       "598         NaN  \n",
       "599    0.596562  \n",
       "600         NaN  \n",
       "601    0.625587  \n",
       "\n",
       "[602 rows x 8 columns]"
      ]
     },
     "execution_count": 46,
     "metadata": {},
     "output_type": "execute_result"
    }
   ],
   "source": [
    "results = pd.read_csv(logger.log_dir+\"/metrics.csv\")\n",
    "results"
   ]
  },
  {
   "cell_type": "code",
   "execution_count": 48,
   "id": "aea2f2ed-2f0b-4c86-8c06-d1594d8a282c",
   "metadata": {},
   "outputs": [
    {
     "data": {
      "image/png": "[encoded data removed]",
      "text/plain": [
       "<Figure size 640x480 with 1 Axes>"
      ]
     },
     "metadata": {},
     "output_type": "display_data"
    }
   ],
   "source": [
    "plt.plot(results[\"epoch\"][np.logical_not(np.isnan(results[\"train_loss\"]))],\n",
    "         results[\"train_loss\"][np.logical_not(np.isnan(results[\"train_loss\"]))],\n",
    "         label=\"Training\")\n",
    "\n",
    "plt.plot(results[\"epoch\"][np.logical_not(np.isnan(results[\"val_loss\"]))], \n",
    "         results[\"val_loss\"][np.logical_not(np.isnan(results[\"val_loss\"]))], \n",
    "         label=\"Validation\")\n",
    "\n",
    "plt.legend() \n",
    "plt.ylabel(\"CCE Loss\") \n",
    "plt.xlabel(\"Epoch\") \n",
    "plt.show()"
   ]
  },
  {
   "cell_type": "code",
   "execution_count": 49,
   "id": "ce8c93f3-affb-4002-b33d-a8cfc98225a8",
   "metadata": {},
   "outputs": [
    {
     "data": {
      "image/png": "[encoded data removed]",
      "text/plain": [
       "<Figure size 640x480 with 1 Axes>"
      ]
     },
     "metadata": {},
     "output_type": "display_data"
    }
   ],
   "source": [
    "plt.plot(results[\"epoch\"][np.logical_not(np.isnan(results[\"train_acc\"]))], \n",
    "         results[\"train_acc\"][np.logical_not(np.isnan(results[\"train_acc\"]))], \n",
    "         label=\"Training\")\n",
    "plt.plot(results[\"epoch\"][np.logical_not(np.isnan(results[\"val_acc\"]))], \n",
    "         results[\"val_acc\"][np.logical_not(np.isnan(results[\"val_acc\"]))], \n",
    "         label=\"Validation\")\n",
    "\n",
    "plt.legend() \n",
    "plt.ylabel(\"Accuracy\")\n",
    "plt.xlabel(\"Epoch\") \n",
    "plt.show()"
   ]
  },
  {
   "cell_type": "code",
   "execution_count": 50,
   "id": "f59b29d9-9376-4739-83c5-ad71e07cad1e",
   "metadata": {},
   "outputs": [
    {
     "name": "stdout",
     "output_type": "stream",
     "text": [
      "\n",
      "Validation accuracy: 0.00568182 0.23295455 0.24431820 0.27840909 0.28409091 0.32954547 0.34090909 0.40909091 0.40340909 0.42045456 0.38636363 0.39772728 0.42045456 0.42045456 0.43181819 0.43750000 0.40909091 0.43181819 0.43181819 0.42045456 0.43750000 0.44318181 0.46022731 0.46590909 0.44318181 0.43181819 0.43750000 0.43750000 0.43750000 0.44886360 0.44318181 0.45454544 0.45454544 0.45454544 0.45454544 0.44886360 0.43750000 0.46022731 0.45454544 0.46022731 0.47159091 0.46590909 0.47159091 0.47159091 0.47727269 0.48863640 0.46590909 0.46590909 0.46590909 0.47159091 0.47159091 0.48295456 0.47727269 0.47727269 0.48295456 0.46022731 0.48295456 0.48295456 0.48863640 0.48863640 0.48295456 0.48295456 0.50000000 0.50000000 0.48295456 0.47727269 0.49431819 0.46590909 0.47727269 0.49431819 0.48863640 0.48295456 0.47727269 0.47159091 0.47727269 0.47727269 0.48295456 0.46590909 0.46590909 0.49431819 0.49431819 0.51136363 0.49431819 0.46590909 0.47159091 0.47727269 0.49431819 0.49431819 0.49431819 0.50000000 0.46590909 0.46022731 0.47727269 0.48295456 0.48863640 0.49431819 0.48295456 0.49431819 0.50000000 0.49431819 0.50000000 0.47727269 0.48295456 0.50000000 0.50568181 0.50000000 0.50000000 0.48295456 0.47727269 0.48295456 0.50568181 0.50000000 0.48295456 0.47727269 0.49431819 0.48863640 0.48295456 0.48863640 0.50000000 0.47159091 0.46590909 0.48295456 0.50000000 0.49431819 0.48863640 0.48295456 0.48295456 0.48863640 0.48295456 0.49431819 0.48863640 0.48863640 0.49431819 0.50000000 0.48295456 0.47727269 0.48295456 0.48295456 0.49431819 0.48295456 0.49431819 0.49431819 0.47727269 0.46022731 0.47727269 0.48295456 0.47727269 0.49431819 0.49431819 0.50568181 0.48863640 0.50000000 0.49431819 0.48295456 0.48295456 0.48295456 0.48863640 0.50000000 0.48863640 0.49431819 0.49431819 0.48863640 0.49431819 0.51136363 0.48295456 0.50000000 0.49431819 0.49431819 0.48863640 0.47727269 0.49431819 0.47727269 0.47727269 0.48863640 0.47727269 0.44318181 0.48295456 0.47727269 0.47727269 0.47159091 0.48295456 0.48863640 0.51136363 0.50000000 0.48863640 0.50000000 0.49431819 0.48863640 0.51136363 0.50568181 0.50000000 0.50000000 0.48863640 0.47727269 0.49431819 0.48295456 0.48295456 0.48295456 0.48863640 0.50000000 0.48295456 0.48295456 0.47159091 0.48863640 0.48295456 0.50000000 0.48863640 0.47159091 0.49431819 0.48863640 0.49431819 0.49431819 0.48863640 0.47159091 0.48295456 0.48295456 0.48863640 0.48863640 0.50000000 0.50000000 0.50568181 0.50000000 0.51136363 0.49431819 0.50000000 0.50000000 0.47727269 0.48295456 0.48295456 0.50000000 0.51136363 0.51136363 0.49431819 0.47159091 0.50000000 0.49431819 0.48295456 0.49431819 0.50000000 0.51136363 0.50568181 0.49431819 0.49431819 0.49431819 0.49431819 0.48863640 0.48295456 0.50000000 0.51136363 0.48863640 0.48863640 0.49431819 0.49431819 0.49431819 0.50000000 0.51136363 0.51136363 0.52272725 0.50568181 0.50000000 0.48863640 0.51136363 0.50568181 0.51704544 0.50568181 0.50000000 0.50568181 0.50000000 0.50568181 0.50568181 0.50568181 0.49431819 0.50568181 0.50568181 0.50000000 0.51704544 0.52840906 0.50568181 0.49431819 0.47727269 0.48295456 0.48863640 0.49431819 0.50000000 0.50000000 0.50000000 0.50000000 0.48863640 0.48863640 0.50568181 0.48863640 0.49431819 0.51136363 0.50568181 0.48863640 0.50000000 0.49431819 0.50000000 0.48863640 0.50000000 0.49431819\n",
      "\n",
      "\n"
     ]
    }
   ],
   "source": [
    "print(\"\")\n",
    "print(\"Validation accuracy:\", *[\"%.8f\"%(x) for x in results['val_acc'][np.logical_not(np.isnan(results[\"val_acc\"]))]])\n",
    "print(\"\")\n",
    "print(\"\")"
   ]
  },
  {
   "cell_type": "code",
   "execution_count": null,
   "id": "1aea3039-504f-45c6-9c65-413e54d2b865",
   "metadata": {},
   "outputs": [],
   "source": []
  }
 ],
 "metadata": {
  "kernelspec": {
   "display_name": "Python 3 (ipykernel)",
   "language": "python",
   "name": "python3"
  },
  "language_info": {
   "codemirror_mode": {
    "name": "ipython",
    "version": 3
   },
   "file_extension": ".py",
   "mimetype": "text/x-python",
   "name": "python",
   "nbconvert_exporter": "python",
   "pygments_lexer": "ipython3",
   "version": "3.11.5"
  }
 },
 "nbformat": 4,
 "nbformat_minor": 5
}
