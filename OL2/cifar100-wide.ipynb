{
 "cells": [
  {
   "cell_type": "code",
   "execution_count": 1,
   "id": "4162f5e6-0d40-4243-8896-a95687b4e9f9",
   "metadata": {},
   "outputs": [
    {
     "name": "stdout",
     "output_type": "stream",
     "text": [
      "Use GPU: True\n"
     ]
    }
   ],
   "source": [
    "import numpy as np\n",
    "import torch\n",
    "import torchvision\n",
    "import torchmetrics\n",
    "import lightning.pytorch as pl \n",
    "from torchinfo import summary \n",
    "from torchview import draw_graph \n",
    "import matplotlib.pyplot as plt \n",
    "import pandas as pd\n",
    "\n",
    "if (torch.cuda.is_available()): \n",
    "    device = (\"cuda\")\n",
    "else:\n",
    "    device = (\"cpu\")\n",
    "print(f\"Use GPU: {torch.cuda.is_available()}\")"
   ]
  },
  {
   "cell_type": "code",
   "execution_count": 29,
   "id": "7a034de5-a8e1-463d-abbd-435801ca8113",
   "metadata": {},
   "outputs": [],
   "source": [
    "# Config Section\n",
    "\n",
    "cfg_data_folder = \"datasets/cifar100\"\n",
    "# cfg_log_folder = \"logs\"\n",
    "# cfg_log_version = \"cifar10\"\n",
    "\n",
    "cfg_max_epochs = 50\n",
    "cfg_hidden_dims = 95\n",
    "\n",
    "cfg_num_workers = 2\n"
   ]
  },
  {
   "cell_type": "code",
   "execution_count": 19,
   "id": "395da7fa-425a-4a59-bdfa-baae373924ce",
   "metadata": {},
   "outputs": [
    {
     "name": "stdout",
     "output_type": "stream",
     "text": [
      "Files already downloaded and verified\n",
      "Files already downloaded and verified\n",
      "torch.Size([40000, 32, 32, 3])\n",
      "torch.Size([10000, 32, 32, 3])\n",
      "torch.Size([10000, 32, 32, 3])\n"
     ]
    }
   ],
   "source": [
    "# Load the data set and scale to [-1,+1]\n",
    "training_dataset = torchvision.datasets.CIFAR100(root=cfg_data_folder, download=True, train=True)\n",
    "testing_dataset = torchvision.datasets.CIFAR100(root=cfg_data_folder,  download=True, train=False) \n",
    "\n",
    "x_train = (torch.Tensor(training_dataset.data) / 127.5) - 1.0\n",
    "y_train = torch.Tensor(training_dataset.targets).to(torch.long)\n",
    "x_test = (torch.Tensor(testing_dataset.data) / 127.5) - 1.0 \n",
    "y_test = torch.Tensor(testing_dataset.targets).to(torch.long)\n",
    "\n",
    "# You can set a seed value here if you\n",
    "# want to control the shuffling process...\n",
    "rng = np.random.default_rng()\n",
    "permutation = rng.permutation(x_train.shape[0]) \n",
    "split_point = int(x_train.shape[0] * 0.8) # 80%/20% split\n",
    "\n",
    "# Split into validation/training - keep test # set aside for later...\n",
    "x_val = x_train[permutation][split_point:]\n",
    "y_val = y_train[permutation][split_point:]\n",
    "x_train = x_train[permutation][:split_point]\n",
    "y_train = y_train[permutation][:split_point]\n",
    "\n",
    "print(x_train.shape)\n",
    "print(x_val.shape)\n",
    "print(x_test.shape)"
   ]
  },
  {
   "cell_type": "code",
   "execution_count": 20,
   "id": "b6c10722-d6dd-4e5c-b149-c63b4265b53e",
   "metadata": {},
   "outputs": [
    {
     "data": {
      "text/plain": [
       "torch.Size([40000, 32, 32, 3])"
      ]
     },
     "execution_count": 20,
     "metadata": {},
     "output_type": "execute_result"
    }
   ],
   "source": [
    "x_train.shape"
   ]
  },
  {
   "cell_type": "code",
   "execution_count": 21,
   "id": "e568a3c0-2847-4d93-9ba6-175254bab782",
   "metadata": {},
   "outputs": [
    {
     "data": {
      "image/png": "[encoded data removed]",
      "text/plain": [
       "<Figure size 640x480 with 1 Axes>"
      ]
     },
     "metadata": {},
     "output_type": "display_data"
    }
   ],
   "source": [
    "plt.imshow((x_train[0].detach().numpy() + 1.0)/2.0)\n",
    "plt.show()"
   ]
  },
  {
   "cell_type": "code",
   "execution_count": 22,
   "id": "454976b3-5a60-4d90-ad24-c04bf5db38aa",
   "metadata": {},
   "outputs": [],
   "source": [
    "# Define model\n",
    "class WideNetwork(torch.nn.Module):\n",
    "    def __init__(self, input_size, output_size, hidden_size, **kwargs):\n",
    "        super().__init__(**kwargs)\n",
    "        self.flatten_layer = torch.nn.Flatten()\n",
    "        self.hidden_layer = torch.nn.Linear(input_size.numel(),\n",
    "                                            hidden_size)\n",
    "        self.layer_norm = torch.nn.LayerNorm(hidden_size)\n",
    "        self.batch_norm = torch.nn.BatchNorm1d(hidden_size)\n",
    "        self.hidden_activation = torch.nn.ReLU()\n",
    "        self.dropout = torch.nn.Dropout(0.5)\n",
    "        self.output_layer = torch.nn.Linear(hidden_size,\n",
    "                                            output_size)\n",
    "    \n",
    "    def forward(self, x):\n",
    "        y = x\n",
    "        y = self.flatten_layer(y)\n",
    "        y = self.hidden_activation(self.hidden_layer(y))\n",
    "        y = self.batch_norm(y) # Applying Batch Norm\n",
    "        y = self.dropout(y)\n",
    "        y = self.output_layer(y)\n",
    "        return y\n",
    "        \n",
    "    def predict(self, x):\n",
    "        y = x\n",
    "        y = self.forward(y)\n",
    "        y = torch.softmax(y, -1)\n",
    "        return y"
   ]
  },
  {
   "cell_type": "code",
   "execution_count": 23,
   "id": "a7efde5e-66d0-433c-a3a3-4bd3ae0bd621",
   "metadata": {},
   "outputs": [],
   "source": [
    "# Define Trainable Module\n",
    "class PLModel(pl.LightningModule):\n",
    "    def __init__(self, module, **kwargs):\n",
    "        # This is the contructor, where we typically make\n",
    "        # layer objects using provided arguments. \n",
    "        super().__init__(**kwargs) # Call the super class constructor \n",
    "        self.module = module\n",
    "        \n",
    "        # This creates an accuracy function\n",
    "        self.model_acc = torchmetrics.classification.Accuracy(task='multiclass', \n",
    "                                                              num_classes=module.output_layer.out_features)\n",
    "        # This creates a loss function\n",
    "        self.model_loss = torch.nn.CrossEntropyLoss()\n",
    "    \n",
    "    def forward(self, x):\n",
    "        return self.module.forward(x) \n",
    "        \n",
    "    def predict(self, x):\n",
    "        return self.module.predict(x)\n",
    "\n",
    "    def configure_optimizers(self):\n",
    "        optimizer = torch.optim.Adam(self.parameters(), lr=0.001)\n",
    "        return optimizer\n",
    "\n",
    "    def training_step(self, train_batch, batch_idx): \n",
    "        x, y_true = train_batch\n",
    "        y_pred = self(x)\n",
    "        acc = self.model_acc(y_pred, y_true)\n",
    "        loss = self.model_loss(y_pred, y_true) \n",
    "        self.log('train_acc',  acc,  on_step=False, on_epoch=True)\n",
    "        self.log('train_loss', loss, on_step=False, on_epoch=True) \n",
    "        return loss\n",
    "\n",
    "\n",
    "    def validation_step(self, val_batch, batch_idx): \n",
    "        x, y_true = val_batch\n",
    "        y_pred = self(x)\n",
    "        acc = self.model_acc(y_pred, y_true)\n",
    "        loss = self.model_loss(y_pred, y_true)\n",
    "        self.log('val_acc',  acc,  on_step=False, on_epoch=True)\n",
    "        self.log('val_loss', loss, on_step=False, on_epoch=True)\n",
    "        return loss\n",
    "        \n",
    "    def test_step(self, test_batch, batch_idx):\n",
    "        x, y_true = test_batch\n",
    "        y_pred = self(x)\n",
    "        acc = self.model_acc(y_pred,y_true)\n",
    "        loss = self.model_loss(y_pred,y_true)\n",
    "        self.log('test_acc',  acc,  on_step=False, on_epoch=True)\n",
    "        self.log('test_loss', loss, on_step=False, on_epoch=True)\n",
    "        return loss\n"
   ]
  },
  {
   "cell_type": "code",
   "execution_count": 30,
   "id": "14c05730-0b9a-42d5-a2a7-09ffa0b41624",
   "metadata": {},
   "outputs": [
    {
     "name": "stdout",
     "output_type": "stream",
     "text": [
      "Hidden Dims: 95\n"
     ]
    },
    {
     "data": {
      "text/plain": [
       "==========================================================================================\n",
       "Layer (type:depth-idx)                   Output Shape              Param #\n",
       "==========================================================================================\n",
       "PLModel                                  [1, 100]                  --\n",
       "├─WideNetwork: 1-1                       --                        190\n",
       "│    └─Flatten: 2-1                      [1, 3072]                 --\n",
       "│    └─Linear: 2-2                       [1, 95]                   291,935\n",
       "│    └─ReLU: 2-3                         [1, 95]                   --\n",
       "│    └─BatchNorm1d: 2-4                  [1, 95]                   190\n",
       "│    └─Dropout: 2-5                      [1, 95]                   --\n",
       "│    └─Linear: 2-6                       [1, 100]                  9,600\n",
       "==========================================================================================\n",
       "Total params: 301,915\n",
       "Trainable params: 301,915\n",
       "Non-trainable params: 0\n",
       "Total mult-adds (Units.MEGABYTES): 0.30\n",
       "==========================================================================================\n",
       "Input size (MB): 0.01\n",
       "Forward/backward pass size (MB): 0.00\n",
       "Params size (MB): 1.21\n",
       "Estimated Total Size (MB): 1.22\n",
       "=========================================================================================="
      ]
     },
     "execution_count": 30,
     "metadata": {},
     "output_type": "execute_result"
    }
   ],
   "source": [
    "print(f\"Hidden Dims: {cfg_hidden_dims}\")\n",
    "\n",
    "model = PLModel(WideNetwork(x_train.shape[1:],\n",
    "                            len(y_train.unique()),\n",
    "                            cfg_hidden_dims))\n",
    "\n",
    "summary(model, input_size=(1,)+x_train.shape[1:])"
   ]
  },
  {
   "cell_type": "code",
   "execution_count": 31,
   "id": "c0663c3c-8c0e-4a9a-b6df-88fe3a680911",
   "metadata": {},
   "outputs": [
    {
     "data": {
      "image/svg+xml": [
       "<?xml version=\"1.0\" encoding=\"UTF-8\" standalone=\"no\"?>\n",
       "<!DOCTYPE svg PUBLIC \"-//W3C//DTD SVG 1.1//EN\"\n",
       " \"http://www.w3.org/Graphics/SVG/1.1/DTD/svg11.dtd\">\n",
       "<!-- Generated by graphviz version 8.1.0 (20230707.2238)\n",
       " -->\n",
       "<!-- Title: model Pages: 1 -->\n",
       "<svg width=\"175pt\" height=\"595pt\"\n",
       " viewBox=\"0.00 0.00 175.00 595.00\" xmlns=\"http://www.w3.org/2000/svg\" xmlns:xlink=\"http://www.w3.org/1999/xlink\">\n",
       "<g id=\"graph0\" class=\"graph\" transform=\"scale(1 1) rotate(0) translate(4 591)\">\n",
       "<title>model</title>\n",
       "<polygon fill=\"white\" stroke=\"none\" points=\"-4,4 -4,-591 171,-591 171,4 -4,4\"/>\n",
       "<!-- 0 -->\n",
       "<g id=\"node1\" class=\"node\">\n",
       "<title>0</title>\n",
       "<polygon fill=\"lightyellow\" stroke=\"none\" points=\"153.88,-587 13.12,-587 13.12,-551.5 153.88,-551.5 153.88,-587\"/>\n",
       "<polygon fill=\"none\" stroke=\"black\" points=\"13.12,-551.5 13.12,-587 82.38,-587 82.38,-551.5 13.12,-551.5\"/>\n",
       "<text text-anchor=\"start\" x=\"18.12\" y=\"-572.5\" font-family=\"Linux libertine\" font-size=\"10.00\">input&#45;tensor</text>\n",
       "<text text-anchor=\"start\" x=\"29.38\" y=\"-559.75\" font-family=\"Linux libertine\" font-size=\"10.00\">depth:0</text>\n",
       "<polygon fill=\"none\" stroke=\"black\" points=\"82.38,-551.5 82.38,-587 153.88,-587 153.88,-551.5 82.38,-551.5\"/>\n",
       "<text text-anchor=\"start\" x=\"87.38\" y=\"-566.12\" font-family=\"Linux libertine\" font-size=\"10.00\">(1, 32, 32, 3)</text>\n",
       "</g>\n",
       "<!-- 1 -->\n",
       "<g id=\"node2\" class=\"node\">\n",
       "<title>1</title>\n",
       "<polygon fill=\"#c1ffc1\" stroke=\"none\" points=\"167,-515.5 0,-515.5 0,-471.5 167,-471.5 167,-515.5\"/>\n",
       "<polygon fill=\"none\" stroke=\"black\" points=\"0,-471.5 0,-515.5 46,-515.5 46,-471.5 0,-471.5\"/>\n",
       "<text text-anchor=\"start\" x=\"5.75\" y=\"-496.75\" font-family=\"Linux libertine\" font-size=\"10.00\">Flatten</text>\n",
       "<text text-anchor=\"start\" x=\"4.62\" y=\"-484\" font-family=\"Linux libertine\" font-size=\"10.00\">depth:1</text>\n",
       "<polygon fill=\"none\" stroke=\"black\" points=\"46,-493.5 46,-515.5 93,-515.5 93,-493.5 46,-493.5\"/>\n",
       "<text text-anchor=\"start\" x=\"55.62\" y=\"-501\" font-family=\"Linux libertine\" font-size=\"10.00\">input:</text>\n",
       "<polygon fill=\"none\" stroke=\"black\" points=\"93,-493.5 93,-515.5 167,-515.5 167,-493.5 93,-493.5\"/>\n",
       "<text text-anchor=\"start\" x=\"97.75\" y=\"-501\" font-family=\"Linux libertine\" font-size=\"10.00\">(1, 32, 32, 3) </text>\n",
       "<polygon fill=\"none\" stroke=\"black\" points=\"46,-471.5 46,-493.5 93,-493.5 93,-471.5 46,-471.5\"/>\n",
       "<text text-anchor=\"start\" x=\"50.75\" y=\"-479\" font-family=\"Linux libertine\" font-size=\"10.00\">output: </text>\n",
       "<polygon fill=\"none\" stroke=\"black\" points=\"93,-471.5 93,-493.5 167,-493.5 167,-471.5 93,-471.5\"/>\n",
       "<text text-anchor=\"start\" x=\"106.75\" y=\"-479\" font-family=\"Linux libertine\" font-size=\"10.00\">(1, 3072) </text>\n",
       "</g>\n",
       "<!-- 0&#45;&gt;1 -->\n",
       "<g id=\"edge1\" class=\"edge\">\n",
       "<title>0&#45;&gt;1</title>\n",
       "<path fill=\"none\" stroke=\"black\" d=\"M83.5,-551.51C83.5,-544.07 83.5,-535.04 83.5,-526.39\"/>\n",
       "<polygon fill=\"black\" stroke=\"black\" points=\"87,-526.39 83.5,-516.39 80,-526.39 87,-526.39\"/>\n",
       "</g>\n",
       "<!-- 2 -->\n",
       "<g id=\"node3\" class=\"node\">\n",
       "<title>2</title>\n",
       "<polygon fill=\"#c1ffc1\" stroke=\"none\" points=\"158,-435.5 9,-435.5 9,-391.5 158,-391.5 158,-435.5\"/>\n",
       "<polygon fill=\"none\" stroke=\"black\" points=\"9,-391.5 9,-435.5 55,-435.5 55,-391.5 9,-391.5\"/>\n",
       "<text text-anchor=\"start\" x=\"17\" y=\"-416.75\" font-family=\"Linux libertine\" font-size=\"10.00\">Linear</text>\n",
       "<text text-anchor=\"start\" x=\"13.62\" y=\"-404\" font-family=\"Linux libertine\" font-size=\"10.00\">depth:1</text>\n",
       "<polygon fill=\"none\" stroke=\"black\" points=\"55,-413.5 55,-435.5 102,-435.5 102,-413.5 55,-413.5\"/>\n",
       "<text text-anchor=\"start\" x=\"64.62\" y=\"-421\" font-family=\"Linux libertine\" font-size=\"10.00\">input:</text>\n",
       "<polygon fill=\"none\" stroke=\"black\" points=\"102,-413.5 102,-435.5 158,-435.5 158,-413.5 102,-413.5\"/>\n",
       "<text text-anchor=\"start\" x=\"106.75\" y=\"-421\" font-family=\"Linux libertine\" font-size=\"10.00\">(1, 3072) </text>\n",
       "<polygon fill=\"none\" stroke=\"black\" points=\"55,-391.5 55,-413.5 102,-413.5 102,-391.5 55,-391.5\"/>\n",
       "<text text-anchor=\"start\" x=\"59.75\" y=\"-399\" font-family=\"Linux libertine\" font-size=\"10.00\">output: </text>\n",
       "<polygon fill=\"none\" stroke=\"black\" points=\"102,-391.5 102,-413.5 158,-413.5 158,-391.5 102,-391.5\"/>\n",
       "<text text-anchor=\"start\" x=\"112.75\" y=\"-399\" font-family=\"Linux libertine\" font-size=\"10.00\">(1, 95) </text>\n",
       "</g>\n",
       "<!-- 1&#45;&gt;2 -->\n",
       "<g id=\"edge2\" class=\"edge\">\n",
       "<title>1&#45;&gt;2</title>\n",
       "<path fill=\"none\" stroke=\"black\" d=\"M83.5,-471.6C83.5,-463.82 83.5,-454.8 83.5,-446.26\"/>\n",
       "<polygon fill=\"black\" stroke=\"black\" points=\"87,-446.46 83.5,-436.46 80,-446.46 87,-446.46\"/>\n",
       "</g>\n",
       "<!-- 3 -->\n",
       "<g id=\"node4\" class=\"node\">\n",
       "<title>3</title>\n",
       "<polygon fill=\"#c1ffc1\" stroke=\"none\" points=\"152,-355.5 15,-355.5 15,-311.5 152,-311.5 152,-355.5\"/>\n",
       "<polygon fill=\"none\" stroke=\"black\" points=\"15,-311.5 15,-355.5 61,-355.5 61,-311.5 15,-311.5\"/>\n",
       "<text text-anchor=\"start\" x=\"25.25\" y=\"-336.75\" font-family=\"Linux libertine\" font-size=\"10.00\">ReLU</text>\n",
       "<text text-anchor=\"start\" x=\"19.62\" y=\"-324\" font-family=\"Linux libertine\" font-size=\"10.00\">depth:1</text>\n",
       "<polygon fill=\"none\" stroke=\"black\" points=\"61,-333.5 61,-355.5 108,-355.5 108,-333.5 61,-333.5\"/>\n",
       "<text text-anchor=\"start\" x=\"70.62\" y=\"-341\" font-family=\"Linux libertine\" font-size=\"10.00\">input:</text>\n",
       "<polygon fill=\"none\" stroke=\"black\" points=\"108,-333.5 108,-355.5 152,-355.5 152,-333.5 108,-333.5\"/>\n",
       "<text text-anchor=\"start\" x=\"112.75\" y=\"-341\" font-family=\"Linux libertine\" font-size=\"10.00\">(1, 95) </text>\n",
       "<polygon fill=\"none\" stroke=\"black\" points=\"61,-311.5 61,-333.5 108,-333.5 108,-311.5 61,-311.5\"/>\n",
       "<text text-anchor=\"start\" x=\"65.75\" y=\"-319\" font-family=\"Linux libertine\" font-size=\"10.00\">output: </text>\n",
       "<polygon fill=\"none\" stroke=\"black\" points=\"108,-311.5 108,-333.5 152,-333.5 152,-311.5 108,-311.5\"/>\n",
       "<text text-anchor=\"start\" x=\"112.75\" y=\"-319\" font-family=\"Linux libertine\" font-size=\"10.00\">(1, 95) </text>\n",
       "</g>\n",
       "<!-- 2&#45;&gt;3 -->\n",
       "<g id=\"edge3\" class=\"edge\">\n",
       "<title>2&#45;&gt;3</title>\n",
       "<path fill=\"none\" stroke=\"black\" d=\"M83.5,-391.6C83.5,-383.82 83.5,-374.8 83.5,-366.26\"/>\n",
       "<polygon fill=\"black\" stroke=\"black\" points=\"87,-366.46 83.5,-356.46 80,-366.46 87,-366.46\"/>\n",
       "</g>\n",
       "<!-- 4 -->\n",
       "<g id=\"node5\" class=\"node\">\n",
       "<title>4</title>\n",
       "<polygon fill=\"#c1ffc1\" stroke=\"none\" points=\"167,-275.5 0,-275.5 0,-231.5 167,-231.5 167,-275.5\"/>\n",
       "<polygon fill=\"none\" stroke=\"black\" points=\"0,-231.5 0,-275.5 76,-275.5 76,-231.5 0,-231.5\"/>\n",
       "<text text-anchor=\"start\" x=\"4.62\" y=\"-256.75\" font-family=\"Linux libertine\" font-size=\"10.00\">BatchNorm1d</text>\n",
       "<text text-anchor=\"start\" x=\"19.62\" y=\"-244\" font-family=\"Linux libertine\" font-size=\"10.00\">depth:1</text>\n",
       "<polygon fill=\"none\" stroke=\"black\" points=\"76,-253.5 76,-275.5 123,-275.5 123,-253.5 76,-253.5\"/>\n",
       "<text text-anchor=\"start\" x=\"85.62\" y=\"-261\" font-family=\"Linux libertine\" font-size=\"10.00\">input:</text>\n",
       "<polygon fill=\"none\" stroke=\"black\" points=\"123,-253.5 123,-275.5 167,-275.5 167,-253.5 123,-253.5\"/>\n",
       "<text text-anchor=\"start\" x=\"127.75\" y=\"-261\" font-family=\"Linux libertine\" font-size=\"10.00\">(1, 95) </text>\n",
       "<polygon fill=\"none\" stroke=\"black\" points=\"76,-231.5 76,-253.5 123,-253.5 123,-231.5 76,-231.5\"/>\n",
       "<text text-anchor=\"start\" x=\"80.75\" y=\"-239\" font-family=\"Linux libertine\" font-size=\"10.00\">output: </text>\n",
       "<polygon fill=\"none\" stroke=\"black\" points=\"123,-231.5 123,-253.5 167,-253.5 167,-231.5 123,-231.5\"/>\n",
       "<text text-anchor=\"start\" x=\"127.75\" y=\"-239\" font-family=\"Linux libertine\" font-size=\"10.00\">(1, 95) </text>\n",
       "</g>\n",
       "<!-- 3&#45;&gt;4 -->\n",
       "<g id=\"edge4\" class=\"edge\">\n",
       "<title>3&#45;&gt;4</title>\n",
       "<path fill=\"none\" stroke=\"black\" d=\"M83.5,-311.6C83.5,-303.82 83.5,-294.8 83.5,-286.26\"/>\n",
       "<polygon fill=\"black\" stroke=\"black\" points=\"87,-286.46 83.5,-276.46 80,-286.46 87,-286.46\"/>\n",
       "</g>\n",
       "<!-- 5 -->\n",
       "<g id=\"node6\" class=\"node\">\n",
       "<title>5</title>\n",
       "<polygon fill=\"#c1ffc1\" stroke=\"none\" points=\"153.5,-195.5 13.5,-195.5 13.5,-151.5 153.5,-151.5 153.5,-195.5\"/>\n",
       "<polygon fill=\"none\" stroke=\"black\" points=\"13.5,-151.5 13.5,-195.5 62.5,-195.5 62.5,-151.5 13.5,-151.5\"/>\n",
       "<text text-anchor=\"start\" x=\"18.5\" y=\"-176.75\" font-family=\"Linux libertine\" font-size=\"10.00\">Dropout</text>\n",
       "<text text-anchor=\"start\" x=\"19.62\" y=\"-164\" font-family=\"Linux libertine\" font-size=\"10.00\">depth:1</text>\n",
       "<polygon fill=\"none\" stroke=\"black\" points=\"62.5,-173.5 62.5,-195.5 109.5,-195.5 109.5,-173.5 62.5,-173.5\"/>\n",
       "<text text-anchor=\"start\" x=\"72.12\" y=\"-181\" font-family=\"Linux libertine\" font-size=\"10.00\">input:</text>\n",
       "<polygon fill=\"none\" stroke=\"black\" points=\"109.5,-173.5 109.5,-195.5 153.5,-195.5 153.5,-173.5 109.5,-173.5\"/>\n",
       "<text text-anchor=\"start\" x=\"114.25\" y=\"-181\" font-family=\"Linux libertine\" font-size=\"10.00\">(1, 95) </text>\n",
       "<polygon fill=\"none\" stroke=\"black\" points=\"62.5,-151.5 62.5,-173.5 109.5,-173.5 109.5,-151.5 62.5,-151.5\"/>\n",
       "<text text-anchor=\"start\" x=\"67.25\" y=\"-159\" font-family=\"Linux libertine\" font-size=\"10.00\">output: </text>\n",
       "<polygon fill=\"none\" stroke=\"black\" points=\"109.5,-151.5 109.5,-173.5 153.5,-173.5 153.5,-151.5 109.5,-151.5\"/>\n",
       "<text text-anchor=\"start\" x=\"114.25\" y=\"-159\" font-family=\"Linux libertine\" font-size=\"10.00\">(1, 95) </text>\n",
       "</g>\n",
       "<!-- 4&#45;&gt;5 -->\n",
       "<g id=\"edge5\" class=\"edge\">\n",
       "<title>4&#45;&gt;5</title>\n",
       "<path fill=\"none\" stroke=\"black\" d=\"M83.5,-231.6C83.5,-223.82 83.5,-214.8 83.5,-206.26\"/>\n",
       "<polygon fill=\"black\" stroke=\"black\" points=\"87,-206.46 83.5,-196.46 80,-206.46 87,-206.46\"/>\n",
       "</g>\n",
       "<!-- 6 -->\n",
       "<g id=\"node7\" class=\"node\">\n",
       "<title>6</title>\n",
       "<polygon fill=\"#c1ffc1\" stroke=\"none\" points=\"155,-115.5 12,-115.5 12,-71.5 155,-71.5 155,-115.5\"/>\n",
       "<polygon fill=\"none\" stroke=\"black\" points=\"12,-71.5 12,-115.5 58,-115.5 58,-71.5 12,-71.5\"/>\n",
       "<text text-anchor=\"start\" x=\"20\" y=\"-96.75\" font-family=\"Linux libertine\" font-size=\"10.00\">Linear</text>\n",
       "<text text-anchor=\"start\" x=\"16.62\" y=\"-84\" font-family=\"Linux libertine\" font-size=\"10.00\">depth:1</text>\n",
       "<polygon fill=\"none\" stroke=\"black\" points=\"58,-93.5 58,-115.5 105,-115.5 105,-93.5 58,-93.5\"/>\n",
       "<text text-anchor=\"start\" x=\"67.62\" y=\"-101\" font-family=\"Linux libertine\" font-size=\"10.00\">input:</text>\n",
       "<polygon fill=\"none\" stroke=\"black\" points=\"105,-93.5 105,-115.5 155,-115.5 155,-93.5 105,-93.5\"/>\n",
       "<text text-anchor=\"start\" x=\"112.75\" y=\"-101\" font-family=\"Linux libertine\" font-size=\"10.00\">(1, 95) </text>\n",
       "<polygon fill=\"none\" stroke=\"black\" points=\"58,-71.5 58,-93.5 105,-93.5 105,-71.5 58,-71.5\"/>\n",
       "<text text-anchor=\"start\" x=\"62.75\" y=\"-79\" font-family=\"Linux libertine\" font-size=\"10.00\">output: </text>\n",
       "<polygon fill=\"none\" stroke=\"black\" points=\"105,-71.5 105,-93.5 155,-93.5 155,-71.5 105,-71.5\"/>\n",
       "<text text-anchor=\"start\" x=\"109.75\" y=\"-79\" font-family=\"Linux libertine\" font-size=\"10.00\">(1, 100) </text>\n",
       "</g>\n",
       "<!-- 5&#45;&gt;6 -->\n",
       "<g id=\"edge6\" class=\"edge\">\n",
       "<title>5&#45;&gt;6</title>\n",
       "<path fill=\"none\" stroke=\"black\" d=\"M83.5,-151.6C83.5,-143.82 83.5,-134.8 83.5,-126.26\"/>\n",
       "<polygon fill=\"black\" stroke=\"black\" points=\"87,-126.46 83.5,-116.46 80,-126.46 87,-126.46\"/>\n",
       "</g>\n",
       "<!-- 7 -->\n",
       "<g id=\"node8\" class=\"node\">\n",
       "<title>7</title>\n",
       "<polygon fill=\"lightyellow\" stroke=\"none\" points=\"145.25,-35.5 21.75,-35.5 21.75,0 145.25,0 145.25,-35.5\"/>\n",
       "<polygon fill=\"none\" stroke=\"black\" points=\"21.75,0 21.75,-35.5 97.75,-35.5 97.75,0 21.75,0\"/>\n",
       "<text text-anchor=\"start\" x=\"26.75\" y=\"-21\" font-family=\"Linux libertine\" font-size=\"10.00\">output&#45;tensor</text>\n",
       "<text text-anchor=\"start\" x=\"41.38\" y=\"-8.25\" font-family=\"Linux libertine\" font-size=\"10.00\">depth:0</text>\n",
       "<polygon fill=\"none\" stroke=\"black\" points=\"97.75,0 97.75,-35.5 145.25,-35.5 145.25,0 97.75,0\"/>\n",
       "<text text-anchor=\"start\" x=\"102.75\" y=\"-14.62\" font-family=\"Linux libertine\" font-size=\"10.00\">(1, 100)</text>\n",
       "</g>\n",
       "<!-- 6&#45;&gt;7 -->\n",
       "<g id=\"edge7\" class=\"edge\">\n",
       "<title>6&#45;&gt;7</title>\n",
       "<path fill=\"none\" stroke=\"black\" d=\"M83.5,-71.56C83.5,-63.6 83.5,-54.41 83.5,-45.95\"/>\n",
       "<polygon fill=\"black\" stroke=\"black\" points=\"87,-46.05 83.5,-36.05 80,-46.05 87,-46.05\"/>\n",
       "</g>\n",
       "</g>\n",
       "</svg>\n"
      ],
      "text/plain": [
       "<graphviz.graphs.Digraph at 0x7f1ddf0cd750>"
      ]
     },
     "execution_count": 31,
     "metadata": {},
     "output_type": "execute_result"
    }
   ],
   "source": [
    "# Depth Setting\n",
    "model_graph = draw_graph(model, input_size=(1,)+x_train.shape[1:], device=device, depth=3)\n",
    "\n",
    "model_graph.visual_graph"
   ]
  },
  {
   "cell_type": "code",
   "execution_count": 32,
   "id": "26b42584-8d65-4f16-a6f2-7b80624de828",
   "metadata": {},
   "outputs": [
    {
     "data": {
      "text/plain": [
       "array([[4.54002479e-03, 3.26214880e-02, 2.27983613e-02, 1.19763575e-02,\n",
       "        3.15308534e-02, 1.49097377e-02, 9.30918846e-03, 3.38710356e-03,\n",
       "        9.86396428e-03, 5.64723276e-03, 1.11147361e-02, 4.52932902e-03,\n",
       "        1.88182201e-03, 1.42186619e-02, 6.76730927e-03, 5.63876750e-03,\n",
       "        2.05113143e-02, 3.02032079e-03, 2.64678355e-02, 5.74149750e-03,\n",
       "        1.25659779e-02, 7.35729886e-03, 5.65815112e-03, 6.58216653e-03,\n",
       "        1.03591140e-02, 2.49449071e-03, 1.11176316e-02, 7.26870541e-03,\n",
       "        1.67740192e-02, 9.04982537e-03, 1.31243998e-02, 7.29695102e-03,\n",
       "        4.06177994e-03, 4.69935453e-03, 1.23370150e-02, 8.30795057e-03,\n",
       "        2.00939849e-02, 8.29087291e-03, 2.64469697e-03, 1.20724151e-02,\n",
       "        1.20675405e-02, 7.85603002e-03, 1.49243334e-02, 1.04731675e-02,\n",
       "        5.09601319e-03, 2.49564480e-02, 7.00362585e-03, 2.38139350e-02,\n",
       "        1.50033657e-03, 1.36927012e-02, 5.38354088e-03, 7.27587100e-03,\n",
       "        6.31982600e-03, 2.68932097e-02, 2.65092961e-03, 1.20072495e-02,\n",
       "        7.32427137e-03, 3.98813933e-03, 3.04627791e-02, 4.37703449e-03,\n",
       "        1.07687414e-02, 3.19003989e-03, 8.16405099e-03, 1.91604979e-02,\n",
       "        6.09022705e-03, 1.58972703e-02, 8.71484354e-03, 1.39872376e-02,\n",
       "        1.51101863e-02, 3.63597926e-03, 9.20889992e-03, 1.35489386e-02,\n",
       "        8.39325786e-03, 3.98887740e-03, 9.59037058e-03, 6.05025934e-03,\n",
       "        4.80813300e-03, 4.88031656e-03, 4.13682917e-03, 2.58706789e-02,\n",
       "        2.72407266e-03, 1.17089320e-02, 7.79964030e-03, 5.99291036e-03,\n",
       "        9.53102577e-03, 1.42783311e-03, 8.09367374e-03, 3.25001357e-03,\n",
       "        4.89482796e-03, 1.70156062e-02, 3.01487232e-03, 2.30861921e-03,\n",
       "        1.31295016e-02, 6.54592738e-03, 4.81301220e-03, 9.09836963e-03,\n",
       "        1.17269121e-02, 6.95199659e-03, 1.03843147e-02, 7.69259222e-03],\n",
       "       [9.84249264e-03, 6.58845762e-03, 1.17947180e-02, 2.28596083e-03,\n",
       "        1.81948149e-03, 5.55001944e-03, 1.40826562e-02, 7.47083779e-03,\n",
       "        1.29793575e-02, 2.21877601e-02, 6.36382215e-03, 1.57828070e-02,\n",
       "        1.67056918e-02, 4.18385863e-03, 1.43785151e-02, 4.73774690e-03,\n",
       "        1.81848444e-02, 3.22111510e-03, 9.33421869e-03, 1.26997679e-02,\n",
       "        8.45357496e-03, 1.54419011e-02, 9.90587380e-03, 3.40679009e-03,\n",
       "        1.06520681e-02, 8.39163829e-03, 2.01118011e-02, 3.01635489e-02,\n",
       "        1.00267436e-02, 8.91394261e-03, 5.48828719e-03, 8.12690984e-03,\n",
       "        1.17885750e-02, 3.93693848e-03, 1.54811628e-02, 1.18330717e-02,\n",
       "        8.12469888e-03, 4.68948251e-03, 1.76846124e-02, 3.75393545e-03,\n",
       "        5.28593501e-03, 6.71184389e-03, 1.07960878e-02, 3.01931961e-03,\n",
       "        2.50337087e-03, 7.15815509e-03, 1.08195981e-02, 5.17269084e-03,\n",
       "        7.30433501e-03, 1.47085935e-02, 1.39771253e-02, 5.09882020e-03,\n",
       "        9.82536003e-03, 1.09406207e-02, 7.45328749e-03, 1.26521364e-02,\n",
       "        6.55196887e-03, 2.11677309e-02, 6.84453826e-03, 7.75488280e-03,\n",
       "        6.92333793e-03, 6.06419239e-03, 7.27791758e-03, 3.46856797e-03,\n",
       "        1.56947915e-02, 1.08902669e-02, 3.99023620e-03, 3.16157863e-02,\n",
       "        9.14098881e-03, 6.86492911e-03, 1.08279167e-02, 9.78167169e-03,\n",
       "        1.83921098e-03, 5.83661627e-03, 6.04455266e-03, 4.31588525e-03,\n",
       "        5.35867736e-03, 8.56289361e-03, 4.09100018e-03, 4.75660944e-03,\n",
       "        9.55840107e-03, 1.85528491e-02, 4.30599879e-03, 7.70839909e-03,\n",
       "        3.59330932e-03, 1.41445352e-02, 7.57096428e-03, 6.15804829e-03,\n",
       "        3.78148234e-03, 2.91448068e-02, 9.70789790e-03, 2.02472042e-02,\n",
       "        1.66958980e-02, 1.99971795e-02, 1.60577260e-02, 4.26795287e-03,\n",
       "        1.79444961e-02, 1.24909114e-02, 7.93508906e-03, 1.44746993e-02],\n",
       "       [3.74384900e-03, 1.64162945e-02, 7.86407944e-03, 2.01324783e-02,\n",
       "        4.25408315e-03, 6.79179514e-03, 2.76388861e-02, 5.22555644e-03,\n",
       "        1.24674849e-02, 8.99979845e-03, 4.03223839e-03, 8.01189523e-03,\n",
       "        6.62729423e-03, 2.81278379e-02, 1.98447909e-02, 3.81283555e-03,\n",
       "        2.01222254e-03, 1.10486348e-03, 3.37191438e-03, 5.34576084e-03,\n",
       "        4.94438363e-03, 9.03079845e-03, 2.84496136e-02, 7.10834144e-03,\n",
       "        6.75480580e-03, 3.09316348e-02, 1.02949776e-02, 5.43822488e-03,\n",
       "        6.52461825e-03, 1.22890044e-02, 1.88171249e-02, 1.24244029e-02,\n",
       "        3.30781424e-03, 3.95249249e-03, 1.01896999e-02, 7.70558510e-03,\n",
       "        7.73215061e-03, 1.10336095e-02, 7.68189412e-03, 3.13055166e-03,\n",
       "        9.15100984e-03, 7.82475900e-03, 1.88620854e-02, 1.65722612e-02,\n",
       "        1.13615263e-02, 8.73038638e-03, 3.89679056e-03, 9.89325717e-03,\n",
       "        5.37294848e-03, 7.87201151e-03, 1.03429360e-02, 1.04850335e-02,\n",
       "        3.30885802e-03, 1.05373403e-02, 9.39495396e-03, 2.27638544e-03,\n",
       "        1.07510053e-02, 4.80583264e-03, 1.80250814e-03, 5.51647227e-03,\n",
       "        1.04204221e-02, 9.67517402e-03, 2.05458179e-02, 1.03860712e-02,\n",
       "        6.84428262e-03, 2.48468737e-03, 5.97600080e-03, 7.61635136e-03,\n",
       "        1.10447248e-02, 4.40588500e-03, 1.86306443e-02, 1.25842700e-02,\n",
       "        1.60048138e-02, 7.70273712e-03, 9.57659911e-03, 5.23331668e-03,\n",
       "        1.03014316e-02, 1.72461737e-02, 1.39242755e-02, 1.78916901e-02,\n",
       "        7.97599554e-03, 2.80928575e-02, 1.82211231e-02, 5.69358328e-03,\n",
       "        1.59927364e-02, 1.86372530e-02, 3.59753682e-03, 6.00366667e-03,\n",
       "        3.19583807e-03, 4.16776631e-03, 1.37033500e-02, 1.22260349e-02,\n",
       "        2.68219435e-03, 1.20136095e-02, 1.18333166e-02, 6.02253899e-03,\n",
       "        4.59897192e-03, 1.02371508e-02, 1.18993446e-02, 1.23837721e-02],\n",
       "       [1.72892064e-02, 2.77915527e-03, 3.43111902e-03, 3.42878047e-03,\n",
       "        5.41760866e-03, 1.12469438e-02, 7.99294841e-03, 9.94193833e-03,\n",
       "        1.96327223e-03, 8.60698242e-03, 6.26137340e-03, 7.92557932e-03,\n",
       "        1.38013121e-02, 3.78404446e-02, 6.81549218e-03, 2.64527835e-03,\n",
       "        5.62814204e-03, 1.09346909e-02, 5.31706586e-03, 4.71771602e-03,\n",
       "        6.43636007e-03, 3.79540469e-03, 1.43214725e-02, 1.90598443e-02,\n",
       "        1.69358514e-02, 7.09253782e-03, 1.32306572e-02, 1.50367280e-03,\n",
       "        1.62731707e-02, 1.44757349e-02, 5.35615347e-03, 1.91052891e-02,\n",
       "        1.21519212e-02, 2.91358307e-03, 9.90509149e-03, 5.81372855e-03,\n",
       "        6.58398215e-03, 2.27117836e-02, 2.97284592e-03, 1.36183640e-02,\n",
       "        5.50632644e-03, 1.80185065e-02, 1.19340662e-02, 1.01417620e-02,\n",
       "        4.48503019e-03, 4.37519467e-03, 1.51557392e-02, 4.08195611e-03,\n",
       "        1.57867628e-03, 1.33273266e-02, 8.15329200e-04, 8.55312869e-03,\n",
       "        8.19481257e-03, 8.20268784e-03, 6.00611744e-03, 1.58645567e-02,\n",
       "        2.34318851e-03, 9.03945137e-03, 1.86428763e-02, 4.22959030e-03,\n",
       "        1.57722784e-03, 4.24471358e-03, 6.70029223e-03, 2.29437649e-02,\n",
       "        7.04317680e-03, 6.63182279e-03, 4.58709104e-03, 6.03902061e-03,\n",
       "        7.77950836e-03, 2.19681747e-02, 1.16450880e-02, 2.04072078e-03,\n",
       "        9.19622090e-03, 4.51282226e-03, 7.44378567e-03, 1.75480675e-02,\n",
       "        7.01820925e-02, 1.30546167e-02, 5.47185587e-03, 3.04655749e-02,\n",
       "        3.21973441e-03, 7.05557456e-03, 7.94772897e-03, 1.06641892e-02,\n",
       "        5.23705594e-03, 1.43171987e-02, 6.64477283e-03, 4.09175688e-03,\n",
       "        1.61388926e-02, 1.42413471e-03, 7.22246571e-03, 1.11521222e-02,\n",
       "        6.37441035e-03, 3.99824651e-03, 3.44261737e-03, 9.75799095e-03,\n",
       "        1.62920263e-02, 1.80751958e-03, 9.74150933e-03, 3.36556472e-02],\n",
       "       [6.35304395e-03, 8.18215869e-03, 6.37587113e-03, 1.13381734e-02,\n",
       "        7.24882120e-03, 1.26456714e-03, 1.39843989e-02, 3.15665849e-03,\n",
       "        2.91448226e-03, 2.31103366e-03, 6.10161852e-03, 2.75108893e-03,\n",
       "        1.49796717e-02, 8.67027044e-03, 2.39519612e-03, 7.46283401e-03,\n",
       "        3.62214609e-03, 1.47894472e-02, 3.25674145e-03, 2.28850381e-03,\n",
       "        3.93697759e-03, 6.62229629e-03, 2.07342696e-03, 1.73267443e-02,\n",
       "        2.23047216e-03, 1.07483249e-02, 5.32918703e-03, 4.28608246e-03,\n",
       "        9.01268329e-03, 7.13886786e-03, 1.63408816e-02, 1.48711540e-03,\n",
       "        1.84071362e-02, 1.79113599e-03, 2.73646377e-02, 9.41163301e-03,\n",
       "        1.15680834e-02, 4.43678757e-04, 2.71020853e-03, 1.76804923e-02,\n",
       "        4.13961709e-03, 1.48675812e-03, 1.04939090e-02, 3.09061934e-03,\n",
       "        1.46023149e-03, 2.90654227e-03, 5.78422379e-03, 1.05984393e-03,\n",
       "        7.84078799e-03, 2.18314398e-03, 7.74080539e-03, 3.01923905e-03,\n",
       "        1.20136263e-02, 3.75692127e-03, 1.60567146e-02, 1.83953147e-03,\n",
       "        7.80487387e-03, 1.33767328e-03, 5.62478229e-03, 3.52800195e-03,\n",
       "        3.59643847e-02, 1.58300437e-02, 9.17344441e-05, 6.73950301e-04,\n",
       "        1.28225354e-03, 1.94630865e-03, 2.15368252e-02, 5.53206680e-03,\n",
       "        5.94335550e-04, 6.82501346e-02, 2.32999516e-03, 1.12518435e-02,\n",
       "        4.05827053e-02, 5.48563413e-02, 3.35298688e-03, 3.27073503e-03,\n",
       "        4.74644313e-03, 1.79417860e-02, 2.62750918e-03, 1.30661512e-02,\n",
       "        1.51116233e-02, 1.34926336e-03, 1.59660261e-03, 5.32765221e-03,\n",
       "        1.40070897e-02, 1.78322161e-03, 3.24532874e-02, 2.37209313e-02,\n",
       "        3.07790120e-03, 9.78044048e-03, 2.05437699e-03, 4.69055260e-03,\n",
       "        1.02548636e-02, 5.09360339e-03, 1.59662159e-03, 1.12564459e-01,\n",
       "        2.64834650e-02, 7.52921449e-03, 4.42306418e-03, 2.84855301e-03]],\n",
       "      dtype=float32)"
      ]
     },
     "execution_count": 32,
     "metadata": {},
     "output_type": "execute_result"
    }
   ],
   "source": [
    "predictions = model.predict(x_train[:5].to(device)).cpu().detach().numpy()\n",
    "\n",
    "predictions"
   ]
  },
  {
   "cell_type": "code",
   "execution_count": 33,
   "id": "8aafcbf5-294c-474d-8af7-ba0081150cad",
   "metadata": {},
   "outputs": [
    {
     "data": {
      "text/plain": [
       "array(5.520513, dtype=float32)"
      ]
     },
     "execution_count": 33,
     "metadata": {},
     "output_type": "execute_result"
    }
   ],
   "source": [
    "model.model_loss(model(x_train[:5].to(device)),\n",
    "                 y_train[:5].to(device)\n",
    "                ).cpu().detach().numpy()"
   ]
  },
  {
   "cell_type": "code",
   "execution_count": 34,
   "id": "d0a80a31-ec5a-4bdd-b5cf-855e12ff85a7",
   "metadata": {},
   "outputs": [
    {
     "data": {
      "text/plain": [
       "array(0., dtype=float32)"
      ]
     },
     "execution_count": 34,
     "metadata": {},
     "output_type": "execute_result"
    }
   ],
   "source": [
    "model.model_acc(model(x_train[:5].to(device)),\n",
    "                y_train[:5].to(device)).cpu().detach().numpy()"
   ]
  },
  {
   "cell_type": "code",
   "execution_count": 35,
   "id": "e991a2f2-3eb1-4a88-864b-8c0a1042f1ce",
   "metadata": {},
   "outputs": [],
   "source": [
    "xy_train = torch.utils.data.DataLoader(list(zip(x_train, y_train)),\n",
    "                                       shuffle=True,\n",
    "                                       batch_size=250,\n",
    "                                       num_workers=cfg_num_workers) # Using CFG\n",
    "\n",
    "xy_val = torch.utils.data.DataLoader(list(zip(x_val, y_val)),\n",
    "                                     shuffle=False,\n",
    "                                     batch_size=250,\n",
    "                                     num_workers=cfg_num_workers) # Using CFG\n",
    "\n",
    "xy_test = torch.utils.data.DataLoader(list(zip(x_test, y_test)),\n",
    "                                      shuffle=False,\n",
    "                                      batch_size=250,\n",
    "                                      num_workers=cfg_num_workers) # Using CFG"
   ]
  },
  {
   "cell_type": "code",
   "execution_count": 36,
   "id": "0f102f1d-5348-4859-a2f0-177ec4a4b525",
   "metadata": {},
   "outputs": [],
   "source": [
    "# Setup Logger\n",
    "logger = pl.loggers.CSVLogger(\"logs\", name=\"OL2\", version=\"wide\")"
   ]
  },
  {
   "cell_type": "code",
   "execution_count": 37,
   "id": "28f1e198-861e-4288-b1ec-7128bd178826",
   "metadata": {},
   "outputs": [
    {
     "name": "stderr",
     "output_type": "stream",
     "text": [
      "GPU available: True (cuda), used: True\n",
      "TPU available: False, using: 0 TPU cores\n",
      "IPU available: False, using: 0 IPUs\n",
      "HPU available: False, using: 0 HPUs\n"
     ]
    }
   ],
   "source": [
    "trainer = pl.Trainer(logger=logger,\n",
    "                     max_epochs=cfg_max_epochs,\n",
    "                     enable_progress_bar=True,\n",
    "                     log_every_n_steps=0,\n",
    "                     callbacks=[pl.callbacks.TQDMProgressBar(refresh_rate=20)])"
   ]
  },
  {
   "cell_type": "code",
   "execution_count": 38,
   "id": "af94f317-7ce9-46f0-b7cc-1b72f7595d6e",
   "metadata": {},
   "outputs": [
    {
     "name": "stderr",
     "output_type": "stream",
     "text": [
      "/opt/conda/lib/python3.11/site-packages/lightning/fabric/loggers/csv_logs.py:195: UserWarning: Experiment logs directory logs/OL2/wide exists and is not empty. Previous log files in this directory will be deleted when the new ones are saved!\n",
      "  rank_zero_warn(\n",
      "LOCAL_RANK: 0 - CUDA_VISIBLE_DEVICES: [0]\n",
      "SLURM auto-requeueing enabled. Setting signal handlers.\n",
      "/opt/conda/lib/python3.11/site-packages/lightning/pytorch/trainer/connectors/data_connector.py:442: PossibleUserWarning: The dataloader, val_dataloader, does not have many workers which may be a bottleneck. Consider increasing the value of the `num_workers` argument` (try 20 which is the number of cpus on this machine) in the `DataLoader` init to improve performance.\n",
      "  rank_zero_warn(\n"
     ]
    },
    {
     "data": {
      "application/vnd.jupyter.widget-view+json": {
       "model_id": "0a843a12412d44cca8ed6af8164811b6",
       "version_major": 2,
       "version_minor": 0
      },
      "text/plain": [
       "Validation: 0it [00:00, ?it/s]"
      ]
     },
     "metadata": {},
     "output_type": "display_data"
    },
    {
     "data": {
      "text/html": [
       "<pre style=\"white-space:pre;overflow-x:auto;line-height:normal;font-family:Menlo,'DejaVu Sans Mono',consolas,'Courier New',monospace\">┏━━━━━━━━━━━━━━━━━━━━━━━━━━━┳━━━━━━━━━━━━━━━━━━━━━━━━━━━┓\n",
       "┃<span style=\"font-weight: bold\">  Runningstage.validating  </span>┃<span style=\"font-weight: bold\">                           </span>┃\n",
       "┃<span style=\"font-weight: bold\">          metric           </span>┃<span style=\"font-weight: bold\">       DataLoader 0        </span>┃\n",
       "┡━━━━━━━━━━━━━━━━━━━━━━━━━━━╇━━━━━━━━━━━━━━━━━━━━━━━━━━━┩\n",
       "│<span style=\"color: #008080; text-decoration-color: #008080\">          val_acc          </span>│<span style=\"color: #800080; text-decoration-color: #800080\">    0.00800000037997961    </span>│\n",
       "│<span style=\"color: #008080; text-decoration-color: #008080\">         val_loss          </span>│<span style=\"color: #800080; text-decoration-color: #800080\">    4.6176323890686035     </span>│\n",
       "└───────────────────────────┴───────────────────────────┘\n",
       "</pre>\n"
      ],
      "text/plain": [
       "┏━━━━━━━━━━━━━━━━━━━━━━━━━━━┳━━━━━━━━━━━━━━━━━━━━━━━━━━━┓\n",
       "┃\u001b[1m \u001b[0m\u001b[1m Runningstage.validating \u001b[0m\u001b[1m \u001b[0m┃\u001b[1m                           \u001b[0m┃\n",
       "┃\u001b[1m \u001b[0m\u001b[1m         metric          \u001b[0m\u001b[1m \u001b[0m┃\u001b[1m \u001b[0m\u001b[1m      DataLoader 0       \u001b[0m\u001b[1m \u001b[0m┃\n",
       "┡━━━━━━━━━━━━━━━━━━━━━━━━━━━╇━━━━━━━━━━━━━━━━━━━━━━━━━━━┩\n",
       "│\u001b[36m \u001b[0m\u001b[36m         val_acc         \u001b[0m\u001b[36m \u001b[0m│\u001b[35m \u001b[0m\u001b[35m   0.00800000037997961   \u001b[0m\u001b[35m \u001b[0m│\n",
       "│\u001b[36m \u001b[0m\u001b[36m        val_loss         \u001b[0m\u001b[36m \u001b[0m│\u001b[35m \u001b[0m\u001b[35m   4.6176323890686035    \u001b[0m\u001b[35m \u001b[0m│\n",
       "└───────────────────────────┴───────────────────────────┘\n"
      ]
     },
     "metadata": {},
     "output_type": "display_data"
    },
    {
     "data": {
      "text/plain": [
       "[{'val_acc': 0.00800000037997961, 'val_loss': 4.6176323890686035}]"
      ]
     },
     "execution_count": 38,
     "metadata": {},
     "output_type": "execute_result"
    }
   ],
   "source": [
    "trainer.validate(model, xy_val)"
   ]
  },
  {
   "cell_type": "code",
   "execution_count": 39,
   "id": "1c687e4b-4f13-498a-8cf8-6b83aa28798c",
   "metadata": {},
   "outputs": [
    {
     "name": "stderr",
     "output_type": "stream",
     "text": [
      "/opt/conda/lib/python3.11/site-packages/lightning/pytorch/callbacks/model_checkpoint.py:617: UserWarning: Checkpoint directory logs/OL2/wide/checkpoints exists and is not empty.\n",
      "  rank_zero_warn(f\"Checkpoint directory {dirpath} exists and is not empty.\")\n",
      "LOCAL_RANK: 0 - CUDA_VISIBLE_DEVICES: [0]\n",
      "\n",
      "  | Name       | Type               | Params\n",
      "--------------------------------------------------\n",
      "0 | module     | WideNetwork        | 301 K \n",
      "1 | model_acc  | MulticlassAccuracy | 0     \n",
      "2 | model_loss | CrossEntropyLoss   | 0     \n",
      "--------------------------------------------------\n",
      "301 K     Trainable params\n",
      "0         Non-trainable params\n",
      "301 K     Total params\n",
      "1.208     Total estimated model params size (MB)\n",
      "SLURM auto-requeueing enabled. Setting signal handlers.\n"
     ]
    },
    {
     "data": {
      "application/vnd.jupyter.widget-view+json": {
       "model_id": "",
       "version_major": 2,
       "version_minor": 0
      },
      "text/plain": [
       "Sanity Checking: 0it [00:00, ?it/s]"
      ]
     },
     "metadata": {},
     "output_type": "display_data"
    },
    {
     "name": "stderr",
     "output_type": "stream",
     "text": [
      "/opt/conda/lib/python3.11/site-packages/lightning/pytorch/trainer/connectors/data_connector.py:442: PossibleUserWarning: The dataloader, train_dataloader, does not have many workers which may be a bottleneck. Consider increasing the value of the `num_workers` argument` (try 20 which is the number of cpus on this machine) in the `DataLoader` init to improve performance.\n",
      "  rank_zero_warn(\n"
     ]
    },
    {
     "data": {
      "application/vnd.jupyter.widget-view+json": {
       "model_id": "8ad9ffa2dad64e9bb641da2d696e853a",
       "version_major": 2,
       "version_minor": 0
      },
      "text/plain": [
       "Training: 0it [00:00, ?it/s]"
      ]
     },
     "metadata": {},
     "output_type": "display_data"
    },
    {
     "data": {
      "application/vnd.jupyter.widget-view+json": {
       "model_id": "",
       "version_major": 2,
       "version_minor": 0
      },
      "text/plain": [
       "Validation: 0it [00:00, ?it/s]"
      ]
     },
     "metadata": {},
     "output_type": "display_data"
    },
    {
     "data": {
      "application/vnd.jupyter.widget-view+json": {
       "model_id": "",
       "version_major": 2,
       "version_minor": 0
      },
      "text/plain": [
       "Validation: 0it [00:00, ?it/s]"
      ]
     },
     "metadata": {},
     "output_type": "display_data"
    },
    {
     "data": {
      "application/vnd.jupyter.widget-view+json": {
       "model_id": "",
       "version_major": 2,
       "version_minor": 0
      },
      "text/plain": [
       "Validation: 0it [00:00, ?it/s]"
      ]
     },
     "metadata": {},
     "output_type": "display_data"
    },
    {
     "data": {
      "application/vnd.jupyter.widget-view+json": {
       "model_id": "",
       "version_major": 2,
       "version_minor": 0
      },
      "text/plain": [
       "Validation: 0it [00:00, ?it/s]"
      ]
     },
     "metadata": {},
     "output_type": "display_data"
    },
    {
     "data": {
      "application/vnd.jupyter.widget-view+json": {
       "model_id": "",
       "version_major": 2,
       "version_minor": 0
      },
      "text/plain": [
       "Validation: 0it [00:00, ?it/s]"
      ]
     },
     "metadata": {},
     "output_type": "display_data"
    },
    {
     "data": {
      "application/vnd.jupyter.widget-view+json": {
       "model_id": "",
       "version_major": 2,
       "version_minor": 0
      },
      "text/plain": [
       "Validation: 0it [00:00, ?it/s]"
      ]
     },
     "metadata": {},
     "output_type": "display_data"
    },
    {
     "data": {
      "application/vnd.jupyter.widget-view+json": {
       "model_id": "",
       "version_major": 2,
       "version_minor": 0
      },
      "text/plain": [
       "Validation: 0it [00:00, ?it/s]"
      ]
     },
     "metadata": {},
     "output_type": "display_data"
    },
    {
     "data": {
      "application/vnd.jupyter.widget-view+json": {
       "model_id": "",
       "version_major": 2,
       "version_minor": 0
      },
      "text/plain": [
       "Validation: 0it [00:00, ?it/s]"
      ]
     },
     "metadata": {},
     "output_type": "display_data"
    },
    {
     "data": {
      "application/vnd.jupyter.widget-view+json": {
       "model_id": "",
       "version_major": 2,
       "version_minor": 0
      },
      "text/plain": [
       "Validation: 0it [00:00, ?it/s]"
      ]
     },
     "metadata": {},
     "output_type": "display_data"
    },
    {
     "data": {
      "application/vnd.jupyter.widget-view+json": {
       "model_id": "",
       "version_major": 2,
       "version_minor": 0
      },
      "text/plain": [
       "Validation: 0it [00:00, ?it/s]"
      ]
     },
     "metadata": {},
     "output_type": "display_data"
    },
    {
     "data": {
      "application/vnd.jupyter.widget-view+json": {
       "model_id": "",
       "version_major": 2,
       "version_minor": 0
      },
      "text/plain": [
       "Validation: 0it [00:00, ?it/s]"
      ]
     },
     "metadata": {},
     "output_type": "display_data"
    },
    {
     "data": {
      "application/vnd.jupyter.widget-view+json": {
       "model_id": "",
       "version_major": 2,
       "version_minor": 0
      },
      "text/plain": [
       "Validation: 0it [00:00, ?it/s]"
      ]
     },
     "metadata": {},
     "output_type": "display_data"
    },
    {
     "data": {
      "application/vnd.jupyter.widget-view+json": {
       "model_id": "",
       "version_major": 2,
       "version_minor": 0
      },
      "text/plain": [
       "Validation: 0it [00:00, ?it/s]"
      ]
     },
     "metadata": {},
     "output_type": "display_data"
    },
    {
     "data": {
      "application/vnd.jupyter.widget-view+json": {
       "model_id": "",
       "version_major": 2,
       "version_minor": 0
      },
      "text/plain": [
       "Validation: 0it [00:00, ?it/s]"
      ]
     },
     "metadata": {},
     "output_type": "display_data"
    },
    {
     "data": {
      "application/vnd.jupyter.widget-view+json": {
       "model_id": "",
       "version_major": 2,
       "version_minor": 0
      },
      "text/plain": [
       "Validation: 0it [00:00, ?it/s]"
      ]
     },
     "metadata": {},
     "output_type": "display_data"
    },
    {
     "data": {
      "application/vnd.jupyter.widget-view+json": {
       "model_id": "",
       "version_major": 2,
       "version_minor": 0
      },
      "text/plain": [
       "Validation: 0it [00:00, ?it/s]"
      ]
     },
     "metadata": {},
     "output_type": "display_data"
    },
    {
     "data": {
      "application/vnd.jupyter.widget-view+json": {
       "model_id": "",
       "version_major": 2,
       "version_minor": 0
      },
      "text/plain": [
       "Validation: 0it [00:00, ?it/s]"
      ]
     },
     "metadata": {},
     "output_type": "display_data"
    },
    {
     "data": {
      "application/vnd.jupyter.widget-view+json": {
       "model_id": "",
       "version_major": 2,
       "version_minor": 0
      },
      "text/plain": [
       "Validation: 0it [00:00, ?it/s]"
      ]
     },
     "metadata": {},
     "output_type": "display_data"
    },
    {
     "data": {
      "application/vnd.jupyter.widget-view+json": {
       "model_id": "",
       "version_major": 2,
       "version_minor": 0
      },
      "text/plain": [
       "Validation: 0it [00:00, ?it/s]"
      ]
     },
     "metadata": {},
     "output_type": "display_data"
    },
    {
     "data": {
      "application/vnd.jupyter.widget-view+json": {
       "model_id": "",
       "version_major": 2,
       "version_minor": 0
      },
      "text/plain": [
       "Validation: 0it [00:00, ?it/s]"
      ]
     },
     "metadata": {},
     "output_type": "display_data"
    },
    {
     "data": {
      "application/vnd.jupyter.widget-view+json": {
       "model_id": "",
       "version_major": 2,
       "version_minor": 0
      },
      "text/plain": [
       "Validation: 0it [00:00, ?it/s]"
      ]
     },
     "metadata": {},
     "output_type": "display_data"
    },
    {
     "data": {
      "application/vnd.jupyter.widget-view+json": {
       "model_id": "",
       "version_major": 2,
       "version_minor": 0
      },
      "text/plain": [
       "Validation: 0it [00:00, ?it/s]"
      ]
     },
     "metadata": {},
     "output_type": "display_data"
    },
    {
     "data": {
      "application/vnd.jupyter.widget-view+json": {
       "model_id": "",
       "version_major": 2,
       "version_minor": 0
      },
      "text/plain": [
       "Validation: 0it [00:00, ?it/s]"
      ]
     },
     "metadata": {},
     "output_type": "display_data"
    },
    {
     "data": {
      "application/vnd.jupyter.widget-view+json": {
       "model_id": "",
       "version_major": 2,
       "version_minor": 0
      },
      "text/plain": [
       "Validation: 0it [00:00, ?it/s]"
      ]
     },
     "metadata": {},
     "output_type": "display_data"
    },
    {
     "data": {
      "application/vnd.jupyter.widget-view+json": {
       "model_id": "",
       "version_major": 2,
       "version_minor": 0
      },
      "text/plain": [
       "Validation: 0it [00:00, ?it/s]"
      ]
     },
     "metadata": {},
     "output_type": "display_data"
    },
    {
     "data": {
      "application/vnd.jupyter.widget-view+json": {
       "model_id": "",
       "version_major": 2,
       "version_minor": 0
      },
      "text/plain": [
       "Validation: 0it [00:00, ?it/s]"
      ]
     },
     "metadata": {},
     "output_type": "display_data"
    },
    {
     "data": {
      "application/vnd.jupyter.widget-view+json": {
       "model_id": "",
       "version_major": 2,
       "version_minor": 0
      },
      "text/plain": [
       "Validation: 0it [00:00, ?it/s]"
      ]
     },
     "metadata": {},
     "output_type": "display_data"
    },
    {
     "data": {
      "application/vnd.jupyter.widget-view+json": {
       "model_id": "",
       "version_major": 2,
       "version_minor": 0
      },
      "text/plain": [
       "Validation: 0it [00:00, ?it/s]"
      ]
     },
     "metadata": {},
     "output_type": "display_data"
    },
    {
     "data": {
      "application/vnd.jupyter.widget-view+json": {
       "model_id": "",
       "version_major": 2,
       "version_minor": 0
      },
      "text/plain": [
       "Validation: 0it [00:00, ?it/s]"
      ]
     },
     "metadata": {},
     "output_type": "display_data"
    },
    {
     "data": {
      "application/vnd.jupyter.widget-view+json": {
       "model_id": "",
       "version_major": 2,
       "version_minor": 0
      },
      "text/plain": [
       "Validation: 0it [00:00, ?it/s]"
      ]
     },
     "metadata": {},
     "output_type": "display_data"
    },
    {
     "data": {
      "application/vnd.jupyter.widget-view+json": {
       "model_id": "",
       "version_major": 2,
       "version_minor": 0
      },
      "text/plain": [
       "Validation: 0it [00:00, ?it/s]"
      ]
     },
     "metadata": {},
     "output_type": "display_data"
    },
    {
     "data": {
      "application/vnd.jupyter.widget-view+json": {
       "model_id": "",
       "version_major": 2,
       "version_minor": 0
      },
      "text/plain": [
       "Validation: 0it [00:00, ?it/s]"
      ]
     },
     "metadata": {},
     "output_type": "display_data"
    },
    {
     "data": {
      "application/vnd.jupyter.widget-view+json": {
       "model_id": "",
       "version_major": 2,
       "version_minor": 0
      },
      "text/plain": [
       "Validation: 0it [00:00, ?it/s]"
      ]
     },
     "metadata": {},
     "output_type": "display_data"
    },
    {
     "data": {
      "application/vnd.jupyter.widget-view+json": {
       "model_id": "",
       "version_major": 2,
       "version_minor": 0
      },
      "text/plain": [
       "Validation: 0it [00:00, ?it/s]"
      ]
     },
     "metadata": {},
     "output_type": "display_data"
    },
    {
     "data": {
      "application/vnd.jupyter.widget-view+json": {
       "model_id": "",
       "version_major": 2,
       "version_minor": 0
      },
      "text/plain": [
       "Validation: 0it [00:00, ?it/s]"
      ]
     },
     "metadata": {},
     "output_type": "display_data"
    },
    {
     "data": {
      "application/vnd.jupyter.widget-view+json": {
       "model_id": "",
       "version_major": 2,
       "version_minor": 0
      },
      "text/plain": [
       "Validation: 0it [00:00, ?it/s]"
      ]
     },
     "metadata": {},
     "output_type": "display_data"
    },
    {
     "data": {
      "application/vnd.jupyter.widget-view+json": {
       "model_id": "",
       "version_major": 2,
       "version_minor": 0
      },
      "text/plain": [
       "Validation: 0it [00:00, ?it/s]"
      ]
     },
     "metadata": {},
     "output_type": "display_data"
    },
    {
     "data": {
      "application/vnd.jupyter.widget-view+json": {
       "model_id": "",
       "version_major": 2,
       "version_minor": 0
      },
      "text/plain": [
       "Validation: 0it [00:00, ?it/s]"
      ]
     },
     "metadata": {},
     "output_type": "display_data"
    },
    {
     "data": {
      "application/vnd.jupyter.widget-view+json": {
       "model_id": "",
       "version_major": 2,
       "version_minor": 0
      },
      "text/plain": [
       "Validation: 0it [00:00, ?it/s]"
      ]
     },
     "metadata": {},
     "output_type": "display_data"
    },
    {
     "data": {
      "application/vnd.jupyter.widget-view+json": {
       "model_id": "",
       "version_major": 2,
       "version_minor": 0
      },
      "text/plain": [
       "Validation: 0it [00:00, ?it/s]"
      ]
     },
     "metadata": {},
     "output_type": "display_data"
    },
    {
     "data": {
      "application/vnd.jupyter.widget-view+json": {
       "model_id": "",
       "version_major": 2,
       "version_minor": 0
      },
      "text/plain": [
       "Validation: 0it [00:00, ?it/s]"
      ]
     },
     "metadata": {},
     "output_type": "display_data"
    },
    {
     "data": {
      "application/vnd.jupyter.widget-view+json": {
       "model_id": "",
       "version_major": 2,
       "version_minor": 0
      },
      "text/plain": [
       "Validation: 0it [00:00, ?it/s]"
      ]
     },
     "metadata": {},
     "output_type": "display_data"
    },
    {
     "data": {
      "application/vnd.jupyter.widget-view+json": {
       "model_id": "",
       "version_major": 2,
       "version_minor": 0
      },
      "text/plain": [
       "Validation: 0it [00:00, ?it/s]"
      ]
     },
     "metadata": {},
     "output_type": "display_data"
    },
    {
     "data": {
      "application/vnd.jupyter.widget-view+json": {
       "model_id": "",
       "version_major": 2,
       "version_minor": 0
      },
      "text/plain": [
       "Validation: 0it [00:00, ?it/s]"
      ]
     },
     "metadata": {},
     "output_type": "display_data"
    },
    {
     "data": {
      "application/vnd.jupyter.widget-view+json": {
       "model_id": "",
       "version_major": 2,
       "version_minor": 0
      },
      "text/plain": [
       "Validation: 0it [00:00, ?it/s]"
      ]
     },
     "metadata": {},
     "output_type": "display_data"
    },
    {
     "data": {
      "application/vnd.jupyter.widget-view+json": {
       "model_id": "",
       "version_major": 2,
       "version_minor": 0
      },
      "text/plain": [
       "Validation: 0it [00:00, ?it/s]"
      ]
     },
     "metadata": {},
     "output_type": "display_data"
    },
    {
     "data": {
      "application/vnd.jupyter.widget-view+json": {
       "model_id": "d0c3371c323347528c4807d7a8d7af16",
       "version_major": 2,
       "version_minor": 0
      },
      "text/plain": [
       "Validation: 0it [00:00, ?it/s]"
      ]
     },
     "metadata": {},
     "output_type": "display_data"
    },
    {
     "data": {
      "application/vnd.jupyter.widget-view+json": {
       "model_id": "da8a6e932a7d405aabe61f6023c04771",
       "version_major": 2,
       "version_minor": 0
      },
      "text/plain": [
       "Validation: 0it [00:00, ?it/s]"
      ]
     },
     "metadata": {},
     "output_type": "display_data"
    },
    {
     "data": {
      "application/vnd.jupyter.widget-view+json": {
       "model_id": "71454b6a95014f3cacc1ceb2928fd73c",
       "version_major": 2,
       "version_minor": 0
      },
      "text/plain": [
       "Validation: 0it [00:00, ?it/s]"
      ]
     },
     "metadata": {},
     "output_type": "display_data"
    },
    {
     "data": {
      "application/vnd.jupyter.widget-view+json": {
       "model_id": "8c701075c2e0454c924d8a61648b8943",
       "version_major": 2,
       "version_minor": 0
      },
      "text/plain": [
       "Validation: 0it [00:00, ?it/s]"
      ]
     },
     "metadata": {},
     "output_type": "display_data"
    },
    {
     "name": "stderr",
     "output_type": "stream",
     "text": [
      "`Trainer.fit` stopped: `max_epochs=50` reached.\n"
     ]
    }
   ],
   "source": [
    "trainer.fit(model, xy_train, xy_val)"
   ]
  },
  {
   "cell_type": "code",
   "execution_count": 40,
   "id": "ce445e4f-adf4-4ee5-8cbb-2ff74f467a9d",
   "metadata": {},
   "outputs": [
    {
     "name": "stderr",
     "output_type": "stream",
     "text": [
      "LOCAL_RANK: 0 - CUDA_VISIBLE_DEVICES: [0]\n",
      "SLURM auto-requeueing enabled. Setting signal handlers.\n"
     ]
    },
    {
     "data": {
      "application/vnd.jupyter.widget-view+json": {
       "model_id": "abab88ea8dea4b91aeeebc296005c52b",
       "version_major": 2,
       "version_minor": 0
      },
      "text/plain": [
       "Validation: 0it [00:00, ?it/s]"
      ]
     },
     "metadata": {},
     "output_type": "display_data"
    },
    {
     "data": {
      "text/html": [
       "<pre style=\"white-space:pre;overflow-x:auto;line-height:normal;font-family:Menlo,'DejaVu Sans Mono',consolas,'Courier New',monospace\">┏━━━━━━━━━━━━━━━━━━━━━━━━━━━┳━━━━━━━━━━━━━━━━━━━━━━━━━━━┓\n",
       "┃<span style=\"font-weight: bold\">  Runningstage.validating  </span>┃<span style=\"font-weight: bold\">                           </span>┃\n",
       "┃<span style=\"font-weight: bold\">          metric           </span>┃<span style=\"font-weight: bold\">       DataLoader 0        </span>┃\n",
       "┡━━━━━━━━━━━━━━━━━━━━━━━━━━━╇━━━━━━━━━━━━━━━━━━━━━━━━━━━┩\n",
       "│<span style=\"color: #008080; text-decoration-color: #008080\">          val_acc          </span>│<span style=\"color: #800080; text-decoration-color: #800080\">    0.2320999950170517     </span>│\n",
       "│<span style=\"color: #008080; text-decoration-color: #008080\">         val_loss          </span>│<span style=\"color: #800080; text-decoration-color: #800080\">     3.257166862487793     </span>│\n",
       "└───────────────────────────┴───────────────────────────┘\n",
       "</pre>\n"
      ],
      "text/plain": [
       "┏━━━━━━━━━━━━━━━━━━━━━━━━━━━┳━━━━━━━━━━━━━━━━━━━━━━━━━━━┓\n",
       "┃\u001b[1m \u001b[0m\u001b[1m Runningstage.validating \u001b[0m\u001b[1m \u001b[0m┃\u001b[1m                           \u001b[0m┃\n",
       "┃\u001b[1m \u001b[0m\u001b[1m         metric          \u001b[0m\u001b[1m \u001b[0m┃\u001b[1m \u001b[0m\u001b[1m      DataLoader 0       \u001b[0m\u001b[1m \u001b[0m┃\n",
       "┡━━━━━━━━━━━━━━━━━━━━━━━━━━━╇━━━━━━━━━━━━━━━━━━━━━━━━━━━┩\n",
       "│\u001b[36m \u001b[0m\u001b[36m         val_acc         \u001b[0m\u001b[36m \u001b[0m│\u001b[35m \u001b[0m\u001b[35m   0.2320999950170517    \u001b[0m\u001b[35m \u001b[0m│\n",
       "│\u001b[36m \u001b[0m\u001b[36m        val_loss         \u001b[0m\u001b[36m \u001b[0m│\u001b[35m \u001b[0m\u001b[35m    3.257166862487793    \u001b[0m\u001b[35m \u001b[0m│\n",
       "└───────────────────────────┴───────────────────────────┘\n"
      ]
     },
     "metadata": {},
     "output_type": "display_data"
    },
    {
     "data": {
      "text/plain": [
       "[{'val_acc': 0.2320999950170517, 'val_loss': 3.257166862487793}]"
      ]
     },
     "execution_count": 40,
     "metadata": {},
     "output_type": "execute_result"
    }
   ],
   "source": [
    "# Validate on Model\n",
    "trainer.validate(model, xy_val)"
   ]
  },
  {
   "cell_type": "code",
   "execution_count": 41,
   "id": "db3fd528-c1ed-42e3-9c4b-ed5601dc96cf",
   "metadata": {},
   "outputs": [
    {
     "data": {
      "text/html": [
       "<div>\n",
       "<style scoped>\n",
       "    .dataframe tbody tr th:only-of-type {\n",
       "        vertical-align: middle;\n",
       "    }\n",
       "\n",
       "    .dataframe tbody tr th {\n",
       "        vertical-align: top;\n",
       "    }\n",
       "\n",
       "    .dataframe thead th {\n",
       "        text-align: right;\n",
       "    }\n",
       "</style>\n",
       "<table border=\"1\" class=\"dataframe\">\n",
       "  <thead>\n",
       "    <tr style=\"text-align: right;\">\n",
       "      <th></th>\n",
       "      <th>val_acc</th>\n",
       "      <th>val_loss</th>\n",
       "      <th>epoch</th>\n",
       "      <th>step</th>\n",
       "      <th>train_acc</th>\n",
       "      <th>train_loss</th>\n",
       "    </tr>\n",
       "  </thead>\n",
       "  <tbody>\n",
       "    <tr>\n",
       "      <th>0</th>\n",
       "      <td>0.0080</td>\n",
       "      <td>4.617632</td>\n",
       "      <td>0</td>\n",
       "      <td>0</td>\n",
       "      <td>NaN</td>\n",
       "      <td>NaN</td>\n",
       "    </tr>\n",
       "    <tr>\n",
       "      <th>1</th>\n",
       "      <td>0.1335</td>\n",
       "      <td>3.834027</td>\n",
       "      <td>0</td>\n",
       "      <td>159</td>\n",
       "      <td>NaN</td>\n",
       "      <td>NaN</td>\n",
       "    </tr>\n",
       "    <tr>\n",
       "      <th>2</th>\n",
       "      <td>NaN</td>\n",
       "      <td>NaN</td>\n",
       "      <td>0</td>\n",
       "      <td>159</td>\n",
       "      <td>0.069250</td>\n",
       "      <td>4.231090</td>\n",
       "    </tr>\n",
       "    <tr>\n",
       "      <th>3</th>\n",
       "      <td>0.1658</td>\n",
       "      <td>3.654164</td>\n",
       "      <td>1</td>\n",
       "      <td>319</td>\n",
       "      <td>NaN</td>\n",
       "      <td>NaN</td>\n",
       "    </tr>\n",
       "    <tr>\n",
       "      <th>4</th>\n",
       "      <td>NaN</td>\n",
       "      <td>NaN</td>\n",
       "      <td>1</td>\n",
       "      <td>319</td>\n",
       "      <td>0.118525</td>\n",
       "      <td>3.853932</td>\n",
       "    </tr>\n",
       "    <tr>\n",
       "      <th>...</th>\n",
       "      <td>...</td>\n",
       "      <td>...</td>\n",
       "      <td>...</td>\n",
       "      <td>...</td>\n",
       "      <td>...</td>\n",
       "      <td>...</td>\n",
       "    </tr>\n",
       "    <tr>\n",
       "      <th>97</th>\n",
       "      <td>0.2292</td>\n",
       "      <td>3.262707</td>\n",
       "      <td>48</td>\n",
       "      <td>7839</td>\n",
       "      <td>NaN</td>\n",
       "      <td>NaN</td>\n",
       "    </tr>\n",
       "    <tr>\n",
       "      <th>98</th>\n",
       "      <td>NaN</td>\n",
       "      <td>NaN</td>\n",
       "      <td>48</td>\n",
       "      <td>7839</td>\n",
       "      <td>0.233825</td>\n",
       "      <td>3.140117</td>\n",
       "    </tr>\n",
       "    <tr>\n",
       "      <th>99</th>\n",
       "      <td>0.2321</td>\n",
       "      <td>3.257167</td>\n",
       "      <td>49</td>\n",
       "      <td>7999</td>\n",
       "      <td>NaN</td>\n",
       "      <td>NaN</td>\n",
       "    </tr>\n",
       "    <tr>\n",
       "      <th>100</th>\n",
       "      <td>NaN</td>\n",
       "      <td>NaN</td>\n",
       "      <td>49</td>\n",
       "      <td>7999</td>\n",
       "      <td>0.235300</td>\n",
       "      <td>3.143403</td>\n",
       "    </tr>\n",
       "    <tr>\n",
       "      <th>101</th>\n",
       "      <td>0.2321</td>\n",
       "      <td>3.257167</td>\n",
       "      <td>50</td>\n",
       "      <td>8000</td>\n",
       "      <td>NaN</td>\n",
       "      <td>NaN</td>\n",
       "    </tr>\n",
       "  </tbody>\n",
       "</table>\n",
       "<p>102 rows × 6 columns</p>\n",
       "</div>"
      ],
      "text/plain": [
       "     val_acc  val_loss  epoch  step  train_acc  train_loss\n",
       "0     0.0080  4.617632      0     0        NaN         NaN\n",
       "1     0.1335  3.834027      0   159        NaN         NaN\n",
       "2        NaN       NaN      0   159   0.069250    4.231090\n",
       "3     0.1658  3.654164      1   319        NaN         NaN\n",
       "4        NaN       NaN      1   319   0.118525    3.853932\n",
       "..       ...       ...    ...   ...        ...         ...\n",
       "97    0.2292  3.262707     48  7839        NaN         NaN\n",
       "98       NaN       NaN     48  7839   0.233825    3.140117\n",
       "99    0.2321  3.257167     49  7999        NaN         NaN\n",
       "100      NaN       NaN     49  7999   0.235300    3.143403\n",
       "101   0.2321  3.257167     50  8000        NaN         NaN\n",
       "\n",
       "[102 rows x 6 columns]"
      ]
     },
     "execution_count": 41,
     "metadata": {},
     "output_type": "execute_result"
    }
   ],
   "source": [
    "results = pd.read_csv(logger.log_dir+\"/metrics.csv\")\n",
    "results"
   ]
  },
  {
   "cell_type": "code",
   "execution_count": 42,
   "id": "87c96bb4-2209-42c2-b7da-c68da1e941d0",
   "metadata": {},
   "outputs": [
    {
     "data": {
      "image/png": "[encoded data removed]",
      "text/plain": [
       "<Figure size 640x480 with 1 Axes>"
      ]
     },
     "metadata": {},
     "output_type": "display_data"
    }
   ],
   "source": [
    "plt.plot(results[\"epoch\"][np.logical_not(np.isnan(results[\"train_loss\"]))],\n",
    "         results[\"train_loss\"][np.logical_not(np.isnan(results[\"train_loss\"]))],\n",
    "         label=\"Training\")\n",
    "\n",
    "plt.plot(results[\"epoch\"][np.logical_not(np.isnan(results[\"val_loss\"]))],\n",
    "         results[\"val_loss\"][np.logical_not(np.isnan(results[\"val_loss\"]))],\n",
    "         label=\"Validation\")\n",
    "\n",
    "plt.legend()\n",
    "plt.ylabel(\"CCE Loss\")\n",
    "plt.xlabel(\"Epoch\")\n",
    "plt.show()"
   ]
  },
  {
   "cell_type": "code",
   "execution_count": 43,
   "id": "d17bb16a-b402-4dcb-be38-6510b12b0470",
   "metadata": {},
   "outputs": [
    {
     "name": "stdout",
     "output_type": "stream",
     "text": [
      "Validation accuracy: 0.00800000 0.13349999 0.16580001 0.17919999 0.18629999 0.19440000 0.19580001 0.20520000 0.20570000 0.20890000 0.20890000 0.21920000 0.21830000 0.21259999 0.21960001 0.22110000 0.22360000 0.22669999 0.22160000 0.22650000 0.22409999 0.22640000 0.22340000 0.22880000 0.22820000 0.22870000 0.22759999 0.23000000 0.23109999 0.23019999 0.23090000 0.23160000 0.23150000 0.22920001 0.23260000 0.22669999 0.23010001 0.22860000 0.22930001 0.23029999 0.22920001 0.22470000 0.22669999 0.23130000 0.22750001 0.22990000 0.22660001 0.23360001 0.22910000 0.22920001 0.23210000 0.23210000\n"
     ]
    }
   ],
   "source": [
    "print(\"Validation accuracy:\",*[\"%.8f\"%(x) for x in results['val_acc'][np.logical_not(np.isnan(results[\"val_acc\"]))]])"
   ]
  },
  {
   "cell_type": "code",
   "execution_count": 44,
   "id": "47c782c8-42e6-4868-ae26-98bba8e4e761",
   "metadata": {},
   "outputs": [
    {
     "name": "stderr",
     "output_type": "stream",
     "text": [
      "LOCAL_RANK: 0 - CUDA_VISIBLE_DEVICES: [0]\n",
      "SLURM auto-requeueing enabled. Setting signal handlers.\n",
      "/opt/conda/lib/python3.11/site-packages/lightning/pytorch/trainer/connectors/data_connector.py:442: PossibleUserWarning: The dataloader, test_dataloader, does not have many workers which may be a bottleneck. Consider increasing the value of the `num_workers` argument` (try 20 which is the number of cpus on this machine) in the `DataLoader` init to improve performance.\n",
      "  rank_zero_warn(\n"
     ]
    },
    {
     "data": {
      "application/vnd.jupyter.widget-view+json": {
       "model_id": "70498109a11243a48ef68aec1e983b9a",
       "version_major": 2,
       "version_minor": 0
      },
      "text/plain": [
       "Testing: 0it [00:00, ?it/s]"
      ]
     },
     "metadata": {},
     "output_type": "display_data"
    },
    {
     "data": {
      "text/html": [
       "<pre style=\"white-space:pre;overflow-x:auto;line-height:normal;font-family:Menlo,'DejaVu Sans Mono',consolas,'Courier New',monospace\">┏━━━━━━━━━━━━━━━━━━━━━━━━━━━┳━━━━━━━━━━━━━━━━━━━━━━━━━━━┓\n",
       "┃<span style=\"font-weight: bold\">   Runningstage.testing    </span>┃<span style=\"font-weight: bold\">                           </span>┃\n",
       "┃<span style=\"font-weight: bold\">          metric           </span>┃<span style=\"font-weight: bold\">       DataLoader 0        </span>┃\n",
       "┡━━━━━━━━━━━━━━━━━━━━━━━━━━━╇━━━━━━━━━━━━━━━━━━━━━━━━━━━┩\n",
       "│<span style=\"color: #008080; text-decoration-color: #008080\">         test_acc          </span>│<span style=\"color: #800080; text-decoration-color: #800080\">    0.22930000722408295    </span>│\n",
       "│<span style=\"color: #008080; text-decoration-color: #008080\">         test_loss         </span>│<span style=\"color: #800080; text-decoration-color: #800080\">     3.258103609085083     </span>│\n",
       "└───────────────────────────┴───────────────────────────┘\n",
       "</pre>\n"
      ],
      "text/plain": [
       "┏━━━━━━━━━━━━━━━━━━━━━━━━━━━┳━━━━━━━━━━━━━━━━━━━━━━━━━━━┓\n",
       "┃\u001b[1m \u001b[0m\u001b[1m  Runningstage.testing   \u001b[0m\u001b[1m \u001b[0m┃\u001b[1m                           \u001b[0m┃\n",
       "┃\u001b[1m \u001b[0m\u001b[1m         metric          \u001b[0m\u001b[1m \u001b[0m┃\u001b[1m \u001b[0m\u001b[1m      DataLoader 0       \u001b[0m\u001b[1m \u001b[0m┃\n",
       "┡━━━━━━━━━━━━━━━━━━━━━━━━━━━╇━━━━━━━━━━━━━━━━━━━━━━━━━━━┩\n",
       "│\u001b[36m \u001b[0m\u001b[36m        test_acc         \u001b[0m\u001b[36m \u001b[0m│\u001b[35m \u001b[0m\u001b[35m   0.22930000722408295   \u001b[0m\u001b[35m \u001b[0m│\n",
       "│\u001b[36m \u001b[0m\u001b[36m        test_loss        \u001b[0m\u001b[36m \u001b[0m│\u001b[35m \u001b[0m\u001b[35m    3.258103609085083    \u001b[0m\u001b[35m \u001b[0m│\n",
       "└───────────────────────────┴───────────────────────────┘\n"
      ]
     },
     "metadata": {},
     "output_type": "display_data"
    },
    {
     "name": "stdout",
     "output_type": "stream",
     "text": [
      "Testing accuracy: 0.22930000722408295\n"
     ]
    }
   ],
   "source": [
    "print(\"Testing accuracy:\", trainer.test(model, xy_test)[0]['test_acc'])"
   ]
  },
  {
   "cell_type": "code",
   "execution_count": null,
   "id": "0c09da6c-2ce9-4de9-b7f5-e52c7a21d1d4",
   "metadata": {},
   "outputs": [],
   "source": []
  }
 ],
 "metadata": {
  "kernelspec": {
   "display_name": "Python 3 (ipykernel)",
   "language": "python",
   "name": "python3"
  },
  "language_info": {
   "codemirror_mode": {
    "name": "ipython",
    "version": 3
   },
   "file_extension": ".py",
   "mimetype": "text/x-python",
   "name": "python",
   "nbconvert_exporter": "python",
   "pygments_lexer": "ipython3",
   "version": "3.11.5"
  }
 },
 "nbformat": 4,
 "nbformat_minor": 5
}
