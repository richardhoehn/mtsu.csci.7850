{
 "cells": [
  {
   "cell_type": "code",
   "execution_count": 1,
   "id": "4162f5e6-0d40-4243-8896-a95687b4e9f9",
   "metadata": {},
   "outputs": [
    {
     "name": "stderr",
     "output_type": "stream",
     "text": [
      "<jemalloc>: MADV_DONTNEED does not work (memset will be used instead)\n",
      "<jemalloc>: (This is the expected behaviour if you are running under QEMU)\n"
     ]
    },
    {
     "name": "stdout",
     "output_type": "stream",
     "text": [
      "Use GPU: False\n"
     ]
    }
   ],
   "source": [
    "import numpy as np\n",
    "import torch\n",
    "import torchvision\n",
    "import torchmetrics\n",
    "import lightning.pytorch as pl \n",
    "from torchinfo import summary \n",
    "from torchview import draw_graph \n",
    "import matplotlib.pyplot as plt \n",
    "import pandas as pd\n",
    "\n",
    "if (torch.cuda.is_available()): \n",
    "    device = (\"cuda\")\n",
    "else:\n",
    "    device = (\"cpu\")\n",
    "print(f\"Use GPU: {torch.cuda.is_available()}\")"
   ]
  },
  {
   "cell_type": "code",
   "execution_count": 26,
   "id": "7a034de5-a8e1-463d-abbd-435801ca8113",
   "metadata": {},
   "outputs": [],
   "source": [
    "# Config Section\n",
    "\n",
    "cfg_data_folder = \"datasets/cifar10\"\n",
    "# cfg_log_folder = \"logs\"\n",
    "# cfg_log_version = \"cifar10\"\n",
    "\n",
    "cfg_max_epochs = 10\n",
    "cfg_hidden_dim = 42\n",
    "\n",
    "cfg_cifar10_labels = {\n",
    "  0: \"Airplane\",\n",
    "  1: \"Automobile\",\n",
    "  2: \"Bird\",\n",
    "  3: \"Cat\",\n",
    "  4: \"Deer\",\n",
    "  5: \"Dog\",\n",
    "  6: \"Frog\",\n",
    "  7: \"Horse\",\n",
    "  8: \"Ship\",\n",
    "  9: \"Truck\",\n",
    "}\n",
    "\n",
    "cfg_num_workers = 5\n"
   ]
  },
  {
   "cell_type": "code",
   "execution_count": 3,
   "id": "395da7fa-425a-4a59-bdfa-baae373924ce",
   "metadata": {},
   "outputs": [
    {
     "name": "stdout",
     "output_type": "stream",
     "text": [
      "Downloading https://www.cs.toronto.edu/~kriz/cifar-10-python.tar.gz to datasets/cifar10/cifar-10-python.tar.gz\n"
     ]
    },
    {
     "name": "stderr",
     "output_type": "stream",
     "text": [
      "100%|███████████████████████████████████████████████████████████████████████████████████████████████████████████████████████████████████████████████████████████| 170498071/170498071 [00:15<00:00, 11286653.87it/s]\n"
     ]
    },
    {
     "name": "stdout",
     "output_type": "stream",
     "text": [
      "Extracting datasets/cifar10/cifar-10-python.tar.gz to datasets/cifar10\n",
      "Files already downloaded and verified\n",
      "torch.Size([40000, 32, 32, 3])\n",
      "torch.Size([10000, 32, 32, 3])\n",
      "torch.Size([10000, 32, 32, 3])\n"
     ]
    }
   ],
   "source": [
    "# Load the data set and scale to [-1,+1]\n",
    "training_dataset = torchvision.datasets.CIFAR10(root=cfg_data_folder, download=True, train=True)\n",
    "testing_dataset = torchvision.datasets.CIFAR10(root=cfg_data_folder,  download=True, train=False) \n",
    "\n",
    "x_train = (torch.Tensor(training_dataset.data) / 127.5) - 1.0\n",
    "y_train = torch.Tensor(training_dataset.targets).to(torch.long)\n",
    "x_test = (torch.Tensor(testing_dataset.data) / 127.5) - 1.0 \n",
    "y_test = torch.Tensor(testing_dataset.targets).to(torch.long)\n",
    "\n",
    "# You can set a seed value here if you\n",
    "# want to control the shuffling process...\n",
    "rng = np.random.default_rng()\n",
    "permutation = rng.permutation(x_train.shape[0]) \n",
    "split_point = int(x_train.shape[0] * 0.8) # 80%/20% split\n",
    "\n",
    "# Split into validation/training - keep test # set aside for later...\n",
    "x_val = x_train[permutation][split_point:]\n",
    "y_val = y_train[permutation][split_point:]\n",
    "x_train = x_train[permutation][:split_point]\n",
    "y_train = y_train[permutation][:split_point]\n",
    "\n",
    "print(x_train.shape)\n",
    "print(x_val.shape)\n",
    "print(x_test.shape)"
   ]
  },
  {
   "cell_type": "code",
   "execution_count": 4,
   "id": "b6c10722-d6dd-4e5c-b149-c63b4265b53e",
   "metadata": {},
   "outputs": [
    {
     "data": {
      "text/plain": [
       "torch.Size([40000, 32, 32, 3])"
      ]
     },
     "execution_count": 4,
     "metadata": {},
     "output_type": "execute_result"
    }
   ],
   "source": [
    "x_train.shape"
   ]
  },
  {
   "cell_type": "code",
   "execution_count": 5,
   "id": "e568a3c0-2847-4d93-9ba6-175254bab782",
   "metadata": {},
   "outputs": [
    {
     "data": {
      "image/png": "[encoded data removed]",
      "text/plain": [
       "<Figure size 640x480 with 1 Axes>"
      ]
     },
     "metadata": {},
     "output_type": "display_data"
    },
    {
     "name": "stdout",
     "output_type": "stream",
     "text": [
      "Label: Frog (idx: 6)\n"
     ]
    }
   ],
   "source": [
    "plt.imshow((x_train[0].detach().numpy() + 1.0)/2.0)\n",
    "plt.show()\n",
    "print(f\"Label: {cfg_cifar10_labels.get(int(y_train[0]))} (idx: {y_train[0]})\")"
   ]
  },
  {
   "cell_type": "code",
   "execution_count": 9,
   "id": "454976b3-5a60-4d90-ad24-c04bf5db38aa",
   "metadata": {},
   "outputs": [],
   "source": [
    "# Define model\n",
    "class WideNetwork(torch.nn.Module):\n",
    "    def __init__(self, input_size, output_size, hidden_size, **kwargs):\n",
    "        super().__init__(**kwargs)\n",
    "        self.flatten_layer = torch.nn.Flatten()\n",
    "        self.hidden_layer = torch.nn.Linear(input_size.numel(),\n",
    "                                            hidden_size)\n",
    "        self.hidden_activation = torch.nn.Tanh()\n",
    "        self.output_layer = torch.nn.Linear(hidden_size,\n",
    "                                            output_size)\n",
    "    \n",
    "    def forward(self, x):\n",
    "        y = x\n",
    "        y = self.flatten_layer(y)\n",
    "        y = self.hidden_activation(self.hidden_layer(y))\n",
    "        y = self.output_layer(y)\n",
    "        return y\n",
    "        \n",
    "    def predict(self, x):\n",
    "        y = x\n",
    "        y = self.forward(y)\n",
    "        y = torch.softmax(y, -1)\n",
    "        return y"
   ]
  },
  {
   "cell_type": "code",
   "execution_count": 11,
   "id": "a7efde5e-66d0-433c-a3a3-4bd3ae0bd621",
   "metadata": {},
   "outputs": [],
   "source": [
    "# Define Trainable Module\n",
    "class PLModel(pl.LightningModule):\n",
    "    def __init__(self, module, **kwargs):\n",
    "        # This is the contructor, where we typically make\n",
    "        # layer objects using provided arguments. \n",
    "        super().__init__(**kwargs) # Call the super class constructor \n",
    "        self.module = module\n",
    "        \n",
    "        # This creates an accuracy function\n",
    "        self.model_acc = torchmetrics.classification.Accuracy(task='multiclass', \n",
    "                                                              num_classes=module.output_layer.out_features)\n",
    "        # This creates a loss function\n",
    "        self.model_loss = torch.nn.CrossEntropyLoss()\n",
    "    \n",
    "    def forward(self, x):\n",
    "        return self.module.forward(x) \n",
    "        \n",
    "    def predict(self, x):\n",
    "        return self.module.predict(x)\n",
    "\n",
    "    def configure_optimizers(self):\n",
    "        optimizer = torch.optim.Adam(self.parameters(), lr=0.001)\n",
    "        return optimizer\n",
    "\n",
    "    def training_step(self, train_batch, batch_idx): \n",
    "        x, y_true = train_batch\n",
    "        y_pred = self(x)\n",
    "        acc = self.model_acc(y_pred, y_true)\n",
    "        loss = self.model_loss(y_pred, y_true) \n",
    "        self.log('train_acc',  acc,  on_step=False, on_epoch=True)\n",
    "        self.log('train_loss', loss, on_step=False, on_epoch=True) \n",
    "        return loss\n",
    "\n",
    "\n",
    "    def validation_step(self, val_batch, batch_idx): \n",
    "        x, y_true = val_batch\n",
    "        y_pred = self(x)\n",
    "        acc = self.model_acc(y_pred, y_true)\n",
    "        loss = self.model_loss(y_pred, y_true)\n",
    "        self.log('val_acc',  acc,  on_step=False, on_epoch=True)\n",
    "        self.log('val_loss', loss, on_step=False, on_epoch=True)\n",
    "        return loss\n",
    "        \n",
    "    def test_step(self, test_batch, batch_idx):\n",
    "        x, y_true = test_batch\n",
    "        y_pred = self(x)\n",
    "        acc = self.model_acc(y_pred,y_true)\n",
    "        loss = self.model_loss(y_pred,y_true)\n",
    "        self.log('test_acc',  acc,  on_step=False, on_epoch=True)\n",
    "        self.log('test_loss', loss, on_step=False, on_epoch=True)\n",
    "        return loss\n"
   ]
  },
  {
   "cell_type": "code",
   "execution_count": 27,
   "id": "14c05730-0b9a-42d5-a2a7-09ffa0b41624",
   "metadata": {},
   "outputs": [
    {
     "name": "stdout",
     "output_type": "stream",
     "text": [
      "Hidden Dims: 42\n"
     ]
    },
    {
     "data": {
      "text/plain": [
       "==========================================================================================\n",
       "Layer (type:depth-idx)                   Output Shape              Param #\n",
       "==========================================================================================\n",
       "PLModel                                  [1, 10]                   --\n",
       "├─WideNetwork: 1-1                       --                        --\n",
       "│    └─Flatten: 2-1                      [1, 3072]                 --\n",
       "│    └─Linear: 2-2                       [1, 42]                   129,066\n",
       "│    └─Tanh: 2-3                         [1, 42]                   --\n",
       "│    └─Linear: 2-4                       [1, 10]                   430\n",
       "==========================================================================================\n",
       "Total params: 129,496\n",
       "Trainable params: 129,496\n",
       "Non-trainable params: 0\n",
       "Total mult-adds (Units.MEGABYTES): 0.13\n",
       "==========================================================================================\n",
       "Input size (MB): 0.01\n",
       "Forward/backward pass size (MB): 0.00\n",
       "Params size (MB): 0.52\n",
       "Estimated Total Size (MB): 0.53\n",
       "=========================================================================================="
      ]
     },
     "execution_count": 27,
     "metadata": {},
     "output_type": "execute_result"
    }
   ],
   "source": [
    "print(f\"Hidden Dims: {cfg_hidden_dim}\")\n",
    "\n",
    "model = PLModel(WideNetwork(x_train.shape[1:],\n",
    "                            len(y_train.unique()),\n",
    "                            cfg_hidden_dim))\n",
    "\n",
    "summary(model, input_size=(1,)+x_train.shape[1:])"
   ]
  },
  {
   "cell_type": "code",
   "execution_count": 28,
   "id": "c0663c3c-8c0e-4a9a-b6df-88fe3a680911",
   "metadata": {},
   "outputs": [
    {
     "data": {
      "image/svg+xml": [
       "<?xml version=\"1.0\" encoding=\"UTF-8\" standalone=\"no\"?>\n",
       "<!DOCTYPE svg PUBLIC \"-//W3C//DTD SVG 1.1//EN\"\n",
       " \"http://www.w3.org/Graphics/SVG/1.1/DTD/svg11.dtd\">\n",
       "<!-- Generated by graphviz version 8.1.0 (20230707.2238)\n",
       " -->\n",
       "<!-- Title: model Pages: 1 -->\n",
       "<svg width=\"175pt\" height=\"435pt\"\n",
       " viewBox=\"0.00 0.00 175.00 435.00\" xmlns=\"http://www.w3.org/2000/svg\" xmlns:xlink=\"http://www.w3.org/1999/xlink\">\n",
       "<g id=\"graph0\" class=\"graph\" transform=\"scale(1 1) rotate(0) translate(4 431)\">\n",
       "<title>model</title>\n",
       "<polygon fill=\"white\" stroke=\"none\" points=\"-4,4 -4,-431 171,-431 171,4 -4,4\"/>\n",
       "<!-- 0 -->\n",
       "<g id=\"node1\" class=\"node\">\n",
       "<title>0</title>\n",
       "<polygon fill=\"lightyellow\" stroke=\"none\" points=\"153.88,-427 13.12,-427 13.12,-391.5 153.88,-391.5 153.88,-427\"/>\n",
       "<polygon fill=\"none\" stroke=\"black\" points=\"13.12,-391.5 13.12,-427 82.38,-427 82.38,-391.5 13.12,-391.5\"/>\n",
       "<text text-anchor=\"start\" x=\"18.12\" y=\"-412.5\" font-family=\"Linux libertine\" font-size=\"10.00\">input&#45;tensor</text>\n",
       "<text text-anchor=\"start\" x=\"29.38\" y=\"-399.75\" font-family=\"Linux libertine\" font-size=\"10.00\">depth:0</text>\n",
       "<polygon fill=\"none\" stroke=\"black\" points=\"82.38,-391.5 82.38,-427 153.88,-427 153.88,-391.5 82.38,-391.5\"/>\n",
       "<text text-anchor=\"start\" x=\"87.38\" y=\"-406.12\" font-family=\"Linux libertine\" font-size=\"10.00\">(1, 32, 32, 3)</text>\n",
       "</g>\n",
       "<!-- 1 -->\n",
       "<g id=\"node2\" class=\"node\">\n",
       "<title>1</title>\n",
       "<polygon fill=\"#c1ffc1\" stroke=\"none\" points=\"167,-355.5 0,-355.5 0,-311.5 167,-311.5 167,-355.5\"/>\n",
       "<polygon fill=\"none\" stroke=\"black\" points=\"0,-311.5 0,-355.5 46,-355.5 46,-311.5 0,-311.5\"/>\n",
       "<text text-anchor=\"start\" x=\"5.75\" y=\"-336.75\" font-family=\"Linux libertine\" font-size=\"10.00\">Flatten</text>\n",
       "<text text-anchor=\"start\" x=\"4.62\" y=\"-324\" font-family=\"Linux libertine\" font-size=\"10.00\">depth:1</text>\n",
       "<polygon fill=\"none\" stroke=\"black\" points=\"46,-333.5 46,-355.5 93,-355.5 93,-333.5 46,-333.5\"/>\n",
       "<text text-anchor=\"start\" x=\"55.62\" y=\"-341\" font-family=\"Linux libertine\" font-size=\"10.00\">input:</text>\n",
       "<polygon fill=\"none\" stroke=\"black\" points=\"93,-333.5 93,-355.5 167,-355.5 167,-333.5 93,-333.5\"/>\n",
       "<text text-anchor=\"start\" x=\"97.75\" y=\"-341\" font-family=\"Linux libertine\" font-size=\"10.00\">(1, 32, 32, 3) </text>\n",
       "<polygon fill=\"none\" stroke=\"black\" points=\"46,-311.5 46,-333.5 93,-333.5 93,-311.5 46,-311.5\"/>\n",
       "<text text-anchor=\"start\" x=\"50.75\" y=\"-319\" font-family=\"Linux libertine\" font-size=\"10.00\">output: </text>\n",
       "<polygon fill=\"none\" stroke=\"black\" points=\"93,-311.5 93,-333.5 167,-333.5 167,-311.5 93,-311.5\"/>\n",
       "<text text-anchor=\"start\" x=\"106.75\" y=\"-319\" font-family=\"Linux libertine\" font-size=\"10.00\">(1, 3072) </text>\n",
       "</g>\n",
       "<!-- 0&#45;&gt;1 -->\n",
       "<g id=\"edge1\" class=\"edge\">\n",
       "<title>0&#45;&gt;1</title>\n",
       "<path fill=\"none\" stroke=\"black\" d=\"M83.5,-391.51C83.5,-384.07 83.5,-375.04 83.5,-366.39\"/>\n",
       "<polygon fill=\"black\" stroke=\"black\" points=\"87,-366.39 83.5,-356.39 80,-366.39 87,-366.39\"/>\n",
       "</g>\n",
       "<!-- 2 -->\n",
       "<g id=\"node3\" class=\"node\">\n",
       "<title>2</title>\n",
       "<polygon fill=\"#c1ffc1\" stroke=\"none\" points=\"158,-275.5 9,-275.5 9,-231.5 158,-231.5 158,-275.5\"/>\n",
       "<polygon fill=\"none\" stroke=\"black\" points=\"9,-231.5 9,-275.5 55,-275.5 55,-231.5 9,-231.5\"/>\n",
       "<text text-anchor=\"start\" x=\"17\" y=\"-256.75\" font-family=\"Linux libertine\" font-size=\"10.00\">Linear</text>\n",
       "<text text-anchor=\"start\" x=\"13.62\" y=\"-244\" font-family=\"Linux libertine\" font-size=\"10.00\">depth:1</text>\n",
       "<polygon fill=\"none\" stroke=\"black\" points=\"55,-253.5 55,-275.5 102,-275.5 102,-253.5 55,-253.5\"/>\n",
       "<text text-anchor=\"start\" x=\"64.62\" y=\"-261\" font-family=\"Linux libertine\" font-size=\"10.00\">input:</text>\n",
       "<polygon fill=\"none\" stroke=\"black\" points=\"102,-253.5 102,-275.5 158,-275.5 158,-253.5 102,-253.5\"/>\n",
       "<text text-anchor=\"start\" x=\"106.75\" y=\"-261\" font-family=\"Linux libertine\" font-size=\"10.00\">(1, 3072) </text>\n",
       "<polygon fill=\"none\" stroke=\"black\" points=\"55,-231.5 55,-253.5 102,-253.5 102,-231.5 55,-231.5\"/>\n",
       "<text text-anchor=\"start\" x=\"59.75\" y=\"-239\" font-family=\"Linux libertine\" font-size=\"10.00\">output: </text>\n",
       "<polygon fill=\"none\" stroke=\"black\" points=\"102,-231.5 102,-253.5 158,-253.5 158,-231.5 102,-231.5\"/>\n",
       "<text text-anchor=\"start\" x=\"112.75\" y=\"-239\" font-family=\"Linux libertine\" font-size=\"10.00\">(1, 42) </text>\n",
       "</g>\n",
       "<!-- 1&#45;&gt;2 -->\n",
       "<g id=\"edge2\" class=\"edge\">\n",
       "<title>1&#45;&gt;2</title>\n",
       "<path fill=\"none\" stroke=\"black\" d=\"M83.5,-311.6C83.5,-303.82 83.5,-294.8 83.5,-286.26\"/>\n",
       "<polygon fill=\"black\" stroke=\"black\" points=\"87,-286.46 83.5,-276.46 80,-286.46 87,-286.46\"/>\n",
       "</g>\n",
       "<!-- 3 -->\n",
       "<g id=\"node4\" class=\"node\">\n",
       "<title>3</title>\n",
       "<polygon fill=\"#c1ffc1\" stroke=\"none\" points=\"152,-195.5 15,-195.5 15,-151.5 152,-151.5 152,-195.5\"/>\n",
       "<polygon fill=\"none\" stroke=\"black\" points=\"15,-151.5 15,-195.5 61,-195.5 61,-151.5 15,-151.5\"/>\n",
       "<text text-anchor=\"start\" x=\"26.75\" y=\"-176.75\" font-family=\"Linux libertine\" font-size=\"10.00\">Tanh</text>\n",
       "<text text-anchor=\"start\" x=\"19.62\" y=\"-164\" font-family=\"Linux libertine\" font-size=\"10.00\">depth:1</text>\n",
       "<polygon fill=\"none\" stroke=\"black\" points=\"61,-173.5 61,-195.5 108,-195.5 108,-173.5 61,-173.5\"/>\n",
       "<text text-anchor=\"start\" x=\"70.62\" y=\"-181\" font-family=\"Linux libertine\" font-size=\"10.00\">input:</text>\n",
       "<polygon fill=\"none\" stroke=\"black\" points=\"108,-173.5 108,-195.5 152,-195.5 152,-173.5 108,-173.5\"/>\n",
       "<text text-anchor=\"start\" x=\"112.75\" y=\"-181\" font-family=\"Linux libertine\" font-size=\"10.00\">(1, 42) </text>\n",
       "<polygon fill=\"none\" stroke=\"black\" points=\"61,-151.5 61,-173.5 108,-173.5 108,-151.5 61,-151.5\"/>\n",
       "<text text-anchor=\"start\" x=\"65.75\" y=\"-159\" font-family=\"Linux libertine\" font-size=\"10.00\">output: </text>\n",
       "<polygon fill=\"none\" stroke=\"black\" points=\"108,-151.5 108,-173.5 152,-173.5 152,-151.5 108,-151.5\"/>\n",
       "<text text-anchor=\"start\" x=\"112.75\" y=\"-159\" font-family=\"Linux libertine\" font-size=\"10.00\">(1, 42) </text>\n",
       "</g>\n",
       "<!-- 2&#45;&gt;3 -->\n",
       "<g id=\"edge3\" class=\"edge\">\n",
       "<title>2&#45;&gt;3</title>\n",
       "<path fill=\"none\" stroke=\"black\" d=\"M83.5,-231.6C83.5,-223.82 83.5,-214.8 83.5,-206.26\"/>\n",
       "<polygon fill=\"black\" stroke=\"black\" points=\"87,-206.46 83.5,-196.46 80,-206.46 87,-206.46\"/>\n",
       "</g>\n",
       "<!-- 4 -->\n",
       "<g id=\"node5\" class=\"node\">\n",
       "<title>4</title>\n",
       "<polygon fill=\"#c1ffc1\" stroke=\"none\" points=\"152,-115.5 15,-115.5 15,-71.5 152,-71.5 152,-115.5\"/>\n",
       "<polygon fill=\"none\" stroke=\"black\" points=\"15,-71.5 15,-115.5 61,-115.5 61,-71.5 15,-71.5\"/>\n",
       "<text text-anchor=\"start\" x=\"23\" y=\"-96.75\" font-family=\"Linux libertine\" font-size=\"10.00\">Linear</text>\n",
       "<text text-anchor=\"start\" x=\"19.62\" y=\"-84\" font-family=\"Linux libertine\" font-size=\"10.00\">depth:1</text>\n",
       "<polygon fill=\"none\" stroke=\"black\" points=\"61,-93.5 61,-115.5 108,-115.5 108,-93.5 61,-93.5\"/>\n",
       "<text text-anchor=\"start\" x=\"70.62\" y=\"-101\" font-family=\"Linux libertine\" font-size=\"10.00\">input:</text>\n",
       "<polygon fill=\"none\" stroke=\"black\" points=\"108,-93.5 108,-115.5 152,-115.5 152,-93.5 108,-93.5\"/>\n",
       "<text text-anchor=\"start\" x=\"112.75\" y=\"-101\" font-family=\"Linux libertine\" font-size=\"10.00\">(1, 42) </text>\n",
       "<polygon fill=\"none\" stroke=\"black\" points=\"61,-71.5 61,-93.5 108,-93.5 108,-71.5 61,-71.5\"/>\n",
       "<text text-anchor=\"start\" x=\"65.75\" y=\"-79\" font-family=\"Linux libertine\" font-size=\"10.00\">output: </text>\n",
       "<polygon fill=\"none\" stroke=\"black\" points=\"108,-71.5 108,-93.5 152,-93.5 152,-71.5 108,-71.5\"/>\n",
       "<text text-anchor=\"start\" x=\"112.75\" y=\"-79\" font-family=\"Linux libertine\" font-size=\"10.00\">(1, 10) </text>\n",
       "</g>\n",
       "<!-- 3&#45;&gt;4 -->\n",
       "<g id=\"edge4\" class=\"edge\">\n",
       "<title>3&#45;&gt;4</title>\n",
       "<path fill=\"none\" stroke=\"black\" d=\"M83.5,-151.6C83.5,-143.82 83.5,-134.8 83.5,-126.26\"/>\n",
       "<polygon fill=\"black\" stroke=\"black\" points=\"87,-126.46 83.5,-116.46 80,-126.46 87,-126.46\"/>\n",
       "</g>\n",
       "<!-- 5 -->\n",
       "<g id=\"node6\" class=\"node\">\n",
       "<title>5</title>\n",
       "<polygon fill=\"lightyellow\" stroke=\"none\" points=\"142.25,-35.5 24.75,-35.5 24.75,0 142.25,0 142.25,-35.5\"/>\n",
       "<polygon fill=\"none\" stroke=\"black\" points=\"24.75,0 24.75,-35.5 100.75,-35.5 100.75,0 24.75,0\"/>\n",
       "<text text-anchor=\"start\" x=\"29.75\" y=\"-21\" font-family=\"Linux libertine\" font-size=\"10.00\">output&#45;tensor</text>\n",
       "<text text-anchor=\"start\" x=\"44.38\" y=\"-8.25\" font-family=\"Linux libertine\" font-size=\"10.00\">depth:0</text>\n",
       "<polygon fill=\"none\" stroke=\"black\" points=\"100.75,0 100.75,-35.5 142.25,-35.5 142.25,0 100.75,0\"/>\n",
       "<text text-anchor=\"start\" x=\"105.75\" y=\"-14.62\" font-family=\"Linux libertine\" font-size=\"10.00\">(1, 10)</text>\n",
       "</g>\n",
       "<!-- 4&#45;&gt;5 -->\n",
       "<g id=\"edge5\" class=\"edge\">\n",
       "<title>4&#45;&gt;5</title>\n",
       "<path fill=\"none\" stroke=\"black\" d=\"M83.5,-71.56C83.5,-63.6 83.5,-54.41 83.5,-45.95\"/>\n",
       "<polygon fill=\"black\" stroke=\"black\" points=\"87,-46.05 83.5,-36.05 80,-46.05 87,-46.05\"/>\n",
       "</g>\n",
       "</g>\n",
       "</svg>\n"
      ],
      "text/plain": [
       "<graphviz.graphs.Digraph at 0x424f547310>"
      ]
     },
     "execution_count": 28,
     "metadata": {},
     "output_type": "execute_result"
    }
   ],
   "source": [
    "# Depth Setting\n",
    "model_graph = draw_graph(model, input_size=(1,)+x_train.shape[1:], device=device, depth=3)\n",
    "\n",
    "model_graph.visual_graph"
   ]
  },
  {
   "cell_type": "code",
   "execution_count": 29,
   "id": "26b42584-8d65-4f16-a6f2-7b80624de828",
   "metadata": {},
   "outputs": [
    {
     "data": {
      "text/plain": [
       "array([[0.10742779, 0.10917261, 0.09149612, 0.09663166, 0.10427158,\n",
       "        0.10397827, 0.1002244 , 0.1036239 , 0.08067065, 0.10250296],\n",
       "       [0.11174151, 0.09234022, 0.10517874, 0.10209792, 0.10735616,\n",
       "        0.09910303, 0.10174479, 0.1098918 , 0.08133986, 0.089206  ],\n",
       "       [0.08638343, 0.08890687, 0.10838497, 0.12381352, 0.11693097,\n",
       "        0.08176555, 0.10216247, 0.11481797, 0.07492343, 0.10191078],\n",
       "       [0.1038752 , 0.08534758, 0.1145028 , 0.1025007 , 0.10404223,\n",
       "        0.10240413, 0.08380121, 0.12916481, 0.0820356 , 0.09232568],\n",
       "       [0.1261484 , 0.09501011, 0.06317191, 0.09246987, 0.10350075,\n",
       "        0.12558798, 0.08576679, 0.1302333 , 0.09298202, 0.08512884]],\n",
       "      dtype=float32)"
      ]
     },
     "execution_count": 29,
     "metadata": {},
     "output_type": "execute_result"
    }
   ],
   "source": [
    "predictions = model.predict(x_train[:5].to(device)).cpu().detach().numpy()\n",
    "\n",
    "predictions"
   ]
  },
  {
   "cell_type": "code",
   "execution_count": 30,
   "id": "8aafcbf5-294c-474d-8af7-ba0081150cad",
   "metadata": {},
   "outputs": [
    {
     "data": {
      "text/plain": [
       "array(2.1980531, dtype=float32)"
      ]
     },
     "execution_count": 30,
     "metadata": {},
     "output_type": "execute_result"
    }
   ],
   "source": [
    "model.model_loss(model(x_train[:5].to(device)),\n",
    "                 y_train[:5].to(device)\n",
    "                ).cpu().detach().numpy()"
   ]
  },
  {
   "cell_type": "code",
   "execution_count": 31,
   "id": "d0a80a31-ec5a-4bdd-b5cf-855e12ff85a7",
   "metadata": {},
   "outputs": [
    {
     "data": {
      "text/plain": [
       "array(0.2, dtype=float32)"
      ]
     },
     "execution_count": 31,
     "metadata": {},
     "output_type": "execute_result"
    }
   ],
   "source": [
    "model.model_acc(model(x_train[:5].to(device)),\n",
    "                y_train[:5].to(device)).cpu().detach().numpy()"
   ]
  },
  {
   "cell_type": "code",
   "execution_count": 32,
   "id": "e991a2f2-3eb1-4a88-864b-8c0a1042f1ce",
   "metadata": {},
   "outputs": [],
   "source": [
    "xy_train = torch.utils.data.DataLoader(list(zip(x_train, y_train)),\n",
    "                                       shuffle=True,\n",
    "                                       batch_size=250,\n",
    "                                       num_workers=cfg_num_workers) # Using CFG\n",
    "\n",
    "xy_val = torch.utils.data.DataLoader(list(zip(x_val, y_val)),\n",
    "                                     shuffle=False,\n",
    "                                     batch_size=250,\n",
    "                                     num_workers=cfg_num_workers) # Using CFG\n",
    "\n",
    "xy_test = torch.utils.data.DataLoader(list(zip(x_test, y_test)),\n",
    "                                      shuffle=False,\n",
    "                                      batch_size=250,\n",
    "                                      num_workers=cfg_num_workers) # Using CFG"
   ]
  },
  {
   "cell_type": "code",
   "execution_count": 33,
   "id": "0f102f1d-5348-4859-a2f0-177ec4a4b525",
   "metadata": {},
   "outputs": [],
   "source": [
    "# Setup Logger\n",
    "logger = pl.loggers.CSVLogger(\"logs\", name=\"OL2\", version=\"wide\")"
   ]
  },
  {
   "cell_type": "code",
   "execution_count": 34,
   "id": "28f1e198-861e-4288-b1ec-7128bd178826",
   "metadata": {},
   "outputs": [
    {
     "name": "stderr",
     "output_type": "stream",
     "text": [
      "GPU available: False, used: False\n",
      "TPU available: False, using: 0 TPU cores\n",
      "IPU available: False, using: 0 IPUs\n",
      "HPU available: False, using: 0 HPUs\n"
     ]
    }
   ],
   "source": [
    "trainer = pl.Trainer(logger=logger,\n",
    "                     max_epochs=cfg_max_epochs,\n",
    "                     enable_progress_bar=True,\n",
    "                     log_every_n_steps=0,\n",
    "                     callbacks=[pl.callbacks.TQDMProgressBar(refresh_rate=20)])"
   ]
  },
  {
   "cell_type": "code",
   "execution_count": 35,
   "id": "af94f317-7ce9-46f0-b7cc-1b72f7595d6e",
   "metadata": {},
   "outputs": [
    {
     "data": {
      "application/vnd.jupyter.widget-view+json": {
       "model_id": "37f068aeafc14f01af632a211c98fafd",
       "version_major": 2,
       "version_minor": 0
      },
      "text/plain": [
       "Validation: 0it [00:00, ?it/s]"
      ]
     },
     "metadata": {},
     "output_type": "display_data"
    },
    {
     "data": {
      "text/html": [
       "<pre style=\"white-space:pre;overflow-x:auto;line-height:normal;font-family:Menlo,'DejaVu Sans Mono',consolas,'Courier New',monospace\">┏━━━━━━━━━━━━━━━━━━━━━━━━━━━┳━━━━━━━━━━━━━━━━━━━━━━━━━━━┓\n",
       "┃<span style=\"font-weight: bold\">  Runningstage.validating  </span>┃<span style=\"font-weight: bold\">                           </span>┃\n",
       "┃<span style=\"font-weight: bold\">          metric           </span>┃<span style=\"font-weight: bold\">       DataLoader 0        </span>┃\n",
       "┡━━━━━━━━━━━━━━━━━━━━━━━━━━━╇━━━━━━━━━━━━━━━━━━━━━━━━━━━┩\n",
       "│<span style=\"color: #008080; text-decoration-color: #008080\">          val_acc          </span>│<span style=\"color: #800080; text-decoration-color: #800080\">    0.10090000182390213    </span>│\n",
       "│<span style=\"color: #008080; text-decoration-color: #008080\">         val_loss          </span>│<span style=\"color: #800080; text-decoration-color: #800080\">     2.30700421333313      </span>│\n",
       "└───────────────────────────┴───────────────────────────┘\n",
       "</pre>\n"
      ],
      "text/plain": [
       "┏━━━━━━━━━━━━━━━━━━━━━━━━━━━┳━━━━━━━━━━━━━━━━━━━━━━━━━━━┓\n",
       "┃\u001b[1m \u001b[0m\u001b[1m Runningstage.validating \u001b[0m\u001b[1m \u001b[0m┃\u001b[1m                           \u001b[0m┃\n",
       "┃\u001b[1m \u001b[0m\u001b[1m         metric          \u001b[0m\u001b[1m \u001b[0m┃\u001b[1m \u001b[0m\u001b[1m      DataLoader 0       \u001b[0m\u001b[1m \u001b[0m┃\n",
       "┡━━━━━━━━━━━━━━━━━━━━━━━━━━━╇━━━━━━━━━━━━━━━━━━━━━━━━━━━┩\n",
       "│\u001b[36m \u001b[0m\u001b[36m         val_acc         \u001b[0m\u001b[36m \u001b[0m│\u001b[35m \u001b[0m\u001b[35m   0.10090000182390213   \u001b[0m\u001b[35m \u001b[0m│\n",
       "│\u001b[36m \u001b[0m\u001b[36m        val_loss         \u001b[0m\u001b[36m \u001b[0m│\u001b[35m \u001b[0m\u001b[35m    2.30700421333313     \u001b[0m\u001b[35m \u001b[0m│\n",
       "└───────────────────────────┴───────────────────────────┘\n"
      ]
     },
     "metadata": {},
     "output_type": "display_data"
    },
    {
     "data": {
      "text/plain": [
       "[{'val_acc': 0.10090000182390213, 'val_loss': 2.30700421333313}]"
      ]
     },
     "execution_count": 35,
     "metadata": {},
     "output_type": "execute_result"
    }
   ],
   "source": [
    "trainer.validate(model, xy_val)"
   ]
  },
  {
   "cell_type": "code",
   "execution_count": 36,
   "id": "1c687e4b-4f13-498a-8cf8-6b83aa28798c",
   "metadata": {},
   "outputs": [
    {
     "name": "stderr",
     "output_type": "stream",
     "text": [
      "\n",
      "  | Name       | Type               | Params\n",
      "--------------------------------------------------\n",
      "0 | module     | WideNetwork        | 129 K \n",
      "1 | model_acc  | MulticlassAccuracy | 0     \n",
      "2 | model_loss | CrossEntropyLoss   | 0     \n",
      "--------------------------------------------------\n",
      "129 K     Trainable params\n",
      "0         Non-trainable params\n",
      "129 K     Total params\n",
      "0.518     Total estimated model params size (MB)\n"
     ]
    },
    {
     "data": {
      "application/vnd.jupyter.widget-view+json": {
       "model_id": "",
       "version_major": 2,
       "version_minor": 0
      },
      "text/plain": [
       "Sanity Checking: 0it [00:00, ?it/s]"
      ]
     },
     "metadata": {},
     "output_type": "display_data"
    },
    {
     "data": {
      "application/vnd.jupyter.widget-view+json": {
       "model_id": "c38b7aecc31044809b871415b77793fe",
       "version_major": 2,
       "version_minor": 0
      },
      "text/plain": [
       "Training: 0it [00:00, ?it/s]"
      ]
     },
     "metadata": {},
     "output_type": "display_data"
    },
    {
     "data": {
      "application/vnd.jupyter.widget-view+json": {
       "model_id": "",
       "version_major": 2,
       "version_minor": 0
      },
      "text/plain": [
       "Validation: 0it [00:00, ?it/s]"
      ]
     },
     "metadata": {},
     "output_type": "display_data"
    },
    {
     "data": {
      "application/vnd.jupyter.widget-view+json": {
       "model_id": "",
       "version_major": 2,
       "version_minor": 0
      },
      "text/plain": [
       "Validation: 0it [00:00, ?it/s]"
      ]
     },
     "metadata": {},
     "output_type": "display_data"
    },
    {
     "data": {
      "application/vnd.jupyter.widget-view+json": {
       "model_id": "",
       "version_major": 2,
       "version_minor": 0
      },
      "text/plain": [
       "Validation: 0it [00:00, ?it/s]"
      ]
     },
     "metadata": {},
     "output_type": "display_data"
    },
    {
     "data": {
      "application/vnd.jupyter.widget-view+json": {
       "model_id": "",
       "version_major": 2,
       "version_minor": 0
      },
      "text/plain": [
       "Validation: 0it [00:00, ?it/s]"
      ]
     },
     "metadata": {},
     "output_type": "display_data"
    },
    {
     "data": {
      "application/vnd.jupyter.widget-view+json": {
       "model_id": "",
       "version_major": 2,
       "version_minor": 0
      },
      "text/plain": [
       "Validation: 0it [00:00, ?it/s]"
      ]
     },
     "metadata": {},
     "output_type": "display_data"
    },
    {
     "data": {
      "application/vnd.jupyter.widget-view+json": {
       "model_id": "",
       "version_major": 2,
       "version_minor": 0
      },
      "text/plain": [
       "Validation: 0it [00:00, ?it/s]"
      ]
     },
     "metadata": {},
     "output_type": "display_data"
    },
    {
     "data": {
      "application/vnd.jupyter.widget-view+json": {
       "model_id": "",
       "version_major": 2,
       "version_minor": 0
      },
      "text/plain": [
       "Validation: 0it [00:00, ?it/s]"
      ]
     },
     "metadata": {},
     "output_type": "display_data"
    },
    {
     "data": {
      "application/vnd.jupyter.widget-view+json": {
       "model_id": "",
       "version_major": 2,
       "version_minor": 0
      },
      "text/plain": [
       "Validation: 0it [00:00, ?it/s]"
      ]
     },
     "metadata": {},
     "output_type": "display_data"
    },
    {
     "data": {
      "application/vnd.jupyter.widget-view+json": {
       "model_id": "",
       "version_major": 2,
       "version_minor": 0
      },
      "text/plain": [
       "Validation: 0it [00:00, ?it/s]"
      ]
     },
     "metadata": {},
     "output_type": "display_data"
    },
    {
     "data": {
      "application/vnd.jupyter.widget-view+json": {
       "model_id": "",
       "version_major": 2,
       "version_minor": 0
      },
      "text/plain": [
       "Validation: 0it [00:00, ?it/s]"
      ]
     },
     "metadata": {},
     "output_type": "display_data"
    },
    {
     "name": "stderr",
     "output_type": "stream",
     "text": [
      "`Trainer.fit` stopped: `max_epochs=10` reached.\n"
     ]
    }
   ],
   "source": [
    "trainer.fit(model, xy_train, xy_val)"
   ]
  },
  {
   "cell_type": "code",
   "execution_count": 37,
   "id": "ce445e4f-adf4-4ee5-8cbb-2ff74f467a9d",
   "metadata": {},
   "outputs": [
    {
     "data": {
      "application/vnd.jupyter.widget-view+json": {
       "model_id": "9fe69819d0994f139faea9d0b0b218c3",
       "version_major": 2,
       "version_minor": 0
      },
      "text/plain": [
       "Validation: 0it [00:00, ?it/s]"
      ]
     },
     "metadata": {},
     "output_type": "display_data"
    },
    {
     "data": {
      "text/html": [
       "<pre style=\"white-space:pre;overflow-x:auto;line-height:normal;font-family:Menlo,'DejaVu Sans Mono',consolas,'Courier New',monospace\">┏━━━━━━━━━━━━━━━━━━━━━━━━━━━┳━━━━━━━━━━━━━━━━━━━━━━━━━━━┓\n",
       "┃<span style=\"font-weight: bold\">  Runningstage.validating  </span>┃<span style=\"font-weight: bold\">                           </span>┃\n",
       "┃<span style=\"font-weight: bold\">          metric           </span>┃<span style=\"font-weight: bold\">       DataLoader 0        </span>┃\n",
       "┡━━━━━━━━━━━━━━━━━━━━━━━━━━━╇━━━━━━━━━━━━━━━━━━━━━━━━━━━┩\n",
       "│<span style=\"color: #008080; text-decoration-color: #008080\">          val_acc          </span>│<span style=\"color: #800080; text-decoration-color: #800080\">    0.44269999861717224    </span>│\n",
       "│<span style=\"color: #008080; text-decoration-color: #008080\">         val_loss          </span>│<span style=\"color: #800080; text-decoration-color: #800080\">     1.618436574935913     </span>│\n",
       "└───────────────────────────┴───────────────────────────┘\n",
       "</pre>\n"
      ],
      "text/plain": [
       "┏━━━━━━━━━━━━━━━━━━━━━━━━━━━┳━━━━━━━━━━━━━━━━━━━━━━━━━━━┓\n",
       "┃\u001b[1m \u001b[0m\u001b[1m Runningstage.validating \u001b[0m\u001b[1m \u001b[0m┃\u001b[1m                           \u001b[0m┃\n",
       "┃\u001b[1m \u001b[0m\u001b[1m         metric          \u001b[0m\u001b[1m \u001b[0m┃\u001b[1m \u001b[0m\u001b[1m      DataLoader 0       \u001b[0m\u001b[1m \u001b[0m┃\n",
       "┡━━━━━━━━━━━━━━━━━━━━━━━━━━━╇━━━━━━━━━━━━━━━━━━━━━━━━━━━┩\n",
       "│\u001b[36m \u001b[0m\u001b[36m         val_acc         \u001b[0m\u001b[36m \u001b[0m│\u001b[35m \u001b[0m\u001b[35m   0.44269999861717224   \u001b[0m\u001b[35m \u001b[0m│\n",
       "│\u001b[36m \u001b[0m\u001b[36m        val_loss         \u001b[0m\u001b[36m \u001b[0m│\u001b[35m \u001b[0m\u001b[35m    1.618436574935913    \u001b[0m\u001b[35m \u001b[0m│\n",
       "└───────────────────────────┴───────────────────────────┘\n"
      ]
     },
     "metadata": {},
     "output_type": "display_data"
    },
    {
     "data": {
      "text/plain": [
       "[{'val_acc': 0.44269999861717224, 'val_loss': 1.618436574935913}]"
      ]
     },
     "execution_count": 37,
     "metadata": {},
     "output_type": "execute_result"
    }
   ],
   "source": [
    "# Validate on Model\n",
    "trainer.validate(model, xy_val)"
   ]
  },
  {
   "cell_type": "code",
   "execution_count": 38,
   "id": "db3fd528-c1ed-42e3-9c4b-ed5601dc96cf",
   "metadata": {},
   "outputs": [
    {
     "data": {
      "text/html": [
       "<div>\n",
       "<style scoped>\n",
       "    .dataframe tbody tr th:only-of-type {\n",
       "        vertical-align: middle;\n",
       "    }\n",
       "\n",
       "    .dataframe tbody tr th {\n",
       "        vertical-align: top;\n",
       "    }\n",
       "\n",
       "    .dataframe thead th {\n",
       "        text-align: right;\n",
       "    }\n",
       "</style>\n",
       "<table border=\"1\" class=\"dataframe\">\n",
       "  <thead>\n",
       "    <tr style=\"text-align: right;\">\n",
       "      <th></th>\n",
       "      <th>val_acc</th>\n",
       "      <th>val_loss</th>\n",
       "      <th>epoch</th>\n",
       "      <th>step</th>\n",
       "      <th>train_acc</th>\n",
       "      <th>train_loss</th>\n",
       "    </tr>\n",
       "  </thead>\n",
       "  <tbody>\n",
       "    <tr>\n",
       "      <th>0</th>\n",
       "      <td>0.1009</td>\n",
       "      <td>2.307004</td>\n",
       "      <td>0</td>\n",
       "      <td>0</td>\n",
       "      <td>NaN</td>\n",
       "      <td>NaN</td>\n",
       "    </tr>\n",
       "    <tr>\n",
       "      <th>1</th>\n",
       "      <td>0.3915</td>\n",
       "      <td>1.740269</td>\n",
       "      <td>0</td>\n",
       "      <td>159</td>\n",
       "      <td>NaN</td>\n",
       "      <td>NaN</td>\n",
       "    </tr>\n",
       "    <tr>\n",
       "      <th>2</th>\n",
       "      <td>NaN</td>\n",
       "      <td>NaN</td>\n",
       "      <td>0</td>\n",
       "      <td>159</td>\n",
       "      <td>0.369825</td>\n",
       "      <td>1.817250</td>\n",
       "    </tr>\n",
       "    <tr>\n",
       "      <th>3</th>\n",
       "      <td>0.4154</td>\n",
       "      <td>1.681520</td>\n",
       "      <td>1</td>\n",
       "      <td>319</td>\n",
       "      <td>NaN</td>\n",
       "      <td>NaN</td>\n",
       "    </tr>\n",
       "    <tr>\n",
       "      <th>4</th>\n",
       "      <td>NaN</td>\n",
       "      <td>NaN</td>\n",
       "      <td>1</td>\n",
       "      <td>319</td>\n",
       "      <td>0.419975</td>\n",
       "      <td>1.687382</td>\n",
       "    </tr>\n",
       "    <tr>\n",
       "      <th>5</th>\n",
       "      <td>0.4206</td>\n",
       "      <td>1.669823</td>\n",
       "      <td>2</td>\n",
       "      <td>479</td>\n",
       "      <td>NaN</td>\n",
       "      <td>NaN</td>\n",
       "    </tr>\n",
       "    <tr>\n",
       "      <th>6</th>\n",
       "      <td>NaN</td>\n",
       "      <td>NaN</td>\n",
       "      <td>2</td>\n",
       "      <td>479</td>\n",
       "      <td>0.437150</td>\n",
       "      <td>1.636469</td>\n",
       "    </tr>\n",
       "    <tr>\n",
       "      <th>7</th>\n",
       "      <td>0.4315</td>\n",
       "      <td>1.632822</td>\n",
       "      <td>3</td>\n",
       "      <td>639</td>\n",
       "      <td>NaN</td>\n",
       "      <td>NaN</td>\n",
       "    </tr>\n",
       "    <tr>\n",
       "      <th>8</th>\n",
       "      <td>NaN</td>\n",
       "      <td>NaN</td>\n",
       "      <td>3</td>\n",
       "      <td>639</td>\n",
       "      <td>0.451375</td>\n",
       "      <td>1.592776</td>\n",
       "    </tr>\n",
       "    <tr>\n",
       "      <th>9</th>\n",
       "      <td>0.4349</td>\n",
       "      <td>1.634647</td>\n",
       "      <td>4</td>\n",
       "      <td>799</td>\n",
       "      <td>NaN</td>\n",
       "      <td>NaN</td>\n",
       "    </tr>\n",
       "    <tr>\n",
       "      <th>10</th>\n",
       "      <td>NaN</td>\n",
       "      <td>NaN</td>\n",
       "      <td>4</td>\n",
       "      <td>799</td>\n",
       "      <td>0.460325</td>\n",
       "      <td>1.562307</td>\n",
       "    </tr>\n",
       "    <tr>\n",
       "      <th>11</th>\n",
       "      <td>0.4356</td>\n",
       "      <td>1.626961</td>\n",
       "      <td>5</td>\n",
       "      <td>959</td>\n",
       "      <td>NaN</td>\n",
       "      <td>NaN</td>\n",
       "    </tr>\n",
       "    <tr>\n",
       "      <th>12</th>\n",
       "      <td>NaN</td>\n",
       "      <td>NaN</td>\n",
       "      <td>5</td>\n",
       "      <td>959</td>\n",
       "      <td>0.471475</td>\n",
       "      <td>1.534500</td>\n",
       "    </tr>\n",
       "    <tr>\n",
       "      <th>13</th>\n",
       "      <td>0.4397</td>\n",
       "      <td>1.624212</td>\n",
       "      <td>6</td>\n",
       "      <td>1119</td>\n",
       "      <td>NaN</td>\n",
       "      <td>NaN</td>\n",
       "    </tr>\n",
       "    <tr>\n",
       "      <th>14</th>\n",
       "      <td>NaN</td>\n",
       "      <td>NaN</td>\n",
       "      <td>6</td>\n",
       "      <td>1119</td>\n",
       "      <td>0.480075</td>\n",
       "      <td>1.513724</td>\n",
       "    </tr>\n",
       "    <tr>\n",
       "      <th>15</th>\n",
       "      <td>0.4356</td>\n",
       "      <td>1.627409</td>\n",
       "      <td>7</td>\n",
       "      <td>1279</td>\n",
       "      <td>NaN</td>\n",
       "      <td>NaN</td>\n",
       "    </tr>\n",
       "    <tr>\n",
       "      <th>16</th>\n",
       "      <td>NaN</td>\n",
       "      <td>NaN</td>\n",
       "      <td>7</td>\n",
       "      <td>1279</td>\n",
       "      <td>0.487025</td>\n",
       "      <td>1.489944</td>\n",
       "    </tr>\n",
       "    <tr>\n",
       "      <th>17</th>\n",
       "      <td>0.4352</td>\n",
       "      <td>1.631785</td>\n",
       "      <td>8</td>\n",
       "      <td>1439</td>\n",
       "      <td>NaN</td>\n",
       "      <td>NaN</td>\n",
       "    </tr>\n",
       "    <tr>\n",
       "      <th>18</th>\n",
       "      <td>NaN</td>\n",
       "      <td>NaN</td>\n",
       "      <td>8</td>\n",
       "      <td>1439</td>\n",
       "      <td>0.493425</td>\n",
       "      <td>1.472945</td>\n",
       "    </tr>\n",
       "    <tr>\n",
       "      <th>19</th>\n",
       "      <td>0.4427</td>\n",
       "      <td>1.618437</td>\n",
       "      <td>9</td>\n",
       "      <td>1599</td>\n",
       "      <td>NaN</td>\n",
       "      <td>NaN</td>\n",
       "    </tr>\n",
       "    <tr>\n",
       "      <th>20</th>\n",
       "      <td>NaN</td>\n",
       "      <td>NaN</td>\n",
       "      <td>9</td>\n",
       "      <td>1599</td>\n",
       "      <td>0.500450</td>\n",
       "      <td>1.453015</td>\n",
       "    </tr>\n",
       "    <tr>\n",
       "      <th>21</th>\n",
       "      <td>0.4427</td>\n",
       "      <td>1.618437</td>\n",
       "      <td>10</td>\n",
       "      <td>1600</td>\n",
       "      <td>NaN</td>\n",
       "      <td>NaN</td>\n",
       "    </tr>\n",
       "  </tbody>\n",
       "</table>\n",
       "</div>"
      ],
      "text/plain": [
       "    val_acc  val_loss  epoch  step  train_acc  train_loss\n",
       "0    0.1009  2.307004      0     0        NaN         NaN\n",
       "1    0.3915  1.740269      0   159        NaN         NaN\n",
       "2       NaN       NaN      0   159   0.369825    1.817250\n",
       "3    0.4154  1.681520      1   319        NaN         NaN\n",
       "4       NaN       NaN      1   319   0.419975    1.687382\n",
       "5    0.4206  1.669823      2   479        NaN         NaN\n",
       "6       NaN       NaN      2   479   0.437150    1.636469\n",
       "7    0.4315  1.632822      3   639        NaN         NaN\n",
       "8       NaN       NaN      3   639   0.451375    1.592776\n",
       "9    0.4349  1.634647      4   799        NaN         NaN\n",
       "10      NaN       NaN      4   799   0.460325    1.562307\n",
       "11   0.4356  1.626961      5   959        NaN         NaN\n",
       "12      NaN       NaN      5   959   0.471475    1.534500\n",
       "13   0.4397  1.624212      6  1119        NaN         NaN\n",
       "14      NaN       NaN      6  1119   0.480075    1.513724\n",
       "15   0.4356  1.627409      7  1279        NaN         NaN\n",
       "16      NaN       NaN      7  1279   0.487025    1.489944\n",
       "17   0.4352  1.631785      8  1439        NaN         NaN\n",
       "18      NaN       NaN      8  1439   0.493425    1.472945\n",
       "19   0.4427  1.618437      9  1599        NaN         NaN\n",
       "20      NaN       NaN      9  1599   0.500450    1.453015\n",
       "21   0.4427  1.618437     10  1600        NaN         NaN"
      ]
     },
     "execution_count": 38,
     "metadata": {},
     "output_type": "execute_result"
    }
   ],
   "source": [
    "results = pd.read_csv(logger.log_dir+\"/metrics.csv\")\n",
    "results"
   ]
  },
  {
   "cell_type": "code",
   "execution_count": 39,
   "id": "87c96bb4-2209-42c2-b7da-c68da1e941d0",
   "metadata": {},
   "outputs": [
    {
     "data": {
      "image/png": "[encoded data removed]",
      "text/plain": [
       "<Figure size 640x480 with 1 Axes>"
      ]
     },
     "metadata": {},
     "output_type": "display_data"
    }
   ],
   "source": [
    "plt.plot(results[\"epoch\"][np.logical_not(np.isnan(results[\"train_loss\"]))],\n",
    "         results[\"train_loss\"][np.logical_not(np.isnan(results[\"train_loss\"]))],\n",
    "         label=\"Training\")\n",
    "\n",
    "plt.plot(results[\"epoch\"][np.logical_not(np.isnan(results[\"val_loss\"]))],\n",
    "         results[\"val_loss\"][np.logical_not(np.isnan(results[\"val_loss\"]))],\n",
    "         label=\"Validation\")\n",
    "\n",
    "plt.legend()\n",
    "plt.ylabel(\"CCE Loss\")\n",
    "plt.xlabel(\"Epoch\")\n",
    "plt.show()"
   ]
  },
  {
   "cell_type": "code",
   "execution_count": 40,
   "id": "d17bb16a-b402-4dcb-be38-6510b12b0470",
   "metadata": {},
   "outputs": [
    {
     "name": "stdout",
     "output_type": "stream",
     "text": [
      "Validation accuracy: 0.10090000 0.39150000 0.41540000 0.42060000 0.43149999 0.43489999 0.43560001 0.43970001 0.43560001 0.43520001 0.44270000 0.44270000\n"
     ]
    }
   ],
   "source": [
    "print(\"Validation accuracy:\",*[\"%.8f\"%(x) for x in results['val_acc'][np.logical_not(np.isnan(results[\"val_acc\"]))]])"
   ]
  },
  {
   "cell_type": "code",
   "execution_count": 41,
   "id": "47c782c8-42e6-4868-ae26-98bba8e4e761",
   "metadata": {},
   "outputs": [
    {
     "data": {
      "application/vnd.jupyter.widget-view+json": {
       "model_id": "4b71a02c18f345879eb5de5d55ea25f0",
       "version_major": 2,
       "version_minor": 0
      },
      "text/plain": [
       "Testing: 0it [00:00, ?it/s]"
      ]
     },
     "metadata": {},
     "output_type": "display_data"
    },
    {
     "data": {
      "text/html": [
       "<pre style=\"white-space:pre;overflow-x:auto;line-height:normal;font-family:Menlo,'DejaVu Sans Mono',consolas,'Courier New',monospace\">┏━━━━━━━━━━━━━━━━━━━━━━━━━━━┳━━━━━━━━━━━━━━━━━━━━━━━━━━━┓\n",
       "┃<span style=\"font-weight: bold\">   Runningstage.testing    </span>┃<span style=\"font-weight: bold\">                           </span>┃\n",
       "┃<span style=\"font-weight: bold\">          metric           </span>┃<span style=\"font-weight: bold\">       DataLoader 0        </span>┃\n",
       "┡━━━━━━━━━━━━━━━━━━━━━━━━━━━╇━━━━━━━━━━━━━━━━━━━━━━━━━━━┩\n",
       "│<span style=\"color: #008080; text-decoration-color: #008080\">         test_acc          </span>│<span style=\"color: #800080; text-decoration-color: #800080\">    0.4392000138759613     </span>│\n",
       "│<span style=\"color: #008080; text-decoration-color: #008080\">         test_loss         </span>│<span style=\"color: #800080; text-decoration-color: #800080\">    1.6192259788513184     </span>│\n",
       "└───────────────────────────┴───────────────────────────┘\n",
       "</pre>\n"
      ],
      "text/plain": [
       "┏━━━━━━━━━━━━━━━━━━━━━━━━━━━┳━━━━━━━━━━━━━━━━━━━━━━━━━━━┓\n",
       "┃\u001b[1m \u001b[0m\u001b[1m  Runningstage.testing   \u001b[0m\u001b[1m \u001b[0m┃\u001b[1m                           \u001b[0m┃\n",
       "┃\u001b[1m \u001b[0m\u001b[1m         metric          \u001b[0m\u001b[1m \u001b[0m┃\u001b[1m \u001b[0m\u001b[1m      DataLoader 0       \u001b[0m\u001b[1m \u001b[0m┃\n",
       "┡━━━━━━━━━━━━━━━━━━━━━━━━━━━╇━━━━━━━━━━━━━━━━━━━━━━━━━━━┩\n",
       "│\u001b[36m \u001b[0m\u001b[36m        test_acc         \u001b[0m\u001b[36m \u001b[0m│\u001b[35m \u001b[0m\u001b[35m   0.4392000138759613    \u001b[0m\u001b[35m \u001b[0m│\n",
       "│\u001b[36m \u001b[0m\u001b[36m        test_loss        \u001b[0m\u001b[36m \u001b[0m│\u001b[35m \u001b[0m\u001b[35m   1.6192259788513184    \u001b[0m\u001b[35m \u001b[0m│\n",
       "└───────────────────────────┴───────────────────────────┘\n"
      ]
     },
     "metadata": {},
     "output_type": "display_data"
    },
    {
     "name": "stdout",
     "output_type": "stream",
     "text": [
      "Testing accuracy: 0.4392000138759613\n"
     ]
    }
   ],
   "source": [
    "print(\"Testing accuracy:\", trainer.test(model, xy_test)[0]['test_acc'])"
   ]
  },
  {
   "cell_type": "code",
   "execution_count": null,
   "id": "03a53c6c-f711-4b5e-9d51-1546074d4a02",
   "metadata": {},
   "outputs": [],
   "source": []
  }
 ],
 "metadata": {
  "kernelspec": {
   "display_name": "Python 3 (ipykernel)",
   "language": "python",
   "name": "python3"
  },
  "language_info": {
   "codemirror_mode": {
    "name": "ipython",
    "version": 3
   },
   "file_extension": ".py",
   "mimetype": "text/x-python",
   "name": "python",
   "nbconvert_exporter": "python",
   "pygments_lexer": "ipython3",
   "version": "3.11.4"
  }
 },
 "nbformat": 4,
 "nbformat_minor": 5
}
