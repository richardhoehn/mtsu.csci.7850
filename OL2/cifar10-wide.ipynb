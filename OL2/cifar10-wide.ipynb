{
 "cells": [
  {
   "cell_type": "code",
   "execution_count": 1,
   "id": "4162f5e6-0d40-4243-8896-a95687b4e9f9",
   "metadata": {},
   "outputs": [
    {
     "name": "stdout",
     "output_type": "stream",
     "text": [
      "Use GPU: True\n"
     ]
    }
   ],
   "source": [
    "import numpy as np\n",
    "import torch\n",
    "import torchvision\n",
    "import torchmetrics\n",
    "import lightning.pytorch as pl \n",
    "from torchinfo import summary \n",
    "from torchview import draw_graph \n",
    "import matplotlib.pyplot as plt \n",
    "import pandas as pd\n",
    "\n",
    "if (torch.cuda.is_available()): \n",
    "    device = (\"cuda\")\n",
    "else:\n",
    "    device = (\"cpu\")\n",
    "print(f\"Use GPU: {torch.cuda.is_available()}\")"
   ]
  },
  {
   "cell_type": "code",
   "execution_count": 2,
   "id": "7a034de5-a8e1-463d-abbd-435801ca8113",
   "metadata": {},
   "outputs": [],
   "source": [
    "# Config Section\n",
    "\n",
    "cfg_data_folder = \"datasets/cifar10\"\n",
    "# cfg_log_folder = \"logs\"\n",
    "# cfg_log_version = \"cifar10\"\n",
    "\n",
    "cfg_max_epochs = 50\n",
    "cfg_hidden_dims = 42\n",
    "\n",
    "cfg_cifar10_labels = {\n",
    "  0: \"Airplane\",\n",
    "  1: \"Automobile\",\n",
    "  2: \"Bird\",\n",
    "  3: \"Cat\",\n",
    "  4: \"Deer\",\n",
    "  5: \"Dog\",\n",
    "  6: \"Frog\",\n",
    "  7: \"Horse\",\n",
    "  8: \"Ship\",\n",
    "  9: \"Truck\",\n",
    "}\n",
    "\n",
    "cfg_num_workers = 2\n"
   ]
  },
  {
   "cell_type": "code",
   "execution_count": 3,
   "id": "395da7fa-425a-4a59-bdfa-baae373924ce",
   "metadata": {},
   "outputs": [
    {
     "name": "stdout",
     "output_type": "stream",
     "text": [
      "Files already downloaded and verified\n",
      "Files already downloaded and verified\n",
      "torch.Size([40000, 32, 32, 3])\n",
      "torch.Size([10000, 32, 32, 3])\n",
      "torch.Size([10000, 32, 32, 3])\n"
     ]
    }
   ],
   "source": [
    "# Load the data set and scale to [-1,+1]\n",
    "training_dataset = torchvision.datasets.CIFAR10(root=cfg_data_folder, download=True, train=True)\n",
    "testing_dataset = torchvision.datasets.CIFAR10(root=cfg_data_folder,  download=True, train=False) \n",
    "\n",
    "x_train = (torch.Tensor(training_dataset.data) / 127.5) - 1.0\n",
    "y_train = torch.Tensor(training_dataset.targets).to(torch.long)\n",
    "x_test = (torch.Tensor(testing_dataset.data) / 127.5) - 1.0 \n",
    "y_test = torch.Tensor(testing_dataset.targets).to(torch.long)\n",
    "\n",
    "# You can set a seed value here if you\n",
    "# want to control the shuffling process...\n",
    "rng = np.random.default_rng()\n",
    "permutation = rng.permutation(x_train.shape[0]) \n",
    "split_point = int(x_train.shape[0] * 0.8) # 80%/20% split\n",
    "\n",
    "# Split into validation/training - keep test # set aside for later...\n",
    "x_val = x_train[permutation][split_point:]\n",
    "y_val = y_train[permutation][split_point:]\n",
    "x_train = x_train[permutation][:split_point]\n",
    "y_train = y_train[permutation][:split_point]\n",
    "\n",
    "print(x_train.shape)\n",
    "print(x_val.shape)\n",
    "print(x_test.shape)"
   ]
  },
  {
   "cell_type": "code",
   "execution_count": 4,
   "id": "b6c10722-d6dd-4e5c-b149-c63b4265b53e",
   "metadata": {},
   "outputs": [
    {
     "data": {
      "text/plain": [
       "torch.Size([40000, 32, 32, 3])"
      ]
     },
     "execution_count": 4,
     "metadata": {},
     "output_type": "execute_result"
    }
   ],
   "source": [
    "x_train.shape"
   ]
  },
  {
   "cell_type": "code",
   "execution_count": 5,
   "id": "e568a3c0-2847-4d93-9ba6-175254bab782",
   "metadata": {},
   "outputs": [
    {
     "data": {
      "image/png": "[encoded data removed]",
      "text/plain": [
       "<Figure size 640x480 with 1 Axes>"
      ]
     },
     "metadata": {},
     "output_type": "display_data"
    },
    {
     "name": "stdout",
     "output_type": "stream",
     "text": [
      "Label: Automobile (idx: 1)\n"
     ]
    }
   ],
   "source": [
    "plt.imshow((x_train[0].detach().numpy() + 1.0)/2.0)\n",
    "plt.show()\n",
    "print(f\"Label: {cfg_cifar10_labels.get(int(y_train[0]))} (idx: {y_train[0]})\")"
   ]
  },
  {
   "cell_type": "code",
   "execution_count": 6,
   "id": "454976b3-5a60-4d90-ad24-c04bf5db38aa",
   "metadata": {},
   "outputs": [],
   "source": [
    "# Define model\n",
    "class WideNetwork(torch.nn.Module):\n",
    "    def __init__(self, input_size, output_size, hidden_size, **kwargs):\n",
    "        super().__init__(**kwargs)\n",
    "        self.flatten_layer = torch.nn.Flatten()\n",
    "        self.hidden_layer = torch.nn.Linear(input_size.numel(),\n",
    "                                            hidden_size)\n",
    "        self.layer_norm = torch.nn.LayerNorm(hidden_size)\n",
    "        self.batch_norm = torch.nn.BatchNorm1d(hidden_size)\n",
    "        self.hidden_activation = torch.nn.ReLU()\n",
    "        self.dropout = torch.nn.Dropout(0.5)\n",
    "        self.output_layer = torch.nn.Linear(hidden_size,\n",
    "                                            output_size)\n",
    "    \n",
    "    def forward(self, x):\n",
    "        y = x\n",
    "        y = self.flatten_layer(y)\n",
    "        y = self.hidden_activation(self.hidden_layer(y))\n",
    "        y = self.batch_norm(y) # Applying Batch Norm\n",
    "        y = self.dropout(y)\n",
    "        y = self.output_layer(y)\n",
    "        return y\n",
    "        \n",
    "    def predict(self, x):\n",
    "        y = x\n",
    "        y = self.forward(y)\n",
    "        y = torch.softmax(y, -1)\n",
    "        return y"
   ]
  },
  {
   "cell_type": "code",
   "execution_count": 7,
   "id": "a7efde5e-66d0-433c-a3a3-4bd3ae0bd621",
   "metadata": {},
   "outputs": [],
   "source": [
    "# Define Trainable Module\n",
    "class PLModel(pl.LightningModule):\n",
    "    def __init__(self, module, **kwargs):\n",
    "        # This is the contructor, where we typically make\n",
    "        # layer objects using provided arguments. \n",
    "        super().__init__(**kwargs) # Call the super class constructor \n",
    "        self.module = module\n",
    "        \n",
    "        # This creates an accuracy function\n",
    "        self.model_acc = torchmetrics.classification.Accuracy(task='multiclass', \n",
    "                                                              num_classes=module.output_layer.out_features)\n",
    "        # This creates a loss function\n",
    "        self.model_loss = torch.nn.CrossEntropyLoss()\n",
    "    \n",
    "    def forward(self, x):\n",
    "        return self.module.forward(x) \n",
    "        \n",
    "    def predict(self, x):\n",
    "        return self.module.predict(x)\n",
    "\n",
    "    def configure_optimizers(self):\n",
    "        optimizer = torch.optim.Adam(self.parameters(), lr=0.001)\n",
    "        return optimizer\n",
    "\n",
    "    def training_step(self, train_batch, batch_idx): \n",
    "        x, y_true = train_batch\n",
    "        y_pred = self(x)\n",
    "        acc = self.model_acc(y_pred, y_true)\n",
    "        loss = self.model_loss(y_pred, y_true) \n",
    "        self.log('train_acc',  acc,  on_step=False, on_epoch=True)\n",
    "        self.log('train_loss', loss, on_step=False, on_epoch=True) \n",
    "        return loss\n",
    "\n",
    "\n",
    "    def validation_step(self, val_batch, batch_idx): \n",
    "        x, y_true = val_batch\n",
    "        y_pred = self(x)\n",
    "        acc = self.model_acc(y_pred, y_true)\n",
    "        loss = self.model_loss(y_pred, y_true)\n",
    "        self.log('val_acc',  acc,  on_step=False, on_epoch=True)\n",
    "        self.log('val_loss', loss, on_step=False, on_epoch=True)\n",
    "        return loss\n",
    "        \n",
    "    def test_step(self, test_batch, batch_idx):\n",
    "        x, y_true = test_batch\n",
    "        y_pred = self(x)\n",
    "        acc = self.model_acc(y_pred,y_true)\n",
    "        loss = self.model_loss(y_pred,y_true)\n",
    "        self.log('test_acc',  acc,  on_step=False, on_epoch=True)\n",
    "        self.log('test_loss', loss, on_step=False, on_epoch=True)\n",
    "        return loss\n"
   ]
  },
  {
   "cell_type": "code",
   "execution_count": 8,
   "id": "14c05730-0b9a-42d5-a2a7-09ffa0b41624",
   "metadata": {},
   "outputs": [
    {
     "name": "stdout",
     "output_type": "stream",
     "text": [
      "Hidden Dims: 42\n"
     ]
    },
    {
     "data": {
      "text/plain": [
       "==========================================================================================\n",
       "Layer (type:depth-idx)                   Output Shape              Param #\n",
       "==========================================================================================\n",
       "PLModel                                  [1, 10]                   --\n",
       "├─WideNetwork: 1-1                       --                        84\n",
       "│    └─Flatten: 2-1                      [1, 3072]                 --\n",
       "│    └─Linear: 2-2                       [1, 42]                   129,066\n",
       "│    └─ReLU: 2-3                         [1, 42]                   --\n",
       "│    └─BatchNorm1d: 2-4                  [1, 42]                   84\n",
       "│    └─Dropout: 2-5                      [1, 42]                   --\n",
       "│    └─Linear: 2-6                       [1, 10]                   430\n",
       "==========================================================================================\n",
       "Total params: 129,664\n",
       "Trainable params: 129,664\n",
       "Non-trainable params: 0\n",
       "Total mult-adds (Units.MEGABYTES): 0.13\n",
       "==========================================================================================\n",
       "Input size (MB): 0.01\n",
       "Forward/backward pass size (MB): 0.00\n",
       "Params size (MB): 0.52\n",
       "Estimated Total Size (MB): 0.53\n",
       "=========================================================================================="
      ]
     },
     "execution_count": 8,
     "metadata": {},
     "output_type": "execute_result"
    }
   ],
   "source": [
    "print(f\"Hidden Dims: {cfg_hidden_dim}\")\n",
    "\n",
    "model = PLModel(WideNetwork(x_train.shape[1:],\n",
    "                            len(y_train.unique()),\n",
    "                            cfg_hidden_dims))\n",
    "\n",
    "summary(model, input_size=(1,)+x_train.shape[1:])"
   ]
  },
  {
   "cell_type": "code",
   "execution_count": 9,
   "id": "c0663c3c-8c0e-4a9a-b6df-88fe3a680911",
   "metadata": {},
   "outputs": [
    {
     "data": {
      "image/svg+xml": [
       "<?xml version=\"1.0\" encoding=\"UTF-8\" standalone=\"no\"?>\n",
       "<!DOCTYPE svg PUBLIC \"-//W3C//DTD SVG 1.1//EN\"\n",
       " \"http://www.w3.org/Graphics/SVG/1.1/DTD/svg11.dtd\">\n",
       "<!-- Generated by graphviz version 8.1.0 (20230707.2238)\n",
       " -->\n",
       "<!-- Title: model Pages: 1 -->\n",
       "<svg width=\"175pt\" height=\"595pt\"\n",
       " viewBox=\"0.00 0.00 175.00 595.00\" xmlns=\"http://www.w3.org/2000/svg\" xmlns:xlink=\"http://www.w3.org/1999/xlink\">\n",
       "<g id=\"graph0\" class=\"graph\" transform=\"scale(1 1) rotate(0) translate(4 591)\">\n",
       "<title>model</title>\n",
       "<polygon fill=\"white\" stroke=\"none\" points=\"-4,4 -4,-591 171,-591 171,4 -4,4\"/>\n",
       "<!-- 0 -->\n",
       "<g id=\"node1\" class=\"node\">\n",
       "<title>0</title>\n",
       "<polygon fill=\"lightyellow\" stroke=\"none\" points=\"153.88,-587 13.12,-587 13.12,-551.5 153.88,-551.5 153.88,-587\"/>\n",
       "<polygon fill=\"none\" stroke=\"black\" points=\"13.12,-551.5 13.12,-587 82.38,-587 82.38,-551.5 13.12,-551.5\"/>\n",
       "<text text-anchor=\"start\" x=\"18.12\" y=\"-572.5\" font-family=\"Linux libertine\" font-size=\"10.00\">input&#45;tensor</text>\n",
       "<text text-anchor=\"start\" x=\"29.38\" y=\"-559.75\" font-family=\"Linux libertine\" font-size=\"10.00\">depth:0</text>\n",
       "<polygon fill=\"none\" stroke=\"black\" points=\"82.38,-551.5 82.38,-587 153.88,-587 153.88,-551.5 82.38,-551.5\"/>\n",
       "<text text-anchor=\"start\" x=\"87.38\" y=\"-566.12\" font-family=\"Linux libertine\" font-size=\"10.00\">(1, 32, 32, 3)</text>\n",
       "</g>\n",
       "<!-- 1 -->\n",
       "<g id=\"node2\" class=\"node\">\n",
       "<title>1</title>\n",
       "<polygon fill=\"#c1ffc1\" stroke=\"none\" points=\"167,-515.5 0,-515.5 0,-471.5 167,-471.5 167,-515.5\"/>\n",
       "<polygon fill=\"none\" stroke=\"black\" points=\"0,-471.5 0,-515.5 46,-515.5 46,-471.5 0,-471.5\"/>\n",
       "<text text-anchor=\"start\" x=\"5.75\" y=\"-496.75\" font-family=\"Linux libertine\" font-size=\"10.00\">Flatten</text>\n",
       "<text text-anchor=\"start\" x=\"4.62\" y=\"-484\" font-family=\"Linux libertine\" font-size=\"10.00\">depth:1</text>\n",
       "<polygon fill=\"none\" stroke=\"black\" points=\"46,-493.5 46,-515.5 93,-515.5 93,-493.5 46,-493.5\"/>\n",
       "<text text-anchor=\"start\" x=\"55.62\" y=\"-501\" font-family=\"Linux libertine\" font-size=\"10.00\">input:</text>\n",
       "<polygon fill=\"none\" stroke=\"black\" points=\"93,-493.5 93,-515.5 167,-515.5 167,-493.5 93,-493.5\"/>\n",
       "<text text-anchor=\"start\" x=\"97.75\" y=\"-501\" font-family=\"Linux libertine\" font-size=\"10.00\">(1, 32, 32, 3) </text>\n",
       "<polygon fill=\"none\" stroke=\"black\" points=\"46,-471.5 46,-493.5 93,-493.5 93,-471.5 46,-471.5\"/>\n",
       "<text text-anchor=\"start\" x=\"50.75\" y=\"-479\" font-family=\"Linux libertine\" font-size=\"10.00\">output: </text>\n",
       "<polygon fill=\"none\" stroke=\"black\" points=\"93,-471.5 93,-493.5 167,-493.5 167,-471.5 93,-471.5\"/>\n",
       "<text text-anchor=\"start\" x=\"106.75\" y=\"-479\" font-family=\"Linux libertine\" font-size=\"10.00\">(1, 3072) </text>\n",
       "</g>\n",
       "<!-- 0&#45;&gt;1 -->\n",
       "<g id=\"edge1\" class=\"edge\">\n",
       "<title>0&#45;&gt;1</title>\n",
       "<path fill=\"none\" stroke=\"black\" d=\"M83.5,-551.51C83.5,-544.07 83.5,-535.04 83.5,-526.39\"/>\n",
       "<polygon fill=\"black\" stroke=\"black\" points=\"87,-526.39 83.5,-516.39 80,-526.39 87,-526.39\"/>\n",
       "</g>\n",
       "<!-- 2 -->\n",
       "<g id=\"node3\" class=\"node\">\n",
       "<title>2</title>\n",
       "<polygon fill=\"#c1ffc1\" stroke=\"none\" points=\"158,-435.5 9,-435.5 9,-391.5 158,-391.5 158,-435.5\"/>\n",
       "<polygon fill=\"none\" stroke=\"black\" points=\"9,-391.5 9,-435.5 55,-435.5 55,-391.5 9,-391.5\"/>\n",
       "<text text-anchor=\"start\" x=\"17\" y=\"-416.75\" font-family=\"Linux libertine\" font-size=\"10.00\">Linear</text>\n",
       "<text text-anchor=\"start\" x=\"13.62\" y=\"-404\" font-family=\"Linux libertine\" font-size=\"10.00\">depth:1</text>\n",
       "<polygon fill=\"none\" stroke=\"black\" points=\"55,-413.5 55,-435.5 102,-435.5 102,-413.5 55,-413.5\"/>\n",
       "<text text-anchor=\"start\" x=\"64.62\" y=\"-421\" font-family=\"Linux libertine\" font-size=\"10.00\">input:</text>\n",
       "<polygon fill=\"none\" stroke=\"black\" points=\"102,-413.5 102,-435.5 158,-435.5 158,-413.5 102,-413.5\"/>\n",
       "<text text-anchor=\"start\" x=\"106.75\" y=\"-421\" font-family=\"Linux libertine\" font-size=\"10.00\">(1, 3072) </text>\n",
       "<polygon fill=\"none\" stroke=\"black\" points=\"55,-391.5 55,-413.5 102,-413.5 102,-391.5 55,-391.5\"/>\n",
       "<text text-anchor=\"start\" x=\"59.75\" y=\"-399\" font-family=\"Linux libertine\" font-size=\"10.00\">output: </text>\n",
       "<polygon fill=\"none\" stroke=\"black\" points=\"102,-391.5 102,-413.5 158,-413.5 158,-391.5 102,-391.5\"/>\n",
       "<text text-anchor=\"start\" x=\"112.75\" y=\"-399\" font-family=\"Linux libertine\" font-size=\"10.00\">(1, 42) </text>\n",
       "</g>\n",
       "<!-- 1&#45;&gt;2 -->\n",
       "<g id=\"edge2\" class=\"edge\">\n",
       "<title>1&#45;&gt;2</title>\n",
       "<path fill=\"none\" stroke=\"black\" d=\"M83.5,-471.6C83.5,-463.82 83.5,-454.8 83.5,-446.26\"/>\n",
       "<polygon fill=\"black\" stroke=\"black\" points=\"87,-446.46 83.5,-436.46 80,-446.46 87,-446.46\"/>\n",
       "</g>\n",
       "<!-- 3 -->\n",
       "<g id=\"node4\" class=\"node\">\n",
       "<title>3</title>\n",
       "<polygon fill=\"#c1ffc1\" stroke=\"none\" points=\"152,-355.5 15,-355.5 15,-311.5 152,-311.5 152,-355.5\"/>\n",
       "<polygon fill=\"none\" stroke=\"black\" points=\"15,-311.5 15,-355.5 61,-355.5 61,-311.5 15,-311.5\"/>\n",
       "<text text-anchor=\"start\" x=\"25.25\" y=\"-336.75\" font-family=\"Linux libertine\" font-size=\"10.00\">ReLU</text>\n",
       "<text text-anchor=\"start\" x=\"19.62\" y=\"-324\" font-family=\"Linux libertine\" font-size=\"10.00\">depth:1</text>\n",
       "<polygon fill=\"none\" stroke=\"black\" points=\"61,-333.5 61,-355.5 108,-355.5 108,-333.5 61,-333.5\"/>\n",
       "<text text-anchor=\"start\" x=\"70.62\" y=\"-341\" font-family=\"Linux libertine\" font-size=\"10.00\">input:</text>\n",
       "<polygon fill=\"none\" stroke=\"black\" points=\"108,-333.5 108,-355.5 152,-355.5 152,-333.5 108,-333.5\"/>\n",
       "<text text-anchor=\"start\" x=\"112.75\" y=\"-341\" font-family=\"Linux libertine\" font-size=\"10.00\">(1, 42) </text>\n",
       "<polygon fill=\"none\" stroke=\"black\" points=\"61,-311.5 61,-333.5 108,-333.5 108,-311.5 61,-311.5\"/>\n",
       "<text text-anchor=\"start\" x=\"65.75\" y=\"-319\" font-family=\"Linux libertine\" font-size=\"10.00\">output: </text>\n",
       "<polygon fill=\"none\" stroke=\"black\" points=\"108,-311.5 108,-333.5 152,-333.5 152,-311.5 108,-311.5\"/>\n",
       "<text text-anchor=\"start\" x=\"112.75\" y=\"-319\" font-family=\"Linux libertine\" font-size=\"10.00\">(1, 42) </text>\n",
       "</g>\n",
       "<!-- 2&#45;&gt;3 -->\n",
       "<g id=\"edge3\" class=\"edge\">\n",
       "<title>2&#45;&gt;3</title>\n",
       "<path fill=\"none\" stroke=\"black\" d=\"M83.5,-391.6C83.5,-383.82 83.5,-374.8 83.5,-366.26\"/>\n",
       "<polygon fill=\"black\" stroke=\"black\" points=\"87,-366.46 83.5,-356.46 80,-366.46 87,-366.46\"/>\n",
       "</g>\n",
       "<!-- 4 -->\n",
       "<g id=\"node5\" class=\"node\">\n",
       "<title>4</title>\n",
       "<polygon fill=\"#c1ffc1\" stroke=\"none\" points=\"167,-275.5 0,-275.5 0,-231.5 167,-231.5 167,-275.5\"/>\n",
       "<polygon fill=\"none\" stroke=\"black\" points=\"0,-231.5 0,-275.5 76,-275.5 76,-231.5 0,-231.5\"/>\n",
       "<text text-anchor=\"start\" x=\"4.62\" y=\"-256.75\" font-family=\"Linux libertine\" font-size=\"10.00\">BatchNorm1d</text>\n",
       "<text text-anchor=\"start\" x=\"19.62\" y=\"-244\" font-family=\"Linux libertine\" font-size=\"10.00\">depth:1</text>\n",
       "<polygon fill=\"none\" stroke=\"black\" points=\"76,-253.5 76,-275.5 123,-275.5 123,-253.5 76,-253.5\"/>\n",
       "<text text-anchor=\"start\" x=\"85.62\" y=\"-261\" font-family=\"Linux libertine\" font-size=\"10.00\">input:</text>\n",
       "<polygon fill=\"none\" stroke=\"black\" points=\"123,-253.5 123,-275.5 167,-275.5 167,-253.5 123,-253.5\"/>\n",
       "<text text-anchor=\"start\" x=\"127.75\" y=\"-261\" font-family=\"Linux libertine\" font-size=\"10.00\">(1, 42) </text>\n",
       "<polygon fill=\"none\" stroke=\"black\" points=\"76,-231.5 76,-253.5 123,-253.5 123,-231.5 76,-231.5\"/>\n",
       "<text text-anchor=\"start\" x=\"80.75\" y=\"-239\" font-family=\"Linux libertine\" font-size=\"10.00\">output: </text>\n",
       "<polygon fill=\"none\" stroke=\"black\" points=\"123,-231.5 123,-253.5 167,-253.5 167,-231.5 123,-231.5\"/>\n",
       "<text text-anchor=\"start\" x=\"127.75\" y=\"-239\" font-family=\"Linux libertine\" font-size=\"10.00\">(1, 42) </text>\n",
       "</g>\n",
       "<!-- 3&#45;&gt;4 -->\n",
       "<g id=\"edge4\" class=\"edge\">\n",
       "<title>3&#45;&gt;4</title>\n",
       "<path fill=\"none\" stroke=\"black\" d=\"M83.5,-311.6C83.5,-303.82 83.5,-294.8 83.5,-286.26\"/>\n",
       "<polygon fill=\"black\" stroke=\"black\" points=\"87,-286.46 83.5,-276.46 80,-286.46 87,-286.46\"/>\n",
       "</g>\n",
       "<!-- 5 -->\n",
       "<g id=\"node6\" class=\"node\">\n",
       "<title>5</title>\n",
       "<polygon fill=\"#c1ffc1\" stroke=\"none\" points=\"153.5,-195.5 13.5,-195.5 13.5,-151.5 153.5,-151.5 153.5,-195.5\"/>\n",
       "<polygon fill=\"none\" stroke=\"black\" points=\"13.5,-151.5 13.5,-195.5 62.5,-195.5 62.5,-151.5 13.5,-151.5\"/>\n",
       "<text text-anchor=\"start\" x=\"18.5\" y=\"-176.75\" font-family=\"Linux libertine\" font-size=\"10.00\">Dropout</text>\n",
       "<text text-anchor=\"start\" x=\"19.62\" y=\"-164\" font-family=\"Linux libertine\" font-size=\"10.00\">depth:1</text>\n",
       "<polygon fill=\"none\" stroke=\"black\" points=\"62.5,-173.5 62.5,-195.5 109.5,-195.5 109.5,-173.5 62.5,-173.5\"/>\n",
       "<text text-anchor=\"start\" x=\"72.12\" y=\"-181\" font-family=\"Linux libertine\" font-size=\"10.00\">input:</text>\n",
       "<polygon fill=\"none\" stroke=\"black\" points=\"109.5,-173.5 109.5,-195.5 153.5,-195.5 153.5,-173.5 109.5,-173.5\"/>\n",
       "<text text-anchor=\"start\" x=\"114.25\" y=\"-181\" font-family=\"Linux libertine\" font-size=\"10.00\">(1, 42) </text>\n",
       "<polygon fill=\"none\" stroke=\"black\" points=\"62.5,-151.5 62.5,-173.5 109.5,-173.5 109.5,-151.5 62.5,-151.5\"/>\n",
       "<text text-anchor=\"start\" x=\"67.25\" y=\"-159\" font-family=\"Linux libertine\" font-size=\"10.00\">output: </text>\n",
       "<polygon fill=\"none\" stroke=\"black\" points=\"109.5,-151.5 109.5,-173.5 153.5,-173.5 153.5,-151.5 109.5,-151.5\"/>\n",
       "<text text-anchor=\"start\" x=\"114.25\" y=\"-159\" font-family=\"Linux libertine\" font-size=\"10.00\">(1, 42) </text>\n",
       "</g>\n",
       "<!-- 4&#45;&gt;5 -->\n",
       "<g id=\"edge5\" class=\"edge\">\n",
       "<title>4&#45;&gt;5</title>\n",
       "<path fill=\"none\" stroke=\"black\" d=\"M83.5,-231.6C83.5,-223.82 83.5,-214.8 83.5,-206.26\"/>\n",
       "<polygon fill=\"black\" stroke=\"black\" points=\"87,-206.46 83.5,-196.46 80,-206.46 87,-206.46\"/>\n",
       "</g>\n",
       "<!-- 6 -->\n",
       "<g id=\"node7\" class=\"node\">\n",
       "<title>6</title>\n",
       "<polygon fill=\"#c1ffc1\" stroke=\"none\" points=\"152,-115.5 15,-115.5 15,-71.5 152,-71.5 152,-115.5\"/>\n",
       "<polygon fill=\"none\" stroke=\"black\" points=\"15,-71.5 15,-115.5 61,-115.5 61,-71.5 15,-71.5\"/>\n",
       "<text text-anchor=\"start\" x=\"23\" y=\"-96.75\" font-family=\"Linux libertine\" font-size=\"10.00\">Linear</text>\n",
       "<text text-anchor=\"start\" x=\"19.62\" y=\"-84\" font-family=\"Linux libertine\" font-size=\"10.00\">depth:1</text>\n",
       "<polygon fill=\"none\" stroke=\"black\" points=\"61,-93.5 61,-115.5 108,-115.5 108,-93.5 61,-93.5\"/>\n",
       "<text text-anchor=\"start\" x=\"70.62\" y=\"-101\" font-family=\"Linux libertine\" font-size=\"10.00\">input:</text>\n",
       "<polygon fill=\"none\" stroke=\"black\" points=\"108,-93.5 108,-115.5 152,-115.5 152,-93.5 108,-93.5\"/>\n",
       "<text text-anchor=\"start\" x=\"112.75\" y=\"-101\" font-family=\"Linux libertine\" font-size=\"10.00\">(1, 42) </text>\n",
       "<polygon fill=\"none\" stroke=\"black\" points=\"61,-71.5 61,-93.5 108,-93.5 108,-71.5 61,-71.5\"/>\n",
       "<text text-anchor=\"start\" x=\"65.75\" y=\"-79\" font-family=\"Linux libertine\" font-size=\"10.00\">output: </text>\n",
       "<polygon fill=\"none\" stroke=\"black\" points=\"108,-71.5 108,-93.5 152,-93.5 152,-71.5 108,-71.5\"/>\n",
       "<text text-anchor=\"start\" x=\"112.75\" y=\"-79\" font-family=\"Linux libertine\" font-size=\"10.00\">(1, 10) </text>\n",
       "</g>\n",
       "<!-- 5&#45;&gt;6 -->\n",
       "<g id=\"edge6\" class=\"edge\">\n",
       "<title>5&#45;&gt;6</title>\n",
       "<path fill=\"none\" stroke=\"black\" d=\"M83.5,-151.6C83.5,-143.82 83.5,-134.8 83.5,-126.26\"/>\n",
       "<polygon fill=\"black\" stroke=\"black\" points=\"87,-126.46 83.5,-116.46 80,-126.46 87,-126.46\"/>\n",
       "</g>\n",
       "<!-- 7 -->\n",
       "<g id=\"node8\" class=\"node\">\n",
       "<title>7</title>\n",
       "<polygon fill=\"lightyellow\" stroke=\"none\" points=\"142.25,-35.5 24.75,-35.5 24.75,0 142.25,0 142.25,-35.5\"/>\n",
       "<polygon fill=\"none\" stroke=\"black\" points=\"24.75,0 24.75,-35.5 100.75,-35.5 100.75,0 24.75,0\"/>\n",
       "<text text-anchor=\"start\" x=\"29.75\" y=\"-21\" font-family=\"Linux libertine\" font-size=\"10.00\">output&#45;tensor</text>\n",
       "<text text-anchor=\"start\" x=\"44.38\" y=\"-8.25\" font-family=\"Linux libertine\" font-size=\"10.00\">depth:0</text>\n",
       "<polygon fill=\"none\" stroke=\"black\" points=\"100.75,0 100.75,-35.5 142.25,-35.5 142.25,0 100.75,0\"/>\n",
       "<text text-anchor=\"start\" x=\"105.75\" y=\"-14.62\" font-family=\"Linux libertine\" font-size=\"10.00\">(1, 10)</text>\n",
       "</g>\n",
       "<!-- 6&#45;&gt;7 -->\n",
       "<g id=\"edge7\" class=\"edge\">\n",
       "<title>6&#45;&gt;7</title>\n",
       "<path fill=\"none\" stroke=\"black\" d=\"M83.5,-71.56C83.5,-63.6 83.5,-54.41 83.5,-45.95\"/>\n",
       "<polygon fill=\"black\" stroke=\"black\" points=\"87,-46.05 83.5,-36.05 80,-46.05 87,-46.05\"/>\n",
       "</g>\n",
       "</g>\n",
       "</svg>\n"
      ],
      "text/plain": [
       "<graphviz.graphs.Digraph at 0x7f40054f7d10>"
      ]
     },
     "execution_count": 9,
     "metadata": {},
     "output_type": "execute_result"
    }
   ],
   "source": [
    "# Depth Setting\n",
    "model_graph = draw_graph(model, input_size=(1,)+x_train.shape[1:], device=device, depth=3)\n",
    "\n",
    "model_graph.visual_graph"
   ]
  },
  {
   "cell_type": "code",
   "execution_count": 10,
   "id": "26b42584-8d65-4f16-a6f2-7b80624de828",
   "metadata": {},
   "outputs": [
    {
     "data": {
      "text/plain": [
       "array([[0.12336183, 0.33832514, 0.03357975, 0.18158446, 0.07650364,\n",
       "        0.01532644, 0.02865444, 0.02307146, 0.09562531, 0.08396749],\n",
       "       [0.05496116, 0.02967047, 0.3626568 , 0.05757748, 0.1297738 ,\n",
       "        0.13117658, 0.07365291, 0.04147164, 0.01752784, 0.10153133],\n",
       "       [0.14280854, 0.08459502, 0.02827334, 0.03527635, 0.09263012,\n",
       "        0.19389172, 0.16658981, 0.10919614, 0.04734198, 0.09939703],\n",
       "       [0.05800735, 0.08545954, 0.17701165, 0.09400804, 0.02472167,\n",
       "        0.04728029, 0.06258947, 0.2756167 , 0.09514246, 0.08016277],\n",
       "       [0.07325128, 0.11321736, 0.05173872, 0.06913243, 0.12210739,\n",
       "        0.23302451, 0.05874898, 0.08442562, 0.06104481, 0.13330893]],\n",
       "      dtype=float32)"
      ]
     },
     "execution_count": 10,
     "metadata": {},
     "output_type": "execute_result"
    }
   ],
   "source": [
    "predictions = model.predict(x_train[:5].to(device)).cpu().detach().numpy()\n",
    "\n",
    "predictions"
   ]
  },
  {
   "cell_type": "code",
   "execution_count": 11,
   "id": "8aafcbf5-294c-474d-8af7-ba0081150cad",
   "metadata": {},
   "outputs": [
    {
     "data": {
      "text/plain": [
       "array(2.7029889, dtype=float32)"
      ]
     },
     "execution_count": 11,
     "metadata": {},
     "output_type": "execute_result"
    }
   ],
   "source": [
    "model.model_loss(model(x_train[:5].to(device)),\n",
    "                 y_train[:5].to(device)\n",
    "                ).cpu().detach().numpy()"
   ]
  },
  {
   "cell_type": "code",
   "execution_count": 12,
   "id": "d0a80a31-ec5a-4bdd-b5cf-855e12ff85a7",
   "metadata": {},
   "outputs": [
    {
     "data": {
      "text/plain": [
       "array(0.2, dtype=float32)"
      ]
     },
     "execution_count": 12,
     "metadata": {},
     "output_type": "execute_result"
    }
   ],
   "source": [
    "model.model_acc(model(x_train[:5].to(device)),\n",
    "                y_train[:5].to(device)).cpu().detach().numpy()"
   ]
  },
  {
   "cell_type": "code",
   "execution_count": 13,
   "id": "e991a2f2-3eb1-4a88-864b-8c0a1042f1ce",
   "metadata": {},
   "outputs": [],
   "source": [
    "xy_train = torch.utils.data.DataLoader(list(zip(x_train, y_train)),\n",
    "                                       shuffle=True,\n",
    "                                       batch_size=250,\n",
    "                                       num_workers=cfg_num_workers) # Using CFG\n",
    "\n",
    "xy_val = torch.utils.data.DataLoader(list(zip(x_val, y_val)),\n",
    "                                     shuffle=False,\n",
    "                                     batch_size=250,\n",
    "                                     num_workers=cfg_num_workers) # Using CFG\n",
    "\n",
    "xy_test = torch.utils.data.DataLoader(list(zip(x_test, y_test)),\n",
    "                                      shuffle=False,\n",
    "                                      batch_size=250,\n",
    "                                      num_workers=cfg_num_workers) # Using CFG"
   ]
  },
  {
   "cell_type": "code",
   "execution_count": 14,
   "id": "0f102f1d-5348-4859-a2f0-177ec4a4b525",
   "metadata": {},
   "outputs": [],
   "source": [
    "# Setup Logger\n",
    "logger = pl.loggers.CSVLogger(\"logs\", name=\"OL2\", version=\"wide\")"
   ]
  },
  {
   "cell_type": "code",
   "execution_count": 15,
   "id": "28f1e198-861e-4288-b1ec-7128bd178826",
   "metadata": {},
   "outputs": [
    {
     "name": "stderr",
     "output_type": "stream",
     "text": [
      "GPU available: True (cuda), used: True\n",
      "TPU available: False, using: 0 TPU cores\n",
      "IPU available: False, using: 0 IPUs\n",
      "HPU available: False, using: 0 HPUs\n"
     ]
    }
   ],
   "source": [
    "trainer = pl.Trainer(logger=logger,\n",
    "                     max_epochs=cfg_max_epochs,\n",
    "                     enable_progress_bar=True,\n",
    "                     log_every_n_steps=0,\n",
    "                     callbacks=[pl.callbacks.TQDMProgressBar(refresh_rate=20)])"
   ]
  },
  {
   "cell_type": "code",
   "execution_count": 16,
   "id": "af94f317-7ce9-46f0-b7cc-1b72f7595d6e",
   "metadata": {},
   "outputs": [
    {
     "name": "stderr",
     "output_type": "stream",
     "text": [
      "LOCAL_RANK: 0 - CUDA_VISIBLE_DEVICES: [0]\n",
      "SLURM auto-requeueing enabled. Setting signal handlers.\n",
      "/opt/conda/lib/python3.11/site-packages/lightning/pytorch/trainer/connectors/data_connector.py:442: PossibleUserWarning: The dataloader, val_dataloader, does not have many workers which may be a bottleneck. Consider increasing the value of the `num_workers` argument` (try 20 which is the number of cpus on this machine) in the `DataLoader` init to improve performance.\n",
      "  rank_zero_warn(\n"
     ]
    },
    {
     "data": {
      "application/vnd.jupyter.widget-view+json": {
       "model_id": "cf55a35145424111bd4636631b1b9523",
       "version_major": 2,
       "version_minor": 0
      },
      "text/plain": [
       "Validation: 0it [00:00, ?it/s]"
      ]
     },
     "metadata": {},
     "output_type": "display_data"
    },
    {
     "data": {
      "text/html": [
       "<pre style=\"white-space:pre;overflow-x:auto;line-height:normal;font-family:Menlo,'DejaVu Sans Mono',consolas,'Courier New',monospace\">┏━━━━━━━━━━━━━━━━━━━━━━━━━━━┳━━━━━━━━━━━━━━━━━━━━━━━━━━━┓\n",
       "┃<span style=\"font-weight: bold\">  Runningstage.validating  </span>┃<span style=\"font-weight: bold\">                           </span>┃\n",
       "┃<span style=\"font-weight: bold\">          metric           </span>┃<span style=\"font-weight: bold\">       DataLoader 0        </span>┃\n",
       "┡━━━━━━━━━━━━━━━━━━━━━━━━━━━╇━━━━━━━━━━━━━━━━━━━━━━━━━━━┩\n",
       "│<span style=\"color: #008080; text-decoration-color: #008080\">          val_acc          </span>│<span style=\"color: #800080; text-decoration-color: #800080\">    0.09629999846220016    </span>│\n",
       "│<span style=\"color: #008080; text-decoration-color: #008080\">         val_loss          </span>│<span style=\"color: #800080; text-decoration-color: #800080\">    2.3110897541046143     </span>│\n",
       "└───────────────────────────┴───────────────────────────┘\n",
       "</pre>\n"
      ],
      "text/plain": [
       "┏━━━━━━━━━━━━━━━━━━━━━━━━━━━┳━━━━━━━━━━━━━━━━━━━━━━━━━━━┓\n",
       "┃\u001b[1m \u001b[0m\u001b[1m Runningstage.validating \u001b[0m\u001b[1m \u001b[0m┃\u001b[1m                           \u001b[0m┃\n",
       "┃\u001b[1m \u001b[0m\u001b[1m         metric          \u001b[0m\u001b[1m \u001b[0m┃\u001b[1m \u001b[0m\u001b[1m      DataLoader 0       \u001b[0m\u001b[1m \u001b[0m┃\n",
       "┡━━━━━━━━━━━━━━━━━━━━━━━━━━━╇━━━━━━━━━━━━━━━━━━━━━━━━━━━┩\n",
       "│\u001b[36m \u001b[0m\u001b[36m         val_acc         \u001b[0m\u001b[36m \u001b[0m│\u001b[35m \u001b[0m\u001b[35m   0.09629999846220016   \u001b[0m\u001b[35m \u001b[0m│\n",
       "│\u001b[36m \u001b[0m\u001b[36m        val_loss         \u001b[0m\u001b[36m \u001b[0m│\u001b[35m \u001b[0m\u001b[35m   2.3110897541046143    \u001b[0m\u001b[35m \u001b[0m│\n",
       "└───────────────────────────┴───────────────────────────┘\n"
      ]
     },
     "metadata": {},
     "output_type": "display_data"
    },
    {
     "data": {
      "text/plain": [
       "[{'val_acc': 0.09629999846220016, 'val_loss': 2.3110897541046143}]"
      ]
     },
     "execution_count": 16,
     "metadata": {},
     "output_type": "execute_result"
    }
   ],
   "source": [
    "trainer.validate(model, xy_val)"
   ]
  },
  {
   "cell_type": "code",
   "execution_count": 17,
   "id": "1c687e4b-4f13-498a-8cf8-6b83aa28798c",
   "metadata": {},
   "outputs": [
    {
     "name": "stderr",
     "output_type": "stream",
     "text": [
      "LOCAL_RANK: 0 - CUDA_VISIBLE_DEVICES: [0]\n",
      "\n",
      "  | Name       | Type               | Params\n",
      "--------------------------------------------------\n",
      "0 | module     | WideNetwork        | 129 K \n",
      "1 | model_acc  | MulticlassAccuracy | 0     \n",
      "2 | model_loss | CrossEntropyLoss   | 0     \n",
      "--------------------------------------------------\n",
      "129 K     Trainable params\n",
      "0         Non-trainable params\n",
      "129 K     Total params\n",
      "0.519     Total estimated model params size (MB)\n",
      "SLURM auto-requeueing enabled. Setting signal handlers.\n"
     ]
    },
    {
     "data": {
      "application/vnd.jupyter.widget-view+json": {
       "model_id": "",
       "version_major": 2,
       "version_minor": 0
      },
      "text/plain": [
       "Sanity Checking: 0it [00:00, ?it/s]"
      ]
     },
     "metadata": {},
     "output_type": "display_data"
    },
    {
     "name": "stderr",
     "output_type": "stream",
     "text": [
      "/opt/conda/lib/python3.11/site-packages/lightning/pytorch/trainer/connectors/data_connector.py:442: PossibleUserWarning: The dataloader, train_dataloader, does not have many workers which may be a bottleneck. Consider increasing the value of the `num_workers` argument` (try 20 which is the number of cpus on this machine) in the `DataLoader` init to improve performance.\n",
      "  rank_zero_warn(\n"
     ]
    },
    {
     "data": {
      "application/vnd.jupyter.widget-view+json": {
       "model_id": "31e0c0f8efac48dfa4996bfc8cd28c13",
       "version_major": 2,
       "version_minor": 0
      },
      "text/plain": [
       "Training: 0it [00:00, ?it/s]"
      ]
     },
     "metadata": {},
     "output_type": "display_data"
    },
    {
     "data": {
      "application/vnd.jupyter.widget-view+json": {
       "model_id": "",
       "version_major": 2,
       "version_minor": 0
      },
      "text/plain": [
       "Validation: 0it [00:00, ?it/s]"
      ]
     },
     "metadata": {},
     "output_type": "display_data"
    },
    {
     "data": {
      "application/vnd.jupyter.widget-view+json": {
       "model_id": "",
       "version_major": 2,
       "version_minor": 0
      },
      "text/plain": [
       "Validation: 0it [00:00, ?it/s]"
      ]
     },
     "metadata": {},
     "output_type": "display_data"
    },
    {
     "data": {
      "application/vnd.jupyter.widget-view+json": {
       "model_id": "",
       "version_major": 2,
       "version_minor": 0
      },
      "text/plain": [
       "Validation: 0it [00:00, ?it/s]"
      ]
     },
     "metadata": {},
     "output_type": "display_data"
    },
    {
     "data": {
      "application/vnd.jupyter.widget-view+json": {
       "model_id": "",
       "version_major": 2,
       "version_minor": 0
      },
      "text/plain": [
       "Validation: 0it [00:00, ?it/s]"
      ]
     },
     "metadata": {},
     "output_type": "display_data"
    },
    {
     "data": {
      "application/vnd.jupyter.widget-view+json": {
       "model_id": "",
       "version_major": 2,
       "version_minor": 0
      },
      "text/plain": [
       "Validation: 0it [00:00, ?it/s]"
      ]
     },
     "metadata": {},
     "output_type": "display_data"
    },
    {
     "data": {
      "application/vnd.jupyter.widget-view+json": {
       "model_id": "",
       "version_major": 2,
       "version_minor": 0
      },
      "text/plain": [
       "Validation: 0it [00:00, ?it/s]"
      ]
     },
     "metadata": {},
     "output_type": "display_data"
    },
    {
     "data": {
      "application/vnd.jupyter.widget-view+json": {
       "model_id": "",
       "version_major": 2,
       "version_minor": 0
      },
      "text/plain": [
       "Validation: 0it [00:00, ?it/s]"
      ]
     },
     "metadata": {},
     "output_type": "display_data"
    },
    {
     "data": {
      "application/vnd.jupyter.widget-view+json": {
       "model_id": "",
       "version_major": 2,
       "version_minor": 0
      },
      "text/plain": [
       "Validation: 0it [00:00, ?it/s]"
      ]
     },
     "metadata": {},
     "output_type": "display_data"
    },
    {
     "data": {
      "application/vnd.jupyter.widget-view+json": {
       "model_id": "",
       "version_major": 2,
       "version_minor": 0
      },
      "text/plain": [
       "Validation: 0it [00:00, ?it/s]"
      ]
     },
     "metadata": {},
     "output_type": "display_data"
    },
    {
     "data": {
      "application/vnd.jupyter.widget-view+json": {
       "model_id": "",
       "version_major": 2,
       "version_minor": 0
      },
      "text/plain": [
       "Validation: 0it [00:00, ?it/s]"
      ]
     },
     "metadata": {},
     "output_type": "display_data"
    },
    {
     "data": {
      "application/vnd.jupyter.widget-view+json": {
       "model_id": "",
       "version_major": 2,
       "version_minor": 0
      },
      "text/plain": [
       "Validation: 0it [00:00, ?it/s]"
      ]
     },
     "metadata": {},
     "output_type": "display_data"
    },
    {
     "data": {
      "application/vnd.jupyter.widget-view+json": {
       "model_id": "",
       "version_major": 2,
       "version_minor": 0
      },
      "text/plain": [
       "Validation: 0it [00:00, ?it/s]"
      ]
     },
     "metadata": {},
     "output_type": "display_data"
    },
    {
     "data": {
      "application/vnd.jupyter.widget-view+json": {
       "model_id": "",
       "version_major": 2,
       "version_minor": 0
      },
      "text/plain": [
       "Validation: 0it [00:00, ?it/s]"
      ]
     },
     "metadata": {},
     "output_type": "display_data"
    },
    {
     "data": {
      "application/vnd.jupyter.widget-view+json": {
       "model_id": "",
       "version_major": 2,
       "version_minor": 0
      },
      "text/plain": [
       "Validation: 0it [00:00, ?it/s]"
      ]
     },
     "metadata": {},
     "output_type": "display_data"
    },
    {
     "data": {
      "application/vnd.jupyter.widget-view+json": {
       "model_id": "",
       "version_major": 2,
       "version_minor": 0
      },
      "text/plain": [
       "Validation: 0it [00:00, ?it/s]"
      ]
     },
     "metadata": {},
     "output_type": "display_data"
    },
    {
     "data": {
      "application/vnd.jupyter.widget-view+json": {
       "model_id": "",
       "version_major": 2,
       "version_minor": 0
      },
      "text/plain": [
       "Validation: 0it [00:00, ?it/s]"
      ]
     },
     "metadata": {},
     "output_type": "display_data"
    },
    {
     "data": {
      "application/vnd.jupyter.widget-view+json": {
       "model_id": "",
       "version_major": 2,
       "version_minor": 0
      },
      "text/plain": [
       "Validation: 0it [00:00, ?it/s]"
      ]
     },
     "metadata": {},
     "output_type": "display_data"
    },
    {
     "data": {
      "application/vnd.jupyter.widget-view+json": {
       "model_id": "",
       "version_major": 2,
       "version_minor": 0
      },
      "text/plain": [
       "Validation: 0it [00:00, ?it/s]"
      ]
     },
     "metadata": {},
     "output_type": "display_data"
    },
    {
     "data": {
      "application/vnd.jupyter.widget-view+json": {
       "model_id": "",
       "version_major": 2,
       "version_minor": 0
      },
      "text/plain": [
       "Validation: 0it [00:00, ?it/s]"
      ]
     },
     "metadata": {},
     "output_type": "display_data"
    },
    {
     "data": {
      "application/vnd.jupyter.widget-view+json": {
       "model_id": "",
       "version_major": 2,
       "version_minor": 0
      },
      "text/plain": [
       "Validation: 0it [00:00, ?it/s]"
      ]
     },
     "metadata": {},
     "output_type": "display_data"
    },
    {
     "data": {
      "application/vnd.jupyter.widget-view+json": {
       "model_id": "",
       "version_major": 2,
       "version_minor": 0
      },
      "text/plain": [
       "Validation: 0it [00:00, ?it/s]"
      ]
     },
     "metadata": {},
     "output_type": "display_data"
    },
    {
     "data": {
      "application/vnd.jupyter.widget-view+json": {
       "model_id": "",
       "version_major": 2,
       "version_minor": 0
      },
      "text/plain": [
       "Validation: 0it [00:00, ?it/s]"
      ]
     },
     "metadata": {},
     "output_type": "display_data"
    },
    {
     "data": {
      "application/vnd.jupyter.widget-view+json": {
       "model_id": "",
       "version_major": 2,
       "version_minor": 0
      },
      "text/plain": [
       "Validation: 0it [00:00, ?it/s]"
      ]
     },
     "metadata": {},
     "output_type": "display_data"
    },
    {
     "data": {
      "application/vnd.jupyter.widget-view+json": {
       "model_id": "",
       "version_major": 2,
       "version_minor": 0
      },
      "text/plain": [
       "Validation: 0it [00:00, ?it/s]"
      ]
     },
     "metadata": {},
     "output_type": "display_data"
    },
    {
     "data": {
      "application/vnd.jupyter.widget-view+json": {
       "model_id": "",
       "version_major": 2,
       "version_minor": 0
      },
      "text/plain": [
       "Validation: 0it [00:00, ?it/s]"
      ]
     },
     "metadata": {},
     "output_type": "display_data"
    },
    {
     "data": {
      "application/vnd.jupyter.widget-view+json": {
       "model_id": "",
       "version_major": 2,
       "version_minor": 0
      },
      "text/plain": [
       "Validation: 0it [00:00, ?it/s]"
      ]
     },
     "metadata": {},
     "output_type": "display_data"
    },
    {
     "data": {
      "application/vnd.jupyter.widget-view+json": {
       "model_id": "",
       "version_major": 2,
       "version_minor": 0
      },
      "text/plain": [
       "Validation: 0it [00:00, ?it/s]"
      ]
     },
     "metadata": {},
     "output_type": "display_data"
    },
    {
     "data": {
      "application/vnd.jupyter.widget-view+json": {
       "model_id": "",
       "version_major": 2,
       "version_minor": 0
      },
      "text/plain": [
       "Validation: 0it [00:00, ?it/s]"
      ]
     },
     "metadata": {},
     "output_type": "display_data"
    },
    {
     "data": {
      "application/vnd.jupyter.widget-view+json": {
       "model_id": "",
       "version_major": 2,
       "version_minor": 0
      },
      "text/plain": [
       "Validation: 0it [00:00, ?it/s]"
      ]
     },
     "metadata": {},
     "output_type": "display_data"
    },
    {
     "data": {
      "application/vnd.jupyter.widget-view+json": {
       "model_id": "",
       "version_major": 2,
       "version_minor": 0
      },
      "text/plain": [
       "Validation: 0it [00:00, ?it/s]"
      ]
     },
     "metadata": {},
     "output_type": "display_data"
    },
    {
     "data": {
      "application/vnd.jupyter.widget-view+json": {
       "model_id": "",
       "version_major": 2,
       "version_minor": 0
      },
      "text/plain": [
       "Validation: 0it [00:00, ?it/s]"
      ]
     },
     "metadata": {},
     "output_type": "display_data"
    },
    {
     "data": {
      "application/vnd.jupyter.widget-view+json": {
       "model_id": "",
       "version_major": 2,
       "version_minor": 0
      },
      "text/plain": [
       "Validation: 0it [00:00, ?it/s]"
      ]
     },
     "metadata": {},
     "output_type": "display_data"
    },
    {
     "data": {
      "application/vnd.jupyter.widget-view+json": {
       "model_id": "",
       "version_major": 2,
       "version_minor": 0
      },
      "text/plain": [
       "Validation: 0it [00:00, ?it/s]"
      ]
     },
     "metadata": {},
     "output_type": "display_data"
    },
    {
     "data": {
      "application/vnd.jupyter.widget-view+json": {
       "model_id": "",
       "version_major": 2,
       "version_minor": 0
      },
      "text/plain": [
       "Validation: 0it [00:00, ?it/s]"
      ]
     },
     "metadata": {},
     "output_type": "display_data"
    },
    {
     "data": {
      "application/vnd.jupyter.widget-view+json": {
       "model_id": "",
       "version_major": 2,
       "version_minor": 0
      },
      "text/plain": [
       "Validation: 0it [00:00, ?it/s]"
      ]
     },
     "metadata": {},
     "output_type": "display_data"
    },
    {
     "data": {
      "application/vnd.jupyter.widget-view+json": {
       "model_id": "",
       "version_major": 2,
       "version_minor": 0
      },
      "text/plain": [
       "Validation: 0it [00:00, ?it/s]"
      ]
     },
     "metadata": {},
     "output_type": "display_data"
    },
    {
     "data": {
      "application/vnd.jupyter.widget-view+json": {
       "model_id": "",
       "version_major": 2,
       "version_minor": 0
      },
      "text/plain": [
       "Validation: 0it [00:00, ?it/s]"
      ]
     },
     "metadata": {},
     "output_type": "display_data"
    },
    {
     "data": {
      "application/vnd.jupyter.widget-view+json": {
       "model_id": "",
       "version_major": 2,
       "version_minor": 0
      },
      "text/plain": [
       "Validation: 0it [00:00, ?it/s]"
      ]
     },
     "metadata": {},
     "output_type": "display_data"
    },
    {
     "data": {
      "application/vnd.jupyter.widget-view+json": {
       "model_id": "",
       "version_major": 2,
       "version_minor": 0
      },
      "text/plain": [
       "Validation: 0it [00:00, ?it/s]"
      ]
     },
     "metadata": {},
     "output_type": "display_data"
    },
    {
     "data": {
      "application/vnd.jupyter.widget-view+json": {
       "model_id": "",
       "version_major": 2,
       "version_minor": 0
      },
      "text/plain": [
       "Validation: 0it [00:00, ?it/s]"
      ]
     },
     "metadata": {},
     "output_type": "display_data"
    },
    {
     "data": {
      "application/vnd.jupyter.widget-view+json": {
       "model_id": "",
       "version_major": 2,
       "version_minor": 0
      },
      "text/plain": [
       "Validation: 0it [00:00, ?it/s]"
      ]
     },
     "metadata": {},
     "output_type": "display_data"
    },
    {
     "data": {
      "application/vnd.jupyter.widget-view+json": {
       "model_id": "",
       "version_major": 2,
       "version_minor": 0
      },
      "text/plain": [
       "Validation: 0it [00:00, ?it/s]"
      ]
     },
     "metadata": {},
     "output_type": "display_data"
    },
    {
     "data": {
      "application/vnd.jupyter.widget-view+json": {
       "model_id": "",
       "version_major": 2,
       "version_minor": 0
      },
      "text/plain": [
       "Validation: 0it [00:00, ?it/s]"
      ]
     },
     "metadata": {},
     "output_type": "display_data"
    },
    {
     "data": {
      "application/vnd.jupyter.widget-view+json": {
       "model_id": "",
       "version_major": 2,
       "version_minor": 0
      },
      "text/plain": [
       "Validation: 0it [00:00, ?it/s]"
      ]
     },
     "metadata": {},
     "output_type": "display_data"
    },
    {
     "data": {
      "application/vnd.jupyter.widget-view+json": {
       "model_id": "",
       "version_major": 2,
       "version_minor": 0
      },
      "text/plain": [
       "Validation: 0it [00:00, ?it/s]"
      ]
     },
     "metadata": {},
     "output_type": "display_data"
    },
    {
     "data": {
      "application/vnd.jupyter.widget-view+json": {
       "model_id": "",
       "version_major": 2,
       "version_minor": 0
      },
      "text/plain": [
       "Validation: 0it [00:00, ?it/s]"
      ]
     },
     "metadata": {},
     "output_type": "display_data"
    },
    {
     "data": {
      "application/vnd.jupyter.widget-view+json": {
       "model_id": "874a040a49ee4f58938d13110e7d02d2",
       "version_major": 2,
       "version_minor": 0
      },
      "text/plain": [
       "Validation: 0it [00:00, ?it/s]"
      ]
     },
     "metadata": {},
     "output_type": "display_data"
    },
    {
     "data": {
      "application/vnd.jupyter.widget-view+json": {
       "model_id": "7c79f37df24b42adb2f25a79f57af26b",
       "version_major": 2,
       "version_minor": 0
      },
      "text/plain": [
       "Validation: 0it [00:00, ?it/s]"
      ]
     },
     "metadata": {},
     "output_type": "display_data"
    },
    {
     "data": {
      "application/vnd.jupyter.widget-view+json": {
       "model_id": "12b8b05a36a04f77973483a8ce092a98",
       "version_major": 2,
       "version_minor": 0
      },
      "text/plain": [
       "Validation: 0it [00:00, ?it/s]"
      ]
     },
     "metadata": {},
     "output_type": "display_data"
    },
    {
     "data": {
      "application/vnd.jupyter.widget-view+json": {
       "model_id": "85bafa3be736478e9f9790387370af5b",
       "version_major": 2,
       "version_minor": 0
      },
      "text/plain": [
       "Validation: 0it [00:00, ?it/s]"
      ]
     },
     "metadata": {},
     "output_type": "display_data"
    },
    {
     "name": "stderr",
     "output_type": "stream",
     "text": [
      "`Trainer.fit` stopped: `max_epochs=50` reached.\n"
     ]
    }
   ],
   "source": [
    "trainer.fit(model, xy_train, xy_val)"
   ]
  },
  {
   "cell_type": "code",
   "execution_count": 18,
   "id": "ce445e4f-adf4-4ee5-8cbb-2ff74f467a9d",
   "metadata": {},
   "outputs": [
    {
     "name": "stderr",
     "output_type": "stream",
     "text": [
      "LOCAL_RANK: 0 - CUDA_VISIBLE_DEVICES: [0]\n",
      "SLURM auto-requeueing enabled. Setting signal handlers.\n"
     ]
    },
    {
     "data": {
      "application/vnd.jupyter.widget-view+json": {
       "model_id": "a9e5b0fb985545d0baa80b29f3f5ead4",
       "version_major": 2,
       "version_minor": 0
      },
      "text/plain": [
       "Validation: 0it [00:00, ?it/s]"
      ]
     },
     "metadata": {},
     "output_type": "display_data"
    },
    {
     "data": {
      "text/html": [
       "<pre style=\"white-space:pre;overflow-x:auto;line-height:normal;font-family:Menlo,'DejaVu Sans Mono',consolas,'Courier New',monospace\">┏━━━━━━━━━━━━━━━━━━━━━━━━━━━┳━━━━━━━━━━━━━━━━━━━━━━━━━━━┓\n",
       "┃<span style=\"font-weight: bold\">  Runningstage.validating  </span>┃<span style=\"font-weight: bold\">                           </span>┃\n",
       "┃<span style=\"font-weight: bold\">          metric           </span>┃<span style=\"font-weight: bold\">       DataLoader 0        </span>┃\n",
       "┡━━━━━━━━━━━━━━━━━━━━━━━━━━━╇━━━━━━━━━━━━━━━━━━━━━━━━━━━┩\n",
       "│<span style=\"color: #008080; text-decoration-color: #008080\">          val_acc          </span>│<span style=\"color: #800080; text-decoration-color: #800080\">    0.4778999984264374     </span>│\n",
       "│<span style=\"color: #008080; text-decoration-color: #008080\">         val_loss          </span>│<span style=\"color: #800080; text-decoration-color: #800080\">     1.497806429862976     </span>│\n",
       "└───────────────────────────┴───────────────────────────┘\n",
       "</pre>\n"
      ],
      "text/plain": [
       "┏━━━━━━━━━━━━━━━━━━━━━━━━━━━┳━━━━━━━━━━━━━━━━━━━━━━━━━━━┓\n",
       "┃\u001b[1m \u001b[0m\u001b[1m Runningstage.validating \u001b[0m\u001b[1m \u001b[0m┃\u001b[1m                           \u001b[0m┃\n",
       "┃\u001b[1m \u001b[0m\u001b[1m         metric          \u001b[0m\u001b[1m \u001b[0m┃\u001b[1m \u001b[0m\u001b[1m      DataLoader 0       \u001b[0m\u001b[1m \u001b[0m┃\n",
       "┡━━━━━━━━━━━━━━━━━━━━━━━━━━━╇━━━━━━━━━━━━━━━━━━━━━━━━━━━┩\n",
       "│\u001b[36m \u001b[0m\u001b[36m         val_acc         \u001b[0m\u001b[36m \u001b[0m│\u001b[35m \u001b[0m\u001b[35m   0.4778999984264374    \u001b[0m\u001b[35m \u001b[0m│\n",
       "│\u001b[36m \u001b[0m\u001b[36m        val_loss         \u001b[0m\u001b[36m \u001b[0m│\u001b[35m \u001b[0m\u001b[35m    1.497806429862976    \u001b[0m\u001b[35m \u001b[0m│\n",
       "└───────────────────────────┴───────────────────────────┘\n"
      ]
     },
     "metadata": {},
     "output_type": "display_data"
    },
    {
     "data": {
      "text/plain": [
       "[{'val_acc': 0.4778999984264374, 'val_loss': 1.497806429862976}]"
      ]
     },
     "execution_count": 18,
     "metadata": {},
     "output_type": "execute_result"
    }
   ],
   "source": [
    "# Validate on Model\n",
    "trainer.validate(model, xy_val)"
   ]
  },
  {
   "cell_type": "code",
   "execution_count": 19,
   "id": "db3fd528-c1ed-42e3-9c4b-ed5601dc96cf",
   "metadata": {},
   "outputs": [
    {
     "data": {
      "text/html": [
       "<div>\n",
       "<style scoped>\n",
       "    .dataframe tbody tr th:only-of-type {\n",
       "        vertical-align: middle;\n",
       "    }\n",
       "\n",
       "    .dataframe tbody tr th {\n",
       "        vertical-align: top;\n",
       "    }\n",
       "\n",
       "    .dataframe thead th {\n",
       "        text-align: right;\n",
       "    }\n",
       "</style>\n",
       "<table border=\"1\" class=\"dataframe\">\n",
       "  <thead>\n",
       "    <tr style=\"text-align: right;\">\n",
       "      <th></th>\n",
       "      <th>val_acc</th>\n",
       "      <th>val_loss</th>\n",
       "      <th>epoch</th>\n",
       "      <th>step</th>\n",
       "      <th>train_acc</th>\n",
       "      <th>train_loss</th>\n",
       "    </tr>\n",
       "  </thead>\n",
       "  <tbody>\n",
       "    <tr>\n",
       "      <th>0</th>\n",
       "      <td>0.0963</td>\n",
       "      <td>2.311090</td>\n",
       "      <td>0</td>\n",
       "      <td>0</td>\n",
       "      <td>NaN</td>\n",
       "      <td>NaN</td>\n",
       "    </tr>\n",
       "    <tr>\n",
       "      <th>1</th>\n",
       "      <td>0.4025</td>\n",
       "      <td>1.732975</td>\n",
       "      <td>0</td>\n",
       "      <td>159</td>\n",
       "      <td>NaN</td>\n",
       "      <td>NaN</td>\n",
       "    </tr>\n",
       "    <tr>\n",
       "      <th>2</th>\n",
       "      <td>NaN</td>\n",
       "      <td>NaN</td>\n",
       "      <td>0</td>\n",
       "      <td>159</td>\n",
       "      <td>0.310875</td>\n",
       "      <td>1.939391</td>\n",
       "    </tr>\n",
       "    <tr>\n",
       "      <th>3</th>\n",
       "      <td>0.4140</td>\n",
       "      <td>1.668059</td>\n",
       "      <td>1</td>\n",
       "      <td>319</td>\n",
       "      <td>NaN</td>\n",
       "      <td>NaN</td>\n",
       "    </tr>\n",
       "    <tr>\n",
       "      <th>4</th>\n",
       "      <td>NaN</td>\n",
       "      <td>NaN</td>\n",
       "      <td>1</td>\n",
       "      <td>319</td>\n",
       "      <td>0.365150</td>\n",
       "      <td>1.781407</td>\n",
       "    </tr>\n",
       "    <tr>\n",
       "      <th>...</th>\n",
       "      <td>...</td>\n",
       "      <td>...</td>\n",
       "      <td>...</td>\n",
       "      <td>...</td>\n",
       "      <td>...</td>\n",
       "      <td>...</td>\n",
       "    </tr>\n",
       "    <tr>\n",
       "      <th>97</th>\n",
       "      <td>0.4804</td>\n",
       "      <td>1.498333</td>\n",
       "      <td>48</td>\n",
       "      <td>7839</td>\n",
       "      <td>NaN</td>\n",
       "      <td>NaN</td>\n",
       "    </tr>\n",
       "    <tr>\n",
       "      <th>98</th>\n",
       "      <td>NaN</td>\n",
       "      <td>NaN</td>\n",
       "      <td>48</td>\n",
       "      <td>7839</td>\n",
       "      <td>0.459775</td>\n",
       "      <td>1.515566</td>\n",
       "    </tr>\n",
       "    <tr>\n",
       "      <th>99</th>\n",
       "      <td>0.4779</td>\n",
       "      <td>1.497806</td>\n",
       "      <td>49</td>\n",
       "      <td>7999</td>\n",
       "      <td>NaN</td>\n",
       "      <td>NaN</td>\n",
       "    </tr>\n",
       "    <tr>\n",
       "      <th>100</th>\n",
       "      <td>NaN</td>\n",
       "      <td>NaN</td>\n",
       "      <td>49</td>\n",
       "      <td>7999</td>\n",
       "      <td>0.460200</td>\n",
       "      <td>1.515140</td>\n",
       "    </tr>\n",
       "    <tr>\n",
       "      <th>101</th>\n",
       "      <td>0.4779</td>\n",
       "      <td>1.497806</td>\n",
       "      <td>50</td>\n",
       "      <td>8000</td>\n",
       "      <td>NaN</td>\n",
       "      <td>NaN</td>\n",
       "    </tr>\n",
       "  </tbody>\n",
       "</table>\n",
       "<p>102 rows × 6 columns</p>\n",
       "</div>"
      ],
      "text/plain": [
       "     val_acc  val_loss  epoch  step  train_acc  train_loss\n",
       "0     0.0963  2.311090      0     0        NaN         NaN\n",
       "1     0.4025  1.732975      0   159        NaN         NaN\n",
       "2        NaN       NaN      0   159   0.310875    1.939391\n",
       "3     0.4140  1.668059      1   319        NaN         NaN\n",
       "4        NaN       NaN      1   319   0.365150    1.781407\n",
       "..       ...       ...    ...   ...        ...         ...\n",
       "97    0.4804  1.498333     48  7839        NaN         NaN\n",
       "98       NaN       NaN     48  7839   0.459775    1.515566\n",
       "99    0.4779  1.497806     49  7999        NaN         NaN\n",
       "100      NaN       NaN     49  7999   0.460200    1.515140\n",
       "101   0.4779  1.497806     50  8000        NaN         NaN\n",
       "\n",
       "[102 rows x 6 columns]"
      ]
     },
     "execution_count": 19,
     "metadata": {},
     "output_type": "execute_result"
    }
   ],
   "source": [
    "results = pd.read_csv(logger.log_dir+\"/metrics.csv\")\n",
    "results"
   ]
  },
  {
   "cell_type": "code",
   "execution_count": 20,
   "id": "87c96bb4-2209-42c2-b7da-c68da1e941d0",
   "metadata": {},
   "outputs": [
    {
     "data": {
      "image/png": "[encoded data removed]",
      "text/plain": [
       "<Figure size 640x480 with 1 Axes>"
      ]
     },
     "metadata": {},
     "output_type": "display_data"
    }
   ],
   "source": [
    "plt.plot(results[\"epoch\"][np.logical_not(np.isnan(results[\"train_loss\"]))],\n",
    "         results[\"train_loss\"][np.logical_not(np.isnan(results[\"train_loss\"]))],\n",
    "         label=\"Training\")\n",
    "\n",
    "plt.plot(results[\"epoch\"][np.logical_not(np.isnan(results[\"val_loss\"]))],\n",
    "         results[\"val_loss\"][np.logical_not(np.isnan(results[\"val_loss\"]))],\n",
    "         label=\"Validation\")\n",
    "\n",
    "plt.legend()\n",
    "plt.ylabel(\"CCE Loss\")\n",
    "plt.xlabel(\"Epoch\")\n",
    "plt.show()"
   ]
  },
  {
   "cell_type": "code",
   "execution_count": 21,
   "id": "d17bb16a-b402-4dcb-be38-6510b12b0470",
   "metadata": {},
   "outputs": [
    {
     "name": "stdout",
     "output_type": "stream",
     "text": [
      "Validation accuracy: 0.09630000 0.40250000 0.41400000 0.42429999 0.43650001 0.44430000 0.44380000 0.44180000 0.44960001 0.45570001 0.45469999 0.45260000 0.46200001 0.46329999 0.46700001 0.46680000 0.46759999 0.46190000 0.46579999 0.46730000 0.46880001 0.46930000 0.47049999 0.46650001 0.46830001 0.47070000 0.47299999 0.47299999 0.47440001 0.47620001 0.46830001 0.46980000 0.47350001 0.47270000 0.47620001 0.47600001 0.47610000 0.47650000 0.47279999 0.46919999 0.47810000 0.47729999 0.47110000 0.47400001 0.47780001 0.46910000 0.47540000 0.47749999 0.46830001 0.48040000 0.47790000 0.47790000\n"
     ]
    }
   ],
   "source": [
    "print(\"Validation accuracy:\",*[\"%.8f\"%(x) for x in results['val_acc'][np.logical_not(np.isnan(results[\"val_acc\"]))]])"
   ]
  },
  {
   "cell_type": "code",
   "execution_count": 22,
   "id": "47c782c8-42e6-4868-ae26-98bba8e4e761",
   "metadata": {},
   "outputs": [
    {
     "name": "stderr",
     "output_type": "stream",
     "text": [
      "LOCAL_RANK: 0 - CUDA_VISIBLE_DEVICES: [0]\n",
      "SLURM auto-requeueing enabled. Setting signal handlers.\n",
      "/opt/conda/lib/python3.11/site-packages/lightning/pytorch/trainer/connectors/data_connector.py:442: PossibleUserWarning: The dataloader, test_dataloader, does not have many workers which may be a bottleneck. Consider increasing the value of the `num_workers` argument` (try 20 which is the number of cpus on this machine) in the `DataLoader` init to improve performance.\n",
      "  rank_zero_warn(\n"
     ]
    },
    {
     "data": {
      "application/vnd.jupyter.widget-view+json": {
       "model_id": "0255bfc5d088493cbd8182544e2bd22f",
       "version_major": 2,
       "version_minor": 0
      },
      "text/plain": [
       "Testing: 0it [00:00, ?it/s]"
      ]
     },
     "metadata": {},
     "output_type": "display_data"
    },
    {
     "data": {
      "text/html": [
       "<pre style=\"white-space:pre;overflow-x:auto;line-height:normal;font-family:Menlo,'DejaVu Sans Mono',consolas,'Courier New',monospace\">┏━━━━━━━━━━━━━━━━━━━━━━━━━━━┳━━━━━━━━━━━━━━━━━━━━━━━━━━━┓\n",
       "┃<span style=\"font-weight: bold\">   Runningstage.testing    </span>┃<span style=\"font-weight: bold\">                           </span>┃\n",
       "┃<span style=\"font-weight: bold\">          metric           </span>┃<span style=\"font-weight: bold\">       DataLoader 0        </span>┃\n",
       "┡━━━━━━━━━━━━━━━━━━━━━━━━━━━╇━━━━━━━━━━━━━━━━━━━━━━━━━━━┩\n",
       "│<span style=\"color: #008080; text-decoration-color: #008080\">         test_acc          </span>│<span style=\"color: #800080; text-decoration-color: #800080\">    0.47620001435279846    </span>│\n",
       "│<span style=\"color: #008080; text-decoration-color: #008080\">         test_loss         </span>│<span style=\"color: #800080; text-decoration-color: #800080\">    1.4831632375717163     </span>│\n",
       "└───────────────────────────┴───────────────────────────┘\n",
       "</pre>\n"
      ],
      "text/plain": [
       "┏━━━━━━━━━━━━━━━━━━━━━━━━━━━┳━━━━━━━━━━━━━━━━━━━━━━━━━━━┓\n",
       "┃\u001b[1m \u001b[0m\u001b[1m  Runningstage.testing   \u001b[0m\u001b[1m \u001b[0m┃\u001b[1m                           \u001b[0m┃\n",
       "┃\u001b[1m \u001b[0m\u001b[1m         metric          \u001b[0m\u001b[1m \u001b[0m┃\u001b[1m \u001b[0m\u001b[1m      DataLoader 0       \u001b[0m\u001b[1m \u001b[0m┃\n",
       "┡━━━━━━━━━━━━━━━━━━━━━━━━━━━╇━━━━━━━━━━━━━━━━━━━━━━━━━━━┩\n",
       "│\u001b[36m \u001b[0m\u001b[36m        test_acc         \u001b[0m\u001b[36m \u001b[0m│\u001b[35m \u001b[0m\u001b[35m   0.47620001435279846   \u001b[0m\u001b[35m \u001b[0m│\n",
       "│\u001b[36m \u001b[0m\u001b[36m        test_loss        \u001b[0m\u001b[36m \u001b[0m│\u001b[35m \u001b[0m\u001b[35m   1.4831632375717163    \u001b[0m\u001b[35m \u001b[0m│\n",
       "└───────────────────────────┴───────────────────────────┘\n"
      ]
     },
     "metadata": {},
     "output_type": "display_data"
    },
    {
     "name": "stdout",
     "output_type": "stream",
     "text": [
      "Testing accuracy: 0.47620001435279846\n"
     ]
    }
   ],
   "source": [
    "print(\"Testing accuracy:\", trainer.test(model, xy_test)[0]['test_acc'])"
   ]
  },
  {
   "cell_type": "code",
   "execution_count": null,
   "id": "0c09da6c-2ce9-4de9-b7f5-e52c7a21d1d4",
   "metadata": {},
   "outputs": [],
   "source": []
  }
 ],
 "metadata": {
  "kernelspec": {
   "display_name": "Python 3 (ipykernel)",
   "language": "python",
   "name": "python3"
  },
  "language_info": {
   "codemirror_mode": {
    "name": "ipython",
    "version": 3
   },
   "file_extension": ".py",
   "mimetype": "text/x-python",
   "name": "python",
   "nbconvert_exporter": "python",
   "pygments_lexer": "ipython3",
   "version": "3.11.5"
  }
 },
 "nbformat": 4,
 "nbformat_minor": 5
}
