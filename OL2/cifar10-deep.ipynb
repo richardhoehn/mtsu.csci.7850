{
 "cells": [
  {
   "cell_type": "code",
   "execution_count": 1,
   "id": "bed854a4-1b6e-40ba-b46f-127e76e6b7f5",
   "metadata": {},
   "outputs": [
    {
     "name": "stdout",
     "output_type": "stream",
     "text": [
      "Use GPU: True\n"
     ]
    }
   ],
   "source": [
    "import numpy as np\n",
    "import torch\n",
    "import torchvision\n",
    "import torchmetrics\n",
    "import lightning.pytorch as pl \n",
    "from torchinfo import summary \n",
    "from torchview import draw_graph \n",
    "import matplotlib.pyplot as plt \n",
    "import pandas as pd\n",
    "\n",
    "if (torch.cuda.is_available()): \n",
    "    device = (\"cuda\")\n",
    "else:\n",
    "    device = (\"cpu\")\n",
    "print(f\"Use GPU: {torch.cuda.is_available()}\")"
   ]
  },
  {
   "cell_type": "code",
   "execution_count": 10,
   "id": "abe98370-da6d-4723-8ed9-7754c845f57b",
   "metadata": {},
   "outputs": [],
   "source": [
    "# Config Section\n",
    "\n",
    "# Config Section\n",
    "cfg_data_folder = \"datasets/cifar10\"\n",
    "cfg_max_epochs  = 50;\n",
    "cfg_num_workers = 2\n",
    "cfg_hidden_dims = 34\n",
    "cfg_num_hidden_layers = 18\n",
    "\n",
    "cfg_logger_dir=\"logs\"\n",
    "cfg_logger_name=\"OL2\"\n",
    "cfg_logger_version=\"deep\"\n",
    "\n",
    "cfg_cifar10_labels = {\n",
    "  0: \"Airplane\",\n",
    "  1: \"Automobile\",\n",
    "  2: \"Bird\",\n",
    "  3: \"Cat\",\n",
    "  4: \"Deer\",\n",
    "  5: \"Dog\",\n",
    "  6: \"Frog\",\n",
    "  7: \"Horse\",\n",
    "  8: \"Ship\",\n",
    "  9: \"Truck\",\n",
    "}"
   ]
  },
  {
   "cell_type": "code",
   "execution_count": 3,
   "id": "09a3520d-011f-4613-967c-cb8bfc557f14",
   "metadata": {},
   "outputs": [
    {
     "name": "stdout",
     "output_type": "stream",
     "text": [
      "Downloading https://www.cs.toronto.edu/~kriz/cifar-10-python.tar.gz to datasets/cifar10/cifar-10-python.tar.gz\n"
     ]
    },
    {
     "name": "stderr",
     "output_type": "stream",
     "text": [
      "100%|██████████| 170498071/170498071 [00:02<00:00, 67646585.85it/s]\n"
     ]
    },
    {
     "name": "stdout",
     "output_type": "stream",
     "text": [
      "Extracting datasets/cifar10/cifar-10-python.tar.gz to datasets/cifar10\n",
      "Files already downloaded and verified\n",
      "torch.Size([40000, 32, 32, 3])\n",
      "torch.Size([10000, 32, 32, 3])\n",
      "torch.Size([10000, 32, 32, 3])\n"
     ]
    }
   ],
   "source": [
    "# Load the data set and scale to [-1,+1]\n",
    "training_dataset = torchvision.datasets.CIFAR10(root=cfg_data_folder, download=True, train=True)\n",
    "testing_dataset = torchvision.datasets.CIFAR10(root=cfg_data_folder,  download=True, train=False) \n",
    "\n",
    "x_train = (torch.Tensor(training_dataset.data) / 127.5) - 1.0\n",
    "y_train = torch.Tensor(training_dataset.targets).to(torch.long)\n",
    "x_test = (torch.Tensor(testing_dataset.data) / 127.5) - 1.0 \n",
    "y_test = torch.Tensor(testing_dataset.targets).to(torch.long)\n",
    "\n",
    "# You can set a seed value here if you\n",
    "# want to control the shuffling process...\n",
    "rng = np.random.default_rng()\n",
    "permutation = rng.permutation(x_train.shape[0]) \n",
    "split_point = int(x_train.shape[0] * 0.8) # 80%/20% split\n",
    "\n",
    "# Split into validation/training - keep test # set aside for later...\n",
    "x_val = x_train[permutation][split_point:]\n",
    "y_val = y_train[permutation][split_point:]\n",
    "x_train = x_train[permutation][:split_point]\n",
    "y_train = y_train[permutation][:split_point]\n",
    "\n",
    "print(x_train.shape)\n",
    "print(x_val.shape)\n",
    "print(x_test.shape)"
   ]
  },
  {
   "cell_type": "code",
   "execution_count": 4,
   "id": "92808cc1-092e-4965-b3bd-82efcd48b2cc",
   "metadata": {},
   "outputs": [
    {
     "data": {
      "text/plain": [
       "torch.Size([40000, 32, 32, 3])"
      ]
     },
     "execution_count": 4,
     "metadata": {},
     "output_type": "execute_result"
    }
   ],
   "source": [
    "x_train.shape"
   ]
  },
  {
   "cell_type": "code",
   "execution_count": 5,
   "id": "f937883e-28c8-4ded-9e0e-f40b3e455290",
   "metadata": {},
   "outputs": [
    {
     "data": {
      "image/png": "[encoded data removed]",
      "text/plain": [
       "<Figure size 640x480 with 1 Axes>"
      ]
     },
     "metadata": {},
     "output_type": "display_data"
    },
    {
     "name": "stdout",
     "output_type": "stream",
     "text": [
      "Label: Frog (idx: 6)\n"
     ]
    }
   ],
   "source": [
    "plt.imshow((x_train[0].detach().numpy() + 1.0)/2.0)\n",
    "plt.show()\n",
    "print(f\"Label: {cfg_cifar10_labels.get(int(y_train[0]))} (idx: {y_train[0]})\")"
   ]
  },
  {
   "cell_type": "code",
   "execution_count": 92,
   "id": "3f87ade1-027c-4fba-8e39-a9869a8f12cc",
   "metadata": {},
   "outputs": [],
   "source": [
    "# Define model\n",
    "class DeepNetwork(torch.nn.Module):\n",
    "    def __init__(self, input_size, output_size, hidden_size, num_hidden_layers, **kwargs):\n",
    "        super().__init__(**kwargs) \n",
    "        self.flatten_layer = torch.nn.Flatten()\n",
    "        \n",
    "        # Initial linear projection\n",
    "        layers = [torch.nn.Linear(input_size.numel(), hidden_size)]\n",
    "        \n",
    "        for _ in range(num_hidden_layers):\n",
    "            layers.append(torch.nn.Linear(hidden_size, hidden_size))\n",
    "            layers.append(torch.nn.LayerNorm(hidden_size))  # Add Layer Normalization\n",
    "            layers.append(torch.nn.ReLU())  # Use ReLU activation\n",
    "            \n",
    "        self.hidden_layers = torch.nn.Sequential(*layers)\n",
    "        self.dropout = torch.nn.Dropout(0.5)\n",
    "        self.output_layer = torch.nn.Linear(hidden_size, output_size)\n",
    "        \n",
    "    def forward(self, x):\n",
    "        y = x\n",
    "        y = self.flatten_layer(y)\n",
    "        y = self.hidden_layers(y)\n",
    "        y = self.dropout(y)\n",
    "        y = self.output_layer(y)\n",
    "        return y\n",
    "        \n",
    "    def predict(self, x):\n",
    "        y = x\n",
    "        y = self.forward(y)\n",
    "        y = torch.softmax(y,-1)\n",
    "        return y\n",
    "\n"
   ]
  },
  {
   "cell_type": "code",
   "execution_count": 93,
   "id": "815f1eba-f923-4633-8f1f-26e3d78bf230",
   "metadata": {},
   "outputs": [],
   "source": [
    "# Define Trainable Module\n",
    "class PLModel(pl.LightningModule):\n",
    "    def __init__(self, module, **kwargs):\n",
    "        # This is the contructor, where we typically make\n",
    "        # layer objects using provided arguments. \n",
    "        super().__init__(**kwargs) # Call the super class constructor \n",
    "        self.module = module\n",
    "        \n",
    "        # This creates an accuracy function\n",
    "        self.model_acc = torchmetrics.classification.Accuracy(task='multiclass', \n",
    "                                                              num_classes=module.output_layer.out_features)\n",
    "        # This creates a loss function\n",
    "        self.model_loss = torch.nn.CrossEntropyLoss()\n",
    "    \n",
    "    def forward(self, x):\n",
    "        return self.module.forward(x) \n",
    "        \n",
    "    def predict(self, x):\n",
    "        return self.module.predict(x)\n",
    "\n",
    "    def configure_optimizers(self):\n",
    "        optimizer = torch.optim.Adam(self.parameters(), lr=0.001)\n",
    "        return optimizer\n",
    "\n",
    "    def training_step(self, train_batch, batch_idx): \n",
    "        x, y_true = train_batch\n",
    "        y_pred = self(x)\n",
    "        acc = self.model_acc(y_pred, y_true)\n",
    "        loss = self.model_loss(y_pred, y_true) \n",
    "        self.log('train_acc',  acc,  on_step=False, on_epoch=True)\n",
    "        self.log('train_loss', loss, on_step=False, on_epoch=True) \n",
    "        return loss\n",
    "\n",
    "\n",
    "    def validation_step(self, val_batch, batch_idx): \n",
    "        x, y_true = val_batch\n",
    "        y_pred = self(x)\n",
    "        acc = self.model_acc(y_pred, y_true)\n",
    "        loss = self.model_loss(y_pred, y_true)\n",
    "        self.log('val_acc',  acc,  on_step=False, on_epoch=True)\n",
    "        self.log('val_loss', loss, on_step=False, on_epoch=True)\n",
    "        return loss\n",
    "        \n",
    "    def test_step(self, test_batch, batch_idx):\n",
    "        x, y_true = test_batch\n",
    "        y_pred = self(x)\n",
    "        acc = self.model_acc(y_pred,y_true)\n",
    "        loss = self.model_loss(y_pred,y_true)\n",
    "        self.log('test_acc',  acc,  on_step=False, on_epoch=True)\n",
    "        self.log('test_loss', loss, on_step=False, on_epoch=True)\n",
    "        return loss\n"
   ]
  },
  {
   "cell_type": "code",
   "execution_count": 94,
   "id": "e7040e68-fe34-480b-97b3-bab91ac2002b",
   "metadata": {},
   "outputs": [
    {
     "data": {
      "text/plain": [
       "==========================================================================================\n",
       "Layer (type:depth-idx)                   Output Shape              Param #\n",
       "==========================================================================================\n",
       "PLModel                                  [1, 10]                   --\n",
       "├─DeepNetwork: 1-1                       --                        --\n",
       "│    └─Flatten: 2-1                      [1, 3072]                 --\n",
       "│    └─Sequential: 2-2                   [1, 34]                   --\n",
       "│    │    └─Linear: 3-1                  [1, 34]                   104,482\n",
       "│    │    └─Linear: 3-2                  [1, 34]                   1,190\n",
       "│    │    └─LayerNorm: 3-3               [1, 34]                   68\n",
       "│    │    └─ReLU: 3-4                    [1, 34]                   --\n",
       "│    │    └─Linear: 3-5                  [1, 34]                   1,190\n",
       "│    │    └─LayerNorm: 3-6               [1, 34]                   68\n",
       "│    │    └─ReLU: 3-7                    [1, 34]                   --\n",
       "│    │    └─Linear: 3-8                  [1, 34]                   1,190\n",
       "│    │    └─LayerNorm: 3-9               [1, 34]                   68\n",
       "│    │    └─ReLU: 3-10                   [1, 34]                   --\n",
       "│    │    └─Linear: 3-11                 [1, 34]                   1,190\n",
       "│    │    └─LayerNorm: 3-12              [1, 34]                   68\n",
       "│    │    └─ReLU: 3-13                   [1, 34]                   --\n",
       "│    │    └─Linear: 3-14                 [1, 34]                   1,190\n",
       "│    │    └─LayerNorm: 3-15              [1, 34]                   68\n",
       "│    │    └─ReLU: 3-16                   [1, 34]                   --\n",
       "│    │    └─Linear: 3-17                 [1, 34]                   1,190\n",
       "│    │    └─LayerNorm: 3-18              [1, 34]                   68\n",
       "│    │    └─ReLU: 3-19                   [1, 34]                   --\n",
       "│    │    └─Linear: 3-20                 [1, 34]                   1,190\n",
       "│    │    └─LayerNorm: 3-21              [1, 34]                   68\n",
       "│    │    └─ReLU: 3-22                   [1, 34]                   --\n",
       "│    │    └─Linear: 3-23                 [1, 34]                   1,190\n",
       "│    │    └─LayerNorm: 3-24              [1, 34]                   68\n",
       "│    │    └─ReLU: 3-25                   [1, 34]                   --\n",
       "│    │    └─Linear: 3-26                 [1, 34]                   1,190\n",
       "│    │    └─LayerNorm: 3-27              [1, 34]                   68\n",
       "│    │    └─ReLU: 3-28                   [1, 34]                   --\n",
       "│    │    └─Linear: 3-29                 [1, 34]                   1,190\n",
       "│    │    └─LayerNorm: 3-30              [1, 34]                   68\n",
       "│    │    └─ReLU: 3-31                   [1, 34]                   --\n",
       "│    │    └─Linear: 3-32                 [1, 34]                   1,190\n",
       "│    │    └─LayerNorm: 3-33              [1, 34]                   68\n",
       "│    │    └─ReLU: 3-34                   [1, 34]                   --\n",
       "│    │    └─Linear: 3-35                 [1, 34]                   1,190\n",
       "│    │    └─LayerNorm: 3-36              [1, 34]                   68\n",
       "│    │    └─ReLU: 3-37                   [1, 34]                   --\n",
       "│    │    └─Linear: 3-38                 [1, 34]                   1,190\n",
       "│    │    └─LayerNorm: 3-39              [1, 34]                   68\n",
       "│    │    └─ReLU: 3-40                   [1, 34]                   --\n",
       "│    │    └─Linear: 3-41                 [1, 34]                   1,190\n",
       "│    │    └─LayerNorm: 3-42              [1, 34]                   68\n",
       "│    │    └─ReLU: 3-43                   [1, 34]                   --\n",
       "│    │    └─Linear: 3-44                 [1, 34]                   1,190\n",
       "│    │    └─LayerNorm: 3-45              [1, 34]                   68\n",
       "│    │    └─ReLU: 3-46                   [1, 34]                   --\n",
       "│    │    └─Linear: 3-47                 [1, 34]                   1,190\n",
       "│    │    └─LayerNorm: 3-48              [1, 34]                   68\n",
       "│    │    └─ReLU: 3-49                   [1, 34]                   --\n",
       "│    │    └─Linear: 3-50                 [1, 34]                   1,190\n",
       "│    │    └─LayerNorm: 3-51              [1, 34]                   68\n",
       "│    │    └─ReLU: 3-52                   [1, 34]                   --\n",
       "│    │    └─Linear: 3-53                 [1, 34]                   1,190\n",
       "│    │    └─LayerNorm: 3-54              [1, 34]                   68\n",
       "│    │    └─ReLU: 3-55                   [1, 34]                   --\n",
       "│    └─Dropout: 2-3                      [1, 34]                   --\n",
       "│    └─Linear: 2-4                       [1, 10]                   350\n",
       "==========================================================================================\n",
       "Total params: 127,476\n",
       "Trainable params: 127,476\n",
       "Non-trainable params: 0\n",
       "Total mult-adds (Units.MEGABYTES): 0.13\n",
       "==========================================================================================\n",
       "Input size (MB): 0.01\n",
       "Forward/backward pass size (MB): 0.01\n",
       "Params size (MB): 0.51\n",
       "Estimated Total Size (MB): 0.53\n",
       "=========================================================================================="
      ]
     },
     "execution_count": 94,
     "metadata": {},
     "output_type": "execute_result"
    }
   ],
   "source": [
    "# Setup\n",
    "model = PLModel(DeepNetwork(x_train.shape[1:],\n",
    "                            len(y_train.unique()),\n",
    "                            cfg_hidden_dims, # Using CFG\n",
    "                            cfg_num_hidden_layers)) # Using CFG\n",
    "\n",
    "summary(model, input_size=(1,)+x_train.shape[1:])"
   ]
  },
  {
   "cell_type": "code",
   "execution_count": 95,
   "id": "710d234a-af0d-4f8e-9de5-b06761737258",
   "metadata": {},
   "outputs": [
    {
     "data": {
      "image/svg+xml": [
       "<?xml version=\"1.0\" encoding=\"UTF-8\" standalone=\"no\"?>\n",
       "<!DOCTYPE svg PUBLIC \"-//W3C//DTD SVG 1.1//EN\"\n",
       " \"http://www.w3.org/Graphics/SVG/1.1/DTD/svg11.dtd\">\n",
       "<!-- Generated by graphviz version 8.1.0 (20230707.2238)\n",
       " -->\n",
       "<!-- Title: model Pages: 1 -->\n",
       "<svg width=\"95pt\" height=\"2570pt\"\n",
       " viewBox=\"0.00 0.00 94.58 2570.00\" xmlns=\"http://www.w3.org/2000/svg\" xmlns:xlink=\"http://www.w3.org/1999/xlink\">\n",
       "<g id=\"graph0\" class=\"graph\" transform=\"scale(0.540484 0.540484) rotate(0) translate(4 4751)\">\n",
       "<title>model</title>\n",
       "<polygon fill=\"white\" stroke=\"none\" points=\"-4,4 -4,-4751 171,-4751 171,4 -4,4\"/>\n",
       "<!-- 0 -->\n",
       "<g id=\"node1\" class=\"node\">\n",
       "<title>0</title>\n",
       "<polygon fill=\"lightyellow\" stroke=\"none\" points=\"153.88,-4747 13.12,-4747 13.12,-4711.5 153.88,-4711.5 153.88,-4747\"/>\n",
       "<polygon fill=\"none\" stroke=\"black\" points=\"13.12,-4711.5 13.12,-4747 82.38,-4747 82.38,-4711.5 13.12,-4711.5\"/>\n",
       "<text text-anchor=\"start\" x=\"18.12\" y=\"-4732.5\" font-family=\"Linux libertine\" font-size=\"10.00\">input&#45;tensor</text>\n",
       "<text text-anchor=\"start\" x=\"29.38\" y=\"-4719.75\" font-family=\"Linux libertine\" font-size=\"10.00\">depth:0</text>\n",
       "<polygon fill=\"none\" stroke=\"black\" points=\"82.38,-4711.5 82.38,-4747 153.88,-4747 153.88,-4711.5 82.38,-4711.5\"/>\n",
       "<text text-anchor=\"start\" x=\"87.38\" y=\"-4726.12\" font-family=\"Linux libertine\" font-size=\"10.00\">(1, 32, 32, 3)</text>\n",
       "</g>\n",
       "<!-- 1 -->\n",
       "<g id=\"node2\" class=\"node\">\n",
       "<title>1</title>\n",
       "<polygon fill=\"#c1ffc1\" stroke=\"none\" points=\"167,-4675.5 0,-4675.5 0,-4631.5 167,-4631.5 167,-4675.5\"/>\n",
       "<polygon fill=\"none\" stroke=\"black\" points=\"0,-4631.5 0,-4675.5 46,-4675.5 46,-4631.5 0,-4631.5\"/>\n",
       "<text text-anchor=\"start\" x=\"5.75\" y=\"-4656.75\" font-family=\"Linux libertine\" font-size=\"10.00\">Flatten</text>\n",
       "<text text-anchor=\"start\" x=\"4.62\" y=\"-4644\" font-family=\"Linux libertine\" font-size=\"10.00\">depth:1</text>\n",
       "<polygon fill=\"none\" stroke=\"black\" points=\"46,-4653.5 46,-4675.5 93,-4675.5 93,-4653.5 46,-4653.5\"/>\n",
       "<text text-anchor=\"start\" x=\"55.62\" y=\"-4661\" font-family=\"Linux libertine\" font-size=\"10.00\">input:</text>\n",
       "<polygon fill=\"none\" stroke=\"black\" points=\"93,-4653.5 93,-4675.5 167,-4675.5 167,-4653.5 93,-4653.5\"/>\n",
       "<text text-anchor=\"start\" x=\"97.75\" y=\"-4661\" font-family=\"Linux libertine\" font-size=\"10.00\">(1, 32, 32, 3) </text>\n",
       "<polygon fill=\"none\" stroke=\"black\" points=\"46,-4631.5 46,-4653.5 93,-4653.5 93,-4631.5 46,-4631.5\"/>\n",
       "<text text-anchor=\"start\" x=\"50.75\" y=\"-4639\" font-family=\"Linux libertine\" font-size=\"10.00\">output: </text>\n",
       "<polygon fill=\"none\" stroke=\"black\" points=\"93,-4631.5 93,-4653.5 167,-4653.5 167,-4631.5 93,-4631.5\"/>\n",
       "<text text-anchor=\"start\" x=\"106.75\" y=\"-4639\" font-family=\"Linux libertine\" font-size=\"10.00\">(1, 3072) </text>\n",
       "</g>\n",
       "<!-- 0&#45;&gt;1 -->\n",
       "<g id=\"edge1\" class=\"edge\">\n",
       "<title>0&#45;&gt;1</title>\n",
       "<path fill=\"none\" stroke=\"black\" d=\"M83.5,-4711.51C83.5,-4704.07 83.5,-4695.04 83.5,-4686.39\"/>\n",
       "<polygon fill=\"black\" stroke=\"black\" points=\"87,-4686.39 83.5,-4676.39 80,-4686.39 87,-4686.39\"/>\n",
       "</g>\n",
       "<!-- 2 -->\n",
       "<g id=\"node3\" class=\"node\">\n",
       "<title>2</title>\n",
       "<polygon fill=\"#c1ffc1\" stroke=\"none\" points=\"158,-4595.5 9,-4595.5 9,-4551.5 158,-4551.5 158,-4595.5\"/>\n",
       "<polygon fill=\"none\" stroke=\"black\" points=\"9,-4551.5 9,-4595.5 55,-4595.5 55,-4551.5 9,-4551.5\"/>\n",
       "<text text-anchor=\"start\" x=\"17\" y=\"-4576.75\" font-family=\"Linux libertine\" font-size=\"10.00\">Linear</text>\n",
       "<text text-anchor=\"start\" x=\"13.62\" y=\"-4564\" font-family=\"Linux libertine\" font-size=\"10.00\">depth:2</text>\n",
       "<polygon fill=\"none\" stroke=\"black\" points=\"55,-4573.5 55,-4595.5 102,-4595.5 102,-4573.5 55,-4573.5\"/>\n",
       "<text text-anchor=\"start\" x=\"64.62\" y=\"-4581\" font-family=\"Linux libertine\" font-size=\"10.00\">input:</text>\n",
       "<polygon fill=\"none\" stroke=\"black\" points=\"102,-4573.5 102,-4595.5 158,-4595.5 158,-4573.5 102,-4573.5\"/>\n",
       "<text text-anchor=\"start\" x=\"106.75\" y=\"-4581\" font-family=\"Linux libertine\" font-size=\"10.00\">(1, 3072) </text>\n",
       "<polygon fill=\"none\" stroke=\"black\" points=\"55,-4551.5 55,-4573.5 102,-4573.5 102,-4551.5 55,-4551.5\"/>\n",
       "<text text-anchor=\"start\" x=\"59.75\" y=\"-4559\" font-family=\"Linux libertine\" font-size=\"10.00\">output: </text>\n",
       "<polygon fill=\"none\" stroke=\"black\" points=\"102,-4551.5 102,-4573.5 158,-4573.5 158,-4551.5 102,-4551.5\"/>\n",
       "<text text-anchor=\"start\" x=\"112.75\" y=\"-4559\" font-family=\"Linux libertine\" font-size=\"10.00\">(1, 34) </text>\n",
       "</g>\n",
       "<!-- 1&#45;&gt;2 -->\n",
       "<g id=\"edge2\" class=\"edge\">\n",
       "<title>1&#45;&gt;2</title>\n",
       "<path fill=\"none\" stroke=\"black\" d=\"M83.5,-4631.6C83.5,-4623.82 83.5,-4614.8 83.5,-4606.26\"/>\n",
       "<polygon fill=\"black\" stroke=\"black\" points=\"87,-4606.46 83.5,-4596.46 80,-4606.46 87,-4606.46\"/>\n",
       "</g>\n",
       "<!-- 3 -->\n",
       "<g id=\"node4\" class=\"node\">\n",
       "<title>3</title>\n",
       "<polygon fill=\"#c1ffc1\" stroke=\"none\" points=\"152,-4515.5 15,-4515.5 15,-4471.5 152,-4471.5 152,-4515.5\"/>\n",
       "<polygon fill=\"none\" stroke=\"black\" points=\"15,-4471.5 15,-4515.5 61,-4515.5 61,-4471.5 15,-4471.5\"/>\n",
       "<text text-anchor=\"start\" x=\"23\" y=\"-4496.75\" font-family=\"Linux libertine\" font-size=\"10.00\">Linear</text>\n",
       "<text text-anchor=\"start\" x=\"19.62\" y=\"-4484\" font-family=\"Linux libertine\" font-size=\"10.00\">depth:2</text>\n",
       "<polygon fill=\"none\" stroke=\"black\" points=\"61,-4493.5 61,-4515.5 108,-4515.5 108,-4493.5 61,-4493.5\"/>\n",
       "<text text-anchor=\"start\" x=\"70.62\" y=\"-4501\" font-family=\"Linux libertine\" font-size=\"10.00\">input:</text>\n",
       "<polygon fill=\"none\" stroke=\"black\" points=\"108,-4493.5 108,-4515.5 152,-4515.5 152,-4493.5 108,-4493.5\"/>\n",
       "<text text-anchor=\"start\" x=\"112.75\" y=\"-4501\" font-family=\"Linux libertine\" font-size=\"10.00\">(1, 34) </text>\n",
       "<polygon fill=\"none\" stroke=\"black\" points=\"61,-4471.5 61,-4493.5 108,-4493.5 108,-4471.5 61,-4471.5\"/>\n",
       "<text text-anchor=\"start\" x=\"65.75\" y=\"-4479\" font-family=\"Linux libertine\" font-size=\"10.00\">output: </text>\n",
       "<polygon fill=\"none\" stroke=\"black\" points=\"108,-4471.5 108,-4493.5 152,-4493.5 152,-4471.5 108,-4471.5\"/>\n",
       "<text text-anchor=\"start\" x=\"112.75\" y=\"-4479\" font-family=\"Linux libertine\" font-size=\"10.00\">(1, 34) </text>\n",
       "</g>\n",
       "<!-- 2&#45;&gt;3 -->\n",
       "<g id=\"edge3\" class=\"edge\">\n",
       "<title>2&#45;&gt;3</title>\n",
       "<path fill=\"none\" stroke=\"black\" d=\"M83.5,-4551.6C83.5,-4543.82 83.5,-4534.8 83.5,-4526.26\"/>\n",
       "<polygon fill=\"black\" stroke=\"black\" points=\"87,-4526.46 83.5,-4516.46 80,-4526.46 87,-4526.46\"/>\n",
       "</g>\n",
       "<!-- 4 -->\n",
       "<g id=\"node5\" class=\"node\">\n",
       "<title>4</title>\n",
       "<polygon fill=\"#c1ffc1\" stroke=\"none\" points=\"161,-4435.5 6,-4435.5 6,-4391.5 161,-4391.5 161,-4435.5\"/>\n",
       "<polygon fill=\"none\" stroke=\"black\" points=\"6,-4391.5 6,-4435.5 70,-4435.5 70,-4391.5 6,-4391.5\"/>\n",
       "<text text-anchor=\"start\" x=\"11\" y=\"-4416.75\" font-family=\"Linux libertine\" font-size=\"10.00\">LayerNorm</text>\n",
       "<text text-anchor=\"start\" x=\"19.62\" y=\"-4404\" font-family=\"Linux libertine\" font-size=\"10.00\">depth:2</text>\n",
       "<polygon fill=\"none\" stroke=\"black\" points=\"70,-4413.5 70,-4435.5 117,-4435.5 117,-4413.5 70,-4413.5\"/>\n",
       "<text text-anchor=\"start\" x=\"79.62\" y=\"-4421\" font-family=\"Linux libertine\" font-size=\"10.00\">input:</text>\n",
       "<polygon fill=\"none\" stroke=\"black\" points=\"117,-4413.5 117,-4435.5 161,-4435.5 161,-4413.5 117,-4413.5\"/>\n",
       "<text text-anchor=\"start\" x=\"121.75\" y=\"-4421\" font-family=\"Linux libertine\" font-size=\"10.00\">(1, 34) </text>\n",
       "<polygon fill=\"none\" stroke=\"black\" points=\"70,-4391.5 70,-4413.5 117,-4413.5 117,-4391.5 70,-4391.5\"/>\n",
       "<text text-anchor=\"start\" x=\"74.75\" y=\"-4399\" font-family=\"Linux libertine\" font-size=\"10.00\">output: </text>\n",
       "<polygon fill=\"none\" stroke=\"black\" points=\"117,-4391.5 117,-4413.5 161,-4413.5 161,-4391.5 117,-4391.5\"/>\n",
       "<text text-anchor=\"start\" x=\"121.75\" y=\"-4399\" font-family=\"Linux libertine\" font-size=\"10.00\">(1, 34) </text>\n",
       "</g>\n",
       "<!-- 3&#45;&gt;4 -->\n",
       "<g id=\"edge4\" class=\"edge\">\n",
       "<title>3&#45;&gt;4</title>\n",
       "<path fill=\"none\" stroke=\"black\" d=\"M83.5,-4471.6C83.5,-4463.82 83.5,-4454.8 83.5,-4446.26\"/>\n",
       "<polygon fill=\"black\" stroke=\"black\" points=\"87,-4446.46 83.5,-4436.46 80,-4446.46 87,-4446.46\"/>\n",
       "</g>\n",
       "<!-- 5 -->\n",
       "<g id=\"node6\" class=\"node\">\n",
       "<title>5</title>\n",
       "<polygon fill=\"#c1ffc1\" stroke=\"none\" points=\"152,-4355.5 15,-4355.5 15,-4311.5 152,-4311.5 152,-4355.5\"/>\n",
       "<polygon fill=\"none\" stroke=\"black\" points=\"15,-4311.5 15,-4355.5 61,-4355.5 61,-4311.5 15,-4311.5\"/>\n",
       "<text text-anchor=\"start\" x=\"25.25\" y=\"-4336.75\" font-family=\"Linux libertine\" font-size=\"10.00\">ReLU</text>\n",
       "<text text-anchor=\"start\" x=\"19.62\" y=\"-4324\" font-family=\"Linux libertine\" font-size=\"10.00\">depth:2</text>\n",
       "<polygon fill=\"none\" stroke=\"black\" points=\"61,-4333.5 61,-4355.5 108,-4355.5 108,-4333.5 61,-4333.5\"/>\n",
       "<text text-anchor=\"start\" x=\"70.62\" y=\"-4341\" font-family=\"Linux libertine\" font-size=\"10.00\">input:</text>\n",
       "<polygon fill=\"none\" stroke=\"black\" points=\"108,-4333.5 108,-4355.5 152,-4355.5 152,-4333.5 108,-4333.5\"/>\n",
       "<text text-anchor=\"start\" x=\"112.75\" y=\"-4341\" font-family=\"Linux libertine\" font-size=\"10.00\">(1, 34) </text>\n",
       "<polygon fill=\"none\" stroke=\"black\" points=\"61,-4311.5 61,-4333.5 108,-4333.5 108,-4311.5 61,-4311.5\"/>\n",
       "<text text-anchor=\"start\" x=\"65.75\" y=\"-4319\" font-family=\"Linux libertine\" font-size=\"10.00\">output: </text>\n",
       "<polygon fill=\"none\" stroke=\"black\" points=\"108,-4311.5 108,-4333.5 152,-4333.5 152,-4311.5 108,-4311.5\"/>\n",
       "<text text-anchor=\"start\" x=\"112.75\" y=\"-4319\" font-family=\"Linux libertine\" font-size=\"10.00\">(1, 34) </text>\n",
       "</g>\n",
       "<!-- 4&#45;&gt;5 -->\n",
       "<g id=\"edge5\" class=\"edge\">\n",
       "<title>4&#45;&gt;5</title>\n",
       "<path fill=\"none\" stroke=\"black\" d=\"M83.5,-4391.6C83.5,-4383.82 83.5,-4374.8 83.5,-4366.26\"/>\n",
       "<polygon fill=\"black\" stroke=\"black\" points=\"87,-4366.46 83.5,-4356.46 80,-4366.46 87,-4366.46\"/>\n",
       "</g>\n",
       "<!-- 6 -->\n",
       "<g id=\"node7\" class=\"node\">\n",
       "<title>6</title>\n",
       "<polygon fill=\"#c1ffc1\" stroke=\"none\" points=\"152,-4275.5 15,-4275.5 15,-4231.5 152,-4231.5 152,-4275.5\"/>\n",
       "<polygon fill=\"none\" stroke=\"black\" points=\"15,-4231.5 15,-4275.5 61,-4275.5 61,-4231.5 15,-4231.5\"/>\n",
       "<text text-anchor=\"start\" x=\"23\" y=\"-4256.75\" font-family=\"Linux libertine\" font-size=\"10.00\">Linear</text>\n",
       "<text text-anchor=\"start\" x=\"19.62\" y=\"-4244\" font-family=\"Linux libertine\" font-size=\"10.00\">depth:2</text>\n",
       "<polygon fill=\"none\" stroke=\"black\" points=\"61,-4253.5 61,-4275.5 108,-4275.5 108,-4253.5 61,-4253.5\"/>\n",
       "<text text-anchor=\"start\" x=\"70.62\" y=\"-4261\" font-family=\"Linux libertine\" font-size=\"10.00\">input:</text>\n",
       "<polygon fill=\"none\" stroke=\"black\" points=\"108,-4253.5 108,-4275.5 152,-4275.5 152,-4253.5 108,-4253.5\"/>\n",
       "<text text-anchor=\"start\" x=\"112.75\" y=\"-4261\" font-family=\"Linux libertine\" font-size=\"10.00\">(1, 34) </text>\n",
       "<polygon fill=\"none\" stroke=\"black\" points=\"61,-4231.5 61,-4253.5 108,-4253.5 108,-4231.5 61,-4231.5\"/>\n",
       "<text text-anchor=\"start\" x=\"65.75\" y=\"-4239\" font-family=\"Linux libertine\" font-size=\"10.00\">output: </text>\n",
       "<polygon fill=\"none\" stroke=\"black\" points=\"108,-4231.5 108,-4253.5 152,-4253.5 152,-4231.5 108,-4231.5\"/>\n",
       "<text text-anchor=\"start\" x=\"112.75\" y=\"-4239\" font-family=\"Linux libertine\" font-size=\"10.00\">(1, 34) </text>\n",
       "</g>\n",
       "<!-- 5&#45;&gt;6 -->\n",
       "<g id=\"edge6\" class=\"edge\">\n",
       "<title>5&#45;&gt;6</title>\n",
       "<path fill=\"none\" stroke=\"black\" d=\"M83.5,-4311.6C83.5,-4303.82 83.5,-4294.8 83.5,-4286.26\"/>\n",
       "<polygon fill=\"black\" stroke=\"black\" points=\"87,-4286.46 83.5,-4276.46 80,-4286.46 87,-4286.46\"/>\n",
       "</g>\n",
       "<!-- 7 -->\n",
       "<g id=\"node8\" class=\"node\">\n",
       "<title>7</title>\n",
       "<polygon fill=\"#c1ffc1\" stroke=\"none\" points=\"161,-4195.5 6,-4195.5 6,-4151.5 161,-4151.5 161,-4195.5\"/>\n",
       "<polygon fill=\"none\" stroke=\"black\" points=\"6,-4151.5 6,-4195.5 70,-4195.5 70,-4151.5 6,-4151.5\"/>\n",
       "<text text-anchor=\"start\" x=\"11\" y=\"-4176.75\" font-family=\"Linux libertine\" font-size=\"10.00\">LayerNorm</text>\n",
       "<text text-anchor=\"start\" x=\"19.62\" y=\"-4164\" font-family=\"Linux libertine\" font-size=\"10.00\">depth:2</text>\n",
       "<polygon fill=\"none\" stroke=\"black\" points=\"70,-4173.5 70,-4195.5 117,-4195.5 117,-4173.5 70,-4173.5\"/>\n",
       "<text text-anchor=\"start\" x=\"79.62\" y=\"-4181\" font-family=\"Linux libertine\" font-size=\"10.00\">input:</text>\n",
       "<polygon fill=\"none\" stroke=\"black\" points=\"117,-4173.5 117,-4195.5 161,-4195.5 161,-4173.5 117,-4173.5\"/>\n",
       "<text text-anchor=\"start\" x=\"121.75\" y=\"-4181\" font-family=\"Linux libertine\" font-size=\"10.00\">(1, 34) </text>\n",
       "<polygon fill=\"none\" stroke=\"black\" points=\"70,-4151.5 70,-4173.5 117,-4173.5 117,-4151.5 70,-4151.5\"/>\n",
       "<text text-anchor=\"start\" x=\"74.75\" y=\"-4159\" font-family=\"Linux libertine\" font-size=\"10.00\">output: </text>\n",
       "<polygon fill=\"none\" stroke=\"black\" points=\"117,-4151.5 117,-4173.5 161,-4173.5 161,-4151.5 117,-4151.5\"/>\n",
       "<text text-anchor=\"start\" x=\"121.75\" y=\"-4159\" font-family=\"Linux libertine\" font-size=\"10.00\">(1, 34) </text>\n",
       "</g>\n",
       "<!-- 6&#45;&gt;7 -->\n",
       "<g id=\"edge7\" class=\"edge\">\n",
       "<title>6&#45;&gt;7</title>\n",
       "<path fill=\"none\" stroke=\"black\" d=\"M83.5,-4231.6C83.5,-4223.82 83.5,-4214.8 83.5,-4206.26\"/>\n",
       "<polygon fill=\"black\" stroke=\"black\" points=\"87,-4206.46 83.5,-4196.46 80,-4206.46 87,-4206.46\"/>\n",
       "</g>\n",
       "<!-- 8 -->\n",
       "<g id=\"node9\" class=\"node\">\n",
       "<title>8</title>\n",
       "<polygon fill=\"#c1ffc1\" stroke=\"none\" points=\"152,-4115.5 15,-4115.5 15,-4071.5 152,-4071.5 152,-4115.5\"/>\n",
       "<polygon fill=\"none\" stroke=\"black\" points=\"15,-4071.5 15,-4115.5 61,-4115.5 61,-4071.5 15,-4071.5\"/>\n",
       "<text text-anchor=\"start\" x=\"25.25\" y=\"-4096.75\" font-family=\"Linux libertine\" font-size=\"10.00\">ReLU</text>\n",
       "<text text-anchor=\"start\" x=\"19.62\" y=\"-4084\" font-family=\"Linux libertine\" font-size=\"10.00\">depth:2</text>\n",
       "<polygon fill=\"none\" stroke=\"black\" points=\"61,-4093.5 61,-4115.5 108,-4115.5 108,-4093.5 61,-4093.5\"/>\n",
       "<text text-anchor=\"start\" x=\"70.62\" y=\"-4101\" font-family=\"Linux libertine\" font-size=\"10.00\">input:</text>\n",
       "<polygon fill=\"none\" stroke=\"black\" points=\"108,-4093.5 108,-4115.5 152,-4115.5 152,-4093.5 108,-4093.5\"/>\n",
       "<text text-anchor=\"start\" x=\"112.75\" y=\"-4101\" font-family=\"Linux libertine\" font-size=\"10.00\">(1, 34) </text>\n",
       "<polygon fill=\"none\" stroke=\"black\" points=\"61,-4071.5 61,-4093.5 108,-4093.5 108,-4071.5 61,-4071.5\"/>\n",
       "<text text-anchor=\"start\" x=\"65.75\" y=\"-4079\" font-family=\"Linux libertine\" font-size=\"10.00\">output: </text>\n",
       "<polygon fill=\"none\" stroke=\"black\" points=\"108,-4071.5 108,-4093.5 152,-4093.5 152,-4071.5 108,-4071.5\"/>\n",
       "<text text-anchor=\"start\" x=\"112.75\" y=\"-4079\" font-family=\"Linux libertine\" font-size=\"10.00\">(1, 34) </text>\n",
       "</g>\n",
       "<!-- 7&#45;&gt;8 -->\n",
       "<g id=\"edge8\" class=\"edge\">\n",
       "<title>7&#45;&gt;8</title>\n",
       "<path fill=\"none\" stroke=\"black\" d=\"M83.5,-4151.6C83.5,-4143.82 83.5,-4134.8 83.5,-4126.26\"/>\n",
       "<polygon fill=\"black\" stroke=\"black\" points=\"87,-4126.46 83.5,-4116.46 80,-4126.46 87,-4126.46\"/>\n",
       "</g>\n",
       "<!-- 9 -->\n",
       "<g id=\"node10\" class=\"node\">\n",
       "<title>9</title>\n",
       "<polygon fill=\"#c1ffc1\" stroke=\"none\" points=\"152,-4035.5 15,-4035.5 15,-3991.5 152,-3991.5 152,-4035.5\"/>\n",
       "<polygon fill=\"none\" stroke=\"black\" points=\"15,-3991.5 15,-4035.5 61,-4035.5 61,-3991.5 15,-3991.5\"/>\n",
       "<text text-anchor=\"start\" x=\"23\" y=\"-4016.75\" font-family=\"Linux libertine\" font-size=\"10.00\">Linear</text>\n",
       "<text text-anchor=\"start\" x=\"19.62\" y=\"-4004\" font-family=\"Linux libertine\" font-size=\"10.00\">depth:2</text>\n",
       "<polygon fill=\"none\" stroke=\"black\" points=\"61,-4013.5 61,-4035.5 108,-4035.5 108,-4013.5 61,-4013.5\"/>\n",
       "<text text-anchor=\"start\" x=\"70.62\" y=\"-4021\" font-family=\"Linux libertine\" font-size=\"10.00\">input:</text>\n",
       "<polygon fill=\"none\" stroke=\"black\" points=\"108,-4013.5 108,-4035.5 152,-4035.5 152,-4013.5 108,-4013.5\"/>\n",
       "<text text-anchor=\"start\" x=\"112.75\" y=\"-4021\" font-family=\"Linux libertine\" font-size=\"10.00\">(1, 34) </text>\n",
       "<polygon fill=\"none\" stroke=\"black\" points=\"61,-3991.5 61,-4013.5 108,-4013.5 108,-3991.5 61,-3991.5\"/>\n",
       "<text text-anchor=\"start\" x=\"65.75\" y=\"-3999\" font-family=\"Linux libertine\" font-size=\"10.00\">output: </text>\n",
       "<polygon fill=\"none\" stroke=\"black\" points=\"108,-3991.5 108,-4013.5 152,-4013.5 152,-3991.5 108,-3991.5\"/>\n",
       "<text text-anchor=\"start\" x=\"112.75\" y=\"-3999\" font-family=\"Linux libertine\" font-size=\"10.00\">(1, 34) </text>\n",
       "</g>\n",
       "<!-- 8&#45;&gt;9 -->\n",
       "<g id=\"edge9\" class=\"edge\">\n",
       "<title>8&#45;&gt;9</title>\n",
       "<path fill=\"none\" stroke=\"black\" d=\"M83.5,-4071.6C83.5,-4063.82 83.5,-4054.8 83.5,-4046.26\"/>\n",
       "<polygon fill=\"black\" stroke=\"black\" points=\"87,-4046.46 83.5,-4036.46 80,-4046.46 87,-4046.46\"/>\n",
       "</g>\n",
       "<!-- 10 -->\n",
       "<g id=\"node11\" class=\"node\">\n",
       "<title>10</title>\n",
       "<polygon fill=\"#c1ffc1\" stroke=\"none\" points=\"161,-3955.5 6,-3955.5 6,-3911.5 161,-3911.5 161,-3955.5\"/>\n",
       "<polygon fill=\"none\" stroke=\"black\" points=\"6,-3911.5 6,-3955.5 70,-3955.5 70,-3911.5 6,-3911.5\"/>\n",
       "<text text-anchor=\"start\" x=\"11\" y=\"-3936.75\" font-family=\"Linux libertine\" font-size=\"10.00\">LayerNorm</text>\n",
       "<text text-anchor=\"start\" x=\"19.62\" y=\"-3924\" font-family=\"Linux libertine\" font-size=\"10.00\">depth:2</text>\n",
       "<polygon fill=\"none\" stroke=\"black\" points=\"70,-3933.5 70,-3955.5 117,-3955.5 117,-3933.5 70,-3933.5\"/>\n",
       "<text text-anchor=\"start\" x=\"79.62\" y=\"-3941\" font-family=\"Linux libertine\" font-size=\"10.00\">input:</text>\n",
       "<polygon fill=\"none\" stroke=\"black\" points=\"117,-3933.5 117,-3955.5 161,-3955.5 161,-3933.5 117,-3933.5\"/>\n",
       "<text text-anchor=\"start\" x=\"121.75\" y=\"-3941\" font-family=\"Linux libertine\" font-size=\"10.00\">(1, 34) </text>\n",
       "<polygon fill=\"none\" stroke=\"black\" points=\"70,-3911.5 70,-3933.5 117,-3933.5 117,-3911.5 70,-3911.5\"/>\n",
       "<text text-anchor=\"start\" x=\"74.75\" y=\"-3919\" font-family=\"Linux libertine\" font-size=\"10.00\">output: </text>\n",
       "<polygon fill=\"none\" stroke=\"black\" points=\"117,-3911.5 117,-3933.5 161,-3933.5 161,-3911.5 117,-3911.5\"/>\n",
       "<text text-anchor=\"start\" x=\"121.75\" y=\"-3919\" font-family=\"Linux libertine\" font-size=\"10.00\">(1, 34) </text>\n",
       "</g>\n",
       "<!-- 9&#45;&gt;10 -->\n",
       "<g id=\"edge10\" class=\"edge\">\n",
       "<title>9&#45;&gt;10</title>\n",
       "<path fill=\"none\" stroke=\"black\" d=\"M83.5,-3991.6C83.5,-3983.82 83.5,-3974.8 83.5,-3966.26\"/>\n",
       "<polygon fill=\"black\" stroke=\"black\" points=\"87,-3966.46 83.5,-3956.46 80,-3966.46 87,-3966.46\"/>\n",
       "</g>\n",
       "<!-- 11 -->\n",
       "<g id=\"node12\" class=\"node\">\n",
       "<title>11</title>\n",
       "<polygon fill=\"#c1ffc1\" stroke=\"none\" points=\"152,-3875.5 15,-3875.5 15,-3831.5 152,-3831.5 152,-3875.5\"/>\n",
       "<polygon fill=\"none\" stroke=\"black\" points=\"15,-3831.5 15,-3875.5 61,-3875.5 61,-3831.5 15,-3831.5\"/>\n",
       "<text text-anchor=\"start\" x=\"25.25\" y=\"-3856.75\" font-family=\"Linux libertine\" font-size=\"10.00\">ReLU</text>\n",
       "<text text-anchor=\"start\" x=\"19.62\" y=\"-3844\" font-family=\"Linux libertine\" font-size=\"10.00\">depth:2</text>\n",
       "<polygon fill=\"none\" stroke=\"black\" points=\"61,-3853.5 61,-3875.5 108,-3875.5 108,-3853.5 61,-3853.5\"/>\n",
       "<text text-anchor=\"start\" x=\"70.62\" y=\"-3861\" font-family=\"Linux libertine\" font-size=\"10.00\">input:</text>\n",
       "<polygon fill=\"none\" stroke=\"black\" points=\"108,-3853.5 108,-3875.5 152,-3875.5 152,-3853.5 108,-3853.5\"/>\n",
       "<text text-anchor=\"start\" x=\"112.75\" y=\"-3861\" font-family=\"Linux libertine\" font-size=\"10.00\">(1, 34) </text>\n",
       "<polygon fill=\"none\" stroke=\"black\" points=\"61,-3831.5 61,-3853.5 108,-3853.5 108,-3831.5 61,-3831.5\"/>\n",
       "<text text-anchor=\"start\" x=\"65.75\" y=\"-3839\" font-family=\"Linux libertine\" font-size=\"10.00\">output: </text>\n",
       "<polygon fill=\"none\" stroke=\"black\" points=\"108,-3831.5 108,-3853.5 152,-3853.5 152,-3831.5 108,-3831.5\"/>\n",
       "<text text-anchor=\"start\" x=\"112.75\" y=\"-3839\" font-family=\"Linux libertine\" font-size=\"10.00\">(1, 34) </text>\n",
       "</g>\n",
       "<!-- 10&#45;&gt;11 -->\n",
       "<g id=\"edge11\" class=\"edge\">\n",
       "<title>10&#45;&gt;11</title>\n",
       "<path fill=\"none\" stroke=\"black\" d=\"M83.5,-3911.6C83.5,-3903.82 83.5,-3894.8 83.5,-3886.26\"/>\n",
       "<polygon fill=\"black\" stroke=\"black\" points=\"87,-3886.46 83.5,-3876.46 80,-3886.46 87,-3886.46\"/>\n",
       "</g>\n",
       "<!-- 12 -->\n",
       "<g id=\"node13\" class=\"node\">\n",
       "<title>12</title>\n",
       "<polygon fill=\"#c1ffc1\" stroke=\"none\" points=\"152,-3795.5 15,-3795.5 15,-3751.5 152,-3751.5 152,-3795.5\"/>\n",
       "<polygon fill=\"none\" stroke=\"black\" points=\"15,-3751.5 15,-3795.5 61,-3795.5 61,-3751.5 15,-3751.5\"/>\n",
       "<text text-anchor=\"start\" x=\"23\" y=\"-3776.75\" font-family=\"Linux libertine\" font-size=\"10.00\">Linear</text>\n",
       "<text text-anchor=\"start\" x=\"19.62\" y=\"-3764\" font-family=\"Linux libertine\" font-size=\"10.00\">depth:2</text>\n",
       "<polygon fill=\"none\" stroke=\"black\" points=\"61,-3773.5 61,-3795.5 108,-3795.5 108,-3773.5 61,-3773.5\"/>\n",
       "<text text-anchor=\"start\" x=\"70.62\" y=\"-3781\" font-family=\"Linux libertine\" font-size=\"10.00\">input:</text>\n",
       "<polygon fill=\"none\" stroke=\"black\" points=\"108,-3773.5 108,-3795.5 152,-3795.5 152,-3773.5 108,-3773.5\"/>\n",
       "<text text-anchor=\"start\" x=\"112.75\" y=\"-3781\" font-family=\"Linux libertine\" font-size=\"10.00\">(1, 34) </text>\n",
       "<polygon fill=\"none\" stroke=\"black\" points=\"61,-3751.5 61,-3773.5 108,-3773.5 108,-3751.5 61,-3751.5\"/>\n",
       "<text text-anchor=\"start\" x=\"65.75\" y=\"-3759\" font-family=\"Linux libertine\" font-size=\"10.00\">output: </text>\n",
       "<polygon fill=\"none\" stroke=\"black\" points=\"108,-3751.5 108,-3773.5 152,-3773.5 152,-3751.5 108,-3751.5\"/>\n",
       "<text text-anchor=\"start\" x=\"112.75\" y=\"-3759\" font-family=\"Linux libertine\" font-size=\"10.00\">(1, 34) </text>\n",
       "</g>\n",
       "<!-- 11&#45;&gt;12 -->\n",
       "<g id=\"edge12\" class=\"edge\">\n",
       "<title>11&#45;&gt;12</title>\n",
       "<path fill=\"none\" stroke=\"black\" d=\"M83.5,-3831.6C83.5,-3823.82 83.5,-3814.8 83.5,-3806.26\"/>\n",
       "<polygon fill=\"black\" stroke=\"black\" points=\"87,-3806.46 83.5,-3796.46 80,-3806.46 87,-3806.46\"/>\n",
       "</g>\n",
       "<!-- 13 -->\n",
       "<g id=\"node14\" class=\"node\">\n",
       "<title>13</title>\n",
       "<polygon fill=\"#c1ffc1\" stroke=\"none\" points=\"161,-3715.5 6,-3715.5 6,-3671.5 161,-3671.5 161,-3715.5\"/>\n",
       "<polygon fill=\"none\" stroke=\"black\" points=\"6,-3671.5 6,-3715.5 70,-3715.5 70,-3671.5 6,-3671.5\"/>\n",
       "<text text-anchor=\"start\" x=\"11\" y=\"-3696.75\" font-family=\"Linux libertine\" font-size=\"10.00\">LayerNorm</text>\n",
       "<text text-anchor=\"start\" x=\"19.62\" y=\"-3684\" font-family=\"Linux libertine\" font-size=\"10.00\">depth:2</text>\n",
       "<polygon fill=\"none\" stroke=\"black\" points=\"70,-3693.5 70,-3715.5 117,-3715.5 117,-3693.5 70,-3693.5\"/>\n",
       "<text text-anchor=\"start\" x=\"79.62\" y=\"-3701\" font-family=\"Linux libertine\" font-size=\"10.00\">input:</text>\n",
       "<polygon fill=\"none\" stroke=\"black\" points=\"117,-3693.5 117,-3715.5 161,-3715.5 161,-3693.5 117,-3693.5\"/>\n",
       "<text text-anchor=\"start\" x=\"121.75\" y=\"-3701\" font-family=\"Linux libertine\" font-size=\"10.00\">(1, 34) </text>\n",
       "<polygon fill=\"none\" stroke=\"black\" points=\"70,-3671.5 70,-3693.5 117,-3693.5 117,-3671.5 70,-3671.5\"/>\n",
       "<text text-anchor=\"start\" x=\"74.75\" y=\"-3679\" font-family=\"Linux libertine\" font-size=\"10.00\">output: </text>\n",
       "<polygon fill=\"none\" stroke=\"black\" points=\"117,-3671.5 117,-3693.5 161,-3693.5 161,-3671.5 117,-3671.5\"/>\n",
       "<text text-anchor=\"start\" x=\"121.75\" y=\"-3679\" font-family=\"Linux libertine\" font-size=\"10.00\">(1, 34) </text>\n",
       "</g>\n",
       "<!-- 12&#45;&gt;13 -->\n",
       "<g id=\"edge13\" class=\"edge\">\n",
       "<title>12&#45;&gt;13</title>\n",
       "<path fill=\"none\" stroke=\"black\" d=\"M83.5,-3751.6C83.5,-3743.82 83.5,-3734.8 83.5,-3726.26\"/>\n",
       "<polygon fill=\"black\" stroke=\"black\" points=\"87,-3726.46 83.5,-3716.46 80,-3726.46 87,-3726.46\"/>\n",
       "</g>\n",
       "<!-- 14 -->\n",
       "<g id=\"node15\" class=\"node\">\n",
       "<title>14</title>\n",
       "<polygon fill=\"#c1ffc1\" stroke=\"none\" points=\"152,-3635.5 15,-3635.5 15,-3591.5 152,-3591.5 152,-3635.5\"/>\n",
       "<polygon fill=\"none\" stroke=\"black\" points=\"15,-3591.5 15,-3635.5 61,-3635.5 61,-3591.5 15,-3591.5\"/>\n",
       "<text text-anchor=\"start\" x=\"25.25\" y=\"-3616.75\" font-family=\"Linux libertine\" font-size=\"10.00\">ReLU</text>\n",
       "<text text-anchor=\"start\" x=\"19.62\" y=\"-3604\" font-family=\"Linux libertine\" font-size=\"10.00\">depth:2</text>\n",
       "<polygon fill=\"none\" stroke=\"black\" points=\"61,-3613.5 61,-3635.5 108,-3635.5 108,-3613.5 61,-3613.5\"/>\n",
       "<text text-anchor=\"start\" x=\"70.62\" y=\"-3621\" font-family=\"Linux libertine\" font-size=\"10.00\">input:</text>\n",
       "<polygon fill=\"none\" stroke=\"black\" points=\"108,-3613.5 108,-3635.5 152,-3635.5 152,-3613.5 108,-3613.5\"/>\n",
       "<text text-anchor=\"start\" x=\"112.75\" y=\"-3621\" font-family=\"Linux libertine\" font-size=\"10.00\">(1, 34) </text>\n",
       "<polygon fill=\"none\" stroke=\"black\" points=\"61,-3591.5 61,-3613.5 108,-3613.5 108,-3591.5 61,-3591.5\"/>\n",
       "<text text-anchor=\"start\" x=\"65.75\" y=\"-3599\" font-family=\"Linux libertine\" font-size=\"10.00\">output: </text>\n",
       "<polygon fill=\"none\" stroke=\"black\" points=\"108,-3591.5 108,-3613.5 152,-3613.5 152,-3591.5 108,-3591.5\"/>\n",
       "<text text-anchor=\"start\" x=\"112.75\" y=\"-3599\" font-family=\"Linux libertine\" font-size=\"10.00\">(1, 34) </text>\n",
       "</g>\n",
       "<!-- 13&#45;&gt;14 -->\n",
       "<g id=\"edge14\" class=\"edge\">\n",
       "<title>13&#45;&gt;14</title>\n",
       "<path fill=\"none\" stroke=\"black\" d=\"M83.5,-3671.6C83.5,-3663.82 83.5,-3654.8 83.5,-3646.26\"/>\n",
       "<polygon fill=\"black\" stroke=\"black\" points=\"87,-3646.46 83.5,-3636.46 80,-3646.46 87,-3646.46\"/>\n",
       "</g>\n",
       "<!-- 15 -->\n",
       "<g id=\"node16\" class=\"node\">\n",
       "<title>15</title>\n",
       "<polygon fill=\"#c1ffc1\" stroke=\"none\" points=\"152,-3555.5 15,-3555.5 15,-3511.5 152,-3511.5 152,-3555.5\"/>\n",
       "<polygon fill=\"none\" stroke=\"black\" points=\"15,-3511.5 15,-3555.5 61,-3555.5 61,-3511.5 15,-3511.5\"/>\n",
       "<text text-anchor=\"start\" x=\"23\" y=\"-3536.75\" font-family=\"Linux libertine\" font-size=\"10.00\">Linear</text>\n",
       "<text text-anchor=\"start\" x=\"19.62\" y=\"-3524\" font-family=\"Linux libertine\" font-size=\"10.00\">depth:2</text>\n",
       "<polygon fill=\"none\" stroke=\"black\" points=\"61,-3533.5 61,-3555.5 108,-3555.5 108,-3533.5 61,-3533.5\"/>\n",
       "<text text-anchor=\"start\" x=\"70.62\" y=\"-3541\" font-family=\"Linux libertine\" font-size=\"10.00\">input:</text>\n",
       "<polygon fill=\"none\" stroke=\"black\" points=\"108,-3533.5 108,-3555.5 152,-3555.5 152,-3533.5 108,-3533.5\"/>\n",
       "<text text-anchor=\"start\" x=\"112.75\" y=\"-3541\" font-family=\"Linux libertine\" font-size=\"10.00\">(1, 34) </text>\n",
       "<polygon fill=\"none\" stroke=\"black\" points=\"61,-3511.5 61,-3533.5 108,-3533.5 108,-3511.5 61,-3511.5\"/>\n",
       "<text text-anchor=\"start\" x=\"65.75\" y=\"-3519\" font-family=\"Linux libertine\" font-size=\"10.00\">output: </text>\n",
       "<polygon fill=\"none\" stroke=\"black\" points=\"108,-3511.5 108,-3533.5 152,-3533.5 152,-3511.5 108,-3511.5\"/>\n",
       "<text text-anchor=\"start\" x=\"112.75\" y=\"-3519\" font-family=\"Linux libertine\" font-size=\"10.00\">(1, 34) </text>\n",
       "</g>\n",
       "<!-- 14&#45;&gt;15 -->\n",
       "<g id=\"edge15\" class=\"edge\">\n",
       "<title>14&#45;&gt;15</title>\n",
       "<path fill=\"none\" stroke=\"black\" d=\"M83.5,-3591.6C83.5,-3583.82 83.5,-3574.8 83.5,-3566.26\"/>\n",
       "<polygon fill=\"black\" stroke=\"black\" points=\"87,-3566.46 83.5,-3556.46 80,-3566.46 87,-3566.46\"/>\n",
       "</g>\n",
       "<!-- 16 -->\n",
       "<g id=\"node17\" class=\"node\">\n",
       "<title>16</title>\n",
       "<polygon fill=\"#c1ffc1\" stroke=\"none\" points=\"161,-3475.5 6,-3475.5 6,-3431.5 161,-3431.5 161,-3475.5\"/>\n",
       "<polygon fill=\"none\" stroke=\"black\" points=\"6,-3431.5 6,-3475.5 70,-3475.5 70,-3431.5 6,-3431.5\"/>\n",
       "<text text-anchor=\"start\" x=\"11\" y=\"-3456.75\" font-family=\"Linux libertine\" font-size=\"10.00\">LayerNorm</text>\n",
       "<text text-anchor=\"start\" x=\"19.62\" y=\"-3444\" font-family=\"Linux libertine\" font-size=\"10.00\">depth:2</text>\n",
       "<polygon fill=\"none\" stroke=\"black\" points=\"70,-3453.5 70,-3475.5 117,-3475.5 117,-3453.5 70,-3453.5\"/>\n",
       "<text text-anchor=\"start\" x=\"79.62\" y=\"-3461\" font-family=\"Linux libertine\" font-size=\"10.00\">input:</text>\n",
       "<polygon fill=\"none\" stroke=\"black\" points=\"117,-3453.5 117,-3475.5 161,-3475.5 161,-3453.5 117,-3453.5\"/>\n",
       "<text text-anchor=\"start\" x=\"121.75\" y=\"-3461\" font-family=\"Linux libertine\" font-size=\"10.00\">(1, 34) </text>\n",
       "<polygon fill=\"none\" stroke=\"black\" points=\"70,-3431.5 70,-3453.5 117,-3453.5 117,-3431.5 70,-3431.5\"/>\n",
       "<text text-anchor=\"start\" x=\"74.75\" y=\"-3439\" font-family=\"Linux libertine\" font-size=\"10.00\">output: </text>\n",
       "<polygon fill=\"none\" stroke=\"black\" points=\"117,-3431.5 117,-3453.5 161,-3453.5 161,-3431.5 117,-3431.5\"/>\n",
       "<text text-anchor=\"start\" x=\"121.75\" y=\"-3439\" font-family=\"Linux libertine\" font-size=\"10.00\">(1, 34) </text>\n",
       "</g>\n",
       "<!-- 15&#45;&gt;16 -->\n",
       "<g id=\"edge16\" class=\"edge\">\n",
       "<title>15&#45;&gt;16</title>\n",
       "<path fill=\"none\" stroke=\"black\" d=\"M83.5,-3511.6C83.5,-3503.82 83.5,-3494.8 83.5,-3486.26\"/>\n",
       "<polygon fill=\"black\" stroke=\"black\" points=\"87,-3486.46 83.5,-3476.46 80,-3486.46 87,-3486.46\"/>\n",
       "</g>\n",
       "<!-- 17 -->\n",
       "<g id=\"node18\" class=\"node\">\n",
       "<title>17</title>\n",
       "<polygon fill=\"#c1ffc1\" stroke=\"none\" points=\"152,-3395.5 15,-3395.5 15,-3351.5 152,-3351.5 152,-3395.5\"/>\n",
       "<polygon fill=\"none\" stroke=\"black\" points=\"15,-3351.5 15,-3395.5 61,-3395.5 61,-3351.5 15,-3351.5\"/>\n",
       "<text text-anchor=\"start\" x=\"25.25\" y=\"-3376.75\" font-family=\"Linux libertine\" font-size=\"10.00\">ReLU</text>\n",
       "<text text-anchor=\"start\" x=\"19.62\" y=\"-3364\" font-family=\"Linux libertine\" font-size=\"10.00\">depth:2</text>\n",
       "<polygon fill=\"none\" stroke=\"black\" points=\"61,-3373.5 61,-3395.5 108,-3395.5 108,-3373.5 61,-3373.5\"/>\n",
       "<text text-anchor=\"start\" x=\"70.62\" y=\"-3381\" font-family=\"Linux libertine\" font-size=\"10.00\">input:</text>\n",
       "<polygon fill=\"none\" stroke=\"black\" points=\"108,-3373.5 108,-3395.5 152,-3395.5 152,-3373.5 108,-3373.5\"/>\n",
       "<text text-anchor=\"start\" x=\"112.75\" y=\"-3381\" font-family=\"Linux libertine\" font-size=\"10.00\">(1, 34) </text>\n",
       "<polygon fill=\"none\" stroke=\"black\" points=\"61,-3351.5 61,-3373.5 108,-3373.5 108,-3351.5 61,-3351.5\"/>\n",
       "<text text-anchor=\"start\" x=\"65.75\" y=\"-3359\" font-family=\"Linux libertine\" font-size=\"10.00\">output: </text>\n",
       "<polygon fill=\"none\" stroke=\"black\" points=\"108,-3351.5 108,-3373.5 152,-3373.5 152,-3351.5 108,-3351.5\"/>\n",
       "<text text-anchor=\"start\" x=\"112.75\" y=\"-3359\" font-family=\"Linux libertine\" font-size=\"10.00\">(1, 34) </text>\n",
       "</g>\n",
       "<!-- 16&#45;&gt;17 -->\n",
       "<g id=\"edge17\" class=\"edge\">\n",
       "<title>16&#45;&gt;17</title>\n",
       "<path fill=\"none\" stroke=\"black\" d=\"M83.5,-3431.6C83.5,-3423.82 83.5,-3414.8 83.5,-3406.26\"/>\n",
       "<polygon fill=\"black\" stroke=\"black\" points=\"87,-3406.46 83.5,-3396.46 80,-3406.46 87,-3406.46\"/>\n",
       "</g>\n",
       "<!-- 18 -->\n",
       "<g id=\"node19\" class=\"node\">\n",
       "<title>18</title>\n",
       "<polygon fill=\"#c1ffc1\" stroke=\"none\" points=\"152,-3315.5 15,-3315.5 15,-3271.5 152,-3271.5 152,-3315.5\"/>\n",
       "<polygon fill=\"none\" stroke=\"black\" points=\"15,-3271.5 15,-3315.5 61,-3315.5 61,-3271.5 15,-3271.5\"/>\n",
       "<text text-anchor=\"start\" x=\"23\" y=\"-3296.75\" font-family=\"Linux libertine\" font-size=\"10.00\">Linear</text>\n",
       "<text text-anchor=\"start\" x=\"19.62\" y=\"-3284\" font-family=\"Linux libertine\" font-size=\"10.00\">depth:2</text>\n",
       "<polygon fill=\"none\" stroke=\"black\" points=\"61,-3293.5 61,-3315.5 108,-3315.5 108,-3293.5 61,-3293.5\"/>\n",
       "<text text-anchor=\"start\" x=\"70.62\" y=\"-3301\" font-family=\"Linux libertine\" font-size=\"10.00\">input:</text>\n",
       "<polygon fill=\"none\" stroke=\"black\" points=\"108,-3293.5 108,-3315.5 152,-3315.5 152,-3293.5 108,-3293.5\"/>\n",
       "<text text-anchor=\"start\" x=\"112.75\" y=\"-3301\" font-family=\"Linux libertine\" font-size=\"10.00\">(1, 34) </text>\n",
       "<polygon fill=\"none\" stroke=\"black\" points=\"61,-3271.5 61,-3293.5 108,-3293.5 108,-3271.5 61,-3271.5\"/>\n",
       "<text text-anchor=\"start\" x=\"65.75\" y=\"-3279\" font-family=\"Linux libertine\" font-size=\"10.00\">output: </text>\n",
       "<polygon fill=\"none\" stroke=\"black\" points=\"108,-3271.5 108,-3293.5 152,-3293.5 152,-3271.5 108,-3271.5\"/>\n",
       "<text text-anchor=\"start\" x=\"112.75\" y=\"-3279\" font-family=\"Linux libertine\" font-size=\"10.00\">(1, 34) </text>\n",
       "</g>\n",
       "<!-- 17&#45;&gt;18 -->\n",
       "<g id=\"edge18\" class=\"edge\">\n",
       "<title>17&#45;&gt;18</title>\n",
       "<path fill=\"none\" stroke=\"black\" d=\"M83.5,-3351.6C83.5,-3343.82 83.5,-3334.8 83.5,-3326.26\"/>\n",
       "<polygon fill=\"black\" stroke=\"black\" points=\"87,-3326.46 83.5,-3316.46 80,-3326.46 87,-3326.46\"/>\n",
       "</g>\n",
       "<!-- 19 -->\n",
       "<g id=\"node20\" class=\"node\">\n",
       "<title>19</title>\n",
       "<polygon fill=\"#c1ffc1\" stroke=\"none\" points=\"161,-3235.5 6,-3235.5 6,-3191.5 161,-3191.5 161,-3235.5\"/>\n",
       "<polygon fill=\"none\" stroke=\"black\" points=\"6,-3191.5 6,-3235.5 70,-3235.5 70,-3191.5 6,-3191.5\"/>\n",
       "<text text-anchor=\"start\" x=\"11\" y=\"-3216.75\" font-family=\"Linux libertine\" font-size=\"10.00\">LayerNorm</text>\n",
       "<text text-anchor=\"start\" x=\"19.62\" y=\"-3204\" font-family=\"Linux libertine\" font-size=\"10.00\">depth:2</text>\n",
       "<polygon fill=\"none\" stroke=\"black\" points=\"70,-3213.5 70,-3235.5 117,-3235.5 117,-3213.5 70,-3213.5\"/>\n",
       "<text text-anchor=\"start\" x=\"79.62\" y=\"-3221\" font-family=\"Linux libertine\" font-size=\"10.00\">input:</text>\n",
       "<polygon fill=\"none\" stroke=\"black\" points=\"117,-3213.5 117,-3235.5 161,-3235.5 161,-3213.5 117,-3213.5\"/>\n",
       "<text text-anchor=\"start\" x=\"121.75\" y=\"-3221\" font-family=\"Linux libertine\" font-size=\"10.00\">(1, 34) </text>\n",
       "<polygon fill=\"none\" stroke=\"black\" points=\"70,-3191.5 70,-3213.5 117,-3213.5 117,-3191.5 70,-3191.5\"/>\n",
       "<text text-anchor=\"start\" x=\"74.75\" y=\"-3199\" font-family=\"Linux libertine\" font-size=\"10.00\">output: </text>\n",
       "<polygon fill=\"none\" stroke=\"black\" points=\"117,-3191.5 117,-3213.5 161,-3213.5 161,-3191.5 117,-3191.5\"/>\n",
       "<text text-anchor=\"start\" x=\"121.75\" y=\"-3199\" font-family=\"Linux libertine\" font-size=\"10.00\">(1, 34) </text>\n",
       "</g>\n",
       "<!-- 18&#45;&gt;19 -->\n",
       "<g id=\"edge19\" class=\"edge\">\n",
       "<title>18&#45;&gt;19</title>\n",
       "<path fill=\"none\" stroke=\"black\" d=\"M83.5,-3271.6C83.5,-3263.82 83.5,-3254.8 83.5,-3246.26\"/>\n",
       "<polygon fill=\"black\" stroke=\"black\" points=\"87,-3246.46 83.5,-3236.46 80,-3246.46 87,-3246.46\"/>\n",
       "</g>\n",
       "<!-- 20 -->\n",
       "<g id=\"node21\" class=\"node\">\n",
       "<title>20</title>\n",
       "<polygon fill=\"#c1ffc1\" stroke=\"none\" points=\"152,-3155.5 15,-3155.5 15,-3111.5 152,-3111.5 152,-3155.5\"/>\n",
       "<polygon fill=\"none\" stroke=\"black\" points=\"15,-3111.5 15,-3155.5 61,-3155.5 61,-3111.5 15,-3111.5\"/>\n",
       "<text text-anchor=\"start\" x=\"25.25\" y=\"-3136.75\" font-family=\"Linux libertine\" font-size=\"10.00\">ReLU</text>\n",
       "<text text-anchor=\"start\" x=\"19.62\" y=\"-3124\" font-family=\"Linux libertine\" font-size=\"10.00\">depth:2</text>\n",
       "<polygon fill=\"none\" stroke=\"black\" points=\"61,-3133.5 61,-3155.5 108,-3155.5 108,-3133.5 61,-3133.5\"/>\n",
       "<text text-anchor=\"start\" x=\"70.62\" y=\"-3141\" font-family=\"Linux libertine\" font-size=\"10.00\">input:</text>\n",
       "<polygon fill=\"none\" stroke=\"black\" points=\"108,-3133.5 108,-3155.5 152,-3155.5 152,-3133.5 108,-3133.5\"/>\n",
       "<text text-anchor=\"start\" x=\"112.75\" y=\"-3141\" font-family=\"Linux libertine\" font-size=\"10.00\">(1, 34) </text>\n",
       "<polygon fill=\"none\" stroke=\"black\" points=\"61,-3111.5 61,-3133.5 108,-3133.5 108,-3111.5 61,-3111.5\"/>\n",
       "<text text-anchor=\"start\" x=\"65.75\" y=\"-3119\" font-family=\"Linux libertine\" font-size=\"10.00\">output: </text>\n",
       "<polygon fill=\"none\" stroke=\"black\" points=\"108,-3111.5 108,-3133.5 152,-3133.5 152,-3111.5 108,-3111.5\"/>\n",
       "<text text-anchor=\"start\" x=\"112.75\" y=\"-3119\" font-family=\"Linux libertine\" font-size=\"10.00\">(1, 34) </text>\n",
       "</g>\n",
       "<!-- 19&#45;&gt;20 -->\n",
       "<g id=\"edge20\" class=\"edge\">\n",
       "<title>19&#45;&gt;20</title>\n",
       "<path fill=\"none\" stroke=\"black\" d=\"M83.5,-3191.6C83.5,-3183.82 83.5,-3174.8 83.5,-3166.26\"/>\n",
       "<polygon fill=\"black\" stroke=\"black\" points=\"87,-3166.46 83.5,-3156.46 80,-3166.46 87,-3166.46\"/>\n",
       "</g>\n",
       "<!-- 21 -->\n",
       "<g id=\"node22\" class=\"node\">\n",
       "<title>21</title>\n",
       "<polygon fill=\"#c1ffc1\" stroke=\"none\" points=\"152,-3075.5 15,-3075.5 15,-3031.5 152,-3031.5 152,-3075.5\"/>\n",
       "<polygon fill=\"none\" stroke=\"black\" points=\"15,-3031.5 15,-3075.5 61,-3075.5 61,-3031.5 15,-3031.5\"/>\n",
       "<text text-anchor=\"start\" x=\"23\" y=\"-3056.75\" font-family=\"Linux libertine\" font-size=\"10.00\">Linear</text>\n",
       "<text text-anchor=\"start\" x=\"19.62\" y=\"-3044\" font-family=\"Linux libertine\" font-size=\"10.00\">depth:2</text>\n",
       "<polygon fill=\"none\" stroke=\"black\" points=\"61,-3053.5 61,-3075.5 108,-3075.5 108,-3053.5 61,-3053.5\"/>\n",
       "<text text-anchor=\"start\" x=\"70.62\" y=\"-3061\" font-family=\"Linux libertine\" font-size=\"10.00\">input:</text>\n",
       "<polygon fill=\"none\" stroke=\"black\" points=\"108,-3053.5 108,-3075.5 152,-3075.5 152,-3053.5 108,-3053.5\"/>\n",
       "<text text-anchor=\"start\" x=\"112.75\" y=\"-3061\" font-family=\"Linux libertine\" font-size=\"10.00\">(1, 34) </text>\n",
       "<polygon fill=\"none\" stroke=\"black\" points=\"61,-3031.5 61,-3053.5 108,-3053.5 108,-3031.5 61,-3031.5\"/>\n",
       "<text text-anchor=\"start\" x=\"65.75\" y=\"-3039\" font-family=\"Linux libertine\" font-size=\"10.00\">output: </text>\n",
       "<polygon fill=\"none\" stroke=\"black\" points=\"108,-3031.5 108,-3053.5 152,-3053.5 152,-3031.5 108,-3031.5\"/>\n",
       "<text text-anchor=\"start\" x=\"112.75\" y=\"-3039\" font-family=\"Linux libertine\" font-size=\"10.00\">(1, 34) </text>\n",
       "</g>\n",
       "<!-- 20&#45;&gt;21 -->\n",
       "<g id=\"edge21\" class=\"edge\">\n",
       "<title>20&#45;&gt;21</title>\n",
       "<path fill=\"none\" stroke=\"black\" d=\"M83.5,-3111.6C83.5,-3103.82 83.5,-3094.8 83.5,-3086.26\"/>\n",
       "<polygon fill=\"black\" stroke=\"black\" points=\"87,-3086.46 83.5,-3076.46 80,-3086.46 87,-3086.46\"/>\n",
       "</g>\n",
       "<!-- 22 -->\n",
       "<g id=\"node23\" class=\"node\">\n",
       "<title>22</title>\n",
       "<polygon fill=\"#c1ffc1\" stroke=\"none\" points=\"161,-2995.5 6,-2995.5 6,-2951.5 161,-2951.5 161,-2995.5\"/>\n",
       "<polygon fill=\"none\" stroke=\"black\" points=\"6,-2951.5 6,-2995.5 70,-2995.5 70,-2951.5 6,-2951.5\"/>\n",
       "<text text-anchor=\"start\" x=\"11\" y=\"-2976.75\" font-family=\"Linux libertine\" font-size=\"10.00\">LayerNorm</text>\n",
       "<text text-anchor=\"start\" x=\"19.62\" y=\"-2964\" font-family=\"Linux libertine\" font-size=\"10.00\">depth:2</text>\n",
       "<polygon fill=\"none\" stroke=\"black\" points=\"70,-2973.5 70,-2995.5 117,-2995.5 117,-2973.5 70,-2973.5\"/>\n",
       "<text text-anchor=\"start\" x=\"79.62\" y=\"-2981\" font-family=\"Linux libertine\" font-size=\"10.00\">input:</text>\n",
       "<polygon fill=\"none\" stroke=\"black\" points=\"117,-2973.5 117,-2995.5 161,-2995.5 161,-2973.5 117,-2973.5\"/>\n",
       "<text text-anchor=\"start\" x=\"121.75\" y=\"-2981\" font-family=\"Linux libertine\" font-size=\"10.00\">(1, 34) </text>\n",
       "<polygon fill=\"none\" stroke=\"black\" points=\"70,-2951.5 70,-2973.5 117,-2973.5 117,-2951.5 70,-2951.5\"/>\n",
       "<text text-anchor=\"start\" x=\"74.75\" y=\"-2959\" font-family=\"Linux libertine\" font-size=\"10.00\">output: </text>\n",
       "<polygon fill=\"none\" stroke=\"black\" points=\"117,-2951.5 117,-2973.5 161,-2973.5 161,-2951.5 117,-2951.5\"/>\n",
       "<text text-anchor=\"start\" x=\"121.75\" y=\"-2959\" font-family=\"Linux libertine\" font-size=\"10.00\">(1, 34) </text>\n",
       "</g>\n",
       "<!-- 21&#45;&gt;22 -->\n",
       "<g id=\"edge22\" class=\"edge\">\n",
       "<title>21&#45;&gt;22</title>\n",
       "<path fill=\"none\" stroke=\"black\" d=\"M83.5,-3031.6C83.5,-3023.82 83.5,-3014.8 83.5,-3006.26\"/>\n",
       "<polygon fill=\"black\" stroke=\"black\" points=\"87,-3006.46 83.5,-2996.46 80,-3006.46 87,-3006.46\"/>\n",
       "</g>\n",
       "<!-- 23 -->\n",
       "<g id=\"node24\" class=\"node\">\n",
       "<title>23</title>\n",
       "<polygon fill=\"#c1ffc1\" stroke=\"none\" points=\"152,-2915.5 15,-2915.5 15,-2871.5 152,-2871.5 152,-2915.5\"/>\n",
       "<polygon fill=\"none\" stroke=\"black\" points=\"15,-2871.5 15,-2915.5 61,-2915.5 61,-2871.5 15,-2871.5\"/>\n",
       "<text text-anchor=\"start\" x=\"25.25\" y=\"-2896.75\" font-family=\"Linux libertine\" font-size=\"10.00\">ReLU</text>\n",
       "<text text-anchor=\"start\" x=\"19.62\" y=\"-2884\" font-family=\"Linux libertine\" font-size=\"10.00\">depth:2</text>\n",
       "<polygon fill=\"none\" stroke=\"black\" points=\"61,-2893.5 61,-2915.5 108,-2915.5 108,-2893.5 61,-2893.5\"/>\n",
       "<text text-anchor=\"start\" x=\"70.62\" y=\"-2901\" font-family=\"Linux libertine\" font-size=\"10.00\">input:</text>\n",
       "<polygon fill=\"none\" stroke=\"black\" points=\"108,-2893.5 108,-2915.5 152,-2915.5 152,-2893.5 108,-2893.5\"/>\n",
       "<text text-anchor=\"start\" x=\"112.75\" y=\"-2901\" font-family=\"Linux libertine\" font-size=\"10.00\">(1, 34) </text>\n",
       "<polygon fill=\"none\" stroke=\"black\" points=\"61,-2871.5 61,-2893.5 108,-2893.5 108,-2871.5 61,-2871.5\"/>\n",
       "<text text-anchor=\"start\" x=\"65.75\" y=\"-2879\" font-family=\"Linux libertine\" font-size=\"10.00\">output: </text>\n",
       "<polygon fill=\"none\" stroke=\"black\" points=\"108,-2871.5 108,-2893.5 152,-2893.5 152,-2871.5 108,-2871.5\"/>\n",
       "<text text-anchor=\"start\" x=\"112.75\" y=\"-2879\" font-family=\"Linux libertine\" font-size=\"10.00\">(1, 34) </text>\n",
       "</g>\n",
       "<!-- 22&#45;&gt;23 -->\n",
       "<g id=\"edge23\" class=\"edge\">\n",
       "<title>22&#45;&gt;23</title>\n",
       "<path fill=\"none\" stroke=\"black\" d=\"M83.5,-2951.6C83.5,-2943.82 83.5,-2934.8 83.5,-2926.26\"/>\n",
       "<polygon fill=\"black\" stroke=\"black\" points=\"87,-2926.46 83.5,-2916.46 80,-2926.46 87,-2926.46\"/>\n",
       "</g>\n",
       "<!-- 24 -->\n",
       "<g id=\"node25\" class=\"node\">\n",
       "<title>24</title>\n",
       "<polygon fill=\"#c1ffc1\" stroke=\"none\" points=\"152,-2835.5 15,-2835.5 15,-2791.5 152,-2791.5 152,-2835.5\"/>\n",
       "<polygon fill=\"none\" stroke=\"black\" points=\"15,-2791.5 15,-2835.5 61,-2835.5 61,-2791.5 15,-2791.5\"/>\n",
       "<text text-anchor=\"start\" x=\"23\" y=\"-2816.75\" font-family=\"Linux libertine\" font-size=\"10.00\">Linear</text>\n",
       "<text text-anchor=\"start\" x=\"19.62\" y=\"-2804\" font-family=\"Linux libertine\" font-size=\"10.00\">depth:2</text>\n",
       "<polygon fill=\"none\" stroke=\"black\" points=\"61,-2813.5 61,-2835.5 108,-2835.5 108,-2813.5 61,-2813.5\"/>\n",
       "<text text-anchor=\"start\" x=\"70.62\" y=\"-2821\" font-family=\"Linux libertine\" font-size=\"10.00\">input:</text>\n",
       "<polygon fill=\"none\" stroke=\"black\" points=\"108,-2813.5 108,-2835.5 152,-2835.5 152,-2813.5 108,-2813.5\"/>\n",
       "<text text-anchor=\"start\" x=\"112.75\" y=\"-2821\" font-family=\"Linux libertine\" font-size=\"10.00\">(1, 34) </text>\n",
       "<polygon fill=\"none\" stroke=\"black\" points=\"61,-2791.5 61,-2813.5 108,-2813.5 108,-2791.5 61,-2791.5\"/>\n",
       "<text text-anchor=\"start\" x=\"65.75\" y=\"-2799\" font-family=\"Linux libertine\" font-size=\"10.00\">output: </text>\n",
       "<polygon fill=\"none\" stroke=\"black\" points=\"108,-2791.5 108,-2813.5 152,-2813.5 152,-2791.5 108,-2791.5\"/>\n",
       "<text text-anchor=\"start\" x=\"112.75\" y=\"-2799\" font-family=\"Linux libertine\" font-size=\"10.00\">(1, 34) </text>\n",
       "</g>\n",
       "<!-- 23&#45;&gt;24 -->\n",
       "<g id=\"edge24\" class=\"edge\">\n",
       "<title>23&#45;&gt;24</title>\n",
       "<path fill=\"none\" stroke=\"black\" d=\"M83.5,-2871.6C83.5,-2863.82 83.5,-2854.8 83.5,-2846.26\"/>\n",
       "<polygon fill=\"black\" stroke=\"black\" points=\"87,-2846.46 83.5,-2836.46 80,-2846.46 87,-2846.46\"/>\n",
       "</g>\n",
       "<!-- 25 -->\n",
       "<g id=\"node26\" class=\"node\">\n",
       "<title>25</title>\n",
       "<polygon fill=\"#c1ffc1\" stroke=\"none\" points=\"161,-2755.5 6,-2755.5 6,-2711.5 161,-2711.5 161,-2755.5\"/>\n",
       "<polygon fill=\"none\" stroke=\"black\" points=\"6,-2711.5 6,-2755.5 70,-2755.5 70,-2711.5 6,-2711.5\"/>\n",
       "<text text-anchor=\"start\" x=\"11\" y=\"-2736.75\" font-family=\"Linux libertine\" font-size=\"10.00\">LayerNorm</text>\n",
       "<text text-anchor=\"start\" x=\"19.62\" y=\"-2724\" font-family=\"Linux libertine\" font-size=\"10.00\">depth:2</text>\n",
       "<polygon fill=\"none\" stroke=\"black\" points=\"70,-2733.5 70,-2755.5 117,-2755.5 117,-2733.5 70,-2733.5\"/>\n",
       "<text text-anchor=\"start\" x=\"79.62\" y=\"-2741\" font-family=\"Linux libertine\" font-size=\"10.00\">input:</text>\n",
       "<polygon fill=\"none\" stroke=\"black\" points=\"117,-2733.5 117,-2755.5 161,-2755.5 161,-2733.5 117,-2733.5\"/>\n",
       "<text text-anchor=\"start\" x=\"121.75\" y=\"-2741\" font-family=\"Linux libertine\" font-size=\"10.00\">(1, 34) </text>\n",
       "<polygon fill=\"none\" stroke=\"black\" points=\"70,-2711.5 70,-2733.5 117,-2733.5 117,-2711.5 70,-2711.5\"/>\n",
       "<text text-anchor=\"start\" x=\"74.75\" y=\"-2719\" font-family=\"Linux libertine\" font-size=\"10.00\">output: </text>\n",
       "<polygon fill=\"none\" stroke=\"black\" points=\"117,-2711.5 117,-2733.5 161,-2733.5 161,-2711.5 117,-2711.5\"/>\n",
       "<text text-anchor=\"start\" x=\"121.75\" y=\"-2719\" font-family=\"Linux libertine\" font-size=\"10.00\">(1, 34) </text>\n",
       "</g>\n",
       "<!-- 24&#45;&gt;25 -->\n",
       "<g id=\"edge25\" class=\"edge\">\n",
       "<title>24&#45;&gt;25</title>\n",
       "<path fill=\"none\" stroke=\"black\" d=\"M83.5,-2791.6C83.5,-2783.82 83.5,-2774.8 83.5,-2766.26\"/>\n",
       "<polygon fill=\"black\" stroke=\"black\" points=\"87,-2766.46 83.5,-2756.46 80,-2766.46 87,-2766.46\"/>\n",
       "</g>\n",
       "<!-- 26 -->\n",
       "<g id=\"node27\" class=\"node\">\n",
       "<title>26</title>\n",
       "<polygon fill=\"#c1ffc1\" stroke=\"none\" points=\"152,-2675.5 15,-2675.5 15,-2631.5 152,-2631.5 152,-2675.5\"/>\n",
       "<polygon fill=\"none\" stroke=\"black\" points=\"15,-2631.5 15,-2675.5 61,-2675.5 61,-2631.5 15,-2631.5\"/>\n",
       "<text text-anchor=\"start\" x=\"25.25\" y=\"-2656.75\" font-family=\"Linux libertine\" font-size=\"10.00\">ReLU</text>\n",
       "<text text-anchor=\"start\" x=\"19.62\" y=\"-2644\" font-family=\"Linux libertine\" font-size=\"10.00\">depth:2</text>\n",
       "<polygon fill=\"none\" stroke=\"black\" points=\"61,-2653.5 61,-2675.5 108,-2675.5 108,-2653.5 61,-2653.5\"/>\n",
       "<text text-anchor=\"start\" x=\"70.62\" y=\"-2661\" font-family=\"Linux libertine\" font-size=\"10.00\">input:</text>\n",
       "<polygon fill=\"none\" stroke=\"black\" points=\"108,-2653.5 108,-2675.5 152,-2675.5 152,-2653.5 108,-2653.5\"/>\n",
       "<text text-anchor=\"start\" x=\"112.75\" y=\"-2661\" font-family=\"Linux libertine\" font-size=\"10.00\">(1, 34) </text>\n",
       "<polygon fill=\"none\" stroke=\"black\" points=\"61,-2631.5 61,-2653.5 108,-2653.5 108,-2631.5 61,-2631.5\"/>\n",
       "<text text-anchor=\"start\" x=\"65.75\" y=\"-2639\" font-family=\"Linux libertine\" font-size=\"10.00\">output: </text>\n",
       "<polygon fill=\"none\" stroke=\"black\" points=\"108,-2631.5 108,-2653.5 152,-2653.5 152,-2631.5 108,-2631.5\"/>\n",
       "<text text-anchor=\"start\" x=\"112.75\" y=\"-2639\" font-family=\"Linux libertine\" font-size=\"10.00\">(1, 34) </text>\n",
       "</g>\n",
       "<!-- 25&#45;&gt;26 -->\n",
       "<g id=\"edge26\" class=\"edge\">\n",
       "<title>25&#45;&gt;26</title>\n",
       "<path fill=\"none\" stroke=\"black\" d=\"M83.5,-2711.6C83.5,-2703.82 83.5,-2694.8 83.5,-2686.26\"/>\n",
       "<polygon fill=\"black\" stroke=\"black\" points=\"87,-2686.46 83.5,-2676.46 80,-2686.46 87,-2686.46\"/>\n",
       "</g>\n",
       "<!-- 27 -->\n",
       "<g id=\"node28\" class=\"node\">\n",
       "<title>27</title>\n",
       "<polygon fill=\"#c1ffc1\" stroke=\"none\" points=\"152,-2595.5 15,-2595.5 15,-2551.5 152,-2551.5 152,-2595.5\"/>\n",
       "<polygon fill=\"none\" stroke=\"black\" points=\"15,-2551.5 15,-2595.5 61,-2595.5 61,-2551.5 15,-2551.5\"/>\n",
       "<text text-anchor=\"start\" x=\"23\" y=\"-2576.75\" font-family=\"Linux libertine\" font-size=\"10.00\">Linear</text>\n",
       "<text text-anchor=\"start\" x=\"19.62\" y=\"-2564\" font-family=\"Linux libertine\" font-size=\"10.00\">depth:2</text>\n",
       "<polygon fill=\"none\" stroke=\"black\" points=\"61,-2573.5 61,-2595.5 108,-2595.5 108,-2573.5 61,-2573.5\"/>\n",
       "<text text-anchor=\"start\" x=\"70.62\" y=\"-2581\" font-family=\"Linux libertine\" font-size=\"10.00\">input:</text>\n",
       "<polygon fill=\"none\" stroke=\"black\" points=\"108,-2573.5 108,-2595.5 152,-2595.5 152,-2573.5 108,-2573.5\"/>\n",
       "<text text-anchor=\"start\" x=\"112.75\" y=\"-2581\" font-family=\"Linux libertine\" font-size=\"10.00\">(1, 34) </text>\n",
       "<polygon fill=\"none\" stroke=\"black\" points=\"61,-2551.5 61,-2573.5 108,-2573.5 108,-2551.5 61,-2551.5\"/>\n",
       "<text text-anchor=\"start\" x=\"65.75\" y=\"-2559\" font-family=\"Linux libertine\" font-size=\"10.00\">output: </text>\n",
       "<polygon fill=\"none\" stroke=\"black\" points=\"108,-2551.5 108,-2573.5 152,-2573.5 152,-2551.5 108,-2551.5\"/>\n",
       "<text text-anchor=\"start\" x=\"112.75\" y=\"-2559\" font-family=\"Linux libertine\" font-size=\"10.00\">(1, 34) </text>\n",
       "</g>\n",
       "<!-- 26&#45;&gt;27 -->\n",
       "<g id=\"edge27\" class=\"edge\">\n",
       "<title>26&#45;&gt;27</title>\n",
       "<path fill=\"none\" stroke=\"black\" d=\"M83.5,-2631.6C83.5,-2623.82 83.5,-2614.8 83.5,-2606.26\"/>\n",
       "<polygon fill=\"black\" stroke=\"black\" points=\"87,-2606.46 83.5,-2596.46 80,-2606.46 87,-2606.46\"/>\n",
       "</g>\n",
       "<!-- 28 -->\n",
       "<g id=\"node29\" class=\"node\">\n",
       "<title>28</title>\n",
       "<polygon fill=\"#c1ffc1\" stroke=\"none\" points=\"161,-2515.5 6,-2515.5 6,-2471.5 161,-2471.5 161,-2515.5\"/>\n",
       "<polygon fill=\"none\" stroke=\"black\" points=\"6,-2471.5 6,-2515.5 70,-2515.5 70,-2471.5 6,-2471.5\"/>\n",
       "<text text-anchor=\"start\" x=\"11\" y=\"-2496.75\" font-family=\"Linux libertine\" font-size=\"10.00\">LayerNorm</text>\n",
       "<text text-anchor=\"start\" x=\"19.62\" y=\"-2484\" font-family=\"Linux libertine\" font-size=\"10.00\">depth:2</text>\n",
       "<polygon fill=\"none\" stroke=\"black\" points=\"70,-2493.5 70,-2515.5 117,-2515.5 117,-2493.5 70,-2493.5\"/>\n",
       "<text text-anchor=\"start\" x=\"79.62\" y=\"-2501\" font-family=\"Linux libertine\" font-size=\"10.00\">input:</text>\n",
       "<polygon fill=\"none\" stroke=\"black\" points=\"117,-2493.5 117,-2515.5 161,-2515.5 161,-2493.5 117,-2493.5\"/>\n",
       "<text text-anchor=\"start\" x=\"121.75\" y=\"-2501\" font-family=\"Linux libertine\" font-size=\"10.00\">(1, 34) </text>\n",
       "<polygon fill=\"none\" stroke=\"black\" points=\"70,-2471.5 70,-2493.5 117,-2493.5 117,-2471.5 70,-2471.5\"/>\n",
       "<text text-anchor=\"start\" x=\"74.75\" y=\"-2479\" font-family=\"Linux libertine\" font-size=\"10.00\">output: </text>\n",
       "<polygon fill=\"none\" stroke=\"black\" points=\"117,-2471.5 117,-2493.5 161,-2493.5 161,-2471.5 117,-2471.5\"/>\n",
       "<text text-anchor=\"start\" x=\"121.75\" y=\"-2479\" font-family=\"Linux libertine\" font-size=\"10.00\">(1, 34) </text>\n",
       "</g>\n",
       "<!-- 27&#45;&gt;28 -->\n",
       "<g id=\"edge28\" class=\"edge\">\n",
       "<title>27&#45;&gt;28</title>\n",
       "<path fill=\"none\" stroke=\"black\" d=\"M83.5,-2551.6C83.5,-2543.82 83.5,-2534.8 83.5,-2526.26\"/>\n",
       "<polygon fill=\"black\" stroke=\"black\" points=\"87,-2526.46 83.5,-2516.46 80,-2526.46 87,-2526.46\"/>\n",
       "</g>\n",
       "<!-- 29 -->\n",
       "<g id=\"node30\" class=\"node\">\n",
       "<title>29</title>\n",
       "<polygon fill=\"#c1ffc1\" stroke=\"none\" points=\"152,-2435.5 15,-2435.5 15,-2391.5 152,-2391.5 152,-2435.5\"/>\n",
       "<polygon fill=\"none\" stroke=\"black\" points=\"15,-2391.5 15,-2435.5 61,-2435.5 61,-2391.5 15,-2391.5\"/>\n",
       "<text text-anchor=\"start\" x=\"25.25\" y=\"-2416.75\" font-family=\"Linux libertine\" font-size=\"10.00\">ReLU</text>\n",
       "<text text-anchor=\"start\" x=\"19.62\" y=\"-2404\" font-family=\"Linux libertine\" font-size=\"10.00\">depth:2</text>\n",
       "<polygon fill=\"none\" stroke=\"black\" points=\"61,-2413.5 61,-2435.5 108,-2435.5 108,-2413.5 61,-2413.5\"/>\n",
       "<text text-anchor=\"start\" x=\"70.62\" y=\"-2421\" font-family=\"Linux libertine\" font-size=\"10.00\">input:</text>\n",
       "<polygon fill=\"none\" stroke=\"black\" points=\"108,-2413.5 108,-2435.5 152,-2435.5 152,-2413.5 108,-2413.5\"/>\n",
       "<text text-anchor=\"start\" x=\"112.75\" y=\"-2421\" font-family=\"Linux libertine\" font-size=\"10.00\">(1, 34) </text>\n",
       "<polygon fill=\"none\" stroke=\"black\" points=\"61,-2391.5 61,-2413.5 108,-2413.5 108,-2391.5 61,-2391.5\"/>\n",
       "<text text-anchor=\"start\" x=\"65.75\" y=\"-2399\" font-family=\"Linux libertine\" font-size=\"10.00\">output: </text>\n",
       "<polygon fill=\"none\" stroke=\"black\" points=\"108,-2391.5 108,-2413.5 152,-2413.5 152,-2391.5 108,-2391.5\"/>\n",
       "<text text-anchor=\"start\" x=\"112.75\" y=\"-2399\" font-family=\"Linux libertine\" font-size=\"10.00\">(1, 34) </text>\n",
       "</g>\n",
       "<!-- 28&#45;&gt;29 -->\n",
       "<g id=\"edge29\" class=\"edge\">\n",
       "<title>28&#45;&gt;29</title>\n",
       "<path fill=\"none\" stroke=\"black\" d=\"M83.5,-2471.6C83.5,-2463.82 83.5,-2454.8 83.5,-2446.26\"/>\n",
       "<polygon fill=\"black\" stroke=\"black\" points=\"87,-2446.46 83.5,-2436.46 80,-2446.46 87,-2446.46\"/>\n",
       "</g>\n",
       "<!-- 30 -->\n",
       "<g id=\"node31\" class=\"node\">\n",
       "<title>30</title>\n",
       "<polygon fill=\"#c1ffc1\" stroke=\"none\" points=\"152,-2355.5 15,-2355.5 15,-2311.5 152,-2311.5 152,-2355.5\"/>\n",
       "<polygon fill=\"none\" stroke=\"black\" points=\"15,-2311.5 15,-2355.5 61,-2355.5 61,-2311.5 15,-2311.5\"/>\n",
       "<text text-anchor=\"start\" x=\"23\" y=\"-2336.75\" font-family=\"Linux libertine\" font-size=\"10.00\">Linear</text>\n",
       "<text text-anchor=\"start\" x=\"19.62\" y=\"-2324\" font-family=\"Linux libertine\" font-size=\"10.00\">depth:2</text>\n",
       "<polygon fill=\"none\" stroke=\"black\" points=\"61,-2333.5 61,-2355.5 108,-2355.5 108,-2333.5 61,-2333.5\"/>\n",
       "<text text-anchor=\"start\" x=\"70.62\" y=\"-2341\" font-family=\"Linux libertine\" font-size=\"10.00\">input:</text>\n",
       "<polygon fill=\"none\" stroke=\"black\" points=\"108,-2333.5 108,-2355.5 152,-2355.5 152,-2333.5 108,-2333.5\"/>\n",
       "<text text-anchor=\"start\" x=\"112.75\" y=\"-2341\" font-family=\"Linux libertine\" font-size=\"10.00\">(1, 34) </text>\n",
       "<polygon fill=\"none\" stroke=\"black\" points=\"61,-2311.5 61,-2333.5 108,-2333.5 108,-2311.5 61,-2311.5\"/>\n",
       "<text text-anchor=\"start\" x=\"65.75\" y=\"-2319\" font-family=\"Linux libertine\" font-size=\"10.00\">output: </text>\n",
       "<polygon fill=\"none\" stroke=\"black\" points=\"108,-2311.5 108,-2333.5 152,-2333.5 152,-2311.5 108,-2311.5\"/>\n",
       "<text text-anchor=\"start\" x=\"112.75\" y=\"-2319\" font-family=\"Linux libertine\" font-size=\"10.00\">(1, 34) </text>\n",
       "</g>\n",
       "<!-- 29&#45;&gt;30 -->\n",
       "<g id=\"edge30\" class=\"edge\">\n",
       "<title>29&#45;&gt;30</title>\n",
       "<path fill=\"none\" stroke=\"black\" d=\"M83.5,-2391.6C83.5,-2383.82 83.5,-2374.8 83.5,-2366.26\"/>\n",
       "<polygon fill=\"black\" stroke=\"black\" points=\"87,-2366.46 83.5,-2356.46 80,-2366.46 87,-2366.46\"/>\n",
       "</g>\n",
       "<!-- 31 -->\n",
       "<g id=\"node32\" class=\"node\">\n",
       "<title>31</title>\n",
       "<polygon fill=\"#c1ffc1\" stroke=\"none\" points=\"161,-2275.5 6,-2275.5 6,-2231.5 161,-2231.5 161,-2275.5\"/>\n",
       "<polygon fill=\"none\" stroke=\"black\" points=\"6,-2231.5 6,-2275.5 70,-2275.5 70,-2231.5 6,-2231.5\"/>\n",
       "<text text-anchor=\"start\" x=\"11\" y=\"-2256.75\" font-family=\"Linux libertine\" font-size=\"10.00\">LayerNorm</text>\n",
       "<text text-anchor=\"start\" x=\"19.62\" y=\"-2244\" font-family=\"Linux libertine\" font-size=\"10.00\">depth:2</text>\n",
       "<polygon fill=\"none\" stroke=\"black\" points=\"70,-2253.5 70,-2275.5 117,-2275.5 117,-2253.5 70,-2253.5\"/>\n",
       "<text text-anchor=\"start\" x=\"79.62\" y=\"-2261\" font-family=\"Linux libertine\" font-size=\"10.00\">input:</text>\n",
       "<polygon fill=\"none\" stroke=\"black\" points=\"117,-2253.5 117,-2275.5 161,-2275.5 161,-2253.5 117,-2253.5\"/>\n",
       "<text text-anchor=\"start\" x=\"121.75\" y=\"-2261\" font-family=\"Linux libertine\" font-size=\"10.00\">(1, 34) </text>\n",
       "<polygon fill=\"none\" stroke=\"black\" points=\"70,-2231.5 70,-2253.5 117,-2253.5 117,-2231.5 70,-2231.5\"/>\n",
       "<text text-anchor=\"start\" x=\"74.75\" y=\"-2239\" font-family=\"Linux libertine\" font-size=\"10.00\">output: </text>\n",
       "<polygon fill=\"none\" stroke=\"black\" points=\"117,-2231.5 117,-2253.5 161,-2253.5 161,-2231.5 117,-2231.5\"/>\n",
       "<text text-anchor=\"start\" x=\"121.75\" y=\"-2239\" font-family=\"Linux libertine\" font-size=\"10.00\">(1, 34) </text>\n",
       "</g>\n",
       "<!-- 30&#45;&gt;31 -->\n",
       "<g id=\"edge31\" class=\"edge\">\n",
       "<title>30&#45;&gt;31</title>\n",
       "<path fill=\"none\" stroke=\"black\" d=\"M83.5,-2311.6C83.5,-2303.82 83.5,-2294.8 83.5,-2286.26\"/>\n",
       "<polygon fill=\"black\" stroke=\"black\" points=\"87,-2286.46 83.5,-2276.46 80,-2286.46 87,-2286.46\"/>\n",
       "</g>\n",
       "<!-- 32 -->\n",
       "<g id=\"node33\" class=\"node\">\n",
       "<title>32</title>\n",
       "<polygon fill=\"#c1ffc1\" stroke=\"none\" points=\"152,-2195.5 15,-2195.5 15,-2151.5 152,-2151.5 152,-2195.5\"/>\n",
       "<polygon fill=\"none\" stroke=\"black\" points=\"15,-2151.5 15,-2195.5 61,-2195.5 61,-2151.5 15,-2151.5\"/>\n",
       "<text text-anchor=\"start\" x=\"25.25\" y=\"-2176.75\" font-family=\"Linux libertine\" font-size=\"10.00\">ReLU</text>\n",
       "<text text-anchor=\"start\" x=\"19.62\" y=\"-2164\" font-family=\"Linux libertine\" font-size=\"10.00\">depth:2</text>\n",
       "<polygon fill=\"none\" stroke=\"black\" points=\"61,-2173.5 61,-2195.5 108,-2195.5 108,-2173.5 61,-2173.5\"/>\n",
       "<text text-anchor=\"start\" x=\"70.62\" y=\"-2181\" font-family=\"Linux libertine\" font-size=\"10.00\">input:</text>\n",
       "<polygon fill=\"none\" stroke=\"black\" points=\"108,-2173.5 108,-2195.5 152,-2195.5 152,-2173.5 108,-2173.5\"/>\n",
       "<text text-anchor=\"start\" x=\"112.75\" y=\"-2181\" font-family=\"Linux libertine\" font-size=\"10.00\">(1, 34) </text>\n",
       "<polygon fill=\"none\" stroke=\"black\" points=\"61,-2151.5 61,-2173.5 108,-2173.5 108,-2151.5 61,-2151.5\"/>\n",
       "<text text-anchor=\"start\" x=\"65.75\" y=\"-2159\" font-family=\"Linux libertine\" font-size=\"10.00\">output: </text>\n",
       "<polygon fill=\"none\" stroke=\"black\" points=\"108,-2151.5 108,-2173.5 152,-2173.5 152,-2151.5 108,-2151.5\"/>\n",
       "<text text-anchor=\"start\" x=\"112.75\" y=\"-2159\" font-family=\"Linux libertine\" font-size=\"10.00\">(1, 34) </text>\n",
       "</g>\n",
       "<!-- 31&#45;&gt;32 -->\n",
       "<g id=\"edge32\" class=\"edge\">\n",
       "<title>31&#45;&gt;32</title>\n",
       "<path fill=\"none\" stroke=\"black\" d=\"M83.5,-2231.6C83.5,-2223.82 83.5,-2214.8 83.5,-2206.26\"/>\n",
       "<polygon fill=\"black\" stroke=\"black\" points=\"87,-2206.46 83.5,-2196.46 80,-2206.46 87,-2206.46\"/>\n",
       "</g>\n",
       "<!-- 33 -->\n",
       "<g id=\"node34\" class=\"node\">\n",
       "<title>33</title>\n",
       "<polygon fill=\"#c1ffc1\" stroke=\"none\" points=\"152,-2115.5 15,-2115.5 15,-2071.5 152,-2071.5 152,-2115.5\"/>\n",
       "<polygon fill=\"none\" stroke=\"black\" points=\"15,-2071.5 15,-2115.5 61,-2115.5 61,-2071.5 15,-2071.5\"/>\n",
       "<text text-anchor=\"start\" x=\"23\" y=\"-2096.75\" font-family=\"Linux libertine\" font-size=\"10.00\">Linear</text>\n",
       "<text text-anchor=\"start\" x=\"19.62\" y=\"-2084\" font-family=\"Linux libertine\" font-size=\"10.00\">depth:2</text>\n",
       "<polygon fill=\"none\" stroke=\"black\" points=\"61,-2093.5 61,-2115.5 108,-2115.5 108,-2093.5 61,-2093.5\"/>\n",
       "<text text-anchor=\"start\" x=\"70.62\" y=\"-2101\" font-family=\"Linux libertine\" font-size=\"10.00\">input:</text>\n",
       "<polygon fill=\"none\" stroke=\"black\" points=\"108,-2093.5 108,-2115.5 152,-2115.5 152,-2093.5 108,-2093.5\"/>\n",
       "<text text-anchor=\"start\" x=\"112.75\" y=\"-2101\" font-family=\"Linux libertine\" font-size=\"10.00\">(1, 34) </text>\n",
       "<polygon fill=\"none\" stroke=\"black\" points=\"61,-2071.5 61,-2093.5 108,-2093.5 108,-2071.5 61,-2071.5\"/>\n",
       "<text text-anchor=\"start\" x=\"65.75\" y=\"-2079\" font-family=\"Linux libertine\" font-size=\"10.00\">output: </text>\n",
       "<polygon fill=\"none\" stroke=\"black\" points=\"108,-2071.5 108,-2093.5 152,-2093.5 152,-2071.5 108,-2071.5\"/>\n",
       "<text text-anchor=\"start\" x=\"112.75\" y=\"-2079\" font-family=\"Linux libertine\" font-size=\"10.00\">(1, 34) </text>\n",
       "</g>\n",
       "<!-- 32&#45;&gt;33 -->\n",
       "<g id=\"edge33\" class=\"edge\">\n",
       "<title>32&#45;&gt;33</title>\n",
       "<path fill=\"none\" stroke=\"black\" d=\"M83.5,-2151.6C83.5,-2143.82 83.5,-2134.8 83.5,-2126.26\"/>\n",
       "<polygon fill=\"black\" stroke=\"black\" points=\"87,-2126.46 83.5,-2116.46 80,-2126.46 87,-2126.46\"/>\n",
       "</g>\n",
       "<!-- 34 -->\n",
       "<g id=\"node35\" class=\"node\">\n",
       "<title>34</title>\n",
       "<polygon fill=\"#c1ffc1\" stroke=\"none\" points=\"161,-2035.5 6,-2035.5 6,-1991.5 161,-1991.5 161,-2035.5\"/>\n",
       "<polygon fill=\"none\" stroke=\"black\" points=\"6,-1991.5 6,-2035.5 70,-2035.5 70,-1991.5 6,-1991.5\"/>\n",
       "<text text-anchor=\"start\" x=\"11\" y=\"-2016.75\" font-family=\"Linux libertine\" font-size=\"10.00\">LayerNorm</text>\n",
       "<text text-anchor=\"start\" x=\"19.62\" y=\"-2004\" font-family=\"Linux libertine\" font-size=\"10.00\">depth:2</text>\n",
       "<polygon fill=\"none\" stroke=\"black\" points=\"70,-2013.5 70,-2035.5 117,-2035.5 117,-2013.5 70,-2013.5\"/>\n",
       "<text text-anchor=\"start\" x=\"79.62\" y=\"-2021\" font-family=\"Linux libertine\" font-size=\"10.00\">input:</text>\n",
       "<polygon fill=\"none\" stroke=\"black\" points=\"117,-2013.5 117,-2035.5 161,-2035.5 161,-2013.5 117,-2013.5\"/>\n",
       "<text text-anchor=\"start\" x=\"121.75\" y=\"-2021\" font-family=\"Linux libertine\" font-size=\"10.00\">(1, 34) </text>\n",
       "<polygon fill=\"none\" stroke=\"black\" points=\"70,-1991.5 70,-2013.5 117,-2013.5 117,-1991.5 70,-1991.5\"/>\n",
       "<text text-anchor=\"start\" x=\"74.75\" y=\"-1999\" font-family=\"Linux libertine\" font-size=\"10.00\">output: </text>\n",
       "<polygon fill=\"none\" stroke=\"black\" points=\"117,-1991.5 117,-2013.5 161,-2013.5 161,-1991.5 117,-1991.5\"/>\n",
       "<text text-anchor=\"start\" x=\"121.75\" y=\"-1999\" font-family=\"Linux libertine\" font-size=\"10.00\">(1, 34) </text>\n",
       "</g>\n",
       "<!-- 33&#45;&gt;34 -->\n",
       "<g id=\"edge34\" class=\"edge\">\n",
       "<title>33&#45;&gt;34</title>\n",
       "<path fill=\"none\" stroke=\"black\" d=\"M83.5,-2071.6C83.5,-2063.82 83.5,-2054.8 83.5,-2046.26\"/>\n",
       "<polygon fill=\"black\" stroke=\"black\" points=\"87,-2046.46 83.5,-2036.46 80,-2046.46 87,-2046.46\"/>\n",
       "</g>\n",
       "<!-- 35 -->\n",
       "<g id=\"node36\" class=\"node\">\n",
       "<title>35</title>\n",
       "<polygon fill=\"#c1ffc1\" stroke=\"none\" points=\"152,-1955.5 15,-1955.5 15,-1911.5 152,-1911.5 152,-1955.5\"/>\n",
       "<polygon fill=\"none\" stroke=\"black\" points=\"15,-1911.5 15,-1955.5 61,-1955.5 61,-1911.5 15,-1911.5\"/>\n",
       "<text text-anchor=\"start\" x=\"25.25\" y=\"-1936.75\" font-family=\"Linux libertine\" font-size=\"10.00\">ReLU</text>\n",
       "<text text-anchor=\"start\" x=\"19.62\" y=\"-1924\" font-family=\"Linux libertine\" font-size=\"10.00\">depth:2</text>\n",
       "<polygon fill=\"none\" stroke=\"black\" points=\"61,-1933.5 61,-1955.5 108,-1955.5 108,-1933.5 61,-1933.5\"/>\n",
       "<text text-anchor=\"start\" x=\"70.62\" y=\"-1941\" font-family=\"Linux libertine\" font-size=\"10.00\">input:</text>\n",
       "<polygon fill=\"none\" stroke=\"black\" points=\"108,-1933.5 108,-1955.5 152,-1955.5 152,-1933.5 108,-1933.5\"/>\n",
       "<text text-anchor=\"start\" x=\"112.75\" y=\"-1941\" font-family=\"Linux libertine\" font-size=\"10.00\">(1, 34) </text>\n",
       "<polygon fill=\"none\" stroke=\"black\" points=\"61,-1911.5 61,-1933.5 108,-1933.5 108,-1911.5 61,-1911.5\"/>\n",
       "<text text-anchor=\"start\" x=\"65.75\" y=\"-1919\" font-family=\"Linux libertine\" font-size=\"10.00\">output: </text>\n",
       "<polygon fill=\"none\" stroke=\"black\" points=\"108,-1911.5 108,-1933.5 152,-1933.5 152,-1911.5 108,-1911.5\"/>\n",
       "<text text-anchor=\"start\" x=\"112.75\" y=\"-1919\" font-family=\"Linux libertine\" font-size=\"10.00\">(1, 34) </text>\n",
       "</g>\n",
       "<!-- 34&#45;&gt;35 -->\n",
       "<g id=\"edge35\" class=\"edge\">\n",
       "<title>34&#45;&gt;35</title>\n",
       "<path fill=\"none\" stroke=\"black\" d=\"M83.5,-1991.6C83.5,-1983.82 83.5,-1974.8 83.5,-1966.26\"/>\n",
       "<polygon fill=\"black\" stroke=\"black\" points=\"87,-1966.46 83.5,-1956.46 80,-1966.46 87,-1966.46\"/>\n",
       "</g>\n",
       "<!-- 36 -->\n",
       "<g id=\"node37\" class=\"node\">\n",
       "<title>36</title>\n",
       "<polygon fill=\"#c1ffc1\" stroke=\"none\" points=\"152,-1875.5 15,-1875.5 15,-1831.5 152,-1831.5 152,-1875.5\"/>\n",
       "<polygon fill=\"none\" stroke=\"black\" points=\"15,-1831.5 15,-1875.5 61,-1875.5 61,-1831.5 15,-1831.5\"/>\n",
       "<text text-anchor=\"start\" x=\"23\" y=\"-1856.75\" font-family=\"Linux libertine\" font-size=\"10.00\">Linear</text>\n",
       "<text text-anchor=\"start\" x=\"19.62\" y=\"-1844\" font-family=\"Linux libertine\" font-size=\"10.00\">depth:2</text>\n",
       "<polygon fill=\"none\" stroke=\"black\" points=\"61,-1853.5 61,-1875.5 108,-1875.5 108,-1853.5 61,-1853.5\"/>\n",
       "<text text-anchor=\"start\" x=\"70.62\" y=\"-1861\" font-family=\"Linux libertine\" font-size=\"10.00\">input:</text>\n",
       "<polygon fill=\"none\" stroke=\"black\" points=\"108,-1853.5 108,-1875.5 152,-1875.5 152,-1853.5 108,-1853.5\"/>\n",
       "<text text-anchor=\"start\" x=\"112.75\" y=\"-1861\" font-family=\"Linux libertine\" font-size=\"10.00\">(1, 34) </text>\n",
       "<polygon fill=\"none\" stroke=\"black\" points=\"61,-1831.5 61,-1853.5 108,-1853.5 108,-1831.5 61,-1831.5\"/>\n",
       "<text text-anchor=\"start\" x=\"65.75\" y=\"-1839\" font-family=\"Linux libertine\" font-size=\"10.00\">output: </text>\n",
       "<polygon fill=\"none\" stroke=\"black\" points=\"108,-1831.5 108,-1853.5 152,-1853.5 152,-1831.5 108,-1831.5\"/>\n",
       "<text text-anchor=\"start\" x=\"112.75\" y=\"-1839\" font-family=\"Linux libertine\" font-size=\"10.00\">(1, 34) </text>\n",
       "</g>\n",
       "<!-- 35&#45;&gt;36 -->\n",
       "<g id=\"edge36\" class=\"edge\">\n",
       "<title>35&#45;&gt;36</title>\n",
       "<path fill=\"none\" stroke=\"black\" d=\"M83.5,-1911.6C83.5,-1903.82 83.5,-1894.8 83.5,-1886.26\"/>\n",
       "<polygon fill=\"black\" stroke=\"black\" points=\"87,-1886.46 83.5,-1876.46 80,-1886.46 87,-1886.46\"/>\n",
       "</g>\n",
       "<!-- 37 -->\n",
       "<g id=\"node38\" class=\"node\">\n",
       "<title>37</title>\n",
       "<polygon fill=\"#c1ffc1\" stroke=\"none\" points=\"161,-1795.5 6,-1795.5 6,-1751.5 161,-1751.5 161,-1795.5\"/>\n",
       "<polygon fill=\"none\" stroke=\"black\" points=\"6,-1751.5 6,-1795.5 70,-1795.5 70,-1751.5 6,-1751.5\"/>\n",
       "<text text-anchor=\"start\" x=\"11\" y=\"-1776.75\" font-family=\"Linux libertine\" font-size=\"10.00\">LayerNorm</text>\n",
       "<text text-anchor=\"start\" x=\"19.62\" y=\"-1764\" font-family=\"Linux libertine\" font-size=\"10.00\">depth:2</text>\n",
       "<polygon fill=\"none\" stroke=\"black\" points=\"70,-1773.5 70,-1795.5 117,-1795.5 117,-1773.5 70,-1773.5\"/>\n",
       "<text text-anchor=\"start\" x=\"79.62\" y=\"-1781\" font-family=\"Linux libertine\" font-size=\"10.00\">input:</text>\n",
       "<polygon fill=\"none\" stroke=\"black\" points=\"117,-1773.5 117,-1795.5 161,-1795.5 161,-1773.5 117,-1773.5\"/>\n",
       "<text text-anchor=\"start\" x=\"121.75\" y=\"-1781\" font-family=\"Linux libertine\" font-size=\"10.00\">(1, 34) </text>\n",
       "<polygon fill=\"none\" stroke=\"black\" points=\"70,-1751.5 70,-1773.5 117,-1773.5 117,-1751.5 70,-1751.5\"/>\n",
       "<text text-anchor=\"start\" x=\"74.75\" y=\"-1759\" font-family=\"Linux libertine\" font-size=\"10.00\">output: </text>\n",
       "<polygon fill=\"none\" stroke=\"black\" points=\"117,-1751.5 117,-1773.5 161,-1773.5 161,-1751.5 117,-1751.5\"/>\n",
       "<text text-anchor=\"start\" x=\"121.75\" y=\"-1759\" font-family=\"Linux libertine\" font-size=\"10.00\">(1, 34) </text>\n",
       "</g>\n",
       "<!-- 36&#45;&gt;37 -->\n",
       "<g id=\"edge37\" class=\"edge\">\n",
       "<title>36&#45;&gt;37</title>\n",
       "<path fill=\"none\" stroke=\"black\" d=\"M83.5,-1831.6C83.5,-1823.82 83.5,-1814.8 83.5,-1806.26\"/>\n",
       "<polygon fill=\"black\" stroke=\"black\" points=\"87,-1806.46 83.5,-1796.46 80,-1806.46 87,-1806.46\"/>\n",
       "</g>\n",
       "<!-- 38 -->\n",
       "<g id=\"node39\" class=\"node\">\n",
       "<title>38</title>\n",
       "<polygon fill=\"#c1ffc1\" stroke=\"none\" points=\"152,-1715.5 15,-1715.5 15,-1671.5 152,-1671.5 152,-1715.5\"/>\n",
       "<polygon fill=\"none\" stroke=\"black\" points=\"15,-1671.5 15,-1715.5 61,-1715.5 61,-1671.5 15,-1671.5\"/>\n",
       "<text text-anchor=\"start\" x=\"25.25\" y=\"-1696.75\" font-family=\"Linux libertine\" font-size=\"10.00\">ReLU</text>\n",
       "<text text-anchor=\"start\" x=\"19.62\" y=\"-1684\" font-family=\"Linux libertine\" font-size=\"10.00\">depth:2</text>\n",
       "<polygon fill=\"none\" stroke=\"black\" points=\"61,-1693.5 61,-1715.5 108,-1715.5 108,-1693.5 61,-1693.5\"/>\n",
       "<text text-anchor=\"start\" x=\"70.62\" y=\"-1701\" font-family=\"Linux libertine\" font-size=\"10.00\">input:</text>\n",
       "<polygon fill=\"none\" stroke=\"black\" points=\"108,-1693.5 108,-1715.5 152,-1715.5 152,-1693.5 108,-1693.5\"/>\n",
       "<text text-anchor=\"start\" x=\"112.75\" y=\"-1701\" font-family=\"Linux libertine\" font-size=\"10.00\">(1, 34) </text>\n",
       "<polygon fill=\"none\" stroke=\"black\" points=\"61,-1671.5 61,-1693.5 108,-1693.5 108,-1671.5 61,-1671.5\"/>\n",
       "<text text-anchor=\"start\" x=\"65.75\" y=\"-1679\" font-family=\"Linux libertine\" font-size=\"10.00\">output: </text>\n",
       "<polygon fill=\"none\" stroke=\"black\" points=\"108,-1671.5 108,-1693.5 152,-1693.5 152,-1671.5 108,-1671.5\"/>\n",
       "<text text-anchor=\"start\" x=\"112.75\" y=\"-1679\" font-family=\"Linux libertine\" font-size=\"10.00\">(1, 34) </text>\n",
       "</g>\n",
       "<!-- 37&#45;&gt;38 -->\n",
       "<g id=\"edge38\" class=\"edge\">\n",
       "<title>37&#45;&gt;38</title>\n",
       "<path fill=\"none\" stroke=\"black\" d=\"M83.5,-1751.6C83.5,-1743.82 83.5,-1734.8 83.5,-1726.26\"/>\n",
       "<polygon fill=\"black\" stroke=\"black\" points=\"87,-1726.46 83.5,-1716.46 80,-1726.46 87,-1726.46\"/>\n",
       "</g>\n",
       "<!-- 39 -->\n",
       "<g id=\"node40\" class=\"node\">\n",
       "<title>39</title>\n",
       "<polygon fill=\"#c1ffc1\" stroke=\"none\" points=\"152,-1635.5 15,-1635.5 15,-1591.5 152,-1591.5 152,-1635.5\"/>\n",
       "<polygon fill=\"none\" stroke=\"black\" points=\"15,-1591.5 15,-1635.5 61,-1635.5 61,-1591.5 15,-1591.5\"/>\n",
       "<text text-anchor=\"start\" x=\"23\" y=\"-1616.75\" font-family=\"Linux libertine\" font-size=\"10.00\">Linear</text>\n",
       "<text text-anchor=\"start\" x=\"19.62\" y=\"-1604\" font-family=\"Linux libertine\" font-size=\"10.00\">depth:2</text>\n",
       "<polygon fill=\"none\" stroke=\"black\" points=\"61,-1613.5 61,-1635.5 108,-1635.5 108,-1613.5 61,-1613.5\"/>\n",
       "<text text-anchor=\"start\" x=\"70.62\" y=\"-1621\" font-family=\"Linux libertine\" font-size=\"10.00\">input:</text>\n",
       "<polygon fill=\"none\" stroke=\"black\" points=\"108,-1613.5 108,-1635.5 152,-1635.5 152,-1613.5 108,-1613.5\"/>\n",
       "<text text-anchor=\"start\" x=\"112.75\" y=\"-1621\" font-family=\"Linux libertine\" font-size=\"10.00\">(1, 34) </text>\n",
       "<polygon fill=\"none\" stroke=\"black\" points=\"61,-1591.5 61,-1613.5 108,-1613.5 108,-1591.5 61,-1591.5\"/>\n",
       "<text text-anchor=\"start\" x=\"65.75\" y=\"-1599\" font-family=\"Linux libertine\" font-size=\"10.00\">output: </text>\n",
       "<polygon fill=\"none\" stroke=\"black\" points=\"108,-1591.5 108,-1613.5 152,-1613.5 152,-1591.5 108,-1591.5\"/>\n",
       "<text text-anchor=\"start\" x=\"112.75\" y=\"-1599\" font-family=\"Linux libertine\" font-size=\"10.00\">(1, 34) </text>\n",
       "</g>\n",
       "<!-- 38&#45;&gt;39 -->\n",
       "<g id=\"edge39\" class=\"edge\">\n",
       "<title>38&#45;&gt;39</title>\n",
       "<path fill=\"none\" stroke=\"black\" d=\"M83.5,-1671.6C83.5,-1663.82 83.5,-1654.8 83.5,-1646.26\"/>\n",
       "<polygon fill=\"black\" stroke=\"black\" points=\"87,-1646.46 83.5,-1636.46 80,-1646.46 87,-1646.46\"/>\n",
       "</g>\n",
       "<!-- 40 -->\n",
       "<g id=\"node41\" class=\"node\">\n",
       "<title>40</title>\n",
       "<polygon fill=\"#c1ffc1\" stroke=\"none\" points=\"161,-1555.5 6,-1555.5 6,-1511.5 161,-1511.5 161,-1555.5\"/>\n",
       "<polygon fill=\"none\" stroke=\"black\" points=\"6,-1511.5 6,-1555.5 70,-1555.5 70,-1511.5 6,-1511.5\"/>\n",
       "<text text-anchor=\"start\" x=\"11\" y=\"-1536.75\" font-family=\"Linux libertine\" font-size=\"10.00\">LayerNorm</text>\n",
       "<text text-anchor=\"start\" x=\"19.62\" y=\"-1524\" font-family=\"Linux libertine\" font-size=\"10.00\">depth:2</text>\n",
       "<polygon fill=\"none\" stroke=\"black\" points=\"70,-1533.5 70,-1555.5 117,-1555.5 117,-1533.5 70,-1533.5\"/>\n",
       "<text text-anchor=\"start\" x=\"79.62\" y=\"-1541\" font-family=\"Linux libertine\" font-size=\"10.00\">input:</text>\n",
       "<polygon fill=\"none\" stroke=\"black\" points=\"117,-1533.5 117,-1555.5 161,-1555.5 161,-1533.5 117,-1533.5\"/>\n",
       "<text text-anchor=\"start\" x=\"121.75\" y=\"-1541\" font-family=\"Linux libertine\" font-size=\"10.00\">(1, 34) </text>\n",
       "<polygon fill=\"none\" stroke=\"black\" points=\"70,-1511.5 70,-1533.5 117,-1533.5 117,-1511.5 70,-1511.5\"/>\n",
       "<text text-anchor=\"start\" x=\"74.75\" y=\"-1519\" font-family=\"Linux libertine\" font-size=\"10.00\">output: </text>\n",
       "<polygon fill=\"none\" stroke=\"black\" points=\"117,-1511.5 117,-1533.5 161,-1533.5 161,-1511.5 117,-1511.5\"/>\n",
       "<text text-anchor=\"start\" x=\"121.75\" y=\"-1519\" font-family=\"Linux libertine\" font-size=\"10.00\">(1, 34) </text>\n",
       "</g>\n",
       "<!-- 39&#45;&gt;40 -->\n",
       "<g id=\"edge40\" class=\"edge\">\n",
       "<title>39&#45;&gt;40</title>\n",
       "<path fill=\"none\" stroke=\"black\" d=\"M83.5,-1591.6C83.5,-1583.82 83.5,-1574.8 83.5,-1566.26\"/>\n",
       "<polygon fill=\"black\" stroke=\"black\" points=\"87,-1566.46 83.5,-1556.46 80,-1566.46 87,-1566.46\"/>\n",
       "</g>\n",
       "<!-- 41 -->\n",
       "<g id=\"node42\" class=\"node\">\n",
       "<title>41</title>\n",
       "<polygon fill=\"#c1ffc1\" stroke=\"none\" points=\"152,-1475.5 15,-1475.5 15,-1431.5 152,-1431.5 152,-1475.5\"/>\n",
       "<polygon fill=\"none\" stroke=\"black\" points=\"15,-1431.5 15,-1475.5 61,-1475.5 61,-1431.5 15,-1431.5\"/>\n",
       "<text text-anchor=\"start\" x=\"25.25\" y=\"-1456.75\" font-family=\"Linux libertine\" font-size=\"10.00\">ReLU</text>\n",
       "<text text-anchor=\"start\" x=\"19.62\" y=\"-1444\" font-family=\"Linux libertine\" font-size=\"10.00\">depth:2</text>\n",
       "<polygon fill=\"none\" stroke=\"black\" points=\"61,-1453.5 61,-1475.5 108,-1475.5 108,-1453.5 61,-1453.5\"/>\n",
       "<text text-anchor=\"start\" x=\"70.62\" y=\"-1461\" font-family=\"Linux libertine\" font-size=\"10.00\">input:</text>\n",
       "<polygon fill=\"none\" stroke=\"black\" points=\"108,-1453.5 108,-1475.5 152,-1475.5 152,-1453.5 108,-1453.5\"/>\n",
       "<text text-anchor=\"start\" x=\"112.75\" y=\"-1461\" font-family=\"Linux libertine\" font-size=\"10.00\">(1, 34) </text>\n",
       "<polygon fill=\"none\" stroke=\"black\" points=\"61,-1431.5 61,-1453.5 108,-1453.5 108,-1431.5 61,-1431.5\"/>\n",
       "<text text-anchor=\"start\" x=\"65.75\" y=\"-1439\" font-family=\"Linux libertine\" font-size=\"10.00\">output: </text>\n",
       "<polygon fill=\"none\" stroke=\"black\" points=\"108,-1431.5 108,-1453.5 152,-1453.5 152,-1431.5 108,-1431.5\"/>\n",
       "<text text-anchor=\"start\" x=\"112.75\" y=\"-1439\" font-family=\"Linux libertine\" font-size=\"10.00\">(1, 34) </text>\n",
       "</g>\n",
       "<!-- 40&#45;&gt;41 -->\n",
       "<g id=\"edge41\" class=\"edge\">\n",
       "<title>40&#45;&gt;41</title>\n",
       "<path fill=\"none\" stroke=\"black\" d=\"M83.5,-1511.6C83.5,-1503.82 83.5,-1494.8 83.5,-1486.26\"/>\n",
       "<polygon fill=\"black\" stroke=\"black\" points=\"87,-1486.46 83.5,-1476.46 80,-1486.46 87,-1486.46\"/>\n",
       "</g>\n",
       "<!-- 42 -->\n",
       "<g id=\"node43\" class=\"node\">\n",
       "<title>42</title>\n",
       "<polygon fill=\"#c1ffc1\" stroke=\"none\" points=\"152,-1395.5 15,-1395.5 15,-1351.5 152,-1351.5 152,-1395.5\"/>\n",
       "<polygon fill=\"none\" stroke=\"black\" points=\"15,-1351.5 15,-1395.5 61,-1395.5 61,-1351.5 15,-1351.5\"/>\n",
       "<text text-anchor=\"start\" x=\"23\" y=\"-1376.75\" font-family=\"Linux libertine\" font-size=\"10.00\">Linear</text>\n",
       "<text text-anchor=\"start\" x=\"19.62\" y=\"-1364\" font-family=\"Linux libertine\" font-size=\"10.00\">depth:2</text>\n",
       "<polygon fill=\"none\" stroke=\"black\" points=\"61,-1373.5 61,-1395.5 108,-1395.5 108,-1373.5 61,-1373.5\"/>\n",
       "<text text-anchor=\"start\" x=\"70.62\" y=\"-1381\" font-family=\"Linux libertine\" font-size=\"10.00\">input:</text>\n",
       "<polygon fill=\"none\" stroke=\"black\" points=\"108,-1373.5 108,-1395.5 152,-1395.5 152,-1373.5 108,-1373.5\"/>\n",
       "<text text-anchor=\"start\" x=\"112.75\" y=\"-1381\" font-family=\"Linux libertine\" font-size=\"10.00\">(1, 34) </text>\n",
       "<polygon fill=\"none\" stroke=\"black\" points=\"61,-1351.5 61,-1373.5 108,-1373.5 108,-1351.5 61,-1351.5\"/>\n",
       "<text text-anchor=\"start\" x=\"65.75\" y=\"-1359\" font-family=\"Linux libertine\" font-size=\"10.00\">output: </text>\n",
       "<polygon fill=\"none\" stroke=\"black\" points=\"108,-1351.5 108,-1373.5 152,-1373.5 152,-1351.5 108,-1351.5\"/>\n",
       "<text text-anchor=\"start\" x=\"112.75\" y=\"-1359\" font-family=\"Linux libertine\" font-size=\"10.00\">(1, 34) </text>\n",
       "</g>\n",
       "<!-- 41&#45;&gt;42 -->\n",
       "<g id=\"edge42\" class=\"edge\">\n",
       "<title>41&#45;&gt;42</title>\n",
       "<path fill=\"none\" stroke=\"black\" d=\"M83.5,-1431.6C83.5,-1423.82 83.5,-1414.8 83.5,-1406.26\"/>\n",
       "<polygon fill=\"black\" stroke=\"black\" points=\"87,-1406.46 83.5,-1396.46 80,-1406.46 87,-1406.46\"/>\n",
       "</g>\n",
       "<!-- 43 -->\n",
       "<g id=\"node44\" class=\"node\">\n",
       "<title>43</title>\n",
       "<polygon fill=\"#c1ffc1\" stroke=\"none\" points=\"161,-1315.5 6,-1315.5 6,-1271.5 161,-1271.5 161,-1315.5\"/>\n",
       "<polygon fill=\"none\" stroke=\"black\" points=\"6,-1271.5 6,-1315.5 70,-1315.5 70,-1271.5 6,-1271.5\"/>\n",
       "<text text-anchor=\"start\" x=\"11\" y=\"-1296.75\" font-family=\"Linux libertine\" font-size=\"10.00\">LayerNorm</text>\n",
       "<text text-anchor=\"start\" x=\"19.62\" y=\"-1284\" font-family=\"Linux libertine\" font-size=\"10.00\">depth:2</text>\n",
       "<polygon fill=\"none\" stroke=\"black\" points=\"70,-1293.5 70,-1315.5 117,-1315.5 117,-1293.5 70,-1293.5\"/>\n",
       "<text text-anchor=\"start\" x=\"79.62\" y=\"-1301\" font-family=\"Linux libertine\" font-size=\"10.00\">input:</text>\n",
       "<polygon fill=\"none\" stroke=\"black\" points=\"117,-1293.5 117,-1315.5 161,-1315.5 161,-1293.5 117,-1293.5\"/>\n",
       "<text text-anchor=\"start\" x=\"121.75\" y=\"-1301\" font-family=\"Linux libertine\" font-size=\"10.00\">(1, 34) </text>\n",
       "<polygon fill=\"none\" stroke=\"black\" points=\"70,-1271.5 70,-1293.5 117,-1293.5 117,-1271.5 70,-1271.5\"/>\n",
       "<text text-anchor=\"start\" x=\"74.75\" y=\"-1279\" font-family=\"Linux libertine\" font-size=\"10.00\">output: </text>\n",
       "<polygon fill=\"none\" stroke=\"black\" points=\"117,-1271.5 117,-1293.5 161,-1293.5 161,-1271.5 117,-1271.5\"/>\n",
       "<text text-anchor=\"start\" x=\"121.75\" y=\"-1279\" font-family=\"Linux libertine\" font-size=\"10.00\">(1, 34) </text>\n",
       "</g>\n",
       "<!-- 42&#45;&gt;43 -->\n",
       "<g id=\"edge43\" class=\"edge\">\n",
       "<title>42&#45;&gt;43</title>\n",
       "<path fill=\"none\" stroke=\"black\" d=\"M83.5,-1351.6C83.5,-1343.82 83.5,-1334.8 83.5,-1326.26\"/>\n",
       "<polygon fill=\"black\" stroke=\"black\" points=\"87,-1326.46 83.5,-1316.46 80,-1326.46 87,-1326.46\"/>\n",
       "</g>\n",
       "<!-- 44 -->\n",
       "<g id=\"node45\" class=\"node\">\n",
       "<title>44</title>\n",
       "<polygon fill=\"#c1ffc1\" stroke=\"none\" points=\"152,-1235.5 15,-1235.5 15,-1191.5 152,-1191.5 152,-1235.5\"/>\n",
       "<polygon fill=\"none\" stroke=\"black\" points=\"15,-1191.5 15,-1235.5 61,-1235.5 61,-1191.5 15,-1191.5\"/>\n",
       "<text text-anchor=\"start\" x=\"25.25\" y=\"-1216.75\" font-family=\"Linux libertine\" font-size=\"10.00\">ReLU</text>\n",
       "<text text-anchor=\"start\" x=\"19.62\" y=\"-1204\" font-family=\"Linux libertine\" font-size=\"10.00\">depth:2</text>\n",
       "<polygon fill=\"none\" stroke=\"black\" points=\"61,-1213.5 61,-1235.5 108,-1235.5 108,-1213.5 61,-1213.5\"/>\n",
       "<text text-anchor=\"start\" x=\"70.62\" y=\"-1221\" font-family=\"Linux libertine\" font-size=\"10.00\">input:</text>\n",
       "<polygon fill=\"none\" stroke=\"black\" points=\"108,-1213.5 108,-1235.5 152,-1235.5 152,-1213.5 108,-1213.5\"/>\n",
       "<text text-anchor=\"start\" x=\"112.75\" y=\"-1221\" font-family=\"Linux libertine\" font-size=\"10.00\">(1, 34) </text>\n",
       "<polygon fill=\"none\" stroke=\"black\" points=\"61,-1191.5 61,-1213.5 108,-1213.5 108,-1191.5 61,-1191.5\"/>\n",
       "<text text-anchor=\"start\" x=\"65.75\" y=\"-1199\" font-family=\"Linux libertine\" font-size=\"10.00\">output: </text>\n",
       "<polygon fill=\"none\" stroke=\"black\" points=\"108,-1191.5 108,-1213.5 152,-1213.5 152,-1191.5 108,-1191.5\"/>\n",
       "<text text-anchor=\"start\" x=\"112.75\" y=\"-1199\" font-family=\"Linux libertine\" font-size=\"10.00\">(1, 34) </text>\n",
       "</g>\n",
       "<!-- 43&#45;&gt;44 -->\n",
       "<g id=\"edge44\" class=\"edge\">\n",
       "<title>43&#45;&gt;44</title>\n",
       "<path fill=\"none\" stroke=\"black\" d=\"M83.5,-1271.6C83.5,-1263.82 83.5,-1254.8 83.5,-1246.26\"/>\n",
       "<polygon fill=\"black\" stroke=\"black\" points=\"87,-1246.46 83.5,-1236.46 80,-1246.46 87,-1246.46\"/>\n",
       "</g>\n",
       "<!-- 45 -->\n",
       "<g id=\"node46\" class=\"node\">\n",
       "<title>45</title>\n",
       "<polygon fill=\"#c1ffc1\" stroke=\"none\" points=\"152,-1155.5 15,-1155.5 15,-1111.5 152,-1111.5 152,-1155.5\"/>\n",
       "<polygon fill=\"none\" stroke=\"black\" points=\"15,-1111.5 15,-1155.5 61,-1155.5 61,-1111.5 15,-1111.5\"/>\n",
       "<text text-anchor=\"start\" x=\"23\" y=\"-1136.75\" font-family=\"Linux libertine\" font-size=\"10.00\">Linear</text>\n",
       "<text text-anchor=\"start\" x=\"19.62\" y=\"-1124\" font-family=\"Linux libertine\" font-size=\"10.00\">depth:2</text>\n",
       "<polygon fill=\"none\" stroke=\"black\" points=\"61,-1133.5 61,-1155.5 108,-1155.5 108,-1133.5 61,-1133.5\"/>\n",
       "<text text-anchor=\"start\" x=\"70.62\" y=\"-1141\" font-family=\"Linux libertine\" font-size=\"10.00\">input:</text>\n",
       "<polygon fill=\"none\" stroke=\"black\" points=\"108,-1133.5 108,-1155.5 152,-1155.5 152,-1133.5 108,-1133.5\"/>\n",
       "<text text-anchor=\"start\" x=\"112.75\" y=\"-1141\" font-family=\"Linux libertine\" font-size=\"10.00\">(1, 34) </text>\n",
       "<polygon fill=\"none\" stroke=\"black\" points=\"61,-1111.5 61,-1133.5 108,-1133.5 108,-1111.5 61,-1111.5\"/>\n",
       "<text text-anchor=\"start\" x=\"65.75\" y=\"-1119\" font-family=\"Linux libertine\" font-size=\"10.00\">output: </text>\n",
       "<polygon fill=\"none\" stroke=\"black\" points=\"108,-1111.5 108,-1133.5 152,-1133.5 152,-1111.5 108,-1111.5\"/>\n",
       "<text text-anchor=\"start\" x=\"112.75\" y=\"-1119\" font-family=\"Linux libertine\" font-size=\"10.00\">(1, 34) </text>\n",
       "</g>\n",
       "<!-- 44&#45;&gt;45 -->\n",
       "<g id=\"edge45\" class=\"edge\">\n",
       "<title>44&#45;&gt;45</title>\n",
       "<path fill=\"none\" stroke=\"black\" d=\"M83.5,-1191.6C83.5,-1183.82 83.5,-1174.8 83.5,-1166.26\"/>\n",
       "<polygon fill=\"black\" stroke=\"black\" points=\"87,-1166.46 83.5,-1156.46 80,-1166.46 87,-1166.46\"/>\n",
       "</g>\n",
       "<!-- 46 -->\n",
       "<g id=\"node47\" class=\"node\">\n",
       "<title>46</title>\n",
       "<polygon fill=\"#c1ffc1\" stroke=\"none\" points=\"161,-1075.5 6,-1075.5 6,-1031.5 161,-1031.5 161,-1075.5\"/>\n",
       "<polygon fill=\"none\" stroke=\"black\" points=\"6,-1031.5 6,-1075.5 70,-1075.5 70,-1031.5 6,-1031.5\"/>\n",
       "<text text-anchor=\"start\" x=\"11\" y=\"-1056.75\" font-family=\"Linux libertine\" font-size=\"10.00\">LayerNorm</text>\n",
       "<text text-anchor=\"start\" x=\"19.62\" y=\"-1044\" font-family=\"Linux libertine\" font-size=\"10.00\">depth:2</text>\n",
       "<polygon fill=\"none\" stroke=\"black\" points=\"70,-1053.5 70,-1075.5 117,-1075.5 117,-1053.5 70,-1053.5\"/>\n",
       "<text text-anchor=\"start\" x=\"79.62\" y=\"-1061\" font-family=\"Linux libertine\" font-size=\"10.00\">input:</text>\n",
       "<polygon fill=\"none\" stroke=\"black\" points=\"117,-1053.5 117,-1075.5 161,-1075.5 161,-1053.5 117,-1053.5\"/>\n",
       "<text text-anchor=\"start\" x=\"121.75\" y=\"-1061\" font-family=\"Linux libertine\" font-size=\"10.00\">(1, 34) </text>\n",
       "<polygon fill=\"none\" stroke=\"black\" points=\"70,-1031.5 70,-1053.5 117,-1053.5 117,-1031.5 70,-1031.5\"/>\n",
       "<text text-anchor=\"start\" x=\"74.75\" y=\"-1039\" font-family=\"Linux libertine\" font-size=\"10.00\">output: </text>\n",
       "<polygon fill=\"none\" stroke=\"black\" points=\"117,-1031.5 117,-1053.5 161,-1053.5 161,-1031.5 117,-1031.5\"/>\n",
       "<text text-anchor=\"start\" x=\"121.75\" y=\"-1039\" font-family=\"Linux libertine\" font-size=\"10.00\">(1, 34) </text>\n",
       "</g>\n",
       "<!-- 45&#45;&gt;46 -->\n",
       "<g id=\"edge46\" class=\"edge\">\n",
       "<title>45&#45;&gt;46</title>\n",
       "<path fill=\"none\" stroke=\"black\" d=\"M83.5,-1111.6C83.5,-1103.82 83.5,-1094.8 83.5,-1086.26\"/>\n",
       "<polygon fill=\"black\" stroke=\"black\" points=\"87,-1086.46 83.5,-1076.46 80,-1086.46 87,-1086.46\"/>\n",
       "</g>\n",
       "<!-- 47 -->\n",
       "<g id=\"node48\" class=\"node\">\n",
       "<title>47</title>\n",
       "<polygon fill=\"#c1ffc1\" stroke=\"none\" points=\"152,-995.5 15,-995.5 15,-951.5 152,-951.5 152,-995.5\"/>\n",
       "<polygon fill=\"none\" stroke=\"black\" points=\"15,-951.5 15,-995.5 61,-995.5 61,-951.5 15,-951.5\"/>\n",
       "<text text-anchor=\"start\" x=\"25.25\" y=\"-976.75\" font-family=\"Linux libertine\" font-size=\"10.00\">ReLU</text>\n",
       "<text text-anchor=\"start\" x=\"19.62\" y=\"-964\" font-family=\"Linux libertine\" font-size=\"10.00\">depth:2</text>\n",
       "<polygon fill=\"none\" stroke=\"black\" points=\"61,-973.5 61,-995.5 108,-995.5 108,-973.5 61,-973.5\"/>\n",
       "<text text-anchor=\"start\" x=\"70.62\" y=\"-981\" font-family=\"Linux libertine\" font-size=\"10.00\">input:</text>\n",
       "<polygon fill=\"none\" stroke=\"black\" points=\"108,-973.5 108,-995.5 152,-995.5 152,-973.5 108,-973.5\"/>\n",
       "<text text-anchor=\"start\" x=\"112.75\" y=\"-981\" font-family=\"Linux libertine\" font-size=\"10.00\">(1, 34) </text>\n",
       "<polygon fill=\"none\" stroke=\"black\" points=\"61,-951.5 61,-973.5 108,-973.5 108,-951.5 61,-951.5\"/>\n",
       "<text text-anchor=\"start\" x=\"65.75\" y=\"-959\" font-family=\"Linux libertine\" font-size=\"10.00\">output: </text>\n",
       "<polygon fill=\"none\" stroke=\"black\" points=\"108,-951.5 108,-973.5 152,-973.5 152,-951.5 108,-951.5\"/>\n",
       "<text text-anchor=\"start\" x=\"112.75\" y=\"-959\" font-family=\"Linux libertine\" font-size=\"10.00\">(1, 34) </text>\n",
       "</g>\n",
       "<!-- 46&#45;&gt;47 -->\n",
       "<g id=\"edge47\" class=\"edge\">\n",
       "<title>46&#45;&gt;47</title>\n",
       "<path fill=\"none\" stroke=\"black\" d=\"M83.5,-1031.6C83.5,-1023.82 83.5,-1014.8 83.5,-1006.26\"/>\n",
       "<polygon fill=\"black\" stroke=\"black\" points=\"87,-1006.46 83.5,-996.46 80,-1006.46 87,-1006.46\"/>\n",
       "</g>\n",
       "<!-- 48 -->\n",
       "<g id=\"node49\" class=\"node\">\n",
       "<title>48</title>\n",
       "<polygon fill=\"#c1ffc1\" stroke=\"none\" points=\"152,-915.5 15,-915.5 15,-871.5 152,-871.5 152,-915.5\"/>\n",
       "<polygon fill=\"none\" stroke=\"black\" points=\"15,-871.5 15,-915.5 61,-915.5 61,-871.5 15,-871.5\"/>\n",
       "<text text-anchor=\"start\" x=\"23\" y=\"-896.75\" font-family=\"Linux libertine\" font-size=\"10.00\">Linear</text>\n",
       "<text text-anchor=\"start\" x=\"19.62\" y=\"-884\" font-family=\"Linux libertine\" font-size=\"10.00\">depth:2</text>\n",
       "<polygon fill=\"none\" stroke=\"black\" points=\"61,-893.5 61,-915.5 108,-915.5 108,-893.5 61,-893.5\"/>\n",
       "<text text-anchor=\"start\" x=\"70.62\" y=\"-901\" font-family=\"Linux libertine\" font-size=\"10.00\">input:</text>\n",
       "<polygon fill=\"none\" stroke=\"black\" points=\"108,-893.5 108,-915.5 152,-915.5 152,-893.5 108,-893.5\"/>\n",
       "<text text-anchor=\"start\" x=\"112.75\" y=\"-901\" font-family=\"Linux libertine\" font-size=\"10.00\">(1, 34) </text>\n",
       "<polygon fill=\"none\" stroke=\"black\" points=\"61,-871.5 61,-893.5 108,-893.5 108,-871.5 61,-871.5\"/>\n",
       "<text text-anchor=\"start\" x=\"65.75\" y=\"-879\" font-family=\"Linux libertine\" font-size=\"10.00\">output: </text>\n",
       "<polygon fill=\"none\" stroke=\"black\" points=\"108,-871.5 108,-893.5 152,-893.5 152,-871.5 108,-871.5\"/>\n",
       "<text text-anchor=\"start\" x=\"112.75\" y=\"-879\" font-family=\"Linux libertine\" font-size=\"10.00\">(1, 34) </text>\n",
       "</g>\n",
       "<!-- 47&#45;&gt;48 -->\n",
       "<g id=\"edge48\" class=\"edge\">\n",
       "<title>47&#45;&gt;48</title>\n",
       "<path fill=\"none\" stroke=\"black\" d=\"M83.5,-951.6C83.5,-943.82 83.5,-934.8 83.5,-926.26\"/>\n",
       "<polygon fill=\"black\" stroke=\"black\" points=\"87,-926.46 83.5,-916.46 80,-926.46 87,-926.46\"/>\n",
       "</g>\n",
       "<!-- 49 -->\n",
       "<g id=\"node50\" class=\"node\">\n",
       "<title>49</title>\n",
       "<polygon fill=\"#c1ffc1\" stroke=\"none\" points=\"161,-835.5 6,-835.5 6,-791.5 161,-791.5 161,-835.5\"/>\n",
       "<polygon fill=\"none\" stroke=\"black\" points=\"6,-791.5 6,-835.5 70,-835.5 70,-791.5 6,-791.5\"/>\n",
       "<text text-anchor=\"start\" x=\"11\" y=\"-816.75\" font-family=\"Linux libertine\" font-size=\"10.00\">LayerNorm</text>\n",
       "<text text-anchor=\"start\" x=\"19.62\" y=\"-804\" font-family=\"Linux libertine\" font-size=\"10.00\">depth:2</text>\n",
       "<polygon fill=\"none\" stroke=\"black\" points=\"70,-813.5 70,-835.5 117,-835.5 117,-813.5 70,-813.5\"/>\n",
       "<text text-anchor=\"start\" x=\"79.62\" y=\"-821\" font-family=\"Linux libertine\" font-size=\"10.00\">input:</text>\n",
       "<polygon fill=\"none\" stroke=\"black\" points=\"117,-813.5 117,-835.5 161,-835.5 161,-813.5 117,-813.5\"/>\n",
       "<text text-anchor=\"start\" x=\"121.75\" y=\"-821\" font-family=\"Linux libertine\" font-size=\"10.00\">(1, 34) </text>\n",
       "<polygon fill=\"none\" stroke=\"black\" points=\"70,-791.5 70,-813.5 117,-813.5 117,-791.5 70,-791.5\"/>\n",
       "<text text-anchor=\"start\" x=\"74.75\" y=\"-799\" font-family=\"Linux libertine\" font-size=\"10.00\">output: </text>\n",
       "<polygon fill=\"none\" stroke=\"black\" points=\"117,-791.5 117,-813.5 161,-813.5 161,-791.5 117,-791.5\"/>\n",
       "<text text-anchor=\"start\" x=\"121.75\" y=\"-799\" font-family=\"Linux libertine\" font-size=\"10.00\">(1, 34) </text>\n",
       "</g>\n",
       "<!-- 48&#45;&gt;49 -->\n",
       "<g id=\"edge49\" class=\"edge\">\n",
       "<title>48&#45;&gt;49</title>\n",
       "<path fill=\"none\" stroke=\"black\" d=\"M83.5,-871.6C83.5,-863.82 83.5,-854.8 83.5,-846.26\"/>\n",
       "<polygon fill=\"black\" stroke=\"black\" points=\"87,-846.46 83.5,-836.46 80,-846.46 87,-846.46\"/>\n",
       "</g>\n",
       "<!-- 50 -->\n",
       "<g id=\"node51\" class=\"node\">\n",
       "<title>50</title>\n",
       "<polygon fill=\"#c1ffc1\" stroke=\"none\" points=\"152,-755.5 15,-755.5 15,-711.5 152,-711.5 152,-755.5\"/>\n",
       "<polygon fill=\"none\" stroke=\"black\" points=\"15,-711.5 15,-755.5 61,-755.5 61,-711.5 15,-711.5\"/>\n",
       "<text text-anchor=\"start\" x=\"25.25\" y=\"-736.75\" font-family=\"Linux libertine\" font-size=\"10.00\">ReLU</text>\n",
       "<text text-anchor=\"start\" x=\"19.62\" y=\"-724\" font-family=\"Linux libertine\" font-size=\"10.00\">depth:2</text>\n",
       "<polygon fill=\"none\" stroke=\"black\" points=\"61,-733.5 61,-755.5 108,-755.5 108,-733.5 61,-733.5\"/>\n",
       "<text text-anchor=\"start\" x=\"70.62\" y=\"-741\" font-family=\"Linux libertine\" font-size=\"10.00\">input:</text>\n",
       "<polygon fill=\"none\" stroke=\"black\" points=\"108,-733.5 108,-755.5 152,-755.5 152,-733.5 108,-733.5\"/>\n",
       "<text text-anchor=\"start\" x=\"112.75\" y=\"-741\" font-family=\"Linux libertine\" font-size=\"10.00\">(1, 34) </text>\n",
       "<polygon fill=\"none\" stroke=\"black\" points=\"61,-711.5 61,-733.5 108,-733.5 108,-711.5 61,-711.5\"/>\n",
       "<text text-anchor=\"start\" x=\"65.75\" y=\"-719\" font-family=\"Linux libertine\" font-size=\"10.00\">output: </text>\n",
       "<polygon fill=\"none\" stroke=\"black\" points=\"108,-711.5 108,-733.5 152,-733.5 152,-711.5 108,-711.5\"/>\n",
       "<text text-anchor=\"start\" x=\"112.75\" y=\"-719\" font-family=\"Linux libertine\" font-size=\"10.00\">(1, 34) </text>\n",
       "</g>\n",
       "<!-- 49&#45;&gt;50 -->\n",
       "<g id=\"edge50\" class=\"edge\">\n",
       "<title>49&#45;&gt;50</title>\n",
       "<path fill=\"none\" stroke=\"black\" d=\"M83.5,-791.6C83.5,-783.82 83.5,-774.8 83.5,-766.26\"/>\n",
       "<polygon fill=\"black\" stroke=\"black\" points=\"87,-766.46 83.5,-756.46 80,-766.46 87,-766.46\"/>\n",
       "</g>\n",
       "<!-- 51 -->\n",
       "<g id=\"node52\" class=\"node\">\n",
       "<title>51</title>\n",
       "<polygon fill=\"#c1ffc1\" stroke=\"none\" points=\"152,-675.5 15,-675.5 15,-631.5 152,-631.5 152,-675.5\"/>\n",
       "<polygon fill=\"none\" stroke=\"black\" points=\"15,-631.5 15,-675.5 61,-675.5 61,-631.5 15,-631.5\"/>\n",
       "<text text-anchor=\"start\" x=\"23\" y=\"-656.75\" font-family=\"Linux libertine\" font-size=\"10.00\">Linear</text>\n",
       "<text text-anchor=\"start\" x=\"19.62\" y=\"-644\" font-family=\"Linux libertine\" font-size=\"10.00\">depth:2</text>\n",
       "<polygon fill=\"none\" stroke=\"black\" points=\"61,-653.5 61,-675.5 108,-675.5 108,-653.5 61,-653.5\"/>\n",
       "<text text-anchor=\"start\" x=\"70.62\" y=\"-661\" font-family=\"Linux libertine\" font-size=\"10.00\">input:</text>\n",
       "<polygon fill=\"none\" stroke=\"black\" points=\"108,-653.5 108,-675.5 152,-675.5 152,-653.5 108,-653.5\"/>\n",
       "<text text-anchor=\"start\" x=\"112.75\" y=\"-661\" font-family=\"Linux libertine\" font-size=\"10.00\">(1, 34) </text>\n",
       "<polygon fill=\"none\" stroke=\"black\" points=\"61,-631.5 61,-653.5 108,-653.5 108,-631.5 61,-631.5\"/>\n",
       "<text text-anchor=\"start\" x=\"65.75\" y=\"-639\" font-family=\"Linux libertine\" font-size=\"10.00\">output: </text>\n",
       "<polygon fill=\"none\" stroke=\"black\" points=\"108,-631.5 108,-653.5 152,-653.5 152,-631.5 108,-631.5\"/>\n",
       "<text text-anchor=\"start\" x=\"112.75\" y=\"-639\" font-family=\"Linux libertine\" font-size=\"10.00\">(1, 34) </text>\n",
       "</g>\n",
       "<!-- 50&#45;&gt;51 -->\n",
       "<g id=\"edge51\" class=\"edge\">\n",
       "<title>50&#45;&gt;51</title>\n",
       "<path fill=\"none\" stroke=\"black\" d=\"M83.5,-711.6C83.5,-703.82 83.5,-694.8 83.5,-686.26\"/>\n",
       "<polygon fill=\"black\" stroke=\"black\" points=\"87,-686.46 83.5,-676.46 80,-686.46 87,-686.46\"/>\n",
       "</g>\n",
       "<!-- 52 -->\n",
       "<g id=\"node53\" class=\"node\">\n",
       "<title>52</title>\n",
       "<polygon fill=\"#c1ffc1\" stroke=\"none\" points=\"161,-595.5 6,-595.5 6,-551.5 161,-551.5 161,-595.5\"/>\n",
       "<polygon fill=\"none\" stroke=\"black\" points=\"6,-551.5 6,-595.5 70,-595.5 70,-551.5 6,-551.5\"/>\n",
       "<text text-anchor=\"start\" x=\"11\" y=\"-576.75\" font-family=\"Linux libertine\" font-size=\"10.00\">LayerNorm</text>\n",
       "<text text-anchor=\"start\" x=\"19.62\" y=\"-564\" font-family=\"Linux libertine\" font-size=\"10.00\">depth:2</text>\n",
       "<polygon fill=\"none\" stroke=\"black\" points=\"70,-573.5 70,-595.5 117,-595.5 117,-573.5 70,-573.5\"/>\n",
       "<text text-anchor=\"start\" x=\"79.62\" y=\"-581\" font-family=\"Linux libertine\" font-size=\"10.00\">input:</text>\n",
       "<polygon fill=\"none\" stroke=\"black\" points=\"117,-573.5 117,-595.5 161,-595.5 161,-573.5 117,-573.5\"/>\n",
       "<text text-anchor=\"start\" x=\"121.75\" y=\"-581\" font-family=\"Linux libertine\" font-size=\"10.00\">(1, 34) </text>\n",
       "<polygon fill=\"none\" stroke=\"black\" points=\"70,-551.5 70,-573.5 117,-573.5 117,-551.5 70,-551.5\"/>\n",
       "<text text-anchor=\"start\" x=\"74.75\" y=\"-559\" font-family=\"Linux libertine\" font-size=\"10.00\">output: </text>\n",
       "<polygon fill=\"none\" stroke=\"black\" points=\"117,-551.5 117,-573.5 161,-573.5 161,-551.5 117,-551.5\"/>\n",
       "<text text-anchor=\"start\" x=\"121.75\" y=\"-559\" font-family=\"Linux libertine\" font-size=\"10.00\">(1, 34) </text>\n",
       "</g>\n",
       "<!-- 51&#45;&gt;52 -->\n",
       "<g id=\"edge52\" class=\"edge\">\n",
       "<title>51&#45;&gt;52</title>\n",
       "<path fill=\"none\" stroke=\"black\" d=\"M83.5,-631.6C83.5,-623.82 83.5,-614.8 83.5,-606.26\"/>\n",
       "<polygon fill=\"black\" stroke=\"black\" points=\"87,-606.46 83.5,-596.46 80,-606.46 87,-606.46\"/>\n",
       "</g>\n",
       "<!-- 53 -->\n",
       "<g id=\"node54\" class=\"node\">\n",
       "<title>53</title>\n",
       "<polygon fill=\"#c1ffc1\" stroke=\"none\" points=\"152,-515.5 15,-515.5 15,-471.5 152,-471.5 152,-515.5\"/>\n",
       "<polygon fill=\"none\" stroke=\"black\" points=\"15,-471.5 15,-515.5 61,-515.5 61,-471.5 15,-471.5\"/>\n",
       "<text text-anchor=\"start\" x=\"25.25\" y=\"-496.75\" font-family=\"Linux libertine\" font-size=\"10.00\">ReLU</text>\n",
       "<text text-anchor=\"start\" x=\"19.62\" y=\"-484\" font-family=\"Linux libertine\" font-size=\"10.00\">depth:2</text>\n",
       "<polygon fill=\"none\" stroke=\"black\" points=\"61,-493.5 61,-515.5 108,-515.5 108,-493.5 61,-493.5\"/>\n",
       "<text text-anchor=\"start\" x=\"70.62\" y=\"-501\" font-family=\"Linux libertine\" font-size=\"10.00\">input:</text>\n",
       "<polygon fill=\"none\" stroke=\"black\" points=\"108,-493.5 108,-515.5 152,-515.5 152,-493.5 108,-493.5\"/>\n",
       "<text text-anchor=\"start\" x=\"112.75\" y=\"-501\" font-family=\"Linux libertine\" font-size=\"10.00\">(1, 34) </text>\n",
       "<polygon fill=\"none\" stroke=\"black\" points=\"61,-471.5 61,-493.5 108,-493.5 108,-471.5 61,-471.5\"/>\n",
       "<text text-anchor=\"start\" x=\"65.75\" y=\"-479\" font-family=\"Linux libertine\" font-size=\"10.00\">output: </text>\n",
       "<polygon fill=\"none\" stroke=\"black\" points=\"108,-471.5 108,-493.5 152,-493.5 152,-471.5 108,-471.5\"/>\n",
       "<text text-anchor=\"start\" x=\"112.75\" y=\"-479\" font-family=\"Linux libertine\" font-size=\"10.00\">(1, 34) </text>\n",
       "</g>\n",
       "<!-- 52&#45;&gt;53 -->\n",
       "<g id=\"edge53\" class=\"edge\">\n",
       "<title>52&#45;&gt;53</title>\n",
       "<path fill=\"none\" stroke=\"black\" d=\"M83.5,-551.6C83.5,-543.82 83.5,-534.8 83.5,-526.26\"/>\n",
       "<polygon fill=\"black\" stroke=\"black\" points=\"87,-526.46 83.5,-516.46 80,-526.46 87,-526.46\"/>\n",
       "</g>\n",
       "<!-- 54 -->\n",
       "<g id=\"node55\" class=\"node\">\n",
       "<title>54</title>\n",
       "<polygon fill=\"#c1ffc1\" stroke=\"none\" points=\"152,-435.5 15,-435.5 15,-391.5 152,-391.5 152,-435.5\"/>\n",
       "<polygon fill=\"none\" stroke=\"black\" points=\"15,-391.5 15,-435.5 61,-435.5 61,-391.5 15,-391.5\"/>\n",
       "<text text-anchor=\"start\" x=\"23\" y=\"-416.75\" font-family=\"Linux libertine\" font-size=\"10.00\">Linear</text>\n",
       "<text text-anchor=\"start\" x=\"19.62\" y=\"-404\" font-family=\"Linux libertine\" font-size=\"10.00\">depth:2</text>\n",
       "<polygon fill=\"none\" stroke=\"black\" points=\"61,-413.5 61,-435.5 108,-435.5 108,-413.5 61,-413.5\"/>\n",
       "<text text-anchor=\"start\" x=\"70.62\" y=\"-421\" font-family=\"Linux libertine\" font-size=\"10.00\">input:</text>\n",
       "<polygon fill=\"none\" stroke=\"black\" points=\"108,-413.5 108,-435.5 152,-435.5 152,-413.5 108,-413.5\"/>\n",
       "<text text-anchor=\"start\" x=\"112.75\" y=\"-421\" font-family=\"Linux libertine\" font-size=\"10.00\">(1, 34) </text>\n",
       "<polygon fill=\"none\" stroke=\"black\" points=\"61,-391.5 61,-413.5 108,-413.5 108,-391.5 61,-391.5\"/>\n",
       "<text text-anchor=\"start\" x=\"65.75\" y=\"-399\" font-family=\"Linux libertine\" font-size=\"10.00\">output: </text>\n",
       "<polygon fill=\"none\" stroke=\"black\" points=\"108,-391.5 108,-413.5 152,-413.5 152,-391.5 108,-391.5\"/>\n",
       "<text text-anchor=\"start\" x=\"112.75\" y=\"-399\" font-family=\"Linux libertine\" font-size=\"10.00\">(1, 34) </text>\n",
       "</g>\n",
       "<!-- 53&#45;&gt;54 -->\n",
       "<g id=\"edge54\" class=\"edge\">\n",
       "<title>53&#45;&gt;54</title>\n",
       "<path fill=\"none\" stroke=\"black\" d=\"M83.5,-471.6C83.5,-463.82 83.5,-454.8 83.5,-446.26\"/>\n",
       "<polygon fill=\"black\" stroke=\"black\" points=\"87,-446.46 83.5,-436.46 80,-446.46 87,-446.46\"/>\n",
       "</g>\n",
       "<!-- 55 -->\n",
       "<g id=\"node56\" class=\"node\">\n",
       "<title>55</title>\n",
       "<polygon fill=\"#c1ffc1\" stroke=\"none\" points=\"161,-355.5 6,-355.5 6,-311.5 161,-311.5 161,-355.5\"/>\n",
       "<polygon fill=\"none\" stroke=\"black\" points=\"6,-311.5 6,-355.5 70,-355.5 70,-311.5 6,-311.5\"/>\n",
       "<text text-anchor=\"start\" x=\"11\" y=\"-336.75\" font-family=\"Linux libertine\" font-size=\"10.00\">LayerNorm</text>\n",
       "<text text-anchor=\"start\" x=\"19.62\" y=\"-324\" font-family=\"Linux libertine\" font-size=\"10.00\">depth:2</text>\n",
       "<polygon fill=\"none\" stroke=\"black\" points=\"70,-333.5 70,-355.5 117,-355.5 117,-333.5 70,-333.5\"/>\n",
       "<text text-anchor=\"start\" x=\"79.62\" y=\"-341\" font-family=\"Linux libertine\" font-size=\"10.00\">input:</text>\n",
       "<polygon fill=\"none\" stroke=\"black\" points=\"117,-333.5 117,-355.5 161,-355.5 161,-333.5 117,-333.5\"/>\n",
       "<text text-anchor=\"start\" x=\"121.75\" y=\"-341\" font-family=\"Linux libertine\" font-size=\"10.00\">(1, 34) </text>\n",
       "<polygon fill=\"none\" stroke=\"black\" points=\"70,-311.5 70,-333.5 117,-333.5 117,-311.5 70,-311.5\"/>\n",
       "<text text-anchor=\"start\" x=\"74.75\" y=\"-319\" font-family=\"Linux libertine\" font-size=\"10.00\">output: </text>\n",
       "<polygon fill=\"none\" stroke=\"black\" points=\"117,-311.5 117,-333.5 161,-333.5 161,-311.5 117,-311.5\"/>\n",
       "<text text-anchor=\"start\" x=\"121.75\" y=\"-319\" font-family=\"Linux libertine\" font-size=\"10.00\">(1, 34) </text>\n",
       "</g>\n",
       "<!-- 54&#45;&gt;55 -->\n",
       "<g id=\"edge55\" class=\"edge\">\n",
       "<title>54&#45;&gt;55</title>\n",
       "<path fill=\"none\" stroke=\"black\" d=\"M83.5,-391.6C83.5,-383.82 83.5,-374.8 83.5,-366.26\"/>\n",
       "<polygon fill=\"black\" stroke=\"black\" points=\"87,-366.46 83.5,-356.46 80,-366.46 87,-366.46\"/>\n",
       "</g>\n",
       "<!-- 56 -->\n",
       "<g id=\"node57\" class=\"node\">\n",
       "<title>56</title>\n",
       "<polygon fill=\"#c1ffc1\" stroke=\"none\" points=\"152,-275.5 15,-275.5 15,-231.5 152,-231.5 152,-275.5\"/>\n",
       "<polygon fill=\"none\" stroke=\"black\" points=\"15,-231.5 15,-275.5 61,-275.5 61,-231.5 15,-231.5\"/>\n",
       "<text text-anchor=\"start\" x=\"25.25\" y=\"-256.75\" font-family=\"Linux libertine\" font-size=\"10.00\">ReLU</text>\n",
       "<text text-anchor=\"start\" x=\"19.62\" y=\"-244\" font-family=\"Linux libertine\" font-size=\"10.00\">depth:2</text>\n",
       "<polygon fill=\"none\" stroke=\"black\" points=\"61,-253.5 61,-275.5 108,-275.5 108,-253.5 61,-253.5\"/>\n",
       "<text text-anchor=\"start\" x=\"70.62\" y=\"-261\" font-family=\"Linux libertine\" font-size=\"10.00\">input:</text>\n",
       "<polygon fill=\"none\" stroke=\"black\" points=\"108,-253.5 108,-275.5 152,-275.5 152,-253.5 108,-253.5\"/>\n",
       "<text text-anchor=\"start\" x=\"112.75\" y=\"-261\" font-family=\"Linux libertine\" font-size=\"10.00\">(1, 34) </text>\n",
       "<polygon fill=\"none\" stroke=\"black\" points=\"61,-231.5 61,-253.5 108,-253.5 108,-231.5 61,-231.5\"/>\n",
       "<text text-anchor=\"start\" x=\"65.75\" y=\"-239\" font-family=\"Linux libertine\" font-size=\"10.00\">output: </text>\n",
       "<polygon fill=\"none\" stroke=\"black\" points=\"108,-231.5 108,-253.5 152,-253.5 152,-231.5 108,-231.5\"/>\n",
       "<text text-anchor=\"start\" x=\"112.75\" y=\"-239\" font-family=\"Linux libertine\" font-size=\"10.00\">(1, 34) </text>\n",
       "</g>\n",
       "<!-- 55&#45;&gt;56 -->\n",
       "<g id=\"edge56\" class=\"edge\">\n",
       "<title>55&#45;&gt;56</title>\n",
       "<path fill=\"none\" stroke=\"black\" d=\"M83.5,-311.6C83.5,-303.82 83.5,-294.8 83.5,-286.26\"/>\n",
       "<polygon fill=\"black\" stroke=\"black\" points=\"87,-286.46 83.5,-276.46 80,-286.46 87,-286.46\"/>\n",
       "</g>\n",
       "<!-- 57 -->\n",
       "<g id=\"node58\" class=\"node\">\n",
       "<title>57</title>\n",
       "<polygon fill=\"#c1ffc1\" stroke=\"none\" points=\"153.5,-195.5 13.5,-195.5 13.5,-151.5 153.5,-151.5 153.5,-195.5\"/>\n",
       "<polygon fill=\"none\" stroke=\"black\" points=\"13.5,-151.5 13.5,-195.5 62.5,-195.5 62.5,-151.5 13.5,-151.5\"/>\n",
       "<text text-anchor=\"start\" x=\"18.5\" y=\"-176.75\" font-family=\"Linux libertine\" font-size=\"10.00\">Dropout</text>\n",
       "<text text-anchor=\"start\" x=\"19.62\" y=\"-164\" font-family=\"Linux libertine\" font-size=\"10.00\">depth:1</text>\n",
       "<polygon fill=\"none\" stroke=\"black\" points=\"62.5,-173.5 62.5,-195.5 109.5,-195.5 109.5,-173.5 62.5,-173.5\"/>\n",
       "<text text-anchor=\"start\" x=\"72.12\" y=\"-181\" font-family=\"Linux libertine\" font-size=\"10.00\">input:</text>\n",
       "<polygon fill=\"none\" stroke=\"black\" points=\"109.5,-173.5 109.5,-195.5 153.5,-195.5 153.5,-173.5 109.5,-173.5\"/>\n",
       "<text text-anchor=\"start\" x=\"114.25\" y=\"-181\" font-family=\"Linux libertine\" font-size=\"10.00\">(1, 34) </text>\n",
       "<polygon fill=\"none\" stroke=\"black\" points=\"62.5,-151.5 62.5,-173.5 109.5,-173.5 109.5,-151.5 62.5,-151.5\"/>\n",
       "<text text-anchor=\"start\" x=\"67.25\" y=\"-159\" font-family=\"Linux libertine\" font-size=\"10.00\">output: </text>\n",
       "<polygon fill=\"none\" stroke=\"black\" points=\"109.5,-151.5 109.5,-173.5 153.5,-173.5 153.5,-151.5 109.5,-151.5\"/>\n",
       "<text text-anchor=\"start\" x=\"114.25\" y=\"-159\" font-family=\"Linux libertine\" font-size=\"10.00\">(1, 34) </text>\n",
       "</g>\n",
       "<!-- 56&#45;&gt;57 -->\n",
       "<g id=\"edge57\" class=\"edge\">\n",
       "<title>56&#45;&gt;57</title>\n",
       "<path fill=\"none\" stroke=\"black\" d=\"M83.5,-231.6C83.5,-223.82 83.5,-214.8 83.5,-206.26\"/>\n",
       "<polygon fill=\"black\" stroke=\"black\" points=\"87,-206.46 83.5,-196.46 80,-206.46 87,-206.46\"/>\n",
       "</g>\n",
       "<!-- 58 -->\n",
       "<g id=\"node59\" class=\"node\">\n",
       "<title>58</title>\n",
       "<polygon fill=\"#c1ffc1\" stroke=\"none\" points=\"152,-115.5 15,-115.5 15,-71.5 152,-71.5 152,-115.5\"/>\n",
       "<polygon fill=\"none\" stroke=\"black\" points=\"15,-71.5 15,-115.5 61,-115.5 61,-71.5 15,-71.5\"/>\n",
       "<text text-anchor=\"start\" x=\"23\" y=\"-96.75\" font-family=\"Linux libertine\" font-size=\"10.00\">Linear</text>\n",
       "<text text-anchor=\"start\" x=\"19.62\" y=\"-84\" font-family=\"Linux libertine\" font-size=\"10.00\">depth:1</text>\n",
       "<polygon fill=\"none\" stroke=\"black\" points=\"61,-93.5 61,-115.5 108,-115.5 108,-93.5 61,-93.5\"/>\n",
       "<text text-anchor=\"start\" x=\"70.62\" y=\"-101\" font-family=\"Linux libertine\" font-size=\"10.00\">input:</text>\n",
       "<polygon fill=\"none\" stroke=\"black\" points=\"108,-93.5 108,-115.5 152,-115.5 152,-93.5 108,-93.5\"/>\n",
       "<text text-anchor=\"start\" x=\"112.75\" y=\"-101\" font-family=\"Linux libertine\" font-size=\"10.00\">(1, 34) </text>\n",
       "<polygon fill=\"none\" stroke=\"black\" points=\"61,-71.5 61,-93.5 108,-93.5 108,-71.5 61,-71.5\"/>\n",
       "<text text-anchor=\"start\" x=\"65.75\" y=\"-79\" font-family=\"Linux libertine\" font-size=\"10.00\">output: </text>\n",
       "<polygon fill=\"none\" stroke=\"black\" points=\"108,-71.5 108,-93.5 152,-93.5 152,-71.5 108,-71.5\"/>\n",
       "<text text-anchor=\"start\" x=\"112.75\" y=\"-79\" font-family=\"Linux libertine\" font-size=\"10.00\">(1, 10) </text>\n",
       "</g>\n",
       "<!-- 57&#45;&gt;58 -->\n",
       "<g id=\"edge58\" class=\"edge\">\n",
       "<title>57&#45;&gt;58</title>\n",
       "<path fill=\"none\" stroke=\"black\" d=\"M83.5,-151.6C83.5,-143.82 83.5,-134.8 83.5,-126.26\"/>\n",
       "<polygon fill=\"black\" stroke=\"black\" points=\"87,-126.46 83.5,-116.46 80,-126.46 87,-126.46\"/>\n",
       "</g>\n",
       "<!-- 59 -->\n",
       "<g id=\"node60\" class=\"node\">\n",
       "<title>59</title>\n",
       "<polygon fill=\"lightyellow\" stroke=\"none\" points=\"142.25,-35.5 24.75,-35.5 24.75,0 142.25,0 142.25,-35.5\"/>\n",
       "<polygon fill=\"none\" stroke=\"black\" points=\"24.75,0 24.75,-35.5 100.75,-35.5 100.75,0 24.75,0\"/>\n",
       "<text text-anchor=\"start\" x=\"29.75\" y=\"-21\" font-family=\"Linux libertine\" font-size=\"10.00\">output&#45;tensor</text>\n",
       "<text text-anchor=\"start\" x=\"44.38\" y=\"-8.25\" font-family=\"Linux libertine\" font-size=\"10.00\">depth:0</text>\n",
       "<polygon fill=\"none\" stroke=\"black\" points=\"100.75,0 100.75,-35.5 142.25,-35.5 142.25,0 100.75,0\"/>\n",
       "<text text-anchor=\"start\" x=\"105.75\" y=\"-14.62\" font-family=\"Linux libertine\" font-size=\"10.00\">(1, 10)</text>\n",
       "</g>\n",
       "<!-- 58&#45;&gt;59 -->\n",
       "<g id=\"edge59\" class=\"edge\">\n",
       "<title>58&#45;&gt;59</title>\n",
       "<path fill=\"none\" stroke=\"black\" d=\"M83.5,-71.56C83.5,-63.6 83.5,-54.41 83.5,-45.95\"/>\n",
       "<polygon fill=\"black\" stroke=\"black\" points=\"87,-46.05 83.5,-36.05 80,-46.05 87,-46.05\"/>\n",
       "</g>\n",
       "</g>\n",
       "</svg>\n"
      ],
      "text/plain": [
       "<graphviz.graphs.Digraph at 0x7f5739763c10>"
      ]
     },
     "execution_count": 95,
     "metadata": {},
     "output_type": "execute_result"
    }
   ],
   "source": [
    "model_graph = draw_graph(model, input_size=(1,)+x_train.shape[1:], device=device, depth=3)\n",
    "model_graph.visual_graph"
   ]
  },
  {
   "cell_type": "code",
   "execution_count": 96,
   "id": "0253032d-f7be-4b15-a685-5a3d9453ff71",
   "metadata": {},
   "outputs": [
    {
     "data": {
      "text/plain": [
       "array([[0.18695775, 0.07694218, 0.20336662, 0.05073893, 0.18913218,\n",
       "        0.04795269, 0.04471048, 0.10249156, 0.0257981 , 0.07190952],\n",
       "       [0.09451248, 0.09713816, 0.2001834 , 0.08931429, 0.10689557,\n",
       "        0.04261239, 0.0519436 , 0.18745466, 0.04246744, 0.08747801],\n",
       "       [0.08157965, 0.02869837, 0.0806328 , 0.12948057, 0.17965005,\n",
       "        0.25773463, 0.05702164, 0.04757256, 0.05358681, 0.08404295],\n",
       "       [0.07868969, 0.07504448, 0.07248005, 0.1989915 , 0.24538466,\n",
       "        0.07089431, 0.04593381, 0.10224403, 0.02911278, 0.08122471],\n",
       "       [0.06824128, 0.09589849, 0.03830223, 0.12200911, 0.18889333,\n",
       "        0.11985818, 0.08592826, 0.06241767, 0.07865527, 0.13979614]],\n",
       "      dtype=float32)"
      ]
     },
     "execution_count": 96,
     "metadata": {},
     "output_type": "execute_result"
    }
   ],
   "source": [
    "predictions = model.predict(x_train[:5].to(device)).cpu().detach().numpy()\n",
    "\n",
    "predictions"
   ]
  },
  {
   "cell_type": "code",
   "execution_count": 97,
   "id": "45376e7b-14f9-40f0-9dc4-f69d36173257",
   "metadata": {},
   "outputs": [
    {
     "data": {
      "text/plain": [
       "array(2.770155, dtype=float32)"
      ]
     },
     "execution_count": 97,
     "metadata": {},
     "output_type": "execute_result"
    }
   ],
   "source": [
    "model.model_loss(model(x_train[:5].to(device)),\n",
    "                 y_train[:5].to(device)\n",
    "                ).cpu().detach().numpy()"
   ]
  },
  {
   "cell_type": "code",
   "execution_count": 98,
   "id": "ce606e14-43f5-40b2-8d79-0e2d821618ca",
   "metadata": {},
   "outputs": [
    {
     "data": {
      "text/plain": [
       "array(0., dtype=float32)"
      ]
     },
     "execution_count": 98,
     "metadata": {},
     "output_type": "execute_result"
    }
   ],
   "source": [
    "model.model_acc(model(x_train[:5].to(device)),\n",
    "                y_train[:5].to(device)).cpu().detach().numpy()"
   ]
  },
  {
   "cell_type": "code",
   "execution_count": 99,
   "id": "26ce1f67-ea2c-4380-b1d0-d0181df48e02",
   "metadata": {},
   "outputs": [],
   "source": [
    "xy_train = torch.utils.data.DataLoader(list(zip(x_train, y_train)),\n",
    "                                       shuffle=True,\n",
    "                                       batch_size=250,\n",
    "                                       num_workers=cfg_num_workers) # Using CFG\n",
    "\n",
    "xy_val = torch.utils.data.DataLoader(list(zip(x_val, y_val)),\n",
    "                                     shuffle=False,\n",
    "                                     batch_size=250,\n",
    "                                     num_workers=cfg_num_workers) # Using CFG\n",
    "\n",
    "xy_test = torch.utils.data.DataLoader(list(zip(x_test, y_test)),\n",
    "                                      shuffle=False,\n",
    "                                      batch_size=250,\n",
    "                                      num_workers=cfg_num_workers) # Using CFG"
   ]
  },
  {
   "cell_type": "code",
   "execution_count": 100,
   "id": "b1ff5710-2a81-4948-b268-75f744e59797",
   "metadata": {},
   "outputs": [],
   "source": [
    "# Setup Logger\n",
    "logger = pl.loggers.CSVLogger(\"logs\", name=\"OL2\", version=\"deep\")"
   ]
  },
  {
   "cell_type": "code",
   "execution_count": 101,
   "id": "65eddc4d-787a-41ea-b280-41c2d5bf843e",
   "metadata": {},
   "outputs": [
    {
     "name": "stderr",
     "output_type": "stream",
     "text": [
      "GPU available: True (cuda), used: True\n",
      "TPU available: False, using: 0 TPU cores\n",
      "IPU available: False, using: 0 IPUs\n",
      "HPU available: False, using: 0 HPUs\n"
     ]
    }
   ],
   "source": [
    "trainer = pl.Trainer(logger=logger,\n",
    "                     max_epochs=cfg_max_epochs,\n",
    "                     enable_progress_bar=True,\n",
    "                     log_every_n_steps=0,\n",
    "                     callbacks=[pl.callbacks.TQDMProgressBar(refresh_rate=20)])"
   ]
  },
  {
   "cell_type": "code",
   "execution_count": 102,
   "id": "2b188cc5-d579-495e-a35c-47d02e948efa",
   "metadata": {},
   "outputs": [
    {
     "name": "stderr",
     "output_type": "stream",
     "text": [
      "/opt/conda/lib/python3.11/site-packages/lightning/fabric/loggers/csv_logs.py:195: UserWarning: Experiment logs directory logs/OL2/deep exists and is not empty. Previous log files in this directory will be deleted when the new ones are saved!\n",
      "  rank_zero_warn(\n",
      "LOCAL_RANK: 0 - CUDA_VISIBLE_DEVICES: [0]\n",
      "SLURM auto-requeueing enabled. Setting signal handlers.\n",
      "/opt/conda/lib/python3.11/site-packages/lightning/pytorch/trainer/connectors/data_connector.py:442: PossibleUserWarning: The dataloader, val_dataloader, does not have many workers which may be a bottleneck. Consider increasing the value of the `num_workers` argument` (try 20 which is the number of cpus on this machine) in the `DataLoader` init to improve performance.\n",
      "  rank_zero_warn(\n"
     ]
    },
    {
     "data": {
      "application/vnd.jupyter.widget-view+json": {
       "model_id": "7fcb317411954d2ca7a08fe5dd68d339",
       "version_major": 2,
       "version_minor": 0
      },
      "text/plain": [
       "Validation: 0it [00:00, ?it/s]"
      ]
     },
     "metadata": {},
     "output_type": "display_data"
    },
    {
     "data": {
      "text/html": [
       "<pre style=\"white-space:pre;overflow-x:auto;line-height:normal;font-family:Menlo,'DejaVu Sans Mono',consolas,'Courier New',monospace\">┏━━━━━━━━━━━━━━━━━━━━━━━━━━━┳━━━━━━━━━━━━━━━━━━━━━━━━━━━┓\n",
       "┃<span style=\"font-weight: bold\">  Runningstage.validating  </span>┃<span style=\"font-weight: bold\">                           </span>┃\n",
       "┃<span style=\"font-weight: bold\">          metric           </span>┃<span style=\"font-weight: bold\">       DataLoader 0        </span>┃\n",
       "┡━━━━━━━━━━━━━━━━━━━━━━━━━━━╇━━━━━━━━━━━━━━━━━━━━━━━━━━━┩\n",
       "│<span style=\"color: #008080; text-decoration-color: #008080\">          val_acc          </span>│<span style=\"color: #800080; text-decoration-color: #800080\">    0.09709999710321426    </span>│\n",
       "│<span style=\"color: #008080; text-decoration-color: #008080\">         val_loss          </span>│<span style=\"color: #800080; text-decoration-color: #800080\">    2.3640315532684326     </span>│\n",
       "└───────────────────────────┴───────────────────────────┘\n",
       "</pre>\n"
      ],
      "text/plain": [
       "┏━━━━━━━━━━━━━━━━━━━━━━━━━━━┳━━━━━━━━━━━━━━━━━━━━━━━━━━━┓\n",
       "┃\u001b[1m \u001b[0m\u001b[1m Runningstage.validating \u001b[0m\u001b[1m \u001b[0m┃\u001b[1m                           \u001b[0m┃\n",
       "┃\u001b[1m \u001b[0m\u001b[1m         metric          \u001b[0m\u001b[1m \u001b[0m┃\u001b[1m \u001b[0m\u001b[1m      DataLoader 0       \u001b[0m\u001b[1m \u001b[0m┃\n",
       "┡━━━━━━━━━━━━━━━━━━━━━━━━━━━╇━━━━━━━━━━━━━━━━━━━━━━━━━━━┩\n",
       "│\u001b[36m \u001b[0m\u001b[36m         val_acc         \u001b[0m\u001b[36m \u001b[0m│\u001b[35m \u001b[0m\u001b[35m   0.09709999710321426   \u001b[0m\u001b[35m \u001b[0m│\n",
       "│\u001b[36m \u001b[0m\u001b[36m        val_loss         \u001b[0m\u001b[36m \u001b[0m│\u001b[35m \u001b[0m\u001b[35m   2.3640315532684326    \u001b[0m\u001b[35m \u001b[0m│\n",
       "└───────────────────────────┴───────────────────────────┘\n"
      ]
     },
     "metadata": {},
     "output_type": "display_data"
    },
    {
     "data": {
      "text/plain": [
       "[{'val_acc': 0.09709999710321426, 'val_loss': 2.3640315532684326}]"
      ]
     },
     "execution_count": 102,
     "metadata": {},
     "output_type": "execute_result"
    }
   ],
   "source": [
    "# Validate on Model\n",
    "trainer.validate(model, xy_val)"
   ]
  },
  {
   "cell_type": "code",
   "execution_count": 103,
   "id": "46946238-44e0-4d15-8a30-306756249078",
   "metadata": {},
   "outputs": [
    {
     "name": "stderr",
     "output_type": "stream",
     "text": [
      "/opt/conda/lib/python3.11/site-packages/lightning/pytorch/callbacks/model_checkpoint.py:617: UserWarning: Checkpoint directory logs/OL2/deep/checkpoints exists and is not empty.\n",
      "  rank_zero_warn(f\"Checkpoint directory {dirpath} exists and is not empty.\")\n",
      "LOCAL_RANK: 0 - CUDA_VISIBLE_DEVICES: [0]\n",
      "\n",
      "  | Name       | Type               | Params\n",
      "--------------------------------------------------\n",
      "0 | module     | DeepNetwork        | 127 K \n",
      "1 | model_acc  | MulticlassAccuracy | 0     \n",
      "2 | model_loss | CrossEntropyLoss   | 0     \n",
      "--------------------------------------------------\n",
      "127 K     Trainable params\n",
      "0         Non-trainable params\n",
      "127 K     Total params\n",
      "0.510     Total estimated model params size (MB)\n",
      "SLURM auto-requeueing enabled. Setting signal handlers.\n"
     ]
    },
    {
     "data": {
      "application/vnd.jupyter.widget-view+json": {
       "model_id": "",
       "version_major": 2,
       "version_minor": 0
      },
      "text/plain": [
       "Sanity Checking: 0it [00:00, ?it/s]"
      ]
     },
     "metadata": {},
     "output_type": "display_data"
    },
    {
     "name": "stderr",
     "output_type": "stream",
     "text": [
      "/opt/conda/lib/python3.11/site-packages/lightning/pytorch/trainer/connectors/data_connector.py:442: PossibleUserWarning: The dataloader, train_dataloader, does not have many workers which may be a bottleneck. Consider increasing the value of the `num_workers` argument` (try 20 which is the number of cpus on this machine) in the `DataLoader` init to improve performance.\n",
      "  rank_zero_warn(\n"
     ]
    },
    {
     "data": {
      "application/vnd.jupyter.widget-view+json": {
       "model_id": "d25fe10a5da143ca8b8a8a7c9e7f8e89",
       "version_major": 2,
       "version_minor": 0
      },
      "text/plain": [
       "Training: 0it [00:00, ?it/s]"
      ]
     },
     "metadata": {},
     "output_type": "display_data"
    },
    {
     "data": {
      "application/vnd.jupyter.widget-view+json": {
       "model_id": "",
       "version_major": 2,
       "version_minor": 0
      },
      "text/plain": [
       "Validation: 0it [00:00, ?it/s]"
      ]
     },
     "metadata": {},
     "output_type": "display_data"
    },
    {
     "data": {
      "application/vnd.jupyter.widget-view+json": {
       "model_id": "",
       "version_major": 2,
       "version_minor": 0
      },
      "text/plain": [
       "Validation: 0it [00:00, ?it/s]"
      ]
     },
     "metadata": {},
     "output_type": "display_data"
    },
    {
     "data": {
      "application/vnd.jupyter.widget-view+json": {
       "model_id": "",
       "version_major": 2,
       "version_minor": 0
      },
      "text/plain": [
       "Validation: 0it [00:00, ?it/s]"
      ]
     },
     "metadata": {},
     "output_type": "display_data"
    },
    {
     "data": {
      "application/vnd.jupyter.widget-view+json": {
       "model_id": "",
       "version_major": 2,
       "version_minor": 0
      },
      "text/plain": [
       "Validation: 0it [00:00, ?it/s]"
      ]
     },
     "metadata": {},
     "output_type": "display_data"
    },
    {
     "data": {
      "application/vnd.jupyter.widget-view+json": {
       "model_id": "",
       "version_major": 2,
       "version_minor": 0
      },
      "text/plain": [
       "Validation: 0it [00:00, ?it/s]"
      ]
     },
     "metadata": {},
     "output_type": "display_data"
    },
    {
     "data": {
      "application/vnd.jupyter.widget-view+json": {
       "model_id": "",
       "version_major": 2,
       "version_minor": 0
      },
      "text/plain": [
       "Validation: 0it [00:00, ?it/s]"
      ]
     },
     "metadata": {},
     "output_type": "display_data"
    },
    {
     "data": {
      "application/vnd.jupyter.widget-view+json": {
       "model_id": "",
       "version_major": 2,
       "version_minor": 0
      },
      "text/plain": [
       "Validation: 0it [00:00, ?it/s]"
      ]
     },
     "metadata": {},
     "output_type": "display_data"
    },
    {
     "data": {
      "application/vnd.jupyter.widget-view+json": {
       "model_id": "",
       "version_major": 2,
       "version_minor": 0
      },
      "text/plain": [
       "Validation: 0it [00:00, ?it/s]"
      ]
     },
     "metadata": {},
     "output_type": "display_data"
    },
    {
     "data": {
      "application/vnd.jupyter.widget-view+json": {
       "model_id": "",
       "version_major": 2,
       "version_minor": 0
      },
      "text/plain": [
       "Validation: 0it [00:00, ?it/s]"
      ]
     },
     "metadata": {},
     "output_type": "display_data"
    },
    {
     "data": {
      "application/vnd.jupyter.widget-view+json": {
       "model_id": "",
       "version_major": 2,
       "version_minor": 0
      },
      "text/plain": [
       "Validation: 0it [00:00, ?it/s]"
      ]
     },
     "metadata": {},
     "output_type": "display_data"
    },
    {
     "data": {
      "application/vnd.jupyter.widget-view+json": {
       "model_id": "",
       "version_major": 2,
       "version_minor": 0
      },
      "text/plain": [
       "Validation: 0it [00:00, ?it/s]"
      ]
     },
     "metadata": {},
     "output_type": "display_data"
    },
    {
     "data": {
      "application/vnd.jupyter.widget-view+json": {
       "model_id": "",
       "version_major": 2,
       "version_minor": 0
      },
      "text/plain": [
       "Validation: 0it [00:00, ?it/s]"
      ]
     },
     "metadata": {},
     "output_type": "display_data"
    },
    {
     "data": {
      "application/vnd.jupyter.widget-view+json": {
       "model_id": "",
       "version_major": 2,
       "version_minor": 0
      },
      "text/plain": [
       "Validation: 0it [00:00, ?it/s]"
      ]
     },
     "metadata": {},
     "output_type": "display_data"
    },
    {
     "data": {
      "application/vnd.jupyter.widget-view+json": {
       "model_id": "",
       "version_major": 2,
       "version_minor": 0
      },
      "text/plain": [
       "Validation: 0it [00:00, ?it/s]"
      ]
     },
     "metadata": {},
     "output_type": "display_data"
    },
    {
     "data": {
      "application/vnd.jupyter.widget-view+json": {
       "model_id": "",
       "version_major": 2,
       "version_minor": 0
      },
      "text/plain": [
       "Validation: 0it [00:00, ?it/s]"
      ]
     },
     "metadata": {},
     "output_type": "display_data"
    },
    {
     "data": {
      "application/vnd.jupyter.widget-view+json": {
       "model_id": "",
       "version_major": 2,
       "version_minor": 0
      },
      "text/plain": [
       "Validation: 0it [00:00, ?it/s]"
      ]
     },
     "metadata": {},
     "output_type": "display_data"
    },
    {
     "data": {
      "application/vnd.jupyter.widget-view+json": {
       "model_id": "",
       "version_major": 2,
       "version_minor": 0
      },
      "text/plain": [
       "Validation: 0it [00:00, ?it/s]"
      ]
     },
     "metadata": {},
     "output_type": "display_data"
    },
    {
     "data": {
      "application/vnd.jupyter.widget-view+json": {
       "model_id": "",
       "version_major": 2,
       "version_minor": 0
      },
      "text/plain": [
       "Validation: 0it [00:00, ?it/s]"
      ]
     },
     "metadata": {},
     "output_type": "display_data"
    },
    {
     "data": {
      "application/vnd.jupyter.widget-view+json": {
       "model_id": "",
       "version_major": 2,
       "version_minor": 0
      },
      "text/plain": [
       "Validation: 0it [00:00, ?it/s]"
      ]
     },
     "metadata": {},
     "output_type": "display_data"
    },
    {
     "data": {
      "application/vnd.jupyter.widget-view+json": {
       "model_id": "",
       "version_major": 2,
       "version_minor": 0
      },
      "text/plain": [
       "Validation: 0it [00:00, ?it/s]"
      ]
     },
     "metadata": {},
     "output_type": "display_data"
    },
    {
     "data": {
      "application/vnd.jupyter.widget-view+json": {
       "model_id": "",
       "version_major": 2,
       "version_minor": 0
      },
      "text/plain": [
       "Validation: 0it [00:00, ?it/s]"
      ]
     },
     "metadata": {},
     "output_type": "display_data"
    },
    {
     "data": {
      "application/vnd.jupyter.widget-view+json": {
       "model_id": "",
       "version_major": 2,
       "version_minor": 0
      },
      "text/plain": [
       "Validation: 0it [00:00, ?it/s]"
      ]
     },
     "metadata": {},
     "output_type": "display_data"
    },
    {
     "data": {
      "application/vnd.jupyter.widget-view+json": {
       "model_id": "",
       "version_major": 2,
       "version_minor": 0
      },
      "text/plain": [
       "Validation: 0it [00:00, ?it/s]"
      ]
     },
     "metadata": {},
     "output_type": "display_data"
    },
    {
     "data": {
      "application/vnd.jupyter.widget-view+json": {
       "model_id": "",
       "version_major": 2,
       "version_minor": 0
      },
      "text/plain": [
       "Validation: 0it [00:00, ?it/s]"
      ]
     },
     "metadata": {},
     "output_type": "display_data"
    },
    {
     "data": {
      "application/vnd.jupyter.widget-view+json": {
       "model_id": "",
       "version_major": 2,
       "version_minor": 0
      },
      "text/plain": [
       "Validation: 0it [00:00, ?it/s]"
      ]
     },
     "metadata": {},
     "output_type": "display_data"
    },
    {
     "data": {
      "application/vnd.jupyter.widget-view+json": {
       "model_id": "",
       "version_major": 2,
       "version_minor": 0
      },
      "text/plain": [
       "Validation: 0it [00:00, ?it/s]"
      ]
     },
     "metadata": {},
     "output_type": "display_data"
    },
    {
     "data": {
      "application/vnd.jupyter.widget-view+json": {
       "model_id": "",
       "version_major": 2,
       "version_minor": 0
      },
      "text/plain": [
       "Validation: 0it [00:00, ?it/s]"
      ]
     },
     "metadata": {},
     "output_type": "display_data"
    },
    {
     "data": {
      "application/vnd.jupyter.widget-view+json": {
       "model_id": "",
       "version_major": 2,
       "version_minor": 0
      },
      "text/plain": [
       "Validation: 0it [00:00, ?it/s]"
      ]
     },
     "metadata": {},
     "output_type": "display_data"
    },
    {
     "data": {
      "application/vnd.jupyter.widget-view+json": {
       "model_id": "",
       "version_major": 2,
       "version_minor": 0
      },
      "text/plain": [
       "Validation: 0it [00:00, ?it/s]"
      ]
     },
     "metadata": {},
     "output_type": "display_data"
    },
    {
     "data": {
      "application/vnd.jupyter.widget-view+json": {
       "model_id": "",
       "version_major": 2,
       "version_minor": 0
      },
      "text/plain": [
       "Validation: 0it [00:00, ?it/s]"
      ]
     },
     "metadata": {},
     "output_type": "display_data"
    },
    {
     "data": {
      "application/vnd.jupyter.widget-view+json": {
       "model_id": "",
       "version_major": 2,
       "version_minor": 0
      },
      "text/plain": [
       "Validation: 0it [00:00, ?it/s]"
      ]
     },
     "metadata": {},
     "output_type": "display_data"
    },
    {
     "data": {
      "application/vnd.jupyter.widget-view+json": {
       "model_id": "",
       "version_major": 2,
       "version_minor": 0
      },
      "text/plain": [
       "Validation: 0it [00:00, ?it/s]"
      ]
     },
     "metadata": {},
     "output_type": "display_data"
    },
    {
     "data": {
      "application/vnd.jupyter.widget-view+json": {
       "model_id": "",
       "version_major": 2,
       "version_minor": 0
      },
      "text/plain": [
       "Validation: 0it [00:00, ?it/s]"
      ]
     },
     "metadata": {},
     "output_type": "display_data"
    },
    {
     "data": {
      "application/vnd.jupyter.widget-view+json": {
       "model_id": "",
       "version_major": 2,
       "version_minor": 0
      },
      "text/plain": [
       "Validation: 0it [00:00, ?it/s]"
      ]
     },
     "metadata": {},
     "output_type": "display_data"
    },
    {
     "data": {
      "application/vnd.jupyter.widget-view+json": {
       "model_id": "",
       "version_major": 2,
       "version_minor": 0
      },
      "text/plain": [
       "Validation: 0it [00:00, ?it/s]"
      ]
     },
     "metadata": {},
     "output_type": "display_data"
    },
    {
     "data": {
      "application/vnd.jupyter.widget-view+json": {
       "model_id": "",
       "version_major": 2,
       "version_minor": 0
      },
      "text/plain": [
       "Validation: 0it [00:00, ?it/s]"
      ]
     },
     "metadata": {},
     "output_type": "display_data"
    },
    {
     "data": {
      "application/vnd.jupyter.widget-view+json": {
       "model_id": "",
       "version_major": 2,
       "version_minor": 0
      },
      "text/plain": [
       "Validation: 0it [00:00, ?it/s]"
      ]
     },
     "metadata": {},
     "output_type": "display_data"
    },
    {
     "data": {
      "application/vnd.jupyter.widget-view+json": {
       "model_id": "",
       "version_major": 2,
       "version_minor": 0
      },
      "text/plain": [
       "Validation: 0it [00:00, ?it/s]"
      ]
     },
     "metadata": {},
     "output_type": "display_data"
    },
    {
     "data": {
      "application/vnd.jupyter.widget-view+json": {
       "model_id": "",
       "version_major": 2,
       "version_minor": 0
      },
      "text/plain": [
       "Validation: 0it [00:00, ?it/s]"
      ]
     },
     "metadata": {},
     "output_type": "display_data"
    },
    {
     "data": {
      "application/vnd.jupyter.widget-view+json": {
       "model_id": "",
       "version_major": 2,
       "version_minor": 0
      },
      "text/plain": [
       "Validation: 0it [00:00, ?it/s]"
      ]
     },
     "metadata": {},
     "output_type": "display_data"
    },
    {
     "data": {
      "application/vnd.jupyter.widget-view+json": {
       "model_id": "",
       "version_major": 2,
       "version_minor": 0
      },
      "text/plain": [
       "Validation: 0it [00:00, ?it/s]"
      ]
     },
     "metadata": {},
     "output_type": "display_data"
    },
    {
     "data": {
      "application/vnd.jupyter.widget-view+json": {
       "model_id": "",
       "version_major": 2,
       "version_minor": 0
      },
      "text/plain": [
       "Validation: 0it [00:00, ?it/s]"
      ]
     },
     "metadata": {},
     "output_type": "display_data"
    },
    {
     "data": {
      "application/vnd.jupyter.widget-view+json": {
       "model_id": "",
       "version_major": 2,
       "version_minor": 0
      },
      "text/plain": [
       "Validation: 0it [00:00, ?it/s]"
      ]
     },
     "metadata": {},
     "output_type": "display_data"
    },
    {
     "data": {
      "application/vnd.jupyter.widget-view+json": {
       "model_id": "",
       "version_major": 2,
       "version_minor": 0
      },
      "text/plain": [
       "Validation: 0it [00:00, ?it/s]"
      ]
     },
     "metadata": {},
     "output_type": "display_data"
    },
    {
     "data": {
      "application/vnd.jupyter.widget-view+json": {
       "model_id": "",
       "version_major": 2,
       "version_minor": 0
      },
      "text/plain": [
       "Validation: 0it [00:00, ?it/s]"
      ]
     },
     "metadata": {},
     "output_type": "display_data"
    },
    {
     "data": {
      "application/vnd.jupyter.widget-view+json": {
       "model_id": "",
       "version_major": 2,
       "version_minor": 0
      },
      "text/plain": [
       "Validation: 0it [00:00, ?it/s]"
      ]
     },
     "metadata": {},
     "output_type": "display_data"
    },
    {
     "data": {
      "application/vnd.jupyter.widget-view+json": {
       "model_id": "3aa0e787930d4eceb326125012f28bc0",
       "version_major": 2,
       "version_minor": 0
      },
      "text/plain": [
       "Validation: 0it [00:00, ?it/s]"
      ]
     },
     "metadata": {},
     "output_type": "display_data"
    },
    {
     "data": {
      "application/vnd.jupyter.widget-view+json": {
       "model_id": "8b8eefed14ac4cb1ae2f2d57165a0af0",
       "version_major": 2,
       "version_minor": 0
      },
      "text/plain": [
       "Validation: 0it [00:00, ?it/s]"
      ]
     },
     "metadata": {},
     "output_type": "display_data"
    },
    {
     "data": {
      "application/vnd.jupyter.widget-view+json": {
       "model_id": "c1edcf3dd5f243c59e95adbb6eddba96",
       "version_major": 2,
       "version_minor": 0
      },
      "text/plain": [
       "Validation: 0it [00:00, ?it/s]"
      ]
     },
     "metadata": {},
     "output_type": "display_data"
    },
    {
     "data": {
      "application/vnd.jupyter.widget-view+json": {
       "model_id": "42e47490a22f4cb4953e8d7d5423f570",
       "version_major": 2,
       "version_minor": 0
      },
      "text/plain": [
       "Validation: 0it [00:00, ?it/s]"
      ]
     },
     "metadata": {},
     "output_type": "display_data"
    },
    {
     "name": "stderr",
     "output_type": "stream",
     "text": [
      "`Trainer.fit` stopped: `max_epochs=50` reached.\n"
     ]
    }
   ],
   "source": [
    "trainer.fit(model, xy_train, xy_val)"
   ]
  },
  {
   "cell_type": "code",
   "execution_count": 104,
   "id": "1170cf50-9080-46cb-9e9b-0655b0aaf7c8",
   "metadata": {},
   "outputs": [
    {
     "name": "stderr",
     "output_type": "stream",
     "text": [
      "LOCAL_RANK: 0 - CUDA_VISIBLE_DEVICES: [0]\n",
      "SLURM auto-requeueing enabled. Setting signal handlers.\n"
     ]
    },
    {
     "data": {
      "application/vnd.jupyter.widget-view+json": {
       "model_id": "c83663ef50b44877995854a36db6f105",
       "version_major": 2,
       "version_minor": 0
      },
      "text/plain": [
       "Validation: 0it [00:00, ?it/s]"
      ]
     },
     "metadata": {},
     "output_type": "display_data"
    },
    {
     "data": {
      "text/html": [
       "<pre style=\"white-space:pre;overflow-x:auto;line-height:normal;font-family:Menlo,'DejaVu Sans Mono',consolas,'Courier New',monospace\">┏━━━━━━━━━━━━━━━━━━━━━━━━━━━┳━━━━━━━━━━━━━━━━━━━━━━━━━━━┓\n",
       "┃<span style=\"font-weight: bold\">  Runningstage.validating  </span>┃<span style=\"font-weight: bold\">                           </span>┃\n",
       "┃<span style=\"font-weight: bold\">          metric           </span>┃<span style=\"font-weight: bold\">       DataLoader 0        </span>┃\n",
       "┡━━━━━━━━━━━━━━━━━━━━━━━━━━━╇━━━━━━━━━━━━━━━━━━━━━━━━━━━┩\n",
       "│<span style=\"color: #008080; text-decoration-color: #008080\">          val_acc          </span>│<span style=\"color: #800080; text-decoration-color: #800080\">    0.4399000108242035     </span>│\n",
       "│<span style=\"color: #008080; text-decoration-color: #008080\">         val_loss          </span>│<span style=\"color: #800080; text-decoration-color: #800080\">    1.6752142906188965     </span>│\n",
       "└───────────────────────────┴───────────────────────────┘\n",
       "</pre>\n"
      ],
      "text/plain": [
       "┏━━━━━━━━━━━━━━━━━━━━━━━━━━━┳━━━━━━━━━━━━━━━━━━━━━━━━━━━┓\n",
       "┃\u001b[1m \u001b[0m\u001b[1m Runningstage.validating \u001b[0m\u001b[1m \u001b[0m┃\u001b[1m                           \u001b[0m┃\n",
       "┃\u001b[1m \u001b[0m\u001b[1m         metric          \u001b[0m\u001b[1m \u001b[0m┃\u001b[1m \u001b[0m\u001b[1m      DataLoader 0       \u001b[0m\u001b[1m \u001b[0m┃\n",
       "┡━━━━━━━━━━━━━━━━━━━━━━━━━━━╇━━━━━━━━━━━━━━━━━━━━━━━━━━━┩\n",
       "│\u001b[36m \u001b[0m\u001b[36m         val_acc         \u001b[0m\u001b[36m \u001b[0m│\u001b[35m \u001b[0m\u001b[35m   0.4399000108242035    \u001b[0m\u001b[35m \u001b[0m│\n",
       "│\u001b[36m \u001b[0m\u001b[36m        val_loss         \u001b[0m\u001b[36m \u001b[0m│\u001b[35m \u001b[0m\u001b[35m   1.6752142906188965    \u001b[0m\u001b[35m \u001b[0m│\n",
       "└───────────────────────────┴───────────────────────────┘\n"
      ]
     },
     "metadata": {},
     "output_type": "display_data"
    },
    {
     "data": {
      "text/plain": [
       "[{'val_acc': 0.4399000108242035, 'val_loss': 1.6752142906188965}]"
      ]
     },
     "execution_count": 104,
     "metadata": {},
     "output_type": "execute_result"
    }
   ],
   "source": [
    "trainer.validate(model, xy_val)"
   ]
  },
  {
   "cell_type": "code",
   "execution_count": 105,
   "id": "f62c17dc-bc81-403e-a2b8-0b15e17c2922",
   "metadata": {},
   "outputs": [
    {
     "data": {
      "text/html": [
       "<div>\n",
       "<style scoped>\n",
       "    .dataframe tbody tr th:only-of-type {\n",
       "        vertical-align: middle;\n",
       "    }\n",
       "\n",
       "    .dataframe tbody tr th {\n",
       "        vertical-align: top;\n",
       "    }\n",
       "\n",
       "    .dataframe thead th {\n",
       "        text-align: right;\n",
       "    }\n",
       "</style>\n",
       "<table border=\"1\" class=\"dataframe\">\n",
       "  <thead>\n",
       "    <tr style=\"text-align: right;\">\n",
       "      <th></th>\n",
       "      <th>val_acc</th>\n",
       "      <th>val_loss</th>\n",
       "      <th>epoch</th>\n",
       "      <th>step</th>\n",
       "      <th>train_acc</th>\n",
       "      <th>train_loss</th>\n",
       "    </tr>\n",
       "  </thead>\n",
       "  <tbody>\n",
       "    <tr>\n",
       "      <th>0</th>\n",
       "      <td>0.0971</td>\n",
       "      <td>2.364032</td>\n",
       "      <td>0</td>\n",
       "      <td>0</td>\n",
       "      <td>NaN</td>\n",
       "      <td>NaN</td>\n",
       "    </tr>\n",
       "    <tr>\n",
       "      <th>1</th>\n",
       "      <td>0.2131</td>\n",
       "      <td>2.004051</td>\n",
       "      <td>0</td>\n",
       "      <td>159</td>\n",
       "      <td>NaN</td>\n",
       "      <td>NaN</td>\n",
       "    </tr>\n",
       "    <tr>\n",
       "      <th>2</th>\n",
       "      <td>NaN</td>\n",
       "      <td>NaN</td>\n",
       "      <td>0</td>\n",
       "      <td>159</td>\n",
       "      <td>0.173475</td>\n",
       "      <td>2.167881</td>\n",
       "    </tr>\n",
       "    <tr>\n",
       "      <th>3</th>\n",
       "      <td>0.2564</td>\n",
       "      <td>1.945639</td>\n",
       "      <td>1</td>\n",
       "      <td>319</td>\n",
       "      <td>NaN</td>\n",
       "      <td>NaN</td>\n",
       "    </tr>\n",
       "    <tr>\n",
       "      <th>4</th>\n",
       "      <td>NaN</td>\n",
       "      <td>NaN</td>\n",
       "      <td>1</td>\n",
       "      <td>319</td>\n",
       "      <td>0.221650</td>\n",
       "      <td>2.025126</td>\n",
       "    </tr>\n",
       "    <tr>\n",
       "      <th>...</th>\n",
       "      <td>...</td>\n",
       "      <td>...</td>\n",
       "      <td>...</td>\n",
       "      <td>...</td>\n",
       "      <td>...</td>\n",
       "      <td>...</td>\n",
       "    </tr>\n",
       "    <tr>\n",
       "      <th>97</th>\n",
       "      <td>0.4418</td>\n",
       "      <td>1.654057</td>\n",
       "      <td>48</td>\n",
       "      <td>7839</td>\n",
       "      <td>NaN</td>\n",
       "      <td>NaN</td>\n",
       "    </tr>\n",
       "    <tr>\n",
       "      <th>98</th>\n",
       "      <td>NaN</td>\n",
       "      <td>NaN</td>\n",
       "      <td>48</td>\n",
       "      <td>7839</td>\n",
       "      <td>0.506150</td>\n",
       "      <td>1.398604</td>\n",
       "    </tr>\n",
       "    <tr>\n",
       "      <th>99</th>\n",
       "      <td>0.4399</td>\n",
       "      <td>1.675214</td>\n",
       "      <td>49</td>\n",
       "      <td>7999</td>\n",
       "      <td>NaN</td>\n",
       "      <td>NaN</td>\n",
       "    </tr>\n",
       "    <tr>\n",
       "      <th>100</th>\n",
       "      <td>NaN</td>\n",
       "      <td>NaN</td>\n",
       "      <td>49</td>\n",
       "      <td>7999</td>\n",
       "      <td>0.517250</td>\n",
       "      <td>1.375007</td>\n",
       "    </tr>\n",
       "    <tr>\n",
       "      <th>101</th>\n",
       "      <td>0.4399</td>\n",
       "      <td>1.675214</td>\n",
       "      <td>50</td>\n",
       "      <td>8000</td>\n",
       "      <td>NaN</td>\n",
       "      <td>NaN</td>\n",
       "    </tr>\n",
       "  </tbody>\n",
       "</table>\n",
       "<p>102 rows × 6 columns</p>\n",
       "</div>"
      ],
      "text/plain": [
       "     val_acc  val_loss  epoch  step  train_acc  train_loss\n",
       "0     0.0971  2.364032      0     0        NaN         NaN\n",
       "1     0.2131  2.004051      0   159        NaN         NaN\n",
       "2        NaN       NaN      0   159   0.173475    2.167881\n",
       "3     0.2564  1.945639      1   319        NaN         NaN\n",
       "4        NaN       NaN      1   319   0.221650    2.025126\n",
       "..       ...       ...    ...   ...        ...         ...\n",
       "97    0.4418  1.654057     48  7839        NaN         NaN\n",
       "98       NaN       NaN     48  7839   0.506150    1.398604\n",
       "99    0.4399  1.675214     49  7999        NaN         NaN\n",
       "100      NaN       NaN     49  7999   0.517250    1.375007\n",
       "101   0.4399  1.675214     50  8000        NaN         NaN\n",
       "\n",
       "[102 rows x 6 columns]"
      ]
     },
     "execution_count": 105,
     "metadata": {},
     "output_type": "execute_result"
    }
   ],
   "source": [
    "results = pd.read_csv(logger.log_dir+\"/metrics.csv\")\n",
    "results"
   ]
  },
  {
   "cell_type": "code",
   "execution_count": 106,
   "id": "8e104ee5-8a6f-4ef4-b106-be8d1a0d4c6f",
   "metadata": {},
   "outputs": [
    {
     "data": {
      "image/png": "[encoded data removed]",
      "text/plain": [
       "<Figure size 640x480 with 1 Axes>"
      ]
     },
     "metadata": {},
     "output_type": "display_data"
    }
   ],
   "source": [
    "plt.plot(results[\"epoch\"][np.logical_not(np.isnan(results[\"train_loss\"]))],\n",
    "         results[\"train_loss\"][np.logical_not(np.isnan(results[\"train_loss\"]))],\n",
    "         label=\"Training\")\n",
    "\n",
    "plt.plot(results[\"epoch\"][np.logical_not(np.isnan(results[\"val_loss\"]))],\n",
    "         results[\"val_loss\"][np.logical_not(np.isnan(results[\"val_loss\"]))],\n",
    "         label=\"Validation\")\n",
    "\n",
    "plt.legend()\n",
    "plt.ylabel(\"CCE Loss\")\n",
    "plt.xlabel(\"Epoch\")\n",
    "plt.show()"
   ]
  },
  {
   "cell_type": "code",
   "execution_count": 107,
   "id": "4b171825-bfa8-4a8c-a539-faeb6a97c87b",
   "metadata": {},
   "outputs": [
    {
     "name": "stdout",
     "output_type": "stream",
     "text": [
      "Validation accuracy: 0.09710000 0.21310000 0.25639999 0.27120000 0.28600001 0.29699999 0.30890000 0.31790000 0.33300000 0.33669999 0.34790000 0.34750000 0.35850000 0.37439999 0.37230000 0.37200001 0.38049999 0.38260001 0.38460001 0.38319999 0.39440000 0.39080000 0.39910001 0.39809999 0.40030000 0.40640000 0.40590000 0.40590000 0.41890001 0.41580001 0.40480000 0.42680001 0.43000001 0.42350000 0.43149999 0.43079999 0.43520001 0.42989999 0.43619999 0.44000000 0.42440000 0.43340001 0.44069999 0.43869999 0.43640000 0.43920001 0.43419999 0.44159999 0.42969999 0.44180000 0.43990001 0.43990001\n"
     ]
    }
   ],
   "source": [
    "print(\"Validation accuracy:\",*[\"%.8f\"%(x) for x in results['val_acc'][np.logical_not(np.isnan(results[\"val_acc\"]))]])"
   ]
  },
  {
   "cell_type": "code",
   "execution_count": 108,
   "id": "af35f77a-6676-49f8-a0ed-983551d849ce",
   "metadata": {},
   "outputs": [
    {
     "name": "stderr",
     "output_type": "stream",
     "text": [
      "LOCAL_RANK: 0 - CUDA_VISIBLE_DEVICES: [0]\n",
      "SLURM auto-requeueing enabled. Setting signal handlers.\n",
      "/opt/conda/lib/python3.11/site-packages/lightning/pytorch/trainer/connectors/data_connector.py:442: PossibleUserWarning: The dataloader, test_dataloader, does not have many workers which may be a bottleneck. Consider increasing the value of the `num_workers` argument` (try 20 which is the number of cpus on this machine) in the `DataLoader` init to improve performance.\n",
      "  rank_zero_warn(\n"
     ]
    },
    {
     "data": {
      "application/vnd.jupyter.widget-view+json": {
       "model_id": "9e1516ade2bb4e94ae3d1d0adabd06ab",
       "version_major": 2,
       "version_minor": 0
      },
      "text/plain": [
       "Testing: 0it [00:00, ?it/s]"
      ]
     },
     "metadata": {},
     "output_type": "display_data"
    },
    {
     "data": {
      "text/html": [
       "<pre style=\"white-space:pre;overflow-x:auto;line-height:normal;font-family:Menlo,'DejaVu Sans Mono',consolas,'Courier New',monospace\">┏━━━━━━━━━━━━━━━━━━━━━━━━━━━┳━━━━━━━━━━━━━━━━━━━━━━━━━━━┓\n",
       "┃<span style=\"font-weight: bold\">   Runningstage.testing    </span>┃<span style=\"font-weight: bold\">                           </span>┃\n",
       "┃<span style=\"font-weight: bold\">          metric           </span>┃<span style=\"font-weight: bold\">       DataLoader 0        </span>┃\n",
       "┡━━━━━━━━━━━━━━━━━━━━━━━━━━━╇━━━━━━━━━━━━━━━━━━━━━━━━━━━┩\n",
       "│<span style=\"color: #008080; text-decoration-color: #008080\">         test_acc          </span>│<span style=\"color: #800080; text-decoration-color: #800080\">    0.4390999972820282     </span>│\n",
       "│<span style=\"color: #008080; text-decoration-color: #008080\">         test_loss         </span>│<span style=\"color: #800080; text-decoration-color: #800080\">    1.6471976041793823     </span>│\n",
       "└───────────────────────────┴───────────────────────────┘\n",
       "</pre>\n"
      ],
      "text/plain": [
       "┏━━━━━━━━━━━━━━━━━━━━━━━━━━━┳━━━━━━━━━━━━━━━━━━━━━━━━━━━┓\n",
       "┃\u001b[1m \u001b[0m\u001b[1m  Runningstage.testing   \u001b[0m\u001b[1m \u001b[0m┃\u001b[1m                           \u001b[0m┃\n",
       "┃\u001b[1m \u001b[0m\u001b[1m         metric          \u001b[0m\u001b[1m \u001b[0m┃\u001b[1m \u001b[0m\u001b[1m      DataLoader 0       \u001b[0m\u001b[1m \u001b[0m┃\n",
       "┡━━━━━━━━━━━━━━━━━━━━━━━━━━━╇━━━━━━━━━━━━━━━━━━━━━━━━━━━┩\n",
       "│\u001b[36m \u001b[0m\u001b[36m        test_acc         \u001b[0m\u001b[36m \u001b[0m│\u001b[35m \u001b[0m\u001b[35m   0.4390999972820282    \u001b[0m\u001b[35m \u001b[0m│\n",
       "│\u001b[36m \u001b[0m\u001b[36m        test_loss        \u001b[0m\u001b[36m \u001b[0m│\u001b[35m \u001b[0m\u001b[35m   1.6471976041793823    \u001b[0m\u001b[35m \u001b[0m│\n",
       "└───────────────────────────┴───────────────────────────┘\n"
      ]
     },
     "metadata": {},
     "output_type": "display_data"
    },
    {
     "name": "stdout",
     "output_type": "stream",
     "text": [
      "Testing accuracy: 0.4390999972820282\n"
     ]
    }
   ],
   "source": [
    "print(\"Testing accuracy:\", trainer.test(model, xy_test)[0]['test_acc'])"
   ]
  },
  {
   "cell_type": "code",
   "execution_count": null,
   "id": "55e01e54-8039-425f-a12c-aa2858ce08b6",
   "metadata": {},
   "outputs": [],
   "source": []
  }
 ],
 "metadata": {
  "kernelspec": {
   "display_name": "Python 3 (ipykernel)",
   "language": "python",
   "name": "python3"
  },
  "language_info": {
   "codemirror_mode": {
    "name": "ipython",
    "version": 3
   },
   "file_extension": ".py",
   "mimetype": "text/x-python",
   "name": "python",
   "nbconvert_exporter": "python",
   "pygments_lexer": "ipython3",
   "version": "3.11.5"
  }
 },
 "nbformat": 4,
 "nbformat_minor": 5
}
