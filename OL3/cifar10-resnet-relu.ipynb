{
 "cells": [
  {
   "cell_type": "code",
   "execution_count": 2,
   "id": "532c2c7a-c2e9-4569-b3fa-c0c9e66441bf",
   "metadata": {},
   "outputs": [],
   "source": [
    "import numpy as np\n",
    "import torch\n",
    "import lightning.pytorch as pl\n",
    "import torchmetrics\n",
    "import torchvision\n",
    "from torchinfo import summary\n",
    "from torchview import draw_graph\n",
    "from IPython.display import display\n",
    "import sympy as sp \n",
    "sp.init_printing(use_latex=True)\n",
    "import pandas as pd\n",
    "import matplotlib.pyplot as plt"
   ]
  },
  {
   "cell_type": "code",
   "execution_count": 4,
   "id": "a425362b-6348-4579-80ca-8fb179688e62",
   "metadata": {},
   "outputs": [
    {
     "name": "stdout",
     "output_type": "stream",
     "text": [
      "Only CPU is available...\n"
     ]
    }
   ],
   "source": [
    "if torch.cuda.is_available():\n",
    "    print(torch.cuda.get_device_name())\n",
    "    print(torch.cuda.get_device_properties(\"cuda\"))\n",
    "    print(\"Number of devices:\", torch.cuda.device_count())\n",
    "    device = (\"cuda\")\n",
    "else:\n",
    "    print(\"Only CPU is available...\")\n",
    "    device = (\"cpu\")"
   ]
  },
  {
   "cell_type": "code",
   "execution_count": 25,
   "id": "cc9c5cc3-690a-40f2-9734-f91b9335b721",
   "metadata": {},
   "outputs": [],
   "source": [
    "# Config Section\n",
    "cfg_data_folder = \"datasets/cifar10\"\n",
    "cfg_batch_size  = 250\n",
    "cfg_max_epochs  = 50;\n",
    "cfg_num_workers = 4\n",
    "# cfg_hidden_dims = 34\n",
    "# cfg_num_hidden_layers = 18\n",
    "\n",
    "cfg_logger_dir=\"logs\"\n",
    "cfg_logger_name=\"OL3\"\n",
    "cfg_logger_version=\"deep\"\n"
   ]
  },
  {
   "cell_type": "code",
   "execution_count": 26,
   "id": "64f2a96c-08fb-41af-a68e-049b2dca0b09",
   "metadata": {},
   "outputs": [
    {
     "name": "stdout",
     "output_type": "stream",
     "text": [
      "Files already downloaded and verified\n",
      "Files already downloaded and verified\n",
      "torch.Size([50000, 3, 32, 32])\n",
      "torch.Size([10000, 3, 32, 32])\n"
     ]
    }
   ],
   "source": [
    "# CIFAR 10\n",
    "training_dataset = torchvision.datasets.CIFAR10(root=cfg_data_folder, download=True, train=True)\n",
    "testing_dataset = torchvision.datasets.CIFAR10(root=cfg_data_folder,  download=True, train=False)\n",
    "\n",
    "# Training\n",
    "x_train = torch.Tensor(training_dataset.data).permute(0, 3, 1, 2)\n",
    "y_train = torch.Tensor(training_dataset.targets).to(torch.long)\n",
    "\n",
    "# Validation / Testing Data\n",
    "x_test = torch.Tensor(testing_dataset.data).permute(0, 3, 1 ,2)\n",
    "y_test = torch.Tensor(testing_dataset.targets).to(torch.long)\n",
    "\n",
    "# Shape of Cifar10\n",
    "print(x_train.shape)\n",
    "print(x_test.shape)"
   ]
  },
  {
   "cell_type": "code",
   "execution_count": 27,
   "id": "492cdcbd-1453-4f33-9f6d-7ba5dc1ca446",
   "metadata": {},
   "outputs": [],
   "source": [
    "xy_train = torch.utils.data.DataLoader(list(zip(x_train,\n",
    "                                                y_train)),\n",
    "                                       shuffle=True,\n",
    "                                       batch_size=cfg_batch_size,\n",
    "                                       num_workers=cfg_num_workers)\n",
    "\n",
    "xy_val = torch.utils.data.DataLoader(list(zip(x_test,\n",
    "                                              y_test)), \n",
    "                                     shuffle=False,\n",
    "                                     batch_size=cfg_batch_size,\n",
    "                                     num_workers=cfg_num_workers)"
   ]
  },
  {
   "cell_type": "code",
   "execution_count": 28,
   "id": "884785dd-0c0f-4ef3-a0ad-beaf944940df",
   "metadata": {},
   "outputs": [
    {
     "name": "stdout",
     "output_type": "stream",
     "text": [
      "x_train.show() => torch.Size([50000, 3, 32, 32])\n",
      "y_train.show() => torch.Size([50000])\n",
      "np.unique(y_train) => [0 1 2 3 4 5 6 7 8 9]\n"
     ]
    }
   ],
   "source": [
    "# Shapes\n",
    "print(f\"x_train.show() => {x_train.shape}\")\n",
    "print(f\"y_train.show() => {y_train.shape}\")\n",
    "print(f\"np.unique(y_train) => {np.unique(y_train)}\")"
   ]
  },
  {
   "cell_type": "code",
   "execution_count": null,
   "id": "bd5449ce-c665-4c60-96c4-040ff7eb433d",
   "metadata": {},
   "outputs": [],
   "source": []
  }
 ],
 "metadata": {
  "kernelspec": {
   "display_name": "Python 3 (ipykernel)",
   "language": "python",
   "name": "python3"
  },
  "language_info": {
   "codemirror_mode": {
    "name": "ipython",
    "version": 3
   },
   "file_extension": ".py",
   "mimetype": "text/x-python",
   "name": "python",
   "nbconvert_exporter": "python",
   "pygments_lexer": "ipython3",
   "version": "3.11.5"
  }
 },
 "nbformat": 4,
 "nbformat_minor": 5
}
