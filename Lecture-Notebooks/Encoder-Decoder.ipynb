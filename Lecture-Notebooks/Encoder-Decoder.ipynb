{
 "cells": [
  {
   "cell_type": "code",
   "execution_count": 153,
   "id": "69f7979c-a6ec-4a48-bfa9-f311a626986a",
   "metadata": {
    "tags": []
   },
   "outputs": [],
   "source": [
    "# If using CPU\n",
    "import os\n",
    "os.environ[\"CUDA_VISIBLE_DEVICES\"] = \"\"\n",
    "device = ('cpu')"
   ]
  },
  {
   "cell_type": "code",
   "execution_count": 26,
   "id": "998aaaed-d798-4e16-a616-350697f16541",
   "metadata": {},
   "outputs": [],
   "source": [
    "# If using GPU\n",
    "device = ('cuda')"
   ]
  },
  {
   "cell_type": "code",
   "execution_count": 27,
   "id": "215a1a3d-645b-4dd1-844f-751c8cff2326",
   "metadata": {
    "tags": []
   },
   "outputs": [],
   "source": [
    "import numpy as np\n",
    "import torch\n",
    "import lightning.pytorch as pl\n",
    "import torchmetrics\n",
    "import torchvision\n",
    "from torchinfo import summary\n",
    "from torchview import draw_graph\n",
    "from IPython.display import display\n",
    "import sympy as sp\n",
    "sp.init_printing(use_latex=True)\n",
    "import pandas as pd\n",
    "import matplotlib.pyplot as plt"
   ]
  },
  {
   "cell_type": "markdown",
   "id": "4d800f0a-4bed-4f5a-99c8-7a715521b130",
   "metadata": {},
   "source": [
    "### Encoder-Decoder Translation"
   ]
  },
  {
   "cell_type": "code",
   "execution_count": 28,
   "id": "1b9f5877-a788-4920-b9cb-c07c281fcd4d",
   "metadata": {},
   "outputs": [],
   "source": [
    "import urllib\n",
    "data = []\n",
    "my_url = \"https://raw.githubusercontent.com/luisroque/deep-learning-articles/main/data/eng-por.txt\"\n",
    "with urllib.request.urlopen(my_url) as raw_data:\n",
    "    for line in raw_data:\n",
    "        data.append(line.decode(\"utf-8\").split('\\t')[0:2])\n",
    "data = np.array(data)"
   ]
  },
  {
   "cell_type": "code",
   "execution_count": 29,
   "id": "0ca57bc7-cb07-4526-806a-5f6598e5966b",
   "metadata": {},
   "outputs": [
    {
     "data": {
      "image/png": "[encoded data removed]",
      "text/latex": [
       "$\\displaystyle \\left( 170304, \\  2\\right)$"
      ],
      "text/plain": [
       "(170304, 2)"
      ]
     },
     "execution_count": 29,
     "metadata": {},
     "output_type": "execute_result"
    }
   ],
   "source": [
    "data.shape"
   ]
  },
  {
   "cell_type": "code",
   "execution_count": 30,
   "id": "43c2f872-4f9b-4024-ab2e-b643a0111ccf",
   "metadata": {},
   "outputs": [
    {
     "data": {
      "text/plain": [
       "45"
      ]
     },
     "execution_count": 30,
     "metadata": {},
     "output_type": "execute_result"
    }
   ],
   "source": [
    "# Subset? - All of the data will take some time...\n",
    "n_seq = data.shape[0]\n",
    "n_seq = 10000\n",
    "data = data[0:n_seq]\n",
    "split_point = int(data.shape[0] * 0.8) # Keep 80/20 split\n",
    "np.random.shuffle(data) # In-place modification\n",
    "max_length = np.max([len(i) for i in data.flatten()]) + 2 # Add start/stop\n",
    "max_length"
   ]
  },
  {
   "cell_type": "code",
   "execution_count": 31,
   "id": "feb3cfde-4466-4fe3-bb34-fd67343948c7",
   "metadata": {},
   "outputs": [
    {
     "data": {
      "text/plain": [
       "array([\"I'm not hungry.\", 'Eu não estou com fome.'], dtype='<U184')"
      ]
     },
     "execution_count": 31,
     "metadata": {},
     "output_type": "execute_result"
    }
   ],
   "source": [
    "data[2]"
   ]
  },
  {
   "cell_type": "code",
   "execution_count": 32,
   "id": "fce30614-67c5-49b8-97eb-ffca6c063991",
   "metadata": {},
   "outputs": [],
   "source": [
    "i_to_c_eng = ['','<START>','<STOP>'] + list({char for word in data[:,0] for char in word})\n",
    "c_to_i_eng = {i_to_c_eng[i]:i for i in range(len(i_to_c_eng))}\n",
    "i_to_c_eng[1] = i_to_c_eng[2] = ''"
   ]
  },
  {
   "cell_type": "code",
   "execution_count": 33,
   "id": "26263f97-2c0e-4607-8ab8-321e98529af8",
   "metadata": {},
   "outputs": [],
   "source": [
    "i_to_c_por = ['','<START>','<STOP>'] + list({char for word in data[:,1] for char in word})\n",
    "c_to_i_por = {i_to_c_por[i]:i for i in range(len(i_to_c_por))}\n",
    "i_to_c_por[1] = i_to_c_por[2] = ''"
   ]
  },
  {
   "cell_type": "code",
   "execution_count": 34,
   "id": "106ebfd5-8c8f-430e-a588-0b4e5d79e455",
   "metadata": {},
   "outputs": [],
   "source": [
    "def encode_seq(x,mapping,max_length=0):\n",
    "    # String to integer\n",
    "    return [mapping['<START>']] + \\\n",
    "           [mapping[i] for i in list(x)] + \\\n",
    "           [mapping['<STOP>']] + \\\n",
    "           [0]*(max_length-len(list(x))-2)\n",
    "\n",
    "def decode_seq(x,mapping):\n",
    "    # Integer-to-string\n",
    "    try:\n",
    "        idx = list(x).index(2) # Stop token?\n",
    "    except:\n",
    "        idx = len(list(x)) # No stop token found\n",
    "    return ''.join([mapping[i] for i in list(x)[0:idx]])"
   ]
  },
  {
   "cell_type": "code",
   "execution_count": 35,
   "id": "57ab22c1-691d-45cf-8344-fee7b7958f7d",
   "metadata": {},
   "outputs": [
    {
     "data": {
      "text/plain": [
       "array(['What happened?', 'O que foi que aconteceu?'], dtype='<U184')"
      ]
     },
     "execution_count": 35,
     "metadata": {},
     "output_type": "execute_result"
    }
   ],
   "source": [
    "data[0]"
   ]
  },
  {
   "cell_type": "code",
   "execution_count": 36,
   "id": "c7c4a957-6f30-4785-8ca8-2ac3db5d3e94",
   "metadata": {},
   "outputs": [
    {
     "data": {
      "text/plain": [
       "'What happened?'"
      ]
     },
     "execution_count": 36,
     "metadata": {},
     "output_type": "execute_result"
    }
   ],
   "source": [
    "data[0,0]"
   ]
  },
  {
   "cell_type": "code",
   "execution_count": 37,
   "id": "50740d4b-d74d-4d21-812f-0b0d13960d88",
   "metadata": {},
   "outputs": [
    {
     "name": "stdout",
     "output_type": "stream",
     "text": [
      "1 3 40 36 47 16 40 36 52 52 46 25 46 19 21 2 0 0 0 0 0 0 0 0 0 0 0 0 0 0 0 0 0 0 0 0 0 0 0 0 0 0 0 0 0\n"
     ]
    }
   ],
   "source": [
    "temp = encode_seq(data[0,0],c_to_i_eng,max_length)\n",
    "print(*temp)"
   ]
  },
  {
   "cell_type": "code",
   "execution_count": 38,
   "id": "00eecd38-40be-4582-a6af-fa33d0e28373",
   "metadata": {},
   "outputs": [
    {
     "data": {
      "text/plain": [
       "'What happened?'"
      ]
     },
     "execution_count": 38,
     "metadata": {},
     "output_type": "execute_result"
    }
   ],
   "source": [
    "decode_seq(temp,i_to_c_eng)"
   ]
  },
  {
   "cell_type": "code",
   "execution_count": 39,
   "id": "23045aea-fb5d-4b61-aa3c-8841498556df",
   "metadata": {},
   "outputs": [
    {
     "data": {
      "text/plain": [
       "'O que foi que aconteceu?'"
      ]
     },
     "execution_count": 39,
     "metadata": {},
     "output_type": "execute_result"
    }
   ],
   "source": [
    "data[0,1]"
   ]
  },
  {
   "cell_type": "code",
   "execution_count": 40,
   "id": "6012ffcb-aa0e-4abc-a2d7-588e925a7ac4",
   "metadata": {},
   "outputs": [
    {
     "name": "stdout",
     "output_type": "stream",
     "text": [
      "1 57 23 53 26 51 23 3 65 75 23 53 26 51 23 47 20 65 25 13 51 20 51 26 73 2 0 0 0 0 0 0 0 0 0 0 0 0 0 0 0 0 0 0 0\n"
     ]
    }
   ],
   "source": [
    "temp = encode_seq(data[0,1],c_to_i_por,max_length)\n",
    "print(*temp)"
   ]
  },
  {
   "cell_type": "code",
   "execution_count": 41,
   "id": "4a3c4190-37d4-4dd9-839d-cf23983c9e89",
   "metadata": {},
   "outputs": [
    {
     "data": {
      "text/plain": [
       "'O que foi que aconteceu?'"
      ]
     },
     "execution_count": 41,
     "metadata": {},
     "output_type": "execute_result"
    }
   ],
   "source": [
    "decode_seq(temp,i_to_c_por)"
   ]
  },
  {
   "cell_type": "code",
   "execution_count": 42,
   "id": "2554090f-767b-43a6-99cc-25ed671b6f31",
   "metadata": {},
   "outputs": [],
   "source": [
    "X = np.vstack([encode_seq(x,c_to_i_eng,max_length) for x in data[:,0]])\n",
    "Y = np.vstack([encode_seq(x,c_to_i_por,max_length) for x in data[:,1]])"
   ]
  },
  {
   "cell_type": "code",
   "execution_count": 43,
   "id": "46a80db9-ec05-4d5c-a32e-fb5e34b03f63",
   "metadata": {},
   "outputs": [
    {
     "data": {
      "text/plain": [
       "array([[ 1,  3, 40, ...,  0,  0,  0],\n",
       "       [ 1, 23, 16, ...,  0,  0,  0],\n",
       "       [ 1, 23, 49, ...,  0,  0,  0],\n",
       "       ...,\n",
       "       [ 1, 71,  9, ...,  0,  0,  0],\n",
       "       [ 1, 23, 49, ...,  0,  0,  0],\n",
       "       [ 1, 10,  9, ...,  0,  0,  0]])"
      ]
     },
     "execution_count": 43,
     "metadata": {},
     "output_type": "execute_result"
    }
   ],
   "source": [
    "enc_x_train = X[:split_point]\n",
    "enc_x_val = X[split_point:]\n",
    "enc_x_train"
   ]
  },
  {
   "cell_type": "code",
   "execution_count": 44,
   "id": "b4c55709-c91f-4724-9832-55a1254d36e7",
   "metadata": {},
   "outputs": [
    {
     "data": {
      "text/plain": [
       "array([[ 1, 57, 23, ...,  0,  0,  0],\n",
       "       [ 1, 67, 65, ...,  0,  0,  0],\n",
       "       [ 1, 39, 26, ...,  0,  0,  0],\n",
       "       ...,\n",
       "       [ 1, 77, 79, ...,  0,  0,  0],\n",
       "       [ 1, 39, 26, ...,  0,  0,  0],\n",
       "       [ 1, 39, 61, ...,  0,  0,  0]])"
      ]
     },
     "execution_count": 44,
     "metadata": {},
     "output_type": "execute_result"
    }
   ],
   "source": [
    "dec_x_train = Y[:,0:-1][:split_point]\n",
    "dec_x_val = Y[:,0:-1][split_point:]\n",
    "dec_x_train"
   ]
  },
  {
   "cell_type": "code",
   "execution_count": 45,
   "id": "02759d11-e14a-4d23-b149-dea6b2fddc03",
   "metadata": {},
   "outputs": [
    {
     "data": {
      "text/plain": [
       "array([[57, 23, 53, ...,  0,  0,  0],\n",
       "       [67, 65, 61, ...,  0,  0,  0],\n",
       "       [39, 26, 23, ...,  0,  0,  0],\n",
       "       ...,\n",
       "       [77, 79, 65, ...,  0,  0,  0],\n",
       "       [39, 26, 23, ...,  0,  0,  0],\n",
       "       [39, 61, 13, ...,  0,  0,  0]])"
      ]
     },
     "execution_count": 45,
     "metadata": {},
     "output_type": "execute_result"
    }
   ],
   "source": [
    "dec_y_train = Y[:,1:][:split_point]\n",
    "dec_y_val = Y[:,1:][split_point:]\n",
    "dec_y_train"
   ]
  },
  {
   "cell_type": "code",
   "execution_count": 46,
   "id": "f93cf777-ef6b-4daa-a8b3-bef8b9e56fc3",
   "metadata": {},
   "outputs": [
    {
     "name": "stdout",
     "output_type": "stream",
     "text": [
      "(8000, 45)\n",
      "(8000, 44)\n",
      "(8000, 44)\n"
     ]
    }
   ],
   "source": [
    "print(enc_x_train.shape)\n",
    "print(dec_x_train.shape)\n",
    "print(dec_y_train.shape)"
   ]
  },
  {
   "cell_type": "code",
   "execution_count": 47,
   "id": "07e59145-d290-4542-90dd-37ed1fc7d709",
   "metadata": {},
   "outputs": [
    {
     "name": "stdout",
     "output_type": "stream",
     "text": [
      "(2000, 45)\n",
      "(2000, 44)\n",
      "(2000, 44)\n"
     ]
    }
   ],
   "source": [
    "print(enc_x_val.shape)\n",
    "print(dec_x_val.shape)\n",
    "print(dec_y_val.shape)"
   ]
  },
  {
   "cell_type": "code",
   "execution_count": 48,
   "id": "656c3444-e530-4b3a-8c23-e974e672ddd4",
   "metadata": {},
   "outputs": [
    {
     "data": {
      "image/png": "[encoded data removed]",
      "text/latex": [
       "$\\displaystyle 73$"
      ],
      "text/plain": [
       "73"
      ]
     },
     "execution_count": 48,
     "metadata": {},
     "output_type": "execute_result"
    }
   ],
   "source": [
    "len(i_to_c_eng)"
   ]
  },
  {
   "cell_type": "code",
   "execution_count": 49,
   "id": "728b2ae4-9a92-4de4-aa6d-1446d41e196a",
   "metadata": {},
   "outputs": [
    {
     "data": {
      "image/png": "[encoded data removed]",
      "text/latex": [
       "$\\displaystyle 87$"
      ],
      "text/plain": [
       "87"
      ]
     },
     "execution_count": 49,
     "metadata": {},
     "output_type": "execute_result"
    }
   ],
   "source": [
    "len(i_to_c_por)"
   ]
  },
  {
   "cell_type": "code",
   "execution_count": 50,
   "id": "4c0ea431-f267-47cf-9cb6-aba055ead4dc",
   "metadata": {},
   "outputs": [
    {
     "data": {
      "image/png": "[encoded data removed]",
      "text/latex": [
       "$\\displaystyle \\left( 45,\\right)$"
      ],
      "text/plain": [
       "(45,)"
      ]
     },
     "execution_count": 50,
     "metadata": {},
     "output_type": "execute_result"
    }
   ],
   "source": [
    "enc_x_train.shape[1:]"
   ]
  },
  {
   "cell_type": "markdown",
   "id": "7ea43b7e-26c8-4fab-9566-35233d7a8492",
   "metadata": {},
   "source": [
    "# Encoder-Decoder Network"
   ]
  },
  {
   "cell_type": "code",
   "execution_count": 51,
   "id": "689435fb-5415-49fb-babf-c1858bcce173",
   "metadata": {},
   "outputs": [],
   "source": [
    "class RecurrentResidual(torch.nn.Module):\n",
    "    def __init__(self,\n",
    "                 latent_size = 64,\n",
    "                 bidirectional = False,\n",
    "                 **kwargs):\n",
    "        super().__init__(**kwargs)\n",
    "        self.layer_norm = torch.nn.LayerNorm(latent_size)\n",
    "        self.rnn_layer = torch.nn.LSTM(latent_size,\n",
    "                                       latent_size // 2 if bidirectional else latent_size,\n",
    "                                       bidirectional=bidirectional,\n",
    "                                       batch_first=True)\n",
    "    def forward(self, x):\n",
    "        return x + self.rnn_layer(self.layer_norm(x))[0]"
   ]
  },
  {
   "cell_type": "markdown",
   "id": "0fd1367e-f641-429c-b8a4-28a89b46b3c0",
   "metadata": {},
   "source": [
    "### Encoder Component"
   ]
  },
  {
   "cell_type": "code",
   "execution_count": 52,
   "id": "ee777295-8029-4aad-ad36-7e006917d71f",
   "metadata": {},
   "outputs": [],
   "source": [
    "class EncoderNetwork(torch.nn.Module):\n",
    "    def __init__(self,\n",
    "                 num_tokens,\n",
    "                 latent_size = 64, # Use something divisible by 2\n",
    "                 n_layers = 8,\n",
    "                 **kwargs):\n",
    "        super().__init__(**kwargs)\n",
    "        self.embedding = torch.nn.Embedding(num_tokens,\n",
    "                                            latent_size,\n",
    "                                            padding_idx=0)\n",
    "        self.dropout = torch.nn.Dropout1d(0.1) # Whole token dropped\n",
    "        self.rnn_layers = torch.nn.Sequential(*[\n",
    "            RecurrentResidual(latent_size,True) for _ in range(n_layers)\n",
    "        ])\n",
    "\n",
    "    def forward(self, x):\n",
    "        y = x\n",
    "        y = self.embedding(y)\n",
    "        y = self.dropout(y)\n",
    "        y = self.rnn_layers(y)[:,-1]\n",
    "        return y                                    "
   ]
  },
  {
   "cell_type": "code",
   "execution_count": 53,
   "id": "dd13659e-322c-40a3-8f6a-cfc84ebdebc8",
   "metadata": {},
   "outputs": [
    {
     "data": {
      "image/png": "[encoded data removed]",
      "text/latex": [
       "$\\displaystyle \\left( 5, \\  45\\right)$"
      ],
      "text/plain": [
       "(5, 45)"
      ]
     },
     "execution_count": 53,
     "metadata": {},
     "output_type": "execute_result"
    }
   ],
   "source": [
    "enc_x_train[0:5].shape"
   ]
  },
  {
   "cell_type": "code",
   "execution_count": 54,
   "id": "bfb50d41-a8da-4dbf-ba39-d88ba89732d6",
   "metadata": {
    "scrolled": true
   },
   "outputs": [
    {
     "data": {
      "text/plain": [
       "==========================================================================================\n",
       "Layer (type:depth-idx)                   Output Shape              Param #\n",
       "==========================================================================================\n",
       "EncoderNetwork                           [5, 64]                   --\n",
       "├─Embedding: 1-1                         [5, 45, 64]               4,672\n",
       "├─Dropout1d: 1-2                         [5, 45, 64]               --\n",
       "├─Sequential: 1-3                        [5, 45, 64]               --\n",
       "│    └─RecurrentResidual: 2-1            [5, 45, 64]               --\n",
       "│    │    └─LayerNorm: 3-1               [5, 45, 64]               128\n",
       "│    │    └─LSTM: 3-2                    [5, 45, 64]               25,088\n",
       "│    └─RecurrentResidual: 2-2            [5, 45, 64]               --\n",
       "│    │    └─LayerNorm: 3-3               [5, 45, 64]               128\n",
       "│    │    └─LSTM: 3-4                    [5, 45, 64]               25,088\n",
       "│    └─RecurrentResidual: 2-3            [5, 45, 64]               --\n",
       "│    │    └─LayerNorm: 3-5               [5, 45, 64]               128\n",
       "│    │    └─LSTM: 3-6                    [5, 45, 64]               25,088\n",
       "│    └─RecurrentResidual: 2-4            [5, 45, 64]               --\n",
       "│    │    └─LayerNorm: 3-7               [5, 45, 64]               128\n",
       "│    │    └─LSTM: 3-8                    [5, 45, 64]               25,088\n",
       "│    └─RecurrentResidual: 2-5            [5, 45, 64]               --\n",
       "│    │    └─LayerNorm: 3-9               [5, 45, 64]               128\n",
       "│    │    └─LSTM: 3-10                   [5, 45, 64]               25,088\n",
       "│    └─RecurrentResidual: 2-6            [5, 45, 64]               --\n",
       "│    │    └─LayerNorm: 3-11              [5, 45, 64]               128\n",
       "│    │    └─LSTM: 3-12                   [5, 45, 64]               25,088\n",
       "│    └─RecurrentResidual: 2-7            [5, 45, 64]               --\n",
       "│    │    └─LayerNorm: 3-13              [5, 45, 64]               128\n",
       "│    │    └─LSTM: 3-14                   [5, 45, 64]               25,088\n",
       "│    └─RecurrentResidual: 2-8            [5, 45, 64]               --\n",
       "│    │    └─LayerNorm: 3-15              [5, 45, 64]               128\n",
       "│    │    └─LSTM: 3-16                   [5, 45, 64]               25,088\n",
       "==========================================================================================\n",
       "Total params: 206,400\n",
       "Trainable params: 206,400\n",
       "Non-trainable params: 0\n",
       "Total mult-adds (Units.MEGABYTES): 45.19\n",
       "==========================================================================================\n",
       "Input size (MB): 0.00\n",
       "Forward/backward pass size (MB): 1.96\n",
       "Params size (MB): 0.83\n",
       "Estimated Total Size (MB): 2.79\n",
       "=========================================================================================="
      ]
     },
     "execution_count": 54,
     "metadata": {},
     "output_type": "execute_result"
    }
   ],
   "source": [
    "enc_net = EncoderNetwork(num_tokens=len(i_to_c_eng))\n",
    "\n",
    "summary(enc_net,input_data=torch.Tensor(enc_x_train[0:5]).long())"
   ]
  },
  {
   "cell_type": "code",
   "execution_count": 55,
   "id": "40090cf8-1957-4ca5-ba62-bda469aa3710",
   "metadata": {},
   "outputs": [
    {
     "data": {
      "image/svg+xml": [
       "<?xml version=\"1.0\" encoding=\"UTF-8\" standalone=\"no\"?>\n",
       "<!DOCTYPE svg PUBLIC \"-//W3C//DTD SVG 1.1//EN\"\n",
       " \"http://www.w3.org/Graphics/SVG/1.1/DTD/svg11.dtd\">\n",
       "<!-- Generated by graphviz version 8.1.0 (20230707.2238)\n",
       " -->\n",
       "<!-- Title: model Pages: 1 -->\n",
       "<svg width=\"235pt\" height=\"1404pt\"\n",
       " viewBox=\"0.00 0.00 234.51 1404.00\" xmlns=\"http://www.w3.org/2000/svg\" xmlns:xlink=\"http://www.w3.org/1999/xlink\">\n",
       "<g id=\"graph0\" class=\"graph\" transform=\"scale(0.617143 0.617143) rotate(0) translate(4 2271)\">\n",
       "<title>model</title>\n",
       "<polygon fill=\"white\" stroke=\"none\" points=\"-4,4 -4,-2271 376,-2271 376,4 -4,4\"/>\n",
       "<!-- 0 -->\n",
       "<g id=\"node1\" class=\"node\">\n",
       "<title>0</title>\n",
       "<polygon fill=\"lightyellow\" stroke=\"none\" points=\"141.88,-2267 31.12,-2267 31.12,-2231.5 141.88,-2231.5 141.88,-2267\"/>\n",
       "<polygon fill=\"none\" stroke=\"black\" points=\"31.12,-2231.5 31.12,-2267 100.38,-2267 100.38,-2231.5 31.12,-2231.5\"/>\n",
       "<text text-anchor=\"start\" x=\"36.12\" y=\"-2252.5\" font-family=\"Linux libertine\" font-size=\"10.00\">input&#45;tensor</text>\n",
       "<text text-anchor=\"start\" x=\"47.38\" y=\"-2239.75\" font-family=\"Linux libertine\" font-size=\"10.00\">depth:0</text>\n",
       "<polygon fill=\"none\" stroke=\"black\" points=\"100.38,-2231.5 100.38,-2267 141.88,-2267 141.88,-2231.5 100.38,-2231.5\"/>\n",
       "<text text-anchor=\"start\" x=\"105.38\" y=\"-2246.12\" font-family=\"Linux libertine\" font-size=\"10.00\">(5, 45)</text>\n",
       "</g>\n",
       "<!-- 1 -->\n",
       "<g id=\"node2\" class=\"node\">\n",
       "<title>1</title>\n",
       "<polygon fill=\"#c1ffc1\" stroke=\"none\" points=\"173,-2195.5 0,-2195.5 0,-2151.5 173,-2151.5 173,-2195.5\"/>\n",
       "<polygon fill=\"none\" stroke=\"black\" points=\"0,-2151.5 0,-2195.5 64,-2195.5 64,-2151.5 0,-2151.5\"/>\n",
       "<text text-anchor=\"start\" x=\"4.62\" y=\"-2176.75\" font-family=\"Linux libertine\" font-size=\"10.00\">Embedding</text>\n",
       "<text text-anchor=\"start\" x=\"13.62\" y=\"-2164\" font-family=\"Linux libertine\" font-size=\"10.00\">depth:1</text>\n",
       "<polygon fill=\"none\" stroke=\"black\" points=\"64,-2173.5 64,-2195.5 111,-2195.5 111,-2173.5 64,-2173.5\"/>\n",
       "<text text-anchor=\"start\" x=\"73.62\" y=\"-2181\" font-family=\"Linux libertine\" font-size=\"10.00\">input:</text>\n",
       "<polygon fill=\"none\" stroke=\"black\" points=\"111,-2173.5 111,-2195.5 173,-2195.5 173,-2173.5 111,-2173.5\"/>\n",
       "<text text-anchor=\"start\" x=\"124.75\" y=\"-2181\" font-family=\"Linux libertine\" font-size=\"10.00\">(5, 45) </text>\n",
       "<polygon fill=\"none\" stroke=\"black\" points=\"64,-2151.5 64,-2173.5 111,-2173.5 111,-2151.5 64,-2151.5\"/>\n",
       "<text text-anchor=\"start\" x=\"68.75\" y=\"-2159\" font-family=\"Linux libertine\" font-size=\"10.00\">output: </text>\n",
       "<polygon fill=\"none\" stroke=\"black\" points=\"111,-2151.5 111,-2173.5 173,-2173.5 173,-2151.5 111,-2151.5\"/>\n",
       "<text text-anchor=\"start\" x=\"115.75\" y=\"-2159\" font-family=\"Linux libertine\" font-size=\"10.00\">(5, 45, 64) </text>\n",
       "</g>\n",
       "<!-- 0&#45;&gt;1 -->\n",
       "<g id=\"edge1\" class=\"edge\">\n",
       "<title>0&#45;&gt;1</title>\n",
       "<path fill=\"none\" stroke=\"black\" d=\"M86.5,-2231.51C86.5,-2224.07 86.5,-2215.04 86.5,-2206.39\"/>\n",
       "<polygon fill=\"black\" stroke=\"black\" points=\"90,-2206.39 86.5,-2196.39 83,-2206.39 90,-2206.39\"/>\n",
       "</g>\n",
       "<!-- 2 -->\n",
       "<g id=\"node3\" class=\"node\">\n",
       "<title>2</title>\n",
       "<polygon fill=\"#c1ffc1\" stroke=\"none\" points=\"171.5,-2115.5 1.5,-2115.5 1.5,-2071.5 171.5,-2071.5 171.5,-2115.5\"/>\n",
       "<polygon fill=\"none\" stroke=\"black\" points=\"1.5,-2071.5 1.5,-2115.5 62.5,-2115.5 62.5,-2071.5 1.5,-2071.5\"/>\n",
       "<text text-anchor=\"start\" x=\"6.5\" y=\"-2096.75\" font-family=\"Linux libertine\" font-size=\"10.00\">Dropout1d</text>\n",
       "<text text-anchor=\"start\" x=\"13.62\" y=\"-2084\" font-family=\"Linux libertine\" font-size=\"10.00\">depth:1</text>\n",
       "<polygon fill=\"none\" stroke=\"black\" points=\"62.5,-2093.5 62.5,-2115.5 109.5,-2115.5 109.5,-2093.5 62.5,-2093.5\"/>\n",
       "<text text-anchor=\"start\" x=\"72.12\" y=\"-2101\" font-family=\"Linux libertine\" font-size=\"10.00\">input:</text>\n",
       "<polygon fill=\"none\" stroke=\"black\" points=\"109.5,-2093.5 109.5,-2115.5 171.5,-2115.5 171.5,-2093.5 109.5,-2093.5\"/>\n",
       "<text text-anchor=\"start\" x=\"114.25\" y=\"-2101\" font-family=\"Linux libertine\" font-size=\"10.00\">(5, 45, 64) </text>\n",
       "<polygon fill=\"none\" stroke=\"black\" points=\"62.5,-2071.5 62.5,-2093.5 109.5,-2093.5 109.5,-2071.5 62.5,-2071.5\"/>\n",
       "<text text-anchor=\"start\" x=\"67.25\" y=\"-2079\" font-family=\"Linux libertine\" font-size=\"10.00\">output: </text>\n",
       "<polygon fill=\"none\" stroke=\"black\" points=\"109.5,-2071.5 109.5,-2093.5 171.5,-2093.5 171.5,-2071.5 109.5,-2071.5\"/>\n",
       "<text text-anchor=\"start\" x=\"114.25\" y=\"-2079\" font-family=\"Linux libertine\" font-size=\"10.00\">(5, 45, 64) </text>\n",
       "</g>\n",
       "<!-- 1&#45;&gt;2 -->\n",
       "<g id=\"edge2\" class=\"edge\">\n",
       "<title>1&#45;&gt;2</title>\n",
       "<path fill=\"none\" stroke=\"black\" d=\"M86.5,-2151.6C86.5,-2143.82 86.5,-2134.8 86.5,-2126.26\"/>\n",
       "<polygon fill=\"black\" stroke=\"black\" points=\"90,-2126.46 86.5,-2116.46 83,-2126.46 90,-2126.46\"/>\n",
       "</g>\n",
       "<!-- 3 -->\n",
       "<g id=\"node4\" class=\"node\">\n",
       "<title>3</title>\n",
       "<polygon fill=\"#c1ffc1\" stroke=\"none\" points=\"243,-2035.5 70,-2035.5 70,-1991.5 243,-1991.5 243,-2035.5\"/>\n",
       "<polygon fill=\"none\" stroke=\"black\" points=\"70,-1991.5 70,-2035.5 134,-2035.5 134,-1991.5 70,-1991.5\"/>\n",
       "<text text-anchor=\"start\" x=\"75\" y=\"-2016.75\" font-family=\"Linux libertine\" font-size=\"10.00\">LayerNorm</text>\n",
       "<text text-anchor=\"start\" x=\"83.62\" y=\"-2004\" font-family=\"Linux libertine\" font-size=\"10.00\">depth:3</text>\n",
       "<polygon fill=\"none\" stroke=\"black\" points=\"134,-2013.5 134,-2035.5 181,-2035.5 181,-2013.5 134,-2013.5\"/>\n",
       "<text text-anchor=\"start\" x=\"143.62\" y=\"-2021\" font-family=\"Linux libertine\" font-size=\"10.00\">input:</text>\n",
       "<polygon fill=\"none\" stroke=\"black\" points=\"181,-2013.5 181,-2035.5 243,-2035.5 243,-2013.5 181,-2013.5\"/>\n",
       "<text text-anchor=\"start\" x=\"185.75\" y=\"-2021\" font-family=\"Linux libertine\" font-size=\"10.00\">(5, 45, 64) </text>\n",
       "<polygon fill=\"none\" stroke=\"black\" points=\"134,-1991.5 134,-2013.5 181,-2013.5 181,-1991.5 134,-1991.5\"/>\n",
       "<text text-anchor=\"start\" x=\"138.75\" y=\"-1999\" font-family=\"Linux libertine\" font-size=\"10.00\">output: </text>\n",
       "<polygon fill=\"none\" stroke=\"black\" points=\"181,-1991.5 181,-2013.5 243,-2013.5 243,-1991.5 181,-1991.5\"/>\n",
       "<text text-anchor=\"start\" x=\"185.75\" y=\"-1999\" font-family=\"Linux libertine\" font-size=\"10.00\">(5, 45, 64) </text>\n",
       "</g>\n",
       "<!-- 2&#45;&gt;3 -->\n",
       "<g id=\"edge3\" class=\"edge\">\n",
       "<title>2&#45;&gt;3</title>\n",
       "<path fill=\"none\" stroke=\"black\" d=\"M105.26,-2071.6C113.03,-2062.94 122.17,-2052.76 130.56,-2043.41\"/>\n",
       "<polygon fill=\"black\" stroke=\"black\" points=\"132.62,-2046.24 136.69,-2036.46 127.41,-2041.57 132.62,-2046.24\"/>\n",
       "</g>\n",
       "<!-- 5 -->\n",
       "<g id=\"node6\" class=\"node\">\n",
       "<title>5</title>\n",
       "<polygon fill=\"aliceblue\" stroke=\"none\" points=\"186,-1875.5 13,-1875.5 13,-1831.5 186,-1831.5 186,-1875.5\"/>\n",
       "<polygon fill=\"none\" stroke=\"black\" points=\"13,-1831.5 13,-1875.5 59,-1875.5 59,-1831.5 13,-1831.5\"/>\n",
       "<text text-anchor=\"start\" x=\"27\" y=\"-1856.75\" font-family=\"Linux libertine\" font-size=\"10.00\">add</text>\n",
       "<text text-anchor=\"start\" x=\"17.62\" y=\"-1844\" font-family=\"Linux libertine\" font-size=\"10.00\">depth:3</text>\n",
       "<polygon fill=\"none\" stroke=\"black\" points=\"59,-1853.5 59,-1875.5 106,-1875.5 106,-1853.5 59,-1853.5\"/>\n",
       "<text text-anchor=\"start\" x=\"68.62\" y=\"-1861\" font-family=\"Linux libertine\" font-size=\"10.00\">input:</text>\n",
       "<polygon fill=\"none\" stroke=\"black\" points=\"106,-1853.5 106,-1875.5 186,-1875.5 186,-1853.5 106,-1853.5\"/>\n",
       "<text text-anchor=\"start\" x=\"110.75\" y=\"-1861\" font-family=\"Linux libertine\" font-size=\"10.00\">2 x (5, 45, 64) </text>\n",
       "<polygon fill=\"none\" stroke=\"black\" points=\"59,-1831.5 59,-1853.5 106,-1853.5 106,-1831.5 59,-1831.5\"/>\n",
       "<text text-anchor=\"start\" x=\"63.75\" y=\"-1839\" font-family=\"Linux libertine\" font-size=\"10.00\">output: </text>\n",
       "<polygon fill=\"none\" stroke=\"black\" points=\"106,-1831.5 106,-1853.5 186,-1853.5 186,-1831.5 106,-1831.5\"/>\n",
       "<text text-anchor=\"start\" x=\"119.75\" y=\"-1839\" font-family=\"Linux libertine\" font-size=\"10.00\">(5, 45, 64) </text>\n",
       "</g>\n",
       "<!-- 2&#45;&gt;5 -->\n",
       "<g id=\"edge4\" class=\"edge\">\n",
       "<title>2&#45;&gt;5</title>\n",
       "<path fill=\"none\" stroke=\"black\" d=\"M74.61,-2071.54C56.74,-2037.18 27.24,-1967.14 48.5,-1911.5 52.45,-1901.17 59.22,-1891.54 66.56,-1883.23\"/>\n",
       "<polygon fill=\"black\" stroke=\"black\" points=\"68.66,-1886.05 73.01,-1876.39 63.59,-1881.23 68.66,-1886.05\"/>\n",
       "</g>\n",
       "<!-- 4 -->\n",
       "<g id=\"node5\" class=\"node\">\n",
       "<title>4</title>\n",
       "<polygon fill=\"#c1ffc1\" stroke=\"none\" points=\"281,-1955.5 58,-1955.5 58,-1911.5 281,-1911.5 281,-1955.5\"/>\n",
       "<polygon fill=\"none\" stroke=\"black\" points=\"58,-1911.5 58,-1955.5 104,-1955.5 104,-1911.5 58,-1911.5\"/>\n",
       "<text text-anchor=\"start\" x=\"67.88\" y=\"-1936.75\" font-family=\"Linux libertine\" font-size=\"10.00\">LSTM</text>\n",
       "<text text-anchor=\"start\" x=\"62.62\" y=\"-1924\" font-family=\"Linux libertine\" font-size=\"10.00\">depth:3</text>\n",
       "<polygon fill=\"none\" stroke=\"black\" points=\"104,-1933.5 104,-1955.5 151,-1955.5 151,-1933.5 104,-1933.5\"/>\n",
       "<text text-anchor=\"start\" x=\"113.62\" y=\"-1941\" font-family=\"Linux libertine\" font-size=\"10.00\">input:</text>\n",
       "<polygon fill=\"none\" stroke=\"black\" points=\"151,-1933.5 151,-1955.5 281,-1955.5 281,-1933.5 151,-1933.5\"/>\n",
       "<text text-anchor=\"start\" x=\"189.75\" y=\"-1941\" font-family=\"Linux libertine\" font-size=\"10.00\">(5, 45, 64) </text>\n",
       "<polygon fill=\"none\" stroke=\"black\" points=\"104,-1911.5 104,-1933.5 151,-1933.5 151,-1911.5 104,-1911.5\"/>\n",
       "<text text-anchor=\"start\" x=\"108.75\" y=\"-1919\" font-family=\"Linux libertine\" font-size=\"10.00\">output: </text>\n",
       "<polygon fill=\"none\" stroke=\"black\" points=\"151,-1911.5 151,-1933.5 281,-1933.5 281,-1911.5 151,-1911.5\"/>\n",
       "<text text-anchor=\"start\" x=\"156\" y=\"-1919\" font-family=\"Linux libertine\" font-size=\"10.00\">(5, 45, 64), 2 x (2, 5, 32) </text>\n",
       "</g>\n",
       "<!-- 3&#45;&gt;4 -->\n",
       "<g id=\"edge5\" class=\"edge\">\n",
       "<title>3&#45;&gt;4</title>\n",
       "<path fill=\"none\" stroke=\"black\" d=\"M159.98,-1991.6C161.28,-1983.82 162.78,-1974.8 164.21,-1966.26\"/>\n",
       "<polygon fill=\"black\" stroke=\"black\" points=\"167.81,-1966.9 166.01,-1956.46 160.91,-1965.75 167.81,-1966.9\"/>\n",
       "</g>\n",
       "<!-- 4&#45;&gt;5 -->\n",
       "<g id=\"edge6\" class=\"edge\">\n",
       "<title>4&#45;&gt;5</title>\n",
       "<path fill=\"none\" stroke=\"black\" d=\"M150.74,-1911.6C142.97,-1902.94 133.83,-1892.76 125.44,-1883.41\"/>\n",
       "<polygon fill=\"black\" stroke=\"black\" points=\"128.59,-1881.57 119.31,-1876.46 123.38,-1886.24 128.59,-1881.57\"/>\n",
       "</g>\n",
       "<!-- 6 -->\n",
       "<g id=\"node7\" class=\"node\">\n",
       "<title>6</title>\n",
       "<polygon fill=\"#c1ffc1\" stroke=\"none\" points=\"256,-1795.5 83,-1795.5 83,-1751.5 256,-1751.5 256,-1795.5\"/>\n",
       "<polygon fill=\"none\" stroke=\"black\" points=\"83,-1751.5 83,-1795.5 147,-1795.5 147,-1751.5 83,-1751.5\"/>\n",
       "<text text-anchor=\"start\" x=\"88\" y=\"-1776.75\" font-family=\"Linux libertine\" font-size=\"10.00\">LayerNorm</text>\n",
       "<text text-anchor=\"start\" x=\"96.62\" y=\"-1764\" font-family=\"Linux libertine\" font-size=\"10.00\">depth:3</text>\n",
       "<polygon fill=\"none\" stroke=\"black\" points=\"147,-1773.5 147,-1795.5 194,-1795.5 194,-1773.5 147,-1773.5\"/>\n",
       "<text text-anchor=\"start\" x=\"156.62\" y=\"-1781\" font-family=\"Linux libertine\" font-size=\"10.00\">input:</text>\n",
       "<polygon fill=\"none\" stroke=\"black\" points=\"194,-1773.5 194,-1795.5 256,-1795.5 256,-1773.5 194,-1773.5\"/>\n",
       "<text text-anchor=\"start\" x=\"198.75\" y=\"-1781\" font-family=\"Linux libertine\" font-size=\"10.00\">(5, 45, 64) </text>\n",
       "<polygon fill=\"none\" stroke=\"black\" points=\"147,-1751.5 147,-1773.5 194,-1773.5 194,-1751.5 147,-1751.5\"/>\n",
       "<text text-anchor=\"start\" x=\"151.75\" y=\"-1759\" font-family=\"Linux libertine\" font-size=\"10.00\">output: </text>\n",
       "<polygon fill=\"none\" stroke=\"black\" points=\"194,-1751.5 194,-1773.5 256,-1773.5 256,-1751.5 194,-1751.5\"/>\n",
       "<text text-anchor=\"start\" x=\"198.75\" y=\"-1759\" font-family=\"Linux libertine\" font-size=\"10.00\">(5, 45, 64) </text>\n",
       "</g>\n",
       "<!-- 5&#45;&gt;6 -->\n",
       "<g id=\"edge7\" class=\"edge\">\n",
       "<title>5&#45;&gt;6</title>\n",
       "<path fill=\"none\" stroke=\"black\" d=\"M118.26,-1831.6C126.03,-1822.94 135.17,-1812.76 143.56,-1803.41\"/>\n",
       "<polygon fill=\"black\" stroke=\"black\" points=\"145.62,-1806.24 149.69,-1796.46 140.41,-1801.57 145.62,-1806.24\"/>\n",
       "</g>\n",
       "<!-- 8 -->\n",
       "<g id=\"node9\" class=\"node\">\n",
       "<title>8</title>\n",
       "<polygon fill=\"aliceblue\" stroke=\"none\" points=\"199,-1635.5 26,-1635.5 26,-1591.5 199,-1591.5 199,-1635.5\"/>\n",
       "<polygon fill=\"none\" stroke=\"black\" points=\"26,-1591.5 26,-1635.5 72,-1635.5 72,-1591.5 26,-1591.5\"/>\n",
       "<text text-anchor=\"start\" x=\"40\" y=\"-1616.75\" font-family=\"Linux libertine\" font-size=\"10.00\">add</text>\n",
       "<text text-anchor=\"start\" x=\"30.62\" y=\"-1604\" font-family=\"Linux libertine\" font-size=\"10.00\">depth:3</text>\n",
       "<polygon fill=\"none\" stroke=\"black\" points=\"72,-1613.5 72,-1635.5 119,-1635.5 119,-1613.5 72,-1613.5\"/>\n",
       "<text text-anchor=\"start\" x=\"81.62\" y=\"-1621\" font-family=\"Linux libertine\" font-size=\"10.00\">input:</text>\n",
       "<polygon fill=\"none\" stroke=\"black\" points=\"119,-1613.5 119,-1635.5 199,-1635.5 199,-1613.5 119,-1613.5\"/>\n",
       "<text text-anchor=\"start\" x=\"123.75\" y=\"-1621\" font-family=\"Linux libertine\" font-size=\"10.00\">2 x (5, 45, 64) </text>\n",
       "<polygon fill=\"none\" stroke=\"black\" points=\"72,-1591.5 72,-1613.5 119,-1613.5 119,-1591.5 72,-1591.5\"/>\n",
       "<text text-anchor=\"start\" x=\"76.75\" y=\"-1599\" font-family=\"Linux libertine\" font-size=\"10.00\">output: </text>\n",
       "<polygon fill=\"none\" stroke=\"black\" points=\"119,-1591.5 119,-1613.5 199,-1613.5 199,-1591.5 119,-1591.5\"/>\n",
       "<text text-anchor=\"start\" x=\"132.75\" y=\"-1599\" font-family=\"Linux libertine\" font-size=\"10.00\">(5, 45, 64) </text>\n",
       "</g>\n",
       "<!-- 5&#45;&gt;8 -->\n",
       "<g id=\"edge8\" class=\"edge\">\n",
       "<title>5&#45;&gt;8</title>\n",
       "<path fill=\"none\" stroke=\"black\" d=\"M87.61,-1831.54C69.74,-1797.18 40.24,-1727.14 61.5,-1671.5 65.45,-1661.17 72.22,-1651.54 79.56,-1643.23\"/>\n",
       "<polygon fill=\"black\" stroke=\"black\" points=\"81.66,-1646.05 86.01,-1636.39 76.59,-1641.23 81.66,-1646.05\"/>\n",
       "</g>\n",
       "<!-- 7 -->\n",
       "<g id=\"node8\" class=\"node\">\n",
       "<title>7</title>\n",
       "<polygon fill=\"#c1ffc1\" stroke=\"none\" points=\"294,-1715.5 71,-1715.5 71,-1671.5 294,-1671.5 294,-1715.5\"/>\n",
       "<polygon fill=\"none\" stroke=\"black\" points=\"71,-1671.5 71,-1715.5 117,-1715.5 117,-1671.5 71,-1671.5\"/>\n",
       "<text text-anchor=\"start\" x=\"80.88\" y=\"-1696.75\" font-family=\"Linux libertine\" font-size=\"10.00\">LSTM</text>\n",
       "<text text-anchor=\"start\" x=\"75.62\" y=\"-1684\" font-family=\"Linux libertine\" font-size=\"10.00\">depth:3</text>\n",
       "<polygon fill=\"none\" stroke=\"black\" points=\"117,-1693.5 117,-1715.5 164,-1715.5 164,-1693.5 117,-1693.5\"/>\n",
       "<text text-anchor=\"start\" x=\"126.62\" y=\"-1701\" font-family=\"Linux libertine\" font-size=\"10.00\">input:</text>\n",
       "<polygon fill=\"none\" stroke=\"black\" points=\"164,-1693.5 164,-1715.5 294,-1715.5 294,-1693.5 164,-1693.5\"/>\n",
       "<text text-anchor=\"start\" x=\"202.75\" y=\"-1701\" font-family=\"Linux libertine\" font-size=\"10.00\">(5, 45, 64) </text>\n",
       "<polygon fill=\"none\" stroke=\"black\" points=\"117,-1671.5 117,-1693.5 164,-1693.5 164,-1671.5 117,-1671.5\"/>\n",
       "<text text-anchor=\"start\" x=\"121.75\" y=\"-1679\" font-family=\"Linux libertine\" font-size=\"10.00\">output: </text>\n",
       "<polygon fill=\"none\" stroke=\"black\" points=\"164,-1671.5 164,-1693.5 294,-1693.5 294,-1671.5 164,-1671.5\"/>\n",
       "<text text-anchor=\"start\" x=\"169\" y=\"-1679\" font-family=\"Linux libertine\" font-size=\"10.00\">(5, 45, 64), 2 x (2, 5, 32) </text>\n",
       "</g>\n",
       "<!-- 6&#45;&gt;7 -->\n",
       "<g id=\"edge9\" class=\"edge\">\n",
       "<title>6&#45;&gt;7</title>\n",
       "<path fill=\"none\" stroke=\"black\" d=\"M172.98,-1751.6C174.28,-1743.82 175.78,-1734.8 177.21,-1726.26\"/>\n",
       "<polygon fill=\"black\" stroke=\"black\" points=\"180.81,-1726.9 179.01,-1716.46 173.91,-1725.75 180.81,-1726.9\"/>\n",
       "</g>\n",
       "<!-- 7&#45;&gt;8 -->\n",
       "<g id=\"edge10\" class=\"edge\">\n",
       "<title>7&#45;&gt;8</title>\n",
       "<path fill=\"none\" stroke=\"black\" d=\"M163.74,-1671.6C155.97,-1662.94 146.83,-1652.76 138.44,-1643.41\"/>\n",
       "<polygon fill=\"black\" stroke=\"black\" points=\"141.59,-1641.57 132.31,-1636.46 136.38,-1646.24 141.59,-1641.57\"/>\n",
       "</g>\n",
       "<!-- 9 -->\n",
       "<g id=\"node10\" class=\"node\">\n",
       "<title>9</title>\n",
       "<polygon fill=\"#c1ffc1\" stroke=\"none\" points=\"269,-1555.5 96,-1555.5 96,-1511.5 269,-1511.5 269,-1555.5\"/>\n",
       "<polygon fill=\"none\" stroke=\"black\" points=\"96,-1511.5 96,-1555.5 160,-1555.5 160,-1511.5 96,-1511.5\"/>\n",
       "<text text-anchor=\"start\" x=\"101\" y=\"-1536.75\" font-family=\"Linux libertine\" font-size=\"10.00\">LayerNorm</text>\n",
       "<text text-anchor=\"start\" x=\"109.62\" y=\"-1524\" font-family=\"Linux libertine\" font-size=\"10.00\">depth:3</text>\n",
       "<polygon fill=\"none\" stroke=\"black\" points=\"160,-1533.5 160,-1555.5 207,-1555.5 207,-1533.5 160,-1533.5\"/>\n",
       "<text text-anchor=\"start\" x=\"169.62\" y=\"-1541\" font-family=\"Linux libertine\" font-size=\"10.00\">input:</text>\n",
       "<polygon fill=\"none\" stroke=\"black\" points=\"207,-1533.5 207,-1555.5 269,-1555.5 269,-1533.5 207,-1533.5\"/>\n",
       "<text text-anchor=\"start\" x=\"211.75\" y=\"-1541\" font-family=\"Linux libertine\" font-size=\"10.00\">(5, 45, 64) </text>\n",
       "<polygon fill=\"none\" stroke=\"black\" points=\"160,-1511.5 160,-1533.5 207,-1533.5 207,-1511.5 160,-1511.5\"/>\n",
       "<text text-anchor=\"start\" x=\"164.75\" y=\"-1519\" font-family=\"Linux libertine\" font-size=\"10.00\">output: </text>\n",
       "<polygon fill=\"none\" stroke=\"black\" points=\"207,-1511.5 207,-1533.5 269,-1533.5 269,-1511.5 207,-1511.5\"/>\n",
       "<text text-anchor=\"start\" x=\"211.75\" y=\"-1519\" font-family=\"Linux libertine\" font-size=\"10.00\">(5, 45, 64) </text>\n",
       "</g>\n",
       "<!-- 8&#45;&gt;9 -->\n",
       "<g id=\"edge11\" class=\"edge\">\n",
       "<title>8&#45;&gt;9</title>\n",
       "<path fill=\"none\" stroke=\"black\" d=\"M131.26,-1591.6C139.03,-1582.94 148.17,-1572.76 156.56,-1563.41\"/>\n",
       "<polygon fill=\"black\" stroke=\"black\" points=\"158.62,-1566.24 162.69,-1556.46 153.41,-1561.57 158.62,-1566.24\"/>\n",
       "</g>\n",
       "<!-- 11 -->\n",
       "<g id=\"node12\" class=\"node\">\n",
       "<title>11</title>\n",
       "<polygon fill=\"aliceblue\" stroke=\"none\" points=\"212,-1395.5 39,-1395.5 39,-1351.5 212,-1351.5 212,-1395.5\"/>\n",
       "<polygon fill=\"none\" stroke=\"black\" points=\"39,-1351.5 39,-1395.5 85,-1395.5 85,-1351.5 39,-1351.5\"/>\n",
       "<text text-anchor=\"start\" x=\"53\" y=\"-1376.75\" font-family=\"Linux libertine\" font-size=\"10.00\">add</text>\n",
       "<text text-anchor=\"start\" x=\"43.62\" y=\"-1364\" font-family=\"Linux libertine\" font-size=\"10.00\">depth:3</text>\n",
       "<polygon fill=\"none\" stroke=\"black\" points=\"85,-1373.5 85,-1395.5 132,-1395.5 132,-1373.5 85,-1373.5\"/>\n",
       "<text text-anchor=\"start\" x=\"94.62\" y=\"-1381\" font-family=\"Linux libertine\" font-size=\"10.00\">input:</text>\n",
       "<polygon fill=\"none\" stroke=\"black\" points=\"132,-1373.5 132,-1395.5 212,-1395.5 212,-1373.5 132,-1373.5\"/>\n",
       "<text text-anchor=\"start\" x=\"136.75\" y=\"-1381\" font-family=\"Linux libertine\" font-size=\"10.00\">2 x (5, 45, 64) </text>\n",
       "<polygon fill=\"none\" stroke=\"black\" points=\"85,-1351.5 85,-1373.5 132,-1373.5 132,-1351.5 85,-1351.5\"/>\n",
       "<text text-anchor=\"start\" x=\"89.75\" y=\"-1359\" font-family=\"Linux libertine\" font-size=\"10.00\">output: </text>\n",
       "<polygon fill=\"none\" stroke=\"black\" points=\"132,-1351.5 132,-1373.5 212,-1373.5 212,-1351.5 132,-1351.5\"/>\n",
       "<text text-anchor=\"start\" x=\"145.75\" y=\"-1359\" font-family=\"Linux libertine\" font-size=\"10.00\">(5, 45, 64) </text>\n",
       "</g>\n",
       "<!-- 8&#45;&gt;11 -->\n",
       "<g id=\"edge12\" class=\"edge\">\n",
       "<title>8&#45;&gt;11</title>\n",
       "<path fill=\"none\" stroke=\"black\" d=\"M100.61,-1591.54C82.74,-1557.18 53.24,-1487.14 74.5,-1431.5 78.45,-1421.17 85.22,-1411.54 92.56,-1403.23\"/>\n",
       "<polygon fill=\"black\" stroke=\"black\" points=\"94.66,-1406.05 99.01,-1396.39 89.59,-1401.23 94.66,-1406.05\"/>\n",
       "</g>\n",
       "<!-- 10 -->\n",
       "<g id=\"node11\" class=\"node\">\n",
       "<title>10</title>\n",
       "<polygon fill=\"#c1ffc1\" stroke=\"none\" points=\"307,-1475.5 84,-1475.5 84,-1431.5 307,-1431.5 307,-1475.5\"/>\n",
       "<polygon fill=\"none\" stroke=\"black\" points=\"84,-1431.5 84,-1475.5 130,-1475.5 130,-1431.5 84,-1431.5\"/>\n",
       "<text text-anchor=\"start\" x=\"93.88\" y=\"-1456.75\" font-family=\"Linux libertine\" font-size=\"10.00\">LSTM</text>\n",
       "<text text-anchor=\"start\" x=\"88.62\" y=\"-1444\" font-family=\"Linux libertine\" font-size=\"10.00\">depth:3</text>\n",
       "<polygon fill=\"none\" stroke=\"black\" points=\"130,-1453.5 130,-1475.5 177,-1475.5 177,-1453.5 130,-1453.5\"/>\n",
       "<text text-anchor=\"start\" x=\"139.62\" y=\"-1461\" font-family=\"Linux libertine\" font-size=\"10.00\">input:</text>\n",
       "<polygon fill=\"none\" stroke=\"black\" points=\"177,-1453.5 177,-1475.5 307,-1475.5 307,-1453.5 177,-1453.5\"/>\n",
       "<text text-anchor=\"start\" x=\"215.75\" y=\"-1461\" font-family=\"Linux libertine\" font-size=\"10.00\">(5, 45, 64) </text>\n",
       "<polygon fill=\"none\" stroke=\"black\" points=\"130,-1431.5 130,-1453.5 177,-1453.5 177,-1431.5 130,-1431.5\"/>\n",
       "<text text-anchor=\"start\" x=\"134.75\" y=\"-1439\" font-family=\"Linux libertine\" font-size=\"10.00\">output: </text>\n",
       "<polygon fill=\"none\" stroke=\"black\" points=\"177,-1431.5 177,-1453.5 307,-1453.5 307,-1431.5 177,-1431.5\"/>\n",
       "<text text-anchor=\"start\" x=\"182\" y=\"-1439\" font-family=\"Linux libertine\" font-size=\"10.00\">(5, 45, 64), 2 x (2, 5, 32) </text>\n",
       "</g>\n",
       "<!-- 9&#45;&gt;10 -->\n",
       "<g id=\"edge13\" class=\"edge\">\n",
       "<title>9&#45;&gt;10</title>\n",
       "<path fill=\"none\" stroke=\"black\" d=\"M185.98,-1511.6C187.28,-1503.82 188.78,-1494.8 190.21,-1486.26\"/>\n",
       "<polygon fill=\"black\" stroke=\"black\" points=\"193.81,-1486.9 192.01,-1476.46 186.91,-1485.75 193.81,-1486.9\"/>\n",
       "</g>\n",
       "<!-- 10&#45;&gt;11 -->\n",
       "<g id=\"edge14\" class=\"edge\">\n",
       "<title>10&#45;&gt;11</title>\n",
       "<path fill=\"none\" stroke=\"black\" d=\"M176.74,-1431.6C168.97,-1422.94 159.83,-1412.76 151.44,-1403.41\"/>\n",
       "<polygon fill=\"black\" stroke=\"black\" points=\"154.59,-1401.57 145.31,-1396.46 149.38,-1406.24 154.59,-1401.57\"/>\n",
       "</g>\n",
       "<!-- 12 -->\n",
       "<g id=\"node13\" class=\"node\">\n",
       "<title>12</title>\n",
       "<polygon fill=\"#c1ffc1\" stroke=\"none\" points=\"282,-1315.5 109,-1315.5 109,-1271.5 282,-1271.5 282,-1315.5\"/>\n",
       "<polygon fill=\"none\" stroke=\"black\" points=\"109,-1271.5 109,-1315.5 173,-1315.5 173,-1271.5 109,-1271.5\"/>\n",
       "<text text-anchor=\"start\" x=\"114\" y=\"-1296.75\" font-family=\"Linux libertine\" font-size=\"10.00\">LayerNorm</text>\n",
       "<text text-anchor=\"start\" x=\"122.62\" y=\"-1284\" font-family=\"Linux libertine\" font-size=\"10.00\">depth:3</text>\n",
       "<polygon fill=\"none\" stroke=\"black\" points=\"173,-1293.5 173,-1315.5 220,-1315.5 220,-1293.5 173,-1293.5\"/>\n",
       "<text text-anchor=\"start\" x=\"182.62\" y=\"-1301\" font-family=\"Linux libertine\" font-size=\"10.00\">input:</text>\n",
       "<polygon fill=\"none\" stroke=\"black\" points=\"220,-1293.5 220,-1315.5 282,-1315.5 282,-1293.5 220,-1293.5\"/>\n",
       "<text text-anchor=\"start\" x=\"224.75\" y=\"-1301\" font-family=\"Linux libertine\" font-size=\"10.00\">(5, 45, 64) </text>\n",
       "<polygon fill=\"none\" stroke=\"black\" points=\"173,-1271.5 173,-1293.5 220,-1293.5 220,-1271.5 173,-1271.5\"/>\n",
       "<text text-anchor=\"start\" x=\"177.75\" y=\"-1279\" font-family=\"Linux libertine\" font-size=\"10.00\">output: </text>\n",
       "<polygon fill=\"none\" stroke=\"black\" points=\"220,-1271.5 220,-1293.5 282,-1293.5 282,-1271.5 220,-1271.5\"/>\n",
       "<text text-anchor=\"start\" x=\"224.75\" y=\"-1279\" font-family=\"Linux libertine\" font-size=\"10.00\">(5, 45, 64) </text>\n",
       "</g>\n",
       "<!-- 11&#45;&gt;12 -->\n",
       "<g id=\"edge15\" class=\"edge\">\n",
       "<title>11&#45;&gt;12</title>\n",
       "<path fill=\"none\" stroke=\"black\" d=\"M144.26,-1351.6C152.03,-1342.94 161.17,-1332.76 169.56,-1323.41\"/>\n",
       "<polygon fill=\"black\" stroke=\"black\" points=\"171.62,-1326.24 175.69,-1316.46 166.41,-1321.57 171.62,-1326.24\"/>\n",
       "</g>\n",
       "<!-- 14 -->\n",
       "<g id=\"node15\" class=\"node\">\n",
       "<title>14</title>\n",
       "<polygon fill=\"aliceblue\" stroke=\"none\" points=\"225,-1155.5 52,-1155.5 52,-1111.5 225,-1111.5 225,-1155.5\"/>\n",
       "<polygon fill=\"none\" stroke=\"black\" points=\"52,-1111.5 52,-1155.5 98,-1155.5 98,-1111.5 52,-1111.5\"/>\n",
       "<text text-anchor=\"start\" x=\"66\" y=\"-1136.75\" font-family=\"Linux libertine\" font-size=\"10.00\">add</text>\n",
       "<text text-anchor=\"start\" x=\"56.62\" y=\"-1124\" font-family=\"Linux libertine\" font-size=\"10.00\">depth:3</text>\n",
       "<polygon fill=\"none\" stroke=\"black\" points=\"98,-1133.5 98,-1155.5 145,-1155.5 145,-1133.5 98,-1133.5\"/>\n",
       "<text text-anchor=\"start\" x=\"107.62\" y=\"-1141\" font-family=\"Linux libertine\" font-size=\"10.00\">input:</text>\n",
       "<polygon fill=\"none\" stroke=\"black\" points=\"145,-1133.5 145,-1155.5 225,-1155.5 225,-1133.5 145,-1133.5\"/>\n",
       "<text text-anchor=\"start\" x=\"149.75\" y=\"-1141\" font-family=\"Linux libertine\" font-size=\"10.00\">2 x (5, 45, 64) </text>\n",
       "<polygon fill=\"none\" stroke=\"black\" points=\"98,-1111.5 98,-1133.5 145,-1133.5 145,-1111.5 98,-1111.5\"/>\n",
       "<text text-anchor=\"start\" x=\"102.75\" y=\"-1119\" font-family=\"Linux libertine\" font-size=\"10.00\">output: </text>\n",
       "<polygon fill=\"none\" stroke=\"black\" points=\"145,-1111.5 145,-1133.5 225,-1133.5 225,-1111.5 145,-1111.5\"/>\n",
       "<text text-anchor=\"start\" x=\"158.75\" y=\"-1119\" font-family=\"Linux libertine\" font-size=\"10.00\">(5, 45, 64) </text>\n",
       "</g>\n",
       "<!-- 11&#45;&gt;14 -->\n",
       "<g id=\"edge16\" class=\"edge\">\n",
       "<title>11&#45;&gt;14</title>\n",
       "<path fill=\"none\" stroke=\"black\" d=\"M113.61,-1351.54C95.74,-1317.18 66.24,-1247.14 87.5,-1191.5 91.45,-1181.17 98.22,-1171.54 105.56,-1163.23\"/>\n",
       "<polygon fill=\"black\" stroke=\"black\" points=\"107.66,-1166.05 112.01,-1156.39 102.59,-1161.23 107.66,-1166.05\"/>\n",
       "</g>\n",
       "<!-- 13 -->\n",
       "<g id=\"node14\" class=\"node\">\n",
       "<title>13</title>\n",
       "<polygon fill=\"#c1ffc1\" stroke=\"none\" points=\"320,-1235.5 97,-1235.5 97,-1191.5 320,-1191.5 320,-1235.5\"/>\n",
       "<polygon fill=\"none\" stroke=\"black\" points=\"97,-1191.5 97,-1235.5 143,-1235.5 143,-1191.5 97,-1191.5\"/>\n",
       "<text text-anchor=\"start\" x=\"106.88\" y=\"-1216.75\" font-family=\"Linux libertine\" font-size=\"10.00\">LSTM</text>\n",
       "<text text-anchor=\"start\" x=\"101.62\" y=\"-1204\" font-family=\"Linux libertine\" font-size=\"10.00\">depth:3</text>\n",
       "<polygon fill=\"none\" stroke=\"black\" points=\"143,-1213.5 143,-1235.5 190,-1235.5 190,-1213.5 143,-1213.5\"/>\n",
       "<text text-anchor=\"start\" x=\"152.62\" y=\"-1221\" font-family=\"Linux libertine\" font-size=\"10.00\">input:</text>\n",
       "<polygon fill=\"none\" stroke=\"black\" points=\"190,-1213.5 190,-1235.5 320,-1235.5 320,-1213.5 190,-1213.5\"/>\n",
       "<text text-anchor=\"start\" x=\"228.75\" y=\"-1221\" font-family=\"Linux libertine\" font-size=\"10.00\">(5, 45, 64) </text>\n",
       "<polygon fill=\"none\" stroke=\"black\" points=\"143,-1191.5 143,-1213.5 190,-1213.5 190,-1191.5 143,-1191.5\"/>\n",
       "<text text-anchor=\"start\" x=\"147.75\" y=\"-1199\" font-family=\"Linux libertine\" font-size=\"10.00\">output: </text>\n",
       "<polygon fill=\"none\" stroke=\"black\" points=\"190,-1191.5 190,-1213.5 320,-1213.5 320,-1191.5 190,-1191.5\"/>\n",
       "<text text-anchor=\"start\" x=\"195\" y=\"-1199\" font-family=\"Linux libertine\" font-size=\"10.00\">(5, 45, 64), 2 x (2, 5, 32) </text>\n",
       "</g>\n",
       "<!-- 12&#45;&gt;13 -->\n",
       "<g id=\"edge17\" class=\"edge\">\n",
       "<title>12&#45;&gt;13</title>\n",
       "<path fill=\"none\" stroke=\"black\" d=\"M198.98,-1271.6C200.28,-1263.82 201.78,-1254.8 203.21,-1246.26\"/>\n",
       "<polygon fill=\"black\" stroke=\"black\" points=\"206.81,-1246.9 205.01,-1236.46 199.91,-1245.75 206.81,-1246.9\"/>\n",
       "</g>\n",
       "<!-- 13&#45;&gt;14 -->\n",
       "<g id=\"edge18\" class=\"edge\">\n",
       "<title>13&#45;&gt;14</title>\n",
       "<path fill=\"none\" stroke=\"black\" d=\"M189.74,-1191.6C181.97,-1182.94 172.83,-1172.76 164.44,-1163.41\"/>\n",
       "<polygon fill=\"black\" stroke=\"black\" points=\"167.59,-1161.57 158.31,-1156.46 162.38,-1166.24 167.59,-1161.57\"/>\n",
       "</g>\n",
       "<!-- 15 -->\n",
       "<g id=\"node16\" class=\"node\">\n",
       "<title>15</title>\n",
       "<polygon fill=\"#c1ffc1\" stroke=\"none\" points=\"295,-1075.5 122,-1075.5 122,-1031.5 295,-1031.5 295,-1075.5\"/>\n",
       "<polygon fill=\"none\" stroke=\"black\" points=\"122,-1031.5 122,-1075.5 186,-1075.5 186,-1031.5 122,-1031.5\"/>\n",
       "<text text-anchor=\"start\" x=\"127\" y=\"-1056.75\" font-family=\"Linux libertine\" font-size=\"10.00\">LayerNorm</text>\n",
       "<text text-anchor=\"start\" x=\"135.62\" y=\"-1044\" font-family=\"Linux libertine\" font-size=\"10.00\">depth:3</text>\n",
       "<polygon fill=\"none\" stroke=\"black\" points=\"186,-1053.5 186,-1075.5 233,-1075.5 233,-1053.5 186,-1053.5\"/>\n",
       "<text text-anchor=\"start\" x=\"195.62\" y=\"-1061\" font-family=\"Linux libertine\" font-size=\"10.00\">input:</text>\n",
       "<polygon fill=\"none\" stroke=\"black\" points=\"233,-1053.5 233,-1075.5 295,-1075.5 295,-1053.5 233,-1053.5\"/>\n",
       "<text text-anchor=\"start\" x=\"237.75\" y=\"-1061\" font-family=\"Linux libertine\" font-size=\"10.00\">(5, 45, 64) </text>\n",
       "<polygon fill=\"none\" stroke=\"black\" points=\"186,-1031.5 186,-1053.5 233,-1053.5 233,-1031.5 186,-1031.5\"/>\n",
       "<text text-anchor=\"start\" x=\"190.75\" y=\"-1039\" font-family=\"Linux libertine\" font-size=\"10.00\">output: </text>\n",
       "<polygon fill=\"none\" stroke=\"black\" points=\"233,-1031.5 233,-1053.5 295,-1053.5 295,-1031.5 233,-1031.5\"/>\n",
       "<text text-anchor=\"start\" x=\"237.75\" y=\"-1039\" font-family=\"Linux libertine\" font-size=\"10.00\">(5, 45, 64) </text>\n",
       "</g>\n",
       "<!-- 14&#45;&gt;15 -->\n",
       "<g id=\"edge19\" class=\"edge\">\n",
       "<title>14&#45;&gt;15</title>\n",
       "<path fill=\"none\" stroke=\"black\" d=\"M157.26,-1111.6C165.03,-1102.94 174.17,-1092.76 182.56,-1083.41\"/>\n",
       "<polygon fill=\"black\" stroke=\"black\" points=\"184.62,-1086.24 188.69,-1076.46 179.41,-1081.57 184.62,-1086.24\"/>\n",
       "</g>\n",
       "<!-- 17 -->\n",
       "<g id=\"node18\" class=\"node\">\n",
       "<title>17</title>\n",
       "<polygon fill=\"aliceblue\" stroke=\"none\" points=\"238,-915.5 65,-915.5 65,-871.5 238,-871.5 238,-915.5\"/>\n",
       "<polygon fill=\"none\" stroke=\"black\" points=\"65,-871.5 65,-915.5 111,-915.5 111,-871.5 65,-871.5\"/>\n",
       "<text text-anchor=\"start\" x=\"79\" y=\"-896.75\" font-family=\"Linux libertine\" font-size=\"10.00\">add</text>\n",
       "<text text-anchor=\"start\" x=\"69.62\" y=\"-884\" font-family=\"Linux libertine\" font-size=\"10.00\">depth:3</text>\n",
       "<polygon fill=\"none\" stroke=\"black\" points=\"111,-893.5 111,-915.5 158,-915.5 158,-893.5 111,-893.5\"/>\n",
       "<text text-anchor=\"start\" x=\"120.62\" y=\"-901\" font-family=\"Linux libertine\" font-size=\"10.00\">input:</text>\n",
       "<polygon fill=\"none\" stroke=\"black\" points=\"158,-893.5 158,-915.5 238,-915.5 238,-893.5 158,-893.5\"/>\n",
       "<text text-anchor=\"start\" x=\"162.75\" y=\"-901\" font-family=\"Linux libertine\" font-size=\"10.00\">2 x (5, 45, 64) </text>\n",
       "<polygon fill=\"none\" stroke=\"black\" points=\"111,-871.5 111,-893.5 158,-893.5 158,-871.5 111,-871.5\"/>\n",
       "<text text-anchor=\"start\" x=\"115.75\" y=\"-879\" font-family=\"Linux libertine\" font-size=\"10.00\">output: </text>\n",
       "<polygon fill=\"none\" stroke=\"black\" points=\"158,-871.5 158,-893.5 238,-893.5 238,-871.5 158,-871.5\"/>\n",
       "<text text-anchor=\"start\" x=\"171.75\" y=\"-879\" font-family=\"Linux libertine\" font-size=\"10.00\">(5, 45, 64) </text>\n",
       "</g>\n",
       "<!-- 14&#45;&gt;17 -->\n",
       "<g id=\"edge20\" class=\"edge\">\n",
       "<title>14&#45;&gt;17</title>\n",
       "<path fill=\"none\" stroke=\"black\" d=\"M126.61,-1111.54C108.74,-1077.18 79.24,-1007.14 100.5,-951.5 104.45,-941.17 111.22,-931.54 118.56,-923.23\"/>\n",
       "<polygon fill=\"black\" stroke=\"black\" points=\"120.66,-926.05 125.01,-916.39 115.59,-921.23 120.66,-926.05\"/>\n",
       "</g>\n",
       "<!-- 16 -->\n",
       "<g id=\"node17\" class=\"node\">\n",
       "<title>16</title>\n",
       "<polygon fill=\"#c1ffc1\" stroke=\"none\" points=\"333,-995.5 110,-995.5 110,-951.5 333,-951.5 333,-995.5\"/>\n",
       "<polygon fill=\"none\" stroke=\"black\" points=\"110,-951.5 110,-995.5 156,-995.5 156,-951.5 110,-951.5\"/>\n",
       "<text text-anchor=\"start\" x=\"119.88\" y=\"-976.75\" font-family=\"Linux libertine\" font-size=\"10.00\">LSTM</text>\n",
       "<text text-anchor=\"start\" x=\"114.62\" y=\"-964\" font-family=\"Linux libertine\" font-size=\"10.00\">depth:3</text>\n",
       "<polygon fill=\"none\" stroke=\"black\" points=\"156,-973.5 156,-995.5 203,-995.5 203,-973.5 156,-973.5\"/>\n",
       "<text text-anchor=\"start\" x=\"165.62\" y=\"-981\" font-family=\"Linux libertine\" font-size=\"10.00\">input:</text>\n",
       "<polygon fill=\"none\" stroke=\"black\" points=\"203,-973.5 203,-995.5 333,-995.5 333,-973.5 203,-973.5\"/>\n",
       "<text text-anchor=\"start\" x=\"241.75\" y=\"-981\" font-family=\"Linux libertine\" font-size=\"10.00\">(5, 45, 64) </text>\n",
       "<polygon fill=\"none\" stroke=\"black\" points=\"156,-951.5 156,-973.5 203,-973.5 203,-951.5 156,-951.5\"/>\n",
       "<text text-anchor=\"start\" x=\"160.75\" y=\"-959\" font-family=\"Linux libertine\" font-size=\"10.00\">output: </text>\n",
       "<polygon fill=\"none\" stroke=\"black\" points=\"203,-951.5 203,-973.5 333,-973.5 333,-951.5 203,-951.5\"/>\n",
       "<text text-anchor=\"start\" x=\"208\" y=\"-959\" font-family=\"Linux libertine\" font-size=\"10.00\">(5, 45, 64), 2 x (2, 5, 32) </text>\n",
       "</g>\n",
       "<!-- 15&#45;&gt;16 -->\n",
       "<g id=\"edge21\" class=\"edge\">\n",
       "<title>15&#45;&gt;16</title>\n",
       "<path fill=\"none\" stroke=\"black\" d=\"M211.98,-1031.6C213.28,-1023.82 214.78,-1014.8 216.21,-1006.26\"/>\n",
       "<polygon fill=\"black\" stroke=\"black\" points=\"219.81,-1006.9 218.01,-996.46 212.91,-1005.75 219.81,-1006.9\"/>\n",
       "</g>\n",
       "<!-- 16&#45;&gt;17 -->\n",
       "<g id=\"edge22\" class=\"edge\">\n",
       "<title>16&#45;&gt;17</title>\n",
       "<path fill=\"none\" stroke=\"black\" d=\"M202.74,-951.6C194.97,-942.94 185.83,-932.76 177.44,-923.41\"/>\n",
       "<polygon fill=\"black\" stroke=\"black\" points=\"180.59,-921.57 171.31,-916.46 175.38,-926.24 180.59,-921.57\"/>\n",
       "</g>\n",
       "<!-- 18 -->\n",
       "<g id=\"node19\" class=\"node\">\n",
       "<title>18</title>\n",
       "<polygon fill=\"#c1ffc1\" stroke=\"none\" points=\"308,-835.5 135,-835.5 135,-791.5 308,-791.5 308,-835.5\"/>\n",
       "<polygon fill=\"none\" stroke=\"black\" points=\"135,-791.5 135,-835.5 199,-835.5 199,-791.5 135,-791.5\"/>\n",
       "<text text-anchor=\"start\" x=\"140\" y=\"-816.75\" font-family=\"Linux libertine\" font-size=\"10.00\">LayerNorm</text>\n",
       "<text text-anchor=\"start\" x=\"148.62\" y=\"-804\" font-family=\"Linux libertine\" font-size=\"10.00\">depth:3</text>\n",
       "<polygon fill=\"none\" stroke=\"black\" points=\"199,-813.5 199,-835.5 246,-835.5 246,-813.5 199,-813.5\"/>\n",
       "<text text-anchor=\"start\" x=\"208.62\" y=\"-821\" font-family=\"Linux libertine\" font-size=\"10.00\">input:</text>\n",
       "<polygon fill=\"none\" stroke=\"black\" points=\"246,-813.5 246,-835.5 308,-835.5 308,-813.5 246,-813.5\"/>\n",
       "<text text-anchor=\"start\" x=\"250.75\" y=\"-821\" font-family=\"Linux libertine\" font-size=\"10.00\">(5, 45, 64) </text>\n",
       "<polygon fill=\"none\" stroke=\"black\" points=\"199,-791.5 199,-813.5 246,-813.5 246,-791.5 199,-791.5\"/>\n",
       "<text text-anchor=\"start\" x=\"203.75\" y=\"-799\" font-family=\"Linux libertine\" font-size=\"10.00\">output: </text>\n",
       "<polygon fill=\"none\" stroke=\"black\" points=\"246,-791.5 246,-813.5 308,-813.5 308,-791.5 246,-791.5\"/>\n",
       "<text text-anchor=\"start\" x=\"250.75\" y=\"-799\" font-family=\"Linux libertine\" font-size=\"10.00\">(5, 45, 64) </text>\n",
       "</g>\n",
       "<!-- 17&#45;&gt;18 -->\n",
       "<g id=\"edge23\" class=\"edge\">\n",
       "<title>17&#45;&gt;18</title>\n",
       "<path fill=\"none\" stroke=\"black\" d=\"M170.26,-871.6C178.03,-862.94 187.17,-852.76 195.56,-843.41\"/>\n",
       "<polygon fill=\"black\" stroke=\"black\" points=\"197.62,-846.24 201.69,-836.46 192.41,-841.57 197.62,-846.24\"/>\n",
       "</g>\n",
       "<!-- 20 -->\n",
       "<g id=\"node21\" class=\"node\">\n",
       "<title>20</title>\n",
       "<polygon fill=\"aliceblue\" stroke=\"none\" points=\"251,-675.5 78,-675.5 78,-631.5 251,-631.5 251,-675.5\"/>\n",
       "<polygon fill=\"none\" stroke=\"black\" points=\"78,-631.5 78,-675.5 124,-675.5 124,-631.5 78,-631.5\"/>\n",
       "<text text-anchor=\"start\" x=\"92\" y=\"-656.75\" font-family=\"Linux libertine\" font-size=\"10.00\">add</text>\n",
       "<text text-anchor=\"start\" x=\"82.62\" y=\"-644\" font-family=\"Linux libertine\" font-size=\"10.00\">depth:3</text>\n",
       "<polygon fill=\"none\" stroke=\"black\" points=\"124,-653.5 124,-675.5 171,-675.5 171,-653.5 124,-653.5\"/>\n",
       "<text text-anchor=\"start\" x=\"133.62\" y=\"-661\" font-family=\"Linux libertine\" font-size=\"10.00\">input:</text>\n",
       "<polygon fill=\"none\" stroke=\"black\" points=\"171,-653.5 171,-675.5 251,-675.5 251,-653.5 171,-653.5\"/>\n",
       "<text text-anchor=\"start\" x=\"175.75\" y=\"-661\" font-family=\"Linux libertine\" font-size=\"10.00\">2 x (5, 45, 64) </text>\n",
       "<polygon fill=\"none\" stroke=\"black\" points=\"124,-631.5 124,-653.5 171,-653.5 171,-631.5 124,-631.5\"/>\n",
       "<text text-anchor=\"start\" x=\"128.75\" y=\"-639\" font-family=\"Linux libertine\" font-size=\"10.00\">output: </text>\n",
       "<polygon fill=\"none\" stroke=\"black\" points=\"171,-631.5 171,-653.5 251,-653.5 251,-631.5 171,-631.5\"/>\n",
       "<text text-anchor=\"start\" x=\"184.75\" y=\"-639\" font-family=\"Linux libertine\" font-size=\"10.00\">(5, 45, 64) </text>\n",
       "</g>\n",
       "<!-- 17&#45;&gt;20 -->\n",
       "<g id=\"edge24\" class=\"edge\">\n",
       "<title>17&#45;&gt;20</title>\n",
       "<path fill=\"none\" stroke=\"black\" d=\"M139.61,-871.54C121.74,-837.18 92.24,-767.14 113.5,-711.5 117.45,-701.17 124.22,-691.54 131.56,-683.23\"/>\n",
       "<polygon fill=\"black\" stroke=\"black\" points=\"133.66,-686.05 138.01,-676.39 128.59,-681.23 133.66,-686.05\"/>\n",
       "</g>\n",
       "<!-- 19 -->\n",
       "<g id=\"node20\" class=\"node\">\n",
       "<title>19</title>\n",
       "<polygon fill=\"#c1ffc1\" stroke=\"none\" points=\"346,-755.5 123,-755.5 123,-711.5 346,-711.5 346,-755.5\"/>\n",
       "<polygon fill=\"none\" stroke=\"black\" points=\"123,-711.5 123,-755.5 169,-755.5 169,-711.5 123,-711.5\"/>\n",
       "<text text-anchor=\"start\" x=\"132.88\" y=\"-736.75\" font-family=\"Linux libertine\" font-size=\"10.00\">LSTM</text>\n",
       "<text text-anchor=\"start\" x=\"127.62\" y=\"-724\" font-family=\"Linux libertine\" font-size=\"10.00\">depth:3</text>\n",
       "<polygon fill=\"none\" stroke=\"black\" points=\"169,-733.5 169,-755.5 216,-755.5 216,-733.5 169,-733.5\"/>\n",
       "<text text-anchor=\"start\" x=\"178.62\" y=\"-741\" font-family=\"Linux libertine\" font-size=\"10.00\">input:</text>\n",
       "<polygon fill=\"none\" stroke=\"black\" points=\"216,-733.5 216,-755.5 346,-755.5 346,-733.5 216,-733.5\"/>\n",
       "<text text-anchor=\"start\" x=\"254.75\" y=\"-741\" font-family=\"Linux libertine\" font-size=\"10.00\">(5, 45, 64) </text>\n",
       "<polygon fill=\"none\" stroke=\"black\" points=\"169,-711.5 169,-733.5 216,-733.5 216,-711.5 169,-711.5\"/>\n",
       "<text text-anchor=\"start\" x=\"173.75\" y=\"-719\" font-family=\"Linux libertine\" font-size=\"10.00\">output: </text>\n",
       "<polygon fill=\"none\" stroke=\"black\" points=\"216,-711.5 216,-733.5 346,-733.5 346,-711.5 216,-711.5\"/>\n",
       "<text text-anchor=\"start\" x=\"221\" y=\"-719\" font-family=\"Linux libertine\" font-size=\"10.00\">(5, 45, 64), 2 x (2, 5, 32) </text>\n",
       "</g>\n",
       "<!-- 18&#45;&gt;19 -->\n",
       "<g id=\"edge25\" class=\"edge\">\n",
       "<title>18&#45;&gt;19</title>\n",
       "<path fill=\"none\" stroke=\"black\" d=\"M224.98,-791.6C226.28,-783.82 227.78,-774.8 229.21,-766.26\"/>\n",
       "<polygon fill=\"black\" stroke=\"black\" points=\"232.81,-766.9 231.01,-756.46 225.91,-765.75 232.81,-766.9\"/>\n",
       "</g>\n",
       "<!-- 19&#45;&gt;20 -->\n",
       "<g id=\"edge26\" class=\"edge\">\n",
       "<title>19&#45;&gt;20</title>\n",
       "<path fill=\"none\" stroke=\"black\" d=\"M215.74,-711.6C207.97,-702.94 198.83,-692.76 190.44,-683.41\"/>\n",
       "<polygon fill=\"black\" stroke=\"black\" points=\"193.59,-681.57 184.31,-676.46 188.38,-686.24 193.59,-681.57\"/>\n",
       "</g>\n",
       "<!-- 21 -->\n",
       "<g id=\"node22\" class=\"node\">\n",
       "<title>21</title>\n",
       "<polygon fill=\"#c1ffc1\" stroke=\"none\" points=\"321,-595.5 148,-595.5 148,-551.5 321,-551.5 321,-595.5\"/>\n",
       "<polygon fill=\"none\" stroke=\"black\" points=\"148,-551.5 148,-595.5 212,-595.5 212,-551.5 148,-551.5\"/>\n",
       "<text text-anchor=\"start\" x=\"153\" y=\"-576.75\" font-family=\"Linux libertine\" font-size=\"10.00\">LayerNorm</text>\n",
       "<text text-anchor=\"start\" x=\"161.62\" y=\"-564\" font-family=\"Linux libertine\" font-size=\"10.00\">depth:3</text>\n",
       "<polygon fill=\"none\" stroke=\"black\" points=\"212,-573.5 212,-595.5 259,-595.5 259,-573.5 212,-573.5\"/>\n",
       "<text text-anchor=\"start\" x=\"221.62\" y=\"-581\" font-family=\"Linux libertine\" font-size=\"10.00\">input:</text>\n",
       "<polygon fill=\"none\" stroke=\"black\" points=\"259,-573.5 259,-595.5 321,-595.5 321,-573.5 259,-573.5\"/>\n",
       "<text text-anchor=\"start\" x=\"263.75\" y=\"-581\" font-family=\"Linux libertine\" font-size=\"10.00\">(5, 45, 64) </text>\n",
       "<polygon fill=\"none\" stroke=\"black\" points=\"212,-551.5 212,-573.5 259,-573.5 259,-551.5 212,-551.5\"/>\n",
       "<text text-anchor=\"start\" x=\"216.75\" y=\"-559\" font-family=\"Linux libertine\" font-size=\"10.00\">output: </text>\n",
       "<polygon fill=\"none\" stroke=\"black\" points=\"259,-551.5 259,-573.5 321,-573.5 321,-551.5 259,-551.5\"/>\n",
       "<text text-anchor=\"start\" x=\"263.75\" y=\"-559\" font-family=\"Linux libertine\" font-size=\"10.00\">(5, 45, 64) </text>\n",
       "</g>\n",
       "<!-- 20&#45;&gt;21 -->\n",
       "<g id=\"edge27\" class=\"edge\">\n",
       "<title>20&#45;&gt;21</title>\n",
       "<path fill=\"none\" stroke=\"black\" d=\"M183.26,-631.6C191.03,-622.94 200.17,-612.76 208.56,-603.41\"/>\n",
       "<polygon fill=\"black\" stroke=\"black\" points=\"210.62,-606.24 214.69,-596.46 205.41,-601.57 210.62,-606.24\"/>\n",
       "</g>\n",
       "<!-- 23 -->\n",
       "<g id=\"node24\" class=\"node\">\n",
       "<title>23</title>\n",
       "<polygon fill=\"aliceblue\" stroke=\"none\" points=\"264,-435.5 91,-435.5 91,-391.5 264,-391.5 264,-435.5\"/>\n",
       "<polygon fill=\"none\" stroke=\"black\" points=\"91,-391.5 91,-435.5 137,-435.5 137,-391.5 91,-391.5\"/>\n",
       "<text text-anchor=\"start\" x=\"105\" y=\"-416.75\" font-family=\"Linux libertine\" font-size=\"10.00\">add</text>\n",
       "<text text-anchor=\"start\" x=\"95.62\" y=\"-404\" font-family=\"Linux libertine\" font-size=\"10.00\">depth:3</text>\n",
       "<polygon fill=\"none\" stroke=\"black\" points=\"137,-413.5 137,-435.5 184,-435.5 184,-413.5 137,-413.5\"/>\n",
       "<text text-anchor=\"start\" x=\"146.62\" y=\"-421\" font-family=\"Linux libertine\" font-size=\"10.00\">input:</text>\n",
       "<polygon fill=\"none\" stroke=\"black\" points=\"184,-413.5 184,-435.5 264,-435.5 264,-413.5 184,-413.5\"/>\n",
       "<text text-anchor=\"start\" x=\"188.75\" y=\"-421\" font-family=\"Linux libertine\" font-size=\"10.00\">2 x (5, 45, 64) </text>\n",
       "<polygon fill=\"none\" stroke=\"black\" points=\"137,-391.5 137,-413.5 184,-413.5 184,-391.5 137,-391.5\"/>\n",
       "<text text-anchor=\"start\" x=\"141.75\" y=\"-399\" font-family=\"Linux libertine\" font-size=\"10.00\">output: </text>\n",
       "<polygon fill=\"none\" stroke=\"black\" points=\"184,-391.5 184,-413.5 264,-413.5 264,-391.5 184,-391.5\"/>\n",
       "<text text-anchor=\"start\" x=\"197.75\" y=\"-399\" font-family=\"Linux libertine\" font-size=\"10.00\">(5, 45, 64) </text>\n",
       "</g>\n",
       "<!-- 20&#45;&gt;23 -->\n",
       "<g id=\"edge28\" class=\"edge\">\n",
       "<title>20&#45;&gt;23</title>\n",
       "<path fill=\"none\" stroke=\"black\" d=\"M152.61,-631.54C134.74,-597.18 105.24,-527.14 126.5,-471.5 130.45,-461.17 137.22,-451.54 144.56,-443.23\"/>\n",
       "<polygon fill=\"black\" stroke=\"black\" points=\"146.66,-446.05 151.01,-436.39 141.59,-441.23 146.66,-446.05\"/>\n",
       "</g>\n",
       "<!-- 22 -->\n",
       "<g id=\"node23\" class=\"node\">\n",
       "<title>22</title>\n",
       "<polygon fill=\"#c1ffc1\" stroke=\"none\" points=\"359,-515.5 136,-515.5 136,-471.5 359,-471.5 359,-515.5\"/>\n",
       "<polygon fill=\"none\" stroke=\"black\" points=\"136,-471.5 136,-515.5 182,-515.5 182,-471.5 136,-471.5\"/>\n",
       "<text text-anchor=\"start\" x=\"145.88\" y=\"-496.75\" font-family=\"Linux libertine\" font-size=\"10.00\">LSTM</text>\n",
       "<text text-anchor=\"start\" x=\"140.62\" y=\"-484\" font-family=\"Linux libertine\" font-size=\"10.00\">depth:3</text>\n",
       "<polygon fill=\"none\" stroke=\"black\" points=\"182,-493.5 182,-515.5 229,-515.5 229,-493.5 182,-493.5\"/>\n",
       "<text text-anchor=\"start\" x=\"191.62\" y=\"-501\" font-family=\"Linux libertine\" font-size=\"10.00\">input:</text>\n",
       "<polygon fill=\"none\" stroke=\"black\" points=\"229,-493.5 229,-515.5 359,-515.5 359,-493.5 229,-493.5\"/>\n",
       "<text text-anchor=\"start\" x=\"267.75\" y=\"-501\" font-family=\"Linux libertine\" font-size=\"10.00\">(5, 45, 64) </text>\n",
       "<polygon fill=\"none\" stroke=\"black\" points=\"182,-471.5 182,-493.5 229,-493.5 229,-471.5 182,-471.5\"/>\n",
       "<text text-anchor=\"start\" x=\"186.75\" y=\"-479\" font-family=\"Linux libertine\" font-size=\"10.00\">output: </text>\n",
       "<polygon fill=\"none\" stroke=\"black\" points=\"229,-471.5 229,-493.5 359,-493.5 359,-471.5 229,-471.5\"/>\n",
       "<text text-anchor=\"start\" x=\"234\" y=\"-479\" font-family=\"Linux libertine\" font-size=\"10.00\">(5, 45, 64), 2 x (2, 5, 32) </text>\n",
       "</g>\n",
       "<!-- 21&#45;&gt;22 -->\n",
       "<g id=\"edge29\" class=\"edge\">\n",
       "<title>21&#45;&gt;22</title>\n",
       "<path fill=\"none\" stroke=\"black\" d=\"M237.98,-551.6C239.28,-543.82 240.78,-534.8 242.21,-526.26\"/>\n",
       "<polygon fill=\"black\" stroke=\"black\" points=\"245.81,-526.9 244.01,-516.46 238.91,-525.75 245.81,-526.9\"/>\n",
       "</g>\n",
       "<!-- 22&#45;&gt;23 -->\n",
       "<g id=\"edge30\" class=\"edge\">\n",
       "<title>22&#45;&gt;23</title>\n",
       "<path fill=\"none\" stroke=\"black\" d=\"M228.74,-471.6C220.97,-462.94 211.83,-452.76 203.44,-443.41\"/>\n",
       "<polygon fill=\"black\" stroke=\"black\" points=\"206.59,-441.57 197.31,-436.46 201.38,-446.24 206.59,-441.57\"/>\n",
       "</g>\n",
       "<!-- 24 -->\n",
       "<g id=\"node25\" class=\"node\">\n",
       "<title>24</title>\n",
       "<polygon fill=\"#c1ffc1\" stroke=\"none\" points=\"334,-355.5 161,-355.5 161,-311.5 334,-311.5 334,-355.5\"/>\n",
       "<polygon fill=\"none\" stroke=\"black\" points=\"161,-311.5 161,-355.5 225,-355.5 225,-311.5 161,-311.5\"/>\n",
       "<text text-anchor=\"start\" x=\"166\" y=\"-336.75\" font-family=\"Linux libertine\" font-size=\"10.00\">LayerNorm</text>\n",
       "<text text-anchor=\"start\" x=\"174.62\" y=\"-324\" font-family=\"Linux libertine\" font-size=\"10.00\">depth:3</text>\n",
       "<polygon fill=\"none\" stroke=\"black\" points=\"225,-333.5 225,-355.5 272,-355.5 272,-333.5 225,-333.5\"/>\n",
       "<text text-anchor=\"start\" x=\"234.62\" y=\"-341\" font-family=\"Linux libertine\" font-size=\"10.00\">input:</text>\n",
       "<polygon fill=\"none\" stroke=\"black\" points=\"272,-333.5 272,-355.5 334,-355.5 334,-333.5 272,-333.5\"/>\n",
       "<text text-anchor=\"start\" x=\"276.75\" y=\"-341\" font-family=\"Linux libertine\" font-size=\"10.00\">(5, 45, 64) </text>\n",
       "<polygon fill=\"none\" stroke=\"black\" points=\"225,-311.5 225,-333.5 272,-333.5 272,-311.5 225,-311.5\"/>\n",
       "<text text-anchor=\"start\" x=\"229.75\" y=\"-319\" font-family=\"Linux libertine\" font-size=\"10.00\">output: </text>\n",
       "<polygon fill=\"none\" stroke=\"black\" points=\"272,-311.5 272,-333.5 334,-333.5 334,-311.5 272,-311.5\"/>\n",
       "<text text-anchor=\"start\" x=\"276.75\" y=\"-319\" font-family=\"Linux libertine\" font-size=\"10.00\">(5, 45, 64) </text>\n",
       "</g>\n",
       "<!-- 23&#45;&gt;24 -->\n",
       "<g id=\"edge31\" class=\"edge\">\n",
       "<title>23&#45;&gt;24</title>\n",
       "<path fill=\"none\" stroke=\"black\" d=\"M196.26,-391.6C204.03,-382.94 213.17,-372.76 221.56,-363.41\"/>\n",
       "<polygon fill=\"black\" stroke=\"black\" points=\"223.62,-366.24 227.69,-356.46 218.41,-361.57 223.62,-366.24\"/>\n",
       "</g>\n",
       "<!-- 26 -->\n",
       "<g id=\"node27\" class=\"node\">\n",
       "<title>26</title>\n",
       "<polygon fill=\"aliceblue\" stroke=\"none\" points=\"277,-195.5 104,-195.5 104,-151.5 277,-151.5 277,-195.5\"/>\n",
       "<polygon fill=\"none\" stroke=\"black\" points=\"104,-151.5 104,-195.5 150,-195.5 150,-151.5 104,-151.5\"/>\n",
       "<text text-anchor=\"start\" x=\"118\" y=\"-176.75\" font-family=\"Linux libertine\" font-size=\"10.00\">add</text>\n",
       "<text text-anchor=\"start\" x=\"108.62\" y=\"-164\" font-family=\"Linux libertine\" font-size=\"10.00\">depth:3</text>\n",
       "<polygon fill=\"none\" stroke=\"black\" points=\"150,-173.5 150,-195.5 197,-195.5 197,-173.5 150,-173.5\"/>\n",
       "<text text-anchor=\"start\" x=\"159.62\" y=\"-181\" font-family=\"Linux libertine\" font-size=\"10.00\">input:</text>\n",
       "<polygon fill=\"none\" stroke=\"black\" points=\"197,-173.5 197,-195.5 277,-195.5 277,-173.5 197,-173.5\"/>\n",
       "<text text-anchor=\"start\" x=\"201.75\" y=\"-181\" font-family=\"Linux libertine\" font-size=\"10.00\">2 x (5, 45, 64) </text>\n",
       "<polygon fill=\"none\" stroke=\"black\" points=\"150,-151.5 150,-173.5 197,-173.5 197,-151.5 150,-151.5\"/>\n",
       "<text text-anchor=\"start\" x=\"154.75\" y=\"-159\" font-family=\"Linux libertine\" font-size=\"10.00\">output: </text>\n",
       "<polygon fill=\"none\" stroke=\"black\" points=\"197,-151.5 197,-173.5 277,-173.5 277,-151.5 197,-151.5\"/>\n",
       "<text text-anchor=\"start\" x=\"210.75\" y=\"-159\" font-family=\"Linux libertine\" font-size=\"10.00\">(5, 45, 64) </text>\n",
       "</g>\n",
       "<!-- 23&#45;&gt;26 -->\n",
       "<g id=\"edge32\" class=\"edge\">\n",
       "<title>23&#45;&gt;26</title>\n",
       "<path fill=\"none\" stroke=\"black\" d=\"M165.61,-391.54C147.74,-357.18 118.24,-287.14 139.5,-231.5 143.45,-221.17 150.22,-211.54 157.56,-203.23\"/>\n",
       "<polygon fill=\"black\" stroke=\"black\" points=\"159.66,-206.05 164.01,-196.39 154.59,-201.23 159.66,-206.05\"/>\n",
       "</g>\n",
       "<!-- 25 -->\n",
       "<g id=\"node26\" class=\"node\">\n",
       "<title>25</title>\n",
       "<polygon fill=\"#c1ffc1\" stroke=\"none\" points=\"372,-275.5 149,-275.5 149,-231.5 372,-231.5 372,-275.5\"/>\n",
       "<polygon fill=\"none\" stroke=\"black\" points=\"149,-231.5 149,-275.5 195,-275.5 195,-231.5 149,-231.5\"/>\n",
       "<text text-anchor=\"start\" x=\"158.88\" y=\"-256.75\" font-family=\"Linux libertine\" font-size=\"10.00\">LSTM</text>\n",
       "<text text-anchor=\"start\" x=\"153.62\" y=\"-244\" font-family=\"Linux libertine\" font-size=\"10.00\">depth:3</text>\n",
       "<polygon fill=\"none\" stroke=\"black\" points=\"195,-253.5 195,-275.5 242,-275.5 242,-253.5 195,-253.5\"/>\n",
       "<text text-anchor=\"start\" x=\"204.62\" y=\"-261\" font-family=\"Linux libertine\" font-size=\"10.00\">input:</text>\n",
       "<polygon fill=\"none\" stroke=\"black\" points=\"242,-253.5 242,-275.5 372,-275.5 372,-253.5 242,-253.5\"/>\n",
       "<text text-anchor=\"start\" x=\"280.75\" y=\"-261\" font-family=\"Linux libertine\" font-size=\"10.00\">(5, 45, 64) </text>\n",
       "<polygon fill=\"none\" stroke=\"black\" points=\"195,-231.5 195,-253.5 242,-253.5 242,-231.5 195,-231.5\"/>\n",
       "<text text-anchor=\"start\" x=\"199.75\" y=\"-239\" font-family=\"Linux libertine\" font-size=\"10.00\">output: </text>\n",
       "<polygon fill=\"none\" stroke=\"black\" points=\"242,-231.5 242,-253.5 372,-253.5 372,-231.5 242,-231.5\"/>\n",
       "<text text-anchor=\"start\" x=\"247\" y=\"-239\" font-family=\"Linux libertine\" font-size=\"10.00\">(5, 45, 64), 2 x (2, 5, 32) </text>\n",
       "</g>\n",
       "<!-- 24&#45;&gt;25 -->\n",
       "<g id=\"edge33\" class=\"edge\">\n",
       "<title>24&#45;&gt;25</title>\n",
       "<path fill=\"none\" stroke=\"black\" d=\"M250.98,-311.6C252.28,-303.82 253.78,-294.8 255.21,-286.26\"/>\n",
       "<polygon fill=\"black\" stroke=\"black\" points=\"258.81,-286.9 257.01,-276.46 251.91,-285.75 258.81,-286.9\"/>\n",
       "</g>\n",
       "<!-- 25&#45;&gt;26 -->\n",
       "<g id=\"edge34\" class=\"edge\">\n",
       "<title>25&#45;&gt;26</title>\n",
       "<path fill=\"none\" stroke=\"black\" d=\"M241.74,-231.6C233.97,-222.94 224.83,-212.76 216.44,-203.41\"/>\n",
       "<polygon fill=\"black\" stroke=\"black\" points=\"219.59,-201.57 210.31,-196.46 214.38,-206.24 219.59,-201.57\"/>\n",
       "</g>\n",
       "<!-- 27 -->\n",
       "<g id=\"node28\" class=\"node\">\n",
       "<title>27</title>\n",
       "<polygon fill=\"aliceblue\" stroke=\"none\" points=\"279.5,-115.5 101.5,-115.5 101.5,-71.5 279.5,-71.5 279.5,-115.5\"/>\n",
       "<polygon fill=\"none\" stroke=\"black\" points=\"101.5,-71.5 101.5,-115.5 170.5,-115.5 170.5,-71.5 101.5,-71.5\"/>\n",
       "<text text-anchor=\"start\" x=\"106.38\" y=\"-96.75\" font-family=\"Linux libertine\" font-size=\"10.00\">__getitem__</text>\n",
       "<text text-anchor=\"start\" x=\"117.62\" y=\"-84\" font-family=\"Linux libertine\" font-size=\"10.00\">depth:1</text>\n",
       "<polygon fill=\"none\" stroke=\"black\" points=\"170.5,-93.5 170.5,-115.5 217.5,-115.5 217.5,-93.5 170.5,-93.5\"/>\n",
       "<text text-anchor=\"start\" x=\"180.12\" y=\"-101\" font-family=\"Linux libertine\" font-size=\"10.00\">input:</text>\n",
       "<polygon fill=\"none\" stroke=\"black\" points=\"217.5,-93.5 217.5,-115.5 279.5,-115.5 279.5,-93.5 217.5,-93.5\"/>\n",
       "<text text-anchor=\"start\" x=\"222.25\" y=\"-101\" font-family=\"Linux libertine\" font-size=\"10.00\">(5, 45, 64) </text>\n",
       "<polygon fill=\"none\" stroke=\"black\" points=\"170.5,-71.5 170.5,-93.5 217.5,-93.5 217.5,-71.5 170.5,-71.5\"/>\n",
       "<text text-anchor=\"start\" x=\"175.25\" y=\"-79\" font-family=\"Linux libertine\" font-size=\"10.00\">output: </text>\n",
       "<polygon fill=\"none\" stroke=\"black\" points=\"217.5,-71.5 217.5,-93.5 279.5,-93.5 279.5,-71.5 217.5,-71.5\"/>\n",
       "<text text-anchor=\"start\" x=\"231.25\" y=\"-79\" font-family=\"Linux libertine\" font-size=\"10.00\">(5, 64) </text>\n",
       "</g>\n",
       "<!-- 26&#45;&gt;27 -->\n",
       "<g id=\"edge35\" class=\"edge\">\n",
       "<title>26&#45;&gt;27</title>\n",
       "<path fill=\"none\" stroke=\"black\" d=\"M190.5,-151.6C190.5,-143.82 190.5,-134.8 190.5,-126.26\"/>\n",
       "<polygon fill=\"black\" stroke=\"black\" points=\"194,-126.46 190.5,-116.46 187,-126.46 194,-126.46\"/>\n",
       "</g>\n",
       "<!-- 28 -->\n",
       "<g id=\"node29\" class=\"node\">\n",
       "<title>28</title>\n",
       "<polygon fill=\"lightyellow\" stroke=\"none\" points=\"249.25,-35.5 131.75,-35.5 131.75,0 249.25,0 249.25,-35.5\"/>\n",
       "<polygon fill=\"none\" stroke=\"black\" points=\"131.75,0 131.75,-35.5 207.75,-35.5 207.75,0 131.75,0\"/>\n",
       "<text text-anchor=\"start\" x=\"136.75\" y=\"-21\" font-family=\"Linux libertine\" font-size=\"10.00\">output&#45;tensor</text>\n",
       "<text text-anchor=\"start\" x=\"151.38\" y=\"-8.25\" font-family=\"Linux libertine\" font-size=\"10.00\">depth:0</text>\n",
       "<polygon fill=\"none\" stroke=\"black\" points=\"207.75,0 207.75,-35.5 249.25,-35.5 249.25,0 207.75,0\"/>\n",
       "<text text-anchor=\"start\" x=\"212.75\" y=\"-14.62\" font-family=\"Linux libertine\" font-size=\"10.00\">(5, 64)</text>\n",
       "</g>\n",
       "<!-- 27&#45;&gt;28 -->\n",
       "<g id=\"edge36\" class=\"edge\">\n",
       "<title>27&#45;&gt;28</title>\n",
       "<path fill=\"none\" stroke=\"black\" d=\"M190.5,-71.56C190.5,-63.6 190.5,-54.41 190.5,-45.95\"/>\n",
       "<polygon fill=\"black\" stroke=\"black\" points=\"194,-46.05 190.5,-36.05 187,-46.05 194,-46.05\"/>\n",
       "</g>\n",
       "</g>\n",
       "</svg>\n"
      ],
      "text/plain": [
       "<graphviz.graphs.Digraph at 0x7f61eb94cd50>"
      ]
     },
     "execution_count": 55,
     "metadata": {},
     "output_type": "execute_result"
    }
   ],
   "source": [
    "model_graph = draw_graph(enc_net, input_data=torch.Tensor(enc_x_train[0:5]).long(), device=device,\n",
    "                        hide_inner_tensors=True,hide_module_functions=True,\n",
    "                        expand_nested=False, depth=3, dtypes=[torch.long])\n",
    "model_graph.visual_graph"
   ]
  },
  {
   "cell_type": "markdown",
   "id": "033eaba8-880f-4fe2-a1a6-58b1ca00dc37",
   "metadata": {},
   "source": [
    "### Decoder Component"
   ]
  },
  {
   "cell_type": "code",
   "execution_count": 56,
   "id": "4e333f84-504d-4ad6-b615-811772d3f7d6",
   "metadata": {},
   "outputs": [],
   "source": [
    "class DecoderNetwork(torch.nn.Module):\n",
    "    def __init__(self,\n",
    "                 num_tokens,\n",
    "                 latent_size = 64, # Use something divisible by 2\n",
    "                 n_layers = 8,\n",
    "                 **kwargs):\n",
    "        super().__init__(**kwargs)\n",
    "        self.embedding = torch.nn.Embedding(num_tokens,\n",
    "                                            latent_size,\n",
    "                                            padding_idx=0)\n",
    "        self.dropout = torch.nn.Dropout1d(0.1) # Whole token dropped\n",
    "        self.linear = torch.nn.Linear(latent_size*2,\n",
    "                                      latent_size)\n",
    "        self.rnn_layers = torch.nn.Sequential(*[\n",
    "            RecurrentResidual(latent_size,False) for _ in range(n_layers)\n",
    "        ])\n",
    "        self.output_layer = torch.nn.Linear(latent_size,\n",
    "                                            num_tokens)\n",
    "\n",
    "    def forward(self, x_enc, x_dec):\n",
    "        y_enc = x_enc.unsqueeze(1).repeat(1,x_dec.shape[1],1)\n",
    "        y_dec = self.embedding(x_dec)\n",
    "        y_dec = self.dropout(y_dec)\n",
    "        y = y_enc\n",
    "        y = torch.concatenate([y_enc,y_dec],-1)\n",
    "        y = self.linear(y)\n",
    "        y = self.rnn_layers(y)\n",
    "        y = self.output_layer(y)\n",
    "        return y                                    "
   ]
  },
  {
   "cell_type": "code",
   "execution_count": 57,
   "id": "15f2b338-c74c-45cc-9950-0716892fe7e5",
   "metadata": {},
   "outputs": [
    {
     "data": {
      "image/png": "[encoded data removed]",
      "text/latex": [
       "$\\displaystyle \\left( 5, \\  45\\right)$"
      ],
      "text/plain": [
       "(5, 45)"
      ]
     },
     "execution_count": 57,
     "metadata": {},
     "output_type": "execute_result"
    }
   ],
   "source": [
    "enc_x_train[0:5].shape"
   ]
  },
  {
   "cell_type": "code",
   "execution_count": 58,
   "id": "532f5e11-1ad4-4e73-9ba4-2d4f47a8e43e",
   "metadata": {},
   "outputs": [
    {
     "data": {
      "image/png": "[encoded data removed]",
      "text/latex": [
       "$\\displaystyle \\left( 5, \\  44\\right)$"
      ],
      "text/plain": [
       "(5, 44)"
      ]
     },
     "execution_count": 58,
     "metadata": {},
     "output_type": "execute_result"
    }
   ],
   "source": [
    "dec_x_train[0:5].shape"
   ]
  },
  {
   "cell_type": "code",
   "execution_count": 59,
   "id": "353c66dc-4912-4d4f-a99a-cc5a9661306d",
   "metadata": {},
   "outputs": [
    {
     "data": {
      "text/plain": [
       "tensor([[ 1.6525e-01, -7.7133e-01,  6.2579e-02, -1.4571e+00, -5.4212e-01,\n",
       "         -7.0020e-01, -8.9992e-01,  9.6750e-01,  7.7245e-02, -7.1350e-01,\n",
       "         -2.0515e-01, -6.8371e-01,  6.4568e-01, -8.8455e-02, -3.6113e-01,\n",
       "          1.0798e-01,  1.0411e-01,  5.2122e-02,  8.9214e-01,  9.3352e-01,\n",
       "          4.1456e-01,  3.4689e-01,  5.0991e-01, -3.0799e-01, -2.8118e-01,\n",
       "         -1.3983e+00, -1.7681e-01, -5.2543e-01,  8.2318e-01, -9.6934e-02,\n",
       "         -6.5933e-01, -1.6629e-01, -2.6267e-01,  2.3271e-01,  2.0543e-01,\n",
       "         -1.0934e-01,  4.9774e-01,  1.1392e-01,  7.2854e-01,  2.7520e-01,\n",
       "         -1.3371e-01,  3.1289e-03, -4.6270e-01, -1.4000e-01, -3.5630e-01,\n",
       "         -9.9907e-02, -2.6424e-01,  5.5670e-01,  4.8850e-01, -3.6646e-01,\n",
       "         -1.9660e-01,  1.6988e-01, -6.4384e-01,  5.3466e-01,  1.0886e-01,\n",
       "          2.6764e-01, -5.3462e-03, -3.7833e-01,  3.7225e-01, -4.0995e-02,\n",
       "         -5.1791e-01,  4.9058e-01,  7.7219e-01, -4.8448e-02],\n",
       "        [ 1.6370e-01, -7.7176e-01,  6.1661e-02, -1.4529e+00, -5.4976e-01,\n",
       "         -7.0255e-01, -9.0077e-01,  9.6863e-01,  7.2109e-02, -7.1062e-01,\n",
       "         -2.0306e-01, -6.8192e-01,  6.4220e-01, -9.1110e-02, -3.5908e-01,\n",
       "          1.0487e-01,  1.0747e-01,  4.3535e-02,  8.9016e-01,  9.2825e-01,\n",
       "          4.1351e-01,  3.4657e-01,  5.0715e-01, -3.1020e-01, -2.6875e-01,\n",
       "         -1.3869e+00, -1.7150e-01, -5.4890e-01,  8.2078e-01, -9.5258e-02,\n",
       "         -6.6906e-01, -1.6711e-01, -2.6453e-01,  2.3335e-01,  2.0218e-01,\n",
       "         -1.0996e-01,  5.0147e-01,  1.1477e-01,  7.3127e-01,  2.7948e-01,\n",
       "         -1.3157e-01,  3.2161e-03, -4.5321e-01, -1.3978e-01, -3.5472e-01,\n",
       "         -9.9456e-02, -2.6297e-01,  5.5689e-01,  4.8972e-01, -3.7034e-01,\n",
       "         -1.9762e-01,  1.7080e-01, -6.4698e-01,  5.3357e-01,  1.0805e-01,\n",
       "          2.6771e-01, -5.1338e-03, -3.7499e-01,  3.7265e-01, -4.2887e-02,\n",
       "         -5.1809e-01,  4.8868e-01,  7.7177e-01, -4.7706e-02],\n",
       "        [ 1.6492e-01, -7.7175e-01,  6.1575e-02, -1.4566e+00, -5.4656e-01,\n",
       "         -7.0115e-01, -8.9825e-01,  9.6721e-01,  7.5203e-02, -7.1167e-01,\n",
       "         -2.0379e-01, -6.8232e-01,  6.4217e-01, -8.8830e-02, -3.6182e-01,\n",
       "          1.0599e-01,  1.0481e-01,  4.7858e-02,  8.9106e-01,  9.3149e-01,\n",
       "          4.1537e-01,  3.4684e-01,  5.0978e-01, -3.0815e-01, -2.7443e-01,\n",
       "         -1.3936e+00, -1.7492e-01, -5.3128e-01,  8.2093e-01, -9.6783e-02,\n",
       "         -6.6842e-01, -1.6582e-01, -2.6288e-01,  2.3281e-01,  2.0387e-01,\n",
       "         -1.0923e-01,  4.9956e-01,  1.1445e-01,  7.2980e-01,  2.7631e-01,\n",
       "         -1.3292e-01,  2.9540e-03, -4.5827e-01, -1.4018e-01, -3.5613e-01,\n",
       "         -9.9317e-02, -2.6406e-01,  5.5623e-01,  4.8917e-01, -3.6826e-01,\n",
       "         -1.9691e-01,  1.6982e-01, -6.4468e-01,  5.3385e-01,  1.0866e-01,\n",
       "          2.6755e-01, -5.6637e-03, -3.7576e-01,  3.7238e-01, -4.1754e-02,\n",
       "         -5.1816e-01,  4.8850e-01,  7.7208e-01, -4.8274e-02],\n",
       "        [ 1.6145e-01, -7.7409e-01,  6.1777e-02, -1.4479e+00, -5.4584e-01,\n",
       "         -7.0172e-01, -8.9741e-01,  9.8067e-01,  7.1123e-02, -7.1107e-01,\n",
       "         -2.0003e-01, -6.8242e-01,  6.4536e-01, -8.9562e-02, -3.5834e-01,\n",
       "          1.0547e-01,  1.0459e-01,  4.7087e-02,  8.9132e-01,  9.3053e-01,\n",
       "          4.1858e-01,  3.4570e-01,  5.1321e-01, -3.0930e-01, -2.5936e-01,\n",
       "         -1.3949e+00, -1.7183e-01, -5.3177e-01,  8.2030e-01, -9.5399e-02,\n",
       "         -6.5939e-01, -1.6760e-01, -2.6361e-01,  2.3279e-01,  2.0491e-01,\n",
       "         -1.0846e-01,  5.0444e-01,  1.1421e-01,  7.2994e-01,  2.7637e-01,\n",
       "         -1.3258e-01, -8.0021e-04, -4.6155e-01, -1.3679e-01, -3.5942e-01,\n",
       "         -9.6539e-02, -2.6457e-01,  5.5572e-01,  4.8934e-01, -3.6488e-01,\n",
       "         -1.9631e-01,  1.6963e-01, -6.4363e-01,  5.3391e-01,  1.0836e-01,\n",
       "          2.6859e-01, -3.4904e-03, -3.7676e-01,  3.7253e-01, -3.8015e-02,\n",
       "         -5.1703e-01,  4.8933e-01,  7.7293e-01, -4.7075e-02],\n",
       "        [ 1.6706e-01, -7.6969e-01,  6.2344e-02, -1.4601e+00, -5.4035e-01,\n",
       "         -6.9901e-01, -9.0118e-01,  9.6466e-01,  8.0337e-02, -7.1452e-01,\n",
       "         -2.0620e-01, -6.8377e-01,  6.4524e-01, -8.8270e-02, -3.6321e-01,\n",
       "          1.0877e-01,  1.0483e-01,  5.2289e-02,  8.9105e-01,  9.3525e-01,\n",
       "          4.1193e-01,  3.4801e-01,  5.0804e-01, -3.0860e-01, -2.9050e-01,\n",
       "         -1.3976e+00, -1.7863e-01, -5.2665e-01,  8.2333e-01, -9.3721e-02,\n",
       "         -6.6014e-01, -1.6603e-01, -2.6243e-01,  2.3304e-01,  2.0506e-01,\n",
       "         -1.1010e-01,  4.9489e-01,  1.1405e-01,  7.2813e-01,  2.7519e-01,\n",
       "         -1.3388e-01,  5.3970e-03, -4.6295e-01, -1.4157e-01, -3.5479e-01,\n",
       "         -1.0110e-01, -2.6413e-01,  5.5730e-01,  4.8822e-01, -3.6834e-01,\n",
       "         -1.9713e-01,  1.7043e-01, -6.4479e-01,  5.3570e-01,  1.0878e-01,\n",
       "          2.6730e-01, -5.8490e-03, -3.7850e-01,  3.7195e-01, -4.2561e-02,\n",
       "         -5.1807e-01,  4.9096e-01,  7.7184e-01, -4.9101e-02]], device='cuda:0',\n",
       "       grad_fn=<SelectBackward0>)"
      ]
     },
     "execution_count": 59,
     "metadata": {},
     "output_type": "execute_result"
    }
   ],
   "source": [
    "enc_net(torch.Tensor(enc_x_train[0:5]).long().to(device))"
   ]
  },
  {
   "cell_type": "code",
   "execution_count": 60,
   "id": "531a6dd5-a881-430d-b728-6959a91c38aa",
   "metadata": {
    "scrolled": true
   },
   "outputs": [
    {
     "data": {
      "text/plain": [
       "==========================================================================================\n",
       "Layer (type:depth-idx)                   Output Shape              Param #\n",
       "==========================================================================================\n",
       "DecoderNetwork                           [5, 44, 87]               --\n",
       "├─Embedding: 1-1                         [5, 44, 64]               5,568\n",
       "├─Dropout1d: 1-2                         [5, 44, 64]               --\n",
       "├─Linear: 1-3                            [5, 44, 64]               8,256\n",
       "├─Sequential: 1-4                        [5, 44, 64]               --\n",
       "│    └─RecurrentResidual: 2-1            [5, 44, 64]               --\n",
       "│    │    └─LayerNorm: 3-1               [5, 44, 64]               128\n",
       "│    │    └─LSTM: 3-2                    [5, 44, 64]               33,280\n",
       "│    └─RecurrentResidual: 2-2            [5, 44, 64]               --\n",
       "│    │    └─LayerNorm: 3-3               [5, 44, 64]               128\n",
       "│    │    └─LSTM: 3-4                    [5, 44, 64]               33,280\n",
       "│    └─RecurrentResidual: 2-3            [5, 44, 64]               --\n",
       "│    │    └─LayerNorm: 3-5               [5, 44, 64]               128\n",
       "│    │    └─LSTM: 3-6                    [5, 44, 64]               33,280\n",
       "│    └─RecurrentResidual: 2-4            [5, 44, 64]               --\n",
       "│    │    └─LayerNorm: 3-7               [5, 44, 64]               128\n",
       "│    │    └─LSTM: 3-8                    [5, 44, 64]               33,280\n",
       "│    └─RecurrentResidual: 2-5            [5, 44, 64]               --\n",
       "│    │    └─LayerNorm: 3-9               [5, 44, 64]               128\n",
       "│    │    └─LSTM: 3-10                   [5, 44, 64]               33,280\n",
       "│    └─RecurrentResidual: 2-6            [5, 44, 64]               --\n",
       "│    │    └─LayerNorm: 3-11              [5, 44, 64]               128\n",
       "│    │    └─LSTM: 3-12                   [5, 44, 64]               33,280\n",
       "│    └─RecurrentResidual: 2-7            [5, 44, 64]               --\n",
       "│    │    └─LayerNorm: 3-13              [5, 44, 64]               128\n",
       "│    │    └─LSTM: 3-14                   [5, 44, 64]               33,280\n",
       "│    └─RecurrentResidual: 2-8            [5, 44, 64]               --\n",
       "│    │    └─LayerNorm: 3-15              [5, 44, 64]               128\n",
       "│    │    └─LSTM: 3-16                   [5, 44, 64]               33,280\n",
       "├─Linear: 1-5                            [5, 44, 87]               5,655\n",
       "==========================================================================================\n",
       "Total params: 286,743\n",
       "Trainable params: 286,743\n",
       "Non-trainable params: 0\n",
       "Total mult-adds (Units.MEGABYTES): 58.68\n",
       "==========================================================================================\n",
       "Input size (MB): 0.00\n",
       "Forward/backward pass size (MB): 2.18\n",
       "Params size (MB): 1.15\n",
       "Estimated Total Size (MB): 3.33\n",
       "=========================================================================================="
      ]
     },
     "execution_count": 60,
     "metadata": {},
     "output_type": "execute_result"
    }
   ],
   "source": [
    "dec_net = DecoderNetwork(num_tokens=len(i_to_c_por))\n",
    "\n",
    "summary(dec_net,input_data=[enc_net(torch.Tensor(enc_x_train[0:5]).long().to(device)).cpu(),\n",
    "                            torch.Tensor(dec_x_train[0:5]).long()])"
   ]
  },
  {
   "cell_type": "code",
   "execution_count": 61,
   "id": "a9cbb781-e54c-4faf-a251-c390ad7c5b2e",
   "metadata": {},
   "outputs": [
    {
     "data": {
      "image/svg+xml": [
       "<?xml version=\"1.0\" encoding=\"UTF-8\" standalone=\"no\"?>\n",
       "<!DOCTYPE svg PUBLIC \"-//W3C//DTD SVG 1.1//EN\"\n",
       " \"http://www.w3.org/Graphics/SVG/1.1/DTD/svg11.dtd\">\n",
       "<!-- Generated by graphviz version 8.1.0 (20230707.2238)\n",
       " -->\n",
       "<!-- Title: model Pages: 1 -->\n",
       "<svg width=\"312pt\" height=\"1620pt\"\n",
       " viewBox=\"0.00 0.00 312.02 1620.00\" xmlns=\"http://www.w3.org/2000/svg\" xmlns:xlink=\"http://www.w3.org/1999/xlink\">\n",
       "<g id=\"graph0\" class=\"graph\" transform=\"scale(0.665298 0.665298) rotate(0) translate(4 2431)\">\n",
       "<title>model</title>\n",
       "<polygon fill=\"white\" stroke=\"none\" points=\"-4,4 -4,-2431 465,-2431 465,4 -4,4\"/>\n",
       "<!-- 0 -->\n",
       "<g id=\"node1\" class=\"node\">\n",
       "<title>0</title>\n",
       "<polygon fill=\"lightyellow\" stroke=\"none\" points=\"137.88,-2427 27.12,-2427 27.12,-2391.5 137.88,-2391.5 137.88,-2427\"/>\n",
       "<polygon fill=\"none\" stroke=\"black\" points=\"27.12,-2391.5 27.12,-2427 96.38,-2427 96.38,-2391.5 27.12,-2391.5\"/>\n",
       "<text text-anchor=\"start\" x=\"32.12\" y=\"-2412.5\" font-family=\"Linux libertine\" font-size=\"10.00\">input&#45;tensor</text>\n",
       "<text text-anchor=\"start\" x=\"43.38\" y=\"-2399.75\" font-family=\"Linux libertine\" font-size=\"10.00\">depth:0</text>\n",
       "<polygon fill=\"none\" stroke=\"black\" points=\"96.38,-2391.5 96.38,-2427 137.88,-2427 137.88,-2391.5 96.38,-2391.5\"/>\n",
       "<text text-anchor=\"start\" x=\"101.38\" y=\"-2406.12\" font-family=\"Linux libertine\" font-size=\"10.00\">(5, 64)</text>\n",
       "</g>\n",
       "<!-- 2 -->\n",
       "<g id=\"node3\" class=\"node\">\n",
       "<title>2</title>\n",
       "<polygon fill=\"aliceblue\" stroke=\"none\" points=\"165,-2355.5 0,-2355.5 0,-2311.5 165,-2311.5 165,-2355.5\"/>\n",
       "<polygon fill=\"none\" stroke=\"black\" points=\"0,-2311.5 0,-2355.5 62,-2355.5 62,-2311.5 0,-2311.5\"/>\n",
       "<text text-anchor=\"start\" x=\"4.75\" y=\"-2336.75\" font-family=\"Linux libertine\" font-size=\"10.00\">unsqueeze</text>\n",
       "<text text-anchor=\"start\" x=\"12.62\" y=\"-2324\" font-family=\"Linux libertine\" font-size=\"10.00\">depth:1</text>\n",
       "<polygon fill=\"none\" stroke=\"black\" points=\"62,-2333.5 62,-2355.5 109,-2355.5 109,-2333.5 62,-2333.5\"/>\n",
       "<text text-anchor=\"start\" x=\"71.62\" y=\"-2341\" font-family=\"Linux libertine\" font-size=\"10.00\">input:</text>\n",
       "<polygon fill=\"none\" stroke=\"black\" points=\"109,-2333.5 109,-2355.5 165,-2355.5 165,-2333.5 109,-2333.5\"/>\n",
       "<text text-anchor=\"start\" x=\"119.75\" y=\"-2341\" font-family=\"Linux libertine\" font-size=\"10.00\">(5, 64) </text>\n",
       "<polygon fill=\"none\" stroke=\"black\" points=\"62,-2311.5 62,-2333.5 109,-2333.5 109,-2311.5 62,-2311.5\"/>\n",
       "<text text-anchor=\"start\" x=\"66.75\" y=\"-2319\" font-family=\"Linux libertine\" font-size=\"10.00\">output: </text>\n",
       "<polygon fill=\"none\" stroke=\"black\" points=\"109,-2311.5 109,-2333.5 165,-2333.5 165,-2311.5 109,-2311.5\"/>\n",
       "<text text-anchor=\"start\" x=\"113.75\" y=\"-2319\" font-family=\"Linux libertine\" font-size=\"10.00\">(5, 1, 64) </text>\n",
       "</g>\n",
       "<!-- 0&#45;&gt;2 -->\n",
       "<g id=\"edge1\" class=\"edge\">\n",
       "<title>0&#45;&gt;2</title>\n",
       "<path fill=\"none\" stroke=\"black\" d=\"M82.5,-2391.51C82.5,-2384.07 82.5,-2375.04 82.5,-2366.39\"/>\n",
       "<polygon fill=\"black\" stroke=\"black\" points=\"86,-2366.39 82.5,-2356.39 79,-2366.39 86,-2366.39\"/>\n",
       "</g>\n",
       "<!-- 1 -->\n",
       "<g id=\"node2\" class=\"node\">\n",
       "<title>1</title>\n",
       "<polygon fill=\"lightyellow\" stroke=\"none\" points=\"324.88,-2427 214.12,-2427 214.12,-2391.5 324.88,-2391.5 324.88,-2427\"/>\n",
       "<polygon fill=\"none\" stroke=\"black\" points=\"214.12,-2391.5 214.12,-2427 283.38,-2427 283.38,-2391.5 214.12,-2391.5\"/>\n",
       "<text text-anchor=\"start\" x=\"219.12\" y=\"-2412.5\" font-family=\"Linux libertine\" font-size=\"10.00\">input&#45;tensor</text>\n",
       "<text text-anchor=\"start\" x=\"230.38\" y=\"-2399.75\" font-family=\"Linux libertine\" font-size=\"10.00\">depth:0</text>\n",
       "<polygon fill=\"none\" stroke=\"black\" points=\"283.38,-2391.5 283.38,-2427 324.88,-2427 324.88,-2391.5 283.38,-2391.5\"/>\n",
       "<text text-anchor=\"start\" x=\"288.38\" y=\"-2406.12\" font-family=\"Linux libertine\" font-size=\"10.00\">(5, 44)</text>\n",
       "</g>\n",
       "<!-- 4 -->\n",
       "<g id=\"node5\" class=\"node\">\n",
       "<title>4</title>\n",
       "<polygon fill=\"#c1ffc1\" stroke=\"none\" points=\"356,-2355.5 183,-2355.5 183,-2311.5 356,-2311.5 356,-2355.5\"/>\n",
       "<polygon fill=\"none\" stroke=\"black\" points=\"183,-2311.5 183,-2355.5 247,-2355.5 247,-2311.5 183,-2311.5\"/>\n",
       "<text text-anchor=\"start\" x=\"187.62\" y=\"-2336.75\" font-family=\"Linux libertine\" font-size=\"10.00\">Embedding</text>\n",
       "<text text-anchor=\"start\" x=\"196.62\" y=\"-2324\" font-family=\"Linux libertine\" font-size=\"10.00\">depth:1</text>\n",
       "<polygon fill=\"none\" stroke=\"black\" points=\"247,-2333.5 247,-2355.5 294,-2355.5 294,-2333.5 247,-2333.5\"/>\n",
       "<text text-anchor=\"start\" x=\"256.62\" y=\"-2341\" font-family=\"Linux libertine\" font-size=\"10.00\">input:</text>\n",
       "<polygon fill=\"none\" stroke=\"black\" points=\"294,-2333.5 294,-2355.5 356,-2355.5 356,-2333.5 294,-2333.5\"/>\n",
       "<text text-anchor=\"start\" x=\"307.75\" y=\"-2341\" font-family=\"Linux libertine\" font-size=\"10.00\">(5, 44) </text>\n",
       "<polygon fill=\"none\" stroke=\"black\" points=\"247,-2311.5 247,-2333.5 294,-2333.5 294,-2311.5 247,-2311.5\"/>\n",
       "<text text-anchor=\"start\" x=\"251.75\" y=\"-2319\" font-family=\"Linux libertine\" font-size=\"10.00\">output: </text>\n",
       "<polygon fill=\"none\" stroke=\"black\" points=\"294,-2311.5 294,-2333.5 356,-2333.5 356,-2311.5 294,-2311.5\"/>\n",
       "<text text-anchor=\"start\" x=\"298.75\" y=\"-2319\" font-family=\"Linux libertine\" font-size=\"10.00\">(5, 44, 64) </text>\n",
       "</g>\n",
       "<!-- 1&#45;&gt;4 -->\n",
       "<g id=\"edge2\" class=\"edge\">\n",
       "<title>1&#45;&gt;4</title>\n",
       "<path fill=\"none\" stroke=\"black\" d=\"M269.5,-2391.51C269.5,-2384.07 269.5,-2375.04 269.5,-2366.39\"/>\n",
       "<polygon fill=\"black\" stroke=\"black\" points=\"273,-2366.39 269.5,-2356.39 266,-2366.39 273,-2366.39\"/>\n",
       "</g>\n",
       "<!-- 3 -->\n",
       "<g id=\"node4\" class=\"node\">\n",
       "<title>3</title>\n",
       "<polygon fill=\"aliceblue\" stroke=\"none\" points=\"163,-2275.5 8,-2275.5 8,-2231.5 163,-2231.5 163,-2275.5\"/>\n",
       "<polygon fill=\"none\" stroke=\"black\" points=\"8,-2231.5 8,-2275.5 54,-2275.5 54,-2231.5 8,-2231.5\"/>\n",
       "<text text-anchor=\"start\" x=\"15.25\" y=\"-2256.75\" font-family=\"Linux libertine\" font-size=\"10.00\">repeat</text>\n",
       "<text text-anchor=\"start\" x=\"12.62\" y=\"-2244\" font-family=\"Linux libertine\" font-size=\"10.00\">depth:1</text>\n",
       "<polygon fill=\"none\" stroke=\"black\" points=\"54,-2253.5 54,-2275.5 101,-2275.5 101,-2253.5 54,-2253.5\"/>\n",
       "<text text-anchor=\"start\" x=\"63.62\" y=\"-2261\" font-family=\"Linux libertine\" font-size=\"10.00\">input:</text>\n",
       "<polygon fill=\"none\" stroke=\"black\" points=\"101,-2253.5 101,-2275.5 163,-2275.5 163,-2253.5 101,-2253.5\"/>\n",
       "<text text-anchor=\"start\" x=\"108.75\" y=\"-2261\" font-family=\"Linux libertine\" font-size=\"10.00\">(5, 1, 64) </text>\n",
       "<polygon fill=\"none\" stroke=\"black\" points=\"54,-2231.5 54,-2253.5 101,-2253.5 101,-2231.5 54,-2231.5\"/>\n",
       "<text text-anchor=\"start\" x=\"58.75\" y=\"-2239\" font-family=\"Linux libertine\" font-size=\"10.00\">output: </text>\n",
       "<polygon fill=\"none\" stroke=\"black\" points=\"101,-2231.5 101,-2253.5 163,-2253.5 163,-2231.5 101,-2231.5\"/>\n",
       "<text text-anchor=\"start\" x=\"105.75\" y=\"-2239\" font-family=\"Linux libertine\" font-size=\"10.00\">(5, 44, 64) </text>\n",
       "</g>\n",
       "<!-- 2&#45;&gt;3 -->\n",
       "<g id=\"edge3\" class=\"edge\">\n",
       "<title>2&#45;&gt;3</title>\n",
       "<path fill=\"none\" stroke=\"black\" d=\"M83.3,-2311.6C83.6,-2303.82 83.95,-2294.8 84.28,-2286.26\"/>\n",
       "<polygon fill=\"black\" stroke=\"black\" points=\"87.81,-2286.59 84.69,-2276.46 80.81,-2286.32 87.81,-2286.59\"/>\n",
       "</g>\n",
       "<!-- 6 -->\n",
       "<g id=\"node7\" class=\"node\">\n",
       "<title>6</title>\n",
       "<polygon fill=\"aliceblue\" stroke=\"none\" points=\"274,-2195.5 77,-2195.5 77,-2151.5 274,-2151.5 274,-2195.5\"/>\n",
       "<polygon fill=\"none\" stroke=\"black\" points=\"77,-2151.5 77,-2195.5 147,-2195.5 147,-2151.5 77,-2151.5\"/>\n",
       "<text text-anchor=\"start\" x=\"82\" y=\"-2176.75\" font-family=\"Linux libertine\" font-size=\"10.00\">concatenate</text>\n",
       "<text text-anchor=\"start\" x=\"93.62\" y=\"-2164\" font-family=\"Linux libertine\" font-size=\"10.00\">depth:1</text>\n",
       "<polygon fill=\"none\" stroke=\"black\" points=\"147,-2173.5 147,-2195.5 194,-2195.5 194,-2173.5 147,-2173.5\"/>\n",
       "<text text-anchor=\"start\" x=\"156.62\" y=\"-2181\" font-family=\"Linux libertine\" font-size=\"10.00\">input:</text>\n",
       "<polygon fill=\"none\" stroke=\"black\" points=\"194,-2173.5 194,-2195.5 274,-2195.5 274,-2173.5 194,-2173.5\"/>\n",
       "<text text-anchor=\"start\" x=\"198.75\" y=\"-2181\" font-family=\"Linux libertine\" font-size=\"10.00\">2 x (5, 44, 64) </text>\n",
       "<polygon fill=\"none\" stroke=\"black\" points=\"147,-2151.5 147,-2173.5 194,-2173.5 194,-2151.5 147,-2151.5\"/>\n",
       "<text text-anchor=\"start\" x=\"151.75\" y=\"-2159\" font-family=\"Linux libertine\" font-size=\"10.00\">output: </text>\n",
       "<polygon fill=\"none\" stroke=\"black\" points=\"194,-2151.5 194,-2173.5 274,-2173.5 274,-2151.5 194,-2151.5\"/>\n",
       "<text text-anchor=\"start\" x=\"204.75\" y=\"-2159\" font-family=\"Linux libertine\" font-size=\"10.00\">(5, 44, 128) </text>\n",
       "</g>\n",
       "<!-- 3&#45;&gt;6 -->\n",
       "<g id=\"edge4\" class=\"edge\">\n",
       "<title>3&#45;&gt;6</title>\n",
       "<path fill=\"none\" stroke=\"black\" d=\"M109.62,-2231.6C119.91,-2222.68 132.07,-2212.14 143.13,-2202.56\"/>\n",
       "<polygon fill=\"black\" stroke=\"black\" points=\"145.05,-2204.65 150.32,-2195.46 140.47,-2199.36 145.05,-2204.65\"/>\n",
       "</g>\n",
       "<!-- 5 -->\n",
       "<g id=\"node6\" class=\"node\">\n",
       "<title>5</title>\n",
       "<polygon fill=\"#c1ffc1\" stroke=\"none\" points=\"352.5,-2275.5 182.5,-2275.5 182.5,-2231.5 352.5,-2231.5 352.5,-2275.5\"/>\n",
       "<polygon fill=\"none\" stroke=\"black\" points=\"182.5,-2231.5 182.5,-2275.5 243.5,-2275.5 243.5,-2231.5 182.5,-2231.5\"/>\n",
       "<text text-anchor=\"start\" x=\"187.5\" y=\"-2256.75\" font-family=\"Linux libertine\" font-size=\"10.00\">Dropout1d</text>\n",
       "<text text-anchor=\"start\" x=\"194.62\" y=\"-2244\" font-family=\"Linux libertine\" font-size=\"10.00\">depth:1</text>\n",
       "<polygon fill=\"none\" stroke=\"black\" points=\"243.5,-2253.5 243.5,-2275.5 290.5,-2275.5 290.5,-2253.5 243.5,-2253.5\"/>\n",
       "<text text-anchor=\"start\" x=\"253.12\" y=\"-2261\" font-family=\"Linux libertine\" font-size=\"10.00\">input:</text>\n",
       "<polygon fill=\"none\" stroke=\"black\" points=\"290.5,-2253.5 290.5,-2275.5 352.5,-2275.5 352.5,-2253.5 290.5,-2253.5\"/>\n",
       "<text text-anchor=\"start\" x=\"295.25\" y=\"-2261\" font-family=\"Linux libertine\" font-size=\"10.00\">(5, 44, 64) </text>\n",
       "<polygon fill=\"none\" stroke=\"black\" points=\"243.5,-2231.5 243.5,-2253.5 290.5,-2253.5 290.5,-2231.5 243.5,-2231.5\"/>\n",
       "<text text-anchor=\"start\" x=\"248.25\" y=\"-2239\" font-family=\"Linux libertine\" font-size=\"10.00\">output: </text>\n",
       "<polygon fill=\"none\" stroke=\"black\" points=\"290.5,-2231.5 290.5,-2253.5 352.5,-2253.5 352.5,-2231.5 290.5,-2231.5\"/>\n",
       "<text text-anchor=\"start\" x=\"295.25\" y=\"-2239\" font-family=\"Linux libertine\" font-size=\"10.00\">(5, 44, 64) </text>\n",
       "</g>\n",
       "<!-- 4&#45;&gt;5 -->\n",
       "<g id=\"edge5\" class=\"edge\">\n",
       "<title>4&#45;&gt;5</title>\n",
       "<path fill=\"none\" stroke=\"black\" d=\"M268.96,-2311.6C268.76,-2303.82 268.53,-2294.8 268.31,-2286.26\"/>\n",
       "<polygon fill=\"black\" stroke=\"black\" points=\"271.79,-2286.37 268.04,-2276.46 264.8,-2286.55 271.79,-2286.37\"/>\n",
       "</g>\n",
       "<!-- 5&#45;&gt;6 -->\n",
       "<g id=\"edge6\" class=\"edge\">\n",
       "<title>5&#45;&gt;6</title>\n",
       "<path fill=\"none\" stroke=\"black\" d=\"M242.85,-2231.6C232.33,-2222.68 219.89,-2212.14 208.59,-2202.56\"/>\n",
       "<polygon fill=\"black\" stroke=\"black\" points=\"211.11,-2199.26 201.22,-2195.46 206.59,-2204.6 211.11,-2199.26\"/>\n",
       "</g>\n",
       "<!-- 7 -->\n",
       "<g id=\"node8\" class=\"node\">\n",
       "<title>7</title>\n",
       "<polygon fill=\"#c1ffc1\" stroke=\"none\" points=\"256,-2115.5 95,-2115.5 95,-2071.5 256,-2071.5 256,-2115.5\"/>\n",
       "<polygon fill=\"none\" stroke=\"black\" points=\"95,-2071.5 95,-2115.5 141,-2115.5 141,-2071.5 95,-2071.5\"/>\n",
       "<text text-anchor=\"start\" x=\"103\" y=\"-2096.75\" font-family=\"Linux libertine\" font-size=\"10.00\">Linear</text>\n",
       "<text text-anchor=\"start\" x=\"99.62\" y=\"-2084\" font-family=\"Linux libertine\" font-size=\"10.00\">depth:1</text>\n",
       "<polygon fill=\"none\" stroke=\"black\" points=\"141,-2093.5 141,-2115.5 188,-2115.5 188,-2093.5 141,-2093.5\"/>\n",
       "<text text-anchor=\"start\" x=\"150.62\" y=\"-2101\" font-family=\"Linux libertine\" font-size=\"10.00\">input:</text>\n",
       "<polygon fill=\"none\" stroke=\"black\" points=\"188,-2093.5 188,-2115.5 256,-2115.5 256,-2093.5 188,-2093.5\"/>\n",
       "<text text-anchor=\"start\" x=\"192.75\" y=\"-2101\" font-family=\"Linux libertine\" font-size=\"10.00\">(5, 44, 128) </text>\n",
       "<polygon fill=\"none\" stroke=\"black\" points=\"141,-2071.5 141,-2093.5 188,-2093.5 188,-2071.5 141,-2071.5\"/>\n",
       "<text text-anchor=\"start\" x=\"145.75\" y=\"-2079\" font-family=\"Linux libertine\" font-size=\"10.00\">output: </text>\n",
       "<polygon fill=\"none\" stroke=\"black\" points=\"188,-2071.5 188,-2093.5 256,-2093.5 256,-2071.5 188,-2071.5\"/>\n",
       "<text text-anchor=\"start\" x=\"195.75\" y=\"-2079\" font-family=\"Linux libertine\" font-size=\"10.00\">(5, 44, 64) </text>\n",
       "</g>\n",
       "<!-- 6&#45;&gt;7 -->\n",
       "<g id=\"edge7\" class=\"edge\">\n",
       "<title>6&#45;&gt;7</title>\n",
       "<path fill=\"none\" stroke=\"black\" d=\"M175.5,-2151.6C175.5,-2143.82 175.5,-2134.8 175.5,-2126.26\"/>\n",
       "<polygon fill=\"black\" stroke=\"black\" points=\"179,-2126.46 175.5,-2116.46 172,-2126.46 179,-2126.46\"/>\n",
       "</g>\n",
       "<!-- 8 -->\n",
       "<g id=\"node9\" class=\"node\">\n",
       "<title>8</title>\n",
       "<polygon fill=\"#c1ffc1\" stroke=\"none\" points=\"332,-2035.5 159,-2035.5 159,-1991.5 332,-1991.5 332,-2035.5\"/>\n",
       "<polygon fill=\"none\" stroke=\"black\" points=\"159,-1991.5 159,-2035.5 223,-2035.5 223,-1991.5 159,-1991.5\"/>\n",
       "<text text-anchor=\"start\" x=\"164\" y=\"-2016.75\" font-family=\"Linux libertine\" font-size=\"10.00\">LayerNorm</text>\n",
       "<text text-anchor=\"start\" x=\"172.62\" y=\"-2004\" font-family=\"Linux libertine\" font-size=\"10.00\">depth:3</text>\n",
       "<polygon fill=\"none\" stroke=\"black\" points=\"223,-2013.5 223,-2035.5 270,-2035.5 270,-2013.5 223,-2013.5\"/>\n",
       "<text text-anchor=\"start\" x=\"232.62\" y=\"-2021\" font-family=\"Linux libertine\" font-size=\"10.00\">input:</text>\n",
       "<polygon fill=\"none\" stroke=\"black\" points=\"270,-2013.5 270,-2035.5 332,-2035.5 332,-2013.5 270,-2013.5\"/>\n",
       "<text text-anchor=\"start\" x=\"274.75\" y=\"-2021\" font-family=\"Linux libertine\" font-size=\"10.00\">(5, 44, 64) </text>\n",
       "<polygon fill=\"none\" stroke=\"black\" points=\"223,-1991.5 223,-2013.5 270,-2013.5 270,-1991.5 223,-1991.5\"/>\n",
       "<text text-anchor=\"start\" x=\"227.75\" y=\"-1999\" font-family=\"Linux libertine\" font-size=\"10.00\">output: </text>\n",
       "<polygon fill=\"none\" stroke=\"black\" points=\"270,-1991.5 270,-2013.5 332,-2013.5 332,-1991.5 270,-1991.5\"/>\n",
       "<text text-anchor=\"start\" x=\"274.75\" y=\"-1999\" font-family=\"Linux libertine\" font-size=\"10.00\">(5, 44, 64) </text>\n",
       "</g>\n",
       "<!-- 7&#45;&gt;8 -->\n",
       "<g id=\"edge8\" class=\"edge\">\n",
       "<title>7&#45;&gt;8</title>\n",
       "<path fill=\"none\" stroke=\"black\" d=\"M194.26,-2071.6C202.03,-2062.94 211.17,-2052.76 219.56,-2043.41\"/>\n",
       "<polygon fill=\"black\" stroke=\"black\" points=\"221.62,-2046.24 225.69,-2036.46 216.41,-2041.57 221.62,-2046.24\"/>\n",
       "</g>\n",
       "<!-- 10 -->\n",
       "<g id=\"node11\" class=\"node\">\n",
       "<title>10</title>\n",
       "<polygon fill=\"aliceblue\" stroke=\"none\" points=\"275,-1875.5 102,-1875.5 102,-1831.5 275,-1831.5 275,-1875.5\"/>\n",
       "<polygon fill=\"none\" stroke=\"black\" points=\"102,-1831.5 102,-1875.5 148,-1875.5 148,-1831.5 102,-1831.5\"/>\n",
       "<text text-anchor=\"start\" x=\"116\" y=\"-1856.75\" font-family=\"Linux libertine\" font-size=\"10.00\">add</text>\n",
       "<text text-anchor=\"start\" x=\"106.62\" y=\"-1844\" font-family=\"Linux libertine\" font-size=\"10.00\">depth:3</text>\n",
       "<polygon fill=\"none\" stroke=\"black\" points=\"148,-1853.5 148,-1875.5 195,-1875.5 195,-1853.5 148,-1853.5\"/>\n",
       "<text text-anchor=\"start\" x=\"157.62\" y=\"-1861\" font-family=\"Linux libertine\" font-size=\"10.00\">input:</text>\n",
       "<polygon fill=\"none\" stroke=\"black\" points=\"195,-1853.5 195,-1875.5 275,-1875.5 275,-1853.5 195,-1853.5\"/>\n",
       "<text text-anchor=\"start\" x=\"199.75\" y=\"-1861\" font-family=\"Linux libertine\" font-size=\"10.00\">2 x (5, 44, 64) </text>\n",
       "<polygon fill=\"none\" stroke=\"black\" points=\"148,-1831.5 148,-1853.5 195,-1853.5 195,-1831.5 148,-1831.5\"/>\n",
       "<text text-anchor=\"start\" x=\"152.75\" y=\"-1839\" font-family=\"Linux libertine\" font-size=\"10.00\">output: </text>\n",
       "<polygon fill=\"none\" stroke=\"black\" points=\"195,-1831.5 195,-1853.5 275,-1853.5 275,-1831.5 195,-1831.5\"/>\n",
       "<text text-anchor=\"start\" x=\"208.75\" y=\"-1839\" font-family=\"Linux libertine\" font-size=\"10.00\">(5, 44, 64) </text>\n",
       "</g>\n",
       "<!-- 7&#45;&gt;10 -->\n",
       "<g id=\"edge9\" class=\"edge\">\n",
       "<title>7&#45;&gt;10</title>\n",
       "<path fill=\"none\" stroke=\"black\" d=\"M163.61,-2071.54C145.74,-2037.18 116.24,-1967.14 137.5,-1911.5 141.45,-1901.17 148.22,-1891.54 155.56,-1883.23\"/>\n",
       "<polygon fill=\"black\" stroke=\"black\" points=\"157.66,-1886.05 162.01,-1876.39 152.59,-1881.23 157.66,-1886.05\"/>\n",
       "</g>\n",
       "<!-- 9 -->\n",
       "<g id=\"node10\" class=\"node\">\n",
       "<title>9</title>\n",
       "<polygon fill=\"#c1ffc1\" stroke=\"none\" points=\"370,-1955.5 147,-1955.5 147,-1911.5 370,-1911.5 370,-1955.5\"/>\n",
       "<polygon fill=\"none\" stroke=\"black\" points=\"147,-1911.5 147,-1955.5 193,-1955.5 193,-1911.5 147,-1911.5\"/>\n",
       "<text text-anchor=\"start\" x=\"156.88\" y=\"-1936.75\" font-family=\"Linux libertine\" font-size=\"10.00\">LSTM</text>\n",
       "<text text-anchor=\"start\" x=\"151.62\" y=\"-1924\" font-family=\"Linux libertine\" font-size=\"10.00\">depth:3</text>\n",
       "<polygon fill=\"none\" stroke=\"black\" points=\"193,-1933.5 193,-1955.5 240,-1955.5 240,-1933.5 193,-1933.5\"/>\n",
       "<text text-anchor=\"start\" x=\"202.62\" y=\"-1941\" font-family=\"Linux libertine\" font-size=\"10.00\">input:</text>\n",
       "<polygon fill=\"none\" stroke=\"black\" points=\"240,-1933.5 240,-1955.5 370,-1955.5 370,-1933.5 240,-1933.5\"/>\n",
       "<text text-anchor=\"start\" x=\"278.75\" y=\"-1941\" font-family=\"Linux libertine\" font-size=\"10.00\">(5, 44, 64) </text>\n",
       "<polygon fill=\"none\" stroke=\"black\" points=\"193,-1911.5 193,-1933.5 240,-1933.5 240,-1911.5 193,-1911.5\"/>\n",
       "<text text-anchor=\"start\" x=\"197.75\" y=\"-1919\" font-family=\"Linux libertine\" font-size=\"10.00\">output: </text>\n",
       "<polygon fill=\"none\" stroke=\"black\" points=\"240,-1911.5 240,-1933.5 370,-1933.5 370,-1911.5 240,-1911.5\"/>\n",
       "<text text-anchor=\"start\" x=\"245\" y=\"-1919\" font-family=\"Linux libertine\" font-size=\"10.00\">(5, 44, 64), 2 x (1, 5, 64) </text>\n",
       "</g>\n",
       "<!-- 8&#45;&gt;9 -->\n",
       "<g id=\"edge10\" class=\"edge\">\n",
       "<title>8&#45;&gt;9</title>\n",
       "<path fill=\"none\" stroke=\"black\" d=\"M248.98,-1991.6C250.28,-1983.82 251.78,-1974.8 253.21,-1966.26\"/>\n",
       "<polygon fill=\"black\" stroke=\"black\" points=\"256.81,-1966.9 255.01,-1956.46 249.91,-1965.75 256.81,-1966.9\"/>\n",
       "</g>\n",
       "<!-- 9&#45;&gt;10 -->\n",
       "<g id=\"edge11\" class=\"edge\">\n",
       "<title>9&#45;&gt;10</title>\n",
       "<path fill=\"none\" stroke=\"black\" d=\"M239.74,-1911.6C231.97,-1902.94 222.83,-1892.76 214.44,-1883.41\"/>\n",
       "<polygon fill=\"black\" stroke=\"black\" points=\"217.59,-1881.57 208.31,-1876.46 212.38,-1886.24 217.59,-1881.57\"/>\n",
       "</g>\n",
       "<!-- 11 -->\n",
       "<g id=\"node12\" class=\"node\">\n",
       "<title>11</title>\n",
       "<polygon fill=\"#c1ffc1\" stroke=\"none\" points=\"345,-1795.5 172,-1795.5 172,-1751.5 345,-1751.5 345,-1795.5\"/>\n",
       "<polygon fill=\"none\" stroke=\"black\" points=\"172,-1751.5 172,-1795.5 236,-1795.5 236,-1751.5 172,-1751.5\"/>\n",
       "<text text-anchor=\"start\" x=\"177\" y=\"-1776.75\" font-family=\"Linux libertine\" font-size=\"10.00\">LayerNorm</text>\n",
       "<text text-anchor=\"start\" x=\"185.62\" y=\"-1764\" font-family=\"Linux libertine\" font-size=\"10.00\">depth:3</text>\n",
       "<polygon fill=\"none\" stroke=\"black\" points=\"236,-1773.5 236,-1795.5 283,-1795.5 283,-1773.5 236,-1773.5\"/>\n",
       "<text text-anchor=\"start\" x=\"245.62\" y=\"-1781\" font-family=\"Linux libertine\" font-size=\"10.00\">input:</text>\n",
       "<polygon fill=\"none\" stroke=\"black\" points=\"283,-1773.5 283,-1795.5 345,-1795.5 345,-1773.5 283,-1773.5\"/>\n",
       "<text text-anchor=\"start\" x=\"287.75\" y=\"-1781\" font-family=\"Linux libertine\" font-size=\"10.00\">(5, 44, 64) </text>\n",
       "<polygon fill=\"none\" stroke=\"black\" points=\"236,-1751.5 236,-1773.5 283,-1773.5 283,-1751.5 236,-1751.5\"/>\n",
       "<text text-anchor=\"start\" x=\"240.75\" y=\"-1759\" font-family=\"Linux libertine\" font-size=\"10.00\">output: </text>\n",
       "<polygon fill=\"none\" stroke=\"black\" points=\"283,-1751.5 283,-1773.5 345,-1773.5 345,-1751.5 283,-1751.5\"/>\n",
       "<text text-anchor=\"start\" x=\"287.75\" y=\"-1759\" font-family=\"Linux libertine\" font-size=\"10.00\">(5, 44, 64) </text>\n",
       "</g>\n",
       "<!-- 10&#45;&gt;11 -->\n",
       "<g id=\"edge12\" class=\"edge\">\n",
       "<title>10&#45;&gt;11</title>\n",
       "<path fill=\"none\" stroke=\"black\" d=\"M207.26,-1831.6C215.03,-1822.94 224.17,-1812.76 232.56,-1803.41\"/>\n",
       "<polygon fill=\"black\" stroke=\"black\" points=\"234.62,-1806.24 238.69,-1796.46 229.41,-1801.57 234.62,-1806.24\"/>\n",
       "</g>\n",
       "<!-- 13 -->\n",
       "<g id=\"node14\" class=\"node\">\n",
       "<title>13</title>\n",
       "<polygon fill=\"aliceblue\" stroke=\"none\" points=\"288,-1635.5 115,-1635.5 115,-1591.5 288,-1591.5 288,-1635.5\"/>\n",
       "<polygon fill=\"none\" stroke=\"black\" points=\"115,-1591.5 115,-1635.5 161,-1635.5 161,-1591.5 115,-1591.5\"/>\n",
       "<text text-anchor=\"start\" x=\"129\" y=\"-1616.75\" font-family=\"Linux libertine\" font-size=\"10.00\">add</text>\n",
       "<text text-anchor=\"start\" x=\"119.62\" y=\"-1604\" font-family=\"Linux libertine\" font-size=\"10.00\">depth:3</text>\n",
       "<polygon fill=\"none\" stroke=\"black\" points=\"161,-1613.5 161,-1635.5 208,-1635.5 208,-1613.5 161,-1613.5\"/>\n",
       "<text text-anchor=\"start\" x=\"170.62\" y=\"-1621\" font-family=\"Linux libertine\" font-size=\"10.00\">input:</text>\n",
       "<polygon fill=\"none\" stroke=\"black\" points=\"208,-1613.5 208,-1635.5 288,-1635.5 288,-1613.5 208,-1613.5\"/>\n",
       "<text text-anchor=\"start\" x=\"212.75\" y=\"-1621\" font-family=\"Linux libertine\" font-size=\"10.00\">2 x (5, 44, 64) </text>\n",
       "<polygon fill=\"none\" stroke=\"black\" points=\"161,-1591.5 161,-1613.5 208,-1613.5 208,-1591.5 161,-1591.5\"/>\n",
       "<text text-anchor=\"start\" x=\"165.75\" y=\"-1599\" font-family=\"Linux libertine\" font-size=\"10.00\">output: </text>\n",
       "<polygon fill=\"none\" stroke=\"black\" points=\"208,-1591.5 208,-1613.5 288,-1613.5 288,-1591.5 208,-1591.5\"/>\n",
       "<text text-anchor=\"start\" x=\"221.75\" y=\"-1599\" font-family=\"Linux libertine\" font-size=\"10.00\">(5, 44, 64) </text>\n",
       "</g>\n",
       "<!-- 10&#45;&gt;13 -->\n",
       "<g id=\"edge13\" class=\"edge\">\n",
       "<title>10&#45;&gt;13</title>\n",
       "<path fill=\"none\" stroke=\"black\" d=\"M176.61,-1831.54C158.74,-1797.18 129.24,-1727.14 150.5,-1671.5 154.45,-1661.17 161.22,-1651.54 168.56,-1643.23\"/>\n",
       "<polygon fill=\"black\" stroke=\"black\" points=\"170.66,-1646.05 175.01,-1636.39 165.59,-1641.23 170.66,-1646.05\"/>\n",
       "</g>\n",
       "<!-- 12 -->\n",
       "<g id=\"node13\" class=\"node\">\n",
       "<title>12</title>\n",
       "<polygon fill=\"#c1ffc1\" stroke=\"none\" points=\"383,-1715.5 160,-1715.5 160,-1671.5 383,-1671.5 383,-1715.5\"/>\n",
       "<polygon fill=\"none\" stroke=\"black\" points=\"160,-1671.5 160,-1715.5 206,-1715.5 206,-1671.5 160,-1671.5\"/>\n",
       "<text text-anchor=\"start\" x=\"169.88\" y=\"-1696.75\" font-family=\"Linux libertine\" font-size=\"10.00\">LSTM</text>\n",
       "<text text-anchor=\"start\" x=\"164.62\" y=\"-1684\" font-family=\"Linux libertine\" font-size=\"10.00\">depth:3</text>\n",
       "<polygon fill=\"none\" stroke=\"black\" points=\"206,-1693.5 206,-1715.5 253,-1715.5 253,-1693.5 206,-1693.5\"/>\n",
       "<text text-anchor=\"start\" x=\"215.62\" y=\"-1701\" font-family=\"Linux libertine\" font-size=\"10.00\">input:</text>\n",
       "<polygon fill=\"none\" stroke=\"black\" points=\"253,-1693.5 253,-1715.5 383,-1715.5 383,-1693.5 253,-1693.5\"/>\n",
       "<text text-anchor=\"start\" x=\"291.75\" y=\"-1701\" font-family=\"Linux libertine\" font-size=\"10.00\">(5, 44, 64) </text>\n",
       "<polygon fill=\"none\" stroke=\"black\" points=\"206,-1671.5 206,-1693.5 253,-1693.5 253,-1671.5 206,-1671.5\"/>\n",
       "<text text-anchor=\"start\" x=\"210.75\" y=\"-1679\" font-family=\"Linux libertine\" font-size=\"10.00\">output: </text>\n",
       "<polygon fill=\"none\" stroke=\"black\" points=\"253,-1671.5 253,-1693.5 383,-1693.5 383,-1671.5 253,-1671.5\"/>\n",
       "<text text-anchor=\"start\" x=\"258\" y=\"-1679\" font-family=\"Linux libertine\" font-size=\"10.00\">(5, 44, 64), 2 x (1, 5, 64) </text>\n",
       "</g>\n",
       "<!-- 11&#45;&gt;12 -->\n",
       "<g id=\"edge14\" class=\"edge\">\n",
       "<title>11&#45;&gt;12</title>\n",
       "<path fill=\"none\" stroke=\"black\" d=\"M261.98,-1751.6C263.28,-1743.82 264.78,-1734.8 266.21,-1726.26\"/>\n",
       "<polygon fill=\"black\" stroke=\"black\" points=\"269.81,-1726.9 268.01,-1716.46 262.91,-1725.75 269.81,-1726.9\"/>\n",
       "</g>\n",
       "<!-- 12&#45;&gt;13 -->\n",
       "<g id=\"edge15\" class=\"edge\">\n",
       "<title>12&#45;&gt;13</title>\n",
       "<path fill=\"none\" stroke=\"black\" d=\"M252.74,-1671.6C244.97,-1662.94 235.83,-1652.76 227.44,-1643.41\"/>\n",
       "<polygon fill=\"black\" stroke=\"black\" points=\"230.59,-1641.57 221.31,-1636.46 225.38,-1646.24 230.59,-1641.57\"/>\n",
       "</g>\n",
       "<!-- 14 -->\n",
       "<g id=\"node15\" class=\"node\">\n",
       "<title>14</title>\n",
       "<polygon fill=\"#c1ffc1\" stroke=\"none\" points=\"358,-1555.5 185,-1555.5 185,-1511.5 358,-1511.5 358,-1555.5\"/>\n",
       "<polygon fill=\"none\" stroke=\"black\" points=\"185,-1511.5 185,-1555.5 249,-1555.5 249,-1511.5 185,-1511.5\"/>\n",
       "<text text-anchor=\"start\" x=\"190\" y=\"-1536.75\" font-family=\"Linux libertine\" font-size=\"10.00\">LayerNorm</text>\n",
       "<text text-anchor=\"start\" x=\"198.62\" y=\"-1524\" font-family=\"Linux libertine\" font-size=\"10.00\">depth:3</text>\n",
       "<polygon fill=\"none\" stroke=\"black\" points=\"249,-1533.5 249,-1555.5 296,-1555.5 296,-1533.5 249,-1533.5\"/>\n",
       "<text text-anchor=\"start\" x=\"258.62\" y=\"-1541\" font-family=\"Linux libertine\" font-size=\"10.00\">input:</text>\n",
       "<polygon fill=\"none\" stroke=\"black\" points=\"296,-1533.5 296,-1555.5 358,-1555.5 358,-1533.5 296,-1533.5\"/>\n",
       "<text text-anchor=\"start\" x=\"300.75\" y=\"-1541\" font-family=\"Linux libertine\" font-size=\"10.00\">(5, 44, 64) </text>\n",
       "<polygon fill=\"none\" stroke=\"black\" points=\"249,-1511.5 249,-1533.5 296,-1533.5 296,-1511.5 249,-1511.5\"/>\n",
       "<text text-anchor=\"start\" x=\"253.75\" y=\"-1519\" font-family=\"Linux libertine\" font-size=\"10.00\">output: </text>\n",
       "<polygon fill=\"none\" stroke=\"black\" points=\"296,-1511.5 296,-1533.5 358,-1533.5 358,-1511.5 296,-1511.5\"/>\n",
       "<text text-anchor=\"start\" x=\"300.75\" y=\"-1519\" font-family=\"Linux libertine\" font-size=\"10.00\">(5, 44, 64) </text>\n",
       "</g>\n",
       "<!-- 13&#45;&gt;14 -->\n",
       "<g id=\"edge16\" class=\"edge\">\n",
       "<title>13&#45;&gt;14</title>\n",
       "<path fill=\"none\" stroke=\"black\" d=\"M220.26,-1591.6C228.03,-1582.94 237.17,-1572.76 245.56,-1563.41\"/>\n",
       "<polygon fill=\"black\" stroke=\"black\" points=\"247.62,-1566.24 251.69,-1556.46 242.41,-1561.57 247.62,-1566.24\"/>\n",
       "</g>\n",
       "<!-- 16 -->\n",
       "<g id=\"node17\" class=\"node\">\n",
       "<title>16</title>\n",
       "<polygon fill=\"aliceblue\" stroke=\"none\" points=\"301,-1395.5 128,-1395.5 128,-1351.5 301,-1351.5 301,-1395.5\"/>\n",
       "<polygon fill=\"none\" stroke=\"black\" points=\"128,-1351.5 128,-1395.5 174,-1395.5 174,-1351.5 128,-1351.5\"/>\n",
       "<text text-anchor=\"start\" x=\"142\" y=\"-1376.75\" font-family=\"Linux libertine\" font-size=\"10.00\">add</text>\n",
       "<text text-anchor=\"start\" x=\"132.62\" y=\"-1364\" font-family=\"Linux libertine\" font-size=\"10.00\">depth:3</text>\n",
       "<polygon fill=\"none\" stroke=\"black\" points=\"174,-1373.5 174,-1395.5 221,-1395.5 221,-1373.5 174,-1373.5\"/>\n",
       "<text text-anchor=\"start\" x=\"183.62\" y=\"-1381\" font-family=\"Linux libertine\" font-size=\"10.00\">input:</text>\n",
       "<polygon fill=\"none\" stroke=\"black\" points=\"221,-1373.5 221,-1395.5 301,-1395.5 301,-1373.5 221,-1373.5\"/>\n",
       "<text text-anchor=\"start\" x=\"225.75\" y=\"-1381\" font-family=\"Linux libertine\" font-size=\"10.00\">2 x (5, 44, 64) </text>\n",
       "<polygon fill=\"none\" stroke=\"black\" points=\"174,-1351.5 174,-1373.5 221,-1373.5 221,-1351.5 174,-1351.5\"/>\n",
       "<text text-anchor=\"start\" x=\"178.75\" y=\"-1359\" font-family=\"Linux libertine\" font-size=\"10.00\">output: </text>\n",
       "<polygon fill=\"none\" stroke=\"black\" points=\"221,-1351.5 221,-1373.5 301,-1373.5 301,-1351.5 221,-1351.5\"/>\n",
       "<text text-anchor=\"start\" x=\"234.75\" y=\"-1359\" font-family=\"Linux libertine\" font-size=\"10.00\">(5, 44, 64) </text>\n",
       "</g>\n",
       "<!-- 13&#45;&gt;16 -->\n",
       "<g id=\"edge17\" class=\"edge\">\n",
       "<title>13&#45;&gt;16</title>\n",
       "<path fill=\"none\" stroke=\"black\" d=\"M189.61,-1591.54C171.74,-1557.18 142.24,-1487.14 163.5,-1431.5 167.45,-1421.17 174.22,-1411.54 181.56,-1403.23\"/>\n",
       "<polygon fill=\"black\" stroke=\"black\" points=\"183.66,-1406.05 188.01,-1396.39 178.59,-1401.23 183.66,-1406.05\"/>\n",
       "</g>\n",
       "<!-- 15 -->\n",
       "<g id=\"node16\" class=\"node\">\n",
       "<title>15</title>\n",
       "<polygon fill=\"#c1ffc1\" stroke=\"none\" points=\"396,-1475.5 173,-1475.5 173,-1431.5 396,-1431.5 396,-1475.5\"/>\n",
       "<polygon fill=\"none\" stroke=\"black\" points=\"173,-1431.5 173,-1475.5 219,-1475.5 219,-1431.5 173,-1431.5\"/>\n",
       "<text text-anchor=\"start\" x=\"182.88\" y=\"-1456.75\" font-family=\"Linux libertine\" font-size=\"10.00\">LSTM</text>\n",
       "<text text-anchor=\"start\" x=\"177.62\" y=\"-1444\" font-family=\"Linux libertine\" font-size=\"10.00\">depth:3</text>\n",
       "<polygon fill=\"none\" stroke=\"black\" points=\"219,-1453.5 219,-1475.5 266,-1475.5 266,-1453.5 219,-1453.5\"/>\n",
       "<text text-anchor=\"start\" x=\"228.62\" y=\"-1461\" font-family=\"Linux libertine\" font-size=\"10.00\">input:</text>\n",
       "<polygon fill=\"none\" stroke=\"black\" points=\"266,-1453.5 266,-1475.5 396,-1475.5 396,-1453.5 266,-1453.5\"/>\n",
       "<text text-anchor=\"start\" x=\"304.75\" y=\"-1461\" font-family=\"Linux libertine\" font-size=\"10.00\">(5, 44, 64) </text>\n",
       "<polygon fill=\"none\" stroke=\"black\" points=\"219,-1431.5 219,-1453.5 266,-1453.5 266,-1431.5 219,-1431.5\"/>\n",
       "<text text-anchor=\"start\" x=\"223.75\" y=\"-1439\" font-family=\"Linux libertine\" font-size=\"10.00\">output: </text>\n",
       "<polygon fill=\"none\" stroke=\"black\" points=\"266,-1431.5 266,-1453.5 396,-1453.5 396,-1431.5 266,-1431.5\"/>\n",
       "<text text-anchor=\"start\" x=\"271\" y=\"-1439\" font-family=\"Linux libertine\" font-size=\"10.00\">(5, 44, 64), 2 x (1, 5, 64) </text>\n",
       "</g>\n",
       "<!-- 14&#45;&gt;15 -->\n",
       "<g id=\"edge18\" class=\"edge\">\n",
       "<title>14&#45;&gt;15</title>\n",
       "<path fill=\"none\" stroke=\"black\" d=\"M274.98,-1511.6C276.28,-1503.82 277.78,-1494.8 279.21,-1486.26\"/>\n",
       "<polygon fill=\"black\" stroke=\"black\" points=\"282.81,-1486.9 281.01,-1476.46 275.91,-1485.75 282.81,-1486.9\"/>\n",
       "</g>\n",
       "<!-- 15&#45;&gt;16 -->\n",
       "<g id=\"edge19\" class=\"edge\">\n",
       "<title>15&#45;&gt;16</title>\n",
       "<path fill=\"none\" stroke=\"black\" d=\"M265.74,-1431.6C257.97,-1422.94 248.83,-1412.76 240.44,-1403.41\"/>\n",
       "<polygon fill=\"black\" stroke=\"black\" points=\"243.59,-1401.57 234.31,-1396.46 238.38,-1406.24 243.59,-1401.57\"/>\n",
       "</g>\n",
       "<!-- 17 -->\n",
       "<g id=\"node18\" class=\"node\">\n",
       "<title>17</title>\n",
       "<polygon fill=\"#c1ffc1\" stroke=\"none\" points=\"371,-1315.5 198,-1315.5 198,-1271.5 371,-1271.5 371,-1315.5\"/>\n",
       "<polygon fill=\"none\" stroke=\"black\" points=\"198,-1271.5 198,-1315.5 262,-1315.5 262,-1271.5 198,-1271.5\"/>\n",
       "<text text-anchor=\"start\" x=\"203\" y=\"-1296.75\" font-family=\"Linux libertine\" font-size=\"10.00\">LayerNorm</text>\n",
       "<text text-anchor=\"start\" x=\"211.62\" y=\"-1284\" font-family=\"Linux libertine\" font-size=\"10.00\">depth:3</text>\n",
       "<polygon fill=\"none\" stroke=\"black\" points=\"262,-1293.5 262,-1315.5 309,-1315.5 309,-1293.5 262,-1293.5\"/>\n",
       "<text text-anchor=\"start\" x=\"271.62\" y=\"-1301\" font-family=\"Linux libertine\" font-size=\"10.00\">input:</text>\n",
       "<polygon fill=\"none\" stroke=\"black\" points=\"309,-1293.5 309,-1315.5 371,-1315.5 371,-1293.5 309,-1293.5\"/>\n",
       "<text text-anchor=\"start\" x=\"313.75\" y=\"-1301\" font-family=\"Linux libertine\" font-size=\"10.00\">(5, 44, 64) </text>\n",
       "<polygon fill=\"none\" stroke=\"black\" points=\"262,-1271.5 262,-1293.5 309,-1293.5 309,-1271.5 262,-1271.5\"/>\n",
       "<text text-anchor=\"start\" x=\"266.75\" y=\"-1279\" font-family=\"Linux libertine\" font-size=\"10.00\">output: </text>\n",
       "<polygon fill=\"none\" stroke=\"black\" points=\"309,-1271.5 309,-1293.5 371,-1293.5 371,-1271.5 309,-1271.5\"/>\n",
       "<text text-anchor=\"start\" x=\"313.75\" y=\"-1279\" font-family=\"Linux libertine\" font-size=\"10.00\">(5, 44, 64) </text>\n",
       "</g>\n",
       "<!-- 16&#45;&gt;17 -->\n",
       "<g id=\"edge20\" class=\"edge\">\n",
       "<title>16&#45;&gt;17</title>\n",
       "<path fill=\"none\" stroke=\"black\" d=\"M233.26,-1351.6C241.03,-1342.94 250.17,-1332.76 258.56,-1323.41\"/>\n",
       "<polygon fill=\"black\" stroke=\"black\" points=\"260.62,-1326.24 264.69,-1316.46 255.41,-1321.57 260.62,-1326.24\"/>\n",
       "</g>\n",
       "<!-- 19 -->\n",
       "<g id=\"node20\" class=\"node\">\n",
       "<title>19</title>\n",
       "<polygon fill=\"aliceblue\" stroke=\"none\" points=\"314,-1155.5 141,-1155.5 141,-1111.5 314,-1111.5 314,-1155.5\"/>\n",
       "<polygon fill=\"none\" stroke=\"black\" points=\"141,-1111.5 141,-1155.5 187,-1155.5 187,-1111.5 141,-1111.5\"/>\n",
       "<text text-anchor=\"start\" x=\"155\" y=\"-1136.75\" font-family=\"Linux libertine\" font-size=\"10.00\">add</text>\n",
       "<text text-anchor=\"start\" x=\"145.62\" y=\"-1124\" font-family=\"Linux libertine\" font-size=\"10.00\">depth:3</text>\n",
       "<polygon fill=\"none\" stroke=\"black\" points=\"187,-1133.5 187,-1155.5 234,-1155.5 234,-1133.5 187,-1133.5\"/>\n",
       "<text text-anchor=\"start\" x=\"196.62\" y=\"-1141\" font-family=\"Linux libertine\" font-size=\"10.00\">input:</text>\n",
       "<polygon fill=\"none\" stroke=\"black\" points=\"234,-1133.5 234,-1155.5 314,-1155.5 314,-1133.5 234,-1133.5\"/>\n",
       "<text text-anchor=\"start\" x=\"238.75\" y=\"-1141\" font-family=\"Linux libertine\" font-size=\"10.00\">2 x (5, 44, 64) </text>\n",
       "<polygon fill=\"none\" stroke=\"black\" points=\"187,-1111.5 187,-1133.5 234,-1133.5 234,-1111.5 187,-1111.5\"/>\n",
       "<text text-anchor=\"start\" x=\"191.75\" y=\"-1119\" font-family=\"Linux libertine\" font-size=\"10.00\">output: </text>\n",
       "<polygon fill=\"none\" stroke=\"black\" points=\"234,-1111.5 234,-1133.5 314,-1133.5 314,-1111.5 234,-1111.5\"/>\n",
       "<text text-anchor=\"start\" x=\"247.75\" y=\"-1119\" font-family=\"Linux libertine\" font-size=\"10.00\">(5, 44, 64) </text>\n",
       "</g>\n",
       "<!-- 16&#45;&gt;19 -->\n",
       "<g id=\"edge21\" class=\"edge\">\n",
       "<title>16&#45;&gt;19</title>\n",
       "<path fill=\"none\" stroke=\"black\" d=\"M202.61,-1351.54C184.74,-1317.18 155.24,-1247.14 176.5,-1191.5 180.45,-1181.17 187.22,-1171.54 194.56,-1163.23\"/>\n",
       "<polygon fill=\"black\" stroke=\"black\" points=\"196.66,-1166.05 201.01,-1156.39 191.59,-1161.23 196.66,-1166.05\"/>\n",
       "</g>\n",
       "<!-- 18 -->\n",
       "<g id=\"node19\" class=\"node\">\n",
       "<title>18</title>\n",
       "<polygon fill=\"#c1ffc1\" stroke=\"none\" points=\"409,-1235.5 186,-1235.5 186,-1191.5 409,-1191.5 409,-1235.5\"/>\n",
       "<polygon fill=\"none\" stroke=\"black\" points=\"186,-1191.5 186,-1235.5 232,-1235.5 232,-1191.5 186,-1191.5\"/>\n",
       "<text text-anchor=\"start\" x=\"195.88\" y=\"-1216.75\" font-family=\"Linux libertine\" font-size=\"10.00\">LSTM</text>\n",
       "<text text-anchor=\"start\" x=\"190.62\" y=\"-1204\" font-family=\"Linux libertine\" font-size=\"10.00\">depth:3</text>\n",
       "<polygon fill=\"none\" stroke=\"black\" points=\"232,-1213.5 232,-1235.5 279,-1235.5 279,-1213.5 232,-1213.5\"/>\n",
       "<text text-anchor=\"start\" x=\"241.62\" y=\"-1221\" font-family=\"Linux libertine\" font-size=\"10.00\">input:</text>\n",
       "<polygon fill=\"none\" stroke=\"black\" points=\"279,-1213.5 279,-1235.5 409,-1235.5 409,-1213.5 279,-1213.5\"/>\n",
       "<text text-anchor=\"start\" x=\"317.75\" y=\"-1221\" font-family=\"Linux libertine\" font-size=\"10.00\">(5, 44, 64) </text>\n",
       "<polygon fill=\"none\" stroke=\"black\" points=\"232,-1191.5 232,-1213.5 279,-1213.5 279,-1191.5 232,-1191.5\"/>\n",
       "<text text-anchor=\"start\" x=\"236.75\" y=\"-1199\" font-family=\"Linux libertine\" font-size=\"10.00\">output: </text>\n",
       "<polygon fill=\"none\" stroke=\"black\" points=\"279,-1191.5 279,-1213.5 409,-1213.5 409,-1191.5 279,-1191.5\"/>\n",
       "<text text-anchor=\"start\" x=\"284\" y=\"-1199\" font-family=\"Linux libertine\" font-size=\"10.00\">(5, 44, 64), 2 x (1, 5, 64) </text>\n",
       "</g>\n",
       "<!-- 17&#45;&gt;18 -->\n",
       "<g id=\"edge22\" class=\"edge\">\n",
       "<title>17&#45;&gt;18</title>\n",
       "<path fill=\"none\" stroke=\"black\" d=\"M287.98,-1271.6C289.28,-1263.82 290.78,-1254.8 292.21,-1246.26\"/>\n",
       "<polygon fill=\"black\" stroke=\"black\" points=\"295.81,-1246.9 294.01,-1236.46 288.91,-1245.75 295.81,-1246.9\"/>\n",
       "</g>\n",
       "<!-- 18&#45;&gt;19 -->\n",
       "<g id=\"edge23\" class=\"edge\">\n",
       "<title>18&#45;&gt;19</title>\n",
       "<path fill=\"none\" stroke=\"black\" d=\"M278.74,-1191.6C270.97,-1182.94 261.83,-1172.76 253.44,-1163.41\"/>\n",
       "<polygon fill=\"black\" stroke=\"black\" points=\"256.59,-1161.57 247.31,-1156.46 251.38,-1166.24 256.59,-1161.57\"/>\n",
       "</g>\n",
       "<!-- 20 -->\n",
       "<g id=\"node21\" class=\"node\">\n",
       "<title>20</title>\n",
       "<polygon fill=\"#c1ffc1\" stroke=\"none\" points=\"384,-1075.5 211,-1075.5 211,-1031.5 384,-1031.5 384,-1075.5\"/>\n",
       "<polygon fill=\"none\" stroke=\"black\" points=\"211,-1031.5 211,-1075.5 275,-1075.5 275,-1031.5 211,-1031.5\"/>\n",
       "<text text-anchor=\"start\" x=\"216\" y=\"-1056.75\" font-family=\"Linux libertine\" font-size=\"10.00\">LayerNorm</text>\n",
       "<text text-anchor=\"start\" x=\"224.62\" y=\"-1044\" font-family=\"Linux libertine\" font-size=\"10.00\">depth:3</text>\n",
       "<polygon fill=\"none\" stroke=\"black\" points=\"275,-1053.5 275,-1075.5 322,-1075.5 322,-1053.5 275,-1053.5\"/>\n",
       "<text text-anchor=\"start\" x=\"284.62\" y=\"-1061\" font-family=\"Linux libertine\" font-size=\"10.00\">input:</text>\n",
       "<polygon fill=\"none\" stroke=\"black\" points=\"322,-1053.5 322,-1075.5 384,-1075.5 384,-1053.5 322,-1053.5\"/>\n",
       "<text text-anchor=\"start\" x=\"326.75\" y=\"-1061\" font-family=\"Linux libertine\" font-size=\"10.00\">(5, 44, 64) </text>\n",
       "<polygon fill=\"none\" stroke=\"black\" points=\"275,-1031.5 275,-1053.5 322,-1053.5 322,-1031.5 275,-1031.5\"/>\n",
       "<text text-anchor=\"start\" x=\"279.75\" y=\"-1039\" font-family=\"Linux libertine\" font-size=\"10.00\">output: </text>\n",
       "<polygon fill=\"none\" stroke=\"black\" points=\"322,-1031.5 322,-1053.5 384,-1053.5 384,-1031.5 322,-1031.5\"/>\n",
       "<text text-anchor=\"start\" x=\"326.75\" y=\"-1039\" font-family=\"Linux libertine\" font-size=\"10.00\">(5, 44, 64) </text>\n",
       "</g>\n",
       "<!-- 19&#45;&gt;20 -->\n",
       "<g id=\"edge24\" class=\"edge\">\n",
       "<title>19&#45;&gt;20</title>\n",
       "<path fill=\"none\" stroke=\"black\" d=\"M246.26,-1111.6C254.03,-1102.94 263.17,-1092.76 271.56,-1083.41\"/>\n",
       "<polygon fill=\"black\" stroke=\"black\" points=\"273.62,-1086.24 277.69,-1076.46 268.41,-1081.57 273.62,-1086.24\"/>\n",
       "</g>\n",
       "<!-- 22 -->\n",
       "<g id=\"node23\" class=\"node\">\n",
       "<title>22</title>\n",
       "<polygon fill=\"aliceblue\" stroke=\"none\" points=\"327,-915.5 154,-915.5 154,-871.5 327,-871.5 327,-915.5\"/>\n",
       "<polygon fill=\"none\" stroke=\"black\" points=\"154,-871.5 154,-915.5 200,-915.5 200,-871.5 154,-871.5\"/>\n",
       "<text text-anchor=\"start\" x=\"168\" y=\"-896.75\" font-family=\"Linux libertine\" font-size=\"10.00\">add</text>\n",
       "<text text-anchor=\"start\" x=\"158.62\" y=\"-884\" font-family=\"Linux libertine\" font-size=\"10.00\">depth:3</text>\n",
       "<polygon fill=\"none\" stroke=\"black\" points=\"200,-893.5 200,-915.5 247,-915.5 247,-893.5 200,-893.5\"/>\n",
       "<text text-anchor=\"start\" x=\"209.62\" y=\"-901\" font-family=\"Linux libertine\" font-size=\"10.00\">input:</text>\n",
       "<polygon fill=\"none\" stroke=\"black\" points=\"247,-893.5 247,-915.5 327,-915.5 327,-893.5 247,-893.5\"/>\n",
       "<text text-anchor=\"start\" x=\"251.75\" y=\"-901\" font-family=\"Linux libertine\" font-size=\"10.00\">2 x (5, 44, 64) </text>\n",
       "<polygon fill=\"none\" stroke=\"black\" points=\"200,-871.5 200,-893.5 247,-893.5 247,-871.5 200,-871.5\"/>\n",
       "<text text-anchor=\"start\" x=\"204.75\" y=\"-879\" font-family=\"Linux libertine\" font-size=\"10.00\">output: </text>\n",
       "<polygon fill=\"none\" stroke=\"black\" points=\"247,-871.5 247,-893.5 327,-893.5 327,-871.5 247,-871.5\"/>\n",
       "<text text-anchor=\"start\" x=\"260.75\" y=\"-879\" font-family=\"Linux libertine\" font-size=\"10.00\">(5, 44, 64) </text>\n",
       "</g>\n",
       "<!-- 19&#45;&gt;22 -->\n",
       "<g id=\"edge25\" class=\"edge\">\n",
       "<title>19&#45;&gt;22</title>\n",
       "<path fill=\"none\" stroke=\"black\" d=\"M215.61,-1111.54C197.74,-1077.18 168.24,-1007.14 189.5,-951.5 193.45,-941.17 200.22,-931.54 207.56,-923.23\"/>\n",
       "<polygon fill=\"black\" stroke=\"black\" points=\"209.66,-926.05 214.01,-916.39 204.59,-921.23 209.66,-926.05\"/>\n",
       "</g>\n",
       "<!-- 21 -->\n",
       "<g id=\"node22\" class=\"node\">\n",
       "<title>21</title>\n",
       "<polygon fill=\"#c1ffc1\" stroke=\"none\" points=\"422,-995.5 199,-995.5 199,-951.5 422,-951.5 422,-995.5\"/>\n",
       "<polygon fill=\"none\" stroke=\"black\" points=\"199,-951.5 199,-995.5 245,-995.5 245,-951.5 199,-951.5\"/>\n",
       "<text text-anchor=\"start\" x=\"208.88\" y=\"-976.75\" font-family=\"Linux libertine\" font-size=\"10.00\">LSTM</text>\n",
       "<text text-anchor=\"start\" x=\"203.62\" y=\"-964\" font-family=\"Linux libertine\" font-size=\"10.00\">depth:3</text>\n",
       "<polygon fill=\"none\" stroke=\"black\" points=\"245,-973.5 245,-995.5 292,-995.5 292,-973.5 245,-973.5\"/>\n",
       "<text text-anchor=\"start\" x=\"254.62\" y=\"-981\" font-family=\"Linux libertine\" font-size=\"10.00\">input:</text>\n",
       "<polygon fill=\"none\" stroke=\"black\" points=\"292,-973.5 292,-995.5 422,-995.5 422,-973.5 292,-973.5\"/>\n",
       "<text text-anchor=\"start\" x=\"330.75\" y=\"-981\" font-family=\"Linux libertine\" font-size=\"10.00\">(5, 44, 64) </text>\n",
       "<polygon fill=\"none\" stroke=\"black\" points=\"245,-951.5 245,-973.5 292,-973.5 292,-951.5 245,-951.5\"/>\n",
       "<text text-anchor=\"start\" x=\"249.75\" y=\"-959\" font-family=\"Linux libertine\" font-size=\"10.00\">output: </text>\n",
       "<polygon fill=\"none\" stroke=\"black\" points=\"292,-951.5 292,-973.5 422,-973.5 422,-951.5 292,-951.5\"/>\n",
       "<text text-anchor=\"start\" x=\"297\" y=\"-959\" font-family=\"Linux libertine\" font-size=\"10.00\">(5, 44, 64), 2 x (1, 5, 64) </text>\n",
       "</g>\n",
       "<!-- 20&#45;&gt;21 -->\n",
       "<g id=\"edge26\" class=\"edge\">\n",
       "<title>20&#45;&gt;21</title>\n",
       "<path fill=\"none\" stroke=\"black\" d=\"M300.98,-1031.6C302.28,-1023.82 303.78,-1014.8 305.21,-1006.26\"/>\n",
       "<polygon fill=\"black\" stroke=\"black\" points=\"308.81,-1006.9 307.01,-996.46 301.91,-1005.75 308.81,-1006.9\"/>\n",
       "</g>\n",
       "<!-- 21&#45;&gt;22 -->\n",
       "<g id=\"edge27\" class=\"edge\">\n",
       "<title>21&#45;&gt;22</title>\n",
       "<path fill=\"none\" stroke=\"black\" d=\"M291.74,-951.6C283.97,-942.94 274.83,-932.76 266.44,-923.41\"/>\n",
       "<polygon fill=\"black\" stroke=\"black\" points=\"269.59,-921.57 260.31,-916.46 264.38,-926.24 269.59,-921.57\"/>\n",
       "</g>\n",
       "<!-- 23 -->\n",
       "<g id=\"node24\" class=\"node\">\n",
       "<title>23</title>\n",
       "<polygon fill=\"#c1ffc1\" stroke=\"none\" points=\"397,-835.5 224,-835.5 224,-791.5 397,-791.5 397,-835.5\"/>\n",
       "<polygon fill=\"none\" stroke=\"black\" points=\"224,-791.5 224,-835.5 288,-835.5 288,-791.5 224,-791.5\"/>\n",
       "<text text-anchor=\"start\" x=\"229\" y=\"-816.75\" font-family=\"Linux libertine\" font-size=\"10.00\">LayerNorm</text>\n",
       "<text text-anchor=\"start\" x=\"237.62\" y=\"-804\" font-family=\"Linux libertine\" font-size=\"10.00\">depth:3</text>\n",
       "<polygon fill=\"none\" stroke=\"black\" points=\"288,-813.5 288,-835.5 335,-835.5 335,-813.5 288,-813.5\"/>\n",
       "<text text-anchor=\"start\" x=\"297.62\" y=\"-821\" font-family=\"Linux libertine\" font-size=\"10.00\">input:</text>\n",
       "<polygon fill=\"none\" stroke=\"black\" points=\"335,-813.5 335,-835.5 397,-835.5 397,-813.5 335,-813.5\"/>\n",
       "<text text-anchor=\"start\" x=\"339.75\" y=\"-821\" font-family=\"Linux libertine\" font-size=\"10.00\">(5, 44, 64) </text>\n",
       "<polygon fill=\"none\" stroke=\"black\" points=\"288,-791.5 288,-813.5 335,-813.5 335,-791.5 288,-791.5\"/>\n",
       "<text text-anchor=\"start\" x=\"292.75\" y=\"-799\" font-family=\"Linux libertine\" font-size=\"10.00\">output: </text>\n",
       "<polygon fill=\"none\" stroke=\"black\" points=\"335,-791.5 335,-813.5 397,-813.5 397,-791.5 335,-791.5\"/>\n",
       "<text text-anchor=\"start\" x=\"339.75\" y=\"-799\" font-family=\"Linux libertine\" font-size=\"10.00\">(5, 44, 64) </text>\n",
       "</g>\n",
       "<!-- 22&#45;&gt;23 -->\n",
       "<g id=\"edge28\" class=\"edge\">\n",
       "<title>22&#45;&gt;23</title>\n",
       "<path fill=\"none\" stroke=\"black\" d=\"M259.26,-871.6C267.03,-862.94 276.17,-852.76 284.56,-843.41\"/>\n",
       "<polygon fill=\"black\" stroke=\"black\" points=\"286.62,-846.24 290.69,-836.46 281.41,-841.57 286.62,-846.24\"/>\n",
       "</g>\n",
       "<!-- 25 -->\n",
       "<g id=\"node26\" class=\"node\">\n",
       "<title>25</title>\n",
       "<polygon fill=\"aliceblue\" stroke=\"none\" points=\"340,-675.5 167,-675.5 167,-631.5 340,-631.5 340,-675.5\"/>\n",
       "<polygon fill=\"none\" stroke=\"black\" points=\"167,-631.5 167,-675.5 213,-675.5 213,-631.5 167,-631.5\"/>\n",
       "<text text-anchor=\"start\" x=\"181\" y=\"-656.75\" font-family=\"Linux libertine\" font-size=\"10.00\">add</text>\n",
       "<text text-anchor=\"start\" x=\"171.62\" y=\"-644\" font-family=\"Linux libertine\" font-size=\"10.00\">depth:3</text>\n",
       "<polygon fill=\"none\" stroke=\"black\" points=\"213,-653.5 213,-675.5 260,-675.5 260,-653.5 213,-653.5\"/>\n",
       "<text text-anchor=\"start\" x=\"222.62\" y=\"-661\" font-family=\"Linux libertine\" font-size=\"10.00\">input:</text>\n",
       "<polygon fill=\"none\" stroke=\"black\" points=\"260,-653.5 260,-675.5 340,-675.5 340,-653.5 260,-653.5\"/>\n",
       "<text text-anchor=\"start\" x=\"264.75\" y=\"-661\" font-family=\"Linux libertine\" font-size=\"10.00\">2 x (5, 44, 64) </text>\n",
       "<polygon fill=\"none\" stroke=\"black\" points=\"213,-631.5 213,-653.5 260,-653.5 260,-631.5 213,-631.5\"/>\n",
       "<text text-anchor=\"start\" x=\"217.75\" y=\"-639\" font-family=\"Linux libertine\" font-size=\"10.00\">output: </text>\n",
       "<polygon fill=\"none\" stroke=\"black\" points=\"260,-631.5 260,-653.5 340,-653.5 340,-631.5 260,-631.5\"/>\n",
       "<text text-anchor=\"start\" x=\"273.75\" y=\"-639\" font-family=\"Linux libertine\" font-size=\"10.00\">(5, 44, 64) </text>\n",
       "</g>\n",
       "<!-- 22&#45;&gt;25 -->\n",
       "<g id=\"edge29\" class=\"edge\">\n",
       "<title>22&#45;&gt;25</title>\n",
       "<path fill=\"none\" stroke=\"black\" d=\"M228.61,-871.54C210.74,-837.18 181.24,-767.14 202.5,-711.5 206.45,-701.17 213.22,-691.54 220.56,-683.23\"/>\n",
       "<polygon fill=\"black\" stroke=\"black\" points=\"222.66,-686.05 227.01,-676.39 217.59,-681.23 222.66,-686.05\"/>\n",
       "</g>\n",
       "<!-- 24 -->\n",
       "<g id=\"node25\" class=\"node\">\n",
       "<title>24</title>\n",
       "<polygon fill=\"#c1ffc1\" stroke=\"none\" points=\"435,-755.5 212,-755.5 212,-711.5 435,-711.5 435,-755.5\"/>\n",
       "<polygon fill=\"none\" stroke=\"black\" points=\"212,-711.5 212,-755.5 258,-755.5 258,-711.5 212,-711.5\"/>\n",
       "<text text-anchor=\"start\" x=\"221.88\" y=\"-736.75\" font-family=\"Linux libertine\" font-size=\"10.00\">LSTM</text>\n",
       "<text text-anchor=\"start\" x=\"216.62\" y=\"-724\" font-family=\"Linux libertine\" font-size=\"10.00\">depth:3</text>\n",
       "<polygon fill=\"none\" stroke=\"black\" points=\"258,-733.5 258,-755.5 305,-755.5 305,-733.5 258,-733.5\"/>\n",
       "<text text-anchor=\"start\" x=\"267.62\" y=\"-741\" font-family=\"Linux libertine\" font-size=\"10.00\">input:</text>\n",
       "<polygon fill=\"none\" stroke=\"black\" points=\"305,-733.5 305,-755.5 435,-755.5 435,-733.5 305,-733.5\"/>\n",
       "<text text-anchor=\"start\" x=\"343.75\" y=\"-741\" font-family=\"Linux libertine\" font-size=\"10.00\">(5, 44, 64) </text>\n",
       "<polygon fill=\"none\" stroke=\"black\" points=\"258,-711.5 258,-733.5 305,-733.5 305,-711.5 258,-711.5\"/>\n",
       "<text text-anchor=\"start\" x=\"262.75\" y=\"-719\" font-family=\"Linux libertine\" font-size=\"10.00\">output: </text>\n",
       "<polygon fill=\"none\" stroke=\"black\" points=\"305,-711.5 305,-733.5 435,-733.5 435,-711.5 305,-711.5\"/>\n",
       "<text text-anchor=\"start\" x=\"310\" y=\"-719\" font-family=\"Linux libertine\" font-size=\"10.00\">(5, 44, 64), 2 x (1, 5, 64) </text>\n",
       "</g>\n",
       "<!-- 23&#45;&gt;24 -->\n",
       "<g id=\"edge30\" class=\"edge\">\n",
       "<title>23&#45;&gt;24</title>\n",
       "<path fill=\"none\" stroke=\"black\" d=\"M313.98,-791.6C315.28,-783.82 316.78,-774.8 318.21,-766.26\"/>\n",
       "<polygon fill=\"black\" stroke=\"black\" points=\"321.81,-766.9 320.01,-756.46 314.91,-765.75 321.81,-766.9\"/>\n",
       "</g>\n",
       "<!-- 24&#45;&gt;25 -->\n",
       "<g id=\"edge31\" class=\"edge\">\n",
       "<title>24&#45;&gt;25</title>\n",
       "<path fill=\"none\" stroke=\"black\" d=\"M304.74,-711.6C296.97,-702.94 287.83,-692.76 279.44,-683.41\"/>\n",
       "<polygon fill=\"black\" stroke=\"black\" points=\"282.59,-681.57 273.31,-676.46 277.38,-686.24 282.59,-681.57\"/>\n",
       "</g>\n",
       "<!-- 26 -->\n",
       "<g id=\"node27\" class=\"node\">\n",
       "<title>26</title>\n",
       "<polygon fill=\"#c1ffc1\" stroke=\"none\" points=\"410,-595.5 237,-595.5 237,-551.5 410,-551.5 410,-595.5\"/>\n",
       "<polygon fill=\"none\" stroke=\"black\" points=\"237,-551.5 237,-595.5 301,-595.5 301,-551.5 237,-551.5\"/>\n",
       "<text text-anchor=\"start\" x=\"242\" y=\"-576.75\" font-family=\"Linux libertine\" font-size=\"10.00\">LayerNorm</text>\n",
       "<text text-anchor=\"start\" x=\"250.62\" y=\"-564\" font-family=\"Linux libertine\" font-size=\"10.00\">depth:3</text>\n",
       "<polygon fill=\"none\" stroke=\"black\" points=\"301,-573.5 301,-595.5 348,-595.5 348,-573.5 301,-573.5\"/>\n",
       "<text text-anchor=\"start\" x=\"310.62\" y=\"-581\" font-family=\"Linux libertine\" font-size=\"10.00\">input:</text>\n",
       "<polygon fill=\"none\" stroke=\"black\" points=\"348,-573.5 348,-595.5 410,-595.5 410,-573.5 348,-573.5\"/>\n",
       "<text text-anchor=\"start\" x=\"352.75\" y=\"-581\" font-family=\"Linux libertine\" font-size=\"10.00\">(5, 44, 64) </text>\n",
       "<polygon fill=\"none\" stroke=\"black\" points=\"301,-551.5 301,-573.5 348,-573.5 348,-551.5 301,-551.5\"/>\n",
       "<text text-anchor=\"start\" x=\"305.75\" y=\"-559\" font-family=\"Linux libertine\" font-size=\"10.00\">output: </text>\n",
       "<polygon fill=\"none\" stroke=\"black\" points=\"348,-551.5 348,-573.5 410,-573.5 410,-551.5 348,-551.5\"/>\n",
       "<text text-anchor=\"start\" x=\"352.75\" y=\"-559\" font-family=\"Linux libertine\" font-size=\"10.00\">(5, 44, 64) </text>\n",
       "</g>\n",
       "<!-- 25&#45;&gt;26 -->\n",
       "<g id=\"edge32\" class=\"edge\">\n",
       "<title>25&#45;&gt;26</title>\n",
       "<path fill=\"none\" stroke=\"black\" d=\"M272.26,-631.6C280.03,-622.94 289.17,-612.76 297.56,-603.41\"/>\n",
       "<polygon fill=\"black\" stroke=\"black\" points=\"299.62,-606.24 303.69,-596.46 294.41,-601.57 299.62,-606.24\"/>\n",
       "</g>\n",
       "<!-- 28 -->\n",
       "<g id=\"node29\" class=\"node\">\n",
       "<title>28</title>\n",
       "<polygon fill=\"aliceblue\" stroke=\"none\" points=\"353,-435.5 180,-435.5 180,-391.5 353,-391.5 353,-435.5\"/>\n",
       "<polygon fill=\"none\" stroke=\"black\" points=\"180,-391.5 180,-435.5 226,-435.5 226,-391.5 180,-391.5\"/>\n",
       "<text text-anchor=\"start\" x=\"194\" y=\"-416.75\" font-family=\"Linux libertine\" font-size=\"10.00\">add</text>\n",
       "<text text-anchor=\"start\" x=\"184.62\" y=\"-404\" font-family=\"Linux libertine\" font-size=\"10.00\">depth:3</text>\n",
       "<polygon fill=\"none\" stroke=\"black\" points=\"226,-413.5 226,-435.5 273,-435.5 273,-413.5 226,-413.5\"/>\n",
       "<text text-anchor=\"start\" x=\"235.62\" y=\"-421\" font-family=\"Linux libertine\" font-size=\"10.00\">input:</text>\n",
       "<polygon fill=\"none\" stroke=\"black\" points=\"273,-413.5 273,-435.5 353,-435.5 353,-413.5 273,-413.5\"/>\n",
       "<text text-anchor=\"start\" x=\"277.75\" y=\"-421\" font-family=\"Linux libertine\" font-size=\"10.00\">2 x (5, 44, 64) </text>\n",
       "<polygon fill=\"none\" stroke=\"black\" points=\"226,-391.5 226,-413.5 273,-413.5 273,-391.5 226,-391.5\"/>\n",
       "<text text-anchor=\"start\" x=\"230.75\" y=\"-399\" font-family=\"Linux libertine\" font-size=\"10.00\">output: </text>\n",
       "<polygon fill=\"none\" stroke=\"black\" points=\"273,-391.5 273,-413.5 353,-413.5 353,-391.5 273,-391.5\"/>\n",
       "<text text-anchor=\"start\" x=\"286.75\" y=\"-399\" font-family=\"Linux libertine\" font-size=\"10.00\">(5, 44, 64) </text>\n",
       "</g>\n",
       "<!-- 25&#45;&gt;28 -->\n",
       "<g id=\"edge33\" class=\"edge\">\n",
       "<title>25&#45;&gt;28</title>\n",
       "<path fill=\"none\" stroke=\"black\" d=\"M241.61,-631.54C223.74,-597.18 194.24,-527.14 215.5,-471.5 219.45,-461.17 226.22,-451.54 233.56,-443.23\"/>\n",
       "<polygon fill=\"black\" stroke=\"black\" points=\"235.66,-446.05 240.01,-436.39 230.59,-441.23 235.66,-446.05\"/>\n",
       "</g>\n",
       "<!-- 27 -->\n",
       "<g id=\"node28\" class=\"node\">\n",
       "<title>27</title>\n",
       "<polygon fill=\"#c1ffc1\" stroke=\"none\" points=\"448,-515.5 225,-515.5 225,-471.5 448,-471.5 448,-515.5\"/>\n",
       "<polygon fill=\"none\" stroke=\"black\" points=\"225,-471.5 225,-515.5 271,-515.5 271,-471.5 225,-471.5\"/>\n",
       "<text text-anchor=\"start\" x=\"234.88\" y=\"-496.75\" font-family=\"Linux libertine\" font-size=\"10.00\">LSTM</text>\n",
       "<text text-anchor=\"start\" x=\"229.62\" y=\"-484\" font-family=\"Linux libertine\" font-size=\"10.00\">depth:3</text>\n",
       "<polygon fill=\"none\" stroke=\"black\" points=\"271,-493.5 271,-515.5 318,-515.5 318,-493.5 271,-493.5\"/>\n",
       "<text text-anchor=\"start\" x=\"280.62\" y=\"-501\" font-family=\"Linux libertine\" font-size=\"10.00\">input:</text>\n",
       "<polygon fill=\"none\" stroke=\"black\" points=\"318,-493.5 318,-515.5 448,-515.5 448,-493.5 318,-493.5\"/>\n",
       "<text text-anchor=\"start\" x=\"356.75\" y=\"-501\" font-family=\"Linux libertine\" font-size=\"10.00\">(5, 44, 64) </text>\n",
       "<polygon fill=\"none\" stroke=\"black\" points=\"271,-471.5 271,-493.5 318,-493.5 318,-471.5 271,-471.5\"/>\n",
       "<text text-anchor=\"start\" x=\"275.75\" y=\"-479\" font-family=\"Linux libertine\" font-size=\"10.00\">output: </text>\n",
       "<polygon fill=\"none\" stroke=\"black\" points=\"318,-471.5 318,-493.5 448,-493.5 448,-471.5 318,-471.5\"/>\n",
       "<text text-anchor=\"start\" x=\"323\" y=\"-479\" font-family=\"Linux libertine\" font-size=\"10.00\">(5, 44, 64), 2 x (1, 5, 64) </text>\n",
       "</g>\n",
       "<!-- 26&#45;&gt;27 -->\n",
       "<g id=\"edge34\" class=\"edge\">\n",
       "<title>26&#45;&gt;27</title>\n",
       "<path fill=\"none\" stroke=\"black\" d=\"M326.98,-551.6C328.28,-543.82 329.78,-534.8 331.21,-526.26\"/>\n",
       "<polygon fill=\"black\" stroke=\"black\" points=\"334.81,-526.9 333.01,-516.46 327.91,-525.75 334.81,-526.9\"/>\n",
       "</g>\n",
       "<!-- 27&#45;&gt;28 -->\n",
       "<g id=\"edge35\" class=\"edge\">\n",
       "<title>27&#45;&gt;28</title>\n",
       "<path fill=\"none\" stroke=\"black\" d=\"M317.74,-471.6C309.97,-462.94 300.83,-452.76 292.44,-443.41\"/>\n",
       "<polygon fill=\"black\" stroke=\"black\" points=\"295.59,-441.57 286.31,-436.46 290.38,-446.24 295.59,-441.57\"/>\n",
       "</g>\n",
       "<!-- 29 -->\n",
       "<g id=\"node30\" class=\"node\">\n",
       "<title>29</title>\n",
       "<polygon fill=\"#c1ffc1\" stroke=\"none\" points=\"423,-355.5 250,-355.5 250,-311.5 423,-311.5 423,-355.5\"/>\n",
       "<polygon fill=\"none\" stroke=\"black\" points=\"250,-311.5 250,-355.5 314,-355.5 314,-311.5 250,-311.5\"/>\n",
       "<text text-anchor=\"start\" x=\"255\" y=\"-336.75\" font-family=\"Linux libertine\" font-size=\"10.00\">LayerNorm</text>\n",
       "<text text-anchor=\"start\" x=\"263.62\" y=\"-324\" font-family=\"Linux libertine\" font-size=\"10.00\">depth:3</text>\n",
       "<polygon fill=\"none\" stroke=\"black\" points=\"314,-333.5 314,-355.5 361,-355.5 361,-333.5 314,-333.5\"/>\n",
       "<text text-anchor=\"start\" x=\"323.62\" y=\"-341\" font-family=\"Linux libertine\" font-size=\"10.00\">input:</text>\n",
       "<polygon fill=\"none\" stroke=\"black\" points=\"361,-333.5 361,-355.5 423,-355.5 423,-333.5 361,-333.5\"/>\n",
       "<text text-anchor=\"start\" x=\"365.75\" y=\"-341\" font-family=\"Linux libertine\" font-size=\"10.00\">(5, 44, 64) </text>\n",
       "<polygon fill=\"none\" stroke=\"black\" points=\"314,-311.5 314,-333.5 361,-333.5 361,-311.5 314,-311.5\"/>\n",
       "<text text-anchor=\"start\" x=\"318.75\" y=\"-319\" font-family=\"Linux libertine\" font-size=\"10.00\">output: </text>\n",
       "<polygon fill=\"none\" stroke=\"black\" points=\"361,-311.5 361,-333.5 423,-333.5 423,-311.5 361,-311.5\"/>\n",
       "<text text-anchor=\"start\" x=\"365.75\" y=\"-319\" font-family=\"Linux libertine\" font-size=\"10.00\">(5, 44, 64) </text>\n",
       "</g>\n",
       "<!-- 28&#45;&gt;29 -->\n",
       "<g id=\"edge36\" class=\"edge\">\n",
       "<title>28&#45;&gt;29</title>\n",
       "<path fill=\"none\" stroke=\"black\" d=\"M285.26,-391.6C293.03,-382.94 302.17,-372.76 310.56,-363.41\"/>\n",
       "<polygon fill=\"black\" stroke=\"black\" points=\"312.62,-366.24 316.69,-356.46 307.41,-361.57 312.62,-366.24\"/>\n",
       "</g>\n",
       "<!-- 31 -->\n",
       "<g id=\"node32\" class=\"node\">\n",
       "<title>31</title>\n",
       "<polygon fill=\"aliceblue\" stroke=\"none\" points=\"366,-195.5 193,-195.5 193,-151.5 366,-151.5 366,-195.5\"/>\n",
       "<polygon fill=\"none\" stroke=\"black\" points=\"193,-151.5 193,-195.5 239,-195.5 239,-151.5 193,-151.5\"/>\n",
       "<text text-anchor=\"start\" x=\"207\" y=\"-176.75\" font-family=\"Linux libertine\" font-size=\"10.00\">add</text>\n",
       "<text text-anchor=\"start\" x=\"197.62\" y=\"-164\" font-family=\"Linux libertine\" font-size=\"10.00\">depth:3</text>\n",
       "<polygon fill=\"none\" stroke=\"black\" points=\"239,-173.5 239,-195.5 286,-195.5 286,-173.5 239,-173.5\"/>\n",
       "<text text-anchor=\"start\" x=\"248.62\" y=\"-181\" font-family=\"Linux libertine\" font-size=\"10.00\">input:</text>\n",
       "<polygon fill=\"none\" stroke=\"black\" points=\"286,-173.5 286,-195.5 366,-195.5 366,-173.5 286,-173.5\"/>\n",
       "<text text-anchor=\"start\" x=\"290.75\" y=\"-181\" font-family=\"Linux libertine\" font-size=\"10.00\">2 x (5, 44, 64) </text>\n",
       "<polygon fill=\"none\" stroke=\"black\" points=\"239,-151.5 239,-173.5 286,-173.5 286,-151.5 239,-151.5\"/>\n",
       "<text text-anchor=\"start\" x=\"243.75\" y=\"-159\" font-family=\"Linux libertine\" font-size=\"10.00\">output: </text>\n",
       "<polygon fill=\"none\" stroke=\"black\" points=\"286,-151.5 286,-173.5 366,-173.5 366,-151.5 286,-151.5\"/>\n",
       "<text text-anchor=\"start\" x=\"299.75\" y=\"-159\" font-family=\"Linux libertine\" font-size=\"10.00\">(5, 44, 64) </text>\n",
       "</g>\n",
       "<!-- 28&#45;&gt;31 -->\n",
       "<g id=\"edge37\" class=\"edge\">\n",
       "<title>28&#45;&gt;31</title>\n",
       "<path fill=\"none\" stroke=\"black\" d=\"M254.61,-391.54C236.74,-357.18 207.24,-287.14 228.5,-231.5 232.45,-221.17 239.22,-211.54 246.56,-203.23\"/>\n",
       "<polygon fill=\"black\" stroke=\"black\" points=\"248.66,-206.05 253.01,-196.39 243.59,-201.23 248.66,-206.05\"/>\n",
       "</g>\n",
       "<!-- 30 -->\n",
       "<g id=\"node31\" class=\"node\">\n",
       "<title>30</title>\n",
       "<polygon fill=\"#c1ffc1\" stroke=\"none\" points=\"461,-275.5 238,-275.5 238,-231.5 461,-231.5 461,-275.5\"/>\n",
       "<polygon fill=\"none\" stroke=\"black\" points=\"238,-231.5 238,-275.5 284,-275.5 284,-231.5 238,-231.5\"/>\n",
       "<text text-anchor=\"start\" x=\"247.88\" y=\"-256.75\" font-family=\"Linux libertine\" font-size=\"10.00\">LSTM</text>\n",
       "<text text-anchor=\"start\" x=\"242.62\" y=\"-244\" font-family=\"Linux libertine\" font-size=\"10.00\">depth:3</text>\n",
       "<polygon fill=\"none\" stroke=\"black\" points=\"284,-253.5 284,-275.5 331,-275.5 331,-253.5 284,-253.5\"/>\n",
       "<text text-anchor=\"start\" x=\"293.62\" y=\"-261\" font-family=\"Linux libertine\" font-size=\"10.00\">input:</text>\n",
       "<polygon fill=\"none\" stroke=\"black\" points=\"331,-253.5 331,-275.5 461,-275.5 461,-253.5 331,-253.5\"/>\n",
       "<text text-anchor=\"start\" x=\"369.75\" y=\"-261\" font-family=\"Linux libertine\" font-size=\"10.00\">(5, 44, 64) </text>\n",
       "<polygon fill=\"none\" stroke=\"black\" points=\"284,-231.5 284,-253.5 331,-253.5 331,-231.5 284,-231.5\"/>\n",
       "<text text-anchor=\"start\" x=\"288.75\" y=\"-239\" font-family=\"Linux libertine\" font-size=\"10.00\">output: </text>\n",
       "<polygon fill=\"none\" stroke=\"black\" points=\"331,-231.5 331,-253.5 461,-253.5 461,-231.5 331,-231.5\"/>\n",
       "<text text-anchor=\"start\" x=\"336\" y=\"-239\" font-family=\"Linux libertine\" font-size=\"10.00\">(5, 44, 64), 2 x (1, 5, 64) </text>\n",
       "</g>\n",
       "<!-- 29&#45;&gt;30 -->\n",
       "<g id=\"edge38\" class=\"edge\">\n",
       "<title>29&#45;&gt;30</title>\n",
       "<path fill=\"none\" stroke=\"black\" d=\"M339.98,-311.6C341.28,-303.82 342.78,-294.8 344.21,-286.26\"/>\n",
       "<polygon fill=\"black\" stroke=\"black\" points=\"347.81,-286.9 346.01,-276.46 340.91,-285.75 347.81,-286.9\"/>\n",
       "</g>\n",
       "<!-- 30&#45;&gt;31 -->\n",
       "<g id=\"edge39\" class=\"edge\">\n",
       "<title>30&#45;&gt;31</title>\n",
       "<path fill=\"none\" stroke=\"black\" d=\"M330.74,-231.6C322.97,-222.94 313.83,-212.76 305.44,-203.41\"/>\n",
       "<polygon fill=\"black\" stroke=\"black\" points=\"308.59,-201.57 299.31,-196.46 303.38,-206.24 308.59,-201.57\"/>\n",
       "</g>\n",
       "<!-- 32 -->\n",
       "<g id=\"node33\" class=\"node\">\n",
       "<title>32</title>\n",
       "<polygon fill=\"#c1ffc1\" stroke=\"none\" points=\"357,-115.5 202,-115.5 202,-71.5 357,-71.5 357,-115.5\"/>\n",
       "<polygon fill=\"none\" stroke=\"black\" points=\"202,-71.5 202,-115.5 248,-115.5 248,-71.5 202,-71.5\"/>\n",
       "<text text-anchor=\"start\" x=\"210\" y=\"-96.75\" font-family=\"Linux libertine\" font-size=\"10.00\">Linear</text>\n",
       "<text text-anchor=\"start\" x=\"206.62\" y=\"-84\" font-family=\"Linux libertine\" font-size=\"10.00\">depth:1</text>\n",
       "<polygon fill=\"none\" stroke=\"black\" points=\"248,-93.5 248,-115.5 295,-115.5 295,-93.5 248,-93.5\"/>\n",
       "<text text-anchor=\"start\" x=\"257.62\" y=\"-101\" font-family=\"Linux libertine\" font-size=\"10.00\">input:</text>\n",
       "<polygon fill=\"none\" stroke=\"black\" points=\"295,-93.5 295,-115.5 357,-115.5 357,-93.5 295,-93.5\"/>\n",
       "<text text-anchor=\"start\" x=\"299.75\" y=\"-101\" font-family=\"Linux libertine\" font-size=\"10.00\">(5, 44, 64) </text>\n",
       "<polygon fill=\"none\" stroke=\"black\" points=\"248,-71.5 248,-93.5 295,-93.5 295,-71.5 248,-71.5\"/>\n",
       "<text text-anchor=\"start\" x=\"252.75\" y=\"-79\" font-family=\"Linux libertine\" font-size=\"10.00\">output: </text>\n",
       "<polygon fill=\"none\" stroke=\"black\" points=\"295,-71.5 295,-93.5 357,-93.5 357,-71.5 295,-71.5\"/>\n",
       "<text text-anchor=\"start\" x=\"299.75\" y=\"-79\" font-family=\"Linux libertine\" font-size=\"10.00\">(5, 44, 87) </text>\n",
       "</g>\n",
       "<!-- 31&#45;&gt;32 -->\n",
       "<g id=\"edge40\" class=\"edge\">\n",
       "<title>31&#45;&gt;32</title>\n",
       "<path fill=\"none\" stroke=\"black\" d=\"M279.5,-151.6C279.5,-143.82 279.5,-134.8 279.5,-126.26\"/>\n",
       "<polygon fill=\"black\" stroke=\"black\" points=\"283,-126.46 279.5,-116.46 276,-126.46 283,-126.46\"/>\n",
       "</g>\n",
       "<!-- 33 -->\n",
       "<g id=\"node34\" class=\"node\">\n",
       "<title>33</title>\n",
       "<polygon fill=\"lightyellow\" stroke=\"none\" points=\"347.25,-35.5 211.75,-35.5 211.75,0 347.25,0 347.25,-35.5\"/>\n",
       "<polygon fill=\"none\" stroke=\"black\" points=\"211.75,0 211.75,-35.5 287.75,-35.5 287.75,0 211.75,0\"/>\n",
       "<text text-anchor=\"start\" x=\"216.75\" y=\"-21\" font-family=\"Linux libertine\" font-size=\"10.00\">output&#45;tensor</text>\n",
       "<text text-anchor=\"start\" x=\"231.38\" y=\"-8.25\" font-family=\"Linux libertine\" font-size=\"10.00\">depth:0</text>\n",
       "<polygon fill=\"none\" stroke=\"black\" points=\"287.75,0 287.75,-35.5 347.25,-35.5 347.25,0 287.75,0\"/>\n",
       "<text text-anchor=\"start\" x=\"292.75\" y=\"-14.62\" font-family=\"Linux libertine\" font-size=\"10.00\">(5, 44, 87)</text>\n",
       "</g>\n",
       "<!-- 32&#45;&gt;33 -->\n",
       "<g id=\"edge41\" class=\"edge\">\n",
       "<title>32&#45;&gt;33</title>\n",
       "<path fill=\"none\" stroke=\"black\" d=\"M279.5,-71.56C279.5,-63.6 279.5,-54.41 279.5,-45.95\"/>\n",
       "<polygon fill=\"black\" stroke=\"black\" points=\"283,-46.05 279.5,-36.05 276,-46.05 283,-46.05\"/>\n",
       "</g>\n",
       "</g>\n",
       "</svg>\n"
      ],
      "text/plain": [
       "<graphviz.graphs.Digraph at 0x7f61eb1f5d90>"
      ]
     },
     "execution_count": 61,
     "metadata": {},
     "output_type": "execute_result"
    }
   ],
   "source": [
    "model_graph = draw_graph(dec_net, input_data=[enc_net(torch.Tensor(enc_x_train[0:5]).long().to(device)).cpu(),\n",
    "                            torch.Tensor(dec_x_train[0:5]).long()], device=device,\n",
    "                        hide_inner_tensors=True,hide_module_functions=True,\n",
    "                        expand_nested=False, depth=3, dtypes=[torch.long])\n",
    "model_graph.visual_graph"
   ]
  },
  {
   "cell_type": "markdown",
   "id": "7ef1ecdb-089a-4eb1-a2e8-a639b211aa21",
   "metadata": {},
   "source": [
    "### Training Hooks"
   ]
  },
  {
   "cell_type": "code",
   "execution_count": 62,
   "id": "3e0a99ce-0ebd-46cb-97ec-90cf91f40380",
   "metadata": {},
   "outputs": [],
   "source": [
    "class EncDecLightningModule(pl.LightningModule):\n",
    "    def __init__(self,\n",
    "                 output_size,\n",
    "                 **kwargs):\n",
    "        super().__init__(**kwargs)\n",
    "        self.mc_acc = torchmetrics.classification.Accuracy(task='multiclass',\n",
    "                                                           num_classes=output_size,\n",
    "                                                           ignore_index=0)\n",
    "        self.cce_loss = torch.nn.CrossEntropyLoss(ignore_index=0)\n",
    "\n",
    "    def predict(self, x):\n",
    "        return torch.softmax(self(x),-1)\n",
    "\n",
    "    def configure_optimizers(self):\n",
    "        optimizer = torch.optim.Adam(self.parameters(), lr=0.001)\n",
    "        return optimizer\n",
    "\n",
    "    def training_step(self, train_batch, batch_idx):\n",
    "        x_enc, x_dec, y_dec = train_batch\n",
    "        y_pred = self(x_enc, x_dec)\n",
    "        perm = (0,-1) + tuple(range(y_pred.ndim))[1:-1]\n",
    "        acc = self.mc_acc(y_pred.permute(*perm),y_dec)\n",
    "        loss = self.cce_loss(y_pred.permute(*perm),y_dec)\n",
    "        self.log('train_acc', acc, on_step=False, on_epoch=True)\n",
    "        self.log('train_loss', loss, on_step=False, on_epoch=True)\n",
    "        return loss\n",
    "\n",
    "    # Validate used for Teacher Forcing\n",
    "    def validation_step(self, val_batch, batch_idx):\n",
    "        x_enc, x_dec, y_dec = val_batch\n",
    "        y_pred = self(x_enc, x_dec)\n",
    "        perm = (0,-1) + tuple(range(y_pred.ndim))[1:-1]\n",
    "        acc = self.mc_acc(y_pred.permute(*perm),y_dec)\n",
    "        loss = self.cce_loss(y_pred.permute(*perm),y_dec)\n",
    "        self.log('val_acc', acc, on_step=False, on_epoch=True)\n",
    "        self.log('val_loss', loss, on_step=False, on_epoch=True)\n",
    "        return loss\n",
    "\n",
    "    # Test used for Non-Teacher Forcing\n",
    "    def test_step(self, test_batch, batch_idx):\n",
    "        x_enc, x_dec, y_dec = test_batch\n",
    "        context = self.enc_net(x_enc)\n",
    "        tokens = torch.zeros_like(x_dec).long()\n",
    "        tokens[:,0] = 1\n",
    "        for i in range(y_dec.shape[1]-1):\n",
    "            tokens[:,i+1] = self.dec_net(context, tokens).argmax(-1)[:,i]\n",
    "        y_pred = self(x_enc, tokens)\n",
    "        perm = (0,-1) + tuple(range(y_pred.ndim))[1:-1]\n",
    "        acc = self.mc_acc(y_pred.permute(*perm),y_dec)\n",
    "        loss = self.cce_loss(y_pred.permute(*perm),y_dec)\n",
    "        self.log('test_acc', acc, on_step=False, on_epoch=True)\n",
    "        self.log('test_loss', loss, on_step=False, on_epoch=True)\n",
    "        return loss\n"
   ]
  },
  {
   "cell_type": "markdown",
   "id": "47c45e6a-3839-48f9-bfa1-c730f9b10f2d",
   "metadata": {},
   "source": [
    "### Encoder-Decoder Network"
   ]
  },
  {
   "cell_type": "code",
   "execution_count": 63,
   "id": "56e34dc0-74d8-4665-b62c-ecbc73146d47",
   "metadata": {},
   "outputs": [],
   "source": [
    "class EncDecNetwork(EncDecLightningModule):\n",
    "    def __init__(self,\n",
    "                 num_enc_tokens,\n",
    "                 num_dec_tokens,\n",
    "                 latent_size = 64, # Use something divisible by 2\n",
    "                 n_layers = 8,\n",
    "                 **kwargs):\n",
    "        super().__init__(output_size=num_dec_tokens,\n",
    "                         **kwargs)\n",
    "        self.enc_net = EncoderNetwork(num_enc_tokens,latent_size,n_layers)\n",
    "        self.dec_net = DecoderNetwork(num_dec_tokens,latent_size,n_layers)\n",
    "\n",
    "    def forward(self, x_enc, x_dec):\n",
    "        return self.dec_net(self.enc_net(x_enc), x_dec)"
   ]
  },
  {
   "cell_type": "code",
   "execution_count": 64,
   "id": "c8f11a17-0416-45e8-a25c-3a8ca0016dca",
   "metadata": {
    "scrolled": true
   },
   "outputs": [
    {
     "data": {
      "text/plain": [
       "==========================================================================================\n",
       "Layer (type:depth-idx)                   Output Shape              Param #\n",
       "==========================================================================================\n",
       "EncDecNetwork                            [1, 44, 87]               --\n",
       "├─EncoderNetwork: 1-1                    [1, 64]                   --\n",
       "│    └─Embedding: 2-1                    [1, 45, 64]               4,672\n",
       "│    └─Dropout1d: 2-2                    [1, 45, 64]               --\n",
       "│    └─Sequential: 2-3                   [1, 45, 64]               --\n",
       "│    │    └─RecurrentResidual: 3-1       [1, 45, 64]               25,216\n",
       "│    │    └─RecurrentResidual: 3-2       [1, 45, 64]               25,216\n",
       "│    │    └─RecurrentResidual: 3-3       [1, 45, 64]               25,216\n",
       "│    │    └─RecurrentResidual: 3-4       [1, 45, 64]               25,216\n",
       "│    │    └─RecurrentResidual: 3-5       [1, 45, 64]               25,216\n",
       "│    │    └─RecurrentResidual: 3-6       [1, 45, 64]               25,216\n",
       "│    │    └─RecurrentResidual: 3-7       [1, 45, 64]               25,216\n",
       "│    │    └─RecurrentResidual: 3-8       [1, 45, 64]               25,216\n",
       "├─DecoderNetwork: 1-2                    [1, 44, 87]               --\n",
       "│    └─Embedding: 2-4                    [1, 44, 64]               5,568\n",
       "│    └─Dropout1d: 2-5                    [1, 44, 64]               --\n",
       "│    └─Linear: 2-6                       [1, 44, 64]               8,256\n",
       "│    └─Sequential: 2-7                   [1, 44, 64]               --\n",
       "│    │    └─RecurrentResidual: 3-9       [1, 44, 64]               33,408\n",
       "│    │    └─RecurrentResidual: 3-10      [1, 44, 64]               33,408\n",
       "│    │    └─RecurrentResidual: 3-11      [1, 44, 64]               33,408\n",
       "│    │    └─RecurrentResidual: 3-12      [1, 44, 64]               33,408\n",
       "│    │    └─RecurrentResidual: 3-13      [1, 44, 64]               33,408\n",
       "│    │    └─RecurrentResidual: 3-14      [1, 44, 64]               33,408\n",
       "│    │    └─RecurrentResidual: 3-15      [1, 44, 64]               33,408\n",
       "│    │    └─RecurrentResidual: 3-16      [1, 44, 64]               33,408\n",
       "│    └─Linear: 2-8                       [1, 44, 87]               5,655\n",
       "==========================================================================================\n",
       "Total params: 493,143\n",
       "Trainable params: 493,143\n",
       "Non-trainable params: 0\n",
       "Total mult-adds (Units.MEGABYTES): 20.77\n",
       "==========================================================================================\n",
       "Input size (MB): 0.00\n",
       "Forward/backward pass size (MB): 0.83\n",
       "Params size (MB): 1.97\n",
       "Estimated Total Size (MB): 2.80\n",
       "=========================================================================================="
      ]
     },
     "execution_count": 64,
     "metadata": {},
     "output_type": "execute_result"
    }
   ],
   "source": [
    "enc_dec_net = EncDecNetwork(num_enc_tokens=len(i_to_c_eng),\n",
    "                            num_dec_tokens=len(i_to_c_por))\n",
    "summary(enc_dec_net,input_data=[torch.Tensor(enc_x_train[0:1]).long(),\n",
    "                                torch.Tensor(dec_x_train[0:1]).long()])"
   ]
  },
  {
   "cell_type": "code",
   "execution_count": 65,
   "id": "68192ce7-00f2-48b9-913b-b6e3d0f724cd",
   "metadata": {
    "scrolled": true
   },
   "outputs": [
    {
     "data": {
      "image/svg+xml": [
       "<?xml version=\"1.0\" encoding=\"UTF-8\" standalone=\"no\"?>\n",
       "<!DOCTYPE svg PUBLIC \"-//W3C//DTD SVG 1.1//EN\"\n",
       " \"http://www.w3.org/Graphics/SVG/1.1/DTD/svg11.dtd\">\n",
       "<!-- Generated by graphviz version 8.1.0 (20230707.2238)\n",
       " -->\n",
       "<!-- Title: model Pages: 1 -->\n",
       "<svg width=\"372pt\" height=\"2959pt\"\n",
       " viewBox=\"0.00 0.00 371.57 2959.00\" xmlns=\"http://www.w3.org/2000/svg\" xmlns:xlink=\"http://www.w3.org/1999/xlink\">\n",
       "<g id=\"graph0\" class=\"graph\" transform=\"scale(0.643961 0.643961) rotate(0) translate(4 4591)\">\n",
       "<title>model</title>\n",
       "<polygon fill=\"white\" stroke=\"none\" points=\"-4,4 -4,-4591 573,-4591 573,4 -4,4\"/>\n",
       "<!-- 0 -->\n",
       "<g id=\"node1\" class=\"node\">\n",
       "<title>0</title>\n",
       "<polygon fill=\"lightyellow\" stroke=\"none\" points=\"141.88,-4587 31.12,-4587 31.12,-4551.5 141.88,-4551.5 141.88,-4587\"/>\n",
       "<polygon fill=\"none\" stroke=\"black\" points=\"31.12,-4551.5 31.12,-4587 100.38,-4587 100.38,-4551.5 31.12,-4551.5\"/>\n",
       "<text text-anchor=\"start\" x=\"36.12\" y=\"-4572.5\" font-family=\"Linux libertine\" font-size=\"10.00\">input&#45;tensor</text>\n",
       "<text text-anchor=\"start\" x=\"47.38\" y=\"-4559.75\" font-family=\"Linux libertine\" font-size=\"10.00\">depth:0</text>\n",
       "<polygon fill=\"none\" stroke=\"black\" points=\"100.38,-4551.5 100.38,-4587 141.88,-4587 141.88,-4551.5 100.38,-4551.5\"/>\n",
       "<text text-anchor=\"start\" x=\"105.38\" y=\"-4566.12\" font-family=\"Linux libertine\" font-size=\"10.00\">(1, 45)</text>\n",
       "</g>\n",
       "<!-- 2 -->\n",
       "<g id=\"node3\" class=\"node\">\n",
       "<title>2</title>\n",
       "<polygon fill=\"#c1ffc1\" stroke=\"none\" points=\"173,-4515.5 0,-4515.5 0,-4471.5 173,-4471.5 173,-4515.5\"/>\n",
       "<polygon fill=\"none\" stroke=\"black\" points=\"0,-4471.5 0,-4515.5 64,-4515.5 64,-4471.5 0,-4471.5\"/>\n",
       "<text text-anchor=\"start\" x=\"4.62\" y=\"-4496.75\" font-family=\"Linux libertine\" font-size=\"10.00\">Embedding</text>\n",
       "<text text-anchor=\"start\" x=\"13.62\" y=\"-4484\" font-family=\"Linux libertine\" font-size=\"10.00\">depth:2</text>\n",
       "<polygon fill=\"none\" stroke=\"black\" points=\"64,-4493.5 64,-4515.5 111,-4515.5 111,-4493.5 64,-4493.5\"/>\n",
       "<text text-anchor=\"start\" x=\"73.62\" y=\"-4501\" font-family=\"Linux libertine\" font-size=\"10.00\">input:</text>\n",
       "<polygon fill=\"none\" stroke=\"black\" points=\"111,-4493.5 111,-4515.5 173,-4515.5 173,-4493.5 111,-4493.5\"/>\n",
       "<text text-anchor=\"start\" x=\"124.75\" y=\"-4501\" font-family=\"Linux libertine\" font-size=\"10.00\">(1, 45) </text>\n",
       "<polygon fill=\"none\" stroke=\"black\" points=\"64,-4471.5 64,-4493.5 111,-4493.5 111,-4471.5 64,-4471.5\"/>\n",
       "<text text-anchor=\"start\" x=\"68.75\" y=\"-4479\" font-family=\"Linux libertine\" font-size=\"10.00\">output: </text>\n",
       "<polygon fill=\"none\" stroke=\"black\" points=\"111,-4471.5 111,-4493.5 173,-4493.5 173,-4471.5 111,-4471.5\"/>\n",
       "<text text-anchor=\"start\" x=\"115.75\" y=\"-4479\" font-family=\"Linux libertine\" font-size=\"10.00\">(1, 45, 64) </text>\n",
       "</g>\n",
       "<!-- 0&#45;&gt;2 -->\n",
       "<g id=\"edge1\" class=\"edge\">\n",
       "<title>0&#45;&gt;2</title>\n",
       "<path fill=\"none\" stroke=\"black\" d=\"M86.5,-4551.51C86.5,-4544.07 86.5,-4535.04 86.5,-4526.39\"/>\n",
       "<polygon fill=\"black\" stroke=\"black\" points=\"90,-4526.39 86.5,-4516.39 83,-4526.39 90,-4526.39\"/>\n",
       "</g>\n",
       "<!-- 1 -->\n",
       "<g id=\"node2\" class=\"node\">\n",
       "<title>1</title>\n",
       "<polygon fill=\"lightyellow\" stroke=\"none\" points=\"432.88,-2431.25 322.12,-2431.25 322.12,-2395.75 432.88,-2395.75 432.88,-2431.25\"/>\n",
       "<polygon fill=\"none\" stroke=\"black\" points=\"322.12,-2395.75 322.12,-2431.25 391.38,-2431.25 391.38,-2395.75 322.12,-2395.75\"/>\n",
       "<text text-anchor=\"start\" x=\"327.12\" y=\"-2416.75\" font-family=\"Linux libertine\" font-size=\"10.00\">input&#45;tensor</text>\n",
       "<text text-anchor=\"start\" x=\"338.38\" y=\"-2404\" font-family=\"Linux libertine\" font-size=\"10.00\">depth:0</text>\n",
       "<polygon fill=\"none\" stroke=\"black\" points=\"391.38,-2395.75 391.38,-2431.25 432.88,-2431.25 432.88,-2395.75 391.38,-2395.75\"/>\n",
       "<text text-anchor=\"start\" x=\"396.38\" y=\"-2410.38\" font-family=\"Linux libertine\" font-size=\"10.00\">(1, 44)</text>\n",
       "</g>\n",
       "<!-- 31 -->\n",
       "<g id=\"node32\" class=\"node\">\n",
       "<title>31</title>\n",
       "<polygon fill=\"#c1ffc1\" stroke=\"none\" points=\"464,-2355.5 291,-2355.5 291,-2311.5 464,-2311.5 464,-2355.5\"/>\n",
       "<polygon fill=\"none\" stroke=\"black\" points=\"291,-2311.5 291,-2355.5 355,-2355.5 355,-2311.5 291,-2311.5\"/>\n",
       "<text text-anchor=\"start\" x=\"295.62\" y=\"-2336.75\" font-family=\"Linux libertine\" font-size=\"10.00\">Embedding</text>\n",
       "<text text-anchor=\"start\" x=\"304.62\" y=\"-2324\" font-family=\"Linux libertine\" font-size=\"10.00\">depth:2</text>\n",
       "<polygon fill=\"none\" stroke=\"black\" points=\"355,-2333.5 355,-2355.5 402,-2355.5 402,-2333.5 355,-2333.5\"/>\n",
       "<text text-anchor=\"start\" x=\"364.62\" y=\"-2341\" font-family=\"Linux libertine\" font-size=\"10.00\">input:</text>\n",
       "<polygon fill=\"none\" stroke=\"black\" points=\"402,-2333.5 402,-2355.5 464,-2355.5 464,-2333.5 402,-2333.5\"/>\n",
       "<text text-anchor=\"start\" x=\"415.75\" y=\"-2341\" font-family=\"Linux libertine\" font-size=\"10.00\">(1, 44) </text>\n",
       "<polygon fill=\"none\" stroke=\"black\" points=\"355,-2311.5 355,-2333.5 402,-2333.5 402,-2311.5 355,-2311.5\"/>\n",
       "<text text-anchor=\"start\" x=\"359.75\" y=\"-2319\" font-family=\"Linux libertine\" font-size=\"10.00\">output: </text>\n",
       "<polygon fill=\"none\" stroke=\"black\" points=\"402,-2311.5 402,-2333.5 464,-2333.5 464,-2311.5 402,-2311.5\"/>\n",
       "<text text-anchor=\"start\" x=\"406.75\" y=\"-2319\" font-family=\"Linux libertine\" font-size=\"10.00\">(1, 44, 64) </text>\n",
       "</g>\n",
       "<!-- 1&#45;&gt;31 -->\n",
       "<g id=\"edge37\" class=\"edge\">\n",
       "<title>1&#45;&gt;31</title>\n",
       "<path fill=\"none\" stroke=\"black\" d=\"M377.5,-2395.96C377.5,-2387.29 377.5,-2376.37 377.5,-2366.15\"/>\n",
       "<polygon fill=\"black\" stroke=\"black\" points=\"381,-2366.48 377.5,-2356.48 374,-2366.48 381,-2366.48\"/>\n",
       "</g>\n",
       "<!-- 3 -->\n",
       "<g id=\"node4\" class=\"node\">\n",
       "<title>3</title>\n",
       "<polygon fill=\"#c1ffc1\" stroke=\"none\" points=\"171.5,-4435.5 1.5,-4435.5 1.5,-4391.5 171.5,-4391.5 171.5,-4435.5\"/>\n",
       "<polygon fill=\"none\" stroke=\"black\" points=\"1.5,-4391.5 1.5,-4435.5 62.5,-4435.5 62.5,-4391.5 1.5,-4391.5\"/>\n",
       "<text text-anchor=\"start\" x=\"6.5\" y=\"-4416.75\" font-family=\"Linux libertine\" font-size=\"10.00\">Dropout1d</text>\n",
       "<text text-anchor=\"start\" x=\"13.62\" y=\"-4404\" font-family=\"Linux libertine\" font-size=\"10.00\">depth:2</text>\n",
       "<polygon fill=\"none\" stroke=\"black\" points=\"62.5,-4413.5 62.5,-4435.5 109.5,-4435.5 109.5,-4413.5 62.5,-4413.5\"/>\n",
       "<text text-anchor=\"start\" x=\"72.12\" y=\"-4421\" font-family=\"Linux libertine\" font-size=\"10.00\">input:</text>\n",
       "<polygon fill=\"none\" stroke=\"black\" points=\"109.5,-4413.5 109.5,-4435.5 171.5,-4435.5 171.5,-4413.5 109.5,-4413.5\"/>\n",
       "<text text-anchor=\"start\" x=\"114.25\" y=\"-4421\" font-family=\"Linux libertine\" font-size=\"10.00\">(1, 45, 64) </text>\n",
       "<polygon fill=\"none\" stroke=\"black\" points=\"62.5,-4391.5 62.5,-4413.5 109.5,-4413.5 109.5,-4391.5 62.5,-4391.5\"/>\n",
       "<text text-anchor=\"start\" x=\"67.25\" y=\"-4399\" font-family=\"Linux libertine\" font-size=\"10.00\">output: </text>\n",
       "<polygon fill=\"none\" stroke=\"black\" points=\"109.5,-4391.5 109.5,-4413.5 171.5,-4413.5 171.5,-4391.5 109.5,-4391.5\"/>\n",
       "<text text-anchor=\"start\" x=\"114.25\" y=\"-4399\" font-family=\"Linux libertine\" font-size=\"10.00\">(1, 45, 64) </text>\n",
       "</g>\n",
       "<!-- 2&#45;&gt;3 -->\n",
       "<g id=\"edge2\" class=\"edge\">\n",
       "<title>2&#45;&gt;3</title>\n",
       "<path fill=\"none\" stroke=\"black\" d=\"M86.5,-4471.6C86.5,-4463.82 86.5,-4454.8 86.5,-4446.26\"/>\n",
       "<polygon fill=\"black\" stroke=\"black\" points=\"90,-4446.46 86.5,-4436.46 83,-4446.46 90,-4446.46\"/>\n",
       "</g>\n",
       "<!-- 4 -->\n",
       "<g id=\"node5\" class=\"node\">\n",
       "<title>4</title>\n",
       "<polygon fill=\"#c1ffc1\" stroke=\"none\" points=\"243,-4355.5 70,-4355.5 70,-4311.5 243,-4311.5 243,-4355.5\"/>\n",
       "<polygon fill=\"none\" stroke=\"black\" points=\"70,-4311.5 70,-4355.5 134,-4355.5 134,-4311.5 70,-4311.5\"/>\n",
       "<text text-anchor=\"start\" x=\"75\" y=\"-4336.75\" font-family=\"Linux libertine\" font-size=\"10.00\">LayerNorm</text>\n",
       "<text text-anchor=\"start\" x=\"83.62\" y=\"-4324\" font-family=\"Linux libertine\" font-size=\"10.00\">depth:4</text>\n",
       "<polygon fill=\"none\" stroke=\"black\" points=\"134,-4333.5 134,-4355.5 181,-4355.5 181,-4333.5 134,-4333.5\"/>\n",
       "<text text-anchor=\"start\" x=\"143.62\" y=\"-4341\" font-family=\"Linux libertine\" font-size=\"10.00\">input:</text>\n",
       "<polygon fill=\"none\" stroke=\"black\" points=\"181,-4333.5 181,-4355.5 243,-4355.5 243,-4333.5 181,-4333.5\"/>\n",
       "<text text-anchor=\"start\" x=\"185.75\" y=\"-4341\" font-family=\"Linux libertine\" font-size=\"10.00\">(1, 45, 64) </text>\n",
       "<polygon fill=\"none\" stroke=\"black\" points=\"134,-4311.5 134,-4333.5 181,-4333.5 181,-4311.5 134,-4311.5\"/>\n",
       "<text text-anchor=\"start\" x=\"138.75\" y=\"-4319\" font-family=\"Linux libertine\" font-size=\"10.00\">output: </text>\n",
       "<polygon fill=\"none\" stroke=\"black\" points=\"181,-4311.5 181,-4333.5 243,-4333.5 243,-4311.5 181,-4311.5\"/>\n",
       "<text text-anchor=\"start\" x=\"185.75\" y=\"-4319\" font-family=\"Linux libertine\" font-size=\"10.00\">(1, 45, 64) </text>\n",
       "</g>\n",
       "<!-- 3&#45;&gt;4 -->\n",
       "<g id=\"edge3\" class=\"edge\">\n",
       "<title>3&#45;&gt;4</title>\n",
       "<path fill=\"none\" stroke=\"black\" d=\"M105.26,-4391.6C113.03,-4382.94 122.17,-4372.76 130.56,-4363.41\"/>\n",
       "<polygon fill=\"black\" stroke=\"black\" points=\"132.62,-4366.24 136.69,-4356.46 127.41,-4361.57 132.62,-4366.24\"/>\n",
       "</g>\n",
       "<!-- 6 -->\n",
       "<g id=\"node7\" class=\"node\">\n",
       "<title>6</title>\n",
       "<polygon fill=\"aliceblue\" stroke=\"none\" points=\"186,-4195.5 13,-4195.5 13,-4151.5 186,-4151.5 186,-4195.5\"/>\n",
       "<polygon fill=\"none\" stroke=\"black\" points=\"13,-4151.5 13,-4195.5 59,-4195.5 59,-4151.5 13,-4151.5\"/>\n",
       "<text text-anchor=\"start\" x=\"27\" y=\"-4176.75\" font-family=\"Linux libertine\" font-size=\"10.00\">add</text>\n",
       "<text text-anchor=\"start\" x=\"17.62\" y=\"-4164\" font-family=\"Linux libertine\" font-size=\"10.00\">depth:4</text>\n",
       "<polygon fill=\"none\" stroke=\"black\" points=\"59,-4173.5 59,-4195.5 106,-4195.5 106,-4173.5 59,-4173.5\"/>\n",
       "<text text-anchor=\"start\" x=\"68.62\" y=\"-4181\" font-family=\"Linux libertine\" font-size=\"10.00\">input:</text>\n",
       "<polygon fill=\"none\" stroke=\"black\" points=\"106,-4173.5 106,-4195.5 186,-4195.5 186,-4173.5 106,-4173.5\"/>\n",
       "<text text-anchor=\"start\" x=\"110.75\" y=\"-4181\" font-family=\"Linux libertine\" font-size=\"10.00\">2 x (1, 45, 64) </text>\n",
       "<polygon fill=\"none\" stroke=\"black\" points=\"59,-4151.5 59,-4173.5 106,-4173.5 106,-4151.5 59,-4151.5\"/>\n",
       "<text text-anchor=\"start\" x=\"63.75\" y=\"-4159\" font-family=\"Linux libertine\" font-size=\"10.00\">output: </text>\n",
       "<polygon fill=\"none\" stroke=\"black\" points=\"106,-4151.5 106,-4173.5 186,-4173.5 186,-4151.5 106,-4151.5\"/>\n",
       "<text text-anchor=\"start\" x=\"119.75\" y=\"-4159\" font-family=\"Linux libertine\" font-size=\"10.00\">(1, 45, 64) </text>\n",
       "</g>\n",
       "<!-- 3&#45;&gt;6 -->\n",
       "<g id=\"edge4\" class=\"edge\">\n",
       "<title>3&#45;&gt;6</title>\n",
       "<path fill=\"none\" stroke=\"black\" d=\"M74.61,-4391.54C56.74,-4357.18 27.24,-4287.14 48.5,-4231.5 52.45,-4221.17 59.22,-4211.54 66.56,-4203.23\"/>\n",
       "<polygon fill=\"black\" stroke=\"black\" points=\"68.66,-4206.05 73.01,-4196.39 63.59,-4201.23 68.66,-4206.05\"/>\n",
       "</g>\n",
       "<!-- 5 -->\n",
       "<g id=\"node6\" class=\"node\">\n",
       "<title>5</title>\n",
       "<polygon fill=\"#c1ffc1\" stroke=\"none\" points=\"281,-4275.5 58,-4275.5 58,-4231.5 281,-4231.5 281,-4275.5\"/>\n",
       "<polygon fill=\"none\" stroke=\"black\" points=\"58,-4231.5 58,-4275.5 104,-4275.5 104,-4231.5 58,-4231.5\"/>\n",
       "<text text-anchor=\"start\" x=\"67.88\" y=\"-4256.75\" font-family=\"Linux libertine\" font-size=\"10.00\">LSTM</text>\n",
       "<text text-anchor=\"start\" x=\"62.62\" y=\"-4244\" font-family=\"Linux libertine\" font-size=\"10.00\">depth:4</text>\n",
       "<polygon fill=\"none\" stroke=\"black\" points=\"104,-4253.5 104,-4275.5 151,-4275.5 151,-4253.5 104,-4253.5\"/>\n",
       "<text text-anchor=\"start\" x=\"113.62\" y=\"-4261\" font-family=\"Linux libertine\" font-size=\"10.00\">input:</text>\n",
       "<polygon fill=\"none\" stroke=\"black\" points=\"151,-4253.5 151,-4275.5 281,-4275.5 281,-4253.5 151,-4253.5\"/>\n",
       "<text text-anchor=\"start\" x=\"189.75\" y=\"-4261\" font-family=\"Linux libertine\" font-size=\"10.00\">(1, 45, 64) </text>\n",
       "<polygon fill=\"none\" stroke=\"black\" points=\"104,-4231.5 104,-4253.5 151,-4253.5 151,-4231.5 104,-4231.5\"/>\n",
       "<text text-anchor=\"start\" x=\"108.75\" y=\"-4239\" font-family=\"Linux libertine\" font-size=\"10.00\">output: </text>\n",
       "<polygon fill=\"none\" stroke=\"black\" points=\"151,-4231.5 151,-4253.5 281,-4253.5 281,-4231.5 151,-4231.5\"/>\n",
       "<text text-anchor=\"start\" x=\"156\" y=\"-4239\" font-family=\"Linux libertine\" font-size=\"10.00\">(1, 45, 64), 2 x (2, 1, 32) </text>\n",
       "</g>\n",
       "<!-- 4&#45;&gt;5 -->\n",
       "<g id=\"edge5\" class=\"edge\">\n",
       "<title>4&#45;&gt;5</title>\n",
       "<path fill=\"none\" stroke=\"black\" d=\"M159.98,-4311.6C161.28,-4303.82 162.78,-4294.8 164.21,-4286.26\"/>\n",
       "<polygon fill=\"black\" stroke=\"black\" points=\"167.81,-4286.9 166.01,-4276.46 160.91,-4285.75 167.81,-4286.9\"/>\n",
       "</g>\n",
       "<!-- 5&#45;&gt;6 -->\n",
       "<g id=\"edge6\" class=\"edge\">\n",
       "<title>5&#45;&gt;6</title>\n",
       "<path fill=\"none\" stroke=\"black\" d=\"M150.74,-4231.6C142.97,-4222.94 133.83,-4212.76 125.44,-4203.41\"/>\n",
       "<polygon fill=\"black\" stroke=\"black\" points=\"128.59,-4201.57 119.31,-4196.46 123.38,-4206.24 128.59,-4201.57\"/>\n",
       "</g>\n",
       "<!-- 7 -->\n",
       "<g id=\"node8\" class=\"node\">\n",
       "<title>7</title>\n",
       "<polygon fill=\"#c1ffc1\" stroke=\"none\" points=\"256,-4115.5 83,-4115.5 83,-4071.5 256,-4071.5 256,-4115.5\"/>\n",
       "<polygon fill=\"none\" stroke=\"black\" points=\"83,-4071.5 83,-4115.5 147,-4115.5 147,-4071.5 83,-4071.5\"/>\n",
       "<text text-anchor=\"start\" x=\"88\" y=\"-4096.75\" font-family=\"Linux libertine\" font-size=\"10.00\">LayerNorm</text>\n",
       "<text text-anchor=\"start\" x=\"96.62\" y=\"-4084\" font-family=\"Linux libertine\" font-size=\"10.00\">depth:4</text>\n",
       "<polygon fill=\"none\" stroke=\"black\" points=\"147,-4093.5 147,-4115.5 194,-4115.5 194,-4093.5 147,-4093.5\"/>\n",
       "<text text-anchor=\"start\" x=\"156.62\" y=\"-4101\" font-family=\"Linux libertine\" font-size=\"10.00\">input:</text>\n",
       "<polygon fill=\"none\" stroke=\"black\" points=\"194,-4093.5 194,-4115.5 256,-4115.5 256,-4093.5 194,-4093.5\"/>\n",
       "<text text-anchor=\"start\" x=\"198.75\" y=\"-4101\" font-family=\"Linux libertine\" font-size=\"10.00\">(1, 45, 64) </text>\n",
       "<polygon fill=\"none\" stroke=\"black\" points=\"147,-4071.5 147,-4093.5 194,-4093.5 194,-4071.5 147,-4071.5\"/>\n",
       "<text text-anchor=\"start\" x=\"151.75\" y=\"-4079\" font-family=\"Linux libertine\" font-size=\"10.00\">output: </text>\n",
       "<polygon fill=\"none\" stroke=\"black\" points=\"194,-4071.5 194,-4093.5 256,-4093.5 256,-4071.5 194,-4071.5\"/>\n",
       "<text text-anchor=\"start\" x=\"198.75\" y=\"-4079\" font-family=\"Linux libertine\" font-size=\"10.00\">(1, 45, 64) </text>\n",
       "</g>\n",
       "<!-- 6&#45;&gt;7 -->\n",
       "<g id=\"edge7\" class=\"edge\">\n",
       "<title>6&#45;&gt;7</title>\n",
       "<path fill=\"none\" stroke=\"black\" d=\"M118.26,-4151.6C126.03,-4142.94 135.17,-4132.76 143.56,-4123.41\"/>\n",
       "<polygon fill=\"black\" stroke=\"black\" points=\"145.62,-4126.24 149.69,-4116.46 140.41,-4121.57 145.62,-4126.24\"/>\n",
       "</g>\n",
       "<!-- 9 -->\n",
       "<g id=\"node10\" class=\"node\">\n",
       "<title>9</title>\n",
       "<polygon fill=\"aliceblue\" stroke=\"none\" points=\"199,-3955.5 26,-3955.5 26,-3911.5 199,-3911.5 199,-3955.5\"/>\n",
       "<polygon fill=\"none\" stroke=\"black\" points=\"26,-3911.5 26,-3955.5 72,-3955.5 72,-3911.5 26,-3911.5\"/>\n",
       "<text text-anchor=\"start\" x=\"40\" y=\"-3936.75\" font-family=\"Linux libertine\" font-size=\"10.00\">add</text>\n",
       "<text text-anchor=\"start\" x=\"30.62\" y=\"-3924\" font-family=\"Linux libertine\" font-size=\"10.00\">depth:4</text>\n",
       "<polygon fill=\"none\" stroke=\"black\" points=\"72,-3933.5 72,-3955.5 119,-3955.5 119,-3933.5 72,-3933.5\"/>\n",
       "<text text-anchor=\"start\" x=\"81.62\" y=\"-3941\" font-family=\"Linux libertine\" font-size=\"10.00\">input:</text>\n",
       "<polygon fill=\"none\" stroke=\"black\" points=\"119,-3933.5 119,-3955.5 199,-3955.5 199,-3933.5 119,-3933.5\"/>\n",
       "<text text-anchor=\"start\" x=\"123.75\" y=\"-3941\" font-family=\"Linux libertine\" font-size=\"10.00\">2 x (1, 45, 64) </text>\n",
       "<polygon fill=\"none\" stroke=\"black\" points=\"72,-3911.5 72,-3933.5 119,-3933.5 119,-3911.5 72,-3911.5\"/>\n",
       "<text text-anchor=\"start\" x=\"76.75\" y=\"-3919\" font-family=\"Linux libertine\" font-size=\"10.00\">output: </text>\n",
       "<polygon fill=\"none\" stroke=\"black\" points=\"119,-3911.5 119,-3933.5 199,-3933.5 199,-3911.5 119,-3911.5\"/>\n",
       "<text text-anchor=\"start\" x=\"132.75\" y=\"-3919\" font-family=\"Linux libertine\" font-size=\"10.00\">(1, 45, 64) </text>\n",
       "</g>\n",
       "<!-- 6&#45;&gt;9 -->\n",
       "<g id=\"edge8\" class=\"edge\">\n",
       "<title>6&#45;&gt;9</title>\n",
       "<path fill=\"none\" stroke=\"black\" d=\"M87.61,-4151.54C69.74,-4117.18 40.24,-4047.14 61.5,-3991.5 65.45,-3981.17 72.22,-3971.54 79.56,-3963.23\"/>\n",
       "<polygon fill=\"black\" stroke=\"black\" points=\"81.66,-3966.05 86.01,-3956.39 76.59,-3961.23 81.66,-3966.05\"/>\n",
       "</g>\n",
       "<!-- 8 -->\n",
       "<g id=\"node9\" class=\"node\">\n",
       "<title>8</title>\n",
       "<polygon fill=\"#c1ffc1\" stroke=\"none\" points=\"294,-4035.5 71,-4035.5 71,-3991.5 294,-3991.5 294,-4035.5\"/>\n",
       "<polygon fill=\"none\" stroke=\"black\" points=\"71,-3991.5 71,-4035.5 117,-4035.5 117,-3991.5 71,-3991.5\"/>\n",
       "<text text-anchor=\"start\" x=\"80.88\" y=\"-4016.75\" font-family=\"Linux libertine\" font-size=\"10.00\">LSTM</text>\n",
       "<text text-anchor=\"start\" x=\"75.62\" y=\"-4004\" font-family=\"Linux libertine\" font-size=\"10.00\">depth:4</text>\n",
       "<polygon fill=\"none\" stroke=\"black\" points=\"117,-4013.5 117,-4035.5 164,-4035.5 164,-4013.5 117,-4013.5\"/>\n",
       "<text text-anchor=\"start\" x=\"126.62\" y=\"-4021\" font-family=\"Linux libertine\" font-size=\"10.00\">input:</text>\n",
       "<polygon fill=\"none\" stroke=\"black\" points=\"164,-4013.5 164,-4035.5 294,-4035.5 294,-4013.5 164,-4013.5\"/>\n",
       "<text text-anchor=\"start\" x=\"202.75\" y=\"-4021\" font-family=\"Linux libertine\" font-size=\"10.00\">(1, 45, 64) </text>\n",
       "<polygon fill=\"none\" stroke=\"black\" points=\"117,-3991.5 117,-4013.5 164,-4013.5 164,-3991.5 117,-3991.5\"/>\n",
       "<text text-anchor=\"start\" x=\"121.75\" y=\"-3999\" font-family=\"Linux libertine\" font-size=\"10.00\">output: </text>\n",
       "<polygon fill=\"none\" stroke=\"black\" points=\"164,-3991.5 164,-4013.5 294,-4013.5 294,-3991.5 164,-3991.5\"/>\n",
       "<text text-anchor=\"start\" x=\"169\" y=\"-3999\" font-family=\"Linux libertine\" font-size=\"10.00\">(1, 45, 64), 2 x (2, 1, 32) </text>\n",
       "</g>\n",
       "<!-- 7&#45;&gt;8 -->\n",
       "<g id=\"edge9\" class=\"edge\">\n",
       "<title>7&#45;&gt;8</title>\n",
       "<path fill=\"none\" stroke=\"black\" d=\"M172.98,-4071.6C174.28,-4063.82 175.78,-4054.8 177.21,-4046.26\"/>\n",
       "<polygon fill=\"black\" stroke=\"black\" points=\"180.81,-4046.9 179.01,-4036.46 173.91,-4045.75 180.81,-4046.9\"/>\n",
       "</g>\n",
       "<!-- 8&#45;&gt;9 -->\n",
       "<g id=\"edge10\" class=\"edge\">\n",
       "<title>8&#45;&gt;9</title>\n",
       "<path fill=\"none\" stroke=\"black\" d=\"M163.74,-3991.6C155.97,-3982.94 146.83,-3972.76 138.44,-3963.41\"/>\n",
       "<polygon fill=\"black\" stroke=\"black\" points=\"141.59,-3961.57 132.31,-3956.46 136.38,-3966.24 141.59,-3961.57\"/>\n",
       "</g>\n",
       "<!-- 10 -->\n",
       "<g id=\"node11\" class=\"node\">\n",
       "<title>10</title>\n",
       "<polygon fill=\"#c1ffc1\" stroke=\"none\" points=\"269,-3875.5 96,-3875.5 96,-3831.5 269,-3831.5 269,-3875.5\"/>\n",
       "<polygon fill=\"none\" stroke=\"black\" points=\"96,-3831.5 96,-3875.5 160,-3875.5 160,-3831.5 96,-3831.5\"/>\n",
       "<text text-anchor=\"start\" x=\"101\" y=\"-3856.75\" font-family=\"Linux libertine\" font-size=\"10.00\">LayerNorm</text>\n",
       "<text text-anchor=\"start\" x=\"109.62\" y=\"-3844\" font-family=\"Linux libertine\" font-size=\"10.00\">depth:4</text>\n",
       "<polygon fill=\"none\" stroke=\"black\" points=\"160,-3853.5 160,-3875.5 207,-3875.5 207,-3853.5 160,-3853.5\"/>\n",
       "<text text-anchor=\"start\" x=\"169.62\" y=\"-3861\" font-family=\"Linux libertine\" font-size=\"10.00\">input:</text>\n",
       "<polygon fill=\"none\" stroke=\"black\" points=\"207,-3853.5 207,-3875.5 269,-3875.5 269,-3853.5 207,-3853.5\"/>\n",
       "<text text-anchor=\"start\" x=\"211.75\" y=\"-3861\" font-family=\"Linux libertine\" font-size=\"10.00\">(1, 45, 64) </text>\n",
       "<polygon fill=\"none\" stroke=\"black\" points=\"160,-3831.5 160,-3853.5 207,-3853.5 207,-3831.5 160,-3831.5\"/>\n",
       "<text text-anchor=\"start\" x=\"164.75\" y=\"-3839\" font-family=\"Linux libertine\" font-size=\"10.00\">output: </text>\n",
       "<polygon fill=\"none\" stroke=\"black\" points=\"207,-3831.5 207,-3853.5 269,-3853.5 269,-3831.5 207,-3831.5\"/>\n",
       "<text text-anchor=\"start\" x=\"211.75\" y=\"-3839\" font-family=\"Linux libertine\" font-size=\"10.00\">(1, 45, 64) </text>\n",
       "</g>\n",
       "<!-- 9&#45;&gt;10 -->\n",
       "<g id=\"edge11\" class=\"edge\">\n",
       "<title>9&#45;&gt;10</title>\n",
       "<path fill=\"none\" stroke=\"black\" d=\"M131.26,-3911.6C139.03,-3902.94 148.17,-3892.76 156.56,-3883.41\"/>\n",
       "<polygon fill=\"black\" stroke=\"black\" points=\"158.62,-3886.24 162.69,-3876.46 153.41,-3881.57 158.62,-3886.24\"/>\n",
       "</g>\n",
       "<!-- 12 -->\n",
       "<g id=\"node13\" class=\"node\">\n",
       "<title>12</title>\n",
       "<polygon fill=\"aliceblue\" stroke=\"none\" points=\"212,-3715.5 39,-3715.5 39,-3671.5 212,-3671.5 212,-3715.5\"/>\n",
       "<polygon fill=\"none\" stroke=\"black\" points=\"39,-3671.5 39,-3715.5 85,-3715.5 85,-3671.5 39,-3671.5\"/>\n",
       "<text text-anchor=\"start\" x=\"53\" y=\"-3696.75\" font-family=\"Linux libertine\" font-size=\"10.00\">add</text>\n",
       "<text text-anchor=\"start\" x=\"43.62\" y=\"-3684\" font-family=\"Linux libertine\" font-size=\"10.00\">depth:4</text>\n",
       "<polygon fill=\"none\" stroke=\"black\" points=\"85,-3693.5 85,-3715.5 132,-3715.5 132,-3693.5 85,-3693.5\"/>\n",
       "<text text-anchor=\"start\" x=\"94.62\" y=\"-3701\" font-family=\"Linux libertine\" font-size=\"10.00\">input:</text>\n",
       "<polygon fill=\"none\" stroke=\"black\" points=\"132,-3693.5 132,-3715.5 212,-3715.5 212,-3693.5 132,-3693.5\"/>\n",
       "<text text-anchor=\"start\" x=\"136.75\" y=\"-3701\" font-family=\"Linux libertine\" font-size=\"10.00\">2 x (1, 45, 64) </text>\n",
       "<polygon fill=\"none\" stroke=\"black\" points=\"85,-3671.5 85,-3693.5 132,-3693.5 132,-3671.5 85,-3671.5\"/>\n",
       "<text text-anchor=\"start\" x=\"89.75\" y=\"-3679\" font-family=\"Linux libertine\" font-size=\"10.00\">output: </text>\n",
       "<polygon fill=\"none\" stroke=\"black\" points=\"132,-3671.5 132,-3693.5 212,-3693.5 212,-3671.5 132,-3671.5\"/>\n",
       "<text text-anchor=\"start\" x=\"145.75\" y=\"-3679\" font-family=\"Linux libertine\" font-size=\"10.00\">(1, 45, 64) </text>\n",
       "</g>\n",
       "<!-- 9&#45;&gt;12 -->\n",
       "<g id=\"edge12\" class=\"edge\">\n",
       "<title>9&#45;&gt;12</title>\n",
       "<path fill=\"none\" stroke=\"black\" d=\"M100.61,-3911.54C82.74,-3877.18 53.24,-3807.14 74.5,-3751.5 78.45,-3741.17 85.22,-3731.54 92.56,-3723.23\"/>\n",
       "<polygon fill=\"black\" stroke=\"black\" points=\"94.66,-3726.05 99.01,-3716.39 89.59,-3721.23 94.66,-3726.05\"/>\n",
       "</g>\n",
       "<!-- 11 -->\n",
       "<g id=\"node12\" class=\"node\">\n",
       "<title>11</title>\n",
       "<polygon fill=\"#c1ffc1\" stroke=\"none\" points=\"307,-3795.5 84,-3795.5 84,-3751.5 307,-3751.5 307,-3795.5\"/>\n",
       "<polygon fill=\"none\" stroke=\"black\" points=\"84,-3751.5 84,-3795.5 130,-3795.5 130,-3751.5 84,-3751.5\"/>\n",
       "<text text-anchor=\"start\" x=\"93.88\" y=\"-3776.75\" font-family=\"Linux libertine\" font-size=\"10.00\">LSTM</text>\n",
       "<text text-anchor=\"start\" x=\"88.62\" y=\"-3764\" font-family=\"Linux libertine\" font-size=\"10.00\">depth:4</text>\n",
       "<polygon fill=\"none\" stroke=\"black\" points=\"130,-3773.5 130,-3795.5 177,-3795.5 177,-3773.5 130,-3773.5\"/>\n",
       "<text text-anchor=\"start\" x=\"139.62\" y=\"-3781\" font-family=\"Linux libertine\" font-size=\"10.00\">input:</text>\n",
       "<polygon fill=\"none\" stroke=\"black\" points=\"177,-3773.5 177,-3795.5 307,-3795.5 307,-3773.5 177,-3773.5\"/>\n",
       "<text text-anchor=\"start\" x=\"215.75\" y=\"-3781\" font-family=\"Linux libertine\" font-size=\"10.00\">(1, 45, 64) </text>\n",
       "<polygon fill=\"none\" stroke=\"black\" points=\"130,-3751.5 130,-3773.5 177,-3773.5 177,-3751.5 130,-3751.5\"/>\n",
       "<text text-anchor=\"start\" x=\"134.75\" y=\"-3759\" font-family=\"Linux libertine\" font-size=\"10.00\">output: </text>\n",
       "<polygon fill=\"none\" stroke=\"black\" points=\"177,-3751.5 177,-3773.5 307,-3773.5 307,-3751.5 177,-3751.5\"/>\n",
       "<text text-anchor=\"start\" x=\"182\" y=\"-3759\" font-family=\"Linux libertine\" font-size=\"10.00\">(1, 45, 64), 2 x (2, 1, 32) </text>\n",
       "</g>\n",
       "<!-- 10&#45;&gt;11 -->\n",
       "<g id=\"edge13\" class=\"edge\">\n",
       "<title>10&#45;&gt;11</title>\n",
       "<path fill=\"none\" stroke=\"black\" d=\"M185.98,-3831.6C187.28,-3823.82 188.78,-3814.8 190.21,-3806.26\"/>\n",
       "<polygon fill=\"black\" stroke=\"black\" points=\"193.81,-3806.9 192.01,-3796.46 186.91,-3805.75 193.81,-3806.9\"/>\n",
       "</g>\n",
       "<!-- 11&#45;&gt;12 -->\n",
       "<g id=\"edge14\" class=\"edge\">\n",
       "<title>11&#45;&gt;12</title>\n",
       "<path fill=\"none\" stroke=\"black\" d=\"M176.74,-3751.6C168.97,-3742.94 159.83,-3732.76 151.44,-3723.41\"/>\n",
       "<polygon fill=\"black\" stroke=\"black\" points=\"154.59,-3721.57 145.31,-3716.46 149.38,-3726.24 154.59,-3721.57\"/>\n",
       "</g>\n",
       "<!-- 13 -->\n",
       "<g id=\"node14\" class=\"node\">\n",
       "<title>13</title>\n",
       "<polygon fill=\"#c1ffc1\" stroke=\"none\" points=\"282,-3635.5 109,-3635.5 109,-3591.5 282,-3591.5 282,-3635.5\"/>\n",
       "<polygon fill=\"none\" stroke=\"black\" points=\"109,-3591.5 109,-3635.5 173,-3635.5 173,-3591.5 109,-3591.5\"/>\n",
       "<text text-anchor=\"start\" x=\"114\" y=\"-3616.75\" font-family=\"Linux libertine\" font-size=\"10.00\">LayerNorm</text>\n",
       "<text text-anchor=\"start\" x=\"122.62\" y=\"-3604\" font-family=\"Linux libertine\" font-size=\"10.00\">depth:4</text>\n",
       "<polygon fill=\"none\" stroke=\"black\" points=\"173,-3613.5 173,-3635.5 220,-3635.5 220,-3613.5 173,-3613.5\"/>\n",
       "<text text-anchor=\"start\" x=\"182.62\" y=\"-3621\" font-family=\"Linux libertine\" font-size=\"10.00\">input:</text>\n",
       "<polygon fill=\"none\" stroke=\"black\" points=\"220,-3613.5 220,-3635.5 282,-3635.5 282,-3613.5 220,-3613.5\"/>\n",
       "<text text-anchor=\"start\" x=\"224.75\" y=\"-3621\" font-family=\"Linux libertine\" font-size=\"10.00\">(1, 45, 64) </text>\n",
       "<polygon fill=\"none\" stroke=\"black\" points=\"173,-3591.5 173,-3613.5 220,-3613.5 220,-3591.5 173,-3591.5\"/>\n",
       "<text text-anchor=\"start\" x=\"177.75\" y=\"-3599\" font-family=\"Linux libertine\" font-size=\"10.00\">output: </text>\n",
       "<polygon fill=\"none\" stroke=\"black\" points=\"220,-3591.5 220,-3613.5 282,-3613.5 282,-3591.5 220,-3591.5\"/>\n",
       "<text text-anchor=\"start\" x=\"224.75\" y=\"-3599\" font-family=\"Linux libertine\" font-size=\"10.00\">(1, 45, 64) </text>\n",
       "</g>\n",
       "<!-- 12&#45;&gt;13 -->\n",
       "<g id=\"edge15\" class=\"edge\">\n",
       "<title>12&#45;&gt;13</title>\n",
       "<path fill=\"none\" stroke=\"black\" d=\"M144.26,-3671.6C152.03,-3662.94 161.17,-3652.76 169.56,-3643.41\"/>\n",
       "<polygon fill=\"black\" stroke=\"black\" points=\"171.62,-3646.24 175.69,-3636.46 166.41,-3641.57 171.62,-3646.24\"/>\n",
       "</g>\n",
       "<!-- 15 -->\n",
       "<g id=\"node16\" class=\"node\">\n",
       "<title>15</title>\n",
       "<polygon fill=\"aliceblue\" stroke=\"none\" points=\"225,-3475.5 52,-3475.5 52,-3431.5 225,-3431.5 225,-3475.5\"/>\n",
       "<polygon fill=\"none\" stroke=\"black\" points=\"52,-3431.5 52,-3475.5 98,-3475.5 98,-3431.5 52,-3431.5\"/>\n",
       "<text text-anchor=\"start\" x=\"66\" y=\"-3456.75\" font-family=\"Linux libertine\" font-size=\"10.00\">add</text>\n",
       "<text text-anchor=\"start\" x=\"56.62\" y=\"-3444\" font-family=\"Linux libertine\" font-size=\"10.00\">depth:4</text>\n",
       "<polygon fill=\"none\" stroke=\"black\" points=\"98,-3453.5 98,-3475.5 145,-3475.5 145,-3453.5 98,-3453.5\"/>\n",
       "<text text-anchor=\"start\" x=\"107.62\" y=\"-3461\" font-family=\"Linux libertine\" font-size=\"10.00\">input:</text>\n",
       "<polygon fill=\"none\" stroke=\"black\" points=\"145,-3453.5 145,-3475.5 225,-3475.5 225,-3453.5 145,-3453.5\"/>\n",
       "<text text-anchor=\"start\" x=\"149.75\" y=\"-3461\" font-family=\"Linux libertine\" font-size=\"10.00\">2 x (1, 45, 64) </text>\n",
       "<polygon fill=\"none\" stroke=\"black\" points=\"98,-3431.5 98,-3453.5 145,-3453.5 145,-3431.5 98,-3431.5\"/>\n",
       "<text text-anchor=\"start\" x=\"102.75\" y=\"-3439\" font-family=\"Linux libertine\" font-size=\"10.00\">output: </text>\n",
       "<polygon fill=\"none\" stroke=\"black\" points=\"145,-3431.5 145,-3453.5 225,-3453.5 225,-3431.5 145,-3431.5\"/>\n",
       "<text text-anchor=\"start\" x=\"158.75\" y=\"-3439\" font-family=\"Linux libertine\" font-size=\"10.00\">(1, 45, 64) </text>\n",
       "</g>\n",
       "<!-- 12&#45;&gt;15 -->\n",
       "<g id=\"edge16\" class=\"edge\">\n",
       "<title>12&#45;&gt;15</title>\n",
       "<path fill=\"none\" stroke=\"black\" d=\"M113.61,-3671.54C95.74,-3637.18 66.24,-3567.14 87.5,-3511.5 91.45,-3501.17 98.22,-3491.54 105.56,-3483.23\"/>\n",
       "<polygon fill=\"black\" stroke=\"black\" points=\"107.66,-3486.05 112.01,-3476.39 102.59,-3481.23 107.66,-3486.05\"/>\n",
       "</g>\n",
       "<!-- 14 -->\n",
       "<g id=\"node15\" class=\"node\">\n",
       "<title>14</title>\n",
       "<polygon fill=\"#c1ffc1\" stroke=\"none\" points=\"320,-3555.5 97,-3555.5 97,-3511.5 320,-3511.5 320,-3555.5\"/>\n",
       "<polygon fill=\"none\" stroke=\"black\" points=\"97,-3511.5 97,-3555.5 143,-3555.5 143,-3511.5 97,-3511.5\"/>\n",
       "<text text-anchor=\"start\" x=\"106.88\" y=\"-3536.75\" font-family=\"Linux libertine\" font-size=\"10.00\">LSTM</text>\n",
       "<text text-anchor=\"start\" x=\"101.62\" y=\"-3524\" font-family=\"Linux libertine\" font-size=\"10.00\">depth:4</text>\n",
       "<polygon fill=\"none\" stroke=\"black\" points=\"143,-3533.5 143,-3555.5 190,-3555.5 190,-3533.5 143,-3533.5\"/>\n",
       "<text text-anchor=\"start\" x=\"152.62\" y=\"-3541\" font-family=\"Linux libertine\" font-size=\"10.00\">input:</text>\n",
       "<polygon fill=\"none\" stroke=\"black\" points=\"190,-3533.5 190,-3555.5 320,-3555.5 320,-3533.5 190,-3533.5\"/>\n",
       "<text text-anchor=\"start\" x=\"228.75\" y=\"-3541\" font-family=\"Linux libertine\" font-size=\"10.00\">(1, 45, 64) </text>\n",
       "<polygon fill=\"none\" stroke=\"black\" points=\"143,-3511.5 143,-3533.5 190,-3533.5 190,-3511.5 143,-3511.5\"/>\n",
       "<text text-anchor=\"start\" x=\"147.75\" y=\"-3519\" font-family=\"Linux libertine\" font-size=\"10.00\">output: </text>\n",
       "<polygon fill=\"none\" stroke=\"black\" points=\"190,-3511.5 190,-3533.5 320,-3533.5 320,-3511.5 190,-3511.5\"/>\n",
       "<text text-anchor=\"start\" x=\"195\" y=\"-3519\" font-family=\"Linux libertine\" font-size=\"10.00\">(1, 45, 64), 2 x (2, 1, 32) </text>\n",
       "</g>\n",
       "<!-- 13&#45;&gt;14 -->\n",
       "<g id=\"edge17\" class=\"edge\">\n",
       "<title>13&#45;&gt;14</title>\n",
       "<path fill=\"none\" stroke=\"black\" d=\"M198.98,-3591.6C200.28,-3583.82 201.78,-3574.8 203.21,-3566.26\"/>\n",
       "<polygon fill=\"black\" stroke=\"black\" points=\"206.81,-3566.9 205.01,-3556.46 199.91,-3565.75 206.81,-3566.9\"/>\n",
       "</g>\n",
       "<!-- 14&#45;&gt;15 -->\n",
       "<g id=\"edge18\" class=\"edge\">\n",
       "<title>14&#45;&gt;15</title>\n",
       "<path fill=\"none\" stroke=\"black\" d=\"M189.74,-3511.6C181.97,-3502.94 172.83,-3492.76 164.44,-3483.41\"/>\n",
       "<polygon fill=\"black\" stroke=\"black\" points=\"167.59,-3481.57 158.31,-3476.46 162.38,-3486.24 167.59,-3481.57\"/>\n",
       "</g>\n",
       "<!-- 16 -->\n",
       "<g id=\"node17\" class=\"node\">\n",
       "<title>16</title>\n",
       "<polygon fill=\"#c1ffc1\" stroke=\"none\" points=\"295,-3395.5 122,-3395.5 122,-3351.5 295,-3351.5 295,-3395.5\"/>\n",
       "<polygon fill=\"none\" stroke=\"black\" points=\"122,-3351.5 122,-3395.5 186,-3395.5 186,-3351.5 122,-3351.5\"/>\n",
       "<text text-anchor=\"start\" x=\"127\" y=\"-3376.75\" font-family=\"Linux libertine\" font-size=\"10.00\">LayerNorm</text>\n",
       "<text text-anchor=\"start\" x=\"135.62\" y=\"-3364\" font-family=\"Linux libertine\" font-size=\"10.00\">depth:4</text>\n",
       "<polygon fill=\"none\" stroke=\"black\" points=\"186,-3373.5 186,-3395.5 233,-3395.5 233,-3373.5 186,-3373.5\"/>\n",
       "<text text-anchor=\"start\" x=\"195.62\" y=\"-3381\" font-family=\"Linux libertine\" font-size=\"10.00\">input:</text>\n",
       "<polygon fill=\"none\" stroke=\"black\" points=\"233,-3373.5 233,-3395.5 295,-3395.5 295,-3373.5 233,-3373.5\"/>\n",
       "<text text-anchor=\"start\" x=\"237.75\" y=\"-3381\" font-family=\"Linux libertine\" font-size=\"10.00\">(1, 45, 64) </text>\n",
       "<polygon fill=\"none\" stroke=\"black\" points=\"186,-3351.5 186,-3373.5 233,-3373.5 233,-3351.5 186,-3351.5\"/>\n",
       "<text text-anchor=\"start\" x=\"190.75\" y=\"-3359\" font-family=\"Linux libertine\" font-size=\"10.00\">output: </text>\n",
       "<polygon fill=\"none\" stroke=\"black\" points=\"233,-3351.5 233,-3373.5 295,-3373.5 295,-3351.5 233,-3351.5\"/>\n",
       "<text text-anchor=\"start\" x=\"237.75\" y=\"-3359\" font-family=\"Linux libertine\" font-size=\"10.00\">(1, 45, 64) </text>\n",
       "</g>\n",
       "<!-- 15&#45;&gt;16 -->\n",
       "<g id=\"edge19\" class=\"edge\">\n",
       "<title>15&#45;&gt;16</title>\n",
       "<path fill=\"none\" stroke=\"black\" d=\"M157.26,-3431.6C165.03,-3422.94 174.17,-3412.76 182.56,-3403.41\"/>\n",
       "<polygon fill=\"black\" stroke=\"black\" points=\"184.62,-3406.24 188.69,-3396.46 179.41,-3401.57 184.62,-3406.24\"/>\n",
       "</g>\n",
       "<!-- 18 -->\n",
       "<g id=\"node19\" class=\"node\">\n",
       "<title>18</title>\n",
       "<polygon fill=\"aliceblue\" stroke=\"none\" points=\"238,-3235.5 65,-3235.5 65,-3191.5 238,-3191.5 238,-3235.5\"/>\n",
       "<polygon fill=\"none\" stroke=\"black\" points=\"65,-3191.5 65,-3235.5 111,-3235.5 111,-3191.5 65,-3191.5\"/>\n",
       "<text text-anchor=\"start\" x=\"79\" y=\"-3216.75\" font-family=\"Linux libertine\" font-size=\"10.00\">add</text>\n",
       "<text text-anchor=\"start\" x=\"69.62\" y=\"-3204\" font-family=\"Linux libertine\" font-size=\"10.00\">depth:4</text>\n",
       "<polygon fill=\"none\" stroke=\"black\" points=\"111,-3213.5 111,-3235.5 158,-3235.5 158,-3213.5 111,-3213.5\"/>\n",
       "<text text-anchor=\"start\" x=\"120.62\" y=\"-3221\" font-family=\"Linux libertine\" font-size=\"10.00\">input:</text>\n",
       "<polygon fill=\"none\" stroke=\"black\" points=\"158,-3213.5 158,-3235.5 238,-3235.5 238,-3213.5 158,-3213.5\"/>\n",
       "<text text-anchor=\"start\" x=\"162.75\" y=\"-3221\" font-family=\"Linux libertine\" font-size=\"10.00\">2 x (1, 45, 64) </text>\n",
       "<polygon fill=\"none\" stroke=\"black\" points=\"111,-3191.5 111,-3213.5 158,-3213.5 158,-3191.5 111,-3191.5\"/>\n",
       "<text text-anchor=\"start\" x=\"115.75\" y=\"-3199\" font-family=\"Linux libertine\" font-size=\"10.00\">output: </text>\n",
       "<polygon fill=\"none\" stroke=\"black\" points=\"158,-3191.5 158,-3213.5 238,-3213.5 238,-3191.5 158,-3191.5\"/>\n",
       "<text text-anchor=\"start\" x=\"171.75\" y=\"-3199\" font-family=\"Linux libertine\" font-size=\"10.00\">(1, 45, 64) </text>\n",
       "</g>\n",
       "<!-- 15&#45;&gt;18 -->\n",
       "<g id=\"edge20\" class=\"edge\">\n",
       "<title>15&#45;&gt;18</title>\n",
       "<path fill=\"none\" stroke=\"black\" d=\"M126.61,-3431.54C108.74,-3397.18 79.24,-3327.14 100.5,-3271.5 104.45,-3261.17 111.22,-3251.54 118.56,-3243.23\"/>\n",
       "<polygon fill=\"black\" stroke=\"black\" points=\"120.66,-3246.05 125.01,-3236.39 115.59,-3241.23 120.66,-3246.05\"/>\n",
       "</g>\n",
       "<!-- 17 -->\n",
       "<g id=\"node18\" class=\"node\">\n",
       "<title>17</title>\n",
       "<polygon fill=\"#c1ffc1\" stroke=\"none\" points=\"333,-3315.5 110,-3315.5 110,-3271.5 333,-3271.5 333,-3315.5\"/>\n",
       "<polygon fill=\"none\" stroke=\"black\" points=\"110,-3271.5 110,-3315.5 156,-3315.5 156,-3271.5 110,-3271.5\"/>\n",
       "<text text-anchor=\"start\" x=\"119.88\" y=\"-3296.75\" font-family=\"Linux libertine\" font-size=\"10.00\">LSTM</text>\n",
       "<text text-anchor=\"start\" x=\"114.62\" y=\"-3284\" font-family=\"Linux libertine\" font-size=\"10.00\">depth:4</text>\n",
       "<polygon fill=\"none\" stroke=\"black\" points=\"156,-3293.5 156,-3315.5 203,-3315.5 203,-3293.5 156,-3293.5\"/>\n",
       "<text text-anchor=\"start\" x=\"165.62\" y=\"-3301\" font-family=\"Linux libertine\" font-size=\"10.00\">input:</text>\n",
       "<polygon fill=\"none\" stroke=\"black\" points=\"203,-3293.5 203,-3315.5 333,-3315.5 333,-3293.5 203,-3293.5\"/>\n",
       "<text text-anchor=\"start\" x=\"241.75\" y=\"-3301\" font-family=\"Linux libertine\" font-size=\"10.00\">(1, 45, 64) </text>\n",
       "<polygon fill=\"none\" stroke=\"black\" points=\"156,-3271.5 156,-3293.5 203,-3293.5 203,-3271.5 156,-3271.5\"/>\n",
       "<text text-anchor=\"start\" x=\"160.75\" y=\"-3279\" font-family=\"Linux libertine\" font-size=\"10.00\">output: </text>\n",
       "<polygon fill=\"none\" stroke=\"black\" points=\"203,-3271.5 203,-3293.5 333,-3293.5 333,-3271.5 203,-3271.5\"/>\n",
       "<text text-anchor=\"start\" x=\"208\" y=\"-3279\" font-family=\"Linux libertine\" font-size=\"10.00\">(1, 45, 64), 2 x (2, 1, 32) </text>\n",
       "</g>\n",
       "<!-- 16&#45;&gt;17 -->\n",
       "<g id=\"edge21\" class=\"edge\">\n",
       "<title>16&#45;&gt;17</title>\n",
       "<path fill=\"none\" stroke=\"black\" d=\"M211.98,-3351.6C213.28,-3343.82 214.78,-3334.8 216.21,-3326.26\"/>\n",
       "<polygon fill=\"black\" stroke=\"black\" points=\"219.81,-3326.9 218.01,-3316.46 212.91,-3325.75 219.81,-3326.9\"/>\n",
       "</g>\n",
       "<!-- 17&#45;&gt;18 -->\n",
       "<g id=\"edge22\" class=\"edge\">\n",
       "<title>17&#45;&gt;18</title>\n",
       "<path fill=\"none\" stroke=\"black\" d=\"M202.74,-3271.6C194.97,-3262.94 185.83,-3252.76 177.44,-3243.41\"/>\n",
       "<polygon fill=\"black\" stroke=\"black\" points=\"180.59,-3241.57 171.31,-3236.46 175.38,-3246.24 180.59,-3241.57\"/>\n",
       "</g>\n",
       "<!-- 19 -->\n",
       "<g id=\"node20\" class=\"node\">\n",
       "<title>19</title>\n",
       "<polygon fill=\"#c1ffc1\" stroke=\"none\" points=\"308,-3155.5 135,-3155.5 135,-3111.5 308,-3111.5 308,-3155.5\"/>\n",
       "<polygon fill=\"none\" stroke=\"black\" points=\"135,-3111.5 135,-3155.5 199,-3155.5 199,-3111.5 135,-3111.5\"/>\n",
       "<text text-anchor=\"start\" x=\"140\" y=\"-3136.75\" font-family=\"Linux libertine\" font-size=\"10.00\">LayerNorm</text>\n",
       "<text text-anchor=\"start\" x=\"148.62\" y=\"-3124\" font-family=\"Linux libertine\" font-size=\"10.00\">depth:4</text>\n",
       "<polygon fill=\"none\" stroke=\"black\" points=\"199,-3133.5 199,-3155.5 246,-3155.5 246,-3133.5 199,-3133.5\"/>\n",
       "<text text-anchor=\"start\" x=\"208.62\" y=\"-3141\" font-family=\"Linux libertine\" font-size=\"10.00\">input:</text>\n",
       "<polygon fill=\"none\" stroke=\"black\" points=\"246,-3133.5 246,-3155.5 308,-3155.5 308,-3133.5 246,-3133.5\"/>\n",
       "<text text-anchor=\"start\" x=\"250.75\" y=\"-3141\" font-family=\"Linux libertine\" font-size=\"10.00\">(1, 45, 64) </text>\n",
       "<polygon fill=\"none\" stroke=\"black\" points=\"199,-3111.5 199,-3133.5 246,-3133.5 246,-3111.5 199,-3111.5\"/>\n",
       "<text text-anchor=\"start\" x=\"203.75\" y=\"-3119\" font-family=\"Linux libertine\" font-size=\"10.00\">output: </text>\n",
       "<polygon fill=\"none\" stroke=\"black\" points=\"246,-3111.5 246,-3133.5 308,-3133.5 308,-3111.5 246,-3111.5\"/>\n",
       "<text text-anchor=\"start\" x=\"250.75\" y=\"-3119\" font-family=\"Linux libertine\" font-size=\"10.00\">(1, 45, 64) </text>\n",
       "</g>\n",
       "<!-- 18&#45;&gt;19 -->\n",
       "<g id=\"edge23\" class=\"edge\">\n",
       "<title>18&#45;&gt;19</title>\n",
       "<path fill=\"none\" stroke=\"black\" d=\"M170.26,-3191.6C178.03,-3182.94 187.17,-3172.76 195.56,-3163.41\"/>\n",
       "<polygon fill=\"black\" stroke=\"black\" points=\"197.62,-3166.24 201.69,-3156.46 192.41,-3161.57 197.62,-3166.24\"/>\n",
       "</g>\n",
       "<!-- 21 -->\n",
       "<g id=\"node22\" class=\"node\">\n",
       "<title>21</title>\n",
       "<polygon fill=\"aliceblue\" stroke=\"none\" points=\"251,-2995.5 78,-2995.5 78,-2951.5 251,-2951.5 251,-2995.5\"/>\n",
       "<polygon fill=\"none\" stroke=\"black\" points=\"78,-2951.5 78,-2995.5 124,-2995.5 124,-2951.5 78,-2951.5\"/>\n",
       "<text text-anchor=\"start\" x=\"92\" y=\"-2976.75\" font-family=\"Linux libertine\" font-size=\"10.00\">add</text>\n",
       "<text text-anchor=\"start\" x=\"82.62\" y=\"-2964\" font-family=\"Linux libertine\" font-size=\"10.00\">depth:4</text>\n",
       "<polygon fill=\"none\" stroke=\"black\" points=\"124,-2973.5 124,-2995.5 171,-2995.5 171,-2973.5 124,-2973.5\"/>\n",
       "<text text-anchor=\"start\" x=\"133.62\" y=\"-2981\" font-family=\"Linux libertine\" font-size=\"10.00\">input:</text>\n",
       "<polygon fill=\"none\" stroke=\"black\" points=\"171,-2973.5 171,-2995.5 251,-2995.5 251,-2973.5 171,-2973.5\"/>\n",
       "<text text-anchor=\"start\" x=\"175.75\" y=\"-2981\" font-family=\"Linux libertine\" font-size=\"10.00\">2 x (1, 45, 64) </text>\n",
       "<polygon fill=\"none\" stroke=\"black\" points=\"124,-2951.5 124,-2973.5 171,-2973.5 171,-2951.5 124,-2951.5\"/>\n",
       "<text text-anchor=\"start\" x=\"128.75\" y=\"-2959\" font-family=\"Linux libertine\" font-size=\"10.00\">output: </text>\n",
       "<polygon fill=\"none\" stroke=\"black\" points=\"171,-2951.5 171,-2973.5 251,-2973.5 251,-2951.5 171,-2951.5\"/>\n",
       "<text text-anchor=\"start\" x=\"184.75\" y=\"-2959\" font-family=\"Linux libertine\" font-size=\"10.00\">(1, 45, 64) </text>\n",
       "</g>\n",
       "<!-- 18&#45;&gt;21 -->\n",
       "<g id=\"edge24\" class=\"edge\">\n",
       "<title>18&#45;&gt;21</title>\n",
       "<path fill=\"none\" stroke=\"black\" d=\"M139.61,-3191.54C121.74,-3157.18 92.24,-3087.14 113.5,-3031.5 117.45,-3021.17 124.22,-3011.54 131.56,-3003.23\"/>\n",
       "<polygon fill=\"black\" stroke=\"black\" points=\"133.66,-3006.05 138.01,-2996.39 128.59,-3001.23 133.66,-3006.05\"/>\n",
       "</g>\n",
       "<!-- 20 -->\n",
       "<g id=\"node21\" class=\"node\">\n",
       "<title>20</title>\n",
       "<polygon fill=\"#c1ffc1\" stroke=\"none\" points=\"346,-3075.5 123,-3075.5 123,-3031.5 346,-3031.5 346,-3075.5\"/>\n",
       "<polygon fill=\"none\" stroke=\"black\" points=\"123,-3031.5 123,-3075.5 169,-3075.5 169,-3031.5 123,-3031.5\"/>\n",
       "<text text-anchor=\"start\" x=\"132.88\" y=\"-3056.75\" font-family=\"Linux libertine\" font-size=\"10.00\">LSTM</text>\n",
       "<text text-anchor=\"start\" x=\"127.62\" y=\"-3044\" font-family=\"Linux libertine\" font-size=\"10.00\">depth:4</text>\n",
       "<polygon fill=\"none\" stroke=\"black\" points=\"169,-3053.5 169,-3075.5 216,-3075.5 216,-3053.5 169,-3053.5\"/>\n",
       "<text text-anchor=\"start\" x=\"178.62\" y=\"-3061\" font-family=\"Linux libertine\" font-size=\"10.00\">input:</text>\n",
       "<polygon fill=\"none\" stroke=\"black\" points=\"216,-3053.5 216,-3075.5 346,-3075.5 346,-3053.5 216,-3053.5\"/>\n",
       "<text text-anchor=\"start\" x=\"254.75\" y=\"-3061\" font-family=\"Linux libertine\" font-size=\"10.00\">(1, 45, 64) </text>\n",
       "<polygon fill=\"none\" stroke=\"black\" points=\"169,-3031.5 169,-3053.5 216,-3053.5 216,-3031.5 169,-3031.5\"/>\n",
       "<text text-anchor=\"start\" x=\"173.75\" y=\"-3039\" font-family=\"Linux libertine\" font-size=\"10.00\">output: </text>\n",
       "<polygon fill=\"none\" stroke=\"black\" points=\"216,-3031.5 216,-3053.5 346,-3053.5 346,-3031.5 216,-3031.5\"/>\n",
       "<text text-anchor=\"start\" x=\"221\" y=\"-3039\" font-family=\"Linux libertine\" font-size=\"10.00\">(1, 45, 64), 2 x (2, 1, 32) </text>\n",
       "</g>\n",
       "<!-- 19&#45;&gt;20 -->\n",
       "<g id=\"edge25\" class=\"edge\">\n",
       "<title>19&#45;&gt;20</title>\n",
       "<path fill=\"none\" stroke=\"black\" d=\"M224.98,-3111.6C226.28,-3103.82 227.78,-3094.8 229.21,-3086.26\"/>\n",
       "<polygon fill=\"black\" stroke=\"black\" points=\"232.81,-3086.9 231.01,-3076.46 225.91,-3085.75 232.81,-3086.9\"/>\n",
       "</g>\n",
       "<!-- 20&#45;&gt;21 -->\n",
       "<g id=\"edge26\" class=\"edge\">\n",
       "<title>20&#45;&gt;21</title>\n",
       "<path fill=\"none\" stroke=\"black\" d=\"M215.74,-3031.6C207.97,-3022.94 198.83,-3012.76 190.44,-3003.41\"/>\n",
       "<polygon fill=\"black\" stroke=\"black\" points=\"193.59,-3001.57 184.31,-2996.46 188.38,-3006.24 193.59,-3001.57\"/>\n",
       "</g>\n",
       "<!-- 22 -->\n",
       "<g id=\"node23\" class=\"node\">\n",
       "<title>22</title>\n",
       "<polygon fill=\"#c1ffc1\" stroke=\"none\" points=\"321,-2915.5 148,-2915.5 148,-2871.5 321,-2871.5 321,-2915.5\"/>\n",
       "<polygon fill=\"none\" stroke=\"black\" points=\"148,-2871.5 148,-2915.5 212,-2915.5 212,-2871.5 148,-2871.5\"/>\n",
       "<text text-anchor=\"start\" x=\"153\" y=\"-2896.75\" font-family=\"Linux libertine\" font-size=\"10.00\">LayerNorm</text>\n",
       "<text text-anchor=\"start\" x=\"161.62\" y=\"-2884\" font-family=\"Linux libertine\" font-size=\"10.00\">depth:4</text>\n",
       "<polygon fill=\"none\" stroke=\"black\" points=\"212,-2893.5 212,-2915.5 259,-2915.5 259,-2893.5 212,-2893.5\"/>\n",
       "<text text-anchor=\"start\" x=\"221.62\" y=\"-2901\" font-family=\"Linux libertine\" font-size=\"10.00\">input:</text>\n",
       "<polygon fill=\"none\" stroke=\"black\" points=\"259,-2893.5 259,-2915.5 321,-2915.5 321,-2893.5 259,-2893.5\"/>\n",
       "<text text-anchor=\"start\" x=\"263.75\" y=\"-2901\" font-family=\"Linux libertine\" font-size=\"10.00\">(1, 45, 64) </text>\n",
       "<polygon fill=\"none\" stroke=\"black\" points=\"212,-2871.5 212,-2893.5 259,-2893.5 259,-2871.5 212,-2871.5\"/>\n",
       "<text text-anchor=\"start\" x=\"216.75\" y=\"-2879\" font-family=\"Linux libertine\" font-size=\"10.00\">output: </text>\n",
       "<polygon fill=\"none\" stroke=\"black\" points=\"259,-2871.5 259,-2893.5 321,-2893.5 321,-2871.5 259,-2871.5\"/>\n",
       "<text text-anchor=\"start\" x=\"263.75\" y=\"-2879\" font-family=\"Linux libertine\" font-size=\"10.00\">(1, 45, 64) </text>\n",
       "</g>\n",
       "<!-- 21&#45;&gt;22 -->\n",
       "<g id=\"edge27\" class=\"edge\">\n",
       "<title>21&#45;&gt;22</title>\n",
       "<path fill=\"none\" stroke=\"black\" d=\"M183.26,-2951.6C191.03,-2942.94 200.17,-2932.76 208.56,-2923.41\"/>\n",
       "<polygon fill=\"black\" stroke=\"black\" points=\"210.62,-2926.24 214.69,-2916.46 205.41,-2921.57 210.62,-2926.24\"/>\n",
       "</g>\n",
       "<!-- 24 -->\n",
       "<g id=\"node25\" class=\"node\">\n",
       "<title>24</title>\n",
       "<polygon fill=\"aliceblue\" stroke=\"none\" points=\"264,-2755.5 91,-2755.5 91,-2711.5 264,-2711.5 264,-2755.5\"/>\n",
       "<polygon fill=\"none\" stroke=\"black\" points=\"91,-2711.5 91,-2755.5 137,-2755.5 137,-2711.5 91,-2711.5\"/>\n",
       "<text text-anchor=\"start\" x=\"105\" y=\"-2736.75\" font-family=\"Linux libertine\" font-size=\"10.00\">add</text>\n",
       "<text text-anchor=\"start\" x=\"95.62\" y=\"-2724\" font-family=\"Linux libertine\" font-size=\"10.00\">depth:4</text>\n",
       "<polygon fill=\"none\" stroke=\"black\" points=\"137,-2733.5 137,-2755.5 184,-2755.5 184,-2733.5 137,-2733.5\"/>\n",
       "<text text-anchor=\"start\" x=\"146.62\" y=\"-2741\" font-family=\"Linux libertine\" font-size=\"10.00\">input:</text>\n",
       "<polygon fill=\"none\" stroke=\"black\" points=\"184,-2733.5 184,-2755.5 264,-2755.5 264,-2733.5 184,-2733.5\"/>\n",
       "<text text-anchor=\"start\" x=\"188.75\" y=\"-2741\" font-family=\"Linux libertine\" font-size=\"10.00\">2 x (1, 45, 64) </text>\n",
       "<polygon fill=\"none\" stroke=\"black\" points=\"137,-2711.5 137,-2733.5 184,-2733.5 184,-2711.5 137,-2711.5\"/>\n",
       "<text text-anchor=\"start\" x=\"141.75\" y=\"-2719\" font-family=\"Linux libertine\" font-size=\"10.00\">output: </text>\n",
       "<polygon fill=\"none\" stroke=\"black\" points=\"184,-2711.5 184,-2733.5 264,-2733.5 264,-2711.5 184,-2711.5\"/>\n",
       "<text text-anchor=\"start\" x=\"197.75\" y=\"-2719\" font-family=\"Linux libertine\" font-size=\"10.00\">(1, 45, 64) </text>\n",
       "</g>\n",
       "<!-- 21&#45;&gt;24 -->\n",
       "<g id=\"edge28\" class=\"edge\">\n",
       "<title>21&#45;&gt;24</title>\n",
       "<path fill=\"none\" stroke=\"black\" d=\"M152.61,-2951.54C134.74,-2917.18 105.24,-2847.14 126.5,-2791.5 130.45,-2781.17 137.22,-2771.54 144.56,-2763.23\"/>\n",
       "<polygon fill=\"black\" stroke=\"black\" points=\"146.66,-2766.05 151.01,-2756.39 141.59,-2761.23 146.66,-2766.05\"/>\n",
       "</g>\n",
       "<!-- 23 -->\n",
       "<g id=\"node24\" class=\"node\">\n",
       "<title>23</title>\n",
       "<polygon fill=\"#c1ffc1\" stroke=\"none\" points=\"359,-2835.5 136,-2835.5 136,-2791.5 359,-2791.5 359,-2835.5\"/>\n",
       "<polygon fill=\"none\" stroke=\"black\" points=\"136,-2791.5 136,-2835.5 182,-2835.5 182,-2791.5 136,-2791.5\"/>\n",
       "<text text-anchor=\"start\" x=\"145.88\" y=\"-2816.75\" font-family=\"Linux libertine\" font-size=\"10.00\">LSTM</text>\n",
       "<text text-anchor=\"start\" x=\"140.62\" y=\"-2804\" font-family=\"Linux libertine\" font-size=\"10.00\">depth:4</text>\n",
       "<polygon fill=\"none\" stroke=\"black\" points=\"182,-2813.5 182,-2835.5 229,-2835.5 229,-2813.5 182,-2813.5\"/>\n",
       "<text text-anchor=\"start\" x=\"191.62\" y=\"-2821\" font-family=\"Linux libertine\" font-size=\"10.00\">input:</text>\n",
       "<polygon fill=\"none\" stroke=\"black\" points=\"229,-2813.5 229,-2835.5 359,-2835.5 359,-2813.5 229,-2813.5\"/>\n",
       "<text text-anchor=\"start\" x=\"267.75\" y=\"-2821\" font-family=\"Linux libertine\" font-size=\"10.00\">(1, 45, 64) </text>\n",
       "<polygon fill=\"none\" stroke=\"black\" points=\"182,-2791.5 182,-2813.5 229,-2813.5 229,-2791.5 182,-2791.5\"/>\n",
       "<text text-anchor=\"start\" x=\"186.75\" y=\"-2799\" font-family=\"Linux libertine\" font-size=\"10.00\">output: </text>\n",
       "<polygon fill=\"none\" stroke=\"black\" points=\"229,-2791.5 229,-2813.5 359,-2813.5 359,-2791.5 229,-2791.5\"/>\n",
       "<text text-anchor=\"start\" x=\"234\" y=\"-2799\" font-family=\"Linux libertine\" font-size=\"10.00\">(1, 45, 64), 2 x (2, 1, 32) </text>\n",
       "</g>\n",
       "<!-- 22&#45;&gt;23 -->\n",
       "<g id=\"edge29\" class=\"edge\">\n",
       "<title>22&#45;&gt;23</title>\n",
       "<path fill=\"none\" stroke=\"black\" d=\"M237.98,-2871.6C239.28,-2863.82 240.78,-2854.8 242.21,-2846.26\"/>\n",
       "<polygon fill=\"black\" stroke=\"black\" points=\"245.81,-2846.9 244.01,-2836.46 238.91,-2845.75 245.81,-2846.9\"/>\n",
       "</g>\n",
       "<!-- 23&#45;&gt;24 -->\n",
       "<g id=\"edge30\" class=\"edge\">\n",
       "<title>23&#45;&gt;24</title>\n",
       "<path fill=\"none\" stroke=\"black\" d=\"M228.74,-2791.6C220.97,-2782.94 211.83,-2772.76 203.44,-2763.41\"/>\n",
       "<polygon fill=\"black\" stroke=\"black\" points=\"206.59,-2761.57 197.31,-2756.46 201.38,-2766.24 206.59,-2761.57\"/>\n",
       "</g>\n",
       "<!-- 25 -->\n",
       "<g id=\"node26\" class=\"node\">\n",
       "<title>25</title>\n",
       "<polygon fill=\"#c1ffc1\" stroke=\"none\" points=\"334,-2675.5 161,-2675.5 161,-2631.5 334,-2631.5 334,-2675.5\"/>\n",
       "<polygon fill=\"none\" stroke=\"black\" points=\"161,-2631.5 161,-2675.5 225,-2675.5 225,-2631.5 161,-2631.5\"/>\n",
       "<text text-anchor=\"start\" x=\"166\" y=\"-2656.75\" font-family=\"Linux libertine\" font-size=\"10.00\">LayerNorm</text>\n",
       "<text text-anchor=\"start\" x=\"174.62\" y=\"-2644\" font-family=\"Linux libertine\" font-size=\"10.00\">depth:4</text>\n",
       "<polygon fill=\"none\" stroke=\"black\" points=\"225,-2653.5 225,-2675.5 272,-2675.5 272,-2653.5 225,-2653.5\"/>\n",
       "<text text-anchor=\"start\" x=\"234.62\" y=\"-2661\" font-family=\"Linux libertine\" font-size=\"10.00\">input:</text>\n",
       "<polygon fill=\"none\" stroke=\"black\" points=\"272,-2653.5 272,-2675.5 334,-2675.5 334,-2653.5 272,-2653.5\"/>\n",
       "<text text-anchor=\"start\" x=\"276.75\" y=\"-2661\" font-family=\"Linux libertine\" font-size=\"10.00\">(1, 45, 64) </text>\n",
       "<polygon fill=\"none\" stroke=\"black\" points=\"225,-2631.5 225,-2653.5 272,-2653.5 272,-2631.5 225,-2631.5\"/>\n",
       "<text text-anchor=\"start\" x=\"229.75\" y=\"-2639\" font-family=\"Linux libertine\" font-size=\"10.00\">output: </text>\n",
       "<polygon fill=\"none\" stroke=\"black\" points=\"272,-2631.5 272,-2653.5 334,-2653.5 334,-2631.5 272,-2631.5\"/>\n",
       "<text text-anchor=\"start\" x=\"276.75\" y=\"-2639\" font-family=\"Linux libertine\" font-size=\"10.00\">(1, 45, 64) </text>\n",
       "</g>\n",
       "<!-- 24&#45;&gt;25 -->\n",
       "<g id=\"edge31\" class=\"edge\">\n",
       "<title>24&#45;&gt;25</title>\n",
       "<path fill=\"none\" stroke=\"black\" d=\"M196.26,-2711.6C204.03,-2702.94 213.17,-2692.76 221.56,-2683.41\"/>\n",
       "<polygon fill=\"black\" stroke=\"black\" points=\"223.62,-2686.24 227.69,-2676.46 218.41,-2681.57 223.62,-2686.24\"/>\n",
       "</g>\n",
       "<!-- 27 -->\n",
       "<g id=\"node28\" class=\"node\">\n",
       "<title>27</title>\n",
       "<polygon fill=\"aliceblue\" stroke=\"none\" points=\"277,-2515.5 104,-2515.5 104,-2471.5 277,-2471.5 277,-2515.5\"/>\n",
       "<polygon fill=\"none\" stroke=\"black\" points=\"104,-2471.5 104,-2515.5 150,-2515.5 150,-2471.5 104,-2471.5\"/>\n",
       "<text text-anchor=\"start\" x=\"118\" y=\"-2496.75\" font-family=\"Linux libertine\" font-size=\"10.00\">add</text>\n",
       "<text text-anchor=\"start\" x=\"108.62\" y=\"-2484\" font-family=\"Linux libertine\" font-size=\"10.00\">depth:4</text>\n",
       "<polygon fill=\"none\" stroke=\"black\" points=\"150,-2493.5 150,-2515.5 197,-2515.5 197,-2493.5 150,-2493.5\"/>\n",
       "<text text-anchor=\"start\" x=\"159.62\" y=\"-2501\" font-family=\"Linux libertine\" font-size=\"10.00\">input:</text>\n",
       "<polygon fill=\"none\" stroke=\"black\" points=\"197,-2493.5 197,-2515.5 277,-2515.5 277,-2493.5 197,-2493.5\"/>\n",
       "<text text-anchor=\"start\" x=\"201.75\" y=\"-2501\" font-family=\"Linux libertine\" font-size=\"10.00\">2 x (1, 45, 64) </text>\n",
       "<polygon fill=\"none\" stroke=\"black\" points=\"150,-2471.5 150,-2493.5 197,-2493.5 197,-2471.5 150,-2471.5\"/>\n",
       "<text text-anchor=\"start\" x=\"154.75\" y=\"-2479\" font-family=\"Linux libertine\" font-size=\"10.00\">output: </text>\n",
       "<polygon fill=\"none\" stroke=\"black\" points=\"197,-2471.5 197,-2493.5 277,-2493.5 277,-2471.5 197,-2471.5\"/>\n",
       "<text text-anchor=\"start\" x=\"210.75\" y=\"-2479\" font-family=\"Linux libertine\" font-size=\"10.00\">(1, 45, 64) </text>\n",
       "</g>\n",
       "<!-- 24&#45;&gt;27 -->\n",
       "<g id=\"edge32\" class=\"edge\">\n",
       "<title>24&#45;&gt;27</title>\n",
       "<path fill=\"none\" stroke=\"black\" d=\"M165.61,-2711.54C147.74,-2677.18 118.24,-2607.14 139.5,-2551.5 143.45,-2541.17 150.22,-2531.54 157.56,-2523.23\"/>\n",
       "<polygon fill=\"black\" stroke=\"black\" points=\"159.66,-2526.05 164.01,-2516.39 154.59,-2521.23 159.66,-2526.05\"/>\n",
       "</g>\n",
       "<!-- 26 -->\n",
       "<g id=\"node27\" class=\"node\">\n",
       "<title>26</title>\n",
       "<polygon fill=\"#c1ffc1\" stroke=\"none\" points=\"372,-2595.5 149,-2595.5 149,-2551.5 372,-2551.5 372,-2595.5\"/>\n",
       "<polygon fill=\"none\" stroke=\"black\" points=\"149,-2551.5 149,-2595.5 195,-2595.5 195,-2551.5 149,-2551.5\"/>\n",
       "<text text-anchor=\"start\" x=\"158.88\" y=\"-2576.75\" font-family=\"Linux libertine\" font-size=\"10.00\">LSTM</text>\n",
       "<text text-anchor=\"start\" x=\"153.62\" y=\"-2564\" font-family=\"Linux libertine\" font-size=\"10.00\">depth:4</text>\n",
       "<polygon fill=\"none\" stroke=\"black\" points=\"195,-2573.5 195,-2595.5 242,-2595.5 242,-2573.5 195,-2573.5\"/>\n",
       "<text text-anchor=\"start\" x=\"204.62\" y=\"-2581\" font-family=\"Linux libertine\" font-size=\"10.00\">input:</text>\n",
       "<polygon fill=\"none\" stroke=\"black\" points=\"242,-2573.5 242,-2595.5 372,-2595.5 372,-2573.5 242,-2573.5\"/>\n",
       "<text text-anchor=\"start\" x=\"280.75\" y=\"-2581\" font-family=\"Linux libertine\" font-size=\"10.00\">(1, 45, 64) </text>\n",
       "<polygon fill=\"none\" stroke=\"black\" points=\"195,-2551.5 195,-2573.5 242,-2573.5 242,-2551.5 195,-2551.5\"/>\n",
       "<text text-anchor=\"start\" x=\"199.75\" y=\"-2559\" font-family=\"Linux libertine\" font-size=\"10.00\">output: </text>\n",
       "<polygon fill=\"none\" stroke=\"black\" points=\"242,-2551.5 242,-2573.5 372,-2573.5 372,-2551.5 242,-2551.5\"/>\n",
       "<text text-anchor=\"start\" x=\"247\" y=\"-2559\" font-family=\"Linux libertine\" font-size=\"10.00\">(1, 45, 64), 2 x (2, 1, 32) </text>\n",
       "</g>\n",
       "<!-- 25&#45;&gt;26 -->\n",
       "<g id=\"edge33\" class=\"edge\">\n",
       "<title>25&#45;&gt;26</title>\n",
       "<path fill=\"none\" stroke=\"black\" d=\"M250.98,-2631.6C252.28,-2623.82 253.78,-2614.8 255.21,-2606.26\"/>\n",
       "<polygon fill=\"black\" stroke=\"black\" points=\"258.81,-2606.9 257.01,-2596.46 251.91,-2605.75 258.81,-2606.9\"/>\n",
       "</g>\n",
       "<!-- 26&#45;&gt;27 -->\n",
       "<g id=\"edge34\" class=\"edge\">\n",
       "<title>26&#45;&gt;27</title>\n",
       "<path fill=\"none\" stroke=\"black\" d=\"M241.74,-2551.6C233.97,-2542.94 224.83,-2532.76 216.44,-2523.41\"/>\n",
       "<polygon fill=\"black\" stroke=\"black\" points=\"219.59,-2521.57 210.31,-2516.46 214.38,-2526.24 219.59,-2521.57\"/>\n",
       "</g>\n",
       "<!-- 28 -->\n",
       "<g id=\"node29\" class=\"node\">\n",
       "<title>28</title>\n",
       "<polygon fill=\"aliceblue\" stroke=\"none\" points=\"279.5,-2435.5 101.5,-2435.5 101.5,-2391.5 279.5,-2391.5 279.5,-2435.5\"/>\n",
       "<polygon fill=\"none\" stroke=\"black\" points=\"101.5,-2391.5 101.5,-2435.5 170.5,-2435.5 170.5,-2391.5 101.5,-2391.5\"/>\n",
       "<text text-anchor=\"start\" x=\"106.38\" y=\"-2416.75\" font-family=\"Linux libertine\" font-size=\"10.00\">__getitem__</text>\n",
       "<text text-anchor=\"start\" x=\"117.62\" y=\"-2404\" font-family=\"Linux libertine\" font-size=\"10.00\">depth:2</text>\n",
       "<polygon fill=\"none\" stroke=\"black\" points=\"170.5,-2413.5 170.5,-2435.5 217.5,-2435.5 217.5,-2413.5 170.5,-2413.5\"/>\n",
       "<text text-anchor=\"start\" x=\"180.12\" y=\"-2421\" font-family=\"Linux libertine\" font-size=\"10.00\">input:</text>\n",
       "<polygon fill=\"none\" stroke=\"black\" points=\"217.5,-2413.5 217.5,-2435.5 279.5,-2435.5 279.5,-2413.5 217.5,-2413.5\"/>\n",
       "<text text-anchor=\"start\" x=\"222.25\" y=\"-2421\" font-family=\"Linux libertine\" font-size=\"10.00\">(1, 45, 64) </text>\n",
       "<polygon fill=\"none\" stroke=\"black\" points=\"170.5,-2391.5 170.5,-2413.5 217.5,-2413.5 217.5,-2391.5 170.5,-2391.5\"/>\n",
       "<text text-anchor=\"start\" x=\"175.25\" y=\"-2399\" font-family=\"Linux libertine\" font-size=\"10.00\">output: </text>\n",
       "<polygon fill=\"none\" stroke=\"black\" points=\"217.5,-2391.5 217.5,-2413.5 279.5,-2413.5 279.5,-2391.5 217.5,-2391.5\"/>\n",
       "<text text-anchor=\"start\" x=\"231.25\" y=\"-2399\" font-family=\"Linux libertine\" font-size=\"10.00\">(1, 64) </text>\n",
       "</g>\n",
       "<!-- 27&#45;&gt;28 -->\n",
       "<g id=\"edge35\" class=\"edge\">\n",
       "<title>27&#45;&gt;28</title>\n",
       "<path fill=\"none\" stroke=\"black\" d=\"M190.5,-2471.6C190.5,-2463.82 190.5,-2454.8 190.5,-2446.26\"/>\n",
       "<polygon fill=\"black\" stroke=\"black\" points=\"194,-2446.46 190.5,-2436.46 187,-2446.46 194,-2446.46\"/>\n",
       "</g>\n",
       "<!-- 29 -->\n",
       "<g id=\"node30\" class=\"node\">\n",
       "<title>29</title>\n",
       "<polygon fill=\"aliceblue\" stroke=\"none\" points=\"273,-2355.5 108,-2355.5 108,-2311.5 273,-2311.5 273,-2355.5\"/>\n",
       "<polygon fill=\"none\" stroke=\"black\" points=\"108,-2311.5 108,-2355.5 170,-2355.5 170,-2311.5 108,-2311.5\"/>\n",
       "<text text-anchor=\"start\" x=\"112.75\" y=\"-2336.75\" font-family=\"Linux libertine\" font-size=\"10.00\">unsqueeze</text>\n",
       "<text text-anchor=\"start\" x=\"120.62\" y=\"-2324\" font-family=\"Linux libertine\" font-size=\"10.00\">depth:2</text>\n",
       "<polygon fill=\"none\" stroke=\"black\" points=\"170,-2333.5 170,-2355.5 217,-2355.5 217,-2333.5 170,-2333.5\"/>\n",
       "<text text-anchor=\"start\" x=\"179.62\" y=\"-2341\" font-family=\"Linux libertine\" font-size=\"10.00\">input:</text>\n",
       "<polygon fill=\"none\" stroke=\"black\" points=\"217,-2333.5 217,-2355.5 273,-2355.5 273,-2333.5 217,-2333.5\"/>\n",
       "<text text-anchor=\"start\" x=\"227.75\" y=\"-2341\" font-family=\"Linux libertine\" font-size=\"10.00\">(1, 64) </text>\n",
       "<polygon fill=\"none\" stroke=\"black\" points=\"170,-2311.5 170,-2333.5 217,-2333.5 217,-2311.5 170,-2311.5\"/>\n",
       "<text text-anchor=\"start\" x=\"174.75\" y=\"-2319\" font-family=\"Linux libertine\" font-size=\"10.00\">output: </text>\n",
       "<polygon fill=\"none\" stroke=\"black\" points=\"217,-2311.5 217,-2333.5 273,-2333.5 273,-2311.5 217,-2311.5\"/>\n",
       "<text text-anchor=\"start\" x=\"221.75\" y=\"-2319\" font-family=\"Linux libertine\" font-size=\"10.00\">(1, 1, 64) </text>\n",
       "</g>\n",
       "<!-- 28&#45;&gt;29 -->\n",
       "<g id=\"edge36\" class=\"edge\">\n",
       "<title>28&#45;&gt;29</title>\n",
       "<path fill=\"none\" stroke=\"black\" d=\"M190.5,-2391.6C190.5,-2383.82 190.5,-2374.8 190.5,-2366.26\"/>\n",
       "<polygon fill=\"black\" stroke=\"black\" points=\"194,-2366.46 190.5,-2356.46 187,-2366.46 194,-2366.46\"/>\n",
       "</g>\n",
       "<!-- 30 -->\n",
       "<g id=\"node31\" class=\"node\">\n",
       "<title>30</title>\n",
       "<polygon fill=\"aliceblue\" stroke=\"none\" points=\"271,-2275.5 116,-2275.5 116,-2231.5 271,-2231.5 271,-2275.5\"/>\n",
       "<polygon fill=\"none\" stroke=\"black\" points=\"116,-2231.5 116,-2275.5 162,-2275.5 162,-2231.5 116,-2231.5\"/>\n",
       "<text text-anchor=\"start\" x=\"123.25\" y=\"-2256.75\" font-family=\"Linux libertine\" font-size=\"10.00\">repeat</text>\n",
       "<text text-anchor=\"start\" x=\"120.62\" y=\"-2244\" font-family=\"Linux libertine\" font-size=\"10.00\">depth:2</text>\n",
       "<polygon fill=\"none\" stroke=\"black\" points=\"162,-2253.5 162,-2275.5 209,-2275.5 209,-2253.5 162,-2253.5\"/>\n",
       "<text text-anchor=\"start\" x=\"171.62\" y=\"-2261\" font-family=\"Linux libertine\" font-size=\"10.00\">input:</text>\n",
       "<polygon fill=\"none\" stroke=\"black\" points=\"209,-2253.5 209,-2275.5 271,-2275.5 271,-2253.5 209,-2253.5\"/>\n",
       "<text text-anchor=\"start\" x=\"216.75\" y=\"-2261\" font-family=\"Linux libertine\" font-size=\"10.00\">(1, 1, 64) </text>\n",
       "<polygon fill=\"none\" stroke=\"black\" points=\"162,-2231.5 162,-2253.5 209,-2253.5 209,-2231.5 162,-2231.5\"/>\n",
       "<text text-anchor=\"start\" x=\"166.75\" y=\"-2239\" font-family=\"Linux libertine\" font-size=\"10.00\">output: </text>\n",
       "<polygon fill=\"none\" stroke=\"black\" points=\"209,-2231.5 209,-2253.5 271,-2253.5 271,-2231.5 209,-2231.5\"/>\n",
       "<text text-anchor=\"start\" x=\"213.75\" y=\"-2239\" font-family=\"Linux libertine\" font-size=\"10.00\">(1, 44, 64) </text>\n",
       "</g>\n",
       "<!-- 29&#45;&gt;30 -->\n",
       "<g id=\"edge38\" class=\"edge\">\n",
       "<title>29&#45;&gt;30</title>\n",
       "<path fill=\"none\" stroke=\"black\" d=\"M191.3,-2311.6C191.6,-2303.82 191.95,-2294.8 192.28,-2286.26\"/>\n",
       "<polygon fill=\"black\" stroke=\"black\" points=\"195.81,-2286.59 192.69,-2276.46 188.81,-2286.32 195.81,-2286.59\"/>\n",
       "</g>\n",
       "<!-- 33 -->\n",
       "<g id=\"node34\" class=\"node\">\n",
       "<title>33</title>\n",
       "<polygon fill=\"aliceblue\" stroke=\"none\" points=\"382,-2195.5 185,-2195.5 185,-2151.5 382,-2151.5 382,-2195.5\"/>\n",
       "<polygon fill=\"none\" stroke=\"black\" points=\"185,-2151.5 185,-2195.5 255,-2195.5 255,-2151.5 185,-2151.5\"/>\n",
       "<text text-anchor=\"start\" x=\"190\" y=\"-2176.75\" font-family=\"Linux libertine\" font-size=\"10.00\">concatenate</text>\n",
       "<text text-anchor=\"start\" x=\"201.62\" y=\"-2164\" font-family=\"Linux libertine\" font-size=\"10.00\">depth:2</text>\n",
       "<polygon fill=\"none\" stroke=\"black\" points=\"255,-2173.5 255,-2195.5 302,-2195.5 302,-2173.5 255,-2173.5\"/>\n",
       "<text text-anchor=\"start\" x=\"264.62\" y=\"-2181\" font-family=\"Linux libertine\" font-size=\"10.00\">input:</text>\n",
       "<polygon fill=\"none\" stroke=\"black\" points=\"302,-2173.5 302,-2195.5 382,-2195.5 382,-2173.5 302,-2173.5\"/>\n",
       "<text text-anchor=\"start\" x=\"306.75\" y=\"-2181\" font-family=\"Linux libertine\" font-size=\"10.00\">2 x (1, 44, 64) </text>\n",
       "<polygon fill=\"none\" stroke=\"black\" points=\"255,-2151.5 255,-2173.5 302,-2173.5 302,-2151.5 255,-2151.5\"/>\n",
       "<text text-anchor=\"start\" x=\"259.75\" y=\"-2159\" font-family=\"Linux libertine\" font-size=\"10.00\">output: </text>\n",
       "<polygon fill=\"none\" stroke=\"black\" points=\"302,-2151.5 302,-2173.5 382,-2173.5 382,-2151.5 302,-2151.5\"/>\n",
       "<text text-anchor=\"start\" x=\"312.75\" y=\"-2159\" font-family=\"Linux libertine\" font-size=\"10.00\">(1, 44, 128) </text>\n",
       "</g>\n",
       "<!-- 30&#45;&gt;33 -->\n",
       "<g id=\"edge39\" class=\"edge\">\n",
       "<title>30&#45;&gt;33</title>\n",
       "<path fill=\"none\" stroke=\"black\" d=\"M217.62,-2231.6C227.91,-2222.68 240.07,-2212.14 251.13,-2202.56\"/>\n",
       "<polygon fill=\"black\" stroke=\"black\" points=\"253.05,-2204.65 258.32,-2195.46 248.47,-2199.36 253.05,-2204.65\"/>\n",
       "</g>\n",
       "<!-- 32 -->\n",
       "<g id=\"node33\" class=\"node\">\n",
       "<title>32</title>\n",
       "<polygon fill=\"#c1ffc1\" stroke=\"none\" points=\"460.5,-2275.5 290.5,-2275.5 290.5,-2231.5 460.5,-2231.5 460.5,-2275.5\"/>\n",
       "<polygon fill=\"none\" stroke=\"black\" points=\"290.5,-2231.5 290.5,-2275.5 351.5,-2275.5 351.5,-2231.5 290.5,-2231.5\"/>\n",
       "<text text-anchor=\"start\" x=\"295.5\" y=\"-2256.75\" font-family=\"Linux libertine\" font-size=\"10.00\">Dropout1d</text>\n",
       "<text text-anchor=\"start\" x=\"302.62\" y=\"-2244\" font-family=\"Linux libertine\" font-size=\"10.00\">depth:2</text>\n",
       "<polygon fill=\"none\" stroke=\"black\" points=\"351.5,-2253.5 351.5,-2275.5 398.5,-2275.5 398.5,-2253.5 351.5,-2253.5\"/>\n",
       "<text text-anchor=\"start\" x=\"361.12\" y=\"-2261\" font-family=\"Linux libertine\" font-size=\"10.00\">input:</text>\n",
       "<polygon fill=\"none\" stroke=\"black\" points=\"398.5,-2253.5 398.5,-2275.5 460.5,-2275.5 460.5,-2253.5 398.5,-2253.5\"/>\n",
       "<text text-anchor=\"start\" x=\"403.25\" y=\"-2261\" font-family=\"Linux libertine\" font-size=\"10.00\">(1, 44, 64) </text>\n",
       "<polygon fill=\"none\" stroke=\"black\" points=\"351.5,-2231.5 351.5,-2253.5 398.5,-2253.5 398.5,-2231.5 351.5,-2231.5\"/>\n",
       "<text text-anchor=\"start\" x=\"356.25\" y=\"-2239\" font-family=\"Linux libertine\" font-size=\"10.00\">output: </text>\n",
       "<polygon fill=\"none\" stroke=\"black\" points=\"398.5,-2231.5 398.5,-2253.5 460.5,-2253.5 460.5,-2231.5 398.5,-2231.5\"/>\n",
       "<text text-anchor=\"start\" x=\"403.25\" y=\"-2239\" font-family=\"Linux libertine\" font-size=\"10.00\">(1, 44, 64) </text>\n",
       "</g>\n",
       "<!-- 31&#45;&gt;32 -->\n",
       "<g id=\"edge40\" class=\"edge\">\n",
       "<title>31&#45;&gt;32</title>\n",
       "<path fill=\"none\" stroke=\"black\" d=\"M376.96,-2311.6C376.76,-2303.82 376.53,-2294.8 376.31,-2286.26\"/>\n",
       "<polygon fill=\"black\" stroke=\"black\" points=\"379.79,-2286.37 376.04,-2276.46 372.8,-2286.55 379.79,-2286.37\"/>\n",
       "</g>\n",
       "<!-- 32&#45;&gt;33 -->\n",
       "<g id=\"edge41\" class=\"edge\">\n",
       "<title>32&#45;&gt;33</title>\n",
       "<path fill=\"none\" stroke=\"black\" d=\"M350.85,-2231.6C340.33,-2222.68 327.89,-2212.14 316.59,-2202.56\"/>\n",
       "<polygon fill=\"black\" stroke=\"black\" points=\"319.11,-2199.26 309.22,-2195.46 314.59,-2204.6 319.11,-2199.26\"/>\n",
       "</g>\n",
       "<!-- 34 -->\n",
       "<g id=\"node35\" class=\"node\">\n",
       "<title>34</title>\n",
       "<polygon fill=\"#c1ffc1\" stroke=\"none\" points=\"364,-2115.5 203,-2115.5 203,-2071.5 364,-2071.5 364,-2115.5\"/>\n",
       "<polygon fill=\"none\" stroke=\"black\" points=\"203,-2071.5 203,-2115.5 249,-2115.5 249,-2071.5 203,-2071.5\"/>\n",
       "<text text-anchor=\"start\" x=\"211\" y=\"-2096.75\" font-family=\"Linux libertine\" font-size=\"10.00\">Linear</text>\n",
       "<text text-anchor=\"start\" x=\"207.62\" y=\"-2084\" font-family=\"Linux libertine\" font-size=\"10.00\">depth:2</text>\n",
       "<polygon fill=\"none\" stroke=\"black\" points=\"249,-2093.5 249,-2115.5 296,-2115.5 296,-2093.5 249,-2093.5\"/>\n",
       "<text text-anchor=\"start\" x=\"258.62\" y=\"-2101\" font-family=\"Linux libertine\" font-size=\"10.00\">input:</text>\n",
       "<polygon fill=\"none\" stroke=\"black\" points=\"296,-2093.5 296,-2115.5 364,-2115.5 364,-2093.5 296,-2093.5\"/>\n",
       "<text text-anchor=\"start\" x=\"300.75\" y=\"-2101\" font-family=\"Linux libertine\" font-size=\"10.00\">(1, 44, 128) </text>\n",
       "<polygon fill=\"none\" stroke=\"black\" points=\"249,-2071.5 249,-2093.5 296,-2093.5 296,-2071.5 249,-2071.5\"/>\n",
       "<text text-anchor=\"start\" x=\"253.75\" y=\"-2079\" font-family=\"Linux libertine\" font-size=\"10.00\">output: </text>\n",
       "<polygon fill=\"none\" stroke=\"black\" points=\"296,-2071.5 296,-2093.5 364,-2093.5 364,-2071.5 296,-2071.5\"/>\n",
       "<text text-anchor=\"start\" x=\"303.75\" y=\"-2079\" font-family=\"Linux libertine\" font-size=\"10.00\">(1, 44, 64) </text>\n",
       "</g>\n",
       "<!-- 33&#45;&gt;34 -->\n",
       "<g id=\"edge42\" class=\"edge\">\n",
       "<title>33&#45;&gt;34</title>\n",
       "<path fill=\"none\" stroke=\"black\" d=\"M283.5,-2151.6C283.5,-2143.82 283.5,-2134.8 283.5,-2126.26\"/>\n",
       "<polygon fill=\"black\" stroke=\"black\" points=\"287,-2126.46 283.5,-2116.46 280,-2126.46 287,-2126.46\"/>\n",
       "</g>\n",
       "<!-- 35 -->\n",
       "<g id=\"node36\" class=\"node\">\n",
       "<title>35</title>\n",
       "<polygon fill=\"#c1ffc1\" stroke=\"none\" points=\"440,-2035.5 267,-2035.5 267,-1991.5 440,-1991.5 440,-2035.5\"/>\n",
       "<polygon fill=\"none\" stroke=\"black\" points=\"267,-1991.5 267,-2035.5 331,-2035.5 331,-1991.5 267,-1991.5\"/>\n",
       "<text text-anchor=\"start\" x=\"272\" y=\"-2016.75\" font-family=\"Linux libertine\" font-size=\"10.00\">LayerNorm</text>\n",
       "<text text-anchor=\"start\" x=\"280.62\" y=\"-2004\" font-family=\"Linux libertine\" font-size=\"10.00\">depth:4</text>\n",
       "<polygon fill=\"none\" stroke=\"black\" points=\"331,-2013.5 331,-2035.5 378,-2035.5 378,-2013.5 331,-2013.5\"/>\n",
       "<text text-anchor=\"start\" x=\"340.62\" y=\"-2021\" font-family=\"Linux libertine\" font-size=\"10.00\">input:</text>\n",
       "<polygon fill=\"none\" stroke=\"black\" points=\"378,-2013.5 378,-2035.5 440,-2035.5 440,-2013.5 378,-2013.5\"/>\n",
       "<text text-anchor=\"start\" x=\"382.75\" y=\"-2021\" font-family=\"Linux libertine\" font-size=\"10.00\">(1, 44, 64) </text>\n",
       "<polygon fill=\"none\" stroke=\"black\" points=\"331,-1991.5 331,-2013.5 378,-2013.5 378,-1991.5 331,-1991.5\"/>\n",
       "<text text-anchor=\"start\" x=\"335.75\" y=\"-1999\" font-family=\"Linux libertine\" font-size=\"10.00\">output: </text>\n",
       "<polygon fill=\"none\" stroke=\"black\" points=\"378,-1991.5 378,-2013.5 440,-2013.5 440,-1991.5 378,-1991.5\"/>\n",
       "<text text-anchor=\"start\" x=\"382.75\" y=\"-1999\" font-family=\"Linux libertine\" font-size=\"10.00\">(1, 44, 64) </text>\n",
       "</g>\n",
       "<!-- 34&#45;&gt;35 -->\n",
       "<g id=\"edge43\" class=\"edge\">\n",
       "<title>34&#45;&gt;35</title>\n",
       "<path fill=\"none\" stroke=\"black\" d=\"M302.26,-2071.6C310.03,-2062.94 319.17,-2052.76 327.56,-2043.41\"/>\n",
       "<polygon fill=\"black\" stroke=\"black\" points=\"329.62,-2046.24 333.69,-2036.46 324.41,-2041.57 329.62,-2046.24\"/>\n",
       "</g>\n",
       "<!-- 37 -->\n",
       "<g id=\"node38\" class=\"node\">\n",
       "<title>37</title>\n",
       "<polygon fill=\"aliceblue\" stroke=\"none\" points=\"383,-1875.5 210,-1875.5 210,-1831.5 383,-1831.5 383,-1875.5\"/>\n",
       "<polygon fill=\"none\" stroke=\"black\" points=\"210,-1831.5 210,-1875.5 256,-1875.5 256,-1831.5 210,-1831.5\"/>\n",
       "<text text-anchor=\"start\" x=\"224\" y=\"-1856.75\" font-family=\"Linux libertine\" font-size=\"10.00\">add</text>\n",
       "<text text-anchor=\"start\" x=\"214.62\" y=\"-1844\" font-family=\"Linux libertine\" font-size=\"10.00\">depth:4</text>\n",
       "<polygon fill=\"none\" stroke=\"black\" points=\"256,-1853.5 256,-1875.5 303,-1875.5 303,-1853.5 256,-1853.5\"/>\n",
       "<text text-anchor=\"start\" x=\"265.62\" y=\"-1861\" font-family=\"Linux libertine\" font-size=\"10.00\">input:</text>\n",
       "<polygon fill=\"none\" stroke=\"black\" points=\"303,-1853.5 303,-1875.5 383,-1875.5 383,-1853.5 303,-1853.5\"/>\n",
       "<text text-anchor=\"start\" x=\"307.75\" y=\"-1861\" font-family=\"Linux libertine\" font-size=\"10.00\">2 x (1, 44, 64) </text>\n",
       "<polygon fill=\"none\" stroke=\"black\" points=\"256,-1831.5 256,-1853.5 303,-1853.5 303,-1831.5 256,-1831.5\"/>\n",
       "<text text-anchor=\"start\" x=\"260.75\" y=\"-1839\" font-family=\"Linux libertine\" font-size=\"10.00\">output: </text>\n",
       "<polygon fill=\"none\" stroke=\"black\" points=\"303,-1831.5 303,-1853.5 383,-1853.5 383,-1831.5 303,-1831.5\"/>\n",
       "<text text-anchor=\"start\" x=\"316.75\" y=\"-1839\" font-family=\"Linux libertine\" font-size=\"10.00\">(1, 44, 64) </text>\n",
       "</g>\n",
       "<!-- 34&#45;&gt;37 -->\n",
       "<g id=\"edge44\" class=\"edge\">\n",
       "<title>34&#45;&gt;37</title>\n",
       "<path fill=\"none\" stroke=\"black\" d=\"M271.86,-2071.55C254.38,-2037.2 225.54,-1967.18 246.5,-1911.5 250.36,-1901.24 257,-1891.63 264.2,-1883.33\"/>\n",
       "<polygon fill=\"black\" stroke=\"black\" points=\"266.25,-1886.19 270.5,-1876.48 261.13,-1881.42 266.25,-1886.19\"/>\n",
       "</g>\n",
       "<!-- 36 -->\n",
       "<g id=\"node37\" class=\"node\">\n",
       "<title>36</title>\n",
       "<polygon fill=\"#c1ffc1\" stroke=\"none\" points=\"478,-1955.5 255,-1955.5 255,-1911.5 478,-1911.5 478,-1955.5\"/>\n",
       "<polygon fill=\"none\" stroke=\"black\" points=\"255,-1911.5 255,-1955.5 301,-1955.5 301,-1911.5 255,-1911.5\"/>\n",
       "<text text-anchor=\"start\" x=\"264.88\" y=\"-1936.75\" font-family=\"Linux libertine\" font-size=\"10.00\">LSTM</text>\n",
       "<text text-anchor=\"start\" x=\"259.62\" y=\"-1924\" font-family=\"Linux libertine\" font-size=\"10.00\">depth:4</text>\n",
       "<polygon fill=\"none\" stroke=\"black\" points=\"301,-1933.5 301,-1955.5 348,-1955.5 348,-1933.5 301,-1933.5\"/>\n",
       "<text text-anchor=\"start\" x=\"310.62\" y=\"-1941\" font-family=\"Linux libertine\" font-size=\"10.00\">input:</text>\n",
       "<polygon fill=\"none\" stroke=\"black\" points=\"348,-1933.5 348,-1955.5 478,-1955.5 478,-1933.5 348,-1933.5\"/>\n",
       "<text text-anchor=\"start\" x=\"386.75\" y=\"-1941\" font-family=\"Linux libertine\" font-size=\"10.00\">(1, 44, 64) </text>\n",
       "<polygon fill=\"none\" stroke=\"black\" points=\"301,-1911.5 301,-1933.5 348,-1933.5 348,-1911.5 301,-1911.5\"/>\n",
       "<text text-anchor=\"start\" x=\"305.75\" y=\"-1919\" font-family=\"Linux libertine\" font-size=\"10.00\">output: </text>\n",
       "<polygon fill=\"none\" stroke=\"black\" points=\"348,-1911.5 348,-1933.5 478,-1933.5 478,-1911.5 348,-1911.5\"/>\n",
       "<text text-anchor=\"start\" x=\"353\" y=\"-1919\" font-family=\"Linux libertine\" font-size=\"10.00\">(1, 44, 64), 2 x (1, 1, 64) </text>\n",
       "</g>\n",
       "<!-- 35&#45;&gt;36 -->\n",
       "<g id=\"edge45\" class=\"edge\">\n",
       "<title>35&#45;&gt;36</title>\n",
       "<path fill=\"none\" stroke=\"black\" d=\"M356.98,-1991.6C358.28,-1983.82 359.78,-1974.8 361.21,-1966.26\"/>\n",
       "<polygon fill=\"black\" stroke=\"black\" points=\"364.81,-1966.9 363.01,-1956.46 357.91,-1965.75 364.81,-1966.9\"/>\n",
       "</g>\n",
       "<!-- 36&#45;&gt;37 -->\n",
       "<g id=\"edge46\" class=\"edge\">\n",
       "<title>36&#45;&gt;37</title>\n",
       "<path fill=\"none\" stroke=\"black\" d=\"M347.74,-1911.6C339.97,-1902.94 330.83,-1892.76 322.44,-1883.41\"/>\n",
       "<polygon fill=\"black\" stroke=\"black\" points=\"325.59,-1881.57 316.31,-1876.46 320.38,-1886.24 325.59,-1881.57\"/>\n",
       "</g>\n",
       "<!-- 38 -->\n",
       "<g id=\"node39\" class=\"node\">\n",
       "<title>38</title>\n",
       "<polygon fill=\"#c1ffc1\" stroke=\"none\" points=\"453,-1795.5 280,-1795.5 280,-1751.5 453,-1751.5 453,-1795.5\"/>\n",
       "<polygon fill=\"none\" stroke=\"black\" points=\"280,-1751.5 280,-1795.5 344,-1795.5 344,-1751.5 280,-1751.5\"/>\n",
       "<text text-anchor=\"start\" x=\"285\" y=\"-1776.75\" font-family=\"Linux libertine\" font-size=\"10.00\">LayerNorm</text>\n",
       "<text text-anchor=\"start\" x=\"293.62\" y=\"-1764\" font-family=\"Linux libertine\" font-size=\"10.00\">depth:4</text>\n",
       "<polygon fill=\"none\" stroke=\"black\" points=\"344,-1773.5 344,-1795.5 391,-1795.5 391,-1773.5 344,-1773.5\"/>\n",
       "<text text-anchor=\"start\" x=\"353.62\" y=\"-1781\" font-family=\"Linux libertine\" font-size=\"10.00\">input:</text>\n",
       "<polygon fill=\"none\" stroke=\"black\" points=\"391,-1773.5 391,-1795.5 453,-1795.5 453,-1773.5 391,-1773.5\"/>\n",
       "<text text-anchor=\"start\" x=\"395.75\" y=\"-1781\" font-family=\"Linux libertine\" font-size=\"10.00\">(1, 44, 64) </text>\n",
       "<polygon fill=\"none\" stroke=\"black\" points=\"344,-1751.5 344,-1773.5 391,-1773.5 391,-1751.5 344,-1751.5\"/>\n",
       "<text text-anchor=\"start\" x=\"348.75\" y=\"-1759\" font-family=\"Linux libertine\" font-size=\"10.00\">output: </text>\n",
       "<polygon fill=\"none\" stroke=\"black\" points=\"391,-1751.5 391,-1773.5 453,-1773.5 453,-1751.5 391,-1751.5\"/>\n",
       "<text text-anchor=\"start\" x=\"395.75\" y=\"-1759\" font-family=\"Linux libertine\" font-size=\"10.00\">(1, 44, 64) </text>\n",
       "</g>\n",
       "<!-- 37&#45;&gt;38 -->\n",
       "<g id=\"edge47\" class=\"edge\">\n",
       "<title>37&#45;&gt;38</title>\n",
       "<path fill=\"none\" stroke=\"black\" d=\"M315.26,-1831.6C323.03,-1822.94 332.17,-1812.76 340.56,-1803.41\"/>\n",
       "<polygon fill=\"black\" stroke=\"black\" points=\"342.62,-1806.24 346.69,-1796.46 337.41,-1801.57 342.62,-1806.24\"/>\n",
       "</g>\n",
       "<!-- 40 -->\n",
       "<g id=\"node41\" class=\"node\">\n",
       "<title>40</title>\n",
       "<polygon fill=\"aliceblue\" stroke=\"none\" points=\"396,-1635.5 223,-1635.5 223,-1591.5 396,-1591.5 396,-1635.5\"/>\n",
       "<polygon fill=\"none\" stroke=\"black\" points=\"223,-1591.5 223,-1635.5 269,-1635.5 269,-1591.5 223,-1591.5\"/>\n",
       "<text text-anchor=\"start\" x=\"237\" y=\"-1616.75\" font-family=\"Linux libertine\" font-size=\"10.00\">add</text>\n",
       "<text text-anchor=\"start\" x=\"227.62\" y=\"-1604\" font-family=\"Linux libertine\" font-size=\"10.00\">depth:4</text>\n",
       "<polygon fill=\"none\" stroke=\"black\" points=\"269,-1613.5 269,-1635.5 316,-1635.5 316,-1613.5 269,-1613.5\"/>\n",
       "<text text-anchor=\"start\" x=\"278.62\" y=\"-1621\" font-family=\"Linux libertine\" font-size=\"10.00\">input:</text>\n",
       "<polygon fill=\"none\" stroke=\"black\" points=\"316,-1613.5 316,-1635.5 396,-1635.5 396,-1613.5 316,-1613.5\"/>\n",
       "<text text-anchor=\"start\" x=\"320.75\" y=\"-1621\" font-family=\"Linux libertine\" font-size=\"10.00\">2 x (1, 44, 64) </text>\n",
       "<polygon fill=\"none\" stroke=\"black\" points=\"269,-1591.5 269,-1613.5 316,-1613.5 316,-1591.5 269,-1591.5\"/>\n",
       "<text text-anchor=\"start\" x=\"273.75\" y=\"-1599\" font-family=\"Linux libertine\" font-size=\"10.00\">output: </text>\n",
       "<polygon fill=\"none\" stroke=\"black\" points=\"316,-1591.5 316,-1613.5 396,-1613.5 396,-1591.5 316,-1591.5\"/>\n",
       "<text text-anchor=\"start\" x=\"329.75\" y=\"-1599\" font-family=\"Linux libertine\" font-size=\"10.00\">(1, 44, 64) </text>\n",
       "</g>\n",
       "<!-- 37&#45;&gt;40 -->\n",
       "<g id=\"edge48\" class=\"edge\">\n",
       "<title>37&#45;&gt;40</title>\n",
       "<path fill=\"none\" stroke=\"black\" d=\"M284.86,-1831.55C267.38,-1797.2 238.54,-1727.18 259.5,-1671.5 263.36,-1661.24 270,-1651.63 277.2,-1643.33\"/>\n",
       "<polygon fill=\"black\" stroke=\"black\" points=\"279.25,-1646.19 283.5,-1636.48 274.13,-1641.42 279.25,-1646.19\"/>\n",
       "</g>\n",
       "<!-- 39 -->\n",
       "<g id=\"node40\" class=\"node\">\n",
       "<title>39</title>\n",
       "<polygon fill=\"#c1ffc1\" stroke=\"none\" points=\"491,-1715.5 268,-1715.5 268,-1671.5 491,-1671.5 491,-1715.5\"/>\n",
       "<polygon fill=\"none\" stroke=\"black\" points=\"268,-1671.5 268,-1715.5 314,-1715.5 314,-1671.5 268,-1671.5\"/>\n",
       "<text text-anchor=\"start\" x=\"277.88\" y=\"-1696.75\" font-family=\"Linux libertine\" font-size=\"10.00\">LSTM</text>\n",
       "<text text-anchor=\"start\" x=\"272.62\" y=\"-1684\" font-family=\"Linux libertine\" font-size=\"10.00\">depth:4</text>\n",
       "<polygon fill=\"none\" stroke=\"black\" points=\"314,-1693.5 314,-1715.5 361,-1715.5 361,-1693.5 314,-1693.5\"/>\n",
       "<text text-anchor=\"start\" x=\"323.62\" y=\"-1701\" font-family=\"Linux libertine\" font-size=\"10.00\">input:</text>\n",
       "<polygon fill=\"none\" stroke=\"black\" points=\"361,-1693.5 361,-1715.5 491,-1715.5 491,-1693.5 361,-1693.5\"/>\n",
       "<text text-anchor=\"start\" x=\"399.75\" y=\"-1701\" font-family=\"Linux libertine\" font-size=\"10.00\">(1, 44, 64) </text>\n",
       "<polygon fill=\"none\" stroke=\"black\" points=\"314,-1671.5 314,-1693.5 361,-1693.5 361,-1671.5 314,-1671.5\"/>\n",
       "<text text-anchor=\"start\" x=\"318.75\" y=\"-1679\" font-family=\"Linux libertine\" font-size=\"10.00\">output: </text>\n",
       "<polygon fill=\"none\" stroke=\"black\" points=\"361,-1671.5 361,-1693.5 491,-1693.5 491,-1671.5 361,-1671.5\"/>\n",
       "<text text-anchor=\"start\" x=\"366\" y=\"-1679\" font-family=\"Linux libertine\" font-size=\"10.00\">(1, 44, 64), 2 x (1, 1, 64) </text>\n",
       "</g>\n",
       "<!-- 38&#45;&gt;39 -->\n",
       "<g id=\"edge49\" class=\"edge\">\n",
       "<title>38&#45;&gt;39</title>\n",
       "<path fill=\"none\" stroke=\"black\" d=\"M369.98,-1751.6C371.28,-1743.82 372.78,-1734.8 374.21,-1726.26\"/>\n",
       "<polygon fill=\"black\" stroke=\"black\" points=\"377.81,-1726.9 376.01,-1716.46 370.91,-1725.75 377.81,-1726.9\"/>\n",
       "</g>\n",
       "<!-- 39&#45;&gt;40 -->\n",
       "<g id=\"edge50\" class=\"edge\">\n",
       "<title>39&#45;&gt;40</title>\n",
       "<path fill=\"none\" stroke=\"black\" d=\"M360.74,-1671.6C352.97,-1662.94 343.83,-1652.76 335.44,-1643.41\"/>\n",
       "<polygon fill=\"black\" stroke=\"black\" points=\"338.59,-1641.57 329.31,-1636.46 333.38,-1646.24 338.59,-1641.57\"/>\n",
       "</g>\n",
       "<!-- 41 -->\n",
       "<g id=\"node42\" class=\"node\">\n",
       "<title>41</title>\n",
       "<polygon fill=\"#c1ffc1\" stroke=\"none\" points=\"466,-1555.5 293,-1555.5 293,-1511.5 466,-1511.5 466,-1555.5\"/>\n",
       "<polygon fill=\"none\" stroke=\"black\" points=\"293,-1511.5 293,-1555.5 357,-1555.5 357,-1511.5 293,-1511.5\"/>\n",
       "<text text-anchor=\"start\" x=\"298\" y=\"-1536.75\" font-family=\"Linux libertine\" font-size=\"10.00\">LayerNorm</text>\n",
       "<text text-anchor=\"start\" x=\"306.62\" y=\"-1524\" font-family=\"Linux libertine\" font-size=\"10.00\">depth:4</text>\n",
       "<polygon fill=\"none\" stroke=\"black\" points=\"357,-1533.5 357,-1555.5 404,-1555.5 404,-1533.5 357,-1533.5\"/>\n",
       "<text text-anchor=\"start\" x=\"366.62\" y=\"-1541\" font-family=\"Linux libertine\" font-size=\"10.00\">input:</text>\n",
       "<polygon fill=\"none\" stroke=\"black\" points=\"404,-1533.5 404,-1555.5 466,-1555.5 466,-1533.5 404,-1533.5\"/>\n",
       "<text text-anchor=\"start\" x=\"408.75\" y=\"-1541\" font-family=\"Linux libertine\" font-size=\"10.00\">(1, 44, 64) </text>\n",
       "<polygon fill=\"none\" stroke=\"black\" points=\"357,-1511.5 357,-1533.5 404,-1533.5 404,-1511.5 357,-1511.5\"/>\n",
       "<text text-anchor=\"start\" x=\"361.75\" y=\"-1519\" font-family=\"Linux libertine\" font-size=\"10.00\">output: </text>\n",
       "<polygon fill=\"none\" stroke=\"black\" points=\"404,-1511.5 404,-1533.5 466,-1533.5 466,-1511.5 404,-1511.5\"/>\n",
       "<text text-anchor=\"start\" x=\"408.75\" y=\"-1519\" font-family=\"Linux libertine\" font-size=\"10.00\">(1, 44, 64) </text>\n",
       "</g>\n",
       "<!-- 40&#45;&gt;41 -->\n",
       "<g id=\"edge51\" class=\"edge\">\n",
       "<title>40&#45;&gt;41</title>\n",
       "<path fill=\"none\" stroke=\"black\" d=\"M328.26,-1591.6C336.03,-1582.94 345.17,-1572.76 353.56,-1563.41\"/>\n",
       "<polygon fill=\"black\" stroke=\"black\" points=\"355.62,-1566.24 359.69,-1556.46 350.41,-1561.57 355.62,-1566.24\"/>\n",
       "</g>\n",
       "<!-- 43 -->\n",
       "<g id=\"node44\" class=\"node\">\n",
       "<title>43</title>\n",
       "<polygon fill=\"aliceblue\" stroke=\"none\" points=\"409,-1395.5 236,-1395.5 236,-1351.5 409,-1351.5 409,-1395.5\"/>\n",
       "<polygon fill=\"none\" stroke=\"black\" points=\"236,-1351.5 236,-1395.5 282,-1395.5 282,-1351.5 236,-1351.5\"/>\n",
       "<text text-anchor=\"start\" x=\"250\" y=\"-1376.75\" font-family=\"Linux libertine\" font-size=\"10.00\">add</text>\n",
       "<text text-anchor=\"start\" x=\"240.62\" y=\"-1364\" font-family=\"Linux libertine\" font-size=\"10.00\">depth:4</text>\n",
       "<polygon fill=\"none\" stroke=\"black\" points=\"282,-1373.5 282,-1395.5 329,-1395.5 329,-1373.5 282,-1373.5\"/>\n",
       "<text text-anchor=\"start\" x=\"291.62\" y=\"-1381\" font-family=\"Linux libertine\" font-size=\"10.00\">input:</text>\n",
       "<polygon fill=\"none\" stroke=\"black\" points=\"329,-1373.5 329,-1395.5 409,-1395.5 409,-1373.5 329,-1373.5\"/>\n",
       "<text text-anchor=\"start\" x=\"333.75\" y=\"-1381\" font-family=\"Linux libertine\" font-size=\"10.00\">2 x (1, 44, 64) </text>\n",
       "<polygon fill=\"none\" stroke=\"black\" points=\"282,-1351.5 282,-1373.5 329,-1373.5 329,-1351.5 282,-1351.5\"/>\n",
       "<text text-anchor=\"start\" x=\"286.75\" y=\"-1359\" font-family=\"Linux libertine\" font-size=\"10.00\">output: </text>\n",
       "<polygon fill=\"none\" stroke=\"black\" points=\"329,-1351.5 329,-1373.5 409,-1373.5 409,-1351.5 329,-1351.5\"/>\n",
       "<text text-anchor=\"start\" x=\"342.75\" y=\"-1359\" font-family=\"Linux libertine\" font-size=\"10.00\">(1, 44, 64) </text>\n",
       "</g>\n",
       "<!-- 40&#45;&gt;43 -->\n",
       "<g id=\"edge52\" class=\"edge\">\n",
       "<title>40&#45;&gt;43</title>\n",
       "<path fill=\"none\" stroke=\"black\" d=\"M297.86,-1591.55C280.38,-1557.2 251.54,-1487.18 272.5,-1431.5 276.36,-1421.24 283,-1411.63 290.2,-1403.33\"/>\n",
       "<polygon fill=\"black\" stroke=\"black\" points=\"292.25,-1406.19 296.5,-1396.48 287.13,-1401.42 292.25,-1406.19\"/>\n",
       "</g>\n",
       "<!-- 42 -->\n",
       "<g id=\"node43\" class=\"node\">\n",
       "<title>42</title>\n",
       "<polygon fill=\"#c1ffc1\" stroke=\"none\" points=\"504,-1475.5 281,-1475.5 281,-1431.5 504,-1431.5 504,-1475.5\"/>\n",
       "<polygon fill=\"none\" stroke=\"black\" points=\"281,-1431.5 281,-1475.5 327,-1475.5 327,-1431.5 281,-1431.5\"/>\n",
       "<text text-anchor=\"start\" x=\"290.88\" y=\"-1456.75\" font-family=\"Linux libertine\" font-size=\"10.00\">LSTM</text>\n",
       "<text text-anchor=\"start\" x=\"285.62\" y=\"-1444\" font-family=\"Linux libertine\" font-size=\"10.00\">depth:4</text>\n",
       "<polygon fill=\"none\" stroke=\"black\" points=\"327,-1453.5 327,-1475.5 374,-1475.5 374,-1453.5 327,-1453.5\"/>\n",
       "<text text-anchor=\"start\" x=\"336.62\" y=\"-1461\" font-family=\"Linux libertine\" font-size=\"10.00\">input:</text>\n",
       "<polygon fill=\"none\" stroke=\"black\" points=\"374,-1453.5 374,-1475.5 504,-1475.5 504,-1453.5 374,-1453.5\"/>\n",
       "<text text-anchor=\"start\" x=\"412.75\" y=\"-1461\" font-family=\"Linux libertine\" font-size=\"10.00\">(1, 44, 64) </text>\n",
       "<polygon fill=\"none\" stroke=\"black\" points=\"327,-1431.5 327,-1453.5 374,-1453.5 374,-1431.5 327,-1431.5\"/>\n",
       "<text text-anchor=\"start\" x=\"331.75\" y=\"-1439\" font-family=\"Linux libertine\" font-size=\"10.00\">output: </text>\n",
       "<polygon fill=\"none\" stroke=\"black\" points=\"374,-1431.5 374,-1453.5 504,-1453.5 504,-1431.5 374,-1431.5\"/>\n",
       "<text text-anchor=\"start\" x=\"379\" y=\"-1439\" font-family=\"Linux libertine\" font-size=\"10.00\">(1, 44, 64), 2 x (1, 1, 64) </text>\n",
       "</g>\n",
       "<!-- 41&#45;&gt;42 -->\n",
       "<g id=\"edge53\" class=\"edge\">\n",
       "<title>41&#45;&gt;42</title>\n",
       "<path fill=\"none\" stroke=\"black\" d=\"M382.98,-1511.6C384.28,-1503.82 385.78,-1494.8 387.21,-1486.26\"/>\n",
       "<polygon fill=\"black\" stroke=\"black\" points=\"390.81,-1486.9 389.01,-1476.46 383.91,-1485.75 390.81,-1486.9\"/>\n",
       "</g>\n",
       "<!-- 42&#45;&gt;43 -->\n",
       "<g id=\"edge54\" class=\"edge\">\n",
       "<title>42&#45;&gt;43</title>\n",
       "<path fill=\"none\" stroke=\"black\" d=\"M373.74,-1431.6C365.97,-1422.94 356.83,-1412.76 348.44,-1403.41\"/>\n",
       "<polygon fill=\"black\" stroke=\"black\" points=\"351.59,-1401.57 342.31,-1396.46 346.38,-1406.24 351.59,-1401.57\"/>\n",
       "</g>\n",
       "<!-- 44 -->\n",
       "<g id=\"node45\" class=\"node\">\n",
       "<title>44</title>\n",
       "<polygon fill=\"#c1ffc1\" stroke=\"none\" points=\"479,-1315.5 306,-1315.5 306,-1271.5 479,-1271.5 479,-1315.5\"/>\n",
       "<polygon fill=\"none\" stroke=\"black\" points=\"306,-1271.5 306,-1315.5 370,-1315.5 370,-1271.5 306,-1271.5\"/>\n",
       "<text text-anchor=\"start\" x=\"311\" y=\"-1296.75\" font-family=\"Linux libertine\" font-size=\"10.00\">LayerNorm</text>\n",
       "<text text-anchor=\"start\" x=\"319.62\" y=\"-1284\" font-family=\"Linux libertine\" font-size=\"10.00\">depth:4</text>\n",
       "<polygon fill=\"none\" stroke=\"black\" points=\"370,-1293.5 370,-1315.5 417,-1315.5 417,-1293.5 370,-1293.5\"/>\n",
       "<text text-anchor=\"start\" x=\"379.62\" y=\"-1301\" font-family=\"Linux libertine\" font-size=\"10.00\">input:</text>\n",
       "<polygon fill=\"none\" stroke=\"black\" points=\"417,-1293.5 417,-1315.5 479,-1315.5 479,-1293.5 417,-1293.5\"/>\n",
       "<text text-anchor=\"start\" x=\"421.75\" y=\"-1301\" font-family=\"Linux libertine\" font-size=\"10.00\">(1, 44, 64) </text>\n",
       "<polygon fill=\"none\" stroke=\"black\" points=\"370,-1271.5 370,-1293.5 417,-1293.5 417,-1271.5 370,-1271.5\"/>\n",
       "<text text-anchor=\"start\" x=\"374.75\" y=\"-1279\" font-family=\"Linux libertine\" font-size=\"10.00\">output: </text>\n",
       "<polygon fill=\"none\" stroke=\"black\" points=\"417,-1271.5 417,-1293.5 479,-1293.5 479,-1271.5 417,-1271.5\"/>\n",
       "<text text-anchor=\"start\" x=\"421.75\" y=\"-1279\" font-family=\"Linux libertine\" font-size=\"10.00\">(1, 44, 64) </text>\n",
       "</g>\n",
       "<!-- 43&#45;&gt;44 -->\n",
       "<g id=\"edge55\" class=\"edge\">\n",
       "<title>43&#45;&gt;44</title>\n",
       "<path fill=\"none\" stroke=\"black\" d=\"M341.26,-1351.6C349.03,-1342.94 358.17,-1332.76 366.56,-1323.41\"/>\n",
       "<polygon fill=\"black\" stroke=\"black\" points=\"368.62,-1326.24 372.69,-1316.46 363.41,-1321.57 368.62,-1326.24\"/>\n",
       "</g>\n",
       "<!-- 46 -->\n",
       "<g id=\"node47\" class=\"node\">\n",
       "<title>46</title>\n",
       "<polygon fill=\"aliceblue\" stroke=\"none\" points=\"422,-1155.5 249,-1155.5 249,-1111.5 422,-1111.5 422,-1155.5\"/>\n",
       "<polygon fill=\"none\" stroke=\"black\" points=\"249,-1111.5 249,-1155.5 295,-1155.5 295,-1111.5 249,-1111.5\"/>\n",
       "<text text-anchor=\"start\" x=\"263\" y=\"-1136.75\" font-family=\"Linux libertine\" font-size=\"10.00\">add</text>\n",
       "<text text-anchor=\"start\" x=\"253.62\" y=\"-1124\" font-family=\"Linux libertine\" font-size=\"10.00\">depth:4</text>\n",
       "<polygon fill=\"none\" stroke=\"black\" points=\"295,-1133.5 295,-1155.5 342,-1155.5 342,-1133.5 295,-1133.5\"/>\n",
       "<text text-anchor=\"start\" x=\"304.62\" y=\"-1141\" font-family=\"Linux libertine\" font-size=\"10.00\">input:</text>\n",
       "<polygon fill=\"none\" stroke=\"black\" points=\"342,-1133.5 342,-1155.5 422,-1155.5 422,-1133.5 342,-1133.5\"/>\n",
       "<text text-anchor=\"start\" x=\"346.75\" y=\"-1141\" font-family=\"Linux libertine\" font-size=\"10.00\">2 x (1, 44, 64) </text>\n",
       "<polygon fill=\"none\" stroke=\"black\" points=\"295,-1111.5 295,-1133.5 342,-1133.5 342,-1111.5 295,-1111.5\"/>\n",
       "<text text-anchor=\"start\" x=\"299.75\" y=\"-1119\" font-family=\"Linux libertine\" font-size=\"10.00\">output: </text>\n",
       "<polygon fill=\"none\" stroke=\"black\" points=\"342,-1111.5 342,-1133.5 422,-1133.5 422,-1111.5 342,-1111.5\"/>\n",
       "<text text-anchor=\"start\" x=\"355.75\" y=\"-1119\" font-family=\"Linux libertine\" font-size=\"10.00\">(1, 44, 64) </text>\n",
       "</g>\n",
       "<!-- 43&#45;&gt;46 -->\n",
       "<g id=\"edge56\" class=\"edge\">\n",
       "<title>43&#45;&gt;46</title>\n",
       "<path fill=\"none\" stroke=\"black\" d=\"M310.86,-1351.55C293.38,-1317.2 264.54,-1247.18 285.5,-1191.5 289.36,-1181.24 296,-1171.63 303.2,-1163.33\"/>\n",
       "<polygon fill=\"black\" stroke=\"black\" points=\"305.25,-1166.19 309.5,-1156.48 300.13,-1161.42 305.25,-1166.19\"/>\n",
       "</g>\n",
       "<!-- 45 -->\n",
       "<g id=\"node46\" class=\"node\">\n",
       "<title>45</title>\n",
       "<polygon fill=\"#c1ffc1\" stroke=\"none\" points=\"517,-1235.5 294,-1235.5 294,-1191.5 517,-1191.5 517,-1235.5\"/>\n",
       "<polygon fill=\"none\" stroke=\"black\" points=\"294,-1191.5 294,-1235.5 340,-1235.5 340,-1191.5 294,-1191.5\"/>\n",
       "<text text-anchor=\"start\" x=\"303.88\" y=\"-1216.75\" font-family=\"Linux libertine\" font-size=\"10.00\">LSTM</text>\n",
       "<text text-anchor=\"start\" x=\"298.62\" y=\"-1204\" font-family=\"Linux libertine\" font-size=\"10.00\">depth:4</text>\n",
       "<polygon fill=\"none\" stroke=\"black\" points=\"340,-1213.5 340,-1235.5 387,-1235.5 387,-1213.5 340,-1213.5\"/>\n",
       "<text text-anchor=\"start\" x=\"349.62\" y=\"-1221\" font-family=\"Linux libertine\" font-size=\"10.00\">input:</text>\n",
       "<polygon fill=\"none\" stroke=\"black\" points=\"387,-1213.5 387,-1235.5 517,-1235.5 517,-1213.5 387,-1213.5\"/>\n",
       "<text text-anchor=\"start\" x=\"425.75\" y=\"-1221\" font-family=\"Linux libertine\" font-size=\"10.00\">(1, 44, 64) </text>\n",
       "<polygon fill=\"none\" stroke=\"black\" points=\"340,-1191.5 340,-1213.5 387,-1213.5 387,-1191.5 340,-1191.5\"/>\n",
       "<text text-anchor=\"start\" x=\"344.75\" y=\"-1199\" font-family=\"Linux libertine\" font-size=\"10.00\">output: </text>\n",
       "<polygon fill=\"none\" stroke=\"black\" points=\"387,-1191.5 387,-1213.5 517,-1213.5 517,-1191.5 387,-1191.5\"/>\n",
       "<text text-anchor=\"start\" x=\"392\" y=\"-1199\" font-family=\"Linux libertine\" font-size=\"10.00\">(1, 44, 64), 2 x (1, 1, 64) </text>\n",
       "</g>\n",
       "<!-- 44&#45;&gt;45 -->\n",
       "<g id=\"edge57\" class=\"edge\">\n",
       "<title>44&#45;&gt;45</title>\n",
       "<path fill=\"none\" stroke=\"black\" d=\"M395.98,-1271.6C397.28,-1263.82 398.78,-1254.8 400.21,-1246.26\"/>\n",
       "<polygon fill=\"black\" stroke=\"black\" points=\"403.81,-1246.9 402.01,-1236.46 396.91,-1245.75 403.81,-1246.9\"/>\n",
       "</g>\n",
       "<!-- 45&#45;&gt;46 -->\n",
       "<g id=\"edge58\" class=\"edge\">\n",
       "<title>45&#45;&gt;46</title>\n",
       "<path fill=\"none\" stroke=\"black\" d=\"M386.74,-1191.6C378.97,-1182.94 369.83,-1172.76 361.44,-1163.41\"/>\n",
       "<polygon fill=\"black\" stroke=\"black\" points=\"364.59,-1161.57 355.31,-1156.46 359.38,-1166.24 364.59,-1161.57\"/>\n",
       "</g>\n",
       "<!-- 47 -->\n",
       "<g id=\"node48\" class=\"node\">\n",
       "<title>47</title>\n",
       "<polygon fill=\"#c1ffc1\" stroke=\"none\" points=\"492,-1075.5 319,-1075.5 319,-1031.5 492,-1031.5 492,-1075.5\"/>\n",
       "<polygon fill=\"none\" stroke=\"black\" points=\"319,-1031.5 319,-1075.5 383,-1075.5 383,-1031.5 319,-1031.5\"/>\n",
       "<text text-anchor=\"start\" x=\"324\" y=\"-1056.75\" font-family=\"Linux libertine\" font-size=\"10.00\">LayerNorm</text>\n",
       "<text text-anchor=\"start\" x=\"332.62\" y=\"-1044\" font-family=\"Linux libertine\" font-size=\"10.00\">depth:4</text>\n",
       "<polygon fill=\"none\" stroke=\"black\" points=\"383,-1053.5 383,-1075.5 430,-1075.5 430,-1053.5 383,-1053.5\"/>\n",
       "<text text-anchor=\"start\" x=\"392.62\" y=\"-1061\" font-family=\"Linux libertine\" font-size=\"10.00\">input:</text>\n",
       "<polygon fill=\"none\" stroke=\"black\" points=\"430,-1053.5 430,-1075.5 492,-1075.5 492,-1053.5 430,-1053.5\"/>\n",
       "<text text-anchor=\"start\" x=\"434.75\" y=\"-1061\" font-family=\"Linux libertine\" font-size=\"10.00\">(1, 44, 64) </text>\n",
       "<polygon fill=\"none\" stroke=\"black\" points=\"383,-1031.5 383,-1053.5 430,-1053.5 430,-1031.5 383,-1031.5\"/>\n",
       "<text text-anchor=\"start\" x=\"387.75\" y=\"-1039\" font-family=\"Linux libertine\" font-size=\"10.00\">output: </text>\n",
       "<polygon fill=\"none\" stroke=\"black\" points=\"430,-1031.5 430,-1053.5 492,-1053.5 492,-1031.5 430,-1031.5\"/>\n",
       "<text text-anchor=\"start\" x=\"434.75\" y=\"-1039\" font-family=\"Linux libertine\" font-size=\"10.00\">(1, 44, 64) </text>\n",
       "</g>\n",
       "<!-- 46&#45;&gt;47 -->\n",
       "<g id=\"edge59\" class=\"edge\">\n",
       "<title>46&#45;&gt;47</title>\n",
       "<path fill=\"none\" stroke=\"black\" d=\"M354.26,-1111.6C362.03,-1102.94 371.17,-1092.76 379.56,-1083.41\"/>\n",
       "<polygon fill=\"black\" stroke=\"black\" points=\"381.62,-1086.24 385.69,-1076.46 376.41,-1081.57 381.62,-1086.24\"/>\n",
       "</g>\n",
       "<!-- 49 -->\n",
       "<g id=\"node50\" class=\"node\">\n",
       "<title>49</title>\n",
       "<polygon fill=\"aliceblue\" stroke=\"none\" points=\"435,-915.5 262,-915.5 262,-871.5 435,-871.5 435,-915.5\"/>\n",
       "<polygon fill=\"none\" stroke=\"black\" points=\"262,-871.5 262,-915.5 308,-915.5 308,-871.5 262,-871.5\"/>\n",
       "<text text-anchor=\"start\" x=\"276\" y=\"-896.75\" font-family=\"Linux libertine\" font-size=\"10.00\">add</text>\n",
       "<text text-anchor=\"start\" x=\"266.62\" y=\"-884\" font-family=\"Linux libertine\" font-size=\"10.00\">depth:4</text>\n",
       "<polygon fill=\"none\" stroke=\"black\" points=\"308,-893.5 308,-915.5 355,-915.5 355,-893.5 308,-893.5\"/>\n",
       "<text text-anchor=\"start\" x=\"317.62\" y=\"-901\" font-family=\"Linux libertine\" font-size=\"10.00\">input:</text>\n",
       "<polygon fill=\"none\" stroke=\"black\" points=\"355,-893.5 355,-915.5 435,-915.5 435,-893.5 355,-893.5\"/>\n",
       "<text text-anchor=\"start\" x=\"359.75\" y=\"-901\" font-family=\"Linux libertine\" font-size=\"10.00\">2 x (1, 44, 64) </text>\n",
       "<polygon fill=\"none\" stroke=\"black\" points=\"308,-871.5 308,-893.5 355,-893.5 355,-871.5 308,-871.5\"/>\n",
       "<text text-anchor=\"start\" x=\"312.75\" y=\"-879\" font-family=\"Linux libertine\" font-size=\"10.00\">output: </text>\n",
       "<polygon fill=\"none\" stroke=\"black\" points=\"355,-871.5 355,-893.5 435,-893.5 435,-871.5 355,-871.5\"/>\n",
       "<text text-anchor=\"start\" x=\"368.75\" y=\"-879\" font-family=\"Linux libertine\" font-size=\"10.00\">(1, 44, 64) </text>\n",
       "</g>\n",
       "<!-- 46&#45;&gt;49 -->\n",
       "<g id=\"edge60\" class=\"edge\">\n",
       "<title>46&#45;&gt;49</title>\n",
       "<path fill=\"none\" stroke=\"black\" d=\"M323.86,-1111.55C306.38,-1077.2 277.54,-1007.18 298.5,-951.5 302.36,-941.24 309,-931.63 316.2,-923.33\"/>\n",
       "<polygon fill=\"black\" stroke=\"black\" points=\"318.25,-926.19 322.5,-916.48 313.13,-921.42 318.25,-926.19\"/>\n",
       "</g>\n",
       "<!-- 48 -->\n",
       "<g id=\"node49\" class=\"node\">\n",
       "<title>48</title>\n",
       "<polygon fill=\"#c1ffc1\" stroke=\"none\" points=\"530,-995.5 307,-995.5 307,-951.5 530,-951.5 530,-995.5\"/>\n",
       "<polygon fill=\"none\" stroke=\"black\" points=\"307,-951.5 307,-995.5 353,-995.5 353,-951.5 307,-951.5\"/>\n",
       "<text text-anchor=\"start\" x=\"316.88\" y=\"-976.75\" font-family=\"Linux libertine\" font-size=\"10.00\">LSTM</text>\n",
       "<text text-anchor=\"start\" x=\"311.62\" y=\"-964\" font-family=\"Linux libertine\" font-size=\"10.00\">depth:4</text>\n",
       "<polygon fill=\"none\" stroke=\"black\" points=\"353,-973.5 353,-995.5 400,-995.5 400,-973.5 353,-973.5\"/>\n",
       "<text text-anchor=\"start\" x=\"362.62\" y=\"-981\" font-family=\"Linux libertine\" font-size=\"10.00\">input:</text>\n",
       "<polygon fill=\"none\" stroke=\"black\" points=\"400,-973.5 400,-995.5 530,-995.5 530,-973.5 400,-973.5\"/>\n",
       "<text text-anchor=\"start\" x=\"438.75\" y=\"-981\" font-family=\"Linux libertine\" font-size=\"10.00\">(1, 44, 64) </text>\n",
       "<polygon fill=\"none\" stroke=\"black\" points=\"353,-951.5 353,-973.5 400,-973.5 400,-951.5 353,-951.5\"/>\n",
       "<text text-anchor=\"start\" x=\"357.75\" y=\"-959\" font-family=\"Linux libertine\" font-size=\"10.00\">output: </text>\n",
       "<polygon fill=\"none\" stroke=\"black\" points=\"400,-951.5 400,-973.5 530,-973.5 530,-951.5 400,-951.5\"/>\n",
       "<text text-anchor=\"start\" x=\"405\" y=\"-959\" font-family=\"Linux libertine\" font-size=\"10.00\">(1, 44, 64), 2 x (1, 1, 64) </text>\n",
       "</g>\n",
       "<!-- 47&#45;&gt;48 -->\n",
       "<g id=\"edge61\" class=\"edge\">\n",
       "<title>47&#45;&gt;48</title>\n",
       "<path fill=\"none\" stroke=\"black\" d=\"M408.98,-1031.6C410.28,-1023.82 411.78,-1014.8 413.21,-1006.26\"/>\n",
       "<polygon fill=\"black\" stroke=\"black\" points=\"416.81,-1006.9 415.01,-996.46 409.91,-1005.75 416.81,-1006.9\"/>\n",
       "</g>\n",
       "<!-- 48&#45;&gt;49 -->\n",
       "<g id=\"edge62\" class=\"edge\">\n",
       "<title>48&#45;&gt;49</title>\n",
       "<path fill=\"none\" stroke=\"black\" d=\"M399.74,-951.6C391.97,-942.94 382.83,-932.76 374.44,-923.41\"/>\n",
       "<polygon fill=\"black\" stroke=\"black\" points=\"377.59,-921.57 368.31,-916.46 372.38,-926.24 377.59,-921.57\"/>\n",
       "</g>\n",
       "<!-- 50 -->\n",
       "<g id=\"node51\" class=\"node\">\n",
       "<title>50</title>\n",
       "<polygon fill=\"#c1ffc1\" stroke=\"none\" points=\"505,-835.5 332,-835.5 332,-791.5 505,-791.5 505,-835.5\"/>\n",
       "<polygon fill=\"none\" stroke=\"black\" points=\"332,-791.5 332,-835.5 396,-835.5 396,-791.5 332,-791.5\"/>\n",
       "<text text-anchor=\"start\" x=\"337\" y=\"-816.75\" font-family=\"Linux libertine\" font-size=\"10.00\">LayerNorm</text>\n",
       "<text text-anchor=\"start\" x=\"345.62\" y=\"-804\" font-family=\"Linux libertine\" font-size=\"10.00\">depth:4</text>\n",
       "<polygon fill=\"none\" stroke=\"black\" points=\"396,-813.5 396,-835.5 443,-835.5 443,-813.5 396,-813.5\"/>\n",
       "<text text-anchor=\"start\" x=\"405.62\" y=\"-821\" font-family=\"Linux libertine\" font-size=\"10.00\">input:</text>\n",
       "<polygon fill=\"none\" stroke=\"black\" points=\"443,-813.5 443,-835.5 505,-835.5 505,-813.5 443,-813.5\"/>\n",
       "<text text-anchor=\"start\" x=\"447.75\" y=\"-821\" font-family=\"Linux libertine\" font-size=\"10.00\">(1, 44, 64) </text>\n",
       "<polygon fill=\"none\" stroke=\"black\" points=\"396,-791.5 396,-813.5 443,-813.5 443,-791.5 396,-791.5\"/>\n",
       "<text text-anchor=\"start\" x=\"400.75\" y=\"-799\" font-family=\"Linux libertine\" font-size=\"10.00\">output: </text>\n",
       "<polygon fill=\"none\" stroke=\"black\" points=\"443,-791.5 443,-813.5 505,-813.5 505,-791.5 443,-791.5\"/>\n",
       "<text text-anchor=\"start\" x=\"447.75\" y=\"-799\" font-family=\"Linux libertine\" font-size=\"10.00\">(1, 44, 64) </text>\n",
       "</g>\n",
       "<!-- 49&#45;&gt;50 -->\n",
       "<g id=\"edge63\" class=\"edge\">\n",
       "<title>49&#45;&gt;50</title>\n",
       "<path fill=\"none\" stroke=\"black\" d=\"M367.26,-871.6C375.03,-862.94 384.17,-852.76 392.56,-843.41\"/>\n",
       "<polygon fill=\"black\" stroke=\"black\" points=\"394.62,-846.24 398.69,-836.46 389.41,-841.57 394.62,-846.24\"/>\n",
       "</g>\n",
       "<!-- 52 -->\n",
       "<g id=\"node53\" class=\"node\">\n",
       "<title>52</title>\n",
       "<polygon fill=\"aliceblue\" stroke=\"none\" points=\"448,-675.5 275,-675.5 275,-631.5 448,-631.5 448,-675.5\"/>\n",
       "<polygon fill=\"none\" stroke=\"black\" points=\"275,-631.5 275,-675.5 321,-675.5 321,-631.5 275,-631.5\"/>\n",
       "<text text-anchor=\"start\" x=\"289\" y=\"-656.75\" font-family=\"Linux libertine\" font-size=\"10.00\">add</text>\n",
       "<text text-anchor=\"start\" x=\"279.62\" y=\"-644\" font-family=\"Linux libertine\" font-size=\"10.00\">depth:4</text>\n",
       "<polygon fill=\"none\" stroke=\"black\" points=\"321,-653.5 321,-675.5 368,-675.5 368,-653.5 321,-653.5\"/>\n",
       "<text text-anchor=\"start\" x=\"330.62\" y=\"-661\" font-family=\"Linux libertine\" font-size=\"10.00\">input:</text>\n",
       "<polygon fill=\"none\" stroke=\"black\" points=\"368,-653.5 368,-675.5 448,-675.5 448,-653.5 368,-653.5\"/>\n",
       "<text text-anchor=\"start\" x=\"372.75\" y=\"-661\" font-family=\"Linux libertine\" font-size=\"10.00\">2 x (1, 44, 64) </text>\n",
       "<polygon fill=\"none\" stroke=\"black\" points=\"321,-631.5 321,-653.5 368,-653.5 368,-631.5 321,-631.5\"/>\n",
       "<text text-anchor=\"start\" x=\"325.75\" y=\"-639\" font-family=\"Linux libertine\" font-size=\"10.00\">output: </text>\n",
       "<polygon fill=\"none\" stroke=\"black\" points=\"368,-631.5 368,-653.5 448,-653.5 448,-631.5 368,-631.5\"/>\n",
       "<text text-anchor=\"start\" x=\"381.75\" y=\"-639\" font-family=\"Linux libertine\" font-size=\"10.00\">(1, 44, 64) </text>\n",
       "</g>\n",
       "<!-- 49&#45;&gt;52 -->\n",
       "<g id=\"edge64\" class=\"edge\">\n",
       "<title>49&#45;&gt;52</title>\n",
       "<path fill=\"none\" stroke=\"black\" d=\"M336.86,-871.55C319.38,-837.2 290.54,-767.18 311.5,-711.5 315.36,-701.24 322,-691.63 329.2,-683.33\"/>\n",
       "<polygon fill=\"black\" stroke=\"black\" points=\"331.25,-686.19 335.5,-676.48 326.13,-681.42 331.25,-686.19\"/>\n",
       "</g>\n",
       "<!-- 51 -->\n",
       "<g id=\"node52\" class=\"node\">\n",
       "<title>51</title>\n",
       "<polygon fill=\"#c1ffc1\" stroke=\"none\" points=\"543,-755.5 320,-755.5 320,-711.5 543,-711.5 543,-755.5\"/>\n",
       "<polygon fill=\"none\" stroke=\"black\" points=\"320,-711.5 320,-755.5 366,-755.5 366,-711.5 320,-711.5\"/>\n",
       "<text text-anchor=\"start\" x=\"329.88\" y=\"-736.75\" font-family=\"Linux libertine\" font-size=\"10.00\">LSTM</text>\n",
       "<text text-anchor=\"start\" x=\"324.62\" y=\"-724\" font-family=\"Linux libertine\" font-size=\"10.00\">depth:4</text>\n",
       "<polygon fill=\"none\" stroke=\"black\" points=\"366,-733.5 366,-755.5 413,-755.5 413,-733.5 366,-733.5\"/>\n",
       "<text text-anchor=\"start\" x=\"375.62\" y=\"-741\" font-family=\"Linux libertine\" font-size=\"10.00\">input:</text>\n",
       "<polygon fill=\"none\" stroke=\"black\" points=\"413,-733.5 413,-755.5 543,-755.5 543,-733.5 413,-733.5\"/>\n",
       "<text text-anchor=\"start\" x=\"451.75\" y=\"-741\" font-family=\"Linux libertine\" font-size=\"10.00\">(1, 44, 64) </text>\n",
       "<polygon fill=\"none\" stroke=\"black\" points=\"366,-711.5 366,-733.5 413,-733.5 413,-711.5 366,-711.5\"/>\n",
       "<text text-anchor=\"start\" x=\"370.75\" y=\"-719\" font-family=\"Linux libertine\" font-size=\"10.00\">output: </text>\n",
       "<polygon fill=\"none\" stroke=\"black\" points=\"413,-711.5 413,-733.5 543,-733.5 543,-711.5 413,-711.5\"/>\n",
       "<text text-anchor=\"start\" x=\"418\" y=\"-719\" font-family=\"Linux libertine\" font-size=\"10.00\">(1, 44, 64), 2 x (1, 1, 64) </text>\n",
       "</g>\n",
       "<!-- 50&#45;&gt;51 -->\n",
       "<g id=\"edge65\" class=\"edge\">\n",
       "<title>50&#45;&gt;51</title>\n",
       "<path fill=\"none\" stroke=\"black\" d=\"M421.98,-791.6C423.28,-783.82 424.78,-774.8 426.21,-766.26\"/>\n",
       "<polygon fill=\"black\" stroke=\"black\" points=\"429.81,-766.9 428.01,-756.46 422.91,-765.75 429.81,-766.9\"/>\n",
       "</g>\n",
       "<!-- 51&#45;&gt;52 -->\n",
       "<g id=\"edge66\" class=\"edge\">\n",
       "<title>51&#45;&gt;52</title>\n",
       "<path fill=\"none\" stroke=\"black\" d=\"M412.74,-711.6C404.97,-702.94 395.83,-692.76 387.44,-683.41\"/>\n",
       "<polygon fill=\"black\" stroke=\"black\" points=\"390.59,-681.57 381.31,-676.46 385.38,-686.24 390.59,-681.57\"/>\n",
       "</g>\n",
       "<!-- 53 -->\n",
       "<g id=\"node54\" class=\"node\">\n",
       "<title>53</title>\n",
       "<polygon fill=\"#c1ffc1\" stroke=\"none\" points=\"518,-595.5 345,-595.5 345,-551.5 518,-551.5 518,-595.5\"/>\n",
       "<polygon fill=\"none\" stroke=\"black\" points=\"345,-551.5 345,-595.5 409,-595.5 409,-551.5 345,-551.5\"/>\n",
       "<text text-anchor=\"start\" x=\"350\" y=\"-576.75\" font-family=\"Linux libertine\" font-size=\"10.00\">LayerNorm</text>\n",
       "<text text-anchor=\"start\" x=\"358.62\" y=\"-564\" font-family=\"Linux libertine\" font-size=\"10.00\">depth:4</text>\n",
       "<polygon fill=\"none\" stroke=\"black\" points=\"409,-573.5 409,-595.5 456,-595.5 456,-573.5 409,-573.5\"/>\n",
       "<text text-anchor=\"start\" x=\"418.62\" y=\"-581\" font-family=\"Linux libertine\" font-size=\"10.00\">input:</text>\n",
       "<polygon fill=\"none\" stroke=\"black\" points=\"456,-573.5 456,-595.5 518,-595.5 518,-573.5 456,-573.5\"/>\n",
       "<text text-anchor=\"start\" x=\"460.75\" y=\"-581\" font-family=\"Linux libertine\" font-size=\"10.00\">(1, 44, 64) </text>\n",
       "<polygon fill=\"none\" stroke=\"black\" points=\"409,-551.5 409,-573.5 456,-573.5 456,-551.5 409,-551.5\"/>\n",
       "<text text-anchor=\"start\" x=\"413.75\" y=\"-559\" font-family=\"Linux libertine\" font-size=\"10.00\">output: </text>\n",
       "<polygon fill=\"none\" stroke=\"black\" points=\"456,-551.5 456,-573.5 518,-573.5 518,-551.5 456,-551.5\"/>\n",
       "<text text-anchor=\"start\" x=\"460.75\" y=\"-559\" font-family=\"Linux libertine\" font-size=\"10.00\">(1, 44, 64) </text>\n",
       "</g>\n",
       "<!-- 52&#45;&gt;53 -->\n",
       "<g id=\"edge67\" class=\"edge\">\n",
       "<title>52&#45;&gt;53</title>\n",
       "<path fill=\"none\" stroke=\"black\" d=\"M380.26,-631.6C388.03,-622.94 397.17,-612.76 405.56,-603.41\"/>\n",
       "<polygon fill=\"black\" stroke=\"black\" points=\"407.62,-606.24 411.69,-596.46 402.41,-601.57 407.62,-606.24\"/>\n",
       "</g>\n",
       "<!-- 55 -->\n",
       "<g id=\"node56\" class=\"node\">\n",
       "<title>55</title>\n",
       "<polygon fill=\"aliceblue\" stroke=\"none\" points=\"461,-435.5 288,-435.5 288,-391.5 461,-391.5 461,-435.5\"/>\n",
       "<polygon fill=\"none\" stroke=\"black\" points=\"288,-391.5 288,-435.5 334,-435.5 334,-391.5 288,-391.5\"/>\n",
       "<text text-anchor=\"start\" x=\"302\" y=\"-416.75\" font-family=\"Linux libertine\" font-size=\"10.00\">add</text>\n",
       "<text text-anchor=\"start\" x=\"292.62\" y=\"-404\" font-family=\"Linux libertine\" font-size=\"10.00\">depth:4</text>\n",
       "<polygon fill=\"none\" stroke=\"black\" points=\"334,-413.5 334,-435.5 381,-435.5 381,-413.5 334,-413.5\"/>\n",
       "<text text-anchor=\"start\" x=\"343.62\" y=\"-421\" font-family=\"Linux libertine\" font-size=\"10.00\">input:</text>\n",
       "<polygon fill=\"none\" stroke=\"black\" points=\"381,-413.5 381,-435.5 461,-435.5 461,-413.5 381,-413.5\"/>\n",
       "<text text-anchor=\"start\" x=\"385.75\" y=\"-421\" font-family=\"Linux libertine\" font-size=\"10.00\">2 x (1, 44, 64) </text>\n",
       "<polygon fill=\"none\" stroke=\"black\" points=\"334,-391.5 334,-413.5 381,-413.5 381,-391.5 334,-391.5\"/>\n",
       "<text text-anchor=\"start\" x=\"338.75\" y=\"-399\" font-family=\"Linux libertine\" font-size=\"10.00\">output: </text>\n",
       "<polygon fill=\"none\" stroke=\"black\" points=\"381,-391.5 381,-413.5 461,-413.5 461,-391.5 381,-391.5\"/>\n",
       "<text text-anchor=\"start\" x=\"394.75\" y=\"-399\" font-family=\"Linux libertine\" font-size=\"10.00\">(1, 44, 64) </text>\n",
       "</g>\n",
       "<!-- 52&#45;&gt;55 -->\n",
       "<g id=\"edge68\" class=\"edge\">\n",
       "<title>52&#45;&gt;55</title>\n",
       "<path fill=\"none\" stroke=\"black\" d=\"M349.86,-631.55C332.38,-597.2 303.54,-527.18 324.5,-471.5 328.36,-461.24 335,-451.63 342.2,-443.33\"/>\n",
       "<polygon fill=\"black\" stroke=\"black\" points=\"344.25,-446.19 348.5,-436.48 339.13,-441.42 344.25,-446.19\"/>\n",
       "</g>\n",
       "<!-- 54 -->\n",
       "<g id=\"node55\" class=\"node\">\n",
       "<title>54</title>\n",
       "<polygon fill=\"#c1ffc1\" stroke=\"none\" points=\"556,-515.5 333,-515.5 333,-471.5 556,-471.5 556,-515.5\"/>\n",
       "<polygon fill=\"none\" stroke=\"black\" points=\"333,-471.5 333,-515.5 379,-515.5 379,-471.5 333,-471.5\"/>\n",
       "<text text-anchor=\"start\" x=\"342.88\" y=\"-496.75\" font-family=\"Linux libertine\" font-size=\"10.00\">LSTM</text>\n",
       "<text text-anchor=\"start\" x=\"337.62\" y=\"-484\" font-family=\"Linux libertine\" font-size=\"10.00\">depth:4</text>\n",
       "<polygon fill=\"none\" stroke=\"black\" points=\"379,-493.5 379,-515.5 426,-515.5 426,-493.5 379,-493.5\"/>\n",
       "<text text-anchor=\"start\" x=\"388.62\" y=\"-501\" font-family=\"Linux libertine\" font-size=\"10.00\">input:</text>\n",
       "<polygon fill=\"none\" stroke=\"black\" points=\"426,-493.5 426,-515.5 556,-515.5 556,-493.5 426,-493.5\"/>\n",
       "<text text-anchor=\"start\" x=\"464.75\" y=\"-501\" font-family=\"Linux libertine\" font-size=\"10.00\">(1, 44, 64) </text>\n",
       "<polygon fill=\"none\" stroke=\"black\" points=\"379,-471.5 379,-493.5 426,-493.5 426,-471.5 379,-471.5\"/>\n",
       "<text text-anchor=\"start\" x=\"383.75\" y=\"-479\" font-family=\"Linux libertine\" font-size=\"10.00\">output: </text>\n",
       "<polygon fill=\"none\" stroke=\"black\" points=\"426,-471.5 426,-493.5 556,-493.5 556,-471.5 426,-471.5\"/>\n",
       "<text text-anchor=\"start\" x=\"431\" y=\"-479\" font-family=\"Linux libertine\" font-size=\"10.00\">(1, 44, 64), 2 x (1, 1, 64) </text>\n",
       "</g>\n",
       "<!-- 53&#45;&gt;54 -->\n",
       "<g id=\"edge69\" class=\"edge\">\n",
       "<title>53&#45;&gt;54</title>\n",
       "<path fill=\"none\" stroke=\"black\" d=\"M434.98,-551.6C436.28,-543.82 437.78,-534.8 439.21,-526.26\"/>\n",
       "<polygon fill=\"black\" stroke=\"black\" points=\"442.81,-526.9 441.01,-516.46 435.91,-525.75 442.81,-526.9\"/>\n",
       "</g>\n",
       "<!-- 54&#45;&gt;55 -->\n",
       "<g id=\"edge70\" class=\"edge\">\n",
       "<title>54&#45;&gt;55</title>\n",
       "<path fill=\"none\" stroke=\"black\" d=\"M425.74,-471.6C417.97,-462.94 408.83,-452.76 400.44,-443.41\"/>\n",
       "<polygon fill=\"black\" stroke=\"black\" points=\"403.59,-441.57 394.31,-436.46 398.38,-446.24 403.59,-441.57\"/>\n",
       "</g>\n",
       "<!-- 56 -->\n",
       "<g id=\"node57\" class=\"node\">\n",
       "<title>56</title>\n",
       "<polygon fill=\"#c1ffc1\" stroke=\"none\" points=\"531,-355.5 358,-355.5 358,-311.5 531,-311.5 531,-355.5\"/>\n",
       "<polygon fill=\"none\" stroke=\"black\" points=\"358,-311.5 358,-355.5 422,-355.5 422,-311.5 358,-311.5\"/>\n",
       "<text text-anchor=\"start\" x=\"363\" y=\"-336.75\" font-family=\"Linux libertine\" font-size=\"10.00\">LayerNorm</text>\n",
       "<text text-anchor=\"start\" x=\"371.62\" y=\"-324\" font-family=\"Linux libertine\" font-size=\"10.00\">depth:4</text>\n",
       "<polygon fill=\"none\" stroke=\"black\" points=\"422,-333.5 422,-355.5 469,-355.5 469,-333.5 422,-333.5\"/>\n",
       "<text text-anchor=\"start\" x=\"431.62\" y=\"-341\" font-family=\"Linux libertine\" font-size=\"10.00\">input:</text>\n",
       "<polygon fill=\"none\" stroke=\"black\" points=\"469,-333.5 469,-355.5 531,-355.5 531,-333.5 469,-333.5\"/>\n",
       "<text text-anchor=\"start\" x=\"473.75\" y=\"-341\" font-family=\"Linux libertine\" font-size=\"10.00\">(1, 44, 64) </text>\n",
       "<polygon fill=\"none\" stroke=\"black\" points=\"422,-311.5 422,-333.5 469,-333.5 469,-311.5 422,-311.5\"/>\n",
       "<text text-anchor=\"start\" x=\"426.75\" y=\"-319\" font-family=\"Linux libertine\" font-size=\"10.00\">output: </text>\n",
       "<polygon fill=\"none\" stroke=\"black\" points=\"469,-311.5 469,-333.5 531,-333.5 531,-311.5 469,-311.5\"/>\n",
       "<text text-anchor=\"start\" x=\"473.75\" y=\"-319\" font-family=\"Linux libertine\" font-size=\"10.00\">(1, 44, 64) </text>\n",
       "</g>\n",
       "<!-- 55&#45;&gt;56 -->\n",
       "<g id=\"edge71\" class=\"edge\">\n",
       "<title>55&#45;&gt;56</title>\n",
       "<path fill=\"none\" stroke=\"black\" d=\"M393.26,-391.6C401.03,-382.94 410.17,-372.76 418.56,-363.41\"/>\n",
       "<polygon fill=\"black\" stroke=\"black\" points=\"420.62,-366.24 424.69,-356.46 415.41,-361.57 420.62,-366.24\"/>\n",
       "</g>\n",
       "<!-- 58 -->\n",
       "<g id=\"node59\" class=\"node\">\n",
       "<title>58</title>\n",
       "<polygon fill=\"aliceblue\" stroke=\"none\" points=\"474,-195.5 301,-195.5 301,-151.5 474,-151.5 474,-195.5\"/>\n",
       "<polygon fill=\"none\" stroke=\"black\" points=\"301,-151.5 301,-195.5 347,-195.5 347,-151.5 301,-151.5\"/>\n",
       "<text text-anchor=\"start\" x=\"315\" y=\"-176.75\" font-family=\"Linux libertine\" font-size=\"10.00\">add</text>\n",
       "<text text-anchor=\"start\" x=\"305.62\" y=\"-164\" font-family=\"Linux libertine\" font-size=\"10.00\">depth:4</text>\n",
       "<polygon fill=\"none\" stroke=\"black\" points=\"347,-173.5 347,-195.5 394,-195.5 394,-173.5 347,-173.5\"/>\n",
       "<text text-anchor=\"start\" x=\"356.62\" y=\"-181\" font-family=\"Linux libertine\" font-size=\"10.00\">input:</text>\n",
       "<polygon fill=\"none\" stroke=\"black\" points=\"394,-173.5 394,-195.5 474,-195.5 474,-173.5 394,-173.5\"/>\n",
       "<text text-anchor=\"start\" x=\"398.75\" y=\"-181\" font-family=\"Linux libertine\" font-size=\"10.00\">2 x (1, 44, 64) </text>\n",
       "<polygon fill=\"none\" stroke=\"black\" points=\"347,-151.5 347,-173.5 394,-173.5 394,-151.5 347,-151.5\"/>\n",
       "<text text-anchor=\"start\" x=\"351.75\" y=\"-159\" font-family=\"Linux libertine\" font-size=\"10.00\">output: </text>\n",
       "<polygon fill=\"none\" stroke=\"black\" points=\"394,-151.5 394,-173.5 474,-173.5 474,-151.5 394,-151.5\"/>\n",
       "<text text-anchor=\"start\" x=\"407.75\" y=\"-159\" font-family=\"Linux libertine\" font-size=\"10.00\">(1, 44, 64) </text>\n",
       "</g>\n",
       "<!-- 55&#45;&gt;58 -->\n",
       "<g id=\"edge72\" class=\"edge\">\n",
       "<title>55&#45;&gt;58</title>\n",
       "<path fill=\"none\" stroke=\"black\" d=\"M362.86,-391.55C345.38,-357.2 316.54,-287.18 337.5,-231.5 341.36,-221.24 348,-211.63 355.2,-203.33\"/>\n",
       "<polygon fill=\"black\" stroke=\"black\" points=\"357.25,-206.19 361.5,-196.48 352.13,-201.42 357.25,-206.19\"/>\n",
       "</g>\n",
       "<!-- 57 -->\n",
       "<g id=\"node58\" class=\"node\">\n",
       "<title>57</title>\n",
       "<polygon fill=\"#c1ffc1\" stroke=\"none\" points=\"569,-275.5 346,-275.5 346,-231.5 569,-231.5 569,-275.5\"/>\n",
       "<polygon fill=\"none\" stroke=\"black\" points=\"346,-231.5 346,-275.5 392,-275.5 392,-231.5 346,-231.5\"/>\n",
       "<text text-anchor=\"start\" x=\"355.88\" y=\"-256.75\" font-family=\"Linux libertine\" font-size=\"10.00\">LSTM</text>\n",
       "<text text-anchor=\"start\" x=\"350.62\" y=\"-244\" font-family=\"Linux libertine\" font-size=\"10.00\">depth:4</text>\n",
       "<polygon fill=\"none\" stroke=\"black\" points=\"392,-253.5 392,-275.5 439,-275.5 439,-253.5 392,-253.5\"/>\n",
       "<text text-anchor=\"start\" x=\"401.62\" y=\"-261\" font-family=\"Linux libertine\" font-size=\"10.00\">input:</text>\n",
       "<polygon fill=\"none\" stroke=\"black\" points=\"439,-253.5 439,-275.5 569,-275.5 569,-253.5 439,-253.5\"/>\n",
       "<text text-anchor=\"start\" x=\"477.75\" y=\"-261\" font-family=\"Linux libertine\" font-size=\"10.00\">(1, 44, 64) </text>\n",
       "<polygon fill=\"none\" stroke=\"black\" points=\"392,-231.5 392,-253.5 439,-253.5 439,-231.5 392,-231.5\"/>\n",
       "<text text-anchor=\"start\" x=\"396.75\" y=\"-239\" font-family=\"Linux libertine\" font-size=\"10.00\">output: </text>\n",
       "<polygon fill=\"none\" stroke=\"black\" points=\"439,-231.5 439,-253.5 569,-253.5 569,-231.5 439,-231.5\"/>\n",
       "<text text-anchor=\"start\" x=\"444\" y=\"-239\" font-family=\"Linux libertine\" font-size=\"10.00\">(1, 44, 64), 2 x (1, 1, 64) </text>\n",
       "</g>\n",
       "<!-- 56&#45;&gt;57 -->\n",
       "<g id=\"edge73\" class=\"edge\">\n",
       "<title>56&#45;&gt;57</title>\n",
       "<path fill=\"none\" stroke=\"black\" d=\"M447.98,-311.6C449.28,-303.82 450.78,-294.8 452.21,-286.26\"/>\n",
       "<polygon fill=\"black\" stroke=\"black\" points=\"455.81,-286.9 454.01,-276.46 448.91,-285.75 455.81,-286.9\"/>\n",
       "</g>\n",
       "<!-- 57&#45;&gt;58 -->\n",
       "<g id=\"edge74\" class=\"edge\">\n",
       "<title>57&#45;&gt;58</title>\n",
       "<path fill=\"none\" stroke=\"black\" d=\"M438.74,-231.6C430.97,-222.94 421.83,-212.76 413.44,-203.41\"/>\n",
       "<polygon fill=\"black\" stroke=\"black\" points=\"416.59,-201.57 407.31,-196.46 411.38,-206.24 416.59,-201.57\"/>\n",
       "</g>\n",
       "<!-- 59 -->\n",
       "<g id=\"node60\" class=\"node\">\n",
       "<title>59</title>\n",
       "<polygon fill=\"#c1ffc1\" stroke=\"none\" points=\"465,-115.5 310,-115.5 310,-71.5 465,-71.5 465,-115.5\"/>\n",
       "<polygon fill=\"none\" stroke=\"black\" points=\"310,-71.5 310,-115.5 356,-115.5 356,-71.5 310,-71.5\"/>\n",
       "<text text-anchor=\"start\" x=\"318\" y=\"-96.75\" font-family=\"Linux libertine\" font-size=\"10.00\">Linear</text>\n",
       "<text text-anchor=\"start\" x=\"314.62\" y=\"-84\" font-family=\"Linux libertine\" font-size=\"10.00\">depth:2</text>\n",
       "<polygon fill=\"none\" stroke=\"black\" points=\"356,-93.5 356,-115.5 403,-115.5 403,-93.5 356,-93.5\"/>\n",
       "<text text-anchor=\"start\" x=\"365.62\" y=\"-101\" font-family=\"Linux libertine\" font-size=\"10.00\">input:</text>\n",
       "<polygon fill=\"none\" stroke=\"black\" points=\"403,-93.5 403,-115.5 465,-115.5 465,-93.5 403,-93.5\"/>\n",
       "<text text-anchor=\"start\" x=\"407.75\" y=\"-101\" font-family=\"Linux libertine\" font-size=\"10.00\">(1, 44, 64) </text>\n",
       "<polygon fill=\"none\" stroke=\"black\" points=\"356,-71.5 356,-93.5 403,-93.5 403,-71.5 356,-71.5\"/>\n",
       "<text text-anchor=\"start\" x=\"360.75\" y=\"-79\" font-family=\"Linux libertine\" font-size=\"10.00\">output: </text>\n",
       "<polygon fill=\"none\" stroke=\"black\" points=\"403,-71.5 403,-93.5 465,-93.5 465,-71.5 403,-71.5\"/>\n",
       "<text text-anchor=\"start\" x=\"407.75\" y=\"-79\" font-family=\"Linux libertine\" font-size=\"10.00\">(1, 44, 87) </text>\n",
       "</g>\n",
       "<!-- 58&#45;&gt;59 -->\n",
       "<g id=\"edge75\" class=\"edge\">\n",
       "<title>58&#45;&gt;59</title>\n",
       "<path fill=\"none\" stroke=\"black\" d=\"M387.5,-151.6C387.5,-143.82 387.5,-134.8 387.5,-126.26\"/>\n",
       "<polygon fill=\"black\" stroke=\"black\" points=\"391,-126.46 387.5,-116.46 384,-126.46 391,-126.46\"/>\n",
       "</g>\n",
       "<!-- 60 -->\n",
       "<g id=\"node61\" class=\"node\">\n",
       "<title>60</title>\n",
       "<polygon fill=\"lightyellow\" stroke=\"none\" points=\"455.25,-35.5 319.75,-35.5 319.75,0 455.25,0 455.25,-35.5\"/>\n",
       "<polygon fill=\"none\" stroke=\"black\" points=\"319.75,0 319.75,-35.5 395.75,-35.5 395.75,0 319.75,0\"/>\n",
       "<text text-anchor=\"start\" x=\"324.75\" y=\"-21\" font-family=\"Linux libertine\" font-size=\"10.00\">output&#45;tensor</text>\n",
       "<text text-anchor=\"start\" x=\"339.38\" y=\"-8.25\" font-family=\"Linux libertine\" font-size=\"10.00\">depth:0</text>\n",
       "<polygon fill=\"none\" stroke=\"black\" points=\"395.75,0 395.75,-35.5 455.25,-35.5 455.25,0 395.75,0\"/>\n",
       "<text text-anchor=\"start\" x=\"400.75\" y=\"-14.62\" font-family=\"Linux libertine\" font-size=\"10.00\">(1, 44, 87)</text>\n",
       "</g>\n",
       "<!-- 59&#45;&gt;60 -->\n",
       "<g id=\"edge76\" class=\"edge\">\n",
       "<title>59&#45;&gt;60</title>\n",
       "<path fill=\"none\" stroke=\"black\" d=\"M387.5,-71.56C387.5,-63.6 387.5,-54.41 387.5,-45.95\"/>\n",
       "<polygon fill=\"black\" stroke=\"black\" points=\"391,-46.05 387.5,-36.05 384,-46.05 391,-46.05\"/>\n",
       "</g>\n",
       "</g>\n",
       "</svg>\n"
      ],
      "text/plain": [
       "<graphviz.graphs.Digraph at 0x7f61e8c65690>"
      ]
     },
     "execution_count": 65,
     "metadata": {},
     "output_type": "execute_result"
    }
   ],
   "source": [
    "model_graph = draw_graph(enc_dec_net,\n",
    "                         input_data=[torch.Tensor(enc_x_train[0:1]).long(),\n",
    "                                     torch.Tensor(dec_x_train[0:1]).long()],\n",
    "                         device=device,\n",
    "                         hide_inner_tensors=True,hide_module_functions=True,\n",
    "                         expand_nested=False, depth=4, dtypes=[torch.long])\n",
    "model_graph.visual_graph"
   ]
  },
  {
   "cell_type": "markdown",
   "id": "fb857618-bb09-4fe6-a23d-dc650c917018",
   "metadata": {},
   "source": [
    "### Training Time"
   ]
  },
  {
   "cell_type": "code",
   "execution_count": 67,
   "id": "5e3b01b1-9b11-4630-862a-43e5f540684d",
   "metadata": {},
   "outputs": [],
   "source": [
    "batch_size = 128\n",
    "xy_train = torch.utils.data.DataLoader(list(zip(torch.Tensor(enc_x_train).long(),\n",
    "                                                torch.Tensor(dec_x_train).long(),\n",
    "                                                torch.Tensor(dec_y_train).long())),\n",
    "                                       shuffle=True, batch_size=batch_size,\n",
    "                                       num_workers=8)\n",
    "xy_val = torch.utils.data.DataLoader(list(zip(torch.Tensor(enc_x_val).long(),\n",
    "                                              torch.Tensor(dec_x_val).long(),\n",
    "                                              torch.Tensor(dec_y_val).long())),\n",
    "                                     shuffle=False, batch_size=batch_size,\n",
    "                                     num_workers=8)"
   ]
  },
  {
   "cell_type": "code",
   "execution_count": 68,
   "id": "9d35e3a0-21f1-4008-8221-fd728cdbe06d",
   "metadata": {
    "tags": []
   },
   "outputs": [],
   "source": [
    "logger = pl.loggers.CSVLogger(\"lightning_logs\",\n",
    "                              name=\"Demo-2023-04-07\",\n",
    "                              version=\"demo-0\")"
   ]
  },
  {
   "cell_type": "code",
   "execution_count": 69,
   "id": "14ddb546-2b28-45cf-a0dc-9b214bbe48c3",
   "metadata": {
    "tags": []
   },
   "outputs": [
    {
     "name": "stderr",
     "output_type": "stream",
     "text": [
      "GPU available: True (cuda), used: True\n",
      "TPU available: False, using: 0 TPU cores\n",
      "IPU available: False, using: 0 IPUs\n",
      "HPU available: False, using: 0 HPUs\n"
     ]
    }
   ],
   "source": [
    "trainer = pl.Trainer(logger=logger,\n",
    "                     max_epochs=300,\n",
    "                     enable_progress_bar=True,\n",
    "                     log_every_n_steps=0,\n",
    "                     enable_checkpointing=False,\n",
    "                     callbacks=[pl.callbacks.TQDMProgressBar(refresh_rate=50)])"
   ]
  },
  {
   "cell_type": "code",
   "execution_count": 70,
   "id": "71649d49-716b-4294-b667-87d1952ebff3",
   "metadata": {
    "tags": []
   },
   "outputs": [
    {
     "name": "stderr",
     "output_type": "stream",
     "text": [
      "LOCAL_RANK: 0 - CUDA_VISIBLE_DEVICES: [0]\n",
      "SLURM auto-requeueing enabled. Setting signal handlers.\n",
      "/opt/conda/lib/python3.11/site-packages/torch/utils/data/dataloader.py:560: UserWarning: This DataLoader will create 8 worker processes in total. Our suggested max number of worker in current system is 2, which is smaller than what this DataLoader is going to create. Please be aware that excessive worker creation might get DataLoader running slow or even freeze, lower the worker number to avoid potential slowness/freeze if necessary.\n",
      "  warnings.warn(_create_warning_msg(\n"
     ]
    },
    {
     "data": {
      "application/vnd.jupyter.widget-view+json": {
       "model_id": "477466b5d62947da894e7b309745b1fc",
       "version_major": 2,
       "version_minor": 0
      },
      "text/plain": [
       "Validation: 0it [00:00, ?it/s]"
      ]
     },
     "metadata": {},
     "output_type": "display_data"
    },
    {
     "data": {
      "text/html": [
       "<pre style=\"white-space:pre;overflow-x:auto;line-height:normal;font-family:Menlo,'DejaVu Sans Mono',consolas,'Courier New',monospace\">┏━━━━━━━━━━━━━━━━━━━━━━━━━━━┳━━━━━━━━━━━━━━━━━━━━━━━━━━━┓\n",
       "┃<span style=\"font-weight: bold\">  Runningstage.validating  </span>┃<span style=\"font-weight: bold\">                           </span>┃\n",
       "┃<span style=\"font-weight: bold\">          metric           </span>┃<span style=\"font-weight: bold\">       DataLoader 0        </span>┃\n",
       "┡━━━━━━━━━━━━━━━━━━━━━━━━━━━╇━━━━━━━━━━━━━━━━━━━━━━━━━━━┩\n",
       "│<span style=\"color: #008080; text-decoration-color: #008080\">          val_acc          </span>│<span style=\"color: #800080; text-decoration-color: #800080\">   0.012901436537504196    </span>│\n",
       "│<span style=\"color: #008080; text-decoration-color: #008080\">         val_loss          </span>│<span style=\"color: #800080; text-decoration-color: #800080\">     4.494296550750732     </span>│\n",
       "└───────────────────────────┴───────────────────────────┘\n",
       "</pre>\n"
      ],
      "text/plain": [
       "┏━━━━━━━━━━━━━━━━━━━━━━━━━━━┳━━━━━━━━━━━━━━━━━━━━━━━━━━━┓\n",
       "┃\u001b[1m \u001b[0m\u001b[1m Runningstage.validating \u001b[0m\u001b[1m \u001b[0m┃\u001b[1m                           \u001b[0m┃\n",
       "┃\u001b[1m \u001b[0m\u001b[1m         metric          \u001b[0m\u001b[1m \u001b[0m┃\u001b[1m \u001b[0m\u001b[1m      DataLoader 0       \u001b[0m\u001b[1m \u001b[0m┃\n",
       "┡━━━━━━━━━━━━━━━━━━━━━━━━━━━╇━━━━━━━━━━━━━━━━━━━━━━━━━━━┩\n",
       "│\u001b[36m \u001b[0m\u001b[36m         val_acc         \u001b[0m\u001b[36m \u001b[0m│\u001b[35m \u001b[0m\u001b[35m  0.012901436537504196   \u001b[0m\u001b[35m \u001b[0m│\n",
       "│\u001b[36m \u001b[0m\u001b[36m        val_loss         \u001b[0m\u001b[36m \u001b[0m│\u001b[35m \u001b[0m\u001b[35m    4.494296550750732    \u001b[0m\u001b[35m \u001b[0m│\n",
       "└───────────────────────────┴───────────────────────────┘\n"
      ]
     },
     "metadata": {},
     "output_type": "display_data"
    },
    {
     "data": {
      "text/plain": [
       "[{'val_acc': 0.012901436537504196, 'val_loss': 4.494296550750732}]"
      ]
     },
     "execution_count": 70,
     "metadata": {},
     "output_type": "execute_result"
    }
   ],
   "source": [
    "trainer.validate(enc_dec_net, xy_val)"
   ]
  },
  {
   "cell_type": "code",
   "execution_count": 71,
   "id": "cab37c48-086a-448c-b747-19c20aa8045a",
   "metadata": {},
   "outputs": [
    {
     "name": "stderr",
     "output_type": "stream",
     "text": [
      "LOCAL_RANK: 0 - CUDA_VISIBLE_DEVICES: [0]\n",
      "SLURM auto-requeueing enabled. Setting signal handlers.\n"
     ]
    },
    {
     "data": {
      "application/vnd.jupyter.widget-view+json": {
       "model_id": "acb4c76067b04d1c9a1416fef3009f43",
       "version_major": 2,
       "version_minor": 0
      },
      "text/plain": [
       "Testing: 0it [00:00, ?it/s]"
      ]
     },
     "metadata": {},
     "output_type": "display_data"
    },
    {
     "data": {
      "text/html": [
       "<pre style=\"white-space:pre;overflow-x:auto;line-height:normal;font-family:Menlo,'DejaVu Sans Mono',consolas,'Courier New',monospace\">┏━━━━━━━━━━━━━━━━━━━━━━━━━━━┳━━━━━━━━━━━━━━━━━━━━━━━━━━━┓\n",
       "┃<span style=\"font-weight: bold\">   Runningstage.testing    </span>┃<span style=\"font-weight: bold\">                           </span>┃\n",
       "┃<span style=\"font-weight: bold\">          metric           </span>┃<span style=\"font-weight: bold\">       DataLoader 0        </span>┃\n",
       "┡━━━━━━━━━━━━━━━━━━━━━━━━━━━╇━━━━━━━━━━━━━━━━━━━━━━━━━━━┩\n",
       "│<span style=\"color: #008080; text-decoration-color: #008080\">         test_acc          </span>│<span style=\"color: #800080; text-decoration-color: #800080\">    0.0037423693574965     </span>│\n",
       "│<span style=\"color: #008080; text-decoration-color: #008080\">         test_loss         </span>│<span style=\"color: #800080; text-decoration-color: #800080\">     4.639850616455078     </span>│\n",
       "└───────────────────────────┴───────────────────────────┘\n",
       "</pre>\n"
      ],
      "text/plain": [
       "┏━━━━━━━━━━━━━━━━━━━━━━━━━━━┳━━━━━━━━━━━━━━━━━━━━━━━━━━━┓\n",
       "┃\u001b[1m \u001b[0m\u001b[1m  Runningstage.testing   \u001b[0m\u001b[1m \u001b[0m┃\u001b[1m                           \u001b[0m┃\n",
       "┃\u001b[1m \u001b[0m\u001b[1m         metric          \u001b[0m\u001b[1m \u001b[0m┃\u001b[1m \u001b[0m\u001b[1m      DataLoader 0       \u001b[0m\u001b[1m \u001b[0m┃\n",
       "┡━━━━━━━━━━━━━━━━━━━━━━━━━━━╇━━━━━━━━━━━━━━━━━━━━━━━━━━━┩\n",
       "│\u001b[36m \u001b[0m\u001b[36m        test_acc         \u001b[0m\u001b[36m \u001b[0m│\u001b[35m \u001b[0m\u001b[35m   0.0037423693574965    \u001b[0m\u001b[35m \u001b[0m│\n",
       "│\u001b[36m \u001b[0m\u001b[36m        test_loss        \u001b[0m\u001b[36m \u001b[0m│\u001b[35m \u001b[0m\u001b[35m    4.639850616455078    \u001b[0m\u001b[35m \u001b[0m│\n",
       "└───────────────────────────┴───────────────────────────┘\n"
      ]
     },
     "metadata": {},
     "output_type": "display_data"
    },
    {
     "data": {
      "text/plain": [
       "[{'test_acc': 0.0037423693574965, 'test_loss': 4.639850616455078}]"
      ]
     },
     "execution_count": 71,
     "metadata": {},
     "output_type": "execute_result"
    }
   ],
   "source": [
    "trainer.test(enc_dec_net, xy_val)"
   ]
  },
  {
   "cell_type": "code",
   "execution_count": 72,
   "id": "ccca909a-78ed-4275-bb49-44436e92dca5",
   "metadata": {},
   "outputs": [],
   "source": [
    "# Saving - be careful\n",
    "import pickle\n",
    "with open(logger.log_dir+\"/mappings\",\"wb\") as f:\n",
    "    pickle.dump(i_to_c_eng,f)\n",
    "    pickle.dump(c_to_i_eng,f)\n",
    "    pickle.dump(i_to_c_por,f)\n",
    "    pickle.dump(c_to_i_por,f)\n",
    "    pickle.dump(encode_seq,f)\n",
    "    pickle.dump(decode_seq,f)"
   ]
  },
  {
   "cell_type": "code",
   "execution_count": 73,
   "id": "1aa41e87-d3f3-4208-bebf-27517f3160c2",
   "metadata": {},
   "outputs": [
    {
     "name": "stderr",
     "output_type": "stream",
     "text": [
      "LOCAL_RANK: 0 - CUDA_VISIBLE_DEVICES: [0]\n",
      "\n",
      "  | Name     | Type               | Params\n",
      "------------------------------------------------\n",
      "0 | mc_acc   | MulticlassAccuracy | 0     \n",
      "1 | cce_loss | CrossEntropyLoss   | 0     \n",
      "2 | enc_net  | EncoderNetwork     | 206 K \n",
      "3 | dec_net  | DecoderNetwork     | 286 K \n",
      "------------------------------------------------\n",
      "493 K     Trainable params\n",
      "0         Non-trainable params\n",
      "493 K     Total params\n",
      "1.973     Total estimated model params size (MB)\n",
      "SLURM auto-requeueing enabled. Setting signal handlers.\n"
     ]
    },
    {
     "data": {
      "application/vnd.jupyter.widget-view+json": {
       "model_id": "",
       "version_major": 2,
       "version_minor": 0
      },
      "text/plain": [
       "Sanity Checking: 0it [00:00, ?it/s]"
      ]
     },
     "metadata": {},
     "output_type": "display_data"
    },
    {
     "data": {
      "application/vnd.jupyter.widget-view+json": {
       "model_id": "858a0e47596846b8ae76f84a6a55de1a",
       "version_major": 2,
       "version_minor": 0
      },
      "text/plain": [
       "Training: 0it [00:00, ?it/s]"
      ]
     },
     "metadata": {},
     "output_type": "display_data"
    },
    {
     "data": {
      "application/vnd.jupyter.widget-view+json": {
       "model_id": "",
       "version_major": 2,
       "version_minor": 0
      },
      "text/plain": [
       "Validation: 0it [00:00, ?it/s]"
      ]
     },
     "metadata": {},
     "output_type": "display_data"
    },
    {
     "data": {
      "application/vnd.jupyter.widget-view+json": {
       "model_id": "",
       "version_major": 2,
       "version_minor": 0
      },
      "text/plain": [
       "Validation: 0it [00:00, ?it/s]"
      ]
     },
     "metadata": {},
     "output_type": "display_data"
    },
    {
     "data": {
      "application/vnd.jupyter.widget-view+json": {
       "model_id": "",
       "version_major": 2,
       "version_minor": 0
      },
      "text/plain": [
       "Validation: 0it [00:00, ?it/s]"
      ]
     },
     "metadata": {},
     "output_type": "display_data"
    },
    {
     "data": {
      "application/vnd.jupyter.widget-view+json": {
       "model_id": "",
       "version_major": 2,
       "version_minor": 0
      },
      "text/plain": [
       "Validation: 0it [00:00, ?it/s]"
      ]
     },
     "metadata": {},
     "output_type": "display_data"
    },
    {
     "data": {
      "application/vnd.jupyter.widget-view+json": {
       "model_id": "",
       "version_major": 2,
       "version_minor": 0
      },
      "text/plain": [
       "Validation: 0it [00:00, ?it/s]"
      ]
     },
     "metadata": {},
     "output_type": "display_data"
    },
    {
     "data": {
      "application/vnd.jupyter.widget-view+json": {
       "model_id": "",
       "version_major": 2,
       "version_minor": 0
      },
      "text/plain": [
       "Validation: 0it [00:00, ?it/s]"
      ]
     },
     "metadata": {},
     "output_type": "display_data"
    },
    {
     "data": {
      "application/vnd.jupyter.widget-view+json": {
       "model_id": "",
       "version_major": 2,
       "version_minor": 0
      },
      "text/plain": [
       "Validation: 0it [00:00, ?it/s]"
      ]
     },
     "metadata": {},
     "output_type": "display_data"
    },
    {
     "data": {
      "application/vnd.jupyter.widget-view+json": {
       "model_id": "",
       "version_major": 2,
       "version_minor": 0
      },
      "text/plain": [
       "Validation: 0it [00:00, ?it/s]"
      ]
     },
     "metadata": {},
     "output_type": "display_data"
    },
    {
     "data": {
      "application/vnd.jupyter.widget-view+json": {
       "model_id": "",
       "version_major": 2,
       "version_minor": 0
      },
      "text/plain": [
       "Validation: 0it [00:00, ?it/s]"
      ]
     },
     "metadata": {},
     "output_type": "display_data"
    },
    {
     "data": {
      "application/vnd.jupyter.widget-view+json": {
       "model_id": "",
       "version_major": 2,
       "version_minor": 0
      },
      "text/plain": [
       "Validation: 0it [00:00, ?it/s]"
      ]
     },
     "metadata": {},
     "output_type": "display_data"
    },
    {
     "data": {
      "application/vnd.jupyter.widget-view+json": {
       "model_id": "",
       "version_major": 2,
       "version_minor": 0
      },
      "text/plain": [
       "Validation: 0it [00:00, ?it/s]"
      ]
     },
     "metadata": {},
     "output_type": "display_data"
    },
    {
     "data": {
      "application/vnd.jupyter.widget-view+json": {
       "model_id": "",
       "version_major": 2,
       "version_minor": 0
      },
      "text/plain": [
       "Validation: 0it [00:00, ?it/s]"
      ]
     },
     "metadata": {},
     "output_type": "display_data"
    },
    {
     "data": {
      "application/vnd.jupyter.widget-view+json": {
       "model_id": "",
       "version_major": 2,
       "version_minor": 0
      },
      "text/plain": [
       "Validation: 0it [00:00, ?it/s]"
      ]
     },
     "metadata": {},
     "output_type": "display_data"
    },
    {
     "data": {
      "application/vnd.jupyter.widget-view+json": {
       "model_id": "",
       "version_major": 2,
       "version_minor": 0
      },
      "text/plain": [
       "Validation: 0it [00:00, ?it/s]"
      ]
     },
     "metadata": {},
     "output_type": "display_data"
    },
    {
     "data": {
      "application/vnd.jupyter.widget-view+json": {
       "model_id": "",
       "version_major": 2,
       "version_minor": 0
      },
      "text/plain": [
       "Validation: 0it [00:00, ?it/s]"
      ]
     },
     "metadata": {},
     "output_type": "display_data"
    },
    {
     "data": {
      "application/vnd.jupyter.widget-view+json": {
       "model_id": "",
       "version_major": 2,
       "version_minor": 0
      },
      "text/plain": [
       "Validation: 0it [00:00, ?it/s]"
      ]
     },
     "metadata": {},
     "output_type": "display_data"
    },
    {
     "data": {
      "application/vnd.jupyter.widget-view+json": {
       "model_id": "",
       "version_major": 2,
       "version_minor": 0
      },
      "text/plain": [
       "Validation: 0it [00:00, ?it/s]"
      ]
     },
     "metadata": {},
     "output_type": "display_data"
    },
    {
     "data": {
      "application/vnd.jupyter.widget-view+json": {
       "model_id": "",
       "version_major": 2,
       "version_minor": 0
      },
      "text/plain": [
       "Validation: 0it [00:00, ?it/s]"
      ]
     },
     "metadata": {},
     "output_type": "display_data"
    },
    {
     "data": {
      "application/vnd.jupyter.widget-view+json": {
       "model_id": "",
       "version_major": 2,
       "version_minor": 0
      },
      "text/plain": [
       "Validation: 0it [00:00, ?it/s]"
      ]
     },
     "metadata": {},
     "output_type": "display_data"
    },
    {
     "data": {
      "application/vnd.jupyter.widget-view+json": {
       "model_id": "",
       "version_major": 2,
       "version_minor": 0
      },
      "text/plain": [
       "Validation: 0it [00:00, ?it/s]"
      ]
     },
     "metadata": {},
     "output_type": "display_data"
    },
    {
     "data": {
      "application/vnd.jupyter.widget-view+json": {
       "model_id": "",
       "version_major": 2,
       "version_minor": 0
      },
      "text/plain": [
       "Validation: 0it [00:00, ?it/s]"
      ]
     },
     "metadata": {},
     "output_type": "display_data"
    },
    {
     "data": {
      "application/vnd.jupyter.widget-view+json": {
       "model_id": "",
       "version_major": 2,
       "version_minor": 0
      },
      "text/plain": [
       "Validation: 0it [00:00, ?it/s]"
      ]
     },
     "metadata": {},
     "output_type": "display_data"
    },
    {
     "data": {
      "application/vnd.jupyter.widget-view+json": {
       "model_id": "",
       "version_major": 2,
       "version_minor": 0
      },
      "text/plain": [
       "Validation: 0it [00:00, ?it/s]"
      ]
     },
     "metadata": {},
     "output_type": "display_data"
    },
    {
     "data": {
      "application/vnd.jupyter.widget-view+json": {
       "model_id": "",
       "version_major": 2,
       "version_minor": 0
      },
      "text/plain": [
       "Validation: 0it [00:00, ?it/s]"
      ]
     },
     "metadata": {},
     "output_type": "display_data"
    },
    {
     "data": {
      "application/vnd.jupyter.widget-view+json": {
       "model_id": "",
       "version_major": 2,
       "version_minor": 0
      },
      "text/plain": [
       "Validation: 0it [00:00, ?it/s]"
      ]
     },
     "metadata": {},
     "output_type": "display_data"
    },
    {
     "data": {
      "application/vnd.jupyter.widget-view+json": {
       "model_id": "",
       "version_major": 2,
       "version_minor": 0
      },
      "text/plain": [
       "Validation: 0it [00:00, ?it/s]"
      ]
     },
     "metadata": {},
     "output_type": "display_data"
    },
    {
     "data": {
      "application/vnd.jupyter.widget-view+json": {
       "model_id": "",
       "version_major": 2,
       "version_minor": 0
      },
      "text/plain": [
       "Validation: 0it [00:00, ?it/s]"
      ]
     },
     "metadata": {},
     "output_type": "display_data"
    },
    {
     "data": {
      "application/vnd.jupyter.widget-view+json": {
       "model_id": "",
       "version_major": 2,
       "version_minor": 0
      },
      "text/plain": [
       "Validation: 0it [00:00, ?it/s]"
      ]
     },
     "metadata": {},
     "output_type": "display_data"
    },
    {
     "data": {
      "application/vnd.jupyter.widget-view+json": {
       "model_id": "",
       "version_major": 2,
       "version_minor": 0
      },
      "text/plain": [
       "Validation: 0it [00:00, ?it/s]"
      ]
     },
     "metadata": {},
     "output_type": "display_data"
    },
    {
     "data": {
      "application/vnd.jupyter.widget-view+json": {
       "model_id": "",
       "version_major": 2,
       "version_minor": 0
      },
      "text/plain": [
       "Validation: 0it [00:00, ?it/s]"
      ]
     },
     "metadata": {},
     "output_type": "display_data"
    },
    {
     "data": {
      "application/vnd.jupyter.widget-view+json": {
       "model_id": "",
       "version_major": 2,
       "version_minor": 0
      },
      "text/plain": [
       "Validation: 0it [00:00, ?it/s]"
      ]
     },
     "metadata": {},
     "output_type": "display_data"
    },
    {
     "data": {
      "application/vnd.jupyter.widget-view+json": {
       "model_id": "",
       "version_major": 2,
       "version_minor": 0
      },
      "text/plain": [
       "Validation: 0it [00:00, ?it/s]"
      ]
     },
     "metadata": {},
     "output_type": "display_data"
    },
    {
     "data": {
      "application/vnd.jupyter.widget-view+json": {
       "model_id": "",
       "version_major": 2,
       "version_minor": 0
      },
      "text/plain": [
       "Validation: 0it [00:00, ?it/s]"
      ]
     },
     "metadata": {},
     "output_type": "display_data"
    },
    {
     "data": {
      "application/vnd.jupyter.widget-view+json": {
       "model_id": "",
       "version_major": 2,
       "version_minor": 0
      },
      "text/plain": [
       "Validation: 0it [00:00, ?it/s]"
      ]
     },
     "metadata": {},
     "output_type": "display_data"
    },
    {
     "data": {
      "application/vnd.jupyter.widget-view+json": {
       "model_id": "",
       "version_major": 2,
       "version_minor": 0
      },
      "text/plain": [
       "Validation: 0it [00:00, ?it/s]"
      ]
     },
     "metadata": {},
     "output_type": "display_data"
    },
    {
     "data": {
      "application/vnd.jupyter.widget-view+json": {
       "model_id": "",
       "version_major": 2,
       "version_minor": 0
      },
      "text/plain": [
       "Validation: 0it [00:00, ?it/s]"
      ]
     },
     "metadata": {},
     "output_type": "display_data"
    },
    {
     "data": {
      "application/vnd.jupyter.widget-view+json": {
       "model_id": "",
       "version_major": 2,
       "version_minor": 0
      },
      "text/plain": [
       "Validation: 0it [00:00, ?it/s]"
      ]
     },
     "metadata": {},
     "output_type": "display_data"
    },
    {
     "data": {
      "application/vnd.jupyter.widget-view+json": {
       "model_id": "",
       "version_major": 2,
       "version_minor": 0
      },
      "text/plain": [
       "Validation: 0it [00:00, ?it/s]"
      ]
     },
     "metadata": {},
     "output_type": "display_data"
    },
    {
     "data": {
      "application/vnd.jupyter.widget-view+json": {
       "model_id": "",
       "version_major": 2,
       "version_minor": 0
      },
      "text/plain": [
       "Validation: 0it [00:00, ?it/s]"
      ]
     },
     "metadata": {},
     "output_type": "display_data"
    },
    {
     "data": {
      "application/vnd.jupyter.widget-view+json": {
       "model_id": "",
       "version_major": 2,
       "version_minor": 0
      },
      "text/plain": [
       "Validation: 0it [00:00, ?it/s]"
      ]
     },
     "metadata": {},
     "output_type": "display_data"
    },
    {
     "data": {
      "application/vnd.jupyter.widget-view+json": {
       "model_id": "",
       "version_major": 2,
       "version_minor": 0
      },
      "text/plain": [
       "Validation: 0it [00:00, ?it/s]"
      ]
     },
     "metadata": {},
     "output_type": "display_data"
    },
    {
     "data": {
      "application/vnd.jupyter.widget-view+json": {
       "model_id": "",
       "version_major": 2,
       "version_minor": 0
      },
      "text/plain": [
       "Validation: 0it [00:00, ?it/s]"
      ]
     },
     "metadata": {},
     "output_type": "display_data"
    },
    {
     "data": {
      "application/vnd.jupyter.widget-view+json": {
       "model_id": "",
       "version_major": 2,
       "version_minor": 0
      },
      "text/plain": [
       "Validation: 0it [00:00, ?it/s]"
      ]
     },
     "metadata": {},
     "output_type": "display_data"
    },
    {
     "data": {
      "application/vnd.jupyter.widget-view+json": {
       "model_id": "",
       "version_major": 2,
       "version_minor": 0
      },
      "text/plain": [
       "Validation: 0it [00:00, ?it/s]"
      ]
     },
     "metadata": {},
     "output_type": "display_data"
    },
    {
     "data": {
      "application/vnd.jupyter.widget-view+json": {
       "model_id": "",
       "version_major": 2,
       "version_minor": 0
      },
      "text/plain": [
       "Validation: 0it [00:00, ?it/s]"
      ]
     },
     "metadata": {},
     "output_type": "display_data"
    },
    {
     "data": {
      "application/vnd.jupyter.widget-view+json": {
       "model_id": "",
       "version_major": 2,
       "version_minor": 0
      },
      "text/plain": [
       "Validation: 0it [00:00, ?it/s]"
      ]
     },
     "metadata": {},
     "output_type": "display_data"
    },
    {
     "data": {
      "application/vnd.jupyter.widget-view+json": {
       "model_id": "",
       "version_major": 2,
       "version_minor": 0
      },
      "text/plain": [
       "Validation: 0it [00:00, ?it/s]"
      ]
     },
     "metadata": {},
     "output_type": "display_data"
    },
    {
     "data": {
      "application/vnd.jupyter.widget-view+json": {
       "model_id": "c022123e82224f8cb6b77da5abd49a7b",
       "version_major": 2,
       "version_minor": 0
      },
      "text/plain": [
       "Validation: 0it [00:00, ?it/s]"
      ]
     },
     "metadata": {},
     "output_type": "display_data"
    },
    {
     "data": {
      "application/vnd.jupyter.widget-view+json": {
       "model_id": "5f778e60c3304317b45cc8b773f3ad63",
       "version_major": 2,
       "version_minor": 0
      },
      "text/plain": [
       "Validation: 0it [00:00, ?it/s]"
      ]
     },
     "metadata": {},
     "output_type": "display_data"
    },
    {
     "data": {
      "application/vnd.jupyter.widget-view+json": {
       "model_id": "f5bf19f953614d9eb8772aefe7b2da8c",
       "version_major": 2,
       "version_minor": 0
      },
      "text/plain": [
       "Validation: 0it [00:00, ?it/s]"
      ]
     },
     "metadata": {},
     "output_type": "display_data"
    },
    {
     "data": {
      "application/vnd.jupyter.widget-view+json": {
       "model_id": "6a1670543520432897425512cafe90e8",
       "version_major": 2,
       "version_minor": 0
      },
      "text/plain": [
       "Validation: 0it [00:00, ?it/s]"
      ]
     },
     "metadata": {},
     "output_type": "display_data"
    },
    {
     "data": {
      "application/vnd.jupyter.widget-view+json": {
       "model_id": "c81952d732af4b94a789c0be66cd0ba8",
       "version_major": 2,
       "version_minor": 0
      },
      "text/plain": [
       "Validation: 0it [00:00, ?it/s]"
      ]
     },
     "metadata": {},
     "output_type": "display_data"
    },
    {
     "data": {
      "application/vnd.jupyter.widget-view+json": {
       "model_id": "072f5dfd1fb24dc0be4f10d2d8edfeb3",
       "version_major": 2,
       "version_minor": 0
      },
      "text/plain": [
       "Validation: 0it [00:00, ?it/s]"
      ]
     },
     "metadata": {},
     "output_type": "display_data"
    },
    {
     "data": {
      "application/vnd.jupyter.widget-view+json": {
       "model_id": "430b19b355ab4c608a4be384ca7a3300",
       "version_major": 2,
       "version_minor": 0
      },
      "text/plain": [
       "Validation: 0it [00:00, ?it/s]"
      ]
     },
     "metadata": {},
     "output_type": "display_data"
    },
    {
     "data": {
      "application/vnd.jupyter.widget-view+json": {
       "model_id": "1e5da3ec8b9842d696e251d82294e6e4",
       "version_major": 2,
       "version_minor": 0
      },
      "text/plain": [
       "Validation: 0it [00:00, ?it/s]"
      ]
     },
     "metadata": {},
     "output_type": "display_data"
    },
    {
     "data": {
      "application/vnd.jupyter.widget-view+json": {
       "model_id": "e447084685d742efae0f8a5066fde33d",
       "version_major": 2,
       "version_minor": 0
      },
      "text/plain": [
       "Validation: 0it [00:00, ?it/s]"
      ]
     },
     "metadata": {},
     "output_type": "display_data"
    },
    {
     "data": {
      "application/vnd.jupyter.widget-view+json": {
       "model_id": "5ad293f70fa849a6ac4d15c7b7a551dc",
       "version_major": 2,
       "version_minor": 0
      },
      "text/plain": [
       "Validation: 0it [00:00, ?it/s]"
      ]
     },
     "metadata": {},
     "output_type": "display_data"
    },
    {
     "data": {
      "application/vnd.jupyter.widget-view+json": {
       "model_id": "7f93ee77fdce48148b9fd4bd73a7e2e1",
       "version_major": 2,
       "version_minor": 0
      },
      "text/plain": [
       "Validation: 0it [00:00, ?it/s]"
      ]
     },
     "metadata": {},
     "output_type": "display_data"
    },
    {
     "data": {
      "application/vnd.jupyter.widget-view+json": {
       "model_id": "b686f046c50942aa9962861af832b671",
       "version_major": 2,
       "version_minor": 0
      },
      "text/plain": [
       "Validation: 0it [00:00, ?it/s]"
      ]
     },
     "metadata": {},
     "output_type": "display_data"
    },
    {
     "data": {
      "application/vnd.jupyter.widget-view+json": {
       "model_id": "464b869b44e649ef8dfdca73ac1c275b",
       "version_major": 2,
       "version_minor": 0
      },
      "text/plain": [
       "Validation: 0it [00:00, ?it/s]"
      ]
     },
     "metadata": {},
     "output_type": "display_data"
    },
    {
     "data": {
      "application/vnd.jupyter.widget-view+json": {
       "model_id": "3f6af2dede144ddabbf02df9b480ef61",
       "version_major": 2,
       "version_minor": 0
      },
      "text/plain": [
       "Validation: 0it [00:00, ?it/s]"
      ]
     },
     "metadata": {},
     "output_type": "display_data"
    },
    {
     "data": {
      "application/vnd.jupyter.widget-view+json": {
       "model_id": "fb250f8bc4444b48bba445cc86e6958b",
       "version_major": 2,
       "version_minor": 0
      },
      "text/plain": [
       "Validation: 0it [00:00, ?it/s]"
      ]
     },
     "metadata": {},
     "output_type": "display_data"
    },
    {
     "data": {
      "application/vnd.jupyter.widget-view+json": {
       "model_id": "95c40d853b484fd6acbee3f4fdbb7e43",
       "version_major": 2,
       "version_minor": 0
      },
      "text/plain": [
       "Validation: 0it [00:00, ?it/s]"
      ]
     },
     "metadata": {},
     "output_type": "display_data"
    },
    {
     "data": {
      "application/vnd.jupyter.widget-view+json": {
       "model_id": "40cce16afaa64b7a847183bd9e769ab4",
       "version_major": 2,
       "version_minor": 0
      },
      "text/plain": [
       "Validation: 0it [00:00, ?it/s]"
      ]
     },
     "metadata": {},
     "output_type": "display_data"
    },
    {
     "data": {
      "application/vnd.jupyter.widget-view+json": {
       "model_id": "5722af2f8c5a41b0a8c234c6cc8ba3f1",
       "version_major": 2,
       "version_minor": 0
      },
      "text/plain": [
       "Validation: 0it [00:00, ?it/s]"
      ]
     },
     "metadata": {},
     "output_type": "display_data"
    },
    {
     "data": {
      "application/vnd.jupyter.widget-view+json": {
       "model_id": "64dd43025fd141f39d1325c3fc693fee",
       "version_major": 2,
       "version_minor": 0
      },
      "text/plain": [
       "Validation: 0it [00:00, ?it/s]"
      ]
     },
     "metadata": {},
     "output_type": "display_data"
    },
    {
     "data": {
      "application/vnd.jupyter.widget-view+json": {
       "model_id": "b5b4bb01454d4e95b0d1d73bc0d469d3",
       "version_major": 2,
       "version_minor": 0
      },
      "text/plain": [
       "Validation: 0it [00:00, ?it/s]"
      ]
     },
     "metadata": {},
     "output_type": "display_data"
    },
    {
     "data": {
      "application/vnd.jupyter.widget-view+json": {
       "model_id": "78de040e0bef4920974ddd483e09c5dc",
       "version_major": 2,
       "version_minor": 0
      },
      "text/plain": [
       "Validation: 0it [00:00, ?it/s]"
      ]
     },
     "metadata": {},
     "output_type": "display_data"
    },
    {
     "data": {
      "application/vnd.jupyter.widget-view+json": {
       "model_id": "deb50e976ea84b8bb3e8c3e29ff6b7b6",
       "version_major": 2,
       "version_minor": 0
      },
      "text/plain": [
       "Validation: 0it [00:00, ?it/s]"
      ]
     },
     "metadata": {},
     "output_type": "display_data"
    },
    {
     "data": {
      "application/vnd.jupyter.widget-view+json": {
       "model_id": "ff1408ddcdfd4c408e5dd533799f3934",
       "version_major": 2,
       "version_minor": 0
      },
      "text/plain": [
       "Validation: 0it [00:00, ?it/s]"
      ]
     },
     "metadata": {},
     "output_type": "display_data"
    },
    {
     "data": {
      "application/vnd.jupyter.widget-view+json": {
       "model_id": "454806aa9d1e4e35a2f923f4f557b0d2",
       "version_major": 2,
       "version_minor": 0
      },
      "text/plain": [
       "Validation: 0it [00:00, ?it/s]"
      ]
     },
     "metadata": {},
     "output_type": "display_data"
    },
    {
     "data": {
      "application/vnd.jupyter.widget-view+json": {
       "model_id": "c916b62bad1b4748a4f8bca35c3c2203",
       "version_major": 2,
       "version_minor": 0
      },
      "text/plain": [
       "Validation: 0it [00:00, ?it/s]"
      ]
     },
     "metadata": {},
     "output_type": "display_data"
    },
    {
     "data": {
      "application/vnd.jupyter.widget-view+json": {
       "model_id": "a2c9225ba300419692a7db3640921532",
       "version_major": 2,
       "version_minor": 0
      },
      "text/plain": [
       "Validation: 0it [00:00, ?it/s]"
      ]
     },
     "metadata": {},
     "output_type": "display_data"
    },
    {
     "data": {
      "application/vnd.jupyter.widget-view+json": {
       "model_id": "9d99026021ed4d7cb56247c1a85fe2c3",
       "version_major": 2,
       "version_minor": 0
      },
      "text/plain": [
       "Validation: 0it [00:00, ?it/s]"
      ]
     },
     "metadata": {},
     "output_type": "display_data"
    },
    {
     "data": {
      "application/vnd.jupyter.widget-view+json": {
       "model_id": "f76b566ea32a494180a50fa1c60350bc",
       "version_major": 2,
       "version_minor": 0
      },
      "text/plain": [
       "Validation: 0it [00:00, ?it/s]"
      ]
     },
     "metadata": {},
     "output_type": "display_data"
    },
    {
     "data": {
      "application/vnd.jupyter.widget-view+json": {
       "model_id": "51f7d979b2c2415282c1ecb61db9b162",
       "version_major": 2,
       "version_minor": 0
      },
      "text/plain": [
       "Validation: 0it [00:00, ?it/s]"
      ]
     },
     "metadata": {},
     "output_type": "display_data"
    },
    {
     "data": {
      "application/vnd.jupyter.widget-view+json": {
       "model_id": "57ffc221c6e74f8f91adfadc8af9b0b1",
       "version_major": 2,
       "version_minor": 0
      },
      "text/plain": [
       "Validation: 0it [00:00, ?it/s]"
      ]
     },
     "metadata": {},
     "output_type": "display_data"
    },
    {
     "data": {
      "application/vnd.jupyter.widget-view+json": {
       "model_id": "04e67041449641c782430d2cd22345bc",
       "version_major": 2,
       "version_minor": 0
      },
      "text/plain": [
       "Validation: 0it [00:00, ?it/s]"
      ]
     },
     "metadata": {},
     "output_type": "display_data"
    },
    {
     "data": {
      "application/vnd.jupyter.widget-view+json": {
       "model_id": "e5dfcb3afda3474d93e84fe5d1aee599",
       "version_major": 2,
       "version_minor": 0
      },
      "text/plain": [
       "Validation: 0it [00:00, ?it/s]"
      ]
     },
     "metadata": {},
     "output_type": "display_data"
    },
    {
     "data": {
      "application/vnd.jupyter.widget-view+json": {
       "model_id": "0589e0c05dc2412f9ccb64d3bdbd6bca",
       "version_major": 2,
       "version_minor": 0
      },
      "text/plain": [
       "Validation: 0it [00:00, ?it/s]"
      ]
     },
     "metadata": {},
     "output_type": "display_data"
    },
    {
     "data": {
      "application/vnd.jupyter.widget-view+json": {
       "model_id": "db6c84d593a64b9b91a9dcaff6c291e6",
       "version_major": 2,
       "version_minor": 0
      },
      "text/plain": [
       "Validation: 0it [00:00, ?it/s]"
      ]
     },
     "metadata": {},
     "output_type": "display_data"
    },
    {
     "data": {
      "application/vnd.jupyter.widget-view+json": {
       "model_id": "0d5030cf90f94c79b5f70dff9e65ee1d",
       "version_major": 2,
       "version_minor": 0
      },
      "text/plain": [
       "Validation: 0it [00:00, ?it/s]"
      ]
     },
     "metadata": {},
     "output_type": "display_data"
    },
    {
     "data": {
      "application/vnd.jupyter.widget-view+json": {
       "model_id": "99e9f5e178f04ac5a3895360541f8c39",
       "version_major": 2,
       "version_minor": 0
      },
      "text/plain": [
       "Validation: 0it [00:00, ?it/s]"
      ]
     },
     "metadata": {},
     "output_type": "display_data"
    },
    {
     "data": {
      "application/vnd.jupyter.widget-view+json": {
       "model_id": "5fea5ad6e1cc40529ced8d542b0acdde",
       "version_major": 2,
       "version_minor": 0
      },
      "text/plain": [
       "Validation: 0it [00:00, ?it/s]"
      ]
     },
     "metadata": {},
     "output_type": "display_data"
    },
    {
     "data": {
      "application/vnd.jupyter.widget-view+json": {
       "model_id": "9d67ae46e78f4b9fbef18d3ac8e959c4",
       "version_major": 2,
       "version_minor": 0
      },
      "text/plain": [
       "Validation: 0it [00:00, ?it/s]"
      ]
     },
     "metadata": {},
     "output_type": "display_data"
    },
    {
     "data": {
      "application/vnd.jupyter.widget-view+json": {
       "model_id": "bc6ece8d911246bbbc55b311122ff9f3",
       "version_major": 2,
       "version_minor": 0
      },
      "text/plain": [
       "Validation: 0it [00:00, ?it/s]"
      ]
     },
     "metadata": {},
     "output_type": "display_data"
    },
    {
     "data": {
      "application/vnd.jupyter.widget-view+json": {
       "model_id": "dac63c311e9c4c3eb82092c00f2f6f89",
       "version_major": 2,
       "version_minor": 0
      },
      "text/plain": [
       "Validation: 0it [00:00, ?it/s]"
      ]
     },
     "metadata": {},
     "output_type": "display_data"
    },
    {
     "data": {
      "application/vnd.jupyter.widget-view+json": {
       "model_id": "e98fc3ffe44149f68dc02b92e95126c4",
       "version_major": 2,
       "version_minor": 0
      },
      "text/plain": [
       "Validation: 0it [00:00, ?it/s]"
      ]
     },
     "metadata": {},
     "output_type": "display_data"
    },
    {
     "data": {
      "application/vnd.jupyter.widget-view+json": {
       "model_id": "ee72afd3cd52483889ed51b7f99a91d9",
       "version_major": 2,
       "version_minor": 0
      },
      "text/plain": [
       "Validation: 0it [00:00, ?it/s]"
      ]
     },
     "metadata": {},
     "output_type": "display_data"
    },
    {
     "data": {
      "application/vnd.jupyter.widget-view+json": {
       "model_id": "bf2a66b437c14e3c863b4d53bfc36102",
       "version_major": 2,
       "version_minor": 0
      },
      "text/plain": [
       "Validation: 0it [00:00, ?it/s]"
      ]
     },
     "metadata": {},
     "output_type": "display_data"
    },
    {
     "data": {
      "application/vnd.jupyter.widget-view+json": {
       "model_id": "85038b22229043d29f5a40d36bbca538",
       "version_major": 2,
       "version_minor": 0
      },
      "text/plain": [
       "Validation: 0it [00:00, ?it/s]"
      ]
     },
     "metadata": {},
     "output_type": "display_data"
    },
    {
     "data": {
      "application/vnd.jupyter.widget-view+json": {
       "model_id": "0d557f7605464e71a25220a7a5fb50d1",
       "version_major": 2,
       "version_minor": 0
      },
      "text/plain": [
       "Validation: 0it [00:00, ?it/s]"
      ]
     },
     "metadata": {},
     "output_type": "display_data"
    },
    {
     "data": {
      "application/vnd.jupyter.widget-view+json": {
       "model_id": "951b886ccf4a4524877ed23ea400e8c6",
       "version_major": 2,
       "version_minor": 0
      },
      "text/plain": [
       "Validation: 0it [00:00, ?it/s]"
      ]
     },
     "metadata": {},
     "output_type": "display_data"
    },
    {
     "data": {
      "application/vnd.jupyter.widget-view+json": {
       "model_id": "187401cd29b24872b7aaa9dc0d8e4760",
       "version_major": 2,
       "version_minor": 0
      },
      "text/plain": [
       "Validation: 0it [00:00, ?it/s]"
      ]
     },
     "metadata": {},
     "output_type": "display_data"
    },
    {
     "data": {
      "application/vnd.jupyter.widget-view+json": {
       "model_id": "fcee4472cee143f1b8368fc5cad79a90",
       "version_major": 2,
       "version_minor": 0
      },
      "text/plain": [
       "Validation: 0it [00:00, ?it/s]"
      ]
     },
     "metadata": {},
     "output_type": "display_data"
    },
    {
     "data": {
      "application/vnd.jupyter.widget-view+json": {
       "model_id": "b5c75fe6cb3540819bce7d2c1e1c30b8",
       "version_major": 2,
       "version_minor": 0
      },
      "text/plain": [
       "Validation: 0it [00:00, ?it/s]"
      ]
     },
     "metadata": {},
     "output_type": "display_data"
    },
    {
     "data": {
      "application/vnd.jupyter.widget-view+json": {
       "model_id": "b6759ee74da84d9497dd217105026f89",
       "version_major": 2,
       "version_minor": 0
      },
      "text/plain": [
       "Validation: 0it [00:00, ?it/s]"
      ]
     },
     "metadata": {},
     "output_type": "display_data"
    },
    {
     "data": {
      "application/vnd.jupyter.widget-view+json": {
       "model_id": "c2c941015cba4898b11edfedf3160133",
       "version_major": 2,
       "version_minor": 0
      },
      "text/plain": [
       "Validation: 0it [00:00, ?it/s]"
      ]
     },
     "metadata": {},
     "output_type": "display_data"
    },
    {
     "data": {
      "application/vnd.jupyter.widget-view+json": {
       "model_id": "bde695dfe4fb4fc5804253a7e0a7a24d",
       "version_major": 2,
       "version_minor": 0
      },
      "text/plain": [
       "Validation: 0it [00:00, ?it/s]"
      ]
     },
     "metadata": {},
     "output_type": "display_data"
    },
    {
     "data": {
      "application/vnd.jupyter.widget-view+json": {
       "model_id": "617766ef7d564040889291ccedf0da21",
       "version_major": 2,
       "version_minor": 0
      },
      "text/plain": [
       "Validation: 0it [00:00, ?it/s]"
      ]
     },
     "metadata": {},
     "output_type": "display_data"
    },
    {
     "data": {
      "application/vnd.jupyter.widget-view+json": {
       "model_id": "9704b9f57a8f460d9dc5447a30002976",
       "version_major": 2,
       "version_minor": 0
      },
      "text/plain": [
       "Validation: 0it [00:00, ?it/s]"
      ]
     },
     "metadata": {},
     "output_type": "display_data"
    },
    {
     "data": {
      "application/vnd.jupyter.widget-view+json": {
       "model_id": "3c1f396c5425449497b79a841c6f7b9f",
       "version_major": 2,
       "version_minor": 0
      },
      "text/plain": [
       "Validation: 0it [00:00, ?it/s]"
      ]
     },
     "metadata": {},
     "output_type": "display_data"
    },
    {
     "data": {
      "application/vnd.jupyter.widget-view+json": {
       "model_id": "5bddc3a8c91c46b8b2e46169444f63c1",
       "version_major": 2,
       "version_minor": 0
      },
      "text/plain": [
       "Validation: 0it [00:00, ?it/s]"
      ]
     },
     "metadata": {},
     "output_type": "display_data"
    },
    {
     "data": {
      "application/vnd.jupyter.widget-view+json": {
       "model_id": "fc461be7d67a4eb1b7f388e0cffe4582",
       "version_major": 2,
       "version_minor": 0
      },
      "text/plain": [
       "Validation: 0it [00:00, ?it/s]"
      ]
     },
     "metadata": {},
     "output_type": "display_data"
    },
    {
     "data": {
      "application/vnd.jupyter.widget-view+json": {
       "model_id": "aa13a6eb889840399226ab28833ec350",
       "version_major": 2,
       "version_minor": 0
      },
      "text/plain": [
       "Validation: 0it [00:00, ?it/s]"
      ]
     },
     "metadata": {},
     "output_type": "display_data"
    },
    {
     "data": {
      "application/vnd.jupyter.widget-view+json": {
       "model_id": "04cb7d3931984f6ca162a15266af0af1",
       "version_major": 2,
       "version_minor": 0
      },
      "text/plain": [
       "Validation: 0it [00:00, ?it/s]"
      ]
     },
     "metadata": {},
     "output_type": "display_data"
    },
    {
     "data": {
      "application/vnd.jupyter.widget-view+json": {
       "model_id": "2500d41b59e24a29a7a16b67c3c09d2a",
       "version_major": 2,
       "version_minor": 0
      },
      "text/plain": [
       "Validation: 0it [00:00, ?it/s]"
      ]
     },
     "metadata": {},
     "output_type": "display_data"
    },
    {
     "data": {
      "application/vnd.jupyter.widget-view+json": {
       "model_id": "dc781b6400f44836b447d155aaaa83e8",
       "version_major": 2,
       "version_minor": 0
      },
      "text/plain": [
       "Validation: 0it [00:00, ?it/s]"
      ]
     },
     "metadata": {},
     "output_type": "display_data"
    },
    {
     "data": {
      "application/vnd.jupyter.widget-view+json": {
       "model_id": "672a8f0f15954281be628dcb2233458b",
       "version_major": 2,
       "version_minor": 0
      },
      "text/plain": [
       "Validation: 0it [00:00, ?it/s]"
      ]
     },
     "metadata": {},
     "output_type": "display_data"
    },
    {
     "data": {
      "application/vnd.jupyter.widget-view+json": {
       "model_id": "b58d9f43eb6a426e8550e6cd2dddd86e",
       "version_major": 2,
       "version_minor": 0
      },
      "text/plain": [
       "Validation: 0it [00:00, ?it/s]"
      ]
     },
     "metadata": {},
     "output_type": "display_data"
    },
    {
     "data": {
      "application/vnd.jupyter.widget-view+json": {
       "model_id": "480b1a5e85244848991794bb0f60a387",
       "version_major": 2,
       "version_minor": 0
      },
      "text/plain": [
       "Validation: 0it [00:00, ?it/s]"
      ]
     },
     "metadata": {},
     "output_type": "display_data"
    },
    {
     "data": {
      "application/vnd.jupyter.widget-view+json": {
       "model_id": "33eefdb32c494d378e56163128334560",
       "version_major": 2,
       "version_minor": 0
      },
      "text/plain": [
       "Validation: 0it [00:00, ?it/s]"
      ]
     },
     "metadata": {},
     "output_type": "display_data"
    },
    {
     "data": {
      "application/vnd.jupyter.widget-view+json": {
       "model_id": "a33e06243e41411584725a80b25ffbe2",
       "version_major": 2,
       "version_minor": 0
      },
      "text/plain": [
       "Validation: 0it [00:00, ?it/s]"
      ]
     },
     "metadata": {},
     "output_type": "display_data"
    },
    {
     "data": {
      "application/vnd.jupyter.widget-view+json": {
       "model_id": "6eb68a23f9ad46c882a30ba7a9983e0e",
       "version_major": 2,
       "version_minor": 0
      },
      "text/plain": [
       "Validation: 0it [00:00, ?it/s]"
      ]
     },
     "metadata": {},
     "output_type": "display_data"
    },
    {
     "data": {
      "application/vnd.jupyter.widget-view+json": {
       "model_id": "c7f970e4afae4087bbb4bb900958cdf5",
       "version_major": 2,
       "version_minor": 0
      },
      "text/plain": [
       "Validation: 0it [00:00, ?it/s]"
      ]
     },
     "metadata": {},
     "output_type": "display_data"
    },
    {
     "data": {
      "application/vnd.jupyter.widget-view+json": {
       "model_id": "5258c41fcc27418db41a0f7371af5fe9",
       "version_major": 2,
       "version_minor": 0
      },
      "text/plain": [
       "Validation: 0it [00:00, ?it/s]"
      ]
     },
     "metadata": {},
     "output_type": "display_data"
    },
    {
     "data": {
      "application/vnd.jupyter.widget-view+json": {
       "model_id": "1c253be439d64c43a3bda5c89bb899cd",
       "version_major": 2,
       "version_minor": 0
      },
      "text/plain": [
       "Validation: 0it [00:00, ?it/s]"
      ]
     },
     "metadata": {},
     "output_type": "display_data"
    },
    {
     "data": {
      "application/vnd.jupyter.widget-view+json": {
       "model_id": "cfc03322cde1419e9c8a8aa8661f3298",
       "version_major": 2,
       "version_minor": 0
      },
      "text/plain": [
       "Validation: 0it [00:00, ?it/s]"
      ]
     },
     "metadata": {},
     "output_type": "display_data"
    },
    {
     "data": {
      "application/vnd.jupyter.widget-view+json": {
       "model_id": "a4c4387365604114824d3f947cd24e41",
       "version_major": 2,
       "version_minor": 0
      },
      "text/plain": [
       "Validation: 0it [00:00, ?it/s]"
      ]
     },
     "metadata": {},
     "output_type": "display_data"
    },
    {
     "data": {
      "application/vnd.jupyter.widget-view+json": {
       "model_id": "9b1eb7608013453d91ee94fc8a4688b0",
       "version_major": 2,
       "version_minor": 0
      },
      "text/plain": [
       "Validation: 0it [00:00, ?it/s]"
      ]
     },
     "metadata": {},
     "output_type": "display_data"
    },
    {
     "data": {
      "application/vnd.jupyter.widget-view+json": {
       "model_id": "41a2e308b2ed424fa355cdd5cfdd9964",
       "version_major": 2,
       "version_minor": 0
      },
      "text/plain": [
       "Validation: 0it [00:00, ?it/s]"
      ]
     },
     "metadata": {},
     "output_type": "display_data"
    },
    {
     "data": {
      "application/vnd.jupyter.widget-view+json": {
       "model_id": "345cf6ef657246f3ad2a9daffa24e91d",
       "version_major": 2,
       "version_minor": 0
      },
      "text/plain": [
       "Validation: 0it [00:00, ?it/s]"
      ]
     },
     "metadata": {},
     "output_type": "display_data"
    },
    {
     "data": {
      "application/vnd.jupyter.widget-view+json": {
       "model_id": "df8c0cbff95b4fabbcd8ea17cb8acd01",
       "version_major": 2,
       "version_minor": 0
      },
      "text/plain": [
       "Validation: 0it [00:00, ?it/s]"
      ]
     },
     "metadata": {},
     "output_type": "display_data"
    },
    {
     "data": {
      "application/vnd.jupyter.widget-view+json": {
       "model_id": "4b2ce6887b8440a09ff0e1b0ed110b85",
       "version_major": 2,
       "version_minor": 0
      },
      "text/plain": [
       "Validation: 0it [00:00, ?it/s]"
      ]
     },
     "metadata": {},
     "output_type": "display_data"
    },
    {
     "data": {
      "application/vnd.jupyter.widget-view+json": {
       "model_id": "777d82e830d2436c848290ce36766248",
       "version_major": 2,
       "version_minor": 0
      },
      "text/plain": [
       "Validation: 0it [00:00, ?it/s]"
      ]
     },
     "metadata": {},
     "output_type": "display_data"
    },
    {
     "data": {
      "application/vnd.jupyter.widget-view+json": {
       "model_id": "b6af7fa762744365abe2c90391697f0b",
       "version_major": 2,
       "version_minor": 0
      },
      "text/plain": [
       "Validation: 0it [00:00, ?it/s]"
      ]
     },
     "metadata": {},
     "output_type": "display_data"
    },
    {
     "data": {
      "application/vnd.jupyter.widget-view+json": {
       "model_id": "cb64ffb45f9c4203a8e4a3c3789c1c22",
       "version_major": 2,
       "version_minor": 0
      },
      "text/plain": [
       "Validation: 0it [00:00, ?it/s]"
      ]
     },
     "metadata": {},
     "output_type": "display_data"
    },
    {
     "data": {
      "application/vnd.jupyter.widget-view+json": {
       "model_id": "cd94c764c4c5429c924f6845d3569bb1",
       "version_major": 2,
       "version_minor": 0
      },
      "text/plain": [
       "Validation: 0it [00:00, ?it/s]"
      ]
     },
     "metadata": {},
     "output_type": "display_data"
    },
    {
     "data": {
      "application/vnd.jupyter.widget-view+json": {
       "model_id": "46d7214620904d9aa06c63f4476b0a4e",
       "version_major": 2,
       "version_minor": 0
      },
      "text/plain": [
       "Validation: 0it [00:00, ?it/s]"
      ]
     },
     "metadata": {},
     "output_type": "display_data"
    },
    {
     "data": {
      "application/vnd.jupyter.widget-view+json": {
       "model_id": "af46d88649af459287be85ff9084de9c",
       "version_major": 2,
       "version_minor": 0
      },
      "text/plain": [
       "Validation: 0it [00:00, ?it/s]"
      ]
     },
     "metadata": {},
     "output_type": "display_data"
    },
    {
     "data": {
      "application/vnd.jupyter.widget-view+json": {
       "model_id": "f9b8f5f2654b40398dee21a859ac3917",
       "version_major": 2,
       "version_minor": 0
      },
      "text/plain": [
       "Validation: 0it [00:00, ?it/s]"
      ]
     },
     "metadata": {},
     "output_type": "display_data"
    },
    {
     "data": {
      "application/vnd.jupyter.widget-view+json": {
       "model_id": "6c86268df82a457a9b0f26212ba38b45",
       "version_major": 2,
       "version_minor": 0
      },
      "text/plain": [
       "Validation: 0it [00:00, ?it/s]"
      ]
     },
     "metadata": {},
     "output_type": "display_data"
    },
    {
     "data": {
      "application/vnd.jupyter.widget-view+json": {
       "model_id": "afacbc102ccb40a39c91d06d16762fe1",
       "version_major": 2,
       "version_minor": 0
      },
      "text/plain": [
       "Validation: 0it [00:00, ?it/s]"
      ]
     },
     "metadata": {},
     "output_type": "display_data"
    },
    {
     "data": {
      "application/vnd.jupyter.widget-view+json": {
       "model_id": "41e68f7f4dba4e0cb0fa60f007179b4c",
       "version_major": 2,
       "version_minor": 0
      },
      "text/plain": [
       "Validation: 0it [00:00, ?it/s]"
      ]
     },
     "metadata": {},
     "output_type": "display_data"
    },
    {
     "data": {
      "application/vnd.jupyter.widget-view+json": {
       "model_id": "2d68b31753f84fe5882383d6d1a1deb1",
       "version_major": 2,
       "version_minor": 0
      },
      "text/plain": [
       "Validation: 0it [00:00, ?it/s]"
      ]
     },
     "metadata": {},
     "output_type": "display_data"
    },
    {
     "data": {
      "application/vnd.jupyter.widget-view+json": {
       "model_id": "154bacc7a72e4cf38a7f31896046b64a",
       "version_major": 2,
       "version_minor": 0
      },
      "text/plain": [
       "Validation: 0it [00:00, ?it/s]"
      ]
     },
     "metadata": {},
     "output_type": "display_data"
    },
    {
     "data": {
      "application/vnd.jupyter.widget-view+json": {
       "model_id": "cedc00317e8b40ec9d3099a8dcde62db",
       "version_major": 2,
       "version_minor": 0
      },
      "text/plain": [
       "Validation: 0it [00:00, ?it/s]"
      ]
     },
     "metadata": {},
     "output_type": "display_data"
    },
    {
     "data": {
      "application/vnd.jupyter.widget-view+json": {
       "model_id": "7fc136b6340843c2b75e106d6ea9ce9d",
       "version_major": 2,
       "version_minor": 0
      },
      "text/plain": [
       "Validation: 0it [00:00, ?it/s]"
      ]
     },
     "metadata": {},
     "output_type": "display_data"
    },
    {
     "data": {
      "application/vnd.jupyter.widget-view+json": {
       "model_id": "ce4be591f8b84d5f9692966568851daa",
       "version_major": 2,
       "version_minor": 0
      },
      "text/plain": [
       "Validation: 0it [00:00, ?it/s]"
      ]
     },
     "metadata": {},
     "output_type": "display_data"
    },
    {
     "data": {
      "application/vnd.jupyter.widget-view+json": {
       "model_id": "25a12fad3e334de0a5b6867c827dac47",
       "version_major": 2,
       "version_minor": 0
      },
      "text/plain": [
       "Validation: 0it [00:00, ?it/s]"
      ]
     },
     "metadata": {},
     "output_type": "display_data"
    },
    {
     "data": {
      "application/vnd.jupyter.widget-view+json": {
       "model_id": "04264a92c71f49a3be4643381e2b1877",
       "version_major": 2,
       "version_minor": 0
      },
      "text/plain": [
       "Validation: 0it [00:00, ?it/s]"
      ]
     },
     "metadata": {},
     "output_type": "display_data"
    },
    {
     "data": {
      "application/vnd.jupyter.widget-view+json": {
       "model_id": "b1f92ae782464034a348a4cc50d4eb79",
       "version_major": 2,
       "version_minor": 0
      },
      "text/plain": [
       "Validation: 0it [00:00, ?it/s]"
      ]
     },
     "metadata": {},
     "output_type": "display_data"
    },
    {
     "data": {
      "application/vnd.jupyter.widget-view+json": {
       "model_id": "00625a3175ab4cddb61976a332d84f89",
       "version_major": 2,
       "version_minor": 0
      },
      "text/plain": [
       "Validation: 0it [00:00, ?it/s]"
      ]
     },
     "metadata": {},
     "output_type": "display_data"
    },
    {
     "data": {
      "application/vnd.jupyter.widget-view+json": {
       "model_id": "1d3effe8db624f02bc2097af1c2746fe",
       "version_major": 2,
       "version_minor": 0
      },
      "text/plain": [
       "Validation: 0it [00:00, ?it/s]"
      ]
     },
     "metadata": {},
     "output_type": "display_data"
    },
    {
     "data": {
      "application/vnd.jupyter.widget-view+json": {
       "model_id": "812d08f28f5a4f6788d1531959356f68",
       "version_major": 2,
       "version_minor": 0
      },
      "text/plain": [
       "Validation: 0it [00:00, ?it/s]"
      ]
     },
     "metadata": {},
     "output_type": "display_data"
    },
    {
     "data": {
      "application/vnd.jupyter.widget-view+json": {
       "model_id": "7798799f882c48f89f3340a9b2d29ec3",
       "version_major": 2,
       "version_minor": 0
      },
      "text/plain": [
       "Validation: 0it [00:00, ?it/s]"
      ]
     },
     "metadata": {},
     "output_type": "display_data"
    },
    {
     "data": {
      "application/vnd.jupyter.widget-view+json": {
       "model_id": "09d3b8981e8e410ba825e07f1a95502b",
       "version_major": 2,
       "version_minor": 0
      },
      "text/plain": [
       "Validation: 0it [00:00, ?it/s]"
      ]
     },
     "metadata": {},
     "output_type": "display_data"
    },
    {
     "data": {
      "application/vnd.jupyter.widget-view+json": {
       "model_id": "47161593f24d4a638528b6965226ee53",
       "version_major": 2,
       "version_minor": 0
      },
      "text/plain": [
       "Validation: 0it [00:00, ?it/s]"
      ]
     },
     "metadata": {},
     "output_type": "display_data"
    },
    {
     "data": {
      "application/vnd.jupyter.widget-view+json": {
       "model_id": "aea45b8781574ffaa99a69b3691fb475",
       "version_major": 2,
       "version_minor": 0
      },
      "text/plain": [
       "Validation: 0it [00:00, ?it/s]"
      ]
     },
     "metadata": {},
     "output_type": "display_data"
    },
    {
     "data": {
      "application/vnd.jupyter.widget-view+json": {
       "model_id": "470dbd5d344f4565afa37b53fd13c224",
       "version_major": 2,
       "version_minor": 0
      },
      "text/plain": [
       "Validation: 0it [00:00, ?it/s]"
      ]
     },
     "metadata": {},
     "output_type": "display_data"
    },
    {
     "data": {
      "application/vnd.jupyter.widget-view+json": {
       "model_id": "aa251d0e7fce4803b28c014836668fc9",
       "version_major": 2,
       "version_minor": 0
      },
      "text/plain": [
       "Validation: 0it [00:00, ?it/s]"
      ]
     },
     "metadata": {},
     "output_type": "display_data"
    },
    {
     "data": {
      "application/vnd.jupyter.widget-view+json": {
       "model_id": "0984c765747441cd8d9048a0f8041f15",
       "version_major": 2,
       "version_minor": 0
      },
      "text/plain": [
       "Validation: 0it [00:00, ?it/s]"
      ]
     },
     "metadata": {},
     "output_type": "display_data"
    },
    {
     "data": {
      "application/vnd.jupyter.widget-view+json": {
       "model_id": "f7fa102475dd4671bbb53ad5f12b22d0",
       "version_major": 2,
       "version_minor": 0
      },
      "text/plain": [
       "Validation: 0it [00:00, ?it/s]"
      ]
     },
     "metadata": {},
     "output_type": "display_data"
    },
    {
     "data": {
      "application/vnd.jupyter.widget-view+json": {
       "model_id": "c810e72d0e09493d985c639471a97954",
       "version_major": 2,
       "version_minor": 0
      },
      "text/plain": [
       "Validation: 0it [00:00, ?it/s]"
      ]
     },
     "metadata": {},
     "output_type": "display_data"
    },
    {
     "data": {
      "application/vnd.jupyter.widget-view+json": {
       "model_id": "2751d397901e49d795f4562d5ec7728b",
       "version_major": 2,
       "version_minor": 0
      },
      "text/plain": [
       "Validation: 0it [00:00, ?it/s]"
      ]
     },
     "metadata": {},
     "output_type": "display_data"
    },
    {
     "data": {
      "application/vnd.jupyter.widget-view+json": {
       "model_id": "2a036e69014649ce9ea34e448e634c94",
       "version_major": 2,
       "version_minor": 0
      },
      "text/plain": [
       "Validation: 0it [00:00, ?it/s]"
      ]
     },
     "metadata": {},
     "output_type": "display_data"
    },
    {
     "data": {
      "application/vnd.jupyter.widget-view+json": {
       "model_id": "ecee2c7c956549118f99be143d0af3d4",
       "version_major": 2,
       "version_minor": 0
      },
      "text/plain": [
       "Validation: 0it [00:00, ?it/s]"
      ]
     },
     "metadata": {},
     "output_type": "display_data"
    },
    {
     "data": {
      "application/vnd.jupyter.widget-view+json": {
       "model_id": "8125b2e214fa44139cdc65f5341d4d38",
       "version_major": 2,
       "version_minor": 0
      },
      "text/plain": [
       "Validation: 0it [00:00, ?it/s]"
      ]
     },
     "metadata": {},
     "output_type": "display_data"
    },
    {
     "data": {
      "application/vnd.jupyter.widget-view+json": {
       "model_id": "60f0e425a48b4c6d9d19570fb98d64f8",
       "version_major": 2,
       "version_minor": 0
      },
      "text/plain": [
       "Validation: 0it [00:00, ?it/s]"
      ]
     },
     "metadata": {},
     "output_type": "display_data"
    },
    {
     "data": {
      "application/vnd.jupyter.widget-view+json": {
       "model_id": "55709620d871408f84397849955188a8",
       "version_major": 2,
       "version_minor": 0
      },
      "text/plain": [
       "Validation: 0it [00:00, ?it/s]"
      ]
     },
     "metadata": {},
     "output_type": "display_data"
    },
    {
     "data": {
      "application/vnd.jupyter.widget-view+json": {
       "model_id": "dc81e907f9494b1499a2fc67f027425f",
       "version_major": 2,
       "version_minor": 0
      },
      "text/plain": [
       "Validation: 0it [00:00, ?it/s]"
      ]
     },
     "metadata": {},
     "output_type": "display_data"
    },
    {
     "data": {
      "application/vnd.jupyter.widget-view+json": {
       "model_id": "02764600385c49babf08cbb5cbbf94eb",
       "version_major": 2,
       "version_minor": 0
      },
      "text/plain": [
       "Validation: 0it [00:00, ?it/s]"
      ]
     },
     "metadata": {},
     "output_type": "display_data"
    },
    {
     "data": {
      "application/vnd.jupyter.widget-view+json": {
       "model_id": "3a3dcced79384e21982535945d47534e",
       "version_major": 2,
       "version_minor": 0
      },
      "text/plain": [
       "Validation: 0it [00:00, ?it/s]"
      ]
     },
     "metadata": {},
     "output_type": "display_data"
    },
    {
     "data": {
      "application/vnd.jupyter.widget-view+json": {
       "model_id": "fb21adea041c4c3282b466b7f6ecf982",
       "version_major": 2,
       "version_minor": 0
      },
      "text/plain": [
       "Validation: 0it [00:00, ?it/s]"
      ]
     },
     "metadata": {},
     "output_type": "display_data"
    },
    {
     "data": {
      "application/vnd.jupyter.widget-view+json": {
       "model_id": "8f7062f2597543e9bdcf4b81311d174b",
       "version_major": 2,
       "version_minor": 0
      },
      "text/plain": [
       "Validation: 0it [00:00, ?it/s]"
      ]
     },
     "metadata": {},
     "output_type": "display_data"
    },
    {
     "data": {
      "application/vnd.jupyter.widget-view+json": {
       "model_id": "94de4215382c453da1715b5d59589605",
       "version_major": 2,
       "version_minor": 0
      },
      "text/plain": [
       "Validation: 0it [00:00, ?it/s]"
      ]
     },
     "metadata": {},
     "output_type": "display_data"
    },
    {
     "data": {
      "application/vnd.jupyter.widget-view+json": {
       "model_id": "66ac57db2e4542568cbfa81489b9d88f",
       "version_major": 2,
       "version_minor": 0
      },
      "text/plain": [
       "Validation: 0it [00:00, ?it/s]"
      ]
     },
     "metadata": {},
     "output_type": "display_data"
    },
    {
     "data": {
      "application/vnd.jupyter.widget-view+json": {
       "model_id": "acb69fc792b943f182f8d0840bee7b10",
       "version_major": 2,
       "version_minor": 0
      },
      "text/plain": [
       "Validation: 0it [00:00, ?it/s]"
      ]
     },
     "metadata": {},
     "output_type": "display_data"
    },
    {
     "data": {
      "application/vnd.jupyter.widget-view+json": {
       "model_id": "06dd5c72e0094115b0eaa454c27f4e38",
       "version_major": 2,
       "version_minor": 0
      },
      "text/plain": [
       "Validation: 0it [00:00, ?it/s]"
      ]
     },
     "metadata": {},
     "output_type": "display_data"
    },
    {
     "data": {
      "application/vnd.jupyter.widget-view+json": {
       "model_id": "1f39c2d7f5954551bbbcaaacbae03b8a",
       "version_major": 2,
       "version_minor": 0
      },
      "text/plain": [
       "Validation: 0it [00:00, ?it/s]"
      ]
     },
     "metadata": {},
     "output_type": "display_data"
    },
    {
     "data": {
      "application/vnd.jupyter.widget-view+json": {
       "model_id": "f61e29839bea4f24abdaa14365149c1c",
       "version_major": 2,
       "version_minor": 0
      },
      "text/plain": [
       "Validation: 0it [00:00, ?it/s]"
      ]
     },
     "metadata": {},
     "output_type": "display_data"
    },
    {
     "data": {
      "application/vnd.jupyter.widget-view+json": {
       "model_id": "11b3c912bc534653acb111f2d916eb08",
       "version_major": 2,
       "version_minor": 0
      },
      "text/plain": [
       "Validation: 0it [00:00, ?it/s]"
      ]
     },
     "metadata": {},
     "output_type": "display_data"
    },
    {
     "data": {
      "application/vnd.jupyter.widget-view+json": {
       "model_id": "91e3b48dd21348c4a0284bc2c3d9521a",
       "version_major": 2,
       "version_minor": 0
      },
      "text/plain": [
       "Validation: 0it [00:00, ?it/s]"
      ]
     },
     "metadata": {},
     "output_type": "display_data"
    },
    {
     "data": {
      "application/vnd.jupyter.widget-view+json": {
       "model_id": "7ba7769d522743fb80fc0a1e48ad3b8f",
       "version_major": 2,
       "version_minor": 0
      },
      "text/plain": [
       "Validation: 0it [00:00, ?it/s]"
      ]
     },
     "metadata": {},
     "output_type": "display_data"
    },
    {
     "data": {
      "application/vnd.jupyter.widget-view+json": {
       "model_id": "ba2addee73e4419d8a562e2e90db67d5",
       "version_major": 2,
       "version_minor": 0
      },
      "text/plain": [
       "Validation: 0it [00:00, ?it/s]"
      ]
     },
     "metadata": {},
     "output_type": "display_data"
    },
    {
     "data": {
      "application/vnd.jupyter.widget-view+json": {
       "model_id": "283a0ab9459e4915a50522b788a89d8a",
       "version_major": 2,
       "version_minor": 0
      },
      "text/plain": [
       "Validation: 0it [00:00, ?it/s]"
      ]
     },
     "metadata": {},
     "output_type": "display_data"
    },
    {
     "data": {
      "application/vnd.jupyter.widget-view+json": {
       "model_id": "2301e4989bc74738919457c9220942b7",
       "version_major": 2,
       "version_minor": 0
      },
      "text/plain": [
       "Validation: 0it [00:00, ?it/s]"
      ]
     },
     "metadata": {},
     "output_type": "display_data"
    },
    {
     "data": {
      "application/vnd.jupyter.widget-view+json": {
       "model_id": "ca014c65d26d483aac944cdb147b1e22",
       "version_major": 2,
       "version_minor": 0
      },
      "text/plain": [
       "Validation: 0it [00:00, ?it/s]"
      ]
     },
     "metadata": {},
     "output_type": "display_data"
    },
    {
     "data": {
      "application/vnd.jupyter.widget-view+json": {
       "model_id": "2dae1d4b2b9d439caccafb44606b0598",
       "version_major": 2,
       "version_minor": 0
      },
      "text/plain": [
       "Validation: 0it [00:00, ?it/s]"
      ]
     },
     "metadata": {},
     "output_type": "display_data"
    },
    {
     "data": {
      "application/vnd.jupyter.widget-view+json": {
       "model_id": "3a385288d14d4c05b0078dfcbc343fb7",
       "version_major": 2,
       "version_minor": 0
      },
      "text/plain": [
       "Validation: 0it [00:00, ?it/s]"
      ]
     },
     "metadata": {},
     "output_type": "display_data"
    },
    {
     "data": {
      "application/vnd.jupyter.widget-view+json": {
       "model_id": "e2303aa0e57b434aaef11aeea43ca9ff",
       "version_major": 2,
       "version_minor": 0
      },
      "text/plain": [
       "Validation: 0it [00:00, ?it/s]"
      ]
     },
     "metadata": {},
     "output_type": "display_data"
    },
    {
     "data": {
      "application/vnd.jupyter.widget-view+json": {
       "model_id": "1e777947ed5f4831b5622eed8e2f412c",
       "version_major": 2,
       "version_minor": 0
      },
      "text/plain": [
       "Validation: 0it [00:00, ?it/s]"
      ]
     },
     "metadata": {},
     "output_type": "display_data"
    },
    {
     "data": {
      "application/vnd.jupyter.widget-view+json": {
       "model_id": "63a4f5e4d0bc47afab403b3b702360dc",
       "version_major": 2,
       "version_minor": 0
      },
      "text/plain": [
       "Validation: 0it [00:00, ?it/s]"
      ]
     },
     "metadata": {},
     "output_type": "display_data"
    },
    {
     "data": {
      "application/vnd.jupyter.widget-view+json": {
       "model_id": "b1d82d5e4ca6403ebddfe3be14f21732",
       "version_major": 2,
       "version_minor": 0
      },
      "text/plain": [
       "Validation: 0it [00:00, ?it/s]"
      ]
     },
     "metadata": {},
     "output_type": "display_data"
    },
    {
     "data": {
      "application/vnd.jupyter.widget-view+json": {
       "model_id": "eddabf7bd6204a13b1ac2055158cc9d6",
       "version_major": 2,
       "version_minor": 0
      },
      "text/plain": [
       "Validation: 0it [00:00, ?it/s]"
      ]
     },
     "metadata": {},
     "output_type": "display_data"
    },
    {
     "data": {
      "application/vnd.jupyter.widget-view+json": {
       "model_id": "4b52763591d04c05a91acfdba401ca4f",
       "version_major": 2,
       "version_minor": 0
      },
      "text/plain": [
       "Validation: 0it [00:00, ?it/s]"
      ]
     },
     "metadata": {},
     "output_type": "display_data"
    },
    {
     "data": {
      "application/vnd.jupyter.widget-view+json": {
       "model_id": "b94d3168e5b94028901f49ee991109f8",
       "version_major": 2,
       "version_minor": 0
      },
      "text/plain": [
       "Validation: 0it [00:00, ?it/s]"
      ]
     },
     "metadata": {},
     "output_type": "display_data"
    },
    {
     "data": {
      "application/vnd.jupyter.widget-view+json": {
       "model_id": "69964b4ca0ba43e5a9dc034d560c65ad",
       "version_major": 2,
       "version_minor": 0
      },
      "text/plain": [
       "Validation: 0it [00:00, ?it/s]"
      ]
     },
     "metadata": {},
     "output_type": "display_data"
    },
    {
     "data": {
      "application/vnd.jupyter.widget-view+json": {
       "model_id": "e2d063477747468fb522efe0caa08fcd",
       "version_major": 2,
       "version_minor": 0
      },
      "text/plain": [
       "Validation: 0it [00:00, ?it/s]"
      ]
     },
     "metadata": {},
     "output_type": "display_data"
    },
    {
     "data": {
      "application/vnd.jupyter.widget-view+json": {
       "model_id": "4e9103396a2040a193782dec446f7c4f",
       "version_major": 2,
       "version_minor": 0
      },
      "text/plain": [
       "Validation: 0it [00:00, ?it/s]"
      ]
     },
     "metadata": {},
     "output_type": "display_data"
    },
    {
     "data": {
      "application/vnd.jupyter.widget-view+json": {
       "model_id": "e938012217b64649a42e2c941e6fc6e9",
       "version_major": 2,
       "version_minor": 0
      },
      "text/plain": [
       "Validation: 0it [00:00, ?it/s]"
      ]
     },
     "metadata": {},
     "output_type": "display_data"
    },
    {
     "data": {
      "application/vnd.jupyter.widget-view+json": {
       "model_id": "dc74f423bec64d3f95c9a2b9cbe11a9e",
       "version_major": 2,
       "version_minor": 0
      },
      "text/plain": [
       "Validation: 0it [00:00, ?it/s]"
      ]
     },
     "metadata": {},
     "output_type": "display_data"
    },
    {
     "data": {
      "application/vnd.jupyter.widget-view+json": {
       "model_id": "8835068bbfc248d3a23e99ceb270ef95",
       "version_major": 2,
       "version_minor": 0
      },
      "text/plain": [
       "Validation: 0it [00:00, ?it/s]"
      ]
     },
     "metadata": {},
     "output_type": "display_data"
    },
    {
     "data": {
      "application/vnd.jupyter.widget-view+json": {
       "model_id": "899ef17885aa4e2f9043621a5ee3a3ec",
       "version_major": 2,
       "version_minor": 0
      },
      "text/plain": [
       "Validation: 0it [00:00, ?it/s]"
      ]
     },
     "metadata": {},
     "output_type": "display_data"
    },
    {
     "data": {
      "application/vnd.jupyter.widget-view+json": {
       "model_id": "7682089e02ac4e3188f1d22e373a1c81",
       "version_major": 2,
       "version_minor": 0
      },
      "text/plain": [
       "Validation: 0it [00:00, ?it/s]"
      ]
     },
     "metadata": {},
     "output_type": "display_data"
    },
    {
     "data": {
      "application/vnd.jupyter.widget-view+json": {
       "model_id": "4e2bff396ba847fdbbab4dc077af6e0e",
       "version_major": 2,
       "version_minor": 0
      },
      "text/plain": [
       "Validation: 0it [00:00, ?it/s]"
      ]
     },
     "metadata": {},
     "output_type": "display_data"
    },
    {
     "data": {
      "application/vnd.jupyter.widget-view+json": {
       "model_id": "c130f2b5739944fea991ba89741abaaa",
       "version_major": 2,
       "version_minor": 0
      },
      "text/plain": [
       "Validation: 0it [00:00, ?it/s]"
      ]
     },
     "metadata": {},
     "output_type": "display_data"
    },
    {
     "data": {
      "application/vnd.jupyter.widget-view+json": {
       "model_id": "69cd11715e2b4402ade063d427fabfa8",
       "version_major": 2,
       "version_minor": 0
      },
      "text/plain": [
       "Validation: 0it [00:00, ?it/s]"
      ]
     },
     "metadata": {},
     "output_type": "display_data"
    },
    {
     "data": {
      "application/vnd.jupyter.widget-view+json": {
       "model_id": "f557c9f17b964f40b7b8439261cf0684",
       "version_major": 2,
       "version_minor": 0
      },
      "text/plain": [
       "Validation: 0it [00:00, ?it/s]"
      ]
     },
     "metadata": {},
     "output_type": "display_data"
    },
    {
     "data": {
      "application/vnd.jupyter.widget-view+json": {
       "model_id": "5f7807fe48d9481d89b91cc19d526eb0",
       "version_major": 2,
       "version_minor": 0
      },
      "text/plain": [
       "Validation: 0it [00:00, ?it/s]"
      ]
     },
     "metadata": {},
     "output_type": "display_data"
    },
    {
     "data": {
      "application/vnd.jupyter.widget-view+json": {
       "model_id": "8ef37ead4fe24b1ea48dd9e60e907fdc",
       "version_major": 2,
       "version_minor": 0
      },
      "text/plain": [
       "Validation: 0it [00:00, ?it/s]"
      ]
     },
     "metadata": {},
     "output_type": "display_data"
    },
    {
     "data": {
      "application/vnd.jupyter.widget-view+json": {
       "model_id": "8c64a5a19122424796f8574ab0d656a0",
       "version_major": 2,
       "version_minor": 0
      },
      "text/plain": [
       "Validation: 0it [00:00, ?it/s]"
      ]
     },
     "metadata": {},
     "output_type": "display_data"
    },
    {
     "data": {
      "application/vnd.jupyter.widget-view+json": {
       "model_id": "7ba7c47b3c9845e0b187447d6642b7e1",
       "version_major": 2,
       "version_minor": 0
      },
      "text/plain": [
       "Validation: 0it [00:00, ?it/s]"
      ]
     },
     "metadata": {},
     "output_type": "display_data"
    },
    {
     "data": {
      "application/vnd.jupyter.widget-view+json": {
       "model_id": "dffbda19302d469fa48638d6eb3739aa",
       "version_major": 2,
       "version_minor": 0
      },
      "text/plain": [
       "Validation: 0it [00:00, ?it/s]"
      ]
     },
     "metadata": {},
     "output_type": "display_data"
    },
    {
     "data": {
      "application/vnd.jupyter.widget-view+json": {
       "model_id": "d1739b9c897a45479c9754fb1688a8dc",
       "version_major": 2,
       "version_minor": 0
      },
      "text/plain": [
       "Validation: 0it [00:00, ?it/s]"
      ]
     },
     "metadata": {},
     "output_type": "display_data"
    },
    {
     "data": {
      "application/vnd.jupyter.widget-view+json": {
       "model_id": "1eaa0efd35154ce59214e755e99d8eb7",
       "version_major": 2,
       "version_minor": 0
      },
      "text/plain": [
       "Validation: 0it [00:00, ?it/s]"
      ]
     },
     "metadata": {},
     "output_type": "display_data"
    },
    {
     "data": {
      "application/vnd.jupyter.widget-view+json": {
       "model_id": "becb833662c74968907028825d42c0e7",
       "version_major": 2,
       "version_minor": 0
      },
      "text/plain": [
       "Validation: 0it [00:00, ?it/s]"
      ]
     },
     "metadata": {},
     "output_type": "display_data"
    },
    {
     "data": {
      "application/vnd.jupyter.widget-view+json": {
       "model_id": "841964aeffdf4b67a57b227adfcc0805",
       "version_major": 2,
       "version_minor": 0
      },
      "text/plain": [
       "Validation: 0it [00:00, ?it/s]"
      ]
     },
     "metadata": {},
     "output_type": "display_data"
    },
    {
     "data": {
      "application/vnd.jupyter.widget-view+json": {
       "model_id": "c133ee717d5f4502a39a4a9c376a1164",
       "version_major": 2,
       "version_minor": 0
      },
      "text/plain": [
       "Validation: 0it [00:00, ?it/s]"
      ]
     },
     "metadata": {},
     "output_type": "display_data"
    },
    {
     "data": {
      "application/vnd.jupyter.widget-view+json": {
       "model_id": "f7ea1c4e18af4c439e679dd3fd61a716",
       "version_major": 2,
       "version_minor": 0
      },
      "text/plain": [
       "Validation: 0it [00:00, ?it/s]"
      ]
     },
     "metadata": {},
     "output_type": "display_data"
    },
    {
     "data": {
      "application/vnd.jupyter.widget-view+json": {
       "model_id": "1b8fc9a43ac04563a6470b3bdfa8aef4",
       "version_major": 2,
       "version_minor": 0
      },
      "text/plain": [
       "Validation: 0it [00:00, ?it/s]"
      ]
     },
     "metadata": {},
     "output_type": "display_data"
    },
    {
     "data": {
      "application/vnd.jupyter.widget-view+json": {
       "model_id": "f8f2c1a31b4d4a8199e716b3eb22ca07",
       "version_major": 2,
       "version_minor": 0
      },
      "text/plain": [
       "Validation: 0it [00:00, ?it/s]"
      ]
     },
     "metadata": {},
     "output_type": "display_data"
    },
    {
     "data": {
      "application/vnd.jupyter.widget-view+json": {
       "model_id": "d67183b24a074cf29b4de4aa9d933388",
       "version_major": 2,
       "version_minor": 0
      },
      "text/plain": [
       "Validation: 0it [00:00, ?it/s]"
      ]
     },
     "metadata": {},
     "output_type": "display_data"
    },
    {
     "data": {
      "application/vnd.jupyter.widget-view+json": {
       "model_id": "886d341f483d4556b0d5e90dfea69aa8",
       "version_major": 2,
       "version_minor": 0
      },
      "text/plain": [
       "Validation: 0it [00:00, ?it/s]"
      ]
     },
     "metadata": {},
     "output_type": "display_data"
    },
    {
     "data": {
      "application/vnd.jupyter.widget-view+json": {
       "model_id": "52bb78d28f8a43ffac9eb2b4d8b85f55",
       "version_major": 2,
       "version_minor": 0
      },
      "text/plain": [
       "Validation: 0it [00:00, ?it/s]"
      ]
     },
     "metadata": {},
     "output_type": "display_data"
    },
    {
     "data": {
      "application/vnd.jupyter.widget-view+json": {
       "model_id": "7fa52851dc854019820a15967afa4c7b",
       "version_major": 2,
       "version_minor": 0
      },
      "text/plain": [
       "Validation: 0it [00:00, ?it/s]"
      ]
     },
     "metadata": {},
     "output_type": "display_data"
    },
    {
     "data": {
      "application/vnd.jupyter.widget-view+json": {
       "model_id": "12064c30727d4707960447a6e5d5c69e",
       "version_major": 2,
       "version_minor": 0
      },
      "text/plain": [
       "Validation: 0it [00:00, ?it/s]"
      ]
     },
     "metadata": {},
     "output_type": "display_data"
    },
    {
     "data": {
      "application/vnd.jupyter.widget-view+json": {
       "model_id": "e484fd48172c479e96f446ae572cb4b7",
       "version_major": 2,
       "version_minor": 0
      },
      "text/plain": [
       "Validation: 0it [00:00, ?it/s]"
      ]
     },
     "metadata": {},
     "output_type": "display_data"
    },
    {
     "data": {
      "application/vnd.jupyter.widget-view+json": {
       "model_id": "35b5c5154d264e16ab3adf350097b708",
       "version_major": 2,
       "version_minor": 0
      },
      "text/plain": [
       "Validation: 0it [00:00, ?it/s]"
      ]
     },
     "metadata": {},
     "output_type": "display_data"
    },
    {
     "data": {
      "application/vnd.jupyter.widget-view+json": {
       "model_id": "edd727867c834a4284bd9a2be3a7bfa6",
       "version_major": 2,
       "version_minor": 0
      },
      "text/plain": [
       "Validation: 0it [00:00, ?it/s]"
      ]
     },
     "metadata": {},
     "output_type": "display_data"
    },
    {
     "data": {
      "application/vnd.jupyter.widget-view+json": {
       "model_id": "afb1d7f4b0dd49a484b51e14db288753",
       "version_major": 2,
       "version_minor": 0
      },
      "text/plain": [
       "Validation: 0it [00:00, ?it/s]"
      ]
     },
     "metadata": {},
     "output_type": "display_data"
    },
    {
     "data": {
      "application/vnd.jupyter.widget-view+json": {
       "model_id": "0e3e4d44588941cb8f10840edaffec6c",
       "version_major": 2,
       "version_minor": 0
      },
      "text/plain": [
       "Validation: 0it [00:00, ?it/s]"
      ]
     },
     "metadata": {},
     "output_type": "display_data"
    },
    {
     "data": {
      "application/vnd.jupyter.widget-view+json": {
       "model_id": "13b2d1fbc6414eaf9311e85999d731c4",
       "version_major": 2,
       "version_minor": 0
      },
      "text/plain": [
       "Validation: 0it [00:00, ?it/s]"
      ]
     },
     "metadata": {},
     "output_type": "display_data"
    },
    {
     "data": {
      "application/vnd.jupyter.widget-view+json": {
       "model_id": "30bf1ef18acf4c40a8e03ceb0d3a4240",
       "version_major": 2,
       "version_minor": 0
      },
      "text/plain": [
       "Validation: 0it [00:00, ?it/s]"
      ]
     },
     "metadata": {},
     "output_type": "display_data"
    },
    {
     "data": {
      "application/vnd.jupyter.widget-view+json": {
       "model_id": "86a18dbd219446098765a377ef869868",
       "version_major": 2,
       "version_minor": 0
      },
      "text/plain": [
       "Validation: 0it [00:00, ?it/s]"
      ]
     },
     "metadata": {},
     "output_type": "display_data"
    },
    {
     "data": {
      "application/vnd.jupyter.widget-view+json": {
       "model_id": "7bbef056f926476093109bd6d433c0d3",
       "version_major": 2,
       "version_minor": 0
      },
      "text/plain": [
       "Validation: 0it [00:00, ?it/s]"
      ]
     },
     "metadata": {},
     "output_type": "display_data"
    },
    {
     "data": {
      "application/vnd.jupyter.widget-view+json": {
       "model_id": "0ac1cc576946456b988ed93b77db043e",
       "version_major": 2,
       "version_minor": 0
      },
      "text/plain": [
       "Validation: 0it [00:00, ?it/s]"
      ]
     },
     "metadata": {},
     "output_type": "display_data"
    },
    {
     "data": {
      "application/vnd.jupyter.widget-view+json": {
       "model_id": "dd66833763394425b76e29fbbe76d70a",
       "version_major": 2,
       "version_minor": 0
      },
      "text/plain": [
       "Validation: 0it [00:00, ?it/s]"
      ]
     },
     "metadata": {},
     "output_type": "display_data"
    },
    {
     "data": {
      "application/vnd.jupyter.widget-view+json": {
       "model_id": "c16a035b9ba24a35ba1f136de8bbfc21",
       "version_major": 2,
       "version_minor": 0
      },
      "text/plain": [
       "Validation: 0it [00:00, ?it/s]"
      ]
     },
     "metadata": {},
     "output_type": "display_data"
    },
    {
     "data": {
      "application/vnd.jupyter.widget-view+json": {
       "model_id": "e366e7304de843c9b6f3bb70fb89d3ad",
       "version_major": 2,
       "version_minor": 0
      },
      "text/plain": [
       "Validation: 0it [00:00, ?it/s]"
      ]
     },
     "metadata": {},
     "output_type": "display_data"
    },
    {
     "data": {
      "application/vnd.jupyter.widget-view+json": {
       "model_id": "11ac05396dd44526894b71e35b63e4d8",
       "version_major": 2,
       "version_minor": 0
      },
      "text/plain": [
       "Validation: 0it [00:00, ?it/s]"
      ]
     },
     "metadata": {},
     "output_type": "display_data"
    },
    {
     "data": {
      "application/vnd.jupyter.widget-view+json": {
       "model_id": "b06040cd5a784867b5778faa613564e3",
       "version_major": 2,
       "version_minor": 0
      },
      "text/plain": [
       "Validation: 0it [00:00, ?it/s]"
      ]
     },
     "metadata": {},
     "output_type": "display_data"
    },
    {
     "data": {
      "application/vnd.jupyter.widget-view+json": {
       "model_id": "e19e912fa22e473eb14a36941067df13",
       "version_major": 2,
       "version_minor": 0
      },
      "text/plain": [
       "Validation: 0it [00:00, ?it/s]"
      ]
     },
     "metadata": {},
     "output_type": "display_data"
    },
    {
     "data": {
      "application/vnd.jupyter.widget-view+json": {
       "model_id": "715ccf7387124197ae7f1438a5f1adf7",
       "version_major": 2,
       "version_minor": 0
      },
      "text/plain": [
       "Validation: 0it [00:00, ?it/s]"
      ]
     },
     "metadata": {},
     "output_type": "display_data"
    },
    {
     "data": {
      "application/vnd.jupyter.widget-view+json": {
       "model_id": "9f172aa29b554452b513920a4e408dca",
       "version_major": 2,
       "version_minor": 0
      },
      "text/plain": [
       "Validation: 0it [00:00, ?it/s]"
      ]
     },
     "metadata": {},
     "output_type": "display_data"
    },
    {
     "data": {
      "application/vnd.jupyter.widget-view+json": {
       "model_id": "46191c39d91a4b53b9b3e3a47f1bf8a9",
       "version_major": 2,
       "version_minor": 0
      },
      "text/plain": [
       "Validation: 0it [00:00, ?it/s]"
      ]
     },
     "metadata": {},
     "output_type": "display_data"
    },
    {
     "data": {
      "application/vnd.jupyter.widget-view+json": {
       "model_id": "6c1a38e28ebf47d6bf70a1514fe7dbef",
       "version_major": 2,
       "version_minor": 0
      },
      "text/plain": [
       "Validation: 0it [00:00, ?it/s]"
      ]
     },
     "metadata": {},
     "output_type": "display_data"
    },
    {
     "data": {
      "application/vnd.jupyter.widget-view+json": {
       "model_id": "87139c246dec49e7a1f9a64ff8241741",
       "version_major": 2,
       "version_minor": 0
      },
      "text/plain": [
       "Validation: 0it [00:00, ?it/s]"
      ]
     },
     "metadata": {},
     "output_type": "display_data"
    },
    {
     "data": {
      "application/vnd.jupyter.widget-view+json": {
       "model_id": "bb550900f977424ea7e1b3d611f5cfc6",
       "version_major": 2,
       "version_minor": 0
      },
      "text/plain": [
       "Validation: 0it [00:00, ?it/s]"
      ]
     },
     "metadata": {},
     "output_type": "display_data"
    },
    {
     "data": {
      "application/vnd.jupyter.widget-view+json": {
       "model_id": "7bfaee4d26aa41238e536dcb0b2959c7",
       "version_major": 2,
       "version_minor": 0
      },
      "text/plain": [
       "Validation: 0it [00:00, ?it/s]"
      ]
     },
     "metadata": {},
     "output_type": "display_data"
    },
    {
     "data": {
      "application/vnd.jupyter.widget-view+json": {
       "model_id": "c7ca1037d80c480ca8f87f66cca41d1b",
       "version_major": 2,
       "version_minor": 0
      },
      "text/plain": [
       "Validation: 0it [00:00, ?it/s]"
      ]
     },
     "metadata": {},
     "output_type": "display_data"
    },
    {
     "data": {
      "application/vnd.jupyter.widget-view+json": {
       "model_id": "17fb5496bfeb496688cbf89e688063a2",
       "version_major": 2,
       "version_minor": 0
      },
      "text/plain": [
       "Validation: 0it [00:00, ?it/s]"
      ]
     },
     "metadata": {},
     "output_type": "display_data"
    },
    {
     "data": {
      "application/vnd.jupyter.widget-view+json": {
       "model_id": "b9bee0cc84d94293b66083af059c7980",
       "version_major": 2,
       "version_minor": 0
      },
      "text/plain": [
       "Validation: 0it [00:00, ?it/s]"
      ]
     },
     "metadata": {},
     "output_type": "display_data"
    },
    {
     "data": {
      "application/vnd.jupyter.widget-view+json": {
       "model_id": "b3df06e7e28843658866c028895709ff",
       "version_major": 2,
       "version_minor": 0
      },
      "text/plain": [
       "Validation: 0it [00:00, ?it/s]"
      ]
     },
     "metadata": {},
     "output_type": "display_data"
    },
    {
     "data": {
      "application/vnd.jupyter.widget-view+json": {
       "model_id": "c05f816592054490a75474b228ed24d2",
       "version_major": 2,
       "version_minor": 0
      },
      "text/plain": [
       "Validation: 0it [00:00, ?it/s]"
      ]
     },
     "metadata": {},
     "output_type": "display_data"
    },
    {
     "data": {
      "application/vnd.jupyter.widget-view+json": {
       "model_id": "e21bb3c1f3cb4af4b032e0ad217ade9c",
       "version_major": 2,
       "version_minor": 0
      },
      "text/plain": [
       "Validation: 0it [00:00, ?it/s]"
      ]
     },
     "metadata": {},
     "output_type": "display_data"
    },
    {
     "data": {
      "application/vnd.jupyter.widget-view+json": {
       "model_id": "245102f3fcd74d9a847a1b66d37f7cec",
       "version_major": 2,
       "version_minor": 0
      },
      "text/plain": [
       "Validation: 0it [00:00, ?it/s]"
      ]
     },
     "metadata": {},
     "output_type": "display_data"
    },
    {
     "data": {
      "application/vnd.jupyter.widget-view+json": {
       "model_id": "8eb29aa8abfb44e9996c5c33a61c27b1",
       "version_major": 2,
       "version_minor": 0
      },
      "text/plain": [
       "Validation: 0it [00:00, ?it/s]"
      ]
     },
     "metadata": {},
     "output_type": "display_data"
    },
    {
     "data": {
      "application/vnd.jupyter.widget-view+json": {
       "model_id": "9f174044cac54225a0f2f797ce614828",
       "version_major": 2,
       "version_minor": 0
      },
      "text/plain": [
       "Validation: 0it [00:00, ?it/s]"
      ]
     },
     "metadata": {},
     "output_type": "display_data"
    },
    {
     "data": {
      "application/vnd.jupyter.widget-view+json": {
       "model_id": "973b444cb2dc48449bf2f62b62e6633a",
       "version_major": 2,
       "version_minor": 0
      },
      "text/plain": [
       "Validation: 0it [00:00, ?it/s]"
      ]
     },
     "metadata": {},
     "output_type": "display_data"
    },
    {
     "data": {
      "application/vnd.jupyter.widget-view+json": {
       "model_id": "f2f79e087d054a4f9ff31bddd5a0e579",
       "version_major": 2,
       "version_minor": 0
      },
      "text/plain": [
       "Validation: 0it [00:00, ?it/s]"
      ]
     },
     "metadata": {},
     "output_type": "display_data"
    },
    {
     "data": {
      "application/vnd.jupyter.widget-view+json": {
       "model_id": "c0e27d6115364307851c1ff699e98b33",
       "version_major": 2,
       "version_minor": 0
      },
      "text/plain": [
       "Validation: 0it [00:00, ?it/s]"
      ]
     },
     "metadata": {},
     "output_type": "display_data"
    },
    {
     "data": {
      "application/vnd.jupyter.widget-view+json": {
       "model_id": "86ef9de9a5d5431180e046c08b187089",
       "version_major": 2,
       "version_minor": 0
      },
      "text/plain": [
       "Validation: 0it [00:00, ?it/s]"
      ]
     },
     "metadata": {},
     "output_type": "display_data"
    },
    {
     "data": {
      "application/vnd.jupyter.widget-view+json": {
       "model_id": "a0fb836f91ed475a9fdf7813722e4148",
       "version_major": 2,
       "version_minor": 0
      },
      "text/plain": [
       "Validation: 0it [00:00, ?it/s]"
      ]
     },
     "metadata": {},
     "output_type": "display_data"
    },
    {
     "data": {
      "application/vnd.jupyter.widget-view+json": {
       "model_id": "50a89bd08af043cf92de7dbf041949a5",
       "version_major": 2,
       "version_minor": 0
      },
      "text/plain": [
       "Validation: 0it [00:00, ?it/s]"
      ]
     },
     "metadata": {},
     "output_type": "display_data"
    },
    {
     "data": {
      "application/vnd.jupyter.widget-view+json": {
       "model_id": "109e7c5ba3414677a5886f16321dacf0",
       "version_major": 2,
       "version_minor": 0
      },
      "text/plain": [
       "Validation: 0it [00:00, ?it/s]"
      ]
     },
     "metadata": {},
     "output_type": "display_data"
    },
    {
     "data": {
      "application/vnd.jupyter.widget-view+json": {
       "model_id": "fdb1d826742945379215780f5e2a72f3",
       "version_major": 2,
       "version_minor": 0
      },
      "text/plain": [
       "Validation: 0it [00:00, ?it/s]"
      ]
     },
     "metadata": {},
     "output_type": "display_data"
    },
    {
     "data": {
      "application/vnd.jupyter.widget-view+json": {
       "model_id": "448907d22d4149b5bfd038b319a0870e",
       "version_major": 2,
       "version_minor": 0
      },
      "text/plain": [
       "Validation: 0it [00:00, ?it/s]"
      ]
     },
     "metadata": {},
     "output_type": "display_data"
    },
    {
     "data": {
      "application/vnd.jupyter.widget-view+json": {
       "model_id": "45fe5968f15f44f89236a260a4f4f4f9",
       "version_major": 2,
       "version_minor": 0
      },
      "text/plain": [
       "Validation: 0it [00:00, ?it/s]"
      ]
     },
     "metadata": {},
     "output_type": "display_data"
    },
    {
     "data": {
      "application/vnd.jupyter.widget-view+json": {
       "model_id": "01a8651b666c493b82e0c85e6bede11d",
       "version_major": 2,
       "version_minor": 0
      },
      "text/plain": [
       "Validation: 0it [00:00, ?it/s]"
      ]
     },
     "metadata": {},
     "output_type": "display_data"
    },
    {
     "data": {
      "application/vnd.jupyter.widget-view+json": {
       "model_id": "fc4a40afe68f4486bee4b09bccb6adf7",
       "version_major": 2,
       "version_minor": 0
      },
      "text/plain": [
       "Validation: 0it [00:00, ?it/s]"
      ]
     },
     "metadata": {},
     "output_type": "display_data"
    },
    {
     "data": {
      "application/vnd.jupyter.widget-view+json": {
       "model_id": "7b42a87c964042e69aed6984018ac63f",
       "version_major": 2,
       "version_minor": 0
      },
      "text/plain": [
       "Validation: 0it [00:00, ?it/s]"
      ]
     },
     "metadata": {},
     "output_type": "display_data"
    },
    {
     "data": {
      "application/vnd.jupyter.widget-view+json": {
       "model_id": "8dc7996b2ed84145a35bb7a0be245313",
       "version_major": 2,
       "version_minor": 0
      },
      "text/plain": [
       "Validation: 0it [00:00, ?it/s]"
      ]
     },
     "metadata": {},
     "output_type": "display_data"
    },
    {
     "data": {
      "application/vnd.jupyter.widget-view+json": {
       "model_id": "7e08fe1a6da74e3faa7c5ecb18a4cd89",
       "version_major": 2,
       "version_minor": 0
      },
      "text/plain": [
       "Validation: 0it [00:00, ?it/s]"
      ]
     },
     "metadata": {},
     "output_type": "display_data"
    },
    {
     "data": {
      "application/vnd.jupyter.widget-view+json": {
       "model_id": "062bbd1917474d34ae77eada795b57f6",
       "version_major": 2,
       "version_minor": 0
      },
      "text/plain": [
       "Validation: 0it [00:00, ?it/s]"
      ]
     },
     "metadata": {},
     "output_type": "display_data"
    },
    {
     "data": {
      "application/vnd.jupyter.widget-view+json": {
       "model_id": "89c844fe7b7f40fc9df405b827c88775",
       "version_major": 2,
       "version_minor": 0
      },
      "text/plain": [
       "Validation: 0it [00:00, ?it/s]"
      ]
     },
     "metadata": {},
     "output_type": "display_data"
    },
    {
     "data": {
      "application/vnd.jupyter.widget-view+json": {
       "model_id": "b79bb0ee53c9402195b908bb4411cefd",
       "version_major": 2,
       "version_minor": 0
      },
      "text/plain": [
       "Validation: 0it [00:00, ?it/s]"
      ]
     },
     "metadata": {},
     "output_type": "display_data"
    },
    {
     "data": {
      "application/vnd.jupyter.widget-view+json": {
       "model_id": "fc02461e8b6847e99a9bb5ec5d8ca6b6",
       "version_major": 2,
       "version_minor": 0
      },
      "text/plain": [
       "Validation: 0it [00:00, ?it/s]"
      ]
     },
     "metadata": {},
     "output_type": "display_data"
    },
    {
     "data": {
      "application/vnd.jupyter.widget-view+json": {
       "model_id": "2e788c1a677b4604aea48a12c808616e",
       "version_major": 2,
       "version_minor": 0
      },
      "text/plain": [
       "Validation: 0it [00:00, ?it/s]"
      ]
     },
     "metadata": {},
     "output_type": "display_data"
    },
    {
     "data": {
      "application/vnd.jupyter.widget-view+json": {
       "model_id": "8eec70071d194282a36e821eb84a9eb7",
       "version_major": 2,
       "version_minor": 0
      },
      "text/plain": [
       "Validation: 0it [00:00, ?it/s]"
      ]
     },
     "metadata": {},
     "output_type": "display_data"
    },
    {
     "data": {
      "application/vnd.jupyter.widget-view+json": {
       "model_id": "b7acd1a097ea4edbbbebf0844d791cae",
       "version_major": 2,
       "version_minor": 0
      },
      "text/plain": [
       "Validation: 0it [00:00, ?it/s]"
      ]
     },
     "metadata": {},
     "output_type": "display_data"
    },
    {
     "data": {
      "application/vnd.jupyter.widget-view+json": {
       "model_id": "27a503383f0b479aa38ac7a0cd35f574",
       "version_major": 2,
       "version_minor": 0
      },
      "text/plain": [
       "Validation: 0it [00:00, ?it/s]"
      ]
     },
     "metadata": {},
     "output_type": "display_data"
    },
    {
     "data": {
      "application/vnd.jupyter.widget-view+json": {
       "model_id": "26b743b789454097a490aedc2d75a599",
       "version_major": 2,
       "version_minor": 0
      },
      "text/plain": [
       "Validation: 0it [00:00, ?it/s]"
      ]
     },
     "metadata": {},
     "output_type": "display_data"
    },
    {
     "data": {
      "application/vnd.jupyter.widget-view+json": {
       "model_id": "ad3c4d81414145f49c81163f7a84104c",
       "version_major": 2,
       "version_minor": 0
      },
      "text/plain": [
       "Validation: 0it [00:00, ?it/s]"
      ]
     },
     "metadata": {},
     "output_type": "display_data"
    },
    {
     "data": {
      "application/vnd.jupyter.widget-view+json": {
       "model_id": "21bb06a5c9c04f36b9980c101b522d7b",
       "version_major": 2,
       "version_minor": 0
      },
      "text/plain": [
       "Validation: 0it [00:00, ?it/s]"
      ]
     },
     "metadata": {},
     "output_type": "display_data"
    },
    {
     "data": {
      "application/vnd.jupyter.widget-view+json": {
       "model_id": "9391ff20a6054b5a9c783798445fe1b5",
       "version_major": 2,
       "version_minor": 0
      },
      "text/plain": [
       "Validation: 0it [00:00, ?it/s]"
      ]
     },
     "metadata": {},
     "output_type": "display_data"
    },
    {
     "data": {
      "application/vnd.jupyter.widget-view+json": {
       "model_id": "8d5dd9fc241c478db803f20841f31b90",
       "version_major": 2,
       "version_minor": 0
      },
      "text/plain": [
       "Validation: 0it [00:00, ?it/s]"
      ]
     },
     "metadata": {},
     "output_type": "display_data"
    },
    {
     "data": {
      "application/vnd.jupyter.widget-view+json": {
       "model_id": "cbb0ba5dc1114070b01f2ffc7f531f0a",
       "version_major": 2,
       "version_minor": 0
      },
      "text/plain": [
       "Validation: 0it [00:00, ?it/s]"
      ]
     },
     "metadata": {},
     "output_type": "display_data"
    },
    {
     "data": {
      "application/vnd.jupyter.widget-view+json": {
       "model_id": "02f21689cd964e909a280a31e67ab92d",
       "version_major": 2,
       "version_minor": 0
      },
      "text/plain": [
       "Validation: 0it [00:00, ?it/s]"
      ]
     },
     "metadata": {},
     "output_type": "display_data"
    },
    {
     "data": {
      "application/vnd.jupyter.widget-view+json": {
       "model_id": "fb4c9e76729941ec8d85e044cbafdcb9",
       "version_major": 2,
       "version_minor": 0
      },
      "text/plain": [
       "Validation: 0it [00:00, ?it/s]"
      ]
     },
     "metadata": {},
     "output_type": "display_data"
    },
    {
     "data": {
      "application/vnd.jupyter.widget-view+json": {
       "model_id": "c8575068bed44725b3c87d29cd47b9f7",
       "version_major": 2,
       "version_minor": 0
      },
      "text/plain": [
       "Validation: 0it [00:00, ?it/s]"
      ]
     },
     "metadata": {},
     "output_type": "display_data"
    },
    {
     "data": {
      "application/vnd.jupyter.widget-view+json": {
       "model_id": "5ec84a4644ee4c0da7d40f40843f91d2",
       "version_major": 2,
       "version_minor": 0
      },
      "text/plain": [
       "Validation: 0it [00:00, ?it/s]"
      ]
     },
     "metadata": {},
     "output_type": "display_data"
    },
    {
     "data": {
      "application/vnd.jupyter.widget-view+json": {
       "model_id": "f22758013cfc42de8006d9aad8108a10",
       "version_major": 2,
       "version_minor": 0
      },
      "text/plain": [
       "Validation: 0it [00:00, ?it/s]"
      ]
     },
     "metadata": {},
     "output_type": "display_data"
    },
    {
     "data": {
      "application/vnd.jupyter.widget-view+json": {
       "model_id": "c5a37b744b4f405cac0f57ade1aa2bc3",
       "version_major": 2,
       "version_minor": 0
      },
      "text/plain": [
       "Validation: 0it [00:00, ?it/s]"
      ]
     },
     "metadata": {},
     "output_type": "display_data"
    },
    {
     "data": {
      "application/vnd.jupyter.widget-view+json": {
       "model_id": "d5d045049a7f4650ac69cca3d5ab5438",
       "version_major": 2,
       "version_minor": 0
      },
      "text/plain": [
       "Validation: 0it [00:00, ?it/s]"
      ]
     },
     "metadata": {},
     "output_type": "display_data"
    },
    {
     "data": {
      "application/vnd.jupyter.widget-view+json": {
       "model_id": "a9610ede7d2a4feaa0d51c9d51ce6f8b",
       "version_major": 2,
       "version_minor": 0
      },
      "text/plain": [
       "Validation: 0it [00:00, ?it/s]"
      ]
     },
     "metadata": {},
     "output_type": "display_data"
    },
    {
     "data": {
      "application/vnd.jupyter.widget-view+json": {
       "model_id": "e5a03c36eb2a485788e9a3c879d9e470",
       "version_major": 2,
       "version_minor": 0
      },
      "text/plain": [
       "Validation: 0it [00:00, ?it/s]"
      ]
     },
     "metadata": {},
     "output_type": "display_data"
    },
    {
     "data": {
      "application/vnd.jupyter.widget-view+json": {
       "model_id": "241e006fec994c00b13c3f921b7327d2",
       "version_major": 2,
       "version_minor": 0
      },
      "text/plain": [
       "Validation: 0it [00:00, ?it/s]"
      ]
     },
     "metadata": {},
     "output_type": "display_data"
    },
    {
     "data": {
      "application/vnd.jupyter.widget-view+json": {
       "model_id": "78272ca44b3545e08ac0a77dbcb523b8",
       "version_major": 2,
       "version_minor": 0
      },
      "text/plain": [
       "Validation: 0it [00:00, ?it/s]"
      ]
     },
     "metadata": {},
     "output_type": "display_data"
    },
    {
     "data": {
      "application/vnd.jupyter.widget-view+json": {
       "model_id": "d1b1fe48dba14f32aa3f496fdbfbe78b",
       "version_major": 2,
       "version_minor": 0
      },
      "text/plain": [
       "Validation: 0it [00:00, ?it/s]"
      ]
     },
     "metadata": {},
     "output_type": "display_data"
    },
    {
     "data": {
      "application/vnd.jupyter.widget-view+json": {
       "model_id": "37fd083be7194fbb995390e78b8f089e",
       "version_major": 2,
       "version_minor": 0
      },
      "text/plain": [
       "Validation: 0it [00:00, ?it/s]"
      ]
     },
     "metadata": {},
     "output_type": "display_data"
    },
    {
     "data": {
      "application/vnd.jupyter.widget-view+json": {
       "model_id": "7d14f7c3861c49e09431759eee7db6ed",
       "version_major": 2,
       "version_minor": 0
      },
      "text/plain": [
       "Validation: 0it [00:00, ?it/s]"
      ]
     },
     "metadata": {},
     "output_type": "display_data"
    },
    {
     "data": {
      "application/vnd.jupyter.widget-view+json": {
       "model_id": "ada170aecbf646fb8817f1ea05076fb3",
       "version_major": 2,
       "version_minor": 0
      },
      "text/plain": [
       "Validation: 0it [00:00, ?it/s]"
      ]
     },
     "metadata": {},
     "output_type": "display_data"
    },
    {
     "data": {
      "application/vnd.jupyter.widget-view+json": {
       "model_id": "0e0fbac5015040878752f2d686491abd",
       "version_major": 2,
       "version_minor": 0
      },
      "text/plain": [
       "Validation: 0it [00:00, ?it/s]"
      ]
     },
     "metadata": {},
     "output_type": "display_data"
    },
    {
     "data": {
      "application/vnd.jupyter.widget-view+json": {
       "model_id": "9d16c80340eb4881af6294f9a16f6a9a",
       "version_major": 2,
       "version_minor": 0
      },
      "text/plain": [
       "Validation: 0it [00:00, ?it/s]"
      ]
     },
     "metadata": {},
     "output_type": "display_data"
    },
    {
     "data": {
      "application/vnd.jupyter.widget-view+json": {
       "model_id": "d64690651fab492c80f492ac4800f695",
       "version_major": 2,
       "version_minor": 0
      },
      "text/plain": [
       "Validation: 0it [00:00, ?it/s]"
      ]
     },
     "metadata": {},
     "output_type": "display_data"
    },
    {
     "data": {
      "application/vnd.jupyter.widget-view+json": {
       "model_id": "237b8a36d82a479e9c21e764c1f6a8b3",
       "version_major": 2,
       "version_minor": 0
      },
      "text/plain": [
       "Validation: 0it [00:00, ?it/s]"
      ]
     },
     "metadata": {},
     "output_type": "display_data"
    },
    {
     "data": {
      "application/vnd.jupyter.widget-view+json": {
       "model_id": "90375a2be01a45118301015d13db3bdc",
       "version_major": 2,
       "version_minor": 0
      },
      "text/plain": [
       "Validation: 0it [00:00, ?it/s]"
      ]
     },
     "metadata": {},
     "output_type": "display_data"
    },
    {
     "data": {
      "application/vnd.jupyter.widget-view+json": {
       "model_id": "bb09c7e5a6bf4aa68bf3ce95236fc171",
       "version_major": 2,
       "version_minor": 0
      },
      "text/plain": [
       "Validation: 0it [00:00, ?it/s]"
      ]
     },
     "metadata": {},
     "output_type": "display_data"
    },
    {
     "data": {
      "application/vnd.jupyter.widget-view+json": {
       "model_id": "2d45e4a14673404180c5b3d764bc81f4",
       "version_major": 2,
       "version_minor": 0
      },
      "text/plain": [
       "Validation: 0it [00:00, ?it/s]"
      ]
     },
     "metadata": {},
     "output_type": "display_data"
    },
    {
     "name": "stderr",
     "output_type": "stream",
     "text": [
      "`Trainer.fit` stopped: `max_epochs=300` reached.\n"
     ]
    }
   ],
   "source": [
    "trainer.fit(enc_dec_net, xy_train, xy_val)"
   ]
  },
  {
   "cell_type": "code",
   "execution_count": 74,
   "id": "1a188569-7ae6-42db-937c-8cb5ef97fd68",
   "metadata": {},
   "outputs": [
    {
     "name": "stdout",
     "output_type": "stream",
     "text": [
      "The history saving thread hit an unexpected error (OperationalError('disk I/O error')).History will not be written to the database.\n"
     ]
    }
   ],
   "source": [
    "with open(logger.log_dir+\"/mappings\",\"rb\") as f:\n",
    "    pickle.load(f)"
   ]
  },
  {
   "cell_type": "code",
   "execution_count": 75,
   "id": "dc96fce9-0a6a-47c8-9bb9-383e246f57b2",
   "metadata": {},
   "outputs": [
    {
     "data": {
      "text/html": [
       "<div>\n",
       "<style scoped>\n",
       "    .dataframe tbody tr th:only-of-type {\n",
       "        vertical-align: middle;\n",
       "    }\n",
       "\n",
       "    .dataframe tbody tr th {\n",
       "        vertical-align: top;\n",
       "    }\n",
       "\n",
       "    .dataframe thead th {\n",
       "        text-align: right;\n",
       "    }\n",
       "</style>\n",
       "<table border=\"1\" class=\"dataframe\">\n",
       "  <thead>\n",
       "    <tr style=\"text-align: right;\">\n",
       "      <th></th>\n",
       "      <th>val_acc</th>\n",
       "      <th>val_loss</th>\n",
       "      <th>epoch</th>\n",
       "      <th>step</th>\n",
       "      <th>test_acc</th>\n",
       "      <th>test_loss</th>\n",
       "      <th>train_acc</th>\n",
       "      <th>train_loss</th>\n",
       "    </tr>\n",
       "  </thead>\n",
       "  <tbody>\n",
       "    <tr>\n",
       "      <th>0</th>\n",
       "      <td>0.012901</td>\n",
       "      <td>4.494297</td>\n",
       "      <td>0</td>\n",
       "      <td>0</td>\n",
       "      <td>NaN</td>\n",
       "      <td>NaN</td>\n",
       "      <td>NaN</td>\n",
       "      <td>NaN</td>\n",
       "    </tr>\n",
       "    <tr>\n",
       "      <th>1</th>\n",
       "      <td>NaN</td>\n",
       "      <td>NaN</td>\n",
       "      <td>0</td>\n",
       "      <td>0</td>\n",
       "      <td>0.003742</td>\n",
       "      <td>4.639851</td>\n",
       "      <td>NaN</td>\n",
       "      <td>NaN</td>\n",
       "    </tr>\n",
       "    <tr>\n",
       "      <th>2</th>\n",
       "      <td>0.380803</td>\n",
       "      <td>2.124042</td>\n",
       "      <td>0</td>\n",
       "      <td>62</td>\n",
       "      <td>NaN</td>\n",
       "      <td>NaN</td>\n",
       "      <td>NaN</td>\n",
       "      <td>NaN</td>\n",
       "    </tr>\n",
       "    <tr>\n",
       "      <th>3</th>\n",
       "      <td>NaN</td>\n",
       "      <td>NaN</td>\n",
       "      <td>0</td>\n",
       "      <td>62</td>\n",
       "      <td>NaN</td>\n",
       "      <td>NaN</td>\n",
       "      <td>0.276535</td>\n",
       "      <td>2.707716</td>\n",
       "    </tr>\n",
       "    <tr>\n",
       "      <th>4</th>\n",
       "      <td>0.453643</td>\n",
       "      <td>1.848870</td>\n",
       "      <td>1</td>\n",
       "      <td>125</td>\n",
       "      <td>NaN</td>\n",
       "      <td>NaN</td>\n",
       "      <td>NaN</td>\n",
       "      <td>NaN</td>\n",
       "    </tr>\n",
       "    <tr>\n",
       "      <th>...</th>\n",
       "      <td>...</td>\n",
       "      <td>...</td>\n",
       "      <td>...</td>\n",
       "      <td>...</td>\n",
       "      <td>...</td>\n",
       "      <td>...</td>\n",
       "      <td>...</td>\n",
       "      <td>...</td>\n",
       "    </tr>\n",
       "    <tr>\n",
       "      <th>597</th>\n",
       "      <td>NaN</td>\n",
       "      <td>NaN</td>\n",
       "      <td>297</td>\n",
       "      <td>18773</td>\n",
       "      <td>NaN</td>\n",
       "      <td>NaN</td>\n",
       "      <td>0.830124</td>\n",
       "      <td>0.520423</td>\n",
       "    </tr>\n",
       "    <tr>\n",
       "      <th>598</th>\n",
       "      <td>0.760862</td>\n",
       "      <td>0.947743</td>\n",
       "      <td>298</td>\n",
       "      <td>18836</td>\n",
       "      <td>NaN</td>\n",
       "      <td>NaN</td>\n",
       "      <td>NaN</td>\n",
       "      <td>NaN</td>\n",
       "    </tr>\n",
       "    <tr>\n",
       "      <th>599</th>\n",
       "      <td>NaN</td>\n",
       "      <td>NaN</td>\n",
       "      <td>298</td>\n",
       "      <td>18836</td>\n",
       "      <td>NaN</td>\n",
       "      <td>NaN</td>\n",
       "      <td>0.830254</td>\n",
       "      <td>0.518234</td>\n",
       "    </tr>\n",
       "    <tr>\n",
       "      <th>600</th>\n",
       "      <td>0.756943</td>\n",
       "      <td>0.956585</td>\n",
       "      <td>299</td>\n",
       "      <td>18899</td>\n",
       "      <td>NaN</td>\n",
       "      <td>NaN</td>\n",
       "      <td>NaN</td>\n",
       "      <td>NaN</td>\n",
       "    </tr>\n",
       "    <tr>\n",
       "      <th>601</th>\n",
       "      <td>NaN</td>\n",
       "      <td>NaN</td>\n",
       "      <td>299</td>\n",
       "      <td>18899</td>\n",
       "      <td>NaN</td>\n",
       "      <td>NaN</td>\n",
       "      <td>0.832799</td>\n",
       "      <td>0.510633</td>\n",
       "    </tr>\n",
       "  </tbody>\n",
       "</table>\n",
       "<p>602 rows × 8 columns</p>\n",
       "</div>"
      ],
      "text/plain": [
       "      val_acc  val_loss  epoch   step  test_acc  test_loss  train_acc  \\\n",
       "0    0.012901  4.494297      0      0       NaN        NaN        NaN   \n",
       "1         NaN       NaN      0      0  0.003742   4.639851        NaN   \n",
       "2    0.380803  2.124042      0     62       NaN        NaN        NaN   \n",
       "3         NaN       NaN      0     62       NaN        NaN   0.276535   \n",
       "4    0.453643  1.848870      1    125       NaN        NaN        NaN   \n",
       "..        ...       ...    ...    ...       ...        ...        ...   \n",
       "597       NaN       NaN    297  18773       NaN        NaN   0.830124   \n",
       "598  0.760862  0.947743    298  18836       NaN        NaN        NaN   \n",
       "599       NaN       NaN    298  18836       NaN        NaN   0.830254   \n",
       "600  0.756943  0.956585    299  18899       NaN        NaN        NaN   \n",
       "601       NaN       NaN    299  18899       NaN        NaN   0.832799   \n",
       "\n",
       "     train_loss  \n",
       "0           NaN  \n",
       "1           NaN  \n",
       "2           NaN  \n",
       "3      2.707716  \n",
       "4           NaN  \n",
       "..          ...  \n",
       "597    0.520423  \n",
       "598         NaN  \n",
       "599    0.518234  \n",
       "600         NaN  \n",
       "601    0.510633  \n",
       "\n",
       "[602 rows x 8 columns]"
      ]
     },
     "execution_count": 75,
     "metadata": {},
     "output_type": "execute_result"
    }
   ],
   "source": [
    "results = pd.read_csv(logger.log_dir+\"/metrics.csv\")\n",
    "results"
   ]
  },
  {
   "cell_type": "code",
   "execution_count": 76,
   "id": "bc20b5a9-e5d4-44c2-a372-549aa614d75d",
   "metadata": {
    "tags": []
   },
   "outputs": [
    {
     "data": {
      "image/png": "[encoded data removed]",
      "text/plain": [
       "<Figure size 640x480 with 1 Axes>"
      ]
     },
     "metadata": {},
     "output_type": "display_data"
    }
   ],
   "source": [
    "plt.plot(results[\"epoch\"][np.logical_not(np.isnan(results[\"train_loss\"]))],\n",
    "         results[\"train_loss\"][np.logical_not(np.isnan(results[\"train_loss\"]))],\n",
    "         label=\"Training\")\n",
    "plt.plot(results[\"epoch\"][np.logical_not(np.isnan(results[\"val_loss\"]))],\n",
    "         results[\"val_loss\"][np.logical_not(np.isnan(results[\"val_loss\"]))],\n",
    "         label=\"Validation\")\n",
    "plt.legend()\n",
    "plt.ylabel(\"CCE Loss\")\n",
    "plt.xlabel(\"Epoch\")\n",
    "plt.show()"
   ]
  },
  {
   "cell_type": "code",
   "execution_count": 77,
   "id": "0d6ee3cf-0b25-47ae-b890-c573837d0c93",
   "metadata": {
    "scrolled": true,
    "tags": []
   },
   "outputs": [
    {
     "data": {
      "image/png": "[encoded data removed]",
      "text/plain": [
       "<Figure size 640x480 with 1 Axes>"
      ]
     },
     "metadata": {},
     "output_type": "display_data"
    }
   ],
   "source": [
    "plt.plot(results[\"epoch\"][np.logical_not(np.isnan(results[\"train_acc\"]))],\n",
    "         results[\"train_acc\"][np.logical_not(np.isnan(results[\"train_acc\"]))],\n",
    "         label=\"Training\")\n",
    "plt.plot(results[\"epoch\"][np.logical_not(np.isnan(results[\"val_acc\"]))],\n",
    "         results[\"val_acc\"][np.logical_not(np.isnan(results[\"val_acc\"]))],\n",
    "         label=\"Validation\")\n",
    "plt.legend()\n",
    "plt.ylabel(\"Accuracy\")\n",
    "plt.xlabel(\"Epoch\")\n",
    "plt.show()"
   ]
  },
  {
   "cell_type": "markdown",
   "id": "a4133b15-b531-4d02-8cb7-9f4cd3583fe6",
   "metadata": {},
   "source": [
    "# Direct Validation of Results"
   ]
  },
  {
   "cell_type": "markdown",
   "id": "152f9690-2728-4af2-b85c-ca072260194d",
   "metadata": {},
   "source": [
    "### Teacher Forcing"
   ]
  },
  {
   "cell_type": "code",
   "execution_count": 78,
   "id": "f995399d-1d66-44a8-a276-bd12c18159fd",
   "metadata": {},
   "outputs": [
    {
     "name": "stdout",
     "output_type": "stream",
     "text": [
      "Input: [ 1 23 16 22 36 69 25 49 47 16 40 36 52 52 29 61  2  0  0  0  0  0  0  0\n",
      "  0  0  0  0  0  0  0  0  0  0  0  0  0  0  0  0  0  0  0  0  0]\n",
      "Output: [77 79 65 23 51 61 13 47 55 47 23  3 51 41 75 31 58  2  0  0  0  0  0  0\n",
      "  0  0  0  0  0  0  0  0  0  0  0  0  0  0  0  0  0  0  0  0]\n"
     ]
    }
   ],
   "source": [
    "# What should we see?\n",
    "i = 0\n",
    "print('Input:', enc_x_val[i])\n",
    "print('Output:', dec_y_val[i])"
   ]
  },
  {
   "cell_type": "code",
   "execution_count": 79,
   "id": "0f6e3c0c-91ea-48dd-ab24-1baefed3af41",
   "metadata": {},
   "outputs": [
    {
     "name": "stdout",
     "output_type": "stream",
     "text": [
      "Input: I wasn't happy.\n",
      "Output: Não estava feliz.\n"
     ]
    }
   ],
   "source": [
    "print('Input:', decode_seq(enc_x_val[i],i_to_c_eng))\n",
    "print('Output:', decode_seq(dec_y_val[i],i_to_c_por))"
   ]
  },
  {
   "cell_type": "code",
   "execution_count": 82,
   "id": "88ed5669-d391-449a-b399-6c1efb2c4e5f",
   "metadata": {},
   "outputs": [
    {
     "data": {
      "text/plain": [
       "array([39, 79, 65, 23, 54, 82, 13, 47, 55, 47, 23, 15, 82, 82, 75, 71, 58,\n",
       "        2, 47, 25, 47, 47, 23, 58,  2,  2,  2,  2,  2,  2,  2,  2,  2,  2,\n",
       "        2,  2,  2, 65, 65, 65, 65, 65, 65, 65])"
      ]
     },
     "execution_count": 82,
     "metadata": {},
     "output_type": "execute_result"
    }
   ],
   "source": [
    "result = enc_dec_net(torch.Tensor(enc_x_val[i:i+1]).long(),\n",
    "                     torch.Tensor(dec_x_val[i:i+1]).long()).cpu().detach().numpy()\n",
    "result.argmax(-1)[0]"
   ]
  },
  {
   "cell_type": "code",
   "execution_count": 83,
   "id": "98030d2b-cfb3-458e-b5ae-75705388661b",
   "metadata": {},
   "outputs": [],
   "source": [
    "# Only if the above fails due to device management reasons...\n",
    "# result = enc_dec_net(torch.Tensor(enc_x_val[i:i+1]).long().to(device),\n",
    "#                      torch.Tensor(dec_x_val[i:i+1]).long().to(device)).cpu().detach().numpy()\n",
    "# result.argmax(-1)[0]"
   ]
  },
  {
   "cell_type": "code",
   "execution_count": 84,
   "id": "f8a8b82d-688b-4394-9e90-79de4fef6a22",
   "metadata": {},
   "outputs": [
    {
     "data": {
      "text/plain": [
       "'Eão mrtava prrid.'"
      ]
     },
     "execution_count": 84,
     "metadata": {},
     "output_type": "execute_result"
    }
   ],
   "source": [
    "decode_seq(result.argmax(-1)[0],i_to_c_por)"
   ]
  },
  {
   "cell_type": "code",
   "execution_count": 85,
   "id": "670fefad-fdf4-48ee-87fa-f754c099ada3",
   "metadata": {
    "scrolled": true,
    "tags": []
   },
   "outputs": [
    {
     "name": "stderr",
     "output_type": "stream",
     "text": [
      "LOCAL_RANK: 0 - CUDA_VISIBLE_DEVICES: [0]\n",
      "SLURM auto-requeueing enabled. Setting signal handlers.\n",
      "/opt/conda/lib/python3.11/site-packages/torch/utils/data/dataloader.py:560: UserWarning: This DataLoader will create 8 worker processes in total. Our suggested max number of worker in current system is 2, which is smaller than what this DataLoader is going to create. Please be aware that excessive worker creation might get DataLoader running slow or even freeze, lower the worker number to avoid potential slowness/freeze if necessary.\n",
      "  warnings.warn(_create_warning_msg(\n"
     ]
    },
    {
     "data": {
      "application/vnd.jupyter.widget-view+json": {
       "model_id": "48eed28abeca4e988aab9ee593ae9eb5",
       "version_major": 2,
       "version_minor": 0
      },
      "text/plain": [
       "Validation: 0it [00:00, ?it/s]"
      ]
     },
     "metadata": {},
     "output_type": "display_data"
    },
    {
     "data": {
      "text/html": [
       "<pre style=\"white-space:pre;overflow-x:auto;line-height:normal;font-family:Menlo,'DejaVu Sans Mono',consolas,'Courier New',monospace\">┏━━━━━━━━━━━━━━━━━━━━━━━━━━━┳━━━━━━━━━━━━━━━━━━━━━━━━━━━┓\n",
       "┃<span style=\"font-weight: bold\">  Runningstage.validating  </span>┃<span style=\"font-weight: bold\">                           </span>┃\n",
       "┃<span style=\"font-weight: bold\">          metric           </span>┃<span style=\"font-weight: bold\">       DataLoader 0        </span>┃\n",
       "┡━━━━━━━━━━━━━━━━━━━━━━━━━━━╇━━━━━━━━━━━━━━━━━━━━━━━━━━━┩\n",
       "│<span style=\"color: #008080; text-decoration-color: #008080\">          val_acc          </span>│<span style=\"color: #800080; text-decoration-color: #800080\">    0.7569431662559509     </span>│\n",
       "│<span style=\"color: #008080; text-decoration-color: #008080\">         val_loss          </span>│<span style=\"color: #800080; text-decoration-color: #800080\">    0.9565846920013428     </span>│\n",
       "└───────────────────────────┴───────────────────────────┘\n",
       "</pre>\n"
      ],
      "text/plain": [
       "┏━━━━━━━━━━━━━━━━━━━━━━━━━━━┳━━━━━━━━━━━━━━━━━━━━━━━━━━━┓\n",
       "┃\u001b[1m \u001b[0m\u001b[1m Runningstage.validating \u001b[0m\u001b[1m \u001b[0m┃\u001b[1m                           \u001b[0m┃\n",
       "┃\u001b[1m \u001b[0m\u001b[1m         metric          \u001b[0m\u001b[1m \u001b[0m┃\u001b[1m \u001b[0m\u001b[1m      DataLoader 0       \u001b[0m\u001b[1m \u001b[0m┃\n",
       "┡━━━━━━━━━━━━━━━━━━━━━━━━━━━╇━━━━━━━━━━━━━━━━━━━━━━━━━━━┩\n",
       "│\u001b[36m \u001b[0m\u001b[36m         val_acc         \u001b[0m\u001b[36m \u001b[0m│\u001b[35m \u001b[0m\u001b[35m   0.7569431662559509    \u001b[0m\u001b[35m \u001b[0m│\n",
       "│\u001b[36m \u001b[0m\u001b[36m        val_loss         \u001b[0m\u001b[36m \u001b[0m│\u001b[35m \u001b[0m\u001b[35m   0.9565846920013428    \u001b[0m\u001b[35m \u001b[0m│\n",
       "└───────────────────────────┴───────────────────────────┘\n"
      ]
     },
     "metadata": {},
     "output_type": "display_data"
    },
    {
     "data": {
      "text/plain": [
       "[{'val_acc': 0.7569431662559509, 'val_loss': 0.9565846920013428}]"
      ]
     },
     "execution_count": 85,
     "metadata": {},
     "output_type": "execute_result"
    }
   ],
   "source": [
    "trainer.validate(enc_dec_net, xy_val)"
   ]
  },
  {
   "cell_type": "markdown",
   "id": "d207ef9e-512e-44ad-b218-a92657405f3a",
   "metadata": {},
   "source": [
    "### Non-Teacher Forcing"
   ]
  },
  {
   "cell_type": "code",
   "execution_count": 86,
   "id": "1b89db96-c579-4129-87bd-5cca2b727b45",
   "metadata": {},
   "outputs": [
    {
     "data": {
      "text/plain": [
       "tensor([[1, 0, 0, 0, 0, 0, 0, 0, 0, 0, 0, 0, 0, 0, 0, 0, 0, 0, 0, 0, 0, 0, 0, 0,\n",
       "         0, 0, 0, 0, 0, 0, 0, 0, 0, 0, 0, 0, 0, 0, 0, 0, 0, 0, 0, 0]])"
      ]
     },
     "execution_count": 86,
     "metadata": {},
     "output_type": "execute_result"
    }
   ],
   "source": [
    "# Get the gestalt context for the input sequence(s)\n",
    "context = enc_dec_net.enc_net(torch.Tensor(enc_x_val[i:i+1]).long())\n",
    "\n",
    "# Prep a starting token...\n",
    "token = torch.zeros((1,dec_y_val.shape[1])).long()\n",
    "token[0,0] = 1\n",
    "token"
   ]
  },
  {
   "cell_type": "code",
   "execution_count": 87,
   "id": "333e8c1c-c160-4dd8-9252-5930b67d4e5f",
   "metadata": {},
   "outputs": [
    {
     "data": {
      "text/plain": [
       "array([39, 26, 65, 25, 65, 65, 65, 26, 23, 23, 23, 23, 23, 23, 23, 23, 23,\n",
       "       65, 65, 65, 65, 65, 65, 65, 65, 65, 65, 65, 65, 65,  2,  2,  2,  2,\n",
       "        2,  2,  2,  2,  2,  2,  2,  2,  2,  2])"
      ]
     },
     "execution_count": 87,
     "metadata": {},
     "output_type": "execute_result"
    }
   ],
   "source": [
    "# What do we get with just one pass?\n",
    "result = enc_dec_net.dec_net(context,token)\n",
    "result.cpu().detach().numpy().argmax(-1)[0]"
   ]
  },
  {
   "cell_type": "code",
   "execution_count": 88,
   "id": "6838c5a4-24fe-4d10-a6ae-feb21c13a04e",
   "metadata": {},
   "outputs": [
    {
     "data": {
      "text/plain": [
       "'Euonooou         ooooooooooooo'"
      ]
     },
     "execution_count": 88,
     "metadata": {},
     "output_type": "execute_result"
    }
   ],
   "source": [
    "decode_seq(result.cpu().detach().numpy().argmax(-1)[0],i_to_c_por)"
   ]
  },
  {
   "cell_type": "code",
   "execution_count": 89,
   "id": "87baaee0-1b34-4be9-9937-f1deeab9e09f",
   "metadata": {},
   "outputs": [
    {
     "data": {
      "text/plain": [
       "tensor([[ 1, 39,  0,  0,  0,  0,  0,  0,  0,  0,  0,  0,  0,  0,  0,  0,  0,  0,\n",
       "          0,  0,  0,  0,  0,  0,  0,  0,  0,  0,  0,  0,  0,  0,  0,  0,  0,  0,\n",
       "          0,  0,  0,  0,  0,  0,  0,  0]])"
      ]
     },
     "execution_count": 89,
     "metadata": {},
     "output_type": "execute_result"
    }
   ],
   "source": [
    "token[0,1] = result[0,0].argmax(-1)\n",
    "token"
   ]
  },
  {
   "cell_type": "code",
   "execution_count": 90,
   "id": "d2e3f688-c74e-4508-8b71-d74858017e04",
   "metadata": {},
   "outputs": [
    {
     "data": {
      "text/plain": [
       "array([39, 26, 23, 25, 79, 65, 23, 26, 65, 65, 23, 23, 23, 23, 23, 23, 23,\n",
       "       23, 23, 23, 65, 65, 65, 65, 65, 65, 65, 65, 65, 65, 65,  2,  2,  2,\n",
       "        2,  2,  2,  2,  2,  2,  2,  2,  2,  2])"
      ]
     },
     "execution_count": 90,
     "metadata": {},
     "output_type": "execute_result"
    }
   ],
   "source": [
    "# Feed next token in...\n",
    "result = enc_dec_net.dec_net(context,token)\n",
    "result.cpu().detach().numpy().argmax(-1)[0]"
   ]
  },
  {
   "cell_type": "code",
   "execution_count": 91,
   "id": "9ed9ecdb-db8f-467c-92d6-af438583aef4",
   "metadata": {},
   "outputs": [
    {
     "data": {
      "text/plain": [
       "'Eu não uoo          ooooooooooo'"
      ]
     },
     "execution_count": 91,
     "metadata": {},
     "output_type": "execute_result"
    }
   ],
   "source": [
    "decode_seq(result.cpu().detach().numpy().argmax(-1)[0],i_to_c_por)"
   ]
  },
  {
   "cell_type": "markdown",
   "id": "6ce74bcf-0273-4353-affe-462a2303f72e",
   "metadata": {},
   "source": [
    "### Complete Sequence with Non-Teacher Forcing"
   ]
  },
  {
   "cell_type": "code",
   "execution_count": 92,
   "id": "5f0fbc7f-e049-4bea-aaa9-8d53b80cf068",
   "metadata": {},
   "outputs": [
    {
     "data": {
      "text/plain": [
       "array([39, 26, 23, 25, 79, 65, 23, 54, 51, 23, 54, 47, 12, 75, 58,  2, 58,\n",
       "        2, 23,  2, 65, 71,  2,  2,  2,  2,  2,  2,  2,  2,  2,  2,  2,  2,\n",
       "        2,  2,  2,  2,  2,  2,  2,  2,  2,  2])"
      ]
     },
     "execution_count": 92,
     "metadata": {},
     "output_type": "execute_result"
    }
   ],
   "source": [
    "# Complete max_length cycles with the decoder\n",
    "context = enc_dec_net.enc_net(torch.Tensor(enc_x_val[i:i+1]).long())\n",
    "token = torch.zeros((1,dec_y_val.shape[1])).long()\n",
    "token[0,0] = 1\n",
    "\n",
    "for x in range(dec_y_val.shape[1]-1):\n",
    "    result = enc_dec_net.dec_net(context,token).argmax(-1)\n",
    "    if result[0,x] == 2:\n",
    "        break\n",
    "    token[0,x+1] = result[0,x]\n",
    "result = enc_dec_net.dec_net(context,token).argmax(-1).cpu().detach().numpy()[0]\n",
    "result"
   ]
  },
  {
   "cell_type": "code",
   "execution_count": 93,
   "id": "778a71e6-1e33-4530-8fa2-f10431ae671a",
   "metadata": {},
   "outputs": [
    {
     "data": {
      "text/plain": [
       "'Eu não me maxi.'"
      ]
     },
     "execution_count": 93,
     "metadata": {},
     "output_type": "execute_result"
    }
   ],
   "source": [
    "decode_seq(result,i_to_c_por)"
   ]
  },
  {
   "cell_type": "code",
   "execution_count": 94,
   "id": "6da6a771-c86d-495f-bf72-a6c1fda044e7",
   "metadata": {},
   "outputs": [
    {
     "data": {
      "image/png": "[encoded data removed]",
      "text/latex": [
       "$\\displaystyle \\left( 44,\\right)$"
      ],
      "text/plain": [
       "(44,)"
      ]
     },
     "execution_count": 94,
     "metadata": {},
     "output_type": "execute_result"
    }
   ],
   "source": [
    "result.shape"
   ]
  },
  {
   "cell_type": "code",
   "execution_count": 95,
   "id": "70750187-0609-44fe-8a29-5dcee81f2533",
   "metadata": {},
   "outputs": [
    {
     "data": {
      "image/png": "[encoded data removed]",
      "text/latex": [
       "$\\displaystyle \\left( 2000, \\  44\\right)$"
      ],
      "text/plain": [
       "(2000, 44)"
      ]
     },
     "execution_count": 95,
     "metadata": {},
     "output_type": "execute_result"
    }
   ],
   "source": [
    "dec_y_val.shape"
   ]
  },
  {
   "cell_type": "markdown",
   "id": "51dd5995-adae-46dd-b71f-3074aa0e5711",
   "metadata": {},
   "source": [
    "Accuracy **without** teacher forcing..."
   ]
  },
  {
   "cell_type": "code",
   "execution_count": 96,
   "id": "a8075462-e95b-4ef4-8fbf-ca14356fb4a4",
   "metadata": {},
   "outputs": [
    {
     "name": "stderr",
     "output_type": "stream",
     "text": [
      "LOCAL_RANK: 0 - CUDA_VISIBLE_DEVICES: [0]\n",
      "SLURM auto-requeueing enabled. Setting signal handlers.\n",
      "/opt/conda/lib/python3.11/site-packages/torch/utils/data/dataloader.py:560: UserWarning: This DataLoader will create 8 worker processes in total. Our suggested max number of worker in current system is 2, which is smaller than what this DataLoader is going to create. Please be aware that excessive worker creation might get DataLoader running slow or even freeze, lower the worker number to avoid potential slowness/freeze if necessary.\n",
      "  warnings.warn(_create_warning_msg(\n"
     ]
    },
    {
     "data": {
      "application/vnd.jupyter.widget-view+json": {
       "model_id": "9cc304e41e4e4d47861fc016fe25cb06",
       "version_major": 2,
       "version_minor": 0
      },
      "text/plain": [
       "Testing: 0it [00:00, ?it/s]"
      ]
     },
     "metadata": {},
     "output_type": "display_data"
    },
    {
     "data": {
      "text/html": [
       "<pre style=\"white-space:pre;overflow-x:auto;line-height:normal;font-family:Menlo,'DejaVu Sans Mono',consolas,'Courier New',monospace\">┏━━━━━━━━━━━━━━━━━━━━━━━━━━━┳━━━━━━━━━━━━━━━━━━━━━━━━━━━┓\n",
       "┃<span style=\"font-weight: bold\">   Runningstage.testing    </span>┃<span style=\"font-weight: bold\">                           </span>┃\n",
       "┃<span style=\"font-weight: bold\">          metric           </span>┃<span style=\"font-weight: bold\">       DataLoader 0        </span>┃\n",
       "┡━━━━━━━━━━━━━━━━━━━━━━━━━━━╇━━━━━━━━━━━━━━━━━━━━━━━━━━━┩\n",
       "│<span style=\"color: #008080; text-decoration-color: #008080\">         test_acc          </span>│<span style=\"color: #800080; text-decoration-color: #800080\">     0.295718789100647     </span>│\n",
       "│<span style=\"color: #008080; text-decoration-color: #008080\">         test_loss         </span>│<span style=\"color: #800080; text-decoration-color: #800080\">      8.5599365234375      </span>│\n",
       "└───────────────────────────┴───────────────────────────┘\n",
       "</pre>\n"
      ],
      "text/plain": [
       "┏━━━━━━━━━━━━━━━━━━━━━━━━━━━┳━━━━━━━━━━━━━━━━━━━━━━━━━━━┓\n",
       "┃\u001b[1m \u001b[0m\u001b[1m  Runningstage.testing   \u001b[0m\u001b[1m \u001b[0m┃\u001b[1m                           \u001b[0m┃\n",
       "┃\u001b[1m \u001b[0m\u001b[1m         metric          \u001b[0m\u001b[1m \u001b[0m┃\u001b[1m \u001b[0m\u001b[1m      DataLoader 0       \u001b[0m\u001b[1m \u001b[0m┃\n",
       "┡━━━━━━━━━━━━━━━━━━━━━━━━━━━╇━━━━━━━━━━━━━━━━━━━━━━━━━━━┩\n",
       "│\u001b[36m \u001b[0m\u001b[36m        test_acc         \u001b[0m\u001b[36m \u001b[0m│\u001b[35m \u001b[0m\u001b[35m    0.295718789100647    \u001b[0m\u001b[35m \u001b[0m│\n",
       "│\u001b[36m \u001b[0m\u001b[36m        test_loss        \u001b[0m\u001b[36m \u001b[0m│\u001b[35m \u001b[0m\u001b[35m     8.5599365234375     \u001b[0m\u001b[35m \u001b[0m│\n",
       "└───────────────────────────┴───────────────────────────┘\n"
      ]
     },
     "metadata": {},
     "output_type": "display_data"
    },
    {
     "data": {
      "text/plain": [
       "[{'test_acc': 0.295718789100647, 'test_loss': 8.5599365234375}]"
      ]
     },
     "execution_count": 96,
     "metadata": {},
     "output_type": "execute_result"
    }
   ],
   "source": [
    "trainer.test(enc_dec_net, xy_val)"
   ]
  },
  {
   "cell_type": "code",
   "execution_count": null,
   "id": "4caca2b5-93a1-4699-b945-320bc8e6d06f",
   "metadata": {},
   "outputs": [],
   "source": []
  }
 ],
 "metadata": {
  "kernelspec": {
   "display_name": "Python 3 (ipykernel)",
   "language": "python",
   "name": "python3"
  },
  "language_info": {
   "codemirror_mode": {
    "name": "ipython",
    "version": 3
   },
   "file_extension": ".py",
   "mimetype": "text/x-python",
   "name": "python",
   "nbconvert_exporter": "python",
   "pygments_lexer": "ipython3",
   "version": "3.11.5"
  }
 },
 "nbformat": 4,
 "nbformat_minor": 5
}
