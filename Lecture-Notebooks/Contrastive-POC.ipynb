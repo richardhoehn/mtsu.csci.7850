{
 "cells": [
  {
   "cell_type": "code",
   "execution_count": 1,
   "id": "6bce511f-1e02-4f2a-9738-3020c689a62a",
   "metadata": {
    "tags": []
   },
   "outputs": [],
   "source": [
    "import numpy as np\n",
    "import torch\n",
    "import lightning.pytorch as pl\n",
    "import torchmetrics\n",
    "import torchvision\n",
    "from torchinfo import summary\n",
    "from torchview import draw_graph\n",
    "from IPython.display import display\n",
    "import sympy as sp\n",
    "sp.init_printing(use_latex=True)\n",
    "import pandas as pd\n",
    "import matplotlib.pyplot as plt"
   ]
  },
  {
   "cell_type": "code",
   "execution_count": 2,
   "id": "afc66466-d4c7-4dc6-9012-c660c975ac54",
   "metadata": {
    "tags": []
   },
   "outputs": [
    {
     "name": "stdout",
     "output_type": "stream",
     "text": [
      "NVIDIA GeForce RTX 2080 Ti\n",
      "_CudaDeviceProperties(name='NVIDIA GeForce RTX 2080 Ti', major=7, minor=5, total_memory=11011MB, multi_processor_count=68)\n",
      "Number of devices: 1\n"
     ]
    }
   ],
   "source": [
    "if torch.cuda.is_available():\n",
    "    print(torch.cuda.get_device_name())\n",
    "    print(torch.cuda.get_device_properties(\"cuda\"))\n",
    "    print(\"Number of devices:\",torch.cuda.device_count())\n",
    "    device = (\"cuda\")\n",
    "else:\n",
    "    print(\"Only CPU is available...\")\n",
    "    device = (\"cpu\")"
   ]
  },
  {
   "cell_type": "markdown",
   "id": "ffbcbd60-6082-4aba-93d8-28537438c1ff",
   "metadata": {},
   "source": [
    "### Pick-a-dataset"
   ]
  },
  {
   "cell_type": "code",
   "execution_count": 3,
   "id": "461d256b-88e8-4118-abf1-2be305e50ccb",
   "metadata": {},
   "outputs": [
    {
     "name": "stdout",
     "output_type": "stream",
     "text": [
      "Files already downloaded and verified\n",
      "Files already downloaded and verified\n",
      "torch.Size([50000, 3, 32, 32])\n",
      "torch.Size([10000, 3, 32, 32])\n"
     ]
    }
   ],
   "source": [
    "# CIFAR 10\n",
    "training_dataset = torchvision.datasets.CIFAR10(root='datasets',download=True, train=True)\n",
    "testing_dataset = torchvision.datasets.CIFAR10(root='datasets',download=True, train=False)\n",
    "x_train = torch.Tensor(training_dataset.data).permute(0, 3, 1, 2)\n",
    "y_train = torch.Tensor(training_dataset.targets).to(torch.long)\n",
    "x_test = torch.Tensor(testing_dataset.data).permute(0, 3, 1 ,2)\n",
    "y_test = torch.Tensor(testing_dataset.targets).to(torch.long)\n",
    "print(x_train.shape)\n",
    "print(x_test.shape)"
   ]
  },
  {
   "cell_type": "code",
   "execution_count": 4,
   "id": "06e5a300-e5c7-43f7-ba6f-20c37f38c8ba",
   "metadata": {
    "tags": []
   },
   "outputs": [
    {
     "name": "stderr",
     "output_type": "stream",
     "text": [
      "/opt/conda/lib/python3.11/site-packages/torch/utils/data/dataloader.py:560: UserWarning: This DataLoader will create 4 worker processes in total. Our suggested max number of worker in current system is 2, which is smaller than what this DataLoader is going to create. Please be aware that excessive worker creation might get DataLoader running slow or even freeze, lower the worker number to avoid potential slowness/freeze if necessary.\n",
      "  warnings.warn(_create_warning_msg(\n"
     ]
    }
   ],
   "source": [
    "batch_size = 250\n",
    "xy_train = torch.utils.data.DataLoader(list(zip(x_train,\n",
    "                                                y_train)),\n",
    "                                       shuffle=True, batch_size=batch_size,\n",
    "                                       num_workers=4)\n",
    "xy_val = torch.utils.data.DataLoader(list(zip(x_test, y_test)),\n",
    "                                     shuffle=False, batch_size=batch_size,\n",
    "                                     num_workers=4)"
   ]
  },
  {
   "cell_type": "markdown",
   "id": "6833cd31-3e41-44f1-9cc0-73d65727f397",
   "metadata": {
    "tags": []
   },
   "source": [
    "#### Important shapes for the model..."
   ]
  },
  {
   "cell_type": "code",
   "execution_count": 29,
   "id": "6e27cbb1-fe07-4e3a-942d-e7d8f7f1af84",
   "metadata": {
    "tags": []
   },
   "outputs": [
    {
     "data": {
      "text/plain": [
       "(4,)"
      ]
     },
     "execution_count": 29,
     "metadata": {},
     "output_type": "execute_result"
    }
   ],
   "source": [
    "x_train.shape[1:] # See below..."
   ]
  },
  {
   "cell_type": "code",
   "execution_count": 30,
   "id": "e66df526-6905-4ace-ab60-5fd5b775d826",
   "metadata": {
    "tags": []
   },
   "outputs": [
    {
     "data": {
      "text/plain": [
       "3"
      ]
     },
     "execution_count": 30,
     "metadata": {},
     "output_type": "execute_result"
    }
   ],
   "source": [
    "len(np.unique(y_train)) # See below..."
   ]
  },
  {
   "cell_type": "code",
   "execution_count": 5,
   "id": "35fb43bd-8886-4332-8240-1c060aa4e937",
   "metadata": {},
   "outputs": [],
   "source": [
    "class ImageEncoder(torch.nn.Module):\n",
    "    def __init__(self,\n",
    "                 latent_size = 32,\n",
    "                 **kwargs):\n",
    "        super().__init__(**kwargs)\n",
    "        self.conv1 = torch.nn.Conv2d(3, # Input channels\n",
    "                                     latent_size, # Output channels\n",
    "                                     kernel_size=(6,6), # Kernel window\n",
    "                                     stride=(1,1), # Step size\n",
    "                                     padding=(0,0))\n",
    "        self.conv2 = torch.nn.Conv2d(latent_size, # Input channels\n",
    "                                     latent_size, # Output channels\n",
    "                                     kernel_size=(6,6), # Kernel window\n",
    "                                     stride=(1,1), # Step size\n",
    "                                     padding=(0,0))\n",
    "        self.conv3 = torch.nn.Conv2d(latent_size, # Input channels\n",
    "                                     latent_size, # Output channels\n",
    "                                     kernel_size=(4,4), # Kernel window\n",
    "                                     stride=(1,1), # Step size\n",
    "                                     padding=(0,0))\n",
    "        self.conv4 = torch.nn.Conv2d(latent_size, # Input channels\n",
    "                                     latent_size, # Output channels\n",
    "                                     kernel_size=(3,3), # Kernel window\n",
    "                                     stride=(1,1), # Step size\n",
    "                                     padding=(0,0))\n",
    "        self.conv_activation = torch.nn.GELU()\n",
    "        \n",
    "        self.pool1_2 = torch.nn.MaxPool2d((2,2))\n",
    "        self.pool3_4 = torch.nn.MaxPool2d((2,2))\n",
    "        \n",
    "        self.flatten = torch.nn.Flatten()\n",
    "        self.latent_layer = torch.nn.Linear(latent_size*3*3,latent_size)\n",
    "        self.layer_norm = torch.nn.LayerNorm(latent_size)\n",
    "    def forward(self, x):\n",
    "        y = x\n",
    "        y = self.conv1(y)\n",
    "        y = self.conv_activation(y)\n",
    "        y = self.conv2(y)\n",
    "        y = self.conv_activation(y)\n",
    "        y = self.pool1_2(y)\n",
    "        y = self.conv3(y)\n",
    "        y = self.conv_activation(y)\n",
    "        y = self.conv4(y)\n",
    "        y = self.conv_activation(y)\n",
    "        y = self.pool3_4(y)\n",
    "        y = self.flatten(y)\n",
    "        y = self.latent_layer(y)\n",
    "        y = self.layer_norm(y)\n",
    "        return y"
   ]
  },
  {
   "cell_type": "code",
   "execution_count": 6,
   "id": "7ad32780-c273-4afb-bfab-abde2e706da5",
   "metadata": {},
   "outputs": [],
   "source": [
    "class ContrastiveNetwork(pl.LightningModule):\n",
    "    def __init__(self,\n",
    "                 latent_size = 64,\n",
    "                 **kwargs):\n",
    "        super().__init__(**kwargs)\n",
    "\n",
    "        self.normalize = torchvision.transforms.Compose([\n",
    "            torchvision.transforms.Lambda(lambda x: x / 255.0),\n",
    "            torchvision.transforms.Normalize(mean=[0.485, 0.456, 0.406],\n",
    "                                             std=[0.229, 0.224, 0.225]),\n",
    "        ])\n",
    "        self.transform = torchvision.transforms.Compose([\n",
    "            # torchvision.transforms.RandomAffine(degrees=(-10.0,10.0),\n",
    "            #                                     translate=(0.1,0.1),\n",
    "            #                                     scale=(0.9,1.1),\n",
    "            #                                     shear=(-10.0,10.0)),\n",
    "            torchvision.transforms.RandomHorizontalFlip(0.5),\n",
    "            torchvision.transforms.RandomResizedCrop(32,antialias=True),\n",
    "            torchvision.transforms.ColorJitter(brightness=0.5,hue=0.3,contrast=0.3)\n",
    "        ])\n",
    "        self.encoder = ImageEncoder(latent_size=latent_size)\n",
    "        \n",
    "        # self.output_layer = DenseLayer(,embedding_size)\n",
    "        self.mca = torchmetrics.classification.MulticlassAccuracy(num_classes=10)\n",
    "        self.cce = torch.nn.CrossEntropyLoss().to(device)\n",
    "        \n",
    "    def forward(self, x):\n",
    "        y = x\n",
    "        y = y1 = y2 = self.normalize(y)\n",
    "        if self.training:\n",
    "            y1 = self.transform(y1)\n",
    "            y2 = self.transform(y2)\n",
    "        y1 = self.encoder(y1)\n",
    "        y2 = self.encoder(y2)\n",
    "        y = y1 @ y2.t()\n",
    "        return y, y1, y2\n",
    "\n",
    "    def predict(self, x1, x2):\n",
    "        y1 = self.normalize(x1)\n",
    "        y2 = self.normalize(x2)\n",
    "        if self.training:\n",
    "            y1 = self.transform(y1)\n",
    "            y2 = self.transform(y2)\n",
    "        y1 = self.encoder(y1)\n",
    "        y2 = self.encoder(y2)\n",
    "        y = y1 @ y2.t()\n",
    "        return y, y1, y2\n",
    "        \n",
    "    def configure_optimizers(self):\n",
    "        optimizer = torch.optim.Adam(self.parameters(), lr=1e-4)\n",
    "        return optimizer\n",
    "\n",
    "    def training_step(self, train_batch, batch_idx):\n",
    "        x, y = train_batch\n",
    "        y_pred, _, _ = self(x)\n",
    "        y_true = torch.arange(len(y_pred),requires_grad=False).to(device)\n",
    "        loss1 = self.cce(y_pred, y_true)\n",
    "        loss2 = self.cce(y_pred.t(), y_true)\n",
    "        loss = (loss1+loss2)/2.0\n",
    "        self.log('train_loss', loss, on_step=False, on_epoch=True)\n",
    "        acc1 = self.mca(y[torch.argmax(y_pred,-1)], y)\n",
    "        acc2 = self.mca(y[torch.argmax(y_pred.t(),-1)], y)\n",
    "        acc = (acc1+acc2)/2.0\n",
    "        self.log('train_acc', acc, on_step=False, on_epoch=True)\n",
    "        return loss\n",
    "\n",
    "    def validation_step(self, val_batch, batch_idx):\n",
    "        x, y = val_batch\n",
    "        y_pred, _, _ = self(x)\n",
    "        y_true = torch.arange(len(y_pred),requires_grad=False).to(device)\n",
    "        loss1 = self.cce(y_pred, y_true)\n",
    "        loss2 = self.cce(y_pred.t(), y_true)\n",
    "        loss = (loss1+loss2)/2.0\n",
    "        self.log('val_loss', loss, on_step=False, on_epoch=True)\n",
    "        acc1 = self.mca(y[torch.argmax(y_pred,-1)], y)\n",
    "        acc2 = self.mca(y[torch.argmax(y_pred.t(),-1)], y)\n",
    "        acc = (acc1+acc2)/2.0\n",
    "        self.log('val_acc', acc, on_step=False, on_epoch=True)\n",
    "        return loss"
   ]
  },
  {
   "cell_type": "code",
   "execution_count": 12,
   "id": "a0ec73ef-86d9-4182-b2aa-663d26490ea3",
   "metadata": {},
   "outputs": [
    {
     "name": "stdout",
     "output_type": "stream",
     "text": [
      "ContrastiveNetwork(\n",
      "  (encoder): ImageEncoder(\n",
      "    (conv1): Conv2d(3, 256, kernel_size=(6, 6), stride=(1, 1))\n",
      "    (conv2): Conv2d(256, 256, kernel_size=(6, 6), stride=(1, 1))\n",
      "    (conv3): Conv2d(256, 256, kernel_size=(4, 4), stride=(1, 1))\n",
      "    (conv4): Conv2d(256, 256, kernel_size=(3, 3), stride=(1, 1))\n",
      "    (conv_activation): GELU(approximate='none')\n",
      "    (pool1_2): MaxPool2d(kernel_size=(2, 2), stride=(2, 2), padding=0, dilation=1, ceil_mode=False)\n",
      "    (pool3_4): MaxPool2d(kernel_size=(2, 2), stride=(2, 2), padding=0, dilation=1, ceil_mode=False)\n",
      "    (flatten): Flatten(start_dim=1, end_dim=-1)\n",
      "    (latent_layer): Linear(in_features=2304, out_features=256, bias=True)\n",
      "    (layer_norm): LayerNorm((256,), eps=1e-05, elementwise_affine=True)\n",
      "  )\n",
      "  (mca): MulticlassAccuracy()\n",
      "  (cce): CrossEntropyLoss()\n",
      ")\n"
     ]
    }
   ],
   "source": [
    "model = ContrastiveNetwork(latent_size=256)\n",
    "print(model)"
   ]
  },
  {
   "cell_type": "code",
   "execution_count": 15,
   "id": "0c2c8f9c-33aa-4a42-b03d-83b19b9d4aad",
   "metadata": {},
   "outputs": [
    {
     "name": "stdout",
     "output_type": "stream",
     "text": [
      "torch.Size([250, 250])\n",
      "tensor([[-7.6604e-02, -1.5567e+00,  3.8154e-01,  1.2578e+00,  8.5901e-01,\n",
      "          1.7055e-01,  4.6711e-01, -1.4170e+00, -5.7133e-01,  1.3169e+00,\n",
      "         -2.1538e-01, -8.2456e-01,  2.7733e-01, -6.9704e-02, -4.3509e-01,\n",
      "         -8.1871e-01,  1.0877e+00,  1.3495e+00,  1.5177e-02, -3.9557e-01,\n",
      "         -1.5409e+00,  1.7998e+00, -7.8613e-01,  1.1164e+00, -6.8735e-01,\n",
      "         -1.7071e+00, -1.2296e+00, -3.7261e-01,  9.2846e-01, -2.9588e-01,\n",
      "         -3.0033e-01, -1.6686e+00,  3.8189e-03, -9.1313e-01, -1.1754e+00,\n",
      "         -1.9048e-01,  1.2614e+00,  2.6614e+00, -1.0616e-01,  4.8278e-01,\n",
      "         -3.9702e-01, -1.5455e+00,  8.0801e-01, -8.4299e-01, -1.0582e+00,\n",
      "          2.9152e-01,  7.4443e-01,  3.3372e-01,  1.3439e+00, -7.0153e-01,\n",
      "         -8.7927e-01,  2.0684e+00,  8.1491e-01,  1.0579e+00,  1.0958e+00,\n",
      "          7.9441e-01,  8.0829e-01,  1.1621e+00,  1.4612e+00,  5.7618e-01,\n",
      "         -8.9424e-01, -1.5944e+00,  4.4173e-01,  4.0124e-01, -1.2137e+00,\n",
      "          7.3239e-01,  4.2463e-02,  1.9551e-01, -1.3511e+00, -8.9440e-02,\n",
      "          2.6062e-03, -6.0810e-01,  1.0579e+00,  1.7903e-01, -1.6108e+00,\n",
      "          4.9985e-02,  2.1775e-01, -7.7772e-02, -5.0324e-01,  6.4449e-01,\n",
      "          3.5801e-01, -9.7664e-01, -1.1817e-01,  5.6062e-01, -1.1854e+00,\n",
      "          1.1342e+00, -8.8121e-01, -1.1732e+00,  6.0063e-01, -1.1967e+00,\n",
      "          1.0318e+00,  8.0018e-01,  1.6856e+00, -7.6094e-01,  8.1405e-01,\n",
      "          3.2761e-01, -1.9186e+00,  6.3364e-01, -9.2440e-01,  5.1413e-01,\n",
      "          4.2518e-01,  1.2836e+00, -7.6907e-01,  3.8447e-01, -1.3443e-01,\n",
      "         -4.9443e-03, -1.6962e+00, -4.5175e-01,  8.8285e-01, -1.0299e+00,\n",
      "         -5.4307e-01, -7.3215e-01,  5.9261e-01, -4.5889e-01, -1.2765e+00,\n",
      "          1.3216e+00,  2.4054e-01, -5.7215e-01,  4.1555e-01,  2.1659e-01,\n",
      "          7.0685e-01, -1.4100e+00, -3.2376e-01, -2.2389e-01, -7.6980e-01,\n",
      "          3.9058e-01,  3.7815e-01, -1.6418e+00,  1.1089e+00,  7.2052e-01,\n",
      "          1.0452e+00, -1.3264e+00,  4.0756e-01,  1.0647e-01,  1.3621e+00,\n",
      "          7.4786e-01, -1.4429e+00,  1.3934e+00,  1.5794e+00, -1.6046e-02,\n",
      "          8.5686e-02,  6.0787e-01,  8.0585e-01, -7.1759e-01,  3.9029e-01,\n",
      "         -1.1483e+00, -1.5097e+00, -4.4309e-01,  8.9255e-01,  2.4023e-01,\n",
      "          1.6063e+00,  1.6798e-01, -6.2605e-01,  1.4687e+00,  1.5139e+00,\n",
      "          2.5200e-01, -4.9649e-01,  4.3165e-01,  2.9023e-01,  9.7695e-01,\n",
      "          2.0963e-01,  1.3927e+00, -9.6835e-01, -1.0251e+00, -1.5794e+00,\n",
      "         -8.0912e-01, -9.9922e-01, -8.5472e-01, -4.8851e-01,  2.5200e-01,\n",
      "          1.1026e+00, -1.4770e+00, -1.6924e-01,  1.8508e+00, -8.5057e-01,\n",
      "          1.7325e+00,  1.0805e+00, -2.3447e-01, -1.0936e+00,  3.5925e-01,\n",
      "         -5.9963e-01,  9.7638e-01, -1.8805e+00,  9.8730e-01,  1.2636e+00,\n",
      "          3.4655e-01,  6.8451e-01, -1.4529e+00, -1.3844e+00, -5.0414e-01,\n",
      "         -2.9209e-01, -8.2937e-01,  1.8108e+00,  2.3483e-01, -1.0411e-01,\n",
      "          7.3471e-01, -8.8006e-01, -6.6398e-01,  1.1150e+00, -5.1332e-01,\n",
      "         -6.9157e-01, -1.5053e+00, -8.9465e-01,  9.5020e-01, -6.4239e-03,\n",
      "         -3.5017e-01,  2.8410e-01, -1.0850e-01, -1.4133e+00, -1.0576e+00,\n",
      "         -6.1876e-02, -1.8244e-01,  6.6319e-01,  8.4666e-01, -4.3972e-01,\n",
      "         -1.2700e+00,  2.3354e-01, -1.3164e+00, -1.5755e+00,  1.9300e+00,\n",
      "          1.1905e+00,  2.7107e-01,  1.6565e+00,  6.4089e-01, -6.8284e-01,\n",
      "          4.1450e-01,  1.8004e-01, -2.1036e-01,  1.1112e+00,  3.5257e-01,\n",
      "         -1.6183e+00, -6.6137e-01, -7.6390e-01,  1.8239e+00, -1.1417e+00,\n",
      "         -1.8791e+00,  3.4197e-02, -1.5794e+00, -5.9810e-01,  1.6050e-01,\n",
      "         -1.2010e+00,  6.2812e-01,  1.3136e+00,  9.9909e-01, -2.4069e-01,\n",
      "          1.3273e+00,  2.9756e-01,  1.6745e+00,  6.9569e-01,  1.2806e+00,\n",
      "          1.4080e-01, -1.5470e+00, -5.1387e-01, -6.1061e-01,  3.2428e-01,\n",
      "         -8.2495e-01]], grad_fn=<SliceBackward0>)\n",
      "tensor([[-0.1494, -1.3373,  0.4465,  1.5004,  0.7550,  0.2394,  0.8050, -1.4593,\n",
      "         -0.5547,  1.5769, -0.2033, -0.7922,  0.3263, -0.1173, -0.4157, -0.8442,\n",
      "          1.0788,  1.2941, -0.3735, -0.4979, -1.3033,  1.5292, -1.0081,  1.2339,\n",
      "         -0.6181, -1.5492, -1.3079, -0.1832,  1.1605, -0.2473, -0.3456, -1.5368,\n",
      "         -0.3451, -0.8452, -1.2802, -0.0691,  1.2053,  2.5710,  0.0373,  0.5242,\n",
      "         -0.4425, -1.5273,  0.6014, -0.7378, -1.0666,  0.2715,  0.7409,  0.5118,\n",
      "          1.2224, -0.7826, -0.8248,  1.8634,  0.8882,  0.9482,  1.1530,  0.5860,\n",
      "          0.6653,  1.1892,  1.4185,  0.3885, -1.2002, -1.7318,  0.7136,  0.3671,\n",
      "         -1.2911,  0.9615,  0.1323,  0.4296, -1.3781, -0.2356,  0.0149, -0.8027,\n",
      "          1.2099,  0.1093, -1.3451,  0.1934,  0.1691, -0.3311, -0.4276,  0.6229,\n",
      "          0.5097, -1.0317, -0.2034,  0.4917, -1.3392,  1.1638, -0.8064, -1.3924,\n",
      "          0.5431, -0.9903,  0.9318,  0.7912,  1.5688, -1.0181,  0.7272,  0.4054,\n",
      "         -1.8889,  0.8426, -0.7843,  0.5178,  0.3368,  1.4906, -0.7941,  0.4496,\n",
      "         -0.2526, -0.0315, -1.5840, -0.3122,  1.2023, -0.8339, -0.3553, -0.6869,\n",
      "          0.3986, -0.3465, -1.2104,  1.4799,  0.1936, -0.4132,  0.6121,  0.3550,\n",
      "          0.7624, -1.1174, -0.2224, -0.1559, -0.8917,  0.5220,  0.6814, -1.6776,\n",
      "          0.9840,  0.6250,  1.1952, -1.3176,  0.3191,  0.1126,  1.1313,  0.8914,\n",
      "         -1.5293,  1.3844,  1.4443, -0.1871,  0.2420,  0.5960,  0.6219, -0.5261,\n",
      "          0.6148, -1.3236, -1.4405, -0.2882,  0.9017,  0.3764,  1.7868,  0.1472,\n",
      "         -0.6796,  1.4096,  1.5493,  0.2961, -0.5656,  0.4775,  0.3657,  0.8851,\n",
      "          0.4578,  1.3610, -1.0742, -0.8004, -1.5892, -0.6787, -1.1866, -0.8588,\n",
      "         -0.4706,  0.1774,  1.0862, -1.7326, -0.3204,  1.7677, -0.7533,  1.9604,\n",
      "          1.1925, -0.0579, -1.4377,  0.3690, -0.4168,  0.9331, -2.0031,  0.7185,\n",
      "          1.2042,  0.3038,  0.7022, -1.4177, -1.3592, -0.3860, -0.6836, -0.4419,\n",
      "          1.9407,  0.0066,  0.0413,  0.7835, -0.9429, -0.6041,  0.9420, -0.3884,\n",
      "         -0.5613, -1.5542, -0.7611,  1.2420, -0.1560, -0.4474,  0.3259,  0.0811,\n",
      "         -1.3302, -1.0991,  0.2703, -0.1299,  0.6892,  0.8938, -0.5819, -0.9635,\n",
      "         -0.0064, -1.3560, -1.5528,  1.7562,  1.2053,  0.2042,  1.6182,  0.4830,\n",
      "         -0.4652,  0.4342,  0.3083, -0.2847,  1.0499,  0.0366, -1.5646, -0.6770,\n",
      "         -1.0432,  1.6973, -1.2476, -1.8065,  0.2072, -1.8225, -0.7987,  0.2643,\n",
      "         -1.3792,  0.6788,  1.1196,  0.9402, -0.3039,  1.1751,  0.1771,  1.5487,\n",
      "          0.4208,  0.9893, -0.0693, -1.4129, -0.4472, -0.5444,  0.1678, -1.2445]],\n",
      "       grad_fn=<SliceBackward0>)\n"
     ]
    }
   ],
   "source": [
    "y, y1, y2 = model(x_train[0:batch_size])\n",
    "print(y.shape)\n",
    "print(y1[0:1])\n",
    "print(y2[0:1])"
   ]
  },
  {
   "cell_type": "code",
   "execution_count": 16,
   "id": "9f4ac878-cb94-4552-8ce3-4fc49223f67a",
   "metadata": {},
   "outputs": [
    {
     "data": {
      "image/svg+xml": [
       "<?xml version=\"1.0\" encoding=\"UTF-8\" standalone=\"no\"?>\n",
       "<!DOCTYPE svg PUBLIC \"-//W3C//DTD SVG 1.1//EN\"\n",
       " \"http://www.w3.org/Graphics/SVG/1.1/DTD/svg11.dtd\">\n",
       "<!-- Generated by graphviz version 8.1.0 (20230707.2238)\n",
       " -->\n",
       "<!-- Title: model Pages: 1 -->\n",
       "<svg width=\"506pt\" height=\"1469pt\"\n",
       " viewBox=\"0.00 0.00 506.43 1469.00\" xmlns=\"http://www.w3.org/2000/svg\" xmlns:xlink=\"http://www.w3.org/1999/xlink\">\n",
       "<g id=\"graph0\" class=\"graph\" transform=\"scale(0.995932 0.995932) rotate(0) translate(4 1471)\">\n",
       "<title>model</title>\n",
       "<polygon fill=\"white\" stroke=\"none\" points=\"-4,4 -4,-1471 504.5,-1471 504.5,4 -4,4\"/>\n",
       "<!-- 0 -->\n",
       "<g id=\"node1\" class=\"node\">\n",
       "<title>0</title>\n",
       "<polygon fill=\"lightyellow\" stroke=\"none\" points=\"305.12,-1467 152.38,-1467 152.38,-1431.5 305.12,-1431.5 305.12,-1467\"/>\n",
       "<polygon fill=\"none\" stroke=\"black\" points=\"152.38,-1431.5 152.38,-1467 221.62,-1467 221.62,-1431.5 152.38,-1431.5\"/>\n",
       "<text text-anchor=\"start\" x=\"157.38\" y=\"-1452.5\" font-family=\"Linux libertine\" font-size=\"10.00\">input&#45;tensor</text>\n",
       "<text text-anchor=\"start\" x=\"168.62\" y=\"-1439.75\" font-family=\"Linux libertine\" font-size=\"10.00\">depth:0</text>\n",
       "<polygon fill=\"none\" stroke=\"black\" points=\"221.62,-1431.5 221.62,-1467 305.12,-1467 305.12,-1431.5 221.62,-1431.5\"/>\n",
       "<text text-anchor=\"start\" x=\"226.62\" y=\"-1446.12\" font-family=\"Linux libertine\" font-size=\"10.00\">(250, 3, 32, 32)</text>\n",
       "</g>\n",
       "<!-- 1 -->\n",
       "<g id=\"node2\" class=\"node\">\n",
       "<title>1</title>\n",
       "<polygon fill=\"aliceblue\" stroke=\"none\" points=\"318.25,-1395.5 139.25,-1395.5 139.25,-1351.5 318.25,-1351.5 318.25,-1395.5\"/>\n",
       "<polygon fill=\"none\" stroke=\"black\" points=\"139.25,-1351.5 139.25,-1395.5 185.25,-1395.5 185.25,-1351.5 139.25,-1351.5\"/>\n",
       "<text text-anchor=\"start\" x=\"154.75\" y=\"-1376.75\" font-family=\"Linux libertine\" font-size=\"10.00\">div</text>\n",
       "<text text-anchor=\"start\" x=\"143.88\" y=\"-1364\" font-family=\"Linux libertine\" font-size=\"10.00\">depth:1</text>\n",
       "<polygon fill=\"none\" stroke=\"black\" points=\"185.25,-1373.5 185.25,-1395.5 232.25,-1395.5 232.25,-1373.5 185.25,-1373.5\"/>\n",
       "<text text-anchor=\"start\" x=\"194.88\" y=\"-1381\" font-family=\"Linux libertine\" font-size=\"10.00\">input:</text>\n",
       "<polygon fill=\"none\" stroke=\"black\" points=\"232.25,-1373.5 232.25,-1395.5 318.25,-1395.5 318.25,-1373.5 232.25,-1373.5\"/>\n",
       "<text text-anchor=\"start\" x=\"237\" y=\"-1381\" font-family=\"Linux libertine\" font-size=\"10.00\">(250, 3, 32, 32) </text>\n",
       "<polygon fill=\"none\" stroke=\"black\" points=\"185.25,-1351.5 185.25,-1373.5 232.25,-1373.5 232.25,-1351.5 185.25,-1351.5\"/>\n",
       "<text text-anchor=\"start\" x=\"190\" y=\"-1359\" font-family=\"Linux libertine\" font-size=\"10.00\">output: </text>\n",
       "<polygon fill=\"none\" stroke=\"black\" points=\"232.25,-1351.5 232.25,-1373.5 318.25,-1373.5 318.25,-1351.5 232.25,-1351.5\"/>\n",
       "<text text-anchor=\"start\" x=\"237\" y=\"-1359\" font-family=\"Linux libertine\" font-size=\"10.00\">(250, 3, 32, 32) </text>\n",
       "</g>\n",
       "<!-- 0&#45;&gt;1 -->\n",
       "<g id=\"edge1\" class=\"edge\">\n",
       "<title>0&#45;&gt;1</title>\n",
       "<path fill=\"none\" stroke=\"black\" d=\"M228.75,-1431.51C228.75,-1424.07 228.75,-1415.04 228.75,-1406.39\"/>\n",
       "<polygon fill=\"black\" stroke=\"black\" points=\"232.25,-1406.39 228.75,-1396.39 225.25,-1406.39 232.25,-1406.39\"/>\n",
       "</g>\n",
       "<!-- 2 -->\n",
       "<g id=\"node3\" class=\"node\">\n",
       "<title>2</title>\n",
       "<polygon fill=\"#c1ffc1\" stroke=\"none\" points=\"325.25,-1315.5 132.25,-1315.5 132.25,-1271.5 325.25,-1271.5 325.25,-1315.5\"/>\n",
       "<polygon fill=\"none\" stroke=\"black\" points=\"132.25,-1271.5 132.25,-1315.5 192.25,-1315.5 192.25,-1271.5 132.25,-1271.5\"/>\n",
       "<text text-anchor=\"start\" x=\"137.12\" y=\"-1296.75\" font-family=\"Linux libertine\" font-size=\"10.00\">Normalize</text>\n",
       "<text text-anchor=\"start\" x=\"143.88\" y=\"-1284\" font-family=\"Linux libertine\" font-size=\"10.00\">depth:1</text>\n",
       "<polygon fill=\"none\" stroke=\"black\" points=\"192.25,-1293.5 192.25,-1315.5 239.25,-1315.5 239.25,-1293.5 192.25,-1293.5\"/>\n",
       "<text text-anchor=\"start\" x=\"201.88\" y=\"-1301\" font-family=\"Linux libertine\" font-size=\"10.00\">input:</text>\n",
       "<polygon fill=\"none\" stroke=\"black\" points=\"239.25,-1293.5 239.25,-1315.5 325.25,-1315.5 325.25,-1293.5 239.25,-1293.5\"/>\n",
       "<text text-anchor=\"start\" x=\"244\" y=\"-1301\" font-family=\"Linux libertine\" font-size=\"10.00\">(250, 3, 32, 32) </text>\n",
       "<polygon fill=\"none\" stroke=\"black\" points=\"192.25,-1271.5 192.25,-1293.5 239.25,-1293.5 239.25,-1271.5 192.25,-1271.5\"/>\n",
       "<text text-anchor=\"start\" x=\"197\" y=\"-1279\" font-family=\"Linux libertine\" font-size=\"10.00\">output: </text>\n",
       "<polygon fill=\"none\" stroke=\"black\" points=\"239.25,-1271.5 239.25,-1293.5 325.25,-1293.5 325.25,-1271.5 239.25,-1271.5\"/>\n",
       "<text text-anchor=\"start\" x=\"244\" y=\"-1279\" font-family=\"Linux libertine\" font-size=\"10.00\">(250, 3, 32, 32) </text>\n",
       "</g>\n",
       "<!-- 1&#45;&gt;2 -->\n",
       "<g id=\"edge2\" class=\"edge\">\n",
       "<title>1&#45;&gt;2</title>\n",
       "<path fill=\"none\" stroke=\"black\" d=\"M228.75,-1351.6C228.75,-1343.82 228.75,-1334.8 228.75,-1326.26\"/>\n",
       "<polygon fill=\"black\" stroke=\"black\" points=\"232.25,-1326.46 228.75,-1316.46 225.25,-1326.46 232.25,-1326.46\"/>\n",
       "</g>\n",
       "<!-- 3 -->\n",
       "<g id=\"node4\" class=\"node\">\n",
       "<title>3</title>\n",
       "<polygon fill=\"#c1ffc1\" stroke=\"none\" points=\"220.25,-1235.5 29.25,-1235.5 29.25,-1191.5 220.25,-1191.5 220.25,-1235.5\"/>\n",
       "<polygon fill=\"none\" stroke=\"black\" points=\"29.25,-1191.5 29.25,-1235.5 75.25,-1235.5 75.25,-1191.5 29.25,-1191.5\"/>\n",
       "<text text-anchor=\"start\" x=\"33.88\" y=\"-1216.75\" font-family=\"Linux libertine\" font-size=\"10.00\">Conv2d</text>\n",
       "<text text-anchor=\"start\" x=\"33.88\" y=\"-1204\" font-family=\"Linux libertine\" font-size=\"10.00\">depth:2</text>\n",
       "<polygon fill=\"none\" stroke=\"black\" points=\"75.25,-1213.5 75.25,-1235.5 122.25,-1235.5 122.25,-1213.5 75.25,-1213.5\"/>\n",
       "<text text-anchor=\"start\" x=\"84.88\" y=\"-1221\" font-family=\"Linux libertine\" font-size=\"10.00\">input:</text>\n",
       "<polygon fill=\"none\" stroke=\"black\" points=\"122.25,-1213.5 122.25,-1235.5 220.25,-1235.5 220.25,-1213.5 122.25,-1213.5\"/>\n",
       "<text text-anchor=\"start\" x=\"133\" y=\"-1221\" font-family=\"Linux libertine\" font-size=\"10.00\">(250, 3, 32, 32) </text>\n",
       "<polygon fill=\"none\" stroke=\"black\" points=\"75.25,-1191.5 75.25,-1213.5 122.25,-1213.5 122.25,-1191.5 75.25,-1191.5\"/>\n",
       "<text text-anchor=\"start\" x=\"80\" y=\"-1199\" font-family=\"Linux libertine\" font-size=\"10.00\">output: </text>\n",
       "<polygon fill=\"none\" stroke=\"black\" points=\"122.25,-1191.5 122.25,-1213.5 220.25,-1213.5 220.25,-1191.5 122.25,-1191.5\"/>\n",
       "<text text-anchor=\"start\" x=\"127\" y=\"-1199\" font-family=\"Linux libertine\" font-size=\"10.00\">(250, 256, 27, 27) </text>\n",
       "</g>\n",
       "<!-- 2&#45;&gt;3 -->\n",
       "<g id=\"edge3\" class=\"edge\">\n",
       "<title>2&#45;&gt;3</title>\n",
       "<path fill=\"none\" stroke=\"black\" d=\"M200.88,-1271.6C188.76,-1262.5 174.38,-1251.73 161.41,-1242\"/>\n",
       "<polygon fill=\"black\" stroke=\"black\" points=\"163.8,-1238.66 153.7,-1235.46 159.6,-1244.26 163.8,-1238.66\"/>\n",
       "</g>\n",
       "<!-- 16 -->\n",
       "<g id=\"node17\" class=\"node\">\n",
       "<title>16</title>\n",
       "<polygon fill=\"#c1ffc1\" stroke=\"none\" points=\"429.25,-1235.5 238.25,-1235.5 238.25,-1191.5 429.25,-1191.5 429.25,-1235.5\"/>\n",
       "<polygon fill=\"none\" stroke=\"black\" points=\"238.25,-1191.5 238.25,-1235.5 284.25,-1235.5 284.25,-1191.5 238.25,-1191.5\"/>\n",
       "<text text-anchor=\"start\" x=\"242.88\" y=\"-1216.75\" font-family=\"Linux libertine\" font-size=\"10.00\">Conv2d</text>\n",
       "<text text-anchor=\"start\" x=\"242.88\" y=\"-1204\" font-family=\"Linux libertine\" font-size=\"10.00\">depth:2</text>\n",
       "<polygon fill=\"none\" stroke=\"black\" points=\"284.25,-1213.5 284.25,-1235.5 331.25,-1235.5 331.25,-1213.5 284.25,-1213.5\"/>\n",
       "<text text-anchor=\"start\" x=\"293.88\" y=\"-1221\" font-family=\"Linux libertine\" font-size=\"10.00\">input:</text>\n",
       "<polygon fill=\"none\" stroke=\"black\" points=\"331.25,-1213.5 331.25,-1235.5 429.25,-1235.5 429.25,-1213.5 331.25,-1213.5\"/>\n",
       "<text text-anchor=\"start\" x=\"342\" y=\"-1221\" font-family=\"Linux libertine\" font-size=\"10.00\">(250, 3, 32, 32) </text>\n",
       "<polygon fill=\"none\" stroke=\"black\" points=\"284.25,-1191.5 284.25,-1213.5 331.25,-1213.5 331.25,-1191.5 284.25,-1191.5\"/>\n",
       "<text text-anchor=\"start\" x=\"289\" y=\"-1199\" font-family=\"Linux libertine\" font-size=\"10.00\">output: </text>\n",
       "<polygon fill=\"none\" stroke=\"black\" points=\"331.25,-1191.5 331.25,-1213.5 429.25,-1213.5 429.25,-1191.5 331.25,-1191.5\"/>\n",
       "<text text-anchor=\"start\" x=\"336\" y=\"-1199\" font-family=\"Linux libertine\" font-size=\"10.00\">(250, 256, 27, 27) </text>\n",
       "</g>\n",
       "<!-- 2&#45;&gt;16 -->\n",
       "<g id=\"edge17\" class=\"edge\">\n",
       "<title>2&#45;&gt;16</title>\n",
       "<path fill=\"none\" stroke=\"black\" d=\"M256.89,-1271.6C269.13,-1262.5 283.64,-1251.73 296.74,-1242\"/>\n",
       "<polygon fill=\"black\" stroke=\"black\" points=\"298.59,-1244.23 304.53,-1235.46 294.42,-1238.61 298.59,-1244.23\"/>\n",
       "</g>\n",
       "<!-- 4 -->\n",
       "<g id=\"node5\" class=\"node\">\n",
       "<title>4</title>\n",
       "<polygon fill=\"#c1ffc1\" stroke=\"none\" points=\"220.25,-1155.5 29.25,-1155.5 29.25,-1111.5 220.25,-1111.5 220.25,-1155.5\"/>\n",
       "<polygon fill=\"none\" stroke=\"black\" points=\"29.25,-1111.5 29.25,-1155.5 75.25,-1155.5 75.25,-1111.5 29.25,-1111.5\"/>\n",
       "<text text-anchor=\"start\" x=\"39.12\" y=\"-1136.75\" font-family=\"Linux libertine\" font-size=\"10.00\">GELU</text>\n",
       "<text text-anchor=\"start\" x=\"33.88\" y=\"-1124\" font-family=\"Linux libertine\" font-size=\"10.00\">depth:2</text>\n",
       "<polygon fill=\"none\" stroke=\"black\" points=\"75.25,-1133.5 75.25,-1155.5 122.25,-1155.5 122.25,-1133.5 75.25,-1133.5\"/>\n",
       "<text text-anchor=\"start\" x=\"84.88\" y=\"-1141\" font-family=\"Linux libertine\" font-size=\"10.00\">input:</text>\n",
       "<polygon fill=\"none\" stroke=\"black\" points=\"122.25,-1133.5 122.25,-1155.5 220.25,-1155.5 220.25,-1133.5 122.25,-1133.5\"/>\n",
       "<text text-anchor=\"start\" x=\"127\" y=\"-1141\" font-family=\"Linux libertine\" font-size=\"10.00\">(250, 256, 27, 27) </text>\n",
       "<polygon fill=\"none\" stroke=\"black\" points=\"75.25,-1111.5 75.25,-1133.5 122.25,-1133.5 122.25,-1111.5 75.25,-1111.5\"/>\n",
       "<text text-anchor=\"start\" x=\"80\" y=\"-1119\" font-family=\"Linux libertine\" font-size=\"10.00\">output: </text>\n",
       "<polygon fill=\"none\" stroke=\"black\" points=\"122.25,-1111.5 122.25,-1133.5 220.25,-1133.5 220.25,-1111.5 122.25,-1111.5\"/>\n",
       "<text text-anchor=\"start\" x=\"127\" y=\"-1119\" font-family=\"Linux libertine\" font-size=\"10.00\">(250, 256, 27, 27) </text>\n",
       "</g>\n",
       "<!-- 3&#45;&gt;4 -->\n",
       "<g id=\"edge4\" class=\"edge\">\n",
       "<title>3&#45;&gt;4</title>\n",
       "<path fill=\"none\" stroke=\"black\" d=\"M124.75,-1191.6C124.75,-1183.82 124.75,-1174.8 124.75,-1166.26\"/>\n",
       "<polygon fill=\"black\" stroke=\"black\" points=\"128.25,-1166.46 124.75,-1156.46 121.25,-1166.46 128.25,-1166.46\"/>\n",
       "</g>\n",
       "<!-- 5 -->\n",
       "<g id=\"node6\" class=\"node\">\n",
       "<title>5</title>\n",
       "<polygon fill=\"#c1ffc1\" stroke=\"none\" points=\"220.25,-1075.5 29.25,-1075.5 29.25,-1031.5 220.25,-1031.5 220.25,-1075.5\"/>\n",
       "<polygon fill=\"none\" stroke=\"black\" points=\"29.25,-1031.5 29.25,-1075.5 75.25,-1075.5 75.25,-1031.5 29.25,-1031.5\"/>\n",
       "<text text-anchor=\"start\" x=\"33.88\" y=\"-1056.75\" font-family=\"Linux libertine\" font-size=\"10.00\">Conv2d</text>\n",
       "<text text-anchor=\"start\" x=\"33.88\" y=\"-1044\" font-family=\"Linux libertine\" font-size=\"10.00\">depth:2</text>\n",
       "<polygon fill=\"none\" stroke=\"black\" points=\"75.25,-1053.5 75.25,-1075.5 122.25,-1075.5 122.25,-1053.5 75.25,-1053.5\"/>\n",
       "<text text-anchor=\"start\" x=\"84.88\" y=\"-1061\" font-family=\"Linux libertine\" font-size=\"10.00\">input:</text>\n",
       "<polygon fill=\"none\" stroke=\"black\" points=\"122.25,-1053.5 122.25,-1075.5 220.25,-1075.5 220.25,-1053.5 122.25,-1053.5\"/>\n",
       "<text text-anchor=\"start\" x=\"127\" y=\"-1061\" font-family=\"Linux libertine\" font-size=\"10.00\">(250, 256, 27, 27) </text>\n",
       "<polygon fill=\"none\" stroke=\"black\" points=\"75.25,-1031.5 75.25,-1053.5 122.25,-1053.5 122.25,-1031.5 75.25,-1031.5\"/>\n",
       "<text text-anchor=\"start\" x=\"80\" y=\"-1039\" font-family=\"Linux libertine\" font-size=\"10.00\">output: </text>\n",
       "<polygon fill=\"none\" stroke=\"black\" points=\"122.25,-1031.5 122.25,-1053.5 220.25,-1053.5 220.25,-1031.5 122.25,-1031.5\"/>\n",
       "<text text-anchor=\"start\" x=\"127\" y=\"-1039\" font-family=\"Linux libertine\" font-size=\"10.00\">(250, 256, 22, 22) </text>\n",
       "</g>\n",
       "<!-- 4&#45;&gt;5 -->\n",
       "<g id=\"edge5\" class=\"edge\">\n",
       "<title>4&#45;&gt;5</title>\n",
       "<path fill=\"none\" stroke=\"black\" d=\"M124.75,-1111.6C124.75,-1103.82 124.75,-1094.8 124.75,-1086.26\"/>\n",
       "<polygon fill=\"black\" stroke=\"black\" points=\"128.25,-1086.46 124.75,-1076.46 121.25,-1086.46 128.25,-1086.46\"/>\n",
       "</g>\n",
       "<!-- 6 -->\n",
       "<g id=\"node7\" class=\"node\">\n",
       "<title>6</title>\n",
       "<polygon fill=\"#c1ffc1\" stroke=\"none\" points=\"220.25,-995.5 29.25,-995.5 29.25,-951.5 220.25,-951.5 220.25,-995.5\"/>\n",
       "<polygon fill=\"none\" stroke=\"black\" points=\"29.25,-951.5 29.25,-995.5 75.25,-995.5 75.25,-951.5 29.25,-951.5\"/>\n",
       "<text text-anchor=\"start\" x=\"39.12\" y=\"-976.75\" font-family=\"Linux libertine\" font-size=\"10.00\">GELU</text>\n",
       "<text text-anchor=\"start\" x=\"33.88\" y=\"-964\" font-family=\"Linux libertine\" font-size=\"10.00\">depth:2</text>\n",
       "<polygon fill=\"none\" stroke=\"black\" points=\"75.25,-973.5 75.25,-995.5 122.25,-995.5 122.25,-973.5 75.25,-973.5\"/>\n",
       "<text text-anchor=\"start\" x=\"84.88\" y=\"-981\" font-family=\"Linux libertine\" font-size=\"10.00\">input:</text>\n",
       "<polygon fill=\"none\" stroke=\"black\" points=\"122.25,-973.5 122.25,-995.5 220.25,-995.5 220.25,-973.5 122.25,-973.5\"/>\n",
       "<text text-anchor=\"start\" x=\"127\" y=\"-981\" font-family=\"Linux libertine\" font-size=\"10.00\">(250, 256, 22, 22) </text>\n",
       "<polygon fill=\"none\" stroke=\"black\" points=\"75.25,-951.5 75.25,-973.5 122.25,-973.5 122.25,-951.5 75.25,-951.5\"/>\n",
       "<text text-anchor=\"start\" x=\"80\" y=\"-959\" font-family=\"Linux libertine\" font-size=\"10.00\">output: </text>\n",
       "<polygon fill=\"none\" stroke=\"black\" points=\"122.25,-951.5 122.25,-973.5 220.25,-973.5 220.25,-951.5 122.25,-951.5\"/>\n",
       "<text text-anchor=\"start\" x=\"127\" y=\"-959\" font-family=\"Linux libertine\" font-size=\"10.00\">(250, 256, 22, 22) </text>\n",
       "</g>\n",
       "<!-- 5&#45;&gt;6 -->\n",
       "<g id=\"edge6\" class=\"edge\">\n",
       "<title>5&#45;&gt;6</title>\n",
       "<path fill=\"none\" stroke=\"black\" d=\"M124.75,-1031.6C124.75,-1023.82 124.75,-1014.8 124.75,-1006.26\"/>\n",
       "<polygon fill=\"black\" stroke=\"black\" points=\"128.25,-1006.46 124.75,-996.46 121.25,-1006.46 128.25,-1006.46\"/>\n",
       "</g>\n",
       "<!-- 7 -->\n",
       "<g id=\"node8\" class=\"node\">\n",
       "<title>7</title>\n",
       "<polygon fill=\"#c1ffc1\" stroke=\"none\" points=\"220.25,-915.5 11.25,-915.5 11.25,-871.5 220.25,-871.5 220.25,-915.5\"/>\n",
       "<polygon fill=\"none\" stroke=\"black\" points=\"11.25,-871.5 11.25,-915.5 75.25,-915.5 75.25,-871.5 11.25,-871.5\"/>\n",
       "<text text-anchor=\"start\" x=\"16.25\" y=\"-896.75\" font-family=\"Linux libertine\" font-size=\"10.00\">MaxPool2d</text>\n",
       "<text text-anchor=\"start\" x=\"24.88\" y=\"-884\" font-family=\"Linux libertine\" font-size=\"10.00\">depth:2</text>\n",
       "<polygon fill=\"none\" stroke=\"black\" points=\"75.25,-893.5 75.25,-915.5 122.25,-915.5 122.25,-893.5 75.25,-893.5\"/>\n",
       "<text text-anchor=\"start\" x=\"84.88\" y=\"-901\" font-family=\"Linux libertine\" font-size=\"10.00\">input:</text>\n",
       "<polygon fill=\"none\" stroke=\"black\" points=\"122.25,-893.5 122.25,-915.5 220.25,-915.5 220.25,-893.5 122.25,-893.5\"/>\n",
       "<text text-anchor=\"start\" x=\"127\" y=\"-901\" font-family=\"Linux libertine\" font-size=\"10.00\">(250, 256, 22, 22) </text>\n",
       "<polygon fill=\"none\" stroke=\"black\" points=\"75.25,-871.5 75.25,-893.5 122.25,-893.5 122.25,-871.5 75.25,-871.5\"/>\n",
       "<text text-anchor=\"start\" x=\"80\" y=\"-879\" font-family=\"Linux libertine\" font-size=\"10.00\">output: </text>\n",
       "<polygon fill=\"none\" stroke=\"black\" points=\"122.25,-871.5 122.25,-893.5 220.25,-893.5 220.25,-871.5 122.25,-871.5\"/>\n",
       "<text text-anchor=\"start\" x=\"127\" y=\"-879\" font-family=\"Linux libertine\" font-size=\"10.00\">(250, 256, 11, 11) </text>\n",
       "</g>\n",
       "<!-- 6&#45;&gt;7 -->\n",
       "<g id=\"edge7\" class=\"edge\">\n",
       "<title>6&#45;&gt;7</title>\n",
       "<path fill=\"none\" stroke=\"black\" d=\"M122.34,-951.6C121.44,-943.82 120.4,-934.8 119.41,-926.26\"/>\n",
       "<polygon fill=\"black\" stroke=\"black\" points=\"122.79,-925.99 118.17,-916.46 115.84,-926.8 122.79,-925.99\"/>\n",
       "</g>\n",
       "<!-- 8 -->\n",
       "<g id=\"node9\" class=\"node\">\n",
       "<title>8</title>\n",
       "<polygon fill=\"#c1ffc1\" stroke=\"none\" points=\"211.25,-835.5 20.25,-835.5 20.25,-791.5 211.25,-791.5 211.25,-835.5\"/>\n",
       "<polygon fill=\"none\" stroke=\"black\" points=\"20.25,-791.5 20.25,-835.5 66.25,-835.5 66.25,-791.5 20.25,-791.5\"/>\n",
       "<text text-anchor=\"start\" x=\"24.88\" y=\"-816.75\" font-family=\"Linux libertine\" font-size=\"10.00\">Conv2d</text>\n",
       "<text text-anchor=\"start\" x=\"24.88\" y=\"-804\" font-family=\"Linux libertine\" font-size=\"10.00\">depth:2</text>\n",
       "<polygon fill=\"none\" stroke=\"black\" points=\"66.25,-813.5 66.25,-835.5 113.25,-835.5 113.25,-813.5 66.25,-813.5\"/>\n",
       "<text text-anchor=\"start\" x=\"75.88\" y=\"-821\" font-family=\"Linux libertine\" font-size=\"10.00\">input:</text>\n",
       "<polygon fill=\"none\" stroke=\"black\" points=\"113.25,-813.5 113.25,-835.5 211.25,-835.5 211.25,-813.5 113.25,-813.5\"/>\n",
       "<text text-anchor=\"start\" x=\"118\" y=\"-821\" font-family=\"Linux libertine\" font-size=\"10.00\">(250, 256, 11, 11) </text>\n",
       "<polygon fill=\"none\" stroke=\"black\" points=\"66.25,-791.5 66.25,-813.5 113.25,-813.5 113.25,-791.5 66.25,-791.5\"/>\n",
       "<text text-anchor=\"start\" x=\"71\" y=\"-799\" font-family=\"Linux libertine\" font-size=\"10.00\">output: </text>\n",
       "<polygon fill=\"none\" stroke=\"black\" points=\"113.25,-791.5 113.25,-813.5 211.25,-813.5 211.25,-791.5 113.25,-791.5\"/>\n",
       "<text text-anchor=\"start\" x=\"124\" y=\"-799\" font-family=\"Linux libertine\" font-size=\"10.00\">(250, 256, 8, 8) </text>\n",
       "</g>\n",
       "<!-- 7&#45;&gt;8 -->\n",
       "<g id=\"edge8\" class=\"edge\">\n",
       "<title>7&#45;&gt;8</title>\n",
       "<path fill=\"none\" stroke=\"black\" d=\"M115.75,-871.6C115.75,-863.82 115.75,-854.8 115.75,-846.26\"/>\n",
       "<polygon fill=\"black\" stroke=\"black\" points=\"119.25,-846.46 115.75,-836.46 112.25,-846.46 119.25,-846.46\"/>\n",
       "</g>\n",
       "<!-- 9 -->\n",
       "<g id=\"node10\" class=\"node\">\n",
       "<title>9</title>\n",
       "<polygon fill=\"#c1ffc1\" stroke=\"none\" points=\"205.25,-755.5 26.25,-755.5 26.25,-711.5 205.25,-711.5 205.25,-755.5\"/>\n",
       "<polygon fill=\"none\" stroke=\"black\" points=\"26.25,-711.5 26.25,-755.5 72.25,-755.5 72.25,-711.5 26.25,-711.5\"/>\n",
       "<text text-anchor=\"start\" x=\"36.12\" y=\"-736.75\" font-family=\"Linux libertine\" font-size=\"10.00\">GELU</text>\n",
       "<text text-anchor=\"start\" x=\"30.88\" y=\"-724\" font-family=\"Linux libertine\" font-size=\"10.00\">depth:2</text>\n",
       "<polygon fill=\"none\" stroke=\"black\" points=\"72.25,-733.5 72.25,-755.5 119.25,-755.5 119.25,-733.5 72.25,-733.5\"/>\n",
       "<text text-anchor=\"start\" x=\"81.88\" y=\"-741\" font-family=\"Linux libertine\" font-size=\"10.00\">input:</text>\n",
       "<polygon fill=\"none\" stroke=\"black\" points=\"119.25,-733.5 119.25,-755.5 205.25,-755.5 205.25,-733.5 119.25,-733.5\"/>\n",
       "<text text-anchor=\"start\" x=\"124\" y=\"-741\" font-family=\"Linux libertine\" font-size=\"10.00\">(250, 256, 8, 8) </text>\n",
       "<polygon fill=\"none\" stroke=\"black\" points=\"72.25,-711.5 72.25,-733.5 119.25,-733.5 119.25,-711.5 72.25,-711.5\"/>\n",
       "<text text-anchor=\"start\" x=\"77\" y=\"-719\" font-family=\"Linux libertine\" font-size=\"10.00\">output: </text>\n",
       "<polygon fill=\"none\" stroke=\"black\" points=\"119.25,-711.5 119.25,-733.5 205.25,-733.5 205.25,-711.5 119.25,-711.5\"/>\n",
       "<text text-anchor=\"start\" x=\"124\" y=\"-719\" font-family=\"Linux libertine\" font-size=\"10.00\">(250, 256, 8, 8) </text>\n",
       "</g>\n",
       "<!-- 8&#45;&gt;9 -->\n",
       "<g id=\"edge9\" class=\"edge\">\n",
       "<title>8&#45;&gt;9</title>\n",
       "<path fill=\"none\" stroke=\"black\" d=\"M115.75,-791.6C115.75,-783.82 115.75,-774.8 115.75,-766.26\"/>\n",
       "<polygon fill=\"black\" stroke=\"black\" points=\"119.25,-766.46 115.75,-756.46 112.25,-766.46 119.25,-766.46\"/>\n",
       "</g>\n",
       "<!-- 10 -->\n",
       "<g id=\"node11\" class=\"node\">\n",
       "<title>10</title>\n",
       "<polygon fill=\"#c1ffc1\" stroke=\"none\" points=\"205.25,-675.5 26.25,-675.5 26.25,-631.5 205.25,-631.5 205.25,-675.5\"/>\n",
       "<polygon fill=\"none\" stroke=\"black\" points=\"26.25,-631.5 26.25,-675.5 72.25,-675.5 72.25,-631.5 26.25,-631.5\"/>\n",
       "<text text-anchor=\"start\" x=\"30.88\" y=\"-656.75\" font-family=\"Linux libertine\" font-size=\"10.00\">Conv2d</text>\n",
       "<text text-anchor=\"start\" x=\"30.88\" y=\"-644\" font-family=\"Linux libertine\" font-size=\"10.00\">depth:2</text>\n",
       "<polygon fill=\"none\" stroke=\"black\" points=\"72.25,-653.5 72.25,-675.5 119.25,-675.5 119.25,-653.5 72.25,-653.5\"/>\n",
       "<text text-anchor=\"start\" x=\"81.88\" y=\"-661\" font-family=\"Linux libertine\" font-size=\"10.00\">input:</text>\n",
       "<polygon fill=\"none\" stroke=\"black\" points=\"119.25,-653.5 119.25,-675.5 205.25,-675.5 205.25,-653.5 119.25,-653.5\"/>\n",
       "<text text-anchor=\"start\" x=\"124\" y=\"-661\" font-family=\"Linux libertine\" font-size=\"10.00\">(250, 256, 8, 8) </text>\n",
       "<polygon fill=\"none\" stroke=\"black\" points=\"72.25,-631.5 72.25,-653.5 119.25,-653.5 119.25,-631.5 72.25,-631.5\"/>\n",
       "<text text-anchor=\"start\" x=\"77\" y=\"-639\" font-family=\"Linux libertine\" font-size=\"10.00\">output: </text>\n",
       "<polygon fill=\"none\" stroke=\"black\" points=\"119.25,-631.5 119.25,-653.5 205.25,-653.5 205.25,-631.5 119.25,-631.5\"/>\n",
       "<text text-anchor=\"start\" x=\"124\" y=\"-639\" font-family=\"Linux libertine\" font-size=\"10.00\">(250, 256, 6, 6) </text>\n",
       "</g>\n",
       "<!-- 9&#45;&gt;10 -->\n",
       "<g id=\"edge10\" class=\"edge\">\n",
       "<title>9&#45;&gt;10</title>\n",
       "<path fill=\"none\" stroke=\"black\" d=\"M115.75,-711.6C115.75,-703.82 115.75,-694.8 115.75,-686.26\"/>\n",
       "<polygon fill=\"black\" stroke=\"black\" points=\"119.25,-686.46 115.75,-676.46 112.25,-686.46 119.25,-686.46\"/>\n",
       "</g>\n",
       "<!-- 11 -->\n",
       "<g id=\"node12\" class=\"node\">\n",
       "<title>11</title>\n",
       "<polygon fill=\"#c1ffc1\" stroke=\"none\" points=\"205.25,-595.5 26.25,-595.5 26.25,-551.5 205.25,-551.5 205.25,-595.5\"/>\n",
       "<polygon fill=\"none\" stroke=\"black\" points=\"26.25,-551.5 26.25,-595.5 72.25,-595.5 72.25,-551.5 26.25,-551.5\"/>\n",
       "<text text-anchor=\"start\" x=\"36.12\" y=\"-576.75\" font-family=\"Linux libertine\" font-size=\"10.00\">GELU</text>\n",
       "<text text-anchor=\"start\" x=\"30.88\" y=\"-564\" font-family=\"Linux libertine\" font-size=\"10.00\">depth:2</text>\n",
       "<polygon fill=\"none\" stroke=\"black\" points=\"72.25,-573.5 72.25,-595.5 119.25,-595.5 119.25,-573.5 72.25,-573.5\"/>\n",
       "<text text-anchor=\"start\" x=\"81.88\" y=\"-581\" font-family=\"Linux libertine\" font-size=\"10.00\">input:</text>\n",
       "<polygon fill=\"none\" stroke=\"black\" points=\"119.25,-573.5 119.25,-595.5 205.25,-595.5 205.25,-573.5 119.25,-573.5\"/>\n",
       "<text text-anchor=\"start\" x=\"124\" y=\"-581\" font-family=\"Linux libertine\" font-size=\"10.00\">(250, 256, 6, 6) </text>\n",
       "<polygon fill=\"none\" stroke=\"black\" points=\"72.25,-551.5 72.25,-573.5 119.25,-573.5 119.25,-551.5 72.25,-551.5\"/>\n",
       "<text text-anchor=\"start\" x=\"77\" y=\"-559\" font-family=\"Linux libertine\" font-size=\"10.00\">output: </text>\n",
       "<polygon fill=\"none\" stroke=\"black\" points=\"119.25,-551.5 119.25,-573.5 205.25,-573.5 205.25,-551.5 119.25,-551.5\"/>\n",
       "<text text-anchor=\"start\" x=\"124\" y=\"-559\" font-family=\"Linux libertine\" font-size=\"10.00\">(250, 256, 6, 6) </text>\n",
       "</g>\n",
       "<!-- 10&#45;&gt;11 -->\n",
       "<g id=\"edge11\" class=\"edge\">\n",
       "<title>10&#45;&gt;11</title>\n",
       "<path fill=\"none\" stroke=\"black\" d=\"M115.75,-631.6C115.75,-623.82 115.75,-614.8 115.75,-606.26\"/>\n",
       "<polygon fill=\"black\" stroke=\"black\" points=\"119.25,-606.46 115.75,-596.46 112.25,-606.46 119.25,-606.46\"/>\n",
       "</g>\n",
       "<!-- 12 -->\n",
       "<g id=\"node13\" class=\"node\">\n",
       "<title>12</title>\n",
       "<polygon fill=\"#c1ffc1\" stroke=\"none\" points=\"214.25,-515.5 17.25,-515.5 17.25,-471.5 214.25,-471.5 214.25,-515.5\"/>\n",
       "<polygon fill=\"none\" stroke=\"black\" points=\"17.25,-471.5 17.25,-515.5 81.25,-515.5 81.25,-471.5 17.25,-471.5\"/>\n",
       "<text text-anchor=\"start\" x=\"22.25\" y=\"-496.75\" font-family=\"Linux libertine\" font-size=\"10.00\">MaxPool2d</text>\n",
       "<text text-anchor=\"start\" x=\"30.88\" y=\"-484\" font-family=\"Linux libertine\" font-size=\"10.00\">depth:2</text>\n",
       "<polygon fill=\"none\" stroke=\"black\" points=\"81.25,-493.5 81.25,-515.5 128.25,-515.5 128.25,-493.5 81.25,-493.5\"/>\n",
       "<text text-anchor=\"start\" x=\"90.88\" y=\"-501\" font-family=\"Linux libertine\" font-size=\"10.00\">input:</text>\n",
       "<polygon fill=\"none\" stroke=\"black\" points=\"128.25,-493.5 128.25,-515.5 214.25,-515.5 214.25,-493.5 128.25,-493.5\"/>\n",
       "<text text-anchor=\"start\" x=\"133\" y=\"-501\" font-family=\"Linux libertine\" font-size=\"10.00\">(250, 256, 6, 6) </text>\n",
       "<polygon fill=\"none\" stroke=\"black\" points=\"81.25,-471.5 81.25,-493.5 128.25,-493.5 128.25,-471.5 81.25,-471.5\"/>\n",
       "<text text-anchor=\"start\" x=\"86\" y=\"-479\" font-family=\"Linux libertine\" font-size=\"10.00\">output: </text>\n",
       "<polygon fill=\"none\" stroke=\"black\" points=\"128.25,-471.5 128.25,-493.5 214.25,-493.5 214.25,-471.5 128.25,-471.5\"/>\n",
       "<text text-anchor=\"start\" x=\"133\" y=\"-479\" font-family=\"Linux libertine\" font-size=\"10.00\">(250, 256, 3, 3) </text>\n",
       "</g>\n",
       "<!-- 11&#45;&gt;12 -->\n",
       "<g id=\"edge12\" class=\"edge\">\n",
       "<title>11&#45;&gt;12</title>\n",
       "<path fill=\"none\" stroke=\"black\" d=\"M115.75,-551.6C115.75,-543.82 115.75,-534.8 115.75,-526.26\"/>\n",
       "<polygon fill=\"black\" stroke=\"black\" points=\"119.25,-526.46 115.75,-516.46 112.25,-526.46 119.25,-526.46\"/>\n",
       "</g>\n",
       "<!-- 13 -->\n",
       "<g id=\"node14\" class=\"node\">\n",
       "<title>13</title>\n",
       "<polygon fill=\"#c1ffc1\" stroke=\"none\" points=\"205.25,-435.5 26.25,-435.5 26.25,-391.5 205.25,-391.5 205.25,-435.5\"/>\n",
       "<polygon fill=\"none\" stroke=\"black\" points=\"26.25,-391.5 26.25,-435.5 72.25,-435.5 72.25,-391.5 26.25,-391.5\"/>\n",
       "<text text-anchor=\"start\" x=\"32\" y=\"-416.75\" font-family=\"Linux libertine\" font-size=\"10.00\">Flatten</text>\n",
       "<text text-anchor=\"start\" x=\"30.88\" y=\"-404\" font-family=\"Linux libertine\" font-size=\"10.00\">depth:2</text>\n",
       "<polygon fill=\"none\" stroke=\"black\" points=\"72.25,-413.5 72.25,-435.5 119.25,-435.5 119.25,-413.5 72.25,-413.5\"/>\n",
       "<text text-anchor=\"start\" x=\"81.88\" y=\"-421\" font-family=\"Linux libertine\" font-size=\"10.00\">input:</text>\n",
       "<polygon fill=\"none\" stroke=\"black\" points=\"119.25,-413.5 119.25,-435.5 205.25,-435.5 205.25,-413.5 119.25,-413.5\"/>\n",
       "<text text-anchor=\"start\" x=\"124\" y=\"-421\" font-family=\"Linux libertine\" font-size=\"10.00\">(250, 256, 3, 3) </text>\n",
       "<polygon fill=\"none\" stroke=\"black\" points=\"72.25,-391.5 72.25,-413.5 119.25,-413.5 119.25,-391.5 72.25,-391.5\"/>\n",
       "<text text-anchor=\"start\" x=\"77\" y=\"-399\" font-family=\"Linux libertine\" font-size=\"10.00\">output: </text>\n",
       "<polygon fill=\"none\" stroke=\"black\" points=\"119.25,-391.5 119.25,-413.5 205.25,-413.5 205.25,-391.5 119.25,-391.5\"/>\n",
       "<text text-anchor=\"start\" x=\"133\" y=\"-399\" font-family=\"Linux libertine\" font-size=\"10.00\">(250, 2304) </text>\n",
       "</g>\n",
       "<!-- 12&#45;&gt;13 -->\n",
       "<g id=\"edge13\" class=\"edge\">\n",
       "<title>12&#45;&gt;13</title>\n",
       "<path fill=\"none\" stroke=\"black\" d=\"M115.75,-471.6C115.75,-463.82 115.75,-454.8 115.75,-446.26\"/>\n",
       "<polygon fill=\"black\" stroke=\"black\" points=\"119.25,-446.46 115.75,-436.46 112.25,-446.46 119.25,-446.46\"/>\n",
       "</g>\n",
       "<!-- 14 -->\n",
       "<g id=\"node15\" class=\"node\">\n",
       "<title>14</title>\n",
       "<polygon fill=\"#c1ffc1\" stroke=\"none\" points=\"196.25,-355.5 35.25,-355.5 35.25,-311.5 196.25,-311.5 196.25,-355.5\"/>\n",
       "<polygon fill=\"none\" stroke=\"black\" points=\"35.25,-311.5 35.25,-355.5 81.25,-355.5 81.25,-311.5 35.25,-311.5\"/>\n",
       "<text text-anchor=\"start\" x=\"43.25\" y=\"-336.75\" font-family=\"Linux libertine\" font-size=\"10.00\">Linear</text>\n",
       "<text text-anchor=\"start\" x=\"39.88\" y=\"-324\" font-family=\"Linux libertine\" font-size=\"10.00\">depth:2</text>\n",
       "<polygon fill=\"none\" stroke=\"black\" points=\"81.25,-333.5 81.25,-355.5 128.25,-355.5 128.25,-333.5 81.25,-333.5\"/>\n",
       "<text text-anchor=\"start\" x=\"90.88\" y=\"-341\" font-family=\"Linux libertine\" font-size=\"10.00\">input:</text>\n",
       "<polygon fill=\"none\" stroke=\"black\" points=\"128.25,-333.5 128.25,-355.5 196.25,-355.5 196.25,-333.5 128.25,-333.5\"/>\n",
       "<text text-anchor=\"start\" x=\"133\" y=\"-341\" font-family=\"Linux libertine\" font-size=\"10.00\">(250, 2304) </text>\n",
       "<polygon fill=\"none\" stroke=\"black\" points=\"81.25,-311.5 81.25,-333.5 128.25,-333.5 128.25,-311.5 81.25,-311.5\"/>\n",
       "<text text-anchor=\"start\" x=\"86\" y=\"-319\" font-family=\"Linux libertine\" font-size=\"10.00\">output: </text>\n",
       "<polygon fill=\"none\" stroke=\"black\" points=\"128.25,-311.5 128.25,-333.5 196.25,-333.5 196.25,-311.5 128.25,-311.5\"/>\n",
       "<text text-anchor=\"start\" x=\"136\" y=\"-319\" font-family=\"Linux libertine\" font-size=\"10.00\">(250, 256) </text>\n",
       "</g>\n",
       "<!-- 13&#45;&gt;14 -->\n",
       "<g id=\"edge14\" class=\"edge\">\n",
       "<title>13&#45;&gt;14</title>\n",
       "<path fill=\"none\" stroke=\"black\" d=\"M115.75,-391.6C115.75,-383.82 115.75,-374.8 115.75,-366.26\"/>\n",
       "<polygon fill=\"black\" stroke=\"black\" points=\"119.25,-366.46 115.75,-356.46 112.25,-366.46 119.25,-366.46\"/>\n",
       "</g>\n",
       "<!-- 15 -->\n",
       "<g id=\"node16\" class=\"node\">\n",
       "<title>15</title>\n",
       "<polygon fill=\"#c1ffc1\" stroke=\"none\" points=\"202.25,-275.5 29.25,-275.5 29.25,-231.5 202.25,-231.5 202.25,-275.5\"/>\n",
       "<polygon fill=\"none\" stroke=\"black\" points=\"29.25,-231.5 29.25,-275.5 93.25,-275.5 93.25,-231.5 29.25,-231.5\"/>\n",
       "<text text-anchor=\"start\" x=\"34.25\" y=\"-256.75\" font-family=\"Linux libertine\" font-size=\"10.00\">LayerNorm</text>\n",
       "<text text-anchor=\"start\" x=\"42.88\" y=\"-244\" font-family=\"Linux libertine\" font-size=\"10.00\">depth:2</text>\n",
       "<polygon fill=\"none\" stroke=\"black\" points=\"93.25,-253.5 93.25,-275.5 140.25,-275.5 140.25,-253.5 93.25,-253.5\"/>\n",
       "<text text-anchor=\"start\" x=\"102.88\" y=\"-261\" font-family=\"Linux libertine\" font-size=\"10.00\">input:</text>\n",
       "<polygon fill=\"none\" stroke=\"black\" points=\"140.25,-253.5 140.25,-275.5 202.25,-275.5 202.25,-253.5 140.25,-253.5\"/>\n",
       "<text text-anchor=\"start\" x=\"145\" y=\"-261\" font-family=\"Linux libertine\" font-size=\"10.00\">(250, 256) </text>\n",
       "<polygon fill=\"none\" stroke=\"black\" points=\"93.25,-231.5 93.25,-253.5 140.25,-253.5 140.25,-231.5 93.25,-231.5\"/>\n",
       "<text text-anchor=\"start\" x=\"98\" y=\"-239\" font-family=\"Linux libertine\" font-size=\"10.00\">output: </text>\n",
       "<polygon fill=\"none\" stroke=\"black\" points=\"140.25,-231.5 140.25,-253.5 202.25,-253.5 202.25,-231.5 140.25,-231.5\"/>\n",
       "<text text-anchor=\"start\" x=\"145\" y=\"-239\" font-family=\"Linux libertine\" font-size=\"10.00\">(250, 256) </text>\n",
       "</g>\n",
       "<!-- 14&#45;&gt;15 -->\n",
       "<g id=\"edge15\" class=\"edge\">\n",
       "<title>14&#45;&gt;15</title>\n",
       "<path fill=\"none\" stroke=\"black\" d=\"M115.75,-311.6C115.75,-303.82 115.75,-294.8 115.75,-286.26\"/>\n",
       "<polygon fill=\"black\" stroke=\"black\" points=\"119.25,-286.46 115.75,-276.46 112.25,-286.46 119.25,-286.46\"/>\n",
       "</g>\n",
       "<!-- 30 -->\n",
       "<g id=\"node31\" class=\"node\">\n",
       "<title>30</title>\n",
       "<polygon fill=\"aliceblue\" stroke=\"none\" points=\"323.25,-115.5 110.25,-115.5 110.25,-71.5 323.25,-71.5 323.25,-115.5\"/>\n",
       "<polygon fill=\"none\" stroke=\"black\" points=\"110.25,-71.5 110.25,-115.5 158.25,-115.5 158.25,-71.5 110.25,-71.5\"/>\n",
       "<text text-anchor=\"start\" x=\"115.12\" y=\"-96.75\" font-family=\"Linux libertine\" font-size=\"10.00\">matmul</text>\n",
       "<text text-anchor=\"start\" x=\"115.88\" y=\"-84\" font-family=\"Linux libertine\" font-size=\"10.00\">depth:1</text>\n",
       "<polygon fill=\"none\" stroke=\"black\" points=\"158.25,-93.5 158.25,-115.5 205.25,-115.5 205.25,-93.5 158.25,-93.5\"/>\n",
       "<text text-anchor=\"start\" x=\"167.88\" y=\"-101\" font-family=\"Linux libertine\" font-size=\"10.00\">input:</text>\n",
       "<polygon fill=\"none\" stroke=\"black\" points=\"205.25,-93.5 205.25,-115.5 323.25,-115.5 323.25,-93.5 205.25,-93.5\"/>\n",
       "<text text-anchor=\"start\" x=\"210.25\" y=\"-101\" font-family=\"Linux libertine\" font-size=\"10.00\">(250, 256), (256, 250) </text>\n",
       "<polygon fill=\"none\" stroke=\"black\" points=\"158.25,-71.5 158.25,-93.5 205.25,-93.5 205.25,-71.5 158.25,-71.5\"/>\n",
       "<text text-anchor=\"start\" x=\"163\" y=\"-79\" font-family=\"Linux libertine\" font-size=\"10.00\">output: </text>\n",
       "<polygon fill=\"none\" stroke=\"black\" points=\"205.25,-71.5 205.25,-93.5 323.25,-93.5 323.25,-71.5 205.25,-71.5\"/>\n",
       "<text text-anchor=\"start\" x=\"238\" y=\"-79\" font-family=\"Linux libertine\" font-size=\"10.00\">(250, 250) </text>\n",
       "</g>\n",
       "<!-- 15&#45;&gt;30 -->\n",
       "<g id=\"edge16\" class=\"edge\">\n",
       "<title>15&#45;&gt;30</title>\n",
       "<path fill=\"none\" stroke=\"black\" d=\"M129.16,-231.52C146.77,-203.98 177.77,-155.48 197.78,-124.18\"/>\n",
       "<polygon fill=\"black\" stroke=\"black\" points=\"201.17,-126.38 203.6,-116.07 195.27,-122.61 201.17,-126.38\"/>\n",
       "</g>\n",
       "<!-- 32 -->\n",
       "<g id=\"node33\" class=\"node\">\n",
       "<title>32</title>\n",
       "<polygon fill=\"lightyellow\" stroke=\"none\" points=\"135.5,-191.25 0,-191.25 0,-155.75 135.5,-155.75 135.5,-191.25\"/>\n",
       "<polygon fill=\"none\" stroke=\"black\" points=\"0,-155.75 0,-191.25 76,-191.25 76,-155.75 0,-155.75\"/>\n",
       "<text text-anchor=\"start\" x=\"5\" y=\"-176.75\" font-family=\"Linux libertine\" font-size=\"10.00\">output&#45;tensor</text>\n",
       "<text text-anchor=\"start\" x=\"19.62\" y=\"-164\" font-family=\"Linux libertine\" font-size=\"10.00\">depth:0</text>\n",
       "<polygon fill=\"none\" stroke=\"black\" points=\"76,-155.75 76,-191.25 135.5,-191.25 135.5,-155.75 76,-155.75\"/>\n",
       "<text text-anchor=\"start\" x=\"81\" y=\"-170.38\" font-family=\"Linux libertine\" font-size=\"10.00\">(250, 256)</text>\n",
       "</g>\n",
       "<!-- 15&#45;&gt;32 -->\n",
       "<g id=\"edge33\" class=\"edge\">\n",
       "<title>15&#45;&gt;32</title>\n",
       "<path fill=\"none\" stroke=\"black\" d=\"M102.89,-231.6C96.95,-221.95 89.85,-210.41 83.59,-200.24\"/>\n",
       "<polygon fill=\"black\" stroke=\"black\" points=\"86.13,-198.69 77.91,-192.01 80.17,-202.36 86.13,-198.69\"/>\n",
       "</g>\n",
       "<!-- 17 -->\n",
       "<g id=\"node18\" class=\"node\">\n",
       "<title>17</title>\n",
       "<polygon fill=\"#c1ffc1\" stroke=\"none\" points=\"429.25,-1155.5 238.25,-1155.5 238.25,-1111.5 429.25,-1111.5 429.25,-1155.5\"/>\n",
       "<polygon fill=\"none\" stroke=\"black\" points=\"238.25,-1111.5 238.25,-1155.5 284.25,-1155.5 284.25,-1111.5 238.25,-1111.5\"/>\n",
       "<text text-anchor=\"start\" x=\"248.12\" y=\"-1136.75\" font-family=\"Linux libertine\" font-size=\"10.00\">GELU</text>\n",
       "<text text-anchor=\"start\" x=\"242.88\" y=\"-1124\" font-family=\"Linux libertine\" font-size=\"10.00\">depth:2</text>\n",
       "<polygon fill=\"none\" stroke=\"black\" points=\"284.25,-1133.5 284.25,-1155.5 331.25,-1155.5 331.25,-1133.5 284.25,-1133.5\"/>\n",
       "<text text-anchor=\"start\" x=\"293.88\" y=\"-1141\" font-family=\"Linux libertine\" font-size=\"10.00\">input:</text>\n",
       "<polygon fill=\"none\" stroke=\"black\" points=\"331.25,-1133.5 331.25,-1155.5 429.25,-1155.5 429.25,-1133.5 331.25,-1133.5\"/>\n",
       "<text text-anchor=\"start\" x=\"336\" y=\"-1141\" font-family=\"Linux libertine\" font-size=\"10.00\">(250, 256, 27, 27) </text>\n",
       "<polygon fill=\"none\" stroke=\"black\" points=\"284.25,-1111.5 284.25,-1133.5 331.25,-1133.5 331.25,-1111.5 284.25,-1111.5\"/>\n",
       "<text text-anchor=\"start\" x=\"289\" y=\"-1119\" font-family=\"Linux libertine\" font-size=\"10.00\">output: </text>\n",
       "<polygon fill=\"none\" stroke=\"black\" points=\"331.25,-1111.5 331.25,-1133.5 429.25,-1133.5 429.25,-1111.5 331.25,-1111.5\"/>\n",
       "<text text-anchor=\"start\" x=\"336\" y=\"-1119\" font-family=\"Linux libertine\" font-size=\"10.00\">(250, 256, 27, 27) </text>\n",
       "</g>\n",
       "<!-- 16&#45;&gt;17 -->\n",
       "<g id=\"edge18\" class=\"edge\">\n",
       "<title>16&#45;&gt;17</title>\n",
       "<path fill=\"none\" stroke=\"black\" d=\"M333.75,-1191.6C333.75,-1183.82 333.75,-1174.8 333.75,-1166.26\"/>\n",
       "<polygon fill=\"black\" stroke=\"black\" points=\"337.25,-1166.46 333.75,-1156.46 330.25,-1166.46 337.25,-1166.46\"/>\n",
       "</g>\n",
       "<!-- 18 -->\n",
       "<g id=\"node19\" class=\"node\">\n",
       "<title>18</title>\n",
       "<polygon fill=\"#c1ffc1\" stroke=\"none\" points=\"429.25,-1075.5 238.25,-1075.5 238.25,-1031.5 429.25,-1031.5 429.25,-1075.5\"/>\n",
       "<polygon fill=\"none\" stroke=\"black\" points=\"238.25,-1031.5 238.25,-1075.5 284.25,-1075.5 284.25,-1031.5 238.25,-1031.5\"/>\n",
       "<text text-anchor=\"start\" x=\"242.88\" y=\"-1056.75\" font-family=\"Linux libertine\" font-size=\"10.00\">Conv2d</text>\n",
       "<text text-anchor=\"start\" x=\"242.88\" y=\"-1044\" font-family=\"Linux libertine\" font-size=\"10.00\">depth:2</text>\n",
       "<polygon fill=\"none\" stroke=\"black\" points=\"284.25,-1053.5 284.25,-1075.5 331.25,-1075.5 331.25,-1053.5 284.25,-1053.5\"/>\n",
       "<text text-anchor=\"start\" x=\"293.88\" y=\"-1061\" font-family=\"Linux libertine\" font-size=\"10.00\">input:</text>\n",
       "<polygon fill=\"none\" stroke=\"black\" points=\"331.25,-1053.5 331.25,-1075.5 429.25,-1075.5 429.25,-1053.5 331.25,-1053.5\"/>\n",
       "<text text-anchor=\"start\" x=\"336\" y=\"-1061\" font-family=\"Linux libertine\" font-size=\"10.00\">(250, 256, 27, 27) </text>\n",
       "<polygon fill=\"none\" stroke=\"black\" points=\"284.25,-1031.5 284.25,-1053.5 331.25,-1053.5 331.25,-1031.5 284.25,-1031.5\"/>\n",
       "<text text-anchor=\"start\" x=\"289\" y=\"-1039\" font-family=\"Linux libertine\" font-size=\"10.00\">output: </text>\n",
       "<polygon fill=\"none\" stroke=\"black\" points=\"331.25,-1031.5 331.25,-1053.5 429.25,-1053.5 429.25,-1031.5 331.25,-1031.5\"/>\n",
       "<text text-anchor=\"start\" x=\"336\" y=\"-1039\" font-family=\"Linux libertine\" font-size=\"10.00\">(250, 256, 22, 22) </text>\n",
       "</g>\n",
       "<!-- 17&#45;&gt;18 -->\n",
       "<g id=\"edge19\" class=\"edge\">\n",
       "<title>17&#45;&gt;18</title>\n",
       "<path fill=\"none\" stroke=\"black\" d=\"M333.75,-1111.6C333.75,-1103.82 333.75,-1094.8 333.75,-1086.26\"/>\n",
       "<polygon fill=\"black\" stroke=\"black\" points=\"337.25,-1086.46 333.75,-1076.46 330.25,-1086.46 337.25,-1086.46\"/>\n",
       "</g>\n",
       "<!-- 19 -->\n",
       "<g id=\"node20\" class=\"node\">\n",
       "<title>19</title>\n",
       "<polygon fill=\"#c1ffc1\" stroke=\"none\" points=\"433.25,-995.5 242.25,-995.5 242.25,-951.5 433.25,-951.5 433.25,-995.5\"/>\n",
       "<polygon fill=\"none\" stroke=\"black\" points=\"242.25,-951.5 242.25,-995.5 288.25,-995.5 288.25,-951.5 242.25,-951.5\"/>\n",
       "<text text-anchor=\"start\" x=\"252.12\" y=\"-976.75\" font-family=\"Linux libertine\" font-size=\"10.00\">GELU</text>\n",
       "<text text-anchor=\"start\" x=\"246.88\" y=\"-964\" font-family=\"Linux libertine\" font-size=\"10.00\">depth:2</text>\n",
       "<polygon fill=\"none\" stroke=\"black\" points=\"288.25,-973.5 288.25,-995.5 335.25,-995.5 335.25,-973.5 288.25,-973.5\"/>\n",
       "<text text-anchor=\"start\" x=\"297.88\" y=\"-981\" font-family=\"Linux libertine\" font-size=\"10.00\">input:</text>\n",
       "<polygon fill=\"none\" stroke=\"black\" points=\"335.25,-973.5 335.25,-995.5 433.25,-995.5 433.25,-973.5 335.25,-973.5\"/>\n",
       "<text text-anchor=\"start\" x=\"340\" y=\"-981\" font-family=\"Linux libertine\" font-size=\"10.00\">(250, 256, 22, 22) </text>\n",
       "<polygon fill=\"none\" stroke=\"black\" points=\"288.25,-951.5 288.25,-973.5 335.25,-973.5 335.25,-951.5 288.25,-951.5\"/>\n",
       "<text text-anchor=\"start\" x=\"293\" y=\"-959\" font-family=\"Linux libertine\" font-size=\"10.00\">output: </text>\n",
       "<polygon fill=\"none\" stroke=\"black\" points=\"335.25,-951.5 335.25,-973.5 433.25,-973.5 433.25,-951.5 335.25,-951.5\"/>\n",
       "<text text-anchor=\"start\" x=\"340\" y=\"-959\" font-family=\"Linux libertine\" font-size=\"10.00\">(250, 256, 22, 22) </text>\n",
       "</g>\n",
       "<!-- 18&#45;&gt;19 -->\n",
       "<g id=\"edge20\" class=\"edge\">\n",
       "<title>18&#45;&gt;19</title>\n",
       "<path fill=\"none\" stroke=\"black\" d=\"M334.82,-1031.6C335.22,-1023.82 335.68,-1014.8 336.12,-1006.26\"/>\n",
       "<polygon fill=\"black\" stroke=\"black\" points=\"339.66,-1006.63 336.68,-996.46 332.67,-1006.27 339.66,-1006.63\"/>\n",
       "</g>\n",
       "<!-- 20 -->\n",
       "<g id=\"node21\" class=\"node\">\n",
       "<title>20</title>\n",
       "<polygon fill=\"#c1ffc1\" stroke=\"none\" points=\"447.25,-915.5 238.25,-915.5 238.25,-871.5 447.25,-871.5 447.25,-915.5\"/>\n",
       "<polygon fill=\"none\" stroke=\"black\" points=\"238.25,-871.5 238.25,-915.5 302.25,-915.5 302.25,-871.5 238.25,-871.5\"/>\n",
       "<text text-anchor=\"start\" x=\"243.25\" y=\"-896.75\" font-family=\"Linux libertine\" font-size=\"10.00\">MaxPool2d</text>\n",
       "<text text-anchor=\"start\" x=\"251.88\" y=\"-884\" font-family=\"Linux libertine\" font-size=\"10.00\">depth:2</text>\n",
       "<polygon fill=\"none\" stroke=\"black\" points=\"302.25,-893.5 302.25,-915.5 349.25,-915.5 349.25,-893.5 302.25,-893.5\"/>\n",
       "<text text-anchor=\"start\" x=\"311.88\" y=\"-901\" font-family=\"Linux libertine\" font-size=\"10.00\">input:</text>\n",
       "<polygon fill=\"none\" stroke=\"black\" points=\"349.25,-893.5 349.25,-915.5 447.25,-915.5 447.25,-893.5 349.25,-893.5\"/>\n",
       "<text text-anchor=\"start\" x=\"354\" y=\"-901\" font-family=\"Linux libertine\" font-size=\"10.00\">(250, 256, 22, 22) </text>\n",
       "<polygon fill=\"none\" stroke=\"black\" points=\"302.25,-871.5 302.25,-893.5 349.25,-893.5 349.25,-871.5 302.25,-871.5\"/>\n",
       "<text text-anchor=\"start\" x=\"307\" y=\"-879\" font-family=\"Linux libertine\" font-size=\"10.00\">output: </text>\n",
       "<polygon fill=\"none\" stroke=\"black\" points=\"349.25,-871.5 349.25,-893.5 447.25,-893.5 447.25,-871.5 349.25,-871.5\"/>\n",
       "<text text-anchor=\"start\" x=\"354\" y=\"-879\" font-family=\"Linux libertine\" font-size=\"10.00\">(250, 256, 11, 11) </text>\n",
       "</g>\n",
       "<!-- 19&#45;&gt;20 -->\n",
       "<g id=\"edge21\" class=\"edge\">\n",
       "<title>19&#45;&gt;20</title>\n",
       "<path fill=\"none\" stroke=\"black\" d=\"M339.09,-951.6C339.59,-943.82 340.17,-934.8 340.71,-926.26\"/>\n",
       "<polygon fill=\"black\" stroke=\"black\" points=\"344.26,-926.66 341.41,-916.46 337.27,-926.22 344.26,-926.66\"/>\n",
       "</g>\n",
       "<!-- 21 -->\n",
       "<g id=\"node22\" class=\"node\">\n",
       "<title>21</title>\n",
       "<polygon fill=\"#c1ffc1\" stroke=\"none\" points=\"438.25,-835.5 247.25,-835.5 247.25,-791.5 438.25,-791.5 438.25,-835.5\"/>\n",
       "<polygon fill=\"none\" stroke=\"black\" points=\"247.25,-791.5 247.25,-835.5 293.25,-835.5 293.25,-791.5 247.25,-791.5\"/>\n",
       "<text text-anchor=\"start\" x=\"251.88\" y=\"-816.75\" font-family=\"Linux libertine\" font-size=\"10.00\">Conv2d</text>\n",
       "<text text-anchor=\"start\" x=\"251.88\" y=\"-804\" font-family=\"Linux libertine\" font-size=\"10.00\">depth:2</text>\n",
       "<polygon fill=\"none\" stroke=\"black\" points=\"293.25,-813.5 293.25,-835.5 340.25,-835.5 340.25,-813.5 293.25,-813.5\"/>\n",
       "<text text-anchor=\"start\" x=\"302.88\" y=\"-821\" font-family=\"Linux libertine\" font-size=\"10.00\">input:</text>\n",
       "<polygon fill=\"none\" stroke=\"black\" points=\"340.25,-813.5 340.25,-835.5 438.25,-835.5 438.25,-813.5 340.25,-813.5\"/>\n",
       "<text text-anchor=\"start\" x=\"345\" y=\"-821\" font-family=\"Linux libertine\" font-size=\"10.00\">(250, 256, 11, 11) </text>\n",
       "<polygon fill=\"none\" stroke=\"black\" points=\"293.25,-791.5 293.25,-813.5 340.25,-813.5 340.25,-791.5 293.25,-791.5\"/>\n",
       "<text text-anchor=\"start\" x=\"298\" y=\"-799\" font-family=\"Linux libertine\" font-size=\"10.00\">output: </text>\n",
       "<polygon fill=\"none\" stroke=\"black\" points=\"340.25,-791.5 340.25,-813.5 438.25,-813.5 438.25,-791.5 340.25,-791.5\"/>\n",
       "<text text-anchor=\"start\" x=\"351\" y=\"-799\" font-family=\"Linux libertine\" font-size=\"10.00\">(250, 256, 8, 8) </text>\n",
       "</g>\n",
       "<!-- 20&#45;&gt;21 -->\n",
       "<g id=\"edge22\" class=\"edge\">\n",
       "<title>20&#45;&gt;21</title>\n",
       "<path fill=\"none\" stroke=\"black\" d=\"M342.75,-871.6C342.75,-863.82 342.75,-854.8 342.75,-846.26\"/>\n",
       "<polygon fill=\"black\" stroke=\"black\" points=\"346.25,-846.46 342.75,-836.46 339.25,-846.46 346.25,-846.46\"/>\n",
       "</g>\n",
       "<!-- 22 -->\n",
       "<g id=\"node23\" class=\"node\">\n",
       "<title>22</title>\n",
       "<polygon fill=\"#c1ffc1\" stroke=\"none\" points=\"432.25,-755.5 253.25,-755.5 253.25,-711.5 432.25,-711.5 432.25,-755.5\"/>\n",
       "<polygon fill=\"none\" stroke=\"black\" points=\"253.25,-711.5 253.25,-755.5 299.25,-755.5 299.25,-711.5 253.25,-711.5\"/>\n",
       "<text text-anchor=\"start\" x=\"263.12\" y=\"-736.75\" font-family=\"Linux libertine\" font-size=\"10.00\">GELU</text>\n",
       "<text text-anchor=\"start\" x=\"257.88\" y=\"-724\" font-family=\"Linux libertine\" font-size=\"10.00\">depth:2</text>\n",
       "<polygon fill=\"none\" stroke=\"black\" points=\"299.25,-733.5 299.25,-755.5 346.25,-755.5 346.25,-733.5 299.25,-733.5\"/>\n",
       "<text text-anchor=\"start\" x=\"308.88\" y=\"-741\" font-family=\"Linux libertine\" font-size=\"10.00\">input:</text>\n",
       "<polygon fill=\"none\" stroke=\"black\" points=\"346.25,-733.5 346.25,-755.5 432.25,-755.5 432.25,-733.5 346.25,-733.5\"/>\n",
       "<text text-anchor=\"start\" x=\"351\" y=\"-741\" font-family=\"Linux libertine\" font-size=\"10.00\">(250, 256, 8, 8) </text>\n",
       "<polygon fill=\"none\" stroke=\"black\" points=\"299.25,-711.5 299.25,-733.5 346.25,-733.5 346.25,-711.5 299.25,-711.5\"/>\n",
       "<text text-anchor=\"start\" x=\"304\" y=\"-719\" font-family=\"Linux libertine\" font-size=\"10.00\">output: </text>\n",
       "<polygon fill=\"none\" stroke=\"black\" points=\"346.25,-711.5 346.25,-733.5 432.25,-733.5 432.25,-711.5 346.25,-711.5\"/>\n",
       "<text text-anchor=\"start\" x=\"351\" y=\"-719\" font-family=\"Linux libertine\" font-size=\"10.00\">(250, 256, 8, 8) </text>\n",
       "</g>\n",
       "<!-- 21&#45;&gt;22 -->\n",
       "<g id=\"edge23\" class=\"edge\">\n",
       "<title>21&#45;&gt;22</title>\n",
       "<path fill=\"none\" stroke=\"black\" d=\"M342.75,-791.6C342.75,-783.82 342.75,-774.8 342.75,-766.26\"/>\n",
       "<polygon fill=\"black\" stroke=\"black\" points=\"346.25,-766.46 342.75,-756.46 339.25,-766.46 346.25,-766.46\"/>\n",
       "</g>\n",
       "<!-- 23 -->\n",
       "<g id=\"node24\" class=\"node\">\n",
       "<title>23</title>\n",
       "<polygon fill=\"#c1ffc1\" stroke=\"none\" points=\"432.25,-675.5 253.25,-675.5 253.25,-631.5 432.25,-631.5 432.25,-675.5\"/>\n",
       "<polygon fill=\"none\" stroke=\"black\" points=\"253.25,-631.5 253.25,-675.5 299.25,-675.5 299.25,-631.5 253.25,-631.5\"/>\n",
       "<text text-anchor=\"start\" x=\"257.88\" y=\"-656.75\" font-family=\"Linux libertine\" font-size=\"10.00\">Conv2d</text>\n",
       "<text text-anchor=\"start\" x=\"257.88\" y=\"-644\" font-family=\"Linux libertine\" font-size=\"10.00\">depth:2</text>\n",
       "<polygon fill=\"none\" stroke=\"black\" points=\"299.25,-653.5 299.25,-675.5 346.25,-675.5 346.25,-653.5 299.25,-653.5\"/>\n",
       "<text text-anchor=\"start\" x=\"308.88\" y=\"-661\" font-family=\"Linux libertine\" font-size=\"10.00\">input:</text>\n",
       "<polygon fill=\"none\" stroke=\"black\" points=\"346.25,-653.5 346.25,-675.5 432.25,-675.5 432.25,-653.5 346.25,-653.5\"/>\n",
       "<text text-anchor=\"start\" x=\"351\" y=\"-661\" font-family=\"Linux libertine\" font-size=\"10.00\">(250, 256, 8, 8) </text>\n",
       "<polygon fill=\"none\" stroke=\"black\" points=\"299.25,-631.5 299.25,-653.5 346.25,-653.5 346.25,-631.5 299.25,-631.5\"/>\n",
       "<text text-anchor=\"start\" x=\"304\" y=\"-639\" font-family=\"Linux libertine\" font-size=\"10.00\">output: </text>\n",
       "<polygon fill=\"none\" stroke=\"black\" points=\"346.25,-631.5 346.25,-653.5 432.25,-653.5 432.25,-631.5 346.25,-631.5\"/>\n",
       "<text text-anchor=\"start\" x=\"351\" y=\"-639\" font-family=\"Linux libertine\" font-size=\"10.00\">(250, 256, 6, 6) </text>\n",
       "</g>\n",
       "<!-- 22&#45;&gt;23 -->\n",
       "<g id=\"edge24\" class=\"edge\">\n",
       "<title>22&#45;&gt;23</title>\n",
       "<path fill=\"none\" stroke=\"black\" d=\"M342.75,-711.6C342.75,-703.82 342.75,-694.8 342.75,-686.26\"/>\n",
       "<polygon fill=\"black\" stroke=\"black\" points=\"346.25,-686.46 342.75,-676.46 339.25,-686.46 346.25,-686.46\"/>\n",
       "</g>\n",
       "<!-- 24 -->\n",
       "<g id=\"node25\" class=\"node\">\n",
       "<title>24</title>\n",
       "<polygon fill=\"#c1ffc1\" stroke=\"none\" points=\"432.25,-595.5 253.25,-595.5 253.25,-551.5 432.25,-551.5 432.25,-595.5\"/>\n",
       "<polygon fill=\"none\" stroke=\"black\" points=\"253.25,-551.5 253.25,-595.5 299.25,-595.5 299.25,-551.5 253.25,-551.5\"/>\n",
       "<text text-anchor=\"start\" x=\"263.12\" y=\"-576.75\" font-family=\"Linux libertine\" font-size=\"10.00\">GELU</text>\n",
       "<text text-anchor=\"start\" x=\"257.88\" y=\"-564\" font-family=\"Linux libertine\" font-size=\"10.00\">depth:2</text>\n",
       "<polygon fill=\"none\" stroke=\"black\" points=\"299.25,-573.5 299.25,-595.5 346.25,-595.5 346.25,-573.5 299.25,-573.5\"/>\n",
       "<text text-anchor=\"start\" x=\"308.88\" y=\"-581\" font-family=\"Linux libertine\" font-size=\"10.00\">input:</text>\n",
       "<polygon fill=\"none\" stroke=\"black\" points=\"346.25,-573.5 346.25,-595.5 432.25,-595.5 432.25,-573.5 346.25,-573.5\"/>\n",
       "<text text-anchor=\"start\" x=\"351\" y=\"-581\" font-family=\"Linux libertine\" font-size=\"10.00\">(250, 256, 6, 6) </text>\n",
       "<polygon fill=\"none\" stroke=\"black\" points=\"299.25,-551.5 299.25,-573.5 346.25,-573.5 346.25,-551.5 299.25,-551.5\"/>\n",
       "<text text-anchor=\"start\" x=\"304\" y=\"-559\" font-family=\"Linux libertine\" font-size=\"10.00\">output: </text>\n",
       "<polygon fill=\"none\" stroke=\"black\" points=\"346.25,-551.5 346.25,-573.5 432.25,-573.5 432.25,-551.5 346.25,-551.5\"/>\n",
       "<text text-anchor=\"start\" x=\"351\" y=\"-559\" font-family=\"Linux libertine\" font-size=\"10.00\">(250, 256, 6, 6) </text>\n",
       "</g>\n",
       "<!-- 23&#45;&gt;24 -->\n",
       "<g id=\"edge25\" class=\"edge\">\n",
       "<title>23&#45;&gt;24</title>\n",
       "<path fill=\"none\" stroke=\"black\" d=\"M342.75,-631.6C342.75,-623.82 342.75,-614.8 342.75,-606.26\"/>\n",
       "<polygon fill=\"black\" stroke=\"black\" points=\"346.25,-606.46 342.75,-596.46 339.25,-606.46 346.25,-606.46\"/>\n",
       "</g>\n",
       "<!-- 25 -->\n",
       "<g id=\"node26\" class=\"node\">\n",
       "<title>25</title>\n",
       "<polygon fill=\"#c1ffc1\" stroke=\"none\" points=\"441.25,-515.5 244.25,-515.5 244.25,-471.5 441.25,-471.5 441.25,-515.5\"/>\n",
       "<polygon fill=\"none\" stroke=\"black\" points=\"244.25,-471.5 244.25,-515.5 308.25,-515.5 308.25,-471.5 244.25,-471.5\"/>\n",
       "<text text-anchor=\"start\" x=\"249.25\" y=\"-496.75\" font-family=\"Linux libertine\" font-size=\"10.00\">MaxPool2d</text>\n",
       "<text text-anchor=\"start\" x=\"257.88\" y=\"-484\" font-family=\"Linux libertine\" font-size=\"10.00\">depth:2</text>\n",
       "<polygon fill=\"none\" stroke=\"black\" points=\"308.25,-493.5 308.25,-515.5 355.25,-515.5 355.25,-493.5 308.25,-493.5\"/>\n",
       "<text text-anchor=\"start\" x=\"317.88\" y=\"-501\" font-family=\"Linux libertine\" font-size=\"10.00\">input:</text>\n",
       "<polygon fill=\"none\" stroke=\"black\" points=\"355.25,-493.5 355.25,-515.5 441.25,-515.5 441.25,-493.5 355.25,-493.5\"/>\n",
       "<text text-anchor=\"start\" x=\"360\" y=\"-501\" font-family=\"Linux libertine\" font-size=\"10.00\">(250, 256, 6, 6) </text>\n",
       "<polygon fill=\"none\" stroke=\"black\" points=\"308.25,-471.5 308.25,-493.5 355.25,-493.5 355.25,-471.5 308.25,-471.5\"/>\n",
       "<text text-anchor=\"start\" x=\"313\" y=\"-479\" font-family=\"Linux libertine\" font-size=\"10.00\">output: </text>\n",
       "<polygon fill=\"none\" stroke=\"black\" points=\"355.25,-471.5 355.25,-493.5 441.25,-493.5 441.25,-471.5 355.25,-471.5\"/>\n",
       "<text text-anchor=\"start\" x=\"360\" y=\"-479\" font-family=\"Linux libertine\" font-size=\"10.00\">(250, 256, 3, 3) </text>\n",
       "</g>\n",
       "<!-- 24&#45;&gt;25 -->\n",
       "<g id=\"edge26\" class=\"edge\">\n",
       "<title>24&#45;&gt;25</title>\n",
       "<path fill=\"none\" stroke=\"black\" d=\"M342.75,-551.6C342.75,-543.82 342.75,-534.8 342.75,-526.26\"/>\n",
       "<polygon fill=\"black\" stroke=\"black\" points=\"346.25,-526.46 342.75,-516.46 339.25,-526.46 346.25,-526.46\"/>\n",
       "</g>\n",
       "<!-- 26 -->\n",
       "<g id=\"node27\" class=\"node\">\n",
       "<title>26</title>\n",
       "<polygon fill=\"#c1ffc1\" stroke=\"none\" points=\"432.25,-435.5 253.25,-435.5 253.25,-391.5 432.25,-391.5 432.25,-435.5\"/>\n",
       "<polygon fill=\"none\" stroke=\"black\" points=\"253.25,-391.5 253.25,-435.5 299.25,-435.5 299.25,-391.5 253.25,-391.5\"/>\n",
       "<text text-anchor=\"start\" x=\"259\" y=\"-416.75\" font-family=\"Linux libertine\" font-size=\"10.00\">Flatten</text>\n",
       "<text text-anchor=\"start\" x=\"257.88\" y=\"-404\" font-family=\"Linux libertine\" font-size=\"10.00\">depth:2</text>\n",
       "<polygon fill=\"none\" stroke=\"black\" points=\"299.25,-413.5 299.25,-435.5 346.25,-435.5 346.25,-413.5 299.25,-413.5\"/>\n",
       "<text text-anchor=\"start\" x=\"308.88\" y=\"-421\" font-family=\"Linux libertine\" font-size=\"10.00\">input:</text>\n",
       "<polygon fill=\"none\" stroke=\"black\" points=\"346.25,-413.5 346.25,-435.5 432.25,-435.5 432.25,-413.5 346.25,-413.5\"/>\n",
       "<text text-anchor=\"start\" x=\"351\" y=\"-421\" font-family=\"Linux libertine\" font-size=\"10.00\">(250, 256, 3, 3) </text>\n",
       "<polygon fill=\"none\" stroke=\"black\" points=\"299.25,-391.5 299.25,-413.5 346.25,-413.5 346.25,-391.5 299.25,-391.5\"/>\n",
       "<text text-anchor=\"start\" x=\"304\" y=\"-399\" font-family=\"Linux libertine\" font-size=\"10.00\">output: </text>\n",
       "<polygon fill=\"none\" stroke=\"black\" points=\"346.25,-391.5 346.25,-413.5 432.25,-413.5 432.25,-391.5 346.25,-391.5\"/>\n",
       "<text text-anchor=\"start\" x=\"360\" y=\"-399\" font-family=\"Linux libertine\" font-size=\"10.00\">(250, 2304) </text>\n",
       "</g>\n",
       "<!-- 25&#45;&gt;26 -->\n",
       "<g id=\"edge27\" class=\"edge\">\n",
       "<title>25&#45;&gt;26</title>\n",
       "<path fill=\"none\" stroke=\"black\" d=\"M342.75,-471.6C342.75,-463.82 342.75,-454.8 342.75,-446.26\"/>\n",
       "<polygon fill=\"black\" stroke=\"black\" points=\"346.25,-446.46 342.75,-436.46 339.25,-446.46 346.25,-446.46\"/>\n",
       "</g>\n",
       "<!-- 27 -->\n",
       "<g id=\"node28\" class=\"node\">\n",
       "<title>27</title>\n",
       "<polygon fill=\"#c1ffc1\" stroke=\"none\" points=\"423.25,-355.5 262.25,-355.5 262.25,-311.5 423.25,-311.5 423.25,-355.5\"/>\n",
       "<polygon fill=\"none\" stroke=\"black\" points=\"262.25,-311.5 262.25,-355.5 308.25,-355.5 308.25,-311.5 262.25,-311.5\"/>\n",
       "<text text-anchor=\"start\" x=\"270.25\" y=\"-336.75\" font-family=\"Linux libertine\" font-size=\"10.00\">Linear</text>\n",
       "<text text-anchor=\"start\" x=\"266.88\" y=\"-324\" font-family=\"Linux libertine\" font-size=\"10.00\">depth:2</text>\n",
       "<polygon fill=\"none\" stroke=\"black\" points=\"308.25,-333.5 308.25,-355.5 355.25,-355.5 355.25,-333.5 308.25,-333.5\"/>\n",
       "<text text-anchor=\"start\" x=\"317.88\" y=\"-341\" font-family=\"Linux libertine\" font-size=\"10.00\">input:</text>\n",
       "<polygon fill=\"none\" stroke=\"black\" points=\"355.25,-333.5 355.25,-355.5 423.25,-355.5 423.25,-333.5 355.25,-333.5\"/>\n",
       "<text text-anchor=\"start\" x=\"360\" y=\"-341\" font-family=\"Linux libertine\" font-size=\"10.00\">(250, 2304) </text>\n",
       "<polygon fill=\"none\" stroke=\"black\" points=\"308.25,-311.5 308.25,-333.5 355.25,-333.5 355.25,-311.5 308.25,-311.5\"/>\n",
       "<text text-anchor=\"start\" x=\"313\" y=\"-319\" font-family=\"Linux libertine\" font-size=\"10.00\">output: </text>\n",
       "<polygon fill=\"none\" stroke=\"black\" points=\"355.25,-311.5 355.25,-333.5 423.25,-333.5 423.25,-311.5 355.25,-311.5\"/>\n",
       "<text text-anchor=\"start\" x=\"363\" y=\"-319\" font-family=\"Linux libertine\" font-size=\"10.00\">(250, 256) </text>\n",
       "</g>\n",
       "<!-- 26&#45;&gt;27 -->\n",
       "<g id=\"edge28\" class=\"edge\">\n",
       "<title>26&#45;&gt;27</title>\n",
       "<path fill=\"none\" stroke=\"black\" d=\"M342.75,-391.6C342.75,-383.82 342.75,-374.8 342.75,-366.26\"/>\n",
       "<polygon fill=\"black\" stroke=\"black\" points=\"346.25,-366.46 342.75,-356.46 339.25,-366.46 346.25,-366.46\"/>\n",
       "</g>\n",
       "<!-- 28 -->\n",
       "<g id=\"node29\" class=\"node\">\n",
       "<title>28</title>\n",
       "<polygon fill=\"#c1ffc1\" stroke=\"none\" points=\"429.25,-275.5 256.25,-275.5 256.25,-231.5 429.25,-231.5 429.25,-275.5\"/>\n",
       "<polygon fill=\"none\" stroke=\"black\" points=\"256.25,-231.5 256.25,-275.5 320.25,-275.5 320.25,-231.5 256.25,-231.5\"/>\n",
       "<text text-anchor=\"start\" x=\"261.25\" y=\"-256.75\" font-family=\"Linux libertine\" font-size=\"10.00\">LayerNorm</text>\n",
       "<text text-anchor=\"start\" x=\"269.88\" y=\"-244\" font-family=\"Linux libertine\" font-size=\"10.00\">depth:2</text>\n",
       "<polygon fill=\"none\" stroke=\"black\" points=\"320.25,-253.5 320.25,-275.5 367.25,-275.5 367.25,-253.5 320.25,-253.5\"/>\n",
       "<text text-anchor=\"start\" x=\"329.88\" y=\"-261\" font-family=\"Linux libertine\" font-size=\"10.00\">input:</text>\n",
       "<polygon fill=\"none\" stroke=\"black\" points=\"367.25,-253.5 367.25,-275.5 429.25,-275.5 429.25,-253.5 367.25,-253.5\"/>\n",
       "<text text-anchor=\"start\" x=\"372\" y=\"-261\" font-family=\"Linux libertine\" font-size=\"10.00\">(250, 256) </text>\n",
       "<polygon fill=\"none\" stroke=\"black\" points=\"320.25,-231.5 320.25,-253.5 367.25,-253.5 367.25,-231.5 320.25,-231.5\"/>\n",
       "<text text-anchor=\"start\" x=\"325\" y=\"-239\" font-family=\"Linux libertine\" font-size=\"10.00\">output: </text>\n",
       "<polygon fill=\"none\" stroke=\"black\" points=\"367.25,-231.5 367.25,-253.5 429.25,-253.5 429.25,-231.5 367.25,-231.5\"/>\n",
       "<text text-anchor=\"start\" x=\"372\" y=\"-239\" font-family=\"Linux libertine\" font-size=\"10.00\">(250, 256) </text>\n",
       "</g>\n",
       "<!-- 27&#45;&gt;28 -->\n",
       "<g id=\"edge29\" class=\"edge\">\n",
       "<title>27&#45;&gt;28</title>\n",
       "<path fill=\"none\" stroke=\"black\" d=\"M342.75,-311.6C342.75,-303.82 342.75,-294.8 342.75,-286.26\"/>\n",
       "<polygon fill=\"black\" stroke=\"black\" points=\"346.25,-286.46 342.75,-276.46 339.25,-286.46 346.25,-286.46\"/>\n",
       "</g>\n",
       "<!-- 29 -->\n",
       "<g id=\"node30\" class=\"node\">\n",
       "<title>29</title>\n",
       "<polygon fill=\"aliceblue\" stroke=\"none\" points=\"347.25,-195.5 192.25,-195.5 192.25,-151.5 347.25,-151.5 347.25,-195.5\"/>\n",
       "<polygon fill=\"none\" stroke=\"black\" points=\"192.25,-151.5 192.25,-195.5 238.25,-195.5 238.25,-151.5 192.25,-151.5\"/>\n",
       "<text text-anchor=\"start\" x=\"213.38\" y=\"-176.75\" font-family=\"Linux libertine\" font-size=\"10.00\">t</text>\n",
       "<text text-anchor=\"start\" x=\"196.88\" y=\"-164\" font-family=\"Linux libertine\" font-size=\"10.00\">depth:1</text>\n",
       "<polygon fill=\"none\" stroke=\"black\" points=\"238.25,-173.5 238.25,-195.5 285.25,-195.5 285.25,-173.5 238.25,-173.5\"/>\n",
       "<text text-anchor=\"start\" x=\"247.88\" y=\"-181\" font-family=\"Linux libertine\" font-size=\"10.00\">input:</text>\n",
       "<polygon fill=\"none\" stroke=\"black\" points=\"285.25,-173.5 285.25,-195.5 347.25,-195.5 347.25,-173.5 285.25,-173.5\"/>\n",
       "<text text-anchor=\"start\" x=\"290\" y=\"-181\" font-family=\"Linux libertine\" font-size=\"10.00\">(250, 256) </text>\n",
       "<polygon fill=\"none\" stroke=\"black\" points=\"238.25,-151.5 238.25,-173.5 285.25,-173.5 285.25,-151.5 238.25,-151.5\"/>\n",
       "<text text-anchor=\"start\" x=\"243\" y=\"-159\" font-family=\"Linux libertine\" font-size=\"10.00\">output: </text>\n",
       "<polygon fill=\"none\" stroke=\"black\" points=\"285.25,-151.5 285.25,-173.5 347.25,-173.5 347.25,-151.5 285.25,-151.5\"/>\n",
       "<text text-anchor=\"start\" x=\"290\" y=\"-159\" font-family=\"Linux libertine\" font-size=\"10.00\">(256, 250) </text>\n",
       "</g>\n",
       "<!-- 28&#45;&gt;29 -->\n",
       "<g id=\"edge30\" class=\"edge\">\n",
       "<title>28&#45;&gt;29</title>\n",
       "<path fill=\"none\" stroke=\"black\" d=\"M323.19,-231.6C315.09,-222.94 305.56,-212.76 296.8,-203.41\"/>\n",
       "<polygon fill=\"black\" stroke=\"black\" points=\"299.76,-201.37 290.37,-196.46 294.64,-206.15 299.76,-201.37\"/>\n",
       "</g>\n",
       "<!-- 33 -->\n",
       "<g id=\"node34\" class=\"node\">\n",
       "<title>33</title>\n",
       "<polygon fill=\"lightyellow\" stroke=\"none\" points=\"500.5,-191.25 365,-191.25 365,-155.75 500.5,-155.75 500.5,-191.25\"/>\n",
       "<polygon fill=\"none\" stroke=\"black\" points=\"365,-155.75 365,-191.25 441,-191.25 441,-155.75 365,-155.75\"/>\n",
       "<text text-anchor=\"start\" x=\"370\" y=\"-176.75\" font-family=\"Linux libertine\" font-size=\"10.00\">output&#45;tensor</text>\n",
       "<text text-anchor=\"start\" x=\"384.62\" y=\"-164\" font-family=\"Linux libertine\" font-size=\"10.00\">depth:0</text>\n",
       "<polygon fill=\"none\" stroke=\"black\" points=\"441,-155.75 441,-191.25 500.5,-191.25 500.5,-155.75 441,-155.75\"/>\n",
       "<text text-anchor=\"start\" x=\"446\" y=\"-170.38\" font-family=\"Linux libertine\" font-size=\"10.00\">(250, 256)</text>\n",
       "</g>\n",
       "<!-- 28&#45;&gt;33 -->\n",
       "<g id=\"edge34\" class=\"edge\">\n",
       "<title>28&#45;&gt;33</title>\n",
       "<path fill=\"none\" stroke=\"black\" d=\"M366.87,-231.6C378.8,-221.26 393.24,-208.74 405.57,-198.06\"/>\n",
       "<polygon fill=\"black\" stroke=\"black\" points=\"407.43,-200.2 412.7,-191.01 402.85,-194.91 407.43,-200.2\"/>\n",
       "</g>\n",
       "<!-- 29&#45;&gt;30 -->\n",
       "<g id=\"edge31\" class=\"edge\">\n",
       "<title>29&#45;&gt;30</title>\n",
       "<path fill=\"none\" stroke=\"black\" d=\"M255.55,-151.6C249.9,-143.29 243.3,-133.58 237.16,-124.54\"/>\n",
       "<polygon fill=\"black\" stroke=\"black\" points=\"239.51,-122.76 230.99,-116.46 233.72,-126.7 239.51,-122.76\"/>\n",
       "</g>\n",
       "<!-- 31 -->\n",
       "<g id=\"node32\" class=\"node\">\n",
       "<title>31</title>\n",
       "<polygon fill=\"lightyellow\" stroke=\"none\" points=\"284.5,-35.5 149,-35.5 149,0 284.5,0 284.5,-35.5\"/>\n",
       "<polygon fill=\"none\" stroke=\"black\" points=\"149,0 149,-35.5 225,-35.5 225,0 149,0\"/>\n",
       "<text text-anchor=\"start\" x=\"154\" y=\"-21\" font-family=\"Linux libertine\" font-size=\"10.00\">output&#45;tensor</text>\n",
       "<text text-anchor=\"start\" x=\"168.62\" y=\"-8.25\" font-family=\"Linux libertine\" font-size=\"10.00\">depth:0</text>\n",
       "<polygon fill=\"none\" stroke=\"black\" points=\"225,0 225,-35.5 284.5,-35.5 284.5,0 225,0\"/>\n",
       "<text text-anchor=\"start\" x=\"230\" y=\"-14.62\" font-family=\"Linux libertine\" font-size=\"10.00\">(250, 250)</text>\n",
       "</g>\n",
       "<!-- 30&#45;&gt;31 -->\n",
       "<g id=\"edge32\" class=\"edge\">\n",
       "<title>30&#45;&gt;31</title>\n",
       "<path fill=\"none\" stroke=\"black\" d=\"M216.75,-71.56C216.75,-63.6 216.75,-54.41 216.75,-45.95\"/>\n",
       "<polygon fill=\"black\" stroke=\"black\" points=\"220.25,-46.05 216.75,-36.05 213.25,-46.05 220.25,-46.05\"/>\n",
       "</g>\n",
       "</g>\n",
       "</svg>\n"
      ],
      "text/plain": [
       "<graphviz.graphs.Digraph at 0x7ff3584fff90>"
      ]
     },
     "execution_count": 16,
     "metadata": {},
     "output_type": "execute_result"
    }
   ],
   "source": [
    "model_graph = draw_graph(model,\n",
    "                         input_size=x_train[0:batch_size].shape,\n",
    "                         device=device,hide_inner_tensors=True,\n",
    "                         hide_module_functions=True,expand_nested=False,\n",
    "                         depth=2)\n",
    "model_graph.visual_graph"
   ]
  },
  {
   "cell_type": "markdown",
   "id": "b237f7c9-744a-425d-9be7-1320528730df",
   "metadata": {},
   "source": [
    "### Pretraining Accuracy"
   ]
  },
  {
   "cell_type": "code",
   "execution_count": 17,
   "id": "71375681-32cb-4f45-9e31-745e7b26814c",
   "metadata": {},
   "outputs": [
    {
     "name": "stderr",
     "output_type": "stream",
     "text": [
      "GPU available: True (cuda), used: True\n",
      "TPU available: False, using: 0 TPU cores\n",
      "IPU available: False, using: 0 IPUs\n",
      "HPU available: False, using: 0 HPUs\n"
     ]
    }
   ],
   "source": [
    "logger = pl.loggers.CSVLogger(\"lightning_logs\",\n",
    "                              name=\"CIIP-Attempt3\",\n",
    "                              version=\"demo-0\") # Change later to avoid overwriting\n",
    "trainer = pl.Trainer(logger=logger,\n",
    "                     max_epochs=300,\n",
    "                     enable_progress_bar=True,\n",
    "                     log_every_n_steps=0,\n",
    "                     callbacks=[pl.callbacks.TQDMProgressBar(refresh_rate=50)])"
   ]
  },
  {
   "cell_type": "code",
   "execution_count": 18,
   "id": "b4301caf-9100-4cad-89a9-6dc25accaf11",
   "metadata": {
    "scrolled": true
   },
   "outputs": [
    {
     "name": "stderr",
     "output_type": "stream",
     "text": [
      "/opt/conda/lib/python3.11/site-packages/lightning/fabric/loggers/csv_logs.py:195: UserWarning: Experiment logs directory lightning_logs/CIIP-Attempt3/demo-0 exists and is not empty. Previous log files in this directory will be deleted when the new ones are saved!\n",
      "  rank_zero_warn(\n",
      "LOCAL_RANK: 0 - CUDA_VISIBLE_DEVICES: [0]\n",
      "SLURM auto-requeueing enabled. Setting signal handlers.\n",
      "/opt/conda/lib/python3.11/site-packages/torch/utils/data/dataloader.py:560: UserWarning: This DataLoader will create 4 worker processes in total. Our suggested max number of worker in current system is 2, which is smaller than what this DataLoader is going to create. Please be aware that excessive worker creation might get DataLoader running slow or even freeze, lower the worker number to avoid potential slowness/freeze if necessary.\n",
      "  warnings.warn(_create_warning_msg(\n"
     ]
    },
    {
     "data": {
      "application/vnd.jupyter.widget-view+json": {
       "model_id": "8df3dcbfe90540ad8d774be9e116dd8c",
       "version_major": 2,
       "version_minor": 0
      },
      "text/plain": [
       "Validation: 0it [00:00, ?it/s]"
      ]
     },
     "metadata": {},
     "output_type": "display_data"
    },
    {
     "data": {
      "text/html": [
       "<pre style=\"white-space:pre;overflow-x:auto;line-height:normal;font-family:Menlo,'DejaVu Sans Mono',consolas,'Courier New',monospace\">┏━━━━━━━━━━━━━━━━━━━━━━━━━━━┳━━━━━━━━━━━━━━━━━━━━━━━━━━━┓\n",
       "┃<span style=\"font-weight: bold\">  Runningstage.validating  </span>┃<span style=\"font-weight: bold\">                           </span>┃\n",
       "┃<span style=\"font-weight: bold\">          metric           </span>┃<span style=\"font-weight: bold\">       DataLoader 0        </span>┃\n",
       "┡━━━━━━━━━━━━━━━━━━━━━━━━━━━╇━━━━━━━━━━━━━━━━━━━━━━━━━━━┩\n",
       "│<span style=\"color: #008080; text-decoration-color: #008080\">          val_acc          </span>│<span style=\"color: #800080; text-decoration-color: #800080\">            1.0            </span>│\n",
       "│<span style=\"color: #008080; text-decoration-color: #008080\">         val_loss          </span>│<span style=\"color: #800080; text-decoration-color: #800080\">   0.002906620502471924    </span>│\n",
       "└───────────────────────────┴───────────────────────────┘\n",
       "</pre>\n"
      ],
      "text/plain": [
       "┏━━━━━━━━━━━━━━━━━━━━━━━━━━━┳━━━━━━━━━━━━━━━━━━━━━━━━━━━┓\n",
       "┃\u001b[1m \u001b[0m\u001b[1m Runningstage.validating \u001b[0m\u001b[1m \u001b[0m┃\u001b[1m                           \u001b[0m┃\n",
       "┃\u001b[1m \u001b[0m\u001b[1m         metric          \u001b[0m\u001b[1m \u001b[0m┃\u001b[1m \u001b[0m\u001b[1m      DataLoader 0       \u001b[0m\u001b[1m \u001b[0m┃\n",
       "┡━━━━━━━━━━━━━━━━━━━━━━━━━━━╇━━━━━━━━━━━━━━━━━━━━━━━━━━━┩\n",
       "│\u001b[36m \u001b[0m\u001b[36m         val_acc         \u001b[0m\u001b[36m \u001b[0m│\u001b[35m \u001b[0m\u001b[35m           1.0           \u001b[0m\u001b[35m \u001b[0m│\n",
       "│\u001b[36m \u001b[0m\u001b[36m        val_loss         \u001b[0m\u001b[36m \u001b[0m│\u001b[35m \u001b[0m\u001b[35m  0.002906620502471924   \u001b[0m\u001b[35m \u001b[0m│\n",
       "└───────────────────────────┴───────────────────────────┘\n"
      ]
     },
     "metadata": {},
     "output_type": "display_data"
    },
    {
     "data": {
      "text/plain": [
       "[{'val_loss': 0.002906620502471924, 'val_acc': 1.0}]"
      ]
     },
     "execution_count": 18,
     "metadata": {},
     "output_type": "execute_result"
    }
   ],
   "source": [
    "trainer.validate(model,xy_val)"
   ]
  },
  {
   "cell_type": "code",
   "execution_count": 13,
   "id": "46ebdf25-b287-4748-993a-26c127183b01",
   "metadata": {},
   "outputs": [
    {
     "data": {
      "text/plain": [
       "0.11903001"
      ]
     },
     "execution_count": 13,
     "metadata": {},
     "output_type": "execute_result"
    }
   ],
   "source": [
    "# Before Training\n",
    "acc = []\n",
    "for i in range(0,100,batch_size):\n",
    "    y, _, _ = model.predict(x_test[i:i+batch_size],x_train[0:100]) \n",
    "    acc += [model.mca(y_train[0:100][torch.argmax(y,-1)],y_test[i:i+batch_size]).numpy()]\n",
    "np.mean(acc)"
   ]
  },
  {
   "cell_type": "markdown",
   "id": "98c5df8c-1869-4cc6-80be-54553ee79a50",
   "metadata": {},
   "source": [
    "### Training the Model"
   ]
  },
  {
   "cell_type": "code",
   "execution_count": 26,
   "id": "5e2612d1-1c39-4289-8b8a-1a83111998de",
   "metadata": {
    "scrolled": true
   },
   "outputs": [
    {
     "name": "stderr",
     "output_type": "stream",
     "text": [
      "/opt/conda/lib/python3.11/site-packages/lightning/pytorch/callbacks/model_checkpoint.py:617: UserWarning: Checkpoint directory lightning_logs/CIIP-Attempt3/demo-0/checkpoints exists and is not empty.\n",
      "  rank_zero_warn(f\"Checkpoint directory {dirpath} exists and is not empty.\")\n",
      "LOCAL_RANK: 0 - CUDA_VISIBLE_DEVICES: [0]\n",
      "\n",
      "  | Name    | Type               | Params\n",
      "-----------------------------------------------\n",
      "0 | encoder | ImageEncoder       | 4.6 M \n",
      "1 | mca     | MulticlassAccuracy | 0     \n",
      "2 | cce     | CrossEntropyLoss   | 0     \n",
      "-----------------------------------------------\n",
      "4.6 M     Trainable params\n",
      "0         Non-trainable params\n",
      "4.6 M     Total params\n",
      "18.468    Total estimated model params size (MB)\n",
      "SLURM auto-requeueing enabled. Setting signal handlers.\n"
     ]
    },
    {
     "data": {
      "application/vnd.jupyter.widget-view+json": {
       "model_id": "",
       "version_major": 2,
       "version_minor": 0
      },
      "text/plain": [
       "Sanity Checking: 0it [00:00, ?it/s]"
      ]
     },
     "metadata": {},
     "output_type": "display_data"
    },
    {
     "name": "stderr",
     "output_type": "stream",
     "text": [
      "/opt/conda/lib/python3.11/site-packages/torch/utils/data/dataloader.py:560: UserWarning: This DataLoader will create 4 worker processes in total. Our suggested max number of worker in current system is 2, which is smaller than what this DataLoader is going to create. Please be aware that excessive worker creation might get DataLoader running slow or even freeze, lower the worker number to avoid potential slowness/freeze if necessary.\n",
      "  warnings.warn(_create_warning_msg(\n"
     ]
    },
    {
     "data": {
      "application/vnd.jupyter.widget-view+json": {
       "model_id": "91d4fdd2558442aa99e844c28d51559e",
       "version_major": 2,
       "version_minor": 0
      },
      "text/plain": [
       "Training: 0it [00:00, ?it/s]"
      ]
     },
     "metadata": {},
     "output_type": "display_data"
    },
    {
     "data": {
      "application/vnd.jupyter.widget-view+json": {
       "model_id": "",
       "version_major": 2,
       "version_minor": 0
      },
      "text/plain": [
       "Validation: 0it [00:00, ?it/s]"
      ]
     },
     "metadata": {},
     "output_type": "display_data"
    },
    {
     "data": {
      "application/vnd.jupyter.widget-view+json": {
       "model_id": "",
       "version_major": 2,
       "version_minor": 0
      },
      "text/plain": [
       "Validation: 0it [00:00, ?it/s]"
      ]
     },
     "metadata": {},
     "output_type": "display_data"
    },
    {
     "data": {
      "application/vnd.jupyter.widget-view+json": {
       "model_id": "",
       "version_major": 2,
       "version_minor": 0
      },
      "text/plain": [
       "Validation: 0it [00:00, ?it/s]"
      ]
     },
     "metadata": {},
     "output_type": "display_data"
    },
    {
     "data": {
      "application/vnd.jupyter.widget-view+json": {
       "model_id": "",
       "version_major": 2,
       "version_minor": 0
      },
      "text/plain": [
       "Validation: 0it [00:00, ?it/s]"
      ]
     },
     "metadata": {},
     "output_type": "display_data"
    },
    {
     "data": {
      "application/vnd.jupyter.widget-view+json": {
       "model_id": "",
       "version_major": 2,
       "version_minor": 0
      },
      "text/plain": [
       "Validation: 0it [00:00, ?it/s]"
      ]
     },
     "metadata": {},
     "output_type": "display_data"
    },
    {
     "data": {
      "application/vnd.jupyter.widget-view+json": {
       "model_id": "",
       "version_major": 2,
       "version_minor": 0
      },
      "text/plain": [
       "Validation: 0it [00:00, ?it/s]"
      ]
     },
     "metadata": {},
     "output_type": "display_data"
    },
    {
     "data": {
      "application/vnd.jupyter.widget-view+json": {
       "model_id": "",
       "version_major": 2,
       "version_minor": 0
      },
      "text/plain": [
       "Validation: 0it [00:00, ?it/s]"
      ]
     },
     "metadata": {},
     "output_type": "display_data"
    },
    {
     "data": {
      "application/vnd.jupyter.widget-view+json": {
       "model_id": "",
       "version_major": 2,
       "version_minor": 0
      },
      "text/plain": [
       "Validation: 0it [00:00, ?it/s]"
      ]
     },
     "metadata": {},
     "output_type": "display_data"
    },
    {
     "data": {
      "application/vnd.jupyter.widget-view+json": {
       "model_id": "",
       "version_major": 2,
       "version_minor": 0
      },
      "text/plain": [
       "Validation: 0it [00:00, ?it/s]"
      ]
     },
     "metadata": {},
     "output_type": "display_data"
    },
    {
     "data": {
      "application/vnd.jupyter.widget-view+json": {
       "model_id": "",
       "version_major": 2,
       "version_minor": 0
      },
      "text/plain": [
       "Validation: 0it [00:00, ?it/s]"
      ]
     },
     "metadata": {},
     "output_type": "display_data"
    },
    {
     "data": {
      "application/vnd.jupyter.widget-view+json": {
       "model_id": "",
       "version_major": 2,
       "version_minor": 0
      },
      "text/plain": [
       "Validation: 0it [00:00, ?it/s]"
      ]
     },
     "metadata": {},
     "output_type": "display_data"
    },
    {
     "data": {
      "application/vnd.jupyter.widget-view+json": {
       "model_id": "",
       "version_major": 2,
       "version_minor": 0
      },
      "text/plain": [
       "Validation: 0it [00:00, ?it/s]"
      ]
     },
     "metadata": {},
     "output_type": "display_data"
    },
    {
     "data": {
      "application/vnd.jupyter.widget-view+json": {
       "model_id": "",
       "version_major": 2,
       "version_minor": 0
      },
      "text/plain": [
       "Validation: 0it [00:00, ?it/s]"
      ]
     },
     "metadata": {},
     "output_type": "display_data"
    },
    {
     "data": {
      "application/vnd.jupyter.widget-view+json": {
       "model_id": "",
       "version_major": 2,
       "version_minor": 0
      },
      "text/plain": [
       "Validation: 0it [00:00, ?it/s]"
      ]
     },
     "metadata": {},
     "output_type": "display_data"
    },
    {
     "data": {
      "application/vnd.jupyter.widget-view+json": {
       "model_id": "",
       "version_major": 2,
       "version_minor": 0
      },
      "text/plain": [
       "Validation: 0it [00:00, ?it/s]"
      ]
     },
     "metadata": {},
     "output_type": "display_data"
    },
    {
     "data": {
      "application/vnd.jupyter.widget-view+json": {
       "model_id": "",
       "version_major": 2,
       "version_minor": 0
      },
      "text/plain": [
       "Validation: 0it [00:00, ?it/s]"
      ]
     },
     "metadata": {},
     "output_type": "display_data"
    },
    {
     "data": {
      "application/vnd.jupyter.widget-view+json": {
       "model_id": "",
       "version_major": 2,
       "version_minor": 0
      },
      "text/plain": [
       "Validation: 0it [00:00, ?it/s]"
      ]
     },
     "metadata": {},
     "output_type": "display_data"
    },
    {
     "data": {
      "application/vnd.jupyter.widget-view+json": {
       "model_id": "",
       "version_major": 2,
       "version_minor": 0
      },
      "text/plain": [
       "Validation: 0it [00:00, ?it/s]"
      ]
     },
     "metadata": {},
     "output_type": "display_data"
    },
    {
     "data": {
      "application/vnd.jupyter.widget-view+json": {
       "model_id": "",
       "version_major": 2,
       "version_minor": 0
      },
      "text/plain": [
       "Validation: 0it [00:00, ?it/s]"
      ]
     },
     "metadata": {},
     "output_type": "display_data"
    },
    {
     "data": {
      "application/vnd.jupyter.widget-view+json": {
       "model_id": "",
       "version_major": 2,
       "version_minor": 0
      },
      "text/plain": [
       "Validation: 0it [00:00, ?it/s]"
      ]
     },
     "metadata": {},
     "output_type": "display_data"
    },
    {
     "data": {
      "application/vnd.jupyter.widget-view+json": {
       "model_id": "",
       "version_major": 2,
       "version_minor": 0
      },
      "text/plain": [
       "Validation: 0it [00:00, ?it/s]"
      ]
     },
     "metadata": {},
     "output_type": "display_data"
    },
    {
     "data": {
      "application/vnd.jupyter.widget-view+json": {
       "model_id": "",
       "version_major": 2,
       "version_minor": 0
      },
      "text/plain": [
       "Validation: 0it [00:00, ?it/s]"
      ]
     },
     "metadata": {},
     "output_type": "display_data"
    },
    {
     "data": {
      "application/vnd.jupyter.widget-view+json": {
       "model_id": "",
       "version_major": 2,
       "version_minor": 0
      },
      "text/plain": [
       "Validation: 0it [00:00, ?it/s]"
      ]
     },
     "metadata": {},
     "output_type": "display_data"
    },
    {
     "data": {
      "application/vnd.jupyter.widget-view+json": {
       "model_id": "",
       "version_major": 2,
       "version_minor": 0
      },
      "text/plain": [
       "Validation: 0it [00:00, ?it/s]"
      ]
     },
     "metadata": {},
     "output_type": "display_data"
    },
    {
     "data": {
      "application/vnd.jupyter.widget-view+json": {
       "model_id": "",
       "version_major": 2,
       "version_minor": 0
      },
      "text/plain": [
       "Validation: 0it [00:00, ?it/s]"
      ]
     },
     "metadata": {},
     "output_type": "display_data"
    },
    {
     "data": {
      "application/vnd.jupyter.widget-view+json": {
       "model_id": "",
       "version_major": 2,
       "version_minor": 0
      },
      "text/plain": [
       "Validation: 0it [00:00, ?it/s]"
      ]
     },
     "metadata": {},
     "output_type": "display_data"
    },
    {
     "data": {
      "application/vnd.jupyter.widget-view+json": {
       "model_id": "",
       "version_major": 2,
       "version_minor": 0
      },
      "text/plain": [
       "Validation: 0it [00:00, ?it/s]"
      ]
     },
     "metadata": {},
     "output_type": "display_data"
    },
    {
     "data": {
      "application/vnd.jupyter.widget-view+json": {
       "model_id": "",
       "version_major": 2,
       "version_minor": 0
      },
      "text/plain": [
       "Validation: 0it [00:00, ?it/s]"
      ]
     },
     "metadata": {},
     "output_type": "display_data"
    },
    {
     "data": {
      "application/vnd.jupyter.widget-view+json": {
       "model_id": "",
       "version_major": 2,
       "version_minor": 0
      },
      "text/plain": [
       "Validation: 0it [00:00, ?it/s]"
      ]
     },
     "metadata": {},
     "output_type": "display_data"
    },
    {
     "data": {
      "application/vnd.jupyter.widget-view+json": {
       "model_id": "",
       "version_major": 2,
       "version_minor": 0
      },
      "text/plain": [
       "Validation: 0it [00:00, ?it/s]"
      ]
     },
     "metadata": {},
     "output_type": "display_data"
    },
    {
     "data": {
      "application/vnd.jupyter.widget-view+json": {
       "model_id": "",
       "version_major": 2,
       "version_minor": 0
      },
      "text/plain": [
       "Validation: 0it [00:00, ?it/s]"
      ]
     },
     "metadata": {},
     "output_type": "display_data"
    },
    {
     "data": {
      "application/vnd.jupyter.widget-view+json": {
       "model_id": "",
       "version_major": 2,
       "version_minor": 0
      },
      "text/plain": [
       "Validation: 0it [00:00, ?it/s]"
      ]
     },
     "metadata": {},
     "output_type": "display_data"
    },
    {
     "data": {
      "application/vnd.jupyter.widget-view+json": {
       "model_id": "",
       "version_major": 2,
       "version_minor": 0
      },
      "text/plain": [
       "Validation: 0it [00:00, ?it/s]"
      ]
     },
     "metadata": {},
     "output_type": "display_data"
    },
    {
     "data": {
      "application/vnd.jupyter.widget-view+json": {
       "model_id": "",
       "version_major": 2,
       "version_minor": 0
      },
      "text/plain": [
       "Validation: 0it [00:00, ?it/s]"
      ]
     },
     "metadata": {},
     "output_type": "display_data"
    },
    {
     "data": {
      "application/vnd.jupyter.widget-view+json": {
       "model_id": "",
       "version_major": 2,
       "version_minor": 0
      },
      "text/plain": [
       "Validation: 0it [00:00, ?it/s]"
      ]
     },
     "metadata": {},
     "output_type": "display_data"
    },
    {
     "data": {
      "application/vnd.jupyter.widget-view+json": {
       "model_id": "",
       "version_major": 2,
       "version_minor": 0
      },
      "text/plain": [
       "Validation: 0it [00:00, ?it/s]"
      ]
     },
     "metadata": {},
     "output_type": "display_data"
    },
    {
     "data": {
      "application/vnd.jupyter.widget-view+json": {
       "model_id": "",
       "version_major": 2,
       "version_minor": 0
      },
      "text/plain": [
       "Validation: 0it [00:00, ?it/s]"
      ]
     },
     "metadata": {},
     "output_type": "display_data"
    },
    {
     "data": {
      "application/vnd.jupyter.widget-view+json": {
       "model_id": "",
       "version_major": 2,
       "version_minor": 0
      },
      "text/plain": [
       "Validation: 0it [00:00, ?it/s]"
      ]
     },
     "metadata": {},
     "output_type": "display_data"
    },
    {
     "data": {
      "application/vnd.jupyter.widget-view+json": {
       "model_id": "",
       "version_major": 2,
       "version_minor": 0
      },
      "text/plain": [
       "Validation: 0it [00:00, ?it/s]"
      ]
     },
     "metadata": {},
     "output_type": "display_data"
    },
    {
     "data": {
      "application/vnd.jupyter.widget-view+json": {
       "model_id": "",
       "version_major": 2,
       "version_minor": 0
      },
      "text/plain": [
       "Validation: 0it [00:00, ?it/s]"
      ]
     },
     "metadata": {},
     "output_type": "display_data"
    },
    {
     "data": {
      "application/vnd.jupyter.widget-view+json": {
       "model_id": "",
       "version_major": 2,
       "version_minor": 0
      },
      "text/plain": [
       "Validation: 0it [00:00, ?it/s]"
      ]
     },
     "metadata": {},
     "output_type": "display_data"
    },
    {
     "data": {
      "application/vnd.jupyter.widget-view+json": {
       "model_id": "",
       "version_major": 2,
       "version_minor": 0
      },
      "text/plain": [
       "Validation: 0it [00:00, ?it/s]"
      ]
     },
     "metadata": {},
     "output_type": "display_data"
    },
    {
     "data": {
      "application/vnd.jupyter.widget-view+json": {
       "model_id": "",
       "version_major": 2,
       "version_minor": 0
      },
      "text/plain": [
       "Validation: 0it [00:00, ?it/s]"
      ]
     },
     "metadata": {},
     "output_type": "display_data"
    },
    {
     "data": {
      "application/vnd.jupyter.widget-view+json": {
       "model_id": "",
       "version_major": 2,
       "version_minor": 0
      },
      "text/plain": [
       "Validation: 0it [00:00, ?it/s]"
      ]
     },
     "metadata": {},
     "output_type": "display_data"
    },
    {
     "data": {
      "application/vnd.jupyter.widget-view+json": {
       "model_id": "",
       "version_major": 2,
       "version_minor": 0
      },
      "text/plain": [
       "Validation: 0it [00:00, ?it/s]"
      ]
     },
     "metadata": {},
     "output_type": "display_data"
    },
    {
     "data": {
      "application/vnd.jupyter.widget-view+json": {
       "model_id": "",
       "version_major": 2,
       "version_minor": 0
      },
      "text/plain": [
       "Validation: 0it [00:00, ?it/s]"
      ]
     },
     "metadata": {},
     "output_type": "display_data"
    },
    {
     "data": {
      "application/vnd.jupyter.widget-view+json": {
       "model_id": "",
       "version_major": 2,
       "version_minor": 0
      },
      "text/plain": [
       "Validation: 0it [00:00, ?it/s]"
      ]
     },
     "metadata": {},
     "output_type": "display_data"
    },
    {
     "data": {
      "application/vnd.jupyter.widget-view+json": {
       "model_id": "",
       "version_major": 2,
       "version_minor": 0
      },
      "text/plain": [
       "Validation: 0it [00:00, ?it/s]"
      ]
     },
     "metadata": {},
     "output_type": "display_data"
    },
    {
     "data": {
      "application/vnd.jupyter.widget-view+json": {
       "model_id": "",
       "version_major": 2,
       "version_minor": 0
      },
      "text/plain": [
       "Validation: 0it [00:00, ?it/s]"
      ]
     },
     "metadata": {},
     "output_type": "display_data"
    },
    {
     "data": {
      "application/vnd.jupyter.widget-view+json": {
       "model_id": "",
       "version_major": 2,
       "version_minor": 0
      },
      "text/plain": [
       "Validation: 0it [00:00, ?it/s]"
      ]
     },
     "metadata": {},
     "output_type": "display_data"
    },
    {
     "data": {
      "application/vnd.jupyter.widget-view+json": {
       "model_id": "",
       "version_major": 2,
       "version_minor": 0
      },
      "text/plain": [
       "Validation: 0it [00:00, ?it/s]"
      ]
     },
     "metadata": {},
     "output_type": "display_data"
    },
    {
     "data": {
      "application/vnd.jupyter.widget-view+json": {
       "model_id": "",
       "version_major": 2,
       "version_minor": 0
      },
      "text/plain": [
       "Validation: 0it [00:00, ?it/s]"
      ]
     },
     "metadata": {},
     "output_type": "display_data"
    },
    {
     "data": {
      "application/vnd.jupyter.widget-view+json": {
       "model_id": "",
       "version_major": 2,
       "version_minor": 0
      },
      "text/plain": [
       "Validation: 0it [00:00, ?it/s]"
      ]
     },
     "metadata": {},
     "output_type": "display_data"
    },
    {
     "data": {
      "application/vnd.jupyter.widget-view+json": {
       "model_id": "",
       "version_major": 2,
       "version_minor": 0
      },
      "text/plain": [
       "Validation: 0it [00:00, ?it/s]"
      ]
     },
     "metadata": {},
     "output_type": "display_data"
    },
    {
     "data": {
      "application/vnd.jupyter.widget-view+json": {
       "model_id": "",
       "version_major": 2,
       "version_minor": 0
      },
      "text/plain": [
       "Validation: 0it [00:00, ?it/s]"
      ]
     },
     "metadata": {},
     "output_type": "display_data"
    },
    {
     "data": {
      "application/vnd.jupyter.widget-view+json": {
       "model_id": "",
       "version_major": 2,
       "version_minor": 0
      },
      "text/plain": [
       "Validation: 0it [00:00, ?it/s]"
      ]
     },
     "metadata": {},
     "output_type": "display_data"
    },
    {
     "data": {
      "application/vnd.jupyter.widget-view+json": {
       "model_id": "",
       "version_major": 2,
       "version_minor": 0
      },
      "text/plain": [
       "Validation: 0it [00:00, ?it/s]"
      ]
     },
     "metadata": {},
     "output_type": "display_data"
    },
    {
     "data": {
      "application/vnd.jupyter.widget-view+json": {
       "model_id": "",
       "version_major": 2,
       "version_minor": 0
      },
      "text/plain": [
       "Validation: 0it [00:00, ?it/s]"
      ]
     },
     "metadata": {},
     "output_type": "display_data"
    },
    {
     "data": {
      "application/vnd.jupyter.widget-view+json": {
       "model_id": "",
       "version_major": 2,
       "version_minor": 0
      },
      "text/plain": [
       "Validation: 0it [00:00, ?it/s]"
      ]
     },
     "metadata": {},
     "output_type": "display_data"
    },
    {
     "data": {
      "application/vnd.jupyter.widget-view+json": {
       "model_id": "",
       "version_major": 2,
       "version_minor": 0
      },
      "text/plain": [
       "Validation: 0it [00:00, ?it/s]"
      ]
     },
     "metadata": {},
     "output_type": "display_data"
    },
    {
     "data": {
      "application/vnd.jupyter.widget-view+json": {
       "model_id": "",
       "version_major": 2,
       "version_minor": 0
      },
      "text/plain": [
       "Validation: 0it [00:00, ?it/s]"
      ]
     },
     "metadata": {},
     "output_type": "display_data"
    },
    {
     "data": {
      "application/vnd.jupyter.widget-view+json": {
       "model_id": "",
       "version_major": 2,
       "version_minor": 0
      },
      "text/plain": [
       "Validation: 0it [00:00, ?it/s]"
      ]
     },
     "metadata": {},
     "output_type": "display_data"
    },
    {
     "data": {
      "application/vnd.jupyter.widget-view+json": {
       "model_id": "",
       "version_major": 2,
       "version_minor": 0
      },
      "text/plain": [
       "Validation: 0it [00:00, ?it/s]"
      ]
     },
     "metadata": {},
     "output_type": "display_data"
    },
    {
     "data": {
      "application/vnd.jupyter.widget-view+json": {
       "model_id": "",
       "version_major": 2,
       "version_minor": 0
      },
      "text/plain": [
       "Validation: 0it [00:00, ?it/s]"
      ]
     },
     "metadata": {},
     "output_type": "display_data"
    },
    {
     "data": {
      "application/vnd.jupyter.widget-view+json": {
       "model_id": "",
       "version_major": 2,
       "version_minor": 0
      },
      "text/plain": [
       "Validation: 0it [00:00, ?it/s]"
      ]
     },
     "metadata": {},
     "output_type": "display_data"
    },
    {
     "data": {
      "application/vnd.jupyter.widget-view+json": {
       "model_id": "",
       "version_major": 2,
       "version_minor": 0
      },
      "text/plain": [
       "Validation: 0it [00:00, ?it/s]"
      ]
     },
     "metadata": {},
     "output_type": "display_data"
    },
    {
     "data": {
      "application/vnd.jupyter.widget-view+json": {
       "model_id": "",
       "version_major": 2,
       "version_minor": 0
      },
      "text/plain": [
       "Validation: 0it [00:00, ?it/s]"
      ]
     },
     "metadata": {},
     "output_type": "display_data"
    },
    {
     "data": {
      "application/vnd.jupyter.widget-view+json": {
       "model_id": "",
       "version_major": 2,
       "version_minor": 0
      },
      "text/plain": [
       "Validation: 0it [00:00, ?it/s]"
      ]
     },
     "metadata": {},
     "output_type": "display_data"
    },
    {
     "data": {
      "application/vnd.jupyter.widget-view+json": {
       "model_id": "",
       "version_major": 2,
       "version_minor": 0
      },
      "text/plain": [
       "Validation: 0it [00:00, ?it/s]"
      ]
     },
     "metadata": {},
     "output_type": "display_data"
    },
    {
     "data": {
      "application/vnd.jupyter.widget-view+json": {
       "model_id": "",
       "version_major": 2,
       "version_minor": 0
      },
      "text/plain": [
       "Validation: 0it [00:00, ?it/s]"
      ]
     },
     "metadata": {},
     "output_type": "display_data"
    },
    {
     "data": {
      "application/vnd.jupyter.widget-view+json": {
       "model_id": "",
       "version_major": 2,
       "version_minor": 0
      },
      "text/plain": [
       "Validation: 0it [00:00, ?it/s]"
      ]
     },
     "metadata": {},
     "output_type": "display_data"
    },
    {
     "data": {
      "application/vnd.jupyter.widget-view+json": {
       "model_id": "",
       "version_major": 2,
       "version_minor": 0
      },
      "text/plain": [
       "Validation: 0it [00:00, ?it/s]"
      ]
     },
     "metadata": {},
     "output_type": "display_data"
    },
    {
     "data": {
      "application/vnd.jupyter.widget-view+json": {
       "model_id": "",
       "version_major": 2,
       "version_minor": 0
      },
      "text/plain": [
       "Validation: 0it [00:00, ?it/s]"
      ]
     },
     "metadata": {},
     "output_type": "display_data"
    },
    {
     "data": {
      "application/vnd.jupyter.widget-view+json": {
       "model_id": "",
       "version_major": 2,
       "version_minor": 0
      },
      "text/plain": [
       "Validation: 0it [00:00, ?it/s]"
      ]
     },
     "metadata": {},
     "output_type": "display_data"
    },
    {
     "data": {
      "application/vnd.jupyter.widget-view+json": {
       "model_id": "",
       "version_major": 2,
       "version_minor": 0
      },
      "text/plain": [
       "Validation: 0it [00:00, ?it/s]"
      ]
     },
     "metadata": {},
     "output_type": "display_data"
    },
    {
     "data": {
      "application/vnd.jupyter.widget-view+json": {
       "model_id": "",
       "version_major": 2,
       "version_minor": 0
      },
      "text/plain": [
       "Validation: 0it [00:00, ?it/s]"
      ]
     },
     "metadata": {},
     "output_type": "display_data"
    },
    {
     "data": {
      "application/vnd.jupyter.widget-view+json": {
       "model_id": "",
       "version_major": 2,
       "version_minor": 0
      },
      "text/plain": [
       "Validation: 0it [00:00, ?it/s]"
      ]
     },
     "metadata": {},
     "output_type": "display_data"
    },
    {
     "data": {
      "application/vnd.jupyter.widget-view+json": {
       "model_id": "",
       "version_major": 2,
       "version_minor": 0
      },
      "text/plain": [
       "Validation: 0it [00:00, ?it/s]"
      ]
     },
     "metadata": {},
     "output_type": "display_data"
    },
    {
     "data": {
      "application/vnd.jupyter.widget-view+json": {
       "model_id": "",
       "version_major": 2,
       "version_minor": 0
      },
      "text/plain": [
       "Validation: 0it [00:00, ?it/s]"
      ]
     },
     "metadata": {},
     "output_type": "display_data"
    },
    {
     "data": {
      "application/vnd.jupyter.widget-view+json": {
       "model_id": "",
       "version_major": 2,
       "version_minor": 0
      },
      "text/plain": [
       "Validation: 0it [00:00, ?it/s]"
      ]
     },
     "metadata": {},
     "output_type": "display_data"
    },
    {
     "data": {
      "application/vnd.jupyter.widget-view+json": {
       "model_id": "",
       "version_major": 2,
       "version_minor": 0
      },
      "text/plain": [
       "Validation: 0it [00:00, ?it/s]"
      ]
     },
     "metadata": {},
     "output_type": "display_data"
    },
    {
     "data": {
      "application/vnd.jupyter.widget-view+json": {
       "model_id": "",
       "version_major": 2,
       "version_minor": 0
      },
      "text/plain": [
       "Validation: 0it [00:00, ?it/s]"
      ]
     },
     "metadata": {},
     "output_type": "display_data"
    },
    {
     "data": {
      "application/vnd.jupyter.widget-view+json": {
       "model_id": "",
       "version_major": 2,
       "version_minor": 0
      },
      "text/plain": [
       "Validation: 0it [00:00, ?it/s]"
      ]
     },
     "metadata": {},
     "output_type": "display_data"
    },
    {
     "data": {
      "application/vnd.jupyter.widget-view+json": {
       "model_id": "",
       "version_major": 2,
       "version_minor": 0
      },
      "text/plain": [
       "Validation: 0it [00:00, ?it/s]"
      ]
     },
     "metadata": {},
     "output_type": "display_data"
    },
    {
     "data": {
      "application/vnd.jupyter.widget-view+json": {
       "model_id": "",
       "version_major": 2,
       "version_minor": 0
      },
      "text/plain": [
       "Validation: 0it [00:00, ?it/s]"
      ]
     },
     "metadata": {},
     "output_type": "display_data"
    },
    {
     "data": {
      "application/vnd.jupyter.widget-view+json": {
       "model_id": "",
       "version_major": 2,
       "version_minor": 0
      },
      "text/plain": [
       "Validation: 0it [00:00, ?it/s]"
      ]
     },
     "metadata": {},
     "output_type": "display_data"
    },
    {
     "data": {
      "application/vnd.jupyter.widget-view+json": {
       "model_id": "",
       "version_major": 2,
       "version_minor": 0
      },
      "text/plain": [
       "Validation: 0it [00:00, ?it/s]"
      ]
     },
     "metadata": {},
     "output_type": "display_data"
    },
    {
     "data": {
      "application/vnd.jupyter.widget-view+json": {
       "model_id": "",
       "version_major": 2,
       "version_minor": 0
      },
      "text/plain": [
       "Validation: 0it [00:00, ?it/s]"
      ]
     },
     "metadata": {},
     "output_type": "display_data"
    },
    {
     "data": {
      "application/vnd.jupyter.widget-view+json": {
       "model_id": "",
       "version_major": 2,
       "version_minor": 0
      },
      "text/plain": [
       "Validation: 0it [00:00, ?it/s]"
      ]
     },
     "metadata": {},
     "output_type": "display_data"
    },
    {
     "data": {
      "application/vnd.jupyter.widget-view+json": {
       "model_id": "",
       "version_major": 2,
       "version_minor": 0
      },
      "text/plain": [
       "Validation: 0it [00:00, ?it/s]"
      ]
     },
     "metadata": {},
     "output_type": "display_data"
    },
    {
     "data": {
      "application/vnd.jupyter.widget-view+json": {
       "model_id": "",
       "version_major": 2,
       "version_minor": 0
      },
      "text/plain": [
       "Validation: 0it [00:00, ?it/s]"
      ]
     },
     "metadata": {},
     "output_type": "display_data"
    },
    {
     "data": {
      "application/vnd.jupyter.widget-view+json": {
       "model_id": "",
       "version_major": 2,
       "version_minor": 0
      },
      "text/plain": [
       "Validation: 0it [00:00, ?it/s]"
      ]
     },
     "metadata": {},
     "output_type": "display_data"
    },
    {
     "data": {
      "application/vnd.jupyter.widget-view+json": {
       "model_id": "",
       "version_major": 2,
       "version_minor": 0
      },
      "text/plain": [
       "Validation: 0it [00:00, ?it/s]"
      ]
     },
     "metadata": {},
     "output_type": "display_data"
    },
    {
     "data": {
      "application/vnd.jupyter.widget-view+json": {
       "model_id": "",
       "version_major": 2,
       "version_minor": 0
      },
      "text/plain": [
       "Validation: 0it [00:00, ?it/s]"
      ]
     },
     "metadata": {},
     "output_type": "display_data"
    },
    {
     "data": {
      "application/vnd.jupyter.widget-view+json": {
       "model_id": "",
       "version_major": 2,
       "version_minor": 0
      },
      "text/plain": [
       "Validation: 0it [00:00, ?it/s]"
      ]
     },
     "metadata": {},
     "output_type": "display_data"
    },
    {
     "data": {
      "application/vnd.jupyter.widget-view+json": {
       "model_id": "",
       "version_major": 2,
       "version_minor": 0
      },
      "text/plain": [
       "Validation: 0it [00:00, ?it/s]"
      ]
     },
     "metadata": {},
     "output_type": "display_data"
    },
    {
     "data": {
      "application/vnd.jupyter.widget-view+json": {
       "model_id": "",
       "version_major": 2,
       "version_minor": 0
      },
      "text/plain": [
       "Validation: 0it [00:00, ?it/s]"
      ]
     },
     "metadata": {},
     "output_type": "display_data"
    },
    {
     "data": {
      "application/vnd.jupyter.widget-view+json": {
       "model_id": "",
       "version_major": 2,
       "version_minor": 0
      },
      "text/plain": [
       "Validation: 0it [00:00, ?it/s]"
      ]
     },
     "metadata": {},
     "output_type": "display_data"
    },
    {
     "data": {
      "application/vnd.jupyter.widget-view+json": {
       "model_id": "",
       "version_major": 2,
       "version_minor": 0
      },
      "text/plain": [
       "Validation: 0it [00:00, ?it/s]"
      ]
     },
     "metadata": {},
     "output_type": "display_data"
    },
    {
     "data": {
      "application/vnd.jupyter.widget-view+json": {
       "model_id": "",
       "version_major": 2,
       "version_minor": 0
      },
      "text/plain": [
       "Validation: 0it [00:00, ?it/s]"
      ]
     },
     "metadata": {},
     "output_type": "display_data"
    },
    {
     "data": {
      "application/vnd.jupyter.widget-view+json": {
       "model_id": "",
       "version_major": 2,
       "version_minor": 0
      },
      "text/plain": [
       "Validation: 0it [00:00, ?it/s]"
      ]
     },
     "metadata": {},
     "output_type": "display_data"
    },
    {
     "data": {
      "application/vnd.jupyter.widget-view+json": {
       "model_id": "",
       "version_major": 2,
       "version_minor": 0
      },
      "text/plain": [
       "Validation: 0it [00:00, ?it/s]"
      ]
     },
     "metadata": {},
     "output_type": "display_data"
    },
    {
     "data": {
      "application/vnd.jupyter.widget-view+json": {
       "model_id": "",
       "version_major": 2,
       "version_minor": 0
      },
      "text/plain": [
       "Validation: 0it [00:00, ?it/s]"
      ]
     },
     "metadata": {},
     "output_type": "display_data"
    },
    {
     "data": {
      "application/vnd.jupyter.widget-view+json": {
       "model_id": "",
       "version_major": 2,
       "version_minor": 0
      },
      "text/plain": [
       "Validation: 0it [00:00, ?it/s]"
      ]
     },
     "metadata": {},
     "output_type": "display_data"
    },
    {
     "data": {
      "application/vnd.jupyter.widget-view+json": {
       "model_id": "",
       "version_major": 2,
       "version_minor": 0
      },
      "text/plain": [
       "Validation: 0it [00:00, ?it/s]"
      ]
     },
     "metadata": {},
     "output_type": "display_data"
    },
    {
     "data": {
      "application/vnd.jupyter.widget-view+json": {
       "model_id": "",
       "version_major": 2,
       "version_minor": 0
      },
      "text/plain": [
       "Validation: 0it [00:00, ?it/s]"
      ]
     },
     "metadata": {},
     "output_type": "display_data"
    },
    {
     "data": {
      "application/vnd.jupyter.widget-view+json": {
       "model_id": "",
       "version_major": 2,
       "version_minor": 0
      },
      "text/plain": [
       "Validation: 0it [00:00, ?it/s]"
      ]
     },
     "metadata": {},
     "output_type": "display_data"
    },
    {
     "data": {
      "application/vnd.jupyter.widget-view+json": {
       "model_id": "",
       "version_major": 2,
       "version_minor": 0
      },
      "text/plain": [
       "Validation: 0it [00:00, ?it/s]"
      ]
     },
     "metadata": {},
     "output_type": "display_data"
    },
    {
     "data": {
      "application/vnd.jupyter.widget-view+json": {
       "model_id": "",
       "version_major": 2,
       "version_minor": 0
      },
      "text/plain": [
       "Validation: 0it [00:00, ?it/s]"
      ]
     },
     "metadata": {},
     "output_type": "display_data"
    },
    {
     "data": {
      "application/vnd.jupyter.widget-view+json": {
       "model_id": "",
       "version_major": 2,
       "version_minor": 0
      },
      "text/plain": [
       "Validation: 0it [00:00, ?it/s]"
      ]
     },
     "metadata": {},
     "output_type": "display_data"
    },
    {
     "data": {
      "application/vnd.jupyter.widget-view+json": {
       "model_id": "",
       "version_major": 2,
       "version_minor": 0
      },
      "text/plain": [
       "Validation: 0it [00:00, ?it/s]"
      ]
     },
     "metadata": {},
     "output_type": "display_data"
    },
    {
     "data": {
      "application/vnd.jupyter.widget-view+json": {
       "model_id": "",
       "version_major": 2,
       "version_minor": 0
      },
      "text/plain": [
       "Validation: 0it [00:00, ?it/s]"
      ]
     },
     "metadata": {},
     "output_type": "display_data"
    },
    {
     "data": {
      "application/vnd.jupyter.widget-view+json": {
       "model_id": "",
       "version_major": 2,
       "version_minor": 0
      },
      "text/plain": [
       "Validation: 0it [00:00, ?it/s]"
      ]
     },
     "metadata": {},
     "output_type": "display_data"
    },
    {
     "data": {
      "application/vnd.jupyter.widget-view+json": {
       "model_id": "",
       "version_major": 2,
       "version_minor": 0
      },
      "text/plain": [
       "Validation: 0it [00:00, ?it/s]"
      ]
     },
     "metadata": {},
     "output_type": "display_data"
    },
    {
     "data": {
      "application/vnd.jupyter.widget-view+json": {
       "model_id": "",
       "version_major": 2,
       "version_minor": 0
      },
      "text/plain": [
       "Validation: 0it [00:00, ?it/s]"
      ]
     },
     "metadata": {},
     "output_type": "display_data"
    },
    {
     "data": {
      "application/vnd.jupyter.widget-view+json": {
       "model_id": "",
       "version_major": 2,
       "version_minor": 0
      },
      "text/plain": [
       "Validation: 0it [00:00, ?it/s]"
      ]
     },
     "metadata": {},
     "output_type": "display_data"
    },
    {
     "data": {
      "application/vnd.jupyter.widget-view+json": {
       "model_id": "",
       "version_major": 2,
       "version_minor": 0
      },
      "text/plain": [
       "Validation: 0it [00:00, ?it/s]"
      ]
     },
     "metadata": {},
     "output_type": "display_data"
    },
    {
     "data": {
      "application/vnd.jupyter.widget-view+json": {
       "model_id": "",
       "version_major": 2,
       "version_minor": 0
      },
      "text/plain": [
       "Validation: 0it [00:00, ?it/s]"
      ]
     },
     "metadata": {},
     "output_type": "display_data"
    },
    {
     "data": {
      "application/vnd.jupyter.widget-view+json": {
       "model_id": "",
       "version_major": 2,
       "version_minor": 0
      },
      "text/plain": [
       "Validation: 0it [00:00, ?it/s]"
      ]
     },
     "metadata": {},
     "output_type": "display_data"
    },
    {
     "data": {
      "application/vnd.jupyter.widget-view+json": {
       "model_id": "",
       "version_major": 2,
       "version_minor": 0
      },
      "text/plain": [
       "Validation: 0it [00:00, ?it/s]"
      ]
     },
     "metadata": {},
     "output_type": "display_data"
    },
    {
     "data": {
      "application/vnd.jupyter.widget-view+json": {
       "model_id": "",
       "version_major": 2,
       "version_minor": 0
      },
      "text/plain": [
       "Validation: 0it [00:00, ?it/s]"
      ]
     },
     "metadata": {},
     "output_type": "display_data"
    },
    {
     "data": {
      "application/vnd.jupyter.widget-view+json": {
       "model_id": "",
       "version_major": 2,
       "version_minor": 0
      },
      "text/plain": [
       "Validation: 0it [00:00, ?it/s]"
      ]
     },
     "metadata": {},
     "output_type": "display_data"
    },
    {
     "data": {
      "application/vnd.jupyter.widget-view+json": {
       "model_id": "",
       "version_major": 2,
       "version_minor": 0
      },
      "text/plain": [
       "Validation: 0it [00:00, ?it/s]"
      ]
     },
     "metadata": {},
     "output_type": "display_data"
    },
    {
     "data": {
      "application/vnd.jupyter.widget-view+json": {
       "model_id": "",
       "version_major": 2,
       "version_minor": 0
      },
      "text/plain": [
       "Validation: 0it [00:00, ?it/s]"
      ]
     },
     "metadata": {},
     "output_type": "display_data"
    },
    {
     "data": {
      "application/vnd.jupyter.widget-view+json": {
       "model_id": "",
       "version_major": 2,
       "version_minor": 0
      },
      "text/plain": [
       "Validation: 0it [00:00, ?it/s]"
      ]
     },
     "metadata": {},
     "output_type": "display_data"
    },
    {
     "data": {
      "application/vnd.jupyter.widget-view+json": {
       "model_id": "",
       "version_major": 2,
       "version_minor": 0
      },
      "text/plain": [
       "Validation: 0it [00:00, ?it/s]"
      ]
     },
     "metadata": {},
     "output_type": "display_data"
    },
    {
     "data": {
      "application/vnd.jupyter.widget-view+json": {
       "model_id": "",
       "version_major": 2,
       "version_minor": 0
      },
      "text/plain": [
       "Validation: 0it [00:00, ?it/s]"
      ]
     },
     "metadata": {},
     "output_type": "display_data"
    },
    {
     "data": {
      "application/vnd.jupyter.widget-view+json": {
       "model_id": "",
       "version_major": 2,
       "version_minor": 0
      },
      "text/plain": [
       "Validation: 0it [00:00, ?it/s]"
      ]
     },
     "metadata": {},
     "output_type": "display_data"
    },
    {
     "data": {
      "application/vnd.jupyter.widget-view+json": {
       "model_id": "",
       "version_major": 2,
       "version_minor": 0
      },
      "text/plain": [
       "Validation: 0it [00:00, ?it/s]"
      ]
     },
     "metadata": {},
     "output_type": "display_data"
    },
    {
     "data": {
      "application/vnd.jupyter.widget-view+json": {
       "model_id": "",
       "version_major": 2,
       "version_minor": 0
      },
      "text/plain": [
       "Validation: 0it [00:00, ?it/s]"
      ]
     },
     "metadata": {},
     "output_type": "display_data"
    },
    {
     "data": {
      "application/vnd.jupyter.widget-view+json": {
       "model_id": "",
       "version_major": 2,
       "version_minor": 0
      },
      "text/plain": [
       "Validation: 0it [00:00, ?it/s]"
      ]
     },
     "metadata": {},
     "output_type": "display_data"
    },
    {
     "data": {
      "application/vnd.jupyter.widget-view+json": {
       "model_id": "",
       "version_major": 2,
       "version_minor": 0
      },
      "text/plain": [
       "Validation: 0it [00:00, ?it/s]"
      ]
     },
     "metadata": {},
     "output_type": "display_data"
    },
    {
     "data": {
      "application/vnd.jupyter.widget-view+json": {
       "model_id": "",
       "version_major": 2,
       "version_minor": 0
      },
      "text/plain": [
       "Validation: 0it [00:00, ?it/s]"
      ]
     },
     "metadata": {},
     "output_type": "display_data"
    },
    {
     "data": {
      "application/vnd.jupyter.widget-view+json": {
       "model_id": "",
       "version_major": 2,
       "version_minor": 0
      },
      "text/plain": [
       "Validation: 0it [00:00, ?it/s]"
      ]
     },
     "metadata": {},
     "output_type": "display_data"
    },
    {
     "data": {
      "application/vnd.jupyter.widget-view+json": {
       "model_id": "",
       "version_major": 2,
       "version_minor": 0
      },
      "text/plain": [
       "Validation: 0it [00:00, ?it/s]"
      ]
     },
     "metadata": {},
     "output_type": "display_data"
    },
    {
     "data": {
      "application/vnd.jupyter.widget-view+json": {
       "model_id": "",
       "version_major": 2,
       "version_minor": 0
      },
      "text/plain": [
       "Validation: 0it [00:00, ?it/s]"
      ]
     },
     "metadata": {},
     "output_type": "display_data"
    },
    {
     "data": {
      "application/vnd.jupyter.widget-view+json": {
       "model_id": "",
       "version_major": 2,
       "version_minor": 0
      },
      "text/plain": [
       "Validation: 0it [00:00, ?it/s]"
      ]
     },
     "metadata": {},
     "output_type": "display_data"
    },
    {
     "data": {
      "application/vnd.jupyter.widget-view+json": {
       "model_id": "",
       "version_major": 2,
       "version_minor": 0
      },
      "text/plain": [
       "Validation: 0it [00:00, ?it/s]"
      ]
     },
     "metadata": {},
     "output_type": "display_data"
    },
    {
     "data": {
      "application/vnd.jupyter.widget-view+json": {
       "model_id": "",
       "version_major": 2,
       "version_minor": 0
      },
      "text/plain": [
       "Validation: 0it [00:00, ?it/s]"
      ]
     },
     "metadata": {},
     "output_type": "display_data"
    },
    {
     "data": {
      "application/vnd.jupyter.widget-view+json": {
       "model_id": "",
       "version_major": 2,
       "version_minor": 0
      },
      "text/plain": [
       "Validation: 0it [00:00, ?it/s]"
      ]
     },
     "metadata": {},
     "output_type": "display_data"
    },
    {
     "data": {
      "application/vnd.jupyter.widget-view+json": {
       "model_id": "",
       "version_major": 2,
       "version_minor": 0
      },
      "text/plain": [
       "Validation: 0it [00:00, ?it/s]"
      ]
     },
     "metadata": {},
     "output_type": "display_data"
    },
    {
     "data": {
      "application/vnd.jupyter.widget-view+json": {
       "model_id": "",
       "version_major": 2,
       "version_minor": 0
      },
      "text/plain": [
       "Validation: 0it [00:00, ?it/s]"
      ]
     },
     "metadata": {},
     "output_type": "display_data"
    },
    {
     "data": {
      "application/vnd.jupyter.widget-view+json": {
       "model_id": "",
       "version_major": 2,
       "version_minor": 0
      },
      "text/plain": [
       "Validation: 0it [00:00, ?it/s]"
      ]
     },
     "metadata": {},
     "output_type": "display_data"
    },
    {
     "data": {
      "application/vnd.jupyter.widget-view+json": {
       "model_id": "",
       "version_major": 2,
       "version_minor": 0
      },
      "text/plain": [
       "Validation: 0it [00:00, ?it/s]"
      ]
     },
     "metadata": {},
     "output_type": "display_data"
    },
    {
     "data": {
      "application/vnd.jupyter.widget-view+json": {
       "model_id": "",
       "version_major": 2,
       "version_minor": 0
      },
      "text/plain": [
       "Validation: 0it [00:00, ?it/s]"
      ]
     },
     "metadata": {},
     "output_type": "display_data"
    },
    {
     "data": {
      "application/vnd.jupyter.widget-view+json": {
       "model_id": "",
       "version_major": 2,
       "version_minor": 0
      },
      "text/plain": [
       "Validation: 0it [00:00, ?it/s]"
      ]
     },
     "metadata": {},
     "output_type": "display_data"
    },
    {
     "data": {
      "application/vnd.jupyter.widget-view+json": {
       "model_id": "",
       "version_major": 2,
       "version_minor": 0
      },
      "text/plain": [
       "Validation: 0it [00:00, ?it/s]"
      ]
     },
     "metadata": {},
     "output_type": "display_data"
    },
    {
     "data": {
      "application/vnd.jupyter.widget-view+json": {
       "model_id": "",
       "version_major": 2,
       "version_minor": 0
      },
      "text/plain": [
       "Validation: 0it [00:00, ?it/s]"
      ]
     },
     "metadata": {},
     "output_type": "display_data"
    },
    {
     "data": {
      "application/vnd.jupyter.widget-view+json": {
       "model_id": "",
       "version_major": 2,
       "version_minor": 0
      },
      "text/plain": [
       "Validation: 0it [00:00, ?it/s]"
      ]
     },
     "metadata": {},
     "output_type": "display_data"
    },
    {
     "data": {
      "application/vnd.jupyter.widget-view+json": {
       "model_id": "",
       "version_major": 2,
       "version_minor": 0
      },
      "text/plain": [
       "Validation: 0it [00:00, ?it/s]"
      ]
     },
     "metadata": {},
     "output_type": "display_data"
    },
    {
     "data": {
      "application/vnd.jupyter.widget-view+json": {
       "model_id": "",
       "version_major": 2,
       "version_minor": 0
      },
      "text/plain": [
       "Validation: 0it [00:00, ?it/s]"
      ]
     },
     "metadata": {},
     "output_type": "display_data"
    },
    {
     "data": {
      "application/vnd.jupyter.widget-view+json": {
       "model_id": "",
       "version_major": 2,
       "version_minor": 0
      },
      "text/plain": [
       "Validation: 0it [00:00, ?it/s]"
      ]
     },
     "metadata": {},
     "output_type": "display_data"
    },
    {
     "data": {
      "application/vnd.jupyter.widget-view+json": {
       "model_id": "",
       "version_major": 2,
       "version_minor": 0
      },
      "text/plain": [
       "Validation: 0it [00:00, ?it/s]"
      ]
     },
     "metadata": {},
     "output_type": "display_data"
    },
    {
     "data": {
      "application/vnd.jupyter.widget-view+json": {
       "model_id": "",
       "version_major": 2,
       "version_minor": 0
      },
      "text/plain": [
       "Validation: 0it [00:00, ?it/s]"
      ]
     },
     "metadata": {},
     "output_type": "display_data"
    },
    {
     "data": {
      "application/vnd.jupyter.widget-view+json": {
       "model_id": "",
       "version_major": 2,
       "version_minor": 0
      },
      "text/plain": [
       "Validation: 0it [00:00, ?it/s]"
      ]
     },
     "metadata": {},
     "output_type": "display_data"
    },
    {
     "data": {
      "application/vnd.jupyter.widget-view+json": {
       "model_id": "",
       "version_major": 2,
       "version_minor": 0
      },
      "text/plain": [
       "Validation: 0it [00:00, ?it/s]"
      ]
     },
     "metadata": {},
     "output_type": "display_data"
    },
    {
     "data": {
      "application/vnd.jupyter.widget-view+json": {
       "model_id": "",
       "version_major": 2,
       "version_minor": 0
      },
      "text/plain": [
       "Validation: 0it [00:00, ?it/s]"
      ]
     },
     "metadata": {},
     "output_type": "display_data"
    },
    {
     "data": {
      "application/vnd.jupyter.widget-view+json": {
       "model_id": "",
       "version_major": 2,
       "version_minor": 0
      },
      "text/plain": [
       "Validation: 0it [00:00, ?it/s]"
      ]
     },
     "metadata": {},
     "output_type": "display_data"
    },
    {
     "data": {
      "application/vnd.jupyter.widget-view+json": {
       "model_id": "",
       "version_major": 2,
       "version_minor": 0
      },
      "text/plain": [
       "Validation: 0it [00:00, ?it/s]"
      ]
     },
     "metadata": {},
     "output_type": "display_data"
    },
    {
     "data": {
      "application/vnd.jupyter.widget-view+json": {
       "model_id": "",
       "version_major": 2,
       "version_minor": 0
      },
      "text/plain": [
       "Validation: 0it [00:00, ?it/s]"
      ]
     },
     "metadata": {},
     "output_type": "display_data"
    },
    {
     "data": {
      "application/vnd.jupyter.widget-view+json": {
       "model_id": "",
       "version_major": 2,
       "version_minor": 0
      },
      "text/plain": [
       "Validation: 0it [00:00, ?it/s]"
      ]
     },
     "metadata": {},
     "output_type": "display_data"
    },
    {
     "data": {
      "application/vnd.jupyter.widget-view+json": {
       "model_id": "",
       "version_major": 2,
       "version_minor": 0
      },
      "text/plain": [
       "Validation: 0it [00:00, ?it/s]"
      ]
     },
     "metadata": {},
     "output_type": "display_data"
    },
    {
     "data": {
      "application/vnd.jupyter.widget-view+json": {
       "model_id": "",
       "version_major": 2,
       "version_minor": 0
      },
      "text/plain": [
       "Validation: 0it [00:00, ?it/s]"
      ]
     },
     "metadata": {},
     "output_type": "display_data"
    },
    {
     "data": {
      "application/vnd.jupyter.widget-view+json": {
       "model_id": "",
       "version_major": 2,
       "version_minor": 0
      },
      "text/plain": [
       "Validation: 0it [00:00, ?it/s]"
      ]
     },
     "metadata": {},
     "output_type": "display_data"
    },
    {
     "data": {
      "application/vnd.jupyter.widget-view+json": {
       "model_id": "",
       "version_major": 2,
       "version_minor": 0
      },
      "text/plain": [
       "Validation: 0it [00:00, ?it/s]"
      ]
     },
     "metadata": {},
     "output_type": "display_data"
    },
    {
     "data": {
      "application/vnd.jupyter.widget-view+json": {
       "model_id": "",
       "version_major": 2,
       "version_minor": 0
      },
      "text/plain": [
       "Validation: 0it [00:00, ?it/s]"
      ]
     },
     "metadata": {},
     "output_type": "display_data"
    },
    {
     "data": {
      "application/vnd.jupyter.widget-view+json": {
       "model_id": "",
       "version_major": 2,
       "version_minor": 0
      },
      "text/plain": [
       "Validation: 0it [00:00, ?it/s]"
      ]
     },
     "metadata": {},
     "output_type": "display_data"
    },
    {
     "data": {
      "application/vnd.jupyter.widget-view+json": {
       "model_id": "",
       "version_major": 2,
       "version_minor": 0
      },
      "text/plain": [
       "Validation: 0it [00:00, ?it/s]"
      ]
     },
     "metadata": {},
     "output_type": "display_data"
    },
    {
     "data": {
      "application/vnd.jupyter.widget-view+json": {
       "model_id": "",
       "version_major": 2,
       "version_minor": 0
      },
      "text/plain": [
       "Validation: 0it [00:00, ?it/s]"
      ]
     },
     "metadata": {},
     "output_type": "display_data"
    },
    {
     "data": {
      "application/vnd.jupyter.widget-view+json": {
       "model_id": "",
       "version_major": 2,
       "version_minor": 0
      },
      "text/plain": [
       "Validation: 0it [00:00, ?it/s]"
      ]
     },
     "metadata": {},
     "output_type": "display_data"
    },
    {
     "data": {
      "application/vnd.jupyter.widget-view+json": {
       "model_id": "",
       "version_major": 2,
       "version_minor": 0
      },
      "text/plain": [
       "Validation: 0it [00:00, ?it/s]"
      ]
     },
     "metadata": {},
     "output_type": "display_data"
    },
    {
     "data": {
      "application/vnd.jupyter.widget-view+json": {
       "model_id": "",
       "version_major": 2,
       "version_minor": 0
      },
      "text/plain": [
       "Validation: 0it [00:00, ?it/s]"
      ]
     },
     "metadata": {},
     "output_type": "display_data"
    },
    {
     "data": {
      "application/vnd.jupyter.widget-view+json": {
       "model_id": "",
       "version_major": 2,
       "version_minor": 0
      },
      "text/plain": [
       "Validation: 0it [00:00, ?it/s]"
      ]
     },
     "metadata": {},
     "output_type": "display_data"
    },
    {
     "data": {
      "application/vnd.jupyter.widget-view+json": {
       "model_id": "",
       "version_major": 2,
       "version_minor": 0
      },
      "text/plain": [
       "Validation: 0it [00:00, ?it/s]"
      ]
     },
     "metadata": {},
     "output_type": "display_data"
    },
    {
     "data": {
      "application/vnd.jupyter.widget-view+json": {
       "model_id": "",
       "version_major": 2,
       "version_minor": 0
      },
      "text/plain": [
       "Validation: 0it [00:00, ?it/s]"
      ]
     },
     "metadata": {},
     "output_type": "display_data"
    },
    {
     "data": {
      "application/vnd.jupyter.widget-view+json": {
       "model_id": "",
       "version_major": 2,
       "version_minor": 0
      },
      "text/plain": [
       "Validation: 0it [00:00, ?it/s]"
      ]
     },
     "metadata": {},
     "output_type": "display_data"
    },
    {
     "data": {
      "application/vnd.jupyter.widget-view+json": {
       "model_id": "",
       "version_major": 2,
       "version_minor": 0
      },
      "text/plain": [
       "Validation: 0it [00:00, ?it/s]"
      ]
     },
     "metadata": {},
     "output_type": "display_data"
    },
    {
     "data": {
      "application/vnd.jupyter.widget-view+json": {
       "model_id": "",
       "version_major": 2,
       "version_minor": 0
      },
      "text/plain": [
       "Validation: 0it [00:00, ?it/s]"
      ]
     },
     "metadata": {},
     "output_type": "display_data"
    },
    {
     "data": {
      "application/vnd.jupyter.widget-view+json": {
       "model_id": "",
       "version_major": 2,
       "version_minor": 0
      },
      "text/plain": [
       "Validation: 0it [00:00, ?it/s]"
      ]
     },
     "metadata": {},
     "output_type": "display_data"
    },
    {
     "data": {
      "application/vnd.jupyter.widget-view+json": {
       "model_id": "",
       "version_major": 2,
       "version_minor": 0
      },
      "text/plain": [
       "Validation: 0it [00:00, ?it/s]"
      ]
     },
     "metadata": {},
     "output_type": "display_data"
    },
    {
     "data": {
      "application/vnd.jupyter.widget-view+json": {
       "model_id": "",
       "version_major": 2,
       "version_minor": 0
      },
      "text/plain": [
       "Validation: 0it [00:00, ?it/s]"
      ]
     },
     "metadata": {},
     "output_type": "display_data"
    },
    {
     "data": {
      "application/vnd.jupyter.widget-view+json": {
       "model_id": "",
       "version_major": 2,
       "version_minor": 0
      },
      "text/plain": [
       "Validation: 0it [00:00, ?it/s]"
      ]
     },
     "metadata": {},
     "output_type": "display_data"
    },
    {
     "data": {
      "application/vnd.jupyter.widget-view+json": {
       "model_id": "",
       "version_major": 2,
       "version_minor": 0
      },
      "text/plain": [
       "Validation: 0it [00:00, ?it/s]"
      ]
     },
     "metadata": {},
     "output_type": "display_data"
    },
    {
     "data": {
      "application/vnd.jupyter.widget-view+json": {
       "model_id": "",
       "version_major": 2,
       "version_minor": 0
      },
      "text/plain": [
       "Validation: 0it [00:00, ?it/s]"
      ]
     },
     "metadata": {},
     "output_type": "display_data"
    },
    {
     "data": {
      "application/vnd.jupyter.widget-view+json": {
       "model_id": "",
       "version_major": 2,
       "version_minor": 0
      },
      "text/plain": [
       "Validation: 0it [00:00, ?it/s]"
      ]
     },
     "metadata": {},
     "output_type": "display_data"
    },
    {
     "data": {
      "application/vnd.jupyter.widget-view+json": {
       "model_id": "",
       "version_major": 2,
       "version_minor": 0
      },
      "text/plain": [
       "Validation: 0it [00:00, ?it/s]"
      ]
     },
     "metadata": {},
     "output_type": "display_data"
    },
    {
     "data": {
      "application/vnd.jupyter.widget-view+json": {
       "model_id": "",
       "version_major": 2,
       "version_minor": 0
      },
      "text/plain": [
       "Validation: 0it [00:00, ?it/s]"
      ]
     },
     "metadata": {},
     "output_type": "display_data"
    },
    {
     "data": {
      "application/vnd.jupyter.widget-view+json": {
       "model_id": "",
       "version_major": 2,
       "version_minor": 0
      },
      "text/plain": [
       "Validation: 0it [00:00, ?it/s]"
      ]
     },
     "metadata": {},
     "output_type": "display_data"
    },
    {
     "data": {
      "application/vnd.jupyter.widget-view+json": {
       "model_id": "",
       "version_major": 2,
       "version_minor": 0
      },
      "text/plain": [
       "Validation: 0it [00:00, ?it/s]"
      ]
     },
     "metadata": {},
     "output_type": "display_data"
    },
    {
     "data": {
      "application/vnd.jupyter.widget-view+json": {
       "model_id": "",
       "version_major": 2,
       "version_minor": 0
      },
      "text/plain": [
       "Validation: 0it [00:00, ?it/s]"
      ]
     },
     "metadata": {},
     "output_type": "display_data"
    },
    {
     "data": {
      "application/vnd.jupyter.widget-view+json": {
       "model_id": "",
       "version_major": 2,
       "version_minor": 0
      },
      "text/plain": [
       "Validation: 0it [00:00, ?it/s]"
      ]
     },
     "metadata": {},
     "output_type": "display_data"
    },
    {
     "data": {
      "application/vnd.jupyter.widget-view+json": {
       "model_id": "",
       "version_major": 2,
       "version_minor": 0
      },
      "text/plain": [
       "Validation: 0it [00:00, ?it/s]"
      ]
     },
     "metadata": {},
     "output_type": "display_data"
    },
    {
     "data": {
      "application/vnd.jupyter.widget-view+json": {
       "model_id": "",
       "version_major": 2,
       "version_minor": 0
      },
      "text/plain": [
       "Validation: 0it [00:00, ?it/s]"
      ]
     },
     "metadata": {},
     "output_type": "display_data"
    },
    {
     "data": {
      "application/vnd.jupyter.widget-view+json": {
       "model_id": "",
       "version_major": 2,
       "version_minor": 0
      },
      "text/plain": [
       "Validation: 0it [00:00, ?it/s]"
      ]
     },
     "metadata": {},
     "output_type": "display_data"
    },
    {
     "data": {
      "application/vnd.jupyter.widget-view+json": {
       "model_id": "",
       "version_major": 2,
       "version_minor": 0
      },
      "text/plain": [
       "Validation: 0it [00:00, ?it/s]"
      ]
     },
     "metadata": {},
     "output_type": "display_data"
    },
    {
     "data": {
      "application/vnd.jupyter.widget-view+json": {
       "model_id": "",
       "version_major": 2,
       "version_minor": 0
      },
      "text/plain": [
       "Validation: 0it [00:00, ?it/s]"
      ]
     },
     "metadata": {},
     "output_type": "display_data"
    },
    {
     "data": {
      "application/vnd.jupyter.widget-view+json": {
       "model_id": "",
       "version_major": 2,
       "version_minor": 0
      },
      "text/plain": [
       "Validation: 0it [00:00, ?it/s]"
      ]
     },
     "metadata": {},
     "output_type": "display_data"
    },
    {
     "data": {
      "application/vnd.jupyter.widget-view+json": {
       "model_id": "",
       "version_major": 2,
       "version_minor": 0
      },
      "text/plain": [
       "Validation: 0it [00:00, ?it/s]"
      ]
     },
     "metadata": {},
     "output_type": "display_data"
    },
    {
     "data": {
      "application/vnd.jupyter.widget-view+json": {
       "model_id": "",
       "version_major": 2,
       "version_minor": 0
      },
      "text/plain": [
       "Validation: 0it [00:00, ?it/s]"
      ]
     },
     "metadata": {},
     "output_type": "display_data"
    },
    {
     "data": {
      "application/vnd.jupyter.widget-view+json": {
       "model_id": "",
       "version_major": 2,
       "version_minor": 0
      },
      "text/plain": [
       "Validation: 0it [00:00, ?it/s]"
      ]
     },
     "metadata": {},
     "output_type": "display_data"
    },
    {
     "data": {
      "application/vnd.jupyter.widget-view+json": {
       "model_id": "",
       "version_major": 2,
       "version_minor": 0
      },
      "text/plain": [
       "Validation: 0it [00:00, ?it/s]"
      ]
     },
     "metadata": {},
     "output_type": "display_data"
    },
    {
     "data": {
      "application/vnd.jupyter.widget-view+json": {
       "model_id": "",
       "version_major": 2,
       "version_minor": 0
      },
      "text/plain": [
       "Validation: 0it [00:00, ?it/s]"
      ]
     },
     "metadata": {},
     "output_type": "display_data"
    },
    {
     "data": {
      "application/vnd.jupyter.widget-view+json": {
       "model_id": "",
       "version_major": 2,
       "version_minor": 0
      },
      "text/plain": [
       "Validation: 0it [00:00, ?it/s]"
      ]
     },
     "metadata": {},
     "output_type": "display_data"
    },
    {
     "data": {
      "application/vnd.jupyter.widget-view+json": {
       "model_id": "",
       "version_major": 2,
       "version_minor": 0
      },
      "text/plain": [
       "Validation: 0it [00:00, ?it/s]"
      ]
     },
     "metadata": {},
     "output_type": "display_data"
    },
    {
     "data": {
      "application/vnd.jupyter.widget-view+json": {
       "model_id": "",
       "version_major": 2,
       "version_minor": 0
      },
      "text/plain": [
       "Validation: 0it [00:00, ?it/s]"
      ]
     },
     "metadata": {},
     "output_type": "display_data"
    },
    {
     "data": {
      "application/vnd.jupyter.widget-view+json": {
       "model_id": "",
       "version_major": 2,
       "version_minor": 0
      },
      "text/plain": [
       "Validation: 0it [00:00, ?it/s]"
      ]
     },
     "metadata": {},
     "output_type": "display_data"
    },
    {
     "data": {
      "application/vnd.jupyter.widget-view+json": {
       "model_id": "",
       "version_major": 2,
       "version_minor": 0
      },
      "text/plain": [
       "Validation: 0it [00:00, ?it/s]"
      ]
     },
     "metadata": {},
     "output_type": "display_data"
    },
    {
     "data": {
      "application/vnd.jupyter.widget-view+json": {
       "model_id": "",
       "version_major": 2,
       "version_minor": 0
      },
      "text/plain": [
       "Validation: 0it [00:00, ?it/s]"
      ]
     },
     "metadata": {},
     "output_type": "display_data"
    },
    {
     "data": {
      "application/vnd.jupyter.widget-view+json": {
       "model_id": "",
       "version_major": 2,
       "version_minor": 0
      },
      "text/plain": [
       "Validation: 0it [00:00, ?it/s]"
      ]
     },
     "metadata": {},
     "output_type": "display_data"
    },
    {
     "data": {
      "application/vnd.jupyter.widget-view+json": {
       "model_id": "",
       "version_major": 2,
       "version_minor": 0
      },
      "text/plain": [
       "Validation: 0it [00:00, ?it/s]"
      ]
     },
     "metadata": {},
     "output_type": "display_data"
    },
    {
     "data": {
      "application/vnd.jupyter.widget-view+json": {
       "model_id": "",
       "version_major": 2,
       "version_minor": 0
      },
      "text/plain": [
       "Validation: 0it [00:00, ?it/s]"
      ]
     },
     "metadata": {},
     "output_type": "display_data"
    },
    {
     "data": {
      "application/vnd.jupyter.widget-view+json": {
       "model_id": "",
       "version_major": 2,
       "version_minor": 0
      },
      "text/plain": [
       "Validation: 0it [00:00, ?it/s]"
      ]
     },
     "metadata": {},
     "output_type": "display_data"
    },
    {
     "data": {
      "application/vnd.jupyter.widget-view+json": {
       "model_id": "",
       "version_major": 2,
       "version_minor": 0
      },
      "text/plain": [
       "Validation: 0it [00:00, ?it/s]"
      ]
     },
     "metadata": {},
     "output_type": "display_data"
    },
    {
     "data": {
      "application/vnd.jupyter.widget-view+json": {
       "model_id": "",
       "version_major": 2,
       "version_minor": 0
      },
      "text/plain": [
       "Validation: 0it [00:00, ?it/s]"
      ]
     },
     "metadata": {},
     "output_type": "display_data"
    },
    {
     "data": {
      "application/vnd.jupyter.widget-view+json": {
       "model_id": "",
       "version_major": 2,
       "version_minor": 0
      },
      "text/plain": [
       "Validation: 0it [00:00, ?it/s]"
      ]
     },
     "metadata": {},
     "output_type": "display_data"
    },
    {
     "data": {
      "application/vnd.jupyter.widget-view+json": {
       "model_id": "",
       "version_major": 2,
       "version_minor": 0
      },
      "text/plain": [
       "Validation: 0it [00:00, ?it/s]"
      ]
     },
     "metadata": {},
     "output_type": "display_data"
    },
    {
     "data": {
      "application/vnd.jupyter.widget-view+json": {
       "model_id": "",
       "version_major": 2,
       "version_minor": 0
      },
      "text/plain": [
       "Validation: 0it [00:00, ?it/s]"
      ]
     },
     "metadata": {},
     "output_type": "display_data"
    },
    {
     "data": {
      "application/vnd.jupyter.widget-view+json": {
       "model_id": "",
       "version_major": 2,
       "version_minor": 0
      },
      "text/plain": [
       "Validation: 0it [00:00, ?it/s]"
      ]
     },
     "metadata": {},
     "output_type": "display_data"
    },
    {
     "data": {
      "application/vnd.jupyter.widget-view+json": {
       "model_id": "",
       "version_major": 2,
       "version_minor": 0
      },
      "text/plain": [
       "Validation: 0it [00:00, ?it/s]"
      ]
     },
     "metadata": {},
     "output_type": "display_data"
    },
    {
     "data": {
      "application/vnd.jupyter.widget-view+json": {
       "model_id": "",
       "version_major": 2,
       "version_minor": 0
      },
      "text/plain": [
       "Validation: 0it [00:00, ?it/s]"
      ]
     },
     "metadata": {},
     "output_type": "display_data"
    },
    {
     "data": {
      "application/vnd.jupyter.widget-view+json": {
       "model_id": "",
       "version_major": 2,
       "version_minor": 0
      },
      "text/plain": [
       "Validation: 0it [00:00, ?it/s]"
      ]
     },
     "metadata": {},
     "output_type": "display_data"
    },
    {
     "data": {
      "application/vnd.jupyter.widget-view+json": {
       "model_id": "",
       "version_major": 2,
       "version_minor": 0
      },
      "text/plain": [
       "Validation: 0it [00:00, ?it/s]"
      ]
     },
     "metadata": {},
     "output_type": "display_data"
    },
    {
     "data": {
      "application/vnd.jupyter.widget-view+json": {
       "model_id": "",
       "version_major": 2,
       "version_minor": 0
      },
      "text/plain": [
       "Validation: 0it [00:00, ?it/s]"
      ]
     },
     "metadata": {},
     "output_type": "display_data"
    },
    {
     "data": {
      "application/vnd.jupyter.widget-view+json": {
       "model_id": "",
       "version_major": 2,
       "version_minor": 0
      },
      "text/plain": [
       "Validation: 0it [00:00, ?it/s]"
      ]
     },
     "metadata": {},
     "output_type": "display_data"
    },
    {
     "data": {
      "application/vnd.jupyter.widget-view+json": {
       "model_id": "",
       "version_major": 2,
       "version_minor": 0
      },
      "text/plain": [
       "Validation: 0it [00:00, ?it/s]"
      ]
     },
     "metadata": {},
     "output_type": "display_data"
    },
    {
     "data": {
      "application/vnd.jupyter.widget-view+json": {
       "model_id": "",
       "version_major": 2,
       "version_minor": 0
      },
      "text/plain": [
       "Validation: 0it [00:00, ?it/s]"
      ]
     },
     "metadata": {},
     "output_type": "display_data"
    },
    {
     "data": {
      "application/vnd.jupyter.widget-view+json": {
       "model_id": "",
       "version_major": 2,
       "version_minor": 0
      },
      "text/plain": [
       "Validation: 0it [00:00, ?it/s]"
      ]
     },
     "metadata": {},
     "output_type": "display_data"
    },
    {
     "data": {
      "application/vnd.jupyter.widget-view+json": {
       "model_id": "",
       "version_major": 2,
       "version_minor": 0
      },
      "text/plain": [
       "Validation: 0it [00:00, ?it/s]"
      ]
     },
     "metadata": {},
     "output_type": "display_data"
    },
    {
     "data": {
      "application/vnd.jupyter.widget-view+json": {
       "model_id": "",
       "version_major": 2,
       "version_minor": 0
      },
      "text/plain": [
       "Validation: 0it [00:00, ?it/s]"
      ]
     },
     "metadata": {},
     "output_type": "display_data"
    },
    {
     "data": {
      "application/vnd.jupyter.widget-view+json": {
       "model_id": "",
       "version_major": 2,
       "version_minor": 0
      },
      "text/plain": [
       "Validation: 0it [00:00, ?it/s]"
      ]
     },
     "metadata": {},
     "output_type": "display_data"
    },
    {
     "data": {
      "application/vnd.jupyter.widget-view+json": {
       "model_id": "",
       "version_major": 2,
       "version_minor": 0
      },
      "text/plain": [
       "Validation: 0it [00:00, ?it/s]"
      ]
     },
     "metadata": {},
     "output_type": "display_data"
    },
    {
     "data": {
      "application/vnd.jupyter.widget-view+json": {
       "model_id": "",
       "version_major": 2,
       "version_minor": 0
      },
      "text/plain": [
       "Validation: 0it [00:00, ?it/s]"
      ]
     },
     "metadata": {},
     "output_type": "display_data"
    },
    {
     "data": {
      "application/vnd.jupyter.widget-view+json": {
       "model_id": "",
       "version_major": 2,
       "version_minor": 0
      },
      "text/plain": [
       "Validation: 0it [00:00, ?it/s]"
      ]
     },
     "metadata": {},
     "output_type": "display_data"
    },
    {
     "data": {
      "application/vnd.jupyter.widget-view+json": {
       "model_id": "",
       "version_major": 2,
       "version_minor": 0
      },
      "text/plain": [
       "Validation: 0it [00:00, ?it/s]"
      ]
     },
     "metadata": {},
     "output_type": "display_data"
    },
    {
     "data": {
      "application/vnd.jupyter.widget-view+json": {
       "model_id": "",
       "version_major": 2,
       "version_minor": 0
      },
      "text/plain": [
       "Validation: 0it [00:00, ?it/s]"
      ]
     },
     "metadata": {},
     "output_type": "display_data"
    },
    {
     "data": {
      "application/vnd.jupyter.widget-view+json": {
       "model_id": "",
       "version_major": 2,
       "version_minor": 0
      },
      "text/plain": [
       "Validation: 0it [00:00, ?it/s]"
      ]
     },
     "metadata": {},
     "output_type": "display_data"
    },
    {
     "data": {
      "application/vnd.jupyter.widget-view+json": {
       "model_id": "",
       "version_major": 2,
       "version_minor": 0
      },
      "text/plain": [
       "Validation: 0it [00:00, ?it/s]"
      ]
     },
     "metadata": {},
     "output_type": "display_data"
    },
    {
     "data": {
      "application/vnd.jupyter.widget-view+json": {
       "model_id": "",
       "version_major": 2,
       "version_minor": 0
      },
      "text/plain": [
       "Validation: 0it [00:00, ?it/s]"
      ]
     },
     "metadata": {},
     "output_type": "display_data"
    },
    {
     "data": {
      "application/vnd.jupyter.widget-view+json": {
       "model_id": "",
       "version_major": 2,
       "version_minor": 0
      },
      "text/plain": [
       "Validation: 0it [00:00, ?it/s]"
      ]
     },
     "metadata": {},
     "output_type": "display_data"
    },
    {
     "data": {
      "application/vnd.jupyter.widget-view+json": {
       "model_id": "",
       "version_major": 2,
       "version_minor": 0
      },
      "text/plain": [
       "Validation: 0it [00:00, ?it/s]"
      ]
     },
     "metadata": {},
     "output_type": "display_data"
    },
    {
     "data": {
      "application/vnd.jupyter.widget-view+json": {
       "model_id": "",
       "version_major": 2,
       "version_minor": 0
      },
      "text/plain": [
       "Validation: 0it [00:00, ?it/s]"
      ]
     },
     "metadata": {},
     "output_type": "display_data"
    },
    {
     "data": {
      "application/vnd.jupyter.widget-view+json": {
       "model_id": "",
       "version_major": 2,
       "version_minor": 0
      },
      "text/plain": [
       "Validation: 0it [00:00, ?it/s]"
      ]
     },
     "metadata": {},
     "output_type": "display_data"
    },
    {
     "data": {
      "application/vnd.jupyter.widget-view+json": {
       "model_id": "",
       "version_major": 2,
       "version_minor": 0
      },
      "text/plain": [
       "Validation: 0it [00:00, ?it/s]"
      ]
     },
     "metadata": {},
     "output_type": "display_data"
    },
    {
     "data": {
      "application/vnd.jupyter.widget-view+json": {
       "model_id": "",
       "version_major": 2,
       "version_minor": 0
      },
      "text/plain": [
       "Validation: 0it [00:00, ?it/s]"
      ]
     },
     "metadata": {},
     "output_type": "display_data"
    },
    {
     "data": {
      "application/vnd.jupyter.widget-view+json": {
       "model_id": "",
       "version_major": 2,
       "version_minor": 0
      },
      "text/plain": [
       "Validation: 0it [00:00, ?it/s]"
      ]
     },
     "metadata": {},
     "output_type": "display_data"
    },
    {
     "data": {
      "application/vnd.jupyter.widget-view+json": {
       "model_id": "",
       "version_major": 2,
       "version_minor": 0
      },
      "text/plain": [
       "Validation: 0it [00:00, ?it/s]"
      ]
     },
     "metadata": {},
     "output_type": "display_data"
    },
    {
     "data": {
      "application/vnd.jupyter.widget-view+json": {
       "model_id": "",
       "version_major": 2,
       "version_minor": 0
      },
      "text/plain": [
       "Validation: 0it [00:00, ?it/s]"
      ]
     },
     "metadata": {},
     "output_type": "display_data"
    },
    {
     "data": {
      "application/vnd.jupyter.widget-view+json": {
       "model_id": "",
       "version_major": 2,
       "version_minor": 0
      },
      "text/plain": [
       "Validation: 0it [00:00, ?it/s]"
      ]
     },
     "metadata": {},
     "output_type": "display_data"
    },
    {
     "data": {
      "application/vnd.jupyter.widget-view+json": {
       "model_id": "",
       "version_major": 2,
       "version_minor": 0
      },
      "text/plain": [
       "Validation: 0it [00:00, ?it/s]"
      ]
     },
     "metadata": {},
     "output_type": "display_data"
    },
    {
     "data": {
      "application/vnd.jupyter.widget-view+json": {
       "model_id": "",
       "version_major": 2,
       "version_minor": 0
      },
      "text/plain": [
       "Validation: 0it [00:00, ?it/s]"
      ]
     },
     "metadata": {},
     "output_type": "display_data"
    },
    {
     "data": {
      "application/vnd.jupyter.widget-view+json": {
       "model_id": "",
       "version_major": 2,
       "version_minor": 0
      },
      "text/plain": [
       "Validation: 0it [00:00, ?it/s]"
      ]
     },
     "metadata": {},
     "output_type": "display_data"
    },
    {
     "data": {
      "application/vnd.jupyter.widget-view+json": {
       "model_id": "",
       "version_major": 2,
       "version_minor": 0
      },
      "text/plain": [
       "Validation: 0it [00:00, ?it/s]"
      ]
     },
     "metadata": {},
     "output_type": "display_data"
    },
    {
     "data": {
      "application/vnd.jupyter.widget-view+json": {
       "model_id": "",
       "version_major": 2,
       "version_minor": 0
      },
      "text/plain": [
       "Validation: 0it [00:00, ?it/s]"
      ]
     },
     "metadata": {},
     "output_type": "display_data"
    },
    {
     "data": {
      "application/vnd.jupyter.widget-view+json": {
       "model_id": "",
       "version_major": 2,
       "version_minor": 0
      },
      "text/plain": [
       "Validation: 0it [00:00, ?it/s]"
      ]
     },
     "metadata": {},
     "output_type": "display_data"
    },
    {
     "data": {
      "application/vnd.jupyter.widget-view+json": {
       "model_id": "",
       "version_major": 2,
       "version_minor": 0
      },
      "text/plain": [
       "Validation: 0it [00:00, ?it/s]"
      ]
     },
     "metadata": {},
     "output_type": "display_data"
    },
    {
     "data": {
      "application/vnd.jupyter.widget-view+json": {
       "model_id": "",
       "version_major": 2,
       "version_minor": 0
      },
      "text/plain": [
       "Validation: 0it [00:00, ?it/s]"
      ]
     },
     "metadata": {},
     "output_type": "display_data"
    },
    {
     "data": {
      "application/vnd.jupyter.widget-view+json": {
       "model_id": "",
       "version_major": 2,
       "version_minor": 0
      },
      "text/plain": [
       "Validation: 0it [00:00, ?it/s]"
      ]
     },
     "metadata": {},
     "output_type": "display_data"
    },
    {
     "data": {
      "application/vnd.jupyter.widget-view+json": {
       "model_id": "",
       "version_major": 2,
       "version_minor": 0
      },
      "text/plain": [
       "Validation: 0it [00:00, ?it/s]"
      ]
     },
     "metadata": {},
     "output_type": "display_data"
    },
    {
     "data": {
      "application/vnd.jupyter.widget-view+json": {
       "model_id": "",
       "version_major": 2,
       "version_minor": 0
      },
      "text/plain": [
       "Validation: 0it [00:00, ?it/s]"
      ]
     },
     "metadata": {},
     "output_type": "display_data"
    },
    {
     "data": {
      "application/vnd.jupyter.widget-view+json": {
       "model_id": "",
       "version_major": 2,
       "version_minor": 0
      },
      "text/plain": [
       "Validation: 0it [00:00, ?it/s]"
      ]
     },
     "metadata": {},
     "output_type": "display_data"
    },
    {
     "data": {
      "application/vnd.jupyter.widget-view+json": {
       "model_id": "",
       "version_major": 2,
       "version_minor": 0
      },
      "text/plain": [
       "Validation: 0it [00:00, ?it/s]"
      ]
     },
     "metadata": {},
     "output_type": "display_data"
    },
    {
     "data": {
      "application/vnd.jupyter.widget-view+json": {
       "model_id": "",
       "version_major": 2,
       "version_minor": 0
      },
      "text/plain": [
       "Validation: 0it [00:00, ?it/s]"
      ]
     },
     "metadata": {},
     "output_type": "display_data"
    },
    {
     "data": {
      "application/vnd.jupyter.widget-view+json": {
       "model_id": "",
       "version_major": 2,
       "version_minor": 0
      },
      "text/plain": [
       "Validation: 0it [00:00, ?it/s]"
      ]
     },
     "metadata": {},
     "output_type": "display_data"
    },
    {
     "data": {
      "application/vnd.jupyter.widget-view+json": {
       "model_id": "",
       "version_major": 2,
       "version_minor": 0
      },
      "text/plain": [
       "Validation: 0it [00:00, ?it/s]"
      ]
     },
     "metadata": {},
     "output_type": "display_data"
    },
    {
     "data": {
      "application/vnd.jupyter.widget-view+json": {
       "model_id": "",
       "version_major": 2,
       "version_minor": 0
      },
      "text/plain": [
       "Validation: 0it [00:00, ?it/s]"
      ]
     },
     "metadata": {},
     "output_type": "display_data"
    },
    {
     "data": {
      "application/vnd.jupyter.widget-view+json": {
       "model_id": "",
       "version_major": 2,
       "version_minor": 0
      },
      "text/plain": [
       "Validation: 0it [00:00, ?it/s]"
      ]
     },
     "metadata": {},
     "output_type": "display_data"
    },
    {
     "data": {
      "application/vnd.jupyter.widget-view+json": {
       "model_id": "",
       "version_major": 2,
       "version_minor": 0
      },
      "text/plain": [
       "Validation: 0it [00:00, ?it/s]"
      ]
     },
     "metadata": {},
     "output_type": "display_data"
    },
    {
     "data": {
      "application/vnd.jupyter.widget-view+json": {
       "model_id": "",
       "version_major": 2,
       "version_minor": 0
      },
      "text/plain": [
       "Validation: 0it [00:00, ?it/s]"
      ]
     },
     "metadata": {},
     "output_type": "display_data"
    },
    {
     "data": {
      "application/vnd.jupyter.widget-view+json": {
       "model_id": "",
       "version_major": 2,
       "version_minor": 0
      },
      "text/plain": [
       "Validation: 0it [00:00, ?it/s]"
      ]
     },
     "metadata": {},
     "output_type": "display_data"
    },
    {
     "data": {
      "application/vnd.jupyter.widget-view+json": {
       "model_id": "",
       "version_major": 2,
       "version_minor": 0
      },
      "text/plain": [
       "Validation: 0it [00:00, ?it/s]"
      ]
     },
     "metadata": {},
     "output_type": "display_data"
    },
    {
     "data": {
      "application/vnd.jupyter.widget-view+json": {
       "model_id": "",
       "version_major": 2,
       "version_minor": 0
      },
      "text/plain": [
       "Validation: 0it [00:00, ?it/s]"
      ]
     },
     "metadata": {},
     "output_type": "display_data"
    },
    {
     "data": {
      "application/vnd.jupyter.widget-view+json": {
       "model_id": "",
       "version_major": 2,
       "version_minor": 0
      },
      "text/plain": [
       "Validation: 0it [00:00, ?it/s]"
      ]
     },
     "metadata": {},
     "output_type": "display_data"
    },
    {
     "data": {
      "application/vnd.jupyter.widget-view+json": {
       "model_id": "",
       "version_major": 2,
       "version_minor": 0
      },
      "text/plain": [
       "Validation: 0it [00:00, ?it/s]"
      ]
     },
     "metadata": {},
     "output_type": "display_data"
    },
    {
     "data": {
      "application/vnd.jupyter.widget-view+json": {
       "model_id": "",
       "version_major": 2,
       "version_minor": 0
      },
      "text/plain": [
       "Validation: 0it [00:00, ?it/s]"
      ]
     },
     "metadata": {},
     "output_type": "display_data"
    },
    {
     "data": {
      "application/vnd.jupyter.widget-view+json": {
       "model_id": "",
       "version_major": 2,
       "version_minor": 0
      },
      "text/plain": [
       "Validation: 0it [00:00, ?it/s]"
      ]
     },
     "metadata": {},
     "output_type": "display_data"
    },
    {
     "data": {
      "application/vnd.jupyter.widget-view+json": {
       "model_id": "",
       "version_major": 2,
       "version_minor": 0
      },
      "text/plain": [
       "Validation: 0it [00:00, ?it/s]"
      ]
     },
     "metadata": {},
     "output_type": "display_data"
    },
    {
     "data": {
      "application/vnd.jupyter.widget-view+json": {
       "model_id": "",
       "version_major": 2,
       "version_minor": 0
      },
      "text/plain": [
       "Validation: 0it [00:00, ?it/s]"
      ]
     },
     "metadata": {},
     "output_type": "display_data"
    },
    {
     "data": {
      "application/vnd.jupyter.widget-view+json": {
       "model_id": "",
       "version_major": 2,
       "version_minor": 0
      },
      "text/plain": [
       "Validation: 0it [00:00, ?it/s]"
      ]
     },
     "metadata": {},
     "output_type": "display_data"
    },
    {
     "data": {
      "application/vnd.jupyter.widget-view+json": {
       "model_id": "",
       "version_major": 2,
       "version_minor": 0
      },
      "text/plain": [
       "Validation: 0it [00:00, ?it/s]"
      ]
     },
     "metadata": {},
     "output_type": "display_data"
    },
    {
     "data": {
      "application/vnd.jupyter.widget-view+json": {
       "model_id": "",
       "version_major": 2,
       "version_minor": 0
      },
      "text/plain": [
       "Validation: 0it [00:00, ?it/s]"
      ]
     },
     "metadata": {},
     "output_type": "display_data"
    },
    {
     "data": {
      "application/vnd.jupyter.widget-view+json": {
       "model_id": "",
       "version_major": 2,
       "version_minor": 0
      },
      "text/plain": [
       "Validation: 0it [00:00, ?it/s]"
      ]
     },
     "metadata": {},
     "output_type": "display_data"
    },
    {
     "data": {
      "application/vnd.jupyter.widget-view+json": {
       "model_id": "",
       "version_major": 2,
       "version_minor": 0
      },
      "text/plain": [
       "Validation: 0it [00:00, ?it/s]"
      ]
     },
     "metadata": {},
     "output_type": "display_data"
    },
    {
     "data": {
      "application/vnd.jupyter.widget-view+json": {
       "model_id": "",
       "version_major": 2,
       "version_minor": 0
      },
      "text/plain": [
       "Validation: 0it [00:00, ?it/s]"
      ]
     },
     "metadata": {},
     "output_type": "display_data"
    },
    {
     "data": {
      "application/vnd.jupyter.widget-view+json": {
       "model_id": "",
       "version_major": 2,
       "version_minor": 0
      },
      "text/plain": [
       "Validation: 0it [00:00, ?it/s]"
      ]
     },
     "metadata": {},
     "output_type": "display_data"
    },
    {
     "data": {
      "application/vnd.jupyter.widget-view+json": {
       "model_id": "",
       "version_major": 2,
       "version_minor": 0
      },
      "text/plain": [
       "Validation: 0it [00:00, ?it/s]"
      ]
     },
     "metadata": {},
     "output_type": "display_data"
    },
    {
     "data": {
      "application/vnd.jupyter.widget-view+json": {
       "model_id": "",
       "version_major": 2,
       "version_minor": 0
      },
      "text/plain": [
       "Validation: 0it [00:00, ?it/s]"
      ]
     },
     "metadata": {},
     "output_type": "display_data"
    },
    {
     "data": {
      "application/vnd.jupyter.widget-view+json": {
       "model_id": "",
       "version_major": 2,
       "version_minor": 0
      },
      "text/plain": [
       "Validation: 0it [00:00, ?it/s]"
      ]
     },
     "metadata": {},
     "output_type": "display_data"
    },
    {
     "name": "stderr",
     "output_type": "stream",
     "text": [
      "`Trainer.fit` stopped: `max_epochs=300` reached.\n"
     ]
    }
   ],
   "source": [
    "trainer.fit(model, xy_train, xy_val)"
   ]
  },
  {
   "cell_type": "markdown",
   "id": "fbdac987-782d-497d-a31e-4a4aef7eabab",
   "metadata": {},
   "source": [
    "### Load the model checkpoint under a different version path to avoid overwriting the checkpoint file"
   ]
  },
  {
   "cell_type": "code",
   "execution_count": 14,
   "id": "a728f4c5-b5e2-4a45-ba46-c6d2628c141b",
   "metadata": {
    "scrolled": true
   },
   "outputs": [
    {
     "name": "stderr",
     "output_type": "stream",
     "text": [
      "GPU available: True (cuda), used: True\n",
      "TPU available: False, using: 0 TPU cores\n",
      "IPU available: False, using: 0 IPUs\n",
      "HPU available: False, using: 0 HPUs\n",
      "/opt/conda/lib/python3.11/site-packages/lightning/fabric/loggers/csv_logs.py:195: UserWarning: Experiment logs directory lightning_logs/CIIP-Attempt3/restart-0 exists and is not empty. Previous log files in this directory will be deleted when the new ones are saved!\n",
      "  rank_zero_warn(\n",
      "Restoring states from the checkpoint path at lightning_logs/CIIP-Attempt3/demo-0/checkpoints/epoch=299-step=60000.ckpt\n",
      "LOCAL_RANK: 0 - CUDA_VISIBLE_DEVICES: [0]\n",
      "\n",
      "  | Name    | Type               | Params\n",
      "-----------------------------------------------\n",
      "0 | encoder | ImageEncoder       | 4.6 M \n",
      "1 | mca     | MulticlassAccuracy | 0     \n",
      "2 | cce     | CrossEntropyLoss   | 0     \n",
      "-----------------------------------------------\n",
      "4.6 M     Trainable params\n",
      "0         Non-trainable params\n",
      "4.6 M     Total params\n",
      "18.468    Total estimated model params size (MB)\n",
      "Restored all states from the checkpoint at lightning_logs/CIIP-Attempt3/demo-0/checkpoints/epoch=299-step=60000.ckpt\n",
      "SLURM auto-requeueing enabled. Setting signal handlers.\n"
     ]
    },
    {
     "data": {
      "application/vnd.jupyter.widget-view+json": {
       "model_id": "",
       "version_major": 2,
       "version_minor": 0
      },
      "text/plain": [
       "Sanity Checking: 0it [00:00, ?it/s]"
      ]
     },
     "metadata": {},
     "output_type": "display_data"
    },
    {
     "name": "stderr",
     "output_type": "stream",
     "text": [
      "`Trainer.fit` stopped: `max_epochs=300` reached.\n"
     ]
    }
   ],
   "source": [
    "logger = pl.loggers.CSVLogger(\"lightning_logs\",\n",
    "                              name=\"CIIP-Attempt3\",\n",
    "                              version=\"restart-0\")\n",
    "trainer = pl.Trainer(logger=logger,\n",
    "                     max_epochs=300,\n",
    "                     enable_progress_bar=True,\n",
    "                     log_every_n_steps=0,\n",
    "                     callbacks=[pl.callbacks.TQDMProgressBar(refresh_rate=50)])\n",
    "trainer.fit(model, xy_train, xy_val,\n",
    "            ckpt_path=\"lightning_logs/CIIP-Attempt3/demo-0/checkpoints/epoch=299-step=60000.ckpt\")"
   ]
  },
  {
   "cell_type": "code",
   "execution_count": 16,
   "id": "efd5920c-09ec-44b0-8c43-d1a21163354c",
   "metadata": {},
   "outputs": [
    {
     "data": {
      "text/plain": [
       "0.20360722"
      ]
     },
     "execution_count": 16,
     "metadata": {},
     "output_type": "execute_result"
    }
   ],
   "source": [
    "acc = []\n",
    "for i in range(0,100,batch_size):\n",
    "    y, _, _ = model.predict(x_test[i:i+batch_size],x_train[0:100]) \n",
    "    acc += [model.mca(y_train[0:100][torch.argmax(y,-1)],y_test[i:i+batch_size]).numpy()]\n",
    "np.mean(acc)"
   ]
  },
  {
   "cell_type": "markdown",
   "id": "c7c47979-8da1-4026-9141-bbdb3cfb9905",
   "metadata": {},
   "source": [
    "Note: The result above will just be *improved* compared to the previous evaluation made prior to training, but the reference targets are just the *first* patterns of those three classes in the training data set. These are not necessarily the best reference points to use for identifying class membership for the data, so additional work should be done to validate model performance. Nevertheless, the improvement observed above and the loss metric improvement indicates that the contrastive approach is working."
   ]
  },
  {
   "cell_type": "code",
   "execution_count": null,
   "id": "58656d52-6ee8-4250-99b4-a6ae83e6dcdd",
   "metadata": {},
   "outputs": [],
   "source": []
  }
 ],
 "metadata": {
  "kernelspec": {
   "display_name": "Python 3 (ipykernel)",
   "language": "python",
   "name": "python3"
  },
  "language_info": {
   "codemirror_mode": {
    "name": "ipython",
    "version": 3
   },
   "file_extension": ".py",
   "mimetype": "text/x-python",
   "name": "python",
   "nbconvert_exporter": "python",
   "pygments_lexer": "ipython3",
   "version": "3.11.5"
  }
 },
 "nbformat": 4,
 "nbformat_minor": 5
}
