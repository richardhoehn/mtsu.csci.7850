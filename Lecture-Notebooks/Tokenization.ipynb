{
 "cells": [
  {
   "cell_type": "code",
   "execution_count": 1,
   "id": "b2e1337c-8906-4830-9ddf-6aaf4aee80ac",
   "metadata": {},
   "outputs": [
    {
     "name": "stdout",
     "output_type": "stream",
     "text": [
      "Requirement already satisfied: tokenizers in /home/jphillips/.local/lib/python3.11/site-packages (0.14.1)\n",
      "Requirement already satisfied: huggingface_hub<0.18,>=0.16.4 in /home/jphillips/.local/lib/python3.11/site-packages (from tokenizers) (0.17.3)\n",
      "Requirement already satisfied: filelock in /opt/conda/lib/python3.11/site-packages (from huggingface_hub<0.18,>=0.16.4->tokenizers) (3.12.3)\n",
      "Requirement already satisfied: fsspec in /opt/conda/lib/python3.11/site-packages (from huggingface_hub<0.18,>=0.16.4->tokenizers) (2023.9.0)\n",
      "Requirement already satisfied: requests in /opt/conda/lib/python3.11/site-packages (from huggingface_hub<0.18,>=0.16.4->tokenizers) (2.31.0)\n",
      "Requirement already satisfied: tqdm>=4.42.1 in /opt/conda/lib/python3.11/site-packages (from huggingface_hub<0.18,>=0.16.4->tokenizers) (4.66.1)\n",
      "Requirement already satisfied: pyyaml>=5.1 in /opt/conda/lib/python3.11/site-packages (from huggingface_hub<0.18,>=0.16.4->tokenizers) (6.0.1)\n",
      "Requirement already satisfied: typing-extensions>=3.7.4.3 in /opt/conda/lib/python3.11/site-packages (from huggingface_hub<0.18,>=0.16.4->tokenizers) (4.5.0)\n",
      "Requirement already satisfied: packaging>=20.9 in /opt/conda/lib/python3.11/site-packages (from huggingface_hub<0.18,>=0.16.4->tokenizers) (23.1)\n",
      "Requirement already satisfied: charset-normalizer<4,>=2 in /opt/conda/lib/python3.11/site-packages (from requests->huggingface_hub<0.18,>=0.16.4->tokenizers) (3.2.0)\n",
      "Requirement already satisfied: idna<4,>=2.5 in /opt/conda/lib/python3.11/site-packages (from requests->huggingface_hub<0.18,>=0.16.4->tokenizers) (3.4)\n",
      "Requirement already satisfied: urllib3<3,>=1.21.1 in /opt/conda/lib/python3.11/site-packages (from requests->huggingface_hub<0.18,>=0.16.4->tokenizers) (1.26.16)\n",
      "Requirement already satisfied: certifi>=2017.4.17 in /opt/conda/lib/python3.11/site-packages (from requests->huggingface_hub<0.18,>=0.16.4->tokenizers) (2023.7.22)\n"
     ]
    }
   ],
   "source": [
    "! pip install --user tokenizers"
   ]
  },
  {
   "cell_type": "code",
   "execution_count": 2,
   "id": "bdb99528-9e2d-468c-b3db-dcf9756b9e34",
   "metadata": {},
   "outputs": [],
   "source": [
    "# Note that you will need to restart the kernel\n",
    "# before your will be able to use this module after\n",
    "# the above installation is completed.\n",
    "\n",
    "import os\n",
    "os.environ[\"TOKENIZERS_PARALLELISM\"] = \"false\"\n",
    "import tokenizers\n",
    "import io"
   ]
  },
  {
   "cell_type": "code",
   "execution_count": 3,
   "id": "0a11eaab-8d18-41d2-b2d2-e43c0b9e13fc",
   "metadata": {
    "tags": []
   },
   "outputs": [],
   "source": [
    "import numpy as np\n",
    "import torch\n",
    "import lightning.pytorch as pl\n",
    "import torchmetrics\n",
    "import torchvision\n",
    "from torchinfo import summary\n",
    "from torchview import draw_graph\n",
    "from IPython.display import display\n",
    "import sympy as sp\n",
    "sp.init_printing(use_latex=True)\n",
    "import pandas as pd\n",
    "import matplotlib.pyplot as plt"
   ]
  },
  {
   "cell_type": "code",
   "execution_count": 4,
   "id": "3d13f627-6170-4016-a62d-b3656f983a94",
   "metadata": {},
   "outputs": [
    {
     "name": "stdout",
     "output_type": "stream",
     "text": [
      "NVIDIA GeForce RTX 2080 Ti\n",
      "_CudaDeviceProperties(name='NVIDIA GeForce RTX 2080 Ti', major=7, minor=5, total_memory=11011MB, multi_processor_count=68)\n",
      "Number of devices: 1\n"
     ]
    }
   ],
   "source": [
    "if torch.cuda.is_available():\n",
    "    print(torch.cuda.get_device_name())\n",
    "    print(torch.cuda.get_device_properties(\"cuda\"))\n",
    "    print(\"Number of devices:\",torch.cuda.device_count())\n",
    "    device = (\"cuda\")\n",
    "else:\n",
    "    print(\"Only CPU is available...\")\n",
    "    device = (\"cpu\")"
   ]
  },
  {
   "cell_type": "code",
   "execution_count": 5,
   "id": "89d769c5-d259-4784-b5fd-4ffc9374a929",
   "metadata": {},
   "outputs": [],
   "source": [
    "import urllib\n",
    "data = []\n",
    "my_url = \"https://raw.githubusercontent.com/luisroque/deep-learning-articles/main/data/eng-por.txt\"\n",
    "with urllib.request.urlopen(my_url) as raw_data:\n",
    "    for line in raw_data:\n",
    "        data.append(line.decode(\"utf-8\").split('\\t')[0:2])\n",
    "data = np.array(data)"
   ]
  },
  {
   "cell_type": "code",
   "execution_count": 6,
   "id": "b03d7a5e-3cfc-4d10-9933-3eda5491ae5e",
   "metadata": {
    "scrolled": true
   },
   "outputs": [
    {
     "data": {
      "image/png": "[encoded data removed]",
      "text/latex": [
       "$\\displaystyle \\left( 170304, \\  2\\right)$"
      ],
      "text/plain": [
       "(170304, 2)"
      ]
     },
     "execution_count": 6,
     "metadata": {},
     "output_type": "execute_result"
    }
   ],
   "source": [
    "data.shape"
   ]
  },
  {
   "cell_type": "code",
   "execution_count": 7,
   "id": "80cac427-8b16-466a-81fe-194d59d2e3f3",
   "metadata": {},
   "outputs": [],
   "source": [
    "# Subset? - All of the data will take some time...\n",
    "n_seq = data.shape[0]\n",
    "#n_seq = 1000\n",
    "data = data[0:n_seq]\n",
    "split_point = int(data.shape[0] * 0.8) # Keep 80/20 split\n",
    "np.random.shuffle(data) # In-place modification"
   ]
  },
  {
   "cell_type": "code",
   "execution_count": 8,
   "id": "92057d47-20c8-48f8-9a2b-ce2f20a3562b",
   "metadata": {},
   "outputs": [
    {
     "data": {
      "image/png": "[encoded data removed]",
      "text/latex": [
       "$\\displaystyle \\left( 170304, \\  2\\right)$"
      ],
      "text/plain": [
       "(170304, 2)"
      ]
     },
     "execution_count": 8,
     "metadata": {},
     "output_type": "execute_result"
    }
   ],
   "source": [
    "data.shape"
   ]
  },
  {
   "cell_type": "code",
   "execution_count": 9,
   "id": "16d34218-8980-454a-bd2f-ee7358e18195",
   "metadata": {},
   "outputs": [],
   "source": [
    "eng = np.array([x[0] for x in data])\n",
    "por = np.array([x[1] for x in data])"
   ]
  },
  {
   "cell_type": "code",
   "execution_count": 10,
   "id": "fc71e238-0a10-4d3d-affc-bf8ccd76672c",
   "metadata": {},
   "outputs": [
    {
     "data": {
      "image/png": "[encoded data removed]",
      "text/latex": [
       "$\\displaystyle \\left( 170304,\\right)$"
      ],
      "text/plain": [
       "(170304,)"
      ]
     },
     "execution_count": 10,
     "metadata": {},
     "output_type": "execute_result"
    }
   ],
   "source": [
    "eng.shape"
   ]
  },
  {
   "cell_type": "code",
   "execution_count": 11,
   "id": "eebd4d98-e0bd-4fba-84b9-0c87f396ff20",
   "metadata": {},
   "outputs": [
    {
     "data": {
      "text/plain": [
       "array(['Get these people out of here.', 'I had completely forgotten.',\n",
       "       'It makes no difference to me whether he comes or not.',\n",
       "       'This is all I can do for you.', \"I don't sleep in a bed.\"],\n",
       "      dtype='<U184')"
      ]
     },
     "execution_count": 11,
     "metadata": {},
     "output_type": "execute_result"
    }
   ],
   "source": [
    "eng[0:5]"
   ]
  },
  {
   "cell_type": "code",
   "execution_count": 12,
   "id": "d4d3aefd-5f15-4876-95fe-c9fa41be5012",
   "metadata": {},
   "outputs": [
    {
     "data": {
      "image/png": "[encoded data removed]",
      "text/latex": [
       "$\\displaystyle \\left( 170304,\\right)$"
      ],
      "text/plain": [
       "(170304,)"
      ]
     },
     "execution_count": 12,
     "metadata": {},
     "output_type": "execute_result"
    }
   ],
   "source": [
    "por.shape"
   ]
  },
  {
   "cell_type": "code",
   "execution_count": 13,
   "id": "49c44a17-c675-4707-840a-7b80fd2db8e8",
   "metadata": {},
   "outputs": [],
   "source": [
    "unknown_token = \"<UNK>\"  # token for unknown words\n",
    "special_tokens = [unknown_token, \"<START>\",\"<STOP>\"]  # special tokens\n",
    "\n",
    "eng_tokenizer = tokenizers.Tokenizer(tokenizers.models.BPE(unk_token=unknown_token))\n",
    "eng_token_trainer = tokenizers.trainers.BpeTrainer(vocab_size=100000,special_tokens=special_tokens)\n",
    "eng_tokenizer.pre_tokenizer = tokenizers.pre_tokenizers.Whitespace()\n",
    "\n",
    "por_tokenizer = tokenizers.Tokenizer(tokenizers.models.BPE(unk_token=unknown_token))\n",
    "por_token_trainer = tokenizers.trainers.BpeTrainer(vocab_size=100000,special_tokens=special_tokens)\n",
    "por_tokenizer.pre_tokenizer = tokenizers.pre_tokenizers.Whitespace()"
   ]
  },
  {
   "cell_type": "code",
   "execution_count": 14,
   "id": "fd76aa81-9fc4-4c67-8af1-d52df15cf1ed",
   "metadata": {},
   "outputs": [],
   "source": [
    "with open(\"eng_strings.txt\",\"w\") as f:\n",
    "    for s in eng:\n",
    "        f.write(s)\n",
    "        f.write(\"\\n\")\n",
    "with open(\"por_strings.txt\",\"w\") as f:\n",
    "    for s in por:\n",
    "        f.write(s)\n",
    "        f.write(\"\\n\")"
   ]
  },
  {
   "cell_type": "code",
   "execution_count": 15,
   "id": "12711d3c-e11e-49e6-a81c-c26c575a96fa",
   "metadata": {},
   "outputs": [
    {
     "name": "stdout",
     "output_type": "stream",
     "text": [
      "\n",
      "\n",
      "\n",
      "\n",
      "\n",
      "\n"
     ]
    }
   ],
   "source": [
    "eng_tokenizer.train([\"eng_strings.txt\"],eng_token_trainer)\n",
    "por_tokenizer.train([\"por_strings.txt\"],por_token_trainer)"
   ]
  },
  {
   "cell_type": "code",
   "execution_count": 16,
   "id": "c80da6c1-3f27-4d55-a9cd-ac853057ab7c",
   "metadata": {},
   "outputs": [],
   "source": [
    "eng_tokenizer.save(\"eng_trained.json\")\n",
    "por_tokenizer.save(\"por_trained.json\")"
   ]
  },
  {
   "cell_type": "code",
   "execution_count": 17,
   "id": "ae8c565d-eb2d-4c2d-a3c4-4cd73c20e757",
   "metadata": {},
   "outputs": [
    {
     "data": {
      "text/plain": [
       "['Here', 'is', 'a', 'test', '.']"
      ]
     },
     "execution_count": 17,
     "metadata": {},
     "output_type": "execute_result"
    }
   ],
   "source": [
    "eng_tokenizer.encode(\"Here is a test.\").tokens"
   ]
  },
  {
   "cell_type": "code",
   "execution_count": 18,
   "id": "2508ea77-030f-49d8-94ba-df6900f383b1",
   "metadata": {},
   "outputs": [
    {
     "data": {
      "image/png": "[encoded data removed]",
      "text/latex": [
       "$\\displaystyle \\left[ 1526, \\  102, \\  52, \\  1140, \\  11\\right]$"
      ],
      "text/plain": [
       "[1526, 102, 52, 1140, 11]"
      ]
     },
     "execution_count": 18,
     "metadata": {},
     "output_type": "execute_result"
    }
   ],
   "source": [
    "temp = eng_tokenizer.encode(\"Here is a test.\").ids\n",
    "temp"
   ]
  },
  {
   "cell_type": "code",
   "execution_count": 19,
   "id": "c57af5df-75f5-4c43-9b4e-baa788a17574",
   "metadata": {},
   "outputs": [
    {
     "data": {
      "text/plain": [
       "'Here is a test .'"
      ]
     },
     "execution_count": 19,
     "metadata": {},
     "output_type": "execute_result"
    }
   ],
   "source": [
    "temp = eng_tokenizer.decode(temp + [0,0])\n",
    "temp"
   ]
  },
  {
   "cell_type": "code",
   "execution_count": 20,
   "id": "495445cd-da15-4fba-abae-22407004c803",
   "metadata": {},
   "outputs": [
    {
     "data": {
      "image/png": "[encoded data removed]",
      "text/latex": [
       "$\\displaystyle 19645$"
      ],
      "text/plain": [
       "19645"
      ]
     },
     "execution_count": 20,
     "metadata": {},
     "output_type": "execute_result"
    }
   ],
   "source": [
    "eng_tokenizer.get_vocab_size()"
   ]
  },
  {
   "cell_type": "code",
   "execution_count": 21,
   "id": "d66d61a8-bd6e-49ce-8749-9e2f140b523e",
   "metadata": {},
   "outputs": [
    {
     "data": {
      "image/png": "[encoded data removed]",
      "text/latex": [
       "$\\displaystyle 32286$"
      ],
      "text/plain": [
       "32286"
      ]
     },
     "execution_count": 21,
     "metadata": {},
     "output_type": "execute_result"
    }
   ],
   "source": [
    "por_tokenizer.get_vocab_size()"
   ]
  },
  {
   "cell_type": "code",
   "execution_count": 22,
   "id": "341299cd-2b40-4634-ac95-7998ba5b23ff",
   "metadata": {},
   "outputs": [],
   "source": [
    "eng_recoded = np.array([eng_tokenizer.decode(eng_tokenizer.encode(s).ids) for s in eng])\n",
    "por_recoded = np.array([por_tokenizer.decode(por_tokenizer.encode(s).ids) for s in por])"
   ]
  },
  {
   "cell_type": "code",
   "execution_count": 23,
   "id": "f0636413-e9de-4529-8fb6-5cf14930beae",
   "metadata": {},
   "outputs": [
    {
     "data": {
      "text/plain": [
       "'Get these people out of here .'"
      ]
     },
     "execution_count": 23,
     "metadata": {},
     "output_type": "execute_result"
    }
   ],
   "source": [
    "eng_recoded[0]"
   ]
  },
  {
   "cell_type": "code",
   "execution_count": 24,
   "id": "abe5f151-017d-4318-b0af-cf27ba53a7ae",
   "metadata": {},
   "outputs": [
    {
     "data": {
      "text/plain": [
       "'Get these people out of here.'"
      ]
     },
     "execution_count": 24,
     "metadata": {},
     "output_type": "execute_result"
    }
   ],
   "source": [
    "eng[0]"
   ]
  },
  {
   "cell_type": "code",
   "execution_count": 25,
   "id": "193bcdca-33de-496d-a28d-0ae84315d09a",
   "metadata": {},
   "outputs": [
    {
     "data": {
      "text/plain": [
       "'Tire essas pessoas daqui .'"
      ]
     },
     "execution_count": 25,
     "metadata": {},
     "output_type": "execute_result"
    }
   ],
   "source": [
    "por_recoded[0]"
   ]
  },
  {
   "cell_type": "code",
   "execution_count": 26,
   "id": "cbaeefaf-46a6-4524-b2b9-8dae11e2fc9e",
   "metadata": {},
   "outputs": [
    {
     "data": {
      "text/plain": [
       "'Tire essas pessoas daqui.'"
      ]
     },
     "execution_count": 26,
     "metadata": {},
     "output_type": "execute_result"
    }
   ],
   "source": [
    "por[0]"
   ]
  },
  {
   "cell_type": "code",
   "execution_count": 27,
   "id": "08f94cd1-c11c-4ab8-b4ce-8369ced06a59",
   "metadata": {},
   "outputs": [],
   "source": [
    "def encode_seq(x,tokenizer,max_length=0):\n",
    "    # String to integer\n",
    "    x = tokenizer.encode(\"<START>\"+x+\"<STOP>\").ids\n",
    "    x += [0]*(max_length-len(x))\n",
    "    return x\n",
    "\n",
    "def decode_seq(x,tokenizer):\n",
    "    return tokenizer.decode(x)"
   ]
  },
  {
   "cell_type": "code",
   "execution_count": 28,
   "id": "beedd960-828c-4803-99b1-347c76c517f7",
   "metadata": {},
   "outputs": [
    {
     "data": {
      "image/png": "[encoded data removed]",
      "text/latex": [
       "$\\displaystyle \\left[ 1, \\  1200, \\  892, \\  461, \\  178, \\  135, \\  175, \\  11, \\  2, \\  0, \\  0, \\  0, \\  0, \\  0, \\  0, \\  0, \\  0, \\  0, \\  0, \\  0\\right]$"
      ],
      "text/plain": [
       "[1, 1200, 892, 461, 178, 135, 175, 11, 2, 0, 0, 0, 0, 0, 0, 0, 0, 0, 0, 0]"
      ]
     },
     "execution_count": 28,
     "metadata": {},
     "output_type": "execute_result"
    }
   ],
   "source": [
    "temp = encode_seq(eng_recoded[0],eng_tokenizer,20)\n",
    "temp"
   ]
  },
  {
   "cell_type": "code",
   "execution_count": 29,
   "id": "6fdbe571-52d6-4c91-8b5f-ea4c9b44db8e",
   "metadata": {},
   "outputs": [
    {
     "data": {
      "image/png": "[encoded data removed]",
      "text/latex": [
       "$\\displaystyle 20$"
      ],
      "text/plain": [
       "20"
      ]
     },
     "execution_count": 29,
     "metadata": {},
     "output_type": "execute_result"
    }
   ],
   "source": [
    "len(temp)"
   ]
  },
  {
   "cell_type": "code",
   "execution_count": 30,
   "id": "a91dc632-04b1-4b5d-ac0f-b04954fb12d9",
   "metadata": {},
   "outputs": [
    {
     "data": {
      "text/plain": [
       "'Get these people out of here .'"
      ]
     },
     "execution_count": 30,
     "metadata": {},
     "output_type": "execute_result"
    }
   ],
   "source": [
    "decode_seq(temp,eng_tokenizer)"
   ]
  },
  {
   "cell_type": "code",
   "execution_count": 31,
   "id": "e22d2a56-071a-4206-aaa9-cb3384903fc9",
   "metadata": {},
   "outputs": [
    {
     "data": {
      "image/png": "[encoded data removed]",
      "text/latex": [
       "$\\displaystyle \\left[ 1, \\  3332, \\  1669, \\  525, \\  983, \\  12, \\  2, \\  0, \\  0, \\  0, \\  0, \\  0, \\  0, \\  0, \\  0, \\  0, \\  0, \\  0, \\  0, \\  0\\right]$"
      ],
      "text/plain": [
       "[1, 3332, 1669, 525, 983, 12, 2, 0, 0, 0, 0, 0, 0, 0, 0, 0, 0, 0, 0, 0]"
      ]
     },
     "execution_count": 31,
     "metadata": {},
     "output_type": "execute_result"
    }
   ],
   "source": [
    "temp = encode_seq(por_recoded[0],por_tokenizer,20)\n",
    "temp"
   ]
  },
  {
   "cell_type": "code",
   "execution_count": 32,
   "id": "b6339b65-5b8e-4063-bb47-251e8d758536",
   "metadata": {
    "scrolled": true
   },
   "outputs": [
    {
     "data": {
      "text/plain": [
       "'Tire essas pessoas daqui .'"
      ]
     },
     "execution_count": 32,
     "metadata": {},
     "output_type": "execute_result"
    }
   ],
   "source": [
    "decode_seq(temp,por_tokenizer)"
   ]
  },
  {
   "cell_type": "code",
   "execution_count": 33,
   "id": "c6e2ae08-92e8-4edc-9f24-7d469439ec90",
   "metadata": {},
   "outputs": [
    {
     "data": {
      "text/plain": [
       "41"
      ]
     },
     "execution_count": 33,
     "metadata": {},
     "output_type": "execute_result"
    }
   ],
   "source": [
    "max_eng = np.max([len(encode_seq(i,eng_tokenizer)) for i in eng_recoded])\n",
    "max_eng"
   ]
  },
  {
   "cell_type": "code",
   "execution_count": 34,
   "id": "193d98ed-1602-461f-af31-f410c58a8621",
   "metadata": {},
   "outputs": [
    {
     "data": {
      "text/plain": [
       "38"
      ]
     },
     "execution_count": 34,
     "metadata": {},
     "output_type": "execute_result"
    }
   ],
   "source": [
    "max_por = np.max([len(encode_seq(i,por_tokenizer)) for i in por_recoded])\n",
    "max_por"
   ]
  },
  {
   "cell_type": "code",
   "execution_count": 35,
   "id": "bea79d8f-c44d-41f7-820d-45dac1cc4976",
   "metadata": {},
   "outputs": [],
   "source": [
    "X = np.vstack([encode_seq(x,eng_tokenizer,max_eng) for x in eng_recoded])\n",
    "Y = np.vstack([encode_seq(x,por_tokenizer,max_por) for x in por_recoded])"
   ]
  },
  {
   "cell_type": "code",
   "execution_count": 36,
   "id": "a9d47be1-e955-4365-a358-ceb06144c192",
   "metadata": {},
   "outputs": [
    {
     "data": {
      "text/plain": [
       "array([[   1, 1200,  892, ...,    0,    0,    0],\n",
       "       [   1,   34,  277, ...,    0,    0,    0],\n",
       "       [   1,  192, 1112, ...,    0,    0,    0],\n",
       "       ...,\n",
       "       [   1,   99,  749, ...,    0,    0,    0],\n",
       "       [   1,  244, 3130, ...,    0,    0,    0],\n",
       "       [   1,  139, 3623, ...,    0,    0,    0]])"
      ]
     },
     "execution_count": 36,
     "metadata": {},
     "output_type": "execute_result"
    }
   ],
   "source": [
    "enc_x_train = X[:split_point]\n",
    "enc_x_val = X[split_point:]\n",
    "enc_x_train"
   ]
  },
  {
   "cell_type": "code",
   "execution_count": 37,
   "id": "d1a3c94c-9e7c-4f42-ae62-f509e8398491",
   "metadata": {},
   "outputs": [
    {
     "data": {
      "text/plain": [
       "array([[   1, 3332, 1669, ...,    0,    0,    0],\n",
       "       [   1,  735, 1661, ...,    0,    0,    0],\n",
       "       [   1,  190,  187, ...,    0,    0,    0],\n",
       "       ...,\n",
       "       [   1,  128,  762, ...,    0,    0,    0],\n",
       "       [   1,  540, 3931, ...,    0,    0,    0],\n",
       "       [   1,   41, 4998, ...,    0,    0,    0]])"
      ]
     },
     "execution_count": 37,
     "metadata": {},
     "output_type": "execute_result"
    }
   ],
   "source": [
    "dec_x_train = Y[:,0:-1][:split_point]\n",
    "dec_x_val = Y[:,0:-1][split_point:]\n",
    "dec_x_train"
   ]
  },
  {
   "cell_type": "code",
   "execution_count": 38,
   "id": "5dc6a58f-7fc5-4548-8236-646d9300a1b0",
   "metadata": {},
   "outputs": [
    {
     "data": {
      "text/plain": [
       "array([[3332, 1669,  525, ...,    0,    0,    0],\n",
       "       [ 735, 1661, 1886, ...,    0,    0,    0],\n",
       "       [ 190,  187, 2441, ...,    0,    0,    0],\n",
       "       ...,\n",
       "       [ 128,  762, 1077, ...,    0,    0,    0],\n",
       "       [ 540, 3931,   97, ...,    0,    0,    0],\n",
       "       [  41, 4998,  170, ...,    0,    0,    0]])"
      ]
     },
     "execution_count": 38,
     "metadata": {},
     "output_type": "execute_result"
    }
   ],
   "source": [
    "dec_y_train = Y[:,1:][:split_point]\n",
    "dec_y_val = Y[:,1:][split_point:]\n",
    "dec_y_train"
   ]
  },
  {
   "cell_type": "code",
   "execution_count": 39,
   "id": "0dcb2513-30d3-4282-8cb5-cce1fb1271df",
   "metadata": {},
   "outputs": [
    {
     "name": "stdout",
     "output_type": "stream",
     "text": [
      "(136243, 41)\n",
      "(136243, 37)\n",
      "(136243, 37)\n"
     ]
    }
   ],
   "source": [
    "print(enc_x_train.shape)\n",
    "print(dec_x_train.shape)\n",
    "print(dec_y_train.shape)"
   ]
  },
  {
   "cell_type": "code",
   "execution_count": 40,
   "id": "5635ea34-2c74-4aa2-88be-4628907201e7",
   "metadata": {},
   "outputs": [
    {
     "name": "stdout",
     "output_type": "stream",
     "text": [
      "(34061, 41)\n",
      "(34061, 37)\n",
      "(34061, 37)\n"
     ]
    }
   ],
   "source": [
    "print(enc_x_val.shape)\n",
    "print(dec_x_val.shape)\n",
    "print(dec_y_val.shape)"
   ]
  },
  {
   "cell_type": "markdown",
   "id": "57e1ed92-87e2-4d6e-9d73-b1e8629ab9fe",
   "metadata": {},
   "source": [
    "# Encoder-Decoder Network"
   ]
  },
  {
   "cell_type": "code",
   "execution_count": 41,
   "id": "689435fb-5415-49fb-babf-c1858bcce173",
   "metadata": {},
   "outputs": [],
   "source": [
    "class RecurrentResidual(torch.nn.Module):\n",
    "    def __init__(self,\n",
    "                 latent_size = 64,\n",
    "                 bidirectional = False,\n",
    "                 **kwargs):\n",
    "        super().__init__(**kwargs)\n",
    "        self.layer_norm = torch.nn.LayerNorm(latent_size)\n",
    "        self.rnn_layer = torch.nn.LSTM(latent_size,\n",
    "                                       latent_size // 2 if bidirectional else latent_size,\n",
    "                                       bidirectional=bidirectional,\n",
    "                                       batch_first=True)\n",
    "    def forward(self, x):\n",
    "        return x + self.rnn_layer(self.layer_norm(x))[0]"
   ]
  },
  {
   "cell_type": "markdown",
   "id": "f7e88675-91c0-419a-9e60-47e462d5c7ad",
   "metadata": {},
   "source": [
    "### Encoder Component"
   ]
  },
  {
   "cell_type": "code",
   "execution_count": 42,
   "id": "ee777295-8029-4aad-ad36-7e006917d71f",
   "metadata": {},
   "outputs": [],
   "source": [
    "class EncoderNetwork(torch.nn.Module):\n",
    "    def __init__(self,\n",
    "                 num_tokens,\n",
    "                 latent_size = 64, # Use something divisible by 2\n",
    "                 n_layers = 8,\n",
    "                 **kwargs):\n",
    "        super().__init__(**kwargs)\n",
    "        self.embedding = torch.nn.Embedding(num_tokens,\n",
    "                                            latent_size,\n",
    "                                            padding_idx=0)\n",
    "        self.dropout = torch.nn.Dropout1d(0.1) # Whole token dropped\n",
    "        self.rnn_layers = torch.nn.Sequential(*[\n",
    "            RecurrentResidual(latent_size,True) for _ in range(n_layers)\n",
    "        ])\n",
    "\n",
    "    def forward(self, x):\n",
    "        y = x\n",
    "        y = self.embedding(y)\n",
    "        y = self.dropout(y)\n",
    "        y = self.rnn_layers(y)[:,-1]\n",
    "        return y                                    "
   ]
  },
  {
   "cell_type": "code",
   "execution_count": 43,
   "id": "dd13659e-322c-40a3-8f6a-cfc84ebdebc8",
   "metadata": {},
   "outputs": [
    {
     "data": {
      "image/png": "[encoded data removed]",
      "text/latex": [
       "$\\displaystyle \\left( 5, \\  41\\right)$"
      ],
      "text/plain": [
       "(5, 41)"
      ]
     },
     "execution_count": 43,
     "metadata": {},
     "output_type": "execute_result"
    }
   ],
   "source": [
    "enc_x_train[0:5].shape"
   ]
  },
  {
   "cell_type": "code",
   "execution_count": 44,
   "id": "bfb50d41-a8da-4dbf-ba39-d88ba89732d6",
   "metadata": {
    "scrolled": true
   },
   "outputs": [
    {
     "data": {
      "text/plain": [
       "==========================================================================================\n",
       "Layer (type:depth-idx)                   Output Shape              Param #\n",
       "==========================================================================================\n",
       "EncoderNetwork                           [5, 64]                   --\n",
       "├─Embedding: 1-1                         [5, 41, 64]               1,257,280\n",
       "├─Dropout1d: 1-2                         [5, 41, 64]               --\n",
       "├─Sequential: 1-3                        [5, 41, 64]               --\n",
       "│    └─RecurrentResidual: 2-1            [5, 41, 64]               --\n",
       "│    │    └─LayerNorm: 3-1               [5, 41, 64]               128\n",
       "│    │    └─LSTM: 3-2                    [5, 41, 64]               25,088\n",
       "│    └─RecurrentResidual: 2-2            [5, 41, 64]               --\n",
       "│    │    └─LayerNorm: 3-3               [5, 41, 64]               128\n",
       "│    │    └─LSTM: 3-4                    [5, 41, 64]               25,088\n",
       "│    └─RecurrentResidual: 2-3            [5, 41, 64]               --\n",
       "│    │    └─LayerNorm: 3-5               [5, 41, 64]               128\n",
       "│    │    └─LSTM: 3-6                    [5, 41, 64]               25,088\n",
       "│    └─RecurrentResidual: 2-4            [5, 41, 64]               --\n",
       "│    │    └─LayerNorm: 3-7               [5, 41, 64]               128\n",
       "│    │    └─LSTM: 3-8                    [5, 41, 64]               25,088\n",
       "│    └─RecurrentResidual: 2-5            [5, 41, 64]               --\n",
       "│    │    └─LayerNorm: 3-9               [5, 41, 64]               128\n",
       "│    │    └─LSTM: 3-10                   [5, 41, 64]               25,088\n",
       "│    └─RecurrentResidual: 2-6            [5, 41, 64]               --\n",
       "│    │    └─LayerNorm: 3-11              [5, 41, 64]               128\n",
       "│    │    └─LSTM: 3-12                   [5, 41, 64]               25,088\n",
       "│    └─RecurrentResidual: 2-7            [5, 41, 64]               --\n",
       "│    │    └─LayerNorm: 3-13              [5, 41, 64]               128\n",
       "│    │    └─LSTM: 3-14                   [5, 41, 64]               25,088\n",
       "│    └─RecurrentResidual: 2-8            [5, 41, 64]               --\n",
       "│    │    └─LayerNorm: 3-15              [5, 41, 64]               128\n",
       "│    │    └─LSTM: 3-16                   [5, 41, 64]               25,088\n",
       "==========================================================================================\n",
       "Total params: 1,459,008\n",
       "Trainable params: 1,459,008\n",
       "Non-trainable params: 0\n",
       "Total mult-adds (Units.MEGABYTES): 47.44\n",
       "==========================================================================================\n",
       "Input size (MB): 0.00\n",
       "Forward/backward pass size (MB): 1.78\n",
       "Params size (MB): 5.84\n",
       "Estimated Total Size (MB): 7.62\n",
       "=========================================================================================="
      ]
     },
     "execution_count": 44,
     "metadata": {},
     "output_type": "execute_result"
    }
   ],
   "source": [
    "enc_net = EncoderNetwork(num_tokens=eng_tokenizer.get_vocab_size())\n",
    "\n",
    "summary(enc_net,input_data=torch.Tensor(enc_x_train[0:5]).long())"
   ]
  },
  {
   "cell_type": "code",
   "execution_count": 45,
   "id": "40090cf8-1957-4ca5-ba62-bda469aa3710",
   "metadata": {},
   "outputs": [
    {
     "data": {
      "image/svg+xml": [
       "<?xml version=\"1.0\" encoding=\"UTF-8\" standalone=\"no\"?>\n",
       "<!DOCTYPE svg PUBLIC \"-//W3C//DTD SVG 1.1//EN\"\n",
       " \"http://www.w3.org/Graphics/SVG/1.1/DTD/svg11.dtd\">\n",
       "<!-- Generated by graphviz version 8.1.0 (20230707.2238)\n",
       " -->\n",
       "<!-- Title: model Pages: 1 -->\n",
       "<svg width=\"235pt\" height=\"1404pt\"\n",
       " viewBox=\"0.00 0.00 234.51 1404.00\" xmlns=\"http://www.w3.org/2000/svg\" xmlns:xlink=\"http://www.w3.org/1999/xlink\">\n",
       "<g id=\"graph0\" class=\"graph\" transform=\"scale(0.617143 0.617143) rotate(0) translate(4 2271)\">\n",
       "<title>model</title>\n",
       "<polygon fill=\"white\" stroke=\"none\" points=\"-4,4 -4,-2271 376,-2271 376,4 -4,4\"/>\n",
       "<!-- 0 -->\n",
       "<g id=\"node1\" class=\"node\">\n",
       "<title>0</title>\n",
       "<polygon fill=\"lightyellow\" stroke=\"none\" points=\"141.88,-2267 31.12,-2267 31.12,-2231.5 141.88,-2231.5 141.88,-2267\"/>\n",
       "<polygon fill=\"none\" stroke=\"black\" points=\"31.12,-2231.5 31.12,-2267 100.38,-2267 100.38,-2231.5 31.12,-2231.5\"/>\n",
       "<text text-anchor=\"start\" x=\"36.12\" y=\"-2252.5\" font-family=\"Linux libertine\" font-size=\"10.00\">input&#45;tensor</text>\n",
       "<text text-anchor=\"start\" x=\"47.38\" y=\"-2239.75\" font-family=\"Linux libertine\" font-size=\"10.00\">depth:0</text>\n",
       "<polygon fill=\"none\" stroke=\"black\" points=\"100.38,-2231.5 100.38,-2267 141.88,-2267 141.88,-2231.5 100.38,-2231.5\"/>\n",
       "<text text-anchor=\"start\" x=\"105.38\" y=\"-2246.12\" font-family=\"Linux libertine\" font-size=\"10.00\">(5, 41)</text>\n",
       "</g>\n",
       "<!-- 1 -->\n",
       "<g id=\"node2\" class=\"node\">\n",
       "<title>1</title>\n",
       "<polygon fill=\"#c1ffc1\" stroke=\"none\" points=\"173,-2195.5 0,-2195.5 0,-2151.5 173,-2151.5 173,-2195.5\"/>\n",
       "<polygon fill=\"none\" stroke=\"black\" points=\"0,-2151.5 0,-2195.5 64,-2195.5 64,-2151.5 0,-2151.5\"/>\n",
       "<text text-anchor=\"start\" x=\"4.62\" y=\"-2176.75\" font-family=\"Linux libertine\" font-size=\"10.00\">Embedding</text>\n",
       "<text text-anchor=\"start\" x=\"13.62\" y=\"-2164\" font-family=\"Linux libertine\" font-size=\"10.00\">depth:1</text>\n",
       "<polygon fill=\"none\" stroke=\"black\" points=\"64,-2173.5 64,-2195.5 111,-2195.5 111,-2173.5 64,-2173.5\"/>\n",
       "<text text-anchor=\"start\" x=\"73.62\" y=\"-2181\" font-family=\"Linux libertine\" font-size=\"10.00\">input:</text>\n",
       "<polygon fill=\"none\" stroke=\"black\" points=\"111,-2173.5 111,-2195.5 173,-2195.5 173,-2173.5 111,-2173.5\"/>\n",
       "<text text-anchor=\"start\" x=\"124.75\" y=\"-2181\" font-family=\"Linux libertine\" font-size=\"10.00\">(5, 41) </text>\n",
       "<polygon fill=\"none\" stroke=\"black\" points=\"64,-2151.5 64,-2173.5 111,-2173.5 111,-2151.5 64,-2151.5\"/>\n",
       "<text text-anchor=\"start\" x=\"68.75\" y=\"-2159\" font-family=\"Linux libertine\" font-size=\"10.00\">output: </text>\n",
       "<polygon fill=\"none\" stroke=\"black\" points=\"111,-2151.5 111,-2173.5 173,-2173.5 173,-2151.5 111,-2151.5\"/>\n",
       "<text text-anchor=\"start\" x=\"115.75\" y=\"-2159\" font-family=\"Linux libertine\" font-size=\"10.00\">(5, 41, 64) </text>\n",
       "</g>\n",
       "<!-- 0&#45;&gt;1 -->\n",
       "<g id=\"edge1\" class=\"edge\">\n",
       "<title>0&#45;&gt;1</title>\n",
       "<path fill=\"none\" stroke=\"black\" d=\"M86.5,-2231.51C86.5,-2224.07 86.5,-2215.04 86.5,-2206.39\"/>\n",
       "<polygon fill=\"black\" stroke=\"black\" points=\"90,-2206.39 86.5,-2196.39 83,-2206.39 90,-2206.39\"/>\n",
       "</g>\n",
       "<!-- 2 -->\n",
       "<g id=\"node3\" class=\"node\">\n",
       "<title>2</title>\n",
       "<polygon fill=\"#c1ffc1\" stroke=\"none\" points=\"171.5,-2115.5 1.5,-2115.5 1.5,-2071.5 171.5,-2071.5 171.5,-2115.5\"/>\n",
       "<polygon fill=\"none\" stroke=\"black\" points=\"1.5,-2071.5 1.5,-2115.5 62.5,-2115.5 62.5,-2071.5 1.5,-2071.5\"/>\n",
       "<text text-anchor=\"start\" x=\"6.5\" y=\"-2096.75\" font-family=\"Linux libertine\" font-size=\"10.00\">Dropout1d</text>\n",
       "<text text-anchor=\"start\" x=\"13.62\" y=\"-2084\" font-family=\"Linux libertine\" font-size=\"10.00\">depth:1</text>\n",
       "<polygon fill=\"none\" stroke=\"black\" points=\"62.5,-2093.5 62.5,-2115.5 109.5,-2115.5 109.5,-2093.5 62.5,-2093.5\"/>\n",
       "<text text-anchor=\"start\" x=\"72.12\" y=\"-2101\" font-family=\"Linux libertine\" font-size=\"10.00\">input:</text>\n",
       "<polygon fill=\"none\" stroke=\"black\" points=\"109.5,-2093.5 109.5,-2115.5 171.5,-2115.5 171.5,-2093.5 109.5,-2093.5\"/>\n",
       "<text text-anchor=\"start\" x=\"114.25\" y=\"-2101\" font-family=\"Linux libertine\" font-size=\"10.00\">(5, 41, 64) </text>\n",
       "<polygon fill=\"none\" stroke=\"black\" points=\"62.5,-2071.5 62.5,-2093.5 109.5,-2093.5 109.5,-2071.5 62.5,-2071.5\"/>\n",
       "<text text-anchor=\"start\" x=\"67.25\" y=\"-2079\" font-family=\"Linux libertine\" font-size=\"10.00\">output: </text>\n",
       "<polygon fill=\"none\" stroke=\"black\" points=\"109.5,-2071.5 109.5,-2093.5 171.5,-2093.5 171.5,-2071.5 109.5,-2071.5\"/>\n",
       "<text text-anchor=\"start\" x=\"114.25\" y=\"-2079\" font-family=\"Linux libertine\" font-size=\"10.00\">(5, 41, 64) </text>\n",
       "</g>\n",
       "<!-- 1&#45;&gt;2 -->\n",
       "<g id=\"edge2\" class=\"edge\">\n",
       "<title>1&#45;&gt;2</title>\n",
       "<path fill=\"none\" stroke=\"black\" d=\"M86.5,-2151.6C86.5,-2143.82 86.5,-2134.8 86.5,-2126.26\"/>\n",
       "<polygon fill=\"black\" stroke=\"black\" points=\"90,-2126.46 86.5,-2116.46 83,-2126.46 90,-2126.46\"/>\n",
       "</g>\n",
       "<!-- 3 -->\n",
       "<g id=\"node4\" class=\"node\">\n",
       "<title>3</title>\n",
       "<polygon fill=\"#c1ffc1\" stroke=\"none\" points=\"243,-2035.5 70,-2035.5 70,-1991.5 243,-1991.5 243,-2035.5\"/>\n",
       "<polygon fill=\"none\" stroke=\"black\" points=\"70,-1991.5 70,-2035.5 134,-2035.5 134,-1991.5 70,-1991.5\"/>\n",
       "<text text-anchor=\"start\" x=\"75\" y=\"-2016.75\" font-family=\"Linux libertine\" font-size=\"10.00\">LayerNorm</text>\n",
       "<text text-anchor=\"start\" x=\"83.62\" y=\"-2004\" font-family=\"Linux libertine\" font-size=\"10.00\">depth:3</text>\n",
       "<polygon fill=\"none\" stroke=\"black\" points=\"134,-2013.5 134,-2035.5 181,-2035.5 181,-2013.5 134,-2013.5\"/>\n",
       "<text text-anchor=\"start\" x=\"143.62\" y=\"-2021\" font-family=\"Linux libertine\" font-size=\"10.00\">input:</text>\n",
       "<polygon fill=\"none\" stroke=\"black\" points=\"181,-2013.5 181,-2035.5 243,-2035.5 243,-2013.5 181,-2013.5\"/>\n",
       "<text text-anchor=\"start\" x=\"185.75\" y=\"-2021\" font-family=\"Linux libertine\" font-size=\"10.00\">(5, 41, 64) </text>\n",
       "<polygon fill=\"none\" stroke=\"black\" points=\"134,-1991.5 134,-2013.5 181,-2013.5 181,-1991.5 134,-1991.5\"/>\n",
       "<text text-anchor=\"start\" x=\"138.75\" y=\"-1999\" font-family=\"Linux libertine\" font-size=\"10.00\">output: </text>\n",
       "<polygon fill=\"none\" stroke=\"black\" points=\"181,-1991.5 181,-2013.5 243,-2013.5 243,-1991.5 181,-1991.5\"/>\n",
       "<text text-anchor=\"start\" x=\"185.75\" y=\"-1999\" font-family=\"Linux libertine\" font-size=\"10.00\">(5, 41, 64) </text>\n",
       "</g>\n",
       "<!-- 2&#45;&gt;3 -->\n",
       "<g id=\"edge3\" class=\"edge\">\n",
       "<title>2&#45;&gt;3</title>\n",
       "<path fill=\"none\" stroke=\"black\" d=\"M105.26,-2071.6C113.03,-2062.94 122.17,-2052.76 130.56,-2043.41\"/>\n",
       "<polygon fill=\"black\" stroke=\"black\" points=\"132.62,-2046.24 136.69,-2036.46 127.41,-2041.57 132.62,-2046.24\"/>\n",
       "</g>\n",
       "<!-- 5 -->\n",
       "<g id=\"node6\" class=\"node\">\n",
       "<title>5</title>\n",
       "<polygon fill=\"aliceblue\" stroke=\"none\" points=\"186,-1875.5 13,-1875.5 13,-1831.5 186,-1831.5 186,-1875.5\"/>\n",
       "<polygon fill=\"none\" stroke=\"black\" points=\"13,-1831.5 13,-1875.5 59,-1875.5 59,-1831.5 13,-1831.5\"/>\n",
       "<text text-anchor=\"start\" x=\"27\" y=\"-1856.75\" font-family=\"Linux libertine\" font-size=\"10.00\">add</text>\n",
       "<text text-anchor=\"start\" x=\"17.62\" y=\"-1844\" font-family=\"Linux libertine\" font-size=\"10.00\">depth:3</text>\n",
       "<polygon fill=\"none\" stroke=\"black\" points=\"59,-1853.5 59,-1875.5 106,-1875.5 106,-1853.5 59,-1853.5\"/>\n",
       "<text text-anchor=\"start\" x=\"68.62\" y=\"-1861\" font-family=\"Linux libertine\" font-size=\"10.00\">input:</text>\n",
       "<polygon fill=\"none\" stroke=\"black\" points=\"106,-1853.5 106,-1875.5 186,-1875.5 186,-1853.5 106,-1853.5\"/>\n",
       "<text text-anchor=\"start\" x=\"110.75\" y=\"-1861\" font-family=\"Linux libertine\" font-size=\"10.00\">2 x (5, 41, 64) </text>\n",
       "<polygon fill=\"none\" stroke=\"black\" points=\"59,-1831.5 59,-1853.5 106,-1853.5 106,-1831.5 59,-1831.5\"/>\n",
       "<text text-anchor=\"start\" x=\"63.75\" y=\"-1839\" font-family=\"Linux libertine\" font-size=\"10.00\">output: </text>\n",
       "<polygon fill=\"none\" stroke=\"black\" points=\"106,-1831.5 106,-1853.5 186,-1853.5 186,-1831.5 106,-1831.5\"/>\n",
       "<text text-anchor=\"start\" x=\"119.75\" y=\"-1839\" font-family=\"Linux libertine\" font-size=\"10.00\">(5, 41, 64) </text>\n",
       "</g>\n",
       "<!-- 2&#45;&gt;5 -->\n",
       "<g id=\"edge4\" class=\"edge\">\n",
       "<title>2&#45;&gt;5</title>\n",
       "<path fill=\"none\" stroke=\"black\" d=\"M74.61,-2071.54C56.74,-2037.18 27.24,-1967.14 48.5,-1911.5 52.45,-1901.17 59.22,-1891.54 66.56,-1883.23\"/>\n",
       "<polygon fill=\"black\" stroke=\"black\" points=\"68.66,-1886.05 73.01,-1876.39 63.59,-1881.23 68.66,-1886.05\"/>\n",
       "</g>\n",
       "<!-- 4 -->\n",
       "<g id=\"node5\" class=\"node\">\n",
       "<title>4</title>\n",
       "<polygon fill=\"#c1ffc1\" stroke=\"none\" points=\"281,-1955.5 58,-1955.5 58,-1911.5 281,-1911.5 281,-1955.5\"/>\n",
       "<polygon fill=\"none\" stroke=\"black\" points=\"58,-1911.5 58,-1955.5 104,-1955.5 104,-1911.5 58,-1911.5\"/>\n",
       "<text text-anchor=\"start\" x=\"67.88\" y=\"-1936.75\" font-family=\"Linux libertine\" font-size=\"10.00\">LSTM</text>\n",
       "<text text-anchor=\"start\" x=\"62.62\" y=\"-1924\" font-family=\"Linux libertine\" font-size=\"10.00\">depth:3</text>\n",
       "<polygon fill=\"none\" stroke=\"black\" points=\"104,-1933.5 104,-1955.5 151,-1955.5 151,-1933.5 104,-1933.5\"/>\n",
       "<text text-anchor=\"start\" x=\"113.62\" y=\"-1941\" font-family=\"Linux libertine\" font-size=\"10.00\">input:</text>\n",
       "<polygon fill=\"none\" stroke=\"black\" points=\"151,-1933.5 151,-1955.5 281,-1955.5 281,-1933.5 151,-1933.5\"/>\n",
       "<text text-anchor=\"start\" x=\"189.75\" y=\"-1941\" font-family=\"Linux libertine\" font-size=\"10.00\">(5, 41, 64) </text>\n",
       "<polygon fill=\"none\" stroke=\"black\" points=\"104,-1911.5 104,-1933.5 151,-1933.5 151,-1911.5 104,-1911.5\"/>\n",
       "<text text-anchor=\"start\" x=\"108.75\" y=\"-1919\" font-family=\"Linux libertine\" font-size=\"10.00\">output: </text>\n",
       "<polygon fill=\"none\" stroke=\"black\" points=\"151,-1911.5 151,-1933.5 281,-1933.5 281,-1911.5 151,-1911.5\"/>\n",
       "<text text-anchor=\"start\" x=\"156\" y=\"-1919\" font-family=\"Linux libertine\" font-size=\"10.00\">(5, 41, 64), 2 x (2, 5, 32) </text>\n",
       "</g>\n",
       "<!-- 3&#45;&gt;4 -->\n",
       "<g id=\"edge5\" class=\"edge\">\n",
       "<title>3&#45;&gt;4</title>\n",
       "<path fill=\"none\" stroke=\"black\" d=\"M159.98,-1991.6C161.28,-1983.82 162.78,-1974.8 164.21,-1966.26\"/>\n",
       "<polygon fill=\"black\" stroke=\"black\" points=\"167.81,-1966.9 166.01,-1956.46 160.91,-1965.75 167.81,-1966.9\"/>\n",
       "</g>\n",
       "<!-- 4&#45;&gt;5 -->\n",
       "<g id=\"edge6\" class=\"edge\">\n",
       "<title>4&#45;&gt;5</title>\n",
       "<path fill=\"none\" stroke=\"black\" d=\"M150.74,-1911.6C142.97,-1902.94 133.83,-1892.76 125.44,-1883.41\"/>\n",
       "<polygon fill=\"black\" stroke=\"black\" points=\"128.59,-1881.57 119.31,-1876.46 123.38,-1886.24 128.59,-1881.57\"/>\n",
       "</g>\n",
       "<!-- 6 -->\n",
       "<g id=\"node7\" class=\"node\">\n",
       "<title>6</title>\n",
       "<polygon fill=\"#c1ffc1\" stroke=\"none\" points=\"256,-1795.5 83,-1795.5 83,-1751.5 256,-1751.5 256,-1795.5\"/>\n",
       "<polygon fill=\"none\" stroke=\"black\" points=\"83,-1751.5 83,-1795.5 147,-1795.5 147,-1751.5 83,-1751.5\"/>\n",
       "<text text-anchor=\"start\" x=\"88\" y=\"-1776.75\" font-family=\"Linux libertine\" font-size=\"10.00\">LayerNorm</text>\n",
       "<text text-anchor=\"start\" x=\"96.62\" y=\"-1764\" font-family=\"Linux libertine\" font-size=\"10.00\">depth:3</text>\n",
       "<polygon fill=\"none\" stroke=\"black\" points=\"147,-1773.5 147,-1795.5 194,-1795.5 194,-1773.5 147,-1773.5\"/>\n",
       "<text text-anchor=\"start\" x=\"156.62\" y=\"-1781\" font-family=\"Linux libertine\" font-size=\"10.00\">input:</text>\n",
       "<polygon fill=\"none\" stroke=\"black\" points=\"194,-1773.5 194,-1795.5 256,-1795.5 256,-1773.5 194,-1773.5\"/>\n",
       "<text text-anchor=\"start\" x=\"198.75\" y=\"-1781\" font-family=\"Linux libertine\" font-size=\"10.00\">(5, 41, 64) </text>\n",
       "<polygon fill=\"none\" stroke=\"black\" points=\"147,-1751.5 147,-1773.5 194,-1773.5 194,-1751.5 147,-1751.5\"/>\n",
       "<text text-anchor=\"start\" x=\"151.75\" y=\"-1759\" font-family=\"Linux libertine\" font-size=\"10.00\">output: </text>\n",
       "<polygon fill=\"none\" stroke=\"black\" points=\"194,-1751.5 194,-1773.5 256,-1773.5 256,-1751.5 194,-1751.5\"/>\n",
       "<text text-anchor=\"start\" x=\"198.75\" y=\"-1759\" font-family=\"Linux libertine\" font-size=\"10.00\">(5, 41, 64) </text>\n",
       "</g>\n",
       "<!-- 5&#45;&gt;6 -->\n",
       "<g id=\"edge7\" class=\"edge\">\n",
       "<title>5&#45;&gt;6</title>\n",
       "<path fill=\"none\" stroke=\"black\" d=\"M118.26,-1831.6C126.03,-1822.94 135.17,-1812.76 143.56,-1803.41\"/>\n",
       "<polygon fill=\"black\" stroke=\"black\" points=\"145.62,-1806.24 149.69,-1796.46 140.41,-1801.57 145.62,-1806.24\"/>\n",
       "</g>\n",
       "<!-- 8 -->\n",
       "<g id=\"node9\" class=\"node\">\n",
       "<title>8</title>\n",
       "<polygon fill=\"aliceblue\" stroke=\"none\" points=\"199,-1635.5 26,-1635.5 26,-1591.5 199,-1591.5 199,-1635.5\"/>\n",
       "<polygon fill=\"none\" stroke=\"black\" points=\"26,-1591.5 26,-1635.5 72,-1635.5 72,-1591.5 26,-1591.5\"/>\n",
       "<text text-anchor=\"start\" x=\"40\" y=\"-1616.75\" font-family=\"Linux libertine\" font-size=\"10.00\">add</text>\n",
       "<text text-anchor=\"start\" x=\"30.62\" y=\"-1604\" font-family=\"Linux libertine\" font-size=\"10.00\">depth:3</text>\n",
       "<polygon fill=\"none\" stroke=\"black\" points=\"72,-1613.5 72,-1635.5 119,-1635.5 119,-1613.5 72,-1613.5\"/>\n",
       "<text text-anchor=\"start\" x=\"81.62\" y=\"-1621\" font-family=\"Linux libertine\" font-size=\"10.00\">input:</text>\n",
       "<polygon fill=\"none\" stroke=\"black\" points=\"119,-1613.5 119,-1635.5 199,-1635.5 199,-1613.5 119,-1613.5\"/>\n",
       "<text text-anchor=\"start\" x=\"123.75\" y=\"-1621\" font-family=\"Linux libertine\" font-size=\"10.00\">2 x (5, 41, 64) </text>\n",
       "<polygon fill=\"none\" stroke=\"black\" points=\"72,-1591.5 72,-1613.5 119,-1613.5 119,-1591.5 72,-1591.5\"/>\n",
       "<text text-anchor=\"start\" x=\"76.75\" y=\"-1599\" font-family=\"Linux libertine\" font-size=\"10.00\">output: </text>\n",
       "<polygon fill=\"none\" stroke=\"black\" points=\"119,-1591.5 119,-1613.5 199,-1613.5 199,-1591.5 119,-1591.5\"/>\n",
       "<text text-anchor=\"start\" x=\"132.75\" y=\"-1599\" font-family=\"Linux libertine\" font-size=\"10.00\">(5, 41, 64) </text>\n",
       "</g>\n",
       "<!-- 5&#45;&gt;8 -->\n",
       "<g id=\"edge8\" class=\"edge\">\n",
       "<title>5&#45;&gt;8</title>\n",
       "<path fill=\"none\" stroke=\"black\" d=\"M87.61,-1831.54C69.74,-1797.18 40.24,-1727.14 61.5,-1671.5 65.45,-1661.17 72.22,-1651.54 79.56,-1643.23\"/>\n",
       "<polygon fill=\"black\" stroke=\"black\" points=\"81.66,-1646.05 86.01,-1636.39 76.59,-1641.23 81.66,-1646.05\"/>\n",
       "</g>\n",
       "<!-- 7 -->\n",
       "<g id=\"node8\" class=\"node\">\n",
       "<title>7</title>\n",
       "<polygon fill=\"#c1ffc1\" stroke=\"none\" points=\"294,-1715.5 71,-1715.5 71,-1671.5 294,-1671.5 294,-1715.5\"/>\n",
       "<polygon fill=\"none\" stroke=\"black\" points=\"71,-1671.5 71,-1715.5 117,-1715.5 117,-1671.5 71,-1671.5\"/>\n",
       "<text text-anchor=\"start\" x=\"80.88\" y=\"-1696.75\" font-family=\"Linux libertine\" font-size=\"10.00\">LSTM</text>\n",
       "<text text-anchor=\"start\" x=\"75.62\" y=\"-1684\" font-family=\"Linux libertine\" font-size=\"10.00\">depth:3</text>\n",
       "<polygon fill=\"none\" stroke=\"black\" points=\"117,-1693.5 117,-1715.5 164,-1715.5 164,-1693.5 117,-1693.5\"/>\n",
       "<text text-anchor=\"start\" x=\"126.62\" y=\"-1701\" font-family=\"Linux libertine\" font-size=\"10.00\">input:</text>\n",
       "<polygon fill=\"none\" stroke=\"black\" points=\"164,-1693.5 164,-1715.5 294,-1715.5 294,-1693.5 164,-1693.5\"/>\n",
       "<text text-anchor=\"start\" x=\"202.75\" y=\"-1701\" font-family=\"Linux libertine\" font-size=\"10.00\">(5, 41, 64) </text>\n",
       "<polygon fill=\"none\" stroke=\"black\" points=\"117,-1671.5 117,-1693.5 164,-1693.5 164,-1671.5 117,-1671.5\"/>\n",
       "<text text-anchor=\"start\" x=\"121.75\" y=\"-1679\" font-family=\"Linux libertine\" font-size=\"10.00\">output: </text>\n",
       "<polygon fill=\"none\" stroke=\"black\" points=\"164,-1671.5 164,-1693.5 294,-1693.5 294,-1671.5 164,-1671.5\"/>\n",
       "<text text-anchor=\"start\" x=\"169\" y=\"-1679\" font-family=\"Linux libertine\" font-size=\"10.00\">(5, 41, 64), 2 x (2, 5, 32) </text>\n",
       "</g>\n",
       "<!-- 6&#45;&gt;7 -->\n",
       "<g id=\"edge9\" class=\"edge\">\n",
       "<title>6&#45;&gt;7</title>\n",
       "<path fill=\"none\" stroke=\"black\" d=\"M172.98,-1751.6C174.28,-1743.82 175.78,-1734.8 177.21,-1726.26\"/>\n",
       "<polygon fill=\"black\" stroke=\"black\" points=\"180.81,-1726.9 179.01,-1716.46 173.91,-1725.75 180.81,-1726.9\"/>\n",
       "</g>\n",
       "<!-- 7&#45;&gt;8 -->\n",
       "<g id=\"edge10\" class=\"edge\">\n",
       "<title>7&#45;&gt;8</title>\n",
       "<path fill=\"none\" stroke=\"black\" d=\"M163.74,-1671.6C155.97,-1662.94 146.83,-1652.76 138.44,-1643.41\"/>\n",
       "<polygon fill=\"black\" stroke=\"black\" points=\"141.59,-1641.57 132.31,-1636.46 136.38,-1646.24 141.59,-1641.57\"/>\n",
       "</g>\n",
       "<!-- 9 -->\n",
       "<g id=\"node10\" class=\"node\">\n",
       "<title>9</title>\n",
       "<polygon fill=\"#c1ffc1\" stroke=\"none\" points=\"269,-1555.5 96,-1555.5 96,-1511.5 269,-1511.5 269,-1555.5\"/>\n",
       "<polygon fill=\"none\" stroke=\"black\" points=\"96,-1511.5 96,-1555.5 160,-1555.5 160,-1511.5 96,-1511.5\"/>\n",
       "<text text-anchor=\"start\" x=\"101\" y=\"-1536.75\" font-family=\"Linux libertine\" font-size=\"10.00\">LayerNorm</text>\n",
       "<text text-anchor=\"start\" x=\"109.62\" y=\"-1524\" font-family=\"Linux libertine\" font-size=\"10.00\">depth:3</text>\n",
       "<polygon fill=\"none\" stroke=\"black\" points=\"160,-1533.5 160,-1555.5 207,-1555.5 207,-1533.5 160,-1533.5\"/>\n",
       "<text text-anchor=\"start\" x=\"169.62\" y=\"-1541\" font-family=\"Linux libertine\" font-size=\"10.00\">input:</text>\n",
       "<polygon fill=\"none\" stroke=\"black\" points=\"207,-1533.5 207,-1555.5 269,-1555.5 269,-1533.5 207,-1533.5\"/>\n",
       "<text text-anchor=\"start\" x=\"211.75\" y=\"-1541\" font-family=\"Linux libertine\" font-size=\"10.00\">(5, 41, 64) </text>\n",
       "<polygon fill=\"none\" stroke=\"black\" points=\"160,-1511.5 160,-1533.5 207,-1533.5 207,-1511.5 160,-1511.5\"/>\n",
       "<text text-anchor=\"start\" x=\"164.75\" y=\"-1519\" font-family=\"Linux libertine\" font-size=\"10.00\">output: </text>\n",
       "<polygon fill=\"none\" stroke=\"black\" points=\"207,-1511.5 207,-1533.5 269,-1533.5 269,-1511.5 207,-1511.5\"/>\n",
       "<text text-anchor=\"start\" x=\"211.75\" y=\"-1519\" font-family=\"Linux libertine\" font-size=\"10.00\">(5, 41, 64) </text>\n",
       "</g>\n",
       "<!-- 8&#45;&gt;9 -->\n",
       "<g id=\"edge11\" class=\"edge\">\n",
       "<title>8&#45;&gt;9</title>\n",
       "<path fill=\"none\" stroke=\"black\" d=\"M131.26,-1591.6C139.03,-1582.94 148.17,-1572.76 156.56,-1563.41\"/>\n",
       "<polygon fill=\"black\" stroke=\"black\" points=\"158.62,-1566.24 162.69,-1556.46 153.41,-1561.57 158.62,-1566.24\"/>\n",
       "</g>\n",
       "<!-- 11 -->\n",
       "<g id=\"node12\" class=\"node\">\n",
       "<title>11</title>\n",
       "<polygon fill=\"aliceblue\" stroke=\"none\" points=\"212,-1395.5 39,-1395.5 39,-1351.5 212,-1351.5 212,-1395.5\"/>\n",
       "<polygon fill=\"none\" stroke=\"black\" points=\"39,-1351.5 39,-1395.5 85,-1395.5 85,-1351.5 39,-1351.5\"/>\n",
       "<text text-anchor=\"start\" x=\"53\" y=\"-1376.75\" font-family=\"Linux libertine\" font-size=\"10.00\">add</text>\n",
       "<text text-anchor=\"start\" x=\"43.62\" y=\"-1364\" font-family=\"Linux libertine\" font-size=\"10.00\">depth:3</text>\n",
       "<polygon fill=\"none\" stroke=\"black\" points=\"85,-1373.5 85,-1395.5 132,-1395.5 132,-1373.5 85,-1373.5\"/>\n",
       "<text text-anchor=\"start\" x=\"94.62\" y=\"-1381\" font-family=\"Linux libertine\" font-size=\"10.00\">input:</text>\n",
       "<polygon fill=\"none\" stroke=\"black\" points=\"132,-1373.5 132,-1395.5 212,-1395.5 212,-1373.5 132,-1373.5\"/>\n",
       "<text text-anchor=\"start\" x=\"136.75\" y=\"-1381\" font-family=\"Linux libertine\" font-size=\"10.00\">2 x (5, 41, 64) </text>\n",
       "<polygon fill=\"none\" stroke=\"black\" points=\"85,-1351.5 85,-1373.5 132,-1373.5 132,-1351.5 85,-1351.5\"/>\n",
       "<text text-anchor=\"start\" x=\"89.75\" y=\"-1359\" font-family=\"Linux libertine\" font-size=\"10.00\">output: </text>\n",
       "<polygon fill=\"none\" stroke=\"black\" points=\"132,-1351.5 132,-1373.5 212,-1373.5 212,-1351.5 132,-1351.5\"/>\n",
       "<text text-anchor=\"start\" x=\"145.75\" y=\"-1359\" font-family=\"Linux libertine\" font-size=\"10.00\">(5, 41, 64) </text>\n",
       "</g>\n",
       "<!-- 8&#45;&gt;11 -->\n",
       "<g id=\"edge12\" class=\"edge\">\n",
       "<title>8&#45;&gt;11</title>\n",
       "<path fill=\"none\" stroke=\"black\" d=\"M100.61,-1591.54C82.74,-1557.18 53.24,-1487.14 74.5,-1431.5 78.45,-1421.17 85.22,-1411.54 92.56,-1403.23\"/>\n",
       "<polygon fill=\"black\" stroke=\"black\" points=\"94.66,-1406.05 99.01,-1396.39 89.59,-1401.23 94.66,-1406.05\"/>\n",
       "</g>\n",
       "<!-- 10 -->\n",
       "<g id=\"node11\" class=\"node\">\n",
       "<title>10</title>\n",
       "<polygon fill=\"#c1ffc1\" stroke=\"none\" points=\"307,-1475.5 84,-1475.5 84,-1431.5 307,-1431.5 307,-1475.5\"/>\n",
       "<polygon fill=\"none\" stroke=\"black\" points=\"84,-1431.5 84,-1475.5 130,-1475.5 130,-1431.5 84,-1431.5\"/>\n",
       "<text text-anchor=\"start\" x=\"93.88\" y=\"-1456.75\" font-family=\"Linux libertine\" font-size=\"10.00\">LSTM</text>\n",
       "<text text-anchor=\"start\" x=\"88.62\" y=\"-1444\" font-family=\"Linux libertine\" font-size=\"10.00\">depth:3</text>\n",
       "<polygon fill=\"none\" stroke=\"black\" points=\"130,-1453.5 130,-1475.5 177,-1475.5 177,-1453.5 130,-1453.5\"/>\n",
       "<text text-anchor=\"start\" x=\"139.62\" y=\"-1461\" font-family=\"Linux libertine\" font-size=\"10.00\">input:</text>\n",
       "<polygon fill=\"none\" stroke=\"black\" points=\"177,-1453.5 177,-1475.5 307,-1475.5 307,-1453.5 177,-1453.5\"/>\n",
       "<text text-anchor=\"start\" x=\"215.75\" y=\"-1461\" font-family=\"Linux libertine\" font-size=\"10.00\">(5, 41, 64) </text>\n",
       "<polygon fill=\"none\" stroke=\"black\" points=\"130,-1431.5 130,-1453.5 177,-1453.5 177,-1431.5 130,-1431.5\"/>\n",
       "<text text-anchor=\"start\" x=\"134.75\" y=\"-1439\" font-family=\"Linux libertine\" font-size=\"10.00\">output: </text>\n",
       "<polygon fill=\"none\" stroke=\"black\" points=\"177,-1431.5 177,-1453.5 307,-1453.5 307,-1431.5 177,-1431.5\"/>\n",
       "<text text-anchor=\"start\" x=\"182\" y=\"-1439\" font-family=\"Linux libertine\" font-size=\"10.00\">(5, 41, 64), 2 x (2, 5, 32) </text>\n",
       "</g>\n",
       "<!-- 9&#45;&gt;10 -->\n",
       "<g id=\"edge13\" class=\"edge\">\n",
       "<title>9&#45;&gt;10</title>\n",
       "<path fill=\"none\" stroke=\"black\" d=\"M185.98,-1511.6C187.28,-1503.82 188.78,-1494.8 190.21,-1486.26\"/>\n",
       "<polygon fill=\"black\" stroke=\"black\" points=\"193.81,-1486.9 192.01,-1476.46 186.91,-1485.75 193.81,-1486.9\"/>\n",
       "</g>\n",
       "<!-- 10&#45;&gt;11 -->\n",
       "<g id=\"edge14\" class=\"edge\">\n",
       "<title>10&#45;&gt;11</title>\n",
       "<path fill=\"none\" stroke=\"black\" d=\"M176.74,-1431.6C168.97,-1422.94 159.83,-1412.76 151.44,-1403.41\"/>\n",
       "<polygon fill=\"black\" stroke=\"black\" points=\"154.59,-1401.57 145.31,-1396.46 149.38,-1406.24 154.59,-1401.57\"/>\n",
       "</g>\n",
       "<!-- 12 -->\n",
       "<g id=\"node13\" class=\"node\">\n",
       "<title>12</title>\n",
       "<polygon fill=\"#c1ffc1\" stroke=\"none\" points=\"282,-1315.5 109,-1315.5 109,-1271.5 282,-1271.5 282,-1315.5\"/>\n",
       "<polygon fill=\"none\" stroke=\"black\" points=\"109,-1271.5 109,-1315.5 173,-1315.5 173,-1271.5 109,-1271.5\"/>\n",
       "<text text-anchor=\"start\" x=\"114\" y=\"-1296.75\" font-family=\"Linux libertine\" font-size=\"10.00\">LayerNorm</text>\n",
       "<text text-anchor=\"start\" x=\"122.62\" y=\"-1284\" font-family=\"Linux libertine\" font-size=\"10.00\">depth:3</text>\n",
       "<polygon fill=\"none\" stroke=\"black\" points=\"173,-1293.5 173,-1315.5 220,-1315.5 220,-1293.5 173,-1293.5\"/>\n",
       "<text text-anchor=\"start\" x=\"182.62\" y=\"-1301\" font-family=\"Linux libertine\" font-size=\"10.00\">input:</text>\n",
       "<polygon fill=\"none\" stroke=\"black\" points=\"220,-1293.5 220,-1315.5 282,-1315.5 282,-1293.5 220,-1293.5\"/>\n",
       "<text text-anchor=\"start\" x=\"224.75\" y=\"-1301\" font-family=\"Linux libertine\" font-size=\"10.00\">(5, 41, 64) </text>\n",
       "<polygon fill=\"none\" stroke=\"black\" points=\"173,-1271.5 173,-1293.5 220,-1293.5 220,-1271.5 173,-1271.5\"/>\n",
       "<text text-anchor=\"start\" x=\"177.75\" y=\"-1279\" font-family=\"Linux libertine\" font-size=\"10.00\">output: </text>\n",
       "<polygon fill=\"none\" stroke=\"black\" points=\"220,-1271.5 220,-1293.5 282,-1293.5 282,-1271.5 220,-1271.5\"/>\n",
       "<text text-anchor=\"start\" x=\"224.75\" y=\"-1279\" font-family=\"Linux libertine\" font-size=\"10.00\">(5, 41, 64) </text>\n",
       "</g>\n",
       "<!-- 11&#45;&gt;12 -->\n",
       "<g id=\"edge15\" class=\"edge\">\n",
       "<title>11&#45;&gt;12</title>\n",
       "<path fill=\"none\" stroke=\"black\" d=\"M144.26,-1351.6C152.03,-1342.94 161.17,-1332.76 169.56,-1323.41\"/>\n",
       "<polygon fill=\"black\" stroke=\"black\" points=\"171.62,-1326.24 175.69,-1316.46 166.41,-1321.57 171.62,-1326.24\"/>\n",
       "</g>\n",
       "<!-- 14 -->\n",
       "<g id=\"node15\" class=\"node\">\n",
       "<title>14</title>\n",
       "<polygon fill=\"aliceblue\" stroke=\"none\" points=\"225,-1155.5 52,-1155.5 52,-1111.5 225,-1111.5 225,-1155.5\"/>\n",
       "<polygon fill=\"none\" stroke=\"black\" points=\"52,-1111.5 52,-1155.5 98,-1155.5 98,-1111.5 52,-1111.5\"/>\n",
       "<text text-anchor=\"start\" x=\"66\" y=\"-1136.75\" font-family=\"Linux libertine\" font-size=\"10.00\">add</text>\n",
       "<text text-anchor=\"start\" x=\"56.62\" y=\"-1124\" font-family=\"Linux libertine\" font-size=\"10.00\">depth:3</text>\n",
       "<polygon fill=\"none\" stroke=\"black\" points=\"98,-1133.5 98,-1155.5 145,-1155.5 145,-1133.5 98,-1133.5\"/>\n",
       "<text text-anchor=\"start\" x=\"107.62\" y=\"-1141\" font-family=\"Linux libertine\" font-size=\"10.00\">input:</text>\n",
       "<polygon fill=\"none\" stroke=\"black\" points=\"145,-1133.5 145,-1155.5 225,-1155.5 225,-1133.5 145,-1133.5\"/>\n",
       "<text text-anchor=\"start\" x=\"149.75\" y=\"-1141\" font-family=\"Linux libertine\" font-size=\"10.00\">2 x (5, 41, 64) </text>\n",
       "<polygon fill=\"none\" stroke=\"black\" points=\"98,-1111.5 98,-1133.5 145,-1133.5 145,-1111.5 98,-1111.5\"/>\n",
       "<text text-anchor=\"start\" x=\"102.75\" y=\"-1119\" font-family=\"Linux libertine\" font-size=\"10.00\">output: </text>\n",
       "<polygon fill=\"none\" stroke=\"black\" points=\"145,-1111.5 145,-1133.5 225,-1133.5 225,-1111.5 145,-1111.5\"/>\n",
       "<text text-anchor=\"start\" x=\"158.75\" y=\"-1119\" font-family=\"Linux libertine\" font-size=\"10.00\">(5, 41, 64) </text>\n",
       "</g>\n",
       "<!-- 11&#45;&gt;14 -->\n",
       "<g id=\"edge16\" class=\"edge\">\n",
       "<title>11&#45;&gt;14</title>\n",
       "<path fill=\"none\" stroke=\"black\" d=\"M113.61,-1351.54C95.74,-1317.18 66.24,-1247.14 87.5,-1191.5 91.45,-1181.17 98.22,-1171.54 105.56,-1163.23\"/>\n",
       "<polygon fill=\"black\" stroke=\"black\" points=\"107.66,-1166.05 112.01,-1156.39 102.59,-1161.23 107.66,-1166.05\"/>\n",
       "</g>\n",
       "<!-- 13 -->\n",
       "<g id=\"node14\" class=\"node\">\n",
       "<title>13</title>\n",
       "<polygon fill=\"#c1ffc1\" stroke=\"none\" points=\"320,-1235.5 97,-1235.5 97,-1191.5 320,-1191.5 320,-1235.5\"/>\n",
       "<polygon fill=\"none\" stroke=\"black\" points=\"97,-1191.5 97,-1235.5 143,-1235.5 143,-1191.5 97,-1191.5\"/>\n",
       "<text text-anchor=\"start\" x=\"106.88\" y=\"-1216.75\" font-family=\"Linux libertine\" font-size=\"10.00\">LSTM</text>\n",
       "<text text-anchor=\"start\" x=\"101.62\" y=\"-1204\" font-family=\"Linux libertine\" font-size=\"10.00\">depth:3</text>\n",
       "<polygon fill=\"none\" stroke=\"black\" points=\"143,-1213.5 143,-1235.5 190,-1235.5 190,-1213.5 143,-1213.5\"/>\n",
       "<text text-anchor=\"start\" x=\"152.62\" y=\"-1221\" font-family=\"Linux libertine\" font-size=\"10.00\">input:</text>\n",
       "<polygon fill=\"none\" stroke=\"black\" points=\"190,-1213.5 190,-1235.5 320,-1235.5 320,-1213.5 190,-1213.5\"/>\n",
       "<text text-anchor=\"start\" x=\"228.75\" y=\"-1221\" font-family=\"Linux libertine\" font-size=\"10.00\">(5, 41, 64) </text>\n",
       "<polygon fill=\"none\" stroke=\"black\" points=\"143,-1191.5 143,-1213.5 190,-1213.5 190,-1191.5 143,-1191.5\"/>\n",
       "<text text-anchor=\"start\" x=\"147.75\" y=\"-1199\" font-family=\"Linux libertine\" font-size=\"10.00\">output: </text>\n",
       "<polygon fill=\"none\" stroke=\"black\" points=\"190,-1191.5 190,-1213.5 320,-1213.5 320,-1191.5 190,-1191.5\"/>\n",
       "<text text-anchor=\"start\" x=\"195\" y=\"-1199\" font-family=\"Linux libertine\" font-size=\"10.00\">(5, 41, 64), 2 x (2, 5, 32) </text>\n",
       "</g>\n",
       "<!-- 12&#45;&gt;13 -->\n",
       "<g id=\"edge17\" class=\"edge\">\n",
       "<title>12&#45;&gt;13</title>\n",
       "<path fill=\"none\" stroke=\"black\" d=\"M198.98,-1271.6C200.28,-1263.82 201.78,-1254.8 203.21,-1246.26\"/>\n",
       "<polygon fill=\"black\" stroke=\"black\" points=\"206.81,-1246.9 205.01,-1236.46 199.91,-1245.75 206.81,-1246.9\"/>\n",
       "</g>\n",
       "<!-- 13&#45;&gt;14 -->\n",
       "<g id=\"edge18\" class=\"edge\">\n",
       "<title>13&#45;&gt;14</title>\n",
       "<path fill=\"none\" stroke=\"black\" d=\"M189.74,-1191.6C181.97,-1182.94 172.83,-1172.76 164.44,-1163.41\"/>\n",
       "<polygon fill=\"black\" stroke=\"black\" points=\"167.59,-1161.57 158.31,-1156.46 162.38,-1166.24 167.59,-1161.57\"/>\n",
       "</g>\n",
       "<!-- 15 -->\n",
       "<g id=\"node16\" class=\"node\">\n",
       "<title>15</title>\n",
       "<polygon fill=\"#c1ffc1\" stroke=\"none\" points=\"295,-1075.5 122,-1075.5 122,-1031.5 295,-1031.5 295,-1075.5\"/>\n",
       "<polygon fill=\"none\" stroke=\"black\" points=\"122,-1031.5 122,-1075.5 186,-1075.5 186,-1031.5 122,-1031.5\"/>\n",
       "<text text-anchor=\"start\" x=\"127\" y=\"-1056.75\" font-family=\"Linux libertine\" font-size=\"10.00\">LayerNorm</text>\n",
       "<text text-anchor=\"start\" x=\"135.62\" y=\"-1044\" font-family=\"Linux libertine\" font-size=\"10.00\">depth:3</text>\n",
       "<polygon fill=\"none\" stroke=\"black\" points=\"186,-1053.5 186,-1075.5 233,-1075.5 233,-1053.5 186,-1053.5\"/>\n",
       "<text text-anchor=\"start\" x=\"195.62\" y=\"-1061\" font-family=\"Linux libertine\" font-size=\"10.00\">input:</text>\n",
       "<polygon fill=\"none\" stroke=\"black\" points=\"233,-1053.5 233,-1075.5 295,-1075.5 295,-1053.5 233,-1053.5\"/>\n",
       "<text text-anchor=\"start\" x=\"237.75\" y=\"-1061\" font-family=\"Linux libertine\" font-size=\"10.00\">(5, 41, 64) </text>\n",
       "<polygon fill=\"none\" stroke=\"black\" points=\"186,-1031.5 186,-1053.5 233,-1053.5 233,-1031.5 186,-1031.5\"/>\n",
       "<text text-anchor=\"start\" x=\"190.75\" y=\"-1039\" font-family=\"Linux libertine\" font-size=\"10.00\">output: </text>\n",
       "<polygon fill=\"none\" stroke=\"black\" points=\"233,-1031.5 233,-1053.5 295,-1053.5 295,-1031.5 233,-1031.5\"/>\n",
       "<text text-anchor=\"start\" x=\"237.75\" y=\"-1039\" font-family=\"Linux libertine\" font-size=\"10.00\">(5, 41, 64) </text>\n",
       "</g>\n",
       "<!-- 14&#45;&gt;15 -->\n",
       "<g id=\"edge19\" class=\"edge\">\n",
       "<title>14&#45;&gt;15</title>\n",
       "<path fill=\"none\" stroke=\"black\" d=\"M157.26,-1111.6C165.03,-1102.94 174.17,-1092.76 182.56,-1083.41\"/>\n",
       "<polygon fill=\"black\" stroke=\"black\" points=\"184.62,-1086.24 188.69,-1076.46 179.41,-1081.57 184.62,-1086.24\"/>\n",
       "</g>\n",
       "<!-- 17 -->\n",
       "<g id=\"node18\" class=\"node\">\n",
       "<title>17</title>\n",
       "<polygon fill=\"aliceblue\" stroke=\"none\" points=\"238,-915.5 65,-915.5 65,-871.5 238,-871.5 238,-915.5\"/>\n",
       "<polygon fill=\"none\" stroke=\"black\" points=\"65,-871.5 65,-915.5 111,-915.5 111,-871.5 65,-871.5\"/>\n",
       "<text text-anchor=\"start\" x=\"79\" y=\"-896.75\" font-family=\"Linux libertine\" font-size=\"10.00\">add</text>\n",
       "<text text-anchor=\"start\" x=\"69.62\" y=\"-884\" font-family=\"Linux libertine\" font-size=\"10.00\">depth:3</text>\n",
       "<polygon fill=\"none\" stroke=\"black\" points=\"111,-893.5 111,-915.5 158,-915.5 158,-893.5 111,-893.5\"/>\n",
       "<text text-anchor=\"start\" x=\"120.62\" y=\"-901\" font-family=\"Linux libertine\" font-size=\"10.00\">input:</text>\n",
       "<polygon fill=\"none\" stroke=\"black\" points=\"158,-893.5 158,-915.5 238,-915.5 238,-893.5 158,-893.5\"/>\n",
       "<text text-anchor=\"start\" x=\"162.75\" y=\"-901\" font-family=\"Linux libertine\" font-size=\"10.00\">2 x (5, 41, 64) </text>\n",
       "<polygon fill=\"none\" stroke=\"black\" points=\"111,-871.5 111,-893.5 158,-893.5 158,-871.5 111,-871.5\"/>\n",
       "<text text-anchor=\"start\" x=\"115.75\" y=\"-879\" font-family=\"Linux libertine\" font-size=\"10.00\">output: </text>\n",
       "<polygon fill=\"none\" stroke=\"black\" points=\"158,-871.5 158,-893.5 238,-893.5 238,-871.5 158,-871.5\"/>\n",
       "<text text-anchor=\"start\" x=\"171.75\" y=\"-879\" font-family=\"Linux libertine\" font-size=\"10.00\">(5, 41, 64) </text>\n",
       "</g>\n",
       "<!-- 14&#45;&gt;17 -->\n",
       "<g id=\"edge20\" class=\"edge\">\n",
       "<title>14&#45;&gt;17</title>\n",
       "<path fill=\"none\" stroke=\"black\" d=\"M126.61,-1111.54C108.74,-1077.18 79.24,-1007.14 100.5,-951.5 104.45,-941.17 111.22,-931.54 118.56,-923.23\"/>\n",
       "<polygon fill=\"black\" stroke=\"black\" points=\"120.66,-926.05 125.01,-916.39 115.59,-921.23 120.66,-926.05\"/>\n",
       "</g>\n",
       "<!-- 16 -->\n",
       "<g id=\"node17\" class=\"node\">\n",
       "<title>16</title>\n",
       "<polygon fill=\"#c1ffc1\" stroke=\"none\" points=\"333,-995.5 110,-995.5 110,-951.5 333,-951.5 333,-995.5\"/>\n",
       "<polygon fill=\"none\" stroke=\"black\" points=\"110,-951.5 110,-995.5 156,-995.5 156,-951.5 110,-951.5\"/>\n",
       "<text text-anchor=\"start\" x=\"119.88\" y=\"-976.75\" font-family=\"Linux libertine\" font-size=\"10.00\">LSTM</text>\n",
       "<text text-anchor=\"start\" x=\"114.62\" y=\"-964\" font-family=\"Linux libertine\" font-size=\"10.00\">depth:3</text>\n",
       "<polygon fill=\"none\" stroke=\"black\" points=\"156,-973.5 156,-995.5 203,-995.5 203,-973.5 156,-973.5\"/>\n",
       "<text text-anchor=\"start\" x=\"165.62\" y=\"-981\" font-family=\"Linux libertine\" font-size=\"10.00\">input:</text>\n",
       "<polygon fill=\"none\" stroke=\"black\" points=\"203,-973.5 203,-995.5 333,-995.5 333,-973.5 203,-973.5\"/>\n",
       "<text text-anchor=\"start\" x=\"241.75\" y=\"-981\" font-family=\"Linux libertine\" font-size=\"10.00\">(5, 41, 64) </text>\n",
       "<polygon fill=\"none\" stroke=\"black\" points=\"156,-951.5 156,-973.5 203,-973.5 203,-951.5 156,-951.5\"/>\n",
       "<text text-anchor=\"start\" x=\"160.75\" y=\"-959\" font-family=\"Linux libertine\" font-size=\"10.00\">output: </text>\n",
       "<polygon fill=\"none\" stroke=\"black\" points=\"203,-951.5 203,-973.5 333,-973.5 333,-951.5 203,-951.5\"/>\n",
       "<text text-anchor=\"start\" x=\"208\" y=\"-959\" font-family=\"Linux libertine\" font-size=\"10.00\">(5, 41, 64), 2 x (2, 5, 32) </text>\n",
       "</g>\n",
       "<!-- 15&#45;&gt;16 -->\n",
       "<g id=\"edge21\" class=\"edge\">\n",
       "<title>15&#45;&gt;16</title>\n",
       "<path fill=\"none\" stroke=\"black\" d=\"M211.98,-1031.6C213.28,-1023.82 214.78,-1014.8 216.21,-1006.26\"/>\n",
       "<polygon fill=\"black\" stroke=\"black\" points=\"219.81,-1006.9 218.01,-996.46 212.91,-1005.75 219.81,-1006.9\"/>\n",
       "</g>\n",
       "<!-- 16&#45;&gt;17 -->\n",
       "<g id=\"edge22\" class=\"edge\">\n",
       "<title>16&#45;&gt;17</title>\n",
       "<path fill=\"none\" stroke=\"black\" d=\"M202.74,-951.6C194.97,-942.94 185.83,-932.76 177.44,-923.41\"/>\n",
       "<polygon fill=\"black\" stroke=\"black\" points=\"180.59,-921.57 171.31,-916.46 175.38,-926.24 180.59,-921.57\"/>\n",
       "</g>\n",
       "<!-- 18 -->\n",
       "<g id=\"node19\" class=\"node\">\n",
       "<title>18</title>\n",
       "<polygon fill=\"#c1ffc1\" stroke=\"none\" points=\"308,-835.5 135,-835.5 135,-791.5 308,-791.5 308,-835.5\"/>\n",
       "<polygon fill=\"none\" stroke=\"black\" points=\"135,-791.5 135,-835.5 199,-835.5 199,-791.5 135,-791.5\"/>\n",
       "<text text-anchor=\"start\" x=\"140\" y=\"-816.75\" font-family=\"Linux libertine\" font-size=\"10.00\">LayerNorm</text>\n",
       "<text text-anchor=\"start\" x=\"148.62\" y=\"-804\" font-family=\"Linux libertine\" font-size=\"10.00\">depth:3</text>\n",
       "<polygon fill=\"none\" stroke=\"black\" points=\"199,-813.5 199,-835.5 246,-835.5 246,-813.5 199,-813.5\"/>\n",
       "<text text-anchor=\"start\" x=\"208.62\" y=\"-821\" font-family=\"Linux libertine\" font-size=\"10.00\">input:</text>\n",
       "<polygon fill=\"none\" stroke=\"black\" points=\"246,-813.5 246,-835.5 308,-835.5 308,-813.5 246,-813.5\"/>\n",
       "<text text-anchor=\"start\" x=\"250.75\" y=\"-821\" font-family=\"Linux libertine\" font-size=\"10.00\">(5, 41, 64) </text>\n",
       "<polygon fill=\"none\" stroke=\"black\" points=\"199,-791.5 199,-813.5 246,-813.5 246,-791.5 199,-791.5\"/>\n",
       "<text text-anchor=\"start\" x=\"203.75\" y=\"-799\" font-family=\"Linux libertine\" font-size=\"10.00\">output: </text>\n",
       "<polygon fill=\"none\" stroke=\"black\" points=\"246,-791.5 246,-813.5 308,-813.5 308,-791.5 246,-791.5\"/>\n",
       "<text text-anchor=\"start\" x=\"250.75\" y=\"-799\" font-family=\"Linux libertine\" font-size=\"10.00\">(5, 41, 64) </text>\n",
       "</g>\n",
       "<!-- 17&#45;&gt;18 -->\n",
       "<g id=\"edge23\" class=\"edge\">\n",
       "<title>17&#45;&gt;18</title>\n",
       "<path fill=\"none\" stroke=\"black\" d=\"M170.26,-871.6C178.03,-862.94 187.17,-852.76 195.56,-843.41\"/>\n",
       "<polygon fill=\"black\" stroke=\"black\" points=\"197.62,-846.24 201.69,-836.46 192.41,-841.57 197.62,-846.24\"/>\n",
       "</g>\n",
       "<!-- 20 -->\n",
       "<g id=\"node21\" class=\"node\">\n",
       "<title>20</title>\n",
       "<polygon fill=\"aliceblue\" stroke=\"none\" points=\"251,-675.5 78,-675.5 78,-631.5 251,-631.5 251,-675.5\"/>\n",
       "<polygon fill=\"none\" stroke=\"black\" points=\"78,-631.5 78,-675.5 124,-675.5 124,-631.5 78,-631.5\"/>\n",
       "<text text-anchor=\"start\" x=\"92\" y=\"-656.75\" font-family=\"Linux libertine\" font-size=\"10.00\">add</text>\n",
       "<text text-anchor=\"start\" x=\"82.62\" y=\"-644\" font-family=\"Linux libertine\" font-size=\"10.00\">depth:3</text>\n",
       "<polygon fill=\"none\" stroke=\"black\" points=\"124,-653.5 124,-675.5 171,-675.5 171,-653.5 124,-653.5\"/>\n",
       "<text text-anchor=\"start\" x=\"133.62\" y=\"-661\" font-family=\"Linux libertine\" font-size=\"10.00\">input:</text>\n",
       "<polygon fill=\"none\" stroke=\"black\" points=\"171,-653.5 171,-675.5 251,-675.5 251,-653.5 171,-653.5\"/>\n",
       "<text text-anchor=\"start\" x=\"175.75\" y=\"-661\" font-family=\"Linux libertine\" font-size=\"10.00\">2 x (5, 41, 64) </text>\n",
       "<polygon fill=\"none\" stroke=\"black\" points=\"124,-631.5 124,-653.5 171,-653.5 171,-631.5 124,-631.5\"/>\n",
       "<text text-anchor=\"start\" x=\"128.75\" y=\"-639\" font-family=\"Linux libertine\" font-size=\"10.00\">output: </text>\n",
       "<polygon fill=\"none\" stroke=\"black\" points=\"171,-631.5 171,-653.5 251,-653.5 251,-631.5 171,-631.5\"/>\n",
       "<text text-anchor=\"start\" x=\"184.75\" y=\"-639\" font-family=\"Linux libertine\" font-size=\"10.00\">(5, 41, 64) </text>\n",
       "</g>\n",
       "<!-- 17&#45;&gt;20 -->\n",
       "<g id=\"edge24\" class=\"edge\">\n",
       "<title>17&#45;&gt;20</title>\n",
       "<path fill=\"none\" stroke=\"black\" d=\"M139.61,-871.54C121.74,-837.18 92.24,-767.14 113.5,-711.5 117.45,-701.17 124.22,-691.54 131.56,-683.23\"/>\n",
       "<polygon fill=\"black\" stroke=\"black\" points=\"133.66,-686.05 138.01,-676.39 128.59,-681.23 133.66,-686.05\"/>\n",
       "</g>\n",
       "<!-- 19 -->\n",
       "<g id=\"node20\" class=\"node\">\n",
       "<title>19</title>\n",
       "<polygon fill=\"#c1ffc1\" stroke=\"none\" points=\"346,-755.5 123,-755.5 123,-711.5 346,-711.5 346,-755.5\"/>\n",
       "<polygon fill=\"none\" stroke=\"black\" points=\"123,-711.5 123,-755.5 169,-755.5 169,-711.5 123,-711.5\"/>\n",
       "<text text-anchor=\"start\" x=\"132.88\" y=\"-736.75\" font-family=\"Linux libertine\" font-size=\"10.00\">LSTM</text>\n",
       "<text text-anchor=\"start\" x=\"127.62\" y=\"-724\" font-family=\"Linux libertine\" font-size=\"10.00\">depth:3</text>\n",
       "<polygon fill=\"none\" stroke=\"black\" points=\"169,-733.5 169,-755.5 216,-755.5 216,-733.5 169,-733.5\"/>\n",
       "<text text-anchor=\"start\" x=\"178.62\" y=\"-741\" font-family=\"Linux libertine\" font-size=\"10.00\">input:</text>\n",
       "<polygon fill=\"none\" stroke=\"black\" points=\"216,-733.5 216,-755.5 346,-755.5 346,-733.5 216,-733.5\"/>\n",
       "<text text-anchor=\"start\" x=\"254.75\" y=\"-741\" font-family=\"Linux libertine\" font-size=\"10.00\">(5, 41, 64) </text>\n",
       "<polygon fill=\"none\" stroke=\"black\" points=\"169,-711.5 169,-733.5 216,-733.5 216,-711.5 169,-711.5\"/>\n",
       "<text text-anchor=\"start\" x=\"173.75\" y=\"-719\" font-family=\"Linux libertine\" font-size=\"10.00\">output: </text>\n",
       "<polygon fill=\"none\" stroke=\"black\" points=\"216,-711.5 216,-733.5 346,-733.5 346,-711.5 216,-711.5\"/>\n",
       "<text text-anchor=\"start\" x=\"221\" y=\"-719\" font-family=\"Linux libertine\" font-size=\"10.00\">(5, 41, 64), 2 x (2, 5, 32) </text>\n",
       "</g>\n",
       "<!-- 18&#45;&gt;19 -->\n",
       "<g id=\"edge25\" class=\"edge\">\n",
       "<title>18&#45;&gt;19</title>\n",
       "<path fill=\"none\" stroke=\"black\" d=\"M224.98,-791.6C226.28,-783.82 227.78,-774.8 229.21,-766.26\"/>\n",
       "<polygon fill=\"black\" stroke=\"black\" points=\"232.81,-766.9 231.01,-756.46 225.91,-765.75 232.81,-766.9\"/>\n",
       "</g>\n",
       "<!-- 19&#45;&gt;20 -->\n",
       "<g id=\"edge26\" class=\"edge\">\n",
       "<title>19&#45;&gt;20</title>\n",
       "<path fill=\"none\" stroke=\"black\" d=\"M215.74,-711.6C207.97,-702.94 198.83,-692.76 190.44,-683.41\"/>\n",
       "<polygon fill=\"black\" stroke=\"black\" points=\"193.59,-681.57 184.31,-676.46 188.38,-686.24 193.59,-681.57\"/>\n",
       "</g>\n",
       "<!-- 21 -->\n",
       "<g id=\"node22\" class=\"node\">\n",
       "<title>21</title>\n",
       "<polygon fill=\"#c1ffc1\" stroke=\"none\" points=\"321,-595.5 148,-595.5 148,-551.5 321,-551.5 321,-595.5\"/>\n",
       "<polygon fill=\"none\" stroke=\"black\" points=\"148,-551.5 148,-595.5 212,-595.5 212,-551.5 148,-551.5\"/>\n",
       "<text text-anchor=\"start\" x=\"153\" y=\"-576.75\" font-family=\"Linux libertine\" font-size=\"10.00\">LayerNorm</text>\n",
       "<text text-anchor=\"start\" x=\"161.62\" y=\"-564\" font-family=\"Linux libertine\" font-size=\"10.00\">depth:3</text>\n",
       "<polygon fill=\"none\" stroke=\"black\" points=\"212,-573.5 212,-595.5 259,-595.5 259,-573.5 212,-573.5\"/>\n",
       "<text text-anchor=\"start\" x=\"221.62\" y=\"-581\" font-family=\"Linux libertine\" font-size=\"10.00\">input:</text>\n",
       "<polygon fill=\"none\" stroke=\"black\" points=\"259,-573.5 259,-595.5 321,-595.5 321,-573.5 259,-573.5\"/>\n",
       "<text text-anchor=\"start\" x=\"263.75\" y=\"-581\" font-family=\"Linux libertine\" font-size=\"10.00\">(5, 41, 64) </text>\n",
       "<polygon fill=\"none\" stroke=\"black\" points=\"212,-551.5 212,-573.5 259,-573.5 259,-551.5 212,-551.5\"/>\n",
       "<text text-anchor=\"start\" x=\"216.75\" y=\"-559\" font-family=\"Linux libertine\" font-size=\"10.00\">output: </text>\n",
       "<polygon fill=\"none\" stroke=\"black\" points=\"259,-551.5 259,-573.5 321,-573.5 321,-551.5 259,-551.5\"/>\n",
       "<text text-anchor=\"start\" x=\"263.75\" y=\"-559\" font-family=\"Linux libertine\" font-size=\"10.00\">(5, 41, 64) </text>\n",
       "</g>\n",
       "<!-- 20&#45;&gt;21 -->\n",
       "<g id=\"edge27\" class=\"edge\">\n",
       "<title>20&#45;&gt;21</title>\n",
       "<path fill=\"none\" stroke=\"black\" d=\"M183.26,-631.6C191.03,-622.94 200.17,-612.76 208.56,-603.41\"/>\n",
       "<polygon fill=\"black\" stroke=\"black\" points=\"210.62,-606.24 214.69,-596.46 205.41,-601.57 210.62,-606.24\"/>\n",
       "</g>\n",
       "<!-- 23 -->\n",
       "<g id=\"node24\" class=\"node\">\n",
       "<title>23</title>\n",
       "<polygon fill=\"aliceblue\" stroke=\"none\" points=\"264,-435.5 91,-435.5 91,-391.5 264,-391.5 264,-435.5\"/>\n",
       "<polygon fill=\"none\" stroke=\"black\" points=\"91,-391.5 91,-435.5 137,-435.5 137,-391.5 91,-391.5\"/>\n",
       "<text text-anchor=\"start\" x=\"105\" y=\"-416.75\" font-family=\"Linux libertine\" font-size=\"10.00\">add</text>\n",
       "<text text-anchor=\"start\" x=\"95.62\" y=\"-404\" font-family=\"Linux libertine\" font-size=\"10.00\">depth:3</text>\n",
       "<polygon fill=\"none\" stroke=\"black\" points=\"137,-413.5 137,-435.5 184,-435.5 184,-413.5 137,-413.5\"/>\n",
       "<text text-anchor=\"start\" x=\"146.62\" y=\"-421\" font-family=\"Linux libertine\" font-size=\"10.00\">input:</text>\n",
       "<polygon fill=\"none\" stroke=\"black\" points=\"184,-413.5 184,-435.5 264,-435.5 264,-413.5 184,-413.5\"/>\n",
       "<text text-anchor=\"start\" x=\"188.75\" y=\"-421\" font-family=\"Linux libertine\" font-size=\"10.00\">2 x (5, 41, 64) </text>\n",
       "<polygon fill=\"none\" stroke=\"black\" points=\"137,-391.5 137,-413.5 184,-413.5 184,-391.5 137,-391.5\"/>\n",
       "<text text-anchor=\"start\" x=\"141.75\" y=\"-399\" font-family=\"Linux libertine\" font-size=\"10.00\">output: </text>\n",
       "<polygon fill=\"none\" stroke=\"black\" points=\"184,-391.5 184,-413.5 264,-413.5 264,-391.5 184,-391.5\"/>\n",
       "<text text-anchor=\"start\" x=\"197.75\" y=\"-399\" font-family=\"Linux libertine\" font-size=\"10.00\">(5, 41, 64) </text>\n",
       "</g>\n",
       "<!-- 20&#45;&gt;23 -->\n",
       "<g id=\"edge28\" class=\"edge\">\n",
       "<title>20&#45;&gt;23</title>\n",
       "<path fill=\"none\" stroke=\"black\" d=\"M152.61,-631.54C134.74,-597.18 105.24,-527.14 126.5,-471.5 130.45,-461.17 137.22,-451.54 144.56,-443.23\"/>\n",
       "<polygon fill=\"black\" stroke=\"black\" points=\"146.66,-446.05 151.01,-436.39 141.59,-441.23 146.66,-446.05\"/>\n",
       "</g>\n",
       "<!-- 22 -->\n",
       "<g id=\"node23\" class=\"node\">\n",
       "<title>22</title>\n",
       "<polygon fill=\"#c1ffc1\" stroke=\"none\" points=\"359,-515.5 136,-515.5 136,-471.5 359,-471.5 359,-515.5\"/>\n",
       "<polygon fill=\"none\" stroke=\"black\" points=\"136,-471.5 136,-515.5 182,-515.5 182,-471.5 136,-471.5\"/>\n",
       "<text text-anchor=\"start\" x=\"145.88\" y=\"-496.75\" font-family=\"Linux libertine\" font-size=\"10.00\">LSTM</text>\n",
       "<text text-anchor=\"start\" x=\"140.62\" y=\"-484\" font-family=\"Linux libertine\" font-size=\"10.00\">depth:3</text>\n",
       "<polygon fill=\"none\" stroke=\"black\" points=\"182,-493.5 182,-515.5 229,-515.5 229,-493.5 182,-493.5\"/>\n",
       "<text text-anchor=\"start\" x=\"191.62\" y=\"-501\" font-family=\"Linux libertine\" font-size=\"10.00\">input:</text>\n",
       "<polygon fill=\"none\" stroke=\"black\" points=\"229,-493.5 229,-515.5 359,-515.5 359,-493.5 229,-493.5\"/>\n",
       "<text text-anchor=\"start\" x=\"267.75\" y=\"-501\" font-family=\"Linux libertine\" font-size=\"10.00\">(5, 41, 64) </text>\n",
       "<polygon fill=\"none\" stroke=\"black\" points=\"182,-471.5 182,-493.5 229,-493.5 229,-471.5 182,-471.5\"/>\n",
       "<text text-anchor=\"start\" x=\"186.75\" y=\"-479\" font-family=\"Linux libertine\" font-size=\"10.00\">output: </text>\n",
       "<polygon fill=\"none\" stroke=\"black\" points=\"229,-471.5 229,-493.5 359,-493.5 359,-471.5 229,-471.5\"/>\n",
       "<text text-anchor=\"start\" x=\"234\" y=\"-479\" font-family=\"Linux libertine\" font-size=\"10.00\">(5, 41, 64), 2 x (2, 5, 32) </text>\n",
       "</g>\n",
       "<!-- 21&#45;&gt;22 -->\n",
       "<g id=\"edge29\" class=\"edge\">\n",
       "<title>21&#45;&gt;22</title>\n",
       "<path fill=\"none\" stroke=\"black\" d=\"M237.98,-551.6C239.28,-543.82 240.78,-534.8 242.21,-526.26\"/>\n",
       "<polygon fill=\"black\" stroke=\"black\" points=\"245.81,-526.9 244.01,-516.46 238.91,-525.75 245.81,-526.9\"/>\n",
       "</g>\n",
       "<!-- 22&#45;&gt;23 -->\n",
       "<g id=\"edge30\" class=\"edge\">\n",
       "<title>22&#45;&gt;23</title>\n",
       "<path fill=\"none\" stroke=\"black\" d=\"M228.74,-471.6C220.97,-462.94 211.83,-452.76 203.44,-443.41\"/>\n",
       "<polygon fill=\"black\" stroke=\"black\" points=\"206.59,-441.57 197.31,-436.46 201.38,-446.24 206.59,-441.57\"/>\n",
       "</g>\n",
       "<!-- 24 -->\n",
       "<g id=\"node25\" class=\"node\">\n",
       "<title>24</title>\n",
       "<polygon fill=\"#c1ffc1\" stroke=\"none\" points=\"334,-355.5 161,-355.5 161,-311.5 334,-311.5 334,-355.5\"/>\n",
       "<polygon fill=\"none\" stroke=\"black\" points=\"161,-311.5 161,-355.5 225,-355.5 225,-311.5 161,-311.5\"/>\n",
       "<text text-anchor=\"start\" x=\"166\" y=\"-336.75\" font-family=\"Linux libertine\" font-size=\"10.00\">LayerNorm</text>\n",
       "<text text-anchor=\"start\" x=\"174.62\" y=\"-324\" font-family=\"Linux libertine\" font-size=\"10.00\">depth:3</text>\n",
       "<polygon fill=\"none\" stroke=\"black\" points=\"225,-333.5 225,-355.5 272,-355.5 272,-333.5 225,-333.5\"/>\n",
       "<text text-anchor=\"start\" x=\"234.62\" y=\"-341\" font-family=\"Linux libertine\" font-size=\"10.00\">input:</text>\n",
       "<polygon fill=\"none\" stroke=\"black\" points=\"272,-333.5 272,-355.5 334,-355.5 334,-333.5 272,-333.5\"/>\n",
       "<text text-anchor=\"start\" x=\"276.75\" y=\"-341\" font-family=\"Linux libertine\" font-size=\"10.00\">(5, 41, 64) </text>\n",
       "<polygon fill=\"none\" stroke=\"black\" points=\"225,-311.5 225,-333.5 272,-333.5 272,-311.5 225,-311.5\"/>\n",
       "<text text-anchor=\"start\" x=\"229.75\" y=\"-319\" font-family=\"Linux libertine\" font-size=\"10.00\">output: </text>\n",
       "<polygon fill=\"none\" stroke=\"black\" points=\"272,-311.5 272,-333.5 334,-333.5 334,-311.5 272,-311.5\"/>\n",
       "<text text-anchor=\"start\" x=\"276.75\" y=\"-319\" font-family=\"Linux libertine\" font-size=\"10.00\">(5, 41, 64) </text>\n",
       "</g>\n",
       "<!-- 23&#45;&gt;24 -->\n",
       "<g id=\"edge31\" class=\"edge\">\n",
       "<title>23&#45;&gt;24</title>\n",
       "<path fill=\"none\" stroke=\"black\" d=\"M196.26,-391.6C204.03,-382.94 213.17,-372.76 221.56,-363.41\"/>\n",
       "<polygon fill=\"black\" stroke=\"black\" points=\"223.62,-366.24 227.69,-356.46 218.41,-361.57 223.62,-366.24\"/>\n",
       "</g>\n",
       "<!-- 26 -->\n",
       "<g id=\"node27\" class=\"node\">\n",
       "<title>26</title>\n",
       "<polygon fill=\"aliceblue\" stroke=\"none\" points=\"277,-195.5 104,-195.5 104,-151.5 277,-151.5 277,-195.5\"/>\n",
       "<polygon fill=\"none\" stroke=\"black\" points=\"104,-151.5 104,-195.5 150,-195.5 150,-151.5 104,-151.5\"/>\n",
       "<text text-anchor=\"start\" x=\"118\" y=\"-176.75\" font-family=\"Linux libertine\" font-size=\"10.00\">add</text>\n",
       "<text text-anchor=\"start\" x=\"108.62\" y=\"-164\" font-family=\"Linux libertine\" font-size=\"10.00\">depth:3</text>\n",
       "<polygon fill=\"none\" stroke=\"black\" points=\"150,-173.5 150,-195.5 197,-195.5 197,-173.5 150,-173.5\"/>\n",
       "<text text-anchor=\"start\" x=\"159.62\" y=\"-181\" font-family=\"Linux libertine\" font-size=\"10.00\">input:</text>\n",
       "<polygon fill=\"none\" stroke=\"black\" points=\"197,-173.5 197,-195.5 277,-195.5 277,-173.5 197,-173.5\"/>\n",
       "<text text-anchor=\"start\" x=\"201.75\" y=\"-181\" font-family=\"Linux libertine\" font-size=\"10.00\">2 x (5, 41, 64) </text>\n",
       "<polygon fill=\"none\" stroke=\"black\" points=\"150,-151.5 150,-173.5 197,-173.5 197,-151.5 150,-151.5\"/>\n",
       "<text text-anchor=\"start\" x=\"154.75\" y=\"-159\" font-family=\"Linux libertine\" font-size=\"10.00\">output: </text>\n",
       "<polygon fill=\"none\" stroke=\"black\" points=\"197,-151.5 197,-173.5 277,-173.5 277,-151.5 197,-151.5\"/>\n",
       "<text text-anchor=\"start\" x=\"210.75\" y=\"-159\" font-family=\"Linux libertine\" font-size=\"10.00\">(5, 41, 64) </text>\n",
       "</g>\n",
       "<!-- 23&#45;&gt;26 -->\n",
       "<g id=\"edge32\" class=\"edge\">\n",
       "<title>23&#45;&gt;26</title>\n",
       "<path fill=\"none\" stroke=\"black\" d=\"M165.61,-391.54C147.74,-357.18 118.24,-287.14 139.5,-231.5 143.45,-221.17 150.22,-211.54 157.56,-203.23\"/>\n",
       "<polygon fill=\"black\" stroke=\"black\" points=\"159.66,-206.05 164.01,-196.39 154.59,-201.23 159.66,-206.05\"/>\n",
       "</g>\n",
       "<!-- 25 -->\n",
       "<g id=\"node26\" class=\"node\">\n",
       "<title>25</title>\n",
       "<polygon fill=\"#c1ffc1\" stroke=\"none\" points=\"372,-275.5 149,-275.5 149,-231.5 372,-231.5 372,-275.5\"/>\n",
       "<polygon fill=\"none\" stroke=\"black\" points=\"149,-231.5 149,-275.5 195,-275.5 195,-231.5 149,-231.5\"/>\n",
       "<text text-anchor=\"start\" x=\"158.88\" y=\"-256.75\" font-family=\"Linux libertine\" font-size=\"10.00\">LSTM</text>\n",
       "<text text-anchor=\"start\" x=\"153.62\" y=\"-244\" font-family=\"Linux libertine\" font-size=\"10.00\">depth:3</text>\n",
       "<polygon fill=\"none\" stroke=\"black\" points=\"195,-253.5 195,-275.5 242,-275.5 242,-253.5 195,-253.5\"/>\n",
       "<text text-anchor=\"start\" x=\"204.62\" y=\"-261\" font-family=\"Linux libertine\" font-size=\"10.00\">input:</text>\n",
       "<polygon fill=\"none\" stroke=\"black\" points=\"242,-253.5 242,-275.5 372,-275.5 372,-253.5 242,-253.5\"/>\n",
       "<text text-anchor=\"start\" x=\"280.75\" y=\"-261\" font-family=\"Linux libertine\" font-size=\"10.00\">(5, 41, 64) </text>\n",
       "<polygon fill=\"none\" stroke=\"black\" points=\"195,-231.5 195,-253.5 242,-253.5 242,-231.5 195,-231.5\"/>\n",
       "<text text-anchor=\"start\" x=\"199.75\" y=\"-239\" font-family=\"Linux libertine\" font-size=\"10.00\">output: </text>\n",
       "<polygon fill=\"none\" stroke=\"black\" points=\"242,-231.5 242,-253.5 372,-253.5 372,-231.5 242,-231.5\"/>\n",
       "<text text-anchor=\"start\" x=\"247\" y=\"-239\" font-family=\"Linux libertine\" font-size=\"10.00\">(5, 41, 64), 2 x (2, 5, 32) </text>\n",
       "</g>\n",
       "<!-- 24&#45;&gt;25 -->\n",
       "<g id=\"edge33\" class=\"edge\">\n",
       "<title>24&#45;&gt;25</title>\n",
       "<path fill=\"none\" stroke=\"black\" d=\"M250.98,-311.6C252.28,-303.82 253.78,-294.8 255.21,-286.26\"/>\n",
       "<polygon fill=\"black\" stroke=\"black\" points=\"258.81,-286.9 257.01,-276.46 251.91,-285.75 258.81,-286.9\"/>\n",
       "</g>\n",
       "<!-- 25&#45;&gt;26 -->\n",
       "<g id=\"edge34\" class=\"edge\">\n",
       "<title>25&#45;&gt;26</title>\n",
       "<path fill=\"none\" stroke=\"black\" d=\"M241.74,-231.6C233.97,-222.94 224.83,-212.76 216.44,-203.41\"/>\n",
       "<polygon fill=\"black\" stroke=\"black\" points=\"219.59,-201.57 210.31,-196.46 214.38,-206.24 219.59,-201.57\"/>\n",
       "</g>\n",
       "<!-- 27 -->\n",
       "<g id=\"node28\" class=\"node\">\n",
       "<title>27</title>\n",
       "<polygon fill=\"aliceblue\" stroke=\"none\" points=\"279.5,-115.5 101.5,-115.5 101.5,-71.5 279.5,-71.5 279.5,-115.5\"/>\n",
       "<polygon fill=\"none\" stroke=\"black\" points=\"101.5,-71.5 101.5,-115.5 170.5,-115.5 170.5,-71.5 101.5,-71.5\"/>\n",
       "<text text-anchor=\"start\" x=\"106.38\" y=\"-96.75\" font-family=\"Linux libertine\" font-size=\"10.00\">__getitem__</text>\n",
       "<text text-anchor=\"start\" x=\"117.62\" y=\"-84\" font-family=\"Linux libertine\" font-size=\"10.00\">depth:1</text>\n",
       "<polygon fill=\"none\" stroke=\"black\" points=\"170.5,-93.5 170.5,-115.5 217.5,-115.5 217.5,-93.5 170.5,-93.5\"/>\n",
       "<text text-anchor=\"start\" x=\"180.12\" y=\"-101\" font-family=\"Linux libertine\" font-size=\"10.00\">input:</text>\n",
       "<polygon fill=\"none\" stroke=\"black\" points=\"217.5,-93.5 217.5,-115.5 279.5,-115.5 279.5,-93.5 217.5,-93.5\"/>\n",
       "<text text-anchor=\"start\" x=\"222.25\" y=\"-101\" font-family=\"Linux libertine\" font-size=\"10.00\">(5, 41, 64) </text>\n",
       "<polygon fill=\"none\" stroke=\"black\" points=\"170.5,-71.5 170.5,-93.5 217.5,-93.5 217.5,-71.5 170.5,-71.5\"/>\n",
       "<text text-anchor=\"start\" x=\"175.25\" y=\"-79\" font-family=\"Linux libertine\" font-size=\"10.00\">output: </text>\n",
       "<polygon fill=\"none\" stroke=\"black\" points=\"217.5,-71.5 217.5,-93.5 279.5,-93.5 279.5,-71.5 217.5,-71.5\"/>\n",
       "<text text-anchor=\"start\" x=\"231.25\" y=\"-79\" font-family=\"Linux libertine\" font-size=\"10.00\">(5, 64) </text>\n",
       "</g>\n",
       "<!-- 26&#45;&gt;27 -->\n",
       "<g id=\"edge35\" class=\"edge\">\n",
       "<title>26&#45;&gt;27</title>\n",
       "<path fill=\"none\" stroke=\"black\" d=\"M190.5,-151.6C190.5,-143.82 190.5,-134.8 190.5,-126.26\"/>\n",
       "<polygon fill=\"black\" stroke=\"black\" points=\"194,-126.46 190.5,-116.46 187,-126.46 194,-126.46\"/>\n",
       "</g>\n",
       "<!-- 28 -->\n",
       "<g id=\"node29\" class=\"node\">\n",
       "<title>28</title>\n",
       "<polygon fill=\"lightyellow\" stroke=\"none\" points=\"249.25,-35.5 131.75,-35.5 131.75,0 249.25,0 249.25,-35.5\"/>\n",
       "<polygon fill=\"none\" stroke=\"black\" points=\"131.75,0 131.75,-35.5 207.75,-35.5 207.75,0 131.75,0\"/>\n",
       "<text text-anchor=\"start\" x=\"136.75\" y=\"-21\" font-family=\"Linux libertine\" font-size=\"10.00\">output&#45;tensor</text>\n",
       "<text text-anchor=\"start\" x=\"151.38\" y=\"-8.25\" font-family=\"Linux libertine\" font-size=\"10.00\">depth:0</text>\n",
       "<polygon fill=\"none\" stroke=\"black\" points=\"207.75,0 207.75,-35.5 249.25,-35.5 249.25,0 207.75,0\"/>\n",
       "<text text-anchor=\"start\" x=\"212.75\" y=\"-14.62\" font-family=\"Linux libertine\" font-size=\"10.00\">(5, 64)</text>\n",
       "</g>\n",
       "<!-- 27&#45;&gt;28 -->\n",
       "<g id=\"edge36\" class=\"edge\">\n",
       "<title>27&#45;&gt;28</title>\n",
       "<path fill=\"none\" stroke=\"black\" d=\"M190.5,-71.56C190.5,-63.6 190.5,-54.41 190.5,-45.95\"/>\n",
       "<polygon fill=\"black\" stroke=\"black\" points=\"194,-46.05 190.5,-36.05 187,-46.05 194,-46.05\"/>\n",
       "</g>\n",
       "</g>\n",
       "</svg>\n"
      ],
      "text/plain": [
       "<graphviz.graphs.Digraph at 0x7fcb2ac218d0>"
      ]
     },
     "execution_count": 45,
     "metadata": {},
     "output_type": "execute_result"
    }
   ],
   "source": [
    "model_graph = draw_graph(enc_net, input_data=torch.Tensor(enc_x_train[0:5]).long(), device=device,\n",
    "                        hide_inner_tensors=True,hide_module_functions=True,\n",
    "                        expand_nested=False, depth=3, dtypes=[torch.long])\n",
    "model_graph.visual_graph"
   ]
  },
  {
   "cell_type": "markdown",
   "id": "ff31510e-0b23-477e-890e-1d371ffb8a4b",
   "metadata": {},
   "source": [
    "### Decoder Component"
   ]
  },
  {
   "cell_type": "code",
   "execution_count": 46,
   "id": "4e333f84-504d-4ad6-b615-811772d3f7d6",
   "metadata": {},
   "outputs": [],
   "source": [
    "class DecoderNetwork(torch.nn.Module):\n",
    "    def __init__(self,\n",
    "                 num_tokens,\n",
    "                 latent_size = 64, # Use something divisible by 2\n",
    "                 n_layers = 8,\n",
    "                 **kwargs):\n",
    "        super().__init__(**kwargs)\n",
    "        self.embedding = torch.nn.Embedding(num_tokens,\n",
    "                                            latent_size,\n",
    "                                            padding_idx=0)\n",
    "        # self.dropout = torch.nn.Dropout1d(0.1) # Whole token dropped\n",
    "        self.linear = torch.nn.Linear(latent_size*2,\n",
    "                                      latent_size)\n",
    "        self.rnn_layers = torch.nn.Sequential(*[\n",
    "            RecurrentResidual(latent_size,False) for _ in range(n_layers)\n",
    "        ])\n",
    "        self.output_layer = torch.nn.Linear(latent_size,\n",
    "                                            num_tokens)\n",
    "\n",
    "    def forward(self, x_enc, x_dec):\n",
    "        y_enc = x_enc.unsqueeze(1).repeat(1,x_dec.shape[1],1)\n",
    "        y_dec = self.embedding(x_dec)\n",
    "        # y_dec = self.dropout(y_dec)\n",
    "        y = y_enc\n",
    "        y = torch.concatenate([y_enc,y_dec],-1)\n",
    "        y = self.linear(y)\n",
    "        y = self.rnn_layers(y)\n",
    "        y = self.output_layer(y)\n",
    "        return y                                    "
   ]
  },
  {
   "cell_type": "code",
   "execution_count": 47,
   "id": "15f2b338-c74c-45cc-9950-0716892fe7e5",
   "metadata": {},
   "outputs": [
    {
     "data": {
      "image/png": "[encoded data removed]",
      "text/latex": [
       "$\\displaystyle \\left( 5, \\  41\\right)$"
      ],
      "text/plain": [
       "(5, 41)"
      ]
     },
     "execution_count": 47,
     "metadata": {},
     "output_type": "execute_result"
    }
   ],
   "source": [
    "enc_x_train[0:5].shape"
   ]
  },
  {
   "cell_type": "code",
   "execution_count": 48,
   "id": "532f5e11-1ad4-4e73-9ba4-2d4f47a8e43e",
   "metadata": {},
   "outputs": [
    {
     "data": {
      "image/png": "[encoded data removed]",
      "text/latex": [
       "$\\displaystyle \\left( 5, \\  37\\right)$"
      ],
      "text/plain": [
       "(5, 37)"
      ]
     },
     "execution_count": 48,
     "metadata": {},
     "output_type": "execute_result"
    }
   ],
   "source": [
    "dec_x_train[0:5].shape"
   ]
  },
  {
   "cell_type": "code",
   "execution_count": 49,
   "id": "353c66dc-4912-4d4f-a99a-cc5a9661306d",
   "metadata": {},
   "outputs": [
    {
     "data": {
      "text/plain": [
       "tensor([[-0.8766, -0.1424,  0.8814, -0.2617, -0.5049, -0.5079, -1.7486, -0.2253,\n",
       "          1.4870, -0.0881,  0.7911, -1.7145, -0.8664, -0.9008,  0.3751, -0.6218,\n",
       "          0.1032,  0.1121,  0.5259,  0.3466,  0.3471, -0.6736,  0.0072,  0.2901,\n",
       "          1.4486, -1.1141,  0.2541,  0.0471,  1.8655,  0.6842,  0.1768,  0.0932,\n",
       "          0.6301, -0.4769,  0.3541,  0.2075, -0.0326,  0.7939,  0.4819,  0.6766,\n",
       "         -0.2158,  0.7911, -0.3806,  0.2666, -0.1059, -0.0039,  0.4292, -0.7824,\n",
       "         -0.0815, -0.1263, -0.2377, -0.4843, -0.2408,  0.2002,  0.3004, -0.5009,\n",
       "          0.9402, -0.0871,  0.0500, -0.5097, -0.4596, -0.0643, -0.0103,  0.3272],\n",
       "        [-0.8767, -0.1426,  0.8807, -0.2623, -0.5052, -0.5078, -1.7484, -0.2250,\n",
       "          1.4872, -0.0882,  0.7912, -1.7165, -0.8668, -0.9003,  0.3749, -0.6216,\n",
       "          0.1033,  0.1120,  0.5257,  0.3467,  0.3480, -0.6738,  0.0080,  0.2907,\n",
       "          1.4487, -1.1136,  0.2539,  0.0471,  1.8653,  0.6842,  0.1771,  0.0928,\n",
       "          0.6301, -0.4769,  0.3542,  0.2076, -0.0325,  0.7938,  0.4818,  0.6767,\n",
       "         -0.2158,  0.7909, -0.3805,  0.2666, -0.1059, -0.0040,  0.4292, -0.7825,\n",
       "         -0.0815, -0.1264, -0.2376, -0.4844, -0.2408,  0.2002,  0.3007, -0.5009,\n",
       "          0.9401, -0.0870,  0.0499, -0.5097, -0.4596, -0.0645, -0.0104,  0.3272],\n",
       "        [-0.8766, -0.1433,  0.8796, -0.2640, -0.5065, -0.5068, -1.7477, -0.2231,\n",
       "          1.4866, -0.0876,  0.7909, -1.7223, -0.8673, -0.8991,  0.3738, -0.6220,\n",
       "          0.1032,  0.1122,  0.5252,  0.3471,  0.3489, -0.6743,  0.0101,  0.2909,\n",
       "          1.4486, -1.1118,  0.2559,  0.0459,  1.8611,  0.6845,  0.1778,  0.0913,\n",
       "          0.6302, -0.4768,  0.3545,  0.2076, -0.0327,  0.7942,  0.4819,  0.6764,\n",
       "         -0.2156,  0.7909, -0.3805,  0.2666, -0.1059, -0.0040,  0.4288, -0.7826,\n",
       "         -0.0816, -0.1266, -0.2375, -0.4848, -0.2407,  0.2003,  0.3014, -0.5014,\n",
       "          0.9402, -0.0866,  0.0501, -0.5091, -0.4596, -0.0656, -0.0106,  0.3273],\n",
       "        [-0.8758, -0.1407,  0.8856, -0.2583, -0.5031, -0.5099, -1.7496, -0.2282,\n",
       "          1.4878, -0.0890,  0.7914, -1.7026, -0.8630, -0.9047,  0.3767, -0.6209,\n",
       "          0.1023,  0.1118,  0.5272,  0.3454,  0.3418, -0.6737,  0.0026,  0.2878,\n",
       "          1.4483, -1.1171,  0.2516,  0.0485,  1.8647,  0.6837,  0.1756,  0.0953,\n",
       "          0.6297, -0.4771,  0.3536,  0.2071, -0.0326,  0.7928,  0.4817,  0.6771,\n",
       "         -0.2155,  0.7917, -0.3810,  0.2667, -0.1061, -0.0040,  0.4291, -0.7825,\n",
       "         -0.0810, -0.1258, -0.2382, -0.4833, -0.2410,  0.1997,  0.2991, -0.4997,\n",
       "          0.9407, -0.0869,  0.0503, -0.5104, -0.4596, -0.0629, -0.0100,  0.3272],\n",
       "        [-0.8766, -0.1412,  0.8834, -0.2603, -0.5040, -0.5088, -1.7491, -0.2272,\n",
       "          1.4877, -0.0889,  0.7915, -1.7078, -0.8648, -0.9021,  0.3760, -0.6212,\n",
       "          0.1030,  0.1121,  0.5265,  0.3462,  0.3442, -0.6739,  0.0048,  0.2887,\n",
       "          1.4485, -1.1154,  0.2534,  0.0472,  1.8665,  0.6839,  0.1764,  0.0937,\n",
       "          0.6298, -0.4770,  0.3539,  0.2072, -0.0326,  0.7932,  0.4818,  0.6770,\n",
       "         -0.2155,  0.7915, -0.3807,  0.2668, -0.1061, -0.0039,  0.4290, -0.7826,\n",
       "         -0.0812, -0.1261, -0.2380, -0.4839, -0.2409,  0.1998,  0.2997, -0.5003,\n",
       "          0.9405, -0.0871,  0.0501, -0.5101, -0.4596, -0.0637, -0.0101,  0.3273]],\n",
       "       device='cuda:0', grad_fn=<SelectBackward0>)"
      ]
     },
     "execution_count": 49,
     "metadata": {},
     "output_type": "execute_result"
    }
   ],
   "source": [
    "enc_net(torch.Tensor(enc_x_train[0:5]).long().to(device))"
   ]
  },
  {
   "cell_type": "code",
   "execution_count": 50,
   "id": "531a6dd5-a881-430d-b728-6959a91c38aa",
   "metadata": {
    "scrolled": true
   },
   "outputs": [
    {
     "data": {
      "text/plain": [
       "==========================================================================================\n",
       "Layer (type:depth-idx)                   Output Shape              Param #\n",
       "==========================================================================================\n",
       "DecoderNetwork                           [5, 37, 32286]            --\n",
       "├─Embedding: 1-1                         [5, 37, 64]               2,066,304\n",
       "├─Linear: 1-2                            [5, 37, 64]               8,256\n",
       "├─Sequential: 1-3                        [5, 37, 64]               --\n",
       "│    └─RecurrentResidual: 2-1            [5, 37, 64]               --\n",
       "│    │    └─LayerNorm: 3-1               [5, 37, 64]               128\n",
       "│    │    └─LSTM: 3-2                    [5, 37, 64]               33,280\n",
       "│    └─RecurrentResidual: 2-2            [5, 37, 64]               --\n",
       "│    │    └─LayerNorm: 3-3               [5, 37, 64]               128\n",
       "│    │    └─LSTM: 3-4                    [5, 37, 64]               33,280\n",
       "│    └─RecurrentResidual: 2-3            [5, 37, 64]               --\n",
       "│    │    └─LayerNorm: 3-5               [5, 37, 64]               128\n",
       "│    │    └─LSTM: 3-6                    [5, 37, 64]               33,280\n",
       "│    └─RecurrentResidual: 2-4            [5, 37, 64]               --\n",
       "│    │    └─LayerNorm: 3-7               [5, 37, 64]               128\n",
       "│    │    └─LSTM: 3-8                    [5, 37, 64]               33,280\n",
       "│    └─RecurrentResidual: 2-5            [5, 37, 64]               --\n",
       "│    │    └─LayerNorm: 3-9               [5, 37, 64]               128\n",
       "│    │    └─LSTM: 3-10                   [5, 37, 64]               33,280\n",
       "│    └─RecurrentResidual: 2-6            [5, 37, 64]               --\n",
       "│    │    └─LayerNorm: 3-11              [5, 37, 64]               128\n",
       "│    │    └─LSTM: 3-12                   [5, 37, 64]               33,280\n",
       "│    └─RecurrentResidual: 2-7            [5, 37, 64]               --\n",
       "│    │    └─LayerNorm: 3-13              [5, 37, 64]               128\n",
       "│    │    └─LSTM: 3-14                   [5, 37, 64]               33,280\n",
       "│    └─RecurrentResidual: 2-8            [5, 37, 64]               --\n",
       "│    │    └─LayerNorm: 3-15              [5, 37, 64]               128\n",
       "│    │    └─LSTM: 3-16                   [5, 37, 64]               33,280\n",
       "├─Linear: 1-4                            [5, 37, 32286]            2,098,590\n",
       "==========================================================================================\n",
       "Total params: 4,440,414\n",
       "Trainable params: 4,440,414\n",
       "Non-trainable params: 0\n",
       "Total mult-adds (Units.MEGABYTES): 70.13\n",
       "==========================================================================================\n",
       "Input size (MB): 0.00\n",
       "Forward/backward pass size (MB): 49.49\n",
       "Params size (MB): 17.76\n",
       "Estimated Total Size (MB): 67.25\n",
       "=========================================================================================="
      ]
     },
     "execution_count": 50,
     "metadata": {},
     "output_type": "execute_result"
    }
   ],
   "source": [
    "dec_net = DecoderNetwork(num_tokens=por_tokenizer.get_vocab_size())\n",
    "\n",
    "summary(dec_net,input_data=[enc_net(torch.Tensor(enc_x_train[0:5]).long().to(device)).cpu(),\n",
    "                            torch.Tensor(dec_x_train[0:5]).long()])"
   ]
  },
  {
   "cell_type": "code",
   "execution_count": 51,
   "id": "a9cbb781-e54c-4faf-a251-c390ad7c5b2e",
   "metadata": {},
   "outputs": [
    {
     "data": {
      "image/svg+xml": [
       "<?xml version=\"1.0\" encoding=\"UTF-8\" standalone=\"no\"?>\n",
       "<!DOCTYPE svg PUBLIC \"-//W3C//DTD SVG 1.1//EN\"\n",
       " \"http://www.w3.org/Graphics/SVG/1.1/DTD/svg11.dtd\">\n",
       "<!-- Generated by graphviz version 8.1.0 (20230707.2238)\n",
       " -->\n",
       "<!-- Title: model Pages: 1 -->\n",
       "<svg width=\"302pt\" height=\"1577pt\"\n",
       " viewBox=\"0.00 0.00 302.45 1577.00\" xmlns=\"http://www.w3.org/2000/svg\" xmlns:xlink=\"http://www.w3.org/1999/xlink\">\n",
       "<g id=\"graph0\" class=\"graph\" transform=\"scale(0.647639 0.647639) rotate(0) translate(4 2431)\">\n",
       "<title>model</title>\n",
       "<polygon fill=\"white\" stroke=\"none\" points=\"-4,4 -4,-2431 463,-2431 463,4 -4,4\"/>\n",
       "<!-- 0 -->\n",
       "<g id=\"node1\" class=\"node\">\n",
       "<title>0</title>\n",
       "<polygon fill=\"lightyellow\" stroke=\"none\" points=\"137.88,-2427 27.12,-2427 27.12,-2391.5 137.88,-2391.5 137.88,-2427\"/>\n",
       "<polygon fill=\"none\" stroke=\"black\" points=\"27.12,-2391.5 27.12,-2427 96.38,-2427 96.38,-2391.5 27.12,-2391.5\"/>\n",
       "<text text-anchor=\"start\" x=\"32.12\" y=\"-2412.5\" font-family=\"Linux libertine\" font-size=\"10.00\">input&#45;tensor</text>\n",
       "<text text-anchor=\"start\" x=\"43.38\" y=\"-2399.75\" font-family=\"Linux libertine\" font-size=\"10.00\">depth:0</text>\n",
       "<polygon fill=\"none\" stroke=\"black\" points=\"96.38,-2391.5 96.38,-2427 137.88,-2427 137.88,-2391.5 96.38,-2391.5\"/>\n",
       "<text text-anchor=\"start\" x=\"101.38\" y=\"-2406.12\" font-family=\"Linux libertine\" font-size=\"10.00\">(5, 64)</text>\n",
       "</g>\n",
       "<!-- 2 -->\n",
       "<g id=\"node3\" class=\"node\">\n",
       "<title>2</title>\n",
       "<polygon fill=\"aliceblue\" stroke=\"none\" points=\"165,-2355.5 0,-2355.5 0,-2311.5 165,-2311.5 165,-2355.5\"/>\n",
       "<polygon fill=\"none\" stroke=\"black\" points=\"0,-2311.5 0,-2355.5 62,-2355.5 62,-2311.5 0,-2311.5\"/>\n",
       "<text text-anchor=\"start\" x=\"4.75\" y=\"-2336.75\" font-family=\"Linux libertine\" font-size=\"10.00\">unsqueeze</text>\n",
       "<text text-anchor=\"start\" x=\"12.62\" y=\"-2324\" font-family=\"Linux libertine\" font-size=\"10.00\">depth:1</text>\n",
       "<polygon fill=\"none\" stroke=\"black\" points=\"62,-2333.5 62,-2355.5 109,-2355.5 109,-2333.5 62,-2333.5\"/>\n",
       "<text text-anchor=\"start\" x=\"71.62\" y=\"-2341\" font-family=\"Linux libertine\" font-size=\"10.00\">input:</text>\n",
       "<polygon fill=\"none\" stroke=\"black\" points=\"109,-2333.5 109,-2355.5 165,-2355.5 165,-2333.5 109,-2333.5\"/>\n",
       "<text text-anchor=\"start\" x=\"119.75\" y=\"-2341\" font-family=\"Linux libertine\" font-size=\"10.00\">(5, 64) </text>\n",
       "<polygon fill=\"none\" stroke=\"black\" points=\"62,-2311.5 62,-2333.5 109,-2333.5 109,-2311.5 62,-2311.5\"/>\n",
       "<text text-anchor=\"start\" x=\"66.75\" y=\"-2319\" font-family=\"Linux libertine\" font-size=\"10.00\">output: </text>\n",
       "<polygon fill=\"none\" stroke=\"black\" points=\"109,-2311.5 109,-2333.5 165,-2333.5 165,-2311.5 109,-2311.5\"/>\n",
       "<text text-anchor=\"start\" x=\"113.75\" y=\"-2319\" font-family=\"Linux libertine\" font-size=\"10.00\">(5, 1, 64) </text>\n",
       "</g>\n",
       "<!-- 0&#45;&gt;2 -->\n",
       "<g id=\"edge1\" class=\"edge\">\n",
       "<title>0&#45;&gt;2</title>\n",
       "<path fill=\"none\" stroke=\"black\" d=\"M82.5,-2391.51C82.5,-2384.07 82.5,-2375.04 82.5,-2366.39\"/>\n",
       "<polygon fill=\"black\" stroke=\"black\" points=\"86,-2366.39 82.5,-2356.39 79,-2366.39 86,-2366.39\"/>\n",
       "</g>\n",
       "<!-- 1 -->\n",
       "<g id=\"node2\" class=\"node\">\n",
       "<title>1</title>\n",
       "<polygon fill=\"lightyellow\" stroke=\"none\" points=\"319.88,-2351.25 209.12,-2351.25 209.12,-2315.75 319.88,-2315.75 319.88,-2351.25\"/>\n",
       "<polygon fill=\"none\" stroke=\"black\" points=\"209.12,-2315.75 209.12,-2351.25 278.38,-2351.25 278.38,-2315.75 209.12,-2315.75\"/>\n",
       "<text text-anchor=\"start\" x=\"214.12\" y=\"-2336.75\" font-family=\"Linux libertine\" font-size=\"10.00\">input&#45;tensor</text>\n",
       "<text text-anchor=\"start\" x=\"225.38\" y=\"-2324\" font-family=\"Linux libertine\" font-size=\"10.00\">depth:0</text>\n",
       "<polygon fill=\"none\" stroke=\"black\" points=\"278.38,-2315.75 278.38,-2351.25 319.88,-2351.25 319.88,-2315.75 278.38,-2315.75\"/>\n",
       "<text text-anchor=\"start\" x=\"283.38\" y=\"-2330.38\" font-family=\"Linux libertine\" font-size=\"10.00\">(5, 37)</text>\n",
       "</g>\n",
       "<!-- 4 -->\n",
       "<g id=\"node5\" class=\"node\">\n",
       "<title>4</title>\n",
       "<polygon fill=\"#c1ffc1\" stroke=\"none\" points=\"351,-2275.5 178,-2275.5 178,-2231.5 351,-2231.5 351,-2275.5\"/>\n",
       "<polygon fill=\"none\" stroke=\"black\" points=\"178,-2231.5 178,-2275.5 242,-2275.5 242,-2231.5 178,-2231.5\"/>\n",
       "<text text-anchor=\"start\" x=\"182.62\" y=\"-2256.75\" font-family=\"Linux libertine\" font-size=\"10.00\">Embedding</text>\n",
       "<text text-anchor=\"start\" x=\"191.62\" y=\"-2244\" font-family=\"Linux libertine\" font-size=\"10.00\">depth:1</text>\n",
       "<polygon fill=\"none\" stroke=\"black\" points=\"242,-2253.5 242,-2275.5 289,-2275.5 289,-2253.5 242,-2253.5\"/>\n",
       "<text text-anchor=\"start\" x=\"251.62\" y=\"-2261\" font-family=\"Linux libertine\" font-size=\"10.00\">input:</text>\n",
       "<polygon fill=\"none\" stroke=\"black\" points=\"289,-2253.5 289,-2275.5 351,-2275.5 351,-2253.5 289,-2253.5\"/>\n",
       "<text text-anchor=\"start\" x=\"302.75\" y=\"-2261\" font-family=\"Linux libertine\" font-size=\"10.00\">(5, 37) </text>\n",
       "<polygon fill=\"none\" stroke=\"black\" points=\"242,-2231.5 242,-2253.5 289,-2253.5 289,-2231.5 242,-2231.5\"/>\n",
       "<text text-anchor=\"start\" x=\"246.75\" y=\"-2239\" font-family=\"Linux libertine\" font-size=\"10.00\">output: </text>\n",
       "<polygon fill=\"none\" stroke=\"black\" points=\"289,-2231.5 289,-2253.5 351,-2253.5 351,-2231.5 289,-2231.5\"/>\n",
       "<text text-anchor=\"start\" x=\"293.75\" y=\"-2239\" font-family=\"Linux libertine\" font-size=\"10.00\">(5, 37, 64) </text>\n",
       "</g>\n",
       "<!-- 1&#45;&gt;4 -->\n",
       "<g id=\"edge2\" class=\"edge\">\n",
       "<title>1&#45;&gt;4</title>\n",
       "<path fill=\"none\" stroke=\"black\" d=\"M264.5,-2315.96C264.5,-2307.29 264.5,-2296.37 264.5,-2286.15\"/>\n",
       "<polygon fill=\"black\" stroke=\"black\" points=\"268,-2286.48 264.5,-2276.48 261,-2286.48 268,-2286.48\"/>\n",
       "</g>\n",
       "<!-- 3 -->\n",
       "<g id=\"node4\" class=\"node\">\n",
       "<title>3</title>\n",
       "<polygon fill=\"aliceblue\" stroke=\"none\" points=\"160,-2275.5 5,-2275.5 5,-2231.5 160,-2231.5 160,-2275.5\"/>\n",
       "<polygon fill=\"none\" stroke=\"black\" points=\"5,-2231.5 5,-2275.5 51,-2275.5 51,-2231.5 5,-2231.5\"/>\n",
       "<text text-anchor=\"start\" x=\"12.25\" y=\"-2256.75\" font-family=\"Linux libertine\" font-size=\"10.00\">repeat</text>\n",
       "<text text-anchor=\"start\" x=\"9.62\" y=\"-2244\" font-family=\"Linux libertine\" font-size=\"10.00\">depth:1</text>\n",
       "<polygon fill=\"none\" stroke=\"black\" points=\"51,-2253.5 51,-2275.5 98,-2275.5 98,-2253.5 51,-2253.5\"/>\n",
       "<text text-anchor=\"start\" x=\"60.62\" y=\"-2261\" font-family=\"Linux libertine\" font-size=\"10.00\">input:</text>\n",
       "<polygon fill=\"none\" stroke=\"black\" points=\"98,-2253.5 98,-2275.5 160,-2275.5 160,-2253.5 98,-2253.5\"/>\n",
       "<text text-anchor=\"start\" x=\"105.75\" y=\"-2261\" font-family=\"Linux libertine\" font-size=\"10.00\">(5, 1, 64) </text>\n",
       "<polygon fill=\"none\" stroke=\"black\" points=\"51,-2231.5 51,-2253.5 98,-2253.5 98,-2231.5 51,-2231.5\"/>\n",
       "<text text-anchor=\"start\" x=\"55.75\" y=\"-2239\" font-family=\"Linux libertine\" font-size=\"10.00\">output: </text>\n",
       "<polygon fill=\"none\" stroke=\"black\" points=\"98,-2231.5 98,-2253.5 160,-2253.5 160,-2231.5 98,-2231.5\"/>\n",
       "<text text-anchor=\"start\" x=\"102.75\" y=\"-2239\" font-family=\"Linux libertine\" font-size=\"10.00\">(5, 37, 64) </text>\n",
       "</g>\n",
       "<!-- 2&#45;&gt;3 -->\n",
       "<g id=\"edge3\" class=\"edge\">\n",
       "<title>2&#45;&gt;3</title>\n",
       "<path fill=\"none\" stroke=\"black\" d=\"M82.5,-2311.6C82.5,-2303.82 82.5,-2294.8 82.5,-2286.26\"/>\n",
       "<polygon fill=\"black\" stroke=\"black\" points=\"86,-2286.46 82.5,-2276.46 79,-2286.46 86,-2286.46\"/>\n",
       "</g>\n",
       "<!-- 5 -->\n",
       "<g id=\"node6\" class=\"node\">\n",
       "<title>5</title>\n",
       "<polygon fill=\"aliceblue\" stroke=\"none\" points=\"272,-2195.5 75,-2195.5 75,-2151.5 272,-2151.5 272,-2195.5\"/>\n",
       "<polygon fill=\"none\" stroke=\"black\" points=\"75,-2151.5 75,-2195.5 145,-2195.5 145,-2151.5 75,-2151.5\"/>\n",
       "<text text-anchor=\"start\" x=\"80\" y=\"-2176.75\" font-family=\"Linux libertine\" font-size=\"10.00\">concatenate</text>\n",
       "<text text-anchor=\"start\" x=\"91.62\" y=\"-2164\" font-family=\"Linux libertine\" font-size=\"10.00\">depth:1</text>\n",
       "<polygon fill=\"none\" stroke=\"black\" points=\"145,-2173.5 145,-2195.5 192,-2195.5 192,-2173.5 145,-2173.5\"/>\n",
       "<text text-anchor=\"start\" x=\"154.62\" y=\"-2181\" font-family=\"Linux libertine\" font-size=\"10.00\">input:</text>\n",
       "<polygon fill=\"none\" stroke=\"black\" points=\"192,-2173.5 192,-2195.5 272,-2195.5 272,-2173.5 192,-2173.5\"/>\n",
       "<text text-anchor=\"start\" x=\"196.75\" y=\"-2181\" font-family=\"Linux libertine\" font-size=\"10.00\">2 x (5, 37, 64) </text>\n",
       "<polygon fill=\"none\" stroke=\"black\" points=\"145,-2151.5 145,-2173.5 192,-2173.5 192,-2151.5 145,-2151.5\"/>\n",
       "<text text-anchor=\"start\" x=\"149.75\" y=\"-2159\" font-family=\"Linux libertine\" font-size=\"10.00\">output: </text>\n",
       "<polygon fill=\"none\" stroke=\"black\" points=\"192,-2151.5 192,-2173.5 272,-2173.5 272,-2151.5 192,-2151.5\"/>\n",
       "<text text-anchor=\"start\" x=\"202.75\" y=\"-2159\" font-family=\"Linux libertine\" font-size=\"10.00\">(5, 37, 128) </text>\n",
       "</g>\n",
       "<!-- 3&#45;&gt;5 -->\n",
       "<g id=\"edge4\" class=\"edge\">\n",
       "<title>3&#45;&gt;5</title>\n",
       "<path fill=\"none\" stroke=\"black\" d=\"M106.89,-2231.6C117.29,-2222.68 129.59,-2212.14 140.77,-2202.56\"/>\n",
       "<polygon fill=\"black\" stroke=\"black\" points=\"142.73,-2204.63 148.05,-2195.46 138.18,-2199.31 142.73,-2204.63\"/>\n",
       "</g>\n",
       "<!-- 4&#45;&gt;5 -->\n",
       "<g id=\"edge5\" class=\"edge\">\n",
       "<title>4&#45;&gt;5</title>\n",
       "<path fill=\"none\" stroke=\"black\" d=\"M240.11,-2231.6C229.71,-2222.68 217.41,-2212.14 206.23,-2202.56\"/>\n",
       "<polygon fill=\"black\" stroke=\"black\" points=\"208.82,-2199.31 198.95,-2195.46 204.27,-2204.63 208.82,-2199.31\"/>\n",
       "</g>\n",
       "<!-- 6 -->\n",
       "<g id=\"node7\" class=\"node\">\n",
       "<title>6</title>\n",
       "<polygon fill=\"#c1ffc1\" stroke=\"none\" points=\"254,-2115.5 93,-2115.5 93,-2071.5 254,-2071.5 254,-2115.5\"/>\n",
       "<polygon fill=\"none\" stroke=\"black\" points=\"93,-2071.5 93,-2115.5 139,-2115.5 139,-2071.5 93,-2071.5\"/>\n",
       "<text text-anchor=\"start\" x=\"101\" y=\"-2096.75\" font-family=\"Linux libertine\" font-size=\"10.00\">Linear</text>\n",
       "<text text-anchor=\"start\" x=\"97.62\" y=\"-2084\" font-family=\"Linux libertine\" font-size=\"10.00\">depth:1</text>\n",
       "<polygon fill=\"none\" stroke=\"black\" points=\"139,-2093.5 139,-2115.5 186,-2115.5 186,-2093.5 139,-2093.5\"/>\n",
       "<text text-anchor=\"start\" x=\"148.62\" y=\"-2101\" font-family=\"Linux libertine\" font-size=\"10.00\">input:</text>\n",
       "<polygon fill=\"none\" stroke=\"black\" points=\"186,-2093.5 186,-2115.5 254,-2115.5 254,-2093.5 186,-2093.5\"/>\n",
       "<text text-anchor=\"start\" x=\"190.75\" y=\"-2101\" font-family=\"Linux libertine\" font-size=\"10.00\">(5, 37, 128) </text>\n",
       "<polygon fill=\"none\" stroke=\"black\" points=\"139,-2071.5 139,-2093.5 186,-2093.5 186,-2071.5 139,-2071.5\"/>\n",
       "<text text-anchor=\"start\" x=\"143.75\" y=\"-2079\" font-family=\"Linux libertine\" font-size=\"10.00\">output: </text>\n",
       "<polygon fill=\"none\" stroke=\"black\" points=\"186,-2071.5 186,-2093.5 254,-2093.5 254,-2071.5 186,-2071.5\"/>\n",
       "<text text-anchor=\"start\" x=\"193.75\" y=\"-2079\" font-family=\"Linux libertine\" font-size=\"10.00\">(5, 37, 64) </text>\n",
       "</g>\n",
       "<!-- 5&#45;&gt;6 -->\n",
       "<g id=\"edge6\" class=\"edge\">\n",
       "<title>5&#45;&gt;6</title>\n",
       "<path fill=\"none\" stroke=\"black\" d=\"M173.5,-2151.6C173.5,-2143.82 173.5,-2134.8 173.5,-2126.26\"/>\n",
       "<polygon fill=\"black\" stroke=\"black\" points=\"177,-2126.46 173.5,-2116.46 170,-2126.46 177,-2126.46\"/>\n",
       "</g>\n",
       "<!-- 7 -->\n",
       "<g id=\"node8\" class=\"node\">\n",
       "<title>7</title>\n",
       "<polygon fill=\"#c1ffc1\" stroke=\"none\" points=\"330,-2035.5 157,-2035.5 157,-1991.5 330,-1991.5 330,-2035.5\"/>\n",
       "<polygon fill=\"none\" stroke=\"black\" points=\"157,-1991.5 157,-2035.5 221,-2035.5 221,-1991.5 157,-1991.5\"/>\n",
       "<text text-anchor=\"start\" x=\"162\" y=\"-2016.75\" font-family=\"Linux libertine\" font-size=\"10.00\">LayerNorm</text>\n",
       "<text text-anchor=\"start\" x=\"170.62\" y=\"-2004\" font-family=\"Linux libertine\" font-size=\"10.00\">depth:3</text>\n",
       "<polygon fill=\"none\" stroke=\"black\" points=\"221,-2013.5 221,-2035.5 268,-2035.5 268,-2013.5 221,-2013.5\"/>\n",
       "<text text-anchor=\"start\" x=\"230.62\" y=\"-2021\" font-family=\"Linux libertine\" font-size=\"10.00\">input:</text>\n",
       "<polygon fill=\"none\" stroke=\"black\" points=\"268,-2013.5 268,-2035.5 330,-2035.5 330,-2013.5 268,-2013.5\"/>\n",
       "<text text-anchor=\"start\" x=\"272.75\" y=\"-2021\" font-family=\"Linux libertine\" font-size=\"10.00\">(5, 37, 64) </text>\n",
       "<polygon fill=\"none\" stroke=\"black\" points=\"221,-1991.5 221,-2013.5 268,-2013.5 268,-1991.5 221,-1991.5\"/>\n",
       "<text text-anchor=\"start\" x=\"225.75\" y=\"-1999\" font-family=\"Linux libertine\" font-size=\"10.00\">output: </text>\n",
       "<polygon fill=\"none\" stroke=\"black\" points=\"268,-1991.5 268,-2013.5 330,-2013.5 330,-1991.5 268,-1991.5\"/>\n",
       "<text text-anchor=\"start\" x=\"272.75\" y=\"-1999\" font-family=\"Linux libertine\" font-size=\"10.00\">(5, 37, 64) </text>\n",
       "</g>\n",
       "<!-- 6&#45;&gt;7 -->\n",
       "<g id=\"edge7\" class=\"edge\">\n",
       "<title>6&#45;&gt;7</title>\n",
       "<path fill=\"none\" stroke=\"black\" d=\"M192.26,-2071.6C200.03,-2062.94 209.17,-2052.76 217.56,-2043.41\"/>\n",
       "<polygon fill=\"black\" stroke=\"black\" points=\"219.62,-2046.24 223.69,-2036.46 214.41,-2041.57 219.62,-2046.24\"/>\n",
       "</g>\n",
       "<!-- 9 -->\n",
       "<g id=\"node10\" class=\"node\">\n",
       "<title>9</title>\n",
       "<polygon fill=\"aliceblue\" stroke=\"none\" points=\"273,-1875.5 100,-1875.5 100,-1831.5 273,-1831.5 273,-1875.5\"/>\n",
       "<polygon fill=\"none\" stroke=\"black\" points=\"100,-1831.5 100,-1875.5 146,-1875.5 146,-1831.5 100,-1831.5\"/>\n",
       "<text text-anchor=\"start\" x=\"114\" y=\"-1856.75\" font-family=\"Linux libertine\" font-size=\"10.00\">add</text>\n",
       "<text text-anchor=\"start\" x=\"104.62\" y=\"-1844\" font-family=\"Linux libertine\" font-size=\"10.00\">depth:3</text>\n",
       "<polygon fill=\"none\" stroke=\"black\" points=\"146,-1853.5 146,-1875.5 193,-1875.5 193,-1853.5 146,-1853.5\"/>\n",
       "<text text-anchor=\"start\" x=\"155.62\" y=\"-1861\" font-family=\"Linux libertine\" font-size=\"10.00\">input:</text>\n",
       "<polygon fill=\"none\" stroke=\"black\" points=\"193,-1853.5 193,-1875.5 273,-1875.5 273,-1853.5 193,-1853.5\"/>\n",
       "<text text-anchor=\"start\" x=\"197.75\" y=\"-1861\" font-family=\"Linux libertine\" font-size=\"10.00\">2 x (5, 37, 64) </text>\n",
       "<polygon fill=\"none\" stroke=\"black\" points=\"146,-1831.5 146,-1853.5 193,-1853.5 193,-1831.5 146,-1831.5\"/>\n",
       "<text text-anchor=\"start\" x=\"150.75\" y=\"-1839\" font-family=\"Linux libertine\" font-size=\"10.00\">output: </text>\n",
       "<polygon fill=\"none\" stroke=\"black\" points=\"193,-1831.5 193,-1853.5 273,-1853.5 273,-1831.5 193,-1831.5\"/>\n",
       "<text text-anchor=\"start\" x=\"206.75\" y=\"-1839\" font-family=\"Linux libertine\" font-size=\"10.00\">(5, 37, 64) </text>\n",
       "</g>\n",
       "<!-- 6&#45;&gt;9 -->\n",
       "<g id=\"edge8\" class=\"edge\">\n",
       "<title>6&#45;&gt;9</title>\n",
       "<path fill=\"none\" stroke=\"black\" d=\"M161.86,-2071.55C144.38,-2037.2 115.54,-1967.18 136.5,-1911.5 140.36,-1901.24 147,-1891.63 154.2,-1883.33\"/>\n",
       "<polygon fill=\"black\" stroke=\"black\" points=\"156.25,-1886.19 160.5,-1876.48 151.13,-1881.42 156.25,-1886.19\"/>\n",
       "</g>\n",
       "<!-- 8 -->\n",
       "<g id=\"node9\" class=\"node\">\n",
       "<title>8</title>\n",
       "<polygon fill=\"#c1ffc1\" stroke=\"none\" points=\"368,-1955.5 145,-1955.5 145,-1911.5 368,-1911.5 368,-1955.5\"/>\n",
       "<polygon fill=\"none\" stroke=\"black\" points=\"145,-1911.5 145,-1955.5 191,-1955.5 191,-1911.5 145,-1911.5\"/>\n",
       "<text text-anchor=\"start\" x=\"154.88\" y=\"-1936.75\" font-family=\"Linux libertine\" font-size=\"10.00\">LSTM</text>\n",
       "<text text-anchor=\"start\" x=\"149.62\" y=\"-1924\" font-family=\"Linux libertine\" font-size=\"10.00\">depth:3</text>\n",
       "<polygon fill=\"none\" stroke=\"black\" points=\"191,-1933.5 191,-1955.5 238,-1955.5 238,-1933.5 191,-1933.5\"/>\n",
       "<text text-anchor=\"start\" x=\"200.62\" y=\"-1941\" font-family=\"Linux libertine\" font-size=\"10.00\">input:</text>\n",
       "<polygon fill=\"none\" stroke=\"black\" points=\"238,-1933.5 238,-1955.5 368,-1955.5 368,-1933.5 238,-1933.5\"/>\n",
       "<text text-anchor=\"start\" x=\"276.75\" y=\"-1941\" font-family=\"Linux libertine\" font-size=\"10.00\">(5, 37, 64) </text>\n",
       "<polygon fill=\"none\" stroke=\"black\" points=\"191,-1911.5 191,-1933.5 238,-1933.5 238,-1911.5 191,-1911.5\"/>\n",
       "<text text-anchor=\"start\" x=\"195.75\" y=\"-1919\" font-family=\"Linux libertine\" font-size=\"10.00\">output: </text>\n",
       "<polygon fill=\"none\" stroke=\"black\" points=\"238,-1911.5 238,-1933.5 368,-1933.5 368,-1911.5 238,-1911.5\"/>\n",
       "<text text-anchor=\"start\" x=\"243\" y=\"-1919\" font-family=\"Linux libertine\" font-size=\"10.00\">(5, 37, 64), 2 x (1, 5, 64) </text>\n",
       "</g>\n",
       "<!-- 7&#45;&gt;8 -->\n",
       "<g id=\"edge9\" class=\"edge\">\n",
       "<title>7&#45;&gt;8</title>\n",
       "<path fill=\"none\" stroke=\"black\" d=\"M246.98,-1991.6C248.28,-1983.82 249.78,-1974.8 251.21,-1966.26\"/>\n",
       "<polygon fill=\"black\" stroke=\"black\" points=\"254.81,-1966.9 253.01,-1956.46 247.91,-1965.75 254.81,-1966.9\"/>\n",
       "</g>\n",
       "<!-- 8&#45;&gt;9 -->\n",
       "<g id=\"edge10\" class=\"edge\">\n",
       "<title>8&#45;&gt;9</title>\n",
       "<path fill=\"none\" stroke=\"black\" d=\"M237.74,-1911.6C229.97,-1902.94 220.83,-1892.76 212.44,-1883.41\"/>\n",
       "<polygon fill=\"black\" stroke=\"black\" points=\"215.59,-1881.57 206.31,-1876.46 210.38,-1886.24 215.59,-1881.57\"/>\n",
       "</g>\n",
       "<!-- 10 -->\n",
       "<g id=\"node11\" class=\"node\">\n",
       "<title>10</title>\n",
       "<polygon fill=\"#c1ffc1\" stroke=\"none\" points=\"343,-1795.5 170,-1795.5 170,-1751.5 343,-1751.5 343,-1795.5\"/>\n",
       "<polygon fill=\"none\" stroke=\"black\" points=\"170,-1751.5 170,-1795.5 234,-1795.5 234,-1751.5 170,-1751.5\"/>\n",
       "<text text-anchor=\"start\" x=\"175\" y=\"-1776.75\" font-family=\"Linux libertine\" font-size=\"10.00\">LayerNorm</text>\n",
       "<text text-anchor=\"start\" x=\"183.62\" y=\"-1764\" font-family=\"Linux libertine\" font-size=\"10.00\">depth:3</text>\n",
       "<polygon fill=\"none\" stroke=\"black\" points=\"234,-1773.5 234,-1795.5 281,-1795.5 281,-1773.5 234,-1773.5\"/>\n",
       "<text text-anchor=\"start\" x=\"243.62\" y=\"-1781\" font-family=\"Linux libertine\" font-size=\"10.00\">input:</text>\n",
       "<polygon fill=\"none\" stroke=\"black\" points=\"281,-1773.5 281,-1795.5 343,-1795.5 343,-1773.5 281,-1773.5\"/>\n",
       "<text text-anchor=\"start\" x=\"285.75\" y=\"-1781\" font-family=\"Linux libertine\" font-size=\"10.00\">(5, 37, 64) </text>\n",
       "<polygon fill=\"none\" stroke=\"black\" points=\"234,-1751.5 234,-1773.5 281,-1773.5 281,-1751.5 234,-1751.5\"/>\n",
       "<text text-anchor=\"start\" x=\"238.75\" y=\"-1759\" font-family=\"Linux libertine\" font-size=\"10.00\">output: </text>\n",
       "<polygon fill=\"none\" stroke=\"black\" points=\"281,-1751.5 281,-1773.5 343,-1773.5 343,-1751.5 281,-1751.5\"/>\n",
       "<text text-anchor=\"start\" x=\"285.75\" y=\"-1759\" font-family=\"Linux libertine\" font-size=\"10.00\">(5, 37, 64) </text>\n",
       "</g>\n",
       "<!-- 9&#45;&gt;10 -->\n",
       "<g id=\"edge11\" class=\"edge\">\n",
       "<title>9&#45;&gt;10</title>\n",
       "<path fill=\"none\" stroke=\"black\" d=\"M205.26,-1831.6C213.03,-1822.94 222.17,-1812.76 230.56,-1803.41\"/>\n",
       "<polygon fill=\"black\" stroke=\"black\" points=\"232.62,-1806.24 236.69,-1796.46 227.41,-1801.57 232.62,-1806.24\"/>\n",
       "</g>\n",
       "<!-- 12 -->\n",
       "<g id=\"node13\" class=\"node\">\n",
       "<title>12</title>\n",
       "<polygon fill=\"aliceblue\" stroke=\"none\" points=\"286,-1635.5 113,-1635.5 113,-1591.5 286,-1591.5 286,-1635.5\"/>\n",
       "<polygon fill=\"none\" stroke=\"black\" points=\"113,-1591.5 113,-1635.5 159,-1635.5 159,-1591.5 113,-1591.5\"/>\n",
       "<text text-anchor=\"start\" x=\"127\" y=\"-1616.75\" font-family=\"Linux libertine\" font-size=\"10.00\">add</text>\n",
       "<text text-anchor=\"start\" x=\"117.62\" y=\"-1604\" font-family=\"Linux libertine\" font-size=\"10.00\">depth:3</text>\n",
       "<polygon fill=\"none\" stroke=\"black\" points=\"159,-1613.5 159,-1635.5 206,-1635.5 206,-1613.5 159,-1613.5\"/>\n",
       "<text text-anchor=\"start\" x=\"168.62\" y=\"-1621\" font-family=\"Linux libertine\" font-size=\"10.00\">input:</text>\n",
       "<polygon fill=\"none\" stroke=\"black\" points=\"206,-1613.5 206,-1635.5 286,-1635.5 286,-1613.5 206,-1613.5\"/>\n",
       "<text text-anchor=\"start\" x=\"210.75\" y=\"-1621\" font-family=\"Linux libertine\" font-size=\"10.00\">2 x (5, 37, 64) </text>\n",
       "<polygon fill=\"none\" stroke=\"black\" points=\"159,-1591.5 159,-1613.5 206,-1613.5 206,-1591.5 159,-1591.5\"/>\n",
       "<text text-anchor=\"start\" x=\"163.75\" y=\"-1599\" font-family=\"Linux libertine\" font-size=\"10.00\">output: </text>\n",
       "<polygon fill=\"none\" stroke=\"black\" points=\"206,-1591.5 206,-1613.5 286,-1613.5 286,-1591.5 206,-1591.5\"/>\n",
       "<text text-anchor=\"start\" x=\"219.75\" y=\"-1599\" font-family=\"Linux libertine\" font-size=\"10.00\">(5, 37, 64) </text>\n",
       "</g>\n",
       "<!-- 9&#45;&gt;12 -->\n",
       "<g id=\"edge12\" class=\"edge\">\n",
       "<title>9&#45;&gt;12</title>\n",
       "<path fill=\"none\" stroke=\"black\" d=\"M174.86,-1831.55C157.38,-1797.2 128.54,-1727.18 149.5,-1671.5 153.36,-1661.24 160,-1651.63 167.2,-1643.33\"/>\n",
       "<polygon fill=\"black\" stroke=\"black\" points=\"169.25,-1646.19 173.5,-1636.48 164.13,-1641.42 169.25,-1646.19\"/>\n",
       "</g>\n",
       "<!-- 11 -->\n",
       "<g id=\"node12\" class=\"node\">\n",
       "<title>11</title>\n",
       "<polygon fill=\"#c1ffc1\" stroke=\"none\" points=\"381,-1715.5 158,-1715.5 158,-1671.5 381,-1671.5 381,-1715.5\"/>\n",
       "<polygon fill=\"none\" stroke=\"black\" points=\"158,-1671.5 158,-1715.5 204,-1715.5 204,-1671.5 158,-1671.5\"/>\n",
       "<text text-anchor=\"start\" x=\"167.88\" y=\"-1696.75\" font-family=\"Linux libertine\" font-size=\"10.00\">LSTM</text>\n",
       "<text text-anchor=\"start\" x=\"162.62\" y=\"-1684\" font-family=\"Linux libertine\" font-size=\"10.00\">depth:3</text>\n",
       "<polygon fill=\"none\" stroke=\"black\" points=\"204,-1693.5 204,-1715.5 251,-1715.5 251,-1693.5 204,-1693.5\"/>\n",
       "<text text-anchor=\"start\" x=\"213.62\" y=\"-1701\" font-family=\"Linux libertine\" font-size=\"10.00\">input:</text>\n",
       "<polygon fill=\"none\" stroke=\"black\" points=\"251,-1693.5 251,-1715.5 381,-1715.5 381,-1693.5 251,-1693.5\"/>\n",
       "<text text-anchor=\"start\" x=\"289.75\" y=\"-1701\" font-family=\"Linux libertine\" font-size=\"10.00\">(5, 37, 64) </text>\n",
       "<polygon fill=\"none\" stroke=\"black\" points=\"204,-1671.5 204,-1693.5 251,-1693.5 251,-1671.5 204,-1671.5\"/>\n",
       "<text text-anchor=\"start\" x=\"208.75\" y=\"-1679\" font-family=\"Linux libertine\" font-size=\"10.00\">output: </text>\n",
       "<polygon fill=\"none\" stroke=\"black\" points=\"251,-1671.5 251,-1693.5 381,-1693.5 381,-1671.5 251,-1671.5\"/>\n",
       "<text text-anchor=\"start\" x=\"256\" y=\"-1679\" font-family=\"Linux libertine\" font-size=\"10.00\">(5, 37, 64), 2 x (1, 5, 64) </text>\n",
       "</g>\n",
       "<!-- 10&#45;&gt;11 -->\n",
       "<g id=\"edge13\" class=\"edge\">\n",
       "<title>10&#45;&gt;11</title>\n",
       "<path fill=\"none\" stroke=\"black\" d=\"M259.98,-1751.6C261.28,-1743.82 262.78,-1734.8 264.21,-1726.26\"/>\n",
       "<polygon fill=\"black\" stroke=\"black\" points=\"267.81,-1726.9 266.01,-1716.46 260.91,-1725.75 267.81,-1726.9\"/>\n",
       "</g>\n",
       "<!-- 11&#45;&gt;12 -->\n",
       "<g id=\"edge14\" class=\"edge\">\n",
       "<title>11&#45;&gt;12</title>\n",
       "<path fill=\"none\" stroke=\"black\" d=\"M250.74,-1671.6C242.97,-1662.94 233.83,-1652.76 225.44,-1643.41\"/>\n",
       "<polygon fill=\"black\" stroke=\"black\" points=\"228.59,-1641.57 219.31,-1636.46 223.38,-1646.24 228.59,-1641.57\"/>\n",
       "</g>\n",
       "<!-- 13 -->\n",
       "<g id=\"node14\" class=\"node\">\n",
       "<title>13</title>\n",
       "<polygon fill=\"#c1ffc1\" stroke=\"none\" points=\"356,-1555.5 183,-1555.5 183,-1511.5 356,-1511.5 356,-1555.5\"/>\n",
       "<polygon fill=\"none\" stroke=\"black\" points=\"183,-1511.5 183,-1555.5 247,-1555.5 247,-1511.5 183,-1511.5\"/>\n",
       "<text text-anchor=\"start\" x=\"188\" y=\"-1536.75\" font-family=\"Linux libertine\" font-size=\"10.00\">LayerNorm</text>\n",
       "<text text-anchor=\"start\" x=\"196.62\" y=\"-1524\" font-family=\"Linux libertine\" font-size=\"10.00\">depth:3</text>\n",
       "<polygon fill=\"none\" stroke=\"black\" points=\"247,-1533.5 247,-1555.5 294,-1555.5 294,-1533.5 247,-1533.5\"/>\n",
       "<text text-anchor=\"start\" x=\"256.62\" y=\"-1541\" font-family=\"Linux libertine\" font-size=\"10.00\">input:</text>\n",
       "<polygon fill=\"none\" stroke=\"black\" points=\"294,-1533.5 294,-1555.5 356,-1555.5 356,-1533.5 294,-1533.5\"/>\n",
       "<text text-anchor=\"start\" x=\"298.75\" y=\"-1541\" font-family=\"Linux libertine\" font-size=\"10.00\">(5, 37, 64) </text>\n",
       "<polygon fill=\"none\" stroke=\"black\" points=\"247,-1511.5 247,-1533.5 294,-1533.5 294,-1511.5 247,-1511.5\"/>\n",
       "<text text-anchor=\"start\" x=\"251.75\" y=\"-1519\" font-family=\"Linux libertine\" font-size=\"10.00\">output: </text>\n",
       "<polygon fill=\"none\" stroke=\"black\" points=\"294,-1511.5 294,-1533.5 356,-1533.5 356,-1511.5 294,-1511.5\"/>\n",
       "<text text-anchor=\"start\" x=\"298.75\" y=\"-1519\" font-family=\"Linux libertine\" font-size=\"10.00\">(5, 37, 64) </text>\n",
       "</g>\n",
       "<!-- 12&#45;&gt;13 -->\n",
       "<g id=\"edge15\" class=\"edge\">\n",
       "<title>12&#45;&gt;13</title>\n",
       "<path fill=\"none\" stroke=\"black\" d=\"M218.26,-1591.6C226.03,-1582.94 235.17,-1572.76 243.56,-1563.41\"/>\n",
       "<polygon fill=\"black\" stroke=\"black\" points=\"245.62,-1566.24 249.69,-1556.46 240.41,-1561.57 245.62,-1566.24\"/>\n",
       "</g>\n",
       "<!-- 15 -->\n",
       "<g id=\"node16\" class=\"node\">\n",
       "<title>15</title>\n",
       "<polygon fill=\"aliceblue\" stroke=\"none\" points=\"299,-1395.5 126,-1395.5 126,-1351.5 299,-1351.5 299,-1395.5\"/>\n",
       "<polygon fill=\"none\" stroke=\"black\" points=\"126,-1351.5 126,-1395.5 172,-1395.5 172,-1351.5 126,-1351.5\"/>\n",
       "<text text-anchor=\"start\" x=\"140\" y=\"-1376.75\" font-family=\"Linux libertine\" font-size=\"10.00\">add</text>\n",
       "<text text-anchor=\"start\" x=\"130.62\" y=\"-1364\" font-family=\"Linux libertine\" font-size=\"10.00\">depth:3</text>\n",
       "<polygon fill=\"none\" stroke=\"black\" points=\"172,-1373.5 172,-1395.5 219,-1395.5 219,-1373.5 172,-1373.5\"/>\n",
       "<text text-anchor=\"start\" x=\"181.62\" y=\"-1381\" font-family=\"Linux libertine\" font-size=\"10.00\">input:</text>\n",
       "<polygon fill=\"none\" stroke=\"black\" points=\"219,-1373.5 219,-1395.5 299,-1395.5 299,-1373.5 219,-1373.5\"/>\n",
       "<text text-anchor=\"start\" x=\"223.75\" y=\"-1381\" font-family=\"Linux libertine\" font-size=\"10.00\">2 x (5, 37, 64) </text>\n",
       "<polygon fill=\"none\" stroke=\"black\" points=\"172,-1351.5 172,-1373.5 219,-1373.5 219,-1351.5 172,-1351.5\"/>\n",
       "<text text-anchor=\"start\" x=\"176.75\" y=\"-1359\" font-family=\"Linux libertine\" font-size=\"10.00\">output: </text>\n",
       "<polygon fill=\"none\" stroke=\"black\" points=\"219,-1351.5 219,-1373.5 299,-1373.5 299,-1351.5 219,-1351.5\"/>\n",
       "<text text-anchor=\"start\" x=\"232.75\" y=\"-1359\" font-family=\"Linux libertine\" font-size=\"10.00\">(5, 37, 64) </text>\n",
       "</g>\n",
       "<!-- 12&#45;&gt;15 -->\n",
       "<g id=\"edge16\" class=\"edge\">\n",
       "<title>12&#45;&gt;15</title>\n",
       "<path fill=\"none\" stroke=\"black\" d=\"M187.86,-1591.55C170.38,-1557.2 141.54,-1487.18 162.5,-1431.5 166.36,-1421.24 173,-1411.63 180.2,-1403.33\"/>\n",
       "<polygon fill=\"black\" stroke=\"black\" points=\"182.25,-1406.19 186.5,-1396.48 177.13,-1401.42 182.25,-1406.19\"/>\n",
       "</g>\n",
       "<!-- 14 -->\n",
       "<g id=\"node15\" class=\"node\">\n",
       "<title>14</title>\n",
       "<polygon fill=\"#c1ffc1\" stroke=\"none\" points=\"394,-1475.5 171,-1475.5 171,-1431.5 394,-1431.5 394,-1475.5\"/>\n",
       "<polygon fill=\"none\" stroke=\"black\" points=\"171,-1431.5 171,-1475.5 217,-1475.5 217,-1431.5 171,-1431.5\"/>\n",
       "<text text-anchor=\"start\" x=\"180.88\" y=\"-1456.75\" font-family=\"Linux libertine\" font-size=\"10.00\">LSTM</text>\n",
       "<text text-anchor=\"start\" x=\"175.62\" y=\"-1444\" font-family=\"Linux libertine\" font-size=\"10.00\">depth:3</text>\n",
       "<polygon fill=\"none\" stroke=\"black\" points=\"217,-1453.5 217,-1475.5 264,-1475.5 264,-1453.5 217,-1453.5\"/>\n",
       "<text text-anchor=\"start\" x=\"226.62\" y=\"-1461\" font-family=\"Linux libertine\" font-size=\"10.00\">input:</text>\n",
       "<polygon fill=\"none\" stroke=\"black\" points=\"264,-1453.5 264,-1475.5 394,-1475.5 394,-1453.5 264,-1453.5\"/>\n",
       "<text text-anchor=\"start\" x=\"302.75\" y=\"-1461\" font-family=\"Linux libertine\" font-size=\"10.00\">(5, 37, 64) </text>\n",
       "<polygon fill=\"none\" stroke=\"black\" points=\"217,-1431.5 217,-1453.5 264,-1453.5 264,-1431.5 217,-1431.5\"/>\n",
       "<text text-anchor=\"start\" x=\"221.75\" y=\"-1439\" font-family=\"Linux libertine\" font-size=\"10.00\">output: </text>\n",
       "<polygon fill=\"none\" stroke=\"black\" points=\"264,-1431.5 264,-1453.5 394,-1453.5 394,-1431.5 264,-1431.5\"/>\n",
       "<text text-anchor=\"start\" x=\"269\" y=\"-1439\" font-family=\"Linux libertine\" font-size=\"10.00\">(5, 37, 64), 2 x (1, 5, 64) </text>\n",
       "</g>\n",
       "<!-- 13&#45;&gt;14 -->\n",
       "<g id=\"edge17\" class=\"edge\">\n",
       "<title>13&#45;&gt;14</title>\n",
       "<path fill=\"none\" stroke=\"black\" d=\"M272.98,-1511.6C274.28,-1503.82 275.78,-1494.8 277.21,-1486.26\"/>\n",
       "<polygon fill=\"black\" stroke=\"black\" points=\"280.81,-1486.9 279.01,-1476.46 273.91,-1485.75 280.81,-1486.9\"/>\n",
       "</g>\n",
       "<!-- 14&#45;&gt;15 -->\n",
       "<g id=\"edge18\" class=\"edge\">\n",
       "<title>14&#45;&gt;15</title>\n",
       "<path fill=\"none\" stroke=\"black\" d=\"M263.74,-1431.6C255.97,-1422.94 246.83,-1412.76 238.44,-1403.41\"/>\n",
       "<polygon fill=\"black\" stroke=\"black\" points=\"241.59,-1401.57 232.31,-1396.46 236.38,-1406.24 241.59,-1401.57\"/>\n",
       "</g>\n",
       "<!-- 16 -->\n",
       "<g id=\"node17\" class=\"node\">\n",
       "<title>16</title>\n",
       "<polygon fill=\"#c1ffc1\" stroke=\"none\" points=\"369,-1315.5 196,-1315.5 196,-1271.5 369,-1271.5 369,-1315.5\"/>\n",
       "<polygon fill=\"none\" stroke=\"black\" points=\"196,-1271.5 196,-1315.5 260,-1315.5 260,-1271.5 196,-1271.5\"/>\n",
       "<text text-anchor=\"start\" x=\"201\" y=\"-1296.75\" font-family=\"Linux libertine\" font-size=\"10.00\">LayerNorm</text>\n",
       "<text text-anchor=\"start\" x=\"209.62\" y=\"-1284\" font-family=\"Linux libertine\" font-size=\"10.00\">depth:3</text>\n",
       "<polygon fill=\"none\" stroke=\"black\" points=\"260,-1293.5 260,-1315.5 307,-1315.5 307,-1293.5 260,-1293.5\"/>\n",
       "<text text-anchor=\"start\" x=\"269.62\" y=\"-1301\" font-family=\"Linux libertine\" font-size=\"10.00\">input:</text>\n",
       "<polygon fill=\"none\" stroke=\"black\" points=\"307,-1293.5 307,-1315.5 369,-1315.5 369,-1293.5 307,-1293.5\"/>\n",
       "<text text-anchor=\"start\" x=\"311.75\" y=\"-1301\" font-family=\"Linux libertine\" font-size=\"10.00\">(5, 37, 64) </text>\n",
       "<polygon fill=\"none\" stroke=\"black\" points=\"260,-1271.5 260,-1293.5 307,-1293.5 307,-1271.5 260,-1271.5\"/>\n",
       "<text text-anchor=\"start\" x=\"264.75\" y=\"-1279\" font-family=\"Linux libertine\" font-size=\"10.00\">output: </text>\n",
       "<polygon fill=\"none\" stroke=\"black\" points=\"307,-1271.5 307,-1293.5 369,-1293.5 369,-1271.5 307,-1271.5\"/>\n",
       "<text text-anchor=\"start\" x=\"311.75\" y=\"-1279\" font-family=\"Linux libertine\" font-size=\"10.00\">(5, 37, 64) </text>\n",
       "</g>\n",
       "<!-- 15&#45;&gt;16 -->\n",
       "<g id=\"edge19\" class=\"edge\">\n",
       "<title>15&#45;&gt;16</title>\n",
       "<path fill=\"none\" stroke=\"black\" d=\"M231.26,-1351.6C239.03,-1342.94 248.17,-1332.76 256.56,-1323.41\"/>\n",
       "<polygon fill=\"black\" stroke=\"black\" points=\"258.62,-1326.24 262.69,-1316.46 253.41,-1321.57 258.62,-1326.24\"/>\n",
       "</g>\n",
       "<!-- 18 -->\n",
       "<g id=\"node19\" class=\"node\">\n",
       "<title>18</title>\n",
       "<polygon fill=\"aliceblue\" stroke=\"none\" points=\"312,-1155.5 139,-1155.5 139,-1111.5 312,-1111.5 312,-1155.5\"/>\n",
       "<polygon fill=\"none\" stroke=\"black\" points=\"139,-1111.5 139,-1155.5 185,-1155.5 185,-1111.5 139,-1111.5\"/>\n",
       "<text text-anchor=\"start\" x=\"153\" y=\"-1136.75\" font-family=\"Linux libertine\" font-size=\"10.00\">add</text>\n",
       "<text text-anchor=\"start\" x=\"143.62\" y=\"-1124\" font-family=\"Linux libertine\" font-size=\"10.00\">depth:3</text>\n",
       "<polygon fill=\"none\" stroke=\"black\" points=\"185,-1133.5 185,-1155.5 232,-1155.5 232,-1133.5 185,-1133.5\"/>\n",
       "<text text-anchor=\"start\" x=\"194.62\" y=\"-1141\" font-family=\"Linux libertine\" font-size=\"10.00\">input:</text>\n",
       "<polygon fill=\"none\" stroke=\"black\" points=\"232,-1133.5 232,-1155.5 312,-1155.5 312,-1133.5 232,-1133.5\"/>\n",
       "<text text-anchor=\"start\" x=\"236.75\" y=\"-1141\" font-family=\"Linux libertine\" font-size=\"10.00\">2 x (5, 37, 64) </text>\n",
       "<polygon fill=\"none\" stroke=\"black\" points=\"185,-1111.5 185,-1133.5 232,-1133.5 232,-1111.5 185,-1111.5\"/>\n",
       "<text text-anchor=\"start\" x=\"189.75\" y=\"-1119\" font-family=\"Linux libertine\" font-size=\"10.00\">output: </text>\n",
       "<polygon fill=\"none\" stroke=\"black\" points=\"232,-1111.5 232,-1133.5 312,-1133.5 312,-1111.5 232,-1111.5\"/>\n",
       "<text text-anchor=\"start\" x=\"245.75\" y=\"-1119\" font-family=\"Linux libertine\" font-size=\"10.00\">(5, 37, 64) </text>\n",
       "</g>\n",
       "<!-- 15&#45;&gt;18 -->\n",
       "<g id=\"edge20\" class=\"edge\">\n",
       "<title>15&#45;&gt;18</title>\n",
       "<path fill=\"none\" stroke=\"black\" d=\"M200.86,-1351.55C183.38,-1317.2 154.54,-1247.18 175.5,-1191.5 179.36,-1181.24 186,-1171.63 193.2,-1163.33\"/>\n",
       "<polygon fill=\"black\" stroke=\"black\" points=\"195.25,-1166.19 199.5,-1156.48 190.13,-1161.42 195.25,-1166.19\"/>\n",
       "</g>\n",
       "<!-- 17 -->\n",
       "<g id=\"node18\" class=\"node\">\n",
       "<title>17</title>\n",
       "<polygon fill=\"#c1ffc1\" stroke=\"none\" points=\"407,-1235.5 184,-1235.5 184,-1191.5 407,-1191.5 407,-1235.5\"/>\n",
       "<polygon fill=\"none\" stroke=\"black\" points=\"184,-1191.5 184,-1235.5 230,-1235.5 230,-1191.5 184,-1191.5\"/>\n",
       "<text text-anchor=\"start\" x=\"193.88\" y=\"-1216.75\" font-family=\"Linux libertine\" font-size=\"10.00\">LSTM</text>\n",
       "<text text-anchor=\"start\" x=\"188.62\" y=\"-1204\" font-family=\"Linux libertine\" font-size=\"10.00\">depth:3</text>\n",
       "<polygon fill=\"none\" stroke=\"black\" points=\"230,-1213.5 230,-1235.5 277,-1235.5 277,-1213.5 230,-1213.5\"/>\n",
       "<text text-anchor=\"start\" x=\"239.62\" y=\"-1221\" font-family=\"Linux libertine\" font-size=\"10.00\">input:</text>\n",
       "<polygon fill=\"none\" stroke=\"black\" points=\"277,-1213.5 277,-1235.5 407,-1235.5 407,-1213.5 277,-1213.5\"/>\n",
       "<text text-anchor=\"start\" x=\"315.75\" y=\"-1221\" font-family=\"Linux libertine\" font-size=\"10.00\">(5, 37, 64) </text>\n",
       "<polygon fill=\"none\" stroke=\"black\" points=\"230,-1191.5 230,-1213.5 277,-1213.5 277,-1191.5 230,-1191.5\"/>\n",
       "<text text-anchor=\"start\" x=\"234.75\" y=\"-1199\" font-family=\"Linux libertine\" font-size=\"10.00\">output: </text>\n",
       "<polygon fill=\"none\" stroke=\"black\" points=\"277,-1191.5 277,-1213.5 407,-1213.5 407,-1191.5 277,-1191.5\"/>\n",
       "<text text-anchor=\"start\" x=\"282\" y=\"-1199\" font-family=\"Linux libertine\" font-size=\"10.00\">(5, 37, 64), 2 x (1, 5, 64) </text>\n",
       "</g>\n",
       "<!-- 16&#45;&gt;17 -->\n",
       "<g id=\"edge21\" class=\"edge\">\n",
       "<title>16&#45;&gt;17</title>\n",
       "<path fill=\"none\" stroke=\"black\" d=\"M285.98,-1271.6C287.28,-1263.82 288.78,-1254.8 290.21,-1246.26\"/>\n",
       "<polygon fill=\"black\" stroke=\"black\" points=\"293.81,-1246.9 292.01,-1236.46 286.91,-1245.75 293.81,-1246.9\"/>\n",
       "</g>\n",
       "<!-- 17&#45;&gt;18 -->\n",
       "<g id=\"edge22\" class=\"edge\">\n",
       "<title>17&#45;&gt;18</title>\n",
       "<path fill=\"none\" stroke=\"black\" d=\"M276.74,-1191.6C268.97,-1182.94 259.83,-1172.76 251.44,-1163.41\"/>\n",
       "<polygon fill=\"black\" stroke=\"black\" points=\"254.59,-1161.57 245.31,-1156.46 249.38,-1166.24 254.59,-1161.57\"/>\n",
       "</g>\n",
       "<!-- 19 -->\n",
       "<g id=\"node20\" class=\"node\">\n",
       "<title>19</title>\n",
       "<polygon fill=\"#c1ffc1\" stroke=\"none\" points=\"382,-1075.5 209,-1075.5 209,-1031.5 382,-1031.5 382,-1075.5\"/>\n",
       "<polygon fill=\"none\" stroke=\"black\" points=\"209,-1031.5 209,-1075.5 273,-1075.5 273,-1031.5 209,-1031.5\"/>\n",
       "<text text-anchor=\"start\" x=\"214\" y=\"-1056.75\" font-family=\"Linux libertine\" font-size=\"10.00\">LayerNorm</text>\n",
       "<text text-anchor=\"start\" x=\"222.62\" y=\"-1044\" font-family=\"Linux libertine\" font-size=\"10.00\">depth:3</text>\n",
       "<polygon fill=\"none\" stroke=\"black\" points=\"273,-1053.5 273,-1075.5 320,-1075.5 320,-1053.5 273,-1053.5\"/>\n",
       "<text text-anchor=\"start\" x=\"282.62\" y=\"-1061\" font-family=\"Linux libertine\" font-size=\"10.00\">input:</text>\n",
       "<polygon fill=\"none\" stroke=\"black\" points=\"320,-1053.5 320,-1075.5 382,-1075.5 382,-1053.5 320,-1053.5\"/>\n",
       "<text text-anchor=\"start\" x=\"324.75\" y=\"-1061\" font-family=\"Linux libertine\" font-size=\"10.00\">(5, 37, 64) </text>\n",
       "<polygon fill=\"none\" stroke=\"black\" points=\"273,-1031.5 273,-1053.5 320,-1053.5 320,-1031.5 273,-1031.5\"/>\n",
       "<text text-anchor=\"start\" x=\"277.75\" y=\"-1039\" font-family=\"Linux libertine\" font-size=\"10.00\">output: </text>\n",
       "<polygon fill=\"none\" stroke=\"black\" points=\"320,-1031.5 320,-1053.5 382,-1053.5 382,-1031.5 320,-1031.5\"/>\n",
       "<text text-anchor=\"start\" x=\"324.75\" y=\"-1039\" font-family=\"Linux libertine\" font-size=\"10.00\">(5, 37, 64) </text>\n",
       "</g>\n",
       "<!-- 18&#45;&gt;19 -->\n",
       "<g id=\"edge23\" class=\"edge\">\n",
       "<title>18&#45;&gt;19</title>\n",
       "<path fill=\"none\" stroke=\"black\" d=\"M244.26,-1111.6C252.03,-1102.94 261.17,-1092.76 269.56,-1083.41\"/>\n",
       "<polygon fill=\"black\" stroke=\"black\" points=\"271.62,-1086.24 275.69,-1076.46 266.41,-1081.57 271.62,-1086.24\"/>\n",
       "</g>\n",
       "<!-- 21 -->\n",
       "<g id=\"node22\" class=\"node\">\n",
       "<title>21</title>\n",
       "<polygon fill=\"aliceblue\" stroke=\"none\" points=\"325,-915.5 152,-915.5 152,-871.5 325,-871.5 325,-915.5\"/>\n",
       "<polygon fill=\"none\" stroke=\"black\" points=\"152,-871.5 152,-915.5 198,-915.5 198,-871.5 152,-871.5\"/>\n",
       "<text text-anchor=\"start\" x=\"166\" y=\"-896.75\" font-family=\"Linux libertine\" font-size=\"10.00\">add</text>\n",
       "<text text-anchor=\"start\" x=\"156.62\" y=\"-884\" font-family=\"Linux libertine\" font-size=\"10.00\">depth:3</text>\n",
       "<polygon fill=\"none\" stroke=\"black\" points=\"198,-893.5 198,-915.5 245,-915.5 245,-893.5 198,-893.5\"/>\n",
       "<text text-anchor=\"start\" x=\"207.62\" y=\"-901\" font-family=\"Linux libertine\" font-size=\"10.00\">input:</text>\n",
       "<polygon fill=\"none\" stroke=\"black\" points=\"245,-893.5 245,-915.5 325,-915.5 325,-893.5 245,-893.5\"/>\n",
       "<text text-anchor=\"start\" x=\"249.75\" y=\"-901\" font-family=\"Linux libertine\" font-size=\"10.00\">2 x (5, 37, 64) </text>\n",
       "<polygon fill=\"none\" stroke=\"black\" points=\"198,-871.5 198,-893.5 245,-893.5 245,-871.5 198,-871.5\"/>\n",
       "<text text-anchor=\"start\" x=\"202.75\" y=\"-879\" font-family=\"Linux libertine\" font-size=\"10.00\">output: </text>\n",
       "<polygon fill=\"none\" stroke=\"black\" points=\"245,-871.5 245,-893.5 325,-893.5 325,-871.5 245,-871.5\"/>\n",
       "<text text-anchor=\"start\" x=\"258.75\" y=\"-879\" font-family=\"Linux libertine\" font-size=\"10.00\">(5, 37, 64) </text>\n",
       "</g>\n",
       "<!-- 18&#45;&gt;21 -->\n",
       "<g id=\"edge24\" class=\"edge\">\n",
       "<title>18&#45;&gt;21</title>\n",
       "<path fill=\"none\" stroke=\"black\" d=\"M213.86,-1111.55C196.38,-1077.2 167.54,-1007.18 188.5,-951.5 192.36,-941.24 199,-931.63 206.2,-923.33\"/>\n",
       "<polygon fill=\"black\" stroke=\"black\" points=\"208.25,-926.19 212.5,-916.48 203.13,-921.42 208.25,-926.19\"/>\n",
       "</g>\n",
       "<!-- 20 -->\n",
       "<g id=\"node21\" class=\"node\">\n",
       "<title>20</title>\n",
       "<polygon fill=\"#c1ffc1\" stroke=\"none\" points=\"420,-995.5 197,-995.5 197,-951.5 420,-951.5 420,-995.5\"/>\n",
       "<polygon fill=\"none\" stroke=\"black\" points=\"197,-951.5 197,-995.5 243,-995.5 243,-951.5 197,-951.5\"/>\n",
       "<text text-anchor=\"start\" x=\"206.88\" y=\"-976.75\" font-family=\"Linux libertine\" font-size=\"10.00\">LSTM</text>\n",
       "<text text-anchor=\"start\" x=\"201.62\" y=\"-964\" font-family=\"Linux libertine\" font-size=\"10.00\">depth:3</text>\n",
       "<polygon fill=\"none\" stroke=\"black\" points=\"243,-973.5 243,-995.5 290,-995.5 290,-973.5 243,-973.5\"/>\n",
       "<text text-anchor=\"start\" x=\"252.62\" y=\"-981\" font-family=\"Linux libertine\" font-size=\"10.00\">input:</text>\n",
       "<polygon fill=\"none\" stroke=\"black\" points=\"290,-973.5 290,-995.5 420,-995.5 420,-973.5 290,-973.5\"/>\n",
       "<text text-anchor=\"start\" x=\"328.75\" y=\"-981\" font-family=\"Linux libertine\" font-size=\"10.00\">(5, 37, 64) </text>\n",
       "<polygon fill=\"none\" stroke=\"black\" points=\"243,-951.5 243,-973.5 290,-973.5 290,-951.5 243,-951.5\"/>\n",
       "<text text-anchor=\"start\" x=\"247.75\" y=\"-959\" font-family=\"Linux libertine\" font-size=\"10.00\">output: </text>\n",
       "<polygon fill=\"none\" stroke=\"black\" points=\"290,-951.5 290,-973.5 420,-973.5 420,-951.5 290,-951.5\"/>\n",
       "<text text-anchor=\"start\" x=\"295\" y=\"-959\" font-family=\"Linux libertine\" font-size=\"10.00\">(5, 37, 64), 2 x (1, 5, 64) </text>\n",
       "</g>\n",
       "<!-- 19&#45;&gt;20 -->\n",
       "<g id=\"edge25\" class=\"edge\">\n",
       "<title>19&#45;&gt;20</title>\n",
       "<path fill=\"none\" stroke=\"black\" d=\"M298.98,-1031.6C300.28,-1023.82 301.78,-1014.8 303.21,-1006.26\"/>\n",
       "<polygon fill=\"black\" stroke=\"black\" points=\"306.81,-1006.9 305.01,-996.46 299.91,-1005.75 306.81,-1006.9\"/>\n",
       "</g>\n",
       "<!-- 20&#45;&gt;21 -->\n",
       "<g id=\"edge26\" class=\"edge\">\n",
       "<title>20&#45;&gt;21</title>\n",
       "<path fill=\"none\" stroke=\"black\" d=\"M289.74,-951.6C281.97,-942.94 272.83,-932.76 264.44,-923.41\"/>\n",
       "<polygon fill=\"black\" stroke=\"black\" points=\"267.59,-921.57 258.31,-916.46 262.38,-926.24 267.59,-921.57\"/>\n",
       "</g>\n",
       "<!-- 22 -->\n",
       "<g id=\"node23\" class=\"node\">\n",
       "<title>22</title>\n",
       "<polygon fill=\"#c1ffc1\" stroke=\"none\" points=\"395,-835.5 222,-835.5 222,-791.5 395,-791.5 395,-835.5\"/>\n",
       "<polygon fill=\"none\" stroke=\"black\" points=\"222,-791.5 222,-835.5 286,-835.5 286,-791.5 222,-791.5\"/>\n",
       "<text text-anchor=\"start\" x=\"227\" y=\"-816.75\" font-family=\"Linux libertine\" font-size=\"10.00\">LayerNorm</text>\n",
       "<text text-anchor=\"start\" x=\"235.62\" y=\"-804\" font-family=\"Linux libertine\" font-size=\"10.00\">depth:3</text>\n",
       "<polygon fill=\"none\" stroke=\"black\" points=\"286,-813.5 286,-835.5 333,-835.5 333,-813.5 286,-813.5\"/>\n",
       "<text text-anchor=\"start\" x=\"295.62\" y=\"-821\" font-family=\"Linux libertine\" font-size=\"10.00\">input:</text>\n",
       "<polygon fill=\"none\" stroke=\"black\" points=\"333,-813.5 333,-835.5 395,-835.5 395,-813.5 333,-813.5\"/>\n",
       "<text text-anchor=\"start\" x=\"337.75\" y=\"-821\" font-family=\"Linux libertine\" font-size=\"10.00\">(5, 37, 64) </text>\n",
       "<polygon fill=\"none\" stroke=\"black\" points=\"286,-791.5 286,-813.5 333,-813.5 333,-791.5 286,-791.5\"/>\n",
       "<text text-anchor=\"start\" x=\"290.75\" y=\"-799\" font-family=\"Linux libertine\" font-size=\"10.00\">output: </text>\n",
       "<polygon fill=\"none\" stroke=\"black\" points=\"333,-791.5 333,-813.5 395,-813.5 395,-791.5 333,-791.5\"/>\n",
       "<text text-anchor=\"start\" x=\"337.75\" y=\"-799\" font-family=\"Linux libertine\" font-size=\"10.00\">(5, 37, 64) </text>\n",
       "</g>\n",
       "<!-- 21&#45;&gt;22 -->\n",
       "<g id=\"edge27\" class=\"edge\">\n",
       "<title>21&#45;&gt;22</title>\n",
       "<path fill=\"none\" stroke=\"black\" d=\"M257.26,-871.6C265.03,-862.94 274.17,-852.76 282.56,-843.41\"/>\n",
       "<polygon fill=\"black\" stroke=\"black\" points=\"284.62,-846.24 288.69,-836.46 279.41,-841.57 284.62,-846.24\"/>\n",
       "</g>\n",
       "<!-- 24 -->\n",
       "<g id=\"node25\" class=\"node\">\n",
       "<title>24</title>\n",
       "<polygon fill=\"aliceblue\" stroke=\"none\" points=\"338,-675.5 165,-675.5 165,-631.5 338,-631.5 338,-675.5\"/>\n",
       "<polygon fill=\"none\" stroke=\"black\" points=\"165,-631.5 165,-675.5 211,-675.5 211,-631.5 165,-631.5\"/>\n",
       "<text text-anchor=\"start\" x=\"179\" y=\"-656.75\" font-family=\"Linux libertine\" font-size=\"10.00\">add</text>\n",
       "<text text-anchor=\"start\" x=\"169.62\" y=\"-644\" font-family=\"Linux libertine\" font-size=\"10.00\">depth:3</text>\n",
       "<polygon fill=\"none\" stroke=\"black\" points=\"211,-653.5 211,-675.5 258,-675.5 258,-653.5 211,-653.5\"/>\n",
       "<text text-anchor=\"start\" x=\"220.62\" y=\"-661\" font-family=\"Linux libertine\" font-size=\"10.00\">input:</text>\n",
       "<polygon fill=\"none\" stroke=\"black\" points=\"258,-653.5 258,-675.5 338,-675.5 338,-653.5 258,-653.5\"/>\n",
       "<text text-anchor=\"start\" x=\"262.75\" y=\"-661\" font-family=\"Linux libertine\" font-size=\"10.00\">2 x (5, 37, 64) </text>\n",
       "<polygon fill=\"none\" stroke=\"black\" points=\"211,-631.5 211,-653.5 258,-653.5 258,-631.5 211,-631.5\"/>\n",
       "<text text-anchor=\"start\" x=\"215.75\" y=\"-639\" font-family=\"Linux libertine\" font-size=\"10.00\">output: </text>\n",
       "<polygon fill=\"none\" stroke=\"black\" points=\"258,-631.5 258,-653.5 338,-653.5 338,-631.5 258,-631.5\"/>\n",
       "<text text-anchor=\"start\" x=\"271.75\" y=\"-639\" font-family=\"Linux libertine\" font-size=\"10.00\">(5, 37, 64) </text>\n",
       "</g>\n",
       "<!-- 21&#45;&gt;24 -->\n",
       "<g id=\"edge28\" class=\"edge\">\n",
       "<title>21&#45;&gt;24</title>\n",
       "<path fill=\"none\" stroke=\"black\" d=\"M226.86,-871.55C209.38,-837.2 180.54,-767.18 201.5,-711.5 205.36,-701.24 212,-691.63 219.2,-683.33\"/>\n",
       "<polygon fill=\"black\" stroke=\"black\" points=\"221.25,-686.19 225.5,-676.48 216.13,-681.42 221.25,-686.19\"/>\n",
       "</g>\n",
       "<!-- 23 -->\n",
       "<g id=\"node24\" class=\"node\">\n",
       "<title>23</title>\n",
       "<polygon fill=\"#c1ffc1\" stroke=\"none\" points=\"433,-755.5 210,-755.5 210,-711.5 433,-711.5 433,-755.5\"/>\n",
       "<polygon fill=\"none\" stroke=\"black\" points=\"210,-711.5 210,-755.5 256,-755.5 256,-711.5 210,-711.5\"/>\n",
       "<text text-anchor=\"start\" x=\"219.88\" y=\"-736.75\" font-family=\"Linux libertine\" font-size=\"10.00\">LSTM</text>\n",
       "<text text-anchor=\"start\" x=\"214.62\" y=\"-724\" font-family=\"Linux libertine\" font-size=\"10.00\">depth:3</text>\n",
       "<polygon fill=\"none\" stroke=\"black\" points=\"256,-733.5 256,-755.5 303,-755.5 303,-733.5 256,-733.5\"/>\n",
       "<text text-anchor=\"start\" x=\"265.62\" y=\"-741\" font-family=\"Linux libertine\" font-size=\"10.00\">input:</text>\n",
       "<polygon fill=\"none\" stroke=\"black\" points=\"303,-733.5 303,-755.5 433,-755.5 433,-733.5 303,-733.5\"/>\n",
       "<text text-anchor=\"start\" x=\"341.75\" y=\"-741\" font-family=\"Linux libertine\" font-size=\"10.00\">(5, 37, 64) </text>\n",
       "<polygon fill=\"none\" stroke=\"black\" points=\"256,-711.5 256,-733.5 303,-733.5 303,-711.5 256,-711.5\"/>\n",
       "<text text-anchor=\"start\" x=\"260.75\" y=\"-719\" font-family=\"Linux libertine\" font-size=\"10.00\">output: </text>\n",
       "<polygon fill=\"none\" stroke=\"black\" points=\"303,-711.5 303,-733.5 433,-733.5 433,-711.5 303,-711.5\"/>\n",
       "<text text-anchor=\"start\" x=\"308\" y=\"-719\" font-family=\"Linux libertine\" font-size=\"10.00\">(5, 37, 64), 2 x (1, 5, 64) </text>\n",
       "</g>\n",
       "<!-- 22&#45;&gt;23 -->\n",
       "<g id=\"edge29\" class=\"edge\">\n",
       "<title>22&#45;&gt;23</title>\n",
       "<path fill=\"none\" stroke=\"black\" d=\"M311.98,-791.6C313.28,-783.82 314.78,-774.8 316.21,-766.26\"/>\n",
       "<polygon fill=\"black\" stroke=\"black\" points=\"319.81,-766.9 318.01,-756.46 312.91,-765.75 319.81,-766.9\"/>\n",
       "</g>\n",
       "<!-- 23&#45;&gt;24 -->\n",
       "<g id=\"edge30\" class=\"edge\">\n",
       "<title>23&#45;&gt;24</title>\n",
       "<path fill=\"none\" stroke=\"black\" d=\"M302.74,-711.6C294.97,-702.94 285.83,-692.76 277.44,-683.41\"/>\n",
       "<polygon fill=\"black\" stroke=\"black\" points=\"280.59,-681.57 271.31,-676.46 275.38,-686.24 280.59,-681.57\"/>\n",
       "</g>\n",
       "<!-- 25 -->\n",
       "<g id=\"node26\" class=\"node\">\n",
       "<title>25</title>\n",
       "<polygon fill=\"#c1ffc1\" stroke=\"none\" points=\"408,-595.5 235,-595.5 235,-551.5 408,-551.5 408,-595.5\"/>\n",
       "<polygon fill=\"none\" stroke=\"black\" points=\"235,-551.5 235,-595.5 299,-595.5 299,-551.5 235,-551.5\"/>\n",
       "<text text-anchor=\"start\" x=\"240\" y=\"-576.75\" font-family=\"Linux libertine\" font-size=\"10.00\">LayerNorm</text>\n",
       "<text text-anchor=\"start\" x=\"248.62\" y=\"-564\" font-family=\"Linux libertine\" font-size=\"10.00\">depth:3</text>\n",
       "<polygon fill=\"none\" stroke=\"black\" points=\"299,-573.5 299,-595.5 346,-595.5 346,-573.5 299,-573.5\"/>\n",
       "<text text-anchor=\"start\" x=\"308.62\" y=\"-581\" font-family=\"Linux libertine\" font-size=\"10.00\">input:</text>\n",
       "<polygon fill=\"none\" stroke=\"black\" points=\"346,-573.5 346,-595.5 408,-595.5 408,-573.5 346,-573.5\"/>\n",
       "<text text-anchor=\"start\" x=\"350.75\" y=\"-581\" font-family=\"Linux libertine\" font-size=\"10.00\">(5, 37, 64) </text>\n",
       "<polygon fill=\"none\" stroke=\"black\" points=\"299,-551.5 299,-573.5 346,-573.5 346,-551.5 299,-551.5\"/>\n",
       "<text text-anchor=\"start\" x=\"303.75\" y=\"-559\" font-family=\"Linux libertine\" font-size=\"10.00\">output: </text>\n",
       "<polygon fill=\"none\" stroke=\"black\" points=\"346,-551.5 346,-573.5 408,-573.5 408,-551.5 346,-551.5\"/>\n",
       "<text text-anchor=\"start\" x=\"350.75\" y=\"-559\" font-family=\"Linux libertine\" font-size=\"10.00\">(5, 37, 64) </text>\n",
       "</g>\n",
       "<!-- 24&#45;&gt;25 -->\n",
       "<g id=\"edge31\" class=\"edge\">\n",
       "<title>24&#45;&gt;25</title>\n",
       "<path fill=\"none\" stroke=\"black\" d=\"M270.26,-631.6C278.03,-622.94 287.17,-612.76 295.56,-603.41\"/>\n",
       "<polygon fill=\"black\" stroke=\"black\" points=\"297.62,-606.24 301.69,-596.46 292.41,-601.57 297.62,-606.24\"/>\n",
       "</g>\n",
       "<!-- 27 -->\n",
       "<g id=\"node28\" class=\"node\">\n",
       "<title>27</title>\n",
       "<polygon fill=\"aliceblue\" stroke=\"none\" points=\"351,-435.5 178,-435.5 178,-391.5 351,-391.5 351,-435.5\"/>\n",
       "<polygon fill=\"none\" stroke=\"black\" points=\"178,-391.5 178,-435.5 224,-435.5 224,-391.5 178,-391.5\"/>\n",
       "<text text-anchor=\"start\" x=\"192\" y=\"-416.75\" font-family=\"Linux libertine\" font-size=\"10.00\">add</text>\n",
       "<text text-anchor=\"start\" x=\"182.62\" y=\"-404\" font-family=\"Linux libertine\" font-size=\"10.00\">depth:3</text>\n",
       "<polygon fill=\"none\" stroke=\"black\" points=\"224,-413.5 224,-435.5 271,-435.5 271,-413.5 224,-413.5\"/>\n",
       "<text text-anchor=\"start\" x=\"233.62\" y=\"-421\" font-family=\"Linux libertine\" font-size=\"10.00\">input:</text>\n",
       "<polygon fill=\"none\" stroke=\"black\" points=\"271,-413.5 271,-435.5 351,-435.5 351,-413.5 271,-413.5\"/>\n",
       "<text text-anchor=\"start\" x=\"275.75\" y=\"-421\" font-family=\"Linux libertine\" font-size=\"10.00\">2 x (5, 37, 64) </text>\n",
       "<polygon fill=\"none\" stroke=\"black\" points=\"224,-391.5 224,-413.5 271,-413.5 271,-391.5 224,-391.5\"/>\n",
       "<text text-anchor=\"start\" x=\"228.75\" y=\"-399\" font-family=\"Linux libertine\" font-size=\"10.00\">output: </text>\n",
       "<polygon fill=\"none\" stroke=\"black\" points=\"271,-391.5 271,-413.5 351,-413.5 351,-391.5 271,-391.5\"/>\n",
       "<text text-anchor=\"start\" x=\"284.75\" y=\"-399\" font-family=\"Linux libertine\" font-size=\"10.00\">(5, 37, 64) </text>\n",
       "</g>\n",
       "<!-- 24&#45;&gt;27 -->\n",
       "<g id=\"edge32\" class=\"edge\">\n",
       "<title>24&#45;&gt;27</title>\n",
       "<path fill=\"none\" stroke=\"black\" d=\"M239.86,-631.55C222.38,-597.2 193.54,-527.18 214.5,-471.5 218.36,-461.24 225,-451.63 232.2,-443.33\"/>\n",
       "<polygon fill=\"black\" stroke=\"black\" points=\"234.25,-446.19 238.5,-436.48 229.13,-441.42 234.25,-446.19\"/>\n",
       "</g>\n",
       "<!-- 26 -->\n",
       "<g id=\"node27\" class=\"node\">\n",
       "<title>26</title>\n",
       "<polygon fill=\"#c1ffc1\" stroke=\"none\" points=\"446,-515.5 223,-515.5 223,-471.5 446,-471.5 446,-515.5\"/>\n",
       "<polygon fill=\"none\" stroke=\"black\" points=\"223,-471.5 223,-515.5 269,-515.5 269,-471.5 223,-471.5\"/>\n",
       "<text text-anchor=\"start\" x=\"232.88\" y=\"-496.75\" font-family=\"Linux libertine\" font-size=\"10.00\">LSTM</text>\n",
       "<text text-anchor=\"start\" x=\"227.62\" y=\"-484\" font-family=\"Linux libertine\" font-size=\"10.00\">depth:3</text>\n",
       "<polygon fill=\"none\" stroke=\"black\" points=\"269,-493.5 269,-515.5 316,-515.5 316,-493.5 269,-493.5\"/>\n",
       "<text text-anchor=\"start\" x=\"278.62\" y=\"-501\" font-family=\"Linux libertine\" font-size=\"10.00\">input:</text>\n",
       "<polygon fill=\"none\" stroke=\"black\" points=\"316,-493.5 316,-515.5 446,-515.5 446,-493.5 316,-493.5\"/>\n",
       "<text text-anchor=\"start\" x=\"354.75\" y=\"-501\" font-family=\"Linux libertine\" font-size=\"10.00\">(5, 37, 64) </text>\n",
       "<polygon fill=\"none\" stroke=\"black\" points=\"269,-471.5 269,-493.5 316,-493.5 316,-471.5 269,-471.5\"/>\n",
       "<text text-anchor=\"start\" x=\"273.75\" y=\"-479\" font-family=\"Linux libertine\" font-size=\"10.00\">output: </text>\n",
       "<polygon fill=\"none\" stroke=\"black\" points=\"316,-471.5 316,-493.5 446,-493.5 446,-471.5 316,-471.5\"/>\n",
       "<text text-anchor=\"start\" x=\"321\" y=\"-479\" font-family=\"Linux libertine\" font-size=\"10.00\">(5, 37, 64), 2 x (1, 5, 64) </text>\n",
       "</g>\n",
       "<!-- 25&#45;&gt;26 -->\n",
       "<g id=\"edge33\" class=\"edge\">\n",
       "<title>25&#45;&gt;26</title>\n",
       "<path fill=\"none\" stroke=\"black\" d=\"M324.98,-551.6C326.28,-543.82 327.78,-534.8 329.21,-526.26\"/>\n",
       "<polygon fill=\"black\" stroke=\"black\" points=\"332.81,-526.9 331.01,-516.46 325.91,-525.75 332.81,-526.9\"/>\n",
       "</g>\n",
       "<!-- 26&#45;&gt;27 -->\n",
       "<g id=\"edge34\" class=\"edge\">\n",
       "<title>26&#45;&gt;27</title>\n",
       "<path fill=\"none\" stroke=\"black\" d=\"M315.74,-471.6C307.97,-462.94 298.83,-452.76 290.44,-443.41\"/>\n",
       "<polygon fill=\"black\" stroke=\"black\" points=\"293.59,-441.57 284.31,-436.46 288.38,-446.24 293.59,-441.57\"/>\n",
       "</g>\n",
       "<!-- 28 -->\n",
       "<g id=\"node29\" class=\"node\">\n",
       "<title>28</title>\n",
       "<polygon fill=\"#c1ffc1\" stroke=\"none\" points=\"421,-355.5 248,-355.5 248,-311.5 421,-311.5 421,-355.5\"/>\n",
       "<polygon fill=\"none\" stroke=\"black\" points=\"248,-311.5 248,-355.5 312,-355.5 312,-311.5 248,-311.5\"/>\n",
       "<text text-anchor=\"start\" x=\"253\" y=\"-336.75\" font-family=\"Linux libertine\" font-size=\"10.00\">LayerNorm</text>\n",
       "<text text-anchor=\"start\" x=\"261.62\" y=\"-324\" font-family=\"Linux libertine\" font-size=\"10.00\">depth:3</text>\n",
       "<polygon fill=\"none\" stroke=\"black\" points=\"312,-333.5 312,-355.5 359,-355.5 359,-333.5 312,-333.5\"/>\n",
       "<text text-anchor=\"start\" x=\"321.62\" y=\"-341\" font-family=\"Linux libertine\" font-size=\"10.00\">input:</text>\n",
       "<polygon fill=\"none\" stroke=\"black\" points=\"359,-333.5 359,-355.5 421,-355.5 421,-333.5 359,-333.5\"/>\n",
       "<text text-anchor=\"start\" x=\"363.75\" y=\"-341\" font-family=\"Linux libertine\" font-size=\"10.00\">(5, 37, 64) </text>\n",
       "<polygon fill=\"none\" stroke=\"black\" points=\"312,-311.5 312,-333.5 359,-333.5 359,-311.5 312,-311.5\"/>\n",
       "<text text-anchor=\"start\" x=\"316.75\" y=\"-319\" font-family=\"Linux libertine\" font-size=\"10.00\">output: </text>\n",
       "<polygon fill=\"none\" stroke=\"black\" points=\"359,-311.5 359,-333.5 421,-333.5 421,-311.5 359,-311.5\"/>\n",
       "<text text-anchor=\"start\" x=\"363.75\" y=\"-319\" font-family=\"Linux libertine\" font-size=\"10.00\">(5, 37, 64) </text>\n",
       "</g>\n",
       "<!-- 27&#45;&gt;28 -->\n",
       "<g id=\"edge35\" class=\"edge\">\n",
       "<title>27&#45;&gt;28</title>\n",
       "<path fill=\"none\" stroke=\"black\" d=\"M283.26,-391.6C291.03,-382.94 300.17,-372.76 308.56,-363.41\"/>\n",
       "<polygon fill=\"black\" stroke=\"black\" points=\"310.62,-366.24 314.69,-356.46 305.41,-361.57 310.62,-366.24\"/>\n",
       "</g>\n",
       "<!-- 30 -->\n",
       "<g id=\"node31\" class=\"node\">\n",
       "<title>30</title>\n",
       "<polygon fill=\"aliceblue\" stroke=\"none\" points=\"364,-195.5 191,-195.5 191,-151.5 364,-151.5 364,-195.5\"/>\n",
       "<polygon fill=\"none\" stroke=\"black\" points=\"191,-151.5 191,-195.5 237,-195.5 237,-151.5 191,-151.5\"/>\n",
       "<text text-anchor=\"start\" x=\"205\" y=\"-176.75\" font-family=\"Linux libertine\" font-size=\"10.00\">add</text>\n",
       "<text text-anchor=\"start\" x=\"195.62\" y=\"-164\" font-family=\"Linux libertine\" font-size=\"10.00\">depth:3</text>\n",
       "<polygon fill=\"none\" stroke=\"black\" points=\"237,-173.5 237,-195.5 284,-195.5 284,-173.5 237,-173.5\"/>\n",
       "<text text-anchor=\"start\" x=\"246.62\" y=\"-181\" font-family=\"Linux libertine\" font-size=\"10.00\">input:</text>\n",
       "<polygon fill=\"none\" stroke=\"black\" points=\"284,-173.5 284,-195.5 364,-195.5 364,-173.5 284,-173.5\"/>\n",
       "<text text-anchor=\"start\" x=\"288.75\" y=\"-181\" font-family=\"Linux libertine\" font-size=\"10.00\">2 x (5, 37, 64) </text>\n",
       "<polygon fill=\"none\" stroke=\"black\" points=\"237,-151.5 237,-173.5 284,-173.5 284,-151.5 237,-151.5\"/>\n",
       "<text text-anchor=\"start\" x=\"241.75\" y=\"-159\" font-family=\"Linux libertine\" font-size=\"10.00\">output: </text>\n",
       "<polygon fill=\"none\" stroke=\"black\" points=\"284,-151.5 284,-173.5 364,-173.5 364,-151.5 284,-151.5\"/>\n",
       "<text text-anchor=\"start\" x=\"297.75\" y=\"-159\" font-family=\"Linux libertine\" font-size=\"10.00\">(5, 37, 64) </text>\n",
       "</g>\n",
       "<!-- 27&#45;&gt;30 -->\n",
       "<g id=\"edge36\" class=\"edge\">\n",
       "<title>27&#45;&gt;30</title>\n",
       "<path fill=\"none\" stroke=\"black\" d=\"M252.86,-391.55C235.38,-357.2 206.54,-287.18 227.5,-231.5 231.36,-221.24 238,-211.63 245.2,-203.33\"/>\n",
       "<polygon fill=\"black\" stroke=\"black\" points=\"247.25,-206.19 251.5,-196.48 242.13,-201.42 247.25,-206.19\"/>\n",
       "</g>\n",
       "<!-- 29 -->\n",
       "<g id=\"node30\" class=\"node\">\n",
       "<title>29</title>\n",
       "<polygon fill=\"#c1ffc1\" stroke=\"none\" points=\"459,-275.5 236,-275.5 236,-231.5 459,-231.5 459,-275.5\"/>\n",
       "<polygon fill=\"none\" stroke=\"black\" points=\"236,-231.5 236,-275.5 282,-275.5 282,-231.5 236,-231.5\"/>\n",
       "<text text-anchor=\"start\" x=\"245.88\" y=\"-256.75\" font-family=\"Linux libertine\" font-size=\"10.00\">LSTM</text>\n",
       "<text text-anchor=\"start\" x=\"240.62\" y=\"-244\" font-family=\"Linux libertine\" font-size=\"10.00\">depth:3</text>\n",
       "<polygon fill=\"none\" stroke=\"black\" points=\"282,-253.5 282,-275.5 329,-275.5 329,-253.5 282,-253.5\"/>\n",
       "<text text-anchor=\"start\" x=\"291.62\" y=\"-261\" font-family=\"Linux libertine\" font-size=\"10.00\">input:</text>\n",
       "<polygon fill=\"none\" stroke=\"black\" points=\"329,-253.5 329,-275.5 459,-275.5 459,-253.5 329,-253.5\"/>\n",
       "<text text-anchor=\"start\" x=\"367.75\" y=\"-261\" font-family=\"Linux libertine\" font-size=\"10.00\">(5, 37, 64) </text>\n",
       "<polygon fill=\"none\" stroke=\"black\" points=\"282,-231.5 282,-253.5 329,-253.5 329,-231.5 282,-231.5\"/>\n",
       "<text text-anchor=\"start\" x=\"286.75\" y=\"-239\" font-family=\"Linux libertine\" font-size=\"10.00\">output: </text>\n",
       "<polygon fill=\"none\" stroke=\"black\" points=\"329,-231.5 329,-253.5 459,-253.5 459,-231.5 329,-231.5\"/>\n",
       "<text text-anchor=\"start\" x=\"334\" y=\"-239\" font-family=\"Linux libertine\" font-size=\"10.00\">(5, 37, 64), 2 x (1, 5, 64) </text>\n",
       "</g>\n",
       "<!-- 28&#45;&gt;29 -->\n",
       "<g id=\"edge37\" class=\"edge\">\n",
       "<title>28&#45;&gt;29</title>\n",
       "<path fill=\"none\" stroke=\"black\" d=\"M337.98,-311.6C339.28,-303.82 340.78,-294.8 342.21,-286.26\"/>\n",
       "<polygon fill=\"black\" stroke=\"black\" points=\"345.81,-286.9 344.01,-276.46 338.91,-285.75 345.81,-286.9\"/>\n",
       "</g>\n",
       "<!-- 29&#45;&gt;30 -->\n",
       "<g id=\"edge38\" class=\"edge\">\n",
       "<title>29&#45;&gt;30</title>\n",
       "<path fill=\"none\" stroke=\"black\" d=\"M328.74,-231.6C320.97,-222.94 311.83,-212.76 303.44,-203.41\"/>\n",
       "<polygon fill=\"black\" stroke=\"black\" points=\"306.59,-201.57 297.31,-196.46 301.38,-206.24 306.59,-201.57\"/>\n",
       "</g>\n",
       "<!-- 31 -->\n",
       "<g id=\"node32\" class=\"node\">\n",
       "<title>31</title>\n",
       "<polygon fill=\"#c1ffc1\" stroke=\"none\" points=\"364,-115.5 191,-115.5 191,-71.5 364,-71.5 364,-115.5\"/>\n",
       "<polygon fill=\"none\" stroke=\"black\" points=\"191,-71.5 191,-115.5 237,-115.5 237,-71.5 191,-71.5\"/>\n",
       "<text text-anchor=\"start\" x=\"199\" y=\"-96.75\" font-family=\"Linux libertine\" font-size=\"10.00\">Linear</text>\n",
       "<text text-anchor=\"start\" x=\"195.62\" y=\"-84\" font-family=\"Linux libertine\" font-size=\"10.00\">depth:1</text>\n",
       "<polygon fill=\"none\" stroke=\"black\" points=\"237,-93.5 237,-115.5 284,-115.5 284,-93.5 237,-93.5\"/>\n",
       "<text text-anchor=\"start\" x=\"246.62\" y=\"-101\" font-family=\"Linux libertine\" font-size=\"10.00\">input:</text>\n",
       "<polygon fill=\"none\" stroke=\"black\" points=\"284,-93.5 284,-115.5 364,-115.5 364,-93.5 284,-93.5\"/>\n",
       "<text text-anchor=\"start\" x=\"297.75\" y=\"-101\" font-family=\"Linux libertine\" font-size=\"10.00\">(5, 37, 64) </text>\n",
       "<polygon fill=\"none\" stroke=\"black\" points=\"237,-71.5 237,-93.5 284,-93.5 284,-71.5 237,-71.5\"/>\n",
       "<text text-anchor=\"start\" x=\"241.75\" y=\"-79\" font-family=\"Linux libertine\" font-size=\"10.00\">output: </text>\n",
       "<polygon fill=\"none\" stroke=\"black\" points=\"284,-71.5 284,-93.5 364,-93.5 364,-71.5 284,-71.5\"/>\n",
       "<text text-anchor=\"start\" x=\"288.75\" y=\"-79\" font-family=\"Linux libertine\" font-size=\"10.00\">(5, 37, 32286) </text>\n",
       "</g>\n",
       "<!-- 30&#45;&gt;31 -->\n",
       "<g id=\"edge39\" class=\"edge\">\n",
       "<title>30&#45;&gt;31</title>\n",
       "<path fill=\"none\" stroke=\"black\" d=\"M277.5,-151.6C277.5,-143.82 277.5,-134.8 277.5,-126.26\"/>\n",
       "<polygon fill=\"black\" stroke=\"black\" points=\"281,-126.46 277.5,-116.46 274,-126.46 281,-126.46\"/>\n",
       "</g>\n",
       "<!-- 32 -->\n",
       "<g id=\"node33\" class=\"node\">\n",
       "<title>32</title>\n",
       "<polygon fill=\"lightyellow\" stroke=\"none\" points=\"354.25,-35.5 200.75,-35.5 200.75,0 354.25,0 354.25,-35.5\"/>\n",
       "<polygon fill=\"none\" stroke=\"black\" points=\"200.75,0 200.75,-35.5 276.75,-35.5 276.75,0 200.75,0\"/>\n",
       "<text text-anchor=\"start\" x=\"205.75\" y=\"-21\" font-family=\"Linux libertine\" font-size=\"10.00\">output&#45;tensor</text>\n",
       "<text text-anchor=\"start\" x=\"220.38\" y=\"-8.25\" font-family=\"Linux libertine\" font-size=\"10.00\">depth:0</text>\n",
       "<polygon fill=\"none\" stroke=\"black\" points=\"276.75,0 276.75,-35.5 354.25,-35.5 354.25,0 276.75,0\"/>\n",
       "<text text-anchor=\"start\" x=\"281.75\" y=\"-14.62\" font-family=\"Linux libertine\" font-size=\"10.00\">(5, 37, 32286)</text>\n",
       "</g>\n",
       "<!-- 31&#45;&gt;32 -->\n",
       "<g id=\"edge40\" class=\"edge\">\n",
       "<title>31&#45;&gt;32</title>\n",
       "<path fill=\"none\" stroke=\"black\" d=\"M277.5,-71.56C277.5,-63.6 277.5,-54.41 277.5,-45.95\"/>\n",
       "<polygon fill=\"black\" stroke=\"black\" points=\"281,-46.05 277.5,-36.05 274,-46.05 281,-46.05\"/>\n",
       "</g>\n",
       "</g>\n",
       "</svg>\n"
      ],
      "text/plain": [
       "<graphviz.graphs.Digraph at 0x7fcafecfde90>"
      ]
     },
     "execution_count": 51,
     "metadata": {},
     "output_type": "execute_result"
    }
   ],
   "source": [
    "model_graph = draw_graph(dec_net, input_data=[enc_net(torch.Tensor(enc_x_train[0:5]).long().to(device)).cpu(),\n",
    "                            torch.Tensor(dec_x_train[0:5]).long()], device=device,\n",
    "                        hide_inner_tensors=True,hide_module_functions=True,\n",
    "                        expand_nested=False, depth=3, dtypes=[torch.long])\n",
    "model_graph.visual_graph"
   ]
  },
  {
   "cell_type": "markdown",
   "id": "291f0f29-b471-4a62-9cc8-65bfa50fec1f",
   "metadata": {},
   "source": [
    "### Training Hooks"
   ]
  },
  {
   "cell_type": "code",
   "execution_count": 52,
   "id": "3e0a99ce-0ebd-46cb-97ec-90cf91f40380",
   "metadata": {},
   "outputs": [],
   "source": [
    "class EncDecLightningModule(pl.LightningModule):\n",
    "    def __init__(self,\n",
    "                 output_size,\n",
    "                 **kwargs):\n",
    "        super().__init__(**kwargs)\n",
    "        self.mc_acc = torchmetrics.classification.Accuracy(task='multiclass',\n",
    "                                                           num_classes=output_size,\n",
    "                                                           ignore_index=0)\n",
    "        self.cce_loss = torch.nn.CrossEntropyLoss(ignore_index=0)\n",
    "\n",
    "    def predict(self, x):\n",
    "        return torch.softmax(self(x),-1)\n",
    "\n",
    "    def configure_optimizers(self):\n",
    "        optimizer = torch.optim.Adam(self.parameters(), lr=0.001)\n",
    "        return optimizer\n",
    "\n",
    "    def training_step(self, train_batch, batch_idx):\n",
    "        x_enc, x_dec, y_dec = train_batch\n",
    "        y_pred = self(x_enc, x_dec)\n",
    "        perm = (0,-1) + tuple(range(y_pred.ndim))[1:-1]\n",
    "        acc = self.mc_acc(y_pred.permute(*perm),y_dec)\n",
    "        loss = self.cce_loss(y_pred.permute(*perm),y_dec)\n",
    "        self.log('train_acc', acc, on_step=False, on_epoch=True)\n",
    "        self.log('train_loss', loss, on_step=False, on_epoch=True)\n",
    "        return loss\n",
    "\n",
    "    # Validate used for Teacher Forcing\n",
    "    def validation_step(self, val_batch, batch_idx):\n",
    "        x_enc, x_dec, y_dec = val_batch\n",
    "        y_pred = self(x_enc, x_dec)\n",
    "        perm = (0,-1) + tuple(range(y_pred.ndim))[1:-1]\n",
    "        acc = self.mc_acc(y_pred.permute(*perm),y_dec)\n",
    "        loss = self.cce_loss(y_pred.permute(*perm),y_dec)\n",
    "        self.log('val_acc', acc, on_step=False, on_epoch=True)\n",
    "        self.log('val_loss', loss, on_step=False, on_epoch=True)\n",
    "        return loss\n",
    "\n",
    "    # Test used for Non-Teacher Forcing\n",
    "    def test_step(self, test_batch, batch_idx):\n",
    "        x_enc, x_dec, y_dec = test_batch\n",
    "        context = self.enc_net(x_enc)\n",
    "        tokens = torch.zeros_like(x_dec).long()\n",
    "        tokens[:,0] = 1\n",
    "        for i in range(y_dec.shape[1]-1):\n",
    "            tokens[:,i+1] = self.dec_net(context, tokens).argmax(-1)[:,i]\n",
    "        y_pred = self(x_enc, tokens)\n",
    "        perm = (0,-1) + tuple(range(y_pred.ndim))[1:-1]\n",
    "        acc = self.mc_acc(y_pred.permute(*perm),y_dec)\n",
    "        loss = self.cce_loss(y_pred.permute(*perm),y_dec)\n",
    "        self.log('test_acc', acc, on_step=False, on_epoch=True)\n",
    "        self.log('test_loss', loss, on_step=False, on_epoch=True)\n",
    "        return loss\n"
   ]
  },
  {
   "cell_type": "markdown",
   "id": "85acd008-d9d1-4269-9a5d-ec57d7b4111b",
   "metadata": {},
   "source": [
    "### Encoder-Decoder Network"
   ]
  },
  {
   "cell_type": "code",
   "execution_count": 53,
   "id": "56e34dc0-74d8-4665-b62c-ecbc73146d47",
   "metadata": {},
   "outputs": [],
   "source": [
    "class EncDecNetwork(EncDecLightningModule):\n",
    "    def __init__(self,\n",
    "                 num_enc_tokens,\n",
    "                 num_dec_tokens,\n",
    "                 latent_size = 64, # Use something divisible by 2\n",
    "                 n_layers = 8,\n",
    "                 **kwargs):\n",
    "        super().__init__(output_size=num_dec_tokens,\n",
    "                         **kwargs)\n",
    "        self.enc_net = EncoderNetwork(num_enc_tokens,latent_size,n_layers)\n",
    "        self.dec_net = DecoderNetwork(num_dec_tokens,latent_size,n_layers)\n",
    "\n",
    "    def forward(self, x_enc, x_dec):\n",
    "        return self.dec_net(self.enc_net(x_enc), x_dec)"
   ]
  },
  {
   "cell_type": "code",
   "execution_count": 55,
   "id": "c8f11a17-0416-45e8-a25c-3a8ca0016dca",
   "metadata": {
    "scrolled": true
   },
   "outputs": [
    {
     "data": {
      "text/plain": [
       "==========================================================================================\n",
       "Layer (type:depth-idx)                   Output Shape              Param #\n",
       "==========================================================================================\n",
       "EncDecNetwork                            [1, 37, 32286]            --\n",
       "├─EncoderNetwork: 1-1                    [1, 256]                  --\n",
       "│    └─Embedding: 2-1                    [1, 41, 256]              5,029,120\n",
       "│    └─Dropout1d: 2-2                    [1, 41, 256]              --\n",
       "│    └─Sequential: 2-3                   [1, 41, 256]              --\n",
       "│    │    └─RecurrentResidual: 3-1       [1, 41, 256]              395,776\n",
       "│    │    └─RecurrentResidual: 3-2       [1, 41, 256]              395,776\n",
       "│    │    └─RecurrentResidual: 3-3       [1, 41, 256]              395,776\n",
       "│    │    └─RecurrentResidual: 3-4       [1, 41, 256]              395,776\n",
       "├─DecoderNetwork: 1-2                    [1, 37, 32286]            --\n",
       "│    └─Embedding: 2-4                    [1, 37, 256]              8,265,216\n",
       "│    └─Linear: 2-5                       [1, 37, 256]              131,328\n",
       "│    └─Sequential: 2-6                   [1, 37, 256]              --\n",
       "│    │    └─RecurrentResidual: 3-5       [1, 37, 256]              526,848\n",
       "│    │    └─RecurrentResidual: 3-6       [1, 37, 256]              526,848\n",
       "│    │    └─RecurrentResidual: 3-7       [1, 37, 256]              526,848\n",
       "│    │    └─RecurrentResidual: 3-8       [1, 37, 256]              526,848\n",
       "│    └─Linear: 2-7                       [1, 37, 32286]            8,297,502\n",
       "==========================================================================================\n",
       "Total params: 25,413,662\n",
       "Trainable params: 25,413,662\n",
       "Non-trainable params: 0\n",
       "Total mult-adds (Units.MEGABYTES): 164.45\n",
       "==========================================================================================\n",
       "Input size (MB): 0.00\n",
       "Forward/backward pass size (MB): 11.07\n",
       "Params size (MB): 101.65\n",
       "Estimated Total Size (MB): 112.73\n",
       "=========================================================================================="
      ]
     },
     "execution_count": 55,
     "metadata": {},
     "output_type": "execute_result"
    }
   ],
   "source": [
    "enc_dec_net = EncDecNetwork(num_enc_tokens=eng_tokenizer.get_vocab_size(),\n",
    "                            num_dec_tokens=por_tokenizer.get_vocab_size(),\n",
    "                            latent_size=256,\n",
    "                            n_layers=4)\n",
    "summary(enc_dec_net,input_data=[torch.Tensor(enc_x_train[0:1]).long(),\n",
    "                                torch.Tensor(dec_x_train[0:1]).long()])"
   ]
  },
  {
   "cell_type": "code",
   "execution_count": 56,
   "id": "68192ce7-00f2-48b9-913b-b6e3d0f724cd",
   "metadata": {
    "scrolled": true
   },
   "outputs": [
    {
     "data": {
      "image/svg+xml": [
       "<?xml version=\"1.0\" encoding=\"UTF-8\" standalone=\"no\"?>\n",
       "<!DOCTYPE svg PUBLIC \"-//W3C//DTD SVG 1.1//EN\"\n",
       " \"http://www.w3.org/Graphics/SVG/1.1/DTD/svg11.dtd\">\n",
       "<!-- Generated by graphviz version 8.1.0 (20230707.2238)\n",
       " -->\n",
       "<!-- Title: model Pages: 1 -->\n",
       "<svg width=\"315pt\" height=\"1706pt\"\n",
       " viewBox=\"0.00 0.00 315.05 1706.00\" xmlns=\"http://www.w3.org/2000/svg\" xmlns:xlink=\"http://www.w3.org/1999/xlink\">\n",
       "<g id=\"graph0\" class=\"graph\" transform=\"scale(0.637757 0.637757) rotate(0) translate(4 2671)\">\n",
       "<title>model</title>\n",
       "<polygon fill=\"white\" stroke=\"none\" points=\"-4,4 -4,-2671 490,-2671 490,4 -4,4\"/>\n",
       "<!-- 0 -->\n",
       "<g id=\"node1\" class=\"node\">\n",
       "<title>0</title>\n",
       "<polygon fill=\"lightyellow\" stroke=\"none\" points=\"144.88,-2667 34.12,-2667 34.12,-2631.5 144.88,-2631.5 144.88,-2667\"/>\n",
       "<polygon fill=\"none\" stroke=\"black\" points=\"34.12,-2631.5 34.12,-2667 103.38,-2667 103.38,-2631.5 34.12,-2631.5\"/>\n",
       "<text text-anchor=\"start\" x=\"39.12\" y=\"-2652.5\" font-family=\"Linux libertine\" font-size=\"10.00\">input&#45;tensor</text>\n",
       "<text text-anchor=\"start\" x=\"50.38\" y=\"-2639.75\" font-family=\"Linux libertine\" font-size=\"10.00\">depth:0</text>\n",
       "<polygon fill=\"none\" stroke=\"black\" points=\"103.38,-2631.5 103.38,-2667 144.88,-2667 144.88,-2631.5 103.38,-2631.5\"/>\n",
       "<text text-anchor=\"start\" x=\"108.38\" y=\"-2646.12\" font-family=\"Linux libertine\" font-size=\"10.00\">(1, 41)</text>\n",
       "</g>\n",
       "<!-- 2 -->\n",
       "<g id=\"node3\" class=\"node\">\n",
       "<title>2</title>\n",
       "<polygon fill=\"#c1ffc1\" stroke=\"none\" points=\"179,-2595.5 0,-2595.5 0,-2551.5 179,-2551.5 179,-2595.5\"/>\n",
       "<polygon fill=\"none\" stroke=\"black\" points=\"0,-2551.5 0,-2595.5 64,-2595.5 64,-2551.5 0,-2551.5\"/>\n",
       "<text text-anchor=\"start\" x=\"4.62\" y=\"-2576.75\" font-family=\"Linux libertine\" font-size=\"10.00\">Embedding</text>\n",
       "<text text-anchor=\"start\" x=\"13.62\" y=\"-2564\" font-family=\"Linux libertine\" font-size=\"10.00\">depth:2</text>\n",
       "<polygon fill=\"none\" stroke=\"black\" points=\"64,-2573.5 64,-2595.5 111,-2595.5 111,-2573.5 64,-2573.5\"/>\n",
       "<text text-anchor=\"start\" x=\"73.62\" y=\"-2581\" font-family=\"Linux libertine\" font-size=\"10.00\">input:</text>\n",
       "<polygon fill=\"none\" stroke=\"black\" points=\"111,-2573.5 111,-2595.5 179,-2595.5 179,-2573.5 111,-2573.5\"/>\n",
       "<text text-anchor=\"start\" x=\"127.75\" y=\"-2581\" font-family=\"Linux libertine\" font-size=\"10.00\">(1, 41) </text>\n",
       "<polygon fill=\"none\" stroke=\"black\" points=\"64,-2551.5 64,-2573.5 111,-2573.5 111,-2551.5 64,-2551.5\"/>\n",
       "<text text-anchor=\"start\" x=\"68.75\" y=\"-2559\" font-family=\"Linux libertine\" font-size=\"10.00\">output: </text>\n",
       "<polygon fill=\"none\" stroke=\"black\" points=\"111,-2551.5 111,-2573.5 179,-2573.5 179,-2551.5 111,-2551.5\"/>\n",
       "<text text-anchor=\"start\" x=\"115.75\" y=\"-2559\" font-family=\"Linux libertine\" font-size=\"10.00\">(1, 41, 256) </text>\n",
       "</g>\n",
       "<!-- 0&#45;&gt;2 -->\n",
       "<g id=\"edge1\" class=\"edge\">\n",
       "<title>0&#45;&gt;2</title>\n",
       "<path fill=\"none\" stroke=\"black\" d=\"M89.5,-2631.51C89.5,-2624.07 89.5,-2615.04 89.5,-2606.39\"/>\n",
       "<polygon fill=\"black\" stroke=\"black\" points=\"93,-2606.39 89.5,-2596.39 86,-2606.39 93,-2606.39\"/>\n",
       "</g>\n",
       "<!-- 1 -->\n",
       "<g id=\"node2\" class=\"node\">\n",
       "<title>1</title>\n",
       "<polygon fill=\"lightyellow\" stroke=\"none\" points=\"388.88,-1391.25 278.12,-1391.25 278.12,-1355.75 388.88,-1355.75 388.88,-1391.25\"/>\n",
       "<polygon fill=\"none\" stroke=\"black\" points=\"278.12,-1355.75 278.12,-1391.25 347.38,-1391.25 347.38,-1355.75 278.12,-1355.75\"/>\n",
       "<text text-anchor=\"start\" x=\"283.12\" y=\"-1376.75\" font-family=\"Linux libertine\" font-size=\"10.00\">input&#45;tensor</text>\n",
       "<text text-anchor=\"start\" x=\"294.38\" y=\"-1364\" font-family=\"Linux libertine\" font-size=\"10.00\">depth:0</text>\n",
       "<polygon fill=\"none\" stroke=\"black\" points=\"347.38,-1355.75 347.38,-1391.25 388.88,-1391.25 388.88,-1355.75 347.38,-1355.75\"/>\n",
       "<text text-anchor=\"start\" x=\"352.38\" y=\"-1370.38\" font-family=\"Linux libertine\" font-size=\"10.00\">(1, 37)</text>\n",
       "</g>\n",
       "<!-- 19 -->\n",
       "<g id=\"node20\" class=\"node\">\n",
       "<title>19</title>\n",
       "<polygon fill=\"#c1ffc1\" stroke=\"none\" points=\"423,-1315.5 244,-1315.5 244,-1271.5 423,-1271.5 423,-1315.5\"/>\n",
       "<polygon fill=\"none\" stroke=\"black\" points=\"244,-1271.5 244,-1315.5 308,-1315.5 308,-1271.5 244,-1271.5\"/>\n",
       "<text text-anchor=\"start\" x=\"248.62\" y=\"-1296.75\" font-family=\"Linux libertine\" font-size=\"10.00\">Embedding</text>\n",
       "<text text-anchor=\"start\" x=\"257.62\" y=\"-1284\" font-family=\"Linux libertine\" font-size=\"10.00\">depth:2</text>\n",
       "<polygon fill=\"none\" stroke=\"black\" points=\"308,-1293.5 308,-1315.5 355,-1315.5 355,-1293.5 308,-1293.5\"/>\n",
       "<text text-anchor=\"start\" x=\"317.62\" y=\"-1301\" font-family=\"Linux libertine\" font-size=\"10.00\">input:</text>\n",
       "<polygon fill=\"none\" stroke=\"black\" points=\"355,-1293.5 355,-1315.5 423,-1315.5 423,-1293.5 355,-1293.5\"/>\n",
       "<text text-anchor=\"start\" x=\"371.75\" y=\"-1301\" font-family=\"Linux libertine\" font-size=\"10.00\">(1, 37) </text>\n",
       "<polygon fill=\"none\" stroke=\"black\" points=\"308,-1271.5 308,-1293.5 355,-1293.5 355,-1271.5 308,-1271.5\"/>\n",
       "<text text-anchor=\"start\" x=\"312.75\" y=\"-1279\" font-family=\"Linux libertine\" font-size=\"10.00\">output: </text>\n",
       "<polygon fill=\"none\" stroke=\"black\" points=\"355,-1271.5 355,-1293.5 423,-1293.5 423,-1271.5 355,-1271.5\"/>\n",
       "<text text-anchor=\"start\" x=\"359.75\" y=\"-1279\" font-family=\"Linux libertine\" font-size=\"10.00\">(1, 37, 256) </text>\n",
       "</g>\n",
       "<!-- 1&#45;&gt;19 -->\n",
       "<g id=\"edge21\" class=\"edge\">\n",
       "<title>1&#45;&gt;19</title>\n",
       "<path fill=\"none\" stroke=\"black\" d=\"M333.5,-1355.96C333.5,-1347.29 333.5,-1336.37 333.5,-1326.15\"/>\n",
       "<polygon fill=\"black\" stroke=\"black\" points=\"337,-1326.48 333.5,-1316.48 330,-1326.48 337,-1326.48\"/>\n",
       "</g>\n",
       "<!-- 3 -->\n",
       "<g id=\"node4\" class=\"node\">\n",
       "<title>3</title>\n",
       "<polygon fill=\"#c1ffc1\" stroke=\"none\" points=\"177.5,-2515.5 1.5,-2515.5 1.5,-2471.5 177.5,-2471.5 177.5,-2515.5\"/>\n",
       "<polygon fill=\"none\" stroke=\"black\" points=\"1.5,-2471.5 1.5,-2515.5 62.5,-2515.5 62.5,-2471.5 1.5,-2471.5\"/>\n",
       "<text text-anchor=\"start\" x=\"6.5\" y=\"-2496.75\" font-family=\"Linux libertine\" font-size=\"10.00\">Dropout1d</text>\n",
       "<text text-anchor=\"start\" x=\"13.62\" y=\"-2484\" font-family=\"Linux libertine\" font-size=\"10.00\">depth:2</text>\n",
       "<polygon fill=\"none\" stroke=\"black\" points=\"62.5,-2493.5 62.5,-2515.5 109.5,-2515.5 109.5,-2493.5 62.5,-2493.5\"/>\n",
       "<text text-anchor=\"start\" x=\"72.12\" y=\"-2501\" font-family=\"Linux libertine\" font-size=\"10.00\">input:</text>\n",
       "<polygon fill=\"none\" stroke=\"black\" points=\"109.5,-2493.5 109.5,-2515.5 177.5,-2515.5 177.5,-2493.5 109.5,-2493.5\"/>\n",
       "<text text-anchor=\"start\" x=\"114.25\" y=\"-2501\" font-family=\"Linux libertine\" font-size=\"10.00\">(1, 41, 256) </text>\n",
       "<polygon fill=\"none\" stroke=\"black\" points=\"62.5,-2471.5 62.5,-2493.5 109.5,-2493.5 109.5,-2471.5 62.5,-2471.5\"/>\n",
       "<text text-anchor=\"start\" x=\"67.25\" y=\"-2479\" font-family=\"Linux libertine\" font-size=\"10.00\">output: </text>\n",
       "<polygon fill=\"none\" stroke=\"black\" points=\"109.5,-2471.5 109.5,-2493.5 177.5,-2493.5 177.5,-2471.5 109.5,-2471.5\"/>\n",
       "<text text-anchor=\"start\" x=\"114.25\" y=\"-2479\" font-family=\"Linux libertine\" font-size=\"10.00\">(1, 41, 256) </text>\n",
       "</g>\n",
       "<!-- 2&#45;&gt;3 -->\n",
       "<g id=\"edge2\" class=\"edge\">\n",
       "<title>2&#45;&gt;3</title>\n",
       "<path fill=\"none\" stroke=\"black\" d=\"M89.5,-2551.6C89.5,-2543.82 89.5,-2534.8 89.5,-2526.26\"/>\n",
       "<polygon fill=\"black\" stroke=\"black\" points=\"93,-2526.46 89.5,-2516.46 86,-2526.46 93,-2526.46\"/>\n",
       "</g>\n",
       "<!-- 4 -->\n",
       "<g id=\"node5\" class=\"node\">\n",
       "<title>4</title>\n",
       "<polygon fill=\"#c1ffc1\" stroke=\"none\" points=\"252,-2435.5 73,-2435.5 73,-2391.5 252,-2391.5 252,-2435.5\"/>\n",
       "<polygon fill=\"none\" stroke=\"black\" points=\"73,-2391.5 73,-2435.5 137,-2435.5 137,-2391.5 73,-2391.5\"/>\n",
       "<text text-anchor=\"start\" x=\"78\" y=\"-2416.75\" font-family=\"Linux libertine\" font-size=\"10.00\">LayerNorm</text>\n",
       "<text text-anchor=\"start\" x=\"86.62\" y=\"-2404\" font-family=\"Linux libertine\" font-size=\"10.00\">depth:4</text>\n",
       "<polygon fill=\"none\" stroke=\"black\" points=\"137,-2413.5 137,-2435.5 184,-2435.5 184,-2413.5 137,-2413.5\"/>\n",
       "<text text-anchor=\"start\" x=\"146.62\" y=\"-2421\" font-family=\"Linux libertine\" font-size=\"10.00\">input:</text>\n",
       "<polygon fill=\"none\" stroke=\"black\" points=\"184,-2413.5 184,-2435.5 252,-2435.5 252,-2413.5 184,-2413.5\"/>\n",
       "<text text-anchor=\"start\" x=\"188.75\" y=\"-2421\" font-family=\"Linux libertine\" font-size=\"10.00\">(1, 41, 256) </text>\n",
       "<polygon fill=\"none\" stroke=\"black\" points=\"137,-2391.5 137,-2413.5 184,-2413.5 184,-2391.5 137,-2391.5\"/>\n",
       "<text text-anchor=\"start\" x=\"141.75\" y=\"-2399\" font-family=\"Linux libertine\" font-size=\"10.00\">output: </text>\n",
       "<polygon fill=\"none\" stroke=\"black\" points=\"184,-2391.5 184,-2413.5 252,-2413.5 252,-2391.5 184,-2391.5\"/>\n",
       "<text text-anchor=\"start\" x=\"188.75\" y=\"-2399\" font-family=\"Linux libertine\" font-size=\"10.00\">(1, 41, 256) </text>\n",
       "</g>\n",
       "<!-- 3&#45;&gt;4 -->\n",
       "<g id=\"edge3\" class=\"edge\">\n",
       "<title>3&#45;&gt;4</title>\n",
       "<path fill=\"none\" stroke=\"black\" d=\"M109.06,-2471.6C117.16,-2462.94 126.69,-2452.76 135.45,-2443.41\"/>\n",
       "<polygon fill=\"black\" stroke=\"black\" points=\"137.61,-2446.15 141.88,-2436.46 132.49,-2441.37 137.61,-2446.15\"/>\n",
       "</g>\n",
       "<!-- 6 -->\n",
       "<g id=\"node7\" class=\"node\">\n",
       "<title>6</title>\n",
       "<polygon fill=\"aliceblue\" stroke=\"none\" points=\"193,-2275.5 14,-2275.5 14,-2231.5 193,-2231.5 193,-2275.5\"/>\n",
       "<polygon fill=\"none\" stroke=\"black\" points=\"14,-2231.5 14,-2275.5 60,-2275.5 60,-2231.5 14,-2231.5\"/>\n",
       "<text text-anchor=\"start\" x=\"28\" y=\"-2256.75\" font-family=\"Linux libertine\" font-size=\"10.00\">add</text>\n",
       "<text text-anchor=\"start\" x=\"18.62\" y=\"-2244\" font-family=\"Linux libertine\" font-size=\"10.00\">depth:4</text>\n",
       "<polygon fill=\"none\" stroke=\"black\" points=\"60,-2253.5 60,-2275.5 107,-2275.5 107,-2253.5 60,-2253.5\"/>\n",
       "<text text-anchor=\"start\" x=\"69.62\" y=\"-2261\" font-family=\"Linux libertine\" font-size=\"10.00\">input:</text>\n",
       "<polygon fill=\"none\" stroke=\"black\" points=\"107,-2253.5 107,-2275.5 193,-2275.5 193,-2253.5 107,-2253.5\"/>\n",
       "<text text-anchor=\"start\" x=\"111.75\" y=\"-2261\" font-family=\"Linux libertine\" font-size=\"10.00\">2 x (1, 41, 256) </text>\n",
       "<polygon fill=\"none\" stroke=\"black\" points=\"60,-2231.5 60,-2253.5 107,-2253.5 107,-2231.5 60,-2231.5\"/>\n",
       "<text text-anchor=\"start\" x=\"64.75\" y=\"-2239\" font-family=\"Linux libertine\" font-size=\"10.00\">output: </text>\n",
       "<polygon fill=\"none\" stroke=\"black\" points=\"107,-2231.5 107,-2253.5 193,-2253.5 193,-2231.5 107,-2231.5\"/>\n",
       "<text text-anchor=\"start\" x=\"120.75\" y=\"-2239\" font-family=\"Linux libertine\" font-size=\"10.00\">(1, 41, 256) </text>\n",
       "</g>\n",
       "<!-- 3&#45;&gt;6 -->\n",
       "<g id=\"edge4\" class=\"edge\">\n",
       "<title>3&#45;&gt;6</title>\n",
       "<path fill=\"none\" stroke=\"black\" d=\"M77.19,-2471.77C58.5,-2437.46 27.34,-2367.11 49.5,-2311.5 53.71,-2300.94 60.9,-2291.22 68.69,-2282.9\"/>\n",
       "<polygon fill=\"black\" stroke=\"black\" points=\"70.63,-2285.91 75.26,-2276.38 65.7,-2280.95 70.63,-2285.91\"/>\n",
       "</g>\n",
       "<!-- 5 -->\n",
       "<g id=\"node6\" class=\"node\">\n",
       "<title>5</title>\n",
       "<polygon fill=\"#c1ffc1\" stroke=\"none\" points=\"294,-2355.5 59,-2355.5 59,-2311.5 294,-2311.5 294,-2355.5\"/>\n",
       "<polygon fill=\"none\" stroke=\"black\" points=\"59,-2311.5 59,-2355.5 105,-2355.5 105,-2311.5 59,-2311.5\"/>\n",
       "<text text-anchor=\"start\" x=\"68.88\" y=\"-2336.75\" font-family=\"Linux libertine\" font-size=\"10.00\">LSTM</text>\n",
       "<text text-anchor=\"start\" x=\"63.62\" y=\"-2324\" font-family=\"Linux libertine\" font-size=\"10.00\">depth:4</text>\n",
       "<polygon fill=\"none\" stroke=\"black\" points=\"105,-2333.5 105,-2355.5 152,-2355.5 152,-2333.5 105,-2333.5\"/>\n",
       "<text text-anchor=\"start\" x=\"114.62\" y=\"-2341\" font-family=\"Linux libertine\" font-size=\"10.00\">input:</text>\n",
       "<polygon fill=\"none\" stroke=\"black\" points=\"152,-2333.5 152,-2355.5 294,-2355.5 294,-2333.5 152,-2333.5\"/>\n",
       "<text text-anchor=\"start\" x=\"193.75\" y=\"-2341\" font-family=\"Linux libertine\" font-size=\"10.00\">(1, 41, 256) </text>\n",
       "<polygon fill=\"none\" stroke=\"black\" points=\"105,-2311.5 105,-2333.5 152,-2333.5 152,-2311.5 105,-2311.5\"/>\n",
       "<text text-anchor=\"start\" x=\"109.75\" y=\"-2319\" font-family=\"Linux libertine\" font-size=\"10.00\">output: </text>\n",
       "<polygon fill=\"none\" stroke=\"black\" points=\"152,-2311.5 152,-2333.5 294,-2333.5 294,-2311.5 152,-2311.5\"/>\n",
       "<text text-anchor=\"start\" x=\"157\" y=\"-2319\" font-family=\"Linux libertine\" font-size=\"10.00\">(1, 41, 256), 2 x (2, 1, 128) </text>\n",
       "</g>\n",
       "<!-- 4&#45;&gt;5 -->\n",
       "<g id=\"edge5\" class=\"edge\">\n",
       "<title>4&#45;&gt;5</title>\n",
       "<path fill=\"none\" stroke=\"black\" d=\"M166.25,-2391.6C167.65,-2383.82 169.27,-2374.8 170.8,-2366.26\"/>\n",
       "<polygon fill=\"black\" stroke=\"black\" points=\"174.42,-2366.92 172.74,-2356.46 167.53,-2365.68 174.42,-2366.92\"/>\n",
       "</g>\n",
       "<!-- 5&#45;&gt;6 -->\n",
       "<g id=\"edge6\" class=\"edge\">\n",
       "<title>5&#45;&gt;6</title>\n",
       "<path fill=\"none\" stroke=\"black\" d=\"M156.94,-2311.6C148.84,-2302.94 139.31,-2292.76 130.55,-2283.41\"/>\n",
       "<polygon fill=\"black\" stroke=\"black\" points=\"133.51,-2281.37 124.12,-2276.46 128.39,-2286.15 133.51,-2281.37\"/>\n",
       "</g>\n",
       "<!-- 7 -->\n",
       "<g id=\"node8\" class=\"node\">\n",
       "<title>7</title>\n",
       "<polygon fill=\"#c1ffc1\" stroke=\"none\" points=\"266,-2195.5 87,-2195.5 87,-2151.5 266,-2151.5 266,-2195.5\"/>\n",
       "<polygon fill=\"none\" stroke=\"black\" points=\"87,-2151.5 87,-2195.5 151,-2195.5 151,-2151.5 87,-2151.5\"/>\n",
       "<text text-anchor=\"start\" x=\"92\" y=\"-2176.75\" font-family=\"Linux libertine\" font-size=\"10.00\">LayerNorm</text>\n",
       "<text text-anchor=\"start\" x=\"100.62\" y=\"-2164\" font-family=\"Linux libertine\" font-size=\"10.00\">depth:4</text>\n",
       "<polygon fill=\"none\" stroke=\"black\" points=\"151,-2173.5 151,-2195.5 198,-2195.5 198,-2173.5 151,-2173.5\"/>\n",
       "<text text-anchor=\"start\" x=\"160.62\" y=\"-2181\" font-family=\"Linux libertine\" font-size=\"10.00\">input:</text>\n",
       "<polygon fill=\"none\" stroke=\"black\" points=\"198,-2173.5 198,-2195.5 266,-2195.5 266,-2173.5 198,-2173.5\"/>\n",
       "<text text-anchor=\"start\" x=\"202.75\" y=\"-2181\" font-family=\"Linux libertine\" font-size=\"10.00\">(1, 41, 256) </text>\n",
       "<polygon fill=\"none\" stroke=\"black\" points=\"151,-2151.5 151,-2173.5 198,-2173.5 198,-2151.5 151,-2151.5\"/>\n",
       "<text text-anchor=\"start\" x=\"155.75\" y=\"-2159\" font-family=\"Linux libertine\" font-size=\"10.00\">output: </text>\n",
       "<polygon fill=\"none\" stroke=\"black\" points=\"198,-2151.5 198,-2173.5 266,-2173.5 266,-2151.5 198,-2151.5\"/>\n",
       "<text text-anchor=\"start\" x=\"202.75\" y=\"-2159\" font-family=\"Linux libertine\" font-size=\"10.00\">(1, 41, 256) </text>\n",
       "</g>\n",
       "<!-- 6&#45;&gt;7 -->\n",
       "<g id=\"edge7\" class=\"edge\">\n",
       "<title>6&#45;&gt;7</title>\n",
       "<path fill=\"none\" stroke=\"black\" d=\"M123.06,-2231.6C131.16,-2222.94 140.69,-2212.76 149.45,-2203.41\"/>\n",
       "<polygon fill=\"black\" stroke=\"black\" points=\"151.61,-2206.15 155.88,-2196.46 146.49,-2201.37 151.61,-2206.15\"/>\n",
       "</g>\n",
       "<!-- 9 -->\n",
       "<g id=\"node10\" class=\"node\">\n",
       "<title>9</title>\n",
       "<polygon fill=\"aliceblue\" stroke=\"none\" points=\"207,-2035.5 28,-2035.5 28,-1991.5 207,-1991.5 207,-2035.5\"/>\n",
       "<polygon fill=\"none\" stroke=\"black\" points=\"28,-1991.5 28,-2035.5 74,-2035.5 74,-1991.5 28,-1991.5\"/>\n",
       "<text text-anchor=\"start\" x=\"42\" y=\"-2016.75\" font-family=\"Linux libertine\" font-size=\"10.00\">add</text>\n",
       "<text text-anchor=\"start\" x=\"32.62\" y=\"-2004\" font-family=\"Linux libertine\" font-size=\"10.00\">depth:4</text>\n",
       "<polygon fill=\"none\" stroke=\"black\" points=\"74,-2013.5 74,-2035.5 121,-2035.5 121,-2013.5 74,-2013.5\"/>\n",
       "<text text-anchor=\"start\" x=\"83.62\" y=\"-2021\" font-family=\"Linux libertine\" font-size=\"10.00\">input:</text>\n",
       "<polygon fill=\"none\" stroke=\"black\" points=\"121,-2013.5 121,-2035.5 207,-2035.5 207,-2013.5 121,-2013.5\"/>\n",
       "<text text-anchor=\"start\" x=\"125.75\" y=\"-2021\" font-family=\"Linux libertine\" font-size=\"10.00\">2 x (1, 41, 256) </text>\n",
       "<polygon fill=\"none\" stroke=\"black\" points=\"74,-1991.5 74,-2013.5 121,-2013.5 121,-1991.5 74,-1991.5\"/>\n",
       "<text text-anchor=\"start\" x=\"78.75\" y=\"-1999\" font-family=\"Linux libertine\" font-size=\"10.00\">output: </text>\n",
       "<polygon fill=\"none\" stroke=\"black\" points=\"121,-1991.5 121,-2013.5 207,-2013.5 207,-1991.5 121,-1991.5\"/>\n",
       "<text text-anchor=\"start\" x=\"134.75\" y=\"-1999\" font-family=\"Linux libertine\" font-size=\"10.00\">(1, 41, 256) </text>\n",
       "</g>\n",
       "<!-- 6&#45;&gt;9 -->\n",
       "<g id=\"edge8\" class=\"edge\">\n",
       "<title>6&#45;&gt;9</title>\n",
       "<path fill=\"none\" stroke=\"black\" d=\"M91.19,-2231.77C72.5,-2197.46 41.34,-2127.11 63.5,-2071.5 67.71,-2060.94 74.9,-2051.22 82.69,-2042.9\"/>\n",
       "<polygon fill=\"black\" stroke=\"black\" points=\"84.63,-2045.91 89.26,-2036.38 79.7,-2040.95 84.63,-2045.91\"/>\n",
       "</g>\n",
       "<!-- 8 -->\n",
       "<g id=\"node9\" class=\"node\">\n",
       "<title>8</title>\n",
       "<polygon fill=\"#c1ffc1\" stroke=\"none\" points=\"308,-2115.5 73,-2115.5 73,-2071.5 308,-2071.5 308,-2115.5\"/>\n",
       "<polygon fill=\"none\" stroke=\"black\" points=\"73,-2071.5 73,-2115.5 119,-2115.5 119,-2071.5 73,-2071.5\"/>\n",
       "<text text-anchor=\"start\" x=\"82.88\" y=\"-2096.75\" font-family=\"Linux libertine\" font-size=\"10.00\">LSTM</text>\n",
       "<text text-anchor=\"start\" x=\"77.62\" y=\"-2084\" font-family=\"Linux libertine\" font-size=\"10.00\">depth:4</text>\n",
       "<polygon fill=\"none\" stroke=\"black\" points=\"119,-2093.5 119,-2115.5 166,-2115.5 166,-2093.5 119,-2093.5\"/>\n",
       "<text text-anchor=\"start\" x=\"128.62\" y=\"-2101\" font-family=\"Linux libertine\" font-size=\"10.00\">input:</text>\n",
       "<polygon fill=\"none\" stroke=\"black\" points=\"166,-2093.5 166,-2115.5 308,-2115.5 308,-2093.5 166,-2093.5\"/>\n",
       "<text text-anchor=\"start\" x=\"207.75\" y=\"-2101\" font-family=\"Linux libertine\" font-size=\"10.00\">(1, 41, 256) </text>\n",
       "<polygon fill=\"none\" stroke=\"black\" points=\"119,-2071.5 119,-2093.5 166,-2093.5 166,-2071.5 119,-2071.5\"/>\n",
       "<text text-anchor=\"start\" x=\"123.75\" y=\"-2079\" font-family=\"Linux libertine\" font-size=\"10.00\">output: </text>\n",
       "<polygon fill=\"none\" stroke=\"black\" points=\"166,-2071.5 166,-2093.5 308,-2093.5 308,-2071.5 166,-2071.5\"/>\n",
       "<text text-anchor=\"start\" x=\"171\" y=\"-2079\" font-family=\"Linux libertine\" font-size=\"10.00\">(1, 41, 256), 2 x (2, 1, 128) </text>\n",
       "</g>\n",
       "<!-- 7&#45;&gt;8 -->\n",
       "<g id=\"edge9\" class=\"edge\">\n",
       "<title>7&#45;&gt;8</title>\n",
       "<path fill=\"none\" stroke=\"black\" d=\"M180.25,-2151.6C181.65,-2143.82 183.27,-2134.8 184.8,-2126.26\"/>\n",
       "<polygon fill=\"black\" stroke=\"black\" points=\"188.42,-2126.92 186.74,-2116.46 181.53,-2125.68 188.42,-2126.92\"/>\n",
       "</g>\n",
       "<!-- 8&#45;&gt;9 -->\n",
       "<g id=\"edge10\" class=\"edge\">\n",
       "<title>8&#45;&gt;9</title>\n",
       "<path fill=\"none\" stroke=\"black\" d=\"M170.94,-2071.6C162.84,-2062.94 153.31,-2052.76 144.55,-2043.41\"/>\n",
       "<polygon fill=\"black\" stroke=\"black\" points=\"147.51,-2041.37 138.12,-2036.46 142.39,-2046.15 147.51,-2041.37\"/>\n",
       "</g>\n",
       "<!-- 10 -->\n",
       "<g id=\"node11\" class=\"node\">\n",
       "<title>10</title>\n",
       "<polygon fill=\"#c1ffc1\" stroke=\"none\" points=\"280,-1955.5 101,-1955.5 101,-1911.5 280,-1911.5 280,-1955.5\"/>\n",
       "<polygon fill=\"none\" stroke=\"black\" points=\"101,-1911.5 101,-1955.5 165,-1955.5 165,-1911.5 101,-1911.5\"/>\n",
       "<text text-anchor=\"start\" x=\"106\" y=\"-1936.75\" font-family=\"Linux libertine\" font-size=\"10.00\">LayerNorm</text>\n",
       "<text text-anchor=\"start\" x=\"114.62\" y=\"-1924\" font-family=\"Linux libertine\" font-size=\"10.00\">depth:4</text>\n",
       "<polygon fill=\"none\" stroke=\"black\" points=\"165,-1933.5 165,-1955.5 212,-1955.5 212,-1933.5 165,-1933.5\"/>\n",
       "<text text-anchor=\"start\" x=\"174.62\" y=\"-1941\" font-family=\"Linux libertine\" font-size=\"10.00\">input:</text>\n",
       "<polygon fill=\"none\" stroke=\"black\" points=\"212,-1933.5 212,-1955.5 280,-1955.5 280,-1933.5 212,-1933.5\"/>\n",
       "<text text-anchor=\"start\" x=\"216.75\" y=\"-1941\" font-family=\"Linux libertine\" font-size=\"10.00\">(1, 41, 256) </text>\n",
       "<polygon fill=\"none\" stroke=\"black\" points=\"165,-1911.5 165,-1933.5 212,-1933.5 212,-1911.5 165,-1911.5\"/>\n",
       "<text text-anchor=\"start\" x=\"169.75\" y=\"-1919\" font-family=\"Linux libertine\" font-size=\"10.00\">output: </text>\n",
       "<polygon fill=\"none\" stroke=\"black\" points=\"212,-1911.5 212,-1933.5 280,-1933.5 280,-1911.5 212,-1911.5\"/>\n",
       "<text text-anchor=\"start\" x=\"216.75\" y=\"-1919\" font-family=\"Linux libertine\" font-size=\"10.00\">(1, 41, 256) </text>\n",
       "</g>\n",
       "<!-- 9&#45;&gt;10 -->\n",
       "<g id=\"edge11\" class=\"edge\">\n",
       "<title>9&#45;&gt;10</title>\n",
       "<path fill=\"none\" stroke=\"black\" d=\"M137.06,-1991.6C145.16,-1982.94 154.69,-1972.76 163.45,-1963.41\"/>\n",
       "<polygon fill=\"black\" stroke=\"black\" points=\"165.61,-1966.15 169.88,-1956.46 160.49,-1961.37 165.61,-1966.15\"/>\n",
       "</g>\n",
       "<!-- 12 -->\n",
       "<g id=\"node13\" class=\"node\">\n",
       "<title>12</title>\n",
       "<polygon fill=\"aliceblue\" stroke=\"none\" points=\"221,-1795.5 42,-1795.5 42,-1751.5 221,-1751.5 221,-1795.5\"/>\n",
       "<polygon fill=\"none\" stroke=\"black\" points=\"42,-1751.5 42,-1795.5 88,-1795.5 88,-1751.5 42,-1751.5\"/>\n",
       "<text text-anchor=\"start\" x=\"56\" y=\"-1776.75\" font-family=\"Linux libertine\" font-size=\"10.00\">add</text>\n",
       "<text text-anchor=\"start\" x=\"46.62\" y=\"-1764\" font-family=\"Linux libertine\" font-size=\"10.00\">depth:4</text>\n",
       "<polygon fill=\"none\" stroke=\"black\" points=\"88,-1773.5 88,-1795.5 135,-1795.5 135,-1773.5 88,-1773.5\"/>\n",
       "<text text-anchor=\"start\" x=\"97.62\" y=\"-1781\" font-family=\"Linux libertine\" font-size=\"10.00\">input:</text>\n",
       "<polygon fill=\"none\" stroke=\"black\" points=\"135,-1773.5 135,-1795.5 221,-1795.5 221,-1773.5 135,-1773.5\"/>\n",
       "<text text-anchor=\"start\" x=\"139.75\" y=\"-1781\" font-family=\"Linux libertine\" font-size=\"10.00\">2 x (1, 41, 256) </text>\n",
       "<polygon fill=\"none\" stroke=\"black\" points=\"88,-1751.5 88,-1773.5 135,-1773.5 135,-1751.5 88,-1751.5\"/>\n",
       "<text text-anchor=\"start\" x=\"92.75\" y=\"-1759\" font-family=\"Linux libertine\" font-size=\"10.00\">output: </text>\n",
       "<polygon fill=\"none\" stroke=\"black\" points=\"135,-1751.5 135,-1773.5 221,-1773.5 221,-1751.5 135,-1751.5\"/>\n",
       "<text text-anchor=\"start\" x=\"148.75\" y=\"-1759\" font-family=\"Linux libertine\" font-size=\"10.00\">(1, 41, 256) </text>\n",
       "</g>\n",
       "<!-- 9&#45;&gt;12 -->\n",
       "<g id=\"edge12\" class=\"edge\">\n",
       "<title>9&#45;&gt;12</title>\n",
       "<path fill=\"none\" stroke=\"black\" d=\"M105.19,-1991.77C86.5,-1957.46 55.34,-1887.11 77.5,-1831.5 81.71,-1820.94 88.9,-1811.22 96.69,-1802.9\"/>\n",
       "<polygon fill=\"black\" stroke=\"black\" points=\"98.63,-1805.91 103.26,-1796.38 93.7,-1800.95 98.63,-1805.91\"/>\n",
       "</g>\n",
       "<!-- 11 -->\n",
       "<g id=\"node12\" class=\"node\">\n",
       "<title>11</title>\n",
       "<polygon fill=\"#c1ffc1\" stroke=\"none\" points=\"322,-1875.5 87,-1875.5 87,-1831.5 322,-1831.5 322,-1875.5\"/>\n",
       "<polygon fill=\"none\" stroke=\"black\" points=\"87,-1831.5 87,-1875.5 133,-1875.5 133,-1831.5 87,-1831.5\"/>\n",
       "<text text-anchor=\"start\" x=\"96.88\" y=\"-1856.75\" font-family=\"Linux libertine\" font-size=\"10.00\">LSTM</text>\n",
       "<text text-anchor=\"start\" x=\"91.62\" y=\"-1844\" font-family=\"Linux libertine\" font-size=\"10.00\">depth:4</text>\n",
       "<polygon fill=\"none\" stroke=\"black\" points=\"133,-1853.5 133,-1875.5 180,-1875.5 180,-1853.5 133,-1853.5\"/>\n",
       "<text text-anchor=\"start\" x=\"142.62\" y=\"-1861\" font-family=\"Linux libertine\" font-size=\"10.00\">input:</text>\n",
       "<polygon fill=\"none\" stroke=\"black\" points=\"180,-1853.5 180,-1875.5 322,-1875.5 322,-1853.5 180,-1853.5\"/>\n",
       "<text text-anchor=\"start\" x=\"221.75\" y=\"-1861\" font-family=\"Linux libertine\" font-size=\"10.00\">(1, 41, 256) </text>\n",
       "<polygon fill=\"none\" stroke=\"black\" points=\"133,-1831.5 133,-1853.5 180,-1853.5 180,-1831.5 133,-1831.5\"/>\n",
       "<text text-anchor=\"start\" x=\"137.75\" y=\"-1839\" font-family=\"Linux libertine\" font-size=\"10.00\">output: </text>\n",
       "<polygon fill=\"none\" stroke=\"black\" points=\"180,-1831.5 180,-1853.5 322,-1853.5 322,-1831.5 180,-1831.5\"/>\n",
       "<text text-anchor=\"start\" x=\"185\" y=\"-1839\" font-family=\"Linux libertine\" font-size=\"10.00\">(1, 41, 256), 2 x (2, 1, 128) </text>\n",
       "</g>\n",
       "<!-- 10&#45;&gt;11 -->\n",
       "<g id=\"edge13\" class=\"edge\">\n",
       "<title>10&#45;&gt;11</title>\n",
       "<path fill=\"none\" stroke=\"black\" d=\"M194.25,-1911.6C195.65,-1903.82 197.27,-1894.8 198.8,-1886.26\"/>\n",
       "<polygon fill=\"black\" stroke=\"black\" points=\"202.42,-1886.92 200.74,-1876.46 195.53,-1885.68 202.42,-1886.92\"/>\n",
       "</g>\n",
       "<!-- 11&#45;&gt;12 -->\n",
       "<g id=\"edge14\" class=\"edge\">\n",
       "<title>11&#45;&gt;12</title>\n",
       "<path fill=\"none\" stroke=\"black\" d=\"M184.94,-1831.6C176.84,-1822.94 167.31,-1812.76 158.55,-1803.41\"/>\n",
       "<polygon fill=\"black\" stroke=\"black\" points=\"161.51,-1801.37 152.12,-1796.46 156.39,-1806.15 161.51,-1801.37\"/>\n",
       "</g>\n",
       "<!-- 13 -->\n",
       "<g id=\"node14\" class=\"node\">\n",
       "<title>13</title>\n",
       "<polygon fill=\"#c1ffc1\" stroke=\"none\" points=\"294,-1715.5 115,-1715.5 115,-1671.5 294,-1671.5 294,-1715.5\"/>\n",
       "<polygon fill=\"none\" stroke=\"black\" points=\"115,-1671.5 115,-1715.5 179,-1715.5 179,-1671.5 115,-1671.5\"/>\n",
       "<text text-anchor=\"start\" x=\"120\" y=\"-1696.75\" font-family=\"Linux libertine\" font-size=\"10.00\">LayerNorm</text>\n",
       "<text text-anchor=\"start\" x=\"128.62\" y=\"-1684\" font-family=\"Linux libertine\" font-size=\"10.00\">depth:4</text>\n",
       "<polygon fill=\"none\" stroke=\"black\" points=\"179,-1693.5 179,-1715.5 226,-1715.5 226,-1693.5 179,-1693.5\"/>\n",
       "<text text-anchor=\"start\" x=\"188.62\" y=\"-1701\" font-family=\"Linux libertine\" font-size=\"10.00\">input:</text>\n",
       "<polygon fill=\"none\" stroke=\"black\" points=\"226,-1693.5 226,-1715.5 294,-1715.5 294,-1693.5 226,-1693.5\"/>\n",
       "<text text-anchor=\"start\" x=\"230.75\" y=\"-1701\" font-family=\"Linux libertine\" font-size=\"10.00\">(1, 41, 256) </text>\n",
       "<polygon fill=\"none\" stroke=\"black\" points=\"179,-1671.5 179,-1693.5 226,-1693.5 226,-1671.5 179,-1671.5\"/>\n",
       "<text text-anchor=\"start\" x=\"183.75\" y=\"-1679\" font-family=\"Linux libertine\" font-size=\"10.00\">output: </text>\n",
       "<polygon fill=\"none\" stroke=\"black\" points=\"226,-1671.5 226,-1693.5 294,-1693.5 294,-1671.5 226,-1671.5\"/>\n",
       "<text text-anchor=\"start\" x=\"230.75\" y=\"-1679\" font-family=\"Linux libertine\" font-size=\"10.00\">(1, 41, 256) </text>\n",
       "</g>\n",
       "<!-- 12&#45;&gt;13 -->\n",
       "<g id=\"edge15\" class=\"edge\">\n",
       "<title>12&#45;&gt;13</title>\n",
       "<path fill=\"none\" stroke=\"black\" d=\"M151.06,-1751.6C159.16,-1742.94 168.69,-1732.76 177.45,-1723.41\"/>\n",
       "<polygon fill=\"black\" stroke=\"black\" points=\"179.61,-1726.15 183.88,-1716.46 174.49,-1721.37 179.61,-1726.15\"/>\n",
       "</g>\n",
       "<!-- 15 -->\n",
       "<g id=\"node16\" class=\"node\">\n",
       "<title>15</title>\n",
       "<polygon fill=\"aliceblue\" stroke=\"none\" points=\"235,-1555.5 56,-1555.5 56,-1511.5 235,-1511.5 235,-1555.5\"/>\n",
       "<polygon fill=\"none\" stroke=\"black\" points=\"56,-1511.5 56,-1555.5 102,-1555.5 102,-1511.5 56,-1511.5\"/>\n",
       "<text text-anchor=\"start\" x=\"70\" y=\"-1536.75\" font-family=\"Linux libertine\" font-size=\"10.00\">add</text>\n",
       "<text text-anchor=\"start\" x=\"60.62\" y=\"-1524\" font-family=\"Linux libertine\" font-size=\"10.00\">depth:4</text>\n",
       "<polygon fill=\"none\" stroke=\"black\" points=\"102,-1533.5 102,-1555.5 149,-1555.5 149,-1533.5 102,-1533.5\"/>\n",
       "<text text-anchor=\"start\" x=\"111.62\" y=\"-1541\" font-family=\"Linux libertine\" font-size=\"10.00\">input:</text>\n",
       "<polygon fill=\"none\" stroke=\"black\" points=\"149,-1533.5 149,-1555.5 235,-1555.5 235,-1533.5 149,-1533.5\"/>\n",
       "<text text-anchor=\"start\" x=\"153.75\" y=\"-1541\" font-family=\"Linux libertine\" font-size=\"10.00\">2 x (1, 41, 256) </text>\n",
       "<polygon fill=\"none\" stroke=\"black\" points=\"102,-1511.5 102,-1533.5 149,-1533.5 149,-1511.5 102,-1511.5\"/>\n",
       "<text text-anchor=\"start\" x=\"106.75\" y=\"-1519\" font-family=\"Linux libertine\" font-size=\"10.00\">output: </text>\n",
       "<polygon fill=\"none\" stroke=\"black\" points=\"149,-1511.5 149,-1533.5 235,-1533.5 235,-1511.5 149,-1511.5\"/>\n",
       "<text text-anchor=\"start\" x=\"162.75\" y=\"-1519\" font-family=\"Linux libertine\" font-size=\"10.00\">(1, 41, 256) </text>\n",
       "</g>\n",
       "<!-- 12&#45;&gt;15 -->\n",
       "<g id=\"edge16\" class=\"edge\">\n",
       "<title>12&#45;&gt;15</title>\n",
       "<path fill=\"none\" stroke=\"black\" d=\"M119.19,-1751.77C100.5,-1717.46 69.34,-1647.11 91.5,-1591.5 95.71,-1580.94 102.9,-1571.22 110.69,-1562.9\"/>\n",
       "<polygon fill=\"black\" stroke=\"black\" points=\"112.63,-1565.91 117.26,-1556.38 107.7,-1560.95 112.63,-1565.91\"/>\n",
       "</g>\n",
       "<!-- 14 -->\n",
       "<g id=\"node15\" class=\"node\">\n",
       "<title>14</title>\n",
       "<polygon fill=\"#c1ffc1\" stroke=\"none\" points=\"336,-1635.5 101,-1635.5 101,-1591.5 336,-1591.5 336,-1635.5\"/>\n",
       "<polygon fill=\"none\" stroke=\"black\" points=\"101,-1591.5 101,-1635.5 147,-1635.5 147,-1591.5 101,-1591.5\"/>\n",
       "<text text-anchor=\"start\" x=\"110.88\" y=\"-1616.75\" font-family=\"Linux libertine\" font-size=\"10.00\">LSTM</text>\n",
       "<text text-anchor=\"start\" x=\"105.62\" y=\"-1604\" font-family=\"Linux libertine\" font-size=\"10.00\">depth:4</text>\n",
       "<polygon fill=\"none\" stroke=\"black\" points=\"147,-1613.5 147,-1635.5 194,-1635.5 194,-1613.5 147,-1613.5\"/>\n",
       "<text text-anchor=\"start\" x=\"156.62\" y=\"-1621\" font-family=\"Linux libertine\" font-size=\"10.00\">input:</text>\n",
       "<polygon fill=\"none\" stroke=\"black\" points=\"194,-1613.5 194,-1635.5 336,-1635.5 336,-1613.5 194,-1613.5\"/>\n",
       "<text text-anchor=\"start\" x=\"235.75\" y=\"-1621\" font-family=\"Linux libertine\" font-size=\"10.00\">(1, 41, 256) </text>\n",
       "<polygon fill=\"none\" stroke=\"black\" points=\"147,-1591.5 147,-1613.5 194,-1613.5 194,-1591.5 147,-1591.5\"/>\n",
       "<text text-anchor=\"start\" x=\"151.75\" y=\"-1599\" font-family=\"Linux libertine\" font-size=\"10.00\">output: </text>\n",
       "<polygon fill=\"none\" stroke=\"black\" points=\"194,-1591.5 194,-1613.5 336,-1613.5 336,-1591.5 194,-1591.5\"/>\n",
       "<text text-anchor=\"start\" x=\"199\" y=\"-1599\" font-family=\"Linux libertine\" font-size=\"10.00\">(1, 41, 256), 2 x (2, 1, 128) </text>\n",
       "</g>\n",
       "<!-- 13&#45;&gt;14 -->\n",
       "<g id=\"edge17\" class=\"edge\">\n",
       "<title>13&#45;&gt;14</title>\n",
       "<path fill=\"none\" stroke=\"black\" d=\"M208.25,-1671.6C209.65,-1663.82 211.27,-1654.8 212.8,-1646.26\"/>\n",
       "<polygon fill=\"black\" stroke=\"black\" points=\"216.42,-1646.92 214.74,-1636.46 209.53,-1645.68 216.42,-1646.92\"/>\n",
       "</g>\n",
       "<!-- 14&#45;&gt;15 -->\n",
       "<g id=\"edge18\" class=\"edge\">\n",
       "<title>14&#45;&gt;15</title>\n",
       "<path fill=\"none\" stroke=\"black\" d=\"M198.94,-1591.6C190.84,-1582.94 181.31,-1572.76 172.55,-1563.41\"/>\n",
       "<polygon fill=\"black\" stroke=\"black\" points=\"175.51,-1561.37 166.12,-1556.46 170.39,-1566.15 175.51,-1561.37\"/>\n",
       "</g>\n",
       "<!-- 16 -->\n",
       "<g id=\"node17\" class=\"node\">\n",
       "<title>16</title>\n",
       "<polygon fill=\"aliceblue\" stroke=\"none\" points=\"237.5,-1475.5 53.5,-1475.5 53.5,-1431.5 237.5,-1431.5 237.5,-1475.5\"/>\n",
       "<polygon fill=\"none\" stroke=\"black\" points=\"53.5,-1431.5 53.5,-1475.5 122.5,-1475.5 122.5,-1431.5 53.5,-1431.5\"/>\n",
       "<text text-anchor=\"start\" x=\"58.38\" y=\"-1456.75\" font-family=\"Linux libertine\" font-size=\"10.00\">__getitem__</text>\n",
       "<text text-anchor=\"start\" x=\"69.62\" y=\"-1444\" font-family=\"Linux libertine\" font-size=\"10.00\">depth:2</text>\n",
       "<polygon fill=\"none\" stroke=\"black\" points=\"122.5,-1453.5 122.5,-1475.5 169.5,-1475.5 169.5,-1453.5 122.5,-1453.5\"/>\n",
       "<text text-anchor=\"start\" x=\"132.12\" y=\"-1461\" font-family=\"Linux libertine\" font-size=\"10.00\">input:</text>\n",
       "<polygon fill=\"none\" stroke=\"black\" points=\"169.5,-1453.5 169.5,-1475.5 237.5,-1475.5 237.5,-1453.5 169.5,-1453.5\"/>\n",
       "<text text-anchor=\"start\" x=\"174.25\" y=\"-1461\" font-family=\"Linux libertine\" font-size=\"10.00\">(1, 41, 256) </text>\n",
       "<polygon fill=\"none\" stroke=\"black\" points=\"122.5,-1431.5 122.5,-1453.5 169.5,-1453.5 169.5,-1431.5 122.5,-1431.5\"/>\n",
       "<text text-anchor=\"start\" x=\"127.25\" y=\"-1439\" font-family=\"Linux libertine\" font-size=\"10.00\">output: </text>\n",
       "<polygon fill=\"none\" stroke=\"black\" points=\"169.5,-1431.5 169.5,-1453.5 237.5,-1453.5 237.5,-1431.5 169.5,-1431.5\"/>\n",
       "<text text-anchor=\"start\" x=\"183.25\" y=\"-1439\" font-family=\"Linux libertine\" font-size=\"10.00\">(1, 256) </text>\n",
       "</g>\n",
       "<!-- 15&#45;&gt;16 -->\n",
       "<g id=\"edge19\" class=\"edge\">\n",
       "<title>15&#45;&gt;16</title>\n",
       "<path fill=\"none\" stroke=\"black\" d=\"M145.5,-1511.6C145.5,-1503.82 145.5,-1494.8 145.5,-1486.26\"/>\n",
       "<polygon fill=\"black\" stroke=\"black\" points=\"149,-1486.46 145.5,-1476.46 142,-1486.46 149,-1486.46\"/>\n",
       "</g>\n",
       "<!-- 17 -->\n",
       "<g id=\"node18\" class=\"node\">\n",
       "<title>17</title>\n",
       "<polygon fill=\"aliceblue\" stroke=\"none\" points=\"231,-1395.5 60,-1395.5 60,-1351.5 231,-1351.5 231,-1395.5\"/>\n",
       "<polygon fill=\"none\" stroke=\"black\" points=\"60,-1351.5 60,-1395.5 122,-1395.5 122,-1351.5 60,-1351.5\"/>\n",
       "<text text-anchor=\"start\" x=\"64.75\" y=\"-1376.75\" font-family=\"Linux libertine\" font-size=\"10.00\">unsqueeze</text>\n",
       "<text text-anchor=\"start\" x=\"72.62\" y=\"-1364\" font-family=\"Linux libertine\" font-size=\"10.00\">depth:2</text>\n",
       "<polygon fill=\"none\" stroke=\"black\" points=\"122,-1373.5 122,-1395.5 169,-1395.5 169,-1373.5 122,-1373.5\"/>\n",
       "<text text-anchor=\"start\" x=\"131.62\" y=\"-1381\" font-family=\"Linux libertine\" font-size=\"10.00\">input:</text>\n",
       "<polygon fill=\"none\" stroke=\"black\" points=\"169,-1373.5 169,-1395.5 231,-1395.5 231,-1373.5 169,-1373.5\"/>\n",
       "<text text-anchor=\"start\" x=\"179.75\" y=\"-1381\" font-family=\"Linux libertine\" font-size=\"10.00\">(1, 256) </text>\n",
       "<polygon fill=\"none\" stroke=\"black\" points=\"122,-1351.5 122,-1373.5 169,-1373.5 169,-1351.5 122,-1351.5\"/>\n",
       "<text text-anchor=\"start\" x=\"126.75\" y=\"-1359\" font-family=\"Linux libertine\" font-size=\"10.00\">output: </text>\n",
       "<polygon fill=\"none\" stroke=\"black\" points=\"169,-1351.5 169,-1373.5 231,-1373.5 231,-1351.5 169,-1351.5\"/>\n",
       "<text text-anchor=\"start\" x=\"173.75\" y=\"-1359\" font-family=\"Linux libertine\" font-size=\"10.00\">(1, 1, 256) </text>\n",
       "</g>\n",
       "<!-- 16&#45;&gt;17 -->\n",
       "<g id=\"edge20\" class=\"edge\">\n",
       "<title>16&#45;&gt;17</title>\n",
       "<path fill=\"none\" stroke=\"black\" d=\"M145.5,-1431.6C145.5,-1423.82 145.5,-1414.8 145.5,-1406.26\"/>\n",
       "<polygon fill=\"black\" stroke=\"black\" points=\"149,-1406.46 145.5,-1396.46 142,-1406.46 149,-1406.46\"/>\n",
       "</g>\n",
       "<!-- 18 -->\n",
       "<g id=\"node19\" class=\"node\">\n",
       "<title>18</title>\n",
       "<polygon fill=\"aliceblue\" stroke=\"none\" points=\"226,-1315.5 65,-1315.5 65,-1271.5 226,-1271.5 226,-1315.5\"/>\n",
       "<polygon fill=\"none\" stroke=\"black\" points=\"65,-1271.5 65,-1315.5 111,-1315.5 111,-1271.5 65,-1271.5\"/>\n",
       "<text text-anchor=\"start\" x=\"72.25\" y=\"-1296.75\" font-family=\"Linux libertine\" font-size=\"10.00\">repeat</text>\n",
       "<text text-anchor=\"start\" x=\"69.62\" y=\"-1284\" font-family=\"Linux libertine\" font-size=\"10.00\">depth:2</text>\n",
       "<polygon fill=\"none\" stroke=\"black\" points=\"111,-1293.5 111,-1315.5 158,-1315.5 158,-1293.5 111,-1293.5\"/>\n",
       "<text text-anchor=\"start\" x=\"120.62\" y=\"-1301\" font-family=\"Linux libertine\" font-size=\"10.00\">input:</text>\n",
       "<polygon fill=\"none\" stroke=\"black\" points=\"158,-1293.5 158,-1315.5 226,-1315.5 226,-1293.5 158,-1293.5\"/>\n",
       "<text text-anchor=\"start\" x=\"165.75\" y=\"-1301\" font-family=\"Linux libertine\" font-size=\"10.00\">(1, 1, 256) </text>\n",
       "<polygon fill=\"none\" stroke=\"black\" points=\"111,-1271.5 111,-1293.5 158,-1293.5 158,-1271.5 111,-1271.5\"/>\n",
       "<text text-anchor=\"start\" x=\"115.75\" y=\"-1279\" font-family=\"Linux libertine\" font-size=\"10.00\">output: </text>\n",
       "<polygon fill=\"none\" stroke=\"black\" points=\"158,-1271.5 158,-1293.5 226,-1293.5 226,-1271.5 158,-1271.5\"/>\n",
       "<text text-anchor=\"start\" x=\"162.75\" y=\"-1279\" font-family=\"Linux libertine\" font-size=\"10.00\">(1, 37, 256) </text>\n",
       "</g>\n",
       "<!-- 17&#45;&gt;18 -->\n",
       "<g id=\"edge22\" class=\"edge\">\n",
       "<title>17&#45;&gt;18</title>\n",
       "<path fill=\"none\" stroke=\"black\" d=\"M145.5,-1351.6C145.5,-1343.82 145.5,-1334.8 145.5,-1326.26\"/>\n",
       "<polygon fill=\"black\" stroke=\"black\" points=\"149,-1326.46 145.5,-1316.46 142,-1326.46 149,-1326.46\"/>\n",
       "</g>\n",
       "<!-- 20 -->\n",
       "<g id=\"node21\" class=\"node\">\n",
       "<title>20</title>\n",
       "<polygon fill=\"aliceblue\" stroke=\"none\" points=\"341,-1235.5 138,-1235.5 138,-1191.5 341,-1191.5 341,-1235.5\"/>\n",
       "<polygon fill=\"none\" stroke=\"black\" points=\"138,-1191.5 138,-1235.5 208,-1235.5 208,-1191.5 138,-1191.5\"/>\n",
       "<text text-anchor=\"start\" x=\"143\" y=\"-1216.75\" font-family=\"Linux libertine\" font-size=\"10.00\">concatenate</text>\n",
       "<text text-anchor=\"start\" x=\"154.62\" y=\"-1204\" font-family=\"Linux libertine\" font-size=\"10.00\">depth:2</text>\n",
       "<polygon fill=\"none\" stroke=\"black\" points=\"208,-1213.5 208,-1235.5 255,-1235.5 255,-1213.5 208,-1213.5\"/>\n",
       "<text text-anchor=\"start\" x=\"217.62\" y=\"-1221\" font-family=\"Linux libertine\" font-size=\"10.00\">input:</text>\n",
       "<polygon fill=\"none\" stroke=\"black\" points=\"255,-1213.5 255,-1235.5 341,-1235.5 341,-1213.5 255,-1213.5\"/>\n",
       "<text text-anchor=\"start\" x=\"259.75\" y=\"-1221\" font-family=\"Linux libertine\" font-size=\"10.00\">2 x (1, 37, 256) </text>\n",
       "<polygon fill=\"none\" stroke=\"black\" points=\"208,-1191.5 208,-1213.5 255,-1213.5 255,-1191.5 208,-1191.5\"/>\n",
       "<text text-anchor=\"start\" x=\"212.75\" y=\"-1199\" font-family=\"Linux libertine\" font-size=\"10.00\">output: </text>\n",
       "<polygon fill=\"none\" stroke=\"black\" points=\"255,-1191.5 255,-1213.5 341,-1213.5 341,-1191.5 255,-1191.5\"/>\n",
       "<text text-anchor=\"start\" x=\"268.75\" y=\"-1199\" font-family=\"Linux libertine\" font-size=\"10.00\">(1, 37, 512) </text>\n",
       "</g>\n",
       "<!-- 18&#45;&gt;20 -->\n",
       "<g id=\"edge23\" class=\"edge\">\n",
       "<title>18&#45;&gt;20</title>\n",
       "<path fill=\"none\" stroke=\"black\" d=\"M170.69,-1271.6C181.54,-1262.59 194.39,-1251.93 206.03,-1242.28\"/>\n",
       "<polygon fill=\"black\" stroke=\"black\" points=\"207.78,-1244.54 213.24,-1235.46 203.31,-1239.15 207.78,-1244.54\"/>\n",
       "</g>\n",
       "<!-- 19&#45;&gt;20 -->\n",
       "<g id=\"edge24\" class=\"edge\">\n",
       "<title>19&#45;&gt;20</title>\n",
       "<path fill=\"none\" stroke=\"black\" d=\"M308.31,-1271.6C297.46,-1262.59 284.61,-1251.93 272.97,-1242.28\"/>\n",
       "<polygon fill=\"black\" stroke=\"black\" points=\"275.69,-1239.15 265.76,-1235.46 271.22,-1244.54 275.69,-1239.15\"/>\n",
       "</g>\n",
       "<!-- 21 -->\n",
       "<g id=\"node22\" class=\"node\">\n",
       "<title>21</title>\n",
       "<polygon fill=\"#c1ffc1\" stroke=\"none\" points=\"320,-1155.5 159,-1155.5 159,-1111.5 320,-1111.5 320,-1155.5\"/>\n",
       "<polygon fill=\"none\" stroke=\"black\" points=\"159,-1111.5 159,-1155.5 205,-1155.5 205,-1111.5 159,-1111.5\"/>\n",
       "<text text-anchor=\"start\" x=\"167\" y=\"-1136.75\" font-family=\"Linux libertine\" font-size=\"10.00\">Linear</text>\n",
       "<text text-anchor=\"start\" x=\"163.62\" y=\"-1124\" font-family=\"Linux libertine\" font-size=\"10.00\">depth:2</text>\n",
       "<polygon fill=\"none\" stroke=\"black\" points=\"205,-1133.5 205,-1155.5 252,-1155.5 252,-1133.5 205,-1133.5\"/>\n",
       "<text text-anchor=\"start\" x=\"214.62\" y=\"-1141\" font-family=\"Linux libertine\" font-size=\"10.00\">input:</text>\n",
       "<polygon fill=\"none\" stroke=\"black\" points=\"252,-1133.5 252,-1155.5 320,-1155.5 320,-1133.5 252,-1133.5\"/>\n",
       "<text text-anchor=\"start\" x=\"256.75\" y=\"-1141\" font-family=\"Linux libertine\" font-size=\"10.00\">(1, 37, 512) </text>\n",
       "<polygon fill=\"none\" stroke=\"black\" points=\"205,-1111.5 205,-1133.5 252,-1133.5 252,-1111.5 205,-1111.5\"/>\n",
       "<text text-anchor=\"start\" x=\"209.75\" y=\"-1119\" font-family=\"Linux libertine\" font-size=\"10.00\">output: </text>\n",
       "<polygon fill=\"none\" stroke=\"black\" points=\"252,-1111.5 252,-1133.5 320,-1133.5 320,-1111.5 252,-1111.5\"/>\n",
       "<text text-anchor=\"start\" x=\"256.75\" y=\"-1119\" font-family=\"Linux libertine\" font-size=\"10.00\">(1, 37, 256) </text>\n",
       "</g>\n",
       "<!-- 20&#45;&gt;21 -->\n",
       "<g id=\"edge25\" class=\"edge\">\n",
       "<title>20&#45;&gt;21</title>\n",
       "<path fill=\"none\" stroke=\"black\" d=\"M239.5,-1191.6C239.5,-1183.82 239.5,-1174.8 239.5,-1166.26\"/>\n",
       "<polygon fill=\"black\" stroke=\"black\" points=\"243,-1166.46 239.5,-1156.46 236,-1166.46 243,-1166.46\"/>\n",
       "</g>\n",
       "<!-- 22 -->\n",
       "<g id=\"node23\" class=\"node\">\n",
       "<title>22</title>\n",
       "<polygon fill=\"#c1ffc1\" stroke=\"none\" points=\"402,-1075.5 223,-1075.5 223,-1031.5 402,-1031.5 402,-1075.5\"/>\n",
       "<polygon fill=\"none\" stroke=\"black\" points=\"223,-1031.5 223,-1075.5 287,-1075.5 287,-1031.5 223,-1031.5\"/>\n",
       "<text text-anchor=\"start\" x=\"228\" y=\"-1056.75\" font-family=\"Linux libertine\" font-size=\"10.00\">LayerNorm</text>\n",
       "<text text-anchor=\"start\" x=\"236.62\" y=\"-1044\" font-family=\"Linux libertine\" font-size=\"10.00\">depth:4</text>\n",
       "<polygon fill=\"none\" stroke=\"black\" points=\"287,-1053.5 287,-1075.5 334,-1075.5 334,-1053.5 287,-1053.5\"/>\n",
       "<text text-anchor=\"start\" x=\"296.62\" y=\"-1061\" font-family=\"Linux libertine\" font-size=\"10.00\">input:</text>\n",
       "<polygon fill=\"none\" stroke=\"black\" points=\"334,-1053.5 334,-1075.5 402,-1075.5 402,-1053.5 334,-1053.5\"/>\n",
       "<text text-anchor=\"start\" x=\"338.75\" y=\"-1061\" font-family=\"Linux libertine\" font-size=\"10.00\">(1, 37, 256) </text>\n",
       "<polygon fill=\"none\" stroke=\"black\" points=\"287,-1031.5 287,-1053.5 334,-1053.5 334,-1031.5 287,-1031.5\"/>\n",
       "<text text-anchor=\"start\" x=\"291.75\" y=\"-1039\" font-family=\"Linux libertine\" font-size=\"10.00\">output: </text>\n",
       "<polygon fill=\"none\" stroke=\"black\" points=\"334,-1031.5 334,-1053.5 402,-1053.5 402,-1031.5 334,-1031.5\"/>\n",
       "<text text-anchor=\"start\" x=\"338.75\" y=\"-1039\" font-family=\"Linux libertine\" font-size=\"10.00\">(1, 37, 256) </text>\n",
       "</g>\n",
       "<!-- 21&#45;&gt;22 -->\n",
       "<g id=\"edge26\" class=\"edge\">\n",
       "<title>21&#45;&gt;22</title>\n",
       "<path fill=\"none\" stroke=\"black\" d=\"M259.06,-1111.6C267.16,-1102.94 276.69,-1092.76 285.45,-1083.41\"/>\n",
       "<polygon fill=\"black\" stroke=\"black\" points=\"287.61,-1086.15 291.88,-1076.46 282.49,-1081.37 287.61,-1086.15\"/>\n",
       "</g>\n",
       "<!-- 24 -->\n",
       "<g id=\"node25\" class=\"node\">\n",
       "<title>24</title>\n",
       "<polygon fill=\"aliceblue\" stroke=\"none\" points=\"343,-915.5 164,-915.5 164,-871.5 343,-871.5 343,-915.5\"/>\n",
       "<polygon fill=\"none\" stroke=\"black\" points=\"164,-871.5 164,-915.5 210,-915.5 210,-871.5 164,-871.5\"/>\n",
       "<text text-anchor=\"start\" x=\"178\" y=\"-896.75\" font-family=\"Linux libertine\" font-size=\"10.00\">add</text>\n",
       "<text text-anchor=\"start\" x=\"168.62\" y=\"-884\" font-family=\"Linux libertine\" font-size=\"10.00\">depth:4</text>\n",
       "<polygon fill=\"none\" stroke=\"black\" points=\"210,-893.5 210,-915.5 257,-915.5 257,-893.5 210,-893.5\"/>\n",
       "<text text-anchor=\"start\" x=\"219.62\" y=\"-901\" font-family=\"Linux libertine\" font-size=\"10.00\">input:</text>\n",
       "<polygon fill=\"none\" stroke=\"black\" points=\"257,-893.5 257,-915.5 343,-915.5 343,-893.5 257,-893.5\"/>\n",
       "<text text-anchor=\"start\" x=\"261.75\" y=\"-901\" font-family=\"Linux libertine\" font-size=\"10.00\">2 x (1, 37, 256) </text>\n",
       "<polygon fill=\"none\" stroke=\"black\" points=\"210,-871.5 210,-893.5 257,-893.5 257,-871.5 210,-871.5\"/>\n",
       "<text text-anchor=\"start\" x=\"214.75\" y=\"-879\" font-family=\"Linux libertine\" font-size=\"10.00\">output: </text>\n",
       "<polygon fill=\"none\" stroke=\"black\" points=\"257,-871.5 257,-893.5 343,-893.5 343,-871.5 257,-871.5\"/>\n",
       "<text text-anchor=\"start\" x=\"270.75\" y=\"-879\" font-family=\"Linux libertine\" font-size=\"10.00\">(1, 37, 256) </text>\n",
       "</g>\n",
       "<!-- 21&#45;&gt;24 -->\n",
       "<g id=\"edge27\" class=\"edge\">\n",
       "<title>21&#45;&gt;24</title>\n",
       "<path fill=\"none\" stroke=\"black\" d=\"M227.29,-1111.51C208.96,-1077.1 178.69,-1007 200.5,-951.5 204.58,-941.12 211.53,-931.52 219.09,-923.26\"/>\n",
       "<polygon fill=\"black\" stroke=\"black\" points=\"221.23,-926.05 225.75,-916.47 216.24,-921.14 221.23,-926.05\"/>\n",
       "</g>\n",
       "<!-- 23 -->\n",
       "<g id=\"node24\" class=\"node\">\n",
       "<title>23</title>\n",
       "<polygon fill=\"#c1ffc1\" stroke=\"none\" points=\"444,-995.5 209,-995.5 209,-951.5 444,-951.5 444,-995.5\"/>\n",
       "<polygon fill=\"none\" stroke=\"black\" points=\"209,-951.5 209,-995.5 255,-995.5 255,-951.5 209,-951.5\"/>\n",
       "<text text-anchor=\"start\" x=\"218.88\" y=\"-976.75\" font-family=\"Linux libertine\" font-size=\"10.00\">LSTM</text>\n",
       "<text text-anchor=\"start\" x=\"213.62\" y=\"-964\" font-family=\"Linux libertine\" font-size=\"10.00\">depth:4</text>\n",
       "<polygon fill=\"none\" stroke=\"black\" points=\"255,-973.5 255,-995.5 302,-995.5 302,-973.5 255,-973.5\"/>\n",
       "<text text-anchor=\"start\" x=\"264.62\" y=\"-981\" font-family=\"Linux libertine\" font-size=\"10.00\">input:</text>\n",
       "<polygon fill=\"none\" stroke=\"black\" points=\"302,-973.5 302,-995.5 444,-995.5 444,-973.5 302,-973.5\"/>\n",
       "<text text-anchor=\"start\" x=\"343.75\" y=\"-981\" font-family=\"Linux libertine\" font-size=\"10.00\">(1, 37, 256) </text>\n",
       "<polygon fill=\"none\" stroke=\"black\" points=\"255,-951.5 255,-973.5 302,-973.5 302,-951.5 255,-951.5\"/>\n",
       "<text text-anchor=\"start\" x=\"259.75\" y=\"-959\" font-family=\"Linux libertine\" font-size=\"10.00\">output: </text>\n",
       "<polygon fill=\"none\" stroke=\"black\" points=\"302,-951.5 302,-973.5 444,-973.5 444,-951.5 302,-951.5\"/>\n",
       "<text text-anchor=\"start\" x=\"307\" y=\"-959\" font-family=\"Linux libertine\" font-size=\"10.00\">(1, 37, 256), 2 x (1, 1, 256) </text>\n",
       "</g>\n",
       "<!-- 22&#45;&gt;23 -->\n",
       "<g id=\"edge28\" class=\"edge\">\n",
       "<title>22&#45;&gt;23</title>\n",
       "<path fill=\"none\" stroke=\"black\" d=\"M316.25,-1031.6C317.65,-1023.82 319.27,-1014.8 320.8,-1006.26\"/>\n",
       "<polygon fill=\"black\" stroke=\"black\" points=\"324.42,-1006.92 322.74,-996.46 317.53,-1005.68 324.42,-1006.92\"/>\n",
       "</g>\n",
       "<!-- 23&#45;&gt;24 -->\n",
       "<g id=\"edge29\" class=\"edge\">\n",
       "<title>23&#45;&gt;24</title>\n",
       "<path fill=\"none\" stroke=\"black\" d=\"M306.94,-951.6C298.84,-942.94 289.31,-932.76 280.55,-923.41\"/>\n",
       "<polygon fill=\"black\" stroke=\"black\" points=\"283.51,-921.37 274.12,-916.46 278.39,-926.15 283.51,-921.37\"/>\n",
       "</g>\n",
       "<!-- 25 -->\n",
       "<g id=\"node26\" class=\"node\">\n",
       "<title>25</title>\n",
       "<polygon fill=\"#c1ffc1\" stroke=\"none\" points=\"416,-835.5 237,-835.5 237,-791.5 416,-791.5 416,-835.5\"/>\n",
       "<polygon fill=\"none\" stroke=\"black\" points=\"237,-791.5 237,-835.5 301,-835.5 301,-791.5 237,-791.5\"/>\n",
       "<text text-anchor=\"start\" x=\"242\" y=\"-816.75\" font-family=\"Linux libertine\" font-size=\"10.00\">LayerNorm</text>\n",
       "<text text-anchor=\"start\" x=\"250.62\" y=\"-804\" font-family=\"Linux libertine\" font-size=\"10.00\">depth:4</text>\n",
       "<polygon fill=\"none\" stroke=\"black\" points=\"301,-813.5 301,-835.5 348,-835.5 348,-813.5 301,-813.5\"/>\n",
       "<text text-anchor=\"start\" x=\"310.62\" y=\"-821\" font-family=\"Linux libertine\" font-size=\"10.00\">input:</text>\n",
       "<polygon fill=\"none\" stroke=\"black\" points=\"348,-813.5 348,-835.5 416,-835.5 416,-813.5 348,-813.5\"/>\n",
       "<text text-anchor=\"start\" x=\"352.75\" y=\"-821\" font-family=\"Linux libertine\" font-size=\"10.00\">(1, 37, 256) </text>\n",
       "<polygon fill=\"none\" stroke=\"black\" points=\"301,-791.5 301,-813.5 348,-813.5 348,-791.5 301,-791.5\"/>\n",
       "<text text-anchor=\"start\" x=\"305.75\" y=\"-799\" font-family=\"Linux libertine\" font-size=\"10.00\">output: </text>\n",
       "<polygon fill=\"none\" stroke=\"black\" points=\"348,-791.5 348,-813.5 416,-813.5 416,-791.5 348,-791.5\"/>\n",
       "<text text-anchor=\"start\" x=\"352.75\" y=\"-799\" font-family=\"Linux libertine\" font-size=\"10.00\">(1, 37, 256) </text>\n",
       "</g>\n",
       "<!-- 24&#45;&gt;25 -->\n",
       "<g id=\"edge30\" class=\"edge\">\n",
       "<title>24&#45;&gt;25</title>\n",
       "<path fill=\"none\" stroke=\"black\" d=\"M273.06,-871.6C281.16,-862.94 290.69,-852.76 299.45,-843.41\"/>\n",
       "<polygon fill=\"black\" stroke=\"black\" points=\"301.61,-846.15 305.88,-836.46 296.49,-841.37 301.61,-846.15\"/>\n",
       "</g>\n",
       "<!-- 27 -->\n",
       "<g id=\"node28\" class=\"node\">\n",
       "<title>27</title>\n",
       "<polygon fill=\"aliceblue\" stroke=\"none\" points=\"357,-675.5 178,-675.5 178,-631.5 357,-631.5 357,-675.5\"/>\n",
       "<polygon fill=\"none\" stroke=\"black\" points=\"178,-631.5 178,-675.5 224,-675.5 224,-631.5 178,-631.5\"/>\n",
       "<text text-anchor=\"start\" x=\"192\" y=\"-656.75\" font-family=\"Linux libertine\" font-size=\"10.00\">add</text>\n",
       "<text text-anchor=\"start\" x=\"182.62\" y=\"-644\" font-family=\"Linux libertine\" font-size=\"10.00\">depth:4</text>\n",
       "<polygon fill=\"none\" stroke=\"black\" points=\"224,-653.5 224,-675.5 271,-675.5 271,-653.5 224,-653.5\"/>\n",
       "<text text-anchor=\"start\" x=\"233.62\" y=\"-661\" font-family=\"Linux libertine\" font-size=\"10.00\">input:</text>\n",
       "<polygon fill=\"none\" stroke=\"black\" points=\"271,-653.5 271,-675.5 357,-675.5 357,-653.5 271,-653.5\"/>\n",
       "<text text-anchor=\"start\" x=\"275.75\" y=\"-661\" font-family=\"Linux libertine\" font-size=\"10.00\">2 x (1, 37, 256) </text>\n",
       "<polygon fill=\"none\" stroke=\"black\" points=\"224,-631.5 224,-653.5 271,-653.5 271,-631.5 224,-631.5\"/>\n",
       "<text text-anchor=\"start\" x=\"228.75\" y=\"-639\" font-family=\"Linux libertine\" font-size=\"10.00\">output: </text>\n",
       "<polygon fill=\"none\" stroke=\"black\" points=\"271,-631.5 271,-653.5 357,-653.5 357,-631.5 271,-631.5\"/>\n",
       "<text text-anchor=\"start\" x=\"284.75\" y=\"-639\" font-family=\"Linux libertine\" font-size=\"10.00\">(1, 37, 256) </text>\n",
       "</g>\n",
       "<!-- 24&#45;&gt;27 -->\n",
       "<g id=\"edge31\" class=\"edge\">\n",
       "<title>24&#45;&gt;27</title>\n",
       "<path fill=\"none\" stroke=\"black\" d=\"M241.29,-871.51C222.96,-837.1 192.69,-767 214.5,-711.5 218.58,-701.12 225.53,-691.52 233.09,-683.26\"/>\n",
       "<polygon fill=\"black\" stroke=\"black\" points=\"235.23,-686.05 239.75,-676.47 230.24,-681.14 235.23,-686.05\"/>\n",
       "</g>\n",
       "<!-- 26 -->\n",
       "<g id=\"node27\" class=\"node\">\n",
       "<title>26</title>\n",
       "<polygon fill=\"#c1ffc1\" stroke=\"none\" points=\"458,-755.5 223,-755.5 223,-711.5 458,-711.5 458,-755.5\"/>\n",
       "<polygon fill=\"none\" stroke=\"black\" points=\"223,-711.5 223,-755.5 269,-755.5 269,-711.5 223,-711.5\"/>\n",
       "<text text-anchor=\"start\" x=\"232.88\" y=\"-736.75\" font-family=\"Linux libertine\" font-size=\"10.00\">LSTM</text>\n",
       "<text text-anchor=\"start\" x=\"227.62\" y=\"-724\" font-family=\"Linux libertine\" font-size=\"10.00\">depth:4</text>\n",
       "<polygon fill=\"none\" stroke=\"black\" points=\"269,-733.5 269,-755.5 316,-755.5 316,-733.5 269,-733.5\"/>\n",
       "<text text-anchor=\"start\" x=\"278.62\" y=\"-741\" font-family=\"Linux libertine\" font-size=\"10.00\">input:</text>\n",
       "<polygon fill=\"none\" stroke=\"black\" points=\"316,-733.5 316,-755.5 458,-755.5 458,-733.5 316,-733.5\"/>\n",
       "<text text-anchor=\"start\" x=\"357.75\" y=\"-741\" font-family=\"Linux libertine\" font-size=\"10.00\">(1, 37, 256) </text>\n",
       "<polygon fill=\"none\" stroke=\"black\" points=\"269,-711.5 269,-733.5 316,-733.5 316,-711.5 269,-711.5\"/>\n",
       "<text text-anchor=\"start\" x=\"273.75\" y=\"-719\" font-family=\"Linux libertine\" font-size=\"10.00\">output: </text>\n",
       "<polygon fill=\"none\" stroke=\"black\" points=\"316,-711.5 316,-733.5 458,-733.5 458,-711.5 316,-711.5\"/>\n",
       "<text text-anchor=\"start\" x=\"321\" y=\"-719\" font-family=\"Linux libertine\" font-size=\"10.00\">(1, 37, 256), 2 x (1, 1, 256) </text>\n",
       "</g>\n",
       "<!-- 25&#45;&gt;26 -->\n",
       "<g id=\"edge32\" class=\"edge\">\n",
       "<title>25&#45;&gt;26</title>\n",
       "<path fill=\"none\" stroke=\"black\" d=\"M330.25,-791.6C331.65,-783.82 333.27,-774.8 334.8,-766.26\"/>\n",
       "<polygon fill=\"black\" stroke=\"black\" points=\"338.42,-766.92 336.74,-756.46 331.53,-765.68 338.42,-766.92\"/>\n",
       "</g>\n",
       "<!-- 26&#45;&gt;27 -->\n",
       "<g id=\"edge33\" class=\"edge\">\n",
       "<title>26&#45;&gt;27</title>\n",
       "<path fill=\"none\" stroke=\"black\" d=\"M320.94,-711.6C312.84,-702.94 303.31,-692.76 294.55,-683.41\"/>\n",
       "<polygon fill=\"black\" stroke=\"black\" points=\"297.51,-681.37 288.12,-676.46 292.39,-686.15 297.51,-681.37\"/>\n",
       "</g>\n",
       "<!-- 28 -->\n",
       "<g id=\"node29\" class=\"node\">\n",
       "<title>28</title>\n",
       "<polygon fill=\"#c1ffc1\" stroke=\"none\" points=\"430,-595.5 251,-595.5 251,-551.5 430,-551.5 430,-595.5\"/>\n",
       "<polygon fill=\"none\" stroke=\"black\" points=\"251,-551.5 251,-595.5 315,-595.5 315,-551.5 251,-551.5\"/>\n",
       "<text text-anchor=\"start\" x=\"256\" y=\"-576.75\" font-family=\"Linux libertine\" font-size=\"10.00\">LayerNorm</text>\n",
       "<text text-anchor=\"start\" x=\"264.62\" y=\"-564\" font-family=\"Linux libertine\" font-size=\"10.00\">depth:4</text>\n",
       "<polygon fill=\"none\" stroke=\"black\" points=\"315,-573.5 315,-595.5 362,-595.5 362,-573.5 315,-573.5\"/>\n",
       "<text text-anchor=\"start\" x=\"324.62\" y=\"-581\" font-family=\"Linux libertine\" font-size=\"10.00\">input:</text>\n",
       "<polygon fill=\"none\" stroke=\"black\" points=\"362,-573.5 362,-595.5 430,-595.5 430,-573.5 362,-573.5\"/>\n",
       "<text text-anchor=\"start\" x=\"366.75\" y=\"-581\" font-family=\"Linux libertine\" font-size=\"10.00\">(1, 37, 256) </text>\n",
       "<polygon fill=\"none\" stroke=\"black\" points=\"315,-551.5 315,-573.5 362,-573.5 362,-551.5 315,-551.5\"/>\n",
       "<text text-anchor=\"start\" x=\"319.75\" y=\"-559\" font-family=\"Linux libertine\" font-size=\"10.00\">output: </text>\n",
       "<polygon fill=\"none\" stroke=\"black\" points=\"362,-551.5 362,-573.5 430,-573.5 430,-551.5 362,-551.5\"/>\n",
       "<text text-anchor=\"start\" x=\"366.75\" y=\"-559\" font-family=\"Linux libertine\" font-size=\"10.00\">(1, 37, 256) </text>\n",
       "</g>\n",
       "<!-- 27&#45;&gt;28 -->\n",
       "<g id=\"edge34\" class=\"edge\">\n",
       "<title>27&#45;&gt;28</title>\n",
       "<path fill=\"none\" stroke=\"black\" d=\"M287.06,-631.6C295.16,-622.94 304.69,-612.76 313.45,-603.41\"/>\n",
       "<polygon fill=\"black\" stroke=\"black\" points=\"315.61,-606.15 319.88,-596.46 310.49,-601.37 315.61,-606.15\"/>\n",
       "</g>\n",
       "<!-- 30 -->\n",
       "<g id=\"node31\" class=\"node\">\n",
       "<title>30</title>\n",
       "<polygon fill=\"aliceblue\" stroke=\"none\" points=\"371,-435.5 192,-435.5 192,-391.5 371,-391.5 371,-435.5\"/>\n",
       "<polygon fill=\"none\" stroke=\"black\" points=\"192,-391.5 192,-435.5 238,-435.5 238,-391.5 192,-391.5\"/>\n",
       "<text text-anchor=\"start\" x=\"206\" y=\"-416.75\" font-family=\"Linux libertine\" font-size=\"10.00\">add</text>\n",
       "<text text-anchor=\"start\" x=\"196.62\" y=\"-404\" font-family=\"Linux libertine\" font-size=\"10.00\">depth:4</text>\n",
       "<polygon fill=\"none\" stroke=\"black\" points=\"238,-413.5 238,-435.5 285,-435.5 285,-413.5 238,-413.5\"/>\n",
       "<text text-anchor=\"start\" x=\"247.62\" y=\"-421\" font-family=\"Linux libertine\" font-size=\"10.00\">input:</text>\n",
       "<polygon fill=\"none\" stroke=\"black\" points=\"285,-413.5 285,-435.5 371,-435.5 371,-413.5 285,-413.5\"/>\n",
       "<text text-anchor=\"start\" x=\"289.75\" y=\"-421\" font-family=\"Linux libertine\" font-size=\"10.00\">2 x (1, 37, 256) </text>\n",
       "<polygon fill=\"none\" stroke=\"black\" points=\"238,-391.5 238,-413.5 285,-413.5 285,-391.5 238,-391.5\"/>\n",
       "<text text-anchor=\"start\" x=\"242.75\" y=\"-399\" font-family=\"Linux libertine\" font-size=\"10.00\">output: </text>\n",
       "<polygon fill=\"none\" stroke=\"black\" points=\"285,-391.5 285,-413.5 371,-413.5 371,-391.5 285,-391.5\"/>\n",
       "<text text-anchor=\"start\" x=\"298.75\" y=\"-399\" font-family=\"Linux libertine\" font-size=\"10.00\">(1, 37, 256) </text>\n",
       "</g>\n",
       "<!-- 27&#45;&gt;30 -->\n",
       "<g id=\"edge35\" class=\"edge\">\n",
       "<title>27&#45;&gt;30</title>\n",
       "<path fill=\"none\" stroke=\"black\" d=\"M255.29,-631.51C236.96,-597.1 206.69,-527 228.5,-471.5 232.58,-461.12 239.53,-451.52 247.09,-443.26\"/>\n",
       "<polygon fill=\"black\" stroke=\"black\" points=\"249.23,-446.05 253.75,-436.47 244.24,-441.14 249.23,-446.05\"/>\n",
       "</g>\n",
       "<!-- 29 -->\n",
       "<g id=\"node30\" class=\"node\">\n",
       "<title>29</title>\n",
       "<polygon fill=\"#c1ffc1\" stroke=\"none\" points=\"472,-515.5 237,-515.5 237,-471.5 472,-471.5 472,-515.5\"/>\n",
       "<polygon fill=\"none\" stroke=\"black\" points=\"237,-471.5 237,-515.5 283,-515.5 283,-471.5 237,-471.5\"/>\n",
       "<text text-anchor=\"start\" x=\"246.88\" y=\"-496.75\" font-family=\"Linux libertine\" font-size=\"10.00\">LSTM</text>\n",
       "<text text-anchor=\"start\" x=\"241.62\" y=\"-484\" font-family=\"Linux libertine\" font-size=\"10.00\">depth:4</text>\n",
       "<polygon fill=\"none\" stroke=\"black\" points=\"283,-493.5 283,-515.5 330,-515.5 330,-493.5 283,-493.5\"/>\n",
       "<text text-anchor=\"start\" x=\"292.62\" y=\"-501\" font-family=\"Linux libertine\" font-size=\"10.00\">input:</text>\n",
       "<polygon fill=\"none\" stroke=\"black\" points=\"330,-493.5 330,-515.5 472,-515.5 472,-493.5 330,-493.5\"/>\n",
       "<text text-anchor=\"start\" x=\"371.75\" y=\"-501\" font-family=\"Linux libertine\" font-size=\"10.00\">(1, 37, 256) </text>\n",
       "<polygon fill=\"none\" stroke=\"black\" points=\"283,-471.5 283,-493.5 330,-493.5 330,-471.5 283,-471.5\"/>\n",
       "<text text-anchor=\"start\" x=\"287.75\" y=\"-479\" font-family=\"Linux libertine\" font-size=\"10.00\">output: </text>\n",
       "<polygon fill=\"none\" stroke=\"black\" points=\"330,-471.5 330,-493.5 472,-493.5 472,-471.5 330,-471.5\"/>\n",
       "<text text-anchor=\"start\" x=\"335\" y=\"-479\" font-family=\"Linux libertine\" font-size=\"10.00\">(1, 37, 256), 2 x (1, 1, 256) </text>\n",
       "</g>\n",
       "<!-- 28&#45;&gt;29 -->\n",
       "<g id=\"edge36\" class=\"edge\">\n",
       "<title>28&#45;&gt;29</title>\n",
       "<path fill=\"none\" stroke=\"black\" d=\"M344.25,-551.6C345.65,-543.82 347.27,-534.8 348.8,-526.26\"/>\n",
       "<polygon fill=\"black\" stroke=\"black\" points=\"352.42,-526.92 350.74,-516.46 345.53,-525.68 352.42,-526.92\"/>\n",
       "</g>\n",
       "<!-- 29&#45;&gt;30 -->\n",
       "<g id=\"edge37\" class=\"edge\">\n",
       "<title>29&#45;&gt;30</title>\n",
       "<path fill=\"none\" stroke=\"black\" d=\"M334.94,-471.6C326.84,-462.94 317.31,-452.76 308.55,-443.41\"/>\n",
       "<polygon fill=\"black\" stroke=\"black\" points=\"311.51,-441.37 302.12,-436.46 306.39,-446.15 311.51,-441.37\"/>\n",
       "</g>\n",
       "<!-- 31 -->\n",
       "<g id=\"node32\" class=\"node\">\n",
       "<title>31</title>\n",
       "<polygon fill=\"#c1ffc1\" stroke=\"none\" points=\"444,-355.5 265,-355.5 265,-311.5 444,-311.5 444,-355.5\"/>\n",
       "<polygon fill=\"none\" stroke=\"black\" points=\"265,-311.5 265,-355.5 329,-355.5 329,-311.5 265,-311.5\"/>\n",
       "<text text-anchor=\"start\" x=\"270\" y=\"-336.75\" font-family=\"Linux libertine\" font-size=\"10.00\">LayerNorm</text>\n",
       "<text text-anchor=\"start\" x=\"278.62\" y=\"-324\" font-family=\"Linux libertine\" font-size=\"10.00\">depth:4</text>\n",
       "<polygon fill=\"none\" stroke=\"black\" points=\"329,-333.5 329,-355.5 376,-355.5 376,-333.5 329,-333.5\"/>\n",
       "<text text-anchor=\"start\" x=\"338.62\" y=\"-341\" font-family=\"Linux libertine\" font-size=\"10.00\">input:</text>\n",
       "<polygon fill=\"none\" stroke=\"black\" points=\"376,-333.5 376,-355.5 444,-355.5 444,-333.5 376,-333.5\"/>\n",
       "<text text-anchor=\"start\" x=\"380.75\" y=\"-341\" font-family=\"Linux libertine\" font-size=\"10.00\">(1, 37, 256) </text>\n",
       "<polygon fill=\"none\" stroke=\"black\" points=\"329,-311.5 329,-333.5 376,-333.5 376,-311.5 329,-311.5\"/>\n",
       "<text text-anchor=\"start\" x=\"333.75\" y=\"-319\" font-family=\"Linux libertine\" font-size=\"10.00\">output: </text>\n",
       "<polygon fill=\"none\" stroke=\"black\" points=\"376,-311.5 376,-333.5 444,-333.5 444,-311.5 376,-311.5\"/>\n",
       "<text text-anchor=\"start\" x=\"380.75\" y=\"-319\" font-family=\"Linux libertine\" font-size=\"10.00\">(1, 37, 256) </text>\n",
       "</g>\n",
       "<!-- 30&#45;&gt;31 -->\n",
       "<g id=\"edge38\" class=\"edge\">\n",
       "<title>30&#45;&gt;31</title>\n",
       "<path fill=\"none\" stroke=\"black\" d=\"M301.06,-391.6C309.16,-382.94 318.69,-372.76 327.45,-363.41\"/>\n",
       "<polygon fill=\"black\" stroke=\"black\" points=\"329.61,-366.15 333.88,-356.46 324.49,-361.37 329.61,-366.15\"/>\n",
       "</g>\n",
       "<!-- 33 -->\n",
       "<g id=\"node34\" class=\"node\">\n",
       "<title>33</title>\n",
       "<polygon fill=\"aliceblue\" stroke=\"none\" points=\"385,-195.5 206,-195.5 206,-151.5 385,-151.5 385,-195.5\"/>\n",
       "<polygon fill=\"none\" stroke=\"black\" points=\"206,-151.5 206,-195.5 252,-195.5 252,-151.5 206,-151.5\"/>\n",
       "<text text-anchor=\"start\" x=\"220\" y=\"-176.75\" font-family=\"Linux libertine\" font-size=\"10.00\">add</text>\n",
       "<text text-anchor=\"start\" x=\"210.62\" y=\"-164\" font-family=\"Linux libertine\" font-size=\"10.00\">depth:4</text>\n",
       "<polygon fill=\"none\" stroke=\"black\" points=\"252,-173.5 252,-195.5 299,-195.5 299,-173.5 252,-173.5\"/>\n",
       "<text text-anchor=\"start\" x=\"261.62\" y=\"-181\" font-family=\"Linux libertine\" font-size=\"10.00\">input:</text>\n",
       "<polygon fill=\"none\" stroke=\"black\" points=\"299,-173.5 299,-195.5 385,-195.5 385,-173.5 299,-173.5\"/>\n",
       "<text text-anchor=\"start\" x=\"303.75\" y=\"-181\" font-family=\"Linux libertine\" font-size=\"10.00\">2 x (1, 37, 256) </text>\n",
       "<polygon fill=\"none\" stroke=\"black\" points=\"252,-151.5 252,-173.5 299,-173.5 299,-151.5 252,-151.5\"/>\n",
       "<text text-anchor=\"start\" x=\"256.75\" y=\"-159\" font-family=\"Linux libertine\" font-size=\"10.00\">output: </text>\n",
       "<polygon fill=\"none\" stroke=\"black\" points=\"299,-151.5 299,-173.5 385,-173.5 385,-151.5 299,-151.5\"/>\n",
       "<text text-anchor=\"start\" x=\"312.75\" y=\"-159\" font-family=\"Linux libertine\" font-size=\"10.00\">(1, 37, 256) </text>\n",
       "</g>\n",
       "<!-- 30&#45;&gt;33 -->\n",
       "<g id=\"edge39\" class=\"edge\">\n",
       "<title>30&#45;&gt;33</title>\n",
       "<path fill=\"none\" stroke=\"black\" d=\"M269.29,-391.51C250.96,-357.1 220.69,-287 242.5,-231.5 246.58,-221.12 253.53,-211.52 261.09,-203.26\"/>\n",
       "<polygon fill=\"black\" stroke=\"black\" points=\"263.23,-206.05 267.75,-196.47 258.24,-201.14 263.23,-206.05\"/>\n",
       "</g>\n",
       "<!-- 32 -->\n",
       "<g id=\"node33\" class=\"node\">\n",
       "<title>32</title>\n",
       "<polygon fill=\"#c1ffc1\" stroke=\"none\" points=\"486,-275.5 251,-275.5 251,-231.5 486,-231.5 486,-275.5\"/>\n",
       "<polygon fill=\"none\" stroke=\"black\" points=\"251,-231.5 251,-275.5 297,-275.5 297,-231.5 251,-231.5\"/>\n",
       "<text text-anchor=\"start\" x=\"260.88\" y=\"-256.75\" font-family=\"Linux libertine\" font-size=\"10.00\">LSTM</text>\n",
       "<text text-anchor=\"start\" x=\"255.62\" y=\"-244\" font-family=\"Linux libertine\" font-size=\"10.00\">depth:4</text>\n",
       "<polygon fill=\"none\" stroke=\"black\" points=\"297,-253.5 297,-275.5 344,-275.5 344,-253.5 297,-253.5\"/>\n",
       "<text text-anchor=\"start\" x=\"306.62\" y=\"-261\" font-family=\"Linux libertine\" font-size=\"10.00\">input:</text>\n",
       "<polygon fill=\"none\" stroke=\"black\" points=\"344,-253.5 344,-275.5 486,-275.5 486,-253.5 344,-253.5\"/>\n",
       "<text text-anchor=\"start\" x=\"385.75\" y=\"-261\" font-family=\"Linux libertine\" font-size=\"10.00\">(1, 37, 256) </text>\n",
       "<polygon fill=\"none\" stroke=\"black\" points=\"297,-231.5 297,-253.5 344,-253.5 344,-231.5 297,-231.5\"/>\n",
       "<text text-anchor=\"start\" x=\"301.75\" y=\"-239\" font-family=\"Linux libertine\" font-size=\"10.00\">output: </text>\n",
       "<polygon fill=\"none\" stroke=\"black\" points=\"344,-231.5 344,-253.5 486,-253.5 486,-231.5 344,-231.5\"/>\n",
       "<text text-anchor=\"start\" x=\"349\" y=\"-239\" font-family=\"Linux libertine\" font-size=\"10.00\">(1, 37, 256), 2 x (1, 1, 256) </text>\n",
       "</g>\n",
       "<!-- 31&#45;&gt;32 -->\n",
       "<g id=\"edge40\" class=\"edge\">\n",
       "<title>31&#45;&gt;32</title>\n",
       "<path fill=\"none\" stroke=\"black\" d=\"M358.25,-311.6C359.65,-303.82 361.27,-294.8 362.8,-286.26\"/>\n",
       "<polygon fill=\"black\" stroke=\"black\" points=\"366.42,-286.92 364.74,-276.46 359.53,-285.68 366.42,-286.92\"/>\n",
       "</g>\n",
       "<!-- 32&#45;&gt;33 -->\n",
       "<g id=\"edge41\" class=\"edge\">\n",
       "<title>32&#45;&gt;33</title>\n",
       "<path fill=\"none\" stroke=\"black\" d=\"M348.94,-231.6C340.84,-222.94 331.31,-212.76 322.55,-203.41\"/>\n",
       "<polygon fill=\"black\" stroke=\"black\" points=\"325.51,-201.37 316.12,-196.46 320.39,-206.15 325.51,-201.37\"/>\n",
       "</g>\n",
       "<!-- 34 -->\n",
       "<g id=\"node35\" class=\"node\">\n",
       "<title>34</title>\n",
       "<polygon fill=\"#c1ffc1\" stroke=\"none\" points=\"382,-115.5 209,-115.5 209,-71.5 382,-71.5 382,-115.5\"/>\n",
       "<polygon fill=\"none\" stroke=\"black\" points=\"209,-71.5 209,-115.5 255,-115.5 255,-71.5 209,-71.5\"/>\n",
       "<text text-anchor=\"start\" x=\"217\" y=\"-96.75\" font-family=\"Linux libertine\" font-size=\"10.00\">Linear</text>\n",
       "<text text-anchor=\"start\" x=\"213.62\" y=\"-84\" font-family=\"Linux libertine\" font-size=\"10.00\">depth:2</text>\n",
       "<polygon fill=\"none\" stroke=\"black\" points=\"255,-93.5 255,-115.5 302,-115.5 302,-93.5 255,-93.5\"/>\n",
       "<text text-anchor=\"start\" x=\"264.62\" y=\"-101\" font-family=\"Linux libertine\" font-size=\"10.00\">input:</text>\n",
       "<polygon fill=\"none\" stroke=\"black\" points=\"302,-93.5 302,-115.5 382,-115.5 382,-93.5 302,-93.5\"/>\n",
       "<text text-anchor=\"start\" x=\"312.75\" y=\"-101\" font-family=\"Linux libertine\" font-size=\"10.00\">(1, 37, 256) </text>\n",
       "<polygon fill=\"none\" stroke=\"black\" points=\"255,-71.5 255,-93.5 302,-93.5 302,-71.5 255,-71.5\"/>\n",
       "<text text-anchor=\"start\" x=\"259.75\" y=\"-79\" font-family=\"Linux libertine\" font-size=\"10.00\">output: </text>\n",
       "<polygon fill=\"none\" stroke=\"black\" points=\"302,-71.5 302,-93.5 382,-93.5 382,-71.5 302,-71.5\"/>\n",
       "<text text-anchor=\"start\" x=\"306.75\" y=\"-79\" font-family=\"Linux libertine\" font-size=\"10.00\">(1, 37, 32286) </text>\n",
       "</g>\n",
       "<!-- 33&#45;&gt;34 -->\n",
       "<g id=\"edge42\" class=\"edge\">\n",
       "<title>33&#45;&gt;34</title>\n",
       "<path fill=\"none\" stroke=\"black\" d=\"M295.5,-151.6C295.5,-143.82 295.5,-134.8 295.5,-126.26\"/>\n",
       "<polygon fill=\"black\" stroke=\"black\" points=\"299,-126.46 295.5,-116.46 292,-126.46 299,-126.46\"/>\n",
       "</g>\n",
       "<!-- 35 -->\n",
       "<g id=\"node36\" class=\"node\">\n",
       "<title>35</title>\n",
       "<polygon fill=\"lightyellow\" stroke=\"none\" points=\"372.25,-35.5 218.75,-35.5 218.75,0 372.25,0 372.25,-35.5\"/>\n",
       "<polygon fill=\"none\" stroke=\"black\" points=\"218.75,0 218.75,-35.5 294.75,-35.5 294.75,0 218.75,0\"/>\n",
       "<text text-anchor=\"start\" x=\"223.75\" y=\"-21\" font-family=\"Linux libertine\" font-size=\"10.00\">output&#45;tensor</text>\n",
       "<text text-anchor=\"start\" x=\"238.38\" y=\"-8.25\" font-family=\"Linux libertine\" font-size=\"10.00\">depth:0</text>\n",
       "<polygon fill=\"none\" stroke=\"black\" points=\"294.75,0 294.75,-35.5 372.25,-35.5 372.25,0 294.75,0\"/>\n",
       "<text text-anchor=\"start\" x=\"299.75\" y=\"-14.62\" font-family=\"Linux libertine\" font-size=\"10.00\">(1, 37, 32286)</text>\n",
       "</g>\n",
       "<!-- 34&#45;&gt;35 -->\n",
       "<g id=\"edge43\" class=\"edge\">\n",
       "<title>34&#45;&gt;35</title>\n",
       "<path fill=\"none\" stroke=\"black\" d=\"M295.5,-71.56C295.5,-63.6 295.5,-54.41 295.5,-45.95\"/>\n",
       "<polygon fill=\"black\" stroke=\"black\" points=\"299,-46.05 295.5,-36.05 292,-46.05 299,-46.05\"/>\n",
       "</g>\n",
       "</g>\n",
       "</svg>\n"
      ],
      "text/plain": [
       "<graphviz.graphs.Digraph at 0x7fcb1cb3f810>"
      ]
     },
     "execution_count": 56,
     "metadata": {},
     "output_type": "execute_result"
    }
   ],
   "source": [
    "model_graph = draw_graph(enc_dec_net,\n",
    "                         input_data=[torch.Tensor(enc_x_train[0:1]).long(),\n",
    "                                     torch.Tensor(dec_x_train[0:1]).long()],\n",
    "                         device=device,\n",
    "                         hide_inner_tensors=True,hide_module_functions=True,\n",
    "                         expand_nested=False, depth=4, dtypes=[torch.long])\n",
    "model_graph.visual_graph"
   ]
  },
  {
   "cell_type": "markdown",
   "id": "3b549a2a-7d26-4c2a-8521-45716f940b5a",
   "metadata": {},
   "source": [
    "### Training Time"
   ]
  },
  {
   "cell_type": "code",
   "execution_count": 57,
   "id": "5e3b01b1-9b11-4630-862a-43e5f540684d",
   "metadata": {},
   "outputs": [
    {
     "name": "stderr",
     "output_type": "stream",
     "text": [
      "/opt/conda/lib/python3.11/site-packages/torch/utils/data/dataloader.py:560: UserWarning: This DataLoader will create 8 worker processes in total. Our suggested max number of worker in current system is 2, which is smaller than what this DataLoader is going to create. Please be aware that excessive worker creation might get DataLoader running slow or even freeze, lower the worker number to avoid potential slowness/freeze if necessary.\n",
      "  warnings.warn(_create_warning_msg(\n"
     ]
    }
   ],
   "source": [
    "batch_size = 128\n",
    "xy_train = torch.utils.data.DataLoader(list(zip(torch.Tensor(enc_x_train).long(),\n",
    "                                                torch.Tensor(dec_x_train).long(),\n",
    "                                                torch.Tensor(dec_y_train).long())),\n",
    "                                       shuffle=True, batch_size=batch_size,\n",
    "                                       num_workers=8)\n",
    "xy_val = torch.utils.data.DataLoader(list(zip(torch.Tensor(enc_x_val).long(),\n",
    "                                              torch.Tensor(dec_x_val).long(),\n",
    "                                              torch.Tensor(dec_y_val).long())),\n",
    "                                     shuffle=False, batch_size=batch_size,\n",
    "                                     num_workers=8)"
   ]
  },
  {
   "cell_type": "code",
   "execution_count": 58,
   "id": "9d35e3a0-21f1-4008-8221-fd728cdbe06d",
   "metadata": {
    "tags": []
   },
   "outputs": [],
   "source": [
    "logger = pl.loggers.CSVLogger(\"lightning_logs\",\n",
    "                              name=\"Demo-Tokenization\",\n",
    "                              version=\"full-data-3\")"
   ]
  },
  {
   "cell_type": "code",
   "execution_count": 59,
   "id": "14ddb546-2b28-45cf-a0dc-9b214bbe48c3",
   "metadata": {
    "tags": []
   },
   "outputs": [
    {
     "name": "stderr",
     "output_type": "stream",
     "text": [
      "GPU available: True (cuda), used: True\n",
      "TPU available: False, using: 0 TPU cores\n",
      "IPU available: False, using: 0 IPUs\n",
      "HPU available: False, using: 0 HPUs\n"
     ]
    }
   ],
   "source": [
    "trainer = pl.Trainer(logger=logger,\n",
    "                     max_epochs=300,\n",
    "                     enable_progress_bar=True,\n",
    "                     log_every_n_steps=0,\n",
    "                     enable_checkpointing=True,\n",
    "                     callbacks=[pl.callbacks.TQDMProgressBar(refresh_rate=50)])"
   ]
  },
  {
   "cell_type": "code",
   "execution_count": 60,
   "id": "71649d49-716b-4294-b667-87d1952ebff3",
   "metadata": {
    "tags": []
   },
   "outputs": [
    {
     "name": "stderr",
     "output_type": "stream",
     "text": [
      "LOCAL_RANK: 0 - CUDA_VISIBLE_DEVICES: [0]\n",
      "SLURM auto-requeueing enabled. Setting signal handlers.\n",
      "/opt/conda/lib/python3.11/site-packages/torch/utils/data/dataloader.py:560: UserWarning: This DataLoader will create 8 worker processes in total. Our suggested max number of worker in current system is 2, which is smaller than what this DataLoader is going to create. Please be aware that excessive worker creation might get DataLoader running slow or even freeze, lower the worker number to avoid potential slowness/freeze if necessary.\n",
      "  warnings.warn(_create_warning_msg(\n"
     ]
    },
    {
     "data": {
      "application/vnd.jupyter.widget-view+json": {
       "model_id": "fe6d9d23045946b7b9e93d915436b6ca",
       "version_major": 2,
       "version_minor": 0
      },
      "text/plain": [
       "Validation: 0it [00:00, ?it/s]"
      ]
     },
     "metadata": {},
     "output_type": "display_data"
    },
    {
     "data": {
      "text/html": [
       "<pre style=\"white-space:pre;overflow-x:auto;line-height:normal;font-family:Menlo,'DejaVu Sans Mono',consolas,'Courier New',monospace\">┏━━━━━━━━━━━━━━━━━━━━━━━━━━━┳━━━━━━━━━━━━━━━━━━━━━━━━━━━┓\n",
       "┃<span style=\"font-weight: bold\">  Runningstage.validating  </span>┃<span style=\"font-weight: bold\">                           </span>┃\n",
       "┃<span style=\"font-weight: bold\">          metric           </span>┃<span style=\"font-weight: bold\">       DataLoader 0        </span>┃\n",
       "┡━━━━━━━━━━━━━━━━━━━━━━━━━━━╇━━━━━━━━━━━━━━━━━━━━━━━━━━━┩\n",
       "│<span style=\"color: #008080; text-decoration-color: #008080\">          val_acc          </span>│<span style=\"color: #800080; text-decoration-color: #800080\">  1.4317351087811403e-05   </span>│\n",
       "│<span style=\"color: #008080; text-decoration-color: #008080\">         val_loss          </span>│<span style=\"color: #800080; text-decoration-color: #800080\">    10.340932846069336     </span>│\n",
       "└───────────────────────────┴───────────────────────────┘\n",
       "</pre>\n"
      ],
      "text/plain": [
       "┏━━━━━━━━━━━━━━━━━━━━━━━━━━━┳━━━━━━━━━━━━━━━━━━━━━━━━━━━┓\n",
       "┃\u001b[1m \u001b[0m\u001b[1m Runningstage.validating \u001b[0m\u001b[1m \u001b[0m┃\u001b[1m                           \u001b[0m┃\n",
       "┃\u001b[1m \u001b[0m\u001b[1m         metric          \u001b[0m\u001b[1m \u001b[0m┃\u001b[1m \u001b[0m\u001b[1m      DataLoader 0       \u001b[0m\u001b[1m \u001b[0m┃\n",
       "┡━━━━━━━━━━━━━━━━━━━━━━━━━━━╇━━━━━━━━━━━━━━━━━━━━━━━━━━━┩\n",
       "│\u001b[36m \u001b[0m\u001b[36m         val_acc         \u001b[0m\u001b[36m \u001b[0m│\u001b[35m \u001b[0m\u001b[35m 1.4317351087811403e-05  \u001b[0m\u001b[35m \u001b[0m│\n",
       "│\u001b[36m \u001b[0m\u001b[36m        val_loss         \u001b[0m\u001b[36m \u001b[0m│\u001b[35m \u001b[0m\u001b[35m   10.340932846069336    \u001b[0m\u001b[35m \u001b[0m│\n",
       "└───────────────────────────┴───────────────────────────┘\n"
      ]
     },
     "metadata": {},
     "output_type": "display_data"
    },
    {
     "data": {
      "text/plain": [
       "[{'val_acc': 1.4317351087811403e-05, 'val_loss': 10.340932846069336}]"
      ]
     },
     "execution_count": 60,
     "metadata": {},
     "output_type": "execute_result"
    }
   ],
   "source": [
    "trainer.validate(enc_dec_net, xy_val)"
   ]
  },
  {
   "cell_type": "code",
   "execution_count": 61,
   "id": "cab37c48-086a-448c-b747-19c20aa8045a",
   "metadata": {},
   "outputs": [
    {
     "name": "stderr",
     "output_type": "stream",
     "text": [
      "LOCAL_RANK: 0 - CUDA_VISIBLE_DEVICES: [0]\n",
      "SLURM auto-requeueing enabled. Setting signal handlers.\n"
     ]
    },
    {
     "data": {
      "application/vnd.jupyter.widget-view+json": {
       "model_id": "f8353c41354a447cb876464db9fde966",
       "version_major": 2,
       "version_minor": 0
      },
      "text/plain": [
       "Testing: 0it [00:00, ?it/s]"
      ]
     },
     "metadata": {},
     "output_type": "display_data"
    },
    {
     "data": {
      "text/html": [
       "<pre style=\"white-space:pre;overflow-x:auto;line-height:normal;font-family:Menlo,'DejaVu Sans Mono',consolas,'Courier New',monospace\">┏━━━━━━━━━━━━━━━━━━━━━━━━━━━┳━━━━━━━━━━━━━━━━━━━━━━━━━━━┓\n",
       "┃<span style=\"font-weight: bold\">   Runningstage.testing    </span>┃<span style=\"font-weight: bold\">                           </span>┃\n",
       "┃<span style=\"font-weight: bold\">          metric           </span>┃<span style=\"font-weight: bold\">       DataLoader 0        </span>┃\n",
       "┡━━━━━━━━━━━━━━━━━━━━━━━━━━━╇━━━━━━━━━━━━━━━━━━━━━━━━━━━┩\n",
       "│<span style=\"color: #008080; text-decoration-color: #008080\">         test_acc          </span>│<span style=\"color: #800080; text-decoration-color: #800080\">  1.7820915672928095e-05   </span>│\n",
       "│<span style=\"color: #008080; text-decoration-color: #008080\">         test_loss         </span>│<span style=\"color: #800080; text-decoration-color: #800080\">    10.481877326965332     </span>│\n",
       "└───────────────────────────┴───────────────────────────┘\n",
       "</pre>\n"
      ],
      "text/plain": [
       "┏━━━━━━━━━━━━━━━━━━━━━━━━━━━┳━━━━━━━━━━━━━━━━━━━━━━━━━━━┓\n",
       "┃\u001b[1m \u001b[0m\u001b[1m  Runningstage.testing   \u001b[0m\u001b[1m \u001b[0m┃\u001b[1m                           \u001b[0m┃\n",
       "┃\u001b[1m \u001b[0m\u001b[1m         metric          \u001b[0m\u001b[1m \u001b[0m┃\u001b[1m \u001b[0m\u001b[1m      DataLoader 0       \u001b[0m\u001b[1m \u001b[0m┃\n",
       "┡━━━━━━━━━━━━━━━━━━━━━━━━━━━╇━━━━━━━━━━━━━━━━━━━━━━━━━━━┩\n",
       "│\u001b[36m \u001b[0m\u001b[36m        test_acc         \u001b[0m\u001b[36m \u001b[0m│\u001b[35m \u001b[0m\u001b[35m 1.7820915672928095e-05  \u001b[0m\u001b[35m \u001b[0m│\n",
       "│\u001b[36m \u001b[0m\u001b[36m        test_loss        \u001b[0m\u001b[36m \u001b[0m│\u001b[35m \u001b[0m\u001b[35m   10.481877326965332    \u001b[0m\u001b[35m \u001b[0m│\n",
       "└───────────────────────────┴───────────────────────────┘\n"
      ]
     },
     "metadata": {},
     "output_type": "display_data"
    },
    {
     "data": {
      "text/plain": [
       "[{'test_acc': 1.7820915672928095e-05, 'test_loss': 10.481877326965332}]"
      ]
     },
     "execution_count": 61,
     "metadata": {},
     "output_type": "execute_result"
    }
   ],
   "source": [
    "trainer.test(enc_dec_net, xy_val)"
   ]
  },
  {
   "cell_type": "code",
   "execution_count": null,
   "id": "1aa41e87-d3f3-4208-bebf-27517f3160c2",
   "metadata": {},
   "outputs": [
    {
     "name": "stderr",
     "output_type": "stream",
     "text": [
      "LOCAL_RANK: 0 - CUDA_VISIBLE_DEVICES: [0]\n",
      "\n",
      "  | Name     | Type               | Params\n",
      "------------------------------------------------\n",
      "0 | mc_acc   | MulticlassAccuracy | 0     \n",
      "1 | cce_loss | CrossEntropyLoss   | 0     \n",
      "2 | enc_net  | EncoderNetwork     | 6.6 M \n",
      "3 | dec_net  | DecoderNetwork     | 18.8 M\n",
      "------------------------------------------------\n",
      "25.4 M    Trainable params\n",
      "0         Non-trainable params\n",
      "25.4 M    Total params\n",
      "101.655   Total estimated model params size (MB)\n",
      "SLURM auto-requeueing enabled. Setting signal handlers.\n"
     ]
    },
    {
     "data": {
      "application/vnd.jupyter.widget-view+json": {
       "model_id": "",
       "version_major": 2,
       "version_minor": 0
      },
      "text/plain": [
       "Sanity Checking: 0it [00:00, ?it/s]"
      ]
     },
     "metadata": {},
     "output_type": "display_data"
    },
    {
     "data": {
      "application/vnd.jupyter.widget-view+json": {
       "model_id": "9e6da245134e45428b42c1d4867b92ee",
       "version_major": 2,
       "version_minor": 0
      },
      "text/plain": [
       "Training: 0it [00:00, ?it/s]"
      ]
     },
     "metadata": {},
     "output_type": "display_data"
    },
    {
     "data": {
      "application/vnd.jupyter.widget-view+json": {
       "model_id": "",
       "version_major": 2,
       "version_minor": 0
      },
      "text/plain": [
       "Validation: 0it [00:00, ?it/s]"
      ]
     },
     "metadata": {},
     "output_type": "display_data"
    },
    {
     "data": {
      "application/vnd.jupyter.widget-view+json": {
       "model_id": "",
       "version_major": 2,
       "version_minor": 0
      },
      "text/plain": [
       "Validation: 0it [00:00, ?it/s]"
      ]
     },
     "metadata": {},
     "output_type": "display_data"
    },
    {
     "data": {
      "application/vnd.jupyter.widget-view+json": {
       "model_id": "",
       "version_major": 2,
       "version_minor": 0
      },
      "text/plain": [
       "Validation: 0it [00:00, ?it/s]"
      ]
     },
     "metadata": {},
     "output_type": "display_data"
    },
    {
     "data": {
      "application/vnd.jupyter.widget-view+json": {
       "model_id": "c185b435d02840b0a415c96a4e0f6a98",
       "version_major": 2,
       "version_minor": 0
      },
      "text/plain": [
       "Validation: 0it [00:00, ?it/s]"
      ]
     },
     "metadata": {},
     "output_type": "display_data"
    }
   ],
   "source": [
    "trainer.fit(enc_dec_net, xy_train, xy_val)"
   ]
  },
  {
   "cell_type": "code",
   "execution_count": 64,
   "id": "dc96fce9-0a6a-47c8-9bb9-383e246f57b2",
   "metadata": {},
   "outputs": [
    {
     "data": {
      "text/html": [
       "<div>\n",
       "<style scoped>\n",
       "    .dataframe tbody tr th:only-of-type {\n",
       "        vertical-align: middle;\n",
       "    }\n",
       "\n",
       "    .dataframe tbody tr th {\n",
       "        vertical-align: top;\n",
       "    }\n",
       "\n",
       "    .dataframe thead th {\n",
       "        text-align: right;\n",
       "    }\n",
       "</style>\n",
       "<table border=\"1\" class=\"dataframe\">\n",
       "  <thead>\n",
       "    <tr style=\"text-align: right;\">\n",
       "      <th></th>\n",
       "      <th>val_acc</th>\n",
       "      <th>val_loss</th>\n",
       "      <th>epoch</th>\n",
       "      <th>step</th>\n",
       "      <th>test_acc</th>\n",
       "      <th>test_loss</th>\n",
       "      <th>train_acc</th>\n",
       "      <th>train_loss</th>\n",
       "    </tr>\n",
       "  </thead>\n",
       "  <tbody>\n",
       "    <tr>\n",
       "      <th>0</th>\n",
       "      <td>0.001160</td>\n",
       "      <td>7.254284</td>\n",
       "      <td>0</td>\n",
       "      <td>0</td>\n",
       "      <td>NaN</td>\n",
       "      <td>NaN</td>\n",
       "      <td>NaN</td>\n",
       "      <td>NaN</td>\n",
       "    </tr>\n",
       "    <tr>\n",
       "      <th>1</th>\n",
       "      <td>NaN</td>\n",
       "      <td>NaN</td>\n",
       "      <td>0</td>\n",
       "      <td>0</td>\n",
       "      <td>0.0</td>\n",
       "      <td>7.287779</td>\n",
       "      <td>NaN</td>\n",
       "      <td>NaN</td>\n",
       "    </tr>\n",
       "    <tr>\n",
       "      <th>2</th>\n",
       "      <td>0.235678</td>\n",
       "      <td>4.870842</td>\n",
       "      <td>0</td>\n",
       "      <td>7</td>\n",
       "      <td>NaN</td>\n",
       "      <td>NaN</td>\n",
       "      <td>NaN</td>\n",
       "      <td>NaN</td>\n",
       "    </tr>\n",
       "    <tr>\n",
       "      <th>3</th>\n",
       "      <td>NaN</td>\n",
       "      <td>NaN</td>\n",
       "      <td>0</td>\n",
       "      <td>7</td>\n",
       "      <td>NaN</td>\n",
       "      <td>NaN</td>\n",
       "      <td>0.201624</td>\n",
       "      <td>6.060038</td>\n",
       "    </tr>\n",
       "    <tr>\n",
       "      <th>4</th>\n",
       "      <td>0.379903</td>\n",
       "      <td>4.203480</td>\n",
       "      <td>1</td>\n",
       "      <td>15</td>\n",
       "      <td>NaN</td>\n",
       "      <td>NaN</td>\n",
       "      <td>NaN</td>\n",
       "      <td>NaN</td>\n",
       "    </tr>\n",
       "    <tr>\n",
       "      <th>...</th>\n",
       "      <td>...</td>\n",
       "      <td>...</td>\n",
       "      <td>...</td>\n",
       "      <td>...</td>\n",
       "      <td>...</td>\n",
       "      <td>...</td>\n",
       "      <td>...</td>\n",
       "      <td>...</td>\n",
       "    </tr>\n",
       "    <tr>\n",
       "      <th>75</th>\n",
       "      <td>NaN</td>\n",
       "      <td>NaN</td>\n",
       "      <td>36</td>\n",
       "      <td>295</td>\n",
       "      <td>NaN</td>\n",
       "      <td>NaN</td>\n",
       "      <td>0.588796</td>\n",
       "      <td>1.923134</td>\n",
       "    </tr>\n",
       "    <tr>\n",
       "      <th>76</th>\n",
       "      <td>0.486412</td>\n",
       "      <td>3.857674</td>\n",
       "      <td>37</td>\n",
       "      <td>303</td>\n",
       "      <td>NaN</td>\n",
       "      <td>NaN</td>\n",
       "      <td>NaN</td>\n",
       "      <td>NaN</td>\n",
       "    </tr>\n",
       "    <tr>\n",
       "      <th>77</th>\n",
       "      <td>NaN</td>\n",
       "      <td>NaN</td>\n",
       "      <td>37</td>\n",
       "      <td>303</td>\n",
       "      <td>NaN</td>\n",
       "      <td>NaN</td>\n",
       "      <td>0.596359</td>\n",
       "      <td>1.902793</td>\n",
       "    </tr>\n",
       "    <tr>\n",
       "      <th>78</th>\n",
       "      <td>0.474687</td>\n",
       "      <td>3.862310</td>\n",
       "      <td>38</td>\n",
       "      <td>311</td>\n",
       "      <td>NaN</td>\n",
       "      <td>NaN</td>\n",
       "      <td>NaN</td>\n",
       "      <td>NaN</td>\n",
       "    </tr>\n",
       "    <tr>\n",
       "      <th>79</th>\n",
       "      <td>NaN</td>\n",
       "      <td>NaN</td>\n",
       "      <td>38</td>\n",
       "      <td>311</td>\n",
       "      <td>NaN</td>\n",
       "      <td>NaN</td>\n",
       "      <td>0.597301</td>\n",
       "      <td>1.897254</td>\n",
       "    </tr>\n",
       "  </tbody>\n",
       "</table>\n",
       "<p>80 rows × 8 columns</p>\n",
       "</div>"
      ],
      "text/plain": [
       "     val_acc  val_loss  epoch  step  test_acc  test_loss  train_acc  \\\n",
       "0   0.001160  7.254284      0     0       NaN        NaN        NaN   \n",
       "1        NaN       NaN      0     0       0.0   7.287779        NaN   \n",
       "2   0.235678  4.870842      0     7       NaN        NaN        NaN   \n",
       "3        NaN       NaN      0     7       NaN        NaN   0.201624   \n",
       "4   0.379903  4.203480      1    15       NaN        NaN        NaN   \n",
       "..       ...       ...    ...   ...       ...        ...        ...   \n",
       "75       NaN       NaN     36   295       NaN        NaN   0.588796   \n",
       "76  0.486412  3.857674     37   303       NaN        NaN        NaN   \n",
       "77       NaN       NaN     37   303       NaN        NaN   0.596359   \n",
       "78  0.474687  3.862310     38   311       NaN        NaN        NaN   \n",
       "79       NaN       NaN     38   311       NaN        NaN   0.597301   \n",
       "\n",
       "    train_loss  \n",
       "0          NaN  \n",
       "1          NaN  \n",
       "2          NaN  \n",
       "3     6.060038  \n",
       "4          NaN  \n",
       "..         ...  \n",
       "75    1.923134  \n",
       "76         NaN  \n",
       "77    1.902793  \n",
       "78         NaN  \n",
       "79    1.897254  \n",
       "\n",
       "[80 rows x 8 columns]"
      ]
     },
     "execution_count": 64,
     "metadata": {},
     "output_type": "execute_result"
    }
   ],
   "source": [
    "results = pd.read_csv(logger.log_dir+\"/metrics.csv\")\n",
    "results"
   ]
  },
  {
   "cell_type": "code",
   "execution_count": 65,
   "id": "bc20b5a9-e5d4-44c2-a372-549aa614d75d",
   "metadata": {
    "tags": []
   },
   "outputs": [
    {
     "data": {
      "image/png": "[encoded data removed]",
      "text/plain": [
       "<Figure size 640x480 with 1 Axes>"
      ]
     },
     "metadata": {},
     "output_type": "display_data"
    }
   ],
   "source": [
    "plt.plot(results[\"epoch\"][np.logical_not(np.isnan(results[\"train_loss\"]))],\n",
    "         results[\"train_loss\"][np.logical_not(np.isnan(results[\"train_loss\"]))],\n",
    "         label=\"Training\")\n",
    "plt.plot(results[\"epoch\"][np.logical_not(np.isnan(results[\"val_loss\"]))],\n",
    "         results[\"val_loss\"][np.logical_not(np.isnan(results[\"val_loss\"]))],\n",
    "         label=\"Validation\")\n",
    "plt.legend()\n",
    "plt.ylabel(\"CCE Loss\")\n",
    "plt.xlabel(\"Epoch\")\n",
    "plt.show()"
   ]
  },
  {
   "cell_type": "code",
   "execution_count": 66,
   "id": "0d6ee3cf-0b25-47ae-b890-c573837d0c93",
   "metadata": {
    "scrolled": true,
    "tags": []
   },
   "outputs": [
    {
     "data": {
      "image/png": "[encoded data removed]",
      "text/plain": [
       "<Figure size 640x480 with 1 Axes>"
      ]
     },
     "metadata": {},
     "output_type": "display_data"
    }
   ],
   "source": [
    "plt.plot(results[\"epoch\"][np.logical_not(np.isnan(results[\"train_acc\"]))],\n",
    "         results[\"train_acc\"][np.logical_not(np.isnan(results[\"train_acc\"]))],\n",
    "         label=\"Training\")\n",
    "plt.plot(results[\"epoch\"][np.logical_not(np.isnan(results[\"val_acc\"]))],\n",
    "         results[\"val_acc\"][np.logical_not(np.isnan(results[\"val_acc\"]))],\n",
    "         label=\"Validation\")\n",
    "plt.legend()\n",
    "plt.ylabel(\"Accuracy\")\n",
    "plt.xlabel(\"Epoch\")\n",
    "plt.show()"
   ]
  },
  {
   "cell_type": "markdown",
   "id": "7ab8ebf2-ffdf-4a24-bdc3-099417b25d9f",
   "metadata": {},
   "source": [
    "# Direct Validation of Results"
   ]
  },
  {
   "cell_type": "markdown",
   "id": "ed3fe6e6-14a6-4068-8a5b-8f4a22243eb8",
   "metadata": {},
   "source": [
    "### Teacher Forcing"
   ]
  },
  {
   "cell_type": "code",
   "execution_count": 67,
   "id": "f995399d-1d66-44a8-a276-bd12c18159fd",
   "metadata": {},
   "outputs": [
    {
     "name": "stdout",
     "output_type": "stream",
     "text": [
      "Input: [  1  92 125   3   2   0   0   0   0   0   0   0   0   0   0   0   0   0\n",
      "   0   0   0   0   0   0   0   0   0   0   0   0]\n",
      "Output: [233   6   2   0   0   0   0   0   0   0   0   0   0   0   0   0   0   0\n",
      "   0   0   0   0   0   0   0   0   0   0   0]\n"
     ]
    }
   ],
   "source": [
    "# What should we see?\n",
    "i = 0\n",
    "print('Input:', enc_x_val[i])\n",
    "print('Output:', dec_y_val[i])"
   ]
  },
  {
   "cell_type": "code",
   "execution_count": 69,
   "id": "0f6e3c0c-91ea-48dd-ab24-1baefed3af41",
   "metadata": {},
   "outputs": [
    {
     "name": "stdout",
     "output_type": "stream",
     "text": [
      "Input: Get out !\n",
      "Output: Sai .\n"
     ]
    }
   ],
   "source": [
    "print('Input:', decode_seq(enc_x_val[i],eng_tokenizer))\n",
    "print('Output:', decode_seq(dec_y_val[i],por_tokenizer))"
   ]
  },
  {
   "cell_type": "code",
   "execution_count": 70,
   "id": "88ed5669-d391-449a-b399-6c1efb2c4e5f",
   "metadata": {},
   "outputs": [
    {
     "data": {
      "text/plain": [
       "array([74,  6,  2,  2,  2,  2,  2,  2,  2,  2,  2,  2,  2,  2,  2,  2,  2,\n",
       "        2,  2,  2,  2,  2,  2,  2,  2,  2,  2,  2,  2])"
      ]
     },
     "execution_count": 70,
     "metadata": {},
     "output_type": "execute_result"
    }
   ],
   "source": [
    "result = enc_dec_net(torch.Tensor(enc_x_val[i:i+1]).long(),\n",
    "                     torch.Tensor(dec_x_val[i:i+1]).long()).cpu().detach().numpy()\n",
    "result.argmax(-1)[0]"
   ]
  },
  {
   "cell_type": "code",
   "execution_count": 71,
   "id": "98030d2b-cfb3-458e-b5ae-75705388661b",
   "metadata": {},
   "outputs": [],
   "source": [
    "# Only if the above fails due to device management reasons...\n",
    "# result = enc_dec_net(torch.Tensor(enc_x_val[i:i+1]).long().to(device),\n",
    "#                      torch.Tensor(dec_x_val[i:i+1]).long().to(device)).cpu().detach().numpy()\n",
    "# result.argmax(-1)[0]"
   ]
  },
  {
   "cell_type": "code",
   "execution_count": 72,
   "id": "f8a8b82d-688b-4394-9e90-79de4fef6a22",
   "metadata": {},
   "outputs": [
    {
     "data": {
      "text/plain": [
       "'Eu .'"
      ]
     },
     "execution_count": 72,
     "metadata": {},
     "output_type": "execute_result"
    }
   ],
   "source": [
    "decode_seq(result.argmax(-1)[0],por_tokenizer)"
   ]
  },
  {
   "cell_type": "code",
   "execution_count": 73,
   "id": "670fefad-fdf4-48ee-87fa-f754c099ada3",
   "metadata": {
    "scrolled": true,
    "tags": []
   },
   "outputs": [
    {
     "name": "stderr",
     "output_type": "stream",
     "text": [
      "LOCAL_RANK: 0 - CUDA_VISIBLE_DEVICES: [0]\n",
      "SLURM auto-requeueing enabled. Setting signal handlers.\n",
      "/opt/conda/lib/python3.11/site-packages/torch/utils/data/dataloader.py:560: UserWarning: This DataLoader will create 8 worker processes in total. Our suggested max number of worker in current system is 2, which is smaller than what this DataLoader is going to create. Please be aware that excessive worker creation might get DataLoader running slow or even freeze, lower the worker number to avoid potential slowness/freeze if necessary.\n",
      "  warnings.warn(_create_warning_msg(\n"
     ]
    },
    {
     "data": {
      "application/vnd.jupyter.widget-view+json": {
       "model_id": "f43abdddd26a46629f1a2da46ffb8147",
       "version_major": 2,
       "version_minor": 0
      },
      "text/plain": [
       "Validation: 0it [00:00, ?it/s]"
      ]
     },
     "metadata": {},
     "output_type": "display_data"
    },
    {
     "data": {
      "text/html": [
       "<pre style=\"white-space:pre;overflow-x:auto;line-height:normal;font-family:Menlo,'DejaVu Sans Mono',consolas,'Courier New',monospace\">┏━━━━━━━━━━━━━━━━━━━━━━━━━━━┳━━━━━━━━━━━━━━━━━━━━━━━━━━━┓\n",
       "┃<span style=\"font-weight: bold\">  Runningstage.validating  </span>┃<span style=\"font-weight: bold\">                           </span>┃\n",
       "┃<span style=\"font-weight: bold\">          metric           </span>┃<span style=\"font-weight: bold\">       DataLoader 0        </span>┃\n",
       "┡━━━━━━━━━━━━━━━━━━━━━━━━━━━╇━━━━━━━━━━━━━━━━━━━━━━━━━━━┩\n",
       "│<span style=\"color: #008080; text-decoration-color: #008080\">          val_acc          </span>│<span style=\"color: #800080; text-decoration-color: #800080\">    0.4746868908405304     </span>│\n",
       "│<span style=\"color: #008080; text-decoration-color: #008080\">         val_loss          </span>│<span style=\"color: #800080; text-decoration-color: #800080\">    3.8623108863830566     </span>│\n",
       "└───────────────────────────┴───────────────────────────┘\n",
       "</pre>\n"
      ],
      "text/plain": [
       "┏━━━━━━━━━━━━━━━━━━━━━━━━━━━┳━━━━━━━━━━━━━━━━━━━━━━━━━━━┓\n",
       "┃\u001b[1m \u001b[0m\u001b[1m Runningstage.validating \u001b[0m\u001b[1m \u001b[0m┃\u001b[1m                           \u001b[0m┃\n",
       "┃\u001b[1m \u001b[0m\u001b[1m         metric          \u001b[0m\u001b[1m \u001b[0m┃\u001b[1m \u001b[0m\u001b[1m      DataLoader 0       \u001b[0m\u001b[1m \u001b[0m┃\n",
       "┡━━━━━━━━━━━━━━━━━━━━━━━━━━━╇━━━━━━━━━━━━━━━━━━━━━━━━━━━┩\n",
       "│\u001b[36m \u001b[0m\u001b[36m         val_acc         \u001b[0m\u001b[36m \u001b[0m│\u001b[35m \u001b[0m\u001b[35m   0.4746868908405304    \u001b[0m\u001b[35m \u001b[0m│\n",
       "│\u001b[36m \u001b[0m\u001b[36m        val_loss         \u001b[0m\u001b[36m \u001b[0m│\u001b[35m \u001b[0m\u001b[35m   3.8623108863830566    \u001b[0m\u001b[35m \u001b[0m│\n",
       "└───────────────────────────┴───────────────────────────┘\n"
      ]
     },
     "metadata": {},
     "output_type": "display_data"
    },
    {
     "data": {
      "text/plain": [
       "[{'val_acc': 0.4746868908405304, 'val_loss': 3.8623108863830566}]"
      ]
     },
     "execution_count": 73,
     "metadata": {},
     "output_type": "execute_result"
    }
   ],
   "source": [
    "trainer.validate(enc_dec_net, xy_val)"
   ]
  },
  {
   "cell_type": "markdown",
   "id": "42d0af97-5921-4c98-8bf0-470998273e92",
   "metadata": {},
   "source": [
    "### Non-Teacher Forcing"
   ]
  },
  {
   "cell_type": "code",
   "execution_count": 74,
   "id": "1b89db96-c579-4129-87bd-5cca2b727b45",
   "metadata": {},
   "outputs": [
    {
     "data": {
      "text/plain": [
       "tensor([[1, 0, 0, 0, 0, 0, 0, 0, 0, 0, 0, 0, 0, 0, 0, 0, 0, 0, 0, 0, 0, 0, 0, 0,\n",
       "         0, 0, 0, 0, 0]])"
      ]
     },
     "execution_count": 74,
     "metadata": {},
     "output_type": "execute_result"
    }
   ],
   "source": [
    "# Get the gestalt context for the input sequence(s)\n",
    "context = enc_dec_net.enc_net(torch.Tensor(enc_x_val[i:i+1]).long())\n",
    "\n",
    "# Prep a starting token...\n",
    "token = torch.zeros((1,dec_y_val.shape[1])).long()\n",
    "token[0,0] = 1\n",
    "token"
   ]
  },
  {
   "cell_type": "code",
   "execution_count": 75,
   "id": "333e8c1c-c160-4dd8-9252-5930b67d4e5f",
   "metadata": {},
   "outputs": [
    {
     "data": {
      "text/plain": [
       "array([74,  5,  6,  2,  2,  2,  2,  2,  2,  2,  2,  2,  2,  2,  2,  2,  2,\n",
       "        2,  2,  2,  2,  2,  2,  2,  2,  2,  2,  2,  2])"
      ]
     },
     "execution_count": 75,
     "metadata": {},
     "output_type": "execute_result"
    }
   ],
   "source": [
    "# What do we get with just one pass?\n",
    "result = enc_dec_net.dec_net(context,token)\n",
    "result.cpu().detach().numpy().argmax(-1)[0]"
   ]
  },
  {
   "cell_type": "code",
   "execution_count": 76,
   "id": "6838c5a4-24fe-4d10-a6ae-feb21c13a04e",
   "metadata": {},
   "outputs": [
    {
     "data": {
      "text/plain": [
       "'Eu - .'"
      ]
     },
     "execution_count": 76,
     "metadata": {},
     "output_type": "execute_result"
    }
   ],
   "source": [
    "decode_seq(result.cpu().detach().numpy().argmax(-1)[0],por_tokenizer)"
   ]
  },
  {
   "cell_type": "code",
   "execution_count": 77,
   "id": "87baaee0-1b34-4be9-9937-f1deeab9e09f",
   "metadata": {},
   "outputs": [
    {
     "data": {
      "text/plain": [
       "tensor([[ 1, 74,  0,  0,  0,  0,  0,  0,  0,  0,  0,  0,  0,  0,  0,  0,  0,  0,\n",
       "          0,  0,  0,  0,  0,  0,  0,  0,  0,  0,  0]])"
      ]
     },
     "execution_count": 77,
     "metadata": {},
     "output_type": "execute_result"
    }
   ],
   "source": [
    "token[0,1] = result[0,0].argmax(-1)\n",
    "token"
   ]
  },
  {
   "cell_type": "code",
   "execution_count": 78,
   "id": "d2e3f688-c74e-4508-8b71-d74858017e04",
   "metadata": {},
   "outputs": [
    {
     "data": {
      "text/plain": [
       "array([ 74, 105,   6,   2,   2,   2,   2,   2,   2,   2,   2,   2,   2,\n",
       "         2,   2,   2,   2,   2,   2,   2,   2,   2,   2,   2,   2,   2,\n",
       "         2,   2,   2])"
      ]
     },
     "execution_count": 78,
     "metadata": {},
     "output_type": "execute_result"
    }
   ],
   "source": [
    "# Feed next token in...\n",
    "result = enc_dec_net.dec_net(context,token)\n",
    "result.cpu().detach().numpy().argmax(-1)[0]"
   ]
  },
  {
   "cell_type": "code",
   "execution_count": 79,
   "id": "9ed9ecdb-db8f-467c-92d6-af438583aef4",
   "metadata": {},
   "outputs": [
    {
     "data": {
      "text/plain": [
       "'Eu sou .'"
      ]
     },
     "execution_count": 79,
     "metadata": {},
     "output_type": "execute_result"
    }
   ],
   "source": [
    "decode_seq(result.cpu().detach().numpy().argmax(-1)[0],por_tokenizer)"
   ]
  },
  {
   "cell_type": "markdown",
   "id": "1c3795d8-c3c3-4d49-afc3-3ce7c3e87859",
   "metadata": {},
   "source": [
    "### Complete Sequence with Non-Teacher Forcing"
   ]
  },
  {
   "cell_type": "code",
   "execution_count": 80,
   "id": "5f0fbc7f-e049-4bea-aaa9-8d53b80cf068",
   "metadata": {},
   "outputs": [
    {
     "data": {
      "text/plain": [
       "array([ 74, 105, 782,   6,   2,   2,   2,   2,   2,   2,   2,   2,   2,\n",
       "         2,   2,   2,   2,   2,   2,   2,   2,   2,   2,   2,   2,   2,\n",
       "         2,   2,   2])"
      ]
     },
     "execution_count": 80,
     "metadata": {},
     "output_type": "execute_result"
    }
   ],
   "source": [
    "# Complete max_length cycles with the decoder\n",
    "context = enc_dec_net.enc_net(torch.Tensor(enc_x_val[i:i+1]).long())\n",
    "token = torch.zeros((1,dec_y_val.shape[1])).long()\n",
    "token[0,0] = 1\n",
    "\n",
    "for x in range(dec_y_val.shape[1]-1):\n",
    "    result = enc_dec_net.dec_net(context,token).argmax(-1)\n",
    "    if result[0,x] == 2:\n",
    "        break\n",
    "    token[0,x+1] = result[0,x]\n",
    "result = enc_dec_net.dec_net(context,token).argmax(-1).cpu().detach().numpy()[0]\n",
    "result"
   ]
  },
  {
   "cell_type": "code",
   "execution_count": 82,
   "id": "778a71e6-1e33-4530-8fa2-f10431ae671a",
   "metadata": {},
   "outputs": [
    {
     "data": {
      "text/plain": [
       "'Eu sou tímido .'"
      ]
     },
     "execution_count": 82,
     "metadata": {},
     "output_type": "execute_result"
    }
   ],
   "source": [
    "decode_seq(result,por_tokenizer)"
   ]
  },
  {
   "cell_type": "code",
   "execution_count": 83,
   "id": "6da6a771-c86d-495f-bf72-a6c1fda044e7",
   "metadata": {},
   "outputs": [
    {
     "data": {
      "image/png": "[encoded data removed]",
      "text/latex": [
       "$\\displaystyle \\left( 29,\\right)$"
      ],
      "text/plain": [
       "(29,)"
      ]
     },
     "execution_count": 83,
     "metadata": {},
     "output_type": "execute_result"
    }
   ],
   "source": [
    "result.shape"
   ]
  },
  {
   "cell_type": "code",
   "execution_count": 84,
   "id": "70750187-0609-44fe-8a29-5dcee81f2533",
   "metadata": {},
   "outputs": [
    {
     "data": {
      "image/png": "[encoded data removed]",
      "text/latex": [
       "$\\displaystyle \\left( 200, \\  29\\right)$"
      ],
      "text/plain": [
       "(200, 29)"
      ]
     },
     "execution_count": 84,
     "metadata": {},
     "output_type": "execute_result"
    }
   ],
   "source": [
    "dec_y_val.shape"
   ]
  },
  {
   "cell_type": "markdown",
   "id": "e0a0b58a-afd1-4b69-95f0-de7c343a0db3",
   "metadata": {},
   "source": [
    "Accuracy **without** teacher forcing..."
   ]
  },
  {
   "cell_type": "code",
   "execution_count": 85,
   "id": "a8075462-e95b-4ef4-8fbf-ca14356fb4a4",
   "metadata": {
    "scrolled": true
   },
   "outputs": [
    {
     "name": "stderr",
     "output_type": "stream",
     "text": [
      "LOCAL_RANK: 0 - CUDA_VISIBLE_DEVICES: [0]\n",
      "SLURM auto-requeueing enabled. Setting signal handlers.\n",
      "/opt/conda/lib/python3.11/site-packages/torch/utils/data/dataloader.py:560: UserWarning: This DataLoader will create 8 worker processes in total. Our suggested max number of worker in current system is 2, which is smaller than what this DataLoader is going to create. Please be aware that excessive worker creation might get DataLoader running slow or even freeze, lower the worker number to avoid potential slowness/freeze if necessary.\n",
      "  warnings.warn(_create_warning_msg(\n"
     ]
    },
    {
     "data": {
      "application/vnd.jupyter.widget-view+json": {
       "model_id": "6e75639c1d7d4ed9b05478b06e15149c",
       "version_major": 2,
       "version_minor": 0
      },
      "text/plain": [
       "Testing: 0it [00:00, ?it/s]"
      ]
     },
     "metadata": {},
     "output_type": "display_data"
    },
    {
     "data": {
      "text/html": [
       "<pre style=\"white-space:pre;overflow-x:auto;line-height:normal;font-family:Menlo,'DejaVu Sans Mono',consolas,'Courier New',monospace\">┏━━━━━━━━━━━━━━━━━━━━━━━━━━━┳━━━━━━━━━━━━━━━━━━━━━━━━━━━┓\n",
       "┃<span style=\"font-weight: bold\">   Runningstage.testing    </span>┃<span style=\"font-weight: bold\">                           </span>┃\n",
       "┃<span style=\"font-weight: bold\">          metric           </span>┃<span style=\"font-weight: bold\">       DataLoader 0        </span>┃\n",
       "┡━━━━━━━━━━━━━━━━━━━━━━━━━━━╇━━━━━━━━━━━━━━━━━━━━━━━━━━━┩\n",
       "│<span style=\"color: #008080; text-decoration-color: #008080\">         test_acc          </span>│<span style=\"color: #800080; text-decoration-color: #800080\">    0.19919508695602417    </span>│\n",
       "│<span style=\"color: #008080; text-decoration-color: #008080\">         test_loss         </span>│<span style=\"color: #800080; text-decoration-color: #800080\">     7.28166389465332      </span>│\n",
       "└───────────────────────────┴───────────────────────────┘\n",
       "</pre>\n"
      ],
      "text/plain": [
       "┏━━━━━━━━━━━━━━━━━━━━━━━━━━━┳━━━━━━━━━━━━━━━━━━━━━━━━━━━┓\n",
       "┃\u001b[1m \u001b[0m\u001b[1m  Runningstage.testing   \u001b[0m\u001b[1m \u001b[0m┃\u001b[1m                           \u001b[0m┃\n",
       "┃\u001b[1m \u001b[0m\u001b[1m         metric          \u001b[0m\u001b[1m \u001b[0m┃\u001b[1m \u001b[0m\u001b[1m      DataLoader 0       \u001b[0m\u001b[1m \u001b[0m┃\n",
       "┡━━━━━━━━━━━━━━━━━━━━━━━━━━━╇━━━━━━━━━━━━━━━━━━━━━━━━━━━┩\n",
       "│\u001b[36m \u001b[0m\u001b[36m        test_acc         \u001b[0m\u001b[36m \u001b[0m│\u001b[35m \u001b[0m\u001b[35m   0.19919508695602417   \u001b[0m\u001b[35m \u001b[0m│\n",
       "│\u001b[36m \u001b[0m\u001b[36m        test_loss        \u001b[0m\u001b[36m \u001b[0m│\u001b[35m \u001b[0m\u001b[35m    7.28166389465332     \u001b[0m\u001b[35m \u001b[0m│\n",
       "└───────────────────────────┴───────────────────────────┘\n"
      ]
     },
     "metadata": {},
     "output_type": "display_data"
    },
    {
     "data": {
      "text/plain": [
       "[{'test_acc': 0.19919508695602417, 'test_loss': 7.28166389465332}]"
      ]
     },
     "execution_count": 85,
     "metadata": {},
     "output_type": "execute_result"
    }
   ],
   "source": [
    "trainer.test(enc_dec_net, xy_val)"
   ]
  },
  {
   "cell_type": "code",
   "execution_count": null,
   "id": "914ef431-f94e-42a4-9bef-36844e3cae09",
   "metadata": {},
   "outputs": [],
   "source": []
  }
 ],
 "metadata": {
  "kernelspec": {
   "display_name": "Python 3 (ipykernel)",
   "language": "python",
   "name": "python3"
  },
  "language_info": {
   "codemirror_mode": {
    "name": "ipython",
    "version": 3
   },
   "file_extension": ".py",
   "mimetype": "text/x-python",
   "name": "python",
   "nbconvert_exporter": "python",
   "pygments_lexer": "ipython3",
   "version": "3.11.5"
  }
 },
 "nbformat": 4,
 "nbformat_minor": 5
}
