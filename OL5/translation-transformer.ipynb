{
 "cells": [
  {
   "cell_type": "code",
   "execution_count": 1,
   "id": "6cc7872d-3493-4458-816f-4dbe46ea817f",
   "metadata": {},
   "outputs": [],
   "source": [
    "import numpy as np\n",
    "import torch\n",
    "import lightning.pytorch as pl\n",
    "import torchmetrics\n",
    "import torchvision\n",
    "from torchinfo import summary\n",
    "from torchview import draw_graph\n",
    "from IPython.display import display\n",
    "import sympy as sp\n",
    "sp.init_printing(use_latex=True)\n",
    "\n",
    "import pandas as pd\n",
    "import matplotlib.pyplot as plt\n",
    "\n",
    "import urllib"
   ]
  },
  {
   "cell_type": "code",
   "execution_count": 2,
   "id": "efe22e7e-78d9-40e6-aeca-95f26d850b3c",
   "metadata": {},
   "outputs": [
    {
     "name": "stdout",
     "output_type": "stream",
     "text": [
      "NVIDIA GeForce RTX 2080 Ti\n",
      "_CudaDeviceProperties(name='NVIDIA GeForce RTX 2080 Ti', major=7, minor=5, total_memory=11011MB, multi_processor_count=68)\n",
      "Number of devices: 1\n"
     ]
    }
   ],
   "source": [
    "if torch.cuda.is_available():\n",
    "    print(torch.cuda.get_device_name())\n",
    "    print(torch.cuda.get_device_properties(\"cuda\"))\n",
    "    print(\"Number of devices:\",torch.cuda.device_count())\n",
    "    device = (\"cuda\")\n",
    "else:\n",
    "    print(\"Only CPU is available...\")\n",
    "    device = (\"cpu\")"
   ]
  },
  {
   "cell_type": "code",
   "execution_count": 3,
   "id": "c0701c2e-600e-4eb1-bbd3-0c61af44e6f9",
   "metadata": {},
   "outputs": [
    {
     "data": {
      "image/png": "[encoded data removed]",
      "text/latex": [
       "$\\displaystyle \\left( 170304, \\  2\\right)$"
      ],
      "text/plain": [
       "(170304, 2)"
      ]
     },
     "execution_count": 3,
     "metadata": {},
     "output_type": "execute_result"
    }
   ],
   "source": [
    "# Setup URL to Data File\n",
    "url = \"https://raw.githubusercontent.com/luisroque/deep-learning-articles/main/data/eng-por.txt\"\n",
    "\n",
    "data = []\n",
    "with urllib.request.urlopen(url) as raw_data:\n",
    "    for line in raw_data:\n",
    "        data.append(line.decode(\"utf-8\").split('\\t')[0:2])\n",
    "data = np.array(data)\n",
    "\n",
    "data.shape"
   ]
  },
  {
   "cell_type": "code",
   "execution_count": 4,
   "id": "535e01de-abee-4a33-980c-c581e184d45e",
   "metadata": {},
   "outputs": [
    {
     "name": "stdout",
     "output_type": "stream",
     "text": [
      "max_length = $45\n",
      "data[0] => $['My eyes hurt.' 'Meus olhos doem.']\n"
     ]
    }
   ],
   "source": [
    "# Subset? - All of the data will take some time...\n",
    "n_seq = data.shape[0]\n",
    "n_seq = 10000\n",
    "data = data[0:n_seq]\n",
    "split_point = int(data.shape[0] * 0.8) # Keep 80/20 split\n",
    "np.random.shuffle(data) # In-place modification\n",
    "max_length = np.max([len(i) for i in data.flatten()]) + 2 # Add start/stop\n",
    "\n",
    "print(f\"max_length = ${max_length}\")\n",
    "print(f\"data[0] => ${data[0]}\")"
   ]
  },
  {
   "cell_type": "code",
   "execution_count": 5,
   "id": "4a5c6fd6-7eea-453c-957e-fc86da22f47c",
   "metadata": {},
   "outputs": [],
   "source": [
    "# Setup\n",
    "i_to_c_eng = ['','<START>','<STOP>'] + list({char for word in data[:,0] for char in word})\n",
    "c_to_i_eng = {i_to_c_eng[i]:i for i in range(len(i_to_c_eng))}\n",
    "i_to_c_eng[1] = i_to_c_eng[2] = ''\n",
    "\n",
    "i_to_c_por = ['','<START>','<STOP>'] + list({char for word in data[:,1] for char in word})\n",
    "c_to_i_por = {i_to_c_por[i]:i for i in range(len(i_to_c_por))}\n",
    "i_to_c_por[1] = i_to_c_por[2] = ''\n"
   ]
  },
  {
   "cell_type": "code",
   "execution_count": 16,
   "id": "66ec1043-c582-4f76-aacc-ecddf6836a81",
   "metadata": {},
   "outputs": [],
   "source": [
    "def encode_seq(x, mapping, max_length=0):\n",
    "    # String to integer\n",
    "    return [mapping['<START>']] + \\\n",
    "    [mapping[i] for i in list(x)] + \\\n",
    "    [mapping['<STOP>']] + \\\n",
    "    [0]*(max_length-len(list(x))-2)\n",
    "    \n",
    "def decode_seq(x, mapping):\n",
    "    # Integer-to-string\n",
    "    try:\n",
    "        idx = list(x).index(2) # Stop token?\n",
    "    except:\n",
    "        idx = len(list(x)) # No stop token found\n",
    "    return ''.join([mapping[i] for i in list(x)[0:idx]])"
   ]
  },
  {
   "cell_type": "code",
   "execution_count": 17,
   "id": "2ca41141-d717-4656-9096-ae59f99f7867",
   "metadata": {},
   "outputs": [
    {
     "data": {
      "text/plain": [
       "array(['My eyes hurt.', 'Meus olhos doem.'], dtype='<U184')"
      ]
     },
     "execution_count": 17,
     "metadata": {},
     "output_type": "execute_result"
    }
   ],
   "source": [
    "data[0]\n"
   ]
  },
  {
   "cell_type": "code",
   "execution_count": 18,
   "id": "aa71463c-84d3-455b-bb8e-477e97519c47",
   "metadata": {},
   "outputs": [
    {
     "data": {
      "text/plain": [
       "'My eyes hurt.'"
      ]
     },
     "execution_count": 18,
     "metadata": {},
     "output_type": "execute_result"
    }
   ],
   "source": [
    "data[0,0]"
   ]
  },
  {
   "cell_type": "code",
   "execution_count": 19,
   "id": "6943a859-549b-4417-ac70-7cc009ca39b6",
   "metadata": {},
   "outputs": [
    {
     "name": "stdout",
     "output_type": "stream",
     "text": [
      "[1, 25, 39, 61, 24, 39, 24, 12, 61, 48, 42, 70, 6, 67, 2, 0, 0, 0, 0, 0, 0, 0, 0, 0, 0, 0, 0, 0, 0, 0, 0, 0, 0, 0, 0, 0, 0, 0, 0, 0, 0, 0, 0, 0, 0]\n"
     ]
    }
   ],
   "source": [
    "temp = encode_seq(data[0,0],c_to_i_eng,max_length)\n",
    "\n",
    "print(temp)"
   ]
  },
  {
   "cell_type": "code",
   "execution_count": 20,
   "id": "92c3145e-a396-4886-a910-9429f7206903",
   "metadata": {},
   "outputs": [
    {
     "data": {
      "text/plain": [
       "'My eyes hurt.'"
      ]
     },
     "execution_count": 20,
     "metadata": {},
     "output_type": "execute_result"
    }
   ],
   "source": [
    "decode_seq(temp, i_to_c_eng)"
   ]
  },
  {
   "cell_type": "code",
   "execution_count": 21,
   "id": "8dcff1aa-7c3e-4743-a3c6-de994c999c20",
   "metadata": {},
   "outputs": [
    {
     "data": {
      "text/plain": [
       "'Meus olhos doem.'"
      ]
     },
     "execution_count": 21,
     "metadata": {},
     "output_type": "execute_result"
    }
   ],
   "source": [
    "data[0,1]"
   ]
  },
  {
   "cell_type": "code",
   "execution_count": 22,
   "id": "66c7dc08-60af-4a05-bb2d-b3739d62c57f",
   "metadata": {},
   "outputs": [
    {
     "name": "stdout",
     "output_type": "stream",
     "text": [
      "[1, 29, 71, 11, 26, 38, 57, 63, 13, 57, 26, 38, 76, 57, 71, 30, 19, 2, 0, 0, 0, 0, 0, 0, 0, 0, 0, 0, 0, 0, 0, 0, 0, 0, 0, 0, 0, 0, 0, 0, 0, 0, 0, 0, 0]\n"
     ]
    }
   ],
   "source": [
    "temp = encode_seq(data[0,1],c_to_i_por,max_length)\n",
    "\n",
    "print(temp)"
   ]
  },
  {
   "cell_type": "code",
   "execution_count": 23,
   "id": "ef554a23-38ca-480e-b7a5-5b9477dec38f",
   "metadata": {},
   "outputs": [
    {
     "data": {
      "text/plain": [
       "'Meus olhos doem.'"
      ]
     },
     "execution_count": 23,
     "metadata": {},
     "output_type": "execute_result"
    }
   ],
   "source": [
    "decode_seq(temp, i_to_c_por)"
   ]
  },
  {
   "cell_type": "code",
   "execution_count": 24,
   "id": "b6a5c7af-78cc-49dc-a573-d63ab9cc84e8",
   "metadata": {},
   "outputs": [
    {
     "data": {
      "text/plain": [
       "array([[ 1, 25, 39, ...,  0,  0,  0],\n",
       "       [ 1, 15, 60, ...,  0,  0,  0],\n",
       "       [ 1, 59, 24, ...,  0,  0,  0],\n",
       "       ...,\n",
       "       [ 1, 15, 60, ...,  0,  0,  0],\n",
       "       [ 1, 15, 61, ...,  0,  0,  0],\n",
       "       [ 1, 15, 12, ...,  0,  0,  0]])"
      ]
     },
     "execution_count": 24,
     "metadata": {},
     "output_type": "execute_result"
    }
   ],
   "source": [
    "# Setup\n",
    "X = np.vstack([encode_seq(x, c_to_i_eng, max_length) for x in data[:,0]])\n",
    "Y = np.vstack([encode_seq(x, c_to_i_por, max_length) for x in data[:,1]])\n",
    "\n",
    "enc_x_train = X[:split_point]\n",
    "enc_x_val = X[split_point:]\n",
    "enc_x_train\n"
   ]
  },
  {
   "cell_type": "code",
   "execution_count": 25,
   "id": "d8acac74-4b68-4524-b79e-13d10782edbb",
   "metadata": {},
   "outputs": [
    {
     "data": {
      "text/plain": [
       "array([[ 1, 29, 71, ...,  0,  0,  0],\n",
       "       [ 1, 17, 11, ...,  0,  0,  0],\n",
       "       [ 1, 17, 26, ...,  0,  0,  0],\n",
       "       ...,\n",
       "       [ 1, 17, 11, ...,  0,  0,  0],\n",
       "       [ 1, 17, 11, ...,  0,  0,  0],\n",
       "       [ 1, 78, 42, ...,  0,  0,  0]])"
      ]
     },
     "execution_count": 25,
     "metadata": {},
     "output_type": "execute_result"
    }
   ],
   "source": [
    "# Setup\n",
    "dec_x_train = Y[:,0:-1][:split_point]\n",
    "dec_x_val = Y[:,0:-1][split_point:]\n",
    "dec_x_train"
   ]
  },
  {
   "cell_type": "code",
   "execution_count": 26,
   "id": "01cf865e-a2ff-453b-8586-0765413ea518",
   "metadata": {},
   "outputs": [
    {
     "data": {
      "text/plain": [
       "array([[29, 71, 11, ...,  0,  0,  0],\n",
       "       [17, 11, 38, ...,  0,  0,  0],\n",
       "       [17, 26, 23, ...,  0,  0,  0],\n",
       "       ...,\n",
       "       [17, 11, 38, ...,  0,  0,  0],\n",
       "       [17, 11, 38, ...,  0,  0,  0],\n",
       "       [78, 42, 11, ...,  0,  0,  0]])"
      ]
     },
     "execution_count": 26,
     "metadata": {},
     "output_type": "execute_result"
    }
   ],
   "source": [
    "dec_y_train = Y[:,1:][:split_point]\n",
    "dec_y_val = Y[:,1:][split_point:]\n",
    "dec_y_train"
   ]
  },
  {
   "cell_type": "code",
   "execution_count": 27,
   "id": "0c88beba-1ed6-458b-860d-4035f1e95291",
   "metadata": {},
   "outputs": [
    {
     "name": "stdout",
     "output_type": "stream",
     "text": [
      "(8000, 45)\n",
      "(8000, 44)\n",
      "(8000, 44)\n",
      "----\n",
      "(2000, 45)\n",
      "(2000, 44)\n",
      "(2000, 44)\n"
     ]
    }
   ],
   "source": [
    "print(enc_x_train.shape)\n",
    "print(dec_x_train.shape)\n",
    "print(dec_y_train.shape)\n",
    "\n",
    "print(\"----\")\n",
    "\n",
    "print(enc_x_val.shape)\n",
    "print(dec_x_val.shape)\n",
    "print(dec_y_val.shape)"
   ]
  },
  {
   "cell_type": "code",
   "execution_count": 28,
   "id": "63d4a6ac-b365-400b-8477-9621e76f99bc",
   "metadata": {},
   "outputs": [
    {
     "data": {
      "image/png": "[encoded data removed]",
      "text/latex": [
       "$\\displaystyle 73$"
      ],
      "text/plain": [
       "73"
      ]
     },
     "execution_count": 28,
     "metadata": {},
     "output_type": "execute_result"
    }
   ],
   "source": [
    "len(i_to_c_eng)"
   ]
  },
  {
   "cell_type": "code",
   "execution_count": 29,
   "id": "e289f0d7-7071-43ba-83c7-6fccc571d309",
   "metadata": {},
   "outputs": [
    {
     "data": {
      "image/png": "[encoded data removed]",
      "text/latex": [
       "$\\displaystyle 87$"
      ],
      "text/plain": [
       "87"
      ]
     },
     "execution_count": 29,
     "metadata": {},
     "output_type": "execute_result"
    }
   ],
   "source": [
    "len(i_to_c_por)"
   ]
  },
  {
   "cell_type": "code",
   "execution_count": 30,
   "id": "4142eb37-121d-47aa-a7d0-4f107992638a",
   "metadata": {},
   "outputs": [
    {
     "data": {
      "image/png": "[encoded data removed]",
      "text/latex": [
       "$\\displaystyle \\left( 45,\\right)$"
      ],
      "text/plain": [
       "(45,)"
      ]
     },
     "execution_count": 30,
     "metadata": {},
     "output_type": "execute_result"
    }
   ],
   "source": [
    "enc_x_train.shape[1:]"
   ]
  },
  {
   "cell_type": "code",
   "execution_count": 117,
   "id": "4429f9b2-0c3d-476c-92d6-f65c467b905a",
   "metadata": {},
   "outputs": [],
   "source": [
    "class TransformerBlock(torch.nn.Module):\n",
    "    def __init__(self,\n",
    "                 latent_size = 64,\n",
    "                 num_heads = 4,\n",
    "                 dropout = 0.1,\n",
    "                 **kwargs):\n",
    "        super().__init__(**kwargs)\n",
    "        self.layer_norm1 = torch.nn.LayerNorm(latent_size)\n",
    "        self.layer_norm2 = torch.nn.LayerNorm(latent_size)\n",
    "        self.dropout = torch.nn.Dropout(dropout)\n",
    "        self.activation = torch.nn.GELU()\n",
    "        self.linear = torch.nn.Linear(latent_size,\n",
    "                                      latent_size)\n",
    "        self.mha = torch.nn.MultiheadAttention(latent_size,\n",
    "                                               num_heads, \n",
    "                                               dropout=dropout,\n",
    "                                               batch_first=True)\n",
    "    \n",
    "    def forward(self, x):\n",
    "        y = x\n",
    "        y = self.layer_norm1(y)\n",
    "        y = self.mha(y, y, y)[0]\n",
    "        x=y=x+y\n",
    "        y = self.layer_norm2(y)\n",
    "        y = self.linear(y)\n",
    "        y = self.activation(y)\n",
    "        return x +  y\n",
    "\n",
    "class EncoderNetwork(torch.nn.Module):\n",
    "    def __init__(self,\n",
    "                 num_tokens,\n",
    "                 max_length,\n",
    "                 latent_size = 64,\n",
    "                 num_heads = 4,\n",
    "                 n_layers = 8,\n",
    "                 **kwargs):\n",
    "        super().__init__(**kwargs)\n",
    "        self.token_embedding = torch.nn.Embedding(num_tokens,\n",
    "                                                  latent_size,\n",
    "                                                  padding_idx=0)\n",
    "        self.position_embedding = torch.nn.Embedding(max_length+1,\n",
    "                                                     latent_size,\n",
    "                                                     padding_idx=0)\n",
    "        self.transformer_blocks = torch.nn.Sequential(*[\n",
    "            TransformerBlock(latent_size=latent_size,\n",
    "                             num_heads=num_heads) for _ in range(n_layers)\n",
    "        ])\n",
    "        \n",
    "    def forward(self, x):\n",
    "        y = x\n",
    "        y = self.token_embedding(y) + \\\n",
    "            self.position_embedding(torch.arange(1,y.shape[1]+1).long().to(device) * torch.sign(y).long().to(device))\n",
    "        y = self.transformer_blocks(y)\n",
    "        return y"
   ]
  },
  {
   "cell_type": "code",
   "execution_count": 118,
   "id": "6b5e0428-2eab-4ab7-91ab-b0a18affd777",
   "metadata": {},
   "outputs": [
    {
     "data": {
      "image/png": "[encoded data removed]",
      "text/latex": [
       "$\\displaystyle \\left( 5, \\  45\\right)$"
      ],
      "text/plain": [
       "(5, 45)"
      ]
     },
     "execution_count": 118,
     "metadata": {},
     "output_type": "execute_result"
    }
   ],
   "source": [
    "enc_x_train[0:5].shape"
   ]
  },
  {
   "cell_type": "code",
   "execution_count": 119,
   "id": "607da314-5e08-4f60-a62d-a4a71bd6777b",
   "metadata": {},
   "outputs": [
    {
     "data": {
      "text/plain": [
       "==========================================================================================\n",
       "Layer (type:depth-idx)                   Output Shape              Param #\n",
       "==========================================================================================\n",
       "EncoderNetwork                           [5, 45, 64]               --\n",
       "├─Embedding: 1-1                         [5, 45, 64]               4,672\n",
       "├─Embedding: 1-2                         [5, 45, 64]               2,944\n",
       "├─Sequential: 1-3                        [5, 45, 64]               --\n",
       "│    └─TransformerBlock: 2-1             [5, 45, 64]               --\n",
       "│    │    └─LayerNorm: 3-1               [5, 45, 64]               128\n",
       "│    │    └─MultiheadAttention: 3-2      [5, 45, 64]               16,640\n",
       "│    │    └─LayerNorm: 3-3               [5, 45, 64]               128\n",
       "│    │    └─Linear: 3-4                  [5, 45, 64]               4,160\n",
       "│    │    └─GELU: 3-5                    [5, 45, 64]               --\n",
       "│    └─TransformerBlock: 2-2             [5, 45, 64]               --\n",
       "│    │    └─LayerNorm: 3-6               [5, 45, 64]               128\n",
       "│    │    └─MultiheadAttention: 3-7      [5, 45, 64]               16,640\n",
       "│    │    └─LayerNorm: 3-8               [5, 45, 64]               128\n",
       "│    │    └─Linear: 3-9                  [5, 45, 64]               4,160\n",
       "│    │    └─GELU: 3-10                   [5, 45, 64]               --\n",
       "│    └─TransformerBlock: 2-3             [5, 45, 64]               --\n",
       "│    │    └─LayerNorm: 3-11              [5, 45, 64]               128\n",
       "│    │    └─MultiheadAttention: 3-12     [5, 45, 64]               16,640\n",
       "│    │    └─LayerNorm: 3-13              [5, 45, 64]               128\n",
       "│    │    └─Linear: 3-14                 [5, 45, 64]               4,160\n",
       "│    │    └─GELU: 3-15                   [5, 45, 64]               --\n",
       "│    └─TransformerBlock: 2-4             [5, 45, 64]               --\n",
       "│    │    └─LayerNorm: 3-16              [5, 45, 64]               128\n",
       "│    │    └─MultiheadAttention: 3-17     [5, 45, 64]               16,640\n",
       "│    │    └─LayerNorm: 3-18              [5, 45, 64]               128\n",
       "│    │    └─Linear: 3-19                 [5, 45, 64]               4,160\n",
       "│    │    └─GELU: 3-20                   [5, 45, 64]               --\n",
       "│    └─TransformerBlock: 2-5             [5, 45, 64]               --\n",
       "│    │    └─LayerNorm: 3-21              [5, 45, 64]               128\n",
       "│    │    └─MultiheadAttention: 3-22     [5, 45, 64]               16,640\n",
       "│    │    └─LayerNorm: 3-23              [5, 45, 64]               128\n",
       "│    │    └─Linear: 3-24                 [5, 45, 64]               4,160\n",
       "│    │    └─GELU: 3-25                   [5, 45, 64]               --\n",
       "│    └─TransformerBlock: 2-6             [5, 45, 64]               --\n",
       "│    │    └─LayerNorm: 3-26              [5, 45, 64]               128\n",
       "│    │    └─MultiheadAttention: 3-27     [5, 45, 64]               16,640\n",
       "│    │    └─LayerNorm: 3-28              [5, 45, 64]               128\n",
       "│    │    └─Linear: 3-29                 [5, 45, 64]               4,160\n",
       "│    │    └─GELU: 3-30                   [5, 45, 64]               --\n",
       "│    └─TransformerBlock: 2-7             [5, 45, 64]               --\n",
       "│    │    └─LayerNorm: 3-31              [5, 45, 64]               128\n",
       "│    │    └─MultiheadAttention: 3-32     [5, 45, 64]               16,640\n",
       "│    │    └─LayerNorm: 3-33              [5, 45, 64]               128\n",
       "│    │    └─Linear: 3-34                 [5, 45, 64]               4,160\n",
       "│    │    └─GELU: 3-35                   [5, 45, 64]               --\n",
       "│    └─TransformerBlock: 2-8             [5, 45, 64]               --\n",
       "│    │    └─LayerNorm: 3-36              [5, 45, 64]               128\n",
       "│    │    └─MultiheadAttention: 3-37     [5, 45, 64]               16,640\n",
       "│    │    └─LayerNorm: 3-38              [5, 45, 64]               128\n",
       "│    │    └─Linear: 3-39                 [5, 45, 64]               4,160\n",
       "│    │    └─GELU: 3-40                   [5, 45, 64]               --\n",
       "==========================================================================================\n",
       "Total params: 176,064\n",
       "Trainable params: 176,064\n",
       "Non-trainable params: 0\n",
       "Total mult-adds (Units.MEGABYTES): 0.21\n",
       "==========================================================================================\n",
       "Input size (MB): 0.00\n",
       "Forward/backward pass size (MB): 3.00\n",
       "Params size (MB): 0.17\n",
       "Estimated Total Size (MB): 3.17\n",
       "=========================================================================================="
      ]
     },
     "execution_count": 119,
     "metadata": {},
     "output_type": "execute_result"
    }
   ],
   "source": [
    "enc_net = EncoderNetwork(num_tokens=len(i_to_c_eng), max_length=enc_x_train.shape[-1])\n",
    "\n",
    "summary(enc_net,input_size=enc_x_train[0:5].shape,dtypes=[torch.long])"
   ]
  },
  {
   "cell_type": "code",
   "execution_count": 120,
   "id": "c7f4d06b-5e6a-420c-8797-11cfe6e5f754",
   "metadata": {},
   "outputs": [
    {
     "data": {
      "image/svg+xml": [
       "<?xml version=\"1.0\" encoding=\"UTF-8\" standalone=\"no\"?>\n",
       "<!DOCTYPE svg PUBLIC \"-//W3C//DTD SVG 1.1//EN\"\n",
       " \"http://www.w3.org/Graphics/SVG/1.1/DTD/svg11.dtd\">\n",
       "<!-- Generated by graphviz version 8.1.0 (20230707.2238)\n",
       " -->\n",
       "<!-- Title: model Pages: 1 -->\n",
       "<svg width=\"362pt\" height=\"3240pt\"\n",
       " viewBox=\"0.00 0.00 361.67 3240.00\" xmlns=\"http://www.w3.org/2000/svg\" xmlns:xlink=\"http://www.w3.org/1999/xlink\">\n",
       "<g id=\"graph0\" class=\"graph\" transform=\"scale(0.638424 0.638424) rotate(0) translate(4 5071)\">\n",
       "<title>model</title>\n",
       "<polygon fill=\"white\" stroke=\"none\" points=\"-4,4 -4,-5071 562.5,-5071 562.5,4 -4,4\"/>\n",
       "<!-- 0 -->\n",
       "<g id=\"node1\" class=\"node\">\n",
       "<title>0</title>\n",
       "<polygon fill=\"lightyellow\" stroke=\"none\" points=\"189.88,-5067 79.12,-5067 79.12,-5031.5 189.88,-5031.5 189.88,-5067\"/>\n",
       "<polygon fill=\"none\" stroke=\"black\" points=\"79.12,-5031.5 79.12,-5067 148.38,-5067 148.38,-5031.5 79.12,-5031.5\"/>\n",
       "<text text-anchor=\"start\" x=\"84.12\" y=\"-5052.5\" font-family=\"Linux libertine\" font-size=\"10.00\">input&#45;tensor</text>\n",
       "<text text-anchor=\"start\" x=\"95.38\" y=\"-5039.75\" font-family=\"Linux libertine\" font-size=\"10.00\">depth:0</text>\n",
       "<polygon fill=\"none\" stroke=\"black\" points=\"148.38,-5031.5 148.38,-5067 189.88,-5067 189.88,-5031.5 148.38,-5031.5\"/>\n",
       "<text text-anchor=\"start\" x=\"153.38\" y=\"-5046.12\" font-family=\"Linux libertine\" font-size=\"10.00\">(5, 45)</text>\n",
       "</g>\n",
       "<!-- 1 -->\n",
       "<g id=\"node2\" class=\"node\">\n",
       "<title>1</title>\n",
       "<polygon fill=\"#c1ffc1\" stroke=\"none\" points=\"173,-4755.5 0,-4755.5 0,-4711.5 173,-4711.5 173,-4755.5\"/>\n",
       "<polygon fill=\"none\" stroke=\"black\" points=\"0,-4711.5 0,-4755.5 64,-4755.5 64,-4711.5 0,-4711.5\"/>\n",
       "<text text-anchor=\"start\" x=\"4.62\" y=\"-4736.75\" font-family=\"Linux libertine\" font-size=\"10.00\">Embedding</text>\n",
       "<text text-anchor=\"start\" x=\"13.62\" y=\"-4724\" font-family=\"Linux libertine\" font-size=\"10.00\">depth:1</text>\n",
       "<polygon fill=\"none\" stroke=\"black\" points=\"64,-4733.5 64,-4755.5 111,-4755.5 111,-4733.5 64,-4733.5\"/>\n",
       "<text text-anchor=\"start\" x=\"73.62\" y=\"-4741\" font-family=\"Linux libertine\" font-size=\"10.00\">input:</text>\n",
       "<polygon fill=\"none\" stroke=\"black\" points=\"111,-4733.5 111,-4755.5 173,-4755.5 173,-4733.5 111,-4733.5\"/>\n",
       "<text text-anchor=\"start\" x=\"124.75\" y=\"-4741\" font-family=\"Linux libertine\" font-size=\"10.00\">(5, 45) </text>\n",
       "<polygon fill=\"none\" stroke=\"black\" points=\"64,-4711.5 64,-4733.5 111,-4733.5 111,-4711.5 64,-4711.5\"/>\n",
       "<text text-anchor=\"start\" x=\"68.75\" y=\"-4719\" font-family=\"Linux libertine\" font-size=\"10.00\">output: </text>\n",
       "<polygon fill=\"none\" stroke=\"black\" points=\"111,-4711.5 111,-4733.5 173,-4733.5 173,-4711.5 111,-4711.5\"/>\n",
       "<text text-anchor=\"start\" x=\"115.75\" y=\"-4719\" font-family=\"Linux libertine\" font-size=\"10.00\">(5, 45, 64) </text>\n",
       "</g>\n",
       "<!-- 0&#45;&gt;1 -->\n",
       "<g id=\"edge1\" class=\"edge\">\n",
       "<title>0&#45;&gt;1</title>\n",
       "<path fill=\"none\" stroke=\"black\" d=\"M130.24,-5031.6C123.98,-5006.56 112.3,-4957.65 105.5,-4915.5 97.11,-4863.43 91.58,-4802.3 88.75,-4766.07\"/>\n",
       "<polygon fill=\"black\" stroke=\"black\" points=\"92.17,-4765.93 87.93,-4756.23 85.19,-4766.46 92.17,-4765.93\"/>\n",
       "</g>\n",
       "<!-- 4 -->\n",
       "<g id=\"node5\" class=\"node\">\n",
       "<title>4</title>\n",
       "<polygon fill=\"aliceblue\" stroke=\"none\" points=\"325,-4995.5 188,-4995.5 188,-4951.5 325,-4951.5 325,-4995.5\"/>\n",
       "<polygon fill=\"none\" stroke=\"black\" points=\"188,-4951.5 188,-4995.5 234,-4995.5 234,-4951.5 188,-4951.5\"/>\n",
       "<text text-anchor=\"start\" x=\"200.88\" y=\"-4976.75\" font-family=\"Linux libertine\" font-size=\"10.00\">sign</text>\n",
       "<text text-anchor=\"start\" x=\"192.62\" y=\"-4964\" font-family=\"Linux libertine\" font-size=\"10.00\">depth:1</text>\n",
       "<polygon fill=\"none\" stroke=\"black\" points=\"234,-4973.5 234,-4995.5 281,-4995.5 281,-4973.5 234,-4973.5\"/>\n",
       "<text text-anchor=\"start\" x=\"243.62\" y=\"-4981\" font-family=\"Linux libertine\" font-size=\"10.00\">input:</text>\n",
       "<polygon fill=\"none\" stroke=\"black\" points=\"281,-4973.5 281,-4995.5 325,-4995.5 325,-4973.5 281,-4973.5\"/>\n",
       "<text text-anchor=\"start\" x=\"285.75\" y=\"-4981\" font-family=\"Linux libertine\" font-size=\"10.00\">(5, 45) </text>\n",
       "<polygon fill=\"none\" stroke=\"black\" points=\"234,-4951.5 234,-4973.5 281,-4973.5 281,-4951.5 234,-4951.5\"/>\n",
       "<text text-anchor=\"start\" x=\"238.75\" y=\"-4959\" font-family=\"Linux libertine\" font-size=\"10.00\">output: </text>\n",
       "<polygon fill=\"none\" stroke=\"black\" points=\"281,-4951.5 281,-4973.5 325,-4973.5 325,-4951.5 281,-4951.5\"/>\n",
       "<text text-anchor=\"start\" x=\"285.75\" y=\"-4959\" font-family=\"Linux libertine\" font-size=\"10.00\">(5, 45) </text>\n",
       "</g>\n",
       "<!-- 0&#45;&gt;4 -->\n",
       "<g id=\"edge2\" class=\"edge\">\n",
       "<title>0&#45;&gt;4</title>\n",
       "<path fill=\"none\" stroke=\"black\" d=\"M162.18,-5031.51C177.13,-5022.48 195.93,-5011.11 212.8,-5000.91\"/>\n",
       "<polygon fill=\"black\" stroke=\"black\" points=\"214.2,-5003.56 220.94,-4995.39 210.57,-4997.57 214.2,-5003.56\"/>\n",
       "</g>\n",
       "<!-- 9 -->\n",
       "<g id=\"node10\" class=\"node\">\n",
       "<title>9</title>\n",
       "<polygon fill=\"aliceblue\" stroke=\"none\" points=\"266,-4595.5 93,-4595.5 93,-4551.5 266,-4551.5 266,-4595.5\"/>\n",
       "<polygon fill=\"none\" stroke=\"black\" points=\"93,-4551.5 93,-4595.5 139,-4595.5 139,-4551.5 93,-4551.5\"/>\n",
       "<text text-anchor=\"start\" x=\"107\" y=\"-4576.75\" font-family=\"Linux libertine\" font-size=\"10.00\">add</text>\n",
       "<text text-anchor=\"start\" x=\"97.62\" y=\"-4564\" font-family=\"Linux libertine\" font-size=\"10.00\">depth:1</text>\n",
       "<polygon fill=\"none\" stroke=\"black\" points=\"139,-4573.5 139,-4595.5 186,-4595.5 186,-4573.5 139,-4573.5\"/>\n",
       "<text text-anchor=\"start\" x=\"148.62\" y=\"-4581\" font-family=\"Linux libertine\" font-size=\"10.00\">input:</text>\n",
       "<polygon fill=\"none\" stroke=\"black\" points=\"186,-4573.5 186,-4595.5 266,-4595.5 266,-4573.5 186,-4573.5\"/>\n",
       "<text text-anchor=\"start\" x=\"190.75\" y=\"-4581\" font-family=\"Linux libertine\" font-size=\"10.00\">2 x (5, 45, 64) </text>\n",
       "<polygon fill=\"none\" stroke=\"black\" points=\"139,-4551.5 139,-4573.5 186,-4573.5 186,-4551.5 139,-4551.5\"/>\n",
       "<text text-anchor=\"start\" x=\"143.75\" y=\"-4559\" font-family=\"Linux libertine\" font-size=\"10.00\">output: </text>\n",
       "<polygon fill=\"none\" stroke=\"black\" points=\"186,-4551.5 186,-4573.5 266,-4573.5 266,-4551.5 186,-4551.5\"/>\n",
       "<text text-anchor=\"start\" x=\"199.75\" y=\"-4559\" font-family=\"Linux libertine\" font-size=\"10.00\">(5, 45, 64) </text>\n",
       "</g>\n",
       "<!-- 1&#45;&gt;9 -->\n",
       "<g id=\"edge3\" class=\"edge\">\n",
       "<title>1&#45;&gt;9</title>\n",
       "<path fill=\"none\" stroke=\"black\" d=\"M98.85,-4711.52C115.06,-4683.98 143.61,-4635.48 162.03,-4604.18\"/>\n",
       "<polygon fill=\"black\" stroke=\"black\" points=\"165.34,-4606.46 167.39,-4596.07 159.31,-4602.91 165.34,-4606.46\"/>\n",
       "</g>\n",
       "<!-- 2 -->\n",
       "<g id=\"node3\" class=\"node\">\n",
       "<title>2</title>\n",
       "<polygon fill=\"aliceblue\" stroke=\"none\" points=\"242.5,-4915.5 114.5,-4915.5 114.5,-4871.5 242.5,-4871.5 242.5,-4915.5\"/>\n",
       "<polygon fill=\"none\" stroke=\"black\" points=\"114.5,-4871.5 114.5,-4915.5 160.5,-4915.5 160.5,-4871.5 114.5,-4871.5\"/>\n",
       "<text text-anchor=\"start\" x=\"127\" y=\"-4896.75\" font-family=\"Linux libertine\" font-size=\"10.00\">long</text>\n",
       "<text text-anchor=\"start\" x=\"119.12\" y=\"-4884\" font-family=\"Linux libertine\" font-size=\"10.00\">depth:1</text>\n",
       "<polygon fill=\"none\" stroke=\"black\" points=\"160.5,-4893.5 160.5,-4915.5 207.5,-4915.5 207.5,-4893.5 160.5,-4893.5\"/>\n",
       "<text text-anchor=\"start\" x=\"170.12\" y=\"-4901\" font-family=\"Linux libertine\" font-size=\"10.00\">input:</text>\n",
       "<polygon fill=\"none\" stroke=\"black\" points=\"207.5,-4893.5 207.5,-4915.5 242.5,-4915.5 242.5,-4893.5 207.5,-4893.5\"/>\n",
       "<text text-anchor=\"start\" x=\"212.25\" y=\"-4901\" font-family=\"Linux libertine\" font-size=\"10.00\">(45,) </text>\n",
       "<polygon fill=\"none\" stroke=\"black\" points=\"160.5,-4871.5 160.5,-4893.5 207.5,-4893.5 207.5,-4871.5 160.5,-4871.5\"/>\n",
       "<text text-anchor=\"start\" x=\"165.25\" y=\"-4879\" font-family=\"Linux libertine\" font-size=\"10.00\">output: </text>\n",
       "<polygon fill=\"none\" stroke=\"black\" points=\"207.5,-4871.5 207.5,-4893.5 242.5,-4893.5 242.5,-4871.5 207.5,-4871.5\"/>\n",
       "<text text-anchor=\"start\" x=\"212.25\" y=\"-4879\" font-family=\"Linux libertine\" font-size=\"10.00\">(45,) </text>\n",
       "</g>\n",
       "<!-- 3 -->\n",
       "<g id=\"node4\" class=\"node\">\n",
       "<title>3</title>\n",
       "<polygon fill=\"aliceblue\" stroke=\"none\" points=\"242.5,-4835.5 114.5,-4835.5 114.5,-4791.5 242.5,-4791.5 242.5,-4835.5\"/>\n",
       "<polygon fill=\"none\" stroke=\"black\" points=\"114.5,-4791.5 114.5,-4835.5 160.5,-4835.5 160.5,-4791.5 114.5,-4791.5\"/>\n",
       "<text text-anchor=\"start\" x=\"132.62\" y=\"-4816.75\" font-family=\"Linux libertine\" font-size=\"10.00\">to</text>\n",
       "<text text-anchor=\"start\" x=\"119.12\" y=\"-4804\" font-family=\"Linux libertine\" font-size=\"10.00\">depth:1</text>\n",
       "<polygon fill=\"none\" stroke=\"black\" points=\"160.5,-4813.5 160.5,-4835.5 207.5,-4835.5 207.5,-4813.5 160.5,-4813.5\"/>\n",
       "<text text-anchor=\"start\" x=\"170.12\" y=\"-4821\" font-family=\"Linux libertine\" font-size=\"10.00\">input:</text>\n",
       "<polygon fill=\"none\" stroke=\"black\" points=\"207.5,-4813.5 207.5,-4835.5 242.5,-4835.5 242.5,-4813.5 207.5,-4813.5\"/>\n",
       "<text text-anchor=\"start\" x=\"212.25\" y=\"-4821\" font-family=\"Linux libertine\" font-size=\"10.00\">(45,) </text>\n",
       "<polygon fill=\"none\" stroke=\"black\" points=\"160.5,-4791.5 160.5,-4813.5 207.5,-4813.5 207.5,-4791.5 160.5,-4791.5\"/>\n",
       "<text text-anchor=\"start\" x=\"165.25\" y=\"-4799\" font-family=\"Linux libertine\" font-size=\"10.00\">output: </text>\n",
       "<polygon fill=\"none\" stroke=\"black\" points=\"207.5,-4791.5 207.5,-4813.5 242.5,-4813.5 242.5,-4791.5 207.5,-4791.5\"/>\n",
       "<text text-anchor=\"start\" x=\"212.25\" y=\"-4799\" font-family=\"Linux libertine\" font-size=\"10.00\">(45,) </text>\n",
       "</g>\n",
       "<!-- 2&#45;&gt;3 -->\n",
       "<g id=\"edge4\" class=\"edge\">\n",
       "<title>2&#45;&gt;3</title>\n",
       "<path fill=\"none\" stroke=\"black\" d=\"M178.5,-4871.6C178.5,-4863.82 178.5,-4854.8 178.5,-4846.26\"/>\n",
       "<polygon fill=\"black\" stroke=\"black\" points=\"182,-4846.46 178.5,-4836.46 175,-4846.46 182,-4846.46\"/>\n",
       "</g>\n",
       "<!-- 7 -->\n",
       "<g id=\"node8\" class=\"node\">\n",
       "<title>7</title>\n",
       "<polygon fill=\"aliceblue\" stroke=\"none\" points=\"357.5,-4755.5 191.5,-4755.5 191.5,-4711.5 357.5,-4711.5 357.5,-4755.5\"/>\n",
       "<polygon fill=\"none\" stroke=\"black\" points=\"191.5,-4711.5 191.5,-4755.5 237.5,-4755.5 237.5,-4711.5 191.5,-4711.5\"/>\n",
       "<text text-anchor=\"start\" x=\"205.12\" y=\"-4736.75\" font-family=\"Linux libertine\" font-size=\"10.00\">mul</text>\n",
       "<text text-anchor=\"start\" x=\"196.12\" y=\"-4724\" font-family=\"Linux libertine\" font-size=\"10.00\">depth:1</text>\n",
       "<polygon fill=\"none\" stroke=\"black\" points=\"237.5,-4733.5 237.5,-4755.5 284.5,-4755.5 284.5,-4733.5 237.5,-4733.5\"/>\n",
       "<text text-anchor=\"start\" x=\"247.12\" y=\"-4741\" font-family=\"Linux libertine\" font-size=\"10.00\">input:</text>\n",
       "<polygon fill=\"none\" stroke=\"black\" points=\"284.5,-4733.5 284.5,-4755.5 357.5,-4755.5 357.5,-4733.5 284.5,-4733.5\"/>\n",
       "<text text-anchor=\"start\" x=\"289.5\" y=\"-4741\" font-family=\"Linux libertine\" font-size=\"10.00\">(45,), (5, 45) </text>\n",
       "<polygon fill=\"none\" stroke=\"black\" points=\"237.5,-4711.5 237.5,-4733.5 284.5,-4733.5 284.5,-4711.5 237.5,-4711.5\"/>\n",
       "<text text-anchor=\"start\" x=\"242.25\" y=\"-4719\" font-family=\"Linux libertine\" font-size=\"10.00\">output: </text>\n",
       "<polygon fill=\"none\" stroke=\"black\" points=\"284.5,-4711.5 284.5,-4733.5 357.5,-4733.5 357.5,-4711.5 284.5,-4711.5\"/>\n",
       "<text text-anchor=\"start\" x=\"303.75\" y=\"-4719\" font-family=\"Linux libertine\" font-size=\"10.00\">(5, 45) </text>\n",
       "</g>\n",
       "<!-- 3&#45;&gt;7 -->\n",
       "<g id=\"edge5\" class=\"edge\">\n",
       "<title>3&#45;&gt;7</title>\n",
       "<path fill=\"none\" stroke=\"black\" d=\"M204.23,-4791.6C215.31,-4782.59 228.43,-4771.93 240.31,-4762.28\"/>\n",
       "<polygon fill=\"black\" stroke=\"black\" points=\"242.15,-4764.48 247.7,-4755.46 237.73,-4759.05 242.15,-4764.48\"/>\n",
       "</g>\n",
       "<!-- 5 -->\n",
       "<g id=\"node6\" class=\"node\">\n",
       "<title>5</title>\n",
       "<polygon fill=\"aliceblue\" stroke=\"none\" points=\"398,-4915.5 261,-4915.5 261,-4871.5 398,-4871.5 398,-4915.5\"/>\n",
       "<polygon fill=\"none\" stroke=\"black\" points=\"261,-4871.5 261,-4915.5 307,-4915.5 307,-4871.5 261,-4871.5\"/>\n",
       "<text text-anchor=\"start\" x=\"273.5\" y=\"-4896.75\" font-family=\"Linux libertine\" font-size=\"10.00\">long</text>\n",
       "<text text-anchor=\"start\" x=\"265.62\" y=\"-4884\" font-family=\"Linux libertine\" font-size=\"10.00\">depth:1</text>\n",
       "<polygon fill=\"none\" stroke=\"black\" points=\"307,-4893.5 307,-4915.5 354,-4915.5 354,-4893.5 307,-4893.5\"/>\n",
       "<text text-anchor=\"start\" x=\"316.62\" y=\"-4901\" font-family=\"Linux libertine\" font-size=\"10.00\">input:</text>\n",
       "<polygon fill=\"none\" stroke=\"black\" points=\"354,-4893.5 354,-4915.5 398,-4915.5 398,-4893.5 354,-4893.5\"/>\n",
       "<text text-anchor=\"start\" x=\"358.75\" y=\"-4901\" font-family=\"Linux libertine\" font-size=\"10.00\">(5, 45) </text>\n",
       "<polygon fill=\"none\" stroke=\"black\" points=\"307,-4871.5 307,-4893.5 354,-4893.5 354,-4871.5 307,-4871.5\"/>\n",
       "<text text-anchor=\"start\" x=\"311.75\" y=\"-4879\" font-family=\"Linux libertine\" font-size=\"10.00\">output: </text>\n",
       "<polygon fill=\"none\" stroke=\"black\" points=\"354,-4871.5 354,-4893.5 398,-4893.5 398,-4871.5 354,-4871.5\"/>\n",
       "<text text-anchor=\"start\" x=\"358.75\" y=\"-4879\" font-family=\"Linux libertine\" font-size=\"10.00\">(5, 45) </text>\n",
       "</g>\n",
       "<!-- 4&#45;&gt;5 -->\n",
       "<g id=\"edge6\" class=\"edge\">\n",
       "<title>4&#45;&gt;5</title>\n",
       "<path fill=\"none\" stroke=\"black\" d=\"M276.06,-4951.6C284.16,-4942.94 293.69,-4932.76 302.45,-4923.41\"/>\n",
       "<polygon fill=\"black\" stroke=\"black\" points=\"304.61,-4926.15 308.88,-4916.46 299.49,-4921.37 304.61,-4926.15\"/>\n",
       "</g>\n",
       "<!-- 6 -->\n",
       "<g id=\"node7\" class=\"node\">\n",
       "<title>6</title>\n",
       "<polygon fill=\"aliceblue\" stroke=\"none\" points=\"398,-4835.5 261,-4835.5 261,-4791.5 398,-4791.5 398,-4835.5\"/>\n",
       "<polygon fill=\"none\" stroke=\"black\" points=\"261,-4791.5 261,-4835.5 307,-4835.5 307,-4791.5 261,-4791.5\"/>\n",
       "<text text-anchor=\"start\" x=\"279.12\" y=\"-4816.75\" font-family=\"Linux libertine\" font-size=\"10.00\">to</text>\n",
       "<text text-anchor=\"start\" x=\"265.62\" y=\"-4804\" font-family=\"Linux libertine\" font-size=\"10.00\">depth:1</text>\n",
       "<polygon fill=\"none\" stroke=\"black\" points=\"307,-4813.5 307,-4835.5 354,-4835.5 354,-4813.5 307,-4813.5\"/>\n",
       "<text text-anchor=\"start\" x=\"316.62\" y=\"-4821\" font-family=\"Linux libertine\" font-size=\"10.00\">input:</text>\n",
       "<polygon fill=\"none\" stroke=\"black\" points=\"354,-4813.5 354,-4835.5 398,-4835.5 398,-4813.5 354,-4813.5\"/>\n",
       "<text text-anchor=\"start\" x=\"358.75\" y=\"-4821\" font-family=\"Linux libertine\" font-size=\"10.00\">(5, 45) </text>\n",
       "<polygon fill=\"none\" stroke=\"black\" points=\"307,-4791.5 307,-4813.5 354,-4813.5 354,-4791.5 307,-4791.5\"/>\n",
       "<text text-anchor=\"start\" x=\"311.75\" y=\"-4799\" font-family=\"Linux libertine\" font-size=\"10.00\">output: </text>\n",
       "<polygon fill=\"none\" stroke=\"black\" points=\"354,-4791.5 354,-4813.5 398,-4813.5 398,-4791.5 354,-4791.5\"/>\n",
       "<text text-anchor=\"start\" x=\"358.75\" y=\"-4799\" font-family=\"Linux libertine\" font-size=\"10.00\">(5, 45) </text>\n",
       "</g>\n",
       "<!-- 5&#45;&gt;6 -->\n",
       "<g id=\"edge7\" class=\"edge\">\n",
       "<title>5&#45;&gt;6</title>\n",
       "<path fill=\"none\" stroke=\"black\" d=\"M329.5,-4871.6C329.5,-4863.82 329.5,-4854.8 329.5,-4846.26\"/>\n",
       "<polygon fill=\"black\" stroke=\"black\" points=\"333,-4846.46 329.5,-4836.46 326,-4846.46 333,-4846.46\"/>\n",
       "</g>\n",
       "<!-- 6&#45;&gt;7 -->\n",
       "<g id=\"edge8\" class=\"edge\">\n",
       "<title>6&#45;&gt;7</title>\n",
       "<path fill=\"none\" stroke=\"black\" d=\"M314.76,-4791.6C308.84,-4783.2 301.91,-4773.37 295.48,-4764.26\"/>\n",
       "<polygon fill=\"black\" stroke=\"black\" points=\"297.9,-4762.62 289.28,-4756.46 292.18,-4766.65 297.9,-4762.62\"/>\n",
       "</g>\n",
       "<!-- 8 -->\n",
       "<g id=\"node9\" class=\"node\">\n",
       "<title>8</title>\n",
       "<polygon fill=\"#c1ffc1\" stroke=\"none\" points=\"342,-4675.5 169,-4675.5 169,-4631.5 342,-4631.5 342,-4675.5\"/>\n",
       "<polygon fill=\"none\" stroke=\"black\" points=\"169,-4631.5 169,-4675.5 233,-4675.5 233,-4631.5 169,-4631.5\"/>\n",
       "<text text-anchor=\"start\" x=\"173.62\" y=\"-4656.75\" font-family=\"Linux libertine\" font-size=\"10.00\">Embedding</text>\n",
       "<text text-anchor=\"start\" x=\"182.62\" y=\"-4644\" font-family=\"Linux libertine\" font-size=\"10.00\">depth:1</text>\n",
       "<polygon fill=\"none\" stroke=\"black\" points=\"233,-4653.5 233,-4675.5 280,-4675.5 280,-4653.5 233,-4653.5\"/>\n",
       "<text text-anchor=\"start\" x=\"242.62\" y=\"-4661\" font-family=\"Linux libertine\" font-size=\"10.00\">input:</text>\n",
       "<polygon fill=\"none\" stroke=\"black\" points=\"280,-4653.5 280,-4675.5 342,-4675.5 342,-4653.5 280,-4653.5\"/>\n",
       "<text text-anchor=\"start\" x=\"293.75\" y=\"-4661\" font-family=\"Linux libertine\" font-size=\"10.00\">(5, 45) </text>\n",
       "<polygon fill=\"none\" stroke=\"black\" points=\"233,-4631.5 233,-4653.5 280,-4653.5 280,-4631.5 233,-4631.5\"/>\n",
       "<text text-anchor=\"start\" x=\"237.75\" y=\"-4639\" font-family=\"Linux libertine\" font-size=\"10.00\">output: </text>\n",
       "<polygon fill=\"none\" stroke=\"black\" points=\"280,-4631.5 280,-4653.5 342,-4653.5 342,-4631.5 280,-4631.5\"/>\n",
       "<text text-anchor=\"start\" x=\"284.75\" y=\"-4639\" font-family=\"Linux libertine\" font-size=\"10.00\">(5, 45, 64) </text>\n",
       "</g>\n",
       "<!-- 7&#45;&gt;8 -->\n",
       "<g id=\"edge9\" class=\"edge\">\n",
       "<title>7&#45;&gt;8</title>\n",
       "<path fill=\"none\" stroke=\"black\" d=\"M269.41,-4711.6C267.49,-4703.73 265.27,-4694.6 263.17,-4685.97\"/>\n",
       "<polygon fill=\"black\" stroke=\"black\" points=\"266.37,-4685.35 260.61,-4676.46 259.57,-4687 266.37,-4685.35\"/>\n",
       "</g>\n",
       "<!-- 8&#45;&gt;9 -->\n",
       "<g id=\"edge10\" class=\"edge\">\n",
       "<title>8&#45;&gt;9</title>\n",
       "<path fill=\"none\" stroke=\"black\" d=\"M235.13,-4631.6C226.61,-4622.85 216.58,-4612.55 207.39,-4603.12\"/>\n",
       "<polygon fill=\"black\" stroke=\"black\" points=\"210.41,-4601.18 200.92,-4596.46 205.39,-4606.07 210.41,-4601.18\"/>\n",
       "</g>\n",
       "<!-- 10 -->\n",
       "<g id=\"node11\" class=\"node\">\n",
       "<title>10</title>\n",
       "<polygon fill=\"#c1ffc1\" stroke=\"none\" points=\"347,-4515.5 174,-4515.5 174,-4471.5 347,-4471.5 347,-4515.5\"/>\n",
       "<polygon fill=\"none\" stroke=\"black\" points=\"174,-4471.5 174,-4515.5 238,-4515.5 238,-4471.5 174,-4471.5\"/>\n",
       "<text text-anchor=\"start\" x=\"179\" y=\"-4496.75\" font-family=\"Linux libertine\" font-size=\"10.00\">LayerNorm</text>\n",
       "<text text-anchor=\"start\" x=\"187.62\" y=\"-4484\" font-family=\"Linux libertine\" font-size=\"10.00\">depth:3</text>\n",
       "<polygon fill=\"none\" stroke=\"black\" points=\"238,-4493.5 238,-4515.5 285,-4515.5 285,-4493.5 238,-4493.5\"/>\n",
       "<text text-anchor=\"start\" x=\"247.62\" y=\"-4501\" font-family=\"Linux libertine\" font-size=\"10.00\">input:</text>\n",
       "<polygon fill=\"none\" stroke=\"black\" points=\"285,-4493.5 285,-4515.5 347,-4515.5 347,-4493.5 285,-4493.5\"/>\n",
       "<text text-anchor=\"start\" x=\"289.75\" y=\"-4501\" font-family=\"Linux libertine\" font-size=\"10.00\">(5, 45, 64) </text>\n",
       "<polygon fill=\"none\" stroke=\"black\" points=\"238,-4471.5 238,-4493.5 285,-4493.5 285,-4471.5 238,-4471.5\"/>\n",
       "<text text-anchor=\"start\" x=\"242.75\" y=\"-4479\" font-family=\"Linux libertine\" font-size=\"10.00\">output: </text>\n",
       "<polygon fill=\"none\" stroke=\"black\" points=\"285,-4471.5 285,-4493.5 347,-4493.5 347,-4471.5 285,-4471.5\"/>\n",
       "<text text-anchor=\"start\" x=\"289.75\" y=\"-4479\" font-family=\"Linux libertine\" font-size=\"10.00\">(5, 45, 64) </text>\n",
       "</g>\n",
       "<!-- 9&#45;&gt;10 -->\n",
       "<g id=\"edge11\" class=\"edge\">\n",
       "<title>9&#45;&gt;10</title>\n",
       "<path fill=\"none\" stroke=\"black\" d=\"M201.21,-4551.6C210.38,-4542.77 221.2,-4532.35 231.07,-4522.84\"/>\n",
       "<polygon fill=\"black\" stroke=\"black\" points=\"232.96,-4525.92 237.73,-4516.46 228.1,-4520.88 232.96,-4525.92\"/>\n",
       "</g>\n",
       "<!-- 12 -->\n",
       "<g id=\"node13\" class=\"node\">\n",
       "<title>12</title>\n",
       "<polygon fill=\"aliceblue\" stroke=\"none\" points=\"290,-4355.5 117,-4355.5 117,-4311.5 290,-4311.5 290,-4355.5\"/>\n",
       "<polygon fill=\"none\" stroke=\"black\" points=\"117,-4311.5 117,-4355.5 163,-4355.5 163,-4311.5 117,-4311.5\"/>\n",
       "<text text-anchor=\"start\" x=\"131\" y=\"-4336.75\" font-family=\"Linux libertine\" font-size=\"10.00\">add</text>\n",
       "<text text-anchor=\"start\" x=\"121.62\" y=\"-4324\" font-family=\"Linux libertine\" font-size=\"10.00\">depth:3</text>\n",
       "<polygon fill=\"none\" stroke=\"black\" points=\"163,-4333.5 163,-4355.5 210,-4355.5 210,-4333.5 163,-4333.5\"/>\n",
       "<text text-anchor=\"start\" x=\"172.62\" y=\"-4341\" font-family=\"Linux libertine\" font-size=\"10.00\">input:</text>\n",
       "<polygon fill=\"none\" stroke=\"black\" points=\"210,-4333.5 210,-4355.5 290,-4355.5 290,-4333.5 210,-4333.5\"/>\n",
       "<text text-anchor=\"start\" x=\"214.75\" y=\"-4341\" font-family=\"Linux libertine\" font-size=\"10.00\">2 x (5, 45, 64) </text>\n",
       "<polygon fill=\"none\" stroke=\"black\" points=\"163,-4311.5 163,-4333.5 210,-4333.5 210,-4311.5 163,-4311.5\"/>\n",
       "<text text-anchor=\"start\" x=\"167.75\" y=\"-4319\" font-family=\"Linux libertine\" font-size=\"10.00\">output: </text>\n",
       "<polygon fill=\"none\" stroke=\"black\" points=\"210,-4311.5 210,-4333.5 290,-4333.5 290,-4311.5 210,-4311.5\"/>\n",
       "<text text-anchor=\"start\" x=\"223.75\" y=\"-4319\" font-family=\"Linux libertine\" font-size=\"10.00\">(5, 45, 64) </text>\n",
       "</g>\n",
       "<!-- 9&#45;&gt;12 -->\n",
       "<g id=\"edge12\" class=\"edge\">\n",
       "<title>9&#45;&gt;12</title>\n",
       "<path fill=\"none\" stroke=\"black\" d=\"M167.15,-4551.57C148.43,-4516.95 117.49,-4446.18 141.5,-4391.5 146.32,-4380.53 154.4,-4370.75 163.16,-4362.51\"/>\n",
       "<polygon fill=\"black\" stroke=\"black\" points=\"165.09,-4364.6 170.33,-4355.39 160.49,-4359.32 165.09,-4364.6\"/>\n",
       "</g>\n",
       "<!-- 11 -->\n",
       "<g id=\"node12\" class=\"node\">\n",
       "<title>11</title>\n",
       "<polygon fill=\"#c1ffc1\" stroke=\"none\" points=\"418.5,-4435.5 150.5,-4435.5 150.5,-4391.5 418.5,-4391.5 418.5,-4435.5\"/>\n",
       "<polygon fill=\"none\" stroke=\"black\" points=\"150.5,-4391.5 150.5,-4435.5 253.5,-4435.5 253.5,-4391.5 150.5,-4391.5\"/>\n",
       "<text text-anchor=\"start\" x=\"155.12\" y=\"-4416.75\" font-family=\"Linux libertine\" font-size=\"10.00\">MultiheadAttention</text>\n",
       "<text text-anchor=\"start\" x=\"183.62\" y=\"-4404\" font-family=\"Linux libertine\" font-size=\"10.00\">depth:3</text>\n",
       "<polygon fill=\"none\" stroke=\"black\" points=\"253.5,-4413.5 253.5,-4435.5 300.5,-4435.5 300.5,-4413.5 253.5,-4413.5\"/>\n",
       "<text text-anchor=\"start\" x=\"263.12\" y=\"-4421\" font-family=\"Linux libertine\" font-size=\"10.00\">input:</text>\n",
       "<polygon fill=\"none\" stroke=\"black\" points=\"300.5,-4413.5 300.5,-4435.5 418.5,-4435.5 418.5,-4413.5 300.5,-4413.5\"/>\n",
       "<text text-anchor=\"start\" x=\"324.25\" y=\"-4421\" font-family=\"Linux libertine\" font-size=\"10.00\">3 x (5, 45, 64) </text>\n",
       "<polygon fill=\"none\" stroke=\"black\" points=\"253.5,-4391.5 253.5,-4413.5 300.5,-4413.5 300.5,-4391.5 253.5,-4391.5\"/>\n",
       "<text text-anchor=\"start\" x=\"258.25\" y=\"-4399\" font-family=\"Linux libertine\" font-size=\"10.00\">output: </text>\n",
       "<polygon fill=\"none\" stroke=\"black\" points=\"300.5,-4391.5 300.5,-4413.5 418.5,-4413.5 418.5,-4391.5 300.5,-4391.5\"/>\n",
       "<text text-anchor=\"start\" x=\"305.5\" y=\"-4399\" font-family=\"Linux libertine\" font-size=\"10.00\">(5, 45, 64), (5, 45, 45) </text>\n",
       "</g>\n",
       "<!-- 10&#45;&gt;11 -->\n",
       "<g id=\"edge13\" class=\"edge\">\n",
       "<title>10&#45;&gt;11</title>\n",
       "<path fill=\"none\" stroke=\"black\" d=\"M266.93,-4471.6C269.38,-4463.64 272.23,-4454.39 274.9,-4445.69\"/>\n",
       "<polygon fill=\"black\" stroke=\"black\" points=\"278.45,-4447.05 278.05,-4436.46 271.76,-4444.99 278.45,-4447.05\"/>\n",
       "</g>\n",
       "<!-- 11&#45;&gt;12 -->\n",
       "<g id=\"edge14\" class=\"edge\">\n",
       "<title>11&#45;&gt;12</title>\n",
       "<path fill=\"none\" stroke=\"black\" d=\"M262.79,-4391.6C253.62,-4382.77 242.8,-4372.35 232.93,-4362.84\"/>\n",
       "<polygon fill=\"black\" stroke=\"black\" points=\"235.9,-4360.88 226.27,-4356.46 231.04,-4365.92 235.9,-4360.88\"/>\n",
       "</g>\n",
       "<!-- 13 -->\n",
       "<g id=\"node14\" class=\"node\">\n",
       "<title>13</title>\n",
       "<polygon fill=\"#c1ffc1\" stroke=\"none\" points=\"348,-4275.5 175,-4275.5 175,-4231.5 348,-4231.5 348,-4275.5\"/>\n",
       "<polygon fill=\"none\" stroke=\"black\" points=\"175,-4231.5 175,-4275.5 239,-4275.5 239,-4231.5 175,-4231.5\"/>\n",
       "<text text-anchor=\"start\" x=\"180\" y=\"-4256.75\" font-family=\"Linux libertine\" font-size=\"10.00\">LayerNorm</text>\n",
       "<text text-anchor=\"start\" x=\"188.62\" y=\"-4244\" font-family=\"Linux libertine\" font-size=\"10.00\">depth:3</text>\n",
       "<polygon fill=\"none\" stroke=\"black\" points=\"239,-4253.5 239,-4275.5 286,-4275.5 286,-4253.5 239,-4253.5\"/>\n",
       "<text text-anchor=\"start\" x=\"248.62\" y=\"-4261\" font-family=\"Linux libertine\" font-size=\"10.00\">input:</text>\n",
       "<polygon fill=\"none\" stroke=\"black\" points=\"286,-4253.5 286,-4275.5 348,-4275.5 348,-4253.5 286,-4253.5\"/>\n",
       "<text text-anchor=\"start\" x=\"290.75\" y=\"-4261\" font-family=\"Linux libertine\" font-size=\"10.00\">(5, 45, 64) </text>\n",
       "<polygon fill=\"none\" stroke=\"black\" points=\"239,-4231.5 239,-4253.5 286,-4253.5 286,-4231.5 239,-4231.5\"/>\n",
       "<text text-anchor=\"start\" x=\"243.75\" y=\"-4239\" font-family=\"Linux libertine\" font-size=\"10.00\">output: </text>\n",
       "<polygon fill=\"none\" stroke=\"black\" points=\"286,-4231.5 286,-4253.5 348,-4253.5 348,-4231.5 286,-4231.5\"/>\n",
       "<text text-anchor=\"start\" x=\"290.75\" y=\"-4239\" font-family=\"Linux libertine\" font-size=\"10.00\">(5, 45, 64) </text>\n",
       "</g>\n",
       "<!-- 12&#45;&gt;13 -->\n",
       "<g id=\"edge15\" class=\"edge\">\n",
       "<title>12&#45;&gt;13</title>\n",
       "<path fill=\"none\" stroke=\"black\" d=\"M219.04,-4311.6C225.28,-4303.2 232.59,-4293.37 239.37,-4284.26\"/>\n",
       "<polygon fill=\"black\" stroke=\"black\" points=\"242.76,-4286.57 245.91,-4276.46 237.14,-4282.4 242.76,-4286.57\"/>\n",
       "</g>\n",
       "<!-- 16 -->\n",
       "<g id=\"node17\" class=\"node\">\n",
       "<title>16</title>\n",
       "<polygon fill=\"aliceblue\" stroke=\"none\" points=\"286,-4035.5 113,-4035.5 113,-3991.5 286,-3991.5 286,-4035.5\"/>\n",
       "<polygon fill=\"none\" stroke=\"black\" points=\"113,-3991.5 113,-4035.5 159,-4035.5 159,-3991.5 113,-3991.5\"/>\n",
       "<text text-anchor=\"start\" x=\"127\" y=\"-4016.75\" font-family=\"Linux libertine\" font-size=\"10.00\">add</text>\n",
       "<text text-anchor=\"start\" x=\"117.62\" y=\"-4004\" font-family=\"Linux libertine\" font-size=\"10.00\">depth:3</text>\n",
       "<polygon fill=\"none\" stroke=\"black\" points=\"159,-4013.5 159,-4035.5 206,-4035.5 206,-4013.5 159,-4013.5\"/>\n",
       "<text text-anchor=\"start\" x=\"168.62\" y=\"-4021\" font-family=\"Linux libertine\" font-size=\"10.00\">input:</text>\n",
       "<polygon fill=\"none\" stroke=\"black\" points=\"206,-4013.5 206,-4035.5 286,-4035.5 286,-4013.5 206,-4013.5\"/>\n",
       "<text text-anchor=\"start\" x=\"210.75\" y=\"-4021\" font-family=\"Linux libertine\" font-size=\"10.00\">2 x (5, 45, 64) </text>\n",
       "<polygon fill=\"none\" stroke=\"black\" points=\"159,-3991.5 159,-4013.5 206,-4013.5 206,-3991.5 159,-3991.5\"/>\n",
       "<text text-anchor=\"start\" x=\"163.75\" y=\"-3999\" font-family=\"Linux libertine\" font-size=\"10.00\">output: </text>\n",
       "<polygon fill=\"none\" stroke=\"black\" points=\"206,-3991.5 206,-4013.5 286,-4013.5 286,-3991.5 206,-3991.5\"/>\n",
       "<text text-anchor=\"start\" x=\"219.75\" y=\"-3999\" font-family=\"Linux libertine\" font-size=\"10.00\">(5, 45, 64) </text>\n",
       "</g>\n",
       "<!-- 12&#45;&gt;16 -->\n",
       "<g id=\"edge16\" class=\"edge\">\n",
       "<title>12&#45;&gt;16</title>\n",
       "<path fill=\"none\" stroke=\"black\" d=\"M185.22,-4311.59C177.53,-4301.42 169.46,-4288.59 165.5,-4275.5 155.43,-4242.24 138.7,-4189.8 169.5,-4071.5 171.84,-4062.5 175.83,-4053.33 180.15,-4045.05\"/>\n",
       "<polygon fill=\"black\" stroke=\"black\" points=\"183.68,-4046.91 185.49,-4036.47 177.56,-4043.5 183.68,-4046.91\"/>\n",
       "</g>\n",
       "<!-- 14 -->\n",
       "<g id=\"node15\" class=\"node\">\n",
       "<title>14</title>\n",
       "<polygon fill=\"#c1ffc1\" stroke=\"none\" points=\"336,-4195.5 181,-4195.5 181,-4151.5 336,-4151.5 336,-4195.5\"/>\n",
       "<polygon fill=\"none\" stroke=\"black\" points=\"181,-4151.5 181,-4195.5 227,-4195.5 227,-4151.5 181,-4151.5\"/>\n",
       "<text text-anchor=\"start\" x=\"189\" y=\"-4176.75\" font-family=\"Linux libertine\" font-size=\"10.00\">Linear</text>\n",
       "<text text-anchor=\"start\" x=\"185.62\" y=\"-4164\" font-family=\"Linux libertine\" font-size=\"10.00\">depth:3</text>\n",
       "<polygon fill=\"none\" stroke=\"black\" points=\"227,-4173.5 227,-4195.5 274,-4195.5 274,-4173.5 227,-4173.5\"/>\n",
       "<text text-anchor=\"start\" x=\"236.62\" y=\"-4181\" font-family=\"Linux libertine\" font-size=\"10.00\">input:</text>\n",
       "<polygon fill=\"none\" stroke=\"black\" points=\"274,-4173.5 274,-4195.5 336,-4195.5 336,-4173.5 274,-4173.5\"/>\n",
       "<text text-anchor=\"start\" x=\"278.75\" y=\"-4181\" font-family=\"Linux libertine\" font-size=\"10.00\">(5, 45, 64) </text>\n",
       "<polygon fill=\"none\" stroke=\"black\" points=\"227,-4151.5 227,-4173.5 274,-4173.5 274,-4151.5 227,-4151.5\"/>\n",
       "<text text-anchor=\"start\" x=\"231.75\" y=\"-4159\" font-family=\"Linux libertine\" font-size=\"10.00\">output: </text>\n",
       "<polygon fill=\"none\" stroke=\"black\" points=\"274,-4151.5 274,-4173.5 336,-4173.5 336,-4151.5 274,-4151.5\"/>\n",
       "<text text-anchor=\"start\" x=\"278.75\" y=\"-4159\" font-family=\"Linux libertine\" font-size=\"10.00\">(5, 45, 64) </text>\n",
       "</g>\n",
       "<!-- 13&#45;&gt;14 -->\n",
       "<g id=\"edge17\" class=\"edge\">\n",
       "<title>13&#45;&gt;14</title>\n",
       "<path fill=\"none\" stroke=\"black\" d=\"M260.7,-4231.6C260.4,-4223.82 260.05,-4214.8 259.72,-4206.26\"/>\n",
       "<polygon fill=\"black\" stroke=\"black\" points=\"263.19,-4206.32 259.31,-4196.46 256.19,-4206.59 263.19,-4206.32\"/>\n",
       "</g>\n",
       "<!-- 15 -->\n",
       "<g id=\"node16\" class=\"node\">\n",
       "<title>15</title>\n",
       "<polygon fill=\"#c1ffc1\" stroke=\"none\" points=\"334,-4115.5 179,-4115.5 179,-4071.5 334,-4071.5 334,-4115.5\"/>\n",
       "<polygon fill=\"none\" stroke=\"black\" points=\"179,-4071.5 179,-4115.5 225,-4115.5 225,-4071.5 179,-4071.5\"/>\n",
       "<text text-anchor=\"start\" x=\"188.88\" y=\"-4096.75\" font-family=\"Linux libertine\" font-size=\"10.00\">GELU</text>\n",
       "<text text-anchor=\"start\" x=\"183.62\" y=\"-4084\" font-family=\"Linux libertine\" font-size=\"10.00\">depth:3</text>\n",
       "<polygon fill=\"none\" stroke=\"black\" points=\"225,-4093.5 225,-4115.5 272,-4115.5 272,-4093.5 225,-4093.5\"/>\n",
       "<text text-anchor=\"start\" x=\"234.62\" y=\"-4101\" font-family=\"Linux libertine\" font-size=\"10.00\">input:</text>\n",
       "<polygon fill=\"none\" stroke=\"black\" points=\"272,-4093.5 272,-4115.5 334,-4115.5 334,-4093.5 272,-4093.5\"/>\n",
       "<text text-anchor=\"start\" x=\"276.75\" y=\"-4101\" font-family=\"Linux libertine\" font-size=\"10.00\">(5, 45, 64) </text>\n",
       "<polygon fill=\"none\" stroke=\"black\" points=\"225,-4071.5 225,-4093.5 272,-4093.5 272,-4071.5 225,-4071.5\"/>\n",
       "<text text-anchor=\"start\" x=\"229.75\" y=\"-4079\" font-family=\"Linux libertine\" font-size=\"10.00\">output: </text>\n",
       "<polygon fill=\"none\" stroke=\"black\" points=\"272,-4071.5 272,-4093.5 334,-4093.5 334,-4071.5 272,-4071.5\"/>\n",
       "<text text-anchor=\"start\" x=\"276.75\" y=\"-4079\" font-family=\"Linux libertine\" font-size=\"10.00\">(5, 45, 64) </text>\n",
       "</g>\n",
       "<!-- 14&#45;&gt;15 -->\n",
       "<g id=\"edge18\" class=\"edge\">\n",
       "<title>14&#45;&gt;15</title>\n",
       "<path fill=\"none\" stroke=\"black\" d=\"M257.96,-4151.6C257.76,-4143.82 257.53,-4134.8 257.31,-4126.26\"/>\n",
       "<polygon fill=\"black\" stroke=\"black\" points=\"260.79,-4126.37 257.04,-4116.46 253.8,-4126.55 260.79,-4126.37\"/>\n",
       "</g>\n",
       "<!-- 15&#45;&gt;16 -->\n",
       "<g id=\"edge19\" class=\"edge\">\n",
       "<title>15&#45;&gt;16</title>\n",
       "<path fill=\"none\" stroke=\"black\" d=\"M241.23,-4071.6C235.09,-4063.2 227.91,-4053.37 221.25,-4044.26\"/>\n",
       "<polygon fill=\"black\" stroke=\"black\" points=\"223.54,-4042.47 214.82,-4036.46 217.89,-4046.6 223.54,-4042.47\"/>\n",
       "</g>\n",
       "<!-- 17 -->\n",
       "<g id=\"node18\" class=\"node\">\n",
       "<title>17</title>\n",
       "<polygon fill=\"#c1ffc1\" stroke=\"none\" points=\"367,-3955.5 194,-3955.5 194,-3911.5 367,-3911.5 367,-3955.5\"/>\n",
       "<polygon fill=\"none\" stroke=\"black\" points=\"194,-3911.5 194,-3955.5 258,-3955.5 258,-3911.5 194,-3911.5\"/>\n",
       "<text text-anchor=\"start\" x=\"199\" y=\"-3936.75\" font-family=\"Linux libertine\" font-size=\"10.00\">LayerNorm</text>\n",
       "<text text-anchor=\"start\" x=\"207.62\" y=\"-3924\" font-family=\"Linux libertine\" font-size=\"10.00\">depth:3</text>\n",
       "<polygon fill=\"none\" stroke=\"black\" points=\"258,-3933.5 258,-3955.5 305,-3955.5 305,-3933.5 258,-3933.5\"/>\n",
       "<text text-anchor=\"start\" x=\"267.62\" y=\"-3941\" font-family=\"Linux libertine\" font-size=\"10.00\">input:</text>\n",
       "<polygon fill=\"none\" stroke=\"black\" points=\"305,-3933.5 305,-3955.5 367,-3955.5 367,-3933.5 305,-3933.5\"/>\n",
       "<text text-anchor=\"start\" x=\"309.75\" y=\"-3941\" font-family=\"Linux libertine\" font-size=\"10.00\">(5, 45, 64) </text>\n",
       "<polygon fill=\"none\" stroke=\"black\" points=\"258,-3911.5 258,-3933.5 305,-3933.5 305,-3911.5 258,-3911.5\"/>\n",
       "<text text-anchor=\"start\" x=\"262.75\" y=\"-3919\" font-family=\"Linux libertine\" font-size=\"10.00\">output: </text>\n",
       "<polygon fill=\"none\" stroke=\"black\" points=\"305,-3911.5 305,-3933.5 367,-3933.5 367,-3911.5 305,-3911.5\"/>\n",
       "<text text-anchor=\"start\" x=\"309.75\" y=\"-3919\" font-family=\"Linux libertine\" font-size=\"10.00\">(5, 45, 64) </text>\n",
       "</g>\n",
       "<!-- 16&#45;&gt;17 -->\n",
       "<g id=\"edge20\" class=\"edge\">\n",
       "<title>16&#45;&gt;17</title>\n",
       "<path fill=\"none\" stroke=\"black\" d=\"M221.21,-3991.6C230.38,-3982.77 241.2,-3972.35 251.07,-3962.84\"/>\n",
       "<polygon fill=\"black\" stroke=\"black\" points=\"252.96,-3965.92 257.73,-3956.46 248.1,-3960.88 252.96,-3965.92\"/>\n",
       "</g>\n",
       "<!-- 19 -->\n",
       "<g id=\"node20\" class=\"node\">\n",
       "<title>19</title>\n",
       "<polygon fill=\"aliceblue\" stroke=\"none\" points=\"310,-3795.5 137,-3795.5 137,-3751.5 310,-3751.5 310,-3795.5\"/>\n",
       "<polygon fill=\"none\" stroke=\"black\" points=\"137,-3751.5 137,-3795.5 183,-3795.5 183,-3751.5 137,-3751.5\"/>\n",
       "<text text-anchor=\"start\" x=\"151\" y=\"-3776.75\" font-family=\"Linux libertine\" font-size=\"10.00\">add</text>\n",
       "<text text-anchor=\"start\" x=\"141.62\" y=\"-3764\" font-family=\"Linux libertine\" font-size=\"10.00\">depth:3</text>\n",
       "<polygon fill=\"none\" stroke=\"black\" points=\"183,-3773.5 183,-3795.5 230,-3795.5 230,-3773.5 183,-3773.5\"/>\n",
       "<text text-anchor=\"start\" x=\"192.62\" y=\"-3781\" font-family=\"Linux libertine\" font-size=\"10.00\">input:</text>\n",
       "<polygon fill=\"none\" stroke=\"black\" points=\"230,-3773.5 230,-3795.5 310,-3795.5 310,-3773.5 230,-3773.5\"/>\n",
       "<text text-anchor=\"start\" x=\"234.75\" y=\"-3781\" font-family=\"Linux libertine\" font-size=\"10.00\">2 x (5, 45, 64) </text>\n",
       "<polygon fill=\"none\" stroke=\"black\" points=\"183,-3751.5 183,-3773.5 230,-3773.5 230,-3751.5 183,-3751.5\"/>\n",
       "<text text-anchor=\"start\" x=\"187.75\" y=\"-3759\" font-family=\"Linux libertine\" font-size=\"10.00\">output: </text>\n",
       "<polygon fill=\"none\" stroke=\"black\" points=\"230,-3751.5 230,-3773.5 310,-3773.5 310,-3751.5 230,-3751.5\"/>\n",
       "<text text-anchor=\"start\" x=\"243.75\" y=\"-3759\" font-family=\"Linux libertine\" font-size=\"10.00\">(5, 45, 64) </text>\n",
       "</g>\n",
       "<!-- 16&#45;&gt;19 -->\n",
       "<g id=\"edge21\" class=\"edge\">\n",
       "<title>16&#45;&gt;19</title>\n",
       "<path fill=\"none\" stroke=\"black\" d=\"M187.15,-3991.57C168.43,-3956.95 137.49,-3886.18 161.5,-3831.5 166.32,-3820.53 174.4,-3810.75 183.16,-3802.51\"/>\n",
       "<polygon fill=\"black\" stroke=\"black\" points=\"185.09,-3804.6 190.33,-3795.39 180.49,-3799.32 185.09,-3804.6\"/>\n",
       "</g>\n",
       "<!-- 18 -->\n",
       "<g id=\"node19\" class=\"node\">\n",
       "<title>18</title>\n",
       "<polygon fill=\"#c1ffc1\" stroke=\"none\" points=\"438.5,-3875.5 170.5,-3875.5 170.5,-3831.5 438.5,-3831.5 438.5,-3875.5\"/>\n",
       "<polygon fill=\"none\" stroke=\"black\" points=\"170.5,-3831.5 170.5,-3875.5 273.5,-3875.5 273.5,-3831.5 170.5,-3831.5\"/>\n",
       "<text text-anchor=\"start\" x=\"175.12\" y=\"-3856.75\" font-family=\"Linux libertine\" font-size=\"10.00\">MultiheadAttention</text>\n",
       "<text text-anchor=\"start\" x=\"203.62\" y=\"-3844\" font-family=\"Linux libertine\" font-size=\"10.00\">depth:3</text>\n",
       "<polygon fill=\"none\" stroke=\"black\" points=\"273.5,-3853.5 273.5,-3875.5 320.5,-3875.5 320.5,-3853.5 273.5,-3853.5\"/>\n",
       "<text text-anchor=\"start\" x=\"283.12\" y=\"-3861\" font-family=\"Linux libertine\" font-size=\"10.00\">input:</text>\n",
       "<polygon fill=\"none\" stroke=\"black\" points=\"320.5,-3853.5 320.5,-3875.5 438.5,-3875.5 438.5,-3853.5 320.5,-3853.5\"/>\n",
       "<text text-anchor=\"start\" x=\"344.25\" y=\"-3861\" font-family=\"Linux libertine\" font-size=\"10.00\">3 x (5, 45, 64) </text>\n",
       "<polygon fill=\"none\" stroke=\"black\" points=\"273.5,-3831.5 273.5,-3853.5 320.5,-3853.5 320.5,-3831.5 273.5,-3831.5\"/>\n",
       "<text text-anchor=\"start\" x=\"278.25\" y=\"-3839\" font-family=\"Linux libertine\" font-size=\"10.00\">output: </text>\n",
       "<polygon fill=\"none\" stroke=\"black\" points=\"320.5,-3831.5 320.5,-3853.5 438.5,-3853.5 438.5,-3831.5 320.5,-3831.5\"/>\n",
       "<text text-anchor=\"start\" x=\"325.5\" y=\"-3839\" font-family=\"Linux libertine\" font-size=\"10.00\">(5, 45, 64), (5, 45, 45) </text>\n",
       "</g>\n",
       "<!-- 17&#45;&gt;18 -->\n",
       "<g id=\"edge22\" class=\"edge\">\n",
       "<title>17&#45;&gt;18</title>\n",
       "<path fill=\"none\" stroke=\"black\" d=\"M286.93,-3911.6C289.38,-3903.64 292.23,-3894.39 294.9,-3885.69\"/>\n",
       "<polygon fill=\"black\" stroke=\"black\" points=\"298.45,-3887.05 298.05,-3876.46 291.76,-3884.99 298.45,-3887.05\"/>\n",
       "</g>\n",
       "<!-- 18&#45;&gt;19 -->\n",
       "<g id=\"edge23\" class=\"edge\">\n",
       "<title>18&#45;&gt;19</title>\n",
       "<path fill=\"none\" stroke=\"black\" d=\"M282.79,-3831.6C273.62,-3822.77 262.8,-3812.35 252.93,-3802.84\"/>\n",
       "<polygon fill=\"black\" stroke=\"black\" points=\"255.9,-3800.88 246.27,-3796.46 251.04,-3805.92 255.9,-3800.88\"/>\n",
       "</g>\n",
       "<!-- 20 -->\n",
       "<g id=\"node21\" class=\"node\">\n",
       "<title>20</title>\n",
       "<polygon fill=\"#c1ffc1\" stroke=\"none\" points=\"368,-3715.5 195,-3715.5 195,-3671.5 368,-3671.5 368,-3715.5\"/>\n",
       "<polygon fill=\"none\" stroke=\"black\" points=\"195,-3671.5 195,-3715.5 259,-3715.5 259,-3671.5 195,-3671.5\"/>\n",
       "<text text-anchor=\"start\" x=\"200\" y=\"-3696.75\" font-family=\"Linux libertine\" font-size=\"10.00\">LayerNorm</text>\n",
       "<text text-anchor=\"start\" x=\"208.62\" y=\"-3684\" font-family=\"Linux libertine\" font-size=\"10.00\">depth:3</text>\n",
       "<polygon fill=\"none\" stroke=\"black\" points=\"259,-3693.5 259,-3715.5 306,-3715.5 306,-3693.5 259,-3693.5\"/>\n",
       "<text text-anchor=\"start\" x=\"268.62\" y=\"-3701\" font-family=\"Linux libertine\" font-size=\"10.00\">input:</text>\n",
       "<polygon fill=\"none\" stroke=\"black\" points=\"306,-3693.5 306,-3715.5 368,-3715.5 368,-3693.5 306,-3693.5\"/>\n",
       "<text text-anchor=\"start\" x=\"310.75\" y=\"-3701\" font-family=\"Linux libertine\" font-size=\"10.00\">(5, 45, 64) </text>\n",
       "<polygon fill=\"none\" stroke=\"black\" points=\"259,-3671.5 259,-3693.5 306,-3693.5 306,-3671.5 259,-3671.5\"/>\n",
       "<text text-anchor=\"start\" x=\"263.75\" y=\"-3679\" font-family=\"Linux libertine\" font-size=\"10.00\">output: </text>\n",
       "<polygon fill=\"none\" stroke=\"black\" points=\"306,-3671.5 306,-3693.5 368,-3693.5 368,-3671.5 306,-3671.5\"/>\n",
       "<text text-anchor=\"start\" x=\"310.75\" y=\"-3679\" font-family=\"Linux libertine\" font-size=\"10.00\">(5, 45, 64) </text>\n",
       "</g>\n",
       "<!-- 19&#45;&gt;20 -->\n",
       "<g id=\"edge24\" class=\"edge\">\n",
       "<title>19&#45;&gt;20</title>\n",
       "<path fill=\"none\" stroke=\"black\" d=\"M239.04,-3751.6C245.28,-3743.2 252.59,-3733.37 259.37,-3724.26\"/>\n",
       "<polygon fill=\"black\" stroke=\"black\" points=\"262.76,-3726.57 265.91,-3716.46 257.14,-3722.4 262.76,-3726.57\"/>\n",
       "</g>\n",
       "<!-- 23 -->\n",
       "<g id=\"node24\" class=\"node\">\n",
       "<title>23</title>\n",
       "<polygon fill=\"aliceblue\" stroke=\"none\" points=\"306,-3475.5 133,-3475.5 133,-3431.5 306,-3431.5 306,-3475.5\"/>\n",
       "<polygon fill=\"none\" stroke=\"black\" points=\"133,-3431.5 133,-3475.5 179,-3475.5 179,-3431.5 133,-3431.5\"/>\n",
       "<text text-anchor=\"start\" x=\"147\" y=\"-3456.75\" font-family=\"Linux libertine\" font-size=\"10.00\">add</text>\n",
       "<text text-anchor=\"start\" x=\"137.62\" y=\"-3444\" font-family=\"Linux libertine\" font-size=\"10.00\">depth:3</text>\n",
       "<polygon fill=\"none\" stroke=\"black\" points=\"179,-3453.5 179,-3475.5 226,-3475.5 226,-3453.5 179,-3453.5\"/>\n",
       "<text text-anchor=\"start\" x=\"188.62\" y=\"-3461\" font-family=\"Linux libertine\" font-size=\"10.00\">input:</text>\n",
       "<polygon fill=\"none\" stroke=\"black\" points=\"226,-3453.5 226,-3475.5 306,-3475.5 306,-3453.5 226,-3453.5\"/>\n",
       "<text text-anchor=\"start\" x=\"230.75\" y=\"-3461\" font-family=\"Linux libertine\" font-size=\"10.00\">2 x (5, 45, 64) </text>\n",
       "<polygon fill=\"none\" stroke=\"black\" points=\"179,-3431.5 179,-3453.5 226,-3453.5 226,-3431.5 179,-3431.5\"/>\n",
       "<text text-anchor=\"start\" x=\"183.75\" y=\"-3439\" font-family=\"Linux libertine\" font-size=\"10.00\">output: </text>\n",
       "<polygon fill=\"none\" stroke=\"black\" points=\"226,-3431.5 226,-3453.5 306,-3453.5 306,-3431.5 226,-3431.5\"/>\n",
       "<text text-anchor=\"start\" x=\"239.75\" y=\"-3439\" font-family=\"Linux libertine\" font-size=\"10.00\">(5, 45, 64) </text>\n",
       "</g>\n",
       "<!-- 19&#45;&gt;23 -->\n",
       "<g id=\"edge25\" class=\"edge\">\n",
       "<title>19&#45;&gt;23</title>\n",
       "<path fill=\"none\" stroke=\"black\" d=\"M205.22,-3751.59C197.53,-3741.42 189.46,-3728.59 185.5,-3715.5 175.43,-3682.24 158.7,-3629.8 189.5,-3511.5 191.84,-3502.5 195.83,-3493.33 200.15,-3485.05\"/>\n",
       "<polygon fill=\"black\" stroke=\"black\" points=\"203.68,-3486.91 205.49,-3476.47 197.56,-3483.5 203.68,-3486.91\"/>\n",
       "</g>\n",
       "<!-- 21 -->\n",
       "<g id=\"node22\" class=\"node\">\n",
       "<title>21</title>\n",
       "<polygon fill=\"#c1ffc1\" stroke=\"none\" points=\"356,-3635.5 201,-3635.5 201,-3591.5 356,-3591.5 356,-3635.5\"/>\n",
       "<polygon fill=\"none\" stroke=\"black\" points=\"201,-3591.5 201,-3635.5 247,-3635.5 247,-3591.5 201,-3591.5\"/>\n",
       "<text text-anchor=\"start\" x=\"209\" y=\"-3616.75\" font-family=\"Linux libertine\" font-size=\"10.00\">Linear</text>\n",
       "<text text-anchor=\"start\" x=\"205.62\" y=\"-3604\" font-family=\"Linux libertine\" font-size=\"10.00\">depth:3</text>\n",
       "<polygon fill=\"none\" stroke=\"black\" points=\"247,-3613.5 247,-3635.5 294,-3635.5 294,-3613.5 247,-3613.5\"/>\n",
       "<text text-anchor=\"start\" x=\"256.62\" y=\"-3621\" font-family=\"Linux libertine\" font-size=\"10.00\">input:</text>\n",
       "<polygon fill=\"none\" stroke=\"black\" points=\"294,-3613.5 294,-3635.5 356,-3635.5 356,-3613.5 294,-3613.5\"/>\n",
       "<text text-anchor=\"start\" x=\"298.75\" y=\"-3621\" font-family=\"Linux libertine\" font-size=\"10.00\">(5, 45, 64) </text>\n",
       "<polygon fill=\"none\" stroke=\"black\" points=\"247,-3591.5 247,-3613.5 294,-3613.5 294,-3591.5 247,-3591.5\"/>\n",
       "<text text-anchor=\"start\" x=\"251.75\" y=\"-3599\" font-family=\"Linux libertine\" font-size=\"10.00\">output: </text>\n",
       "<polygon fill=\"none\" stroke=\"black\" points=\"294,-3591.5 294,-3613.5 356,-3613.5 356,-3591.5 294,-3591.5\"/>\n",
       "<text text-anchor=\"start\" x=\"298.75\" y=\"-3599\" font-family=\"Linux libertine\" font-size=\"10.00\">(5, 45, 64) </text>\n",
       "</g>\n",
       "<!-- 20&#45;&gt;21 -->\n",
       "<g id=\"edge26\" class=\"edge\">\n",
       "<title>20&#45;&gt;21</title>\n",
       "<path fill=\"none\" stroke=\"black\" d=\"M280.7,-3671.6C280.4,-3663.82 280.05,-3654.8 279.72,-3646.26\"/>\n",
       "<polygon fill=\"black\" stroke=\"black\" points=\"283.19,-3646.32 279.31,-3636.46 276.19,-3646.59 283.19,-3646.32\"/>\n",
       "</g>\n",
       "<!-- 22 -->\n",
       "<g id=\"node23\" class=\"node\">\n",
       "<title>22</title>\n",
       "<polygon fill=\"#c1ffc1\" stroke=\"none\" points=\"354,-3555.5 199,-3555.5 199,-3511.5 354,-3511.5 354,-3555.5\"/>\n",
       "<polygon fill=\"none\" stroke=\"black\" points=\"199,-3511.5 199,-3555.5 245,-3555.5 245,-3511.5 199,-3511.5\"/>\n",
       "<text text-anchor=\"start\" x=\"208.88\" y=\"-3536.75\" font-family=\"Linux libertine\" font-size=\"10.00\">GELU</text>\n",
       "<text text-anchor=\"start\" x=\"203.62\" y=\"-3524\" font-family=\"Linux libertine\" font-size=\"10.00\">depth:3</text>\n",
       "<polygon fill=\"none\" stroke=\"black\" points=\"245,-3533.5 245,-3555.5 292,-3555.5 292,-3533.5 245,-3533.5\"/>\n",
       "<text text-anchor=\"start\" x=\"254.62\" y=\"-3541\" font-family=\"Linux libertine\" font-size=\"10.00\">input:</text>\n",
       "<polygon fill=\"none\" stroke=\"black\" points=\"292,-3533.5 292,-3555.5 354,-3555.5 354,-3533.5 292,-3533.5\"/>\n",
       "<text text-anchor=\"start\" x=\"296.75\" y=\"-3541\" font-family=\"Linux libertine\" font-size=\"10.00\">(5, 45, 64) </text>\n",
       "<polygon fill=\"none\" stroke=\"black\" points=\"245,-3511.5 245,-3533.5 292,-3533.5 292,-3511.5 245,-3511.5\"/>\n",
       "<text text-anchor=\"start\" x=\"249.75\" y=\"-3519\" font-family=\"Linux libertine\" font-size=\"10.00\">output: </text>\n",
       "<polygon fill=\"none\" stroke=\"black\" points=\"292,-3511.5 292,-3533.5 354,-3533.5 354,-3511.5 292,-3511.5\"/>\n",
       "<text text-anchor=\"start\" x=\"296.75\" y=\"-3519\" font-family=\"Linux libertine\" font-size=\"10.00\">(5, 45, 64) </text>\n",
       "</g>\n",
       "<!-- 21&#45;&gt;22 -->\n",
       "<g id=\"edge27\" class=\"edge\">\n",
       "<title>21&#45;&gt;22</title>\n",
       "<path fill=\"none\" stroke=\"black\" d=\"M277.96,-3591.6C277.76,-3583.82 277.53,-3574.8 277.31,-3566.26\"/>\n",
       "<polygon fill=\"black\" stroke=\"black\" points=\"280.79,-3566.37 277.04,-3556.46 273.8,-3566.55 280.79,-3566.37\"/>\n",
       "</g>\n",
       "<!-- 22&#45;&gt;23 -->\n",
       "<g id=\"edge28\" class=\"edge\">\n",
       "<title>22&#45;&gt;23</title>\n",
       "<path fill=\"none\" stroke=\"black\" d=\"M261.23,-3511.6C255.09,-3503.2 247.91,-3493.37 241.25,-3484.26\"/>\n",
       "<polygon fill=\"black\" stroke=\"black\" points=\"243.54,-3482.47 234.82,-3476.46 237.89,-3486.6 243.54,-3482.47\"/>\n",
       "</g>\n",
       "<!-- 24 -->\n",
       "<g id=\"node25\" class=\"node\">\n",
       "<title>24</title>\n",
       "<polygon fill=\"#c1ffc1\" stroke=\"none\" points=\"387,-3395.5 214,-3395.5 214,-3351.5 387,-3351.5 387,-3395.5\"/>\n",
       "<polygon fill=\"none\" stroke=\"black\" points=\"214,-3351.5 214,-3395.5 278,-3395.5 278,-3351.5 214,-3351.5\"/>\n",
       "<text text-anchor=\"start\" x=\"219\" y=\"-3376.75\" font-family=\"Linux libertine\" font-size=\"10.00\">LayerNorm</text>\n",
       "<text text-anchor=\"start\" x=\"227.62\" y=\"-3364\" font-family=\"Linux libertine\" font-size=\"10.00\">depth:3</text>\n",
       "<polygon fill=\"none\" stroke=\"black\" points=\"278,-3373.5 278,-3395.5 325,-3395.5 325,-3373.5 278,-3373.5\"/>\n",
       "<text text-anchor=\"start\" x=\"287.62\" y=\"-3381\" font-family=\"Linux libertine\" font-size=\"10.00\">input:</text>\n",
       "<polygon fill=\"none\" stroke=\"black\" points=\"325,-3373.5 325,-3395.5 387,-3395.5 387,-3373.5 325,-3373.5\"/>\n",
       "<text text-anchor=\"start\" x=\"329.75\" y=\"-3381\" font-family=\"Linux libertine\" font-size=\"10.00\">(5, 45, 64) </text>\n",
       "<polygon fill=\"none\" stroke=\"black\" points=\"278,-3351.5 278,-3373.5 325,-3373.5 325,-3351.5 278,-3351.5\"/>\n",
       "<text text-anchor=\"start\" x=\"282.75\" y=\"-3359\" font-family=\"Linux libertine\" font-size=\"10.00\">output: </text>\n",
       "<polygon fill=\"none\" stroke=\"black\" points=\"325,-3351.5 325,-3373.5 387,-3373.5 387,-3351.5 325,-3351.5\"/>\n",
       "<text text-anchor=\"start\" x=\"329.75\" y=\"-3359\" font-family=\"Linux libertine\" font-size=\"10.00\">(5, 45, 64) </text>\n",
       "</g>\n",
       "<!-- 23&#45;&gt;24 -->\n",
       "<g id=\"edge29\" class=\"edge\">\n",
       "<title>23&#45;&gt;24</title>\n",
       "<path fill=\"none\" stroke=\"black\" d=\"M241.21,-3431.6C250.38,-3422.77 261.2,-3412.35 271.07,-3402.84\"/>\n",
       "<polygon fill=\"black\" stroke=\"black\" points=\"272.96,-3405.92 277.73,-3396.46 268.1,-3400.88 272.96,-3405.92\"/>\n",
       "</g>\n",
       "<!-- 26 -->\n",
       "<g id=\"node27\" class=\"node\">\n",
       "<title>26</title>\n",
       "<polygon fill=\"aliceblue\" stroke=\"none\" points=\"330,-3235.5 157,-3235.5 157,-3191.5 330,-3191.5 330,-3235.5\"/>\n",
       "<polygon fill=\"none\" stroke=\"black\" points=\"157,-3191.5 157,-3235.5 203,-3235.5 203,-3191.5 157,-3191.5\"/>\n",
       "<text text-anchor=\"start\" x=\"171\" y=\"-3216.75\" font-family=\"Linux libertine\" font-size=\"10.00\">add</text>\n",
       "<text text-anchor=\"start\" x=\"161.62\" y=\"-3204\" font-family=\"Linux libertine\" font-size=\"10.00\">depth:3</text>\n",
       "<polygon fill=\"none\" stroke=\"black\" points=\"203,-3213.5 203,-3235.5 250,-3235.5 250,-3213.5 203,-3213.5\"/>\n",
       "<text text-anchor=\"start\" x=\"212.62\" y=\"-3221\" font-family=\"Linux libertine\" font-size=\"10.00\">input:</text>\n",
       "<polygon fill=\"none\" stroke=\"black\" points=\"250,-3213.5 250,-3235.5 330,-3235.5 330,-3213.5 250,-3213.5\"/>\n",
       "<text text-anchor=\"start\" x=\"254.75\" y=\"-3221\" font-family=\"Linux libertine\" font-size=\"10.00\">2 x (5, 45, 64) </text>\n",
       "<polygon fill=\"none\" stroke=\"black\" points=\"203,-3191.5 203,-3213.5 250,-3213.5 250,-3191.5 203,-3191.5\"/>\n",
       "<text text-anchor=\"start\" x=\"207.75\" y=\"-3199\" font-family=\"Linux libertine\" font-size=\"10.00\">output: </text>\n",
       "<polygon fill=\"none\" stroke=\"black\" points=\"250,-3191.5 250,-3213.5 330,-3213.5 330,-3191.5 250,-3191.5\"/>\n",
       "<text text-anchor=\"start\" x=\"263.75\" y=\"-3199\" font-family=\"Linux libertine\" font-size=\"10.00\">(5, 45, 64) </text>\n",
       "</g>\n",
       "<!-- 23&#45;&gt;26 -->\n",
       "<g id=\"edge30\" class=\"edge\">\n",
       "<title>23&#45;&gt;26</title>\n",
       "<path fill=\"none\" stroke=\"black\" d=\"M207.15,-3431.57C188.43,-3396.95 157.49,-3326.18 181.5,-3271.5 186.32,-3260.53 194.4,-3250.75 203.16,-3242.51\"/>\n",
       "<polygon fill=\"black\" stroke=\"black\" points=\"205.09,-3244.6 210.33,-3235.39 200.49,-3239.32 205.09,-3244.6\"/>\n",
       "</g>\n",
       "<!-- 25 -->\n",
       "<g id=\"node26\" class=\"node\">\n",
       "<title>25</title>\n",
       "<polygon fill=\"#c1ffc1\" stroke=\"none\" points=\"458.5,-3315.5 190.5,-3315.5 190.5,-3271.5 458.5,-3271.5 458.5,-3315.5\"/>\n",
       "<polygon fill=\"none\" stroke=\"black\" points=\"190.5,-3271.5 190.5,-3315.5 293.5,-3315.5 293.5,-3271.5 190.5,-3271.5\"/>\n",
       "<text text-anchor=\"start\" x=\"195.12\" y=\"-3296.75\" font-family=\"Linux libertine\" font-size=\"10.00\">MultiheadAttention</text>\n",
       "<text text-anchor=\"start\" x=\"223.62\" y=\"-3284\" font-family=\"Linux libertine\" font-size=\"10.00\">depth:3</text>\n",
       "<polygon fill=\"none\" stroke=\"black\" points=\"293.5,-3293.5 293.5,-3315.5 340.5,-3315.5 340.5,-3293.5 293.5,-3293.5\"/>\n",
       "<text text-anchor=\"start\" x=\"303.12\" y=\"-3301\" font-family=\"Linux libertine\" font-size=\"10.00\">input:</text>\n",
       "<polygon fill=\"none\" stroke=\"black\" points=\"340.5,-3293.5 340.5,-3315.5 458.5,-3315.5 458.5,-3293.5 340.5,-3293.5\"/>\n",
       "<text text-anchor=\"start\" x=\"364.25\" y=\"-3301\" font-family=\"Linux libertine\" font-size=\"10.00\">3 x (5, 45, 64) </text>\n",
       "<polygon fill=\"none\" stroke=\"black\" points=\"293.5,-3271.5 293.5,-3293.5 340.5,-3293.5 340.5,-3271.5 293.5,-3271.5\"/>\n",
       "<text text-anchor=\"start\" x=\"298.25\" y=\"-3279\" font-family=\"Linux libertine\" font-size=\"10.00\">output: </text>\n",
       "<polygon fill=\"none\" stroke=\"black\" points=\"340.5,-3271.5 340.5,-3293.5 458.5,-3293.5 458.5,-3271.5 340.5,-3271.5\"/>\n",
       "<text text-anchor=\"start\" x=\"345.5\" y=\"-3279\" font-family=\"Linux libertine\" font-size=\"10.00\">(5, 45, 64), (5, 45, 45) </text>\n",
       "</g>\n",
       "<!-- 24&#45;&gt;25 -->\n",
       "<g id=\"edge31\" class=\"edge\">\n",
       "<title>24&#45;&gt;25</title>\n",
       "<path fill=\"none\" stroke=\"black\" d=\"M306.93,-3351.6C309.38,-3343.64 312.23,-3334.39 314.9,-3325.69\"/>\n",
       "<polygon fill=\"black\" stroke=\"black\" points=\"318.45,-3327.05 318.05,-3316.46 311.76,-3324.99 318.45,-3327.05\"/>\n",
       "</g>\n",
       "<!-- 25&#45;&gt;26 -->\n",
       "<g id=\"edge32\" class=\"edge\">\n",
       "<title>25&#45;&gt;26</title>\n",
       "<path fill=\"none\" stroke=\"black\" d=\"M302.79,-3271.6C293.62,-3262.77 282.8,-3252.35 272.93,-3242.84\"/>\n",
       "<polygon fill=\"black\" stroke=\"black\" points=\"275.9,-3240.88 266.27,-3236.46 271.04,-3245.92 275.9,-3240.88\"/>\n",
       "</g>\n",
       "<!-- 27 -->\n",
       "<g id=\"node28\" class=\"node\">\n",
       "<title>27</title>\n",
       "<polygon fill=\"#c1ffc1\" stroke=\"none\" points=\"388,-3155.5 215,-3155.5 215,-3111.5 388,-3111.5 388,-3155.5\"/>\n",
       "<polygon fill=\"none\" stroke=\"black\" points=\"215,-3111.5 215,-3155.5 279,-3155.5 279,-3111.5 215,-3111.5\"/>\n",
       "<text text-anchor=\"start\" x=\"220\" y=\"-3136.75\" font-family=\"Linux libertine\" font-size=\"10.00\">LayerNorm</text>\n",
       "<text text-anchor=\"start\" x=\"228.62\" y=\"-3124\" font-family=\"Linux libertine\" font-size=\"10.00\">depth:3</text>\n",
       "<polygon fill=\"none\" stroke=\"black\" points=\"279,-3133.5 279,-3155.5 326,-3155.5 326,-3133.5 279,-3133.5\"/>\n",
       "<text text-anchor=\"start\" x=\"288.62\" y=\"-3141\" font-family=\"Linux libertine\" font-size=\"10.00\">input:</text>\n",
       "<polygon fill=\"none\" stroke=\"black\" points=\"326,-3133.5 326,-3155.5 388,-3155.5 388,-3133.5 326,-3133.5\"/>\n",
       "<text text-anchor=\"start\" x=\"330.75\" y=\"-3141\" font-family=\"Linux libertine\" font-size=\"10.00\">(5, 45, 64) </text>\n",
       "<polygon fill=\"none\" stroke=\"black\" points=\"279,-3111.5 279,-3133.5 326,-3133.5 326,-3111.5 279,-3111.5\"/>\n",
       "<text text-anchor=\"start\" x=\"283.75\" y=\"-3119\" font-family=\"Linux libertine\" font-size=\"10.00\">output: </text>\n",
       "<polygon fill=\"none\" stroke=\"black\" points=\"326,-3111.5 326,-3133.5 388,-3133.5 388,-3111.5 326,-3111.5\"/>\n",
       "<text text-anchor=\"start\" x=\"330.75\" y=\"-3119\" font-family=\"Linux libertine\" font-size=\"10.00\">(5, 45, 64) </text>\n",
       "</g>\n",
       "<!-- 26&#45;&gt;27 -->\n",
       "<g id=\"edge33\" class=\"edge\">\n",
       "<title>26&#45;&gt;27</title>\n",
       "<path fill=\"none\" stroke=\"black\" d=\"M259.04,-3191.6C265.28,-3183.2 272.59,-3173.37 279.37,-3164.26\"/>\n",
       "<polygon fill=\"black\" stroke=\"black\" points=\"282.76,-3166.57 285.91,-3156.46 277.14,-3162.4 282.76,-3166.57\"/>\n",
       "</g>\n",
       "<!-- 30 -->\n",
       "<g id=\"node31\" class=\"node\">\n",
       "<title>30</title>\n",
       "<polygon fill=\"aliceblue\" stroke=\"none\" points=\"326,-2915.5 153,-2915.5 153,-2871.5 326,-2871.5 326,-2915.5\"/>\n",
       "<polygon fill=\"none\" stroke=\"black\" points=\"153,-2871.5 153,-2915.5 199,-2915.5 199,-2871.5 153,-2871.5\"/>\n",
       "<text text-anchor=\"start\" x=\"167\" y=\"-2896.75\" font-family=\"Linux libertine\" font-size=\"10.00\">add</text>\n",
       "<text text-anchor=\"start\" x=\"157.62\" y=\"-2884\" font-family=\"Linux libertine\" font-size=\"10.00\">depth:3</text>\n",
       "<polygon fill=\"none\" stroke=\"black\" points=\"199,-2893.5 199,-2915.5 246,-2915.5 246,-2893.5 199,-2893.5\"/>\n",
       "<text text-anchor=\"start\" x=\"208.62\" y=\"-2901\" font-family=\"Linux libertine\" font-size=\"10.00\">input:</text>\n",
       "<polygon fill=\"none\" stroke=\"black\" points=\"246,-2893.5 246,-2915.5 326,-2915.5 326,-2893.5 246,-2893.5\"/>\n",
       "<text text-anchor=\"start\" x=\"250.75\" y=\"-2901\" font-family=\"Linux libertine\" font-size=\"10.00\">2 x (5, 45, 64) </text>\n",
       "<polygon fill=\"none\" stroke=\"black\" points=\"199,-2871.5 199,-2893.5 246,-2893.5 246,-2871.5 199,-2871.5\"/>\n",
       "<text text-anchor=\"start\" x=\"203.75\" y=\"-2879\" font-family=\"Linux libertine\" font-size=\"10.00\">output: </text>\n",
       "<polygon fill=\"none\" stroke=\"black\" points=\"246,-2871.5 246,-2893.5 326,-2893.5 326,-2871.5 246,-2871.5\"/>\n",
       "<text text-anchor=\"start\" x=\"259.75\" y=\"-2879\" font-family=\"Linux libertine\" font-size=\"10.00\">(5, 45, 64) </text>\n",
       "</g>\n",
       "<!-- 26&#45;&gt;30 -->\n",
       "<g id=\"edge34\" class=\"edge\">\n",
       "<title>26&#45;&gt;30</title>\n",
       "<path fill=\"none\" stroke=\"black\" d=\"M225.22,-3191.59C217.53,-3181.42 209.46,-3168.59 205.5,-3155.5 195.43,-3122.24 178.7,-3069.8 209.5,-2951.5 211.84,-2942.5 215.83,-2933.33 220.15,-2925.05\"/>\n",
       "<polygon fill=\"black\" stroke=\"black\" points=\"223.68,-2926.91 225.49,-2916.47 217.56,-2923.5 223.68,-2926.91\"/>\n",
       "</g>\n",
       "<!-- 28 -->\n",
       "<g id=\"node29\" class=\"node\">\n",
       "<title>28</title>\n",
       "<polygon fill=\"#c1ffc1\" stroke=\"none\" points=\"376,-3075.5 221,-3075.5 221,-3031.5 376,-3031.5 376,-3075.5\"/>\n",
       "<polygon fill=\"none\" stroke=\"black\" points=\"221,-3031.5 221,-3075.5 267,-3075.5 267,-3031.5 221,-3031.5\"/>\n",
       "<text text-anchor=\"start\" x=\"229\" y=\"-3056.75\" font-family=\"Linux libertine\" font-size=\"10.00\">Linear</text>\n",
       "<text text-anchor=\"start\" x=\"225.62\" y=\"-3044\" font-family=\"Linux libertine\" font-size=\"10.00\">depth:3</text>\n",
       "<polygon fill=\"none\" stroke=\"black\" points=\"267,-3053.5 267,-3075.5 314,-3075.5 314,-3053.5 267,-3053.5\"/>\n",
       "<text text-anchor=\"start\" x=\"276.62\" y=\"-3061\" font-family=\"Linux libertine\" font-size=\"10.00\">input:</text>\n",
       "<polygon fill=\"none\" stroke=\"black\" points=\"314,-3053.5 314,-3075.5 376,-3075.5 376,-3053.5 314,-3053.5\"/>\n",
       "<text text-anchor=\"start\" x=\"318.75\" y=\"-3061\" font-family=\"Linux libertine\" font-size=\"10.00\">(5, 45, 64) </text>\n",
       "<polygon fill=\"none\" stroke=\"black\" points=\"267,-3031.5 267,-3053.5 314,-3053.5 314,-3031.5 267,-3031.5\"/>\n",
       "<text text-anchor=\"start\" x=\"271.75\" y=\"-3039\" font-family=\"Linux libertine\" font-size=\"10.00\">output: </text>\n",
       "<polygon fill=\"none\" stroke=\"black\" points=\"314,-3031.5 314,-3053.5 376,-3053.5 376,-3031.5 314,-3031.5\"/>\n",
       "<text text-anchor=\"start\" x=\"318.75\" y=\"-3039\" font-family=\"Linux libertine\" font-size=\"10.00\">(5, 45, 64) </text>\n",
       "</g>\n",
       "<!-- 27&#45;&gt;28 -->\n",
       "<g id=\"edge35\" class=\"edge\">\n",
       "<title>27&#45;&gt;28</title>\n",
       "<path fill=\"none\" stroke=\"black\" d=\"M300.7,-3111.6C300.4,-3103.82 300.05,-3094.8 299.72,-3086.26\"/>\n",
       "<polygon fill=\"black\" stroke=\"black\" points=\"303.19,-3086.32 299.31,-3076.46 296.19,-3086.59 303.19,-3086.32\"/>\n",
       "</g>\n",
       "<!-- 29 -->\n",
       "<g id=\"node30\" class=\"node\">\n",
       "<title>29</title>\n",
       "<polygon fill=\"#c1ffc1\" stroke=\"none\" points=\"374,-2995.5 219,-2995.5 219,-2951.5 374,-2951.5 374,-2995.5\"/>\n",
       "<polygon fill=\"none\" stroke=\"black\" points=\"219,-2951.5 219,-2995.5 265,-2995.5 265,-2951.5 219,-2951.5\"/>\n",
       "<text text-anchor=\"start\" x=\"228.88\" y=\"-2976.75\" font-family=\"Linux libertine\" font-size=\"10.00\">GELU</text>\n",
       "<text text-anchor=\"start\" x=\"223.62\" y=\"-2964\" font-family=\"Linux libertine\" font-size=\"10.00\">depth:3</text>\n",
       "<polygon fill=\"none\" stroke=\"black\" points=\"265,-2973.5 265,-2995.5 312,-2995.5 312,-2973.5 265,-2973.5\"/>\n",
       "<text text-anchor=\"start\" x=\"274.62\" y=\"-2981\" font-family=\"Linux libertine\" font-size=\"10.00\">input:</text>\n",
       "<polygon fill=\"none\" stroke=\"black\" points=\"312,-2973.5 312,-2995.5 374,-2995.5 374,-2973.5 312,-2973.5\"/>\n",
       "<text text-anchor=\"start\" x=\"316.75\" y=\"-2981\" font-family=\"Linux libertine\" font-size=\"10.00\">(5, 45, 64) </text>\n",
       "<polygon fill=\"none\" stroke=\"black\" points=\"265,-2951.5 265,-2973.5 312,-2973.5 312,-2951.5 265,-2951.5\"/>\n",
       "<text text-anchor=\"start\" x=\"269.75\" y=\"-2959\" font-family=\"Linux libertine\" font-size=\"10.00\">output: </text>\n",
       "<polygon fill=\"none\" stroke=\"black\" points=\"312,-2951.5 312,-2973.5 374,-2973.5 374,-2951.5 312,-2951.5\"/>\n",
       "<text text-anchor=\"start\" x=\"316.75\" y=\"-2959\" font-family=\"Linux libertine\" font-size=\"10.00\">(5, 45, 64) </text>\n",
       "</g>\n",
       "<!-- 28&#45;&gt;29 -->\n",
       "<g id=\"edge36\" class=\"edge\">\n",
       "<title>28&#45;&gt;29</title>\n",
       "<path fill=\"none\" stroke=\"black\" d=\"M297.96,-3031.6C297.76,-3023.82 297.53,-3014.8 297.31,-3006.26\"/>\n",
       "<polygon fill=\"black\" stroke=\"black\" points=\"300.79,-3006.37 297.04,-2996.46 293.8,-3006.55 300.79,-3006.37\"/>\n",
       "</g>\n",
       "<!-- 29&#45;&gt;30 -->\n",
       "<g id=\"edge37\" class=\"edge\">\n",
       "<title>29&#45;&gt;30</title>\n",
       "<path fill=\"none\" stroke=\"black\" d=\"M281.23,-2951.6C275.09,-2943.2 267.91,-2933.37 261.25,-2924.26\"/>\n",
       "<polygon fill=\"black\" stroke=\"black\" points=\"263.54,-2922.47 254.82,-2916.46 257.89,-2926.6 263.54,-2922.47\"/>\n",
       "</g>\n",
       "<!-- 31 -->\n",
       "<g id=\"node32\" class=\"node\">\n",
       "<title>31</title>\n",
       "<polygon fill=\"#c1ffc1\" stroke=\"none\" points=\"407,-2835.5 234,-2835.5 234,-2791.5 407,-2791.5 407,-2835.5\"/>\n",
       "<polygon fill=\"none\" stroke=\"black\" points=\"234,-2791.5 234,-2835.5 298,-2835.5 298,-2791.5 234,-2791.5\"/>\n",
       "<text text-anchor=\"start\" x=\"239\" y=\"-2816.75\" font-family=\"Linux libertine\" font-size=\"10.00\">LayerNorm</text>\n",
       "<text text-anchor=\"start\" x=\"247.62\" y=\"-2804\" font-family=\"Linux libertine\" font-size=\"10.00\">depth:3</text>\n",
       "<polygon fill=\"none\" stroke=\"black\" points=\"298,-2813.5 298,-2835.5 345,-2835.5 345,-2813.5 298,-2813.5\"/>\n",
       "<text text-anchor=\"start\" x=\"307.62\" y=\"-2821\" font-family=\"Linux libertine\" font-size=\"10.00\">input:</text>\n",
       "<polygon fill=\"none\" stroke=\"black\" points=\"345,-2813.5 345,-2835.5 407,-2835.5 407,-2813.5 345,-2813.5\"/>\n",
       "<text text-anchor=\"start\" x=\"349.75\" y=\"-2821\" font-family=\"Linux libertine\" font-size=\"10.00\">(5, 45, 64) </text>\n",
       "<polygon fill=\"none\" stroke=\"black\" points=\"298,-2791.5 298,-2813.5 345,-2813.5 345,-2791.5 298,-2791.5\"/>\n",
       "<text text-anchor=\"start\" x=\"302.75\" y=\"-2799\" font-family=\"Linux libertine\" font-size=\"10.00\">output: </text>\n",
       "<polygon fill=\"none\" stroke=\"black\" points=\"345,-2791.5 345,-2813.5 407,-2813.5 407,-2791.5 345,-2791.5\"/>\n",
       "<text text-anchor=\"start\" x=\"349.75\" y=\"-2799\" font-family=\"Linux libertine\" font-size=\"10.00\">(5, 45, 64) </text>\n",
       "</g>\n",
       "<!-- 30&#45;&gt;31 -->\n",
       "<g id=\"edge38\" class=\"edge\">\n",
       "<title>30&#45;&gt;31</title>\n",
       "<path fill=\"none\" stroke=\"black\" d=\"M261.21,-2871.6C270.38,-2862.77 281.2,-2852.35 291.07,-2842.84\"/>\n",
       "<polygon fill=\"black\" stroke=\"black\" points=\"292.96,-2845.92 297.73,-2836.46 288.1,-2840.88 292.96,-2845.92\"/>\n",
       "</g>\n",
       "<!-- 33 -->\n",
       "<g id=\"node34\" class=\"node\">\n",
       "<title>33</title>\n",
       "<polygon fill=\"aliceblue\" stroke=\"none\" points=\"350,-2675.5 177,-2675.5 177,-2631.5 350,-2631.5 350,-2675.5\"/>\n",
       "<polygon fill=\"none\" stroke=\"black\" points=\"177,-2631.5 177,-2675.5 223,-2675.5 223,-2631.5 177,-2631.5\"/>\n",
       "<text text-anchor=\"start\" x=\"191\" y=\"-2656.75\" font-family=\"Linux libertine\" font-size=\"10.00\">add</text>\n",
       "<text text-anchor=\"start\" x=\"181.62\" y=\"-2644\" font-family=\"Linux libertine\" font-size=\"10.00\">depth:3</text>\n",
       "<polygon fill=\"none\" stroke=\"black\" points=\"223,-2653.5 223,-2675.5 270,-2675.5 270,-2653.5 223,-2653.5\"/>\n",
       "<text text-anchor=\"start\" x=\"232.62\" y=\"-2661\" font-family=\"Linux libertine\" font-size=\"10.00\">input:</text>\n",
       "<polygon fill=\"none\" stroke=\"black\" points=\"270,-2653.5 270,-2675.5 350,-2675.5 350,-2653.5 270,-2653.5\"/>\n",
       "<text text-anchor=\"start\" x=\"274.75\" y=\"-2661\" font-family=\"Linux libertine\" font-size=\"10.00\">2 x (5, 45, 64) </text>\n",
       "<polygon fill=\"none\" stroke=\"black\" points=\"223,-2631.5 223,-2653.5 270,-2653.5 270,-2631.5 223,-2631.5\"/>\n",
       "<text text-anchor=\"start\" x=\"227.75\" y=\"-2639\" font-family=\"Linux libertine\" font-size=\"10.00\">output: </text>\n",
       "<polygon fill=\"none\" stroke=\"black\" points=\"270,-2631.5 270,-2653.5 350,-2653.5 350,-2631.5 270,-2631.5\"/>\n",
       "<text text-anchor=\"start\" x=\"283.75\" y=\"-2639\" font-family=\"Linux libertine\" font-size=\"10.00\">(5, 45, 64) </text>\n",
       "</g>\n",
       "<!-- 30&#45;&gt;33 -->\n",
       "<g id=\"edge39\" class=\"edge\">\n",
       "<title>30&#45;&gt;33</title>\n",
       "<path fill=\"none\" stroke=\"black\" d=\"M227.15,-2871.57C208.43,-2836.95 177.49,-2766.18 201.5,-2711.5 206.32,-2700.53 214.4,-2690.75 223.16,-2682.51\"/>\n",
       "<polygon fill=\"black\" stroke=\"black\" points=\"225.09,-2684.6 230.33,-2675.39 220.49,-2679.32 225.09,-2684.6\"/>\n",
       "</g>\n",
       "<!-- 32 -->\n",
       "<g id=\"node33\" class=\"node\">\n",
       "<title>32</title>\n",
       "<polygon fill=\"#c1ffc1\" stroke=\"none\" points=\"478.5,-2755.5 210.5,-2755.5 210.5,-2711.5 478.5,-2711.5 478.5,-2755.5\"/>\n",
       "<polygon fill=\"none\" stroke=\"black\" points=\"210.5,-2711.5 210.5,-2755.5 313.5,-2755.5 313.5,-2711.5 210.5,-2711.5\"/>\n",
       "<text text-anchor=\"start\" x=\"215.12\" y=\"-2736.75\" font-family=\"Linux libertine\" font-size=\"10.00\">MultiheadAttention</text>\n",
       "<text text-anchor=\"start\" x=\"243.62\" y=\"-2724\" font-family=\"Linux libertine\" font-size=\"10.00\">depth:3</text>\n",
       "<polygon fill=\"none\" stroke=\"black\" points=\"313.5,-2733.5 313.5,-2755.5 360.5,-2755.5 360.5,-2733.5 313.5,-2733.5\"/>\n",
       "<text text-anchor=\"start\" x=\"323.12\" y=\"-2741\" font-family=\"Linux libertine\" font-size=\"10.00\">input:</text>\n",
       "<polygon fill=\"none\" stroke=\"black\" points=\"360.5,-2733.5 360.5,-2755.5 478.5,-2755.5 478.5,-2733.5 360.5,-2733.5\"/>\n",
       "<text text-anchor=\"start\" x=\"384.25\" y=\"-2741\" font-family=\"Linux libertine\" font-size=\"10.00\">3 x (5, 45, 64) </text>\n",
       "<polygon fill=\"none\" stroke=\"black\" points=\"313.5,-2711.5 313.5,-2733.5 360.5,-2733.5 360.5,-2711.5 313.5,-2711.5\"/>\n",
       "<text text-anchor=\"start\" x=\"318.25\" y=\"-2719\" font-family=\"Linux libertine\" font-size=\"10.00\">output: </text>\n",
       "<polygon fill=\"none\" stroke=\"black\" points=\"360.5,-2711.5 360.5,-2733.5 478.5,-2733.5 478.5,-2711.5 360.5,-2711.5\"/>\n",
       "<text text-anchor=\"start\" x=\"365.5\" y=\"-2719\" font-family=\"Linux libertine\" font-size=\"10.00\">(5, 45, 64), (5, 45, 45) </text>\n",
       "</g>\n",
       "<!-- 31&#45;&gt;32 -->\n",
       "<g id=\"edge40\" class=\"edge\">\n",
       "<title>31&#45;&gt;32</title>\n",
       "<path fill=\"none\" stroke=\"black\" d=\"M326.93,-2791.6C329.38,-2783.64 332.23,-2774.39 334.9,-2765.69\"/>\n",
       "<polygon fill=\"black\" stroke=\"black\" points=\"338.45,-2767.05 338.05,-2756.46 331.76,-2764.99 338.45,-2767.05\"/>\n",
       "</g>\n",
       "<!-- 32&#45;&gt;33 -->\n",
       "<g id=\"edge41\" class=\"edge\">\n",
       "<title>32&#45;&gt;33</title>\n",
       "<path fill=\"none\" stroke=\"black\" d=\"M322.79,-2711.6C313.62,-2702.77 302.8,-2692.35 292.93,-2682.84\"/>\n",
       "<polygon fill=\"black\" stroke=\"black\" points=\"295.9,-2680.88 286.27,-2676.46 291.04,-2685.92 295.9,-2680.88\"/>\n",
       "</g>\n",
       "<!-- 34 -->\n",
       "<g id=\"node35\" class=\"node\">\n",
       "<title>34</title>\n",
       "<polygon fill=\"#c1ffc1\" stroke=\"none\" points=\"408,-2595.5 235,-2595.5 235,-2551.5 408,-2551.5 408,-2595.5\"/>\n",
       "<polygon fill=\"none\" stroke=\"black\" points=\"235,-2551.5 235,-2595.5 299,-2595.5 299,-2551.5 235,-2551.5\"/>\n",
       "<text text-anchor=\"start\" x=\"240\" y=\"-2576.75\" font-family=\"Linux libertine\" font-size=\"10.00\">LayerNorm</text>\n",
       "<text text-anchor=\"start\" x=\"248.62\" y=\"-2564\" font-family=\"Linux libertine\" font-size=\"10.00\">depth:3</text>\n",
       "<polygon fill=\"none\" stroke=\"black\" points=\"299,-2573.5 299,-2595.5 346,-2595.5 346,-2573.5 299,-2573.5\"/>\n",
       "<text text-anchor=\"start\" x=\"308.62\" y=\"-2581\" font-family=\"Linux libertine\" font-size=\"10.00\">input:</text>\n",
       "<polygon fill=\"none\" stroke=\"black\" points=\"346,-2573.5 346,-2595.5 408,-2595.5 408,-2573.5 346,-2573.5\"/>\n",
       "<text text-anchor=\"start\" x=\"350.75\" y=\"-2581\" font-family=\"Linux libertine\" font-size=\"10.00\">(5, 45, 64) </text>\n",
       "<polygon fill=\"none\" stroke=\"black\" points=\"299,-2551.5 299,-2573.5 346,-2573.5 346,-2551.5 299,-2551.5\"/>\n",
       "<text text-anchor=\"start\" x=\"303.75\" y=\"-2559\" font-family=\"Linux libertine\" font-size=\"10.00\">output: </text>\n",
       "<polygon fill=\"none\" stroke=\"black\" points=\"346,-2551.5 346,-2573.5 408,-2573.5 408,-2551.5 346,-2551.5\"/>\n",
       "<text text-anchor=\"start\" x=\"350.75\" y=\"-2559\" font-family=\"Linux libertine\" font-size=\"10.00\">(5, 45, 64) </text>\n",
       "</g>\n",
       "<!-- 33&#45;&gt;34 -->\n",
       "<g id=\"edge42\" class=\"edge\">\n",
       "<title>33&#45;&gt;34</title>\n",
       "<path fill=\"none\" stroke=\"black\" d=\"M279.04,-2631.6C285.28,-2623.2 292.59,-2613.37 299.37,-2604.26\"/>\n",
       "<polygon fill=\"black\" stroke=\"black\" points=\"302.76,-2606.57 305.91,-2596.46 297.14,-2602.4 302.76,-2606.57\"/>\n",
       "</g>\n",
       "<!-- 37 -->\n",
       "<g id=\"node38\" class=\"node\">\n",
       "<title>37</title>\n",
       "<polygon fill=\"aliceblue\" stroke=\"none\" points=\"346,-2355.5 173,-2355.5 173,-2311.5 346,-2311.5 346,-2355.5\"/>\n",
       "<polygon fill=\"none\" stroke=\"black\" points=\"173,-2311.5 173,-2355.5 219,-2355.5 219,-2311.5 173,-2311.5\"/>\n",
       "<text text-anchor=\"start\" x=\"187\" y=\"-2336.75\" font-family=\"Linux libertine\" font-size=\"10.00\">add</text>\n",
       "<text text-anchor=\"start\" x=\"177.62\" y=\"-2324\" font-family=\"Linux libertine\" font-size=\"10.00\">depth:3</text>\n",
       "<polygon fill=\"none\" stroke=\"black\" points=\"219,-2333.5 219,-2355.5 266,-2355.5 266,-2333.5 219,-2333.5\"/>\n",
       "<text text-anchor=\"start\" x=\"228.62\" y=\"-2341\" font-family=\"Linux libertine\" font-size=\"10.00\">input:</text>\n",
       "<polygon fill=\"none\" stroke=\"black\" points=\"266,-2333.5 266,-2355.5 346,-2355.5 346,-2333.5 266,-2333.5\"/>\n",
       "<text text-anchor=\"start\" x=\"270.75\" y=\"-2341\" font-family=\"Linux libertine\" font-size=\"10.00\">2 x (5, 45, 64) </text>\n",
       "<polygon fill=\"none\" stroke=\"black\" points=\"219,-2311.5 219,-2333.5 266,-2333.5 266,-2311.5 219,-2311.5\"/>\n",
       "<text text-anchor=\"start\" x=\"223.75\" y=\"-2319\" font-family=\"Linux libertine\" font-size=\"10.00\">output: </text>\n",
       "<polygon fill=\"none\" stroke=\"black\" points=\"266,-2311.5 266,-2333.5 346,-2333.5 346,-2311.5 266,-2311.5\"/>\n",
       "<text text-anchor=\"start\" x=\"279.75\" y=\"-2319\" font-family=\"Linux libertine\" font-size=\"10.00\">(5, 45, 64) </text>\n",
       "</g>\n",
       "<!-- 33&#45;&gt;37 -->\n",
       "<g id=\"edge43\" class=\"edge\">\n",
       "<title>33&#45;&gt;37</title>\n",
       "<path fill=\"none\" stroke=\"black\" d=\"M245.22,-2631.59C237.53,-2621.42 229.46,-2608.59 225.5,-2595.5 215.43,-2562.24 198.7,-2509.8 229.5,-2391.5 231.84,-2382.5 235.83,-2373.33 240.15,-2365.05\"/>\n",
       "<polygon fill=\"black\" stroke=\"black\" points=\"243.68,-2366.91 245.49,-2356.47 237.56,-2363.5 243.68,-2366.91\"/>\n",
       "</g>\n",
       "<!-- 35 -->\n",
       "<g id=\"node36\" class=\"node\">\n",
       "<title>35</title>\n",
       "<polygon fill=\"#c1ffc1\" stroke=\"none\" points=\"396,-2515.5 241,-2515.5 241,-2471.5 396,-2471.5 396,-2515.5\"/>\n",
       "<polygon fill=\"none\" stroke=\"black\" points=\"241,-2471.5 241,-2515.5 287,-2515.5 287,-2471.5 241,-2471.5\"/>\n",
       "<text text-anchor=\"start\" x=\"249\" y=\"-2496.75\" font-family=\"Linux libertine\" font-size=\"10.00\">Linear</text>\n",
       "<text text-anchor=\"start\" x=\"245.62\" y=\"-2484\" font-family=\"Linux libertine\" font-size=\"10.00\">depth:3</text>\n",
       "<polygon fill=\"none\" stroke=\"black\" points=\"287,-2493.5 287,-2515.5 334,-2515.5 334,-2493.5 287,-2493.5\"/>\n",
       "<text text-anchor=\"start\" x=\"296.62\" y=\"-2501\" font-family=\"Linux libertine\" font-size=\"10.00\">input:</text>\n",
       "<polygon fill=\"none\" stroke=\"black\" points=\"334,-2493.5 334,-2515.5 396,-2515.5 396,-2493.5 334,-2493.5\"/>\n",
       "<text text-anchor=\"start\" x=\"338.75\" y=\"-2501\" font-family=\"Linux libertine\" font-size=\"10.00\">(5, 45, 64) </text>\n",
       "<polygon fill=\"none\" stroke=\"black\" points=\"287,-2471.5 287,-2493.5 334,-2493.5 334,-2471.5 287,-2471.5\"/>\n",
       "<text text-anchor=\"start\" x=\"291.75\" y=\"-2479\" font-family=\"Linux libertine\" font-size=\"10.00\">output: </text>\n",
       "<polygon fill=\"none\" stroke=\"black\" points=\"334,-2471.5 334,-2493.5 396,-2493.5 396,-2471.5 334,-2471.5\"/>\n",
       "<text text-anchor=\"start\" x=\"338.75\" y=\"-2479\" font-family=\"Linux libertine\" font-size=\"10.00\">(5, 45, 64) </text>\n",
       "</g>\n",
       "<!-- 34&#45;&gt;35 -->\n",
       "<g id=\"edge44\" class=\"edge\">\n",
       "<title>34&#45;&gt;35</title>\n",
       "<path fill=\"none\" stroke=\"black\" d=\"M320.7,-2551.6C320.4,-2543.82 320.05,-2534.8 319.72,-2526.26\"/>\n",
       "<polygon fill=\"black\" stroke=\"black\" points=\"323.19,-2526.32 319.31,-2516.46 316.19,-2526.59 323.19,-2526.32\"/>\n",
       "</g>\n",
       "<!-- 36 -->\n",
       "<g id=\"node37\" class=\"node\">\n",
       "<title>36</title>\n",
       "<polygon fill=\"#c1ffc1\" stroke=\"none\" points=\"394,-2435.5 239,-2435.5 239,-2391.5 394,-2391.5 394,-2435.5\"/>\n",
       "<polygon fill=\"none\" stroke=\"black\" points=\"239,-2391.5 239,-2435.5 285,-2435.5 285,-2391.5 239,-2391.5\"/>\n",
       "<text text-anchor=\"start\" x=\"248.88\" y=\"-2416.75\" font-family=\"Linux libertine\" font-size=\"10.00\">GELU</text>\n",
       "<text text-anchor=\"start\" x=\"243.62\" y=\"-2404\" font-family=\"Linux libertine\" font-size=\"10.00\">depth:3</text>\n",
       "<polygon fill=\"none\" stroke=\"black\" points=\"285,-2413.5 285,-2435.5 332,-2435.5 332,-2413.5 285,-2413.5\"/>\n",
       "<text text-anchor=\"start\" x=\"294.62\" y=\"-2421\" font-family=\"Linux libertine\" font-size=\"10.00\">input:</text>\n",
       "<polygon fill=\"none\" stroke=\"black\" points=\"332,-2413.5 332,-2435.5 394,-2435.5 394,-2413.5 332,-2413.5\"/>\n",
       "<text text-anchor=\"start\" x=\"336.75\" y=\"-2421\" font-family=\"Linux libertine\" font-size=\"10.00\">(5, 45, 64) </text>\n",
       "<polygon fill=\"none\" stroke=\"black\" points=\"285,-2391.5 285,-2413.5 332,-2413.5 332,-2391.5 285,-2391.5\"/>\n",
       "<text text-anchor=\"start\" x=\"289.75\" y=\"-2399\" font-family=\"Linux libertine\" font-size=\"10.00\">output: </text>\n",
       "<polygon fill=\"none\" stroke=\"black\" points=\"332,-2391.5 332,-2413.5 394,-2413.5 394,-2391.5 332,-2391.5\"/>\n",
       "<text text-anchor=\"start\" x=\"336.75\" y=\"-2399\" font-family=\"Linux libertine\" font-size=\"10.00\">(5, 45, 64) </text>\n",
       "</g>\n",
       "<!-- 35&#45;&gt;36 -->\n",
       "<g id=\"edge45\" class=\"edge\">\n",
       "<title>35&#45;&gt;36</title>\n",
       "<path fill=\"none\" stroke=\"black\" d=\"M317.96,-2471.6C317.76,-2463.82 317.53,-2454.8 317.31,-2446.26\"/>\n",
       "<polygon fill=\"black\" stroke=\"black\" points=\"320.79,-2446.37 317.04,-2436.46 313.8,-2446.55 320.79,-2446.37\"/>\n",
       "</g>\n",
       "<!-- 36&#45;&gt;37 -->\n",
       "<g id=\"edge46\" class=\"edge\">\n",
       "<title>36&#45;&gt;37</title>\n",
       "<path fill=\"none\" stroke=\"black\" d=\"M301.23,-2391.6C295.09,-2383.2 287.91,-2373.37 281.25,-2364.26\"/>\n",
       "<polygon fill=\"black\" stroke=\"black\" points=\"283.54,-2362.47 274.82,-2356.46 277.89,-2366.6 283.54,-2362.47\"/>\n",
       "</g>\n",
       "<!-- 38 -->\n",
       "<g id=\"node39\" class=\"node\">\n",
       "<title>38</title>\n",
       "<polygon fill=\"#c1ffc1\" stroke=\"none\" points=\"427,-2275.5 254,-2275.5 254,-2231.5 427,-2231.5 427,-2275.5\"/>\n",
       "<polygon fill=\"none\" stroke=\"black\" points=\"254,-2231.5 254,-2275.5 318,-2275.5 318,-2231.5 254,-2231.5\"/>\n",
       "<text text-anchor=\"start\" x=\"259\" y=\"-2256.75\" font-family=\"Linux libertine\" font-size=\"10.00\">LayerNorm</text>\n",
       "<text text-anchor=\"start\" x=\"267.62\" y=\"-2244\" font-family=\"Linux libertine\" font-size=\"10.00\">depth:3</text>\n",
       "<polygon fill=\"none\" stroke=\"black\" points=\"318,-2253.5 318,-2275.5 365,-2275.5 365,-2253.5 318,-2253.5\"/>\n",
       "<text text-anchor=\"start\" x=\"327.62\" y=\"-2261\" font-family=\"Linux libertine\" font-size=\"10.00\">input:</text>\n",
       "<polygon fill=\"none\" stroke=\"black\" points=\"365,-2253.5 365,-2275.5 427,-2275.5 427,-2253.5 365,-2253.5\"/>\n",
       "<text text-anchor=\"start\" x=\"369.75\" y=\"-2261\" font-family=\"Linux libertine\" font-size=\"10.00\">(5, 45, 64) </text>\n",
       "<polygon fill=\"none\" stroke=\"black\" points=\"318,-2231.5 318,-2253.5 365,-2253.5 365,-2231.5 318,-2231.5\"/>\n",
       "<text text-anchor=\"start\" x=\"322.75\" y=\"-2239\" font-family=\"Linux libertine\" font-size=\"10.00\">output: </text>\n",
       "<polygon fill=\"none\" stroke=\"black\" points=\"365,-2231.5 365,-2253.5 427,-2253.5 427,-2231.5 365,-2231.5\"/>\n",
       "<text text-anchor=\"start\" x=\"369.75\" y=\"-2239\" font-family=\"Linux libertine\" font-size=\"10.00\">(5, 45, 64) </text>\n",
       "</g>\n",
       "<!-- 37&#45;&gt;38 -->\n",
       "<g id=\"edge47\" class=\"edge\">\n",
       "<title>37&#45;&gt;38</title>\n",
       "<path fill=\"none\" stroke=\"black\" d=\"M281.21,-2311.6C290.38,-2302.77 301.2,-2292.35 311.07,-2282.84\"/>\n",
       "<polygon fill=\"black\" stroke=\"black\" points=\"312.96,-2285.92 317.73,-2276.46 308.1,-2280.88 312.96,-2285.92\"/>\n",
       "</g>\n",
       "<!-- 40 -->\n",
       "<g id=\"node41\" class=\"node\">\n",
       "<title>40</title>\n",
       "<polygon fill=\"aliceblue\" stroke=\"none\" points=\"370,-2115.5 197,-2115.5 197,-2071.5 370,-2071.5 370,-2115.5\"/>\n",
       "<polygon fill=\"none\" stroke=\"black\" points=\"197,-2071.5 197,-2115.5 243,-2115.5 243,-2071.5 197,-2071.5\"/>\n",
       "<text text-anchor=\"start\" x=\"211\" y=\"-2096.75\" font-family=\"Linux libertine\" font-size=\"10.00\">add</text>\n",
       "<text text-anchor=\"start\" x=\"201.62\" y=\"-2084\" font-family=\"Linux libertine\" font-size=\"10.00\">depth:3</text>\n",
       "<polygon fill=\"none\" stroke=\"black\" points=\"243,-2093.5 243,-2115.5 290,-2115.5 290,-2093.5 243,-2093.5\"/>\n",
       "<text text-anchor=\"start\" x=\"252.62\" y=\"-2101\" font-family=\"Linux libertine\" font-size=\"10.00\">input:</text>\n",
       "<polygon fill=\"none\" stroke=\"black\" points=\"290,-2093.5 290,-2115.5 370,-2115.5 370,-2093.5 290,-2093.5\"/>\n",
       "<text text-anchor=\"start\" x=\"294.75\" y=\"-2101\" font-family=\"Linux libertine\" font-size=\"10.00\">2 x (5, 45, 64) </text>\n",
       "<polygon fill=\"none\" stroke=\"black\" points=\"243,-2071.5 243,-2093.5 290,-2093.5 290,-2071.5 243,-2071.5\"/>\n",
       "<text text-anchor=\"start\" x=\"247.75\" y=\"-2079\" font-family=\"Linux libertine\" font-size=\"10.00\">output: </text>\n",
       "<polygon fill=\"none\" stroke=\"black\" points=\"290,-2071.5 290,-2093.5 370,-2093.5 370,-2071.5 290,-2071.5\"/>\n",
       "<text text-anchor=\"start\" x=\"303.75\" y=\"-2079\" font-family=\"Linux libertine\" font-size=\"10.00\">(5, 45, 64) </text>\n",
       "</g>\n",
       "<!-- 37&#45;&gt;40 -->\n",
       "<g id=\"edge48\" class=\"edge\">\n",
       "<title>37&#45;&gt;40</title>\n",
       "<path fill=\"none\" stroke=\"black\" d=\"M247.15,-2311.57C228.43,-2276.95 197.49,-2206.18 221.5,-2151.5 226.32,-2140.53 234.4,-2130.75 243.16,-2122.51\"/>\n",
       "<polygon fill=\"black\" stroke=\"black\" points=\"245.09,-2124.6 250.33,-2115.39 240.49,-2119.32 245.09,-2124.6\"/>\n",
       "</g>\n",
       "<!-- 39 -->\n",
       "<g id=\"node40\" class=\"node\">\n",
       "<title>39</title>\n",
       "<polygon fill=\"#c1ffc1\" stroke=\"none\" points=\"498.5,-2195.5 230.5,-2195.5 230.5,-2151.5 498.5,-2151.5 498.5,-2195.5\"/>\n",
       "<polygon fill=\"none\" stroke=\"black\" points=\"230.5,-2151.5 230.5,-2195.5 333.5,-2195.5 333.5,-2151.5 230.5,-2151.5\"/>\n",
       "<text text-anchor=\"start\" x=\"235.12\" y=\"-2176.75\" font-family=\"Linux libertine\" font-size=\"10.00\">MultiheadAttention</text>\n",
       "<text text-anchor=\"start\" x=\"263.62\" y=\"-2164\" font-family=\"Linux libertine\" font-size=\"10.00\">depth:3</text>\n",
       "<polygon fill=\"none\" stroke=\"black\" points=\"333.5,-2173.5 333.5,-2195.5 380.5,-2195.5 380.5,-2173.5 333.5,-2173.5\"/>\n",
       "<text text-anchor=\"start\" x=\"343.12\" y=\"-2181\" font-family=\"Linux libertine\" font-size=\"10.00\">input:</text>\n",
       "<polygon fill=\"none\" stroke=\"black\" points=\"380.5,-2173.5 380.5,-2195.5 498.5,-2195.5 498.5,-2173.5 380.5,-2173.5\"/>\n",
       "<text text-anchor=\"start\" x=\"404.25\" y=\"-2181\" font-family=\"Linux libertine\" font-size=\"10.00\">3 x (5, 45, 64) </text>\n",
       "<polygon fill=\"none\" stroke=\"black\" points=\"333.5,-2151.5 333.5,-2173.5 380.5,-2173.5 380.5,-2151.5 333.5,-2151.5\"/>\n",
       "<text text-anchor=\"start\" x=\"338.25\" y=\"-2159\" font-family=\"Linux libertine\" font-size=\"10.00\">output: </text>\n",
       "<polygon fill=\"none\" stroke=\"black\" points=\"380.5,-2151.5 380.5,-2173.5 498.5,-2173.5 498.5,-2151.5 380.5,-2151.5\"/>\n",
       "<text text-anchor=\"start\" x=\"385.5\" y=\"-2159\" font-family=\"Linux libertine\" font-size=\"10.00\">(5, 45, 64), (5, 45, 45) </text>\n",
       "</g>\n",
       "<!-- 38&#45;&gt;39 -->\n",
       "<g id=\"edge49\" class=\"edge\">\n",
       "<title>38&#45;&gt;39</title>\n",
       "<path fill=\"none\" stroke=\"black\" d=\"M346.93,-2231.6C349.38,-2223.64 352.23,-2214.39 354.9,-2205.69\"/>\n",
       "<polygon fill=\"black\" stroke=\"black\" points=\"358.45,-2207.05 358.05,-2196.46 351.76,-2204.99 358.45,-2207.05\"/>\n",
       "</g>\n",
       "<!-- 39&#45;&gt;40 -->\n",
       "<g id=\"edge50\" class=\"edge\">\n",
       "<title>39&#45;&gt;40</title>\n",
       "<path fill=\"none\" stroke=\"black\" d=\"M342.79,-2151.6C333.62,-2142.77 322.8,-2132.35 312.93,-2122.84\"/>\n",
       "<polygon fill=\"black\" stroke=\"black\" points=\"315.9,-2120.88 306.27,-2116.46 311.04,-2125.92 315.9,-2120.88\"/>\n",
       "</g>\n",
       "<!-- 41 -->\n",
       "<g id=\"node42\" class=\"node\">\n",
       "<title>41</title>\n",
       "<polygon fill=\"#c1ffc1\" stroke=\"none\" points=\"428,-2035.5 255,-2035.5 255,-1991.5 428,-1991.5 428,-2035.5\"/>\n",
       "<polygon fill=\"none\" stroke=\"black\" points=\"255,-1991.5 255,-2035.5 319,-2035.5 319,-1991.5 255,-1991.5\"/>\n",
       "<text text-anchor=\"start\" x=\"260\" y=\"-2016.75\" font-family=\"Linux libertine\" font-size=\"10.00\">LayerNorm</text>\n",
       "<text text-anchor=\"start\" x=\"268.62\" y=\"-2004\" font-family=\"Linux libertine\" font-size=\"10.00\">depth:3</text>\n",
       "<polygon fill=\"none\" stroke=\"black\" points=\"319,-2013.5 319,-2035.5 366,-2035.5 366,-2013.5 319,-2013.5\"/>\n",
       "<text text-anchor=\"start\" x=\"328.62\" y=\"-2021\" font-family=\"Linux libertine\" font-size=\"10.00\">input:</text>\n",
       "<polygon fill=\"none\" stroke=\"black\" points=\"366,-2013.5 366,-2035.5 428,-2035.5 428,-2013.5 366,-2013.5\"/>\n",
       "<text text-anchor=\"start\" x=\"370.75\" y=\"-2021\" font-family=\"Linux libertine\" font-size=\"10.00\">(5, 45, 64) </text>\n",
       "<polygon fill=\"none\" stroke=\"black\" points=\"319,-1991.5 319,-2013.5 366,-2013.5 366,-1991.5 319,-1991.5\"/>\n",
       "<text text-anchor=\"start\" x=\"323.75\" y=\"-1999\" font-family=\"Linux libertine\" font-size=\"10.00\">output: </text>\n",
       "<polygon fill=\"none\" stroke=\"black\" points=\"366,-1991.5 366,-2013.5 428,-2013.5 428,-1991.5 366,-1991.5\"/>\n",
       "<text text-anchor=\"start\" x=\"370.75\" y=\"-1999\" font-family=\"Linux libertine\" font-size=\"10.00\">(5, 45, 64) </text>\n",
       "</g>\n",
       "<!-- 40&#45;&gt;41 -->\n",
       "<g id=\"edge51\" class=\"edge\">\n",
       "<title>40&#45;&gt;41</title>\n",
       "<path fill=\"none\" stroke=\"black\" d=\"M299.04,-2071.6C305.28,-2063.2 312.59,-2053.37 319.37,-2044.26\"/>\n",
       "<polygon fill=\"black\" stroke=\"black\" points=\"322.76,-2046.57 325.91,-2036.46 317.14,-2042.4 322.76,-2046.57\"/>\n",
       "</g>\n",
       "<!-- 44 -->\n",
       "<g id=\"node45\" class=\"node\">\n",
       "<title>44</title>\n",
       "<polygon fill=\"aliceblue\" stroke=\"none\" points=\"366,-1795.5 193,-1795.5 193,-1751.5 366,-1751.5 366,-1795.5\"/>\n",
       "<polygon fill=\"none\" stroke=\"black\" points=\"193,-1751.5 193,-1795.5 239,-1795.5 239,-1751.5 193,-1751.5\"/>\n",
       "<text text-anchor=\"start\" x=\"207\" y=\"-1776.75\" font-family=\"Linux libertine\" font-size=\"10.00\">add</text>\n",
       "<text text-anchor=\"start\" x=\"197.62\" y=\"-1764\" font-family=\"Linux libertine\" font-size=\"10.00\">depth:3</text>\n",
       "<polygon fill=\"none\" stroke=\"black\" points=\"239,-1773.5 239,-1795.5 286,-1795.5 286,-1773.5 239,-1773.5\"/>\n",
       "<text text-anchor=\"start\" x=\"248.62\" y=\"-1781\" font-family=\"Linux libertine\" font-size=\"10.00\">input:</text>\n",
       "<polygon fill=\"none\" stroke=\"black\" points=\"286,-1773.5 286,-1795.5 366,-1795.5 366,-1773.5 286,-1773.5\"/>\n",
       "<text text-anchor=\"start\" x=\"290.75\" y=\"-1781\" font-family=\"Linux libertine\" font-size=\"10.00\">2 x (5, 45, 64) </text>\n",
       "<polygon fill=\"none\" stroke=\"black\" points=\"239,-1751.5 239,-1773.5 286,-1773.5 286,-1751.5 239,-1751.5\"/>\n",
       "<text text-anchor=\"start\" x=\"243.75\" y=\"-1759\" font-family=\"Linux libertine\" font-size=\"10.00\">output: </text>\n",
       "<polygon fill=\"none\" stroke=\"black\" points=\"286,-1751.5 286,-1773.5 366,-1773.5 366,-1751.5 286,-1751.5\"/>\n",
       "<text text-anchor=\"start\" x=\"299.75\" y=\"-1759\" font-family=\"Linux libertine\" font-size=\"10.00\">(5, 45, 64) </text>\n",
       "</g>\n",
       "<!-- 40&#45;&gt;44 -->\n",
       "<g id=\"edge52\" class=\"edge\">\n",
       "<title>40&#45;&gt;44</title>\n",
       "<path fill=\"none\" stroke=\"black\" d=\"M265.22,-2071.59C257.53,-2061.42 249.46,-2048.59 245.5,-2035.5 235.43,-2002.24 218.7,-1949.8 249.5,-1831.5 251.84,-1822.5 255.83,-1813.33 260.15,-1805.05\"/>\n",
       "<polygon fill=\"black\" stroke=\"black\" points=\"263.68,-1806.91 265.49,-1796.47 257.56,-1803.5 263.68,-1806.91\"/>\n",
       "</g>\n",
       "<!-- 42 -->\n",
       "<g id=\"node43\" class=\"node\">\n",
       "<title>42</title>\n",
       "<polygon fill=\"#c1ffc1\" stroke=\"none\" points=\"416,-1955.5 261,-1955.5 261,-1911.5 416,-1911.5 416,-1955.5\"/>\n",
       "<polygon fill=\"none\" stroke=\"black\" points=\"261,-1911.5 261,-1955.5 307,-1955.5 307,-1911.5 261,-1911.5\"/>\n",
       "<text text-anchor=\"start\" x=\"269\" y=\"-1936.75\" font-family=\"Linux libertine\" font-size=\"10.00\">Linear</text>\n",
       "<text text-anchor=\"start\" x=\"265.62\" y=\"-1924\" font-family=\"Linux libertine\" font-size=\"10.00\">depth:3</text>\n",
       "<polygon fill=\"none\" stroke=\"black\" points=\"307,-1933.5 307,-1955.5 354,-1955.5 354,-1933.5 307,-1933.5\"/>\n",
       "<text text-anchor=\"start\" x=\"316.62\" y=\"-1941\" font-family=\"Linux libertine\" font-size=\"10.00\">input:</text>\n",
       "<polygon fill=\"none\" stroke=\"black\" points=\"354,-1933.5 354,-1955.5 416,-1955.5 416,-1933.5 354,-1933.5\"/>\n",
       "<text text-anchor=\"start\" x=\"358.75\" y=\"-1941\" font-family=\"Linux libertine\" font-size=\"10.00\">(5, 45, 64) </text>\n",
       "<polygon fill=\"none\" stroke=\"black\" points=\"307,-1911.5 307,-1933.5 354,-1933.5 354,-1911.5 307,-1911.5\"/>\n",
       "<text text-anchor=\"start\" x=\"311.75\" y=\"-1919\" font-family=\"Linux libertine\" font-size=\"10.00\">output: </text>\n",
       "<polygon fill=\"none\" stroke=\"black\" points=\"354,-1911.5 354,-1933.5 416,-1933.5 416,-1911.5 354,-1911.5\"/>\n",
       "<text text-anchor=\"start\" x=\"358.75\" y=\"-1919\" font-family=\"Linux libertine\" font-size=\"10.00\">(5, 45, 64) </text>\n",
       "</g>\n",
       "<!-- 41&#45;&gt;42 -->\n",
       "<g id=\"edge53\" class=\"edge\">\n",
       "<title>41&#45;&gt;42</title>\n",
       "<path fill=\"none\" stroke=\"black\" d=\"M340.7,-1991.6C340.4,-1983.82 340.05,-1974.8 339.72,-1966.26\"/>\n",
       "<polygon fill=\"black\" stroke=\"black\" points=\"343.19,-1966.32 339.31,-1956.46 336.19,-1966.59 343.19,-1966.32\"/>\n",
       "</g>\n",
       "<!-- 43 -->\n",
       "<g id=\"node44\" class=\"node\">\n",
       "<title>43</title>\n",
       "<polygon fill=\"#c1ffc1\" stroke=\"none\" points=\"414,-1875.5 259,-1875.5 259,-1831.5 414,-1831.5 414,-1875.5\"/>\n",
       "<polygon fill=\"none\" stroke=\"black\" points=\"259,-1831.5 259,-1875.5 305,-1875.5 305,-1831.5 259,-1831.5\"/>\n",
       "<text text-anchor=\"start\" x=\"268.88\" y=\"-1856.75\" font-family=\"Linux libertine\" font-size=\"10.00\">GELU</text>\n",
       "<text text-anchor=\"start\" x=\"263.62\" y=\"-1844\" font-family=\"Linux libertine\" font-size=\"10.00\">depth:3</text>\n",
       "<polygon fill=\"none\" stroke=\"black\" points=\"305,-1853.5 305,-1875.5 352,-1875.5 352,-1853.5 305,-1853.5\"/>\n",
       "<text text-anchor=\"start\" x=\"314.62\" y=\"-1861\" font-family=\"Linux libertine\" font-size=\"10.00\">input:</text>\n",
       "<polygon fill=\"none\" stroke=\"black\" points=\"352,-1853.5 352,-1875.5 414,-1875.5 414,-1853.5 352,-1853.5\"/>\n",
       "<text text-anchor=\"start\" x=\"356.75\" y=\"-1861\" font-family=\"Linux libertine\" font-size=\"10.00\">(5, 45, 64) </text>\n",
       "<polygon fill=\"none\" stroke=\"black\" points=\"305,-1831.5 305,-1853.5 352,-1853.5 352,-1831.5 305,-1831.5\"/>\n",
       "<text text-anchor=\"start\" x=\"309.75\" y=\"-1839\" font-family=\"Linux libertine\" font-size=\"10.00\">output: </text>\n",
       "<polygon fill=\"none\" stroke=\"black\" points=\"352,-1831.5 352,-1853.5 414,-1853.5 414,-1831.5 352,-1831.5\"/>\n",
       "<text text-anchor=\"start\" x=\"356.75\" y=\"-1839\" font-family=\"Linux libertine\" font-size=\"10.00\">(5, 45, 64) </text>\n",
       "</g>\n",
       "<!-- 42&#45;&gt;43 -->\n",
       "<g id=\"edge54\" class=\"edge\">\n",
       "<title>42&#45;&gt;43</title>\n",
       "<path fill=\"none\" stroke=\"black\" d=\"M337.96,-1911.6C337.76,-1903.82 337.53,-1894.8 337.31,-1886.26\"/>\n",
       "<polygon fill=\"black\" stroke=\"black\" points=\"340.79,-1886.37 337.04,-1876.46 333.8,-1886.55 340.79,-1886.37\"/>\n",
       "</g>\n",
       "<!-- 43&#45;&gt;44 -->\n",
       "<g id=\"edge55\" class=\"edge\">\n",
       "<title>43&#45;&gt;44</title>\n",
       "<path fill=\"none\" stroke=\"black\" d=\"M321.23,-1831.6C315.09,-1823.2 307.91,-1813.37 301.25,-1804.26\"/>\n",
       "<polygon fill=\"black\" stroke=\"black\" points=\"303.54,-1802.47 294.82,-1796.46 297.89,-1806.6 303.54,-1802.47\"/>\n",
       "</g>\n",
       "<!-- 45 -->\n",
       "<g id=\"node46\" class=\"node\">\n",
       "<title>45</title>\n",
       "<polygon fill=\"#c1ffc1\" stroke=\"none\" points=\"447,-1715.5 274,-1715.5 274,-1671.5 447,-1671.5 447,-1715.5\"/>\n",
       "<polygon fill=\"none\" stroke=\"black\" points=\"274,-1671.5 274,-1715.5 338,-1715.5 338,-1671.5 274,-1671.5\"/>\n",
       "<text text-anchor=\"start\" x=\"279\" y=\"-1696.75\" font-family=\"Linux libertine\" font-size=\"10.00\">LayerNorm</text>\n",
       "<text text-anchor=\"start\" x=\"287.62\" y=\"-1684\" font-family=\"Linux libertine\" font-size=\"10.00\">depth:3</text>\n",
       "<polygon fill=\"none\" stroke=\"black\" points=\"338,-1693.5 338,-1715.5 385,-1715.5 385,-1693.5 338,-1693.5\"/>\n",
       "<text text-anchor=\"start\" x=\"347.62\" y=\"-1701\" font-family=\"Linux libertine\" font-size=\"10.00\">input:</text>\n",
       "<polygon fill=\"none\" stroke=\"black\" points=\"385,-1693.5 385,-1715.5 447,-1715.5 447,-1693.5 385,-1693.5\"/>\n",
       "<text text-anchor=\"start\" x=\"389.75\" y=\"-1701\" font-family=\"Linux libertine\" font-size=\"10.00\">(5, 45, 64) </text>\n",
       "<polygon fill=\"none\" stroke=\"black\" points=\"338,-1671.5 338,-1693.5 385,-1693.5 385,-1671.5 338,-1671.5\"/>\n",
       "<text text-anchor=\"start\" x=\"342.75\" y=\"-1679\" font-family=\"Linux libertine\" font-size=\"10.00\">output: </text>\n",
       "<polygon fill=\"none\" stroke=\"black\" points=\"385,-1671.5 385,-1693.5 447,-1693.5 447,-1671.5 385,-1671.5\"/>\n",
       "<text text-anchor=\"start\" x=\"389.75\" y=\"-1679\" font-family=\"Linux libertine\" font-size=\"10.00\">(5, 45, 64) </text>\n",
       "</g>\n",
       "<!-- 44&#45;&gt;45 -->\n",
       "<g id=\"edge56\" class=\"edge\">\n",
       "<title>44&#45;&gt;45</title>\n",
       "<path fill=\"none\" stroke=\"black\" d=\"M301.21,-1751.6C310.38,-1742.77 321.2,-1732.35 331.07,-1722.84\"/>\n",
       "<polygon fill=\"black\" stroke=\"black\" points=\"332.96,-1725.92 337.73,-1716.46 328.1,-1720.88 332.96,-1725.92\"/>\n",
       "</g>\n",
       "<!-- 47 -->\n",
       "<g id=\"node48\" class=\"node\">\n",
       "<title>47</title>\n",
       "<polygon fill=\"aliceblue\" stroke=\"none\" points=\"390,-1555.5 217,-1555.5 217,-1511.5 390,-1511.5 390,-1555.5\"/>\n",
       "<polygon fill=\"none\" stroke=\"black\" points=\"217,-1511.5 217,-1555.5 263,-1555.5 263,-1511.5 217,-1511.5\"/>\n",
       "<text text-anchor=\"start\" x=\"231\" y=\"-1536.75\" font-family=\"Linux libertine\" font-size=\"10.00\">add</text>\n",
       "<text text-anchor=\"start\" x=\"221.62\" y=\"-1524\" font-family=\"Linux libertine\" font-size=\"10.00\">depth:3</text>\n",
       "<polygon fill=\"none\" stroke=\"black\" points=\"263,-1533.5 263,-1555.5 310,-1555.5 310,-1533.5 263,-1533.5\"/>\n",
       "<text text-anchor=\"start\" x=\"272.62\" y=\"-1541\" font-family=\"Linux libertine\" font-size=\"10.00\">input:</text>\n",
       "<polygon fill=\"none\" stroke=\"black\" points=\"310,-1533.5 310,-1555.5 390,-1555.5 390,-1533.5 310,-1533.5\"/>\n",
       "<text text-anchor=\"start\" x=\"314.75\" y=\"-1541\" font-family=\"Linux libertine\" font-size=\"10.00\">2 x (5, 45, 64) </text>\n",
       "<polygon fill=\"none\" stroke=\"black\" points=\"263,-1511.5 263,-1533.5 310,-1533.5 310,-1511.5 263,-1511.5\"/>\n",
       "<text text-anchor=\"start\" x=\"267.75\" y=\"-1519\" font-family=\"Linux libertine\" font-size=\"10.00\">output: </text>\n",
       "<polygon fill=\"none\" stroke=\"black\" points=\"310,-1511.5 310,-1533.5 390,-1533.5 390,-1511.5 310,-1511.5\"/>\n",
       "<text text-anchor=\"start\" x=\"323.75\" y=\"-1519\" font-family=\"Linux libertine\" font-size=\"10.00\">(5, 45, 64) </text>\n",
       "</g>\n",
       "<!-- 44&#45;&gt;47 -->\n",
       "<g id=\"edge57\" class=\"edge\">\n",
       "<title>44&#45;&gt;47</title>\n",
       "<path fill=\"none\" stroke=\"black\" d=\"M267.15,-1751.57C248.43,-1716.95 217.49,-1646.18 241.5,-1591.5 246.32,-1580.53 254.4,-1570.75 263.16,-1562.51\"/>\n",
       "<polygon fill=\"black\" stroke=\"black\" points=\"265.09,-1564.6 270.33,-1555.39 260.49,-1559.32 265.09,-1564.6\"/>\n",
       "</g>\n",
       "<!-- 46 -->\n",
       "<g id=\"node47\" class=\"node\">\n",
       "<title>46</title>\n",
       "<polygon fill=\"#c1ffc1\" stroke=\"none\" points=\"518.5,-1635.5 250.5,-1635.5 250.5,-1591.5 518.5,-1591.5 518.5,-1635.5\"/>\n",
       "<polygon fill=\"none\" stroke=\"black\" points=\"250.5,-1591.5 250.5,-1635.5 353.5,-1635.5 353.5,-1591.5 250.5,-1591.5\"/>\n",
       "<text text-anchor=\"start\" x=\"255.12\" y=\"-1616.75\" font-family=\"Linux libertine\" font-size=\"10.00\">MultiheadAttention</text>\n",
       "<text text-anchor=\"start\" x=\"283.62\" y=\"-1604\" font-family=\"Linux libertine\" font-size=\"10.00\">depth:3</text>\n",
       "<polygon fill=\"none\" stroke=\"black\" points=\"353.5,-1613.5 353.5,-1635.5 400.5,-1635.5 400.5,-1613.5 353.5,-1613.5\"/>\n",
       "<text text-anchor=\"start\" x=\"363.12\" y=\"-1621\" font-family=\"Linux libertine\" font-size=\"10.00\">input:</text>\n",
       "<polygon fill=\"none\" stroke=\"black\" points=\"400.5,-1613.5 400.5,-1635.5 518.5,-1635.5 518.5,-1613.5 400.5,-1613.5\"/>\n",
       "<text text-anchor=\"start\" x=\"424.25\" y=\"-1621\" font-family=\"Linux libertine\" font-size=\"10.00\">3 x (5, 45, 64) </text>\n",
       "<polygon fill=\"none\" stroke=\"black\" points=\"353.5,-1591.5 353.5,-1613.5 400.5,-1613.5 400.5,-1591.5 353.5,-1591.5\"/>\n",
       "<text text-anchor=\"start\" x=\"358.25\" y=\"-1599\" font-family=\"Linux libertine\" font-size=\"10.00\">output: </text>\n",
       "<polygon fill=\"none\" stroke=\"black\" points=\"400.5,-1591.5 400.5,-1613.5 518.5,-1613.5 518.5,-1591.5 400.5,-1591.5\"/>\n",
       "<text text-anchor=\"start\" x=\"405.5\" y=\"-1599\" font-family=\"Linux libertine\" font-size=\"10.00\">(5, 45, 64), (5, 45, 45) </text>\n",
       "</g>\n",
       "<!-- 45&#45;&gt;46 -->\n",
       "<g id=\"edge58\" class=\"edge\">\n",
       "<title>45&#45;&gt;46</title>\n",
       "<path fill=\"none\" stroke=\"black\" d=\"M366.93,-1671.6C369.38,-1663.64 372.23,-1654.39 374.9,-1645.69\"/>\n",
       "<polygon fill=\"black\" stroke=\"black\" points=\"378.45,-1647.05 378.05,-1636.46 371.76,-1644.99 378.45,-1647.05\"/>\n",
       "</g>\n",
       "<!-- 46&#45;&gt;47 -->\n",
       "<g id=\"edge59\" class=\"edge\">\n",
       "<title>46&#45;&gt;47</title>\n",
       "<path fill=\"none\" stroke=\"black\" d=\"M362.79,-1591.6C353.62,-1582.77 342.8,-1572.35 332.93,-1562.84\"/>\n",
       "<polygon fill=\"black\" stroke=\"black\" points=\"335.9,-1560.88 326.27,-1556.46 331.04,-1565.92 335.9,-1560.88\"/>\n",
       "</g>\n",
       "<!-- 48 -->\n",
       "<g id=\"node49\" class=\"node\">\n",
       "<title>48</title>\n",
       "<polygon fill=\"#c1ffc1\" stroke=\"none\" points=\"448,-1475.5 275,-1475.5 275,-1431.5 448,-1431.5 448,-1475.5\"/>\n",
       "<polygon fill=\"none\" stroke=\"black\" points=\"275,-1431.5 275,-1475.5 339,-1475.5 339,-1431.5 275,-1431.5\"/>\n",
       "<text text-anchor=\"start\" x=\"280\" y=\"-1456.75\" font-family=\"Linux libertine\" font-size=\"10.00\">LayerNorm</text>\n",
       "<text text-anchor=\"start\" x=\"288.62\" y=\"-1444\" font-family=\"Linux libertine\" font-size=\"10.00\">depth:3</text>\n",
       "<polygon fill=\"none\" stroke=\"black\" points=\"339,-1453.5 339,-1475.5 386,-1475.5 386,-1453.5 339,-1453.5\"/>\n",
       "<text text-anchor=\"start\" x=\"348.62\" y=\"-1461\" font-family=\"Linux libertine\" font-size=\"10.00\">input:</text>\n",
       "<polygon fill=\"none\" stroke=\"black\" points=\"386,-1453.5 386,-1475.5 448,-1475.5 448,-1453.5 386,-1453.5\"/>\n",
       "<text text-anchor=\"start\" x=\"390.75\" y=\"-1461\" font-family=\"Linux libertine\" font-size=\"10.00\">(5, 45, 64) </text>\n",
       "<polygon fill=\"none\" stroke=\"black\" points=\"339,-1431.5 339,-1453.5 386,-1453.5 386,-1431.5 339,-1431.5\"/>\n",
       "<text text-anchor=\"start\" x=\"343.75\" y=\"-1439\" font-family=\"Linux libertine\" font-size=\"10.00\">output: </text>\n",
       "<polygon fill=\"none\" stroke=\"black\" points=\"386,-1431.5 386,-1453.5 448,-1453.5 448,-1431.5 386,-1431.5\"/>\n",
       "<text text-anchor=\"start\" x=\"390.75\" y=\"-1439\" font-family=\"Linux libertine\" font-size=\"10.00\">(5, 45, 64) </text>\n",
       "</g>\n",
       "<!-- 47&#45;&gt;48 -->\n",
       "<g id=\"edge60\" class=\"edge\">\n",
       "<title>47&#45;&gt;48</title>\n",
       "<path fill=\"none\" stroke=\"black\" d=\"M319.04,-1511.6C325.28,-1503.2 332.59,-1493.37 339.37,-1484.26\"/>\n",
       "<polygon fill=\"black\" stroke=\"black\" points=\"342.76,-1486.57 345.91,-1476.46 337.14,-1482.4 342.76,-1486.57\"/>\n",
       "</g>\n",
       "<!-- 51 -->\n",
       "<g id=\"node52\" class=\"node\">\n",
       "<title>51</title>\n",
       "<polygon fill=\"aliceblue\" stroke=\"none\" points=\"386,-1235.5 213,-1235.5 213,-1191.5 386,-1191.5 386,-1235.5\"/>\n",
       "<polygon fill=\"none\" stroke=\"black\" points=\"213,-1191.5 213,-1235.5 259,-1235.5 259,-1191.5 213,-1191.5\"/>\n",
       "<text text-anchor=\"start\" x=\"227\" y=\"-1216.75\" font-family=\"Linux libertine\" font-size=\"10.00\">add</text>\n",
       "<text text-anchor=\"start\" x=\"217.62\" y=\"-1204\" font-family=\"Linux libertine\" font-size=\"10.00\">depth:3</text>\n",
       "<polygon fill=\"none\" stroke=\"black\" points=\"259,-1213.5 259,-1235.5 306,-1235.5 306,-1213.5 259,-1213.5\"/>\n",
       "<text text-anchor=\"start\" x=\"268.62\" y=\"-1221\" font-family=\"Linux libertine\" font-size=\"10.00\">input:</text>\n",
       "<polygon fill=\"none\" stroke=\"black\" points=\"306,-1213.5 306,-1235.5 386,-1235.5 386,-1213.5 306,-1213.5\"/>\n",
       "<text text-anchor=\"start\" x=\"310.75\" y=\"-1221\" font-family=\"Linux libertine\" font-size=\"10.00\">2 x (5, 45, 64) </text>\n",
       "<polygon fill=\"none\" stroke=\"black\" points=\"259,-1191.5 259,-1213.5 306,-1213.5 306,-1191.5 259,-1191.5\"/>\n",
       "<text text-anchor=\"start\" x=\"263.75\" y=\"-1199\" font-family=\"Linux libertine\" font-size=\"10.00\">output: </text>\n",
       "<polygon fill=\"none\" stroke=\"black\" points=\"306,-1191.5 306,-1213.5 386,-1213.5 386,-1191.5 306,-1191.5\"/>\n",
       "<text text-anchor=\"start\" x=\"319.75\" y=\"-1199\" font-family=\"Linux libertine\" font-size=\"10.00\">(5, 45, 64) </text>\n",
       "</g>\n",
       "<!-- 47&#45;&gt;51 -->\n",
       "<g id=\"edge61\" class=\"edge\">\n",
       "<title>47&#45;&gt;51</title>\n",
       "<path fill=\"none\" stroke=\"black\" d=\"M285.22,-1511.59C277.53,-1501.42 269.46,-1488.59 265.5,-1475.5 255.43,-1442.24 238.7,-1389.8 269.5,-1271.5 271.84,-1262.5 275.83,-1253.33 280.15,-1245.05\"/>\n",
       "<polygon fill=\"black\" stroke=\"black\" points=\"283.68,-1246.91 285.49,-1236.47 277.56,-1243.5 283.68,-1246.91\"/>\n",
       "</g>\n",
       "<!-- 49 -->\n",
       "<g id=\"node50\" class=\"node\">\n",
       "<title>49</title>\n",
       "<polygon fill=\"#c1ffc1\" stroke=\"none\" points=\"436,-1395.5 281,-1395.5 281,-1351.5 436,-1351.5 436,-1395.5\"/>\n",
       "<polygon fill=\"none\" stroke=\"black\" points=\"281,-1351.5 281,-1395.5 327,-1395.5 327,-1351.5 281,-1351.5\"/>\n",
       "<text text-anchor=\"start\" x=\"289\" y=\"-1376.75\" font-family=\"Linux libertine\" font-size=\"10.00\">Linear</text>\n",
       "<text text-anchor=\"start\" x=\"285.62\" y=\"-1364\" font-family=\"Linux libertine\" font-size=\"10.00\">depth:3</text>\n",
       "<polygon fill=\"none\" stroke=\"black\" points=\"327,-1373.5 327,-1395.5 374,-1395.5 374,-1373.5 327,-1373.5\"/>\n",
       "<text text-anchor=\"start\" x=\"336.62\" y=\"-1381\" font-family=\"Linux libertine\" font-size=\"10.00\">input:</text>\n",
       "<polygon fill=\"none\" stroke=\"black\" points=\"374,-1373.5 374,-1395.5 436,-1395.5 436,-1373.5 374,-1373.5\"/>\n",
       "<text text-anchor=\"start\" x=\"378.75\" y=\"-1381\" font-family=\"Linux libertine\" font-size=\"10.00\">(5, 45, 64) </text>\n",
       "<polygon fill=\"none\" stroke=\"black\" points=\"327,-1351.5 327,-1373.5 374,-1373.5 374,-1351.5 327,-1351.5\"/>\n",
       "<text text-anchor=\"start\" x=\"331.75\" y=\"-1359\" font-family=\"Linux libertine\" font-size=\"10.00\">output: </text>\n",
       "<polygon fill=\"none\" stroke=\"black\" points=\"374,-1351.5 374,-1373.5 436,-1373.5 436,-1351.5 374,-1351.5\"/>\n",
       "<text text-anchor=\"start\" x=\"378.75\" y=\"-1359\" font-family=\"Linux libertine\" font-size=\"10.00\">(5, 45, 64) </text>\n",
       "</g>\n",
       "<!-- 48&#45;&gt;49 -->\n",
       "<g id=\"edge62\" class=\"edge\">\n",
       "<title>48&#45;&gt;49</title>\n",
       "<path fill=\"none\" stroke=\"black\" d=\"M360.7,-1431.6C360.4,-1423.82 360.05,-1414.8 359.72,-1406.26\"/>\n",
       "<polygon fill=\"black\" stroke=\"black\" points=\"363.19,-1406.32 359.31,-1396.46 356.19,-1406.59 363.19,-1406.32\"/>\n",
       "</g>\n",
       "<!-- 50 -->\n",
       "<g id=\"node51\" class=\"node\">\n",
       "<title>50</title>\n",
       "<polygon fill=\"#c1ffc1\" stroke=\"none\" points=\"434,-1315.5 279,-1315.5 279,-1271.5 434,-1271.5 434,-1315.5\"/>\n",
       "<polygon fill=\"none\" stroke=\"black\" points=\"279,-1271.5 279,-1315.5 325,-1315.5 325,-1271.5 279,-1271.5\"/>\n",
       "<text text-anchor=\"start\" x=\"288.88\" y=\"-1296.75\" font-family=\"Linux libertine\" font-size=\"10.00\">GELU</text>\n",
       "<text text-anchor=\"start\" x=\"283.62\" y=\"-1284\" font-family=\"Linux libertine\" font-size=\"10.00\">depth:3</text>\n",
       "<polygon fill=\"none\" stroke=\"black\" points=\"325,-1293.5 325,-1315.5 372,-1315.5 372,-1293.5 325,-1293.5\"/>\n",
       "<text text-anchor=\"start\" x=\"334.62\" y=\"-1301\" font-family=\"Linux libertine\" font-size=\"10.00\">input:</text>\n",
       "<polygon fill=\"none\" stroke=\"black\" points=\"372,-1293.5 372,-1315.5 434,-1315.5 434,-1293.5 372,-1293.5\"/>\n",
       "<text text-anchor=\"start\" x=\"376.75\" y=\"-1301\" font-family=\"Linux libertine\" font-size=\"10.00\">(5, 45, 64) </text>\n",
       "<polygon fill=\"none\" stroke=\"black\" points=\"325,-1271.5 325,-1293.5 372,-1293.5 372,-1271.5 325,-1271.5\"/>\n",
       "<text text-anchor=\"start\" x=\"329.75\" y=\"-1279\" font-family=\"Linux libertine\" font-size=\"10.00\">output: </text>\n",
       "<polygon fill=\"none\" stroke=\"black\" points=\"372,-1271.5 372,-1293.5 434,-1293.5 434,-1271.5 372,-1271.5\"/>\n",
       "<text text-anchor=\"start\" x=\"376.75\" y=\"-1279\" font-family=\"Linux libertine\" font-size=\"10.00\">(5, 45, 64) </text>\n",
       "</g>\n",
       "<!-- 49&#45;&gt;50 -->\n",
       "<g id=\"edge63\" class=\"edge\">\n",
       "<title>49&#45;&gt;50</title>\n",
       "<path fill=\"none\" stroke=\"black\" d=\"M357.96,-1351.6C357.76,-1343.82 357.53,-1334.8 357.31,-1326.26\"/>\n",
       "<polygon fill=\"black\" stroke=\"black\" points=\"360.79,-1326.37 357.04,-1316.46 353.8,-1326.55 360.79,-1326.37\"/>\n",
       "</g>\n",
       "<!-- 50&#45;&gt;51 -->\n",
       "<g id=\"edge64\" class=\"edge\">\n",
       "<title>50&#45;&gt;51</title>\n",
       "<path fill=\"none\" stroke=\"black\" d=\"M341.23,-1271.6C335.09,-1263.2 327.91,-1253.37 321.25,-1244.26\"/>\n",
       "<polygon fill=\"black\" stroke=\"black\" points=\"323.54,-1242.47 314.82,-1236.46 317.89,-1246.6 323.54,-1242.47\"/>\n",
       "</g>\n",
       "<!-- 52 -->\n",
       "<g id=\"node53\" class=\"node\">\n",
       "<title>52</title>\n",
       "<polygon fill=\"#c1ffc1\" stroke=\"none\" points=\"467,-1155.5 294,-1155.5 294,-1111.5 467,-1111.5 467,-1155.5\"/>\n",
       "<polygon fill=\"none\" stroke=\"black\" points=\"294,-1111.5 294,-1155.5 358,-1155.5 358,-1111.5 294,-1111.5\"/>\n",
       "<text text-anchor=\"start\" x=\"299\" y=\"-1136.75\" font-family=\"Linux libertine\" font-size=\"10.00\">LayerNorm</text>\n",
       "<text text-anchor=\"start\" x=\"307.62\" y=\"-1124\" font-family=\"Linux libertine\" font-size=\"10.00\">depth:3</text>\n",
       "<polygon fill=\"none\" stroke=\"black\" points=\"358,-1133.5 358,-1155.5 405,-1155.5 405,-1133.5 358,-1133.5\"/>\n",
       "<text text-anchor=\"start\" x=\"367.62\" y=\"-1141\" font-family=\"Linux libertine\" font-size=\"10.00\">input:</text>\n",
       "<polygon fill=\"none\" stroke=\"black\" points=\"405,-1133.5 405,-1155.5 467,-1155.5 467,-1133.5 405,-1133.5\"/>\n",
       "<text text-anchor=\"start\" x=\"409.75\" y=\"-1141\" font-family=\"Linux libertine\" font-size=\"10.00\">(5, 45, 64) </text>\n",
       "<polygon fill=\"none\" stroke=\"black\" points=\"358,-1111.5 358,-1133.5 405,-1133.5 405,-1111.5 358,-1111.5\"/>\n",
       "<text text-anchor=\"start\" x=\"362.75\" y=\"-1119\" font-family=\"Linux libertine\" font-size=\"10.00\">output: </text>\n",
       "<polygon fill=\"none\" stroke=\"black\" points=\"405,-1111.5 405,-1133.5 467,-1133.5 467,-1111.5 405,-1111.5\"/>\n",
       "<text text-anchor=\"start\" x=\"409.75\" y=\"-1119\" font-family=\"Linux libertine\" font-size=\"10.00\">(5, 45, 64) </text>\n",
       "</g>\n",
       "<!-- 51&#45;&gt;52 -->\n",
       "<g id=\"edge65\" class=\"edge\">\n",
       "<title>51&#45;&gt;52</title>\n",
       "<path fill=\"none\" stroke=\"black\" d=\"M321.21,-1191.6C330.38,-1182.77 341.2,-1172.35 351.07,-1162.84\"/>\n",
       "<polygon fill=\"black\" stroke=\"black\" points=\"352.96,-1165.92 357.73,-1156.46 348.1,-1160.88 352.96,-1165.92\"/>\n",
       "</g>\n",
       "<!-- 54 -->\n",
       "<g id=\"node55\" class=\"node\">\n",
       "<title>54</title>\n",
       "<polygon fill=\"aliceblue\" stroke=\"none\" points=\"410,-995.5 237,-995.5 237,-951.5 410,-951.5 410,-995.5\"/>\n",
       "<polygon fill=\"none\" stroke=\"black\" points=\"237,-951.5 237,-995.5 283,-995.5 283,-951.5 237,-951.5\"/>\n",
       "<text text-anchor=\"start\" x=\"251\" y=\"-976.75\" font-family=\"Linux libertine\" font-size=\"10.00\">add</text>\n",
       "<text text-anchor=\"start\" x=\"241.62\" y=\"-964\" font-family=\"Linux libertine\" font-size=\"10.00\">depth:3</text>\n",
       "<polygon fill=\"none\" stroke=\"black\" points=\"283,-973.5 283,-995.5 330,-995.5 330,-973.5 283,-973.5\"/>\n",
       "<text text-anchor=\"start\" x=\"292.62\" y=\"-981\" font-family=\"Linux libertine\" font-size=\"10.00\">input:</text>\n",
       "<polygon fill=\"none\" stroke=\"black\" points=\"330,-973.5 330,-995.5 410,-995.5 410,-973.5 330,-973.5\"/>\n",
       "<text text-anchor=\"start\" x=\"334.75\" y=\"-981\" font-family=\"Linux libertine\" font-size=\"10.00\">2 x (5, 45, 64) </text>\n",
       "<polygon fill=\"none\" stroke=\"black\" points=\"283,-951.5 283,-973.5 330,-973.5 330,-951.5 283,-951.5\"/>\n",
       "<text text-anchor=\"start\" x=\"287.75\" y=\"-959\" font-family=\"Linux libertine\" font-size=\"10.00\">output: </text>\n",
       "<polygon fill=\"none\" stroke=\"black\" points=\"330,-951.5 330,-973.5 410,-973.5 410,-951.5 330,-951.5\"/>\n",
       "<text text-anchor=\"start\" x=\"343.75\" y=\"-959\" font-family=\"Linux libertine\" font-size=\"10.00\">(5, 45, 64) </text>\n",
       "</g>\n",
       "<!-- 51&#45;&gt;54 -->\n",
       "<g id=\"edge66\" class=\"edge\">\n",
       "<title>51&#45;&gt;54</title>\n",
       "<path fill=\"none\" stroke=\"black\" d=\"M287.15,-1191.57C268.43,-1156.95 237.49,-1086.18 261.5,-1031.5 266.32,-1020.53 274.4,-1010.75 283.16,-1002.51\"/>\n",
       "<polygon fill=\"black\" stroke=\"black\" points=\"285.09,-1004.6 290.33,-995.39 280.49,-999.32 285.09,-1004.6\"/>\n",
       "</g>\n",
       "<!-- 53 -->\n",
       "<g id=\"node54\" class=\"node\">\n",
       "<title>53</title>\n",
       "<polygon fill=\"#c1ffc1\" stroke=\"none\" points=\"538.5,-1075.5 270.5,-1075.5 270.5,-1031.5 538.5,-1031.5 538.5,-1075.5\"/>\n",
       "<polygon fill=\"none\" stroke=\"black\" points=\"270.5,-1031.5 270.5,-1075.5 373.5,-1075.5 373.5,-1031.5 270.5,-1031.5\"/>\n",
       "<text text-anchor=\"start\" x=\"275.12\" y=\"-1056.75\" font-family=\"Linux libertine\" font-size=\"10.00\">MultiheadAttention</text>\n",
       "<text text-anchor=\"start\" x=\"303.62\" y=\"-1044\" font-family=\"Linux libertine\" font-size=\"10.00\">depth:3</text>\n",
       "<polygon fill=\"none\" stroke=\"black\" points=\"373.5,-1053.5 373.5,-1075.5 420.5,-1075.5 420.5,-1053.5 373.5,-1053.5\"/>\n",
       "<text text-anchor=\"start\" x=\"383.12\" y=\"-1061\" font-family=\"Linux libertine\" font-size=\"10.00\">input:</text>\n",
       "<polygon fill=\"none\" stroke=\"black\" points=\"420.5,-1053.5 420.5,-1075.5 538.5,-1075.5 538.5,-1053.5 420.5,-1053.5\"/>\n",
       "<text text-anchor=\"start\" x=\"444.25\" y=\"-1061\" font-family=\"Linux libertine\" font-size=\"10.00\">3 x (5, 45, 64) </text>\n",
       "<polygon fill=\"none\" stroke=\"black\" points=\"373.5,-1031.5 373.5,-1053.5 420.5,-1053.5 420.5,-1031.5 373.5,-1031.5\"/>\n",
       "<text text-anchor=\"start\" x=\"378.25\" y=\"-1039\" font-family=\"Linux libertine\" font-size=\"10.00\">output: </text>\n",
       "<polygon fill=\"none\" stroke=\"black\" points=\"420.5,-1031.5 420.5,-1053.5 538.5,-1053.5 538.5,-1031.5 420.5,-1031.5\"/>\n",
       "<text text-anchor=\"start\" x=\"425.5\" y=\"-1039\" font-family=\"Linux libertine\" font-size=\"10.00\">(5, 45, 64), (5, 45, 45) </text>\n",
       "</g>\n",
       "<!-- 52&#45;&gt;53 -->\n",
       "<g id=\"edge67\" class=\"edge\">\n",
       "<title>52&#45;&gt;53</title>\n",
       "<path fill=\"none\" stroke=\"black\" d=\"M386.93,-1111.6C389.38,-1103.64 392.23,-1094.39 394.9,-1085.69\"/>\n",
       "<polygon fill=\"black\" stroke=\"black\" points=\"398.45,-1087.05 398.05,-1076.46 391.76,-1084.99 398.45,-1087.05\"/>\n",
       "</g>\n",
       "<!-- 53&#45;&gt;54 -->\n",
       "<g id=\"edge68\" class=\"edge\">\n",
       "<title>53&#45;&gt;54</title>\n",
       "<path fill=\"none\" stroke=\"black\" d=\"M382.79,-1031.6C373.62,-1022.77 362.8,-1012.35 352.93,-1002.84\"/>\n",
       "<polygon fill=\"black\" stroke=\"black\" points=\"355.9,-1000.88 346.27,-996.46 351.04,-1005.92 355.9,-1000.88\"/>\n",
       "</g>\n",
       "<!-- 55 -->\n",
       "<g id=\"node56\" class=\"node\">\n",
       "<title>55</title>\n",
       "<polygon fill=\"#c1ffc1\" stroke=\"none\" points=\"468,-915.5 295,-915.5 295,-871.5 468,-871.5 468,-915.5\"/>\n",
       "<polygon fill=\"none\" stroke=\"black\" points=\"295,-871.5 295,-915.5 359,-915.5 359,-871.5 295,-871.5\"/>\n",
       "<text text-anchor=\"start\" x=\"300\" y=\"-896.75\" font-family=\"Linux libertine\" font-size=\"10.00\">LayerNorm</text>\n",
       "<text text-anchor=\"start\" x=\"308.62\" y=\"-884\" font-family=\"Linux libertine\" font-size=\"10.00\">depth:3</text>\n",
       "<polygon fill=\"none\" stroke=\"black\" points=\"359,-893.5 359,-915.5 406,-915.5 406,-893.5 359,-893.5\"/>\n",
       "<text text-anchor=\"start\" x=\"368.62\" y=\"-901\" font-family=\"Linux libertine\" font-size=\"10.00\">input:</text>\n",
       "<polygon fill=\"none\" stroke=\"black\" points=\"406,-893.5 406,-915.5 468,-915.5 468,-893.5 406,-893.5\"/>\n",
       "<text text-anchor=\"start\" x=\"410.75\" y=\"-901\" font-family=\"Linux libertine\" font-size=\"10.00\">(5, 45, 64) </text>\n",
       "<polygon fill=\"none\" stroke=\"black\" points=\"359,-871.5 359,-893.5 406,-893.5 406,-871.5 359,-871.5\"/>\n",
       "<text text-anchor=\"start\" x=\"363.75\" y=\"-879\" font-family=\"Linux libertine\" font-size=\"10.00\">output: </text>\n",
       "<polygon fill=\"none\" stroke=\"black\" points=\"406,-871.5 406,-893.5 468,-893.5 468,-871.5 406,-871.5\"/>\n",
       "<text text-anchor=\"start\" x=\"410.75\" y=\"-879\" font-family=\"Linux libertine\" font-size=\"10.00\">(5, 45, 64) </text>\n",
       "</g>\n",
       "<!-- 54&#45;&gt;55 -->\n",
       "<g id=\"edge69\" class=\"edge\">\n",
       "<title>54&#45;&gt;55</title>\n",
       "<path fill=\"none\" stroke=\"black\" d=\"M339.04,-951.6C345.28,-943.2 352.59,-933.37 359.37,-924.26\"/>\n",
       "<polygon fill=\"black\" stroke=\"black\" points=\"362.76,-926.57 365.91,-916.46 357.14,-922.4 362.76,-926.57\"/>\n",
       "</g>\n",
       "<!-- 58 -->\n",
       "<g id=\"node59\" class=\"node\">\n",
       "<title>58</title>\n",
       "<polygon fill=\"aliceblue\" stroke=\"none\" points=\"406,-675.5 233,-675.5 233,-631.5 406,-631.5 406,-675.5\"/>\n",
       "<polygon fill=\"none\" stroke=\"black\" points=\"233,-631.5 233,-675.5 279,-675.5 279,-631.5 233,-631.5\"/>\n",
       "<text text-anchor=\"start\" x=\"247\" y=\"-656.75\" font-family=\"Linux libertine\" font-size=\"10.00\">add</text>\n",
       "<text text-anchor=\"start\" x=\"237.62\" y=\"-644\" font-family=\"Linux libertine\" font-size=\"10.00\">depth:3</text>\n",
       "<polygon fill=\"none\" stroke=\"black\" points=\"279,-653.5 279,-675.5 326,-675.5 326,-653.5 279,-653.5\"/>\n",
       "<text text-anchor=\"start\" x=\"288.62\" y=\"-661\" font-family=\"Linux libertine\" font-size=\"10.00\">input:</text>\n",
       "<polygon fill=\"none\" stroke=\"black\" points=\"326,-653.5 326,-675.5 406,-675.5 406,-653.5 326,-653.5\"/>\n",
       "<text text-anchor=\"start\" x=\"330.75\" y=\"-661\" font-family=\"Linux libertine\" font-size=\"10.00\">2 x (5, 45, 64) </text>\n",
       "<polygon fill=\"none\" stroke=\"black\" points=\"279,-631.5 279,-653.5 326,-653.5 326,-631.5 279,-631.5\"/>\n",
       "<text text-anchor=\"start\" x=\"283.75\" y=\"-639\" font-family=\"Linux libertine\" font-size=\"10.00\">output: </text>\n",
       "<polygon fill=\"none\" stroke=\"black\" points=\"326,-631.5 326,-653.5 406,-653.5 406,-631.5 326,-631.5\"/>\n",
       "<text text-anchor=\"start\" x=\"339.75\" y=\"-639\" font-family=\"Linux libertine\" font-size=\"10.00\">(5, 45, 64) </text>\n",
       "</g>\n",
       "<!-- 54&#45;&gt;58 -->\n",
       "<g id=\"edge70\" class=\"edge\">\n",
       "<title>54&#45;&gt;58</title>\n",
       "<path fill=\"none\" stroke=\"black\" d=\"M305.22,-951.59C297.53,-941.42 289.46,-928.59 285.5,-915.5 275.43,-882.24 258.7,-829.8 289.5,-711.5 291.84,-702.5 295.83,-693.33 300.15,-685.05\"/>\n",
       "<polygon fill=\"black\" stroke=\"black\" points=\"303.68,-686.91 305.49,-676.47 297.56,-683.5 303.68,-686.91\"/>\n",
       "</g>\n",
       "<!-- 56 -->\n",
       "<g id=\"node57\" class=\"node\">\n",
       "<title>56</title>\n",
       "<polygon fill=\"#c1ffc1\" stroke=\"none\" points=\"456,-835.5 301,-835.5 301,-791.5 456,-791.5 456,-835.5\"/>\n",
       "<polygon fill=\"none\" stroke=\"black\" points=\"301,-791.5 301,-835.5 347,-835.5 347,-791.5 301,-791.5\"/>\n",
       "<text text-anchor=\"start\" x=\"309\" y=\"-816.75\" font-family=\"Linux libertine\" font-size=\"10.00\">Linear</text>\n",
       "<text text-anchor=\"start\" x=\"305.62\" y=\"-804\" font-family=\"Linux libertine\" font-size=\"10.00\">depth:3</text>\n",
       "<polygon fill=\"none\" stroke=\"black\" points=\"347,-813.5 347,-835.5 394,-835.5 394,-813.5 347,-813.5\"/>\n",
       "<text text-anchor=\"start\" x=\"356.62\" y=\"-821\" font-family=\"Linux libertine\" font-size=\"10.00\">input:</text>\n",
       "<polygon fill=\"none\" stroke=\"black\" points=\"394,-813.5 394,-835.5 456,-835.5 456,-813.5 394,-813.5\"/>\n",
       "<text text-anchor=\"start\" x=\"398.75\" y=\"-821\" font-family=\"Linux libertine\" font-size=\"10.00\">(5, 45, 64) </text>\n",
       "<polygon fill=\"none\" stroke=\"black\" points=\"347,-791.5 347,-813.5 394,-813.5 394,-791.5 347,-791.5\"/>\n",
       "<text text-anchor=\"start\" x=\"351.75\" y=\"-799\" font-family=\"Linux libertine\" font-size=\"10.00\">output: </text>\n",
       "<polygon fill=\"none\" stroke=\"black\" points=\"394,-791.5 394,-813.5 456,-813.5 456,-791.5 394,-791.5\"/>\n",
       "<text text-anchor=\"start\" x=\"398.75\" y=\"-799\" font-family=\"Linux libertine\" font-size=\"10.00\">(5, 45, 64) </text>\n",
       "</g>\n",
       "<!-- 55&#45;&gt;56 -->\n",
       "<g id=\"edge71\" class=\"edge\">\n",
       "<title>55&#45;&gt;56</title>\n",
       "<path fill=\"none\" stroke=\"black\" d=\"M380.7,-871.6C380.4,-863.82 380.05,-854.8 379.72,-846.26\"/>\n",
       "<polygon fill=\"black\" stroke=\"black\" points=\"383.19,-846.32 379.31,-836.46 376.19,-846.59 383.19,-846.32\"/>\n",
       "</g>\n",
       "<!-- 57 -->\n",
       "<g id=\"node58\" class=\"node\">\n",
       "<title>57</title>\n",
       "<polygon fill=\"#c1ffc1\" stroke=\"none\" points=\"454,-755.5 299,-755.5 299,-711.5 454,-711.5 454,-755.5\"/>\n",
       "<polygon fill=\"none\" stroke=\"black\" points=\"299,-711.5 299,-755.5 345,-755.5 345,-711.5 299,-711.5\"/>\n",
       "<text text-anchor=\"start\" x=\"308.88\" y=\"-736.75\" font-family=\"Linux libertine\" font-size=\"10.00\">GELU</text>\n",
       "<text text-anchor=\"start\" x=\"303.62\" y=\"-724\" font-family=\"Linux libertine\" font-size=\"10.00\">depth:3</text>\n",
       "<polygon fill=\"none\" stroke=\"black\" points=\"345,-733.5 345,-755.5 392,-755.5 392,-733.5 345,-733.5\"/>\n",
       "<text text-anchor=\"start\" x=\"354.62\" y=\"-741\" font-family=\"Linux libertine\" font-size=\"10.00\">input:</text>\n",
       "<polygon fill=\"none\" stroke=\"black\" points=\"392,-733.5 392,-755.5 454,-755.5 454,-733.5 392,-733.5\"/>\n",
       "<text text-anchor=\"start\" x=\"396.75\" y=\"-741\" font-family=\"Linux libertine\" font-size=\"10.00\">(5, 45, 64) </text>\n",
       "<polygon fill=\"none\" stroke=\"black\" points=\"345,-711.5 345,-733.5 392,-733.5 392,-711.5 345,-711.5\"/>\n",
       "<text text-anchor=\"start\" x=\"349.75\" y=\"-719\" font-family=\"Linux libertine\" font-size=\"10.00\">output: </text>\n",
       "<polygon fill=\"none\" stroke=\"black\" points=\"392,-711.5 392,-733.5 454,-733.5 454,-711.5 392,-711.5\"/>\n",
       "<text text-anchor=\"start\" x=\"396.75\" y=\"-719\" font-family=\"Linux libertine\" font-size=\"10.00\">(5, 45, 64) </text>\n",
       "</g>\n",
       "<!-- 56&#45;&gt;57 -->\n",
       "<g id=\"edge72\" class=\"edge\">\n",
       "<title>56&#45;&gt;57</title>\n",
       "<path fill=\"none\" stroke=\"black\" d=\"M377.96,-791.6C377.76,-783.82 377.53,-774.8 377.31,-766.26\"/>\n",
       "<polygon fill=\"black\" stroke=\"black\" points=\"380.79,-766.37 377.04,-756.46 373.8,-766.55 380.79,-766.37\"/>\n",
       "</g>\n",
       "<!-- 57&#45;&gt;58 -->\n",
       "<g id=\"edge73\" class=\"edge\">\n",
       "<title>57&#45;&gt;58</title>\n",
       "<path fill=\"none\" stroke=\"black\" d=\"M361.23,-711.6C355.09,-703.2 347.91,-693.37 341.25,-684.26\"/>\n",
       "<polygon fill=\"black\" stroke=\"black\" points=\"343.54,-682.47 334.82,-676.46 337.89,-686.6 343.54,-682.47\"/>\n",
       "</g>\n",
       "<!-- 59 -->\n",
       "<g id=\"node60\" class=\"node\">\n",
       "<title>59</title>\n",
       "<polygon fill=\"#c1ffc1\" stroke=\"none\" points=\"487,-595.5 314,-595.5 314,-551.5 487,-551.5 487,-595.5\"/>\n",
       "<polygon fill=\"none\" stroke=\"black\" points=\"314,-551.5 314,-595.5 378,-595.5 378,-551.5 314,-551.5\"/>\n",
       "<text text-anchor=\"start\" x=\"319\" y=\"-576.75\" font-family=\"Linux libertine\" font-size=\"10.00\">LayerNorm</text>\n",
       "<text text-anchor=\"start\" x=\"327.62\" y=\"-564\" font-family=\"Linux libertine\" font-size=\"10.00\">depth:3</text>\n",
       "<polygon fill=\"none\" stroke=\"black\" points=\"378,-573.5 378,-595.5 425,-595.5 425,-573.5 378,-573.5\"/>\n",
       "<text text-anchor=\"start\" x=\"387.62\" y=\"-581\" font-family=\"Linux libertine\" font-size=\"10.00\">input:</text>\n",
       "<polygon fill=\"none\" stroke=\"black\" points=\"425,-573.5 425,-595.5 487,-595.5 487,-573.5 425,-573.5\"/>\n",
       "<text text-anchor=\"start\" x=\"429.75\" y=\"-581\" font-family=\"Linux libertine\" font-size=\"10.00\">(5, 45, 64) </text>\n",
       "<polygon fill=\"none\" stroke=\"black\" points=\"378,-551.5 378,-573.5 425,-573.5 425,-551.5 378,-551.5\"/>\n",
       "<text text-anchor=\"start\" x=\"382.75\" y=\"-559\" font-family=\"Linux libertine\" font-size=\"10.00\">output: </text>\n",
       "<polygon fill=\"none\" stroke=\"black\" points=\"425,-551.5 425,-573.5 487,-573.5 487,-551.5 425,-551.5\"/>\n",
       "<text text-anchor=\"start\" x=\"429.75\" y=\"-559\" font-family=\"Linux libertine\" font-size=\"10.00\">(5, 45, 64) </text>\n",
       "</g>\n",
       "<!-- 58&#45;&gt;59 -->\n",
       "<g id=\"edge74\" class=\"edge\">\n",
       "<title>58&#45;&gt;59</title>\n",
       "<path fill=\"none\" stroke=\"black\" d=\"M341.21,-631.6C350.38,-622.77 361.2,-612.35 371.07,-602.84\"/>\n",
       "<polygon fill=\"black\" stroke=\"black\" points=\"372.96,-605.92 377.73,-596.46 368.1,-600.88 372.96,-605.92\"/>\n",
       "</g>\n",
       "<!-- 61 -->\n",
       "<g id=\"node62\" class=\"node\">\n",
       "<title>61</title>\n",
       "<polygon fill=\"aliceblue\" stroke=\"none\" points=\"430,-435.5 257,-435.5 257,-391.5 430,-391.5 430,-435.5\"/>\n",
       "<polygon fill=\"none\" stroke=\"black\" points=\"257,-391.5 257,-435.5 303,-435.5 303,-391.5 257,-391.5\"/>\n",
       "<text text-anchor=\"start\" x=\"271\" y=\"-416.75\" font-family=\"Linux libertine\" font-size=\"10.00\">add</text>\n",
       "<text text-anchor=\"start\" x=\"261.62\" y=\"-404\" font-family=\"Linux libertine\" font-size=\"10.00\">depth:3</text>\n",
       "<polygon fill=\"none\" stroke=\"black\" points=\"303,-413.5 303,-435.5 350,-435.5 350,-413.5 303,-413.5\"/>\n",
       "<text text-anchor=\"start\" x=\"312.62\" y=\"-421\" font-family=\"Linux libertine\" font-size=\"10.00\">input:</text>\n",
       "<polygon fill=\"none\" stroke=\"black\" points=\"350,-413.5 350,-435.5 430,-435.5 430,-413.5 350,-413.5\"/>\n",
       "<text text-anchor=\"start\" x=\"354.75\" y=\"-421\" font-family=\"Linux libertine\" font-size=\"10.00\">2 x (5, 45, 64) </text>\n",
       "<polygon fill=\"none\" stroke=\"black\" points=\"303,-391.5 303,-413.5 350,-413.5 350,-391.5 303,-391.5\"/>\n",
       "<text text-anchor=\"start\" x=\"307.75\" y=\"-399\" font-family=\"Linux libertine\" font-size=\"10.00\">output: </text>\n",
       "<polygon fill=\"none\" stroke=\"black\" points=\"350,-391.5 350,-413.5 430,-413.5 430,-391.5 350,-391.5\"/>\n",
       "<text text-anchor=\"start\" x=\"363.75\" y=\"-399\" font-family=\"Linux libertine\" font-size=\"10.00\">(5, 45, 64) </text>\n",
       "</g>\n",
       "<!-- 58&#45;&gt;61 -->\n",
       "<g id=\"edge75\" class=\"edge\">\n",
       "<title>58&#45;&gt;61</title>\n",
       "<path fill=\"none\" stroke=\"black\" d=\"M307.15,-631.57C288.43,-596.95 257.49,-526.18 281.5,-471.5 286.32,-460.53 294.4,-450.75 303.16,-442.51\"/>\n",
       "<polygon fill=\"black\" stroke=\"black\" points=\"305.09,-444.6 310.33,-435.39 300.49,-439.32 305.09,-444.6\"/>\n",
       "</g>\n",
       "<!-- 60 -->\n",
       "<g id=\"node61\" class=\"node\">\n",
       "<title>60</title>\n",
       "<polygon fill=\"#c1ffc1\" stroke=\"none\" points=\"558.5,-515.5 290.5,-515.5 290.5,-471.5 558.5,-471.5 558.5,-515.5\"/>\n",
       "<polygon fill=\"none\" stroke=\"black\" points=\"290.5,-471.5 290.5,-515.5 393.5,-515.5 393.5,-471.5 290.5,-471.5\"/>\n",
       "<text text-anchor=\"start\" x=\"295.12\" y=\"-496.75\" font-family=\"Linux libertine\" font-size=\"10.00\">MultiheadAttention</text>\n",
       "<text text-anchor=\"start\" x=\"323.62\" y=\"-484\" font-family=\"Linux libertine\" font-size=\"10.00\">depth:3</text>\n",
       "<polygon fill=\"none\" stroke=\"black\" points=\"393.5,-493.5 393.5,-515.5 440.5,-515.5 440.5,-493.5 393.5,-493.5\"/>\n",
       "<text text-anchor=\"start\" x=\"403.12\" y=\"-501\" font-family=\"Linux libertine\" font-size=\"10.00\">input:</text>\n",
       "<polygon fill=\"none\" stroke=\"black\" points=\"440.5,-493.5 440.5,-515.5 558.5,-515.5 558.5,-493.5 440.5,-493.5\"/>\n",
       "<text text-anchor=\"start\" x=\"464.25\" y=\"-501\" font-family=\"Linux libertine\" font-size=\"10.00\">3 x (5, 45, 64) </text>\n",
       "<polygon fill=\"none\" stroke=\"black\" points=\"393.5,-471.5 393.5,-493.5 440.5,-493.5 440.5,-471.5 393.5,-471.5\"/>\n",
       "<text text-anchor=\"start\" x=\"398.25\" y=\"-479\" font-family=\"Linux libertine\" font-size=\"10.00\">output: </text>\n",
       "<polygon fill=\"none\" stroke=\"black\" points=\"440.5,-471.5 440.5,-493.5 558.5,-493.5 558.5,-471.5 440.5,-471.5\"/>\n",
       "<text text-anchor=\"start\" x=\"445.5\" y=\"-479\" font-family=\"Linux libertine\" font-size=\"10.00\">(5, 45, 64), (5, 45, 45) </text>\n",
       "</g>\n",
       "<!-- 59&#45;&gt;60 -->\n",
       "<g id=\"edge76\" class=\"edge\">\n",
       "<title>59&#45;&gt;60</title>\n",
       "<path fill=\"none\" stroke=\"black\" d=\"M406.93,-551.6C409.38,-543.64 412.23,-534.39 414.9,-525.69\"/>\n",
       "<polygon fill=\"black\" stroke=\"black\" points=\"418.45,-527.05 418.05,-516.46 411.76,-524.99 418.45,-527.05\"/>\n",
       "</g>\n",
       "<!-- 60&#45;&gt;61 -->\n",
       "<g id=\"edge77\" class=\"edge\">\n",
       "<title>60&#45;&gt;61</title>\n",
       "<path fill=\"none\" stroke=\"black\" d=\"M402.79,-471.6C393.62,-462.77 382.8,-452.35 372.93,-442.84\"/>\n",
       "<polygon fill=\"black\" stroke=\"black\" points=\"375.9,-440.88 366.27,-436.46 371.04,-445.92 375.9,-440.88\"/>\n",
       "</g>\n",
       "<!-- 62 -->\n",
       "<g id=\"node63\" class=\"node\">\n",
       "<title>62</title>\n",
       "<polygon fill=\"#c1ffc1\" stroke=\"none\" points=\"488,-355.5 315,-355.5 315,-311.5 488,-311.5 488,-355.5\"/>\n",
       "<polygon fill=\"none\" stroke=\"black\" points=\"315,-311.5 315,-355.5 379,-355.5 379,-311.5 315,-311.5\"/>\n",
       "<text text-anchor=\"start\" x=\"320\" y=\"-336.75\" font-family=\"Linux libertine\" font-size=\"10.00\">LayerNorm</text>\n",
       "<text text-anchor=\"start\" x=\"328.62\" y=\"-324\" font-family=\"Linux libertine\" font-size=\"10.00\">depth:3</text>\n",
       "<polygon fill=\"none\" stroke=\"black\" points=\"379,-333.5 379,-355.5 426,-355.5 426,-333.5 379,-333.5\"/>\n",
       "<text text-anchor=\"start\" x=\"388.62\" y=\"-341\" font-family=\"Linux libertine\" font-size=\"10.00\">input:</text>\n",
       "<polygon fill=\"none\" stroke=\"black\" points=\"426,-333.5 426,-355.5 488,-355.5 488,-333.5 426,-333.5\"/>\n",
       "<text text-anchor=\"start\" x=\"430.75\" y=\"-341\" font-family=\"Linux libertine\" font-size=\"10.00\">(5, 45, 64) </text>\n",
       "<polygon fill=\"none\" stroke=\"black\" points=\"379,-311.5 379,-333.5 426,-333.5 426,-311.5 379,-311.5\"/>\n",
       "<text text-anchor=\"start\" x=\"383.75\" y=\"-319\" font-family=\"Linux libertine\" font-size=\"10.00\">output: </text>\n",
       "<polygon fill=\"none\" stroke=\"black\" points=\"426,-311.5 426,-333.5 488,-333.5 488,-311.5 426,-311.5\"/>\n",
       "<text text-anchor=\"start\" x=\"430.75\" y=\"-319\" font-family=\"Linux libertine\" font-size=\"10.00\">(5, 45, 64) </text>\n",
       "</g>\n",
       "<!-- 61&#45;&gt;62 -->\n",
       "<g id=\"edge78\" class=\"edge\">\n",
       "<title>61&#45;&gt;62</title>\n",
       "<path fill=\"none\" stroke=\"black\" d=\"M359.04,-391.6C365.28,-383.2 372.59,-373.37 379.37,-364.26\"/>\n",
       "<polygon fill=\"black\" stroke=\"black\" points=\"382.76,-366.57 385.91,-356.46 377.14,-362.4 382.76,-366.57\"/>\n",
       "</g>\n",
       "<!-- 65 -->\n",
       "<g id=\"node66\" class=\"node\">\n",
       "<title>65</title>\n",
       "<polygon fill=\"aliceblue\" stroke=\"none\" points=\"426,-115.5 253,-115.5 253,-71.5 426,-71.5 426,-115.5\"/>\n",
       "<polygon fill=\"none\" stroke=\"black\" points=\"253,-71.5 253,-115.5 299,-115.5 299,-71.5 253,-71.5\"/>\n",
       "<text text-anchor=\"start\" x=\"267\" y=\"-96.75\" font-family=\"Linux libertine\" font-size=\"10.00\">add</text>\n",
       "<text text-anchor=\"start\" x=\"257.62\" y=\"-84\" font-family=\"Linux libertine\" font-size=\"10.00\">depth:3</text>\n",
       "<polygon fill=\"none\" stroke=\"black\" points=\"299,-93.5 299,-115.5 346,-115.5 346,-93.5 299,-93.5\"/>\n",
       "<text text-anchor=\"start\" x=\"308.62\" y=\"-101\" font-family=\"Linux libertine\" font-size=\"10.00\">input:</text>\n",
       "<polygon fill=\"none\" stroke=\"black\" points=\"346,-93.5 346,-115.5 426,-115.5 426,-93.5 346,-93.5\"/>\n",
       "<text text-anchor=\"start\" x=\"350.75\" y=\"-101\" font-family=\"Linux libertine\" font-size=\"10.00\">2 x (5, 45, 64) </text>\n",
       "<polygon fill=\"none\" stroke=\"black\" points=\"299,-71.5 299,-93.5 346,-93.5 346,-71.5 299,-71.5\"/>\n",
       "<text text-anchor=\"start\" x=\"303.75\" y=\"-79\" font-family=\"Linux libertine\" font-size=\"10.00\">output: </text>\n",
       "<polygon fill=\"none\" stroke=\"black\" points=\"346,-71.5 346,-93.5 426,-93.5 426,-71.5 346,-71.5\"/>\n",
       "<text text-anchor=\"start\" x=\"359.75\" y=\"-79\" font-family=\"Linux libertine\" font-size=\"10.00\">(5, 45, 64) </text>\n",
       "</g>\n",
       "<!-- 61&#45;&gt;65 -->\n",
       "<g id=\"edge79\" class=\"edge\">\n",
       "<title>61&#45;&gt;65</title>\n",
       "<path fill=\"none\" stroke=\"black\" d=\"M325.22,-391.59C317.53,-381.42 309.46,-368.59 305.5,-355.5 295.43,-322.24 278.7,-269.8 309.5,-151.5 311.84,-142.5 315.83,-133.33 320.15,-125.05\"/>\n",
       "<polygon fill=\"black\" stroke=\"black\" points=\"323.68,-126.91 325.49,-116.47 317.56,-123.5 323.68,-126.91\"/>\n",
       "</g>\n",
       "<!-- 63 -->\n",
       "<g id=\"node64\" class=\"node\">\n",
       "<title>63</title>\n",
       "<polygon fill=\"#c1ffc1\" stroke=\"none\" points=\"476,-275.5 321,-275.5 321,-231.5 476,-231.5 476,-275.5\"/>\n",
       "<polygon fill=\"none\" stroke=\"black\" points=\"321,-231.5 321,-275.5 367,-275.5 367,-231.5 321,-231.5\"/>\n",
       "<text text-anchor=\"start\" x=\"329\" y=\"-256.75\" font-family=\"Linux libertine\" font-size=\"10.00\">Linear</text>\n",
       "<text text-anchor=\"start\" x=\"325.62\" y=\"-244\" font-family=\"Linux libertine\" font-size=\"10.00\">depth:3</text>\n",
       "<polygon fill=\"none\" stroke=\"black\" points=\"367,-253.5 367,-275.5 414,-275.5 414,-253.5 367,-253.5\"/>\n",
       "<text text-anchor=\"start\" x=\"376.62\" y=\"-261\" font-family=\"Linux libertine\" font-size=\"10.00\">input:</text>\n",
       "<polygon fill=\"none\" stroke=\"black\" points=\"414,-253.5 414,-275.5 476,-275.5 476,-253.5 414,-253.5\"/>\n",
       "<text text-anchor=\"start\" x=\"418.75\" y=\"-261\" font-family=\"Linux libertine\" font-size=\"10.00\">(5, 45, 64) </text>\n",
       "<polygon fill=\"none\" stroke=\"black\" points=\"367,-231.5 367,-253.5 414,-253.5 414,-231.5 367,-231.5\"/>\n",
       "<text text-anchor=\"start\" x=\"371.75\" y=\"-239\" font-family=\"Linux libertine\" font-size=\"10.00\">output: </text>\n",
       "<polygon fill=\"none\" stroke=\"black\" points=\"414,-231.5 414,-253.5 476,-253.5 476,-231.5 414,-231.5\"/>\n",
       "<text text-anchor=\"start\" x=\"418.75\" y=\"-239\" font-family=\"Linux libertine\" font-size=\"10.00\">(5, 45, 64) </text>\n",
       "</g>\n",
       "<!-- 62&#45;&gt;63 -->\n",
       "<g id=\"edge80\" class=\"edge\">\n",
       "<title>62&#45;&gt;63</title>\n",
       "<path fill=\"none\" stroke=\"black\" d=\"M400.7,-311.6C400.4,-303.82 400.05,-294.8 399.72,-286.26\"/>\n",
       "<polygon fill=\"black\" stroke=\"black\" points=\"403.19,-286.32 399.31,-276.46 396.19,-286.59 403.19,-286.32\"/>\n",
       "</g>\n",
       "<!-- 64 -->\n",
       "<g id=\"node65\" class=\"node\">\n",
       "<title>64</title>\n",
       "<polygon fill=\"#c1ffc1\" stroke=\"none\" points=\"474,-195.5 319,-195.5 319,-151.5 474,-151.5 474,-195.5\"/>\n",
       "<polygon fill=\"none\" stroke=\"black\" points=\"319,-151.5 319,-195.5 365,-195.5 365,-151.5 319,-151.5\"/>\n",
       "<text text-anchor=\"start\" x=\"328.88\" y=\"-176.75\" font-family=\"Linux libertine\" font-size=\"10.00\">GELU</text>\n",
       "<text text-anchor=\"start\" x=\"323.62\" y=\"-164\" font-family=\"Linux libertine\" font-size=\"10.00\">depth:3</text>\n",
       "<polygon fill=\"none\" stroke=\"black\" points=\"365,-173.5 365,-195.5 412,-195.5 412,-173.5 365,-173.5\"/>\n",
       "<text text-anchor=\"start\" x=\"374.62\" y=\"-181\" font-family=\"Linux libertine\" font-size=\"10.00\">input:</text>\n",
       "<polygon fill=\"none\" stroke=\"black\" points=\"412,-173.5 412,-195.5 474,-195.5 474,-173.5 412,-173.5\"/>\n",
       "<text text-anchor=\"start\" x=\"416.75\" y=\"-181\" font-family=\"Linux libertine\" font-size=\"10.00\">(5, 45, 64) </text>\n",
       "<polygon fill=\"none\" stroke=\"black\" points=\"365,-151.5 365,-173.5 412,-173.5 412,-151.5 365,-151.5\"/>\n",
       "<text text-anchor=\"start\" x=\"369.75\" y=\"-159\" font-family=\"Linux libertine\" font-size=\"10.00\">output: </text>\n",
       "<polygon fill=\"none\" stroke=\"black\" points=\"412,-151.5 412,-173.5 474,-173.5 474,-151.5 412,-151.5\"/>\n",
       "<text text-anchor=\"start\" x=\"416.75\" y=\"-159\" font-family=\"Linux libertine\" font-size=\"10.00\">(5, 45, 64) </text>\n",
       "</g>\n",
       "<!-- 63&#45;&gt;64 -->\n",
       "<g id=\"edge81\" class=\"edge\">\n",
       "<title>63&#45;&gt;64</title>\n",
       "<path fill=\"none\" stroke=\"black\" d=\"M397.96,-231.6C397.76,-223.82 397.53,-214.8 397.31,-206.26\"/>\n",
       "<polygon fill=\"black\" stroke=\"black\" points=\"400.79,-206.37 397.04,-196.46 393.8,-206.55 400.79,-206.37\"/>\n",
       "</g>\n",
       "<!-- 64&#45;&gt;65 -->\n",
       "<g id=\"edge82\" class=\"edge\">\n",
       "<title>64&#45;&gt;65</title>\n",
       "<path fill=\"none\" stroke=\"black\" d=\"M381.23,-151.6C375.09,-143.2 367.91,-133.37 361.25,-124.26\"/>\n",
       "<polygon fill=\"black\" stroke=\"black\" points=\"363.54,-122.47 354.82,-116.46 357.89,-126.6 363.54,-122.47\"/>\n",
       "</g>\n",
       "<!-- 66 -->\n",
       "<g id=\"node67\" class=\"node\">\n",
       "<title>66</title>\n",
       "<polygon fill=\"lightyellow\" stroke=\"none\" points=\"407.25,-35.5 271.75,-35.5 271.75,0 407.25,0 407.25,-35.5\"/>\n",
       "<polygon fill=\"none\" stroke=\"black\" points=\"271.75,0 271.75,-35.5 347.75,-35.5 347.75,0 271.75,0\"/>\n",
       "<text text-anchor=\"start\" x=\"276.75\" y=\"-21\" font-family=\"Linux libertine\" font-size=\"10.00\">output&#45;tensor</text>\n",
       "<text text-anchor=\"start\" x=\"291.38\" y=\"-8.25\" font-family=\"Linux libertine\" font-size=\"10.00\">depth:0</text>\n",
       "<polygon fill=\"none\" stroke=\"black\" points=\"347.75,0 347.75,-35.5 407.25,-35.5 407.25,0 347.75,0\"/>\n",
       "<text text-anchor=\"start\" x=\"352.75\" y=\"-14.62\" font-family=\"Linux libertine\" font-size=\"10.00\">(5, 45, 64)</text>\n",
       "</g>\n",
       "<!-- 65&#45;&gt;66 -->\n",
       "<g id=\"edge83\" class=\"edge\">\n",
       "<title>65&#45;&gt;66</title>\n",
       "<path fill=\"none\" stroke=\"black\" d=\"M339.5,-71.56C339.5,-63.6 339.5,-54.41 339.5,-45.95\"/>\n",
       "<polygon fill=\"black\" stroke=\"black\" points=\"343,-46.05 339.5,-36.05 336,-46.05 343,-46.05\"/>\n",
       "</g>\n",
       "</g>\n",
       "</svg>\n"
      ],
      "text/plain": [
       "<graphviz.graphs.Digraph at 0x7f940df08f10>"
      ]
     },
     "execution_count": 120,
     "metadata": {},
     "output_type": "execute_result"
    }
   ],
   "source": [
    "model_graph = draw_graph(enc_net,\n",
    "                         input_data = torch.Tensor(enc_x_train[0:5]).long(),\n",
    "                         device=device,\n",
    "                         hide_inner_tensors=True,\n",
    "                         hide_module_functions=True,\n",
    "                         expand_nested=False,\n",
    "                         depth=3,\n",
    "                         dtypes=[torch.long])\n",
    "model_graph.visual_graph"
   ]
  },
  {
   "cell_type": "code",
   "execution_count": 121,
   "id": "98bb5f52-6c74-43f5-9a0f-0fcafae1947c",
   "metadata": {},
   "outputs": [],
   "source": [
    "class MaskedTransformerBlock(torch.nn.Module):\n",
    "    def __init__(self,\n",
    "                 latent_size = 64, \n",
    "                 num_heads = 4, \n",
    "                 dropout = 0.1, \n",
    "                 **kwargs):\n",
    "        super().__init__(**kwargs)\n",
    "        self.layer_norm1 = torch.nn.LayerNorm(latent_size) \n",
    "        self.layer_norm2 = torch.nn.LayerNorm(latent_size) \n",
    "        self.layer_norm3 = torch.nn.LayerNorm(latent_size) \n",
    "        self.dropout = torch.nn.Dropout(dropout) \n",
    "        self.activation = torch.nn.GELU()\n",
    "        self.linear = torch.nn.Linear(latent_size,\n",
    "                                      latent_size)\n",
    "        self.mha1 = torch.nn.MultiheadAttention(latent_size,\n",
    "                                                num_heads, \n",
    "                                                dropout=dropout, \n",
    "                                                batch_first=True)\n",
    "        self.mha2 = torch.nn.MultiheadAttention(latent_size, \n",
    "                                                num_heads,\n",
    "                                                dropout=dropout, \n",
    "                                                batch_first=True)\n",
    "    \n",
    "    def make_causal_mask(self, sz: int):\n",
    "        return torch.triu(torch.full((sz, sz), True), diagonal=1).to(device) \n",
    "        # return torch.triu(torch.full((sz, sz), float('-inf')), diagonal=1)\n",
    "\n",
    "    def forward(self, x):\n",
    "        x_enc, x_dec = x\n",
    "        x = y = x_dec\n",
    "        y = self.layer_norm1(y)\n",
    "        y = self.mha1(y,y,y,\n",
    "                      attn_mask=self.make_causal_mask(y.shape[1]))[0]\n",
    "        x = y = x + y\n",
    "        y = self.layer_norm2(y)\n",
    "        y = self.mha2(y, x_enc, x_enc)[0] \n",
    "        x = y = x + y\n",
    "        y = self.layer_norm3(y)\n",
    "        y = self.linear(y)\n",
    "        y = self.activation(y)\n",
    "        return x_enc, x + y"
   ]
  },
  {
   "cell_type": "code",
   "execution_count": 122,
   "id": "c86487af-be78-4fcb-91c0-0f38101b6199",
   "metadata": {},
   "outputs": [],
   "source": [
    "class DecoderNetwork(torch.nn.Module):\n",
    "    def __init__(self,\n",
    "                 num_tokens,\n",
    "                 max_length, \n",
    "                 latent_size = 64, \n",
    "                 num_heads = 4, \n",
    "                 n_layers = 8,\n",
    "                 **kwargs):\n",
    "        super().__init__(**kwargs)\n",
    "        self.token_embedding = torch.nn.Embedding(num_tokens,\n",
    "                                                  latent_size,\n",
    "                                                  padding_idx=0) \n",
    "        self.position_embedding = torch.nn.Embedding(max_length+1,\n",
    "                                                     latent_size,\n",
    "                                                     padding_idx=0) \n",
    "        self.transformer_blocks = torch.nn.Sequential(*[\n",
    "            MaskedTransformerBlock(latent_size=latent_size,\n",
    "                                   num_heads=num_heads) for _ in range(n_layers)\n",
    "        ])\n",
    "        self.output_layer = torch.nn.Linear(latent_size,\n",
    "                                            num_tokens)\n",
    "\n",
    "    def forward(self, x_enc, x_dec):\n",
    "        y = x_dec\n",
    "        y = self.token_embedding(y) + \\\n",
    "        self.position_embedding(torch.arange(1,y.shape[1]+1).long().to(device) * torch.sign(y).long().to(device))\n",
    "        y = self.transformer_blocks((x_enc,y))[1]\n",
    "        y = self.output_layer(y)\n",
    "        return y"
   ]
  },
  {
   "cell_type": "code",
   "execution_count": 123,
   "id": "cc8100b3-3f39-4b15-beea-2531cc155d8e",
   "metadata": {},
   "outputs": [
    {
     "data": {
      "image/png": "[encoded data removed]",
      "text/latex": [
       "$\\displaystyle \\left( 5, \\  45\\right)$"
      ],
      "text/plain": [
       "(5, 45)"
      ]
     },
     "execution_count": 123,
     "metadata": {},
     "output_type": "execute_result"
    }
   ],
   "source": [
    "enc_x_train[0:5].shape"
   ]
  },
  {
   "cell_type": "code",
   "execution_count": 124,
   "id": "0e8faf07-5f2a-4a11-a2b8-7da32684d954",
   "metadata": {},
   "outputs": [
    {
     "data": {
      "image/png": "[encoded data removed]",
      "text/latex": [
       "$\\displaystyle \\left( 5, \\  44\\right)$"
      ],
      "text/plain": [
       "(5, 44)"
      ]
     },
     "execution_count": 124,
     "metadata": {},
     "output_type": "execute_result"
    }
   ],
   "source": [
    "dec_x_train[0:5].shape"
   ]
  },
  {
   "cell_type": "code",
   "execution_count": 125,
   "id": "3427a04e-eb1e-49ab-9db4-4b2873c2ef51",
   "metadata": {},
   "outputs": [
    {
     "data": {
      "text/plain": [
       "torch.Size([5, 45, 64])"
      ]
     },
     "execution_count": 125,
     "metadata": {},
     "output_type": "execute_result"
    }
   ],
   "source": [
    "# Passed through the encoder network - output tensor shape for decoder\n",
    "enc_net(torch.Tensor(enc_x_train[0:5]).long().to(device)).shape"
   ]
  },
  {
   "cell_type": "code",
   "execution_count": 126,
   "id": "f04e725c-cb68-426a-abb6-1f4055284acc",
   "metadata": {},
   "outputs": [
    {
     "data": {
      "image/png": "[encoded data removed]",
      "text/latex": [
       "$\\displaystyle \\left( 5, \\  45, \\  64\\right)$"
      ],
      "text/plain": [
       "(5, 45, 64)"
      ]
     },
     "execution_count": 126,
     "metadata": {},
     "output_type": "execute_result"
    }
   ],
   "source": [
    "enc_x_train[0:5].shape[0:2]+(64,)"
   ]
  },
  {
   "cell_type": "code",
   "execution_count": 127,
   "id": "0ad40adb-93af-434a-b3bb-d51e3a4d2780",
   "metadata": {},
   "outputs": [
    {
     "name": "stderr",
     "output_type": "stream",
     "text": [
      "/opt/conda/lib/python3.11/site-packages/torch/nn/modules/activation.py:1160: UserWarning: Converting mask without torch.bool dtype to bool; this will negatively affect performance. Prefer to use a boolean mask directly. (Triggered internally at ../aten/src/ATen/native/transformers/attention.cpp:150.)\n",
      "  return torch._native_multi_head_attention(\n"
     ]
    },
    {
     "data": {
      "text/plain": [
       "==========================================================================================\n",
       "Layer (type:depth-idx)                   Output Shape              Param #\n",
       "==========================================================================================\n",
       "DecoderNetwork                           [5, 44, 87]               --\n",
       "├─Embedding: 1-1                         [5, 44, 64]               5,568\n",
       "├─Embedding: 1-2                         [5, 44, 64]               2,880\n",
       "├─Sequential: 1-3                        [5, 45, 64]               --\n",
       "│    └─MaskedTransformerBlock: 2-1       [5, 45, 64]               --\n",
       "│    │    └─LayerNorm: 3-1               [5, 44, 64]               128\n",
       "│    │    └─MultiheadAttention: 3-2      [5, 44, 64]               16,640\n",
       "│    │    └─LayerNorm: 3-3               [5, 44, 64]               128\n",
       "│    │    └─MultiheadAttention: 3-4      [5, 44, 64]               16,640\n",
       "│    │    └─LayerNorm: 3-5               [5, 44, 64]               128\n",
       "│    │    └─Linear: 3-6                  [5, 44, 64]               4,160\n",
       "│    │    └─GELU: 3-7                    [5, 44, 64]               --\n",
       "│    └─MaskedTransformerBlock: 2-2       [5, 45, 64]               --\n",
       "│    │    └─LayerNorm: 3-8               [5, 44, 64]               128\n",
       "│    │    └─MultiheadAttention: 3-9      [5, 44, 64]               16,640\n",
       "│    │    └─LayerNorm: 3-10              [5, 44, 64]               128\n",
       "│    │    └─MultiheadAttention: 3-11     [5, 44, 64]               16,640\n",
       "│    │    └─LayerNorm: 3-12              [5, 44, 64]               128\n",
       "│    │    └─Linear: 3-13                 [5, 44, 64]               4,160\n",
       "│    │    └─GELU: 3-14                   [5, 44, 64]               --\n",
       "│    └─MaskedTransformerBlock: 2-3       [5, 45, 64]               --\n",
       "│    │    └─LayerNorm: 3-15              [5, 44, 64]               128\n",
       "│    │    └─MultiheadAttention: 3-16     [5, 44, 64]               16,640\n",
       "│    │    └─LayerNorm: 3-17              [5, 44, 64]               128\n",
       "│    │    └─MultiheadAttention: 3-18     [5, 44, 64]               16,640\n",
       "│    │    └─LayerNorm: 3-19              [5, 44, 64]               128\n",
       "│    │    └─Linear: 3-20                 [5, 44, 64]               4,160\n",
       "│    │    └─GELU: 3-21                   [5, 44, 64]               --\n",
       "│    └─MaskedTransformerBlock: 2-4       [5, 45, 64]               --\n",
       "│    │    └─LayerNorm: 3-22              [5, 44, 64]               128\n",
       "│    │    └─MultiheadAttention: 3-23     [5, 44, 64]               16,640\n",
       "│    │    └─LayerNorm: 3-24              [5, 44, 64]               128\n",
       "│    │    └─MultiheadAttention: 3-25     [5, 44, 64]               16,640\n",
       "│    │    └─LayerNorm: 3-26              [5, 44, 64]               128\n",
       "│    │    └─Linear: 3-27                 [5, 44, 64]               4,160\n",
       "│    │    └─GELU: 3-28                   [5, 44, 64]               --\n",
       "│    └─MaskedTransformerBlock: 2-5       [5, 45, 64]               --\n",
       "│    │    └─LayerNorm: 3-29              [5, 44, 64]               128\n",
       "│    │    └─MultiheadAttention: 3-30     [5, 44, 64]               16,640\n",
       "│    │    └─LayerNorm: 3-31              [5, 44, 64]               128\n",
       "│    │    └─MultiheadAttention: 3-32     [5, 44, 64]               16,640\n",
       "│    │    └─LayerNorm: 3-33              [5, 44, 64]               128\n",
       "│    │    └─Linear: 3-34                 [5, 44, 64]               4,160\n",
       "│    │    └─GELU: 3-35                   [5, 44, 64]               --\n",
       "│    └─MaskedTransformerBlock: 2-6       [5, 45, 64]               --\n",
       "│    │    └─LayerNorm: 3-36              [5, 44, 64]               128\n",
       "│    │    └─MultiheadAttention: 3-37     [5, 44, 64]               16,640\n",
       "│    │    └─LayerNorm: 3-38              [5, 44, 64]               128\n",
       "│    │    └─MultiheadAttention: 3-39     [5, 44, 64]               16,640\n",
       "│    │    └─LayerNorm: 3-40              [5, 44, 64]               128\n",
       "│    │    └─Linear: 3-41                 [5, 44, 64]               4,160\n",
       "│    │    └─GELU: 3-42                   [5, 44, 64]               --\n",
       "│    └─MaskedTransformerBlock: 2-7       [5, 45, 64]               --\n",
       "│    │    └─LayerNorm: 3-43              [5, 44, 64]               128\n",
       "│    │    └─MultiheadAttention: 3-44     [5, 44, 64]               16,640\n",
       "│    │    └─LayerNorm: 3-45              [5, 44, 64]               128\n",
       "│    │    └─MultiheadAttention: 3-46     [5, 44, 64]               16,640\n",
       "│    │    └─LayerNorm: 3-47              [5, 44, 64]               128\n",
       "│    │    └─Linear: 3-48                 [5, 44, 64]               4,160\n",
       "│    │    └─GELU: 3-49                   [5, 44, 64]               --\n",
       "│    └─MaskedTransformerBlock: 2-8       [5, 45, 64]               --\n",
       "│    │    └─LayerNorm: 3-50              [5, 44, 64]               128\n",
       "│    │    └─MultiheadAttention: 3-51     [5, 44, 64]               16,640\n",
       "│    │    └─LayerNorm: 3-52              [5, 44, 64]               128\n",
       "│    │    └─MultiheadAttention: 3-53     [5, 44, 64]               16,640\n",
       "│    │    └─LayerNorm: 3-54              [5, 44, 64]               128\n",
       "│    │    └─Linear: 3-55                 [5, 44, 64]               4,160\n",
       "│    │    └─GELU: 3-56                   [5, 44, 64]               --\n",
       "├─Linear: 1-4                            [5, 44, 87]               5,655\n",
       "==========================================================================================\n",
       "Total params: 316,695\n",
       "Trainable params: 316,695\n",
       "Non-trainable params: 0\n",
       "Total mult-adds (Units.MEGABYTES): 0.25\n",
       "==========================================================================================\n",
       "Input size (MB): 0.06\n",
       "Forward/backward pass size (MB): 3.98\n",
       "Params size (MB): 0.20\n",
       "Estimated Total Size (MB): 4.24\n",
       "=========================================================================================="
      ]
     },
     "execution_count": 127,
     "metadata": {},
     "output_type": "execute_result"
    }
   ],
   "source": [
    "dec_net = DecoderNetwork(num_tokens=len(i_to_c_por), max_length=dec_x_train.shape[-1])\n",
    "\n",
    "summary(dec_net,input_size=[enc_x_train[0:5].shape[0:2]+(64,),dec_x_train[0:5].shape], dtypes=[torch.float32, torch.long])"
   ]
  },
  {
   "cell_type": "code",
   "execution_count": 128,
   "id": "8e4070fc-f4f4-4a01-8f11-3c086c9f3361",
   "metadata": {},
   "outputs": [
    {
     "data": {
      "image/svg+xml": [
       "<?xml version=\"1.0\" encoding=\"UTF-8\" standalone=\"no\"?>\n",
       "<!DOCTYPE svg PUBLIC \"-//W3C//DTD SVG 1.1//EN\"\n",
       " \"http://www.w3.org/Graphics/SVG/1.1/DTD/svg11.dtd\">\n",
       "<!-- Generated by graphviz version 8.1.0 (20230707.2238)\n",
       " -->\n",
       "<!-- Title: model Pages: 1 -->\n",
       "<svg width=\"965pt\" height=\"5378pt\"\n",
       " viewBox=\"0.00 0.00 965.38 5378.00\" xmlns=\"http://www.w3.org/2000/svg\" xmlns:xlink=\"http://www.w3.org/1999/xlink\">\n",
       "<g id=\"graph0\" class=\"graph\" transform=\"scale(0.760141 0.760141) rotate(0) translate(4 7071)\">\n",
       "<title>model</title>\n",
       "<polygon fill=\"white\" stroke=\"none\" points=\"-4,4 -4,-7071 1266,-7071 1266,4 -4,4\"/>\n",
       "<!-- 0 -->\n",
       "<g id=\"node1\" class=\"node\">\n",
       "<title>0</title>\n",
       "<polygon fill=\"lightyellow\" stroke=\"none\" points=\"689.88,-6271.25 561.12,-6271.25 561.12,-6235.75 689.88,-6235.75 689.88,-6271.25\"/>\n",
       "<polygon fill=\"none\" stroke=\"black\" points=\"561.12,-6235.75 561.12,-6271.25 630.38,-6271.25 630.38,-6235.75 561.12,-6235.75\"/>\n",
       "<text text-anchor=\"start\" x=\"566.12\" y=\"-6256.75\" font-family=\"Linux libertine\" font-size=\"10.00\">input&#45;tensor</text>\n",
       "<text text-anchor=\"start\" x=\"577.38\" y=\"-6244\" font-family=\"Linux libertine\" font-size=\"10.00\">depth:0</text>\n",
       "<polygon fill=\"none\" stroke=\"black\" points=\"630.38,-6235.75 630.38,-6271.25 689.88,-6271.25 689.88,-6235.75 630.38,-6235.75\"/>\n",
       "<text text-anchor=\"start\" x=\"635.38\" y=\"-6250.38\" font-family=\"Linux libertine\" font-size=\"10.00\">(5, 45, 64)</text>\n",
       "</g>\n",
       "<!-- 17 -->\n",
       "<g id=\"node18\" class=\"node\">\n",
       "<title>17</title>\n",
       "<polygon fill=\"#c1ffc1\" stroke=\"none\" points=\"432.5,-6195.5 146.5,-6195.5 146.5,-6151.5 432.5,-6151.5 432.5,-6195.5\"/>\n",
       "<polygon fill=\"none\" stroke=\"black\" points=\"146.5,-6151.5 146.5,-6195.5 249.5,-6195.5 249.5,-6151.5 146.5,-6151.5\"/>\n",
       "<text text-anchor=\"start\" x=\"151.12\" y=\"-6176.75\" font-family=\"Linux libertine\" font-size=\"10.00\">MultiheadAttention</text>\n",
       "<text text-anchor=\"start\" x=\"179.62\" y=\"-6164\" font-family=\"Linux libertine\" font-size=\"10.00\">depth:3</text>\n",
       "<polygon fill=\"none\" stroke=\"black\" points=\"249.5,-6173.5 249.5,-6195.5 296.5,-6195.5 296.5,-6173.5 249.5,-6173.5\"/>\n",
       "<text text-anchor=\"start\" x=\"259.12\" y=\"-6181\" font-family=\"Linux libertine\" font-size=\"10.00\">input:</text>\n",
       "<polygon fill=\"none\" stroke=\"black\" points=\"296.5,-6173.5 296.5,-6195.5 432.5,-6195.5 432.5,-6173.5 296.5,-6173.5\"/>\n",
       "<text text-anchor=\"start\" x=\"301.5\" y=\"-6181\" font-family=\"Linux libertine\" font-size=\"10.00\">(5, 44, 64), 2 x (5, 45, 64) </text>\n",
       "<polygon fill=\"none\" stroke=\"black\" points=\"249.5,-6151.5 249.5,-6173.5 296.5,-6173.5 296.5,-6151.5 249.5,-6151.5\"/>\n",
       "<text text-anchor=\"start\" x=\"254.25\" y=\"-6159\" font-family=\"Linux libertine\" font-size=\"10.00\">output: </text>\n",
       "<polygon fill=\"none\" stroke=\"black\" points=\"296.5,-6151.5 296.5,-6173.5 432.5,-6173.5 432.5,-6151.5 296.5,-6151.5\"/>\n",
       "<text text-anchor=\"start\" x=\"310.5\" y=\"-6159\" font-family=\"Linux libertine\" font-size=\"10.00\">(5, 44, 64), (5, 44, 45) </text>\n",
       "</g>\n",
       "<!-- 0&#45;&gt;17 -->\n",
       "<g id=\"edge11\" class=\"edge\">\n",
       "<title>0&#45;&gt;17</title>\n",
       "<path fill=\"none\" stroke=\"black\" d=\"M561.51,-6237.65C513.21,-6226.43 446.01,-6210.83 390.49,-6197.94\"/>\n",
       "<polygon fill=\"black\" stroke=\"black\" points=\"391.44,-6194.34 380.9,-6195.49 389.85,-6201.16 391.44,-6194.34\"/>\n",
       "</g>\n",
       "<!-- 29 -->\n",
       "<g id=\"node30\" class=\"node\">\n",
       "<title>29</title>\n",
       "<polygon fill=\"#c1ffc1\" stroke=\"none\" points=\"647.5,-5395.5 361.5,-5395.5 361.5,-5351.5 647.5,-5351.5 647.5,-5395.5\"/>\n",
       "<polygon fill=\"none\" stroke=\"black\" points=\"361.5,-5351.5 361.5,-5395.5 464.5,-5395.5 464.5,-5351.5 361.5,-5351.5\"/>\n",
       "<text text-anchor=\"start\" x=\"366.12\" y=\"-5376.75\" font-family=\"Linux libertine\" font-size=\"10.00\">MultiheadAttention</text>\n",
       "<text text-anchor=\"start\" x=\"394.62\" y=\"-5364\" font-family=\"Linux libertine\" font-size=\"10.00\">depth:3</text>\n",
       "<polygon fill=\"none\" stroke=\"black\" points=\"464.5,-5373.5 464.5,-5395.5 511.5,-5395.5 511.5,-5373.5 464.5,-5373.5\"/>\n",
       "<text text-anchor=\"start\" x=\"474.12\" y=\"-5381\" font-family=\"Linux libertine\" font-size=\"10.00\">input:</text>\n",
       "<polygon fill=\"none\" stroke=\"black\" points=\"511.5,-5373.5 511.5,-5395.5 647.5,-5395.5 647.5,-5373.5 511.5,-5373.5\"/>\n",
       "<text text-anchor=\"start\" x=\"516.5\" y=\"-5381\" font-family=\"Linux libertine\" font-size=\"10.00\">(5, 44, 64), 2 x (5, 45, 64) </text>\n",
       "<polygon fill=\"none\" stroke=\"black\" points=\"464.5,-5351.5 464.5,-5373.5 511.5,-5373.5 511.5,-5351.5 464.5,-5351.5\"/>\n",
       "<text text-anchor=\"start\" x=\"469.25\" y=\"-5359\" font-family=\"Linux libertine\" font-size=\"10.00\">output: </text>\n",
       "<polygon fill=\"none\" stroke=\"black\" points=\"511.5,-5351.5 511.5,-5373.5 647.5,-5373.5 647.5,-5351.5 511.5,-5351.5\"/>\n",
       "<text text-anchor=\"start\" x=\"525.5\" y=\"-5359\" font-family=\"Linux libertine\" font-size=\"10.00\">(5, 44, 64), (5, 44, 45) </text>\n",
       "</g>\n",
       "<!-- 0&#45;&gt;29 -->\n",
       "<g id=\"edge27\" class=\"edge\">\n",
       "<title>0&#45;&gt;29</title>\n",
       "<path fill=\"none\" stroke=\"black\" d=\"M616.74,-6235.96C602.65,-6207.76 576.5,-6148.21 576.5,-6094.5 576.5,-6094.5 576.5,-6094.5 576.5,-5692.5 576.5,-5646.82 576.47,-5633.05 557.5,-5591.5 530.17,-5531.64 487.15,-5537.64 465.5,-5475.5 459.07,-5457.03 459.72,-5450.18 465.5,-5431.5 468.46,-5421.93 473.64,-5412.53 479.28,-5404.22\"/>\n",
       "<polygon fill=\"black\" stroke=\"black\" points=\"482.69,-5406.48 485.75,-5396.34 477.03,-5402.36 482.69,-5406.48\"/>\n",
       "</g>\n",
       "<!-- 41 -->\n",
       "<g id=\"node42\" class=\"node\">\n",
       "<title>41</title>\n",
       "<polygon fill=\"#c1ffc1\" stroke=\"none\" points=\"686.5,-4595.5 400.5,-4595.5 400.5,-4551.5 686.5,-4551.5 686.5,-4595.5\"/>\n",
       "<polygon fill=\"none\" stroke=\"black\" points=\"400.5,-4551.5 400.5,-4595.5 503.5,-4595.5 503.5,-4551.5 400.5,-4551.5\"/>\n",
       "<text text-anchor=\"start\" x=\"405.12\" y=\"-4576.75\" font-family=\"Linux libertine\" font-size=\"10.00\">MultiheadAttention</text>\n",
       "<text text-anchor=\"start\" x=\"433.62\" y=\"-4564\" font-family=\"Linux libertine\" font-size=\"10.00\">depth:3</text>\n",
       "<polygon fill=\"none\" stroke=\"black\" points=\"503.5,-4573.5 503.5,-4595.5 550.5,-4595.5 550.5,-4573.5 503.5,-4573.5\"/>\n",
       "<text text-anchor=\"start\" x=\"513.12\" y=\"-4581\" font-family=\"Linux libertine\" font-size=\"10.00\">input:</text>\n",
       "<polygon fill=\"none\" stroke=\"black\" points=\"550.5,-4573.5 550.5,-4595.5 686.5,-4595.5 686.5,-4573.5 550.5,-4573.5\"/>\n",
       "<text text-anchor=\"start\" x=\"555.5\" y=\"-4581\" font-family=\"Linux libertine\" font-size=\"10.00\">(5, 44, 64), 2 x (5, 45, 64) </text>\n",
       "<polygon fill=\"none\" stroke=\"black\" points=\"503.5,-4551.5 503.5,-4573.5 550.5,-4573.5 550.5,-4551.5 503.5,-4551.5\"/>\n",
       "<text text-anchor=\"start\" x=\"508.25\" y=\"-4559\" font-family=\"Linux libertine\" font-size=\"10.00\">output: </text>\n",
       "<polygon fill=\"none\" stroke=\"black\" points=\"550.5,-4551.5 550.5,-4573.5 686.5,-4573.5 686.5,-4551.5 550.5,-4551.5\"/>\n",
       "<text text-anchor=\"start\" x=\"564.5\" y=\"-4559\" font-family=\"Linux libertine\" font-size=\"10.00\">(5, 44, 64), (5, 44, 45) </text>\n",
       "</g>\n",
       "<!-- 0&#45;&gt;41 -->\n",
       "<g id=\"edge43\" class=\"edge\">\n",
       "<title>0&#45;&gt;41</title>\n",
       "<path fill=\"none\" stroke=\"black\" d=\"M634.44,-6235.98C648.82,-6207.81 675.5,-6148.3 675.5,-6094.5 675.5,-6094.5 675.5,-6094.5 675.5,-4972.5 675.5,-4926.82 675.07,-4913.23 656.5,-4871.5 611.68,-4770.79 540.49,-4779.7 504.5,-4675.5 498.12,-4657.02 498.72,-4650.18 504.5,-4631.5 507.46,-4621.93 512.64,-4612.53 518.28,-4604.22\"/>\n",
       "<polygon fill=\"black\" stroke=\"black\" points=\"521.69,-4606.48 524.75,-4596.34 516.03,-4602.36 521.69,-4606.48\"/>\n",
       "</g>\n",
       "<!-- 53 -->\n",
       "<g id=\"node54\" class=\"node\">\n",
       "<title>53</title>\n",
       "<polygon fill=\"#c1ffc1\" stroke=\"none\" points=\"802.5,-3795.5 516.5,-3795.5 516.5,-3751.5 802.5,-3751.5 802.5,-3795.5\"/>\n",
       "<polygon fill=\"none\" stroke=\"black\" points=\"516.5,-3751.5 516.5,-3795.5 619.5,-3795.5 619.5,-3751.5 516.5,-3751.5\"/>\n",
       "<text text-anchor=\"start\" x=\"521.12\" y=\"-3776.75\" font-family=\"Linux libertine\" font-size=\"10.00\">MultiheadAttention</text>\n",
       "<text text-anchor=\"start\" x=\"549.62\" y=\"-3764\" font-family=\"Linux libertine\" font-size=\"10.00\">depth:3</text>\n",
       "<polygon fill=\"none\" stroke=\"black\" points=\"619.5,-3773.5 619.5,-3795.5 666.5,-3795.5 666.5,-3773.5 619.5,-3773.5\"/>\n",
       "<text text-anchor=\"start\" x=\"629.12\" y=\"-3781\" font-family=\"Linux libertine\" font-size=\"10.00\">input:</text>\n",
       "<polygon fill=\"none\" stroke=\"black\" points=\"666.5,-3773.5 666.5,-3795.5 802.5,-3795.5 802.5,-3773.5 666.5,-3773.5\"/>\n",
       "<text text-anchor=\"start\" x=\"671.5\" y=\"-3781\" font-family=\"Linux libertine\" font-size=\"10.00\">(5, 44, 64), 2 x (5, 45, 64) </text>\n",
       "<polygon fill=\"none\" stroke=\"black\" points=\"619.5,-3751.5 619.5,-3773.5 666.5,-3773.5 666.5,-3751.5 619.5,-3751.5\"/>\n",
       "<text text-anchor=\"start\" x=\"624.25\" y=\"-3759\" font-family=\"Linux libertine\" font-size=\"10.00\">output: </text>\n",
       "<polygon fill=\"none\" stroke=\"black\" points=\"666.5,-3751.5 666.5,-3773.5 802.5,-3773.5 802.5,-3751.5 666.5,-3751.5\"/>\n",
       "<text text-anchor=\"start\" x=\"680.5\" y=\"-3759\" font-family=\"Linux libertine\" font-size=\"10.00\">(5, 44, 64), (5, 44, 45) </text>\n",
       "</g>\n",
       "<!-- 0&#45;&gt;53 -->\n",
       "<g id=\"edge59\" class=\"edge\">\n",
       "<title>0&#45;&gt;53</title>\n",
       "<path fill=\"none\" stroke=\"black\" d=\"M642.66,-6235.78C668.52,-6208.71 714.5,-6152.43 714.5,-6094.5 714.5,-6094.5 714.5,-6094.5 714.5,-4172.5 714.5,-4034.05 645.66,-4011.65 620.5,-3875.5 616.95,-3856.27 614.72,-3850.18 620.5,-3831.5 623.46,-3821.93 628.64,-3812.53 634.28,-3804.22\"/>\n",
       "<polygon fill=\"black\" stroke=\"black\" points=\"637.69,-3806.48 640.75,-3796.34 632.03,-3802.36 637.69,-3806.48\"/>\n",
       "</g>\n",
       "<!-- 65 -->\n",
       "<g id=\"node66\" class=\"node\">\n",
       "<title>65</title>\n",
       "<polygon fill=\"#c1ffc1\" stroke=\"none\" points=\"973.5,-2995.5 687.5,-2995.5 687.5,-2951.5 973.5,-2951.5 973.5,-2995.5\"/>\n",
       "<polygon fill=\"none\" stroke=\"black\" points=\"687.5,-2951.5 687.5,-2995.5 790.5,-2995.5 790.5,-2951.5 687.5,-2951.5\"/>\n",
       "<text text-anchor=\"start\" x=\"692.12\" y=\"-2976.75\" font-family=\"Linux libertine\" font-size=\"10.00\">MultiheadAttention</text>\n",
       "<text text-anchor=\"start\" x=\"720.62\" y=\"-2964\" font-family=\"Linux libertine\" font-size=\"10.00\">depth:3</text>\n",
       "<polygon fill=\"none\" stroke=\"black\" points=\"790.5,-2973.5 790.5,-2995.5 837.5,-2995.5 837.5,-2973.5 790.5,-2973.5\"/>\n",
       "<text text-anchor=\"start\" x=\"800.12\" y=\"-2981\" font-family=\"Linux libertine\" font-size=\"10.00\">input:</text>\n",
       "<polygon fill=\"none\" stroke=\"black\" points=\"837.5,-2973.5 837.5,-2995.5 973.5,-2995.5 973.5,-2973.5 837.5,-2973.5\"/>\n",
       "<text text-anchor=\"start\" x=\"842.5\" y=\"-2981\" font-family=\"Linux libertine\" font-size=\"10.00\">(5, 44, 64), 2 x (5, 45, 64) </text>\n",
       "<polygon fill=\"none\" stroke=\"black\" points=\"790.5,-2951.5 790.5,-2973.5 837.5,-2973.5 837.5,-2951.5 790.5,-2951.5\"/>\n",
       "<text text-anchor=\"start\" x=\"795.25\" y=\"-2959\" font-family=\"Linux libertine\" font-size=\"10.00\">output: </text>\n",
       "<polygon fill=\"none\" stroke=\"black\" points=\"837.5,-2951.5 837.5,-2973.5 973.5,-2973.5 973.5,-2951.5 837.5,-2951.5\"/>\n",
       "<text text-anchor=\"start\" x=\"851.5\" y=\"-2959\" font-family=\"Linux libertine\" font-size=\"10.00\">(5, 44, 64), (5, 44, 45) </text>\n",
       "</g>\n",
       "<!-- 0&#45;&gt;65 -->\n",
       "<g id=\"edge75\" class=\"edge\">\n",
       "<title>0&#45;&gt;65</title>\n",
       "<path fill=\"none\" stroke=\"black\" d=\"M682.33,-6235.8C743,-6214.05 830.5,-6169.65 830.5,-6094.5 830.5,-6094.5 830.5,-6094.5 830.5,-3132.5 830.5,-3088.77 830.5,-3038.23 830.5,-3006.32\"/>\n",
       "<polygon fill=\"black\" stroke=\"black\" points=\"834,-3006.46 830.5,-2996.46 827,-3006.46 834,-3006.46\"/>\n",
       "</g>\n",
       "<!-- 77 -->\n",
       "<g id=\"node78\" class=\"node\">\n",
       "<title>77</title>\n",
       "<polygon fill=\"#c1ffc1\" stroke=\"none\" points=\"598.5,-2195.5 312.5,-2195.5 312.5,-2151.5 598.5,-2151.5 598.5,-2195.5\"/>\n",
       "<polygon fill=\"none\" stroke=\"black\" points=\"312.5,-2151.5 312.5,-2195.5 415.5,-2195.5 415.5,-2151.5 312.5,-2151.5\"/>\n",
       "<text text-anchor=\"start\" x=\"317.12\" y=\"-2176.75\" font-family=\"Linux libertine\" font-size=\"10.00\">MultiheadAttention</text>\n",
       "<text text-anchor=\"start\" x=\"345.62\" y=\"-2164\" font-family=\"Linux libertine\" font-size=\"10.00\">depth:3</text>\n",
       "<polygon fill=\"none\" stroke=\"black\" points=\"415.5,-2173.5 415.5,-2195.5 462.5,-2195.5 462.5,-2173.5 415.5,-2173.5\"/>\n",
       "<text text-anchor=\"start\" x=\"425.12\" y=\"-2181\" font-family=\"Linux libertine\" font-size=\"10.00\">input:</text>\n",
       "<polygon fill=\"none\" stroke=\"black\" points=\"462.5,-2173.5 462.5,-2195.5 598.5,-2195.5 598.5,-2173.5 462.5,-2173.5\"/>\n",
       "<text text-anchor=\"start\" x=\"467.5\" y=\"-2181\" font-family=\"Linux libertine\" font-size=\"10.00\">(5, 44, 64), 2 x (5, 45, 64) </text>\n",
       "<polygon fill=\"none\" stroke=\"black\" points=\"415.5,-2151.5 415.5,-2173.5 462.5,-2173.5 462.5,-2151.5 415.5,-2151.5\"/>\n",
       "<text text-anchor=\"start\" x=\"420.25\" y=\"-2159\" font-family=\"Linux libertine\" font-size=\"10.00\">output: </text>\n",
       "<polygon fill=\"none\" stroke=\"black\" points=\"462.5,-2151.5 462.5,-2173.5 598.5,-2173.5 598.5,-2151.5 462.5,-2151.5\"/>\n",
       "<text text-anchor=\"start\" x=\"476.5\" y=\"-2159\" font-family=\"Linux libertine\" font-size=\"10.00\">(5, 44, 64), (5, 44, 45) </text>\n",
       "</g>\n",
       "<!-- 0&#45;&gt;77 -->\n",
       "<g id=\"edge91\" class=\"edge\">\n",
       "<title>0&#45;&gt;77</title>\n",
       "<path fill=\"none\" stroke=\"black\" d=\"M610.59,-6235.82C601.24,-6224.85 589.33,-6209.91 580.5,-6195.5 478.27,-6028.64 466.88,-5978.09 396.5,-5795.5 375.72,-5741.59 396.93,-5713.72 357.5,-5671.5 327.53,-5639.41 293.51,-5669.31 265.5,-5635.5 236.36,-5600.33 246.5,-5580.18 246.5,-5534.5 246.5,-5534.5 246.5,-5534.5 246.5,-2332.5 246.5,-2265.31 316.08,-2223.06 374.94,-2199.33\"/>\n",
       "<polygon fill=\"black\" stroke=\"black\" points=\"375.99,-2202.29 384.03,-2195.4 373.45,-2195.77 375.99,-2202.29\"/>\n",
       "</g>\n",
       "<!-- 89 -->\n",
       "<g id=\"node90\" class=\"node\">\n",
       "<title>89</title>\n",
       "<polygon fill=\"#c1ffc1\" stroke=\"none\" points=\"663.5,-1395.5 377.5,-1395.5 377.5,-1351.5 663.5,-1351.5 663.5,-1395.5\"/>\n",
       "<polygon fill=\"none\" stroke=\"black\" points=\"377.5,-1351.5 377.5,-1395.5 480.5,-1395.5 480.5,-1351.5 377.5,-1351.5\"/>\n",
       "<text text-anchor=\"start\" x=\"382.12\" y=\"-1376.75\" font-family=\"Linux libertine\" font-size=\"10.00\">MultiheadAttention</text>\n",
       "<text text-anchor=\"start\" x=\"410.62\" y=\"-1364\" font-family=\"Linux libertine\" font-size=\"10.00\">depth:3</text>\n",
       "<polygon fill=\"none\" stroke=\"black\" points=\"480.5,-1373.5 480.5,-1395.5 527.5,-1395.5 527.5,-1373.5 480.5,-1373.5\"/>\n",
       "<text text-anchor=\"start\" x=\"490.12\" y=\"-1381\" font-family=\"Linux libertine\" font-size=\"10.00\">input:</text>\n",
       "<polygon fill=\"none\" stroke=\"black\" points=\"527.5,-1373.5 527.5,-1395.5 663.5,-1395.5 663.5,-1373.5 527.5,-1373.5\"/>\n",
       "<text text-anchor=\"start\" x=\"532.5\" y=\"-1381\" font-family=\"Linux libertine\" font-size=\"10.00\">(5, 44, 64), 2 x (5, 45, 64) </text>\n",
       "<polygon fill=\"none\" stroke=\"black\" points=\"480.5,-1351.5 480.5,-1373.5 527.5,-1373.5 527.5,-1351.5 480.5,-1351.5\"/>\n",
       "<text text-anchor=\"start\" x=\"485.25\" y=\"-1359\" font-family=\"Linux libertine\" font-size=\"10.00\">output: </text>\n",
       "<polygon fill=\"none\" stroke=\"black\" points=\"527.5,-1351.5 527.5,-1373.5 663.5,-1373.5 663.5,-1351.5 527.5,-1351.5\"/>\n",
       "<text text-anchor=\"start\" x=\"541.5\" y=\"-1359\" font-family=\"Linux libertine\" font-size=\"10.00\">(5, 44, 64), (5, 44, 45) </text>\n",
       "</g>\n",
       "<!-- 0&#45;&gt;89 -->\n",
       "<g id=\"edge107\" class=\"edge\">\n",
       "<title>0&#45;&gt;89</title>\n",
       "<path fill=\"none\" stroke=\"black\" d=\"M561.48,-6248.25C437.15,-6239.54 172.13,-6218.52 137.5,-6195.5 94.57,-6166.97 80.5,-6146.04 80.5,-6094.5 80.5,-6094.5 80.5,-6094.5 80.5,-1532.5 80.5,-1467.96 250.3,-1422.64 378.93,-1397.56\"/>\n",
       "<polygon fill=\"black\" stroke=\"black\" points=\"379.52,-1400.81 388.68,-1395.49 378.2,-1393.94 379.52,-1400.81\"/>\n",
       "</g>\n",
       "<!-- 101 -->\n",
       "<g id=\"node102\" class=\"node\">\n",
       "<title>101</title>\n",
       "<polygon fill=\"#c1ffc1\" stroke=\"none\" points=\"1206.5,-595.5 920.5,-595.5 920.5,-551.5 1206.5,-551.5 1206.5,-595.5\"/>\n",
       "<polygon fill=\"none\" stroke=\"black\" points=\"920.5,-551.5 920.5,-595.5 1023.5,-595.5 1023.5,-551.5 920.5,-551.5\"/>\n",
       "<text text-anchor=\"start\" x=\"925.12\" y=\"-576.75\" font-family=\"Linux libertine\" font-size=\"10.00\">MultiheadAttention</text>\n",
       "<text text-anchor=\"start\" x=\"953.62\" y=\"-564\" font-family=\"Linux libertine\" font-size=\"10.00\">depth:3</text>\n",
       "<polygon fill=\"none\" stroke=\"black\" points=\"1023.5,-573.5 1023.5,-595.5 1070.5,-595.5 1070.5,-573.5 1023.5,-573.5\"/>\n",
       "<text text-anchor=\"start\" x=\"1033.12\" y=\"-581\" font-family=\"Linux libertine\" font-size=\"10.00\">input:</text>\n",
       "<polygon fill=\"none\" stroke=\"black\" points=\"1070.5,-573.5 1070.5,-595.5 1206.5,-595.5 1206.5,-573.5 1070.5,-573.5\"/>\n",
       "<text text-anchor=\"start\" x=\"1075.5\" y=\"-581\" font-family=\"Linux libertine\" font-size=\"10.00\">(5, 44, 64), 2 x (5, 45, 64) </text>\n",
       "<polygon fill=\"none\" stroke=\"black\" points=\"1023.5,-551.5 1023.5,-573.5 1070.5,-573.5 1070.5,-551.5 1023.5,-551.5\"/>\n",
       "<text text-anchor=\"start\" x=\"1028.25\" y=\"-559\" font-family=\"Linux libertine\" font-size=\"10.00\">output: </text>\n",
       "<polygon fill=\"none\" stroke=\"black\" points=\"1070.5,-551.5 1070.5,-573.5 1206.5,-573.5 1206.5,-551.5 1070.5,-551.5\"/>\n",
       "<text text-anchor=\"start\" x=\"1084.5\" y=\"-559\" font-family=\"Linux libertine\" font-size=\"10.00\">(5, 44, 64), (5, 44, 45) </text>\n",
       "</g>\n",
       "<!-- 0&#45;&gt;101 -->\n",
       "<g id=\"edge123\" class=\"edge\">\n",
       "<title>0&#45;&gt;101</title>\n",
       "<path fill=\"none\" stroke=\"black\" d=\"M689.69,-6242.9C810.69,-6222.99 1060.5,-6172.44 1060.5,-6094.5 1060.5,-6094.5 1060.5,-6094.5 1060.5,-732.5 1060.5,-688.76 1061.66,-638.23 1062.54,-606.32\"/>\n",
       "<polygon fill=\"black\" stroke=\"black\" points=\"1066.06,-606.55 1062.85,-596.45 1059.07,-606.35 1066.06,-606.55\"/>\n",
       "</g>\n",
       "<!-- 1 -->\n",
       "<g id=\"node2\" class=\"node\">\n",
       "<title>1</title>\n",
       "<polygon fill=\"lightyellow\" stroke=\"none\" points=\"189.88,-7067 79.12,-7067 79.12,-7031.5 189.88,-7031.5 189.88,-7067\"/>\n",
       "<polygon fill=\"none\" stroke=\"black\" points=\"79.12,-7031.5 79.12,-7067 148.38,-7067 148.38,-7031.5 79.12,-7031.5\"/>\n",
       "<text text-anchor=\"start\" x=\"84.12\" y=\"-7052.5\" font-family=\"Linux libertine\" font-size=\"10.00\">input&#45;tensor</text>\n",
       "<text text-anchor=\"start\" x=\"95.38\" y=\"-7039.75\" font-family=\"Linux libertine\" font-size=\"10.00\">depth:0</text>\n",
       "<polygon fill=\"none\" stroke=\"black\" points=\"148.38,-7031.5 148.38,-7067 189.88,-7067 189.88,-7031.5 148.38,-7031.5\"/>\n",
       "<text text-anchor=\"start\" x=\"153.38\" y=\"-7046.12\" font-family=\"Linux libertine\" font-size=\"10.00\">(5, 44)</text>\n",
       "</g>\n",
       "<!-- 2 -->\n",
       "<g id=\"node3\" class=\"node\">\n",
       "<title>2</title>\n",
       "<polygon fill=\"#c1ffc1\" stroke=\"none\" points=\"173,-6755.5 0,-6755.5 0,-6711.5 173,-6711.5 173,-6755.5\"/>\n",
       "<polygon fill=\"none\" stroke=\"black\" points=\"0,-6711.5 0,-6755.5 64,-6755.5 64,-6711.5 0,-6711.5\"/>\n",
       "<text text-anchor=\"start\" x=\"4.62\" y=\"-6736.75\" font-family=\"Linux libertine\" font-size=\"10.00\">Embedding</text>\n",
       "<text text-anchor=\"start\" x=\"13.62\" y=\"-6724\" font-family=\"Linux libertine\" font-size=\"10.00\">depth:1</text>\n",
       "<polygon fill=\"none\" stroke=\"black\" points=\"64,-6733.5 64,-6755.5 111,-6755.5 111,-6733.5 64,-6733.5\"/>\n",
       "<text text-anchor=\"start\" x=\"73.62\" y=\"-6741\" font-family=\"Linux libertine\" font-size=\"10.00\">input:</text>\n",
       "<polygon fill=\"none\" stroke=\"black\" points=\"111,-6733.5 111,-6755.5 173,-6755.5 173,-6733.5 111,-6733.5\"/>\n",
       "<text text-anchor=\"start\" x=\"124.75\" y=\"-6741\" font-family=\"Linux libertine\" font-size=\"10.00\">(5, 44) </text>\n",
       "<polygon fill=\"none\" stroke=\"black\" points=\"64,-6711.5 64,-6733.5 111,-6733.5 111,-6711.5 64,-6711.5\"/>\n",
       "<text text-anchor=\"start\" x=\"68.75\" y=\"-6719\" font-family=\"Linux libertine\" font-size=\"10.00\">output: </text>\n",
       "<polygon fill=\"none\" stroke=\"black\" points=\"111,-6711.5 111,-6733.5 173,-6733.5 173,-6711.5 111,-6711.5\"/>\n",
       "<text text-anchor=\"start\" x=\"115.75\" y=\"-6719\" font-family=\"Linux libertine\" font-size=\"10.00\">(5, 44, 64) </text>\n",
       "</g>\n",
       "<!-- 1&#45;&gt;2 -->\n",
       "<g id=\"edge1\" class=\"edge\">\n",
       "<title>1&#45;&gt;2</title>\n",
       "<path fill=\"none\" stroke=\"black\" d=\"M130.24,-7031.6C123.98,-7006.56 112.3,-6957.65 105.5,-6915.5 97.11,-6863.43 91.58,-6802.3 88.75,-6766.07\"/>\n",
       "<polygon fill=\"black\" stroke=\"black\" points=\"92.17,-6765.93 87.93,-6756.23 85.19,-6766.46 92.17,-6765.93\"/>\n",
       "</g>\n",
       "<!-- 5 -->\n",
       "<g id=\"node6\" class=\"node\">\n",
       "<title>5</title>\n",
       "<polygon fill=\"aliceblue\" stroke=\"none\" points=\"325,-6995.5 188,-6995.5 188,-6951.5 325,-6951.5 325,-6995.5\"/>\n",
       "<polygon fill=\"none\" stroke=\"black\" points=\"188,-6951.5 188,-6995.5 234,-6995.5 234,-6951.5 188,-6951.5\"/>\n",
       "<text text-anchor=\"start\" x=\"200.88\" y=\"-6976.75\" font-family=\"Linux libertine\" font-size=\"10.00\">sign</text>\n",
       "<text text-anchor=\"start\" x=\"192.62\" y=\"-6964\" font-family=\"Linux libertine\" font-size=\"10.00\">depth:1</text>\n",
       "<polygon fill=\"none\" stroke=\"black\" points=\"234,-6973.5 234,-6995.5 281,-6995.5 281,-6973.5 234,-6973.5\"/>\n",
       "<text text-anchor=\"start\" x=\"243.62\" y=\"-6981\" font-family=\"Linux libertine\" font-size=\"10.00\">input:</text>\n",
       "<polygon fill=\"none\" stroke=\"black\" points=\"281,-6973.5 281,-6995.5 325,-6995.5 325,-6973.5 281,-6973.5\"/>\n",
       "<text text-anchor=\"start\" x=\"285.75\" y=\"-6981\" font-family=\"Linux libertine\" font-size=\"10.00\">(5, 44) </text>\n",
       "<polygon fill=\"none\" stroke=\"black\" points=\"234,-6951.5 234,-6973.5 281,-6973.5 281,-6951.5 234,-6951.5\"/>\n",
       "<text text-anchor=\"start\" x=\"238.75\" y=\"-6959\" font-family=\"Linux libertine\" font-size=\"10.00\">output: </text>\n",
       "<polygon fill=\"none\" stroke=\"black\" points=\"281,-6951.5 281,-6973.5 325,-6973.5 325,-6951.5 281,-6951.5\"/>\n",
       "<text text-anchor=\"start\" x=\"285.75\" y=\"-6959\" font-family=\"Linux libertine\" font-size=\"10.00\">(5, 44) </text>\n",
       "</g>\n",
       "<!-- 1&#45;&gt;5 -->\n",
       "<g id=\"edge2\" class=\"edge\">\n",
       "<title>1&#45;&gt;5</title>\n",
       "<path fill=\"none\" stroke=\"black\" d=\"M162.18,-7031.51C177.13,-7022.48 195.93,-7011.11 212.8,-7000.91\"/>\n",
       "<polygon fill=\"black\" stroke=\"black\" points=\"214.2,-7003.56 220.94,-6995.39 210.57,-6997.57 214.2,-7003.56\"/>\n",
       "</g>\n",
       "<!-- 10 -->\n",
       "<g id=\"node11\" class=\"node\">\n",
       "<title>10</title>\n",
       "<polygon fill=\"aliceblue\" stroke=\"none\" points=\"266,-6595.5 93,-6595.5 93,-6551.5 266,-6551.5 266,-6595.5\"/>\n",
       "<polygon fill=\"none\" stroke=\"black\" points=\"93,-6551.5 93,-6595.5 139,-6595.5 139,-6551.5 93,-6551.5\"/>\n",
       "<text text-anchor=\"start\" x=\"107\" y=\"-6576.75\" font-family=\"Linux libertine\" font-size=\"10.00\">add</text>\n",
       "<text text-anchor=\"start\" x=\"97.62\" y=\"-6564\" font-family=\"Linux libertine\" font-size=\"10.00\">depth:1</text>\n",
       "<polygon fill=\"none\" stroke=\"black\" points=\"139,-6573.5 139,-6595.5 186,-6595.5 186,-6573.5 139,-6573.5\"/>\n",
       "<text text-anchor=\"start\" x=\"148.62\" y=\"-6581\" font-family=\"Linux libertine\" font-size=\"10.00\">input:</text>\n",
       "<polygon fill=\"none\" stroke=\"black\" points=\"186,-6573.5 186,-6595.5 266,-6595.5 266,-6573.5 186,-6573.5\"/>\n",
       "<text text-anchor=\"start\" x=\"190.75\" y=\"-6581\" font-family=\"Linux libertine\" font-size=\"10.00\">2 x (5, 44, 64) </text>\n",
       "<polygon fill=\"none\" stroke=\"black\" points=\"139,-6551.5 139,-6573.5 186,-6573.5 186,-6551.5 139,-6551.5\"/>\n",
       "<text text-anchor=\"start\" x=\"143.75\" y=\"-6559\" font-family=\"Linux libertine\" font-size=\"10.00\">output: </text>\n",
       "<polygon fill=\"none\" stroke=\"black\" points=\"186,-6551.5 186,-6573.5 266,-6573.5 266,-6551.5 186,-6551.5\"/>\n",
       "<text text-anchor=\"start\" x=\"199.75\" y=\"-6559\" font-family=\"Linux libertine\" font-size=\"10.00\">(5, 44, 64) </text>\n",
       "</g>\n",
       "<!-- 2&#45;&gt;10 -->\n",
       "<g id=\"edge3\" class=\"edge\">\n",
       "<title>2&#45;&gt;10</title>\n",
       "<path fill=\"none\" stroke=\"black\" d=\"M98.85,-6711.52C115.06,-6683.98 143.61,-6635.48 162.03,-6604.18\"/>\n",
       "<polygon fill=\"black\" stroke=\"black\" points=\"165.34,-6606.46 167.39,-6596.07 159.31,-6602.91 165.34,-6606.46\"/>\n",
       "</g>\n",
       "<!-- 3 -->\n",
       "<g id=\"node4\" class=\"node\">\n",
       "<title>3</title>\n",
       "<polygon fill=\"aliceblue\" stroke=\"none\" points=\"242.5,-6915.5 114.5,-6915.5 114.5,-6871.5 242.5,-6871.5 242.5,-6915.5\"/>\n",
       "<polygon fill=\"none\" stroke=\"black\" points=\"114.5,-6871.5 114.5,-6915.5 160.5,-6915.5 160.5,-6871.5 114.5,-6871.5\"/>\n",
       "<text text-anchor=\"start\" x=\"127\" y=\"-6896.75\" font-family=\"Linux libertine\" font-size=\"10.00\">long</text>\n",
       "<text text-anchor=\"start\" x=\"119.12\" y=\"-6884\" font-family=\"Linux libertine\" font-size=\"10.00\">depth:1</text>\n",
       "<polygon fill=\"none\" stroke=\"black\" points=\"160.5,-6893.5 160.5,-6915.5 207.5,-6915.5 207.5,-6893.5 160.5,-6893.5\"/>\n",
       "<text text-anchor=\"start\" x=\"170.12\" y=\"-6901\" font-family=\"Linux libertine\" font-size=\"10.00\">input:</text>\n",
       "<polygon fill=\"none\" stroke=\"black\" points=\"207.5,-6893.5 207.5,-6915.5 242.5,-6915.5 242.5,-6893.5 207.5,-6893.5\"/>\n",
       "<text text-anchor=\"start\" x=\"212.25\" y=\"-6901\" font-family=\"Linux libertine\" font-size=\"10.00\">(44,) </text>\n",
       "<polygon fill=\"none\" stroke=\"black\" points=\"160.5,-6871.5 160.5,-6893.5 207.5,-6893.5 207.5,-6871.5 160.5,-6871.5\"/>\n",
       "<text text-anchor=\"start\" x=\"165.25\" y=\"-6879\" font-family=\"Linux libertine\" font-size=\"10.00\">output: </text>\n",
       "<polygon fill=\"none\" stroke=\"black\" points=\"207.5,-6871.5 207.5,-6893.5 242.5,-6893.5 242.5,-6871.5 207.5,-6871.5\"/>\n",
       "<text text-anchor=\"start\" x=\"212.25\" y=\"-6879\" font-family=\"Linux libertine\" font-size=\"10.00\">(44,) </text>\n",
       "</g>\n",
       "<!-- 4 -->\n",
       "<g id=\"node5\" class=\"node\">\n",
       "<title>4</title>\n",
       "<polygon fill=\"aliceblue\" stroke=\"none\" points=\"242.5,-6835.5 114.5,-6835.5 114.5,-6791.5 242.5,-6791.5 242.5,-6835.5\"/>\n",
       "<polygon fill=\"none\" stroke=\"black\" points=\"114.5,-6791.5 114.5,-6835.5 160.5,-6835.5 160.5,-6791.5 114.5,-6791.5\"/>\n",
       "<text text-anchor=\"start\" x=\"132.62\" y=\"-6816.75\" font-family=\"Linux libertine\" font-size=\"10.00\">to</text>\n",
       "<text text-anchor=\"start\" x=\"119.12\" y=\"-6804\" font-family=\"Linux libertine\" font-size=\"10.00\">depth:1</text>\n",
       "<polygon fill=\"none\" stroke=\"black\" points=\"160.5,-6813.5 160.5,-6835.5 207.5,-6835.5 207.5,-6813.5 160.5,-6813.5\"/>\n",
       "<text text-anchor=\"start\" x=\"170.12\" y=\"-6821\" font-family=\"Linux libertine\" font-size=\"10.00\">input:</text>\n",
       "<polygon fill=\"none\" stroke=\"black\" points=\"207.5,-6813.5 207.5,-6835.5 242.5,-6835.5 242.5,-6813.5 207.5,-6813.5\"/>\n",
       "<text text-anchor=\"start\" x=\"212.25\" y=\"-6821\" font-family=\"Linux libertine\" font-size=\"10.00\">(44,) </text>\n",
       "<polygon fill=\"none\" stroke=\"black\" points=\"160.5,-6791.5 160.5,-6813.5 207.5,-6813.5 207.5,-6791.5 160.5,-6791.5\"/>\n",
       "<text text-anchor=\"start\" x=\"165.25\" y=\"-6799\" font-family=\"Linux libertine\" font-size=\"10.00\">output: </text>\n",
       "<polygon fill=\"none\" stroke=\"black\" points=\"207.5,-6791.5 207.5,-6813.5 242.5,-6813.5 242.5,-6791.5 207.5,-6791.5\"/>\n",
       "<text text-anchor=\"start\" x=\"212.25\" y=\"-6799\" font-family=\"Linux libertine\" font-size=\"10.00\">(44,) </text>\n",
       "</g>\n",
       "<!-- 3&#45;&gt;4 -->\n",
       "<g id=\"edge4\" class=\"edge\">\n",
       "<title>3&#45;&gt;4</title>\n",
       "<path fill=\"none\" stroke=\"black\" d=\"M178.5,-6871.6C178.5,-6863.82 178.5,-6854.8 178.5,-6846.26\"/>\n",
       "<polygon fill=\"black\" stroke=\"black\" points=\"182,-6846.46 178.5,-6836.46 175,-6846.46 182,-6846.46\"/>\n",
       "</g>\n",
       "<!-- 8 -->\n",
       "<g id=\"node9\" class=\"node\">\n",
       "<title>8</title>\n",
       "<polygon fill=\"aliceblue\" stroke=\"none\" points=\"357.5,-6755.5 191.5,-6755.5 191.5,-6711.5 357.5,-6711.5 357.5,-6755.5\"/>\n",
       "<polygon fill=\"none\" stroke=\"black\" points=\"191.5,-6711.5 191.5,-6755.5 237.5,-6755.5 237.5,-6711.5 191.5,-6711.5\"/>\n",
       "<text text-anchor=\"start\" x=\"205.12\" y=\"-6736.75\" font-family=\"Linux libertine\" font-size=\"10.00\">mul</text>\n",
       "<text text-anchor=\"start\" x=\"196.12\" y=\"-6724\" font-family=\"Linux libertine\" font-size=\"10.00\">depth:1</text>\n",
       "<polygon fill=\"none\" stroke=\"black\" points=\"237.5,-6733.5 237.5,-6755.5 284.5,-6755.5 284.5,-6733.5 237.5,-6733.5\"/>\n",
       "<text text-anchor=\"start\" x=\"247.12\" y=\"-6741\" font-family=\"Linux libertine\" font-size=\"10.00\">input:</text>\n",
       "<polygon fill=\"none\" stroke=\"black\" points=\"284.5,-6733.5 284.5,-6755.5 357.5,-6755.5 357.5,-6733.5 284.5,-6733.5\"/>\n",
       "<text text-anchor=\"start\" x=\"289.5\" y=\"-6741\" font-family=\"Linux libertine\" font-size=\"10.00\">(44,), (5, 44) </text>\n",
       "<polygon fill=\"none\" stroke=\"black\" points=\"237.5,-6711.5 237.5,-6733.5 284.5,-6733.5 284.5,-6711.5 237.5,-6711.5\"/>\n",
       "<text text-anchor=\"start\" x=\"242.25\" y=\"-6719\" font-family=\"Linux libertine\" font-size=\"10.00\">output: </text>\n",
       "<polygon fill=\"none\" stroke=\"black\" points=\"284.5,-6711.5 284.5,-6733.5 357.5,-6733.5 357.5,-6711.5 284.5,-6711.5\"/>\n",
       "<text text-anchor=\"start\" x=\"303.75\" y=\"-6719\" font-family=\"Linux libertine\" font-size=\"10.00\">(5, 44) </text>\n",
       "</g>\n",
       "<!-- 4&#45;&gt;8 -->\n",
       "<g id=\"edge5\" class=\"edge\">\n",
       "<title>4&#45;&gt;8</title>\n",
       "<path fill=\"none\" stroke=\"black\" d=\"M204.23,-6791.6C215.31,-6782.59 228.43,-6771.93 240.31,-6762.28\"/>\n",
       "<polygon fill=\"black\" stroke=\"black\" points=\"242.15,-6764.48 247.7,-6755.46 237.73,-6759.05 242.15,-6764.48\"/>\n",
       "</g>\n",
       "<!-- 6 -->\n",
       "<g id=\"node7\" class=\"node\">\n",
       "<title>6</title>\n",
       "<polygon fill=\"aliceblue\" stroke=\"none\" points=\"398,-6915.5 261,-6915.5 261,-6871.5 398,-6871.5 398,-6915.5\"/>\n",
       "<polygon fill=\"none\" stroke=\"black\" points=\"261,-6871.5 261,-6915.5 307,-6915.5 307,-6871.5 261,-6871.5\"/>\n",
       "<text text-anchor=\"start\" x=\"273.5\" y=\"-6896.75\" font-family=\"Linux libertine\" font-size=\"10.00\">long</text>\n",
       "<text text-anchor=\"start\" x=\"265.62\" y=\"-6884\" font-family=\"Linux libertine\" font-size=\"10.00\">depth:1</text>\n",
       "<polygon fill=\"none\" stroke=\"black\" points=\"307,-6893.5 307,-6915.5 354,-6915.5 354,-6893.5 307,-6893.5\"/>\n",
       "<text text-anchor=\"start\" x=\"316.62\" y=\"-6901\" font-family=\"Linux libertine\" font-size=\"10.00\">input:</text>\n",
       "<polygon fill=\"none\" stroke=\"black\" points=\"354,-6893.5 354,-6915.5 398,-6915.5 398,-6893.5 354,-6893.5\"/>\n",
       "<text text-anchor=\"start\" x=\"358.75\" y=\"-6901\" font-family=\"Linux libertine\" font-size=\"10.00\">(5, 44) </text>\n",
       "<polygon fill=\"none\" stroke=\"black\" points=\"307,-6871.5 307,-6893.5 354,-6893.5 354,-6871.5 307,-6871.5\"/>\n",
       "<text text-anchor=\"start\" x=\"311.75\" y=\"-6879\" font-family=\"Linux libertine\" font-size=\"10.00\">output: </text>\n",
       "<polygon fill=\"none\" stroke=\"black\" points=\"354,-6871.5 354,-6893.5 398,-6893.5 398,-6871.5 354,-6871.5\"/>\n",
       "<text text-anchor=\"start\" x=\"358.75\" y=\"-6879\" font-family=\"Linux libertine\" font-size=\"10.00\">(5, 44) </text>\n",
       "</g>\n",
       "<!-- 5&#45;&gt;6 -->\n",
       "<g id=\"edge6\" class=\"edge\">\n",
       "<title>5&#45;&gt;6</title>\n",
       "<path fill=\"none\" stroke=\"black\" d=\"M276.06,-6951.6C284.16,-6942.94 293.69,-6932.76 302.45,-6923.41\"/>\n",
       "<polygon fill=\"black\" stroke=\"black\" points=\"304.61,-6926.15 308.88,-6916.46 299.49,-6921.37 304.61,-6926.15\"/>\n",
       "</g>\n",
       "<!-- 7 -->\n",
       "<g id=\"node8\" class=\"node\">\n",
       "<title>7</title>\n",
       "<polygon fill=\"aliceblue\" stroke=\"none\" points=\"398,-6835.5 261,-6835.5 261,-6791.5 398,-6791.5 398,-6835.5\"/>\n",
       "<polygon fill=\"none\" stroke=\"black\" points=\"261,-6791.5 261,-6835.5 307,-6835.5 307,-6791.5 261,-6791.5\"/>\n",
       "<text text-anchor=\"start\" x=\"279.12\" y=\"-6816.75\" font-family=\"Linux libertine\" font-size=\"10.00\">to</text>\n",
       "<text text-anchor=\"start\" x=\"265.62\" y=\"-6804\" font-family=\"Linux libertine\" font-size=\"10.00\">depth:1</text>\n",
       "<polygon fill=\"none\" stroke=\"black\" points=\"307,-6813.5 307,-6835.5 354,-6835.5 354,-6813.5 307,-6813.5\"/>\n",
       "<text text-anchor=\"start\" x=\"316.62\" y=\"-6821\" font-family=\"Linux libertine\" font-size=\"10.00\">input:</text>\n",
       "<polygon fill=\"none\" stroke=\"black\" points=\"354,-6813.5 354,-6835.5 398,-6835.5 398,-6813.5 354,-6813.5\"/>\n",
       "<text text-anchor=\"start\" x=\"358.75\" y=\"-6821\" font-family=\"Linux libertine\" font-size=\"10.00\">(5, 44) </text>\n",
       "<polygon fill=\"none\" stroke=\"black\" points=\"307,-6791.5 307,-6813.5 354,-6813.5 354,-6791.5 307,-6791.5\"/>\n",
       "<text text-anchor=\"start\" x=\"311.75\" y=\"-6799\" font-family=\"Linux libertine\" font-size=\"10.00\">output: </text>\n",
       "<polygon fill=\"none\" stroke=\"black\" points=\"354,-6791.5 354,-6813.5 398,-6813.5 398,-6791.5 354,-6791.5\"/>\n",
       "<text text-anchor=\"start\" x=\"358.75\" y=\"-6799\" font-family=\"Linux libertine\" font-size=\"10.00\">(5, 44) </text>\n",
       "</g>\n",
       "<!-- 6&#45;&gt;7 -->\n",
       "<g id=\"edge7\" class=\"edge\">\n",
       "<title>6&#45;&gt;7</title>\n",
       "<path fill=\"none\" stroke=\"black\" d=\"M329.5,-6871.6C329.5,-6863.82 329.5,-6854.8 329.5,-6846.26\"/>\n",
       "<polygon fill=\"black\" stroke=\"black\" points=\"333,-6846.46 329.5,-6836.46 326,-6846.46 333,-6846.46\"/>\n",
       "</g>\n",
       "<!-- 7&#45;&gt;8 -->\n",
       "<g id=\"edge8\" class=\"edge\">\n",
       "<title>7&#45;&gt;8</title>\n",
       "<path fill=\"none\" stroke=\"black\" d=\"M314.76,-6791.6C308.84,-6783.2 301.91,-6773.37 295.48,-6764.26\"/>\n",
       "<polygon fill=\"black\" stroke=\"black\" points=\"297.9,-6762.62 289.28,-6756.46 292.18,-6766.65 297.9,-6762.62\"/>\n",
       "</g>\n",
       "<!-- 9 -->\n",
       "<g id=\"node10\" class=\"node\">\n",
       "<title>9</title>\n",
       "<polygon fill=\"#c1ffc1\" stroke=\"none\" points=\"342,-6675.5 169,-6675.5 169,-6631.5 342,-6631.5 342,-6675.5\"/>\n",
       "<polygon fill=\"none\" stroke=\"black\" points=\"169,-6631.5 169,-6675.5 233,-6675.5 233,-6631.5 169,-6631.5\"/>\n",
       "<text text-anchor=\"start\" x=\"173.62\" y=\"-6656.75\" font-family=\"Linux libertine\" font-size=\"10.00\">Embedding</text>\n",
       "<text text-anchor=\"start\" x=\"182.62\" y=\"-6644\" font-family=\"Linux libertine\" font-size=\"10.00\">depth:1</text>\n",
       "<polygon fill=\"none\" stroke=\"black\" points=\"233,-6653.5 233,-6675.5 280,-6675.5 280,-6653.5 233,-6653.5\"/>\n",
       "<text text-anchor=\"start\" x=\"242.62\" y=\"-6661\" font-family=\"Linux libertine\" font-size=\"10.00\">input:</text>\n",
       "<polygon fill=\"none\" stroke=\"black\" points=\"280,-6653.5 280,-6675.5 342,-6675.5 342,-6653.5 280,-6653.5\"/>\n",
       "<text text-anchor=\"start\" x=\"293.75\" y=\"-6661\" font-family=\"Linux libertine\" font-size=\"10.00\">(5, 44) </text>\n",
       "<polygon fill=\"none\" stroke=\"black\" points=\"233,-6631.5 233,-6653.5 280,-6653.5 280,-6631.5 233,-6631.5\"/>\n",
       "<text text-anchor=\"start\" x=\"237.75\" y=\"-6639\" font-family=\"Linux libertine\" font-size=\"10.00\">output: </text>\n",
       "<polygon fill=\"none\" stroke=\"black\" points=\"280,-6631.5 280,-6653.5 342,-6653.5 342,-6631.5 280,-6631.5\"/>\n",
       "<text text-anchor=\"start\" x=\"284.75\" y=\"-6639\" font-family=\"Linux libertine\" font-size=\"10.00\">(5, 44, 64) </text>\n",
       "</g>\n",
       "<!-- 8&#45;&gt;9 -->\n",
       "<g id=\"edge9\" class=\"edge\">\n",
       "<title>8&#45;&gt;9</title>\n",
       "<path fill=\"none\" stroke=\"black\" d=\"M269.41,-6711.6C267.49,-6703.73 265.27,-6694.6 263.17,-6685.97\"/>\n",
       "<polygon fill=\"black\" stroke=\"black\" points=\"266.37,-6685.35 260.61,-6676.46 259.57,-6687 266.37,-6685.35\"/>\n",
       "</g>\n",
       "<!-- 9&#45;&gt;10 -->\n",
       "<g id=\"edge10\" class=\"edge\">\n",
       "<title>9&#45;&gt;10</title>\n",
       "<path fill=\"none\" stroke=\"black\" d=\"M235.13,-6631.6C226.61,-6622.85 216.58,-6612.55 207.39,-6603.12\"/>\n",
       "<polygon fill=\"black\" stroke=\"black\" points=\"210.41,-6601.18 200.92,-6596.46 205.39,-6606.07 210.41,-6601.18\"/>\n",
       "</g>\n",
       "<!-- 11 -->\n",
       "<g id=\"node12\" class=\"node\">\n",
       "<title>11</title>\n",
       "<polygon fill=\"#c1ffc1\" stroke=\"none\" points=\"323,-6515.5 150,-6515.5 150,-6471.5 323,-6471.5 323,-6515.5\"/>\n",
       "<polygon fill=\"none\" stroke=\"black\" points=\"150,-6471.5 150,-6515.5 214,-6515.5 214,-6471.5 150,-6471.5\"/>\n",
       "<text text-anchor=\"start\" x=\"155\" y=\"-6496.75\" font-family=\"Linux libertine\" font-size=\"10.00\">LayerNorm</text>\n",
       "<text text-anchor=\"start\" x=\"163.62\" y=\"-6484\" font-family=\"Linux libertine\" font-size=\"10.00\">depth:3</text>\n",
       "<polygon fill=\"none\" stroke=\"black\" points=\"214,-6493.5 214,-6515.5 261,-6515.5 261,-6493.5 214,-6493.5\"/>\n",
       "<text text-anchor=\"start\" x=\"223.62\" y=\"-6501\" font-family=\"Linux libertine\" font-size=\"10.00\">input:</text>\n",
       "<polygon fill=\"none\" stroke=\"black\" points=\"261,-6493.5 261,-6515.5 323,-6515.5 323,-6493.5 261,-6493.5\"/>\n",
       "<text text-anchor=\"start\" x=\"265.75\" y=\"-6501\" font-family=\"Linux libertine\" font-size=\"10.00\">(5, 44, 64) </text>\n",
       "<polygon fill=\"none\" stroke=\"black\" points=\"214,-6471.5 214,-6493.5 261,-6493.5 261,-6471.5 214,-6471.5\"/>\n",
       "<text text-anchor=\"start\" x=\"218.75\" y=\"-6479\" font-family=\"Linux libertine\" font-size=\"10.00\">output: </text>\n",
       "<polygon fill=\"none\" stroke=\"black\" points=\"261,-6471.5 261,-6493.5 323,-6493.5 323,-6471.5 261,-6471.5\"/>\n",
       "<text text-anchor=\"start\" x=\"265.75\" y=\"-6479\" font-family=\"Linux libertine\" font-size=\"10.00\">(5, 44, 64) </text>\n",
       "</g>\n",
       "<!-- 10&#45;&gt;11 -->\n",
       "<g id=\"edge12\" class=\"edge\">\n",
       "<title>10&#45;&gt;11</title>\n",
       "<path fill=\"none\" stroke=\"black\" d=\"M194.77,-6551.6C200.91,-6543.2 208.09,-6533.37 214.75,-6524.26\"/>\n",
       "<polygon fill=\"black\" stroke=\"black\" points=\"218.11,-6526.6 221.18,-6516.46 212.46,-6522.47 218.11,-6526.6\"/>\n",
       "</g>\n",
       "<!-- 15 -->\n",
       "<g id=\"node16\" class=\"node\">\n",
       "<title>15</title>\n",
       "<polygon fill=\"aliceblue\" stroke=\"none\" points=\"290,-6355.5 117,-6355.5 117,-6311.5 290,-6311.5 290,-6355.5\"/>\n",
       "<polygon fill=\"none\" stroke=\"black\" points=\"117,-6311.5 117,-6355.5 163,-6355.5 163,-6311.5 117,-6311.5\"/>\n",
       "<text text-anchor=\"start\" x=\"131\" y=\"-6336.75\" font-family=\"Linux libertine\" font-size=\"10.00\">add</text>\n",
       "<text text-anchor=\"start\" x=\"121.62\" y=\"-6324\" font-family=\"Linux libertine\" font-size=\"10.00\">depth:3</text>\n",
       "<polygon fill=\"none\" stroke=\"black\" points=\"163,-6333.5 163,-6355.5 210,-6355.5 210,-6333.5 163,-6333.5\"/>\n",
       "<text text-anchor=\"start\" x=\"172.62\" y=\"-6341\" font-family=\"Linux libertine\" font-size=\"10.00\">input:</text>\n",
       "<polygon fill=\"none\" stroke=\"black\" points=\"210,-6333.5 210,-6355.5 290,-6355.5 290,-6333.5 210,-6333.5\"/>\n",
       "<text text-anchor=\"start\" x=\"214.75\" y=\"-6341\" font-family=\"Linux libertine\" font-size=\"10.00\">2 x (5, 44, 64) </text>\n",
       "<polygon fill=\"none\" stroke=\"black\" points=\"163,-6311.5 163,-6333.5 210,-6333.5 210,-6311.5 163,-6311.5\"/>\n",
       "<text text-anchor=\"start\" x=\"167.75\" y=\"-6319\" font-family=\"Linux libertine\" font-size=\"10.00\">output: </text>\n",
       "<polygon fill=\"none\" stroke=\"black\" points=\"210,-6311.5 210,-6333.5 290,-6333.5 290,-6311.5 210,-6311.5\"/>\n",
       "<text text-anchor=\"start\" x=\"223.75\" y=\"-6319\" font-family=\"Linux libertine\" font-size=\"10.00\">(5, 44, 64) </text>\n",
       "</g>\n",
       "<!-- 10&#45;&gt;15 -->\n",
       "<g id=\"edge13\" class=\"edge\">\n",
       "<title>10&#45;&gt;15</title>\n",
       "<path fill=\"none\" stroke=\"black\" d=\"M160.75,-6551.66C152.86,-6541.51 144.58,-6528.67 140.5,-6515.5 124.21,-6462.85 118.14,-6441.87 140.5,-6391.5 145.4,-6380.46 153.62,-6370.64 162.52,-6362.4\"/>\n",
       "<polygon fill=\"black\" stroke=\"black\" points=\"164.51,-6364.46 169.82,-6355.29 159.95,-6359.14 164.51,-6364.46\"/>\n",
       "</g>\n",
       "<!-- 14 -->\n",
       "<g id=\"node15\" class=\"node\">\n",
       "<title>14</title>\n",
       "<polygon fill=\"#c1ffc1\" stroke=\"none\" points=\"423.5,-6435.5 149.5,-6435.5 149.5,-6391.5 423.5,-6391.5 423.5,-6435.5\"/>\n",
       "<polygon fill=\"none\" stroke=\"black\" points=\"149.5,-6391.5 149.5,-6435.5 252.5,-6435.5 252.5,-6391.5 149.5,-6391.5\"/>\n",
       "<text text-anchor=\"start\" x=\"154.12\" y=\"-6416.75\" font-family=\"Linux libertine\" font-size=\"10.00\">MultiheadAttention</text>\n",
       "<text text-anchor=\"start\" x=\"182.62\" y=\"-6404\" font-family=\"Linux libertine\" font-size=\"10.00\">depth:3</text>\n",
       "<polygon fill=\"none\" stroke=\"black\" points=\"252.5,-6413.5 252.5,-6435.5 299.5,-6435.5 299.5,-6413.5 252.5,-6413.5\"/>\n",
       "<text text-anchor=\"start\" x=\"262.12\" y=\"-6421\" font-family=\"Linux libertine\" font-size=\"10.00\">input:</text>\n",
       "<polygon fill=\"none\" stroke=\"black\" points=\"299.5,-6413.5 299.5,-6435.5 423.5,-6435.5 423.5,-6413.5 299.5,-6413.5\"/>\n",
       "<text text-anchor=\"start\" x=\"304.5\" y=\"-6421\" font-family=\"Linux libertine\" font-size=\"10.00\">3 x (5, 44, 64), (44, 44) </text>\n",
       "<polygon fill=\"none\" stroke=\"black\" points=\"252.5,-6391.5 252.5,-6413.5 299.5,-6413.5 299.5,-6391.5 252.5,-6391.5\"/>\n",
       "<text text-anchor=\"start\" x=\"257.25\" y=\"-6399\" font-family=\"Linux libertine\" font-size=\"10.00\">output: </text>\n",
       "<polygon fill=\"none\" stroke=\"black\" points=\"299.5,-6391.5 299.5,-6413.5 423.5,-6413.5 423.5,-6391.5 299.5,-6391.5\"/>\n",
       "<text text-anchor=\"start\" x=\"307.5\" y=\"-6399\" font-family=\"Linux libertine\" font-size=\"10.00\">(5, 44, 64), (5, 44, 44) </text>\n",
       "</g>\n",
       "<!-- 11&#45;&gt;14 -->\n",
       "<g id=\"edge14\" class=\"edge\">\n",
       "<title>11&#45;&gt;14</title>\n",
       "<path fill=\"none\" stroke=\"black\" d=\"M249.9,-6471.6C255.22,-6463.29 261.45,-6453.58 267.24,-6444.54\"/>\n",
       "<polygon fill=\"black\" stroke=\"black\" points=\"270.61,-6446.77 273.06,-6436.46 264.72,-6442.99 270.61,-6446.77\"/>\n",
       "</g>\n",
       "<!-- 12 -->\n",
       "<g id=\"node13\" class=\"node\">\n",
       "<title>12</title>\n",
       "<polygon fill=\"aliceblue\" stroke=\"none\" points=\"484,-6595.5 341,-6595.5 341,-6551.5 484,-6551.5 484,-6595.5\"/>\n",
       "<polygon fill=\"none\" stroke=\"black\" points=\"341,-6551.5 341,-6595.5 387,-6595.5 387,-6551.5 341,-6551.5\"/>\n",
       "<text text-anchor=\"start\" x=\"355.75\" y=\"-6576.75\" font-family=\"Linux libertine\" font-size=\"10.00\">triu</text>\n",
       "<text text-anchor=\"start\" x=\"345.62\" y=\"-6564\" font-family=\"Linux libertine\" font-size=\"10.00\">depth:3</text>\n",
       "<polygon fill=\"none\" stroke=\"black\" points=\"387,-6573.5 387,-6595.5 434,-6595.5 434,-6573.5 387,-6573.5\"/>\n",
       "<text text-anchor=\"start\" x=\"396.62\" y=\"-6581\" font-family=\"Linux libertine\" font-size=\"10.00\">input:</text>\n",
       "<polygon fill=\"none\" stroke=\"black\" points=\"434,-6573.5 434,-6595.5 484,-6595.5 484,-6573.5 434,-6573.5\"/>\n",
       "<text text-anchor=\"start\" x=\"438.75\" y=\"-6581\" font-family=\"Linux libertine\" font-size=\"10.00\">(44, 44) </text>\n",
       "<polygon fill=\"none\" stroke=\"black\" points=\"387,-6551.5 387,-6573.5 434,-6573.5 434,-6551.5 387,-6551.5\"/>\n",
       "<text text-anchor=\"start\" x=\"391.75\" y=\"-6559\" font-family=\"Linux libertine\" font-size=\"10.00\">output: </text>\n",
       "<polygon fill=\"none\" stroke=\"black\" points=\"434,-6551.5 434,-6573.5 484,-6573.5 484,-6551.5 434,-6551.5\"/>\n",
       "<text text-anchor=\"start\" x=\"438.75\" y=\"-6559\" font-family=\"Linux libertine\" font-size=\"10.00\">(44, 44) </text>\n",
       "</g>\n",
       "<!-- 13 -->\n",
       "<g id=\"node14\" class=\"node\">\n",
       "<title>13</title>\n",
       "<polygon fill=\"aliceblue\" stroke=\"none\" points=\"484,-6515.5 341,-6515.5 341,-6471.5 484,-6471.5 484,-6515.5\"/>\n",
       "<polygon fill=\"none\" stroke=\"black\" points=\"341,-6471.5 341,-6515.5 387,-6515.5 387,-6471.5 341,-6471.5\"/>\n",
       "<text text-anchor=\"start\" x=\"359.12\" y=\"-6496.75\" font-family=\"Linux libertine\" font-size=\"10.00\">to</text>\n",
       "<text text-anchor=\"start\" x=\"345.62\" y=\"-6484\" font-family=\"Linux libertine\" font-size=\"10.00\">depth:3</text>\n",
       "<polygon fill=\"none\" stroke=\"black\" points=\"387,-6493.5 387,-6515.5 434,-6515.5 434,-6493.5 387,-6493.5\"/>\n",
       "<text text-anchor=\"start\" x=\"396.62\" y=\"-6501\" font-family=\"Linux libertine\" font-size=\"10.00\">input:</text>\n",
       "<polygon fill=\"none\" stroke=\"black\" points=\"434,-6493.5 434,-6515.5 484,-6515.5 484,-6493.5 434,-6493.5\"/>\n",
       "<text text-anchor=\"start\" x=\"438.75\" y=\"-6501\" font-family=\"Linux libertine\" font-size=\"10.00\">(44, 44) </text>\n",
       "<polygon fill=\"none\" stroke=\"black\" points=\"387,-6471.5 387,-6493.5 434,-6493.5 434,-6471.5 387,-6471.5\"/>\n",
       "<text text-anchor=\"start\" x=\"391.75\" y=\"-6479\" font-family=\"Linux libertine\" font-size=\"10.00\">output: </text>\n",
       "<polygon fill=\"none\" stroke=\"black\" points=\"434,-6471.5 434,-6493.5 484,-6493.5 484,-6471.5 434,-6471.5\"/>\n",
       "<text text-anchor=\"start\" x=\"438.75\" y=\"-6479\" font-family=\"Linux libertine\" font-size=\"10.00\">(44, 44) </text>\n",
       "</g>\n",
       "<!-- 12&#45;&gt;13 -->\n",
       "<g id=\"edge15\" class=\"edge\">\n",
       "<title>12&#45;&gt;13</title>\n",
       "<path fill=\"none\" stroke=\"black\" d=\"M412.5,-6551.6C412.5,-6543.82 412.5,-6534.8 412.5,-6526.26\"/>\n",
       "<polygon fill=\"black\" stroke=\"black\" points=\"416,-6526.46 412.5,-6516.46 409,-6526.46 416,-6526.46\"/>\n",
       "</g>\n",
       "<!-- 13&#45;&gt;14 -->\n",
       "<g id=\"edge16\" class=\"edge\">\n",
       "<title>13&#45;&gt;14</title>\n",
       "<path fill=\"none\" stroke=\"black\" d=\"M378.73,-6471.6C363.62,-6462.24 345.63,-6451.1 329.56,-6441.16\"/>\n",
       "<polygon fill=\"black\" stroke=\"black\" points=\"331.7,-6437.75 321.36,-6435.46 328.02,-6443.7 331.7,-6437.75\"/>\n",
       "</g>\n",
       "<!-- 14&#45;&gt;15 -->\n",
       "<g id=\"edge17\" class=\"edge\">\n",
       "<title>14&#45;&gt;15</title>\n",
       "<path fill=\"none\" stroke=\"black\" d=\"M264.26,-6391.6C254.86,-6382.77 243.77,-6372.35 233.66,-6362.84\"/>\n",
       "<polygon fill=\"black\" stroke=\"black\" points=\"236.49,-6360.76 226.8,-6356.46 231.69,-6365.86 236.49,-6360.76\"/>\n",
       "</g>\n",
       "<!-- 16 -->\n",
       "<g id=\"node17\" class=\"node\">\n",
       "<title>16</title>\n",
       "<polygon fill=\"#c1ffc1\" stroke=\"none\" points=\"348,-6275.5 175,-6275.5 175,-6231.5 348,-6231.5 348,-6275.5\"/>\n",
       "<polygon fill=\"none\" stroke=\"black\" points=\"175,-6231.5 175,-6275.5 239,-6275.5 239,-6231.5 175,-6231.5\"/>\n",
       "<text text-anchor=\"start\" x=\"180\" y=\"-6256.75\" font-family=\"Linux libertine\" font-size=\"10.00\">LayerNorm</text>\n",
       "<text text-anchor=\"start\" x=\"188.62\" y=\"-6244\" font-family=\"Linux libertine\" font-size=\"10.00\">depth:3</text>\n",
       "<polygon fill=\"none\" stroke=\"black\" points=\"239,-6253.5 239,-6275.5 286,-6275.5 286,-6253.5 239,-6253.5\"/>\n",
       "<text text-anchor=\"start\" x=\"248.62\" y=\"-6261\" font-family=\"Linux libertine\" font-size=\"10.00\">input:</text>\n",
       "<polygon fill=\"none\" stroke=\"black\" points=\"286,-6253.5 286,-6275.5 348,-6275.5 348,-6253.5 286,-6253.5\"/>\n",
       "<text text-anchor=\"start\" x=\"290.75\" y=\"-6261\" font-family=\"Linux libertine\" font-size=\"10.00\">(5, 44, 64) </text>\n",
       "<polygon fill=\"none\" stroke=\"black\" points=\"239,-6231.5 239,-6253.5 286,-6253.5 286,-6231.5 239,-6231.5\"/>\n",
       "<text text-anchor=\"start\" x=\"243.75\" y=\"-6239\" font-family=\"Linux libertine\" font-size=\"10.00\">output: </text>\n",
       "<polygon fill=\"none\" stroke=\"black\" points=\"286,-6231.5 286,-6253.5 348,-6253.5 348,-6231.5 286,-6231.5\"/>\n",
       "<text text-anchor=\"start\" x=\"290.75\" y=\"-6239\" font-family=\"Linux libertine\" font-size=\"10.00\">(5, 44, 64) </text>\n",
       "</g>\n",
       "<!-- 15&#45;&gt;16 -->\n",
       "<g id=\"edge18\" class=\"edge\">\n",
       "<title>15&#45;&gt;16</title>\n",
       "<path fill=\"none\" stroke=\"black\" d=\"M219.04,-6311.6C225.28,-6303.2 232.59,-6293.37 239.37,-6284.26\"/>\n",
       "<polygon fill=\"black\" stroke=\"black\" points=\"242.76,-6286.57 245.91,-6276.46 237.14,-6282.4 242.76,-6286.57\"/>\n",
       "</g>\n",
       "<!-- 18 -->\n",
       "<g id=\"node19\" class=\"node\">\n",
       "<title>18</title>\n",
       "<polygon fill=\"aliceblue\" stroke=\"none\" points=\"344,-6115.5 171,-6115.5 171,-6071.5 344,-6071.5 344,-6115.5\"/>\n",
       "<polygon fill=\"none\" stroke=\"black\" points=\"171,-6071.5 171,-6115.5 217,-6115.5 217,-6071.5 171,-6071.5\"/>\n",
       "<text text-anchor=\"start\" x=\"185\" y=\"-6096.75\" font-family=\"Linux libertine\" font-size=\"10.00\">add</text>\n",
       "<text text-anchor=\"start\" x=\"175.62\" y=\"-6084\" font-family=\"Linux libertine\" font-size=\"10.00\">depth:3</text>\n",
       "<polygon fill=\"none\" stroke=\"black\" points=\"217,-6093.5 217,-6115.5 264,-6115.5 264,-6093.5 217,-6093.5\"/>\n",
       "<text text-anchor=\"start\" x=\"226.62\" y=\"-6101\" font-family=\"Linux libertine\" font-size=\"10.00\">input:</text>\n",
       "<polygon fill=\"none\" stroke=\"black\" points=\"264,-6093.5 264,-6115.5 344,-6115.5 344,-6093.5 264,-6093.5\"/>\n",
       "<text text-anchor=\"start\" x=\"268.75\" y=\"-6101\" font-family=\"Linux libertine\" font-size=\"10.00\">2 x (5, 44, 64) </text>\n",
       "<polygon fill=\"none\" stroke=\"black\" points=\"217,-6071.5 217,-6093.5 264,-6093.5 264,-6071.5 217,-6071.5\"/>\n",
       "<text text-anchor=\"start\" x=\"221.75\" y=\"-6079\" font-family=\"Linux libertine\" font-size=\"10.00\">output: </text>\n",
       "<polygon fill=\"none\" stroke=\"black\" points=\"264,-6071.5 264,-6093.5 344,-6093.5 344,-6071.5 264,-6071.5\"/>\n",
       "<text text-anchor=\"start\" x=\"277.75\" y=\"-6079\" font-family=\"Linux libertine\" font-size=\"10.00\">(5, 44, 64) </text>\n",
       "</g>\n",
       "<!-- 15&#45;&gt;18 -->\n",
       "<g id=\"edge19\" class=\"edge\">\n",
       "<title>15&#45;&gt;18</title>\n",
       "<path fill=\"none\" stroke=\"black\" d=\"M184.42,-6311.66C154.7,-6276.58 104.08,-6204.37 137.5,-6151.5 145.76,-6138.43 157.92,-6128.3 171.38,-6120.46\"/>\n",
       "<polygon fill=\"black\" stroke=\"black\" points=\"172.69,-6123.19 179.86,-6115.39 169.39,-6117.02 172.69,-6123.19\"/>\n",
       "</g>\n",
       "<!-- 16&#45;&gt;17 -->\n",
       "<g id=\"edge20\" class=\"edge\">\n",
       "<title>16&#45;&gt;17</title>\n",
       "<path fill=\"none\" stroke=\"black\" d=\"M269,-6231.6C271.86,-6223.64 275.18,-6214.39 278.3,-6205.69\"/>\n",
       "<polygon fill=\"black\" stroke=\"black\" points=\"281.89,-6207.05 281.98,-6196.46 275.3,-6204.69 281.89,-6207.05\"/>\n",
       "</g>\n",
       "<!-- 17&#45;&gt;18 -->\n",
       "<g id=\"edge21\" class=\"edge\">\n",
       "<title>17&#45;&gt;18</title>\n",
       "<path fill=\"none\" stroke=\"black\" d=\"M280.92,-6151.6C277.62,-6143.55 273.78,-6134.19 270.18,-6125.4\"/>\n",
       "<polygon fill=\"black\" stroke=\"black\" points=\"273.13,-6124.38 266.1,-6116.46 266.66,-6127.04 273.13,-6124.38\"/>\n",
       "</g>\n",
       "<!-- 19 -->\n",
       "<g id=\"node20\" class=\"node\">\n",
       "<title>19</title>\n",
       "<polygon fill=\"#c1ffc1\" stroke=\"none\" points=\"354,-6035.5 181,-6035.5 181,-5991.5 354,-5991.5 354,-6035.5\"/>\n",
       "<polygon fill=\"none\" stroke=\"black\" points=\"181,-5991.5 181,-6035.5 245,-6035.5 245,-5991.5 181,-5991.5\"/>\n",
       "<text text-anchor=\"start\" x=\"186\" y=\"-6016.75\" font-family=\"Linux libertine\" font-size=\"10.00\">LayerNorm</text>\n",
       "<text text-anchor=\"start\" x=\"194.62\" y=\"-6004\" font-family=\"Linux libertine\" font-size=\"10.00\">depth:3</text>\n",
       "<polygon fill=\"none\" stroke=\"black\" points=\"245,-6013.5 245,-6035.5 292,-6035.5 292,-6013.5 245,-6013.5\"/>\n",
       "<text text-anchor=\"start\" x=\"254.62\" y=\"-6021\" font-family=\"Linux libertine\" font-size=\"10.00\">input:</text>\n",
       "<polygon fill=\"none\" stroke=\"black\" points=\"292,-6013.5 292,-6035.5 354,-6035.5 354,-6013.5 292,-6013.5\"/>\n",
       "<text text-anchor=\"start\" x=\"296.75\" y=\"-6021\" font-family=\"Linux libertine\" font-size=\"10.00\">(5, 44, 64) </text>\n",
       "<polygon fill=\"none\" stroke=\"black\" points=\"245,-5991.5 245,-6013.5 292,-6013.5 292,-5991.5 245,-5991.5\"/>\n",
       "<text text-anchor=\"start\" x=\"249.75\" y=\"-5999\" font-family=\"Linux libertine\" font-size=\"10.00\">output: </text>\n",
       "<polygon fill=\"none\" stroke=\"black\" points=\"292,-5991.5 292,-6013.5 354,-6013.5 354,-5991.5 292,-5991.5\"/>\n",
       "<text text-anchor=\"start\" x=\"296.75\" y=\"-5999\" font-family=\"Linux libertine\" font-size=\"10.00\">(5, 44, 64) </text>\n",
       "</g>\n",
       "<!-- 18&#45;&gt;19 -->\n",
       "<g id=\"edge22\" class=\"edge\">\n",
       "<title>18&#45;&gt;19</title>\n",
       "<path fill=\"none\" stroke=\"black\" d=\"M260.18,-6071.6C261.18,-6063.82 262.33,-6054.8 263.43,-6046.26\"/>\n",
       "<polygon fill=\"black\" stroke=\"black\" points=\"267.01,-6046.82 264.81,-6036.46 260.07,-6045.93 267.01,-6046.82\"/>\n",
       "</g>\n",
       "<!-- 22 -->\n",
       "<g id=\"node23\" class=\"node\">\n",
       "<title>22</title>\n",
       "<polygon fill=\"aliceblue\" stroke=\"none\" points=\"315,-5795.5 142,-5795.5 142,-5751.5 315,-5751.5 315,-5795.5\"/>\n",
       "<polygon fill=\"none\" stroke=\"black\" points=\"142,-5751.5 142,-5795.5 188,-5795.5 188,-5751.5 142,-5751.5\"/>\n",
       "<text text-anchor=\"start\" x=\"156\" y=\"-5776.75\" font-family=\"Linux libertine\" font-size=\"10.00\">add</text>\n",
       "<text text-anchor=\"start\" x=\"146.62\" y=\"-5764\" font-family=\"Linux libertine\" font-size=\"10.00\">depth:3</text>\n",
       "<polygon fill=\"none\" stroke=\"black\" points=\"188,-5773.5 188,-5795.5 235,-5795.5 235,-5773.5 188,-5773.5\"/>\n",
       "<text text-anchor=\"start\" x=\"197.62\" y=\"-5781\" font-family=\"Linux libertine\" font-size=\"10.00\">input:</text>\n",
       "<polygon fill=\"none\" stroke=\"black\" points=\"235,-5773.5 235,-5795.5 315,-5795.5 315,-5773.5 235,-5773.5\"/>\n",
       "<text text-anchor=\"start\" x=\"239.75\" y=\"-5781\" font-family=\"Linux libertine\" font-size=\"10.00\">2 x (5, 44, 64) </text>\n",
       "<polygon fill=\"none\" stroke=\"black\" points=\"188,-5751.5 188,-5773.5 235,-5773.5 235,-5751.5 188,-5751.5\"/>\n",
       "<text text-anchor=\"start\" x=\"192.75\" y=\"-5759\" font-family=\"Linux libertine\" font-size=\"10.00\">output: </text>\n",
       "<polygon fill=\"none\" stroke=\"black\" points=\"235,-5751.5 235,-5773.5 315,-5773.5 315,-5751.5 235,-5751.5\"/>\n",
       "<text text-anchor=\"start\" x=\"248.75\" y=\"-5759\" font-family=\"Linux libertine\" font-size=\"10.00\">(5, 44, 64) </text>\n",
       "</g>\n",
       "<!-- 18&#45;&gt;22 -->\n",
       "<g id=\"edge23\" class=\"edge\">\n",
       "<title>18&#45;&gt;22</title>\n",
       "<path fill=\"none\" stroke=\"black\" d=\"M208.7,-6071.56C194.06,-6062.7 179.72,-6050.81 171.5,-6035.5 155.54,-6005.78 120.84,-5962.58 174.5,-5831.5 178.81,-5820.98 186.03,-5811.27 193.82,-5802.96\"/>\n",
       "<polygon fill=\"black\" stroke=\"black\" points=\"195.77,-5805.97 200.39,-5796.43 190.83,-5801 195.77,-5805.97\"/>\n",
       "</g>\n",
       "<!-- 20 -->\n",
       "<g id=\"node21\" class=\"node\">\n",
       "<title>20</title>\n",
       "<polygon fill=\"#c1ffc1\" stroke=\"none\" points=\"341,-5955.5 186,-5955.5 186,-5911.5 341,-5911.5 341,-5955.5\"/>\n",
       "<polygon fill=\"none\" stroke=\"black\" points=\"186,-5911.5 186,-5955.5 232,-5955.5 232,-5911.5 186,-5911.5\"/>\n",
       "<text text-anchor=\"start\" x=\"194\" y=\"-5936.75\" font-family=\"Linux libertine\" font-size=\"10.00\">Linear</text>\n",
       "<text text-anchor=\"start\" x=\"190.62\" y=\"-5924\" font-family=\"Linux libertine\" font-size=\"10.00\">depth:3</text>\n",
       "<polygon fill=\"none\" stroke=\"black\" points=\"232,-5933.5 232,-5955.5 279,-5955.5 279,-5933.5 232,-5933.5\"/>\n",
       "<text text-anchor=\"start\" x=\"241.62\" y=\"-5941\" font-family=\"Linux libertine\" font-size=\"10.00\">input:</text>\n",
       "<polygon fill=\"none\" stroke=\"black\" points=\"279,-5933.5 279,-5955.5 341,-5955.5 341,-5933.5 279,-5933.5\"/>\n",
       "<text text-anchor=\"start\" x=\"283.75\" y=\"-5941\" font-family=\"Linux libertine\" font-size=\"10.00\">(5, 44, 64) </text>\n",
       "<polygon fill=\"none\" stroke=\"black\" points=\"232,-5911.5 232,-5933.5 279,-5933.5 279,-5911.5 232,-5911.5\"/>\n",
       "<text text-anchor=\"start\" x=\"236.75\" y=\"-5919\" font-family=\"Linux libertine\" font-size=\"10.00\">output: </text>\n",
       "<polygon fill=\"none\" stroke=\"black\" points=\"279,-5911.5 279,-5933.5 341,-5933.5 341,-5911.5 279,-5911.5\"/>\n",
       "<text text-anchor=\"start\" x=\"283.75\" y=\"-5919\" font-family=\"Linux libertine\" font-size=\"10.00\">(5, 44, 64) </text>\n",
       "</g>\n",
       "<!-- 19&#45;&gt;20 -->\n",
       "<g id=\"edge24\" class=\"edge\">\n",
       "<title>19&#45;&gt;20</title>\n",
       "<path fill=\"none\" stroke=\"black\" d=\"M266.43,-5991.6C266.03,-5983.82 265.57,-5974.8 265.13,-5966.26\"/>\n",
       "<polygon fill=\"black\" stroke=\"black\" points=\"268.58,-5966.27 264.57,-5956.46 261.59,-5966.63 268.58,-5966.27\"/>\n",
       "</g>\n",
       "<!-- 21 -->\n",
       "<g id=\"node22\" class=\"node\">\n",
       "<title>21</title>\n",
       "<polygon fill=\"#c1ffc1\" stroke=\"none\" points=\"339,-5875.5 184,-5875.5 184,-5831.5 339,-5831.5 339,-5875.5\"/>\n",
       "<polygon fill=\"none\" stroke=\"black\" points=\"184,-5831.5 184,-5875.5 230,-5875.5 230,-5831.5 184,-5831.5\"/>\n",
       "<text text-anchor=\"start\" x=\"193.88\" y=\"-5856.75\" font-family=\"Linux libertine\" font-size=\"10.00\">GELU</text>\n",
       "<text text-anchor=\"start\" x=\"188.62\" y=\"-5844\" font-family=\"Linux libertine\" font-size=\"10.00\">depth:3</text>\n",
       "<polygon fill=\"none\" stroke=\"black\" points=\"230,-5853.5 230,-5875.5 277,-5875.5 277,-5853.5 230,-5853.5\"/>\n",
       "<text text-anchor=\"start\" x=\"239.62\" y=\"-5861\" font-family=\"Linux libertine\" font-size=\"10.00\">input:</text>\n",
       "<polygon fill=\"none\" stroke=\"black\" points=\"277,-5853.5 277,-5875.5 339,-5875.5 339,-5853.5 277,-5853.5\"/>\n",
       "<text text-anchor=\"start\" x=\"281.75\" y=\"-5861\" font-family=\"Linux libertine\" font-size=\"10.00\">(5, 44, 64) </text>\n",
       "<polygon fill=\"none\" stroke=\"black\" points=\"230,-5831.5 230,-5853.5 277,-5853.5 277,-5831.5 230,-5831.5\"/>\n",
       "<text text-anchor=\"start\" x=\"234.75\" y=\"-5839\" font-family=\"Linux libertine\" font-size=\"10.00\">output: </text>\n",
       "<polygon fill=\"none\" stroke=\"black\" points=\"277,-5831.5 277,-5853.5 339,-5853.5 339,-5831.5 277,-5831.5\"/>\n",
       "<text text-anchor=\"start\" x=\"281.75\" y=\"-5839\" font-family=\"Linux libertine\" font-size=\"10.00\">(5, 44, 64) </text>\n",
       "</g>\n",
       "<!-- 20&#45;&gt;21 -->\n",
       "<g id=\"edge25\" class=\"edge\">\n",
       "<title>20&#45;&gt;21</title>\n",
       "<path fill=\"none\" stroke=\"black\" d=\"M262.96,-5911.6C262.76,-5903.82 262.53,-5894.8 262.31,-5886.26\"/>\n",
       "<polygon fill=\"black\" stroke=\"black\" points=\"265.79,-5886.37 262.04,-5876.46 258.8,-5886.55 265.79,-5886.37\"/>\n",
       "</g>\n",
       "<!-- 21&#45;&gt;22 -->\n",
       "<g id=\"edge26\" class=\"edge\">\n",
       "<title>21&#45;&gt;22</title>\n",
       "<path fill=\"none\" stroke=\"black\" d=\"M252.66,-5831.6C249.25,-5823.55 245.29,-5814.19 241.57,-5805.4\"/>\n",
       "<polygon fill=\"black\" stroke=\"black\" points=\"244.49,-5804.31 237.37,-5796.46 238.04,-5807.03 244.49,-5804.31\"/>\n",
       "</g>\n",
       "<!-- 23 -->\n",
       "<g id=\"node24\" class=\"node\">\n",
       "<title>23</title>\n",
       "<polygon fill=\"#c1ffc1\" stroke=\"none\" points=\"348,-5715.5 175,-5715.5 175,-5671.5 348,-5671.5 348,-5715.5\"/>\n",
       "<polygon fill=\"none\" stroke=\"black\" points=\"175,-5671.5 175,-5715.5 239,-5715.5 239,-5671.5 175,-5671.5\"/>\n",
       "<text text-anchor=\"start\" x=\"180\" y=\"-5696.75\" font-family=\"Linux libertine\" font-size=\"10.00\">LayerNorm</text>\n",
       "<text text-anchor=\"start\" x=\"188.62\" y=\"-5684\" font-family=\"Linux libertine\" font-size=\"10.00\">depth:3</text>\n",
       "<polygon fill=\"none\" stroke=\"black\" points=\"239,-5693.5 239,-5715.5 286,-5715.5 286,-5693.5 239,-5693.5\"/>\n",
       "<text text-anchor=\"start\" x=\"248.62\" y=\"-5701\" font-family=\"Linux libertine\" font-size=\"10.00\">input:</text>\n",
       "<polygon fill=\"none\" stroke=\"black\" points=\"286,-5693.5 286,-5715.5 348,-5715.5 348,-5693.5 286,-5693.5\"/>\n",
       "<text text-anchor=\"start\" x=\"290.75\" y=\"-5701\" font-family=\"Linux libertine\" font-size=\"10.00\">(5, 44, 64) </text>\n",
       "<polygon fill=\"none\" stroke=\"black\" points=\"239,-5671.5 239,-5693.5 286,-5693.5 286,-5671.5 239,-5671.5\"/>\n",
       "<text text-anchor=\"start\" x=\"243.75\" y=\"-5679\" font-family=\"Linux libertine\" font-size=\"10.00\">output: </text>\n",
       "<polygon fill=\"none\" stroke=\"black\" points=\"286,-5671.5 286,-5693.5 348,-5693.5 348,-5671.5 286,-5671.5\"/>\n",
       "<text text-anchor=\"start\" x=\"290.75\" y=\"-5679\" font-family=\"Linux libertine\" font-size=\"10.00\">(5, 44, 64) </text>\n",
       "</g>\n",
       "<!-- 22&#45;&gt;23 -->\n",
       "<g id=\"edge28\" class=\"edge\">\n",
       "<title>22&#45;&gt;23</title>\n",
       "<path fill=\"none\" stroke=\"black\" d=\"M237.34,-5751.6C240.75,-5743.55 244.71,-5734.19 248.43,-5725.4\"/>\n",
       "<polygon fill=\"black\" stroke=\"black\" points=\"251.96,-5727.03 252.63,-5716.46 245.51,-5724.31 251.96,-5727.03\"/>\n",
       "</g>\n",
       "<!-- 27 -->\n",
       "<g id=\"node28\" class=\"node\">\n",
       "<title>27</title>\n",
       "<polygon fill=\"aliceblue\" stroke=\"none\" points=\"473,-5555.5 300,-5555.5 300,-5511.5 473,-5511.5 473,-5555.5\"/>\n",
       "<polygon fill=\"none\" stroke=\"black\" points=\"300,-5511.5 300,-5555.5 346,-5555.5 346,-5511.5 300,-5511.5\"/>\n",
       "<text text-anchor=\"start\" x=\"314\" y=\"-5536.75\" font-family=\"Linux libertine\" font-size=\"10.00\">add</text>\n",
       "<text text-anchor=\"start\" x=\"304.62\" y=\"-5524\" font-family=\"Linux libertine\" font-size=\"10.00\">depth:3</text>\n",
       "<polygon fill=\"none\" stroke=\"black\" points=\"346,-5533.5 346,-5555.5 393,-5555.5 393,-5533.5 346,-5533.5\"/>\n",
       "<text text-anchor=\"start\" x=\"355.62\" y=\"-5541\" font-family=\"Linux libertine\" font-size=\"10.00\">input:</text>\n",
       "<polygon fill=\"none\" stroke=\"black\" points=\"393,-5533.5 393,-5555.5 473,-5555.5 473,-5533.5 393,-5533.5\"/>\n",
       "<text text-anchor=\"start\" x=\"397.75\" y=\"-5541\" font-family=\"Linux libertine\" font-size=\"10.00\">2 x (5, 44, 64) </text>\n",
       "<polygon fill=\"none\" stroke=\"black\" points=\"346,-5511.5 346,-5533.5 393,-5533.5 393,-5511.5 346,-5511.5\"/>\n",
       "<text text-anchor=\"start\" x=\"350.75\" y=\"-5519\" font-family=\"Linux libertine\" font-size=\"10.00\">output: </text>\n",
       "<polygon fill=\"none\" stroke=\"black\" points=\"393,-5511.5 393,-5533.5 473,-5533.5 473,-5511.5 393,-5511.5\"/>\n",
       "<text text-anchor=\"start\" x=\"406.75\" y=\"-5519\" font-family=\"Linux libertine\" font-size=\"10.00\">(5, 44, 64) </text>\n",
       "</g>\n",
       "<!-- 22&#45;&gt;27 -->\n",
       "<g id=\"edge29\" class=\"edge\">\n",
       "<title>22&#45;&gt;27</title>\n",
       "<path fill=\"none\" stroke=\"black\" d=\"M195.82,-5751.71C183.96,-5742.25 171.9,-5729.93 165.5,-5715.5 157.57,-5697.63 157.03,-5689.13 165.5,-5671.5 192.4,-5615.52 254.22,-5580.14 305.65,-5559.39\"/>\n",
       "<polygon fill=\"black\" stroke=\"black\" points=\"306.74,-5562.33 314.79,-5555.43 304.2,-5555.81 306.74,-5562.33\"/>\n",
       "</g>\n",
       "<!-- 26 -->\n",
       "<g id=\"node27\" class=\"node\">\n",
       "<title>26</title>\n",
       "<polygon fill=\"#c1ffc1\" stroke=\"none\" points=\"548.5,-5635.5 274.5,-5635.5 274.5,-5591.5 548.5,-5591.5 548.5,-5635.5\"/>\n",
       "<polygon fill=\"none\" stroke=\"black\" points=\"274.5,-5591.5 274.5,-5635.5 377.5,-5635.5 377.5,-5591.5 274.5,-5591.5\"/>\n",
       "<text text-anchor=\"start\" x=\"279.12\" y=\"-5616.75\" font-family=\"Linux libertine\" font-size=\"10.00\">MultiheadAttention</text>\n",
       "<text text-anchor=\"start\" x=\"307.62\" y=\"-5604\" font-family=\"Linux libertine\" font-size=\"10.00\">depth:3</text>\n",
       "<polygon fill=\"none\" stroke=\"black\" points=\"377.5,-5613.5 377.5,-5635.5 424.5,-5635.5 424.5,-5613.5 377.5,-5613.5\"/>\n",
       "<text text-anchor=\"start\" x=\"387.12\" y=\"-5621\" font-family=\"Linux libertine\" font-size=\"10.00\">input:</text>\n",
       "<polygon fill=\"none\" stroke=\"black\" points=\"424.5,-5613.5 424.5,-5635.5 548.5,-5635.5 548.5,-5613.5 424.5,-5613.5\"/>\n",
       "<text text-anchor=\"start\" x=\"429.5\" y=\"-5621\" font-family=\"Linux libertine\" font-size=\"10.00\">3 x (5, 44, 64), (44, 44) </text>\n",
       "<polygon fill=\"none\" stroke=\"black\" points=\"377.5,-5591.5 377.5,-5613.5 424.5,-5613.5 424.5,-5591.5 377.5,-5591.5\"/>\n",
       "<text text-anchor=\"start\" x=\"382.25\" y=\"-5599\" font-family=\"Linux libertine\" font-size=\"10.00\">output: </text>\n",
       "<polygon fill=\"none\" stroke=\"black\" points=\"424.5,-5591.5 424.5,-5613.5 548.5,-5613.5 548.5,-5591.5 424.5,-5591.5\"/>\n",
       "<text text-anchor=\"start\" x=\"432.5\" y=\"-5599\" font-family=\"Linux libertine\" font-size=\"10.00\">(5, 44, 64), (5, 44, 44) </text>\n",
       "</g>\n",
       "<!-- 23&#45;&gt;26 -->\n",
       "<g id=\"edge30\" class=\"edge\">\n",
       "<title>23&#45;&gt;26</title>\n",
       "<path fill=\"none\" stroke=\"black\" d=\"M301.7,-5671.6C320.11,-5662.02 342.11,-5650.58 361.58,-5640.46\"/>\n",
       "<polygon fill=\"black\" stroke=\"black\" points=\"362.93,-5643.18 370.19,-5635.46 359.7,-5636.97 362.93,-5643.18\"/>\n",
       "</g>\n",
       "<!-- 24 -->\n",
       "<g id=\"node25\" class=\"node\">\n",
       "<title>24</title>\n",
       "<polygon fill=\"aliceblue\" stroke=\"none\" points=\"548,-5795.5 405,-5795.5 405,-5751.5 548,-5751.5 548,-5795.5\"/>\n",
       "<polygon fill=\"none\" stroke=\"black\" points=\"405,-5751.5 405,-5795.5 451,-5795.5 451,-5751.5 405,-5751.5\"/>\n",
       "<text text-anchor=\"start\" x=\"419.75\" y=\"-5776.75\" font-family=\"Linux libertine\" font-size=\"10.00\">triu</text>\n",
       "<text text-anchor=\"start\" x=\"409.62\" y=\"-5764\" font-family=\"Linux libertine\" font-size=\"10.00\">depth:3</text>\n",
       "<polygon fill=\"none\" stroke=\"black\" points=\"451,-5773.5 451,-5795.5 498,-5795.5 498,-5773.5 451,-5773.5\"/>\n",
       "<text text-anchor=\"start\" x=\"460.62\" y=\"-5781\" font-family=\"Linux libertine\" font-size=\"10.00\">input:</text>\n",
       "<polygon fill=\"none\" stroke=\"black\" points=\"498,-5773.5 498,-5795.5 548,-5795.5 548,-5773.5 498,-5773.5\"/>\n",
       "<text text-anchor=\"start\" x=\"502.75\" y=\"-5781\" font-family=\"Linux libertine\" font-size=\"10.00\">(44, 44) </text>\n",
       "<polygon fill=\"none\" stroke=\"black\" points=\"451,-5751.5 451,-5773.5 498,-5773.5 498,-5751.5 451,-5751.5\"/>\n",
       "<text text-anchor=\"start\" x=\"455.75\" y=\"-5759\" font-family=\"Linux libertine\" font-size=\"10.00\">output: </text>\n",
       "<polygon fill=\"none\" stroke=\"black\" points=\"498,-5751.5 498,-5773.5 548,-5773.5 548,-5751.5 498,-5751.5\"/>\n",
       "<text text-anchor=\"start\" x=\"502.75\" y=\"-5759\" font-family=\"Linux libertine\" font-size=\"10.00\">(44, 44) </text>\n",
       "</g>\n",
       "<!-- 25 -->\n",
       "<g id=\"node26\" class=\"node\">\n",
       "<title>25</title>\n",
       "<polygon fill=\"aliceblue\" stroke=\"none\" points=\"548,-5715.5 405,-5715.5 405,-5671.5 548,-5671.5 548,-5715.5\"/>\n",
       "<polygon fill=\"none\" stroke=\"black\" points=\"405,-5671.5 405,-5715.5 451,-5715.5 451,-5671.5 405,-5671.5\"/>\n",
       "<text text-anchor=\"start\" x=\"423.12\" y=\"-5696.75\" font-family=\"Linux libertine\" font-size=\"10.00\">to</text>\n",
       "<text text-anchor=\"start\" x=\"409.62\" y=\"-5684\" font-family=\"Linux libertine\" font-size=\"10.00\">depth:3</text>\n",
       "<polygon fill=\"none\" stroke=\"black\" points=\"451,-5693.5 451,-5715.5 498,-5715.5 498,-5693.5 451,-5693.5\"/>\n",
       "<text text-anchor=\"start\" x=\"460.62\" y=\"-5701\" font-family=\"Linux libertine\" font-size=\"10.00\">input:</text>\n",
       "<polygon fill=\"none\" stroke=\"black\" points=\"498,-5693.5 498,-5715.5 548,-5715.5 548,-5693.5 498,-5693.5\"/>\n",
       "<text text-anchor=\"start\" x=\"502.75\" y=\"-5701\" font-family=\"Linux libertine\" font-size=\"10.00\">(44, 44) </text>\n",
       "<polygon fill=\"none\" stroke=\"black\" points=\"451,-5671.5 451,-5693.5 498,-5693.5 498,-5671.5 451,-5671.5\"/>\n",
       "<text text-anchor=\"start\" x=\"455.75\" y=\"-5679\" font-family=\"Linux libertine\" font-size=\"10.00\">output: </text>\n",
       "<polygon fill=\"none\" stroke=\"black\" points=\"498,-5671.5 498,-5693.5 548,-5693.5 548,-5671.5 498,-5671.5\"/>\n",
       "<text text-anchor=\"start\" x=\"502.75\" y=\"-5679\" font-family=\"Linux libertine\" font-size=\"10.00\">(44, 44) </text>\n",
       "</g>\n",
       "<!-- 24&#45;&gt;25 -->\n",
       "<g id=\"edge31\" class=\"edge\">\n",
       "<title>24&#45;&gt;25</title>\n",
       "<path fill=\"none\" stroke=\"black\" d=\"M476.5,-5751.6C476.5,-5743.82 476.5,-5734.8 476.5,-5726.26\"/>\n",
       "<polygon fill=\"black\" stroke=\"black\" points=\"480,-5726.46 476.5,-5716.46 473,-5726.46 480,-5726.46\"/>\n",
       "</g>\n",
       "<!-- 25&#45;&gt;26 -->\n",
       "<g id=\"edge32\" class=\"edge\">\n",
       "<title>25&#45;&gt;26</title>\n",
       "<path fill=\"none\" stroke=\"black\" d=\"M459.08,-5671.6C451.94,-5663.03 443.55,-5652.96 435.82,-5643.69\"/>\n",
       "<polygon fill=\"black\" stroke=\"black\" points=\"438.06,-5641.9 428.97,-5636.46 432.68,-5646.38 438.06,-5641.9\"/>\n",
       "</g>\n",
       "<!-- 26&#45;&gt;27 -->\n",
       "<g id=\"edge33\" class=\"edge\">\n",
       "<title>26&#45;&gt;27</title>\n",
       "<path fill=\"none\" stroke=\"black\" d=\"M404.8,-5591.6C402.25,-5583.64 399.29,-5574.39 396.5,-5565.69\"/>\n",
       "<polygon fill=\"black\" stroke=\"black\" points=\"399.6,-5564.91 393.22,-5556.46 392.94,-5567.05 399.6,-5564.91\"/>\n",
       "</g>\n",
       "<!-- 28 -->\n",
       "<g id=\"node29\" class=\"node\">\n",
       "<title>28</title>\n",
       "<polygon fill=\"#c1ffc1\" stroke=\"none\" points=\"647,-5475.5 474,-5475.5 474,-5431.5 647,-5431.5 647,-5475.5\"/>\n",
       "<polygon fill=\"none\" stroke=\"black\" points=\"474,-5431.5 474,-5475.5 538,-5475.5 538,-5431.5 474,-5431.5\"/>\n",
       "<text text-anchor=\"start\" x=\"479\" y=\"-5456.75\" font-family=\"Linux libertine\" font-size=\"10.00\">LayerNorm</text>\n",
       "<text text-anchor=\"start\" x=\"487.62\" y=\"-5444\" font-family=\"Linux libertine\" font-size=\"10.00\">depth:3</text>\n",
       "<polygon fill=\"none\" stroke=\"black\" points=\"538,-5453.5 538,-5475.5 585,-5475.5 585,-5453.5 538,-5453.5\"/>\n",
       "<text text-anchor=\"start\" x=\"547.62\" y=\"-5461\" font-family=\"Linux libertine\" font-size=\"10.00\">input:</text>\n",
       "<polygon fill=\"none\" stroke=\"black\" points=\"585,-5453.5 585,-5475.5 647,-5475.5 647,-5453.5 585,-5453.5\"/>\n",
       "<text text-anchor=\"start\" x=\"589.75\" y=\"-5461\" font-family=\"Linux libertine\" font-size=\"10.00\">(5, 44, 64) </text>\n",
       "<polygon fill=\"none\" stroke=\"black\" points=\"538,-5431.5 538,-5453.5 585,-5453.5 585,-5431.5 538,-5431.5\"/>\n",
       "<text text-anchor=\"start\" x=\"542.75\" y=\"-5439\" font-family=\"Linux libertine\" font-size=\"10.00\">output: </text>\n",
       "<polygon fill=\"none\" stroke=\"black\" points=\"585,-5431.5 585,-5453.5 647,-5453.5 647,-5431.5 585,-5431.5\"/>\n",
       "<text text-anchor=\"start\" x=\"589.75\" y=\"-5439\" font-family=\"Linux libertine\" font-size=\"10.00\">(5, 44, 64) </text>\n",
       "</g>\n",
       "<!-- 27&#45;&gt;28 -->\n",
       "<g id=\"edge34\" class=\"edge\">\n",
       "<title>27&#45;&gt;28</title>\n",
       "<path fill=\"none\" stroke=\"black\" d=\"M433.13,-5511.6C454.88,-5501.85 480.95,-5490.16 503.82,-5479.91\"/>\n",
       "<polygon fill=\"black\" stroke=\"black\" points=\"505.05,-5482.74 512.74,-5475.46 502.19,-5476.36 505.05,-5482.74\"/>\n",
       "</g>\n",
       "<!-- 30 -->\n",
       "<g id=\"node31\" class=\"node\">\n",
       "<title>30</title>\n",
       "<polygon fill=\"aliceblue\" stroke=\"none\" points=\"473,-5315.5 300,-5315.5 300,-5271.5 473,-5271.5 473,-5315.5\"/>\n",
       "<polygon fill=\"none\" stroke=\"black\" points=\"300,-5271.5 300,-5315.5 346,-5315.5 346,-5271.5 300,-5271.5\"/>\n",
       "<text text-anchor=\"start\" x=\"314\" y=\"-5296.75\" font-family=\"Linux libertine\" font-size=\"10.00\">add</text>\n",
       "<text text-anchor=\"start\" x=\"304.62\" y=\"-5284\" font-family=\"Linux libertine\" font-size=\"10.00\">depth:3</text>\n",
       "<polygon fill=\"none\" stroke=\"black\" points=\"346,-5293.5 346,-5315.5 393,-5315.5 393,-5293.5 346,-5293.5\"/>\n",
       "<text text-anchor=\"start\" x=\"355.62\" y=\"-5301\" font-family=\"Linux libertine\" font-size=\"10.00\">input:</text>\n",
       "<polygon fill=\"none\" stroke=\"black\" points=\"393,-5293.5 393,-5315.5 473,-5315.5 473,-5293.5 393,-5293.5\"/>\n",
       "<text text-anchor=\"start\" x=\"397.75\" y=\"-5301\" font-family=\"Linux libertine\" font-size=\"10.00\">2 x (5, 44, 64) </text>\n",
       "<polygon fill=\"none\" stroke=\"black\" points=\"346,-5271.5 346,-5293.5 393,-5293.5 393,-5271.5 346,-5271.5\"/>\n",
       "<text text-anchor=\"start\" x=\"350.75\" y=\"-5279\" font-family=\"Linux libertine\" font-size=\"10.00\">output: </text>\n",
       "<polygon fill=\"none\" stroke=\"black\" points=\"393,-5271.5 393,-5293.5 473,-5293.5 473,-5271.5 393,-5271.5\"/>\n",
       "<text text-anchor=\"start\" x=\"406.75\" y=\"-5279\" font-family=\"Linux libertine\" font-size=\"10.00\">(5, 44, 64) </text>\n",
       "</g>\n",
       "<!-- 27&#45;&gt;30 -->\n",
       "<g id=\"edge35\" class=\"edge\">\n",
       "<title>27&#45;&gt;30</title>\n",
       "<path fill=\"none\" stroke=\"black\" d=\"M376.48,-5511.61C361.54,-5477.65 336.78,-5408.52 352.5,-5351.5 355.05,-5342.24 359.55,-5332.96 364.45,-5324.67\"/>\n",
       "<polygon fill=\"black\" stroke=\"black\" points=\"367.91,-5326.75 370.3,-5316.43 361.99,-5323.01 367.91,-5326.75\"/>\n",
       "</g>\n",
       "<!-- 28&#45;&gt;29 -->\n",
       "<g id=\"edge36\" class=\"edge\">\n",
       "<title>28&#45;&gt;29</title>\n",
       "<path fill=\"none\" stroke=\"black\" d=\"M545.49,-5431.6C539.47,-5423.2 532.41,-5413.37 525.86,-5404.26\"/>\n",
       "<polygon fill=\"black\" stroke=\"black\" points=\"528.22,-5402.54 519.55,-5396.46 522.54,-5406.62 528.22,-5402.54\"/>\n",
       "</g>\n",
       "<!-- 29&#45;&gt;30 -->\n",
       "<g id=\"edge37\" class=\"edge\">\n",
       "<title>29&#45;&gt;30</title>\n",
       "<path fill=\"none\" stroke=\"black\" d=\"M472.88,-5351.6C458.86,-5342.33 442.19,-5331.31 427.25,-5321.44\"/>\n",
       "<polygon fill=\"black\" stroke=\"black\" points=\"429.48,-5318.05 419.21,-5315.46 425.62,-5323.89 429.48,-5318.05\"/>\n",
       "</g>\n",
       "<!-- 31 -->\n",
       "<g id=\"node32\" class=\"node\">\n",
       "<title>31</title>\n",
       "<polygon fill=\"#c1ffc1\" stroke=\"none\" points=\"497,-5235.5 324,-5235.5 324,-5191.5 497,-5191.5 497,-5235.5\"/>\n",
       "<polygon fill=\"none\" stroke=\"black\" points=\"324,-5191.5 324,-5235.5 388,-5235.5 388,-5191.5 324,-5191.5\"/>\n",
       "<text text-anchor=\"start\" x=\"329\" y=\"-5216.75\" font-family=\"Linux libertine\" font-size=\"10.00\">LayerNorm</text>\n",
       "<text text-anchor=\"start\" x=\"337.62\" y=\"-5204\" font-family=\"Linux libertine\" font-size=\"10.00\">depth:3</text>\n",
       "<polygon fill=\"none\" stroke=\"black\" points=\"388,-5213.5 388,-5235.5 435,-5235.5 435,-5213.5 388,-5213.5\"/>\n",
       "<text text-anchor=\"start\" x=\"397.62\" y=\"-5221\" font-family=\"Linux libertine\" font-size=\"10.00\">input:</text>\n",
       "<polygon fill=\"none\" stroke=\"black\" points=\"435,-5213.5 435,-5235.5 497,-5235.5 497,-5213.5 435,-5213.5\"/>\n",
       "<text text-anchor=\"start\" x=\"439.75\" y=\"-5221\" font-family=\"Linux libertine\" font-size=\"10.00\">(5, 44, 64) </text>\n",
       "<polygon fill=\"none\" stroke=\"black\" points=\"388,-5191.5 388,-5213.5 435,-5213.5 435,-5191.5 388,-5191.5\"/>\n",
       "<text text-anchor=\"start\" x=\"392.75\" y=\"-5199\" font-family=\"Linux libertine\" font-size=\"10.00\">output: </text>\n",
       "<polygon fill=\"none\" stroke=\"black\" points=\"435,-5191.5 435,-5213.5 497,-5213.5 497,-5191.5 435,-5191.5\"/>\n",
       "<text text-anchor=\"start\" x=\"439.75\" y=\"-5199\" font-family=\"Linux libertine\" font-size=\"10.00\">(5, 44, 64) </text>\n",
       "</g>\n",
       "<!-- 30&#45;&gt;31 -->\n",
       "<g id=\"edge38\" class=\"edge\">\n",
       "<title>30&#45;&gt;31</title>\n",
       "<path fill=\"none\" stroke=\"black\" d=\"M392.93,-5271.6C395.38,-5263.64 398.23,-5254.39 400.9,-5245.69\"/>\n",
       "<polygon fill=\"black\" stroke=\"black\" points=\"404.45,-5247.05 404.05,-5236.46 397.76,-5244.99 404.45,-5247.05\"/>\n",
       "</g>\n",
       "<!-- 34 -->\n",
       "<g id=\"node35\" class=\"node\">\n",
       "<title>34</title>\n",
       "<polygon fill=\"aliceblue\" stroke=\"none\" points=\"472,-4995.5 299,-4995.5 299,-4951.5 472,-4951.5 472,-4995.5\"/>\n",
       "<polygon fill=\"none\" stroke=\"black\" points=\"299,-4951.5 299,-4995.5 345,-4995.5 345,-4951.5 299,-4951.5\"/>\n",
       "<text text-anchor=\"start\" x=\"313\" y=\"-4976.75\" font-family=\"Linux libertine\" font-size=\"10.00\">add</text>\n",
       "<text text-anchor=\"start\" x=\"303.62\" y=\"-4964\" font-family=\"Linux libertine\" font-size=\"10.00\">depth:3</text>\n",
       "<polygon fill=\"none\" stroke=\"black\" points=\"345,-4973.5 345,-4995.5 392,-4995.5 392,-4973.5 345,-4973.5\"/>\n",
       "<text text-anchor=\"start\" x=\"354.62\" y=\"-4981\" font-family=\"Linux libertine\" font-size=\"10.00\">input:</text>\n",
       "<polygon fill=\"none\" stroke=\"black\" points=\"392,-4973.5 392,-4995.5 472,-4995.5 472,-4973.5 392,-4973.5\"/>\n",
       "<text text-anchor=\"start\" x=\"396.75\" y=\"-4981\" font-family=\"Linux libertine\" font-size=\"10.00\">2 x (5, 44, 64) </text>\n",
       "<polygon fill=\"none\" stroke=\"black\" points=\"345,-4951.5 345,-4973.5 392,-4973.5 392,-4951.5 345,-4951.5\"/>\n",
       "<text text-anchor=\"start\" x=\"349.75\" y=\"-4959\" font-family=\"Linux libertine\" font-size=\"10.00\">output: </text>\n",
       "<polygon fill=\"none\" stroke=\"black\" points=\"392,-4951.5 392,-4973.5 472,-4973.5 472,-4951.5 392,-4951.5\"/>\n",
       "<text text-anchor=\"start\" x=\"405.75\" y=\"-4959\" font-family=\"Linux libertine\" font-size=\"10.00\">(5, 44, 64) </text>\n",
       "</g>\n",
       "<!-- 30&#45;&gt;34 -->\n",
       "<g id=\"edge39\" class=\"edge\">\n",
       "<title>30&#45;&gt;34</title>\n",
       "<path fill=\"none\" stroke=\"black\" d=\"M348.65,-5271.76C335.66,-5262.51 322.61,-5250.32 315.5,-5235.5 299.23,-5201.57 263.68,-5147.25 318.5,-5031.5 323.81,-5020.29 332.49,-5010.46 341.87,-5002.25\"/>\n",
       "<polygon fill=\"black\" stroke=\"black\" points=\"343.67,-5004.49 349.23,-4995.47 339.26,-4999.06 343.67,-5004.49\"/>\n",
       "</g>\n",
       "<!-- 32 -->\n",
       "<g id=\"node33\" class=\"node\">\n",
       "<title>32</title>\n",
       "<polygon fill=\"#c1ffc1\" stroke=\"none\" points=\"484,-5155.5 329,-5155.5 329,-5111.5 484,-5111.5 484,-5155.5\"/>\n",
       "<polygon fill=\"none\" stroke=\"black\" points=\"329,-5111.5 329,-5155.5 375,-5155.5 375,-5111.5 329,-5111.5\"/>\n",
       "<text text-anchor=\"start\" x=\"337\" y=\"-5136.75\" font-family=\"Linux libertine\" font-size=\"10.00\">Linear</text>\n",
       "<text text-anchor=\"start\" x=\"333.62\" y=\"-5124\" font-family=\"Linux libertine\" font-size=\"10.00\">depth:3</text>\n",
       "<polygon fill=\"none\" stroke=\"black\" points=\"375,-5133.5 375,-5155.5 422,-5155.5 422,-5133.5 375,-5133.5\"/>\n",
       "<text text-anchor=\"start\" x=\"384.62\" y=\"-5141\" font-family=\"Linux libertine\" font-size=\"10.00\">input:</text>\n",
       "<polygon fill=\"none\" stroke=\"black\" points=\"422,-5133.5 422,-5155.5 484,-5155.5 484,-5133.5 422,-5133.5\"/>\n",
       "<text text-anchor=\"start\" x=\"426.75\" y=\"-5141\" font-family=\"Linux libertine\" font-size=\"10.00\">(5, 44, 64) </text>\n",
       "<polygon fill=\"none\" stroke=\"black\" points=\"375,-5111.5 375,-5133.5 422,-5133.5 422,-5111.5 375,-5111.5\"/>\n",
       "<text text-anchor=\"start\" x=\"379.75\" y=\"-5119\" font-family=\"Linux libertine\" font-size=\"10.00\">output: </text>\n",
       "<polygon fill=\"none\" stroke=\"black\" points=\"422,-5111.5 422,-5133.5 484,-5133.5 484,-5111.5 422,-5111.5\"/>\n",
       "<text text-anchor=\"start\" x=\"426.75\" y=\"-5119\" font-family=\"Linux libertine\" font-size=\"10.00\">(5, 44, 64) </text>\n",
       "</g>\n",
       "<!-- 31&#45;&gt;32 -->\n",
       "<g id=\"edge40\" class=\"edge\">\n",
       "<title>31&#45;&gt;32</title>\n",
       "<path fill=\"none\" stroke=\"black\" d=\"M409.43,-5191.6C409.03,-5183.82 408.57,-5174.8 408.13,-5166.26\"/>\n",
       "<polygon fill=\"black\" stroke=\"black\" points=\"411.58,-5166.27 407.57,-5156.46 404.59,-5166.63 411.58,-5166.27\"/>\n",
       "</g>\n",
       "<!-- 33 -->\n",
       "<g id=\"node34\" class=\"node\">\n",
       "<title>33</title>\n",
       "<polygon fill=\"#c1ffc1\" stroke=\"none\" points=\"482,-5075.5 327,-5075.5 327,-5031.5 482,-5031.5 482,-5075.5\"/>\n",
       "<polygon fill=\"none\" stroke=\"black\" points=\"327,-5031.5 327,-5075.5 373,-5075.5 373,-5031.5 327,-5031.5\"/>\n",
       "<text text-anchor=\"start\" x=\"336.88\" y=\"-5056.75\" font-family=\"Linux libertine\" font-size=\"10.00\">GELU</text>\n",
       "<text text-anchor=\"start\" x=\"331.62\" y=\"-5044\" font-family=\"Linux libertine\" font-size=\"10.00\">depth:3</text>\n",
       "<polygon fill=\"none\" stroke=\"black\" points=\"373,-5053.5 373,-5075.5 420,-5075.5 420,-5053.5 373,-5053.5\"/>\n",
       "<text text-anchor=\"start\" x=\"382.62\" y=\"-5061\" font-family=\"Linux libertine\" font-size=\"10.00\">input:</text>\n",
       "<polygon fill=\"none\" stroke=\"black\" points=\"420,-5053.5 420,-5075.5 482,-5075.5 482,-5053.5 420,-5053.5\"/>\n",
       "<text text-anchor=\"start\" x=\"424.75\" y=\"-5061\" font-family=\"Linux libertine\" font-size=\"10.00\">(5, 44, 64) </text>\n",
       "<polygon fill=\"none\" stroke=\"black\" points=\"373,-5031.5 373,-5053.5 420,-5053.5 420,-5031.5 373,-5031.5\"/>\n",
       "<text text-anchor=\"start\" x=\"377.75\" y=\"-5039\" font-family=\"Linux libertine\" font-size=\"10.00\">output: </text>\n",
       "<polygon fill=\"none\" stroke=\"black\" points=\"420,-5031.5 420,-5053.5 482,-5053.5 482,-5031.5 420,-5031.5\"/>\n",
       "<text text-anchor=\"start\" x=\"424.75\" y=\"-5039\" font-family=\"Linux libertine\" font-size=\"10.00\">(5, 44, 64) </text>\n",
       "</g>\n",
       "<!-- 32&#45;&gt;33 -->\n",
       "<g id=\"edge41\" class=\"edge\">\n",
       "<title>32&#45;&gt;33</title>\n",
       "<path fill=\"none\" stroke=\"black\" d=\"M405.96,-5111.6C405.76,-5103.82 405.53,-5094.8 405.31,-5086.26\"/>\n",
       "<polygon fill=\"black\" stroke=\"black\" points=\"408.79,-5086.37 405.04,-5076.46 401.8,-5086.55 408.79,-5086.37\"/>\n",
       "</g>\n",
       "<!-- 33&#45;&gt;34 -->\n",
       "<g id=\"edge42\" class=\"edge\">\n",
       "<title>33&#45;&gt;34</title>\n",
       "<path fill=\"none\" stroke=\"black\" d=\"M399.41,-5031.6C397.49,-5023.73 395.27,-5014.6 393.17,-5005.97\"/>\n",
       "<polygon fill=\"black\" stroke=\"black\" points=\"396.37,-5005.35 390.61,-4996.46 389.57,-5007 396.37,-5005.35\"/>\n",
       "</g>\n",
       "<!-- 35 -->\n",
       "<g id=\"node36\" class=\"node\">\n",
       "<title>35</title>\n",
       "<polygon fill=\"#c1ffc1\" stroke=\"none\" points=\"486,-4915.5 313,-4915.5 313,-4871.5 486,-4871.5 486,-4915.5\"/>\n",
       "<polygon fill=\"none\" stroke=\"black\" points=\"313,-4871.5 313,-4915.5 377,-4915.5 377,-4871.5 313,-4871.5\"/>\n",
       "<text text-anchor=\"start\" x=\"318\" y=\"-4896.75\" font-family=\"Linux libertine\" font-size=\"10.00\">LayerNorm</text>\n",
       "<text text-anchor=\"start\" x=\"326.62\" y=\"-4884\" font-family=\"Linux libertine\" font-size=\"10.00\">depth:3</text>\n",
       "<polygon fill=\"none\" stroke=\"black\" points=\"377,-4893.5 377,-4915.5 424,-4915.5 424,-4893.5 377,-4893.5\"/>\n",
       "<text text-anchor=\"start\" x=\"386.62\" y=\"-4901\" font-family=\"Linux libertine\" font-size=\"10.00\">input:</text>\n",
       "<polygon fill=\"none\" stroke=\"black\" points=\"424,-4893.5 424,-4915.5 486,-4915.5 486,-4893.5 424,-4893.5\"/>\n",
       "<text text-anchor=\"start\" x=\"428.75\" y=\"-4901\" font-family=\"Linux libertine\" font-size=\"10.00\">(5, 44, 64) </text>\n",
       "<polygon fill=\"none\" stroke=\"black\" points=\"377,-4871.5 377,-4893.5 424,-4893.5 424,-4871.5 377,-4871.5\"/>\n",
       "<text text-anchor=\"start\" x=\"381.75\" y=\"-4879\" font-family=\"Linux libertine\" font-size=\"10.00\">output: </text>\n",
       "<polygon fill=\"none\" stroke=\"black\" points=\"424,-4871.5 424,-4893.5 486,-4893.5 486,-4871.5 424,-4871.5\"/>\n",
       "<text text-anchor=\"start\" x=\"428.75\" y=\"-4879\" font-family=\"Linux libertine\" font-size=\"10.00\">(5, 44, 64) </text>\n",
       "</g>\n",
       "<!-- 34&#45;&gt;35 -->\n",
       "<g id=\"edge44\" class=\"edge\">\n",
       "<title>34&#45;&gt;35</title>\n",
       "<path fill=\"none\" stroke=\"black\" d=\"M389.25,-4951.6C390.65,-4943.82 392.27,-4934.8 393.8,-4926.26\"/>\n",
       "<polygon fill=\"black\" stroke=\"black\" points=\"397.42,-4926.92 395.74,-4916.46 390.53,-4925.68 397.42,-4926.92\"/>\n",
       "</g>\n",
       "<!-- 39 -->\n",
       "<g id=\"node40\" class=\"node\">\n",
       "<title>39</title>\n",
       "<polygon fill=\"aliceblue\" stroke=\"none\" points=\"497,-4755.5 324,-4755.5 324,-4711.5 497,-4711.5 497,-4755.5\"/>\n",
       "<polygon fill=\"none\" stroke=\"black\" points=\"324,-4711.5 324,-4755.5 370,-4755.5 370,-4711.5 324,-4711.5\"/>\n",
       "<text text-anchor=\"start\" x=\"338\" y=\"-4736.75\" font-family=\"Linux libertine\" font-size=\"10.00\">add</text>\n",
       "<text text-anchor=\"start\" x=\"328.62\" y=\"-4724\" font-family=\"Linux libertine\" font-size=\"10.00\">depth:3</text>\n",
       "<polygon fill=\"none\" stroke=\"black\" points=\"370,-4733.5 370,-4755.5 417,-4755.5 417,-4733.5 370,-4733.5\"/>\n",
       "<text text-anchor=\"start\" x=\"379.62\" y=\"-4741\" font-family=\"Linux libertine\" font-size=\"10.00\">input:</text>\n",
       "<polygon fill=\"none\" stroke=\"black\" points=\"417,-4733.5 417,-4755.5 497,-4755.5 497,-4733.5 417,-4733.5\"/>\n",
       "<text text-anchor=\"start\" x=\"421.75\" y=\"-4741\" font-family=\"Linux libertine\" font-size=\"10.00\">2 x (5, 44, 64) </text>\n",
       "<polygon fill=\"none\" stroke=\"black\" points=\"370,-4711.5 370,-4733.5 417,-4733.5 417,-4711.5 370,-4711.5\"/>\n",
       "<text text-anchor=\"start\" x=\"374.75\" y=\"-4719\" font-family=\"Linux libertine\" font-size=\"10.00\">output: </text>\n",
       "<polygon fill=\"none\" stroke=\"black\" points=\"417,-4711.5 417,-4733.5 497,-4733.5 497,-4711.5 417,-4711.5\"/>\n",
       "<text text-anchor=\"start\" x=\"430.75\" y=\"-4719\" font-family=\"Linux libertine\" font-size=\"10.00\">(5, 44, 64) </text>\n",
       "</g>\n",
       "<!-- 34&#45;&gt;39 -->\n",
       "<g id=\"edge45\" class=\"edge\">\n",
       "<title>34&#45;&gt;39</title>\n",
       "<path fill=\"none\" stroke=\"black\" d=\"M340.85,-4951.74C326.63,-4942.74 312.52,-4930.71 304.5,-4915.5 278.8,-4866.74 275.13,-4838.75 303.5,-4791.5 311.17,-4778.72 322.79,-4768.65 335.57,-4760.77\"/>\n",
       "<polygon fill=\"black\" stroke=\"black\" points=\"337.07,-4763.38 344.06,-4755.41 333.63,-4757.28 337.07,-4763.38\"/>\n",
       "</g>\n",
       "<!-- 38 -->\n",
       "<g id=\"node39\" class=\"node\">\n",
       "<title>38</title>\n",
       "<polygon fill=\"#c1ffc1\" stroke=\"none\" points=\"586.5,-4835.5 312.5,-4835.5 312.5,-4791.5 586.5,-4791.5 586.5,-4835.5\"/>\n",
       "<polygon fill=\"none\" stroke=\"black\" points=\"312.5,-4791.5 312.5,-4835.5 415.5,-4835.5 415.5,-4791.5 312.5,-4791.5\"/>\n",
       "<text text-anchor=\"start\" x=\"317.12\" y=\"-4816.75\" font-family=\"Linux libertine\" font-size=\"10.00\">MultiheadAttention</text>\n",
       "<text text-anchor=\"start\" x=\"345.62\" y=\"-4804\" font-family=\"Linux libertine\" font-size=\"10.00\">depth:3</text>\n",
       "<polygon fill=\"none\" stroke=\"black\" points=\"415.5,-4813.5 415.5,-4835.5 462.5,-4835.5 462.5,-4813.5 415.5,-4813.5\"/>\n",
       "<text text-anchor=\"start\" x=\"425.12\" y=\"-4821\" font-family=\"Linux libertine\" font-size=\"10.00\">input:</text>\n",
       "<polygon fill=\"none\" stroke=\"black\" points=\"462.5,-4813.5 462.5,-4835.5 586.5,-4835.5 586.5,-4813.5 462.5,-4813.5\"/>\n",
       "<text text-anchor=\"start\" x=\"467.5\" y=\"-4821\" font-family=\"Linux libertine\" font-size=\"10.00\">3 x (5, 44, 64), (44, 44) </text>\n",
       "<polygon fill=\"none\" stroke=\"black\" points=\"415.5,-4791.5 415.5,-4813.5 462.5,-4813.5 462.5,-4791.5 415.5,-4791.5\"/>\n",
       "<text text-anchor=\"start\" x=\"420.25\" y=\"-4799\" font-family=\"Linux libertine\" font-size=\"10.00\">output: </text>\n",
       "<polygon fill=\"none\" stroke=\"black\" points=\"462.5,-4791.5 462.5,-4813.5 586.5,-4813.5 586.5,-4791.5 462.5,-4791.5\"/>\n",
       "<text text-anchor=\"start\" x=\"470.5\" y=\"-4799\" font-family=\"Linux libertine\" font-size=\"10.00\">(5, 44, 64), (5, 44, 44) </text>\n",
       "</g>\n",
       "<!-- 35&#45;&gt;38 -->\n",
       "<g id=\"edge46\" class=\"edge\">\n",
       "<title>35&#45;&gt;38</title>\n",
       "<path fill=\"none\" stroke=\"black\" d=\"M412.9,-4871.6C418.22,-4863.29 424.45,-4853.58 430.24,-4844.54\"/>\n",
       "<polygon fill=\"black\" stroke=\"black\" points=\"433.61,-4846.77 436.06,-4836.46 427.72,-4842.99 433.61,-4846.77\"/>\n",
       "</g>\n",
       "<!-- 36 -->\n",
       "<g id=\"node37\" class=\"node\">\n",
       "<title>36</title>\n",
       "<polygon fill=\"aliceblue\" stroke=\"none\" points=\"647,-4995.5 504,-4995.5 504,-4951.5 647,-4951.5 647,-4995.5\"/>\n",
       "<polygon fill=\"none\" stroke=\"black\" points=\"504,-4951.5 504,-4995.5 550,-4995.5 550,-4951.5 504,-4951.5\"/>\n",
       "<text text-anchor=\"start\" x=\"518.75\" y=\"-4976.75\" font-family=\"Linux libertine\" font-size=\"10.00\">triu</text>\n",
       "<text text-anchor=\"start\" x=\"508.62\" y=\"-4964\" font-family=\"Linux libertine\" font-size=\"10.00\">depth:3</text>\n",
       "<polygon fill=\"none\" stroke=\"black\" points=\"550,-4973.5 550,-4995.5 597,-4995.5 597,-4973.5 550,-4973.5\"/>\n",
       "<text text-anchor=\"start\" x=\"559.62\" y=\"-4981\" font-family=\"Linux libertine\" font-size=\"10.00\">input:</text>\n",
       "<polygon fill=\"none\" stroke=\"black\" points=\"597,-4973.5 597,-4995.5 647,-4995.5 647,-4973.5 597,-4973.5\"/>\n",
       "<text text-anchor=\"start\" x=\"601.75\" y=\"-4981\" font-family=\"Linux libertine\" font-size=\"10.00\">(44, 44) </text>\n",
       "<polygon fill=\"none\" stroke=\"black\" points=\"550,-4951.5 550,-4973.5 597,-4973.5 597,-4951.5 550,-4951.5\"/>\n",
       "<text text-anchor=\"start\" x=\"554.75\" y=\"-4959\" font-family=\"Linux libertine\" font-size=\"10.00\">output: </text>\n",
       "<polygon fill=\"none\" stroke=\"black\" points=\"597,-4951.5 597,-4973.5 647,-4973.5 647,-4951.5 597,-4951.5\"/>\n",
       "<text text-anchor=\"start\" x=\"601.75\" y=\"-4959\" font-family=\"Linux libertine\" font-size=\"10.00\">(44, 44) </text>\n",
       "</g>\n",
       "<!-- 37 -->\n",
       "<g id=\"node38\" class=\"node\">\n",
       "<title>37</title>\n",
       "<polygon fill=\"aliceblue\" stroke=\"none\" points=\"647,-4915.5 504,-4915.5 504,-4871.5 647,-4871.5 647,-4915.5\"/>\n",
       "<polygon fill=\"none\" stroke=\"black\" points=\"504,-4871.5 504,-4915.5 550,-4915.5 550,-4871.5 504,-4871.5\"/>\n",
       "<text text-anchor=\"start\" x=\"522.12\" y=\"-4896.75\" font-family=\"Linux libertine\" font-size=\"10.00\">to</text>\n",
       "<text text-anchor=\"start\" x=\"508.62\" y=\"-4884\" font-family=\"Linux libertine\" font-size=\"10.00\">depth:3</text>\n",
       "<polygon fill=\"none\" stroke=\"black\" points=\"550,-4893.5 550,-4915.5 597,-4915.5 597,-4893.5 550,-4893.5\"/>\n",
       "<text text-anchor=\"start\" x=\"559.62\" y=\"-4901\" font-family=\"Linux libertine\" font-size=\"10.00\">input:</text>\n",
       "<polygon fill=\"none\" stroke=\"black\" points=\"597,-4893.5 597,-4915.5 647,-4915.5 647,-4893.5 597,-4893.5\"/>\n",
       "<text text-anchor=\"start\" x=\"601.75\" y=\"-4901\" font-family=\"Linux libertine\" font-size=\"10.00\">(44, 44) </text>\n",
       "<polygon fill=\"none\" stroke=\"black\" points=\"550,-4871.5 550,-4893.5 597,-4893.5 597,-4871.5 550,-4871.5\"/>\n",
       "<text text-anchor=\"start\" x=\"554.75\" y=\"-4879\" font-family=\"Linux libertine\" font-size=\"10.00\">output: </text>\n",
       "<polygon fill=\"none\" stroke=\"black\" points=\"597,-4871.5 597,-4893.5 647,-4893.5 647,-4871.5 597,-4871.5\"/>\n",
       "<text text-anchor=\"start\" x=\"601.75\" y=\"-4879\" font-family=\"Linux libertine\" font-size=\"10.00\">(44, 44) </text>\n",
       "</g>\n",
       "<!-- 36&#45;&gt;37 -->\n",
       "<g id=\"edge47\" class=\"edge\">\n",
       "<title>36&#45;&gt;37</title>\n",
       "<path fill=\"none\" stroke=\"black\" d=\"M575.5,-4951.6C575.5,-4943.82 575.5,-4934.8 575.5,-4926.26\"/>\n",
       "<polygon fill=\"black\" stroke=\"black\" points=\"579,-4926.46 575.5,-4916.46 572,-4926.46 579,-4926.46\"/>\n",
       "</g>\n",
       "<!-- 37&#45;&gt;38 -->\n",
       "<g id=\"edge48\" class=\"edge\">\n",
       "<title>37&#45;&gt;38</title>\n",
       "<path fill=\"none\" stroke=\"black\" d=\"M541.73,-4871.6C526.62,-4862.24 508.63,-4851.1 492.56,-4841.16\"/>\n",
       "<polygon fill=\"black\" stroke=\"black\" points=\"494.7,-4837.75 484.36,-4835.46 491.02,-4843.7 494.7,-4837.75\"/>\n",
       "</g>\n",
       "<!-- 38&#45;&gt;39 -->\n",
       "<g id=\"edge49\" class=\"edge\">\n",
       "<title>38&#45;&gt;39</title>\n",
       "<path fill=\"none\" stroke=\"black\" d=\"M439.05,-4791.6C434.98,-4783.47 430.24,-4773.99 425.81,-4765.11\"/>\n",
       "<polygon fill=\"black\" stroke=\"black\" points=\"428.58,-4763.84 420.98,-4756.46 422.32,-4766.97 428.58,-4763.84\"/>\n",
       "</g>\n",
       "<!-- 40 -->\n",
       "<g id=\"node41\" class=\"node\">\n",
       "<title>40</title>\n",
       "<polygon fill=\"#c1ffc1\" stroke=\"none\" points=\"686,-4675.5 513,-4675.5 513,-4631.5 686,-4631.5 686,-4675.5\"/>\n",
       "<polygon fill=\"none\" stroke=\"black\" points=\"513,-4631.5 513,-4675.5 577,-4675.5 577,-4631.5 513,-4631.5\"/>\n",
       "<text text-anchor=\"start\" x=\"518\" y=\"-4656.75\" font-family=\"Linux libertine\" font-size=\"10.00\">LayerNorm</text>\n",
       "<text text-anchor=\"start\" x=\"526.62\" y=\"-4644\" font-family=\"Linux libertine\" font-size=\"10.00\">depth:3</text>\n",
       "<polygon fill=\"none\" stroke=\"black\" points=\"577,-4653.5 577,-4675.5 624,-4675.5 624,-4653.5 577,-4653.5\"/>\n",
       "<text text-anchor=\"start\" x=\"586.62\" y=\"-4661\" font-family=\"Linux libertine\" font-size=\"10.00\">input:</text>\n",
       "<polygon fill=\"none\" stroke=\"black\" points=\"624,-4653.5 624,-4675.5 686,-4675.5 686,-4653.5 624,-4653.5\"/>\n",
       "<text text-anchor=\"start\" x=\"628.75\" y=\"-4661\" font-family=\"Linux libertine\" font-size=\"10.00\">(5, 44, 64) </text>\n",
       "<polygon fill=\"none\" stroke=\"black\" points=\"577,-4631.5 577,-4653.5 624,-4653.5 624,-4631.5 577,-4631.5\"/>\n",
       "<text text-anchor=\"start\" x=\"581.75\" y=\"-4639\" font-family=\"Linux libertine\" font-size=\"10.00\">output: </text>\n",
       "<polygon fill=\"none\" stroke=\"black\" points=\"624,-4631.5 624,-4653.5 686,-4653.5 686,-4631.5 624,-4631.5\"/>\n",
       "<text text-anchor=\"start\" x=\"628.75\" y=\"-4639\" font-family=\"Linux libertine\" font-size=\"10.00\">(5, 44, 64) </text>\n",
       "</g>\n",
       "<!-- 39&#45;&gt;40 -->\n",
       "<g id=\"edge50\" class=\"edge\">\n",
       "<title>39&#45;&gt;40</title>\n",
       "<path fill=\"none\" stroke=\"black\" d=\"M461.15,-4711.6C484.98,-4701.76 513.6,-4689.95 538.6,-4679.63\"/>\n",
       "<polygon fill=\"black\" stroke=\"black\" points=\"539.8,-4682.51 547.71,-4675.46 537.13,-4676.04 539.8,-4682.51\"/>\n",
       "</g>\n",
       "<!-- 42 -->\n",
       "<g id=\"node43\" class=\"node\">\n",
       "<title>42</title>\n",
       "<polygon fill=\"aliceblue\" stroke=\"none\" points=\"459,-4515.5 286,-4515.5 286,-4471.5 459,-4471.5 459,-4515.5\"/>\n",
       "<polygon fill=\"none\" stroke=\"black\" points=\"286,-4471.5 286,-4515.5 332,-4515.5 332,-4471.5 286,-4471.5\"/>\n",
       "<text text-anchor=\"start\" x=\"300\" y=\"-4496.75\" font-family=\"Linux libertine\" font-size=\"10.00\">add</text>\n",
       "<text text-anchor=\"start\" x=\"290.62\" y=\"-4484\" font-family=\"Linux libertine\" font-size=\"10.00\">depth:3</text>\n",
       "<polygon fill=\"none\" stroke=\"black\" points=\"332,-4493.5 332,-4515.5 379,-4515.5 379,-4493.5 332,-4493.5\"/>\n",
       "<text text-anchor=\"start\" x=\"341.62\" y=\"-4501\" font-family=\"Linux libertine\" font-size=\"10.00\">input:</text>\n",
       "<polygon fill=\"none\" stroke=\"black\" points=\"379,-4493.5 379,-4515.5 459,-4515.5 459,-4493.5 379,-4493.5\"/>\n",
       "<text text-anchor=\"start\" x=\"383.75\" y=\"-4501\" font-family=\"Linux libertine\" font-size=\"10.00\">2 x (5, 44, 64) </text>\n",
       "<polygon fill=\"none\" stroke=\"black\" points=\"332,-4471.5 332,-4493.5 379,-4493.5 379,-4471.5 332,-4471.5\"/>\n",
       "<text text-anchor=\"start\" x=\"336.75\" y=\"-4479\" font-family=\"Linux libertine\" font-size=\"10.00\">output: </text>\n",
       "<polygon fill=\"none\" stroke=\"black\" points=\"379,-4471.5 379,-4493.5 459,-4493.5 459,-4471.5 379,-4471.5\"/>\n",
       "<text text-anchor=\"start\" x=\"392.75\" y=\"-4479\" font-family=\"Linux libertine\" font-size=\"10.00\">(5, 44, 64) </text>\n",
       "</g>\n",
       "<!-- 39&#45;&gt;42 -->\n",
       "<g id=\"edge51\" class=\"edge\">\n",
       "<title>39&#45;&gt;42</title>\n",
       "<path fill=\"none\" stroke=\"black\" d=\"M407.19,-4711.8C400.53,-4670.04 385.43,-4575.5 377.53,-4526.02\"/>\n",
       "<polygon fill=\"black\" stroke=\"black\" points=\"380.86,-4525.65 375.83,-4516.33 373.95,-4526.75 380.86,-4525.65\"/>\n",
       "</g>\n",
       "<!-- 40&#45;&gt;41 -->\n",
       "<g id=\"edge52\" class=\"edge\">\n",
       "<title>40&#45;&gt;41</title>\n",
       "<path fill=\"none\" stroke=\"black\" d=\"M584.49,-4631.6C578.47,-4623.2 571.41,-4613.37 564.86,-4604.26\"/>\n",
       "<polygon fill=\"black\" stroke=\"black\" points=\"567.22,-4602.54 558.55,-4596.46 561.54,-4606.62 567.22,-4602.54\"/>\n",
       "</g>\n",
       "<!-- 41&#45;&gt;42 -->\n",
       "<g id=\"edge53\" class=\"edge\">\n",
       "<title>41&#45;&gt;42</title>\n",
       "<path fill=\"none\" stroke=\"black\" d=\"M497.68,-4551.6C476.3,-4541.85 450.68,-4530.16 428.2,-4519.91\"/>\n",
       "<polygon fill=\"black\" stroke=\"black\" points=\"430,-4516.43 419.45,-4515.46 427.1,-4522.79 430,-4516.43\"/>\n",
       "</g>\n",
       "<!-- 43 -->\n",
       "<g id=\"node44\" class=\"node\">\n",
       "<title>43</title>\n",
       "<polygon fill=\"#c1ffc1\" stroke=\"none\" points=\"515,-4435.5 342,-4435.5 342,-4391.5 515,-4391.5 515,-4435.5\"/>\n",
       "<polygon fill=\"none\" stroke=\"black\" points=\"342,-4391.5 342,-4435.5 406,-4435.5 406,-4391.5 342,-4391.5\"/>\n",
       "<text text-anchor=\"start\" x=\"347\" y=\"-4416.75\" font-family=\"Linux libertine\" font-size=\"10.00\">LayerNorm</text>\n",
       "<text text-anchor=\"start\" x=\"355.62\" y=\"-4404\" font-family=\"Linux libertine\" font-size=\"10.00\">depth:3</text>\n",
       "<polygon fill=\"none\" stroke=\"black\" points=\"406,-4413.5 406,-4435.5 453,-4435.5 453,-4413.5 406,-4413.5\"/>\n",
       "<text text-anchor=\"start\" x=\"415.62\" y=\"-4421\" font-family=\"Linux libertine\" font-size=\"10.00\">input:</text>\n",
       "<polygon fill=\"none\" stroke=\"black\" points=\"453,-4413.5 453,-4435.5 515,-4435.5 515,-4413.5 453,-4413.5\"/>\n",
       "<text text-anchor=\"start\" x=\"457.75\" y=\"-4421\" font-family=\"Linux libertine\" font-size=\"10.00\">(5, 44, 64) </text>\n",
       "<polygon fill=\"none\" stroke=\"black\" points=\"406,-4391.5 406,-4413.5 453,-4413.5 453,-4391.5 406,-4391.5\"/>\n",
       "<text text-anchor=\"start\" x=\"410.75\" y=\"-4399\" font-family=\"Linux libertine\" font-size=\"10.00\">output: </text>\n",
       "<polygon fill=\"none\" stroke=\"black\" points=\"453,-4391.5 453,-4413.5 515,-4413.5 515,-4391.5 453,-4391.5\"/>\n",
       "<text text-anchor=\"start\" x=\"457.75\" y=\"-4399\" font-family=\"Linux libertine\" font-size=\"10.00\">(5, 44, 64) </text>\n",
       "</g>\n",
       "<!-- 42&#45;&gt;43 -->\n",
       "<g id=\"edge54\" class=\"edge\">\n",
       "<title>42&#45;&gt;43</title>\n",
       "<path fill=\"none\" stroke=\"black\" d=\"M387.51,-4471.6C393.53,-4463.2 400.59,-4453.37 407.14,-4444.26\"/>\n",
       "<polygon fill=\"black\" stroke=\"black\" points=\"410.46,-4446.62 413.45,-4436.46 404.78,-4442.54 410.46,-4446.62\"/>\n",
       "</g>\n",
       "<!-- 46 -->\n",
       "<g id=\"node47\" class=\"node\">\n",
       "<title>46</title>\n",
       "<polygon fill=\"aliceblue\" stroke=\"none\" points=\"490,-4195.5 317,-4195.5 317,-4151.5 490,-4151.5 490,-4195.5\"/>\n",
       "<polygon fill=\"none\" stroke=\"black\" points=\"317,-4151.5 317,-4195.5 363,-4195.5 363,-4151.5 317,-4151.5\"/>\n",
       "<text text-anchor=\"start\" x=\"331\" y=\"-4176.75\" font-family=\"Linux libertine\" font-size=\"10.00\">add</text>\n",
       "<text text-anchor=\"start\" x=\"321.62\" y=\"-4164\" font-family=\"Linux libertine\" font-size=\"10.00\">depth:3</text>\n",
       "<polygon fill=\"none\" stroke=\"black\" points=\"363,-4173.5 363,-4195.5 410,-4195.5 410,-4173.5 363,-4173.5\"/>\n",
       "<text text-anchor=\"start\" x=\"372.62\" y=\"-4181\" font-family=\"Linux libertine\" font-size=\"10.00\">input:</text>\n",
       "<polygon fill=\"none\" stroke=\"black\" points=\"410,-4173.5 410,-4195.5 490,-4195.5 490,-4173.5 410,-4173.5\"/>\n",
       "<text text-anchor=\"start\" x=\"414.75\" y=\"-4181\" font-family=\"Linux libertine\" font-size=\"10.00\">2 x (5, 44, 64) </text>\n",
       "<polygon fill=\"none\" stroke=\"black\" points=\"363,-4151.5 363,-4173.5 410,-4173.5 410,-4151.5 363,-4151.5\"/>\n",
       "<text text-anchor=\"start\" x=\"367.75\" y=\"-4159\" font-family=\"Linux libertine\" font-size=\"10.00\">output: </text>\n",
       "<polygon fill=\"none\" stroke=\"black\" points=\"410,-4151.5 410,-4173.5 490,-4173.5 490,-4151.5 410,-4151.5\"/>\n",
       "<text text-anchor=\"start\" x=\"423.75\" y=\"-4159\" font-family=\"Linux libertine\" font-size=\"10.00\">(5, 44, 64) </text>\n",
       "</g>\n",
       "<!-- 42&#45;&gt;46 -->\n",
       "<g id=\"edge55\" class=\"edge\">\n",
       "<title>42&#45;&gt;46</title>\n",
       "<path fill=\"none\" stroke=\"black\" d=\"M353.75,-4471.66C345.86,-4461.51 337.58,-4448.67 333.5,-4435.5 320.72,-4394.19 294.39,-4320.42 336.5,-4231.5 341.81,-4220.29 350.49,-4210.46 359.87,-4202.25\"/>\n",
       "<polygon fill=\"black\" stroke=\"black\" points=\"361.67,-4204.49 367.23,-4195.47 357.26,-4199.06 361.67,-4204.49\"/>\n",
       "</g>\n",
       "<!-- 44 -->\n",
       "<g id=\"node45\" class=\"node\">\n",
       "<title>44</title>\n",
       "<polygon fill=\"#c1ffc1\" stroke=\"none\" points=\"502,-4355.5 347,-4355.5 347,-4311.5 502,-4311.5 502,-4355.5\"/>\n",
       "<polygon fill=\"none\" stroke=\"black\" points=\"347,-4311.5 347,-4355.5 393,-4355.5 393,-4311.5 347,-4311.5\"/>\n",
       "<text text-anchor=\"start\" x=\"355\" y=\"-4336.75\" font-family=\"Linux libertine\" font-size=\"10.00\">Linear</text>\n",
       "<text text-anchor=\"start\" x=\"351.62\" y=\"-4324\" font-family=\"Linux libertine\" font-size=\"10.00\">depth:3</text>\n",
       "<polygon fill=\"none\" stroke=\"black\" points=\"393,-4333.5 393,-4355.5 440,-4355.5 440,-4333.5 393,-4333.5\"/>\n",
       "<text text-anchor=\"start\" x=\"402.62\" y=\"-4341\" font-family=\"Linux libertine\" font-size=\"10.00\">input:</text>\n",
       "<polygon fill=\"none\" stroke=\"black\" points=\"440,-4333.5 440,-4355.5 502,-4355.5 502,-4333.5 440,-4333.5\"/>\n",
       "<text text-anchor=\"start\" x=\"444.75\" y=\"-4341\" font-family=\"Linux libertine\" font-size=\"10.00\">(5, 44, 64) </text>\n",
       "<polygon fill=\"none\" stroke=\"black\" points=\"393,-4311.5 393,-4333.5 440,-4333.5 440,-4311.5 393,-4311.5\"/>\n",
       "<text text-anchor=\"start\" x=\"397.75\" y=\"-4319\" font-family=\"Linux libertine\" font-size=\"10.00\">output: </text>\n",
       "<polygon fill=\"none\" stroke=\"black\" points=\"440,-4311.5 440,-4333.5 502,-4333.5 502,-4311.5 440,-4311.5\"/>\n",
       "<text text-anchor=\"start\" x=\"444.75\" y=\"-4319\" font-family=\"Linux libertine\" font-size=\"10.00\">(5, 44, 64) </text>\n",
       "</g>\n",
       "<!-- 43&#45;&gt;44 -->\n",
       "<g id=\"edge56\" class=\"edge\">\n",
       "<title>43&#45;&gt;44</title>\n",
       "<path fill=\"none\" stroke=\"black\" d=\"M427.43,-4391.6C427.03,-4383.82 426.57,-4374.8 426.13,-4366.26\"/>\n",
       "<polygon fill=\"black\" stroke=\"black\" points=\"429.58,-4366.27 425.57,-4356.46 422.59,-4366.63 429.58,-4366.27\"/>\n",
       "</g>\n",
       "<!-- 45 -->\n",
       "<g id=\"node46\" class=\"node\">\n",
       "<title>45</title>\n",
       "<polygon fill=\"#c1ffc1\" stroke=\"none\" points=\"500,-4275.5 345,-4275.5 345,-4231.5 500,-4231.5 500,-4275.5\"/>\n",
       "<polygon fill=\"none\" stroke=\"black\" points=\"345,-4231.5 345,-4275.5 391,-4275.5 391,-4231.5 345,-4231.5\"/>\n",
       "<text text-anchor=\"start\" x=\"354.88\" y=\"-4256.75\" font-family=\"Linux libertine\" font-size=\"10.00\">GELU</text>\n",
       "<text text-anchor=\"start\" x=\"349.62\" y=\"-4244\" font-family=\"Linux libertine\" font-size=\"10.00\">depth:3</text>\n",
       "<polygon fill=\"none\" stroke=\"black\" points=\"391,-4253.5 391,-4275.5 438,-4275.5 438,-4253.5 391,-4253.5\"/>\n",
       "<text text-anchor=\"start\" x=\"400.62\" y=\"-4261\" font-family=\"Linux libertine\" font-size=\"10.00\">input:</text>\n",
       "<polygon fill=\"none\" stroke=\"black\" points=\"438,-4253.5 438,-4275.5 500,-4275.5 500,-4253.5 438,-4253.5\"/>\n",
       "<text text-anchor=\"start\" x=\"442.75\" y=\"-4261\" font-family=\"Linux libertine\" font-size=\"10.00\">(5, 44, 64) </text>\n",
       "<polygon fill=\"none\" stroke=\"black\" points=\"391,-4231.5 391,-4253.5 438,-4253.5 438,-4231.5 391,-4231.5\"/>\n",
       "<text text-anchor=\"start\" x=\"395.75\" y=\"-4239\" font-family=\"Linux libertine\" font-size=\"10.00\">output: </text>\n",
       "<polygon fill=\"none\" stroke=\"black\" points=\"438,-4231.5 438,-4253.5 500,-4253.5 500,-4231.5 438,-4231.5\"/>\n",
       "<text text-anchor=\"start\" x=\"442.75\" y=\"-4239\" font-family=\"Linux libertine\" font-size=\"10.00\">(5, 44, 64) </text>\n",
       "</g>\n",
       "<!-- 44&#45;&gt;45 -->\n",
       "<g id=\"edge57\" class=\"edge\">\n",
       "<title>44&#45;&gt;45</title>\n",
       "<path fill=\"none\" stroke=\"black\" d=\"M423.96,-4311.6C423.76,-4303.82 423.53,-4294.8 423.31,-4286.26\"/>\n",
       "<polygon fill=\"black\" stroke=\"black\" points=\"426.79,-4286.37 423.04,-4276.46 419.8,-4286.55 426.79,-4286.37\"/>\n",
       "</g>\n",
       "<!-- 45&#45;&gt;46 -->\n",
       "<g id=\"edge58\" class=\"edge\">\n",
       "<title>45&#45;&gt;46</title>\n",
       "<path fill=\"none\" stroke=\"black\" d=\"M417.41,-4231.6C415.49,-4223.73 413.27,-4214.6 411.17,-4205.97\"/>\n",
       "<polygon fill=\"black\" stroke=\"black\" points=\"414.37,-4205.35 408.61,-4196.46 407.57,-4207 414.37,-4205.35\"/>\n",
       "</g>\n",
       "<!-- 47 -->\n",
       "<g id=\"node48\" class=\"node\">\n",
       "<title>47</title>\n",
       "<polygon fill=\"#c1ffc1\" stroke=\"none\" points=\"525,-4115.5 352,-4115.5 352,-4071.5 525,-4071.5 525,-4115.5\"/>\n",
       "<polygon fill=\"none\" stroke=\"black\" points=\"352,-4071.5 352,-4115.5 416,-4115.5 416,-4071.5 352,-4071.5\"/>\n",
       "<text text-anchor=\"start\" x=\"357\" y=\"-4096.75\" font-family=\"Linux libertine\" font-size=\"10.00\">LayerNorm</text>\n",
       "<text text-anchor=\"start\" x=\"365.62\" y=\"-4084\" font-family=\"Linux libertine\" font-size=\"10.00\">depth:3</text>\n",
       "<polygon fill=\"none\" stroke=\"black\" points=\"416,-4093.5 416,-4115.5 463,-4115.5 463,-4093.5 416,-4093.5\"/>\n",
       "<text text-anchor=\"start\" x=\"425.62\" y=\"-4101\" font-family=\"Linux libertine\" font-size=\"10.00\">input:</text>\n",
       "<polygon fill=\"none\" stroke=\"black\" points=\"463,-4093.5 463,-4115.5 525,-4115.5 525,-4093.5 463,-4093.5\"/>\n",
       "<text text-anchor=\"start\" x=\"467.75\" y=\"-4101\" font-family=\"Linux libertine\" font-size=\"10.00\">(5, 44, 64) </text>\n",
       "<polygon fill=\"none\" stroke=\"black\" points=\"416,-4071.5 416,-4093.5 463,-4093.5 463,-4071.5 416,-4071.5\"/>\n",
       "<text text-anchor=\"start\" x=\"420.75\" y=\"-4079\" font-family=\"Linux libertine\" font-size=\"10.00\">output: </text>\n",
       "<polygon fill=\"none\" stroke=\"black\" points=\"463,-4071.5 463,-4093.5 525,-4093.5 525,-4071.5 463,-4071.5\"/>\n",
       "<text text-anchor=\"start\" x=\"467.75\" y=\"-4079\" font-family=\"Linux libertine\" font-size=\"10.00\">(5, 44, 64) </text>\n",
       "</g>\n",
       "<!-- 46&#45;&gt;47 -->\n",
       "<g id=\"edge60\" class=\"edge\">\n",
       "<title>46&#45;&gt;47</title>\n",
       "<path fill=\"none\" stroke=\"black\" d=\"M412.88,-4151.6C416.49,-4143.55 420.69,-4134.19 424.63,-4125.4\"/>\n",
       "<polygon fill=\"black\" stroke=\"black\" points=\"428.19,-4127.02 429.09,-4116.46 421.81,-4124.15 428.19,-4127.02\"/>\n",
       "</g>\n",
       "<!-- 51 -->\n",
       "<g id=\"node52\" class=\"node\">\n",
       "<title>51</title>\n",
       "<polygon fill=\"aliceblue\" stroke=\"none\" points=\"575,-3955.5 402,-3955.5 402,-3911.5 575,-3911.5 575,-3955.5\"/>\n",
       "<polygon fill=\"none\" stroke=\"black\" points=\"402,-3911.5 402,-3955.5 448,-3955.5 448,-3911.5 402,-3911.5\"/>\n",
       "<text text-anchor=\"start\" x=\"416\" y=\"-3936.75\" font-family=\"Linux libertine\" font-size=\"10.00\">add</text>\n",
       "<text text-anchor=\"start\" x=\"406.62\" y=\"-3924\" font-family=\"Linux libertine\" font-size=\"10.00\">depth:3</text>\n",
       "<polygon fill=\"none\" stroke=\"black\" points=\"448,-3933.5 448,-3955.5 495,-3955.5 495,-3933.5 448,-3933.5\"/>\n",
       "<text text-anchor=\"start\" x=\"457.62\" y=\"-3941\" font-family=\"Linux libertine\" font-size=\"10.00\">input:</text>\n",
       "<polygon fill=\"none\" stroke=\"black\" points=\"495,-3933.5 495,-3955.5 575,-3955.5 575,-3933.5 495,-3933.5\"/>\n",
       "<text text-anchor=\"start\" x=\"499.75\" y=\"-3941\" font-family=\"Linux libertine\" font-size=\"10.00\">2 x (5, 44, 64) </text>\n",
       "<polygon fill=\"none\" stroke=\"black\" points=\"448,-3911.5 448,-3933.5 495,-3933.5 495,-3911.5 448,-3911.5\"/>\n",
       "<text text-anchor=\"start\" x=\"452.75\" y=\"-3919\" font-family=\"Linux libertine\" font-size=\"10.00\">output: </text>\n",
       "<polygon fill=\"none\" stroke=\"black\" points=\"495,-3911.5 495,-3933.5 575,-3933.5 575,-3911.5 495,-3911.5\"/>\n",
       "<text text-anchor=\"start\" x=\"508.75\" y=\"-3919\" font-family=\"Linux libertine\" font-size=\"10.00\">(5, 44, 64) </text>\n",
       "</g>\n",
       "<!-- 46&#45;&gt;51 -->\n",
       "<g id=\"edge61\" class=\"edge\">\n",
       "<title>46&#45;&gt;51</title>\n",
       "<path fill=\"none\" stroke=\"black\" d=\"M372.75,-4151.63C361.36,-4142.09 349.71,-4129.72 343.5,-4115.5 321.44,-4064.99 311.41,-4037.01 342.5,-3991.5 354.45,-3974.01 372.63,-3961.88 392.15,-3953.48\"/>\n",
       "<polygon fill=\"black\" stroke=\"black\" points=\"393.12,-3956.46 401.14,-3949.53 390.55,-3949.95 393.12,-3956.46\"/>\n",
       "</g>\n",
       "<!-- 50 -->\n",
       "<g id=\"node51\" class=\"node\">\n",
       "<title>50</title>\n",
       "<polygon fill=\"#c1ffc1\" stroke=\"none\" points=\"625.5,-4035.5 351.5,-4035.5 351.5,-3991.5 625.5,-3991.5 625.5,-4035.5\"/>\n",
       "<polygon fill=\"none\" stroke=\"black\" points=\"351.5,-3991.5 351.5,-4035.5 454.5,-4035.5 454.5,-3991.5 351.5,-3991.5\"/>\n",
       "<text text-anchor=\"start\" x=\"356.12\" y=\"-4016.75\" font-family=\"Linux libertine\" font-size=\"10.00\">MultiheadAttention</text>\n",
       "<text text-anchor=\"start\" x=\"384.62\" y=\"-4004\" font-family=\"Linux libertine\" font-size=\"10.00\">depth:3</text>\n",
       "<polygon fill=\"none\" stroke=\"black\" points=\"454.5,-4013.5 454.5,-4035.5 501.5,-4035.5 501.5,-4013.5 454.5,-4013.5\"/>\n",
       "<text text-anchor=\"start\" x=\"464.12\" y=\"-4021\" font-family=\"Linux libertine\" font-size=\"10.00\">input:</text>\n",
       "<polygon fill=\"none\" stroke=\"black\" points=\"501.5,-4013.5 501.5,-4035.5 625.5,-4035.5 625.5,-4013.5 501.5,-4013.5\"/>\n",
       "<text text-anchor=\"start\" x=\"506.5\" y=\"-4021\" font-family=\"Linux libertine\" font-size=\"10.00\">3 x (5, 44, 64), (44, 44) </text>\n",
       "<polygon fill=\"none\" stroke=\"black\" points=\"454.5,-3991.5 454.5,-4013.5 501.5,-4013.5 501.5,-3991.5 454.5,-3991.5\"/>\n",
       "<text text-anchor=\"start\" x=\"459.25\" y=\"-3999\" font-family=\"Linux libertine\" font-size=\"10.00\">output: </text>\n",
       "<polygon fill=\"none\" stroke=\"black\" points=\"501.5,-3991.5 501.5,-4013.5 625.5,-4013.5 625.5,-3991.5 501.5,-3991.5\"/>\n",
       "<text text-anchor=\"start\" x=\"509.5\" y=\"-3999\" font-family=\"Linux libertine\" font-size=\"10.00\">(5, 44, 64), (5, 44, 44) </text>\n",
       "</g>\n",
       "<!-- 47&#45;&gt;50 -->\n",
       "<g id=\"edge62\" class=\"edge\">\n",
       "<title>47&#45;&gt;50</title>\n",
       "<path fill=\"none\" stroke=\"black\" d=\"M451.9,-4071.6C457.22,-4063.29 463.45,-4053.58 469.24,-4044.54\"/>\n",
       "<polygon fill=\"black\" stroke=\"black\" points=\"472.61,-4046.77 475.06,-4036.46 466.72,-4042.99 472.61,-4046.77\"/>\n",
       "</g>\n",
       "<!-- 48 -->\n",
       "<g id=\"node49\" class=\"node\">\n",
       "<title>48</title>\n",
       "<polygon fill=\"aliceblue\" stroke=\"none\" points=\"686,-4195.5 543,-4195.5 543,-4151.5 686,-4151.5 686,-4195.5\"/>\n",
       "<polygon fill=\"none\" stroke=\"black\" points=\"543,-4151.5 543,-4195.5 589,-4195.5 589,-4151.5 543,-4151.5\"/>\n",
       "<text text-anchor=\"start\" x=\"557.75\" y=\"-4176.75\" font-family=\"Linux libertine\" font-size=\"10.00\">triu</text>\n",
       "<text text-anchor=\"start\" x=\"547.62\" y=\"-4164\" font-family=\"Linux libertine\" font-size=\"10.00\">depth:3</text>\n",
       "<polygon fill=\"none\" stroke=\"black\" points=\"589,-4173.5 589,-4195.5 636,-4195.5 636,-4173.5 589,-4173.5\"/>\n",
       "<text text-anchor=\"start\" x=\"598.62\" y=\"-4181\" font-family=\"Linux libertine\" font-size=\"10.00\">input:</text>\n",
       "<polygon fill=\"none\" stroke=\"black\" points=\"636,-4173.5 636,-4195.5 686,-4195.5 686,-4173.5 636,-4173.5\"/>\n",
       "<text text-anchor=\"start\" x=\"640.75\" y=\"-4181\" font-family=\"Linux libertine\" font-size=\"10.00\">(44, 44) </text>\n",
       "<polygon fill=\"none\" stroke=\"black\" points=\"589,-4151.5 589,-4173.5 636,-4173.5 636,-4151.5 589,-4151.5\"/>\n",
       "<text text-anchor=\"start\" x=\"593.75\" y=\"-4159\" font-family=\"Linux libertine\" font-size=\"10.00\">output: </text>\n",
       "<polygon fill=\"none\" stroke=\"black\" points=\"636,-4151.5 636,-4173.5 686,-4173.5 686,-4151.5 636,-4151.5\"/>\n",
       "<text text-anchor=\"start\" x=\"640.75\" y=\"-4159\" font-family=\"Linux libertine\" font-size=\"10.00\">(44, 44) </text>\n",
       "</g>\n",
       "<!-- 49 -->\n",
       "<g id=\"node50\" class=\"node\">\n",
       "<title>49</title>\n",
       "<polygon fill=\"aliceblue\" stroke=\"none\" points=\"686,-4115.5 543,-4115.5 543,-4071.5 686,-4071.5 686,-4115.5\"/>\n",
       "<polygon fill=\"none\" stroke=\"black\" points=\"543,-4071.5 543,-4115.5 589,-4115.5 589,-4071.5 543,-4071.5\"/>\n",
       "<text text-anchor=\"start\" x=\"561.12\" y=\"-4096.75\" font-family=\"Linux libertine\" font-size=\"10.00\">to</text>\n",
       "<text text-anchor=\"start\" x=\"547.62\" y=\"-4084\" font-family=\"Linux libertine\" font-size=\"10.00\">depth:3</text>\n",
       "<polygon fill=\"none\" stroke=\"black\" points=\"589,-4093.5 589,-4115.5 636,-4115.5 636,-4093.5 589,-4093.5\"/>\n",
       "<text text-anchor=\"start\" x=\"598.62\" y=\"-4101\" font-family=\"Linux libertine\" font-size=\"10.00\">input:</text>\n",
       "<polygon fill=\"none\" stroke=\"black\" points=\"636,-4093.5 636,-4115.5 686,-4115.5 686,-4093.5 636,-4093.5\"/>\n",
       "<text text-anchor=\"start\" x=\"640.75\" y=\"-4101\" font-family=\"Linux libertine\" font-size=\"10.00\">(44, 44) </text>\n",
       "<polygon fill=\"none\" stroke=\"black\" points=\"589,-4071.5 589,-4093.5 636,-4093.5 636,-4071.5 589,-4071.5\"/>\n",
       "<text text-anchor=\"start\" x=\"593.75\" y=\"-4079\" font-family=\"Linux libertine\" font-size=\"10.00\">output: </text>\n",
       "<polygon fill=\"none\" stroke=\"black\" points=\"636,-4071.5 636,-4093.5 686,-4093.5 686,-4071.5 636,-4071.5\"/>\n",
       "<text text-anchor=\"start\" x=\"640.75\" y=\"-4079\" font-family=\"Linux libertine\" font-size=\"10.00\">(44, 44) </text>\n",
       "</g>\n",
       "<!-- 48&#45;&gt;49 -->\n",
       "<g id=\"edge63\" class=\"edge\">\n",
       "<title>48&#45;&gt;49</title>\n",
       "<path fill=\"none\" stroke=\"black\" d=\"M614.5,-4151.6C614.5,-4143.82 614.5,-4134.8 614.5,-4126.26\"/>\n",
       "<polygon fill=\"black\" stroke=\"black\" points=\"618,-4126.46 614.5,-4116.46 611,-4126.46 618,-4126.46\"/>\n",
       "</g>\n",
       "<!-- 49&#45;&gt;50 -->\n",
       "<g id=\"edge64\" class=\"edge\">\n",
       "<title>49&#45;&gt;50</title>\n",
       "<path fill=\"none\" stroke=\"black\" d=\"M580.73,-4071.6C565.62,-4062.24 547.63,-4051.1 531.56,-4041.16\"/>\n",
       "<polygon fill=\"black\" stroke=\"black\" points=\"533.7,-4037.75 523.36,-4035.46 530.02,-4043.7 533.7,-4037.75\"/>\n",
       "</g>\n",
       "<!-- 50&#45;&gt;51 -->\n",
       "<g id=\"edge65\" class=\"edge\">\n",
       "<title>50&#45;&gt;51</title>\n",
       "<path fill=\"none\" stroke=\"black\" d=\"M488.5,-3991.6C488.5,-3983.82 488.5,-3974.8 488.5,-3966.26\"/>\n",
       "<polygon fill=\"black\" stroke=\"black\" points=\"492,-3966.46 488.5,-3956.46 485,-3966.46 492,-3966.46\"/>\n",
       "</g>\n",
       "<!-- 52 -->\n",
       "<g id=\"node53\" class=\"node\">\n",
       "<title>52</title>\n",
       "<polygon fill=\"#c1ffc1\" stroke=\"none\" points=\"802,-3875.5 629,-3875.5 629,-3831.5 802,-3831.5 802,-3875.5\"/>\n",
       "<polygon fill=\"none\" stroke=\"black\" points=\"629,-3831.5 629,-3875.5 693,-3875.5 693,-3831.5 629,-3831.5\"/>\n",
       "<text text-anchor=\"start\" x=\"634\" y=\"-3856.75\" font-family=\"Linux libertine\" font-size=\"10.00\">LayerNorm</text>\n",
       "<text text-anchor=\"start\" x=\"642.62\" y=\"-3844\" font-family=\"Linux libertine\" font-size=\"10.00\">depth:3</text>\n",
       "<polygon fill=\"none\" stroke=\"black\" points=\"693,-3853.5 693,-3875.5 740,-3875.5 740,-3853.5 693,-3853.5\"/>\n",
       "<text text-anchor=\"start\" x=\"702.62\" y=\"-3861\" font-family=\"Linux libertine\" font-size=\"10.00\">input:</text>\n",
       "<polygon fill=\"none\" stroke=\"black\" points=\"740,-3853.5 740,-3875.5 802,-3875.5 802,-3853.5 740,-3853.5\"/>\n",
       "<text text-anchor=\"start\" x=\"744.75\" y=\"-3861\" font-family=\"Linux libertine\" font-size=\"10.00\">(5, 44, 64) </text>\n",
       "<polygon fill=\"none\" stroke=\"black\" points=\"693,-3831.5 693,-3853.5 740,-3853.5 740,-3831.5 693,-3831.5\"/>\n",
       "<text text-anchor=\"start\" x=\"697.75\" y=\"-3839\" font-family=\"Linux libertine\" font-size=\"10.00\">output: </text>\n",
       "<polygon fill=\"none\" stroke=\"black\" points=\"740,-3831.5 740,-3853.5 802,-3853.5 802,-3831.5 740,-3831.5\"/>\n",
       "<text text-anchor=\"start\" x=\"744.75\" y=\"-3839\" font-family=\"Linux libertine\" font-size=\"10.00\">(5, 44, 64) </text>\n",
       "</g>\n",
       "<!-- 51&#45;&gt;52 -->\n",
       "<g id=\"edge66\" class=\"edge\">\n",
       "<title>51&#45;&gt;52</title>\n",
       "<path fill=\"none\" stroke=\"black\" d=\"M549.33,-3911.6C578.59,-3901.54 613.86,-3889.43 644.36,-3878.95\"/>\n",
       "<polygon fill=\"black\" stroke=\"black\" points=\"645.18,-3882.02 653.5,-3875.46 642.91,-3875.4 645.18,-3882.02\"/>\n",
       "</g>\n",
       "<!-- 54 -->\n",
       "<g id=\"node55\" class=\"node\">\n",
       "<title>54</title>\n",
       "<polygon fill=\"aliceblue\" stroke=\"none\" points=\"694,-3715.5 521,-3715.5 521,-3671.5 694,-3671.5 694,-3715.5\"/>\n",
       "<polygon fill=\"none\" stroke=\"black\" points=\"521,-3671.5 521,-3715.5 567,-3715.5 567,-3671.5 521,-3671.5\"/>\n",
       "<text text-anchor=\"start\" x=\"535\" y=\"-3696.75\" font-family=\"Linux libertine\" font-size=\"10.00\">add</text>\n",
       "<text text-anchor=\"start\" x=\"525.62\" y=\"-3684\" font-family=\"Linux libertine\" font-size=\"10.00\">depth:3</text>\n",
       "<polygon fill=\"none\" stroke=\"black\" points=\"567,-3693.5 567,-3715.5 614,-3715.5 614,-3693.5 567,-3693.5\"/>\n",
       "<text text-anchor=\"start\" x=\"576.62\" y=\"-3701\" font-family=\"Linux libertine\" font-size=\"10.00\">input:</text>\n",
       "<polygon fill=\"none\" stroke=\"black\" points=\"614,-3693.5 614,-3715.5 694,-3715.5 694,-3693.5 614,-3693.5\"/>\n",
       "<text text-anchor=\"start\" x=\"618.75\" y=\"-3701\" font-family=\"Linux libertine\" font-size=\"10.00\">2 x (5, 44, 64) </text>\n",
       "<polygon fill=\"none\" stroke=\"black\" points=\"567,-3671.5 567,-3693.5 614,-3693.5 614,-3671.5 567,-3671.5\"/>\n",
       "<text text-anchor=\"start\" x=\"571.75\" y=\"-3679\" font-family=\"Linux libertine\" font-size=\"10.00\">output: </text>\n",
       "<polygon fill=\"none\" stroke=\"black\" points=\"614,-3671.5 614,-3693.5 694,-3693.5 694,-3671.5 614,-3671.5\"/>\n",
       "<text text-anchor=\"start\" x=\"627.75\" y=\"-3679\" font-family=\"Linux libertine\" font-size=\"10.00\">(5, 44, 64) </text>\n",
       "</g>\n",
       "<!-- 51&#45;&gt;54 -->\n",
       "<g id=\"edge67\" class=\"edge\">\n",
       "<title>51&#45;&gt;54</title>\n",
       "<path fill=\"none\" stroke=\"black\" d=\"M484.97,-3911.78C480.02,-3875.93 474.93,-3801.36 507.5,-3751.5 515.68,-3738.98 527.62,-3728.91 540.43,-3720.92\"/>\n",
       "<polygon fill=\"black\" stroke=\"black\" points=\"541.96,-3723.51 548.86,-3715.47 538.45,-3717.45 541.96,-3723.51\"/>\n",
       "</g>\n",
       "<!-- 52&#45;&gt;53 -->\n",
       "<g id=\"edge68\" class=\"edge\">\n",
       "<title>52&#45;&gt;53</title>\n",
       "<path fill=\"none\" stroke=\"black\" d=\"M700.49,-3831.6C694.47,-3823.2 687.41,-3813.37 680.86,-3804.26\"/>\n",
       "<polygon fill=\"black\" stroke=\"black\" points=\"683.22,-3802.54 674.55,-3796.46 677.54,-3806.62 683.22,-3802.54\"/>\n",
       "</g>\n",
       "<!-- 53&#45;&gt;54 -->\n",
       "<g id=\"edge69\" class=\"edge\">\n",
       "<title>53&#45;&gt;54</title>\n",
       "<path fill=\"none\" stroke=\"black\" d=\"M645.56,-3751.6C640.03,-3743.29 633.55,-3733.58 627.53,-3724.54\"/>\n",
       "<polygon fill=\"black\" stroke=\"black\" points=\"629.93,-3722.84 621.47,-3716.46 624.11,-3726.72 629.93,-3722.84\"/>\n",
       "</g>\n",
       "<!-- 55 -->\n",
       "<g id=\"node56\" class=\"node\">\n",
       "<title>55</title>\n",
       "<polygon fill=\"#c1ffc1\" stroke=\"none\" points=\"709,-3635.5 536,-3635.5 536,-3591.5 709,-3591.5 709,-3635.5\"/>\n",
       "<polygon fill=\"none\" stroke=\"black\" points=\"536,-3591.5 536,-3635.5 600,-3635.5 600,-3591.5 536,-3591.5\"/>\n",
       "<text text-anchor=\"start\" x=\"541\" y=\"-3616.75\" font-family=\"Linux libertine\" font-size=\"10.00\">LayerNorm</text>\n",
       "<text text-anchor=\"start\" x=\"549.62\" y=\"-3604\" font-family=\"Linux libertine\" font-size=\"10.00\">depth:3</text>\n",
       "<polygon fill=\"none\" stroke=\"black\" points=\"600,-3613.5 600,-3635.5 647,-3635.5 647,-3613.5 600,-3613.5\"/>\n",
       "<text text-anchor=\"start\" x=\"609.62\" y=\"-3621\" font-family=\"Linux libertine\" font-size=\"10.00\">input:</text>\n",
       "<polygon fill=\"none\" stroke=\"black\" points=\"647,-3613.5 647,-3635.5 709,-3635.5 709,-3613.5 647,-3613.5\"/>\n",
       "<text text-anchor=\"start\" x=\"651.75\" y=\"-3621\" font-family=\"Linux libertine\" font-size=\"10.00\">(5, 44, 64) </text>\n",
       "<polygon fill=\"none\" stroke=\"black\" points=\"600,-3591.5 600,-3613.5 647,-3613.5 647,-3591.5 600,-3591.5\"/>\n",
       "<text text-anchor=\"start\" x=\"604.75\" y=\"-3599\" font-family=\"Linux libertine\" font-size=\"10.00\">output: </text>\n",
       "<polygon fill=\"none\" stroke=\"black\" points=\"647,-3591.5 647,-3613.5 709,-3613.5 709,-3591.5 647,-3591.5\"/>\n",
       "<text text-anchor=\"start\" x=\"651.75\" y=\"-3599\" font-family=\"Linux libertine\" font-size=\"10.00\">(5, 44, 64) </text>\n",
       "</g>\n",
       "<!-- 54&#45;&gt;55 -->\n",
       "<g id=\"edge70\" class=\"edge\">\n",
       "<title>54&#45;&gt;55</title>\n",
       "<path fill=\"none\" stroke=\"black\" d=\"M611.52,-3671.6C613.03,-3663.73 614.79,-3654.6 616.45,-3645.97\"/>\n",
       "<polygon fill=\"black\" stroke=\"black\" points=\"620.02,-3646.94 618.47,-3636.46 613.14,-3645.62 620.02,-3646.94\"/>\n",
       "</g>\n",
       "<!-- 58 -->\n",
       "<g id=\"node59\" class=\"node\">\n",
       "<title>58</title>\n",
       "<polygon fill=\"aliceblue\" stroke=\"none\" points=\"625,-3395.5 452,-3395.5 452,-3351.5 625,-3351.5 625,-3395.5\"/>\n",
       "<polygon fill=\"none\" stroke=\"black\" points=\"452,-3351.5 452,-3395.5 498,-3395.5 498,-3351.5 452,-3351.5\"/>\n",
       "<text text-anchor=\"start\" x=\"466\" y=\"-3376.75\" font-family=\"Linux libertine\" font-size=\"10.00\">add</text>\n",
       "<text text-anchor=\"start\" x=\"456.62\" y=\"-3364\" font-family=\"Linux libertine\" font-size=\"10.00\">depth:3</text>\n",
       "<polygon fill=\"none\" stroke=\"black\" points=\"498,-3373.5 498,-3395.5 545,-3395.5 545,-3373.5 498,-3373.5\"/>\n",
       "<text text-anchor=\"start\" x=\"507.62\" y=\"-3381\" font-family=\"Linux libertine\" font-size=\"10.00\">input:</text>\n",
       "<polygon fill=\"none\" stroke=\"black\" points=\"545,-3373.5 545,-3395.5 625,-3395.5 625,-3373.5 545,-3373.5\"/>\n",
       "<text text-anchor=\"start\" x=\"549.75\" y=\"-3381\" font-family=\"Linux libertine\" font-size=\"10.00\">2 x (5, 44, 64) </text>\n",
       "<polygon fill=\"none\" stroke=\"black\" points=\"498,-3351.5 498,-3373.5 545,-3373.5 545,-3351.5 498,-3351.5\"/>\n",
       "<text text-anchor=\"start\" x=\"502.75\" y=\"-3359\" font-family=\"Linux libertine\" font-size=\"10.00\">output: </text>\n",
       "<polygon fill=\"none\" stroke=\"black\" points=\"545,-3351.5 545,-3373.5 625,-3373.5 625,-3351.5 545,-3351.5\"/>\n",
       "<text text-anchor=\"start\" x=\"558.75\" y=\"-3359\" font-family=\"Linux libertine\" font-size=\"10.00\">(5, 44, 64) </text>\n",
       "</g>\n",
       "<!-- 54&#45;&gt;58 -->\n",
       "<g id=\"edge71\" class=\"edge\">\n",
       "<title>54&#45;&gt;58</title>\n",
       "<path fill=\"none\" stroke=\"black\" d=\"M563.29,-3671.68C549.23,-3662.67 535.31,-3650.66 527.5,-3635.5 488.88,-3560.57 512.14,-3456.87 527.78,-3405.67\"/>\n",
       "<polygon fill=\"black\" stroke=\"black\" points=\"531.39,-3406.87 531.07,-3396.28 524.71,-3404.75 531.39,-3406.87\"/>\n",
       "</g>\n",
       "<!-- 56 -->\n",
       "<g id=\"node57\" class=\"node\">\n",
       "<title>56</title>\n",
       "<polygon fill=\"#c1ffc1\" stroke=\"none\" points=\"696,-3555.5 541,-3555.5 541,-3511.5 696,-3511.5 696,-3555.5\"/>\n",
       "<polygon fill=\"none\" stroke=\"black\" points=\"541,-3511.5 541,-3555.5 587,-3555.5 587,-3511.5 541,-3511.5\"/>\n",
       "<text text-anchor=\"start\" x=\"549\" y=\"-3536.75\" font-family=\"Linux libertine\" font-size=\"10.00\">Linear</text>\n",
       "<text text-anchor=\"start\" x=\"545.62\" y=\"-3524\" font-family=\"Linux libertine\" font-size=\"10.00\">depth:3</text>\n",
       "<polygon fill=\"none\" stroke=\"black\" points=\"587,-3533.5 587,-3555.5 634,-3555.5 634,-3533.5 587,-3533.5\"/>\n",
       "<text text-anchor=\"start\" x=\"596.62\" y=\"-3541\" font-family=\"Linux libertine\" font-size=\"10.00\">input:</text>\n",
       "<polygon fill=\"none\" stroke=\"black\" points=\"634,-3533.5 634,-3555.5 696,-3555.5 696,-3533.5 634,-3533.5\"/>\n",
       "<text text-anchor=\"start\" x=\"638.75\" y=\"-3541\" font-family=\"Linux libertine\" font-size=\"10.00\">(5, 44, 64) </text>\n",
       "<polygon fill=\"none\" stroke=\"black\" points=\"587,-3511.5 587,-3533.5 634,-3533.5 634,-3511.5 587,-3511.5\"/>\n",
       "<text text-anchor=\"start\" x=\"591.75\" y=\"-3519\" font-family=\"Linux libertine\" font-size=\"10.00\">output: </text>\n",
       "<polygon fill=\"none\" stroke=\"black\" points=\"634,-3511.5 634,-3533.5 696,-3533.5 696,-3511.5 634,-3511.5\"/>\n",
       "<text text-anchor=\"start\" x=\"638.75\" y=\"-3519\" font-family=\"Linux libertine\" font-size=\"10.00\">(5, 44, 64) </text>\n",
       "</g>\n",
       "<!-- 55&#45;&gt;56 -->\n",
       "<g id=\"edge72\" class=\"edge\">\n",
       "<title>55&#45;&gt;56</title>\n",
       "<path fill=\"none\" stroke=\"black\" d=\"M621.43,-3591.6C621.03,-3583.82 620.57,-3574.8 620.13,-3566.26\"/>\n",
       "<polygon fill=\"black\" stroke=\"black\" points=\"623.58,-3566.27 619.57,-3556.46 616.59,-3566.63 623.58,-3566.27\"/>\n",
       "</g>\n",
       "<!-- 57 -->\n",
       "<g id=\"node58\" class=\"node\">\n",
       "<title>57</title>\n",
       "<polygon fill=\"#c1ffc1\" stroke=\"none\" points=\"694,-3475.5 539,-3475.5 539,-3431.5 694,-3431.5 694,-3475.5\"/>\n",
       "<polygon fill=\"none\" stroke=\"black\" points=\"539,-3431.5 539,-3475.5 585,-3475.5 585,-3431.5 539,-3431.5\"/>\n",
       "<text text-anchor=\"start\" x=\"548.88\" y=\"-3456.75\" font-family=\"Linux libertine\" font-size=\"10.00\">GELU</text>\n",
       "<text text-anchor=\"start\" x=\"543.62\" y=\"-3444\" font-family=\"Linux libertine\" font-size=\"10.00\">depth:3</text>\n",
       "<polygon fill=\"none\" stroke=\"black\" points=\"585,-3453.5 585,-3475.5 632,-3475.5 632,-3453.5 585,-3453.5\"/>\n",
       "<text text-anchor=\"start\" x=\"594.62\" y=\"-3461\" font-family=\"Linux libertine\" font-size=\"10.00\">input:</text>\n",
       "<polygon fill=\"none\" stroke=\"black\" points=\"632,-3453.5 632,-3475.5 694,-3475.5 694,-3453.5 632,-3453.5\"/>\n",
       "<text text-anchor=\"start\" x=\"636.75\" y=\"-3461\" font-family=\"Linux libertine\" font-size=\"10.00\">(5, 44, 64) </text>\n",
       "<polygon fill=\"none\" stroke=\"black\" points=\"585,-3431.5 585,-3453.5 632,-3453.5 632,-3431.5 585,-3431.5\"/>\n",
       "<text text-anchor=\"start\" x=\"589.75\" y=\"-3439\" font-family=\"Linux libertine\" font-size=\"10.00\">output: </text>\n",
       "<polygon fill=\"none\" stroke=\"black\" points=\"632,-3431.5 632,-3453.5 694,-3453.5 694,-3431.5 632,-3431.5\"/>\n",
       "<text text-anchor=\"start\" x=\"636.75\" y=\"-3439\" font-family=\"Linux libertine\" font-size=\"10.00\">(5, 44, 64) </text>\n",
       "</g>\n",
       "<!-- 56&#45;&gt;57 -->\n",
       "<g id=\"edge73\" class=\"edge\">\n",
       "<title>56&#45;&gt;57</title>\n",
       "<path fill=\"none\" stroke=\"black\" d=\"M617.96,-3511.6C617.76,-3503.82 617.53,-3494.8 617.31,-3486.26\"/>\n",
       "<polygon fill=\"black\" stroke=\"black\" points=\"620.79,-3486.37 617.04,-3476.46 613.8,-3486.55 620.79,-3486.37\"/>\n",
       "</g>\n",
       "<!-- 57&#45;&gt;58 -->\n",
       "<g id=\"edge74\" class=\"edge\">\n",
       "<title>57&#45;&gt;58</title>\n",
       "<path fill=\"none\" stroke=\"black\" d=\"M595.6,-3431.6C586.85,-3422.85 576.55,-3412.55 567.12,-3403.12\"/>\n",
       "<polygon fill=\"black\" stroke=\"black\" points=\"570.01,-3401.06 560.46,-3396.46 565.06,-3406.01 570.01,-3401.06\"/>\n",
       "</g>\n",
       "<!-- 59 -->\n",
       "<g id=\"node60\" class=\"node\">\n",
       "<title>59</title>\n",
       "<polygon fill=\"#c1ffc1\" stroke=\"none\" points=\"641,-3315.5 468,-3315.5 468,-3271.5 641,-3271.5 641,-3315.5\"/>\n",
       "<polygon fill=\"none\" stroke=\"black\" points=\"468,-3271.5 468,-3315.5 532,-3315.5 532,-3271.5 468,-3271.5\"/>\n",
       "<text text-anchor=\"start\" x=\"473\" y=\"-3296.75\" font-family=\"Linux libertine\" font-size=\"10.00\">LayerNorm</text>\n",
       "<text text-anchor=\"start\" x=\"481.62\" y=\"-3284\" font-family=\"Linux libertine\" font-size=\"10.00\">depth:3</text>\n",
       "<polygon fill=\"none\" stroke=\"black\" points=\"532,-3293.5 532,-3315.5 579,-3315.5 579,-3293.5 532,-3293.5\"/>\n",
       "<text text-anchor=\"start\" x=\"541.62\" y=\"-3301\" font-family=\"Linux libertine\" font-size=\"10.00\">input:</text>\n",
       "<polygon fill=\"none\" stroke=\"black\" points=\"579,-3293.5 579,-3315.5 641,-3315.5 641,-3293.5 579,-3293.5\"/>\n",
       "<text text-anchor=\"start\" x=\"583.75\" y=\"-3301\" font-family=\"Linux libertine\" font-size=\"10.00\">(5, 44, 64) </text>\n",
       "<polygon fill=\"none\" stroke=\"black\" points=\"532,-3271.5 532,-3293.5 579,-3293.5 579,-3271.5 532,-3271.5\"/>\n",
       "<text text-anchor=\"start\" x=\"536.75\" y=\"-3279\" font-family=\"Linux libertine\" font-size=\"10.00\">output: </text>\n",
       "<polygon fill=\"none\" stroke=\"black\" points=\"579,-3271.5 579,-3293.5 641,-3293.5 641,-3271.5 579,-3271.5\"/>\n",
       "<text text-anchor=\"start\" x=\"583.75\" y=\"-3279\" font-family=\"Linux libertine\" font-size=\"10.00\">(5, 44, 64) </text>\n",
       "</g>\n",
       "<!-- 58&#45;&gt;59 -->\n",
       "<g id=\"edge76\" class=\"edge\">\n",
       "<title>58&#45;&gt;59</title>\n",
       "<path fill=\"none\" stroke=\"black\" d=\"M542.79,-3351.6C544.4,-3343.73 546.28,-3334.6 548.04,-3325.97\"/>\n",
       "<polygon fill=\"black\" stroke=\"black\" points=\"551.62,-3326.96 550.2,-3316.46 544.76,-3325.55 551.62,-3326.96\"/>\n",
       "</g>\n",
       "<!-- 63 -->\n",
       "<g id=\"node64\" class=\"node\">\n",
       "<title>63</title>\n",
       "<polygon fill=\"aliceblue\" stroke=\"none\" points=\"746,-3155.5 573,-3155.5 573,-3111.5 746,-3111.5 746,-3155.5\"/>\n",
       "<polygon fill=\"none\" stroke=\"black\" points=\"573,-3111.5 573,-3155.5 619,-3155.5 619,-3111.5 573,-3111.5\"/>\n",
       "<text text-anchor=\"start\" x=\"587\" y=\"-3136.75\" font-family=\"Linux libertine\" font-size=\"10.00\">add</text>\n",
       "<text text-anchor=\"start\" x=\"577.62\" y=\"-3124\" font-family=\"Linux libertine\" font-size=\"10.00\">depth:3</text>\n",
       "<polygon fill=\"none\" stroke=\"black\" points=\"619,-3133.5 619,-3155.5 666,-3155.5 666,-3133.5 619,-3133.5\"/>\n",
       "<text text-anchor=\"start\" x=\"628.62\" y=\"-3141\" font-family=\"Linux libertine\" font-size=\"10.00\">input:</text>\n",
       "<polygon fill=\"none\" stroke=\"black\" points=\"666,-3133.5 666,-3155.5 746,-3155.5 746,-3133.5 666,-3133.5\"/>\n",
       "<text text-anchor=\"start\" x=\"670.75\" y=\"-3141\" font-family=\"Linux libertine\" font-size=\"10.00\">2 x (5, 44, 64) </text>\n",
       "<polygon fill=\"none\" stroke=\"black\" points=\"619,-3111.5 619,-3133.5 666,-3133.5 666,-3111.5 619,-3111.5\"/>\n",
       "<text text-anchor=\"start\" x=\"623.75\" y=\"-3119\" font-family=\"Linux libertine\" font-size=\"10.00\">output: </text>\n",
       "<polygon fill=\"none\" stroke=\"black\" points=\"666,-3111.5 666,-3133.5 746,-3133.5 746,-3111.5 666,-3111.5\"/>\n",
       "<text text-anchor=\"start\" x=\"679.75\" y=\"-3119\" font-family=\"Linux libertine\" font-size=\"10.00\">(5, 44, 64) </text>\n",
       "</g>\n",
       "<!-- 58&#45;&gt;63 -->\n",
       "<g id=\"edge77\" class=\"edge\">\n",
       "<title>58&#45;&gt;63</title>\n",
       "<path fill=\"none\" stroke=\"black\" d=\"M494.83,-3351.57C480.94,-3342.55 467.2,-3330.56 459.5,-3315.5 450.59,-3298.09 453.78,-3290.2 459.5,-3271.5 472.05,-3230.48 480,-3218.29 513.5,-3191.5 530.22,-3178.12 550.46,-3167.58 570.48,-3159.4\"/>\n",
       "<polygon fill=\"black\" stroke=\"black\" points=\"571.54,-3162.35 579.58,-3155.46 569,-3155.83 571.54,-3162.35\"/>\n",
       "</g>\n",
       "<!-- 62 -->\n",
       "<g id=\"node63\" class=\"node\">\n",
       "<title>62</title>\n",
       "<polygon fill=\"#c1ffc1\" stroke=\"none\" points=\"796.5,-3235.5 522.5,-3235.5 522.5,-3191.5 796.5,-3191.5 796.5,-3235.5\"/>\n",
       "<polygon fill=\"none\" stroke=\"black\" points=\"522.5,-3191.5 522.5,-3235.5 625.5,-3235.5 625.5,-3191.5 522.5,-3191.5\"/>\n",
       "<text text-anchor=\"start\" x=\"527.12\" y=\"-3216.75\" font-family=\"Linux libertine\" font-size=\"10.00\">MultiheadAttention</text>\n",
       "<text text-anchor=\"start\" x=\"555.62\" y=\"-3204\" font-family=\"Linux libertine\" font-size=\"10.00\">depth:3</text>\n",
       "<polygon fill=\"none\" stroke=\"black\" points=\"625.5,-3213.5 625.5,-3235.5 672.5,-3235.5 672.5,-3213.5 625.5,-3213.5\"/>\n",
       "<text text-anchor=\"start\" x=\"635.12\" y=\"-3221\" font-family=\"Linux libertine\" font-size=\"10.00\">input:</text>\n",
       "<polygon fill=\"none\" stroke=\"black\" points=\"672.5,-3213.5 672.5,-3235.5 796.5,-3235.5 796.5,-3213.5 672.5,-3213.5\"/>\n",
       "<text text-anchor=\"start\" x=\"677.5\" y=\"-3221\" font-family=\"Linux libertine\" font-size=\"10.00\">3 x (5, 44, 64), (44, 44) </text>\n",
       "<polygon fill=\"none\" stroke=\"black\" points=\"625.5,-3191.5 625.5,-3213.5 672.5,-3213.5 672.5,-3191.5 625.5,-3191.5\"/>\n",
       "<text text-anchor=\"start\" x=\"630.25\" y=\"-3199\" font-family=\"Linux libertine\" font-size=\"10.00\">output: </text>\n",
       "<polygon fill=\"none\" stroke=\"black\" points=\"672.5,-3191.5 672.5,-3213.5 796.5,-3213.5 796.5,-3191.5 672.5,-3191.5\"/>\n",
       "<text text-anchor=\"start\" x=\"680.5\" y=\"-3199\" font-family=\"Linux libertine\" font-size=\"10.00\">(5, 44, 64), (5, 44, 44) </text>\n",
       "</g>\n",
       "<!-- 59&#45;&gt;62 -->\n",
       "<g id=\"edge78\" class=\"edge\">\n",
       "<title>59&#45;&gt;62</title>\n",
       "<path fill=\"none\" stroke=\"black\" d=\"M582.64,-3271.6C594.88,-3262.5 609.39,-3251.73 622.49,-3242\"/>\n",
       "<polygon fill=\"black\" stroke=\"black\" points=\"624.34,-3244.23 630.28,-3235.46 620.17,-3238.61 624.34,-3244.23\"/>\n",
       "</g>\n",
       "<!-- 60 -->\n",
       "<g id=\"node61\" class=\"node\">\n",
       "<title>60</title>\n",
       "<polygon fill=\"aliceblue\" stroke=\"none\" points=\"802,-3395.5 659,-3395.5 659,-3351.5 802,-3351.5 802,-3395.5\"/>\n",
       "<polygon fill=\"none\" stroke=\"black\" points=\"659,-3351.5 659,-3395.5 705,-3395.5 705,-3351.5 659,-3351.5\"/>\n",
       "<text text-anchor=\"start\" x=\"673.75\" y=\"-3376.75\" font-family=\"Linux libertine\" font-size=\"10.00\">triu</text>\n",
       "<text text-anchor=\"start\" x=\"663.62\" y=\"-3364\" font-family=\"Linux libertine\" font-size=\"10.00\">depth:3</text>\n",
       "<polygon fill=\"none\" stroke=\"black\" points=\"705,-3373.5 705,-3395.5 752,-3395.5 752,-3373.5 705,-3373.5\"/>\n",
       "<text text-anchor=\"start\" x=\"714.62\" y=\"-3381\" font-family=\"Linux libertine\" font-size=\"10.00\">input:</text>\n",
       "<polygon fill=\"none\" stroke=\"black\" points=\"752,-3373.5 752,-3395.5 802,-3395.5 802,-3373.5 752,-3373.5\"/>\n",
       "<text text-anchor=\"start\" x=\"756.75\" y=\"-3381\" font-family=\"Linux libertine\" font-size=\"10.00\">(44, 44) </text>\n",
       "<polygon fill=\"none\" stroke=\"black\" points=\"705,-3351.5 705,-3373.5 752,-3373.5 752,-3351.5 705,-3351.5\"/>\n",
       "<text text-anchor=\"start\" x=\"709.75\" y=\"-3359\" font-family=\"Linux libertine\" font-size=\"10.00\">output: </text>\n",
       "<polygon fill=\"none\" stroke=\"black\" points=\"752,-3351.5 752,-3373.5 802,-3373.5 802,-3351.5 752,-3351.5\"/>\n",
       "<text text-anchor=\"start\" x=\"756.75\" y=\"-3359\" font-family=\"Linux libertine\" font-size=\"10.00\">(44, 44) </text>\n",
       "</g>\n",
       "<!-- 61 -->\n",
       "<g id=\"node62\" class=\"node\">\n",
       "<title>61</title>\n",
       "<polygon fill=\"aliceblue\" stroke=\"none\" points=\"802,-3315.5 659,-3315.5 659,-3271.5 802,-3271.5 802,-3315.5\"/>\n",
       "<polygon fill=\"none\" stroke=\"black\" points=\"659,-3271.5 659,-3315.5 705,-3315.5 705,-3271.5 659,-3271.5\"/>\n",
       "<text text-anchor=\"start\" x=\"677.12\" y=\"-3296.75\" font-family=\"Linux libertine\" font-size=\"10.00\">to</text>\n",
       "<text text-anchor=\"start\" x=\"663.62\" y=\"-3284\" font-family=\"Linux libertine\" font-size=\"10.00\">depth:3</text>\n",
       "<polygon fill=\"none\" stroke=\"black\" points=\"705,-3293.5 705,-3315.5 752,-3315.5 752,-3293.5 705,-3293.5\"/>\n",
       "<text text-anchor=\"start\" x=\"714.62\" y=\"-3301\" font-family=\"Linux libertine\" font-size=\"10.00\">input:</text>\n",
       "<polygon fill=\"none\" stroke=\"black\" points=\"752,-3293.5 752,-3315.5 802,-3315.5 802,-3293.5 752,-3293.5\"/>\n",
       "<text text-anchor=\"start\" x=\"756.75\" y=\"-3301\" font-family=\"Linux libertine\" font-size=\"10.00\">(44, 44) </text>\n",
       "<polygon fill=\"none\" stroke=\"black\" points=\"705,-3271.5 705,-3293.5 752,-3293.5 752,-3271.5 705,-3271.5\"/>\n",
       "<text text-anchor=\"start\" x=\"709.75\" y=\"-3279\" font-family=\"Linux libertine\" font-size=\"10.00\">output: </text>\n",
       "<polygon fill=\"none\" stroke=\"black\" points=\"752,-3271.5 752,-3293.5 802,-3293.5 802,-3271.5 752,-3271.5\"/>\n",
       "<text text-anchor=\"start\" x=\"756.75\" y=\"-3279\" font-family=\"Linux libertine\" font-size=\"10.00\">(44, 44) </text>\n",
       "</g>\n",
       "<!-- 60&#45;&gt;61 -->\n",
       "<g id=\"edge79\" class=\"edge\">\n",
       "<title>60&#45;&gt;61</title>\n",
       "<path fill=\"none\" stroke=\"black\" d=\"M730.5,-3351.6C730.5,-3343.82 730.5,-3334.8 730.5,-3326.26\"/>\n",
       "<polygon fill=\"black\" stroke=\"black\" points=\"734,-3326.46 730.5,-3316.46 727,-3326.46 734,-3326.46\"/>\n",
       "</g>\n",
       "<!-- 61&#45;&gt;62 -->\n",
       "<g id=\"edge80\" class=\"edge\">\n",
       "<title>61&#45;&gt;62</title>\n",
       "<path fill=\"none\" stroke=\"black\" d=\"M711.47,-3271.6C703.59,-3262.94 694.32,-3252.76 685.81,-3243.41\"/>\n",
       "<polygon fill=\"black\" stroke=\"black\" points=\"688.9,-3241.5 679.58,-3236.46 683.72,-3246.21 688.9,-3241.5\"/>\n",
       "</g>\n",
       "<!-- 62&#45;&gt;63 -->\n",
       "<g id=\"edge81\" class=\"edge\">\n",
       "<title>62&#45;&gt;63</title>\n",
       "<path fill=\"none\" stroke=\"black\" d=\"M659.5,-3191.6C659.5,-3183.82 659.5,-3174.8 659.5,-3166.26\"/>\n",
       "<polygon fill=\"black\" stroke=\"black\" points=\"663,-3166.46 659.5,-3156.46 656,-3166.46 663,-3166.46\"/>\n",
       "</g>\n",
       "<!-- 64 -->\n",
       "<g id=\"node65\" class=\"node\">\n",
       "<title>64</title>\n",
       "<polygon fill=\"#c1ffc1\" stroke=\"none\" points=\"1032,-3075.5 859,-3075.5 859,-3031.5 1032,-3031.5 1032,-3075.5\"/>\n",
       "<polygon fill=\"none\" stroke=\"black\" points=\"859,-3031.5 859,-3075.5 923,-3075.5 923,-3031.5 859,-3031.5\"/>\n",
       "<text text-anchor=\"start\" x=\"864\" y=\"-3056.75\" font-family=\"Linux libertine\" font-size=\"10.00\">LayerNorm</text>\n",
       "<text text-anchor=\"start\" x=\"872.62\" y=\"-3044\" font-family=\"Linux libertine\" font-size=\"10.00\">depth:3</text>\n",
       "<polygon fill=\"none\" stroke=\"black\" points=\"923,-3053.5 923,-3075.5 970,-3075.5 970,-3053.5 923,-3053.5\"/>\n",
       "<text text-anchor=\"start\" x=\"932.62\" y=\"-3061\" font-family=\"Linux libertine\" font-size=\"10.00\">input:</text>\n",
       "<polygon fill=\"none\" stroke=\"black\" points=\"970,-3053.5 970,-3075.5 1032,-3075.5 1032,-3053.5 970,-3053.5\"/>\n",
       "<text text-anchor=\"start\" x=\"974.75\" y=\"-3061\" font-family=\"Linux libertine\" font-size=\"10.00\">(5, 44, 64) </text>\n",
       "<polygon fill=\"none\" stroke=\"black\" points=\"923,-3031.5 923,-3053.5 970,-3053.5 970,-3031.5 923,-3031.5\"/>\n",
       "<text text-anchor=\"start\" x=\"927.75\" y=\"-3039\" font-family=\"Linux libertine\" font-size=\"10.00\">output: </text>\n",
       "<polygon fill=\"none\" stroke=\"black\" points=\"970,-3031.5 970,-3053.5 1032,-3053.5 1032,-3031.5 970,-3031.5\"/>\n",
       "<text text-anchor=\"start\" x=\"974.75\" y=\"-3039\" font-family=\"Linux libertine\" font-size=\"10.00\">(5, 44, 64) </text>\n",
       "</g>\n",
       "<!-- 63&#45;&gt;64 -->\n",
       "<g id=\"edge82\" class=\"edge\">\n",
       "<title>63&#45;&gt;64</title>\n",
       "<path fill=\"none\" stroke=\"black\" d=\"M736.14,-3111.6C773.81,-3101.32 819.37,-3088.9 858.36,-3078.27\"/>\n",
       "<polygon fill=\"black\" stroke=\"black\" points=\"858.92,-3081.47 867.65,-3075.46 857.08,-3074.71 858.92,-3081.47\"/>\n",
       "</g>\n",
       "<!-- 66 -->\n",
       "<g id=\"node67\" class=\"node\">\n",
       "<title>66</title>\n",
       "<polygon fill=\"aliceblue\" stroke=\"none\" points=\"758,-2915.5 585,-2915.5 585,-2871.5 758,-2871.5 758,-2915.5\"/>\n",
       "<polygon fill=\"none\" stroke=\"black\" points=\"585,-2871.5 585,-2915.5 631,-2915.5 631,-2871.5 585,-2871.5\"/>\n",
       "<text text-anchor=\"start\" x=\"599\" y=\"-2896.75\" font-family=\"Linux libertine\" font-size=\"10.00\">add</text>\n",
       "<text text-anchor=\"start\" x=\"589.62\" y=\"-2884\" font-family=\"Linux libertine\" font-size=\"10.00\">depth:3</text>\n",
       "<polygon fill=\"none\" stroke=\"black\" points=\"631,-2893.5 631,-2915.5 678,-2915.5 678,-2893.5 631,-2893.5\"/>\n",
       "<text text-anchor=\"start\" x=\"640.62\" y=\"-2901\" font-family=\"Linux libertine\" font-size=\"10.00\">input:</text>\n",
       "<polygon fill=\"none\" stroke=\"black\" points=\"678,-2893.5 678,-2915.5 758,-2915.5 758,-2893.5 678,-2893.5\"/>\n",
       "<text text-anchor=\"start\" x=\"682.75\" y=\"-2901\" font-family=\"Linux libertine\" font-size=\"10.00\">2 x (5, 44, 64) </text>\n",
       "<polygon fill=\"none\" stroke=\"black\" points=\"631,-2871.5 631,-2893.5 678,-2893.5 678,-2871.5 631,-2871.5\"/>\n",
       "<text text-anchor=\"start\" x=\"635.75\" y=\"-2879\" font-family=\"Linux libertine\" font-size=\"10.00\">output: </text>\n",
       "<polygon fill=\"none\" stroke=\"black\" points=\"678,-2871.5 678,-2893.5 758,-2893.5 758,-2871.5 678,-2871.5\"/>\n",
       "<text text-anchor=\"start\" x=\"691.75\" y=\"-2879\" font-family=\"Linux libertine\" font-size=\"10.00\">(5, 44, 64) </text>\n",
       "</g>\n",
       "<!-- 63&#45;&gt;66 -->\n",
       "<g id=\"edge83\" class=\"edge\">\n",
       "<title>63&#45;&gt;66</title>\n",
       "<path fill=\"none\" stroke=\"black\" d=\"M660.54,-3111.8C662.65,-3070.04 667.42,-2975.5 669.91,-2926.02\"/>\n",
       "<polygon fill=\"black\" stroke=\"black\" points=\"673.44,-2926.49 670.45,-2916.33 666.45,-2926.14 673.44,-2926.49\"/>\n",
       "</g>\n",
       "<!-- 64&#45;&gt;65 -->\n",
       "<g id=\"edge84\" class=\"edge\">\n",
       "<title>64&#45;&gt;65</title>\n",
       "<path fill=\"none\" stroke=\"black\" d=\"M914.68,-3031.6C901.02,-3022.33 884.77,-3011.31 870.21,-3001.44\"/>\n",
       "<polygon fill=\"black\" stroke=\"black\" points=\"872.64,-2998.18 862.4,-2995.46 868.71,-3003.97 872.64,-2998.18\"/>\n",
       "</g>\n",
       "<!-- 65&#45;&gt;66 -->\n",
       "<g id=\"edge85\" class=\"edge\">\n",
       "<title>65&#45;&gt;66</title>\n",
       "<path fill=\"none\" stroke=\"black\" d=\"M787.89,-2951.6C768.2,-2941.94 744.62,-2930.37 723.86,-2920.18\"/>\n",
       "<polygon fill=\"black\" stroke=\"black\" points=\"725.75,-2916.72 715.23,-2915.46 722.66,-2923.01 725.75,-2916.72\"/>\n",
       "</g>\n",
       "<!-- 67 -->\n",
       "<g id=\"node68\" class=\"node\">\n",
       "<title>67</title>\n",
       "<polygon fill=\"#c1ffc1\" stroke=\"none\" points=\"759,-2835.5 586,-2835.5 586,-2791.5 759,-2791.5 759,-2835.5\"/>\n",
       "<polygon fill=\"none\" stroke=\"black\" points=\"586,-2791.5 586,-2835.5 650,-2835.5 650,-2791.5 586,-2791.5\"/>\n",
       "<text text-anchor=\"start\" x=\"591\" y=\"-2816.75\" font-family=\"Linux libertine\" font-size=\"10.00\">LayerNorm</text>\n",
       "<text text-anchor=\"start\" x=\"599.62\" y=\"-2804\" font-family=\"Linux libertine\" font-size=\"10.00\">depth:3</text>\n",
       "<polygon fill=\"none\" stroke=\"black\" points=\"650,-2813.5 650,-2835.5 697,-2835.5 697,-2813.5 650,-2813.5\"/>\n",
       "<text text-anchor=\"start\" x=\"659.62\" y=\"-2821\" font-family=\"Linux libertine\" font-size=\"10.00\">input:</text>\n",
       "<polygon fill=\"none\" stroke=\"black\" points=\"697,-2813.5 697,-2835.5 759,-2835.5 759,-2813.5 697,-2813.5\"/>\n",
       "<text text-anchor=\"start\" x=\"701.75\" y=\"-2821\" font-family=\"Linux libertine\" font-size=\"10.00\">(5, 44, 64) </text>\n",
       "<polygon fill=\"none\" stroke=\"black\" points=\"650,-2791.5 650,-2813.5 697,-2813.5 697,-2791.5 650,-2791.5\"/>\n",
       "<text text-anchor=\"start\" x=\"654.75\" y=\"-2799\" font-family=\"Linux libertine\" font-size=\"10.00\">output: </text>\n",
       "<polygon fill=\"none\" stroke=\"black\" points=\"697,-2791.5 697,-2813.5 759,-2813.5 759,-2791.5 697,-2791.5\"/>\n",
       "<text text-anchor=\"start\" x=\"701.75\" y=\"-2799\" font-family=\"Linux libertine\" font-size=\"10.00\">(5, 44, 64) </text>\n",
       "</g>\n",
       "<!-- 66&#45;&gt;67 -->\n",
       "<g id=\"edge86\" class=\"edge\">\n",
       "<title>66&#45;&gt;67</title>\n",
       "<path fill=\"none\" stroke=\"black\" d=\"M671.77,-2871.6C671.87,-2863.82 671.98,-2854.8 672.09,-2846.26\"/>\n",
       "<polygon fill=\"black\" stroke=\"black\" points=\"675.6,-2846.5 672.23,-2836.46 668.6,-2846.41 675.6,-2846.5\"/>\n",
       "</g>\n",
       "<!-- 70 -->\n",
       "<g id=\"node71\" class=\"node\">\n",
       "<title>70</title>\n",
       "<polygon fill=\"aliceblue\" stroke=\"none\" points=\"644,-2595.5 471,-2595.5 471,-2551.5 644,-2551.5 644,-2595.5\"/>\n",
       "<polygon fill=\"none\" stroke=\"black\" points=\"471,-2551.5 471,-2595.5 517,-2595.5 517,-2551.5 471,-2551.5\"/>\n",
       "<text text-anchor=\"start\" x=\"485\" y=\"-2576.75\" font-family=\"Linux libertine\" font-size=\"10.00\">add</text>\n",
       "<text text-anchor=\"start\" x=\"475.62\" y=\"-2564\" font-family=\"Linux libertine\" font-size=\"10.00\">depth:3</text>\n",
       "<polygon fill=\"none\" stroke=\"black\" points=\"517,-2573.5 517,-2595.5 564,-2595.5 564,-2573.5 517,-2573.5\"/>\n",
       "<text text-anchor=\"start\" x=\"526.62\" y=\"-2581\" font-family=\"Linux libertine\" font-size=\"10.00\">input:</text>\n",
       "<polygon fill=\"none\" stroke=\"black\" points=\"564,-2573.5 564,-2595.5 644,-2595.5 644,-2573.5 564,-2573.5\"/>\n",
       "<text text-anchor=\"start\" x=\"568.75\" y=\"-2581\" font-family=\"Linux libertine\" font-size=\"10.00\">2 x (5, 44, 64) </text>\n",
       "<polygon fill=\"none\" stroke=\"black\" points=\"517,-2551.5 517,-2573.5 564,-2573.5 564,-2551.5 517,-2551.5\"/>\n",
       "<text text-anchor=\"start\" x=\"521.75\" y=\"-2559\" font-family=\"Linux libertine\" font-size=\"10.00\">output: </text>\n",
       "<polygon fill=\"none\" stroke=\"black\" points=\"564,-2551.5 564,-2573.5 644,-2573.5 644,-2551.5 564,-2551.5\"/>\n",
       "<text text-anchor=\"start\" x=\"577.75\" y=\"-2559\" font-family=\"Linux libertine\" font-size=\"10.00\">(5, 44, 64) </text>\n",
       "</g>\n",
       "<!-- 66&#45;&gt;70 -->\n",
       "<g id=\"edge87\" class=\"edge\">\n",
       "<title>66&#45;&gt;70</title>\n",
       "<path fill=\"none\" stroke=\"black\" d=\"M617.99,-2871.55C602.39,-2862.78 586.99,-2850.95 577.5,-2835.5 533.16,-2763.36 542.77,-2657.97 551.29,-2605.94\"/>\n",
       "<polygon fill=\"black\" stroke=\"black\" points=\"554.86,-2606.84 553.12,-2596.39 547.96,-2605.64 554.86,-2606.84\"/>\n",
       "</g>\n",
       "<!-- 68 -->\n",
       "<g id=\"node69\" class=\"node\">\n",
       "<title>68</title>\n",
       "<polygon fill=\"#c1ffc1\" stroke=\"none\" points=\"746,-2755.5 591,-2755.5 591,-2711.5 746,-2711.5 746,-2755.5\"/>\n",
       "<polygon fill=\"none\" stroke=\"black\" points=\"591,-2711.5 591,-2755.5 637,-2755.5 637,-2711.5 591,-2711.5\"/>\n",
       "<text text-anchor=\"start\" x=\"599\" y=\"-2736.75\" font-family=\"Linux libertine\" font-size=\"10.00\">Linear</text>\n",
       "<text text-anchor=\"start\" x=\"595.62\" y=\"-2724\" font-family=\"Linux libertine\" font-size=\"10.00\">depth:3</text>\n",
       "<polygon fill=\"none\" stroke=\"black\" points=\"637,-2733.5 637,-2755.5 684,-2755.5 684,-2733.5 637,-2733.5\"/>\n",
       "<text text-anchor=\"start\" x=\"646.62\" y=\"-2741\" font-family=\"Linux libertine\" font-size=\"10.00\">input:</text>\n",
       "<polygon fill=\"none\" stroke=\"black\" points=\"684,-2733.5 684,-2755.5 746,-2755.5 746,-2733.5 684,-2733.5\"/>\n",
       "<text text-anchor=\"start\" x=\"688.75\" y=\"-2741\" font-family=\"Linux libertine\" font-size=\"10.00\">(5, 44, 64) </text>\n",
       "<polygon fill=\"none\" stroke=\"black\" points=\"637,-2711.5 637,-2733.5 684,-2733.5 684,-2711.5 637,-2711.5\"/>\n",
       "<text text-anchor=\"start\" x=\"641.75\" y=\"-2719\" font-family=\"Linux libertine\" font-size=\"10.00\">output: </text>\n",
       "<polygon fill=\"none\" stroke=\"black\" points=\"684,-2711.5 684,-2733.5 746,-2733.5 746,-2711.5 684,-2711.5\"/>\n",
       "<text text-anchor=\"start\" x=\"688.75\" y=\"-2719\" font-family=\"Linux libertine\" font-size=\"10.00\">(5, 44, 64) </text>\n",
       "</g>\n",
       "<!-- 67&#45;&gt;68 -->\n",
       "<g id=\"edge88\" class=\"edge\">\n",
       "<title>67&#45;&gt;68</title>\n",
       "<path fill=\"none\" stroke=\"black\" d=\"M671.43,-2791.6C671.03,-2783.82 670.57,-2774.8 670.13,-2766.26\"/>\n",
       "<polygon fill=\"black\" stroke=\"black\" points=\"673.58,-2766.27 669.57,-2756.46 666.59,-2766.63 673.58,-2766.27\"/>\n",
       "</g>\n",
       "<!-- 69 -->\n",
       "<g id=\"node70\" class=\"node\">\n",
       "<title>69</title>\n",
       "<polygon fill=\"#c1ffc1\" stroke=\"none\" points=\"744,-2675.5 589,-2675.5 589,-2631.5 744,-2631.5 744,-2675.5\"/>\n",
       "<polygon fill=\"none\" stroke=\"black\" points=\"589,-2631.5 589,-2675.5 635,-2675.5 635,-2631.5 589,-2631.5\"/>\n",
       "<text text-anchor=\"start\" x=\"598.88\" y=\"-2656.75\" font-family=\"Linux libertine\" font-size=\"10.00\">GELU</text>\n",
       "<text text-anchor=\"start\" x=\"593.62\" y=\"-2644\" font-family=\"Linux libertine\" font-size=\"10.00\">depth:3</text>\n",
       "<polygon fill=\"none\" stroke=\"black\" points=\"635,-2653.5 635,-2675.5 682,-2675.5 682,-2653.5 635,-2653.5\"/>\n",
       "<text text-anchor=\"start\" x=\"644.62\" y=\"-2661\" font-family=\"Linux libertine\" font-size=\"10.00\">input:</text>\n",
       "<polygon fill=\"none\" stroke=\"black\" points=\"682,-2653.5 682,-2675.5 744,-2675.5 744,-2653.5 682,-2653.5\"/>\n",
       "<text text-anchor=\"start\" x=\"686.75\" y=\"-2661\" font-family=\"Linux libertine\" font-size=\"10.00\">(5, 44, 64) </text>\n",
       "<polygon fill=\"none\" stroke=\"black\" points=\"635,-2631.5 635,-2653.5 682,-2653.5 682,-2631.5 635,-2631.5\"/>\n",
       "<text text-anchor=\"start\" x=\"639.75\" y=\"-2639\" font-family=\"Linux libertine\" font-size=\"10.00\">output: </text>\n",
       "<polygon fill=\"none\" stroke=\"black\" points=\"682,-2631.5 682,-2653.5 744,-2653.5 744,-2631.5 682,-2631.5\"/>\n",
       "<text text-anchor=\"start\" x=\"686.75\" y=\"-2639\" font-family=\"Linux libertine\" font-size=\"10.00\">(5, 44, 64) </text>\n",
       "</g>\n",
       "<!-- 68&#45;&gt;69 -->\n",
       "<g id=\"edge89\" class=\"edge\">\n",
       "<title>68&#45;&gt;69</title>\n",
       "<path fill=\"none\" stroke=\"black\" d=\"M667.96,-2711.6C667.76,-2703.82 667.53,-2694.8 667.31,-2686.26\"/>\n",
       "<polygon fill=\"black\" stroke=\"black\" points=\"670.79,-2686.37 667.04,-2676.46 663.8,-2686.55 670.79,-2686.37\"/>\n",
       "</g>\n",
       "<!-- 69&#45;&gt;70 -->\n",
       "<g id=\"edge90\" class=\"edge\">\n",
       "<title>69&#45;&gt;70</title>\n",
       "<path fill=\"none\" stroke=\"black\" d=\"M637.29,-2631.6C624.46,-2622.42 609.23,-2611.52 595.53,-2601.71\"/>\n",
       "<polygon fill=\"black\" stroke=\"black\" points=\"597.96,-2598.43 587.79,-2595.46 593.89,-2604.13 597.96,-2598.43\"/>\n",
       "</g>\n",
       "<!-- 71 -->\n",
       "<g id=\"node72\" class=\"node\">\n",
       "<title>71</title>\n",
       "<polygon fill=\"#c1ffc1\" stroke=\"none\" points=\"646,-2515.5 473,-2515.5 473,-2471.5 646,-2471.5 646,-2515.5\"/>\n",
       "<polygon fill=\"none\" stroke=\"black\" points=\"473,-2471.5 473,-2515.5 537,-2515.5 537,-2471.5 473,-2471.5\"/>\n",
       "<text text-anchor=\"start\" x=\"478\" y=\"-2496.75\" font-family=\"Linux libertine\" font-size=\"10.00\">LayerNorm</text>\n",
       "<text text-anchor=\"start\" x=\"486.62\" y=\"-2484\" font-family=\"Linux libertine\" font-size=\"10.00\">depth:3</text>\n",
       "<polygon fill=\"none\" stroke=\"black\" points=\"537,-2493.5 537,-2515.5 584,-2515.5 584,-2493.5 537,-2493.5\"/>\n",
       "<text text-anchor=\"start\" x=\"546.62\" y=\"-2501\" font-family=\"Linux libertine\" font-size=\"10.00\">input:</text>\n",
       "<polygon fill=\"none\" stroke=\"black\" points=\"584,-2493.5 584,-2515.5 646,-2515.5 646,-2493.5 584,-2493.5\"/>\n",
       "<text text-anchor=\"start\" x=\"588.75\" y=\"-2501\" font-family=\"Linux libertine\" font-size=\"10.00\">(5, 44, 64) </text>\n",
       "<polygon fill=\"none\" stroke=\"black\" points=\"537,-2471.5 537,-2493.5 584,-2493.5 584,-2471.5 537,-2471.5\"/>\n",
       "<text text-anchor=\"start\" x=\"541.75\" y=\"-2479\" font-family=\"Linux libertine\" font-size=\"10.00\">output: </text>\n",
       "<polygon fill=\"none\" stroke=\"black\" points=\"584,-2471.5 584,-2493.5 646,-2493.5 646,-2471.5 584,-2471.5\"/>\n",
       "<text text-anchor=\"start\" x=\"588.75\" y=\"-2479\" font-family=\"Linux libertine\" font-size=\"10.00\">(5, 44, 64) </text>\n",
       "</g>\n",
       "<!-- 70&#45;&gt;71 -->\n",
       "<g id=\"edge92\" class=\"edge\">\n",
       "<title>70&#45;&gt;71</title>\n",
       "<path fill=\"none\" stroke=\"black\" d=\"M558.04,-2551.6C558.24,-2543.82 558.47,-2534.8 558.69,-2526.26\"/>\n",
       "<polygon fill=\"black\" stroke=\"black\" points=\"562.2,-2526.55 558.96,-2516.46 555.21,-2526.37 562.2,-2526.55\"/>\n",
       "</g>\n",
       "<!-- 75 -->\n",
       "<g id=\"node76\" class=\"node\">\n",
       "<title>75</title>\n",
       "<polygon fill=\"aliceblue\" stroke=\"none\" points=\"531,-2355.5 358,-2355.5 358,-2311.5 531,-2311.5 531,-2355.5\"/>\n",
       "<polygon fill=\"none\" stroke=\"black\" points=\"358,-2311.5 358,-2355.5 404,-2355.5 404,-2311.5 358,-2311.5\"/>\n",
       "<text text-anchor=\"start\" x=\"372\" y=\"-2336.75\" font-family=\"Linux libertine\" font-size=\"10.00\">add</text>\n",
       "<text text-anchor=\"start\" x=\"362.62\" y=\"-2324\" font-family=\"Linux libertine\" font-size=\"10.00\">depth:3</text>\n",
       "<polygon fill=\"none\" stroke=\"black\" points=\"404,-2333.5 404,-2355.5 451,-2355.5 451,-2333.5 404,-2333.5\"/>\n",
       "<text text-anchor=\"start\" x=\"413.62\" y=\"-2341\" font-family=\"Linux libertine\" font-size=\"10.00\">input:</text>\n",
       "<polygon fill=\"none\" stroke=\"black\" points=\"451,-2333.5 451,-2355.5 531,-2355.5 531,-2333.5 451,-2333.5\"/>\n",
       "<text text-anchor=\"start\" x=\"455.75\" y=\"-2341\" font-family=\"Linux libertine\" font-size=\"10.00\">2 x (5, 44, 64) </text>\n",
       "<polygon fill=\"none\" stroke=\"black\" points=\"404,-2311.5 404,-2333.5 451,-2333.5 451,-2311.5 404,-2311.5\"/>\n",
       "<text text-anchor=\"start\" x=\"408.75\" y=\"-2319\" font-family=\"Linux libertine\" font-size=\"10.00\">output: </text>\n",
       "<polygon fill=\"none\" stroke=\"black\" points=\"451,-2311.5 451,-2333.5 531,-2333.5 531,-2311.5 451,-2311.5\"/>\n",
       "<text text-anchor=\"start\" x=\"464.75\" y=\"-2319\" font-family=\"Linux libertine\" font-size=\"10.00\">(5, 44, 64) </text>\n",
       "</g>\n",
       "<!-- 70&#45;&gt;75 -->\n",
       "<g id=\"edge93\" class=\"edge\">\n",
       "<title>70&#45;&gt;75</title>\n",
       "<path fill=\"none\" stroke=\"black\" d=\"M505.34,-2551.52C489.75,-2542.7 474.24,-2530.85 464.5,-2515.5 435.51,-2469.83 436.34,-2404.35 440.08,-2365.94\"/>\n",
       "<polygon fill=\"black\" stroke=\"black\" points=\"443.62,-2366.73 441.24,-2356.41 436.66,-2365.96 443.62,-2366.73\"/>\n",
       "</g>\n",
       "<!-- 74 -->\n",
       "<g id=\"node75\" class=\"node\">\n",
       "<title>74</title>\n",
       "<polygon fill=\"#c1ffc1\" stroke=\"none\" points=\"746.5,-2435.5 472.5,-2435.5 472.5,-2391.5 746.5,-2391.5 746.5,-2435.5\"/>\n",
       "<polygon fill=\"none\" stroke=\"black\" points=\"472.5,-2391.5 472.5,-2435.5 575.5,-2435.5 575.5,-2391.5 472.5,-2391.5\"/>\n",
       "<text text-anchor=\"start\" x=\"477.12\" y=\"-2416.75\" font-family=\"Linux libertine\" font-size=\"10.00\">MultiheadAttention</text>\n",
       "<text text-anchor=\"start\" x=\"505.62\" y=\"-2404\" font-family=\"Linux libertine\" font-size=\"10.00\">depth:3</text>\n",
       "<polygon fill=\"none\" stroke=\"black\" points=\"575.5,-2413.5 575.5,-2435.5 622.5,-2435.5 622.5,-2413.5 575.5,-2413.5\"/>\n",
       "<text text-anchor=\"start\" x=\"585.12\" y=\"-2421\" font-family=\"Linux libertine\" font-size=\"10.00\">input:</text>\n",
       "<polygon fill=\"none\" stroke=\"black\" points=\"622.5,-2413.5 622.5,-2435.5 746.5,-2435.5 746.5,-2413.5 622.5,-2413.5\"/>\n",
       "<text text-anchor=\"start\" x=\"627.5\" y=\"-2421\" font-family=\"Linux libertine\" font-size=\"10.00\">3 x (5, 44, 64), (44, 44) </text>\n",
       "<polygon fill=\"none\" stroke=\"black\" points=\"575.5,-2391.5 575.5,-2413.5 622.5,-2413.5 622.5,-2391.5 575.5,-2391.5\"/>\n",
       "<text text-anchor=\"start\" x=\"580.25\" y=\"-2399\" font-family=\"Linux libertine\" font-size=\"10.00\">output: </text>\n",
       "<polygon fill=\"none\" stroke=\"black\" points=\"622.5,-2391.5 622.5,-2413.5 746.5,-2413.5 746.5,-2391.5 622.5,-2391.5\"/>\n",
       "<text text-anchor=\"start\" x=\"630.5\" y=\"-2399\" font-family=\"Linux libertine\" font-size=\"10.00\">(5, 44, 64), (5, 44, 44) </text>\n",
       "</g>\n",
       "<!-- 71&#45;&gt;74 -->\n",
       "<g id=\"edge94\" class=\"edge\">\n",
       "<title>71&#45;&gt;74</title>\n",
       "<path fill=\"none\" stroke=\"black\" d=\"M572.9,-2471.6C578.22,-2463.29 584.45,-2453.58 590.24,-2444.54\"/>\n",
       "<polygon fill=\"black\" stroke=\"black\" points=\"593.61,-2446.77 596.06,-2436.46 587.72,-2442.99 593.61,-2446.77\"/>\n",
       "</g>\n",
       "<!-- 72 -->\n",
       "<g id=\"node73\" class=\"node\">\n",
       "<title>72</title>\n",
       "<polygon fill=\"aliceblue\" stroke=\"none\" points=\"807,-2595.5 664,-2595.5 664,-2551.5 807,-2551.5 807,-2595.5\"/>\n",
       "<polygon fill=\"none\" stroke=\"black\" points=\"664,-2551.5 664,-2595.5 710,-2595.5 710,-2551.5 664,-2551.5\"/>\n",
       "<text text-anchor=\"start\" x=\"678.75\" y=\"-2576.75\" font-family=\"Linux libertine\" font-size=\"10.00\">triu</text>\n",
       "<text text-anchor=\"start\" x=\"668.62\" y=\"-2564\" font-family=\"Linux libertine\" font-size=\"10.00\">depth:3</text>\n",
       "<polygon fill=\"none\" stroke=\"black\" points=\"710,-2573.5 710,-2595.5 757,-2595.5 757,-2573.5 710,-2573.5\"/>\n",
       "<text text-anchor=\"start\" x=\"719.62\" y=\"-2581\" font-family=\"Linux libertine\" font-size=\"10.00\">input:</text>\n",
       "<polygon fill=\"none\" stroke=\"black\" points=\"757,-2573.5 757,-2595.5 807,-2595.5 807,-2573.5 757,-2573.5\"/>\n",
       "<text text-anchor=\"start\" x=\"761.75\" y=\"-2581\" font-family=\"Linux libertine\" font-size=\"10.00\">(44, 44) </text>\n",
       "<polygon fill=\"none\" stroke=\"black\" points=\"710,-2551.5 710,-2573.5 757,-2573.5 757,-2551.5 710,-2551.5\"/>\n",
       "<text text-anchor=\"start\" x=\"714.75\" y=\"-2559\" font-family=\"Linux libertine\" font-size=\"10.00\">output: </text>\n",
       "<polygon fill=\"none\" stroke=\"black\" points=\"757,-2551.5 757,-2573.5 807,-2573.5 807,-2551.5 757,-2551.5\"/>\n",
       "<text text-anchor=\"start\" x=\"761.75\" y=\"-2559\" font-family=\"Linux libertine\" font-size=\"10.00\">(44, 44) </text>\n",
       "</g>\n",
       "<!-- 73 -->\n",
       "<g id=\"node74\" class=\"node\">\n",
       "<title>73</title>\n",
       "<polygon fill=\"aliceblue\" stroke=\"none\" points=\"807,-2515.5 664,-2515.5 664,-2471.5 807,-2471.5 807,-2515.5\"/>\n",
       "<polygon fill=\"none\" stroke=\"black\" points=\"664,-2471.5 664,-2515.5 710,-2515.5 710,-2471.5 664,-2471.5\"/>\n",
       "<text text-anchor=\"start\" x=\"682.12\" y=\"-2496.75\" font-family=\"Linux libertine\" font-size=\"10.00\">to</text>\n",
       "<text text-anchor=\"start\" x=\"668.62\" y=\"-2484\" font-family=\"Linux libertine\" font-size=\"10.00\">depth:3</text>\n",
       "<polygon fill=\"none\" stroke=\"black\" points=\"710,-2493.5 710,-2515.5 757,-2515.5 757,-2493.5 710,-2493.5\"/>\n",
       "<text text-anchor=\"start\" x=\"719.62\" y=\"-2501\" font-family=\"Linux libertine\" font-size=\"10.00\">input:</text>\n",
       "<polygon fill=\"none\" stroke=\"black\" points=\"757,-2493.5 757,-2515.5 807,-2515.5 807,-2493.5 757,-2493.5\"/>\n",
       "<text text-anchor=\"start\" x=\"761.75\" y=\"-2501\" font-family=\"Linux libertine\" font-size=\"10.00\">(44, 44) </text>\n",
       "<polygon fill=\"none\" stroke=\"black\" points=\"710,-2471.5 710,-2493.5 757,-2493.5 757,-2471.5 710,-2471.5\"/>\n",
       "<text text-anchor=\"start\" x=\"714.75\" y=\"-2479\" font-family=\"Linux libertine\" font-size=\"10.00\">output: </text>\n",
       "<polygon fill=\"none\" stroke=\"black\" points=\"757,-2471.5 757,-2493.5 807,-2493.5 807,-2471.5 757,-2471.5\"/>\n",
       "<text text-anchor=\"start\" x=\"761.75\" y=\"-2479\" font-family=\"Linux libertine\" font-size=\"10.00\">(44, 44) </text>\n",
       "</g>\n",
       "<!-- 72&#45;&gt;73 -->\n",
       "<g id=\"edge95\" class=\"edge\">\n",
       "<title>72&#45;&gt;73</title>\n",
       "<path fill=\"none\" stroke=\"black\" d=\"M735.5,-2551.6C735.5,-2543.82 735.5,-2534.8 735.5,-2526.26\"/>\n",
       "<polygon fill=\"black\" stroke=\"black\" points=\"739,-2526.46 735.5,-2516.46 732,-2526.46 739,-2526.46\"/>\n",
       "</g>\n",
       "<!-- 73&#45;&gt;74 -->\n",
       "<g id=\"edge96\" class=\"edge\">\n",
       "<title>73&#45;&gt;74</title>\n",
       "<path fill=\"none\" stroke=\"black\" d=\"M701.73,-2471.6C686.62,-2462.24 668.63,-2451.1 652.56,-2441.16\"/>\n",
       "<polygon fill=\"black\" stroke=\"black\" points=\"654.7,-2437.75 644.36,-2435.46 651.02,-2443.7 654.7,-2437.75\"/>\n",
       "</g>\n",
       "<!-- 74&#45;&gt;75 -->\n",
       "<g id=\"edge97\" class=\"edge\">\n",
       "<title>74&#45;&gt;75</title>\n",
       "<path fill=\"none\" stroke=\"black\" d=\"M565.28,-2391.6C544.75,-2381.89 520.16,-2370.27 498.54,-2360.05\"/>\n",
       "<polygon fill=\"black\" stroke=\"black\" points=\"500.38,-2356.57 489.84,-2355.46 497.38,-2362.9 500.38,-2356.57\"/>\n",
       "</g>\n",
       "<!-- 76 -->\n",
       "<g id=\"node77\" class=\"node\">\n",
       "<title>76</title>\n",
       "<polygon fill=\"#c1ffc1\" stroke=\"none\" points=\"535,-2275.5 362,-2275.5 362,-2231.5 535,-2231.5 535,-2275.5\"/>\n",
       "<polygon fill=\"none\" stroke=\"black\" points=\"362,-2231.5 362,-2275.5 426,-2275.5 426,-2231.5 362,-2231.5\"/>\n",
       "<text text-anchor=\"start\" x=\"367\" y=\"-2256.75\" font-family=\"Linux libertine\" font-size=\"10.00\">LayerNorm</text>\n",
       "<text text-anchor=\"start\" x=\"375.62\" y=\"-2244\" font-family=\"Linux libertine\" font-size=\"10.00\">depth:3</text>\n",
       "<polygon fill=\"none\" stroke=\"black\" points=\"426,-2253.5 426,-2275.5 473,-2275.5 473,-2253.5 426,-2253.5\"/>\n",
       "<text text-anchor=\"start\" x=\"435.62\" y=\"-2261\" font-family=\"Linux libertine\" font-size=\"10.00\">input:</text>\n",
       "<polygon fill=\"none\" stroke=\"black\" points=\"473,-2253.5 473,-2275.5 535,-2275.5 535,-2253.5 473,-2253.5\"/>\n",
       "<text text-anchor=\"start\" x=\"477.75\" y=\"-2261\" font-family=\"Linux libertine\" font-size=\"10.00\">(5, 44, 64) </text>\n",
       "<polygon fill=\"none\" stroke=\"black\" points=\"426,-2231.5 426,-2253.5 473,-2253.5 473,-2231.5 426,-2231.5\"/>\n",
       "<text text-anchor=\"start\" x=\"430.75\" y=\"-2239\" font-family=\"Linux libertine\" font-size=\"10.00\">output: </text>\n",
       "<polygon fill=\"none\" stroke=\"black\" points=\"473,-2231.5 473,-2253.5 535,-2253.5 535,-2231.5 473,-2231.5\"/>\n",
       "<text text-anchor=\"start\" x=\"477.75\" y=\"-2239\" font-family=\"Linux libertine\" font-size=\"10.00\">(5, 44, 64) </text>\n",
       "</g>\n",
       "<!-- 75&#45;&gt;76 -->\n",
       "<g id=\"edge98\" class=\"edge\">\n",
       "<title>75&#45;&gt;76</title>\n",
       "<path fill=\"none\" stroke=\"black\" d=\"M445.57,-2311.6C445.97,-2303.82 446.43,-2294.8 446.87,-2286.26\"/>\n",
       "<polygon fill=\"black\" stroke=\"black\" points=\"450.41,-2286.63 447.43,-2276.46 443.42,-2286.27 450.41,-2286.63\"/>\n",
       "</g>\n",
       "<!-- 78 -->\n",
       "<g id=\"node79\" class=\"node\">\n",
       "<title>78</title>\n",
       "<polygon fill=\"aliceblue\" stroke=\"none\" points=\"491,-2115.5 318,-2115.5 318,-2071.5 491,-2071.5 491,-2115.5\"/>\n",
       "<polygon fill=\"none\" stroke=\"black\" points=\"318,-2071.5 318,-2115.5 364,-2115.5 364,-2071.5 318,-2071.5\"/>\n",
       "<text text-anchor=\"start\" x=\"332\" y=\"-2096.75\" font-family=\"Linux libertine\" font-size=\"10.00\">add</text>\n",
       "<text text-anchor=\"start\" x=\"322.62\" y=\"-2084\" font-family=\"Linux libertine\" font-size=\"10.00\">depth:3</text>\n",
       "<polygon fill=\"none\" stroke=\"black\" points=\"364,-2093.5 364,-2115.5 411,-2115.5 411,-2093.5 364,-2093.5\"/>\n",
       "<text text-anchor=\"start\" x=\"373.62\" y=\"-2101\" font-family=\"Linux libertine\" font-size=\"10.00\">input:</text>\n",
       "<polygon fill=\"none\" stroke=\"black\" points=\"411,-2093.5 411,-2115.5 491,-2115.5 491,-2093.5 411,-2093.5\"/>\n",
       "<text text-anchor=\"start\" x=\"415.75\" y=\"-2101\" font-family=\"Linux libertine\" font-size=\"10.00\">2 x (5, 44, 64) </text>\n",
       "<polygon fill=\"none\" stroke=\"black\" points=\"364,-2071.5 364,-2093.5 411,-2093.5 411,-2071.5 364,-2071.5\"/>\n",
       "<text text-anchor=\"start\" x=\"368.75\" y=\"-2079\" font-family=\"Linux libertine\" font-size=\"10.00\">output: </text>\n",
       "<polygon fill=\"none\" stroke=\"black\" points=\"411,-2071.5 411,-2093.5 491,-2093.5 491,-2071.5 411,-2071.5\"/>\n",
       "<text text-anchor=\"start\" x=\"424.75\" y=\"-2079\" font-family=\"Linux libertine\" font-size=\"10.00\">(5, 44, 64) </text>\n",
       "</g>\n",
       "<!-- 75&#45;&gt;78 -->\n",
       "<g id=\"edge99\" class=\"edge\">\n",
       "<title>75&#45;&gt;78</title>\n",
       "<path fill=\"none\" stroke=\"black\" d=\"M402.69,-2311.66C386.15,-2302.11 367.73,-2289.74 353.5,-2275.5 323.87,-2245.84 315.06,-2235.8 303.5,-2195.5 298.11,-2176.7 293.64,-2168.39 303.5,-2151.5 310.89,-2138.84 322.25,-2128.77 334.73,-2120.84\"/>\n",
       "<polygon fill=\"black\" stroke=\"black\" points=\"336.1,-2123.51 342.96,-2115.44 332.56,-2117.46 336.1,-2123.51\"/>\n",
       "</g>\n",
       "<!-- 76&#45;&gt;77 -->\n",
       "<g id=\"edge100\" class=\"edge\">\n",
       "<title>76&#45;&gt;77</title>\n",
       "<path fill=\"none\" stroke=\"black\" d=\"M450.38,-2231.6C451.07,-2223.82 451.88,-2214.8 452.65,-2206.26\"/>\n",
       "<polygon fill=\"black\" stroke=\"black\" points=\"456.21,-2206.73 453.62,-2196.46 449.24,-2206.11 456.21,-2206.73\"/>\n",
       "</g>\n",
       "<!-- 77&#45;&gt;78 -->\n",
       "<g id=\"edge101\" class=\"edge\">\n",
       "<title>77&#45;&gt;78</title>\n",
       "<path fill=\"none\" stroke=\"black\" d=\"M441.83,-2151.6C436.4,-2143.29 430.05,-2133.58 424.14,-2124.54\"/>\n",
       "<polygon fill=\"black\" stroke=\"black\" points=\"426.61,-2122.91 418.2,-2116.46 420.75,-2126.75 426.61,-2122.91\"/>\n",
       "</g>\n",
       "<!-- 79 -->\n",
       "<g id=\"node80\" class=\"node\">\n",
       "<title>79</title>\n",
       "<polygon fill=\"#c1ffc1\" stroke=\"none\" points=\"524,-2035.5 351,-2035.5 351,-1991.5 524,-1991.5 524,-2035.5\"/>\n",
       "<polygon fill=\"none\" stroke=\"black\" points=\"351,-1991.5 351,-2035.5 415,-2035.5 415,-1991.5 351,-1991.5\"/>\n",
       "<text text-anchor=\"start\" x=\"356\" y=\"-2016.75\" font-family=\"Linux libertine\" font-size=\"10.00\">LayerNorm</text>\n",
       "<text text-anchor=\"start\" x=\"364.62\" y=\"-2004\" font-family=\"Linux libertine\" font-size=\"10.00\">depth:3</text>\n",
       "<polygon fill=\"none\" stroke=\"black\" points=\"415,-2013.5 415,-2035.5 462,-2035.5 462,-2013.5 415,-2013.5\"/>\n",
       "<text text-anchor=\"start\" x=\"424.62\" y=\"-2021\" font-family=\"Linux libertine\" font-size=\"10.00\">input:</text>\n",
       "<polygon fill=\"none\" stroke=\"black\" points=\"462,-2013.5 462,-2035.5 524,-2035.5 524,-2013.5 462,-2013.5\"/>\n",
       "<text text-anchor=\"start\" x=\"466.75\" y=\"-2021\" font-family=\"Linux libertine\" font-size=\"10.00\">(5, 44, 64) </text>\n",
       "<polygon fill=\"none\" stroke=\"black\" points=\"415,-1991.5 415,-2013.5 462,-2013.5 462,-1991.5 415,-1991.5\"/>\n",
       "<text text-anchor=\"start\" x=\"419.75\" y=\"-1999\" font-family=\"Linux libertine\" font-size=\"10.00\">output: </text>\n",
       "<polygon fill=\"none\" stroke=\"black\" points=\"462,-1991.5 462,-2013.5 524,-2013.5 524,-1991.5 462,-1991.5\"/>\n",
       "<text text-anchor=\"start\" x=\"466.75\" y=\"-1999\" font-family=\"Linux libertine\" font-size=\"10.00\">(5, 44, 64) </text>\n",
       "</g>\n",
       "<!-- 78&#45;&gt;79 -->\n",
       "<g id=\"edge102\" class=\"edge\">\n",
       "<title>78&#45;&gt;79</title>\n",
       "<path fill=\"none\" stroke=\"black\" d=\"M413.34,-2071.6C416.75,-2063.55 420.71,-2054.19 424.43,-2045.4\"/>\n",
       "<polygon fill=\"black\" stroke=\"black\" points=\"427.96,-2047.03 428.63,-2036.46 421.51,-2044.31 427.96,-2047.03\"/>\n",
       "</g>\n",
       "<!-- 82 -->\n",
       "<g id=\"node83\" class=\"node\">\n",
       "<title>82</title>\n",
       "<polygon fill=\"aliceblue\" stroke=\"none\" points=\"471,-1795.5 298,-1795.5 298,-1751.5 471,-1751.5 471,-1795.5\"/>\n",
       "<polygon fill=\"none\" stroke=\"black\" points=\"298,-1751.5 298,-1795.5 344,-1795.5 344,-1751.5 298,-1751.5\"/>\n",
       "<text text-anchor=\"start\" x=\"312\" y=\"-1776.75\" font-family=\"Linux libertine\" font-size=\"10.00\">add</text>\n",
       "<text text-anchor=\"start\" x=\"302.62\" y=\"-1764\" font-family=\"Linux libertine\" font-size=\"10.00\">depth:3</text>\n",
       "<polygon fill=\"none\" stroke=\"black\" points=\"344,-1773.5 344,-1795.5 391,-1795.5 391,-1773.5 344,-1773.5\"/>\n",
       "<text text-anchor=\"start\" x=\"353.62\" y=\"-1781\" font-family=\"Linux libertine\" font-size=\"10.00\">input:</text>\n",
       "<polygon fill=\"none\" stroke=\"black\" points=\"391,-1773.5 391,-1795.5 471,-1795.5 471,-1773.5 391,-1773.5\"/>\n",
       "<text text-anchor=\"start\" x=\"395.75\" y=\"-1781\" font-family=\"Linux libertine\" font-size=\"10.00\">2 x (5, 44, 64) </text>\n",
       "<polygon fill=\"none\" stroke=\"black\" points=\"344,-1751.5 344,-1773.5 391,-1773.5 391,-1751.5 344,-1751.5\"/>\n",
       "<text text-anchor=\"start\" x=\"348.75\" y=\"-1759\" font-family=\"Linux libertine\" font-size=\"10.00\">output: </text>\n",
       "<polygon fill=\"none\" stroke=\"black\" points=\"391,-1751.5 391,-1773.5 471,-1773.5 471,-1751.5 391,-1751.5\"/>\n",
       "<text text-anchor=\"start\" x=\"404.75\" y=\"-1759\" font-family=\"Linux libertine\" font-size=\"10.00\">(5, 44, 64) </text>\n",
       "</g>\n",
       "<!-- 78&#45;&gt;82 -->\n",
       "<g id=\"edge103\" class=\"edge\">\n",
       "<title>78&#45;&gt;82</title>\n",
       "<path fill=\"none\" stroke=\"black\" d=\"M372.33,-2071.61C360.65,-2062.13 348.79,-2049.83 342.5,-2035.5 329.64,-2006.21 303.1,-1964.14 345.5,-1831.5 348.55,-1821.96 353.76,-1812.57 359.4,-1804.26\"/>\n",
       "<polygon fill=\"black\" stroke=\"black\" points=\"362.81,-1806.52 365.86,-1796.37 357.15,-1802.41 362.81,-1806.52\"/>\n",
       "</g>\n",
       "<!-- 80 -->\n",
       "<g id=\"node81\" class=\"node\">\n",
       "<title>80</title>\n",
       "<polygon fill=\"#c1ffc1\" stroke=\"none\" points=\"511,-1955.5 356,-1955.5 356,-1911.5 511,-1911.5 511,-1955.5\"/>\n",
       "<polygon fill=\"none\" stroke=\"black\" points=\"356,-1911.5 356,-1955.5 402,-1955.5 402,-1911.5 356,-1911.5\"/>\n",
       "<text text-anchor=\"start\" x=\"364\" y=\"-1936.75\" font-family=\"Linux libertine\" font-size=\"10.00\">Linear</text>\n",
       "<text text-anchor=\"start\" x=\"360.62\" y=\"-1924\" font-family=\"Linux libertine\" font-size=\"10.00\">depth:3</text>\n",
       "<polygon fill=\"none\" stroke=\"black\" points=\"402,-1933.5 402,-1955.5 449,-1955.5 449,-1933.5 402,-1933.5\"/>\n",
       "<text text-anchor=\"start\" x=\"411.62\" y=\"-1941\" font-family=\"Linux libertine\" font-size=\"10.00\">input:</text>\n",
       "<polygon fill=\"none\" stroke=\"black\" points=\"449,-1933.5 449,-1955.5 511,-1955.5 511,-1933.5 449,-1933.5\"/>\n",
       "<text text-anchor=\"start\" x=\"453.75\" y=\"-1941\" font-family=\"Linux libertine\" font-size=\"10.00\">(5, 44, 64) </text>\n",
       "<polygon fill=\"none\" stroke=\"black\" points=\"402,-1911.5 402,-1933.5 449,-1933.5 449,-1911.5 402,-1911.5\"/>\n",
       "<text text-anchor=\"start\" x=\"406.75\" y=\"-1919\" font-family=\"Linux libertine\" font-size=\"10.00\">output: </text>\n",
       "<polygon fill=\"none\" stroke=\"black\" points=\"449,-1911.5 449,-1933.5 511,-1933.5 511,-1911.5 449,-1911.5\"/>\n",
       "<text text-anchor=\"start\" x=\"453.75\" y=\"-1919\" font-family=\"Linux libertine\" font-size=\"10.00\">(5, 44, 64) </text>\n",
       "</g>\n",
       "<!-- 79&#45;&gt;80 -->\n",
       "<g id=\"edge104\" class=\"edge\">\n",
       "<title>79&#45;&gt;80</title>\n",
       "<path fill=\"none\" stroke=\"black\" d=\"M436.43,-1991.6C436.03,-1983.82 435.57,-1974.8 435.13,-1966.26\"/>\n",
       "<polygon fill=\"black\" stroke=\"black\" points=\"438.58,-1966.27 434.57,-1956.46 431.59,-1966.63 438.58,-1966.27\"/>\n",
       "</g>\n",
       "<!-- 81 -->\n",
       "<g id=\"node82\" class=\"node\">\n",
       "<title>81</title>\n",
       "<polygon fill=\"#c1ffc1\" stroke=\"none\" points=\"509,-1875.5 354,-1875.5 354,-1831.5 509,-1831.5 509,-1875.5\"/>\n",
       "<polygon fill=\"none\" stroke=\"black\" points=\"354,-1831.5 354,-1875.5 400,-1875.5 400,-1831.5 354,-1831.5\"/>\n",
       "<text text-anchor=\"start\" x=\"363.88\" y=\"-1856.75\" font-family=\"Linux libertine\" font-size=\"10.00\">GELU</text>\n",
       "<text text-anchor=\"start\" x=\"358.62\" y=\"-1844\" font-family=\"Linux libertine\" font-size=\"10.00\">depth:3</text>\n",
       "<polygon fill=\"none\" stroke=\"black\" points=\"400,-1853.5 400,-1875.5 447,-1875.5 447,-1853.5 400,-1853.5\"/>\n",
       "<text text-anchor=\"start\" x=\"409.62\" y=\"-1861\" font-family=\"Linux libertine\" font-size=\"10.00\">input:</text>\n",
       "<polygon fill=\"none\" stroke=\"black\" points=\"447,-1853.5 447,-1875.5 509,-1875.5 509,-1853.5 447,-1853.5\"/>\n",
       "<text text-anchor=\"start\" x=\"451.75\" y=\"-1861\" font-family=\"Linux libertine\" font-size=\"10.00\">(5, 44, 64) </text>\n",
       "<polygon fill=\"none\" stroke=\"black\" points=\"400,-1831.5 400,-1853.5 447,-1853.5 447,-1831.5 400,-1831.5\"/>\n",
       "<text text-anchor=\"start\" x=\"404.75\" y=\"-1839\" font-family=\"Linux libertine\" font-size=\"10.00\">output: </text>\n",
       "<polygon fill=\"none\" stroke=\"black\" points=\"447,-1831.5 447,-1853.5 509,-1853.5 509,-1831.5 447,-1831.5\"/>\n",
       "<text text-anchor=\"start\" x=\"451.75\" y=\"-1839\" font-family=\"Linux libertine\" font-size=\"10.00\">(5, 44, 64) </text>\n",
       "</g>\n",
       "<!-- 80&#45;&gt;81 -->\n",
       "<g id=\"edge105\" class=\"edge\">\n",
       "<title>80&#45;&gt;81</title>\n",
       "<path fill=\"none\" stroke=\"black\" d=\"M432.96,-1911.6C432.76,-1903.82 432.53,-1894.8 432.31,-1886.26\"/>\n",
       "<polygon fill=\"black\" stroke=\"black\" points=\"435.79,-1886.37 432.04,-1876.46 428.8,-1886.55 435.79,-1886.37\"/>\n",
       "</g>\n",
       "<!-- 81&#45;&gt;82 -->\n",
       "<g id=\"edge106\" class=\"edge\">\n",
       "<title>81&#45;&gt;82</title>\n",
       "<path fill=\"none\" stroke=\"black\" d=\"M418.9,-1831.6C413.95,-1823.38 408.17,-1813.78 402.77,-1804.83\"/>\n",
       "<polygon fill=\"black\" stroke=\"black\" points=\"405.29,-1803.22 397.13,-1796.46 399.29,-1806.83 405.29,-1803.22\"/>\n",
       "</g>\n",
       "<!-- 83 -->\n",
       "<g id=\"node84\" class=\"node\">\n",
       "<title>83</title>\n",
       "<polygon fill=\"#c1ffc1\" stroke=\"none\" points=\"530,-1715.5 357,-1715.5 357,-1671.5 530,-1671.5 530,-1715.5\"/>\n",
       "<polygon fill=\"none\" stroke=\"black\" points=\"357,-1671.5 357,-1715.5 421,-1715.5 421,-1671.5 357,-1671.5\"/>\n",
       "<text text-anchor=\"start\" x=\"362\" y=\"-1696.75\" font-family=\"Linux libertine\" font-size=\"10.00\">LayerNorm</text>\n",
       "<text text-anchor=\"start\" x=\"370.62\" y=\"-1684\" font-family=\"Linux libertine\" font-size=\"10.00\">depth:3</text>\n",
       "<polygon fill=\"none\" stroke=\"black\" points=\"421,-1693.5 421,-1715.5 468,-1715.5 468,-1693.5 421,-1693.5\"/>\n",
       "<text text-anchor=\"start\" x=\"430.62\" y=\"-1701\" font-family=\"Linux libertine\" font-size=\"10.00\">input:</text>\n",
       "<polygon fill=\"none\" stroke=\"black\" points=\"468,-1693.5 468,-1715.5 530,-1715.5 530,-1693.5 468,-1693.5\"/>\n",
       "<text text-anchor=\"start\" x=\"472.75\" y=\"-1701\" font-family=\"Linux libertine\" font-size=\"10.00\">(5, 44, 64) </text>\n",
       "<polygon fill=\"none\" stroke=\"black\" points=\"421,-1671.5 421,-1693.5 468,-1693.5 468,-1671.5 421,-1671.5\"/>\n",
       "<text text-anchor=\"start\" x=\"425.75\" y=\"-1679\" font-family=\"Linux libertine\" font-size=\"10.00\">output: </text>\n",
       "<polygon fill=\"none\" stroke=\"black\" points=\"468,-1671.5 468,-1693.5 530,-1693.5 530,-1671.5 468,-1671.5\"/>\n",
       "<text text-anchor=\"start\" x=\"472.75\" y=\"-1679\" font-family=\"Linux libertine\" font-size=\"10.00\">(5, 44, 64) </text>\n",
       "</g>\n",
       "<!-- 82&#45;&gt;83 -->\n",
       "<g id=\"edge108\" class=\"edge\">\n",
       "<title>82&#45;&gt;83</title>\n",
       "<path fill=\"none\" stroke=\"black\" d=\"M400.31,-1751.6C406.73,-1743.12 414.25,-1733.17 421.21,-1723.97\"/>\n",
       "<polygon fill=\"black\" stroke=\"black\" points=\"424.4,-1726.55 427.65,-1716.46 418.82,-1722.32 424.4,-1726.55\"/>\n",
       "</g>\n",
       "<!-- 87 -->\n",
       "<g id=\"node88\" class=\"node\">\n",
       "<title>87</title>\n",
       "<polygon fill=\"aliceblue\" stroke=\"none\" points=\"556,-1555.5 383,-1555.5 383,-1511.5 556,-1511.5 556,-1555.5\"/>\n",
       "<polygon fill=\"none\" stroke=\"black\" points=\"383,-1511.5 383,-1555.5 429,-1555.5 429,-1511.5 383,-1511.5\"/>\n",
       "<text text-anchor=\"start\" x=\"397\" y=\"-1536.75\" font-family=\"Linux libertine\" font-size=\"10.00\">add</text>\n",
       "<text text-anchor=\"start\" x=\"387.62\" y=\"-1524\" font-family=\"Linux libertine\" font-size=\"10.00\">depth:3</text>\n",
       "<polygon fill=\"none\" stroke=\"black\" points=\"429,-1533.5 429,-1555.5 476,-1555.5 476,-1533.5 429,-1533.5\"/>\n",
       "<text text-anchor=\"start\" x=\"438.62\" y=\"-1541\" font-family=\"Linux libertine\" font-size=\"10.00\">input:</text>\n",
       "<polygon fill=\"none\" stroke=\"black\" points=\"476,-1533.5 476,-1555.5 556,-1555.5 556,-1533.5 476,-1533.5\"/>\n",
       "<text text-anchor=\"start\" x=\"480.75\" y=\"-1541\" font-family=\"Linux libertine\" font-size=\"10.00\">2 x (5, 44, 64) </text>\n",
       "<polygon fill=\"none\" stroke=\"black\" points=\"429,-1511.5 429,-1533.5 476,-1533.5 476,-1511.5 429,-1511.5\"/>\n",
       "<text text-anchor=\"start\" x=\"433.75\" y=\"-1519\" font-family=\"Linux libertine\" font-size=\"10.00\">output: </text>\n",
       "<polygon fill=\"none\" stroke=\"black\" points=\"476,-1511.5 476,-1533.5 556,-1533.5 556,-1511.5 476,-1511.5\"/>\n",
       "<text text-anchor=\"start\" x=\"489.75\" y=\"-1519\" font-family=\"Linux libertine\" font-size=\"10.00\">(5, 44, 64) </text>\n",
       "</g>\n",
       "<!-- 82&#45;&gt;87 -->\n",
       "<g id=\"edge109\" class=\"edge\">\n",
       "<title>82&#45;&gt;87</title>\n",
       "<path fill=\"none\" stroke=\"black\" d=\"M367.44,-1751.68C360.11,-1741.44 352.36,-1728.52 348.5,-1715.5 332.85,-1662.66 317.91,-1637.99 347.5,-1591.5 355.81,-1578.44 367.99,-1568.32 381.47,-1560.5\"/>\n",
       "<polygon fill=\"black\" stroke=\"black\" points=\"382.8,-1563.23 389.98,-1555.44 379.51,-1557.05 382.8,-1563.23\"/>\n",
       "</g>\n",
       "<!-- 86 -->\n",
       "<g id=\"node87\" class=\"node\">\n",
       "<title>86</title>\n",
       "<polygon fill=\"#c1ffc1\" stroke=\"none\" points=\"630.5,-1635.5 356.5,-1635.5 356.5,-1591.5 630.5,-1591.5 630.5,-1635.5\"/>\n",
       "<polygon fill=\"none\" stroke=\"black\" points=\"356.5,-1591.5 356.5,-1635.5 459.5,-1635.5 459.5,-1591.5 356.5,-1591.5\"/>\n",
       "<text text-anchor=\"start\" x=\"361.12\" y=\"-1616.75\" font-family=\"Linux libertine\" font-size=\"10.00\">MultiheadAttention</text>\n",
       "<text text-anchor=\"start\" x=\"389.62\" y=\"-1604\" font-family=\"Linux libertine\" font-size=\"10.00\">depth:3</text>\n",
       "<polygon fill=\"none\" stroke=\"black\" points=\"459.5,-1613.5 459.5,-1635.5 506.5,-1635.5 506.5,-1613.5 459.5,-1613.5\"/>\n",
       "<text text-anchor=\"start\" x=\"469.12\" y=\"-1621\" font-family=\"Linux libertine\" font-size=\"10.00\">input:</text>\n",
       "<polygon fill=\"none\" stroke=\"black\" points=\"506.5,-1613.5 506.5,-1635.5 630.5,-1635.5 630.5,-1613.5 506.5,-1613.5\"/>\n",
       "<text text-anchor=\"start\" x=\"511.5\" y=\"-1621\" font-family=\"Linux libertine\" font-size=\"10.00\">3 x (5, 44, 64), (44, 44) </text>\n",
       "<polygon fill=\"none\" stroke=\"black\" points=\"459.5,-1591.5 459.5,-1613.5 506.5,-1613.5 506.5,-1591.5 459.5,-1591.5\"/>\n",
       "<text text-anchor=\"start\" x=\"464.25\" y=\"-1599\" font-family=\"Linux libertine\" font-size=\"10.00\">output: </text>\n",
       "<polygon fill=\"none\" stroke=\"black\" points=\"506.5,-1591.5 506.5,-1613.5 630.5,-1613.5 630.5,-1591.5 506.5,-1591.5\"/>\n",
       "<text text-anchor=\"start\" x=\"514.5\" y=\"-1599\" font-family=\"Linux libertine\" font-size=\"10.00\">(5, 44, 64), (5, 44, 44) </text>\n",
       "</g>\n",
       "<!-- 83&#45;&gt;86 -->\n",
       "<g id=\"edge110\" class=\"edge\">\n",
       "<title>83&#45;&gt;86</title>\n",
       "<path fill=\"none\" stroke=\"black\" d=\"M456.9,-1671.6C462.22,-1663.29 468.45,-1653.58 474.24,-1644.54\"/>\n",
       "<polygon fill=\"black\" stroke=\"black\" points=\"477.61,-1646.77 480.06,-1636.46 471.72,-1642.99 477.61,-1646.77\"/>\n",
       "</g>\n",
       "<!-- 84 -->\n",
       "<g id=\"node85\" class=\"node\">\n",
       "<title>84</title>\n",
       "<polygon fill=\"aliceblue\" stroke=\"none\" points=\"691,-1795.5 548,-1795.5 548,-1751.5 691,-1751.5 691,-1795.5\"/>\n",
       "<polygon fill=\"none\" stroke=\"black\" points=\"548,-1751.5 548,-1795.5 594,-1795.5 594,-1751.5 548,-1751.5\"/>\n",
       "<text text-anchor=\"start\" x=\"562.75\" y=\"-1776.75\" font-family=\"Linux libertine\" font-size=\"10.00\">triu</text>\n",
       "<text text-anchor=\"start\" x=\"552.62\" y=\"-1764\" font-family=\"Linux libertine\" font-size=\"10.00\">depth:3</text>\n",
       "<polygon fill=\"none\" stroke=\"black\" points=\"594,-1773.5 594,-1795.5 641,-1795.5 641,-1773.5 594,-1773.5\"/>\n",
       "<text text-anchor=\"start\" x=\"603.62\" y=\"-1781\" font-family=\"Linux libertine\" font-size=\"10.00\">input:</text>\n",
       "<polygon fill=\"none\" stroke=\"black\" points=\"641,-1773.5 641,-1795.5 691,-1795.5 691,-1773.5 641,-1773.5\"/>\n",
       "<text text-anchor=\"start\" x=\"645.75\" y=\"-1781\" font-family=\"Linux libertine\" font-size=\"10.00\">(44, 44) </text>\n",
       "<polygon fill=\"none\" stroke=\"black\" points=\"594,-1751.5 594,-1773.5 641,-1773.5 641,-1751.5 594,-1751.5\"/>\n",
       "<text text-anchor=\"start\" x=\"598.75\" y=\"-1759\" font-family=\"Linux libertine\" font-size=\"10.00\">output: </text>\n",
       "<polygon fill=\"none\" stroke=\"black\" points=\"641,-1751.5 641,-1773.5 691,-1773.5 691,-1751.5 641,-1751.5\"/>\n",
       "<text text-anchor=\"start\" x=\"645.75\" y=\"-1759\" font-family=\"Linux libertine\" font-size=\"10.00\">(44, 44) </text>\n",
       "</g>\n",
       "<!-- 85 -->\n",
       "<g id=\"node86\" class=\"node\">\n",
       "<title>85</title>\n",
       "<polygon fill=\"aliceblue\" stroke=\"none\" points=\"691,-1715.5 548,-1715.5 548,-1671.5 691,-1671.5 691,-1715.5\"/>\n",
       "<polygon fill=\"none\" stroke=\"black\" points=\"548,-1671.5 548,-1715.5 594,-1715.5 594,-1671.5 548,-1671.5\"/>\n",
       "<text text-anchor=\"start\" x=\"566.12\" y=\"-1696.75\" font-family=\"Linux libertine\" font-size=\"10.00\">to</text>\n",
       "<text text-anchor=\"start\" x=\"552.62\" y=\"-1684\" font-family=\"Linux libertine\" font-size=\"10.00\">depth:3</text>\n",
       "<polygon fill=\"none\" stroke=\"black\" points=\"594,-1693.5 594,-1715.5 641,-1715.5 641,-1693.5 594,-1693.5\"/>\n",
       "<text text-anchor=\"start\" x=\"603.62\" y=\"-1701\" font-family=\"Linux libertine\" font-size=\"10.00\">input:</text>\n",
       "<polygon fill=\"none\" stroke=\"black\" points=\"641,-1693.5 641,-1715.5 691,-1715.5 691,-1693.5 641,-1693.5\"/>\n",
       "<text text-anchor=\"start\" x=\"645.75\" y=\"-1701\" font-family=\"Linux libertine\" font-size=\"10.00\">(44, 44) </text>\n",
       "<polygon fill=\"none\" stroke=\"black\" points=\"594,-1671.5 594,-1693.5 641,-1693.5 641,-1671.5 594,-1671.5\"/>\n",
       "<text text-anchor=\"start\" x=\"598.75\" y=\"-1679\" font-family=\"Linux libertine\" font-size=\"10.00\">output: </text>\n",
       "<polygon fill=\"none\" stroke=\"black\" points=\"641,-1671.5 641,-1693.5 691,-1693.5 691,-1671.5 641,-1671.5\"/>\n",
       "<text text-anchor=\"start\" x=\"645.75\" y=\"-1679\" font-family=\"Linux libertine\" font-size=\"10.00\">(44, 44) </text>\n",
       "</g>\n",
       "<!-- 84&#45;&gt;85 -->\n",
       "<g id=\"edge111\" class=\"edge\">\n",
       "<title>84&#45;&gt;85</title>\n",
       "<path fill=\"none\" stroke=\"black\" d=\"M619.5,-1751.6C619.5,-1743.82 619.5,-1734.8 619.5,-1726.26\"/>\n",
       "<polygon fill=\"black\" stroke=\"black\" points=\"623,-1726.46 619.5,-1716.46 616,-1726.46 623,-1726.46\"/>\n",
       "</g>\n",
       "<!-- 85&#45;&gt;86 -->\n",
       "<g id=\"edge112\" class=\"edge\">\n",
       "<title>85&#45;&gt;86</title>\n",
       "<path fill=\"none\" stroke=\"black\" d=\"M585.73,-1671.6C570.62,-1662.24 552.63,-1651.1 536.56,-1641.16\"/>\n",
       "<polygon fill=\"black\" stroke=\"black\" points=\"538.7,-1637.75 528.36,-1635.46 535.02,-1643.7 538.7,-1637.75\"/>\n",
       "</g>\n",
       "<!-- 86&#45;&gt;87 -->\n",
       "<g id=\"edge113\" class=\"edge\">\n",
       "<title>86&#45;&gt;87</title>\n",
       "<path fill=\"none\" stroke=\"black\" d=\"M487.07,-1591.6C484.62,-1583.64 481.77,-1574.39 479.1,-1565.69\"/>\n",
       "<polygon fill=\"black\" stroke=\"black\" points=\"482.24,-1564.99 475.95,-1556.46 475.55,-1567.05 482.24,-1564.99\"/>\n",
       "</g>\n",
       "<!-- 88 -->\n",
       "<g id=\"node89\" class=\"node\">\n",
       "<title>88</title>\n",
       "<polygon fill=\"#c1ffc1\" stroke=\"none\" points=\"579,-1475.5 406,-1475.5 406,-1431.5 579,-1431.5 579,-1475.5\"/>\n",
       "<polygon fill=\"none\" stroke=\"black\" points=\"406,-1431.5 406,-1475.5 470,-1475.5 470,-1431.5 406,-1431.5\"/>\n",
       "<text text-anchor=\"start\" x=\"411\" y=\"-1456.75\" font-family=\"Linux libertine\" font-size=\"10.00\">LayerNorm</text>\n",
       "<text text-anchor=\"start\" x=\"419.62\" y=\"-1444\" font-family=\"Linux libertine\" font-size=\"10.00\">depth:3</text>\n",
       "<polygon fill=\"none\" stroke=\"black\" points=\"470,-1453.5 470,-1475.5 517,-1475.5 517,-1453.5 470,-1453.5\"/>\n",
       "<text text-anchor=\"start\" x=\"479.62\" y=\"-1461\" font-family=\"Linux libertine\" font-size=\"10.00\">input:</text>\n",
       "<polygon fill=\"none\" stroke=\"black\" points=\"517,-1453.5 517,-1475.5 579,-1475.5 579,-1453.5 517,-1453.5\"/>\n",
       "<text text-anchor=\"start\" x=\"521.75\" y=\"-1461\" font-family=\"Linux libertine\" font-size=\"10.00\">(5, 44, 64) </text>\n",
       "<polygon fill=\"none\" stroke=\"black\" points=\"470,-1431.5 470,-1453.5 517,-1453.5 517,-1431.5 470,-1431.5\"/>\n",
       "<text text-anchor=\"start\" x=\"474.75\" y=\"-1439\" font-family=\"Linux libertine\" font-size=\"10.00\">output: </text>\n",
       "<polygon fill=\"none\" stroke=\"black\" points=\"517,-1431.5 517,-1453.5 579,-1453.5 579,-1431.5 517,-1431.5\"/>\n",
       "<text text-anchor=\"start\" x=\"521.75\" y=\"-1439\" font-family=\"Linux libertine\" font-size=\"10.00\">(5, 44, 64) </text>\n",
       "</g>\n",
       "<!-- 87&#45;&gt;88 -->\n",
       "<g id=\"edge114\" class=\"edge\">\n",
       "<title>87&#45;&gt;88</title>\n",
       "<path fill=\"none\" stroke=\"black\" d=\"M475.66,-1511.6C477.98,-1503.73 480.68,-1494.6 483.22,-1485.97\"/>\n",
       "<polygon fill=\"black\" stroke=\"black\" points=\"486.85,-1487.04 486.32,-1476.46 480.13,-1485.06 486.85,-1487.04\"/>\n",
       "</g>\n",
       "<!-- 90 -->\n",
       "<g id=\"node91\" class=\"node\">\n",
       "<title>90</title>\n",
       "<polygon fill=\"aliceblue\" stroke=\"none\" points=\"607,-1315.5 434,-1315.5 434,-1271.5 607,-1271.5 607,-1315.5\"/>\n",
       "<polygon fill=\"none\" stroke=\"black\" points=\"434,-1271.5 434,-1315.5 480,-1315.5 480,-1271.5 434,-1271.5\"/>\n",
       "<text text-anchor=\"start\" x=\"448\" y=\"-1296.75\" font-family=\"Linux libertine\" font-size=\"10.00\">add</text>\n",
       "<text text-anchor=\"start\" x=\"438.62\" y=\"-1284\" font-family=\"Linux libertine\" font-size=\"10.00\">depth:3</text>\n",
       "<polygon fill=\"none\" stroke=\"black\" points=\"480,-1293.5 480,-1315.5 527,-1315.5 527,-1293.5 480,-1293.5\"/>\n",
       "<text text-anchor=\"start\" x=\"489.62\" y=\"-1301\" font-family=\"Linux libertine\" font-size=\"10.00\">input:</text>\n",
       "<polygon fill=\"none\" stroke=\"black\" points=\"527,-1293.5 527,-1315.5 607,-1315.5 607,-1293.5 527,-1293.5\"/>\n",
       "<text text-anchor=\"start\" x=\"531.75\" y=\"-1301\" font-family=\"Linux libertine\" font-size=\"10.00\">2 x (5, 44, 64) </text>\n",
       "<polygon fill=\"none\" stroke=\"black\" points=\"480,-1271.5 480,-1293.5 527,-1293.5 527,-1271.5 480,-1271.5\"/>\n",
       "<text text-anchor=\"start\" x=\"484.75\" y=\"-1279\" font-family=\"Linux libertine\" font-size=\"10.00\">output: </text>\n",
       "<polygon fill=\"none\" stroke=\"black\" points=\"527,-1271.5 527,-1293.5 607,-1293.5 607,-1271.5 527,-1271.5\"/>\n",
       "<text text-anchor=\"start\" x=\"540.75\" y=\"-1279\" font-family=\"Linux libertine\" font-size=\"10.00\">(5, 44, 64) </text>\n",
       "</g>\n",
       "<!-- 87&#45;&gt;90 -->\n",
       "<g id=\"edge115\" class=\"edge\">\n",
       "<title>87&#45;&gt;90</title>\n",
       "<path fill=\"none\" stroke=\"black\" d=\"M435.59,-1511.65C422.22,-1502.02 407.66,-1489.6 397.5,-1475.5 364.41,-1429.58 336.26,-1398.02 368.5,-1351.5 381.79,-1332.32 402.39,-1319.58 424.18,-1311.12\"/>\n",
       "<polygon fill=\"black\" stroke=\"black\" points=\"425.01,-1314.19 433.25,-1307.53 422.66,-1307.6 425.01,-1314.19\"/>\n",
       "</g>\n",
       "<!-- 88&#45;&gt;89 -->\n",
       "<g id=\"edge116\" class=\"edge\">\n",
       "<title>88&#45;&gt;89</title>\n",
       "<path fill=\"none\" stroke=\"black\" d=\"M500,-1431.6C502.86,-1423.64 506.18,-1414.39 509.3,-1405.69\"/>\n",
       "<polygon fill=\"black\" stroke=\"black\" points=\"512.89,-1407.05 512.98,-1396.46 506.3,-1404.69 512.89,-1407.05\"/>\n",
       "</g>\n",
       "<!-- 89&#45;&gt;90 -->\n",
       "<g id=\"edge117\" class=\"edge\">\n",
       "<title>89&#45;&gt;90</title>\n",
       "<path fill=\"none\" stroke=\"black\" d=\"M520.5,-1351.6C520.5,-1343.82 520.5,-1334.8 520.5,-1326.26\"/>\n",
       "<polygon fill=\"black\" stroke=\"black\" points=\"524,-1326.46 520.5,-1316.46 517,-1326.46 524,-1326.46\"/>\n",
       "</g>\n",
       "<!-- 91 -->\n",
       "<g id=\"node92\" class=\"node\">\n",
       "<title>91</title>\n",
       "<polygon fill=\"#c1ffc1\" stroke=\"none\" points=\"722,-1235.5 549,-1235.5 549,-1191.5 722,-1191.5 722,-1235.5\"/>\n",
       "<polygon fill=\"none\" stroke=\"black\" points=\"549,-1191.5 549,-1235.5 613,-1235.5 613,-1191.5 549,-1191.5\"/>\n",
       "<text text-anchor=\"start\" x=\"554\" y=\"-1216.75\" font-family=\"Linux libertine\" font-size=\"10.00\">LayerNorm</text>\n",
       "<text text-anchor=\"start\" x=\"562.62\" y=\"-1204\" font-family=\"Linux libertine\" font-size=\"10.00\">depth:3</text>\n",
       "<polygon fill=\"none\" stroke=\"black\" points=\"613,-1213.5 613,-1235.5 660,-1235.5 660,-1213.5 613,-1213.5\"/>\n",
       "<text text-anchor=\"start\" x=\"622.62\" y=\"-1221\" font-family=\"Linux libertine\" font-size=\"10.00\">input:</text>\n",
       "<polygon fill=\"none\" stroke=\"black\" points=\"660,-1213.5 660,-1235.5 722,-1235.5 722,-1213.5 660,-1213.5\"/>\n",
       "<text text-anchor=\"start\" x=\"664.75\" y=\"-1221\" font-family=\"Linux libertine\" font-size=\"10.00\">(5, 44, 64) </text>\n",
       "<polygon fill=\"none\" stroke=\"black\" points=\"613,-1191.5 613,-1213.5 660,-1213.5 660,-1191.5 613,-1191.5\"/>\n",
       "<text text-anchor=\"start\" x=\"617.75\" y=\"-1199\" font-family=\"Linux libertine\" font-size=\"10.00\">output: </text>\n",
       "<polygon fill=\"none\" stroke=\"black\" points=\"660,-1191.5 660,-1213.5 722,-1213.5 722,-1191.5 660,-1191.5\"/>\n",
       "<text text-anchor=\"start\" x=\"664.75\" y=\"-1199\" font-family=\"Linux libertine\" font-size=\"10.00\">(5, 44, 64) </text>\n",
       "</g>\n",
       "<!-- 90&#45;&gt;91 -->\n",
       "<g id=\"edge118\" class=\"edge\">\n",
       "<title>90&#45;&gt;91</title>\n",
       "<path fill=\"none\" stroke=\"black\" d=\"M551.32,-1271.6C564.98,-1262.33 581.23,-1251.31 595.79,-1241.44\"/>\n",
       "<polygon fill=\"black\" stroke=\"black\" points=\"597.29,-1243.97 603.6,-1235.46 593.36,-1238.18 597.29,-1243.97\"/>\n",
       "</g>\n",
       "<!-- 94 -->\n",
       "<g id=\"node95\" class=\"node\">\n",
       "<title>94</title>\n",
       "<polygon fill=\"aliceblue\" stroke=\"none\" points=\"722,-995.5 549,-995.5 549,-951.5 722,-951.5 722,-995.5\"/>\n",
       "<polygon fill=\"none\" stroke=\"black\" points=\"549,-951.5 549,-995.5 595,-995.5 595,-951.5 549,-951.5\"/>\n",
       "<text text-anchor=\"start\" x=\"563\" y=\"-976.75\" font-family=\"Linux libertine\" font-size=\"10.00\">add</text>\n",
       "<text text-anchor=\"start\" x=\"553.62\" y=\"-964\" font-family=\"Linux libertine\" font-size=\"10.00\">depth:3</text>\n",
       "<polygon fill=\"none\" stroke=\"black\" points=\"595,-973.5 595,-995.5 642,-995.5 642,-973.5 595,-973.5\"/>\n",
       "<text text-anchor=\"start\" x=\"604.62\" y=\"-981\" font-family=\"Linux libertine\" font-size=\"10.00\">input:</text>\n",
       "<polygon fill=\"none\" stroke=\"black\" points=\"642,-973.5 642,-995.5 722,-995.5 722,-973.5 642,-973.5\"/>\n",
       "<text text-anchor=\"start\" x=\"646.75\" y=\"-981\" font-family=\"Linux libertine\" font-size=\"10.00\">2 x (5, 44, 64) </text>\n",
       "<polygon fill=\"none\" stroke=\"black\" points=\"595,-951.5 595,-973.5 642,-973.5 642,-951.5 595,-951.5\"/>\n",
       "<text text-anchor=\"start\" x=\"599.75\" y=\"-959\" font-family=\"Linux libertine\" font-size=\"10.00\">output: </text>\n",
       "<polygon fill=\"none\" stroke=\"black\" points=\"642,-951.5 642,-973.5 722,-973.5 722,-951.5 642,-951.5\"/>\n",
       "<text text-anchor=\"start\" x=\"655.75\" y=\"-959\" font-family=\"Linux libertine\" font-size=\"10.00\">(5, 44, 64) </text>\n",
       "</g>\n",
       "<!-- 90&#45;&gt;94 -->\n",
       "<g id=\"edge119\" class=\"edge\">\n",
       "<title>90&#45;&gt;94</title>\n",
       "<path fill=\"none\" stroke=\"black\" d=\"M517.24,-1271.67C511.01,-1224.85 501.99,-1109.33 549.5,-1031.5 556.86,-1019.44 567.85,-1009.4 579.54,-1001.28\"/>\n",
       "<polygon fill=\"black\" stroke=\"black\" points=\"581.07,-1003.81 587.56,-995.44 577.26,-997.93 581.07,-1003.81\"/>\n",
       "</g>\n",
       "<!-- 92 -->\n",
       "<g id=\"node93\" class=\"node\">\n",
       "<title>92</title>\n",
       "<polygon fill=\"#c1ffc1\" stroke=\"none\" points=\"713,-1155.5 558,-1155.5 558,-1111.5 713,-1111.5 713,-1155.5\"/>\n",
       "<polygon fill=\"none\" stroke=\"black\" points=\"558,-1111.5 558,-1155.5 604,-1155.5 604,-1111.5 558,-1111.5\"/>\n",
       "<text text-anchor=\"start\" x=\"566\" y=\"-1136.75\" font-family=\"Linux libertine\" font-size=\"10.00\">Linear</text>\n",
       "<text text-anchor=\"start\" x=\"562.62\" y=\"-1124\" font-family=\"Linux libertine\" font-size=\"10.00\">depth:3</text>\n",
       "<polygon fill=\"none\" stroke=\"black\" points=\"604,-1133.5 604,-1155.5 651,-1155.5 651,-1133.5 604,-1133.5\"/>\n",
       "<text text-anchor=\"start\" x=\"613.62\" y=\"-1141\" font-family=\"Linux libertine\" font-size=\"10.00\">input:</text>\n",
       "<polygon fill=\"none\" stroke=\"black\" points=\"651,-1133.5 651,-1155.5 713,-1155.5 713,-1133.5 651,-1133.5\"/>\n",
       "<text text-anchor=\"start\" x=\"655.75\" y=\"-1141\" font-family=\"Linux libertine\" font-size=\"10.00\">(5, 44, 64) </text>\n",
       "<polygon fill=\"none\" stroke=\"black\" points=\"604,-1111.5 604,-1133.5 651,-1133.5 651,-1111.5 604,-1111.5\"/>\n",
       "<text text-anchor=\"start\" x=\"608.75\" y=\"-1119\" font-family=\"Linux libertine\" font-size=\"10.00\">output: </text>\n",
       "<polygon fill=\"none\" stroke=\"black\" points=\"651,-1111.5 651,-1133.5 713,-1133.5 713,-1111.5 651,-1111.5\"/>\n",
       "<text text-anchor=\"start\" x=\"655.75\" y=\"-1119\" font-family=\"Linux libertine\" font-size=\"10.00\">(5, 44, 64) </text>\n",
       "</g>\n",
       "<!-- 91&#45;&gt;92 -->\n",
       "<g id=\"edge120\" class=\"edge\">\n",
       "<title>91&#45;&gt;92</title>\n",
       "<path fill=\"none\" stroke=\"black\" d=\"M635.5,-1191.6C635.5,-1183.82 635.5,-1174.8 635.5,-1166.26\"/>\n",
       "<polygon fill=\"black\" stroke=\"black\" points=\"639,-1166.46 635.5,-1156.46 632,-1166.46 639,-1166.46\"/>\n",
       "</g>\n",
       "<!-- 93 -->\n",
       "<g id=\"node94\" class=\"node\">\n",
       "<title>93</title>\n",
       "<polygon fill=\"#c1ffc1\" stroke=\"none\" points=\"713,-1075.5 558,-1075.5 558,-1031.5 713,-1031.5 713,-1075.5\"/>\n",
       "<polygon fill=\"none\" stroke=\"black\" points=\"558,-1031.5 558,-1075.5 604,-1075.5 604,-1031.5 558,-1031.5\"/>\n",
       "<text text-anchor=\"start\" x=\"567.88\" y=\"-1056.75\" font-family=\"Linux libertine\" font-size=\"10.00\">GELU</text>\n",
       "<text text-anchor=\"start\" x=\"562.62\" y=\"-1044\" font-family=\"Linux libertine\" font-size=\"10.00\">depth:3</text>\n",
       "<polygon fill=\"none\" stroke=\"black\" points=\"604,-1053.5 604,-1075.5 651,-1075.5 651,-1053.5 604,-1053.5\"/>\n",
       "<text text-anchor=\"start\" x=\"613.62\" y=\"-1061\" font-family=\"Linux libertine\" font-size=\"10.00\">input:</text>\n",
       "<polygon fill=\"none\" stroke=\"black\" points=\"651,-1053.5 651,-1075.5 713,-1075.5 713,-1053.5 651,-1053.5\"/>\n",
       "<text text-anchor=\"start\" x=\"655.75\" y=\"-1061\" font-family=\"Linux libertine\" font-size=\"10.00\">(5, 44, 64) </text>\n",
       "<polygon fill=\"none\" stroke=\"black\" points=\"604,-1031.5 604,-1053.5 651,-1053.5 651,-1031.5 604,-1031.5\"/>\n",
       "<text text-anchor=\"start\" x=\"608.75\" y=\"-1039\" font-family=\"Linux libertine\" font-size=\"10.00\">output: </text>\n",
       "<polygon fill=\"none\" stroke=\"black\" points=\"651,-1031.5 651,-1053.5 713,-1053.5 713,-1031.5 651,-1031.5\"/>\n",
       "<text text-anchor=\"start\" x=\"655.75\" y=\"-1039\" font-family=\"Linux libertine\" font-size=\"10.00\">(5, 44, 64) </text>\n",
       "</g>\n",
       "<!-- 92&#45;&gt;93 -->\n",
       "<g id=\"edge121\" class=\"edge\">\n",
       "<title>92&#45;&gt;93</title>\n",
       "<path fill=\"none\" stroke=\"black\" d=\"M635.5,-1111.6C635.5,-1103.82 635.5,-1094.8 635.5,-1086.26\"/>\n",
       "<polygon fill=\"black\" stroke=\"black\" points=\"639,-1086.46 635.5,-1076.46 632,-1086.46 639,-1086.46\"/>\n",
       "</g>\n",
       "<!-- 93&#45;&gt;94 -->\n",
       "<g id=\"edge122\" class=\"edge\">\n",
       "<title>93&#45;&gt;94</title>\n",
       "<path fill=\"none\" stroke=\"black\" d=\"M635.5,-1031.6C635.5,-1023.82 635.5,-1014.8 635.5,-1006.26\"/>\n",
       "<polygon fill=\"black\" stroke=\"black\" points=\"639,-1006.46 635.5,-996.46 632,-1006.46 639,-1006.46\"/>\n",
       "</g>\n",
       "<!-- 95 -->\n",
       "<g id=\"node96\" class=\"node\">\n",
       "<title>95</title>\n",
       "<polygon fill=\"#c1ffc1\" stroke=\"none\" points=\"837,-915.5 664,-915.5 664,-871.5 837,-871.5 837,-915.5\"/>\n",
       "<polygon fill=\"none\" stroke=\"black\" points=\"664,-871.5 664,-915.5 728,-915.5 728,-871.5 664,-871.5\"/>\n",
       "<text text-anchor=\"start\" x=\"669\" y=\"-896.75\" font-family=\"Linux libertine\" font-size=\"10.00\">LayerNorm</text>\n",
       "<text text-anchor=\"start\" x=\"677.62\" y=\"-884\" font-family=\"Linux libertine\" font-size=\"10.00\">depth:3</text>\n",
       "<polygon fill=\"none\" stroke=\"black\" points=\"728,-893.5 728,-915.5 775,-915.5 775,-893.5 728,-893.5\"/>\n",
       "<text text-anchor=\"start\" x=\"737.62\" y=\"-901\" font-family=\"Linux libertine\" font-size=\"10.00\">input:</text>\n",
       "<polygon fill=\"none\" stroke=\"black\" points=\"775,-893.5 775,-915.5 837,-915.5 837,-893.5 775,-893.5\"/>\n",
       "<text text-anchor=\"start\" x=\"779.75\" y=\"-901\" font-family=\"Linux libertine\" font-size=\"10.00\">(5, 44, 64) </text>\n",
       "<polygon fill=\"none\" stroke=\"black\" points=\"728,-871.5 728,-893.5 775,-893.5 775,-871.5 728,-871.5\"/>\n",
       "<text text-anchor=\"start\" x=\"732.75\" y=\"-879\" font-family=\"Linux libertine\" font-size=\"10.00\">output: </text>\n",
       "<polygon fill=\"none\" stroke=\"black\" points=\"775,-871.5 775,-893.5 837,-893.5 837,-871.5 775,-871.5\"/>\n",
       "<text text-anchor=\"start\" x=\"779.75\" y=\"-879\" font-family=\"Linux libertine\" font-size=\"10.00\">(5, 44, 64) </text>\n",
       "</g>\n",
       "<!-- 94&#45;&gt;95 -->\n",
       "<g id=\"edge124\" class=\"edge\">\n",
       "<title>94&#45;&gt;95</title>\n",
       "<path fill=\"none\" stroke=\"black\" d=\"M666.32,-951.6C679.98,-942.33 696.23,-931.31 710.79,-921.44\"/>\n",
       "<polygon fill=\"black\" stroke=\"black\" points=\"712.29,-923.97 718.6,-915.46 708.36,-918.18 712.29,-923.97\"/>\n",
       "</g>\n",
       "<!-- 99 -->\n",
       "<g id=\"node100\" class=\"node\">\n",
       "<title>99</title>\n",
       "<polygon fill=\"aliceblue\" stroke=\"none\" points=\"979,-755.5 806,-755.5 806,-711.5 979,-711.5 979,-755.5\"/>\n",
       "<polygon fill=\"none\" stroke=\"black\" points=\"806,-711.5 806,-755.5 852,-755.5 852,-711.5 806,-711.5\"/>\n",
       "<text text-anchor=\"start\" x=\"820\" y=\"-736.75\" font-family=\"Linux libertine\" font-size=\"10.00\">add</text>\n",
       "<text text-anchor=\"start\" x=\"810.62\" y=\"-724\" font-family=\"Linux libertine\" font-size=\"10.00\">depth:3</text>\n",
       "<polygon fill=\"none\" stroke=\"black\" points=\"852,-733.5 852,-755.5 899,-755.5 899,-733.5 852,-733.5\"/>\n",
       "<text text-anchor=\"start\" x=\"861.62\" y=\"-741\" font-family=\"Linux libertine\" font-size=\"10.00\">input:</text>\n",
       "<polygon fill=\"none\" stroke=\"black\" points=\"899,-733.5 899,-755.5 979,-755.5 979,-733.5 899,-733.5\"/>\n",
       "<text text-anchor=\"start\" x=\"903.75\" y=\"-741\" font-family=\"Linux libertine\" font-size=\"10.00\">2 x (5, 44, 64) </text>\n",
       "<polygon fill=\"none\" stroke=\"black\" points=\"852,-711.5 852,-733.5 899,-733.5 899,-711.5 852,-711.5\"/>\n",
       "<text text-anchor=\"start\" x=\"856.75\" y=\"-719\" font-family=\"Linux libertine\" font-size=\"10.00\">output: </text>\n",
       "<polygon fill=\"none\" stroke=\"black\" points=\"899,-711.5 899,-733.5 979,-733.5 979,-711.5 899,-711.5\"/>\n",
       "<text text-anchor=\"start\" x=\"912.75\" y=\"-719\" font-family=\"Linux libertine\" font-size=\"10.00\">(5, 44, 64) </text>\n",
       "</g>\n",
       "<!-- 94&#45;&gt;99 -->\n",
       "<g id=\"edge125\" class=\"edge\">\n",
       "<title>94&#45;&gt;99</title>\n",
       "<path fill=\"none\" stroke=\"black\" d=\"M635.76,-951.8C636.88,-930.37 641.05,-896.59 655.5,-871.5 687.98,-815.11 753.52,-779.85 807.45,-759.25\"/>\n",
       "<polygon fill=\"black\" stroke=\"black\" points=\"808.56,-762.2 816.73,-755.44 806.13,-755.63 808.56,-762.2\"/>\n",
       "</g>\n",
       "<!-- 98 -->\n",
       "<g id=\"node99\" class=\"node\">\n",
       "<title>98</title>\n",
       "<polygon fill=\"#c1ffc1\" stroke=\"none\" points=\"1029.5,-835.5 755.5,-835.5 755.5,-791.5 1029.5,-791.5 1029.5,-835.5\"/>\n",
       "<polygon fill=\"none\" stroke=\"black\" points=\"755.5,-791.5 755.5,-835.5 858.5,-835.5 858.5,-791.5 755.5,-791.5\"/>\n",
       "<text text-anchor=\"start\" x=\"760.12\" y=\"-816.75\" font-family=\"Linux libertine\" font-size=\"10.00\">MultiheadAttention</text>\n",
       "<text text-anchor=\"start\" x=\"788.62\" y=\"-804\" font-family=\"Linux libertine\" font-size=\"10.00\">depth:3</text>\n",
       "<polygon fill=\"none\" stroke=\"black\" points=\"858.5,-813.5 858.5,-835.5 905.5,-835.5 905.5,-813.5 858.5,-813.5\"/>\n",
       "<text text-anchor=\"start\" x=\"868.12\" y=\"-821\" font-family=\"Linux libertine\" font-size=\"10.00\">input:</text>\n",
       "<polygon fill=\"none\" stroke=\"black\" points=\"905.5,-813.5 905.5,-835.5 1029.5,-835.5 1029.5,-813.5 905.5,-813.5\"/>\n",
       "<text text-anchor=\"start\" x=\"910.5\" y=\"-821\" font-family=\"Linux libertine\" font-size=\"10.00\">3 x (5, 44, 64), (44, 44) </text>\n",
       "<polygon fill=\"none\" stroke=\"black\" points=\"858.5,-791.5 858.5,-813.5 905.5,-813.5 905.5,-791.5 858.5,-791.5\"/>\n",
       "<text text-anchor=\"start\" x=\"863.25\" y=\"-799\" font-family=\"Linux libertine\" font-size=\"10.00\">output: </text>\n",
       "<polygon fill=\"none\" stroke=\"black\" points=\"905.5,-791.5 905.5,-813.5 1029.5,-813.5 1029.5,-791.5 905.5,-791.5\"/>\n",
       "<text text-anchor=\"start\" x=\"913.5\" y=\"-799\" font-family=\"Linux libertine\" font-size=\"10.00\">(5, 44, 64), (5, 44, 44) </text>\n",
       "</g>\n",
       "<!-- 95&#45;&gt;98 -->\n",
       "<g id=\"edge126\" class=\"edge\">\n",
       "<title>95&#45;&gt;98</title>\n",
       "<path fill=\"none\" stroke=\"black\" d=\"M788.55,-871.6C805.82,-862.11 826.44,-850.79 844.73,-840.74\"/>\n",
       "<polygon fill=\"black\" stroke=\"black\" points=\"846.26,-843.34 853.34,-835.46 842.89,-837.21 846.26,-843.34\"/>\n",
       "</g>\n",
       "<!-- 96 -->\n",
       "<g id=\"node97\" class=\"node\">\n",
       "<title>96</title>\n",
       "<polygon fill=\"aliceblue\" stroke=\"none\" points=\"998,-995.5 855,-995.5 855,-951.5 998,-951.5 998,-995.5\"/>\n",
       "<polygon fill=\"none\" stroke=\"black\" points=\"855,-951.5 855,-995.5 901,-995.5 901,-951.5 855,-951.5\"/>\n",
       "<text text-anchor=\"start\" x=\"869.75\" y=\"-976.75\" font-family=\"Linux libertine\" font-size=\"10.00\">triu</text>\n",
       "<text text-anchor=\"start\" x=\"859.62\" y=\"-964\" font-family=\"Linux libertine\" font-size=\"10.00\">depth:3</text>\n",
       "<polygon fill=\"none\" stroke=\"black\" points=\"901,-973.5 901,-995.5 948,-995.5 948,-973.5 901,-973.5\"/>\n",
       "<text text-anchor=\"start\" x=\"910.62\" y=\"-981\" font-family=\"Linux libertine\" font-size=\"10.00\">input:</text>\n",
       "<polygon fill=\"none\" stroke=\"black\" points=\"948,-973.5 948,-995.5 998,-995.5 998,-973.5 948,-973.5\"/>\n",
       "<text text-anchor=\"start\" x=\"952.75\" y=\"-981\" font-family=\"Linux libertine\" font-size=\"10.00\">(44, 44) </text>\n",
       "<polygon fill=\"none\" stroke=\"black\" points=\"901,-951.5 901,-973.5 948,-973.5 948,-951.5 901,-951.5\"/>\n",
       "<text text-anchor=\"start\" x=\"905.75\" y=\"-959\" font-family=\"Linux libertine\" font-size=\"10.00\">output: </text>\n",
       "<polygon fill=\"none\" stroke=\"black\" points=\"948,-951.5 948,-973.5 998,-973.5 998,-951.5 948,-951.5\"/>\n",
       "<text text-anchor=\"start\" x=\"952.75\" y=\"-959\" font-family=\"Linux libertine\" font-size=\"10.00\">(44, 44) </text>\n",
       "</g>\n",
       "<!-- 97 -->\n",
       "<g id=\"node98\" class=\"node\">\n",
       "<title>97</title>\n",
       "<polygon fill=\"aliceblue\" stroke=\"none\" points=\"998,-915.5 855,-915.5 855,-871.5 998,-871.5 998,-915.5\"/>\n",
       "<polygon fill=\"none\" stroke=\"black\" points=\"855,-871.5 855,-915.5 901,-915.5 901,-871.5 855,-871.5\"/>\n",
       "<text text-anchor=\"start\" x=\"873.12\" y=\"-896.75\" font-family=\"Linux libertine\" font-size=\"10.00\">to</text>\n",
       "<text text-anchor=\"start\" x=\"859.62\" y=\"-884\" font-family=\"Linux libertine\" font-size=\"10.00\">depth:3</text>\n",
       "<polygon fill=\"none\" stroke=\"black\" points=\"901,-893.5 901,-915.5 948,-915.5 948,-893.5 901,-893.5\"/>\n",
       "<text text-anchor=\"start\" x=\"910.62\" y=\"-901\" font-family=\"Linux libertine\" font-size=\"10.00\">input:</text>\n",
       "<polygon fill=\"none\" stroke=\"black\" points=\"948,-893.5 948,-915.5 998,-915.5 998,-893.5 948,-893.5\"/>\n",
       "<text text-anchor=\"start\" x=\"952.75\" y=\"-901\" font-family=\"Linux libertine\" font-size=\"10.00\">(44, 44) </text>\n",
       "<polygon fill=\"none\" stroke=\"black\" points=\"901,-871.5 901,-893.5 948,-893.5 948,-871.5 901,-871.5\"/>\n",
       "<text text-anchor=\"start\" x=\"905.75\" y=\"-879\" font-family=\"Linux libertine\" font-size=\"10.00\">output: </text>\n",
       "<polygon fill=\"none\" stroke=\"black\" points=\"948,-871.5 948,-893.5 998,-893.5 998,-871.5 948,-871.5\"/>\n",
       "<text text-anchor=\"start\" x=\"952.75\" y=\"-879\" font-family=\"Linux libertine\" font-size=\"10.00\">(44, 44) </text>\n",
       "</g>\n",
       "<!-- 96&#45;&gt;97 -->\n",
       "<g id=\"edge127\" class=\"edge\">\n",
       "<title>96&#45;&gt;97</title>\n",
       "<path fill=\"none\" stroke=\"black\" d=\"M926.5,-951.6C926.5,-943.82 926.5,-934.8 926.5,-926.26\"/>\n",
       "<polygon fill=\"black\" stroke=\"black\" points=\"930,-926.46 926.5,-916.46 923,-926.46 930,-926.46\"/>\n",
       "</g>\n",
       "<!-- 97&#45;&gt;98 -->\n",
       "<g id=\"edge128\" class=\"edge\">\n",
       "<title>97&#45;&gt;98</title>\n",
       "<path fill=\"none\" stroke=\"black\" d=\"M917.39,-871.6C913.88,-863.55 909.8,-854.19 905.97,-845.4\"/>\n",
       "<polygon fill=\"black\" stroke=\"black\" points=\"908.84,-844.23 901.64,-836.46 902.42,-847.03 908.84,-844.23\"/>\n",
       "</g>\n",
       "<!-- 98&#45;&gt;99 -->\n",
       "<g id=\"edge129\" class=\"edge\">\n",
       "<title>98&#45;&gt;99</title>\n",
       "<path fill=\"none\" stroke=\"black\" d=\"M892.5,-791.6C892.5,-783.82 892.5,-774.8 892.5,-766.26\"/>\n",
       "<polygon fill=\"black\" stroke=\"black\" points=\"896,-766.46 892.5,-756.46 889,-766.46 896,-766.46\"/>\n",
       "</g>\n",
       "<!-- 100 -->\n",
       "<g id=\"node101\" class=\"node\">\n",
       "<title>100</title>\n",
       "<polygon fill=\"#c1ffc1\" stroke=\"none\" points=\"1262,-675.5 1089,-675.5 1089,-631.5 1262,-631.5 1262,-675.5\"/>\n",
       "<polygon fill=\"none\" stroke=\"black\" points=\"1089,-631.5 1089,-675.5 1153,-675.5 1153,-631.5 1089,-631.5\"/>\n",
       "<text text-anchor=\"start\" x=\"1094\" y=\"-656.75\" font-family=\"Linux libertine\" font-size=\"10.00\">LayerNorm</text>\n",
       "<text text-anchor=\"start\" x=\"1102.62\" y=\"-644\" font-family=\"Linux libertine\" font-size=\"10.00\">depth:3</text>\n",
       "<polygon fill=\"none\" stroke=\"black\" points=\"1153,-653.5 1153,-675.5 1200,-675.5 1200,-653.5 1153,-653.5\"/>\n",
       "<text text-anchor=\"start\" x=\"1162.62\" y=\"-661\" font-family=\"Linux libertine\" font-size=\"10.00\">input:</text>\n",
       "<polygon fill=\"none\" stroke=\"black\" points=\"1200,-653.5 1200,-675.5 1262,-675.5 1262,-653.5 1200,-653.5\"/>\n",
       "<text text-anchor=\"start\" x=\"1204.75\" y=\"-661\" font-family=\"Linux libertine\" font-size=\"10.00\">(5, 44, 64) </text>\n",
       "<polygon fill=\"none\" stroke=\"black\" points=\"1153,-631.5 1153,-653.5 1200,-653.5 1200,-631.5 1153,-631.5\"/>\n",
       "<text text-anchor=\"start\" x=\"1157.75\" y=\"-639\" font-family=\"Linux libertine\" font-size=\"10.00\">output: </text>\n",
       "<polygon fill=\"none\" stroke=\"black\" points=\"1200,-631.5 1200,-653.5 1262,-653.5 1262,-631.5 1200,-631.5\"/>\n",
       "<text text-anchor=\"start\" x=\"1204.75\" y=\"-639\" font-family=\"Linux libertine\" font-size=\"10.00\">(5, 44, 64) </text>\n",
       "</g>\n",
       "<!-- 99&#45;&gt;100 -->\n",
       "<g id=\"edge130\" class=\"edge\">\n",
       "<title>99&#45;&gt;100</title>\n",
       "<path fill=\"none\" stroke=\"black\" d=\"M968.34,-711.6C1005.61,-701.32 1050.7,-688.9 1089.28,-678.27\"/>\n",
       "<polygon fill=\"black\" stroke=\"black\" points=\"1089.74,-681.49 1098.45,-675.46 1087.88,-674.74 1089.74,-681.49\"/>\n",
       "</g>\n",
       "<!-- 102 -->\n",
       "<g id=\"node103\" class=\"node\">\n",
       "<title>102</title>\n",
       "<polygon fill=\"aliceblue\" stroke=\"none\" points=\"1064,-515.5 891,-515.5 891,-471.5 1064,-471.5 1064,-515.5\"/>\n",
       "<polygon fill=\"none\" stroke=\"black\" points=\"891,-471.5 891,-515.5 937,-515.5 937,-471.5 891,-471.5\"/>\n",
       "<text text-anchor=\"start\" x=\"905\" y=\"-496.75\" font-family=\"Linux libertine\" font-size=\"10.00\">add</text>\n",
       "<text text-anchor=\"start\" x=\"895.62\" y=\"-484\" font-family=\"Linux libertine\" font-size=\"10.00\">depth:3</text>\n",
       "<polygon fill=\"none\" stroke=\"black\" points=\"937,-493.5 937,-515.5 984,-515.5 984,-493.5 937,-493.5\"/>\n",
       "<text text-anchor=\"start\" x=\"946.62\" y=\"-501\" font-family=\"Linux libertine\" font-size=\"10.00\">input:</text>\n",
       "<polygon fill=\"none\" stroke=\"black\" points=\"984,-493.5 984,-515.5 1064,-515.5 1064,-493.5 984,-493.5\"/>\n",
       "<text text-anchor=\"start\" x=\"988.75\" y=\"-501\" font-family=\"Linux libertine\" font-size=\"10.00\">2 x (5, 44, 64) </text>\n",
       "<polygon fill=\"none\" stroke=\"black\" points=\"937,-471.5 937,-493.5 984,-493.5 984,-471.5 937,-471.5\"/>\n",
       "<text text-anchor=\"start\" x=\"941.75\" y=\"-479\" font-family=\"Linux libertine\" font-size=\"10.00\">output: </text>\n",
       "<polygon fill=\"none\" stroke=\"black\" points=\"984,-471.5 984,-493.5 1064,-493.5 1064,-471.5 984,-471.5\"/>\n",
       "<text text-anchor=\"start\" x=\"997.75\" y=\"-479\" font-family=\"Linux libertine\" font-size=\"10.00\">(5, 44, 64) </text>\n",
       "</g>\n",
       "<!-- 99&#45;&gt;102 -->\n",
       "<g id=\"edge131\" class=\"edge\">\n",
       "<title>99&#45;&gt;102</title>\n",
       "<path fill=\"none\" stroke=\"black\" d=\"M889.93,-711.55C886.61,-676.31 884.14,-603.87 911.5,-551.5 917.3,-540.4 926.25,-530.51 935.7,-522.22\"/>\n",
       "<polygon fill=\"black\" stroke=\"black\" points=\"937.56,-524.41 943.08,-515.36 933.12,-518.99 937.56,-524.41\"/>\n",
       "</g>\n",
       "<!-- 100&#45;&gt;101 -->\n",
       "<g id=\"edge132\" class=\"edge\">\n",
       "<title>100&#45;&gt;101</title>\n",
       "<path fill=\"none\" stroke=\"black\" d=\"M1145.49,-631.6C1132.3,-622.42 1116.65,-611.52 1102.58,-601.71\"/>\n",
       "<polygon fill=\"black\" stroke=\"black\" points=\"1104.8,-598.3 1094.6,-595.46 1100.8,-604.05 1104.8,-598.3\"/>\n",
       "</g>\n",
       "<!-- 101&#45;&gt;102 -->\n",
       "<g id=\"edge133\" class=\"edge\">\n",
       "<title>101&#45;&gt;102</title>\n",
       "<path fill=\"none\" stroke=\"black\" d=\"M1040.45,-551.6C1030.72,-542.77 1019.23,-532.35 1008.75,-522.84\"/>\n",
       "<polygon fill=\"black\" stroke=\"black\" points=\"1011.37,-520.59 1001.61,-516.46 1006.67,-525.77 1011.37,-520.59\"/>\n",
       "</g>\n",
       "<!-- 103 -->\n",
       "<g id=\"node104\" class=\"node\">\n",
       "<title>103</title>\n",
       "<polygon fill=\"#c1ffc1\" stroke=\"none\" points=\"1122,-435.5 949,-435.5 949,-391.5 1122,-391.5 1122,-435.5\"/>\n",
       "<polygon fill=\"none\" stroke=\"black\" points=\"949,-391.5 949,-435.5 1013,-435.5 1013,-391.5 949,-391.5\"/>\n",
       "<text text-anchor=\"start\" x=\"954\" y=\"-416.75\" font-family=\"Linux libertine\" font-size=\"10.00\">LayerNorm</text>\n",
       "<text text-anchor=\"start\" x=\"962.62\" y=\"-404\" font-family=\"Linux libertine\" font-size=\"10.00\">depth:3</text>\n",
       "<polygon fill=\"none\" stroke=\"black\" points=\"1013,-413.5 1013,-435.5 1060,-435.5 1060,-413.5 1013,-413.5\"/>\n",
       "<text text-anchor=\"start\" x=\"1022.62\" y=\"-421\" font-family=\"Linux libertine\" font-size=\"10.00\">input:</text>\n",
       "<polygon fill=\"none\" stroke=\"black\" points=\"1060,-413.5 1060,-435.5 1122,-435.5 1122,-413.5 1060,-413.5\"/>\n",
       "<text text-anchor=\"start\" x=\"1064.75\" y=\"-421\" font-family=\"Linux libertine\" font-size=\"10.00\">(5, 44, 64) </text>\n",
       "<polygon fill=\"none\" stroke=\"black\" points=\"1013,-391.5 1013,-413.5 1060,-413.5 1060,-391.5 1013,-391.5\"/>\n",
       "<text text-anchor=\"start\" x=\"1017.75\" y=\"-399\" font-family=\"Linux libertine\" font-size=\"10.00\">output: </text>\n",
       "<polygon fill=\"none\" stroke=\"black\" points=\"1060,-391.5 1060,-413.5 1122,-413.5 1122,-391.5 1060,-391.5\"/>\n",
       "<text text-anchor=\"start\" x=\"1064.75\" y=\"-399\" font-family=\"Linux libertine\" font-size=\"10.00\">(5, 44, 64) </text>\n",
       "</g>\n",
       "<!-- 102&#45;&gt;103 -->\n",
       "<g id=\"edge134\" class=\"edge\">\n",
       "<title>102&#45;&gt;103</title>\n",
       "<path fill=\"none\" stroke=\"black\" d=\"M993.04,-471.6C999.28,-463.2 1006.59,-453.37 1013.37,-444.26\"/>\n",
       "<polygon fill=\"black\" stroke=\"black\" points=\"1016.76,-446.57 1019.91,-436.46 1011.14,-442.4 1016.76,-446.57\"/>\n",
       "</g>\n",
       "<!-- 106 -->\n",
       "<g id=\"node107\" class=\"node\">\n",
       "<title>106</title>\n",
       "<polygon fill=\"aliceblue\" stroke=\"none\" points=\"1060,-195.5 887,-195.5 887,-151.5 1060,-151.5 1060,-195.5\"/>\n",
       "<polygon fill=\"none\" stroke=\"black\" points=\"887,-151.5 887,-195.5 933,-195.5 933,-151.5 887,-151.5\"/>\n",
       "<text text-anchor=\"start\" x=\"901\" y=\"-176.75\" font-family=\"Linux libertine\" font-size=\"10.00\">add</text>\n",
       "<text text-anchor=\"start\" x=\"891.62\" y=\"-164\" font-family=\"Linux libertine\" font-size=\"10.00\">depth:3</text>\n",
       "<polygon fill=\"none\" stroke=\"black\" points=\"933,-173.5 933,-195.5 980,-195.5 980,-173.5 933,-173.5\"/>\n",
       "<text text-anchor=\"start\" x=\"942.62\" y=\"-181\" font-family=\"Linux libertine\" font-size=\"10.00\">input:</text>\n",
       "<polygon fill=\"none\" stroke=\"black\" points=\"980,-173.5 980,-195.5 1060,-195.5 1060,-173.5 980,-173.5\"/>\n",
       "<text text-anchor=\"start\" x=\"984.75\" y=\"-181\" font-family=\"Linux libertine\" font-size=\"10.00\">2 x (5, 44, 64) </text>\n",
       "<polygon fill=\"none\" stroke=\"black\" points=\"933,-151.5 933,-173.5 980,-173.5 980,-151.5 933,-151.5\"/>\n",
       "<text text-anchor=\"start\" x=\"937.75\" y=\"-159\" font-family=\"Linux libertine\" font-size=\"10.00\">output: </text>\n",
       "<polygon fill=\"none\" stroke=\"black\" points=\"980,-151.5 980,-173.5 1060,-173.5 1060,-151.5 980,-151.5\"/>\n",
       "<text text-anchor=\"start\" x=\"993.75\" y=\"-159\" font-family=\"Linux libertine\" font-size=\"10.00\">(5, 44, 64) </text>\n",
       "</g>\n",
       "<!-- 102&#45;&gt;106 -->\n",
       "<g id=\"edge135\" class=\"edge\">\n",
       "<title>102&#45;&gt;106</title>\n",
       "<path fill=\"none\" stroke=\"black\" d=\"M959.7,-471.51C952.21,-461.33 944.35,-448.51 940.5,-435.5 930.66,-402.28 914.54,-349.92 944.5,-231.5 946.78,-222.47 950.69,-213.24 954.9,-204.9\"/>\n",
       "<polygon fill=\"black\" stroke=\"black\" points=\"958.44,-206.72 960.11,-196.26 952.28,-203.4 958.44,-206.72\"/>\n",
       "</g>\n",
       "<!-- 104 -->\n",
       "<g id=\"node105\" class=\"node\">\n",
       "<title>104</title>\n",
       "<polygon fill=\"#c1ffc1\" stroke=\"none\" points=\"1110,-355.5 955,-355.5 955,-311.5 1110,-311.5 1110,-355.5\"/>\n",
       "<polygon fill=\"none\" stroke=\"black\" points=\"955,-311.5 955,-355.5 1001,-355.5 1001,-311.5 955,-311.5\"/>\n",
       "<text text-anchor=\"start\" x=\"963\" y=\"-336.75\" font-family=\"Linux libertine\" font-size=\"10.00\">Linear</text>\n",
       "<text text-anchor=\"start\" x=\"959.62\" y=\"-324\" font-family=\"Linux libertine\" font-size=\"10.00\">depth:3</text>\n",
       "<polygon fill=\"none\" stroke=\"black\" points=\"1001,-333.5 1001,-355.5 1048,-355.5 1048,-333.5 1001,-333.5\"/>\n",
       "<text text-anchor=\"start\" x=\"1010.62\" y=\"-341\" font-family=\"Linux libertine\" font-size=\"10.00\">input:</text>\n",
       "<polygon fill=\"none\" stroke=\"black\" points=\"1048,-333.5 1048,-355.5 1110,-355.5 1110,-333.5 1048,-333.5\"/>\n",
       "<text text-anchor=\"start\" x=\"1052.75\" y=\"-341\" font-family=\"Linux libertine\" font-size=\"10.00\">(5, 44, 64) </text>\n",
       "<polygon fill=\"none\" stroke=\"black\" points=\"1001,-311.5 1001,-333.5 1048,-333.5 1048,-311.5 1001,-311.5\"/>\n",
       "<text text-anchor=\"start\" x=\"1005.75\" y=\"-319\" font-family=\"Linux libertine\" font-size=\"10.00\">output: </text>\n",
       "<polygon fill=\"none\" stroke=\"black\" points=\"1048,-311.5 1048,-333.5 1110,-333.5 1110,-311.5 1048,-311.5\"/>\n",
       "<text text-anchor=\"start\" x=\"1052.75\" y=\"-319\" font-family=\"Linux libertine\" font-size=\"10.00\">(5, 44, 64) </text>\n",
       "</g>\n",
       "<!-- 103&#45;&gt;104 -->\n",
       "<g id=\"edge136\" class=\"edge\">\n",
       "<title>103&#45;&gt;104</title>\n",
       "<path fill=\"none\" stroke=\"black\" d=\"M1034.7,-391.6C1034.4,-383.82 1034.05,-374.8 1033.72,-366.26\"/>\n",
       "<polygon fill=\"black\" stroke=\"black\" points=\"1037.19,-366.32 1033.31,-356.46 1030.19,-366.59 1037.19,-366.32\"/>\n",
       "</g>\n",
       "<!-- 105 -->\n",
       "<g id=\"node106\" class=\"node\">\n",
       "<title>105</title>\n",
       "<polygon fill=\"#c1ffc1\" stroke=\"none\" points=\"1108,-275.5 953,-275.5 953,-231.5 1108,-231.5 1108,-275.5\"/>\n",
       "<polygon fill=\"none\" stroke=\"black\" points=\"953,-231.5 953,-275.5 999,-275.5 999,-231.5 953,-231.5\"/>\n",
       "<text text-anchor=\"start\" x=\"962.88\" y=\"-256.75\" font-family=\"Linux libertine\" font-size=\"10.00\">GELU</text>\n",
       "<text text-anchor=\"start\" x=\"957.62\" y=\"-244\" font-family=\"Linux libertine\" font-size=\"10.00\">depth:3</text>\n",
       "<polygon fill=\"none\" stroke=\"black\" points=\"999,-253.5 999,-275.5 1046,-275.5 1046,-253.5 999,-253.5\"/>\n",
       "<text text-anchor=\"start\" x=\"1008.62\" y=\"-261\" font-family=\"Linux libertine\" font-size=\"10.00\">input:</text>\n",
       "<polygon fill=\"none\" stroke=\"black\" points=\"1046,-253.5 1046,-275.5 1108,-275.5 1108,-253.5 1046,-253.5\"/>\n",
       "<text text-anchor=\"start\" x=\"1050.75\" y=\"-261\" font-family=\"Linux libertine\" font-size=\"10.00\">(5, 44, 64) </text>\n",
       "<polygon fill=\"none\" stroke=\"black\" points=\"999,-231.5 999,-253.5 1046,-253.5 1046,-231.5 999,-231.5\"/>\n",
       "<text text-anchor=\"start\" x=\"1003.75\" y=\"-239\" font-family=\"Linux libertine\" font-size=\"10.00\">output: </text>\n",
       "<polygon fill=\"none\" stroke=\"black\" points=\"1046,-231.5 1046,-253.5 1108,-253.5 1108,-231.5 1046,-231.5\"/>\n",
       "<text text-anchor=\"start\" x=\"1050.75\" y=\"-239\" font-family=\"Linux libertine\" font-size=\"10.00\">(5, 44, 64) </text>\n",
       "</g>\n",
       "<!-- 104&#45;&gt;105 -->\n",
       "<g id=\"edge137\" class=\"edge\">\n",
       "<title>104&#45;&gt;105</title>\n",
       "<path fill=\"none\" stroke=\"black\" d=\"M1031.96,-311.6C1031.76,-303.82 1031.53,-294.8 1031.31,-286.26\"/>\n",
       "<polygon fill=\"black\" stroke=\"black\" points=\"1034.79,-286.37 1031.04,-276.46 1027.8,-286.55 1034.79,-286.37\"/>\n",
       "</g>\n",
       "<!-- 105&#45;&gt;106 -->\n",
       "<g id=\"edge138\" class=\"edge\">\n",
       "<title>105&#45;&gt;106</title>\n",
       "<path fill=\"none\" stroke=\"black\" d=\"M1015.23,-231.6C1009.09,-223.2 1001.91,-213.37 995.25,-204.26\"/>\n",
       "<polygon fill=\"black\" stroke=\"black\" points=\"997.54,-202.47 988.82,-196.46 991.89,-206.6 997.54,-202.47\"/>\n",
       "</g>\n",
       "<!-- 107 -->\n",
       "<g id=\"node108\" class=\"node\">\n",
       "<title>107</title>\n",
       "<polygon fill=\"#c1ffc1\" stroke=\"none\" points=\"1051,-115.5 896,-115.5 896,-71.5 1051,-71.5 1051,-115.5\"/>\n",
       "<polygon fill=\"none\" stroke=\"black\" points=\"896,-71.5 896,-115.5 942,-115.5 942,-71.5 896,-71.5\"/>\n",
       "<text text-anchor=\"start\" x=\"904\" y=\"-96.75\" font-family=\"Linux libertine\" font-size=\"10.00\">Linear</text>\n",
       "<text text-anchor=\"start\" x=\"900.62\" y=\"-84\" font-family=\"Linux libertine\" font-size=\"10.00\">depth:1</text>\n",
       "<polygon fill=\"none\" stroke=\"black\" points=\"942,-93.5 942,-115.5 989,-115.5 989,-93.5 942,-93.5\"/>\n",
       "<text text-anchor=\"start\" x=\"951.62\" y=\"-101\" font-family=\"Linux libertine\" font-size=\"10.00\">input:</text>\n",
       "<polygon fill=\"none\" stroke=\"black\" points=\"989,-93.5 989,-115.5 1051,-115.5 1051,-93.5 989,-93.5\"/>\n",
       "<text text-anchor=\"start\" x=\"993.75\" y=\"-101\" font-family=\"Linux libertine\" font-size=\"10.00\">(5, 44, 64) </text>\n",
       "<polygon fill=\"none\" stroke=\"black\" points=\"942,-71.5 942,-93.5 989,-93.5 989,-71.5 942,-71.5\"/>\n",
       "<text text-anchor=\"start\" x=\"946.75\" y=\"-79\" font-family=\"Linux libertine\" font-size=\"10.00\">output: </text>\n",
       "<polygon fill=\"none\" stroke=\"black\" points=\"989,-71.5 989,-93.5 1051,-93.5 1051,-71.5 989,-71.5\"/>\n",
       "<text text-anchor=\"start\" x=\"993.75\" y=\"-79\" font-family=\"Linux libertine\" font-size=\"10.00\">(5, 44, 87) </text>\n",
       "</g>\n",
       "<!-- 106&#45;&gt;107 -->\n",
       "<g id=\"edge139\" class=\"edge\">\n",
       "<title>106&#45;&gt;107</title>\n",
       "<path fill=\"none\" stroke=\"black\" d=\"M973.5,-151.6C973.5,-143.82 973.5,-134.8 973.5,-126.26\"/>\n",
       "<polygon fill=\"black\" stroke=\"black\" points=\"977,-126.46 973.5,-116.46 970,-126.46 977,-126.46\"/>\n",
       "</g>\n",
       "<!-- 108 -->\n",
       "<g id=\"node109\" class=\"node\">\n",
       "<title>108</title>\n",
       "<polygon fill=\"lightyellow\" stroke=\"none\" points=\"1041.25,-35.5 905.75,-35.5 905.75,0 1041.25,0 1041.25,-35.5\"/>\n",
       "<polygon fill=\"none\" stroke=\"black\" points=\"905.75,0 905.75,-35.5 981.75,-35.5 981.75,0 905.75,0\"/>\n",
       "<text text-anchor=\"start\" x=\"910.75\" y=\"-21\" font-family=\"Linux libertine\" font-size=\"10.00\">output&#45;tensor</text>\n",
       "<text text-anchor=\"start\" x=\"925.38\" y=\"-8.25\" font-family=\"Linux libertine\" font-size=\"10.00\">depth:0</text>\n",
       "<polygon fill=\"none\" stroke=\"black\" points=\"981.75,0 981.75,-35.5 1041.25,-35.5 1041.25,0 981.75,0\"/>\n",
       "<text text-anchor=\"start\" x=\"986.75\" y=\"-14.62\" font-family=\"Linux libertine\" font-size=\"10.00\">(5, 44, 87)</text>\n",
       "</g>\n",
       "<!-- 107&#45;&gt;108 -->\n",
       "<g id=\"edge140\" class=\"edge\">\n",
       "<title>107&#45;&gt;108</title>\n",
       "<path fill=\"none\" stroke=\"black\" d=\"M973.5,-71.56C973.5,-63.6 973.5,-54.41 973.5,-45.95\"/>\n",
       "<polygon fill=\"black\" stroke=\"black\" points=\"977,-46.05 973.5,-36.05 970,-46.05 977,-46.05\"/>\n",
       "</g>\n",
       "</g>\n",
       "</svg>\n"
      ],
      "text/plain": [
       "<graphviz.graphs.Digraph at 0x7f93a89c7e90>"
      ]
     },
     "execution_count": 128,
     "metadata": {},
     "output_type": "execute_result"
    }
   ],
   "source": [
    "model_graph = draw_graph(dec_net,\n",
    "                         input_data=[enc_net(torch.Tensor(enc_x_train[0:5]).long().to(device)), torch.Tensor(dec_x_train[0:5]).long()],\n",
    "                         device=device,\n",
    "                         hide_inner_tensors=True,\n",
    "                         hide_module_functions=True,\n",
    "                         expand_nested=False,\n",
    "                         depth=3,\n",
    "                         dtypes=[torch.long])\n",
    "\n",
    "model_graph.visual_graph"
   ]
  },
  {
   "cell_type": "code",
   "execution_count": 129,
   "id": "8d727be7-c0e3-472c-946a-ffbb436de0a4",
   "metadata": {},
   "outputs": [],
   "source": [
    "class EncDecLightningModule(pl.LightningModule):\n",
    "    def __init__(self,\n",
    "                 output_size,\n",
    "                 **kwargs):\n",
    "        super().__init__(**kwargs)\n",
    "        self.mc_acc = torchmetrics.classification.Accuracy(task='multiclass',\n",
    "                                                           num_classes=output_size,\n",
    "                                                           ignore_index=0)\n",
    "        self.cce_loss = torch.nn.CrossEntropyLoss(ignore_index=0)\n",
    "\n",
    "    def predict(self, x):\n",
    "        return torch.softmax(self(x),-1)\n",
    "\n",
    "    def configure_optimizers(self):\n",
    "        optimizer = torch.optim.Adam(self.parameters(), lr=0.001)\n",
    "        return optimizer\n",
    "\n",
    "    def training_step(self, train_batch, batch_idx):\n",
    "        x_enc, x_dec, y_dec = train_batch\n",
    "        y_pred = self(x_enc, x_dec)\n",
    "        perm = (0,-1) + tuple(range(y_pred.ndim))[1:-1]\n",
    "        acc = self.mc_acc(y_pred.permute(*perm),y_dec)\n",
    "        loss = self.cce_loss(y_pred.permute(*perm),y_dec)\n",
    "        self.log('train_acc', acc, on_step=False, on_epoch=True)\n",
    "        self.log('train_loss', loss, on_step=False, on_epoch=True)\n",
    "        return loss\n",
    "    \n",
    "    # Validate used for Teacher Forcing\n",
    "    def validation_step(self, val_batch, batch_idx):\n",
    "        x_enc, x_dec, y_dec = val_batch\n",
    "        y_pred = self(x_enc, x_dec)\n",
    "        perm = (0,-1) + tuple(range(y_pred.ndim))[1:-1]\n",
    "        acc = self.mc_acc(y_pred.permute(*perm),y_dec)\n",
    "        loss = self.cce_loss(y_pred.permute(*perm),y_dec)\n",
    "        self.log('val_acc', acc, on_step=False, on_epoch=True)\n",
    "        self.log('val_loss', loss, on_step=False, on_epoch=True)\n",
    "        return loss\n",
    "    \n",
    "    # Test used for Non-Teacher Forcing\n",
    "    def test_step(self, test_batch, batch_idx):\n",
    "        x_enc, x_dec, y_dec = test_batch\n",
    "        context = self.enc_net(x_enc)\n",
    "        tokens = torch.zeros_like(x_dec).long()\n",
    "        tokens[:,0] = 1\n",
    "        for i in range(y_dec.shape[1]-1):\n",
    "            tokens[:,i+1] = self.dec_net(context, tokens).argmax(-1)[:,i]\n",
    "        y_pred = self(x_enc, tokens)\n",
    "        perm = (0,-1) + tuple(range(y_pred.ndim))[1:-1]\n",
    "        acc = self.mc_acc(y_pred.permute(*perm),y_dec)\n",
    "        loss = self.cce_loss(y_pred.permute(*perm),y_dec)\n",
    "        self.log('test_acc', acc, on_step=False, on_epoch=True)\n",
    "        self.log('test_loss', loss, on_step=False, on_epoch=True)\n",
    "        return loss\n"
   ]
  },
  {
   "cell_type": "code",
   "execution_count": 130,
   "id": "83614d38-e3d5-4a72-b139-853e91135313",
   "metadata": {},
   "outputs": [],
   "source": [
    "class EncDecNetwork(EncDecLightningModule): \n",
    "    def __init__(self,\n",
    "                 num_enc_tokens,\n",
    "                 max_enc_length,\n",
    "                 num_dec_tokens, \n",
    "                 max_dec_length, \n",
    "                 latent_size = 64,\n",
    "                 num_heads = 4, \n",
    "                 n_layers = 8,\n",
    "                 **kwargs):\n",
    "        super().__init__(output_size=num_dec_tokens, \n",
    "                         **kwargs)\n",
    "        self.enc_net = EncoderNetwork(num_enc_tokens, max_enc_length, latent_size, num_heads, n_layers) \n",
    "        self.dec_net = DecoderNetwork(num_dec_tokens, max_dec_length, latent_size, num_heads, n_layers)\n",
    "\n",
    "    def forward(self, x_enc, x_dec):\n",
    "        return self.dec_net(self.enc_net(x_enc), x_dec)\n",
    "\n",
    "\n",
    "\n",
    "                                                         "
   ]
  },
  {
   "cell_type": "code",
   "execution_count": 132,
   "id": "704e5c52-8add-457a-8b48-ebef51a21293",
   "metadata": {},
   "outputs": [
    {
     "data": {
      "text/plain": [
       "===============================================================================================\n",
       "Layer (type:depth-idx)                        Output Shape              Param #\n",
       "===============================================================================================\n",
       "EncDecNetwork                                 [1, 44, 87]               --\n",
       "├─EncoderNetwork: 1-1                         [1, 45, 64]               --\n",
       "│    └─Embedding: 2-1                         [1, 45, 64]               4,672\n",
       "│    └─Embedding: 2-2                         [1, 45, 64]               2,944\n",
       "│    └─Sequential: 2-3                        [1, 45, 64]               --\n",
       "│    │    └─TransformerBlock: 3-1             [1, 45, 64]               21,056\n",
       "│    │    └─TransformerBlock: 3-2             [1, 45, 64]               21,056\n",
       "│    │    └─TransformerBlock: 3-3             [1, 45, 64]               21,056\n",
       "│    │    └─TransformerBlock: 3-4             [1, 45, 64]               21,056\n",
       "├─DecoderNetwork: 1-2                         [1, 44, 87]               --\n",
       "│    └─Embedding: 2-4                         [1, 44, 64]               5,568\n",
       "│    └─Embedding: 2-5                         [1, 44, 64]               2,880\n",
       "│    └─Sequential: 2-6                        [1, 45, 64]               --\n",
       "│    │    └─MaskedTransformerBlock: 3-5       [1, 45, 64]               37,824\n",
       "│    │    └─MaskedTransformerBlock: 3-6       [1, 45, 64]               37,824\n",
       "│    │    └─MaskedTransformerBlock: 3-7       [1, 45, 64]               37,824\n",
       "│    │    └─MaskedTransformerBlock: 3-8       [1, 45, 64]               37,824\n",
       "│    └─Linear: 2-7                            [1, 44, 87]               5,655\n",
       "===============================================================================================\n",
       "Total params: 257,239\n",
       "Trainable params: 257,239\n",
       "Non-trainable params: 0\n",
       "Total mult-adds (Units.MEGABYTES): 0.06\n",
       "===============================================================================================\n",
       "Input size (MB): 0.00\n",
       "Forward/backward pass size (MB): 0.76\n",
       "Params size (MB): 0.23\n",
       "Estimated Total Size (MB): 0.99\n",
       "==============================================================================================="
      ]
     },
     "execution_count": 132,
     "metadata": {},
     "output_type": "execute_result"
    }
   ],
   "source": [
    "enc_dec_net = EncDecNetwork(num_enc_tokens=len(i_to_c_eng), \n",
    "                            max_enc_length=enc_x_train.shape[-1],\n",
    "                            num_dec_tokens=len(i_to_c_por), \n",
    "                            max_dec_length=dec_x_train.shape[-1], \n",
    "                            latent_size=64,\n",
    "                            n_layers=4)\n",
    "\n",
    "summary(enc_dec_net, input_size=[enc_x_train[0:1].shape, \n",
    "                                 dec_x_train[0:1].shape], \n",
    "        dtypes=[torch.long, torch.long])"
   ]
  },
  {
   "cell_type": "code",
   "execution_count": 133,
   "id": "8d1db915-ae50-4bbc-aa57-8a9ab15a5c0d",
   "metadata": {},
   "outputs": [
    {
     "data": {
      "image/svg+xml": [
       "<?xml version=\"1.0\" encoding=\"UTF-8\" standalone=\"no\"?>\n",
       "<!DOCTYPE svg PUBLIC \"-//W3C//DTD SVG 1.1//EN\"\n",
       " \"http://www.w3.org/Graphics/SVG/1.1/DTD/svg11.dtd\">\n",
       "<!-- Generated by graphviz version 8.1.0 (20230707.2238)\n",
       " -->\n",
       "<!-- Title: model Pages: 1 -->\n",
       "<svg width=\"636pt\" height=\"4752pt\"\n",
       " viewBox=\"0.00 0.00 635.92 4752.00\" xmlns=\"http://www.w3.org/2000/svg\" xmlns:xlink=\"http://www.w3.org/1999/xlink\">\n",
       "<g id=\"graph0\" class=\"graph\" transform=\"scale(0.820017 0.820017) rotate(0) translate(4 5791)\">\n",
       "<title>model</title>\n",
       "<polygon fill=\"white\" stroke=\"none\" points=\"-4,4 -4,-5791 771.5,-5791 771.5,4 -4,4\"/>\n",
       "<!-- 0 -->\n",
       "<g id=\"node1\" class=\"node\">\n",
       "<title>0</title>\n",
       "<polygon fill=\"lightyellow\" stroke=\"none\" points=\"189.88,-5787 79.12,-5787 79.12,-5751.5 189.88,-5751.5 189.88,-5787\"/>\n",
       "<polygon fill=\"none\" stroke=\"black\" points=\"79.12,-5751.5 79.12,-5787 148.38,-5787 148.38,-5751.5 79.12,-5751.5\"/>\n",
       "<text text-anchor=\"start\" x=\"84.12\" y=\"-5772.5\" font-family=\"Linux libertine\" font-size=\"10.00\">input&#45;tensor</text>\n",
       "<text text-anchor=\"start\" x=\"95.38\" y=\"-5759.75\" font-family=\"Linux libertine\" font-size=\"10.00\">depth:0</text>\n",
       "<polygon fill=\"none\" stroke=\"black\" points=\"148.38,-5751.5 148.38,-5787 189.88,-5787 189.88,-5751.5 148.38,-5751.5\"/>\n",
       "<text text-anchor=\"start\" x=\"153.38\" y=\"-5766.12\" font-family=\"Linux libertine\" font-size=\"10.00\">(1, 45)</text>\n",
       "</g>\n",
       "<!-- 2 -->\n",
       "<g id=\"node3\" class=\"node\">\n",
       "<title>2</title>\n",
       "<polygon fill=\"#c1ffc1\" stroke=\"none\" points=\"173,-5475.5 0,-5475.5 0,-5431.5 173,-5431.5 173,-5475.5\"/>\n",
       "<polygon fill=\"none\" stroke=\"black\" points=\"0,-5431.5 0,-5475.5 64,-5475.5 64,-5431.5 0,-5431.5\"/>\n",
       "<text text-anchor=\"start\" x=\"4.62\" y=\"-5456.75\" font-family=\"Linux libertine\" font-size=\"10.00\">Embedding</text>\n",
       "<text text-anchor=\"start\" x=\"13.62\" y=\"-5444\" font-family=\"Linux libertine\" font-size=\"10.00\">depth:2</text>\n",
       "<polygon fill=\"none\" stroke=\"black\" points=\"64,-5453.5 64,-5475.5 111,-5475.5 111,-5453.5 64,-5453.5\"/>\n",
       "<text text-anchor=\"start\" x=\"73.62\" y=\"-5461\" font-family=\"Linux libertine\" font-size=\"10.00\">input:</text>\n",
       "<polygon fill=\"none\" stroke=\"black\" points=\"111,-5453.5 111,-5475.5 173,-5475.5 173,-5453.5 111,-5453.5\"/>\n",
       "<text text-anchor=\"start\" x=\"124.75\" y=\"-5461\" font-family=\"Linux libertine\" font-size=\"10.00\">(1, 45) </text>\n",
       "<polygon fill=\"none\" stroke=\"black\" points=\"64,-5431.5 64,-5453.5 111,-5453.5 111,-5431.5 64,-5431.5\"/>\n",
       "<text text-anchor=\"start\" x=\"68.75\" y=\"-5439\" font-family=\"Linux libertine\" font-size=\"10.00\">output: </text>\n",
       "<polygon fill=\"none\" stroke=\"black\" points=\"111,-5431.5 111,-5453.5 173,-5453.5 173,-5431.5 111,-5431.5\"/>\n",
       "<text text-anchor=\"start\" x=\"115.75\" y=\"-5439\" font-family=\"Linux libertine\" font-size=\"10.00\">(1, 45, 64) </text>\n",
       "</g>\n",
       "<!-- 0&#45;&gt;2 -->\n",
       "<g id=\"edge1\" class=\"edge\">\n",
       "<title>0&#45;&gt;2</title>\n",
       "<path fill=\"none\" stroke=\"black\" d=\"M130.24,-5751.6C123.98,-5726.56 112.3,-5677.65 105.5,-5635.5 97.11,-5583.43 91.58,-5522.3 88.75,-5486.07\"/>\n",
       "<polygon fill=\"black\" stroke=\"black\" points=\"92.17,-5485.93 87.93,-5476.23 85.19,-5486.46 92.17,-5485.93\"/>\n",
       "</g>\n",
       "<!-- 5 -->\n",
       "<g id=\"node6\" class=\"node\">\n",
       "<title>5</title>\n",
       "<polygon fill=\"aliceblue\" stroke=\"none\" points=\"325,-5715.5 188,-5715.5 188,-5671.5 325,-5671.5 325,-5715.5\"/>\n",
       "<polygon fill=\"none\" stroke=\"black\" points=\"188,-5671.5 188,-5715.5 234,-5715.5 234,-5671.5 188,-5671.5\"/>\n",
       "<text text-anchor=\"start\" x=\"200.88\" y=\"-5696.75\" font-family=\"Linux libertine\" font-size=\"10.00\">sign</text>\n",
       "<text text-anchor=\"start\" x=\"192.62\" y=\"-5684\" font-family=\"Linux libertine\" font-size=\"10.00\">depth:2</text>\n",
       "<polygon fill=\"none\" stroke=\"black\" points=\"234,-5693.5 234,-5715.5 281,-5715.5 281,-5693.5 234,-5693.5\"/>\n",
       "<text text-anchor=\"start\" x=\"243.62\" y=\"-5701\" font-family=\"Linux libertine\" font-size=\"10.00\">input:</text>\n",
       "<polygon fill=\"none\" stroke=\"black\" points=\"281,-5693.5 281,-5715.5 325,-5715.5 325,-5693.5 281,-5693.5\"/>\n",
       "<text text-anchor=\"start\" x=\"285.75\" y=\"-5701\" font-family=\"Linux libertine\" font-size=\"10.00\">(1, 45) </text>\n",
       "<polygon fill=\"none\" stroke=\"black\" points=\"234,-5671.5 234,-5693.5 281,-5693.5 281,-5671.5 234,-5671.5\"/>\n",
       "<text text-anchor=\"start\" x=\"238.75\" y=\"-5679\" font-family=\"Linux libertine\" font-size=\"10.00\">output: </text>\n",
       "<polygon fill=\"none\" stroke=\"black\" points=\"281,-5671.5 281,-5693.5 325,-5693.5 325,-5671.5 281,-5671.5\"/>\n",
       "<text text-anchor=\"start\" x=\"285.75\" y=\"-5679\" font-family=\"Linux libertine\" font-size=\"10.00\">(1, 45) </text>\n",
       "</g>\n",
       "<!-- 0&#45;&gt;5 -->\n",
       "<g id=\"edge2\" class=\"edge\">\n",
       "<title>0&#45;&gt;5</title>\n",
       "<path fill=\"none\" stroke=\"black\" d=\"M162.18,-5751.51C177.13,-5742.48 195.93,-5731.11 212.8,-5720.91\"/>\n",
       "<polygon fill=\"black\" stroke=\"black\" points=\"214.2,-5723.56 220.94,-5715.39 210.57,-5717.57 214.2,-5723.56\"/>\n",
       "</g>\n",
       "<!-- 1 -->\n",
       "<g id=\"node2\" class=\"node\">\n",
       "<title>1</title>\n",
       "<polygon fill=\"lightyellow\" stroke=\"none\" points=\"586.88,-3871.25 476.12,-3871.25 476.12,-3835.75 586.88,-3835.75 586.88,-3871.25\"/>\n",
       "<polygon fill=\"none\" stroke=\"black\" points=\"476.12,-3835.75 476.12,-3871.25 545.38,-3871.25 545.38,-3835.75 476.12,-3835.75\"/>\n",
       "<text text-anchor=\"start\" x=\"481.12\" y=\"-3856.75\" font-family=\"Linux libertine\" font-size=\"10.00\">input&#45;tensor</text>\n",
       "<text text-anchor=\"start\" x=\"492.38\" y=\"-3844\" font-family=\"Linux libertine\" font-size=\"10.00\">depth:0</text>\n",
       "<polygon fill=\"none\" stroke=\"black\" points=\"545.38,-3835.75 545.38,-3871.25 586.88,-3871.25 586.88,-3835.75 545.38,-3835.75\"/>\n",
       "<text text-anchor=\"start\" x=\"550.38\" y=\"-3850.38\" font-family=\"Linux libertine\" font-size=\"10.00\">(1, 44)</text>\n",
       "</g>\n",
       "<!-- 39 -->\n",
       "<g id=\"node40\" class=\"node\">\n",
       "<title>39</title>\n",
       "<polygon fill=\"#c1ffc1\" stroke=\"none\" points=\"520,-3555.5 347,-3555.5 347,-3511.5 520,-3511.5 520,-3555.5\"/>\n",
       "<polygon fill=\"none\" stroke=\"black\" points=\"347,-3511.5 347,-3555.5 411,-3555.5 411,-3511.5 347,-3511.5\"/>\n",
       "<text text-anchor=\"start\" x=\"351.62\" y=\"-3536.75\" font-family=\"Linux libertine\" font-size=\"10.00\">Embedding</text>\n",
       "<text text-anchor=\"start\" x=\"360.62\" y=\"-3524\" font-family=\"Linux libertine\" font-size=\"10.00\">depth:2</text>\n",
       "<polygon fill=\"none\" stroke=\"black\" points=\"411,-3533.5 411,-3555.5 458,-3555.5 458,-3533.5 411,-3533.5\"/>\n",
       "<text text-anchor=\"start\" x=\"420.62\" y=\"-3541\" font-family=\"Linux libertine\" font-size=\"10.00\">input:</text>\n",
       "<polygon fill=\"none\" stroke=\"black\" points=\"458,-3533.5 458,-3555.5 520,-3555.5 520,-3533.5 458,-3533.5\"/>\n",
       "<text text-anchor=\"start\" x=\"471.75\" y=\"-3541\" font-family=\"Linux libertine\" font-size=\"10.00\">(1, 44) </text>\n",
       "<polygon fill=\"none\" stroke=\"black\" points=\"411,-3511.5 411,-3533.5 458,-3533.5 458,-3511.5 411,-3511.5\"/>\n",
       "<text text-anchor=\"start\" x=\"415.75\" y=\"-3519\" font-family=\"Linux libertine\" font-size=\"10.00\">output: </text>\n",
       "<polygon fill=\"none\" stroke=\"black\" points=\"458,-3511.5 458,-3533.5 520,-3533.5 520,-3511.5 458,-3511.5\"/>\n",
       "<text text-anchor=\"start\" x=\"462.75\" y=\"-3519\" font-family=\"Linux libertine\" font-size=\"10.00\">(1, 44, 64) </text>\n",
       "</g>\n",
       "<!-- 1&#45;&gt;39 -->\n",
       "<g id=\"edge47\" class=\"edge\">\n",
       "<title>1&#45;&gt;39</title>\n",
       "<path fill=\"none\" stroke=\"black\" d=\"M518.78,-3835.87C500.61,-3811.14 467.76,-3762.51 452.5,-3715.5 436.1,-3664.98 433.05,-3602.76 432.88,-3565.99\"/>\n",
       "<polygon fill=\"black\" stroke=\"black\" points=\"436.38,-3566.45 432.91,-3556.44 429.38,-3566.43 436.38,-3566.45\"/>\n",
       "</g>\n",
       "<!-- 42 -->\n",
       "<g id=\"node43\" class=\"node\">\n",
       "<title>42</title>\n",
       "<polygon fill=\"aliceblue\" stroke=\"none\" points=\"672,-3795.5 535,-3795.5 535,-3751.5 672,-3751.5 672,-3795.5\"/>\n",
       "<polygon fill=\"none\" stroke=\"black\" points=\"535,-3751.5 535,-3795.5 581,-3795.5 581,-3751.5 535,-3751.5\"/>\n",
       "<text text-anchor=\"start\" x=\"547.88\" y=\"-3776.75\" font-family=\"Linux libertine\" font-size=\"10.00\">sign</text>\n",
       "<text text-anchor=\"start\" x=\"539.62\" y=\"-3764\" font-family=\"Linux libertine\" font-size=\"10.00\">depth:2</text>\n",
       "<polygon fill=\"none\" stroke=\"black\" points=\"581,-3773.5 581,-3795.5 628,-3795.5 628,-3773.5 581,-3773.5\"/>\n",
       "<text text-anchor=\"start\" x=\"590.62\" y=\"-3781\" font-family=\"Linux libertine\" font-size=\"10.00\">input:</text>\n",
       "<polygon fill=\"none\" stroke=\"black\" points=\"628,-3773.5 628,-3795.5 672,-3795.5 672,-3773.5 628,-3773.5\"/>\n",
       "<text text-anchor=\"start\" x=\"632.75\" y=\"-3781\" font-family=\"Linux libertine\" font-size=\"10.00\">(1, 44) </text>\n",
       "<polygon fill=\"none\" stroke=\"black\" points=\"581,-3751.5 581,-3773.5 628,-3773.5 628,-3751.5 581,-3751.5\"/>\n",
       "<text text-anchor=\"start\" x=\"585.75\" y=\"-3759\" font-family=\"Linux libertine\" font-size=\"10.00\">output: </text>\n",
       "<polygon fill=\"none\" stroke=\"black\" points=\"628,-3751.5 628,-3773.5 672,-3773.5 672,-3751.5 628,-3751.5\"/>\n",
       "<text text-anchor=\"start\" x=\"632.75\" y=\"-3759\" font-family=\"Linux libertine\" font-size=\"10.00\">(1, 44) </text>\n",
       "</g>\n",
       "<!-- 1&#45;&gt;42 -->\n",
       "<g id=\"edge48\" class=\"edge\">\n",
       "<title>1&#45;&gt;42</title>\n",
       "<path fill=\"none\" stroke=\"black\" d=\"M546.77,-3835.96C555.45,-3826.55 566.58,-3814.5 576.67,-3803.56\"/>\n",
       "<polygon fill=\"black\" stroke=\"black\" points=\"578.92,-3806.2 583.13,-3796.48 573.78,-3801.45 578.92,-3806.2\"/>\n",
       "</g>\n",
       "<!-- 10 -->\n",
       "<g id=\"node11\" class=\"node\">\n",
       "<title>10</title>\n",
       "<polygon fill=\"aliceblue\" stroke=\"none\" points=\"266,-5315.5 93,-5315.5 93,-5271.5 266,-5271.5 266,-5315.5\"/>\n",
       "<polygon fill=\"none\" stroke=\"black\" points=\"93,-5271.5 93,-5315.5 139,-5315.5 139,-5271.5 93,-5271.5\"/>\n",
       "<text text-anchor=\"start\" x=\"107\" y=\"-5296.75\" font-family=\"Linux libertine\" font-size=\"10.00\">add</text>\n",
       "<text text-anchor=\"start\" x=\"97.62\" y=\"-5284\" font-family=\"Linux libertine\" font-size=\"10.00\">depth:2</text>\n",
       "<polygon fill=\"none\" stroke=\"black\" points=\"139,-5293.5 139,-5315.5 186,-5315.5 186,-5293.5 139,-5293.5\"/>\n",
       "<text text-anchor=\"start\" x=\"148.62\" y=\"-5301\" font-family=\"Linux libertine\" font-size=\"10.00\">input:</text>\n",
       "<polygon fill=\"none\" stroke=\"black\" points=\"186,-5293.5 186,-5315.5 266,-5315.5 266,-5293.5 186,-5293.5\"/>\n",
       "<text text-anchor=\"start\" x=\"190.75\" y=\"-5301\" font-family=\"Linux libertine\" font-size=\"10.00\">2 x (1, 45, 64) </text>\n",
       "<polygon fill=\"none\" stroke=\"black\" points=\"139,-5271.5 139,-5293.5 186,-5293.5 186,-5271.5 139,-5271.5\"/>\n",
       "<text text-anchor=\"start\" x=\"143.75\" y=\"-5279\" font-family=\"Linux libertine\" font-size=\"10.00\">output: </text>\n",
       "<polygon fill=\"none\" stroke=\"black\" points=\"186,-5271.5 186,-5293.5 266,-5293.5 266,-5271.5 186,-5271.5\"/>\n",
       "<text text-anchor=\"start\" x=\"199.75\" y=\"-5279\" font-family=\"Linux libertine\" font-size=\"10.00\">(1, 45, 64) </text>\n",
       "</g>\n",
       "<!-- 2&#45;&gt;10 -->\n",
       "<g id=\"edge3\" class=\"edge\">\n",
       "<title>2&#45;&gt;10</title>\n",
       "<path fill=\"none\" stroke=\"black\" d=\"M98.85,-5431.52C115.06,-5403.98 143.61,-5355.48 162.03,-5324.18\"/>\n",
       "<polygon fill=\"black\" stroke=\"black\" points=\"165.34,-5326.46 167.39,-5316.07 159.31,-5322.91 165.34,-5326.46\"/>\n",
       "</g>\n",
       "<!-- 3 -->\n",
       "<g id=\"node4\" class=\"node\">\n",
       "<title>3</title>\n",
       "<polygon fill=\"aliceblue\" stroke=\"none\" points=\"242.5,-5635.5 114.5,-5635.5 114.5,-5591.5 242.5,-5591.5 242.5,-5635.5\"/>\n",
       "<polygon fill=\"none\" stroke=\"black\" points=\"114.5,-5591.5 114.5,-5635.5 160.5,-5635.5 160.5,-5591.5 114.5,-5591.5\"/>\n",
       "<text text-anchor=\"start\" x=\"127\" y=\"-5616.75\" font-family=\"Linux libertine\" font-size=\"10.00\">long</text>\n",
       "<text text-anchor=\"start\" x=\"119.12\" y=\"-5604\" font-family=\"Linux libertine\" font-size=\"10.00\">depth:2</text>\n",
       "<polygon fill=\"none\" stroke=\"black\" points=\"160.5,-5613.5 160.5,-5635.5 207.5,-5635.5 207.5,-5613.5 160.5,-5613.5\"/>\n",
       "<text text-anchor=\"start\" x=\"170.12\" y=\"-5621\" font-family=\"Linux libertine\" font-size=\"10.00\">input:</text>\n",
       "<polygon fill=\"none\" stroke=\"black\" points=\"207.5,-5613.5 207.5,-5635.5 242.5,-5635.5 242.5,-5613.5 207.5,-5613.5\"/>\n",
       "<text text-anchor=\"start\" x=\"212.25\" y=\"-5621\" font-family=\"Linux libertine\" font-size=\"10.00\">(45,) </text>\n",
       "<polygon fill=\"none\" stroke=\"black\" points=\"160.5,-5591.5 160.5,-5613.5 207.5,-5613.5 207.5,-5591.5 160.5,-5591.5\"/>\n",
       "<text text-anchor=\"start\" x=\"165.25\" y=\"-5599\" font-family=\"Linux libertine\" font-size=\"10.00\">output: </text>\n",
       "<polygon fill=\"none\" stroke=\"black\" points=\"207.5,-5591.5 207.5,-5613.5 242.5,-5613.5 242.5,-5591.5 207.5,-5591.5\"/>\n",
       "<text text-anchor=\"start\" x=\"212.25\" y=\"-5599\" font-family=\"Linux libertine\" font-size=\"10.00\">(45,) </text>\n",
       "</g>\n",
       "<!-- 4 -->\n",
       "<g id=\"node5\" class=\"node\">\n",
       "<title>4</title>\n",
       "<polygon fill=\"aliceblue\" stroke=\"none\" points=\"242.5,-5555.5 114.5,-5555.5 114.5,-5511.5 242.5,-5511.5 242.5,-5555.5\"/>\n",
       "<polygon fill=\"none\" stroke=\"black\" points=\"114.5,-5511.5 114.5,-5555.5 160.5,-5555.5 160.5,-5511.5 114.5,-5511.5\"/>\n",
       "<text text-anchor=\"start\" x=\"132.62\" y=\"-5536.75\" font-family=\"Linux libertine\" font-size=\"10.00\">to</text>\n",
       "<text text-anchor=\"start\" x=\"119.12\" y=\"-5524\" font-family=\"Linux libertine\" font-size=\"10.00\">depth:2</text>\n",
       "<polygon fill=\"none\" stroke=\"black\" points=\"160.5,-5533.5 160.5,-5555.5 207.5,-5555.5 207.5,-5533.5 160.5,-5533.5\"/>\n",
       "<text text-anchor=\"start\" x=\"170.12\" y=\"-5541\" font-family=\"Linux libertine\" font-size=\"10.00\">input:</text>\n",
       "<polygon fill=\"none\" stroke=\"black\" points=\"207.5,-5533.5 207.5,-5555.5 242.5,-5555.5 242.5,-5533.5 207.5,-5533.5\"/>\n",
       "<text text-anchor=\"start\" x=\"212.25\" y=\"-5541\" font-family=\"Linux libertine\" font-size=\"10.00\">(45,) </text>\n",
       "<polygon fill=\"none\" stroke=\"black\" points=\"160.5,-5511.5 160.5,-5533.5 207.5,-5533.5 207.5,-5511.5 160.5,-5511.5\"/>\n",
       "<text text-anchor=\"start\" x=\"165.25\" y=\"-5519\" font-family=\"Linux libertine\" font-size=\"10.00\">output: </text>\n",
       "<polygon fill=\"none\" stroke=\"black\" points=\"207.5,-5511.5 207.5,-5533.5 242.5,-5533.5 242.5,-5511.5 207.5,-5511.5\"/>\n",
       "<text text-anchor=\"start\" x=\"212.25\" y=\"-5519\" font-family=\"Linux libertine\" font-size=\"10.00\">(45,) </text>\n",
       "</g>\n",
       "<!-- 3&#45;&gt;4 -->\n",
       "<g id=\"edge4\" class=\"edge\">\n",
       "<title>3&#45;&gt;4</title>\n",
       "<path fill=\"none\" stroke=\"black\" d=\"M178.5,-5591.6C178.5,-5583.82 178.5,-5574.8 178.5,-5566.26\"/>\n",
       "<polygon fill=\"black\" stroke=\"black\" points=\"182,-5566.46 178.5,-5556.46 175,-5566.46 182,-5566.46\"/>\n",
       "</g>\n",
       "<!-- 8 -->\n",
       "<g id=\"node9\" class=\"node\">\n",
       "<title>8</title>\n",
       "<polygon fill=\"aliceblue\" stroke=\"none\" points=\"357.5,-5475.5 191.5,-5475.5 191.5,-5431.5 357.5,-5431.5 357.5,-5475.5\"/>\n",
       "<polygon fill=\"none\" stroke=\"black\" points=\"191.5,-5431.5 191.5,-5475.5 237.5,-5475.5 237.5,-5431.5 191.5,-5431.5\"/>\n",
       "<text text-anchor=\"start\" x=\"205.12\" y=\"-5456.75\" font-family=\"Linux libertine\" font-size=\"10.00\">mul</text>\n",
       "<text text-anchor=\"start\" x=\"196.12\" y=\"-5444\" font-family=\"Linux libertine\" font-size=\"10.00\">depth:2</text>\n",
       "<polygon fill=\"none\" stroke=\"black\" points=\"237.5,-5453.5 237.5,-5475.5 284.5,-5475.5 284.5,-5453.5 237.5,-5453.5\"/>\n",
       "<text text-anchor=\"start\" x=\"247.12\" y=\"-5461\" font-family=\"Linux libertine\" font-size=\"10.00\">input:</text>\n",
       "<polygon fill=\"none\" stroke=\"black\" points=\"284.5,-5453.5 284.5,-5475.5 357.5,-5475.5 357.5,-5453.5 284.5,-5453.5\"/>\n",
       "<text text-anchor=\"start\" x=\"289.5\" y=\"-5461\" font-family=\"Linux libertine\" font-size=\"10.00\">(45,), (1, 45) </text>\n",
       "<polygon fill=\"none\" stroke=\"black\" points=\"237.5,-5431.5 237.5,-5453.5 284.5,-5453.5 284.5,-5431.5 237.5,-5431.5\"/>\n",
       "<text text-anchor=\"start\" x=\"242.25\" y=\"-5439\" font-family=\"Linux libertine\" font-size=\"10.00\">output: </text>\n",
       "<polygon fill=\"none\" stroke=\"black\" points=\"284.5,-5431.5 284.5,-5453.5 357.5,-5453.5 357.5,-5431.5 284.5,-5431.5\"/>\n",
       "<text text-anchor=\"start\" x=\"303.75\" y=\"-5439\" font-family=\"Linux libertine\" font-size=\"10.00\">(1, 45) </text>\n",
       "</g>\n",
       "<!-- 4&#45;&gt;8 -->\n",
       "<g id=\"edge5\" class=\"edge\">\n",
       "<title>4&#45;&gt;8</title>\n",
       "<path fill=\"none\" stroke=\"black\" d=\"M204.23,-5511.6C215.31,-5502.59 228.43,-5491.93 240.31,-5482.28\"/>\n",
       "<polygon fill=\"black\" stroke=\"black\" points=\"242.15,-5484.48 247.7,-5475.46 237.73,-5479.05 242.15,-5484.48\"/>\n",
       "</g>\n",
       "<!-- 6 -->\n",
       "<g id=\"node7\" class=\"node\">\n",
       "<title>6</title>\n",
       "<polygon fill=\"aliceblue\" stroke=\"none\" points=\"398,-5635.5 261,-5635.5 261,-5591.5 398,-5591.5 398,-5635.5\"/>\n",
       "<polygon fill=\"none\" stroke=\"black\" points=\"261,-5591.5 261,-5635.5 307,-5635.5 307,-5591.5 261,-5591.5\"/>\n",
       "<text text-anchor=\"start\" x=\"273.5\" y=\"-5616.75\" font-family=\"Linux libertine\" font-size=\"10.00\">long</text>\n",
       "<text text-anchor=\"start\" x=\"265.62\" y=\"-5604\" font-family=\"Linux libertine\" font-size=\"10.00\">depth:2</text>\n",
       "<polygon fill=\"none\" stroke=\"black\" points=\"307,-5613.5 307,-5635.5 354,-5635.5 354,-5613.5 307,-5613.5\"/>\n",
       "<text text-anchor=\"start\" x=\"316.62\" y=\"-5621\" font-family=\"Linux libertine\" font-size=\"10.00\">input:</text>\n",
       "<polygon fill=\"none\" stroke=\"black\" points=\"354,-5613.5 354,-5635.5 398,-5635.5 398,-5613.5 354,-5613.5\"/>\n",
       "<text text-anchor=\"start\" x=\"358.75\" y=\"-5621\" font-family=\"Linux libertine\" font-size=\"10.00\">(1, 45) </text>\n",
       "<polygon fill=\"none\" stroke=\"black\" points=\"307,-5591.5 307,-5613.5 354,-5613.5 354,-5591.5 307,-5591.5\"/>\n",
       "<text text-anchor=\"start\" x=\"311.75\" y=\"-5599\" font-family=\"Linux libertine\" font-size=\"10.00\">output: </text>\n",
       "<polygon fill=\"none\" stroke=\"black\" points=\"354,-5591.5 354,-5613.5 398,-5613.5 398,-5591.5 354,-5591.5\"/>\n",
       "<text text-anchor=\"start\" x=\"358.75\" y=\"-5599\" font-family=\"Linux libertine\" font-size=\"10.00\">(1, 45) </text>\n",
       "</g>\n",
       "<!-- 5&#45;&gt;6 -->\n",
       "<g id=\"edge6\" class=\"edge\">\n",
       "<title>5&#45;&gt;6</title>\n",
       "<path fill=\"none\" stroke=\"black\" d=\"M276.06,-5671.6C284.16,-5662.94 293.69,-5652.76 302.45,-5643.41\"/>\n",
       "<polygon fill=\"black\" stroke=\"black\" points=\"304.61,-5646.15 308.88,-5636.46 299.49,-5641.37 304.61,-5646.15\"/>\n",
       "</g>\n",
       "<!-- 7 -->\n",
       "<g id=\"node8\" class=\"node\">\n",
       "<title>7</title>\n",
       "<polygon fill=\"aliceblue\" stroke=\"none\" points=\"398,-5555.5 261,-5555.5 261,-5511.5 398,-5511.5 398,-5555.5\"/>\n",
       "<polygon fill=\"none\" stroke=\"black\" points=\"261,-5511.5 261,-5555.5 307,-5555.5 307,-5511.5 261,-5511.5\"/>\n",
       "<text text-anchor=\"start\" x=\"279.12\" y=\"-5536.75\" font-family=\"Linux libertine\" font-size=\"10.00\">to</text>\n",
       "<text text-anchor=\"start\" x=\"265.62\" y=\"-5524\" font-family=\"Linux libertine\" font-size=\"10.00\">depth:2</text>\n",
       "<polygon fill=\"none\" stroke=\"black\" points=\"307,-5533.5 307,-5555.5 354,-5555.5 354,-5533.5 307,-5533.5\"/>\n",
       "<text text-anchor=\"start\" x=\"316.62\" y=\"-5541\" font-family=\"Linux libertine\" font-size=\"10.00\">input:</text>\n",
       "<polygon fill=\"none\" stroke=\"black\" points=\"354,-5533.5 354,-5555.5 398,-5555.5 398,-5533.5 354,-5533.5\"/>\n",
       "<text text-anchor=\"start\" x=\"358.75\" y=\"-5541\" font-family=\"Linux libertine\" font-size=\"10.00\">(1, 45) </text>\n",
       "<polygon fill=\"none\" stroke=\"black\" points=\"307,-5511.5 307,-5533.5 354,-5533.5 354,-5511.5 307,-5511.5\"/>\n",
       "<text text-anchor=\"start\" x=\"311.75\" y=\"-5519\" font-family=\"Linux libertine\" font-size=\"10.00\">output: </text>\n",
       "<polygon fill=\"none\" stroke=\"black\" points=\"354,-5511.5 354,-5533.5 398,-5533.5 398,-5511.5 354,-5511.5\"/>\n",
       "<text text-anchor=\"start\" x=\"358.75\" y=\"-5519\" font-family=\"Linux libertine\" font-size=\"10.00\">(1, 45) </text>\n",
       "</g>\n",
       "<!-- 6&#45;&gt;7 -->\n",
       "<g id=\"edge7\" class=\"edge\">\n",
       "<title>6&#45;&gt;7</title>\n",
       "<path fill=\"none\" stroke=\"black\" d=\"M329.5,-5591.6C329.5,-5583.82 329.5,-5574.8 329.5,-5566.26\"/>\n",
       "<polygon fill=\"black\" stroke=\"black\" points=\"333,-5566.46 329.5,-5556.46 326,-5566.46 333,-5566.46\"/>\n",
       "</g>\n",
       "<!-- 7&#45;&gt;8 -->\n",
       "<g id=\"edge8\" class=\"edge\">\n",
       "<title>7&#45;&gt;8</title>\n",
       "<path fill=\"none\" stroke=\"black\" d=\"M314.76,-5511.6C308.84,-5503.2 301.91,-5493.37 295.48,-5484.26\"/>\n",
       "<polygon fill=\"black\" stroke=\"black\" points=\"297.9,-5482.62 289.28,-5476.46 292.18,-5486.65 297.9,-5482.62\"/>\n",
       "</g>\n",
       "<!-- 9 -->\n",
       "<g id=\"node10\" class=\"node\">\n",
       "<title>9</title>\n",
       "<polygon fill=\"#c1ffc1\" stroke=\"none\" points=\"342,-5395.5 169,-5395.5 169,-5351.5 342,-5351.5 342,-5395.5\"/>\n",
       "<polygon fill=\"none\" stroke=\"black\" points=\"169,-5351.5 169,-5395.5 233,-5395.5 233,-5351.5 169,-5351.5\"/>\n",
       "<text text-anchor=\"start\" x=\"173.62\" y=\"-5376.75\" font-family=\"Linux libertine\" font-size=\"10.00\">Embedding</text>\n",
       "<text text-anchor=\"start\" x=\"182.62\" y=\"-5364\" font-family=\"Linux libertine\" font-size=\"10.00\">depth:2</text>\n",
       "<polygon fill=\"none\" stroke=\"black\" points=\"233,-5373.5 233,-5395.5 280,-5395.5 280,-5373.5 233,-5373.5\"/>\n",
       "<text text-anchor=\"start\" x=\"242.62\" y=\"-5381\" font-family=\"Linux libertine\" font-size=\"10.00\">input:</text>\n",
       "<polygon fill=\"none\" stroke=\"black\" points=\"280,-5373.5 280,-5395.5 342,-5395.5 342,-5373.5 280,-5373.5\"/>\n",
       "<text text-anchor=\"start\" x=\"293.75\" y=\"-5381\" font-family=\"Linux libertine\" font-size=\"10.00\">(1, 45) </text>\n",
       "<polygon fill=\"none\" stroke=\"black\" points=\"233,-5351.5 233,-5373.5 280,-5373.5 280,-5351.5 233,-5351.5\"/>\n",
       "<text text-anchor=\"start\" x=\"237.75\" y=\"-5359\" font-family=\"Linux libertine\" font-size=\"10.00\">output: </text>\n",
       "<polygon fill=\"none\" stroke=\"black\" points=\"280,-5351.5 280,-5373.5 342,-5373.5 342,-5351.5 280,-5351.5\"/>\n",
       "<text text-anchor=\"start\" x=\"284.75\" y=\"-5359\" font-family=\"Linux libertine\" font-size=\"10.00\">(1, 45, 64) </text>\n",
       "</g>\n",
       "<!-- 8&#45;&gt;9 -->\n",
       "<g id=\"edge9\" class=\"edge\">\n",
       "<title>8&#45;&gt;9</title>\n",
       "<path fill=\"none\" stroke=\"black\" d=\"M269.41,-5431.6C267.49,-5423.73 265.27,-5414.6 263.17,-5405.97\"/>\n",
       "<polygon fill=\"black\" stroke=\"black\" points=\"266.37,-5405.35 260.61,-5396.46 259.57,-5407 266.37,-5405.35\"/>\n",
       "</g>\n",
       "<!-- 9&#45;&gt;10 -->\n",
       "<g id=\"edge10\" class=\"edge\">\n",
       "<title>9&#45;&gt;10</title>\n",
       "<path fill=\"none\" stroke=\"black\" d=\"M235.13,-5351.6C226.61,-5342.85 216.58,-5332.55 207.39,-5323.12\"/>\n",
       "<polygon fill=\"black\" stroke=\"black\" points=\"210.41,-5321.18 200.92,-5316.46 205.39,-5326.07 210.41,-5321.18\"/>\n",
       "</g>\n",
       "<!-- 11 -->\n",
       "<g id=\"node12\" class=\"node\">\n",
       "<title>11</title>\n",
       "<polygon fill=\"#c1ffc1\" stroke=\"none\" points=\"347,-5235.5 174,-5235.5 174,-5191.5 347,-5191.5 347,-5235.5\"/>\n",
       "<polygon fill=\"none\" stroke=\"black\" points=\"174,-5191.5 174,-5235.5 238,-5235.5 238,-5191.5 174,-5191.5\"/>\n",
       "<text text-anchor=\"start\" x=\"179\" y=\"-5216.75\" font-family=\"Linux libertine\" font-size=\"10.00\">LayerNorm</text>\n",
       "<text text-anchor=\"start\" x=\"187.62\" y=\"-5204\" font-family=\"Linux libertine\" font-size=\"10.00\">depth:4</text>\n",
       "<polygon fill=\"none\" stroke=\"black\" points=\"238,-5213.5 238,-5235.5 285,-5235.5 285,-5213.5 238,-5213.5\"/>\n",
       "<text text-anchor=\"start\" x=\"247.62\" y=\"-5221\" font-family=\"Linux libertine\" font-size=\"10.00\">input:</text>\n",
       "<polygon fill=\"none\" stroke=\"black\" points=\"285,-5213.5 285,-5235.5 347,-5235.5 347,-5213.5 285,-5213.5\"/>\n",
       "<text text-anchor=\"start\" x=\"289.75\" y=\"-5221\" font-family=\"Linux libertine\" font-size=\"10.00\">(1, 45, 64) </text>\n",
       "<polygon fill=\"none\" stroke=\"black\" points=\"238,-5191.5 238,-5213.5 285,-5213.5 285,-5191.5 238,-5191.5\"/>\n",
       "<text text-anchor=\"start\" x=\"242.75\" y=\"-5199\" font-family=\"Linux libertine\" font-size=\"10.00\">output: </text>\n",
       "<polygon fill=\"none\" stroke=\"black\" points=\"285,-5191.5 285,-5213.5 347,-5213.5 347,-5191.5 285,-5191.5\"/>\n",
       "<text text-anchor=\"start\" x=\"289.75\" y=\"-5199\" font-family=\"Linux libertine\" font-size=\"10.00\">(1, 45, 64) </text>\n",
       "</g>\n",
       "<!-- 10&#45;&gt;11 -->\n",
       "<g id=\"edge11\" class=\"edge\">\n",
       "<title>10&#45;&gt;11</title>\n",
       "<path fill=\"none\" stroke=\"black\" d=\"M201.21,-5271.6C210.38,-5262.77 221.2,-5252.35 231.07,-5242.84\"/>\n",
       "<polygon fill=\"black\" stroke=\"black\" points=\"232.96,-5245.92 237.73,-5236.46 228.1,-5240.88 232.96,-5245.92\"/>\n",
       "</g>\n",
       "<!-- 13 -->\n",
       "<g id=\"node14\" class=\"node\">\n",
       "<title>13</title>\n",
       "<polygon fill=\"aliceblue\" stroke=\"none\" points=\"290,-5075.5 117,-5075.5 117,-5031.5 290,-5031.5 290,-5075.5\"/>\n",
       "<polygon fill=\"none\" stroke=\"black\" points=\"117,-5031.5 117,-5075.5 163,-5075.5 163,-5031.5 117,-5031.5\"/>\n",
       "<text text-anchor=\"start\" x=\"131\" y=\"-5056.75\" font-family=\"Linux libertine\" font-size=\"10.00\">add</text>\n",
       "<text text-anchor=\"start\" x=\"121.62\" y=\"-5044\" font-family=\"Linux libertine\" font-size=\"10.00\">depth:4</text>\n",
       "<polygon fill=\"none\" stroke=\"black\" points=\"163,-5053.5 163,-5075.5 210,-5075.5 210,-5053.5 163,-5053.5\"/>\n",
       "<text text-anchor=\"start\" x=\"172.62\" y=\"-5061\" font-family=\"Linux libertine\" font-size=\"10.00\">input:</text>\n",
       "<polygon fill=\"none\" stroke=\"black\" points=\"210,-5053.5 210,-5075.5 290,-5075.5 290,-5053.5 210,-5053.5\"/>\n",
       "<text text-anchor=\"start\" x=\"214.75\" y=\"-5061\" font-family=\"Linux libertine\" font-size=\"10.00\">2 x (1, 45, 64) </text>\n",
       "<polygon fill=\"none\" stroke=\"black\" points=\"163,-5031.5 163,-5053.5 210,-5053.5 210,-5031.5 163,-5031.5\"/>\n",
       "<text text-anchor=\"start\" x=\"167.75\" y=\"-5039\" font-family=\"Linux libertine\" font-size=\"10.00\">output: </text>\n",
       "<polygon fill=\"none\" stroke=\"black\" points=\"210,-5031.5 210,-5053.5 290,-5053.5 290,-5031.5 210,-5031.5\"/>\n",
       "<text text-anchor=\"start\" x=\"223.75\" y=\"-5039\" font-family=\"Linux libertine\" font-size=\"10.00\">(1, 45, 64) </text>\n",
       "</g>\n",
       "<!-- 10&#45;&gt;13 -->\n",
       "<g id=\"edge12\" class=\"edge\">\n",
       "<title>10&#45;&gt;13</title>\n",
       "<path fill=\"none\" stroke=\"black\" d=\"M167.15,-5271.57C148.43,-5236.95 117.49,-5166.18 141.5,-5111.5 146.32,-5100.53 154.4,-5090.75 163.16,-5082.51\"/>\n",
       "<polygon fill=\"black\" stroke=\"black\" points=\"165.09,-5084.6 170.33,-5075.39 160.49,-5079.32 165.09,-5084.6\"/>\n",
       "</g>\n",
       "<!-- 12 -->\n",
       "<g id=\"node13\" class=\"node\">\n",
       "<title>12</title>\n",
       "<polygon fill=\"#c1ffc1\" stroke=\"none\" points=\"418.5,-5155.5 150.5,-5155.5 150.5,-5111.5 418.5,-5111.5 418.5,-5155.5\"/>\n",
       "<polygon fill=\"none\" stroke=\"black\" points=\"150.5,-5111.5 150.5,-5155.5 253.5,-5155.5 253.5,-5111.5 150.5,-5111.5\"/>\n",
       "<text text-anchor=\"start\" x=\"155.12\" y=\"-5136.75\" font-family=\"Linux libertine\" font-size=\"10.00\">MultiheadAttention</text>\n",
       "<text text-anchor=\"start\" x=\"183.62\" y=\"-5124\" font-family=\"Linux libertine\" font-size=\"10.00\">depth:4</text>\n",
       "<polygon fill=\"none\" stroke=\"black\" points=\"253.5,-5133.5 253.5,-5155.5 300.5,-5155.5 300.5,-5133.5 253.5,-5133.5\"/>\n",
       "<text text-anchor=\"start\" x=\"263.12\" y=\"-5141\" font-family=\"Linux libertine\" font-size=\"10.00\">input:</text>\n",
       "<polygon fill=\"none\" stroke=\"black\" points=\"300.5,-5133.5 300.5,-5155.5 418.5,-5155.5 418.5,-5133.5 300.5,-5133.5\"/>\n",
       "<text text-anchor=\"start\" x=\"324.25\" y=\"-5141\" font-family=\"Linux libertine\" font-size=\"10.00\">3 x (1, 45, 64) </text>\n",
       "<polygon fill=\"none\" stroke=\"black\" points=\"253.5,-5111.5 253.5,-5133.5 300.5,-5133.5 300.5,-5111.5 253.5,-5111.5\"/>\n",
       "<text text-anchor=\"start\" x=\"258.25\" y=\"-5119\" font-family=\"Linux libertine\" font-size=\"10.00\">output: </text>\n",
       "<polygon fill=\"none\" stroke=\"black\" points=\"300.5,-5111.5 300.5,-5133.5 418.5,-5133.5 418.5,-5111.5 300.5,-5111.5\"/>\n",
       "<text text-anchor=\"start\" x=\"305.5\" y=\"-5119\" font-family=\"Linux libertine\" font-size=\"10.00\">(1, 45, 64), (1, 45, 45) </text>\n",
       "</g>\n",
       "<!-- 11&#45;&gt;12 -->\n",
       "<g id=\"edge13\" class=\"edge\">\n",
       "<title>11&#45;&gt;12</title>\n",
       "<path fill=\"none\" stroke=\"black\" d=\"M266.93,-5191.6C269.38,-5183.64 272.23,-5174.39 274.9,-5165.69\"/>\n",
       "<polygon fill=\"black\" stroke=\"black\" points=\"278.45,-5167.05 278.05,-5156.46 271.76,-5164.99 278.45,-5167.05\"/>\n",
       "</g>\n",
       "<!-- 12&#45;&gt;13 -->\n",
       "<g id=\"edge14\" class=\"edge\">\n",
       "<title>12&#45;&gt;13</title>\n",
       "<path fill=\"none\" stroke=\"black\" d=\"M262.79,-5111.6C253.62,-5102.77 242.8,-5092.35 232.93,-5082.84\"/>\n",
       "<polygon fill=\"black\" stroke=\"black\" points=\"235.9,-5080.88 226.27,-5076.46 231.04,-5085.92 235.9,-5080.88\"/>\n",
       "</g>\n",
       "<!-- 14 -->\n",
       "<g id=\"node15\" class=\"node\">\n",
       "<title>14</title>\n",
       "<polygon fill=\"#c1ffc1\" stroke=\"none\" points=\"348,-4995.5 175,-4995.5 175,-4951.5 348,-4951.5 348,-4995.5\"/>\n",
       "<polygon fill=\"none\" stroke=\"black\" points=\"175,-4951.5 175,-4995.5 239,-4995.5 239,-4951.5 175,-4951.5\"/>\n",
       "<text text-anchor=\"start\" x=\"180\" y=\"-4976.75\" font-family=\"Linux libertine\" font-size=\"10.00\">LayerNorm</text>\n",
       "<text text-anchor=\"start\" x=\"188.62\" y=\"-4964\" font-family=\"Linux libertine\" font-size=\"10.00\">depth:4</text>\n",
       "<polygon fill=\"none\" stroke=\"black\" points=\"239,-4973.5 239,-4995.5 286,-4995.5 286,-4973.5 239,-4973.5\"/>\n",
       "<text text-anchor=\"start\" x=\"248.62\" y=\"-4981\" font-family=\"Linux libertine\" font-size=\"10.00\">input:</text>\n",
       "<polygon fill=\"none\" stroke=\"black\" points=\"286,-4973.5 286,-4995.5 348,-4995.5 348,-4973.5 286,-4973.5\"/>\n",
       "<text text-anchor=\"start\" x=\"290.75\" y=\"-4981\" font-family=\"Linux libertine\" font-size=\"10.00\">(1, 45, 64) </text>\n",
       "<polygon fill=\"none\" stroke=\"black\" points=\"239,-4951.5 239,-4973.5 286,-4973.5 286,-4951.5 239,-4951.5\"/>\n",
       "<text text-anchor=\"start\" x=\"243.75\" y=\"-4959\" font-family=\"Linux libertine\" font-size=\"10.00\">output: </text>\n",
       "<polygon fill=\"none\" stroke=\"black\" points=\"286,-4951.5 286,-4973.5 348,-4973.5 348,-4951.5 286,-4951.5\"/>\n",
       "<text text-anchor=\"start\" x=\"290.75\" y=\"-4959\" font-family=\"Linux libertine\" font-size=\"10.00\">(1, 45, 64) </text>\n",
       "</g>\n",
       "<!-- 13&#45;&gt;14 -->\n",
       "<g id=\"edge15\" class=\"edge\">\n",
       "<title>13&#45;&gt;14</title>\n",
       "<path fill=\"none\" stroke=\"black\" d=\"M219.04,-5031.6C225.28,-5023.2 232.59,-5013.37 239.37,-5004.26\"/>\n",
       "<polygon fill=\"black\" stroke=\"black\" points=\"242.76,-5006.57 245.91,-4996.46 237.14,-5002.4 242.76,-5006.57\"/>\n",
       "</g>\n",
       "<!-- 17 -->\n",
       "<g id=\"node18\" class=\"node\">\n",
       "<title>17</title>\n",
       "<polygon fill=\"aliceblue\" stroke=\"none\" points=\"286,-4755.5 113,-4755.5 113,-4711.5 286,-4711.5 286,-4755.5\"/>\n",
       "<polygon fill=\"none\" stroke=\"black\" points=\"113,-4711.5 113,-4755.5 159,-4755.5 159,-4711.5 113,-4711.5\"/>\n",
       "<text text-anchor=\"start\" x=\"127\" y=\"-4736.75\" font-family=\"Linux libertine\" font-size=\"10.00\">add</text>\n",
       "<text text-anchor=\"start\" x=\"117.62\" y=\"-4724\" font-family=\"Linux libertine\" font-size=\"10.00\">depth:4</text>\n",
       "<polygon fill=\"none\" stroke=\"black\" points=\"159,-4733.5 159,-4755.5 206,-4755.5 206,-4733.5 159,-4733.5\"/>\n",
       "<text text-anchor=\"start\" x=\"168.62\" y=\"-4741\" font-family=\"Linux libertine\" font-size=\"10.00\">input:</text>\n",
       "<polygon fill=\"none\" stroke=\"black\" points=\"206,-4733.5 206,-4755.5 286,-4755.5 286,-4733.5 206,-4733.5\"/>\n",
       "<text text-anchor=\"start\" x=\"210.75\" y=\"-4741\" font-family=\"Linux libertine\" font-size=\"10.00\">2 x (1, 45, 64) </text>\n",
       "<polygon fill=\"none\" stroke=\"black\" points=\"159,-4711.5 159,-4733.5 206,-4733.5 206,-4711.5 159,-4711.5\"/>\n",
       "<text text-anchor=\"start\" x=\"163.75\" y=\"-4719\" font-family=\"Linux libertine\" font-size=\"10.00\">output: </text>\n",
       "<polygon fill=\"none\" stroke=\"black\" points=\"206,-4711.5 206,-4733.5 286,-4733.5 286,-4711.5 206,-4711.5\"/>\n",
       "<text text-anchor=\"start\" x=\"219.75\" y=\"-4719\" font-family=\"Linux libertine\" font-size=\"10.00\">(1, 45, 64) </text>\n",
       "</g>\n",
       "<!-- 13&#45;&gt;17 -->\n",
       "<g id=\"edge16\" class=\"edge\">\n",
       "<title>13&#45;&gt;17</title>\n",
       "<path fill=\"none\" stroke=\"black\" d=\"M185.22,-5031.59C177.53,-5021.42 169.46,-5008.59 165.5,-4995.5 155.43,-4962.24 138.7,-4909.8 169.5,-4791.5 171.84,-4782.5 175.83,-4773.33 180.15,-4765.05\"/>\n",
       "<polygon fill=\"black\" stroke=\"black\" points=\"183.68,-4766.91 185.49,-4756.47 177.56,-4763.5 183.68,-4766.91\"/>\n",
       "</g>\n",
       "<!-- 15 -->\n",
       "<g id=\"node16\" class=\"node\">\n",
       "<title>15</title>\n",
       "<polygon fill=\"#c1ffc1\" stroke=\"none\" points=\"336,-4915.5 181,-4915.5 181,-4871.5 336,-4871.5 336,-4915.5\"/>\n",
       "<polygon fill=\"none\" stroke=\"black\" points=\"181,-4871.5 181,-4915.5 227,-4915.5 227,-4871.5 181,-4871.5\"/>\n",
       "<text text-anchor=\"start\" x=\"189\" y=\"-4896.75\" font-family=\"Linux libertine\" font-size=\"10.00\">Linear</text>\n",
       "<text text-anchor=\"start\" x=\"185.62\" y=\"-4884\" font-family=\"Linux libertine\" font-size=\"10.00\">depth:4</text>\n",
       "<polygon fill=\"none\" stroke=\"black\" points=\"227,-4893.5 227,-4915.5 274,-4915.5 274,-4893.5 227,-4893.5\"/>\n",
       "<text text-anchor=\"start\" x=\"236.62\" y=\"-4901\" font-family=\"Linux libertine\" font-size=\"10.00\">input:</text>\n",
       "<polygon fill=\"none\" stroke=\"black\" points=\"274,-4893.5 274,-4915.5 336,-4915.5 336,-4893.5 274,-4893.5\"/>\n",
       "<text text-anchor=\"start\" x=\"278.75\" y=\"-4901\" font-family=\"Linux libertine\" font-size=\"10.00\">(1, 45, 64) </text>\n",
       "<polygon fill=\"none\" stroke=\"black\" points=\"227,-4871.5 227,-4893.5 274,-4893.5 274,-4871.5 227,-4871.5\"/>\n",
       "<text text-anchor=\"start\" x=\"231.75\" y=\"-4879\" font-family=\"Linux libertine\" font-size=\"10.00\">output: </text>\n",
       "<polygon fill=\"none\" stroke=\"black\" points=\"274,-4871.5 274,-4893.5 336,-4893.5 336,-4871.5 274,-4871.5\"/>\n",
       "<text text-anchor=\"start\" x=\"278.75\" y=\"-4879\" font-family=\"Linux libertine\" font-size=\"10.00\">(1, 45, 64) </text>\n",
       "</g>\n",
       "<!-- 14&#45;&gt;15 -->\n",
       "<g id=\"edge17\" class=\"edge\">\n",
       "<title>14&#45;&gt;15</title>\n",
       "<path fill=\"none\" stroke=\"black\" d=\"M260.7,-4951.6C260.4,-4943.82 260.05,-4934.8 259.72,-4926.26\"/>\n",
       "<polygon fill=\"black\" stroke=\"black\" points=\"263.19,-4926.32 259.31,-4916.46 256.19,-4926.59 263.19,-4926.32\"/>\n",
       "</g>\n",
       "<!-- 16 -->\n",
       "<g id=\"node17\" class=\"node\">\n",
       "<title>16</title>\n",
       "<polygon fill=\"#c1ffc1\" stroke=\"none\" points=\"334,-4835.5 179,-4835.5 179,-4791.5 334,-4791.5 334,-4835.5\"/>\n",
       "<polygon fill=\"none\" stroke=\"black\" points=\"179,-4791.5 179,-4835.5 225,-4835.5 225,-4791.5 179,-4791.5\"/>\n",
       "<text text-anchor=\"start\" x=\"188.88\" y=\"-4816.75\" font-family=\"Linux libertine\" font-size=\"10.00\">GELU</text>\n",
       "<text text-anchor=\"start\" x=\"183.62\" y=\"-4804\" font-family=\"Linux libertine\" font-size=\"10.00\">depth:4</text>\n",
       "<polygon fill=\"none\" stroke=\"black\" points=\"225,-4813.5 225,-4835.5 272,-4835.5 272,-4813.5 225,-4813.5\"/>\n",
       "<text text-anchor=\"start\" x=\"234.62\" y=\"-4821\" font-family=\"Linux libertine\" font-size=\"10.00\">input:</text>\n",
       "<polygon fill=\"none\" stroke=\"black\" points=\"272,-4813.5 272,-4835.5 334,-4835.5 334,-4813.5 272,-4813.5\"/>\n",
       "<text text-anchor=\"start\" x=\"276.75\" y=\"-4821\" font-family=\"Linux libertine\" font-size=\"10.00\">(1, 45, 64) </text>\n",
       "<polygon fill=\"none\" stroke=\"black\" points=\"225,-4791.5 225,-4813.5 272,-4813.5 272,-4791.5 225,-4791.5\"/>\n",
       "<text text-anchor=\"start\" x=\"229.75\" y=\"-4799\" font-family=\"Linux libertine\" font-size=\"10.00\">output: </text>\n",
       "<polygon fill=\"none\" stroke=\"black\" points=\"272,-4791.5 272,-4813.5 334,-4813.5 334,-4791.5 272,-4791.5\"/>\n",
       "<text text-anchor=\"start\" x=\"276.75\" y=\"-4799\" font-family=\"Linux libertine\" font-size=\"10.00\">(1, 45, 64) </text>\n",
       "</g>\n",
       "<!-- 15&#45;&gt;16 -->\n",
       "<g id=\"edge18\" class=\"edge\">\n",
       "<title>15&#45;&gt;16</title>\n",
       "<path fill=\"none\" stroke=\"black\" d=\"M257.96,-4871.6C257.76,-4863.82 257.53,-4854.8 257.31,-4846.26\"/>\n",
       "<polygon fill=\"black\" stroke=\"black\" points=\"260.79,-4846.37 257.04,-4836.46 253.8,-4846.55 260.79,-4846.37\"/>\n",
       "</g>\n",
       "<!-- 16&#45;&gt;17 -->\n",
       "<g id=\"edge19\" class=\"edge\">\n",
       "<title>16&#45;&gt;17</title>\n",
       "<path fill=\"none\" stroke=\"black\" d=\"M241.23,-4791.6C235.09,-4783.2 227.91,-4773.37 221.25,-4764.26\"/>\n",
       "<polygon fill=\"black\" stroke=\"black\" points=\"223.54,-4762.47 214.82,-4756.46 217.89,-4766.6 223.54,-4762.47\"/>\n",
       "</g>\n",
       "<!-- 18 -->\n",
       "<g id=\"node19\" class=\"node\">\n",
       "<title>18</title>\n",
       "<polygon fill=\"#c1ffc1\" stroke=\"none\" points=\"367,-4675.5 194,-4675.5 194,-4631.5 367,-4631.5 367,-4675.5\"/>\n",
       "<polygon fill=\"none\" stroke=\"black\" points=\"194,-4631.5 194,-4675.5 258,-4675.5 258,-4631.5 194,-4631.5\"/>\n",
       "<text text-anchor=\"start\" x=\"199\" y=\"-4656.75\" font-family=\"Linux libertine\" font-size=\"10.00\">LayerNorm</text>\n",
       "<text text-anchor=\"start\" x=\"207.62\" y=\"-4644\" font-family=\"Linux libertine\" font-size=\"10.00\">depth:4</text>\n",
       "<polygon fill=\"none\" stroke=\"black\" points=\"258,-4653.5 258,-4675.5 305,-4675.5 305,-4653.5 258,-4653.5\"/>\n",
       "<text text-anchor=\"start\" x=\"267.62\" y=\"-4661\" font-family=\"Linux libertine\" font-size=\"10.00\">input:</text>\n",
       "<polygon fill=\"none\" stroke=\"black\" points=\"305,-4653.5 305,-4675.5 367,-4675.5 367,-4653.5 305,-4653.5\"/>\n",
       "<text text-anchor=\"start\" x=\"309.75\" y=\"-4661\" font-family=\"Linux libertine\" font-size=\"10.00\">(1, 45, 64) </text>\n",
       "<polygon fill=\"none\" stroke=\"black\" points=\"258,-4631.5 258,-4653.5 305,-4653.5 305,-4631.5 258,-4631.5\"/>\n",
       "<text text-anchor=\"start\" x=\"262.75\" y=\"-4639\" font-family=\"Linux libertine\" font-size=\"10.00\">output: </text>\n",
       "<polygon fill=\"none\" stroke=\"black\" points=\"305,-4631.5 305,-4653.5 367,-4653.5 367,-4631.5 305,-4631.5\"/>\n",
       "<text text-anchor=\"start\" x=\"309.75\" y=\"-4639\" font-family=\"Linux libertine\" font-size=\"10.00\">(1, 45, 64) </text>\n",
       "</g>\n",
       "<!-- 17&#45;&gt;18 -->\n",
       "<g id=\"edge20\" class=\"edge\">\n",
       "<title>17&#45;&gt;18</title>\n",
       "<path fill=\"none\" stroke=\"black\" d=\"M221.21,-4711.6C230.38,-4702.77 241.2,-4692.35 251.07,-4682.84\"/>\n",
       "<polygon fill=\"black\" stroke=\"black\" points=\"252.96,-4685.92 257.73,-4676.46 248.1,-4680.88 252.96,-4685.92\"/>\n",
       "</g>\n",
       "<!-- 20 -->\n",
       "<g id=\"node21\" class=\"node\">\n",
       "<title>20</title>\n",
       "<polygon fill=\"aliceblue\" stroke=\"none\" points=\"310,-4515.5 137,-4515.5 137,-4471.5 310,-4471.5 310,-4515.5\"/>\n",
       "<polygon fill=\"none\" stroke=\"black\" points=\"137,-4471.5 137,-4515.5 183,-4515.5 183,-4471.5 137,-4471.5\"/>\n",
       "<text text-anchor=\"start\" x=\"151\" y=\"-4496.75\" font-family=\"Linux libertine\" font-size=\"10.00\">add</text>\n",
       "<text text-anchor=\"start\" x=\"141.62\" y=\"-4484\" font-family=\"Linux libertine\" font-size=\"10.00\">depth:4</text>\n",
       "<polygon fill=\"none\" stroke=\"black\" points=\"183,-4493.5 183,-4515.5 230,-4515.5 230,-4493.5 183,-4493.5\"/>\n",
       "<text text-anchor=\"start\" x=\"192.62\" y=\"-4501\" font-family=\"Linux libertine\" font-size=\"10.00\">input:</text>\n",
       "<polygon fill=\"none\" stroke=\"black\" points=\"230,-4493.5 230,-4515.5 310,-4515.5 310,-4493.5 230,-4493.5\"/>\n",
       "<text text-anchor=\"start\" x=\"234.75\" y=\"-4501\" font-family=\"Linux libertine\" font-size=\"10.00\">2 x (1, 45, 64) </text>\n",
       "<polygon fill=\"none\" stroke=\"black\" points=\"183,-4471.5 183,-4493.5 230,-4493.5 230,-4471.5 183,-4471.5\"/>\n",
       "<text text-anchor=\"start\" x=\"187.75\" y=\"-4479\" font-family=\"Linux libertine\" font-size=\"10.00\">output: </text>\n",
       "<polygon fill=\"none\" stroke=\"black\" points=\"230,-4471.5 230,-4493.5 310,-4493.5 310,-4471.5 230,-4471.5\"/>\n",
       "<text text-anchor=\"start\" x=\"243.75\" y=\"-4479\" font-family=\"Linux libertine\" font-size=\"10.00\">(1, 45, 64) </text>\n",
       "</g>\n",
       "<!-- 17&#45;&gt;20 -->\n",
       "<g id=\"edge21\" class=\"edge\">\n",
       "<title>17&#45;&gt;20</title>\n",
       "<path fill=\"none\" stroke=\"black\" d=\"M187.15,-4711.57C168.43,-4676.95 137.49,-4606.18 161.5,-4551.5 166.32,-4540.53 174.4,-4530.75 183.16,-4522.51\"/>\n",
       "<polygon fill=\"black\" stroke=\"black\" points=\"185.09,-4524.6 190.33,-4515.39 180.49,-4519.32 185.09,-4524.6\"/>\n",
       "</g>\n",
       "<!-- 19 -->\n",
       "<g id=\"node20\" class=\"node\">\n",
       "<title>19</title>\n",
       "<polygon fill=\"#c1ffc1\" stroke=\"none\" points=\"438.5,-4595.5 170.5,-4595.5 170.5,-4551.5 438.5,-4551.5 438.5,-4595.5\"/>\n",
       "<polygon fill=\"none\" stroke=\"black\" points=\"170.5,-4551.5 170.5,-4595.5 273.5,-4595.5 273.5,-4551.5 170.5,-4551.5\"/>\n",
       "<text text-anchor=\"start\" x=\"175.12\" y=\"-4576.75\" font-family=\"Linux libertine\" font-size=\"10.00\">MultiheadAttention</text>\n",
       "<text text-anchor=\"start\" x=\"203.62\" y=\"-4564\" font-family=\"Linux libertine\" font-size=\"10.00\">depth:4</text>\n",
       "<polygon fill=\"none\" stroke=\"black\" points=\"273.5,-4573.5 273.5,-4595.5 320.5,-4595.5 320.5,-4573.5 273.5,-4573.5\"/>\n",
       "<text text-anchor=\"start\" x=\"283.12\" y=\"-4581\" font-family=\"Linux libertine\" font-size=\"10.00\">input:</text>\n",
       "<polygon fill=\"none\" stroke=\"black\" points=\"320.5,-4573.5 320.5,-4595.5 438.5,-4595.5 438.5,-4573.5 320.5,-4573.5\"/>\n",
       "<text text-anchor=\"start\" x=\"344.25\" y=\"-4581\" font-family=\"Linux libertine\" font-size=\"10.00\">3 x (1, 45, 64) </text>\n",
       "<polygon fill=\"none\" stroke=\"black\" points=\"273.5,-4551.5 273.5,-4573.5 320.5,-4573.5 320.5,-4551.5 273.5,-4551.5\"/>\n",
       "<text text-anchor=\"start\" x=\"278.25\" y=\"-4559\" font-family=\"Linux libertine\" font-size=\"10.00\">output: </text>\n",
       "<polygon fill=\"none\" stroke=\"black\" points=\"320.5,-4551.5 320.5,-4573.5 438.5,-4573.5 438.5,-4551.5 320.5,-4551.5\"/>\n",
       "<text text-anchor=\"start\" x=\"325.5\" y=\"-4559\" font-family=\"Linux libertine\" font-size=\"10.00\">(1, 45, 64), (1, 45, 45) </text>\n",
       "</g>\n",
       "<!-- 18&#45;&gt;19 -->\n",
       "<g id=\"edge22\" class=\"edge\">\n",
       "<title>18&#45;&gt;19</title>\n",
       "<path fill=\"none\" stroke=\"black\" d=\"M286.93,-4631.6C289.38,-4623.64 292.23,-4614.39 294.9,-4605.69\"/>\n",
       "<polygon fill=\"black\" stroke=\"black\" points=\"298.45,-4607.05 298.05,-4596.46 291.76,-4604.99 298.45,-4607.05\"/>\n",
       "</g>\n",
       "<!-- 19&#45;&gt;20 -->\n",
       "<g id=\"edge23\" class=\"edge\">\n",
       "<title>19&#45;&gt;20</title>\n",
       "<path fill=\"none\" stroke=\"black\" d=\"M282.79,-4551.6C273.62,-4542.77 262.8,-4532.35 252.93,-4522.84\"/>\n",
       "<polygon fill=\"black\" stroke=\"black\" points=\"255.9,-4520.88 246.27,-4516.46 251.04,-4525.92 255.9,-4520.88\"/>\n",
       "</g>\n",
       "<!-- 21 -->\n",
       "<g id=\"node22\" class=\"node\">\n",
       "<title>21</title>\n",
       "<polygon fill=\"#c1ffc1\" stroke=\"none\" points=\"368,-4435.5 195,-4435.5 195,-4391.5 368,-4391.5 368,-4435.5\"/>\n",
       "<polygon fill=\"none\" stroke=\"black\" points=\"195,-4391.5 195,-4435.5 259,-4435.5 259,-4391.5 195,-4391.5\"/>\n",
       "<text text-anchor=\"start\" x=\"200\" y=\"-4416.75\" font-family=\"Linux libertine\" font-size=\"10.00\">LayerNorm</text>\n",
       "<text text-anchor=\"start\" x=\"208.62\" y=\"-4404\" font-family=\"Linux libertine\" font-size=\"10.00\">depth:4</text>\n",
       "<polygon fill=\"none\" stroke=\"black\" points=\"259,-4413.5 259,-4435.5 306,-4435.5 306,-4413.5 259,-4413.5\"/>\n",
       "<text text-anchor=\"start\" x=\"268.62\" y=\"-4421\" font-family=\"Linux libertine\" font-size=\"10.00\">input:</text>\n",
       "<polygon fill=\"none\" stroke=\"black\" points=\"306,-4413.5 306,-4435.5 368,-4435.5 368,-4413.5 306,-4413.5\"/>\n",
       "<text text-anchor=\"start\" x=\"310.75\" y=\"-4421\" font-family=\"Linux libertine\" font-size=\"10.00\">(1, 45, 64) </text>\n",
       "<polygon fill=\"none\" stroke=\"black\" points=\"259,-4391.5 259,-4413.5 306,-4413.5 306,-4391.5 259,-4391.5\"/>\n",
       "<text text-anchor=\"start\" x=\"263.75\" y=\"-4399\" font-family=\"Linux libertine\" font-size=\"10.00\">output: </text>\n",
       "<polygon fill=\"none\" stroke=\"black\" points=\"306,-4391.5 306,-4413.5 368,-4413.5 368,-4391.5 306,-4391.5\"/>\n",
       "<text text-anchor=\"start\" x=\"310.75\" y=\"-4399\" font-family=\"Linux libertine\" font-size=\"10.00\">(1, 45, 64) </text>\n",
       "</g>\n",
       "<!-- 20&#45;&gt;21 -->\n",
       "<g id=\"edge24\" class=\"edge\">\n",
       "<title>20&#45;&gt;21</title>\n",
       "<path fill=\"none\" stroke=\"black\" d=\"M239.04,-4471.6C245.28,-4463.2 252.59,-4453.37 259.37,-4444.26\"/>\n",
       "<polygon fill=\"black\" stroke=\"black\" points=\"262.76,-4446.57 265.91,-4436.46 257.14,-4442.4 262.76,-4446.57\"/>\n",
       "</g>\n",
       "<!-- 24 -->\n",
       "<g id=\"node25\" class=\"node\">\n",
       "<title>24</title>\n",
       "<polygon fill=\"aliceblue\" stroke=\"none\" points=\"306,-4195.5 133,-4195.5 133,-4151.5 306,-4151.5 306,-4195.5\"/>\n",
       "<polygon fill=\"none\" stroke=\"black\" points=\"133,-4151.5 133,-4195.5 179,-4195.5 179,-4151.5 133,-4151.5\"/>\n",
       "<text text-anchor=\"start\" x=\"147\" y=\"-4176.75\" font-family=\"Linux libertine\" font-size=\"10.00\">add</text>\n",
       "<text text-anchor=\"start\" x=\"137.62\" y=\"-4164\" font-family=\"Linux libertine\" font-size=\"10.00\">depth:4</text>\n",
       "<polygon fill=\"none\" stroke=\"black\" points=\"179,-4173.5 179,-4195.5 226,-4195.5 226,-4173.5 179,-4173.5\"/>\n",
       "<text text-anchor=\"start\" x=\"188.62\" y=\"-4181\" font-family=\"Linux libertine\" font-size=\"10.00\">input:</text>\n",
       "<polygon fill=\"none\" stroke=\"black\" points=\"226,-4173.5 226,-4195.5 306,-4195.5 306,-4173.5 226,-4173.5\"/>\n",
       "<text text-anchor=\"start\" x=\"230.75\" y=\"-4181\" font-family=\"Linux libertine\" font-size=\"10.00\">2 x (1, 45, 64) </text>\n",
       "<polygon fill=\"none\" stroke=\"black\" points=\"179,-4151.5 179,-4173.5 226,-4173.5 226,-4151.5 179,-4151.5\"/>\n",
       "<text text-anchor=\"start\" x=\"183.75\" y=\"-4159\" font-family=\"Linux libertine\" font-size=\"10.00\">output: </text>\n",
       "<polygon fill=\"none\" stroke=\"black\" points=\"226,-4151.5 226,-4173.5 306,-4173.5 306,-4151.5 226,-4151.5\"/>\n",
       "<text text-anchor=\"start\" x=\"239.75\" y=\"-4159\" font-family=\"Linux libertine\" font-size=\"10.00\">(1, 45, 64) </text>\n",
       "</g>\n",
       "<!-- 20&#45;&gt;24 -->\n",
       "<g id=\"edge25\" class=\"edge\">\n",
       "<title>20&#45;&gt;24</title>\n",
       "<path fill=\"none\" stroke=\"black\" d=\"M205.22,-4471.59C197.53,-4461.42 189.46,-4448.59 185.5,-4435.5 175.43,-4402.24 158.7,-4349.8 189.5,-4231.5 191.84,-4222.5 195.83,-4213.33 200.15,-4205.05\"/>\n",
       "<polygon fill=\"black\" stroke=\"black\" points=\"203.68,-4206.91 205.49,-4196.47 197.56,-4203.5 203.68,-4206.91\"/>\n",
       "</g>\n",
       "<!-- 22 -->\n",
       "<g id=\"node23\" class=\"node\">\n",
       "<title>22</title>\n",
       "<polygon fill=\"#c1ffc1\" stroke=\"none\" points=\"356,-4355.5 201,-4355.5 201,-4311.5 356,-4311.5 356,-4355.5\"/>\n",
       "<polygon fill=\"none\" stroke=\"black\" points=\"201,-4311.5 201,-4355.5 247,-4355.5 247,-4311.5 201,-4311.5\"/>\n",
       "<text text-anchor=\"start\" x=\"209\" y=\"-4336.75\" font-family=\"Linux libertine\" font-size=\"10.00\">Linear</text>\n",
       "<text text-anchor=\"start\" x=\"205.62\" y=\"-4324\" font-family=\"Linux libertine\" font-size=\"10.00\">depth:4</text>\n",
       "<polygon fill=\"none\" stroke=\"black\" points=\"247,-4333.5 247,-4355.5 294,-4355.5 294,-4333.5 247,-4333.5\"/>\n",
       "<text text-anchor=\"start\" x=\"256.62\" y=\"-4341\" font-family=\"Linux libertine\" font-size=\"10.00\">input:</text>\n",
       "<polygon fill=\"none\" stroke=\"black\" points=\"294,-4333.5 294,-4355.5 356,-4355.5 356,-4333.5 294,-4333.5\"/>\n",
       "<text text-anchor=\"start\" x=\"298.75\" y=\"-4341\" font-family=\"Linux libertine\" font-size=\"10.00\">(1, 45, 64) </text>\n",
       "<polygon fill=\"none\" stroke=\"black\" points=\"247,-4311.5 247,-4333.5 294,-4333.5 294,-4311.5 247,-4311.5\"/>\n",
       "<text text-anchor=\"start\" x=\"251.75\" y=\"-4319\" font-family=\"Linux libertine\" font-size=\"10.00\">output: </text>\n",
       "<polygon fill=\"none\" stroke=\"black\" points=\"294,-4311.5 294,-4333.5 356,-4333.5 356,-4311.5 294,-4311.5\"/>\n",
       "<text text-anchor=\"start\" x=\"298.75\" y=\"-4319\" font-family=\"Linux libertine\" font-size=\"10.00\">(1, 45, 64) </text>\n",
       "</g>\n",
       "<!-- 21&#45;&gt;22 -->\n",
       "<g id=\"edge26\" class=\"edge\">\n",
       "<title>21&#45;&gt;22</title>\n",
       "<path fill=\"none\" stroke=\"black\" d=\"M280.7,-4391.6C280.4,-4383.82 280.05,-4374.8 279.72,-4366.26\"/>\n",
       "<polygon fill=\"black\" stroke=\"black\" points=\"283.19,-4366.32 279.31,-4356.46 276.19,-4366.59 283.19,-4366.32\"/>\n",
       "</g>\n",
       "<!-- 23 -->\n",
       "<g id=\"node24\" class=\"node\">\n",
       "<title>23</title>\n",
       "<polygon fill=\"#c1ffc1\" stroke=\"none\" points=\"354,-4275.5 199,-4275.5 199,-4231.5 354,-4231.5 354,-4275.5\"/>\n",
       "<polygon fill=\"none\" stroke=\"black\" points=\"199,-4231.5 199,-4275.5 245,-4275.5 245,-4231.5 199,-4231.5\"/>\n",
       "<text text-anchor=\"start\" x=\"208.88\" y=\"-4256.75\" font-family=\"Linux libertine\" font-size=\"10.00\">GELU</text>\n",
       "<text text-anchor=\"start\" x=\"203.62\" y=\"-4244\" font-family=\"Linux libertine\" font-size=\"10.00\">depth:4</text>\n",
       "<polygon fill=\"none\" stroke=\"black\" points=\"245,-4253.5 245,-4275.5 292,-4275.5 292,-4253.5 245,-4253.5\"/>\n",
       "<text text-anchor=\"start\" x=\"254.62\" y=\"-4261\" font-family=\"Linux libertine\" font-size=\"10.00\">input:</text>\n",
       "<polygon fill=\"none\" stroke=\"black\" points=\"292,-4253.5 292,-4275.5 354,-4275.5 354,-4253.5 292,-4253.5\"/>\n",
       "<text text-anchor=\"start\" x=\"296.75\" y=\"-4261\" font-family=\"Linux libertine\" font-size=\"10.00\">(1, 45, 64) </text>\n",
       "<polygon fill=\"none\" stroke=\"black\" points=\"245,-4231.5 245,-4253.5 292,-4253.5 292,-4231.5 245,-4231.5\"/>\n",
       "<text text-anchor=\"start\" x=\"249.75\" y=\"-4239\" font-family=\"Linux libertine\" font-size=\"10.00\">output: </text>\n",
       "<polygon fill=\"none\" stroke=\"black\" points=\"292,-4231.5 292,-4253.5 354,-4253.5 354,-4231.5 292,-4231.5\"/>\n",
       "<text text-anchor=\"start\" x=\"296.75\" y=\"-4239\" font-family=\"Linux libertine\" font-size=\"10.00\">(1, 45, 64) </text>\n",
       "</g>\n",
       "<!-- 22&#45;&gt;23 -->\n",
       "<g id=\"edge27\" class=\"edge\">\n",
       "<title>22&#45;&gt;23</title>\n",
       "<path fill=\"none\" stroke=\"black\" d=\"M277.96,-4311.6C277.76,-4303.82 277.53,-4294.8 277.31,-4286.26\"/>\n",
       "<polygon fill=\"black\" stroke=\"black\" points=\"280.79,-4286.37 277.04,-4276.46 273.8,-4286.55 280.79,-4286.37\"/>\n",
       "</g>\n",
       "<!-- 23&#45;&gt;24 -->\n",
       "<g id=\"edge28\" class=\"edge\">\n",
       "<title>23&#45;&gt;24</title>\n",
       "<path fill=\"none\" stroke=\"black\" d=\"M261.23,-4231.6C255.09,-4223.2 247.91,-4213.37 241.25,-4204.26\"/>\n",
       "<polygon fill=\"black\" stroke=\"black\" points=\"243.54,-4202.47 234.82,-4196.46 237.89,-4206.6 243.54,-4202.47\"/>\n",
       "</g>\n",
       "<!-- 25 -->\n",
       "<g id=\"node26\" class=\"node\">\n",
       "<title>25</title>\n",
       "<polygon fill=\"#c1ffc1\" stroke=\"none\" points=\"387,-4115.5 214,-4115.5 214,-4071.5 387,-4071.5 387,-4115.5\"/>\n",
       "<polygon fill=\"none\" stroke=\"black\" points=\"214,-4071.5 214,-4115.5 278,-4115.5 278,-4071.5 214,-4071.5\"/>\n",
       "<text text-anchor=\"start\" x=\"219\" y=\"-4096.75\" font-family=\"Linux libertine\" font-size=\"10.00\">LayerNorm</text>\n",
       "<text text-anchor=\"start\" x=\"227.62\" y=\"-4084\" font-family=\"Linux libertine\" font-size=\"10.00\">depth:4</text>\n",
       "<polygon fill=\"none\" stroke=\"black\" points=\"278,-4093.5 278,-4115.5 325,-4115.5 325,-4093.5 278,-4093.5\"/>\n",
       "<text text-anchor=\"start\" x=\"287.62\" y=\"-4101\" font-family=\"Linux libertine\" font-size=\"10.00\">input:</text>\n",
       "<polygon fill=\"none\" stroke=\"black\" points=\"325,-4093.5 325,-4115.5 387,-4115.5 387,-4093.5 325,-4093.5\"/>\n",
       "<text text-anchor=\"start\" x=\"329.75\" y=\"-4101\" font-family=\"Linux libertine\" font-size=\"10.00\">(1, 45, 64) </text>\n",
       "<polygon fill=\"none\" stroke=\"black\" points=\"278,-4071.5 278,-4093.5 325,-4093.5 325,-4071.5 278,-4071.5\"/>\n",
       "<text text-anchor=\"start\" x=\"282.75\" y=\"-4079\" font-family=\"Linux libertine\" font-size=\"10.00\">output: </text>\n",
       "<polygon fill=\"none\" stroke=\"black\" points=\"325,-4071.5 325,-4093.5 387,-4093.5 387,-4071.5 325,-4071.5\"/>\n",
       "<text text-anchor=\"start\" x=\"329.75\" y=\"-4079\" font-family=\"Linux libertine\" font-size=\"10.00\">(1, 45, 64) </text>\n",
       "</g>\n",
       "<!-- 24&#45;&gt;25 -->\n",
       "<g id=\"edge29\" class=\"edge\">\n",
       "<title>24&#45;&gt;25</title>\n",
       "<path fill=\"none\" stroke=\"black\" d=\"M241.21,-4151.6C250.38,-4142.77 261.2,-4132.35 271.07,-4122.84\"/>\n",
       "<polygon fill=\"black\" stroke=\"black\" points=\"272.96,-4125.92 277.73,-4116.46 268.1,-4120.88 272.96,-4125.92\"/>\n",
       "</g>\n",
       "<!-- 27 -->\n",
       "<g id=\"node28\" class=\"node\">\n",
       "<title>27</title>\n",
       "<polygon fill=\"aliceblue\" stroke=\"none\" points=\"330,-3955.5 157,-3955.5 157,-3911.5 330,-3911.5 330,-3955.5\"/>\n",
       "<polygon fill=\"none\" stroke=\"black\" points=\"157,-3911.5 157,-3955.5 203,-3955.5 203,-3911.5 157,-3911.5\"/>\n",
       "<text text-anchor=\"start\" x=\"171\" y=\"-3936.75\" font-family=\"Linux libertine\" font-size=\"10.00\">add</text>\n",
       "<text text-anchor=\"start\" x=\"161.62\" y=\"-3924\" font-family=\"Linux libertine\" font-size=\"10.00\">depth:4</text>\n",
       "<polygon fill=\"none\" stroke=\"black\" points=\"203,-3933.5 203,-3955.5 250,-3955.5 250,-3933.5 203,-3933.5\"/>\n",
       "<text text-anchor=\"start\" x=\"212.62\" y=\"-3941\" font-family=\"Linux libertine\" font-size=\"10.00\">input:</text>\n",
       "<polygon fill=\"none\" stroke=\"black\" points=\"250,-3933.5 250,-3955.5 330,-3955.5 330,-3933.5 250,-3933.5\"/>\n",
       "<text text-anchor=\"start\" x=\"254.75\" y=\"-3941\" font-family=\"Linux libertine\" font-size=\"10.00\">2 x (1, 45, 64) </text>\n",
       "<polygon fill=\"none\" stroke=\"black\" points=\"203,-3911.5 203,-3933.5 250,-3933.5 250,-3911.5 203,-3911.5\"/>\n",
       "<text text-anchor=\"start\" x=\"207.75\" y=\"-3919\" font-family=\"Linux libertine\" font-size=\"10.00\">output: </text>\n",
       "<polygon fill=\"none\" stroke=\"black\" points=\"250,-3911.5 250,-3933.5 330,-3933.5 330,-3911.5 250,-3911.5\"/>\n",
       "<text text-anchor=\"start\" x=\"263.75\" y=\"-3919\" font-family=\"Linux libertine\" font-size=\"10.00\">(1, 45, 64) </text>\n",
       "</g>\n",
       "<!-- 24&#45;&gt;27 -->\n",
       "<g id=\"edge30\" class=\"edge\">\n",
       "<title>24&#45;&gt;27</title>\n",
       "<path fill=\"none\" stroke=\"black\" d=\"M207.15,-4151.57C188.43,-4116.95 157.49,-4046.18 181.5,-3991.5 186.32,-3980.53 194.4,-3970.75 203.16,-3962.51\"/>\n",
       "<polygon fill=\"black\" stroke=\"black\" points=\"205.09,-3964.6 210.33,-3955.39 200.49,-3959.32 205.09,-3964.6\"/>\n",
       "</g>\n",
       "<!-- 26 -->\n",
       "<g id=\"node27\" class=\"node\">\n",
       "<title>26</title>\n",
       "<polygon fill=\"#c1ffc1\" stroke=\"none\" points=\"458.5,-4035.5 190.5,-4035.5 190.5,-3991.5 458.5,-3991.5 458.5,-4035.5\"/>\n",
       "<polygon fill=\"none\" stroke=\"black\" points=\"190.5,-3991.5 190.5,-4035.5 293.5,-4035.5 293.5,-3991.5 190.5,-3991.5\"/>\n",
       "<text text-anchor=\"start\" x=\"195.12\" y=\"-4016.75\" font-family=\"Linux libertine\" font-size=\"10.00\">MultiheadAttention</text>\n",
       "<text text-anchor=\"start\" x=\"223.62\" y=\"-4004\" font-family=\"Linux libertine\" font-size=\"10.00\">depth:4</text>\n",
       "<polygon fill=\"none\" stroke=\"black\" points=\"293.5,-4013.5 293.5,-4035.5 340.5,-4035.5 340.5,-4013.5 293.5,-4013.5\"/>\n",
       "<text text-anchor=\"start\" x=\"303.12\" y=\"-4021\" font-family=\"Linux libertine\" font-size=\"10.00\">input:</text>\n",
       "<polygon fill=\"none\" stroke=\"black\" points=\"340.5,-4013.5 340.5,-4035.5 458.5,-4035.5 458.5,-4013.5 340.5,-4013.5\"/>\n",
       "<text text-anchor=\"start\" x=\"364.25\" y=\"-4021\" font-family=\"Linux libertine\" font-size=\"10.00\">3 x (1, 45, 64) </text>\n",
       "<polygon fill=\"none\" stroke=\"black\" points=\"293.5,-3991.5 293.5,-4013.5 340.5,-4013.5 340.5,-3991.5 293.5,-3991.5\"/>\n",
       "<text text-anchor=\"start\" x=\"298.25\" y=\"-3999\" font-family=\"Linux libertine\" font-size=\"10.00\">output: </text>\n",
       "<polygon fill=\"none\" stroke=\"black\" points=\"340.5,-3991.5 340.5,-4013.5 458.5,-4013.5 458.5,-3991.5 340.5,-3991.5\"/>\n",
       "<text text-anchor=\"start\" x=\"345.5\" y=\"-3999\" font-family=\"Linux libertine\" font-size=\"10.00\">(1, 45, 64), (1, 45, 45) </text>\n",
       "</g>\n",
       "<!-- 25&#45;&gt;26 -->\n",
       "<g id=\"edge31\" class=\"edge\">\n",
       "<title>25&#45;&gt;26</title>\n",
       "<path fill=\"none\" stroke=\"black\" d=\"M306.93,-4071.6C309.38,-4063.64 312.23,-4054.39 314.9,-4045.69\"/>\n",
       "<polygon fill=\"black\" stroke=\"black\" points=\"318.45,-4047.05 318.05,-4036.46 311.76,-4044.99 318.45,-4047.05\"/>\n",
       "</g>\n",
       "<!-- 26&#45;&gt;27 -->\n",
       "<g id=\"edge32\" class=\"edge\">\n",
       "<title>26&#45;&gt;27</title>\n",
       "<path fill=\"none\" stroke=\"black\" d=\"M302.79,-3991.6C293.62,-3982.77 282.8,-3972.35 272.93,-3962.84\"/>\n",
       "<polygon fill=\"black\" stroke=\"black\" points=\"275.9,-3960.88 266.27,-3956.46 271.04,-3965.92 275.9,-3960.88\"/>\n",
       "</g>\n",
       "<!-- 28 -->\n",
       "<g id=\"node29\" class=\"node\">\n",
       "<title>28</title>\n",
       "<polygon fill=\"#c1ffc1\" stroke=\"none\" points=\"388,-3875.5 215,-3875.5 215,-3831.5 388,-3831.5 388,-3875.5\"/>\n",
       "<polygon fill=\"none\" stroke=\"black\" points=\"215,-3831.5 215,-3875.5 279,-3875.5 279,-3831.5 215,-3831.5\"/>\n",
       "<text text-anchor=\"start\" x=\"220\" y=\"-3856.75\" font-family=\"Linux libertine\" font-size=\"10.00\">LayerNorm</text>\n",
       "<text text-anchor=\"start\" x=\"228.62\" y=\"-3844\" font-family=\"Linux libertine\" font-size=\"10.00\">depth:4</text>\n",
       "<polygon fill=\"none\" stroke=\"black\" points=\"279,-3853.5 279,-3875.5 326,-3875.5 326,-3853.5 279,-3853.5\"/>\n",
       "<text text-anchor=\"start\" x=\"288.62\" y=\"-3861\" font-family=\"Linux libertine\" font-size=\"10.00\">input:</text>\n",
       "<polygon fill=\"none\" stroke=\"black\" points=\"326,-3853.5 326,-3875.5 388,-3875.5 388,-3853.5 326,-3853.5\"/>\n",
       "<text text-anchor=\"start\" x=\"330.75\" y=\"-3861\" font-family=\"Linux libertine\" font-size=\"10.00\">(1, 45, 64) </text>\n",
       "<polygon fill=\"none\" stroke=\"black\" points=\"279,-3831.5 279,-3853.5 326,-3853.5 326,-3831.5 279,-3831.5\"/>\n",
       "<text text-anchor=\"start\" x=\"283.75\" y=\"-3839\" font-family=\"Linux libertine\" font-size=\"10.00\">output: </text>\n",
       "<polygon fill=\"none\" stroke=\"black\" points=\"326,-3831.5 326,-3853.5 388,-3853.5 388,-3831.5 326,-3831.5\"/>\n",
       "<text text-anchor=\"start\" x=\"330.75\" y=\"-3839\" font-family=\"Linux libertine\" font-size=\"10.00\">(1, 45, 64) </text>\n",
       "</g>\n",
       "<!-- 27&#45;&gt;28 -->\n",
       "<g id=\"edge33\" class=\"edge\">\n",
       "<title>27&#45;&gt;28</title>\n",
       "<path fill=\"none\" stroke=\"black\" d=\"M259.04,-3911.6C265.28,-3903.2 272.59,-3893.37 279.37,-3884.26\"/>\n",
       "<polygon fill=\"black\" stroke=\"black\" points=\"282.76,-3886.57 285.91,-3876.46 277.14,-3882.4 282.76,-3886.57\"/>\n",
       "</g>\n",
       "<!-- 31 -->\n",
       "<g id=\"node32\" class=\"node\">\n",
       "<title>31</title>\n",
       "<polygon fill=\"aliceblue\" stroke=\"none\" points=\"283,-3635.5 110,-3635.5 110,-3591.5 283,-3591.5 283,-3635.5\"/>\n",
       "<polygon fill=\"none\" stroke=\"black\" points=\"110,-3591.5 110,-3635.5 156,-3635.5 156,-3591.5 110,-3591.5\"/>\n",
       "<text text-anchor=\"start\" x=\"124\" y=\"-3616.75\" font-family=\"Linux libertine\" font-size=\"10.00\">add</text>\n",
       "<text text-anchor=\"start\" x=\"114.62\" y=\"-3604\" font-family=\"Linux libertine\" font-size=\"10.00\">depth:4</text>\n",
       "<polygon fill=\"none\" stroke=\"black\" points=\"156,-3613.5 156,-3635.5 203,-3635.5 203,-3613.5 156,-3613.5\"/>\n",
       "<text text-anchor=\"start\" x=\"165.62\" y=\"-3621\" font-family=\"Linux libertine\" font-size=\"10.00\">input:</text>\n",
       "<polygon fill=\"none\" stroke=\"black\" points=\"203,-3613.5 203,-3635.5 283,-3635.5 283,-3613.5 203,-3613.5\"/>\n",
       "<text text-anchor=\"start\" x=\"207.75\" y=\"-3621\" font-family=\"Linux libertine\" font-size=\"10.00\">2 x (1, 45, 64) </text>\n",
       "<polygon fill=\"none\" stroke=\"black\" points=\"156,-3591.5 156,-3613.5 203,-3613.5 203,-3591.5 156,-3591.5\"/>\n",
       "<text text-anchor=\"start\" x=\"160.75\" y=\"-3599\" font-family=\"Linux libertine\" font-size=\"10.00\">output: </text>\n",
       "<polygon fill=\"none\" stroke=\"black\" points=\"203,-3591.5 203,-3613.5 283,-3613.5 283,-3591.5 203,-3591.5\"/>\n",
       "<text text-anchor=\"start\" x=\"216.75\" y=\"-3599\" font-family=\"Linux libertine\" font-size=\"10.00\">(1, 45, 64) </text>\n",
       "</g>\n",
       "<!-- 27&#45;&gt;31 -->\n",
       "<g id=\"edge34\" class=\"edge\">\n",
       "<title>27&#45;&gt;31</title>\n",
       "<path fill=\"none\" stroke=\"black\" d=\"M225.43,-3911.52C217.78,-3901.35 209.69,-3888.52 205.5,-3875.5 180,-3796.22 186.46,-3696.33 192.14,-3646.23\"/>\n",
       "<polygon fill=\"black\" stroke=\"black\" points=\"195.72,-3646.81 193.44,-3636.46 188.77,-3645.97 195.72,-3646.81\"/>\n",
       "</g>\n",
       "<!-- 29 -->\n",
       "<g id=\"node30\" class=\"node\">\n",
       "<title>29</title>\n",
       "<polygon fill=\"#c1ffc1\" stroke=\"none\" points=\"376,-3795.5 221,-3795.5 221,-3751.5 376,-3751.5 376,-3795.5\"/>\n",
       "<polygon fill=\"none\" stroke=\"black\" points=\"221,-3751.5 221,-3795.5 267,-3795.5 267,-3751.5 221,-3751.5\"/>\n",
       "<text text-anchor=\"start\" x=\"229\" y=\"-3776.75\" font-family=\"Linux libertine\" font-size=\"10.00\">Linear</text>\n",
       "<text text-anchor=\"start\" x=\"225.62\" y=\"-3764\" font-family=\"Linux libertine\" font-size=\"10.00\">depth:4</text>\n",
       "<polygon fill=\"none\" stroke=\"black\" points=\"267,-3773.5 267,-3795.5 314,-3795.5 314,-3773.5 267,-3773.5\"/>\n",
       "<text text-anchor=\"start\" x=\"276.62\" y=\"-3781\" font-family=\"Linux libertine\" font-size=\"10.00\">input:</text>\n",
       "<polygon fill=\"none\" stroke=\"black\" points=\"314,-3773.5 314,-3795.5 376,-3795.5 376,-3773.5 314,-3773.5\"/>\n",
       "<text text-anchor=\"start\" x=\"318.75\" y=\"-3781\" font-family=\"Linux libertine\" font-size=\"10.00\">(1, 45, 64) </text>\n",
       "<polygon fill=\"none\" stroke=\"black\" points=\"267,-3751.5 267,-3773.5 314,-3773.5 314,-3751.5 267,-3751.5\"/>\n",
       "<text text-anchor=\"start\" x=\"271.75\" y=\"-3759\" font-family=\"Linux libertine\" font-size=\"10.00\">output: </text>\n",
       "<polygon fill=\"none\" stroke=\"black\" points=\"314,-3751.5 314,-3773.5 376,-3773.5 376,-3751.5 314,-3751.5\"/>\n",
       "<text text-anchor=\"start\" x=\"318.75\" y=\"-3759\" font-family=\"Linux libertine\" font-size=\"10.00\">(1, 45, 64) </text>\n",
       "</g>\n",
       "<!-- 28&#45;&gt;29 -->\n",
       "<g id=\"edge35\" class=\"edge\">\n",
       "<title>28&#45;&gt;29</title>\n",
       "<path fill=\"none\" stroke=\"black\" d=\"M300.7,-3831.6C300.4,-3823.82 300.05,-3814.8 299.72,-3806.26\"/>\n",
       "<polygon fill=\"black\" stroke=\"black\" points=\"303.19,-3806.32 299.31,-3796.46 296.19,-3806.59 303.19,-3806.32\"/>\n",
       "</g>\n",
       "<!-- 30 -->\n",
       "<g id=\"node31\" class=\"node\">\n",
       "<title>30</title>\n",
       "<polygon fill=\"#c1ffc1\" stroke=\"none\" points=\"374,-3715.5 219,-3715.5 219,-3671.5 374,-3671.5 374,-3715.5\"/>\n",
       "<polygon fill=\"none\" stroke=\"black\" points=\"219,-3671.5 219,-3715.5 265,-3715.5 265,-3671.5 219,-3671.5\"/>\n",
       "<text text-anchor=\"start\" x=\"228.88\" y=\"-3696.75\" font-family=\"Linux libertine\" font-size=\"10.00\">GELU</text>\n",
       "<text text-anchor=\"start\" x=\"223.62\" y=\"-3684\" font-family=\"Linux libertine\" font-size=\"10.00\">depth:4</text>\n",
       "<polygon fill=\"none\" stroke=\"black\" points=\"265,-3693.5 265,-3715.5 312,-3715.5 312,-3693.5 265,-3693.5\"/>\n",
       "<text text-anchor=\"start\" x=\"274.62\" y=\"-3701\" font-family=\"Linux libertine\" font-size=\"10.00\">input:</text>\n",
       "<polygon fill=\"none\" stroke=\"black\" points=\"312,-3693.5 312,-3715.5 374,-3715.5 374,-3693.5 312,-3693.5\"/>\n",
       "<text text-anchor=\"start\" x=\"316.75\" y=\"-3701\" font-family=\"Linux libertine\" font-size=\"10.00\">(1, 45, 64) </text>\n",
       "<polygon fill=\"none\" stroke=\"black\" points=\"265,-3671.5 265,-3693.5 312,-3693.5 312,-3671.5 265,-3671.5\"/>\n",
       "<text text-anchor=\"start\" x=\"269.75\" y=\"-3679\" font-family=\"Linux libertine\" font-size=\"10.00\">output: </text>\n",
       "<polygon fill=\"none\" stroke=\"black\" points=\"312,-3671.5 312,-3693.5 374,-3693.5 374,-3671.5 312,-3671.5\"/>\n",
       "<text text-anchor=\"start\" x=\"316.75\" y=\"-3679\" font-family=\"Linux libertine\" font-size=\"10.00\">(1, 45, 64) </text>\n",
       "</g>\n",
       "<!-- 29&#45;&gt;30 -->\n",
       "<g id=\"edge36\" class=\"edge\">\n",
       "<title>29&#45;&gt;30</title>\n",
       "<path fill=\"none\" stroke=\"black\" d=\"M297.96,-3751.6C297.76,-3743.82 297.53,-3734.8 297.31,-3726.26\"/>\n",
       "<polygon fill=\"black\" stroke=\"black\" points=\"300.79,-3726.37 297.04,-3716.46 293.8,-3726.55 300.79,-3726.37\"/>\n",
       "</g>\n",
       "<!-- 30&#45;&gt;31 -->\n",
       "<g id=\"edge37\" class=\"edge\">\n",
       "<title>30&#45;&gt;31</title>\n",
       "<path fill=\"none\" stroke=\"black\" d=\"M269.7,-3671.6C258.04,-3662.5 244.22,-3651.73 231.75,-3642\"/>\n",
       "<polygon fill=\"black\" stroke=\"black\" points=\"234.41,-3638.85 224.37,-3635.46 230.1,-3644.37 234.41,-3638.85\"/>\n",
       "</g>\n",
       "<!-- 32 -->\n",
       "<g id=\"node33\" class=\"node\">\n",
       "<title>32</title>\n",
       "<polygon fill=\"#c1ffc1\" stroke=\"none\" points=\"324,-3555.5 151,-3555.5 151,-3511.5 324,-3511.5 324,-3555.5\"/>\n",
       "<polygon fill=\"none\" stroke=\"black\" points=\"151,-3511.5 151,-3555.5 215,-3555.5 215,-3511.5 151,-3511.5\"/>\n",
       "<text text-anchor=\"start\" x=\"156\" y=\"-3536.75\" font-family=\"Linux libertine\" font-size=\"10.00\">LayerNorm</text>\n",
       "<text text-anchor=\"start\" x=\"164.62\" y=\"-3524\" font-family=\"Linux libertine\" font-size=\"10.00\">depth:4</text>\n",
       "<polygon fill=\"none\" stroke=\"black\" points=\"215,-3533.5 215,-3555.5 262,-3555.5 262,-3533.5 215,-3533.5\"/>\n",
       "<text text-anchor=\"start\" x=\"224.62\" y=\"-3541\" font-family=\"Linux libertine\" font-size=\"10.00\">input:</text>\n",
       "<polygon fill=\"none\" stroke=\"black\" points=\"262,-3533.5 262,-3555.5 324,-3555.5 324,-3533.5 262,-3533.5\"/>\n",
       "<text text-anchor=\"start\" x=\"266.75\" y=\"-3541\" font-family=\"Linux libertine\" font-size=\"10.00\">(1, 45, 64) </text>\n",
       "<polygon fill=\"none\" stroke=\"black\" points=\"215,-3511.5 215,-3533.5 262,-3533.5 262,-3511.5 215,-3511.5\"/>\n",
       "<text text-anchor=\"start\" x=\"219.75\" y=\"-3519\" font-family=\"Linux libertine\" font-size=\"10.00\">output: </text>\n",
       "<polygon fill=\"none\" stroke=\"black\" points=\"262,-3511.5 262,-3533.5 324,-3533.5 324,-3511.5 262,-3511.5\"/>\n",
       "<text text-anchor=\"start\" x=\"266.75\" y=\"-3519\" font-family=\"Linux libertine\" font-size=\"10.00\">(1, 45, 64) </text>\n",
       "</g>\n",
       "<!-- 31&#45;&gt;32 -->\n",
       "<g id=\"edge38\" class=\"edge\">\n",
       "<title>31&#45;&gt;32</title>\n",
       "<path fill=\"none\" stroke=\"black\" d=\"M207.49,-3591.6C211.76,-3583.47 216.74,-3573.99 221.41,-3565.11\"/>\n",
       "<polygon fill=\"black\" stroke=\"black\" points=\"224.93,-3566.94 226.48,-3556.46 218.73,-3563.68 224.93,-3566.94\"/>\n",
       "</g>\n",
       "<!-- 34 -->\n",
       "<g id=\"node35\" class=\"node\">\n",
       "<title>34</title>\n",
       "<polygon fill=\"aliceblue\" stroke=\"none\" points=\"238,-3395.5 65,-3395.5 65,-3351.5 238,-3351.5 238,-3395.5\"/>\n",
       "<polygon fill=\"none\" stroke=\"black\" points=\"65,-3351.5 65,-3395.5 111,-3395.5 111,-3351.5 65,-3351.5\"/>\n",
       "<text text-anchor=\"start\" x=\"79\" y=\"-3376.75\" font-family=\"Linux libertine\" font-size=\"10.00\">add</text>\n",
       "<text text-anchor=\"start\" x=\"69.62\" y=\"-3364\" font-family=\"Linux libertine\" font-size=\"10.00\">depth:4</text>\n",
       "<polygon fill=\"none\" stroke=\"black\" points=\"111,-3373.5 111,-3395.5 158,-3395.5 158,-3373.5 111,-3373.5\"/>\n",
       "<text text-anchor=\"start\" x=\"120.62\" y=\"-3381\" font-family=\"Linux libertine\" font-size=\"10.00\">input:</text>\n",
       "<polygon fill=\"none\" stroke=\"black\" points=\"158,-3373.5 158,-3395.5 238,-3395.5 238,-3373.5 158,-3373.5\"/>\n",
       "<text text-anchor=\"start\" x=\"162.75\" y=\"-3381\" font-family=\"Linux libertine\" font-size=\"10.00\">2 x (1, 45, 64) </text>\n",
       "<polygon fill=\"none\" stroke=\"black\" points=\"111,-3351.5 111,-3373.5 158,-3373.5 158,-3351.5 111,-3351.5\"/>\n",
       "<text text-anchor=\"start\" x=\"115.75\" y=\"-3359\" font-family=\"Linux libertine\" font-size=\"10.00\">output: </text>\n",
       "<polygon fill=\"none\" stroke=\"black\" points=\"158,-3351.5 158,-3373.5 238,-3373.5 238,-3351.5 158,-3351.5\"/>\n",
       "<text text-anchor=\"start\" x=\"171.75\" y=\"-3359\" font-family=\"Linux libertine\" font-size=\"10.00\">(1, 45, 64) </text>\n",
       "</g>\n",
       "<!-- 31&#45;&gt;34 -->\n",
       "<g id=\"edge39\" class=\"edge\">\n",
       "<title>31&#45;&gt;34</title>\n",
       "<path fill=\"none\" stroke=\"black\" d=\"M170.81,-3591.55C160.25,-3581.66 148.81,-3569.06 141.5,-3555.5 124.21,-3523.42 127.52,-3511.72 123.5,-3475.5 121.34,-3456.06 119.07,-3450.55 123.5,-3431.5 125.59,-3422.49 129.32,-3413.27 133.39,-3404.93\"/>\n",
       "<polygon fill=\"black\" stroke=\"black\" points=\"136.9,-3406.77 138.43,-3396.29 130.7,-3403.53 136.9,-3406.77\"/>\n",
       "</g>\n",
       "<!-- 33 -->\n",
       "<g id=\"node34\" class=\"node\">\n",
       "<title>33</title>\n",
       "<polygon fill=\"#c1ffc1\" stroke=\"none\" points=\"400.5,-3475.5 132.5,-3475.5 132.5,-3431.5 400.5,-3431.5 400.5,-3475.5\"/>\n",
       "<polygon fill=\"none\" stroke=\"black\" points=\"132.5,-3431.5 132.5,-3475.5 235.5,-3475.5 235.5,-3431.5 132.5,-3431.5\"/>\n",
       "<text text-anchor=\"start\" x=\"137.12\" y=\"-3456.75\" font-family=\"Linux libertine\" font-size=\"10.00\">MultiheadAttention</text>\n",
       "<text text-anchor=\"start\" x=\"165.62\" y=\"-3444\" font-family=\"Linux libertine\" font-size=\"10.00\">depth:4</text>\n",
       "<polygon fill=\"none\" stroke=\"black\" points=\"235.5,-3453.5 235.5,-3475.5 282.5,-3475.5 282.5,-3453.5 235.5,-3453.5\"/>\n",
       "<text text-anchor=\"start\" x=\"245.12\" y=\"-3461\" font-family=\"Linux libertine\" font-size=\"10.00\">input:</text>\n",
       "<polygon fill=\"none\" stroke=\"black\" points=\"282.5,-3453.5 282.5,-3475.5 400.5,-3475.5 400.5,-3453.5 282.5,-3453.5\"/>\n",
       "<text text-anchor=\"start\" x=\"306.25\" y=\"-3461\" font-family=\"Linux libertine\" font-size=\"10.00\">3 x (1, 45, 64) </text>\n",
       "<polygon fill=\"none\" stroke=\"black\" points=\"235.5,-3431.5 235.5,-3453.5 282.5,-3453.5 282.5,-3431.5 235.5,-3431.5\"/>\n",
       "<text text-anchor=\"start\" x=\"240.25\" y=\"-3439\" font-family=\"Linux libertine\" font-size=\"10.00\">output: </text>\n",
       "<polygon fill=\"none\" stroke=\"black\" points=\"282.5,-3431.5 282.5,-3453.5 400.5,-3453.5 400.5,-3431.5 282.5,-3431.5\"/>\n",
       "<text text-anchor=\"start\" x=\"287.5\" y=\"-3439\" font-family=\"Linux libertine\" font-size=\"10.00\">(1, 45, 64), (1, 45, 45) </text>\n",
       "</g>\n",
       "<!-- 32&#45;&gt;33 -->\n",
       "<g id=\"edge40\" class=\"edge\">\n",
       "<title>32&#45;&gt;33</title>\n",
       "<path fill=\"none\" stroke=\"black\" d=\"M245.27,-3511.6C248.23,-3503.64 251.67,-3494.39 254.9,-3485.69\"/>\n",
       "<polygon fill=\"black\" stroke=\"black\" points=\"258.5,-3487.05 258.71,-3476.46 251.94,-3484.61 258.5,-3487.05\"/>\n",
       "</g>\n",
       "<!-- 33&#45;&gt;34 -->\n",
       "<g id=\"edge41\" class=\"edge\">\n",
       "<title>33&#45;&gt;34</title>\n",
       "<path fill=\"none\" stroke=\"black\" d=\"M235.68,-3431.6C222.02,-3422.33 205.77,-3411.31 191.21,-3401.44\"/>\n",
       "<polygon fill=\"black\" stroke=\"black\" points=\"193.64,-3398.18 183.4,-3395.46 189.71,-3403.97 193.64,-3398.18\"/>\n",
       "</g>\n",
       "<!-- 35 -->\n",
       "<g id=\"node36\" class=\"node\">\n",
       "<title>35</title>\n",
       "<polygon fill=\"#c1ffc1\" stroke=\"none\" points=\"319,-3315.5 146,-3315.5 146,-3271.5 319,-3271.5 319,-3315.5\"/>\n",
       "<polygon fill=\"none\" stroke=\"black\" points=\"146,-3271.5 146,-3315.5 210,-3315.5 210,-3271.5 146,-3271.5\"/>\n",
       "<text text-anchor=\"start\" x=\"151\" y=\"-3296.75\" font-family=\"Linux libertine\" font-size=\"10.00\">LayerNorm</text>\n",
       "<text text-anchor=\"start\" x=\"159.62\" y=\"-3284\" font-family=\"Linux libertine\" font-size=\"10.00\">depth:4</text>\n",
       "<polygon fill=\"none\" stroke=\"black\" points=\"210,-3293.5 210,-3315.5 257,-3315.5 257,-3293.5 210,-3293.5\"/>\n",
       "<text text-anchor=\"start\" x=\"219.62\" y=\"-3301\" font-family=\"Linux libertine\" font-size=\"10.00\">input:</text>\n",
       "<polygon fill=\"none\" stroke=\"black\" points=\"257,-3293.5 257,-3315.5 319,-3315.5 319,-3293.5 257,-3293.5\"/>\n",
       "<text text-anchor=\"start\" x=\"261.75\" y=\"-3301\" font-family=\"Linux libertine\" font-size=\"10.00\">(1, 45, 64) </text>\n",
       "<polygon fill=\"none\" stroke=\"black\" points=\"210,-3271.5 210,-3293.5 257,-3293.5 257,-3271.5 210,-3271.5\"/>\n",
       "<text text-anchor=\"start\" x=\"214.75\" y=\"-3279\" font-family=\"Linux libertine\" font-size=\"10.00\">output: </text>\n",
       "<polygon fill=\"none\" stroke=\"black\" points=\"257,-3271.5 257,-3293.5 319,-3293.5 319,-3271.5 257,-3271.5\"/>\n",
       "<text text-anchor=\"start\" x=\"261.75\" y=\"-3279\" font-family=\"Linux libertine\" font-size=\"10.00\">(1, 45, 64) </text>\n",
       "</g>\n",
       "<!-- 34&#45;&gt;35 -->\n",
       "<g id=\"edge42\" class=\"edge\">\n",
       "<title>34&#45;&gt;35</title>\n",
       "<path fill=\"none\" stroke=\"black\" d=\"M173.21,-3351.6C182.38,-3342.77 193.2,-3332.35 203.07,-3322.84\"/>\n",
       "<polygon fill=\"black\" stroke=\"black\" points=\"204.96,-3325.92 209.73,-3316.46 200.1,-3320.88 204.96,-3325.92\"/>\n",
       "</g>\n",
       "<!-- 38 -->\n",
       "<g id=\"node39\" class=\"node\">\n",
       "<title>38</title>\n",
       "<polygon fill=\"aliceblue\" stroke=\"none\" points=\"214,-3075.5 41,-3075.5 41,-3031.5 214,-3031.5 214,-3075.5\"/>\n",
       "<polygon fill=\"none\" stroke=\"black\" points=\"41,-3031.5 41,-3075.5 87,-3075.5 87,-3031.5 41,-3031.5\"/>\n",
       "<text text-anchor=\"start\" x=\"55\" y=\"-3056.75\" font-family=\"Linux libertine\" font-size=\"10.00\">add</text>\n",
       "<text text-anchor=\"start\" x=\"45.62\" y=\"-3044\" font-family=\"Linux libertine\" font-size=\"10.00\">depth:4</text>\n",
       "<polygon fill=\"none\" stroke=\"black\" points=\"87,-3053.5 87,-3075.5 134,-3075.5 134,-3053.5 87,-3053.5\"/>\n",
       "<text text-anchor=\"start\" x=\"96.62\" y=\"-3061\" font-family=\"Linux libertine\" font-size=\"10.00\">input:</text>\n",
       "<polygon fill=\"none\" stroke=\"black\" points=\"134,-3053.5 134,-3075.5 214,-3075.5 214,-3053.5 134,-3053.5\"/>\n",
       "<text text-anchor=\"start\" x=\"138.75\" y=\"-3061\" font-family=\"Linux libertine\" font-size=\"10.00\">2 x (1, 45, 64) </text>\n",
       "<polygon fill=\"none\" stroke=\"black\" points=\"87,-3031.5 87,-3053.5 134,-3053.5 134,-3031.5 87,-3031.5\"/>\n",
       "<text text-anchor=\"start\" x=\"91.75\" y=\"-3039\" font-family=\"Linux libertine\" font-size=\"10.00\">output: </text>\n",
       "<polygon fill=\"none\" stroke=\"black\" points=\"134,-3031.5 134,-3053.5 214,-3053.5 214,-3031.5 134,-3031.5\"/>\n",
       "<text text-anchor=\"start\" x=\"147.75\" y=\"-3039\" font-family=\"Linux libertine\" font-size=\"10.00\">(1, 45, 64) </text>\n",
       "</g>\n",
       "<!-- 34&#45;&gt;38 -->\n",
       "<g id=\"edge43\" class=\"edge\">\n",
       "<title>34&#45;&gt;38</title>\n",
       "<path fill=\"none\" stroke=\"black\" d=\"M144.81,-3351.62C141.69,-3340.93 138.29,-3327.65 136.5,-3315.5 124.45,-3233.48 125.02,-3135.48 126.33,-3086.17\"/>\n",
       "<polygon fill=\"black\" stroke=\"black\" points=\"129.86,-3086.38 126.66,-3076.28 122.86,-3086.17 129.86,-3086.38\"/>\n",
       "</g>\n",
       "<!-- 36 -->\n",
       "<g id=\"node37\" class=\"node\">\n",
       "<title>36</title>\n",
       "<polygon fill=\"#c1ffc1\" stroke=\"none\" points=\"308,-3235.5 153,-3235.5 153,-3191.5 308,-3191.5 308,-3235.5\"/>\n",
       "<polygon fill=\"none\" stroke=\"black\" points=\"153,-3191.5 153,-3235.5 199,-3235.5 199,-3191.5 153,-3191.5\"/>\n",
       "<text text-anchor=\"start\" x=\"161\" y=\"-3216.75\" font-family=\"Linux libertine\" font-size=\"10.00\">Linear</text>\n",
       "<text text-anchor=\"start\" x=\"157.62\" y=\"-3204\" font-family=\"Linux libertine\" font-size=\"10.00\">depth:4</text>\n",
       "<polygon fill=\"none\" stroke=\"black\" points=\"199,-3213.5 199,-3235.5 246,-3235.5 246,-3213.5 199,-3213.5\"/>\n",
       "<text text-anchor=\"start\" x=\"208.62\" y=\"-3221\" font-family=\"Linux libertine\" font-size=\"10.00\">input:</text>\n",
       "<polygon fill=\"none\" stroke=\"black\" points=\"246,-3213.5 246,-3235.5 308,-3235.5 308,-3213.5 246,-3213.5\"/>\n",
       "<text text-anchor=\"start\" x=\"250.75\" y=\"-3221\" font-family=\"Linux libertine\" font-size=\"10.00\">(1, 45, 64) </text>\n",
       "<polygon fill=\"none\" stroke=\"black\" points=\"199,-3191.5 199,-3213.5 246,-3213.5 246,-3191.5 199,-3191.5\"/>\n",
       "<text text-anchor=\"start\" x=\"203.75\" y=\"-3199\" font-family=\"Linux libertine\" font-size=\"10.00\">output: </text>\n",
       "<polygon fill=\"none\" stroke=\"black\" points=\"246,-3191.5 246,-3213.5 308,-3213.5 308,-3191.5 246,-3191.5\"/>\n",
       "<text text-anchor=\"start\" x=\"250.75\" y=\"-3199\" font-family=\"Linux libertine\" font-size=\"10.00\">(1, 45, 64) </text>\n",
       "</g>\n",
       "<!-- 35&#45;&gt;36 -->\n",
       "<g id=\"edge44\" class=\"edge\">\n",
       "<title>35&#45;&gt;36</title>\n",
       "<path fill=\"none\" stroke=\"black\" d=\"M231.96,-3271.6C231.76,-3263.82 231.53,-3254.8 231.31,-3246.26\"/>\n",
       "<polygon fill=\"black\" stroke=\"black\" points=\"234.79,-3246.37 231.04,-3236.46 227.8,-3246.55 234.79,-3246.37\"/>\n",
       "</g>\n",
       "<!-- 37 -->\n",
       "<g id=\"node38\" class=\"node\">\n",
       "<title>37</title>\n",
       "<polygon fill=\"#c1ffc1\" stroke=\"none\" points=\"305,-3155.5 150,-3155.5 150,-3111.5 305,-3111.5 305,-3155.5\"/>\n",
       "<polygon fill=\"none\" stroke=\"black\" points=\"150,-3111.5 150,-3155.5 196,-3155.5 196,-3111.5 150,-3111.5\"/>\n",
       "<text text-anchor=\"start\" x=\"159.88\" y=\"-3136.75\" font-family=\"Linux libertine\" font-size=\"10.00\">GELU</text>\n",
       "<text text-anchor=\"start\" x=\"154.62\" y=\"-3124\" font-family=\"Linux libertine\" font-size=\"10.00\">depth:4</text>\n",
       "<polygon fill=\"none\" stroke=\"black\" points=\"196,-3133.5 196,-3155.5 243,-3155.5 243,-3133.5 196,-3133.5\"/>\n",
       "<text text-anchor=\"start\" x=\"205.62\" y=\"-3141\" font-family=\"Linux libertine\" font-size=\"10.00\">input:</text>\n",
       "<polygon fill=\"none\" stroke=\"black\" points=\"243,-3133.5 243,-3155.5 305,-3155.5 305,-3133.5 243,-3133.5\"/>\n",
       "<text text-anchor=\"start\" x=\"247.75\" y=\"-3141\" font-family=\"Linux libertine\" font-size=\"10.00\">(1, 45, 64) </text>\n",
       "<polygon fill=\"none\" stroke=\"black\" points=\"196,-3111.5 196,-3133.5 243,-3133.5 243,-3111.5 196,-3111.5\"/>\n",
       "<text text-anchor=\"start\" x=\"200.75\" y=\"-3119\" font-family=\"Linux libertine\" font-size=\"10.00\">output: </text>\n",
       "<polygon fill=\"none\" stroke=\"black\" points=\"243,-3111.5 243,-3133.5 305,-3133.5 305,-3111.5 243,-3111.5\"/>\n",
       "<text text-anchor=\"start\" x=\"247.75\" y=\"-3119\" font-family=\"Linux libertine\" font-size=\"10.00\">(1, 45, 64) </text>\n",
       "</g>\n",
       "<!-- 36&#45;&gt;37 -->\n",
       "<g id=\"edge45\" class=\"edge\">\n",
       "<title>36&#45;&gt;37</title>\n",
       "<path fill=\"none\" stroke=\"black\" d=\"M229.7,-3191.6C229.4,-3183.82 229.05,-3174.8 228.72,-3166.26\"/>\n",
       "<polygon fill=\"black\" stroke=\"black\" points=\"232.19,-3166.32 228.31,-3156.46 225.19,-3166.59 232.19,-3166.32\"/>\n",
       "</g>\n",
       "<!-- 37&#45;&gt;38 -->\n",
       "<g id=\"edge46\" class=\"edge\">\n",
       "<title>37&#45;&gt;38</title>\n",
       "<path fill=\"none\" stroke=\"black\" d=\"M200.7,-3111.6C189.04,-3102.5 175.22,-3091.73 162.75,-3082\"/>\n",
       "<polygon fill=\"black\" stroke=\"black\" points=\"165.41,-3078.85 155.37,-3075.46 161.1,-3084.37 165.41,-3078.85\"/>\n",
       "</g>\n",
       "<!-- 54 -->\n",
       "<g id=\"node55\" class=\"node\">\n",
       "<title>54</title>\n",
       "<polygon fill=\"#c1ffc1\" stroke=\"none\" points=\"767.5,-2995.5 481.5,-2995.5 481.5,-2951.5 767.5,-2951.5 767.5,-2995.5\"/>\n",
       "<polygon fill=\"none\" stroke=\"black\" points=\"481.5,-2951.5 481.5,-2995.5 584.5,-2995.5 584.5,-2951.5 481.5,-2951.5\"/>\n",
       "<text text-anchor=\"start\" x=\"486.12\" y=\"-2976.75\" font-family=\"Linux libertine\" font-size=\"10.00\">MultiheadAttention</text>\n",
       "<text text-anchor=\"start\" x=\"514.62\" y=\"-2964\" font-family=\"Linux libertine\" font-size=\"10.00\">depth:4</text>\n",
       "<polygon fill=\"none\" stroke=\"black\" points=\"584.5,-2973.5 584.5,-2995.5 631.5,-2995.5 631.5,-2973.5 584.5,-2973.5\"/>\n",
       "<text text-anchor=\"start\" x=\"594.12\" y=\"-2981\" font-family=\"Linux libertine\" font-size=\"10.00\">input:</text>\n",
       "<polygon fill=\"none\" stroke=\"black\" points=\"631.5,-2973.5 631.5,-2995.5 767.5,-2995.5 767.5,-2973.5 631.5,-2973.5\"/>\n",
       "<text text-anchor=\"start\" x=\"636.5\" y=\"-2981\" font-family=\"Linux libertine\" font-size=\"10.00\">(1, 44, 64), 2 x (1, 45, 64) </text>\n",
       "<polygon fill=\"none\" stroke=\"black\" points=\"584.5,-2951.5 584.5,-2973.5 631.5,-2973.5 631.5,-2951.5 584.5,-2951.5\"/>\n",
       "<text text-anchor=\"start\" x=\"589.25\" y=\"-2959\" font-family=\"Linux libertine\" font-size=\"10.00\">output: </text>\n",
       "<polygon fill=\"none\" stroke=\"black\" points=\"631.5,-2951.5 631.5,-2973.5 767.5,-2973.5 767.5,-2951.5 631.5,-2951.5\"/>\n",
       "<text text-anchor=\"start\" x=\"645.5\" y=\"-2959\" font-family=\"Linux libertine\" font-size=\"10.00\">(1, 44, 64), (1, 44, 45) </text>\n",
       "</g>\n",
       "<!-- 38&#45;&gt;54 -->\n",
       "<g id=\"edge57\" class=\"edge\">\n",
       "<title>38&#45;&gt;54</title>\n",
       "<path fill=\"none\" stroke=\"black\" d=\"M213.79,-3038.96C287.17,-3027.44 394.07,-3010.66 480.41,-2997.11\"/>\n",
       "<polygon fill=\"black\" stroke=\"black\" points=\"480.76,-3000.44 490.1,-2995.44 479.68,-2993.53 480.76,-3000.44\"/>\n",
       "</g>\n",
       "<!-- 66 -->\n",
       "<g id=\"node67\" class=\"node\">\n",
       "<title>66</title>\n",
       "<polygon fill=\"#c1ffc1\" stroke=\"none\" points=\"427.5,-2195.5 141.5,-2195.5 141.5,-2151.5 427.5,-2151.5 427.5,-2195.5\"/>\n",
       "<polygon fill=\"none\" stroke=\"black\" points=\"141.5,-2151.5 141.5,-2195.5 244.5,-2195.5 244.5,-2151.5 141.5,-2151.5\"/>\n",
       "<text text-anchor=\"start\" x=\"146.12\" y=\"-2176.75\" font-family=\"Linux libertine\" font-size=\"10.00\">MultiheadAttention</text>\n",
       "<text text-anchor=\"start\" x=\"174.62\" y=\"-2164\" font-family=\"Linux libertine\" font-size=\"10.00\">depth:4</text>\n",
       "<polygon fill=\"none\" stroke=\"black\" points=\"244.5,-2173.5 244.5,-2195.5 291.5,-2195.5 291.5,-2173.5 244.5,-2173.5\"/>\n",
       "<text text-anchor=\"start\" x=\"254.12\" y=\"-2181\" font-family=\"Linux libertine\" font-size=\"10.00\">input:</text>\n",
       "<polygon fill=\"none\" stroke=\"black\" points=\"291.5,-2173.5 291.5,-2195.5 427.5,-2195.5 427.5,-2173.5 291.5,-2173.5\"/>\n",
       "<text text-anchor=\"start\" x=\"296.5\" y=\"-2181\" font-family=\"Linux libertine\" font-size=\"10.00\">(1, 44, 64), 2 x (1, 45, 64) </text>\n",
       "<polygon fill=\"none\" stroke=\"black\" points=\"244.5,-2151.5 244.5,-2173.5 291.5,-2173.5 291.5,-2151.5 244.5,-2151.5\"/>\n",
       "<text text-anchor=\"start\" x=\"249.25\" y=\"-2159\" font-family=\"Linux libertine\" font-size=\"10.00\">output: </text>\n",
       "<polygon fill=\"none\" stroke=\"black\" points=\"291.5,-2151.5 291.5,-2173.5 427.5,-2173.5 427.5,-2151.5 291.5,-2151.5\"/>\n",
       "<text text-anchor=\"start\" x=\"305.5\" y=\"-2159\" font-family=\"Linux libertine\" font-size=\"10.00\">(1, 44, 64), (1, 44, 45) </text>\n",
       "</g>\n",
       "<!-- 38&#45;&gt;66 -->\n",
       "<g id=\"edge73\" class=\"edge\">\n",
       "<title>38&#45;&gt;66</title>\n",
       "<path fill=\"none\" stroke=\"black\" d=\"M115.83,-3031.5C100.5,-3001.89 75.5,-2945.76 75.5,-2894.5 75.5,-2894.5 75.5,-2894.5 75.5,-2332.5 75.5,-2265.31 145.08,-2223.06 203.94,-2199.33\"/>\n",
       "<polygon fill=\"black\" stroke=\"black\" points=\"204.99,-2202.29 213.03,-2195.4 202.45,-2195.77 204.99,-2202.29\"/>\n",
       "</g>\n",
       "<!-- 78 -->\n",
       "<g id=\"node79\" class=\"node\">\n",
       "<title>78</title>\n",
       "<polygon fill=\"#c1ffc1\" stroke=\"none\" points=\"650.5,-1395.5 364.5,-1395.5 364.5,-1351.5 650.5,-1351.5 650.5,-1395.5\"/>\n",
       "<polygon fill=\"none\" stroke=\"black\" points=\"364.5,-1351.5 364.5,-1395.5 467.5,-1395.5 467.5,-1351.5 364.5,-1351.5\"/>\n",
       "<text text-anchor=\"start\" x=\"369.12\" y=\"-1376.75\" font-family=\"Linux libertine\" font-size=\"10.00\">MultiheadAttention</text>\n",
       "<text text-anchor=\"start\" x=\"397.62\" y=\"-1364\" font-family=\"Linux libertine\" font-size=\"10.00\">depth:4</text>\n",
       "<polygon fill=\"none\" stroke=\"black\" points=\"467.5,-1373.5 467.5,-1395.5 514.5,-1395.5 514.5,-1373.5 467.5,-1373.5\"/>\n",
       "<text text-anchor=\"start\" x=\"477.12\" y=\"-1381\" font-family=\"Linux libertine\" font-size=\"10.00\">input:</text>\n",
       "<polygon fill=\"none\" stroke=\"black\" points=\"514.5,-1373.5 514.5,-1395.5 650.5,-1395.5 650.5,-1373.5 514.5,-1373.5\"/>\n",
       "<text text-anchor=\"start\" x=\"519.5\" y=\"-1381\" font-family=\"Linux libertine\" font-size=\"10.00\">(1, 44, 64), 2 x (1, 45, 64) </text>\n",
       "<polygon fill=\"none\" stroke=\"black\" points=\"467.5,-1351.5 467.5,-1373.5 514.5,-1373.5 514.5,-1351.5 467.5,-1351.5\"/>\n",
       "<text text-anchor=\"start\" x=\"472.25\" y=\"-1359\" font-family=\"Linux libertine\" font-size=\"10.00\">output: </text>\n",
       "<polygon fill=\"none\" stroke=\"black\" points=\"514.5,-1351.5 514.5,-1373.5 650.5,-1373.5 650.5,-1351.5 514.5,-1351.5\"/>\n",
       "<text text-anchor=\"start\" x=\"528.5\" y=\"-1359\" font-family=\"Linux libertine\" font-size=\"10.00\">(1, 44, 64), (1, 44, 45) </text>\n",
       "</g>\n",
       "<!-- 38&#45;&gt;78 -->\n",
       "<g id=\"edge89\" class=\"edge\">\n",
       "<title>38&#45;&gt;78</title>\n",
       "<path fill=\"none\" stroke=\"black\" d=\"M213.78,-3040.3C289.01,-3024.83 394.73,-2990.49 451.5,-2915.5 565.33,-2765.14 504.5,-2683.09 504.5,-2494.5 504.5,-2494.5 504.5,-2494.5 504.5,-1532.5 504.5,-1488.76 505.66,-1438.23 506.54,-1406.32\"/>\n",
       "<polygon fill=\"black\" stroke=\"black\" points=\"510.06,-1406.55 506.85,-1396.45 503.07,-1406.35 510.06,-1406.55\"/>\n",
       "</g>\n",
       "<!-- 90 -->\n",
       "<g id=\"node91\" class=\"node\">\n",
       "<title>90</title>\n",
       "<polygon fill=\"#c1ffc1\" stroke=\"none\" points=\"389.5,-595.5 103.5,-595.5 103.5,-551.5 389.5,-551.5 389.5,-595.5\"/>\n",
       "<polygon fill=\"none\" stroke=\"black\" points=\"103.5,-551.5 103.5,-595.5 206.5,-595.5 206.5,-551.5 103.5,-551.5\"/>\n",
       "<text text-anchor=\"start\" x=\"108.12\" y=\"-576.75\" font-family=\"Linux libertine\" font-size=\"10.00\">MultiheadAttention</text>\n",
       "<text text-anchor=\"start\" x=\"136.62\" y=\"-564\" font-family=\"Linux libertine\" font-size=\"10.00\">depth:4</text>\n",
       "<polygon fill=\"none\" stroke=\"black\" points=\"206.5,-573.5 206.5,-595.5 253.5,-595.5 253.5,-573.5 206.5,-573.5\"/>\n",
       "<text text-anchor=\"start\" x=\"216.12\" y=\"-581\" font-family=\"Linux libertine\" font-size=\"10.00\">input:</text>\n",
       "<polygon fill=\"none\" stroke=\"black\" points=\"253.5,-573.5 253.5,-595.5 389.5,-595.5 389.5,-573.5 253.5,-573.5\"/>\n",
       "<text text-anchor=\"start\" x=\"258.5\" y=\"-581\" font-family=\"Linux libertine\" font-size=\"10.00\">(1, 44, 64), 2 x (1, 45, 64) </text>\n",
       "<polygon fill=\"none\" stroke=\"black\" points=\"206.5,-551.5 206.5,-573.5 253.5,-573.5 253.5,-551.5 206.5,-551.5\"/>\n",
       "<text text-anchor=\"start\" x=\"211.25\" y=\"-559\" font-family=\"Linux libertine\" font-size=\"10.00\">output: </text>\n",
       "<polygon fill=\"none\" stroke=\"black\" points=\"253.5,-551.5 253.5,-573.5 389.5,-573.5 389.5,-551.5 253.5,-551.5\"/>\n",
       "<text text-anchor=\"start\" x=\"267.5\" y=\"-559\" font-family=\"Linux libertine\" font-size=\"10.00\">(1, 44, 64), (1, 44, 45) </text>\n",
       "</g>\n",
       "<!-- 38&#45;&gt;90 -->\n",
       "<g id=\"edge105\" class=\"edge\">\n",
       "<title>38&#45;&gt;90</title>\n",
       "<path fill=\"none\" stroke=\"black\" d=\"M106.17,-3031.65C79.56,-3003.29 37.5,-2949.75 37.5,-2894.5 37.5,-2894.5 37.5,-2894.5 37.5,-732.5 37.5,-665.31 107.08,-623.06 165.94,-599.33\"/>\n",
       "<polygon fill=\"black\" stroke=\"black\" points=\"166.99,-602.29 175.03,-595.4 164.45,-595.77 166.99,-602.29\"/>\n",
       "</g>\n",
       "<!-- 47 -->\n",
       "<g id=\"node48\" class=\"node\">\n",
       "<title>47</title>\n",
       "<polygon fill=\"aliceblue\" stroke=\"none\" points=\"552,-3395.5 379,-3395.5 379,-3351.5 552,-3351.5 552,-3395.5\"/>\n",
       "<polygon fill=\"none\" stroke=\"black\" points=\"379,-3351.5 379,-3395.5 425,-3395.5 425,-3351.5 379,-3351.5\"/>\n",
       "<text text-anchor=\"start\" x=\"393\" y=\"-3376.75\" font-family=\"Linux libertine\" font-size=\"10.00\">add</text>\n",
       "<text text-anchor=\"start\" x=\"383.62\" y=\"-3364\" font-family=\"Linux libertine\" font-size=\"10.00\">depth:2</text>\n",
       "<polygon fill=\"none\" stroke=\"black\" points=\"425,-3373.5 425,-3395.5 472,-3395.5 472,-3373.5 425,-3373.5\"/>\n",
       "<text text-anchor=\"start\" x=\"434.62\" y=\"-3381\" font-family=\"Linux libertine\" font-size=\"10.00\">input:</text>\n",
       "<polygon fill=\"none\" stroke=\"black\" points=\"472,-3373.5 472,-3395.5 552,-3395.5 552,-3373.5 472,-3373.5\"/>\n",
       "<text text-anchor=\"start\" x=\"476.75\" y=\"-3381\" font-family=\"Linux libertine\" font-size=\"10.00\">2 x (1, 44, 64) </text>\n",
       "<polygon fill=\"none\" stroke=\"black\" points=\"425,-3351.5 425,-3373.5 472,-3373.5 472,-3351.5 425,-3351.5\"/>\n",
       "<text text-anchor=\"start\" x=\"429.75\" y=\"-3359\" font-family=\"Linux libertine\" font-size=\"10.00\">output: </text>\n",
       "<polygon fill=\"none\" stroke=\"black\" points=\"472,-3351.5 472,-3373.5 552,-3373.5 552,-3351.5 472,-3351.5\"/>\n",
       "<text text-anchor=\"start\" x=\"485.75\" y=\"-3359\" font-family=\"Linux libertine\" font-size=\"10.00\">(1, 44, 64) </text>\n",
       "</g>\n",
       "<!-- 39&#45;&gt;47 -->\n",
       "<g id=\"edge49\" class=\"edge\">\n",
       "<title>39&#45;&gt;47</title>\n",
       "<path fill=\"none\" stroke=\"black\" d=\"M437.75,-3511.52C443.23,-3484.45 452.81,-3437.14 459.16,-3405.82\"/>\n",
       "<polygon fill=\"black\" stroke=\"black\" points=\"462.78,-3406.56 461.33,-3396.07 455.92,-3405.17 462.78,-3406.56\"/>\n",
       "</g>\n",
       "<!-- 40 -->\n",
       "<g id=\"node41\" class=\"node\">\n",
       "<title>40</title>\n",
       "<polygon fill=\"aliceblue\" stroke=\"none\" points=\"589.5,-3715.5 461.5,-3715.5 461.5,-3671.5 589.5,-3671.5 589.5,-3715.5\"/>\n",
       "<polygon fill=\"none\" stroke=\"black\" points=\"461.5,-3671.5 461.5,-3715.5 507.5,-3715.5 507.5,-3671.5 461.5,-3671.5\"/>\n",
       "<text text-anchor=\"start\" x=\"474\" y=\"-3696.75\" font-family=\"Linux libertine\" font-size=\"10.00\">long</text>\n",
       "<text text-anchor=\"start\" x=\"466.12\" y=\"-3684\" font-family=\"Linux libertine\" font-size=\"10.00\">depth:2</text>\n",
       "<polygon fill=\"none\" stroke=\"black\" points=\"507.5,-3693.5 507.5,-3715.5 554.5,-3715.5 554.5,-3693.5 507.5,-3693.5\"/>\n",
       "<text text-anchor=\"start\" x=\"517.12\" y=\"-3701\" font-family=\"Linux libertine\" font-size=\"10.00\">input:</text>\n",
       "<polygon fill=\"none\" stroke=\"black\" points=\"554.5,-3693.5 554.5,-3715.5 589.5,-3715.5 589.5,-3693.5 554.5,-3693.5\"/>\n",
       "<text text-anchor=\"start\" x=\"559.25\" y=\"-3701\" font-family=\"Linux libertine\" font-size=\"10.00\">(44,) </text>\n",
       "<polygon fill=\"none\" stroke=\"black\" points=\"507.5,-3671.5 507.5,-3693.5 554.5,-3693.5 554.5,-3671.5 507.5,-3671.5\"/>\n",
       "<text text-anchor=\"start\" x=\"512.25\" y=\"-3679\" font-family=\"Linux libertine\" font-size=\"10.00\">output: </text>\n",
       "<polygon fill=\"none\" stroke=\"black\" points=\"554.5,-3671.5 554.5,-3693.5 589.5,-3693.5 589.5,-3671.5 554.5,-3671.5\"/>\n",
       "<text text-anchor=\"start\" x=\"559.25\" y=\"-3679\" font-family=\"Linux libertine\" font-size=\"10.00\">(44,) </text>\n",
       "</g>\n",
       "<!-- 41 -->\n",
       "<g id=\"node42\" class=\"node\">\n",
       "<title>41</title>\n",
       "<polygon fill=\"aliceblue\" stroke=\"none\" points=\"589.5,-3635.5 461.5,-3635.5 461.5,-3591.5 589.5,-3591.5 589.5,-3635.5\"/>\n",
       "<polygon fill=\"none\" stroke=\"black\" points=\"461.5,-3591.5 461.5,-3635.5 507.5,-3635.5 507.5,-3591.5 461.5,-3591.5\"/>\n",
       "<text text-anchor=\"start\" x=\"479.62\" y=\"-3616.75\" font-family=\"Linux libertine\" font-size=\"10.00\">to</text>\n",
       "<text text-anchor=\"start\" x=\"466.12\" y=\"-3604\" font-family=\"Linux libertine\" font-size=\"10.00\">depth:2</text>\n",
       "<polygon fill=\"none\" stroke=\"black\" points=\"507.5,-3613.5 507.5,-3635.5 554.5,-3635.5 554.5,-3613.5 507.5,-3613.5\"/>\n",
       "<text text-anchor=\"start\" x=\"517.12\" y=\"-3621\" font-family=\"Linux libertine\" font-size=\"10.00\">input:</text>\n",
       "<polygon fill=\"none\" stroke=\"black\" points=\"554.5,-3613.5 554.5,-3635.5 589.5,-3635.5 589.5,-3613.5 554.5,-3613.5\"/>\n",
       "<text text-anchor=\"start\" x=\"559.25\" y=\"-3621\" font-family=\"Linux libertine\" font-size=\"10.00\">(44,) </text>\n",
       "<polygon fill=\"none\" stroke=\"black\" points=\"507.5,-3591.5 507.5,-3613.5 554.5,-3613.5 554.5,-3591.5 507.5,-3591.5\"/>\n",
       "<text text-anchor=\"start\" x=\"512.25\" y=\"-3599\" font-family=\"Linux libertine\" font-size=\"10.00\">output: </text>\n",
       "<polygon fill=\"none\" stroke=\"black\" points=\"554.5,-3591.5 554.5,-3613.5 589.5,-3613.5 589.5,-3591.5 554.5,-3591.5\"/>\n",
       "<text text-anchor=\"start\" x=\"559.25\" y=\"-3599\" font-family=\"Linux libertine\" font-size=\"10.00\">(44,) </text>\n",
       "</g>\n",
       "<!-- 40&#45;&gt;41 -->\n",
       "<g id=\"edge50\" class=\"edge\">\n",
       "<title>40&#45;&gt;41</title>\n",
       "<path fill=\"none\" stroke=\"black\" d=\"M525.5,-3671.6C525.5,-3663.82 525.5,-3654.8 525.5,-3646.26\"/>\n",
       "<polygon fill=\"black\" stroke=\"black\" points=\"529,-3646.46 525.5,-3636.46 522,-3646.46 529,-3646.46\"/>\n",
       "</g>\n",
       "<!-- 45 -->\n",
       "<g id=\"node46\" class=\"node\">\n",
       "<title>45</title>\n",
       "<polygon fill=\"aliceblue\" stroke=\"none\" points=\"704.5,-3555.5 538.5,-3555.5 538.5,-3511.5 704.5,-3511.5 704.5,-3555.5\"/>\n",
       "<polygon fill=\"none\" stroke=\"black\" points=\"538.5,-3511.5 538.5,-3555.5 584.5,-3555.5 584.5,-3511.5 538.5,-3511.5\"/>\n",
       "<text text-anchor=\"start\" x=\"552.12\" y=\"-3536.75\" font-family=\"Linux libertine\" font-size=\"10.00\">mul</text>\n",
       "<text text-anchor=\"start\" x=\"543.12\" y=\"-3524\" font-family=\"Linux libertine\" font-size=\"10.00\">depth:2</text>\n",
       "<polygon fill=\"none\" stroke=\"black\" points=\"584.5,-3533.5 584.5,-3555.5 631.5,-3555.5 631.5,-3533.5 584.5,-3533.5\"/>\n",
       "<text text-anchor=\"start\" x=\"594.12\" y=\"-3541\" font-family=\"Linux libertine\" font-size=\"10.00\">input:</text>\n",
       "<polygon fill=\"none\" stroke=\"black\" points=\"631.5,-3533.5 631.5,-3555.5 704.5,-3555.5 704.5,-3533.5 631.5,-3533.5\"/>\n",
       "<text text-anchor=\"start\" x=\"636.5\" y=\"-3541\" font-family=\"Linux libertine\" font-size=\"10.00\">(44,), (1, 44) </text>\n",
       "<polygon fill=\"none\" stroke=\"black\" points=\"584.5,-3511.5 584.5,-3533.5 631.5,-3533.5 631.5,-3511.5 584.5,-3511.5\"/>\n",
       "<text text-anchor=\"start\" x=\"589.25\" y=\"-3519\" font-family=\"Linux libertine\" font-size=\"10.00\">output: </text>\n",
       "<polygon fill=\"none\" stroke=\"black\" points=\"631.5,-3511.5 631.5,-3533.5 704.5,-3533.5 704.5,-3511.5 631.5,-3511.5\"/>\n",
       "<text text-anchor=\"start\" x=\"650.75\" y=\"-3519\" font-family=\"Linux libertine\" font-size=\"10.00\">(1, 44) </text>\n",
       "</g>\n",
       "<!-- 41&#45;&gt;45 -->\n",
       "<g id=\"edge51\" class=\"edge\">\n",
       "<title>41&#45;&gt;45</title>\n",
       "<path fill=\"none\" stroke=\"black\" d=\"M551.23,-3591.6C562.31,-3582.59 575.43,-3571.93 587.31,-3562.28\"/>\n",
       "<polygon fill=\"black\" stroke=\"black\" points=\"589.15,-3564.48 594.7,-3555.46 584.73,-3559.05 589.15,-3564.48\"/>\n",
       "</g>\n",
       "<!-- 43 -->\n",
       "<g id=\"node44\" class=\"node\">\n",
       "<title>43</title>\n",
       "<polygon fill=\"aliceblue\" stroke=\"none\" points=\"745,-3715.5 608,-3715.5 608,-3671.5 745,-3671.5 745,-3715.5\"/>\n",
       "<polygon fill=\"none\" stroke=\"black\" points=\"608,-3671.5 608,-3715.5 654,-3715.5 654,-3671.5 608,-3671.5\"/>\n",
       "<text text-anchor=\"start\" x=\"620.5\" y=\"-3696.75\" font-family=\"Linux libertine\" font-size=\"10.00\">long</text>\n",
       "<text text-anchor=\"start\" x=\"612.62\" y=\"-3684\" font-family=\"Linux libertine\" font-size=\"10.00\">depth:2</text>\n",
       "<polygon fill=\"none\" stroke=\"black\" points=\"654,-3693.5 654,-3715.5 701,-3715.5 701,-3693.5 654,-3693.5\"/>\n",
       "<text text-anchor=\"start\" x=\"663.62\" y=\"-3701\" font-family=\"Linux libertine\" font-size=\"10.00\">input:</text>\n",
       "<polygon fill=\"none\" stroke=\"black\" points=\"701,-3693.5 701,-3715.5 745,-3715.5 745,-3693.5 701,-3693.5\"/>\n",
       "<text text-anchor=\"start\" x=\"705.75\" y=\"-3701\" font-family=\"Linux libertine\" font-size=\"10.00\">(1, 44) </text>\n",
       "<polygon fill=\"none\" stroke=\"black\" points=\"654,-3671.5 654,-3693.5 701,-3693.5 701,-3671.5 654,-3671.5\"/>\n",
       "<text text-anchor=\"start\" x=\"658.75\" y=\"-3679\" font-family=\"Linux libertine\" font-size=\"10.00\">output: </text>\n",
       "<polygon fill=\"none\" stroke=\"black\" points=\"701,-3671.5 701,-3693.5 745,-3693.5 745,-3671.5 701,-3671.5\"/>\n",
       "<text text-anchor=\"start\" x=\"705.75\" y=\"-3679\" font-family=\"Linux libertine\" font-size=\"10.00\">(1, 44) </text>\n",
       "</g>\n",
       "<!-- 42&#45;&gt;43 -->\n",
       "<g id=\"edge52\" class=\"edge\">\n",
       "<title>42&#45;&gt;43</title>\n",
       "<path fill=\"none\" stroke=\"black\" d=\"M623.06,-3751.6C631.16,-3742.94 640.69,-3732.76 649.45,-3723.41\"/>\n",
       "<polygon fill=\"black\" stroke=\"black\" points=\"651.61,-3726.15 655.88,-3716.46 646.49,-3721.37 651.61,-3726.15\"/>\n",
       "</g>\n",
       "<!-- 44 -->\n",
       "<g id=\"node45\" class=\"node\">\n",
       "<title>44</title>\n",
       "<polygon fill=\"aliceblue\" stroke=\"none\" points=\"745,-3635.5 608,-3635.5 608,-3591.5 745,-3591.5 745,-3635.5\"/>\n",
       "<polygon fill=\"none\" stroke=\"black\" points=\"608,-3591.5 608,-3635.5 654,-3635.5 654,-3591.5 608,-3591.5\"/>\n",
       "<text text-anchor=\"start\" x=\"626.12\" y=\"-3616.75\" font-family=\"Linux libertine\" font-size=\"10.00\">to</text>\n",
       "<text text-anchor=\"start\" x=\"612.62\" y=\"-3604\" font-family=\"Linux libertine\" font-size=\"10.00\">depth:2</text>\n",
       "<polygon fill=\"none\" stroke=\"black\" points=\"654,-3613.5 654,-3635.5 701,-3635.5 701,-3613.5 654,-3613.5\"/>\n",
       "<text text-anchor=\"start\" x=\"663.62\" y=\"-3621\" font-family=\"Linux libertine\" font-size=\"10.00\">input:</text>\n",
       "<polygon fill=\"none\" stroke=\"black\" points=\"701,-3613.5 701,-3635.5 745,-3635.5 745,-3613.5 701,-3613.5\"/>\n",
       "<text text-anchor=\"start\" x=\"705.75\" y=\"-3621\" font-family=\"Linux libertine\" font-size=\"10.00\">(1, 44) </text>\n",
       "<polygon fill=\"none\" stroke=\"black\" points=\"654,-3591.5 654,-3613.5 701,-3613.5 701,-3591.5 654,-3591.5\"/>\n",
       "<text text-anchor=\"start\" x=\"658.75\" y=\"-3599\" font-family=\"Linux libertine\" font-size=\"10.00\">output: </text>\n",
       "<polygon fill=\"none\" stroke=\"black\" points=\"701,-3591.5 701,-3613.5 745,-3613.5 745,-3591.5 701,-3591.5\"/>\n",
       "<text text-anchor=\"start\" x=\"705.75\" y=\"-3599\" font-family=\"Linux libertine\" font-size=\"10.00\">(1, 44) </text>\n",
       "</g>\n",
       "<!-- 43&#45;&gt;44 -->\n",
       "<g id=\"edge53\" class=\"edge\">\n",
       "<title>43&#45;&gt;44</title>\n",
       "<path fill=\"none\" stroke=\"black\" d=\"M676.5,-3671.6C676.5,-3663.82 676.5,-3654.8 676.5,-3646.26\"/>\n",
       "<polygon fill=\"black\" stroke=\"black\" points=\"680,-3646.46 676.5,-3636.46 673,-3646.46 680,-3646.46\"/>\n",
       "</g>\n",
       "<!-- 44&#45;&gt;45 -->\n",
       "<g id=\"edge54\" class=\"edge\">\n",
       "<title>44&#45;&gt;45</title>\n",
       "<path fill=\"none\" stroke=\"black\" d=\"M661.76,-3591.6C655.84,-3583.2 648.91,-3573.37 642.48,-3564.26\"/>\n",
       "<polygon fill=\"black\" stroke=\"black\" points=\"644.9,-3562.62 636.28,-3556.46 639.18,-3566.65 644.9,-3562.62\"/>\n",
       "</g>\n",
       "<!-- 46 -->\n",
       "<g id=\"node47\" class=\"node\">\n",
       "<title>46</title>\n",
       "<polygon fill=\"#c1ffc1\" stroke=\"none\" points=\"666,-3475.5 493,-3475.5 493,-3431.5 666,-3431.5 666,-3475.5\"/>\n",
       "<polygon fill=\"none\" stroke=\"black\" points=\"493,-3431.5 493,-3475.5 557,-3475.5 557,-3431.5 493,-3431.5\"/>\n",
       "<text text-anchor=\"start\" x=\"497.62\" y=\"-3456.75\" font-family=\"Linux libertine\" font-size=\"10.00\">Embedding</text>\n",
       "<text text-anchor=\"start\" x=\"506.62\" y=\"-3444\" font-family=\"Linux libertine\" font-size=\"10.00\">depth:2</text>\n",
       "<polygon fill=\"none\" stroke=\"black\" points=\"557,-3453.5 557,-3475.5 604,-3475.5 604,-3453.5 557,-3453.5\"/>\n",
       "<text text-anchor=\"start\" x=\"566.62\" y=\"-3461\" font-family=\"Linux libertine\" font-size=\"10.00\">input:</text>\n",
       "<polygon fill=\"none\" stroke=\"black\" points=\"604,-3453.5 604,-3475.5 666,-3475.5 666,-3453.5 604,-3453.5\"/>\n",
       "<text text-anchor=\"start\" x=\"617.75\" y=\"-3461\" font-family=\"Linux libertine\" font-size=\"10.00\">(1, 44) </text>\n",
       "<polygon fill=\"none\" stroke=\"black\" points=\"557,-3431.5 557,-3453.5 604,-3453.5 604,-3431.5 557,-3431.5\"/>\n",
       "<text text-anchor=\"start\" x=\"561.75\" y=\"-3439\" font-family=\"Linux libertine\" font-size=\"10.00\">output: </text>\n",
       "<polygon fill=\"none\" stroke=\"black\" points=\"604,-3431.5 604,-3453.5 666,-3453.5 666,-3431.5 604,-3431.5\"/>\n",
       "<text text-anchor=\"start\" x=\"608.75\" y=\"-3439\" font-family=\"Linux libertine\" font-size=\"10.00\">(1, 44, 64) </text>\n",
       "</g>\n",
       "<!-- 45&#45;&gt;46 -->\n",
       "<g id=\"edge55\" class=\"edge\">\n",
       "<title>45&#45;&gt;46</title>\n",
       "<path fill=\"none\" stroke=\"black\" d=\"M610.24,-3511.6C605.87,-3503.47 600.76,-3493.99 595.98,-3485.11\"/>\n",
       "<polygon fill=\"black\" stroke=\"black\" points=\"598.61,-3483.61 590.79,-3476.46 592.45,-3486.92 598.61,-3483.61\"/>\n",
       "</g>\n",
       "<!-- 46&#45;&gt;47 -->\n",
       "<g id=\"edge56\" class=\"edge\">\n",
       "<title>46&#45;&gt;47</title>\n",
       "<path fill=\"none\" stroke=\"black\" d=\"M548.95,-3431.6C535.4,-3422.33 519.3,-3411.31 504.87,-3401.44\"/>\n",
       "<polygon fill=\"black\" stroke=\"black\" points=\"507.36,-3398.22 497.13,-3395.46 503.41,-3404 507.36,-3398.22\"/>\n",
       "</g>\n",
       "<!-- 48 -->\n",
       "<g id=\"node49\" class=\"node\">\n",
       "<title>48</title>\n",
       "<polygon fill=\"#c1ffc1\" stroke=\"none\" points=\"589,-3315.5 416,-3315.5 416,-3271.5 589,-3271.5 589,-3315.5\"/>\n",
       "<polygon fill=\"none\" stroke=\"black\" points=\"416,-3271.5 416,-3315.5 480,-3315.5 480,-3271.5 416,-3271.5\"/>\n",
       "<text text-anchor=\"start\" x=\"421\" y=\"-3296.75\" font-family=\"Linux libertine\" font-size=\"10.00\">LayerNorm</text>\n",
       "<text text-anchor=\"start\" x=\"429.62\" y=\"-3284\" font-family=\"Linux libertine\" font-size=\"10.00\">depth:4</text>\n",
       "<polygon fill=\"none\" stroke=\"black\" points=\"480,-3293.5 480,-3315.5 527,-3315.5 527,-3293.5 480,-3293.5\"/>\n",
       "<text text-anchor=\"start\" x=\"489.62\" y=\"-3301\" font-family=\"Linux libertine\" font-size=\"10.00\">input:</text>\n",
       "<polygon fill=\"none\" stroke=\"black\" points=\"527,-3293.5 527,-3315.5 589,-3315.5 589,-3293.5 527,-3293.5\"/>\n",
       "<text text-anchor=\"start\" x=\"531.75\" y=\"-3301\" font-family=\"Linux libertine\" font-size=\"10.00\">(1, 44, 64) </text>\n",
       "<polygon fill=\"none\" stroke=\"black\" points=\"480,-3271.5 480,-3293.5 527,-3293.5 527,-3271.5 480,-3271.5\"/>\n",
       "<text text-anchor=\"start\" x=\"484.75\" y=\"-3279\" font-family=\"Linux libertine\" font-size=\"10.00\">output: </text>\n",
       "<polygon fill=\"none\" stroke=\"black\" points=\"527,-3271.5 527,-3293.5 589,-3293.5 589,-3271.5 527,-3271.5\"/>\n",
       "<text text-anchor=\"start\" x=\"531.75\" y=\"-3279\" font-family=\"Linux libertine\" font-size=\"10.00\">(1, 44, 64) </text>\n",
       "</g>\n",
       "<!-- 47&#45;&gt;48 -->\n",
       "<g id=\"edge58\" class=\"edge\">\n",
       "<title>47&#45;&gt;48</title>\n",
       "<path fill=\"none\" stroke=\"black\" d=\"M475.42,-3351.6C479.27,-3343.47 483.77,-3333.99 487.98,-3325.11\"/>\n",
       "<polygon fill=\"black\" stroke=\"black\" points=\"491.43,-3327 492.56,-3316.46 485.11,-3324 491.43,-3327\"/>\n",
       "</g>\n",
       "<!-- 52 -->\n",
       "<g id=\"node53\" class=\"node\">\n",
       "<title>52</title>\n",
       "<polygon fill=\"aliceblue\" stroke=\"none\" points=\"547,-3155.5 374,-3155.5 374,-3111.5 547,-3111.5 547,-3155.5\"/>\n",
       "<polygon fill=\"none\" stroke=\"black\" points=\"374,-3111.5 374,-3155.5 420,-3155.5 420,-3111.5 374,-3111.5\"/>\n",
       "<text text-anchor=\"start\" x=\"388\" y=\"-3136.75\" font-family=\"Linux libertine\" font-size=\"10.00\">add</text>\n",
       "<text text-anchor=\"start\" x=\"378.62\" y=\"-3124\" font-family=\"Linux libertine\" font-size=\"10.00\">depth:4</text>\n",
       "<polygon fill=\"none\" stroke=\"black\" points=\"420,-3133.5 420,-3155.5 467,-3155.5 467,-3133.5 420,-3133.5\"/>\n",
       "<text text-anchor=\"start\" x=\"429.62\" y=\"-3141\" font-family=\"Linux libertine\" font-size=\"10.00\">input:</text>\n",
       "<polygon fill=\"none\" stroke=\"black\" points=\"467,-3133.5 467,-3155.5 547,-3155.5 547,-3133.5 467,-3133.5\"/>\n",
       "<text text-anchor=\"start\" x=\"471.75\" y=\"-3141\" font-family=\"Linux libertine\" font-size=\"10.00\">2 x (1, 44, 64) </text>\n",
       "<polygon fill=\"none\" stroke=\"black\" points=\"420,-3111.5 420,-3133.5 467,-3133.5 467,-3111.5 420,-3111.5\"/>\n",
       "<text text-anchor=\"start\" x=\"424.75\" y=\"-3119\" font-family=\"Linux libertine\" font-size=\"10.00\">output: </text>\n",
       "<polygon fill=\"none\" stroke=\"black\" points=\"467,-3111.5 467,-3133.5 547,-3133.5 547,-3111.5 467,-3111.5\"/>\n",
       "<text text-anchor=\"start\" x=\"480.75\" y=\"-3119\" font-family=\"Linux libertine\" font-size=\"10.00\">(1, 44, 64) </text>\n",
       "</g>\n",
       "<!-- 47&#45;&gt;52 -->\n",
       "<g id=\"edge59\" class=\"edge\">\n",
       "<title>47&#45;&gt;52</title>\n",
       "<path fill=\"none\" stroke=\"black\" d=\"M436.06,-3351.7C424.95,-3342.09 413.54,-3329.65 407.5,-3315.5 385.87,-3264.81 386.1,-3242.7 406.5,-3191.5 410.71,-3180.94 417.9,-3171.22 425.69,-3162.9\"/>\n",
       "<polygon fill=\"black\" stroke=\"black\" points=\"427.63,-3165.91 432.26,-3156.38 422.7,-3160.95 427.63,-3165.91\"/>\n",
       "</g>\n",
       "<!-- 51 -->\n",
       "<g id=\"node52\" class=\"node\">\n",
       "<title>51</title>\n",
       "<polygon fill=\"#c1ffc1\" stroke=\"none\" points=\"689.5,-3235.5 415.5,-3235.5 415.5,-3191.5 689.5,-3191.5 689.5,-3235.5\"/>\n",
       "<polygon fill=\"none\" stroke=\"black\" points=\"415.5,-3191.5 415.5,-3235.5 518.5,-3235.5 518.5,-3191.5 415.5,-3191.5\"/>\n",
       "<text text-anchor=\"start\" x=\"420.12\" y=\"-3216.75\" font-family=\"Linux libertine\" font-size=\"10.00\">MultiheadAttention</text>\n",
       "<text text-anchor=\"start\" x=\"448.62\" y=\"-3204\" font-family=\"Linux libertine\" font-size=\"10.00\">depth:4</text>\n",
       "<polygon fill=\"none\" stroke=\"black\" points=\"518.5,-3213.5 518.5,-3235.5 565.5,-3235.5 565.5,-3213.5 518.5,-3213.5\"/>\n",
       "<text text-anchor=\"start\" x=\"528.12\" y=\"-3221\" font-family=\"Linux libertine\" font-size=\"10.00\">input:</text>\n",
       "<polygon fill=\"none\" stroke=\"black\" points=\"565.5,-3213.5 565.5,-3235.5 689.5,-3235.5 689.5,-3213.5 565.5,-3213.5\"/>\n",
       "<text text-anchor=\"start\" x=\"570.5\" y=\"-3221\" font-family=\"Linux libertine\" font-size=\"10.00\">3 x (1, 44, 64), (44, 44) </text>\n",
       "<polygon fill=\"none\" stroke=\"black\" points=\"518.5,-3191.5 518.5,-3213.5 565.5,-3213.5 565.5,-3191.5 518.5,-3191.5\"/>\n",
       "<text text-anchor=\"start\" x=\"523.25\" y=\"-3199\" font-family=\"Linux libertine\" font-size=\"10.00\">output: </text>\n",
       "<polygon fill=\"none\" stroke=\"black\" points=\"565.5,-3191.5 565.5,-3213.5 689.5,-3213.5 689.5,-3191.5 565.5,-3191.5\"/>\n",
       "<text text-anchor=\"start\" x=\"573.5\" y=\"-3199\" font-family=\"Linux libertine\" font-size=\"10.00\">(1, 44, 64), (1, 44, 44) </text>\n",
       "</g>\n",
       "<!-- 48&#45;&gt;51 -->\n",
       "<g id=\"edge60\" class=\"edge\">\n",
       "<title>48&#45;&gt;51</title>\n",
       "<path fill=\"none\" stroke=\"black\" d=\"M515.9,-3271.6C521.22,-3263.29 527.45,-3253.58 533.24,-3244.54\"/>\n",
       "<polygon fill=\"black\" stroke=\"black\" points=\"536.61,-3246.77 539.06,-3236.46 530.72,-3242.99 536.61,-3246.77\"/>\n",
       "</g>\n",
       "<!-- 49 -->\n",
       "<g id=\"node50\" class=\"node\">\n",
       "<title>49</title>\n",
       "<polygon fill=\"aliceblue\" stroke=\"none\" points=\"750,-3395.5 607,-3395.5 607,-3351.5 750,-3351.5 750,-3395.5\"/>\n",
       "<polygon fill=\"none\" stroke=\"black\" points=\"607,-3351.5 607,-3395.5 653,-3395.5 653,-3351.5 607,-3351.5\"/>\n",
       "<text text-anchor=\"start\" x=\"621.75\" y=\"-3376.75\" font-family=\"Linux libertine\" font-size=\"10.00\">triu</text>\n",
       "<text text-anchor=\"start\" x=\"611.62\" y=\"-3364\" font-family=\"Linux libertine\" font-size=\"10.00\">depth:4</text>\n",
       "<polygon fill=\"none\" stroke=\"black\" points=\"653,-3373.5 653,-3395.5 700,-3395.5 700,-3373.5 653,-3373.5\"/>\n",
       "<text text-anchor=\"start\" x=\"662.62\" y=\"-3381\" font-family=\"Linux libertine\" font-size=\"10.00\">input:</text>\n",
       "<polygon fill=\"none\" stroke=\"black\" points=\"700,-3373.5 700,-3395.5 750,-3395.5 750,-3373.5 700,-3373.5\"/>\n",
       "<text text-anchor=\"start\" x=\"704.75\" y=\"-3381\" font-family=\"Linux libertine\" font-size=\"10.00\">(44, 44) </text>\n",
       "<polygon fill=\"none\" stroke=\"black\" points=\"653,-3351.5 653,-3373.5 700,-3373.5 700,-3351.5 653,-3351.5\"/>\n",
       "<text text-anchor=\"start\" x=\"657.75\" y=\"-3359\" font-family=\"Linux libertine\" font-size=\"10.00\">output: </text>\n",
       "<polygon fill=\"none\" stroke=\"black\" points=\"700,-3351.5 700,-3373.5 750,-3373.5 750,-3351.5 700,-3351.5\"/>\n",
       "<text text-anchor=\"start\" x=\"704.75\" y=\"-3359\" font-family=\"Linux libertine\" font-size=\"10.00\">(44, 44) </text>\n",
       "</g>\n",
       "<!-- 50 -->\n",
       "<g id=\"node51\" class=\"node\">\n",
       "<title>50</title>\n",
       "<polygon fill=\"aliceblue\" stroke=\"none\" points=\"750,-3315.5 607,-3315.5 607,-3271.5 750,-3271.5 750,-3315.5\"/>\n",
       "<polygon fill=\"none\" stroke=\"black\" points=\"607,-3271.5 607,-3315.5 653,-3315.5 653,-3271.5 607,-3271.5\"/>\n",
       "<text text-anchor=\"start\" x=\"625.12\" y=\"-3296.75\" font-family=\"Linux libertine\" font-size=\"10.00\">to</text>\n",
       "<text text-anchor=\"start\" x=\"611.62\" y=\"-3284\" font-family=\"Linux libertine\" font-size=\"10.00\">depth:4</text>\n",
       "<polygon fill=\"none\" stroke=\"black\" points=\"653,-3293.5 653,-3315.5 700,-3315.5 700,-3293.5 653,-3293.5\"/>\n",
       "<text text-anchor=\"start\" x=\"662.62\" y=\"-3301\" font-family=\"Linux libertine\" font-size=\"10.00\">input:</text>\n",
       "<polygon fill=\"none\" stroke=\"black\" points=\"700,-3293.5 700,-3315.5 750,-3315.5 750,-3293.5 700,-3293.5\"/>\n",
       "<text text-anchor=\"start\" x=\"704.75\" y=\"-3301\" font-family=\"Linux libertine\" font-size=\"10.00\">(44, 44) </text>\n",
       "<polygon fill=\"none\" stroke=\"black\" points=\"653,-3271.5 653,-3293.5 700,-3293.5 700,-3271.5 653,-3271.5\"/>\n",
       "<text text-anchor=\"start\" x=\"657.75\" y=\"-3279\" font-family=\"Linux libertine\" font-size=\"10.00\">output: </text>\n",
       "<polygon fill=\"none\" stroke=\"black\" points=\"700,-3271.5 700,-3293.5 750,-3293.5 750,-3271.5 700,-3271.5\"/>\n",
       "<text text-anchor=\"start\" x=\"704.75\" y=\"-3279\" font-family=\"Linux libertine\" font-size=\"10.00\">(44, 44) </text>\n",
       "</g>\n",
       "<!-- 49&#45;&gt;50 -->\n",
       "<g id=\"edge61\" class=\"edge\">\n",
       "<title>49&#45;&gt;50</title>\n",
       "<path fill=\"none\" stroke=\"black\" d=\"M678.5,-3351.6C678.5,-3343.82 678.5,-3334.8 678.5,-3326.26\"/>\n",
       "<polygon fill=\"black\" stroke=\"black\" points=\"682,-3326.46 678.5,-3316.46 675,-3326.46 682,-3326.46\"/>\n",
       "</g>\n",
       "<!-- 50&#45;&gt;51 -->\n",
       "<g id=\"edge62\" class=\"edge\">\n",
       "<title>50&#45;&gt;51</title>\n",
       "<path fill=\"none\" stroke=\"black\" d=\"M644.73,-3271.6C629.62,-3262.24 611.63,-3251.1 595.56,-3241.16\"/>\n",
       "<polygon fill=\"black\" stroke=\"black\" points=\"597.7,-3237.75 587.36,-3235.46 594.02,-3243.7 597.7,-3237.75\"/>\n",
       "</g>\n",
       "<!-- 51&#45;&gt;52 -->\n",
       "<g id=\"edge63\" class=\"edge\">\n",
       "<title>51&#45;&gt;52</title>\n",
       "<path fill=\"none\" stroke=\"black\" d=\"M527.85,-3191.6C517.33,-3182.68 504.89,-3172.14 493.59,-3162.56\"/>\n",
       "<polygon fill=\"black\" stroke=\"black\" points=\"496.11,-3159.26 486.22,-3155.46 491.59,-3164.6 496.11,-3159.26\"/>\n",
       "</g>\n",
       "<!-- 53 -->\n",
       "<g id=\"node54\" class=\"node\">\n",
       "<title>53</title>\n",
       "<polygon fill=\"#c1ffc1\" stroke=\"none\" points=\"644,-3075.5 471,-3075.5 471,-3031.5 644,-3031.5 644,-3075.5\"/>\n",
       "<polygon fill=\"none\" stroke=\"black\" points=\"471,-3031.5 471,-3075.5 535,-3075.5 535,-3031.5 471,-3031.5\"/>\n",
       "<text text-anchor=\"start\" x=\"476\" y=\"-3056.75\" font-family=\"Linux libertine\" font-size=\"10.00\">LayerNorm</text>\n",
       "<text text-anchor=\"start\" x=\"484.62\" y=\"-3044\" font-family=\"Linux libertine\" font-size=\"10.00\">depth:4</text>\n",
       "<polygon fill=\"none\" stroke=\"black\" points=\"535,-3053.5 535,-3075.5 582,-3075.5 582,-3053.5 535,-3053.5\"/>\n",
       "<text text-anchor=\"start\" x=\"544.62\" y=\"-3061\" font-family=\"Linux libertine\" font-size=\"10.00\">input:</text>\n",
       "<polygon fill=\"none\" stroke=\"black\" points=\"582,-3053.5 582,-3075.5 644,-3075.5 644,-3053.5 582,-3053.5\"/>\n",
       "<text text-anchor=\"start\" x=\"586.75\" y=\"-3061\" font-family=\"Linux libertine\" font-size=\"10.00\">(1, 44, 64) </text>\n",
       "<polygon fill=\"none\" stroke=\"black\" points=\"535,-3031.5 535,-3053.5 582,-3053.5 582,-3031.5 535,-3031.5\"/>\n",
       "<text text-anchor=\"start\" x=\"539.75\" y=\"-3039\" font-family=\"Linux libertine\" font-size=\"10.00\">output: </text>\n",
       "<polygon fill=\"none\" stroke=\"black\" points=\"582,-3031.5 582,-3053.5 644,-3053.5 644,-3031.5 582,-3031.5\"/>\n",
       "<text text-anchor=\"start\" x=\"586.75\" y=\"-3039\" font-family=\"Linux libertine\" font-size=\"10.00\">(1, 44, 64) </text>\n",
       "</g>\n",
       "<!-- 52&#45;&gt;53 -->\n",
       "<g id=\"edge64\" class=\"edge\">\n",
       "<title>52&#45;&gt;53</title>\n",
       "<path fill=\"none\" stroke=\"black\" d=\"M486.49,-3111.6C497.69,-3102.59 510.95,-3091.93 522.96,-3082.28\"/>\n",
       "<polygon fill=\"black\" stroke=\"black\" points=\"524.83,-3084.45 530.43,-3075.46 520.45,-3079 524.83,-3084.45\"/>\n",
       "</g>\n",
       "<!-- 55 -->\n",
       "<g id=\"node56\" class=\"node\">\n",
       "<title>55</title>\n",
       "<polygon fill=\"aliceblue\" stroke=\"none\" points=\"442,-2915.5 269,-2915.5 269,-2871.5 442,-2871.5 442,-2915.5\"/>\n",
       "<polygon fill=\"none\" stroke=\"black\" points=\"269,-2871.5 269,-2915.5 315,-2915.5 315,-2871.5 269,-2871.5\"/>\n",
       "<text text-anchor=\"start\" x=\"283\" y=\"-2896.75\" font-family=\"Linux libertine\" font-size=\"10.00\">add</text>\n",
       "<text text-anchor=\"start\" x=\"273.62\" y=\"-2884\" font-family=\"Linux libertine\" font-size=\"10.00\">depth:4</text>\n",
       "<polygon fill=\"none\" stroke=\"black\" points=\"315,-2893.5 315,-2915.5 362,-2915.5 362,-2893.5 315,-2893.5\"/>\n",
       "<text text-anchor=\"start\" x=\"324.62\" y=\"-2901\" font-family=\"Linux libertine\" font-size=\"10.00\">input:</text>\n",
       "<polygon fill=\"none\" stroke=\"black\" points=\"362,-2893.5 362,-2915.5 442,-2915.5 442,-2893.5 362,-2893.5\"/>\n",
       "<text text-anchor=\"start\" x=\"366.75\" y=\"-2901\" font-family=\"Linux libertine\" font-size=\"10.00\">2 x (1, 44, 64) </text>\n",
       "<polygon fill=\"none\" stroke=\"black\" points=\"315,-2871.5 315,-2893.5 362,-2893.5 362,-2871.5 315,-2871.5\"/>\n",
       "<text text-anchor=\"start\" x=\"319.75\" y=\"-2879\" font-family=\"Linux libertine\" font-size=\"10.00\">output: </text>\n",
       "<polygon fill=\"none\" stroke=\"black\" points=\"362,-2871.5 362,-2893.5 442,-2893.5 442,-2871.5 362,-2871.5\"/>\n",
       "<text text-anchor=\"start\" x=\"375.75\" y=\"-2879\" font-family=\"Linux libertine\" font-size=\"10.00\">(1, 44, 64) </text>\n",
       "</g>\n",
       "<!-- 52&#45;&gt;55 -->\n",
       "<g id=\"edge65\" class=\"edge\">\n",
       "<title>52&#45;&gt;55</title>\n",
       "<path fill=\"none\" stroke=\"black\" d=\"M451.37,-3111.8C432.83,-3069.77 390.71,-2974.3 369,-2925.09\"/>\n",
       "<polygon fill=\"black\" stroke=\"black\" points=\"371.93,-2924.06 364.69,-2916.33 365.52,-2926.89 371.93,-2924.06\"/>\n",
       "</g>\n",
       "<!-- 53&#45;&gt;54 -->\n",
       "<g id=\"edge66\" class=\"edge\">\n",
       "<title>53&#45;&gt;54</title>\n",
       "<path fill=\"none\" stroke=\"black\" d=\"M575.45,-3031.6C582.81,-3023.03 591.46,-3012.96 599.43,-3003.69\"/>\n",
       "<polygon fill=\"black\" stroke=\"black\" points=\"602.63,-3006.33 606.5,-2996.46 597.32,-3001.77 602.63,-3006.33\"/>\n",
       "</g>\n",
       "<!-- 54&#45;&gt;55 -->\n",
       "<g id=\"edge67\" class=\"edge\">\n",
       "<title>54&#45;&gt;55</title>\n",
       "<path fill=\"none\" stroke=\"black\" d=\"M552.41,-2951.6C517.13,-2941.37 474.49,-2929 437.93,-2918.4\"/>\n",
       "<polygon fill=\"black\" stroke=\"black\" points=\"439.37,-2914.88 428.79,-2915.46 437.42,-2921.61 439.37,-2914.88\"/>\n",
       "</g>\n",
       "<!-- 56 -->\n",
       "<g id=\"node57\" class=\"node\">\n",
       "<title>56</title>\n",
       "<polygon fill=\"#c1ffc1\" stroke=\"none\" points=\"441,-2835.5 268,-2835.5 268,-2791.5 441,-2791.5 441,-2835.5\"/>\n",
       "<polygon fill=\"none\" stroke=\"black\" points=\"268,-2791.5 268,-2835.5 332,-2835.5 332,-2791.5 268,-2791.5\"/>\n",
       "<text text-anchor=\"start\" x=\"273\" y=\"-2816.75\" font-family=\"Linux libertine\" font-size=\"10.00\">LayerNorm</text>\n",
       "<text text-anchor=\"start\" x=\"281.62\" y=\"-2804\" font-family=\"Linux libertine\" font-size=\"10.00\">depth:4</text>\n",
       "<polygon fill=\"none\" stroke=\"black\" points=\"332,-2813.5 332,-2835.5 379,-2835.5 379,-2813.5 332,-2813.5\"/>\n",
       "<text text-anchor=\"start\" x=\"341.62\" y=\"-2821\" font-family=\"Linux libertine\" font-size=\"10.00\">input:</text>\n",
       "<polygon fill=\"none\" stroke=\"black\" points=\"379,-2813.5 379,-2835.5 441,-2835.5 441,-2813.5 379,-2813.5\"/>\n",
       "<text text-anchor=\"start\" x=\"383.75\" y=\"-2821\" font-family=\"Linux libertine\" font-size=\"10.00\">(1, 44, 64) </text>\n",
       "<polygon fill=\"none\" stroke=\"black\" points=\"332,-2791.5 332,-2813.5 379,-2813.5 379,-2791.5 332,-2791.5\"/>\n",
       "<text text-anchor=\"start\" x=\"336.75\" y=\"-2799\" font-family=\"Linux libertine\" font-size=\"10.00\">output: </text>\n",
       "<polygon fill=\"none\" stroke=\"black\" points=\"379,-2791.5 379,-2813.5 441,-2813.5 441,-2791.5 379,-2791.5\"/>\n",
       "<text text-anchor=\"start\" x=\"383.75\" y=\"-2799\" font-family=\"Linux libertine\" font-size=\"10.00\">(1, 44, 64) </text>\n",
       "</g>\n",
       "<!-- 55&#45;&gt;56 -->\n",
       "<g id=\"edge68\" class=\"edge\">\n",
       "<title>55&#45;&gt;56</title>\n",
       "<path fill=\"none\" stroke=\"black\" d=\"M355.23,-2871.6C355.13,-2863.82 355.02,-2854.8 354.91,-2846.26\"/>\n",
       "<polygon fill=\"black\" stroke=\"black\" points=\"358.4,-2846.41 354.77,-2836.46 351.4,-2846.5 358.4,-2846.41\"/>\n",
       "</g>\n",
       "<!-- 59 -->\n",
       "<g id=\"node60\" class=\"node\">\n",
       "<title>59</title>\n",
       "<polygon fill=\"aliceblue\" stroke=\"none\" points=\"315,-2595.5 142,-2595.5 142,-2551.5 315,-2551.5 315,-2595.5\"/>\n",
       "<polygon fill=\"none\" stroke=\"black\" points=\"142,-2551.5 142,-2595.5 188,-2595.5 188,-2551.5 142,-2551.5\"/>\n",
       "<text text-anchor=\"start\" x=\"156\" y=\"-2576.75\" font-family=\"Linux libertine\" font-size=\"10.00\">add</text>\n",
       "<text text-anchor=\"start\" x=\"146.62\" y=\"-2564\" font-family=\"Linux libertine\" font-size=\"10.00\">depth:4</text>\n",
       "<polygon fill=\"none\" stroke=\"black\" points=\"188,-2573.5 188,-2595.5 235,-2595.5 235,-2573.5 188,-2573.5\"/>\n",
       "<text text-anchor=\"start\" x=\"197.62\" y=\"-2581\" font-family=\"Linux libertine\" font-size=\"10.00\">input:</text>\n",
       "<polygon fill=\"none\" stroke=\"black\" points=\"235,-2573.5 235,-2595.5 315,-2595.5 315,-2573.5 235,-2573.5\"/>\n",
       "<text text-anchor=\"start\" x=\"239.75\" y=\"-2581\" font-family=\"Linux libertine\" font-size=\"10.00\">2 x (1, 44, 64) </text>\n",
       "<polygon fill=\"none\" stroke=\"black\" points=\"188,-2551.5 188,-2573.5 235,-2573.5 235,-2551.5 188,-2551.5\"/>\n",
       "<text text-anchor=\"start\" x=\"192.75\" y=\"-2559\" font-family=\"Linux libertine\" font-size=\"10.00\">output: </text>\n",
       "<polygon fill=\"none\" stroke=\"black\" points=\"235,-2551.5 235,-2573.5 315,-2573.5 315,-2551.5 235,-2551.5\"/>\n",
       "<text text-anchor=\"start\" x=\"248.75\" y=\"-2559\" font-family=\"Linux libertine\" font-size=\"10.00\">(1, 44, 64) </text>\n",
       "</g>\n",
       "<!-- 55&#45;&gt;59 -->\n",
       "<g id=\"edge69\" class=\"edge\">\n",
       "<title>55&#45;&gt;59</title>\n",
       "<path fill=\"none\" stroke=\"black\" d=\"M300.42,-2871.54C284.42,-2862.79 268.57,-2850.97 258.5,-2835.5 212.02,-2764.09 217.4,-2657.93 223.7,-2605.75\"/>\n",
       "<polygon fill=\"black\" stroke=\"black\" points=\"227.26,-2606.54 225.08,-2596.18 220.32,-2605.64 227.26,-2606.54\"/>\n",
       "</g>\n",
       "<!-- 57 -->\n",
       "<g id=\"node58\" class=\"node\">\n",
       "<title>57</title>\n",
       "<polygon fill=\"#c1ffc1\" stroke=\"none\" points=\"424,-2755.5 269,-2755.5 269,-2711.5 424,-2711.5 424,-2755.5\"/>\n",
       "<polygon fill=\"none\" stroke=\"black\" points=\"269,-2711.5 269,-2755.5 315,-2755.5 315,-2711.5 269,-2711.5\"/>\n",
       "<text text-anchor=\"start\" x=\"277\" y=\"-2736.75\" font-family=\"Linux libertine\" font-size=\"10.00\">Linear</text>\n",
       "<text text-anchor=\"start\" x=\"273.62\" y=\"-2724\" font-family=\"Linux libertine\" font-size=\"10.00\">depth:4</text>\n",
       "<polygon fill=\"none\" stroke=\"black\" points=\"315,-2733.5 315,-2755.5 362,-2755.5 362,-2733.5 315,-2733.5\"/>\n",
       "<text text-anchor=\"start\" x=\"324.62\" y=\"-2741\" font-family=\"Linux libertine\" font-size=\"10.00\">input:</text>\n",
       "<polygon fill=\"none\" stroke=\"black\" points=\"362,-2733.5 362,-2755.5 424,-2755.5 424,-2733.5 362,-2733.5\"/>\n",
       "<text text-anchor=\"start\" x=\"366.75\" y=\"-2741\" font-family=\"Linux libertine\" font-size=\"10.00\">(1, 44, 64) </text>\n",
       "<polygon fill=\"none\" stroke=\"black\" points=\"315,-2711.5 315,-2733.5 362,-2733.5 362,-2711.5 315,-2711.5\"/>\n",
       "<text text-anchor=\"start\" x=\"319.75\" y=\"-2719\" font-family=\"Linux libertine\" font-size=\"10.00\">output: </text>\n",
       "<polygon fill=\"none\" stroke=\"black\" points=\"362,-2711.5 362,-2733.5 424,-2733.5 424,-2711.5 362,-2711.5\"/>\n",
       "<text text-anchor=\"start\" x=\"366.75\" y=\"-2719\" font-family=\"Linux libertine\" font-size=\"10.00\">(1, 44, 64) </text>\n",
       "</g>\n",
       "<!-- 56&#45;&gt;57 -->\n",
       "<g id=\"edge70\" class=\"edge\">\n",
       "<title>56&#45;&gt;57</title>\n",
       "<path fill=\"none\" stroke=\"black\" d=\"M352.36,-2791.6C351.56,-2783.82 350.63,-2774.8 349.76,-2766.26\"/>\n",
       "<polygon fill=\"black\" stroke=\"black\" points=\"353.15,-2766.05 348.65,-2756.46 346.19,-2766.77 353.15,-2766.05\"/>\n",
       "</g>\n",
       "<!-- 58 -->\n",
       "<g id=\"node59\" class=\"node\">\n",
       "<title>58</title>\n",
       "<polygon fill=\"#c1ffc1\" stroke=\"none\" points=\"416,-2675.5 261,-2675.5 261,-2631.5 416,-2631.5 416,-2675.5\"/>\n",
       "<polygon fill=\"none\" stroke=\"black\" points=\"261,-2631.5 261,-2675.5 307,-2675.5 307,-2631.5 261,-2631.5\"/>\n",
       "<text text-anchor=\"start\" x=\"270.88\" y=\"-2656.75\" font-family=\"Linux libertine\" font-size=\"10.00\">GELU</text>\n",
       "<text text-anchor=\"start\" x=\"265.62\" y=\"-2644\" font-family=\"Linux libertine\" font-size=\"10.00\">depth:4</text>\n",
       "<polygon fill=\"none\" stroke=\"black\" points=\"307,-2653.5 307,-2675.5 354,-2675.5 354,-2653.5 307,-2653.5\"/>\n",
       "<text text-anchor=\"start\" x=\"316.62\" y=\"-2661\" font-family=\"Linux libertine\" font-size=\"10.00\">input:</text>\n",
       "<polygon fill=\"none\" stroke=\"black\" points=\"354,-2653.5 354,-2675.5 416,-2675.5 416,-2653.5 354,-2653.5\"/>\n",
       "<text text-anchor=\"start\" x=\"358.75\" y=\"-2661\" font-family=\"Linux libertine\" font-size=\"10.00\">(1, 44, 64) </text>\n",
       "<polygon fill=\"none\" stroke=\"black\" points=\"307,-2631.5 307,-2653.5 354,-2653.5 354,-2631.5 307,-2631.5\"/>\n",
       "<text text-anchor=\"start\" x=\"311.75\" y=\"-2639\" font-family=\"Linux libertine\" font-size=\"10.00\">output: </text>\n",
       "<polygon fill=\"none\" stroke=\"black\" points=\"354,-2631.5 354,-2653.5 416,-2653.5 416,-2631.5 354,-2631.5\"/>\n",
       "<text text-anchor=\"start\" x=\"358.75\" y=\"-2639\" font-family=\"Linux libertine\" font-size=\"10.00\">(1, 44, 64) </text>\n",
       "</g>\n",
       "<!-- 57&#45;&gt;58 -->\n",
       "<g id=\"edge71\" class=\"edge\">\n",
       "<title>57&#45;&gt;58</title>\n",
       "<path fill=\"none\" stroke=\"black\" d=\"M344.36,-2711.6C343.56,-2703.82 342.63,-2694.8 341.76,-2686.26\"/>\n",
       "<polygon fill=\"black\" stroke=\"black\" points=\"345.15,-2686.05 340.65,-2676.46 338.19,-2686.77 345.15,-2686.05\"/>\n",
       "</g>\n",
       "<!-- 58&#45;&gt;59 -->\n",
       "<g id=\"edge72\" class=\"edge\">\n",
       "<title>58&#45;&gt;59</title>\n",
       "<path fill=\"none\" stroke=\"black\" d=\"M309.02,-2631.6C296.08,-2622.42 280.7,-2611.52 266.88,-2601.71\"/>\n",
       "<polygon fill=\"black\" stroke=\"black\" points=\"269.24,-2598.39 259.06,-2595.46 265.19,-2604.1 269.24,-2598.39\"/>\n",
       "</g>\n",
       "<!-- 60 -->\n",
       "<g id=\"node61\" class=\"node\">\n",
       "<title>60</title>\n",
       "<polygon fill=\"#c1ffc1\" stroke=\"none\" points=\"315,-2515.5 142,-2515.5 142,-2471.5 315,-2471.5 315,-2515.5\"/>\n",
       "<polygon fill=\"none\" stroke=\"black\" points=\"142,-2471.5 142,-2515.5 206,-2515.5 206,-2471.5 142,-2471.5\"/>\n",
       "<text text-anchor=\"start\" x=\"147\" y=\"-2496.75\" font-family=\"Linux libertine\" font-size=\"10.00\">LayerNorm</text>\n",
       "<text text-anchor=\"start\" x=\"155.62\" y=\"-2484\" font-family=\"Linux libertine\" font-size=\"10.00\">depth:4</text>\n",
       "<polygon fill=\"none\" stroke=\"black\" points=\"206,-2493.5 206,-2515.5 253,-2515.5 253,-2493.5 206,-2493.5\"/>\n",
       "<text text-anchor=\"start\" x=\"215.62\" y=\"-2501\" font-family=\"Linux libertine\" font-size=\"10.00\">input:</text>\n",
       "<polygon fill=\"none\" stroke=\"black\" points=\"253,-2493.5 253,-2515.5 315,-2515.5 315,-2493.5 253,-2493.5\"/>\n",
       "<text text-anchor=\"start\" x=\"257.75\" y=\"-2501\" font-family=\"Linux libertine\" font-size=\"10.00\">(1, 44, 64) </text>\n",
       "<polygon fill=\"none\" stroke=\"black\" points=\"206,-2471.5 206,-2493.5 253,-2493.5 253,-2471.5 206,-2471.5\"/>\n",
       "<text text-anchor=\"start\" x=\"210.75\" y=\"-2479\" font-family=\"Linux libertine\" font-size=\"10.00\">output: </text>\n",
       "<polygon fill=\"none\" stroke=\"black\" points=\"253,-2471.5 253,-2493.5 315,-2493.5 315,-2471.5 253,-2471.5\"/>\n",
       "<text text-anchor=\"start\" x=\"257.75\" y=\"-2479\" font-family=\"Linux libertine\" font-size=\"10.00\">(1, 44, 64) </text>\n",
       "</g>\n",
       "<!-- 59&#45;&gt;60 -->\n",
       "<g id=\"edge74\" class=\"edge\">\n",
       "<title>59&#45;&gt;60</title>\n",
       "<path fill=\"none\" stroke=\"black\" d=\"M228.5,-2551.6C228.5,-2543.82 228.5,-2534.8 228.5,-2526.26\"/>\n",
       "<polygon fill=\"black\" stroke=\"black\" points=\"232,-2526.46 228.5,-2516.46 225,-2526.46 232,-2526.46\"/>\n",
       "</g>\n",
       "<!-- 64 -->\n",
       "<g id=\"node65\" class=\"node\">\n",
       "<title>64</title>\n",
       "<polygon fill=\"aliceblue\" stroke=\"none\" points=\"321,-2355.5 148,-2355.5 148,-2311.5 321,-2311.5 321,-2355.5\"/>\n",
       "<polygon fill=\"none\" stroke=\"black\" points=\"148,-2311.5 148,-2355.5 194,-2355.5 194,-2311.5 148,-2311.5\"/>\n",
       "<text text-anchor=\"start\" x=\"162\" y=\"-2336.75\" font-family=\"Linux libertine\" font-size=\"10.00\">add</text>\n",
       "<text text-anchor=\"start\" x=\"152.62\" y=\"-2324\" font-family=\"Linux libertine\" font-size=\"10.00\">depth:4</text>\n",
       "<polygon fill=\"none\" stroke=\"black\" points=\"194,-2333.5 194,-2355.5 241,-2355.5 241,-2333.5 194,-2333.5\"/>\n",
       "<text text-anchor=\"start\" x=\"203.62\" y=\"-2341\" font-family=\"Linux libertine\" font-size=\"10.00\">input:</text>\n",
       "<polygon fill=\"none\" stroke=\"black\" points=\"241,-2333.5 241,-2355.5 321,-2355.5 321,-2333.5 241,-2333.5\"/>\n",
       "<text text-anchor=\"start\" x=\"245.75\" y=\"-2341\" font-family=\"Linux libertine\" font-size=\"10.00\">2 x (1, 44, 64) </text>\n",
       "<polygon fill=\"none\" stroke=\"black\" points=\"194,-2311.5 194,-2333.5 241,-2333.5 241,-2311.5 194,-2311.5\"/>\n",
       "<text text-anchor=\"start\" x=\"198.75\" y=\"-2319\" font-family=\"Linux libertine\" font-size=\"10.00\">output: </text>\n",
       "<polygon fill=\"none\" stroke=\"black\" points=\"241,-2311.5 241,-2333.5 321,-2333.5 321,-2311.5 241,-2311.5\"/>\n",
       "<text text-anchor=\"start\" x=\"254.75\" y=\"-2319\" font-family=\"Linux libertine\" font-size=\"10.00\">(1, 44, 64) </text>\n",
       "</g>\n",
       "<!-- 59&#45;&gt;64 -->\n",
       "<g id=\"edge75\" class=\"edge\">\n",
       "<title>59&#45;&gt;64</title>\n",
       "<path fill=\"none\" stroke=\"black\" d=\"M171.9,-2551.52C156.36,-2542.85 141.37,-2531.08 132.5,-2515.5 105.24,-2467.61 104.61,-2439.03 132.5,-2391.5 139.93,-2378.83 151.33,-2368.76 163.84,-2360.85\"/>\n",
       "<polygon fill=\"black\" stroke=\"black\" points=\"165.23,-2363.51 172.11,-2355.46 161.71,-2357.46 165.23,-2363.51\"/>\n",
       "</g>\n",
       "<!-- 63 -->\n",
       "<g id=\"node64\" class=\"node\">\n",
       "<title>63</title>\n",
       "<polygon fill=\"#c1ffc1\" stroke=\"none\" points=\"415.5,-2435.5 141.5,-2435.5 141.5,-2391.5 415.5,-2391.5 415.5,-2435.5\"/>\n",
       "<polygon fill=\"none\" stroke=\"black\" points=\"141.5,-2391.5 141.5,-2435.5 244.5,-2435.5 244.5,-2391.5 141.5,-2391.5\"/>\n",
       "<text text-anchor=\"start\" x=\"146.12\" y=\"-2416.75\" font-family=\"Linux libertine\" font-size=\"10.00\">MultiheadAttention</text>\n",
       "<text text-anchor=\"start\" x=\"174.62\" y=\"-2404\" font-family=\"Linux libertine\" font-size=\"10.00\">depth:4</text>\n",
       "<polygon fill=\"none\" stroke=\"black\" points=\"244.5,-2413.5 244.5,-2435.5 291.5,-2435.5 291.5,-2413.5 244.5,-2413.5\"/>\n",
       "<text text-anchor=\"start\" x=\"254.12\" y=\"-2421\" font-family=\"Linux libertine\" font-size=\"10.00\">input:</text>\n",
       "<polygon fill=\"none\" stroke=\"black\" points=\"291.5,-2413.5 291.5,-2435.5 415.5,-2435.5 415.5,-2413.5 291.5,-2413.5\"/>\n",
       "<text text-anchor=\"start\" x=\"296.5\" y=\"-2421\" font-family=\"Linux libertine\" font-size=\"10.00\">3 x (1, 44, 64), (44, 44) </text>\n",
       "<polygon fill=\"none\" stroke=\"black\" points=\"244.5,-2391.5 244.5,-2413.5 291.5,-2413.5 291.5,-2391.5 244.5,-2391.5\"/>\n",
       "<text text-anchor=\"start\" x=\"249.25\" y=\"-2399\" font-family=\"Linux libertine\" font-size=\"10.00\">output: </text>\n",
       "<polygon fill=\"none\" stroke=\"black\" points=\"291.5,-2391.5 291.5,-2413.5 415.5,-2413.5 415.5,-2391.5 291.5,-2391.5\"/>\n",
       "<text text-anchor=\"start\" x=\"299.5\" y=\"-2399\" font-family=\"Linux libertine\" font-size=\"10.00\">(1, 44, 64), (1, 44, 44) </text>\n",
       "</g>\n",
       "<!-- 60&#45;&gt;63 -->\n",
       "<g id=\"edge76\" class=\"edge\">\n",
       "<title>60&#45;&gt;63</title>\n",
       "<path fill=\"none\" stroke=\"black\" d=\"M241.9,-2471.6C247.22,-2463.29 253.45,-2453.58 259.24,-2444.54\"/>\n",
       "<polygon fill=\"black\" stroke=\"black\" points=\"262.61,-2446.77 265.06,-2436.46 256.72,-2442.99 262.61,-2446.77\"/>\n",
       "</g>\n",
       "<!-- 61 -->\n",
       "<g id=\"node62\" class=\"node\">\n",
       "<title>61</title>\n",
       "<polygon fill=\"aliceblue\" stroke=\"none\" points=\"476,-2595.5 333,-2595.5 333,-2551.5 476,-2551.5 476,-2595.5\"/>\n",
       "<polygon fill=\"none\" stroke=\"black\" points=\"333,-2551.5 333,-2595.5 379,-2595.5 379,-2551.5 333,-2551.5\"/>\n",
       "<text text-anchor=\"start\" x=\"347.75\" y=\"-2576.75\" font-family=\"Linux libertine\" font-size=\"10.00\">triu</text>\n",
       "<text text-anchor=\"start\" x=\"337.62\" y=\"-2564\" font-family=\"Linux libertine\" font-size=\"10.00\">depth:4</text>\n",
       "<polygon fill=\"none\" stroke=\"black\" points=\"379,-2573.5 379,-2595.5 426,-2595.5 426,-2573.5 379,-2573.5\"/>\n",
       "<text text-anchor=\"start\" x=\"388.62\" y=\"-2581\" font-family=\"Linux libertine\" font-size=\"10.00\">input:</text>\n",
       "<polygon fill=\"none\" stroke=\"black\" points=\"426,-2573.5 426,-2595.5 476,-2595.5 476,-2573.5 426,-2573.5\"/>\n",
       "<text text-anchor=\"start\" x=\"430.75\" y=\"-2581\" font-family=\"Linux libertine\" font-size=\"10.00\">(44, 44) </text>\n",
       "<polygon fill=\"none\" stroke=\"black\" points=\"379,-2551.5 379,-2573.5 426,-2573.5 426,-2551.5 379,-2551.5\"/>\n",
       "<text text-anchor=\"start\" x=\"383.75\" y=\"-2559\" font-family=\"Linux libertine\" font-size=\"10.00\">output: </text>\n",
       "<polygon fill=\"none\" stroke=\"black\" points=\"426,-2551.5 426,-2573.5 476,-2573.5 476,-2551.5 426,-2551.5\"/>\n",
       "<text text-anchor=\"start\" x=\"430.75\" y=\"-2559\" font-family=\"Linux libertine\" font-size=\"10.00\">(44, 44) </text>\n",
       "</g>\n",
       "<!-- 62 -->\n",
       "<g id=\"node63\" class=\"node\">\n",
       "<title>62</title>\n",
       "<polygon fill=\"aliceblue\" stroke=\"none\" points=\"476,-2515.5 333,-2515.5 333,-2471.5 476,-2471.5 476,-2515.5\"/>\n",
       "<polygon fill=\"none\" stroke=\"black\" points=\"333,-2471.5 333,-2515.5 379,-2515.5 379,-2471.5 333,-2471.5\"/>\n",
       "<text text-anchor=\"start\" x=\"351.12\" y=\"-2496.75\" font-family=\"Linux libertine\" font-size=\"10.00\">to</text>\n",
       "<text text-anchor=\"start\" x=\"337.62\" y=\"-2484\" font-family=\"Linux libertine\" font-size=\"10.00\">depth:4</text>\n",
       "<polygon fill=\"none\" stroke=\"black\" points=\"379,-2493.5 379,-2515.5 426,-2515.5 426,-2493.5 379,-2493.5\"/>\n",
       "<text text-anchor=\"start\" x=\"388.62\" y=\"-2501\" font-family=\"Linux libertine\" font-size=\"10.00\">input:</text>\n",
       "<polygon fill=\"none\" stroke=\"black\" points=\"426,-2493.5 426,-2515.5 476,-2515.5 476,-2493.5 426,-2493.5\"/>\n",
       "<text text-anchor=\"start\" x=\"430.75\" y=\"-2501\" font-family=\"Linux libertine\" font-size=\"10.00\">(44, 44) </text>\n",
       "<polygon fill=\"none\" stroke=\"black\" points=\"379,-2471.5 379,-2493.5 426,-2493.5 426,-2471.5 379,-2471.5\"/>\n",
       "<text text-anchor=\"start\" x=\"383.75\" y=\"-2479\" font-family=\"Linux libertine\" font-size=\"10.00\">output: </text>\n",
       "<polygon fill=\"none\" stroke=\"black\" points=\"426,-2471.5 426,-2493.5 476,-2493.5 476,-2471.5 426,-2471.5\"/>\n",
       "<text text-anchor=\"start\" x=\"430.75\" y=\"-2479\" font-family=\"Linux libertine\" font-size=\"10.00\">(44, 44) </text>\n",
       "</g>\n",
       "<!-- 61&#45;&gt;62 -->\n",
       "<g id=\"edge77\" class=\"edge\">\n",
       "<title>61&#45;&gt;62</title>\n",
       "<path fill=\"none\" stroke=\"black\" d=\"M404.5,-2551.6C404.5,-2543.82 404.5,-2534.8 404.5,-2526.26\"/>\n",
       "<polygon fill=\"black\" stroke=\"black\" points=\"408,-2526.46 404.5,-2516.46 401,-2526.46 408,-2526.46\"/>\n",
       "</g>\n",
       "<!-- 62&#45;&gt;63 -->\n",
       "<g id=\"edge78\" class=\"edge\">\n",
       "<title>62&#45;&gt;63</title>\n",
       "<path fill=\"none\" stroke=\"black\" d=\"M370.73,-2471.6C355.62,-2462.24 337.63,-2451.1 321.56,-2441.16\"/>\n",
       "<polygon fill=\"black\" stroke=\"black\" points=\"323.7,-2437.75 313.36,-2435.46 320.02,-2443.7 323.7,-2437.75\"/>\n",
       "</g>\n",
       "<!-- 63&#45;&gt;64 -->\n",
       "<g id=\"edge79\" class=\"edge\">\n",
       "<title>63&#45;&gt;64</title>\n",
       "<path fill=\"none\" stroke=\"black\" d=\"M266.71,-2391.6C262.07,-2383.38 256.66,-2373.78 251.61,-2364.83\"/>\n",
       "<polygon fill=\"black\" stroke=\"black\" points=\"254.29,-2363.45 246.32,-2356.46 248.19,-2366.89 254.29,-2363.45\"/>\n",
       "</g>\n",
       "<!-- 65 -->\n",
       "<g id=\"node66\" class=\"node\">\n",
       "<title>65</title>\n",
       "<polygon fill=\"#c1ffc1\" stroke=\"none\" points=\"368,-2275.5 195,-2275.5 195,-2231.5 368,-2231.5 368,-2275.5\"/>\n",
       "<polygon fill=\"none\" stroke=\"black\" points=\"195,-2231.5 195,-2275.5 259,-2275.5 259,-2231.5 195,-2231.5\"/>\n",
       "<text text-anchor=\"start\" x=\"200\" y=\"-2256.75\" font-family=\"Linux libertine\" font-size=\"10.00\">LayerNorm</text>\n",
       "<text text-anchor=\"start\" x=\"208.62\" y=\"-2244\" font-family=\"Linux libertine\" font-size=\"10.00\">depth:4</text>\n",
       "<polygon fill=\"none\" stroke=\"black\" points=\"259,-2253.5 259,-2275.5 306,-2275.5 306,-2253.5 259,-2253.5\"/>\n",
       "<text text-anchor=\"start\" x=\"268.62\" y=\"-2261\" font-family=\"Linux libertine\" font-size=\"10.00\">input:</text>\n",
       "<polygon fill=\"none\" stroke=\"black\" points=\"306,-2253.5 306,-2275.5 368,-2275.5 368,-2253.5 306,-2253.5\"/>\n",
       "<text text-anchor=\"start\" x=\"310.75\" y=\"-2261\" font-family=\"Linux libertine\" font-size=\"10.00\">(1, 44, 64) </text>\n",
       "<polygon fill=\"none\" stroke=\"black\" points=\"259,-2231.5 259,-2253.5 306,-2253.5 306,-2231.5 259,-2231.5\"/>\n",
       "<text text-anchor=\"start\" x=\"263.75\" y=\"-2239\" font-family=\"Linux libertine\" font-size=\"10.00\">output: </text>\n",
       "<polygon fill=\"none\" stroke=\"black\" points=\"306,-2231.5 306,-2253.5 368,-2253.5 368,-2231.5 306,-2231.5\"/>\n",
       "<text text-anchor=\"start\" x=\"310.75\" y=\"-2239\" font-family=\"Linux libertine\" font-size=\"10.00\">(1, 44, 64) </text>\n",
       "</g>\n",
       "<!-- 64&#45;&gt;65 -->\n",
       "<g id=\"edge80\" class=\"edge\">\n",
       "<title>64&#45;&gt;65</title>\n",
       "<path fill=\"none\" stroke=\"black\" d=\"M247.1,-2311.6C252.05,-2303.38 257.83,-2293.78 263.23,-2284.83\"/>\n",
       "<polygon fill=\"black\" stroke=\"black\" points=\"266.71,-2286.83 268.87,-2276.46 260.71,-2283.22 266.71,-2286.83\"/>\n",
       "</g>\n",
       "<!-- 67 -->\n",
       "<g id=\"node68\" class=\"node\">\n",
       "<title>67</title>\n",
       "<polygon fill=\"aliceblue\" stroke=\"none\" points=\"343,-2115.5 170,-2115.5 170,-2071.5 343,-2071.5 343,-2115.5\"/>\n",
       "<polygon fill=\"none\" stroke=\"black\" points=\"170,-2071.5 170,-2115.5 216,-2115.5 216,-2071.5 170,-2071.5\"/>\n",
       "<text text-anchor=\"start\" x=\"184\" y=\"-2096.75\" font-family=\"Linux libertine\" font-size=\"10.00\">add</text>\n",
       "<text text-anchor=\"start\" x=\"174.62\" y=\"-2084\" font-family=\"Linux libertine\" font-size=\"10.00\">depth:4</text>\n",
       "<polygon fill=\"none\" stroke=\"black\" points=\"216,-2093.5 216,-2115.5 263,-2115.5 263,-2093.5 216,-2093.5\"/>\n",
       "<text text-anchor=\"start\" x=\"225.62\" y=\"-2101\" font-family=\"Linux libertine\" font-size=\"10.00\">input:</text>\n",
       "<polygon fill=\"none\" stroke=\"black\" points=\"263,-2093.5 263,-2115.5 343,-2115.5 343,-2093.5 263,-2093.5\"/>\n",
       "<text text-anchor=\"start\" x=\"267.75\" y=\"-2101\" font-family=\"Linux libertine\" font-size=\"10.00\">2 x (1, 44, 64) </text>\n",
       "<polygon fill=\"none\" stroke=\"black\" points=\"216,-2071.5 216,-2093.5 263,-2093.5 263,-2071.5 216,-2071.5\"/>\n",
       "<text text-anchor=\"start\" x=\"220.75\" y=\"-2079\" font-family=\"Linux libertine\" font-size=\"10.00\">output: </text>\n",
       "<polygon fill=\"none\" stroke=\"black\" points=\"263,-2071.5 263,-2093.5 343,-2093.5 343,-2071.5 263,-2071.5\"/>\n",
       "<text text-anchor=\"start\" x=\"276.75\" y=\"-2079\" font-family=\"Linux libertine\" font-size=\"10.00\">(1, 44, 64) </text>\n",
       "</g>\n",
       "<!-- 64&#45;&gt;67 -->\n",
       "<g id=\"edge81\" class=\"edge\">\n",
       "<title>64&#45;&gt;67</title>\n",
       "<path fill=\"none\" stroke=\"black\" d=\"M207.34,-2311.7C166.17,-2277.56 96.4,-2207.83 132.5,-2151.5 140.86,-2138.45 153.05,-2128.35 166.55,-2120.54\"/>\n",
       "<polygon fill=\"black\" stroke=\"black\" points=\"167.88,-2123.27 175.08,-2115.5 164.61,-2117.08 167.88,-2123.27\"/>\n",
       "</g>\n",
       "<!-- 65&#45;&gt;66 -->\n",
       "<g id=\"edge82\" class=\"edge\">\n",
       "<title>65&#45;&gt;66</title>\n",
       "<path fill=\"none\" stroke=\"black\" d=\"M282.3,-2231.6C282.6,-2223.82 282.95,-2214.8 283.28,-2206.26\"/>\n",
       "<polygon fill=\"black\" stroke=\"black\" points=\"286.81,-2206.59 283.69,-2196.46 279.81,-2206.32 286.81,-2206.59\"/>\n",
       "</g>\n",
       "<!-- 66&#45;&gt;67 -->\n",
       "<g id=\"edge83\" class=\"edge\">\n",
       "<title>66&#45;&gt;67</title>\n",
       "<path fill=\"none\" stroke=\"black\" d=\"M277,-2151.6C274.14,-2143.64 270.82,-2134.39 267.7,-2125.69\"/>\n",
       "<polygon fill=\"black\" stroke=\"black\" points=\"270.7,-2124.69 264.02,-2116.46 264.11,-2127.05 270.7,-2124.69\"/>\n",
       "</g>\n",
       "<!-- 68 -->\n",
       "<g id=\"node69\" class=\"node\">\n",
       "<title>68</title>\n",
       "<polygon fill=\"#c1ffc1\" stroke=\"none\" points=\"365,-2035.5 192,-2035.5 192,-1991.5 365,-1991.5 365,-2035.5\"/>\n",
       "<polygon fill=\"none\" stroke=\"black\" points=\"192,-1991.5 192,-2035.5 256,-2035.5 256,-1991.5 192,-1991.5\"/>\n",
       "<text text-anchor=\"start\" x=\"197\" y=\"-2016.75\" font-family=\"Linux libertine\" font-size=\"10.00\">LayerNorm</text>\n",
       "<text text-anchor=\"start\" x=\"205.62\" y=\"-2004\" font-family=\"Linux libertine\" font-size=\"10.00\">depth:4</text>\n",
       "<polygon fill=\"none\" stroke=\"black\" points=\"256,-2013.5 256,-2035.5 303,-2035.5 303,-2013.5 256,-2013.5\"/>\n",
       "<text text-anchor=\"start\" x=\"265.62\" y=\"-2021\" font-family=\"Linux libertine\" font-size=\"10.00\">input:</text>\n",
       "<polygon fill=\"none\" stroke=\"black\" points=\"303,-2013.5 303,-2035.5 365,-2035.5 365,-2013.5 303,-2013.5\"/>\n",
       "<text text-anchor=\"start\" x=\"307.75\" y=\"-2021\" font-family=\"Linux libertine\" font-size=\"10.00\">(1, 44, 64) </text>\n",
       "<polygon fill=\"none\" stroke=\"black\" points=\"256,-1991.5 256,-2013.5 303,-2013.5 303,-1991.5 256,-1991.5\"/>\n",
       "<text text-anchor=\"start\" x=\"260.75\" y=\"-1999\" font-family=\"Linux libertine\" font-size=\"10.00\">output: </text>\n",
       "<polygon fill=\"none\" stroke=\"black\" points=\"303,-1991.5 303,-2013.5 365,-2013.5 365,-1991.5 303,-1991.5\"/>\n",
       "<text text-anchor=\"start\" x=\"307.75\" y=\"-1999\" font-family=\"Linux libertine\" font-size=\"10.00\">(1, 44, 64) </text>\n",
       "</g>\n",
       "<!-- 67&#45;&gt;68 -->\n",
       "<g id=\"edge84\" class=\"edge\">\n",
       "<title>67&#45;&gt;68</title>\n",
       "<path fill=\"none\" stroke=\"black\" d=\"M262.4,-2071.6C264.62,-2063.73 267.19,-2054.6 269.62,-2045.97\"/>\n",
       "<polygon fill=\"black\" stroke=\"black\" points=\"273.24,-2047.03 272.59,-2036.46 266.5,-2045.13 273.24,-2047.03\"/>\n",
       "</g>\n",
       "<!-- 71 -->\n",
       "<g id=\"node72\" class=\"node\">\n",
       "<title>71</title>\n",
       "<polygon fill=\"aliceblue\" stroke=\"none\" points=\"293,-1795.5 120,-1795.5 120,-1751.5 293,-1751.5 293,-1795.5\"/>\n",
       "<polygon fill=\"none\" stroke=\"black\" points=\"120,-1751.5 120,-1795.5 166,-1795.5 166,-1751.5 120,-1751.5\"/>\n",
       "<text text-anchor=\"start\" x=\"134\" y=\"-1776.75\" font-family=\"Linux libertine\" font-size=\"10.00\">add</text>\n",
       "<text text-anchor=\"start\" x=\"124.62\" y=\"-1764\" font-family=\"Linux libertine\" font-size=\"10.00\">depth:4</text>\n",
       "<polygon fill=\"none\" stroke=\"black\" points=\"166,-1773.5 166,-1795.5 213,-1795.5 213,-1773.5 166,-1773.5\"/>\n",
       "<text text-anchor=\"start\" x=\"175.62\" y=\"-1781\" font-family=\"Linux libertine\" font-size=\"10.00\">input:</text>\n",
       "<polygon fill=\"none\" stroke=\"black\" points=\"213,-1773.5 213,-1795.5 293,-1795.5 293,-1773.5 213,-1773.5\"/>\n",
       "<text text-anchor=\"start\" x=\"217.75\" y=\"-1781\" font-family=\"Linux libertine\" font-size=\"10.00\">2 x (1, 44, 64) </text>\n",
       "<polygon fill=\"none\" stroke=\"black\" points=\"166,-1751.5 166,-1773.5 213,-1773.5 213,-1751.5 166,-1751.5\"/>\n",
       "<text text-anchor=\"start\" x=\"170.75\" y=\"-1759\" font-family=\"Linux libertine\" font-size=\"10.00\">output: </text>\n",
       "<polygon fill=\"none\" stroke=\"black\" points=\"213,-1751.5 213,-1773.5 293,-1773.5 293,-1751.5 213,-1751.5\"/>\n",
       "<text text-anchor=\"start\" x=\"226.75\" y=\"-1759\" font-family=\"Linux libertine\" font-size=\"10.00\">(1, 44, 64) </text>\n",
       "</g>\n",
       "<!-- 67&#45;&gt;71 -->\n",
       "<g id=\"edge85\" class=\"edge\">\n",
       "<title>67&#45;&gt;71</title>\n",
       "<path fill=\"none\" stroke=\"black\" d=\"M216.31,-2071.55C203.03,-2062.41 189.8,-2050.34 182.5,-2035.5 145.18,-1959.64 174.67,-1856.43 193.65,-1805.51\"/>\n",
       "<polygon fill=\"black\" stroke=\"black\" points=\"197.19,-1807.06 197.51,-1796.47 190.66,-1804.55 197.19,-1807.06\"/>\n",
       "</g>\n",
       "<!-- 69 -->\n",
       "<g id=\"node70\" class=\"node\">\n",
       "<title>69</title>\n",
       "<polygon fill=\"#c1ffc1\" stroke=\"none\" points=\"354,-1955.5 199,-1955.5 199,-1911.5 354,-1911.5 354,-1955.5\"/>\n",
       "<polygon fill=\"none\" stroke=\"black\" points=\"199,-1911.5 199,-1955.5 245,-1955.5 245,-1911.5 199,-1911.5\"/>\n",
       "<text text-anchor=\"start\" x=\"207\" y=\"-1936.75\" font-family=\"Linux libertine\" font-size=\"10.00\">Linear</text>\n",
       "<text text-anchor=\"start\" x=\"203.62\" y=\"-1924\" font-family=\"Linux libertine\" font-size=\"10.00\">depth:4</text>\n",
       "<polygon fill=\"none\" stroke=\"black\" points=\"245,-1933.5 245,-1955.5 292,-1955.5 292,-1933.5 245,-1933.5\"/>\n",
       "<text text-anchor=\"start\" x=\"254.62\" y=\"-1941\" font-family=\"Linux libertine\" font-size=\"10.00\">input:</text>\n",
       "<polygon fill=\"none\" stroke=\"black\" points=\"292,-1933.5 292,-1955.5 354,-1955.5 354,-1933.5 292,-1933.5\"/>\n",
       "<text text-anchor=\"start\" x=\"296.75\" y=\"-1941\" font-family=\"Linux libertine\" font-size=\"10.00\">(1, 44, 64) </text>\n",
       "<polygon fill=\"none\" stroke=\"black\" points=\"245,-1911.5 245,-1933.5 292,-1933.5 292,-1911.5 245,-1911.5\"/>\n",
       "<text text-anchor=\"start\" x=\"249.75\" y=\"-1919\" font-family=\"Linux libertine\" font-size=\"10.00\">output: </text>\n",
       "<polygon fill=\"none\" stroke=\"black\" points=\"292,-1911.5 292,-1933.5 354,-1933.5 354,-1911.5 292,-1911.5\"/>\n",
       "<text text-anchor=\"start\" x=\"296.75\" y=\"-1919\" font-family=\"Linux libertine\" font-size=\"10.00\">(1, 44, 64) </text>\n",
       "</g>\n",
       "<!-- 68&#45;&gt;69 -->\n",
       "<g id=\"edge86\" class=\"edge\">\n",
       "<title>68&#45;&gt;69</title>\n",
       "<path fill=\"none\" stroke=\"black\" d=\"M277.96,-1991.6C277.76,-1983.82 277.53,-1974.8 277.31,-1966.26\"/>\n",
       "<polygon fill=\"black\" stroke=\"black\" points=\"280.79,-1966.37 277.04,-1956.46 273.8,-1966.55 280.79,-1966.37\"/>\n",
       "</g>\n",
       "<!-- 70 -->\n",
       "<g id=\"node71\" class=\"node\">\n",
       "<title>70</title>\n",
       "<polygon fill=\"#c1ffc1\" stroke=\"none\" points=\"351,-1875.5 196,-1875.5 196,-1831.5 351,-1831.5 351,-1875.5\"/>\n",
       "<polygon fill=\"none\" stroke=\"black\" points=\"196,-1831.5 196,-1875.5 242,-1875.5 242,-1831.5 196,-1831.5\"/>\n",
       "<text text-anchor=\"start\" x=\"205.88\" y=\"-1856.75\" font-family=\"Linux libertine\" font-size=\"10.00\">GELU</text>\n",
       "<text text-anchor=\"start\" x=\"200.62\" y=\"-1844\" font-family=\"Linux libertine\" font-size=\"10.00\">depth:4</text>\n",
       "<polygon fill=\"none\" stroke=\"black\" points=\"242,-1853.5 242,-1875.5 289,-1875.5 289,-1853.5 242,-1853.5\"/>\n",
       "<text text-anchor=\"start\" x=\"251.62\" y=\"-1861\" font-family=\"Linux libertine\" font-size=\"10.00\">input:</text>\n",
       "<polygon fill=\"none\" stroke=\"black\" points=\"289,-1853.5 289,-1875.5 351,-1875.5 351,-1853.5 289,-1853.5\"/>\n",
       "<text text-anchor=\"start\" x=\"293.75\" y=\"-1861\" font-family=\"Linux libertine\" font-size=\"10.00\">(1, 44, 64) </text>\n",
       "<polygon fill=\"none\" stroke=\"black\" points=\"242,-1831.5 242,-1853.5 289,-1853.5 289,-1831.5 242,-1831.5\"/>\n",
       "<text text-anchor=\"start\" x=\"246.75\" y=\"-1839\" font-family=\"Linux libertine\" font-size=\"10.00\">output: </text>\n",
       "<polygon fill=\"none\" stroke=\"black\" points=\"289,-1831.5 289,-1853.5 351,-1853.5 351,-1831.5 289,-1831.5\"/>\n",
       "<text text-anchor=\"start\" x=\"293.75\" y=\"-1839\" font-family=\"Linux libertine\" font-size=\"10.00\">(1, 44, 64) </text>\n",
       "</g>\n",
       "<!-- 69&#45;&gt;70 -->\n",
       "<g id=\"edge87\" class=\"edge\">\n",
       "<title>69&#45;&gt;70</title>\n",
       "<path fill=\"none\" stroke=\"black\" d=\"M275.7,-1911.6C275.4,-1903.82 275.05,-1894.8 274.72,-1886.26\"/>\n",
       "<polygon fill=\"black\" stroke=\"black\" points=\"278.19,-1886.32 274.31,-1876.46 271.19,-1886.59 278.19,-1886.32\"/>\n",
       "</g>\n",
       "<!-- 70&#45;&gt;71 -->\n",
       "<g id=\"edge88\" class=\"edge\">\n",
       "<title>70&#45;&gt;71</title>\n",
       "<path fill=\"none\" stroke=\"black\" d=\"M255.55,-1831.6C248.19,-1823.03 239.54,-1812.96 231.57,-1803.69\"/>\n",
       "<polygon fill=\"black\" stroke=\"black\" points=\"233.68,-1801.77 224.5,-1796.46 228.37,-1806.33 233.68,-1801.77\"/>\n",
       "</g>\n",
       "<!-- 72 -->\n",
       "<g id=\"node73\" class=\"node\">\n",
       "<title>72</title>\n",
       "<polygon fill=\"#c1ffc1\" stroke=\"none\" points=\"315,-1715.5 142,-1715.5 142,-1671.5 315,-1671.5 315,-1715.5\"/>\n",
       "<polygon fill=\"none\" stroke=\"black\" points=\"142,-1671.5 142,-1715.5 206,-1715.5 206,-1671.5 142,-1671.5\"/>\n",
       "<text text-anchor=\"start\" x=\"147\" y=\"-1696.75\" font-family=\"Linux libertine\" font-size=\"10.00\">LayerNorm</text>\n",
       "<text text-anchor=\"start\" x=\"155.62\" y=\"-1684\" font-family=\"Linux libertine\" font-size=\"10.00\">depth:4</text>\n",
       "<polygon fill=\"none\" stroke=\"black\" points=\"206,-1693.5 206,-1715.5 253,-1715.5 253,-1693.5 206,-1693.5\"/>\n",
       "<text text-anchor=\"start\" x=\"215.62\" y=\"-1701\" font-family=\"Linux libertine\" font-size=\"10.00\">input:</text>\n",
       "<polygon fill=\"none\" stroke=\"black\" points=\"253,-1693.5 253,-1715.5 315,-1715.5 315,-1693.5 253,-1693.5\"/>\n",
       "<text text-anchor=\"start\" x=\"257.75\" y=\"-1701\" font-family=\"Linux libertine\" font-size=\"10.00\">(1, 44, 64) </text>\n",
       "<polygon fill=\"none\" stroke=\"black\" points=\"206,-1671.5 206,-1693.5 253,-1693.5 253,-1671.5 206,-1671.5\"/>\n",
       "<text text-anchor=\"start\" x=\"210.75\" y=\"-1679\" font-family=\"Linux libertine\" font-size=\"10.00\">output: </text>\n",
       "<polygon fill=\"none\" stroke=\"black\" points=\"253,-1671.5 253,-1693.5 315,-1693.5 315,-1671.5 253,-1671.5\"/>\n",
       "<text text-anchor=\"start\" x=\"257.75\" y=\"-1679\" font-family=\"Linux libertine\" font-size=\"10.00\">(1, 44, 64) </text>\n",
       "</g>\n",
       "<!-- 71&#45;&gt;72 -->\n",
       "<g id=\"edge90\" class=\"edge\">\n",
       "<title>71&#45;&gt;72</title>\n",
       "<path fill=\"none\" stroke=\"black\" d=\"M212.4,-1751.6C214.62,-1743.73 217.19,-1734.6 219.62,-1725.97\"/>\n",
       "<polygon fill=\"black\" stroke=\"black\" points=\"223.24,-1727.03 222.59,-1716.46 216.5,-1725.13 223.24,-1727.03\"/>\n",
       "</g>\n",
       "<!-- 76 -->\n",
       "<g id=\"node77\" class=\"node\">\n",
       "<title>76</title>\n",
       "<polygon fill=\"aliceblue\" stroke=\"none\" points=\"423,-1555.5 250,-1555.5 250,-1511.5 423,-1511.5 423,-1555.5\"/>\n",
       "<polygon fill=\"none\" stroke=\"black\" points=\"250,-1511.5 250,-1555.5 296,-1555.5 296,-1511.5 250,-1511.5\"/>\n",
       "<text text-anchor=\"start\" x=\"264\" y=\"-1536.75\" font-family=\"Linux libertine\" font-size=\"10.00\">add</text>\n",
       "<text text-anchor=\"start\" x=\"254.62\" y=\"-1524\" font-family=\"Linux libertine\" font-size=\"10.00\">depth:4</text>\n",
       "<polygon fill=\"none\" stroke=\"black\" points=\"296,-1533.5 296,-1555.5 343,-1555.5 343,-1533.5 296,-1533.5\"/>\n",
       "<text text-anchor=\"start\" x=\"305.62\" y=\"-1541\" font-family=\"Linux libertine\" font-size=\"10.00\">input:</text>\n",
       "<polygon fill=\"none\" stroke=\"black\" points=\"343,-1533.5 343,-1555.5 423,-1555.5 423,-1533.5 343,-1533.5\"/>\n",
       "<text text-anchor=\"start\" x=\"347.75\" y=\"-1541\" font-family=\"Linux libertine\" font-size=\"10.00\">2 x (1, 44, 64) </text>\n",
       "<polygon fill=\"none\" stroke=\"black\" points=\"296,-1511.5 296,-1533.5 343,-1533.5 343,-1511.5 296,-1511.5\"/>\n",
       "<text text-anchor=\"start\" x=\"300.75\" y=\"-1519\" font-family=\"Linux libertine\" font-size=\"10.00\">output: </text>\n",
       "<polygon fill=\"none\" stroke=\"black\" points=\"343,-1511.5 343,-1533.5 423,-1533.5 423,-1511.5 343,-1511.5\"/>\n",
       "<text text-anchor=\"start\" x=\"356.75\" y=\"-1519\" font-family=\"Linux libertine\" font-size=\"10.00\">(1, 44, 64) </text>\n",
       "</g>\n",
       "<!-- 71&#45;&gt;76 -->\n",
       "<g id=\"edge91\" class=\"edge\">\n",
       "<title>71&#45;&gt;76</title>\n",
       "<path fill=\"none\" stroke=\"black\" d=\"M166.31,-1751.55C153.03,-1742.41 139.8,-1730.34 132.5,-1715.5 123.87,-1697.95 126.47,-1690.1 132.5,-1671.5 146.05,-1629.73 155.75,-1618.35 190.5,-1591.5 207.8,-1578.13 228.63,-1567.54 249.06,-1559.3\"/>\n",
       "<polygon fill=\"black\" stroke=\"black\" points=\"249.97,-1562.31 258.04,-1555.44 247.45,-1555.78 249.97,-1562.31\"/>\n",
       "</g>\n",
       "<!-- 75 -->\n",
       "<g id=\"node76\" class=\"node\">\n",
       "<title>75</title>\n",
       "<polygon fill=\"#c1ffc1\" stroke=\"none\" points=\"473.5,-1635.5 199.5,-1635.5 199.5,-1591.5 473.5,-1591.5 473.5,-1635.5\"/>\n",
       "<polygon fill=\"none\" stroke=\"black\" points=\"199.5,-1591.5 199.5,-1635.5 302.5,-1635.5 302.5,-1591.5 199.5,-1591.5\"/>\n",
       "<text text-anchor=\"start\" x=\"204.12\" y=\"-1616.75\" font-family=\"Linux libertine\" font-size=\"10.00\">MultiheadAttention</text>\n",
       "<text text-anchor=\"start\" x=\"232.62\" y=\"-1604\" font-family=\"Linux libertine\" font-size=\"10.00\">depth:4</text>\n",
       "<polygon fill=\"none\" stroke=\"black\" points=\"302.5,-1613.5 302.5,-1635.5 349.5,-1635.5 349.5,-1613.5 302.5,-1613.5\"/>\n",
       "<text text-anchor=\"start\" x=\"312.12\" y=\"-1621\" font-family=\"Linux libertine\" font-size=\"10.00\">input:</text>\n",
       "<polygon fill=\"none\" stroke=\"black\" points=\"349.5,-1613.5 349.5,-1635.5 473.5,-1635.5 473.5,-1613.5 349.5,-1613.5\"/>\n",
       "<text text-anchor=\"start\" x=\"354.5\" y=\"-1621\" font-family=\"Linux libertine\" font-size=\"10.00\">3 x (1, 44, 64), (44, 44) </text>\n",
       "<polygon fill=\"none\" stroke=\"black\" points=\"302.5,-1591.5 302.5,-1613.5 349.5,-1613.5 349.5,-1591.5 302.5,-1591.5\"/>\n",
       "<text text-anchor=\"start\" x=\"307.25\" y=\"-1599\" font-family=\"Linux libertine\" font-size=\"10.00\">output: </text>\n",
       "<polygon fill=\"none\" stroke=\"black\" points=\"349.5,-1591.5 349.5,-1613.5 473.5,-1613.5 473.5,-1591.5 349.5,-1591.5\"/>\n",
       "<text text-anchor=\"start\" x=\"357.5\" y=\"-1599\" font-family=\"Linux libertine\" font-size=\"10.00\">(1, 44, 64), (1, 44, 44) </text>\n",
       "</g>\n",
       "<!-- 72&#45;&gt;75 -->\n",
       "<g id=\"edge92\" class=\"edge\">\n",
       "<title>72&#45;&gt;75</title>\n",
       "<path fill=\"none\" stroke=\"black\" d=\"M257.44,-1671.6C270.15,-1662.42 285.24,-1651.52 298.82,-1641.71\"/>\n",
       "<polygon fill=\"black\" stroke=\"black\" points=\"300.42,-1644.15 306.48,-1635.46 296.32,-1638.48 300.42,-1644.15\"/>\n",
       "</g>\n",
       "<!-- 73 -->\n",
       "<g id=\"node74\" class=\"node\">\n",
       "<title>73</title>\n",
       "<polygon fill=\"aliceblue\" stroke=\"none\" points=\"476,-1795.5 333,-1795.5 333,-1751.5 476,-1751.5 476,-1795.5\"/>\n",
       "<polygon fill=\"none\" stroke=\"black\" points=\"333,-1751.5 333,-1795.5 379,-1795.5 379,-1751.5 333,-1751.5\"/>\n",
       "<text text-anchor=\"start\" x=\"347.75\" y=\"-1776.75\" font-family=\"Linux libertine\" font-size=\"10.00\">triu</text>\n",
       "<text text-anchor=\"start\" x=\"337.62\" y=\"-1764\" font-family=\"Linux libertine\" font-size=\"10.00\">depth:4</text>\n",
       "<polygon fill=\"none\" stroke=\"black\" points=\"379,-1773.5 379,-1795.5 426,-1795.5 426,-1773.5 379,-1773.5\"/>\n",
       "<text text-anchor=\"start\" x=\"388.62\" y=\"-1781\" font-family=\"Linux libertine\" font-size=\"10.00\">input:</text>\n",
       "<polygon fill=\"none\" stroke=\"black\" points=\"426,-1773.5 426,-1795.5 476,-1795.5 476,-1773.5 426,-1773.5\"/>\n",
       "<text text-anchor=\"start\" x=\"430.75\" y=\"-1781\" font-family=\"Linux libertine\" font-size=\"10.00\">(44, 44) </text>\n",
       "<polygon fill=\"none\" stroke=\"black\" points=\"379,-1751.5 379,-1773.5 426,-1773.5 426,-1751.5 379,-1751.5\"/>\n",
       "<text text-anchor=\"start\" x=\"383.75\" y=\"-1759\" font-family=\"Linux libertine\" font-size=\"10.00\">output: </text>\n",
       "<polygon fill=\"none\" stroke=\"black\" points=\"426,-1751.5 426,-1773.5 476,-1773.5 476,-1751.5 426,-1751.5\"/>\n",
       "<text text-anchor=\"start\" x=\"430.75\" y=\"-1759\" font-family=\"Linux libertine\" font-size=\"10.00\">(44, 44) </text>\n",
       "</g>\n",
       "<!-- 74 -->\n",
       "<g id=\"node75\" class=\"node\">\n",
       "<title>74</title>\n",
       "<polygon fill=\"aliceblue\" stroke=\"none\" points=\"476,-1715.5 333,-1715.5 333,-1671.5 476,-1671.5 476,-1715.5\"/>\n",
       "<polygon fill=\"none\" stroke=\"black\" points=\"333,-1671.5 333,-1715.5 379,-1715.5 379,-1671.5 333,-1671.5\"/>\n",
       "<text text-anchor=\"start\" x=\"351.12\" y=\"-1696.75\" font-family=\"Linux libertine\" font-size=\"10.00\">to</text>\n",
       "<text text-anchor=\"start\" x=\"337.62\" y=\"-1684\" font-family=\"Linux libertine\" font-size=\"10.00\">depth:4</text>\n",
       "<polygon fill=\"none\" stroke=\"black\" points=\"379,-1693.5 379,-1715.5 426,-1715.5 426,-1693.5 379,-1693.5\"/>\n",
       "<text text-anchor=\"start\" x=\"388.62\" y=\"-1701\" font-family=\"Linux libertine\" font-size=\"10.00\">input:</text>\n",
       "<polygon fill=\"none\" stroke=\"black\" points=\"426,-1693.5 426,-1715.5 476,-1715.5 476,-1693.5 426,-1693.5\"/>\n",
       "<text text-anchor=\"start\" x=\"430.75\" y=\"-1701\" font-family=\"Linux libertine\" font-size=\"10.00\">(44, 44) </text>\n",
       "<polygon fill=\"none\" stroke=\"black\" points=\"379,-1671.5 379,-1693.5 426,-1693.5 426,-1671.5 379,-1671.5\"/>\n",
       "<text text-anchor=\"start\" x=\"383.75\" y=\"-1679\" font-family=\"Linux libertine\" font-size=\"10.00\">output: </text>\n",
       "<polygon fill=\"none\" stroke=\"black\" points=\"426,-1671.5 426,-1693.5 476,-1693.5 476,-1671.5 426,-1671.5\"/>\n",
       "<text text-anchor=\"start\" x=\"430.75\" y=\"-1679\" font-family=\"Linux libertine\" font-size=\"10.00\">(44, 44) </text>\n",
       "</g>\n",
       "<!-- 73&#45;&gt;74 -->\n",
       "<g id=\"edge93\" class=\"edge\">\n",
       "<title>73&#45;&gt;74</title>\n",
       "<path fill=\"none\" stroke=\"black\" d=\"M404.5,-1751.6C404.5,-1743.82 404.5,-1734.8 404.5,-1726.26\"/>\n",
       "<polygon fill=\"black\" stroke=\"black\" points=\"408,-1726.46 404.5,-1716.46 401,-1726.46 408,-1726.46\"/>\n",
       "</g>\n",
       "<!-- 74&#45;&gt;75 -->\n",
       "<g id=\"edge94\" class=\"edge\">\n",
       "<title>74&#45;&gt;75</title>\n",
       "<path fill=\"none\" stroke=\"black\" d=\"M386.28,-1671.6C378.81,-1663.03 370.03,-1652.96 361.95,-1643.69\"/>\n",
       "<polygon fill=\"black\" stroke=\"black\" points=\"363.98,-1641.7 354.77,-1636.46 358.71,-1646.3 363.98,-1641.7\"/>\n",
       "</g>\n",
       "<!-- 75&#45;&gt;76 -->\n",
       "<g id=\"edge95\" class=\"edge\">\n",
       "<title>75&#45;&gt;76</title>\n",
       "<path fill=\"none\" stroke=\"black\" d=\"M336.5,-1591.6C336.5,-1583.82 336.5,-1574.8 336.5,-1566.26\"/>\n",
       "<polygon fill=\"black\" stroke=\"black\" points=\"340,-1566.46 336.5,-1556.46 333,-1566.46 340,-1566.46\"/>\n",
       "</g>\n",
       "<!-- 77 -->\n",
       "<g id=\"node78\" class=\"node\">\n",
       "<title>77</title>\n",
       "<polygon fill=\"#c1ffc1\" stroke=\"none\" points=\"706,-1475.5 533,-1475.5 533,-1431.5 706,-1431.5 706,-1475.5\"/>\n",
       "<polygon fill=\"none\" stroke=\"black\" points=\"533,-1431.5 533,-1475.5 597,-1475.5 597,-1431.5 533,-1431.5\"/>\n",
       "<text text-anchor=\"start\" x=\"538\" y=\"-1456.75\" font-family=\"Linux libertine\" font-size=\"10.00\">LayerNorm</text>\n",
       "<text text-anchor=\"start\" x=\"546.62\" y=\"-1444\" font-family=\"Linux libertine\" font-size=\"10.00\">depth:4</text>\n",
       "<polygon fill=\"none\" stroke=\"black\" points=\"597,-1453.5 597,-1475.5 644,-1475.5 644,-1453.5 597,-1453.5\"/>\n",
       "<text text-anchor=\"start\" x=\"606.62\" y=\"-1461\" font-family=\"Linux libertine\" font-size=\"10.00\">input:</text>\n",
       "<polygon fill=\"none\" stroke=\"black\" points=\"644,-1453.5 644,-1475.5 706,-1475.5 706,-1453.5 644,-1453.5\"/>\n",
       "<text text-anchor=\"start\" x=\"648.75\" y=\"-1461\" font-family=\"Linux libertine\" font-size=\"10.00\">(1, 44, 64) </text>\n",
       "<polygon fill=\"none\" stroke=\"black\" points=\"597,-1431.5 597,-1453.5 644,-1453.5 644,-1431.5 597,-1431.5\"/>\n",
       "<text text-anchor=\"start\" x=\"601.75\" y=\"-1439\" font-family=\"Linux libertine\" font-size=\"10.00\">output: </text>\n",
       "<polygon fill=\"none\" stroke=\"black\" points=\"644,-1431.5 644,-1453.5 706,-1453.5 706,-1431.5 644,-1431.5\"/>\n",
       "<text text-anchor=\"start\" x=\"648.75\" y=\"-1439\" font-family=\"Linux libertine\" font-size=\"10.00\">(1, 44, 64) </text>\n",
       "</g>\n",
       "<!-- 76&#45;&gt;77 -->\n",
       "<g id=\"edge96\" class=\"edge\">\n",
       "<title>76&#45;&gt;77</title>\n",
       "<path fill=\"none\" stroke=\"black\" d=\"M412.34,-1511.6C449.61,-1501.32 494.7,-1488.9 533.28,-1478.27\"/>\n",
       "<polygon fill=\"black\" stroke=\"black\" points=\"533.74,-1481.49 542.45,-1475.46 531.88,-1474.74 533.74,-1481.49\"/>\n",
       "</g>\n",
       "<!-- 79 -->\n",
       "<g id=\"node80\" class=\"node\">\n",
       "<title>79</title>\n",
       "<polygon fill=\"aliceblue\" stroke=\"none\" points=\"442,-1315.5 269,-1315.5 269,-1271.5 442,-1271.5 442,-1315.5\"/>\n",
       "<polygon fill=\"none\" stroke=\"black\" points=\"269,-1271.5 269,-1315.5 315,-1315.5 315,-1271.5 269,-1271.5\"/>\n",
       "<text text-anchor=\"start\" x=\"283\" y=\"-1296.75\" font-family=\"Linux libertine\" font-size=\"10.00\">add</text>\n",
       "<text text-anchor=\"start\" x=\"273.62\" y=\"-1284\" font-family=\"Linux libertine\" font-size=\"10.00\">depth:4</text>\n",
       "<polygon fill=\"none\" stroke=\"black\" points=\"315,-1293.5 315,-1315.5 362,-1315.5 362,-1293.5 315,-1293.5\"/>\n",
       "<text text-anchor=\"start\" x=\"324.62\" y=\"-1301\" font-family=\"Linux libertine\" font-size=\"10.00\">input:</text>\n",
       "<polygon fill=\"none\" stroke=\"black\" points=\"362,-1293.5 362,-1315.5 442,-1315.5 442,-1293.5 362,-1293.5\"/>\n",
       "<text text-anchor=\"start\" x=\"366.75\" y=\"-1301\" font-family=\"Linux libertine\" font-size=\"10.00\">2 x (1, 44, 64) </text>\n",
       "<polygon fill=\"none\" stroke=\"black\" points=\"315,-1271.5 315,-1293.5 362,-1293.5 362,-1271.5 315,-1271.5\"/>\n",
       "<text text-anchor=\"start\" x=\"319.75\" y=\"-1279\" font-family=\"Linux libertine\" font-size=\"10.00\">output: </text>\n",
       "<polygon fill=\"none\" stroke=\"black\" points=\"362,-1271.5 362,-1293.5 442,-1293.5 442,-1271.5 362,-1271.5\"/>\n",
       "<text text-anchor=\"start\" x=\"375.75\" y=\"-1279\" font-family=\"Linux libertine\" font-size=\"10.00\">(1, 44, 64) </text>\n",
       "</g>\n",
       "<!-- 76&#45;&gt;79 -->\n",
       "<g id=\"edge97\" class=\"edge\">\n",
       "<title>76&#45;&gt;79</title>\n",
       "<path fill=\"none\" stroke=\"black\" d=\"M338.15,-1511.8C341.49,-1470.04 349.03,-1375.5 352.98,-1326.02\"/>\n",
       "<polygon fill=\"black\" stroke=\"black\" points=\"356.53,-1326.57 353.84,-1316.33 349.55,-1326.02 356.53,-1326.57\"/>\n",
       "</g>\n",
       "<!-- 77&#45;&gt;78 -->\n",
       "<g id=\"edge98\" class=\"edge\">\n",
       "<title>77&#45;&gt;78</title>\n",
       "<path fill=\"none\" stroke=\"black\" d=\"M589.49,-1431.6C576.3,-1422.42 560.65,-1411.52 546.58,-1401.71\"/>\n",
       "<polygon fill=\"black\" stroke=\"black\" points=\"548.8,-1398.3 538.6,-1395.46 544.8,-1404.05 548.8,-1398.3\"/>\n",
       "</g>\n",
       "<!-- 78&#45;&gt;79 -->\n",
       "<g id=\"edge99\" class=\"edge\">\n",
       "<title>78&#45;&gt;79</title>\n",
       "<path fill=\"none\" stroke=\"black\" d=\"M466.77,-1351.6C448.11,-1342.02 425.81,-1330.58 406.09,-1320.46\"/>\n",
       "<polygon fill=\"black\" stroke=\"black\" points=\"407.84,-1316.91 397.35,-1315.46 404.64,-1323.14 407.84,-1316.91\"/>\n",
       "</g>\n",
       "<!-- 80 -->\n",
       "<g id=\"node81\" class=\"node\">\n",
       "<title>80</title>\n",
       "<polygon fill=\"#c1ffc1\" stroke=\"none\" points=\"451,-1235.5 278,-1235.5 278,-1191.5 451,-1191.5 451,-1235.5\"/>\n",
       "<polygon fill=\"none\" stroke=\"black\" points=\"278,-1191.5 278,-1235.5 342,-1235.5 342,-1191.5 278,-1191.5\"/>\n",
       "<text text-anchor=\"start\" x=\"283\" y=\"-1216.75\" font-family=\"Linux libertine\" font-size=\"10.00\">LayerNorm</text>\n",
       "<text text-anchor=\"start\" x=\"291.62\" y=\"-1204\" font-family=\"Linux libertine\" font-size=\"10.00\">depth:4</text>\n",
       "<polygon fill=\"none\" stroke=\"black\" points=\"342,-1213.5 342,-1235.5 389,-1235.5 389,-1213.5 342,-1213.5\"/>\n",
       "<text text-anchor=\"start\" x=\"351.62\" y=\"-1221\" font-family=\"Linux libertine\" font-size=\"10.00\">input:</text>\n",
       "<polygon fill=\"none\" stroke=\"black\" points=\"389,-1213.5 389,-1235.5 451,-1235.5 451,-1213.5 389,-1213.5\"/>\n",
       "<text text-anchor=\"start\" x=\"393.75\" y=\"-1221\" font-family=\"Linux libertine\" font-size=\"10.00\">(1, 44, 64) </text>\n",
       "<polygon fill=\"none\" stroke=\"black\" points=\"342,-1191.5 342,-1213.5 389,-1213.5 389,-1191.5 342,-1191.5\"/>\n",
       "<text text-anchor=\"start\" x=\"346.75\" y=\"-1199\" font-family=\"Linux libertine\" font-size=\"10.00\">output: </text>\n",
       "<polygon fill=\"none\" stroke=\"black\" points=\"389,-1191.5 389,-1213.5 451,-1213.5 451,-1191.5 389,-1191.5\"/>\n",
       "<text text-anchor=\"start\" x=\"393.75\" y=\"-1199\" font-family=\"Linux libertine\" font-size=\"10.00\">(1, 44, 64) </text>\n",
       "</g>\n",
       "<!-- 79&#45;&gt;80 -->\n",
       "<g id=\"edge100\" class=\"edge\">\n",
       "<title>79&#45;&gt;80</title>\n",
       "<path fill=\"none\" stroke=\"black\" d=\"M357.91,-1271.6C358.81,-1263.82 359.85,-1254.8 360.84,-1246.26\"/>\n",
       "<polygon fill=\"black\" stroke=\"black\" points=\"364.41,-1246.8 362.08,-1236.46 357.46,-1245.99 364.41,-1246.8\"/>\n",
       "</g>\n",
       "<!-- 83 -->\n",
       "<g id=\"node84\" class=\"node\">\n",
       "<title>83</title>\n",
       "<polygon fill=\"aliceblue\" stroke=\"none\" points=\"341,-995.5 168,-995.5 168,-951.5 341,-951.5 341,-995.5\"/>\n",
       "<polygon fill=\"none\" stroke=\"black\" points=\"168,-951.5 168,-995.5 214,-995.5 214,-951.5 168,-951.5\"/>\n",
       "<text text-anchor=\"start\" x=\"182\" y=\"-976.75\" font-family=\"Linux libertine\" font-size=\"10.00\">add</text>\n",
       "<text text-anchor=\"start\" x=\"172.62\" y=\"-964\" font-family=\"Linux libertine\" font-size=\"10.00\">depth:4</text>\n",
       "<polygon fill=\"none\" stroke=\"black\" points=\"214,-973.5 214,-995.5 261,-995.5 261,-973.5 214,-973.5\"/>\n",
       "<text text-anchor=\"start\" x=\"223.62\" y=\"-981\" font-family=\"Linux libertine\" font-size=\"10.00\">input:</text>\n",
       "<polygon fill=\"none\" stroke=\"black\" points=\"261,-973.5 261,-995.5 341,-995.5 341,-973.5 261,-973.5\"/>\n",
       "<text text-anchor=\"start\" x=\"265.75\" y=\"-981\" font-family=\"Linux libertine\" font-size=\"10.00\">2 x (1, 44, 64) </text>\n",
       "<polygon fill=\"none\" stroke=\"black\" points=\"214,-951.5 214,-973.5 261,-973.5 261,-951.5 214,-951.5\"/>\n",
       "<text text-anchor=\"start\" x=\"218.75\" y=\"-959\" font-family=\"Linux libertine\" font-size=\"10.00\">output: </text>\n",
       "<polygon fill=\"none\" stroke=\"black\" points=\"261,-951.5 261,-973.5 341,-973.5 341,-951.5 261,-951.5\"/>\n",
       "<text text-anchor=\"start\" x=\"274.75\" y=\"-959\" font-family=\"Linux libertine\" font-size=\"10.00\">(1, 44, 64) </text>\n",
       "</g>\n",
       "<!-- 79&#45;&gt;83 -->\n",
       "<g id=\"edge101\" class=\"edge\">\n",
       "<title>79&#45;&gt;83</title>\n",
       "<path fill=\"none\" stroke=\"black\" d=\"M307.07,-1271.69C292.14,-1262.79 277.33,-1250.84 268.5,-1235.5 226.33,-1162.22 238.13,-1057.34 247.68,-1005.69\"/>\n",
       "<polygon fill=\"black\" stroke=\"black\" points=\"251.24,-1006.7 249.72,-996.21 244.37,-1005.36 251.24,-1006.7\"/>\n",
       "</g>\n",
       "<!-- 81 -->\n",
       "<g id=\"node82\" class=\"node\">\n",
       "<title>81</title>\n",
       "<polygon fill=\"#c1ffc1\" stroke=\"none\" points=\"437,-1155.5 282,-1155.5 282,-1111.5 437,-1111.5 437,-1155.5\"/>\n",
       "<polygon fill=\"none\" stroke=\"black\" points=\"282,-1111.5 282,-1155.5 328,-1155.5 328,-1111.5 282,-1111.5\"/>\n",
       "<text text-anchor=\"start\" x=\"290\" y=\"-1136.75\" font-family=\"Linux libertine\" font-size=\"10.00\">Linear</text>\n",
       "<text text-anchor=\"start\" x=\"286.62\" y=\"-1124\" font-family=\"Linux libertine\" font-size=\"10.00\">depth:4</text>\n",
       "<polygon fill=\"none\" stroke=\"black\" points=\"328,-1133.5 328,-1155.5 375,-1155.5 375,-1133.5 328,-1133.5\"/>\n",
       "<text text-anchor=\"start\" x=\"337.62\" y=\"-1141\" font-family=\"Linux libertine\" font-size=\"10.00\">input:</text>\n",
       "<polygon fill=\"none\" stroke=\"black\" points=\"375,-1133.5 375,-1155.5 437,-1155.5 437,-1133.5 375,-1133.5\"/>\n",
       "<text text-anchor=\"start\" x=\"379.75\" y=\"-1141\" font-family=\"Linux libertine\" font-size=\"10.00\">(1, 44, 64) </text>\n",
       "<polygon fill=\"none\" stroke=\"black\" points=\"328,-1111.5 328,-1133.5 375,-1133.5 375,-1111.5 328,-1111.5\"/>\n",
       "<text text-anchor=\"start\" x=\"332.75\" y=\"-1119\" font-family=\"Linux libertine\" font-size=\"10.00\">output: </text>\n",
       "<polygon fill=\"none\" stroke=\"black\" points=\"375,-1111.5 375,-1133.5 437,-1133.5 437,-1111.5 375,-1111.5\"/>\n",
       "<text text-anchor=\"start\" x=\"379.75\" y=\"-1119\" font-family=\"Linux libertine\" font-size=\"10.00\">(1, 44, 64) </text>\n",
       "</g>\n",
       "<!-- 80&#45;&gt;81 -->\n",
       "<g id=\"edge102\" class=\"edge\">\n",
       "<title>80&#45;&gt;81</title>\n",
       "<path fill=\"none\" stroke=\"black\" d=\"M363.16,-1191.6C362.66,-1183.82 362.08,-1174.8 361.54,-1166.26\"/>\n",
       "<polygon fill=\"black\" stroke=\"black\" points=\"364.98,-1166.22 360.84,-1156.46 357.99,-1166.66 364.98,-1166.22\"/>\n",
       "</g>\n",
       "<!-- 82 -->\n",
       "<g id=\"node83\" class=\"node\">\n",
       "<title>82</title>\n",
       "<polygon fill=\"#c1ffc1\" stroke=\"none\" points=\"435,-1075.5 280,-1075.5 280,-1031.5 435,-1031.5 435,-1075.5\"/>\n",
       "<polygon fill=\"none\" stroke=\"black\" points=\"280,-1031.5 280,-1075.5 326,-1075.5 326,-1031.5 280,-1031.5\"/>\n",
       "<text text-anchor=\"start\" x=\"289.88\" y=\"-1056.75\" font-family=\"Linux libertine\" font-size=\"10.00\">GELU</text>\n",
       "<text text-anchor=\"start\" x=\"284.62\" y=\"-1044\" font-family=\"Linux libertine\" font-size=\"10.00\">depth:4</text>\n",
       "<polygon fill=\"none\" stroke=\"black\" points=\"326,-1053.5 326,-1075.5 373,-1075.5 373,-1053.5 326,-1053.5\"/>\n",
       "<text text-anchor=\"start\" x=\"335.62\" y=\"-1061\" font-family=\"Linux libertine\" font-size=\"10.00\">input:</text>\n",
       "<polygon fill=\"none\" stroke=\"black\" points=\"373,-1053.5 373,-1075.5 435,-1075.5 435,-1053.5 373,-1053.5\"/>\n",
       "<text text-anchor=\"start\" x=\"377.75\" y=\"-1061\" font-family=\"Linux libertine\" font-size=\"10.00\">(1, 44, 64) </text>\n",
       "<polygon fill=\"none\" stroke=\"black\" points=\"326,-1031.5 326,-1053.5 373,-1053.5 373,-1031.5 326,-1031.5\"/>\n",
       "<text text-anchor=\"start\" x=\"330.75\" y=\"-1039\" font-family=\"Linux libertine\" font-size=\"10.00\">output: </text>\n",
       "<polygon fill=\"none\" stroke=\"black\" points=\"373,-1031.5 373,-1053.5 435,-1053.5 435,-1031.5 373,-1031.5\"/>\n",
       "<text text-anchor=\"start\" x=\"377.75\" y=\"-1039\" font-family=\"Linux libertine\" font-size=\"10.00\">(1, 44, 64) </text>\n",
       "</g>\n",
       "<!-- 81&#45;&gt;82 -->\n",
       "<g id=\"edge103\" class=\"edge\">\n",
       "<title>81&#45;&gt;82</title>\n",
       "<path fill=\"none\" stroke=\"black\" d=\"M358.96,-1111.6C358.76,-1103.82 358.53,-1094.8 358.31,-1086.26\"/>\n",
       "<polygon fill=\"black\" stroke=\"black\" points=\"361.79,-1086.37 358.04,-1076.46 354.8,-1086.55 361.79,-1086.37\"/>\n",
       "</g>\n",
       "<!-- 82&#45;&gt;83 -->\n",
       "<g id=\"edge104\" class=\"edge\">\n",
       "<title>82&#45;&gt;83</title>\n",
       "<path fill=\"none\" stroke=\"black\" d=\"M329.9,-1031.6C317.89,-1022.5 303.66,-1011.73 290.81,-1002\"/>\n",
       "<polygon fill=\"black\" stroke=\"black\" points=\"293.26,-998.71 283.18,-995.46 289.04,-1004.29 293.26,-998.71\"/>\n",
       "</g>\n",
       "<!-- 84 -->\n",
       "<g id=\"node85\" class=\"node\">\n",
       "<title>84</title>\n",
       "<polygon fill=\"#c1ffc1\" stroke=\"none\" points=\"379,-915.5 206,-915.5 206,-871.5 379,-871.5 379,-915.5\"/>\n",
       "<polygon fill=\"none\" stroke=\"black\" points=\"206,-871.5 206,-915.5 270,-915.5 270,-871.5 206,-871.5\"/>\n",
       "<text text-anchor=\"start\" x=\"211\" y=\"-896.75\" font-family=\"Linux libertine\" font-size=\"10.00\">LayerNorm</text>\n",
       "<text text-anchor=\"start\" x=\"219.62\" y=\"-884\" font-family=\"Linux libertine\" font-size=\"10.00\">depth:4</text>\n",
       "<polygon fill=\"none\" stroke=\"black\" points=\"270,-893.5 270,-915.5 317,-915.5 317,-893.5 270,-893.5\"/>\n",
       "<text text-anchor=\"start\" x=\"279.62\" y=\"-901\" font-family=\"Linux libertine\" font-size=\"10.00\">input:</text>\n",
       "<polygon fill=\"none\" stroke=\"black\" points=\"317,-893.5 317,-915.5 379,-915.5 379,-893.5 317,-893.5\"/>\n",
       "<text text-anchor=\"start\" x=\"321.75\" y=\"-901\" font-family=\"Linux libertine\" font-size=\"10.00\">(1, 44, 64) </text>\n",
       "<polygon fill=\"none\" stroke=\"black\" points=\"270,-871.5 270,-893.5 317,-893.5 317,-871.5 270,-871.5\"/>\n",
       "<text text-anchor=\"start\" x=\"274.75\" y=\"-879\" font-family=\"Linux libertine\" font-size=\"10.00\">output: </text>\n",
       "<polygon fill=\"none\" stroke=\"black\" points=\"317,-871.5 317,-893.5 379,-893.5 379,-871.5 317,-871.5\"/>\n",
       "<text text-anchor=\"start\" x=\"321.75\" y=\"-879\" font-family=\"Linux libertine\" font-size=\"10.00\">(1, 44, 64) </text>\n",
       "</g>\n",
       "<!-- 83&#45;&gt;84 -->\n",
       "<g id=\"edge106\" class=\"edge\">\n",
       "<title>83&#45;&gt;84</title>\n",
       "<path fill=\"none\" stroke=\"black\" d=\"M264.68,-951.6C268.64,-943.47 273.26,-933.99 277.59,-925.11\"/>\n",
       "<polygon fill=\"black\" stroke=\"black\" points=\"281.06,-926.98 282.29,-916.46 274.76,-923.92 281.06,-926.98\"/>\n",
       "</g>\n",
       "<!-- 88 -->\n",
       "<g id=\"node89\" class=\"node\">\n",
       "<title>88</title>\n",
       "<polygon fill=\"aliceblue\" stroke=\"none\" points=\"272,-755.5 99,-755.5 99,-711.5 272,-711.5 272,-755.5\"/>\n",
       "<polygon fill=\"none\" stroke=\"black\" points=\"99,-711.5 99,-755.5 145,-755.5 145,-711.5 99,-711.5\"/>\n",
       "<text text-anchor=\"start\" x=\"113\" y=\"-736.75\" font-family=\"Linux libertine\" font-size=\"10.00\">add</text>\n",
       "<text text-anchor=\"start\" x=\"103.62\" y=\"-724\" font-family=\"Linux libertine\" font-size=\"10.00\">depth:4</text>\n",
       "<polygon fill=\"none\" stroke=\"black\" points=\"145,-733.5 145,-755.5 192,-755.5 192,-733.5 145,-733.5\"/>\n",
       "<text text-anchor=\"start\" x=\"154.62\" y=\"-741\" font-family=\"Linux libertine\" font-size=\"10.00\">input:</text>\n",
       "<polygon fill=\"none\" stroke=\"black\" points=\"192,-733.5 192,-755.5 272,-755.5 272,-733.5 192,-733.5\"/>\n",
       "<text text-anchor=\"start\" x=\"196.75\" y=\"-741\" font-family=\"Linux libertine\" font-size=\"10.00\">2 x (1, 44, 64) </text>\n",
       "<polygon fill=\"none\" stroke=\"black\" points=\"145,-711.5 145,-733.5 192,-733.5 192,-711.5 145,-711.5\"/>\n",
       "<text text-anchor=\"start\" x=\"149.75\" y=\"-719\" font-family=\"Linux libertine\" font-size=\"10.00\">output: </text>\n",
       "<polygon fill=\"none\" stroke=\"black\" points=\"192,-711.5 192,-733.5 272,-733.5 272,-711.5 192,-711.5\"/>\n",
       "<text text-anchor=\"start\" x=\"205.75\" y=\"-719\" font-family=\"Linux libertine\" font-size=\"10.00\">(1, 44, 64) </text>\n",
       "</g>\n",
       "<!-- 83&#45;&gt;88 -->\n",
       "<g id=\"edge107\" class=\"edge\">\n",
       "<title>83&#45;&gt;88</title>\n",
       "<path fill=\"none\" stroke=\"black\" d=\"M225.4,-951.55C214.34,-941.92 202.88,-929.5 196.5,-915.5 174.44,-867.08 176.72,-803.7 180.81,-766.22\"/>\n",
       "<polygon fill=\"black\" stroke=\"black\" points=\"184.38,-766.81 182.11,-756.46 177.43,-765.97 184.38,-766.81\"/>\n",
       "</g>\n",
       "<!-- 87 -->\n",
       "<g id=\"node88\" class=\"node\">\n",
       "<title>87</title>\n",
       "<polygon fill=\"#c1ffc1\" stroke=\"none\" points=\"479.5,-835.5 205.5,-835.5 205.5,-791.5 479.5,-791.5 479.5,-835.5\"/>\n",
       "<polygon fill=\"none\" stroke=\"black\" points=\"205.5,-791.5 205.5,-835.5 308.5,-835.5 308.5,-791.5 205.5,-791.5\"/>\n",
       "<text text-anchor=\"start\" x=\"210.12\" y=\"-816.75\" font-family=\"Linux libertine\" font-size=\"10.00\">MultiheadAttention</text>\n",
       "<text text-anchor=\"start\" x=\"238.62\" y=\"-804\" font-family=\"Linux libertine\" font-size=\"10.00\">depth:4</text>\n",
       "<polygon fill=\"none\" stroke=\"black\" points=\"308.5,-813.5 308.5,-835.5 355.5,-835.5 355.5,-813.5 308.5,-813.5\"/>\n",
       "<text text-anchor=\"start\" x=\"318.12\" y=\"-821\" font-family=\"Linux libertine\" font-size=\"10.00\">input:</text>\n",
       "<polygon fill=\"none\" stroke=\"black\" points=\"355.5,-813.5 355.5,-835.5 479.5,-835.5 479.5,-813.5 355.5,-813.5\"/>\n",
       "<text text-anchor=\"start\" x=\"360.5\" y=\"-821\" font-family=\"Linux libertine\" font-size=\"10.00\">3 x (1, 44, 64), (44, 44) </text>\n",
       "<polygon fill=\"none\" stroke=\"black\" points=\"308.5,-791.5 308.5,-813.5 355.5,-813.5 355.5,-791.5 308.5,-791.5\"/>\n",
       "<text text-anchor=\"start\" x=\"313.25\" y=\"-799\" font-family=\"Linux libertine\" font-size=\"10.00\">output: </text>\n",
       "<polygon fill=\"none\" stroke=\"black\" points=\"355.5,-791.5 355.5,-813.5 479.5,-813.5 479.5,-791.5 355.5,-791.5\"/>\n",
       "<text text-anchor=\"start\" x=\"363.5\" y=\"-799\" font-family=\"Linux libertine\" font-size=\"10.00\">(1, 44, 64), (1, 44, 44) </text>\n",
       "</g>\n",
       "<!-- 84&#45;&gt;87 -->\n",
       "<g id=\"edge108\" class=\"edge\">\n",
       "<title>84&#45;&gt;87</title>\n",
       "<path fill=\"none\" stroke=\"black\" d=\"M305.9,-871.6C311.22,-863.29 317.45,-853.58 323.24,-844.54\"/>\n",
       "<polygon fill=\"black\" stroke=\"black\" points=\"326.61,-846.77 329.06,-836.46 320.72,-842.99 326.61,-846.77\"/>\n",
       "</g>\n",
       "<!-- 85 -->\n",
       "<g id=\"node86\" class=\"node\">\n",
       "<title>85</title>\n",
       "<polygon fill=\"aliceblue\" stroke=\"none\" points=\"540,-995.5 397,-995.5 397,-951.5 540,-951.5 540,-995.5\"/>\n",
       "<polygon fill=\"none\" stroke=\"black\" points=\"397,-951.5 397,-995.5 443,-995.5 443,-951.5 397,-951.5\"/>\n",
       "<text text-anchor=\"start\" x=\"411.75\" y=\"-976.75\" font-family=\"Linux libertine\" font-size=\"10.00\">triu</text>\n",
       "<text text-anchor=\"start\" x=\"401.62\" y=\"-964\" font-family=\"Linux libertine\" font-size=\"10.00\">depth:4</text>\n",
       "<polygon fill=\"none\" stroke=\"black\" points=\"443,-973.5 443,-995.5 490,-995.5 490,-973.5 443,-973.5\"/>\n",
       "<text text-anchor=\"start\" x=\"452.62\" y=\"-981\" font-family=\"Linux libertine\" font-size=\"10.00\">input:</text>\n",
       "<polygon fill=\"none\" stroke=\"black\" points=\"490,-973.5 490,-995.5 540,-995.5 540,-973.5 490,-973.5\"/>\n",
       "<text text-anchor=\"start\" x=\"494.75\" y=\"-981\" font-family=\"Linux libertine\" font-size=\"10.00\">(44, 44) </text>\n",
       "<polygon fill=\"none\" stroke=\"black\" points=\"443,-951.5 443,-973.5 490,-973.5 490,-951.5 443,-951.5\"/>\n",
       "<text text-anchor=\"start\" x=\"447.75\" y=\"-959\" font-family=\"Linux libertine\" font-size=\"10.00\">output: </text>\n",
       "<polygon fill=\"none\" stroke=\"black\" points=\"490,-951.5 490,-973.5 540,-973.5 540,-951.5 490,-951.5\"/>\n",
       "<text text-anchor=\"start\" x=\"494.75\" y=\"-959\" font-family=\"Linux libertine\" font-size=\"10.00\">(44, 44) </text>\n",
       "</g>\n",
       "<!-- 86 -->\n",
       "<g id=\"node87\" class=\"node\">\n",
       "<title>86</title>\n",
       "<polygon fill=\"aliceblue\" stroke=\"none\" points=\"540,-915.5 397,-915.5 397,-871.5 540,-871.5 540,-915.5\"/>\n",
       "<polygon fill=\"none\" stroke=\"black\" points=\"397,-871.5 397,-915.5 443,-915.5 443,-871.5 397,-871.5\"/>\n",
       "<text text-anchor=\"start\" x=\"415.12\" y=\"-896.75\" font-family=\"Linux libertine\" font-size=\"10.00\">to</text>\n",
       "<text text-anchor=\"start\" x=\"401.62\" y=\"-884\" font-family=\"Linux libertine\" font-size=\"10.00\">depth:4</text>\n",
       "<polygon fill=\"none\" stroke=\"black\" points=\"443,-893.5 443,-915.5 490,-915.5 490,-893.5 443,-893.5\"/>\n",
       "<text text-anchor=\"start\" x=\"452.62\" y=\"-901\" font-family=\"Linux libertine\" font-size=\"10.00\">input:</text>\n",
       "<polygon fill=\"none\" stroke=\"black\" points=\"490,-893.5 490,-915.5 540,-915.5 540,-893.5 490,-893.5\"/>\n",
       "<text text-anchor=\"start\" x=\"494.75\" y=\"-901\" font-family=\"Linux libertine\" font-size=\"10.00\">(44, 44) </text>\n",
       "<polygon fill=\"none\" stroke=\"black\" points=\"443,-871.5 443,-893.5 490,-893.5 490,-871.5 443,-871.5\"/>\n",
       "<text text-anchor=\"start\" x=\"447.75\" y=\"-879\" font-family=\"Linux libertine\" font-size=\"10.00\">output: </text>\n",
       "<polygon fill=\"none\" stroke=\"black\" points=\"490,-871.5 490,-893.5 540,-893.5 540,-871.5 490,-871.5\"/>\n",
       "<text text-anchor=\"start\" x=\"494.75\" y=\"-879\" font-family=\"Linux libertine\" font-size=\"10.00\">(44, 44) </text>\n",
       "</g>\n",
       "<!-- 85&#45;&gt;86 -->\n",
       "<g id=\"edge109\" class=\"edge\">\n",
       "<title>85&#45;&gt;86</title>\n",
       "<path fill=\"none\" stroke=\"black\" d=\"M468.5,-951.6C468.5,-943.82 468.5,-934.8 468.5,-926.26\"/>\n",
       "<polygon fill=\"black\" stroke=\"black\" points=\"472,-926.46 468.5,-916.46 465,-926.46 472,-926.46\"/>\n",
       "</g>\n",
       "<!-- 86&#45;&gt;87 -->\n",
       "<g id=\"edge110\" class=\"edge\">\n",
       "<title>86&#45;&gt;87</title>\n",
       "<path fill=\"none\" stroke=\"black\" d=\"M434.73,-871.6C419.62,-862.24 401.63,-851.1 385.56,-841.16\"/>\n",
       "<polygon fill=\"black\" stroke=\"black\" points=\"387.7,-837.75 377.36,-835.46 384.02,-843.7 387.7,-837.75\"/>\n",
       "</g>\n",
       "<!-- 87&#45;&gt;88 -->\n",
       "<g id=\"edge111\" class=\"edge\">\n",
       "<title>87&#45;&gt;88</title>\n",
       "<path fill=\"none\" stroke=\"black\" d=\"M300.43,-791.6C281.07,-781.98 257.91,-770.48 237.48,-760.32\"/>\n",
       "<polygon fill=\"black\" stroke=\"black\" points=\"239.2,-756.78 228.69,-755.46 236.09,-763.04 239.2,-756.78\"/>\n",
       "</g>\n",
       "<!-- 89 -->\n",
       "<g id=\"node90\" class=\"node\">\n",
       "<title>89</title>\n",
       "<polygon fill=\"#c1ffc1\" stroke=\"none\" points=\"305,-675.5 132,-675.5 132,-631.5 305,-631.5 305,-675.5\"/>\n",
       "<polygon fill=\"none\" stroke=\"black\" points=\"132,-631.5 132,-675.5 196,-675.5 196,-631.5 132,-631.5\"/>\n",
       "<text text-anchor=\"start\" x=\"137\" y=\"-656.75\" font-family=\"Linux libertine\" font-size=\"10.00\">LayerNorm</text>\n",
       "<text text-anchor=\"start\" x=\"145.62\" y=\"-644\" font-family=\"Linux libertine\" font-size=\"10.00\">depth:4</text>\n",
       "<polygon fill=\"none\" stroke=\"black\" points=\"196,-653.5 196,-675.5 243,-675.5 243,-653.5 196,-653.5\"/>\n",
       "<text text-anchor=\"start\" x=\"205.62\" y=\"-661\" font-family=\"Linux libertine\" font-size=\"10.00\">input:</text>\n",
       "<polygon fill=\"none\" stroke=\"black\" points=\"243,-653.5 243,-675.5 305,-675.5 305,-653.5 243,-653.5\"/>\n",
       "<text text-anchor=\"start\" x=\"247.75\" y=\"-661\" font-family=\"Linux libertine\" font-size=\"10.00\">(1, 44, 64) </text>\n",
       "<polygon fill=\"none\" stroke=\"black\" points=\"196,-631.5 196,-653.5 243,-653.5 243,-631.5 196,-631.5\"/>\n",
       "<text text-anchor=\"start\" x=\"200.75\" y=\"-639\" font-family=\"Linux libertine\" font-size=\"10.00\">output: </text>\n",
       "<polygon fill=\"none\" stroke=\"black\" points=\"243,-631.5 243,-653.5 305,-653.5 305,-631.5 243,-631.5\"/>\n",
       "<text text-anchor=\"start\" x=\"247.75\" y=\"-639\" font-family=\"Linux libertine\" font-size=\"10.00\">(1, 44, 64) </text>\n",
       "</g>\n",
       "<!-- 88&#45;&gt;89 -->\n",
       "<g id=\"edge112\" class=\"edge\">\n",
       "<title>88&#45;&gt;89</title>\n",
       "<path fill=\"none\" stroke=\"black\" d=\"M194.34,-711.6C197.75,-703.55 201.71,-694.19 205.43,-685.4\"/>\n",
       "<polygon fill=\"black\" stroke=\"black\" points=\"208.96,-687.03 209.63,-676.46 202.51,-684.31 208.96,-687.03\"/>\n",
       "</g>\n",
       "<!-- 91 -->\n",
       "<g id=\"node92\" class=\"node\">\n",
       "<title>91</title>\n",
       "<polygon fill=\"aliceblue\" stroke=\"none\" points=\"247,-515.5 74,-515.5 74,-471.5 247,-471.5 247,-515.5\"/>\n",
       "<polygon fill=\"none\" stroke=\"black\" points=\"74,-471.5 74,-515.5 120,-515.5 120,-471.5 74,-471.5\"/>\n",
       "<text text-anchor=\"start\" x=\"88\" y=\"-496.75\" font-family=\"Linux libertine\" font-size=\"10.00\">add</text>\n",
       "<text text-anchor=\"start\" x=\"78.62\" y=\"-484\" font-family=\"Linux libertine\" font-size=\"10.00\">depth:4</text>\n",
       "<polygon fill=\"none\" stroke=\"black\" points=\"120,-493.5 120,-515.5 167,-515.5 167,-493.5 120,-493.5\"/>\n",
       "<text text-anchor=\"start\" x=\"129.62\" y=\"-501\" font-family=\"Linux libertine\" font-size=\"10.00\">input:</text>\n",
       "<polygon fill=\"none\" stroke=\"black\" points=\"167,-493.5 167,-515.5 247,-515.5 247,-493.5 167,-493.5\"/>\n",
       "<text text-anchor=\"start\" x=\"171.75\" y=\"-501\" font-family=\"Linux libertine\" font-size=\"10.00\">2 x (1, 44, 64) </text>\n",
       "<polygon fill=\"none\" stroke=\"black\" points=\"120,-471.5 120,-493.5 167,-493.5 167,-471.5 120,-471.5\"/>\n",
       "<text text-anchor=\"start\" x=\"124.75\" y=\"-479\" font-family=\"Linux libertine\" font-size=\"10.00\">output: </text>\n",
       "<polygon fill=\"none\" stroke=\"black\" points=\"167,-471.5 167,-493.5 247,-493.5 247,-471.5 167,-471.5\"/>\n",
       "<text text-anchor=\"start\" x=\"180.75\" y=\"-479\" font-family=\"Linux libertine\" font-size=\"10.00\">(1, 44, 64) </text>\n",
       "</g>\n",
       "<!-- 88&#45;&gt;91 -->\n",
       "<g id=\"edge113\" class=\"edge\">\n",
       "<title>88&#45;&gt;91</title>\n",
       "<path fill=\"none\" stroke=\"black\" d=\"M156.8,-711.75C144.84,-701.89 131.64,-689.26 122.5,-675.5 101.67,-644.11 100.81,-632.64 94.5,-595.5 91.22,-576.22 86.36,-569.28 94.5,-551.5 99.67,-540.21 108.29,-530.31 117.63,-522.06\"/>\n",
       "<polygon fill=\"black\" stroke=\"black\" points=\"119.44,-524.29 124.95,-515.25 115,-518.87 119.44,-524.29\"/>\n",
       "</g>\n",
       "<!-- 89&#45;&gt;90 -->\n",
       "<g id=\"edge114\" class=\"edge\">\n",
       "<title>89&#45;&gt;90</title>\n",
       "<path fill=\"none\" stroke=\"black\" d=\"M226,-631.6C228.86,-623.64 232.18,-614.39 235.3,-605.69\"/>\n",
       "<polygon fill=\"black\" stroke=\"black\" points=\"238.89,-607.05 238.98,-596.46 232.3,-604.69 238.89,-607.05\"/>\n",
       "</g>\n",
       "<!-- 90&#45;&gt;91 -->\n",
       "<g id=\"edge115\" class=\"edge\">\n",
       "<title>90&#45;&gt;91</title>\n",
       "<path fill=\"none\" stroke=\"black\" d=\"M223.45,-551.6C213.72,-542.77 202.23,-532.35 191.75,-522.84\"/>\n",
       "<polygon fill=\"black\" stroke=\"black\" points=\"194.37,-520.59 184.61,-516.46 189.67,-525.77 194.37,-520.59\"/>\n",
       "</g>\n",
       "<!-- 92 -->\n",
       "<g id=\"node93\" class=\"node\">\n",
       "<title>92</title>\n",
       "<polygon fill=\"#c1ffc1\" stroke=\"none\" points=\"305,-435.5 132,-435.5 132,-391.5 305,-391.5 305,-435.5\"/>\n",
       "<polygon fill=\"none\" stroke=\"black\" points=\"132,-391.5 132,-435.5 196,-435.5 196,-391.5 132,-391.5\"/>\n",
       "<text text-anchor=\"start\" x=\"137\" y=\"-416.75\" font-family=\"Linux libertine\" font-size=\"10.00\">LayerNorm</text>\n",
       "<text text-anchor=\"start\" x=\"145.62\" y=\"-404\" font-family=\"Linux libertine\" font-size=\"10.00\">depth:4</text>\n",
       "<polygon fill=\"none\" stroke=\"black\" points=\"196,-413.5 196,-435.5 243,-435.5 243,-413.5 196,-413.5\"/>\n",
       "<text text-anchor=\"start\" x=\"205.62\" y=\"-421\" font-family=\"Linux libertine\" font-size=\"10.00\">input:</text>\n",
       "<polygon fill=\"none\" stroke=\"black\" points=\"243,-413.5 243,-435.5 305,-435.5 305,-413.5 243,-413.5\"/>\n",
       "<text text-anchor=\"start\" x=\"247.75\" y=\"-421\" font-family=\"Linux libertine\" font-size=\"10.00\">(1, 44, 64) </text>\n",
       "<polygon fill=\"none\" stroke=\"black\" points=\"196,-391.5 196,-413.5 243,-413.5 243,-391.5 196,-391.5\"/>\n",
       "<text text-anchor=\"start\" x=\"200.75\" y=\"-399\" font-family=\"Linux libertine\" font-size=\"10.00\">output: </text>\n",
       "<polygon fill=\"none\" stroke=\"black\" points=\"243,-391.5 243,-413.5 305,-413.5 305,-391.5 243,-391.5\"/>\n",
       "<text text-anchor=\"start\" x=\"247.75\" y=\"-399\" font-family=\"Linux libertine\" font-size=\"10.00\">(1, 44, 64) </text>\n",
       "</g>\n",
       "<!-- 91&#45;&gt;92 -->\n",
       "<g id=\"edge116\" class=\"edge\">\n",
       "<title>91&#45;&gt;92</title>\n",
       "<path fill=\"none\" stroke=\"black\" d=\"M176.04,-471.6C182.28,-463.2 189.59,-453.37 196.37,-444.26\"/>\n",
       "<polygon fill=\"black\" stroke=\"black\" points=\"199.76,-446.57 202.91,-436.46 194.14,-442.4 199.76,-446.57\"/>\n",
       "</g>\n",
       "<!-- 95 -->\n",
       "<g id=\"node96\" class=\"node\">\n",
       "<title>95</title>\n",
       "<polygon fill=\"aliceblue\" stroke=\"none\" points=\"243,-195.5 70,-195.5 70,-151.5 243,-151.5 243,-195.5\"/>\n",
       "<polygon fill=\"none\" stroke=\"black\" points=\"70,-151.5 70,-195.5 116,-195.5 116,-151.5 70,-151.5\"/>\n",
       "<text text-anchor=\"start\" x=\"84\" y=\"-176.75\" font-family=\"Linux libertine\" font-size=\"10.00\">add</text>\n",
       "<text text-anchor=\"start\" x=\"74.62\" y=\"-164\" font-family=\"Linux libertine\" font-size=\"10.00\">depth:4</text>\n",
       "<polygon fill=\"none\" stroke=\"black\" points=\"116,-173.5 116,-195.5 163,-195.5 163,-173.5 116,-173.5\"/>\n",
       "<text text-anchor=\"start\" x=\"125.62\" y=\"-181\" font-family=\"Linux libertine\" font-size=\"10.00\">input:</text>\n",
       "<polygon fill=\"none\" stroke=\"black\" points=\"163,-173.5 163,-195.5 243,-195.5 243,-173.5 163,-173.5\"/>\n",
       "<text text-anchor=\"start\" x=\"167.75\" y=\"-181\" font-family=\"Linux libertine\" font-size=\"10.00\">2 x (1, 44, 64) </text>\n",
       "<polygon fill=\"none\" stroke=\"black\" points=\"116,-151.5 116,-173.5 163,-173.5 163,-151.5 116,-151.5\"/>\n",
       "<text text-anchor=\"start\" x=\"120.75\" y=\"-159\" font-family=\"Linux libertine\" font-size=\"10.00\">output: </text>\n",
       "<polygon fill=\"none\" stroke=\"black\" points=\"163,-151.5 163,-173.5 243,-173.5 243,-151.5 163,-151.5\"/>\n",
       "<text text-anchor=\"start\" x=\"176.75\" y=\"-159\" font-family=\"Linux libertine\" font-size=\"10.00\">(1, 44, 64) </text>\n",
       "</g>\n",
       "<!-- 91&#45;&gt;95 -->\n",
       "<g id=\"edge117\" class=\"edge\">\n",
       "<title>91&#45;&gt;95</title>\n",
       "<path fill=\"none\" stroke=\"black\" d=\"M142.22,-471.59C134.53,-461.42 126.46,-448.59 122.5,-435.5 112.43,-402.24 95.7,-349.8 126.5,-231.5 128.84,-222.5 132.83,-213.33 137.15,-205.05\"/>\n",
       "<polygon fill=\"black\" stroke=\"black\" points=\"140.68,-206.91 142.49,-196.47 134.56,-203.5 140.68,-206.91\"/>\n",
       "</g>\n",
       "<!-- 93 -->\n",
       "<g id=\"node94\" class=\"node\">\n",
       "<title>93</title>\n",
       "<polygon fill=\"#c1ffc1\" stroke=\"none\" points=\"293,-355.5 138,-355.5 138,-311.5 293,-311.5 293,-355.5\"/>\n",
       "<polygon fill=\"none\" stroke=\"black\" points=\"138,-311.5 138,-355.5 184,-355.5 184,-311.5 138,-311.5\"/>\n",
       "<text text-anchor=\"start\" x=\"146\" y=\"-336.75\" font-family=\"Linux libertine\" font-size=\"10.00\">Linear</text>\n",
       "<text text-anchor=\"start\" x=\"142.62\" y=\"-324\" font-family=\"Linux libertine\" font-size=\"10.00\">depth:4</text>\n",
       "<polygon fill=\"none\" stroke=\"black\" points=\"184,-333.5 184,-355.5 231,-355.5 231,-333.5 184,-333.5\"/>\n",
       "<text text-anchor=\"start\" x=\"193.62\" y=\"-341\" font-family=\"Linux libertine\" font-size=\"10.00\">input:</text>\n",
       "<polygon fill=\"none\" stroke=\"black\" points=\"231,-333.5 231,-355.5 293,-355.5 293,-333.5 231,-333.5\"/>\n",
       "<text text-anchor=\"start\" x=\"235.75\" y=\"-341\" font-family=\"Linux libertine\" font-size=\"10.00\">(1, 44, 64) </text>\n",
       "<polygon fill=\"none\" stroke=\"black\" points=\"184,-311.5 184,-333.5 231,-333.5 231,-311.5 184,-311.5\"/>\n",
       "<text text-anchor=\"start\" x=\"188.75\" y=\"-319\" font-family=\"Linux libertine\" font-size=\"10.00\">output: </text>\n",
       "<polygon fill=\"none\" stroke=\"black\" points=\"231,-311.5 231,-333.5 293,-333.5 293,-311.5 231,-311.5\"/>\n",
       "<text text-anchor=\"start\" x=\"235.75\" y=\"-319\" font-family=\"Linux libertine\" font-size=\"10.00\">(1, 44, 64) </text>\n",
       "</g>\n",
       "<!-- 92&#45;&gt;93 -->\n",
       "<g id=\"edge118\" class=\"edge\">\n",
       "<title>92&#45;&gt;93</title>\n",
       "<path fill=\"none\" stroke=\"black\" d=\"M217.7,-391.6C217.4,-383.82 217.05,-374.8 216.72,-366.26\"/>\n",
       "<polygon fill=\"black\" stroke=\"black\" points=\"220.19,-366.32 216.31,-356.46 213.19,-366.59 220.19,-366.32\"/>\n",
       "</g>\n",
       "<!-- 94 -->\n",
       "<g id=\"node95\" class=\"node\">\n",
       "<title>94</title>\n",
       "<polygon fill=\"#c1ffc1\" stroke=\"none\" points=\"291,-275.5 136,-275.5 136,-231.5 291,-231.5 291,-275.5\"/>\n",
       "<polygon fill=\"none\" stroke=\"black\" points=\"136,-231.5 136,-275.5 182,-275.5 182,-231.5 136,-231.5\"/>\n",
       "<text text-anchor=\"start\" x=\"145.88\" y=\"-256.75\" font-family=\"Linux libertine\" font-size=\"10.00\">GELU</text>\n",
       "<text text-anchor=\"start\" x=\"140.62\" y=\"-244\" font-family=\"Linux libertine\" font-size=\"10.00\">depth:4</text>\n",
       "<polygon fill=\"none\" stroke=\"black\" points=\"182,-253.5 182,-275.5 229,-275.5 229,-253.5 182,-253.5\"/>\n",
       "<text text-anchor=\"start\" x=\"191.62\" y=\"-261\" font-family=\"Linux libertine\" font-size=\"10.00\">input:</text>\n",
       "<polygon fill=\"none\" stroke=\"black\" points=\"229,-253.5 229,-275.5 291,-275.5 291,-253.5 229,-253.5\"/>\n",
       "<text text-anchor=\"start\" x=\"233.75\" y=\"-261\" font-family=\"Linux libertine\" font-size=\"10.00\">(1, 44, 64) </text>\n",
       "<polygon fill=\"none\" stroke=\"black\" points=\"182,-231.5 182,-253.5 229,-253.5 229,-231.5 182,-231.5\"/>\n",
       "<text text-anchor=\"start\" x=\"186.75\" y=\"-239\" font-family=\"Linux libertine\" font-size=\"10.00\">output: </text>\n",
       "<polygon fill=\"none\" stroke=\"black\" points=\"229,-231.5 229,-253.5 291,-253.5 291,-231.5 229,-231.5\"/>\n",
       "<text text-anchor=\"start\" x=\"233.75\" y=\"-239\" font-family=\"Linux libertine\" font-size=\"10.00\">(1, 44, 64) </text>\n",
       "</g>\n",
       "<!-- 93&#45;&gt;94 -->\n",
       "<g id=\"edge119\" class=\"edge\">\n",
       "<title>93&#45;&gt;94</title>\n",
       "<path fill=\"none\" stroke=\"black\" d=\"M214.96,-311.6C214.76,-303.82 214.53,-294.8 214.31,-286.26\"/>\n",
       "<polygon fill=\"black\" stroke=\"black\" points=\"217.79,-286.37 214.04,-276.46 210.8,-286.55 217.79,-286.37\"/>\n",
       "</g>\n",
       "<!-- 94&#45;&gt;95 -->\n",
       "<g id=\"edge120\" class=\"edge\">\n",
       "<title>94&#45;&gt;95</title>\n",
       "<path fill=\"none\" stroke=\"black\" d=\"M198.23,-231.6C192.09,-223.2 184.91,-213.37 178.25,-204.26\"/>\n",
       "<polygon fill=\"black\" stroke=\"black\" points=\"180.54,-202.47 171.82,-196.46 174.89,-206.6 180.54,-202.47\"/>\n",
       "</g>\n",
       "<!-- 96 -->\n",
       "<g id=\"node97\" class=\"node\">\n",
       "<title>96</title>\n",
       "<polygon fill=\"#c1ffc1\" stroke=\"none\" points=\"234,-115.5 79,-115.5 79,-71.5 234,-71.5 234,-115.5\"/>\n",
       "<polygon fill=\"none\" stroke=\"black\" points=\"79,-71.5 79,-115.5 125,-115.5 125,-71.5 79,-71.5\"/>\n",
       "<text text-anchor=\"start\" x=\"87\" y=\"-96.75\" font-family=\"Linux libertine\" font-size=\"10.00\">Linear</text>\n",
       "<text text-anchor=\"start\" x=\"83.62\" y=\"-84\" font-family=\"Linux libertine\" font-size=\"10.00\">depth:2</text>\n",
       "<polygon fill=\"none\" stroke=\"black\" points=\"125,-93.5 125,-115.5 172,-115.5 172,-93.5 125,-93.5\"/>\n",
       "<text text-anchor=\"start\" x=\"134.62\" y=\"-101\" font-family=\"Linux libertine\" font-size=\"10.00\">input:</text>\n",
       "<polygon fill=\"none\" stroke=\"black\" points=\"172,-93.5 172,-115.5 234,-115.5 234,-93.5 172,-93.5\"/>\n",
       "<text text-anchor=\"start\" x=\"176.75\" y=\"-101\" font-family=\"Linux libertine\" font-size=\"10.00\">(1, 44, 64) </text>\n",
       "<polygon fill=\"none\" stroke=\"black\" points=\"125,-71.5 125,-93.5 172,-93.5 172,-71.5 125,-71.5\"/>\n",
       "<text text-anchor=\"start\" x=\"129.75\" y=\"-79\" font-family=\"Linux libertine\" font-size=\"10.00\">output: </text>\n",
       "<polygon fill=\"none\" stroke=\"black\" points=\"172,-71.5 172,-93.5 234,-93.5 234,-71.5 172,-71.5\"/>\n",
       "<text text-anchor=\"start\" x=\"176.75\" y=\"-79\" font-family=\"Linux libertine\" font-size=\"10.00\">(1, 44, 87) </text>\n",
       "</g>\n",
       "<!-- 95&#45;&gt;96 -->\n",
       "<g id=\"edge121\" class=\"edge\">\n",
       "<title>95&#45;&gt;96</title>\n",
       "<path fill=\"none\" stroke=\"black\" d=\"M156.5,-151.6C156.5,-143.82 156.5,-134.8 156.5,-126.26\"/>\n",
       "<polygon fill=\"black\" stroke=\"black\" points=\"160,-126.46 156.5,-116.46 153,-126.46 160,-126.46\"/>\n",
       "</g>\n",
       "<!-- 97 -->\n",
       "<g id=\"node98\" class=\"node\">\n",
       "<title>97</title>\n",
       "<polygon fill=\"lightyellow\" stroke=\"none\" points=\"224.25,-35.5 88.75,-35.5 88.75,0 224.25,0 224.25,-35.5\"/>\n",
       "<polygon fill=\"none\" stroke=\"black\" points=\"88.75,0 88.75,-35.5 164.75,-35.5 164.75,0 88.75,0\"/>\n",
       "<text text-anchor=\"start\" x=\"93.75\" y=\"-21\" font-family=\"Linux libertine\" font-size=\"10.00\">output&#45;tensor</text>\n",
       "<text text-anchor=\"start\" x=\"108.38\" y=\"-8.25\" font-family=\"Linux libertine\" font-size=\"10.00\">depth:0</text>\n",
       "<polygon fill=\"none\" stroke=\"black\" points=\"164.75,0 164.75,-35.5 224.25,-35.5 224.25,0 164.75,0\"/>\n",
       "<text text-anchor=\"start\" x=\"169.75\" y=\"-14.62\" font-family=\"Linux libertine\" font-size=\"10.00\">(1, 44, 87)</text>\n",
       "</g>\n",
       "<!-- 96&#45;&gt;97 -->\n",
       "<g id=\"edge122\" class=\"edge\">\n",
       "<title>96&#45;&gt;97</title>\n",
       "<path fill=\"none\" stroke=\"black\" d=\"M156.5,-71.56C156.5,-63.6 156.5,-54.41 156.5,-45.95\"/>\n",
       "<polygon fill=\"black\" stroke=\"black\" points=\"160,-46.05 156.5,-36.05 153,-46.05 160,-46.05\"/>\n",
       "</g>\n",
       "</g>\n",
       "</svg>\n"
      ],
      "text/plain": [
       "<graphviz.graphs.Digraph at 0x7f93c03bbc90>"
      ]
     },
     "execution_count": 133,
     "metadata": {},
     "output_type": "execute_result"
    }
   ],
   "source": [
    "model_graph = draw_graph(enc_dec_net,\n",
    "                         input_data=[torch.Tensor(enc_x_train[0:1]).long(),\n",
    "                                     torch.Tensor(dec_x_train[0:1]).long()], \n",
    "                         device=device,\n",
    "                         hide_inner_tensors=True,\n",
    "                         hide_module_functions=True, \n",
    "                         expand_nested=False, \n",
    "                         depth=4, \n",
    "                         dtypes=[torch.long, torch.long])\n",
    "\n",
    "model_graph.visual_graph"
   ]
  },
  {
   "cell_type": "code",
   "execution_count": 134,
   "id": "700e3b6f-f72a-490b-b6ac-92a31045f4e1",
   "metadata": {},
   "outputs": [
    {
     "data": {
      "image/png": "[encoded data removed]",
      "text/latex": [
       "$\\displaystyle \\left( 8000, \\  44\\right)$"
      ],
      "text/plain": [
       "(8000, 44)"
      ]
     },
     "execution_count": 134,
     "metadata": {},
     "output_type": "execute_result"
    }
   ],
   "source": [
    "dec_y_train.shape"
   ]
  },
  {
   "cell_type": "code",
   "execution_count": 135,
   "id": "3d371668-901b-46c9-9f0d-05be8bd2638f",
   "metadata": {},
   "outputs": [
    {
     "data": {
      "text/plain": [
       "tensor([[[ 0.7752, -0.5259,  1.0314,  ...,  0.1646, -0.7816, -2.5010],\n",
       "         [-1.1898,  1.4827,  1.9202,  ..., -1.4161, -1.3840,  0.6826],\n",
       "         [ 1.6536,  1.4361, -0.7130,  ..., -0.1181, -0.0350, -0.9561],\n",
       "         ...,\n",
       "         [-0.1516,  0.5587,  0.0830,  ..., -0.8168, -1.5102, -0.3160],\n",
       "         [-0.1553,  0.6597,  0.2222,  ..., -0.7706, -1.4707, -0.3471],\n",
       "         [-0.0424,  0.5890,  0.1697,  ..., -0.8880, -1.5059, -0.3178]]],\n",
       "       grad_fn=<ToCopyBackward0>)"
      ]
     },
     "execution_count": 135,
     "metadata": {},
     "output_type": "execute_result"
    }
   ],
   "source": [
    "enc_dec_net(torch.Tensor(enc_x_train[0:1]).long().to(device), torch.Tensor(dec_x_train[0:1]).long().to(device)).cpu()"
   ]
  },
  {
   "cell_type": "code",
   "execution_count": 136,
   "id": "e9579c2c-3839-4636-b2cc-1d6aadcb55fb",
   "metadata": {},
   "outputs": [
    {
     "name": "stderr",
     "output_type": "stream",
     "text": [
      "/opt/conda/lib/python3.11/site-packages/torch/utils/data/dataloader.py:560: UserWarning: This DataLoader will create 8 worker processes in total. Our suggested max number of worker in current system is 2, which is smaller than what this DataLoader is going to create. Please be aware that excessive worker creation might get DataLoader running slow or even freeze, lower the worker number to avoid potential slowness/freeze if necessary.\n",
      "  warnings.warn(_create_warning_msg(\n"
     ]
    }
   ],
   "source": [
    "batch_size = 128\n",
    "xy_train = torch.utils.data.DataLoader(list(zip(torch.Tensor(enc_x_train).long(),\n",
    "                                                torch.Tensor(dec_x_train).long(),\n",
    "                                                torch.Tensor(dec_y_train).long())), \n",
    "                                       shuffle=True, \n",
    "                                       batch_size=batch_size, \n",
    "                                       num_workers=8)\n",
    "\n",
    "xy_val = torch.utils.data.DataLoader(list(zip(torch.Tensor(enc_x_val).long(), \n",
    "                                              torch.Tensor(dec_x_val).long(),\n",
    "                                              torch.Tensor(dec_y_val).long())), \n",
    "                                     shuffle=False, \n",
    "                                     batch_size=batch_size, \n",
    "                                     num_workers=8)"
   ]
  },
  {
   "cell_type": "code",
   "execution_count": 137,
   "id": "4f0f8c66-51ac-4d77-a3dd-c9ce853636e2",
   "metadata": {},
   "outputs": [],
   "source": [
    "logger = pl.loggers.CSVLogger(\"lightning_logs\", \n",
    "                              name=\"Open_Lab_5\",\n",
    "                              version=\"demo-0\")"
   ]
  },
  {
   "cell_type": "code",
   "execution_count": 138,
   "id": "2c98c812-167e-4f80-bb70-a990cf7dfa10",
   "metadata": {},
   "outputs": [
    {
     "name": "stderr",
     "output_type": "stream",
     "text": [
      "GPU available: True (cuda), used: True\n",
      "TPU available: False, using: 0 TPU cores\n",
      "IPU available: False, using: 0 IPUs\n",
      "HPU available: False, using: 0 HPUs\n"
     ]
    }
   ],
   "source": [
    "trainer = pl.Trainer(logger=logger, max_epochs=300,\n",
    "                     enable_progress_bar=True,\n",
    "                     log_every_n_steps=0,\n",
    "                     enable_checkpointing=False, \n",
    "                     callbacks=[pl.callbacks.TQDMProgressBar(refresh_rate=50)])"
   ]
  },
  {
   "cell_type": "code",
   "execution_count": 139,
   "id": "d247058d-55d7-4b63-b9c5-42e1e2764317",
   "metadata": {},
   "outputs": [
    {
     "name": "stderr",
     "output_type": "stream",
     "text": [
      "/opt/conda/lib/python3.11/site-packages/lightning/fabric/loggers/csv_logs.py:195: UserWarning: Experiment logs directory lightning_logs/Open_Lab_5/demo-0 exists and is not empty. Previous log files in this directory will be deleted when the new ones are saved!\n",
      "  rank_zero_warn(\n",
      "LOCAL_RANK: 0 - CUDA_VISIBLE_DEVICES: [0]\n",
      "SLURM auto-requeueing enabled. Setting signal handlers.\n"
     ]
    },
    {
     "data": {
      "application/vnd.jupyter.widget-view+json": {
       "model_id": "f08748c740274087959ee684674204ab",
       "version_major": 2,
       "version_minor": 0
      },
      "text/plain": [
       "Validation: 0it [00:00, ?it/s]"
      ]
     },
     "metadata": {},
     "output_type": "display_data"
    },
    {
     "name": "stderr",
     "output_type": "stream",
     "text": [
      "/opt/conda/lib/python3.11/site-packages/torch/nn/modules/activation.py:1160: UserWarning: Converting mask without torch.bool dtype to bool; this will negatively affect performance. Prefer to use a boolean mask directly. (Triggered internally at ../aten/src/ATen/native/transformers/attention.cpp:150.)\n",
      "  return torch._native_multi_head_attention(\n"
     ]
    },
    {
     "data": {
      "text/html": [
       "<pre style=\"white-space:pre;overflow-x:auto;line-height:normal;font-family:Menlo,'DejaVu Sans Mono',consolas,'Courier New',monospace\">┏━━━━━━━━━━━━━━━━━━━━━━━━━━━┳━━━━━━━━━━━━━━━━━━━━━━━━━━━┓\n",
       "┃<span style=\"font-weight: bold\">  Runningstage.validating  </span>┃<span style=\"font-weight: bold\">                           </span>┃\n",
       "┃<span style=\"font-weight: bold\">          metric           </span>┃<span style=\"font-weight: bold\">       DataLoader 0        </span>┃\n",
       "┡━━━━━━━━━━━━━━━━━━━━━━━━━━━╇━━━━━━━━━━━━━━━━━━━━━━━━━━━┩\n",
       "│<span style=\"color: #008080; text-decoration-color: #008080\">          val_acc          </span>│<span style=\"color: #800080; text-decoration-color: #800080\">   0.021233370527625084    </span>│\n",
       "│<span style=\"color: #008080; text-decoration-color: #008080\">         val_loss          </span>│<span style=\"color: #800080; text-decoration-color: #800080\">     4.92318058013916      </span>│\n",
       "└───────────────────────────┴───────────────────────────┘\n",
       "</pre>\n"
      ],
      "text/plain": [
       "┏━━━━━━━━━━━━━━━━━━━━━━━━━━━┳━━━━━━━━━━━━━━━━━━━━━━━━━━━┓\n",
       "┃\u001b[1m \u001b[0m\u001b[1m Runningstage.validating \u001b[0m\u001b[1m \u001b[0m┃\u001b[1m                           \u001b[0m┃\n",
       "┃\u001b[1m \u001b[0m\u001b[1m         metric          \u001b[0m\u001b[1m \u001b[0m┃\u001b[1m \u001b[0m\u001b[1m      DataLoader 0       \u001b[0m\u001b[1m \u001b[0m┃\n",
       "┡━━━━━━━━━━━━━━━━━━━━━━━━━━━╇━━━━━━━━━━━━━━━━━━━━━━━━━━━┩\n",
       "│\u001b[36m \u001b[0m\u001b[36m         val_acc         \u001b[0m\u001b[36m \u001b[0m│\u001b[35m \u001b[0m\u001b[35m  0.021233370527625084   \u001b[0m\u001b[35m \u001b[0m│\n",
       "│\u001b[36m \u001b[0m\u001b[36m        val_loss         \u001b[0m\u001b[36m \u001b[0m│\u001b[35m \u001b[0m\u001b[35m    4.92318058013916     \u001b[0m\u001b[35m \u001b[0m│\n",
       "└───────────────────────────┴───────────────────────────┘\n"
      ]
     },
     "metadata": {},
     "output_type": "display_data"
    },
    {
     "data": {
      "text/plain": [
       "[{'val_acc': 0.021233370527625084, 'val_loss': 4.92318058013916}]"
      ]
     },
     "execution_count": 139,
     "metadata": {},
     "output_type": "execute_result"
    }
   ],
   "source": [
    "trainer.validate(enc_dec_net, xy_val)"
   ]
  },
  {
   "cell_type": "code",
   "execution_count": 140,
   "id": "00ad1d95-a6b8-4530-8172-6677a4559f03",
   "metadata": {},
   "outputs": [
    {
     "name": "stderr",
     "output_type": "stream",
     "text": [
      "LOCAL_RANK: 0 - CUDA_VISIBLE_DEVICES: [0]\n",
      "SLURM auto-requeueing enabled. Setting signal handlers.\n"
     ]
    },
    {
     "data": {
      "application/vnd.jupyter.widget-view+json": {
       "model_id": "cccce79fa0eb4b18a8089e3b5eb11994",
       "version_major": 2,
       "version_minor": 0
      },
      "text/plain": [
       "Testing: 0it [00:00, ?it/s]"
      ]
     },
     "metadata": {},
     "output_type": "display_data"
    },
    {
     "data": {
      "text/html": [
       "<pre style=\"white-space:pre;overflow-x:auto;line-height:normal;font-family:Menlo,'DejaVu Sans Mono',consolas,'Courier New',monospace\">┏━━━━━━━━━━━━━━━━━━━━━━━━━━━┳━━━━━━━━━━━━━━━━━━━━━━━━━━━┓\n",
       "┃<span style=\"font-weight: bold\">   Runningstage.testing    </span>┃<span style=\"font-weight: bold\">                           </span>┃\n",
       "┃<span style=\"font-weight: bold\">          metric           </span>┃<span style=\"font-weight: bold\">       DataLoader 0        </span>┃\n",
       "┡━━━━━━━━━━━━━━━━━━━━━━━━━━━╇━━━━━━━━━━━━━━━━━━━━━━━━━━━┩\n",
       "│<span style=\"color: #008080; text-decoration-color: #008080\">         test_acc          </span>│<span style=\"color: #800080; text-decoration-color: #800080\">   0.012511806562542915    </span>│\n",
       "│<span style=\"color: #008080; text-decoration-color: #008080\">         test_loss         </span>│<span style=\"color: #800080; text-decoration-color: #800080\">     5.009153842926025     </span>│\n",
       "└───────────────────────────┴───────────────────────────┘\n",
       "</pre>\n"
      ],
      "text/plain": [
       "┏━━━━━━━━━━━━━━━━━━━━━━━━━━━┳━━━━━━━━━━━━━━━━━━━━━━━━━━━┓\n",
       "┃\u001b[1m \u001b[0m\u001b[1m  Runningstage.testing   \u001b[0m\u001b[1m \u001b[0m┃\u001b[1m                           \u001b[0m┃\n",
       "┃\u001b[1m \u001b[0m\u001b[1m         metric          \u001b[0m\u001b[1m \u001b[0m┃\u001b[1m \u001b[0m\u001b[1m      DataLoader 0       \u001b[0m\u001b[1m \u001b[0m┃\n",
       "┡━━━━━━━━━━━━━━━━━━━━━━━━━━━╇━━━━━━━━━━━━━━━━━━━━━━━━━━━┩\n",
       "│\u001b[36m \u001b[0m\u001b[36m        test_acc         \u001b[0m\u001b[36m \u001b[0m│\u001b[35m \u001b[0m\u001b[35m  0.012511806562542915   \u001b[0m\u001b[35m \u001b[0m│\n",
       "│\u001b[36m \u001b[0m\u001b[36m        test_loss        \u001b[0m\u001b[36m \u001b[0m│\u001b[35m \u001b[0m\u001b[35m    5.009153842926025    \u001b[0m\u001b[35m \u001b[0m│\n",
       "└───────────────────────────┴───────────────────────────┘\n"
      ]
     },
     "metadata": {},
     "output_type": "display_data"
    },
    {
     "data": {
      "text/plain": [
       "[{'test_acc': 0.012511806562542915, 'test_loss': 5.009153842926025}]"
      ]
     },
     "execution_count": 140,
     "metadata": {},
     "output_type": "execute_result"
    }
   ],
   "source": [
    "trainer.test(enc_dec_net, xy_val)"
   ]
  },
  {
   "cell_type": "code",
   "execution_count": null,
   "id": "1335279e-ca22-4d4e-b66d-c20a226b981b",
   "metadata": {},
   "outputs": [
    {
     "name": "stderr",
     "output_type": "stream",
     "text": [
      "LOCAL_RANK: 0 - CUDA_VISIBLE_DEVICES: [0]\n",
      "\n",
      "  | Name     | Type               | Params\n",
      "------------------------------------------------\n",
      "0 | mc_acc   | MulticlassAccuracy | 0     \n",
      "1 | cce_loss | CrossEntropyLoss   | 0     \n",
      "2 | enc_net  | EncoderNetwork     | 91.8 K\n",
      "3 | dec_net  | DecoderNetwork     | 165 K \n",
      "------------------------------------------------\n",
      "257 K     Trainable params\n",
      "0         Non-trainable params\n",
      "257 K     Total params\n",
      "1.029     Total estimated model params size (MB)\n",
      "SLURM auto-requeueing enabled. Setting signal handlers.\n"
     ]
    },
    {
     "data": {
      "application/vnd.jupyter.widget-view+json": {
       "model_id": "",
       "version_major": 2,
       "version_minor": 0
      },
      "text/plain": [
       "Sanity Checking: 0it [00:00, ?it/s]"
      ]
     },
     "metadata": {},
     "output_type": "display_data"
    },
    {
     "data": {
      "application/vnd.jupyter.widget-view+json": {
       "model_id": "da35b8488597474fa07e1915181b1f26",
       "version_major": 2,
       "version_minor": 0
      },
      "text/plain": [
       "Training: 0it [00:00, ?it/s]"
      ]
     },
     "metadata": {},
     "output_type": "display_data"
    },
    {
     "data": {
      "application/vnd.jupyter.widget-view+json": {
       "model_id": "",
       "version_major": 2,
       "version_minor": 0
      },
      "text/plain": [
       "Validation: 0it [00:00, ?it/s]"
      ]
     },
     "metadata": {},
     "output_type": "display_data"
    },
    {
     "data": {
      "application/vnd.jupyter.widget-view+json": {
       "model_id": "",
       "version_major": 2,
       "version_minor": 0
      },
      "text/plain": [
       "Validation: 0it [00:00, ?it/s]"
      ]
     },
     "metadata": {},
     "output_type": "display_data"
    },
    {
     "data": {
      "application/vnd.jupyter.widget-view+json": {
       "model_id": "",
       "version_major": 2,
       "version_minor": 0
      },
      "text/plain": [
       "Validation: 0it [00:00, ?it/s]"
      ]
     },
     "metadata": {},
     "output_type": "display_data"
    },
    {
     "data": {
      "application/vnd.jupyter.widget-view+json": {
       "model_id": "",
       "version_major": 2,
       "version_minor": 0
      },
      "text/plain": [
       "Validation: 0it [00:00, ?it/s]"
      ]
     },
     "metadata": {},
     "output_type": "display_data"
    },
    {
     "data": {
      "application/vnd.jupyter.widget-view+json": {
       "model_id": "",
       "version_major": 2,
       "version_minor": 0
      },
      "text/plain": [
       "Validation: 0it [00:00, ?it/s]"
      ]
     },
     "metadata": {},
     "output_type": "display_data"
    },
    {
     "data": {
      "application/vnd.jupyter.widget-view+json": {
       "model_id": "",
       "version_major": 2,
       "version_minor": 0
      },
      "text/plain": [
       "Validation: 0it [00:00, ?it/s]"
      ]
     },
     "metadata": {},
     "output_type": "display_data"
    },
    {
     "data": {
      "application/vnd.jupyter.widget-view+json": {
       "model_id": "",
       "version_major": 2,
       "version_minor": 0
      },
      "text/plain": [
       "Validation: 0it [00:00, ?it/s]"
      ]
     },
     "metadata": {},
     "output_type": "display_data"
    },
    {
     "data": {
      "application/vnd.jupyter.widget-view+json": {
       "model_id": "",
       "version_major": 2,
       "version_minor": 0
      },
      "text/plain": [
       "Validation: 0it [00:00, ?it/s]"
      ]
     },
     "metadata": {},
     "output_type": "display_data"
    },
    {
     "data": {
      "application/vnd.jupyter.widget-view+json": {
       "model_id": "",
       "version_major": 2,
       "version_minor": 0
      },
      "text/plain": [
       "Validation: 0it [00:00, ?it/s]"
      ]
     },
     "metadata": {},
     "output_type": "display_data"
    },
    {
     "data": {
      "application/vnd.jupyter.widget-view+json": {
       "model_id": "",
       "version_major": 2,
       "version_minor": 0
      },
      "text/plain": [
       "Validation: 0it [00:00, ?it/s]"
      ]
     },
     "metadata": {},
     "output_type": "display_data"
    },
    {
     "data": {
      "application/vnd.jupyter.widget-view+json": {
       "model_id": "",
       "version_major": 2,
       "version_minor": 0
      },
      "text/plain": [
       "Validation: 0it [00:00, ?it/s]"
      ]
     },
     "metadata": {},
     "output_type": "display_data"
    },
    {
     "data": {
      "application/vnd.jupyter.widget-view+json": {
       "model_id": "",
       "version_major": 2,
       "version_minor": 0
      },
      "text/plain": [
       "Validation: 0it [00:00, ?it/s]"
      ]
     },
     "metadata": {},
     "output_type": "display_data"
    },
    {
     "data": {
      "application/vnd.jupyter.widget-view+json": {
       "model_id": "",
       "version_major": 2,
       "version_minor": 0
      },
      "text/plain": [
       "Validation: 0it [00:00, ?it/s]"
      ]
     },
     "metadata": {},
     "output_type": "display_data"
    },
    {
     "data": {
      "application/vnd.jupyter.widget-view+json": {
       "model_id": "",
       "version_major": 2,
       "version_minor": 0
      },
      "text/plain": [
       "Validation: 0it [00:00, ?it/s]"
      ]
     },
     "metadata": {},
     "output_type": "display_data"
    },
    {
     "data": {
      "application/vnd.jupyter.widget-view+json": {
       "model_id": "",
       "version_major": 2,
       "version_minor": 0
      },
      "text/plain": [
       "Validation: 0it [00:00, ?it/s]"
      ]
     },
     "metadata": {},
     "output_type": "display_data"
    },
    {
     "data": {
      "application/vnd.jupyter.widget-view+json": {
       "model_id": "",
       "version_major": 2,
       "version_minor": 0
      },
      "text/plain": [
       "Validation: 0it [00:00, ?it/s]"
      ]
     },
     "metadata": {},
     "output_type": "display_data"
    },
    {
     "data": {
      "application/vnd.jupyter.widget-view+json": {
       "model_id": "",
       "version_major": 2,
       "version_minor": 0
      },
      "text/plain": [
       "Validation: 0it [00:00, ?it/s]"
      ]
     },
     "metadata": {},
     "output_type": "display_data"
    },
    {
     "data": {
      "application/vnd.jupyter.widget-view+json": {
       "model_id": "",
       "version_major": 2,
       "version_minor": 0
      },
      "text/plain": [
       "Validation: 0it [00:00, ?it/s]"
      ]
     },
     "metadata": {},
     "output_type": "display_data"
    },
    {
     "data": {
      "application/vnd.jupyter.widget-view+json": {
       "model_id": "",
       "version_major": 2,
       "version_minor": 0
      },
      "text/plain": [
       "Validation: 0it [00:00, ?it/s]"
      ]
     },
     "metadata": {},
     "output_type": "display_data"
    },
    {
     "data": {
      "application/vnd.jupyter.widget-view+json": {
       "model_id": "",
       "version_major": 2,
       "version_minor": 0
      },
      "text/plain": [
       "Validation: 0it [00:00, ?it/s]"
      ]
     },
     "metadata": {},
     "output_type": "display_data"
    },
    {
     "data": {
      "application/vnd.jupyter.widget-view+json": {
       "model_id": "",
       "version_major": 2,
       "version_minor": 0
      },
      "text/plain": [
       "Validation: 0it [00:00, ?it/s]"
      ]
     },
     "metadata": {},
     "output_type": "display_data"
    },
    {
     "data": {
      "application/vnd.jupyter.widget-view+json": {
       "model_id": "",
       "version_major": 2,
       "version_minor": 0
      },
      "text/plain": [
       "Validation: 0it [00:00, ?it/s]"
      ]
     },
     "metadata": {},
     "output_type": "display_data"
    },
    {
     "data": {
      "application/vnd.jupyter.widget-view+json": {
       "model_id": "",
       "version_major": 2,
       "version_minor": 0
      },
      "text/plain": [
       "Validation: 0it [00:00, ?it/s]"
      ]
     },
     "metadata": {},
     "output_type": "display_data"
    },
    {
     "data": {
      "application/vnd.jupyter.widget-view+json": {
       "model_id": "",
       "version_major": 2,
       "version_minor": 0
      },
      "text/plain": [
       "Validation: 0it [00:00, ?it/s]"
      ]
     },
     "metadata": {},
     "output_type": "display_data"
    },
    {
     "data": {
      "application/vnd.jupyter.widget-view+json": {
       "model_id": "",
       "version_major": 2,
       "version_minor": 0
      },
      "text/plain": [
       "Validation: 0it [00:00, ?it/s]"
      ]
     },
     "metadata": {},
     "output_type": "display_data"
    },
    {
     "data": {
      "application/vnd.jupyter.widget-view+json": {
       "model_id": "",
       "version_major": 2,
       "version_minor": 0
      },
      "text/plain": [
       "Validation: 0it [00:00, ?it/s]"
      ]
     },
     "metadata": {},
     "output_type": "display_data"
    },
    {
     "data": {
      "application/vnd.jupyter.widget-view+json": {
       "model_id": "",
       "version_major": 2,
       "version_minor": 0
      },
      "text/plain": [
       "Validation: 0it [00:00, ?it/s]"
      ]
     },
     "metadata": {},
     "output_type": "display_data"
    },
    {
     "data": {
      "application/vnd.jupyter.widget-view+json": {
       "model_id": "",
       "version_major": 2,
       "version_minor": 0
      },
      "text/plain": [
       "Validation: 0it [00:00, ?it/s]"
      ]
     },
     "metadata": {},
     "output_type": "display_data"
    },
    {
     "data": {
      "application/vnd.jupyter.widget-view+json": {
       "model_id": "",
       "version_major": 2,
       "version_minor": 0
      },
      "text/plain": [
       "Validation: 0it [00:00, ?it/s]"
      ]
     },
     "metadata": {},
     "output_type": "display_data"
    },
    {
     "data": {
      "application/vnd.jupyter.widget-view+json": {
       "model_id": "",
       "version_major": 2,
       "version_minor": 0
      },
      "text/plain": [
       "Validation: 0it [00:00, ?it/s]"
      ]
     },
     "metadata": {},
     "output_type": "display_data"
    },
    {
     "data": {
      "application/vnd.jupyter.widget-view+json": {
       "model_id": "",
       "version_major": 2,
       "version_minor": 0
      },
      "text/plain": [
       "Validation: 0it [00:00, ?it/s]"
      ]
     },
     "metadata": {},
     "output_type": "display_data"
    },
    {
     "data": {
      "application/vnd.jupyter.widget-view+json": {
       "model_id": "",
       "version_major": 2,
       "version_minor": 0
      },
      "text/plain": [
       "Validation: 0it [00:00, ?it/s]"
      ]
     },
     "metadata": {},
     "output_type": "display_data"
    },
    {
     "data": {
      "application/vnd.jupyter.widget-view+json": {
       "model_id": "",
       "version_major": 2,
       "version_minor": 0
      },
      "text/plain": [
       "Validation: 0it [00:00, ?it/s]"
      ]
     },
     "metadata": {},
     "output_type": "display_data"
    },
    {
     "data": {
      "application/vnd.jupyter.widget-view+json": {
       "model_id": "",
       "version_major": 2,
       "version_minor": 0
      },
      "text/plain": [
       "Validation: 0it [00:00, ?it/s]"
      ]
     },
     "metadata": {},
     "output_type": "display_data"
    },
    {
     "data": {
      "application/vnd.jupyter.widget-view+json": {
       "model_id": "",
       "version_major": 2,
       "version_minor": 0
      },
      "text/plain": [
       "Validation: 0it [00:00, ?it/s]"
      ]
     },
     "metadata": {},
     "output_type": "display_data"
    },
    {
     "data": {
      "application/vnd.jupyter.widget-view+json": {
       "model_id": "",
       "version_major": 2,
       "version_minor": 0
      },
      "text/plain": [
       "Validation: 0it [00:00, ?it/s]"
      ]
     },
     "metadata": {},
     "output_type": "display_data"
    },
    {
     "data": {
      "application/vnd.jupyter.widget-view+json": {
       "model_id": "",
       "version_major": 2,
       "version_minor": 0
      },
      "text/plain": [
       "Validation: 0it [00:00, ?it/s]"
      ]
     },
     "metadata": {},
     "output_type": "display_data"
    },
    {
     "data": {
      "application/vnd.jupyter.widget-view+json": {
       "model_id": "",
       "version_major": 2,
       "version_minor": 0
      },
      "text/plain": [
       "Validation: 0it [00:00, ?it/s]"
      ]
     },
     "metadata": {},
     "output_type": "display_data"
    },
    {
     "data": {
      "application/vnd.jupyter.widget-view+json": {
       "model_id": "",
       "version_major": 2,
       "version_minor": 0
      },
      "text/plain": [
       "Validation: 0it [00:00, ?it/s]"
      ]
     },
     "metadata": {},
     "output_type": "display_data"
    },
    {
     "data": {
      "application/vnd.jupyter.widget-view+json": {
       "model_id": "",
       "version_major": 2,
       "version_minor": 0
      },
      "text/plain": [
       "Validation: 0it [00:00, ?it/s]"
      ]
     },
     "metadata": {},
     "output_type": "display_data"
    },
    {
     "data": {
      "application/vnd.jupyter.widget-view+json": {
       "model_id": "",
       "version_major": 2,
       "version_minor": 0
      },
      "text/plain": [
       "Validation: 0it [00:00, ?it/s]"
      ]
     },
     "metadata": {},
     "output_type": "display_data"
    },
    {
     "data": {
      "application/vnd.jupyter.widget-view+json": {
       "model_id": "",
       "version_major": 2,
       "version_minor": 0
      },
      "text/plain": [
       "Validation: 0it [00:00, ?it/s]"
      ]
     },
     "metadata": {},
     "output_type": "display_data"
    },
    {
     "data": {
      "application/vnd.jupyter.widget-view+json": {
       "model_id": "",
       "version_major": 2,
       "version_minor": 0
      },
      "text/plain": [
       "Validation: 0it [00:00, ?it/s]"
      ]
     },
     "metadata": {},
     "output_type": "display_data"
    },
    {
     "data": {
      "application/vnd.jupyter.widget-view+json": {
       "model_id": "",
       "version_major": 2,
       "version_minor": 0
      },
      "text/plain": [
       "Validation: 0it [00:00, ?it/s]"
      ]
     },
     "metadata": {},
     "output_type": "display_data"
    },
    {
     "data": {
      "application/vnd.jupyter.widget-view+json": {
       "model_id": "",
       "version_major": 2,
       "version_minor": 0
      },
      "text/plain": [
       "Validation: 0it [00:00, ?it/s]"
      ]
     },
     "metadata": {},
     "output_type": "display_data"
    },
    {
     "data": {
      "application/vnd.jupyter.widget-view+json": {
       "model_id": "",
       "version_major": 2,
       "version_minor": 0
      },
      "text/plain": [
       "Validation: 0it [00:00, ?it/s]"
      ]
     },
     "metadata": {},
     "output_type": "display_data"
    },
    {
     "data": {
      "application/vnd.jupyter.widget-view+json": {
       "model_id": "",
       "version_major": 2,
       "version_minor": 0
      },
      "text/plain": [
       "Validation: 0it [00:00, ?it/s]"
      ]
     },
     "metadata": {},
     "output_type": "display_data"
    },
    {
     "data": {
      "application/vnd.jupyter.widget-view+json": {
       "model_id": "6021c6fb171742489623ac7659728ef9",
       "version_major": 2,
       "version_minor": 0
      },
      "text/plain": [
       "Validation: 0it [00:00, ?it/s]"
      ]
     },
     "metadata": {},
     "output_type": "display_data"
    },
    {
     "data": {
      "application/vnd.jupyter.widget-view+json": {
       "model_id": "6de6124994764a43bfc7f2f6de0f3ab9",
       "version_major": 2,
       "version_minor": 0
      },
      "text/plain": [
       "Validation: 0it [00:00, ?it/s]"
      ]
     },
     "metadata": {},
     "output_type": "display_data"
    },
    {
     "data": {
      "application/vnd.jupyter.widget-view+json": {
       "model_id": "85592647e02045c1bd09eb9da4dfe37c",
       "version_major": 2,
       "version_minor": 0
      },
      "text/plain": [
       "Validation: 0it [00:00, ?it/s]"
      ]
     },
     "metadata": {},
     "output_type": "display_data"
    },
    {
     "data": {
      "application/vnd.jupyter.widget-view+json": {
       "model_id": "96cc06ae49f2465e87d641a17255514f",
       "version_major": 2,
       "version_minor": 0
      },
      "text/plain": [
       "Validation: 0it [00:00, ?it/s]"
      ]
     },
     "metadata": {},
     "output_type": "display_data"
    },
    {
     "data": {
      "application/vnd.jupyter.widget-view+json": {
       "model_id": "f9a996ababd94d439e33929bf8178f2f",
       "version_major": 2,
       "version_minor": 0
      },
      "text/plain": [
       "Validation: 0it [00:00, ?it/s]"
      ]
     },
     "metadata": {},
     "output_type": "display_data"
    },
    {
     "data": {
      "application/vnd.jupyter.widget-view+json": {
       "model_id": "d5908ec2ca1344628e62aaa9595965fb",
       "version_major": 2,
       "version_minor": 0
      },
      "text/plain": [
       "Validation: 0it [00:00, ?it/s]"
      ]
     },
     "metadata": {},
     "output_type": "display_data"
    },
    {
     "data": {
      "application/vnd.jupyter.widget-view+json": {
       "model_id": "c45dc39844244dc2bc528b53d4a0e989",
       "version_major": 2,
       "version_minor": 0
      },
      "text/plain": [
       "Validation: 0it [00:00, ?it/s]"
      ]
     },
     "metadata": {},
     "output_type": "display_data"
    },
    {
     "data": {
      "application/vnd.jupyter.widget-view+json": {
       "model_id": "ee29875b01f74b16bb98c875e654fb4a",
       "version_major": 2,
       "version_minor": 0
      },
      "text/plain": [
       "Validation: 0it [00:00, ?it/s]"
      ]
     },
     "metadata": {},
     "output_type": "display_data"
    },
    {
     "data": {
      "application/vnd.jupyter.widget-view+json": {
       "model_id": "b177aee27b684838bb7dfb51858f73ce",
       "version_major": 2,
       "version_minor": 0
      },
      "text/plain": [
       "Validation: 0it [00:00, ?it/s]"
      ]
     },
     "metadata": {},
     "output_type": "display_data"
    },
    {
     "data": {
      "application/vnd.jupyter.widget-view+json": {
       "model_id": "a4d1fdfc977e489f82f6c3daf7763d52",
       "version_major": 2,
       "version_minor": 0
      },
      "text/plain": [
       "Validation: 0it [00:00, ?it/s]"
      ]
     },
     "metadata": {},
     "output_type": "display_data"
    },
    {
     "data": {
      "application/vnd.jupyter.widget-view+json": {
       "model_id": "6139b087a275405e8e75e049b11236ca",
       "version_major": 2,
       "version_minor": 0
      },
      "text/plain": [
       "Validation: 0it [00:00, ?it/s]"
      ]
     },
     "metadata": {},
     "output_type": "display_data"
    },
    {
     "data": {
      "application/vnd.jupyter.widget-view+json": {
       "model_id": "f838a28952a64eb38c7be9be0c77c1b0",
       "version_major": 2,
       "version_minor": 0
      },
      "text/plain": [
       "Validation: 0it [00:00, ?it/s]"
      ]
     },
     "metadata": {},
     "output_type": "display_data"
    },
    {
     "data": {
      "application/vnd.jupyter.widget-view+json": {
       "model_id": "bb437dc9f99f43daa16fd606e5c2f94c",
       "version_major": 2,
       "version_minor": 0
      },
      "text/plain": [
       "Validation: 0it [00:00, ?it/s]"
      ]
     },
     "metadata": {},
     "output_type": "display_data"
    },
    {
     "data": {
      "application/vnd.jupyter.widget-view+json": {
       "model_id": "7cb99fda1a7a42578df0ed53b7439298",
       "version_major": 2,
       "version_minor": 0
      },
      "text/plain": [
       "Validation: 0it [00:00, ?it/s]"
      ]
     },
     "metadata": {},
     "output_type": "display_data"
    },
    {
     "data": {
      "application/vnd.jupyter.widget-view+json": {
       "model_id": "9dcbe22b5b5c4a5cb848689b204751e7",
       "version_major": 2,
       "version_minor": 0
      },
      "text/plain": [
       "Validation: 0it [00:00, ?it/s]"
      ]
     },
     "metadata": {},
     "output_type": "display_data"
    },
    {
     "data": {
      "application/vnd.jupyter.widget-view+json": {
       "model_id": "95c195cef15f4f6faadae8b614068faa",
       "version_major": 2,
       "version_minor": 0
      },
      "text/plain": [
       "Validation: 0it [00:00, ?it/s]"
      ]
     },
     "metadata": {},
     "output_type": "display_data"
    },
    {
     "data": {
      "application/vnd.jupyter.widget-view+json": {
       "model_id": "35c6599a1dfc4eb8ae7001519914df36",
       "version_major": 2,
       "version_minor": 0
      },
      "text/plain": [
       "Validation: 0it [00:00, ?it/s]"
      ]
     },
     "metadata": {},
     "output_type": "display_data"
    },
    {
     "data": {
      "application/vnd.jupyter.widget-view+json": {
       "model_id": "470cbdcfcc394fa3b4023f674095a083",
       "version_major": 2,
       "version_minor": 0
      },
      "text/plain": [
       "Validation: 0it [00:00, ?it/s]"
      ]
     },
     "metadata": {},
     "output_type": "display_data"
    },
    {
     "data": {
      "application/vnd.jupyter.widget-view+json": {
       "model_id": "646dfe54da4d40a6b05b7a6d90b92695",
       "version_major": 2,
       "version_minor": 0
      },
      "text/plain": [
       "Validation: 0it [00:00, ?it/s]"
      ]
     },
     "metadata": {},
     "output_type": "display_data"
    },
    {
     "data": {
      "application/vnd.jupyter.widget-view+json": {
       "model_id": "23682b2b669345dca0058edae8fb7f8b",
       "version_major": 2,
       "version_minor": 0
      },
      "text/plain": [
       "Validation: 0it [00:00, ?it/s]"
      ]
     },
     "metadata": {},
     "output_type": "display_data"
    },
    {
     "data": {
      "application/vnd.jupyter.widget-view+json": {
       "model_id": "b2d2fa30b28248c9b42d375d90a0ee2e",
       "version_major": 2,
       "version_minor": 0
      },
      "text/plain": [
       "Validation: 0it [00:00, ?it/s]"
      ]
     },
     "metadata": {},
     "output_type": "display_data"
    },
    {
     "data": {
      "application/vnd.jupyter.widget-view+json": {
       "model_id": "7df9937ff3204547a038271359502db6",
       "version_major": 2,
       "version_minor": 0
      },
      "text/plain": [
       "Validation: 0it [00:00, ?it/s]"
      ]
     },
     "metadata": {},
     "output_type": "display_data"
    },
    {
     "data": {
      "application/vnd.jupyter.widget-view+json": {
       "model_id": "e67544dbda5a4b8fbb8a03fe15fa76c4",
       "version_major": 2,
       "version_minor": 0
      },
      "text/plain": [
       "Validation: 0it [00:00, ?it/s]"
      ]
     },
     "metadata": {},
     "output_type": "display_data"
    },
    {
     "data": {
      "application/vnd.jupyter.widget-view+json": {
       "model_id": "bda8cd385b5e4622a8300c09ff79f88f",
       "version_major": 2,
       "version_minor": 0
      },
      "text/plain": [
       "Validation: 0it [00:00, ?it/s]"
      ]
     },
     "metadata": {},
     "output_type": "display_data"
    },
    {
     "data": {
      "application/vnd.jupyter.widget-view+json": {
       "model_id": "fcd629b900b0405a8b7c1bc62763b6b7",
       "version_major": 2,
       "version_minor": 0
      },
      "text/plain": [
       "Validation: 0it [00:00, ?it/s]"
      ]
     },
     "metadata": {},
     "output_type": "display_data"
    },
    {
     "data": {
      "application/vnd.jupyter.widget-view+json": {
       "model_id": "59fe1afe67e24916ae8ea25f78dce2bd",
       "version_major": 2,
       "version_minor": 0
      },
      "text/plain": [
       "Validation: 0it [00:00, ?it/s]"
      ]
     },
     "metadata": {},
     "output_type": "display_data"
    },
    {
     "data": {
      "application/vnd.jupyter.widget-view+json": {
       "model_id": "21655e6735764f26bed52f7859f1a21c",
       "version_major": 2,
       "version_minor": 0
      },
      "text/plain": [
       "Validation: 0it [00:00, ?it/s]"
      ]
     },
     "metadata": {},
     "output_type": "display_data"
    },
    {
     "data": {
      "application/vnd.jupyter.widget-view+json": {
       "model_id": "ab0567969f68475fa0959e994ba2d355",
       "version_major": 2,
       "version_minor": 0
      },
      "text/plain": [
       "Validation: 0it [00:00, ?it/s]"
      ]
     },
     "metadata": {},
     "output_type": "display_data"
    },
    {
     "data": {
      "application/vnd.jupyter.widget-view+json": {
       "model_id": "290b01f7a2804a72924ab54195887048",
       "version_major": 2,
       "version_minor": 0
      },
      "text/plain": [
       "Validation: 0it [00:00, ?it/s]"
      ]
     },
     "metadata": {},
     "output_type": "display_data"
    },
    {
     "data": {
      "application/vnd.jupyter.widget-view+json": {
       "model_id": "a3dc17a3819543ecad68828f14e0a4ce",
       "version_major": 2,
       "version_minor": 0
      },
      "text/plain": [
       "Validation: 0it [00:00, ?it/s]"
      ]
     },
     "metadata": {},
     "output_type": "display_data"
    },
    {
     "data": {
      "application/vnd.jupyter.widget-view+json": {
       "model_id": "84d82407d8ac493fbaa251ebd51804a7",
       "version_major": 2,
       "version_minor": 0
      },
      "text/plain": [
       "Validation: 0it [00:00, ?it/s]"
      ]
     },
     "metadata": {},
     "output_type": "display_data"
    },
    {
     "data": {
      "application/vnd.jupyter.widget-view+json": {
       "model_id": "7509096ea5eb4a59b1373189b8d07bda",
       "version_major": 2,
       "version_minor": 0
      },
      "text/plain": [
       "Validation: 0it [00:00, ?it/s]"
      ]
     },
     "metadata": {},
     "output_type": "display_data"
    },
    {
     "data": {
      "application/vnd.jupyter.widget-view+json": {
       "model_id": "6fecf52cb81a41a892cf8c18d8126bda",
       "version_major": 2,
       "version_minor": 0
      },
      "text/plain": [
       "Validation: 0it [00:00, ?it/s]"
      ]
     },
     "metadata": {},
     "output_type": "display_data"
    },
    {
     "data": {
      "application/vnd.jupyter.widget-view+json": {
       "model_id": "f7cee1dc442a4669b63e7d030420c60f",
       "version_major": 2,
       "version_minor": 0
      },
      "text/plain": [
       "Validation: 0it [00:00, ?it/s]"
      ]
     },
     "metadata": {},
     "output_type": "display_data"
    },
    {
     "data": {
      "application/vnd.jupyter.widget-view+json": {
       "model_id": "09990d5ae9a445e28236625780ea4c66",
       "version_major": 2,
       "version_minor": 0
      },
      "text/plain": [
       "Validation: 0it [00:00, ?it/s]"
      ]
     },
     "metadata": {},
     "output_type": "display_data"
    },
    {
     "data": {
      "application/vnd.jupyter.widget-view+json": {
       "model_id": "c78a3789974348039e65b99774c8fb29",
       "version_major": 2,
       "version_minor": 0
      },
      "text/plain": [
       "Validation: 0it [00:00, ?it/s]"
      ]
     },
     "metadata": {},
     "output_type": "display_data"
    },
    {
     "data": {
      "application/vnd.jupyter.widget-view+json": {
       "model_id": "165ff66dde8948b9abc02a1279da11ed",
       "version_major": 2,
       "version_minor": 0
      },
      "text/plain": [
       "Validation: 0it [00:00, ?it/s]"
      ]
     },
     "metadata": {},
     "output_type": "display_data"
    },
    {
     "data": {
      "application/vnd.jupyter.widget-view+json": {
       "model_id": "2585d39c5e84403181be3734c8a679a5",
       "version_major": 2,
       "version_minor": 0
      },
      "text/plain": [
       "Validation: 0it [00:00, ?it/s]"
      ]
     },
     "metadata": {},
     "output_type": "display_data"
    },
    {
     "data": {
      "application/vnd.jupyter.widget-view+json": {
       "model_id": "b8fca539ec4a475c8377524e39ab1d3a",
       "version_major": 2,
       "version_minor": 0
      },
      "text/plain": [
       "Validation: 0it [00:00, ?it/s]"
      ]
     },
     "metadata": {},
     "output_type": "display_data"
    },
    {
     "data": {
      "application/vnd.jupyter.widget-view+json": {
       "model_id": "87bccf29764648a9b6bec63b18d66b1d",
       "version_major": 2,
       "version_minor": 0
      },
      "text/plain": [
       "Validation: 0it [00:00, ?it/s]"
      ]
     },
     "metadata": {},
     "output_type": "display_data"
    },
    {
     "data": {
      "application/vnd.jupyter.widget-view+json": {
       "model_id": "15d98b6d37ea450c881796ec55e880fb",
       "version_major": 2,
       "version_minor": 0
      },
      "text/plain": [
       "Validation: 0it [00:00, ?it/s]"
      ]
     },
     "metadata": {},
     "output_type": "display_data"
    },
    {
     "data": {
      "application/vnd.jupyter.widget-view+json": {
       "model_id": "9f617b6129884016ae69a50e1ff8f25b",
       "version_major": 2,
       "version_minor": 0
      },
      "text/plain": [
       "Validation: 0it [00:00, ?it/s]"
      ]
     },
     "metadata": {},
     "output_type": "display_data"
    },
    {
     "data": {
      "application/vnd.jupyter.widget-view+json": {
       "model_id": "6c1eef27038743a08a48f7884f7824c6",
       "version_major": 2,
       "version_minor": 0
      },
      "text/plain": [
       "Validation: 0it [00:00, ?it/s]"
      ]
     },
     "metadata": {},
     "output_type": "display_data"
    },
    {
     "data": {
      "application/vnd.jupyter.widget-view+json": {
       "model_id": "aafdb71c4b7b4e609fc47606d70d1b51",
       "version_major": 2,
       "version_minor": 0
      },
      "text/plain": [
       "Validation: 0it [00:00, ?it/s]"
      ]
     },
     "metadata": {},
     "output_type": "display_data"
    },
    {
     "data": {
      "application/vnd.jupyter.widget-view+json": {
       "model_id": "49ce1ad576b540ea8d3a9a0b840a6ee6",
       "version_major": 2,
       "version_minor": 0
      },
      "text/plain": [
       "Validation: 0it [00:00, ?it/s]"
      ]
     },
     "metadata": {},
     "output_type": "display_data"
    },
    {
     "data": {
      "application/vnd.jupyter.widget-view+json": {
       "model_id": "64b2df7b8d4f4e76a995b13ca915e5bd",
       "version_major": 2,
       "version_minor": 0
      },
      "text/plain": [
       "Validation: 0it [00:00, ?it/s]"
      ]
     },
     "metadata": {},
     "output_type": "display_data"
    },
    {
     "data": {
      "application/vnd.jupyter.widget-view+json": {
       "model_id": "044eeda11e9e46ff8d1728abb941fb5e",
       "version_major": 2,
       "version_minor": 0
      },
      "text/plain": [
       "Validation: 0it [00:00, ?it/s]"
      ]
     },
     "metadata": {},
     "output_type": "display_data"
    },
    {
     "data": {
      "application/vnd.jupyter.widget-view+json": {
       "model_id": "13657e7d92f34b61b4183120282e3241",
       "version_major": 2,
       "version_minor": 0
      },
      "text/plain": [
       "Validation: 0it [00:00, ?it/s]"
      ]
     },
     "metadata": {},
     "output_type": "display_data"
    },
    {
     "data": {
      "application/vnd.jupyter.widget-view+json": {
       "model_id": "9681d130e3c34bbd9aeb85e9d7609e6b",
       "version_major": 2,
       "version_minor": 0
      },
      "text/plain": [
       "Validation: 0it [00:00, ?it/s]"
      ]
     },
     "metadata": {},
     "output_type": "display_data"
    },
    {
     "data": {
      "application/vnd.jupyter.widget-view+json": {
       "model_id": "28eeeae0d1f84e5182451976a1954d09",
       "version_major": 2,
       "version_minor": 0
      },
      "text/plain": [
       "Validation: 0it [00:00, ?it/s]"
      ]
     },
     "metadata": {},
     "output_type": "display_data"
    },
    {
     "data": {
      "application/vnd.jupyter.widget-view+json": {
       "model_id": "822015edf8c442b68f9badff7257b31e",
       "version_major": 2,
       "version_minor": 0
      },
      "text/plain": [
       "Validation: 0it [00:00, ?it/s]"
      ]
     },
     "metadata": {},
     "output_type": "display_data"
    },
    {
     "data": {
      "application/vnd.jupyter.widget-view+json": {
       "model_id": "bbb49c2083694c65849168e63266801a",
       "version_major": 2,
       "version_minor": 0
      },
      "text/plain": [
       "Validation: 0it [00:00, ?it/s]"
      ]
     },
     "metadata": {},
     "output_type": "display_data"
    },
    {
     "data": {
      "application/vnd.jupyter.widget-view+json": {
       "model_id": "ef46f81eaa5f4b208efad83b2a3247ee",
       "version_major": 2,
       "version_minor": 0
      },
      "text/plain": [
       "Validation: 0it [00:00, ?it/s]"
      ]
     },
     "metadata": {},
     "output_type": "display_data"
    },
    {
     "data": {
      "application/vnd.jupyter.widget-view+json": {
       "model_id": "a9bf4d75ae8b4efd9fc4f403fdd59363",
       "version_major": 2,
       "version_minor": 0
      },
      "text/plain": [
       "Validation: 0it [00:00, ?it/s]"
      ]
     },
     "metadata": {},
     "output_type": "display_data"
    },
    {
     "data": {
      "application/vnd.jupyter.widget-view+json": {
       "model_id": "caa528fc0de54e1a81fd0380c9da126a",
       "version_major": 2,
       "version_minor": 0
      },
      "text/plain": [
       "Validation: 0it [00:00, ?it/s]"
      ]
     },
     "metadata": {},
     "output_type": "display_data"
    },
    {
     "data": {
      "application/vnd.jupyter.widget-view+json": {
       "model_id": "0f466ba519214d0d92e5ee87ed675bf8",
       "version_major": 2,
       "version_minor": 0
      },
      "text/plain": [
       "Validation: 0it [00:00, ?it/s]"
      ]
     },
     "metadata": {},
     "output_type": "display_data"
    },
    {
     "data": {
      "application/vnd.jupyter.widget-view+json": {
       "model_id": "84ce52be85454d4a971f8066e86918bd",
       "version_major": 2,
       "version_minor": 0
      },
      "text/plain": [
       "Validation: 0it [00:00, ?it/s]"
      ]
     },
     "metadata": {},
     "output_type": "display_data"
    },
    {
     "data": {
      "application/vnd.jupyter.widget-view+json": {
       "model_id": "1924029997c34800a44e33054cfcf764",
       "version_major": 2,
       "version_minor": 0
      },
      "text/plain": [
       "Validation: 0it [00:00, ?it/s]"
      ]
     },
     "metadata": {},
     "output_type": "display_data"
    },
    {
     "data": {
      "application/vnd.jupyter.widget-view+json": {
       "model_id": "a8ecce8c598d469e94ab82bf15c7718e",
       "version_major": 2,
       "version_minor": 0
      },
      "text/plain": [
       "Validation: 0it [00:00, ?it/s]"
      ]
     },
     "metadata": {},
     "output_type": "display_data"
    },
    {
     "data": {
      "application/vnd.jupyter.widget-view+json": {
       "model_id": "c1c72ac7402d4fdea49eaef57ee0f0db",
       "version_major": 2,
       "version_minor": 0
      },
      "text/plain": [
       "Validation: 0it [00:00, ?it/s]"
      ]
     },
     "metadata": {},
     "output_type": "display_data"
    },
    {
     "data": {
      "application/vnd.jupyter.widget-view+json": {
       "model_id": "fa7b3a0e746d4a969baaf226accfc5d2",
       "version_major": 2,
       "version_minor": 0
      },
      "text/plain": [
       "Validation: 0it [00:00, ?it/s]"
      ]
     },
     "metadata": {},
     "output_type": "display_data"
    },
    {
     "data": {
      "application/vnd.jupyter.widget-view+json": {
       "model_id": "ec0ec1456e694a9bbb8a434c1bea9700",
       "version_major": 2,
       "version_minor": 0
      },
      "text/plain": [
       "Validation: 0it [00:00, ?it/s]"
      ]
     },
     "metadata": {},
     "output_type": "display_data"
    },
    {
     "data": {
      "application/vnd.jupyter.widget-view+json": {
       "model_id": "fc81f6e843e54bff94c0189bdc163e70",
       "version_major": 2,
       "version_minor": 0
      },
      "text/plain": [
       "Validation: 0it [00:00, ?it/s]"
      ]
     },
     "metadata": {},
     "output_type": "display_data"
    },
    {
     "data": {
      "application/vnd.jupyter.widget-view+json": {
       "model_id": "3c17cc17e1044a7384f2398977b54ea2",
       "version_major": 2,
       "version_minor": 0
      },
      "text/plain": [
       "Validation: 0it [00:00, ?it/s]"
      ]
     },
     "metadata": {},
     "output_type": "display_data"
    },
    {
     "data": {
      "application/vnd.jupyter.widget-view+json": {
       "model_id": "06dde4de15c441e0888f21c151904555",
       "version_major": 2,
       "version_minor": 0
      },
      "text/plain": [
       "Validation: 0it [00:00, ?it/s]"
      ]
     },
     "metadata": {},
     "output_type": "display_data"
    },
    {
     "data": {
      "application/vnd.jupyter.widget-view+json": {
       "model_id": "f2406e5905ee436284acbcd8f513cd55",
       "version_major": 2,
       "version_minor": 0
      },
      "text/plain": [
       "Validation: 0it [00:00, ?it/s]"
      ]
     },
     "metadata": {},
     "output_type": "display_data"
    },
    {
     "data": {
      "application/vnd.jupyter.widget-view+json": {
       "model_id": "124a3d0da6004ec8abbd763688e5665f",
       "version_major": 2,
       "version_minor": 0
      },
      "text/plain": [
       "Validation: 0it [00:00, ?it/s]"
      ]
     },
     "metadata": {},
     "output_type": "display_data"
    },
    {
     "data": {
      "application/vnd.jupyter.widget-view+json": {
       "model_id": "81075f1e676e45c9935d7671a2701799",
       "version_major": 2,
       "version_minor": 0
      },
      "text/plain": [
       "Validation: 0it [00:00, ?it/s]"
      ]
     },
     "metadata": {},
     "output_type": "display_data"
    },
    {
     "data": {
      "application/vnd.jupyter.widget-view+json": {
       "model_id": "a423cf79137a41f9ab155cb32c0a829d",
       "version_major": 2,
       "version_minor": 0
      },
      "text/plain": [
       "Validation: 0it [00:00, ?it/s]"
      ]
     },
     "metadata": {},
     "output_type": "display_data"
    },
    {
     "data": {
      "application/vnd.jupyter.widget-view+json": {
       "model_id": "f4f29ea89d9240c39061608a5aa52473",
       "version_major": 2,
       "version_minor": 0
      },
      "text/plain": [
       "Validation: 0it [00:00, ?it/s]"
      ]
     },
     "metadata": {},
     "output_type": "display_data"
    },
    {
     "data": {
      "application/vnd.jupyter.widget-view+json": {
       "model_id": "6127be0833d24654a68128faa8a2f993",
       "version_major": 2,
       "version_minor": 0
      },
      "text/plain": [
       "Validation: 0it [00:00, ?it/s]"
      ]
     },
     "metadata": {},
     "output_type": "display_data"
    },
    {
     "data": {
      "application/vnd.jupyter.widget-view+json": {
       "model_id": "5a3e5363d820446eaf84591436b27c06",
       "version_major": 2,
       "version_minor": 0
      },
      "text/plain": [
       "Validation: 0it [00:00, ?it/s]"
      ]
     },
     "metadata": {},
     "output_type": "display_data"
    },
    {
     "data": {
      "application/vnd.jupyter.widget-view+json": {
       "model_id": "a180e5d37b194d8492e1b7850ea4b5a0",
       "version_major": 2,
       "version_minor": 0
      },
      "text/plain": [
       "Validation: 0it [00:00, ?it/s]"
      ]
     },
     "metadata": {},
     "output_type": "display_data"
    },
    {
     "data": {
      "application/vnd.jupyter.widget-view+json": {
       "model_id": "ea8e688152334ff1a94ea8176f06af06",
       "version_major": 2,
       "version_minor": 0
      },
      "text/plain": [
       "Validation: 0it [00:00, ?it/s]"
      ]
     },
     "metadata": {},
     "output_type": "display_data"
    },
    {
     "data": {
      "application/vnd.jupyter.widget-view+json": {
       "model_id": "ecc590bcad0c460d8ead0feaae147273",
       "version_major": 2,
       "version_minor": 0
      },
      "text/plain": [
       "Validation: 0it [00:00, ?it/s]"
      ]
     },
     "metadata": {},
     "output_type": "display_data"
    },
    {
     "data": {
      "application/vnd.jupyter.widget-view+json": {
       "model_id": "b5680429e4f247d6a0379434591ddd18",
       "version_major": 2,
       "version_minor": 0
      },
      "text/plain": [
       "Validation: 0it [00:00, ?it/s]"
      ]
     },
     "metadata": {},
     "output_type": "display_data"
    },
    {
     "data": {
      "application/vnd.jupyter.widget-view+json": {
       "model_id": "88d7fd9a91e242bba8f0e1d212102b38",
       "version_major": 2,
       "version_minor": 0
      },
      "text/plain": [
       "Validation: 0it [00:00, ?it/s]"
      ]
     },
     "metadata": {},
     "output_type": "display_data"
    },
    {
     "data": {
      "application/vnd.jupyter.widget-view+json": {
       "model_id": "f6fe982045734f4c96d5dd10440e2575",
       "version_major": 2,
       "version_minor": 0
      },
      "text/plain": [
       "Validation: 0it [00:00, ?it/s]"
      ]
     },
     "metadata": {},
     "output_type": "display_data"
    },
    {
     "data": {
      "application/vnd.jupyter.widget-view+json": {
       "model_id": "935bb5c3aa404260898d5a834e78b2cc",
       "version_major": 2,
       "version_minor": 0
      },
      "text/plain": [
       "Validation: 0it [00:00, ?it/s]"
      ]
     },
     "metadata": {},
     "output_type": "display_data"
    },
    {
     "data": {
      "application/vnd.jupyter.widget-view+json": {
       "model_id": "da2e8c8898fa428ab3259a06c40cd490",
       "version_major": 2,
       "version_minor": 0
      },
      "text/plain": [
       "Validation: 0it [00:00, ?it/s]"
      ]
     },
     "metadata": {},
     "output_type": "display_data"
    },
    {
     "data": {
      "application/vnd.jupyter.widget-view+json": {
       "model_id": "26065f1d4ce648c3adc39f4b7de48d58",
       "version_major": 2,
       "version_minor": 0
      },
      "text/plain": [
       "Validation: 0it [00:00, ?it/s]"
      ]
     },
     "metadata": {},
     "output_type": "display_data"
    },
    {
     "data": {
      "application/vnd.jupyter.widget-view+json": {
       "model_id": "9923f48a2b824c1f99e0b3f79787d0dc",
       "version_major": 2,
       "version_minor": 0
      },
      "text/plain": [
       "Validation: 0it [00:00, ?it/s]"
      ]
     },
     "metadata": {},
     "output_type": "display_data"
    },
    {
     "data": {
      "application/vnd.jupyter.widget-view+json": {
       "model_id": "f7cbc70ce4064088881371cf6f9321af",
       "version_major": 2,
       "version_minor": 0
      },
      "text/plain": [
       "Validation: 0it [00:00, ?it/s]"
      ]
     },
     "metadata": {},
     "output_type": "display_data"
    },
    {
     "data": {
      "application/vnd.jupyter.widget-view+json": {
       "model_id": "f10209177ea7405ea12c7ef362431e54",
       "version_major": 2,
       "version_minor": 0
      },
      "text/plain": [
       "Validation: 0it [00:00, ?it/s]"
      ]
     },
     "metadata": {},
     "output_type": "display_data"
    },
    {
     "data": {
      "application/vnd.jupyter.widget-view+json": {
       "model_id": "169eac914d8542bf9acbb4732c75721d",
       "version_major": 2,
       "version_minor": 0
      },
      "text/plain": [
       "Validation: 0it [00:00, ?it/s]"
      ]
     },
     "metadata": {},
     "output_type": "display_data"
    },
    {
     "data": {
      "application/vnd.jupyter.widget-view+json": {
       "model_id": "f168450f014344beacbf66746b56bbe0",
       "version_major": 2,
       "version_minor": 0
      },
      "text/plain": [
       "Validation: 0it [00:00, ?it/s]"
      ]
     },
     "metadata": {},
     "output_type": "display_data"
    },
    {
     "data": {
      "application/vnd.jupyter.widget-view+json": {
       "model_id": "f7254f3f0c9f4ab7bbfa26a16f410451",
       "version_major": 2,
       "version_minor": 0
      },
      "text/plain": [
       "Validation: 0it [00:00, ?it/s]"
      ]
     },
     "metadata": {},
     "output_type": "display_data"
    },
    {
     "data": {
      "application/vnd.jupyter.widget-view+json": {
       "model_id": "bee074e50b5047b0bf872db9a4eb9387",
       "version_major": 2,
       "version_minor": 0
      },
      "text/plain": [
       "Validation: 0it [00:00, ?it/s]"
      ]
     },
     "metadata": {},
     "output_type": "display_data"
    },
    {
     "data": {
      "application/vnd.jupyter.widget-view+json": {
       "model_id": "1f5de9e3e6d44fd8a694a1f17f48269d",
       "version_major": 2,
       "version_minor": 0
      },
      "text/plain": [
       "Validation: 0it [00:00, ?it/s]"
      ]
     },
     "metadata": {},
     "output_type": "display_data"
    },
    {
     "data": {
      "application/vnd.jupyter.widget-view+json": {
       "model_id": "97db391c65cf49e3acfb59c7f51fafeb",
       "version_major": 2,
       "version_minor": 0
      },
      "text/plain": [
       "Validation: 0it [00:00, ?it/s]"
      ]
     },
     "metadata": {},
     "output_type": "display_data"
    },
    {
     "data": {
      "application/vnd.jupyter.widget-view+json": {
       "model_id": "cf980f36f8fe4a17b0bee68edea1988d",
       "version_major": 2,
       "version_minor": 0
      },
      "text/plain": [
       "Validation: 0it [00:00, ?it/s]"
      ]
     },
     "metadata": {},
     "output_type": "display_data"
    },
    {
     "data": {
      "application/vnd.jupyter.widget-view+json": {
       "model_id": "ae15228f2bf7412583f79b6d79e3e515",
       "version_major": 2,
       "version_minor": 0
      },
      "text/plain": [
       "Validation: 0it [00:00, ?it/s]"
      ]
     },
     "metadata": {},
     "output_type": "display_data"
    },
    {
     "data": {
      "application/vnd.jupyter.widget-view+json": {
       "model_id": "3cbaa601c8bf4b38bf8b08538adc48fc",
       "version_major": 2,
       "version_minor": 0
      },
      "text/plain": [
       "Validation: 0it [00:00, ?it/s]"
      ]
     },
     "metadata": {},
     "output_type": "display_data"
    },
    {
     "data": {
      "application/vnd.jupyter.widget-view+json": {
       "model_id": "656e2faa798a426d905f889fbd965ed1",
       "version_major": 2,
       "version_minor": 0
      },
      "text/plain": [
       "Validation: 0it [00:00, ?it/s]"
      ]
     },
     "metadata": {},
     "output_type": "display_data"
    },
    {
     "data": {
      "application/vnd.jupyter.widget-view+json": {
       "model_id": "3c57afccc1124e08bec3d5534520d91d",
       "version_major": 2,
       "version_minor": 0
      },
      "text/plain": [
       "Validation: 0it [00:00, ?it/s]"
      ]
     },
     "metadata": {},
     "output_type": "display_data"
    },
    {
     "data": {
      "application/vnd.jupyter.widget-view+json": {
       "model_id": "589e1dd7a9494ff0966022d6dcb8dc06",
       "version_major": 2,
       "version_minor": 0
      },
      "text/plain": [
       "Validation: 0it [00:00, ?it/s]"
      ]
     },
     "metadata": {},
     "output_type": "display_data"
    },
    {
     "data": {
      "application/vnd.jupyter.widget-view+json": {
       "model_id": "0021a7eca07140bbb31a96ca88aefbe6",
       "version_major": 2,
       "version_minor": 0
      },
      "text/plain": [
       "Validation: 0it [00:00, ?it/s]"
      ]
     },
     "metadata": {},
     "output_type": "display_data"
    },
    {
     "data": {
      "application/vnd.jupyter.widget-view+json": {
       "model_id": "7d182893f7e5475c91ffd42e41e32182",
       "version_major": 2,
       "version_minor": 0
      },
      "text/plain": [
       "Validation: 0it [00:00, ?it/s]"
      ]
     },
     "metadata": {},
     "output_type": "display_data"
    },
    {
     "data": {
      "application/vnd.jupyter.widget-view+json": {
       "model_id": "046a0f4fbace48068a5ac3b7472876b0",
       "version_major": 2,
       "version_minor": 0
      },
      "text/plain": [
       "Validation: 0it [00:00, ?it/s]"
      ]
     },
     "metadata": {},
     "output_type": "display_data"
    },
    {
     "data": {
      "application/vnd.jupyter.widget-view+json": {
       "model_id": "7e15f45305d248a188eef4a01dd9ac60",
       "version_major": 2,
       "version_minor": 0
      },
      "text/plain": [
       "Validation: 0it [00:00, ?it/s]"
      ]
     },
     "metadata": {},
     "output_type": "display_data"
    },
    {
     "data": {
      "application/vnd.jupyter.widget-view+json": {
       "model_id": "e6fd4ce50946416ba7dbc03854f53566",
       "version_major": 2,
       "version_minor": 0
      },
      "text/plain": [
       "Validation: 0it [00:00, ?it/s]"
      ]
     },
     "metadata": {},
     "output_type": "display_data"
    },
    {
     "data": {
      "application/vnd.jupyter.widget-view+json": {
       "model_id": "11ed7f4b890f4199b7ea345eb68314d0",
       "version_major": 2,
       "version_minor": 0
      },
      "text/plain": [
       "Validation: 0it [00:00, ?it/s]"
      ]
     },
     "metadata": {},
     "output_type": "display_data"
    },
    {
     "data": {
      "application/vnd.jupyter.widget-view+json": {
       "model_id": "ca000a18fd3243c4bd5bed271fd368b2",
       "version_major": 2,
       "version_minor": 0
      },
      "text/plain": [
       "Validation: 0it [00:00, ?it/s]"
      ]
     },
     "metadata": {},
     "output_type": "display_data"
    },
    {
     "data": {
      "application/vnd.jupyter.widget-view+json": {
       "model_id": "cc0012e287c341fc8a4237ba510987a1",
       "version_major": 2,
       "version_minor": 0
      },
      "text/plain": [
       "Validation: 0it [00:00, ?it/s]"
      ]
     },
     "metadata": {},
     "output_type": "display_data"
    },
    {
     "data": {
      "application/vnd.jupyter.widget-view+json": {
       "model_id": "18b981a9a0654e1cb3d6a11dc42e5ecf",
       "version_major": 2,
       "version_minor": 0
      },
      "text/plain": [
       "Validation: 0it [00:00, ?it/s]"
      ]
     },
     "metadata": {},
     "output_type": "display_data"
    },
    {
     "data": {
      "application/vnd.jupyter.widget-view+json": {
       "model_id": "e863657e508145ee800964fa3cb0f877",
       "version_major": 2,
       "version_minor": 0
      },
      "text/plain": [
       "Validation: 0it [00:00, ?it/s]"
      ]
     },
     "metadata": {},
     "output_type": "display_data"
    },
    {
     "data": {
      "application/vnd.jupyter.widget-view+json": {
       "model_id": "9320303ba8e04544b8b86f09bfab8a4b",
       "version_major": 2,
       "version_minor": 0
      },
      "text/plain": [
       "Validation: 0it [00:00, ?it/s]"
      ]
     },
     "metadata": {},
     "output_type": "display_data"
    },
    {
     "data": {
      "application/vnd.jupyter.widget-view+json": {
       "model_id": "fa88be9958554bd68036918adc9d8989",
       "version_major": 2,
       "version_minor": 0
      },
      "text/plain": [
       "Validation: 0it [00:00, ?it/s]"
      ]
     },
     "metadata": {},
     "output_type": "display_data"
    },
    {
     "data": {
      "application/vnd.jupyter.widget-view+json": {
       "model_id": "e93ae1a1a9984110a430f1847806d072",
       "version_major": 2,
       "version_minor": 0
      },
      "text/plain": [
       "Validation: 0it [00:00, ?it/s]"
      ]
     },
     "metadata": {},
     "output_type": "display_data"
    },
    {
     "data": {
      "application/vnd.jupyter.widget-view+json": {
       "model_id": "4e999184265042549309e57097c22fb6",
       "version_major": 2,
       "version_minor": 0
      },
      "text/plain": [
       "Validation: 0it [00:00, ?it/s]"
      ]
     },
     "metadata": {},
     "output_type": "display_data"
    },
    {
     "data": {
      "application/vnd.jupyter.widget-view+json": {
       "model_id": "429fb58113a64c5eaa43a4329d0e298d",
       "version_major": 2,
       "version_minor": 0
      },
      "text/plain": [
       "Validation: 0it [00:00, ?it/s]"
      ]
     },
     "metadata": {},
     "output_type": "display_data"
    },
    {
     "data": {
      "application/vnd.jupyter.widget-view+json": {
       "model_id": "cdfb9021004d4f14a0c1f27360513fbb",
       "version_major": 2,
       "version_minor": 0
      },
      "text/plain": [
       "Validation: 0it [00:00, ?it/s]"
      ]
     },
     "metadata": {},
     "output_type": "display_data"
    },
    {
     "data": {
      "application/vnd.jupyter.widget-view+json": {
       "model_id": "c2fe5ceaa33c40c2b3740b1c121a3172",
       "version_major": 2,
       "version_minor": 0
      },
      "text/plain": [
       "Validation: 0it [00:00, ?it/s]"
      ]
     },
     "metadata": {},
     "output_type": "display_data"
    },
    {
     "data": {
      "application/vnd.jupyter.widget-view+json": {
       "model_id": "bfcf4b0df8574945b115369a3bed1b49",
       "version_major": 2,
       "version_minor": 0
      },
      "text/plain": [
       "Validation: 0it [00:00, ?it/s]"
      ]
     },
     "metadata": {},
     "output_type": "display_data"
    },
    {
     "data": {
      "application/vnd.jupyter.widget-view+json": {
       "model_id": "6887cc6344074c36a1fb9a0b16ddacea",
       "version_major": 2,
       "version_minor": 0
      },
      "text/plain": [
       "Validation: 0it [00:00, ?it/s]"
      ]
     },
     "metadata": {},
     "output_type": "display_data"
    },
    {
     "data": {
      "application/vnd.jupyter.widget-view+json": {
       "model_id": "463136c4d32b4e4a8414b084187527f7",
       "version_major": 2,
       "version_minor": 0
      },
      "text/plain": [
       "Validation: 0it [00:00, ?it/s]"
      ]
     },
     "metadata": {},
     "output_type": "display_data"
    },
    {
     "data": {
      "application/vnd.jupyter.widget-view+json": {
       "model_id": "a4f8b7205fd54d3eaed2822fcd85759e",
       "version_major": 2,
       "version_minor": 0
      },
      "text/plain": [
       "Validation: 0it [00:00, ?it/s]"
      ]
     },
     "metadata": {},
     "output_type": "display_data"
    },
    {
     "data": {
      "application/vnd.jupyter.widget-view+json": {
       "model_id": "b9e69cb2c0064e02890699f16a6df6f7",
       "version_major": 2,
       "version_minor": 0
      },
      "text/plain": [
       "Validation: 0it [00:00, ?it/s]"
      ]
     },
     "metadata": {},
     "output_type": "display_data"
    },
    {
     "data": {
      "application/vnd.jupyter.widget-view+json": {
       "model_id": "f7df4af7a70b47db84f32ec9898fce5b",
       "version_major": 2,
       "version_minor": 0
      },
      "text/plain": [
       "Validation: 0it [00:00, ?it/s]"
      ]
     },
     "metadata": {},
     "output_type": "display_data"
    },
    {
     "data": {
      "application/vnd.jupyter.widget-view+json": {
       "model_id": "67afc3b97e0344b4aedb6481a3930006",
       "version_major": 2,
       "version_minor": 0
      },
      "text/plain": [
       "Validation: 0it [00:00, ?it/s]"
      ]
     },
     "metadata": {},
     "output_type": "display_data"
    },
    {
     "data": {
      "application/vnd.jupyter.widget-view+json": {
       "model_id": "fbb47746c65147fda324c8b1596f3941",
       "version_major": 2,
       "version_minor": 0
      },
      "text/plain": [
       "Validation: 0it [00:00, ?it/s]"
      ]
     },
     "metadata": {},
     "output_type": "display_data"
    },
    {
     "data": {
      "application/vnd.jupyter.widget-view+json": {
       "model_id": "ad1c8d5b3cdf4de8adbe6d77190b3b25",
       "version_major": 2,
       "version_minor": 0
      },
      "text/plain": [
       "Validation: 0it [00:00, ?it/s]"
      ]
     },
     "metadata": {},
     "output_type": "display_data"
    },
    {
     "data": {
      "application/vnd.jupyter.widget-view+json": {
       "model_id": "e75ee4c27d9541a8bbd0708f104f74d2",
       "version_major": 2,
       "version_minor": 0
      },
      "text/plain": [
       "Validation: 0it [00:00, ?it/s]"
      ]
     },
     "metadata": {},
     "output_type": "display_data"
    },
    {
     "data": {
      "application/vnd.jupyter.widget-view+json": {
       "model_id": "8aae450dc04c4d1c8fb10d61a2ab0e72",
       "version_major": 2,
       "version_minor": 0
      },
      "text/plain": [
       "Validation: 0it [00:00, ?it/s]"
      ]
     },
     "metadata": {},
     "output_type": "display_data"
    },
    {
     "data": {
      "application/vnd.jupyter.widget-view+json": {
       "model_id": "39f54f0d84624d738a9013a5aa17e2af",
       "version_major": 2,
       "version_minor": 0
      },
      "text/plain": [
       "Validation: 0it [00:00, ?it/s]"
      ]
     },
     "metadata": {},
     "output_type": "display_data"
    },
    {
     "data": {
      "application/vnd.jupyter.widget-view+json": {
       "model_id": "8461acab774847f59a3c664507d0f83f",
       "version_major": 2,
       "version_minor": 0
      },
      "text/plain": [
       "Validation: 0it [00:00, ?it/s]"
      ]
     },
     "metadata": {},
     "output_type": "display_data"
    },
    {
     "data": {
      "application/vnd.jupyter.widget-view+json": {
       "model_id": "a3c53b9be29e436e89ec1b30af437e0c",
       "version_major": 2,
       "version_minor": 0
      },
      "text/plain": [
       "Validation: 0it [00:00, ?it/s]"
      ]
     },
     "metadata": {},
     "output_type": "display_data"
    },
    {
     "data": {
      "application/vnd.jupyter.widget-view+json": {
       "model_id": "a23c213ad38f4eefbc55a555c843bacc",
       "version_major": 2,
       "version_minor": 0
      },
      "text/plain": [
       "Validation: 0it [00:00, ?it/s]"
      ]
     },
     "metadata": {},
     "output_type": "display_data"
    },
    {
     "data": {
      "application/vnd.jupyter.widget-view+json": {
       "model_id": "79adae431ff74d53899bf9caa4af9b63",
       "version_major": 2,
       "version_minor": 0
      },
      "text/plain": [
       "Validation: 0it [00:00, ?it/s]"
      ]
     },
     "metadata": {},
     "output_type": "display_data"
    },
    {
     "data": {
      "application/vnd.jupyter.widget-view+json": {
       "model_id": "6098faef34e34237b770ece4de3b81ab",
       "version_major": 2,
       "version_minor": 0
      },
      "text/plain": [
       "Validation: 0it [00:00, ?it/s]"
      ]
     },
     "metadata": {},
     "output_type": "display_data"
    },
    {
     "data": {
      "application/vnd.jupyter.widget-view+json": {
       "model_id": "e61c534a26bb4d978bd9dc716fd46577",
       "version_major": 2,
       "version_minor": 0
      },
      "text/plain": [
       "Validation: 0it [00:00, ?it/s]"
      ]
     },
     "metadata": {},
     "output_type": "display_data"
    },
    {
     "data": {
      "application/vnd.jupyter.widget-view+json": {
       "model_id": "04299b78b36a4ee4b3b5af82bef31ede",
       "version_major": 2,
       "version_minor": 0
      },
      "text/plain": [
       "Validation: 0it [00:00, ?it/s]"
      ]
     },
     "metadata": {},
     "output_type": "display_data"
    },
    {
     "data": {
      "application/vnd.jupyter.widget-view+json": {
       "model_id": "a5bd766037ce45e8806abc88e4efebbb",
       "version_major": 2,
       "version_minor": 0
      },
      "text/plain": [
       "Validation: 0it [00:00, ?it/s]"
      ]
     },
     "metadata": {},
     "output_type": "display_data"
    },
    {
     "data": {
      "application/vnd.jupyter.widget-view+json": {
       "model_id": "52d31eb441814990bb7ddfcde82db6be",
       "version_major": 2,
       "version_minor": 0
      },
      "text/plain": [
       "Validation: 0it [00:00, ?it/s]"
      ]
     },
     "metadata": {},
     "output_type": "display_data"
    },
    {
     "data": {
      "application/vnd.jupyter.widget-view+json": {
       "model_id": "5c9454c773d3491eb484a9ef4f6b17e9",
       "version_major": 2,
       "version_minor": 0
      },
      "text/plain": [
       "Validation: 0it [00:00, ?it/s]"
      ]
     },
     "metadata": {},
     "output_type": "display_data"
    },
    {
     "data": {
      "application/vnd.jupyter.widget-view+json": {
       "model_id": "d1afcc98b71542c4beac93e8ce384c4e",
       "version_major": 2,
       "version_minor": 0
      },
      "text/plain": [
       "Validation: 0it [00:00, ?it/s]"
      ]
     },
     "metadata": {},
     "output_type": "display_data"
    },
    {
     "data": {
      "application/vnd.jupyter.widget-view+json": {
       "model_id": "d9ac30c127924c3dbeb81ecf719e5b73",
       "version_major": 2,
       "version_minor": 0
      },
      "text/plain": [
       "Validation: 0it [00:00, ?it/s]"
      ]
     },
     "metadata": {},
     "output_type": "display_data"
    },
    {
     "data": {
      "application/vnd.jupyter.widget-view+json": {
       "model_id": "022a0c8618794bba84a3798514ddad46",
       "version_major": 2,
       "version_minor": 0
      },
      "text/plain": [
       "Validation: 0it [00:00, ?it/s]"
      ]
     },
     "metadata": {},
     "output_type": "display_data"
    },
    {
     "data": {
      "application/vnd.jupyter.widget-view+json": {
       "model_id": "c29e8fd4d20a41e0851232d3cb61cba8",
       "version_major": 2,
       "version_minor": 0
      },
      "text/plain": [
       "Validation: 0it [00:00, ?it/s]"
      ]
     },
     "metadata": {},
     "output_type": "display_data"
    },
    {
     "data": {
      "application/vnd.jupyter.widget-view+json": {
       "model_id": "e528142c86d24ac8b0d7d3a4adb11a0a",
       "version_major": 2,
       "version_minor": 0
      },
      "text/plain": [
       "Validation: 0it [00:00, ?it/s]"
      ]
     },
     "metadata": {},
     "output_type": "display_data"
    },
    {
     "data": {
      "application/vnd.jupyter.widget-view+json": {
       "model_id": "45c2fdebe0fc478287bf188ed4929364",
       "version_major": 2,
       "version_minor": 0
      },
      "text/plain": [
       "Validation: 0it [00:00, ?it/s]"
      ]
     },
     "metadata": {},
     "output_type": "display_data"
    },
    {
     "data": {
      "application/vnd.jupyter.widget-view+json": {
       "model_id": "d9a9a76685df4120ad2d2f34442505e0",
       "version_major": 2,
       "version_minor": 0
      },
      "text/plain": [
       "Validation: 0it [00:00, ?it/s]"
      ]
     },
     "metadata": {},
     "output_type": "display_data"
    },
    {
     "data": {
      "application/vnd.jupyter.widget-view+json": {
       "model_id": "8d57ed523b924efabc55ccf76c10f2bc",
       "version_major": 2,
       "version_minor": 0
      },
      "text/plain": [
       "Validation: 0it [00:00, ?it/s]"
      ]
     },
     "metadata": {},
     "output_type": "display_data"
    },
    {
     "data": {
      "application/vnd.jupyter.widget-view+json": {
       "model_id": "c3acf71b9fc84aa08d2e10e7bc6f2cda",
       "version_major": 2,
       "version_minor": 0
      },
      "text/plain": [
       "Validation: 0it [00:00, ?it/s]"
      ]
     },
     "metadata": {},
     "output_type": "display_data"
    },
    {
     "data": {
      "application/vnd.jupyter.widget-view+json": {
       "model_id": "6771135be276431b9acb09dadb43b5f6",
       "version_major": 2,
       "version_minor": 0
      },
      "text/plain": [
       "Validation: 0it [00:00, ?it/s]"
      ]
     },
     "metadata": {},
     "output_type": "display_data"
    },
    {
     "data": {
      "application/vnd.jupyter.widget-view+json": {
       "model_id": "e36e9290534340838b0eeb753e6a48dd",
       "version_major": 2,
       "version_minor": 0
      },
      "text/plain": [
       "Validation: 0it [00:00, ?it/s]"
      ]
     },
     "metadata": {},
     "output_type": "display_data"
    },
    {
     "data": {
      "application/vnd.jupyter.widget-view+json": {
       "model_id": "db19f89e3d7f4960b0be8e862c29fb57",
       "version_major": 2,
       "version_minor": 0
      },
      "text/plain": [
       "Validation: 0it [00:00, ?it/s]"
      ]
     },
     "metadata": {},
     "output_type": "display_data"
    },
    {
     "data": {
      "application/vnd.jupyter.widget-view+json": {
       "model_id": "49a30ba4d708471aaaca806ee3c9d190",
       "version_major": 2,
       "version_minor": 0
      },
      "text/plain": [
       "Validation: 0it [00:00, ?it/s]"
      ]
     },
     "metadata": {},
     "output_type": "display_data"
    },
    {
     "data": {
      "application/vnd.jupyter.widget-view+json": {
       "model_id": "e3807b21172842e2862c637fcb989e77",
       "version_major": 2,
       "version_minor": 0
      },
      "text/plain": [
       "Validation: 0it [00:00, ?it/s]"
      ]
     },
     "metadata": {},
     "output_type": "display_data"
    },
    {
     "data": {
      "application/vnd.jupyter.widget-view+json": {
       "model_id": "9b9df66d08774f458c1b82244105025b",
       "version_major": 2,
       "version_minor": 0
      },
      "text/plain": [
       "Validation: 0it [00:00, ?it/s]"
      ]
     },
     "metadata": {},
     "output_type": "display_data"
    },
    {
     "data": {
      "application/vnd.jupyter.widget-view+json": {
       "model_id": "73ac494a7efe4c1eadc3db690a7335ea",
       "version_major": 2,
       "version_minor": 0
      },
      "text/plain": [
       "Validation: 0it [00:00, ?it/s]"
      ]
     },
     "metadata": {},
     "output_type": "display_data"
    },
    {
     "data": {
      "application/vnd.jupyter.widget-view+json": {
       "model_id": "64e14fc0fd464ec88f4117d329e57dde",
       "version_major": 2,
       "version_minor": 0
      },
      "text/plain": [
       "Validation: 0it [00:00, ?it/s]"
      ]
     },
     "metadata": {},
     "output_type": "display_data"
    },
    {
     "data": {
      "application/vnd.jupyter.widget-view+json": {
       "model_id": "f837e86e883d486a97dafb5604d40b6f",
       "version_major": 2,
       "version_minor": 0
      },
      "text/plain": [
       "Validation: 0it [00:00, ?it/s]"
      ]
     },
     "metadata": {},
     "output_type": "display_data"
    },
    {
     "data": {
      "application/vnd.jupyter.widget-view+json": {
       "model_id": "cebadbc53bf44933ade67f0ca7b6b211",
       "version_major": 2,
       "version_minor": 0
      },
      "text/plain": [
       "Validation: 0it [00:00, ?it/s]"
      ]
     },
     "metadata": {},
     "output_type": "display_data"
    },
    {
     "data": {
      "application/vnd.jupyter.widget-view+json": {
       "model_id": "98e0f781cb6c468daef4ffa91fe8285b",
       "version_major": 2,
       "version_minor": 0
      },
      "text/plain": [
       "Validation: 0it [00:00, ?it/s]"
      ]
     },
     "metadata": {},
     "output_type": "display_data"
    },
    {
     "data": {
      "application/vnd.jupyter.widget-view+json": {
       "model_id": "3b2d7306d5ae437fb72abd7df73d66db",
       "version_major": 2,
       "version_minor": 0
      },
      "text/plain": [
       "Validation: 0it [00:00, ?it/s]"
      ]
     },
     "metadata": {},
     "output_type": "display_data"
    },
    {
     "data": {
      "application/vnd.jupyter.widget-view+json": {
       "model_id": "81c27ba8c8f241aa80473607c3c8539c",
       "version_major": 2,
       "version_minor": 0
      },
      "text/plain": [
       "Validation: 0it [00:00, ?it/s]"
      ]
     },
     "metadata": {},
     "output_type": "display_data"
    },
    {
     "data": {
      "application/vnd.jupyter.widget-view+json": {
       "model_id": "c9d1bfc723ce4593a85d3b3bf00b049a",
       "version_major": 2,
       "version_minor": 0
      },
      "text/plain": [
       "Validation: 0it [00:00, ?it/s]"
      ]
     },
     "metadata": {},
     "output_type": "display_data"
    },
    {
     "data": {
      "application/vnd.jupyter.widget-view+json": {
       "model_id": "25999b812a8a4c08851e59abf986bbf1",
       "version_major": 2,
       "version_minor": 0
      },
      "text/plain": [
       "Validation: 0it [00:00, ?it/s]"
      ]
     },
     "metadata": {},
     "output_type": "display_data"
    },
    {
     "data": {
      "application/vnd.jupyter.widget-view+json": {
       "model_id": "97a1d54d9f994d6e9dff674031e4204a",
       "version_major": 2,
       "version_minor": 0
      },
      "text/plain": [
       "Validation: 0it [00:00, ?it/s]"
      ]
     },
     "metadata": {},
     "output_type": "display_data"
    },
    {
     "data": {
      "application/vnd.jupyter.widget-view+json": {
       "model_id": "ff7c4f452d614f2ab5085de7cf147b1c",
       "version_major": 2,
       "version_minor": 0
      },
      "text/plain": [
       "Validation: 0it [00:00, ?it/s]"
      ]
     },
     "metadata": {},
     "output_type": "display_data"
    },
    {
     "data": {
      "application/vnd.jupyter.widget-view+json": {
       "model_id": "715a9aac190e4d9895a898c448c98c9b",
       "version_major": 2,
       "version_minor": 0
      },
      "text/plain": [
       "Validation: 0it [00:00, ?it/s]"
      ]
     },
     "metadata": {},
     "output_type": "display_data"
    },
    {
     "data": {
      "application/vnd.jupyter.widget-view+json": {
       "model_id": "2ed909b828b941f8b6dd4f10811a61eb",
       "version_major": 2,
       "version_minor": 0
      },
      "text/plain": [
       "Validation: 0it [00:00, ?it/s]"
      ]
     },
     "metadata": {},
     "output_type": "display_data"
    },
    {
     "data": {
      "application/vnd.jupyter.widget-view+json": {
       "model_id": "7b35349ae6724178a014bebe7dd03ce7",
       "version_major": 2,
       "version_minor": 0
      },
      "text/plain": [
       "Validation: 0it [00:00, ?it/s]"
      ]
     },
     "metadata": {},
     "output_type": "display_data"
    },
    {
     "data": {
      "application/vnd.jupyter.widget-view+json": {
       "model_id": "598684608861457091e0c54728e15195",
       "version_major": 2,
       "version_minor": 0
      },
      "text/plain": [
       "Validation: 0it [00:00, ?it/s]"
      ]
     },
     "metadata": {},
     "output_type": "display_data"
    },
    {
     "data": {
      "application/vnd.jupyter.widget-view+json": {
       "model_id": "469cf1cd1b19468e9808bc20a2dc953d",
       "version_major": 2,
       "version_minor": 0
      },
      "text/plain": [
       "Validation: 0it [00:00, ?it/s]"
      ]
     },
     "metadata": {},
     "output_type": "display_data"
    },
    {
     "data": {
      "application/vnd.jupyter.widget-view+json": {
       "model_id": "f69ff8fe20d04f2fa4876a04b90cd675",
       "version_major": 2,
       "version_minor": 0
      },
      "text/plain": [
       "Validation: 0it [00:00, ?it/s]"
      ]
     },
     "metadata": {},
     "output_type": "display_data"
    },
    {
     "data": {
      "application/vnd.jupyter.widget-view+json": {
       "model_id": "54e174abc3be4203b8a04f134a56fe08",
       "version_major": 2,
       "version_minor": 0
      },
      "text/plain": [
       "Validation: 0it [00:00, ?it/s]"
      ]
     },
     "metadata": {},
     "output_type": "display_data"
    },
    {
     "data": {
      "application/vnd.jupyter.widget-view+json": {
       "model_id": "80ccd847b6bc43e695a5092c55658538",
       "version_major": 2,
       "version_minor": 0
      },
      "text/plain": [
       "Validation: 0it [00:00, ?it/s]"
      ]
     },
     "metadata": {},
     "output_type": "display_data"
    },
    {
     "data": {
      "application/vnd.jupyter.widget-view+json": {
       "model_id": "fff915af00b54783beab5a72733e5855",
       "version_major": 2,
       "version_minor": 0
      },
      "text/plain": [
       "Validation: 0it [00:00, ?it/s]"
      ]
     },
     "metadata": {},
     "output_type": "display_data"
    },
    {
     "data": {
      "application/vnd.jupyter.widget-view+json": {
       "model_id": "241fdbb620dd47ca825742f780433cfc",
       "version_major": 2,
       "version_minor": 0
      },
      "text/plain": [
       "Validation: 0it [00:00, ?it/s]"
      ]
     },
     "metadata": {},
     "output_type": "display_data"
    },
    {
     "data": {
      "application/vnd.jupyter.widget-view+json": {
       "model_id": "05dc7f76d43a41fab45edc6e6a9e27ac",
       "version_major": 2,
       "version_minor": 0
      },
      "text/plain": [
       "Validation: 0it [00:00, ?it/s]"
      ]
     },
     "metadata": {},
     "output_type": "display_data"
    },
    {
     "data": {
      "application/vnd.jupyter.widget-view+json": {
       "model_id": "ff4e21c4039a463eb3830105f043fa85",
       "version_major": 2,
       "version_minor": 0
      },
      "text/plain": [
       "Validation: 0it [00:00, ?it/s]"
      ]
     },
     "metadata": {},
     "output_type": "display_data"
    },
    {
     "data": {
      "application/vnd.jupyter.widget-view+json": {
       "model_id": "02a6ce67fa174bafbf1f27d4111816c7",
       "version_major": 2,
       "version_minor": 0
      },
      "text/plain": [
       "Validation: 0it [00:00, ?it/s]"
      ]
     },
     "metadata": {},
     "output_type": "display_data"
    },
    {
     "data": {
      "application/vnd.jupyter.widget-view+json": {
       "model_id": "2bb3a4cd6af74f428b9f73d560c0e5c3",
       "version_major": 2,
       "version_minor": 0
      },
      "text/plain": [
       "Validation: 0it [00:00, ?it/s]"
      ]
     },
     "metadata": {},
     "output_type": "display_data"
    },
    {
     "data": {
      "application/vnd.jupyter.widget-view+json": {
       "model_id": "c95489d80cb1438896846642e8973bd0",
       "version_major": 2,
       "version_minor": 0
      },
      "text/plain": [
       "Validation: 0it [00:00, ?it/s]"
      ]
     },
     "metadata": {},
     "output_type": "display_data"
    },
    {
     "data": {
      "application/vnd.jupyter.widget-view+json": {
       "model_id": "26697a8a0402457abc4908c90187f47a",
       "version_major": 2,
       "version_minor": 0
      },
      "text/plain": [
       "Validation: 0it [00:00, ?it/s]"
      ]
     },
     "metadata": {},
     "output_type": "display_data"
    },
    {
     "data": {
      "application/vnd.jupyter.widget-view+json": {
       "model_id": "c714c83150104188b1c0ce1700c23cc2",
       "version_major": 2,
       "version_minor": 0
      },
      "text/plain": [
       "Validation: 0it [00:00, ?it/s]"
      ]
     },
     "metadata": {},
     "output_type": "display_data"
    },
    {
     "data": {
      "application/vnd.jupyter.widget-view+json": {
       "model_id": "72dc30fbf6214becbfe578445931f560",
       "version_major": 2,
       "version_minor": 0
      },
      "text/plain": [
       "Validation: 0it [00:00, ?it/s]"
      ]
     },
     "metadata": {},
     "output_type": "display_data"
    },
    {
     "data": {
      "application/vnd.jupyter.widget-view+json": {
       "model_id": "3e055125887748919f66207518abf88b",
       "version_major": 2,
       "version_minor": 0
      },
      "text/plain": [
       "Validation: 0it [00:00, ?it/s]"
      ]
     },
     "metadata": {},
     "output_type": "display_data"
    },
    {
     "data": {
      "application/vnd.jupyter.widget-view+json": {
       "model_id": "0e2383e8ae384d2b8e24a44fab43752b",
       "version_major": 2,
       "version_minor": 0
      },
      "text/plain": [
       "Validation: 0it [00:00, ?it/s]"
      ]
     },
     "metadata": {},
     "output_type": "display_data"
    },
    {
     "data": {
      "application/vnd.jupyter.widget-view+json": {
       "model_id": "9dec30fc3739441ab812c9c7b5ecb917",
       "version_major": 2,
       "version_minor": 0
      },
      "text/plain": [
       "Validation: 0it [00:00, ?it/s]"
      ]
     },
     "metadata": {},
     "output_type": "display_data"
    },
    {
     "data": {
      "application/vnd.jupyter.widget-view+json": {
       "model_id": "d97632290aef440eb3b18631442739a4",
       "version_major": 2,
       "version_minor": 0
      },
      "text/plain": [
       "Validation: 0it [00:00, ?it/s]"
      ]
     },
     "metadata": {},
     "output_type": "display_data"
    },
    {
     "data": {
      "application/vnd.jupyter.widget-view+json": {
       "model_id": "80870ef70a3944ae8db4dd298f946178",
       "version_major": 2,
       "version_minor": 0
      },
      "text/plain": [
       "Validation: 0it [00:00, ?it/s]"
      ]
     },
     "metadata": {},
     "output_type": "display_data"
    },
    {
     "data": {
      "application/vnd.jupyter.widget-view+json": {
       "model_id": "1ce2cfb989b84e20b9165c4db5d32e68",
       "version_major": 2,
       "version_minor": 0
      },
      "text/plain": [
       "Validation: 0it [00:00, ?it/s]"
      ]
     },
     "metadata": {},
     "output_type": "display_data"
    },
    {
     "data": {
      "application/vnd.jupyter.widget-view+json": {
       "model_id": "ba54eeab86644b7c9d221c97e51569cf",
       "version_major": 2,
       "version_minor": 0
      },
      "text/plain": [
       "Validation: 0it [00:00, ?it/s]"
      ]
     },
     "metadata": {},
     "output_type": "display_data"
    },
    {
     "data": {
      "application/vnd.jupyter.widget-view+json": {
       "model_id": "270917e936c8460ba5a0315a1718aed9",
       "version_major": 2,
       "version_minor": 0
      },
      "text/plain": [
       "Validation: 0it [00:00, ?it/s]"
      ]
     },
     "metadata": {},
     "output_type": "display_data"
    },
    {
     "data": {
      "application/vnd.jupyter.widget-view+json": {
       "model_id": "e19cadd3239a4a5186a92a8210e0a454",
       "version_major": 2,
       "version_minor": 0
      },
      "text/plain": [
       "Validation: 0it [00:00, ?it/s]"
      ]
     },
     "metadata": {},
     "output_type": "display_data"
    },
    {
     "data": {
      "application/vnd.jupyter.widget-view+json": {
       "model_id": "d621f3f8779843339c5467fdafc5937f",
       "version_major": 2,
       "version_minor": 0
      },
      "text/plain": [
       "Validation: 0it [00:00, ?it/s]"
      ]
     },
     "metadata": {},
     "output_type": "display_data"
    },
    {
     "data": {
      "application/vnd.jupyter.widget-view+json": {
       "model_id": "dc83a960c8e44d2f8d2243a2d93b9a06",
       "version_major": 2,
       "version_minor": 0
      },
      "text/plain": [
       "Validation: 0it [00:00, ?it/s]"
      ]
     },
     "metadata": {},
     "output_type": "display_data"
    },
    {
     "data": {
      "application/vnd.jupyter.widget-view+json": {
       "model_id": "c975f6edfb1644069ee5d8595c5d65fb",
       "version_major": 2,
       "version_minor": 0
      },
      "text/plain": [
       "Validation: 0it [00:00, ?it/s]"
      ]
     },
     "metadata": {},
     "output_type": "display_data"
    },
    {
     "data": {
      "application/vnd.jupyter.widget-view+json": {
       "model_id": "663a938f71e542c4b2e80d12ff2455c1",
       "version_major": 2,
       "version_minor": 0
      },
      "text/plain": [
       "Validation: 0it [00:00, ?it/s]"
      ]
     },
     "metadata": {},
     "output_type": "display_data"
    },
    {
     "data": {
      "application/vnd.jupyter.widget-view+json": {
       "model_id": "d1725f622c36467197b6b65e9ce84975",
       "version_major": 2,
       "version_minor": 0
      },
      "text/plain": [
       "Validation: 0it [00:00, ?it/s]"
      ]
     },
     "metadata": {},
     "output_type": "display_data"
    },
    {
     "data": {
      "application/vnd.jupyter.widget-view+json": {
       "model_id": "af1ae7577c994a9f82331909170fe21d",
       "version_major": 2,
       "version_minor": 0
      },
      "text/plain": [
       "Validation: 0it [00:00, ?it/s]"
      ]
     },
     "metadata": {},
     "output_type": "display_data"
    },
    {
     "data": {
      "application/vnd.jupyter.widget-view+json": {
       "model_id": "9f4721f1ad474434a84716fb5ef8f5b8",
       "version_major": 2,
       "version_minor": 0
      },
      "text/plain": [
       "Validation: 0it [00:00, ?it/s]"
      ]
     },
     "metadata": {},
     "output_type": "display_data"
    },
    {
     "data": {
      "application/vnd.jupyter.widget-view+json": {
       "model_id": "9450717565de439da67e13ff9cb331da",
       "version_major": 2,
       "version_minor": 0
      },
      "text/plain": [
       "Validation: 0it [00:00, ?it/s]"
      ]
     },
     "metadata": {},
     "output_type": "display_data"
    },
    {
     "data": {
      "application/vnd.jupyter.widget-view+json": {
       "model_id": "c4e0ad764bae45318f6b8558ca63a6ec",
       "version_major": 2,
       "version_minor": 0
      },
      "text/plain": [
       "Validation: 0it [00:00, ?it/s]"
      ]
     },
     "metadata": {},
     "output_type": "display_data"
    },
    {
     "data": {
      "application/vnd.jupyter.widget-view+json": {
       "model_id": "124df8bb3d5a4c7e9015f5069a23814e",
       "version_major": 2,
       "version_minor": 0
      },
      "text/plain": [
       "Validation: 0it [00:00, ?it/s]"
      ]
     },
     "metadata": {},
     "output_type": "display_data"
    },
    {
     "data": {
      "application/vnd.jupyter.widget-view+json": {
       "model_id": "467892e79609434093c36bb79f46a37f",
       "version_major": 2,
       "version_minor": 0
      },
      "text/plain": [
       "Validation: 0it [00:00, ?it/s]"
      ]
     },
     "metadata": {},
     "output_type": "display_data"
    },
    {
     "data": {
      "application/vnd.jupyter.widget-view+json": {
       "model_id": "8e5a66af97d14475b993c84a71d5fd80",
       "version_major": 2,
       "version_minor": 0
      },
      "text/plain": [
       "Validation: 0it [00:00, ?it/s]"
      ]
     },
     "metadata": {},
     "output_type": "display_data"
    },
    {
     "data": {
      "application/vnd.jupyter.widget-view+json": {
       "model_id": "346d2292bf804997b388e76ffbd78824",
       "version_major": 2,
       "version_minor": 0
      },
      "text/plain": [
       "Validation: 0it [00:00, ?it/s]"
      ]
     },
     "metadata": {},
     "output_type": "display_data"
    },
    {
     "data": {
      "application/vnd.jupyter.widget-view+json": {
       "model_id": "d5d36245d4664e179b81da0f62ebc024",
       "version_major": 2,
       "version_minor": 0
      },
      "text/plain": [
       "Validation: 0it [00:00, ?it/s]"
      ]
     },
     "metadata": {},
     "output_type": "display_data"
    },
    {
     "data": {
      "application/vnd.jupyter.widget-view+json": {
       "model_id": "bd2424ac068844d8a16358fdfb0de842",
       "version_major": 2,
       "version_minor": 0
      },
      "text/plain": [
       "Validation: 0it [00:00, ?it/s]"
      ]
     },
     "metadata": {},
     "output_type": "display_data"
    },
    {
     "data": {
      "application/vnd.jupyter.widget-view+json": {
       "model_id": "44ee6cddc33f4333ac2d7bf3b4187fe8",
       "version_major": 2,
       "version_minor": 0
      },
      "text/plain": [
       "Validation: 0it [00:00, ?it/s]"
      ]
     },
     "metadata": {},
     "output_type": "display_data"
    },
    {
     "data": {
      "application/vnd.jupyter.widget-view+json": {
       "model_id": "060d96a34b0c4e56abd25b3fd4631075",
       "version_major": 2,
       "version_minor": 0
      },
      "text/plain": [
       "Validation: 0it [00:00, ?it/s]"
      ]
     },
     "metadata": {},
     "output_type": "display_data"
    },
    {
     "name": "stderr",
     "output_type": "stream",
     "text": [
      "Exception ignored in: <function _releaseLock at 0x7f94f0b43b00>\n",
      "Traceback (most recent call last):\n",
      "  File \"/opt/conda/lib/python3.11/logging/__init__.py\", line 237, in _releaseLock\n",
      "    def _releaseLock():\n",
      "    \n",
      "KeyboardInterrupt: \n",
      "[rank: 0] Received SIGTERM: 15\n",
      "Bypassing SIGTERM: 15\n"
     ]
    }
   ],
   "source": [
    "trainer.fit(enc_dec_net, xy_train, xy_val) "
   ]
  },
  {
   "cell_type": "code",
   "execution_count": null,
   "id": "9aa3536b-174a-4330-a43a-fe75eb276797",
   "metadata": {},
   "outputs": [],
   "source": [
    "results = pd.read_csv(logger.log_dir+\"/metrics.csv\")\n",
    "results"
   ]
  },
  {
   "cell_type": "code",
   "execution_count": null,
   "id": "aea2f2ed-2f0b-4c86-8c06-d1594d8a282c",
   "metadata": {},
   "outputs": [],
   "source": [
    "plt.plot(results[\"epoch\"][np.logical_not(np.isnan(results[\"train_loss\"]))],\n",
    "         results[\"train_loss\"][np.logical_not(np.isnan(results[\"train_loss\"]))],\n",
    "         label=\"Training\")\n",
    "\n",
    "plt.plot(results[\"epoch\"][np.logical_not(np.isnan(results[\"val_loss\"]))], \n",
    "         results[\"val_loss\"][np.logical_not(np.isnan(results[\"val_loss\"]))], \n",
    "         label=\"Validation\")\n",
    "\n",
    "plt.legend() \n",
    "plt.ylabel(\"CCE Loss\") \n",
    "plt.xlabel(\"Epoch\") \n",
    "plt.show()"
   ]
  },
  {
   "cell_type": "code",
   "execution_count": null,
   "id": "ce8c93f3-affb-4002-b33d-a8cfc98225a8",
   "metadata": {},
   "outputs": [],
   "source": [
    "plt.plot(results[\"epoch\"][np.logical_not(np.isnan(results[\"train_acc\"]))], \n",
    "         results[\"train_acc\"][np.logical_not(np.isnan(results[\"train_acc\"]))], \n",
    "         label=\"Training\")\n",
    "plt.plot(results[\"epoch\"][np.logical_not(np.isnan(results[\"val_acc\"]))], \n",
    "         results[\"val_acc\"][np.logical_not(np.isnan(results[\"val_acc\"]))], \n",
    "         label=\"Validation\")\n",
    "\n",
    "plt.legend() \n",
    "plt.ylabel(\"Accuracy\")\n",
    "plt.xlabel(\"Epoch\") \n",
    "plt.show()"
   ]
  },
  {
   "cell_type": "code",
   "execution_count": null,
   "id": "f59b29d9-9376-4739-83c5-ad71e07cad1e",
   "metadata": {},
   "outputs": [],
   "source": [
    "print(\"\")\n",
    "print(\"Validation accuracy:\", *[\"%.8f\"%(x) for x in results['val_acc'][np.logical_not(np.isnan(results[\"val_acc\"]))]])\n",
    "print(\"\")\n",
    "print(\"\")"
   ]
  },
  {
   "cell_type": "code",
   "execution_count": null,
   "id": "1aea3039-504f-45c6-9c65-413e54d2b865",
   "metadata": {},
   "outputs": [],
   "source": []
  }
 ],
 "metadata": {
  "kernelspec": {
   "display_name": "Python 3 (ipykernel)",
   "language": "python",
   "name": "python3"
  },
  "language_info": {
   "codemirror_mode": {
    "name": "ipython",
    "version": 3
   },
   "file_extension": ".py",
   "mimetype": "text/x-python",
   "name": "python",
   "nbconvert_exporter": "python",
   "pygments_lexer": "ipython3",
   "version": "3.11.5"
  }
 },
 "nbformat": 4,
 "nbformat_minor": 5
}
