{
 "cells": [
  {
   "cell_type": "code",
   "execution_count": null,
   "id": "319d85c2-8a2f-494d-aabe-3d1150f102f3",
   "metadata": {},
   "outputs": [],
   "source": [
    "# Setup Imports\n",
    "import numpy as np\n",
    "import matplotlib.pyplot as plt\n",
    "\n",
    "# Loading Results from OL4.py app outputs\n",
    "results = [{\n",
    "        \"title\":\"Translation\",\n",
    "        \"data\": np.loadtxt(\"translation-results.txt\"),\n",
    "        \"limits\": [0.0, 0.5],\n",
    "    },{\n",
    "        \"title\":\"Parity\",\n",
    "        \"data\": np.loadtxt(\"parity-results.txt\"),\n",
    "        \"limits\": [0.44, 0.7],\n",
    "    }]\n"
   ]
  },
  {
   "cell_type": "code",
   "execution_count": null,
   "id": "5de51080-1159-4443-84b1-dd2202a399bc",
   "metadata": {},
   "outputs": [],
   "source": [
    "# Create a 1x2 grid for the Plots (subplots)\n",
    "fig, axes = plt.subplots(1, 2, figsize=(15, 6))\n",
    "\n",
    "# Default Values for all Plots\n",
    "for i, axis in enumerate(axes.ravel()):\n",
    "\n",
    "    # Setup Data Layers for Plots\n",
    "    axis.set_title(results[i][\"title\"])\n",
    "\n",
    "    axis.boxplot(results[i][\"data\"], notch=True)\n",
    "    axis.set_ylabel('Accuracy (P)')\n",
    "    axis.set_ylim(results[i][\"limits\"])\n",
    "    axis.set_xticks([1, 2], ['Simple', 'LSTM', 'Transformer'])\n",
    "\n",
    "\n",
    "# Adjust spacing between subplots\n",
    "plt.tight_layout()\n",
    "\n",
    "# Show the plots\n",
    "plt.show()"
   ]
  }
 ],
 "metadata": {
  "kernelspec": {
   "display_name": "Python 3 (ipykernel)",
   "language": "python",
   "name": "python3"
  },
  "language_info": {
   "codemirror_mode": {
    "name": "ipython",
    "version": 3
   },
   "file_extension": ".py",
   "mimetype": "text/x-python",
   "name": "python",
   "nbconvert_exporter": "python",
   "pygments_lexer": "ipython3",
   "version": "3.11.5"
  }
 },
 "nbformat": 4,
 "nbformat_minor": 5
}
